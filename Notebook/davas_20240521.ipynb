{
  "cells": [
    {
      "cell_type": "markdown",
      "metadata": {
        "id": "9mvYu-uGXxxF"
      },
      "source": [
        "# Domain Adaptation Via Activation Shaping"
      ]
    },
    {
      "cell_type": "markdown",
      "metadata": {
        "id": "GbNMNXu7XxxJ"
      },
      "source": [
        "**Teacher assistant** Iurada Leonardo\n",
        "\n",
        "**Students**\n",
        "\n",
        "- Bar Giorgio\n",
        "- Distefano Giuseppe\n",
        "- Incaviglia Salvatore"
      ]
    },
    {
      "cell_type": "markdown",
      "metadata": {
        "id": "bJix4fzIXxxK"
      },
      "source": [
        "## Code"
      ]
    },
    {
      "cell_type": "markdown",
      "metadata": {
        "id": "aqt8hJw4XxxL"
      },
      "source": [
        "### Libraries"
      ]
    },
    {
      "cell_type": "code",
      "execution_count": 1,
      "metadata": {
        "colab": {
          "base_uri": "https://localhost:8080/"
        },
        "id": "JLDdLrJbXxxL",
        "outputId": "983c7c10-d456-4e15-bc33-068ae4d72dac",
        "vscode": {
          "languageId": "python"
        }
      },
      "outputs": [
        {
          "output_type": "stream",
          "name": "stdout",
          "text": [
            "Requirement already satisfied: torch in /usr/local/lib/python3.10/dist-packages (2.2.1+cu121)\n",
            "Requirement already satisfied: torchvision in /usr/local/lib/python3.10/dist-packages (0.17.1+cu121)\n",
            "Requirement already satisfied: tqdm in /usr/local/lib/python3.10/dist-packages (4.66.4)\n",
            "Collecting torchmetrics\n",
            "  Downloading torchmetrics-1.4.0.post0-py3-none-any.whl (868 kB)\n",
            "\u001b[2K     \u001b[90m━━━━━━━━━━━━━━━━━━━━━━━━━━━━━━━━━━━━━━━━\u001b[0m \u001b[32m868.8/868.8 kB\u001b[0m \u001b[31m9.6 MB/s\u001b[0m eta \u001b[36m0:00:00\u001b[0m\n",
            "\u001b[?25hRequirement already satisfied: filelock in /usr/local/lib/python3.10/dist-packages (from torch) (3.14.0)\n",
            "Requirement already satisfied: typing-extensions>=4.8.0 in /usr/local/lib/python3.10/dist-packages (from torch) (4.11.0)\n",
            "Requirement already satisfied: sympy in /usr/local/lib/python3.10/dist-packages (from torch) (1.12)\n",
            "Requirement already satisfied: networkx in /usr/local/lib/python3.10/dist-packages (from torch) (3.3)\n",
            "Requirement already satisfied: jinja2 in /usr/local/lib/python3.10/dist-packages (from torch) (3.1.4)\n",
            "Requirement already satisfied: fsspec in /usr/local/lib/python3.10/dist-packages (from torch) (2023.6.0)\n",
            "Collecting nvidia-cuda-nvrtc-cu12==12.1.105 (from torch)\n",
            "  Using cached nvidia_cuda_nvrtc_cu12-12.1.105-py3-none-manylinux1_x86_64.whl (23.7 MB)\n",
            "Collecting nvidia-cuda-runtime-cu12==12.1.105 (from torch)\n",
            "  Using cached nvidia_cuda_runtime_cu12-12.1.105-py3-none-manylinux1_x86_64.whl (823 kB)\n",
            "Collecting nvidia-cuda-cupti-cu12==12.1.105 (from torch)\n",
            "  Using cached nvidia_cuda_cupti_cu12-12.1.105-py3-none-manylinux1_x86_64.whl (14.1 MB)\n",
            "Collecting nvidia-cudnn-cu12==8.9.2.26 (from torch)\n",
            "  Using cached nvidia_cudnn_cu12-8.9.2.26-py3-none-manylinux1_x86_64.whl (731.7 MB)\n",
            "Collecting nvidia-cublas-cu12==12.1.3.1 (from torch)\n",
            "  Using cached nvidia_cublas_cu12-12.1.3.1-py3-none-manylinux1_x86_64.whl (410.6 MB)\n",
            "Collecting nvidia-cufft-cu12==11.0.2.54 (from torch)\n",
            "  Using cached nvidia_cufft_cu12-11.0.2.54-py3-none-manylinux1_x86_64.whl (121.6 MB)\n",
            "Collecting nvidia-curand-cu12==10.3.2.106 (from torch)\n",
            "  Using cached nvidia_curand_cu12-10.3.2.106-py3-none-manylinux1_x86_64.whl (56.5 MB)\n",
            "Collecting nvidia-cusolver-cu12==11.4.5.107 (from torch)\n",
            "  Using cached nvidia_cusolver_cu12-11.4.5.107-py3-none-manylinux1_x86_64.whl (124.2 MB)\n",
            "Collecting nvidia-cusparse-cu12==12.1.0.106 (from torch)\n",
            "  Using cached nvidia_cusparse_cu12-12.1.0.106-py3-none-manylinux1_x86_64.whl (196.0 MB)\n",
            "Collecting nvidia-nccl-cu12==2.19.3 (from torch)\n",
            "  Using cached nvidia_nccl_cu12-2.19.3-py3-none-manylinux1_x86_64.whl (166.0 MB)\n",
            "Collecting nvidia-nvtx-cu12==12.1.105 (from torch)\n",
            "  Using cached nvidia_nvtx_cu12-12.1.105-py3-none-manylinux1_x86_64.whl (99 kB)\n",
            "Requirement already satisfied: triton==2.2.0 in /usr/local/lib/python3.10/dist-packages (from torch) (2.2.0)\n",
            "Collecting nvidia-nvjitlink-cu12 (from nvidia-cusolver-cu12==11.4.5.107->torch)\n",
            "  Using cached nvidia_nvjitlink_cu12-12.4.127-py3-none-manylinux2014_x86_64.whl (21.1 MB)\n",
            "Requirement already satisfied: numpy in /usr/local/lib/python3.10/dist-packages (from torchvision) (1.25.2)\n",
            "Requirement already satisfied: pillow!=8.3.*,>=5.3.0 in /usr/local/lib/python3.10/dist-packages (from torchvision) (9.4.0)\n",
            "Requirement already satisfied: packaging>17.1 in /usr/local/lib/python3.10/dist-packages (from torchmetrics) (24.0)\n",
            "Collecting lightning-utilities>=0.8.0 (from torchmetrics)\n",
            "  Downloading lightning_utilities-0.11.2-py3-none-any.whl (26 kB)\n",
            "Requirement already satisfied: setuptools in /usr/local/lib/python3.10/dist-packages (from lightning-utilities>=0.8.0->torchmetrics) (67.7.2)\n",
            "Requirement already satisfied: MarkupSafe>=2.0 in /usr/local/lib/python3.10/dist-packages (from jinja2->torch) (2.1.5)\n",
            "Requirement already satisfied: mpmath>=0.19 in /usr/local/lib/python3.10/dist-packages (from sympy->torch) (1.3.0)\n",
            "Installing collected packages: nvidia-nvtx-cu12, nvidia-nvjitlink-cu12, nvidia-nccl-cu12, nvidia-curand-cu12, nvidia-cufft-cu12, nvidia-cuda-runtime-cu12, nvidia-cuda-nvrtc-cu12, nvidia-cuda-cupti-cu12, nvidia-cublas-cu12, lightning-utilities, nvidia-cusparse-cu12, nvidia-cudnn-cu12, nvidia-cusolver-cu12, torchmetrics\n",
            "Successfully installed lightning-utilities-0.11.2 nvidia-cublas-cu12-12.1.3.1 nvidia-cuda-cupti-cu12-12.1.105 nvidia-cuda-nvrtc-cu12-12.1.105 nvidia-cuda-runtime-cu12-12.1.105 nvidia-cudnn-cu12-8.9.2.26 nvidia-cufft-cu12-11.0.2.54 nvidia-curand-cu12-10.3.2.106 nvidia-cusolver-cu12-11.4.5.107 nvidia-cusparse-cu12-12.1.0.106 nvidia-nccl-cu12-2.19.3 nvidia-nvjitlink-cu12-12.4.127 nvidia-nvtx-cu12-12.1.105 torchmetrics-1.4.0.post0\n"
          ]
        }
      ],
      "source": [
        "!pip install torch torchvision tqdm torchmetrics\n",
        "\n",
        "import torch\n",
        "\n",
        "import torch.backends.mps\n",
        "from argparse import ArgumentParser\n",
        "\n",
        "import os\n",
        "import torchvision.transforms as T\n",
        "\n",
        "from torch.utils.data import Dataset, DataLoader\n",
        "from torchvision.datasets import CIFAR10\n",
        "\n",
        "import numpy as np\n",
        "import random\n",
        "from PIL import Image\n",
        "\n",
        "import torch.nn as nn\n",
        "from torchvision.models import resnet18, ResNet18_Weights\n",
        "\n",
        "import torch.nn.functional as F\n",
        "from torchmetrics import Accuracy\n",
        "from tqdm import tqdm\n",
        "\n",
        "import logging\n",
        "import warnings\n",
        "\n",
        "import argparse"
      ]
    },
    {
      "cell_type": "markdown",
      "metadata": {
        "id": "GOw5DqRaXxxM"
      },
      "source": [
        "### Setup PACS dataset and environment"
      ]
    },
    {
      "cell_type": "code",
      "execution_count": 2,
      "metadata": {
        "colab": {
          "base_uri": "https://localhost:8080/"
        },
        "id": "jMUnh8K_XxxN",
        "outputId": "0be3db32-8425-4680-c8c2-8dc18231df72",
        "vscode": {
          "languageId": "python"
        }
      },
      "outputs": [
        {
          "output_type": "stream",
          "name": "stdout",
          "text": [
            "Cloning into 'Homework3-PACS'...\n",
            "remote: Enumerating objects: 10032, done.\u001b[K\n",
            "remote: Total 10032 (delta 0), reused 0 (delta 0), pack-reused 10032\u001b[K\n",
            "Receiving objects: 100% (10032/10032), 174.13 MiB | 24.77 MiB/s, done.\n",
            "Resolving deltas: 100% (1/1), done.\n",
            "Updating files: 100% (9993/9993), done.\n",
            "Cloning into 'DANN_Template'...\n",
            "remote: Enumerating objects: 23, done.\u001b[K\n",
            "remote: Total 23 (delta 0), reused 0 (delta 0), pack-reused 23\u001b[K\n",
            "Receiving objects: 100% (23/23), 33.86 KiB | 3.08 MiB/s, done.\n",
            "Resolving deltas: 100% (5/5), done.\n"
          ]
        }
      ],
      "source": [
        "# Download PACS Dataset Images and Labels\n",
        "!git clone https://github.com/MachineLearning2020/Homework3-PACS/\n",
        "!git clone https://github.com/silvia1993/DANN_Template/\n",
        "\n",
        "# Setup data\n",
        "!rm -rf data || true\n",
        "!rm -rf record || true\n",
        "!mkdir data\n",
        "!mkdir data/kfold\n",
        "!cp -r Homework3-PACS/PACS/ data/kfold\n",
        "!cp DANN_Template/txt_lists/*.txt data\n",
        "!rm -rf Homework3-PACS/\n",
        "!rm -rf DANN_Template/\n",
        "!rm -rf sample_data || true"
      ]
    },
    {
      "cell_type": "markdown",
      "metadata": {
        "id": "ERngXRoaXxxO"
      },
      "source": [
        "### Globals"
      ]
    },
    {
      "cell_type": "markdown",
      "metadata": {
        "id": "dU8mOpx1XxxP"
      },
      "source": [
        "#### globals"
      ]
    },
    {
      "cell_type": "code",
      "execution_count": 3,
      "metadata": {
        "id": "3RQvEDBdXxxR",
        "vscode": {
          "languageId": "python"
        }
      },
      "outputs": [],
      "source": [
        "class dotdict(dict):\n",
        "    \"\"\"dot.notation access to dictionary attributes\"\"\"\n",
        "    __getattr__ = dict.get\n",
        "    __setattr__ = dict.__setitem__\n",
        "    __delattr__ = dict.__delitem__\n",
        "\n",
        "CONFIG = dotdict({})\n",
        "\n",
        "if torch.cuda.is_available():\n",
        "    CONFIG.device = 'cuda'\n",
        "elif torch.backends.mps.is_available() and torch.backends.mps.is_built():\n",
        "    CONFIG.device = 'mps'\n",
        "else:\n",
        "    CONFIG.device = 'cpu'\n",
        "\n",
        "CONFIG.dtype = torch.float32"
      ]
    },
    {
      "cell_type": "markdown",
      "metadata": {
        "id": "RxUjHKL_XxxR"
      },
      "source": [
        "#### parse args"
      ]
    },
    {
      "cell_type": "code",
      "execution_count": 4,
      "metadata": {
        "id": "ri1QrU7_vmvz",
        "vscode": {
          "languageId": "python"
        }
      },
      "outputs": [],
      "source": [
        "def _clear_args(parsed_args):\n",
        "    parsed_args.experiment_args = eval(parsed_args.experiment_args)\n",
        "    parsed_args.dataset_args = eval(parsed_args.dataset_args)\n",
        "    return parsed_args\n",
        "\n",
        "\n",
        "def parse_arguments():\n",
        "    parser = ArgumentParser()\n",
        "\n",
        "    parser.add_argument('--seed', type=int, default=0, help='Seed used for deterministic behavior')\n",
        "    parser.add_argument('--test_only', action='store_true', help='Whether to skip training')\n",
        "    parser.add_argument('--cpu', action='store_true', help='Whether to force the usage of CPU')\n",
        "\n",
        "    parser.add_argument('--experiment', type=str, default='baseline')\n",
        "    parser.add_argument('--experiment_name', type=str, default='baseline')\n",
        "    parser.add_argument('--experiment_args', type=str, default='{}')\n",
        "    parser.add_argument('--dataset_args', type=str, default='{}')\n",
        "\n",
        "    parser.add_argument('--batch_size', type=int, default=128)\n",
        "    parser.add_argument('--epochs', type=int, default=30)\n",
        "    parser.add_argument('--num_workers', type=int, default=5)\n",
        "    parser.add_argument('--grad_accum_steps', type=int, default=1)\n",
        "\n",
        "    return _clear_args(parser.parse_args())"
      ]
    },
    {
      "cell_type": "markdown",
      "metadata": {
        "id": "l7_xoRWhvmvz"
      },
      "source": [
        "#### Global variables"
      ]
    },
    {
      "cell_type": "code",
      "execution_count": 5,
      "metadata": {
        "id": "GA15sREQvmvz",
        "vscode": {
          "languageId": "python"
        }
      },
      "outputs": [],
      "source": [
        "DEVICE = 'cuda' if torch.cuda.is_available() else 'cpu'\n",
        "NUM_CLASSES = 7\n",
        "BATCH_SIZE = 256\n",
        "LR = 1e-3               # The initial Learning Rate\n",
        "MOMENTUM = 0.9          # Hyperparameter for SGD, keep this at 0.9 when using SGD\n",
        "WEIGHT_DECAY = 5e-5     # Regularization, you can keep this at the default\n",
        "NUM_EPOCHS = 30         # Total number of training epochs (iterations over dataset)\n",
        "STEP_SIZE = 20          # How many epochs before decreasing learning rate (if using a step-down policy)\n",
        "GAMMA = 0.1             # Multiplicative factor for learning rate step-down\n",
        "\n",
        "LOG_FREQUENCY = 10"
      ]
    },
    {
      "cell_type": "markdown",
      "metadata": {
        "id": "UjcULfoOvmv0"
      },
      "source": [
        "### Dataset"
      ]
    },
    {
      "cell_type": "markdown",
      "metadata": {
        "id": "2juNIEQ9vmv0"
      },
      "source": [
        "#### utils"
      ]
    },
    {
      "cell_type": "code",
      "execution_count": 6,
      "metadata": {
        "id": "XSPzZSuSvmv0",
        "vscode": {
          "languageId": "python"
        }
      },
      "outputs": [],
      "source": [
        "class BaseDataset(Dataset):\n",
        "    def __init__(self, examples, transform):\n",
        "        self.examples = examples\n",
        "        self.T = transform\n",
        "\n",
        "\n",
        "    def __len__(self):\n",
        "        return len(self.examples)\n",
        "\n",
        "\n",
        "    def __getitem__(self, index):\n",
        "        x, y = self.examples[index]\n",
        "        x = Image.open(x).convert('RGB')\n",
        "        x = self.T(x).to(CONFIG.dtype)\n",
        "        y = torch.tensor(y).long()\n",
        "        return x, y\n",
        "\n",
        "######################################################\n",
        "\n",
        "class DomainAdaptationDataset(Dataset):\n",
        "    def __init__(self, source_examples, target_examples, transform):\n",
        "        self.source_examples = source_examples\n",
        "        self.target_examples = target_examples\n",
        "        self.T = transform\n",
        "\n",
        "\n",
        "    def __len__(self):\n",
        "        return len(self.source_examples)\n",
        "\n",
        "\n",
        "    def __getitem__(self, index):\n",
        "        src_x, src_y = self.source_examples[index]\n",
        "        src_x = Image.open(src_x).convert('RGB')\n",
        "        src_x = self.T(src_x).to(CONFIG.dtype)\n",
        "        src_y = torch.tensor(src_y).long()\n",
        "\n",
        "        # randomly sample 'target_examples' to obtain targ_x\n",
        "        target_idx = torch.randint(len(self.target_examples), size=(1,)).item()\n",
        "        targ_x, _ = self.target_examples[target_idx]\n",
        "        targ_x = Image.open(targ_x).convert('RGB')\n",
        "        targ_x = self.T(targ_x).to(CONFIG.dtype)\n",
        "\n",
        "        return src_x, src_y, targ_x\n",
        "\n",
        "######################################################\n",
        "\n",
        "# [OPTIONAL] TODO: modify 'BaseDataset' for the Domain Generalization setting.\n",
        "# Hint: combine the examples from the 3 source domains into a single 'examples' list\n",
        "#class DomainGeneralizationDataset(Dataset):\n",
        "#    def __init__(self, examples, transform):\n",
        "#        self.examples = examples\n",
        "#        self.T = transform\n",
        "#\n",
        "#    def __len__(self):\n",
        "#        return len(self.examples)\n",
        "#\n",
        "#    def __getitem__(self, index):\n",
        "#        x1, x2, x3 = self.examples[index]\n",
        "#        x1, x2, x3 = self.T(x1), self.T(x2), self.T(x3)\n",
        "#        targ_x = self.T(targ_x)\n",
        "#        return x1, x2, x3\n",
        "\n",
        "######################################################\n",
        "\n",
        "class SeededDataLoader(DataLoader):\n",
        "    def __init__(self, dataset: Dataset, batch_size=1, shuffle=None,\n",
        "                sampler=None,\n",
        "                batch_sampler=None,\n",
        "                num_workers=0, collate_fn=None,\n",
        "                pin_memory=False, drop_last=False, timeout=0,\n",
        "                worker_init_fn=None, multiprocessing_context=None,\n",
        "                generator=None, *, prefetch_factor=None, persistent_workers=False,\n",
        "                pin_memory_device=\"\"):\n",
        "\n",
        "        if not CONFIG.use_nondeterministic:\n",
        "            def seed_worker(worker_id):\n",
        "                worker_seed = torch.initial_seed() % 2**32\n",
        "                np.random.seed(worker_seed)\n",
        "                random.seed(worker_seed)\n",
        "\n",
        "            generator = torch.Generator()\n",
        "            generator.manual_seed(CONFIG.seed)\n",
        "\n",
        "            worker_init_fn = seed_worker\n",
        "\n",
        "        super().__init__(dataset, batch_size, shuffle, sampler, batch_sampler, num_workers, collate_fn,\n",
        "                        pin_memory, drop_last, timeout, worker_init_fn, multiprocessing_context, generator,\n",
        "                        prefetch_factor=prefetch_factor, persistent_workers=persistent_workers,\n",
        "                        pin_memory_device=pin_memory_device)"
      ]
    },
    {
      "cell_type": "markdown",
      "metadata": {
        "id": "8COjLe2Fvmv0"
      },
      "source": [
        "#### PACS"
      ]
    },
    {
      "cell_type": "code",
      "execution_count": 7,
      "metadata": {
        "id": "qJ3cq4Ofvmv1",
        "vscode": {
          "languageId": "python"
        }
      },
      "outputs": [],
      "source": [
        "def get_transform(size, mean, std, preprocess):\n",
        "    transform = []\n",
        "    if preprocess:\n",
        "        transform.append(T.Resize(256))\n",
        "        transform.append(T.RandomResizedCrop(size=size, scale=(0.7, 1.0)))\n",
        "        transform.append(T.RandomHorizontalFlip())\n",
        "    else:\n",
        "        transform.append(T.Resize(size))\n",
        "    transform.append(T.ToTensor())\n",
        "    transform.append(T.Normalize(mean, std))\n",
        "    return T.Compose(transform)\n",
        "\n",
        "\n",
        "def load_data():\n",
        "    CONFIG.num_classes = 7\n",
        "    CONFIG.data_input_size = (3, 224, 224)\n",
        "\n",
        "    # Create transforms\n",
        "    mean, std = (0.485, 0.456, 0.406), (0.229, 0.224, 0.225) # ImageNet Pretrain statistics\n",
        "    train_transform = get_transform(size=224, mean=mean, std=std, preprocess=True)\n",
        "    test_transform = get_transform(size=224, mean=mean, std=std, preprocess=False)\n",
        "\n",
        "    # Load examples\n",
        "    source_examples, target_examples = [], []\n",
        "    if CONFIG.experiment in ['baseline', 'random', 'domain_adaptation','extension2_1_2','extension2_1_3','extension2_2_2','extension2_2_3']:\n",
        "        # Load source\n",
        "        f = open(os.path.join(CONFIG.dataset_args['text_root'], f\"{CONFIG.dataset_args['source_domain']}.txt\"), 'r')\n",
        "        for line in f:\n",
        "            line = line.strip().split()\n",
        "            path, label = line[0].split('/')[0:], int(line[1])\n",
        "            source_examples.append((os.path.join(CONFIG.dataset_args['images_root'], *path), label))\n",
        "        f.close()\n",
        "\n",
        "        # Load target\n",
        "        f = open(os.path.join(CONFIG.dataset_args['text_root'], f\"{CONFIG.dataset_args['target_domain']}.txt\"), 'r')\n",
        "        for line in f:\n",
        "            line = line.strip().split()\n",
        "            path, label = line[0].split('/')[0:], int(line[1])\n",
        "            target_examples.append((os.path.join(CONFIG.dataset_args['images_root'], *path), label))\n",
        "        f.close()\n",
        "\n",
        "    # create Dataset object for the baseline and the Random Maps Ablation experiments\n",
        "    if CONFIG.experiment in ['baseline', 'random','extension2_1_2','extension2_2_2']:\n",
        "        train_dataset = BaseDataset(source_examples, transform=train_transform)\n",
        "        test_dataset = BaseDataset(target_examples, transform=test_transform)\n",
        "\n",
        "    # create Dataset object for the Domain Adaptation experiments\n",
        "    if CONFIG.experiment in ['domain_adaptation','extension2_1_3','extension2_2_3']:\n",
        "        train_dataset = DomainAdaptationDataset(source_examples, target_examples, transform=train_transform)\n",
        "        test_dataset = BaseDataset(target_examples, transform=test_transform)\n",
        "\n",
        "    ######################################################\n",
        "\n",
        "    # Dataloaders\n",
        "    train_loader = SeededDataLoader(\n",
        "        train_dataset,\n",
        "        batch_size=CONFIG.batch_size,\n",
        "        shuffle=True,\n",
        "        num_workers=CONFIG.num_workers,\n",
        "        pin_memory=True,\n",
        "        persistent_workers=True\n",
        "    )\n",
        "\n",
        "    test_loader = SeededDataLoader(\n",
        "        test_dataset,\n",
        "        batch_size=CONFIG.batch_size,\n",
        "        shuffle=False,\n",
        "        num_workers=CONFIG.num_workers,\n",
        "        pin_memory=True,\n",
        "        persistent_workers=True\n",
        "    )\n",
        "\n",
        "    return {'train': train_loader, 'test': test_loader}"
      ]
    },
    {
      "cell_type": "markdown",
      "metadata": {
        "id": "pDUK98dRvmv1"
      },
      "source": [
        "### Models"
      ]
    },
    {
      "cell_type": "markdown",
      "metadata": {
        "id": "kRb0wPBTvmv1"
      },
      "source": [
        "#### Base ResNet 18"
      ]
    },
    {
      "cell_type": "code",
      "execution_count": 9,
      "metadata": {
        "id": "RT5Z64b0vmv1",
        "vscode": {
          "languageId": "python"
        }
      },
      "outputs": [],
      "source": [
        "class BaseResNet18(nn.Module):\n",
        "    def __init__(self):\n",
        "        super(BaseResNet18, self).__init__()\n",
        "        self.resnet = resnet18(weights=ResNet18_Weights)\n",
        "        self.resnet.fc = nn.Linear(self.resnet.fc.in_features, 7)\n",
        "\n",
        "\n",
        "    def forward(self, x):\n",
        "        return self.resnet(x)"
      ]
    },
    {
      "cell_type": "markdown",
      "metadata": {
        "id": "nRnqcOEM1H3G"
      },
      "source": [
        "#### ASH ResNet 18"
      ]
    },
    {
      "cell_type": "code",
      "execution_count": 10,
      "metadata": {
        "id": "2gaQKaiO1H3G",
        "vscode": {
          "languageId": "python"
        }
      },
      "outputs": [],
      "source": [
        "# 'BaseResNet18' including the Activation Shaping Module for Random Maps Ablation\n",
        "class ASHResNet18(nn.Module):\n",
        "    def __init__(self):\n",
        "        super(ASHResNet18, self).__init__()\n",
        "        self.resnet = resnet18(weights=ResNet18_Weights)\n",
        "        self.resnet.fc = nn.Linear(self.resnet.fc.in_features, 7)\n",
        "\n",
        "        self.hook_handles = {}\n",
        "\n",
        "\n",
        "    def get_random_activation_map_hook(self, mask_out_ratio):\n",
        "\n",
        "        # Activation Shaping Module as a function that shall be hooked via 'register_forward_hook'\n",
        "        # The hook captures the mask_out_ratio from the parent scope\n",
        "\n",
        "        def random_activation_map_hook(module, input, output):\n",
        "            # create a mask tensor with a given ratio of zeros\n",
        "            #print('mask_out_ratio: ', mask_out_ratio)\n",
        "            rand_mat = torch.rand_like(output)\n",
        "            mask = torch.where(rand_mat <= mask_out_ratio, 0.0, 1.0)\n",
        "            #print('random_mask sum(): ', mask.sum())\n",
        "\n",
        "            # binarize both activation map and mask using zero as threshold\n",
        "            A_binary = torch.where(output<=0, 0.0, 1.0)\n",
        "            M_binary = torch.where(mask<=0, 0.0, 1.0)\n",
        "\n",
        "            # return the element-wise product of activation map and mask\n",
        "            shaped_output = A_binary * M_binary\n",
        "            return shaped_output\n",
        "\n",
        "        return random_activation_map_hook\n",
        "\n",
        "\n",
        "    def get_random_activation_map_hook_no_binarization(self, mask_out_ratio):\n",
        "        # do not binarize the activation map produced by the current layer.\n",
        "        def random_activation_map_hook_no_binarization(module, input, output):\n",
        "            # create a mask tensor with a given ratio of zeros\n",
        "            #print('mask_out_ratio: ', mask_out_ratio)\n",
        "            rand_mat = torch.rand_like(output)\n",
        "            mask = torch.where(rand_mat <= mask_out_ratio, 0.0, 1.0)\n",
        "            #print('random_mask sum(): ', mask.sum())\n",
        "\n",
        "            # return the element-wise product of activation map and mask\n",
        "            A = output.detach()\n",
        "            shaped_output = A * mask\n",
        "            return shaped_output\n",
        "\n",
        "        return random_activation_map_hook_no_binarization\n",
        "\n",
        "    def get_random_activation_map_hook_top_k(self, mask_out_ratio, k):\n",
        "\n",
        "        # Binarize the mask M, compute the Top K values of the activation map A and\n",
        "        # set all the elements of M that are not in the Top K to zero. Then, multiply A and M\n",
        "\n",
        "        def random_activation_map_hook_top_k(module, input, output):\n",
        "            # print('mask_out_ratio: ', mask_out_ratio, 'activation map size: ', output.size(), 'k: ', k)\n",
        "\n",
        "            # create a mask tensor with a given ratio of zeros\n",
        "            rand_mat = torch.rand_like(output)\n",
        "            mask = torch.where(rand_mat <= mask_out_ratio, 0.0, 1.0)\n",
        "            # print('random_mask sum(): ', mask.sum())\n",
        "\n",
        "            # binarize both activation map and mask using zero as threshold\n",
        "            # A_binary = torch.where(output<=0, 0.0, 1.0)\n",
        "            # M_binary = torch.where(mask<=0, 0.0, 1.0)\n",
        "\n",
        "            A = output.detach()\n",
        "            A_flat = A.reshape(*A.shape[:-2],-1)\n",
        "            # Compute the actual value of k given the shape of the activation map\n",
        "            actual_k_value = int(k*A_flat.shape[-1])\n",
        "            # print(f'actual_k_value: {actual_k_value}')\n",
        "            # If largest is False then the k smallest elements are returned.\n",
        "            _, indices = torch.topk(A_flat, k=A_flat.shape[-1] - actual_k_value, largest=False)\n",
        "\n",
        "            # Set all the elements of M that are not in the Top K to zero\n",
        "            M_flat = mask.reshape(*mask.shape[:-2],-1)\n",
        "            M_flat.scatter_(2, indices, 0.0)\n",
        "            M = M_flat.reshape(*mask.shape)\n",
        "\n",
        "            # return the element-wise product of activation map and mask\n",
        "            # shaped_output = A * M\n",
        "            return output * M\n",
        "            # return shaped_output\n",
        "\n",
        "        return random_activation_map_hook_top_k\n",
        "\n",
        "    def get_k(self, layer_name, k_values):\n",
        "        stage=int(layer_name.split('.')[0].replace('layer','')) -1\n",
        "        return k_values[stage]\n",
        "\n",
        "    def register_random_activation_maps_hooks(self, module_placement, mask_out_ratio, binarize=True, top_k=False, k_values=None):\n",
        "        for layer_name, module in self.resnet.named_modules():\n",
        "            if ((isinstance(module, nn.ReLU) or isinstance(module, nn.Conv2d) or isinstance(module, nn.BatchNorm2d))):\n",
        "                if layer_name in module_placement:\n",
        "                    # print(f'Register a hook to perform Random Maps Ablation on layer {layer_name} Binarize (both): {binarize} Top-K: {top_k}')\n",
        "                    if binarize:\n",
        "                        hook = self.get_random_activation_map_hook(mask_out_ratio)\n",
        "                    else:\n",
        "                        if not top_k:\n",
        "                            hook = self.get_random_activation_map_hook_no_binarization(mask_out_ratio)\n",
        "                        else:\n",
        "                            k = self.get_k(layer_name, k_values)\n",
        "                            hook = self.get_random_activation_map_hook_top_k(mask_out_ratio, k)\n",
        "                    self.hook_handles[layer_name] = module.register_forward_hook(hook)\n",
        "\n",
        "\n",
        "    def remove_random_activation_maps_hooks(self):\n",
        "        for layer_name, handle in self.hook_handles.items():\n",
        "            #print('Remove the hook used to perform Activation Shaping on layer ', layer_name)\n",
        "            handle.remove()\n",
        "\n",
        "\n",
        "    def forward(self, x):\n",
        "        return self.resnet(x)"
      ]
    },
    {
      "cell_type": "markdown",
      "metadata": {
        "id": "AvHbJLPmUS2B"
      },
      "source": [
        "#### ResNet 18 for Domain Adaptation"
      ]
    },
    {
      "cell_type": "code",
      "execution_count": 11,
      "metadata": {
        "id": "sJw5hX2lUS2C",
        "vscode": {
          "languageId": "python"
        }
      },
      "outputs": [],
      "source": [
        "# 'BaseResNet18' including the Activation Shaping Module for Domain Adaptation\n",
        "class DAResNet18(nn.Module):\n",
        "    def __init__(self, module_placement=None):\n",
        "        super(DAResNet18, self).__init__()\n",
        "        self.resnet = resnet18(weights=ResNet18_Weights)\n",
        "        self.resnet.fc = nn.Linear(self.resnet.fc.in_features, 7)\n",
        "\n",
        "        self.activation_maps = {}\n",
        "        self.activation_map_hook_handles = {}\n",
        "        self.activation_shaping_hook_handles = {}\n",
        "\n",
        "\n",
        "    def get_extract_activation_map_hook(self, layer_name):\n",
        "        def extract_activation_map_hook(module, input, output):\n",
        "            self.activation_maps[layer_name] = output.detach().clone()\n",
        "        return extract_activation_map_hook\n",
        "\n",
        "\n",
        "    def get_activation_shaping_hook (self, mask):\n",
        "        # Activation Shaping Module as a function that shall be hooked via 'register_forward_hook'\n",
        "        # The hook captures mask variable from the parent scope, to update it,\n",
        "        # remove() the hook and register a new one with the updated mask.\n",
        "\n",
        "        def activation_shaping_hook(module, input, output):\n",
        "            # print('ASH module registered on: ', module, 'mask shape: ', mask.shape, 'mask sum(): ', mask.sum())\n",
        "\n",
        "            # binarize both activation map and mask using zero as threshold\n",
        "            A_binary = torch.where(output<=0, 0.0, 1.0)\n",
        "            M_binary = torch.where(mask<=0, 0.0, 1.0)\n",
        "\n",
        "            # return the element-wise product of activation map and mask\n",
        "            shaped_output = A_binary * M_binary\n",
        "            return shaped_output\n",
        "\n",
        "        return activation_shaping_hook\n",
        "\n",
        "\n",
        "    def get_activation_shaping_hook_no_binarization (self, mask):\n",
        "        # Instead of binarizing the mask, keep it as it is and simply multiply it with the activation map produced by the current layer\n",
        "        def activation_shaping_hook_no_binarization(module, input, output):\n",
        "            # print('ASH module registered on: ', module, 'mask shape: ', mask.shape, 'mask sum(): ', mask.sum())\n",
        "\n",
        "            # return the element-wise product of activation map and mask\n",
        "            A = output.detach()\n",
        "            shaped_output = A * mask\n",
        "            return shaped_output\n",
        "\n",
        "        return activation_shaping_hook_no_binarization\n",
        "\n",
        "    def get_activation_shaping_hook_top_k(self, mask, k):\n",
        "\n",
        "        # Binarize the mask M, compute the Top K values of the activation map A and\n",
        "        # set all the elements of M that are not in the Top K to zero. Then, multiply A and M\n",
        "\n",
        "        def activation_shaping_hook_top_k(module, input, output):\n",
        "            # print('activation map size: ', output.size(), 'k: ', k)\n",
        "\n",
        "            # binarize the mask using zero as threshold\n",
        "            M_binary = torch.where(mask<=0, 0.0, 1.0)\n",
        "\n",
        "            A = output.detach()\n",
        "            A_flat = A.reshape(*A.shape[:-2],-1)\n",
        "            # Compute the actual value of k given the shape of the activation map\n",
        "            actual_k_value = int(k*A_flat.shape[-1])\n",
        "            # print(f'actual_k_value: {actual_k_value}')\n",
        "            # If largest is False then the k smallest elements are returned.\n",
        "            _, indices = torch.topk(A_flat, k=A_flat.shape[-1] - actual_k_value, largest=False)\n",
        "\n",
        "            # Set all the elements of M that are not in the Top K to zero\n",
        "            M_flat = M_binary.reshape(*M_binary.shape[:-2],-1)\n",
        "            M_flat.scatter_(2, indices, 0.0)\n",
        "            M = M_flat.reshape(*M_binary.shape)\n",
        "\n",
        "            # return the element-wise product of activation map and mask\n",
        "            # shaped_output = A * M\n",
        "            return output * M\n",
        "            # return shaped_output\n",
        "\n",
        "        return activation_shaping_hook_top_k\n",
        "\n",
        "    def register_extract_activation_map_hooks(self, module_placement):\n",
        "        # Register hook(s) (1st hook) to store activation map\n",
        "        for layer_name, module in self.resnet.named_modules():\n",
        "            if ((isinstance(module, nn.ReLU) or isinstance(module, nn.Conv2d) or isinstance(module, nn.BatchNorm2d))):\n",
        "                if layer_name in module_placement:\n",
        "                    #print('Register a hook (1st) to store activation map of layer ', layer_name, module)\n",
        "                    hook = self.get_extract_activation_map_hook(layer_name)\n",
        "                    self.activation_map_hook_handles[layer_name] = module.register_forward_hook(hook)\n",
        "\n",
        "\n",
        "    def remove_extract_activation_map_hooks(self):\n",
        "        # Remove hook(s) used to store activation map\n",
        "        for layer_name, handle in self.activation_map_hook_handles.items():\n",
        "            #print('Remove the hook used to store activation map of layer ', layer_name)\n",
        "            handle.remove()\n",
        "\n",
        "    def get_k(self, layer_name, k_values):\n",
        "        stage=int(layer_name.split('.')[0].replace('layer','')) -1\n",
        "        return k_values[stage]\n",
        "\n",
        "    def register_activation_shaping_hooks(self, binarize=True, top_k=False, k_values=None):\n",
        "        # Register the Activation Shaping Module hook(s) (2nd hook)\n",
        "        for layer_name, module in self.resnet.named_modules():\n",
        "            if ((isinstance(module, nn.ReLU) or isinstance(module, nn.Conv2d) or isinstance(module, nn.BatchNorm2d))):\n",
        "                if layer_name in self.activation_maps:\n",
        "                    # print(f'Register a hook (2nd) to perform Activation Shaping on layer {layer_name} Binarize (both): {binarize} Top-K: {top_k}')\n",
        "                    if binarize:\n",
        "                        hook = self.get_activation_shaping_hook(self.activation_maps[layer_name])\n",
        "                    else:\n",
        "                        if not top_k:\n",
        "                            hook = self.get_activation_shaping_hook_no_binarization(self.activation_maps[layer_name])\n",
        "                        else:\n",
        "                            k = self.get_k(layer_name, k_values)\n",
        "                            hook = self.get_activation_shaping_hook_top_k(self.activation_maps[layer_name], k)\n",
        "                    self.activation_shaping_hook_handles[layer_name] = module.register_forward_hook(hook)\n",
        "\n",
        "\n",
        "    def remove_activation_shaping_hooks(self):\n",
        "        # Remove hook(s) used to perform Activation Shaping\n",
        "        for layer_name, handle in self.activation_shaping_hook_handles.items():\n",
        "            #print('Remove the hook used to perform Activation Shaping on layer ', layer_name)\n",
        "            handle.remove()\n",
        "\n",
        "\n",
        "    def forward(self, x):\n",
        "        return self.resnet(x)"
      ]
    },
    {
      "cell_type": "markdown",
      "metadata": {
        "id": "qSD7qmGTvmv2"
      },
      "source": [
        "### Run"
      ]
    },
    {
      "cell_type": "markdown",
      "metadata": {
        "id": "Xw07UrGmdRdk"
      },
      "source": [
        "#### Evaluate"
      ]
    },
    {
      "cell_type": "code",
      "execution_count": 12,
      "metadata": {
        "id": "LP7mr-ccdRdl",
        "vscode": {
          "languageId": "python"
        }
      },
      "outputs": [],
      "source": [
        "@torch.no_grad()\n",
        "def evaluate(model, data):\n",
        "    model.eval()\n",
        "\n",
        "    acc_meter = Accuracy(task='multiclass', num_classes=CONFIG.num_classes)\n",
        "    acc_meter = acc_meter.to(CONFIG.device)\n",
        "\n",
        "    loss = [0.0, 0]\n",
        "    for x, y in tqdm(data):\n",
        "        with torch.autocast(device_type=CONFIG.device, dtype=torch.float16, enabled=True):\n",
        "            x, y = x.to(CONFIG.device), y.to(CONFIG.device)\n",
        "            logits = model(x)\n",
        "            acc_meter.update(logits, y)\n",
        "            loss[0] += F.cross_entropy(logits, y).item()\n",
        "            loss[1] += x.size(0)\n",
        "\n",
        "    accuracy = acc_meter.compute()\n",
        "    loss = loss[0] / loss[1]\n",
        "    logging.info(f'Accuracy: {100 * accuracy:.2f} - Loss: {loss}')\n",
        "    print(f'Accuracy: {100 * accuracy:.2f} - Loss: {loss} \\n')"
      ]
    },
    {
      "cell_type": "markdown",
      "metadata": {
        "id": "i6uEldLZdRdl"
      },
      "source": [
        "#### Train"
      ]
    },
    {
      "cell_type": "code",
      "execution_count": 13,
      "metadata": {
        "id": "98_3TWLTvmv2",
        "vscode": {
          "languageId": "python"
        }
      },
      "outputs": [],
      "source": [
        "def train(model, data):\n",
        "    # Create optimizers & schedulers\n",
        "    optimizer = torch.optim.SGD(model.parameters(), weight_decay=0.0005, momentum=0.9, nesterov=True, lr=0.001)\n",
        "    scheduler = torch.optim.lr_scheduler.StepLR(optimizer, step_size=int(CONFIG.epochs * 0.8), gamma=0.1)\n",
        "    scaler = torch.cuda.amp.GradScaler(enabled=True)\n",
        "\n",
        "    # Load checkpoint (if it exists)\n",
        "    cur_epoch = 0\n",
        "    if os.path.exists(os.path.join('record', CONFIG.experiment_name, 'last.pth')):\n",
        "        checkpoint = torch.load(os.path.join('record', CONFIG.experiment_name, 'last.pth'))\n",
        "        cur_epoch = checkpoint['epoch']\n",
        "        optimizer.load_state_dict(checkpoint['optimizer'])\n",
        "        scheduler.load_state_dict(checkpoint['scheduler'])\n",
        "        model.load_state_dict(checkpoint['model'])\n",
        "\n",
        "    # Optimization loop\n",
        "    for epoch in range(cur_epoch, CONFIG.epochs):\n",
        "        model.train()\n",
        "\n",
        "        for batch_idx, batch in enumerate(tqdm(data['train'])):\n",
        "\n",
        "            # use a separate invocation of autocast for every forward pass.\n",
        "            with torch.autocast(device_type=CONFIG.device, dtype=torch.float16, enabled=True):\n",
        "                if CONFIG.experiment in ['domain_adaptation']:\n",
        "                    model.eval()\n",
        "                    # Register hook(s) to store the target domain activation maps and perform a forward pass\n",
        "                    src_x, src_y, targ_x = batch\n",
        "                    targ_x = targ_x.to(CONFIG.device)\n",
        "                    module_placement = CONFIG.experiment_args['module_placement']\n",
        "                    model.register_extract_activation_map_hooks(module_placement)\n",
        "                    with torch.no_grad():\n",
        "                        model(targ_x)\n",
        "                    model.remove_extract_activation_map_hooks()\n",
        "                    model.train()\n",
        "\n",
        "            # Compute loss\n",
        "            with torch.autocast(device_type=CONFIG.device, dtype=torch.float16, enabled=True):\n",
        "\n",
        "                if CONFIG.experiment in ['baseline']:\n",
        "                    x, y = batch\n",
        "                    x, y = x.to(CONFIG.device), y.to(CONFIG.device)\n",
        "                    loss = F.cross_entropy(model(x), y)\n",
        "                elif CONFIG.experiment in ['random']:\n",
        "                    x, y = batch\n",
        "                    x, y = x.to(CONFIG.device), y.to(CONFIG.device)\n",
        "                    # Randomly turn off some outputs of each layer\n",
        "                    module_placement = CONFIG.experiment_args['module_placement']\n",
        "                    mask_out_ratio = CONFIG.experiment_args['mask_out_ratio']\n",
        "                    if ('extension' in CONFIG.experiment_args) and (CONFIG.experiment_args['extension'] == 'no_binarization'):\n",
        "                        model.register_random_activation_maps_hooks(module_placement, mask_out_ratio, binarize=False)\n",
        "                    elif ('extension' in CONFIG.experiment_args) and (CONFIG.experiment_args['extension'] == 'top_k') and ('k_values' in CONFIG.experiment_args):\n",
        "                        model.register_random_activation_maps_hooks(module_placement, mask_out_ratio, binarize=False,\n",
        "                                                                    top_k=True, k_values=CONFIG.experiment_args['k_values'])\n",
        "                    else:\n",
        "                        model.register_random_activation_maps_hooks(module_placement, mask_out_ratio)\n",
        "                    loss = F.cross_entropy(model(x), y)\n",
        "                    model.remove_random_activation_maps_hooks()\n",
        "                elif CONFIG.experiment in ['domain_adaptation']:\n",
        "                    src_x, src_y, targ_x = batch\n",
        "                    src_x, src_y = src_x.to(CONFIG.device), src_y.to(CONFIG.device)\n",
        "                    # Register the Activation Shaping hook(s) and perform a forward pass (source domain images)\n",
        "                    if ('extension' in CONFIG.experiment_args) and (CONFIG.experiment_args['extension'] == 'no_binarization'):\n",
        "                        model.register_activation_shaping_hooks(binarize=False)\n",
        "                    elif ('extension' in CONFIG.experiment_args) and (CONFIG.experiment_args['extension'] == 'top_k') and ('k_values' in CONFIG.experiment_args):\n",
        "                        model.register_activation_shaping_hooks(binarize=False, top_k=True, k_values=CONFIG.experiment_args['k_values'])\n",
        "                    else:\n",
        "                        model.register_activation_shaping_hooks()\n",
        "                    loss = F.cross_entropy(model(src_x), src_y)\n",
        "                    model.remove_activation_shaping_hooks()\n",
        "\n",
        "            # Optimization step\n",
        "            scaler.scale(loss / CONFIG.grad_accum_steps).backward()\n",
        "\n",
        "            if ((batch_idx + 1) % CONFIG.grad_accum_steps == 0) or (batch_idx + 1 == len(data['train'])):\n",
        "                scaler.step(optimizer)\n",
        "                optimizer.zero_grad(set_to_none=True)\n",
        "                scaler.update()\n",
        "\n",
        "        scheduler.step()\n",
        "\n",
        "        # Test current epoch\n",
        "        logging.info(f'[TEST @ Epoch={epoch}]')\n",
        "        evaluate(model, data['test'])\n",
        "\n",
        "        # Save checkpoint\n",
        "        checkpoint = {\n",
        "            'epoch': epoch + 1,\n",
        "            'optimizer': optimizer.state_dict(),\n",
        "            'scheduler': scheduler.state_dict(),\n",
        "            'model': model.state_dict()\n",
        "        }\n",
        "        torch.save(checkpoint, os.path.join('record', CONFIG.experiment_name, 'last.pth'))"
      ]
    },
    {
      "cell_type": "markdown",
      "metadata": {
        "id": "zKNcF0QVOT-N"
      },
      "source": [
        "#### Main"
      ]
    },
    {
      "cell_type": "code",
      "execution_count": 14,
      "metadata": {
        "id": "-XxGE34mXxxe",
        "vscode": {
          "languageId": "python"
        },
        "colab": {
          "base_uri": "https://localhost:8080/",
          "height": 142
        },
        "outputId": "d60fa738-490c-4c6b-aa3c-6b3c1f509eaa"
      },
      "outputs": [
        {
          "output_type": "execute_result",
          "data": {
            "text/plain": [
              "\"\\nlayer_output_shapes = {\\n    'layer1.0.conv1': (64, 56, 56),         'layer1.0.relu': (64, 56, 56),          'layer1.0.conv2': (64, 56, 56),\\n    'layer1.1.conv1': (64, 56, 56),         'layer1.1.bn1': (64, 56, 56),           'layer1.1.relu': (64, 56, 56),          'layer1.1.conv2': (64, 56, 56),         'layer1.1.bn2': (64, 56, 56),\\n    'layer2.0.conv1': (128, 28, 28),        'layer2.0.relu': (128, 28, 28),         'layer2.0.conv2': (128, 28, 28),\\n    'layer2.1.conv1': (128, 28, 28),        'layer2.1.relu': (128, 28, 28),         'layer2.1.conv2': (128, 28, 28),\\n    'layer3.0.conv1': (256, 14, 14),        'layer3.0.relu': (256, 14, 14),         'layer3.0.conv2': (256, 14, 14),\\n    'layer3.1.conv1': (256, 14, 14),        'layer3.1.relu': (256, 14, 14),         'layer3.1.conv2': (256, 14, 14),\\n    'layer4.0.conv1': (512, 7, 7),          'layer4.0.relu': (512, 7, 7),           'layer4.0.conv2': (512, 7, 7),\\n    'layer4.1.conv1': (512, 7, 7),          'layer4.1.relu': (512, 7, 7),           'layer4.1.conv2': (512, 7, 7)\\n}\\n\\ndef create_random_mask(layer_name = 'layer4.1.conv2', mask_out_ratio = 0.0):\\n    # create a mask tensor with a given ratio of zeros\\n    layer_output_shape = layer_output_shapes[layer_name]\\n    rand_mat = torch.rand(layer_output_shape).to(CONFIG.device)\\n    mask = torch.where(rand_mat <= mask_out_ratio, 0.0, 1.0).to(CONFIG.device)\\n    return mask\\n\""
            ],
            "application/vnd.google.colaboratory.intrinsic+json": {
              "type": "string"
            }
          },
          "metadata": {},
          "execution_count": 14
        }
      ],
      "source": [
        "'''\n",
        "layer_output_shapes = {\n",
        "    'layer1.0.conv1': (64, 56, 56),         'layer1.0.relu': (64, 56, 56),          'layer1.0.conv2': (64, 56, 56),\n",
        "    'layer1.1.conv1': (64, 56, 56),         'layer1.1.bn1': (64, 56, 56),           'layer1.1.relu': (64, 56, 56),          'layer1.1.conv2': (64, 56, 56),         'layer1.1.bn2': (64, 56, 56),\n",
        "    'layer2.0.conv1': (128, 28, 28),        'layer2.0.relu': (128, 28, 28),         'layer2.0.conv2': (128, 28, 28),\n",
        "    'layer2.1.conv1': (128, 28, 28),        'layer2.1.relu': (128, 28, 28),         'layer2.1.conv2': (128, 28, 28),\n",
        "    'layer3.0.conv1': (256, 14, 14),        'layer3.0.relu': (256, 14, 14),         'layer3.0.conv2': (256, 14, 14),\n",
        "    'layer3.1.conv1': (256, 14, 14),        'layer3.1.relu': (256, 14, 14),         'layer3.1.conv2': (256, 14, 14),\n",
        "    'layer4.0.conv1': (512, 7, 7),          'layer4.0.relu': (512, 7, 7),           'layer4.0.conv2': (512, 7, 7),\n",
        "    'layer4.1.conv1': (512, 7, 7),          'layer4.1.relu': (512, 7, 7),           'layer4.1.conv2': (512, 7, 7)\n",
        "}\n",
        "\n",
        "def create_random_mask(layer_name = 'layer4.1.conv2', mask_out_ratio = 0.0):\n",
        "    # create a mask tensor with a given ratio of zeros\n",
        "    layer_output_shape = layer_output_shapes[layer_name]\n",
        "    rand_mat = torch.rand(layer_output_shape).to(CONFIG.device)\n",
        "    mask = torch.where(rand_mat <= mask_out_ratio, 0.0, 1.0).to(CONFIG.device)\n",
        "    return mask\n",
        "'''"
      ]
    },
    {
      "cell_type": "code",
      "execution_count": 15,
      "metadata": {
        "id": "veneeQdydRdl",
        "vscode": {
          "languageId": "python"
        }
      },
      "outputs": [],
      "source": [
        "def main ():\n",
        "    # Load dataset\n",
        "    data = load_data()\n",
        "\n",
        "    # Load model\n",
        "    if CONFIG.experiment in ['baseline']:\n",
        "        model = BaseResNet18()\n",
        "    elif CONFIG.experiment in ['random']:\n",
        "        model = ASHResNet18()\n",
        "    elif CONFIG.experiment in ['domain_adaptation']:\n",
        "         # module_placement = CONFIG.experiment_args['module_placement']\n",
        "         model = DAResNet18()\n",
        "\n",
        "    model.to(CONFIG.device)\n",
        "\n",
        "    if not CONFIG.test_only:\n",
        "        train(model, data)\n",
        "    else:\n",
        "        evaluate(model, data['test'])\n"
      ]
    },
    {
      "cell_type": "markdown",
      "metadata": {
        "id": "qTIojGThXxxf"
      },
      "source": [
        "### Custom experiment"
      ]
    },
    {
      "cell_type": "markdown",
      "metadata": {
        "id": "gOvHUjGEXxxf"
      },
      "source": [
        "#### Configurations"
      ]
    },
    {
      "cell_type": "code",
      "execution_count": null,
      "metadata": {
        "id": "xxhgSlywXxxf",
        "vscode": {
          "languageId": "python"
        }
      },
      "outputs": [],
      "source": [
        "configurations = {\n",
        "    ##### 0 - BASELINE #####\n",
        "    \"0.1\" : { # Art Painting -> Cartoon\n",
        "        'seed': 0,\n",
        "        'test_only': False,\n",
        "        'cpu': False,\n",
        "        'experiment': 'baseline',\n",
        "        'experiment_name': '0.1',\n",
        "        'experiment_args': '{}',\n",
        "        'dataset_args': { 'text_root': 'data', 'images_root': 'data/kfold/PACS', 'source_domain': 'art_painting', 'target_domain': 'cartoon' },\n",
        "        'batch_size': 128,\n",
        "        'epochs': 30,\n",
        "        'num_workers': 5,\n",
        "        'grad_accum_steps': 1\n",
        "    },\n",
        "    \"0.2\" : { # Art Painting -> Sketch\n",
        "        'seed': 0,\n",
        "        'test_only': False,\n",
        "        'cpu': False,\n",
        "        'experiment': 'baseline',\n",
        "        'experiment_name': '0.2',\n",
        "        'experiment_args': '{}',\n",
        "        'dataset_args': { 'text_root': 'data', 'images_root': 'data/kfold/PACS', 'source_domain': 'art_painting', 'target_domain': 'sketch' },\n",
        "        'batch_size': 128,\n",
        "        'epochs': 30,\n",
        "        'num_workers': 5,\n",
        "        'grad_accum_steps': 1\n",
        "    },\n",
        "    \"0.3\" : { # Art Painting -> Photo\n",
        "        'seed': 0,\n",
        "        'test_only': False,\n",
        "        'cpu': False,\n",
        "        'experiment': 'baseline',\n",
        "        'experiment_name': '0.3',\n",
        "        'experiment_args': '{}',\n",
        "        'dataset_args': { 'text_root': 'data', 'images_root': 'data/kfold/PACS', 'source_domain': 'art_painting', 'target_domain': 'photo' },\n",
        "        'batch_size': 128,\n",
        "        'epochs': 30,\n",
        "        'num_workers': 5,\n",
        "        'grad_accum_steps': 1\n",
        "    },\n",
        "\n",
        "    ##### 1 - ACTIVATION SHAPING MODULE #####\n",
        "    #### 1.1 - ONE ASH MODULE ####\n",
        "    ### 1.1.1 - ASH MODULE AFTER layer1.0.conv1 ###\n",
        "    \"1.1.1.1\" : { # Art Painting -> Cartoon\n",
        "        'seed': 0,\n",
        "        'test_only': False,\n",
        "        'cpu': False,\n",
        "        'experiment': 'random',\n",
        "        'experiment_name': '1.1.1.1',\n",
        "        'experiment_args': {'module_placement': ['layer1.0.conv1'], 'mask_out_ratio': 0.5},\n",
        "        'dataset_args': {'text_root': 'data', 'images_root': 'data/kfold/PACS', 'source_domain': 'art_painting', 'target_domain': 'cartoon' },\n",
        "        'batch_size': 128,\n",
        "        'epochs': 30,\n",
        "        'num_workers': 5,\n",
        "        'grad_accum_steps': 1\n",
        "    },\n",
        "    \"1.1.1.2\" : { # Art Painting -> Sketch\n",
        "        'seed': 0,\n",
        "        'test_only': False,\n",
        "        'cpu': False,\n",
        "        'experiment': 'random',\n",
        "        'experiment_name': '1.1.1.2',\n",
        "        'experiment_args': {'module_placement': ['layer1.0.conv1'], 'mask_out_ratio': 0.5},\n",
        "        'dataset_args': {'text_root': 'data', 'images_root': 'data/kfold/PACS', 'source_domain': 'art_painting', 'target_domain': 'sketch' },\n",
        "        'batch_size': 128,\n",
        "        'epochs': 30,\n",
        "        'num_workers': 5,\n",
        "        'grad_accum_steps': 1\n",
        "    },\n",
        "    \"1.1.1.3\" : { # Art Painting -> Photo\n",
        "        'seed': 0,\n",
        "        'test_only': False,\n",
        "        'cpu': False,\n",
        "        'experiment': 'random',\n",
        "        'experiment_name': '1.1.1.3',\n",
        "        'experiment_args': {'module_placement': ['layer1.0.conv1'], 'mask_out_ratio': 0.5},\n",
        "        'dataset_args': {'text_root': 'data', 'images_root': 'data/kfold/PACS', 'source_domain': 'art_painting', 'target_domain': 'photo' },\n",
        "        'batch_size': 128,\n",
        "        'epochs': 30,\n",
        "        'num_workers': 5,\n",
        "        'grad_accum_steps': 1\n",
        "    },\n",
        "    ### 1.1.2 - ASH MODULE AFTER layer1.0.relu ###\n",
        "    \"1.1.2.1\" : { # Art Painting -> Cartoon\n",
        "        'seed': 0,\n",
        "        'test_only': False,\n",
        "        'cpu': False,\n",
        "        'experiment': 'random',\n",
        "        'experiment_name': '1.1.2.1',\n",
        "        'experiment_args': {'module_placement': ['layer1.0.relu'], 'mask_out_ratio': 0.5},\n",
        "        'dataset_args': {'text_root': 'data', 'images_root': 'data/kfold/PACS', 'source_domain': 'art_painting', 'target_domain': 'cartoon' },\n",
        "        'batch_size': 128,\n",
        "        'epochs': 30,\n",
        "        'num_workers': 5,\n",
        "        'grad_accum_steps': 1\n",
        "    },\n",
        "    \"1.1.2.2\" : { # Art Painting -> Sketch\n",
        "        'seed': 0,\n",
        "        'test_only': False,\n",
        "        'cpu': False,\n",
        "        'experiment': 'random',\n",
        "        'experiment_name': '1.1.2.2',\n",
        "        'experiment_args': {'module_placement': ['layer1.0.relu'], 'mask_out_ratio': 0.5},\n",
        "        'dataset_args': {'text_root': 'data', 'images_root': 'data/kfold/PACS', 'source_domain': 'art_painting', 'target_domain': 'sketch' },\n",
        "        'batch_size': 128,\n",
        "        'epochs': 30,\n",
        "        'num_workers': 5,\n",
        "        'grad_accum_steps': 1\n",
        "    },\n",
        "    \"1.1.2.3\" : { # Art Painting -> Photo\n",
        "        'seed': 0,\n",
        "        'test_only': False,\n",
        "        'cpu': False,\n",
        "        'experiment': 'random',\n",
        "        'experiment_name': '1.1.2.3',\n",
        "        'experiment_args': {'module_placement': ['layer1.0.relu'], 'mask_out_ratio': 0.5},\n",
        "        'dataset_args': {'text_root': 'data', 'images_root': 'data/kfold/PACS', 'source_domain': 'art_painting', 'target_domain': 'photo' },\n",
        "        'batch_size': 128,\n",
        "        'epochs': 30,\n",
        "        'num_workers': 5,\n",
        "        'grad_accum_steps': 1\n",
        "    },\n",
        "    ### 1.1.3 - ASH MODULE AFTER layer1.0.conv2 ###\n",
        "    \"1.1.3.1\" : { # Art Painting -> Cartoon\n",
        "        'seed': 0,\n",
        "        'test_only': False,\n",
        "        'cpu': False,\n",
        "        'experiment': 'random',\n",
        "        'experiment_name': '1.1.3.1',\n",
        "        'experiment_args': {'module_placement': ['layer1.0.conv2'], 'mask_out_ratio': 0.5},\n",
        "        'dataset_args': {'text_root': 'data', 'images_root': 'data/kfold/PACS', 'source_domain': 'art_painting', 'target_domain': 'cartoon' },\n",
        "        'batch_size': 128,\n",
        "        'epochs': 30,\n",
        "        'num_workers': 5,\n",
        "        'grad_accum_steps': 1\n",
        "    },\n",
        "    \"1.1.3.2\" : { # Art Painting -> Sketch\n",
        "        'seed': 0,\n",
        "        'test_only': False,\n",
        "        'cpu': False,\n",
        "        'experiment': 'random',\n",
        "        'experiment_name': '1.1.3.2',\n",
        "        'experiment_args': {'module_placement': ['layer1.0.conv2'], 'mask_out_ratio': 0.5},\n",
        "        'dataset_args': {'text_root': 'data', 'images_root': 'data/kfold/PACS', 'source_domain': 'art_painting', 'target_domain': 'sketch' },\n",
        "        'batch_size': 128,\n",
        "        'epochs': 30,\n",
        "        'num_workers': 5,\n",
        "        'grad_accum_steps': 1\n",
        "    },\n",
        "    \"1.1.3.3\" : { # Art Painting -> Photo\n",
        "        'seed': 0,\n",
        "        'test_only': False,\n",
        "        'cpu': False,\n",
        "        'experiment': 'random',\n",
        "        'experiment_name': '1.1.1.3',\n",
        "        'experiment_args': {'module_placement': ['layer1.0.conv2'], 'mask_out_ratio': 0.5},\n",
        "        'dataset_args': {'text_root': 'data', 'images_root': 'data/kfold/PACS', 'source_domain': 'art_painting', 'target_domain': 'photo' },\n",
        "        'batch_size': 128,\n",
        "        'epochs': 30,\n",
        "        'num_workers': 5,\n",
        "        'grad_accum_steps': 1\n",
        "    },\n",
        "    ### 1.1.4 - ASH MODULE AFTER layer1.1.conv1 ###\n",
        "    \"1.1.4.1\" : { # Art Painting -> Cartoon\n",
        "        'seed': 0,\n",
        "        'test_only': False,\n",
        "        'cpu': False,\n",
        "        'experiment': 'random',\n",
        "        'experiment_name': '1.1.4.1',\n",
        "        'experiment_args': {'module_placement': ['layer1.1.conv1'], 'mask_out_ratio': 0.5},\n",
        "        'dataset_args': {'text_root': 'data', 'images_root': 'data/kfold/PACS', 'source_domain': 'art_painting', 'target_domain': 'cartoon' },\n",
        "        'batch_size': 128,\n",
        "        'epochs': 30,\n",
        "        'num_workers': 5,\n",
        "        'grad_accum_steps': 1\n",
        "    },\n",
        "    \"1.1.4.2\" : { # Art Painting -> Sketch\n",
        "        'seed': 0,\n",
        "        'test_only': False,\n",
        "        'cpu': False,\n",
        "        'experiment': 'random',\n",
        "        'experiment_name': '1.1.4.2',\n",
        "        'experiment_args': {'module_placement': ['layer1.1.conv1'], 'mask_out_ratio': 0.5},\n",
        "        'dataset_args': {'text_root': 'data', 'images_root': 'data/kfold/PACS', 'source_domain': 'art_painting', 'target_domain': 'sketch' },\n",
        "        'batch_size': 128,\n",
        "        'epochs': 30,\n",
        "        'num_workers': 5,\n",
        "        'grad_accum_steps': 1\n",
        "    },\n",
        "    \"1.1.4.3\" : { # Art Painting -> Photo\n",
        "        'seed': 0,\n",
        "        'test_only': False,\n",
        "        'cpu': False,\n",
        "        'experiment': 'random',\n",
        "        'experiment_name': '1.1.4.3',\n",
        "        'experiment_args': {'module_placement': ['layer1.1.conv1'], 'mask_out_ratio': 0.5},\n",
        "        'dataset_args': {'text_root': 'data', 'images_root': 'data/kfold/PACS', 'source_domain': 'art_painting', 'target_domain': 'photo' },\n",
        "        'batch_size': 128,\n",
        "        'epochs': 30,\n",
        "        'num_workers': 5,\n",
        "        'grad_accum_steps': 1\n",
        "    },\n",
        "    ### 1.1.5 - ASH MODULE AFTER layer1.1.bn1 ###\n",
        "    \"1.1.5.1\" : { # Art Painting -> Cartoon\n",
        "        'seed': 0,\n",
        "        'test_only': False,\n",
        "        'cpu': False,\n",
        "        'experiment': 'random',\n",
        "        'experiment_name': '1.1.5.1',\n",
        "        'experiment_args': {'module_placement': ['layer1.1.bn1'], 'mask_out_ratio': 0.5},\n",
        "        'dataset_args': {'text_root': 'data', 'images_root': 'data/kfold/PACS', 'source_domain': 'art_painting', 'target_domain': 'cartoon' },\n",
        "        'batch_size': 128,\n",
        "        'epochs': 30,\n",
        "        'num_workers': 5,\n",
        "        'grad_accum_steps': 1\n",
        "    },\n",
        "    \"1.1.5.2\" : { # Art Painting -> Sketch\n",
        "        'seed': 0,\n",
        "        'test_only': False,\n",
        "        'cpu': False,\n",
        "        'experiment': 'random',\n",
        "        'experiment_name': '1.1.5.2',\n",
        "        'experiment_args': {'module_placement': ['layer1.1.bn1'], 'mask_out_ratio': 0.5},\n",
        "        'dataset_args': {'text_root': 'data', 'images_root': 'data/kfold/PACS', 'source_domain': 'art_painting', 'target_domain': 'sketch' },\n",
        "        'batch_size': 128,\n",
        "        'epochs': 30,\n",
        "        'num_workers': 5,\n",
        "        'grad_accum_steps': 1\n",
        "    },\n",
        "    \"1.1.5.3\" : { # Art Painting -> Photo\n",
        "        'seed': 0,\n",
        "        'test_only': False,\n",
        "        'cpu': False,\n",
        "        'experiment': 'random',\n",
        "        'experiment_name': '1.1.5.3',\n",
        "        'experiment_args': {'module_placement': ['layer1.1.bn1'], 'mask_out_ratio': 0.5},\n",
        "        'dataset_args': {'text_root': 'data', 'images_root': 'data/kfold/PACS', 'source_domain': 'art_painting', 'target_domain': 'photo' },\n",
        "        'batch_size': 128,\n",
        "        'epochs': 30,\n",
        "        'num_workers': 5,\n",
        "        'grad_accum_steps': 1\n",
        "    },\n",
        "    ### 1.1.6 - ASH MODULE AFTER layer1.1.relu ###\n",
        "    \"1.1.6.1\" : { # Art Painting -> Cartoon\n",
        "        'seed': 0,\n",
        "        'test_only': False,\n",
        "        'cpu': False,\n",
        "        'experiment': 'random',\n",
        "        'experiment_name': '1.1.6.1',\n",
        "        'experiment_args': {'module_placement': ['layer1.1.relu'], 'mask_out_ratio': 0.5},\n",
        "        'dataset_args': {'text_root': 'data', 'images_root': 'data/kfold/PACS', 'source_domain': 'art_painting', 'target_domain': 'cartoon' },\n",
        "        'batch_size': 128,\n",
        "        'epochs': 30,\n",
        "        'num_workers': 5,\n",
        "        'grad_accum_steps': 1\n",
        "    },\n",
        "    \"1.1.6.2\" : { # Art Painting -> Sketch\n",
        "        'seed': 0,\n",
        "        'test_only': False,\n",
        "        'cpu': False,\n",
        "        'experiment': 'random',\n",
        "        'experiment_name': '1.1.6.2',\n",
        "        'experiment_args': {'module_placement': ['layer1.1.relu'], 'mask_out_ratio': 0.5},\n",
        "        'dataset_args': {'text_root': 'data', 'images_root': 'data/kfold/PACS', 'source_domain': 'art_painting', 'target_domain': 'sketch' },\n",
        "        'batch_size': 128,\n",
        "        'epochs': 30,\n",
        "        'num_workers': 5,\n",
        "        'grad_accum_steps': 1\n",
        "    },\n",
        "    \"1.1.6.3\" : { # Art Painting -> Photo\n",
        "        'seed': 0,\n",
        "        'test_only': False,\n",
        "        'cpu': False,\n",
        "        'experiment': 'random',\n",
        "        'experiment_name': '1.1.6.3',\n",
        "        'experiment_args': {'module_placement': ['layer1.1.relu'], 'mask_out_ratio': 0.5},\n",
        "        'dataset_args': {'text_root': 'data', 'images_root': 'data/kfold/PACS', 'source_domain': 'art_painting', 'target_domain': 'photo' },\n",
        "        'batch_size': 128,\n",
        "        'epochs': 30,\n",
        "        'num_workers': 5,\n",
        "        'grad_accum_steps': 1\n",
        "    },\n",
        "    ### 1.1.7 - ASH MODULE AFTER layer1.1.conv2 ###\n",
        "    \"1.1.7.1\" : { # Art Painting -> Cartoon\n",
        "        'seed': 0,\n",
        "        'test_only': False,\n",
        "        'cpu': False,\n",
        "        'experiment': 'random',\n",
        "        'experiment_name': '1.1.7.1',\n",
        "        'experiment_args': {'module_placement': ['layer1.1.conv2'], 'mask_out_ratio': 0.5},\n",
        "        'dataset_args': {'text_root': 'data', 'images_root': 'data/kfold/PACS', 'source_domain': 'art_painting', 'target_domain': 'cartoon' },\n",
        "        'batch_size': 128,\n",
        "        'epochs': 30,\n",
        "        'num_workers': 5,\n",
        "        'grad_accum_steps': 1\n",
        "    },\n",
        "    \"1.1.7.2\" : { # Art Painting -> Sketch\n",
        "        'seed': 0,\n",
        "        'test_only': False,\n",
        "        'cpu': False,\n",
        "        'experiment': 'random',\n",
        "        'experiment_name': '1.1.7.2',\n",
        "        'experiment_args': {'module_placement': ['layer1.1.conv2'], 'mask_out_ratio': 0.5},\n",
        "        'dataset_args': {'text_root': 'data', 'images_root': 'data/kfold/PACS', 'source_domain': 'art_painting', 'target_domain': 'sketch' },\n",
        "        'batch_size': 128,\n",
        "        'epochs': 30,\n",
        "        'num_workers': 5,\n",
        "        'grad_accum_steps': 1\n",
        "    },\n",
        "    \"1.1.7.3\" : { # Art Painting -> Photo\n",
        "        'seed': 0,\n",
        "        'test_only': False,\n",
        "        'cpu': False,\n",
        "        'experiment': 'random',\n",
        "        'experiment_name': '1.1.7.3',\n",
        "        'experiment_args': {'module_placement': ['layer1.1.conv2'], 'mask_out_ratio': 0.5},\n",
        "        'dataset_args': {'text_root': 'data', 'images_root': 'data/kfold/PACS', 'source_domain': 'art_painting', 'target_domain': 'photo' },\n",
        "        'batch_size': 128,\n",
        "        'epochs': 30,\n",
        "        'num_workers': 5,\n",
        "        'grad_accum_steps': 1\n",
        "    },\n",
        "    ### 1.1.8 - ASH MODULE AFTER layer1.1.bn2 ###\n",
        "    \"1.1.8.1\" : { # Art Painting -> Cartoon\n",
        "        'seed': 0,\n",
        "        'test_only': False,\n",
        "        'cpu': False,\n",
        "        'experiment': 'random',\n",
        "        'experiment_name': '1.1.8.1',\n",
        "        'experiment_args': {'module_placement': ['layer1.1.bn2'], 'mask_out_ratio': 0.5},\n",
        "        'dataset_args': {'text_root': 'data', 'images_root': 'data/kfold/PACS', 'source_domain': 'art_painting', 'target_domain': 'cartoon' },\n",
        "        'batch_size': 128,\n",
        "        'epochs': 30,\n",
        "        'num_workers': 5,\n",
        "        'grad_accum_steps': 1\n",
        "    },\n",
        "    \"1.1.8.2\" : { # Art Painting -> Sketch\n",
        "        'seed': 0,\n",
        "        'test_only': False,\n",
        "        'cpu': False,\n",
        "        'experiment': 'random',\n",
        "        'experiment_name': '1.1.8.2',\n",
        "        'experiment_args': {'module_placement': ['layer1.1.bn2'], 'mask_out_ratio': 0.5},\n",
        "        'dataset_args': {'text_root': 'data', 'images_root': 'data/kfold/PACS', 'source_domain': 'art_painting', 'target_domain': 'sketch' },\n",
        "        'batch_size': 128,\n",
        "        'epochs': 30,\n",
        "        'num_workers': 5,\n",
        "        'grad_accum_steps': 1\n",
        "    },\n",
        "    \"1.1.8.3\" : { # Art Painting -> Photo\n",
        "        'seed': 0,\n",
        "        'test_only': False,\n",
        "        'cpu': False,\n",
        "        'experiment': 'random',\n",
        "        'experiment_name': '1.1.8.3',\n",
        "        'experiment_args': {'module_placement': ['layer1.1.bn2'], 'mask_out_ratio': 0.5},\n",
        "        'dataset_args': {'text_root': 'data', 'images_root': 'data/kfold/PACS', 'source_domain': 'art_painting', 'target_domain': 'photo' },\n",
        "        'batch_size': 128,\n",
        "        'epochs': 30,\n",
        "        'num_workers': 5,\n",
        "        'grad_accum_steps': 1\n",
        "    },\n",
        "    ### 1.1.9 - ASH MODULE AFTER layer2.0.conv1 ###\n",
        "    \"1.1.9.1\" : { # Art Painting -> Cartoon\n",
        "        'seed': 0,\n",
        "        'test_only': False,\n",
        "        'cpu': False,\n",
        "        'experiment': 'random',\n",
        "        'experiment_name': '1.1.9.1',\n",
        "        'experiment_args': {'module_placement': ['layer2.0.conv1'], 'mask_out_ratio': 0.5},\n",
        "        'dataset_args': {'text_root': 'data', 'images_root': 'data/kfold/PACS', 'source_domain': 'art_painting', 'target_domain': 'cartoon' },\n",
        "        'batch_size': 128,\n",
        "        'epochs': 30,\n",
        "        'num_workers': 5,\n",
        "        'grad_accum_steps': 1\n",
        "    },\n",
        "    \"1.1.9.2\" : { # Art Painting -> Sketch\n",
        "        'seed': 0,\n",
        "        'test_only': False,\n",
        "        'cpu': False,\n",
        "        'experiment': 'random',\n",
        "        'experiment_name': '1.1.9.2',\n",
        "        'experiment_args': {'module_placement': ['layer2.0.conv1'], 'mask_out_ratio': 0.5},\n",
        "        'dataset_args': {'text_root': 'data', 'images_root': 'data/kfold/PACS', 'source_domain': 'art_painting', 'target_domain': 'sketch' },\n",
        "        'batch_size': 128,\n",
        "        'epochs': 30,\n",
        "        'num_workers': 5,\n",
        "        'grad_accum_steps': 1\n",
        "    },\n",
        "    \"1.1.9.3\" : { # Art Painting -> Photo\n",
        "        'seed': 0,\n",
        "        'test_only': False,\n",
        "        'cpu': False,\n",
        "        'experiment': 'random',\n",
        "        'experiment_name': '1.1.9.3',\n",
        "        'experiment_args': {'module_placement': ['layer2.0.conv1'], 'mask_out_ratio': 0.5},\n",
        "        'dataset_args': {'text_root': 'data', 'images_root': 'data/kfold/PACS', 'source_domain': 'art_painting', 'target_domain': 'photo' },\n",
        "        'batch_size': 128,\n",
        "        'epochs': 30,\n",
        "        'num_workers': 5,\n",
        "        'grad_accum_steps': 1\n",
        "    },\n",
        "    ### 1.1.10 - ASH MODULE AFTER layer2.0.relu ###\n",
        "    \"1.1.10.1\" : { # Art Painting -> Cartoon\n",
        "        'seed': 0,\n",
        "        'test_only': False,\n",
        "        'cpu': False,\n",
        "        'experiment': 'random',\n",
        "        'experiment_name': '1.1.10.1',\n",
        "        'experiment_args': {'module_placement': ['layer2.0.relu'], 'mask_out_ratio': 0.5},\n",
        "        'dataset_args': {'text_root': 'data', 'images_root': 'data/kfold/PACS', 'source_domain': 'art_painting', 'target_domain': 'cartoon' },\n",
        "        'batch_size': 128,\n",
        "        'epochs': 30,\n",
        "        'num_workers': 5,\n",
        "        'grad_accum_steps': 1\n",
        "    },\n",
        "    \"1.1.10.2\" : { # Art Painting -> Sketch\n",
        "        'seed': 0,\n",
        "        'test_only': False,\n",
        "        'cpu': False,\n",
        "        'experiment': 'random',\n",
        "        'experiment_name': '1.1.10.2',\n",
        "        'experiment_args': {'module_placement': ['layer2.0.relu'], 'mask_out_ratio': 0.5},\n",
        "        'dataset_args': {'text_root': 'data', 'images_root': 'data/kfold/PACS', 'source_domain': 'art_painting', 'target_domain': 'sketch' },\n",
        "        'batch_size': 128,\n",
        "        'epochs': 30,\n",
        "        'num_workers': 5,\n",
        "        'grad_accum_steps': 1\n",
        "    },\n",
        "    \"1.1.10.3\" : { # Art Painting -> Photo\n",
        "        'seed': 0,\n",
        "        'test_only': False,\n",
        "        'cpu': False,\n",
        "        'experiment': 'random',\n",
        "        'experiment_name': '1.1.10.3',\n",
        "        'experiment_args': {'module_placement': ['layer2.0.relu'], 'mask_out_ratio': 0.5},\n",
        "        'dataset_args': {'text_root': 'data', 'images_root': 'data/kfold/PACS', 'source_domain': 'art_painting', 'target_domain': 'photo' },\n",
        "        'batch_size': 128,\n",
        "        'epochs': 30,\n",
        "        'num_workers': 5,\n",
        "        'grad_accum_steps': 1\n",
        "    },\n",
        "    ### 1.1.11 - ASH MODULE AFTER layer2.0.conv2 ###\n",
        "    \"1.1.11.1\" : { # Art Painting -> Cartoon\n",
        "        'seed': 0,\n",
        "        'test_only': False,\n",
        "        'cpu': False,\n",
        "        'experiment': 'random',\n",
        "        'experiment_name': '1.1.11.1',\n",
        "        'experiment_args': {'module_placement': ['layer2.0.conv2'], 'mask_out_ratio': 0.5},\n",
        "        'dataset_args': {'text_root': 'data', 'images_root': 'data/kfold/PACS', 'source_domain': 'art_painting', 'target_domain': 'cartoon' },\n",
        "        'batch_size': 128,\n",
        "        'epochs': 30,\n",
        "        'num_workers': 5,\n",
        "        'grad_accum_steps': 1\n",
        "    },\n",
        "    \"1.1.11.2\" : { # Art Painting -> Sketch\n",
        "        'seed': 0,\n",
        "        'test_only': False,\n",
        "        'cpu': False,\n",
        "        'experiment': 'random',\n",
        "        'experiment_name': '1.1.11.2',\n",
        "        'experiment_args': {'module_placement': ['layer2.0.conv2'], 'mask_out_ratio': 0.5},\n",
        "        'dataset_args': {'text_root': 'data', 'images_root': 'data/kfold/PACS', 'source_domain': 'art_painting', 'target_domain': 'sketch' },\n",
        "        'batch_size': 128,\n",
        "        'epochs': 30,\n",
        "        'num_workers': 5,\n",
        "        'grad_accum_steps': 1\n",
        "    },\n",
        "    \"1.1.11.3\" : { # Art Painting -> Photo\n",
        "        'seed': 0,\n",
        "        'test_only': False,\n",
        "        'cpu': False,\n",
        "        'experiment': 'random',\n",
        "        'experiment_name': '1.1.11.3',\n",
        "        'experiment_args': {'module_placement': ['layer2.0.conv2'], 'mask_out_ratio': 0.5},\n",
        "        'dataset_args': {'text_root': 'data', 'images_root': 'data/kfold/PACS', 'source_domain': 'art_painting', 'target_domain': 'photo' },\n",
        "        'batch_size': 128,\n",
        "        'epochs': 30,\n",
        "        'num_workers': 5,\n",
        "        'grad_accum_steps': 1\n",
        "    },\n",
        "    ### 1.1.12 - ASH MODULE AFTER layer2.1.conv1 ###\n",
        "    \"1.1.12.1\" : { # Art Painting -> Cartoon\n",
        "        'seed': 0,\n",
        "        'test_only': False,\n",
        "        'cpu': False,\n",
        "        'experiment': 'random',\n",
        "        'experiment_name': '1.1.12.1',\n",
        "        'experiment_args': {'module_placement': ['layer2.1.conv1'], 'mask_out_ratio': 0.5},\n",
        "        'dataset_args': {'text_root': 'data', 'images_root': 'data/kfold/PACS', 'source_domain': 'art_painting', 'target_domain': 'cartoon' },\n",
        "        'batch_size': 128,\n",
        "        'epochs': 30,\n",
        "        'num_workers': 5,\n",
        "        'grad_accum_steps': 1\n",
        "    },\n",
        "    \"1.1.12.2\" : { # Art Painting -> Sketch\n",
        "        'seed': 0,\n",
        "        'test_only': False,\n",
        "        'cpu': False,\n",
        "        'experiment': 'random',\n",
        "        'experiment_name': '1.1.12.2',\n",
        "        'experiment_args': {'module_placement': ['layer2.1.conv1'], 'mask_out_ratio': 0.5},\n",
        "        'dataset_args': {'text_root': 'data', 'images_root': 'data/kfold/PACS', 'source_domain': 'art_painting', 'target_domain': 'sketch' },\n",
        "        'batch_size': 128,\n",
        "        'epochs': 30,\n",
        "        'num_workers': 5,\n",
        "        'grad_accum_steps': 1\n",
        "    },\n",
        "    \"1.1.12.3\" : { # Art Painting -> Photo\n",
        "        'seed': 0,\n",
        "        'test_only': False,\n",
        "        'cpu': False,\n",
        "        'experiment': 'random',\n",
        "        'experiment_name': '1.1.12.3',\n",
        "        'experiment_args': {'module_placement': ['layer2.1.conv1'], 'mask_out_ratio': 0.5},\n",
        "        'dataset_args': {'text_root': 'data', 'images_root': 'data/kfold/PACS', 'source_domain': 'art_painting', 'target_domain': 'photo' },\n",
        "        'batch_size': 128,\n",
        "        'epochs': 30,\n",
        "        'num_workers': 5,\n",
        "        'grad_accum_steps': 1\n",
        "    },\n",
        "    ### 1.1.13 - ASH MODULE AFTER layer2.1.relu ###\n",
        "    \"1.1.13.1\" : { # Art Painting -> Cartoon\n",
        "        'seed': 0,\n",
        "        'test_only': False,\n",
        "        'cpu': False,\n",
        "        'experiment': 'random',\n",
        "        'experiment_name': '1.1.13.1',\n",
        "        'experiment_args': {'module_placement': ['layer2.1.relu'], 'mask_out_ratio': 0.5},\n",
        "        'dataset_args': {'text_root': 'data', 'images_root': 'data/kfold/PACS', 'source_domain': 'art_painting', 'target_domain': 'cartoon' },\n",
        "        'batch_size': 128,\n",
        "        'epochs': 30,\n",
        "        'num_workers': 5,\n",
        "        'grad_accum_steps': 1\n",
        "    },\n",
        "    \"1.1.13.2\" : { # Art Painting -> Sketch\n",
        "        'seed': 0,\n",
        "        'test_only': False,\n",
        "        'cpu': False,\n",
        "        'experiment': 'random',\n",
        "        'experiment_name': '1.1.13.2',\n",
        "        'experiment_args': {'module_placement': ['layer2.1.relu'], 'mask_out_ratio': 0.5},\n",
        "        'dataset_args': {'text_root': 'data', 'images_root': 'data/kfold/PACS', 'source_domain': 'art_painting', 'target_domain': 'sketch' },\n",
        "        'batch_size': 128,\n",
        "        'epochs': 30,\n",
        "        'num_workers': 5,\n",
        "        'grad_accum_steps': 1\n",
        "    },\n",
        "    \"1.1.13.3\" : { # Art Painting -> Photo\n",
        "        'seed': 0,\n",
        "        'test_only': False,\n",
        "        'cpu': False,\n",
        "        'experiment': 'random',\n",
        "        'experiment_name': '1.1.13.3',\n",
        "        'experiment_args': {'module_placement': ['layer2.1.relu'], 'mask_out_ratio': 0.5},\n",
        "        'dataset_args': {'text_root': 'data', 'images_root': 'data/kfold/PACS', 'source_domain': 'art_painting', 'target_domain': 'photo' },\n",
        "        'batch_size': 128,\n",
        "        'epochs': 30,\n",
        "        'num_workers': 5,\n",
        "        'grad_accum_steps': 1\n",
        "    },\n",
        "    ### 1.1.14 - ASH MODULE AFTER layer2.1.conv2 ###\n",
        "    \"1.1.14.1\" : { # Art Painting -> Cartoon\n",
        "        'seed': 0,\n",
        "        'test_only': False,\n",
        "        'cpu': False,\n",
        "        'experiment': 'random',\n",
        "        'experiment_name': '1.1.14.1',\n",
        "        'experiment_args': {'module_placement': ['layer2.1.conv2'], 'mask_out_ratio': 0.5},\n",
        "        'dataset_args': {'text_root': 'data', 'images_root': 'data/kfold/PACS', 'source_domain': 'art_painting', 'target_domain': 'cartoon' },\n",
        "        'batch_size': 128,\n",
        "        'epochs': 30,\n",
        "        'num_workers': 5,\n",
        "        'grad_accum_steps': 1\n",
        "    },\n",
        "    \"1.1.14.2\" : { # Art Painting -> Sketch\n",
        "        'seed': 0,\n",
        "        'test_only': False,\n",
        "        'cpu': False,\n",
        "        'experiment': 'random',\n",
        "        'experiment_name': '1.1.14.2',\n",
        "        'experiment_args': {'module_placement': ['layer2.1.conv2'], 'mask_out_ratio': 0.5},\n",
        "        'dataset_args': {'text_root': 'data', 'images_root': 'data/kfold/PACS', 'source_domain': 'art_painting', 'target_domain': 'sketch' },\n",
        "        'batch_size': 128,\n",
        "        'epochs': 30,\n",
        "        'num_workers': 5,\n",
        "        'grad_accum_steps': 1\n",
        "    },\n",
        "    \"1.1.14.3\" : { # Art Painting -> Photo\n",
        "        'seed': 0,\n",
        "        'test_only': False,\n",
        "        'cpu': False,\n",
        "        'experiment': 'random',\n",
        "        'experiment_name': '1.1.14.3',\n",
        "        'experiment_args': {'module_placement': ['layer2.1.conv2'], 'mask_out_ratio': 0.5},\n",
        "        'dataset_args': {'text_root': 'data', 'images_root': 'data/kfold/PACS', 'source_domain': 'art_painting', 'target_domain': 'photo' },\n",
        "        'batch_size': 128,\n",
        "        'epochs': 30,\n",
        "        'num_workers': 5,\n",
        "        'grad_accum_steps': 1\n",
        "    },\n",
        "    ### 1.1.15 - ASH MODULE AFTER layer3.0.conv1 ###\n",
        "    \"1.1.15.1\" : { # Art Painting -> Cartoon\n",
        "        'seed': 0,\n",
        "        'test_only': False,\n",
        "        'cpu': False,\n",
        "        'experiment': 'random',\n",
        "        'experiment_name': '1.1.15.1',\n",
        "        'experiment_args': {'module_placement': ['layer3.0.conv1'], 'mask_out_ratio': 0.5},\n",
        "        'dataset_args': {'text_root': 'data', 'images_root': 'data/kfold/PACS', 'source_domain': 'art_painting', 'target_domain': 'cartoon' },\n",
        "        'batch_size': 128,\n",
        "        'epochs': 30,\n",
        "        'num_workers': 5,\n",
        "        'grad_accum_steps': 1\n",
        "    },\n",
        "    \"1.1.15.2\" : { # Art Painting -> Sketch\n",
        "        'seed': 0,\n",
        "        'test_only': False,\n",
        "        'cpu': False,\n",
        "        'experiment': 'random',\n",
        "        'experiment_name': '1.1.15.2',\n",
        "        'experiment_args': {'module_placement': ['layer3.0.conv1'], 'mask_out_ratio': 0.5},\n",
        "        'dataset_args': {'text_root': 'data', 'images_root': 'data/kfold/PACS', 'source_domain': 'art_painting', 'target_domain': 'sketch' },\n",
        "        'batch_size': 128,\n",
        "        'epochs': 30,\n",
        "        'num_workers': 5,\n",
        "        'grad_accum_steps': 1\n",
        "    },\n",
        "    \"1.1.15.3\" : { # Art Painting -> Photo\n",
        "        'seed': 0,\n",
        "        'test_only': False,\n",
        "        'cpu': False,\n",
        "        'experiment': 'random',\n",
        "        'experiment_name': '1.1.15.3',\n",
        "        'experiment_args': {'module_placement': ['layer3.0.conv1'], 'mask_out_ratio': 0.5},\n",
        "        'dataset_args': {'text_root': 'data', 'images_root': 'data/kfold/PACS', 'source_domain': 'art_painting', 'target_domain': 'photo' },\n",
        "        'batch_size': 128,\n",
        "        'epochs': 30,\n",
        "        'num_workers': 5,\n",
        "        'grad_accum_steps': 1\n",
        "    },\n",
        "    ### 1.1.16 - ASH MODULE AFTER layer3.0.relu ###\n",
        "    \"1.1.16.1\" : { # Art Painting -> Cartoon\n",
        "        'seed': 0,\n",
        "        'test_only': False,\n",
        "        'cpu': False,\n",
        "        'experiment': 'random',\n",
        "        'experiment_name': '1.1.16.1',\n",
        "        'experiment_args': {'module_placement': ['layer3.0.relu'], 'mask_out_ratio': 0.5},\n",
        "        'dataset_args': {'text_root': 'data', 'images_root': 'data/kfold/PACS', 'source_domain': 'art_painting', 'target_domain': 'cartoon' },\n",
        "        'batch_size': 128,\n",
        "        'epochs': 30,\n",
        "        'num_workers': 5,\n",
        "        'grad_accum_steps': 1\n",
        "    },\n",
        "    \"1.1.16.2\" : { # Art Painting -> Sketch\n",
        "        'seed': 0,\n",
        "        'test_only': False,\n",
        "        'cpu': False,\n",
        "        'experiment': 'random',\n",
        "        'experiment_name': '1.1.16.2',\n",
        "        'experiment_args': {'module_placement': ['layer3.0.relu'], 'mask_out_ratio': 0.5},\n",
        "        'dataset_args': {'text_root': 'data', 'images_root': 'data/kfold/PACS', 'source_domain': 'art_painting', 'target_domain': 'sketch' },\n",
        "        'batch_size': 128,\n",
        "        'epochs': 30,\n",
        "        'num_workers': 5,\n",
        "        'grad_accum_steps': 1\n",
        "    },\n",
        "    \"1.1.16.3\" : { # Art Painting -> Photo\n",
        "        'seed': 0,\n",
        "        'test_only': False,\n",
        "        'cpu': False,\n",
        "        'experiment': 'random',\n",
        "        'experiment_name': '1.1.16.3',\n",
        "        'experiment_args': {'module_placement': ['layer3.0.relu'], 'mask_out_ratio': 0.5},\n",
        "        'dataset_args': {'text_root': 'data', 'images_root': 'data/kfold/PACS', 'source_domain': 'art_painting', 'target_domain': 'photo' },\n",
        "        'batch_size': 128,\n",
        "        'epochs': 30,\n",
        "        'num_workers': 5,\n",
        "        'grad_accum_steps': 1\n",
        "    },\n",
        "    ### 1.1.17 - ASH MODULE AFTER layer3.0.conv2 ###\n",
        "    \"1.1.17.1\" : { # Art Painting -> Cartoon\n",
        "        'seed': 0,\n",
        "        'test_only': False,\n",
        "        'cpu': False,\n",
        "        'experiment': 'random',\n",
        "        'experiment_name': '1.1.17.1',\n",
        "        'experiment_args': {'module_placement': ['layer3.0.conv2'], 'mask_out_ratio': 0.5},\n",
        "        'dataset_args': {'text_root': 'data', 'images_root': 'data/kfold/PACS', 'source_domain': 'art_painting', 'target_domain': 'cartoon' },\n",
        "        'batch_size': 128,\n",
        "        'epochs': 30,\n",
        "        'num_workers': 5,\n",
        "        'grad_accum_steps': 1\n",
        "    },\n",
        "    \"1.1.17.2\" : { # Art Painting -> Sketch\n",
        "        'seed': 0,\n",
        "        'test_only': False,\n",
        "        'cpu': False,\n",
        "        'experiment': 'random',\n",
        "        'experiment_name': '1.1.17.2',\n",
        "        'experiment_args': {'module_placement': ['layer3.0.conv2'], 'mask_out_ratio': 0.5},\n",
        "        'dataset_args': {'text_root': 'data', 'images_root': 'data/kfold/PACS', 'source_domain': 'art_painting', 'target_domain': 'sketch' },\n",
        "        'batch_size': 128,\n",
        "        'epochs': 30,\n",
        "        'num_workers': 5,\n",
        "        'grad_accum_steps': 1\n",
        "    },\n",
        "    \"1.1.17.3\" : { # Art Painting -> Photo\n",
        "        'seed': 0,\n",
        "        'test_only': False,\n",
        "        'cpu': False,\n",
        "        'experiment': 'random',\n",
        "        'experiment_name': '1.1.17.3',\n",
        "        'experiment_args': {'module_placement': ['layer3.0.conv2'], 'mask_out_ratio': 0.5},\n",
        "        'dataset_args': {'text_root': 'data', 'images_root': 'data/kfold/PACS', 'source_domain': 'art_painting', 'target_domain': 'photo' },\n",
        "        'batch_size': 128,\n",
        "        'epochs': 30,\n",
        "        'num_workers': 5,\n",
        "        'grad_accum_steps': 1\n",
        "    },\n",
        "    ### 1.1.18 - ASH MODULE AFTER layer3.1.conv1 ###\n",
        "    \"1.1.18.1\" : { # Art Painting -> Cartoon\n",
        "        'seed': 0,\n",
        "        'test_only': False,\n",
        "        'cpu': False,\n",
        "        'experiment': 'random',\n",
        "        'experiment_name': '1.1.18.1',\n",
        "        'experiment_args': {'module_placement': ['layer3.1.conv1'], 'mask_out_ratio': 0.5},\n",
        "        'dataset_args': {'text_root': 'data', 'images_root': 'data/kfold/PACS', 'source_domain': 'art_painting', 'target_domain': 'cartoon' },\n",
        "        'batch_size': 128,\n",
        "        'epochs': 30,\n",
        "        'num_workers': 5,\n",
        "        'grad_accum_steps': 1\n",
        "    },\n",
        "    \"1.1.18.2\" : { # Art Painting -> Sketch\n",
        "        'seed': 0,\n",
        "        'test_only': False,\n",
        "        'cpu': False,\n",
        "        'experiment': 'random',\n",
        "        'experiment_name': '1.1.18.2',\n",
        "        'experiment_args': {'module_placement': ['layer3.1.conv1'], 'mask_out_ratio': 0.5},\n",
        "        'dataset_args': {'text_root': 'data', 'images_root': 'data/kfold/PACS', 'source_domain': 'art_painting', 'target_domain': 'sketch' },\n",
        "        'batch_size': 128,\n",
        "        'epochs': 30,\n",
        "        'num_workers': 5,\n",
        "        'grad_accum_steps': 1\n",
        "    },\n",
        "    \"1.1.18.3\" : { # Art Painting -> Photo\n",
        "        'seed': 0,\n",
        "        'test_only': False,\n",
        "        'cpu': False,\n",
        "        'experiment': 'random',\n",
        "        'experiment_name': '1.1.18.3',\n",
        "        'experiment_args': {'module_placement': ['layer3.1.conv1'], 'mask_out_ratio': 0.5},\n",
        "        'dataset_args': {'text_root': 'data', 'images_root': 'data/kfold/PACS', 'source_domain': 'art_painting', 'target_domain': 'photo' },\n",
        "        'batch_size': 128,\n",
        "        'epochs': 30,\n",
        "        'num_workers': 5,\n",
        "        'grad_accum_steps': 1\n",
        "    },\n",
        "    ### 1.1.19 - ASH MODULE AFTER layer3.1.relu ###\n",
        "    \"1.1.19.1\" : { # Art Painting -> Cartoon\n",
        "        'seed': 0,\n",
        "        'test_only': False,\n",
        "        'cpu': False,\n",
        "        'experiment': 'random',\n",
        "        'experiment_name': '1.1.19.1',\n",
        "        'experiment_args': {'module_placement': ['layer3.1.relu'], 'mask_out_ratio': 0.5},\n",
        "        'dataset_args': {'text_root': 'data', 'images_root': 'data/kfold/PACS', 'source_domain': 'art_painting', 'target_domain': 'cartoon' },\n",
        "        'batch_size': 128,\n",
        "        'epochs': 30,\n",
        "        'num_workers': 5,\n",
        "        'grad_accum_steps': 1\n",
        "    },\n",
        "    \"1.1.19.2\" : { # Art Painting -> Sketch\n",
        "        'seed': 0,\n",
        "        'test_only': False,\n",
        "        'cpu': False,\n",
        "        'experiment': 'random',\n",
        "        'experiment_name': '1.1.19.2',\n",
        "        'experiment_args': {'module_placement': ['layer3.1.relu'], 'mask_out_ratio': 0.5},\n",
        "        'dataset_args': {'text_root': 'data', 'images_root': 'data/kfold/PACS', 'source_domain': 'art_painting', 'target_domain': 'sketch' },\n",
        "        'batch_size': 128,\n",
        "        'epochs': 30,\n",
        "        'num_workers': 5,\n",
        "        'grad_accum_steps': 1\n",
        "    },\n",
        "    \"1.1.19.3\" : { # Art Painting -> Photo\n",
        "        'seed': 0,\n",
        "        'test_only': False,\n",
        "        'cpu': False,\n",
        "        'experiment': 'random',\n",
        "        'experiment_name': '1.1.19.3',\n",
        "        'experiment_args': {'module_placement': ['layer3.1.relu'], 'mask_out_ratio': 0.5},\n",
        "        'dataset_args': {'text_root': 'data', 'images_root': 'data/kfold/PACS', 'source_domain': 'art_painting', 'target_domain': 'photo' },\n",
        "        'batch_size': 128,\n",
        "        'epochs': 30,\n",
        "        'num_workers': 5,\n",
        "        'grad_accum_steps': 1\n",
        "    },\n",
        "    ### 1.1.20 - ASH MODULE AFTER layer3.1.conv2 ###\n",
        "    \"1.1.20.1\" : { # Art Painting -> Cartoon\n",
        "        'seed': 0,\n",
        "        'test_only': False,\n",
        "        'cpu': False,\n",
        "        'experiment': 'random',\n",
        "        'experiment_name': '1.1.20.1',\n",
        "        'experiment_args': {'module_placement': ['layer3.1.conv2'], 'mask_out_ratio': 0.5},\n",
        "        'dataset_args': {'text_root': 'data', 'images_root': 'data/kfold/PACS', 'source_domain': 'art_painting', 'target_domain': 'cartoon' },\n",
        "        'batch_size': 128,\n",
        "        'epochs': 30,\n",
        "        'num_workers': 5,\n",
        "        'grad_accum_steps': 1\n",
        "    },\n",
        "    \"1.1.20.2\" : { # Art Painting -> Sketch\n",
        "        'seed': 0,\n",
        "        'test_only': False,\n",
        "        'cpu': False,\n",
        "        'experiment': 'random',\n",
        "        'experiment_name': '1.1.20.2',\n",
        "        'experiment_args': {'module_placement': ['layer3.1.conv2'], 'mask_out_ratio': 0.5},\n",
        "        'dataset_args': {'text_root': 'data', 'images_root': 'data/kfold/PACS', 'source_domain': 'art_painting', 'target_domain': 'sketch' },\n",
        "        'batch_size': 128,\n",
        "        'epochs': 30,\n",
        "        'num_workers': 5,\n",
        "        'grad_accum_steps': 1\n",
        "    },\n",
        "    \"1.1.20.3\" : { # Art Painting -> Photo\n",
        "        'seed': 0,\n",
        "        'test_only': False,\n",
        "        'cpu': False,\n",
        "        'experiment': 'random',\n",
        "        'experiment_name': '1.1.20.3',\n",
        "        'experiment_args': {'module_placement': ['layer3.1.conv2'], 'mask_out_ratio': 0.5},\n",
        "        'dataset_args': {'text_root': 'data', 'images_root': 'data/kfold/PACS', 'source_domain': 'art_painting', 'target_domain': 'photo' },\n",
        "        'batch_size': 128,\n",
        "        'epochs': 30,\n",
        "        'num_workers': 5,\n",
        "        'grad_accum_steps': 1\n",
        "    },\n",
        "    ### 1.1.21 - ASH MODULE AFTER layer4.0.conv1 ###\n",
        "    \"1.1.21.1\" : { # Art Painting -> Cartoon\n",
        "        'seed': 0,\n",
        "        'test_only': False,\n",
        "        'cpu': False,\n",
        "        'experiment': 'random',\n",
        "        'experiment_name': '1.1.21.1',\n",
        "        'experiment_args': {'module_placement': ['layer4.0.conv1'], 'mask_out_ratio': 0.5},\n",
        "        'dataset_args': {'text_root': 'data', 'images_root': 'data/kfold/PACS', 'source_domain': 'art_painting', 'target_domain': 'cartoon' },\n",
        "        'batch_size': 128,\n",
        "        'epochs': 30,\n",
        "        'num_workers': 5,\n",
        "        'grad_accum_steps': 1\n",
        "    },\n",
        "    \"1.1.21.2\" : { # Art Painting -> Sketch\n",
        "        'seed': 0,\n",
        "        'test_only': False,\n",
        "        'cpu': False,\n",
        "        'experiment': 'random',\n",
        "        'experiment_name': '1.1.21.2',\n",
        "        'experiment_args': {'module_placement': ['layer4.0.conv1'], 'mask_out_ratio': 0.5},\n",
        "        'dataset_args': {'text_root': 'data', 'images_root': 'data/kfold/PACS', 'source_domain': 'art_painting', 'target_domain': 'sketch' },\n",
        "        'batch_size': 128,\n",
        "        'epochs': 30,\n",
        "        'num_workers': 5,\n",
        "        'grad_accum_steps': 1\n",
        "    },\n",
        "    \"1.1.21.3\" : { # Art Painting -> Photo\n",
        "        'seed': 0,\n",
        "        'test_only': False,\n",
        "        'cpu': False,\n",
        "        'experiment': 'random',\n",
        "        'experiment_name': '1.1.21.3',\n",
        "        'experiment_args': {'module_placement': ['layer4.0.conv1'], 'mask_out_ratio': 0.5},\n",
        "        'dataset_args': {'text_root': 'data', 'images_root': 'data/kfold/PACS', 'source_domain': 'art_painting', 'target_domain': 'photo' },\n",
        "        'batch_size': 128,\n",
        "        'epochs': 30,\n",
        "        'num_workers': 5,\n",
        "        'grad_accum_steps': 1\n",
        "    },\n",
        "    ### 1.1.22 - ASH MODULE AFTER layer4.0.relu ###\n",
        "    \"1.1.22.1\" : { # Art Painting -> Cartoon\n",
        "        'seed': 0,\n",
        "        'test_only': False,\n",
        "        'cpu': False,\n",
        "        'experiment': 'random',\n",
        "        'experiment_name': '1.1.22.1',\n",
        "        'experiment_args': {'module_placement': ['layer4.0.relu'], 'mask_out_ratio': 0.5},\n",
        "        'dataset_args': {'text_root': 'data', 'images_root': 'data/kfold/PACS', 'source_domain': 'art_painting', 'target_domain': 'cartoon' },\n",
        "        'batch_size': 128,\n",
        "        'epochs': 30,\n",
        "        'num_workers': 5,\n",
        "        'grad_accum_steps': 1\n",
        "    },\n",
        "    \"1.1.22.2\" : { # Art Painting -> Sketch\n",
        "        'seed': 0,\n",
        "        'test_only': False,\n",
        "        'cpu': False,\n",
        "        'experiment': 'random',\n",
        "        'experiment_name': '1.1.22.2',\n",
        "        'experiment_args': {'module_placement': ['layer4.0.relu'], 'mask_out_ratio': 0.5},\n",
        "        'dataset_args': {'text_root': 'data', 'images_root': 'data/kfold/PACS', 'source_domain': 'art_painting', 'target_domain': 'sketch' },\n",
        "        'batch_size': 128,\n",
        "        'epochs': 30,\n",
        "        'num_workers': 5,\n",
        "        'grad_accum_steps': 1\n",
        "    },\n",
        "    \"1.1.22.3\" : { # Art Painting -> Photo\n",
        "        'seed': 0,\n",
        "        'test_only': False,\n",
        "        'cpu': False,\n",
        "        'experiment': 'random',\n",
        "        'experiment_name': '1.1.22.3',\n",
        "        'experiment_args': {'module_placement': ['layer4.0.relu'], 'mask_out_ratio': 0.5},\n",
        "        'dataset_args': {'text_root': 'data', 'images_root': 'data/kfold/PACS', 'source_domain': 'art_painting', 'target_domain': 'photo' },\n",
        "        'batch_size': 128,\n",
        "        'epochs': 30,\n",
        "        'num_workers': 5,\n",
        "        'grad_accum_steps': 1\n",
        "    },\n",
        "    ### 1.1.23 - ASH MODULE AFTER layer4.0.conv2 ###\n",
        "    \"1.1.23.1\" : { # Art Painting -> Cartoon\n",
        "        'seed': 0,\n",
        "        'test_only': False,\n",
        "        'cpu': False,\n",
        "        'experiment': 'random',\n",
        "        'experiment_name': '1.1.23.1',\n",
        "        'experiment_args': {'module_placement': ['layer4.0.conv2'], 'mask_out_ratio': 0.5},\n",
        "        'dataset_args': {'text_root': 'data', 'images_root': 'data/kfold/PACS', 'source_domain': 'art_painting', 'target_domain': 'cartoon' },\n",
        "        'batch_size': 128,\n",
        "        'epochs': 30,\n",
        "        'num_workers': 5,\n",
        "        'grad_accum_steps': 1\n",
        "    },\n",
        "    \"1.1.23.2\" : { # Art Painting -> Sketch\n",
        "        'seed': 0,\n",
        "        'test_only': False,\n",
        "        'cpu': False,\n",
        "        'experiment': 'random',\n",
        "        'experiment_name': '1.1.23.2',\n",
        "        'experiment_args': {'module_placement': ['layer4.0.conv2'], 'mask_out_ratio': 0.5},\n",
        "        'dataset_args': {'text_root': 'data', 'images_root': 'data/kfold/PACS', 'source_domain': 'art_painting', 'target_domain': 'sketch' },\n",
        "        'batch_size': 128,\n",
        "        'epochs': 30,\n",
        "        'num_workers': 5,\n",
        "        'grad_accum_steps': 1\n",
        "    },\n",
        "    \"1.1.23.3\" : { # Art Painting -> Photo\n",
        "        'seed': 0,\n",
        "        'test_only': False,\n",
        "        'cpu': False,\n",
        "        'experiment': 'random',\n",
        "        'experiment_name': '1.1.23.3',\n",
        "        'experiment_args': {'module_placement': ['layer4.0.conv2'], 'mask_out_ratio': 0.5},\n",
        "        'dataset_args': {'text_root': 'data', 'images_root': 'data/kfold/PACS', 'source_domain': 'art_painting', 'target_domain': 'photo' },\n",
        "        'batch_size': 128,\n",
        "        'epochs': 30,\n",
        "        'num_workers': 5,\n",
        "        'grad_accum_steps': 1\n",
        "    },\n",
        "    ### 1.1.24 - ASH MODULE AFTER layer4.1.conv1 ###\n",
        "    \"1.1.24.1\" : { # Art Painting -> Cartoon\n",
        "        'seed': 0,\n",
        "        'test_only': False,\n",
        "        'cpu': False,\n",
        "        'experiment': 'random',\n",
        "        'experiment_name': '1.1.24.1',\n",
        "        'experiment_args': {'module_placement': ['layer4.1.conv1'], 'mask_out_ratio': 0.5},\n",
        "        'dataset_args': {'text_root': 'data', 'images_root': 'data/kfold/PACS', 'source_domain': 'art_painting', 'target_domain': 'cartoon' },\n",
        "        'batch_size': 128,\n",
        "        'epochs': 30,\n",
        "        'num_workers': 5,\n",
        "        'grad_accum_steps': 1\n",
        "    },\n",
        "    \"1.1.24.2\" : { # Art Painting -> Sketch\n",
        "        'seed': 0,\n",
        "        'test_only': False,\n",
        "        'cpu': False,\n",
        "        'experiment': 'random',\n",
        "        'experiment_name': '1.1.24.2',\n",
        "        'experiment_args': {'module_placement': ['layer4.1.conv1'], 'mask_out_ratio': 0.5},\n",
        "        'dataset_args': {'text_root': 'data', 'images_root': 'data/kfold/PACS', 'source_domain': 'art_painting', 'target_domain': 'sketch' },\n",
        "        'batch_size': 128,\n",
        "        'epochs': 30,\n",
        "        'num_workers': 5,\n",
        "        'grad_accum_steps': 1\n",
        "    },\n",
        "    \"1.1.24.3\" : { # Art Painting -> Photo\n",
        "        'seed': 0,\n",
        "        'test_only': False,\n",
        "        'cpu': False,\n",
        "        'experiment': 'random',\n",
        "        'experiment_name': '1.1.24.3',\n",
        "        'experiment_args': {'module_placement': ['layer4.1.conv1'], 'mask_out_ratio': 0.5},\n",
        "        'dataset_args': {'text_root': 'data', 'images_root': 'data/kfold/PACS', 'source_domain': 'art_painting', 'target_domain': 'photo' },\n",
        "        'batch_size': 128,\n",
        "        'epochs': 30,\n",
        "        'num_workers': 5,\n",
        "        'grad_accum_steps': 1\n",
        "    },\n",
        "    ### 1.1.25 - ASH MODULE AFTER layer4.1.relu ###\n",
        "    \"1.1.25.1\" : { # Art Painting -> Cartoon\n",
        "        'seed': 0,\n",
        "        'test_only': False,\n",
        "        'cpu': False,\n",
        "        'experiment': 'random',\n",
        "        'experiment_name': '1.1.25.1',\n",
        "        'experiment_args': {'module_placement': ['layer4.1.relu'], 'mask_out_ratio': 0.5},\n",
        "        'dataset_args': {'text_root': 'data', 'images_root': 'data/kfold/PACS', 'source_domain': 'art_painting', 'target_domain': 'cartoon' },\n",
        "        'batch_size': 128,\n",
        "        'epochs': 30,\n",
        "        'num_workers': 5,\n",
        "        'grad_accum_steps': 1\n",
        "    },\n",
        "    \"1.1.25.2\" : { # Art Painting -> Sketch\n",
        "        'seed': 0,\n",
        "        'test_only': False,\n",
        "        'cpu': False,\n",
        "        'experiment': 'random',\n",
        "        'experiment_name': '1.1.25.2',\n",
        "        'experiment_args': {'module_placement': ['layer4.1.relu'], 'mask_out_ratio': 0.5},\n",
        "        'dataset_args': {'text_root': 'data', 'images_root': 'data/kfold/PACS', 'source_domain': 'art_painting', 'target_domain': 'sketch' },\n",
        "        'batch_size': 128,\n",
        "        'epochs': 30,\n",
        "        'num_workers': 5,\n",
        "        'grad_accum_steps': 1\n",
        "    },\n",
        "    \"1.1.25.3\" : { # Art Painting -> Photo\n",
        "        'seed': 0,\n",
        "        'test_only': False,\n",
        "        'cpu': False,\n",
        "        'experiment': 'random',\n",
        "        'experiment_name': '1.1.25.3',\n",
        "        'experiment_args': {'module_placement': ['layer4.1.relu'], 'mask_out_ratio': 0.5},\n",
        "        'dataset_args': {'text_root': 'data', 'images_root': 'data/kfold/PACS', 'source_domain': 'art_painting', 'target_domain': 'photo' },\n",
        "        'batch_size': 128,\n",
        "        'epochs': 30,\n",
        "        'num_workers': 5,\n",
        "        'grad_accum_steps': 1\n",
        "    },\n",
        "    ### 1.1.26 - ASH MODULE AFTER layer4.1.conv2 ###\n",
        "    \"1.1.26.1\" : { # Art Painting -> Cartoon\n",
        "        'seed': 0,\n",
        "        'test_only': False,\n",
        "        'cpu': False,\n",
        "        'experiment': 'random',\n",
        "        'experiment_name': '1.1.26.1',\n",
        "        'experiment_args': {'module_placement': ['layer4.1.conv2'], 'mask_out_ratio': 0.5},\n",
        "        'dataset_args': {'text_root': 'data', 'images_root': 'data/kfold/PACS', 'source_domain': 'art_painting', 'target_domain': 'cartoon' },\n",
        "        'batch_size': 128,\n",
        "        'epochs': 30,\n",
        "        'num_workers': 5,\n",
        "        'grad_accum_steps': 1\n",
        "    },\n",
        "    \"1.1.26.2\" : { # Art Painting -> Sketch\n",
        "        'seed': 0,\n",
        "        'test_only': False,\n",
        "        'cpu': False,\n",
        "        'experiment': 'random',\n",
        "        'experiment_name': '1.1.26.2',\n",
        "        'experiment_args': {'module_placement': ['layer4.1.conv2'], 'mask_out_ratio': 0.5},\n",
        "        'dataset_args': {'text_root': 'data', 'images_root': 'data/kfold/PACS', 'source_domain': 'art_painting', 'target_domain': 'sketch' },\n",
        "        'batch_size': 128,\n",
        "        'epochs': 30,\n",
        "        'num_workers': 5,\n",
        "        'grad_accum_steps': 1\n",
        "    },\n",
        "    \"1.1.26.3\" : { # Art Painting -> Photo\n",
        "        'seed': 0,\n",
        "        'test_only': False,\n",
        "        'cpu': False,\n",
        "        'experiment': 'random',\n",
        "        'experiment_name': '1.1.26.3',\n",
        "        'experiment_args': {'module_placement': ['layer4.1.conv2'], 'mask_out_ratio': 0.5},\n",
        "        'dataset_args': {'text_root': 'data', 'images_root': 'data/kfold/PACS', 'source_domain': 'art_painting', 'target_domain': 'photo' },\n",
        "        'batch_size': 128,\n",
        "        'epochs': 30,\n",
        "        'num_workers': 5,\n",
        "        'grad_accum_steps': 1\n",
        "    },\n",
        "\n",
        "    #### 1.2 - TWO ASH MODULES ####\n",
        "    ### 1.2.1 - ASH MODULE AFTER layer1.1.bn1 AND layer1.1.conv2 ###\n",
        "    \"1.2.1.1\" : { # Art Painting -> Cartoon\n",
        "        'seed': 0,\n",
        "        'test_only': False,\n",
        "        'cpu': False,\n",
        "        'experiment': 'random',\n",
        "        'experiment_name': '1.2.1.1',\n",
        "        'experiment_args': {'module_placement': ['layer1.1.bn1', 'layer1.1.conv2'], 'mask_out_ratio': 0.5},\n",
        "        'dataset_args': {'text_root': 'data', 'images_root': 'data/kfold/PACS', 'source_domain': 'art_painting', 'target_domain': 'cartoon' },\n",
        "        'batch_size': 128,\n",
        "        'epochs': 30,\n",
        "        'num_workers': 5,\n",
        "        'grad_accum_steps': 1\n",
        "    },\n",
        "    \"1.2.1.2\" : { # Art Painting -> Sketch\n",
        "        'seed': 0,\n",
        "        'test_only': False,\n",
        "        'cpu': False,\n",
        "        'experiment': 'random',\n",
        "        'experiment_name': '1.2.1.2',\n",
        "        'experiment_args': {'module_placement': ['layer1.1.bn1', 'layer1.1.conv2'], 'mask_out_ratio': 0.5},\n",
        "        'dataset_args': {'text_root': 'data', 'images_root': 'data/kfold/PACS', 'source_domain': 'art_painting', 'target_domain': 'sketch' },\n",
        "        'batch_size': 128,\n",
        "        'epochs': 30,\n",
        "        'num_workers': 5,\n",
        "        'grad_accum_steps': 1\n",
        "    },\n",
        "    \"1.2.1.3\" : { # Art Painting -> Photo\n",
        "        'seed': 0,\n",
        "        'test_only': False,\n",
        "        'cpu': False,\n",
        "        'experiment': 'random',\n",
        "        'experiment_name': '1.2.1.3',\n",
        "        'experiment_args': {'module_placement': ['layer1.1.bn1', 'layer1.1.conv2'], 'mask_out_ratio': 0.5},\n",
        "        'dataset_args': {'text_root': 'data', 'images_root': 'data/kfold/PACS', 'source_domain': 'art_painting', 'target_domain': 'photo' },\n",
        "        'batch_size': 128,\n",
        "        'epochs': 30,\n",
        "        'num_workers': 5,\n",
        "        'grad_accum_steps': 1\n",
        "    },\n",
        "    ### 1.2.2 - ASH MODULE AFTER layer1.1.bn1 AND layer1.1.bn2 ###\n",
        "    \"1.2.2.1\" : { # Art Painting -> Cartoon\n",
        "        'seed': 0,\n",
        "        'test_only': False,\n",
        "        'cpu': False,\n",
        "        'experiment': 'random',\n",
        "        'experiment_name': '1.2.2.1',\n",
        "        'experiment_args': {'module_placement': ['layer1.1.bn1', 'layer1.1.bn2'], 'mask_out_ratio': 0.5},\n",
        "        'dataset_args': {'text_root': 'data', 'images_root': 'data/kfold/PACS', 'source_domain': 'art_painting', 'target_domain': 'cartoon' },\n",
        "        'batch_size': 128,\n",
        "        'epochs': 30,\n",
        "        'num_workers': 5,\n",
        "        'grad_accum_steps': 1\n",
        "    },\n",
        "    \"1.2.2.2\" : { # Art Painting -> Sketch\n",
        "        'seed': 0,\n",
        "        'test_only': False,\n",
        "        'cpu': False,\n",
        "        'experiment': 'random',\n",
        "        'experiment_name': '1.2.2.2',\n",
        "        'experiment_args': {'module_placement': ['layer1.1.bn1', 'layer1.1.bn2'], 'mask_out_ratio': 0.5},\n",
        "        'dataset_args': {'text_root': 'data', 'images_root': 'data/kfold/PACS', 'source_domain': 'art_painting', 'target_domain': 'sketch' },\n",
        "        'batch_size': 128,\n",
        "        'epochs': 30,\n",
        "        'num_workers': 5,\n",
        "        'grad_accum_steps': 1\n",
        "    },\n",
        "    \"1.2.2.3\" : { # Art Painting -> Photo\n",
        "        'seed': 0,\n",
        "        'test_only': False,\n",
        "        'cpu': False,\n",
        "        'experiment': 'random',\n",
        "        'experiment_name': '1.2.2.3',\n",
        "        'experiment_args': {'module_placement': ['layer1.1.bn1', 'layer1.1.bn2'], 'mask_out_ratio': 0.5},\n",
        "        'dataset_args': {'text_root': 'data', 'images_root': 'data/kfold/PACS', 'source_domain': 'art_painting', 'target_domain': 'photo' },\n",
        "        'batch_size': 128,\n",
        "        'epochs': 30,\n",
        "        'num_workers': 5,\n",
        "        'grad_accum_steps': 1\n",
        "    },\n",
        "    ### 1.2.3 - ASH MODULE AFTER layer1.1.bn1 AND layer2.1.conv2 ###\n",
        "    \"1.2.3.1\" : { # Art Painting -> Cartoon\n",
        "        'seed': 0,\n",
        "        'test_only': False,\n",
        "        'cpu': False,\n",
        "        'experiment': 'random',\n",
        "        'experiment_name': '1.2.3.1',\n",
        "        'experiment_args': {'module_placement': ['layer1.1.bn1', 'layer2.1.conv2'], 'mask_out_ratio': 0.5},\n",
        "        'dataset_args': {'text_root': 'data', 'images_root': 'data/kfold/PACS', 'source_domain': 'art_painting', 'target_domain': 'cartoon' },\n",
        "        'batch_size': 128,\n",
        "        'epochs': 30,\n",
        "        'num_workers': 5,\n",
        "        'grad_accum_steps': 1\n",
        "    },\n",
        "    \"1.2.3.2\" : { # Art Painting -> Sketch\n",
        "        'seed': 0,\n",
        "        'test_only': False,\n",
        "        'cpu': False,\n",
        "        'experiment': 'random',\n",
        "        'experiment_name': '1.2.3.2',\n",
        "        'experiment_args': {'module_placement': ['layer1.1.bn1', 'layer2.1.conv2'], 'mask_out_ratio': 0.5},\n",
        "        'dataset_args': {'text_root': 'data', 'images_root': 'data/kfold/PACS', 'source_domain': 'art_painting', 'target_domain': 'sketch' },\n",
        "        'batch_size': 128,\n",
        "        'epochs': 30,\n",
        "        'num_workers': 5,\n",
        "        'grad_accum_steps': 1\n",
        "    },\n",
        "    \"1.2.3.3\" : { # Art Painting -> Photo\n",
        "        'seed': 0,\n",
        "        'test_only': False,\n",
        "        'cpu': False,\n",
        "        'experiment': 'random',\n",
        "        'experiment_name': '1.2.3.3',\n",
        "        'experiment_args': {'module_placement': ['layer1.1.bn1', 'layer2.1.conv2'], 'mask_out_ratio': 0.5},\n",
        "        'dataset_args': {'text_root': 'data', 'images_root': 'data/kfold/PACS', 'source_domain': 'art_painting', 'target_domain': 'photo' },\n",
        "        'batch_size': 128,\n",
        "        'epochs': 30,\n",
        "        'num_workers': 5,\n",
        "        'grad_accum_steps': 1\n",
        "    },\n",
        "    ### 1.2.4 - ASH MODULE AFTER layer1.1.bn1 AND layer3.0.conv1 ###\n",
        "    \"1.2.4.1\" : { # Art Painting -> Cartoon\n",
        "        'seed': 0,\n",
        "        'test_only': False,\n",
        "        'cpu': False,\n",
        "        'experiment': 'random',\n",
        "        'experiment_name': '1.2.4.1',\n",
        "        'experiment_args': {'module_placement': ['layer1.1.bn1', 'layer3.0.conv1'], 'mask_out_ratio': 0.5},\n",
        "        'dataset_args': {'text_root': 'data', 'images_root': 'data/kfold/PACS', 'source_domain': 'art_painting', 'target_domain': 'cartoon' },\n",
        "        'batch_size': 128,\n",
        "        'epochs': 30,\n",
        "        'num_workers': 5,\n",
        "        'grad_accum_steps': 1\n",
        "    },\n",
        "    \"1.2.4.2\" : { # Art Painting -> Sketch\n",
        "        'seed': 0,\n",
        "        'test_only': False,\n",
        "        'cpu': False,\n",
        "        'experiment': 'random',\n",
        "        'experiment_name': '1.2.4.2',\n",
        "        'experiment_args': {'module_placement': ['layer1.1.bn1', 'layer3.0.conv1'], 'mask_out_ratio': 0.5},\n",
        "        'dataset_args': {'text_root': 'data', 'images_root': 'data/kfold/PACS', 'source_domain': 'art_painting', 'target_domain': 'sketch' },\n",
        "        'batch_size': 128,\n",
        "        'epochs': 30,\n",
        "        'num_workers': 5,\n",
        "        'grad_accum_steps': 1\n",
        "    },\n",
        "    \"1.2.4.3\" : { # Art Painting -> Photo\n",
        "        'seed': 0,\n",
        "        'test_only': False,\n",
        "        'cpu': False,\n",
        "        'experiment': 'random',\n",
        "        'experiment_name': '1.2.4.3',\n",
        "        'experiment_args': {'module_placement': ['layer1.1.bn1', 'layer3.0.conv1'], 'mask_out_ratio': 0.5},\n",
        "        'dataset_args': {'text_root': 'data', 'images_root': 'data/kfold/PACS', 'source_domain': 'art_painting', 'target_domain': 'photo' },\n",
        "        'batch_size': 128,\n",
        "        'epochs': 30,\n",
        "        'num_workers': 5,\n",
        "        'grad_accum_steps': 1\n",
        "    },\n",
        "    ### 1.2.5 - ASH MODULE AFTER layer1.1.bn1 AND layer3.1.conv2 ###\n",
        "    \"1.2.5.1\" : { # Art Painting -> Cartoon\n",
        "        'seed': 0,\n",
        "        'test_only': False,\n",
        "        'cpu': False,\n",
        "        'experiment': 'random',\n",
        "        'experiment_name': '1.2.5.1',\n",
        "        'experiment_args': {'module_placement': ['layer1.1.bn1', 'layer3.1.conv2'], 'mask_out_ratio': 0.5},\n",
        "        'dataset_args': {'text_root': 'data', 'images_root': 'data/kfold/PACS', 'source_domain': 'art_painting', 'target_domain': 'cartoon' },\n",
        "        'batch_size': 128,\n",
        "        'epochs': 30,\n",
        "        'num_workers': 5,\n",
        "        'grad_accum_steps': 1\n",
        "    },\n",
        "    \"1.2.5.2\" : { # Art Painting -> Sketch\n",
        "        'seed': 0,\n",
        "        'test_only': False,\n",
        "        'cpu': False,\n",
        "        'experiment': 'random',\n",
        "        'experiment_name': '1.2.5.2',\n",
        "        'experiment_args': {'module_placement': ['layer1.1.bn1', 'layer3.1.conv2'], 'mask_out_ratio': 0.5},\n",
        "        'dataset_args': {'text_root': 'data', 'images_root': 'data/kfold/PACS', 'source_domain': 'art_painting', 'target_domain': 'sketch' },\n",
        "        'batch_size': 128,\n",
        "        'epochs': 30,\n",
        "        'num_workers': 5,\n",
        "        'grad_accum_steps': 1\n",
        "    },\n",
        "    \"1.2.5.3\" : { # Art Painting -> Photo\n",
        "        'seed': 0,\n",
        "        'test_only': False,\n",
        "        'cpu': False,\n",
        "        'experiment': 'random',\n",
        "        'experiment_name': '1.2.5.3',\n",
        "        'experiment_args': {'module_placement': ['layer1.1.bn1', 'layer3.1.conv2'], 'mask_out_ratio': 0.5},\n",
        "        'dataset_args': {'text_root': 'data', 'images_root': 'data/kfold/PACS', 'source_domain': 'art_painting', 'target_domain': 'photo' },\n",
        "        'batch_size': 128,\n",
        "        'epochs': 30,\n",
        "        'num_workers': 5,\n",
        "        'grad_accum_steps': 1\n",
        "    },\n",
        "    ### 1.2.6 - ASH MODULE AFTER layer1.1.conv2 AND layer1.1.bn2 ###\n",
        "    \"1.2.6.1\" : { # Art Painting -> Cartoon\n",
        "        'seed': 0,\n",
        "        'test_only': False,\n",
        "        'cpu': False,\n",
        "        'experiment': 'random',\n",
        "        'experiment_name': '1.2.6.1',\n",
        "        'experiment_args': {'module_placement': ['layer1.1.conv2', 'layer1.1.bn2'], 'mask_out_ratio': 0.5},\n",
        "        'dataset_args': {'text_root': 'data', 'images_root': 'data/kfold/PACS', 'source_domain': 'art_painting', 'target_domain': 'cartoon' },\n",
        "        'batch_size': 128,\n",
        "        'epochs': 30,\n",
        "        'num_workers': 5,\n",
        "        'grad_accum_steps': 1\n",
        "    },\n",
        "    \"1.2.6.2\" : { # Art Painting -> Sketch\n",
        "        'seed': 0,\n",
        "        'test_only': False,\n",
        "        'cpu': False,\n",
        "        'experiment': 'random',\n",
        "        'experiment_name': '1.2.6.2',\n",
        "        'experiment_args': {'module_placement': ['layer1.1.conv2', 'layer1.1.bn2'], 'mask_out_ratio': 0.5},\n",
        "        'dataset_args': {'text_root': 'data', 'images_root': 'data/kfold/PACS', 'source_domain': 'art_painting', 'target_domain': 'sketch' },\n",
        "        'batch_size': 128,\n",
        "        'epochs': 30,\n",
        "        'num_workers': 5,\n",
        "        'grad_accum_steps': 1\n",
        "    },\n",
        "    \"1.2.6.3\" : { # Art Painting -> Photo\n",
        "        'seed': 0,\n",
        "        'test_only': False,\n",
        "        'cpu': False,\n",
        "        'experiment': 'random',\n",
        "        'experiment_name': '1.2.6.3',\n",
        "        'experiment_args': {'module_placement': ['layer1.1.conv2', 'layer1.1.bn2'], 'mask_out_ratio': 0.5},\n",
        "        'dataset_args': {'text_root': 'data', 'images_root': 'data/kfold/PACS', 'source_domain': 'art_painting', 'target_domain': 'photo' },\n",
        "        'batch_size': 128,\n",
        "        'epochs': 30,\n",
        "        'num_workers': 5,\n",
        "        'grad_accum_steps': 1\n",
        "    },\n",
        "    ### 1.2.7 - ASH MODULE AFTER layer1.1.conv2 AND layer2.1.conv2 ###\n",
        "    \"1.2.7.1\" : { # Art Painting -> Cartoon\n",
        "        'seed': 0,\n",
        "        'test_only': False,\n",
        "        'cpu': False,\n",
        "        'experiment': 'random',\n",
        "        'experiment_name': '1.2.7.1',\n",
        "        'experiment_args': {'module_placement': ['layer1.1.conv2', 'layer2.1.conv2'], 'mask_out_ratio': 0.5},\n",
        "        'dataset_args': {'text_root': 'data', 'images_root': 'data/kfold/PACS', 'source_domain': 'art_painting', 'target_domain': 'cartoon' },\n",
        "        'batch_size': 128,\n",
        "        'epochs': 30,\n",
        "        'num_workers': 5,\n",
        "        'grad_accum_steps': 1\n",
        "    },\n",
        "    \"1.2.7.2\" : { # Art Painting -> Sketch\n",
        "        'seed': 0,\n",
        "        'test_only': False,\n",
        "        'cpu': False,\n",
        "        'experiment': 'random',\n",
        "        'experiment_name': '1.2.7.2',\n",
        "        'experiment_args': {'module_placement': ['layer1.1.conv2', 'layer2.1.conv2'], 'mask_out_ratio': 0.5},\n",
        "        'dataset_args': {'text_root': 'data', 'images_root': 'data/kfold/PACS', 'source_domain': 'art_painting', 'target_domain': 'sketch' },\n",
        "        'batch_size': 128,\n",
        "        'epochs': 30,\n",
        "        'num_workers': 5,\n",
        "        'grad_accum_steps': 1\n",
        "    },\n",
        "    \"1.2.7.3\" : { # Art Painting -> Photo\n",
        "        'seed': 0,\n",
        "        'test_only': False,\n",
        "        'cpu': False,\n",
        "        'experiment': 'random',\n",
        "        'experiment_name': '1.2.7.3',\n",
        "        'experiment_args': {'module_placement': ['layer1.1.conv2', 'layer2.1.conv2'], 'mask_out_ratio': 0.5},\n",
        "        'dataset_args': {'text_root': 'data', 'images_root': 'data/kfold/PACS', 'source_domain': 'art_painting', 'target_domain': 'photo' },\n",
        "        'batch_size': 128,\n",
        "        'epochs': 30,\n",
        "        'num_workers': 5,\n",
        "        'grad_accum_steps': 1\n",
        "    },\n",
        "    ### 1.2.8 - ASH MODULE AFTER layer1.1.conv2 AND layer3.0.conv1 ###\n",
        "    \"1.2.8.1\" : { # Art Painting -> Cartoon\n",
        "        'seed': 0,\n",
        "        'test_only': False,\n",
        "        'cpu': False,\n",
        "        'experiment': 'random',\n",
        "        'experiment_name': '1.2.8.1',\n",
        "        'experiment_args': {'module_placement': ['layer1.1.conv2', 'layer3.0.conv1'], 'mask_out_ratio': 0.5},\n",
        "        'dataset_args': {'text_root': 'data', 'images_root': 'data/kfold/PACS', 'source_domain': 'art_painting', 'target_domain': 'cartoon' },\n",
        "        'batch_size': 128,\n",
        "        'epochs': 30,\n",
        "        'num_workers': 5,\n",
        "        'grad_accum_steps': 1\n",
        "    },\n",
        "    \"1.2.8.2\" : { # Art Painting -> Sketch\n",
        "        'seed': 0,\n",
        "        'test_only': False,\n",
        "        'cpu': False,\n",
        "        'experiment': 'random',\n",
        "        'experiment_name': '1.2.8.2',\n",
        "        'experiment_args': {'module_placement': ['layer1.1.conv2', 'layer3.0.conv1'], 'mask_out_ratio': 0.5},\n",
        "        'dataset_args': {'text_root': 'data', 'images_root': 'data/kfold/PACS', 'source_domain': 'art_painting', 'target_domain': 'sketch' },\n",
        "        'batch_size': 128,\n",
        "        'epochs': 30,\n",
        "        'num_workers': 5,\n",
        "        'grad_accum_steps': 1\n",
        "    },\n",
        "    \"1.2.8.3\" : { # Art Painting -> Photo\n",
        "        'seed': 0,\n",
        "        'test_only': False,\n",
        "        'cpu': False,\n",
        "        'experiment': 'random',\n",
        "        'experiment_name': '1.2.8.3',\n",
        "        'experiment_args': {'module_placement': ['layer1.1.conv2', 'layer3.0.conv1'], 'mask_out_ratio': 0.5},\n",
        "        'dataset_args': {'text_root': 'data', 'images_root': 'data/kfold/PACS', 'source_domain': 'art_painting', 'target_domain': 'photo' },\n",
        "        'batch_size': 128,\n",
        "        'epochs': 30,\n",
        "        'num_workers': 5,\n",
        "        'grad_accum_steps': 1\n",
        "    },\n",
        "    ### 1.2.9 - ASH MODULE AFTER layer1.1.conv2 AND layer3.1.conv2 ###\n",
        "    \"1.2.9.1\" : { # Art Painting -> Cartoon\n",
        "        'seed': 0,\n",
        "        'test_only': False,\n",
        "        'cpu': False,\n",
        "        'experiment': 'random',\n",
        "        'experiment_name': '1.2.9.1',\n",
        "        'experiment_args': {'module_placement': ['layer1.1.conv2', 'layer3.1.conv2'], 'mask_out_ratio': 0.5},\n",
        "        'dataset_args': {'text_root': 'data', 'images_root': 'data/kfold/PACS', 'source_domain': 'art_painting', 'target_domain': 'cartoon' },\n",
        "        'batch_size': 128,\n",
        "        'epochs': 30,\n",
        "        'num_workers': 5,\n",
        "        'grad_accum_steps': 1\n",
        "    },\n",
        "    \"1.2.9.2\" : { # Art Painting -> Sketch\n",
        "        'seed': 0,\n",
        "        'test_only': False,\n",
        "        'cpu': False,\n",
        "        'experiment': 'random',\n",
        "        'experiment_name': '1.2.9.2',\n",
        "        'experiment_args': {'module_placement': ['layer1.1.conv2', 'layer3.1.conv2'], 'mask_out_ratio': 0.5},\n",
        "        'dataset_args': {'text_root': 'data', 'images_root': 'data/kfold/PACS', 'source_domain': 'art_painting', 'target_domain': 'sketch' },\n",
        "        'batch_size': 128,\n",
        "        'epochs': 30,\n",
        "        'num_workers': 5,\n",
        "        'grad_accum_steps': 1\n",
        "    },\n",
        "    \"1.2.9.3\" : { # Art Painting -> Photo\n",
        "        'seed': 0,\n",
        "        'test_only': False,\n",
        "        'cpu': False,\n",
        "        'experiment': 'random',\n",
        "        'experiment_name': '1.2.9.3',\n",
        "        'experiment_args': {'module_placement': ['layer1.1.conv2', 'layer3.1.conv2'], 'mask_out_ratio': 0.5},\n",
        "        'dataset_args': {'text_root': 'data', 'images_root': 'data/kfold/PACS', 'source_domain': 'art_painting', 'target_domain': 'photo' },\n",
        "        'batch_size': 128,\n",
        "        'epochs': 30,\n",
        "        'num_workers': 5,\n",
        "        'grad_accum_steps': 1\n",
        "    },\n",
        "    ### 1.2.10 - ASH MODULE AFTER layer1.1.bn2 AND layer2.1.conv2 ###\n",
        "    \"1.2.10.1\" : { # Art Painting -> Cartoon\n",
        "        'seed': 0,\n",
        "        'test_only': False,\n",
        "        'cpu': False,\n",
        "        'experiment': 'random',\n",
        "        'experiment_name': '1.2.10.1',\n",
        "        'experiment_args': {'module_placement': ['layer1.1.bn2', 'layer2.1.conv2'], 'mask_out_ratio': 0.5},\n",
        "        'dataset_args': {'text_root': 'data', 'images_root': 'data/kfold/PACS', 'source_domain': 'art_painting', 'target_domain': 'cartoon' },\n",
        "        'batch_size': 128,\n",
        "        'epochs': 30,\n",
        "        'num_workers': 5,\n",
        "        'grad_accum_steps': 1\n",
        "    },\n",
        "    \"1.2.10.2\" : { # Art Painting -> Sketch\n",
        "        'seed': 0,\n",
        "        'test_only': False,\n",
        "        'cpu': False,\n",
        "        'experiment': 'random',\n",
        "        'experiment_name': '1.2.10.2',\n",
        "        'experiment_args': {'module_placement': ['layer1.1.bn2', 'layer2.1.conv2'], 'mask_out_ratio': 0.5},\n",
        "        'dataset_args': {'text_root': 'data', 'images_root': 'data/kfold/PACS', 'source_domain': 'art_painting', 'target_domain': 'sketch' },\n",
        "        'batch_size': 128,\n",
        "        'epochs': 30,\n",
        "        'num_workers': 5,\n",
        "        'grad_accum_steps': 1\n",
        "    },\n",
        "    \"1.2.10.3\" : { # Art Painting -> Photo\n",
        "        'seed': 0,\n",
        "        'test_only': False,\n",
        "        'cpu': False,\n",
        "        'experiment': 'random',\n",
        "        'experiment_name': '1.2.10.3',\n",
        "        'experiment_args': {'module_placement': ['layer1.1.bn2', 'layer2.1.conv2'], 'mask_out_ratio': 0.5},\n",
        "        'dataset_args': {'text_root': 'data', 'images_root': 'data/kfold/PACS', 'source_domain': 'art_painting', 'target_domain': 'photo' },\n",
        "        'batch_size': 128,\n",
        "        'epochs': 30,\n",
        "        'num_workers': 5,\n",
        "        'grad_accum_steps': 1\n",
        "    },\n",
        "    ### 1.2.11 - ASH MODULE AFTER layer1.1.bn2 AND layer3.0.conv1 ###\n",
        "    \"1.2.11.1\" : { # Art Painting -> Cartoon\n",
        "        'seed': 0,\n",
        "        'test_only': False,\n",
        "        'cpu': False,\n",
        "        'experiment': 'random',\n",
        "        'experiment_name': '1.2.11.1',\n",
        "        'experiment_args': {'module_placement': ['layer1.1.bn2', 'layer3.0.conv1'], 'mask_out_ratio': 0.5},\n",
        "        'dataset_args': {'text_root': 'data', 'images_root': 'data/kfold/PACS', 'source_domain': 'art_painting', 'target_domain': 'cartoon' },\n",
        "        'batch_size': 128,\n",
        "        'epochs': 30,\n",
        "        'num_workers': 5,\n",
        "        'grad_accum_steps': 1\n",
        "    },\n",
        "    \"1.2.11.2\" : { # Art Painting -> Sketch\n",
        "        'seed': 0,\n",
        "        'test_only': False,\n",
        "        'cpu': False,\n",
        "        'experiment': 'random',\n",
        "        'experiment_name': '1.2.11.2',\n",
        "        'experiment_args': {'module_placement': ['layer1.1.bn2', 'layer3.0.conv1'], 'mask_out_ratio': 0.5},\n",
        "        'dataset_args': {'text_root': 'data', 'images_root': 'data/kfold/PACS', 'source_domain': 'art_painting', 'target_domain': 'sketch' },\n",
        "        'batch_size': 128,\n",
        "        'epochs': 30,\n",
        "        'num_workers': 5,\n",
        "        'grad_accum_steps': 1\n",
        "    },\n",
        "    \"1.2.11.3\" : { # Art Painting -> Photo\n",
        "        'seed': 0,\n",
        "        'test_only': False,\n",
        "        'cpu': False,\n",
        "        'experiment': 'random',\n",
        "        'experiment_name': '1.2.11.3',\n",
        "        'experiment_args': {'module_placement': ['layer1.1.bn2', 'layer3.0.conv1'], 'mask_out_ratio': 0.5},\n",
        "        'dataset_args': {'text_root': 'data', 'images_root': 'data/kfold/PACS', 'source_domain': 'art_painting', 'target_domain': 'photo' },\n",
        "        'batch_size': 128,\n",
        "        'epochs': 30,\n",
        "        'num_workers': 5,\n",
        "        'grad_accum_steps': 1\n",
        "    },\n",
        "    ### 1.2.12 - ASH MODULE AFTER layer1.1.bn2 AND layer3.1.conv2 ###\n",
        "    \"1.2.12.1\" : { # Art Painting -> Cartoon\n",
        "        'seed': 0,\n",
        "        'test_only': False,\n",
        "        'cpu': False,\n",
        "        'experiment': 'random',\n",
        "        'experiment_name': '1.2.12.1',\n",
        "        'experiment_args': {'module_placement': ['layer1.1.bn2', 'layer3.1.conv2'], 'mask_out_ratio': 0.5},\n",
        "        'dataset_args': {'text_root': 'data', 'images_root': 'data/kfold/PACS', 'source_domain': 'art_painting', 'target_domain': 'cartoon' },\n",
        "        'batch_size': 128,\n",
        "        'epochs': 30,\n",
        "        'num_workers': 5,\n",
        "        'grad_accum_steps': 1\n",
        "    },\n",
        "    \"1.2.12.2\" : { # Art Painting -> Sketch\n",
        "        'seed': 0,\n",
        "        'test_only': False,\n",
        "        'cpu': False,\n",
        "        'experiment': 'random',\n",
        "        'experiment_name': '1.2.12.2',\n",
        "        'experiment_args': {'module_placement': ['layer1.1.bn2', 'layer3.1.conv2'], 'mask_out_ratio': 0.5},\n",
        "        'dataset_args': {'text_root': 'data', 'images_root': 'data/kfold/PACS', 'source_domain': 'art_painting', 'target_domain': 'sketch' },\n",
        "        'batch_size': 128,\n",
        "        'epochs': 30,\n",
        "        'num_workers': 5,\n",
        "        'grad_accum_steps': 1\n",
        "    },\n",
        "    \"1.2.12.3\" : { # Art Painting -> Photo\n",
        "        'seed': 0,\n",
        "        'test_only': False,\n",
        "        'cpu': False,\n",
        "        'experiment': 'random',\n",
        "        'experiment_name': '1.2.12.3',\n",
        "        'experiment_args': {'module_placement': ['layer1.1.bn2', 'layer3.1.conv2'], 'mask_out_ratio': 0.5},\n",
        "        'dataset_args': {'text_root': 'data', 'images_root': 'data/kfold/PACS', 'source_domain': 'art_painting', 'target_domain': 'photo' },\n",
        "        'batch_size': 128,\n",
        "        'epochs': 30,\n",
        "        'num_workers': 5,\n",
        "        'grad_accum_steps': 1\n",
        "    },\n",
        "    ### 1.2.13 - ASH MODULE AFTER layer2.1.conv2 AND layer3.0.conv1 ###\n",
        "    \"1.2.13.1\" : { # Art Painting -> Cartoon\n",
        "        'seed': 0,\n",
        "        'test_only': False,\n",
        "        'cpu': False,\n",
        "        'experiment': 'random',\n",
        "        'experiment_name': '1.2.13.1',\n",
        "        'experiment_args': {'module_placement': ['layer2.1.conv2', 'layer3.0.conv1'], 'mask_out_ratio': 0.5},\n",
        "        'dataset_args': {'text_root': 'data', 'images_root': 'data/kfold/PACS', 'source_domain': 'art_painting', 'target_domain': 'cartoon' },\n",
        "        'batch_size': 128,\n",
        "        'epochs': 30,\n",
        "        'num_workers': 5,\n",
        "        'grad_accum_steps': 1\n",
        "    },\n",
        "    \"1.2.13.2\" : { # Art Painting -> Sketch\n",
        "        'seed': 0,\n",
        "        'test_only': False,\n",
        "        'cpu': False,\n",
        "        'experiment': 'random',\n",
        "        'experiment_name': '1.2.13.2',\n",
        "        'experiment_args': {'module_placement': ['layer2.1.conv2', 'layer3.0.conv1'], 'mask_out_ratio': 0.5},\n",
        "        'dataset_args': {'text_root': 'data', 'images_root': 'data/kfold/PACS', 'source_domain': 'art_painting', 'target_domain': 'sketch' },\n",
        "        'batch_size': 128,\n",
        "        'epochs': 30,\n",
        "        'num_workers': 5,\n",
        "        'grad_accum_steps': 1\n",
        "    },\n",
        "    \"1.2.13.3\" : { # Art Painting -> Photo\n",
        "        'seed': 0,\n",
        "        'test_only': False,\n",
        "        'cpu': False,\n",
        "        'experiment': 'random',\n",
        "        'experiment_name': '1.2.13.3',\n",
        "        'experiment_args': {'module_placement': ['layer2.1.conv2', 'layer3.0.conv1'], 'mask_out_ratio': 0.5},\n",
        "        'dataset_args': {'text_root': 'data', 'images_root': 'data/kfold/PACS', 'source_domain': 'art_painting', 'target_domain': 'photo' },\n",
        "        'batch_size': 128,\n",
        "        'epochs': 30,\n",
        "        'num_workers': 5,\n",
        "        'grad_accum_steps': 1\n",
        "    },\n",
        "    ### 1.2.14 - ASH MODULE AFTER layer2.1.conv2 AND layer3.1.conv2 ###\n",
        "    \"1.2.14.1\" : { # Art Painting -> Cartoon\n",
        "        'seed': 0,\n",
        "        'test_only': False,\n",
        "        'cpu': False,\n",
        "        'experiment': 'random',\n",
        "        'experiment_name': '1.2.14.1',\n",
        "        'experiment_args': {'module_placement': ['layer2.1.conv2', 'layer3.1.conv2'], 'mask_out_ratio': 0.5},\n",
        "        'dataset_args': {'text_root': 'data', 'images_root': 'data/kfold/PACS', 'source_domain': 'art_painting', 'target_domain': 'cartoon' },\n",
        "        'batch_size': 128,\n",
        "        'epochs': 30,\n",
        "        'num_workers': 5,\n",
        "        'grad_accum_steps': 1\n",
        "    },\n",
        "    \"1.2.14.2\" : { # Art Painting -> Sketch\n",
        "        'seed': 0,\n",
        "        'test_only': False,\n",
        "        'cpu': False,\n",
        "        'experiment': 'random',\n",
        "        'experiment_name': '1.2.14.2',\n",
        "        'experiment_args': {'module_placement': ['layer2.1.conv2', 'layer3.1.conv2'], 'mask_out_ratio': 0.5},\n",
        "        'dataset_args': {'text_root': 'data', 'images_root': 'data/kfold/PACS', 'source_domain': 'art_painting', 'target_domain': 'sketch' },\n",
        "        'batch_size': 128,\n",
        "        'epochs': 30,\n",
        "        'num_workers': 5,\n",
        "        'grad_accum_steps': 1\n",
        "    },\n",
        "    \"1.2.14.3\" : { # Art Painting -> Photo\n",
        "        'seed': 0,\n",
        "        'test_only': False,\n",
        "        'cpu': False,\n",
        "        'experiment': 'random',\n",
        "        'experiment_name': '1.2.14.3',\n",
        "        'experiment_args': {'module_placement': ['layer2.1.conv2', 'layer3.1.conv2'], 'mask_out_ratio': 0.5},\n",
        "        'dataset_args': {'text_root': 'data', 'images_root': 'data/kfold/PACS', 'source_domain': 'art_painting', 'target_domain': 'photo' },\n",
        "        'batch_size': 128,\n",
        "        'epochs': 30,\n",
        "        'num_workers': 5,\n",
        "        'grad_accum_steps': 1\n",
        "    },\n",
        "    ### 1.2.15 - ASH MODULE AFTER layer3.0.conv1 AND layer3.1.conv2 ###\n",
        "    \"1.2.15.1\" : { # Art Painting -> Cartoon\n",
        "        'seed': 0,\n",
        "        'test_only': False,\n",
        "        'cpu': False,\n",
        "        'experiment': 'random',\n",
        "        'experiment_name': '1.2.15.1',\n",
        "        'experiment_args': {'module_placement': ['layer3.0.conv1', 'layer3.1.conv2'], 'mask_out_ratio': 0.5},\n",
        "        'dataset_args': {'text_root': 'data', 'images_root': 'data/kfold/PACS', 'source_domain': 'art_painting', 'target_domain': 'cartoon' },\n",
        "        'batch_size': 128,\n",
        "        'epochs': 30,\n",
        "        'num_workers': 5,\n",
        "        'grad_accum_steps': 1\n",
        "    },\n",
        "    \"1.2.15.2\" : { # Art Painting -> Sketch\n",
        "        'seed': 0,\n",
        "        'test_only': False,\n",
        "        'cpu': False,\n",
        "        'experiment': 'random',\n",
        "        'experiment_name': '1.2.15.2',\n",
        "        'experiment_args': {'module_placement': ['layer3.0.conv1', 'layer3.1.conv2'], 'mask_out_ratio': 0.5},\n",
        "        'dataset_args': {'text_root': 'data', 'images_root': 'data/kfold/PACS', 'source_domain': 'art_painting', 'target_domain': 'sketch' },\n",
        "        'batch_size': 128,\n",
        "        'epochs': 30,\n",
        "        'num_workers': 5,\n",
        "        'grad_accum_steps': 1\n",
        "    },\n",
        "    \"1.2.15.3\" : { # Art Painting -> Photo\n",
        "        'seed': 0,\n",
        "        'test_only': False,\n",
        "        'cpu': False,\n",
        "        'experiment': 'random',\n",
        "        'experiment_name': '1.2.15.3',\n",
        "        'experiment_args': {'module_placement': ['layer3.0.conv1', 'layer3.1.conv2'], 'mask_out_ratio': 0.5},\n",
        "        'dataset_args': {'text_root': 'data', 'images_root': 'data/kfold/PACS', 'source_domain': 'art_painting', 'target_domain': 'photo' },\n",
        "        'batch_size': 128,\n",
        "        'epochs': 30,\n",
        "        'num_workers': 5,\n",
        "        'grad_accum_steps': 1\n",
        "    },\n",
        "\n",
        "    #### 1.3 - THREE ASH MODULES ####\n",
        "    ### 1.3.1 - ASH MODULE AFTER layer1.1.bn1, layer1.1.conv2, AND layer1.1.bn2 ###\n",
        "    \"1.3.1.1\" : { # Art Painting -> Cartoon\n",
        "        'seed': 0,\n",
        "        'test_only': False,\n",
        "        'cpu': False,\n",
        "        'experiment': 'random',\n",
        "        'experiment_name': '1.3.1.1',\n",
        "        'experiment_args': {'module_placement': ['layer1.1.bn1', 'layer1.1.conv2', 'layer1.1.bn2'], 'mask_out_ratio': 0.5},\n",
        "        'dataset_args': {'text_root': 'data', 'images_root': 'data/kfold/PACS', 'source_domain': 'art_painting', 'target_domain': 'cartoon' },\n",
        "        'batch_size': 128,\n",
        "        'epochs': 30,\n",
        "        'num_workers': 5,\n",
        "        'grad_accum_steps': 1\n",
        "    },\n",
        "    \"1.3.1.2\" : { # Art Painting -> Sketch\n",
        "        'seed': 0,\n",
        "        'test_only': False,\n",
        "        'cpu': False,\n",
        "        'experiment': 'random',\n",
        "        'experiment_name': '1.3.1.2',\n",
        "        'experiment_args': {'module_placement': ['layer1.1.bn1', 'layer1.1.conv2', 'layer1.1.bn2'], 'mask_out_ratio': 0.5},\n",
        "        'dataset_args': {'text_root': 'data', 'images_root': 'data/kfold/PACS', 'source_domain': 'art_painting', 'target_domain': 'sketch' },\n",
        "        'batch_size': 128,\n",
        "        'epochs': 30,\n",
        "        'num_workers': 5,\n",
        "        'grad_accum_steps': 1\n",
        "    },\n",
        "    \"1.3.1.3\" : { # Art Painting -> Photo\n",
        "        'seed': 0,\n",
        "        'test_only': False,\n",
        "        'cpu': False,\n",
        "        'experiment': 'random',\n",
        "        'experiment_name': '1.3.1.3',\n",
        "        'experiment_args': {'module_placement': ['layer1.1.bn1', 'layer1.1.conv2', 'layer1.1.bn2'], 'mask_out_ratio': 0.5},\n",
        "        'dataset_args': {'text_root': 'data', 'images_root': 'data/kfold/PACS', 'source_domain': 'art_painting', 'target_domain': 'photo' },\n",
        "        'batch_size': 128,\n",
        "        'epochs': 30,\n",
        "        'num_workers': 5,\n",
        "        'grad_accum_steps': 1\n",
        "    },\n",
        "    ### 1.3.2 - ASH MODULE AFTER layer1.1.bn1, layer1.1.conv2, AND layer2.1.conv2 ###\n",
        "    \"1.3.2.1\" : { # Art Painting -> Cartoon\n",
        "        'seed': 0,\n",
        "        'test_only': False,\n",
        "        'cpu': False,\n",
        "        'experiment': 'random',\n",
        "        'experiment_name': '1.3.2.1',\n",
        "        'experiment_args': {'module_placement': ['layer1.1.bn1', 'layer1.1.conv2', 'layer2.1.conv2'], 'mask_out_ratio': 0.5},\n",
        "        'dataset_args': {'text_root': 'data', 'images_root': 'data/kfold/PACS', 'source_domain': 'art_painting', 'target_domain': 'cartoon' },\n",
        "        'batch_size': 128,\n",
        "        'epochs': 30,\n",
        "        'num_workers': 5,\n",
        "        'grad_accum_steps': 1\n",
        "    },\n",
        "    \"1.3.2.2\" : { # Art Painting -> Sketch\n",
        "        'seed': 0,\n",
        "        'test_only': False,\n",
        "        'cpu': False,\n",
        "        'experiment': 'random',\n",
        "        'experiment_name': '1.3.2.2',\n",
        "        'experiment_args': {'module_placement': ['layer1.1.bn1', 'layer1.1.conv2', 'layer2.1.conv2'], 'mask_out_ratio': 0.5},\n",
        "        'dataset_args': {'text_root': 'data', 'images_root': 'data/kfold/PACS', 'source_domain': 'art_painting', 'target_domain': 'sketch' },\n",
        "        'batch_size': 128,\n",
        "        'epochs': 30,\n",
        "        'num_workers': 5,\n",
        "        'grad_accum_steps': 1\n",
        "    },\n",
        "    \"1.3.2.3\" : { # Art Painting -> Photo\n",
        "        'seed': 0,\n",
        "        'test_only': False,\n",
        "        'cpu': False,\n",
        "        'experiment': 'random',\n",
        "        'experiment_name': '1.3.2.3',\n",
        "        'experiment_args': {'module_placement': ['layer1.1.bn1', 'layer1.1.conv2', 'layer2.1.conv2'], 'mask_out_ratio': 0.5},\n",
        "        'dataset_args': {'text_root': 'data', 'images_root': 'data/kfold/PACS', 'source_domain': 'art_painting', 'target_domain': 'photo' },\n",
        "        'batch_size': 128,\n",
        "        'epochs': 30,\n",
        "        'num_workers': 5,\n",
        "        'grad_accum_steps': 1\n",
        "    },\n",
        "    ### 1.3.3 - ASH MODULE AFTER layer1.1.bn1, layer1.1.conv2, AND layer3.0.conv1 ###\n",
        "    \"1.3.3.1\" : { # Art Painting -> Cartoon\n",
        "        'seed': 0,\n",
        "        'test_only': False,\n",
        "        'cpu': False,\n",
        "        'experiment': 'random',\n",
        "        'experiment_name': '1.3.3.1',\n",
        "        'experiment_args': {'module_placement': ['layer1.1.bn1', 'layer1.1.conv2', 'layer3.0.conv1'], 'mask_out_ratio': 0.5},\n",
        "        'dataset_args': {'text_root': 'data', 'images_root': 'data/kfold/PACS', 'source_domain': 'art_painting', 'target_domain': 'cartoon' },\n",
        "        'batch_size': 128,\n",
        "        'epochs': 30,\n",
        "        'num_workers': 5,\n",
        "        'grad_accum_steps': 1\n",
        "    },\n",
        "    \"1.3.3.2\" : { # Art Painting -> Sketch\n",
        "        'seed': 0,\n",
        "        'test_only': False,\n",
        "        'cpu': False,\n",
        "        'experiment': 'random',\n",
        "        'experiment_name': '1.3.3.2',\n",
        "        'experiment_args': {'module_placement': ['layer1.1.bn1', 'layer1.1.conv2', 'layer3.0.conv1'], 'mask_out_ratio': 0.5},\n",
        "        'dataset_args': {'text_root': 'data', 'images_root': 'data/kfold/PACS', 'source_domain': 'art_painting', 'target_domain': 'sketch' },\n",
        "        'batch_size': 128,\n",
        "        'epochs': 30,\n",
        "        'num_workers': 5,\n",
        "        'grad_accum_steps': 1\n",
        "    },\n",
        "    \"1.3.3.3\" : { # Art Painting -> Photo\n",
        "        'seed': 0,\n",
        "        'test_only': False,\n",
        "        'cpu': False,\n",
        "        'experiment': 'random',\n",
        "        'experiment_name': '1.3.3.3',\n",
        "        'experiment_args': {'module_placement': ['layer1.1.bn1', 'layer1.1.conv2', 'layer3.0.conv1'], 'mask_out_ratio': 0.5},\n",
        "        'dataset_args': {'text_root': 'data', 'images_root': 'data/kfold/PACS', 'source_domain': 'art_painting', 'target_domain': 'photo' },\n",
        "        'batch_size': 128,\n",
        "        'epochs': 30,\n",
        "        'num_workers': 5,\n",
        "        'grad_accum_steps': 1\n",
        "    },\n",
        "    ### 1.3.4 - ASH MODULE AFTER layer1.1.bn1, layer1.1.conv2, AND layer3.1.conv2 ###\n",
        "    \"1.3.4.1\" : { # Art Painting -> Cartoon\n",
        "        'seed': 0,\n",
        "        'test_only': False,\n",
        "        'cpu': False,\n",
        "        'experiment': 'random',\n",
        "        'experiment_name': '1.3.4.1',\n",
        "        'experiment_args': {'module_placement': ['layer1.1.bn1', 'layer1.1.conv2', 'layer3.1.conv2'], 'mask_out_ratio': 0.5},\n",
        "        'dataset_args': {'text_root': 'data', 'images_root': 'data/kfold/PACS', 'source_domain': 'art_painting', 'target_domain': 'cartoon' },\n",
        "        'batch_size': 128,\n",
        "        'epochs': 30,\n",
        "        'num_workers': 5,\n",
        "        'grad_accum_steps': 1\n",
        "    },\n",
        "    \"1.3.4.2\" : { # Art Painting -> Sketch\n",
        "        'seed': 0,\n",
        "        'test_only': False,\n",
        "        'cpu': False,\n",
        "        'experiment': 'random',\n",
        "        'experiment_name': '1.3.4.2',\n",
        "        'experiment_args': {'module_placement': ['layer1.1.bn1', 'layer1.1.conv2', 'layer3.1.conv2'], 'mask_out_ratio': 0.5},\n",
        "        'dataset_args': {'text_root': 'data', 'images_root': 'data/kfold/PACS', 'source_domain': 'art_painting', 'target_domain': 'sketch' },\n",
        "        'batch_size': 128,\n",
        "        'epochs': 30,\n",
        "        'num_workers': 5,\n",
        "        'grad_accum_steps': 1\n",
        "    },\n",
        "    \"1.3.4.3\" : { # Art Painting -> Photo\n",
        "        'seed': 0,\n",
        "        'test_only': False,\n",
        "        'cpu': False,\n",
        "        'experiment': 'random',\n",
        "        'experiment_name': '1.3.4.3',\n",
        "        'experiment_args': {'module_placement': ['layer1.1.bn1', 'layer1.1.conv2', 'layer3.1.conv2'], 'mask_out_ratio': 0.5},\n",
        "        'dataset_args': {'text_root': 'data', 'images_root': 'data/kfold/PACS', 'source_domain': 'art_painting', 'target_domain': 'photo' },\n",
        "        'batch_size': 128,\n",
        "        'epochs': 30,\n",
        "        'num_workers': 5,\n",
        "        'grad_accum_steps': 1\n",
        "    },\n",
        "    ### 1.3.5 - ASH MODULE AFTER layer1.1.bn1, layer1.1.bn2, AND layer2.1.conv2 ###\n",
        "    \"1.3.5.1\" : { # Art Painting -> Cartoon\n",
        "        'seed': 0,\n",
        "        'test_only': False,\n",
        "        'cpu': False,\n",
        "        'experiment': 'random',\n",
        "        'experiment_name': '1.3.5.1',\n",
        "        'experiment_args': {'module_placement': ['layer1.1.bn1', 'layer1.1.bn2', 'layer2.1.conv2'], 'mask_out_ratio': 0.5},\n",
        "        'dataset_args': {'text_root': 'data', 'images_root': 'data/kfold/PACS', 'source_domain': 'art_painting', 'target_domain': 'cartoon' },\n",
        "        'batch_size': 128,\n",
        "        'epochs': 30,\n",
        "        'num_workers': 5,\n",
        "        'grad_accum_steps': 1\n",
        "    },\n",
        "    \"1.3.5.2\" : { # Art Painting -> Sketch\n",
        "        'seed': 0,\n",
        "        'test_only': False,\n",
        "        'cpu': False,\n",
        "        'experiment': 'random',\n",
        "        'experiment_name': '1.3.5.2',\n",
        "        'experiment_args': {'module_placement': ['layer1.1.bn1', 'layer1.1.bn2', 'layer2.1.conv2'], 'mask_out_ratio': 0.5},\n",
        "        'dataset_args': {'text_root': 'data', 'images_root': 'data/kfold/PACS', 'source_domain': 'art_painting', 'target_domain': 'sketch' },\n",
        "        'batch_size': 128,\n",
        "        'epochs': 30,\n",
        "        'num_workers': 5,\n",
        "        'grad_accum_steps': 1\n",
        "    },\n",
        "    \"1.3.5.3\" : { # Art Painting -> Photo\n",
        "        'seed': 0,\n",
        "        'test_only': False,\n",
        "        'cpu': False,\n",
        "        'experiment': 'random',\n",
        "        'experiment_name': '1.3.5.3',\n",
        "        'experiment_args': {'module_placement': ['layer1.1.bn1', 'layer1.1.bn2', 'layer2.1.conv2'], 'mask_out_ratio': 0.5},\n",
        "        'dataset_args': {'text_root': 'data', 'images_root': 'data/kfold/PACS', 'source_domain': 'art_painting', 'target_domain': 'photo' },\n",
        "        'batch_size': 128,\n",
        "        'epochs': 30,\n",
        "        'num_workers': 5,\n",
        "        'grad_accum_steps': 1\n",
        "    },\n",
        "    ### 1.3.6 - ASH MODULE AFTER layer1.1.bn1, layer2.1.conv2, AND layer3.0.conv1 ###\n",
        "    \"1.3.6.1\" : { # Art Painting -> Cartoon\n",
        "        'seed': 0,\n",
        "        'test_only': False,\n",
        "        'cpu': False,\n",
        "        'experiment': 'random',\n",
        "        'experiment_name': '1.3.6.1',\n",
        "        'experiment_args': {'module_placement': ['layer1.1.bn1', 'layer2.1.conv2', 'layer3.0.conv1'], 'mask_out_ratio': 0.5},\n",
        "        'dataset_args': {'text_root': 'data', 'images_root': 'data/kfold/PACS', 'source_domain': 'art_painting', 'target_domain': 'cartoon' },\n",
        "        'batch_size': 128,\n",
        "        'epochs': 30,\n",
        "        'num_workers': 5,\n",
        "        'grad_accum_steps': 1\n",
        "    },\n",
        "    \"1.3.6.2\" : { # Art Painting -> Sketch\n",
        "        'seed': 0,\n",
        "        'test_only': False,\n",
        "        'cpu': False,\n",
        "        'experiment': 'random',\n",
        "        'experiment_name': '1.3.6.2',\n",
        "        'experiment_args': {'module_placement': ['layer1.1.bn1', 'layer2.1.conv2', 'layer3.0.conv1'], 'mask_out_ratio': 0.5},\n",
        "        'dataset_args': {'text_root': 'data', 'images_root': 'data/kfold/PACS', 'source_domain': 'art_painting', 'target_domain': 'sketch' },\n",
        "        'batch_size': 128,\n",
        "        'epochs': 30,\n",
        "        'num_workers': 5,\n",
        "        'grad_accum_steps': 1\n",
        "    },\n",
        "    \"1.3.6.3\" : { # Art Painting -> Photo\n",
        "        'seed': 0,\n",
        "        'test_only': False,\n",
        "        'cpu': False,\n",
        "        'experiment': 'random',\n",
        "        'experiment_name': '1.3.6.3',\n",
        "        'experiment_args': {'module_placement': ['layer1.1.bn1', 'layer2.1.conv2', 'layer3.0.conv1'], 'mask_out_ratio': 0.5},\n",
        "        'dataset_args': {'text_root': 'data', 'images_root': 'data/kfold/PACS', 'source_domain': 'art_painting', 'target_domain': 'photo' },\n",
        "        'batch_size': 128,\n",
        "        'epochs': 30,\n",
        "        'num_workers': 5,\n",
        "        'grad_accum_steps': 1\n",
        "    },\n",
        "    ### 1.3.7 - ASH MODULE AFTER layer1.1.bn1, layer2.1.conv2, AND layer3.1.conv2 ###\n",
        "    \"1.3.7.1\" : { # Art Painting -> Cartoon\n",
        "        'seed': 0,\n",
        "        'test_only': False,\n",
        "        'cpu': False,\n",
        "        'experiment': 'random',\n",
        "        'experiment_name': '1.3.7.1',\n",
        "        'experiment_args': {'module_placement': ['layer1.1.bn1', 'layer2.1.conv2', 'layer3.1.conv2'], 'mask_out_ratio': 0.5},\n",
        "        'dataset_args': {'text_root': 'data', 'images_root': 'data/kfold/PACS', 'source_domain': 'art_painting', 'target_domain': 'cartoon' },\n",
        "        'batch_size': 128,\n",
        "        'epochs': 30,\n",
        "        'num_workers': 5,\n",
        "        'grad_accum_steps': 1\n",
        "    },\n",
        "    \"1.3.7.2\" : { # Art Painting -> Sketch\n",
        "        'seed': 0,\n",
        "        'test_only': False,\n",
        "        'cpu': False,\n",
        "        'experiment': 'random',\n",
        "        'experiment_name': '1.3.7.2',\n",
        "        'experiment_args': {'module_placement': ['layer1.1.bn1', 'layer2.1.conv2', 'layer3.1.conv2'], 'mask_out_ratio': 0.5},\n",
        "        'dataset_args': {'text_root': 'data', 'images_root': 'data/kfold/PACS', 'source_domain': 'art_painting', 'target_domain': 'sketch' },\n",
        "        'batch_size': 128,\n",
        "        'epochs': 30,\n",
        "        'num_workers': 5,\n",
        "        'grad_accum_steps': 1\n",
        "    },\n",
        "    \"1.3.7.3\" : { # Art Painting -> Photo\n",
        "        'seed': 0,\n",
        "        'test_only': False,\n",
        "        'cpu': False,\n",
        "        'experiment': 'random',\n",
        "        'experiment_name': '1.3.7.3',\n",
        "        'experiment_args': {'module_placement': ['layer1.1.bn1', 'layer2.1.conv2', 'layer3.1.conv2'], 'mask_out_ratio': 0.5},\n",
        "        'dataset_args': {'text_root': 'data', 'images_root': 'data/kfold/PACS', 'source_domain': 'art_painting', 'target_domain': 'photo' },\n",
        "        'batch_size': 128,\n",
        "        'epochs': 30,\n",
        "        'num_workers': 5,\n",
        "        'grad_accum_steps': 1\n",
        "    },\n",
        "    ### 1.3.8 - ASH MODULE AFTER layer1.1.conv2, layer1.1.bn2, AND layer2.1.conv2 ###\n",
        "    \"1.3.8.1\" : { # Art Painting -> Cartoon\n",
        "        'seed': 0,\n",
        "        'test_only': False,\n",
        "        'cpu': False,\n",
        "        'experiment': 'random',\n",
        "        'experiment_name': '1.3.8.1',\n",
        "        'experiment_args': {'module_placement': ['layer1.1.conv2', 'layer1.1.bn2', 'layer2.1.conv2'], 'mask_out_ratio': 0.5},\n",
        "        'dataset_args': {'text_root': 'data', 'images_root': 'data/kfold/PACS', 'source_domain': 'art_painting', 'target_domain': 'cartoon' },\n",
        "        'batch_size': 128,\n",
        "        'epochs': 30,\n",
        "        'num_workers': 5,\n",
        "        'grad_accum_steps': 1\n",
        "    },\n",
        "    \"1.3.8.2\" : { # Art Painting -> Sketch\n",
        "        'seed': 0,\n",
        "        'test_only': False,\n",
        "        'cpu': False,\n",
        "        'experiment': 'random',\n",
        "        'experiment_name': '1.3.8.2',\n",
        "        'experiment_args': {'module_placement': ['layer1.1.conv2', 'layer1.1.bn2', 'layer2.1.conv2'], 'mask_out_ratio': 0.5},\n",
        "        'dataset_args': {'text_root': 'data', 'images_root': 'data/kfold/PACS', 'source_domain': 'art_painting', 'target_domain': 'sketch' },\n",
        "        'batch_size': 128,\n",
        "        'epochs': 30,\n",
        "        'num_workers': 5,\n",
        "        'grad_accum_steps': 1\n",
        "    },\n",
        "    \"1.3.8.3\" : { # Art Painting -> Photo\n",
        "        'seed': 0,\n",
        "        'test_only': False,\n",
        "        'cpu': False,\n",
        "        'experiment': 'random',\n",
        "        'experiment_name': '1.3.8.3',\n",
        "        'experiment_args': {'module_placement': ['layer1.1.conv2', 'layer1.1.bn2', 'layer2.1.conv2'], 'mask_out_ratio': 0.5},\n",
        "        'dataset_args': {'text_root': 'data', 'images_root': 'data/kfold/PACS', 'source_domain': 'art_painting', 'target_domain': 'photo' },\n",
        "        'batch_size': 128,\n",
        "        'epochs': 30,\n",
        "        'num_workers': 5,\n",
        "        'grad_accum_steps': 1\n",
        "    },\n",
        "    ### 1.3.9 - ASH MODULE AFTER layer1.1.conv2, layer2.1.conv2, AND layer3.0.conv1 ###\n",
        "    \"1.3.9.1\" : { # Art Painting -> Cartoon\n",
        "        'seed': 0,\n",
        "        'test_only': False,\n",
        "        'cpu': False,\n",
        "        'experiment': 'random',\n",
        "        'experiment_name': '1.3.9.1',\n",
        "        'experiment_args': {'module_placement': ['layer1.1.conv2', 'layer2.1.conv2', 'layer3.0.conv1'], 'mask_out_ratio': 0.5},\n",
        "        'dataset_args': {'text_root': 'data', 'images_root': 'data/kfold/PACS', 'source_domain': 'art_painting', 'target_domain': 'cartoon' },\n",
        "        'batch_size': 128,\n",
        "        'epochs': 30,\n",
        "        'num_workers': 5,\n",
        "        'grad_accum_steps': 1\n",
        "    },\n",
        "    \"1.3.9.2\" : { # Art Painting -> Sketch\n",
        "        'seed': 0,\n",
        "        'test_only': False,\n",
        "        'cpu': False,\n",
        "        'experiment': 'random',\n",
        "        'experiment_name': '1.3.9.2',\n",
        "        'experiment_args': {'module_placement': ['layer1.1.conv2', 'layer2.1.conv2', 'layer3.0.conv1'], 'mask_out_ratio': 0.5},\n",
        "        'dataset_args': {'text_root': 'data', 'images_root': 'data/kfold/PACS', 'source_domain': 'art_painting', 'target_domain': 'sketch' },\n",
        "        'batch_size': 128,\n",
        "        'epochs': 30,\n",
        "        'num_workers': 5,\n",
        "        'grad_accum_steps': 1\n",
        "    },\n",
        "    \"1.3.9.3\" : { # Art Painting -> Photo\n",
        "        'seed': 0,\n",
        "        'test_only': False,\n",
        "        'cpu': False,\n",
        "        'experiment': 'random',\n",
        "        'experiment_name': '1.3.9.3',\n",
        "        'experiment_args': {'module_placement': ['layer1.1.conv2', 'layer2.1.conv2', 'layer3.0.conv1'], 'mask_out_ratio': 0.5},\n",
        "        'dataset_args': {'text_root': 'data', 'images_root': 'data/kfold/PACS', 'source_domain': 'art_painting', 'target_domain': 'photo' },\n",
        "        'batch_size': 128,\n",
        "        'epochs': 30,\n",
        "        'num_workers': 5,\n",
        "        'grad_accum_steps': 1\n",
        "    },\n",
        "    ### 1.3.10 - ASH MODULE AFTER layer1.1.conv2, layer2.1.conv2, AND layer3.1.conv2 ###\n",
        "    \"1.3.10.1\" : { # Art Painting -> Cartoon\n",
        "        'seed': 0,\n",
        "        'test_only': False,\n",
        "        'cpu': False,\n",
        "        'experiment': 'random',\n",
        "        'experiment_name': '1.3.10.1',\n",
        "        'experiment_args': {'module_placement': ['layer1.1.conv2', 'layer2.1.conv2', 'layer3.1.conv2'], 'mask_out_ratio': 0.5},\n",
        "        'dataset_args': {'text_root': 'data', 'images_root': 'data/kfold/PACS', 'source_domain': 'art_painting', 'target_domain': 'cartoon' },\n",
        "        'batch_size': 128,\n",
        "        'epochs': 30,\n",
        "        'num_workers': 5,\n",
        "        'grad_accum_steps': 1\n",
        "    },\n",
        "    \"1.3.10.2\" : { # Art Painting -> Sketch\n",
        "        'seed': 0,\n",
        "        'test_only': False,\n",
        "        'cpu': False,\n",
        "        'experiment': 'random',\n",
        "        'experiment_name': '1.3.10.2',\n",
        "        'experiment_args': {'module_placement': ['layer1.1.conv2', 'layer2.1.conv2', 'layer3.1.conv2'], 'mask_out_ratio': 0.5},\n",
        "        'dataset_args': {'text_root': 'data', 'images_root': 'data/kfold/PACS', 'source_domain': 'art_painting', 'target_domain': 'sketch' },\n",
        "        'batch_size': 128,\n",
        "        'epochs': 30,\n",
        "        'num_workers': 5,\n",
        "        'grad_accum_steps': 1\n",
        "    },\n",
        "    \"1.3.10.3\" : { # Art Painting -> Photo\n",
        "        'seed': 0,\n",
        "        'test_only': False,\n",
        "        'cpu': False,\n",
        "        'experiment': 'random',\n",
        "        'experiment_name': '1.3.10.3',\n",
        "        'experiment_args': {'module_placement': ['layer1.1.conv2', 'layer2.1.conv2', 'layer3.1.conv2'], 'mask_out_ratio': 0.5},\n",
        "        'dataset_args': {'text_root': 'data', 'images_root': 'data/kfold/PACS', 'source_domain': 'art_painting', 'target_domain': 'photo' },\n",
        "        'batch_size': 128,\n",
        "        'epochs': 30,\n",
        "        'num_workers': 5,\n",
        "        'grad_accum_steps': 1\n",
        "    },\n",
        "    ### 1.3.11 - ASH MODULE AFTER layer1.1.bn2, layer2.1.conv2, AND layer3.0.conv1 ###\n",
        "    \"1.3.11.1\" : { # Art Painting -> Cartoon\n",
        "        'seed': 0,\n",
        "        'test_only': False,\n",
        "        'cpu': False,\n",
        "        'experiment': 'random',\n",
        "        'experiment_name': '1.3.11.1',\n",
        "        'experiment_args': {'module_placement': ['layer1.1.bn2', 'layer2.1.conv2', 'layer3.0.conv1'], 'mask_out_ratio': 0.5},\n",
        "        'dataset_args': {'text_root': 'data', 'images_root': 'data/kfold/PACS', 'source_domain': 'art_painting', 'target_domain': 'cartoon' },\n",
        "        'batch_size': 128,\n",
        "        'epochs': 30,\n",
        "        'num_workers': 5,\n",
        "        'grad_accum_steps': 1\n",
        "    },\n",
        "    \"1.3.11.2\" : { # Art Painting -> Sketch\n",
        "        'seed': 0,\n",
        "        'test_only': False,\n",
        "        'cpu': False,\n",
        "        'experiment': 'random',\n",
        "        'experiment_name': '1.3.11.2',\n",
        "        'experiment_args': {'module_placement': ['layer1.1.bn2', 'layer2.1.conv2', 'layer3.0.conv1'], 'mask_out_ratio': 0.5},\n",
        "        'dataset_args': {'text_root': 'data', 'images_root': 'data/kfold/PACS', 'source_domain': 'art_painting', 'target_domain': 'sketch' },\n",
        "        'batch_size': 128,\n",
        "        'epochs': 30,\n",
        "        'num_workers': 5,\n",
        "        'grad_accum_steps': 1\n",
        "    },\n",
        "    \"1.3.11.3\" : { # Art Painting -> Photo\n",
        "        'seed': 0,\n",
        "        'test_only': False,\n",
        "        'cpu': False,\n",
        "        'experiment': 'random',\n",
        "        'experiment_name': '1.3.11.3',\n",
        "        'experiment_args': {'module_placement': ['layer1.1.bn2', 'layer2.1.conv2', 'layer3.0.conv1'], 'mask_out_ratio': 0.5},\n",
        "        'dataset_args': {'text_root': 'data', 'images_root': 'data/kfold/PACS', 'source_domain': 'art_painting', 'target_domain': 'photo' },\n",
        "        'batch_size': 128,\n",
        "        'epochs': 30,\n",
        "        'num_workers': 5,\n",
        "        'grad_accum_steps': 1\n",
        "    },\n",
        "    ### 1.3.12 - ASH MODULE AFTER layer1.1.bn2, layer2.1.conv2, AND layer3.1.conv2 ###\n",
        "    \"1.3.12.1\" : { # Art Painting -> Cartoon\n",
        "        'seed': 0,\n",
        "        'test_only': False,\n",
        "        'cpu': False,\n",
        "        'experiment': 'random',\n",
        "        'experiment_name': '1.3.12.1',\n",
        "        'experiment_args': {'module_placement': ['layer1.1.bn2', 'layer2.1.conv2', 'layer3.1.conv2'], 'mask_out_ratio': 0.5},\n",
        "        'dataset_args': {'text_root': 'data', 'images_root': 'data/kfold/PACS', 'source_domain': 'art_painting', 'target_domain': 'cartoon' },\n",
        "        'batch_size': 128,\n",
        "        'epochs': 30,\n",
        "        'num_workers': 5,\n",
        "        'grad_accum_steps': 1\n",
        "    },\n",
        "    \"1.3.12.2\" : { # Art Painting -> Sketch\n",
        "        'seed': 0,\n",
        "        'test_only': False,\n",
        "        'cpu': False,\n",
        "        'experiment': 'random',\n",
        "        'experiment_name': '1.3.12.2',\n",
        "        'experiment_args': {'module_placement': ['layer1.1.bn2', 'layer2.1.conv2', 'layer3.1.conv2'], 'mask_out_ratio': 0.5},\n",
        "        'dataset_args': {'text_root': 'data', 'images_root': 'data/kfold/PACS', 'source_domain': 'art_painting', 'target_domain': 'sketch' },\n",
        "        'batch_size': 128,\n",
        "        'epochs': 30,\n",
        "        'num_workers': 5,\n",
        "        'grad_accum_steps': 1\n",
        "    },\n",
        "    \"1.3.12.3\" : { # Art Painting -> Photo\n",
        "        'seed': 0,\n",
        "        'test_only': False,\n",
        "        'cpu': False,\n",
        "        'experiment': 'random',\n",
        "        'experiment_name': '1.3.12.3',\n",
        "        'experiment_args': {'module_placement': ['layer1.1.bn2', 'layer2.1.conv2', 'layer3.1.conv2'], 'mask_out_ratio': 0.5},\n",
        "        'dataset_args': {'text_root': 'data', 'images_root': 'data/kfold/PACS', 'source_domain': 'art_painting', 'target_domain': 'photo' },\n",
        "        'batch_size': 128,\n",
        "        'epochs': 30,\n",
        "        'num_workers': 5,\n",
        "        'grad_accum_steps': 1\n",
        "    },\n",
        "\n",
        "    #### 1.4 - FOUR ASH MODULES ####\n",
        "    ### 1.4.1 - ASH MODULE AFTER layer1.1.bn1, layer1.1.conv2, layer1.1.bn2, AND layer2.1.conv2 ###\n",
        "    \"1.4.1.1\" : { # Art Painting -> Cartoon\n",
        "        'seed': 0,\n",
        "        'test_only': False,\n",
        "        'cpu': False,\n",
        "        'experiment': 'random',\n",
        "        'experiment_name': '1.4.1.1',\n",
        "        'experiment_args': {'module_placement': ['layer1.1.bn1', 'layer1.1.conv2', 'layer1.1.bn2', 'layer2.1.conv2'], 'mask_out_ratio': 0.5},\n",
        "        'dataset_args': {'text_root': 'data', 'images_root': 'data/kfold/PACS', 'source_domain': 'art_painting', 'target_domain': 'cartoon' },\n",
        "        'batch_size': 128,\n",
        "        'epochs': 30,\n",
        "        'num_workers': 5,\n",
        "        'grad_accum_steps': 1\n",
        "    },\n",
        "    \"1.4.1.2\" : { # Art Painting -> Sketch\n",
        "        'seed': 0,\n",
        "        'test_only': False,\n",
        "        'cpu': False,\n",
        "        'experiment': 'random',\n",
        "        'experiment_name': '1.4.1.2',\n",
        "        'experiment_args': {'module_placement': ['layer1.1.bn1', 'layer1.1.conv2', 'layer1.1.bn2', 'layer2.1.conv2'], 'mask_out_ratio': 0.5},\n",
        "        'dataset_args': {'text_root': 'data', 'images_root': 'data/kfold/PACS', 'source_domain': 'art_painting', 'target_domain': 'sketch' },\n",
        "        'batch_size': 128,\n",
        "        'epochs': 30,\n",
        "        'num_workers': 5,\n",
        "        'grad_accum_steps': 1\n",
        "    },\n",
        "    \"1.4.1.3\" : { # Art Painting -> Photo\n",
        "        'seed': 0,\n",
        "        'test_only': False,\n",
        "        'cpu': False,\n",
        "        'experiment': 'random',\n",
        "        'experiment_name': '1.4.1.3',\n",
        "        'experiment_args': {'module_placement': ['layer1.1.bn1', 'layer1.1.conv2', 'layer1.1.bn2', 'layer2.1.conv2'], 'mask_out_ratio': 0.5},\n",
        "        'dataset_args': {'text_root': 'data', 'images_root': 'data/kfold/PACS', 'source_domain': 'art_painting', 'target_domain': 'photo' },\n",
        "        'batch_size': 128,\n",
        "        'epochs': 30,\n",
        "        'num_workers': 5,\n",
        "        'grad_accum_steps': 1\n",
        "    },\n",
        "    ### 1.4.2 - ASH MODULE AFTER layer1.1.bn1, layer1.1.conv2, layer1.1.bn2, AND layer3.0.conv1 ###\n",
        "    \"1.4.2.1\" : { # Art Painting -> Cartoon\n",
        "        'seed': 0,\n",
        "        'test_only': False,\n",
        "        'cpu': False,\n",
        "        'experiment': 'random',\n",
        "        'experiment_name': '1.4.2.1',\n",
        "        'experiment_args': {'module_placement': ['layer1.1.bn1', 'layer1.1.conv2', 'layer1.1.bn2', 'layer3.0.conv1'], 'mask_out_ratio': 0.5},\n",
        "        'dataset_args': {'text_root': 'data', 'images_root': 'data/kfold/PACS', 'source_domain': 'art_painting', 'target_domain': 'cartoon' },\n",
        "        'batch_size': 128,\n",
        "        'epochs': 30,\n",
        "        'num_workers': 5,\n",
        "        'grad_accum_steps': 1\n",
        "    },\n",
        "    \"1.4.2.2\" : { # Art Painting -> Sketch\n",
        "        'seed': 0,\n",
        "        'test_only': False,\n",
        "        'cpu': False,\n",
        "        'experiment': 'random',\n",
        "        'experiment_name': '1.4.2.2',\n",
        "        'experiment_args': {'module_placement': ['layer1.1.bn1', 'layer1.1.conv2', 'layer1.1.bn2', 'layer3.0.conv1'], 'mask_out_ratio': 0.5},\n",
        "        'dataset_args': {'text_root': 'data', 'images_root': 'data/kfold/PACS', 'source_domain': 'art_painting', 'target_domain': 'sketch' },\n",
        "        'batch_size': 128,\n",
        "        'epochs': 30,\n",
        "        'num_workers': 5,\n",
        "        'grad_accum_steps': 1\n",
        "    },\n",
        "    \"1.4.2.3\" : { # Art Painting -> Photo\n",
        "        'seed': 0,\n",
        "        'test_only': False,\n",
        "        'cpu': False,\n",
        "        'experiment': 'random',\n",
        "        'experiment_name': '1.4.2.3',\n",
        "        'experiment_args': {'module_placement': ['layer1.1.bn1', 'layer1.1.conv2', 'layer1.1.bn2', 'layer3.0.conv1'], 'mask_out_ratio': 0.5},\n",
        "        'dataset_args': {'text_root': 'data', 'images_root': 'data/kfold/PACS', 'source_domain': 'art_painting', 'target_domain': 'photo' },\n",
        "        'batch_size': 128,\n",
        "        'epochs': 30,\n",
        "        'num_workers': 5,\n",
        "        'grad_accum_steps': 1\n",
        "    },\n",
        "    ### 1.4.3 - ASH MODULE AFTER layer1.1.bn1, layer1.1.conv2, layer1.1.bn2, AND layer3.1.conv2 ###\n",
        "    \"1.4.3.1\" : { # Art Painting -> Cartoon\n",
        "        'seed': 0,\n",
        "        'test_only': False,\n",
        "        'cpu': False,\n",
        "        'experiment': 'random',\n",
        "        'experiment_name': '1.4.3.1',\n",
        "        'experiment_args': {'module_placement': ['layer1.1.bn1', 'layer1.1.conv2', 'layer1.1.bn2', 'layer3.1.conv2'], 'mask_out_ratio': 0.5},\n",
        "        'dataset_args': {'text_root': 'data', 'images_root': 'data/kfold/PACS', 'source_domain': 'art_painting', 'target_domain': 'cartoon' },\n",
        "        'batch_size': 128,\n",
        "        'epochs': 30,\n",
        "        'num_workers': 5,\n",
        "        'grad_accum_steps': 1\n",
        "    },\n",
        "    \"1.4.3.2\" : { # Art Painting -> Sketch\n",
        "        'seed': 0,\n",
        "        'test_only': False,\n",
        "        'cpu': False,\n",
        "        'experiment': 'random',\n",
        "        'experiment_name': '1.4.3.2',\n",
        "        'experiment_args': {'module_placement': ['layer1.1.bn1', 'layer1.1.conv2', 'layer1.1.bn2', 'layer3.1.conv2'], 'mask_out_ratio': 0.5},\n",
        "        'dataset_args': {'text_root': 'data', 'images_root': 'data/kfold/PACS', 'source_domain': 'art_painting', 'target_domain': 'sketch' },\n",
        "        'batch_size': 128,\n",
        "        'epochs': 30,\n",
        "        'num_workers': 5,\n",
        "        'grad_accum_steps': 1\n",
        "    },\n",
        "    \"1.4.3.3\" : { # Art Painting -> Photo\n",
        "        'seed': 0,\n",
        "        'test_only': False,\n",
        "        'cpu': False,\n",
        "        'experiment': 'random',\n",
        "        'experiment_name': '1.4.3.3',\n",
        "        'experiment_args': {'module_placement': ['layer1.1.bn1', 'layer1.1.conv2', 'layer1.1.bn2', 'layer3.1.conv2'], 'mask_out_ratio': 0.5},\n",
        "        'dataset_args': {'text_root': 'data', 'images_root': 'data/kfold/PACS', 'source_domain': 'art_painting', 'target_domain': 'photo' },\n",
        "        'batch_size': 128,\n",
        "        'epochs': 30,\n",
        "        'num_workers': 5,\n",
        "        'grad_accum_steps': 1\n",
        "    },\n",
        "    ### 1.4.4 - ASH MODULE AFTER layer1.1.bn1, layer1.1.conv2, layer2.1.conv2, AND layer3.0.conv1 ###\n",
        "    \"1.4.4.1\" : { # Art Painting -> Cartoon\n",
        "        'seed': 0,\n",
        "        'test_only': False,\n",
        "        'cpu': False,\n",
        "        'experiment': 'random',\n",
        "        'experiment_name': '1.4.4.1',\n",
        "        'experiment_args': {'module_placement': ['layer1.1.bn1', 'layer1.1.conv2', 'layer2.1.conv2', 'layer3.0.conv1'], 'mask_out_ratio': 0.5},\n",
        "        'dataset_args': {'text_root': 'data', 'images_root': 'data/kfold/PACS', 'source_domain': 'art_painting', 'target_domain': 'cartoon' },\n",
        "        'batch_size': 128,\n",
        "        'epochs': 30,\n",
        "        'num_workers': 5,\n",
        "        'grad_accum_steps': 1\n",
        "    },\n",
        "    \"1.4.4.2\" : { # Art Painting -> Sketch\n",
        "        'seed': 0,\n",
        "        'test_only': False,\n",
        "        'cpu': False,\n",
        "        'experiment': 'random',\n",
        "        'experiment_name': '1.4.4.2',\n",
        "        'experiment_args': {'module_placement': ['layer1.1.bn1', 'layer1.1.conv2', 'layer2.1.conv2', 'layer3.0.conv1'], 'mask_out_ratio': 0.5},\n",
        "        'dataset_args': {'text_root': 'data', 'images_root': 'data/kfold/PACS', 'source_domain': 'art_painting', 'target_domain': 'sketch' },\n",
        "        'batch_size': 128,\n",
        "        'epochs': 30,\n",
        "        'num_workers': 5,\n",
        "        'grad_accum_steps': 1\n",
        "    },\n",
        "    \"1.4.4.3\" : { # Art Painting -> Photo\n",
        "        'seed': 0,\n",
        "        'test_only': False,\n",
        "        'cpu': False,\n",
        "        'experiment': 'random',\n",
        "        'experiment_name': '1.4.4.3',\n",
        "        'experiment_args': {'module_placement': ['layer1.1.bn1', 'layer1.1.conv2', 'layer2.1.conv2', 'layer3.0.conv1'], 'mask_out_ratio': 0.5},\n",
        "        'dataset_args': {'text_root': 'data', 'images_root': 'data/kfold/PACS', 'source_domain': 'art_painting', 'target_domain': 'photo' },\n",
        "        'batch_size': 128,\n",
        "        'epochs': 30,\n",
        "        'num_workers': 5,\n",
        "        'grad_accum_steps': 1\n",
        "    },\n",
        "    ### 1.4.5 - ASH MODULE AFTER layer1.1.bn1, layer1.1.conv2, layer2.1.conv2, AND layer3.1.conv2 ###\n",
        "    \"1.4.5.1\" : { # Art Painting -> Cartoon\n",
        "        'seed': 0,\n",
        "        'test_only': False,\n",
        "        'cpu': False,\n",
        "        'experiment': 'random',\n",
        "        'experiment_name': '1.4.5.1',\n",
        "        'experiment_args': {'module_placement': ['layer1.1.bn1', 'layer1.1.conv2', 'layer2.1.conv2', 'layer3.1.conv2'], 'mask_out_ratio': 0.5},\n",
        "        'dataset_args': {'text_root': 'data', 'images_root': 'data/kfold/PACS', 'source_domain': 'art_painting', 'target_domain': 'cartoon' },\n",
        "        'batch_size': 128,\n",
        "        'epochs': 30,\n",
        "        'num_workers': 5,\n",
        "        'grad_accum_steps': 1\n",
        "    },\n",
        "    \"1.4.5.2\" : { # Art Painting -> Sketch\n",
        "        'seed': 0,\n",
        "        'test_only': False,\n",
        "        'cpu': False,\n",
        "        'experiment': 'random',\n",
        "        'experiment_name': '1.4.5.2',\n",
        "        'experiment_args': {'module_placement': ['layer1.1.bn1', 'layer1.1.conv2', 'layer2.1.conv2', 'layer3.1.conv2'], 'mask_out_ratio': 0.5},\n",
        "        'dataset_args': {'text_root': 'data', 'images_root': 'data/kfold/PACS', 'source_domain': 'art_painting', 'target_domain': 'sketch' },\n",
        "        'batch_size': 128,\n",
        "        'epochs': 30,\n",
        "        'num_workers': 5,\n",
        "        'grad_accum_steps': 1\n",
        "    },\n",
        "    \"1.4.5.3\" : { # Art Painting -> Photo\n",
        "        'seed': 0,\n",
        "        'test_only': False,\n",
        "        'cpu': False,\n",
        "        'experiment': 'random',\n",
        "        'experiment_name': '1.4.5.3',\n",
        "        'experiment_args': {'module_placement': ['layer1.1.bn1', 'layer1.1.conv2', 'layer2.1.conv2', 'layer3.1.conv2'], 'mask_out_ratio': 0.5},\n",
        "        'dataset_args': {'text_root': 'data', 'images_root': 'data/kfold/PACS', 'source_domain': 'art_painting', 'target_domain': 'photo' },\n",
        "        'batch_size': 128,\n",
        "        'epochs': 30,\n",
        "        'num_workers': 5,\n",
        "        'grad_accum_steps': 1\n",
        "    },\n",
        "    ### 1.4.6 - ASH MODULE AFTER layer1.1.bn1, layer1.1.conv2, layer3.0.conv1, AND layer3.1.conv2 ###\n",
        "    \"1.4.6.1\" : { # Art Painting -> Cartoon\n",
        "        'seed': 0,\n",
        "        'test_only': False,\n",
        "        'cpu': False,\n",
        "        'experiment': 'random',\n",
        "        'experiment_name': '1.4.6.1',\n",
        "        'experiment_args': {'module_placement': ['layer1.1.bn1', 'layer1.1.conv2', 'layer3.0.conv1', 'layer3.1.conv2'], 'mask_out_ratio': 0.5},\n",
        "        'dataset_args': {'text_root': 'data', 'images_root': 'data/kfold/PACS', 'source_domain': 'art_painting', 'target_domain': 'cartoon' },\n",
        "        'batch_size': 128,\n",
        "        'epochs': 30,\n",
        "        'num_workers': 5,\n",
        "        'grad_accum_steps': 1\n",
        "    },\n",
        "    \"1.4.6.2\" : { # Art Painting -> Sketch\n",
        "        'seed': 0,\n",
        "        'test_only': False,\n",
        "        'cpu': False,\n",
        "        'experiment': 'random',\n",
        "        'experiment_name': '1.4.6.2',\n",
        "        'experiment_args': {'module_placement': ['layer1.1.bn1', 'layer1.1.conv2', 'layer3.0.conv1', 'layer3.1.conv2'], 'mask_out_ratio': 0.5},\n",
        "        'dataset_args': {'text_root': 'data', 'images_root': 'data/kfold/PACS', 'source_domain': 'art_painting', 'target_domain': 'sketch' },\n",
        "        'batch_size': 128,\n",
        "        'epochs': 30,\n",
        "        'num_workers': 5,\n",
        "        'grad_accum_steps': 1\n",
        "    },\n",
        "    \"1.4.6.3\" : { # Art Painting -> Photo\n",
        "        'seed': 0,\n",
        "        'test_only': False,\n",
        "        'cpu': False,\n",
        "        'experiment': 'random',\n",
        "        'experiment_name': '1.4.6.3',\n",
        "        'experiment_args': {'module_placement': ['layer1.1.bn1', 'layer1.1.conv2', 'layer3.0.conv1', 'layer3.1.conv2'], 'mask_out_ratio': 0.5},\n",
        "        'dataset_args': {'text_root': 'data', 'images_root': 'data/kfold/PACS', 'source_domain': 'art_painting', 'target_domain': 'photo' },\n",
        "        'batch_size': 128,\n",
        "        'epochs': 30,\n",
        "        'num_workers': 5,\n",
        "        'grad_accum_steps': 1\n",
        "    },\n",
        "    ### 1.4.7 - ASH MODULE AFTER layer1.1.bn1, layer1.1.bn2, layer2.1.conv2, AND layer3.0.conv1 ###\n",
        "    \"1.4.7.1\" : { # Art Painting -> Cartoon\n",
        "        'seed': 0,\n",
        "        'test_only': False,\n",
        "        'cpu': False,\n",
        "        'experiment': 'random',\n",
        "        'experiment_name': '1.4.7.1',\n",
        "        'experiment_args': {'module_placement': ['layer1.1.bn1', 'layer1.1.bn2', 'layer2.1.conv2', 'layer3.0.conv1'], 'mask_out_ratio': 0.5},\n",
        "        'dataset_args': {'text_root': 'data', 'images_root': 'data/kfold/PACS', 'source_domain': 'art_painting', 'target_domain': 'cartoon' },\n",
        "        'batch_size': 128,\n",
        "        'epochs': 30,\n",
        "        'num_workers': 5,\n",
        "        'grad_accum_steps': 1\n",
        "    },\n",
        "    \"1.4.7.2\" : { # Art Painting -> Sketch\n",
        "        'seed': 0,\n",
        "        'test_only': False,\n",
        "        'cpu': False,\n",
        "        'experiment': 'random',\n",
        "        'experiment_name': '1.4.7.2',\n",
        "        'experiment_args': {'module_placement': ['layer1.1.bn1', 'layer1.1.bn2', 'layer2.1.conv2', 'layer3.0.conv1'], 'mask_out_ratio': 0.5},\n",
        "        'dataset_args': {'text_root': 'data', 'images_root': 'data/kfold/PACS', 'source_domain': 'art_painting', 'target_domain': 'sketch' },\n",
        "        'batch_size': 128,\n",
        "        'epochs': 30,\n",
        "        'num_workers': 5,\n",
        "        'grad_accum_steps': 1\n",
        "    },\n",
        "    \"1.4.7.3\" : { # Art Painting -> Photo\n",
        "        'seed': 0,\n",
        "        'test_only': False,\n",
        "        'cpu': False,\n",
        "        'experiment': 'random',\n",
        "        'experiment_name': '1.4.7.3',\n",
        "        'experiment_args': {'module_placement': ['layer1.1.bn1', 'layer1.1.bn2', 'layer2.1.conv2', 'layer3.0.conv1'], 'mask_out_ratio': 0.5},\n",
        "        'dataset_args': {'text_root': 'data', 'images_root': 'data/kfold/PACS', 'source_domain': 'art_painting', 'target_domain': 'photo' },\n",
        "        'batch_size': 128,\n",
        "        'epochs': 30,\n",
        "        'num_workers': 5,\n",
        "        'grad_accum_steps': 1\n",
        "    },\n",
        "    ### 1.4.8 - ASH MODULE AFTER layer1.1.bn1, layer1.1.bn2, layer2.1.conv2, AND layer3.1.conv2 ###\n",
        "    \"1.4.8.1\" : { # Art Painting -> Cartoon\n",
        "        'seed': 0,\n",
        "        'test_only': False,\n",
        "        'cpu': False,\n",
        "        'experiment': 'random',\n",
        "        'experiment_name': '1.4.8.1',\n",
        "        'experiment_args': {'module_placement': ['layer1.1.bn1', 'layer1.1.bn2', 'layer2.1.conv2', 'layer3.1.conv2'], 'mask_out_ratio': 0.5},\n",
        "        'dataset_args': {'text_root': 'data', 'images_root': 'data/kfold/PACS', 'source_domain': 'art_painting', 'target_domain': 'cartoon' },\n",
        "        'batch_size': 128,\n",
        "        'epochs': 30,\n",
        "        'num_workers': 5,\n",
        "        'grad_accum_steps': 1\n",
        "    },\n",
        "    \"1.4.8.2\" : { # Art Painting -> Sketch\n",
        "        'seed': 0,\n",
        "        'test_only': False,\n",
        "        'cpu': False,\n",
        "        'experiment': 'random',\n",
        "        'experiment_name': '1.4.8.2',\n",
        "        'experiment_args': {'module_placement': ['layer1.1.bn1', 'layer1.1.bn2', 'layer2.1.conv2', 'layer3.1.conv2'], 'mask_out_ratio': 0.5},\n",
        "        'dataset_args': {'text_root': 'data', 'images_root': 'data/kfold/PACS', 'source_domain': 'art_painting', 'target_domain': 'sketch' },\n",
        "        'batch_size': 128,\n",
        "        'epochs': 30,\n",
        "        'num_workers': 5,\n",
        "        'grad_accum_steps': 1\n",
        "    },\n",
        "    \"1.4.8.3\" : { # Art Painting -> Photo\n",
        "        'seed': 0,\n",
        "        'test_only': False,\n",
        "        'cpu': False,\n",
        "        'experiment': 'random',\n",
        "        'experiment_name': '1.4.8.3',\n",
        "        'experiment_args': {'module_placement': ['layer1.1.bn1', 'layer1.1.bn2', 'layer2.1.conv2', 'layer3.1.conv2'], 'mask_out_ratio': 0.5},\n",
        "        'dataset_args': {'text_root': 'data', 'images_root': 'data/kfold/PACS', 'source_domain': 'art_painting', 'target_domain': 'photo' },\n",
        "        'batch_size': 128,\n",
        "        'epochs': 30,\n",
        "        'num_workers': 5,\n",
        "        'grad_accum_steps': 1\n",
        "    },\n",
        "\n",
        "    #### 1.5 - FIVE ASH MODULES ####\n",
        "    ### 1.5.1 - ASH MODULE AFTER layer1.1.bn1, layer1.1.conv2, layer1.1.bn2, layer2.1.conv2, and layer3.0.conv1 ###\n",
        "    \"1.5.1.1\" : { # Art Painting -> Cartoon\n",
        "        'seed': 0,\n",
        "        'test_only': False,\n",
        "        'cpu': False,\n",
        "        'experiment': 'random',\n",
        "        'experiment_name': '1.5.1.1',\n",
        "        'experiment_args': {'module_placement': ['layer1.1.bn1', 'layer1.1.conv2', 'layer1.1.bn2', 'layer2.1.conv2', 'layer3.0.conv1'], 'mask_out_ratio': 0.5},\n",
        "        'dataset_args': {'text_root': 'data', 'images_root': 'data/kfold/PACS', 'source_domain': 'art_painting', 'target_domain': 'cartoon' },\n",
        "        'batch_size': 128,\n",
        "        'epochs': 30,\n",
        "        'num_workers': 5,\n",
        "        'grad_accum_steps': 1\n",
        "    },\n",
        "    \"1.5.1.2\" : { # Art Painting -> Sketch\n",
        "        'seed': 0,\n",
        "        'test_only': False,\n",
        "        'cpu': False,\n",
        "        'experiment': 'random',\n",
        "        'experiment_name': '1.5.1.2',\n",
        "        'experiment_args': {'module_placement': ['layer1.1.bn1', 'layer1.1.conv2', 'layer1.1.bn2', 'layer2.1.conv2', 'layer3.0.conv1'], 'mask_out_ratio': 0.5},\n",
        "        'dataset_args': {'text_root': 'data', 'images_root': 'data/kfold/PACS', 'source_domain': 'art_painting', 'target_domain': 'sketch' },\n",
        "        'batch_size': 128,\n",
        "        'epochs': 30,\n",
        "        'num_workers': 5,\n",
        "        'grad_accum_steps': 1\n",
        "    },\n",
        "    \"1.5.1.3\" : { # Art Painting -> Photo\n",
        "        'seed': 0,\n",
        "        'test_only': False,\n",
        "        'cpu': False,\n",
        "        'experiment': 'random',\n",
        "        'experiment_name': '1.5.1.3',\n",
        "        'experiment_args': {'module_placement': ['layer1.1.bn1', 'layer1.1.conv2', 'layer1.1.bn2', 'layer2.1.conv2', 'layer3.0.conv1'], 'mask_out_ratio': 0.5},\n",
        "        'dataset_args': {'text_root': 'data', 'images_root': 'data/kfold/PACS', 'source_domain': 'art_painting', 'target_domain': 'photo' },\n",
        "        'batch_size': 128,\n",
        "        'epochs': 30,\n",
        "        'num_workers': 5,\n",
        "        'grad_accum_steps': 1\n",
        "    },\n",
        "    ### 1.5.2 - ASH MODULE AFTER layer1.1.bn1, layer1.1.conv2, layer1.1.bn2, layer2.1.conv2, and layer3.1.conv2 ###\n",
        "    \"1.5.2.1\" : { # Art Painting -> Cartoon\n",
        "        'seed': 0,\n",
        "        'test_only': False,\n",
        "        'cpu': False,\n",
        "        'experiment': 'random',\n",
        "        'experiment_name': '1.5.2.1',\n",
        "        'experiment_args': {'module_placement': ['layer1.1.bn1', 'layer1.1.conv2', 'layer1.1.bn2', 'layer2.1.conv2', 'layer3.1.conv2'], 'mask_out_ratio': 0.5},\n",
        "        'dataset_args': {'text_root': 'data', 'images_root': 'data/kfold/PACS', 'source_domain': 'art_painting', 'target_domain': 'cartoon' },\n",
        "        'batch_size': 128,\n",
        "        'epochs': 30,\n",
        "        'num_workers': 5,\n",
        "        'grad_accum_steps': 1\n",
        "    },\n",
        "    \"1.5.2.2\" : { # Art Painting -> Sketch\n",
        "        'seed': 0,\n",
        "        'test_only': False,\n",
        "        'cpu': False,\n",
        "        'experiment': 'random',\n",
        "        'experiment_name': '1.5.2.2',\n",
        "        'experiment_args': {'module_placement': ['layer1.1.bn1', 'layer1.1.conv2', 'layer1.1.bn2', 'layer2.1.conv2', 'layer3.1.conv2'], 'mask_out_ratio': 0.5},\n",
        "        'dataset_args': {'text_root': 'data', 'images_root': 'data/kfold/PACS', 'source_domain': 'art_painting', 'target_domain': 'sketch' },\n",
        "        'batch_size': 128,\n",
        "        'epochs': 30,\n",
        "        'num_workers': 5,\n",
        "        'grad_accum_steps': 1\n",
        "    },\n",
        "    \"1.5.2.3\" : { # Art Painting -> Photo\n",
        "        'seed': 0,\n",
        "        'test_only': False,\n",
        "        'cpu': False,\n",
        "        'experiment': 'random',\n",
        "        'experiment_name': '1.5.2.3',\n",
        "        'experiment_args': {'module_placement': ['layer1.1.bn1', 'layer1.1.conv2', 'layer1.1.bn2', 'layer2.1.conv2', 'layer3.1.conv2'], 'mask_out_ratio': 0.5},\n",
        "        'dataset_args': {'text_root': 'data', 'images_root': 'data/kfold/PACS', 'source_domain': 'art_painting', 'target_domain': 'photo' },\n",
        "        'batch_size': 128,\n",
        "        'epochs': 30,\n",
        "        'num_workers': 5,\n",
        "        'grad_accum_steps': 1\n",
        "    },\n",
        "    ### 1.5.3 - ASH MODULE AFTER layer1.1.bn1, layer1.1.conv2, layer1.1.bn2, layer3.0.conv1, and layer3.1.conv2 ###\n",
        "    \"1.5.3.1\" : { # Art Painting -> Cartoon\n",
        "        'seed': 0,\n",
        "        'test_only': False,\n",
        "        'cpu': False,\n",
        "        'experiment': 'random',\n",
        "        'experiment_name': '1.5.3.1',\n",
        "        'experiment_args': {'module_placement': ['layer1.1.bn1', 'layer1.1.conv2', 'layer1.1.bn2', 'layer3.0.conv1', 'layer3.1.conv2'], 'mask_out_ratio': 0.5},\n",
        "        'dataset_args': {'text_root': 'data', 'images_root': 'data/kfold/PACS', 'source_domain': 'art_painting', 'target_domain': 'cartoon' },\n",
        "        'batch_size': 128,\n",
        "        'epochs': 30,\n",
        "        'num_workers': 5,\n",
        "        'grad_accum_steps': 1\n",
        "    },\n",
        "    \"1.5.3.2\" : { # Art Painting -> Sketch\n",
        "        'seed': 0,\n",
        "        'test_only': False,\n",
        "        'cpu': False,\n",
        "        'experiment': 'random',\n",
        "        'experiment_name': '1.5.3.2',\n",
        "        'experiment_args': {'module_placement': ['layer1.1.bn1', 'layer1.1.conv2', 'layer1.1.bn2', 'layer3.0.conv1', 'layer3.1.conv2'], 'mask_out_ratio': 0.5},\n",
        "        'dataset_args': {'text_root': 'data', 'images_root': 'data/kfold/PACS', 'source_domain': 'art_painting', 'target_domain': 'sketch' },\n",
        "        'batch_size': 128,\n",
        "        'epochs': 30,\n",
        "        'num_workers': 5,\n",
        "        'grad_accum_steps': 1\n",
        "    },\n",
        "    \"1.5.3.3\" : { # Art Painting -> Photo\n",
        "        'seed': 0,\n",
        "        'test_only': False,\n",
        "        'cpu': False,\n",
        "        'experiment': 'random',\n",
        "        'experiment_name': '1.5.3.3',\n",
        "        'experiment_args': {'module_placement': ['layer1.1.bn1', 'layer1.1.conv2', 'layer1.1.bn2', 'layer3.0.conv1', 'layer3.1.conv2'], 'mask_out_ratio': 0.5},\n",
        "        'dataset_args': {'text_root': 'data', 'images_root': 'data/kfold/PACS', 'source_domain': 'art_painting', 'target_domain': 'photo' },\n",
        "        'batch_size': 128,\n",
        "        'epochs': 30,\n",
        "        'num_workers': 5,\n",
        "        'grad_accum_steps': 1\n",
        "    },\n",
        "    ### 1.5.4 - ASH MODULE AFTER layer1.1.bn1, layer1.1.bn2, layer2.1.conv2, layer3.0.conv1, and layer3.1.conv2 ###\n",
        "    \"1.5.4.1\" : { # Art Painting -> Cartoon\n",
        "        'seed': 0,\n",
        "        'test_only': False,\n",
        "        'cpu': False,\n",
        "        'experiment': 'random',\n",
        "        'experiment_name': '1.5.4.1',\n",
        "        'experiment_args': {'module_placement': ['layer1.1.bn1', 'layer1.1.bn2', 'layer2.1.conv2', 'layer3.0.conv1', 'layer3.1.conv2'], 'mask_out_ratio': 0.5},\n",
        "        'dataset_args': {'text_root': 'data', 'images_root': 'data/kfold/PACS', 'source_domain': 'art_painting', 'target_domain': 'cartoon' },\n",
        "        'batch_size': 128,\n",
        "        'epochs': 30,\n",
        "        'num_workers': 5,\n",
        "        'grad_accum_steps': 1\n",
        "    },\n",
        "    \"1.5.4.2\" : { # Art Painting -> Sketch\n",
        "        'seed': 0,\n",
        "        'test_only': False,\n",
        "        'cpu': False,\n",
        "        'experiment': 'random',\n",
        "        'experiment_name': '1.5.4.2',\n",
        "        'experiment_args': {'module_placement': ['layer1.1.bn1', 'layer1.1.bn2', 'layer2.1.conv2', 'layer3.0.conv1', 'layer3.1.conv2'], 'mask_out_ratio': 0.5},\n",
        "        'dataset_args': {'text_root': 'data', 'images_root': 'data/kfold/PACS', 'source_domain': 'art_painting', 'target_domain': 'sketch' },\n",
        "        'batch_size': 128,\n",
        "        'epochs': 30,\n",
        "        'num_workers': 5,\n",
        "        'grad_accum_steps': 1\n",
        "    },\n",
        "    \"1.5.4.3\" : { # Art Painting -> Photo\n",
        "        'seed': 0,\n",
        "        'test_only': False,\n",
        "        'cpu': False,\n",
        "        'experiment': 'random',\n",
        "        'experiment_name': '1.5.4.3',\n",
        "        'experiment_args': {'module_placement': ['layer1.1.bn1', 'layer1.1.bn2', 'layer2.1.conv2', 'layer3.0.conv1', 'layer3.1.conv2'], 'mask_out_ratio': 0.5},\n",
        "        'dataset_args': {'text_root': 'data', 'images_root': 'data/kfold/PACS', 'source_domain': 'art_painting', 'target_domain': 'photo' },\n",
        "        'batch_size': 128,\n",
        "        'epochs': 30,\n",
        "        'num_workers': 5,\n",
        "        'grad_accum_steps': 1\n",
        "    },\n",
        "\n",
        "    ##### 2 - RANDOM ACTIVATION MAPS #####\n",
        "    #### 2.1 - MASK OUT RATIO = 0.00 ####\n",
        "    ### 2.1.1 - ASH MODULE AFTER layer2.1.conv2 ###\n",
        "    \"2.1.1.1\" : { # Art Painting -> Cartoon\n",
        "        'seed': 0,\n",
        "        'test_only': False,\n",
        "        'cpu': False,\n",
        "        'experiment': 'random',\n",
        "        'experiment_name': '2.1.1.1',\n",
        "        'experiment_args': {'module_placement': ['layer2.1.conv2'], 'mask_out_ratio': 0.00},\n",
        "        'dataset_args': {'text_root': 'data', 'images_root': 'data/kfold/PACS', 'source_domain': 'art_painting', 'target_domain': 'cartoon' },\n",
        "        'batch_size': 128,\n",
        "        'epochs': 30,\n",
        "        'num_workers': 5,\n",
        "        'grad_accum_steps': 1\n",
        "    },\n",
        "    \"2.1.1.2\" : { # Art Painting -> Sketch\n",
        "        'seed': 0,\n",
        "        'test_only': False,\n",
        "        'cpu': False,\n",
        "        'experiment': 'random',\n",
        "        'experiment_name': '2.1.1.2',\n",
        "        'experiment_args': {'module_placement': ['layer2.1.conv2'], 'mask_out_ratio': 0.00},\n",
        "        'dataset_args': {'text_root': 'data', 'images_root': 'data/kfold/PACS', 'source_domain': 'art_painting', 'target_domain': 'sketch' },\n",
        "        'batch_size': 128,\n",
        "        'epochs': 30,\n",
        "        'num_workers': 5,\n",
        "        'grad_accum_steps': 1\n",
        "    },\n",
        "    \"2.1.1.3\" : { # Art Painting -> Photo\n",
        "        'seed': 0,\n",
        "        'test_only': False,\n",
        "        'cpu': False,\n",
        "        'experiment': 'random',\n",
        "        'experiment_name': '2.1.1.3',\n",
        "        'experiment_args': {'module_placement': ['layer2.1.conv2'], 'mask_out_ratio': 0.00},\n",
        "        'dataset_args': {'text_root': 'data', 'images_root': 'data/kfold/PACS', 'source_domain': 'art_painting', 'target_domain': 'photo' },\n",
        "        'batch_size': 128,\n",
        "        'epochs': 30,\n",
        "        'num_workers': 5,\n",
        "        'grad_accum_steps': 1\n",
        "    },\n",
        "    ### 2.1.2 - ASH MODULE AFTER layer1.1.bn1 AND layer2.1.conv2 ###\n",
        "    \"2.1.2.1\" : { # Art Painting -> Cartoon\n",
        "        'seed': 0,\n",
        "        'test_only': False,\n",
        "        'cpu': False,\n",
        "        'experiment': 'random',\n",
        "        'experiment_name': '2.1.2.1',\n",
        "        'experiment_args': {'module_placement': ['layer1.1.bn1', 'layer2.1.conv2'], 'mask_out_ratio': 0.00},\n",
        "        'dataset_args': {'text_root': 'data', 'images_root': 'data/kfold/PACS', 'source_domain': 'art_painting', 'target_domain': 'cartoon' },\n",
        "        'batch_size': 128,\n",
        "        'epochs': 30,\n",
        "        'num_workers': 5,\n",
        "        'grad_accum_steps': 1\n",
        "    },\n",
        "    \"2.1.2.2\" : { # Art Painting -> Sketch\n",
        "        'seed': 0,\n",
        "        'test_only': False,\n",
        "        'cpu': False,\n",
        "        'experiment': 'random',\n",
        "        'experiment_name': '2.1.2.2',\n",
        "        'experiment_args': {'module_placement': ['layer1.1.bn1', 'layer2.1.conv2'], 'mask_out_ratio': 0.00},\n",
        "        'dataset_args': {'text_root': 'data', 'images_root': 'data/kfold/PACS', 'source_domain': 'art_painting', 'target_domain': 'sketch' },\n",
        "        'batch_size': 128,\n",
        "        'epochs': 30,\n",
        "        'num_workers': 5,\n",
        "        'grad_accum_steps': 1\n",
        "    },\n",
        "    \"2.1.2.3\" : { # Art Painting -> Photo\n",
        "        'seed': 0,\n",
        "        'test_only': False,\n",
        "        'cpu': False,\n",
        "        'experiment': 'random',\n",
        "        'experiment_name': '2.1.2.3',\n",
        "        'experiment_args': {'module_placement': ['layer1.1.bn1', 'layer2.1.conv2'], 'mask_out_ratio': 0.00},\n",
        "        'dataset_args': {'text_root': 'data', 'images_root': 'data/kfold/PACS', 'source_domain': 'art_painting', 'target_domain': 'photo' },\n",
        "        'batch_size': 128,\n",
        "        'epochs': 30,\n",
        "        'num_workers': 5,\n",
        "        'grad_accum_steps': 1\n",
        "    },\n",
        "    ### 2.1.3 - ASH MODULE AFTER layer1.1.conv1 ###\n",
        "    \"2.1.3.1\" : { # Art Painting -> Cartoon\n",
        "        'seed': 0,\n",
        "        'test_only': False,\n",
        "        'cpu': False,\n",
        "        'experiment': 'random',\n",
        "        'experiment_name': '2.1.3.1',\n",
        "        'experiment_args': {'module_placement': ['layer1.1.conv1'], 'mask_out_ratio': 0.00},\n",
        "        'dataset_args': {'text_root': 'data', 'images_root': 'data/kfold/PACS', 'source_domain': 'art_painting', 'target_domain': 'cartoon' },\n",
        "        'batch_size': 128,\n",
        "        'epochs': 30,\n",
        "        'num_workers': 5,\n",
        "        'grad_accum_steps': 1\n",
        "    },\n",
        "    \"2.1.3.2\" : { # Art Painting -> Sketch\n",
        "        'seed': 0,\n",
        "        'test_only': False,\n",
        "        'cpu': False,\n",
        "        'experiment': 'random',\n",
        "        'experiment_name': '2.1.3.2',\n",
        "        'experiment_args': {'module_placement': ['layer1.1.conv1'], 'mask_out_ratio': 0.00},\n",
        "        'dataset_args': {'text_root': 'data', 'images_root': 'data/kfold/PACS', 'source_domain': 'art_painting', 'target_domain': 'sketch' },\n",
        "        'batch_size': 128,\n",
        "        'epochs': 30,\n",
        "        'num_workers': 5,\n",
        "        'grad_accum_steps': 1\n",
        "    },\n",
        "    \"2.1.3.3\" : { # Art Painting -> Photo\n",
        "        'seed': 0,\n",
        "        'test_only': False,\n",
        "        'cpu': False,\n",
        "        'experiment': 'random',\n",
        "        'experiment_name': '2.1.3.3',\n",
        "        'experiment_args': {'module_placement': ['layer1.1.conv1'], 'mask_out_ratio': 0.00},\n",
        "        'dataset_args': {'text_root': 'data', 'images_root': 'data/kfold/PACS', 'source_domain': 'art_painting', 'target_domain': 'photo' },\n",
        "        'batch_size': 128,\n",
        "        'epochs': 30,\n",
        "        'num_workers': 5,\n",
        "        'grad_accum_steps': 1\n",
        "    },\n",
        "    ### 2.1.4 - ASH MODULE AFTER layer1.1.bn2 ###\n",
        "    \"2.1.4.1\" : { # Art Painting -> Cartoon\n",
        "        'seed': 0,\n",
        "        'test_only': False,\n",
        "        'cpu': False,\n",
        "        'experiment': 'random',\n",
        "        'experiment_name': '2.1.4.1',\n",
        "        'experiment_args': {'module_placement': ['layer1.1.bn2'], 'mask_out_ratio': 0.00},\n",
        "        'dataset_args': {'text_root': 'data', 'images_root': 'data/kfold/PACS', 'source_domain': 'art_painting', 'target_domain': 'cartoon' },\n",
        "        'batch_size': 128,\n",
        "        'epochs': 30,\n",
        "        'num_workers': 5,\n",
        "        'grad_accum_steps': 1\n",
        "    },\n",
        "    \"2.1.4.2\" : { # Art Painting -> Sketch\n",
        "        'seed': 0,\n",
        "        'test_only': False,\n",
        "        'cpu': False,\n",
        "        'experiment': 'random',\n",
        "        'experiment_name': '2.1.4.2',\n",
        "        'experiment_args': {'module_placement': ['layer1.1.bn2'], 'mask_out_ratio': 0.00},\n",
        "        'dataset_args': {'text_root': 'data', 'images_root': 'data/kfold/PACS', 'source_domain': 'art_painting', 'target_domain': 'sketch' },\n",
        "        'batch_size': 128,\n",
        "        'epochs': 30,\n",
        "        'num_workers': 5,\n",
        "        'grad_accum_steps': 1\n",
        "    },\n",
        "    \"2.1.4.3\" : { # Art Painting -> Photo\n",
        "        'seed': 0,\n",
        "        'test_only': False,\n",
        "        'cpu': False,\n",
        "        'experiment': 'random',\n",
        "        'experiment_name': '2.1.4.3',\n",
        "        'experiment_args': {'module_placement': ['layer1.1.bn2'], 'mask_out_ratio': 0.00},\n",
        "        'dataset_args': {'text_root': 'data', 'images_root': 'data/kfold/PACS', 'source_domain': 'art_painting', 'target_domain': 'photo' },\n",
        "        'batch_size': 128,\n",
        "        'epochs': 30,\n",
        "        'num_workers': 5,\n",
        "        'grad_accum_steps': 1\n",
        "    },\n",
        "    ### 2.1.5 - ASH MODULE AFTER layer1.1.bn2 AND layer2.1.bn2 ###\n",
        "    \"2.1.5.1\" : { # Art Painting -> Cartoon\n",
        "        'seed': 0,\n",
        "        'test_only': False,\n",
        "        'cpu': False,\n",
        "        'experiment': 'random',\n",
        "        'experiment_name': '2.1.5.1',\n",
        "        'experiment_args': {'module_placement': ['layer1.1.bn2', 'layer2.1.bn2'], 'mask_out_ratio': 0.00},\n",
        "        'dataset_args': {'text_root': 'data', 'images_root': 'data/kfold/PACS', 'source_domain': 'art_painting', 'target_domain': 'cartoon' },\n",
        "        'batch_size': 128,\n",
        "        'epochs': 30,\n",
        "        'num_workers': 5,\n",
        "        'grad_accum_steps': 1\n",
        "    },\n",
        "    \"2.1.5.2\" : { # Art Painting -> Sketch\n",
        "        'seed': 0,\n",
        "        'test_only': False,\n",
        "        'cpu': False,\n",
        "        'experiment': 'random',\n",
        "        'experiment_name': '2.1.5.2',\n",
        "        'experiment_args': {'module_placement': ['layer1.1.bn2', 'layer2.1.bn2'], 'mask_out_ratio': 0.00},\n",
        "        'dataset_args': {'text_root': 'data', 'images_root': 'data/kfold/PACS', 'source_domain': 'art_painting', 'target_domain': 'sketch' },\n",
        "        'batch_size': 128,\n",
        "        'epochs': 30,\n",
        "        'num_workers': 5,\n",
        "        'grad_accum_steps': 1\n",
        "    },\n",
        "    \"2.1.5.3\" : { # Art Painting -> Photo\n",
        "        'seed': 0,\n",
        "        'test_only': False,\n",
        "        'cpu': False,\n",
        "        'experiment': 'random',\n",
        "        'experiment_name': '2.1.5.3',\n",
        "        'experiment_args': {'module_placement': ['layer1.1.bn2', 'layer2.1.bn2'], 'mask_out_ratio': 0.00},\n",
        "        'dataset_args': {'text_root': 'data', 'images_root': 'data/kfold/PACS', 'source_domain': 'art_painting', 'target_domain': 'photo' },\n",
        "        'batch_size': 128,\n",
        "        'epochs': 30,\n",
        "        'num_workers': 5,\n",
        "        'grad_accum_steps': 1\n",
        "    },\n",
        "\n",
        "    #### 2.2 - MASK OUT RATIO = 0.25 ####\n",
        "    ### 2.2.1 - ASH MODULE AFTER layer2.1.conv2 ###\n",
        "    \"2.2.1.1\" : { # Art Painting -> Cartoon\n",
        "        'seed': 0,\n",
        "        'test_only': False,\n",
        "        'cpu': False,\n",
        "        'experiment': 'random',\n",
        "        'experiment_name': '2.2.1.1',\n",
        "        'experiment_args': {'module_placement': ['layer2.1.conv2'], 'mask_out_ratio': 0.25},\n",
        "        'dataset_args': {'text_root': 'data', 'images_root': 'data/kfold/PACS', 'source_domain': 'art_painting', 'target_domain': 'cartoon' },\n",
        "        'batch_size': 128,\n",
        "        'epochs': 30,\n",
        "        'num_workers': 5,\n",
        "        'grad_accum_steps': 1\n",
        "    },\n",
        "    \"2.2.1.2\" : { # Art Painting -> Sketch\n",
        "        'seed': 0,\n",
        "        'test_only': False,\n",
        "        'cpu': False,\n",
        "        'experiment': 'random',\n",
        "        'experiment_name': '2.2.1.2',\n",
        "        'experiment_args': {'module_placement': ['layer2.1.conv2'], 'mask_out_ratio': 0.25},\n",
        "        'dataset_args': {'text_root': 'data', 'images_root': 'data/kfold/PACS', 'source_domain': 'art_painting', 'target_domain': 'sketch' },\n",
        "        'batch_size': 128,\n",
        "        'epochs': 30,\n",
        "        'num_workers': 5,\n",
        "        'grad_accum_steps': 1\n",
        "    },\n",
        "    \"2.2.1.3\" : { # Art Painting -> Photo\n",
        "        'seed': 0,\n",
        "        'test_only': False,\n",
        "        'cpu': False,\n",
        "        'experiment': 'random',\n",
        "        'experiment_name': '2.2.1.3',\n",
        "        'experiment_args': {'module_placement': ['layer2.1.conv2'], 'mask_out_ratio': 0.25},\n",
        "        'dataset_args': {'text_root': 'data', 'images_root': 'data/kfold/PACS', 'source_domain': 'art_painting', 'target_domain': 'photo' },\n",
        "        'batch_size': 128,\n",
        "        'epochs': 30,\n",
        "        'num_workers': 5,\n",
        "        'grad_accum_steps': 1\n",
        "    },\n",
        "    ### 2.2.2 - ASH MODULE AFTER layer1.1.bn1 AND layer2.1.conv2 ###\n",
        "    \"2.2.2.1\" : { # Art Painting -> Cartoon\n",
        "        'seed': 0,\n",
        "        'test_only': False,\n",
        "        'cpu': False,\n",
        "        'experiment': 'random',\n",
        "        'experiment_name': '2.2.2.1',\n",
        "        'experiment_args': {'module_placement': ['layer1.1.bn1', 'layer2.1.conv2'], 'mask_out_ratio': 0.25},\n",
        "        'dataset_args': {'text_root': 'data', 'images_root': 'data/kfold/PACS', 'source_domain': 'art_painting', 'target_domain': 'cartoon' },\n",
        "        'batch_size': 128,\n",
        "        'epochs': 30,\n",
        "        'num_workers': 5,\n",
        "        'grad_accum_steps': 1\n",
        "    },\n",
        "    \"2.2.2.2\" : { # Art Painting -> Sketch\n",
        "        'seed': 0,\n",
        "        'test_only': False,\n",
        "        'cpu': False,\n",
        "        'experiment': 'random',\n",
        "        'experiment_name': '2.2.2.2',\n",
        "        'experiment_args': {'module_placement': ['layer1.1.bn1', 'layer2.1.conv2'], 'mask_out_ratio': 0.25},\n",
        "        'dataset_args': {'text_root': 'data', 'images_root': 'data/kfold/PACS', 'source_domain': 'art_painting', 'target_domain': 'sketch' },\n",
        "        'batch_size': 128,\n",
        "        'epochs': 30,\n",
        "        'num_workers': 5,\n",
        "        'grad_accum_steps': 1\n",
        "    },\n",
        "    \"2.2.2.3\" : { # Art Painting -> Photo\n",
        "        'seed': 0,\n",
        "        'test_only': False,\n",
        "        'cpu': False,\n",
        "        'experiment': 'random',\n",
        "        'experiment_name': '2.2.2.3',\n",
        "        'experiment_args': {'module_placement': ['layer1.1.bn1', 'layer2.1.conv2'], 'mask_out_ratio': 0.25},\n",
        "        'dataset_args': {'text_root': 'data', 'images_root': 'data/kfold/PACS', 'source_domain': 'art_painting', 'target_domain': 'photo' },\n",
        "        'batch_size': 128,\n",
        "        'epochs': 30,\n",
        "        'num_workers': 5,\n",
        "        'grad_accum_steps': 1\n",
        "    },\n",
        "    ### 2.2.3 - ASH MODULE AFTER layer1.1.conv1 ###\n",
        "    \"2.2.3.1\" : { # Art Painting -> Cartoon\n",
        "        'seed': 0,\n",
        "        'test_only': False,\n",
        "        'cpu': False,\n",
        "        'experiment': 'random',\n",
        "        'experiment_name': '2.2.3.1',\n",
        "        'experiment_args': {'module_placement': ['layer1.1.conv1'], 'mask_out_ratio': 0.25},\n",
        "        'dataset_args': {'text_root': 'data', 'images_root': 'data/kfold/PACS', 'source_domain': 'art_painting', 'target_domain': 'cartoon' },\n",
        "        'batch_size': 128,\n",
        "        'epochs': 30,\n",
        "        'num_workers': 5,\n",
        "        'grad_accum_steps': 1\n",
        "    },\n",
        "    \"2.2.3.2\" : { # Art Painting -> Sketch\n",
        "        'seed': 0,\n",
        "        'test_only': False,\n",
        "        'cpu': False,\n",
        "        'experiment': 'random',\n",
        "        'experiment_name': '2.2.3.2',\n",
        "        'experiment_args': {'module_placement': ['layer1.1.conv1'], 'mask_out_ratio': 0.25},\n",
        "        'dataset_args': {'text_root': 'data', 'images_root': 'data/kfold/PACS', 'source_domain': 'art_painting', 'target_domain': 'sketch' },\n",
        "        'batch_size': 128,\n",
        "        'epochs': 30,\n",
        "        'num_workers': 5,\n",
        "        'grad_accum_steps': 1\n",
        "    },\n",
        "    \"2.2.3.3\" : { # Art Painting -> Photo\n",
        "        'seed': 0,\n",
        "        'test_only': False,\n",
        "        'cpu': False,\n",
        "        'experiment': 'random',\n",
        "        'experiment_name': '2.2.3.3',\n",
        "        'experiment_args': {'module_placement': ['layer1.1.conv1'], 'mask_out_ratio': 0.25},\n",
        "        'dataset_args': {'text_root': 'data', 'images_root': 'data/kfold/PACS', 'source_domain': 'art_painting', 'target_domain': 'photo' },\n",
        "        'batch_size': 128,\n",
        "        'epochs': 30,\n",
        "        'num_workers': 5,\n",
        "        'grad_accum_steps': 1\n",
        "    },\n",
        "    ### 2.2.4 - ASH MODULE AFTER layer1.1.bn2 ###\n",
        "    \"2.2.4.1\" : { # Art Painting -> Cartoon\n",
        "        'seed': 0,\n",
        "        'test_only': False,\n",
        "        'cpu': False,\n",
        "        'experiment': 'random',\n",
        "        'experiment_name': '2.1.4.1',\n",
        "        'experiment_args': {'module_placement': ['layer1.1.bn2'], 'mask_out_ratio': 0.25},\n",
        "        'dataset_args': {'text_root': 'data', 'images_root': 'data/kfold/PACS', 'source_domain': 'art_painting', 'target_domain': 'cartoon' },\n",
        "        'batch_size': 128,\n",
        "        'epochs': 30,\n",
        "        'num_workers': 5,\n",
        "        'grad_accum_steps': 1\n",
        "    },\n",
        "    \"2.2.4.2\" : { # Art Painting -> Sketch\n",
        "        'seed': 0,\n",
        "        'test_only': False,\n",
        "        'cpu': False,\n",
        "        'experiment': 'random',\n",
        "        'experiment_name': '2.2.4.2',\n",
        "        'experiment_args': {'module_placement': ['layer1.1.bn2'], 'mask_out_ratio': 0.25},\n",
        "        'dataset_args': {'text_root': 'data', 'images_root': 'data/kfold/PACS', 'source_domain': 'art_painting', 'target_domain': 'sketch' },\n",
        "        'batch_size': 128,\n",
        "        'epochs': 30,\n",
        "        'num_workers': 5,\n",
        "        'grad_accum_steps': 1\n",
        "    },\n",
        "    \"2.2.4.3\" : { # Art Painting -> Photo\n",
        "        'seed': 0,\n",
        "        'test_only': False,\n",
        "        'cpu': False,\n",
        "        'experiment': 'random',\n",
        "        'experiment_name': '2.2.4.3',\n",
        "        'experiment_args': {'module_placement': ['layer1.1.bn2'], 'mask_out_ratio': 0.25},\n",
        "        'dataset_args': {'text_root': 'data', 'images_root': 'data/kfold/PACS', 'source_domain': 'art_painting', 'target_domain': 'photo' },\n",
        "        'batch_size': 128,\n",
        "        'epochs': 30,\n",
        "        'num_workers': 5,\n",
        "        'grad_accum_steps': 1\n",
        "    },\n",
        "    ### 2.2.5 - ASH MODULE AFTER layer1.1.bn2 AND layer2.1.bn2 ###\n",
        "    \"2.2.5.1\" : { # Art Painting -> Cartoon\n",
        "        'seed': 0,\n",
        "        'test_only': False,\n",
        "        'cpu': False,\n",
        "        'experiment': 'random',\n",
        "        'experiment_name': '2.2.5.1',\n",
        "        'experiment_args': {'module_placement': ['layer1.1.bn2', 'layer2.1.bn2'], 'mask_out_ratio': 0.25},\n",
        "        'dataset_args': {'text_root': 'data', 'images_root': 'data/kfold/PACS', 'source_domain': 'art_painting', 'target_domain': 'cartoon' },\n",
        "        'batch_size': 128,\n",
        "        'epochs': 30,\n",
        "        'num_workers': 5,\n",
        "        'grad_accum_steps': 1\n",
        "    },\n",
        "    \"2.2.5.2\" : { # Art Painting -> Sketch\n",
        "        'seed': 0,\n",
        "        'test_only': False,\n",
        "        'cpu': False,\n",
        "        'experiment': 'random',\n",
        "        'experiment_name': '2.2.5.2',\n",
        "        'experiment_args': {'module_placement': ['layer1.1.bn2', 'layer2.1.bn2'], 'mask_out_ratio': 0.25},\n",
        "        'dataset_args': {'text_root': 'data', 'images_root': 'data/kfold/PACS', 'source_domain': 'art_painting', 'target_domain': 'sketch' },\n",
        "        'batch_size': 128,\n",
        "        'epochs': 30,\n",
        "        'num_workers': 5,\n",
        "        'grad_accum_steps': 1\n",
        "    },\n",
        "    \"2.2.5.3\" : { # Art Painting -> Photo\n",
        "        'seed': 0,\n",
        "        'test_only': False,\n",
        "        'cpu': False,\n",
        "        'experiment': 'random',\n",
        "        'experiment_name': '2.2.5.3',\n",
        "        'experiment_args': {'module_placement': ['layer1.1.bn2', 'layer2.1.bn2'], 'mask_out_ratio': 0.25},\n",
        "        'dataset_args': {'text_root': 'data', 'images_root': 'data/kfold/PACS', 'source_domain': 'art_painting', 'target_domain': 'photo' },\n",
        "        'batch_size': 128,\n",
        "        'epochs': 30,\n",
        "        'num_workers': 5,\n",
        "        'grad_accum_steps': 1\n",
        "    },\n",
        "\n",
        "    #### 2.3 - MASK OUT RATIO = 0.50 ####\n",
        "    ### 2.3.1 - ASH MODULE AFTER layer2.1.conv2 ###\n",
        "    \"2.3.1.1\" : { # Art Painting -> Cartoon\n",
        "        'seed': 0,\n",
        "        'test_only': False,\n",
        "        'cpu': False,\n",
        "        'experiment': 'random',\n",
        "        'experiment_name': '2.3.1.1',\n",
        "        'experiment_args': {'module_placement': ['layer2.1.conv2'], 'mask_out_ratio': 0.50},\n",
        "        'dataset_args': {'text_root': 'data', 'images_root': 'data/kfold/PACS', 'source_domain': 'art_painting', 'target_domain': 'cartoon' },\n",
        "        'batch_size': 128,\n",
        "        'epochs': 30,\n",
        "        'num_workers': 5,\n",
        "        'grad_accum_steps': 1\n",
        "    },\n",
        "    \"2.3.1.2\" : { # Art Painting -> Sketch\n",
        "        'seed': 0,\n",
        "        'test_only': False,\n",
        "        'cpu': False,\n",
        "        'experiment': 'random',\n",
        "        'experiment_name': '2.3.1.2',\n",
        "        'experiment_args': {'module_placement': ['layer2.1.conv2'], 'mask_out_ratio': 0.50},\n",
        "        'dataset_args': {'text_root': 'data', 'images_root': 'data/kfold/PACS', 'source_domain': 'art_painting', 'target_domain': 'sketch' },\n",
        "        'batch_size': 128,\n",
        "        'epochs': 30,\n",
        "        'num_workers': 5,\n",
        "        'grad_accum_steps': 1\n",
        "    },\n",
        "    \"2.3.1.3\" : { # Art Painting -> Photo\n",
        "        'seed': 0,\n",
        "        'test_only': False,\n",
        "        'cpu': False,\n",
        "        'experiment': 'random',\n",
        "        'experiment_name': '2.3.1.3',\n",
        "        'experiment_args': {'module_placement': ['layer2.1.conv2'], 'mask_out_ratio': 0.50},\n",
        "        'dataset_args': {'text_root': 'data', 'images_root': 'data/kfold/PACS', 'source_domain': 'art_painting', 'target_domain': 'photo' },\n",
        "        'batch_size': 128,\n",
        "        'epochs': 30,\n",
        "        'num_workers': 5,\n",
        "        'grad_accum_steps': 1\n",
        "    },\n",
        "    ### 2.3.2 - ASH MODULE AFTER layer1.1.bn1 AND layer2.1.conv2 ###\n",
        "    \"2.3.2.1\" : { # Art Painting -> Cartoon\n",
        "        'seed': 0,\n",
        "        'test_only': False,\n",
        "        'cpu': False,\n",
        "        'experiment': 'random',\n",
        "        'experiment_name': '2.3.2.1',\n",
        "        'experiment_args': {'module_placement': ['layer1.1.bn1', 'layer2.1.conv2'], 'mask_out_ratio': 0.50},\n",
        "        'dataset_args': {'text_root': 'data', 'images_root': 'data/kfold/PACS', 'source_domain': 'art_painting', 'target_domain': 'cartoon' },\n",
        "        'batch_size': 128,\n",
        "        'epochs': 30,\n",
        "        'num_workers': 5,\n",
        "        'grad_accum_steps': 1\n",
        "    },\n",
        "    \"2.3.2.2\" : { # Art Painting -> Sketch\n",
        "        'seed': 0,\n",
        "        'test_only': False,\n",
        "        'cpu': False,\n",
        "        'experiment': 'random',\n",
        "        'experiment_name': '2.3.2.2',\n",
        "        'experiment_args': {'module_placement': ['layer1.1.bn1', 'layer2.1.conv2'], 'mask_out_ratio': 0.50},\n",
        "        'dataset_args': {'text_root': 'data', 'images_root': 'data/kfold/PACS', 'source_domain': 'art_painting', 'target_domain': 'sketch' },\n",
        "        'batch_size': 128,\n",
        "        'epochs': 30,\n",
        "        'num_workers': 5,\n",
        "        'grad_accum_steps': 1\n",
        "    },\n",
        "    \"2.3.2.3\" : { # Art Painting -> Photo\n",
        "        'seed': 0,\n",
        "        'test_only': False,\n",
        "        'cpu': False,\n",
        "        'experiment': 'random',\n",
        "        'experiment_name': '2.3.2.3',\n",
        "        'experiment_args': {'module_placement': ['layer1.1.bn1', 'layer2.1.conv2'], 'mask_out_ratio': 0.50},\n",
        "        'dataset_args': {'text_root': 'data', 'images_root': 'data/kfold/PACS', 'source_domain': 'art_painting', 'target_domain': 'photo' },\n",
        "        'batch_size': 128,\n",
        "        'epochs': 30,\n",
        "        'num_workers': 5,\n",
        "        'grad_accum_steps': 1\n",
        "    },\n",
        "    ### 2.3.3 - ASH MODULE AFTER layer1.1.conv1 ###\n",
        "    \"2.3.3.1\" : { # Art Painting -> Cartoon\n",
        "        'seed': 0,\n",
        "        'test_only': False,\n",
        "        'cpu': False,\n",
        "        'experiment': 'random',\n",
        "        'experiment_name': '2.3.3.1',\n",
        "        'experiment_args': {'module_placement': ['layer1.1.conv1'], 'mask_out_ratio': 0.50},\n",
        "        'dataset_args': {'text_root': 'data', 'images_root': 'data/kfold/PACS', 'source_domain': 'art_painting', 'target_domain': 'cartoon' },\n",
        "        'batch_size': 128,\n",
        "        'epochs': 30,\n",
        "        'num_workers': 5,\n",
        "        'grad_accum_steps': 1\n",
        "    },\n",
        "    \"2.3.3.2\" : { # Art Painting -> Sketch\n",
        "        'seed': 0,\n",
        "        'test_only': False,\n",
        "        'cpu': False,\n",
        "        'experiment': 'random',\n",
        "        'experiment_name': '2.3.3.2',\n",
        "        'experiment_args': {'module_placement': ['layer1.1.conv1'], 'mask_out_ratio': 0.50},\n",
        "        'dataset_args': {'text_root': 'data', 'images_root': 'data/kfold/PACS', 'source_domain': 'art_painting', 'target_domain': 'sketch' },\n",
        "        'batch_size': 128,\n",
        "        'epochs': 30,\n",
        "        'num_workers': 5,\n",
        "        'grad_accum_steps': 1\n",
        "    },\n",
        "    \"2.3.3.3\" : { # Art Painting -> Photo\n",
        "        'seed': 0,\n",
        "        'test_only': False,\n",
        "        'cpu': False,\n",
        "        'experiment': 'random',\n",
        "        'experiment_name': '2.3.3.3',\n",
        "        'experiment_args': {'module_placement': ['layer1.1.conv1'], 'mask_out_ratio': 0.50},\n",
        "        'dataset_args': {'text_root': 'data', 'images_root': 'data/kfold/PACS', 'source_domain': 'art_painting', 'target_domain': 'photo' },\n",
        "        'batch_size': 128,\n",
        "        'epochs': 30,\n",
        "        'num_workers': 5,\n",
        "        'grad_accum_steps': 1\n",
        "    },\n",
        "    ### 2.3.4 - ASH MODULE AFTER layer1.1.bn2 ###\n",
        "    \"2.3.4.1\" : { # Art Painting -> Cartoon\n",
        "        'seed': 0,\n",
        "        'test_only': False,\n",
        "        'cpu': False,\n",
        "        'experiment': 'random',\n",
        "        'experiment_name': '2.3.4.1',\n",
        "        'experiment_args': {'module_placement': ['layer1.1.bn2'], 'mask_out_ratio': 0.50},\n",
        "        'dataset_args': {'text_root': 'data', 'images_root': 'data/kfold/PACS', 'source_domain': 'art_painting', 'target_domain': 'cartoon' },\n",
        "        'batch_size': 128,\n",
        "        'epochs': 30,\n",
        "        'num_workers': 5,\n",
        "        'grad_accum_steps': 1\n",
        "    },\n",
        "    \"2.3.4.2\" : { # Art Painting -> Sketch\n",
        "        'seed': 0,\n",
        "        'test_only': False,\n",
        "        'cpu': False,\n",
        "        'experiment': 'random',\n",
        "        'experiment_name': '2.3.4.2',\n",
        "        'experiment_args': {'module_placement': ['layer1.1.bn2'], 'mask_out_ratio': 0.50},\n",
        "        'dataset_args': {'text_root': 'data', 'images_root': 'data/kfold/PACS', 'source_domain': 'art_painting', 'target_domain': 'sketch' },\n",
        "        'batch_size': 128,\n",
        "        'epochs': 30,\n",
        "        'num_workers': 5,\n",
        "        'grad_accum_steps': 1\n",
        "    },\n",
        "    \"2.3.4.3\" : { # Art Painting -> Photo\n",
        "        'seed': 0,\n",
        "        'test_only': False,\n",
        "        'cpu': False,\n",
        "        'experiment': 'random',\n",
        "        'experiment_name': '2.3.4.3',\n",
        "        'experiment_args': {'module_placement': ['layer1.1.bn2'], 'mask_out_ratio': 0.50},\n",
        "        'dataset_args': {'text_root': 'data', 'images_root': 'data/kfold/PACS', 'source_domain': 'art_painting', 'target_domain': 'photo' },\n",
        "        'batch_size': 128,\n",
        "        'epochs': 30,\n",
        "        'num_workers': 5,\n",
        "        'grad_accum_steps': 1\n",
        "    },\n",
        "    ### 2.3.5 - ASH MODULE AFTER layer1.1.bn2 AND layer2.1.bn2 ###\n",
        "    \"2.3.5.1\" : { # Art Painting -> Cartoon\n",
        "        'seed': 0,\n",
        "        'test_only': False,\n",
        "        'cpu': False,\n",
        "        'experiment': 'random',\n",
        "        'experiment_name': '2.3.5.1',\n",
        "        'experiment_args': {'module_placement': ['layer1.1.bn2', 'layer2.1.bn2'], 'mask_out_ratio': 0.50},\n",
        "        'dataset_args': {'text_root': 'data', 'images_root': 'data/kfold/PACS', 'source_domain': 'art_painting', 'target_domain': 'cartoon' },\n",
        "        'batch_size': 128,\n",
        "        'epochs': 30,\n",
        "        'num_workers': 5,\n",
        "        'grad_accum_steps': 1\n",
        "    },\n",
        "    \"2.3.5.2\" : { # Art Painting -> Sketch\n",
        "        'seed': 0,\n",
        "        'test_only': False,\n",
        "        'cpu': False,\n",
        "        'experiment': 'random',\n",
        "        'experiment_name': '2.3.5.2',\n",
        "        'experiment_args': {'module_placement': ['layer1.1.bn2', 'layer2.1.bn2'], 'mask_out_ratio': 0.50},\n",
        "        'dataset_args': {'text_root': 'data', 'images_root': 'data/kfold/PACS', 'source_domain': 'art_painting', 'target_domain': 'sketch' },\n",
        "        'batch_size': 128,\n",
        "        'epochs': 30,\n",
        "        'num_workers': 5,\n",
        "        'grad_accum_steps': 1\n",
        "    },\n",
        "    \"2.3.5.3\" : { # Art Painting -> Photo\n",
        "        'seed': 0,\n",
        "        'test_only': False,\n",
        "        'cpu': False,\n",
        "        'experiment': 'random',\n",
        "        'experiment_name': '2.3.5.3',\n",
        "        'experiment_args': {'module_placement': ['layer1.1.bn2', 'layer2.1.bn2'], 'mask_out_ratio': 0.50},\n",
        "        'dataset_args': {'text_root': 'data', 'images_root': 'data/kfold/PACS', 'source_domain': 'art_painting', 'target_domain': 'photo' },\n",
        "        'batch_size': 128,\n",
        "        'epochs': 30,\n",
        "        'num_workers': 5,\n",
        "        'grad_accum_steps': 1\n",
        "    },\n",
        "\n",
        "    #### 2.4 - MASK OUT RATIO = 0.75 ####\n",
        "    ### 2.4.1 - ASH MODULE AFTER layer2.1.conv2 ###\n",
        "    \"2.4.1.1\" : { # Art Painting -> Cartoon\n",
        "        'seed': 0,\n",
        "        'test_only': False,\n",
        "        'cpu': False,\n",
        "        'experiment': 'random',\n",
        "        'experiment_name': '2.4.1.1',\n",
        "        'experiment_args': {'module_placement': ['layer2.1.conv2'], 'mask_out_ratio': 0.75},\n",
        "        'dataset_args': {'text_root': 'data', 'images_root': 'data/kfold/PACS', 'source_domain': 'art_painting', 'target_domain': 'cartoon' },\n",
        "        'batch_size': 128,\n",
        "        'epochs': 30,\n",
        "        'num_workers': 5,\n",
        "        'grad_accum_steps': 1\n",
        "    },\n",
        "    \"2.4.1.2\" : { # Art Painting -> Sketch\n",
        "        'seed': 0,\n",
        "        'test_only': False,\n",
        "        'cpu': False,\n",
        "        'experiment': 'random',\n",
        "        'experiment_name': '2.4.1.2',\n",
        "        'experiment_args': {'module_placement': ['layer2.1.conv2'], 'mask_out_ratio': 0.75},\n",
        "        'dataset_args': {'text_root': 'data', 'images_root': 'data/kfold/PACS', 'source_domain': 'art_painting', 'target_domain': 'sketch' },\n",
        "        'batch_size': 128,\n",
        "        'epochs': 30,\n",
        "        'num_workers': 5,\n",
        "        'grad_accum_steps': 1\n",
        "    },\n",
        "    \"2.4.1.3\" : { # Art Painting -> Photo\n",
        "        'seed': 0,\n",
        "        'test_only': False,\n",
        "        'cpu': False,\n",
        "        'experiment': 'random',\n",
        "        'experiment_name': '2.4.1.3',\n",
        "        'experiment_args': {'module_placement': ['layer2.1.conv2'], 'mask_out_ratio': 0.75},\n",
        "        'dataset_args': {'text_root': 'data', 'images_root': 'data/kfold/PACS', 'source_domain': 'art_painting', 'target_domain': 'photo' },\n",
        "        'batch_size': 128,\n",
        "        'epochs': 30,\n",
        "        'num_workers': 5,\n",
        "        'grad_accum_steps': 1\n",
        "    },\n",
        "    ### 2.4.2 - ASH MODULE AFTER layer1.1.bn1 AND layer2.1.conv2 ###\n",
        "    \"2.4.2.1\" : { # Art Painting -> Cartoon\n",
        "        'seed': 0,\n",
        "        'test_only': False,\n",
        "        'cpu': False,\n",
        "        'experiment': 'random',\n",
        "        'experiment_name': '2.4.2.1',\n",
        "        'experiment_args': {'module_placement': ['layer1.1.bn1', 'layer2.1.conv2'], 'mask_out_ratio': 0.75},\n",
        "        'dataset_args': {'text_root': 'data', 'images_root': 'data/kfold/PACS', 'source_domain': 'art_painting', 'target_domain': 'cartoon' },\n",
        "        'batch_size': 128,\n",
        "        'epochs': 30,\n",
        "        'num_workers': 5,\n",
        "        'grad_accum_steps': 1\n",
        "    },\n",
        "    \"2.4.2.2\" : { # Art Painting -> Sketch\n",
        "        'seed': 0,\n",
        "        'test_only': False,\n",
        "        'cpu': False,\n",
        "        'experiment': 'random',\n",
        "        'experiment_name': '2.4.2.2',\n",
        "        'experiment_args': {'module_placement': ['layer1.1.bn1', 'layer2.1.conv2'], 'mask_out_ratio': 0.75},\n",
        "        'dataset_args': {'text_root': 'data', 'images_root': 'data/kfold/PACS', 'source_domain': 'art_painting', 'target_domain': 'sketch' },\n",
        "        'batch_size': 128,\n",
        "        'epochs': 30,\n",
        "        'num_workers': 5,\n",
        "        'grad_accum_steps': 1\n",
        "    },\n",
        "    \"2.4.2.3\" : { # Art Painting -> Photo\n",
        "        'seed': 0,\n",
        "        'test_only': False,\n",
        "        'cpu': False,\n",
        "        'experiment': 'random',\n",
        "        'experiment_name': '2.4.2.3',\n",
        "        'experiment_args': {'module_placement': ['layer1.1.bn1', 'layer2.1.conv2'], 'mask_out_ratio': 0.75},\n",
        "        'dataset_args': {'text_root': 'data', 'images_root': 'data/kfold/PACS', 'source_domain': 'art_painting', 'target_domain': 'photo' },\n",
        "        'batch_size': 128,\n",
        "        'epochs': 30,\n",
        "        'num_workers': 5,\n",
        "        'grad_accum_steps': 1\n",
        "    },\n",
        "    ### 2.4.3 - ASH MODULE AFTER layer1.1.conv1 ###\n",
        "    \"2.4.3.1\" : { # Art Painting -> Cartoon\n",
        "        'seed': 0,\n",
        "        'test_only': False,\n",
        "        'cpu': False,\n",
        "        'experiment': 'random',\n",
        "        'experiment_name': '2.4.3.1',\n",
        "        'experiment_args': {'module_placement': ['layer1.1.conv1'], 'mask_out_ratio': 0.75},\n",
        "        'dataset_args': {'text_root': 'data', 'images_root': 'data/kfold/PACS', 'source_domain': 'art_painting', 'target_domain': 'cartoon' },\n",
        "        'batch_size': 128,\n",
        "        'epochs': 30,\n",
        "        'num_workers': 5,\n",
        "        'grad_accum_steps': 1\n",
        "    },\n",
        "    \"2.4.3.2\" : { # Art Painting -> Sketch\n",
        "        'seed': 0,\n",
        "        'test_only': False,\n",
        "        'cpu': False,\n",
        "        'experiment': 'random',\n",
        "        'experiment_name': '2.4.3.2',\n",
        "        'experiment_args': {'module_placement': ['layer1.1.conv1'], 'mask_out_ratio': 0.75},\n",
        "        'dataset_args': {'text_root': 'data', 'images_root': 'data/kfold/PACS', 'source_domain': 'art_painting', 'target_domain': 'sketch' },\n",
        "        'batch_size': 128,\n",
        "        'epochs': 30,\n",
        "        'num_workers': 5,\n",
        "        'grad_accum_steps': 1\n",
        "    },\n",
        "    \"2.4.3.3\" : { # Art Painting -> Photo\n",
        "        'seed': 0,\n",
        "        'test_only': False,\n",
        "        'cpu': False,\n",
        "        'experiment': 'random',\n",
        "        'experiment_name': '2.4.3.3',\n",
        "        'experiment_args': {'module_placement': ['layer1.1.conv1'], 'mask_out_ratio': 0.75},\n",
        "        'dataset_args': {'text_root': 'data', 'images_root': 'data/kfold/PACS', 'source_domain': 'art_painting', 'target_domain': 'photo' },\n",
        "        'batch_size': 128,\n",
        "        'epochs': 30,\n",
        "        'num_workers': 5,\n",
        "        'grad_accum_steps': 1\n",
        "    },\n",
        "    ### 2.4.4 - ASH MODULE AFTER layer1.1.bn2 ###\n",
        "    \"2.4.4.1\" : { # Art Painting -> Cartoon\n",
        "        'seed': 0,\n",
        "        'test_only': False,\n",
        "        'cpu': False,\n",
        "        'experiment': 'random',\n",
        "        'experiment_name': '2.4.4.1',\n",
        "        'experiment_args': {'module_placement': ['layer1.1.bn2'], 'mask_out_ratio': 0.75},\n",
        "        'dataset_args': {'text_root': 'data', 'images_root': 'data/kfold/PACS', 'source_domain': 'art_painting', 'target_domain': 'cartoon' },\n",
        "        'batch_size': 128,\n",
        "        'epochs': 30,\n",
        "        'num_workers': 5,\n",
        "        'grad_accum_steps': 1\n",
        "    },\n",
        "    \"2.4.4.2\" : { # Art Painting -> Sketch\n",
        "        'seed': 0,\n",
        "        'test_only': False,\n",
        "        'cpu': False,\n",
        "        'experiment': 'random',\n",
        "        'experiment_name': '2.4.4.2',\n",
        "        'experiment_args': {'module_placement': ['layer1.1.bn2'], 'mask_out_ratio': 0.75},\n",
        "        'dataset_args': {'text_root': 'data', 'images_root': 'data/kfold/PACS', 'source_domain': 'art_painting', 'target_domain': 'sketch' },\n",
        "        'batch_size': 128,\n",
        "        'epochs': 30,\n",
        "        'num_workers': 5,\n",
        "        'grad_accum_steps': 1\n",
        "    },\n",
        "    \"2.4.4.3\" : { # Art Painting -> Photo\n",
        "        'seed': 0,\n",
        "        'test_only': False,\n",
        "        'cpu': False,\n",
        "        'experiment': 'random',\n",
        "        'experiment_name': '2.1.4.3',\n",
        "        'experiment_args': {'module_placement': ['layer1.1.bn2'], 'mask_out_ratio': 0.75},\n",
        "        'dataset_args': {'text_root': 'data', 'images_root': 'data/kfold/PACS', 'source_domain': 'art_painting', 'target_domain': 'photo' },\n",
        "        'batch_size': 128,\n",
        "        'epochs': 30,\n",
        "        'num_workers': 5,\n",
        "        'grad_accum_steps': 1\n",
        "    },\n",
        "    ### 2.4.5 - ASH MODULE AFTER layer1.1.bn2 AND layer2.1.bn2 ###\n",
        "    \"2.4.5.1\" : { # Art Painting -> Cartoon\n",
        "        'seed': 0,\n",
        "        'test_only': False,\n",
        "        'cpu': False,\n",
        "        'experiment': 'random',\n",
        "        'experiment_name': '2.4.5.1',\n",
        "        'experiment_args': {'module_placement': ['layer1.1.bn2', 'layer2.1.bn2'], 'mask_out_ratio': 0.75},\n",
        "        'dataset_args': {'text_root': 'data', 'images_root': 'data/kfold/PACS', 'source_domain': 'art_painting', 'target_domain': 'cartoon' },\n",
        "        'batch_size': 128,\n",
        "        'epochs': 30,\n",
        "        'num_workers': 5,\n",
        "        'grad_accum_steps': 1\n",
        "    },\n",
        "    \"2.4.5.2\" : { # Art Painting -> Sketch\n",
        "        'seed': 0,\n",
        "        'test_only': False,\n",
        "        'cpu': False,\n",
        "        'experiment': 'random',\n",
        "        'experiment_name': '2.4.5.2',\n",
        "        'experiment_args': {'module_placement': ['layer1.1.bn2', 'layer2.1.bn2'], 'mask_out_ratio': 0.75},\n",
        "        'dataset_args': {'text_root': 'data', 'images_root': 'data/kfold/PACS', 'source_domain': 'art_painting', 'target_domain': 'sketch' },\n",
        "        'batch_size': 128,\n",
        "        'epochs': 30,\n",
        "        'num_workers': 5,\n",
        "        'grad_accum_steps': 1\n",
        "    },\n",
        "    \"2.4.5.3\" : { # Art Painting -> Photo\n",
        "        'seed': 0,\n",
        "        'test_only': False,\n",
        "        'cpu': False,\n",
        "        'experiment': 'random',\n",
        "        'experiment_name': '2.4.5.3',\n",
        "        'experiment_args': {'module_placement': ['layer1.1.bn2', 'layer2.1.bn2'], 'mask_out_ratio': 0.75},\n",
        "        'dataset_args': {'text_root': 'data', 'images_root': 'data/kfold/PACS', 'source_domain': 'art_painting', 'target_domain': 'photo' },\n",
        "        'batch_size': 128,\n",
        "        'epochs': 30,\n",
        "        'num_workers': 5,\n",
        "        'grad_accum_steps': 1\n",
        "    },\n",
        "\n",
        "    #### 2.5 - MASK OUT RATIO = 1.00 ####\n",
        "    ### 2.5.1 - ASH MODULE AFTER layer2.1.conv2 ###\n",
        "    \"2.5.1.1\" : { # Art Painting -> Cartoon\n",
        "        'seed': 0,\n",
        "        'test_only': False,\n",
        "        'cpu': False,\n",
        "        'experiment': 'random',\n",
        "        'experiment_name': '2.5.1.1',\n",
        "        'experiment_args': {'module_placement': ['layer2.1.conv2'], 'mask_out_ratio': 1.00},\n",
        "        'dataset_args': {'text_root': 'data', 'images_root': 'data/kfold/PACS', 'source_domain': 'art_painting', 'target_domain': 'cartoon' },\n",
        "        'batch_size': 128,\n",
        "        'epochs': 30,\n",
        "        'num_workers': 5,\n",
        "        'grad_accum_steps': 1\n",
        "    },\n",
        "    \"2.5.1.2\" : { # Art Painting -> Sketch\n",
        "        'seed': 0,\n",
        "        'test_only': False,\n",
        "        'cpu': False,\n",
        "        'experiment': 'random',\n",
        "        'experiment_name': '2.5.1.2',\n",
        "        'experiment_args': {'module_placement': ['layer2.1.conv2'], 'mask_out_ratio': 1.00},\n",
        "        'dataset_args': {'text_root': 'data', 'images_root': 'data/kfold/PACS', 'source_domain': 'art_painting', 'target_domain': 'sketch' },\n",
        "        'batch_size': 128,\n",
        "        'epochs': 30,\n",
        "        'num_workers': 5,\n",
        "        'grad_accum_steps': 1\n",
        "    },\n",
        "    \"2.5.1.3\" : { # Art Painting -> Photo\n",
        "        'seed': 0,\n",
        "        'test_only': False,\n",
        "        'cpu': False,\n",
        "        'experiment': 'random',\n",
        "        'experiment_name': '2.5.1.3',\n",
        "        'experiment_args': {'module_placement': ['layer2.1.conv2'], 'mask_out_ratio': 1.00},\n",
        "        'dataset_args': {'text_root': 'data', 'images_root': 'data/kfold/PACS', 'source_domain': 'art_painting', 'target_domain': 'photo' },\n",
        "        'batch_size': 128,\n",
        "        'epochs': 30,\n",
        "        'num_workers': 5,\n",
        "        'grad_accum_steps': 1\n",
        "    },\n",
        "    ### 2.5.2 - ASH MODULE AFTER layer1.1.bn1 AND layer2.1.conv2 ###\n",
        "    \"2.5.2.1\" : { # Art Painting -> Cartoon\n",
        "        'seed': 0,\n",
        "        'test_only': False,\n",
        "        'cpu': False,\n",
        "        'experiment': 'random',\n",
        "        'experiment_name': '2.5.2.1',\n",
        "        'experiment_args': {'module_placement': ['layer1.1.bn1', 'layer2.1.conv2'], 'mask_out_ratio': 1.00},\n",
        "        'dataset_args': {'text_root': 'data', 'images_root': 'data/kfold/PACS', 'source_domain': 'art_painting', 'target_domain': 'cartoon' },\n",
        "        'batch_size': 128,\n",
        "        'epochs': 30,\n",
        "        'num_workers': 5,\n",
        "        'grad_accum_steps': 1\n",
        "    },\n",
        "    \"2.5.2.2\" : { # Art Painting -> Sketch\n",
        "        'seed': 0,\n",
        "        'test_only': False,\n",
        "        'cpu': False,\n",
        "        'experiment': 'random',\n",
        "        'experiment_name': '2.5.2.2',\n",
        "        'experiment_args': {'module_placement': ['layer1.1.bn1', 'layer2.1.conv2'], 'mask_out_ratio': 1.00},\n",
        "        'dataset_args': {'text_root': 'data', 'images_root': 'data/kfold/PACS', 'source_domain': 'art_painting', 'target_domain': 'sketch' },\n",
        "        'batch_size': 128,\n",
        "        'epochs': 30,\n",
        "        'num_workers': 5,\n",
        "        'grad_accum_steps': 1\n",
        "    },\n",
        "    \"2.5.2.3\" : { # Art Painting -> Photo\n",
        "        'seed': 0,\n",
        "        'test_only': False,\n",
        "        'cpu': False,\n",
        "        'experiment': 'random',\n",
        "        'experiment_name': '2.5.2.3',\n",
        "        'experiment_args': {'module_placement': ['layer1.1.bn1', 'layer2.1.conv2'], 'mask_out_ratio': 1.00},\n",
        "        'dataset_args': {'text_root': 'data', 'images_root': 'data/kfold/PACS', 'source_domain': 'art_painting', 'target_domain': 'photo' },\n",
        "        'batch_size': 128,\n",
        "        'epochs': 30,\n",
        "        'num_workers': 5,\n",
        "        'grad_accum_steps': 1\n",
        "    },\n",
        "    ### 2.5.3 - ASH MODULE AFTER layer1.1.conv1 ###\n",
        "    \"2.5.3.1\" : { # Art Painting -> Cartoon\n",
        "        'seed': 0,\n",
        "        'test_only': False,\n",
        "        'cpu': False,\n",
        "        'experiment': 'random',\n",
        "        'experiment_name': '2.5.3.1',\n",
        "        'experiment_args': {'module_placement': ['layer1.1.conv1'], 'mask_out_ratio': 1.00},\n",
        "        'dataset_args': {'text_root': 'data', 'images_root': 'data/kfold/PACS', 'source_domain': 'art_painting', 'target_domain': 'cartoon' },\n",
        "        'batch_size': 128,\n",
        "        'epochs': 30,\n",
        "        'num_workers': 5,\n",
        "        'grad_accum_steps': 1\n",
        "    },\n",
        "    \"2.5.3.2\" : { # Art Painting -> Sketch\n",
        "        'seed': 0,\n",
        "        'test_only': False,\n",
        "        'cpu': False,\n",
        "        'experiment': 'random',\n",
        "        'experiment_name': '2.5.3.2',\n",
        "        'experiment_args': {'module_placement': ['layer1.1.conv1'], 'mask_out_ratio': 1.00},\n",
        "        'dataset_args': {'text_root': 'data', 'images_root': 'data/kfold/PACS', 'source_domain': 'art_painting', 'target_domain': 'sketch' },\n",
        "        'batch_size': 128,\n",
        "        'epochs': 30,\n",
        "        'num_workers': 5,\n",
        "        'grad_accum_steps': 1\n",
        "    },\n",
        "    \"2.5.3.3\" : { # Art Painting -> Photo\n",
        "        'seed': 0,\n",
        "        'test_only': False,\n",
        "        'cpu': False,\n",
        "        'experiment': 'random',\n",
        "        'experiment_name': '2.5.3.3',\n",
        "        'experiment_args': {'module_placement': ['layer1.1.conv1'], 'mask_out_ratio': 1.00},\n",
        "        'dataset_args': {'text_root': 'data', 'images_root': 'data/kfold/PACS', 'source_domain': 'art_painting', 'target_domain': 'photo' },\n",
        "        'batch_size': 128,\n",
        "        'epochs': 30,\n",
        "        'num_workers': 5,\n",
        "        'grad_accum_steps': 1\n",
        "    },\n",
        "    ### 2.5.4 - ASH MODULE AFTER layer1.1.bn2 ###\n",
        "    \"2.5.4.1\" : { # Art Painting -> Cartoon\n",
        "        'seed': 0,\n",
        "        'test_only': False,\n",
        "        'cpu': False,\n",
        "        'experiment': 'random',\n",
        "        'experiment_name': '2.5.4.1',\n",
        "        'experiment_args': {'module_placement': ['layer1.1.bn2'], 'mask_out_ratio': 1.00},\n",
        "        'dataset_args': {'text_root': 'data', 'images_root': 'data/kfold/PACS', 'source_domain': 'art_painting', 'target_domain': 'cartoon' },\n",
        "        'batch_size': 128,\n",
        "        'epochs': 30,\n",
        "        'num_workers': 5,\n",
        "        'grad_accum_steps': 1\n",
        "    },\n",
        "    \"2.5.4.2\" : { # Art Painting -> Sketch\n",
        "        'seed': 0,\n",
        "        'test_only': False,\n",
        "        'cpu': False,\n",
        "        'experiment': 'random',\n",
        "        'experiment_name': '2.5.4.2',\n",
        "        'experiment_args': {'module_placement': ['layer1.1.bn2'], 'mask_out_ratio': 1.00},\n",
        "        'dataset_args': {'text_root': 'data', 'images_root': 'data/kfold/PACS', 'source_domain': 'art_painting', 'target_domain': 'sketch' },\n",
        "        'batch_size': 128,\n",
        "        'epochs': 30,\n",
        "        'num_workers': 5,\n",
        "        'grad_accum_steps': 1\n",
        "    },\n",
        "    \"2.5.4.3\" : { # Art Painting -> Photo\n",
        "        'seed': 0,\n",
        "        'test_only': False,\n",
        "        'cpu': False,\n",
        "        'experiment': 'random',\n",
        "        'experiment_name': '2.5.4.3',\n",
        "        'experiment_args': {'module_placement': ['layer1.1.bn2'], 'mask_out_ratio': 1.00},\n",
        "        'dataset_args': {'text_root': 'data', 'images_root': 'data/kfold/PACS', 'source_domain': 'art_painting', 'target_domain': 'photo' },\n",
        "        'batch_size': 128,\n",
        "        'epochs': 30,\n",
        "        'num_workers': 5,\n",
        "        'grad_accum_steps': 1\n",
        "    },\n",
        "    ### 2.5.5 - ASH MODULE AFTER layer1.1.bn2 AND layer2.1.bn2 ###\n",
        "    \"2.5.5.1\" : { # Art Painting -> Cartoon\n",
        "        'seed': 0,\n",
        "        'test_only': False,\n",
        "        'cpu': False,\n",
        "        'experiment': 'random',\n",
        "        'experiment_name': '2.5.5.1',\n",
        "        'experiment_args': {'module_placement': ['layer1.1.bn2', 'layer2.1.bn2'], 'mask_out_ratio': 1.00},\n",
        "        'dataset_args': {'text_root': 'data', 'images_root': 'data/kfold/PACS', 'source_domain': 'art_painting', 'target_domain': 'cartoon' },\n",
        "        'batch_size': 128,\n",
        "        'epochs': 30,\n",
        "        'num_workers': 5,\n",
        "        'grad_accum_steps': 1\n",
        "    },\n",
        "    \"2.5.5.2\" : { # Art Painting -> Sketch\n",
        "        'seed': 0,\n",
        "        'test_only': False,\n",
        "        'cpu': False,\n",
        "        'experiment': 'random',\n",
        "        'experiment_name': '2.5.5.2',\n",
        "        'experiment_args': {'module_placement': ['layer1.1.bn2', 'layer2.1.bn2'], 'mask_out_ratio': 1.00},\n",
        "        'dataset_args': {'text_root': 'data', 'images_root': 'data/kfold/PACS', 'source_domain': 'art_painting', 'target_domain': 'sketch' },\n",
        "        'batch_size': 128,\n",
        "        'epochs': 30,\n",
        "        'num_workers': 5,\n",
        "        'grad_accum_steps': 1\n",
        "    },\n",
        "    \"2.5.5.3\" : { # Art Painting -> Photo\n",
        "        'seed': 0,\n",
        "        'test_only': False,\n",
        "        'cpu': False,\n",
        "        'experiment': 'random',\n",
        "        'experiment_name': '2.5.5.3',\n",
        "        'experiment_args': {'module_placement': ['layer1.1.bn2', 'layer2.1.bn2'], 'mask_out_ratio': 1.00},\n",
        "        'dataset_args': {'text_root': 'data', 'images_root': 'data/kfold/PACS', 'source_domain': 'art_painting', 'target_domain': 'photo' },\n",
        "        'batch_size': 128,\n",
        "        'epochs': 30,\n",
        "        'num_workers': 5,\n",
        "        'grad_accum_steps': 1\n",
        "    },\n",
        "\n",
        "    ##### 3 - ADAPTING ACTIVATION MAPS ACROSS DOMAINS #####\n",
        "    #### 3.1 - ASH MODULE AFTER layer2.1.conv2 ####\n",
        "    \"3.1.1\" : { # Art Painting -> Cartoon\n",
        "        'seed': 0,\n",
        "        'test_only': False,\n",
        "        'cpu': False,\n",
        "        'experiment': 'domain_adaptation',\n",
        "        'experiment_name': '3.1.1',\n",
        "        'experiment_args': {'module_placement': ['layer2.1.conv2']},\n",
        "        'dataset_args': {'text_root': 'data', 'images_root': 'data/kfold/PACS', 'source_domain': 'art_painting', 'target_domain': 'cartoon' },\n",
        "        'batch_size': 128,\n",
        "        'epochs': 30,\n",
        "        'num_workers': 5,\n",
        "        'grad_accum_steps': 1\n",
        "    },\n",
        "    \"3.1.2\" : { # Art Painting -> Sketch\n",
        "        'seed': 0,\n",
        "        'test_only': False,\n",
        "        'cpu': False,\n",
        "        'experiment': 'domain_adaptation',\n",
        "        'experiment_name': '3.1.2',\n",
        "        'experiment_args': {'module_placement': ['layer2.1.conv2']},\n",
        "        'dataset_args': {'text_root': 'data', 'images_root': 'data/kfold/PACS', 'source_domain': 'art_painting', 'target_domain': 'sketch' },\n",
        "        'batch_size': 128,\n",
        "        'epochs': 30,\n",
        "        'num_workers': 5,\n",
        "        'grad_accum_steps': 1\n",
        "    },\n",
        "    \"3.1.3\" : { # Art Painting -> Photo\n",
        "        'seed': 0,\n",
        "        'test_only': False,\n",
        "        'cpu': False,\n",
        "        'experiment': 'domain_adaptation',\n",
        "        'experiment_name': '3.1.3',\n",
        "        'experiment_args': {'module_placement': ['layer2.1.conv2']},\n",
        "        'dataset_args': {'text_root': 'data', 'images_root': 'data/kfold/PACS', 'source_domain': 'art_painting', 'target_domain': 'photo' },\n",
        "        'batch_size': 128,\n",
        "        'epochs': 30,\n",
        "        'num_workers': 5,\n",
        "        'grad_accum_steps': 1\n",
        "    },\n",
        "    #### 3.2 - ASH MODULE AFTER layer1.1.bn2 ####\n",
        "    \"3.2.1\" : { # Art Painting -> Cartoon\n",
        "        'seed': 0,\n",
        "        'test_only': False,\n",
        "        'cpu': False,\n",
        "        'experiment': 'domain_adaptation',\n",
        "        'experiment_name': '3.2.1',\n",
        "        'experiment_args': {'module_placement': ['layer1.1.bn2']},\n",
        "        'dataset_args': {'text_root': 'data', 'images_root': 'data/kfold/PACS', 'source_domain': 'art_painting', 'target_domain': 'cartoon' },\n",
        "        'batch_size': 128,\n",
        "        'epochs': 30,\n",
        "        'num_workers': 5,\n",
        "        'grad_accum_steps': 1\n",
        "    },\n",
        "    \"3.2.2\" : { # Art Painting -> Sketch\n",
        "        'seed': 0,\n",
        "        'test_only': False,\n",
        "        'cpu': False,\n",
        "        'experiment': 'domain_adaptation',\n",
        "        'experiment_name': '3.2.2',\n",
        "        'experiment_args': {'module_placement': ['layer1.1.bn2']},\n",
        "        'dataset_args': {'text_root': 'data', 'images_root': 'data/kfold/PACS', 'source_domain': 'art_painting', 'target_domain': 'sketch' },\n",
        "        'batch_size': 128,\n",
        "        'epochs': 30,\n",
        "        'num_workers': 5,\n",
        "        'grad_accum_steps': 1\n",
        "    },\n",
        "    \"3.2.3\" : { # Art Painting -> Photo\n",
        "        'seed': 0,\n",
        "        'test_only': False,\n",
        "        'cpu': False,\n",
        "        'experiment': 'domain_adaptation',\n",
        "        'experiment_name': '3.2.3',\n",
        "        'experiment_args': {'module_placement': ['layer1.1.bn2']},\n",
        "        'dataset_args': {'text_root': 'data', 'images_root': 'data/kfold/PACS', 'source_domain': 'art_painting', 'target_domain': 'photo' },\n",
        "        'batch_size': 128,\n",
        "        'epochs': 30,\n",
        "        'num_workers': 5,\n",
        "        'grad_accum_steps': 1\n",
        "    },\n",
        "\n",
        "    ##### 4 - BINARIZATION ABLATION #####\n",
        "    #### 4.1 - REPRODUCTION OF SECTION 2 ####\n",
        "    ### 4.1.1 - MASK OUT RATIO = 0.00 ###\n",
        "    ## 4.1.1.1 - ASH MODULE AFTER layer2.1.conv2 ##\n",
        "    \"4.1.1.1.1\" : { # Art Painting -> Cartoon\n",
        "        'seed': 0,\n",
        "        'test_only': False,\n",
        "        'cpu': False,\n",
        "        'experiment': 'random',\n",
        "        'experiment_name': '4.1.1.1.1',\n",
        "        'experiment_args': {'module_placement': ['layer2.1.conv2'], 'mask_out_ratio': 0.00, 'extension': 'no_binarization'},\n",
        "        'dataset_args': {'text_root': 'data', 'images_root': 'data/kfold/PACS', 'source_domain': 'art_painting', 'target_domain': 'cartoon' },\n",
        "        'batch_size': 128,\n",
        "        'epochs': 30,\n",
        "        'num_workers': 5,\n",
        "        'grad_accum_steps': 1\n",
        "    },\n",
        "    \"4.1.1.1.2\" : { # Art Painting -> Sketch\n",
        "        'seed': 0,\n",
        "        'test_only': False,\n",
        "        'cpu': False,\n",
        "        'experiment': 'random',\n",
        "        'experiment_name': '4.1.1.1.2',\n",
        "        'experiment_args': {'module_placement': ['layer2.1.conv2'], 'mask_out_ratio': 0.00, 'extension': 'no_binarization'},\n",
        "        'dataset_args': {'text_root': 'data', 'images_root': 'data/kfold/PACS', 'source_domain': 'art_painting', 'target_domain': 'sketch' },\n",
        "        'batch_size': 128,\n",
        "        'epochs': 30,\n",
        "        'num_workers': 5,\n",
        "        'grad_accum_steps': 1\n",
        "    },\n",
        "    \"4.1.1.1.3\" : { # Art Painting -> Photo\n",
        "        'seed': 0,\n",
        "        'test_only': False,\n",
        "        'cpu': False,\n",
        "        'experiment': 'random',\n",
        "        'experiment_name': '4.1.1.1.3',\n",
        "        'experiment_args': {'module_placement': ['layer2.1.conv2'], 'mask_out_ratio': 0.00, 'extension': 'no_binarization'},\n",
        "        'dataset_args': {'text_root': 'data', 'images_root': 'data/kfold/PACS', 'source_domain': 'art_painting', 'target_domain': 'photo' },\n",
        "        'batch_size': 128,\n",
        "        'epochs': 30,\n",
        "        'num_workers': 5,\n",
        "        'grad_accum_steps': 1\n",
        "    },\n",
        "    ## 4.1.1.2 - ASH MODULE AFTER layer1.1.bn2 ##\n",
        "    \"4.1.1.2.1\" : { # Art Painting -> Cartoon\n",
        "        'seed': 0,\n",
        "        'test_only': False,\n",
        "        'cpu': False,\n",
        "        'experiment': 'random',\n",
        "        'experiment_name': '4.1.1.2.1',\n",
        "        'experiment_args': {'module_placement': ['layer1.1.bn2'], 'mask_out_ratio': 0.00, 'extension': 'no_binarization'},\n",
        "        'dataset_args': {'text_root': 'data', 'images_root': 'data/kfold/PACS', 'source_domain': 'art_painting', 'target_domain': 'cartoon' },\n",
        "        'batch_size': 128,\n",
        "        'epochs': 30,\n",
        "        'num_workers': 5,\n",
        "        'grad_accum_steps': 1\n",
        "    },\n",
        "    \"4.1.1.2.2\" : { # Art Painting -> Sketch\n",
        "        'seed': 0,\n",
        "        'test_only': False,\n",
        "        'cpu': False,\n",
        "        'experiment': 'random',\n",
        "        'experiment_name': '4.1.1.2.2',\n",
        "        'experiment_args': {'module_placement': ['layer1.1.bn2'], 'mask_out_ratio': 0.00, 'extension': 'no_binarization'},\n",
        "        'dataset_args': {'text_root': 'data', 'images_root': 'data/kfold/PACS', 'source_domain': 'art_painting', 'target_domain': 'sketch' },\n",
        "        'batch_size': 128,\n",
        "        'epochs': 30,\n",
        "        'num_workers': 5,\n",
        "        'grad_accum_steps': 1\n",
        "    },\n",
        "    \"4.1.1.2.3\" : { # Art Painting -> Photo\n",
        "        'seed': 0,\n",
        "        'test_only': False,\n",
        "        'cpu': False,\n",
        "        'experiment': 'random',\n",
        "        'experiment_name': '4.1.1.2.3',\n",
        "        'experiment_args': {'module_placement': ['layer1.1.bn2'], 'mask_out_ratio': 0.00, 'extension': 'no_binarization'},\n",
        "        'dataset_args': {'text_root': 'data', 'images_root': 'data/kfold/PACS', 'source_domain': 'art_painting', 'target_domain': 'photo' },\n",
        "        'batch_size': 128,\n",
        "        'epochs': 30,\n",
        "        'num_workers': 5,\n",
        "        'grad_accum_steps': 1\n",
        "    },\n",
        "    ### 4.1.2 - MASK OUT RATIO = 0.25 ###\n",
        "    ## 4.1.2.1 - ASH MODULE AFTER layer2.1.conv2 ##\n",
        "    \"4.1.2.1.1\" : { # Art Painting -> Cartoon\n",
        "        'seed': 0,\n",
        "        'test_only': False,\n",
        "        'cpu': False,\n",
        "        'experiment': 'random',\n",
        "        'experiment_name': '4.1.2.1.1',\n",
        "        'experiment_args': {'module_placement': ['layer2.1.conv2'], 'mask_out_ratio': 0.25, 'extension': 'no_binarization'},\n",
        "        'dataset_args': {'text_root': 'data', 'images_root': 'data/kfold/PACS', 'source_domain': 'art_painting', 'target_domain': 'cartoon' },\n",
        "        'batch_size': 128,\n",
        "        'epochs': 30,\n",
        "        'num_workers': 5,\n",
        "        'grad_accum_steps': 1\n",
        "    },\n",
        "    \"4.1.2.1.2\" : { # Art Painting -> Sketch\n",
        "        'seed': 0,\n",
        "        'test_only': False,\n",
        "        'cpu': False,\n",
        "        'experiment': 'random',\n",
        "        'experiment_name': '4.1.2.1.2',\n",
        "        'experiment_args': {'module_placement': ['layer2.1.conv2'], 'mask_out_ratio': 0.25, 'extension': 'no_binarization'},\n",
        "        'dataset_args': {'text_root': 'data', 'images_root': 'data/kfold/PACS', 'source_domain': 'art_painting', 'target_domain': 'sketch' },\n",
        "        'batch_size': 128,\n",
        "        'epochs': 30,\n",
        "        'num_workers': 5,\n",
        "        'grad_accum_steps': 1\n",
        "    },\n",
        "    \"4.1.2.1.3\" : { # Art Painting -> Photo\n",
        "        'seed': 0,\n",
        "        'test_only': False,\n",
        "        'cpu': False,\n",
        "        'experiment': 'random',\n",
        "        'experiment_name': '4.1.2.1.3',\n",
        "        'experiment_args': {'module_placement': ['layer2.1.conv2'], 'mask_out_ratio': 0.25, 'extension': 'no_binarization'},\n",
        "        'dataset_args': {'text_root': 'data', 'images_root': 'data/kfold/PACS', 'source_domain': 'art_painting', 'target_domain': 'photo' },\n",
        "        'batch_size': 128,\n",
        "        'epochs': 30,\n",
        "        'num_workers': 5,\n",
        "        'grad_accum_steps': 1\n",
        "    },\n",
        "    ## 4.1.2.2 - ASH MODULE AFTER layer1.1.bn2 ##\n",
        "    \"4.1.2.2.1\" : { # Art Painting -> Cartoon\n",
        "        'seed': 0,\n",
        "        'test_only': False,\n",
        "        'cpu': False,\n",
        "        'experiment': 'random',\n",
        "        'experiment_name': '4.1.2.2.1',\n",
        "        'experiment_args': {'module_placement': ['layer1.1.bn2'], 'mask_out_ratio': 0.25, 'extension': 'no_binarization'},\n",
        "        'dataset_args': {'text_root': 'data', 'images_root': 'data/kfold/PACS', 'source_domain': 'art_painting', 'target_domain': 'cartoon' },\n",
        "        'batch_size': 128,\n",
        "        'epochs': 30,\n",
        "        'num_workers': 5,\n",
        "        'grad_accum_steps': 1\n",
        "    },\n",
        "    \"4.1.2.2.2\" : { # Art Painting -> Sketch\n",
        "        'seed': 0,\n",
        "        'test_only': False,\n",
        "        'cpu': False,\n",
        "        'experiment': 'random',\n",
        "        'experiment_name': '4.1.2.2.2',\n",
        "        'experiment_args': {'module_placement': ['layer1.1.bn2'], 'mask_out_ratio': 0.25, 'extension': 'no_binarization'},\n",
        "        'dataset_args': {'text_root': 'data', 'images_root': 'data/kfold/PACS', 'source_domain': 'art_painting', 'target_domain': 'sketch' },\n",
        "        'batch_size': 128,\n",
        "        'epochs': 30,\n",
        "        'num_workers': 5,\n",
        "        'grad_accum_steps': 1\n",
        "    },\n",
        "    \"4.1.2.2.3\" : { # Art Painting -> Photo\n",
        "        'seed': 0,\n",
        "        'test_only': False,\n",
        "        'cpu': False,\n",
        "        'experiment': 'random',\n",
        "        'experiment_name': '4.1.2.2.3',\n",
        "        'experiment_args': {'module_placement': ['layer1.1.bn2'], 'mask_out_ratio': 0.25, 'extension': 'no_binarization'},\n",
        "        'dataset_args': {'text_root': 'data', 'images_root': 'data/kfold/PACS', 'source_domain': 'art_painting', 'target_domain': 'photo' },\n",
        "        'batch_size': 128,\n",
        "        'epochs': 30,\n",
        "        'num_workers': 5,\n",
        "        'grad_accum_steps': 1\n",
        "    },\n",
        "    ### 4.1.3 - MASK OUT RATIO = 0.50 ###\n",
        "    ## 4.1.3.1 - ASH MODULE AFTER layer2.1.conv2 ##\n",
        "    \"4.1.3.1.1\" : { # Art Painting -> Cartoon\n",
        "        'seed': 0,\n",
        "        'test_only': False,\n",
        "        'cpu': False,\n",
        "        'experiment': 'random',\n",
        "        'experiment_name': '4.1.3.1.1',\n",
        "        'experiment_args': {'module_placement': ['layer2.1.conv2'], 'mask_out_ratio': 0.50, 'extension': 'no_binarization'},\n",
        "        'dataset_args': {'text_root': 'data', 'images_root': 'data/kfold/PACS', 'source_domain': 'art_painting', 'target_domain': 'cartoon' },\n",
        "        'batch_size': 128,\n",
        "        'epochs': 30,\n",
        "        'num_workers': 5,\n",
        "        'grad_accum_steps': 1\n",
        "    },\n",
        "    \"4.1.3.1.2\" : { # Art Painting -> Sketch\n",
        "        'seed': 0,\n",
        "        'test_only': False,\n",
        "        'cpu': False,\n",
        "        'experiment': 'random',\n",
        "        'experiment_name': '4.1.3.1.2',\n",
        "        'experiment_args': {'module_placement': ['layer2.1.conv2'], 'mask_out_ratio': 0.50, 'extension': 'no_binarization'},\n",
        "        'dataset_args': {'text_root': 'data', 'images_root': 'data/kfold/PACS', 'source_domain': 'art_painting', 'target_domain': 'sketch' },\n",
        "        'batch_size': 128,\n",
        "        'epochs': 30,\n",
        "        'num_workers': 5,\n",
        "        'grad_accum_steps': 1\n",
        "    },\n",
        "    \"4.1.3.1.3\" : { # Art Painting -> Photo\n",
        "        'seed': 0,\n",
        "        'test_only': False,\n",
        "        'cpu': False,\n",
        "        'experiment': 'random',\n",
        "        'experiment_name': '4.1.3.1.3',\n",
        "        'experiment_args': {'module_placement': ['layer2.1.conv2'], 'mask_out_ratio': 0.50, 'extension': 'no_binarization'},\n",
        "        'dataset_args': {'text_root': 'data', 'images_root': 'data/kfold/PACS', 'source_domain': 'art_painting', 'target_domain': 'photo' },\n",
        "        'batch_size': 128,\n",
        "        'epochs': 30,\n",
        "        'num_workers': 5,\n",
        "        'grad_accum_steps': 1\n",
        "    },\n",
        "    ## 4.1.3.2 - ASH MODULE AFTER layer1.1.bn2 ##\n",
        "    \"4.1.3.2.1\" : { # Art Painting -> Cartoon\n",
        "        'seed': 0,\n",
        "        'test_only': False,\n",
        "        'cpu': False,\n",
        "        'experiment': 'random',\n",
        "        'experiment_name': '4.1.3.2.1',\n",
        "        'experiment_args': {'module_placement': ['layer1.1.bn2'], 'mask_out_ratio': 0.50, 'extension': 'no_binarization'},\n",
        "        'dataset_args': {'text_root': 'data', 'images_root': 'data/kfold/PACS', 'source_domain': 'art_painting', 'target_domain': 'cartoon' },\n",
        "        'batch_size': 128,\n",
        "        'epochs': 30,\n",
        "        'num_workers': 5,\n",
        "        'grad_accum_steps': 1\n",
        "    },\n",
        "    \"4.1.3.2.2\" : { # Art Painting -> Sketch\n",
        "        'seed': 0,\n",
        "        'test_only': False,\n",
        "        'cpu': False,\n",
        "        'experiment': 'random',\n",
        "        'experiment_name': '4.1.3.2.2',\n",
        "        'experiment_args': {'module_placement': ['layer1.1.bn2'], 'mask_out_ratio': 0.50, 'extension': 'no_binarization'},\n",
        "        'dataset_args': {'text_root': 'data', 'images_root': 'data/kfold/PACS', 'source_domain': 'art_painting', 'target_domain': 'sketch' },\n",
        "        'batch_size': 128,\n",
        "        'epochs': 30,\n",
        "        'num_workers': 5,\n",
        "        'grad_accum_steps': 1\n",
        "    },\n",
        "    \"4.1.3.2.3\" : { # Art Painting -> Photo\n",
        "        'seed': 0,\n",
        "        'test_only': False,\n",
        "        'cpu': False,\n",
        "        'experiment': 'random',\n",
        "        'experiment_name': '4.1.3.2.3',\n",
        "        'experiment_args': {'module_placement': ['layer1.1.bn2'], 'mask_out_ratio': 0.50, 'extension': 'no_binarization'},\n",
        "        'dataset_args': {'text_root': 'data', 'images_root': 'data/kfold/PACS', 'source_domain': 'art_painting', 'target_domain': 'photo' },\n",
        "        'batch_size': 128,\n",
        "        'epochs': 30,\n",
        "        'num_workers': 5,\n",
        "        'grad_accum_steps': 1\n",
        "    },\n",
        "    ### 4.1.4 - MASK OUT RATIO = 0.75 ###\n",
        "    ## 4.1.4.1 - ASH MODULE AFTER layer2.1.conv2 ##\n",
        "    \"4.1.4.1.1\" : { # Art Painting -> Cartoon\n",
        "        'seed': 0,\n",
        "        'test_only': False,\n",
        "        'cpu': False,\n",
        "        'experiment': 'random',\n",
        "        'experiment_name': '4.1.4.1.1',\n",
        "        'experiment_args': {'module_placement': ['layer2.1.conv2'], 'mask_out_ratio': 0.75, 'extension': 'no_binarization'},\n",
        "        'dataset_args': {'text_root': 'data', 'images_root': 'data/kfold/PACS', 'source_domain': 'art_painting', 'target_domain': 'cartoon' },\n",
        "        'batch_size': 128,\n",
        "        'epochs': 30,\n",
        "        'num_workers': 5,\n",
        "        'grad_accum_steps': 1\n",
        "    },\n",
        "    \"4.1.4.1.2\" : { # Art Painting -> Sketch\n",
        "        'seed': 0,\n",
        "        'test_only': False,\n",
        "        'cpu': False,\n",
        "        'experiment': 'random',\n",
        "        'experiment_name': '4.1.4.1.2',\n",
        "        'experiment_args': {'module_placement': ['layer2.1.conv2'], 'mask_out_ratio': 0.75, 'extension': 'no_binarization'},\n",
        "        'dataset_args': {'text_root': 'data', 'images_root': 'data/kfold/PACS', 'source_domain': 'art_painting', 'target_domain': 'sketch' },\n",
        "        'batch_size': 128,\n",
        "        'epochs': 30,\n",
        "        'num_workers': 5,\n",
        "        'grad_accum_steps': 1\n",
        "    },\n",
        "    \"4.1.4.1.3\" : { # Art Painting -> Photo\n",
        "        'seed': 0,\n",
        "        'test_only': False,\n",
        "        'cpu': False,\n",
        "        'experiment': 'random',\n",
        "        'experiment_name': '4.1.4.1.3',\n",
        "        'experiment_args': {'module_placement': ['layer2.1.conv2'], 'mask_out_ratio': 0.75, 'extension': 'no_binarization'},\n",
        "        'dataset_args': {'text_root': 'data', 'images_root': 'data/kfold/PACS', 'source_domain': 'art_painting', 'target_domain': 'photo' },\n",
        "        'batch_size': 128,\n",
        "        'epochs': 30,\n",
        "        'num_workers': 5,\n",
        "        'grad_accum_steps': 1\n",
        "    },\n",
        "    ## 4.1.4.2 - ASH MODULE AFTER layer1.1.bn2 ##\n",
        "    \"4.1.4.2.1\" : { # Art Painting -> Cartoon\n",
        "        'seed': 0,\n",
        "        'test_only': False,\n",
        "        'cpu': False,\n",
        "        'experiment': 'random',\n",
        "        'experiment_name': '4.1.4.2.1',\n",
        "        'experiment_args': {'module_placement': ['layer1.1.bn2'], 'mask_out_ratio': 0.75, 'extension': 'no_binarization'},\n",
        "        'dataset_args': {'text_root': 'data', 'images_root': 'data/kfold/PACS', 'source_domain': 'art_painting', 'target_domain': 'cartoon' },\n",
        "        'batch_size': 128,\n",
        "        'epochs': 30,\n",
        "        'num_workers': 5,\n",
        "        'grad_accum_steps': 1\n",
        "    },\n",
        "    \"4.1.4.2.2\" : { # Art Painting -> Sketch\n",
        "        'seed': 0,\n",
        "        'test_only': False,\n",
        "        'cpu': False,\n",
        "        'experiment': 'random',\n",
        "        'experiment_name': '4.1.4.2.2',\n",
        "        'experiment_args': {'module_placement': ['layer1.1.bn2'], 'mask_out_ratio': 0.75, 'extension': 'no_binarization'},\n",
        "        'dataset_args': {'text_root': 'data', 'images_root': 'data/kfold/PACS', 'source_domain': 'art_painting', 'target_domain': 'sketch' },\n",
        "        'batch_size': 128,\n",
        "        'epochs': 30,\n",
        "        'num_workers': 5,\n",
        "        'grad_accum_steps': 1\n",
        "    },\n",
        "    \"4.1.4.2.3\" : { # Art Painting -> Photo\n",
        "        'seed': 0,\n",
        "        'test_only': False,\n",
        "        'cpu': False,\n",
        "        'experiment': 'random',\n",
        "        'experiment_name': '4.1.4.2.3',\n",
        "        'experiment_args': {'module_placement': ['layer1.1.bn2'], 'mask_out_ratio': 0.75, 'extension': 'no_binarization'},\n",
        "        'dataset_args': {'text_root': 'data', 'images_root': 'data/kfold/PACS', 'source_domain': 'art_painting', 'target_domain': 'photo' },\n",
        "        'batch_size': 128,\n",
        "        'epochs': 30,\n",
        "        'num_workers': 5,\n",
        "        'grad_accum_steps': 1\n",
        "    },\n",
        "    ### 4.1.5 - MASK OUT RATIO = 1.00 ###\n",
        "    ## 4.1.5.1 - ASH MODULE AFTER layer2.1.conv2 ##\n",
        "    \"4.1.5.1.1\" : { # Art Painting -> Cartoon\n",
        "        'seed': 0,\n",
        "        'test_only': False,\n",
        "        'cpu': False,\n",
        "        'experiment': 'random',\n",
        "        'experiment_name': '4.1.5.1.1',\n",
        "        'experiment_args': {'module_placement': ['layer2.1.conv2'], 'mask_out_ratio': 1.00, 'extension': 'no_binarization'},\n",
        "        'dataset_args': {'text_root': 'data', 'images_root': 'data/kfold/PACS', 'source_domain': 'art_painting', 'target_domain': 'cartoon' },\n",
        "        'batch_size': 128,\n",
        "        'epochs': 30,\n",
        "        'num_workers': 5,\n",
        "        'grad_accum_steps': 1\n",
        "    },\n",
        "    \"4.1.5.1.2\" : { # Art Painting -> Sketch\n",
        "        'seed': 0,\n",
        "        'test_only': False,\n",
        "        'cpu': False,\n",
        "        'experiment': 'random',\n",
        "        'experiment_name': '4.1.5.1.2',\n",
        "        'experiment_args': {'module_placement': ['layer2.1.conv2'], 'mask_out_ratio': 1.00, 'extension': 'no_binarization'},\n",
        "        'dataset_args': {'text_root': 'data', 'images_root': 'data/kfold/PACS', 'source_domain': 'art_painting', 'target_domain': 'sketch' },\n",
        "        'batch_size': 128,\n",
        "        'epochs': 30,\n",
        "        'num_workers': 5,\n",
        "        'grad_accum_steps': 1\n",
        "    },\n",
        "    \"4.1.5.1.3\" : { # Art Painting -> Photo\n",
        "        'seed': 0,\n",
        "        'test_only': False,\n",
        "        'cpu': False,\n",
        "        'experiment': 'random',\n",
        "        'experiment_name': '4.1.5.1.3',\n",
        "        'experiment_args': {'module_placement': ['layer2.1.conv2'], 'mask_out_ratio': 1.00, 'extension': 'no_binarization'},\n",
        "        'dataset_args': {'text_root': 'data', 'images_root': 'data/kfold/PACS', 'source_domain': 'art_painting', 'target_domain': 'photo' },\n",
        "        'batch_size': 128,\n",
        "        'epochs': 30,\n",
        "        'num_workers': 5,\n",
        "        'grad_accum_steps': 1\n",
        "    },\n",
        "    ## 4.1.5.2 - ASH MODULE AFTER layer1.1.bn2 ##\n",
        "    \"4.1.5.2.1\" : { # Art Painting -> Cartoon\n",
        "        'seed': 0,\n",
        "        'test_only': False,\n",
        "        'cpu': False,\n",
        "        'experiment': 'random',\n",
        "        'experiment_name': '4.1.5.2.1',\n",
        "        'experiment_args': {'module_placement': ['layer1.1.bn2'], 'mask_out_ratio': 1.00, 'extension': 'no_binarization'},\n",
        "        'dataset_args': {'text_root': 'data', 'images_root': 'data/kfold/PACS', 'source_domain': 'art_painting', 'target_domain': 'cartoon' },\n",
        "        'batch_size': 128,\n",
        "        'epochs': 30,\n",
        "        'num_workers': 5,\n",
        "        'grad_accum_steps': 1\n",
        "    },\n",
        "    \"4.1.5.2.2\" : { # Art Painting -> Sketch\n",
        "        'seed': 0,\n",
        "        'test_only': False,\n",
        "        'cpu': False,\n",
        "        'experiment': 'random',\n",
        "        'experiment_name': '4.1.5.2.2',\n",
        "        'experiment_args': {'module_placement': ['layer1.1.bn2'], 'mask_out_ratio': 1.00, 'extension': 'no_binarization'},\n",
        "        'dataset_args': {'text_root': 'data', 'images_root': 'data/kfold/PACS', 'source_domain': 'art_painting', 'target_domain': 'sketch' },\n",
        "        'batch_size': 128,\n",
        "        'epochs': 30,\n",
        "        'num_workers': 5,\n",
        "        'grad_accum_steps': 1\n",
        "    },\n",
        "    \"4.1.5.2.3\" : { # Art Painting -> Photo\n",
        "        'seed': 0,\n",
        "        'test_only': False,\n",
        "        'cpu': False,\n",
        "        'experiment': 'random',\n",
        "        'experiment_name': '4.1.5.2.3',\n",
        "        'experiment_args': {'module_placement': ['layer1.1.bn2'], 'mask_out_ratio': 1.00, 'extension': 'no_binarization'},\n",
        "        'dataset_args': {'text_root': 'data', 'images_root': 'data/kfold/PACS', 'source_domain': 'art_painting', 'target_domain': 'photo' },\n",
        "        'batch_size': 128,\n",
        "        'epochs': 30,\n",
        "        'num_workers': 5,\n",
        "        'grad_accum_steps': 1\n",
        "    },\n",
        "\n",
        "    #### 4.2 - REPRODUCTION OF POINT 3 ####\n",
        "    ### 4.2.1 - ASH MODULE AFTER layer2.1.conv2 ###\n",
        "    \"4.2.1.1\" : { # Art Painting -> Cartoon\n",
        "        'seed': 0,\n",
        "        'test_only': False,\n",
        "        'cpu': False,\n",
        "        'experiment': 'domain_adaptation',\n",
        "        'experiment_name': '4.2.1.1',\n",
        "        'experiment_args': {'module_placement': ['layer2.1.conv2'], 'extension': 'no_binarization'},\n",
        "        'dataset_args': {'text_root': 'data', 'images_root': 'data/kfold/PACS', 'source_domain': 'art_painting', 'target_domain': 'cartoon' },\n",
        "        'batch_size': 128,\n",
        "        'epochs': 30,\n",
        "        'num_workers': 5,\n",
        "        'grad_accum_steps': 1\n",
        "    },\n",
        "    \"4.2.1.2\" : { # Art Painting -> Sketch\n",
        "        'seed': 0,\n",
        "        'test_only': False,\n",
        "        'cpu': False,\n",
        "        'experiment': 'domain_adaptation',\n",
        "        'experiment_name': '4.2.1.2',\n",
        "        'experiment_args': {'module_placement': ['layer2.1.conv2'], 'extension': 'no_binarization'},\n",
        "        'dataset_args': {'text_root': 'data', 'images_root': 'data/kfold/PACS', 'source_domain': 'art_painting', 'target_domain': 'sketch' },\n",
        "        'batch_size': 128,\n",
        "        'epochs': 30,\n",
        "        'num_workers': 5,\n",
        "        'grad_accum_steps': 1\n",
        "    },\n",
        "    \"4.2.1.3\" : { # Art Painting -> Photo\n",
        "        'seed': 0,\n",
        "        'test_only': False,\n",
        "        'cpu': False,\n",
        "        'experiment': 'domain_adaptation',\n",
        "        'experiment_name': '4.2.1.3',\n",
        "        'experiment_args': {'module_placement': ['layer2.1.conv2'], 'extension': 'no_binarization'},\n",
        "        'dataset_args': {'text_root': 'data', 'images_root': 'data/kfold/PACS', 'source_domain': 'art_painting', 'target_domain': 'photo' },\n",
        "        'batch_size': 128,\n",
        "        'epochs': 30,\n",
        "        'num_workers': 5,\n",
        "        'grad_accum_steps': 1\n",
        "    },\n",
        "    ### 4.2.2 - ASH MODULE AFTER layer1.1.bn2 ###\n",
        "    \"4.2.2.1\" : { # Art Painting -> Cartoon\n",
        "        'seed': 0,\n",
        "        'test_only': False,\n",
        "        'cpu': False,\n",
        "        'experiment': 'domain_adaptation',\n",
        "        'experiment_name': '4.2.2.1',\n",
        "        'experiment_args': {'module_placement': ['layer1.1.bn2'], 'extension': 'no_binarization'},\n",
        "        'dataset_args': {'text_root': 'data', 'images_root': 'data/kfold/PACS', 'source_domain': 'art_painting', 'target_domain': 'cartoon' },\n",
        "        'batch_size': 128,\n",
        "        'epochs': 30,\n",
        "        'num_workers': 5,\n",
        "        'grad_accum_steps': 1\n",
        "    },\n",
        "    \"4.2.2.2\" : { # Art Painting -> Sketch\n",
        "        'seed': 0,\n",
        "        'test_only': False,\n",
        "        'cpu': False,\n",
        "        'experiment': 'domain_adaptation',\n",
        "        'experiment_name': '4.2.2.2',\n",
        "        'experiment_args': {'module_placement': ['layer1.1.bn2'], 'extension': 'no_binarization'},\n",
        "        'dataset_args': {'text_root': 'data', 'images_root': 'data/kfold/PACS', 'source_domain': 'art_painting', 'target_domain': 'sketch' },\n",
        "        'batch_size': 128,\n",
        "        'epochs': 30,\n",
        "        'num_workers': 5,\n",
        "        'grad_accum_steps': 1\n",
        "    },\n",
        "    \"4.2.2.3\" : { # Art Painting -> Photo\n",
        "        'seed': 0,\n",
        "        'test_only': False,\n",
        "        'cpu': False,\n",
        "        'experiment': 'domain_adaptation',\n",
        "        'experiment_name': '4.2.2.3',\n",
        "        'experiment_args': {'module_placement': ['layer1.1.bn2'], 'extension': 'no_binarization'},\n",
        "        'dataset_args': {'text_root': 'data', 'images_root': 'data/kfold/PACS', 'source_domain': 'art_painting', 'target_domain': 'photo' },\n",
        "        'batch_size': 128,\n",
        "        'epochs': 30,\n",
        "        'num_workers': 5,\n",
        "        'grad_accum_steps': 1\n",
        "    }\n",
        "}\n"
      ]
    },
    {
      "cell_type": "markdown",
      "metadata": {
        "id": "S7mLTDV2Xxxi"
      },
      "source": [
        "#### Experiment"
      ]
    },
    {
      "cell_type": "code",
      "execution_count": null,
      "metadata": {
        "id": "oBK7__AIXxxi",
        "vscode": {
          "languageId": "python"
        }
      },
      "outputs": [],
      "source": [
        "'''\n",
        "warnings.filterwarnings('ignore', category=UserWarning)\n",
        "\n",
        "# Parse arguments\n",
        "# conf = configurations['0.1']\n",
        "conf = configurations['1.2.1.2']\n",
        "\n",
        "#args = parse_arguments()\n",
        "args = argparse.Namespace(**conf)\n",
        "print(args)\n",
        "CONFIG.update(vars(args))\n",
        "\n",
        "# Setup output directory\n",
        "CONFIG.save_dir = os.path.join('record', CONFIG.experiment_name)\n",
        "os.makedirs(CONFIG.save_dir, exist_ok=True)\n",
        "\n",
        "# Setup logging\n",
        "logging.basicConfig(\n",
        "    filename=os.path.join(CONFIG.save_dir, 'log.txt'),\n",
        "    format='%(message)s',\n",
        "    level=logging.INFO,\n",
        "    filemode='a'\n",
        ")\n",
        "\n",
        "# Set experiment's device & deterministic behavior\n",
        "if CONFIG.cpu:\n",
        "    CONFIG.device = 'cpu'\n",
        "else:\n",
        "    CONFIG.device = 'cuda' if torch.cuda.is_available() else 'cpu'\n",
        "\n",
        "torch.manual_seed(CONFIG.seed)\n",
        "random.seed(CONFIG.seed)\n",
        "np.random.seed(CONFIG.seed)\n",
        "torch.backends.cudnn.benchmark = True\n",
        "torch.use_deterministic_algorithms(mode=True, warn_only=True)\n",
        "\n",
        "main()\n",
        "'''"
      ]
    },
    {
      "cell_type": "markdown",
      "metadata": {
        "id": "jLzHm67AXxxj"
      },
      "source": [
        "## 0 - Baseline"
      ]
    },
    {
      "cell_type": "markdown",
      "metadata": {
        "id": "ldSyHRRSXxxj"
      },
      "source": [
        "##### 0.1 - Cartoon"
      ]
    },
    {
      "cell_type": "code",
      "execution_count": null,
      "metadata": {
        "id": "W4LQ4xJ3Xxxk",
        "vscode": {
          "languageId": "python"
        }
      },
      "outputs": [],
      "source": [
        "warnings.filterwarnings('ignore', category=UserWarning)\n",
        "\n",
        "# Parse arguments\n",
        "conf = configurations['0.1']\n",
        "\n",
        "#args = parse_arguments()\n",
        "args = argparse.Namespace(**conf)\n",
        "print(args)\n",
        "CONFIG.update(vars(args))\n",
        "\n",
        "# Setup output directory\n",
        "CONFIG.save_dir = os.path.join('record', CONFIG.experiment_name)\n",
        "os.makedirs(CONFIG.save_dir, exist_ok=True)\n",
        "\n",
        "# Setup logging\n",
        "logging.basicConfig(\n",
        "    filename=os.path.join(CONFIG.save_dir, 'log.txt'),\n",
        "    format='%(message)s',\n",
        "    level=logging.INFO,\n",
        "    filemode='a'\n",
        ")\n",
        "\n",
        "# Set experiment's device & deterministic behavior\n",
        "if CONFIG.cpu:\n",
        "    CONFIG.device = 'cpu'\n",
        "else:\n",
        "    CONFIG.device = 'cuda' if torch.cuda.is_available() else 'cpu'\n",
        "\n",
        "torch.manual_seed(CONFIG.seed)\n",
        "random.seed(CONFIG.seed)\n",
        "np.random.seed(CONFIG.seed)\n",
        "torch.backends.cudnn.benchmark = True\n",
        "torch.use_deterministic_algorithms(mode=True, warn_only=True)\n",
        "\n",
        "main()"
      ]
    },
    {
      "cell_type": "markdown",
      "metadata": {
        "id": "MpqADRsiXxxl"
      },
      "source": [
        "##### 0.2 - Sketch"
      ]
    },
    {
      "cell_type": "code",
      "execution_count": null,
      "metadata": {
        "id": "5tcc3VSTXxxl",
        "vscode": {
          "languageId": "python"
        }
      },
      "outputs": [],
      "source": [
        "warnings.filterwarnings('ignore', category=UserWarning)\n",
        "\n",
        "# Parse arguments\n",
        "conf = configurations['0.2']\n",
        "\n",
        "#args = parse_arguments()\n",
        "args = argparse.Namespace(**conf)\n",
        "print(args)\n",
        "CONFIG.update(vars(args))\n",
        "\n",
        "# Setup output directory\n",
        "CONFIG.save_dir = os.path.join('record', CONFIG.experiment_name)\n",
        "os.makedirs(CONFIG.save_dir, exist_ok=True)\n",
        "\n",
        "# Setup logging\n",
        "logging.basicConfig(\n",
        "    filename=os.path.join(CONFIG.save_dir, 'log.txt'),\n",
        "    format='%(message)s',\n",
        "    level=logging.INFO,\n",
        "    filemode='a'\n",
        ")\n",
        "\n",
        "# Set experiment's device & deterministic behavior\n",
        "if CONFIG.cpu:\n",
        "    CONFIG.device = 'cpu'\n",
        "else:\n",
        "    CONFIG.device = 'cuda' if torch.cuda.is_available() else 'cpu'\n",
        "\n",
        "torch.manual_seed(CONFIG.seed)\n",
        "random.seed(CONFIG.seed)\n",
        "np.random.seed(CONFIG.seed)\n",
        "torch.backends.cudnn.benchmark = True\n",
        "torch.use_deterministic_algorithms(mode=True, warn_only=True)\n",
        "\n",
        "main()"
      ]
    },
    {
      "cell_type": "markdown",
      "metadata": {
        "id": "-DzEcM1UXxxl"
      },
      "source": [
        "##### 0.3 - Photo"
      ]
    },
    {
      "cell_type": "code",
      "execution_count": null,
      "metadata": {
        "id": "Hdbk09qgXxxm",
        "vscode": {
          "languageId": "python"
        }
      },
      "outputs": [],
      "source": [
        "warnings.filterwarnings('ignore', category=UserWarning)\n",
        "\n",
        "# Parse arguments\n",
        "conf = configurations['0.3']\n",
        "\n",
        "#args = parse_arguments()\n",
        "args = argparse.Namespace(**conf)\n",
        "print(args)\n",
        "CONFIG.update(vars(args))\n",
        "\n",
        "# Setup output directory\n",
        "CONFIG.save_dir = os.path.join('record', CONFIG.experiment_name)\n",
        "os.makedirs(CONFIG.save_dir, exist_ok=True)\n",
        "\n",
        "# Setup logging\n",
        "logging.basicConfig(\n",
        "    filename=os.path.join(CONFIG.save_dir, 'log.txt'),\n",
        "    format='%(message)s',\n",
        "    level=logging.INFO,\n",
        "    filemode='a'\n",
        ")\n",
        "\n",
        "# Set experiment's device & deterministic behavior\n",
        "if CONFIG.cpu:\n",
        "    CONFIG.device = 'cpu'\n",
        "else:\n",
        "    CONFIG.device = 'cuda' if torch.cuda.is_available() else 'cpu'\n",
        "\n",
        "torch.manual_seed(CONFIG.seed)\n",
        "random.seed(CONFIG.seed)\n",
        "np.random.seed(CONFIG.seed)\n",
        "torch.backends.cudnn.benchmark = True\n",
        "torch.use_deterministic_algorithms(mode=True, warn_only=True)\n",
        "\n",
        "main()"
      ]
    },
    {
      "cell_type": "markdown",
      "metadata": {
        "id": "BFaxV5HlXxxm"
      },
      "source": [
        "## 1 - Activation Shaping Module"
      ]
    },
    {
      "cell_type": "markdown",
      "metadata": {
        "id": "TFvmtoiGXxxn"
      },
      "source": [
        "### 1.1 - One ASH module"
      ]
    },
    {
      "cell_type": "markdown",
      "metadata": {
        "id": "DJS21zBmXxxn"
      },
      "source": [
        "#### 1.1.1 - ASH module after layer1.0.conv1"
      ]
    },
    {
      "cell_type": "markdown",
      "metadata": {
        "id": "mmcmDvkIXxxn"
      },
      "source": [
        "##### 1.1.1.1 - Cartoon"
      ]
    },
    {
      "cell_type": "code",
      "execution_count": null,
      "metadata": {
        "id": "IM2I0fK_Xxxn",
        "vscode": {
          "languageId": "python"
        }
      },
      "outputs": [],
      "source": [
        "warnings.filterwarnings('ignore', category=UserWarning)\n",
        "\n",
        "# Parse arguments\n",
        "conf = configurations['1.1.1.1']\n",
        "\n",
        "#args = parse_arguments()\n",
        "args = argparse.Namespace(**conf)\n",
        "print(args)\n",
        "CONFIG.update(vars(args))\n",
        "\n",
        "# Setup output directory\n",
        "CONFIG.save_dir = os.path.join('record', CONFIG.experiment_name)\n",
        "os.makedirs(CONFIG.save_dir, exist_ok=True)\n",
        "\n",
        "# Setup logging\n",
        "logging.basicConfig(\n",
        "    filename=os.path.join(CONFIG.save_dir, 'log.txt'),\n",
        "    format='%(message)s',\n",
        "    level=logging.INFO,\n",
        "    filemode='a'\n",
        ")\n",
        "\n",
        "# Set experiment's device & deterministic behavior\n",
        "if CONFIG.cpu:\n",
        "    CONFIG.device = 'cpu'\n",
        "else:\n",
        "    CONFIG.device = 'cuda' if torch.cuda.is_available() else 'cpu'\n",
        "\n",
        "torch.manual_seed(CONFIG.seed)\n",
        "random.seed(CONFIG.seed)\n",
        "np.random.seed(CONFIG.seed)\n",
        "torch.backends.cudnn.benchmark = True\n",
        "torch.use_deterministic_algorithms(mode=True, warn_only=True)\n",
        "\n",
        "main()"
      ]
    },
    {
      "cell_type": "markdown",
      "metadata": {
        "id": "RA8barKGXxxo"
      },
      "source": [
        "##### 1.1.1.2 - Sketch"
      ]
    },
    {
      "cell_type": "code",
      "execution_count": null,
      "metadata": {
        "id": "CQyb1EVPXxxo",
        "vscode": {
          "languageId": "python"
        }
      },
      "outputs": [],
      "source": [
        "warnings.filterwarnings('ignore', category=UserWarning)\n",
        "\n",
        "# Parse arguments\n",
        "conf = configurations['1.1.1.2']\n",
        "\n",
        "#args = parse_arguments()\n",
        "args = argparse.Namespace(**conf)\n",
        "print(args)\n",
        "CONFIG.update(vars(args))\n",
        "\n",
        "# Setup output directory\n",
        "CONFIG.save_dir = os.path.join('record', CONFIG.experiment_name)\n",
        "os.makedirs(CONFIG.save_dir, exist_ok=True)\n",
        "\n",
        "# Setup logging\n",
        "logging.basicConfig(\n",
        "    filename=os.path.join(CONFIG.save_dir, 'log.txt'),\n",
        "    format='%(message)s',\n",
        "    level=logging.INFO,\n",
        "    filemode='a'\n",
        ")\n",
        "\n",
        "# Set experiment's device & deterministic behavior\n",
        "if CONFIG.cpu:\n",
        "    CONFIG.device = 'cpu'\n",
        "else:\n",
        "    CONFIG.device = 'cuda' if torch.cuda.is_available() else 'cpu'\n",
        "\n",
        "torch.manual_seed(CONFIG.seed)\n",
        "random.seed(CONFIG.seed)\n",
        "np.random.seed(CONFIG.seed)\n",
        "torch.backends.cudnn.benchmark = True\n",
        "torch.use_deterministic_algorithms(mode=True, warn_only=True)\n",
        "\n",
        "main()"
      ]
    },
    {
      "cell_type": "markdown",
      "metadata": {
        "id": "0tDnoZZvXxxo"
      },
      "source": [
        "##### 1.1.1.3 - Photo"
      ]
    },
    {
      "cell_type": "code",
      "execution_count": null,
      "metadata": {
        "id": "r8Y7v5-dXxxo",
        "vscode": {
          "languageId": "python"
        }
      },
      "outputs": [],
      "source": [
        "warnings.filterwarnings('ignore', category=UserWarning)\n",
        "\n",
        "# Parse arguments\n",
        "conf = configurations['1.1.1.3']\n",
        "\n",
        "#args = parse_arguments()\n",
        "args = argparse.Namespace(**conf)\n",
        "print(args)\n",
        "CONFIG.update(vars(args))\n",
        "\n",
        "# Setup output directory\n",
        "CONFIG.save_dir = os.path.join('record', CONFIG.experiment_name)\n",
        "os.makedirs(CONFIG.save_dir, exist_ok=True)\n",
        "\n",
        "# Setup logging\n",
        "logging.basicConfig(\n",
        "    filename=os.path.join(CONFIG.save_dir, 'log.txt'),\n",
        "    format='%(message)s',\n",
        "    level=logging.INFO,\n",
        "    filemode='a'\n",
        ")\n",
        "\n",
        "# Set experiment's device & deterministic behavior\n",
        "if CONFIG.cpu:\n",
        "    CONFIG.device = 'cpu'\n",
        "else:\n",
        "    CONFIG.device = 'cuda' if torch.cuda.is_available() else 'cpu'\n",
        "\n",
        "torch.manual_seed(CONFIG.seed)\n",
        "random.seed(CONFIG.seed)\n",
        "np.random.seed(CONFIG.seed)\n",
        "torch.backends.cudnn.benchmark = True\n",
        "torch.use_deterministic_algorithms(mode=True, warn_only=True)\n",
        "\n",
        "main()"
      ]
    },
    {
      "cell_type": "markdown",
      "metadata": {
        "id": "ac4eY5dpXxxp"
      },
      "source": [
        "#### 1.1.2 - ASH module after layer1.0.relu"
      ]
    },
    {
      "cell_type": "markdown",
      "metadata": {
        "id": "sIhFFX4hXxxp"
      },
      "source": [
        "##### 1.1.2.1 - Cartoon"
      ]
    },
    {
      "cell_type": "code",
      "execution_count": null,
      "metadata": {
        "id": "_yHK3OiAXxxp",
        "vscode": {
          "languageId": "python"
        }
      },
      "outputs": [],
      "source": [
        "warnings.filterwarnings('ignore', category=UserWarning)\n",
        "\n",
        "# Parse arguments\n",
        "conf = configurations['1.1.2.1']\n",
        "\n",
        "#args = parse_arguments()\n",
        "args = argparse.Namespace(**conf)\n",
        "print(args)\n",
        "CONFIG.update(vars(args))\n",
        "\n",
        "# Setup output directory\n",
        "CONFIG.save_dir = os.path.join('record', CONFIG.experiment_name)\n",
        "os.makedirs(CONFIG.save_dir, exist_ok=True)\n",
        "\n",
        "# Setup logging\n",
        "logging.basicConfig(\n",
        "    filename=os.path.join(CONFIG.save_dir, 'log.txt'),\n",
        "    format='%(message)s',\n",
        "    level=logging.INFO,\n",
        "    filemode='a'\n",
        ")\n",
        "\n",
        "# Set experiment's device & deterministic behavior\n",
        "if CONFIG.cpu:\n",
        "    CONFIG.device = 'cpu'\n",
        "else:\n",
        "    CONFIG.device = 'cuda' if torch.cuda.is_available() else 'cpu'\n",
        "\n",
        "torch.manual_seed(CONFIG.seed)\n",
        "random.seed(CONFIG.seed)\n",
        "np.random.seed(CONFIG.seed)\n",
        "torch.backends.cudnn.benchmark = True\n",
        "torch.use_deterministic_algorithms(mode=True, warn_only=True)\n",
        "\n",
        "main()"
      ]
    },
    {
      "cell_type": "markdown",
      "metadata": {
        "id": "XTMvFpooXxxp"
      },
      "source": [
        "##### 1.1.2.2 - Sketch"
      ]
    },
    {
      "cell_type": "code",
      "execution_count": null,
      "metadata": {
        "id": "FV4LoLWJXxxq",
        "vscode": {
          "languageId": "python"
        }
      },
      "outputs": [],
      "source": [
        "warnings.filterwarnings('ignore', category=UserWarning)\n",
        "\n",
        "# Parse arguments\n",
        "conf = configurations['1.1.2.2']\n",
        "\n",
        "#args = parse_arguments()\n",
        "args = argparse.Namespace(**conf)\n",
        "print(args)\n",
        "CONFIG.update(vars(args))\n",
        "\n",
        "# Setup output directory\n",
        "CONFIG.save_dir = os.path.join('record', CONFIG.experiment_name)\n",
        "os.makedirs(CONFIG.save_dir, exist_ok=True)\n",
        "\n",
        "# Setup logging\n",
        "logging.basicConfig(\n",
        "    filename=os.path.join(CONFIG.save_dir, 'log.txt'),\n",
        "    format='%(message)s',\n",
        "    level=logging.INFO,\n",
        "    filemode='a'\n",
        ")\n",
        "\n",
        "# Set experiment's device & deterministic behavior\n",
        "if CONFIG.cpu:\n",
        "    CONFIG.device = 'cpu'\n",
        "else:\n",
        "    CONFIG.device = 'cuda' if torch.cuda.is_available() else 'cpu'\n",
        "\n",
        "torch.manual_seed(CONFIG.seed)\n",
        "random.seed(CONFIG.seed)\n",
        "np.random.seed(CONFIG.seed)\n",
        "torch.backends.cudnn.benchmark = True\n",
        "torch.use_deterministic_algorithms(mode=True, warn_only=True)\n",
        "\n",
        "main()"
      ]
    },
    {
      "cell_type": "markdown",
      "metadata": {
        "id": "aPX2h617Xxxq"
      },
      "source": [
        "##### 1.1.2.3 - Photo"
      ]
    },
    {
      "cell_type": "code",
      "execution_count": null,
      "metadata": {
        "id": "69TPuL3rXxxq",
        "vscode": {
          "languageId": "python"
        }
      },
      "outputs": [],
      "source": [
        "warnings.filterwarnings('ignore', category=UserWarning)\n",
        "\n",
        "# Parse arguments\n",
        "conf = configurations['1.1.2.3']\n",
        "\n",
        "#args = parse_arguments()\n",
        "args = argparse.Namespace(**conf)\n",
        "print(args)\n",
        "CONFIG.update(vars(args))\n",
        "\n",
        "# Setup output directory\n",
        "CONFIG.save_dir = os.path.join('record', CONFIG.experiment_name)\n",
        "os.makedirs(CONFIG.save_dir, exist_ok=True)\n",
        "\n",
        "# Setup logging\n",
        "logging.basicConfig(\n",
        "    filename=os.path.join(CONFIG.save_dir, 'log.txt'),\n",
        "    format='%(message)s',\n",
        "    level=logging.INFO,\n",
        "    filemode='a'\n",
        ")\n",
        "\n",
        "# Set experiment's device & deterministic behavior\n",
        "if CONFIG.cpu:\n",
        "    CONFIG.device = 'cpu'\n",
        "else:\n",
        "    CONFIG.device = 'cuda' if torch.cuda.is_available() else 'cpu'\n",
        "\n",
        "torch.manual_seed(CONFIG.seed)\n",
        "random.seed(CONFIG.seed)\n",
        "np.random.seed(CONFIG.seed)\n",
        "torch.backends.cudnn.benchmark = True\n",
        "torch.use_deterministic_algorithms(mode=True, warn_only=True)\n",
        "\n",
        "main()"
      ]
    },
    {
      "cell_type": "markdown",
      "metadata": {
        "id": "BOAwbUt6Xxxr"
      },
      "source": [
        "#### 1.1.3 - ASH module after layer1.0.conv2"
      ]
    },
    {
      "cell_type": "markdown",
      "metadata": {
        "id": "mf8vBvk-Xxxr"
      },
      "source": [
        "##### 1.1.3.1 - Cartoon"
      ]
    },
    {
      "cell_type": "code",
      "execution_count": null,
      "metadata": {
        "id": "fqzrhoKqXxxr",
        "vscode": {
          "languageId": "python"
        }
      },
      "outputs": [],
      "source": [
        "warnings.filterwarnings('ignore', category=UserWarning)\n",
        "\n",
        "# Parse arguments\n",
        "conf = configurations['1.1.3.1']\n",
        "\n",
        "#args = parse_arguments()\n",
        "args = argparse.Namespace(**conf)\n",
        "print(args)\n",
        "CONFIG.update(vars(args))\n",
        "\n",
        "# Setup output directory\n",
        "CONFIG.save_dir = os.path.join('record', CONFIG.experiment_name)\n",
        "os.makedirs(CONFIG.save_dir, exist_ok=True)\n",
        "\n",
        "# Setup logging\n",
        "logging.basicConfig(\n",
        "    filename=os.path.join(CONFIG.save_dir, 'log.txt'),\n",
        "    format='%(message)s',\n",
        "    level=logging.INFO,\n",
        "    filemode='a'\n",
        ")\n",
        "\n",
        "# Set experiment's device & deterministic behavior\n",
        "if CONFIG.cpu:\n",
        "    CONFIG.device = 'cpu'\n",
        "else:\n",
        "    CONFIG.device = 'cuda' if torch.cuda.is_available() else 'cpu'\n",
        "\n",
        "torch.manual_seed(CONFIG.seed)\n",
        "random.seed(CONFIG.seed)\n",
        "np.random.seed(CONFIG.seed)\n",
        "torch.backends.cudnn.benchmark = True\n",
        "torch.use_deterministic_algorithms(mode=True, warn_only=True)\n",
        "\n",
        "main()"
      ]
    },
    {
      "cell_type": "markdown",
      "metadata": {
        "id": "QtI88yPMXxxr"
      },
      "source": [
        "##### 1.1.3.2 - Sketch"
      ]
    },
    {
      "cell_type": "code",
      "execution_count": null,
      "metadata": {
        "id": "WCitdYpbXxxr",
        "vscode": {
          "languageId": "python"
        }
      },
      "outputs": [],
      "source": [
        "warnings.filterwarnings('ignore', category=UserWarning)\n",
        "\n",
        "# Parse arguments\n",
        "conf = configurations['1.1.3.2']\n",
        "\n",
        "#args = parse_arguments()\n",
        "args = argparse.Namespace(**conf)\n",
        "print(args)\n",
        "CONFIG.update(vars(args))\n",
        "\n",
        "# Setup output directory\n",
        "CONFIG.save_dir = os.path.join('record', CONFIG.experiment_name)\n",
        "os.makedirs(CONFIG.save_dir, exist_ok=True)\n",
        "\n",
        "# Setup logging\n",
        "logging.basicConfig(\n",
        "    filename=os.path.join(CONFIG.save_dir, 'log.txt'),\n",
        "    format='%(message)s',\n",
        "    level=logging.INFO,\n",
        "    filemode='a'\n",
        ")\n",
        "\n",
        "# Set experiment's device & deterministic behavior\n",
        "if CONFIG.cpu:\n",
        "    CONFIG.device = 'cpu'\n",
        "else:\n",
        "    CONFIG.device = 'cuda' if torch.cuda.is_available() else 'cpu'\n",
        "\n",
        "torch.manual_seed(CONFIG.seed)\n",
        "random.seed(CONFIG.seed)\n",
        "np.random.seed(CONFIG.seed)\n",
        "torch.backends.cudnn.benchmark = True\n",
        "torch.use_deterministic_algorithms(mode=True, warn_only=True)\n",
        "\n",
        "main()"
      ]
    },
    {
      "cell_type": "markdown",
      "metadata": {
        "id": "avqPWnfxXxxr"
      },
      "source": [
        "##### 1.1.3.3 - Photo"
      ]
    },
    {
      "cell_type": "code",
      "execution_count": null,
      "metadata": {
        "id": "-kzY7NB0Xxxs",
        "vscode": {
          "languageId": "python"
        }
      },
      "outputs": [],
      "source": [
        "warnings.filterwarnings('ignore', category=UserWarning)\n",
        "\n",
        "# Parse arguments\n",
        "conf = configurations['1.1.3.3']\n",
        "\n",
        "#args = parse_arguments()\n",
        "args = argparse.Namespace(**conf)\n",
        "print(args)\n",
        "CONFIG.update(vars(args))\n",
        "\n",
        "# Setup output directory\n",
        "CONFIG.save_dir = os.path.join('record', CONFIG.experiment_name)\n",
        "os.makedirs(CONFIG.save_dir, exist_ok=True)\n",
        "\n",
        "# Setup logging\n",
        "logging.basicConfig(\n",
        "    filename=os.path.join(CONFIG.save_dir, 'log.txt'),\n",
        "    format='%(message)s',\n",
        "    level=logging.INFO,\n",
        "    filemode='a'\n",
        ")\n",
        "\n",
        "# Set experiment's device & deterministic behavior\n",
        "if CONFIG.cpu:\n",
        "    CONFIG.device = 'cpu'\n",
        "else:\n",
        "    CONFIG.device = 'cuda' if torch.cuda.is_available() else 'cpu'\n",
        "\n",
        "torch.manual_seed(CONFIG.seed)\n",
        "random.seed(CONFIG.seed)\n",
        "np.random.seed(CONFIG.seed)\n",
        "torch.backends.cudnn.benchmark = True\n",
        "torch.use_deterministic_algorithms(mode=True, warn_only=True)\n",
        "\n",
        "main()"
      ]
    },
    {
      "cell_type": "markdown",
      "metadata": {
        "id": "Ctkpjqf9Xxxs"
      },
      "source": [
        "#### 1.1.4 - ASH module after layer1.1.conv1"
      ]
    },
    {
      "cell_type": "markdown",
      "metadata": {
        "id": "CipZcskxXxxs"
      },
      "source": [
        "##### 1.1.4.1 - Cartoon"
      ]
    },
    {
      "cell_type": "code",
      "execution_count": null,
      "metadata": {
        "id": "BLvw3cRFXxxs",
        "vscode": {
          "languageId": "python"
        }
      },
      "outputs": [],
      "source": [
        "warnings.filterwarnings('ignore', category=UserWarning)\n",
        "\n",
        "# Parse arguments\n",
        "conf = configurations['1.1.4.1']\n",
        "\n",
        "#args = parse_arguments()\n",
        "args = argparse.Namespace(**conf)\n",
        "print(args)\n",
        "CONFIG.update(vars(args))\n",
        "\n",
        "# Setup output directory\n",
        "CONFIG.save_dir = os.path.join('record', CONFIG.experiment_name)\n",
        "os.makedirs(CONFIG.save_dir, exist_ok=True)\n",
        "\n",
        "# Setup logging\n",
        "logging.basicConfig(\n",
        "    filename=os.path.join(CONFIG.save_dir, 'log.txt'),\n",
        "    format='%(message)s',\n",
        "    level=logging.INFO,\n",
        "    filemode='a'\n",
        ")\n",
        "\n",
        "# Set experiment's device & deterministic behavior\n",
        "if CONFIG.cpu:\n",
        "    CONFIG.device = 'cpu'\n",
        "else:\n",
        "    CONFIG.device = 'cuda' if torch.cuda.is_available() else 'cpu'\n",
        "\n",
        "torch.manual_seed(CONFIG.seed)\n",
        "random.seed(CONFIG.seed)\n",
        "np.random.seed(CONFIG.seed)\n",
        "torch.backends.cudnn.benchmark = True\n",
        "torch.use_deterministic_algorithms(mode=True, warn_only=True)\n",
        "\n",
        "main()"
      ]
    },
    {
      "cell_type": "markdown",
      "metadata": {
        "id": "IE9QjZZ7Xxxt"
      },
      "source": [
        "##### 1.1.4.2 - Sketch"
      ]
    },
    {
      "cell_type": "code",
      "execution_count": null,
      "metadata": {
        "id": "fQsbAcpdXxxt",
        "vscode": {
          "languageId": "python"
        }
      },
      "outputs": [],
      "source": [
        "warnings.filterwarnings('ignore', category=UserWarning)\n",
        "\n",
        "# Parse arguments\n",
        "conf = configurations['1.1.4.2']\n",
        "\n",
        "#args = parse_arguments()\n",
        "args = argparse.Namespace(**conf)\n",
        "print(args)\n",
        "CONFIG.update(vars(args))\n",
        "\n",
        "# Setup output directory\n",
        "CONFIG.save_dir = os.path.join('record', CONFIG.experiment_name)\n",
        "os.makedirs(CONFIG.save_dir, exist_ok=True)\n",
        "\n",
        "# Setup logging\n",
        "logging.basicConfig(\n",
        "    filename=os.path.join(CONFIG.save_dir, 'log.txt'),\n",
        "    format='%(message)s',\n",
        "    level=logging.INFO,\n",
        "    filemode='a'\n",
        ")\n",
        "\n",
        "# Set experiment's device & deterministic behavior\n",
        "if CONFIG.cpu:\n",
        "    CONFIG.device = 'cpu'\n",
        "else:\n",
        "    CONFIG.device = 'cuda' if torch.cuda.is_available() else 'cpu'\n",
        "\n",
        "torch.manual_seed(CONFIG.seed)\n",
        "random.seed(CONFIG.seed)\n",
        "np.random.seed(CONFIG.seed)\n",
        "torch.backends.cudnn.benchmark = True\n",
        "torch.use_deterministic_algorithms(mode=True, warn_only=True)\n",
        "\n",
        "main()"
      ]
    },
    {
      "cell_type": "markdown",
      "metadata": {
        "id": "UUDFSFbAXxxt"
      },
      "source": [
        "##### 1.1.4.3 - Photo"
      ]
    },
    {
      "cell_type": "code",
      "execution_count": null,
      "metadata": {
        "id": "pRmigqqhXxxu",
        "vscode": {
          "languageId": "python"
        }
      },
      "outputs": [],
      "source": [
        "warnings.filterwarnings('ignore', category=UserWarning)\n",
        "\n",
        "# Parse arguments\n",
        "conf = configurations['1.1.4.3']\n",
        "\n",
        "#args = parse_arguments()\n",
        "args = argparse.Namespace(**conf)\n",
        "print(args)\n",
        "CONFIG.update(vars(args))\n",
        "\n",
        "# Setup output directory\n",
        "CONFIG.save_dir = os.path.join('record', CONFIG.experiment_name)\n",
        "os.makedirs(CONFIG.save_dir, exist_ok=True)\n",
        "\n",
        "# Setup logging\n",
        "logging.basicConfig(\n",
        "    filename=os.path.join(CONFIG.save_dir, 'log.txt'),\n",
        "    format='%(message)s',\n",
        "    level=logging.INFO,\n",
        "    filemode='a'\n",
        ")\n",
        "\n",
        "# Set experiment's device & deterministic behavior\n",
        "if CONFIG.cpu:\n",
        "    CONFIG.device = 'cpu'\n",
        "else:\n",
        "    CONFIG.device = 'cuda' if torch.cuda.is_available() else 'cpu'\n",
        "\n",
        "torch.manual_seed(CONFIG.seed)\n",
        "random.seed(CONFIG.seed)\n",
        "np.random.seed(CONFIG.seed)\n",
        "torch.backends.cudnn.benchmark = True\n",
        "torch.use_deterministic_algorithms(mode=True, warn_only=True)\n",
        "\n",
        "main()"
      ]
    },
    {
      "cell_type": "markdown",
      "metadata": {
        "id": "ycjnl_mUXxxu"
      },
      "source": [
        "#### 1.1.5 - ASH module after layer1.1.bn1"
      ]
    },
    {
      "cell_type": "markdown",
      "metadata": {
        "id": "Y27AtU5YXxxu"
      },
      "source": [
        "##### 1.1.5.1 - Cartoon"
      ]
    },
    {
      "cell_type": "code",
      "execution_count": null,
      "metadata": {
        "id": "KwOW53WZXxxu",
        "vscode": {
          "languageId": "python"
        }
      },
      "outputs": [],
      "source": [
        "warnings.filterwarnings('ignore', category=UserWarning)\n",
        "\n",
        "# Parse arguments\n",
        "conf = configurations['1.1.5.1']\n",
        "\n",
        "#args = parse_arguments()\n",
        "args = argparse.Namespace(**conf)\n",
        "print(args)\n",
        "CONFIG.update(vars(args))\n",
        "\n",
        "# Setup output directory\n",
        "CONFIG.save_dir = os.path.join('record', CONFIG.experiment_name)\n",
        "os.makedirs(CONFIG.save_dir, exist_ok=True)\n",
        "\n",
        "# Setup logging\n",
        "logging.basicConfig(\n",
        "    filename=os.path.join(CONFIG.save_dir, 'log.txt'),\n",
        "    format='%(message)s',\n",
        "    level=logging.INFO,\n",
        "    filemode='a'\n",
        ")\n",
        "\n",
        "# Set experiment's device & deterministic behavior\n",
        "if CONFIG.cpu:\n",
        "    CONFIG.device = 'cpu'\n",
        "else:\n",
        "    CONFIG.device = 'cuda' if torch.cuda.is_available() else 'cpu'\n",
        "\n",
        "torch.manual_seed(CONFIG.seed)\n",
        "random.seed(CONFIG.seed)\n",
        "np.random.seed(CONFIG.seed)\n",
        "torch.backends.cudnn.benchmark = True\n",
        "torch.use_deterministic_algorithms(mode=True, warn_only=True)\n",
        "\n",
        "main()"
      ]
    },
    {
      "cell_type": "markdown",
      "metadata": {
        "id": "EJD_HVWfXxxv"
      },
      "source": [
        "##### 1.1.5.2 - Sketch"
      ]
    },
    {
      "cell_type": "code",
      "execution_count": null,
      "metadata": {
        "id": "M2oK8ImbXxxv",
        "vscode": {
          "languageId": "python"
        }
      },
      "outputs": [],
      "source": [
        "warnings.filterwarnings('ignore', category=UserWarning)\n",
        "\n",
        "# Parse arguments\n",
        "conf = configurations['1.1.5.2']\n",
        "\n",
        "#args = parse_arguments()\n",
        "args = argparse.Namespace(**conf)\n",
        "print(args)\n",
        "CONFIG.update(vars(args))\n",
        "\n",
        "# Setup output directory\n",
        "CONFIG.save_dir = os.path.join('record', CONFIG.experiment_name)\n",
        "os.makedirs(CONFIG.save_dir, exist_ok=True)\n",
        "\n",
        "# Setup logging\n",
        "logging.basicConfig(\n",
        "    filename=os.path.join(CONFIG.save_dir, 'log.txt'),\n",
        "    format='%(message)s',\n",
        "    level=logging.INFO,\n",
        "    filemode='a'\n",
        ")\n",
        "\n",
        "# Set experiment's device & deterministic behavior\n",
        "if CONFIG.cpu:\n",
        "    CONFIG.device = 'cpu'\n",
        "else:\n",
        "    CONFIG.device = 'cuda' if torch.cuda.is_available() else 'cpu'\n",
        "\n",
        "torch.manual_seed(CONFIG.seed)\n",
        "random.seed(CONFIG.seed)\n",
        "np.random.seed(CONFIG.seed)\n",
        "torch.backends.cudnn.benchmark = True\n",
        "torch.use_deterministic_algorithms(mode=True, warn_only=True)\n",
        "\n",
        "main()"
      ]
    },
    {
      "cell_type": "markdown",
      "metadata": {
        "id": "_w39323IXxxv"
      },
      "source": [
        "##### 1.1.5.3 - Photo"
      ]
    },
    {
      "cell_type": "code",
      "execution_count": null,
      "metadata": {
        "id": "HEA7bvBmXxxv",
        "vscode": {
          "languageId": "python"
        }
      },
      "outputs": [],
      "source": [
        "warnings.filterwarnings('ignore', category=UserWarning)\n",
        "\n",
        "# Parse arguments\n",
        "conf = configurations['1.1.5.3']\n",
        "\n",
        "#args = parse_arguments()\n",
        "args = argparse.Namespace(**conf)\n",
        "print(args)\n",
        "CONFIG.update(vars(args))\n",
        "\n",
        "# Setup output directory\n",
        "CONFIG.save_dir = os.path.join('record', CONFIG.experiment_name)\n",
        "os.makedirs(CONFIG.save_dir, exist_ok=True)\n",
        "\n",
        "# Setup logging\n",
        "logging.basicConfig(\n",
        "    filename=os.path.join(CONFIG.save_dir, 'log.txt'),\n",
        "    format='%(message)s',\n",
        "    level=logging.INFO,\n",
        "    filemode='a'\n",
        ")\n",
        "\n",
        "# Set experiment's device & deterministic behavior\n",
        "if CONFIG.cpu:\n",
        "    CONFIG.device = 'cpu'\n",
        "else:\n",
        "    CONFIG.device = 'cuda' if torch.cuda.is_available() else 'cpu'\n",
        "\n",
        "torch.manual_seed(CONFIG.seed)\n",
        "random.seed(CONFIG.seed)\n",
        "np.random.seed(CONFIG.seed)\n",
        "torch.backends.cudnn.benchmark = True\n",
        "torch.use_deterministic_algorithms(mode=True, warn_only=True)\n",
        "\n",
        "main()"
      ]
    },
    {
      "cell_type": "markdown",
      "metadata": {
        "id": "pkTvn9BaXxxw"
      },
      "source": [
        "#### 1.1.6 - ASH module after layer1.1.relu"
      ]
    },
    {
      "cell_type": "markdown",
      "metadata": {
        "id": "6Ibi8mI2Xxxw"
      },
      "source": [
        "##### 1.1.6.1 - Cartoon"
      ]
    },
    {
      "cell_type": "code",
      "execution_count": null,
      "metadata": {
        "id": "LNAUFLTwXxxw",
        "vscode": {
          "languageId": "python"
        }
      },
      "outputs": [],
      "source": [
        "warnings.filterwarnings('ignore', category=UserWarning)\n",
        "\n",
        "# Parse arguments\n",
        "conf = configurations['1.1.6.1']\n",
        "\n",
        "#args = parse_arguments()\n",
        "args = argparse.Namespace(**conf)\n",
        "print(args)\n",
        "CONFIG.update(vars(args))\n",
        "\n",
        "# Setup output directory\n",
        "CONFIG.save_dir = os.path.join('record', CONFIG.experiment_name)\n",
        "os.makedirs(CONFIG.save_dir, exist_ok=True)\n",
        "\n",
        "# Setup logging\n",
        "logging.basicConfig(\n",
        "    filename=os.path.join(CONFIG.save_dir, 'log.txt'),\n",
        "    format='%(message)s',\n",
        "    level=logging.INFO,\n",
        "    filemode='a'\n",
        ")\n",
        "\n",
        "# Set experiment's device & deterministic behavior\n",
        "if CONFIG.cpu:\n",
        "    CONFIG.device = 'cpu'\n",
        "else:\n",
        "    CONFIG.device = 'cuda' if torch.cuda.is_available() else 'cpu'\n",
        "\n",
        "torch.manual_seed(CONFIG.seed)\n",
        "random.seed(CONFIG.seed)\n",
        "np.random.seed(CONFIG.seed)\n",
        "torch.backends.cudnn.benchmark = True\n",
        "torch.use_deterministic_algorithms(mode=True, warn_only=True)\n",
        "\n",
        "main()"
      ]
    },
    {
      "cell_type": "markdown",
      "metadata": {
        "id": "SQJVD4nMXxxw"
      },
      "source": [
        "##### 1.1.6.2 - Sketch"
      ]
    },
    {
      "cell_type": "code",
      "execution_count": null,
      "metadata": {
        "id": "9UVHzHgaXxxx",
        "vscode": {
          "languageId": "python"
        }
      },
      "outputs": [],
      "source": [
        "warnings.filterwarnings('ignore', category=UserWarning)\n",
        "\n",
        "# Parse arguments\n",
        "conf = configurations['1.1.6.2']\n",
        "\n",
        "#args = parse_arguments()\n",
        "args = argparse.Namespace(**conf)\n",
        "print(args)\n",
        "CONFIG.update(vars(args))\n",
        "\n",
        "# Setup output directory\n",
        "CONFIG.save_dir = os.path.join('record', CONFIG.experiment_name)\n",
        "os.makedirs(CONFIG.save_dir, exist_ok=True)\n",
        "\n",
        "# Setup logging\n",
        "logging.basicConfig(\n",
        "    filename=os.path.join(CONFIG.save_dir, 'log.txt'),\n",
        "    format='%(message)s',\n",
        "    level=logging.INFO,\n",
        "    filemode='a'\n",
        ")\n",
        "\n",
        "# Set experiment's device & deterministic behavior\n",
        "if CONFIG.cpu:\n",
        "    CONFIG.device = 'cpu'\n",
        "else:\n",
        "    CONFIG.device = 'cuda' if torch.cuda.is_available() else 'cpu'\n",
        "\n",
        "torch.manual_seed(CONFIG.seed)\n",
        "random.seed(CONFIG.seed)\n",
        "np.random.seed(CONFIG.seed)\n",
        "torch.backends.cudnn.benchmark = True\n",
        "torch.use_deterministic_algorithms(mode=True, warn_only=True)\n",
        "\n",
        "main()"
      ]
    },
    {
      "cell_type": "markdown",
      "metadata": {
        "id": "FEzzVWSrXxxx"
      },
      "source": [
        "##### 1.1.6.3 - Photo"
      ]
    },
    {
      "cell_type": "code",
      "execution_count": null,
      "metadata": {
        "id": "wtg4t_7jXxxy",
        "vscode": {
          "languageId": "python"
        }
      },
      "outputs": [],
      "source": [
        "warnings.filterwarnings('ignore', category=UserWarning)\n",
        "\n",
        "# Parse arguments\n",
        "conf = configurations['1.1.6.3']\n",
        "\n",
        "#args = parse_arguments()\n",
        "args = argparse.Namespace(**conf)\n",
        "print(args)\n",
        "CONFIG.update(vars(args))\n",
        "\n",
        "# Setup output directory\n",
        "CONFIG.save_dir = os.path.join('record', CONFIG.experiment_name)\n",
        "os.makedirs(CONFIG.save_dir, exist_ok=True)\n",
        "\n",
        "# Setup logging\n",
        "logging.basicConfig(\n",
        "    filename=os.path.join(CONFIG.save_dir, 'log.txt'),\n",
        "    format='%(message)s',\n",
        "    level=logging.INFO,\n",
        "    filemode='a'\n",
        ")\n",
        "\n",
        "# Set experiment's device & deterministic behavior\n",
        "if CONFIG.cpu:\n",
        "    CONFIG.device = 'cpu'\n",
        "else:\n",
        "    CONFIG.device = 'cuda' if torch.cuda.is_available() else 'cpu'\n",
        "\n",
        "torch.manual_seed(CONFIG.seed)\n",
        "random.seed(CONFIG.seed)\n",
        "np.random.seed(CONFIG.seed)\n",
        "torch.backends.cudnn.benchmark = True\n",
        "torch.use_deterministic_algorithms(mode=True, warn_only=True)\n",
        "\n",
        "main()"
      ]
    },
    {
      "cell_type": "markdown",
      "metadata": {
        "id": "jW27piN-Xxxz"
      },
      "source": [
        "#### 1.1.7 - ASH module after layer1.1.conv2"
      ]
    },
    {
      "cell_type": "markdown",
      "metadata": {
        "id": "9l7pAc9HXxxz"
      },
      "source": [
        "##### 1.1.7.1 - Cartoon"
      ]
    },
    {
      "cell_type": "code",
      "execution_count": null,
      "metadata": {
        "id": "QSznLGBVXxx6",
        "vscode": {
          "languageId": "python"
        }
      },
      "outputs": [],
      "source": [
        "warnings.filterwarnings('ignore', category=UserWarning)\n",
        "\n",
        "# Parse arguments\n",
        "conf = configurations['1.1.7.1']\n",
        "\n",
        "#args = parse_arguments()\n",
        "args = argparse.Namespace(**conf)\n",
        "print(args)\n",
        "CONFIG.update(vars(args))\n",
        "\n",
        "# Setup output directory\n",
        "CONFIG.save_dir = os.path.join('record', CONFIG.experiment_name)\n",
        "os.makedirs(CONFIG.save_dir, exist_ok=True)\n",
        "\n",
        "# Setup logging\n",
        "logging.basicConfig(\n",
        "    filename=os.path.join(CONFIG.save_dir, 'log.txt'),\n",
        "    format='%(message)s',\n",
        "    level=logging.INFO,\n",
        "    filemode='a'\n",
        ")\n",
        "\n",
        "# Set experiment's device & deterministic behavior\n",
        "if CONFIG.cpu:\n",
        "    CONFIG.device = 'cpu'\n",
        "else:\n",
        "    CONFIG.device = 'cuda' if torch.cuda.is_available() else 'cpu'\n",
        "\n",
        "torch.manual_seed(CONFIG.seed)\n",
        "random.seed(CONFIG.seed)\n",
        "np.random.seed(CONFIG.seed)\n",
        "torch.backends.cudnn.benchmark = True\n",
        "torch.use_deterministic_algorithms(mode=True, warn_only=True)\n",
        "\n",
        "main()"
      ]
    },
    {
      "cell_type": "markdown",
      "metadata": {
        "id": "6fTaKtbmXxx6"
      },
      "source": [
        "##### 1.1.7.2 - Sketch"
      ]
    },
    {
      "cell_type": "code",
      "execution_count": null,
      "metadata": {
        "id": "O6dvLHdqXxx6",
        "vscode": {
          "languageId": "python"
        }
      },
      "outputs": [],
      "source": [
        "warnings.filterwarnings('ignore', category=UserWarning)\n",
        "\n",
        "# Parse arguments\n",
        "conf = configurations['1.1.7.2']\n",
        "\n",
        "#args = parse_arguments()\n",
        "args = argparse.Namespace(**conf)\n",
        "print(args)\n",
        "CONFIG.update(vars(args))\n",
        "\n",
        "# Setup output directory\n",
        "CONFIG.save_dir = os.path.join('record', CONFIG.experiment_name)\n",
        "os.makedirs(CONFIG.save_dir, exist_ok=True)\n",
        "\n",
        "# Setup logging\n",
        "logging.basicConfig(\n",
        "    filename=os.path.join(CONFIG.save_dir, 'log.txt'),\n",
        "    format='%(message)s',\n",
        "    level=logging.INFO,\n",
        "    filemode='a'\n",
        ")\n",
        "\n",
        "# Set experiment's device & deterministic behavior\n",
        "if CONFIG.cpu:\n",
        "    CONFIG.device = 'cpu'\n",
        "else:\n",
        "    CONFIG.device = 'cuda' if torch.cuda.is_available() else 'cpu'\n",
        "\n",
        "torch.manual_seed(CONFIG.seed)\n",
        "random.seed(CONFIG.seed)\n",
        "np.random.seed(CONFIG.seed)\n",
        "torch.backends.cudnn.benchmark = True\n",
        "torch.use_deterministic_algorithms(mode=True, warn_only=True)\n",
        "\n",
        "main()"
      ]
    },
    {
      "cell_type": "markdown",
      "metadata": {
        "id": "mahl1nEeXxx7"
      },
      "source": [
        "##### 1.1.7.3 - Photo"
      ]
    },
    {
      "cell_type": "code",
      "execution_count": null,
      "metadata": {
        "id": "TcRWiol6Xxx7",
        "vscode": {
          "languageId": "python"
        }
      },
      "outputs": [],
      "source": [
        "warnings.filterwarnings('ignore', category=UserWarning)\n",
        "\n",
        "# Parse arguments\n",
        "conf = configurations['1.1.7.3']\n",
        "\n",
        "#args = parse_arguments()\n",
        "args = argparse.Namespace(**conf)\n",
        "print(args)\n",
        "CONFIG.update(vars(args))\n",
        "\n",
        "# Setup output directory\n",
        "CONFIG.save_dir = os.path.join('record', CONFIG.experiment_name)\n",
        "os.makedirs(CONFIG.save_dir, exist_ok=True)\n",
        "\n",
        "# Setup logging\n",
        "logging.basicConfig(\n",
        "    filename=os.path.join(CONFIG.save_dir, 'log.txt'),\n",
        "    format='%(message)s',\n",
        "    level=logging.INFO,\n",
        "    filemode='a'\n",
        ")\n",
        "\n",
        "# Set experiment's device & deterministic behavior\n",
        "if CONFIG.cpu:\n",
        "    CONFIG.device = 'cpu'\n",
        "else:\n",
        "    CONFIG.device = 'cuda' if torch.cuda.is_available() else 'cpu'\n",
        "\n",
        "torch.manual_seed(CONFIG.seed)\n",
        "random.seed(CONFIG.seed)\n",
        "np.random.seed(CONFIG.seed)\n",
        "torch.backends.cudnn.benchmark = True\n",
        "torch.use_deterministic_algorithms(mode=True, warn_only=True)\n",
        "\n",
        "main()"
      ]
    },
    {
      "cell_type": "markdown",
      "metadata": {
        "id": "bh_7maL_Xxx7"
      },
      "source": [
        "#### 1.1.8 - ASH module after layer1.1.bn2"
      ]
    },
    {
      "cell_type": "markdown",
      "metadata": {
        "id": "avpgFjY1Xxx7"
      },
      "source": [
        "##### 1.1.8.1 - Cartoon"
      ]
    },
    {
      "cell_type": "code",
      "execution_count": null,
      "metadata": {
        "id": "WMjcCYQfXxx7",
        "vscode": {
          "languageId": "python"
        }
      },
      "outputs": [],
      "source": [
        "warnings.filterwarnings('ignore', category=UserWarning)\n",
        "\n",
        "# Parse arguments\n",
        "conf = configurations['1.1.8.1']\n",
        "\n",
        "#args = parse_arguments()\n",
        "args = argparse.Namespace(**conf)\n",
        "print(args)\n",
        "CONFIG.update(vars(args))\n",
        "\n",
        "# Setup output directory\n",
        "CONFIG.save_dir = os.path.join('record', CONFIG.experiment_name)\n",
        "os.makedirs(CONFIG.save_dir, exist_ok=True)\n",
        "\n",
        "# Setup logging\n",
        "logging.basicConfig(\n",
        "    filename=os.path.join(CONFIG.save_dir, 'log.txt'),\n",
        "    format='%(message)s',\n",
        "    level=logging.INFO,\n",
        "    filemode='a'\n",
        ")\n",
        "\n",
        "# Set experiment's device & deterministic behavior\n",
        "if CONFIG.cpu:\n",
        "    CONFIG.device = 'cpu'\n",
        "else:\n",
        "    CONFIG.device = 'cuda' if torch.cuda.is_available() else 'cpu'\n",
        "\n",
        "torch.manual_seed(CONFIG.seed)\n",
        "random.seed(CONFIG.seed)\n",
        "np.random.seed(CONFIG.seed)\n",
        "torch.backends.cudnn.benchmark = True\n",
        "torch.use_deterministic_algorithms(mode=True, warn_only=True)\n",
        "\n",
        "main()"
      ]
    },
    {
      "cell_type": "markdown",
      "metadata": {
        "id": "xzpHfqWTXxx7"
      },
      "source": [
        "##### 1.1.8.2 - Sketch"
      ]
    },
    {
      "cell_type": "code",
      "execution_count": null,
      "metadata": {
        "id": "xZ0LDCQiXxx7",
        "vscode": {
          "languageId": "python"
        }
      },
      "outputs": [],
      "source": [
        "warnings.filterwarnings('ignore', category=UserWarning)\n",
        "\n",
        "# Parse arguments\n",
        "conf = configurations['1.1.8.2']\n",
        "\n",
        "#args = parse_arguments()\n",
        "args = argparse.Namespace(**conf)\n",
        "print(args)\n",
        "CONFIG.update(vars(args))\n",
        "\n",
        "# Setup output directory\n",
        "CONFIG.save_dir = os.path.join('record', CONFIG.experiment_name)\n",
        "os.makedirs(CONFIG.save_dir, exist_ok=True)\n",
        "\n",
        "# Setup logging\n",
        "logging.basicConfig(\n",
        "    filename=os.path.join(CONFIG.save_dir, 'log.txt'),\n",
        "    format='%(message)s',\n",
        "    level=logging.INFO,\n",
        "    filemode='a'\n",
        ")\n",
        "\n",
        "# Set experiment's device & deterministic behavior\n",
        "if CONFIG.cpu:\n",
        "    CONFIG.device = 'cpu'\n",
        "else:\n",
        "    CONFIG.device = 'cuda' if torch.cuda.is_available() else 'cpu'\n",
        "\n",
        "torch.manual_seed(CONFIG.seed)\n",
        "random.seed(CONFIG.seed)\n",
        "np.random.seed(CONFIG.seed)\n",
        "torch.backends.cudnn.benchmark = True\n",
        "torch.use_deterministic_algorithms(mode=True, warn_only=True)\n",
        "\n",
        "main()"
      ]
    },
    {
      "cell_type": "markdown",
      "metadata": {
        "id": "HJLx37ZvXxx8"
      },
      "source": [
        "##### 1.1.8.3 - Photo"
      ]
    },
    {
      "cell_type": "code",
      "execution_count": null,
      "metadata": {
        "id": "YkgH9YXXXxx8",
        "vscode": {
          "languageId": "python"
        }
      },
      "outputs": [],
      "source": [
        "warnings.filterwarnings('ignore', category=UserWarning)\n",
        "\n",
        "# Parse arguments\n",
        "conf = configurations['1.1.8.3']\n",
        "\n",
        "#args = parse_arguments()\n",
        "args = argparse.Namespace(**conf)\n",
        "print(args)\n",
        "CONFIG.update(vars(args))\n",
        "\n",
        "# Setup output directory\n",
        "CONFIG.save_dir = os.path.join('record', CONFIG.experiment_name)\n",
        "os.makedirs(CONFIG.save_dir, exist_ok=True)\n",
        "\n",
        "# Setup logging\n",
        "logging.basicConfig(\n",
        "    filename=os.path.join(CONFIG.save_dir, 'log.txt'),\n",
        "    format='%(message)s',\n",
        "    level=logging.INFO,\n",
        "    filemode='a'\n",
        ")\n",
        "\n",
        "# Set experiment's device & deterministic behavior\n",
        "if CONFIG.cpu:\n",
        "    CONFIG.device = 'cpu'\n",
        "else:\n",
        "    CONFIG.device = 'cuda' if torch.cuda.is_available() else 'cpu'\n",
        "\n",
        "torch.manual_seed(CONFIG.seed)\n",
        "random.seed(CONFIG.seed)\n",
        "np.random.seed(CONFIG.seed)\n",
        "torch.backends.cudnn.benchmark = True\n",
        "torch.use_deterministic_algorithms(mode=True, warn_only=True)\n",
        "\n",
        "main()"
      ]
    },
    {
      "cell_type": "markdown",
      "metadata": {
        "id": "p6XaMwcMXxx8"
      },
      "source": [
        "#### 1.1.9 - ASH module after layer2.0.conv1"
      ]
    },
    {
      "cell_type": "markdown",
      "metadata": {
        "id": "364UFSozXxx8"
      },
      "source": [
        "##### 1.1.9.1 - Cartoon"
      ]
    },
    {
      "cell_type": "code",
      "execution_count": null,
      "metadata": {
        "id": "PDv0wYGDXxx8",
        "vscode": {
          "languageId": "python"
        }
      },
      "outputs": [],
      "source": [
        "warnings.filterwarnings('ignore', category=UserWarning)\n",
        "\n",
        "# Parse arguments\n",
        "conf = configurations['1.1.9.1']\n",
        "\n",
        "#args = parse_arguments()\n",
        "args = argparse.Namespace(**conf)\n",
        "print(args)\n",
        "CONFIG.update(vars(args))\n",
        "\n",
        "# Setup output directory\n",
        "CONFIG.save_dir = os.path.join('record', CONFIG.experiment_name)\n",
        "os.makedirs(CONFIG.save_dir, exist_ok=True)\n",
        "\n",
        "# Setup logging\n",
        "logging.basicConfig(\n",
        "    filename=os.path.join(CONFIG.save_dir, 'log.txt'),\n",
        "    format='%(message)s',\n",
        "    level=logging.INFO,\n",
        "    filemode='a'\n",
        ")\n",
        "\n",
        "# Set experiment's device & deterministic behavior\n",
        "if CONFIG.cpu:\n",
        "    CONFIG.device = 'cpu'\n",
        "else:\n",
        "    CONFIG.device = 'cuda' if torch.cuda.is_available() else 'cpu'\n",
        "\n",
        "torch.manual_seed(CONFIG.seed)\n",
        "random.seed(CONFIG.seed)\n",
        "np.random.seed(CONFIG.seed)\n",
        "torch.backends.cudnn.benchmark = True\n",
        "torch.use_deterministic_algorithms(mode=True, warn_only=True)\n",
        "\n",
        "main()"
      ]
    },
    {
      "cell_type": "markdown",
      "metadata": {
        "id": "oUIueylOXxx9"
      },
      "source": [
        "##### 1.1.9.2 - Sketch"
      ]
    },
    {
      "cell_type": "code",
      "execution_count": null,
      "metadata": {
        "id": "iC36vRejXxx9",
        "vscode": {
          "languageId": "python"
        }
      },
      "outputs": [],
      "source": [
        "warnings.filterwarnings('ignore', category=UserWarning)\n",
        "\n",
        "# Parse arguments\n",
        "conf = configurations['1.1.9.2']\n",
        "\n",
        "#args = parse_arguments()\n",
        "args = argparse.Namespace(**conf)\n",
        "print(args)\n",
        "CONFIG.update(vars(args))\n",
        "\n",
        "# Setup output directory\n",
        "CONFIG.save_dir = os.path.join('record', CONFIG.experiment_name)\n",
        "os.makedirs(CONFIG.save_dir, exist_ok=True)\n",
        "\n",
        "# Setup logging\n",
        "logging.basicConfig(\n",
        "    filename=os.path.join(CONFIG.save_dir, 'log.txt'),\n",
        "    format='%(message)s',\n",
        "    level=logging.INFO,\n",
        "    filemode='a'\n",
        ")\n",
        "\n",
        "# Set experiment's device & deterministic behavior\n",
        "if CONFIG.cpu:\n",
        "    CONFIG.device = 'cpu'\n",
        "else:\n",
        "    CONFIG.device = 'cuda' if torch.cuda.is_available() else 'cpu'\n",
        "\n",
        "torch.manual_seed(CONFIG.seed)\n",
        "random.seed(CONFIG.seed)\n",
        "np.random.seed(CONFIG.seed)\n",
        "torch.backends.cudnn.benchmark = True\n",
        "torch.use_deterministic_algorithms(mode=True, warn_only=True)\n",
        "\n",
        "main()"
      ]
    },
    {
      "cell_type": "markdown",
      "metadata": {
        "id": "I6DwExmkXxx9"
      },
      "source": [
        "##### 1.1.9.3 - Photo"
      ]
    },
    {
      "cell_type": "code",
      "execution_count": null,
      "metadata": {
        "id": "Pc4nEsc1Xxx9",
        "vscode": {
          "languageId": "python"
        }
      },
      "outputs": [],
      "source": [
        "warnings.filterwarnings('ignore', category=UserWarning)\n",
        "\n",
        "# Parse arguments\n",
        "conf = configurations['1.1.9.3']\n",
        "\n",
        "#args = parse_arguments()\n",
        "args = argparse.Namespace(**conf)\n",
        "print(args)\n",
        "CONFIG.update(vars(args))\n",
        "\n",
        "# Setup output directory\n",
        "CONFIG.save_dir = os.path.join('record', CONFIG.experiment_name)\n",
        "os.makedirs(CONFIG.save_dir, exist_ok=True)\n",
        "\n",
        "# Setup logging\n",
        "logging.basicConfig(\n",
        "    filename=os.path.join(CONFIG.save_dir, 'log.txt'),\n",
        "    format='%(message)s',\n",
        "    level=logging.INFO,\n",
        "    filemode='a'\n",
        ")\n",
        "\n",
        "# Set experiment's device & deterministic behavior\n",
        "if CONFIG.cpu:\n",
        "    CONFIG.device = 'cpu'\n",
        "else:\n",
        "    CONFIG.device = 'cuda' if torch.cuda.is_available() else 'cpu'\n",
        "\n",
        "torch.manual_seed(CONFIG.seed)\n",
        "random.seed(CONFIG.seed)\n",
        "np.random.seed(CONFIG.seed)\n",
        "torch.backends.cudnn.benchmark = True\n",
        "torch.use_deterministic_algorithms(mode=True, warn_only=True)\n",
        "\n",
        "main()"
      ]
    },
    {
      "cell_type": "markdown",
      "metadata": {
        "id": "DNmU7vLRXxx9"
      },
      "source": [
        "#### 1.1.10 - ASH module after layer2.0.relu"
      ]
    },
    {
      "cell_type": "markdown",
      "metadata": {
        "id": "Q81JgoJrXxx9"
      },
      "source": [
        "##### 1.1.10.1 - Cartoon"
      ]
    },
    {
      "cell_type": "code",
      "execution_count": null,
      "metadata": {
        "id": "ueCghjPsXxx-",
        "vscode": {
          "languageId": "python"
        }
      },
      "outputs": [],
      "source": [
        "warnings.filterwarnings('ignore', category=UserWarning)\n",
        "\n",
        "# Parse arguments\n",
        "conf = configurations['1.1.10.1']\n",
        "\n",
        "#args = parse_arguments()\n",
        "args = argparse.Namespace(**conf)\n",
        "print(args)\n",
        "CONFIG.update(vars(args))\n",
        "\n",
        "# Setup output directory\n",
        "CONFIG.save_dir = os.path.join('record', CONFIG.experiment_name)\n",
        "os.makedirs(CONFIG.save_dir, exist_ok=True)\n",
        "\n",
        "# Setup logging\n",
        "logging.basicConfig(\n",
        "    filename=os.path.join(CONFIG.save_dir, 'log.txt'),\n",
        "    format='%(message)s',\n",
        "    level=logging.INFO,\n",
        "    filemode='a'\n",
        ")\n",
        "\n",
        "# Set experiment's device & deterministic behavior\n",
        "if CONFIG.cpu:\n",
        "    CONFIG.device = 'cpu'\n",
        "else:\n",
        "    CONFIG.device = 'cuda' if torch.cuda.is_available() else 'cpu'\n",
        "\n",
        "torch.manual_seed(CONFIG.seed)\n",
        "random.seed(CONFIG.seed)\n",
        "np.random.seed(CONFIG.seed)\n",
        "torch.backends.cudnn.benchmark = True\n",
        "torch.use_deterministic_algorithms(mode=True, warn_only=True)\n",
        "\n",
        "main()"
      ]
    },
    {
      "cell_type": "markdown",
      "metadata": {
        "id": "fCbOW9JvXxx-"
      },
      "source": [
        "##### 1.1.10.2 - Sketch"
      ]
    },
    {
      "cell_type": "code",
      "execution_count": null,
      "metadata": {
        "id": "KICyH7BFXxx-",
        "vscode": {
          "languageId": "python"
        }
      },
      "outputs": [],
      "source": [
        "warnings.filterwarnings('ignore', category=UserWarning)\n",
        "\n",
        "# Parse arguments\n",
        "conf = configurations['1.1.10.2']\n",
        "\n",
        "#args = parse_arguments()\n",
        "args = argparse.Namespace(**conf)\n",
        "print(args)\n",
        "CONFIG.update(vars(args))\n",
        "\n",
        "# Setup output directory\n",
        "CONFIG.save_dir = os.path.join('record', CONFIG.experiment_name)\n",
        "os.makedirs(CONFIG.save_dir, exist_ok=True)\n",
        "\n",
        "# Setup logging\n",
        "logging.basicConfig(\n",
        "    filename=os.path.join(CONFIG.save_dir, 'log.txt'),\n",
        "    format='%(message)s',\n",
        "    level=logging.INFO,\n",
        "    filemode='a'\n",
        ")\n",
        "\n",
        "# Set experiment's device & deterministic behavior\n",
        "if CONFIG.cpu:\n",
        "    CONFIG.device = 'cpu'\n",
        "else:\n",
        "    CONFIG.device = 'cuda' if torch.cuda.is_available() else 'cpu'\n",
        "\n",
        "torch.manual_seed(CONFIG.seed)\n",
        "random.seed(CONFIG.seed)\n",
        "np.random.seed(CONFIG.seed)\n",
        "torch.backends.cudnn.benchmark = True\n",
        "torch.use_deterministic_algorithms(mode=True, warn_only=True)\n",
        "\n",
        "main()"
      ]
    },
    {
      "cell_type": "markdown",
      "metadata": {
        "id": "kWCo_ohHXxx-"
      },
      "source": [
        "##### 1.1.10.3 - Photo"
      ]
    },
    {
      "cell_type": "code",
      "execution_count": null,
      "metadata": {
        "id": "Z8RnUR4KXxx-",
        "vscode": {
          "languageId": "python"
        }
      },
      "outputs": [],
      "source": [
        "warnings.filterwarnings('ignore', category=UserWarning)\n",
        "\n",
        "# Parse arguments\n",
        "conf = configurations['1.1.10.3']\n",
        "\n",
        "#args = parse_arguments()\n",
        "args = argparse.Namespace(**conf)\n",
        "print(args)\n",
        "CONFIG.update(vars(args))\n",
        "\n",
        "# Setup output directory\n",
        "CONFIG.save_dir = os.path.join('record', CONFIG.experiment_name)\n",
        "os.makedirs(CONFIG.save_dir, exist_ok=True)\n",
        "\n",
        "# Setup logging\n",
        "logging.basicConfig(\n",
        "    filename=os.path.join(CONFIG.save_dir, 'log.txt'),\n",
        "    format='%(message)s',\n",
        "    level=logging.INFO,\n",
        "    filemode='a'\n",
        ")\n",
        "\n",
        "# Set experiment's device & deterministic behavior\n",
        "if CONFIG.cpu:\n",
        "    CONFIG.device = 'cpu'\n",
        "else:\n",
        "    CONFIG.device = 'cuda' if torch.cuda.is_available() else 'cpu'\n",
        "\n",
        "torch.manual_seed(CONFIG.seed)\n",
        "random.seed(CONFIG.seed)\n",
        "np.random.seed(CONFIG.seed)\n",
        "torch.backends.cudnn.benchmark = True\n",
        "torch.use_deterministic_algorithms(mode=True, warn_only=True)\n",
        "\n",
        "main()"
      ]
    },
    {
      "cell_type": "markdown",
      "metadata": {
        "id": "nsTBtwp2Xxx-"
      },
      "source": [
        "#### 1.1.11 - ASH module after layer2.0.conv2"
      ]
    },
    {
      "cell_type": "markdown",
      "metadata": {
        "id": "1keI5nDgXxx-"
      },
      "source": [
        "##### 1.1.11.1 - Cartoon"
      ]
    },
    {
      "cell_type": "code",
      "execution_count": null,
      "metadata": {
        "id": "LBFeMwr5Xxx_",
        "vscode": {
          "languageId": "python"
        }
      },
      "outputs": [],
      "source": [
        "warnings.filterwarnings('ignore', category=UserWarning)\n",
        "\n",
        "# Parse arguments\n",
        "conf = configurations['1.1.11.1']\n",
        "\n",
        "#args = parse_arguments()\n",
        "args = argparse.Namespace(**conf)\n",
        "print(args)\n",
        "CONFIG.update(vars(args))\n",
        "\n",
        "# Setup output directory\n",
        "CONFIG.save_dir = os.path.join('record', CONFIG.experiment_name)\n",
        "os.makedirs(CONFIG.save_dir, exist_ok=True)\n",
        "\n",
        "# Setup logging\n",
        "logging.basicConfig(\n",
        "    filename=os.path.join(CONFIG.save_dir, 'log.txt'),\n",
        "    format='%(message)s',\n",
        "    level=logging.INFO,\n",
        "    filemode='a'\n",
        ")\n",
        "\n",
        "# Set experiment's device & deterministic behavior\n",
        "if CONFIG.cpu:\n",
        "    CONFIG.device = 'cpu'\n",
        "else:\n",
        "    CONFIG.device = 'cuda' if torch.cuda.is_available() else 'cpu'\n",
        "\n",
        "torch.manual_seed(CONFIG.seed)\n",
        "random.seed(CONFIG.seed)\n",
        "np.random.seed(CONFIG.seed)\n",
        "torch.backends.cudnn.benchmark = True\n",
        "torch.use_deterministic_algorithms(mode=True, warn_only=True)\n",
        "\n",
        "main()"
      ]
    },
    {
      "cell_type": "markdown",
      "metadata": {
        "id": "FJ2c1DecXxx_"
      },
      "source": [
        "##### 1.1.11.2 - Sketch"
      ]
    },
    {
      "cell_type": "code",
      "execution_count": null,
      "metadata": {
        "id": "Vbyb5P_nXxx_",
        "vscode": {
          "languageId": "python"
        }
      },
      "outputs": [],
      "source": [
        "warnings.filterwarnings('ignore', category=UserWarning)\n",
        "\n",
        "# Parse arguments\n",
        "conf = configurations['1.1.11.2']\n",
        "\n",
        "#args = parse_arguments()\n",
        "args = argparse.Namespace(**conf)\n",
        "print(args)\n",
        "CONFIG.update(vars(args))\n",
        "\n",
        "# Setup output directory\n",
        "CONFIG.save_dir = os.path.join('record', CONFIG.experiment_name)\n",
        "os.makedirs(CONFIG.save_dir, exist_ok=True)\n",
        "\n",
        "# Setup logging\n",
        "logging.basicConfig(\n",
        "    filename=os.path.join(CONFIG.save_dir, 'log.txt'),\n",
        "    format='%(message)s',\n",
        "    level=logging.INFO,\n",
        "    filemode='a'\n",
        ")\n",
        "\n",
        "# Set experiment's device & deterministic behavior\n",
        "if CONFIG.cpu:\n",
        "    CONFIG.device = 'cpu'\n",
        "else:\n",
        "    CONFIG.device = 'cuda' if torch.cuda.is_available() else 'cpu'\n",
        "\n",
        "torch.manual_seed(CONFIG.seed)\n",
        "random.seed(CONFIG.seed)\n",
        "np.random.seed(CONFIG.seed)\n",
        "torch.backends.cudnn.benchmark = True\n",
        "torch.use_deterministic_algorithms(mode=True, warn_only=True)\n",
        "\n",
        "main()"
      ]
    },
    {
      "cell_type": "markdown",
      "metadata": {
        "id": "Z9pN8VgAXxx_"
      },
      "source": [
        "##### 1.1.11.3 - Photo"
      ]
    },
    {
      "cell_type": "code",
      "execution_count": null,
      "metadata": {
        "id": "Bm9dEScNXxx_",
        "vscode": {
          "languageId": "python"
        }
      },
      "outputs": [],
      "source": [
        "warnings.filterwarnings('ignore', category=UserWarning)\n",
        "\n",
        "# Parse arguments\n",
        "conf = configurations['1.1.11.3']\n",
        "\n",
        "#args = parse_arguments()\n",
        "args = argparse.Namespace(**conf)\n",
        "print(args)\n",
        "CONFIG.update(vars(args))\n",
        "\n",
        "# Setup output directory\n",
        "CONFIG.save_dir = os.path.join('record', CONFIG.experiment_name)\n",
        "os.makedirs(CONFIG.save_dir, exist_ok=True)\n",
        "\n",
        "# Setup logging\n",
        "logging.basicConfig(\n",
        "    filename=os.path.join(CONFIG.save_dir, 'log.txt'),\n",
        "    format='%(message)s',\n",
        "    level=logging.INFO,\n",
        "    filemode='a'\n",
        ")\n",
        "\n",
        "# Set experiment's device & deterministic behavior\n",
        "if CONFIG.cpu:\n",
        "    CONFIG.device = 'cpu'\n",
        "else:\n",
        "    CONFIG.device = 'cuda' if torch.cuda.is_available() else 'cpu'\n",
        "\n",
        "torch.manual_seed(CONFIG.seed)\n",
        "random.seed(CONFIG.seed)\n",
        "np.random.seed(CONFIG.seed)\n",
        "torch.backends.cudnn.benchmark = True\n",
        "torch.use_deterministic_algorithms(mode=True, warn_only=True)\n",
        "\n",
        "main()"
      ]
    },
    {
      "cell_type": "markdown",
      "metadata": {
        "id": "bSl1Dpb-Xxx_"
      },
      "source": [
        "#### 1.1.12 - ASH module after layer2.1.conv2"
      ]
    },
    {
      "cell_type": "markdown",
      "metadata": {
        "id": "v10a8IgVXxx_"
      },
      "source": [
        "##### 1.1.12.1 - Cartoon"
      ]
    },
    {
      "cell_type": "code",
      "execution_count": null,
      "metadata": {
        "id": "wn63YJY6XxyA",
        "vscode": {
          "languageId": "python"
        }
      },
      "outputs": [],
      "source": [
        "warnings.filterwarnings('ignore', category=UserWarning)\n",
        "\n",
        "# Parse arguments\n",
        "conf = configurations['1.1.12.1']\n",
        "\n",
        "#args = parse_arguments()\n",
        "args = argparse.Namespace(**conf)\n",
        "print(args)\n",
        "CONFIG.update(vars(args))\n",
        "\n",
        "# Setup output directory\n",
        "CONFIG.save_dir = os.path.join('record', CONFIG.experiment_name)\n",
        "os.makedirs(CONFIG.save_dir, exist_ok=True)\n",
        "\n",
        "# Setup logging\n",
        "logging.basicConfig(\n",
        "    filename=os.path.join(CONFIG.save_dir, 'log.txt'),\n",
        "    format='%(message)s',\n",
        "    level=logging.INFO,\n",
        "    filemode='a'\n",
        ")\n",
        "\n",
        "# Set experiment's device & deterministic behavior\n",
        "if CONFIG.cpu:\n",
        "    CONFIG.device = 'cpu'\n",
        "else:\n",
        "    CONFIG.device = 'cuda' if torch.cuda.is_available() else 'cpu'\n",
        "\n",
        "torch.manual_seed(CONFIG.seed)\n",
        "random.seed(CONFIG.seed)\n",
        "np.random.seed(CONFIG.seed)\n",
        "torch.backends.cudnn.benchmark = True\n",
        "torch.use_deterministic_algorithms(mode=True, warn_only=True)\n",
        "\n",
        "main()"
      ]
    },
    {
      "cell_type": "markdown",
      "metadata": {
        "id": "V8soSDKtXxyA"
      },
      "source": [
        "##### 1.1.12.2 - Sketch"
      ]
    },
    {
      "cell_type": "code",
      "execution_count": null,
      "metadata": {
        "id": "0GR8gjTfXxyA",
        "vscode": {
          "languageId": "python"
        }
      },
      "outputs": [],
      "source": [
        "warnings.filterwarnings('ignore', category=UserWarning)\n",
        "\n",
        "# Parse arguments\n",
        "conf = configurations['1.1.12.2']\n",
        "\n",
        "#args = parse_arguments()\n",
        "args = argparse.Namespace(**conf)\n",
        "print(args)\n",
        "CONFIG.update(vars(args))\n",
        "\n",
        "# Setup output directory\n",
        "CONFIG.save_dir = os.path.join('record', CONFIG.experiment_name)\n",
        "os.makedirs(CONFIG.save_dir, exist_ok=True)\n",
        "\n",
        "# Setup logging\n",
        "logging.basicConfig(\n",
        "    filename=os.path.join(CONFIG.save_dir, 'log.txt'),\n",
        "    format='%(message)s',\n",
        "    level=logging.INFO,\n",
        "    filemode='a'\n",
        ")\n",
        "\n",
        "# Set experiment's device & deterministic behavior\n",
        "if CONFIG.cpu:\n",
        "    CONFIG.device = 'cpu'\n",
        "else:\n",
        "    CONFIG.device = 'cuda' if torch.cuda.is_available() else 'cpu'\n",
        "\n",
        "torch.manual_seed(CONFIG.seed)\n",
        "random.seed(CONFIG.seed)\n",
        "np.random.seed(CONFIG.seed)\n",
        "torch.backends.cudnn.benchmark = True\n",
        "torch.use_deterministic_algorithms(mode=True, warn_only=True)\n",
        "\n",
        "main()"
      ]
    },
    {
      "cell_type": "markdown",
      "metadata": {
        "id": "uNnZ0OSwXxyA"
      },
      "source": [
        "##### 1.1.12.3 - Photo"
      ]
    },
    {
      "cell_type": "code",
      "execution_count": null,
      "metadata": {
        "id": "s-dHvemGXxyA",
        "vscode": {
          "languageId": "python"
        }
      },
      "outputs": [],
      "source": [
        "warnings.filterwarnings('ignore', category=UserWarning)\n",
        "\n",
        "# Parse arguments\n",
        "conf = configurations['1.1.12.3']\n",
        "\n",
        "#args = parse_arguments()\n",
        "args = argparse.Namespace(**conf)\n",
        "print(args)\n",
        "CONFIG.update(vars(args))\n",
        "\n",
        "# Setup output directory\n",
        "CONFIG.save_dir = os.path.join('record', CONFIG.experiment_name)\n",
        "os.makedirs(CONFIG.save_dir, exist_ok=True)\n",
        "\n",
        "# Setup logging\n",
        "logging.basicConfig(\n",
        "    filename=os.path.join(CONFIG.save_dir, 'log.txt'),\n",
        "    format='%(message)s',\n",
        "    level=logging.INFO,\n",
        "    filemode='a'\n",
        ")\n",
        "\n",
        "# Set experiment's device & deterministic behavior\n",
        "if CONFIG.cpu:\n",
        "    CONFIG.device = 'cpu'\n",
        "else:\n",
        "    CONFIG.device = 'cuda' if torch.cuda.is_available() else 'cpu'\n",
        "\n",
        "torch.manual_seed(CONFIG.seed)\n",
        "random.seed(CONFIG.seed)\n",
        "np.random.seed(CONFIG.seed)\n",
        "torch.backends.cudnn.benchmark = True\n",
        "torch.use_deterministic_algorithms(mode=True, warn_only=True)\n",
        "\n",
        "main()"
      ]
    },
    {
      "cell_type": "markdown",
      "metadata": {
        "id": "h1P4n6ooXxyB"
      },
      "source": [
        "#### 1.1.13 - ASH module after layer2.1.relu"
      ]
    },
    {
      "cell_type": "markdown",
      "metadata": {
        "id": "5t-h1ZwlXxyB"
      },
      "source": [
        "##### 1.1.13.1 - Cartoon"
      ]
    },
    {
      "cell_type": "code",
      "execution_count": null,
      "metadata": {
        "id": "uZIlTeJsXxyB",
        "vscode": {
          "languageId": "python"
        }
      },
      "outputs": [],
      "source": [
        "warnings.filterwarnings('ignore', category=UserWarning)\n",
        "\n",
        "# Parse arguments\n",
        "conf = configurations['1.1.13.1']\n",
        "\n",
        "#args = parse_arguments()\n",
        "args = argparse.Namespace(**conf)\n",
        "print(args)\n",
        "CONFIG.update(vars(args))\n",
        "\n",
        "# Setup output directory\n",
        "CONFIG.save_dir = os.path.join('record', CONFIG.experiment_name)\n",
        "os.makedirs(CONFIG.save_dir, exist_ok=True)\n",
        "\n",
        "# Setup logging\n",
        "logging.basicConfig(\n",
        "    filename=os.path.join(CONFIG.save_dir, 'log.txt'),\n",
        "    format='%(message)s',\n",
        "    level=logging.INFO,\n",
        "    filemode='a'\n",
        ")\n",
        "\n",
        "# Set experiment's device & deterministic behavior\n",
        "if CONFIG.cpu:\n",
        "    CONFIG.device = 'cpu'\n",
        "else:\n",
        "    CONFIG.device = 'cuda' if torch.cuda.is_available() else 'cpu'\n",
        "\n",
        "torch.manual_seed(CONFIG.seed)\n",
        "random.seed(CONFIG.seed)\n",
        "np.random.seed(CONFIG.seed)\n",
        "torch.backends.cudnn.benchmark = True\n",
        "torch.use_deterministic_algorithms(mode=True, warn_only=True)\n",
        "\n",
        "main()"
      ]
    },
    {
      "cell_type": "markdown",
      "metadata": {
        "id": "q56bm2qqXxyC"
      },
      "source": [
        "##### 1.1.13.2 - Sketch"
      ]
    },
    {
      "cell_type": "code",
      "execution_count": null,
      "metadata": {
        "id": "tHx-wjWeXxyC",
        "vscode": {
          "languageId": "python"
        }
      },
      "outputs": [],
      "source": [
        "warnings.filterwarnings('ignore', category=UserWarning)\n",
        "\n",
        "# Parse arguments\n",
        "conf = configurations['1.1.13.2']\n",
        "\n",
        "#args = parse_arguments()\n",
        "args = argparse.Namespace(**conf)\n",
        "print(args)\n",
        "CONFIG.update(vars(args))\n",
        "\n",
        "# Setup output directory\n",
        "CONFIG.save_dir = os.path.join('record', CONFIG.experiment_name)\n",
        "os.makedirs(CONFIG.save_dir, exist_ok=True)\n",
        "\n",
        "# Setup logging\n",
        "logging.basicConfig(\n",
        "    filename=os.path.join(CONFIG.save_dir, 'log.txt'),\n",
        "    format='%(message)s',\n",
        "    level=logging.INFO,\n",
        "    filemode='a'\n",
        ")\n",
        "\n",
        "# Set experiment's device & deterministic behavior\n",
        "if CONFIG.cpu:\n",
        "    CONFIG.device = 'cpu'\n",
        "else:\n",
        "    CONFIG.device = 'cuda' if torch.cuda.is_available() else 'cpu'\n",
        "\n",
        "torch.manual_seed(CONFIG.seed)\n",
        "random.seed(CONFIG.seed)\n",
        "np.random.seed(CONFIG.seed)\n",
        "torch.backends.cudnn.benchmark = True\n",
        "torch.use_deterministic_algorithms(mode=True, warn_only=True)\n",
        "\n",
        "main()"
      ]
    },
    {
      "cell_type": "markdown",
      "metadata": {
        "id": "pvev3tFgXxyC"
      },
      "source": [
        "##### 1.1.13.3 - Photo"
      ]
    },
    {
      "cell_type": "code",
      "execution_count": null,
      "metadata": {
        "id": "YUFz_NH9XxyC",
        "vscode": {
          "languageId": "python"
        }
      },
      "outputs": [],
      "source": [
        "warnings.filterwarnings('ignore', category=UserWarning)\n",
        "\n",
        "# Parse arguments\n",
        "conf = configurations['1.1.13.3']\n",
        "\n",
        "#args = parse_arguments()\n",
        "args = argparse.Namespace(**conf)\n",
        "print(args)\n",
        "CONFIG.update(vars(args))\n",
        "\n",
        "# Setup output directory\n",
        "CONFIG.save_dir = os.path.join('record', CONFIG.experiment_name)\n",
        "os.makedirs(CONFIG.save_dir, exist_ok=True)\n",
        "\n",
        "# Setup logging\n",
        "logging.basicConfig(\n",
        "    filename=os.path.join(CONFIG.save_dir, 'log.txt'),\n",
        "    format='%(message)s',\n",
        "    level=logging.INFO,\n",
        "    filemode='a'\n",
        ")\n",
        "\n",
        "# Set experiment's device & deterministic behavior\n",
        "if CONFIG.cpu:\n",
        "    CONFIG.device = 'cpu'\n",
        "else:\n",
        "    CONFIG.device = 'cuda' if torch.cuda.is_available() else 'cpu'\n",
        "\n",
        "torch.manual_seed(CONFIG.seed)\n",
        "random.seed(CONFIG.seed)\n",
        "np.random.seed(CONFIG.seed)\n",
        "torch.backends.cudnn.benchmark = True\n",
        "torch.use_deterministic_algorithms(mode=True, warn_only=True)\n",
        "\n",
        "main()"
      ]
    },
    {
      "cell_type": "markdown",
      "metadata": {
        "id": "ufA1LMtYXxyC"
      },
      "source": [
        "#### 1.1.14 - ASH module after layer2.1.conv2"
      ]
    },
    {
      "cell_type": "markdown",
      "metadata": {
        "id": "J3GJlYubXxyC"
      },
      "source": [
        "##### 1.1.14.1 - Cartoon"
      ]
    },
    {
      "cell_type": "code",
      "execution_count": null,
      "metadata": {
        "id": "j3aBNb0zXxyC",
        "vscode": {
          "languageId": "python"
        }
      },
      "outputs": [],
      "source": [
        "warnings.filterwarnings('ignore', category=UserWarning)\n",
        "\n",
        "# Parse arguments\n",
        "conf = configurations['1.1.14.1']\n",
        "\n",
        "#args = parse_arguments()\n",
        "args = argparse.Namespace(**conf)\n",
        "print(args)\n",
        "CONFIG.update(vars(args))\n",
        "\n",
        "# Setup output directory\n",
        "CONFIG.save_dir = os.path.join('record', CONFIG.experiment_name)\n",
        "os.makedirs(CONFIG.save_dir, exist_ok=True)\n",
        "\n",
        "# Setup logging\n",
        "logging.basicConfig(\n",
        "    filename=os.path.join(CONFIG.save_dir, 'log.txt'),\n",
        "    format='%(message)s',\n",
        "    level=logging.INFO,\n",
        "    filemode='a'\n",
        ")\n",
        "\n",
        "# Set experiment's device & deterministic behavior\n",
        "if CONFIG.cpu:\n",
        "    CONFIG.device = 'cpu'\n",
        "else:\n",
        "    CONFIG.device = 'cuda' if torch.cuda.is_available() else 'cpu'\n",
        "\n",
        "torch.manual_seed(CONFIG.seed)\n",
        "random.seed(CONFIG.seed)\n",
        "np.random.seed(CONFIG.seed)\n",
        "torch.backends.cudnn.benchmark = True\n",
        "torch.use_deterministic_algorithms(mode=True, warn_only=True)\n",
        "\n",
        "main()"
      ]
    },
    {
      "cell_type": "markdown",
      "metadata": {
        "id": "EsN_yO6ZXxyC"
      },
      "source": [
        "##### 1.1.14.2 - Sketch"
      ]
    },
    {
      "cell_type": "code",
      "execution_count": null,
      "metadata": {
        "id": "tjg-54S6XxyC",
        "vscode": {
          "languageId": "python"
        }
      },
      "outputs": [],
      "source": [
        "warnings.filterwarnings('ignore', category=UserWarning)\n",
        "\n",
        "# Parse arguments\n",
        "conf = configurations['1.1.14.2']\n",
        "\n",
        "#args = parse_arguments()\n",
        "args = argparse.Namespace(**conf)\n",
        "print(args)\n",
        "CONFIG.update(vars(args))\n",
        "\n",
        "# Setup output directory\n",
        "CONFIG.save_dir = os.path.join('record', CONFIG.experiment_name)\n",
        "os.makedirs(CONFIG.save_dir, exist_ok=True)\n",
        "\n",
        "# Setup logging\n",
        "logging.basicConfig(\n",
        "    filename=os.path.join(CONFIG.save_dir, 'log.txt'),\n",
        "    format='%(message)s',\n",
        "    level=logging.INFO,\n",
        "    filemode='a'\n",
        ")\n",
        "\n",
        "# Set experiment's device & deterministic behavior\n",
        "if CONFIG.cpu:\n",
        "    CONFIG.device = 'cpu'\n",
        "else:\n",
        "    CONFIG.device = 'cuda' if torch.cuda.is_available() else 'cpu'\n",
        "\n",
        "torch.manual_seed(CONFIG.seed)\n",
        "random.seed(CONFIG.seed)\n",
        "np.random.seed(CONFIG.seed)\n",
        "torch.backends.cudnn.benchmark = True\n",
        "torch.use_deterministic_algorithms(mode=True, warn_only=True)\n",
        "\n",
        "main()"
      ]
    },
    {
      "cell_type": "markdown",
      "metadata": {
        "id": "rCMSez08XxyC"
      },
      "source": [
        "##### 1.1.14.3 - Photo"
      ]
    },
    {
      "cell_type": "code",
      "execution_count": null,
      "metadata": {
        "id": "xlNnAiRiXxyC",
        "vscode": {
          "languageId": "python"
        }
      },
      "outputs": [],
      "source": [
        "warnings.filterwarnings('ignore', category=UserWarning)\n",
        "\n",
        "# Parse arguments\n",
        "conf = configurations['1.1.14.3']\n",
        "\n",
        "#args = parse_arguments()\n",
        "args = argparse.Namespace(**conf)\n",
        "print(args)\n",
        "CONFIG.update(vars(args))\n",
        "\n",
        "# Setup output directory\n",
        "CONFIG.save_dir = os.path.join('record', CONFIG.experiment_name)\n",
        "os.makedirs(CONFIG.save_dir, exist_ok=True)\n",
        "\n",
        "# Setup logging\n",
        "logging.basicConfig(\n",
        "    filename=os.path.join(CONFIG.save_dir, 'log.txt'),\n",
        "    format='%(message)s',\n",
        "    level=logging.INFO,\n",
        "    filemode='a'\n",
        ")\n",
        "\n",
        "# Set experiment's device & deterministic behavior\n",
        "if CONFIG.cpu:\n",
        "    CONFIG.device = 'cpu'\n",
        "else:\n",
        "    CONFIG.device = 'cuda' if torch.cuda.is_available() else 'cpu'\n",
        "\n",
        "torch.manual_seed(CONFIG.seed)\n",
        "random.seed(CONFIG.seed)\n",
        "np.random.seed(CONFIG.seed)\n",
        "torch.backends.cudnn.benchmark = True\n",
        "torch.use_deterministic_algorithms(mode=True, warn_only=True)\n",
        "\n",
        "main()"
      ]
    },
    {
      "cell_type": "markdown",
      "metadata": {
        "id": "tNdeyK-RXxyC"
      },
      "source": [
        "#### 1.1.15 - ASH module after layer3.0.conv1"
      ]
    },
    {
      "cell_type": "markdown",
      "metadata": {
        "id": "XkF3KefdXxyD"
      },
      "source": [
        "##### 1.1.15.1 - Cartoon"
      ]
    },
    {
      "cell_type": "code",
      "execution_count": null,
      "metadata": {
        "id": "PhM4vzDLXxyE",
        "vscode": {
          "languageId": "python"
        }
      },
      "outputs": [],
      "source": [
        "warnings.filterwarnings('ignore', category=UserWarning)\n",
        "\n",
        "# Parse arguments\n",
        "conf = configurations['1.1.15.1']\n",
        "\n",
        "#args = parse_arguments()\n",
        "args = argparse.Namespace(**conf)\n",
        "print(args)\n",
        "CONFIG.update(vars(args))\n",
        "\n",
        "# Setup output directory\n",
        "CONFIG.save_dir = os.path.join('record', CONFIG.experiment_name)\n",
        "os.makedirs(CONFIG.save_dir, exist_ok=True)\n",
        "\n",
        "# Setup logging\n",
        "logging.basicConfig(\n",
        "    filename=os.path.join(CONFIG.save_dir, 'log.txt'),\n",
        "    format='%(message)s',\n",
        "    level=logging.INFO,\n",
        "    filemode='a'\n",
        ")\n",
        "\n",
        "# Set experiment's device & deterministic behavior\n",
        "if CONFIG.cpu:\n",
        "    CONFIG.device = 'cpu'\n",
        "else:\n",
        "    CONFIG.device = 'cuda' if torch.cuda.is_available() else 'cpu'\n",
        "\n",
        "torch.manual_seed(CONFIG.seed)\n",
        "random.seed(CONFIG.seed)\n",
        "np.random.seed(CONFIG.seed)\n",
        "torch.backends.cudnn.benchmark = True\n",
        "torch.use_deterministic_algorithms(mode=True, warn_only=True)\n",
        "\n",
        "main()"
      ]
    },
    {
      "cell_type": "markdown",
      "metadata": {
        "id": "GJnIAoRdXxyE"
      },
      "source": [
        "##### 1.1.15.2 - Sketch"
      ]
    },
    {
      "cell_type": "code",
      "execution_count": null,
      "metadata": {
        "id": "qUPb9CIOXxyE",
        "vscode": {
          "languageId": "python"
        }
      },
      "outputs": [],
      "source": [
        "warnings.filterwarnings('ignore', category=UserWarning)\n",
        "\n",
        "# Parse arguments\n",
        "conf = configurations['1.1.15.2']\n",
        "\n",
        "#args = parse_arguments()\n",
        "args = argparse.Namespace(**conf)\n",
        "print(args)\n",
        "CONFIG.update(vars(args))\n",
        "\n",
        "# Setup output directory\n",
        "CONFIG.save_dir = os.path.join('record', CONFIG.experiment_name)\n",
        "os.makedirs(CONFIG.save_dir, exist_ok=True)\n",
        "\n",
        "# Setup logging\n",
        "logging.basicConfig(\n",
        "    filename=os.path.join(CONFIG.save_dir, 'log.txt'),\n",
        "    format='%(message)s',\n",
        "    level=logging.INFO,\n",
        "    filemode='a'\n",
        ")\n",
        "\n",
        "# Set experiment's device & deterministic behavior\n",
        "if CONFIG.cpu:\n",
        "    CONFIG.device = 'cpu'\n",
        "else:\n",
        "    CONFIG.device = 'cuda' if torch.cuda.is_available() else 'cpu'\n",
        "\n",
        "torch.manual_seed(CONFIG.seed)\n",
        "random.seed(CONFIG.seed)\n",
        "np.random.seed(CONFIG.seed)\n",
        "torch.backends.cudnn.benchmark = True\n",
        "torch.use_deterministic_algorithms(mode=True, warn_only=True)\n",
        "\n",
        "main()"
      ]
    },
    {
      "cell_type": "markdown",
      "metadata": {
        "id": "uofshYpEXxyE"
      },
      "source": [
        "##### 1.1.15.3 - Photo"
      ]
    },
    {
      "cell_type": "code",
      "execution_count": null,
      "metadata": {
        "id": "fPmpULTqXxyE",
        "vscode": {
          "languageId": "python"
        }
      },
      "outputs": [],
      "source": [
        "warnings.filterwarnings('ignore', category=UserWarning)\n",
        "\n",
        "# Parse arguments\n",
        "conf = configurations['1.1.15.3']\n",
        "\n",
        "#args = parse_arguments()\n",
        "args = argparse.Namespace(**conf)\n",
        "print(args)\n",
        "CONFIG.update(vars(args))\n",
        "\n",
        "# Setup output directory\n",
        "CONFIG.save_dir = os.path.join('record', CONFIG.experiment_name)\n",
        "os.makedirs(CONFIG.save_dir, exist_ok=True)\n",
        "\n",
        "# Setup logging\n",
        "logging.basicConfig(\n",
        "    filename=os.path.join(CONFIG.save_dir, 'log.txt'),\n",
        "    format='%(message)s',\n",
        "    level=logging.INFO,\n",
        "    filemode='a'\n",
        ")\n",
        "\n",
        "# Set experiment's device & deterministic behavior\n",
        "if CONFIG.cpu:\n",
        "    CONFIG.device = 'cpu'\n",
        "else:\n",
        "    CONFIG.device = 'cuda' if torch.cuda.is_available() else 'cpu'\n",
        "\n",
        "torch.manual_seed(CONFIG.seed)\n",
        "random.seed(CONFIG.seed)\n",
        "np.random.seed(CONFIG.seed)\n",
        "torch.backends.cudnn.benchmark = True\n",
        "torch.use_deterministic_algorithms(mode=True, warn_only=True)\n",
        "\n",
        "main()"
      ]
    },
    {
      "cell_type": "markdown",
      "metadata": {
        "id": "0FMQXcKXXxyE"
      },
      "source": [
        "#### 1.1.16 - ASH module after layer3.0.relu"
      ]
    },
    {
      "cell_type": "markdown",
      "metadata": {
        "id": "3jWes4uxXxyE"
      },
      "source": [
        "##### 1.1.16.1 - Cartoon"
      ]
    },
    {
      "cell_type": "code",
      "execution_count": null,
      "metadata": {
        "id": "OYzojC2IXxyE",
        "vscode": {
          "languageId": "python"
        }
      },
      "outputs": [],
      "source": [
        "warnings.filterwarnings('ignore', category=UserWarning)\n",
        "\n",
        "# Parse arguments\n",
        "conf = configurations['1.1.16.1']\n",
        "\n",
        "#args = parse_arguments()\n",
        "args = argparse.Namespace(**conf)\n",
        "print(args)\n",
        "CONFIG.update(vars(args))\n",
        "\n",
        "# Setup output directory\n",
        "CONFIG.save_dir = os.path.join('record', CONFIG.experiment_name)\n",
        "os.makedirs(CONFIG.save_dir, exist_ok=True)\n",
        "\n",
        "# Setup logging\n",
        "logging.basicConfig(\n",
        "    filename=os.path.join(CONFIG.save_dir, 'log.txt'),\n",
        "    format='%(message)s',\n",
        "    level=logging.INFO,\n",
        "    filemode='a'\n",
        ")\n",
        "\n",
        "# Set experiment's device & deterministic behavior\n",
        "if CONFIG.cpu:\n",
        "    CONFIG.device = 'cpu'\n",
        "else:\n",
        "    CONFIG.device = 'cuda' if torch.cuda.is_available() else 'cpu'\n",
        "\n",
        "torch.manual_seed(CONFIG.seed)\n",
        "random.seed(CONFIG.seed)\n",
        "np.random.seed(CONFIG.seed)\n",
        "torch.backends.cudnn.benchmark = True\n",
        "torch.use_deterministic_algorithms(mode=True, warn_only=True)\n",
        "\n",
        "main()"
      ]
    },
    {
      "cell_type": "markdown",
      "metadata": {
        "id": "XRTT4VTpXxyF"
      },
      "source": [
        "##### 1.1.16.2 - Sketch"
      ]
    },
    {
      "cell_type": "code",
      "execution_count": null,
      "metadata": {
        "id": "gOfAANgNXxyF",
        "vscode": {
          "languageId": "python"
        }
      },
      "outputs": [],
      "source": [
        "warnings.filterwarnings('ignore', category=UserWarning)\n",
        "\n",
        "# Parse arguments\n",
        "conf = configurations['1.1.16.2']\n",
        "\n",
        "#args = parse_arguments()\n",
        "args = argparse.Namespace(**conf)\n",
        "print(args)\n",
        "CONFIG.update(vars(args))\n",
        "\n",
        "# Setup output directory\n",
        "CONFIG.save_dir = os.path.join('record', CONFIG.experiment_name)\n",
        "os.makedirs(CONFIG.save_dir, exist_ok=True)\n",
        "\n",
        "# Setup logging\n",
        "logging.basicConfig(\n",
        "    filename=os.path.join(CONFIG.save_dir, 'log.txt'),\n",
        "    format='%(message)s',\n",
        "    level=logging.INFO,\n",
        "    filemode='a'\n",
        ")\n",
        "\n",
        "# Set experiment's device & deterministic behavior\n",
        "if CONFIG.cpu:\n",
        "    CONFIG.device = 'cpu'\n",
        "else:\n",
        "    CONFIG.device = 'cuda' if torch.cuda.is_available() else 'cpu'\n",
        "\n",
        "torch.manual_seed(CONFIG.seed)\n",
        "random.seed(CONFIG.seed)\n",
        "np.random.seed(CONFIG.seed)\n",
        "torch.backends.cudnn.benchmark = True\n",
        "torch.use_deterministic_algorithms(mode=True, warn_only=True)\n",
        "\n",
        "main()"
      ]
    },
    {
      "cell_type": "markdown",
      "metadata": {
        "id": "BcXwuNi0XxyF"
      },
      "source": [
        "##### 1.1.16.3 - Photo"
      ]
    },
    {
      "cell_type": "code",
      "execution_count": null,
      "metadata": {
        "id": "zmo11O1HXxyF",
        "vscode": {
          "languageId": "python"
        }
      },
      "outputs": [],
      "source": [
        "warnings.filterwarnings('ignore', category=UserWarning)\n",
        "\n",
        "# Parse arguments\n",
        "conf = configurations['1.1.16.3']\n",
        "\n",
        "#args = parse_arguments()\n",
        "args = argparse.Namespace(**conf)\n",
        "print(args)\n",
        "CONFIG.update(vars(args))\n",
        "\n",
        "# Setup output directory\n",
        "CONFIG.save_dir = os.path.join('record', CONFIG.experiment_name)\n",
        "os.makedirs(CONFIG.save_dir, exist_ok=True)\n",
        "\n",
        "# Setup logging\n",
        "logging.basicConfig(\n",
        "    filename=os.path.join(CONFIG.save_dir, 'log.txt'),\n",
        "    format='%(message)s',\n",
        "    level=logging.INFO,\n",
        "    filemode='a'\n",
        ")\n",
        "\n",
        "# Set experiment's device & deterministic behavior\n",
        "if CONFIG.cpu:\n",
        "    CONFIG.device = 'cpu'\n",
        "else:\n",
        "    CONFIG.device = 'cuda' if torch.cuda.is_available() else 'cpu'\n",
        "\n",
        "torch.manual_seed(CONFIG.seed)\n",
        "random.seed(CONFIG.seed)\n",
        "np.random.seed(CONFIG.seed)\n",
        "torch.backends.cudnn.benchmark = True\n",
        "torch.use_deterministic_algorithms(mode=True, warn_only=True)\n",
        "\n",
        "main()"
      ]
    },
    {
      "cell_type": "markdown",
      "metadata": {
        "id": "G90uB-JJEfN0"
      },
      "source": [
        "#### 1.1.17 - ASH module after layer3.0.conv2"
      ]
    },
    {
      "cell_type": "markdown",
      "metadata": {
        "id": "V9uLicxhEfN0"
      },
      "source": [
        "##### 1.1.17.1 - Cartoon"
      ]
    },
    {
      "cell_type": "code",
      "execution_count": null,
      "metadata": {
        "vscode": {
          "languageId": "python"
        },
        "id": "H3uKKF9MEfN0"
      },
      "outputs": [],
      "source": [
        "warnings.filterwarnings('ignore', category=UserWarning)\n",
        "\n",
        "# Parse arguments\n",
        "conf = configurations['1.1.17.1']\n",
        "\n",
        "#args = parse_arguments()\n",
        "args = argparse.Namespace(**conf)\n",
        "print(args)\n",
        "CONFIG.update(vars(args))\n",
        "\n",
        "# Setup output directory\n",
        "CONFIG.save_dir = os.path.join('record', CONFIG.experiment_name)\n",
        "os.makedirs(CONFIG.save_dir, exist_ok=True)\n",
        "\n",
        "# Setup logging\n",
        "logging.basicConfig(\n",
        "    filename=os.path.join(CONFIG.save_dir, 'log.txt'),\n",
        "    format='%(message)s',\n",
        "    level=logging.INFO,\n",
        "    filemode='a'\n",
        ")\n",
        "\n",
        "# Set experiment's device & deterministic behavior\n",
        "if CONFIG.cpu:\n",
        "    CONFIG.device = 'cpu'\n",
        "else:\n",
        "    CONFIG.device = 'cuda' if torch.cuda.is_available() else 'cpu'\n",
        "\n",
        "torch.manual_seed(CONFIG.seed)\n",
        "random.seed(CONFIG.seed)\n",
        "np.random.seed(CONFIG.seed)\n",
        "torch.backends.cudnn.benchmark = True\n",
        "torch.use_deterministic_algorithms(mode=True, warn_only=True)\n",
        "\n",
        "main()"
      ]
    },
    {
      "cell_type": "markdown",
      "metadata": {
        "id": "a_ifSeVIEfN0"
      },
      "source": [
        "##### 1.1.17.2 - Sketch"
      ]
    },
    {
      "cell_type": "code",
      "execution_count": null,
      "metadata": {
        "vscode": {
          "languageId": "python"
        },
        "id": "N_Acyl1PEfN1"
      },
      "outputs": [],
      "source": [
        "warnings.filterwarnings('ignore', category=UserWarning)\n",
        "\n",
        "# Parse arguments\n",
        "conf = configurations['1.1.17.2']\n",
        "\n",
        "#args = parse_arguments()\n",
        "args = argparse.Namespace(**conf)\n",
        "print(args)\n",
        "CONFIG.update(vars(args))\n",
        "\n",
        "# Setup output directory\n",
        "CONFIG.save_dir = os.path.join('record', CONFIG.experiment_name)\n",
        "os.makedirs(CONFIG.save_dir, exist_ok=True)\n",
        "\n",
        "# Setup logging\n",
        "logging.basicConfig(\n",
        "    filename=os.path.join(CONFIG.save_dir, 'log.txt'),\n",
        "    format='%(message)s',\n",
        "    level=logging.INFO,\n",
        "    filemode='a'\n",
        ")\n",
        "\n",
        "# Set experiment's device & deterministic behavior\n",
        "if CONFIG.cpu:\n",
        "    CONFIG.device = 'cpu'\n",
        "else:\n",
        "    CONFIG.device = 'cuda' if torch.cuda.is_available() else 'cpu'\n",
        "\n",
        "torch.manual_seed(CONFIG.seed)\n",
        "random.seed(CONFIG.seed)\n",
        "np.random.seed(CONFIG.seed)\n",
        "torch.backends.cudnn.benchmark = True\n",
        "torch.use_deterministic_algorithms(mode=True, warn_only=True)\n",
        "\n",
        "main()"
      ]
    },
    {
      "cell_type": "markdown",
      "metadata": {
        "id": "aI9BfWXYEfN1"
      },
      "source": [
        "##### 1.1.17.3 - Photo"
      ]
    },
    {
      "cell_type": "code",
      "execution_count": null,
      "metadata": {
        "vscode": {
          "languageId": "python"
        },
        "id": "3A_aVFiWEfN2"
      },
      "outputs": [],
      "source": [
        "warnings.filterwarnings('ignore', category=UserWarning)\n",
        "\n",
        "# Parse arguments\n",
        "conf = configurations['1.1.17.3']\n",
        "\n",
        "#args = parse_arguments()\n",
        "args = argparse.Namespace(**conf)\n",
        "print(args)\n",
        "CONFIG.update(vars(args))\n",
        "\n",
        "# Setup output directory\n",
        "CONFIG.save_dir = os.path.join('record', CONFIG.experiment_name)\n",
        "os.makedirs(CONFIG.save_dir, exist_ok=True)\n",
        "\n",
        "# Setup logging\n",
        "logging.basicConfig(\n",
        "    filename=os.path.join(CONFIG.save_dir, 'log.txt'),\n",
        "    format='%(message)s',\n",
        "    level=logging.INFO,\n",
        "    filemode='a'\n",
        ")\n",
        "\n",
        "# Set experiment's device & deterministic behavior\n",
        "if CONFIG.cpu:\n",
        "    CONFIG.device = 'cpu'\n",
        "else:\n",
        "    CONFIG.device = 'cuda' if torch.cuda.is_available() else 'cpu'\n",
        "\n",
        "torch.manual_seed(CONFIG.seed)\n",
        "random.seed(CONFIG.seed)\n",
        "np.random.seed(CONFIG.seed)\n",
        "torch.backends.cudnn.benchmark = True\n",
        "torch.use_deterministic_algorithms(mode=True, warn_only=True)\n",
        "\n",
        "main()"
      ]
    },
    {
      "cell_type": "markdown",
      "metadata": {
        "id": "1K2qCdkHEfN2"
      },
      "source": [
        "#### 1.1.18 - ASH module after layer3.1.conv1"
      ]
    },
    {
      "cell_type": "markdown",
      "metadata": {
        "id": "j_xs2mcaEfN2"
      },
      "source": [
        "##### 1.1.18.1 - Cartoon"
      ]
    },
    {
      "cell_type": "code",
      "execution_count": null,
      "metadata": {
        "vscode": {
          "languageId": "python"
        },
        "id": "51ZMj8ojEfN2"
      },
      "outputs": [],
      "source": [
        "warnings.filterwarnings('ignore', category=UserWarning)\n",
        "\n",
        "# Parse arguments\n",
        "conf = configurations['1.1.18.1']\n",
        "\n",
        "#args = parse_arguments()\n",
        "args = argparse.Namespace(**conf)\n",
        "print(args)\n",
        "CONFIG.update(vars(args))\n",
        "\n",
        "# Setup output directory\n",
        "CONFIG.save_dir = os.path.join('record', CONFIG.experiment_name)\n",
        "os.makedirs(CONFIG.save_dir, exist_ok=True)\n",
        "\n",
        "# Setup logging\n",
        "logging.basicConfig(\n",
        "    filename=os.path.join(CONFIG.save_dir, 'log.txt'),\n",
        "    format='%(message)s',\n",
        "    level=logging.INFO,\n",
        "    filemode='a'\n",
        ")\n",
        "\n",
        "# Set experiment's device & deterministic behavior\n",
        "if CONFIG.cpu:\n",
        "    CONFIG.device = 'cpu'\n",
        "else:\n",
        "    CONFIG.device = 'cuda' if torch.cuda.is_available() else 'cpu'\n",
        "\n",
        "torch.manual_seed(CONFIG.seed)\n",
        "random.seed(CONFIG.seed)\n",
        "np.random.seed(CONFIG.seed)\n",
        "torch.backends.cudnn.benchmark = True\n",
        "torch.use_deterministic_algorithms(mode=True, warn_only=True)\n",
        "\n",
        "main()"
      ]
    },
    {
      "cell_type": "markdown",
      "metadata": {
        "id": "KyHZMbO5EfN2"
      },
      "source": [
        "##### 1.1.18.2 - Sketch"
      ]
    },
    {
      "cell_type": "code",
      "execution_count": null,
      "metadata": {
        "vscode": {
          "languageId": "python"
        },
        "id": "abO06ytgEfN2"
      },
      "outputs": [],
      "source": [
        "warnings.filterwarnings('ignore', category=UserWarning)\n",
        "\n",
        "# Parse arguments\n",
        "conf = configurations['1.1.18.2']\n",
        "\n",
        "#args = parse_arguments()\n",
        "args = argparse.Namespace(**conf)\n",
        "print(args)\n",
        "CONFIG.update(vars(args))\n",
        "\n",
        "# Setup output directory\n",
        "CONFIG.save_dir = os.path.join('record', CONFIG.experiment_name)\n",
        "os.makedirs(CONFIG.save_dir, exist_ok=True)\n",
        "\n",
        "# Setup logging\n",
        "logging.basicConfig(\n",
        "    filename=os.path.join(CONFIG.save_dir, 'log.txt'),\n",
        "    format='%(message)s',\n",
        "    level=logging.INFO,\n",
        "    filemode='a'\n",
        ")\n",
        "\n",
        "# Set experiment's device & deterministic behavior\n",
        "if CONFIG.cpu:\n",
        "    CONFIG.device = 'cpu'\n",
        "else:\n",
        "    CONFIG.device = 'cuda' if torch.cuda.is_available() else 'cpu'\n",
        "\n",
        "torch.manual_seed(CONFIG.seed)\n",
        "random.seed(CONFIG.seed)\n",
        "np.random.seed(CONFIG.seed)\n",
        "torch.backends.cudnn.benchmark = True\n",
        "torch.use_deterministic_algorithms(mode=True, warn_only=True)\n",
        "\n",
        "main()"
      ]
    },
    {
      "cell_type": "markdown",
      "metadata": {
        "id": "wOyU2UnAEfN2"
      },
      "source": [
        "##### 1.1.18.3 - Photo"
      ]
    },
    {
      "cell_type": "code",
      "execution_count": null,
      "metadata": {
        "vscode": {
          "languageId": "python"
        },
        "id": "Ukd6-eq4EfN2"
      },
      "outputs": [],
      "source": [
        "warnings.filterwarnings('ignore', category=UserWarning)\n",
        "\n",
        "# Parse arguments\n",
        "conf = configurations['1.1.18.3']\n",
        "\n",
        "#args = parse_arguments()\n",
        "args = argparse.Namespace(**conf)\n",
        "print(args)\n",
        "CONFIG.update(vars(args))\n",
        "\n",
        "# Setup output directory\n",
        "CONFIG.save_dir = os.path.join('record', CONFIG.experiment_name)\n",
        "os.makedirs(CONFIG.save_dir, exist_ok=True)\n",
        "\n",
        "# Setup logging\n",
        "logging.basicConfig(\n",
        "    filename=os.path.join(CONFIG.save_dir, 'log.txt'),\n",
        "    format='%(message)s',\n",
        "    level=logging.INFO,\n",
        "    filemode='a'\n",
        ")\n",
        "\n",
        "# Set experiment's device & deterministic behavior\n",
        "if CONFIG.cpu:\n",
        "    CONFIG.device = 'cpu'\n",
        "else:\n",
        "    CONFIG.device = 'cuda' if torch.cuda.is_available() else 'cpu'\n",
        "\n",
        "torch.manual_seed(CONFIG.seed)\n",
        "random.seed(CONFIG.seed)\n",
        "np.random.seed(CONFIG.seed)\n",
        "torch.backends.cudnn.benchmark = True\n",
        "torch.use_deterministic_algorithms(mode=True, warn_only=True)\n",
        "\n",
        "main()"
      ]
    },
    {
      "cell_type": "markdown",
      "metadata": {
        "id": "pT_ZnnPpEfN2"
      },
      "source": [
        "#### 1.1.19 - ASH module after layer3.1.relu"
      ]
    },
    {
      "cell_type": "markdown",
      "metadata": {
        "id": "m4-Uv9ENEfN2"
      },
      "source": [
        "##### 1.1.19.1 - Cartoon"
      ]
    },
    {
      "cell_type": "code",
      "execution_count": null,
      "metadata": {
        "vscode": {
          "languageId": "python"
        },
        "id": "FljGHsZDEfN2"
      },
      "outputs": [],
      "source": [
        "warnings.filterwarnings('ignore', category=UserWarning)\n",
        "\n",
        "# Parse arguments\n",
        "conf = configurations['1.1.19.1']\n",
        "\n",
        "#args = parse_arguments()\n",
        "args = argparse.Namespace(**conf)\n",
        "print(args)\n",
        "CONFIG.update(vars(args))\n",
        "\n",
        "# Setup output directory\n",
        "CONFIG.save_dir = os.path.join('record', CONFIG.experiment_name)\n",
        "os.makedirs(CONFIG.save_dir, exist_ok=True)\n",
        "\n",
        "# Setup logging\n",
        "logging.basicConfig(\n",
        "    filename=os.path.join(CONFIG.save_dir, 'log.txt'),\n",
        "    format='%(message)s',\n",
        "    level=logging.INFO,\n",
        "    filemode='a'\n",
        ")\n",
        "\n",
        "# Set experiment's device & deterministic behavior\n",
        "if CONFIG.cpu:\n",
        "    CONFIG.device = 'cpu'\n",
        "else:\n",
        "    CONFIG.device = 'cuda' if torch.cuda.is_available() else 'cpu'\n",
        "\n",
        "torch.manual_seed(CONFIG.seed)\n",
        "random.seed(CONFIG.seed)\n",
        "np.random.seed(CONFIG.seed)\n",
        "torch.backends.cudnn.benchmark = True\n",
        "torch.use_deterministic_algorithms(mode=True, warn_only=True)\n",
        "\n",
        "main()"
      ]
    },
    {
      "cell_type": "markdown",
      "metadata": {
        "id": "J43hpU1EEfN3"
      },
      "source": [
        "##### 1.1.19.2 - Sketch"
      ]
    },
    {
      "cell_type": "code",
      "execution_count": null,
      "metadata": {
        "vscode": {
          "languageId": "python"
        },
        "id": "CadIKjl-EfN3"
      },
      "outputs": [],
      "source": [
        "warnings.filterwarnings('ignore', category=UserWarning)\n",
        "\n",
        "# Parse arguments\n",
        "conf = configurations['1.1.19.2']\n",
        "\n",
        "#args = parse_arguments()\n",
        "args = argparse.Namespace(**conf)\n",
        "print(args)\n",
        "CONFIG.update(vars(args))\n",
        "\n",
        "# Setup output directory\n",
        "CONFIG.save_dir = os.path.join('record', CONFIG.experiment_name)\n",
        "os.makedirs(CONFIG.save_dir, exist_ok=True)\n",
        "\n",
        "# Setup logging\n",
        "logging.basicConfig(\n",
        "    filename=os.path.join(CONFIG.save_dir, 'log.txt'),\n",
        "    format='%(message)s',\n",
        "    level=logging.INFO,\n",
        "    filemode='a'\n",
        ")\n",
        "\n",
        "# Set experiment's device & deterministic behavior\n",
        "if CONFIG.cpu:\n",
        "    CONFIG.device = 'cpu'\n",
        "else:\n",
        "    CONFIG.device = 'cuda' if torch.cuda.is_available() else 'cpu'\n",
        "\n",
        "torch.manual_seed(CONFIG.seed)\n",
        "random.seed(CONFIG.seed)\n",
        "np.random.seed(CONFIG.seed)\n",
        "torch.backends.cudnn.benchmark = True\n",
        "torch.use_deterministic_algorithms(mode=True, warn_only=True)\n",
        "\n",
        "main()"
      ]
    },
    {
      "cell_type": "markdown",
      "metadata": {
        "id": "e7j-o0LqEfN3"
      },
      "source": [
        "##### 1.1.19.3 - Photo"
      ]
    },
    {
      "cell_type": "code",
      "execution_count": null,
      "metadata": {
        "vscode": {
          "languageId": "python"
        },
        "id": "aDIIz5HVEfN3"
      },
      "outputs": [],
      "source": [
        "warnings.filterwarnings('ignore', category=UserWarning)\n",
        "\n",
        "# Parse arguments\n",
        "conf = configurations['1.1.19.3']\n",
        "\n",
        "#args = parse_arguments()\n",
        "args = argparse.Namespace(**conf)\n",
        "print(args)\n",
        "CONFIG.update(vars(args))\n",
        "\n",
        "# Setup output directory\n",
        "CONFIG.save_dir = os.path.join('record', CONFIG.experiment_name)\n",
        "os.makedirs(CONFIG.save_dir, exist_ok=True)\n",
        "\n",
        "# Setup logging\n",
        "logging.basicConfig(\n",
        "    filename=os.path.join(CONFIG.save_dir, 'log.txt'),\n",
        "    format='%(message)s',\n",
        "    level=logging.INFO,\n",
        "    filemode='a'\n",
        ")\n",
        "\n",
        "# Set experiment's device & deterministic behavior\n",
        "if CONFIG.cpu:\n",
        "    CONFIG.device = 'cpu'\n",
        "else:\n",
        "    CONFIG.device = 'cuda' if torch.cuda.is_available() else 'cpu'\n",
        "\n",
        "torch.manual_seed(CONFIG.seed)\n",
        "random.seed(CONFIG.seed)\n",
        "np.random.seed(CONFIG.seed)\n",
        "torch.backends.cudnn.benchmark = True\n",
        "torch.use_deterministic_algorithms(mode=True, warn_only=True)\n",
        "\n",
        "main()"
      ]
    },
    {
      "cell_type": "markdown",
      "metadata": {
        "id": "w5_UBGcnEfN3"
      },
      "source": [
        "#### 1.1.20 - ASH module after layer3.1.conv2"
      ]
    },
    {
      "cell_type": "markdown",
      "metadata": {
        "id": "6TqsHyrmEfN3"
      },
      "source": [
        "##### 1.1.20.1 - Cartoon"
      ]
    },
    {
      "cell_type": "code",
      "execution_count": null,
      "metadata": {
        "vscode": {
          "languageId": "python"
        },
        "id": "bWuBRxEDEfN4"
      },
      "outputs": [],
      "source": [
        "warnings.filterwarnings('ignore', category=UserWarning)\n",
        "\n",
        "# Parse arguments\n",
        "conf = configurations['1.1.20.1']\n",
        "\n",
        "#args = parse_arguments()\n",
        "args = argparse.Namespace(**conf)\n",
        "print(args)\n",
        "CONFIG.update(vars(args))\n",
        "\n",
        "# Setup output directory\n",
        "CONFIG.save_dir = os.path.join('record', CONFIG.experiment_name)\n",
        "os.makedirs(CONFIG.save_dir, exist_ok=True)\n",
        "\n",
        "# Setup logging\n",
        "logging.basicConfig(\n",
        "    filename=os.path.join(CONFIG.save_dir, 'log.txt'),\n",
        "    format='%(message)s',\n",
        "    level=logging.INFO,\n",
        "    filemode='a'\n",
        ")\n",
        "\n",
        "# Set experiment's device & deterministic behavior\n",
        "if CONFIG.cpu:\n",
        "    CONFIG.device = 'cpu'\n",
        "else:\n",
        "    CONFIG.device = 'cuda' if torch.cuda.is_available() else 'cpu'\n",
        "\n",
        "torch.manual_seed(CONFIG.seed)\n",
        "random.seed(CONFIG.seed)\n",
        "np.random.seed(CONFIG.seed)\n",
        "torch.backends.cudnn.benchmark = True\n",
        "torch.use_deterministic_algorithms(mode=True, warn_only=True)\n",
        "\n",
        "main()"
      ]
    },
    {
      "cell_type": "markdown",
      "metadata": {
        "id": "O1a1PjsuEfN4"
      },
      "source": [
        "##### 1.1.20.2 - Sketch"
      ]
    },
    {
      "cell_type": "code",
      "execution_count": null,
      "metadata": {
        "vscode": {
          "languageId": "python"
        },
        "id": "mUofl9tzEfN4"
      },
      "outputs": [],
      "source": [
        "warnings.filterwarnings('ignore', category=UserWarning)\n",
        "\n",
        "# Parse arguments\n",
        "conf = configurations['1.1.20.2']\n",
        "\n",
        "#args = parse_arguments()\n",
        "args = argparse.Namespace(**conf)\n",
        "print(args)\n",
        "CONFIG.update(vars(args))\n",
        "\n",
        "# Setup output directory\n",
        "CONFIG.save_dir = os.path.join('record', CONFIG.experiment_name)\n",
        "os.makedirs(CONFIG.save_dir, exist_ok=True)\n",
        "\n",
        "# Setup logging\n",
        "logging.basicConfig(\n",
        "    filename=os.path.join(CONFIG.save_dir, 'log.txt'),\n",
        "    format='%(message)s',\n",
        "    level=logging.INFO,\n",
        "    filemode='a'\n",
        ")\n",
        "\n",
        "# Set experiment's device & deterministic behavior\n",
        "if CONFIG.cpu:\n",
        "    CONFIG.device = 'cpu'\n",
        "else:\n",
        "    CONFIG.device = 'cuda' if torch.cuda.is_available() else 'cpu'\n",
        "\n",
        "torch.manual_seed(CONFIG.seed)\n",
        "random.seed(CONFIG.seed)\n",
        "np.random.seed(CONFIG.seed)\n",
        "torch.backends.cudnn.benchmark = True\n",
        "torch.use_deterministic_algorithms(mode=True, warn_only=True)\n",
        "\n",
        "main()"
      ]
    },
    {
      "cell_type": "markdown",
      "metadata": {
        "id": "3Uv67lk2EfN4"
      },
      "source": [
        "##### 1.1.20.3 - Photo"
      ]
    },
    {
      "cell_type": "code",
      "execution_count": null,
      "metadata": {
        "vscode": {
          "languageId": "python"
        },
        "id": "9G4_1-DbEfN4"
      },
      "outputs": [],
      "source": [
        "warnings.filterwarnings('ignore', category=UserWarning)\n",
        "\n",
        "# Parse arguments\n",
        "conf = configurations['1.1.20.3']\n",
        "\n",
        "#args = parse_arguments()\n",
        "args = argparse.Namespace(**conf)\n",
        "print(args)\n",
        "CONFIG.update(vars(args))\n",
        "\n",
        "# Setup output directory\n",
        "CONFIG.save_dir = os.path.join('record', CONFIG.experiment_name)\n",
        "os.makedirs(CONFIG.save_dir, exist_ok=True)\n",
        "\n",
        "# Setup logging\n",
        "logging.basicConfig(\n",
        "    filename=os.path.join(CONFIG.save_dir, 'log.txt'),\n",
        "    format='%(message)s',\n",
        "    level=logging.INFO,\n",
        "    filemode='a'\n",
        ")\n",
        "\n",
        "# Set experiment's device & deterministic behavior\n",
        "if CONFIG.cpu:\n",
        "    CONFIG.device = 'cpu'\n",
        "else:\n",
        "    CONFIG.device = 'cuda' if torch.cuda.is_available() else 'cpu'\n",
        "\n",
        "torch.manual_seed(CONFIG.seed)\n",
        "random.seed(CONFIG.seed)\n",
        "np.random.seed(CONFIG.seed)\n",
        "torch.backends.cudnn.benchmark = True\n",
        "torch.use_deterministic_algorithms(mode=True, warn_only=True)\n",
        "\n",
        "main()"
      ]
    },
    {
      "cell_type": "markdown",
      "metadata": {
        "id": "NIoXDHGeEfN4"
      },
      "source": [
        "#### 1.1.21 - ASH module after layer4.0.conv1"
      ]
    },
    {
      "cell_type": "markdown",
      "metadata": {
        "id": "cnLPOAqGEfN5"
      },
      "source": [
        "##### 1.1.21.1 - Cartoon"
      ]
    },
    {
      "cell_type": "code",
      "execution_count": null,
      "metadata": {
        "vscode": {
          "languageId": "python"
        },
        "id": "n3u_3_6FEfN5"
      },
      "outputs": [],
      "source": [
        "warnings.filterwarnings('ignore', category=UserWarning)\n",
        "\n",
        "# Parse arguments\n",
        "conf = configurations['1.1.21.1']\n",
        "\n",
        "#args = parse_arguments()\n",
        "args = argparse.Namespace(**conf)\n",
        "print(args)\n",
        "CONFIG.update(vars(args))\n",
        "\n",
        "# Setup output directory\n",
        "CONFIG.save_dir = os.path.join('record', CONFIG.experiment_name)\n",
        "os.makedirs(CONFIG.save_dir, exist_ok=True)\n",
        "\n",
        "# Setup logging\n",
        "logging.basicConfig(\n",
        "    filename=os.path.join(CONFIG.save_dir, 'log.txt'),\n",
        "    format='%(message)s',\n",
        "    level=logging.INFO,\n",
        "    filemode='a'\n",
        ")\n",
        "\n",
        "# Set experiment's device & deterministic behavior\n",
        "if CONFIG.cpu:\n",
        "    CONFIG.device = 'cpu'\n",
        "else:\n",
        "    CONFIG.device = 'cuda' if torch.cuda.is_available() else 'cpu'\n",
        "\n",
        "torch.manual_seed(CONFIG.seed)\n",
        "random.seed(CONFIG.seed)\n",
        "np.random.seed(CONFIG.seed)\n",
        "torch.backends.cudnn.benchmark = True\n",
        "torch.use_deterministic_algorithms(mode=True, warn_only=True)\n",
        "\n",
        "main()"
      ]
    },
    {
      "cell_type": "markdown",
      "metadata": {
        "id": "nToT82b1EfN5"
      },
      "source": [
        "##### 1.1.21.2 - Sketch"
      ]
    },
    {
      "cell_type": "code",
      "execution_count": null,
      "metadata": {
        "vscode": {
          "languageId": "python"
        },
        "id": "_dKhqW-ZEfN5"
      },
      "outputs": [],
      "source": [
        "warnings.filterwarnings('ignore', category=UserWarning)\n",
        "\n",
        "# Parse arguments\n",
        "conf = configurations['1.1.21.2']\n",
        "\n",
        "#args = parse_arguments()\n",
        "args = argparse.Namespace(**conf)\n",
        "print(args)\n",
        "CONFIG.update(vars(args))\n",
        "\n",
        "# Setup output directory\n",
        "CONFIG.save_dir = os.path.join('record', CONFIG.experiment_name)\n",
        "os.makedirs(CONFIG.save_dir, exist_ok=True)\n",
        "\n",
        "# Setup logging\n",
        "logging.basicConfig(\n",
        "    filename=os.path.join(CONFIG.save_dir, 'log.txt'),\n",
        "    format='%(message)s',\n",
        "    level=logging.INFO,\n",
        "    filemode='a'\n",
        ")\n",
        "\n",
        "# Set experiment's device & deterministic behavior\n",
        "if CONFIG.cpu:\n",
        "    CONFIG.device = 'cpu'\n",
        "else:\n",
        "    CONFIG.device = 'cuda' if torch.cuda.is_available() else 'cpu'\n",
        "\n",
        "torch.manual_seed(CONFIG.seed)\n",
        "random.seed(CONFIG.seed)\n",
        "np.random.seed(CONFIG.seed)\n",
        "torch.backends.cudnn.benchmark = True\n",
        "torch.use_deterministic_algorithms(mode=True, warn_only=True)\n",
        "\n",
        "main()"
      ]
    },
    {
      "cell_type": "markdown",
      "metadata": {
        "id": "n58m3fBTEfN5"
      },
      "source": [
        "##### 1.1.21.3 - Photo"
      ]
    },
    {
      "cell_type": "code",
      "execution_count": null,
      "metadata": {
        "vscode": {
          "languageId": "python"
        },
        "id": "TZZw31IJEfN5"
      },
      "outputs": [],
      "source": [
        "warnings.filterwarnings('ignore', category=UserWarning)\n",
        "\n",
        "# Parse arguments\n",
        "conf = configurations['1.1.21.3']\n",
        "\n",
        "#args = parse_arguments()\n",
        "args = argparse.Namespace(**conf)\n",
        "print(args)\n",
        "CONFIG.update(vars(args))\n",
        "\n",
        "# Setup output directory\n",
        "CONFIG.save_dir = os.path.join('record', CONFIG.experiment_name)\n",
        "os.makedirs(CONFIG.save_dir, exist_ok=True)\n",
        "\n",
        "# Setup logging\n",
        "logging.basicConfig(\n",
        "    filename=os.path.join(CONFIG.save_dir, 'log.txt'),\n",
        "    format='%(message)s',\n",
        "    level=logging.INFO,\n",
        "    filemode='a'\n",
        ")\n",
        "\n",
        "# Set experiment's device & deterministic behavior\n",
        "if CONFIG.cpu:\n",
        "    CONFIG.device = 'cpu'\n",
        "else:\n",
        "    CONFIG.device = 'cuda' if torch.cuda.is_available() else 'cpu'\n",
        "\n",
        "torch.manual_seed(CONFIG.seed)\n",
        "random.seed(CONFIG.seed)\n",
        "np.random.seed(CONFIG.seed)\n",
        "torch.backends.cudnn.benchmark = True\n",
        "torch.use_deterministic_algorithms(mode=True, warn_only=True)\n",
        "\n",
        "main()"
      ]
    },
    {
      "cell_type": "markdown",
      "metadata": {
        "id": "EJK5s-ghEfN5"
      },
      "source": [
        "#### 1.1.22 - ASH module after layer4.0.relu"
      ]
    },
    {
      "cell_type": "markdown",
      "metadata": {
        "id": "LoFlZ4cXEfN5"
      },
      "source": [
        "##### 1.1.22.1 - Cartoon"
      ]
    },
    {
      "cell_type": "code",
      "execution_count": null,
      "metadata": {
        "vscode": {
          "languageId": "python"
        },
        "id": "dr1HB3a9EfN6"
      },
      "outputs": [],
      "source": [
        "warnings.filterwarnings('ignore', category=UserWarning)\n",
        "\n",
        "# Parse arguments\n",
        "conf = configurations['1.1.22.1']\n",
        "\n",
        "#args = parse_arguments()\n",
        "args = argparse.Namespace(**conf)\n",
        "print(args)\n",
        "CONFIG.update(vars(args))\n",
        "\n",
        "# Setup output directory\n",
        "CONFIG.save_dir = os.path.join('record', CONFIG.experiment_name)\n",
        "os.makedirs(CONFIG.save_dir, exist_ok=True)\n",
        "\n",
        "# Setup logging\n",
        "logging.basicConfig(\n",
        "    filename=os.path.join(CONFIG.save_dir, 'log.txt'),\n",
        "    format='%(message)s',\n",
        "    level=logging.INFO,\n",
        "    filemode='a'\n",
        ")\n",
        "\n",
        "# Set experiment's device & deterministic behavior\n",
        "if CONFIG.cpu:\n",
        "    CONFIG.device = 'cpu'\n",
        "else:\n",
        "    CONFIG.device = 'cuda' if torch.cuda.is_available() else 'cpu'\n",
        "\n",
        "torch.manual_seed(CONFIG.seed)\n",
        "random.seed(CONFIG.seed)\n",
        "np.random.seed(CONFIG.seed)\n",
        "torch.backends.cudnn.benchmark = True\n",
        "torch.use_deterministic_algorithms(mode=True, warn_only=True)\n",
        "\n",
        "main()"
      ]
    },
    {
      "cell_type": "markdown",
      "metadata": {
        "id": "nvdVNoI5EfN6"
      },
      "source": [
        "##### 1.1.22.2 - Sketch"
      ]
    },
    {
      "cell_type": "code",
      "execution_count": null,
      "metadata": {
        "vscode": {
          "languageId": "python"
        },
        "id": "5fkuQjSCEfN6"
      },
      "outputs": [],
      "source": [
        "warnings.filterwarnings('ignore', category=UserWarning)\n",
        "\n",
        "# Parse arguments\n",
        "conf = configurations['1.1.22.2']\n",
        "\n",
        "#args = parse_arguments()\n",
        "args = argparse.Namespace(**conf)\n",
        "print(args)\n",
        "CONFIG.update(vars(args))\n",
        "\n",
        "# Setup output directory\n",
        "CONFIG.save_dir = os.path.join('record', CONFIG.experiment_name)\n",
        "os.makedirs(CONFIG.save_dir, exist_ok=True)\n",
        "\n",
        "# Setup logging\n",
        "logging.basicConfig(\n",
        "    filename=os.path.join(CONFIG.save_dir, 'log.txt'),\n",
        "    format='%(message)s',\n",
        "    level=logging.INFO,\n",
        "    filemode='a'\n",
        ")\n",
        "\n",
        "# Set experiment's device & deterministic behavior\n",
        "if CONFIG.cpu:\n",
        "    CONFIG.device = 'cpu'\n",
        "else:\n",
        "    CONFIG.device = 'cuda' if torch.cuda.is_available() else 'cpu'\n",
        "\n",
        "torch.manual_seed(CONFIG.seed)\n",
        "random.seed(CONFIG.seed)\n",
        "np.random.seed(CONFIG.seed)\n",
        "torch.backends.cudnn.benchmark = True\n",
        "torch.use_deterministic_algorithms(mode=True, warn_only=True)\n",
        "\n",
        "main()"
      ]
    },
    {
      "cell_type": "markdown",
      "metadata": {
        "id": "Azy4DX_7EfN6"
      },
      "source": [
        "##### 1.1.22.3 - Photo"
      ]
    },
    {
      "cell_type": "code",
      "execution_count": null,
      "metadata": {
        "vscode": {
          "languageId": "python"
        },
        "id": "YuAD6KoAEfN6"
      },
      "outputs": [],
      "source": [
        "warnings.filterwarnings('ignore', category=UserWarning)\n",
        "\n",
        "# Parse arguments\n",
        "conf = configurations['1.1.22.3']\n",
        "\n",
        "#args = parse_arguments()\n",
        "args = argparse.Namespace(**conf)\n",
        "print(args)\n",
        "CONFIG.update(vars(args))\n",
        "\n",
        "# Setup output directory\n",
        "CONFIG.save_dir = os.path.join('record', CONFIG.experiment_name)\n",
        "os.makedirs(CONFIG.save_dir, exist_ok=True)\n",
        "\n",
        "# Setup logging\n",
        "logging.basicConfig(\n",
        "    filename=os.path.join(CONFIG.save_dir, 'log.txt'),\n",
        "    format='%(message)s',\n",
        "    level=logging.INFO,\n",
        "    filemode='a'\n",
        ")\n",
        "\n",
        "# Set experiment's device & deterministic behavior\n",
        "if CONFIG.cpu:\n",
        "    CONFIG.device = 'cpu'\n",
        "else:\n",
        "    CONFIG.device = 'cuda' if torch.cuda.is_available() else 'cpu'\n",
        "\n",
        "torch.manual_seed(CONFIG.seed)\n",
        "random.seed(CONFIG.seed)\n",
        "np.random.seed(CONFIG.seed)\n",
        "torch.backends.cudnn.benchmark = True\n",
        "torch.use_deterministic_algorithms(mode=True, warn_only=True)\n",
        "\n",
        "main()"
      ]
    },
    {
      "cell_type": "markdown",
      "metadata": {
        "id": "JWX7GeGIEfN7"
      },
      "source": [
        "#### 1.1.23 - ASH module after layer4.0.conv2"
      ]
    },
    {
      "cell_type": "markdown",
      "metadata": {
        "id": "lYesF7RSEfN7"
      },
      "source": [
        "##### 1.1.23.1 - Cartoon"
      ]
    },
    {
      "cell_type": "code",
      "execution_count": null,
      "metadata": {
        "vscode": {
          "languageId": "python"
        },
        "id": "2kFNuWIxEfN7"
      },
      "outputs": [],
      "source": [
        "warnings.filterwarnings('ignore', category=UserWarning)\n",
        "\n",
        "# Parse arguments\n",
        "conf = configurations['1.1.23.1']\n",
        "\n",
        "#args = parse_arguments()\n",
        "args = argparse.Namespace(**conf)\n",
        "print(args)\n",
        "CONFIG.update(vars(args))\n",
        "\n",
        "# Setup output directory\n",
        "CONFIG.save_dir = os.path.join('record', CONFIG.experiment_name)\n",
        "os.makedirs(CONFIG.save_dir, exist_ok=True)\n",
        "\n",
        "# Setup logging\n",
        "logging.basicConfig(\n",
        "    filename=os.path.join(CONFIG.save_dir, 'log.txt'),\n",
        "    format='%(message)s',\n",
        "    level=logging.INFO,\n",
        "    filemode='a'\n",
        ")\n",
        "\n",
        "# Set experiment's device & deterministic behavior\n",
        "if CONFIG.cpu:\n",
        "    CONFIG.device = 'cpu'\n",
        "else:\n",
        "    CONFIG.device = 'cuda' if torch.cuda.is_available() else 'cpu'\n",
        "\n",
        "torch.manual_seed(CONFIG.seed)\n",
        "random.seed(CONFIG.seed)\n",
        "np.random.seed(CONFIG.seed)\n",
        "torch.backends.cudnn.benchmark = True\n",
        "torch.use_deterministic_algorithms(mode=True, warn_only=True)\n",
        "\n",
        "main()"
      ]
    },
    {
      "cell_type": "markdown",
      "metadata": {
        "id": "YHAfwIBcEfN7"
      },
      "source": [
        "##### 1.1.23.2 - Sketch"
      ]
    },
    {
      "cell_type": "code",
      "execution_count": null,
      "metadata": {
        "vscode": {
          "languageId": "python"
        },
        "id": "MZ9rX9ASEfN7"
      },
      "outputs": [],
      "source": [
        "warnings.filterwarnings('ignore', category=UserWarning)\n",
        "\n",
        "# Parse arguments\n",
        "conf = configurations['1.1.23.2']\n",
        "\n",
        "#args = parse_arguments()\n",
        "args = argparse.Namespace(**conf)\n",
        "print(args)\n",
        "CONFIG.update(vars(args))\n",
        "\n",
        "# Setup output directory\n",
        "CONFIG.save_dir = os.path.join('record', CONFIG.experiment_name)\n",
        "os.makedirs(CONFIG.save_dir, exist_ok=True)\n",
        "\n",
        "# Setup logging\n",
        "logging.basicConfig(\n",
        "    filename=os.path.join(CONFIG.save_dir, 'log.txt'),\n",
        "    format='%(message)s',\n",
        "    level=logging.INFO,\n",
        "    filemode='a'\n",
        ")\n",
        "\n",
        "# Set experiment's device & deterministic behavior\n",
        "if CONFIG.cpu:\n",
        "    CONFIG.device = 'cpu'\n",
        "else:\n",
        "    CONFIG.device = 'cuda' if torch.cuda.is_available() else 'cpu'\n",
        "\n",
        "torch.manual_seed(CONFIG.seed)\n",
        "random.seed(CONFIG.seed)\n",
        "np.random.seed(CONFIG.seed)\n",
        "torch.backends.cudnn.benchmark = True\n",
        "torch.use_deterministic_algorithms(mode=True, warn_only=True)\n",
        "\n",
        "main()"
      ]
    },
    {
      "cell_type": "markdown",
      "metadata": {
        "id": "SNvYG2TAEfN8"
      },
      "source": [
        "##### 1.1.23.3 - Photo"
      ]
    },
    {
      "cell_type": "code",
      "execution_count": null,
      "metadata": {
        "vscode": {
          "languageId": "python"
        },
        "id": "aUsJ_TEaEfN8"
      },
      "outputs": [],
      "source": [
        "warnings.filterwarnings('ignore', category=UserWarning)\n",
        "\n",
        "# Parse arguments\n",
        "conf = configurations['1.1.23.3']\n",
        "\n",
        "#args = parse_arguments()\n",
        "args = argparse.Namespace(**conf)\n",
        "print(args)\n",
        "CONFIG.update(vars(args))\n",
        "\n",
        "# Setup output directory\n",
        "CONFIG.save_dir = os.path.join('record', CONFIG.experiment_name)\n",
        "os.makedirs(CONFIG.save_dir, exist_ok=True)\n",
        "\n",
        "# Setup logging\n",
        "logging.basicConfig(\n",
        "    filename=os.path.join(CONFIG.save_dir, 'log.txt'),\n",
        "    format='%(message)s',\n",
        "    level=logging.INFO,\n",
        "    filemode='a'\n",
        ")\n",
        "\n",
        "# Set experiment's device & deterministic behavior\n",
        "if CONFIG.cpu:\n",
        "    CONFIG.device = 'cpu'\n",
        "else:\n",
        "    CONFIG.device = 'cuda' if torch.cuda.is_available() else 'cpu'\n",
        "\n",
        "torch.manual_seed(CONFIG.seed)\n",
        "random.seed(CONFIG.seed)\n",
        "np.random.seed(CONFIG.seed)\n",
        "torch.backends.cudnn.benchmark = True\n",
        "torch.use_deterministic_algorithms(mode=True, warn_only=True)\n",
        "\n",
        "main()"
      ]
    },
    {
      "cell_type": "markdown",
      "metadata": {
        "id": "GG0GjDlYEfN8"
      },
      "source": [
        "#### 1.1.24 - ASH module after layer4.1.conv1"
      ]
    },
    {
      "cell_type": "markdown",
      "metadata": {
        "id": "mFGJ9Ks1EfN8"
      },
      "source": [
        "##### 1.1.24.1 - Cartoon"
      ]
    },
    {
      "cell_type": "code",
      "execution_count": null,
      "metadata": {
        "vscode": {
          "languageId": "python"
        },
        "id": "x8lfHeG2EfN8"
      },
      "outputs": [],
      "source": [
        "warnings.filterwarnings('ignore', category=UserWarning)\n",
        "\n",
        "# Parse arguments\n",
        "conf = configurations['1.1.24.1']\n",
        "\n",
        "#args = parse_arguments()\n",
        "args = argparse.Namespace(**conf)\n",
        "print(args)\n",
        "CONFIG.update(vars(args))\n",
        "\n",
        "# Setup output directory\n",
        "CONFIG.save_dir = os.path.join('record', CONFIG.experiment_name)\n",
        "os.makedirs(CONFIG.save_dir, exist_ok=True)\n",
        "\n",
        "# Setup logging\n",
        "logging.basicConfig(\n",
        "    filename=os.path.join(CONFIG.save_dir, 'log.txt'),\n",
        "    format='%(message)s',\n",
        "    level=logging.INFO,\n",
        "    filemode='a'\n",
        ")\n",
        "\n",
        "# Set experiment's device & deterministic behavior\n",
        "if CONFIG.cpu:\n",
        "    CONFIG.device = 'cpu'\n",
        "else:\n",
        "    CONFIG.device = 'cuda' if torch.cuda.is_available() else 'cpu'\n",
        "\n",
        "torch.manual_seed(CONFIG.seed)\n",
        "random.seed(CONFIG.seed)\n",
        "np.random.seed(CONFIG.seed)\n",
        "torch.backends.cudnn.benchmark = True\n",
        "torch.use_deterministic_algorithms(mode=True, warn_only=True)\n",
        "\n",
        "main()"
      ]
    },
    {
      "cell_type": "markdown",
      "metadata": {
        "id": "deDHV3lJEfN8"
      },
      "source": [
        "##### 1.1.24.2 - Sketch"
      ]
    },
    {
      "cell_type": "code",
      "execution_count": null,
      "metadata": {
        "vscode": {
          "languageId": "python"
        },
        "id": "g_mqKLoQEfN9"
      },
      "outputs": [],
      "source": [
        "warnings.filterwarnings('ignore', category=UserWarning)\n",
        "\n",
        "# Parse arguments\n",
        "conf = configurations['1.1.24.2']\n",
        "\n",
        "#args = parse_arguments()\n",
        "args = argparse.Namespace(**conf)\n",
        "print(args)\n",
        "CONFIG.update(vars(args))\n",
        "\n",
        "# Setup output directory\n",
        "CONFIG.save_dir = os.path.join('record', CONFIG.experiment_name)\n",
        "os.makedirs(CONFIG.save_dir, exist_ok=True)\n",
        "\n",
        "# Setup logging\n",
        "logging.basicConfig(\n",
        "    filename=os.path.join(CONFIG.save_dir, 'log.txt'),\n",
        "    format='%(message)s',\n",
        "    level=logging.INFO,\n",
        "    filemode='a'\n",
        ")\n",
        "\n",
        "# Set experiment's device & deterministic behavior\n",
        "if CONFIG.cpu:\n",
        "    CONFIG.device = 'cpu'\n",
        "else:\n",
        "    CONFIG.device = 'cuda' if torch.cuda.is_available() else 'cpu'\n",
        "\n",
        "torch.manual_seed(CONFIG.seed)\n",
        "random.seed(CONFIG.seed)\n",
        "np.random.seed(CONFIG.seed)\n",
        "torch.backends.cudnn.benchmark = True\n",
        "torch.use_deterministic_algorithms(mode=True, warn_only=True)\n",
        "\n",
        "main()"
      ]
    },
    {
      "cell_type": "markdown",
      "metadata": {
        "id": "-wL9hT5gEfN9"
      },
      "source": [
        "##### 1.1.24.3 - Photo"
      ]
    },
    {
      "cell_type": "code",
      "execution_count": null,
      "metadata": {
        "vscode": {
          "languageId": "python"
        },
        "id": "ruFpqzf3EfN9"
      },
      "outputs": [],
      "source": [
        "warnings.filterwarnings('ignore', category=UserWarning)\n",
        "\n",
        "# Parse arguments\n",
        "conf = configurations['1.1.24.3']\n",
        "\n",
        "#args = parse_arguments()\n",
        "args = argparse.Namespace(**conf)\n",
        "print(args)\n",
        "CONFIG.update(vars(args))\n",
        "\n",
        "# Setup output directory\n",
        "CONFIG.save_dir = os.path.join('record', CONFIG.experiment_name)\n",
        "os.makedirs(CONFIG.save_dir, exist_ok=True)\n",
        "\n",
        "# Setup logging\n",
        "logging.basicConfig(\n",
        "    filename=os.path.join(CONFIG.save_dir, 'log.txt'),\n",
        "    format='%(message)s',\n",
        "    level=logging.INFO,\n",
        "    filemode='a'\n",
        ")\n",
        "\n",
        "# Set experiment's device & deterministic behavior\n",
        "if CONFIG.cpu:\n",
        "    CONFIG.device = 'cpu'\n",
        "else:\n",
        "    CONFIG.device = 'cuda' if torch.cuda.is_available() else 'cpu'\n",
        "\n",
        "torch.manual_seed(CONFIG.seed)\n",
        "random.seed(CONFIG.seed)\n",
        "np.random.seed(CONFIG.seed)\n",
        "torch.backends.cudnn.benchmark = True\n",
        "torch.use_deterministic_algorithms(mode=True, warn_only=True)\n",
        "\n",
        "main()"
      ]
    },
    {
      "cell_type": "markdown",
      "metadata": {
        "id": "j3WO3ZIbEfN9"
      },
      "source": [
        "#### 1.1.25 - ASH module after layer4.1.relu"
      ]
    },
    {
      "cell_type": "markdown",
      "metadata": {
        "id": "YW5Om-21EfN9"
      },
      "source": [
        "##### 1.1.25.1 - Cartoon"
      ]
    },
    {
      "cell_type": "code",
      "execution_count": null,
      "metadata": {
        "vscode": {
          "languageId": "python"
        },
        "id": "MfDQn4KREfN9"
      },
      "outputs": [],
      "source": [
        "warnings.filterwarnings('ignore', category=UserWarning)\n",
        "\n",
        "# Parse arguments\n",
        "conf = configurations['1.1.25.1']\n",
        "\n",
        "#args = parse_arguments()\n",
        "args = argparse.Namespace(**conf)\n",
        "print(args)\n",
        "CONFIG.update(vars(args))\n",
        "\n",
        "# Setup output directory\n",
        "CONFIG.save_dir = os.path.join('record', CONFIG.experiment_name)\n",
        "os.makedirs(CONFIG.save_dir, exist_ok=True)\n",
        "\n",
        "# Setup logging\n",
        "logging.basicConfig(\n",
        "    filename=os.path.join(CONFIG.save_dir, 'log.txt'),\n",
        "    format='%(message)s',\n",
        "    level=logging.INFO,\n",
        "    filemode='a'\n",
        ")\n",
        "\n",
        "# Set experiment's device & deterministic behavior\n",
        "if CONFIG.cpu:\n",
        "    CONFIG.device = 'cpu'\n",
        "else:\n",
        "    CONFIG.device = 'cuda' if torch.cuda.is_available() else 'cpu'\n",
        "\n",
        "torch.manual_seed(CONFIG.seed)\n",
        "random.seed(CONFIG.seed)\n",
        "np.random.seed(CONFIG.seed)\n",
        "torch.backends.cudnn.benchmark = True\n",
        "torch.use_deterministic_algorithms(mode=True, warn_only=True)\n",
        "\n",
        "main()"
      ]
    },
    {
      "cell_type": "markdown",
      "metadata": {
        "id": "f2UGupr5EfN-"
      },
      "source": [
        "##### 1.1.25.2 - Sketch"
      ]
    },
    {
      "cell_type": "code",
      "execution_count": null,
      "metadata": {
        "vscode": {
          "languageId": "python"
        },
        "id": "2nqxIduuEfN-"
      },
      "outputs": [],
      "source": [
        "warnings.filterwarnings('ignore', category=UserWarning)\n",
        "\n",
        "# Parse arguments\n",
        "conf = configurations['1.1.25.2']\n",
        "\n",
        "#args = parse_arguments()\n",
        "args = argparse.Namespace(**conf)\n",
        "print(args)\n",
        "CONFIG.update(vars(args))\n",
        "\n",
        "# Setup output directory\n",
        "CONFIG.save_dir = os.path.join('record', CONFIG.experiment_name)\n",
        "os.makedirs(CONFIG.save_dir, exist_ok=True)\n",
        "\n",
        "# Setup logging\n",
        "logging.basicConfig(\n",
        "    filename=os.path.join(CONFIG.save_dir, 'log.txt'),\n",
        "    format='%(message)s',\n",
        "    level=logging.INFO,\n",
        "    filemode='a'\n",
        ")\n",
        "\n",
        "# Set experiment's device & deterministic behavior\n",
        "if CONFIG.cpu:\n",
        "    CONFIG.device = 'cpu'\n",
        "else:\n",
        "    CONFIG.device = 'cuda' if torch.cuda.is_available() else 'cpu'\n",
        "\n",
        "torch.manual_seed(CONFIG.seed)\n",
        "random.seed(CONFIG.seed)\n",
        "np.random.seed(CONFIG.seed)\n",
        "torch.backends.cudnn.benchmark = True\n",
        "torch.use_deterministic_algorithms(mode=True, warn_only=True)\n",
        "\n",
        "main()"
      ]
    },
    {
      "cell_type": "markdown",
      "metadata": {
        "id": "fXjgF4yiEfN-"
      },
      "source": [
        "##### 1.1.25.3 - Photo"
      ]
    },
    {
      "cell_type": "code",
      "execution_count": null,
      "metadata": {
        "vscode": {
          "languageId": "python"
        },
        "id": "Sbq6F0EEEfN-"
      },
      "outputs": [],
      "source": [
        "warnings.filterwarnings('ignore', category=UserWarning)\n",
        "\n",
        "# Parse arguments\n",
        "conf = configurations['1.1.25.3']\n",
        "\n",
        "#args = parse_arguments()\n",
        "args = argparse.Namespace(**conf)\n",
        "print(args)\n",
        "CONFIG.update(vars(args))\n",
        "\n",
        "# Setup output directory\n",
        "CONFIG.save_dir = os.path.join('record', CONFIG.experiment_name)\n",
        "os.makedirs(CONFIG.save_dir, exist_ok=True)\n",
        "\n",
        "# Setup logging\n",
        "logging.basicConfig(\n",
        "    filename=os.path.join(CONFIG.save_dir, 'log.txt'),\n",
        "    format='%(message)s',\n",
        "    level=logging.INFO,\n",
        "    filemode='a'\n",
        ")\n",
        "\n",
        "# Set experiment's device & deterministic behavior\n",
        "if CONFIG.cpu:\n",
        "    CONFIG.device = 'cpu'\n",
        "else:\n",
        "    CONFIG.device = 'cuda' if torch.cuda.is_available() else 'cpu'\n",
        "\n",
        "torch.manual_seed(CONFIG.seed)\n",
        "random.seed(CONFIG.seed)\n",
        "np.random.seed(CONFIG.seed)\n",
        "torch.backends.cudnn.benchmark = True\n",
        "torch.use_deterministic_algorithms(mode=True, warn_only=True)\n",
        "\n",
        "main()"
      ]
    },
    {
      "cell_type": "markdown",
      "metadata": {
        "id": "7S4FELO-EfN-"
      },
      "source": [
        "#### 1.1.26 - ASH module after layer4.1.conv2"
      ]
    },
    {
      "cell_type": "markdown",
      "metadata": {
        "id": "U5tZ0T3iEfN-"
      },
      "source": [
        "##### 1.1.26.1 - Cartoon"
      ]
    },
    {
      "cell_type": "code",
      "execution_count": null,
      "metadata": {
        "vscode": {
          "languageId": "python"
        },
        "id": "vjQLrx_8EfN-"
      },
      "outputs": [],
      "source": [
        "warnings.filterwarnings('ignore', category=UserWarning)\n",
        "\n",
        "# Parse arguments\n",
        "conf = configurations['1.1.26.1']\n",
        "\n",
        "#args = parse_arguments()\n",
        "args = argparse.Namespace(**conf)\n",
        "print(args)\n",
        "CONFIG.update(vars(args))\n",
        "\n",
        "# Setup output directory\n",
        "CONFIG.save_dir = os.path.join('record', CONFIG.experiment_name)\n",
        "os.makedirs(CONFIG.save_dir, exist_ok=True)\n",
        "\n",
        "# Setup logging\n",
        "logging.basicConfig(\n",
        "    filename=os.path.join(CONFIG.save_dir, 'log.txt'),\n",
        "    format='%(message)s',\n",
        "    level=logging.INFO,\n",
        "    filemode='a'\n",
        ")\n",
        "\n",
        "# Set experiment's device & deterministic behavior\n",
        "if CONFIG.cpu:\n",
        "    CONFIG.device = 'cpu'\n",
        "else:\n",
        "    CONFIG.device = 'cuda' if torch.cuda.is_available() else 'cpu'\n",
        "\n",
        "torch.manual_seed(CONFIG.seed)\n",
        "random.seed(CONFIG.seed)\n",
        "np.random.seed(CONFIG.seed)\n",
        "torch.backends.cudnn.benchmark = True\n",
        "torch.use_deterministic_algorithms(mode=True, warn_only=True)\n",
        "\n",
        "main()"
      ]
    },
    {
      "cell_type": "markdown",
      "metadata": {
        "id": "3P-r1v0tEfN_"
      },
      "source": [
        "##### 1.1.26.2 - Sketch"
      ]
    },
    {
      "cell_type": "code",
      "execution_count": null,
      "metadata": {
        "vscode": {
          "languageId": "python"
        },
        "id": "kMAD5S0tEfN_"
      },
      "outputs": [],
      "source": [
        "warnings.filterwarnings('ignore', category=UserWarning)\n",
        "\n",
        "# Parse arguments\n",
        "conf = configurations['1.1.26.2']\n",
        "\n",
        "#args = parse_arguments()\n",
        "args = argparse.Namespace(**conf)\n",
        "print(args)\n",
        "CONFIG.update(vars(args))\n",
        "\n",
        "# Setup output directory\n",
        "CONFIG.save_dir = os.path.join('record', CONFIG.experiment_name)\n",
        "os.makedirs(CONFIG.save_dir, exist_ok=True)\n",
        "\n",
        "# Setup logging\n",
        "logging.basicConfig(\n",
        "    filename=os.path.join(CONFIG.save_dir, 'log.txt'),\n",
        "    format='%(message)s',\n",
        "    level=logging.INFO,\n",
        "    filemode='a'\n",
        ")\n",
        "\n",
        "# Set experiment's device & deterministic behavior\n",
        "if CONFIG.cpu:\n",
        "    CONFIG.device = 'cpu'\n",
        "else:\n",
        "    CONFIG.device = 'cuda' if torch.cuda.is_available() else 'cpu'\n",
        "\n",
        "torch.manual_seed(CONFIG.seed)\n",
        "random.seed(CONFIG.seed)\n",
        "np.random.seed(CONFIG.seed)\n",
        "torch.backends.cudnn.benchmark = True\n",
        "torch.use_deterministic_algorithms(mode=True, warn_only=True)\n",
        "\n",
        "main()"
      ]
    },
    {
      "cell_type": "markdown",
      "metadata": {
        "id": "TtU3EWT2EfN_"
      },
      "source": [
        "##### 1.1.26.3 - Photo"
      ]
    },
    {
      "cell_type": "code",
      "execution_count": null,
      "metadata": {
        "vscode": {
          "languageId": "python"
        },
        "id": "pVGTml-VEfN_"
      },
      "outputs": [],
      "source": [
        "warnings.filterwarnings('ignore', category=UserWarning)\n",
        "\n",
        "# Parse arguments\n",
        "conf = configurations['1.1.26.3']\n",
        "\n",
        "#args = parse_arguments()\n",
        "args = argparse.Namespace(**conf)\n",
        "print(args)\n",
        "CONFIG.update(vars(args))\n",
        "\n",
        "# Setup output directory\n",
        "CONFIG.save_dir = os.path.join('record', CONFIG.experiment_name)\n",
        "os.makedirs(CONFIG.save_dir, exist_ok=True)\n",
        "\n",
        "# Setup logging\n",
        "logging.basicConfig(\n",
        "    filename=os.path.join(CONFIG.save_dir, 'log.txt'),\n",
        "    format='%(message)s',\n",
        "    level=logging.INFO,\n",
        "    filemode='a'\n",
        ")\n",
        "\n",
        "# Set experiment's device & deterministic behavior\n",
        "if CONFIG.cpu:\n",
        "    CONFIG.device = 'cpu'\n",
        "else:\n",
        "    CONFIG.device = 'cuda' if torch.cuda.is_available() else 'cpu'\n",
        "\n",
        "torch.manual_seed(CONFIG.seed)\n",
        "random.seed(CONFIG.seed)\n",
        "np.random.seed(CONFIG.seed)\n",
        "torch.backends.cudnn.benchmark = True\n",
        "torch.use_deterministic_algorithms(mode=True, warn_only=True)\n",
        "\n",
        "main()"
      ]
    },
    {
      "cell_type": "markdown",
      "metadata": {
        "id": "twvghdHYEfN_"
      },
      "source": [
        "### 1.2 - Two ASH modules"
      ]
    },
    {
      "cell_type": "markdown",
      "metadata": {
        "id": "_cg6K7krEfOA"
      },
      "source": [
        "#### 1.2.1 - ASH module after layer1.1.bn1 and layer1.1.conv2"
      ]
    },
    {
      "cell_type": "markdown",
      "metadata": {
        "id": "41-Edc3ZEfOA"
      },
      "source": [
        "##### 1.2.1.1 - Cartoon"
      ]
    },
    {
      "cell_type": "code",
      "execution_count": null,
      "metadata": {
        "vscode": {
          "languageId": "python"
        },
        "id": "6pgVihHfEfOA"
      },
      "outputs": [],
      "source": [
        "warnings.filterwarnings('ignore', category=UserWarning)\n",
        "\n",
        "# Parse arguments\n",
        "conf = configurations['1.2.1.1']\n",
        "\n",
        "#args = parse_arguments()\n",
        "args = argparse.Namespace(**conf)\n",
        "print(args)\n",
        "CONFIG.update(vars(args))\n",
        "\n",
        "# Setup output directory\n",
        "CONFIG.save_dir = os.path.join('record', CONFIG.experiment_name)\n",
        "os.makedirs(CONFIG.save_dir, exist_ok=True)\n",
        "\n",
        "# Setup logging\n",
        "logging.basicConfig(\n",
        "    filename=os.path.join(CONFIG.save_dir, 'log.txt'),\n",
        "    format='%(message)s',\n",
        "    level=logging.INFO,\n",
        "    filemode='a'\n",
        ")\n",
        "\n",
        "# Set experiment's device & deterministic behavior\n",
        "if CONFIG.cpu:\n",
        "    CONFIG.device = 'cpu'\n",
        "else:\n",
        "    CONFIG.device = 'cuda' if torch.cuda.is_available() else 'cpu'\n",
        "\n",
        "torch.manual_seed(CONFIG.seed)\n",
        "random.seed(CONFIG.seed)\n",
        "np.random.seed(CONFIG.seed)\n",
        "torch.backends.cudnn.benchmark = True\n",
        "torch.use_deterministic_algorithms(mode=True, warn_only=True)\n",
        "\n",
        "main()"
      ]
    },
    {
      "cell_type": "markdown",
      "metadata": {
        "id": "nyK0O18CEfOA"
      },
      "source": [
        "##### 1.2.1.2 - Sketch"
      ]
    },
    {
      "cell_type": "code",
      "execution_count": null,
      "metadata": {
        "vscode": {
          "languageId": "python"
        },
        "id": "KyD-10h1EfOA"
      },
      "outputs": [],
      "source": [
        "warnings.filterwarnings('ignore', category=UserWarning)\n",
        "\n",
        "# Parse arguments\n",
        "conf = configurations['1.2.1.2']\n",
        "\n",
        "#args = parse_arguments()\n",
        "args = argparse.Namespace(**conf)\n",
        "print(args)\n",
        "CONFIG.update(vars(args))\n",
        "\n",
        "# Setup output directory\n",
        "CONFIG.save_dir = os.path.join('record', CONFIG.experiment_name)\n",
        "os.makedirs(CONFIG.save_dir, exist_ok=True)\n",
        "\n",
        "# Setup logging\n",
        "logging.basicConfig(\n",
        "    filename=os.path.join(CONFIG.save_dir, 'log.txt'),\n",
        "    format='%(message)s',\n",
        "    level=logging.INFO,\n",
        "    filemode='a'\n",
        ")\n",
        "\n",
        "# Set experiment's device & deterministic behavior\n",
        "if CONFIG.cpu:\n",
        "    CONFIG.device = 'cpu'\n",
        "else:\n",
        "    CONFIG.device = 'cuda' if torch.cuda.is_available() else 'cpu'\n",
        "\n",
        "torch.manual_seed(CONFIG.seed)\n",
        "random.seed(CONFIG.seed)\n",
        "np.random.seed(CONFIG.seed)\n",
        "torch.backends.cudnn.benchmark = True\n",
        "torch.use_deterministic_algorithms(mode=True, warn_only=True)\n",
        "\n",
        "main()"
      ]
    },
    {
      "cell_type": "markdown",
      "metadata": {
        "id": "P0i1kTs0EfOA"
      },
      "source": [
        "##### 1.2.1.3 - Photo"
      ]
    },
    {
      "cell_type": "code",
      "execution_count": null,
      "metadata": {
        "vscode": {
          "languageId": "python"
        },
        "id": "qGnipR9gEfOB"
      },
      "outputs": [],
      "source": [
        "warnings.filterwarnings('ignore', category=UserWarning)\n",
        "\n",
        "# Parse arguments\n",
        "conf = configurations['1.2.1.3']\n",
        "\n",
        "#args = parse_arguments()\n",
        "args = argparse.Namespace(**conf)\n",
        "print(args)\n",
        "CONFIG.update(vars(args))\n",
        "\n",
        "# Setup output directory\n",
        "CONFIG.save_dir = os.path.join('record', CONFIG.experiment_name)\n",
        "os.makedirs(CONFIG.save_dir, exist_ok=True)\n",
        "\n",
        "# Setup logging\n",
        "logging.basicConfig(\n",
        "    filename=os.path.join(CONFIG.save_dir, 'log.txt'),\n",
        "    format='%(message)s',\n",
        "    level=logging.INFO,\n",
        "    filemode='a'\n",
        ")\n",
        "\n",
        "# Set experiment's device & deterministic behavior\n",
        "if CONFIG.cpu:\n",
        "    CONFIG.device = 'cpu'\n",
        "else:\n",
        "    CONFIG.device = 'cuda' if torch.cuda.is_available() else 'cpu'\n",
        "\n",
        "torch.manual_seed(CONFIG.seed)\n",
        "random.seed(CONFIG.seed)\n",
        "np.random.seed(CONFIG.seed)\n",
        "torch.backends.cudnn.benchmark = True\n",
        "torch.use_deterministic_algorithms(mode=True, warn_only=True)\n",
        "\n",
        "main()"
      ]
    },
    {
      "cell_type": "markdown",
      "metadata": {
        "id": "zY1vDhtfEfOB"
      },
      "source": [
        "#### 1.2.2 - ASH module after layer1.1.bn1 and layer1.1.bn2"
      ]
    },
    {
      "cell_type": "markdown",
      "metadata": {
        "id": "Rmln54NtEfOB"
      },
      "source": [
        "##### 1.2.2.1 - Cartoon"
      ]
    },
    {
      "cell_type": "code",
      "execution_count": null,
      "metadata": {
        "vscode": {
          "languageId": "python"
        },
        "id": "rMKmvrDQEfOB"
      },
      "outputs": [],
      "source": [
        "warnings.filterwarnings('ignore', category=UserWarning)\n",
        "\n",
        "# Parse arguments\n",
        "conf = configurations['1.2.2.1']\n",
        "\n",
        "#args = parse_arguments()\n",
        "args = argparse.Namespace(**conf)\n",
        "print(args)\n",
        "CONFIG.update(vars(args))\n",
        "\n",
        "# Setup output directory\n",
        "CONFIG.save_dir = os.path.join('record', CONFIG.experiment_name)\n",
        "os.makedirs(CONFIG.save_dir, exist_ok=True)\n",
        "\n",
        "# Setup logging\n",
        "logging.basicConfig(\n",
        "    filename=os.path.join(CONFIG.save_dir, 'log.txt'),\n",
        "    format='%(message)s',\n",
        "    level=logging.INFO,\n",
        "    filemode='a'\n",
        ")\n",
        "\n",
        "# Set experiment's device & deterministic behavior\n",
        "if CONFIG.cpu:\n",
        "    CONFIG.device = 'cpu'\n",
        "else:\n",
        "    CONFIG.device = 'cuda' if torch.cuda.is_available() else 'cpu'\n",
        "\n",
        "torch.manual_seed(CONFIG.seed)\n",
        "random.seed(CONFIG.seed)\n",
        "np.random.seed(CONFIG.seed)\n",
        "torch.backends.cudnn.benchmark = True\n",
        "torch.use_deterministic_algorithms(mode=True, warn_only=True)\n",
        "\n",
        "main()"
      ]
    },
    {
      "cell_type": "markdown",
      "metadata": {
        "id": "Zb01QcJeEfOC"
      },
      "source": [
        "##### 1.2.2.2 - Sketch"
      ]
    },
    {
      "cell_type": "code",
      "execution_count": null,
      "metadata": {
        "vscode": {
          "languageId": "python"
        },
        "id": "acW0SEFVEfOC"
      },
      "outputs": [],
      "source": [
        "warnings.filterwarnings('ignore', category=UserWarning)\n",
        "\n",
        "# Parse arguments\n",
        "conf = configurations['1.2.2.2']\n",
        "\n",
        "#args = parse_arguments()\n",
        "args = argparse.Namespace(**conf)\n",
        "print(args)\n",
        "CONFIG.update(vars(args))\n",
        "\n",
        "# Setup output directory\n",
        "CONFIG.save_dir = os.path.join('record', CONFIG.experiment_name)\n",
        "os.makedirs(CONFIG.save_dir, exist_ok=True)\n",
        "\n",
        "# Setup logging\n",
        "logging.basicConfig(\n",
        "    filename=os.path.join(CONFIG.save_dir, 'log.txt'),\n",
        "    format='%(message)s',\n",
        "    level=logging.INFO,\n",
        "    filemode='a'\n",
        ")\n",
        "\n",
        "# Set experiment's device & deterministic behavior\n",
        "if CONFIG.cpu:\n",
        "    CONFIG.device = 'cpu'\n",
        "else:\n",
        "    CONFIG.device = 'cuda' if torch.cuda.is_available() else 'cpu'\n",
        "\n",
        "torch.manual_seed(CONFIG.seed)\n",
        "random.seed(CONFIG.seed)\n",
        "np.random.seed(CONFIG.seed)\n",
        "torch.backends.cudnn.benchmark = True\n",
        "torch.use_deterministic_algorithms(mode=True, warn_only=True)\n",
        "\n",
        "main()"
      ]
    },
    {
      "cell_type": "markdown",
      "metadata": {
        "id": "73AsICxvEfOC"
      },
      "source": [
        "##### 1.2.2.3 - Photo"
      ]
    },
    {
      "cell_type": "code",
      "execution_count": null,
      "metadata": {
        "vscode": {
          "languageId": "python"
        },
        "id": "y_88tBadEfOC"
      },
      "outputs": [],
      "source": [
        "warnings.filterwarnings('ignore', category=UserWarning)\n",
        "\n",
        "# Parse arguments\n",
        "conf = configurations['1.2.2.3']\n",
        "\n",
        "#args = parse_arguments()\n",
        "args = argparse.Namespace(**conf)\n",
        "print(args)\n",
        "CONFIG.update(vars(args))\n",
        "\n",
        "# Setup output directory\n",
        "CONFIG.save_dir = os.path.join('record', CONFIG.experiment_name)\n",
        "os.makedirs(CONFIG.save_dir, exist_ok=True)\n",
        "\n",
        "# Setup logging\n",
        "logging.basicConfig(\n",
        "    filename=os.path.join(CONFIG.save_dir, 'log.txt'),\n",
        "    format='%(message)s',\n",
        "    level=logging.INFO,\n",
        "    filemode='a'\n",
        ")\n",
        "\n",
        "# Set experiment's device & deterministic behavior\n",
        "if CONFIG.cpu:\n",
        "    CONFIG.device = 'cpu'\n",
        "else:\n",
        "    CONFIG.device = 'cuda' if torch.cuda.is_available() else 'cpu'\n",
        "\n",
        "torch.manual_seed(CONFIG.seed)\n",
        "random.seed(CONFIG.seed)\n",
        "np.random.seed(CONFIG.seed)\n",
        "torch.backends.cudnn.benchmark = True\n",
        "torch.use_deterministic_algorithms(mode=True, warn_only=True)\n",
        "\n",
        "main()"
      ]
    },
    {
      "cell_type": "markdown",
      "metadata": {
        "id": "t-D2WAw0EfOC"
      },
      "source": [
        "#### 1.2.3 - ASH module after layer1.1.bn1 and layer2.1.conv2"
      ]
    },
    {
      "cell_type": "markdown",
      "metadata": {
        "id": "2a7yi3CAEfOC"
      },
      "source": [
        "##### 1.2.3.1 - Cartoon"
      ]
    },
    {
      "cell_type": "code",
      "execution_count": null,
      "metadata": {
        "vscode": {
          "languageId": "python"
        },
        "id": "y7BOr_sCEfOD"
      },
      "outputs": [],
      "source": [
        "warnings.filterwarnings('ignore', category=UserWarning)\n",
        "\n",
        "# Parse arguments\n",
        "conf = configurations['1.2.3.1']\n",
        "\n",
        "#args = parse_arguments()\n",
        "args = argparse.Namespace(**conf)\n",
        "print(args)\n",
        "CONFIG.update(vars(args))\n",
        "\n",
        "# Setup output directory\n",
        "CONFIG.save_dir = os.path.join('record', CONFIG.experiment_name)\n",
        "os.makedirs(CONFIG.save_dir, exist_ok=True)\n",
        "\n",
        "# Setup logging\n",
        "logging.basicConfig(\n",
        "    filename=os.path.join(CONFIG.save_dir, 'log.txt'),\n",
        "    format='%(message)s',\n",
        "    level=logging.INFO,\n",
        "    filemode='a'\n",
        ")\n",
        "\n",
        "# Set experiment's device & deterministic behavior\n",
        "if CONFIG.cpu:\n",
        "    CONFIG.device = 'cpu'\n",
        "else:\n",
        "    CONFIG.device = 'cuda' if torch.cuda.is_available() else 'cpu'\n",
        "\n",
        "torch.manual_seed(CONFIG.seed)\n",
        "random.seed(CONFIG.seed)\n",
        "np.random.seed(CONFIG.seed)\n",
        "torch.backends.cudnn.benchmark = True\n",
        "torch.use_deterministic_algorithms(mode=True, warn_only=True)\n",
        "\n",
        "main()"
      ]
    },
    {
      "cell_type": "markdown",
      "metadata": {
        "id": "xjQIA-Q-EfOD"
      },
      "source": [
        "##### 1.2.3.2 - Sketch"
      ]
    },
    {
      "cell_type": "code",
      "execution_count": null,
      "metadata": {
        "vscode": {
          "languageId": "python"
        },
        "id": "FfUt1yJIEfOD"
      },
      "outputs": [],
      "source": [
        "warnings.filterwarnings('ignore', category=UserWarning)\n",
        "\n",
        "# Parse arguments\n",
        "conf = configurations['1.2.3.2']\n",
        "\n",
        "#args = parse_arguments()\n",
        "args = argparse.Namespace(**conf)\n",
        "print(args)\n",
        "CONFIG.update(vars(args))\n",
        "\n",
        "# Setup output directory\n",
        "CONFIG.save_dir = os.path.join('record', CONFIG.experiment_name)\n",
        "os.makedirs(CONFIG.save_dir, exist_ok=True)\n",
        "\n",
        "# Setup logging\n",
        "logging.basicConfig(\n",
        "    filename=os.path.join(CONFIG.save_dir, 'log.txt'),\n",
        "    format='%(message)s',\n",
        "    level=logging.INFO,\n",
        "    filemode='a'\n",
        ")\n",
        "\n",
        "# Set experiment's device & deterministic behavior\n",
        "if CONFIG.cpu:\n",
        "    CONFIG.device = 'cpu'\n",
        "else:\n",
        "    CONFIG.device = 'cuda' if torch.cuda.is_available() else 'cpu'\n",
        "\n",
        "torch.manual_seed(CONFIG.seed)\n",
        "random.seed(CONFIG.seed)\n",
        "np.random.seed(CONFIG.seed)\n",
        "torch.backends.cudnn.benchmark = True\n",
        "torch.use_deterministic_algorithms(mode=True, warn_only=True)\n",
        "\n",
        "main()"
      ]
    },
    {
      "cell_type": "markdown",
      "metadata": {
        "id": "G4Imuh31EfOD"
      },
      "source": [
        "##### 1.2.3.3 - Photo"
      ]
    },
    {
      "cell_type": "code",
      "execution_count": null,
      "metadata": {
        "vscode": {
          "languageId": "python"
        },
        "id": "NxP66iViEfOD"
      },
      "outputs": [],
      "source": [
        "warnings.filterwarnings('ignore', category=UserWarning)\n",
        "\n",
        "# Parse arguments\n",
        "conf = configurations['1.2.3.3']\n",
        "\n",
        "#args = parse_arguments()\n",
        "args = argparse.Namespace(**conf)\n",
        "print(args)\n",
        "CONFIG.update(vars(args))\n",
        "\n",
        "# Setup output directory\n",
        "CONFIG.save_dir = os.path.join('record', CONFIG.experiment_name)\n",
        "os.makedirs(CONFIG.save_dir, exist_ok=True)\n",
        "\n",
        "# Setup logging\n",
        "logging.basicConfig(\n",
        "    filename=os.path.join(CONFIG.save_dir, 'log.txt'),\n",
        "    format='%(message)s',\n",
        "    level=logging.INFO,\n",
        "    filemode='a'\n",
        ")\n",
        "\n",
        "# Set experiment's device & deterministic behavior\n",
        "if CONFIG.cpu:\n",
        "    CONFIG.device = 'cpu'\n",
        "else:\n",
        "    CONFIG.device = 'cuda' if torch.cuda.is_available() else 'cpu'\n",
        "\n",
        "torch.manual_seed(CONFIG.seed)\n",
        "random.seed(CONFIG.seed)\n",
        "np.random.seed(CONFIG.seed)\n",
        "torch.backends.cudnn.benchmark = True\n",
        "torch.use_deterministic_algorithms(mode=True, warn_only=True)\n",
        "\n",
        "main()"
      ]
    },
    {
      "cell_type": "markdown",
      "metadata": {
        "id": "GXTnUk5uEfOD"
      },
      "source": [
        "#### 1.2.4 - ASH module after layer1.1.bn1 and layer3.0.conv1"
      ]
    },
    {
      "cell_type": "markdown",
      "metadata": {
        "id": "Wq3xca7fEfOE"
      },
      "source": [
        "##### 1.2.4.1 - Cartoon"
      ]
    },
    {
      "cell_type": "code",
      "execution_count": null,
      "metadata": {
        "vscode": {
          "languageId": "python"
        },
        "id": "Lv6Dv63ZEfOE"
      },
      "outputs": [],
      "source": [
        "warnings.filterwarnings('ignore', category=UserWarning)\n",
        "\n",
        "# Parse arguments\n",
        "conf = configurations['1.2.4.1']\n",
        "\n",
        "#args = parse_arguments()\n",
        "args = argparse.Namespace(**conf)\n",
        "print(args)\n",
        "CONFIG.update(vars(args))\n",
        "\n",
        "# Setup output directory\n",
        "CONFIG.save_dir = os.path.join('record', CONFIG.experiment_name)\n",
        "os.makedirs(CONFIG.save_dir, exist_ok=True)\n",
        "\n",
        "# Setup logging\n",
        "logging.basicConfig(\n",
        "    filename=os.path.join(CONFIG.save_dir, 'log.txt'),\n",
        "    format='%(message)s',\n",
        "    level=logging.INFO,\n",
        "    filemode='a'\n",
        ")\n",
        "\n",
        "# Set experiment's device & deterministic behavior\n",
        "if CONFIG.cpu:\n",
        "    CONFIG.device = 'cpu'\n",
        "else:\n",
        "    CONFIG.device = 'cuda' if torch.cuda.is_available() else 'cpu'\n",
        "\n",
        "torch.manual_seed(CONFIG.seed)\n",
        "random.seed(CONFIG.seed)\n",
        "np.random.seed(CONFIG.seed)\n",
        "torch.backends.cudnn.benchmark = True\n",
        "torch.use_deterministic_algorithms(mode=True, warn_only=True)\n",
        "\n",
        "main()"
      ]
    },
    {
      "cell_type": "markdown",
      "metadata": {
        "id": "ZzNMbjMrEfOE"
      },
      "source": [
        "##### 1.2.4.2 - Sketch"
      ]
    },
    {
      "cell_type": "code",
      "execution_count": null,
      "metadata": {
        "vscode": {
          "languageId": "python"
        },
        "id": "Sh1AuLEyEfOE"
      },
      "outputs": [],
      "source": [
        "warnings.filterwarnings('ignore', category=UserWarning)\n",
        "\n",
        "# Parse arguments\n",
        "conf = configurations['1.2.4.2']\n",
        "\n",
        "#args = parse_arguments()\n",
        "args = argparse.Namespace(**conf)\n",
        "print(args)\n",
        "CONFIG.update(vars(args))\n",
        "\n",
        "# Setup output directory\n",
        "CONFIG.save_dir = os.path.join('record', CONFIG.experiment_name)\n",
        "os.makedirs(CONFIG.save_dir, exist_ok=True)\n",
        "\n",
        "# Setup logging\n",
        "logging.basicConfig(\n",
        "    filename=os.path.join(CONFIG.save_dir, 'log.txt'),\n",
        "    format='%(message)s',\n",
        "    level=logging.INFO,\n",
        "    filemode='a'\n",
        ")\n",
        "\n",
        "# Set experiment's device & deterministic behavior\n",
        "if CONFIG.cpu:\n",
        "    CONFIG.device = 'cpu'\n",
        "else:\n",
        "    CONFIG.device = 'cuda' if torch.cuda.is_available() else 'cpu'\n",
        "\n",
        "torch.manual_seed(CONFIG.seed)\n",
        "random.seed(CONFIG.seed)\n",
        "np.random.seed(CONFIG.seed)\n",
        "torch.backends.cudnn.benchmark = True\n",
        "torch.use_deterministic_algorithms(mode=True, warn_only=True)\n",
        "\n",
        "main()"
      ]
    },
    {
      "cell_type": "markdown",
      "metadata": {
        "id": "uzj00LWYEfOE"
      },
      "source": [
        "##### 1.2.4.3 - Photo"
      ]
    },
    {
      "cell_type": "code",
      "execution_count": null,
      "metadata": {
        "vscode": {
          "languageId": "python"
        },
        "id": "7Nh_QtS9EfOE"
      },
      "outputs": [],
      "source": [
        "warnings.filterwarnings('ignore', category=UserWarning)\n",
        "\n",
        "# Parse arguments\n",
        "conf = configurations['1.2.4.3']\n",
        "\n",
        "#args = parse_arguments()\n",
        "args = argparse.Namespace(**conf)\n",
        "print(args)\n",
        "CONFIG.update(vars(args))\n",
        "\n",
        "# Setup output directory\n",
        "CONFIG.save_dir = os.path.join('record', CONFIG.experiment_name)\n",
        "os.makedirs(CONFIG.save_dir, exist_ok=True)\n",
        "\n",
        "# Setup logging\n",
        "logging.basicConfig(\n",
        "    filename=os.path.join(CONFIG.save_dir, 'log.txt'),\n",
        "    format='%(message)s',\n",
        "    level=logging.INFO,\n",
        "    filemode='a'\n",
        ")\n",
        "\n",
        "# Set experiment's device & deterministic behavior\n",
        "if CONFIG.cpu:\n",
        "    CONFIG.device = 'cpu'\n",
        "else:\n",
        "    CONFIG.device = 'cuda' if torch.cuda.is_available() else 'cpu'\n",
        "\n",
        "torch.manual_seed(CONFIG.seed)\n",
        "random.seed(CONFIG.seed)\n",
        "np.random.seed(CONFIG.seed)\n",
        "torch.backends.cudnn.benchmark = True\n",
        "torch.use_deterministic_algorithms(mode=True, warn_only=True)\n",
        "\n",
        "main()"
      ]
    },
    {
      "cell_type": "markdown",
      "metadata": {
        "id": "TGzAJcpgEfOF"
      },
      "source": [
        "#### 1.2.5 - ASH module after layer1.1.bn1 and layer3.1.conv2"
      ]
    },
    {
      "cell_type": "markdown",
      "metadata": {
        "id": "R41vqJvCEfOF"
      },
      "source": [
        "##### 1.2.5.1 - Cartoon"
      ]
    },
    {
      "cell_type": "code",
      "execution_count": null,
      "metadata": {
        "vscode": {
          "languageId": "python"
        },
        "id": "5a3Tof7nEfOF"
      },
      "outputs": [],
      "source": [
        "warnings.filterwarnings('ignore', category=UserWarning)\n",
        "\n",
        "# Parse arguments\n",
        "conf = configurations['1.2.5.1']\n",
        "\n",
        "#args = parse_arguments()\n",
        "args = argparse.Namespace(**conf)\n",
        "print(args)\n",
        "CONFIG.update(vars(args))\n",
        "\n",
        "# Setup output directory\n",
        "CONFIG.save_dir = os.path.join('record', CONFIG.experiment_name)\n",
        "os.makedirs(CONFIG.save_dir, exist_ok=True)\n",
        "\n",
        "# Setup logging\n",
        "logging.basicConfig(\n",
        "    filename=os.path.join(CONFIG.save_dir, 'log.txt'),\n",
        "    format='%(message)s',\n",
        "    level=logging.INFO,\n",
        "    filemode='a'\n",
        ")\n",
        "\n",
        "# Set experiment's device & deterministic behavior\n",
        "if CONFIG.cpu:\n",
        "    CONFIG.device = 'cpu'\n",
        "else:\n",
        "    CONFIG.device = 'cuda' if torch.cuda.is_available() else 'cpu'\n",
        "\n",
        "torch.manual_seed(CONFIG.seed)\n",
        "random.seed(CONFIG.seed)\n",
        "np.random.seed(CONFIG.seed)\n",
        "torch.backends.cudnn.benchmark = True\n",
        "torch.use_deterministic_algorithms(mode=True, warn_only=True)\n",
        "\n",
        "main()"
      ]
    },
    {
      "cell_type": "markdown",
      "metadata": {
        "id": "Q26FiocsEfOF"
      },
      "source": [
        "##### 1.2.5.2 - Sketch"
      ]
    },
    {
      "cell_type": "code",
      "execution_count": null,
      "metadata": {
        "vscode": {
          "languageId": "python"
        },
        "id": "ZsdkwVWkEfOF"
      },
      "outputs": [],
      "source": [
        "warnings.filterwarnings('ignore', category=UserWarning)\n",
        "\n",
        "# Parse arguments\n",
        "conf = configurations['1.2.5.2']\n",
        "\n",
        "#args = parse_arguments()\n",
        "args = argparse.Namespace(**conf)\n",
        "print(args)\n",
        "CONFIG.update(vars(args))\n",
        "\n",
        "# Setup output directory\n",
        "CONFIG.save_dir = os.path.join('record', CONFIG.experiment_name)\n",
        "os.makedirs(CONFIG.save_dir, exist_ok=True)\n",
        "\n",
        "# Setup logging\n",
        "logging.basicConfig(\n",
        "    filename=os.path.join(CONFIG.save_dir, 'log.txt'),\n",
        "    format='%(message)s',\n",
        "    level=logging.INFO,\n",
        "    filemode='a'\n",
        ")\n",
        "\n",
        "# Set experiment's device & deterministic behavior\n",
        "if CONFIG.cpu:\n",
        "    CONFIG.device = 'cpu'\n",
        "else:\n",
        "    CONFIG.device = 'cuda' if torch.cuda.is_available() else 'cpu'\n",
        "\n",
        "torch.manual_seed(CONFIG.seed)\n",
        "random.seed(CONFIG.seed)\n",
        "np.random.seed(CONFIG.seed)\n",
        "torch.backends.cudnn.benchmark = True\n",
        "torch.use_deterministic_algorithms(mode=True, warn_only=True)\n",
        "\n",
        "main()"
      ]
    },
    {
      "cell_type": "markdown",
      "metadata": {
        "id": "E-Pka-ItEfOF"
      },
      "source": [
        "##### 1.2.5.3 - Photo"
      ]
    },
    {
      "cell_type": "code",
      "execution_count": null,
      "metadata": {
        "vscode": {
          "languageId": "python"
        },
        "id": "aeNXm_tZEfOG"
      },
      "outputs": [],
      "source": [
        "warnings.filterwarnings('ignore', category=UserWarning)\n",
        "\n",
        "# Parse arguments\n",
        "conf = configurations['1.2.5.3']\n",
        "\n",
        "#args = parse_arguments()\n",
        "args = argparse.Namespace(**conf)\n",
        "print(args)\n",
        "CONFIG.update(vars(args))\n",
        "\n",
        "# Setup output directory\n",
        "CONFIG.save_dir = os.path.join('record', CONFIG.experiment_name)\n",
        "os.makedirs(CONFIG.save_dir, exist_ok=True)\n",
        "\n",
        "# Setup logging\n",
        "logging.basicConfig(\n",
        "    filename=os.path.join(CONFIG.save_dir, 'log.txt'),\n",
        "    format='%(message)s',\n",
        "    level=logging.INFO,\n",
        "    filemode='a'\n",
        ")\n",
        "\n",
        "# Set experiment's device & deterministic behavior\n",
        "if CONFIG.cpu:\n",
        "    CONFIG.device = 'cpu'\n",
        "else:\n",
        "    CONFIG.device = 'cuda' if torch.cuda.is_available() else 'cpu'\n",
        "\n",
        "torch.manual_seed(CONFIG.seed)\n",
        "random.seed(CONFIG.seed)\n",
        "np.random.seed(CONFIG.seed)\n",
        "torch.backends.cudnn.benchmark = True\n",
        "torch.use_deterministic_algorithms(mode=True, warn_only=True)\n",
        "\n",
        "main()"
      ]
    },
    {
      "cell_type": "markdown",
      "metadata": {
        "id": "mA31uN4sEfOG"
      },
      "source": [
        "#### 1.2.6 - ASH module after layer1.1.conv2 and layer1.1.bn2"
      ]
    },
    {
      "cell_type": "markdown",
      "metadata": {
        "id": "T2jybROuEfOG"
      },
      "source": [
        "##### 1.2.6.1 - Cartoon"
      ]
    },
    {
      "cell_type": "code",
      "execution_count": null,
      "metadata": {
        "vscode": {
          "languageId": "python"
        },
        "id": "RdMxYDMREfOG"
      },
      "outputs": [],
      "source": [
        "warnings.filterwarnings('ignore', category=UserWarning)\n",
        "\n",
        "# Parse arguments\n",
        "conf = configurations['1.2.6.1']\n",
        "\n",
        "#args = parse_arguments()\n",
        "args = argparse.Namespace(**conf)\n",
        "print(args)\n",
        "CONFIG.update(vars(args))\n",
        "\n",
        "# Setup output directory\n",
        "CONFIG.save_dir = os.path.join('record', CONFIG.experiment_name)\n",
        "os.makedirs(CONFIG.save_dir, exist_ok=True)\n",
        "\n",
        "# Setup logging\n",
        "logging.basicConfig(\n",
        "    filename=os.path.join(CONFIG.save_dir, 'log.txt'),\n",
        "    format='%(message)s',\n",
        "    level=logging.INFO,\n",
        "    filemode='a'\n",
        ")\n",
        "\n",
        "# Set experiment's device & deterministic behavior\n",
        "if CONFIG.cpu:\n",
        "    CONFIG.device = 'cpu'\n",
        "else:\n",
        "    CONFIG.device = 'cuda' if torch.cuda.is_available() else 'cpu'\n",
        "\n",
        "torch.manual_seed(CONFIG.seed)\n",
        "random.seed(CONFIG.seed)\n",
        "np.random.seed(CONFIG.seed)\n",
        "torch.backends.cudnn.benchmark = True\n",
        "torch.use_deterministic_algorithms(mode=True, warn_only=True)\n",
        "\n",
        "main()"
      ]
    },
    {
      "cell_type": "markdown",
      "metadata": {
        "id": "7mw-RP8rEfOG"
      },
      "source": [
        "##### 1.2.6.2 - Sketch"
      ]
    },
    {
      "cell_type": "code",
      "execution_count": null,
      "metadata": {
        "vscode": {
          "languageId": "python"
        },
        "id": "wWQjB0fLEfOH"
      },
      "outputs": [],
      "source": [
        "warnings.filterwarnings('ignore', category=UserWarning)\n",
        "\n",
        "# Parse arguments\n",
        "conf = configurations['1.2.6.2']\n",
        "\n",
        "#args = parse_arguments()\n",
        "args = argparse.Namespace(**conf)\n",
        "print(args)\n",
        "CONFIG.update(vars(args))\n",
        "\n",
        "# Setup output directory\n",
        "CONFIG.save_dir = os.path.join('record', CONFIG.experiment_name)\n",
        "os.makedirs(CONFIG.save_dir, exist_ok=True)\n",
        "\n",
        "# Setup logging\n",
        "logging.basicConfig(\n",
        "    filename=os.path.join(CONFIG.save_dir, 'log.txt'),\n",
        "    format='%(message)s',\n",
        "    level=logging.INFO,\n",
        "    filemode='a'\n",
        ")\n",
        "\n",
        "# Set experiment's device & deterministic behavior\n",
        "if CONFIG.cpu:\n",
        "    CONFIG.device = 'cpu'\n",
        "else:\n",
        "    CONFIG.device = 'cuda' if torch.cuda.is_available() else 'cpu'\n",
        "\n",
        "torch.manual_seed(CONFIG.seed)\n",
        "random.seed(CONFIG.seed)\n",
        "np.random.seed(CONFIG.seed)\n",
        "torch.backends.cudnn.benchmark = True\n",
        "torch.use_deterministic_algorithms(mode=True, warn_only=True)\n",
        "\n",
        "main()"
      ]
    },
    {
      "cell_type": "markdown",
      "metadata": {
        "id": "9cjUsCDTEfOH"
      },
      "source": [
        "##### 1.2.6.3 - Photo"
      ]
    },
    {
      "cell_type": "code",
      "execution_count": null,
      "metadata": {
        "vscode": {
          "languageId": "python"
        },
        "id": "HQWWW-D1EfOH"
      },
      "outputs": [],
      "source": [
        "warnings.filterwarnings('ignore', category=UserWarning)\n",
        "\n",
        "# Parse arguments\n",
        "conf = configurations['1.2.6.3']\n",
        "\n",
        "#args = parse_arguments()\n",
        "args = argparse.Namespace(**conf)\n",
        "print(args)\n",
        "CONFIG.update(vars(args))\n",
        "\n",
        "# Setup output directory\n",
        "CONFIG.save_dir = os.path.join('record', CONFIG.experiment_name)\n",
        "os.makedirs(CONFIG.save_dir, exist_ok=True)\n",
        "\n",
        "# Setup logging\n",
        "logging.basicConfig(\n",
        "    filename=os.path.join(CONFIG.save_dir, 'log.txt'),\n",
        "    format='%(message)s',\n",
        "    level=logging.INFO,\n",
        "    filemode='a'\n",
        ")\n",
        "\n",
        "# Set experiment's device & deterministic behavior\n",
        "if CONFIG.cpu:\n",
        "    CONFIG.device = 'cpu'\n",
        "else:\n",
        "    CONFIG.device = 'cuda' if torch.cuda.is_available() else 'cpu'\n",
        "\n",
        "torch.manual_seed(CONFIG.seed)\n",
        "random.seed(CONFIG.seed)\n",
        "np.random.seed(CONFIG.seed)\n",
        "torch.backends.cudnn.benchmark = True\n",
        "torch.use_deterministic_algorithms(mode=True, warn_only=True)\n",
        "\n",
        "main()"
      ]
    },
    {
      "cell_type": "markdown",
      "metadata": {
        "id": "oaIjcsqsEfOH"
      },
      "source": [
        "#### 1.2.7 - ASH module after layer1.1.conv2 and layer2.1.conv2"
      ]
    },
    {
      "cell_type": "markdown",
      "metadata": {
        "id": "LG3oy7nCEfOH"
      },
      "source": [
        "##### 1.2.7.1 - Cartoon"
      ]
    },
    {
      "cell_type": "code",
      "execution_count": null,
      "metadata": {
        "vscode": {
          "languageId": "python"
        },
        "id": "v5ejtJUREfOH"
      },
      "outputs": [],
      "source": [
        "warnings.filterwarnings('ignore', category=UserWarning)\n",
        "\n",
        "# Parse arguments\n",
        "conf = configurations['1.2.7.1']\n",
        "\n",
        "#args = parse_arguments()\n",
        "args = argparse.Namespace(**conf)\n",
        "print(args)\n",
        "CONFIG.update(vars(args))\n",
        "\n",
        "# Setup output directory\n",
        "CONFIG.save_dir = os.path.join('record', CONFIG.experiment_name)\n",
        "os.makedirs(CONFIG.save_dir, exist_ok=True)\n",
        "\n",
        "# Setup logging\n",
        "logging.basicConfig(\n",
        "    filename=os.path.join(CONFIG.save_dir, 'log.txt'),\n",
        "    format='%(message)s',\n",
        "    level=logging.INFO,\n",
        "    filemode='a'\n",
        ")\n",
        "\n",
        "# Set experiment's device & deterministic behavior\n",
        "if CONFIG.cpu:\n",
        "    CONFIG.device = 'cpu'\n",
        "else:\n",
        "    CONFIG.device = 'cuda' if torch.cuda.is_available() else 'cpu'\n",
        "\n",
        "torch.manual_seed(CONFIG.seed)\n",
        "random.seed(CONFIG.seed)\n",
        "np.random.seed(CONFIG.seed)\n",
        "torch.backends.cudnn.benchmark = True\n",
        "torch.use_deterministic_algorithms(mode=True, warn_only=True)\n",
        "\n",
        "main()"
      ]
    },
    {
      "cell_type": "markdown",
      "metadata": {
        "id": "E2QHq5hmEfOI"
      },
      "source": [
        "##### 1.2.7.2 - Sketch"
      ]
    },
    {
      "cell_type": "code",
      "execution_count": null,
      "metadata": {
        "vscode": {
          "languageId": "python"
        },
        "id": "_bNNJj2mEfOI"
      },
      "outputs": [],
      "source": [
        "warnings.filterwarnings('ignore', category=UserWarning)\n",
        "\n",
        "# Parse arguments\n",
        "conf = configurations['1.2.7.2']\n",
        "\n",
        "#args = parse_arguments()\n",
        "args = argparse.Namespace(**conf)\n",
        "print(args)\n",
        "CONFIG.update(vars(args))\n",
        "\n",
        "# Setup output directory\n",
        "CONFIG.save_dir = os.path.join('record', CONFIG.experiment_name)\n",
        "os.makedirs(CONFIG.save_dir, exist_ok=True)\n",
        "\n",
        "# Setup logging\n",
        "logging.basicConfig(\n",
        "    filename=os.path.join(CONFIG.save_dir, 'log.txt'),\n",
        "    format='%(message)s',\n",
        "    level=logging.INFO,\n",
        "    filemode='a'\n",
        ")\n",
        "\n",
        "# Set experiment's device & deterministic behavior\n",
        "if CONFIG.cpu:\n",
        "    CONFIG.device = 'cpu'\n",
        "else:\n",
        "    CONFIG.device = 'cuda' if torch.cuda.is_available() else 'cpu'\n",
        "\n",
        "torch.manual_seed(CONFIG.seed)\n",
        "random.seed(CONFIG.seed)\n",
        "np.random.seed(CONFIG.seed)\n",
        "torch.backends.cudnn.benchmark = True\n",
        "torch.use_deterministic_algorithms(mode=True, warn_only=True)\n",
        "\n",
        "main()"
      ]
    },
    {
      "cell_type": "markdown",
      "metadata": {
        "id": "XM7Zlg6iEfOI"
      },
      "source": [
        "##### 1.2.7.3 - Photo"
      ]
    },
    {
      "cell_type": "code",
      "execution_count": null,
      "metadata": {
        "vscode": {
          "languageId": "python"
        },
        "id": "RLCFsPSNEfOI"
      },
      "outputs": [],
      "source": [
        "warnings.filterwarnings('ignore', category=UserWarning)\n",
        "\n",
        "# Parse arguments\n",
        "conf = configurations['1.2.7.3']\n",
        "\n",
        "#args = parse_arguments()\n",
        "args = argparse.Namespace(**conf)\n",
        "print(args)\n",
        "CONFIG.update(vars(args))\n",
        "\n",
        "# Setup output directory\n",
        "CONFIG.save_dir = os.path.join('record', CONFIG.experiment_name)\n",
        "os.makedirs(CONFIG.save_dir, exist_ok=True)\n",
        "\n",
        "# Setup logging\n",
        "logging.basicConfig(\n",
        "    filename=os.path.join(CONFIG.save_dir, 'log.txt'),\n",
        "    format='%(message)s',\n",
        "    level=logging.INFO,\n",
        "    filemode='a'\n",
        ")\n",
        "\n",
        "# Set experiment's device & deterministic behavior\n",
        "if CONFIG.cpu:\n",
        "    CONFIG.device = 'cpu'\n",
        "else:\n",
        "    CONFIG.device = 'cuda' if torch.cuda.is_available() else 'cpu'\n",
        "\n",
        "torch.manual_seed(CONFIG.seed)\n",
        "random.seed(CONFIG.seed)\n",
        "np.random.seed(CONFIG.seed)\n",
        "torch.backends.cudnn.benchmark = True\n",
        "torch.use_deterministic_algorithms(mode=True, warn_only=True)\n",
        "\n",
        "main()"
      ]
    },
    {
      "cell_type": "markdown",
      "metadata": {
        "id": "YnRa_nTYEfOI"
      },
      "source": [
        "#### 1.2.8 - ASH module after layer1.1.conv2 and layer3.0.conv1"
      ]
    },
    {
      "cell_type": "markdown",
      "metadata": {
        "id": "B_kMdAVDEfOI"
      },
      "source": [
        "##### 1.2.8.1 - Cartoon"
      ]
    },
    {
      "cell_type": "code",
      "execution_count": null,
      "metadata": {
        "vscode": {
          "languageId": "python"
        },
        "id": "-S9174yqEfOJ"
      },
      "outputs": [],
      "source": [
        "warnings.filterwarnings('ignore', category=UserWarning)\n",
        "\n",
        "# Parse arguments\n",
        "conf = configurations['1.2.8.1']\n",
        "\n",
        "#args = parse_arguments()\n",
        "args = argparse.Namespace(**conf)\n",
        "print(args)\n",
        "CONFIG.update(vars(args))\n",
        "\n",
        "# Setup output directory\n",
        "CONFIG.save_dir = os.path.join('record', CONFIG.experiment_name)\n",
        "os.makedirs(CONFIG.save_dir, exist_ok=True)\n",
        "\n",
        "# Setup logging\n",
        "logging.basicConfig(\n",
        "    filename=os.path.join(CONFIG.save_dir, 'log.txt'),\n",
        "    format='%(message)s',\n",
        "    level=logging.INFO,\n",
        "    filemode='a'\n",
        ")\n",
        "\n",
        "# Set experiment's device & deterministic behavior\n",
        "if CONFIG.cpu:\n",
        "    CONFIG.device = 'cpu'\n",
        "else:\n",
        "    CONFIG.device = 'cuda' if torch.cuda.is_available() else 'cpu'\n",
        "\n",
        "torch.manual_seed(CONFIG.seed)\n",
        "random.seed(CONFIG.seed)\n",
        "np.random.seed(CONFIG.seed)\n",
        "torch.backends.cudnn.benchmark = True\n",
        "torch.use_deterministic_algorithms(mode=True, warn_only=True)\n",
        "\n",
        "main()"
      ]
    },
    {
      "cell_type": "markdown",
      "metadata": {
        "id": "zQJ7NktpEfOJ"
      },
      "source": [
        "##### 1.2.8.2 - Sketch"
      ]
    },
    {
      "cell_type": "code",
      "execution_count": null,
      "metadata": {
        "vscode": {
          "languageId": "python"
        },
        "id": "LtM75o8dEfOJ"
      },
      "outputs": [],
      "source": [
        "warnings.filterwarnings('ignore', category=UserWarning)\n",
        "\n",
        "# Parse arguments\n",
        "conf = configurations['1.2.8.2']\n",
        "\n",
        "#args = parse_arguments()\n",
        "args = argparse.Namespace(**conf)\n",
        "print(args)\n",
        "CONFIG.update(vars(args))\n",
        "\n",
        "# Setup output directory\n",
        "CONFIG.save_dir = os.path.join('record', CONFIG.experiment_name)\n",
        "os.makedirs(CONFIG.save_dir, exist_ok=True)\n",
        "\n",
        "# Setup logging\n",
        "logging.basicConfig(\n",
        "    filename=os.path.join(CONFIG.save_dir, 'log.txt'),\n",
        "    format='%(message)s',\n",
        "    level=logging.INFO,\n",
        "    filemode='a'\n",
        ")\n",
        "\n",
        "# Set experiment's device & deterministic behavior\n",
        "if CONFIG.cpu:\n",
        "    CONFIG.device = 'cpu'\n",
        "else:\n",
        "    CONFIG.device = 'cuda' if torch.cuda.is_available() else 'cpu'\n",
        "\n",
        "torch.manual_seed(CONFIG.seed)\n",
        "random.seed(CONFIG.seed)\n",
        "np.random.seed(CONFIG.seed)\n",
        "torch.backends.cudnn.benchmark = True\n",
        "torch.use_deterministic_algorithms(mode=True, warn_only=True)\n",
        "\n",
        "main()"
      ]
    },
    {
      "cell_type": "markdown",
      "metadata": {
        "id": "sMD9DeH4EfOJ"
      },
      "source": [
        "##### 1.2.8.3 - Photo"
      ]
    },
    {
      "cell_type": "code",
      "execution_count": null,
      "metadata": {
        "vscode": {
          "languageId": "python"
        },
        "id": "MBuIOj8bEfOJ"
      },
      "outputs": [],
      "source": [
        "warnings.filterwarnings('ignore', category=UserWarning)\n",
        "\n",
        "# Parse arguments\n",
        "conf = configurations['1.2.8.3']\n",
        "\n",
        "#args = parse_arguments()\n",
        "args = argparse.Namespace(**conf)\n",
        "print(args)\n",
        "CONFIG.update(vars(args))\n",
        "\n",
        "# Setup output directory\n",
        "CONFIG.save_dir = os.path.join('record', CONFIG.experiment_name)\n",
        "os.makedirs(CONFIG.save_dir, exist_ok=True)\n",
        "\n",
        "# Setup logging\n",
        "logging.basicConfig(\n",
        "    filename=os.path.join(CONFIG.save_dir, 'log.txt'),\n",
        "    format='%(message)s',\n",
        "    level=logging.INFO,\n",
        "    filemode='a'\n",
        ")\n",
        "\n",
        "# Set experiment's device & deterministic behavior\n",
        "if CONFIG.cpu:\n",
        "    CONFIG.device = 'cpu'\n",
        "else:\n",
        "    CONFIG.device = 'cuda' if torch.cuda.is_available() else 'cpu'\n",
        "\n",
        "torch.manual_seed(CONFIG.seed)\n",
        "random.seed(CONFIG.seed)\n",
        "np.random.seed(CONFIG.seed)\n",
        "torch.backends.cudnn.benchmark = True\n",
        "torch.use_deterministic_algorithms(mode=True, warn_only=True)\n",
        "\n",
        "main()"
      ]
    },
    {
      "cell_type": "markdown",
      "metadata": {
        "id": "1NwQYvVYEfOJ"
      },
      "source": [
        "#### 1.2.9 - ASH module after layer1.1.conv2 and layer3.1.conv2"
      ]
    },
    {
      "cell_type": "markdown",
      "metadata": {
        "id": "V0uzyIhhEfOJ"
      },
      "source": [
        "##### 1.2.9.1 - Cartoon"
      ]
    },
    {
      "cell_type": "code",
      "execution_count": null,
      "metadata": {
        "vscode": {
          "languageId": "python"
        },
        "id": "g07wZDJEEfOK"
      },
      "outputs": [],
      "source": [
        "warnings.filterwarnings('ignore', category=UserWarning)\n",
        "\n",
        "# Parse arguments\n",
        "conf = configurations['1.2.9.1']\n",
        "\n",
        "#args = parse_arguments()\n",
        "args = argparse.Namespace(**conf)\n",
        "print(args)\n",
        "CONFIG.update(vars(args))\n",
        "\n",
        "# Setup output directory\n",
        "CONFIG.save_dir = os.path.join('record', CONFIG.experiment_name)\n",
        "os.makedirs(CONFIG.save_dir, exist_ok=True)\n",
        "\n",
        "# Setup logging\n",
        "logging.basicConfig(\n",
        "    filename=os.path.join(CONFIG.save_dir, 'log.txt'),\n",
        "    format='%(message)s',\n",
        "    level=logging.INFO,\n",
        "    filemode='a'\n",
        ")\n",
        "\n",
        "# Set experiment's device & deterministic behavior\n",
        "if CONFIG.cpu:\n",
        "    CONFIG.device = 'cpu'\n",
        "else:\n",
        "    CONFIG.device = 'cuda' if torch.cuda.is_available() else 'cpu'\n",
        "\n",
        "torch.manual_seed(CONFIG.seed)\n",
        "random.seed(CONFIG.seed)\n",
        "np.random.seed(CONFIG.seed)\n",
        "torch.backends.cudnn.benchmark = True\n",
        "torch.use_deterministic_algorithms(mode=True, warn_only=True)\n",
        "\n",
        "main()"
      ]
    },
    {
      "cell_type": "markdown",
      "metadata": {
        "id": "j94TJyY_EfOK"
      },
      "source": [
        "##### 1.2.9.2 - Sketch"
      ]
    },
    {
      "cell_type": "code",
      "execution_count": null,
      "metadata": {
        "vscode": {
          "languageId": "python"
        },
        "id": "nAD5lsiUEfOP"
      },
      "outputs": [],
      "source": [
        "warnings.filterwarnings('ignore', category=UserWarning)\n",
        "\n",
        "# Parse arguments\n",
        "conf = configurations['1.2.9.2']\n",
        "\n",
        "#args = parse_arguments()\n",
        "args = argparse.Namespace(**conf)\n",
        "print(args)\n",
        "CONFIG.update(vars(args))\n",
        "\n",
        "# Setup output directory\n",
        "CONFIG.save_dir = os.path.join('record', CONFIG.experiment_name)\n",
        "os.makedirs(CONFIG.save_dir, exist_ok=True)\n",
        "\n",
        "# Setup logging\n",
        "logging.basicConfig(\n",
        "    filename=os.path.join(CONFIG.save_dir, 'log.txt'),\n",
        "    format='%(message)s',\n",
        "    level=logging.INFO,\n",
        "    filemode='a'\n",
        ")\n",
        "\n",
        "# Set experiment's device & deterministic behavior\n",
        "if CONFIG.cpu:\n",
        "    CONFIG.device = 'cpu'\n",
        "else:\n",
        "    CONFIG.device = 'cuda' if torch.cuda.is_available() else 'cpu'\n",
        "\n",
        "torch.manual_seed(CONFIG.seed)\n",
        "random.seed(CONFIG.seed)\n",
        "np.random.seed(CONFIG.seed)\n",
        "torch.backends.cudnn.benchmark = True\n",
        "torch.use_deterministic_algorithms(mode=True, warn_only=True)\n",
        "\n",
        "main()"
      ]
    },
    {
      "cell_type": "markdown",
      "metadata": {
        "id": "6Pbs0IxyEfOP"
      },
      "source": [
        "##### 1.2.9.3 - Photo"
      ]
    },
    {
      "cell_type": "code",
      "execution_count": null,
      "metadata": {
        "vscode": {
          "languageId": "python"
        },
        "id": "guDFoRPWEfOP"
      },
      "outputs": [],
      "source": [
        "warnings.filterwarnings('ignore', category=UserWarning)\n",
        "\n",
        "# Parse arguments\n",
        "conf = configurations['1.2.9.3']\n",
        "\n",
        "#args = parse_arguments()\n",
        "args = argparse.Namespace(**conf)\n",
        "print(args)\n",
        "CONFIG.update(vars(args))\n",
        "\n",
        "# Setup output directory\n",
        "CONFIG.save_dir = os.path.join('record', CONFIG.experiment_name)\n",
        "os.makedirs(CONFIG.save_dir, exist_ok=True)\n",
        "\n",
        "# Setup logging\n",
        "logging.basicConfig(\n",
        "    filename=os.path.join(CONFIG.save_dir, 'log.txt'),\n",
        "    format='%(message)s',\n",
        "    level=logging.INFO,\n",
        "    filemode='a'\n",
        ")\n",
        "\n",
        "# Set experiment's device & deterministic behavior\n",
        "if CONFIG.cpu:\n",
        "    CONFIG.device = 'cpu'\n",
        "else:\n",
        "    CONFIG.device = 'cuda' if torch.cuda.is_available() else 'cpu'\n",
        "\n",
        "torch.manual_seed(CONFIG.seed)\n",
        "random.seed(CONFIG.seed)\n",
        "np.random.seed(CONFIG.seed)\n",
        "torch.backends.cudnn.benchmark = True\n",
        "torch.use_deterministic_algorithms(mode=True, warn_only=True)\n",
        "\n",
        "main()"
      ]
    },
    {
      "cell_type": "markdown",
      "metadata": {
        "id": "JkPfNpK6EfOP"
      },
      "source": [
        "#### 1.2.10 - ASH module after layer1.1.bn2 and layer2.1.bn2"
      ]
    },
    {
      "cell_type": "markdown",
      "metadata": {
        "id": "X-CS05khEfOP"
      },
      "source": [
        "##### 1.2.10.1 - Cartoon"
      ]
    },
    {
      "cell_type": "code",
      "execution_count": null,
      "metadata": {
        "vscode": {
          "languageId": "python"
        },
        "id": "_qss1LIPEfOP"
      },
      "outputs": [],
      "source": [
        "warnings.filterwarnings('ignore', category=UserWarning)\n",
        "\n",
        "# Parse arguments\n",
        "conf = configurations['1.2.10.1']\n",
        "\n",
        "#args = parse_arguments()\n",
        "args = argparse.Namespace(**conf)\n",
        "print(args)\n",
        "CONFIG.update(vars(args))\n",
        "\n",
        "# Setup output directory\n",
        "CONFIG.save_dir = os.path.join('record', CONFIG.experiment_name)\n",
        "os.makedirs(CONFIG.save_dir, exist_ok=True)\n",
        "\n",
        "# Setup logging\n",
        "logging.basicConfig(\n",
        "    filename=os.path.join(CONFIG.save_dir, 'log.txt'),\n",
        "    format='%(message)s',\n",
        "    level=logging.INFO,\n",
        "    filemode='a'\n",
        ")\n",
        "\n",
        "# Set experiment's device & deterministic behavior\n",
        "if CONFIG.cpu:\n",
        "    CONFIG.device = 'cpu'\n",
        "else:\n",
        "    CONFIG.device = 'cuda' if torch.cuda.is_available() else 'cpu'\n",
        "\n",
        "torch.manual_seed(CONFIG.seed)\n",
        "random.seed(CONFIG.seed)\n",
        "np.random.seed(CONFIG.seed)\n",
        "torch.backends.cudnn.benchmark = True\n",
        "torch.use_deterministic_algorithms(mode=True, warn_only=True)\n",
        "\n",
        "main()"
      ]
    },
    {
      "cell_type": "markdown",
      "metadata": {
        "id": "4mm_lD5BEfOQ"
      },
      "source": [
        "##### 1.2.10.2 - Sketch"
      ]
    },
    {
      "cell_type": "code",
      "execution_count": null,
      "metadata": {
        "vscode": {
          "languageId": "python"
        },
        "id": "fpNL6JTAEfOQ"
      },
      "outputs": [],
      "source": [
        "warnings.filterwarnings('ignore', category=UserWarning)\n",
        "\n",
        "# Parse arguments\n",
        "conf = configurations['1.2.10.2']\n",
        "\n",
        "#args = parse_arguments()\n",
        "args = argparse.Namespace(**conf)\n",
        "print(args)\n",
        "CONFIG.update(vars(args))\n",
        "\n",
        "# Setup output directory\n",
        "CONFIG.save_dir = os.path.join('record', CONFIG.experiment_name)\n",
        "os.makedirs(CONFIG.save_dir, exist_ok=True)\n",
        "\n",
        "# Setup logging\n",
        "logging.basicConfig(\n",
        "    filename=os.path.join(CONFIG.save_dir, 'log.txt'),\n",
        "    format='%(message)s',\n",
        "    level=logging.INFO,\n",
        "    filemode='a'\n",
        ")\n",
        "\n",
        "# Set experiment's device & deterministic behavior\n",
        "if CONFIG.cpu:\n",
        "    CONFIG.device = 'cpu'\n",
        "else:\n",
        "    CONFIG.device = 'cuda' if torch.cuda.is_available() else 'cpu'\n",
        "\n",
        "torch.manual_seed(CONFIG.seed)\n",
        "random.seed(CONFIG.seed)\n",
        "np.random.seed(CONFIG.seed)\n",
        "torch.backends.cudnn.benchmark = True\n",
        "torch.use_deterministic_algorithms(mode=True, warn_only=True)\n",
        "\n",
        "main()"
      ]
    },
    {
      "cell_type": "markdown",
      "metadata": {
        "id": "ti8stuTgEfOQ"
      },
      "source": [
        "##### 1.2.10.3 - Photo"
      ]
    },
    {
      "cell_type": "code",
      "execution_count": null,
      "metadata": {
        "vscode": {
          "languageId": "python"
        },
        "id": "PaQo7NX1EfOQ"
      },
      "outputs": [],
      "source": [
        "warnings.filterwarnings('ignore', category=UserWarning)\n",
        "\n",
        "# Parse arguments\n",
        "conf = configurations['1.2.10.3']\n",
        "\n",
        "#args = parse_arguments()\n",
        "args = argparse.Namespace(**conf)\n",
        "print(args)\n",
        "CONFIG.update(vars(args))\n",
        "\n",
        "# Setup output directory\n",
        "CONFIG.save_dir = os.path.join('record', CONFIG.experiment_name)\n",
        "os.makedirs(CONFIG.save_dir, exist_ok=True)\n",
        "\n",
        "# Setup logging\n",
        "logging.basicConfig(\n",
        "    filename=os.path.join(CONFIG.save_dir, 'log.txt'),\n",
        "    format='%(message)s',\n",
        "    level=logging.INFO,\n",
        "    filemode='a'\n",
        ")\n",
        "\n",
        "# Set experiment's device & deterministic behavior\n",
        "if CONFIG.cpu:\n",
        "    CONFIG.device = 'cpu'\n",
        "else:\n",
        "    CONFIG.device = 'cuda' if torch.cuda.is_available() else 'cpu'\n",
        "\n",
        "torch.manual_seed(CONFIG.seed)\n",
        "random.seed(CONFIG.seed)\n",
        "np.random.seed(CONFIG.seed)\n",
        "torch.backends.cudnn.benchmark = True\n",
        "torch.use_deterministic_algorithms(mode=True, warn_only=True)\n",
        "\n",
        "main()"
      ]
    },
    {
      "cell_type": "markdown",
      "metadata": {
        "id": "8Uc2VfxUEfOQ"
      },
      "source": [
        "#### 1.2.11 - ASH module after layer1.1.bn2 and layer3.0.conv1"
      ]
    },
    {
      "cell_type": "markdown",
      "metadata": {
        "id": "zHhTkoxDEfOR"
      },
      "source": [
        "##### 1.2.11.1 - Cartoon"
      ]
    },
    {
      "cell_type": "code",
      "execution_count": null,
      "metadata": {
        "vscode": {
          "languageId": "python"
        },
        "id": "xDC195gjEfOR"
      },
      "outputs": [],
      "source": [
        "warnings.filterwarnings('ignore', category=UserWarning)\n",
        "\n",
        "# Parse arguments\n",
        "conf = configurations['1.2.11.1']\n",
        "\n",
        "#args = parse_arguments()\n",
        "args = argparse.Namespace(**conf)\n",
        "print(args)\n",
        "CONFIG.update(vars(args))\n",
        "\n",
        "# Setup output directory\n",
        "CONFIG.save_dir = os.path.join('record', CONFIG.experiment_name)\n",
        "os.makedirs(CONFIG.save_dir, exist_ok=True)\n",
        "\n",
        "# Setup logging\n",
        "logging.basicConfig(\n",
        "    filename=os.path.join(CONFIG.save_dir, 'log.txt'),\n",
        "    format='%(message)s',\n",
        "    level=logging.INFO,\n",
        "    filemode='a'\n",
        ")\n",
        "\n",
        "# Set experiment's device & deterministic behavior\n",
        "if CONFIG.cpu:\n",
        "    CONFIG.device = 'cpu'\n",
        "else:\n",
        "    CONFIG.device = 'cuda' if torch.cuda.is_available() else 'cpu'\n",
        "\n",
        "torch.manual_seed(CONFIG.seed)\n",
        "random.seed(CONFIG.seed)\n",
        "np.random.seed(CONFIG.seed)\n",
        "torch.backends.cudnn.benchmark = True\n",
        "torch.use_deterministic_algorithms(mode=True, warn_only=True)\n",
        "\n",
        "main()"
      ]
    },
    {
      "cell_type": "markdown",
      "metadata": {
        "id": "y5ckkVymEfOR"
      },
      "source": [
        "##### 1.2.11.2 - Sketch"
      ]
    },
    {
      "cell_type": "code",
      "execution_count": null,
      "metadata": {
        "vscode": {
          "languageId": "python"
        },
        "id": "6zyrtGlbEfOR"
      },
      "outputs": [],
      "source": [
        "warnings.filterwarnings('ignore', category=UserWarning)\n",
        "\n",
        "# Parse arguments\n",
        "conf = configurations['1.2.11.2']\n",
        "\n",
        "#args = parse_arguments()\n",
        "args = argparse.Namespace(**conf)\n",
        "print(args)\n",
        "CONFIG.update(vars(args))\n",
        "\n",
        "# Setup output directory\n",
        "CONFIG.save_dir = os.path.join('record', CONFIG.experiment_name)\n",
        "os.makedirs(CONFIG.save_dir, exist_ok=True)\n",
        "\n",
        "# Setup logging\n",
        "logging.basicConfig(\n",
        "    filename=os.path.join(CONFIG.save_dir, 'log.txt'),\n",
        "    format='%(message)s',\n",
        "    level=logging.INFO,\n",
        "    filemode='a'\n",
        ")\n",
        "\n",
        "# Set experiment's device & deterministic behavior\n",
        "if CONFIG.cpu:\n",
        "    CONFIG.device = 'cpu'\n",
        "else:\n",
        "    CONFIG.device = 'cuda' if torch.cuda.is_available() else 'cpu'\n",
        "\n",
        "torch.manual_seed(CONFIG.seed)\n",
        "random.seed(CONFIG.seed)\n",
        "np.random.seed(CONFIG.seed)\n",
        "torch.backends.cudnn.benchmark = True\n",
        "torch.use_deterministic_algorithms(mode=True, warn_only=True)\n",
        "\n",
        "main()"
      ]
    },
    {
      "cell_type": "markdown",
      "metadata": {
        "id": "0iAQfAbjEfOR"
      },
      "source": [
        "##### 1.2.11.3 - Photo"
      ]
    },
    {
      "cell_type": "code",
      "execution_count": null,
      "metadata": {
        "vscode": {
          "languageId": "python"
        },
        "id": "HP_FDbNGEfOS"
      },
      "outputs": [],
      "source": [
        "warnings.filterwarnings('ignore', category=UserWarning)\n",
        "\n",
        "# Parse arguments\n",
        "conf = configurations['1.2.11.3']\n",
        "\n",
        "#args = parse_arguments()\n",
        "args = argparse.Namespace(**conf)\n",
        "print(args)\n",
        "CONFIG.update(vars(args))\n",
        "\n",
        "# Setup output directory\n",
        "CONFIG.save_dir = os.path.join('record', CONFIG.experiment_name)\n",
        "os.makedirs(CONFIG.save_dir, exist_ok=True)\n",
        "\n",
        "# Setup logging\n",
        "logging.basicConfig(\n",
        "    filename=os.path.join(CONFIG.save_dir, 'log.txt'),\n",
        "    format='%(message)s',\n",
        "    level=logging.INFO,\n",
        "    filemode='a'\n",
        ")\n",
        "\n",
        "# Set experiment's device & deterministic behavior\n",
        "if CONFIG.cpu:\n",
        "    CONFIG.device = 'cpu'\n",
        "else:\n",
        "    CONFIG.device = 'cuda' if torch.cuda.is_available() else 'cpu'\n",
        "\n",
        "torch.manual_seed(CONFIG.seed)\n",
        "random.seed(CONFIG.seed)\n",
        "np.random.seed(CONFIG.seed)\n",
        "torch.backends.cudnn.benchmark = True\n",
        "torch.use_deterministic_algorithms(mode=True, warn_only=True)\n",
        "\n",
        "main()"
      ]
    },
    {
      "cell_type": "markdown",
      "metadata": {
        "id": "EHpQa--lEfOS"
      },
      "source": [
        "#### 1.2.12 - ASH module after layer1.1.bn2 and layer3.1.conv2"
      ]
    },
    {
      "cell_type": "markdown",
      "metadata": {
        "id": "Wi7oL1OTEfOS"
      },
      "source": [
        "##### 1.2.12.1 - Cartoon"
      ]
    },
    {
      "cell_type": "code",
      "execution_count": null,
      "metadata": {
        "vscode": {
          "languageId": "python"
        },
        "id": "6HGQAtb6EfOS"
      },
      "outputs": [],
      "source": [
        "warnings.filterwarnings('ignore', category=UserWarning)\n",
        "\n",
        "# Parse arguments\n",
        "conf = configurations['1.2.12.1']\n",
        "\n",
        "#args = parse_arguments()\n",
        "args = argparse.Namespace(**conf)\n",
        "print(args)\n",
        "CONFIG.update(vars(args))\n",
        "\n",
        "# Setup output directory\n",
        "CONFIG.save_dir = os.path.join('record', CONFIG.experiment_name)\n",
        "os.makedirs(CONFIG.save_dir, exist_ok=True)\n",
        "\n",
        "# Setup logging\n",
        "logging.basicConfig(\n",
        "    filename=os.path.join(CONFIG.save_dir, 'log.txt'),\n",
        "    format='%(message)s',\n",
        "    level=logging.INFO,\n",
        "    filemode='a'\n",
        ")\n",
        "\n",
        "# Set experiment's device & deterministic behavior\n",
        "if CONFIG.cpu:\n",
        "    CONFIG.device = 'cpu'\n",
        "else:\n",
        "    CONFIG.device = 'cuda' if torch.cuda.is_available() else 'cpu'\n",
        "\n",
        "torch.manual_seed(CONFIG.seed)\n",
        "random.seed(CONFIG.seed)\n",
        "np.random.seed(CONFIG.seed)\n",
        "torch.backends.cudnn.benchmark = True\n",
        "torch.use_deterministic_algorithms(mode=True, warn_only=True)\n",
        "\n",
        "main()"
      ]
    },
    {
      "cell_type": "markdown",
      "metadata": {
        "id": "qp4_ugSMEfOS"
      },
      "source": [
        "##### 1.2.12.2 - Sketch"
      ]
    },
    {
      "cell_type": "code",
      "execution_count": null,
      "metadata": {
        "vscode": {
          "languageId": "python"
        },
        "id": "c0J9RCKsEfOS"
      },
      "outputs": [],
      "source": [
        "warnings.filterwarnings('ignore', category=UserWarning)\n",
        "\n",
        "# Parse arguments\n",
        "conf = configurations['1.2.12.2']\n",
        "\n",
        "#args = parse_arguments()\n",
        "args = argparse.Namespace(**conf)\n",
        "print(args)\n",
        "CONFIG.update(vars(args))\n",
        "\n",
        "# Setup output directory\n",
        "CONFIG.save_dir = os.path.join('record', CONFIG.experiment_name)\n",
        "os.makedirs(CONFIG.save_dir, exist_ok=True)\n",
        "\n",
        "# Setup logging\n",
        "logging.basicConfig(\n",
        "    filename=os.path.join(CONFIG.save_dir, 'log.txt'),\n",
        "    format='%(message)s',\n",
        "    level=logging.INFO,\n",
        "    filemode='a'\n",
        ")\n",
        "\n",
        "# Set experiment's device & deterministic behavior\n",
        "if CONFIG.cpu:\n",
        "    CONFIG.device = 'cpu'\n",
        "else:\n",
        "    CONFIG.device = 'cuda' if torch.cuda.is_available() else 'cpu'\n",
        "\n",
        "torch.manual_seed(CONFIG.seed)\n",
        "random.seed(CONFIG.seed)\n",
        "np.random.seed(CONFIG.seed)\n",
        "torch.backends.cudnn.benchmark = True\n",
        "torch.use_deterministic_algorithms(mode=True, warn_only=True)\n",
        "\n",
        "main()"
      ]
    },
    {
      "cell_type": "markdown",
      "metadata": {
        "id": "TaMZLSp8EfOT"
      },
      "source": [
        "##### 1.2.12.3 - Photo"
      ]
    },
    {
      "cell_type": "code",
      "execution_count": null,
      "metadata": {
        "vscode": {
          "languageId": "python"
        },
        "id": "IvIkkjNaEfOT"
      },
      "outputs": [],
      "source": [
        "warnings.filterwarnings('ignore', category=UserWarning)\n",
        "\n",
        "# Parse arguments\n",
        "conf = configurations['1.2.12.3']\n",
        "\n",
        "#args = parse_arguments()\n",
        "args = argparse.Namespace(**conf)\n",
        "print(args)\n",
        "CONFIG.update(vars(args))\n",
        "\n",
        "# Setup output directory\n",
        "CONFIG.save_dir = os.path.join('record', CONFIG.experiment_name)\n",
        "os.makedirs(CONFIG.save_dir, exist_ok=True)\n",
        "\n",
        "# Setup logging\n",
        "logging.basicConfig(\n",
        "    filename=os.path.join(CONFIG.save_dir, 'log.txt'),\n",
        "    format='%(message)s',\n",
        "    level=logging.INFO,\n",
        "    filemode='a'\n",
        ")\n",
        "\n",
        "# Set experiment's device & deterministic behavior\n",
        "if CONFIG.cpu:\n",
        "    CONFIG.device = 'cpu'\n",
        "else:\n",
        "    CONFIG.device = 'cuda' if torch.cuda.is_available() else 'cpu'\n",
        "\n",
        "torch.manual_seed(CONFIG.seed)\n",
        "random.seed(CONFIG.seed)\n",
        "np.random.seed(CONFIG.seed)\n",
        "torch.backends.cudnn.benchmark = True\n",
        "torch.use_deterministic_algorithms(mode=True, warn_only=True)\n",
        "\n",
        "main()"
      ]
    },
    {
      "cell_type": "markdown",
      "metadata": {
        "id": "d0HLKyM6EfOT"
      },
      "source": [
        "#### 1.2.13 - ASH module after layer2.1.conv2 and layer3.0.conv1"
      ]
    },
    {
      "cell_type": "markdown",
      "metadata": {
        "id": "itqKuKCPEfOT"
      },
      "source": [
        "##### 1.2.13.1 - Cartoon"
      ]
    },
    {
      "cell_type": "code",
      "execution_count": null,
      "metadata": {
        "vscode": {
          "languageId": "python"
        },
        "id": "Oo4zAzfeEfOT"
      },
      "outputs": [],
      "source": [
        "warnings.filterwarnings('ignore', category=UserWarning)\n",
        "\n",
        "# Parse arguments\n",
        "conf = configurations['1.2.13.1']\n",
        "\n",
        "#args = parse_arguments()\n",
        "args = argparse.Namespace(**conf)\n",
        "print(args)\n",
        "CONFIG.update(vars(args))\n",
        "\n",
        "# Setup output directory\n",
        "CONFIG.save_dir = os.path.join('record', CONFIG.experiment_name)\n",
        "os.makedirs(CONFIG.save_dir, exist_ok=True)\n",
        "\n",
        "# Setup logging\n",
        "logging.basicConfig(\n",
        "    filename=os.path.join(CONFIG.save_dir, 'log.txt'),\n",
        "    format='%(message)s',\n",
        "    level=logging.INFO,\n",
        "    filemode='a'\n",
        ")\n",
        "\n",
        "# Set experiment's device & deterministic behavior\n",
        "if CONFIG.cpu:\n",
        "    CONFIG.device = 'cpu'\n",
        "else:\n",
        "    CONFIG.device = 'cuda' if torch.cuda.is_available() else 'cpu'\n",
        "\n",
        "torch.manual_seed(CONFIG.seed)\n",
        "random.seed(CONFIG.seed)\n",
        "np.random.seed(CONFIG.seed)\n",
        "torch.backends.cudnn.benchmark = True\n",
        "torch.use_deterministic_algorithms(mode=True, warn_only=True)\n",
        "\n",
        "main()"
      ]
    },
    {
      "cell_type": "markdown",
      "metadata": {
        "id": "GFe497REEfOT"
      },
      "source": [
        "##### 1.2.13.2 - Sketch"
      ]
    },
    {
      "cell_type": "code",
      "execution_count": null,
      "metadata": {
        "vscode": {
          "languageId": "python"
        },
        "id": "mqpQF2LZEfOT"
      },
      "outputs": [],
      "source": [
        "warnings.filterwarnings('ignore', category=UserWarning)\n",
        "\n",
        "# Parse arguments\n",
        "conf = configurations['1.2.13.2']\n",
        "\n",
        "#args = parse_arguments()\n",
        "args = argparse.Namespace(**conf)\n",
        "print(args)\n",
        "CONFIG.update(vars(args))\n",
        "\n",
        "# Setup output directory\n",
        "CONFIG.save_dir = os.path.join('record', CONFIG.experiment_name)\n",
        "os.makedirs(CONFIG.save_dir, exist_ok=True)\n",
        "\n",
        "# Setup logging\n",
        "logging.basicConfig(\n",
        "    filename=os.path.join(CONFIG.save_dir, 'log.txt'),\n",
        "    format='%(message)s',\n",
        "    level=logging.INFO,\n",
        "    filemode='a'\n",
        ")\n",
        "\n",
        "# Set experiment's device & deterministic behavior\n",
        "if CONFIG.cpu:\n",
        "    CONFIG.device = 'cpu'\n",
        "else:\n",
        "    CONFIG.device = 'cuda' if torch.cuda.is_available() else 'cpu'\n",
        "\n",
        "torch.manual_seed(CONFIG.seed)\n",
        "random.seed(CONFIG.seed)\n",
        "np.random.seed(CONFIG.seed)\n",
        "torch.backends.cudnn.benchmark = True\n",
        "torch.use_deterministic_algorithms(mode=True, warn_only=True)\n",
        "\n",
        "main()"
      ]
    },
    {
      "cell_type": "markdown",
      "metadata": {
        "id": "C_zvD5IqEfOU"
      },
      "source": [
        "##### 1.2.13.3 - Photo"
      ]
    },
    {
      "cell_type": "code",
      "execution_count": null,
      "metadata": {
        "vscode": {
          "languageId": "python"
        },
        "id": "htgmq4CZEfOU"
      },
      "outputs": [],
      "source": [
        "warnings.filterwarnings('ignore', category=UserWarning)\n",
        "\n",
        "# Parse arguments\n",
        "conf = configurations['1.2.13.3']\n",
        "\n",
        "#args = parse_arguments()\n",
        "args = argparse.Namespace(**conf)\n",
        "print(args)\n",
        "CONFIG.update(vars(args))\n",
        "\n",
        "# Setup output directory\n",
        "CONFIG.save_dir = os.path.join('record', CONFIG.experiment_name)\n",
        "os.makedirs(CONFIG.save_dir, exist_ok=True)\n",
        "\n",
        "# Setup logging\n",
        "logging.basicConfig(\n",
        "    filename=os.path.join(CONFIG.save_dir, 'log.txt'),\n",
        "    format='%(message)s',\n",
        "    level=logging.INFO,\n",
        "    filemode='a'\n",
        ")\n",
        "\n",
        "# Set experiment's device & deterministic behavior\n",
        "if CONFIG.cpu:\n",
        "    CONFIG.device = 'cpu'\n",
        "else:\n",
        "    CONFIG.device = 'cuda' if torch.cuda.is_available() else 'cpu'\n",
        "\n",
        "torch.manual_seed(CONFIG.seed)\n",
        "random.seed(CONFIG.seed)\n",
        "np.random.seed(CONFIG.seed)\n",
        "torch.backends.cudnn.benchmark = True\n",
        "torch.use_deterministic_algorithms(mode=True, warn_only=True)\n",
        "\n",
        "main()"
      ]
    },
    {
      "cell_type": "markdown",
      "metadata": {
        "id": "AVnc98edEfOU"
      },
      "source": [
        "#### 1.2.14 - ASH module after layer2.1.conv2 and layer3.1.conv2"
      ]
    },
    {
      "cell_type": "markdown",
      "metadata": {
        "id": "K5uLTs4sEfOU"
      },
      "source": [
        "##### 1.2.14.1 - Cartoon"
      ]
    },
    {
      "cell_type": "code",
      "execution_count": null,
      "metadata": {
        "vscode": {
          "languageId": "python"
        },
        "id": "5cNZ6tGpEfOU"
      },
      "outputs": [],
      "source": [
        "warnings.filterwarnings('ignore', category=UserWarning)\n",
        "\n",
        "# Parse arguments\n",
        "conf = configurations['1.2.14.1']\n",
        "\n",
        "#args = parse_arguments()\n",
        "args = argparse.Namespace(**conf)\n",
        "print(args)\n",
        "CONFIG.update(vars(args))\n",
        "\n",
        "# Setup output directory\n",
        "CONFIG.save_dir = os.path.join('record', CONFIG.experiment_name)\n",
        "os.makedirs(CONFIG.save_dir, exist_ok=True)\n",
        "\n",
        "# Setup logging\n",
        "logging.basicConfig(\n",
        "    filename=os.path.join(CONFIG.save_dir, 'log.txt'),\n",
        "    format='%(message)s',\n",
        "    level=logging.INFO,\n",
        "    filemode='a'\n",
        ")\n",
        "\n",
        "# Set experiment's device & deterministic behavior\n",
        "if CONFIG.cpu:\n",
        "    CONFIG.device = 'cpu'\n",
        "else:\n",
        "    CONFIG.device = 'cuda' if torch.cuda.is_available() else 'cpu'\n",
        "\n",
        "torch.manual_seed(CONFIG.seed)\n",
        "random.seed(CONFIG.seed)\n",
        "np.random.seed(CONFIG.seed)\n",
        "torch.backends.cudnn.benchmark = True\n",
        "torch.use_deterministic_algorithms(mode=True, warn_only=True)\n",
        "\n",
        "main()"
      ]
    },
    {
      "cell_type": "markdown",
      "metadata": {
        "id": "sYowV7GYEfOU"
      },
      "source": [
        "##### 1.2.14.2 - Sketch"
      ]
    },
    {
      "cell_type": "code",
      "execution_count": null,
      "metadata": {
        "vscode": {
          "languageId": "python"
        },
        "id": "Dp9E35BOEfOV"
      },
      "outputs": [],
      "source": [
        "warnings.filterwarnings('ignore', category=UserWarning)\n",
        "\n",
        "# Parse arguments\n",
        "conf = configurations['1.2.14.2']\n",
        "\n",
        "#args = parse_arguments()\n",
        "args = argparse.Namespace(**conf)\n",
        "print(args)\n",
        "CONFIG.update(vars(args))\n",
        "\n",
        "# Setup output directory\n",
        "CONFIG.save_dir = os.path.join('record', CONFIG.experiment_name)\n",
        "os.makedirs(CONFIG.save_dir, exist_ok=True)\n",
        "\n",
        "# Setup logging\n",
        "logging.basicConfig(\n",
        "    filename=os.path.join(CONFIG.save_dir, 'log.txt'),\n",
        "    format='%(message)s',\n",
        "    level=logging.INFO,\n",
        "    filemode='a'\n",
        ")\n",
        "\n",
        "# Set experiment's device & deterministic behavior\n",
        "if CONFIG.cpu:\n",
        "    CONFIG.device = 'cpu'\n",
        "else:\n",
        "    CONFIG.device = 'cuda' if torch.cuda.is_available() else 'cpu'\n",
        "\n",
        "torch.manual_seed(CONFIG.seed)\n",
        "random.seed(CONFIG.seed)\n",
        "np.random.seed(CONFIG.seed)\n",
        "torch.backends.cudnn.benchmark = True\n",
        "torch.use_deterministic_algorithms(mode=True, warn_only=True)\n",
        "\n",
        "main()"
      ]
    },
    {
      "cell_type": "markdown",
      "metadata": {
        "id": "kOVnJQBnEfOV"
      },
      "source": [
        "##### 1.2.14.3 - Photo"
      ]
    },
    {
      "cell_type": "code",
      "execution_count": null,
      "metadata": {
        "vscode": {
          "languageId": "python"
        },
        "id": "OkpH3KlNEfOV"
      },
      "outputs": [],
      "source": [
        "warnings.filterwarnings('ignore', category=UserWarning)\n",
        "\n",
        "# Parse arguments\n",
        "conf = configurations['1.2.14.3']\n",
        "\n",
        "#args = parse_arguments()\n",
        "args = argparse.Namespace(**conf)\n",
        "print(args)\n",
        "CONFIG.update(vars(args))\n",
        "\n",
        "# Setup output directory\n",
        "CONFIG.save_dir = os.path.join('record', CONFIG.experiment_name)\n",
        "os.makedirs(CONFIG.save_dir, exist_ok=True)\n",
        "\n",
        "# Setup logging\n",
        "logging.basicConfig(\n",
        "    filename=os.path.join(CONFIG.save_dir, 'log.txt'),\n",
        "    format='%(message)s',\n",
        "    level=logging.INFO,\n",
        "    filemode='a'\n",
        ")\n",
        "\n",
        "# Set experiment's device & deterministic behavior\n",
        "if CONFIG.cpu:\n",
        "    CONFIG.device = 'cpu'\n",
        "else:\n",
        "    CONFIG.device = 'cuda' if torch.cuda.is_available() else 'cpu'\n",
        "\n",
        "torch.manual_seed(CONFIG.seed)\n",
        "random.seed(CONFIG.seed)\n",
        "np.random.seed(CONFIG.seed)\n",
        "torch.backends.cudnn.benchmark = True\n",
        "torch.use_deterministic_algorithms(mode=True, warn_only=True)\n",
        "\n",
        "main()"
      ]
    },
    {
      "cell_type": "markdown",
      "metadata": {
        "id": "PVpUytEFEfOV"
      },
      "source": [
        "#### 1.2.15 - ASH module after layer3.0.conv1 and layer3.1.conv2"
      ]
    },
    {
      "cell_type": "markdown",
      "metadata": {
        "id": "q0B8ZtkNEfOV"
      },
      "source": [
        "##### 1.2.15.1 - Cartoon"
      ]
    },
    {
      "cell_type": "code",
      "execution_count": null,
      "metadata": {
        "vscode": {
          "languageId": "python"
        },
        "id": "BI9tEdtiEfOV"
      },
      "outputs": [],
      "source": [
        "warnings.filterwarnings('ignore', category=UserWarning)\n",
        "\n",
        "# Parse arguments\n",
        "conf = configurations['1.2.15.1']\n",
        "\n",
        "#args = parse_arguments()\n",
        "args = argparse.Namespace(**conf)\n",
        "print(args)\n",
        "CONFIG.update(vars(args))\n",
        "\n",
        "# Setup output directory\n",
        "CONFIG.save_dir = os.path.join('record', CONFIG.experiment_name)\n",
        "os.makedirs(CONFIG.save_dir, exist_ok=True)\n",
        "\n",
        "# Setup logging\n",
        "logging.basicConfig(\n",
        "    filename=os.path.join(CONFIG.save_dir, 'log.txt'),\n",
        "    format='%(message)s',\n",
        "    level=logging.INFO,\n",
        "    filemode='a'\n",
        ")\n",
        "\n",
        "# Set experiment's device & deterministic behavior\n",
        "if CONFIG.cpu:\n",
        "    CONFIG.device = 'cpu'\n",
        "else:\n",
        "    CONFIG.device = 'cuda' if torch.cuda.is_available() else 'cpu'\n",
        "\n",
        "torch.manual_seed(CONFIG.seed)\n",
        "random.seed(CONFIG.seed)\n",
        "np.random.seed(CONFIG.seed)\n",
        "torch.backends.cudnn.benchmark = True\n",
        "torch.use_deterministic_algorithms(mode=True, warn_only=True)\n",
        "\n",
        "main()"
      ]
    },
    {
      "cell_type": "markdown",
      "metadata": {
        "id": "ABFB_v44EfOW"
      },
      "source": [
        "##### 1.2.15.2 - Sketch"
      ]
    },
    {
      "cell_type": "code",
      "execution_count": null,
      "metadata": {
        "vscode": {
          "languageId": "python"
        },
        "id": "IVzf52q2EfOW"
      },
      "outputs": [],
      "source": [
        "warnings.filterwarnings('ignore', category=UserWarning)\n",
        "\n",
        "# Parse arguments\n",
        "conf = configurations['1.2.15.2']\n",
        "\n",
        "#args = parse_arguments()\n",
        "args = argparse.Namespace(**conf)\n",
        "print(args)\n",
        "CONFIG.update(vars(args))\n",
        "\n",
        "# Setup output directory\n",
        "CONFIG.save_dir = os.path.join('record', CONFIG.experiment_name)\n",
        "os.makedirs(CONFIG.save_dir, exist_ok=True)\n",
        "\n",
        "# Setup logging\n",
        "logging.basicConfig(\n",
        "    filename=os.path.join(CONFIG.save_dir, 'log.txt'),\n",
        "    format='%(message)s',\n",
        "    level=logging.INFO,\n",
        "    filemode='a'\n",
        ")\n",
        "\n",
        "# Set experiment's device & deterministic behavior\n",
        "if CONFIG.cpu:\n",
        "    CONFIG.device = 'cpu'\n",
        "else:\n",
        "    CONFIG.device = 'cuda' if torch.cuda.is_available() else 'cpu'\n",
        "\n",
        "torch.manual_seed(CONFIG.seed)\n",
        "random.seed(CONFIG.seed)\n",
        "np.random.seed(CONFIG.seed)\n",
        "torch.backends.cudnn.benchmark = True\n",
        "torch.use_deterministic_algorithms(mode=True, warn_only=True)\n",
        "\n",
        "main()"
      ]
    },
    {
      "cell_type": "markdown",
      "metadata": {
        "id": "Xtt7ooKdEfOW"
      },
      "source": [
        "##### 1.2.15.3 - Photo"
      ]
    },
    {
      "cell_type": "code",
      "execution_count": null,
      "metadata": {
        "vscode": {
          "languageId": "python"
        },
        "id": "xTd6iLUgEfOW"
      },
      "outputs": [],
      "source": [
        "warnings.filterwarnings('ignore', category=UserWarning)\n",
        "\n",
        "# Parse arguments\n",
        "conf = configurations['1.2.15.3']\n",
        "\n",
        "#args = parse_arguments()\n",
        "args = argparse.Namespace(**conf)\n",
        "print(args)\n",
        "CONFIG.update(vars(args))\n",
        "\n",
        "# Setup output directory\n",
        "CONFIG.save_dir = os.path.join('record', CONFIG.experiment_name)\n",
        "os.makedirs(CONFIG.save_dir, exist_ok=True)\n",
        "\n",
        "# Setup logging\n",
        "logging.basicConfig(\n",
        "    filename=os.path.join(CONFIG.save_dir, 'log.txt'),\n",
        "    format='%(message)s',\n",
        "    level=logging.INFO,\n",
        "    filemode='a'\n",
        ")\n",
        "\n",
        "# Set experiment's device & deterministic behavior\n",
        "if CONFIG.cpu:\n",
        "    CONFIG.device = 'cpu'\n",
        "else:\n",
        "    CONFIG.device = 'cuda' if torch.cuda.is_available() else 'cpu'\n",
        "\n",
        "torch.manual_seed(CONFIG.seed)\n",
        "random.seed(CONFIG.seed)\n",
        "np.random.seed(CONFIG.seed)\n",
        "torch.backends.cudnn.benchmark = True\n",
        "torch.use_deterministic_algorithms(mode=True, warn_only=True)\n",
        "\n",
        "main()"
      ]
    },
    {
      "cell_type": "markdown",
      "metadata": {
        "id": "ZVIcXvTeEfOW"
      },
      "source": [
        "### 1.3 - Three ASH modules"
      ]
    },
    {
      "cell_type": "markdown",
      "metadata": {
        "id": "fwcLOHS9EfOW"
      },
      "source": [
        "#### 1.3.1 - ASH module after layer1.1.bn1, layer1.1.conv2, and layer1.1.bn2"
      ]
    },
    {
      "cell_type": "markdown",
      "metadata": {
        "id": "GX8tliKIEfOW"
      },
      "source": [
        "##### 1.3.1.1 - Cartoon"
      ]
    },
    {
      "cell_type": "code",
      "execution_count": null,
      "metadata": {
        "vscode": {
          "languageId": "python"
        },
        "id": "p7UewukpEfOW"
      },
      "outputs": [],
      "source": [
        "warnings.filterwarnings('ignore', category=UserWarning)\n",
        "\n",
        "# Parse arguments\n",
        "conf = configurations['1.3.1.1']\n",
        "\n",
        "#args = parse_arguments()\n",
        "args = argparse.Namespace(**conf)\n",
        "print(args)\n",
        "CONFIG.update(vars(args))\n",
        "\n",
        "# Setup output directory\n",
        "CONFIG.save_dir = os.path.join('record', CONFIG.experiment_name)\n",
        "os.makedirs(CONFIG.save_dir, exist_ok=True)\n",
        "\n",
        "# Setup logging\n",
        "logging.basicConfig(\n",
        "    filename=os.path.join(CONFIG.save_dir, 'log.txt'),\n",
        "    format='%(message)s',\n",
        "    level=logging.INFO,\n",
        "    filemode='a'\n",
        ")\n",
        "\n",
        "# Set experiment's device & deterministic behavior\n",
        "if CONFIG.cpu:\n",
        "    CONFIG.device = 'cpu'\n",
        "else:\n",
        "    CONFIG.device = 'cuda' if torch.cuda.is_available() else 'cpu'\n",
        "\n",
        "torch.manual_seed(CONFIG.seed)\n",
        "random.seed(CONFIG.seed)\n",
        "np.random.seed(CONFIG.seed)\n",
        "torch.backends.cudnn.benchmark = True\n",
        "torch.use_deterministic_algorithms(mode=True, warn_only=True)\n",
        "\n",
        "main()"
      ]
    },
    {
      "cell_type": "markdown",
      "metadata": {
        "id": "H50fJlG_EfOW"
      },
      "source": [
        "##### 1.3.1.2 - Sketch"
      ]
    },
    {
      "cell_type": "code",
      "execution_count": null,
      "metadata": {
        "vscode": {
          "languageId": "python"
        },
        "id": "Y4KOoTGHEfOW"
      },
      "outputs": [],
      "source": [
        "warnings.filterwarnings('ignore', category=UserWarning)\n",
        "\n",
        "# Parse arguments\n",
        "conf = configurations['1.3.1.2']\n",
        "\n",
        "#args = parse_arguments()\n",
        "args = argparse.Namespace(**conf)\n",
        "print(args)\n",
        "CONFIG.update(vars(args))\n",
        "\n",
        "# Setup output directory\n",
        "CONFIG.save_dir = os.path.join('record', CONFIG.experiment_name)\n",
        "os.makedirs(CONFIG.save_dir, exist_ok=True)\n",
        "\n",
        "# Setup logging\n",
        "logging.basicConfig(\n",
        "    filename=os.path.join(CONFIG.save_dir, 'log.txt'),\n",
        "    format='%(message)s',\n",
        "    level=logging.INFO,\n",
        "    filemode='a'\n",
        ")\n",
        "\n",
        "# Set experiment's device & deterministic behavior\n",
        "if CONFIG.cpu:\n",
        "    CONFIG.device = 'cpu'\n",
        "else:\n",
        "    CONFIG.device = 'cuda' if torch.cuda.is_available() else 'cpu'\n",
        "\n",
        "torch.manual_seed(CONFIG.seed)\n",
        "random.seed(CONFIG.seed)\n",
        "np.random.seed(CONFIG.seed)\n",
        "torch.backends.cudnn.benchmark = True\n",
        "torch.use_deterministic_algorithms(mode=True, warn_only=True)\n",
        "\n",
        "main()"
      ]
    },
    {
      "cell_type": "markdown",
      "metadata": {
        "id": "HXZK_fY6EfOX"
      },
      "source": [
        "##### 1.3.1.3 - Photo"
      ]
    },
    {
      "cell_type": "code",
      "execution_count": null,
      "metadata": {
        "vscode": {
          "languageId": "python"
        },
        "id": "PpMoo85-EfOX"
      },
      "outputs": [],
      "source": [
        "warnings.filterwarnings('ignore', category=UserWarning)\n",
        "\n",
        "# Parse arguments\n",
        "conf = configurations['1.3.1.3']\n",
        "\n",
        "#args = parse_arguments()\n",
        "args = argparse.Namespace(**conf)\n",
        "print(args)\n",
        "CONFIG.update(vars(args))\n",
        "\n",
        "# Setup output directory\n",
        "CONFIG.save_dir = os.path.join('record', CONFIG.experiment_name)\n",
        "os.makedirs(CONFIG.save_dir, exist_ok=True)\n",
        "\n",
        "# Setup logging\n",
        "logging.basicConfig(\n",
        "    filename=os.path.join(CONFIG.save_dir, 'log.txt'),\n",
        "    format='%(message)s',\n",
        "    level=logging.INFO,\n",
        "    filemode='a'\n",
        ")\n",
        "\n",
        "# Set experiment's device & deterministic behavior\n",
        "if CONFIG.cpu:\n",
        "    CONFIG.device = 'cpu'\n",
        "else:\n",
        "    CONFIG.device = 'cuda' if torch.cuda.is_available() else 'cpu'\n",
        "\n",
        "torch.manual_seed(CONFIG.seed)\n",
        "random.seed(CONFIG.seed)\n",
        "np.random.seed(CONFIG.seed)\n",
        "torch.backends.cudnn.benchmark = True\n",
        "torch.use_deterministic_algorithms(mode=True, warn_only=True)\n",
        "\n",
        "main()"
      ]
    },
    {
      "cell_type": "markdown",
      "metadata": {
        "id": "X6v3sic_EfOX"
      },
      "source": [
        "#### 1.3.2 - ASH module after layer1.1.bn1, layer1.1.conv2, and layer2.1.conv2"
      ]
    },
    {
      "cell_type": "markdown",
      "metadata": {
        "id": "fOTWGGCMEfOX"
      },
      "source": [
        "##### 1.3.2.1 - Cartoon"
      ]
    },
    {
      "cell_type": "code",
      "execution_count": null,
      "metadata": {
        "vscode": {
          "languageId": "python"
        },
        "id": "WDWZYOuFEfOX"
      },
      "outputs": [],
      "source": [
        "warnings.filterwarnings('ignore', category=UserWarning)\n",
        "\n",
        "# Parse arguments\n",
        "conf = configurations['1.3.2.1']\n",
        "\n",
        "#args = parse_arguments()\n",
        "args = argparse.Namespace(**conf)\n",
        "print(args)\n",
        "CONFIG.update(vars(args))\n",
        "\n",
        "# Setup output directory\n",
        "CONFIG.save_dir = os.path.join('record', CONFIG.experiment_name)\n",
        "os.makedirs(CONFIG.save_dir, exist_ok=True)\n",
        "\n",
        "# Setup logging\n",
        "logging.basicConfig(\n",
        "    filename=os.path.join(CONFIG.save_dir, 'log.txt'),\n",
        "    format='%(message)s',\n",
        "    level=logging.INFO,\n",
        "    filemode='a'\n",
        ")\n",
        "\n",
        "# Set experiment's device & deterministic behavior\n",
        "if CONFIG.cpu:\n",
        "    CONFIG.device = 'cpu'\n",
        "else:\n",
        "    CONFIG.device = 'cuda' if torch.cuda.is_available() else 'cpu'\n",
        "\n",
        "torch.manual_seed(CONFIG.seed)\n",
        "random.seed(CONFIG.seed)\n",
        "np.random.seed(CONFIG.seed)\n",
        "torch.backends.cudnn.benchmark = True\n",
        "torch.use_deterministic_algorithms(mode=True, warn_only=True)\n",
        "\n",
        "main()"
      ]
    },
    {
      "cell_type": "markdown",
      "metadata": {
        "id": "179Fz5YqEfOX"
      },
      "source": [
        "##### 1.3.2.2 - Sketch"
      ]
    },
    {
      "cell_type": "code",
      "execution_count": null,
      "metadata": {
        "vscode": {
          "languageId": "python"
        },
        "id": "u05R6TuhEfOY"
      },
      "outputs": [],
      "source": [
        "warnings.filterwarnings('ignore', category=UserWarning)\n",
        "\n",
        "# Parse arguments\n",
        "conf = configurations['1.3.2.2']\n",
        "\n",
        "#args = parse_arguments()\n",
        "args = argparse.Namespace(**conf)\n",
        "print(args)\n",
        "CONFIG.update(vars(args))\n",
        "\n",
        "# Setup output directory\n",
        "CONFIG.save_dir = os.path.join('record', CONFIG.experiment_name)\n",
        "os.makedirs(CONFIG.save_dir, exist_ok=True)\n",
        "\n",
        "# Setup logging\n",
        "logging.basicConfig(\n",
        "    filename=os.path.join(CONFIG.save_dir, 'log.txt'),\n",
        "    format='%(message)s',\n",
        "    level=logging.INFO,\n",
        "    filemode='a'\n",
        ")\n",
        "\n",
        "# Set experiment's device & deterministic behavior\n",
        "if CONFIG.cpu:\n",
        "    CONFIG.device = 'cpu'\n",
        "else:\n",
        "    CONFIG.device = 'cuda' if torch.cuda.is_available() else 'cpu'\n",
        "\n",
        "torch.manual_seed(CONFIG.seed)\n",
        "random.seed(CONFIG.seed)\n",
        "np.random.seed(CONFIG.seed)\n",
        "torch.backends.cudnn.benchmark = True\n",
        "torch.use_deterministic_algorithms(mode=True, warn_only=True)\n",
        "\n",
        "main()"
      ]
    },
    {
      "cell_type": "markdown",
      "metadata": {
        "id": "8ABdXmIJEfOY"
      },
      "source": [
        "##### 1.3.2.3 - Photo"
      ]
    },
    {
      "cell_type": "code",
      "execution_count": null,
      "metadata": {
        "vscode": {
          "languageId": "python"
        },
        "id": "CRtPUV5PEfOY"
      },
      "outputs": [],
      "source": [
        "warnings.filterwarnings('ignore', category=UserWarning)\n",
        "\n",
        "# Parse arguments\n",
        "conf = configurations['1.3.2.3']\n",
        "\n",
        "#args = parse_arguments()\n",
        "args = argparse.Namespace(**conf)\n",
        "print(args)\n",
        "CONFIG.update(vars(args))\n",
        "\n",
        "# Setup output directory\n",
        "CONFIG.save_dir = os.path.join('record', CONFIG.experiment_name)\n",
        "os.makedirs(CONFIG.save_dir, exist_ok=True)\n",
        "\n",
        "# Setup logging\n",
        "logging.basicConfig(\n",
        "    filename=os.path.join(CONFIG.save_dir, 'log.txt'),\n",
        "    format='%(message)s',\n",
        "    level=logging.INFO,\n",
        "    filemode='a'\n",
        ")\n",
        "\n",
        "# Set experiment's device & deterministic behavior\n",
        "if CONFIG.cpu:\n",
        "    CONFIG.device = 'cpu'\n",
        "else:\n",
        "    CONFIG.device = 'cuda' if torch.cuda.is_available() else 'cpu'\n",
        "\n",
        "torch.manual_seed(CONFIG.seed)\n",
        "random.seed(CONFIG.seed)\n",
        "np.random.seed(CONFIG.seed)\n",
        "torch.backends.cudnn.benchmark = True\n",
        "torch.use_deterministic_algorithms(mode=True, warn_only=True)\n",
        "\n",
        "main()"
      ]
    },
    {
      "cell_type": "markdown",
      "metadata": {
        "id": "OjMlaHruEfOY"
      },
      "source": [
        "#### 1.3.3 - ASH module after layer1.1.bn1, layer1.1.conv2, and layer3.0.conv1"
      ]
    },
    {
      "cell_type": "markdown",
      "metadata": {
        "id": "AR64QEoREfOY"
      },
      "source": [
        "##### 1.3.3.1 - Cartoon"
      ]
    },
    {
      "cell_type": "code",
      "execution_count": null,
      "metadata": {
        "vscode": {
          "languageId": "python"
        },
        "id": "BjEk5DRKEfOY"
      },
      "outputs": [],
      "source": [
        "warnings.filterwarnings('ignore', category=UserWarning)\n",
        "\n",
        "# Parse arguments\n",
        "conf = configurations['1.3.3.1']\n",
        "\n",
        "#args = parse_arguments()\n",
        "args = argparse.Namespace(**conf)\n",
        "print(args)\n",
        "CONFIG.update(vars(args))\n",
        "\n",
        "# Setup output directory\n",
        "CONFIG.save_dir = os.path.join('record', CONFIG.experiment_name)\n",
        "os.makedirs(CONFIG.save_dir, exist_ok=True)\n",
        "\n",
        "# Setup logging\n",
        "logging.basicConfig(\n",
        "    filename=os.path.join(CONFIG.save_dir, 'log.txt'),\n",
        "    format='%(message)s',\n",
        "    level=logging.INFO,\n",
        "    filemode='a'\n",
        ")\n",
        "\n",
        "# Set experiment's device & deterministic behavior\n",
        "if CONFIG.cpu:\n",
        "    CONFIG.device = 'cpu'\n",
        "else:\n",
        "    CONFIG.device = 'cuda' if torch.cuda.is_available() else 'cpu'\n",
        "\n",
        "torch.manual_seed(CONFIG.seed)\n",
        "random.seed(CONFIG.seed)\n",
        "np.random.seed(CONFIG.seed)\n",
        "torch.backends.cudnn.benchmark = True\n",
        "torch.use_deterministic_algorithms(mode=True, warn_only=True)\n",
        "\n",
        "main()"
      ]
    },
    {
      "cell_type": "markdown",
      "metadata": {
        "id": "7E_LFm5nEfOY"
      },
      "source": [
        "##### 1.3.3.2 - Sketch"
      ]
    },
    {
      "cell_type": "code",
      "execution_count": null,
      "metadata": {
        "vscode": {
          "languageId": "python"
        },
        "id": "0akYbKu6EfOZ"
      },
      "outputs": [],
      "source": [
        "warnings.filterwarnings('ignore', category=UserWarning)\n",
        "\n",
        "# Parse arguments\n",
        "conf = configurations['1.3.3.2']\n",
        "\n",
        "#args = parse_arguments()\n",
        "args = argparse.Namespace(**conf)\n",
        "print(args)\n",
        "CONFIG.update(vars(args))\n",
        "\n",
        "# Setup output directory\n",
        "CONFIG.save_dir = os.path.join('record', CONFIG.experiment_name)\n",
        "os.makedirs(CONFIG.save_dir, exist_ok=True)\n",
        "\n",
        "# Setup logging\n",
        "logging.basicConfig(\n",
        "    filename=os.path.join(CONFIG.save_dir, 'log.txt'),\n",
        "    format='%(message)s',\n",
        "    level=logging.INFO,\n",
        "    filemode='a'\n",
        ")\n",
        "\n",
        "# Set experiment's device & deterministic behavior\n",
        "if CONFIG.cpu:\n",
        "    CONFIG.device = 'cpu'\n",
        "else:\n",
        "    CONFIG.device = 'cuda' if torch.cuda.is_available() else 'cpu'\n",
        "\n",
        "torch.manual_seed(CONFIG.seed)\n",
        "random.seed(CONFIG.seed)\n",
        "np.random.seed(CONFIG.seed)\n",
        "torch.backends.cudnn.benchmark = True\n",
        "torch.use_deterministic_algorithms(mode=True, warn_only=True)\n",
        "\n",
        "main()"
      ]
    },
    {
      "cell_type": "markdown",
      "metadata": {
        "id": "_KQc04T0EfOZ"
      },
      "source": [
        "##### 1.3.3.3 - Photo"
      ]
    },
    {
      "cell_type": "code",
      "execution_count": null,
      "metadata": {
        "vscode": {
          "languageId": "python"
        },
        "id": "TgovDBfyEfOZ"
      },
      "outputs": [],
      "source": [
        "warnings.filterwarnings('ignore', category=UserWarning)\n",
        "\n",
        "# Parse arguments\n",
        "conf = configurations['1.3.3.3']\n",
        "\n",
        "#args = parse_arguments()\n",
        "args = argparse.Namespace(**conf)\n",
        "print(args)\n",
        "CONFIG.update(vars(args))\n",
        "\n",
        "# Setup output directory\n",
        "CONFIG.save_dir = os.path.join('record', CONFIG.experiment_name)\n",
        "os.makedirs(CONFIG.save_dir, exist_ok=True)\n",
        "\n",
        "# Setup logging\n",
        "logging.basicConfig(\n",
        "    filename=os.path.join(CONFIG.save_dir, 'log.txt'),\n",
        "    format='%(message)s',\n",
        "    level=logging.INFO,\n",
        "    filemode='a'\n",
        ")\n",
        "\n",
        "# Set experiment's device & deterministic behavior\n",
        "if CONFIG.cpu:\n",
        "    CONFIG.device = 'cpu'\n",
        "else:\n",
        "    CONFIG.device = 'cuda' if torch.cuda.is_available() else 'cpu'\n",
        "\n",
        "torch.manual_seed(CONFIG.seed)\n",
        "random.seed(CONFIG.seed)\n",
        "np.random.seed(CONFIG.seed)\n",
        "torch.backends.cudnn.benchmark = True\n",
        "torch.use_deterministic_algorithms(mode=True, warn_only=True)\n",
        "\n",
        "main()"
      ]
    },
    {
      "cell_type": "markdown",
      "metadata": {
        "id": "0-ge3nZDEfOZ"
      },
      "source": [
        "#### 1.3.4 - ASH module after layer1.1.bn1, layer1.1.conv2, and layer3.1.conv2"
      ]
    },
    {
      "cell_type": "markdown",
      "metadata": {
        "id": "ek4YVFxfEfOZ"
      },
      "source": [
        "##### 1.3.4.1 - Cartoon"
      ]
    },
    {
      "cell_type": "code",
      "execution_count": null,
      "metadata": {
        "vscode": {
          "languageId": "python"
        },
        "id": "0FRQ8rC7EfOZ"
      },
      "outputs": [],
      "source": [
        "warnings.filterwarnings('ignore', category=UserWarning)\n",
        "\n",
        "# Parse arguments\n",
        "conf = configurations['1.3.4.1']\n",
        "\n",
        "#args = parse_arguments()\n",
        "args = argparse.Namespace(**conf)\n",
        "print(args)\n",
        "CONFIG.update(vars(args))\n",
        "\n",
        "# Setup output directory\n",
        "CONFIG.save_dir = os.path.join('record', CONFIG.experiment_name)\n",
        "os.makedirs(CONFIG.save_dir, exist_ok=True)\n",
        "\n",
        "# Setup logging\n",
        "logging.basicConfig(\n",
        "    filename=os.path.join(CONFIG.save_dir, 'log.txt'),\n",
        "    format='%(message)s',\n",
        "    level=logging.INFO,\n",
        "    filemode='a'\n",
        ")\n",
        "\n",
        "# Set experiment's device & deterministic behavior\n",
        "if CONFIG.cpu:\n",
        "    CONFIG.device = 'cpu'\n",
        "else:\n",
        "    CONFIG.device = 'cuda' if torch.cuda.is_available() else 'cpu'\n",
        "\n",
        "torch.manual_seed(CONFIG.seed)\n",
        "random.seed(CONFIG.seed)\n",
        "np.random.seed(CONFIG.seed)\n",
        "torch.backends.cudnn.benchmark = True\n",
        "torch.use_deterministic_algorithms(mode=True, warn_only=True)\n",
        "\n",
        "main()"
      ]
    },
    {
      "cell_type": "markdown",
      "metadata": {
        "id": "CTPG8ZDiEfOZ"
      },
      "source": [
        "##### 1.3.4.2 - Sketch"
      ]
    },
    {
      "cell_type": "code",
      "execution_count": null,
      "metadata": {
        "vscode": {
          "languageId": "python"
        },
        "id": "T-HF8FaFEfOa"
      },
      "outputs": [],
      "source": [
        "warnings.filterwarnings('ignore', category=UserWarning)\n",
        "\n",
        "# Parse arguments\n",
        "conf = configurations['1.3.4.2']\n",
        "\n",
        "#args = parse_arguments()\n",
        "args = argparse.Namespace(**conf)\n",
        "print(args)\n",
        "CONFIG.update(vars(args))\n",
        "\n",
        "# Setup output directory\n",
        "CONFIG.save_dir = os.path.join('record', CONFIG.experiment_name)\n",
        "os.makedirs(CONFIG.save_dir, exist_ok=True)\n",
        "\n",
        "# Setup logging\n",
        "logging.basicConfig(\n",
        "    filename=os.path.join(CONFIG.save_dir, 'log.txt'),\n",
        "    format='%(message)s',\n",
        "    level=logging.INFO,\n",
        "    filemode='a'\n",
        ")\n",
        "\n",
        "# Set experiment's device & deterministic behavior\n",
        "if CONFIG.cpu:\n",
        "    CONFIG.device = 'cpu'\n",
        "else:\n",
        "    CONFIG.device = 'cuda' if torch.cuda.is_available() else 'cpu'\n",
        "\n",
        "torch.manual_seed(CONFIG.seed)\n",
        "random.seed(CONFIG.seed)\n",
        "np.random.seed(CONFIG.seed)\n",
        "torch.backends.cudnn.benchmark = True\n",
        "torch.use_deterministic_algorithms(mode=True, warn_only=True)\n",
        "\n",
        "main()"
      ]
    },
    {
      "cell_type": "markdown",
      "metadata": {
        "id": "CkNAqGgvEfOa"
      },
      "source": [
        "##### 1.3.4.3 - Photo"
      ]
    },
    {
      "cell_type": "code",
      "execution_count": null,
      "metadata": {
        "vscode": {
          "languageId": "python"
        },
        "id": "hO2WRjL6EfOa"
      },
      "outputs": [],
      "source": [
        "warnings.filterwarnings('ignore', category=UserWarning)\n",
        "\n",
        "# Parse arguments\n",
        "conf = configurations['1.3.4.3']\n",
        "\n",
        "#args = parse_arguments()\n",
        "args = argparse.Namespace(**conf)\n",
        "print(args)\n",
        "CONFIG.update(vars(args))\n",
        "\n",
        "# Setup output directory\n",
        "CONFIG.save_dir = os.path.join('record', CONFIG.experiment_name)\n",
        "os.makedirs(CONFIG.save_dir, exist_ok=True)\n",
        "\n",
        "# Setup logging\n",
        "logging.basicConfig(\n",
        "    filename=os.path.join(CONFIG.save_dir, 'log.txt'),\n",
        "    format='%(message)s',\n",
        "    level=logging.INFO,\n",
        "    filemode='a'\n",
        ")\n",
        "\n",
        "# Set experiment's device & deterministic behavior\n",
        "if CONFIG.cpu:\n",
        "    CONFIG.device = 'cpu'\n",
        "else:\n",
        "    CONFIG.device = 'cuda' if torch.cuda.is_available() else 'cpu'\n",
        "\n",
        "torch.manual_seed(CONFIG.seed)\n",
        "random.seed(CONFIG.seed)\n",
        "np.random.seed(CONFIG.seed)\n",
        "torch.backends.cudnn.benchmark = True\n",
        "torch.use_deterministic_algorithms(mode=True, warn_only=True)\n",
        "\n",
        "main()"
      ]
    },
    {
      "cell_type": "markdown",
      "metadata": {
        "id": "vUTbFc4WEfOa"
      },
      "source": [
        "#### 1.3.5 - ASH module after layer1.1.bn1, layer1.1.bn2, and layer2.1.conv2"
      ]
    },
    {
      "cell_type": "markdown",
      "metadata": {
        "id": "SsPmLgv3EfOa"
      },
      "source": [
        "##### 1.3.5.1 - Cartoon"
      ]
    },
    {
      "cell_type": "code",
      "execution_count": null,
      "metadata": {
        "vscode": {
          "languageId": "python"
        },
        "id": "bbFqwgsGEfOa"
      },
      "outputs": [],
      "source": [
        "warnings.filterwarnings('ignore', category=UserWarning)\n",
        "\n",
        "# Parse arguments\n",
        "conf = configurations['1.3.5.1']\n",
        "\n",
        "#args = parse_arguments()\n",
        "args = argparse.Namespace(**conf)\n",
        "print(args)\n",
        "CONFIG.update(vars(args))\n",
        "\n",
        "# Setup output directory\n",
        "CONFIG.save_dir = os.path.join('record', CONFIG.experiment_name)\n",
        "os.makedirs(CONFIG.save_dir, exist_ok=True)\n",
        "\n",
        "# Setup logging\n",
        "logging.basicConfig(\n",
        "    filename=os.path.join(CONFIG.save_dir, 'log.txt'),\n",
        "    format='%(message)s',\n",
        "    level=logging.INFO,\n",
        "    filemode='a'\n",
        ")\n",
        "\n",
        "# Set experiment's device & deterministic behavior\n",
        "if CONFIG.cpu:\n",
        "    CONFIG.device = 'cpu'\n",
        "else:\n",
        "    CONFIG.device = 'cuda' if torch.cuda.is_available() else 'cpu'\n",
        "\n",
        "torch.manual_seed(CONFIG.seed)\n",
        "random.seed(CONFIG.seed)\n",
        "np.random.seed(CONFIG.seed)\n",
        "torch.backends.cudnn.benchmark = True\n",
        "torch.use_deterministic_algorithms(mode=True, warn_only=True)\n",
        "\n",
        "main()"
      ]
    },
    {
      "cell_type": "markdown",
      "metadata": {
        "id": "JyQQrmIGEfOa"
      },
      "source": [
        "##### 1.3.5.2 - Sketch"
      ]
    },
    {
      "cell_type": "code",
      "execution_count": null,
      "metadata": {
        "vscode": {
          "languageId": "python"
        },
        "id": "jTxFH5J7EfOb"
      },
      "outputs": [],
      "source": [
        "warnings.filterwarnings('ignore', category=UserWarning)\n",
        "\n",
        "# Parse arguments\n",
        "conf = configurations['1.3.5.2']\n",
        "\n",
        "#args = parse_arguments()\n",
        "args = argparse.Namespace(**conf)\n",
        "print(args)\n",
        "CONFIG.update(vars(args))\n",
        "\n",
        "# Setup output directory\n",
        "CONFIG.save_dir = os.path.join('record', CONFIG.experiment_name)\n",
        "os.makedirs(CONFIG.save_dir, exist_ok=True)\n",
        "\n",
        "# Setup logging\n",
        "logging.basicConfig(\n",
        "    filename=os.path.join(CONFIG.save_dir, 'log.txt'),\n",
        "    format='%(message)s',\n",
        "    level=logging.INFO,\n",
        "    filemode='a'\n",
        ")\n",
        "\n",
        "# Set experiment's device & deterministic behavior\n",
        "if CONFIG.cpu:\n",
        "    CONFIG.device = 'cpu'\n",
        "else:\n",
        "    CONFIG.device = 'cuda' if torch.cuda.is_available() else 'cpu'\n",
        "\n",
        "torch.manual_seed(CONFIG.seed)\n",
        "random.seed(CONFIG.seed)\n",
        "np.random.seed(CONFIG.seed)\n",
        "torch.backends.cudnn.benchmark = True\n",
        "torch.use_deterministic_algorithms(mode=True, warn_only=True)\n",
        "\n",
        "main()"
      ]
    },
    {
      "cell_type": "markdown",
      "metadata": {
        "id": "rugj63KbEfOb"
      },
      "source": [
        "##### 1.3.5.3 - Photo"
      ]
    },
    {
      "cell_type": "code",
      "execution_count": null,
      "metadata": {
        "vscode": {
          "languageId": "python"
        },
        "id": "bAaVYzzXEfOb"
      },
      "outputs": [],
      "source": [
        "warnings.filterwarnings('ignore', category=UserWarning)\n",
        "\n",
        "# Parse arguments\n",
        "conf = configurations['1.3.5.3']\n",
        "\n",
        "#args = parse_arguments()\n",
        "args = argparse.Namespace(**conf)\n",
        "print(args)\n",
        "CONFIG.update(vars(args))\n",
        "\n",
        "# Setup output directory\n",
        "CONFIG.save_dir = os.path.join('record', CONFIG.experiment_name)\n",
        "os.makedirs(CONFIG.save_dir, exist_ok=True)\n",
        "\n",
        "# Setup logging\n",
        "logging.basicConfig(\n",
        "    filename=os.path.join(CONFIG.save_dir, 'log.txt'),\n",
        "    format='%(message)s',\n",
        "    level=logging.INFO,\n",
        "    filemode='a'\n",
        ")\n",
        "\n",
        "# Set experiment's device & deterministic behavior\n",
        "if CONFIG.cpu:\n",
        "    CONFIG.device = 'cpu'\n",
        "else:\n",
        "    CONFIG.device = 'cuda' if torch.cuda.is_available() else 'cpu'\n",
        "\n",
        "torch.manual_seed(CONFIG.seed)\n",
        "random.seed(CONFIG.seed)\n",
        "np.random.seed(CONFIG.seed)\n",
        "torch.backends.cudnn.benchmark = True\n",
        "torch.use_deterministic_algorithms(mode=True, warn_only=True)\n",
        "\n",
        "main()"
      ]
    },
    {
      "cell_type": "markdown",
      "metadata": {
        "id": "sCT2HjnuEfOb"
      },
      "source": [
        "#### 1.3.6 - ASH module after layer1.1.bn1, layer2.1.conv2, and layer3.0.conv1"
      ]
    },
    {
      "cell_type": "markdown",
      "metadata": {
        "id": "LyOfiwG7EfOb"
      },
      "source": [
        "##### 1.3.6.1 - Cartoon"
      ]
    },
    {
      "cell_type": "code",
      "execution_count": null,
      "metadata": {
        "vscode": {
          "languageId": "python"
        },
        "id": "XUlLIkQ7EfOc"
      },
      "outputs": [],
      "source": [
        "warnings.filterwarnings('ignore', category=UserWarning)\n",
        "\n",
        "# Parse arguments\n",
        "conf = configurations['1.3.6.1']\n",
        "\n",
        "#args = parse_arguments()\n",
        "args = argparse.Namespace(**conf)\n",
        "print(args)\n",
        "CONFIG.update(vars(args))\n",
        "\n",
        "# Setup output directory\n",
        "CONFIG.save_dir = os.path.join('record', CONFIG.experiment_name)\n",
        "os.makedirs(CONFIG.save_dir, exist_ok=True)\n",
        "\n",
        "# Setup logging\n",
        "logging.basicConfig(\n",
        "    filename=os.path.join(CONFIG.save_dir, 'log.txt'),\n",
        "    format='%(message)s',\n",
        "    level=logging.INFO,\n",
        "    filemode='a'\n",
        ")\n",
        "\n",
        "# Set experiment's device & deterministic behavior\n",
        "if CONFIG.cpu:\n",
        "    CONFIG.device = 'cpu'\n",
        "else:\n",
        "    CONFIG.device = 'cuda' if torch.cuda.is_available() else 'cpu'\n",
        "\n",
        "torch.manual_seed(CONFIG.seed)\n",
        "random.seed(CONFIG.seed)\n",
        "np.random.seed(CONFIG.seed)\n",
        "torch.backends.cudnn.benchmark = True\n",
        "torch.use_deterministic_algorithms(mode=True, warn_only=True)\n",
        "\n",
        "main()"
      ]
    },
    {
      "cell_type": "markdown",
      "metadata": {
        "id": "1u3aSXhAEfOc"
      },
      "source": [
        "##### 1.3.6.2 - Sketch"
      ]
    },
    {
      "cell_type": "code",
      "execution_count": null,
      "metadata": {
        "vscode": {
          "languageId": "python"
        },
        "id": "YmtCftEIEfOc"
      },
      "outputs": [],
      "source": [
        "warnings.filterwarnings('ignore', category=UserWarning)\n",
        "\n",
        "# Parse arguments\n",
        "conf = configurations['1.3.6.2']\n",
        "\n",
        "#args = parse_arguments()\n",
        "args = argparse.Namespace(**conf)\n",
        "print(args)\n",
        "CONFIG.update(vars(args))\n",
        "\n",
        "# Setup output directory\n",
        "CONFIG.save_dir = os.path.join('record', CONFIG.experiment_name)\n",
        "os.makedirs(CONFIG.save_dir, exist_ok=True)\n",
        "\n",
        "# Setup logging\n",
        "logging.basicConfig(\n",
        "    filename=os.path.join(CONFIG.save_dir, 'log.txt'),\n",
        "    format='%(message)s',\n",
        "    level=logging.INFO,\n",
        "    filemode='a'\n",
        ")\n",
        "\n",
        "# Set experiment's device & deterministic behavior\n",
        "if CONFIG.cpu:\n",
        "    CONFIG.device = 'cpu'\n",
        "else:\n",
        "    CONFIG.device = 'cuda' if torch.cuda.is_available() else 'cpu'\n",
        "\n",
        "torch.manual_seed(CONFIG.seed)\n",
        "random.seed(CONFIG.seed)\n",
        "np.random.seed(CONFIG.seed)\n",
        "torch.backends.cudnn.benchmark = True\n",
        "torch.use_deterministic_algorithms(mode=True, warn_only=True)\n",
        "\n",
        "main()"
      ]
    },
    {
      "cell_type": "markdown",
      "metadata": {
        "id": "v-RtwwZYEfOd"
      },
      "source": [
        "##### 1.3.6.3 - Photo"
      ]
    },
    {
      "cell_type": "code",
      "execution_count": null,
      "metadata": {
        "vscode": {
          "languageId": "python"
        },
        "id": "FLDbIUC7EfOd"
      },
      "outputs": [],
      "source": [
        "warnings.filterwarnings('ignore', category=UserWarning)\n",
        "\n",
        "# Parse arguments\n",
        "conf = configurations['1.3.6.3']\n",
        "\n",
        "#args = parse_arguments()\n",
        "args = argparse.Namespace(**conf)\n",
        "print(args)\n",
        "CONFIG.update(vars(args))\n",
        "\n",
        "# Setup output directory\n",
        "CONFIG.save_dir = os.path.join('record', CONFIG.experiment_name)\n",
        "os.makedirs(CONFIG.save_dir, exist_ok=True)\n",
        "\n",
        "# Setup logging\n",
        "logging.basicConfig(\n",
        "    filename=os.path.join(CONFIG.save_dir, 'log.txt'),\n",
        "    format='%(message)s',\n",
        "    level=logging.INFO,\n",
        "    filemode='a'\n",
        ")\n",
        "\n",
        "# Set experiment's device & deterministic behavior\n",
        "if CONFIG.cpu:\n",
        "    CONFIG.device = 'cpu'\n",
        "else:\n",
        "    CONFIG.device = 'cuda' if torch.cuda.is_available() else 'cpu'\n",
        "\n",
        "torch.manual_seed(CONFIG.seed)\n",
        "random.seed(CONFIG.seed)\n",
        "np.random.seed(CONFIG.seed)\n",
        "torch.backends.cudnn.benchmark = True\n",
        "torch.use_deterministic_algorithms(mode=True, warn_only=True)\n",
        "\n",
        "main()"
      ]
    },
    {
      "cell_type": "markdown",
      "metadata": {
        "id": "5VOqfzYXEfOd"
      },
      "source": [
        "#### 1.3.7 - ASH module after layer1.1.bn1, layer2.1.conv2, and layer3.1.conv2"
      ]
    },
    {
      "cell_type": "markdown",
      "metadata": {
        "id": "Wt8hty7EEfOd"
      },
      "source": [
        "##### 1.3.7.1 - Cartoon"
      ]
    },
    {
      "cell_type": "code",
      "execution_count": null,
      "metadata": {
        "vscode": {
          "languageId": "python"
        },
        "id": "2NKEjcvjEfOd"
      },
      "outputs": [],
      "source": [
        "warnings.filterwarnings('ignore', category=UserWarning)\n",
        "\n",
        "# Parse arguments\n",
        "conf = configurations['1.3.7.1']\n",
        "\n",
        "#args = parse_arguments()\n",
        "args = argparse.Namespace(**conf)\n",
        "print(args)\n",
        "CONFIG.update(vars(args))\n",
        "\n",
        "# Setup output directory\n",
        "CONFIG.save_dir = os.path.join('record', CONFIG.experiment_name)\n",
        "os.makedirs(CONFIG.save_dir, exist_ok=True)\n",
        "\n",
        "# Setup logging\n",
        "logging.basicConfig(\n",
        "    filename=os.path.join(CONFIG.save_dir, 'log.txt'),\n",
        "    format='%(message)s',\n",
        "    level=logging.INFO,\n",
        "    filemode='a'\n",
        ")\n",
        "\n",
        "# Set experiment's device & deterministic behavior\n",
        "if CONFIG.cpu:\n",
        "    CONFIG.device = 'cpu'\n",
        "else:\n",
        "    CONFIG.device = 'cuda' if torch.cuda.is_available() else 'cpu'\n",
        "\n",
        "torch.manual_seed(CONFIG.seed)\n",
        "random.seed(CONFIG.seed)\n",
        "np.random.seed(CONFIG.seed)\n",
        "torch.backends.cudnn.benchmark = True\n",
        "torch.use_deterministic_algorithms(mode=True, warn_only=True)\n",
        "\n",
        "main()"
      ]
    },
    {
      "cell_type": "markdown",
      "metadata": {
        "id": "6ku9NoN2EfOe"
      },
      "source": [
        "##### 1.3.7.2 - Sketch"
      ]
    },
    {
      "cell_type": "code",
      "execution_count": null,
      "metadata": {
        "vscode": {
          "languageId": "python"
        },
        "id": "FzjlTkEpEfOe"
      },
      "outputs": [],
      "source": [
        "warnings.filterwarnings('ignore', category=UserWarning)\n",
        "\n",
        "# Parse arguments\n",
        "conf = configurations['1.3.7.2']\n",
        "\n",
        "#args = parse_arguments()\n",
        "args = argparse.Namespace(**conf)\n",
        "print(args)\n",
        "CONFIG.update(vars(args))\n",
        "\n",
        "# Setup output directory\n",
        "CONFIG.save_dir = os.path.join('record', CONFIG.experiment_name)\n",
        "os.makedirs(CONFIG.save_dir, exist_ok=True)\n",
        "\n",
        "# Setup logging\n",
        "logging.basicConfig(\n",
        "    filename=os.path.join(CONFIG.save_dir, 'log.txt'),\n",
        "    format='%(message)s',\n",
        "    level=logging.INFO,\n",
        "    filemode='a'\n",
        ")\n",
        "\n",
        "# Set experiment's device & deterministic behavior\n",
        "if CONFIG.cpu:\n",
        "    CONFIG.device = 'cpu'\n",
        "else:\n",
        "    CONFIG.device = 'cuda' if torch.cuda.is_available() else 'cpu'\n",
        "\n",
        "torch.manual_seed(CONFIG.seed)\n",
        "random.seed(CONFIG.seed)\n",
        "np.random.seed(CONFIG.seed)\n",
        "torch.backends.cudnn.benchmark = True\n",
        "torch.use_deterministic_algorithms(mode=True, warn_only=True)\n",
        "\n",
        "main()"
      ]
    },
    {
      "cell_type": "markdown",
      "metadata": {
        "id": "e21GJ8-gEfOe"
      },
      "source": [
        "##### 1.3.7.3 - Photo"
      ]
    },
    {
      "cell_type": "code",
      "execution_count": null,
      "metadata": {
        "vscode": {
          "languageId": "python"
        },
        "id": "0Xqqn88WEfOe"
      },
      "outputs": [],
      "source": [
        "warnings.filterwarnings('ignore', category=UserWarning)\n",
        "\n",
        "# Parse arguments\n",
        "conf = configurations['1.3.7.3']\n",
        "\n",
        "#args = parse_arguments()\n",
        "args = argparse.Namespace(**conf)\n",
        "print(args)\n",
        "CONFIG.update(vars(args))\n",
        "\n",
        "# Setup output directory\n",
        "CONFIG.save_dir = os.path.join('record', CONFIG.experiment_name)\n",
        "os.makedirs(CONFIG.save_dir, exist_ok=True)\n",
        "\n",
        "# Setup logging\n",
        "logging.basicConfig(\n",
        "    filename=os.path.join(CONFIG.save_dir, 'log.txt'),\n",
        "    format='%(message)s',\n",
        "    level=logging.INFO,\n",
        "    filemode='a'\n",
        ")\n",
        "\n",
        "# Set experiment's device & deterministic behavior\n",
        "if CONFIG.cpu:\n",
        "    CONFIG.device = 'cpu'\n",
        "else:\n",
        "    CONFIG.device = 'cuda' if torch.cuda.is_available() else 'cpu'\n",
        "\n",
        "torch.manual_seed(CONFIG.seed)\n",
        "random.seed(CONFIG.seed)\n",
        "np.random.seed(CONFIG.seed)\n",
        "torch.backends.cudnn.benchmark = True\n",
        "torch.use_deterministic_algorithms(mode=True, warn_only=True)\n",
        "\n",
        "main()"
      ]
    },
    {
      "cell_type": "markdown",
      "metadata": {
        "id": "owjey2BfEfOe"
      },
      "source": [
        "#### 1.3.8 - ASH module after layer1.1.conv2, layer1.1.bn2, and layer2.1.conv2"
      ]
    },
    {
      "cell_type": "markdown",
      "metadata": {
        "id": "uoaMpP_oEfOe"
      },
      "source": [
        "##### 1.3.8.1 - Cartoon"
      ]
    },
    {
      "cell_type": "code",
      "execution_count": null,
      "metadata": {
        "vscode": {
          "languageId": "python"
        },
        "id": "R2OzABv4EfOe"
      },
      "outputs": [],
      "source": [
        "warnings.filterwarnings('ignore', category=UserWarning)\n",
        "\n",
        "# Parse arguments\n",
        "conf = configurations['1.3.8.1']\n",
        "\n",
        "#args = parse_arguments()\n",
        "args = argparse.Namespace(**conf)\n",
        "print(args)\n",
        "CONFIG.update(vars(args))\n",
        "\n",
        "# Setup output directory\n",
        "CONFIG.save_dir = os.path.join('record', CONFIG.experiment_name)\n",
        "os.makedirs(CONFIG.save_dir, exist_ok=True)\n",
        "\n",
        "# Setup logging\n",
        "logging.basicConfig(\n",
        "    filename=os.path.join(CONFIG.save_dir, 'log.txt'),\n",
        "    format='%(message)s',\n",
        "    level=logging.INFO,\n",
        "    filemode='a'\n",
        ")\n",
        "\n",
        "# Set experiment's device & deterministic behavior\n",
        "if CONFIG.cpu:\n",
        "    CONFIG.device = 'cpu'\n",
        "else:\n",
        "    CONFIG.device = 'cuda' if torch.cuda.is_available() else 'cpu'\n",
        "\n",
        "torch.manual_seed(CONFIG.seed)\n",
        "random.seed(CONFIG.seed)\n",
        "np.random.seed(CONFIG.seed)\n",
        "torch.backends.cudnn.benchmark = True\n",
        "torch.use_deterministic_algorithms(mode=True, warn_only=True)\n",
        "\n",
        "main()"
      ]
    },
    {
      "cell_type": "markdown",
      "metadata": {
        "id": "SQ9nhhBtEfOe"
      },
      "source": [
        "##### 1.3.8.2 - Sketch"
      ]
    },
    {
      "cell_type": "code",
      "execution_count": null,
      "metadata": {
        "vscode": {
          "languageId": "python"
        },
        "id": "CDvG6WZ1EfOf"
      },
      "outputs": [],
      "source": [
        "warnings.filterwarnings('ignore', category=UserWarning)\n",
        "\n",
        "# Parse arguments\n",
        "conf = configurations['1.3.8.2']\n",
        "\n",
        "#args = parse_arguments()\n",
        "args = argparse.Namespace(**conf)\n",
        "print(args)\n",
        "CONFIG.update(vars(args))\n",
        "\n",
        "# Setup output directory\n",
        "CONFIG.save_dir = os.path.join('record', CONFIG.experiment_name)\n",
        "os.makedirs(CONFIG.save_dir, exist_ok=True)\n",
        "\n",
        "# Setup logging\n",
        "logging.basicConfig(\n",
        "    filename=os.path.join(CONFIG.save_dir, 'log.txt'),\n",
        "    format='%(message)s',\n",
        "    level=logging.INFO,\n",
        "    filemode='a'\n",
        ")\n",
        "\n",
        "# Set experiment's device & deterministic behavior\n",
        "if CONFIG.cpu:\n",
        "    CONFIG.device = 'cpu'\n",
        "else:\n",
        "    CONFIG.device = 'cuda' if torch.cuda.is_available() else 'cpu'\n",
        "\n",
        "torch.manual_seed(CONFIG.seed)\n",
        "random.seed(CONFIG.seed)\n",
        "np.random.seed(CONFIG.seed)\n",
        "torch.backends.cudnn.benchmark = True\n",
        "torch.use_deterministic_algorithms(mode=True, warn_only=True)\n",
        "\n",
        "main()"
      ]
    },
    {
      "cell_type": "markdown",
      "metadata": {
        "id": "wrUb7-PTEfOf"
      },
      "source": [
        "##### 1.3.8.3 - Photo"
      ]
    },
    {
      "cell_type": "code",
      "execution_count": null,
      "metadata": {
        "vscode": {
          "languageId": "python"
        },
        "id": "fOGnvn-fEfOf"
      },
      "outputs": [],
      "source": [
        "warnings.filterwarnings('ignore', category=UserWarning)\n",
        "\n",
        "# Parse arguments\n",
        "conf = configurations['1.3.8.3']\n",
        "\n",
        "#args = parse_arguments()\n",
        "args = argparse.Namespace(**conf)\n",
        "print(args)\n",
        "CONFIG.update(vars(args))\n",
        "\n",
        "# Setup output directory\n",
        "CONFIG.save_dir = os.path.join('record', CONFIG.experiment_name)\n",
        "os.makedirs(CONFIG.save_dir, exist_ok=True)\n",
        "\n",
        "# Setup logging\n",
        "logging.basicConfig(\n",
        "    filename=os.path.join(CONFIG.save_dir, 'log.txt'),\n",
        "    format='%(message)s',\n",
        "    level=logging.INFO,\n",
        "    filemode='a'\n",
        ")\n",
        "\n",
        "# Set experiment's device & deterministic behavior\n",
        "if CONFIG.cpu:\n",
        "    CONFIG.device = 'cpu'\n",
        "else:\n",
        "    CONFIG.device = 'cuda' if torch.cuda.is_available() else 'cpu'\n",
        "\n",
        "torch.manual_seed(CONFIG.seed)\n",
        "random.seed(CONFIG.seed)\n",
        "np.random.seed(CONFIG.seed)\n",
        "torch.backends.cudnn.benchmark = True\n",
        "torch.use_deterministic_algorithms(mode=True, warn_only=True)\n",
        "\n",
        "main()"
      ]
    },
    {
      "cell_type": "markdown",
      "metadata": {
        "id": "GepiWdwvEfOf"
      },
      "source": [
        "#### 1.3.9 - ASH module after layer1.1.conv2, layer2.1.conv2, and layer3.0.conv1"
      ]
    },
    {
      "cell_type": "markdown",
      "metadata": {
        "id": "-73hx4yQEfOf"
      },
      "source": [
        "##### 1.3.9.1 - Cartoon"
      ]
    },
    {
      "cell_type": "code",
      "execution_count": null,
      "metadata": {
        "vscode": {
          "languageId": "python"
        },
        "id": "udjbS7l0EfOf"
      },
      "outputs": [],
      "source": [
        "warnings.filterwarnings('ignore', category=UserWarning)\n",
        "\n",
        "# Parse arguments\n",
        "conf = configurations['1.3.9.1']\n",
        "\n",
        "#args = parse_arguments()\n",
        "args = argparse.Namespace(**conf)\n",
        "print(args)\n",
        "CONFIG.update(vars(args))\n",
        "\n",
        "# Setup output directory\n",
        "CONFIG.save_dir = os.path.join('record', CONFIG.experiment_name)\n",
        "os.makedirs(CONFIG.save_dir, exist_ok=True)\n",
        "\n",
        "# Setup logging\n",
        "logging.basicConfig(\n",
        "    filename=os.path.join(CONFIG.save_dir, 'log.txt'),\n",
        "    format='%(message)s',\n",
        "    level=logging.INFO,\n",
        "    filemode='a'\n",
        ")\n",
        "\n",
        "# Set experiment's device & deterministic behavior\n",
        "if CONFIG.cpu:\n",
        "    CONFIG.device = 'cpu'\n",
        "else:\n",
        "    CONFIG.device = 'cuda' if torch.cuda.is_available() else 'cpu'\n",
        "\n",
        "torch.manual_seed(CONFIG.seed)\n",
        "random.seed(CONFIG.seed)\n",
        "np.random.seed(CONFIG.seed)\n",
        "torch.backends.cudnn.benchmark = True\n",
        "torch.use_deterministic_algorithms(mode=True, warn_only=True)\n",
        "\n",
        "main()"
      ]
    },
    {
      "cell_type": "markdown",
      "metadata": {
        "id": "H1DvpvaoEfOg"
      },
      "source": [
        "##### 1.3.9.2 - Sketch"
      ]
    },
    {
      "cell_type": "code",
      "execution_count": null,
      "metadata": {
        "vscode": {
          "languageId": "python"
        },
        "id": "vfLKfv2LEfOg"
      },
      "outputs": [],
      "source": [
        "warnings.filterwarnings('ignore', category=UserWarning)\n",
        "\n",
        "# Parse arguments\n",
        "conf = configurations['1.3.9.2']\n",
        "\n",
        "#args = parse_arguments()\n",
        "args = argparse.Namespace(**conf)\n",
        "print(args)\n",
        "CONFIG.update(vars(args))\n",
        "\n",
        "# Setup output directory\n",
        "CONFIG.save_dir = os.path.join('record', CONFIG.experiment_name)\n",
        "os.makedirs(CONFIG.save_dir, exist_ok=True)\n",
        "\n",
        "# Setup logging\n",
        "logging.basicConfig(\n",
        "    filename=os.path.join(CONFIG.save_dir, 'log.txt'),\n",
        "    format='%(message)s',\n",
        "    level=logging.INFO,\n",
        "    filemode='a'\n",
        ")\n",
        "\n",
        "# Set experiment's device & deterministic behavior\n",
        "if CONFIG.cpu:\n",
        "    CONFIG.device = 'cpu'\n",
        "else:\n",
        "    CONFIG.device = 'cuda' if torch.cuda.is_available() else 'cpu'\n",
        "\n",
        "torch.manual_seed(CONFIG.seed)\n",
        "random.seed(CONFIG.seed)\n",
        "np.random.seed(CONFIG.seed)\n",
        "torch.backends.cudnn.benchmark = True\n",
        "torch.use_deterministic_algorithms(mode=True, warn_only=True)\n",
        "\n",
        "main()"
      ]
    },
    {
      "cell_type": "markdown",
      "metadata": {
        "id": "6kVLY4rQEfOg"
      },
      "source": [
        "##### 1.3.9.3 - Photo"
      ]
    },
    {
      "cell_type": "code",
      "execution_count": null,
      "metadata": {
        "vscode": {
          "languageId": "python"
        },
        "id": "L3jJTDGyEfOg"
      },
      "outputs": [],
      "source": [
        "warnings.filterwarnings('ignore', category=UserWarning)\n",
        "\n",
        "# Parse arguments\n",
        "conf = configurations['1.3.9.3']\n",
        "\n",
        "#args = parse_arguments()\n",
        "args = argparse.Namespace(**conf)\n",
        "print(args)\n",
        "CONFIG.update(vars(args))\n",
        "\n",
        "# Setup output directory\n",
        "CONFIG.save_dir = os.path.join('record', CONFIG.experiment_name)\n",
        "os.makedirs(CONFIG.save_dir, exist_ok=True)\n",
        "\n",
        "# Setup logging\n",
        "logging.basicConfig(\n",
        "    filename=os.path.join(CONFIG.save_dir, 'log.txt'),\n",
        "    format='%(message)s',\n",
        "    level=logging.INFO,\n",
        "    filemode='a'\n",
        ")\n",
        "\n",
        "# Set experiment's device & deterministic behavior\n",
        "if CONFIG.cpu:\n",
        "    CONFIG.device = 'cpu'\n",
        "else:\n",
        "    CONFIG.device = 'cuda' if torch.cuda.is_available() else 'cpu'\n",
        "\n",
        "torch.manual_seed(CONFIG.seed)\n",
        "random.seed(CONFIG.seed)\n",
        "np.random.seed(CONFIG.seed)\n",
        "torch.backends.cudnn.benchmark = True\n",
        "torch.use_deterministic_algorithms(mode=True, warn_only=True)\n",
        "\n",
        "main()"
      ]
    },
    {
      "cell_type": "markdown",
      "metadata": {
        "id": "B3mGCpVFEfOg"
      },
      "source": [
        "#### 1.3.10 - ASH module after layer1.1.conv2, layer2.1.conv2, and layer3.1.conv2"
      ]
    },
    {
      "cell_type": "markdown",
      "metadata": {
        "id": "ggqYmwekEfOg"
      },
      "source": [
        "##### 1.3.10.1 - Cartoon"
      ]
    },
    {
      "cell_type": "code",
      "execution_count": null,
      "metadata": {
        "vscode": {
          "languageId": "python"
        },
        "id": "5XuR7cohEfOh"
      },
      "outputs": [],
      "source": [
        "warnings.filterwarnings('ignore', category=UserWarning)\n",
        "\n",
        "# Parse arguments\n",
        "conf = configurations['1.3.10.1']\n",
        "\n",
        "#args = parse_arguments()\n",
        "args = argparse.Namespace(**conf)\n",
        "print(args)\n",
        "CONFIG.update(vars(args))\n",
        "\n",
        "# Setup output directory\n",
        "CONFIG.save_dir = os.path.join('record', CONFIG.experiment_name)\n",
        "os.makedirs(CONFIG.save_dir, exist_ok=True)\n",
        "\n",
        "# Setup logging\n",
        "logging.basicConfig(\n",
        "    filename=os.path.join(CONFIG.save_dir, 'log.txt'),\n",
        "    format='%(message)s',\n",
        "    level=logging.INFO,\n",
        "    filemode='a'\n",
        ")\n",
        "\n",
        "# Set experiment's device & deterministic behavior\n",
        "if CONFIG.cpu:\n",
        "    CONFIG.device = 'cpu'\n",
        "else:\n",
        "    CONFIG.device = 'cuda' if torch.cuda.is_available() else 'cpu'\n",
        "\n",
        "torch.manual_seed(CONFIG.seed)\n",
        "random.seed(CONFIG.seed)\n",
        "np.random.seed(CONFIG.seed)\n",
        "torch.backends.cudnn.benchmark = True\n",
        "torch.use_deterministic_algorithms(mode=True, warn_only=True)\n",
        "\n",
        "main()"
      ]
    },
    {
      "cell_type": "markdown",
      "metadata": {
        "id": "arlfM_x-EfOh"
      },
      "source": [
        "##### 1.3.10.2 - Sketch"
      ]
    },
    {
      "cell_type": "code",
      "execution_count": null,
      "metadata": {
        "vscode": {
          "languageId": "python"
        },
        "id": "uGDVAOhpEfOh"
      },
      "outputs": [],
      "source": [
        "warnings.filterwarnings('ignore', category=UserWarning)\n",
        "\n",
        "# Parse arguments\n",
        "conf = configurations['1.3.10.2']\n",
        "\n",
        "#args = parse_arguments()\n",
        "args = argparse.Namespace(**conf)\n",
        "print(args)\n",
        "CONFIG.update(vars(args))\n",
        "\n",
        "# Setup output directory\n",
        "CONFIG.save_dir = os.path.join('record', CONFIG.experiment_name)\n",
        "os.makedirs(CONFIG.save_dir, exist_ok=True)\n",
        "\n",
        "# Setup logging\n",
        "logging.basicConfig(\n",
        "    filename=os.path.join(CONFIG.save_dir, 'log.txt'),\n",
        "    format='%(message)s',\n",
        "    level=logging.INFO,\n",
        "    filemode='a'\n",
        ")\n",
        "\n",
        "# Set experiment's device & deterministic behavior\n",
        "if CONFIG.cpu:\n",
        "    CONFIG.device = 'cpu'\n",
        "else:\n",
        "    CONFIG.device = 'cuda' if torch.cuda.is_available() else 'cpu'\n",
        "\n",
        "torch.manual_seed(CONFIG.seed)\n",
        "random.seed(CONFIG.seed)\n",
        "np.random.seed(CONFIG.seed)\n",
        "torch.backends.cudnn.benchmark = True\n",
        "torch.use_deterministic_algorithms(mode=True, warn_only=True)\n",
        "\n",
        "main()"
      ]
    },
    {
      "cell_type": "markdown",
      "metadata": {
        "id": "XbuMZx8jEfOh"
      },
      "source": [
        "##### 1.3.10.3 - Photo"
      ]
    },
    {
      "cell_type": "code",
      "execution_count": null,
      "metadata": {
        "vscode": {
          "languageId": "python"
        },
        "id": "C8xHnrFKEfOh"
      },
      "outputs": [],
      "source": [
        "warnings.filterwarnings('ignore', category=UserWarning)\n",
        "\n",
        "# Parse arguments\n",
        "conf = configurations['1.3.10.3']\n",
        "\n",
        "#args = parse_arguments()\n",
        "args = argparse.Namespace(**conf)\n",
        "print(args)\n",
        "CONFIG.update(vars(args))\n",
        "\n",
        "# Setup output directory\n",
        "CONFIG.save_dir = os.path.join('record', CONFIG.experiment_name)\n",
        "os.makedirs(CONFIG.save_dir, exist_ok=True)\n",
        "\n",
        "# Setup logging\n",
        "logging.basicConfig(\n",
        "    filename=os.path.join(CONFIG.save_dir, 'log.txt'),\n",
        "    format='%(message)s',\n",
        "    level=logging.INFO,\n",
        "    filemode='a'\n",
        ")\n",
        "\n",
        "# Set experiment's device & deterministic behavior\n",
        "if CONFIG.cpu:\n",
        "    CONFIG.device = 'cpu'\n",
        "else:\n",
        "    CONFIG.device = 'cuda' if torch.cuda.is_available() else 'cpu'\n",
        "\n",
        "torch.manual_seed(CONFIG.seed)\n",
        "random.seed(CONFIG.seed)\n",
        "np.random.seed(CONFIG.seed)\n",
        "torch.backends.cudnn.benchmark = True\n",
        "torch.use_deterministic_algorithms(mode=True, warn_only=True)\n",
        "\n",
        "main()"
      ]
    },
    {
      "cell_type": "markdown",
      "metadata": {
        "id": "vxznQoCIEfOi"
      },
      "source": [
        "#### 1.3.11 - ASH module after layer1.1.bn2, layer2.1.conv2, and layer3.0.conv1\\"
      ]
    },
    {
      "cell_type": "markdown",
      "metadata": {
        "id": "J4Up48uuEfOi"
      },
      "source": [
        "##### 1.3.11.1 - Cartoon"
      ]
    },
    {
      "cell_type": "code",
      "execution_count": null,
      "metadata": {
        "vscode": {
          "languageId": "python"
        },
        "id": "6J79ljkWEfOi"
      },
      "outputs": [],
      "source": [
        "warnings.filterwarnings('ignore', category=UserWarning)\n",
        "\n",
        "# Parse arguments\n",
        "conf = configurations['1.3.11.1']\n",
        "\n",
        "#args = parse_arguments()\n",
        "args = argparse.Namespace(**conf)\n",
        "print(args)\n",
        "CONFIG.update(vars(args))\n",
        "\n",
        "# Setup output directory\n",
        "CONFIG.save_dir = os.path.join('record', CONFIG.experiment_name)\n",
        "os.makedirs(CONFIG.save_dir, exist_ok=True)\n",
        "\n",
        "# Setup logging\n",
        "logging.basicConfig(\n",
        "    filename=os.path.join(CONFIG.save_dir, 'log.txt'),\n",
        "    format='%(message)s',\n",
        "    level=logging.INFO,\n",
        "    filemode='a'\n",
        ")\n",
        "\n",
        "# Set experiment's device & deterministic behavior\n",
        "if CONFIG.cpu:\n",
        "    CONFIG.device = 'cpu'\n",
        "else:\n",
        "    CONFIG.device = 'cuda' if torch.cuda.is_available() else 'cpu'\n",
        "\n",
        "torch.manual_seed(CONFIG.seed)\n",
        "random.seed(CONFIG.seed)\n",
        "np.random.seed(CONFIG.seed)\n",
        "torch.backends.cudnn.benchmark = True\n",
        "torch.use_deterministic_algorithms(mode=True, warn_only=True)\n",
        "\n",
        "main()"
      ]
    },
    {
      "cell_type": "markdown",
      "metadata": {
        "id": "c98BNyQ0EfOi"
      },
      "source": [
        "##### 1.3.11.2 - Sketch"
      ]
    },
    {
      "cell_type": "code",
      "execution_count": null,
      "metadata": {
        "vscode": {
          "languageId": "python"
        },
        "id": "mFp8iMaXEfOi"
      },
      "outputs": [],
      "source": [
        "warnings.filterwarnings('ignore', category=UserWarning)\n",
        "\n",
        "# Parse arguments\n",
        "conf = configurations['1.3.11.2']\n",
        "\n",
        "#args = parse_arguments()\n",
        "args = argparse.Namespace(**conf)\n",
        "print(args)\n",
        "CONFIG.update(vars(args))\n",
        "\n",
        "# Setup output directory\n",
        "CONFIG.save_dir = os.path.join('record', CONFIG.experiment_name)\n",
        "os.makedirs(CONFIG.save_dir, exist_ok=True)\n",
        "\n",
        "# Setup logging\n",
        "logging.basicConfig(\n",
        "    filename=os.path.join(CONFIG.save_dir, 'log.txt'),\n",
        "    format='%(message)s',\n",
        "    level=logging.INFO,\n",
        "    filemode='a'\n",
        ")\n",
        "\n",
        "# Set experiment's device & deterministic behavior\n",
        "if CONFIG.cpu:\n",
        "    CONFIG.device = 'cpu'\n",
        "else:\n",
        "    CONFIG.device = 'cuda' if torch.cuda.is_available() else 'cpu'\n",
        "\n",
        "torch.manual_seed(CONFIG.seed)\n",
        "random.seed(CONFIG.seed)\n",
        "np.random.seed(CONFIG.seed)\n",
        "torch.backends.cudnn.benchmark = True\n",
        "torch.use_deterministic_algorithms(mode=True, warn_only=True)\n",
        "\n",
        "main()"
      ]
    },
    {
      "cell_type": "markdown",
      "metadata": {
        "id": "Q_Ny46RsEfOi"
      },
      "source": [
        "##### 1.3.11.3 - Photo"
      ]
    },
    {
      "cell_type": "code",
      "execution_count": null,
      "metadata": {
        "vscode": {
          "languageId": "python"
        },
        "id": "l6TUBAK2EfOi"
      },
      "outputs": [],
      "source": [
        "warnings.filterwarnings('ignore', category=UserWarning)\n",
        "\n",
        "# Parse arguments\n",
        "conf = configurations['1.3.11.3']\n",
        "\n",
        "#args = parse_arguments()\n",
        "args = argparse.Namespace(**conf)\n",
        "print(args)\n",
        "CONFIG.update(vars(args))\n",
        "\n",
        "# Setup output directory\n",
        "CONFIG.save_dir = os.path.join('record', CONFIG.experiment_name)\n",
        "os.makedirs(CONFIG.save_dir, exist_ok=True)\n",
        "\n",
        "# Setup logging\n",
        "logging.basicConfig(\n",
        "    filename=os.path.join(CONFIG.save_dir, 'log.txt'),\n",
        "    format='%(message)s',\n",
        "    level=logging.INFO,\n",
        "    filemode='a'\n",
        ")\n",
        "\n",
        "# Set experiment's device & deterministic behavior\n",
        "if CONFIG.cpu:\n",
        "    CONFIG.device = 'cpu'\n",
        "else:\n",
        "    CONFIG.device = 'cuda' if torch.cuda.is_available() else 'cpu'\n",
        "\n",
        "torch.manual_seed(CONFIG.seed)\n",
        "random.seed(CONFIG.seed)\n",
        "np.random.seed(CONFIG.seed)\n",
        "torch.backends.cudnn.benchmark = True\n",
        "torch.use_deterministic_algorithms(mode=True, warn_only=True)\n",
        "\n",
        "main()"
      ]
    },
    {
      "cell_type": "markdown",
      "metadata": {
        "id": "z5Q6WI-VEfOj"
      },
      "source": [
        "#### 1.3.12 - ASH module after layer1.1.bn2, layer2.1.conv2, and layer3.1.conv2"
      ]
    },
    {
      "cell_type": "markdown",
      "metadata": {
        "id": "mfZC96MCEfOj"
      },
      "source": [
        "##### 1.3.12.1 - Cartoon"
      ]
    },
    {
      "cell_type": "code",
      "execution_count": null,
      "metadata": {
        "vscode": {
          "languageId": "python"
        },
        "id": "e0o1OUcZEfOj"
      },
      "outputs": [],
      "source": [
        "warnings.filterwarnings('ignore', category=UserWarning)\n",
        "\n",
        "# Parse arguments\n",
        "conf = configurations['1.3.12.1']\n",
        "\n",
        "#args = parse_arguments()\n",
        "args = argparse.Namespace(**conf)\n",
        "print(args)\n",
        "CONFIG.update(vars(args))\n",
        "\n",
        "# Setup output directory\n",
        "CONFIG.save_dir = os.path.join('record', CONFIG.experiment_name)\n",
        "os.makedirs(CONFIG.save_dir, exist_ok=True)\n",
        "\n",
        "# Setup logging\n",
        "logging.basicConfig(\n",
        "    filename=os.path.join(CONFIG.save_dir, 'log.txt'),\n",
        "    format='%(message)s',\n",
        "    level=logging.INFO,\n",
        "    filemode='a'\n",
        ")\n",
        "\n",
        "# Set experiment's device & deterministic behavior\n",
        "if CONFIG.cpu:\n",
        "    CONFIG.device = 'cpu'\n",
        "else:\n",
        "    CONFIG.device = 'cuda' if torch.cuda.is_available() else 'cpu'\n",
        "\n",
        "torch.manual_seed(CONFIG.seed)\n",
        "random.seed(CONFIG.seed)\n",
        "np.random.seed(CONFIG.seed)\n",
        "torch.backends.cudnn.benchmark = True\n",
        "torch.use_deterministic_algorithms(mode=True, warn_only=True)\n",
        "\n",
        "main()"
      ]
    },
    {
      "cell_type": "markdown",
      "metadata": {
        "id": "tS4idtyCEfOj"
      },
      "source": [
        "##### 1.3.12.2 - Sketch"
      ]
    },
    {
      "cell_type": "code",
      "execution_count": null,
      "metadata": {
        "vscode": {
          "languageId": "python"
        },
        "id": "jlceaqCbEfOj"
      },
      "outputs": [],
      "source": [
        "warnings.filterwarnings('ignore', category=UserWarning)\n",
        "\n",
        "# Parse arguments\n",
        "conf = configurations['1.3.12.2']\n",
        "\n",
        "#args = parse_arguments()\n",
        "args = argparse.Namespace(**conf)\n",
        "print(args)\n",
        "CONFIG.update(vars(args))\n",
        "\n",
        "# Setup output directory\n",
        "CONFIG.save_dir = os.path.join('record', CONFIG.experiment_name)\n",
        "os.makedirs(CONFIG.save_dir, exist_ok=True)\n",
        "\n",
        "# Setup logging\n",
        "logging.basicConfig(\n",
        "    filename=os.path.join(CONFIG.save_dir, 'log.txt'),\n",
        "    format='%(message)s',\n",
        "    level=logging.INFO,\n",
        "    filemode='a'\n",
        ")\n",
        "\n",
        "# Set experiment's device & deterministic behavior\n",
        "if CONFIG.cpu:\n",
        "    CONFIG.device = 'cpu'\n",
        "else:\n",
        "    CONFIG.device = 'cuda' if torch.cuda.is_available() else 'cpu'\n",
        "\n",
        "torch.manual_seed(CONFIG.seed)\n",
        "random.seed(CONFIG.seed)\n",
        "np.random.seed(CONFIG.seed)\n",
        "torch.backends.cudnn.benchmark = True\n",
        "torch.use_deterministic_algorithms(mode=True, warn_only=True)\n",
        "\n",
        "main()"
      ]
    },
    {
      "cell_type": "markdown",
      "metadata": {
        "id": "Q6G3j_KpEfOj"
      },
      "source": [
        "##### 1.3.12.3 - Photo"
      ]
    },
    {
      "cell_type": "code",
      "execution_count": null,
      "metadata": {
        "vscode": {
          "languageId": "python"
        },
        "id": "mOn55sHAEfOj"
      },
      "outputs": [],
      "source": [
        "warnings.filterwarnings('ignore', category=UserWarning)\n",
        "\n",
        "# Parse arguments\n",
        "conf = configurations['1.3.12.3']\n",
        "\n",
        "#args = parse_arguments()\n",
        "args = argparse.Namespace(**conf)\n",
        "print(args)\n",
        "CONFIG.update(vars(args))\n",
        "\n",
        "# Setup output directory\n",
        "CONFIG.save_dir = os.path.join('record', CONFIG.experiment_name)\n",
        "os.makedirs(CONFIG.save_dir, exist_ok=True)\n",
        "\n",
        "# Setup logging\n",
        "logging.basicConfig(\n",
        "    filename=os.path.join(CONFIG.save_dir, 'log.txt'),\n",
        "    format='%(message)s',\n",
        "    level=logging.INFO,\n",
        "    filemode='a'\n",
        ")\n",
        "\n",
        "# Set experiment's device & deterministic behavior\n",
        "if CONFIG.cpu:\n",
        "    CONFIG.device = 'cpu'\n",
        "else:\n",
        "    CONFIG.device = 'cuda' if torch.cuda.is_available() else 'cpu'\n",
        "\n",
        "torch.manual_seed(CONFIG.seed)\n",
        "random.seed(CONFIG.seed)\n",
        "np.random.seed(CONFIG.seed)\n",
        "torch.backends.cudnn.benchmark = True\n",
        "torch.use_deterministic_algorithms(mode=True, warn_only=True)\n",
        "\n",
        "main()"
      ]
    },
    {
      "cell_type": "markdown",
      "metadata": {
        "id": "gMeGz8sBEfOk"
      },
      "source": [
        "### 1.4 - Four ASH modules"
      ]
    },
    {
      "cell_type": "markdown",
      "metadata": {
        "id": "Hr9rM_qhEfOk"
      },
      "source": [
        "#### 1.4.1 - ASH module after layer1.1.bn1, layer1.1.conv2, layer1.1.bn2, and layer2.1.conv2"
      ]
    },
    {
      "cell_type": "markdown",
      "metadata": {
        "id": "dtwnV5eYEfOk"
      },
      "source": [
        "##### 1.4.1.1 - Cartoon"
      ]
    },
    {
      "cell_type": "code",
      "execution_count": null,
      "metadata": {
        "vscode": {
          "languageId": "python"
        },
        "id": "Z639ACukEfOk"
      },
      "outputs": [],
      "source": [
        "warnings.filterwarnings('ignore', category=UserWarning)\n",
        "\n",
        "# Parse arguments\n",
        "conf = configurations['1.4.1.1']\n",
        "\n",
        "#args = parse_arguments()\n",
        "args = argparse.Namespace(**conf)\n",
        "print(args)\n",
        "CONFIG.update(vars(args))\n",
        "\n",
        "# Setup output directory\n",
        "CONFIG.save_dir = os.path.join('record', CONFIG.experiment_name)\n",
        "os.makedirs(CONFIG.save_dir, exist_ok=True)\n",
        "\n",
        "# Setup logging\n",
        "logging.basicConfig(\n",
        "    filename=os.path.join(CONFIG.save_dir, 'log.txt'),\n",
        "    format='%(message)s',\n",
        "    level=logging.INFO,\n",
        "    filemode='a'\n",
        ")\n",
        "\n",
        "# Set experiment's device & deterministic behavior\n",
        "if CONFIG.cpu:\n",
        "    CONFIG.device = 'cpu'\n",
        "else:\n",
        "    CONFIG.device = 'cuda' if torch.cuda.is_available() else 'cpu'\n",
        "\n",
        "torch.manual_seed(CONFIG.seed)\n",
        "random.seed(CONFIG.seed)\n",
        "np.random.seed(CONFIG.seed)\n",
        "torch.backends.cudnn.benchmark = True\n",
        "torch.use_deterministic_algorithms(mode=True, warn_only=True)\n",
        "\n",
        "main()"
      ]
    },
    {
      "cell_type": "markdown",
      "metadata": {
        "id": "8SLQQ9gQEfOk"
      },
      "source": [
        "##### 1.4.1.2 - Sketch"
      ]
    },
    {
      "cell_type": "code",
      "execution_count": null,
      "metadata": {
        "vscode": {
          "languageId": "python"
        },
        "id": "cB3LmAqQEfOk"
      },
      "outputs": [],
      "source": [
        "warnings.filterwarnings('ignore', category=UserWarning)\n",
        "\n",
        "# Parse arguments\n",
        "conf = configurations['1.4.1.2']\n",
        "\n",
        "#args = parse_arguments()\n",
        "args = argparse.Namespace(**conf)\n",
        "print(args)\n",
        "CONFIG.update(vars(args))\n",
        "\n",
        "# Setup output directory\n",
        "CONFIG.save_dir = os.path.join('record', CONFIG.experiment_name)\n",
        "os.makedirs(CONFIG.save_dir, exist_ok=True)\n",
        "\n",
        "# Setup logging\n",
        "logging.basicConfig(\n",
        "    filename=os.path.join(CONFIG.save_dir, 'log.txt'),\n",
        "    format='%(message)s',\n",
        "    level=logging.INFO,\n",
        "    filemode='a'\n",
        ")\n",
        "\n",
        "# Set experiment's device & deterministic behavior\n",
        "if CONFIG.cpu:\n",
        "    CONFIG.device = 'cpu'\n",
        "else:\n",
        "    CONFIG.device = 'cuda' if torch.cuda.is_available() else 'cpu'\n",
        "\n",
        "torch.manual_seed(CONFIG.seed)\n",
        "random.seed(CONFIG.seed)\n",
        "np.random.seed(CONFIG.seed)\n",
        "torch.backends.cudnn.benchmark = True\n",
        "torch.use_deterministic_algorithms(mode=True, warn_only=True)\n",
        "\n",
        "main()"
      ]
    },
    {
      "cell_type": "markdown",
      "metadata": {
        "id": "ApX1_847EfOk"
      },
      "source": [
        "##### 1.4.1.3 - Photo"
      ]
    },
    {
      "cell_type": "code",
      "execution_count": null,
      "metadata": {
        "vscode": {
          "languageId": "python"
        },
        "id": "XT4lfzn2EfOl"
      },
      "outputs": [],
      "source": [
        "warnings.filterwarnings('ignore', category=UserWarning)\n",
        "\n",
        "# Parse arguments\n",
        "conf = configurations['1.4.1.3']\n",
        "\n",
        "#args = parse_arguments()\n",
        "args = argparse.Namespace(**conf)\n",
        "print(args)\n",
        "CONFIG.update(vars(args))\n",
        "\n",
        "# Setup output directory\n",
        "CONFIG.save_dir = os.path.join('record', CONFIG.experiment_name)\n",
        "os.makedirs(CONFIG.save_dir, exist_ok=True)\n",
        "\n",
        "# Setup logging\n",
        "logging.basicConfig(\n",
        "    filename=os.path.join(CONFIG.save_dir, 'log.txt'),\n",
        "    format='%(message)s',\n",
        "    level=logging.INFO,\n",
        "    filemode='a'\n",
        ")\n",
        "\n",
        "# Set experiment's device & deterministic behavior\n",
        "if CONFIG.cpu:\n",
        "    CONFIG.device = 'cpu'\n",
        "else:\n",
        "    CONFIG.device = 'cuda' if torch.cuda.is_available() else 'cpu'\n",
        "\n",
        "torch.manual_seed(CONFIG.seed)\n",
        "random.seed(CONFIG.seed)\n",
        "np.random.seed(CONFIG.seed)\n",
        "torch.backends.cudnn.benchmark = True\n",
        "torch.use_deterministic_algorithms(mode=True, warn_only=True)\n",
        "\n",
        "main()"
      ]
    },
    {
      "cell_type": "markdown",
      "metadata": {
        "id": "EN2QSIpmEfOl"
      },
      "source": [
        "#### 1.4.2 - ASH module after layer1.1.bn1, layer1.1.conv2, layer1.1.bn2, and layer3.0.conv1"
      ]
    },
    {
      "cell_type": "markdown",
      "metadata": {
        "id": "QCZMDroUEfOl"
      },
      "source": [
        "##### 1.4.2.1 - Cartoon"
      ]
    },
    {
      "cell_type": "code",
      "execution_count": null,
      "metadata": {
        "vscode": {
          "languageId": "python"
        },
        "id": "AYo6wX82EfOl"
      },
      "outputs": [],
      "source": [
        "warnings.filterwarnings('ignore', category=UserWarning)\n",
        "\n",
        "# Parse arguments\n",
        "conf = configurations['1.4.2.1']\n",
        "\n",
        "#args = parse_arguments()\n",
        "args = argparse.Namespace(**conf)\n",
        "print(args)\n",
        "CONFIG.update(vars(args))\n",
        "\n",
        "# Setup output directory\n",
        "CONFIG.save_dir = os.path.join('record', CONFIG.experiment_name)\n",
        "os.makedirs(CONFIG.save_dir, exist_ok=True)\n",
        "\n",
        "# Setup logging\n",
        "logging.basicConfig(\n",
        "    filename=os.path.join(CONFIG.save_dir, 'log.txt'),\n",
        "    format='%(message)s',\n",
        "    level=logging.INFO,\n",
        "    filemode='a'\n",
        ")\n",
        "\n",
        "# Set experiment's device & deterministic behavior\n",
        "if CONFIG.cpu:\n",
        "    CONFIG.device = 'cpu'\n",
        "else:\n",
        "    CONFIG.device = 'cuda' if torch.cuda.is_available() else 'cpu'\n",
        "\n",
        "torch.manual_seed(CONFIG.seed)\n",
        "random.seed(CONFIG.seed)\n",
        "np.random.seed(CONFIG.seed)\n",
        "torch.backends.cudnn.benchmark = True\n",
        "torch.use_deterministic_algorithms(mode=True, warn_only=True)\n",
        "\n",
        "main()"
      ]
    },
    {
      "cell_type": "markdown",
      "metadata": {
        "id": "zAtjcG1aEfOl"
      },
      "source": [
        "##### 1.4.2.2 - Sketch"
      ]
    },
    {
      "cell_type": "code",
      "execution_count": null,
      "metadata": {
        "vscode": {
          "languageId": "python"
        },
        "id": "o8NQbUPcEfOl"
      },
      "outputs": [],
      "source": [
        "warnings.filterwarnings('ignore', category=UserWarning)\n",
        "\n",
        "# Parse arguments\n",
        "conf = configurations['1.4.2.2']\n",
        "\n",
        "#args = parse_arguments()\n",
        "args = argparse.Namespace(**conf)\n",
        "print(args)\n",
        "CONFIG.update(vars(args))\n",
        "\n",
        "# Setup output directory\n",
        "CONFIG.save_dir = os.path.join('record', CONFIG.experiment_name)\n",
        "os.makedirs(CONFIG.save_dir, exist_ok=True)\n",
        "\n",
        "# Setup logging\n",
        "logging.basicConfig(\n",
        "    filename=os.path.join(CONFIG.save_dir, 'log.txt'),\n",
        "    format='%(message)s',\n",
        "    level=logging.INFO,\n",
        "    filemode='a'\n",
        ")\n",
        "\n",
        "# Set experiment's device & deterministic behavior\n",
        "if CONFIG.cpu:\n",
        "    CONFIG.device = 'cpu'\n",
        "else:\n",
        "    CONFIG.device = 'cuda' if torch.cuda.is_available() else 'cpu'\n",
        "\n",
        "torch.manual_seed(CONFIG.seed)\n",
        "random.seed(CONFIG.seed)\n",
        "np.random.seed(CONFIG.seed)\n",
        "torch.backends.cudnn.benchmark = True\n",
        "torch.use_deterministic_algorithms(mode=True, warn_only=True)\n",
        "\n",
        "main()"
      ]
    },
    {
      "cell_type": "markdown",
      "metadata": {
        "id": "6PexruntEfOl"
      },
      "source": [
        "##### 1.4.2.3 - Photo"
      ]
    },
    {
      "cell_type": "code",
      "execution_count": null,
      "metadata": {
        "vscode": {
          "languageId": "python"
        },
        "id": "EhCY7OTMEfOm"
      },
      "outputs": [],
      "source": [
        "warnings.filterwarnings('ignore', category=UserWarning)\n",
        "\n",
        "# Parse arguments\n",
        "conf = configurations['1.4.2.3']\n",
        "\n",
        "#args = parse_arguments()\n",
        "args = argparse.Namespace(**conf)\n",
        "print(args)\n",
        "CONFIG.update(vars(args))\n",
        "\n",
        "# Setup output directory\n",
        "CONFIG.save_dir = os.path.join('record', CONFIG.experiment_name)\n",
        "os.makedirs(CONFIG.save_dir, exist_ok=True)\n",
        "\n",
        "# Setup logging\n",
        "logging.basicConfig(\n",
        "    filename=os.path.join(CONFIG.save_dir, 'log.txt'),\n",
        "    format='%(message)s',\n",
        "    level=logging.INFO,\n",
        "    filemode='a'\n",
        ")\n",
        "\n",
        "# Set experiment's device & deterministic behavior\n",
        "if CONFIG.cpu:\n",
        "    CONFIG.device = 'cpu'\n",
        "else:\n",
        "    CONFIG.device = 'cuda' if torch.cuda.is_available() else 'cpu'\n",
        "\n",
        "torch.manual_seed(CONFIG.seed)\n",
        "random.seed(CONFIG.seed)\n",
        "np.random.seed(CONFIG.seed)\n",
        "torch.backends.cudnn.benchmark = True\n",
        "torch.use_deterministic_algorithms(mode=True, warn_only=True)\n",
        "\n",
        "main()"
      ]
    },
    {
      "cell_type": "markdown",
      "metadata": {
        "id": "Oj1hI5UmEfOm"
      },
      "source": [
        "#### 1.4.3 - ASH module after layer1.1.bn1, layer1.1.conv2, layer1.1.bn2, and layer3.1.conv2"
      ]
    },
    {
      "cell_type": "markdown",
      "metadata": {
        "id": "0jJn0ILlEfOm"
      },
      "source": [
        "##### 1.4.3.1 - Cartoon"
      ]
    },
    {
      "cell_type": "code",
      "execution_count": null,
      "metadata": {
        "vscode": {
          "languageId": "python"
        },
        "id": "3n5vSUXTEfOm"
      },
      "outputs": [],
      "source": [
        "warnings.filterwarnings('ignore', category=UserWarning)\n",
        "\n",
        "# Parse arguments\n",
        "conf = configurations['1.4.3.1']\n",
        "\n",
        "#args = parse_arguments()\n",
        "args = argparse.Namespace(**conf)\n",
        "print(args)\n",
        "CONFIG.update(vars(args))\n",
        "\n",
        "# Setup output directory\n",
        "CONFIG.save_dir = os.path.join('record', CONFIG.experiment_name)\n",
        "os.makedirs(CONFIG.save_dir, exist_ok=True)\n",
        "\n",
        "# Setup logging\n",
        "logging.basicConfig(\n",
        "    filename=os.path.join(CONFIG.save_dir, 'log.txt'),\n",
        "    format='%(message)s',\n",
        "    level=logging.INFO,\n",
        "    filemode='a'\n",
        ")\n",
        "\n",
        "# Set experiment's device & deterministic behavior\n",
        "if CONFIG.cpu:\n",
        "    CONFIG.device = 'cpu'\n",
        "else:\n",
        "    CONFIG.device = 'cuda' if torch.cuda.is_available() else 'cpu'\n",
        "\n",
        "torch.manual_seed(CONFIG.seed)\n",
        "random.seed(CONFIG.seed)\n",
        "np.random.seed(CONFIG.seed)\n",
        "torch.backends.cudnn.benchmark = True\n",
        "torch.use_deterministic_algorithms(mode=True, warn_only=True)\n",
        "\n",
        "main()"
      ]
    },
    {
      "cell_type": "markdown",
      "metadata": {
        "id": "V48iFYYTEfOm"
      },
      "source": [
        "##### 1.4.3.2 - Sketch"
      ]
    },
    {
      "cell_type": "code",
      "execution_count": null,
      "metadata": {
        "vscode": {
          "languageId": "python"
        },
        "id": "Bbr_pBp5EfOm"
      },
      "outputs": [],
      "source": [
        "warnings.filterwarnings('ignore', category=UserWarning)\n",
        "\n",
        "# Parse arguments\n",
        "conf = configurations['1.4.3.2']\n",
        "\n",
        "#args = parse_arguments()\n",
        "args = argparse.Namespace(**conf)\n",
        "print(args)\n",
        "CONFIG.update(vars(args))\n",
        "\n",
        "# Setup output directory\n",
        "CONFIG.save_dir = os.path.join('record', CONFIG.experiment_name)\n",
        "os.makedirs(CONFIG.save_dir, exist_ok=True)\n",
        "\n",
        "# Setup logging\n",
        "logging.basicConfig(\n",
        "    filename=os.path.join(CONFIG.save_dir, 'log.txt'),\n",
        "    format='%(message)s',\n",
        "    level=logging.INFO,\n",
        "    filemode='a'\n",
        ")\n",
        "\n",
        "# Set experiment's device & deterministic behavior\n",
        "if CONFIG.cpu:\n",
        "    CONFIG.device = 'cpu'\n",
        "else:\n",
        "    CONFIG.device = 'cuda' if torch.cuda.is_available() else 'cpu'\n",
        "\n",
        "torch.manual_seed(CONFIG.seed)\n",
        "random.seed(CONFIG.seed)\n",
        "np.random.seed(CONFIG.seed)\n",
        "torch.backends.cudnn.benchmark = True\n",
        "torch.use_deterministic_algorithms(mode=True, warn_only=True)\n",
        "\n",
        "main()"
      ]
    },
    {
      "cell_type": "markdown",
      "metadata": {
        "id": "Ls2eSmwBEfOn"
      },
      "source": [
        "##### 1.4.3.3 - Photo"
      ]
    },
    {
      "cell_type": "code",
      "execution_count": null,
      "metadata": {
        "vscode": {
          "languageId": "python"
        },
        "id": "XeDaWYr0EfOn"
      },
      "outputs": [],
      "source": [
        "warnings.filterwarnings('ignore', category=UserWarning)\n",
        "\n",
        "# Parse arguments\n",
        "conf = configurations['1.4.3.3']\n",
        "\n",
        "#args = parse_arguments()\n",
        "args = argparse.Namespace(**conf)\n",
        "print(args)\n",
        "CONFIG.update(vars(args))\n",
        "\n",
        "# Setup output directory\n",
        "CONFIG.save_dir = os.path.join('record', CONFIG.experiment_name)\n",
        "os.makedirs(CONFIG.save_dir, exist_ok=True)\n",
        "\n",
        "# Setup logging\n",
        "logging.basicConfig(\n",
        "    filename=os.path.join(CONFIG.save_dir, 'log.txt'),\n",
        "    format='%(message)s',\n",
        "    level=logging.INFO,\n",
        "    filemode='a'\n",
        ")\n",
        "\n",
        "# Set experiment's device & deterministic behavior\n",
        "if CONFIG.cpu:\n",
        "    CONFIG.device = 'cpu'\n",
        "else:\n",
        "    CONFIG.device = 'cuda' if torch.cuda.is_available() else 'cpu'\n",
        "\n",
        "torch.manual_seed(CONFIG.seed)\n",
        "random.seed(CONFIG.seed)\n",
        "np.random.seed(CONFIG.seed)\n",
        "torch.backends.cudnn.benchmark = True\n",
        "torch.use_deterministic_algorithms(mode=True, warn_only=True)\n",
        "\n",
        "main()"
      ]
    },
    {
      "cell_type": "markdown",
      "metadata": {
        "id": "koHs9i5xEfOn"
      },
      "source": [
        "#### 1.4.4 - ASH module after layer1.1.bn1, layer1.1.conv2, layer2.1.conv2, and layer3.0.conv1"
      ]
    },
    {
      "cell_type": "markdown",
      "metadata": {
        "id": "zWhDIGqKEfOn"
      },
      "source": [
        "##### 1.4.4.1 - Cartoon"
      ]
    },
    {
      "cell_type": "code",
      "execution_count": null,
      "metadata": {
        "vscode": {
          "languageId": "python"
        },
        "id": "lMu1ge3wEfOn"
      },
      "outputs": [],
      "source": [
        "warnings.filterwarnings('ignore', category=UserWarning)\n",
        "\n",
        "# Parse arguments\n",
        "conf = configurations['1.4.4.1']\n",
        "\n",
        "#args = parse_arguments()\n",
        "args = argparse.Namespace(**conf)\n",
        "print(args)\n",
        "CONFIG.update(vars(args))\n",
        "\n",
        "# Setup output directory\n",
        "CONFIG.save_dir = os.path.join('record', CONFIG.experiment_name)\n",
        "os.makedirs(CONFIG.save_dir, exist_ok=True)\n",
        "\n",
        "# Setup logging\n",
        "logging.basicConfig(\n",
        "    filename=os.path.join(CONFIG.save_dir, 'log.txt'),\n",
        "    format='%(message)s',\n",
        "    level=logging.INFO,\n",
        "    filemode='a'\n",
        ")\n",
        "\n",
        "# Set experiment's device & deterministic behavior\n",
        "if CONFIG.cpu:\n",
        "    CONFIG.device = 'cpu'\n",
        "else:\n",
        "    CONFIG.device = 'cuda' if torch.cuda.is_available() else 'cpu'\n",
        "\n",
        "torch.manual_seed(CONFIG.seed)\n",
        "random.seed(CONFIG.seed)\n",
        "np.random.seed(CONFIG.seed)\n",
        "torch.backends.cudnn.benchmark = True\n",
        "torch.use_deterministic_algorithms(mode=True, warn_only=True)\n",
        "\n",
        "main()"
      ]
    },
    {
      "cell_type": "markdown",
      "metadata": {
        "id": "lAm_W_nYEfOn"
      },
      "source": [
        "##### 1.4.4.2 - Sketch"
      ]
    },
    {
      "cell_type": "code",
      "execution_count": null,
      "metadata": {
        "vscode": {
          "languageId": "python"
        },
        "id": "I25A-EaaEfOo"
      },
      "outputs": [],
      "source": [
        "warnings.filterwarnings('ignore', category=UserWarning)\n",
        "\n",
        "# Parse arguments\n",
        "conf = configurations['1.4.4.2']\n",
        "\n",
        "#args = parse_arguments()\n",
        "args = argparse.Namespace(**conf)\n",
        "print(args)\n",
        "CONFIG.update(vars(args))\n",
        "\n",
        "# Setup output directory\n",
        "CONFIG.save_dir = os.path.join('record', CONFIG.experiment_name)\n",
        "os.makedirs(CONFIG.save_dir, exist_ok=True)\n",
        "\n",
        "# Setup logging\n",
        "logging.basicConfig(\n",
        "    filename=os.path.join(CONFIG.save_dir, 'log.txt'),\n",
        "    format='%(message)s',\n",
        "    level=logging.INFO,\n",
        "    filemode='a'\n",
        ")\n",
        "\n",
        "# Set experiment's device & deterministic behavior\n",
        "if CONFIG.cpu:\n",
        "    CONFIG.device = 'cpu'\n",
        "else:\n",
        "    CONFIG.device = 'cuda' if torch.cuda.is_available() else 'cpu'\n",
        "\n",
        "torch.manual_seed(CONFIG.seed)\n",
        "random.seed(CONFIG.seed)\n",
        "np.random.seed(CONFIG.seed)\n",
        "torch.backends.cudnn.benchmark = True\n",
        "torch.use_deterministic_algorithms(mode=True, warn_only=True)\n",
        "\n",
        "main()"
      ]
    },
    {
      "cell_type": "markdown",
      "metadata": {
        "id": "3QIuzfT8EfOo"
      },
      "source": [
        "##### 1.4.4.3 - Photo"
      ]
    },
    {
      "cell_type": "code",
      "execution_count": null,
      "metadata": {
        "vscode": {
          "languageId": "python"
        },
        "id": "Ihn0BRzGEfOo"
      },
      "outputs": [],
      "source": [
        "warnings.filterwarnings('ignore', category=UserWarning)\n",
        "\n",
        "# Parse arguments\n",
        "conf = configurations['1.4.4.3']\n",
        "\n",
        "#args = parse_arguments()\n",
        "args = argparse.Namespace(**conf)\n",
        "print(args)\n",
        "CONFIG.update(vars(args))\n",
        "\n",
        "# Setup output directory\n",
        "CONFIG.save_dir = os.path.join('record', CONFIG.experiment_name)\n",
        "os.makedirs(CONFIG.save_dir, exist_ok=True)\n",
        "\n",
        "# Setup logging\n",
        "logging.basicConfig(\n",
        "    filename=os.path.join(CONFIG.save_dir, 'log.txt'),\n",
        "    format='%(message)s',\n",
        "    level=logging.INFO,\n",
        "    filemode='a'\n",
        ")\n",
        "\n",
        "# Set experiment's device & deterministic behavior\n",
        "if CONFIG.cpu:\n",
        "    CONFIG.device = 'cpu'\n",
        "else:\n",
        "    CONFIG.device = 'cuda' if torch.cuda.is_available() else 'cpu'\n",
        "\n",
        "torch.manual_seed(CONFIG.seed)\n",
        "random.seed(CONFIG.seed)\n",
        "np.random.seed(CONFIG.seed)\n",
        "torch.backends.cudnn.benchmark = True\n",
        "torch.use_deterministic_algorithms(mode=True, warn_only=True)\n",
        "\n",
        "main()"
      ]
    },
    {
      "cell_type": "markdown",
      "metadata": {
        "id": "aI6ckeZeEfOo"
      },
      "source": [
        "#### 1.4.5 - ASH module after layer1.1.bn1, layer1.1.conv2, layer2.1.conv2, and layer3.1.conv2"
      ]
    },
    {
      "cell_type": "markdown",
      "metadata": {
        "id": "L8ni4ZkUEfOo"
      },
      "source": [
        "##### 1.4.5.1 - Cartoon"
      ]
    },
    {
      "cell_type": "code",
      "execution_count": null,
      "metadata": {
        "vscode": {
          "languageId": "python"
        },
        "id": "0Q9JVIj8EfOo"
      },
      "outputs": [],
      "source": [
        "warnings.filterwarnings('ignore', category=UserWarning)\n",
        "\n",
        "# Parse arguments\n",
        "conf = configurations['1.4.5.1']\n",
        "\n",
        "#args = parse_arguments()\n",
        "args = argparse.Namespace(**conf)\n",
        "print(args)\n",
        "CONFIG.update(vars(args))\n",
        "\n",
        "# Setup output directory\n",
        "CONFIG.save_dir = os.path.join('record', CONFIG.experiment_name)\n",
        "os.makedirs(CONFIG.save_dir, exist_ok=True)\n",
        "\n",
        "# Setup logging\n",
        "logging.basicConfig(\n",
        "    filename=os.path.join(CONFIG.save_dir, 'log.txt'),\n",
        "    format='%(message)s',\n",
        "    level=logging.INFO,\n",
        "    filemode='a'\n",
        ")\n",
        "\n",
        "# Set experiment's device & deterministic behavior\n",
        "if CONFIG.cpu:\n",
        "    CONFIG.device = 'cpu'\n",
        "else:\n",
        "    CONFIG.device = 'cuda' if torch.cuda.is_available() else 'cpu'\n",
        "\n",
        "torch.manual_seed(CONFIG.seed)\n",
        "random.seed(CONFIG.seed)\n",
        "np.random.seed(CONFIG.seed)\n",
        "torch.backends.cudnn.benchmark = True\n",
        "torch.use_deterministic_algorithms(mode=True, warn_only=True)\n",
        "\n",
        "main()"
      ]
    },
    {
      "cell_type": "markdown",
      "metadata": {
        "id": "IqkC6YV4EfOo"
      },
      "source": [
        "##### 1.4.5.2 - Sketch"
      ]
    },
    {
      "cell_type": "code",
      "execution_count": null,
      "metadata": {
        "vscode": {
          "languageId": "python"
        },
        "id": "9x0fUaB9EfOp"
      },
      "outputs": [],
      "source": [
        "warnings.filterwarnings('ignore', category=UserWarning)\n",
        "\n",
        "# Parse arguments\n",
        "conf = configurations['1.4.5.2']\n",
        "\n",
        "#args = parse_arguments()\n",
        "args = argparse.Namespace(**conf)\n",
        "print(args)\n",
        "CONFIG.update(vars(args))\n",
        "\n",
        "# Setup output directory\n",
        "CONFIG.save_dir = os.path.join('record', CONFIG.experiment_name)\n",
        "os.makedirs(CONFIG.save_dir, exist_ok=True)\n",
        "\n",
        "# Setup logging\n",
        "logging.basicConfig(\n",
        "    filename=os.path.join(CONFIG.save_dir, 'log.txt'),\n",
        "    format='%(message)s',\n",
        "    level=logging.INFO,\n",
        "    filemode='a'\n",
        ")\n",
        "\n",
        "# Set experiment's device & deterministic behavior\n",
        "if CONFIG.cpu:\n",
        "    CONFIG.device = 'cpu'\n",
        "else:\n",
        "    CONFIG.device = 'cuda' if torch.cuda.is_available() else 'cpu'\n",
        "\n",
        "torch.manual_seed(CONFIG.seed)\n",
        "random.seed(CONFIG.seed)\n",
        "np.random.seed(CONFIG.seed)\n",
        "torch.backends.cudnn.benchmark = True\n",
        "torch.use_deterministic_algorithms(mode=True, warn_only=True)\n",
        "\n",
        "main()"
      ]
    },
    {
      "cell_type": "markdown",
      "metadata": {
        "id": "bKfozDxPEfOp"
      },
      "source": [
        "##### 1.4.5.3 - Photo"
      ]
    },
    {
      "cell_type": "code",
      "execution_count": null,
      "metadata": {
        "vscode": {
          "languageId": "python"
        },
        "id": "4fGozlvIEfOp"
      },
      "outputs": [],
      "source": [
        "warnings.filterwarnings('ignore', category=UserWarning)\n",
        "\n",
        "# Parse arguments\n",
        "conf = configurations['1.4.5.3']\n",
        "\n",
        "#args = parse_arguments()\n",
        "args = argparse.Namespace(**conf)\n",
        "print(args)\n",
        "CONFIG.update(vars(args))\n",
        "\n",
        "# Setup output directory\n",
        "CONFIG.save_dir = os.path.join('record', CONFIG.experiment_name)\n",
        "os.makedirs(CONFIG.save_dir, exist_ok=True)\n",
        "\n",
        "# Setup logging\n",
        "logging.basicConfig(\n",
        "    filename=os.path.join(CONFIG.save_dir, 'log.txt'),\n",
        "    format='%(message)s',\n",
        "    level=logging.INFO,\n",
        "    filemode='a'\n",
        ")\n",
        "\n",
        "# Set experiment's device & deterministic behavior\n",
        "if CONFIG.cpu:\n",
        "    CONFIG.device = 'cpu'\n",
        "else:\n",
        "    CONFIG.device = 'cuda' if torch.cuda.is_available() else 'cpu'\n",
        "\n",
        "torch.manual_seed(CONFIG.seed)\n",
        "random.seed(CONFIG.seed)\n",
        "np.random.seed(CONFIG.seed)\n",
        "torch.backends.cudnn.benchmark = True\n",
        "torch.use_deterministic_algorithms(mode=True, warn_only=True)\n",
        "\n",
        "main()"
      ]
    },
    {
      "cell_type": "markdown",
      "metadata": {
        "id": "fpCMA-8WEfOp"
      },
      "source": [
        "#### 1.4.6 - ASH module after layer1.1.bn1, layer1.1.conv2, layer3.0.conv1, and layer3.1.conv2"
      ]
    },
    {
      "cell_type": "markdown",
      "metadata": {
        "id": "70zxrVPVEfOp"
      },
      "source": [
        "##### 1.4.6.1 - Cartoon"
      ]
    },
    {
      "cell_type": "code",
      "execution_count": null,
      "metadata": {
        "vscode": {
          "languageId": "python"
        },
        "id": "XzuNQUqgEfOp"
      },
      "outputs": [],
      "source": [
        "warnings.filterwarnings('ignore', category=UserWarning)\n",
        "\n",
        "# Parse arguments\n",
        "conf = configurations['1.4.6.1']\n",
        "\n",
        "#args = parse_arguments()\n",
        "args = argparse.Namespace(**conf)\n",
        "print(args)\n",
        "CONFIG.update(vars(args))\n",
        "\n",
        "# Setup output directory\n",
        "CONFIG.save_dir = os.path.join('record', CONFIG.experiment_name)\n",
        "os.makedirs(CONFIG.save_dir, exist_ok=True)\n",
        "\n",
        "# Setup logging\n",
        "logging.basicConfig(\n",
        "    filename=os.path.join(CONFIG.save_dir, 'log.txt'),\n",
        "    format='%(message)s',\n",
        "    level=logging.INFO,\n",
        "    filemode='a'\n",
        ")\n",
        "\n",
        "# Set experiment's device & deterministic behavior\n",
        "if CONFIG.cpu:\n",
        "    CONFIG.device = 'cpu'\n",
        "else:\n",
        "    CONFIG.device = 'cuda' if torch.cuda.is_available() else 'cpu'\n",
        "\n",
        "torch.manual_seed(CONFIG.seed)\n",
        "random.seed(CONFIG.seed)\n",
        "np.random.seed(CONFIG.seed)\n",
        "torch.backends.cudnn.benchmark = True\n",
        "torch.use_deterministic_algorithms(mode=True, warn_only=True)\n",
        "\n",
        "main()"
      ]
    },
    {
      "cell_type": "markdown",
      "metadata": {
        "id": "S3oM1bG9EfOp"
      },
      "source": [
        "##### 1.4.6.2 - Sketch"
      ]
    },
    {
      "cell_type": "code",
      "execution_count": null,
      "metadata": {
        "vscode": {
          "languageId": "python"
        },
        "id": "uQJ5kp8nEfOq"
      },
      "outputs": [],
      "source": [
        "warnings.filterwarnings('ignore', category=UserWarning)\n",
        "\n",
        "# Parse arguments\n",
        "conf = configurations['1.4.6.2']\n",
        "\n",
        "#args = parse_arguments()\n",
        "args = argparse.Namespace(**conf)\n",
        "print(args)\n",
        "CONFIG.update(vars(args))\n",
        "\n",
        "# Setup output directory\n",
        "CONFIG.save_dir = os.path.join('record', CONFIG.experiment_name)\n",
        "os.makedirs(CONFIG.save_dir, exist_ok=True)\n",
        "\n",
        "# Setup logging\n",
        "logging.basicConfig(\n",
        "    filename=os.path.join(CONFIG.save_dir, 'log.txt'),\n",
        "    format='%(message)s',\n",
        "    level=logging.INFO,\n",
        "    filemode='a'\n",
        ")\n",
        "\n",
        "# Set experiment's device & deterministic behavior\n",
        "if CONFIG.cpu:\n",
        "    CONFIG.device = 'cpu'\n",
        "else:\n",
        "    CONFIG.device = 'cuda' if torch.cuda.is_available() else 'cpu'\n",
        "\n",
        "torch.manual_seed(CONFIG.seed)\n",
        "random.seed(CONFIG.seed)\n",
        "np.random.seed(CONFIG.seed)\n",
        "torch.backends.cudnn.benchmark = True\n",
        "torch.use_deterministic_algorithms(mode=True, warn_only=True)\n",
        "\n",
        "main()"
      ]
    },
    {
      "cell_type": "markdown",
      "metadata": {
        "id": "HT8V_QoqEfOq"
      },
      "source": [
        "##### 1.4.6.3 - Photo"
      ]
    },
    {
      "cell_type": "code",
      "execution_count": null,
      "metadata": {
        "vscode": {
          "languageId": "python"
        },
        "id": "BDWGTmn4EfOq"
      },
      "outputs": [],
      "source": [
        "warnings.filterwarnings('ignore', category=UserWarning)\n",
        "\n",
        "# Parse arguments\n",
        "conf = configurations['1.4.6.3']\n",
        "\n",
        "#args = parse_arguments()\n",
        "args = argparse.Namespace(**conf)\n",
        "print(args)\n",
        "CONFIG.update(vars(args))\n",
        "\n",
        "# Setup output directory\n",
        "CONFIG.save_dir = os.path.join('record', CONFIG.experiment_name)\n",
        "os.makedirs(CONFIG.save_dir, exist_ok=True)\n",
        "\n",
        "# Setup logging\n",
        "logging.basicConfig(\n",
        "    filename=os.path.join(CONFIG.save_dir, 'log.txt'),\n",
        "    format='%(message)s',\n",
        "    level=logging.INFO,\n",
        "    filemode='a'\n",
        ")\n",
        "\n",
        "# Set experiment's device & deterministic behavior\n",
        "if CONFIG.cpu:\n",
        "    CONFIG.device = 'cpu'\n",
        "else:\n",
        "    CONFIG.device = 'cuda' if torch.cuda.is_available() else 'cpu'\n",
        "\n",
        "torch.manual_seed(CONFIG.seed)\n",
        "random.seed(CONFIG.seed)\n",
        "np.random.seed(CONFIG.seed)\n",
        "torch.backends.cudnn.benchmark = True\n",
        "torch.use_deterministic_algorithms(mode=True, warn_only=True)\n",
        "\n",
        "main()"
      ]
    },
    {
      "cell_type": "markdown",
      "metadata": {
        "id": "kZehhIQhEfOq"
      },
      "source": [
        "#### 1.4.7 - ASH module after layer1.1.bn1, layer1.1.bn2, layer2.1.conv2, and layer3.0.conv1"
      ]
    },
    {
      "cell_type": "markdown",
      "metadata": {
        "id": "1B3LbhP1EfOq"
      },
      "source": [
        "##### 1.4.7.1 - Cartoon"
      ]
    },
    {
      "cell_type": "code",
      "execution_count": null,
      "metadata": {
        "vscode": {
          "languageId": "python"
        },
        "id": "O4Ylc2qkEfOq"
      },
      "outputs": [],
      "source": [
        "warnings.filterwarnings('ignore', category=UserWarning)\n",
        "\n",
        "# Parse arguments\n",
        "conf = configurations['1.4.7.1']\n",
        "\n",
        "#args = parse_arguments()\n",
        "args = argparse.Namespace(**conf)\n",
        "print(args)\n",
        "CONFIG.update(vars(args))\n",
        "\n",
        "# Setup output directory\n",
        "CONFIG.save_dir = os.path.join('record', CONFIG.experiment_name)\n",
        "os.makedirs(CONFIG.save_dir, exist_ok=True)\n",
        "\n",
        "# Setup logging\n",
        "logging.basicConfig(\n",
        "    filename=os.path.join(CONFIG.save_dir, 'log.txt'),\n",
        "    format='%(message)s',\n",
        "    level=logging.INFO,\n",
        "    filemode='a'\n",
        ")\n",
        "\n",
        "# Set experiment's device & deterministic behavior\n",
        "if CONFIG.cpu:\n",
        "    CONFIG.device = 'cpu'\n",
        "else:\n",
        "    CONFIG.device = 'cuda' if torch.cuda.is_available() else 'cpu'\n",
        "\n",
        "torch.manual_seed(CONFIG.seed)\n",
        "random.seed(CONFIG.seed)\n",
        "np.random.seed(CONFIG.seed)\n",
        "torch.backends.cudnn.benchmark = True\n",
        "torch.use_deterministic_algorithms(mode=True, warn_only=True)\n",
        "\n",
        "main()"
      ]
    },
    {
      "cell_type": "markdown",
      "metadata": {
        "id": "QWHxNrETEfOq"
      },
      "source": [
        "##### 1.4.7.2 - Sketch"
      ]
    },
    {
      "cell_type": "code",
      "execution_count": null,
      "metadata": {
        "vscode": {
          "languageId": "python"
        },
        "id": "TUlW3f_QEfOr"
      },
      "outputs": [],
      "source": [
        "warnings.filterwarnings('ignore', category=UserWarning)\n",
        "\n",
        "# Parse arguments\n",
        "conf = configurations['1.4.7.2']\n",
        "\n",
        "#args = parse_arguments()\n",
        "args = argparse.Namespace(**conf)\n",
        "print(args)\n",
        "CONFIG.update(vars(args))\n",
        "\n",
        "# Setup output directory\n",
        "CONFIG.save_dir = os.path.join('record', CONFIG.experiment_name)\n",
        "os.makedirs(CONFIG.save_dir, exist_ok=True)\n",
        "\n",
        "# Setup logging\n",
        "logging.basicConfig(\n",
        "    filename=os.path.join(CONFIG.save_dir, 'log.txt'),\n",
        "    format='%(message)s',\n",
        "    level=logging.INFO,\n",
        "    filemode='a'\n",
        ")\n",
        "\n",
        "# Set experiment's device & deterministic behavior\n",
        "if CONFIG.cpu:\n",
        "    CONFIG.device = 'cpu'\n",
        "else:\n",
        "    CONFIG.device = 'cuda' if torch.cuda.is_available() else 'cpu'\n",
        "\n",
        "torch.manual_seed(CONFIG.seed)\n",
        "random.seed(CONFIG.seed)\n",
        "np.random.seed(CONFIG.seed)\n",
        "torch.backends.cudnn.benchmark = True\n",
        "torch.use_deterministic_algorithms(mode=True, warn_only=True)\n",
        "\n",
        "main()"
      ]
    },
    {
      "cell_type": "markdown",
      "metadata": {
        "id": "-5mqjCyVEfOr"
      },
      "source": [
        "##### 1.4.7.3 - Photo"
      ]
    },
    {
      "cell_type": "code",
      "execution_count": null,
      "metadata": {
        "vscode": {
          "languageId": "python"
        },
        "id": "s94msdK6EfOr"
      },
      "outputs": [],
      "source": [
        "warnings.filterwarnings('ignore', category=UserWarning)\n",
        "\n",
        "# Parse arguments\n",
        "conf = configurations['1.4.7.3']\n",
        "\n",
        "#args = parse_arguments()\n",
        "args = argparse.Namespace(**conf)\n",
        "print(args)\n",
        "CONFIG.update(vars(args))\n",
        "\n",
        "# Setup output directory\n",
        "CONFIG.save_dir = os.path.join('record', CONFIG.experiment_name)\n",
        "os.makedirs(CONFIG.save_dir, exist_ok=True)\n",
        "\n",
        "# Setup logging\n",
        "logging.basicConfig(\n",
        "    filename=os.path.join(CONFIG.save_dir, 'log.txt'),\n",
        "    format='%(message)s',\n",
        "    level=logging.INFO,\n",
        "    filemode='a'\n",
        ")\n",
        "\n",
        "# Set experiment's device & deterministic behavior\n",
        "if CONFIG.cpu:\n",
        "    CONFIG.device = 'cpu'\n",
        "else:\n",
        "    CONFIG.device = 'cuda' if torch.cuda.is_available() else 'cpu'\n",
        "\n",
        "torch.manual_seed(CONFIG.seed)\n",
        "random.seed(CONFIG.seed)\n",
        "np.random.seed(CONFIG.seed)\n",
        "torch.backends.cudnn.benchmark = True\n",
        "torch.use_deterministic_algorithms(mode=True, warn_only=True)\n",
        "\n",
        "main()"
      ]
    },
    {
      "cell_type": "markdown",
      "metadata": {
        "id": "IJ5xY3LZEfOr"
      },
      "source": [
        "#### 1.4.8 - ASH module after layer1.1.bn1, layer1.1.bn2, layer2.1.conv2, and layer3.1.conv2"
      ]
    },
    {
      "cell_type": "markdown",
      "metadata": {
        "id": "hQA4ee8zEfOr"
      },
      "source": [
        "##### 1.4.8.1 - Cartoon"
      ]
    },
    {
      "cell_type": "code",
      "execution_count": null,
      "metadata": {
        "vscode": {
          "languageId": "python"
        },
        "id": "gBSt2Px3EfOr"
      },
      "outputs": [],
      "source": [
        "warnings.filterwarnings('ignore', category=UserWarning)\n",
        "\n",
        "# Parse arguments\n",
        "conf = configurations['1.4.8.1']\n",
        "\n",
        "#args = parse_arguments()\n",
        "args = argparse.Namespace(**conf)\n",
        "print(args)\n",
        "CONFIG.update(vars(args))\n",
        "\n",
        "# Setup output directory\n",
        "CONFIG.save_dir = os.path.join('record', CONFIG.experiment_name)\n",
        "os.makedirs(CONFIG.save_dir, exist_ok=True)\n",
        "\n",
        "# Setup logging\n",
        "logging.basicConfig(\n",
        "    filename=os.path.join(CONFIG.save_dir, 'log.txt'),\n",
        "    format='%(message)s',\n",
        "    level=logging.INFO,\n",
        "    filemode='a'\n",
        ")\n",
        "\n",
        "# Set experiment's device & deterministic behavior\n",
        "if CONFIG.cpu:\n",
        "    CONFIG.device = 'cpu'\n",
        "else:\n",
        "    CONFIG.device = 'cuda' if torch.cuda.is_available() else 'cpu'\n",
        "\n",
        "torch.manual_seed(CONFIG.seed)\n",
        "random.seed(CONFIG.seed)\n",
        "np.random.seed(CONFIG.seed)\n",
        "torch.backends.cudnn.benchmark = True\n",
        "torch.use_deterministic_algorithms(mode=True, warn_only=True)\n",
        "\n",
        "main()"
      ]
    },
    {
      "cell_type": "markdown",
      "metadata": {
        "id": "mplF3_dGEfOr"
      },
      "source": [
        "##### 1.4.8.2 - Sketch"
      ]
    },
    {
      "cell_type": "code",
      "execution_count": null,
      "metadata": {
        "vscode": {
          "languageId": "python"
        },
        "id": "opamh8EAEfOr"
      },
      "outputs": [],
      "source": [
        "warnings.filterwarnings('ignore', category=UserWarning)\n",
        "\n",
        "# Parse arguments\n",
        "conf = configurations['1.4.8.2']\n",
        "\n",
        "#args = parse_arguments()\n",
        "args = argparse.Namespace(**conf)\n",
        "print(args)\n",
        "CONFIG.update(vars(args))\n",
        "\n",
        "# Setup output directory\n",
        "CONFIG.save_dir = os.path.join('record', CONFIG.experiment_name)\n",
        "os.makedirs(CONFIG.save_dir, exist_ok=True)\n",
        "\n",
        "# Setup logging\n",
        "logging.basicConfig(\n",
        "    filename=os.path.join(CONFIG.save_dir, 'log.txt'),\n",
        "    format='%(message)s',\n",
        "    level=logging.INFO,\n",
        "    filemode='a'\n",
        ")\n",
        "\n",
        "# Set experiment's device & deterministic behavior\n",
        "if CONFIG.cpu:\n",
        "    CONFIG.device = 'cpu'\n",
        "else:\n",
        "    CONFIG.device = 'cuda' if torch.cuda.is_available() else 'cpu'\n",
        "\n",
        "torch.manual_seed(CONFIG.seed)\n",
        "random.seed(CONFIG.seed)\n",
        "np.random.seed(CONFIG.seed)\n",
        "torch.backends.cudnn.benchmark = True\n",
        "torch.use_deterministic_algorithms(mode=True, warn_only=True)\n",
        "\n",
        "main()"
      ]
    },
    {
      "cell_type": "markdown",
      "metadata": {
        "id": "4UsH0W4vEfOr"
      },
      "source": [
        "##### 1.4.8.3 - Photo"
      ]
    },
    {
      "cell_type": "code",
      "execution_count": null,
      "metadata": {
        "vscode": {
          "languageId": "python"
        },
        "id": "rX5_t049EfOr"
      },
      "outputs": [],
      "source": [
        "warnings.filterwarnings('ignore', category=UserWarning)\n",
        "\n",
        "# Parse arguments\n",
        "conf = configurations['1.4.8.3']\n",
        "\n",
        "#args = parse_arguments()\n",
        "args = argparse.Namespace(**conf)\n",
        "print(args)\n",
        "CONFIG.update(vars(args))\n",
        "\n",
        "# Setup output directory\n",
        "CONFIG.save_dir = os.path.join('record', CONFIG.experiment_name)\n",
        "os.makedirs(CONFIG.save_dir, exist_ok=True)\n",
        "\n",
        "# Setup logging\n",
        "logging.basicConfig(\n",
        "    filename=os.path.join(CONFIG.save_dir, 'log.txt'),\n",
        "    format='%(message)s',\n",
        "    level=logging.INFO,\n",
        "    filemode='a'\n",
        ")\n",
        "\n",
        "# Set experiment's device & deterministic behavior\n",
        "if CONFIG.cpu:\n",
        "    CONFIG.device = 'cpu'\n",
        "else:\n",
        "    CONFIG.device = 'cuda' if torch.cuda.is_available() else 'cpu'\n",
        "\n",
        "torch.manual_seed(CONFIG.seed)\n",
        "random.seed(CONFIG.seed)\n",
        "np.random.seed(CONFIG.seed)\n",
        "torch.backends.cudnn.benchmark = True\n",
        "torch.use_deterministic_algorithms(mode=True, warn_only=True)\n",
        "\n",
        "main()"
      ]
    },
    {
      "cell_type": "markdown",
      "metadata": {
        "id": "cELJ8s7FEfOr"
      },
      "source": [
        "### 1.5 - Five ASH modules"
      ]
    },
    {
      "cell_type": "markdown",
      "metadata": {
        "id": "UWNtq1EMEfOr"
      },
      "source": [
        "#### 1.5.1 - ASH module after layer1.1.bn1, layer1.1.conv2, layer1.1.bn2, layer2.1.conv2, and layer3.0.conv1"
      ]
    },
    {
      "cell_type": "markdown",
      "metadata": {
        "id": "EeUvKJ9IEfOr"
      },
      "source": [
        "##### 1.5.1.1 - Cartoon"
      ]
    },
    {
      "cell_type": "code",
      "execution_count": null,
      "metadata": {
        "vscode": {
          "languageId": "python"
        },
        "id": "w_jBhxxjEfOs"
      },
      "outputs": [],
      "source": [
        "warnings.filterwarnings('ignore', category=UserWarning)\n",
        "\n",
        "# Parse arguments\n",
        "conf = configurations['1.5.1.1']\n",
        "\n",
        "#args = parse_arguments()\n",
        "args = argparse.Namespace(**conf)\n",
        "print(args)\n",
        "CONFIG.update(vars(args))\n",
        "\n",
        "# Setup output directory\n",
        "CONFIG.save_dir = os.path.join('record', CONFIG.experiment_name)\n",
        "os.makedirs(CONFIG.save_dir, exist_ok=True)\n",
        "\n",
        "# Setup logging\n",
        "logging.basicConfig(\n",
        "    filename=os.path.join(CONFIG.save_dir, 'log.txt'),\n",
        "    format='%(message)s',\n",
        "    level=logging.INFO,\n",
        "    filemode='a'\n",
        ")\n",
        "\n",
        "# Set experiment's device & deterministic behavior\n",
        "if CONFIG.cpu:\n",
        "    CONFIG.device = 'cpu'\n",
        "else:\n",
        "    CONFIG.device = 'cuda' if torch.cuda.is_available() else 'cpu'\n",
        "\n",
        "torch.manual_seed(CONFIG.seed)\n",
        "random.seed(CONFIG.seed)\n",
        "np.random.seed(CONFIG.seed)\n",
        "torch.backends.cudnn.benchmark = True\n",
        "torch.use_deterministic_algorithms(mode=True, warn_only=True)\n",
        "\n",
        "main()"
      ]
    },
    {
      "cell_type": "markdown",
      "metadata": {
        "id": "hu9i_EtcEfOs"
      },
      "source": [
        "##### 1.5.1.2 - Sketch"
      ]
    },
    {
      "cell_type": "code",
      "execution_count": null,
      "metadata": {
        "vscode": {
          "languageId": "python"
        },
        "id": "F7j7eTaZEfOs"
      },
      "outputs": [],
      "source": [
        "warnings.filterwarnings('ignore', category=UserWarning)\n",
        "\n",
        "# Parse arguments\n",
        "conf = configurations['1.5.1.2']\n",
        "\n",
        "#args = parse_arguments()\n",
        "args = argparse.Namespace(**conf)\n",
        "print(args)\n",
        "CONFIG.update(vars(args))\n",
        "\n",
        "# Setup output directory\n",
        "CONFIG.save_dir = os.path.join('record', CONFIG.experiment_name)\n",
        "os.makedirs(CONFIG.save_dir, exist_ok=True)\n",
        "\n",
        "# Setup logging\n",
        "logging.basicConfig(\n",
        "    filename=os.path.join(CONFIG.save_dir, 'log.txt'),\n",
        "    format='%(message)s',\n",
        "    level=logging.INFO,\n",
        "    filemode='a'\n",
        ")\n",
        "\n",
        "# Set experiment's device & deterministic behavior\n",
        "if CONFIG.cpu:\n",
        "    CONFIG.device = 'cpu'\n",
        "else:\n",
        "    CONFIG.device = 'cuda' if torch.cuda.is_available() else 'cpu'\n",
        "\n",
        "torch.manual_seed(CONFIG.seed)\n",
        "random.seed(CONFIG.seed)\n",
        "np.random.seed(CONFIG.seed)\n",
        "torch.backends.cudnn.benchmark = True\n",
        "torch.use_deterministic_algorithms(mode=True, warn_only=True)\n",
        "\n",
        "main()"
      ]
    },
    {
      "cell_type": "markdown",
      "metadata": {
        "id": "w6dclBzBEfOs"
      },
      "source": [
        "##### 1.5.1.3 - Photo"
      ]
    },
    {
      "cell_type": "code",
      "execution_count": null,
      "metadata": {
        "vscode": {
          "languageId": "python"
        },
        "id": "-Ia9TH1XEfOs"
      },
      "outputs": [],
      "source": [
        "warnings.filterwarnings('ignore', category=UserWarning)\n",
        "\n",
        "# Parse arguments\n",
        "conf = configurations['1.5.1.3']\n",
        "\n",
        "#args = parse_arguments()\n",
        "args = argparse.Namespace(**conf)\n",
        "print(args)\n",
        "CONFIG.update(vars(args))\n",
        "\n",
        "# Setup output directory\n",
        "CONFIG.save_dir = os.path.join('record', CONFIG.experiment_name)\n",
        "os.makedirs(CONFIG.save_dir, exist_ok=True)\n",
        "\n",
        "# Setup logging\n",
        "logging.basicConfig(\n",
        "    filename=os.path.join(CONFIG.save_dir, 'log.txt'),\n",
        "    format='%(message)s',\n",
        "    level=logging.INFO,\n",
        "    filemode='a'\n",
        ")\n",
        "\n",
        "# Set experiment's device & deterministic behavior\n",
        "if CONFIG.cpu:\n",
        "    CONFIG.device = 'cpu'\n",
        "else:\n",
        "    CONFIG.device = 'cuda' if torch.cuda.is_available() else 'cpu'\n",
        "\n",
        "torch.manual_seed(CONFIG.seed)\n",
        "random.seed(CONFIG.seed)\n",
        "np.random.seed(CONFIG.seed)\n",
        "torch.backends.cudnn.benchmark = True\n",
        "torch.use_deterministic_algorithms(mode=True, warn_only=True)\n",
        "\n",
        "main()"
      ]
    },
    {
      "cell_type": "markdown",
      "metadata": {
        "id": "TZTBSLWdEfOs"
      },
      "source": [
        "#### 1.5.2 - ASH module after layer1.1.bn1, layer1.1.conv2, layer1.1.bn2, layer2.1.conv2, and layer3.1.conv2"
      ]
    },
    {
      "cell_type": "markdown",
      "metadata": {
        "id": "EkzadsRFEfOs"
      },
      "source": [
        "##### 1.5.2.1 - Cartoon"
      ]
    },
    {
      "cell_type": "code",
      "execution_count": null,
      "metadata": {
        "vscode": {
          "languageId": "python"
        },
        "id": "gd-2TVCVEfOt"
      },
      "outputs": [],
      "source": [
        "warnings.filterwarnings('ignore', category=UserWarning)\n",
        "\n",
        "# Parse arguments\n",
        "conf = configurations['1.5.2.1']\n",
        "\n",
        "#args = parse_arguments()\n",
        "args = argparse.Namespace(**conf)\n",
        "print(args)\n",
        "CONFIG.update(vars(args))\n",
        "\n",
        "# Setup output directory\n",
        "CONFIG.save_dir = os.path.join('record', CONFIG.experiment_name)\n",
        "os.makedirs(CONFIG.save_dir, exist_ok=True)\n",
        "\n",
        "# Setup logging\n",
        "logging.basicConfig(\n",
        "    filename=os.path.join(CONFIG.save_dir, 'log.txt'),\n",
        "    format='%(message)s',\n",
        "    level=logging.INFO,\n",
        "    filemode='a'\n",
        ")\n",
        "\n",
        "# Set experiment's device & deterministic behavior\n",
        "if CONFIG.cpu:\n",
        "    CONFIG.device = 'cpu'\n",
        "else:\n",
        "    CONFIG.device = 'cuda' if torch.cuda.is_available() else 'cpu'\n",
        "\n",
        "torch.manual_seed(CONFIG.seed)\n",
        "random.seed(CONFIG.seed)\n",
        "np.random.seed(CONFIG.seed)\n",
        "torch.backends.cudnn.benchmark = True\n",
        "torch.use_deterministic_algorithms(mode=True, warn_only=True)\n",
        "\n",
        "main()"
      ]
    },
    {
      "cell_type": "markdown",
      "metadata": {
        "id": "xl3ykW2ZEfOt"
      },
      "source": [
        "##### 1.5.2.2 - Sketch"
      ]
    },
    {
      "cell_type": "code",
      "execution_count": null,
      "metadata": {
        "vscode": {
          "languageId": "python"
        },
        "id": "cvCxkMjdEfOt"
      },
      "outputs": [],
      "source": [
        "warnings.filterwarnings('ignore', category=UserWarning)\n",
        "\n",
        "# Parse arguments\n",
        "conf = configurations['1.5.2.2']\n",
        "\n",
        "#args = parse_arguments()\n",
        "args = argparse.Namespace(**conf)\n",
        "print(args)\n",
        "CONFIG.update(vars(args))\n",
        "\n",
        "# Setup output directory\n",
        "CONFIG.save_dir = os.path.join('record', CONFIG.experiment_name)\n",
        "os.makedirs(CONFIG.save_dir, exist_ok=True)\n",
        "\n",
        "# Setup logging\n",
        "logging.basicConfig(\n",
        "    filename=os.path.join(CONFIG.save_dir, 'log.txt'),\n",
        "    format='%(message)s',\n",
        "    level=logging.INFO,\n",
        "    filemode='a'\n",
        ")\n",
        "\n",
        "# Set experiment's device & deterministic behavior\n",
        "if CONFIG.cpu:\n",
        "    CONFIG.device = 'cpu'\n",
        "else:\n",
        "    CONFIG.device = 'cuda' if torch.cuda.is_available() else 'cpu'\n",
        "\n",
        "torch.manual_seed(CONFIG.seed)\n",
        "random.seed(CONFIG.seed)\n",
        "np.random.seed(CONFIG.seed)\n",
        "torch.backends.cudnn.benchmark = True\n",
        "torch.use_deterministic_algorithms(mode=True, warn_only=True)\n",
        "\n",
        "main()"
      ]
    },
    {
      "cell_type": "markdown",
      "metadata": {
        "id": "dPWcQuoGEfOt"
      },
      "source": [
        "##### 1.5.2.3 - Photo"
      ]
    },
    {
      "cell_type": "code",
      "execution_count": null,
      "metadata": {
        "vscode": {
          "languageId": "python"
        },
        "id": "B2-V_JpiEfOt"
      },
      "outputs": [],
      "source": [
        "warnings.filterwarnings('ignore', category=UserWarning)\n",
        "\n",
        "# Parse arguments\n",
        "conf = configurations['1.5.2.3']\n",
        "\n",
        "#args = parse_arguments()\n",
        "args = argparse.Namespace(**conf)\n",
        "print(args)\n",
        "CONFIG.update(vars(args))\n",
        "\n",
        "# Setup output directory\n",
        "CONFIG.save_dir = os.path.join('record', CONFIG.experiment_name)\n",
        "os.makedirs(CONFIG.save_dir, exist_ok=True)\n",
        "\n",
        "# Setup logging\n",
        "logging.basicConfig(\n",
        "    filename=os.path.join(CONFIG.save_dir, 'log.txt'),\n",
        "    format='%(message)s',\n",
        "    level=logging.INFO,\n",
        "    filemode='a'\n",
        ")\n",
        "\n",
        "# Set experiment's device & deterministic behavior\n",
        "if CONFIG.cpu:\n",
        "    CONFIG.device = 'cpu'\n",
        "else:\n",
        "    CONFIG.device = 'cuda' if torch.cuda.is_available() else 'cpu'\n",
        "\n",
        "torch.manual_seed(CONFIG.seed)\n",
        "random.seed(CONFIG.seed)\n",
        "np.random.seed(CONFIG.seed)\n",
        "torch.backends.cudnn.benchmark = True\n",
        "torch.use_deterministic_algorithms(mode=True, warn_only=True)\n",
        "\n",
        "main()"
      ]
    },
    {
      "cell_type": "markdown",
      "metadata": {
        "id": "ISaneiXiEfOt"
      },
      "source": [
        "#### 1.5.3 - ASH module after layer1.1.bn1, layer1.1.conv2, layer1.1.bn2, layer3.0.conv1, and layer3.1.conv2"
      ]
    },
    {
      "cell_type": "markdown",
      "metadata": {
        "id": "PII35IocEfOu"
      },
      "source": [
        "##### 1.5.3.1 - Cartoon"
      ]
    },
    {
      "cell_type": "code",
      "execution_count": null,
      "metadata": {
        "vscode": {
          "languageId": "python"
        },
        "id": "7sQCK5J3EfOu"
      },
      "outputs": [],
      "source": [
        "warnings.filterwarnings('ignore', category=UserWarning)\n",
        "\n",
        "# Parse arguments\n",
        "conf = configurations['1.5.3.1']\n",
        "\n",
        "#args = parse_arguments()\n",
        "args = argparse.Namespace(**conf)\n",
        "print(args)\n",
        "CONFIG.update(vars(args))\n",
        "\n",
        "# Setup output directory\n",
        "CONFIG.save_dir = os.path.join('record', CONFIG.experiment_name)\n",
        "os.makedirs(CONFIG.save_dir, exist_ok=True)\n",
        "\n",
        "# Setup logging\n",
        "logging.basicConfig(\n",
        "    filename=os.path.join(CONFIG.save_dir, 'log.txt'),\n",
        "    format='%(message)s',\n",
        "    level=logging.INFO,\n",
        "    filemode='a'\n",
        ")\n",
        "\n",
        "# Set experiment's device & deterministic behavior\n",
        "if CONFIG.cpu:\n",
        "    CONFIG.device = 'cpu'\n",
        "else:\n",
        "    CONFIG.device = 'cuda' if torch.cuda.is_available() else 'cpu'\n",
        "\n",
        "torch.manual_seed(CONFIG.seed)\n",
        "random.seed(CONFIG.seed)\n",
        "np.random.seed(CONFIG.seed)\n",
        "torch.backends.cudnn.benchmark = True\n",
        "torch.use_deterministic_algorithms(mode=True, warn_only=True)\n",
        "\n",
        "main()"
      ]
    },
    {
      "cell_type": "markdown",
      "metadata": {
        "id": "nCH_aYwWEfOu"
      },
      "source": [
        "##### 1.5.3.2 - Sketch"
      ]
    },
    {
      "cell_type": "code",
      "execution_count": null,
      "metadata": {
        "vscode": {
          "languageId": "python"
        },
        "id": "MnU6HWU1EfOu"
      },
      "outputs": [],
      "source": [
        "warnings.filterwarnings('ignore', category=UserWarning)\n",
        "\n",
        "# Parse arguments\n",
        "conf = configurations['1.5.3.2']\n",
        "\n",
        "#args = parse_arguments()\n",
        "args = argparse.Namespace(**conf)\n",
        "print(args)\n",
        "CONFIG.update(vars(args))\n",
        "\n",
        "# Setup output directory\n",
        "CONFIG.save_dir = os.path.join('record', CONFIG.experiment_name)\n",
        "os.makedirs(CONFIG.save_dir, exist_ok=True)\n",
        "\n",
        "# Setup logging\n",
        "logging.basicConfig(\n",
        "    filename=os.path.join(CONFIG.save_dir, 'log.txt'),\n",
        "    format='%(message)s',\n",
        "    level=logging.INFO,\n",
        "    filemode='a'\n",
        ")\n",
        "\n",
        "# Set experiment's device & deterministic behavior\n",
        "if CONFIG.cpu:\n",
        "    CONFIG.device = 'cpu'\n",
        "else:\n",
        "    CONFIG.device = 'cuda' if torch.cuda.is_available() else 'cpu'\n",
        "\n",
        "torch.manual_seed(CONFIG.seed)\n",
        "random.seed(CONFIG.seed)\n",
        "np.random.seed(CONFIG.seed)\n",
        "torch.backends.cudnn.benchmark = True\n",
        "torch.use_deterministic_algorithms(mode=True, warn_only=True)\n",
        "\n",
        "main()"
      ]
    },
    {
      "cell_type": "markdown",
      "metadata": {
        "id": "rRtLGipqEfOu"
      },
      "source": [
        "##### 1.5.3.3 - Photo"
      ]
    },
    {
      "cell_type": "code",
      "execution_count": null,
      "metadata": {
        "vscode": {
          "languageId": "python"
        },
        "id": "iz55DT-ZEfOv"
      },
      "outputs": [],
      "source": [
        "warnings.filterwarnings('ignore', category=UserWarning)\n",
        "\n",
        "# Parse arguments\n",
        "conf = configurations['1.5.3.3']\n",
        "\n",
        "#args = parse_arguments()\n",
        "args = argparse.Namespace(**conf)\n",
        "print(args)\n",
        "CONFIG.update(vars(args))\n",
        "\n",
        "# Setup output directory\n",
        "CONFIG.save_dir = os.path.join('record', CONFIG.experiment_name)\n",
        "os.makedirs(CONFIG.save_dir, exist_ok=True)\n",
        "\n",
        "# Setup logging\n",
        "logging.basicConfig(\n",
        "    filename=os.path.join(CONFIG.save_dir, 'log.txt'),\n",
        "    format='%(message)s',\n",
        "    level=logging.INFO,\n",
        "    filemode='a'\n",
        ")\n",
        "\n",
        "# Set experiment's device & deterministic behavior\n",
        "if CONFIG.cpu:\n",
        "    CONFIG.device = 'cpu'\n",
        "else:\n",
        "    CONFIG.device = 'cuda' if torch.cuda.is_available() else 'cpu'\n",
        "\n",
        "torch.manual_seed(CONFIG.seed)\n",
        "random.seed(CONFIG.seed)\n",
        "np.random.seed(CONFIG.seed)\n",
        "torch.backends.cudnn.benchmark = True\n",
        "torch.use_deterministic_algorithms(mode=True, warn_only=True)\n",
        "\n",
        "main()"
      ]
    },
    {
      "cell_type": "markdown",
      "metadata": {
        "id": "pW1PVQ6WEfOv"
      },
      "source": [
        "#### 1.5.4 - ASH module after layer1.1.bn1, layer1.1.bn2, layer2.1.conv2, layer3.0.conv1, and layer3.1.conv2"
      ]
    },
    {
      "cell_type": "markdown",
      "metadata": {
        "id": "8JjhRHVpEfOv"
      },
      "source": [
        "##### 1.5.4.1 - Cartoon"
      ]
    },
    {
      "cell_type": "code",
      "execution_count": null,
      "metadata": {
        "vscode": {
          "languageId": "python"
        },
        "id": "La9qCg3eEfOv"
      },
      "outputs": [],
      "source": [
        "warnings.filterwarnings('ignore', category=UserWarning)\n",
        "\n",
        "# Parse arguments\n",
        "conf = configurations['1.5.4.1']\n",
        "\n",
        "#args = parse_arguments()\n",
        "args = argparse.Namespace(**conf)\n",
        "print(args)\n",
        "CONFIG.update(vars(args))\n",
        "\n",
        "# Setup output directory\n",
        "CONFIG.save_dir = os.path.join('record', CONFIG.experiment_name)\n",
        "os.makedirs(CONFIG.save_dir, exist_ok=True)\n",
        "\n",
        "# Setup logging\n",
        "logging.basicConfig(\n",
        "    filename=os.path.join(CONFIG.save_dir, 'log.txt'),\n",
        "    format='%(message)s',\n",
        "    level=logging.INFO,\n",
        "    filemode='a'\n",
        ")\n",
        "\n",
        "# Set experiment's device & deterministic behavior\n",
        "if CONFIG.cpu:\n",
        "    CONFIG.device = 'cpu'\n",
        "else:\n",
        "    CONFIG.device = 'cuda' if torch.cuda.is_available() else 'cpu'\n",
        "\n",
        "torch.manual_seed(CONFIG.seed)\n",
        "random.seed(CONFIG.seed)\n",
        "np.random.seed(CONFIG.seed)\n",
        "torch.backends.cudnn.benchmark = True\n",
        "torch.use_deterministic_algorithms(mode=True, warn_only=True)\n",
        "\n",
        "main()"
      ]
    },
    {
      "cell_type": "markdown",
      "metadata": {
        "id": "BpjdflQ8EfOw"
      },
      "source": [
        "##### 1.5.4.2 - Sketch"
      ]
    },
    {
      "cell_type": "code",
      "execution_count": null,
      "metadata": {
        "vscode": {
          "languageId": "python"
        },
        "id": "lIohUeTVEfOw"
      },
      "outputs": [],
      "source": [
        "warnings.filterwarnings('ignore', category=UserWarning)\n",
        "\n",
        "# Parse arguments\n",
        "conf = configurations['1.5.4.2']\n",
        "\n",
        "#args = parse_arguments()\n",
        "args = argparse.Namespace(**conf)\n",
        "print(args)\n",
        "CONFIG.update(vars(args))\n",
        "\n",
        "# Setup output directory\n",
        "CONFIG.save_dir = os.path.join('record', CONFIG.experiment_name)\n",
        "os.makedirs(CONFIG.save_dir, exist_ok=True)\n",
        "\n",
        "# Setup logging\n",
        "logging.basicConfig(\n",
        "    filename=os.path.join(CONFIG.save_dir, 'log.txt'),\n",
        "    format='%(message)s',\n",
        "    level=logging.INFO,\n",
        "    filemode='a'\n",
        ")\n",
        "\n",
        "# Set experiment's device & deterministic behavior\n",
        "if CONFIG.cpu:\n",
        "    CONFIG.device = 'cpu'\n",
        "else:\n",
        "    CONFIG.device = 'cuda' if torch.cuda.is_available() else 'cpu'\n",
        "\n",
        "torch.manual_seed(CONFIG.seed)\n",
        "random.seed(CONFIG.seed)\n",
        "np.random.seed(CONFIG.seed)\n",
        "torch.backends.cudnn.benchmark = True\n",
        "torch.use_deterministic_algorithms(mode=True, warn_only=True)\n",
        "\n",
        "main()"
      ]
    },
    {
      "cell_type": "markdown",
      "metadata": {
        "id": "LakrBzFiEfOw"
      },
      "source": [
        "##### 1.5.4.3 - Photo"
      ]
    },
    {
      "cell_type": "code",
      "execution_count": null,
      "metadata": {
        "vscode": {
          "languageId": "python"
        },
        "id": "oY83L1tiEfOw"
      },
      "outputs": [],
      "source": [
        "warnings.filterwarnings('ignore', category=UserWarning)\n",
        "\n",
        "# Parse arguments\n",
        "conf = configurations['1.5.4.3']\n",
        "\n",
        "#args = parse_arguments()\n",
        "args = argparse.Namespace(**conf)\n",
        "print(args)\n",
        "CONFIG.update(vars(args))\n",
        "\n",
        "# Setup output directory\n",
        "CONFIG.save_dir = os.path.join('record', CONFIG.experiment_name)\n",
        "os.makedirs(CONFIG.save_dir, exist_ok=True)\n",
        "\n",
        "# Setup logging\n",
        "logging.basicConfig(\n",
        "    filename=os.path.join(CONFIG.save_dir, 'log.txt'),\n",
        "    format='%(message)s',\n",
        "    level=logging.INFO,\n",
        "    filemode='a'\n",
        ")\n",
        "\n",
        "# Set experiment's device & deterministic behavior\n",
        "if CONFIG.cpu:\n",
        "    CONFIG.device = 'cpu'\n",
        "else:\n",
        "    CONFIG.device = 'cuda' if torch.cuda.is_available() else 'cpu'\n",
        "\n",
        "torch.manual_seed(CONFIG.seed)\n",
        "random.seed(CONFIG.seed)\n",
        "np.random.seed(CONFIG.seed)\n",
        "torch.backends.cudnn.benchmark = True\n",
        "torch.use_deterministic_algorithms(mode=True, warn_only=True)\n",
        "\n",
        "main()"
      ]
    },
    {
      "cell_type": "markdown",
      "metadata": {
        "id": "gqwUyfJVEfOw"
      },
      "source": [
        "## 2 - Random Activation Maps"
      ]
    },
    {
      "cell_type": "markdown",
      "metadata": {
        "id": "d-L1ZJFrEfOw"
      },
      "source": [
        "### 2.1 - Mask Out Ratio = 0.00"
      ]
    },
    {
      "cell_type": "markdown",
      "metadata": {
        "id": "0PQHHoOREfOx"
      },
      "source": [
        "#### 2.1.1 - ASH module after layer2.1.conv2"
      ]
    },
    {
      "cell_type": "markdown",
      "metadata": {
        "id": "rg7xIVrOEfOx"
      },
      "source": [
        "##### 2.1.1.1 - Cartoon"
      ]
    },
    {
      "cell_type": "code",
      "execution_count": null,
      "metadata": {
        "vscode": {
          "languageId": "python"
        },
        "id": "UQTsvbD7EfOx"
      },
      "outputs": [],
      "source": [
        "warnings.filterwarnings('ignore', category=UserWarning)\n",
        "\n",
        "# Parse arguments\n",
        "conf = configurations['2.1.1.1']\n",
        "\n",
        "#args = parse_arguments()\n",
        "args = argparse.Namespace(**conf)\n",
        "print(args)\n",
        "CONFIG.update(vars(args))\n",
        "\n",
        "# Setup output directory\n",
        "CONFIG.save_dir = os.path.join('record', CONFIG.experiment_name)\n",
        "os.makedirs(CONFIG.save_dir, exist_ok=True)\n",
        "\n",
        "# Setup logging\n",
        "logging.basicConfig(\n",
        "    filename=os.path.join(CONFIG.save_dir, 'log.txt'),\n",
        "    format='%(message)s',\n",
        "    level=logging.INFO,\n",
        "    filemode='a'\n",
        ")\n",
        "\n",
        "# Set experiment's device & deterministic behavior\n",
        "if CONFIG.cpu:\n",
        "    CONFIG.device = 'cpu'\n",
        "else:\n",
        "    CONFIG.device = 'cuda' if torch.cuda.is_available() else 'cpu'\n",
        "\n",
        "torch.manual_seed(CONFIG.seed)\n",
        "random.seed(CONFIG.seed)\n",
        "np.random.seed(CONFIG.seed)\n",
        "torch.backends.cudnn.benchmark = True\n",
        "torch.use_deterministic_algorithms(mode=True, warn_only=True)\n",
        "\n",
        "main()"
      ]
    },
    {
      "cell_type": "markdown",
      "metadata": {
        "id": "Oo79259_EfOx"
      },
      "source": [
        "##### 2.1.1.2 - Sketch"
      ]
    },
    {
      "cell_type": "code",
      "execution_count": null,
      "metadata": {
        "vscode": {
          "languageId": "python"
        },
        "id": "uOcmLl_JEfOx"
      },
      "outputs": [],
      "source": [
        "warnings.filterwarnings('ignore', category=UserWarning)\n",
        "\n",
        "# Parse arguments\n",
        "conf = configurations['2.1.1.2']\n",
        "\n",
        "#args = parse_arguments()\n",
        "args = argparse.Namespace(**conf)\n",
        "print(args)\n",
        "CONFIG.update(vars(args))\n",
        "\n",
        "# Setup output directory\n",
        "CONFIG.save_dir = os.path.join('record', CONFIG.experiment_name)\n",
        "os.makedirs(CONFIG.save_dir, exist_ok=True)\n",
        "\n",
        "# Setup logging\n",
        "logging.basicConfig(\n",
        "    filename=os.path.join(CONFIG.save_dir, 'log.txt'),\n",
        "    format='%(message)s',\n",
        "    level=logging.INFO,\n",
        "    filemode='a'\n",
        ")\n",
        "\n",
        "# Set experiment's device & deterministic behavior\n",
        "if CONFIG.cpu:\n",
        "    CONFIG.device = 'cpu'\n",
        "else:\n",
        "    CONFIG.device = 'cuda' if torch.cuda.is_available() else 'cpu'\n",
        "\n",
        "torch.manual_seed(CONFIG.seed)\n",
        "random.seed(CONFIG.seed)\n",
        "np.random.seed(CONFIG.seed)\n",
        "torch.backends.cudnn.benchmark = True\n",
        "torch.use_deterministic_algorithms(mode=True, warn_only=True)\n",
        "\n",
        "main()"
      ]
    },
    {
      "cell_type": "markdown",
      "metadata": {
        "id": "FfI9xGKlEfOx"
      },
      "source": [
        "##### 2.1.1.3 - Photo"
      ]
    },
    {
      "cell_type": "code",
      "execution_count": null,
      "metadata": {
        "vscode": {
          "languageId": "python"
        },
        "id": "l1PvbagxEfOy"
      },
      "outputs": [],
      "source": [
        "warnings.filterwarnings('ignore', category=UserWarning)\n",
        "\n",
        "# Parse arguments\n",
        "conf = configurations['2.1.1.3']\n",
        "\n",
        "#args = parse_arguments()\n",
        "args = argparse.Namespace(**conf)\n",
        "print(args)\n",
        "CONFIG.update(vars(args))\n",
        "\n",
        "# Setup output directory\n",
        "CONFIG.save_dir = os.path.join('record', CONFIG.experiment_name)\n",
        "os.makedirs(CONFIG.save_dir, exist_ok=True)\n",
        "\n",
        "# Setup logging\n",
        "logging.basicConfig(\n",
        "    filename=os.path.join(CONFIG.save_dir, 'log.txt'),\n",
        "    format='%(message)s',\n",
        "    level=logging.INFO,\n",
        "    filemode='a'\n",
        ")\n",
        "\n",
        "# Set experiment's device & deterministic behavior\n",
        "if CONFIG.cpu:\n",
        "    CONFIG.device = 'cpu'\n",
        "else:\n",
        "    CONFIG.device = 'cuda' if torch.cuda.is_available() else 'cpu'\n",
        "\n",
        "torch.manual_seed(CONFIG.seed)\n",
        "random.seed(CONFIG.seed)\n",
        "np.random.seed(CONFIG.seed)\n",
        "torch.backends.cudnn.benchmark = True\n",
        "torch.use_deterministic_algorithms(mode=True, warn_only=True)\n",
        "\n",
        "main()"
      ]
    },
    {
      "cell_type": "markdown",
      "metadata": {
        "id": "yQkl_vd_EfOy"
      },
      "source": [
        "#### 2.1.2 - ASH module after layer1.1.bn1 and layer2.1.conv2"
      ]
    },
    {
      "cell_type": "markdown",
      "metadata": {
        "id": "kdZ5KmBREfOy"
      },
      "source": [
        "##### 2.1.2.1 - Cartoon"
      ]
    },
    {
      "cell_type": "code",
      "execution_count": null,
      "metadata": {
        "vscode": {
          "languageId": "python"
        },
        "id": "XBspAtziEfOy"
      },
      "outputs": [],
      "source": [
        "warnings.filterwarnings('ignore', category=UserWarning)\n",
        "\n",
        "# Parse arguments\n",
        "conf = configurations['2.1.2.1']\n",
        "\n",
        "#args = parse_arguments()\n",
        "args = argparse.Namespace(**conf)\n",
        "print(args)\n",
        "CONFIG.update(vars(args))\n",
        "\n",
        "# Setup output directory\n",
        "CONFIG.save_dir = os.path.join('record', CONFIG.experiment_name)\n",
        "os.makedirs(CONFIG.save_dir, exist_ok=True)\n",
        "\n",
        "# Setup logging\n",
        "logging.basicConfig(\n",
        "    filename=os.path.join(CONFIG.save_dir, 'log.txt'),\n",
        "    format='%(message)s',\n",
        "    level=logging.INFO,\n",
        "    filemode='a'\n",
        ")\n",
        "\n",
        "# Set experiment's device & deterministic behavior\n",
        "if CONFIG.cpu:\n",
        "    CONFIG.device = 'cpu'\n",
        "else:\n",
        "    CONFIG.device = 'cuda' if torch.cuda.is_available() else 'cpu'\n",
        "\n",
        "torch.manual_seed(CONFIG.seed)\n",
        "random.seed(CONFIG.seed)\n",
        "np.random.seed(CONFIG.seed)\n",
        "torch.backends.cudnn.benchmark = True\n",
        "torch.use_deterministic_algorithms(mode=True, warn_only=True)\n",
        "\n",
        "main()"
      ]
    },
    {
      "cell_type": "markdown",
      "metadata": {
        "id": "2UPrD4psEfOy"
      },
      "source": [
        "##### 2.1.2.2 - Sketch"
      ]
    },
    {
      "cell_type": "code",
      "execution_count": null,
      "metadata": {
        "vscode": {
          "languageId": "python"
        },
        "id": "0MyyHlZAEfOy"
      },
      "outputs": [],
      "source": [
        "warnings.filterwarnings('ignore', category=UserWarning)\n",
        "\n",
        "# Parse arguments\n",
        "conf = configurations['2.1.2.2']\n",
        "\n",
        "#args = parse_arguments()\n",
        "args = argparse.Namespace(**conf)\n",
        "print(args)\n",
        "CONFIG.update(vars(args))\n",
        "\n",
        "# Setup output directory\n",
        "CONFIG.save_dir = os.path.join('record', CONFIG.experiment_name)\n",
        "os.makedirs(CONFIG.save_dir, exist_ok=True)\n",
        "\n",
        "# Setup logging\n",
        "logging.basicConfig(\n",
        "    filename=os.path.join(CONFIG.save_dir, 'log.txt'),\n",
        "    format='%(message)s',\n",
        "    level=logging.INFO,\n",
        "    filemode='a'\n",
        ")\n",
        "\n",
        "# Set experiment's device & deterministic behavior\n",
        "if CONFIG.cpu:\n",
        "    CONFIG.device = 'cpu'\n",
        "else:\n",
        "    CONFIG.device = 'cuda' if torch.cuda.is_available() else 'cpu'\n",
        "\n",
        "torch.manual_seed(CONFIG.seed)\n",
        "random.seed(CONFIG.seed)\n",
        "np.random.seed(CONFIG.seed)\n",
        "torch.backends.cudnn.benchmark = True\n",
        "torch.use_deterministic_algorithms(mode=True, warn_only=True)\n",
        "\n",
        "main()"
      ]
    },
    {
      "cell_type": "markdown",
      "metadata": {
        "id": "KB4DHDGWEfOy"
      },
      "source": [
        "##### 2.1.2.3 - Photo"
      ]
    },
    {
      "cell_type": "code",
      "execution_count": null,
      "metadata": {
        "vscode": {
          "languageId": "python"
        },
        "id": "PcJ17OCcEfOz"
      },
      "outputs": [],
      "source": [
        "warnings.filterwarnings('ignore', category=UserWarning)\n",
        "\n",
        "# Parse arguments\n",
        "conf = configurations['2.1.2.3']\n",
        "\n",
        "#args = parse_arguments()\n",
        "args = argparse.Namespace(**conf)\n",
        "print(args)\n",
        "CONFIG.update(vars(args))\n",
        "\n",
        "# Setup output directory\n",
        "CONFIG.save_dir = os.path.join('record', CONFIG.experiment_name)\n",
        "os.makedirs(CONFIG.save_dir, exist_ok=True)\n",
        "\n",
        "# Setup logging\n",
        "logging.basicConfig(\n",
        "    filename=os.path.join(CONFIG.save_dir, 'log.txt'),\n",
        "    format='%(message)s',\n",
        "    level=logging.INFO,\n",
        "    filemode='a'\n",
        ")\n",
        "\n",
        "# Set experiment's device & deterministic behavior\n",
        "if CONFIG.cpu:\n",
        "    CONFIG.device = 'cpu'\n",
        "else:\n",
        "    CONFIG.device = 'cuda' if torch.cuda.is_available() else 'cpu'\n",
        "\n",
        "torch.manual_seed(CONFIG.seed)\n",
        "random.seed(CONFIG.seed)\n",
        "np.random.seed(CONFIG.seed)\n",
        "torch.backends.cudnn.benchmark = True\n",
        "torch.use_deterministic_algorithms(mode=True, warn_only=True)\n",
        "\n",
        "main()"
      ]
    },
    {
      "cell_type": "markdown",
      "metadata": {
        "id": "dBgOUKPLEfOz"
      },
      "source": [
        "#### 2.1.3 - ASH module after layer1.1.conv1"
      ]
    },
    {
      "cell_type": "markdown",
      "metadata": {
        "id": "G-pgrkhfEfOz"
      },
      "source": [
        "##### 2.1.3.1 - Cartoon"
      ]
    },
    {
      "cell_type": "code",
      "execution_count": null,
      "metadata": {
        "vscode": {
          "languageId": "python"
        },
        "id": "i09yuCMxEfOz"
      },
      "outputs": [],
      "source": [
        "warnings.filterwarnings('ignore', category=UserWarning)\n",
        "\n",
        "# Parse arguments\n",
        "conf = configurations['2.1.3.1']\n",
        "\n",
        "#args = parse_arguments()\n",
        "args = argparse.Namespace(**conf)\n",
        "print(args)\n",
        "CONFIG.update(vars(args))\n",
        "\n",
        "# Setup output directory\n",
        "CONFIG.save_dir = os.path.join('record', CONFIG.experiment_name)\n",
        "os.makedirs(CONFIG.save_dir, exist_ok=True)\n",
        "\n",
        "# Setup logging\n",
        "logging.basicConfig(\n",
        "    filename=os.path.join(CONFIG.save_dir, 'log.txt'),\n",
        "    format='%(message)s',\n",
        "    level=logging.INFO,\n",
        "    filemode='a'\n",
        ")\n",
        "\n",
        "# Set experiment's device & deterministic behavior\n",
        "if CONFIG.cpu:\n",
        "    CONFIG.device = 'cpu'\n",
        "else:\n",
        "    CONFIG.device = 'cuda' if torch.cuda.is_available() else 'cpu'\n",
        "\n",
        "torch.manual_seed(CONFIG.seed)\n",
        "random.seed(CONFIG.seed)\n",
        "np.random.seed(CONFIG.seed)\n",
        "torch.backends.cudnn.benchmark = True\n",
        "torch.use_deterministic_algorithms(mode=True, warn_only=True)\n",
        "\n",
        "main()"
      ]
    },
    {
      "cell_type": "markdown",
      "metadata": {
        "id": "tWwhbFjFEfOz"
      },
      "source": [
        "##### 2.1.3.2 - Sketch"
      ]
    },
    {
      "cell_type": "code",
      "execution_count": null,
      "metadata": {
        "vscode": {
          "languageId": "python"
        },
        "id": "UyM-GytAEfOz"
      },
      "outputs": [],
      "source": [
        "warnings.filterwarnings('ignore', category=UserWarning)\n",
        "\n",
        "# Parse arguments\n",
        "conf = configurations['2.1.3.2']\n",
        "\n",
        "#args = parse_arguments()\n",
        "args = argparse.Namespace(**conf)\n",
        "print(args)\n",
        "CONFIG.update(vars(args))\n",
        "\n",
        "# Setup output directory\n",
        "CONFIG.save_dir = os.path.join('record', CONFIG.experiment_name)\n",
        "os.makedirs(CONFIG.save_dir, exist_ok=True)\n",
        "\n",
        "# Setup logging\n",
        "logging.basicConfig(\n",
        "    filename=os.path.join(CONFIG.save_dir, 'log.txt'),\n",
        "    format='%(message)s',\n",
        "    level=logging.INFO,\n",
        "    filemode='a'\n",
        ")\n",
        "\n",
        "# Set experiment's device & deterministic behavior\n",
        "if CONFIG.cpu:\n",
        "    CONFIG.device = 'cpu'\n",
        "else:\n",
        "    CONFIG.device = 'cuda' if torch.cuda.is_available() else 'cpu'\n",
        "\n",
        "torch.manual_seed(CONFIG.seed)\n",
        "random.seed(CONFIG.seed)\n",
        "np.random.seed(CONFIG.seed)\n",
        "torch.backends.cudnn.benchmark = True\n",
        "torch.use_deterministic_algorithms(mode=True, warn_only=True)\n",
        "\n",
        "main()"
      ]
    },
    {
      "cell_type": "markdown",
      "metadata": {
        "id": "EVT89wDcEfOz"
      },
      "source": [
        "##### 2.1.3.3 - Photo"
      ]
    },
    {
      "cell_type": "code",
      "execution_count": null,
      "metadata": {
        "vscode": {
          "languageId": "python"
        },
        "id": "xxPj-tlIEfO0"
      },
      "outputs": [],
      "source": [
        "warnings.filterwarnings('ignore', category=UserWarning)\n",
        "\n",
        "# Parse arguments\n",
        "conf = configurations['2.1.3.3']\n",
        "\n",
        "#args = parse_arguments()\n",
        "args = argparse.Namespace(**conf)\n",
        "print(args)\n",
        "CONFIG.update(vars(args))\n",
        "\n",
        "# Setup output directory\n",
        "CONFIG.save_dir = os.path.join('record', CONFIG.experiment_name)\n",
        "os.makedirs(CONFIG.save_dir, exist_ok=True)\n",
        "\n",
        "# Setup logging\n",
        "logging.basicConfig(\n",
        "    filename=os.path.join(CONFIG.save_dir, 'log.txt'),\n",
        "    format='%(message)s',\n",
        "    level=logging.INFO,\n",
        "    filemode='a'\n",
        ")\n",
        "\n",
        "# Set experiment's device & deterministic behavior\n",
        "if CONFIG.cpu:\n",
        "    CONFIG.device = 'cpu'\n",
        "else:\n",
        "    CONFIG.device = 'cuda' if torch.cuda.is_available() else 'cpu'\n",
        "\n",
        "torch.manual_seed(CONFIG.seed)\n",
        "random.seed(CONFIG.seed)\n",
        "np.random.seed(CONFIG.seed)\n",
        "torch.backends.cudnn.benchmark = True\n",
        "torch.use_deterministic_algorithms(mode=True, warn_only=True)\n",
        "\n",
        "main()"
      ]
    },
    {
      "cell_type": "markdown",
      "metadata": {
        "id": "toCOlU2LEfO0"
      },
      "source": [
        "#### 2.1.4 - ASH module after layer1.1.bn2"
      ]
    },
    {
      "cell_type": "markdown",
      "metadata": {
        "id": "wUwZ6voREfO0"
      },
      "source": [
        "##### 2.1.4.1 - Cartoon"
      ]
    },
    {
      "cell_type": "code",
      "execution_count": null,
      "metadata": {
        "vscode": {
          "languageId": "python"
        },
        "id": "FSDjVeiwEfO0"
      },
      "outputs": [],
      "source": [
        "warnings.filterwarnings('ignore', category=UserWarning)\n",
        "\n",
        "# Parse arguments\n",
        "conf = configurations['2.1.4.1']\n",
        "\n",
        "#args = parse_arguments()\n",
        "args = argparse.Namespace(**conf)\n",
        "print(args)\n",
        "CONFIG.update(vars(args))\n",
        "\n",
        "# Setup output directory\n",
        "CONFIG.save_dir = os.path.join('record', CONFIG.experiment_name)\n",
        "os.makedirs(CONFIG.save_dir, exist_ok=True)\n",
        "\n",
        "# Setup logging\n",
        "logging.basicConfig(\n",
        "    filename=os.path.join(CONFIG.save_dir, 'log.txt'),\n",
        "    format='%(message)s',\n",
        "    level=logging.INFO,\n",
        "    filemode='a'\n",
        ")\n",
        "\n",
        "# Set experiment's device & deterministic behavior\n",
        "if CONFIG.cpu:\n",
        "    CONFIG.device = 'cpu'\n",
        "else:\n",
        "    CONFIG.device = 'cuda' if torch.cuda.is_available() else 'cpu'\n",
        "\n",
        "torch.manual_seed(CONFIG.seed)\n",
        "random.seed(CONFIG.seed)\n",
        "np.random.seed(CONFIG.seed)\n",
        "torch.backends.cudnn.benchmark = True\n",
        "torch.use_deterministic_algorithms(mode=True, warn_only=True)\n",
        "\n",
        "main()"
      ]
    },
    {
      "cell_type": "markdown",
      "metadata": {
        "id": "s4mYV522EfO0"
      },
      "source": [
        "##### 2.1.4.2 - Sketch"
      ]
    },
    {
      "cell_type": "code",
      "execution_count": null,
      "metadata": {
        "vscode": {
          "languageId": "python"
        },
        "id": "KQXjlXb6EfO0"
      },
      "outputs": [],
      "source": [
        "warnings.filterwarnings('ignore', category=UserWarning)\n",
        "\n",
        "# Parse arguments\n",
        "conf = configurations['2.1.4.2']\n",
        "\n",
        "#args = parse_arguments()\n",
        "args = argparse.Namespace(**conf)\n",
        "print(args)\n",
        "CONFIG.update(vars(args))\n",
        "\n",
        "# Setup output directory\n",
        "CONFIG.save_dir = os.path.join('record', CONFIG.experiment_name)\n",
        "os.makedirs(CONFIG.save_dir, exist_ok=True)\n",
        "\n",
        "# Setup logging\n",
        "logging.basicConfig(\n",
        "    filename=os.path.join(CONFIG.save_dir, 'log.txt'),\n",
        "    format='%(message)s',\n",
        "    level=logging.INFO,\n",
        "    filemode='a'\n",
        ")\n",
        "\n",
        "# Set experiment's device & deterministic behavior\n",
        "if CONFIG.cpu:\n",
        "    CONFIG.device = 'cpu'\n",
        "else:\n",
        "    CONFIG.device = 'cuda' if torch.cuda.is_available() else 'cpu'\n",
        "\n",
        "torch.manual_seed(CONFIG.seed)\n",
        "random.seed(CONFIG.seed)\n",
        "np.random.seed(CONFIG.seed)\n",
        "torch.backends.cudnn.benchmark = True\n",
        "torch.use_deterministic_algorithms(mode=True, warn_only=True)\n",
        "\n",
        "main()"
      ]
    },
    {
      "cell_type": "markdown",
      "metadata": {
        "id": "lrlARu_PEfO0"
      },
      "source": [
        "##### 2.1.4.3 - Photo"
      ]
    },
    {
      "cell_type": "code",
      "execution_count": null,
      "metadata": {
        "vscode": {
          "languageId": "python"
        },
        "id": "2-4sUXI8EfO1"
      },
      "outputs": [],
      "source": [
        "warnings.filterwarnings('ignore', category=UserWarning)\n",
        "\n",
        "# Parse arguments\n",
        "conf = configurations['2.1.4.3']\n",
        "\n",
        "#args = parse_arguments()\n",
        "args = argparse.Namespace(**conf)\n",
        "print(args)\n",
        "CONFIG.update(vars(args))\n",
        "\n",
        "# Setup output directory\n",
        "CONFIG.save_dir = os.path.join('record', CONFIG.experiment_name)\n",
        "os.makedirs(CONFIG.save_dir, exist_ok=True)\n",
        "\n",
        "# Setup logging\n",
        "logging.basicConfig(\n",
        "    filename=os.path.join(CONFIG.save_dir, 'log.txt'),\n",
        "    format='%(message)s',\n",
        "    level=logging.INFO,\n",
        "    filemode='a'\n",
        ")\n",
        "\n",
        "# Set experiment's device & deterministic behavior\n",
        "if CONFIG.cpu:\n",
        "    CONFIG.device = 'cpu'\n",
        "else:\n",
        "    CONFIG.device = 'cuda' if torch.cuda.is_available() else 'cpu'\n",
        "\n",
        "torch.manual_seed(CONFIG.seed)\n",
        "random.seed(CONFIG.seed)\n",
        "np.random.seed(CONFIG.seed)\n",
        "torch.backends.cudnn.benchmark = True\n",
        "torch.use_deterministic_algorithms(mode=True, warn_only=True)\n",
        "\n",
        "main()"
      ]
    },
    {
      "cell_type": "markdown",
      "metadata": {
        "id": "gZStbMhMEfO1"
      },
      "source": [
        "#### 2.1.5 - ASH module after layer1.1.bn2 and layer2.1.bn2"
      ]
    },
    {
      "cell_type": "markdown",
      "metadata": {
        "id": "rjxsLQxdEfO1"
      },
      "source": [
        "##### 2.1.5.1 - Cartoon"
      ]
    },
    {
      "cell_type": "code",
      "execution_count": null,
      "metadata": {
        "vscode": {
          "languageId": "python"
        },
        "id": "8mKxmTvpEfO1"
      },
      "outputs": [],
      "source": [
        "warnings.filterwarnings('ignore', category=UserWarning)\n",
        "\n",
        "# Parse arguments\n",
        "conf = configurations['2.1.5.1']\n",
        "\n",
        "#args = parse_arguments()\n",
        "args = argparse.Namespace(**conf)\n",
        "print(args)\n",
        "CONFIG.update(vars(args))\n",
        "\n",
        "# Setup output directory\n",
        "CONFIG.save_dir = os.path.join('record', CONFIG.experiment_name)\n",
        "os.makedirs(CONFIG.save_dir, exist_ok=True)\n",
        "\n",
        "# Setup logging\n",
        "logging.basicConfig(\n",
        "    filename=os.path.join(CONFIG.save_dir, 'log.txt'),\n",
        "    format='%(message)s',\n",
        "    level=logging.INFO,\n",
        "    filemode='a'\n",
        ")\n",
        "\n",
        "# Set experiment's device & deterministic behavior\n",
        "if CONFIG.cpu:\n",
        "    CONFIG.device = 'cpu'\n",
        "else:\n",
        "    CONFIG.device = 'cuda' if torch.cuda.is_available() else 'cpu'\n",
        "\n",
        "torch.manual_seed(CONFIG.seed)\n",
        "random.seed(CONFIG.seed)\n",
        "np.random.seed(CONFIG.seed)\n",
        "torch.backends.cudnn.benchmark = True\n",
        "torch.use_deterministic_algorithms(mode=True, warn_only=True)\n",
        "\n",
        "main()"
      ]
    },
    {
      "cell_type": "markdown",
      "metadata": {
        "id": "R4Z_9aZVEfO1"
      },
      "source": [
        "##### 2.1.5.2 - Sketch"
      ]
    },
    {
      "cell_type": "code",
      "execution_count": null,
      "metadata": {
        "vscode": {
          "languageId": "python"
        },
        "id": "ZfRbJVG_EfO1"
      },
      "outputs": [],
      "source": [
        "warnings.filterwarnings('ignore', category=UserWarning)\n",
        "\n",
        "# Parse arguments\n",
        "conf = configurations['2.1.5.2']\n",
        "\n",
        "#args = parse_arguments()\n",
        "args = argparse.Namespace(**conf)\n",
        "print(args)\n",
        "CONFIG.update(vars(args))\n",
        "\n",
        "# Setup output directory\n",
        "CONFIG.save_dir = os.path.join('record', CONFIG.experiment_name)\n",
        "os.makedirs(CONFIG.save_dir, exist_ok=True)\n",
        "\n",
        "# Setup logging\n",
        "logging.basicConfig(\n",
        "    filename=os.path.join(CONFIG.save_dir, 'log.txt'),\n",
        "    format='%(message)s',\n",
        "    level=logging.INFO,\n",
        "    filemode='a'\n",
        ")\n",
        "\n",
        "# Set experiment's device & deterministic behavior\n",
        "if CONFIG.cpu:\n",
        "    CONFIG.device = 'cpu'\n",
        "else:\n",
        "    CONFIG.device = 'cuda' if torch.cuda.is_available() else 'cpu'\n",
        "\n",
        "torch.manual_seed(CONFIG.seed)\n",
        "random.seed(CONFIG.seed)\n",
        "np.random.seed(CONFIG.seed)\n",
        "torch.backends.cudnn.benchmark = True\n",
        "torch.use_deterministic_algorithms(mode=True, warn_only=True)\n",
        "\n",
        "main()"
      ]
    },
    {
      "cell_type": "markdown",
      "metadata": {
        "id": "wIy1YtRXEfO2"
      },
      "source": [
        "##### 2.1.5.3 - Photo"
      ]
    },
    {
      "cell_type": "code",
      "execution_count": null,
      "metadata": {
        "vscode": {
          "languageId": "python"
        },
        "id": "50fxBSA7EfO2"
      },
      "outputs": [],
      "source": [
        "warnings.filterwarnings('ignore', category=UserWarning)\n",
        "\n",
        "# Parse arguments\n",
        "conf = configurations['2.1.5.3']\n",
        "\n",
        "#args = parse_arguments()\n",
        "args = argparse.Namespace(**conf)\n",
        "print(args)\n",
        "CONFIG.update(vars(args))\n",
        "\n",
        "# Setup output directory\n",
        "CONFIG.save_dir = os.path.join('record', CONFIG.experiment_name)\n",
        "os.makedirs(CONFIG.save_dir, exist_ok=True)\n",
        "\n",
        "# Setup logging\n",
        "logging.basicConfig(\n",
        "    filename=os.path.join(CONFIG.save_dir, 'log.txt'),\n",
        "    format='%(message)s',\n",
        "    level=logging.INFO,\n",
        "    filemode='a'\n",
        ")\n",
        "\n",
        "# Set experiment's device & deterministic behavior\n",
        "if CONFIG.cpu:\n",
        "    CONFIG.device = 'cpu'\n",
        "else:\n",
        "    CONFIG.device = 'cuda' if torch.cuda.is_available() else 'cpu'\n",
        "\n",
        "torch.manual_seed(CONFIG.seed)\n",
        "random.seed(CONFIG.seed)\n",
        "np.random.seed(CONFIG.seed)\n",
        "torch.backends.cudnn.benchmark = True\n",
        "torch.use_deterministic_algorithms(mode=True, warn_only=True)\n",
        "\n",
        "main()"
      ]
    },
    {
      "cell_type": "markdown",
      "metadata": {
        "id": "nJh9LQpwEfO2"
      },
      "source": [
        "### 2.2 - Mask Out Ratio = 0.25"
      ]
    },
    {
      "cell_type": "markdown",
      "metadata": {
        "id": "6bw1tq-XEfO2"
      },
      "source": [
        "#### 2.2.1 - ASH module after layer2.1.conv2"
      ]
    },
    {
      "cell_type": "markdown",
      "metadata": {
        "id": "q8GPz3vbEfO2"
      },
      "source": [
        "##### 2.2.1.1 - Cartoon"
      ]
    },
    {
      "cell_type": "code",
      "execution_count": null,
      "metadata": {
        "vscode": {
          "languageId": "python"
        },
        "id": "Jc14LrjJEfO2"
      },
      "outputs": [],
      "source": [
        "warnings.filterwarnings('ignore', category=UserWarning)\n",
        "\n",
        "# Parse arguments\n",
        "conf = configurations['2.2.1.1']\n",
        "\n",
        "#args = parse_arguments()\n",
        "args = argparse.Namespace(**conf)\n",
        "print(args)\n",
        "CONFIG.update(vars(args))\n",
        "\n",
        "# Setup output directory\n",
        "CONFIG.save_dir = os.path.join('record', CONFIG.experiment_name)\n",
        "os.makedirs(CONFIG.save_dir, exist_ok=True)\n",
        "\n",
        "# Setup logging\n",
        "logging.basicConfig(\n",
        "    filename=os.path.join(CONFIG.save_dir, 'log.txt'),\n",
        "    format='%(message)s',\n",
        "    level=logging.INFO,\n",
        "    filemode='a'\n",
        ")\n",
        "\n",
        "# Set experiment's device & deterministic behavior\n",
        "if CONFIG.cpu:\n",
        "    CONFIG.device = 'cpu'\n",
        "else:\n",
        "    CONFIG.device = 'cuda' if torch.cuda.is_available() else 'cpu'\n",
        "\n",
        "torch.manual_seed(CONFIG.seed)\n",
        "random.seed(CONFIG.seed)\n",
        "np.random.seed(CONFIG.seed)\n",
        "torch.backends.cudnn.benchmark = True\n",
        "torch.use_deterministic_algorithms(mode=True, warn_only=True)\n",
        "\n",
        "main()"
      ]
    },
    {
      "cell_type": "markdown",
      "metadata": {
        "id": "qNQ4jrTPEfO3"
      },
      "source": [
        "##### 2.2.1.2 - Sketch"
      ]
    },
    {
      "cell_type": "code",
      "execution_count": null,
      "metadata": {
        "vscode": {
          "languageId": "python"
        },
        "id": "LhvWS0QfEfO9"
      },
      "outputs": [],
      "source": [
        "warnings.filterwarnings('ignore', category=UserWarning)\n",
        "\n",
        "# Parse arguments\n",
        "conf = configurations['2.2.1.2']\n",
        "\n",
        "#args = parse_arguments()\n",
        "args = argparse.Namespace(**conf)\n",
        "print(args)\n",
        "CONFIG.update(vars(args))\n",
        "\n",
        "# Setup output directory\n",
        "CONFIG.save_dir = os.path.join('record', CONFIG.experiment_name)\n",
        "os.makedirs(CONFIG.save_dir, exist_ok=True)\n",
        "\n",
        "# Setup logging\n",
        "logging.basicConfig(\n",
        "    filename=os.path.join(CONFIG.save_dir, 'log.txt'),\n",
        "    format='%(message)s',\n",
        "    level=logging.INFO,\n",
        "    filemode='a'\n",
        ")\n",
        "\n",
        "# Set experiment's device & deterministic behavior\n",
        "if CONFIG.cpu:\n",
        "    CONFIG.device = 'cpu'\n",
        "else:\n",
        "    CONFIG.device = 'cuda' if torch.cuda.is_available() else 'cpu'\n",
        "\n",
        "torch.manual_seed(CONFIG.seed)\n",
        "random.seed(CONFIG.seed)\n",
        "np.random.seed(CONFIG.seed)\n",
        "torch.backends.cudnn.benchmark = True\n",
        "torch.use_deterministic_algorithms(mode=True, warn_only=True)\n",
        "\n",
        "main()"
      ]
    },
    {
      "cell_type": "markdown",
      "metadata": {
        "id": "TscqlUMEEfO-"
      },
      "source": [
        "##### 2.2.1.3 - Photo"
      ]
    },
    {
      "cell_type": "code",
      "execution_count": null,
      "metadata": {
        "vscode": {
          "languageId": "python"
        },
        "id": "H80UQl-fEfO-"
      },
      "outputs": [],
      "source": [
        "warnings.filterwarnings('ignore', category=UserWarning)\n",
        "\n",
        "# Parse arguments\n",
        "conf = configurations['2.2.1.3']\n",
        "\n",
        "#args = parse_arguments()\n",
        "args = argparse.Namespace(**conf)\n",
        "print(args)\n",
        "CONFIG.update(vars(args))\n",
        "\n",
        "# Setup output directory\n",
        "CONFIG.save_dir = os.path.join('record', CONFIG.experiment_name)\n",
        "os.makedirs(CONFIG.save_dir, exist_ok=True)\n",
        "\n",
        "# Setup logging\n",
        "logging.basicConfig(\n",
        "    filename=os.path.join(CONFIG.save_dir, 'log.txt'),\n",
        "    format='%(message)s',\n",
        "    level=logging.INFO,\n",
        "    filemode='a'\n",
        ")\n",
        "\n",
        "# Set experiment's device & deterministic behavior\n",
        "if CONFIG.cpu:\n",
        "    CONFIG.device = 'cpu'\n",
        "else:\n",
        "    CONFIG.device = 'cuda' if torch.cuda.is_available() else 'cpu'\n",
        "\n",
        "torch.manual_seed(CONFIG.seed)\n",
        "random.seed(CONFIG.seed)\n",
        "np.random.seed(CONFIG.seed)\n",
        "torch.backends.cudnn.benchmark = True\n",
        "torch.use_deterministic_algorithms(mode=True, warn_only=True)\n",
        "\n",
        "main()"
      ]
    },
    {
      "cell_type": "markdown",
      "metadata": {
        "id": "sdi6LGp-EfO-"
      },
      "source": [
        "#### 2.2.2 - ASH module after layer1.1.bn1 and layer2.1.conv2"
      ]
    },
    {
      "cell_type": "markdown",
      "metadata": {
        "id": "FQ_T6NoNEfO-"
      },
      "source": [
        "##### 2.2.2.1 - Cartoon"
      ]
    },
    {
      "cell_type": "code",
      "execution_count": null,
      "metadata": {
        "vscode": {
          "languageId": "python"
        },
        "id": "3_f9rTJjEfO-"
      },
      "outputs": [],
      "source": [
        "warnings.filterwarnings('ignore', category=UserWarning)\n",
        "\n",
        "# Parse arguments\n",
        "conf = configurations['2.2.2.1']\n",
        "\n",
        "#args = parse_arguments()\n",
        "args = argparse.Namespace(**conf)\n",
        "print(args)\n",
        "CONFIG.update(vars(args))\n",
        "\n",
        "# Setup output directory\n",
        "CONFIG.save_dir = os.path.join('record', CONFIG.experiment_name)\n",
        "os.makedirs(CONFIG.save_dir, exist_ok=True)\n",
        "\n",
        "# Setup logging\n",
        "logging.basicConfig(\n",
        "    filename=os.path.join(CONFIG.save_dir, 'log.txt'),\n",
        "    format='%(message)s',\n",
        "    level=logging.INFO,\n",
        "    filemode='a'\n",
        ")\n",
        "\n",
        "# Set experiment's device & deterministic behavior\n",
        "if CONFIG.cpu:\n",
        "    CONFIG.device = 'cpu'\n",
        "else:\n",
        "    CONFIG.device = 'cuda' if torch.cuda.is_available() else 'cpu'\n",
        "\n",
        "torch.manual_seed(CONFIG.seed)\n",
        "random.seed(CONFIG.seed)\n",
        "np.random.seed(CONFIG.seed)\n",
        "torch.backends.cudnn.benchmark = True\n",
        "torch.use_deterministic_algorithms(mode=True, warn_only=True)\n",
        "\n",
        "main()"
      ]
    },
    {
      "cell_type": "markdown",
      "metadata": {
        "id": "usXgF0rvEfO-"
      },
      "source": [
        "##### 2.2.2.2 - Sketch"
      ]
    },
    {
      "cell_type": "code",
      "execution_count": null,
      "metadata": {
        "vscode": {
          "languageId": "python"
        },
        "id": "72N6lU-IEfO-"
      },
      "outputs": [],
      "source": [
        "warnings.filterwarnings('ignore', category=UserWarning)\n",
        "\n",
        "# Parse arguments\n",
        "conf = configurations['2.2.2.2']\n",
        "\n",
        "#args = parse_arguments()\n",
        "args = argparse.Namespace(**conf)\n",
        "print(args)\n",
        "CONFIG.update(vars(args))\n",
        "\n",
        "# Setup output directory\n",
        "CONFIG.save_dir = os.path.join('record', CONFIG.experiment_name)\n",
        "os.makedirs(CONFIG.save_dir, exist_ok=True)\n",
        "\n",
        "# Setup logging\n",
        "logging.basicConfig(\n",
        "    filename=os.path.join(CONFIG.save_dir, 'log.txt'),\n",
        "    format='%(message)s',\n",
        "    level=logging.INFO,\n",
        "    filemode='a'\n",
        ")\n",
        "\n",
        "# Set experiment's device & deterministic behavior\n",
        "if CONFIG.cpu:\n",
        "    CONFIG.device = 'cpu'\n",
        "else:\n",
        "    CONFIG.device = 'cuda' if torch.cuda.is_available() else 'cpu'\n",
        "\n",
        "torch.manual_seed(CONFIG.seed)\n",
        "random.seed(CONFIG.seed)\n",
        "np.random.seed(CONFIG.seed)\n",
        "torch.backends.cudnn.benchmark = True\n",
        "torch.use_deterministic_algorithms(mode=True, warn_only=True)\n",
        "\n",
        "main()"
      ]
    },
    {
      "cell_type": "markdown",
      "metadata": {
        "id": "9pRKhJzdEfO-"
      },
      "source": [
        "##### 2.2.2.3 - Photo"
      ]
    },
    {
      "cell_type": "code",
      "execution_count": null,
      "metadata": {
        "vscode": {
          "languageId": "python"
        },
        "id": "htkxt9xPEfO_"
      },
      "outputs": [],
      "source": [
        "warnings.filterwarnings('ignore', category=UserWarning)\n",
        "\n",
        "# Parse arguments\n",
        "conf = configurations['2.2.2.3']\n",
        "\n",
        "#args = parse_arguments()\n",
        "args = argparse.Namespace(**conf)\n",
        "print(args)\n",
        "CONFIG.update(vars(args))\n",
        "\n",
        "# Setup output directory\n",
        "CONFIG.save_dir = os.path.join('record', CONFIG.experiment_name)\n",
        "os.makedirs(CONFIG.save_dir, exist_ok=True)\n",
        "\n",
        "# Setup logging\n",
        "logging.basicConfig(\n",
        "    filename=os.path.join(CONFIG.save_dir, 'log.txt'),\n",
        "    format='%(message)s',\n",
        "    level=logging.INFO,\n",
        "    filemode='a'\n",
        ")\n",
        "\n",
        "# Set experiment's device & deterministic behavior\n",
        "if CONFIG.cpu:\n",
        "    CONFIG.device = 'cpu'\n",
        "else:\n",
        "    CONFIG.device = 'cuda' if torch.cuda.is_available() else 'cpu'\n",
        "\n",
        "torch.manual_seed(CONFIG.seed)\n",
        "random.seed(CONFIG.seed)\n",
        "np.random.seed(CONFIG.seed)\n",
        "torch.backends.cudnn.benchmark = True\n",
        "torch.use_deterministic_algorithms(mode=True, warn_only=True)\n",
        "\n",
        "main()"
      ]
    },
    {
      "cell_type": "markdown",
      "metadata": {
        "id": "9hIjKtsfEfO_"
      },
      "source": [
        "#### 2.2.3 - ASH module after layer1.1.conv1"
      ]
    },
    {
      "cell_type": "markdown",
      "metadata": {
        "id": "jUKXL66EEfO_"
      },
      "source": [
        "##### 2.2.3.1 - Cartoon"
      ]
    },
    {
      "cell_type": "code",
      "execution_count": null,
      "metadata": {
        "vscode": {
          "languageId": "python"
        },
        "id": "kwgTa0IlEfO_"
      },
      "outputs": [],
      "source": [
        "warnings.filterwarnings('ignore', category=UserWarning)\n",
        "\n",
        "# Parse arguments\n",
        "conf = configurations['2.2.3.1']\n",
        "\n",
        "#args = parse_arguments()\n",
        "args = argparse.Namespace(**conf)\n",
        "print(args)\n",
        "CONFIG.update(vars(args))\n",
        "\n",
        "# Setup output directory\n",
        "CONFIG.save_dir = os.path.join('record', CONFIG.experiment_name)\n",
        "os.makedirs(CONFIG.save_dir, exist_ok=True)\n",
        "\n",
        "# Setup logging\n",
        "logging.basicConfig(\n",
        "    filename=os.path.join(CONFIG.save_dir, 'log.txt'),\n",
        "    format='%(message)s',\n",
        "    level=logging.INFO,\n",
        "    filemode='a'\n",
        ")\n",
        "\n",
        "# Set experiment's device & deterministic behavior\n",
        "if CONFIG.cpu:\n",
        "    CONFIG.device = 'cpu'\n",
        "else:\n",
        "    CONFIG.device = 'cuda' if torch.cuda.is_available() else 'cpu'\n",
        "\n",
        "torch.manual_seed(CONFIG.seed)\n",
        "random.seed(CONFIG.seed)\n",
        "np.random.seed(CONFIG.seed)\n",
        "torch.backends.cudnn.benchmark = True\n",
        "torch.use_deterministic_algorithms(mode=True, warn_only=True)\n",
        "\n",
        "main()"
      ]
    },
    {
      "cell_type": "markdown",
      "metadata": {
        "id": "K52JJRVhEfO_"
      },
      "source": [
        "##### 2.2.3.2 - Sketch"
      ]
    },
    {
      "cell_type": "code",
      "execution_count": null,
      "metadata": {
        "vscode": {
          "languageId": "python"
        },
        "id": "rvRbR0BnEfO_"
      },
      "outputs": [],
      "source": [
        "warnings.filterwarnings('ignore', category=UserWarning)\n",
        "\n",
        "# Parse arguments\n",
        "conf = configurations['2.2.3.2']\n",
        "\n",
        "#args = parse_arguments()\n",
        "args = argparse.Namespace(**conf)\n",
        "print(args)\n",
        "CONFIG.update(vars(args))\n",
        "\n",
        "# Setup output directory\n",
        "CONFIG.save_dir = os.path.join('record', CONFIG.experiment_name)\n",
        "os.makedirs(CONFIG.save_dir, exist_ok=True)\n",
        "\n",
        "# Setup logging\n",
        "logging.basicConfig(\n",
        "    filename=os.path.join(CONFIG.save_dir, 'log.txt'),\n",
        "    format='%(message)s',\n",
        "    level=logging.INFO,\n",
        "    filemode='a'\n",
        ")\n",
        "\n",
        "# Set experiment's device & deterministic behavior\n",
        "if CONFIG.cpu:\n",
        "    CONFIG.device = 'cpu'\n",
        "else:\n",
        "    CONFIG.device = 'cuda' if torch.cuda.is_available() else 'cpu'\n",
        "\n",
        "torch.manual_seed(CONFIG.seed)\n",
        "random.seed(CONFIG.seed)\n",
        "np.random.seed(CONFIG.seed)\n",
        "torch.backends.cudnn.benchmark = True\n",
        "torch.use_deterministic_algorithms(mode=True, warn_only=True)\n",
        "\n",
        "main()"
      ]
    },
    {
      "cell_type": "markdown",
      "metadata": {
        "id": "g3vY-pv2EfO_"
      },
      "source": [
        "##### 2.2.3.3 - Photo"
      ]
    },
    {
      "cell_type": "code",
      "execution_count": null,
      "metadata": {
        "vscode": {
          "languageId": "python"
        },
        "id": "yhEgIO31EfPA"
      },
      "outputs": [],
      "source": [
        "warnings.filterwarnings('ignore', category=UserWarning)\n",
        "\n",
        "# Parse arguments\n",
        "conf = configurations['2.2.3.3']\n",
        "\n",
        "#args = parse_arguments()\n",
        "args = argparse.Namespace(**conf)\n",
        "print(args)\n",
        "CONFIG.update(vars(args))\n",
        "\n",
        "# Setup output directory\n",
        "CONFIG.save_dir = os.path.join('record', CONFIG.experiment_name)\n",
        "os.makedirs(CONFIG.save_dir, exist_ok=True)\n",
        "\n",
        "# Setup logging\n",
        "logging.basicConfig(\n",
        "    filename=os.path.join(CONFIG.save_dir, 'log.txt'),\n",
        "    format='%(message)s',\n",
        "    level=logging.INFO,\n",
        "    filemode='a'\n",
        ")\n",
        "\n",
        "# Set experiment's device & deterministic behavior\n",
        "if CONFIG.cpu:\n",
        "    CONFIG.device = 'cpu'\n",
        "else:\n",
        "    CONFIG.device = 'cuda' if torch.cuda.is_available() else 'cpu'\n",
        "\n",
        "torch.manual_seed(CONFIG.seed)\n",
        "random.seed(CONFIG.seed)\n",
        "np.random.seed(CONFIG.seed)\n",
        "torch.backends.cudnn.benchmark = True\n",
        "torch.use_deterministic_algorithms(mode=True, warn_only=True)\n",
        "\n",
        "main()"
      ]
    },
    {
      "cell_type": "markdown",
      "metadata": {
        "id": "UcJvgwUcEfPA"
      },
      "source": [
        "#### 2.2.4 - ASH module after layer1.1.bn2"
      ]
    },
    {
      "cell_type": "markdown",
      "metadata": {
        "id": "RrqYO-VhEfPA"
      },
      "source": [
        "##### 2.2.4.1 - Cartoon"
      ]
    },
    {
      "cell_type": "code",
      "execution_count": null,
      "metadata": {
        "vscode": {
          "languageId": "python"
        },
        "id": "ZtvDwh28EfPA"
      },
      "outputs": [],
      "source": [
        "warnings.filterwarnings('ignore', category=UserWarning)\n",
        "\n",
        "# Parse arguments\n",
        "conf = configurations['2.2.4.1']\n",
        "\n",
        "#args = parse_arguments()\n",
        "args = argparse.Namespace(**conf)\n",
        "print(args)\n",
        "CONFIG.update(vars(args))\n",
        "\n",
        "# Setup output directory\n",
        "CONFIG.save_dir = os.path.join('record', CONFIG.experiment_name)\n",
        "os.makedirs(CONFIG.save_dir, exist_ok=True)\n",
        "\n",
        "# Setup logging\n",
        "logging.basicConfig(\n",
        "    filename=os.path.join(CONFIG.save_dir, 'log.txt'),\n",
        "    format='%(message)s',\n",
        "    level=logging.INFO,\n",
        "    filemode='a'\n",
        ")\n",
        "\n",
        "# Set experiment's device & deterministic behavior\n",
        "if CONFIG.cpu:\n",
        "    CONFIG.device = 'cpu'\n",
        "else:\n",
        "    CONFIG.device = 'cuda' if torch.cuda.is_available() else 'cpu'\n",
        "\n",
        "torch.manual_seed(CONFIG.seed)\n",
        "random.seed(CONFIG.seed)\n",
        "np.random.seed(CONFIG.seed)\n",
        "torch.backends.cudnn.benchmark = True\n",
        "torch.use_deterministic_algorithms(mode=True, warn_only=True)\n",
        "\n",
        "main()"
      ]
    },
    {
      "cell_type": "markdown",
      "metadata": {
        "id": "CtP6e4LYEfPA"
      },
      "source": [
        "##### 2.2.4.2 - Sketch"
      ]
    },
    {
      "cell_type": "code",
      "execution_count": null,
      "metadata": {
        "vscode": {
          "languageId": "python"
        },
        "id": "0IIA3DYyEfPA"
      },
      "outputs": [],
      "source": [
        "warnings.filterwarnings('ignore', category=UserWarning)\n",
        "\n",
        "# Parse arguments\n",
        "conf = configurations['2.2.4.2']\n",
        "\n",
        "#args = parse_arguments()\n",
        "args = argparse.Namespace(**conf)\n",
        "print(args)\n",
        "CONFIG.update(vars(args))\n",
        "\n",
        "# Setup output directory\n",
        "CONFIG.save_dir = os.path.join('record', CONFIG.experiment_name)\n",
        "os.makedirs(CONFIG.save_dir, exist_ok=True)\n",
        "\n",
        "# Setup logging\n",
        "logging.basicConfig(\n",
        "    filename=os.path.join(CONFIG.save_dir, 'log.txt'),\n",
        "    format='%(message)s',\n",
        "    level=logging.INFO,\n",
        "    filemode='a'\n",
        ")\n",
        "\n",
        "# Set experiment's device & deterministic behavior\n",
        "if CONFIG.cpu:\n",
        "    CONFIG.device = 'cpu'\n",
        "else:\n",
        "    CONFIG.device = 'cuda' if torch.cuda.is_available() else 'cpu'\n",
        "\n",
        "torch.manual_seed(CONFIG.seed)\n",
        "random.seed(CONFIG.seed)\n",
        "np.random.seed(CONFIG.seed)\n",
        "torch.backends.cudnn.benchmark = True\n",
        "torch.use_deterministic_algorithms(mode=True, warn_only=True)\n",
        "\n",
        "main()"
      ]
    },
    {
      "cell_type": "markdown",
      "metadata": {
        "id": "X5mdPaxfEfPA"
      },
      "source": [
        "##### 2.2.4.3 - Photo"
      ]
    },
    {
      "cell_type": "code",
      "execution_count": null,
      "metadata": {
        "vscode": {
          "languageId": "python"
        },
        "id": "SDl_XXtGEfPB"
      },
      "outputs": [],
      "source": [
        "warnings.filterwarnings('ignore', category=UserWarning)\n",
        "\n",
        "# Parse arguments\n",
        "conf = configurations['2.2.4.3']\n",
        "\n",
        "#args = parse_arguments()\n",
        "args = argparse.Namespace(**conf)\n",
        "print(args)\n",
        "CONFIG.update(vars(args))\n",
        "\n",
        "# Setup output directory\n",
        "CONFIG.save_dir = os.path.join('record', CONFIG.experiment_name)\n",
        "os.makedirs(CONFIG.save_dir, exist_ok=True)\n",
        "\n",
        "# Setup logging\n",
        "logging.basicConfig(\n",
        "    filename=os.path.join(CONFIG.save_dir, 'log.txt'),\n",
        "    format='%(message)s',\n",
        "    level=logging.INFO,\n",
        "    filemode='a'\n",
        ")\n",
        "\n",
        "# Set experiment's device & deterministic behavior\n",
        "if CONFIG.cpu:\n",
        "    CONFIG.device = 'cpu'\n",
        "else:\n",
        "    CONFIG.device = 'cuda' if torch.cuda.is_available() else 'cpu'\n",
        "\n",
        "torch.manual_seed(CONFIG.seed)\n",
        "random.seed(CONFIG.seed)\n",
        "np.random.seed(CONFIG.seed)\n",
        "torch.backends.cudnn.benchmark = True\n",
        "torch.use_deterministic_algorithms(mode=True, warn_only=True)\n",
        "\n",
        "main()"
      ]
    },
    {
      "cell_type": "markdown",
      "metadata": {
        "id": "Oji7qIcvEfPB"
      },
      "source": [
        "#### 2.2.5 - ASH module after layer1.1.bn2 and layer2.1.bn2"
      ]
    },
    {
      "cell_type": "markdown",
      "metadata": {
        "id": "YqaRgoBYEfPB"
      },
      "source": [
        "##### 2.2.5.1 - Cartoon"
      ]
    },
    {
      "cell_type": "code",
      "execution_count": null,
      "metadata": {
        "vscode": {
          "languageId": "python"
        },
        "id": "0SJK9g_UEfPB"
      },
      "outputs": [],
      "source": [
        "warnings.filterwarnings('ignore', category=UserWarning)\n",
        "\n",
        "# Parse arguments\n",
        "conf = configurations['2.2.5.1']\n",
        "\n",
        "#args = parse_arguments()\n",
        "args = argparse.Namespace(**conf)\n",
        "print(args)\n",
        "CONFIG.update(vars(args))\n",
        "\n",
        "# Setup output directory\n",
        "CONFIG.save_dir = os.path.join('record', CONFIG.experiment_name)\n",
        "os.makedirs(CONFIG.save_dir, exist_ok=True)\n",
        "\n",
        "# Setup logging\n",
        "logging.basicConfig(\n",
        "    filename=os.path.join(CONFIG.save_dir, 'log.txt'),\n",
        "    format='%(message)s',\n",
        "    level=logging.INFO,\n",
        "    filemode='a'\n",
        ")\n",
        "\n",
        "# Set experiment's device & deterministic behavior\n",
        "if CONFIG.cpu:\n",
        "    CONFIG.device = 'cpu'\n",
        "else:\n",
        "    CONFIG.device = 'cuda' if torch.cuda.is_available() else 'cpu'\n",
        "\n",
        "torch.manual_seed(CONFIG.seed)\n",
        "random.seed(CONFIG.seed)\n",
        "np.random.seed(CONFIG.seed)\n",
        "torch.backends.cudnn.benchmark = True\n",
        "torch.use_deterministic_algorithms(mode=True, warn_only=True)\n",
        "\n",
        "main()"
      ]
    },
    {
      "cell_type": "markdown",
      "metadata": {
        "id": "KL9ALPC2EfPB"
      },
      "source": [
        "##### 2.2.5.2 - Sketch"
      ]
    },
    {
      "cell_type": "code",
      "execution_count": null,
      "metadata": {
        "vscode": {
          "languageId": "python"
        },
        "id": "xzRkETf7EfPB"
      },
      "outputs": [],
      "source": [
        "warnings.filterwarnings('ignore', category=UserWarning)\n",
        "\n",
        "# Parse arguments\n",
        "conf = configurations['2.2.5.2']\n",
        "\n",
        "#args = parse_arguments()\n",
        "args = argparse.Namespace(**conf)\n",
        "print(args)\n",
        "CONFIG.update(vars(args))\n",
        "\n",
        "# Setup output directory\n",
        "CONFIG.save_dir = os.path.join('record', CONFIG.experiment_name)\n",
        "os.makedirs(CONFIG.save_dir, exist_ok=True)\n",
        "\n",
        "# Setup logging\n",
        "logging.basicConfig(\n",
        "    filename=os.path.join(CONFIG.save_dir, 'log.txt'),\n",
        "    format='%(message)s',\n",
        "    level=logging.INFO,\n",
        "    filemode='a'\n",
        ")\n",
        "\n",
        "# Set experiment's device & deterministic behavior\n",
        "if CONFIG.cpu:\n",
        "    CONFIG.device = 'cpu'\n",
        "else:\n",
        "    CONFIG.device = 'cuda' if torch.cuda.is_available() else 'cpu'\n",
        "\n",
        "torch.manual_seed(CONFIG.seed)\n",
        "random.seed(CONFIG.seed)\n",
        "np.random.seed(CONFIG.seed)\n",
        "torch.backends.cudnn.benchmark = True\n",
        "torch.use_deterministic_algorithms(mode=True, warn_only=True)\n",
        "\n",
        "main()"
      ]
    },
    {
      "cell_type": "markdown",
      "metadata": {
        "id": "Y-5cETZJEfPB"
      },
      "source": [
        "##### 2.2.5.3 - Photo"
      ]
    },
    {
      "cell_type": "code",
      "execution_count": null,
      "metadata": {
        "vscode": {
          "languageId": "python"
        },
        "id": "a3L_gnDnEfPB"
      },
      "outputs": [],
      "source": [
        "warnings.filterwarnings('ignore', category=UserWarning)\n",
        "\n",
        "# Parse arguments\n",
        "conf = configurations['2.2.5.3']\n",
        "\n",
        "#args = parse_arguments()\n",
        "args = argparse.Namespace(**conf)\n",
        "print(args)\n",
        "CONFIG.update(vars(args))\n",
        "\n",
        "# Setup output directory\n",
        "CONFIG.save_dir = os.path.join('record', CONFIG.experiment_name)\n",
        "os.makedirs(CONFIG.save_dir, exist_ok=True)\n",
        "\n",
        "# Setup logging\n",
        "logging.basicConfig(\n",
        "    filename=os.path.join(CONFIG.save_dir, 'log.txt'),\n",
        "    format='%(message)s',\n",
        "    level=logging.INFO,\n",
        "    filemode='a'\n",
        ")\n",
        "\n",
        "# Set experiment's device & deterministic behavior\n",
        "if CONFIG.cpu:\n",
        "    CONFIG.device = 'cpu'\n",
        "else:\n",
        "    CONFIG.device = 'cuda' if torch.cuda.is_available() else 'cpu'\n",
        "\n",
        "torch.manual_seed(CONFIG.seed)\n",
        "random.seed(CONFIG.seed)\n",
        "np.random.seed(CONFIG.seed)\n",
        "torch.backends.cudnn.benchmark = True\n",
        "torch.use_deterministic_algorithms(mode=True, warn_only=True)\n",
        "\n",
        "main()"
      ]
    },
    {
      "cell_type": "markdown",
      "metadata": {
        "id": "6iSoiESfEfPB"
      },
      "source": [
        "### 2.3 - Mask Out Ratio = 0.50"
      ]
    },
    {
      "cell_type": "markdown",
      "metadata": {
        "id": "D9P1nNFWEfPB"
      },
      "source": [
        "#### 2.3.1 - ASH module after layer2.1.conv2"
      ]
    },
    {
      "cell_type": "markdown",
      "metadata": {
        "id": "-GkstqBZEfPB"
      },
      "source": [
        "##### 2.3.1.1 - Cartoon"
      ]
    },
    {
      "cell_type": "code",
      "execution_count": null,
      "metadata": {
        "vscode": {
          "languageId": "python"
        },
        "id": "wiYwSkkNEfPB"
      },
      "outputs": [],
      "source": [
        "warnings.filterwarnings('ignore', category=UserWarning)\n",
        "\n",
        "# Parse arguments\n",
        "conf = configurations['2.3.1.1']\n",
        "\n",
        "#args = parse_arguments()\n",
        "args = argparse.Namespace(**conf)\n",
        "print(args)\n",
        "CONFIG.update(vars(args))\n",
        "\n",
        "# Setup output directory\n",
        "CONFIG.save_dir = os.path.join('record', CONFIG.experiment_name)\n",
        "os.makedirs(CONFIG.save_dir, exist_ok=True)\n",
        "\n",
        "# Setup logging\n",
        "logging.basicConfig(\n",
        "    filename=os.path.join(CONFIG.save_dir, 'log.txt'),\n",
        "    format='%(message)s',\n",
        "    level=logging.INFO,\n",
        "    filemode='a'\n",
        ")\n",
        "\n",
        "# Set experiment's device & deterministic behavior\n",
        "if CONFIG.cpu:\n",
        "    CONFIG.device = 'cpu'\n",
        "else:\n",
        "    CONFIG.device = 'cuda' if torch.cuda.is_available() else 'cpu'\n",
        "\n",
        "torch.manual_seed(CONFIG.seed)\n",
        "random.seed(CONFIG.seed)\n",
        "np.random.seed(CONFIG.seed)\n",
        "torch.backends.cudnn.benchmark = True\n",
        "torch.use_deterministic_algorithms(mode=True, warn_only=True)\n",
        "\n",
        "main()"
      ]
    },
    {
      "cell_type": "markdown",
      "metadata": {
        "id": "TWOaBkr0EfPB"
      },
      "source": [
        "##### 2.3.1.2 - Sketch"
      ]
    },
    {
      "cell_type": "code",
      "execution_count": null,
      "metadata": {
        "vscode": {
          "languageId": "python"
        },
        "id": "Hv4tyRNIEfPC"
      },
      "outputs": [],
      "source": [
        "warnings.filterwarnings('ignore', category=UserWarning)\n",
        "\n",
        "# Parse arguments\n",
        "conf = configurations['2.3.1.2']\n",
        "\n",
        "#args = parse_arguments()\n",
        "args = argparse.Namespace(**conf)\n",
        "print(args)\n",
        "CONFIG.update(vars(args))\n",
        "\n",
        "# Setup output directory\n",
        "CONFIG.save_dir = os.path.join('record', CONFIG.experiment_name)\n",
        "os.makedirs(CONFIG.save_dir, exist_ok=True)\n",
        "\n",
        "# Setup logging\n",
        "logging.basicConfig(\n",
        "    filename=os.path.join(CONFIG.save_dir, 'log.txt'),\n",
        "    format='%(message)s',\n",
        "    level=logging.INFO,\n",
        "    filemode='a'\n",
        ")\n",
        "\n",
        "# Set experiment's device & deterministic behavior\n",
        "if CONFIG.cpu:\n",
        "    CONFIG.device = 'cpu'\n",
        "else:\n",
        "    CONFIG.device = 'cuda' if torch.cuda.is_available() else 'cpu'\n",
        "\n",
        "torch.manual_seed(CONFIG.seed)\n",
        "random.seed(CONFIG.seed)\n",
        "np.random.seed(CONFIG.seed)\n",
        "torch.backends.cudnn.benchmark = True\n",
        "torch.use_deterministic_algorithms(mode=True, warn_only=True)\n",
        "\n",
        "main()"
      ]
    },
    {
      "cell_type": "markdown",
      "metadata": {
        "id": "2ZxifaSnEfPC"
      },
      "source": [
        "##### 2.3.1.3 - Photo"
      ]
    },
    {
      "cell_type": "code",
      "execution_count": null,
      "metadata": {
        "vscode": {
          "languageId": "python"
        },
        "id": "yy2QIsAHEfPC"
      },
      "outputs": [],
      "source": [
        "warnings.filterwarnings('ignore', category=UserWarning)\n",
        "\n",
        "# Parse arguments\n",
        "conf = configurations['2.3.1.3']\n",
        "\n",
        "#args = parse_arguments()\n",
        "args = argparse.Namespace(**conf)\n",
        "print(args)\n",
        "CONFIG.update(vars(args))\n",
        "\n",
        "# Setup output directory\n",
        "CONFIG.save_dir = os.path.join('record', CONFIG.experiment_name)\n",
        "os.makedirs(CONFIG.save_dir, exist_ok=True)\n",
        "\n",
        "# Setup logging\n",
        "logging.basicConfig(\n",
        "    filename=os.path.join(CONFIG.save_dir, 'log.txt'),\n",
        "    format='%(message)s',\n",
        "    level=logging.INFO,\n",
        "    filemode='a'\n",
        ")\n",
        "\n",
        "# Set experiment's device & deterministic behavior\n",
        "if CONFIG.cpu:\n",
        "    CONFIG.device = 'cpu'\n",
        "else:\n",
        "    CONFIG.device = 'cuda' if torch.cuda.is_available() else 'cpu'\n",
        "\n",
        "torch.manual_seed(CONFIG.seed)\n",
        "random.seed(CONFIG.seed)\n",
        "np.random.seed(CONFIG.seed)\n",
        "torch.backends.cudnn.benchmark = True\n",
        "torch.use_deterministic_algorithms(mode=True, warn_only=True)\n",
        "\n",
        "main()"
      ]
    },
    {
      "cell_type": "markdown",
      "metadata": {
        "id": "LaSnnJMPEfPC"
      },
      "source": [
        "#### 2.3.2 - ASH module after layer1.1.bn1 and layer2.1.conv2"
      ]
    },
    {
      "cell_type": "markdown",
      "metadata": {
        "id": "a1yGj4xREfPC"
      },
      "source": [
        "##### 2.3.2.1 - Cartoon"
      ]
    },
    {
      "cell_type": "code",
      "execution_count": null,
      "metadata": {
        "vscode": {
          "languageId": "python"
        },
        "id": "qMtdmhWrEfPC"
      },
      "outputs": [],
      "source": [
        "warnings.filterwarnings('ignore', category=UserWarning)\n",
        "\n",
        "# Parse arguments\n",
        "conf = configurations['2.3.2.1']\n",
        "\n",
        "#args = parse_arguments()\n",
        "args = argparse.Namespace(**conf)\n",
        "print(args)\n",
        "CONFIG.update(vars(args))\n",
        "\n",
        "# Setup output directory\n",
        "CONFIG.save_dir = os.path.join('record', CONFIG.experiment_name)\n",
        "os.makedirs(CONFIG.save_dir, exist_ok=True)\n",
        "\n",
        "# Setup logging\n",
        "logging.basicConfig(\n",
        "    filename=os.path.join(CONFIG.save_dir, 'log.txt'),\n",
        "    format='%(message)s',\n",
        "    level=logging.INFO,\n",
        "    filemode='a'\n",
        ")\n",
        "\n",
        "# Set experiment's device & deterministic behavior\n",
        "if CONFIG.cpu:\n",
        "    CONFIG.device = 'cpu'\n",
        "else:\n",
        "    CONFIG.device = 'cuda' if torch.cuda.is_available() else 'cpu'\n",
        "\n",
        "torch.manual_seed(CONFIG.seed)\n",
        "random.seed(CONFIG.seed)\n",
        "np.random.seed(CONFIG.seed)\n",
        "torch.backends.cudnn.benchmark = True\n",
        "torch.use_deterministic_algorithms(mode=True, warn_only=True)\n",
        "\n",
        "main()"
      ]
    },
    {
      "cell_type": "markdown",
      "metadata": {
        "id": "U6omS6sREfPC"
      },
      "source": [
        "##### 2.3.2.2 - Sketch"
      ]
    },
    {
      "cell_type": "code",
      "execution_count": null,
      "metadata": {
        "vscode": {
          "languageId": "python"
        },
        "id": "zQ5eDW-FEfPD"
      },
      "outputs": [],
      "source": [
        "warnings.filterwarnings('ignore', category=UserWarning)\n",
        "\n",
        "# Parse arguments\n",
        "conf = configurations['2.3.2.2']\n",
        "\n",
        "#args = parse_arguments()\n",
        "args = argparse.Namespace(**conf)\n",
        "print(args)\n",
        "CONFIG.update(vars(args))\n",
        "\n",
        "# Setup output directory\n",
        "CONFIG.save_dir = os.path.join('record', CONFIG.experiment_name)\n",
        "os.makedirs(CONFIG.save_dir, exist_ok=True)\n",
        "\n",
        "# Setup logging\n",
        "logging.basicConfig(\n",
        "    filename=os.path.join(CONFIG.save_dir, 'log.txt'),\n",
        "    format='%(message)s',\n",
        "    level=logging.INFO,\n",
        "    filemode='a'\n",
        ")\n",
        "\n",
        "# Set experiment's device & deterministic behavior\n",
        "if CONFIG.cpu:\n",
        "    CONFIG.device = 'cpu'\n",
        "else:\n",
        "    CONFIG.device = 'cuda' if torch.cuda.is_available() else 'cpu'\n",
        "\n",
        "torch.manual_seed(CONFIG.seed)\n",
        "random.seed(CONFIG.seed)\n",
        "np.random.seed(CONFIG.seed)\n",
        "torch.backends.cudnn.benchmark = True\n",
        "torch.use_deterministic_algorithms(mode=True, warn_only=True)\n",
        "\n",
        "main()"
      ]
    },
    {
      "cell_type": "markdown",
      "metadata": {
        "id": "MB6neSMxEfPD"
      },
      "source": [
        "##### 2.3.2.3 - Photo"
      ]
    },
    {
      "cell_type": "code",
      "execution_count": null,
      "metadata": {
        "vscode": {
          "languageId": "python"
        },
        "id": "ksEAT0BiEfPD"
      },
      "outputs": [],
      "source": [
        "warnings.filterwarnings('ignore', category=UserWarning)\n",
        "\n",
        "# Parse arguments\n",
        "conf = configurations['2.3.2.3']\n",
        "\n",
        "#args = parse_arguments()\n",
        "args = argparse.Namespace(**conf)\n",
        "print(args)\n",
        "CONFIG.update(vars(args))\n",
        "\n",
        "# Setup output directory\n",
        "CONFIG.save_dir = os.path.join('record', CONFIG.experiment_name)\n",
        "os.makedirs(CONFIG.save_dir, exist_ok=True)\n",
        "\n",
        "# Setup logging\n",
        "logging.basicConfig(\n",
        "    filename=os.path.join(CONFIG.save_dir, 'log.txt'),\n",
        "    format='%(message)s',\n",
        "    level=logging.INFO,\n",
        "    filemode='a'\n",
        ")\n",
        "\n",
        "# Set experiment's device & deterministic behavior\n",
        "if CONFIG.cpu:\n",
        "    CONFIG.device = 'cpu'\n",
        "else:\n",
        "    CONFIG.device = 'cuda' if torch.cuda.is_available() else 'cpu'\n",
        "\n",
        "torch.manual_seed(CONFIG.seed)\n",
        "random.seed(CONFIG.seed)\n",
        "np.random.seed(CONFIG.seed)\n",
        "torch.backends.cudnn.benchmark = True\n",
        "torch.use_deterministic_algorithms(mode=True, warn_only=True)\n",
        "\n",
        "main()"
      ]
    },
    {
      "cell_type": "markdown",
      "metadata": {
        "id": "vW_69U58EfPD"
      },
      "source": [
        "#### 2.3.3 - ASH module after layer1.1.conv1"
      ]
    },
    {
      "cell_type": "markdown",
      "metadata": {
        "id": "7_MVp72mEfPD"
      },
      "source": [
        "##### 2.3.3.1 - Cartoon"
      ]
    },
    {
      "cell_type": "code",
      "execution_count": null,
      "metadata": {
        "vscode": {
          "languageId": "python"
        },
        "id": "uxqir8z-EfPD"
      },
      "outputs": [],
      "source": [
        "warnings.filterwarnings('ignore', category=UserWarning)\n",
        "\n",
        "# Parse arguments\n",
        "conf = configurations['2.3.3.1']\n",
        "\n",
        "#args = parse_arguments()\n",
        "args = argparse.Namespace(**conf)\n",
        "print(args)\n",
        "CONFIG.update(vars(args))\n",
        "\n",
        "# Setup output directory\n",
        "CONFIG.save_dir = os.path.join('record', CONFIG.experiment_name)\n",
        "os.makedirs(CONFIG.save_dir, exist_ok=True)\n",
        "\n",
        "# Setup logging\n",
        "logging.basicConfig(\n",
        "    filename=os.path.join(CONFIG.save_dir, 'log.txt'),\n",
        "    format='%(message)s',\n",
        "    level=logging.INFO,\n",
        "    filemode='a'\n",
        ")\n",
        "\n",
        "# Set experiment's device & deterministic behavior\n",
        "if CONFIG.cpu:\n",
        "    CONFIG.device = 'cpu'\n",
        "else:\n",
        "    CONFIG.device = 'cuda' if torch.cuda.is_available() else 'cpu'\n",
        "\n",
        "torch.manual_seed(CONFIG.seed)\n",
        "random.seed(CONFIG.seed)\n",
        "np.random.seed(CONFIG.seed)\n",
        "torch.backends.cudnn.benchmark = True\n",
        "torch.use_deterministic_algorithms(mode=True, warn_only=True)\n",
        "\n",
        "main()"
      ]
    },
    {
      "cell_type": "markdown",
      "metadata": {
        "id": "umgmS81MEfPD"
      },
      "source": [
        "##### 2.3.3.2 - Sketch"
      ]
    },
    {
      "cell_type": "code",
      "execution_count": null,
      "metadata": {
        "vscode": {
          "languageId": "python"
        },
        "id": "4EstENx6EfPE"
      },
      "outputs": [],
      "source": [
        "warnings.filterwarnings('ignore', category=UserWarning)\n",
        "\n",
        "# Parse arguments\n",
        "conf = configurations['2.3.3.2']\n",
        "\n",
        "#args = parse_arguments()\n",
        "args = argparse.Namespace(**conf)\n",
        "print(args)\n",
        "CONFIG.update(vars(args))\n",
        "\n",
        "# Setup output directory\n",
        "CONFIG.save_dir = os.path.join('record', CONFIG.experiment_name)\n",
        "os.makedirs(CONFIG.save_dir, exist_ok=True)\n",
        "\n",
        "# Setup logging\n",
        "logging.basicConfig(\n",
        "    filename=os.path.join(CONFIG.save_dir, 'log.txt'),\n",
        "    format='%(message)s',\n",
        "    level=logging.INFO,\n",
        "    filemode='a'\n",
        ")\n",
        "\n",
        "# Set experiment's device & deterministic behavior\n",
        "if CONFIG.cpu:\n",
        "    CONFIG.device = 'cpu'\n",
        "else:\n",
        "    CONFIG.device = 'cuda' if torch.cuda.is_available() else 'cpu'\n",
        "\n",
        "torch.manual_seed(CONFIG.seed)\n",
        "random.seed(CONFIG.seed)\n",
        "np.random.seed(CONFIG.seed)\n",
        "torch.backends.cudnn.benchmark = True\n",
        "torch.use_deterministic_algorithms(mode=True, warn_only=True)\n",
        "\n",
        "main()"
      ]
    },
    {
      "cell_type": "markdown",
      "metadata": {
        "id": "88ZJqyz2EfPE"
      },
      "source": [
        "##### 2.3.3.3 - Photo"
      ]
    },
    {
      "cell_type": "code",
      "execution_count": null,
      "metadata": {
        "vscode": {
          "languageId": "python"
        },
        "id": "9IvKcTOuEfPE"
      },
      "outputs": [],
      "source": [
        "warnings.filterwarnings('ignore', category=UserWarning)\n",
        "\n",
        "# Parse arguments\n",
        "conf = configurations['2.3.3.3']\n",
        "\n",
        "#args = parse_arguments()\n",
        "args = argparse.Namespace(**conf)\n",
        "print(args)\n",
        "CONFIG.update(vars(args))\n",
        "\n",
        "# Setup output directory\n",
        "CONFIG.save_dir = os.path.join('record', CONFIG.experiment_name)\n",
        "os.makedirs(CONFIG.save_dir, exist_ok=True)\n",
        "\n",
        "# Setup logging\n",
        "logging.basicConfig(\n",
        "    filename=os.path.join(CONFIG.save_dir, 'log.txt'),\n",
        "    format='%(message)s',\n",
        "    level=logging.INFO,\n",
        "    filemode='a'\n",
        ")\n",
        "\n",
        "# Set experiment's device & deterministic behavior\n",
        "if CONFIG.cpu:\n",
        "    CONFIG.device = 'cpu'\n",
        "else:\n",
        "    CONFIG.device = 'cuda' if torch.cuda.is_available() else 'cpu'\n",
        "\n",
        "torch.manual_seed(CONFIG.seed)\n",
        "random.seed(CONFIG.seed)\n",
        "np.random.seed(CONFIG.seed)\n",
        "torch.backends.cudnn.benchmark = True\n",
        "torch.use_deterministic_algorithms(mode=True, warn_only=True)\n",
        "\n",
        "main()"
      ]
    },
    {
      "cell_type": "markdown",
      "metadata": {
        "id": "Vn19ykqpEfPE"
      },
      "source": [
        "#### 2.3.4 - ASH module after layer1.1.bn2"
      ]
    },
    {
      "cell_type": "markdown",
      "metadata": {
        "id": "yJt6hvY5EfPE"
      },
      "source": [
        "##### 2.3.4.1 - Cartoon"
      ]
    },
    {
      "cell_type": "code",
      "execution_count": null,
      "metadata": {
        "vscode": {
          "languageId": "python"
        },
        "id": "WB6v8uJDEfPE"
      },
      "outputs": [],
      "source": [
        "warnings.filterwarnings('ignore', category=UserWarning)\n",
        "\n",
        "# Parse arguments\n",
        "conf = configurations['2.3.4.1']\n",
        "\n",
        "#args = parse_arguments()\n",
        "args = argparse.Namespace(**conf)\n",
        "print(args)\n",
        "CONFIG.update(vars(args))\n",
        "\n",
        "# Setup output directory\n",
        "CONFIG.save_dir = os.path.join('record', CONFIG.experiment_name)\n",
        "os.makedirs(CONFIG.save_dir, exist_ok=True)\n",
        "\n",
        "# Setup logging\n",
        "logging.basicConfig(\n",
        "    filename=os.path.join(CONFIG.save_dir, 'log.txt'),\n",
        "    format='%(message)s',\n",
        "    level=logging.INFO,\n",
        "    filemode='a'\n",
        ")\n",
        "\n",
        "# Set experiment's device & deterministic behavior\n",
        "if CONFIG.cpu:\n",
        "    CONFIG.device = 'cpu'\n",
        "else:\n",
        "    CONFIG.device = 'cuda' if torch.cuda.is_available() else 'cpu'\n",
        "\n",
        "torch.manual_seed(CONFIG.seed)\n",
        "random.seed(CONFIG.seed)\n",
        "np.random.seed(CONFIG.seed)\n",
        "torch.backends.cudnn.benchmark = True\n",
        "torch.use_deterministic_algorithms(mode=True, warn_only=True)\n",
        "\n",
        "main()"
      ]
    },
    {
      "cell_type": "markdown",
      "metadata": {
        "id": "TkeyEEO0EfPE"
      },
      "source": [
        "##### 2.3.4.2 - Sketch"
      ]
    },
    {
      "cell_type": "code",
      "execution_count": null,
      "metadata": {
        "vscode": {
          "languageId": "python"
        },
        "id": "Nxj7E0LeEfPF"
      },
      "outputs": [],
      "source": [
        "warnings.filterwarnings('ignore', category=UserWarning)\n",
        "\n",
        "# Parse arguments\n",
        "conf = configurations['2.3.4.2']\n",
        "\n",
        "#args = parse_arguments()\n",
        "args = argparse.Namespace(**conf)\n",
        "print(args)\n",
        "CONFIG.update(vars(args))\n",
        "\n",
        "# Setup output directory\n",
        "CONFIG.save_dir = os.path.join('record', CONFIG.experiment_name)\n",
        "os.makedirs(CONFIG.save_dir, exist_ok=True)\n",
        "\n",
        "# Setup logging\n",
        "logging.basicConfig(\n",
        "    filename=os.path.join(CONFIG.save_dir, 'log.txt'),\n",
        "    format='%(message)s',\n",
        "    level=logging.INFO,\n",
        "    filemode='a'\n",
        ")\n",
        "\n",
        "# Set experiment's device & deterministic behavior\n",
        "if CONFIG.cpu:\n",
        "    CONFIG.device = 'cpu'\n",
        "else:\n",
        "    CONFIG.device = 'cuda' if torch.cuda.is_available() else 'cpu'\n",
        "\n",
        "torch.manual_seed(CONFIG.seed)\n",
        "random.seed(CONFIG.seed)\n",
        "np.random.seed(CONFIG.seed)\n",
        "torch.backends.cudnn.benchmark = True\n",
        "torch.use_deterministic_algorithms(mode=True, warn_only=True)\n",
        "\n",
        "main()"
      ]
    },
    {
      "cell_type": "markdown",
      "metadata": {
        "id": "QO4yGrp_EfPF"
      },
      "source": [
        "##### 2.3.4.3 - Photo"
      ]
    },
    {
      "cell_type": "code",
      "execution_count": null,
      "metadata": {
        "vscode": {
          "languageId": "python"
        },
        "id": "YklDaDZxEfPF"
      },
      "outputs": [],
      "source": [
        "warnings.filterwarnings('ignore', category=UserWarning)\n",
        "\n",
        "# Parse arguments\n",
        "conf = configurations['2.3.4.3']\n",
        "\n",
        "#args = parse_arguments()\n",
        "args = argparse.Namespace(**conf)\n",
        "print(args)\n",
        "CONFIG.update(vars(args))\n",
        "\n",
        "# Setup output directory\n",
        "CONFIG.save_dir = os.path.join('record', CONFIG.experiment_name)\n",
        "os.makedirs(CONFIG.save_dir, exist_ok=True)\n",
        "\n",
        "# Setup logging\n",
        "logging.basicConfig(\n",
        "    filename=os.path.join(CONFIG.save_dir, 'log.txt'),\n",
        "    format='%(message)s',\n",
        "    level=logging.INFO,\n",
        "    filemode='a'\n",
        ")\n",
        "\n",
        "# Set experiment's device & deterministic behavior\n",
        "if CONFIG.cpu:\n",
        "    CONFIG.device = 'cpu'\n",
        "else:\n",
        "    CONFIG.device = 'cuda' if torch.cuda.is_available() else 'cpu'\n",
        "\n",
        "torch.manual_seed(CONFIG.seed)\n",
        "random.seed(CONFIG.seed)\n",
        "np.random.seed(CONFIG.seed)\n",
        "torch.backends.cudnn.benchmark = True\n",
        "torch.use_deterministic_algorithms(mode=True, warn_only=True)\n",
        "\n",
        "main()"
      ]
    },
    {
      "cell_type": "markdown",
      "metadata": {
        "id": "6pl7GEB9EfPF"
      },
      "source": [
        "#### 2.3.5 - ASH module after layer1.1.bn2 and layer2.1.bn2"
      ]
    },
    {
      "cell_type": "markdown",
      "metadata": {
        "id": "2wVyimVMEfPF"
      },
      "source": [
        "##### 2.3.5.1 - Cartoon"
      ]
    },
    {
      "cell_type": "code",
      "execution_count": null,
      "metadata": {
        "vscode": {
          "languageId": "python"
        },
        "id": "z6Ys9GQvEfPF"
      },
      "outputs": [],
      "source": [
        "warnings.filterwarnings('ignore', category=UserWarning)\n",
        "\n",
        "# Parse arguments\n",
        "conf = configurations['2.3.5.1']\n",
        "\n",
        "#args = parse_arguments()\n",
        "args = argparse.Namespace(**conf)\n",
        "print(args)\n",
        "CONFIG.update(vars(args))\n",
        "\n",
        "# Setup output directory\n",
        "CONFIG.save_dir = os.path.join('record', CONFIG.experiment_name)\n",
        "os.makedirs(CONFIG.save_dir, exist_ok=True)\n",
        "\n",
        "# Setup logging\n",
        "logging.basicConfig(\n",
        "    filename=os.path.join(CONFIG.save_dir, 'log.txt'),\n",
        "    format='%(message)s',\n",
        "    level=logging.INFO,\n",
        "    filemode='a'\n",
        ")\n",
        "\n",
        "# Set experiment's device & deterministic behavior\n",
        "if CONFIG.cpu:\n",
        "    CONFIG.device = 'cpu'\n",
        "else:\n",
        "    CONFIG.device = 'cuda' if torch.cuda.is_available() else 'cpu'\n",
        "\n",
        "torch.manual_seed(CONFIG.seed)\n",
        "random.seed(CONFIG.seed)\n",
        "np.random.seed(CONFIG.seed)\n",
        "torch.backends.cudnn.benchmark = True\n",
        "torch.use_deterministic_algorithms(mode=True, warn_only=True)\n",
        "\n",
        "main()"
      ]
    },
    {
      "cell_type": "markdown",
      "metadata": {
        "id": "aiYtsYUuEfPG"
      },
      "source": [
        "##### 2.3.5.2 - Sketch"
      ]
    },
    {
      "cell_type": "code",
      "execution_count": null,
      "metadata": {
        "vscode": {
          "languageId": "python"
        },
        "id": "XxRtqrFEEfPG"
      },
      "outputs": [],
      "source": [
        "warnings.filterwarnings('ignore', category=UserWarning)\n",
        "\n",
        "# Parse arguments\n",
        "conf = configurations['2.3.5.2']\n",
        "\n",
        "#args = parse_arguments()\n",
        "args = argparse.Namespace(**conf)\n",
        "print(args)\n",
        "CONFIG.update(vars(args))\n",
        "\n",
        "# Setup output directory\n",
        "CONFIG.save_dir = os.path.join('record', CONFIG.experiment_name)\n",
        "os.makedirs(CONFIG.save_dir, exist_ok=True)\n",
        "\n",
        "# Setup logging\n",
        "logging.basicConfig(\n",
        "    filename=os.path.join(CONFIG.save_dir, 'log.txt'),\n",
        "    format='%(message)s',\n",
        "    level=logging.INFO,\n",
        "    filemode='a'\n",
        ")\n",
        "\n",
        "# Set experiment's device & deterministic behavior\n",
        "if CONFIG.cpu:\n",
        "    CONFIG.device = 'cpu'\n",
        "else:\n",
        "    CONFIG.device = 'cuda' if torch.cuda.is_available() else 'cpu'\n",
        "\n",
        "torch.manual_seed(CONFIG.seed)\n",
        "random.seed(CONFIG.seed)\n",
        "np.random.seed(CONFIG.seed)\n",
        "torch.backends.cudnn.benchmark = True\n",
        "torch.use_deterministic_algorithms(mode=True, warn_only=True)\n",
        "\n",
        "main()"
      ]
    },
    {
      "cell_type": "markdown",
      "metadata": {
        "id": "Ro42ZcfPEfPG"
      },
      "source": [
        "##### 2.3.5.3 - Photo"
      ]
    },
    {
      "cell_type": "code",
      "execution_count": null,
      "metadata": {
        "vscode": {
          "languageId": "python"
        },
        "id": "FbpfHVfnEfPG"
      },
      "outputs": [],
      "source": [
        "warnings.filterwarnings('ignore', category=UserWarning)\n",
        "\n",
        "# Parse arguments\n",
        "conf = configurations['2.3.5.3']\n",
        "\n",
        "#args = parse_arguments()\n",
        "args = argparse.Namespace(**conf)\n",
        "print(args)\n",
        "CONFIG.update(vars(args))\n",
        "\n",
        "# Setup output directory\n",
        "CONFIG.save_dir = os.path.join('record', CONFIG.experiment_name)\n",
        "os.makedirs(CONFIG.save_dir, exist_ok=True)\n",
        "\n",
        "# Setup logging\n",
        "logging.basicConfig(\n",
        "    filename=os.path.join(CONFIG.save_dir, 'log.txt'),\n",
        "    format='%(message)s',\n",
        "    level=logging.INFO,\n",
        "    filemode='a'\n",
        ")\n",
        "\n",
        "# Set experiment's device & deterministic behavior\n",
        "if CONFIG.cpu:\n",
        "    CONFIG.device = 'cpu'\n",
        "else:\n",
        "    CONFIG.device = 'cuda' if torch.cuda.is_available() else 'cpu'\n",
        "\n",
        "torch.manual_seed(CONFIG.seed)\n",
        "random.seed(CONFIG.seed)\n",
        "np.random.seed(CONFIG.seed)\n",
        "torch.backends.cudnn.benchmark = True\n",
        "torch.use_deterministic_algorithms(mode=True, warn_only=True)\n",
        "\n",
        "main()"
      ]
    },
    {
      "cell_type": "markdown",
      "metadata": {
        "id": "JE0BtfzNEfPG"
      },
      "source": [
        "### 2.4 - Mask Out Ratio = 0.75"
      ]
    },
    {
      "cell_type": "markdown",
      "metadata": {
        "id": "J0AXETyEEfPH"
      },
      "source": [
        "#### 2.4.1 - ASH module after layer2.1.conv2"
      ]
    },
    {
      "cell_type": "markdown",
      "metadata": {
        "id": "JpYaohdxEfPH"
      },
      "source": [
        "##### 2.4.1.1 - Cartoon"
      ]
    },
    {
      "cell_type": "code",
      "execution_count": null,
      "metadata": {
        "vscode": {
          "languageId": "python"
        },
        "id": "Vly_NRV-EfPH"
      },
      "outputs": [],
      "source": [
        "warnings.filterwarnings('ignore', category=UserWarning)\n",
        "\n",
        "# Parse arguments\n",
        "conf = configurations['2.4.1.1']\n",
        "\n",
        "#args = parse_arguments()\n",
        "args = argparse.Namespace(**conf)\n",
        "print(args)\n",
        "CONFIG.update(vars(args))\n",
        "\n",
        "# Setup output directory\n",
        "CONFIG.save_dir = os.path.join('record', CONFIG.experiment_name)\n",
        "os.makedirs(CONFIG.save_dir, exist_ok=True)\n",
        "\n",
        "# Setup logging\n",
        "logging.basicConfig(\n",
        "    filename=os.path.join(CONFIG.save_dir, 'log.txt'),\n",
        "    format='%(message)s',\n",
        "    level=logging.INFO,\n",
        "    filemode='a'\n",
        ")\n",
        "\n",
        "# Set experiment's device & deterministic behavior\n",
        "if CONFIG.cpu:\n",
        "    CONFIG.device = 'cpu'\n",
        "else:\n",
        "    CONFIG.device = 'cuda' if torch.cuda.is_available() else 'cpu'\n",
        "\n",
        "torch.manual_seed(CONFIG.seed)\n",
        "random.seed(CONFIG.seed)\n",
        "np.random.seed(CONFIG.seed)\n",
        "torch.backends.cudnn.benchmark = True\n",
        "torch.use_deterministic_algorithms(mode=True, warn_only=True)\n",
        "\n",
        "main()"
      ]
    },
    {
      "cell_type": "markdown",
      "metadata": {
        "id": "qzDlID4PEfPH"
      },
      "source": [
        "##### 2.4.1.2 - Sketch"
      ]
    },
    {
      "cell_type": "code",
      "execution_count": null,
      "metadata": {
        "vscode": {
          "languageId": "python"
        },
        "id": "MS-t-T_6EfPH"
      },
      "outputs": [],
      "source": [
        "warnings.filterwarnings('ignore', category=UserWarning)\n",
        "\n",
        "# Parse arguments\n",
        "conf = configurations['2.4.1.2']\n",
        "\n",
        "#args = parse_arguments()\n",
        "args = argparse.Namespace(**conf)\n",
        "print(args)\n",
        "CONFIG.update(vars(args))\n",
        "\n",
        "# Setup output directory\n",
        "CONFIG.save_dir = os.path.join('record', CONFIG.experiment_name)\n",
        "os.makedirs(CONFIG.save_dir, exist_ok=True)\n",
        "\n",
        "# Setup logging\n",
        "logging.basicConfig(\n",
        "    filename=os.path.join(CONFIG.save_dir, 'log.txt'),\n",
        "    format='%(message)s',\n",
        "    level=logging.INFO,\n",
        "    filemode='a'\n",
        ")\n",
        "\n",
        "# Set experiment's device & deterministic behavior\n",
        "if CONFIG.cpu:\n",
        "    CONFIG.device = 'cpu'\n",
        "else:\n",
        "    CONFIG.device = 'cuda' if torch.cuda.is_available() else 'cpu'\n",
        "\n",
        "torch.manual_seed(CONFIG.seed)\n",
        "random.seed(CONFIG.seed)\n",
        "np.random.seed(CONFIG.seed)\n",
        "torch.backends.cudnn.benchmark = True\n",
        "torch.use_deterministic_algorithms(mode=True, warn_only=True)\n",
        "\n",
        "main()"
      ]
    },
    {
      "cell_type": "markdown",
      "metadata": {
        "id": "Hxq04T6NEfPH"
      },
      "source": [
        "##### 2.4.1.3 - Photo"
      ]
    },
    {
      "cell_type": "code",
      "execution_count": null,
      "metadata": {
        "vscode": {
          "languageId": "python"
        },
        "id": "kNC2c3iGEfPH"
      },
      "outputs": [],
      "source": [
        "warnings.filterwarnings('ignore', category=UserWarning)\n",
        "\n",
        "# Parse arguments\n",
        "conf = configurations['2.4.1.3']\n",
        "\n",
        "#args = parse_arguments()\n",
        "args = argparse.Namespace(**conf)\n",
        "print(args)\n",
        "CONFIG.update(vars(args))\n",
        "\n",
        "# Setup output directory\n",
        "CONFIG.save_dir = os.path.join('record', CONFIG.experiment_name)\n",
        "os.makedirs(CONFIG.save_dir, exist_ok=True)\n",
        "\n",
        "# Setup logging\n",
        "logging.basicConfig(\n",
        "    filename=os.path.join(CONFIG.save_dir, 'log.txt'),\n",
        "    format='%(message)s',\n",
        "    level=logging.INFO,\n",
        "    filemode='a'\n",
        ")\n",
        "\n",
        "# Set experiment's device & deterministic behavior\n",
        "if CONFIG.cpu:\n",
        "    CONFIG.device = 'cpu'\n",
        "else:\n",
        "    CONFIG.device = 'cuda' if torch.cuda.is_available() else 'cpu'\n",
        "\n",
        "torch.manual_seed(CONFIG.seed)\n",
        "random.seed(CONFIG.seed)\n",
        "np.random.seed(CONFIG.seed)\n",
        "torch.backends.cudnn.benchmark = True\n",
        "torch.use_deterministic_algorithms(mode=True, warn_only=True)\n",
        "\n",
        "main()"
      ]
    },
    {
      "cell_type": "markdown",
      "metadata": {
        "id": "PsX8Bo9kEfPI"
      },
      "source": [
        "#### 2.4.2 - ASH module after layer1.1.bn1 and layer2.1.conv2"
      ]
    },
    {
      "cell_type": "markdown",
      "metadata": {
        "id": "VgKJmoASEfPI"
      },
      "source": [
        "##### 2.4.2.1 - Cartoon"
      ]
    },
    {
      "cell_type": "code",
      "execution_count": null,
      "metadata": {
        "vscode": {
          "languageId": "python"
        },
        "id": "NwhxQEBOEfPI"
      },
      "outputs": [],
      "source": [
        "warnings.filterwarnings('ignore', category=UserWarning)\n",
        "\n",
        "# Parse arguments\n",
        "conf = configurations['2.4.2.1']\n",
        "\n",
        "#args = parse_arguments()\n",
        "args = argparse.Namespace(**conf)\n",
        "print(args)\n",
        "CONFIG.update(vars(args))\n",
        "\n",
        "# Setup output directory\n",
        "CONFIG.save_dir = os.path.join('record', CONFIG.experiment_name)\n",
        "os.makedirs(CONFIG.save_dir, exist_ok=True)\n",
        "\n",
        "# Setup logging\n",
        "logging.basicConfig(\n",
        "    filename=os.path.join(CONFIG.save_dir, 'log.txt'),\n",
        "    format='%(message)s',\n",
        "    level=logging.INFO,\n",
        "    filemode='a'\n",
        ")\n",
        "\n",
        "# Set experiment's device & deterministic behavior\n",
        "if CONFIG.cpu:\n",
        "    CONFIG.device = 'cpu'\n",
        "else:\n",
        "    CONFIG.device = 'cuda' if torch.cuda.is_available() else 'cpu'\n",
        "\n",
        "torch.manual_seed(CONFIG.seed)\n",
        "random.seed(CONFIG.seed)\n",
        "np.random.seed(CONFIG.seed)\n",
        "torch.backends.cudnn.benchmark = True\n",
        "torch.use_deterministic_algorithms(mode=True, warn_only=True)\n",
        "\n",
        "main()"
      ]
    },
    {
      "cell_type": "markdown",
      "metadata": {
        "id": "1T--EUxSEfPI"
      },
      "source": [
        "##### 2.4.2.2 - Sketch"
      ]
    },
    {
      "cell_type": "code",
      "execution_count": null,
      "metadata": {
        "vscode": {
          "languageId": "python"
        },
        "id": "BTarRS66EfPI"
      },
      "outputs": [],
      "source": [
        "warnings.filterwarnings('ignore', category=UserWarning)\n",
        "\n",
        "# Parse arguments\n",
        "conf = configurations['2.4.2.2']\n",
        "\n",
        "#args = parse_arguments()\n",
        "args = argparse.Namespace(**conf)\n",
        "print(args)\n",
        "CONFIG.update(vars(args))\n",
        "\n",
        "# Setup output directory\n",
        "CONFIG.save_dir = os.path.join('record', CONFIG.experiment_name)\n",
        "os.makedirs(CONFIG.save_dir, exist_ok=True)\n",
        "\n",
        "# Setup logging\n",
        "logging.basicConfig(\n",
        "    filename=os.path.join(CONFIG.save_dir, 'log.txt'),\n",
        "    format='%(message)s',\n",
        "    level=logging.INFO,\n",
        "    filemode='a'\n",
        ")\n",
        "\n",
        "# Set experiment's device & deterministic behavior\n",
        "if CONFIG.cpu:\n",
        "    CONFIG.device = 'cpu'\n",
        "else:\n",
        "    CONFIG.device = 'cuda' if torch.cuda.is_available() else 'cpu'\n",
        "\n",
        "torch.manual_seed(CONFIG.seed)\n",
        "random.seed(CONFIG.seed)\n",
        "np.random.seed(CONFIG.seed)\n",
        "torch.backends.cudnn.benchmark = True\n",
        "torch.use_deterministic_algorithms(mode=True, warn_only=True)\n",
        "\n",
        "main()"
      ]
    },
    {
      "cell_type": "markdown",
      "metadata": {
        "id": "uQixmrY-EfPI"
      },
      "source": [
        "##### 2.4.2.3 - Photo"
      ]
    },
    {
      "cell_type": "code",
      "execution_count": null,
      "metadata": {
        "vscode": {
          "languageId": "python"
        },
        "id": "HD-mKiSYEfPJ"
      },
      "outputs": [],
      "source": [
        "warnings.filterwarnings('ignore', category=UserWarning)\n",
        "\n",
        "# Parse arguments\n",
        "conf = configurations['2.4.2.3']\n",
        "\n",
        "#args = parse_arguments()\n",
        "args = argparse.Namespace(**conf)\n",
        "print(args)\n",
        "CONFIG.update(vars(args))\n",
        "\n",
        "# Setup output directory\n",
        "CONFIG.save_dir = os.path.join('record', CONFIG.experiment_name)\n",
        "os.makedirs(CONFIG.save_dir, exist_ok=True)\n",
        "\n",
        "# Setup logging\n",
        "logging.basicConfig(\n",
        "    filename=os.path.join(CONFIG.save_dir, 'log.txt'),\n",
        "    format='%(message)s',\n",
        "    level=logging.INFO,\n",
        "    filemode='a'\n",
        ")\n",
        "\n",
        "# Set experiment's device & deterministic behavior\n",
        "if CONFIG.cpu:\n",
        "    CONFIG.device = 'cpu'\n",
        "else:\n",
        "    CONFIG.device = 'cuda' if torch.cuda.is_available() else 'cpu'\n",
        "\n",
        "torch.manual_seed(CONFIG.seed)\n",
        "random.seed(CONFIG.seed)\n",
        "np.random.seed(CONFIG.seed)\n",
        "torch.backends.cudnn.benchmark = True\n",
        "torch.use_deterministic_algorithms(mode=True, warn_only=True)\n",
        "\n",
        "main()"
      ]
    },
    {
      "cell_type": "markdown",
      "metadata": {
        "id": "8Xbev4K-EfPJ"
      },
      "source": [
        "#### 2.4.3 - ASH module after layer1.1.conv1"
      ]
    },
    {
      "cell_type": "markdown",
      "metadata": {
        "id": "JurnCVu0EfPJ"
      },
      "source": [
        "##### 2.4.3.1 - Cartoon"
      ]
    },
    {
      "cell_type": "code",
      "execution_count": null,
      "metadata": {
        "vscode": {
          "languageId": "python"
        },
        "id": "LrF_u1UmEfPJ"
      },
      "outputs": [],
      "source": [
        "warnings.filterwarnings('ignore', category=UserWarning)\n",
        "\n",
        "# Parse arguments\n",
        "conf = configurations['2.4.3.1']\n",
        "\n",
        "#args = parse_arguments()\n",
        "args = argparse.Namespace(**conf)\n",
        "print(args)\n",
        "CONFIG.update(vars(args))\n",
        "\n",
        "# Setup output directory\n",
        "CONFIG.save_dir = os.path.join('record', CONFIG.experiment_name)\n",
        "os.makedirs(CONFIG.save_dir, exist_ok=True)\n",
        "\n",
        "# Setup logging\n",
        "logging.basicConfig(\n",
        "    filename=os.path.join(CONFIG.save_dir, 'log.txt'),\n",
        "    format='%(message)s',\n",
        "    level=logging.INFO,\n",
        "    filemode='a'\n",
        ")\n",
        "\n",
        "# Set experiment's device & deterministic behavior\n",
        "if CONFIG.cpu:\n",
        "    CONFIG.device = 'cpu'\n",
        "else:\n",
        "    CONFIG.device = 'cuda' if torch.cuda.is_available() else 'cpu'\n",
        "\n",
        "torch.manual_seed(CONFIG.seed)\n",
        "random.seed(CONFIG.seed)\n",
        "np.random.seed(CONFIG.seed)\n",
        "torch.backends.cudnn.benchmark = True\n",
        "torch.use_deterministic_algorithms(mode=True, warn_only=True)\n",
        "\n",
        "main()"
      ]
    },
    {
      "cell_type": "markdown",
      "metadata": {
        "id": "utjuZJomEfPJ"
      },
      "source": [
        "##### 2.4.3.2 - Sketch"
      ]
    },
    {
      "cell_type": "code",
      "execution_count": null,
      "metadata": {
        "vscode": {
          "languageId": "python"
        },
        "id": "pdpBg3cyEfPJ"
      },
      "outputs": [],
      "source": [
        "warnings.filterwarnings('ignore', category=UserWarning)\n",
        "\n",
        "# Parse arguments\n",
        "conf = configurations['2.4.3.2']\n",
        "\n",
        "#args = parse_arguments()\n",
        "args = argparse.Namespace(**conf)\n",
        "print(args)\n",
        "CONFIG.update(vars(args))\n",
        "\n",
        "# Setup output directory\n",
        "CONFIG.save_dir = os.path.join('record', CONFIG.experiment_name)\n",
        "os.makedirs(CONFIG.save_dir, exist_ok=True)\n",
        "\n",
        "# Setup logging\n",
        "logging.basicConfig(\n",
        "    filename=os.path.join(CONFIG.save_dir, 'log.txt'),\n",
        "    format='%(message)s',\n",
        "    level=logging.INFO,\n",
        "    filemode='a'\n",
        ")\n",
        "\n",
        "# Set experiment's device & deterministic behavior\n",
        "if CONFIG.cpu:\n",
        "    CONFIG.device = 'cpu'\n",
        "else:\n",
        "    CONFIG.device = 'cuda' if torch.cuda.is_available() else 'cpu'\n",
        "\n",
        "torch.manual_seed(CONFIG.seed)\n",
        "random.seed(CONFIG.seed)\n",
        "np.random.seed(CONFIG.seed)\n",
        "torch.backends.cudnn.benchmark = True\n",
        "torch.use_deterministic_algorithms(mode=True, warn_only=True)\n",
        "\n",
        "main()"
      ]
    },
    {
      "cell_type": "markdown",
      "metadata": {
        "id": "UL6KHQrEEfPJ"
      },
      "source": [
        "##### 2.4.3.3 - Photo"
      ]
    },
    {
      "cell_type": "code",
      "execution_count": null,
      "metadata": {
        "vscode": {
          "languageId": "python"
        },
        "id": "DXGp_UltEfPK"
      },
      "outputs": [],
      "source": [
        "warnings.filterwarnings('ignore', category=UserWarning)\n",
        "\n",
        "# Parse arguments\n",
        "conf = configurations['2.4.3.3']\n",
        "\n",
        "#args = parse_arguments()\n",
        "args = argparse.Namespace(**conf)\n",
        "print(args)\n",
        "CONFIG.update(vars(args))\n",
        "\n",
        "# Setup output directory\n",
        "CONFIG.save_dir = os.path.join('record', CONFIG.experiment_name)\n",
        "os.makedirs(CONFIG.save_dir, exist_ok=True)\n",
        "\n",
        "# Setup logging\n",
        "logging.basicConfig(\n",
        "    filename=os.path.join(CONFIG.save_dir, 'log.txt'),\n",
        "    format='%(message)s',\n",
        "    level=logging.INFO,\n",
        "    filemode='a'\n",
        ")\n",
        "\n",
        "# Set experiment's device & deterministic behavior\n",
        "if CONFIG.cpu:\n",
        "    CONFIG.device = 'cpu'\n",
        "else:\n",
        "    CONFIG.device = 'cuda' if torch.cuda.is_available() else 'cpu'\n",
        "\n",
        "torch.manual_seed(CONFIG.seed)\n",
        "random.seed(CONFIG.seed)\n",
        "np.random.seed(CONFIG.seed)\n",
        "torch.backends.cudnn.benchmark = True\n",
        "torch.use_deterministic_algorithms(mode=True, warn_only=True)\n",
        "\n",
        "main()"
      ]
    },
    {
      "cell_type": "markdown",
      "metadata": {
        "id": "54KmNT8ZEfPK"
      },
      "source": [
        "#### 2.4.4 - ASH module after layer1.1.bn2"
      ]
    },
    {
      "cell_type": "markdown",
      "metadata": {
        "id": "Z7_zSMJPEfPK"
      },
      "source": [
        "##### 2.4.4.1 - Cartoon"
      ]
    },
    {
      "cell_type": "code",
      "execution_count": null,
      "metadata": {
        "vscode": {
          "languageId": "python"
        },
        "id": "xhCvFg-oEfPK"
      },
      "outputs": [],
      "source": [
        "warnings.filterwarnings('ignore', category=UserWarning)\n",
        "\n",
        "# Parse arguments\n",
        "conf = configurations['2.4.4.1']\n",
        "\n",
        "#args = parse_arguments()\n",
        "args = argparse.Namespace(**conf)\n",
        "print(args)\n",
        "CONFIG.update(vars(args))\n",
        "\n",
        "# Setup output directory\n",
        "CONFIG.save_dir = os.path.join('record', CONFIG.experiment_name)\n",
        "os.makedirs(CONFIG.save_dir, exist_ok=True)\n",
        "\n",
        "# Setup logging\n",
        "logging.basicConfig(\n",
        "    filename=os.path.join(CONFIG.save_dir, 'log.txt'),\n",
        "    format='%(message)s',\n",
        "    level=logging.INFO,\n",
        "    filemode='a'\n",
        ")\n",
        "\n",
        "# Set experiment's device & deterministic behavior\n",
        "if CONFIG.cpu:\n",
        "    CONFIG.device = 'cpu'\n",
        "else:\n",
        "    CONFIG.device = 'cuda' if torch.cuda.is_available() else 'cpu'\n",
        "\n",
        "torch.manual_seed(CONFIG.seed)\n",
        "random.seed(CONFIG.seed)\n",
        "np.random.seed(CONFIG.seed)\n",
        "torch.backends.cudnn.benchmark = True\n",
        "torch.use_deterministic_algorithms(mode=True, warn_only=True)\n",
        "\n",
        "main()"
      ]
    },
    {
      "cell_type": "markdown",
      "metadata": {
        "id": "v4Eh26KXEfPK"
      },
      "source": [
        "##### 2.4.4.2 - Sketch"
      ]
    },
    {
      "cell_type": "code",
      "execution_count": null,
      "metadata": {
        "vscode": {
          "languageId": "python"
        },
        "id": "UiYkzetUEfPK"
      },
      "outputs": [],
      "source": [
        "warnings.filterwarnings('ignore', category=UserWarning)\n",
        "\n",
        "# Parse arguments\n",
        "conf = configurations['2.4.4.2']\n",
        "\n",
        "#args = parse_arguments()\n",
        "args = argparse.Namespace(**conf)\n",
        "print(args)\n",
        "CONFIG.update(vars(args))\n",
        "\n",
        "# Setup output directory\n",
        "CONFIG.save_dir = os.path.join('record', CONFIG.experiment_name)\n",
        "os.makedirs(CONFIG.save_dir, exist_ok=True)\n",
        "\n",
        "# Setup logging\n",
        "logging.basicConfig(\n",
        "    filename=os.path.join(CONFIG.save_dir, 'log.txt'),\n",
        "    format='%(message)s',\n",
        "    level=logging.INFO,\n",
        "    filemode='a'\n",
        ")\n",
        "\n",
        "# Set experiment's device & deterministic behavior\n",
        "if CONFIG.cpu:\n",
        "    CONFIG.device = 'cpu'\n",
        "else:\n",
        "    CONFIG.device = 'cuda' if torch.cuda.is_available() else 'cpu'\n",
        "\n",
        "torch.manual_seed(CONFIG.seed)\n",
        "random.seed(CONFIG.seed)\n",
        "np.random.seed(CONFIG.seed)\n",
        "torch.backends.cudnn.benchmark = True\n",
        "torch.use_deterministic_algorithms(mode=True, warn_only=True)\n",
        "\n",
        "main()"
      ]
    },
    {
      "cell_type": "markdown",
      "metadata": {
        "id": "NSayJGCmEfPL"
      },
      "source": [
        "##### 2.4.4.3 - Photo"
      ]
    },
    {
      "cell_type": "code",
      "execution_count": null,
      "metadata": {
        "vscode": {
          "languageId": "python"
        },
        "id": "ISbYTwTqEfPL"
      },
      "outputs": [],
      "source": [
        "warnings.filterwarnings('ignore', category=UserWarning)\n",
        "\n",
        "# Parse arguments\n",
        "conf = configurations['2.4.4.3']\n",
        "\n",
        "#args = parse_arguments()\n",
        "args = argparse.Namespace(**conf)\n",
        "print(args)\n",
        "CONFIG.update(vars(args))\n",
        "\n",
        "# Setup output directory\n",
        "CONFIG.save_dir = os.path.join('record', CONFIG.experiment_name)\n",
        "os.makedirs(CONFIG.save_dir, exist_ok=True)\n",
        "\n",
        "# Setup logging\n",
        "logging.basicConfig(\n",
        "    filename=os.path.join(CONFIG.save_dir, 'log.txt'),\n",
        "    format='%(message)s',\n",
        "    level=logging.INFO,\n",
        "    filemode='a'\n",
        ")\n",
        "\n",
        "# Set experiment's device & deterministic behavior\n",
        "if CONFIG.cpu:\n",
        "    CONFIG.device = 'cpu'\n",
        "else:\n",
        "    CONFIG.device = 'cuda' if torch.cuda.is_available() else 'cpu'\n",
        "\n",
        "torch.manual_seed(CONFIG.seed)\n",
        "random.seed(CONFIG.seed)\n",
        "np.random.seed(CONFIG.seed)\n",
        "torch.backends.cudnn.benchmark = True\n",
        "torch.use_deterministic_algorithms(mode=True, warn_only=True)\n",
        "\n",
        "main()"
      ]
    },
    {
      "cell_type": "markdown",
      "metadata": {
        "id": "MWeG0IuaEfPL"
      },
      "source": [
        "#### 2.4.5 - ASH module after layer1.1.bn2 and layer2.1.bn2"
      ]
    },
    {
      "cell_type": "markdown",
      "metadata": {
        "id": "DKHR7kFUEfPL"
      },
      "source": [
        "##### 2.4.5.1 - Cartoon"
      ]
    },
    {
      "cell_type": "code",
      "execution_count": null,
      "metadata": {
        "vscode": {
          "languageId": "python"
        },
        "id": "qhkFLw1BEfPL"
      },
      "outputs": [],
      "source": [
        "warnings.filterwarnings('ignore', category=UserWarning)\n",
        "\n",
        "# Parse arguments\n",
        "conf = configurations['2.4.5.1']\n",
        "\n",
        "#args = parse_arguments()\n",
        "args = argparse.Namespace(**conf)\n",
        "print(args)\n",
        "CONFIG.update(vars(args))\n",
        "\n",
        "# Setup output directory\n",
        "CONFIG.save_dir = os.path.join('record', CONFIG.experiment_name)\n",
        "os.makedirs(CONFIG.save_dir, exist_ok=True)\n",
        "\n",
        "# Setup logging\n",
        "logging.basicConfig(\n",
        "    filename=os.path.join(CONFIG.save_dir, 'log.txt'),\n",
        "    format='%(message)s',\n",
        "    level=logging.INFO,\n",
        "    filemode='a'\n",
        ")\n",
        "\n",
        "# Set experiment's device & deterministic behavior\n",
        "if CONFIG.cpu:\n",
        "    CONFIG.device = 'cpu'\n",
        "else:\n",
        "    CONFIG.device = 'cuda' if torch.cuda.is_available() else 'cpu'\n",
        "\n",
        "torch.manual_seed(CONFIG.seed)\n",
        "random.seed(CONFIG.seed)\n",
        "np.random.seed(CONFIG.seed)\n",
        "torch.backends.cudnn.benchmark = True\n",
        "torch.use_deterministic_algorithms(mode=True, warn_only=True)\n",
        "\n",
        "main()"
      ]
    },
    {
      "cell_type": "markdown",
      "metadata": {
        "id": "889W4YHqEfPL"
      },
      "source": [
        "##### 2.4.5.2 - Sketch"
      ]
    },
    {
      "cell_type": "code",
      "execution_count": null,
      "metadata": {
        "vscode": {
          "languageId": "python"
        },
        "id": "iRg_2tM3EfPM"
      },
      "outputs": [],
      "source": [
        "warnings.filterwarnings('ignore', category=UserWarning)\n",
        "\n",
        "# Parse arguments\n",
        "conf = configurations['2.4.5.2']\n",
        "\n",
        "#args = parse_arguments()\n",
        "args = argparse.Namespace(**conf)\n",
        "print(args)\n",
        "CONFIG.update(vars(args))\n",
        "\n",
        "# Setup output directory\n",
        "CONFIG.save_dir = os.path.join('record', CONFIG.experiment_name)\n",
        "os.makedirs(CONFIG.save_dir, exist_ok=True)\n",
        "\n",
        "# Setup logging\n",
        "logging.basicConfig(\n",
        "    filename=os.path.join(CONFIG.save_dir, 'log.txt'),\n",
        "    format='%(message)s',\n",
        "    level=logging.INFO,\n",
        "    filemode='a'\n",
        ")\n",
        "\n",
        "# Set experiment's device & deterministic behavior\n",
        "if CONFIG.cpu:\n",
        "    CONFIG.device = 'cpu'\n",
        "else:\n",
        "    CONFIG.device = 'cuda' if torch.cuda.is_available() else 'cpu'\n",
        "\n",
        "torch.manual_seed(CONFIG.seed)\n",
        "random.seed(CONFIG.seed)\n",
        "np.random.seed(CONFIG.seed)\n",
        "torch.backends.cudnn.benchmark = True\n",
        "torch.use_deterministic_algorithms(mode=True, warn_only=True)\n",
        "\n",
        "main()"
      ]
    },
    {
      "cell_type": "markdown",
      "metadata": {
        "id": "v3tdANSfEfPM"
      },
      "source": [
        "##### 2.4.5.3 - Photo"
      ]
    },
    {
      "cell_type": "code",
      "execution_count": null,
      "metadata": {
        "vscode": {
          "languageId": "python"
        },
        "id": "MJUzPotOEfPM"
      },
      "outputs": [],
      "source": [
        "warnings.filterwarnings('ignore', category=UserWarning)\n",
        "\n",
        "# Parse arguments\n",
        "conf = configurations['2.4.5.3']\n",
        "\n",
        "#args = parse_arguments()\n",
        "args = argparse.Namespace(**conf)\n",
        "print(args)\n",
        "CONFIG.update(vars(args))\n",
        "\n",
        "# Setup output directory\n",
        "CONFIG.save_dir = os.path.join('record', CONFIG.experiment_name)\n",
        "os.makedirs(CONFIG.save_dir, exist_ok=True)\n",
        "\n",
        "# Setup logging\n",
        "logging.basicConfig(\n",
        "    filename=os.path.join(CONFIG.save_dir, 'log.txt'),\n",
        "    format='%(message)s',\n",
        "    level=logging.INFO,\n",
        "    filemode='a'\n",
        ")\n",
        "\n",
        "# Set experiment's device & deterministic behavior\n",
        "if CONFIG.cpu:\n",
        "    CONFIG.device = 'cpu'\n",
        "else:\n",
        "    CONFIG.device = 'cuda' if torch.cuda.is_available() else 'cpu'\n",
        "\n",
        "torch.manual_seed(CONFIG.seed)\n",
        "random.seed(CONFIG.seed)\n",
        "np.random.seed(CONFIG.seed)\n",
        "torch.backends.cudnn.benchmark = True\n",
        "torch.use_deterministic_algorithms(mode=True, warn_only=True)\n",
        "\n",
        "main()"
      ]
    },
    {
      "cell_type": "markdown",
      "metadata": {
        "id": "t0SRPJUhEfPM"
      },
      "source": [
        "### 2.5 - Mask Out Ratio = 1.00"
      ]
    },
    {
      "cell_type": "markdown",
      "metadata": {
        "id": "R6dl6lzFEfPM"
      },
      "source": [
        "#### 2.5.1 - ASH module after layer2.1.conv2"
      ]
    },
    {
      "cell_type": "markdown",
      "metadata": {
        "id": "x4YAwjq6EfPM"
      },
      "source": [
        "##### 2.5.1.1 - Cartoon"
      ]
    },
    {
      "cell_type": "code",
      "execution_count": null,
      "metadata": {
        "vscode": {
          "languageId": "python"
        },
        "id": "IvKIgyySEfPN"
      },
      "outputs": [],
      "source": [
        "warnings.filterwarnings('ignore', category=UserWarning)\n",
        "\n",
        "# Parse arguments\n",
        "conf = configurations['2.5.1.1']\n",
        "\n",
        "#args = parse_arguments()\n",
        "args = argparse.Namespace(**conf)\n",
        "print(args)\n",
        "CONFIG.update(vars(args))\n",
        "\n",
        "# Setup output directory\n",
        "CONFIG.save_dir = os.path.join('record', CONFIG.experiment_name)\n",
        "os.makedirs(CONFIG.save_dir, exist_ok=True)\n",
        "\n",
        "# Setup logging\n",
        "logging.basicConfig(\n",
        "    filename=os.path.join(CONFIG.save_dir, 'log.txt'),\n",
        "    format='%(message)s',\n",
        "    level=logging.INFO,\n",
        "    filemode='a'\n",
        ")\n",
        "\n",
        "# Set experiment's device & deterministic behavior\n",
        "if CONFIG.cpu:\n",
        "    CONFIG.device = 'cpu'\n",
        "else:\n",
        "    CONFIG.device = 'cuda' if torch.cuda.is_available() else 'cpu'\n",
        "\n",
        "torch.manual_seed(CONFIG.seed)\n",
        "random.seed(CONFIG.seed)\n",
        "np.random.seed(CONFIG.seed)\n",
        "torch.backends.cudnn.benchmark = True\n",
        "torch.use_deterministic_algorithms(mode=True, warn_only=True)\n",
        "\n",
        "main()"
      ]
    },
    {
      "cell_type": "markdown",
      "metadata": {
        "id": "lQ7k-QKuEfPN"
      },
      "source": [
        "##### 2.5.1.2 - Sketch"
      ]
    },
    {
      "cell_type": "code",
      "execution_count": null,
      "metadata": {
        "vscode": {
          "languageId": "python"
        },
        "id": "njDJ9sJQEfPN"
      },
      "outputs": [],
      "source": [
        "warnings.filterwarnings('ignore', category=UserWarning)\n",
        "\n",
        "# Parse arguments\n",
        "conf = configurations['2.5.1.2']\n",
        "\n",
        "#args = parse_arguments()\n",
        "args = argparse.Namespace(**conf)\n",
        "print(args)\n",
        "CONFIG.update(vars(args))\n",
        "\n",
        "# Setup output directory\n",
        "CONFIG.save_dir = os.path.join('record', CONFIG.experiment_name)\n",
        "os.makedirs(CONFIG.save_dir, exist_ok=True)\n",
        "\n",
        "# Setup logging\n",
        "logging.basicConfig(\n",
        "    filename=os.path.join(CONFIG.save_dir, 'log.txt'),\n",
        "    format='%(message)s',\n",
        "    level=logging.INFO,\n",
        "    filemode='a'\n",
        ")\n",
        "\n",
        "# Set experiment's device & deterministic behavior\n",
        "if CONFIG.cpu:\n",
        "    CONFIG.device = 'cpu'\n",
        "else:\n",
        "    CONFIG.device = 'cuda' if torch.cuda.is_available() else 'cpu'\n",
        "\n",
        "torch.manual_seed(CONFIG.seed)\n",
        "random.seed(CONFIG.seed)\n",
        "np.random.seed(CONFIG.seed)\n",
        "torch.backends.cudnn.benchmark = True\n",
        "torch.use_deterministic_algorithms(mode=True, warn_only=True)\n",
        "\n",
        "main()"
      ]
    },
    {
      "cell_type": "markdown",
      "metadata": {
        "id": "d1XXahZbEfPN"
      },
      "source": [
        "##### 2.5.1.3 - Photo"
      ]
    },
    {
      "cell_type": "code",
      "execution_count": null,
      "metadata": {
        "vscode": {
          "languageId": "python"
        },
        "id": "3PPCjPt_EfPN"
      },
      "outputs": [],
      "source": [
        "warnings.filterwarnings('ignore', category=UserWarning)\n",
        "\n",
        "# Parse arguments\n",
        "conf = configurations['2.5.1.3']\n",
        "\n",
        "#args = parse_arguments()\n",
        "args = argparse.Namespace(**conf)\n",
        "print(args)\n",
        "CONFIG.update(vars(args))\n",
        "\n",
        "# Setup output directory\n",
        "CONFIG.save_dir = os.path.join('record', CONFIG.experiment_name)\n",
        "os.makedirs(CONFIG.save_dir, exist_ok=True)\n",
        "\n",
        "# Setup logging\n",
        "logging.basicConfig(\n",
        "    filename=os.path.join(CONFIG.save_dir, 'log.txt'),\n",
        "    format='%(message)s',\n",
        "    level=logging.INFO,\n",
        "    filemode='a'\n",
        ")\n",
        "\n",
        "# Set experiment's device & deterministic behavior\n",
        "if CONFIG.cpu:\n",
        "    CONFIG.device = 'cpu'\n",
        "else:\n",
        "    CONFIG.device = 'cuda' if torch.cuda.is_available() else 'cpu'\n",
        "\n",
        "torch.manual_seed(CONFIG.seed)\n",
        "random.seed(CONFIG.seed)\n",
        "np.random.seed(CONFIG.seed)\n",
        "torch.backends.cudnn.benchmark = True\n",
        "torch.use_deterministic_algorithms(mode=True, warn_only=True)\n",
        "\n",
        "main()"
      ]
    },
    {
      "cell_type": "markdown",
      "metadata": {
        "id": "oqpANrpfEfPN"
      },
      "source": [
        "#### 2.5.2 - ASH module after layer1.1.bn1 and layer2.1.conv2"
      ]
    },
    {
      "cell_type": "markdown",
      "metadata": {
        "id": "JF0_sTDbEfPN"
      },
      "source": [
        "##### 2.5.2.1 - Cartoon"
      ]
    },
    {
      "cell_type": "code",
      "execution_count": null,
      "metadata": {
        "vscode": {
          "languageId": "python"
        },
        "id": "wHY2SM9QEfPO"
      },
      "outputs": [],
      "source": [
        "warnings.filterwarnings('ignore', category=UserWarning)\n",
        "\n",
        "# Parse arguments\n",
        "conf = configurations['2.5.2.1']\n",
        "\n",
        "#args = parse_arguments()\n",
        "args = argparse.Namespace(**conf)\n",
        "print(args)\n",
        "CONFIG.update(vars(args))\n",
        "\n",
        "# Setup output directory\n",
        "CONFIG.save_dir = os.path.join('record', CONFIG.experiment_name)\n",
        "os.makedirs(CONFIG.save_dir, exist_ok=True)\n",
        "\n",
        "# Setup logging\n",
        "logging.basicConfig(\n",
        "    filename=os.path.join(CONFIG.save_dir, 'log.txt'),\n",
        "    format='%(message)s',\n",
        "    level=logging.INFO,\n",
        "    filemode='a'\n",
        ")\n",
        "\n",
        "# Set experiment's device & deterministic behavior\n",
        "if CONFIG.cpu:\n",
        "    CONFIG.device = 'cpu'\n",
        "else:\n",
        "    CONFIG.device = 'cuda' if torch.cuda.is_available() else 'cpu'\n",
        "\n",
        "torch.manual_seed(CONFIG.seed)\n",
        "random.seed(CONFIG.seed)\n",
        "np.random.seed(CONFIG.seed)\n",
        "torch.backends.cudnn.benchmark = True\n",
        "torch.use_deterministic_algorithms(mode=True, warn_only=True)\n",
        "\n",
        "main()"
      ]
    },
    {
      "cell_type": "markdown",
      "metadata": {
        "id": "6tl_fr8-EfPO"
      },
      "source": [
        "##### 2.5.2.2 - Sketch"
      ]
    },
    {
      "cell_type": "code",
      "execution_count": null,
      "metadata": {
        "vscode": {
          "languageId": "python"
        },
        "id": "83vd6miaEfPO"
      },
      "outputs": [],
      "source": [
        "warnings.filterwarnings('ignore', category=UserWarning)\n",
        "\n",
        "# Parse arguments\n",
        "conf = configurations['2.5.2.2']\n",
        "\n",
        "#args = parse_arguments()\n",
        "args = argparse.Namespace(**conf)\n",
        "print(args)\n",
        "CONFIG.update(vars(args))\n",
        "\n",
        "# Setup output directory\n",
        "CONFIG.save_dir = os.path.join('record', CONFIG.experiment_name)\n",
        "os.makedirs(CONFIG.save_dir, exist_ok=True)\n",
        "\n",
        "# Setup logging\n",
        "logging.basicConfig(\n",
        "    filename=os.path.join(CONFIG.save_dir, 'log.txt'),\n",
        "    format='%(message)s',\n",
        "    level=logging.INFO,\n",
        "    filemode='a'\n",
        ")\n",
        "\n",
        "# Set experiment's device & deterministic behavior\n",
        "if CONFIG.cpu:\n",
        "    CONFIG.device = 'cpu'\n",
        "else:\n",
        "    CONFIG.device = 'cuda' if torch.cuda.is_available() else 'cpu'\n",
        "\n",
        "torch.manual_seed(CONFIG.seed)\n",
        "random.seed(CONFIG.seed)\n",
        "np.random.seed(CONFIG.seed)\n",
        "torch.backends.cudnn.benchmark = True\n",
        "torch.use_deterministic_algorithms(mode=True, warn_only=True)\n",
        "\n",
        "main()"
      ]
    },
    {
      "cell_type": "markdown",
      "metadata": {
        "id": "-ql1LlUDEfPO"
      },
      "source": [
        "##### 2.5.2.3 - Photo"
      ]
    },
    {
      "cell_type": "code",
      "execution_count": null,
      "metadata": {
        "vscode": {
          "languageId": "python"
        },
        "id": "ss0UtFA0EfPO"
      },
      "outputs": [],
      "source": [
        "warnings.filterwarnings('ignore', category=UserWarning)\n",
        "\n",
        "# Parse arguments\n",
        "conf = configurations['2.5.2.3']\n",
        "\n",
        "#args = parse_arguments()\n",
        "args = argparse.Namespace(**conf)\n",
        "print(args)\n",
        "CONFIG.update(vars(args))\n",
        "\n",
        "# Setup output directory\n",
        "CONFIG.save_dir = os.path.join('record', CONFIG.experiment_name)\n",
        "os.makedirs(CONFIG.save_dir, exist_ok=True)\n",
        "\n",
        "# Setup logging\n",
        "logging.basicConfig(\n",
        "    filename=os.path.join(CONFIG.save_dir, 'log.txt'),\n",
        "    format='%(message)s',\n",
        "    level=logging.INFO,\n",
        "    filemode='a'\n",
        ")\n",
        "\n",
        "# Set experiment's device & deterministic behavior\n",
        "if CONFIG.cpu:\n",
        "    CONFIG.device = 'cpu'\n",
        "else:\n",
        "    CONFIG.device = 'cuda' if torch.cuda.is_available() else 'cpu'\n",
        "\n",
        "torch.manual_seed(CONFIG.seed)\n",
        "random.seed(CONFIG.seed)\n",
        "np.random.seed(CONFIG.seed)\n",
        "torch.backends.cudnn.benchmark = True\n",
        "torch.use_deterministic_algorithms(mode=True, warn_only=True)\n",
        "\n",
        "main()"
      ]
    },
    {
      "cell_type": "markdown",
      "metadata": {
        "id": "1Upf9mZVEfPO"
      },
      "source": [
        "#### 2.5.3 - ASH module after layer1.1.conv1"
      ]
    },
    {
      "cell_type": "markdown",
      "metadata": {
        "id": "_mFo2NEpEfPO"
      },
      "source": [
        "##### 2.5.3.1 - Cartoon"
      ]
    },
    {
      "cell_type": "code",
      "execution_count": null,
      "metadata": {
        "vscode": {
          "languageId": "python"
        },
        "id": "zzOpZPcgEfPP"
      },
      "outputs": [],
      "source": [
        "warnings.filterwarnings('ignore', category=UserWarning)\n",
        "\n",
        "# Parse arguments\n",
        "conf = configurations['2.5.3.1']\n",
        "\n",
        "#args = parse_arguments()\n",
        "args = argparse.Namespace(**conf)\n",
        "print(args)\n",
        "CONFIG.update(vars(args))\n",
        "\n",
        "# Setup output directory\n",
        "CONFIG.save_dir = os.path.join('record', CONFIG.experiment_name)\n",
        "os.makedirs(CONFIG.save_dir, exist_ok=True)\n",
        "\n",
        "# Setup logging\n",
        "logging.basicConfig(\n",
        "    filename=os.path.join(CONFIG.save_dir, 'log.txt'),\n",
        "    format='%(message)s',\n",
        "    level=logging.INFO,\n",
        "    filemode='a'\n",
        ")\n",
        "\n",
        "# Set experiment's device & deterministic behavior\n",
        "if CONFIG.cpu:\n",
        "    CONFIG.device = 'cpu'\n",
        "else:\n",
        "    CONFIG.device = 'cuda' if torch.cuda.is_available() else 'cpu'\n",
        "\n",
        "torch.manual_seed(CONFIG.seed)\n",
        "random.seed(CONFIG.seed)\n",
        "np.random.seed(CONFIG.seed)\n",
        "torch.backends.cudnn.benchmark = True\n",
        "torch.use_deterministic_algorithms(mode=True, warn_only=True)\n",
        "\n",
        "main()"
      ]
    },
    {
      "cell_type": "markdown",
      "metadata": {
        "id": "UQ_t0SB-EfPP"
      },
      "source": [
        "##### 2.5.3.2 - Sketch"
      ]
    },
    {
      "cell_type": "code",
      "execution_count": null,
      "metadata": {
        "vscode": {
          "languageId": "python"
        },
        "id": "aaRnKFLLEfPP"
      },
      "outputs": [],
      "source": [
        "warnings.filterwarnings('ignore', category=UserWarning)\n",
        "\n",
        "# Parse arguments\n",
        "conf = configurations['2.5.3.2']\n",
        "\n",
        "#args = parse_arguments()\n",
        "args = argparse.Namespace(**conf)\n",
        "print(args)\n",
        "CONFIG.update(vars(args))\n",
        "\n",
        "# Setup output directory\n",
        "CONFIG.save_dir = os.path.join('record', CONFIG.experiment_name)\n",
        "os.makedirs(CONFIG.save_dir, exist_ok=True)\n",
        "\n",
        "# Setup logging\n",
        "logging.basicConfig(\n",
        "    filename=os.path.join(CONFIG.save_dir, 'log.txt'),\n",
        "    format='%(message)s',\n",
        "    level=logging.INFO,\n",
        "    filemode='a'\n",
        ")\n",
        "\n",
        "# Set experiment's device & deterministic behavior\n",
        "if CONFIG.cpu:\n",
        "    CONFIG.device = 'cpu'\n",
        "else:\n",
        "    CONFIG.device = 'cuda' if torch.cuda.is_available() else 'cpu'\n",
        "\n",
        "torch.manual_seed(CONFIG.seed)\n",
        "random.seed(CONFIG.seed)\n",
        "np.random.seed(CONFIG.seed)\n",
        "torch.backends.cudnn.benchmark = True\n",
        "torch.use_deterministic_algorithms(mode=True, warn_only=True)\n",
        "\n",
        "main()"
      ]
    },
    {
      "cell_type": "markdown",
      "metadata": {
        "id": "4M4iMWW4EfPP"
      },
      "source": [
        "##### 2.5.3.3 - Photo"
      ]
    },
    {
      "cell_type": "code",
      "execution_count": null,
      "metadata": {
        "vscode": {
          "languageId": "python"
        },
        "id": "0WBGIDkwEfPP"
      },
      "outputs": [],
      "source": [
        "warnings.filterwarnings('ignore', category=UserWarning)\n",
        "\n",
        "# Parse arguments\n",
        "conf = configurations['2.5.3.3']\n",
        "\n",
        "#args = parse_arguments()\n",
        "args = argparse.Namespace(**conf)\n",
        "print(args)\n",
        "CONFIG.update(vars(args))\n",
        "\n",
        "# Setup output directory\n",
        "CONFIG.save_dir = os.path.join('record', CONFIG.experiment_name)\n",
        "os.makedirs(CONFIG.save_dir, exist_ok=True)\n",
        "\n",
        "# Setup logging\n",
        "logging.basicConfig(\n",
        "    filename=os.path.join(CONFIG.save_dir, 'log.txt'),\n",
        "    format='%(message)s',\n",
        "    level=logging.INFO,\n",
        "    filemode='a'\n",
        ")\n",
        "\n",
        "# Set experiment's device & deterministic behavior\n",
        "if CONFIG.cpu:\n",
        "    CONFIG.device = 'cpu'\n",
        "else:\n",
        "    CONFIG.device = 'cuda' if torch.cuda.is_available() else 'cpu'\n",
        "\n",
        "torch.manual_seed(CONFIG.seed)\n",
        "random.seed(CONFIG.seed)\n",
        "np.random.seed(CONFIG.seed)\n",
        "torch.backends.cudnn.benchmark = True\n",
        "torch.use_deterministic_algorithms(mode=True, warn_only=True)\n",
        "\n",
        "main()"
      ]
    },
    {
      "cell_type": "markdown",
      "metadata": {
        "id": "PeiO7tPNEfPP"
      },
      "source": [
        "#### 2.5.4 - ASH module after layer1.1.bn2"
      ]
    },
    {
      "cell_type": "markdown",
      "metadata": {
        "id": "Pv0xKzLNEfPQ"
      },
      "source": [
        "##### 2.5.4.1 - Cartoon"
      ]
    },
    {
      "cell_type": "code",
      "execution_count": null,
      "metadata": {
        "vscode": {
          "languageId": "python"
        },
        "id": "7oULQ70SEfPQ"
      },
      "outputs": [],
      "source": [
        "warnings.filterwarnings('ignore', category=UserWarning)\n",
        "\n",
        "# Parse arguments\n",
        "conf = configurations['2.5.4.1']\n",
        "\n",
        "#args = parse_arguments()\n",
        "args = argparse.Namespace(**conf)\n",
        "print(args)\n",
        "CONFIG.update(vars(args))\n",
        "\n",
        "# Setup output directory\n",
        "CONFIG.save_dir = os.path.join('record', CONFIG.experiment_name)\n",
        "os.makedirs(CONFIG.save_dir, exist_ok=True)\n",
        "\n",
        "# Setup logging\n",
        "logging.basicConfig(\n",
        "    filename=os.path.join(CONFIG.save_dir, 'log.txt'),\n",
        "    format='%(message)s',\n",
        "    level=logging.INFO,\n",
        "    filemode='a'\n",
        ")\n",
        "\n",
        "# Set experiment's device & deterministic behavior\n",
        "if CONFIG.cpu:\n",
        "    CONFIG.device = 'cpu'\n",
        "else:\n",
        "    CONFIG.device = 'cuda' if torch.cuda.is_available() else 'cpu'\n",
        "\n",
        "torch.manual_seed(CONFIG.seed)\n",
        "random.seed(CONFIG.seed)\n",
        "np.random.seed(CONFIG.seed)\n",
        "torch.backends.cudnn.benchmark = True\n",
        "torch.use_deterministic_algorithms(mode=True, warn_only=True)\n",
        "\n",
        "main()"
      ]
    },
    {
      "cell_type": "markdown",
      "metadata": {
        "id": "ORH-2AsjEfPQ"
      },
      "source": [
        "##### 2.5.4.2 - Sketch"
      ]
    },
    {
      "cell_type": "code",
      "execution_count": null,
      "metadata": {
        "vscode": {
          "languageId": "python"
        },
        "id": "yiCcoFuTEfPQ"
      },
      "outputs": [],
      "source": [
        "warnings.filterwarnings('ignore', category=UserWarning)\n",
        "\n",
        "# Parse arguments\n",
        "conf = configurations['2.5.4.2']\n",
        "\n",
        "#args = parse_arguments()\n",
        "args = argparse.Namespace(**conf)\n",
        "print(args)\n",
        "CONFIG.update(vars(args))\n",
        "\n",
        "# Setup output directory\n",
        "CONFIG.save_dir = os.path.join('record', CONFIG.experiment_name)\n",
        "os.makedirs(CONFIG.save_dir, exist_ok=True)\n",
        "\n",
        "# Setup logging\n",
        "logging.basicConfig(\n",
        "    filename=os.path.join(CONFIG.save_dir, 'log.txt'),\n",
        "    format='%(message)s',\n",
        "    level=logging.INFO,\n",
        "    filemode='a'\n",
        ")\n",
        "\n",
        "# Set experiment's device & deterministic behavior\n",
        "if CONFIG.cpu:\n",
        "    CONFIG.device = 'cpu'\n",
        "else:\n",
        "    CONFIG.device = 'cuda' if torch.cuda.is_available() else 'cpu'\n",
        "\n",
        "torch.manual_seed(CONFIG.seed)\n",
        "random.seed(CONFIG.seed)\n",
        "np.random.seed(CONFIG.seed)\n",
        "torch.backends.cudnn.benchmark = True\n",
        "torch.use_deterministic_algorithms(mode=True, warn_only=True)\n",
        "\n",
        "main()"
      ]
    },
    {
      "cell_type": "markdown",
      "metadata": {
        "id": "qomFve4CEfPQ"
      },
      "source": [
        "##### 2.5.4.3 - Photo"
      ]
    },
    {
      "cell_type": "code",
      "execution_count": null,
      "metadata": {
        "vscode": {
          "languageId": "python"
        },
        "id": "7v4tLf_NEfPQ"
      },
      "outputs": [],
      "source": [
        "warnings.filterwarnings('ignore', category=UserWarning)\n",
        "\n",
        "# Parse arguments\n",
        "conf = configurations['2.5.4.3']\n",
        "\n",
        "#args = parse_arguments()\n",
        "args = argparse.Namespace(**conf)\n",
        "print(args)\n",
        "CONFIG.update(vars(args))\n",
        "\n",
        "# Setup output directory\n",
        "CONFIG.save_dir = os.path.join('record', CONFIG.experiment_name)\n",
        "os.makedirs(CONFIG.save_dir, exist_ok=True)\n",
        "\n",
        "# Setup logging\n",
        "logging.basicConfig(\n",
        "    filename=os.path.join(CONFIG.save_dir, 'log.txt'),\n",
        "    format='%(message)s',\n",
        "    level=logging.INFO,\n",
        "    filemode='a'\n",
        ")\n",
        "\n",
        "# Set experiment's device & deterministic behavior\n",
        "if CONFIG.cpu:\n",
        "    CONFIG.device = 'cpu'\n",
        "else:\n",
        "    CONFIG.device = 'cuda' if torch.cuda.is_available() else 'cpu'\n",
        "\n",
        "torch.manual_seed(CONFIG.seed)\n",
        "random.seed(CONFIG.seed)\n",
        "np.random.seed(CONFIG.seed)\n",
        "torch.backends.cudnn.benchmark = True\n",
        "torch.use_deterministic_algorithms(mode=True, warn_only=True)\n",
        "\n",
        "main()"
      ]
    },
    {
      "cell_type": "markdown",
      "metadata": {
        "id": "-xoj0LwgEfPQ"
      },
      "source": [
        "#### 2.5.5 - ASH module after layer1.1.bn2 and layer2.1.bn2"
      ]
    },
    {
      "cell_type": "markdown",
      "metadata": {
        "id": "mfm_1CrNEfPR"
      },
      "source": [
        "##### 2.5.5.1 - Cartoon"
      ]
    },
    {
      "cell_type": "code",
      "execution_count": null,
      "metadata": {
        "vscode": {
          "languageId": "python"
        },
        "id": "GYlE-XsdEfPR"
      },
      "outputs": [],
      "source": [
        "warnings.filterwarnings('ignore', category=UserWarning)\n",
        "\n",
        "# Parse arguments\n",
        "conf = configurations['2.5.5.1']\n",
        "\n",
        "#args = parse_arguments()\n",
        "args = argparse.Namespace(**conf)\n",
        "print(args)\n",
        "CONFIG.update(vars(args))\n",
        "\n",
        "# Setup output directory\n",
        "CONFIG.save_dir = os.path.join('record', CONFIG.experiment_name)\n",
        "os.makedirs(CONFIG.save_dir, exist_ok=True)\n",
        "\n",
        "# Setup logging\n",
        "logging.basicConfig(\n",
        "    filename=os.path.join(CONFIG.save_dir, 'log.txt'),\n",
        "    format='%(message)s',\n",
        "    level=logging.INFO,\n",
        "    filemode='a'\n",
        ")\n",
        "\n",
        "# Set experiment's device & deterministic behavior\n",
        "if CONFIG.cpu:\n",
        "    CONFIG.device = 'cpu'\n",
        "else:\n",
        "    CONFIG.device = 'cuda' if torch.cuda.is_available() else 'cpu'\n",
        "\n",
        "torch.manual_seed(CONFIG.seed)\n",
        "random.seed(CONFIG.seed)\n",
        "np.random.seed(CONFIG.seed)\n",
        "torch.backends.cudnn.benchmark = True\n",
        "torch.use_deterministic_algorithms(mode=True, warn_only=True)\n",
        "\n",
        "main()"
      ]
    },
    {
      "cell_type": "markdown",
      "metadata": {
        "id": "JFn1vsNoEfPR"
      },
      "source": [
        "##### 2.5.5.2 - Sketch"
      ]
    },
    {
      "cell_type": "code",
      "execution_count": null,
      "metadata": {
        "vscode": {
          "languageId": "python"
        },
        "id": "xzRCW3gaEfPR"
      },
      "outputs": [],
      "source": [
        "warnings.filterwarnings('ignore', category=UserWarning)\n",
        "\n",
        "# Parse arguments\n",
        "conf = configurations['2.5.5.2']\n",
        "\n",
        "#args = parse_arguments()\n",
        "args = argparse.Namespace(**conf)\n",
        "print(args)\n",
        "CONFIG.update(vars(args))\n",
        "\n",
        "# Setup output directory\n",
        "CONFIG.save_dir = os.path.join('record', CONFIG.experiment_name)\n",
        "os.makedirs(CONFIG.save_dir, exist_ok=True)\n",
        "\n",
        "# Setup logging\n",
        "logging.basicConfig(\n",
        "    filename=os.path.join(CONFIG.save_dir, 'log.txt'),\n",
        "    format='%(message)s',\n",
        "    level=logging.INFO,\n",
        "    filemode='a'\n",
        ")\n",
        "\n",
        "# Set experiment's device & deterministic behavior\n",
        "if CONFIG.cpu:\n",
        "    CONFIG.device = 'cpu'\n",
        "else:\n",
        "    CONFIG.device = 'cuda' if torch.cuda.is_available() else 'cpu'\n",
        "\n",
        "torch.manual_seed(CONFIG.seed)\n",
        "random.seed(CONFIG.seed)\n",
        "np.random.seed(CONFIG.seed)\n",
        "torch.backends.cudnn.benchmark = True\n",
        "torch.use_deterministic_algorithms(mode=True, warn_only=True)\n",
        "\n",
        "main()"
      ]
    },
    {
      "cell_type": "markdown",
      "metadata": {
        "id": "GCcpIO6MEfPR"
      },
      "source": [
        "##### 2.5.5.3 - Photo"
      ]
    },
    {
      "cell_type": "code",
      "execution_count": null,
      "metadata": {
        "vscode": {
          "languageId": "python"
        },
        "id": "H3lWhF5oEfPS"
      },
      "outputs": [],
      "source": [
        "warnings.filterwarnings('ignore', category=UserWarning)\n",
        "\n",
        "# Parse arguments\n",
        "conf = configurations['2.5.5.3']\n",
        "\n",
        "#args = parse_arguments()\n",
        "args = argparse.Namespace(**conf)\n",
        "print(args)\n",
        "CONFIG.update(vars(args))\n",
        "\n",
        "# Setup output directory\n",
        "CONFIG.save_dir = os.path.join('record', CONFIG.experiment_name)\n",
        "os.makedirs(CONFIG.save_dir, exist_ok=True)\n",
        "\n",
        "# Setup logging\n",
        "logging.basicConfig(\n",
        "    filename=os.path.join(CONFIG.save_dir, 'log.txt'),\n",
        "    format='%(message)s',\n",
        "    level=logging.INFO,\n",
        "    filemode='a'\n",
        ")\n",
        "\n",
        "# Set experiment's device & deterministic behavior\n",
        "if CONFIG.cpu:\n",
        "    CONFIG.device = 'cpu'\n",
        "else:\n",
        "    CONFIG.device = 'cuda' if torch.cuda.is_available() else 'cpu'\n",
        "\n",
        "torch.manual_seed(CONFIG.seed)\n",
        "random.seed(CONFIG.seed)\n",
        "np.random.seed(CONFIG.seed)\n",
        "torch.backends.cudnn.benchmark = True\n",
        "torch.use_deterministic_algorithms(mode=True, warn_only=True)\n",
        "\n",
        "main()"
      ]
    },
    {
      "cell_type": "markdown",
      "metadata": {
        "id": "8hsnYxWvEfPS"
      },
      "source": [
        "## 3 - Adapting Activation Maps across Domains"
      ]
    },
    {
      "cell_type": "markdown",
      "metadata": {
        "id": "DSk4jZxIEfPS"
      },
      "source": [
        "### 3.1 - ASH module after layer2.1.conv2"
      ]
    },
    {
      "cell_type": "markdown",
      "metadata": {
        "id": "RtPWIthJEfPS"
      },
      "source": [
        "#### 3.1.1 - Cartoon"
      ]
    },
    {
      "cell_type": "code",
      "execution_count": null,
      "metadata": {
        "vscode": {
          "languageId": "python"
        },
        "id": "N11r2OeeEfPS"
      },
      "outputs": [],
      "source": [
        "warnings.filterwarnings('ignore', category=UserWarning)\n",
        "\n",
        "# Parse arguments\n",
        "conf = configurations['3.1.1']\n",
        "\n",
        "#args = parse_arguments()\n",
        "args = argparse.Namespace(**conf)\n",
        "print(args)\n",
        "CONFIG.update(vars(args))\n",
        "\n",
        "# Setup output directory\n",
        "CONFIG.save_dir = os.path.join('record', CONFIG.experiment_name)\n",
        "os.makedirs(CONFIG.save_dir, exist_ok=True)\n",
        "\n",
        "# Setup logging\n",
        "logging.basicConfig(\n",
        "    filename=os.path.join(CONFIG.save_dir, 'log.txt'),\n",
        "    format='%(message)s',\n",
        "    level=logging.INFO,\n",
        "    filemode='a'\n",
        ")\n",
        "\n",
        "# Set experiment's device & deterministic behavior\n",
        "if CONFIG.cpu:\n",
        "    CONFIG.device = 'cpu'\n",
        "else:\n",
        "    CONFIG.device = 'cuda' if torch.cuda.is_available() else 'cpu'\n",
        "\n",
        "torch.manual_seed(CONFIG.seed)\n",
        "random.seed(CONFIG.seed)\n",
        "np.random.seed(CONFIG.seed)\n",
        "torch.backends.cudnn.benchmark = True\n",
        "torch.use_deterministic_algorithms(mode=True, warn_only=True)\n",
        "\n",
        "main()"
      ]
    },
    {
      "cell_type": "markdown",
      "metadata": {
        "id": "H8dG61LpEfPS"
      },
      "source": [
        "#### 3.1.2 - Sketch"
      ]
    },
    {
      "cell_type": "code",
      "execution_count": null,
      "metadata": {
        "vscode": {
          "languageId": "python"
        },
        "id": "4slxSc1QEfPS"
      },
      "outputs": [],
      "source": [
        "warnings.filterwarnings('ignore', category=UserWarning)\n",
        "\n",
        "# Parse arguments\n",
        "conf = configurations['3.1.2']\n",
        "\n",
        "#args = parse_arguments()\n",
        "args = argparse.Namespace(**conf)\n",
        "print(args)\n",
        "CONFIG.update(vars(args))\n",
        "\n",
        "# Setup output directory\n",
        "CONFIG.save_dir = os.path.join('record', CONFIG.experiment_name)\n",
        "os.makedirs(CONFIG.save_dir, exist_ok=True)\n",
        "\n",
        "# Setup logging\n",
        "logging.basicConfig(\n",
        "    filename=os.path.join(CONFIG.save_dir, 'log.txt'),\n",
        "    format='%(message)s',\n",
        "    level=logging.INFO,\n",
        "    filemode='a'\n",
        ")\n",
        "\n",
        "# Set experiment's device & deterministic behavior\n",
        "if CONFIG.cpu:\n",
        "    CONFIG.device = 'cpu'\n",
        "else:\n",
        "    CONFIG.device = 'cuda' if torch.cuda.is_available() else 'cpu'\n",
        "\n",
        "torch.manual_seed(CONFIG.seed)\n",
        "random.seed(CONFIG.seed)\n",
        "np.random.seed(CONFIG.seed)\n",
        "torch.backends.cudnn.benchmark = True\n",
        "torch.use_deterministic_algorithms(mode=True, warn_only=True)\n",
        "\n",
        "main()"
      ]
    },
    {
      "cell_type": "markdown",
      "metadata": {
        "id": "m6ihkJ9hEfPT"
      },
      "source": [
        "#### 3.1.3 - Photo"
      ]
    },
    {
      "cell_type": "code",
      "execution_count": null,
      "metadata": {
        "vscode": {
          "languageId": "python"
        },
        "id": "dNdNTBeBEfPT"
      },
      "outputs": [],
      "source": [
        "warnings.filterwarnings('ignore', category=UserWarning)\n",
        "\n",
        "# Parse arguments\n",
        "conf = configurations['3.1.3']\n",
        "\n",
        "#args = parse_arguments()\n",
        "args = argparse.Namespace(**conf)\n",
        "print(args)\n",
        "CONFIG.update(vars(args))\n",
        "\n",
        "# Setup output directory\n",
        "CONFIG.save_dir = os.path.join('record', CONFIG.experiment_name)\n",
        "os.makedirs(CONFIG.save_dir, exist_ok=True)\n",
        "\n",
        "# Setup logging\n",
        "logging.basicConfig(\n",
        "    filename=os.path.join(CONFIG.save_dir, 'log.txt'),\n",
        "    format='%(message)s',\n",
        "    level=logging.INFO,\n",
        "    filemode='a'\n",
        ")\n",
        "\n",
        "# Set experiment's device & deterministic behavior\n",
        "if CONFIG.cpu:\n",
        "    CONFIG.device = 'cpu'\n",
        "else:\n",
        "    CONFIG.device = 'cuda' if torch.cuda.is_available() else 'cpu'\n",
        "\n",
        "torch.manual_seed(CONFIG.seed)\n",
        "random.seed(CONFIG.seed)\n",
        "np.random.seed(CONFIG.seed)\n",
        "torch.backends.cudnn.benchmark = True\n",
        "torch.use_deterministic_algorithms(mode=True, warn_only=True)\n",
        "\n",
        "main()"
      ]
    },
    {
      "cell_type": "markdown",
      "metadata": {
        "id": "NGDcpk8kEfPT"
      },
      "source": [
        "### 3.2 - ASH module after layer1.1.bn2"
      ]
    },
    {
      "cell_type": "markdown",
      "metadata": {
        "id": "pOSFU_eoEfPT"
      },
      "source": [
        "#### 3.2.1 - Cartoon"
      ]
    },
    {
      "cell_type": "code",
      "execution_count": null,
      "metadata": {
        "vscode": {
          "languageId": "python"
        },
        "id": "WhNyiF9REfPT"
      },
      "outputs": [],
      "source": [
        "warnings.filterwarnings('ignore', category=UserWarning)\n",
        "\n",
        "# Parse arguments\n",
        "conf = configurations['3.2.1']\n",
        "\n",
        "#args = parse_arguments()\n",
        "args = argparse.Namespace(**conf)\n",
        "print(args)\n",
        "CONFIG.update(vars(args))\n",
        "\n",
        "# Setup output directory\n",
        "CONFIG.save_dir = os.path.join('record', CONFIG.experiment_name)\n",
        "os.makedirs(CONFIG.save_dir, exist_ok=True)\n",
        "\n",
        "# Setup logging\n",
        "logging.basicConfig(\n",
        "    filename=os.path.join(CONFIG.save_dir, 'log.txt'),\n",
        "    format='%(message)s',\n",
        "    level=logging.INFO,\n",
        "    filemode='a'\n",
        ")\n",
        "\n",
        "# Set experiment's device & deterministic behavior\n",
        "if CONFIG.cpu:\n",
        "    CONFIG.device = 'cpu'\n",
        "else:\n",
        "    CONFIG.device = 'cuda' if torch.cuda.is_available() else 'cpu'\n",
        "\n",
        "torch.manual_seed(CONFIG.seed)\n",
        "random.seed(CONFIG.seed)\n",
        "np.random.seed(CONFIG.seed)\n",
        "torch.backends.cudnn.benchmark = True\n",
        "torch.use_deterministic_algorithms(mode=True, warn_only=True)\n",
        "\n",
        "main()"
      ]
    },
    {
      "cell_type": "markdown",
      "metadata": {
        "id": "g1sb-sBYEfPT"
      },
      "source": [
        "#### 3.2.2 - Sketch"
      ]
    },
    {
      "cell_type": "code",
      "execution_count": null,
      "metadata": {
        "vscode": {
          "languageId": "python"
        },
        "id": "LfKttDpvEfPT"
      },
      "outputs": [],
      "source": [
        "warnings.filterwarnings('ignore', category=UserWarning)\n",
        "\n",
        "# Parse arguments\n",
        "conf = configurations['3.2.2']\n",
        "\n",
        "#args = parse_arguments()\n",
        "args = argparse.Namespace(**conf)\n",
        "print(args)\n",
        "CONFIG.update(vars(args))\n",
        "\n",
        "# Setup output directory\n",
        "CONFIG.save_dir = os.path.join('record', CONFIG.experiment_name)\n",
        "os.makedirs(CONFIG.save_dir, exist_ok=True)\n",
        "\n",
        "# Setup logging\n",
        "logging.basicConfig(\n",
        "    filename=os.path.join(CONFIG.save_dir, 'log.txt'),\n",
        "    format='%(message)s',\n",
        "    level=logging.INFO,\n",
        "    filemode='a'\n",
        ")\n",
        "\n",
        "# Set experiment's device & deterministic behavior\n",
        "if CONFIG.cpu:\n",
        "    CONFIG.device = 'cpu'\n",
        "else:\n",
        "    CONFIG.device = 'cuda' if torch.cuda.is_available() else 'cpu'\n",
        "\n",
        "torch.manual_seed(CONFIG.seed)\n",
        "random.seed(CONFIG.seed)\n",
        "np.random.seed(CONFIG.seed)\n",
        "torch.backends.cudnn.benchmark = True\n",
        "torch.use_deterministic_algorithms(mode=True, warn_only=True)\n",
        "\n",
        "main()"
      ]
    },
    {
      "cell_type": "markdown",
      "metadata": {
        "id": "FTHpvpc3EfPU"
      },
      "source": [
        "#### 3.2.3 - Photo"
      ]
    },
    {
      "cell_type": "code",
      "execution_count": null,
      "metadata": {
        "vscode": {
          "languageId": "python"
        },
        "id": "MLkc2GWJEfPU"
      },
      "outputs": [],
      "source": [
        "warnings.filterwarnings('ignore', category=UserWarning)\n",
        "\n",
        "# Parse arguments\n",
        "conf = configurations['3.2.3']\n",
        "\n",
        "#args = parse_arguments()\n",
        "args = argparse.Namespace(**conf)\n",
        "print(args)\n",
        "CONFIG.update(vars(args))\n",
        "\n",
        "# Setup output directory\n",
        "CONFIG.save_dir = os.path.join('record', CONFIG.experiment_name)\n",
        "os.makedirs(CONFIG.save_dir, exist_ok=True)\n",
        "\n",
        "# Setup logging\n",
        "logging.basicConfig(\n",
        "    filename=os.path.join(CONFIG.save_dir, 'log.txt'),\n",
        "    format='%(message)s',\n",
        "    level=logging.INFO,\n",
        "    filemode='a'\n",
        ")\n",
        "\n",
        "# Set experiment's device & deterministic behavior\n",
        "if CONFIG.cpu:\n",
        "    CONFIG.device = 'cpu'\n",
        "else:\n",
        "    CONFIG.device = 'cuda' if torch.cuda.is_available() else 'cpu'\n",
        "\n",
        "torch.manual_seed(CONFIG.seed)\n",
        "random.seed(CONFIG.seed)\n",
        "np.random.seed(CONFIG.seed)\n",
        "torch.backends.cudnn.benchmark = True\n",
        "torch.use_deterministic_algorithms(mode=True, warn_only=True)\n",
        "\n",
        "main()"
      ]
    },
    {
      "cell_type": "markdown",
      "metadata": {
        "id": "72uGZwd6EfPU"
      },
      "source": [
        "## Extension 2 - Binarization Ablation"
      ]
    },
    {
      "cell_type": "markdown",
      "metadata": {
        "id": "MgIYmjK5EfPU"
      },
      "source": [
        "### 4.1 - Reproduction of Section 2"
      ]
    },
    {
      "cell_type": "markdown",
      "metadata": {
        "id": "tS9tlREAEfPU"
      },
      "source": [
        "#### 4.1.1 - Mask Out Ratio = 0.00"
      ]
    },
    {
      "cell_type": "markdown",
      "metadata": {
        "id": "PzAXakK6EfPU"
      },
      "source": [
        "##### 4.1.1.1 - ASH module after layer2.1.conv2"
      ]
    },
    {
      "cell_type": "markdown",
      "metadata": {
        "id": "mb8DL00REfPU"
      },
      "source": [
        "###### 4.1.1.1.1 - Cartoon"
      ]
    },
    {
      "cell_type": "code",
      "execution_count": null,
      "metadata": {
        "vscode": {
          "languageId": "python"
        },
        "id": "a-4u4rKBEfPV"
      },
      "outputs": [],
      "source": [
        "warnings.filterwarnings('ignore', category=UserWarning)\n",
        "\n",
        "# Parse arguments\n",
        "conf = configurations['4.1.1.1.1']\n",
        "\n",
        "#args = parse_arguments()\n",
        "args = argparse.Namespace(**conf)\n",
        "print(args)\n",
        "CONFIG.update(vars(args))\n",
        "\n",
        "# Setup output directory\n",
        "CONFIG.save_dir = os.path.join('record', CONFIG.experiment_name)\n",
        "os.makedirs(CONFIG.save_dir, exist_ok=True)\n",
        "\n",
        "# Setup logging\n",
        "logging.basicConfig(\n",
        "    filename=os.path.join(CONFIG.save_dir, 'log.txt'),\n",
        "    format='%(message)s',\n",
        "    level=logging.INFO,\n",
        "    filemode='a'\n",
        ")\n",
        "\n",
        "# Set experiment's device & deterministic behavior\n",
        "if CONFIG.cpu:\n",
        "    CONFIG.device = 'cpu'\n",
        "else:\n",
        "    CONFIG.device = 'cuda' if torch.cuda.is_available() else 'cpu'\n",
        "\n",
        "torch.manual_seed(CONFIG.seed)\n",
        "random.seed(CONFIG.seed)\n",
        "np.random.seed(CONFIG.seed)\n",
        "torch.backends.cudnn.benchmark = True\n",
        "torch.use_deterministic_algorithms(mode=True, warn_only=True)\n",
        "\n",
        "main()"
      ]
    },
    {
      "cell_type": "markdown",
      "metadata": {
        "id": "S2uXIm4CEfPV"
      },
      "source": [
        "###### 4.1.1.1.2 - Sketch"
      ]
    },
    {
      "cell_type": "code",
      "execution_count": null,
      "metadata": {
        "vscode": {
          "languageId": "python"
        },
        "id": "1AqhIhkPEfPV"
      },
      "outputs": [],
      "source": [
        "warnings.filterwarnings('ignore', category=UserWarning)\n",
        "\n",
        "# Parse arguments\n",
        "conf = configurations['4.1.1.1.2']\n",
        "\n",
        "#args = parse_arguments()\n",
        "args = argparse.Namespace(**conf)\n",
        "print(args)\n",
        "CONFIG.update(vars(args))\n",
        "\n",
        "# Setup output directory\n",
        "CONFIG.save_dir = os.path.join('record', CONFIG.experiment_name)\n",
        "os.makedirs(CONFIG.save_dir, exist_ok=True)\n",
        "\n",
        "# Setup logging\n",
        "logging.basicConfig(\n",
        "    filename=os.path.join(CONFIG.save_dir, 'log.txt'),\n",
        "    format='%(message)s',\n",
        "    level=logging.INFO,\n",
        "    filemode='a'\n",
        ")\n",
        "\n",
        "# Set experiment's device & deterministic behavior\n",
        "if CONFIG.cpu:\n",
        "    CONFIG.device = 'cpu'\n",
        "else:\n",
        "    CONFIG.device = 'cuda' if torch.cuda.is_available() else 'cpu'\n",
        "\n",
        "torch.manual_seed(CONFIG.seed)\n",
        "random.seed(CONFIG.seed)\n",
        "np.random.seed(CONFIG.seed)\n",
        "torch.backends.cudnn.benchmark = True\n",
        "torch.use_deterministic_algorithms(mode=True, warn_only=True)\n",
        "\n",
        "main()"
      ]
    },
    {
      "cell_type": "markdown",
      "metadata": {
        "id": "TDLuDYfWEfPV"
      },
      "source": [
        "###### 4.1.1.1.3 - Photo"
      ]
    },
    {
      "cell_type": "code",
      "execution_count": null,
      "metadata": {
        "vscode": {
          "languageId": "python"
        },
        "id": "R-bJ40jMEfPV"
      },
      "outputs": [],
      "source": [
        "warnings.filterwarnings('ignore', category=UserWarning)\n",
        "\n",
        "# Parse arguments\n",
        "conf = configurations['4.1.1.1.3']\n",
        "\n",
        "#args = parse_arguments()\n",
        "args = argparse.Namespace(**conf)\n",
        "print(args)\n",
        "CONFIG.update(vars(args))\n",
        "\n",
        "# Setup output directory\n",
        "CONFIG.save_dir = os.path.join('record', CONFIG.experiment_name)\n",
        "os.makedirs(CONFIG.save_dir, exist_ok=True)\n",
        "\n",
        "# Setup logging\n",
        "logging.basicConfig(\n",
        "    filename=os.path.join(CONFIG.save_dir, 'log.txt'),\n",
        "    format='%(message)s',\n",
        "    level=logging.INFO,\n",
        "    filemode='a'\n",
        ")\n",
        "\n",
        "# Set experiment's device & deterministic behavior\n",
        "if CONFIG.cpu:\n",
        "    CONFIG.device = 'cpu'\n",
        "else:\n",
        "    CONFIG.device = 'cuda' if torch.cuda.is_available() else 'cpu'\n",
        "\n",
        "torch.manual_seed(CONFIG.seed)\n",
        "random.seed(CONFIG.seed)\n",
        "np.random.seed(CONFIG.seed)\n",
        "torch.backends.cudnn.benchmark = True\n",
        "torch.use_deterministic_algorithms(mode=True, warn_only=True)\n",
        "\n",
        "main()"
      ]
    },
    {
      "cell_type": "markdown",
      "metadata": {
        "id": "gyCIUzFsEfPV"
      },
      "source": [
        "##### 4.1.1.2 - ASH module after layer1.1.bn2"
      ]
    },
    {
      "cell_type": "markdown",
      "metadata": {
        "id": "xRgmC1H-EfPW"
      },
      "source": [
        "###### 4.1.1.2.1 - Cartoon"
      ]
    },
    {
      "cell_type": "code",
      "execution_count": null,
      "metadata": {
        "vscode": {
          "languageId": "python"
        },
        "id": "14YR8sBOEfPW"
      },
      "outputs": [],
      "source": [
        "warnings.filterwarnings('ignore', category=UserWarning)\n",
        "\n",
        "# Parse arguments\n",
        "conf = configurations['4.1.1.2.1']\n",
        "\n",
        "#args = parse_arguments()\n",
        "args = argparse.Namespace(**conf)\n",
        "print(args)\n",
        "CONFIG.update(vars(args))\n",
        "\n",
        "# Setup output directory\n",
        "CONFIG.save_dir = os.path.join('record', CONFIG.experiment_name)\n",
        "os.makedirs(CONFIG.save_dir, exist_ok=True)\n",
        "\n",
        "# Setup logging\n",
        "logging.basicConfig(\n",
        "    filename=os.path.join(CONFIG.save_dir, 'log.txt'),\n",
        "    format='%(message)s',\n",
        "    level=logging.INFO,\n",
        "    filemode='a'\n",
        ")\n",
        "\n",
        "# Set experiment's device & deterministic behavior\n",
        "if CONFIG.cpu:\n",
        "    CONFIG.device = 'cpu'\n",
        "else:\n",
        "    CONFIG.device = 'cuda' if torch.cuda.is_available() else 'cpu'\n",
        "\n",
        "torch.manual_seed(CONFIG.seed)\n",
        "random.seed(CONFIG.seed)\n",
        "np.random.seed(CONFIG.seed)\n",
        "torch.backends.cudnn.benchmark = True\n",
        "torch.use_deterministic_algorithms(mode=True, warn_only=True)\n",
        "\n",
        "main()"
      ]
    },
    {
      "cell_type": "markdown",
      "metadata": {
        "id": "ShfW_5BqEfPW"
      },
      "source": [
        "###### 4.1.1.2.2 - Sketch"
      ]
    },
    {
      "cell_type": "code",
      "execution_count": null,
      "metadata": {
        "vscode": {
          "languageId": "python"
        },
        "id": "Fi_BjkE2EfPW"
      },
      "outputs": [],
      "source": [
        "warnings.filterwarnings('ignore', category=UserWarning)\n",
        "\n",
        "# Parse arguments\n",
        "conf = configurations['4.1.1.2.2']\n",
        "\n",
        "#args = parse_arguments()\n",
        "args = argparse.Namespace(**conf)\n",
        "print(args)\n",
        "CONFIG.update(vars(args))\n",
        "\n",
        "# Setup output directory\n",
        "CONFIG.save_dir = os.path.join('record', CONFIG.experiment_name)\n",
        "os.makedirs(CONFIG.save_dir, exist_ok=True)\n",
        "\n",
        "# Setup logging\n",
        "logging.basicConfig(\n",
        "    filename=os.path.join(CONFIG.save_dir, 'log.txt'),\n",
        "    format='%(message)s',\n",
        "    level=logging.INFO,\n",
        "    filemode='a'\n",
        ")\n",
        "\n",
        "# Set experiment's device & deterministic behavior\n",
        "if CONFIG.cpu:\n",
        "    CONFIG.device = 'cpu'\n",
        "else:\n",
        "    CONFIG.device = 'cuda' if torch.cuda.is_available() else 'cpu'\n",
        "\n",
        "torch.manual_seed(CONFIG.seed)\n",
        "random.seed(CONFIG.seed)\n",
        "np.random.seed(CONFIG.seed)\n",
        "torch.backends.cudnn.benchmark = True\n",
        "torch.use_deterministic_algorithms(mode=True, warn_only=True)\n",
        "\n",
        "main()"
      ]
    },
    {
      "cell_type": "markdown",
      "metadata": {
        "id": "dN-OBW29EfPW"
      },
      "source": [
        "###### 4.1.1.2.3 - Photo"
      ]
    },
    {
      "cell_type": "code",
      "execution_count": null,
      "metadata": {
        "vscode": {
          "languageId": "python"
        },
        "id": "6YlmbSnlEfPW"
      },
      "outputs": [],
      "source": [
        "warnings.filterwarnings('ignore', category=UserWarning)\n",
        "\n",
        "# Parse arguments\n",
        "conf = configurations['4.1.1.2.3']\n",
        "\n",
        "#args = parse_arguments()\n",
        "args = argparse.Namespace(**conf)\n",
        "print(args)\n",
        "CONFIG.update(vars(args))\n",
        "\n",
        "# Setup output directory\n",
        "CONFIG.save_dir = os.path.join('record', CONFIG.experiment_name)\n",
        "os.makedirs(CONFIG.save_dir, exist_ok=True)\n",
        "\n",
        "# Setup logging\n",
        "logging.basicConfig(\n",
        "    filename=os.path.join(CONFIG.save_dir, 'log.txt'),\n",
        "    format='%(message)s',\n",
        "    level=logging.INFO,\n",
        "    filemode='a'\n",
        ")\n",
        "\n",
        "# Set experiment's device & deterministic behavior\n",
        "if CONFIG.cpu:\n",
        "    CONFIG.device = 'cpu'\n",
        "else:\n",
        "    CONFIG.device = 'cuda' if torch.cuda.is_available() else 'cpu'\n",
        "\n",
        "torch.manual_seed(CONFIG.seed)\n",
        "random.seed(CONFIG.seed)\n",
        "np.random.seed(CONFIG.seed)\n",
        "torch.backends.cudnn.benchmark = True\n",
        "torch.use_deterministic_algorithms(mode=True, warn_only=True)\n",
        "\n",
        "main()"
      ]
    },
    {
      "cell_type": "markdown",
      "metadata": {
        "id": "s20vc0iEEfPW"
      },
      "source": [
        "#### 4.1.2 - Mask Out Ratio = 0.25"
      ]
    },
    {
      "cell_type": "markdown",
      "metadata": {
        "id": "Gvmf68wmEfPW"
      },
      "source": [
        "##### 4.1.2.1 - ASH module after layer2.1.conv2"
      ]
    },
    {
      "cell_type": "markdown",
      "metadata": {
        "id": "55GxmEr_EfPW"
      },
      "source": [
        "###### 4.1.2.1.1 - Cartoon"
      ]
    },
    {
      "cell_type": "code",
      "execution_count": null,
      "metadata": {
        "vscode": {
          "languageId": "python"
        },
        "id": "JSSkxoEHEfPW"
      },
      "outputs": [],
      "source": [
        "warnings.filterwarnings('ignore', category=UserWarning)\n",
        "\n",
        "# Parse arguments\n",
        "conf = configurations['4.1.2.1.1']\n",
        "\n",
        "#args = parse_arguments()\n",
        "args = argparse.Namespace(**conf)\n",
        "print(args)\n",
        "CONFIG.update(vars(args))\n",
        "\n",
        "# Setup output directory\n",
        "CONFIG.save_dir = os.path.join('record', CONFIG.experiment_name)\n",
        "os.makedirs(CONFIG.save_dir, exist_ok=True)\n",
        "\n",
        "# Setup logging\n",
        "logging.basicConfig(\n",
        "    filename=os.path.join(CONFIG.save_dir, 'log.txt'),\n",
        "    format='%(message)s',\n",
        "    level=logging.INFO,\n",
        "    filemode='a'\n",
        ")\n",
        "\n",
        "# Set experiment's device & deterministic behavior\n",
        "if CONFIG.cpu:\n",
        "    CONFIG.device = 'cpu'\n",
        "else:\n",
        "    CONFIG.device = 'cuda' if torch.cuda.is_available() else 'cpu'\n",
        "\n",
        "torch.manual_seed(CONFIG.seed)\n",
        "random.seed(CONFIG.seed)\n",
        "np.random.seed(CONFIG.seed)\n",
        "torch.backends.cudnn.benchmark = True\n",
        "torch.use_deterministic_algorithms(mode=True, warn_only=True)\n",
        "\n",
        "main()"
      ]
    },
    {
      "cell_type": "markdown",
      "metadata": {
        "id": "KCHHjneoEfPW"
      },
      "source": [
        "###### 4.1.2.1.2 - Sketch"
      ]
    },
    {
      "cell_type": "code",
      "execution_count": null,
      "metadata": {
        "vscode": {
          "languageId": "python"
        },
        "id": "Q7KTC7hBEfPX"
      },
      "outputs": [],
      "source": [
        "warnings.filterwarnings('ignore', category=UserWarning)\n",
        "\n",
        "# Parse arguments\n",
        "conf = configurations['4.1.2.1.2']\n",
        "\n",
        "#args = parse_arguments()\n",
        "args = argparse.Namespace(**conf)\n",
        "print(args)\n",
        "CONFIG.update(vars(args))\n",
        "\n",
        "# Setup output directory\n",
        "CONFIG.save_dir = os.path.join('record', CONFIG.experiment_name)\n",
        "os.makedirs(CONFIG.save_dir, exist_ok=True)\n",
        "\n",
        "# Setup logging\n",
        "logging.basicConfig(\n",
        "    filename=os.path.join(CONFIG.save_dir, 'log.txt'),\n",
        "    format='%(message)s',\n",
        "    level=logging.INFO,\n",
        "    filemode='a'\n",
        ")\n",
        "\n",
        "# Set experiment's device & deterministic behavior\n",
        "if CONFIG.cpu:\n",
        "    CONFIG.device = 'cpu'\n",
        "else:\n",
        "    CONFIG.device = 'cuda' if torch.cuda.is_available() else 'cpu'\n",
        "\n",
        "torch.manual_seed(CONFIG.seed)\n",
        "random.seed(CONFIG.seed)\n",
        "np.random.seed(CONFIG.seed)\n",
        "torch.backends.cudnn.benchmark = True\n",
        "torch.use_deterministic_algorithms(mode=True, warn_only=True)\n",
        "\n",
        "main()"
      ]
    },
    {
      "cell_type": "markdown",
      "metadata": {
        "id": "xNhLYfcLEfPX"
      },
      "source": [
        "###### 4.1.2.1.3 - Photo"
      ]
    },
    {
      "cell_type": "code",
      "execution_count": null,
      "metadata": {
        "vscode": {
          "languageId": "python"
        },
        "id": "uORsams_EfPX"
      },
      "outputs": [],
      "source": [
        "warnings.filterwarnings('ignore', category=UserWarning)\n",
        "\n",
        "# Parse arguments\n",
        "conf = configurations['4.1.2.1.3']\n",
        "\n",
        "#args = parse_arguments()\n",
        "args = argparse.Namespace(**conf)\n",
        "print(args)\n",
        "CONFIG.update(vars(args))\n",
        "\n",
        "# Setup output directory\n",
        "CONFIG.save_dir = os.path.join('record', CONFIG.experiment_name)\n",
        "os.makedirs(CONFIG.save_dir, exist_ok=True)\n",
        "\n",
        "# Setup logging\n",
        "logging.basicConfig(\n",
        "    filename=os.path.join(CONFIG.save_dir, 'log.txt'),\n",
        "    format='%(message)s',\n",
        "    level=logging.INFO,\n",
        "    filemode='a'\n",
        ")\n",
        "\n",
        "# Set experiment's device & deterministic behavior\n",
        "if CONFIG.cpu:\n",
        "    CONFIG.device = 'cpu'\n",
        "else:\n",
        "    CONFIG.device = 'cuda' if torch.cuda.is_available() else 'cpu'\n",
        "\n",
        "torch.manual_seed(CONFIG.seed)\n",
        "random.seed(CONFIG.seed)\n",
        "np.random.seed(CONFIG.seed)\n",
        "torch.backends.cudnn.benchmark = True\n",
        "torch.use_deterministic_algorithms(mode=True, warn_only=True)\n",
        "\n",
        "main()"
      ]
    },
    {
      "cell_type": "markdown",
      "metadata": {
        "id": "_thmUyhkEfPX"
      },
      "source": [
        "##### 4.1.2.2 - ASH module after layer1.1.bn2"
      ]
    },
    {
      "cell_type": "markdown",
      "metadata": {
        "id": "Sjj1kGVQEfPX"
      },
      "source": [
        "###### 4.1.2.2.1 - Cartoon"
      ]
    },
    {
      "cell_type": "code",
      "execution_count": null,
      "metadata": {
        "vscode": {
          "languageId": "python"
        },
        "id": "PDR-NuWiEfPX"
      },
      "outputs": [],
      "source": [
        "warnings.filterwarnings('ignore', category=UserWarning)\n",
        "\n",
        "# Parse arguments\n",
        "conf = configurations['4.1.2.2.1']\n",
        "\n",
        "#args = parse_arguments()\n",
        "args = argparse.Namespace(**conf)\n",
        "print(args)\n",
        "CONFIG.update(vars(args))\n",
        "\n",
        "# Setup output directory\n",
        "CONFIG.save_dir = os.path.join('record', CONFIG.experiment_name)\n",
        "os.makedirs(CONFIG.save_dir, exist_ok=True)\n",
        "\n",
        "# Setup logging\n",
        "logging.basicConfig(\n",
        "    filename=os.path.join(CONFIG.save_dir, 'log.txt'),\n",
        "    format='%(message)s',\n",
        "    level=logging.INFO,\n",
        "    filemode='a'\n",
        ")\n",
        "\n",
        "# Set experiment's device & deterministic behavior\n",
        "if CONFIG.cpu:\n",
        "    CONFIG.device = 'cpu'\n",
        "else:\n",
        "    CONFIG.device = 'cuda' if torch.cuda.is_available() else 'cpu'\n",
        "\n",
        "torch.manual_seed(CONFIG.seed)\n",
        "random.seed(CONFIG.seed)\n",
        "np.random.seed(CONFIG.seed)\n",
        "torch.backends.cudnn.benchmark = True\n",
        "torch.use_deterministic_algorithms(mode=True, warn_only=True)\n",
        "\n",
        "main()"
      ]
    },
    {
      "cell_type": "markdown",
      "metadata": {
        "id": "QrvvH5MZEfPY"
      },
      "source": [
        "###### 4.1.2.2.2 - Sketch"
      ]
    },
    {
      "cell_type": "code",
      "execution_count": null,
      "metadata": {
        "vscode": {
          "languageId": "python"
        },
        "id": "-FNsR666EfPY"
      },
      "outputs": [],
      "source": [
        "warnings.filterwarnings('ignore', category=UserWarning)\n",
        "\n",
        "# Parse arguments\n",
        "conf = configurations['4.1.2.2.2']\n",
        "\n",
        "#args = parse_arguments()\n",
        "args = argparse.Namespace(**conf)\n",
        "print(args)\n",
        "CONFIG.update(vars(args))\n",
        "\n",
        "# Setup output directory\n",
        "CONFIG.save_dir = os.path.join('record', CONFIG.experiment_name)\n",
        "os.makedirs(CONFIG.save_dir, exist_ok=True)\n",
        "\n",
        "# Setup logging\n",
        "logging.basicConfig(\n",
        "    filename=os.path.join(CONFIG.save_dir, 'log.txt'),\n",
        "    format='%(message)s',\n",
        "    level=logging.INFO,\n",
        "    filemode='a'\n",
        ")\n",
        "\n",
        "# Set experiment's device & deterministic behavior\n",
        "if CONFIG.cpu:\n",
        "    CONFIG.device = 'cpu'\n",
        "else:\n",
        "    CONFIG.device = 'cuda' if torch.cuda.is_available() else 'cpu'\n",
        "\n",
        "torch.manual_seed(CONFIG.seed)\n",
        "random.seed(CONFIG.seed)\n",
        "np.random.seed(CONFIG.seed)\n",
        "torch.backends.cudnn.benchmark = True\n",
        "torch.use_deterministic_algorithms(mode=True, warn_only=True)\n",
        "\n",
        "main()"
      ]
    },
    {
      "cell_type": "markdown",
      "metadata": {
        "id": "3mW3YI3vEfPY"
      },
      "source": [
        "###### 4.1.2.2.3 - Photo"
      ]
    },
    {
      "cell_type": "code",
      "execution_count": null,
      "metadata": {
        "vscode": {
          "languageId": "python"
        },
        "id": "eG283CIMEfPY"
      },
      "outputs": [],
      "source": [
        "warnings.filterwarnings('ignore', category=UserWarning)\n",
        "\n",
        "# Parse arguments\n",
        "conf = configurations['4.1.2.2.3']\n",
        "\n",
        "#args = parse_arguments()\n",
        "args = argparse.Namespace(**conf)\n",
        "print(args)\n",
        "CONFIG.update(vars(args))\n",
        "\n",
        "# Setup output directory\n",
        "CONFIG.save_dir = os.path.join('record', CONFIG.experiment_name)\n",
        "os.makedirs(CONFIG.save_dir, exist_ok=True)\n",
        "\n",
        "# Setup logging\n",
        "logging.basicConfig(\n",
        "    filename=os.path.join(CONFIG.save_dir, 'log.txt'),\n",
        "    format='%(message)s',\n",
        "    level=logging.INFO,\n",
        "    filemode='a'\n",
        ")\n",
        "\n",
        "# Set experiment's device & deterministic behavior\n",
        "if CONFIG.cpu:\n",
        "    CONFIG.device = 'cpu'\n",
        "else:\n",
        "    CONFIG.device = 'cuda' if torch.cuda.is_available() else 'cpu'\n",
        "\n",
        "torch.manual_seed(CONFIG.seed)\n",
        "random.seed(CONFIG.seed)\n",
        "np.random.seed(CONFIG.seed)\n",
        "torch.backends.cudnn.benchmark = True\n",
        "torch.use_deterministic_algorithms(mode=True, warn_only=True)\n",
        "\n",
        "main()"
      ]
    },
    {
      "cell_type": "markdown",
      "metadata": {
        "id": "GKS4byjuEfPZ"
      },
      "source": [
        "#### 4.1.3 - Mask Out Ratio = 0.50"
      ]
    },
    {
      "cell_type": "markdown",
      "metadata": {
        "id": "PlsneOHsEfPZ"
      },
      "source": [
        "##### 4.1.3.1 - ASH module after layer2.1.conv2"
      ]
    },
    {
      "cell_type": "markdown",
      "metadata": {
        "id": "EPGm29ksEfPZ"
      },
      "source": [
        "###### 4.1.3.1.1 - Cartoon"
      ]
    },
    {
      "cell_type": "code",
      "execution_count": null,
      "metadata": {
        "vscode": {
          "languageId": "python"
        },
        "id": "NfOe4Sm8EfPZ"
      },
      "outputs": [],
      "source": [
        "warnings.filterwarnings('ignore', category=UserWarning)\n",
        "\n",
        "# Parse arguments\n",
        "conf = configurations['4.1.3.1.1']\n",
        "\n",
        "#args = parse_arguments()\n",
        "args = argparse.Namespace(**conf)\n",
        "print(args)\n",
        "CONFIG.update(vars(args))\n",
        "\n",
        "# Setup output directory\n",
        "CONFIG.save_dir = os.path.join('record', CONFIG.experiment_name)\n",
        "os.makedirs(CONFIG.save_dir, exist_ok=True)\n",
        "\n",
        "# Setup logging\n",
        "logging.basicConfig(\n",
        "    filename=os.path.join(CONFIG.save_dir, 'log.txt'),\n",
        "    format='%(message)s',\n",
        "    level=logging.INFO,\n",
        "    filemode='a'\n",
        ")\n",
        "\n",
        "# Set experiment's device & deterministic behavior\n",
        "if CONFIG.cpu:\n",
        "    CONFIG.device = 'cpu'\n",
        "else:\n",
        "    CONFIG.device = 'cuda' if torch.cuda.is_available() else 'cpu'\n",
        "\n",
        "torch.manual_seed(CONFIG.seed)\n",
        "random.seed(CONFIG.seed)\n",
        "np.random.seed(CONFIG.seed)\n",
        "torch.backends.cudnn.benchmark = True\n",
        "torch.use_deterministic_algorithms(mode=True, warn_only=True)\n",
        "\n",
        "main()"
      ]
    },
    {
      "cell_type": "markdown",
      "metadata": {
        "id": "db1wWEh8EfPZ"
      },
      "source": [
        "###### 4.1.3.1.2 - Sketch"
      ]
    },
    {
      "cell_type": "code",
      "execution_count": null,
      "metadata": {
        "vscode": {
          "languageId": "python"
        },
        "id": "0uStqaFwEfPZ"
      },
      "outputs": [],
      "source": [
        "warnings.filterwarnings('ignore', category=UserWarning)\n",
        "\n",
        "# Parse arguments\n",
        "conf = configurations['4.1.3.1.2']\n",
        "\n",
        "#args = parse_arguments()\n",
        "args = argparse.Namespace(**conf)\n",
        "print(args)\n",
        "CONFIG.update(vars(args))\n",
        "\n",
        "# Setup output directory\n",
        "CONFIG.save_dir = os.path.join('record', CONFIG.experiment_name)\n",
        "os.makedirs(CONFIG.save_dir, exist_ok=True)\n",
        "\n",
        "# Setup logging\n",
        "logging.basicConfig(\n",
        "    filename=os.path.join(CONFIG.save_dir, 'log.txt'),\n",
        "    format='%(message)s',\n",
        "    level=logging.INFO,\n",
        "    filemode='a'\n",
        ")\n",
        "\n",
        "# Set experiment's device & deterministic behavior\n",
        "if CONFIG.cpu:\n",
        "    CONFIG.device = 'cpu'\n",
        "else:\n",
        "    CONFIG.device = 'cuda' if torch.cuda.is_available() else 'cpu'\n",
        "\n",
        "torch.manual_seed(CONFIG.seed)\n",
        "random.seed(CONFIG.seed)\n",
        "np.random.seed(CONFIG.seed)\n",
        "torch.backends.cudnn.benchmark = True\n",
        "torch.use_deterministic_algorithms(mode=True, warn_only=True)\n",
        "\n",
        "main()"
      ]
    },
    {
      "cell_type": "markdown",
      "metadata": {
        "id": "0LnWrxvDEfPZ"
      },
      "source": [
        "###### 4.1.3.1.3 - Photo"
      ]
    },
    {
      "cell_type": "code",
      "execution_count": null,
      "metadata": {
        "vscode": {
          "languageId": "python"
        },
        "id": "PWOEjS21EfPa"
      },
      "outputs": [],
      "source": [
        "warnings.filterwarnings('ignore', category=UserWarning)\n",
        "\n",
        "# Parse arguments\n",
        "conf = configurations['4.1.3.1.3']\n",
        "\n",
        "#args = parse_arguments()\n",
        "args = argparse.Namespace(**conf)\n",
        "print(args)\n",
        "CONFIG.update(vars(args))\n",
        "\n",
        "# Setup output directory\n",
        "CONFIG.save_dir = os.path.join('record', CONFIG.experiment_name)\n",
        "os.makedirs(CONFIG.save_dir, exist_ok=True)\n",
        "\n",
        "# Setup logging\n",
        "logging.basicConfig(\n",
        "    filename=os.path.join(CONFIG.save_dir, 'log.txt'),\n",
        "    format='%(message)s',\n",
        "    level=logging.INFO,\n",
        "    filemode='a'\n",
        ")\n",
        "\n",
        "# Set experiment's device & deterministic behavior\n",
        "if CONFIG.cpu:\n",
        "    CONFIG.device = 'cpu'\n",
        "else:\n",
        "    CONFIG.device = 'cuda' if torch.cuda.is_available() else 'cpu'\n",
        "\n",
        "torch.manual_seed(CONFIG.seed)\n",
        "random.seed(CONFIG.seed)\n",
        "np.random.seed(CONFIG.seed)\n",
        "torch.backends.cudnn.benchmark = True\n",
        "torch.use_deterministic_algorithms(mode=True, warn_only=True)\n",
        "\n",
        "main()"
      ]
    },
    {
      "cell_type": "markdown",
      "metadata": {
        "id": "M1zTja8HEfPa"
      },
      "source": [
        "##### 4.1.3.2 - ASH module after layer1.1.bn2"
      ]
    },
    {
      "cell_type": "markdown",
      "metadata": {
        "id": "On3EqPVZEfPa"
      },
      "source": [
        "###### 4.1.3.2.1 - Cartoon"
      ]
    },
    {
      "cell_type": "code",
      "execution_count": null,
      "metadata": {
        "vscode": {
          "languageId": "python"
        },
        "id": "kxKARs4CEfPa"
      },
      "outputs": [],
      "source": [
        "warnings.filterwarnings('ignore', category=UserWarning)\n",
        "\n",
        "# Parse arguments\n",
        "conf = configurations['4.1.3.2.1']\n",
        "\n",
        "#args = parse_arguments()\n",
        "args = argparse.Namespace(**conf)\n",
        "print(args)\n",
        "CONFIG.update(vars(args))\n",
        "\n",
        "# Setup output directory\n",
        "CONFIG.save_dir = os.path.join('record', CONFIG.experiment_name)\n",
        "os.makedirs(CONFIG.save_dir, exist_ok=True)\n",
        "\n",
        "# Setup logging\n",
        "logging.basicConfig(\n",
        "    filename=os.path.join(CONFIG.save_dir, 'log.txt'),\n",
        "    format='%(message)s',\n",
        "    level=logging.INFO,\n",
        "    filemode='a'\n",
        ")\n",
        "\n",
        "# Set experiment's device & deterministic behavior\n",
        "if CONFIG.cpu:\n",
        "    CONFIG.device = 'cpu'\n",
        "else:\n",
        "    CONFIG.device = 'cuda' if torch.cuda.is_available() else 'cpu'\n",
        "\n",
        "torch.manual_seed(CONFIG.seed)\n",
        "random.seed(CONFIG.seed)\n",
        "np.random.seed(CONFIG.seed)\n",
        "torch.backends.cudnn.benchmark = True\n",
        "torch.use_deterministic_algorithms(mode=True, warn_only=True)\n",
        "\n",
        "main()"
      ]
    },
    {
      "cell_type": "markdown",
      "metadata": {
        "id": "RbgVf2qBEfPa"
      },
      "source": [
        "###### 4.1.3.2.2 - Sketch"
      ]
    },
    {
      "cell_type": "code",
      "execution_count": null,
      "metadata": {
        "vscode": {
          "languageId": "python"
        },
        "id": "4_Lf4GFYEfPa"
      },
      "outputs": [],
      "source": [
        "warnings.filterwarnings('ignore', category=UserWarning)\n",
        "\n",
        "# Parse arguments\n",
        "conf = configurations['4.1.3.2.2']\n",
        "\n",
        "#args = parse_arguments()\n",
        "args = argparse.Namespace(**conf)\n",
        "print(args)\n",
        "CONFIG.update(vars(args))\n",
        "\n",
        "# Setup output directory\n",
        "CONFIG.save_dir = os.path.join('record', CONFIG.experiment_name)\n",
        "os.makedirs(CONFIG.save_dir, exist_ok=True)\n",
        "\n",
        "# Setup logging\n",
        "logging.basicConfig(\n",
        "    filename=os.path.join(CONFIG.save_dir, 'log.txt'),\n",
        "    format='%(message)s',\n",
        "    level=logging.INFO,\n",
        "    filemode='a'\n",
        ")\n",
        "\n",
        "# Set experiment's device & deterministic behavior\n",
        "if CONFIG.cpu:\n",
        "    CONFIG.device = 'cpu'\n",
        "else:\n",
        "    CONFIG.device = 'cuda' if torch.cuda.is_available() else 'cpu'\n",
        "\n",
        "torch.manual_seed(CONFIG.seed)\n",
        "random.seed(CONFIG.seed)\n",
        "np.random.seed(CONFIG.seed)\n",
        "torch.backends.cudnn.benchmark = True\n",
        "torch.use_deterministic_algorithms(mode=True, warn_only=True)\n",
        "\n",
        "main()"
      ]
    },
    {
      "cell_type": "markdown",
      "metadata": {
        "id": "b9Dla29lEfPb"
      },
      "source": [
        "###### 4.1.3.2.3 - Photo"
      ]
    },
    {
      "cell_type": "code",
      "execution_count": null,
      "metadata": {
        "vscode": {
          "languageId": "python"
        },
        "id": "ScIO3dr-EfPc"
      },
      "outputs": [],
      "source": [
        "warnings.filterwarnings('ignore', category=UserWarning)\n",
        "\n",
        "# Parse arguments\n",
        "conf = configurations['4.1.3.2.3']\n",
        "\n",
        "#args = parse_arguments()\n",
        "args = argparse.Namespace(**conf)\n",
        "print(args)\n",
        "CONFIG.update(vars(args))\n",
        "\n",
        "# Setup output directory\n",
        "CONFIG.save_dir = os.path.join('record', CONFIG.experiment_name)\n",
        "os.makedirs(CONFIG.save_dir, exist_ok=True)\n",
        "\n",
        "# Setup logging\n",
        "logging.basicConfig(\n",
        "    filename=os.path.join(CONFIG.save_dir, 'log.txt'),\n",
        "    format='%(message)s',\n",
        "    level=logging.INFO,\n",
        "    filemode='a'\n",
        ")\n",
        "\n",
        "# Set experiment's device & deterministic behavior\n",
        "if CONFIG.cpu:\n",
        "    CONFIG.device = 'cpu'\n",
        "else:\n",
        "    CONFIG.device = 'cuda' if torch.cuda.is_available() else 'cpu'\n",
        "\n",
        "torch.manual_seed(CONFIG.seed)\n",
        "random.seed(CONFIG.seed)\n",
        "np.random.seed(CONFIG.seed)\n",
        "torch.backends.cudnn.benchmark = True\n",
        "torch.use_deterministic_algorithms(mode=True, warn_only=True)\n",
        "\n",
        "main()"
      ]
    },
    {
      "cell_type": "markdown",
      "metadata": {
        "id": "YAFdubuOEfPc"
      },
      "source": [
        "#### 4.1.4 - Mask Out Ratio = 0.75"
      ]
    },
    {
      "cell_type": "markdown",
      "metadata": {
        "id": "jWzuj6VBEfPc"
      },
      "source": [
        "##### 4.1.4.1 - ASH module after layer2.1.conv2"
      ]
    },
    {
      "cell_type": "markdown",
      "metadata": {
        "id": "nTyoPIm1EfPc"
      },
      "source": [
        "###### 4.1.4.1.1 - Cartoon"
      ]
    },
    {
      "cell_type": "code",
      "execution_count": null,
      "metadata": {
        "vscode": {
          "languageId": "python"
        },
        "id": "9S4MBax7EfPc"
      },
      "outputs": [],
      "source": [
        "warnings.filterwarnings('ignore', category=UserWarning)\n",
        "\n",
        "# Parse arguments\n",
        "conf = configurations['4.1.4.1.1']\n",
        "\n",
        "#args = parse_arguments()\n",
        "args = argparse.Namespace(**conf)\n",
        "print(args)\n",
        "CONFIG.update(vars(args))\n",
        "\n",
        "# Setup output directory\n",
        "CONFIG.save_dir = os.path.join('record', CONFIG.experiment_name)\n",
        "os.makedirs(CONFIG.save_dir, exist_ok=True)\n",
        "\n",
        "# Setup logging\n",
        "logging.basicConfig(\n",
        "    filename=os.path.join(CONFIG.save_dir, 'log.txt'),\n",
        "    format='%(message)s',\n",
        "    level=logging.INFO,\n",
        "    filemode='a'\n",
        ")\n",
        "\n",
        "# Set experiment's device & deterministic behavior\n",
        "if CONFIG.cpu:\n",
        "    CONFIG.device = 'cpu'\n",
        "else:\n",
        "    CONFIG.device = 'cuda' if torch.cuda.is_available() else 'cpu'\n",
        "\n",
        "torch.manual_seed(CONFIG.seed)\n",
        "random.seed(CONFIG.seed)\n",
        "np.random.seed(CONFIG.seed)\n",
        "torch.backends.cudnn.benchmark = True\n",
        "torch.use_deterministic_algorithms(mode=True, warn_only=True)\n",
        "\n",
        "main()"
      ]
    },
    {
      "cell_type": "markdown",
      "metadata": {
        "id": "S5OvQWvUEfPd"
      },
      "source": [
        "###### 4.1.4.1.2 - Sketch"
      ]
    },
    {
      "cell_type": "code",
      "execution_count": null,
      "metadata": {
        "vscode": {
          "languageId": "python"
        },
        "id": "k-ipcw1-EfPd"
      },
      "outputs": [],
      "source": [
        "warnings.filterwarnings('ignore', category=UserWarning)\n",
        "\n",
        "# Parse arguments\n",
        "conf = configurations['4.1.4.1.2']\n",
        "\n",
        "#args = parse_arguments()\n",
        "args = argparse.Namespace(**conf)\n",
        "print(args)\n",
        "CONFIG.update(vars(args))\n",
        "\n",
        "# Setup output directory\n",
        "CONFIG.save_dir = os.path.join('record', CONFIG.experiment_name)\n",
        "os.makedirs(CONFIG.save_dir, exist_ok=True)\n",
        "\n",
        "# Setup logging\n",
        "logging.basicConfig(\n",
        "    filename=os.path.join(CONFIG.save_dir, 'log.txt'),\n",
        "    format='%(message)s',\n",
        "    level=logging.INFO,\n",
        "    filemode='a'\n",
        ")\n",
        "\n",
        "# Set experiment's device & deterministic behavior\n",
        "if CONFIG.cpu:\n",
        "    CONFIG.device = 'cpu'\n",
        "else:\n",
        "    CONFIG.device = 'cuda' if torch.cuda.is_available() else 'cpu'\n",
        "\n",
        "torch.manual_seed(CONFIG.seed)\n",
        "random.seed(CONFIG.seed)\n",
        "np.random.seed(CONFIG.seed)\n",
        "torch.backends.cudnn.benchmark = True\n",
        "torch.use_deterministic_algorithms(mode=True, warn_only=True)\n",
        "\n",
        "main()"
      ]
    },
    {
      "cell_type": "markdown",
      "metadata": {
        "id": "7zfB_1eFEfPd"
      },
      "source": [
        "###### 4.1.4.1.3 - Photo"
      ]
    },
    {
      "cell_type": "code",
      "execution_count": null,
      "metadata": {
        "vscode": {
          "languageId": "python"
        },
        "id": "KG3kU0F2EfPd"
      },
      "outputs": [],
      "source": [
        "warnings.filterwarnings('ignore', category=UserWarning)\n",
        "\n",
        "# Parse arguments\n",
        "conf = configurations['4.1.4.1.3']\n",
        "\n",
        "#args = parse_arguments()\n",
        "args = argparse.Namespace(**conf)\n",
        "print(args)\n",
        "CONFIG.update(vars(args))\n",
        "\n",
        "# Setup output directory\n",
        "CONFIG.save_dir = os.path.join('record', CONFIG.experiment_name)\n",
        "os.makedirs(CONFIG.save_dir, exist_ok=True)\n",
        "\n",
        "# Setup logging\n",
        "logging.basicConfig(\n",
        "    filename=os.path.join(CONFIG.save_dir, 'log.txt'),\n",
        "    format='%(message)s',\n",
        "    level=logging.INFO,\n",
        "    filemode='a'\n",
        ")\n",
        "\n",
        "# Set experiment's device & deterministic behavior\n",
        "if CONFIG.cpu:\n",
        "    CONFIG.device = 'cpu'\n",
        "else:\n",
        "    CONFIG.device = 'cuda' if torch.cuda.is_available() else 'cpu'\n",
        "\n",
        "torch.manual_seed(CONFIG.seed)\n",
        "random.seed(CONFIG.seed)\n",
        "np.random.seed(CONFIG.seed)\n",
        "torch.backends.cudnn.benchmark = True\n",
        "torch.use_deterministic_algorithms(mode=True, warn_only=True)\n",
        "\n",
        "main()"
      ]
    },
    {
      "cell_type": "markdown",
      "metadata": {
        "id": "NeJbEcwMEfPd"
      },
      "source": [
        "##### 4.1.4.2 - ASH module after layer1.1.bn2"
      ]
    },
    {
      "cell_type": "markdown",
      "metadata": {
        "id": "1CEEeFggEfPd"
      },
      "source": [
        "###### 4.1.4.2.1 - Cartoon"
      ]
    },
    {
      "cell_type": "code",
      "execution_count": null,
      "metadata": {
        "vscode": {
          "languageId": "python"
        },
        "id": "LvmFHGpuEfPe"
      },
      "outputs": [],
      "source": [
        "warnings.filterwarnings('ignore', category=UserWarning)\n",
        "\n",
        "# Parse arguments\n",
        "conf = configurations['4.1.4.2.1']\n",
        "\n",
        "#args = parse_arguments()\n",
        "args = argparse.Namespace(**conf)\n",
        "print(args)\n",
        "CONFIG.update(vars(args))\n",
        "\n",
        "# Setup output directory\n",
        "CONFIG.save_dir = os.path.join('record', CONFIG.experiment_name)\n",
        "os.makedirs(CONFIG.save_dir, exist_ok=True)\n",
        "\n",
        "# Setup logging\n",
        "logging.basicConfig(\n",
        "    filename=os.path.join(CONFIG.save_dir, 'log.txt'),\n",
        "    format='%(message)s',\n",
        "    level=logging.INFO,\n",
        "    filemode='a'\n",
        ")\n",
        "\n",
        "# Set experiment's device & deterministic behavior\n",
        "if CONFIG.cpu:\n",
        "    CONFIG.device = 'cpu'\n",
        "else:\n",
        "    CONFIG.device = 'cuda' if torch.cuda.is_available() else 'cpu'\n",
        "\n",
        "torch.manual_seed(CONFIG.seed)\n",
        "random.seed(CONFIG.seed)\n",
        "np.random.seed(CONFIG.seed)\n",
        "torch.backends.cudnn.benchmark = True\n",
        "torch.use_deterministic_algorithms(mode=True, warn_only=True)\n",
        "\n",
        "main()"
      ]
    },
    {
      "cell_type": "markdown",
      "metadata": {
        "id": "fsAzGJ2yEfPe"
      },
      "source": [
        "###### 4.1.4.2.2 - Sketch"
      ]
    },
    {
      "cell_type": "code",
      "execution_count": null,
      "metadata": {
        "vscode": {
          "languageId": "python"
        },
        "id": "JGNHv_EkEfPe"
      },
      "outputs": [],
      "source": [
        "warnings.filterwarnings('ignore', category=UserWarning)\n",
        "\n",
        "# Parse arguments\n",
        "conf = configurations['4.1.4.2.2']\n",
        "\n",
        "#args = parse_arguments()\n",
        "args = argparse.Namespace(**conf)\n",
        "print(args)\n",
        "CONFIG.update(vars(args))\n",
        "\n",
        "# Setup output directory\n",
        "CONFIG.save_dir = os.path.join('record', CONFIG.experiment_name)\n",
        "os.makedirs(CONFIG.save_dir, exist_ok=True)\n",
        "\n",
        "# Setup logging\n",
        "logging.basicConfig(\n",
        "    filename=os.path.join(CONFIG.save_dir, 'log.txt'),\n",
        "    format='%(message)s',\n",
        "    level=logging.INFO,\n",
        "    filemode='a'\n",
        ")\n",
        "\n",
        "# Set experiment's device & deterministic behavior\n",
        "if CONFIG.cpu:\n",
        "    CONFIG.device = 'cpu'\n",
        "else:\n",
        "    CONFIG.device = 'cuda' if torch.cuda.is_available() else 'cpu'\n",
        "\n",
        "torch.manual_seed(CONFIG.seed)\n",
        "random.seed(CONFIG.seed)\n",
        "np.random.seed(CONFIG.seed)\n",
        "torch.backends.cudnn.benchmark = True\n",
        "torch.use_deterministic_algorithms(mode=True, warn_only=True)\n",
        "\n",
        "main()"
      ]
    },
    {
      "cell_type": "markdown",
      "metadata": {
        "id": "YNWQyxPqEfPe"
      },
      "source": [
        "###### 4.1.4.2.3 - Photo"
      ]
    },
    {
      "cell_type": "code",
      "execution_count": null,
      "metadata": {
        "vscode": {
          "languageId": "python"
        },
        "id": "-Xu7NUpZEfPe"
      },
      "outputs": [],
      "source": [
        "warnings.filterwarnings('ignore', category=UserWarning)\n",
        "\n",
        "# Parse arguments\n",
        "conf = configurations['4.1.4.2.3']\n",
        "\n",
        "#args = parse_arguments()\n",
        "args = argparse.Namespace(**conf)\n",
        "print(args)\n",
        "CONFIG.update(vars(args))\n",
        "\n",
        "# Setup output directory\n",
        "CONFIG.save_dir = os.path.join('record', CONFIG.experiment_name)\n",
        "os.makedirs(CONFIG.save_dir, exist_ok=True)\n",
        "\n",
        "# Setup logging\n",
        "logging.basicConfig(\n",
        "    filename=os.path.join(CONFIG.save_dir, 'log.txt'),\n",
        "    format='%(message)s',\n",
        "    level=logging.INFO,\n",
        "    filemode='a'\n",
        ")\n",
        "\n",
        "# Set experiment's device & deterministic behavior\n",
        "if CONFIG.cpu:\n",
        "    CONFIG.device = 'cpu'\n",
        "else:\n",
        "    CONFIG.device = 'cuda' if torch.cuda.is_available() else 'cpu'\n",
        "\n",
        "torch.manual_seed(CONFIG.seed)\n",
        "random.seed(CONFIG.seed)\n",
        "np.random.seed(CONFIG.seed)\n",
        "torch.backends.cudnn.benchmark = True\n",
        "torch.use_deterministic_algorithms(mode=True, warn_only=True)\n",
        "\n",
        "main()"
      ]
    },
    {
      "cell_type": "markdown",
      "metadata": {
        "id": "k8RhCOmzEfPe"
      },
      "source": [
        "#### 4.1.5 - Mask Out Ratio = 1.00"
      ]
    },
    {
      "cell_type": "markdown",
      "metadata": {
        "id": "nkAtpctWEfPe"
      },
      "source": [
        "##### 4.1.5.1 - ASH module after layer2.1.conv2"
      ]
    },
    {
      "cell_type": "markdown",
      "metadata": {
        "id": "BRva-xPbEfPe"
      },
      "source": [
        "###### 4.1.5.1.1 - Cartoon"
      ]
    },
    {
      "cell_type": "code",
      "execution_count": null,
      "metadata": {
        "vscode": {
          "languageId": "python"
        },
        "id": "2nGEJkMHEfPf"
      },
      "outputs": [],
      "source": [
        "warnings.filterwarnings('ignore', category=UserWarning)\n",
        "\n",
        "# Parse arguments\n",
        "conf = configurations['4.1.5.1.1']\n",
        "\n",
        "#args = parse_arguments()\n",
        "args = argparse.Namespace(**conf)\n",
        "print(args)\n",
        "CONFIG.update(vars(args))\n",
        "\n",
        "# Setup output directory\n",
        "CONFIG.save_dir = os.path.join('record', CONFIG.experiment_name)\n",
        "os.makedirs(CONFIG.save_dir, exist_ok=True)\n",
        "\n",
        "# Setup logging\n",
        "logging.basicConfig(\n",
        "    filename=os.path.join(CONFIG.save_dir, 'log.txt'),\n",
        "    format='%(message)s',\n",
        "    level=logging.INFO,\n",
        "    filemode='a'\n",
        ")\n",
        "\n",
        "# Set experiment's device & deterministic behavior\n",
        "if CONFIG.cpu:\n",
        "    CONFIG.device = 'cpu'\n",
        "else:\n",
        "    CONFIG.device = 'cuda' if torch.cuda.is_available() else 'cpu'\n",
        "\n",
        "torch.manual_seed(CONFIG.seed)\n",
        "random.seed(CONFIG.seed)\n",
        "np.random.seed(CONFIG.seed)\n",
        "torch.backends.cudnn.benchmark = True\n",
        "torch.use_deterministic_algorithms(mode=True, warn_only=True)\n",
        "\n",
        "main()"
      ]
    },
    {
      "cell_type": "markdown",
      "metadata": {
        "id": "PPHOoc5BEfPf"
      },
      "source": [
        "###### 4.1.5.1.2 - Sketch"
      ]
    },
    {
      "cell_type": "code",
      "execution_count": null,
      "metadata": {
        "vscode": {
          "languageId": "python"
        },
        "id": "Sfvhh6m9EfPf"
      },
      "outputs": [],
      "source": [
        "warnings.filterwarnings('ignore', category=UserWarning)\n",
        "\n",
        "# Parse arguments\n",
        "conf = configurations['4.1.5.1.2']\n",
        "\n",
        "#args = parse_arguments()\n",
        "args = argparse.Namespace(**conf)\n",
        "print(args)\n",
        "CONFIG.update(vars(args))\n",
        "\n",
        "# Setup output directory\n",
        "CONFIG.save_dir = os.path.join('record', CONFIG.experiment_name)\n",
        "os.makedirs(CONFIG.save_dir, exist_ok=True)\n",
        "\n",
        "# Setup logging\n",
        "logging.basicConfig(\n",
        "    filename=os.path.join(CONFIG.save_dir, 'log.txt'),\n",
        "    format='%(message)s',\n",
        "    level=logging.INFO,\n",
        "    filemode='a'\n",
        ")\n",
        "\n",
        "# Set experiment's device & deterministic behavior\n",
        "if CONFIG.cpu:\n",
        "    CONFIG.device = 'cpu'\n",
        "else:\n",
        "    CONFIG.device = 'cuda' if torch.cuda.is_available() else 'cpu'\n",
        "\n",
        "torch.manual_seed(CONFIG.seed)\n",
        "random.seed(CONFIG.seed)\n",
        "np.random.seed(CONFIG.seed)\n",
        "torch.backends.cudnn.benchmark = True\n",
        "torch.use_deterministic_algorithms(mode=True, warn_only=True)\n",
        "\n",
        "main()"
      ]
    },
    {
      "cell_type": "markdown",
      "metadata": {
        "id": "kIhd_5WQEfPf"
      },
      "source": [
        "###### 4.1.5.1.3 - Photo"
      ]
    },
    {
      "cell_type": "code",
      "execution_count": null,
      "metadata": {
        "vscode": {
          "languageId": "python"
        },
        "id": "7ayLo0BTEfPf"
      },
      "outputs": [],
      "source": [
        "warnings.filterwarnings('ignore', category=UserWarning)\n",
        "\n",
        "# Parse arguments\n",
        "conf = configurations['4.1.5.1.3']\n",
        "\n",
        "#args = parse_arguments()\n",
        "args = argparse.Namespace(**conf)\n",
        "print(args)\n",
        "CONFIG.update(vars(args))\n",
        "\n",
        "# Setup output directory\n",
        "CONFIG.save_dir = os.path.join('record', CONFIG.experiment_name)\n",
        "os.makedirs(CONFIG.save_dir, exist_ok=True)\n",
        "\n",
        "# Setup logging\n",
        "logging.basicConfig(\n",
        "    filename=os.path.join(CONFIG.save_dir, 'log.txt'),\n",
        "    format='%(message)s',\n",
        "    level=logging.INFO,\n",
        "    filemode='a'\n",
        ")\n",
        "\n",
        "# Set experiment's device & deterministic behavior\n",
        "if CONFIG.cpu:\n",
        "    CONFIG.device = 'cpu'\n",
        "else:\n",
        "    CONFIG.device = 'cuda' if torch.cuda.is_available() else 'cpu'\n",
        "\n",
        "torch.manual_seed(CONFIG.seed)\n",
        "random.seed(CONFIG.seed)\n",
        "np.random.seed(CONFIG.seed)\n",
        "torch.backends.cudnn.benchmark = True\n",
        "torch.use_deterministic_algorithms(mode=True, warn_only=True)\n",
        "\n",
        "main()"
      ]
    },
    {
      "cell_type": "markdown",
      "metadata": {
        "id": "z_lhPDnFEfPf"
      },
      "source": [
        "##### 4.1.5.2 - ASH module after layer1.1.bn2"
      ]
    },
    {
      "cell_type": "markdown",
      "metadata": {
        "id": "QJ6sdT3_EfPf"
      },
      "source": [
        "###### 4.1.5.2.1 - Cartoon"
      ]
    },
    {
      "cell_type": "code",
      "execution_count": null,
      "metadata": {
        "vscode": {
          "languageId": "python"
        },
        "id": "oYI3zirREfPg"
      },
      "outputs": [],
      "source": [
        "warnings.filterwarnings('ignore', category=UserWarning)\n",
        "\n",
        "# Parse arguments\n",
        "conf = configurations['4.1.5.2.1']\n",
        "\n",
        "#args = parse_arguments()\n",
        "args = argparse.Namespace(**conf)\n",
        "print(args)\n",
        "CONFIG.update(vars(args))\n",
        "\n",
        "# Setup output directory\n",
        "CONFIG.save_dir = os.path.join('record', CONFIG.experiment_name)\n",
        "os.makedirs(CONFIG.save_dir, exist_ok=True)\n",
        "\n",
        "# Setup logging\n",
        "logging.basicConfig(\n",
        "    filename=os.path.join(CONFIG.save_dir, 'log.txt'),\n",
        "    format='%(message)s',\n",
        "    level=logging.INFO,\n",
        "    filemode='a'\n",
        ")\n",
        "\n",
        "# Set experiment's device & deterministic behavior\n",
        "if CONFIG.cpu:\n",
        "    CONFIG.device = 'cpu'\n",
        "else:\n",
        "    CONFIG.device = 'cuda' if torch.cuda.is_available() else 'cpu'\n",
        "\n",
        "torch.manual_seed(CONFIG.seed)\n",
        "random.seed(CONFIG.seed)\n",
        "np.random.seed(CONFIG.seed)\n",
        "torch.backends.cudnn.benchmark = True\n",
        "torch.use_deterministic_algorithms(mode=True, warn_only=True)\n",
        "\n",
        "main()"
      ]
    },
    {
      "cell_type": "markdown",
      "metadata": {
        "id": "vVDMj54SEfPg"
      },
      "source": [
        "###### 4.1.5.2.2 - Sketch"
      ]
    },
    {
      "cell_type": "code",
      "execution_count": null,
      "metadata": {
        "vscode": {
          "languageId": "python"
        },
        "id": "B6jF_n7oEfPg"
      },
      "outputs": [],
      "source": [
        "warnings.filterwarnings('ignore', category=UserWarning)\n",
        "\n",
        "# Parse arguments\n",
        "conf = configurations['4.1.5.2.2']\n",
        "\n",
        "#args = parse_arguments()\n",
        "args = argparse.Namespace(**conf)\n",
        "print(args)\n",
        "CONFIG.update(vars(args))\n",
        "\n",
        "# Setup output directory\n",
        "CONFIG.save_dir = os.path.join('record', CONFIG.experiment_name)\n",
        "os.makedirs(CONFIG.save_dir, exist_ok=True)\n",
        "\n",
        "# Setup logging\n",
        "logging.basicConfig(\n",
        "    filename=os.path.join(CONFIG.save_dir, 'log.txt'),\n",
        "    format='%(message)s',\n",
        "    level=logging.INFO,\n",
        "    filemode='a'\n",
        ")\n",
        "\n",
        "# Set experiment's device & deterministic behavior\n",
        "if CONFIG.cpu:\n",
        "    CONFIG.device = 'cpu'\n",
        "else:\n",
        "    CONFIG.device = 'cuda' if torch.cuda.is_available() else 'cpu'\n",
        "\n",
        "torch.manual_seed(CONFIG.seed)\n",
        "random.seed(CONFIG.seed)\n",
        "np.random.seed(CONFIG.seed)\n",
        "torch.backends.cudnn.benchmark = True\n",
        "torch.use_deterministic_algorithms(mode=True, warn_only=True)\n",
        "\n",
        "main()"
      ]
    },
    {
      "cell_type": "markdown",
      "metadata": {
        "id": "r4DiPFG0EfPg"
      },
      "source": [
        "###### 4.1.5.2.3 - Photo"
      ]
    },
    {
      "cell_type": "code",
      "execution_count": null,
      "metadata": {
        "vscode": {
          "languageId": "python"
        },
        "id": "-JqDC--7EfPg"
      },
      "outputs": [],
      "source": [
        "warnings.filterwarnings('ignore', category=UserWarning)\n",
        "\n",
        "# Parse arguments\n",
        "conf = configurations['4.1.5.2.3']\n",
        "\n",
        "#args = parse_arguments()\n",
        "args = argparse.Namespace(**conf)\n",
        "print(args)\n",
        "CONFIG.update(vars(args))\n",
        "\n",
        "# Setup output directory\n",
        "CONFIG.save_dir = os.path.join('record', CONFIG.experiment_name)\n",
        "os.makedirs(CONFIG.save_dir, exist_ok=True)\n",
        "\n",
        "# Setup logging\n",
        "logging.basicConfig(\n",
        "    filename=os.path.join(CONFIG.save_dir, 'log.txt'),\n",
        "    format='%(message)s',\n",
        "    level=logging.INFO,\n",
        "    filemode='a'\n",
        ")\n",
        "\n",
        "# Set experiment's device & deterministic behavior\n",
        "if CONFIG.cpu:\n",
        "    CONFIG.device = 'cpu'\n",
        "else:\n",
        "    CONFIG.device = 'cuda' if torch.cuda.is_available() else 'cpu'\n",
        "\n",
        "torch.manual_seed(CONFIG.seed)\n",
        "random.seed(CONFIG.seed)\n",
        "np.random.seed(CONFIG.seed)\n",
        "torch.backends.cudnn.benchmark = True\n",
        "torch.use_deterministic_algorithms(mode=True, warn_only=True)\n",
        "\n",
        "main()"
      ]
    },
    {
      "cell_type": "markdown",
      "metadata": {
        "id": "DRTMQ4efEfPg"
      },
      "source": [
        "### 4.2 - Reproduction of Section 3"
      ]
    },
    {
      "cell_type": "markdown",
      "metadata": {
        "id": "4MNJ7dS6EfPh"
      },
      "source": [
        "#### 4.2.1 - ASH module after layer2.1.conv2"
      ]
    },
    {
      "cell_type": "markdown",
      "metadata": {
        "id": "nsRXNEoxEfPh"
      },
      "source": [
        "##### 4.2.1.1 - Cartoon"
      ]
    },
    {
      "cell_type": "code",
      "execution_count": null,
      "metadata": {
        "vscode": {
          "languageId": "python"
        },
        "id": "6c3yPEP1EfPh"
      },
      "outputs": [],
      "source": [
        "warnings.filterwarnings('ignore', category=UserWarning)\n",
        "\n",
        "# Parse arguments\n",
        "conf = configurations['4.2.1.1']\n",
        "\n",
        "#args = parse_arguments()\n",
        "args = argparse.Namespace(**conf)\n",
        "print(args)\n",
        "CONFIG.update(vars(args))\n",
        "\n",
        "# Setup output directory\n",
        "CONFIG.save_dir = os.path.join('record', CONFIG.experiment_name)\n",
        "os.makedirs(CONFIG.save_dir, exist_ok=True)\n",
        "\n",
        "# Setup logging\n",
        "logging.basicConfig(\n",
        "    filename=os.path.join(CONFIG.save_dir, 'log.txt'),\n",
        "    format='%(message)s',\n",
        "    level=logging.INFO,\n",
        "    filemode='a'\n",
        ")\n",
        "\n",
        "# Set experiment's device & deterministic behavior\n",
        "if CONFIG.cpu:\n",
        "    CONFIG.device = 'cpu'\n",
        "else:\n",
        "    CONFIG.device = 'cuda' if torch.cuda.is_available() else 'cpu'\n",
        "\n",
        "torch.manual_seed(CONFIG.seed)\n",
        "random.seed(CONFIG.seed)\n",
        "np.random.seed(CONFIG.seed)\n",
        "torch.backends.cudnn.benchmark = True\n",
        "torch.use_deterministic_algorithms(mode=True, warn_only=True)\n",
        "\n",
        "main()"
      ]
    },
    {
      "cell_type": "markdown",
      "metadata": {
        "id": "hEAQ1b9SEfPh"
      },
      "source": [
        "##### 4.2.1.2 - Sketch"
      ]
    },
    {
      "cell_type": "code",
      "execution_count": null,
      "metadata": {
        "vscode": {
          "languageId": "python"
        },
        "id": "dAwJEER5EfPh"
      },
      "outputs": [],
      "source": [
        "warnings.filterwarnings('ignore', category=UserWarning)\n",
        "\n",
        "# Parse arguments\n",
        "conf = configurations['4.2.1.2']\n",
        "\n",
        "#args = parse_arguments()\n",
        "args = argparse.Namespace(**conf)\n",
        "print(args)\n",
        "CONFIG.update(vars(args))\n",
        "\n",
        "# Setup output directory\n",
        "CONFIG.save_dir = os.path.join('record', CONFIG.experiment_name)\n",
        "os.makedirs(CONFIG.save_dir, exist_ok=True)\n",
        "\n",
        "# Setup logging\n",
        "logging.basicConfig(\n",
        "    filename=os.path.join(CONFIG.save_dir, 'log.txt'),\n",
        "    format='%(message)s',\n",
        "    level=logging.INFO,\n",
        "    filemode='a'\n",
        ")\n",
        "\n",
        "# Set experiment's device & deterministic behavior\n",
        "if CONFIG.cpu:\n",
        "    CONFIG.device = 'cpu'\n",
        "else:\n",
        "    CONFIG.device = 'cuda' if torch.cuda.is_available() else 'cpu'\n",
        "\n",
        "torch.manual_seed(CONFIG.seed)\n",
        "random.seed(CONFIG.seed)\n",
        "np.random.seed(CONFIG.seed)\n",
        "torch.backends.cudnn.benchmark = True\n",
        "torch.use_deterministic_algorithms(mode=True, warn_only=True)\n",
        "\n",
        "main()"
      ]
    },
    {
      "cell_type": "markdown",
      "metadata": {
        "id": "VQ-hw7uHEfPh"
      },
      "source": [
        "##### 4.2.1.3 - Photo"
      ]
    },
    {
      "cell_type": "code",
      "execution_count": null,
      "metadata": {
        "vscode": {
          "languageId": "python"
        },
        "id": "VhEO9-7jEfPh"
      },
      "outputs": [],
      "source": [
        "warnings.filterwarnings('ignore', category=UserWarning)\n",
        "\n",
        "# Parse arguments\n",
        "conf = configurations['4.2.1.3']\n",
        "\n",
        "#args = parse_arguments()\n",
        "args = argparse.Namespace(**conf)\n",
        "print(args)\n",
        "CONFIG.update(vars(args))\n",
        "\n",
        "# Setup output directory\n",
        "CONFIG.save_dir = os.path.join('record', CONFIG.experiment_name)\n",
        "os.makedirs(CONFIG.save_dir, exist_ok=True)\n",
        "\n",
        "# Setup logging\n",
        "logging.basicConfig(\n",
        "    filename=os.path.join(CONFIG.save_dir, 'log.txt'),\n",
        "    format='%(message)s',\n",
        "    level=logging.INFO,\n",
        "    filemode='a'\n",
        ")\n",
        "\n",
        "# Set experiment's device & deterministic behavior\n",
        "if CONFIG.cpu:\n",
        "    CONFIG.device = 'cpu'\n",
        "else:\n",
        "    CONFIG.device = 'cuda' if torch.cuda.is_available() else 'cpu'\n",
        "\n",
        "torch.manual_seed(CONFIG.seed)\n",
        "random.seed(CONFIG.seed)\n",
        "np.random.seed(CONFIG.seed)\n",
        "torch.backends.cudnn.benchmark = True\n",
        "torch.use_deterministic_algorithms(mode=True, warn_only=True)\n",
        "\n",
        "main()"
      ]
    },
    {
      "cell_type": "markdown",
      "metadata": {
        "id": "8hIF-BniEfPh"
      },
      "source": [
        "#### 4.2.2 - ASH module after layer1.1.bn2"
      ]
    },
    {
      "cell_type": "markdown",
      "metadata": {
        "id": "bt2uUk8YEfPh"
      },
      "source": [
        "##### 4.2.2.1 - Cartoon"
      ]
    },
    {
      "cell_type": "code",
      "execution_count": null,
      "metadata": {
        "vscode": {
          "languageId": "python"
        },
        "id": "G25RACMnEfPh"
      },
      "outputs": [],
      "source": [
        "warnings.filterwarnings('ignore', category=UserWarning)\n",
        "\n",
        "# Parse arguments\n",
        "conf = configurations['4.2.2.1']\n",
        "\n",
        "#args = parse_arguments()\n",
        "args = argparse.Namespace(**conf)\n",
        "print(args)\n",
        "CONFIG.update(vars(args))\n",
        "\n",
        "# Setup output directory\n",
        "CONFIG.save_dir = os.path.join('record', CONFIG.experiment_name)\n",
        "os.makedirs(CONFIG.save_dir, exist_ok=True)\n",
        "\n",
        "# Setup logging\n",
        "logging.basicConfig(\n",
        "    filename=os.path.join(CONFIG.save_dir, 'log.txt'),\n",
        "    format='%(message)s',\n",
        "    level=logging.INFO,\n",
        "    filemode='a'\n",
        ")\n",
        "\n",
        "# Set experiment's device & deterministic behavior\n",
        "if CONFIG.cpu:\n",
        "    CONFIG.device = 'cpu'\n",
        "else:\n",
        "    CONFIG.device = 'cuda' if torch.cuda.is_available() else 'cpu'\n",
        "\n",
        "torch.manual_seed(CONFIG.seed)\n",
        "random.seed(CONFIG.seed)\n",
        "np.random.seed(CONFIG.seed)\n",
        "torch.backends.cudnn.benchmark = True\n",
        "torch.use_deterministic_algorithms(mode=True, warn_only=True)\n",
        "\n",
        "main()"
      ]
    },
    {
      "cell_type": "markdown",
      "metadata": {
        "id": "aXhXqJQeEfPh"
      },
      "source": [
        "##### 4.2.2.2 - Sketch"
      ]
    },
    {
      "cell_type": "code",
      "execution_count": null,
      "metadata": {
        "vscode": {
          "languageId": "python"
        },
        "id": "xAczS-UhEfPh"
      },
      "outputs": [],
      "source": [
        "warnings.filterwarnings('ignore', category=UserWarning)\n",
        "\n",
        "# Parse arguments\n",
        "conf = configurations['4.2.2.2']\n",
        "\n",
        "#args = parse_arguments()\n",
        "args = argparse.Namespace(**conf)\n",
        "print(args)\n",
        "CONFIG.update(vars(args))\n",
        "\n",
        "# Setup output directory\n",
        "CONFIG.save_dir = os.path.join('record', CONFIG.experiment_name)\n",
        "os.makedirs(CONFIG.save_dir, exist_ok=True)\n",
        "\n",
        "# Setup logging\n",
        "logging.basicConfig(\n",
        "    filename=os.path.join(CONFIG.save_dir, 'log.txt'),\n",
        "    format='%(message)s',\n",
        "    level=logging.INFO,\n",
        "    filemode='a'\n",
        ")\n",
        "\n",
        "# Set experiment's device & deterministic behavior\n",
        "if CONFIG.cpu:\n",
        "    CONFIG.device = 'cpu'\n",
        "else:\n",
        "    CONFIG.device = 'cuda' if torch.cuda.is_available() else 'cpu'\n",
        "\n",
        "torch.manual_seed(CONFIG.seed)\n",
        "random.seed(CONFIG.seed)\n",
        "np.random.seed(CONFIG.seed)\n",
        "torch.backends.cudnn.benchmark = True\n",
        "torch.use_deterministic_algorithms(mode=True, warn_only=True)\n",
        "\n",
        "main()"
      ]
    },
    {
      "cell_type": "markdown",
      "metadata": {
        "id": "47WLmRO-EfPh"
      },
      "source": [
        "##### 4.2.2.3 - Photo"
      ]
    },
    {
      "cell_type": "code",
      "execution_count": null,
      "metadata": {
        "vscode": {
          "languageId": "python"
        },
        "id": "HnNBemFBEfPh"
      },
      "outputs": [],
      "source": [
        "warnings.filterwarnings('ignore', category=UserWarning)\n",
        "\n",
        "# Parse arguments\n",
        "conf = configurations['4.2.2.3']\n",
        "\n",
        "#args = parse_arguments()\n",
        "args = argparse.Namespace(**conf)\n",
        "print(args)\n",
        "CONFIG.update(vars(args))\n",
        "\n",
        "# Setup output directory\n",
        "CONFIG.save_dir = os.path.join('record', CONFIG.experiment_name)\n",
        "os.makedirs(CONFIG.save_dir, exist_ok=True)\n",
        "\n",
        "# Setup logging\n",
        "logging.basicConfig(\n",
        "    filename=os.path.join(CONFIG.save_dir, 'log.txt'),\n",
        "    format='%(message)s',\n",
        "    level=logging.INFO,\n",
        "    filemode='a'\n",
        ")\n",
        "\n",
        "# Set experiment's device & deterministic behavior\n",
        "if CONFIG.cpu:\n",
        "    CONFIG.device = 'cpu'\n",
        "else:\n",
        "    CONFIG.device = 'cuda' if torch.cuda.is_available() else 'cpu'\n",
        "\n",
        "torch.manual_seed(CONFIG.seed)\n",
        "random.seed(CONFIG.seed)\n",
        "np.random.seed(CONFIG.seed)\n",
        "torch.backends.cudnn.benchmark = True\n",
        "torch.use_deterministic_algorithms(mode=True, warn_only=True)\n",
        "\n",
        "main()"
      ]
    }
  ],
  "metadata": {
    "accelerator": "GPU",
    "colab": {
      "gpuType": "T4",
      "provenance": []
    },
    "kernelspec": {
      "display_name": "Python 3",
      "language": "python",
      "name": "python3"
    },
    "language_info": {
      "codemirror_mode": {
        "name": "ipython",
        "version": 3
      },
      "file_extension": ".py",
      "mimetype": "text/x-python",
      "name": "python",
      "nbconvert_exporter": "python",
      "pygments_lexer": "ipython3",
      "version": "3.10.12"
    }
  },
  "nbformat": 4,
  "nbformat_minor": 0
}