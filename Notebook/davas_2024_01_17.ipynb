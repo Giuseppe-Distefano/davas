{
  "cells": [
    {
      "cell_type": "markdown",
      "metadata": {
        "id": "0j4ramm0vmvh"
      },
      "source": [
        "# Domain Adaptation Via Activation Shaping"
      ]
    },
    {
      "cell_type": "markdown",
      "metadata": {
        "id": "L-LqKzY-vmvp"
      },
      "source": [
        "**Teacher assistant** Iurada Leonardo\n",
        "\n",
        "**Students**\n",
        "\n",
        "- Bar Giorgio\n",
        "- Distefano Giuseppe\n",
        "- Incaviglia Salvatore"
      ]
    },
    {
      "cell_type": "markdown",
      "metadata": {
        "id": "r1K5BCgevmvr"
      },
      "source": [
        "## 0 - Reproduce the Baseline"
      ]
    },
    {
      "cell_type": "markdown",
      "metadata": {
        "id": "3GNDC97Lvmvs"
      },
      "source": [
        "### Libraries"
      ]
    },
    {
      "cell_type": "code",
      "execution_count": 1,
      "metadata": {
        "colab": {
          "base_uri": "https://localhost:8080/"
        },
        "id": "7yj0xpGOvmvs",
        "outputId": "75dd0c68-1dd8-4ae2-b0d3-f475d9d0c35d"
      },
      "outputs": [
        {
          "output_type": "stream",
          "name": "stdout",
          "text": [
            "Requirement already satisfied: torch in /usr/local/lib/python3.10/dist-packages (2.1.0+cu121)\n",
            "Requirement already satisfied: torchvision in /usr/local/lib/python3.10/dist-packages (0.16.0+cu121)\n",
            "Requirement already satisfied: tqdm in /usr/local/lib/python3.10/dist-packages (4.66.1)\n",
            "Requirement already satisfied: torchmetrics in /usr/local/lib/python3.10/dist-packages (1.3.0)\n",
            "Requirement already satisfied: filelock in /usr/local/lib/python3.10/dist-packages (from torch) (3.13.1)\n",
            "Requirement already satisfied: typing-extensions in /usr/local/lib/python3.10/dist-packages (from torch) (4.5.0)\n",
            "Requirement already satisfied: sympy in /usr/local/lib/python3.10/dist-packages (from torch) (1.12)\n",
            "Requirement already satisfied: networkx in /usr/local/lib/python3.10/dist-packages (from torch) (3.2.1)\n",
            "Requirement already satisfied: jinja2 in /usr/local/lib/python3.10/dist-packages (from torch) (3.1.3)\n",
            "Requirement already satisfied: fsspec in /usr/local/lib/python3.10/dist-packages (from torch) (2023.6.0)\n",
            "Requirement already satisfied: triton==2.1.0 in /usr/local/lib/python3.10/dist-packages (from torch) (2.1.0)\n",
            "Requirement already satisfied: numpy in /usr/local/lib/python3.10/dist-packages (from torchvision) (1.23.5)\n",
            "Requirement already satisfied: requests in /usr/local/lib/python3.10/dist-packages (from torchvision) (2.31.0)\n",
            "Requirement already satisfied: pillow!=8.3.*,>=5.3.0 in /usr/local/lib/python3.10/dist-packages (from torchvision) (9.4.0)\n",
            "Requirement already satisfied: packaging>17.1 in /usr/local/lib/python3.10/dist-packages (from torchmetrics) (23.2)\n",
            "Requirement already satisfied: lightning-utilities>=0.8.0 in /usr/local/lib/python3.10/dist-packages (from torchmetrics) (0.10.0)\n",
            "Requirement already satisfied: setuptools in /usr/local/lib/python3.10/dist-packages (from lightning-utilities>=0.8.0->torchmetrics) (67.7.2)\n",
            "Requirement already satisfied: MarkupSafe>=2.0 in /usr/local/lib/python3.10/dist-packages (from jinja2->torch) (2.1.3)\n",
            "Requirement already satisfied: charset-normalizer<4,>=2 in /usr/local/lib/python3.10/dist-packages (from requests->torchvision) (3.3.2)\n",
            "Requirement already satisfied: idna<4,>=2.5 in /usr/local/lib/python3.10/dist-packages (from requests->torchvision) (3.6)\n",
            "Requirement already satisfied: urllib3<3,>=1.21.1 in /usr/local/lib/python3.10/dist-packages (from requests->torchvision) (2.0.7)\n",
            "Requirement already satisfied: certifi>=2017.4.17 in /usr/local/lib/python3.10/dist-packages (from requests->torchvision) (2023.11.17)\n",
            "Requirement already satisfied: mpmath>=0.19 in /usr/local/lib/python3.10/dist-packages (from sympy->torch) (1.3.0)\n"
          ]
        }
      ],
      "source": [
        "!pip install torch torchvision tqdm torchmetrics\n",
        "\n",
        "import torch\n",
        "\n",
        "import torch.backends.mps\n",
        "from argparse import ArgumentParser\n",
        "\n",
        "import os\n",
        "import torchvision.transforms as T\n",
        "\n",
        "from torch.utils.data import Dataset, DataLoader\n",
        "from torchvision.datasets import CIFAR10\n",
        "\n",
        "import numpy as np\n",
        "import random\n",
        "from PIL import Image\n",
        "\n",
        "import torch.nn as nn\n",
        "from torchvision.models import resnet18, ResNet18_Weights\n",
        "\n",
        "import torch.nn.functional as F\n",
        "from torchmetrics import Accuracy\n",
        "from tqdm import tqdm\n",
        "\n",
        "import logging\n",
        "import warnings\n",
        "\n",
        "import argparse"
      ]
    },
    {
      "cell_type": "markdown",
      "metadata": {
        "id": "4QL6QFg7vmvv"
      },
      "source": [
        "### Setup PACS dataset and environment"
      ]
    },
    {
      "cell_type": "code",
      "execution_count": 2,
      "metadata": {
        "colab": {
          "base_uri": "https://localhost:8080/"
        },
        "id": "DU25YTvRvmvw",
        "outputId": "8afa9122-790c-4312-c1c9-2c3bd2cdff0a"
      },
      "outputs": [
        {
          "output_type": "stream",
          "name": "stdout",
          "text": [
            "Cloning into 'Homework3-PACS'...\n",
            "remote: Enumerating objects: 10032, done.\u001b[K\n",
            "remote: Total 10032 (delta 0), reused 0 (delta 0), pack-reused 10032\u001b[K\n",
            "Receiving objects: 100% (10032/10032), 174.13 MiB | 39.00 MiB/s, done.\n",
            "Resolving deltas: 100% (1/1), done.\n",
            "Updating files: 100% (9993/9993), done.\n",
            "Cloning into 'DANN_Template'...\n",
            "remote: Enumerating objects: 23, done.\u001b[K\n",
            "remote: Total 23 (delta 0), reused 0 (delta 0), pack-reused 23\u001b[K\n",
            "Receiving objects: 100% (23/23), 33.86 KiB | 1.30 MiB/s, done.\n",
            "Resolving deltas: 100% (5/5), done.\n"
          ]
        }
      ],
      "source": [
        "# Download PACS Dataset Images and Labels\n",
        "!git clone https://github.com/MachineLearning2020/Homework3-PACS/\n",
        "!git clone https://github.com/silvia1993/DANN_Template/\n",
        "\n",
        "# Setup data\n",
        "!rm -rf data || true\n",
        "!rm -rf record || true\n",
        "!mkdir data\n",
        "!mkdir data/kfold\n",
        "!cp -r Homework3-PACS/PACS/ data/kfold\n",
        "!cp DANN_Template/txt_lists/*.txt data\n",
        "!rm -rf Homework3-PACS/\n",
        "!rm -rf DANN_Template/"
      ]
    },
    {
      "cell_type": "markdown",
      "metadata": {
        "id": "bCGGDU0Yvmvx"
      },
      "source": [
        "### Globals"
      ]
    },
    {
      "cell_type": "markdown",
      "metadata": {
        "id": "ks2GUIKUvmvx"
      },
      "source": [
        "#### globals"
      ]
    },
    {
      "cell_type": "code",
      "execution_count": 3,
      "metadata": {
        "id": "CKy4Lcn5vmvy"
      },
      "outputs": [],
      "source": [
        "class dotdict(dict):\n",
        "    \"\"\"dot.notation access to dictionary attributes\"\"\"\n",
        "    __getattr__ = dict.get\n",
        "    __setattr__ = dict.__setitem__\n",
        "    __delattr__ = dict.__delitem__\n",
        "\n",
        "CONFIG = dotdict({})\n",
        "\n",
        "if torch.cuda.is_available():\n",
        "    CONFIG.device = 'cuda'\n",
        "elif torch.backends.mps.is_available() and torch.backends.mps.is_built():\n",
        "    CONFIG.device = 'mps'\n",
        "else:\n",
        "    CONFIG.device = 'cpu'\n",
        "\n",
        "CONFIG.dtype = torch.float32"
      ]
    },
    {
      "cell_type": "markdown",
      "metadata": {
        "id": "3X-3ocOEvmvy"
      },
      "source": [
        "#### parse args"
      ]
    },
    {
      "cell_type": "code",
      "execution_count": 4,
      "metadata": {
        "id": "ri1QrU7_vmvz"
      },
      "outputs": [],
      "source": [
        "def _clear_args(parsed_args):\n",
        "    parsed_args.experiment_args = eval(parsed_args.experiment_args)\n",
        "    parsed_args.dataset_args = eval(parsed_args.dataset_args)\n",
        "    return parsed_args\n",
        "\n",
        "\n",
        "def parse_arguments():\n",
        "    parser = ArgumentParser()\n",
        "\n",
        "    parser.add_argument('--seed', type=int, default=0, help='Seed used for deterministic behavior')\n",
        "    parser.add_argument('--test_only', action='store_true', help='Whether to skip training')\n",
        "    parser.add_argument('--cpu', action='store_true', help='Whether to force the usage of CPU')\n",
        "\n",
        "    parser.add_argument('--experiment', type=str, default='baseline')\n",
        "    parser.add_argument('--experiment_name', type=str, default='baseline')\n",
        "    parser.add_argument('--experiment_args', type=str, default='{}')\n",
        "    parser.add_argument('--dataset_args', type=str, default='{}')\n",
        "\n",
        "    parser.add_argument('--batch_size', type=int, default=128)\n",
        "    parser.add_argument('--epochs', type=int, default=30)\n",
        "    parser.add_argument('--num_workers', type=int, default=5)\n",
        "    parser.add_argument('--grad_accum_steps', type=int, default=1)\n",
        "\n",
        "    return _clear_args(parser.parse_args())"
      ]
    },
    {
      "cell_type": "markdown",
      "metadata": {
        "id": "l7_xoRWhvmvz"
      },
      "source": [
        "#### Global variables"
      ]
    },
    {
      "cell_type": "code",
      "execution_count": 5,
      "metadata": {
        "id": "GA15sREQvmvz"
      },
      "outputs": [],
      "source": [
        "DEVICE = 'cuda' if torch.cuda.is_available() else 'cpu'\n",
        "NUM_CLASSES = 7\n",
        "BATCH_SIZE = 256\n",
        "LR = 1e-3               # The initial Learning Rate\n",
        "MOMENTUM = 0.9          # Hyperparameter for SGD, keep this at 0.9 when using SGD\n",
        "WEIGHT_DECAY = 5e-5     # Regularization, you can keep this at the default\n",
        "NUM_EPOCHS = 30         # Total number of training epochs (iterations over dataset)\n",
        "STEP_SIZE = 20          # How many epochs before decreasing learning rate (if using a step-down policy)\n",
        "GAMMA = 0.1             # Multiplicative factor for learning rate step-down\n",
        "\n",
        "LOG_FREQUENCY = 10"
      ]
    },
    {
      "cell_type": "markdown",
      "metadata": {
        "id": "UjcULfoOvmv0"
      },
      "source": [
        "### Dataset"
      ]
    },
    {
      "cell_type": "markdown",
      "metadata": {
        "id": "2juNIEQ9vmv0"
      },
      "source": [
        "#### utils"
      ]
    },
    {
      "cell_type": "code",
      "execution_count": 6,
      "metadata": {
        "id": "XSPzZSuSvmv0"
      },
      "outputs": [],
      "source": [
        "class BaseDataset(Dataset):\n",
        "    def __init__(self, examples, transform):\n",
        "        self.examples = examples\n",
        "        self.T = transform\n",
        "\n",
        "\n",
        "    def __len__(self):\n",
        "        return len(self.examples)\n",
        "\n",
        "\n",
        "    def __getitem__(self, index):\n",
        "        x, y = self.examples[index]\n",
        "        x = Image.open(x).convert('RGB')\n",
        "        x = self.T(x).to(CONFIG.dtype)\n",
        "        y = torch.tensor(y).long()\n",
        "        return x, y\n",
        "\n",
        "######################################################\n",
        "# TODO: modify 'BaseDataset' for the Domain Adaptation setting.\n",
        "# Hint: randomly sample 'target_examples' to obtain targ_x\n",
        "#class DomainAdaptationDataset(Dataset):\n",
        "#    def __init__(self, source_examples, target_examples, transform):\n",
        "#        self.source_examples = source_examples\n",
        "#        self.target_examples = target_examples\n",
        "#        self.T = transform\n",
        "#\n",
        "#    def __len__(self):\n",
        "#        return len(self.source_examples)\n",
        "#\n",
        "#    def __getitem__(self, index):\n",
        "#        src_x, src_y = ...\n",
        "#        targ_x = ...\n",
        "#\n",
        "#        src_x = self.T(src_x)\n",
        "#        targ_x = self.T(targ_x)\n",
        "#        return src_x, src_y, targ_x\n",
        "\n",
        "# [OPTIONAL] TODO: modify 'BaseDataset' for the Domain Generalization setting.\n",
        "# Hint: combine the examples from the 3 source domains into a single 'examples' list\n",
        "#class DomainGeneralizationDataset(Dataset):\n",
        "#    def __init__(self, examples, transform):\n",
        "#        self.examples = examples\n",
        "#        self.T = transform\n",
        "#\n",
        "#    def __len__(self):\n",
        "#        return len(self.examples)\n",
        "#\n",
        "#    def __getitem__(self, index):\n",
        "#        x1, x2, x3 = self.examples[index]\n",
        "#        x1, x2, x3 = self.T(x1), self.T(x2), self.T(x3)\n",
        "#        targ_x = self.T(targ_x)\n",
        "#        return x1, x2, x3\n",
        "\n",
        "######################################################\n",
        "\n",
        "class SeededDataLoader(DataLoader):\n",
        "    def __init__(self, dataset: Dataset, batch_size=1, shuffle=None,\n",
        "                 sampler=None,\n",
        "                 batch_sampler=None,\n",
        "                 num_workers=0, collate_fn=None,\n",
        "                 pin_memory=False, drop_last=False, timeout=0,\n",
        "                 worker_init_fn=None, multiprocessing_context=None,\n",
        "                 generator=None, *, prefetch_factor=None, persistent_workers=False,\n",
        "                 pin_memory_device=\"\"):\n",
        "\n",
        "        if not CONFIG.use_nondeterministic:\n",
        "            def seed_worker(worker_id):\n",
        "                worker_seed = torch.initial_seed() % 2**32\n",
        "                np.random.seed(worker_seed)\n",
        "                random.seed(worker_seed)\n",
        "\n",
        "            generator = torch.Generator()\n",
        "            generator.manual_seed(CONFIG.seed)\n",
        "\n",
        "            worker_init_fn = seed_worker\n",
        "\n",
        "        super().__init__(dataset, batch_size, shuffle, sampler, batch_sampler, num_workers, collate_fn,\n",
        "                         pin_memory, drop_last, timeout, worker_init_fn, multiprocessing_context, generator,\n",
        "                         prefetch_factor=prefetch_factor, persistent_workers=persistent_workers,\n",
        "                         pin_memory_device=pin_memory_device)\n",
        "\n"
      ]
    },
    {
      "cell_type": "markdown",
      "metadata": {
        "id": "8COjLe2Fvmv0"
      },
      "source": [
        "#### PACS"
      ]
    },
    {
      "cell_type": "code",
      "execution_count": 7,
      "metadata": {
        "id": "qJ3cq4Ofvmv1"
      },
      "outputs": [],
      "source": [
        "def get_transform(size, mean, std, preprocess):\n",
        "    transform = []\n",
        "    if preprocess:\n",
        "        transform.append(T.Resize(256))\n",
        "        transform.append(T.RandomResizedCrop(size=size, scale=(0.7, 1.0)))\n",
        "        transform.append(T.RandomHorizontalFlip())\n",
        "    else:\n",
        "        transform.append(T.Resize(size))\n",
        "    transform.append(T.ToTensor())\n",
        "    transform.append(T.Normalize(mean, std))\n",
        "    return T.Compose(transform)\n",
        "\n",
        "\n",
        "def load_data():\n",
        "    CONFIG.num_classes = 7\n",
        "    CONFIG.data_input_size = (3, 224, 224)\n",
        "\n",
        "    # Create transforms\n",
        "    mean, std = (0.485, 0.456, 0.406), (0.229, 0.224, 0.225) # ImageNet Pretrain statistics\n",
        "    train_transform = get_transform(size=224, mean=mean, std=std, preprocess=True)\n",
        "    test_transform = get_transform(size=224, mean=mean, std=std, preprocess=False)\n",
        "\n",
        "    # Load examples & create Dataset\n",
        "    #if CONFIG.experiment in ['baseline']:\n",
        "    if CONFIG.experiment in ['baseline', 'activation_shaping_last', 'activation_shaping_one', 'activation_shaping_three', 'random']:\n",
        "        source_examples, target_examples = [], []\n",
        "\n",
        "        # Load source\n",
        "        f = open(os.path.join(CONFIG.dataset_args['text_root'], f\"{CONFIG.dataset_args['source_domain']}.txt\"), 'r')\n",
        "        for line in f:\n",
        "            line = line.strip().split()\n",
        "            path, label = line[0].split('/')[0:], int(line[1])\n",
        "            source_examples.append((os.path.join(CONFIG.dataset_args['images_root'], *path), label))\n",
        "        f.close()\n",
        "\n",
        "        # Load target\n",
        "        f = open(os.path.join(CONFIG.dataset_args['text_root'], f\"{CONFIG.dataset_args['target_domain']}.txt\"), 'r')\n",
        "        for line in f:\n",
        "            line = line.strip().split()\n",
        "            path, label = line[0].split('/')[0:], int(line[1])\n",
        "            target_examples.append((os.path.join(CONFIG.dataset_args['images_root'], *path), label))\n",
        "        f.close()\n",
        "\n",
        "        train_dataset = BaseDataset(source_examples, transform=train_transform)\n",
        "        test_dataset = BaseDataset(target_examples, transform=test_transform)\n",
        "\n",
        "    ######################################################\n",
        "    #elif... TODO: Add here how to create the Dataset object for the other experiments\n",
        "\n",
        "\n",
        "    ######################################################\n",
        "\n",
        "    # Dataloaders\n",
        "    train_loader = SeededDataLoader(\n",
        "        train_dataset,\n",
        "        batch_size=CONFIG.batch_size,\n",
        "        shuffle=True,\n",
        "        num_workers=CONFIG.num_workers,\n",
        "        pin_memory=True,\n",
        "        persistent_workers=True\n",
        "    )\n",
        "\n",
        "    test_loader = SeededDataLoader(\n",
        "        test_dataset,\n",
        "        batch_size=CONFIG.batch_size,\n",
        "        shuffle=False,\n",
        "        num_workers=CONFIG.num_workers,\n",
        "        pin_memory=True,\n",
        "        persistent_workers=True\n",
        "    )\n",
        "\n",
        "    return {'train': train_loader, 'test': test_loader}"
      ]
    },
    {
      "cell_type": "markdown",
      "metadata": {
        "id": "pDUK98dRvmv1"
      },
      "source": [
        "### Models"
      ]
    },
    {
      "cell_type": "markdown",
      "metadata": {
        "id": "kRb0wPBTvmv1"
      },
      "source": [
        "#### ResNet"
      ]
    },
    {
      "cell_type": "code",
      "execution_count": 8,
      "metadata": {
        "id": "RT5Z64b0vmv1"
      },
      "outputs": [],
      "source": [
        "class BaseResNet18(nn.Module):\n",
        "    def __init__(self):\n",
        "        super(BaseResNet18, self).__init__()\n",
        "        self.resnet = resnet18(weights=ResNet18_Weights)\n",
        "        self.resnet.fc = nn.Linear(self.resnet.fc.in_features, 7)\n",
        "\n",
        "\n",
        "    def forward(self, x):\n",
        "        return self.resnet(x)\n",
        "\n",
        "######################################################\n",
        "\n",
        "def get_activation_shaping_hook (mask):\n",
        "\n",
        "    # Activation Shaping Module as a function that shall be hooked via 'register_forward_hook'\n",
        "    # The hook captures mask variable from the parent scope, to update it,\n",
        "    # remove() the hook and register a new one with the updated mask.\n",
        "\n",
        "    def activation_shaping_hook(module, input, output):\n",
        "\n",
        "        # print('ASH module registered on: ', module, 'mask shape: ', mask.shape, 'mask sum(): ', mask.sum())\n",
        "\n",
        "        # binarize both activation map and mask using zero as threshold\n",
        "        A_binary = torch.where(output<=0, torch.tensor(0.0), torch.tensor(1.0))\n",
        "        M_binary = torch.where(mask<=0, torch.tensor(0.0), torch.tensor(1.0))\n",
        "\n",
        "        # return the element-wise product of activation map and mask\n",
        "        shaped_output = A_binary * M_binary\n",
        "        return shaped_output\n",
        "\n",
        "    return activation_shaping_hook\n",
        "\n",
        "######################################################\n",
        "\n",
        "# 'BaseResNet18' including the Activation Shaping Module\n",
        "class ASHResNet18(nn.Module):\n",
        "    def __init__(self):\n",
        "        super(ASHResNet18, self).__init__()\n",
        "        # self.resnet = resnet18(pretrained=False)\n",
        "        self.resnet = resnet18(weights=ResNet18_Weights)\n",
        "        self.resnet.fc = nn.Linear(self.resnet.fc.in_features, 7)\n",
        "\n",
        "        self.hook_handles = {}\n",
        "\n",
        "    def register_activation_shaping_hook(self, layer_name, mask):\n",
        "\n",
        "        hook = get_activation_shaping_hook(mask)\n",
        "\n",
        "        for name, module in self.resnet.named_modules():\n",
        "            if ((isinstance(module, nn.ReLU) or isinstance(module, nn.Conv2d) or isinstance(module, nn.BatchNorm2d)) and name == layer_name):\n",
        "                if not name in self.hook_handles:\n",
        "                    print('Insert activation shaping layer after ', name, module)\n",
        "                    self.hook_handles[name] = module.register_forward_hook(hook)\n",
        "\n",
        "    def remove_activation_shaping_hook(self, name):\n",
        "        if name in self.hook_handles and self.hook_handles[name] is not None:\n",
        "            handle = self.hook_handles[name]\n",
        "            handle.remove()\n",
        "\n",
        "    def forward(self, x):\n",
        "        return self.resnet(x)\n",
        "\n",
        "    '''\n",
        "    def activation_shaping_hook (self, module, input, output):\n",
        "        shaped_output = output * self.mask\n",
        "        return shaped_output\n",
        "\n",
        "    def define_network (self, net_name='ash_last', mask=None, mask_out_ratio=0.1):\n",
        "        if mask is None:\n",
        "            # Create a mask tensor with a given ratio of zeros\n",
        "            rand_mat = torch.rand(512, 7, 7).to(CONFIG.device)\n",
        "            self.mask_out_ratio = mask_out_ratio\n",
        "            mask = torch.where(rand_mat <= self.mask_out_ratio, 0.0, 1.0).to(CONFIG.device)\n",
        "        self.mask = mask\n",
        "\n",
        "        if net_name=='ash_last': # ASH module after last convolutional layer\n",
        "            hook = get_activation_shaping_hook(mask)\n",
        "            #self.hook_handle = self.resnet.layer4[1].relu.register_forward_hook(hook)\n",
        "            self.hook_handle = self.resnet.layer4[0].conv2.register_forward_hook(self.activation_shaping_hook)\n",
        "\n",
        "        elif net_name=='ash_one': # ASH module after each convolutional layer\n",
        "            self.hook_handles = []\n",
        "            layers = [self.resnet.layer1, self.resnet.layer2, self.resnet.layer3, self.resnet.layer4]\n",
        "            for layer in layers:\n",
        "                for module in layer.children():\n",
        "                    if isinstance(module, nn.Conv2d):\n",
        "                        hook = get_activation_shaping_hook(mask)\n",
        "                        hook_handle = module.register_forward_hook(hook)\n",
        "                        self.hook_handles.append(hook_handle)\n",
        "\n",
        "        elif net_name=='ash_three': # ASH module after every three convolutional layers\n",
        "            self.hook_handles = []\n",
        "            layers = [self.resnet.layer1, self.resnet.layer2, self.resnet.layer3, self.resnet.layer4]\n",
        "            for i, layer in enumerate(layers):\n",
        "                for module in layer.children():\n",
        "                    if isinstance(module, nn.Conv2d):\n",
        "                        if (i%3 == 0):\n",
        "                            hook = get_activation_shaping_hook(mask)\n",
        "                            hook_handle = module.register_forward_hook(hook)\n",
        "                            self.hook_handles.append(hook_handle)\n",
        "\n",
        "\n",
        "    def register_activation_shaping_hook(self, layer_name = 'layer4.1.relu', mask_out_ratio = 0.0):\n",
        "        self.layer_name = layer_name\n",
        "        self.mask_out_ratio = mask_out_ratio\n",
        "\n",
        "        # create a mask tensor with a given ratio of zeros\n",
        "        print('self.mask_out_ratio: ', self.mask_out_ratio)\n",
        "        rand_mat = torch.rand(512, 7, 7).to(CONFIG.device)\n",
        "        mask = torch.where(rand_mat <= self.mask_out_ratio, 0.0, 1.0).to(CONFIG.device)\n",
        "\n",
        "        hook = get_activation_shaping_hook(mask)\n",
        "        # penultimate_layer = self.resnet.layer4[1].bn2\n",
        "        # self.hook_handle = penultimate_layer.register_forward_hook(hook)\n",
        "\n",
        "        for name, module in self.resnet.named_modules():\n",
        "          if (isinstance(module, nn.ReLU) and name == self.layer_name):\n",
        "            print('Insert activation shaping layer after ', name, module)\n",
        "            self.hook_handle = module.register_forward_hook(hook)\n",
        "\n",
        "    def remove_activation_shaping_hook (self):\n",
        "        if self.hook_handle is not None:\n",
        "            self.hook_handle.remove()\n",
        "\n",
        "    def remove_activation_shaping_hooks (self):\n",
        "        if self.hook_handles is not None:\n",
        "            for hook_handle in self.hook_handles:\n",
        "                hook_handle.remove()\n",
        "\n",
        "    def forward(self, x):\n",
        "        return self.resnet(x)\n",
        "\n",
        "    '''\n",
        "\n",
        "######################################################"
      ]
    },
    {
      "cell_type": "markdown",
      "metadata": {
        "id": "qSD7qmGTvmv2"
      },
      "source": [
        "### Run"
      ]
    },
    {
      "cell_type": "markdown",
      "metadata": {
        "id": "Xw07UrGmdRdk"
      },
      "source": [
        "Evaluate"
      ]
    },
    {
      "cell_type": "code",
      "execution_count": 9,
      "metadata": {
        "id": "LP7mr-ccdRdl"
      },
      "outputs": [],
      "source": [
        "@torch.no_grad()\n",
        "def evaluate(model, data):\n",
        "    model.eval()\n",
        "\n",
        "    acc_meter = Accuracy(task='multiclass', num_classes=CONFIG.num_classes)\n",
        "    acc_meter = acc_meter.to(CONFIG.device)\n",
        "\n",
        "    loss = [0.0, 0]\n",
        "    for x, y in tqdm(data):\n",
        "        with torch.autocast(device_type=CONFIG.device, dtype=torch.float16, enabled=True):\n",
        "            x, y = x.to(CONFIG.device), y.to(CONFIG.device)\n",
        "            logits = model(x)\n",
        "            acc_meter.update(logits, y)\n",
        "            loss[0] += F.cross_entropy(logits, y).item()\n",
        "            loss[1] += x.size(0)\n",
        "\n",
        "    accuracy = acc_meter.compute()\n",
        "    loss = loss[0] / loss[1]\n",
        "    logging.info(f'Accuracy: {100 * accuracy:.2f} - Loss: {loss}')\n",
        "    print(f'Accuracy: {100 * accuracy:.2f} - Loss: {loss} \\n')"
      ]
    },
    {
      "cell_type": "markdown",
      "metadata": {
        "id": "i6uEldLZdRdl"
      },
      "source": [
        "Train"
      ]
    },
    {
      "cell_type": "code",
      "execution_count": 10,
      "metadata": {
        "id": "98_3TWLTvmv2"
      },
      "outputs": [],
      "source": [
        "def train(model, data):\n",
        "    # Create optimizers & schedulers\n",
        "    optimizer = torch.optim.SGD(model.parameters(), weight_decay=0.0005, momentum=0.9, nesterov=True, lr=0.001)\n",
        "    scheduler = torch.optim.lr_scheduler.StepLR(optimizer, step_size=int(CONFIG.epochs * 0.8), gamma=0.1)\n",
        "    scaler = torch.cuda.amp.GradScaler(enabled=True)\n",
        "\n",
        "    # Load checkpoint (if it exists)\n",
        "    cur_epoch = 0\n",
        "    if os.path.exists(os.path.join('record', CONFIG.experiment_name, 'last.pth')):\n",
        "        checkpoint = torch.load(os.path.join('record', CONFIG.experiment_name, 'last.pth'))\n",
        "        cur_epoch = checkpoint['epoch']\n",
        "        optimizer.load_state_dict(checkpoint['optimizer'])\n",
        "        scheduler.load_state_dict(checkpoint['scheduler'])\n",
        "        model.load_state_dict(checkpoint['model'])\n",
        "\n",
        "    # Optimization loop\n",
        "    for epoch in range(cur_epoch, CONFIG.epochs):\n",
        "        model.train()\n",
        "\n",
        "        for batch_idx, batch in enumerate(tqdm(data['train'])):\n",
        "\n",
        "            # Compute loss\n",
        "            with torch.autocast(device_type=CONFIG.device, dtype=torch.float16, enabled=True):\n",
        "\n",
        "                #if CONFIG.experiment in ['baseline']:\n",
        "                if CONFIG.experiment in ['baseline']:\n",
        "                    x, y = batch\n",
        "                    x, y = x.to(CONFIG.device), y.to(CONFIG.device)\n",
        "                    loss = F.cross_entropy(model(x), y)\n",
        "                ######################################################\n",
        "\n",
        "                elif CONFIG.experiment in ['activation_shaping_last', 'activation_shaping_one', 'activation_shaping_three']:\n",
        "                    x, y = batch\n",
        "                    x, y = x.to(CONFIG.device), y.to(CONFIG.device)\n",
        "                    loss = F.cross_entropy(model(x), y)\n",
        "                elif CONFIG.experiment in ['random']:\n",
        "                    x, y = batch\n",
        "                    x, y = x.to(CONFIG.device), y.to(CONFIG.device)\n",
        "                    loss = F.cross_entropy(model(x), y)\n",
        "\n",
        "                ######################################################\n",
        "\n",
        "            # Optimization step\n",
        "            scaler.scale(loss / CONFIG.grad_accum_steps).backward()\n",
        "\n",
        "            if ((batch_idx + 1) % CONFIG.grad_accum_steps == 0) or (batch_idx + 1 == len(data['train'])):\n",
        "                scaler.step(optimizer)\n",
        "                optimizer.zero_grad(set_to_none=True)\n",
        "                scaler.update()\n",
        "\n",
        "        scheduler.step()\n",
        "\n",
        "        # Test current epoch\n",
        "        logging.info(f'[TEST @ Epoch={epoch}]')\n",
        "        evaluate(model, data['test'])\n",
        "\n",
        "        # Save checkpoint\n",
        "        checkpoint = {\n",
        "            'epoch': epoch + 1,\n",
        "            'optimizer': optimizer.state_dict(),\n",
        "            'scheduler': scheduler.state_dict(),\n",
        "            'model': model.state_dict()\n",
        "        }\n",
        "        torch.save(checkpoint, os.path.join('record', CONFIG.experiment_name, 'last.pth'))"
      ]
    },
    {
      "cell_type": "markdown",
      "metadata": {
        "id": "zKNcF0QVOT-N"
      },
      "source": [
        "Main"
      ]
    },
    {
      "cell_type": "code",
      "execution_count": 11,
      "metadata": {
        "id": "veneeQdydRdl"
      },
      "outputs": [],
      "source": [
        "def create_random_mask(layer_name = 'layer4.1.conv2', mask_out_ratio = 0.0):\n",
        "\n",
        "    layer_output_shapes = {\n",
        "        'layer1.0.conv1': (64, 56, 56),\n",
        "        'layer1.0.relu': (64, 56, 56),\n",
        "        'layer1.0.conv2': (64, 56, 56),\n",
        "        'layer1.1.conv1': (64, 56, 56),\n",
        "        'layer1.1.bn1': (64, 56, 56),\n",
        "        'layer1.1.relu': (64, 56, 56),\n",
        "        'layer1.1.conv2': (64, 56, 56),\n",
        "        'layer1.1.bn2': (64, 56, 56),\n",
        "        'layer2.0.conv1': (128, 28, 28),\n",
        "        'layer2.0.relu': (128, 28, 28),\n",
        "        'layer2.0.conv2': (128, 28, 28),\n",
        "        'layer2.1.conv1': (128, 28, 28),\n",
        "        'layer2.1.relu': (128, 28, 28),\n",
        "        'layer2.1.conv2': (128, 28, 28),\n",
        "        'layer3.0.conv1': (256, 14, 14),\n",
        "        'layer3.0.relu': (256, 14, 14),\n",
        "        'layer3.0.conv2': (256, 14, 14),\n",
        "        'layer3.1.conv1': (256, 14, 14),\n",
        "        'layer3.1.relu': (256, 14, 14),\n",
        "        'layer3.1.conv2': (256, 14, 14),\n",
        "        'layer4.0.conv1': (512, 7, 7),\n",
        "        'layer4.0.relu': (512, 7, 7),\n",
        "        'layer4.0.conv2': (512, 7, 7),\n",
        "        'layer4.1.conv1': (512, 7, 7),\n",
        "        'layer4.1.relu': (512, 7, 7),\n",
        "        'layer4.1.conv2': (512, 7, 7)\n",
        "    }\n",
        "\n",
        "    # create a mask tensor with a given ratio of zeros\n",
        "    print('mask_out_ratio: ',mask_out_ratio)\n",
        "    layer_output_shape = layer_output_shapes[layer_name]\n",
        "\n",
        "    rand_mat = torch.rand(layer_output_shape).to(CONFIG.device)\n",
        "    mask = torch.where(rand_mat <= mask_out_ratio, 0.0, 1.0).to(CONFIG.device)\n",
        "    return mask\n",
        "\n",
        "\n",
        "# def main (mask_out_ratio=0.1):\n",
        "def main ():\n",
        "    # Load dataset\n",
        "    data = load_data()\n",
        "\n",
        "    # Load model\n",
        "    if CONFIG.experiment in ['baseline']:\n",
        "        model = BaseResNet18()\n",
        "    ######################################################\n",
        "\n",
        "#    elif CONFIG.experiment in ['activation_shaping_last']:\n",
        "#        model = ASHResNet18()\n",
        "#        model.define_network('ash_last', mask_out_ratio=0.1)\n",
        "#    elif CONFIG.experiment in ['activation_shaping_one']:\n",
        "#        model = ASHResNet18()\n",
        "#        model.define_network('ash_one', mask_out_ratio=0.1)\n",
        "#    elif CONFIG.experiment in ['activation_shaping_three']:\n",
        "#        model = ASHResNet18()\n",
        "#        model.define_network('ash_three', mask_out_ratio=0.1)\n",
        "\n",
        "    elif CONFIG.experiment in ['random']:\n",
        "        model = ASHResNet18()\n",
        "        # module_placement = ['layer4.1.relu']\n",
        "        # module_placement = ['layer3.1.conv2', 'layer4.0.conv2']\n",
        "        module_placement = CONFIG.experiment_args['module_placement']\n",
        "        mask_out_ratio = CONFIG.experiment_args['mask_out_ratio']\n",
        "\n",
        "        for layer_name in module_placement:\n",
        "            random_mask = create_random_mask(layer_name = layer_name, mask_out_ratio = mask_out_ratio)\n",
        "            print('random_mask sum(): ', random_mask.sum())\n",
        "            model.register_activation_shaping_hook(layer_name, random_mask)\n",
        "\n",
        "    ######################################################\n",
        "\n",
        "    model.to(CONFIG.device)\n",
        "\n",
        "    if not CONFIG.test_only:\n",
        "        train(model, data)\n",
        "    else:\n",
        "        evaluate(model, data['test'])\n",
        "\n",
        "    if CONFIG.experiment in ['activation_shaping_last']:\n",
        "        model.remove_activation_shaping_hook()\n",
        "    elif CONFIG.experiment in ['activation_shaping_one', 'activation_shaping_three']:\n",
        "        model.remove_activation_shaping_hooks()"
      ]
    },
    {
      "cell_type": "markdown",
      "metadata": {
        "id": "0XMhO3LgdRdl"
      },
      "source": [
        "### Baseline"
      ]
    },
    {
      "cell_type": "markdown",
      "metadata": {
        "id": "DFjB655wdRdm"
      },
      "source": [
        "Art painting &rightarrow; Cartoon"
      ]
    },
    {
      "cell_type": "code",
      "execution_count": null,
      "metadata": {
        "colab": {
          "base_uri": "https://localhost:8080/"
        },
        "id": "6lI_Y0btdRdm",
        "outputId": "d6bc3835-8003-4ea8-c639-bbcefd260bcc"
      },
      "outputs": [
        {
          "output_type": "stream",
          "name": "stdout",
          "text": [
            "Namespace(seed=0, test_only=False, cpu=False, experiment='baseline', experiment_name='baseline/cartoon/', experiment_args='{}', dataset_args={'text_root': 'data', 'images_root': 'data/kfold/PACS', 'source_domain': 'art_painting', 'target_domain': 'cartoon'}, batch_size=128, epochs=30, num_workers=5, grad_accum_steps=1)\n"
          ]
        },
        {
          "output_type": "stream",
          "name": "stderr",
          "text": [
            "Downloading: \"https://download.pytorch.org/models/resnet18-f37072fd.pth\" to /root/.cache/torch/hub/checkpoints/resnet18-f37072fd.pth\n",
            "100%|██████████| 44.7M/44.7M [00:00<00:00, 132MB/s]\n",
            "100%|██████████| 16/16 [00:12<00:00,  1.25it/s]\n",
            "100%|██████████| 19/19 [00:08<00:00,  2.31it/s]\n"
          ]
        },
        {
          "output_type": "stream",
          "name": "stdout",
          "text": [
            "Accuracy: 30.72 - Loss: 0.014738500830256492 \n",
            "\n"
          ]
        },
        {
          "output_type": "stream",
          "name": "stderr",
          "text": [
            "100%|██████████| 16/16 [00:11<00:00,  1.42it/s]\n",
            "100%|██████████| 19/19 [00:07<00:00,  2.45it/s]\n"
          ]
        },
        {
          "output_type": "stream",
          "name": "stdout",
          "text": [
            "Accuracy: 41.89 - Loss: 0.013023637514879272 \n",
            "\n"
          ]
        },
        {
          "output_type": "stream",
          "name": "stderr",
          "text": [
            "100%|██████████| 16/16 [00:11<00:00,  1.44it/s]\n",
            "100%|██████████| 19/19 [00:09<00:00,  1.90it/s]\n"
          ]
        },
        {
          "output_type": "stream",
          "name": "stdout",
          "text": [
            "Accuracy: 44.54 - Loss: 0.01193234304112379 \n",
            "\n"
          ]
        },
        {
          "output_type": "stream",
          "name": "stderr",
          "text": [
            "100%|██████████| 16/16 [00:12<00:00,  1.31it/s]\n",
            "100%|██████████| 19/19 [00:07<00:00,  2.43it/s]\n"
          ]
        },
        {
          "output_type": "stream",
          "name": "stdout",
          "text": [
            "Accuracy: 44.88 - Loss: 0.011751844970439481 \n",
            "\n"
          ]
        },
        {
          "output_type": "stream",
          "name": "stderr",
          "text": [
            "100%|██████████| 16/16 [00:11<00:00,  1.39it/s]\n",
            "100%|██████████| 19/19 [00:06<00:00,  2.75it/s]\n"
          ]
        },
        {
          "output_type": "stream",
          "name": "stdout",
          "text": [
            "Accuracy: 46.29 - Loss: 0.011462996271995146 \n",
            "\n"
          ]
        },
        {
          "output_type": "stream",
          "name": "stderr",
          "text": [
            "100%|██████████| 16/16 [00:11<00:00,  1.41it/s]\n",
            "100%|██████████| 19/19 [00:06<00:00,  2.73it/s]\n"
          ]
        },
        {
          "output_type": "stream",
          "name": "stdout",
          "text": [
            "Accuracy: 47.99 - Loss: 0.011023017682719963 \n",
            "\n"
          ]
        },
        {
          "output_type": "stream",
          "name": "stderr",
          "text": [
            "100%|██████████| 16/16 [00:13<00:00,  1.16it/s]\n",
            "100%|██████████| 19/19 [00:10<00:00,  1.77it/s]\n"
          ]
        },
        {
          "output_type": "stream",
          "name": "stdout",
          "text": [
            "Accuracy: 49.32 - Loss: 0.01074776438671981 \n",
            "\n"
          ]
        },
        {
          "output_type": "stream",
          "name": "stderr",
          "text": [
            "100%|██████████| 16/16 [00:10<00:00,  1.55it/s]\n",
            "100%|██████████| 19/19 [00:08<00:00,  2.13it/s]\n"
          ]
        },
        {
          "output_type": "stream",
          "name": "stdout",
          "text": [
            "Accuracy: 49.91 - Loss: 0.010697453546595247 \n",
            "\n"
          ]
        },
        {
          "output_type": "stream",
          "name": "stderr",
          "text": [
            "100%|██████████| 16/16 [00:12<00:00,  1.31it/s]\n",
            "100%|██████████| 19/19 [00:07<00:00,  2.51it/s]\n"
          ]
        },
        {
          "output_type": "stream",
          "name": "stdout",
          "text": [
            "Accuracy: 49.70 - Loss: 0.010842787534151061 \n",
            "\n"
          ]
        },
        {
          "output_type": "stream",
          "name": "stderr",
          "text": [
            "100%|██████████| 16/16 [00:12<00:00,  1.33it/s]\n",
            "100%|██████████| 19/19 [00:07<00:00,  2.52it/s]\n"
          ]
        },
        {
          "output_type": "stream",
          "name": "stdout",
          "text": [
            "Accuracy: 50.85 - Loss: 0.010660976934351613 \n",
            "\n"
          ]
        },
        {
          "output_type": "stream",
          "name": "stderr",
          "text": [
            "100%|██████████| 16/16 [00:13<00:00,  1.16it/s]\n",
            "100%|██████████| 19/19 [00:10<00:00,  1.85it/s]\n"
          ]
        },
        {
          "output_type": "stream",
          "name": "stdout",
          "text": [
            "Accuracy: 51.92 - Loss: 0.010419946081249788 \n",
            "\n"
          ]
        },
        {
          "output_type": "stream",
          "name": "stderr",
          "text": [
            "100%|██████████| 16/16 [00:09<00:00,  1.71it/s]\n",
            "100%|██████████| 19/19 [00:09<00:00,  2.03it/s]\n"
          ]
        },
        {
          "output_type": "stream",
          "name": "stdout",
          "text": [
            "Accuracy: 51.79 - Loss: 0.010544328158880257 \n",
            "\n"
          ]
        },
        {
          "output_type": "stream",
          "name": "stderr",
          "text": [
            "100%|██████████| 16/16 [00:09<00:00,  1.73it/s]\n",
            "100%|██████████| 19/19 [00:08<00:00,  2.24it/s]\n"
          ]
        },
        {
          "output_type": "stream",
          "name": "stdout",
          "text": [
            "Accuracy: 52.65 - Loss: 0.010368246044772884 \n",
            "\n"
          ]
        },
        {
          "output_type": "stream",
          "name": "stderr",
          "text": [
            "100%|██████████| 16/16 [00:10<00:00,  1.55it/s]\n",
            "100%|██████████| 19/19 [00:07<00:00,  2.42it/s]\n"
          ]
        },
        {
          "output_type": "stream",
          "name": "stdout",
          "text": [
            "Accuracy: 53.71 - Loss: 0.010255471568033353 \n",
            "\n"
          ]
        },
        {
          "output_type": "stream",
          "name": "stderr",
          "text": [
            "100%|██████████| 16/16 [00:11<00:00,  1.43it/s]\n",
            "100%|██████████| 19/19 [00:06<00:00,  2.79it/s]\n"
          ]
        },
        {
          "output_type": "stream",
          "name": "stdout",
          "text": [
            "Accuracy: 51.92 - Loss: 0.010746627677321027 \n",
            "\n"
          ]
        },
        {
          "output_type": "stream",
          "name": "stderr",
          "text": [
            "100%|██████████| 16/16 [00:12<00:00,  1.33it/s]\n",
            "100%|██████████| 19/19 [00:06<00:00,  2.95it/s]\n"
          ]
        },
        {
          "output_type": "stream",
          "name": "stdout",
          "text": [
            "Accuracy: 53.97 - Loss: 0.01029509913379727 \n",
            "\n"
          ]
        },
        {
          "output_type": "stream",
          "name": "stderr",
          "text": [
            "100%|██████████| 16/16 [00:11<00:00,  1.36it/s]\n",
            "100%|██████████| 19/19 [00:06<00:00,  2.86it/s]\n"
          ]
        },
        {
          "output_type": "stream",
          "name": "stdout",
          "text": [
            "Accuracy: 54.48 - Loss: 0.010216116619140621 \n",
            "\n"
          ]
        },
        {
          "output_type": "stream",
          "name": "stderr",
          "text": [
            "100%|██████████| 16/16 [00:11<00:00,  1.37it/s]\n",
            "100%|██████████| 19/19 [00:07<00:00,  2.71it/s]\n"
          ]
        },
        {
          "output_type": "stream",
          "name": "stdout",
          "text": [
            "Accuracy: 53.75 - Loss: 0.010511750946577905 \n",
            "\n"
          ]
        },
        {
          "output_type": "stream",
          "name": "stderr",
          "text": [
            "100%|██████████| 16/16 [00:11<00:00,  1.45it/s]\n",
            "100%|██████████| 19/19 [00:08<00:00,  2.18it/s]\n"
          ]
        },
        {
          "output_type": "stream",
          "name": "stdout",
          "text": [
            "Accuracy: 53.63 - Loss: 0.01059691894341756 \n",
            "\n"
          ]
        },
        {
          "output_type": "stream",
          "name": "stderr",
          "text": [
            "100%|██████████| 16/16 [00:09<00:00,  1.64it/s]\n",
            "100%|██████████| 19/19 [00:08<00:00,  2.18it/s]\n"
          ]
        },
        {
          "output_type": "stream",
          "name": "stdout",
          "text": [
            "Accuracy: 55.38 - Loss: 0.010137895951778612 \n",
            "\n"
          ]
        },
        {
          "output_type": "stream",
          "name": "stderr",
          "text": [
            "100%|██████████| 16/16 [00:08<00:00,  1.82it/s]\n",
            "100%|██████████| 19/19 [00:08<00:00,  2.17it/s]\n"
          ]
        },
        {
          "output_type": "stream",
          "name": "stdout",
          "text": [
            "Accuracy: 54.35 - Loss: 0.0104739549903536 \n",
            "\n"
          ]
        },
        {
          "output_type": "stream",
          "name": "stderr",
          "text": [
            "100%|██████████| 16/16 [00:09<00:00,  1.61it/s]\n",
            "100%|██████████| 19/19 [00:07<00:00,  2.46it/s]\n"
          ]
        },
        {
          "output_type": "stream",
          "name": "stdout",
          "text": [
            "Accuracy: 54.78 - Loss: 0.010443979734395958 \n",
            "\n"
          ]
        },
        {
          "output_type": "stream",
          "name": "stderr",
          "text": [
            "100%|██████████| 16/16 [00:10<00:00,  1.54it/s]\n",
            "100%|██████████| 19/19 [00:06<00:00,  2.73it/s]\n"
          ]
        },
        {
          "output_type": "stream",
          "name": "stdout",
          "text": [
            "Accuracy: 55.08 - Loss: 0.010418130046729342 \n",
            "\n"
          ]
        },
        {
          "output_type": "stream",
          "name": "stderr",
          "text": [
            "100%|██████████| 16/16 [00:11<00:00,  1.43it/s]\n",
            "100%|██████████| 19/19 [00:06<00:00,  2.90it/s]\n"
          ]
        },
        {
          "output_type": "stream",
          "name": "stdout",
          "text": [
            "Accuracy: 54.01 - Loss: 0.010830152760746128 \n",
            "\n"
          ]
        },
        {
          "output_type": "stream",
          "name": "stderr",
          "text": [
            "100%|██████████| 16/16 [00:11<00:00,  1.40it/s]\n",
            "100%|██████████| 19/19 [00:09<00:00,  1.92it/s]\n"
          ]
        },
        {
          "output_type": "stream",
          "name": "stdout",
          "text": [
            "Accuracy: 54.35 - Loss: 0.01071516450799671 \n",
            "\n"
          ]
        },
        {
          "output_type": "stream",
          "name": "stderr",
          "text": [
            "100%|██████████| 16/16 [00:10<00:00,  1.49it/s]\n",
            "100%|██████████| 19/19 [00:09<00:00,  1.91it/s]\n"
          ]
        },
        {
          "output_type": "stream",
          "name": "stdout",
          "text": [
            "Accuracy: 54.18 - Loss: 0.010827953625254256 \n",
            "\n"
          ]
        },
        {
          "output_type": "stream",
          "name": "stderr",
          "text": [
            "100%|██████████| 16/16 [00:10<00:00,  1.54it/s]\n",
            "100%|██████████| 19/19 [00:08<00:00,  2.29it/s]\n"
          ]
        },
        {
          "output_type": "stream",
          "name": "stdout",
          "text": [
            "Accuracy: 54.52 - Loss: 0.010693641338154114 \n",
            "\n"
          ]
        },
        {
          "output_type": "stream",
          "name": "stderr",
          "text": [
            "100%|██████████| 16/16 [00:12<00:00,  1.32it/s]\n",
            "100%|██████████| 19/19 [00:06<00:00,  2.73it/s]\n"
          ]
        },
        {
          "output_type": "stream",
          "name": "stdout",
          "text": [
            "Accuracy: 54.27 - Loss: 0.010764340816046597 \n",
            "\n"
          ]
        },
        {
          "output_type": "stream",
          "name": "stderr",
          "text": [
            "100%|██████████| 16/16 [00:11<00:00,  1.36it/s]\n",
            "100%|██████████| 19/19 [00:07<00:00,  2.70it/s]\n"
          ]
        },
        {
          "output_type": "stream",
          "name": "stdout",
          "text": [
            "Accuracy: 54.22 - Loss: 0.010671518889252643 \n",
            "\n"
          ]
        },
        {
          "output_type": "stream",
          "name": "stderr",
          "text": [
            "100%|██████████| 16/16 [00:10<00:00,  1.47it/s]\n",
            "100%|██████████| 19/19 [00:09<00:00,  2.01it/s]\n"
          ]
        },
        {
          "output_type": "stream",
          "name": "stdout",
          "text": [
            "Accuracy: 54.44 - Loss: 0.010674746455974342 \n",
            "\n"
          ]
        }
      ],
      "source": [
        "warnings.filterwarnings('ignore', category=UserWarning)\n",
        "\n",
        "# Parse arguments\n",
        "conf = { # Cartoon\n",
        "    'seed': 0,\n",
        "    'test_only': False,\n",
        "    'cpu': False,\n",
        "    'experiment': 'baseline',\n",
        "    'experiment_name': 'baseline/cartoon/',\n",
        "    'experiment_args': '{}',\n",
        "    'dataset_args': { 'text_root': 'data', 'images_root': 'data/kfold/PACS', 'source_domain': 'art_painting', 'target_domain': 'cartoon' },\n",
        "    'batch_size': 128,\n",
        "    'epochs': 30,\n",
        "    'num_workers': 5,\n",
        "    'grad_accum_steps': 1\n",
        "}\n",
        "\n",
        "#args = parse_arguments()\n",
        "args = argparse.Namespace(**conf)\n",
        "print(args)\n",
        "CONFIG.update(vars(args))\n",
        "\n",
        "# Setup output directory\n",
        "CONFIG.save_dir = os.path.join('record', CONFIG.experiment_name)\n",
        "os.makedirs(CONFIG.save_dir, exist_ok=True)\n",
        "\n",
        "# Setup logging\n",
        "logging.basicConfig(\n",
        "    filename=os.path.join(CONFIG.save_dir, 'log.txt'),\n",
        "    format='%(message)s',\n",
        "    level=logging.INFO,\n",
        "    filemode='a'\n",
        ")\n",
        "\n",
        "# Set experiment's device & deterministic behavior\n",
        "if CONFIG.cpu:\n",
        "    CONFIG.device = 'cpu'\n",
        "else:\n",
        "    CONFIG.device = 'cuda' if torch.cuda.is_available() else 'cpu'\n",
        "\n",
        "torch.manual_seed(CONFIG.seed)\n",
        "random.seed(CONFIG.seed)\n",
        "np.random.seed(CONFIG.seed)\n",
        "torch.backends.cudnn.benchmark = True\n",
        "torch.use_deterministic_algorithms(mode=True, warn_only=True)\n",
        "\n",
        "main()"
      ]
    },
    {
      "cell_type": "markdown",
      "metadata": {
        "id": "5AXg2S2XdRd9"
      },
      "source": [
        "Art painting &rightarrow; Sketch"
      ]
    },
    {
      "cell_type": "code",
      "execution_count": null,
      "metadata": {
        "colab": {
          "base_uri": "https://localhost:8080/"
        },
        "id": "IBYGqertdRd_",
        "outputId": "344418fa-142b-442f-c9de-f60789ab8849"
      },
      "outputs": [
        {
          "output_type": "stream",
          "name": "stdout",
          "text": [
            "Namespace(seed=0, test_only=False, cpu=False, experiment='baseline', experiment_name='baseline/sketch/', experiment_args='{}', dataset_args={'text_root': 'data', 'images_root': 'data/kfold/PACS', 'source_domain': 'art_painting', 'target_domain': 'sketch'}, batch_size=128, epochs=30, num_workers=5, grad_accum_steps=1)\n"
          ]
        },
        {
          "output_type": "stream",
          "name": "stderr",
          "text": [
            "100%|██████████| 16/16 [00:09<00:00,  1.75it/s]\n",
            "100%|██████████| 31/31 [00:12<00:00,  2.50it/s]\n"
          ]
        },
        {
          "output_type": "stream",
          "name": "stdout",
          "text": [
            "Accuracy: 10.66 - Loss: 0.016419021401826467 \n",
            "\n"
          ]
        },
        {
          "output_type": "stream",
          "name": "stderr",
          "text": [
            "100%|██████████| 16/16 [00:10<00:00,  1.56it/s]\n",
            "100%|██████████| 31/31 [00:11<00:00,  2.64it/s]\n"
          ]
        },
        {
          "output_type": "stream",
          "name": "stdout",
          "text": [
            "Accuracy: 24.15 - Loss: 0.015490007752466822 \n",
            "\n"
          ]
        },
        {
          "output_type": "stream",
          "name": "stderr",
          "text": [
            "100%|██████████| 16/16 [00:08<00:00,  1.97it/s]\n",
            "100%|██████████| 31/31 [00:11<00:00,  2.59it/s]\n"
          ]
        },
        {
          "output_type": "stream",
          "name": "stdout",
          "text": [
            "Accuracy: 28.46 - Loss: 0.01512898194877875 \n",
            "\n"
          ]
        },
        {
          "output_type": "stream",
          "name": "stderr",
          "text": [
            "100%|██████████| 16/16 [00:10<00:00,  1.57it/s]\n",
            "100%|██████████| 31/31 [00:12<00:00,  2.58it/s]\n"
          ]
        },
        {
          "output_type": "stream",
          "name": "stdout",
          "text": [
            "Accuracy: 28.81 - Loss: 0.015052309531417929 \n",
            "\n"
          ]
        },
        {
          "output_type": "stream",
          "name": "stderr",
          "text": [
            "100%|██████████| 16/16 [00:08<00:00,  1.91it/s]\n",
            "100%|██████████| 31/31 [00:12<00:00,  2.53it/s]\n"
          ]
        },
        {
          "output_type": "stream",
          "name": "stdout",
          "text": [
            "Accuracy: 31.38 - Loss: 0.014600902272411568 \n",
            "\n"
          ]
        },
        {
          "output_type": "stream",
          "name": "stderr",
          "text": [
            "100%|██████████| 16/16 [00:09<00:00,  1.65it/s]\n",
            "100%|██████████| 31/31 [00:10<00:00,  3.08it/s]\n"
          ]
        },
        {
          "output_type": "stream",
          "name": "stdout",
          "text": [
            "Accuracy: 32.35 - Loss: 0.014513184503005278 \n",
            "\n"
          ]
        },
        {
          "output_type": "stream",
          "name": "stderr",
          "text": [
            "100%|██████████| 16/16 [00:09<00:00,  1.68it/s]\n",
            "100%|██████████| 31/31 [00:11<00:00,  2.61it/s]\n"
          ]
        },
        {
          "output_type": "stream",
          "name": "stdout",
          "text": [
            "Accuracy: 32.27 - Loss: 0.01444886858817062 \n",
            "\n"
          ]
        },
        {
          "output_type": "stream",
          "name": "stderr",
          "text": [
            "100%|██████████| 16/16 [00:08<00:00,  1.97it/s]\n",
            "100%|██████████| 31/31 [00:11<00:00,  2.70it/s]\n"
          ]
        },
        {
          "output_type": "stream",
          "name": "stdout",
          "text": [
            "Accuracy: 33.62 - Loss: 0.014542162463876789 \n",
            "\n"
          ]
        },
        {
          "output_type": "stream",
          "name": "stderr",
          "text": [
            "100%|██████████| 16/16 [00:09<00:00,  1.62it/s]\n",
            "100%|██████████| 31/31 [00:11<00:00,  2.77it/s]\n"
          ]
        },
        {
          "output_type": "stream",
          "name": "stdout",
          "text": [
            "Accuracy: 33.39 - Loss: 0.01455705776928217 \n",
            "\n"
          ]
        },
        {
          "output_type": "stream",
          "name": "stderr",
          "text": [
            "100%|██████████| 16/16 [00:08<00:00,  1.89it/s]\n",
            "100%|██████████| 31/31 [00:11<00:00,  2.62it/s]\n"
          ]
        },
        {
          "output_type": "stream",
          "name": "stdout",
          "text": [
            "Accuracy: 35.56 - Loss: 0.014256780764685844 \n",
            "\n"
          ]
        },
        {
          "output_type": "stream",
          "name": "stderr",
          "text": [
            "100%|██████████| 16/16 [00:09<00:00,  1.74it/s]\n",
            "100%|██████████| 31/31 [00:10<00:00,  2.95it/s]\n"
          ]
        },
        {
          "output_type": "stream",
          "name": "stdout",
          "text": [
            "Accuracy: 35.71 - Loss: 0.014292853999362401 \n",
            "\n"
          ]
        },
        {
          "output_type": "stream",
          "name": "stderr",
          "text": [
            "100%|██████████| 16/16 [00:09<00:00,  1.62it/s]\n",
            "100%|██████████| 31/31 [00:11<00:00,  2.59it/s]\n"
          ]
        },
        {
          "output_type": "stream",
          "name": "stdout",
          "text": [
            "Accuracy: 35.96 - Loss: 0.014317622770939082 \n",
            "\n"
          ]
        },
        {
          "output_type": "stream",
          "name": "stderr",
          "text": [
            "100%|██████████| 16/16 [00:08<00:00,  1.98it/s]\n",
            "100%|██████████| 31/31 [00:11<00:00,  2.62it/s]\n"
          ]
        },
        {
          "output_type": "stream",
          "name": "stdout",
          "text": [
            "Accuracy: 36.65 - Loss: 0.014580405829486182 \n",
            "\n"
          ]
        },
        {
          "output_type": "stream",
          "name": "stderr",
          "text": [
            "100%|██████████| 16/16 [00:10<00:00,  1.59it/s]\n",
            "100%|██████████| 31/31 [00:11<00:00,  2.81it/s]\n"
          ]
        },
        {
          "output_type": "stream",
          "name": "stdout",
          "text": [
            "Accuracy: 36.50 - Loss: 0.01456085688650957 \n",
            "\n"
          ]
        },
        {
          "output_type": "stream",
          "name": "stderr",
          "text": [
            "100%|██████████| 16/16 [00:08<00:00,  1.81it/s]\n",
            "100%|██████████| 31/31 [00:11<00:00,  2.60it/s]\n"
          ]
        },
        {
          "output_type": "stream",
          "name": "stdout",
          "text": [
            "Accuracy: 37.03 - Loss: 0.0147209538094231 \n",
            "\n"
          ]
        },
        {
          "output_type": "stream",
          "name": "stderr",
          "text": [
            "100%|██████████| 16/16 [00:09<00:00,  1.72it/s]\n",
            "100%|██████████| 31/31 [00:10<00:00,  2.94it/s]\n"
          ]
        },
        {
          "output_type": "stream",
          "name": "stdout",
          "text": [
            "Accuracy: 37.69 - Loss: 0.014489321148586686 \n",
            "\n"
          ]
        },
        {
          "output_type": "stream",
          "name": "stderr",
          "text": [
            "100%|██████████| 16/16 [00:09<00:00,  1.62it/s]\n",
            "100%|██████████| 31/31 [00:11<00:00,  2.63it/s]\n"
          ]
        },
        {
          "output_type": "stream",
          "name": "stdout",
          "text": [
            "Accuracy: 38.53 - Loss: 0.014553770290194166 \n",
            "\n"
          ]
        },
        {
          "output_type": "stream",
          "name": "stderr",
          "text": [
            "100%|██████████| 16/16 [00:07<00:00,  2.02it/s]\n",
            "100%|██████████| 31/31 [00:11<00:00,  2.63it/s]\n"
          ]
        },
        {
          "output_type": "stream",
          "name": "stdout",
          "text": [
            "Accuracy: 38.89 - Loss: 0.014829153503647103 \n",
            "\n"
          ]
        },
        {
          "output_type": "stream",
          "name": "stderr",
          "text": [
            "100%|██████████| 16/16 [00:10<00:00,  1.60it/s]\n",
            "100%|██████████| 31/31 [00:10<00:00,  2.93it/s]\n"
          ]
        },
        {
          "output_type": "stream",
          "name": "stdout",
          "text": [
            "Accuracy: 38.36 - Loss: 0.014959721096176687 \n",
            "\n"
          ]
        },
        {
          "output_type": "stream",
          "name": "stderr",
          "text": [
            "100%|██████████| 16/16 [00:09<00:00,  1.76it/s]\n",
            "100%|██████████| 31/31 [00:11<00:00,  2.62it/s]\n"
          ]
        },
        {
          "output_type": "stream",
          "name": "stdout",
          "text": [
            "Accuracy: 39.63 - Loss: 0.014553738280573277 \n",
            "\n"
          ]
        },
        {
          "output_type": "stream",
          "name": "stderr",
          "text": [
            "100%|██████████| 16/16 [00:08<00:00,  1.85it/s]\n",
            "100%|██████████| 31/31 [00:10<00:00,  2.88it/s]\n"
          ]
        },
        {
          "output_type": "stream",
          "name": "stdout",
          "text": [
            "Accuracy: 40.09 - Loss: 0.014846542775706803 \n",
            "\n"
          ]
        },
        {
          "output_type": "stream",
          "name": "stderr",
          "text": [
            "100%|██████████| 16/16 [00:09<00:00,  1.63it/s]\n",
            "100%|██████████| 31/31 [00:11<00:00,  2.65it/s]\n"
          ]
        },
        {
          "output_type": "stream",
          "name": "stdout",
          "text": [
            "Accuracy: 40.24 - Loss: 0.014826116541561263 \n",
            "\n"
          ]
        },
        {
          "output_type": "stream",
          "name": "stderr",
          "text": [
            "100%|██████████| 16/16 [00:08<00:00,  1.96it/s]\n",
            "100%|██████████| 31/31 [00:11<00:00,  2.63it/s]\n"
          ]
        },
        {
          "output_type": "stream",
          "name": "stdout",
          "text": [
            "Accuracy: 40.26 - Loss: 0.014999273640110038 \n",
            "\n"
          ]
        },
        {
          "output_type": "stream",
          "name": "stderr",
          "text": [
            "100%|██████████| 16/16 [00:09<00:00,  1.65it/s]\n",
            "100%|██████████| 31/31 [00:09<00:00,  3.11it/s]\n"
          ]
        },
        {
          "output_type": "stream",
          "name": "stdout",
          "text": [
            "Accuracy: 39.70 - Loss: 0.015256631758171173 \n",
            "\n"
          ]
        },
        {
          "output_type": "stream",
          "name": "stderr",
          "text": [
            "100%|██████████| 16/16 [00:09<00:00,  1.65it/s]\n",
            "100%|██████████| 31/31 [00:11<00:00,  2.63it/s]\n"
          ]
        },
        {
          "output_type": "stream",
          "name": "stdout",
          "text": [
            "Accuracy: 40.04 - Loss: 0.015100546786123088 \n",
            "\n"
          ]
        },
        {
          "output_type": "stream",
          "name": "stderr",
          "text": [
            "100%|██████████| 16/16 [00:08<00:00,  1.96it/s]\n",
            "100%|██████████| 31/31 [00:11<00:00,  2.62it/s]\n"
          ]
        },
        {
          "output_type": "stream",
          "name": "stdout",
          "text": [
            "Accuracy: 39.86 - Loss: 0.015287345626573278 \n",
            "\n"
          ]
        },
        {
          "output_type": "stream",
          "name": "stderr",
          "text": [
            "100%|██████████| 16/16 [00:09<00:00,  1.64it/s]\n",
            "100%|██████████| 31/31 [00:11<00:00,  2.73it/s]\n"
          ]
        },
        {
          "output_type": "stream",
          "name": "stdout",
          "text": [
            "Accuracy: 40.06 - Loss: 0.015272652489989123 \n",
            "\n"
          ]
        },
        {
          "output_type": "stream",
          "name": "stderr",
          "text": [
            "100%|██████████| 16/16 [00:08<00:00,  1.89it/s]\n",
            "100%|██████████| 31/31 [00:11<00:00,  2.61it/s]\n"
          ]
        },
        {
          "output_type": "stream",
          "name": "stdout",
          "text": [
            "Accuracy: 40.06 - Loss: 0.01526401370771364 \n",
            "\n"
          ]
        },
        {
          "output_type": "stream",
          "name": "stderr",
          "text": [
            "100%|██████████| 16/16 [00:09<00:00,  1.67it/s]\n",
            "100%|██████████| 31/31 [00:10<00:00,  2.98it/s]\n"
          ]
        },
        {
          "output_type": "stream",
          "name": "stdout",
          "text": [
            "Accuracy: 40.24 - Loss: 0.01506451536875458 \n",
            "\n"
          ]
        },
        {
          "output_type": "stream",
          "name": "stderr",
          "text": [
            "100%|██████████| 16/16 [00:09<00:00,  1.61it/s]\n",
            "100%|██████████| 31/31 [00:11<00:00,  2.59it/s]\n"
          ]
        },
        {
          "output_type": "stream",
          "name": "stdout",
          "text": [
            "Accuracy: 40.47 - Loss: 0.015102852950359489 \n",
            "\n"
          ]
        }
      ],
      "source": [
        "warnings.filterwarnings('ignore', category=UserWarning)\n",
        "\n",
        "# Parse arguments\n",
        "conf = { # Sketch\n",
        "    'seed': 0,\n",
        "    'test_only': False,\n",
        "    'cpu': False,\n",
        "    'experiment': 'baseline',\n",
        "    'experiment_name': 'baseline/sketch/',\n",
        "    'experiment_args': '{}',\n",
        "    'dataset_args': { 'text_root': 'data', 'images_root': 'data/kfold/PACS', 'source_domain': 'art_painting', 'target_domain': 'sketch' },\n",
        "    'batch_size': 128,\n",
        "    'epochs': 30,\n",
        "    'num_workers': 5,\n",
        "    'grad_accum_steps': 1\n",
        "}\n",
        "\n",
        "#args = parse_arguments()\n",
        "args = argparse.Namespace(**conf)\n",
        "print(args)\n",
        "CONFIG.update(vars(args))\n",
        "\n",
        "# Setup output directory\n",
        "CONFIG.save_dir = os.path.join('record', CONFIG.experiment_name)\n",
        "os.makedirs(CONFIG.save_dir, exist_ok=True)\n",
        "\n",
        "# Setup logging\n",
        "logging.basicConfig(\n",
        "    filename=os.path.join(CONFIG.save_dir, 'log.txt'),\n",
        "    format='%(message)s',\n",
        "    level=logging.INFO,\n",
        "    filemode='a'\n",
        ")\n",
        "\n",
        "# Set experiment's device & deterministic behavior\n",
        "if CONFIG.cpu:\n",
        "    CONFIG.device = 'cpu'\n",
        "else:\n",
        "    CONFIG.device = 'cuda' if torch.cuda.is_available() else 'cpu'\n",
        "\n",
        "torch.manual_seed(CONFIG.seed)\n",
        "random.seed(CONFIG.seed)\n",
        "np.random.seed(CONFIG.seed)\n",
        "torch.backends.cudnn.benchmark = True\n",
        "torch.use_deterministic_algorithms(mode=True, warn_only=True)\n",
        "\n",
        "main()"
      ]
    },
    {
      "cell_type": "markdown",
      "metadata": {
        "id": "pTblrtLQdReB"
      },
      "source": [
        "Art painting &rightarrow; Photo"
      ]
    },
    {
      "cell_type": "code",
      "execution_count": null,
      "metadata": {
        "colab": {
          "base_uri": "https://localhost:8080/"
        },
        "id": "n2KdYH7CdReB",
        "outputId": "feda0efb-7a9e-4cdc-8ccc-13b25f56cc97"
      },
      "outputs": [
        {
          "output_type": "stream",
          "name": "stdout",
          "text": [
            "Namespace(seed=0, test_only=False, cpu=False, experiment='baseline', experiment_name='baseline/photo/', experiment_args='{}', dataset_args={'text_root': 'data', 'images_root': 'data/kfold/PACS', 'source_domain': 'art_painting', 'target_domain': 'photo'}, batch_size=128, epochs=30, num_workers=5, grad_accum_steps=1)\n"
          ]
        },
        {
          "output_type": "stream",
          "name": "stderr",
          "text": [
            "100%|██████████| 16/16 [00:08<00:00,  1.80it/s]\n",
            "100%|██████████| 14/14 [00:07<00:00,  1.94it/s]\n"
          ]
        },
        {
          "output_type": "stream",
          "name": "stdout",
          "text": [
            "Accuracy: 60.78 - Loss: 0.011621434103229088 \n",
            "\n"
          ]
        },
        {
          "output_type": "stream",
          "name": "stderr",
          "text": [
            "100%|██████████| 16/16 [00:08<00:00,  1.93it/s]\n",
            "100%|██████████| 14/14 [00:05<00:00,  2.37it/s]\n"
          ]
        },
        {
          "output_type": "stream",
          "name": "stdout",
          "text": [
            "Accuracy: 79.70 - Loss: 0.006602727974246362 \n",
            "\n"
          ]
        },
        {
          "output_type": "stream",
          "name": "stderr",
          "text": [
            "100%|██████████| 16/16 [00:08<00:00,  1.95it/s]\n",
            "100%|██████████| 14/14 [00:05<00:00,  2.56it/s]\n"
          ]
        },
        {
          "output_type": "stream",
          "name": "stdout",
          "text": [
            "Accuracy: 87.78 - Loss: 0.004115622004349074 \n",
            "\n"
          ]
        },
        {
          "output_type": "stream",
          "name": "stderr",
          "text": [
            "100%|██████████| 16/16 [00:08<00:00,  1.86it/s]\n",
            "100%|██████████| 14/14 [00:05<00:00,  2.68it/s]\n"
          ]
        },
        {
          "output_type": "stream",
          "name": "stdout",
          "text": [
            "Accuracy: 89.46 - Loss: 0.003103937708332153 \n",
            "\n"
          ]
        },
        {
          "output_type": "stream",
          "name": "stderr",
          "text": [
            "100%|██████████| 16/16 [00:08<00:00,  1.80it/s]\n",
            "100%|██████████| 14/14 [00:05<00:00,  2.78it/s]\n"
          ]
        },
        {
          "output_type": "stream",
          "name": "stdout",
          "text": [
            "Accuracy: 91.14 - Loss: 0.002498859546320167 \n",
            "\n"
          ]
        },
        {
          "output_type": "stream",
          "name": "stderr",
          "text": [
            "100%|██████████| 16/16 [00:09<00:00,  1.77it/s]\n",
            "100%|██████████| 14/14 [00:04<00:00,  3.18it/s]\n"
          ]
        },
        {
          "output_type": "stream",
          "name": "stdout",
          "text": [
            "Accuracy: 92.34 - Loss: 0.0021864204438860543 \n",
            "\n"
          ]
        },
        {
          "output_type": "stream",
          "name": "stderr",
          "text": [
            "100%|██████████| 16/16 [00:09<00:00,  1.68it/s]\n",
            "100%|██████████| 14/14 [00:04<00:00,  3.23it/s]\n"
          ]
        },
        {
          "output_type": "stream",
          "name": "stdout",
          "text": [
            "Accuracy: 92.63 - Loss: 0.0019676325407749166 \n",
            "\n"
          ]
        },
        {
          "output_type": "stream",
          "name": "stderr",
          "text": [
            "100%|██████████| 16/16 [00:09<00:00,  1.62it/s]\n",
            "100%|██████████| 14/14 [00:04<00:00,  3.14it/s]\n"
          ]
        },
        {
          "output_type": "stream",
          "name": "stdout",
          "text": [
            "Accuracy: 93.29 - Loss: 0.0018024736513456185 \n",
            "\n"
          ]
        },
        {
          "output_type": "stream",
          "name": "stderr",
          "text": [
            "100%|██████████| 16/16 [00:09<00:00,  1.61it/s]\n",
            "100%|██████████| 14/14 [00:04<00:00,  3.18it/s]\n"
          ]
        },
        {
          "output_type": "stream",
          "name": "stdout",
          "text": [
            "Accuracy: 93.53 - Loss: 0.0017224279282514207 \n",
            "\n"
          ]
        },
        {
          "output_type": "stream",
          "name": "stderr",
          "text": [
            "100%|██████████| 16/16 [00:11<00:00,  1.34it/s]\n",
            "100%|██████████| 14/14 [00:05<00:00,  2.48it/s]\n"
          ]
        },
        {
          "output_type": "stream",
          "name": "stdout",
          "text": [
            "Accuracy: 94.13 - Loss: 0.0015763235618611296 \n",
            "\n"
          ]
        },
        {
          "output_type": "stream",
          "name": "stderr",
          "text": [
            "100%|██████████| 16/16 [00:08<00:00,  1.78it/s]\n",
            "100%|██████████| 14/14 [00:04<00:00,  3.05it/s]\n"
          ]
        },
        {
          "output_type": "stream",
          "name": "stdout",
          "text": [
            "Accuracy: 94.25 - Loss: 0.0015121126268616693 \n",
            "\n"
          ]
        },
        {
          "output_type": "stream",
          "name": "stderr",
          "text": [
            "100%|██████████| 16/16 [00:09<00:00,  1.68it/s]\n",
            "100%|██████████| 14/14 [00:04<00:00,  3.29it/s]\n"
          ]
        },
        {
          "output_type": "stream",
          "name": "stdout",
          "text": [
            "Accuracy: 94.37 - Loss: 0.0014609705545231254 \n",
            "\n"
          ]
        },
        {
          "output_type": "stream",
          "name": "stderr",
          "text": [
            "100%|██████████| 16/16 [00:09<00:00,  1.64it/s]\n",
            "100%|██████████| 14/14 [00:04<00:00,  3.23it/s]\n"
          ]
        },
        {
          "output_type": "stream",
          "name": "stdout",
          "text": [
            "Accuracy: 94.91 - Loss: 0.001310694635940526 \n",
            "\n"
          ]
        },
        {
          "output_type": "stream",
          "name": "stderr",
          "text": [
            "100%|██████████| 16/16 [00:10<00:00,  1.58it/s]\n",
            "100%|██████████| 14/14 [00:04<00:00,  3.23it/s]\n"
          ]
        },
        {
          "output_type": "stream",
          "name": "stdout",
          "text": [
            "Accuracy: 94.91 - Loss: 0.0013369421535980202 \n",
            "\n"
          ]
        },
        {
          "output_type": "stream",
          "name": "stderr",
          "text": [
            "100%|██████████| 16/16 [00:10<00:00,  1.59it/s]\n",
            "100%|██████████| 14/14 [00:04<00:00,  2.82it/s]\n"
          ]
        },
        {
          "output_type": "stream",
          "name": "stdout",
          "text": [
            "Accuracy: 94.91 - Loss: 0.001318425816779365 \n",
            "\n"
          ]
        },
        {
          "output_type": "stream",
          "name": "stderr",
          "text": [
            "100%|██████████| 16/16 [00:09<00:00,  1.60it/s]\n",
            "100%|██████████| 14/14 [00:04<00:00,  3.24it/s]\n"
          ]
        },
        {
          "output_type": "stream",
          "name": "stdout",
          "text": [
            "Accuracy: 95.21 - Loss: 0.0012494361474217769 \n",
            "\n"
          ]
        },
        {
          "output_type": "stream",
          "name": "stderr",
          "text": [
            "100%|██████████| 16/16 [00:10<00:00,  1.60it/s]\n",
            "100%|██████████| 14/14 [00:04<00:00,  3.27it/s]\n"
          ]
        },
        {
          "output_type": "stream",
          "name": "stdout",
          "text": [
            "Accuracy: 95.57 - Loss: 0.00118680751051553 \n",
            "\n"
          ]
        },
        {
          "output_type": "stream",
          "name": "stderr",
          "text": [
            "100%|██████████| 16/16 [00:09<00:00,  1.60it/s]\n",
            "100%|██████████| 14/14 [00:04<00:00,  3.30it/s]\n"
          ]
        },
        {
          "output_type": "stream",
          "name": "stdout",
          "text": [
            "Accuracy: 95.81 - Loss: 0.0011489182771992183 \n",
            "\n"
          ]
        },
        {
          "output_type": "stream",
          "name": "stderr",
          "text": [
            "100%|██████████| 16/16 [00:09<00:00,  1.61it/s]\n",
            "100%|██████████| 14/14 [00:04<00:00,  3.33it/s]\n"
          ]
        },
        {
          "output_type": "stream",
          "name": "stdout",
          "text": [
            "Accuracy: 95.39 - Loss: 0.001182487046535679 \n",
            "\n"
          ]
        },
        {
          "output_type": "stream",
          "name": "stderr",
          "text": [
            "100%|██████████| 16/16 [00:09<00:00,  1.61it/s]\n",
            "100%|██████████| 14/14 [00:04<00:00,  3.31it/s]\n"
          ]
        },
        {
          "output_type": "stream",
          "name": "stdout",
          "text": [
            "Accuracy: 95.51 - Loss: 0.0011254833263908317 \n",
            "\n"
          ]
        },
        {
          "output_type": "stream",
          "name": "stderr",
          "text": [
            "100%|██████████| 16/16 [00:09<00:00,  1.62it/s]\n",
            "100%|██████████| 14/14 [00:04<00:00,  3.32it/s]\n"
          ]
        },
        {
          "output_type": "stream",
          "name": "stdout",
          "text": [
            "Accuracy: 95.57 - Loss: 0.0011025515513238078 \n",
            "\n"
          ]
        },
        {
          "output_type": "stream",
          "name": "stderr",
          "text": [
            "100%|██████████| 16/16 [00:09<00:00,  1.62it/s]\n",
            "100%|██████████| 14/14 [00:04<00:00,  3.29it/s]\n"
          ]
        },
        {
          "output_type": "stream",
          "name": "stdout",
          "text": [
            "Accuracy: 95.75 - Loss: 0.0010921084656642225 \n",
            "\n"
          ]
        },
        {
          "output_type": "stream",
          "name": "stderr",
          "text": [
            "100%|██████████| 16/16 [00:09<00:00,  1.62it/s]\n",
            "100%|██████████| 14/14 [00:04<00:00,  3.30it/s]\n"
          ]
        },
        {
          "output_type": "stream",
          "name": "stdout",
          "text": [
            "Accuracy: 95.93 - Loss: 0.0010619072488949684 \n",
            "\n"
          ]
        },
        {
          "output_type": "stream",
          "name": "stderr",
          "text": [
            "100%|██████████| 16/16 [00:09<00:00,  1.61it/s]\n",
            "100%|██████████| 14/14 [00:04<00:00,  3.28it/s]\n"
          ]
        },
        {
          "output_type": "stream",
          "name": "stdout",
          "text": [
            "Accuracy: 95.69 - Loss: 0.0010802588330771396 \n",
            "\n"
          ]
        },
        {
          "output_type": "stream",
          "name": "stderr",
          "text": [
            "100%|██████████| 16/16 [00:09<00:00,  1.62it/s]\n",
            "100%|██████████| 14/14 [00:04<00:00,  3.32it/s]\n"
          ]
        },
        {
          "output_type": "stream",
          "name": "stdout",
          "text": [
            "Accuracy: 95.69 - Loss: 0.0010905503206133486 \n",
            "\n"
          ]
        },
        {
          "output_type": "stream",
          "name": "stderr",
          "text": [
            "100%|██████████| 16/16 [00:09<00:00,  1.64it/s]\n",
            "100%|██████████| 14/14 [00:04<00:00,  3.31it/s]\n"
          ]
        },
        {
          "output_type": "stream",
          "name": "stdout",
          "text": [
            "Accuracy: 95.75 - Loss: 0.0010760467594299844 \n",
            "\n"
          ]
        },
        {
          "output_type": "stream",
          "name": "stderr",
          "text": [
            "100%|██████████| 16/16 [00:09<00:00,  1.70it/s]\n",
            "100%|██████████| 14/14 [00:04<00:00,  3.17it/s]\n"
          ]
        },
        {
          "output_type": "stream",
          "name": "stdout",
          "text": [
            "Accuracy: 95.75 - Loss: 0.0010751342328410305 \n",
            "\n"
          ]
        },
        {
          "output_type": "stream",
          "name": "stderr",
          "text": [
            "100%|██████████| 16/16 [00:08<00:00,  1.81it/s]\n",
            "100%|██████████| 14/14 [00:05<00:00,  2.79it/s]\n"
          ]
        },
        {
          "output_type": "stream",
          "name": "stdout",
          "text": [
            "Accuracy: 95.81 - Loss: 0.001072167762426916 \n",
            "\n"
          ]
        },
        {
          "output_type": "stream",
          "name": "stderr",
          "text": [
            "100%|██████████| 16/16 [00:08<00:00,  1.88it/s]\n",
            "100%|██████████| 14/14 [00:05<00:00,  2.57it/s]\n"
          ]
        },
        {
          "output_type": "stream",
          "name": "stdout",
          "text": [
            "Accuracy: 95.81 - Loss: 0.0010833488375751558 \n",
            "\n"
          ]
        },
        {
          "output_type": "stream",
          "name": "stderr",
          "text": [
            "100%|██████████| 16/16 [00:08<00:00,  1.95it/s]\n",
            "100%|██████████| 14/14 [00:05<00:00,  2.39it/s]\n"
          ]
        },
        {
          "output_type": "stream",
          "name": "stdout",
          "text": [
            "Accuracy: 95.87 - Loss: 0.001069648593418791 \n",
            "\n"
          ]
        }
      ],
      "source": [
        "warnings.filterwarnings('ignore', category=UserWarning)\n",
        "\n",
        "# Parse arguments\n",
        "conf = { # Photo\n",
        "    'seed': 0,\n",
        "    'test_only': False,\n",
        "    'cpu': False,\n",
        "    'experiment': 'baseline',\n",
        "    'experiment_name': 'baseline/photo/',\n",
        "    'experiment_args': '{}',\n",
        "    'dataset_args': { 'text_root': 'data', 'images_root': 'data/kfold/PACS', 'source_domain': 'art_painting', 'target_domain': 'photo' },\n",
        "    'batch_size': 128,\n",
        "    'epochs': 30,\n",
        "    'num_workers': 5,\n",
        "    'grad_accum_steps': 1\n",
        "}\n",
        "\n",
        "#args = parse_arguments()\n",
        "args = argparse.Namespace(**conf)\n",
        "print(args)\n",
        "CONFIG.update(vars(args))\n",
        "\n",
        "# Setup output directory\n",
        "CONFIG.save_dir = os.path.join('record', CONFIG.experiment_name)\n",
        "os.makedirs(CONFIG.save_dir, exist_ok=True)\n",
        "\n",
        "# Setup logging\n",
        "logging.basicConfig(\n",
        "    filename=os.path.join(CONFIG.save_dir, 'log.txt'),\n",
        "    format='%(message)s',\n",
        "    level=logging.INFO,\n",
        "    filemode='a'\n",
        ")\n",
        "\n",
        "# Set experiment's device & deterministic behavior\n",
        "if CONFIG.cpu:\n",
        "    CONFIG.device = 'cpu'\n",
        "else:\n",
        "    CONFIG.device = 'cuda' if torch.cuda.is_available() else 'cpu'\n",
        "\n",
        "torch.manual_seed(CONFIG.seed)\n",
        "random.seed(CONFIG.seed)\n",
        "np.random.seed(CONFIG.seed)\n",
        "torch.backends.cudnn.benchmark = True\n",
        "torch.use_deterministic_algorithms(mode=True, warn_only=True)\n",
        "\n",
        "main()"
      ]
    },
    {
      "cell_type": "markdown",
      "metadata": {
        "id": "jLG77qbMvmv2"
      },
      "source": [
        "## 1 - Activation Shaping module"
      ]
    },
    {
      "cell_type": "markdown",
      "metadata": {
        "id": "ASds1POidReC"
      },
      "source": [
        "### ASH module after last convolutional layer"
      ]
    },
    {
      "cell_type": "markdown",
      "metadata": {
        "id": "vWdOhcHSdReC"
      },
      "source": [
        "Art painting &rightarrow; Cartoon"
      ]
    },
    {
      "cell_type": "code",
      "execution_count": 33,
      "metadata": {
        "id": "MIpaGpTBdReC",
        "colab": {
          "base_uri": "https://localhost:8080/"
        },
        "outputId": "03ffe7c9-5aeb-456e-8436-d55b0427c843"
      },
      "outputs": [
        {
          "output_type": "stream",
          "name": "stdout",
          "text": [
            "Namespace(seed=0, test_only=False, cpu=False, experiment='random', experiment_name='random/after_last_conv/cartoon/', experiment_args={'module_placement': ['layer4.1.conv2'], 'mask_out_ratio': 0.1}, dataset_args={'text_root': 'data', 'images_root': 'data/kfold/PACS', 'source_domain': 'art_painting', 'target_domain': 'cartoon'}, batch_size=128, epochs=30, num_workers=5, grad_accum_steps=1)\n",
            "mask_out_ratio:  0.1\n",
            "random_mask sum():  tensor(22611., device='cuda:0')\n",
            "Insert activation shaping layer after  layer4.1.conv2 Conv2d(512, 512, kernel_size=(3, 3), stride=(1, 1), padding=(1, 1), bias=False)\n"
          ]
        },
        {
          "output_type": "stream",
          "name": "stderr",
          "text": [
            "100%|██████████| 16/16 [00:11<00:00,  1.41it/s]\n",
            "100%|██████████| 19/19 [00:09<00:00,  1.96it/s]\n"
          ]
        },
        {
          "output_type": "stream",
          "name": "stdout",
          "text": [
            "Accuracy: 20.09 - Loss: 0.015888130451225176 \n",
            "\n"
          ]
        },
        {
          "output_type": "stream",
          "name": "stderr",
          "text": [
            "100%|██████████| 16/16 [00:08<00:00,  1.84it/s]\n",
            "100%|██████████| 19/19 [00:06<00:00,  2.90it/s]\n"
          ]
        },
        {
          "output_type": "stream",
          "name": "stdout",
          "text": [
            "Accuracy: 27.73 - Loss: 0.014836208151062194 \n",
            "\n"
          ]
        },
        {
          "output_type": "stream",
          "name": "stderr",
          "text": [
            "100%|██████████| 16/16 [00:08<00:00,  1.81it/s]\n",
            "100%|██████████| 19/19 [00:06<00:00,  3.05it/s]\n"
          ]
        },
        {
          "output_type": "stream",
          "name": "stdout",
          "text": [
            "Accuracy: 36.56 - Loss: 0.013723196938583062 \n",
            "\n"
          ]
        },
        {
          "output_type": "stream",
          "name": "stderr",
          "text": [
            "100%|██████████| 16/16 [00:10<00:00,  1.56it/s]\n",
            "100%|██████████| 19/19 [00:05<00:00,  3.26it/s]\n"
          ]
        },
        {
          "output_type": "stream",
          "name": "stdout",
          "text": [
            "Accuracy: 38.18 - Loss: 0.013406002429971923 \n",
            "\n"
          ]
        },
        {
          "output_type": "stream",
          "name": "stderr",
          "text": [
            "100%|██████████| 16/16 [00:09<00:00,  1.66it/s]\n",
            "100%|██████████| 19/19 [00:05<00:00,  3.32it/s]\n"
          ]
        },
        {
          "output_type": "stream",
          "name": "stdout",
          "text": [
            "Accuracy: 38.57 - Loss: 0.013076793313433286 \n",
            "\n"
          ]
        },
        {
          "output_type": "stream",
          "name": "stderr",
          "text": [
            "100%|██████████| 16/16 [00:09<00:00,  1.67it/s]\n",
            "100%|██████████| 19/19 [00:05<00:00,  3.36it/s]\n"
          ]
        },
        {
          "output_type": "stream",
          "name": "stdout",
          "text": [
            "Accuracy: 41.08 - Loss: 0.012700779446155951 \n",
            "\n"
          ]
        },
        {
          "output_type": "stream",
          "name": "stderr",
          "text": [
            "100%|██████████| 16/16 [00:09<00:00,  1.68it/s]\n",
            "100%|██████████| 19/19 [00:05<00:00,  3.34it/s]\n"
          ]
        },
        {
          "output_type": "stream",
          "name": "stdout",
          "text": [
            "Accuracy: 40.96 - Loss: 0.012510285646028485 \n",
            "\n"
          ]
        },
        {
          "output_type": "stream",
          "name": "stderr",
          "text": [
            "100%|██████████| 16/16 [00:11<00:00,  1.34it/s]\n",
            "100%|██████████| 19/19 [00:05<00:00,  3.34it/s]\n"
          ]
        },
        {
          "output_type": "stream",
          "name": "stdout",
          "text": [
            "Accuracy: 40.66 - Loss: 0.012452706694602966 \n",
            "\n"
          ]
        },
        {
          "output_type": "stream",
          "name": "stderr",
          "text": [
            "100%|██████████| 16/16 [00:09<00:00,  1.67it/s]\n",
            "100%|██████████| 19/19 [00:05<00:00,  3.29it/s]\n"
          ]
        },
        {
          "output_type": "stream",
          "name": "stdout",
          "text": [
            "Accuracy: 41.55 - Loss: 0.012239521121409159 \n",
            "\n"
          ]
        },
        {
          "output_type": "stream",
          "name": "stderr",
          "text": [
            "100%|██████████| 16/16 [00:09<00:00,  1.70it/s]\n",
            "100%|██████████| 19/19 [00:06<00:00,  3.09it/s]\n"
          ]
        },
        {
          "output_type": "stream",
          "name": "stdout",
          "text": [
            "Accuracy: 40.57 - Loss: 0.012312793284146046 \n",
            "\n"
          ]
        },
        {
          "output_type": "stream",
          "name": "stderr",
          "text": [
            "100%|██████████| 16/16 [00:08<00:00,  1.79it/s]\n",
            "100%|██████████| 19/19 [00:06<00:00,  2.90it/s]\n"
          ]
        },
        {
          "output_type": "stream",
          "name": "stdout",
          "text": [
            "Accuracy: 41.17 - Loss: 0.012048355141597395 \n",
            "\n"
          ]
        },
        {
          "output_type": "stream",
          "name": "stderr",
          "text": [
            "100%|██████████| 16/16 [00:08<00:00,  1.87it/s]\n",
            "100%|██████████| 19/19 [00:06<00:00,  2.76it/s]\n"
          ]
        },
        {
          "output_type": "stream",
          "name": "stdout",
          "text": [
            "Accuracy: 42.11 - Loss: 0.012067467838830915 \n",
            "\n"
          ]
        },
        {
          "output_type": "stream",
          "name": "stderr",
          "text": [
            "100%|██████████| 16/16 [00:08<00:00,  1.96it/s]\n",
            "100%|██████████| 19/19 [00:07<00:00,  2.68it/s]\n"
          ]
        },
        {
          "output_type": "stream",
          "name": "stdout",
          "text": [
            "Accuracy: 41.81 - Loss: 0.011921212712855875 \n",
            "\n"
          ]
        },
        {
          "output_type": "stream",
          "name": "stderr",
          "text": [
            "100%|██████████| 16/16 [00:07<00:00,  2.02it/s]\n",
            "100%|██████████| 19/19 [00:07<00:00,  2.58it/s]\n"
          ]
        },
        {
          "output_type": "stream",
          "name": "stdout",
          "text": [
            "Accuracy: 40.74 - Loss: 0.012045386148801029 \n",
            "\n"
          ]
        },
        {
          "output_type": "stream",
          "name": "stderr",
          "text": [
            "100%|██████████| 16/16 [00:07<00:00,  2.08it/s]\n",
            "100%|██████████| 19/19 [00:07<00:00,  2.57it/s]\n"
          ]
        },
        {
          "output_type": "stream",
          "name": "stdout",
          "text": [
            "Accuracy: 42.24 - Loss: 0.011919210184963083 \n",
            "\n"
          ]
        },
        {
          "output_type": "stream",
          "name": "stderr",
          "text": [
            "100%|██████████| 16/16 [00:07<00:00,  2.02it/s]\n",
            "100%|██████████| 19/19 [00:07<00:00,  2.56it/s]\n"
          ]
        },
        {
          "output_type": "stream",
          "name": "stdout",
          "text": [
            "Accuracy: 42.28 - Loss: 0.011810206359970692 \n",
            "\n"
          ]
        },
        {
          "output_type": "stream",
          "name": "stderr",
          "text": [
            "100%|██████████| 16/16 [00:07<00:00,  2.09it/s]\n",
            "100%|██████████| 19/19 [00:07<00:00,  2.56it/s]\n"
          ]
        },
        {
          "output_type": "stream",
          "name": "stdout",
          "text": [
            "Accuracy: 42.11 - Loss: 0.011856414428546567 \n",
            "\n"
          ]
        },
        {
          "output_type": "stream",
          "name": "stderr",
          "text": [
            "100%|██████████| 16/16 [00:07<00:00,  2.03it/s]\n",
            "100%|██████████| 19/19 [00:07<00:00,  2.59it/s]\n"
          ]
        },
        {
          "output_type": "stream",
          "name": "stdout",
          "text": [
            "Accuracy: 41.89 - Loss: 0.011800195881937958 \n",
            "\n"
          ]
        },
        {
          "output_type": "stream",
          "name": "stderr",
          "text": [
            "100%|██████████| 16/16 [00:07<00:00,  2.01it/s]\n",
            "100%|██████████| 19/19 [00:07<00:00,  2.67it/s]\n"
          ]
        },
        {
          "output_type": "stream",
          "name": "stdout",
          "text": [
            "Accuracy: 42.45 - Loss: 0.011668699644124548 \n",
            "\n"
          ]
        },
        {
          "output_type": "stream",
          "name": "stderr",
          "text": [
            "100%|██████████| 16/16 [00:08<00:00,  1.95it/s]\n",
            "100%|██████████| 19/19 [00:06<00:00,  2.78it/s]\n"
          ]
        },
        {
          "output_type": "stream",
          "name": "stdout",
          "text": [
            "Accuracy: 42.45 - Loss: 0.011727591296308277 \n",
            "\n"
          ]
        },
        {
          "output_type": "stream",
          "name": "stderr",
          "text": [
            "100%|██████████| 16/16 [00:08<00:00,  1.94it/s]\n",
            "100%|██████████| 19/19 [00:06<00:00,  2.77it/s]\n"
          ]
        },
        {
          "output_type": "stream",
          "name": "stdout",
          "text": [
            "Accuracy: 42.75 - Loss: 0.011638266196531648 \n",
            "\n"
          ]
        },
        {
          "output_type": "stream",
          "name": "stderr",
          "text": [
            "100%|██████████| 16/16 [00:08<00:00,  1.87it/s]\n",
            "100%|██████████| 19/19 [00:06<00:00,  2.91it/s]\n"
          ]
        },
        {
          "output_type": "stream",
          "name": "stdout",
          "text": [
            "Accuracy: 43.39 - Loss: 0.011586115005785288 \n",
            "\n"
          ]
        },
        {
          "output_type": "stream",
          "name": "stderr",
          "text": [
            "100%|██████████| 16/16 [00:08<00:00,  1.87it/s]\n",
            "100%|██████████| 19/19 [00:06<00:00,  3.03it/s]\n"
          ]
        },
        {
          "output_type": "stream",
          "name": "stdout",
          "text": [
            "Accuracy: 43.05 - Loss: 0.011654305986983785 \n",
            "\n"
          ]
        },
        {
          "output_type": "stream",
          "name": "stderr",
          "text": [
            "100%|██████████| 16/16 [00:08<00:00,  1.81it/s]\n",
            "100%|██████████| 19/19 [00:06<00:00,  3.02it/s]\n"
          ]
        },
        {
          "output_type": "stream",
          "name": "stdout",
          "text": [
            "Accuracy: 42.62 - Loss: 0.0116233145595614 \n",
            "\n"
          ]
        },
        {
          "output_type": "stream",
          "name": "stderr",
          "text": [
            "100%|██████████| 16/16 [00:11<00:00,  1.43it/s]\n",
            "100%|██████████| 19/19 [00:05<00:00,  3.32it/s]\n"
          ]
        },
        {
          "output_type": "stream",
          "name": "stdout",
          "text": [
            "Accuracy: 43.09 - Loss: 0.011568427632591423 \n",
            "\n"
          ]
        },
        {
          "output_type": "stream",
          "name": "stderr",
          "text": [
            "100%|██████████| 16/16 [00:09<00:00,  1.67it/s]\n",
            "100%|██████████| 19/19 [00:05<00:00,  3.41it/s]\n"
          ]
        },
        {
          "output_type": "stream",
          "name": "stdout",
          "text": [
            "Accuracy: 42.83 - Loss: 0.011626629521212073 \n",
            "\n"
          ]
        },
        {
          "output_type": "stream",
          "name": "stderr",
          "text": [
            "100%|██████████| 16/16 [00:09<00:00,  1.69it/s]\n",
            "100%|██████████| 19/19 [00:05<00:00,  3.37it/s]\n"
          ]
        },
        {
          "output_type": "stream",
          "name": "stdout",
          "text": [
            "Accuracy: 43.26 - Loss: 0.011564733505045595 \n",
            "\n"
          ]
        },
        {
          "output_type": "stream",
          "name": "stderr",
          "text": [
            "100%|██████████| 16/16 [00:09<00:00,  1.66it/s]\n",
            "100%|██████████| 19/19 [00:05<00:00,  3.37it/s]\n"
          ]
        },
        {
          "output_type": "stream",
          "name": "stdout",
          "text": [
            "Accuracy: 43.60 - Loss: 0.01158337647241537 \n",
            "\n"
          ]
        },
        {
          "output_type": "stream",
          "name": "stderr",
          "text": [
            "100%|██████████| 16/16 [00:09<00:00,  1.69it/s]\n",
            "100%|██████████| 19/19 [00:05<00:00,  3.38it/s]\n"
          ]
        },
        {
          "output_type": "stream",
          "name": "stdout",
          "text": [
            "Accuracy: 43.17 - Loss: 0.01156649456292696 \n",
            "\n"
          ]
        },
        {
          "output_type": "stream",
          "name": "stderr",
          "text": [
            "100%|██████████| 16/16 [00:09<00:00,  1.68it/s]\n",
            "100%|██████████| 19/19 [00:05<00:00,  3.35it/s]\n"
          ]
        },
        {
          "output_type": "stream",
          "name": "stdout",
          "text": [
            "Accuracy: 43.39 - Loss: 0.011544171936886302 \n",
            "\n"
          ]
        }
      ],
      "source": [
        "warnings.filterwarnings('ignore', category=UserWarning)\n",
        "\n",
        "# Parse arguments\n",
        "conf = { # Cartoon\n",
        "    'seed': 0,\n",
        "    'test_only': False,\n",
        "    'cpu': False,\n",
        "    'experiment': 'random',\n",
        "    'experiment_name': 'random/after_last_conv/cartoon/',\n",
        "    'experiment_args': {'module_placement': ['layer4.1.conv2'], 'mask_out_ratio': 0.1},\n",
        "    'dataset_args': {'text_root': 'data', 'images_root': 'data/kfold/PACS', 'source_domain': 'art_painting', 'target_domain': 'cartoon' },\n",
        "    'batch_size': 128,\n",
        "    'epochs': 30,\n",
        "    'num_workers': 5,\n",
        "    'grad_accum_steps': 1\n",
        "}\n",
        "\n",
        "args = argparse.Namespace(**conf)\n",
        "print(args)\n",
        "CONFIG.update(vars(args))\n",
        "\n",
        "# Setup output directory\n",
        "CONFIG.save_dir = os.path.join('record', CONFIG.experiment_name)\n",
        "os.makedirs(CONFIG.save_dir, exist_ok=True)\n",
        "\n",
        "# Setup logging\n",
        "logging.basicConfig(\n",
        "    filename=os.path.join(CONFIG.save_dir, 'log.txt'),\n",
        "    format='%(message)s',\n",
        "    level=logging.INFO,\n",
        "    filemode='a'\n",
        ")\n",
        "\n",
        "# Set experiment's device & deterministic behavior\n",
        "if CONFIG.cpu: CONFIG.device = 'cpu'\n",
        "else: CONFIG.device = 'cuda' if torch.cuda.is_available() else 'cpu'\n",
        "\n",
        "torch.manual_seed(CONFIG.seed)\n",
        "random.seed(CONFIG.seed)\n",
        "np.random.seed(CONFIG.seed)\n",
        "torch.backends.cudnn.benchmark = True\n",
        "torch.use_deterministic_algorithms(mode=True, warn_only=True)\n",
        "\n",
        "main()"
      ]
    },
    {
      "cell_type": "markdown",
      "metadata": {
        "id": "wLZCIj8RdReC"
      },
      "source": [
        "Art painting &rightarrow; Sketch"
      ]
    },
    {
      "cell_type": "code",
      "execution_count": 34,
      "metadata": {
        "id": "4OrWYB2LdReD",
        "colab": {
          "base_uri": "https://localhost:8080/"
        },
        "outputId": "dec67850-ae53-4c1e-d86f-57519c59c9f4"
      },
      "outputs": [
        {
          "output_type": "stream",
          "name": "stdout",
          "text": [
            "Namespace(seed=0, test_only=False, cpu=False, experiment='random', experiment_name='random/after_last_conv/sketch/', experiment_args={'module_placement': ['layer4.1.conv2'], 'mask_out_ratio': 0.1}, dataset_args={'text_root': 'data', 'images_root': 'data/kfold/PACS', 'source_domain': 'art_painting', 'target_domain': 'sketch'}, batch_size=128, epochs=30, num_workers=5, grad_accum_steps=1)\n",
            "mask_out_ratio:  0.1\n",
            "random_mask sum():  tensor(22611., device='cuda:0')\n",
            "Insert activation shaping layer after  layer4.1.conv2 Conv2d(512, 512, kernel_size=(3, 3), stride=(1, 1), padding=(1, 1), bias=False)\n"
          ]
        },
        {
          "output_type": "stream",
          "name": "stderr",
          "text": [
            "100%|██████████| 16/16 [00:10<00:00,  1.49it/s]\n",
            "100%|██████████| 31/31 [00:12<00:00,  2.48it/s]\n"
          ]
        },
        {
          "output_type": "stream",
          "name": "stdout",
          "text": [
            "Accuracy: 6.39 - Loss: 0.01705012803285229 \n",
            "\n"
          ]
        },
        {
          "output_type": "stream",
          "name": "stderr",
          "text": [
            "100%|██████████| 16/16 [00:08<00:00,  1.80it/s]\n",
            "100%|██████████| 31/31 [00:10<00:00,  2.86it/s]\n"
          ]
        },
        {
          "output_type": "stream",
          "name": "stdout",
          "text": [
            "Accuracy: 10.38 - Loss: 0.016050937158153027 \n",
            "\n"
          ]
        },
        {
          "output_type": "stream",
          "name": "stderr",
          "text": [
            "100%|██████████| 16/16 [00:09<00:00,  1.63it/s]\n",
            "100%|██████████| 31/31 [00:12<00:00,  2.51it/s]\n"
          ]
        },
        {
          "output_type": "stream",
          "name": "stdout",
          "text": [
            "Accuracy: 20.11 - Loss: 0.015470135937091442 \n",
            "\n"
          ]
        },
        {
          "output_type": "stream",
          "name": "stderr",
          "text": [
            "100%|██████████| 16/16 [00:08<00:00,  1.92it/s]\n",
            "100%|██████████| 31/31 [00:11<00:00,  2.69it/s]\n"
          ]
        },
        {
          "output_type": "stream",
          "name": "stdout",
          "text": [
            "Accuracy: 20.13 - Loss: 0.015464855593620411 \n",
            "\n"
          ]
        },
        {
          "output_type": "stream",
          "name": "stderr",
          "text": [
            "100%|██████████| 16/16 [00:09<00:00,  1.64it/s]\n",
            "100%|██████████| 31/31 [00:13<00:00,  2.33it/s]\n"
          ]
        },
        {
          "output_type": "stream",
          "name": "stdout",
          "text": [
            "Accuracy: 27.74 - Loss: 0.015019102599002472 \n",
            "\n"
          ]
        },
        {
          "output_type": "stream",
          "name": "stderr",
          "text": [
            "100%|██████████| 16/16 [00:07<00:00,  2.03it/s]\n",
            "100%|██████████| 31/31 [00:11<00:00,  2.66it/s]\n"
          ]
        },
        {
          "output_type": "stream",
          "name": "stdout",
          "text": [
            "Accuracy: 32.25 - Loss: 0.014961990699661266 \n",
            "\n"
          ]
        },
        {
          "output_type": "stream",
          "name": "stderr",
          "text": [
            "100%|██████████| 16/16 [00:09<00:00,  1.74it/s]\n",
            "100%|██████████| 31/31 [00:09<00:00,  3.14it/s]\n"
          ]
        },
        {
          "output_type": "stream",
          "name": "stdout",
          "text": [
            "Accuracy: 32.76 - Loss: 0.014925819463965304 \n",
            "\n"
          ]
        },
        {
          "output_type": "stream",
          "name": "stderr",
          "text": [
            "100%|██████████| 16/16 [00:09<00:00,  1.64it/s]\n",
            "100%|██████████| 31/31 [00:11<00:00,  2.67it/s]\n"
          ]
        },
        {
          "output_type": "stream",
          "name": "stdout",
          "text": [
            "Accuracy: 34.39 - Loss: 0.014781431315599978 \n",
            "\n"
          ]
        },
        {
          "output_type": "stream",
          "name": "stderr",
          "text": [
            "100%|██████████| 16/16 [00:07<00:00,  2.05it/s]\n",
            "100%|██████████| 31/31 [00:11<00:00,  2.67it/s]\n"
          ]
        },
        {
          "output_type": "stream",
          "name": "stdout",
          "text": [
            "Accuracy: 35.63 - Loss: 0.014619975940784931 \n",
            "\n"
          ]
        },
        {
          "output_type": "stream",
          "name": "stderr",
          "text": [
            "100%|██████████| 16/16 [00:09<00:00,  1.63it/s]\n",
            "100%|██████████| 31/31 [00:10<00:00,  2.99it/s]\n"
          ]
        },
        {
          "output_type": "stream",
          "name": "stdout",
          "text": [
            "Accuracy: 34.69 - Loss: 0.014608568804171225 \n",
            "\n"
          ]
        },
        {
          "output_type": "stream",
          "name": "stderr",
          "text": [
            "100%|██████████| 16/16 [00:09<00:00,  1.63it/s]\n",
            "100%|██████████| 31/31 [00:11<00:00,  2.58it/s]\n"
          ]
        },
        {
          "output_type": "stream",
          "name": "stdout",
          "text": [
            "Accuracy: 35.94 - Loss: 0.014523252878943968 \n",
            "\n"
          ]
        },
        {
          "output_type": "stream",
          "name": "stderr",
          "text": [
            "100%|██████████| 16/16 [00:07<00:00,  2.03it/s]\n",
            "100%|██████████| 31/31 [00:12<00:00,  2.58it/s]\n"
          ]
        },
        {
          "output_type": "stream",
          "name": "stdout",
          "text": [
            "Accuracy: 35.86 - Loss: 0.014434320260987508 \n",
            "\n"
          ]
        },
        {
          "output_type": "stream",
          "name": "stderr",
          "text": [
            "100%|██████████| 16/16 [00:09<00:00,  1.66it/s]\n",
            "100%|██████████| 31/31 [00:10<00:00,  2.84it/s]\n"
          ]
        },
        {
          "output_type": "stream",
          "name": "stdout",
          "text": [
            "Accuracy: 37.36 - Loss: 0.014384095072291164 \n",
            "\n"
          ]
        },
        {
          "output_type": "stream",
          "name": "stderr",
          "text": [
            "100%|██████████| 16/16 [00:08<00:00,  1.89it/s]\n",
            "100%|██████████| 31/31 [00:11<00:00,  2.69it/s]\n"
          ]
        },
        {
          "output_type": "stream",
          "name": "stdout",
          "text": [
            "Accuracy: 37.08 - Loss: 0.014355712156618603 \n",
            "\n"
          ]
        },
        {
          "output_type": "stream",
          "name": "stderr",
          "text": [
            "100%|██████████| 16/16 [00:08<00:00,  1.92it/s]\n",
            "100%|██████████| 31/31 [00:10<00:00,  2.83it/s]\n"
          ]
        },
        {
          "output_type": "stream",
          "name": "stdout",
          "text": [
            "Accuracy: 36.85 - Loss: 0.01431581409082488 \n",
            "\n"
          ]
        },
        {
          "output_type": "stream",
          "name": "stderr",
          "text": [
            "100%|██████████| 16/16 [00:09<00:00,  1.67it/s]\n",
            "100%|██████████| 31/31 [00:11<00:00,  2.71it/s]\n"
          ]
        },
        {
          "output_type": "stream",
          "name": "stdout",
          "text": [
            "Accuracy: 37.54 - Loss: 0.01426702347928011 \n",
            "\n"
          ]
        },
        {
          "output_type": "stream",
          "name": "stderr",
          "text": [
            "100%|██████████| 16/16 [00:07<00:00,  2.02it/s]\n",
            "100%|██████████| 31/31 [00:11<00:00,  2.71it/s]\n"
          ]
        },
        {
          "output_type": "stream",
          "name": "stdout",
          "text": [
            "Accuracy: 36.70 - Loss: 0.01438879663327111 \n",
            "\n"
          ]
        },
        {
          "output_type": "stream",
          "name": "stderr",
          "text": [
            "100%|██████████| 16/16 [00:09<00:00,  1.73it/s]\n",
            "100%|██████████| 31/31 [00:11<00:00,  2.65it/s]\n"
          ]
        },
        {
          "output_type": "stream",
          "name": "stdout",
          "text": [
            "Accuracy: 37.52 - Loss: 0.014214009903684224 \n",
            "\n"
          ]
        },
        {
          "output_type": "stream",
          "name": "stderr",
          "text": [
            "100%|██████████| 16/16 [00:09<00:00,  1.68it/s]\n",
            "100%|██████████| 31/31 [00:11<00:00,  2.67it/s]\n"
          ]
        },
        {
          "output_type": "stream",
          "name": "stdout",
          "text": [
            "Accuracy: 37.92 - Loss: 0.0142580788685912 \n",
            "\n"
          ]
        },
        {
          "output_type": "stream",
          "name": "stderr",
          "text": [
            "100%|██████████| 16/16 [00:07<00:00,  2.04it/s]\n",
            "100%|██████████| 31/31 [00:11<00:00,  2.70it/s]\n"
          ]
        },
        {
          "output_type": "stream",
          "name": "stdout",
          "text": [
            "Accuracy: 37.92 - Loss: 0.01418346659649902 \n",
            "\n"
          ]
        },
        {
          "output_type": "stream",
          "name": "stderr",
          "text": [
            "100%|██████████| 16/16 [00:09<00:00,  1.69it/s]\n",
            "100%|██████████| 31/31 [00:10<00:00,  2.91it/s]\n"
          ]
        },
        {
          "output_type": "stream",
          "name": "stdout",
          "text": [
            "Accuracy: 37.62 - Loss: 0.0142755845813358 \n",
            "\n"
          ]
        },
        {
          "output_type": "stream",
          "name": "stderr",
          "text": [
            "100%|██████████| 16/16 [00:08<00:00,  1.87it/s]\n",
            "100%|██████████| 31/31 [00:11<00:00,  2.67it/s]\n"
          ]
        },
        {
          "output_type": "stream",
          "name": "stdout",
          "text": [
            "Accuracy: 38.13 - Loss: 0.014234620033860298 \n",
            "\n"
          ]
        },
        {
          "output_type": "stream",
          "name": "stderr",
          "text": [
            "100%|██████████| 16/16 [00:08<00:00,  1.92it/s]\n",
            "100%|██████████| 31/31 [00:10<00:00,  2.87it/s]\n"
          ]
        },
        {
          "output_type": "stream",
          "name": "stdout",
          "text": [
            "Accuracy: 37.95 - Loss: 0.014123892231914766 \n",
            "\n"
          ]
        },
        {
          "output_type": "stream",
          "name": "stderr",
          "text": [
            "100%|██████████| 16/16 [00:09<00:00,  1.67it/s]\n",
            "100%|██████████| 31/31 [00:11<00:00,  2.69it/s]\n"
          ]
        },
        {
          "output_type": "stream",
          "name": "stdout",
          "text": [
            "Accuracy: 37.82 - Loss: 0.014302002743444057 \n",
            "\n"
          ]
        },
        {
          "output_type": "stream",
          "name": "stderr",
          "text": [
            "100%|██████████| 16/16 [00:07<00:00,  2.07it/s]\n",
            "100%|██████████| 31/31 [00:11<00:00,  2.69it/s]\n"
          ]
        },
        {
          "output_type": "stream",
          "name": "stdout",
          "text": [
            "Accuracy: 38.18 - Loss: 0.01419966212967086 \n",
            "\n"
          ]
        },
        {
          "output_type": "stream",
          "name": "stderr",
          "text": [
            "100%|██████████| 16/16 [00:09<00:00,  1.78it/s]\n",
            "100%|██████████| 31/31 [00:10<00:00,  3.06it/s]\n"
          ]
        },
        {
          "output_type": "stream",
          "name": "stdout",
          "text": [
            "Accuracy: 38.02 - Loss: 0.014186370764169476 \n",
            "\n"
          ]
        },
        {
          "output_type": "stream",
          "name": "stderr",
          "text": [
            "100%|██████████| 16/16 [00:09<00:00,  1.66it/s]\n",
            "100%|██████████| 31/31 [00:11<00:00,  2.63it/s]\n"
          ]
        },
        {
          "output_type": "stream",
          "name": "stdout",
          "text": [
            "Accuracy: 38.08 - Loss: 0.01418989449246417 \n",
            "\n"
          ]
        },
        {
          "output_type": "stream",
          "name": "stderr",
          "text": [
            "100%|██████████| 16/16 [00:07<00:00,  2.03it/s]\n",
            "100%|██████████| 31/31 [00:11<00:00,  2.67it/s]\n"
          ]
        },
        {
          "output_type": "stream",
          "name": "stdout",
          "text": [
            "Accuracy: 38.10 - Loss: 0.014110614155715705 \n",
            "\n"
          ]
        },
        {
          "output_type": "stream",
          "name": "stderr",
          "text": [
            "100%|██████████| 16/16 [00:09<00:00,  1.65it/s]\n",
            "100%|██████████| 31/31 [00:09<00:00,  3.14it/s]\n"
          ]
        },
        {
          "output_type": "stream",
          "name": "stdout",
          "text": [
            "Accuracy: 38.28 - Loss: 0.014116268844876347 \n",
            "\n"
          ]
        },
        {
          "output_type": "stream",
          "name": "stderr",
          "text": [
            "100%|██████████| 16/16 [00:09<00:00,  1.72it/s]\n",
            "100%|██████████| 31/31 [00:11<00:00,  2.66it/s]\n"
          ]
        },
        {
          "output_type": "stream",
          "name": "stdout",
          "text": [
            "Accuracy: 38.33 - Loss: 0.014158114187891594 \n",
            "\n"
          ]
        }
      ],
      "source": [
        "warnings.filterwarnings('ignore', category=UserWarning)\n",
        "\n",
        "# Parse arguments\n",
        "conf = { # Sketch\n",
        "    'seed': 0,\n",
        "    'test_only': False,\n",
        "    'cpu': False,\n",
        "    'experiment': 'random',\n",
        "    'experiment_name': 'random/after_last_conv/sketch/',\n",
        "    'experiment_args': {'module_placement': ['layer4.1.conv2'], 'mask_out_ratio': 0.1},\n",
        "    'dataset_args': {'text_root': 'data', 'images_root': 'data/kfold/PACS', 'source_domain': 'art_painting', 'target_domain': 'sketch' },\n",
        "    'batch_size': 128,\n",
        "    'epochs': 30,\n",
        "    'num_workers': 5,\n",
        "    'grad_accum_steps': 1\n",
        "}\n",
        "\n",
        "args = argparse.Namespace(**conf)\n",
        "print(args)\n",
        "CONFIG.update(vars(args))\n",
        "\n",
        "# Setup output directory\n",
        "CONFIG.save_dir = os.path.join('record', CONFIG.experiment_name)\n",
        "os.makedirs(CONFIG.save_dir, exist_ok=True)\n",
        "\n",
        "# Setup logging\n",
        "logging.basicConfig(\n",
        "    filename=os.path.join(CONFIG.save_dir, 'log.txt'),\n",
        "    format='%(message)s',\n",
        "    level=logging.INFO,\n",
        "    filemode='a'\n",
        ")\n",
        "\n",
        "# Set experiment's device & deterministic behavior\n",
        "if CONFIG.cpu: CONFIG.device = 'cpu'\n",
        "else: CONFIG.device = 'cuda' if torch.cuda.is_available() else 'cpu'\n",
        "\n",
        "torch.manual_seed(CONFIG.seed)\n",
        "random.seed(CONFIG.seed)\n",
        "np.random.seed(CONFIG.seed)\n",
        "torch.backends.cudnn.benchmark = True\n",
        "torch.use_deterministic_algorithms(mode=True, warn_only=True)\n",
        "\n",
        "main()"
      ]
    },
    {
      "cell_type": "markdown",
      "metadata": {
        "id": "e0rHeyv8dReD"
      },
      "source": [
        "Art painting &rightarrow; Photo"
      ]
    },
    {
      "cell_type": "code",
      "execution_count": 35,
      "metadata": {
        "id": "uzCytAG3dReD",
        "colab": {
          "base_uri": "https://localhost:8080/"
        },
        "outputId": "7c672505-0b9d-48ec-bf8e-d33b07b59212"
      },
      "outputs": [
        {
          "output_type": "stream",
          "name": "stdout",
          "text": [
            "Namespace(seed=0, test_only=False, cpu=False, experiment='random', experiment_name='random/after_last_conv/photo/', experiment_args={'module_placement': ['layer4.1.conv2'], 'mask_out_ratio': 0.1}, dataset_args={'text_root': 'data', 'images_root': 'data/kfold/PACS', 'source_domain': 'art_painting', 'target_domain': 'photo'}, batch_size=128, epochs=30, num_workers=5, grad_accum_steps=1)\n",
            "mask_out_ratio:  0.1\n",
            "random_mask sum():  tensor(22611., device='cuda:0')\n",
            "Insert activation shaping layer after  layer4.1.conv2 Conv2d(512, 512, kernel_size=(3, 3), stride=(1, 1), padding=(1, 1), bias=False)\n"
          ]
        },
        {
          "output_type": "stream",
          "name": "stderr",
          "text": [
            "100%|██████████| 16/16 [00:09<00:00,  1.74it/s]\n",
            "100%|██████████| 14/14 [00:05<00:00,  2.56it/s]\n"
          ]
        },
        {
          "output_type": "stream",
          "name": "stdout",
          "text": [
            "Accuracy: 33.29 - Loss: 0.014960164152933452 \n",
            "\n"
          ]
        },
        {
          "output_type": "stream",
          "name": "stderr",
          "text": [
            "100%|██████████| 16/16 [00:08<00:00,  1.78it/s]\n",
            "100%|██████████| 14/14 [00:04<00:00,  2.86it/s]\n"
          ]
        },
        {
          "output_type": "stream",
          "name": "stdout",
          "text": [
            "Accuracy: 47.78 - Loss: 0.012349079040710084 \n",
            "\n"
          ]
        },
        {
          "output_type": "stream",
          "name": "stderr",
          "text": [
            "100%|██████████| 16/16 [00:08<00:00,  1.81it/s]\n",
            "100%|██████████| 14/14 [00:04<00:00,  3.34it/s]\n"
          ]
        },
        {
          "output_type": "stream",
          "name": "stdout",
          "text": [
            "Accuracy: 66.59 - Loss: 0.01021748695544854 \n",
            "\n"
          ]
        },
        {
          "output_type": "stream",
          "name": "stderr",
          "text": [
            "100%|██████████| 16/16 [00:09<00:00,  1.70it/s]\n",
            "100%|██████████| 14/14 [00:04<00:00,  3.38it/s]\n"
          ]
        },
        {
          "output_type": "stream",
          "name": "stdout",
          "text": [
            "Accuracy: 73.59 - Loss: 0.008736252534889176 \n",
            "\n"
          ]
        },
        {
          "output_type": "stream",
          "name": "stderr",
          "text": [
            "100%|██████████| 16/16 [00:09<00:00,  1.64it/s]\n",
            "100%|██████████| 14/14 [00:04<00:00,  3.40it/s]\n"
          ]
        },
        {
          "output_type": "stream",
          "name": "stdout",
          "text": [
            "Accuracy: 78.80 - Loss: 0.007847452770450158 \n",
            "\n"
          ]
        },
        {
          "output_type": "stream",
          "name": "stderr",
          "text": [
            "100%|██████████| 16/16 [00:10<00:00,  1.53it/s]\n",
            "100%|██████████| 14/14 [00:04<00:00,  3.38it/s]\n"
          ]
        },
        {
          "output_type": "stream",
          "name": "stdout",
          "text": [
            "Accuracy: 82.34 - Loss: 0.007063398354067774 \n",
            "\n"
          ]
        },
        {
          "output_type": "stream",
          "name": "stderr",
          "text": [
            "100%|██████████| 16/16 [00:09<00:00,  1.64it/s]\n",
            "100%|██████████| 14/14 [00:04<00:00,  3.37it/s]\n"
          ]
        },
        {
          "output_type": "stream",
          "name": "stdout",
          "text": [
            "Accuracy: 84.43 - Loss: 0.006348287345406538 \n",
            "\n"
          ]
        },
        {
          "output_type": "stream",
          "name": "stderr",
          "text": [
            "100%|██████████| 16/16 [00:09<00:00,  1.66it/s]\n",
            "100%|██████████| 14/14 [00:04<00:00,  3.35it/s]\n"
          ]
        },
        {
          "output_type": "stream",
          "name": "stdout",
          "text": [
            "Accuracy: 85.21 - Loss: 0.005962581548862114 \n",
            "\n"
          ]
        },
        {
          "output_type": "stream",
          "name": "stderr",
          "text": [
            "100%|██████████| 16/16 [00:09<00:00,  1.66it/s]\n",
            "100%|██████████| 14/14 [00:04<00:00,  3.38it/s]\n"
          ]
        },
        {
          "output_type": "stream",
          "name": "stdout",
          "text": [
            "Accuracy: 86.17 - Loss: 0.005518919729187103 \n",
            "\n"
          ]
        },
        {
          "output_type": "stream",
          "name": "stderr",
          "text": [
            "100%|██████████| 16/16 [00:09<00:00,  1.64it/s]\n",
            "100%|██████████| 14/14 [00:04<00:00,  3.41it/s]\n"
          ]
        },
        {
          "output_type": "stream",
          "name": "stdout",
          "text": [
            "Accuracy: 87.01 - Loss: 0.0052479227502902825 \n",
            "\n"
          ]
        },
        {
          "output_type": "stream",
          "name": "stderr",
          "text": [
            "100%|██████████| 16/16 [00:09<00:00,  1.66it/s]\n",
            "100%|██████████| 14/14 [00:04<00:00,  3.45it/s]\n"
          ]
        },
        {
          "output_type": "stream",
          "name": "stdout",
          "text": [
            "Accuracy: 86.89 - Loss: 0.004889625899805994 \n",
            "\n"
          ]
        },
        {
          "output_type": "stream",
          "name": "stderr",
          "text": [
            "100%|██████████| 16/16 [00:08<00:00,  1.81it/s]\n",
            "100%|██████████| 14/14 [00:05<00:00,  2.65it/s]\n"
          ]
        },
        {
          "output_type": "stream",
          "name": "stdout",
          "text": [
            "Accuracy: 87.49 - Loss: 0.0047471985667051665 \n",
            "\n"
          ]
        },
        {
          "output_type": "stream",
          "name": "stderr",
          "text": [
            "100%|██████████| 16/16 [00:08<00:00,  1.85it/s]\n",
            "100%|██████████| 14/14 [00:04<00:00,  2.82it/s]\n"
          ]
        },
        {
          "output_type": "stream",
          "name": "stdout",
          "text": [
            "Accuracy: 88.08 - Loss: 0.004461420706646171 \n",
            "\n"
          ]
        },
        {
          "output_type": "stream",
          "name": "stderr",
          "text": [
            "100%|██████████| 16/16 [00:07<00:00,  2.03it/s]\n",
            "100%|██████████| 14/14 [00:05<00:00,  2.50it/s]\n"
          ]
        },
        {
          "output_type": "stream",
          "name": "stdout",
          "text": [
            "Accuracy: 88.56 - Loss: 0.00433885958380328 \n",
            "\n"
          ]
        },
        {
          "output_type": "stream",
          "name": "stderr",
          "text": [
            "100%|██████████| 16/16 [00:07<00:00,  2.04it/s]\n",
            "100%|██████████| 14/14 [00:06<00:00,  2.25it/s]\n"
          ]
        },
        {
          "output_type": "stream",
          "name": "stdout",
          "text": [
            "Accuracy: 89.10 - Loss: 0.0041517185950707535 \n",
            "\n"
          ]
        },
        {
          "output_type": "stream",
          "name": "stderr",
          "text": [
            "100%|██████████| 16/16 [00:07<00:00,  2.06it/s]\n",
            "100%|██████████| 14/14 [00:05<00:00,  2.36it/s]\n"
          ]
        },
        {
          "output_type": "stream",
          "name": "stdout",
          "text": [
            "Accuracy: 90.06 - Loss: 0.003976006100991529 \n",
            "\n"
          ]
        },
        {
          "output_type": "stream",
          "name": "stderr",
          "text": [
            "100%|██████████| 16/16 [00:09<00:00,  1.62it/s]\n",
            "100%|██████████| 14/14 [00:05<00:00,  2.34it/s]\n"
          ]
        },
        {
          "output_type": "stream",
          "name": "stdout",
          "text": [
            "Accuracy: 89.94 - Loss: 0.00381979780818174 \n",
            "\n"
          ]
        },
        {
          "output_type": "stream",
          "name": "stderr",
          "text": [
            "100%|██████████| 16/16 [00:07<00:00,  2.05it/s]\n",
            "100%|██████████| 14/14 [00:05<00:00,  2.37it/s]\n"
          ]
        },
        {
          "output_type": "stream",
          "name": "stdout",
          "text": [
            "Accuracy: 90.42 - Loss: 0.003705262156303771 \n",
            "\n"
          ]
        },
        {
          "output_type": "stream",
          "name": "stderr",
          "text": [
            "100%|██████████| 16/16 [00:07<00:00,  2.04it/s]\n",
            "100%|██████████| 14/14 [00:05<00:00,  2.46it/s]\n"
          ]
        },
        {
          "output_type": "stream",
          "name": "stdout",
          "text": [
            "Accuracy: 90.66 - Loss: 0.0035777118837762023 \n",
            "\n"
          ]
        },
        {
          "output_type": "stream",
          "name": "stderr",
          "text": [
            "100%|██████████| 16/16 [00:07<00:00,  2.00it/s]\n",
            "100%|██████████| 14/14 [00:05<00:00,  2.72it/s]\n"
          ]
        },
        {
          "output_type": "stream",
          "name": "stdout",
          "text": [
            "Accuracy: 90.90 - Loss: 0.0035301356615420588 \n",
            "\n"
          ]
        },
        {
          "output_type": "stream",
          "name": "stderr",
          "text": [
            "100%|██████████| 16/16 [00:08<00:00,  1.90it/s]\n",
            "100%|██████████| 14/14 [00:04<00:00,  3.07it/s]\n"
          ]
        },
        {
          "output_type": "stream",
          "name": "stdout",
          "text": [
            "Accuracy: 91.02 - Loss: 0.0033462845547470505 \n",
            "\n"
          ]
        },
        {
          "output_type": "stream",
          "name": "stderr",
          "text": [
            "100%|██████████| 16/16 [00:09<00:00,  1.75it/s]\n",
            "100%|██████████| 14/14 [00:04<00:00,  3.37it/s]\n"
          ]
        },
        {
          "output_type": "stream",
          "name": "stdout",
          "text": [
            "Accuracy: 91.20 - Loss: 0.003242468914228999 \n",
            "\n"
          ]
        },
        {
          "output_type": "stream",
          "name": "stderr",
          "text": [
            "100%|██████████| 16/16 [00:09<00:00,  1.69it/s]\n",
            "100%|██████████| 14/14 [00:04<00:00,  2.96it/s]\n"
          ]
        },
        {
          "output_type": "stream",
          "name": "stdout",
          "text": [
            "Accuracy: 91.02 - Loss: 0.0032392343004306635 \n",
            "\n"
          ]
        },
        {
          "output_type": "stream",
          "name": "stderr",
          "text": [
            "100%|██████████| 16/16 [00:12<00:00,  1.33it/s]\n",
            "100%|██████████| 14/14 [00:04<00:00,  2.83it/s]\n"
          ]
        },
        {
          "output_type": "stream",
          "name": "stdout",
          "text": [
            "Accuracy: 91.38 - Loss: 0.0030825354337335347 \n",
            "\n"
          ]
        },
        {
          "output_type": "stream",
          "name": "stderr",
          "text": [
            "100%|██████████| 16/16 [00:08<00:00,  1.83it/s]\n",
            "100%|██████████| 14/14 [00:04<00:00,  3.02it/s]\n"
          ]
        },
        {
          "output_type": "stream",
          "name": "stdout",
          "text": [
            "Accuracy: 91.20 - Loss: 0.0030896939872624633 \n",
            "\n"
          ]
        },
        {
          "output_type": "stream",
          "name": "stderr",
          "text": [
            "100%|██████████| 16/16 [00:09<00:00,  1.72it/s]\n",
            "100%|██████████| 14/14 [00:04<00:00,  3.36it/s]\n"
          ]
        },
        {
          "output_type": "stream",
          "name": "stdout",
          "text": [
            "Accuracy: 91.56 - Loss: 0.003089394045625618 \n",
            "\n"
          ]
        },
        {
          "output_type": "stream",
          "name": "stderr",
          "text": [
            "100%|██████████| 16/16 [00:09<00:00,  1.63it/s]\n",
            "100%|██████████| 14/14 [00:04<00:00,  3.00it/s]\n"
          ]
        },
        {
          "output_type": "stream",
          "name": "stdout",
          "text": [
            "Accuracy: 91.56 - Loss: 0.0030690375068587457 \n",
            "\n"
          ]
        },
        {
          "output_type": "stream",
          "name": "stderr",
          "text": [
            "100%|██████████| 16/16 [00:09<00:00,  1.65it/s]\n",
            "100%|██████████| 14/14 [00:04<00:00,  3.38it/s]\n"
          ]
        },
        {
          "output_type": "stream",
          "name": "stdout",
          "text": [
            "Accuracy: 91.32 - Loss: 0.003086106064255366 \n",
            "\n"
          ]
        },
        {
          "output_type": "stream",
          "name": "stderr",
          "text": [
            "100%|██████████| 16/16 [00:09<00:00,  1.64it/s]\n",
            "100%|██████████| 14/14 [00:04<00:00,  3.17it/s]\n"
          ]
        },
        {
          "output_type": "stream",
          "name": "stdout",
          "text": [
            "Accuracy: 91.50 - Loss: 0.003095713953771991 \n",
            "\n"
          ]
        },
        {
          "output_type": "stream",
          "name": "stderr",
          "text": [
            "100%|██████████| 16/16 [00:12<00:00,  1.32it/s]\n",
            "100%|██████████| 14/14 [00:04<00:00,  3.04it/s]\n"
          ]
        },
        {
          "output_type": "stream",
          "name": "stdout",
          "text": [
            "Accuracy: 91.50 - Loss: 0.0030852886374125223 \n",
            "\n"
          ]
        }
      ],
      "source": [
        "warnings.filterwarnings('ignore', category=UserWarning)\n",
        "\n",
        "# Parse arguments\n",
        "conf = { # Photo\n",
        "    'seed': 0,\n",
        "    'test_only': False,\n",
        "    'cpu': False,\n",
        "    'experiment': 'random',\n",
        "    'experiment_name': 'random/after_last_conv/photo/',\n",
        "    'experiment_args': {'module_placement': ['layer4.1.conv2'], 'mask_out_ratio': 0.1},\n",
        "    'dataset_args': {'text_root': 'data', 'images_root': 'data/kfold/PACS', 'source_domain': 'art_painting', 'target_domain': 'photo' },\n",
        "    'batch_size': 128,\n",
        "    'epochs': 30,\n",
        "    'num_workers': 5,\n",
        "    'grad_accum_steps': 1\n",
        "}\n",
        "\n",
        "args = argparse.Namespace(**conf)\n",
        "print(args)\n",
        "CONFIG.update(vars(args))\n",
        "\n",
        "# Setup output directory\n",
        "CONFIG.save_dir = os.path.join('record', CONFIG.experiment_name)\n",
        "os.makedirs(CONFIG.save_dir, exist_ok=True)\n",
        "\n",
        "# Setup logging\n",
        "logging.basicConfig(\n",
        "    filename=os.path.join(CONFIG.save_dir, 'log.txt'),\n",
        "    format='%(message)s',\n",
        "    level=logging.INFO,\n",
        "    filemode='a'\n",
        ")\n",
        "\n",
        "# Set experiment's device & deterministic behavior\n",
        "if CONFIG.cpu: CONFIG.device = 'cpu'\n",
        "else: CONFIG.device = 'cuda' if torch.cuda.is_available() else 'cpu'\n",
        "\n",
        "torch.manual_seed(CONFIG.seed)\n",
        "random.seed(CONFIG.seed)\n",
        "np.random.seed(CONFIG.seed)\n",
        "torch.backends.cudnn.benchmark = True\n",
        "torch.use_deterministic_algorithms(mode=True, warn_only=True)\n",
        "\n",
        "main()"
      ]
    },
    {
      "cell_type": "markdown",
      "metadata": {
        "id": "NpJ6Y5M-dReD"
      },
      "source": [
        "### ASH module after each convolutional layer"
      ]
    },
    {
      "cell_type": "markdown",
      "metadata": {
        "id": "i4BhP1jEOT-c"
      },
      "source": [
        "Art Painting &rightarrow; Cartoon"
      ]
    },
    {
      "cell_type": "code",
      "execution_count": 36,
      "metadata": {
        "id": "JYwC6ft6dReE",
        "colab": {
          "base_uri": "https://localhost:8080/"
        },
        "outputId": "18cc55f7-9bc0-4259-81cc-7db6025b75b8"
      },
      "outputs": [
        {
          "metadata": {
            "tags": null
          },
          "name": "stdout",
          "output_type": "stream",
          "text": [
            "Namespace(seed=0, test_only=False, cpu=False, experiment='random', experiment_name='random/after_each_conv/cartoon/', experiment_args={'module_placement': ['layer1.0.conv1', 'layer1.0.conv2', 'layer1.1.conv1', 'layer1.1.conv2', 'layer2.0.conv1', 'layer2.0.conv2', 'layer2.1.conv1', 'layer2.1.conv2', 'layer3.0.conv1', 'layer3.0.conv2', 'layer3.1.conv1', 'layer3.1.conv2', 'layer4.0.conv1', 'layer4.0.conv2', 'layer4.1.conv1', 'layer4.1.conv2'], 'mask_out_ratio': 0.1}, dataset_args={'text_root': 'data', 'images_root': 'data/kfold/PACS', 'source_domain': 'art_painting', 'target_domain': 'cartoon'}, batch_size=128, epochs=30, num_workers=5, grad_accum_steps=1)\n",
            "mask_out_ratio:  0.1\n",
            "random_mask sum():  tensor(180587., device='cuda:0')\n",
            "Insert activation shaping layer after  layer1.0.conv1 Conv2d(64, 64, kernel_size=(3, 3), stride=(1, 1), padding=(1, 1), bias=False)\n",
            "mask_out_ratio:  0.1\n",
            "random_mask sum():  tensor(180685., device='cuda:0')\n",
            "Insert activation shaping layer after  layer1.0.conv2 Conv2d(64, 64, kernel_size=(3, 3), stride=(1, 1), padding=(1, 1), bias=False)\n",
            "mask_out_ratio:  0.1\n",
            "random_mask sum():  tensor(180446., device='cuda:0')\n",
            "Insert activation shaping layer after  layer1.1.conv1 Conv2d(64, 64, kernel_size=(3, 3), stride=(1, 1), padding=(1, 1), bias=False)\n",
            "mask_out_ratio:  0.1\n",
            "random_mask sum():  tensor(180816., device='cuda:0')\n",
            "Insert activation shaping layer after  layer1.1.conv2 Conv2d(64, 64, kernel_size=(3, 3), stride=(1, 1), padding=(1, 1), bias=False)\n",
            "mask_out_ratio:  0.1\n",
            "random_mask sum():  tensor(90393., device='cuda:0')\n",
            "Insert activation shaping layer after  layer2.0.conv1 Conv2d(64, 128, kernel_size=(3, 3), stride=(2, 2), padding=(1, 1), bias=False)\n",
            "mask_out_ratio:  0.1\n",
            "random_mask sum():  tensor(90221., device='cuda:0')\n",
            "Insert activation shaping layer after  layer2.0.conv2 Conv2d(128, 128, kernel_size=(3, 3), stride=(1, 1), padding=(1, 1), bias=False)\n",
            "mask_out_ratio:  0.1\n",
            "random_mask sum():  tensor(90262., device='cuda:0')\n",
            "Insert activation shaping layer after  layer2.1.conv1 Conv2d(128, 128, kernel_size=(3, 3), stride=(1, 1), padding=(1, 1), bias=False)\n",
            "mask_out_ratio:  0.1\n",
            "random_mask sum():  tensor(90445., device='cuda:0')\n",
            "Insert activation shaping layer after  layer2.1.conv2 Conv2d(128, 128, kernel_size=(3, 3), stride=(1, 1), padding=(1, 1), bias=False)\n",
            "mask_out_ratio:  0.1\n",
            "random_mask sum():  tensor(45245., device='cuda:0')\n",
            "Insert activation shaping layer after  layer3.0.conv1 Conv2d(128, 256, kernel_size=(3, 3), stride=(2, 2), padding=(1, 1), bias=False)\n",
            "mask_out_ratio:  0.1\n",
            "random_mask sum():  tensor(45219., device='cuda:0')\n",
            "Insert activation shaping layer after  layer3.0.conv2 Conv2d(256, 256, kernel_size=(3, 3), stride=(1, 1), padding=(1, 1), bias=False)\n",
            "mask_out_ratio:  0.1\n",
            "random_mask sum():  tensor(45129., device='cuda:0')\n",
            "Insert activation shaping layer after  layer3.1.conv1 Conv2d(256, 256, kernel_size=(3, 3), stride=(1, 1), padding=(1, 1), bias=False)\n",
            "mask_out_ratio:  0.1\n",
            "random_mask sum():  tensor(45198., device='cuda:0')\n",
            "Insert activation shaping layer after  layer3.1.conv2 Conv2d(256, 256, kernel_size=(3, 3), stride=(1, 1), padding=(1, 1), bias=False)\n",
            "mask_out_ratio:  0.1\n",
            "random_mask sum():  tensor(22658., device='cuda:0')\n",
            "Insert activation shaping layer after  layer4.0.conv1 Conv2d(256, 512, kernel_size=(3, 3), stride=(2, 2), padding=(1, 1), bias=False)\n",
            "mask_out_ratio:  0.1\n",
            "random_mask sum():  tensor(22523., device='cuda:0')\n",
            "Insert activation shaping layer after  layer4.0.conv2 Conv2d(512, 512, kernel_size=(3, 3), stride=(1, 1), padding=(1, 1), bias=False)\n",
            "mask_out_ratio:  0.1\n",
            "random_mask sum():  tensor(22586., device='cuda:0')\n",
            "Insert activation shaping layer after  layer4.1.conv1 Conv2d(512, 512, kernel_size=(3, 3), stride=(1, 1), padding=(1, 1), bias=False)\n",
            "mask_out_ratio:  0.1\n",
            "random_mask sum():  tensor(22609., device='cuda:0')\n",
            "Insert activation shaping layer after  layer4.1.conv2 Conv2d(512, 512, kernel_size=(3, 3), stride=(1, 1), padding=(1, 1), bias=False)\n"
          ]
        },
        {
          "metadata": {
            "tags": null
          },
          "name": "stderr",
          "output_type": "stream",
          "text": [
            "100%|██████████| 16/16 [00:08<00:00,  1.95it/s]\n",
            "100%|██████████| 19/19 [00:08<00:00,  2.21it/s]\n"
          ]
        },
        {
          "metadata": {
            "tags": null
          },
          "name": "stdout",
          "output_type": "stream",
          "text": [
            "Accuracy: 15.87 - Loss: 0.015827962715471156 \n",
            "\n"
          ]
        },
        {
          "metadata": {
            "tags": null
          },
          "name": "stderr",
          "output_type": "stream",
          "text": [
            "100%|██████████| 16/16 [00:08<00:00,  1.86it/s]\n",
            "100%|██████████| 19/19 [00:07<00:00,  2.50it/s]\n"
          ]
        },
        {
          "metadata": {
            "tags": null
          },
          "name": "stdout",
          "output_type": "stream",
          "text": [
            "Accuracy: 16.60 - Loss: 0.016055094758398298 \n",
            "\n"
          ]
        },
        {
          "metadata": {
            "tags": null
          },
          "name": "stderr",
          "output_type": "stream",
          "text": [
            "100%|██████████| 16/16 [00:08<00:00,  1.83it/s]\n",
            "100%|██████████| 19/19 [00:06<00:00,  2.72it/s]\n"
          ]
        },
        {
          "metadata": {
            "tags": null
          },
          "name": "stdout",
          "output_type": "stream",
          "text": [
            "Accuracy: 17.75 - Loss: 0.015553018745708792 \n",
            "\n"
          ]
        },
        {
          "metadata": {
            "tags": null
          },
          "name": "stderr",
          "output_type": "stream",
          "text": [
            "100%|██████████| 16/16 [00:10<00:00,  1.54it/s]\n",
            "100%|██████████| 19/19 [00:06<00:00,  3.12it/s]\n"
          ]
        },
        {
          "metadata": {
            "tags": null
          },
          "name": "stdout",
          "output_type": "stream",
          "text": [
            "Accuracy: 18.00 - Loss: 0.01567898904300794 \n",
            "\n"
          ]
        },
        {
          "metadata": {
            "tags": null
          },
          "name": "stderr",
          "output_type": "stream",
          "text": [
            "100%|██████████| 16/16 [00:09<00:00,  1.62it/s]\n",
            "100%|██████████| 19/19 [00:06<00:00,  3.05it/s]\n"
          ]
        },
        {
          "metadata": {
            "tags": null
          },
          "name": "stdout",
          "output_type": "stream",
          "text": [
            "Accuracy: 17.79 - Loss: 0.01568203360961159 \n",
            "\n"
          ]
        },
        {
          "metadata": {
            "tags": null
          },
          "name": "stderr",
          "output_type": "stream",
          "text": [
            "100%|██████████| 16/16 [00:09<00:00,  1.63it/s]\n",
            "100%|██████████| 19/19 [00:05<00:00,  3.20it/s]\n"
          ]
        },
        {
          "metadata": {
            "tags": null
          },
          "name": "stdout",
          "output_type": "stream",
          "text": [
            "Accuracy: 18.56 - Loss: 0.015528744652409603 \n",
            "\n"
          ]
        },
        {
          "metadata": {
            "tags": null
          },
          "name": "stderr",
          "output_type": "stream",
          "text": [
            "100%|██████████| 16/16 [00:09<00:00,  1.64it/s]\n",
            "100%|██████████| 19/19 [00:06<00:00,  3.12it/s]\n"
          ]
        },
        {
          "metadata": {
            "tags": null
          },
          "name": "stdout",
          "output_type": "stream",
          "text": [
            "Accuracy: 17.70 - Loss: 0.015579666955072319 \n",
            "\n"
          ]
        },
        {
          "metadata": {
            "tags": null
          },
          "name": "stderr",
          "output_type": "stream",
          "text": [
            "100%|██████████| 16/16 [00:09<00:00,  1.63it/s]\n",
            "100%|██████████| 19/19 [00:06<00:00,  3.04it/s]\n"
          ]
        },
        {
          "metadata": {
            "tags": null
          },
          "name": "stdout",
          "output_type": "stream",
          "text": [
            "Accuracy: 18.26 - Loss: 0.0155665068903067 \n",
            "\n"
          ]
        },
        {
          "metadata": {
            "tags": null
          },
          "name": "stderr",
          "output_type": "stream",
          "text": [
            "100%|██████████| 16/16 [00:09<00:00,  1.66it/s]\n",
            "100%|██████████| 19/19 [00:07<00:00,  2.60it/s]\n"
          ]
        },
        {
          "metadata": {
            "tags": null
          },
          "name": "stdout",
          "output_type": "stream",
          "text": [
            "Accuracy: 18.30 - Loss: 0.015481786770625327 \n",
            "\n"
          ]
        },
        {
          "metadata": {
            "tags": null
          },
          "name": "stderr",
          "output_type": "stream",
          "text": [
            "100%|██████████| 16/16 [00:08<00:00,  1.80it/s]\n",
            "100%|██████████| 19/19 [00:07<00:00,  2.41it/s]\n"
          ]
        },
        {
          "metadata": {
            "tags": null
          },
          "name": "stdout",
          "output_type": "stream",
          "text": [
            "Accuracy: 18.81 - Loss: 0.01544652752095115 \n",
            "\n"
          ]
        },
        {
          "metadata": {
            "tags": null
          },
          "name": "stderr",
          "output_type": "stream",
          "text": [
            "100%|██████████| 16/16 [00:08<00:00,  1.94it/s]\n",
            "100%|██████████| 19/19 [00:08<00:00,  2.37it/s]\n"
          ]
        },
        {
          "metadata": {
            "tags": null
          },
          "name": "stdout",
          "output_type": "stream",
          "text": [
            "Accuracy: 18.05 - Loss: 0.015549748932542247 \n",
            "\n"
          ]
        },
        {
          "metadata": {
            "tags": null
          },
          "name": "stderr",
          "output_type": "stream",
          "text": [
            "100%|██████████| 16/16 [00:12<00:00,  1.30it/s]\n",
            "100%|██████████| 19/19 [00:06<00:00,  3.04it/s]\n"
          ]
        },
        {
          "metadata": {
            "tags": null
          },
          "name": "stdout",
          "output_type": "stream",
          "text": [
            "Accuracy: 18.81 - Loss: 0.015413661865650997 \n",
            "\n"
          ]
        },
        {
          "metadata": {
            "tags": null
          },
          "name": "stderr",
          "output_type": "stream",
          "text": [
            "100%|██████████| 16/16 [00:09<00:00,  1.62it/s]\n",
            "100%|██████████| 19/19 [00:07<00:00,  2.70it/s]\n"
          ]
        },
        {
          "metadata": {
            "tags": null
          },
          "name": "stdout",
          "output_type": "stream",
          "text": [
            "Accuracy: 20.14 - Loss: 0.01546790412668482 \n",
            "\n"
          ]
        },
        {
          "metadata": {
            "tags": null
          },
          "name": "stderr",
          "output_type": "stream",
          "text": [
            "100%|██████████| 16/16 [00:10<00:00,  1.46it/s]\n",
            "100%|██████████| 19/19 [00:06<00:00,  3.00it/s]\n"
          ]
        },
        {
          "metadata": {
            "tags": null
          },
          "name": "stdout",
          "output_type": "stream",
          "text": [
            "Accuracy: 18.56 - Loss: 0.015539707024756553 \n",
            "\n"
          ]
        },
        {
          "metadata": {
            "tags": null
          },
          "name": "stderr",
          "output_type": "stream",
          "text": [
            "100%|██████████| 16/16 [00:09<00:00,  1.68it/s]\n",
            "100%|██████████| 19/19 [00:07<00:00,  2.64it/s]\n"
          ]
        },
        {
          "metadata": {
            "tags": null
          },
          "name": "stdout",
          "output_type": "stream",
          "text": [
            "Accuracy: 21.33 - Loss: 0.015342240447477269 \n",
            "\n"
          ]
        },
        {
          "metadata": {
            "tags": null
          },
          "name": "stderr",
          "output_type": "stream",
          "text": [
            "100%|██████████| 16/16 [00:08<00:00,  1.82it/s]\n",
            "100%|██████████| 19/19 [00:07<00:00,  2.47it/s]\n"
          ]
        },
        {
          "metadata": {
            "tags": null
          },
          "name": "stdout",
          "output_type": "stream",
          "text": [
            "Accuracy: 21.16 - Loss: 0.01548980054391529 \n",
            "\n"
          ]
        },
        {
          "metadata": {
            "tags": null
          },
          "name": "stderr",
          "output_type": "stream",
          "text": [
            "100%|██████████| 16/16 [00:08<00:00,  1.99it/s]\n",
            "100%|██████████| 19/19 [00:08<00:00,  2.26it/s]\n"
          ]
        },
        {
          "metadata": {
            "tags": null
          },
          "name": "stdout",
          "output_type": "stream",
          "text": [
            "Accuracy: 19.71 - Loss: 0.015527127647562646 \n",
            "\n"
          ]
        },
        {
          "metadata": {
            "tags": null
          },
          "name": "stderr",
          "output_type": "stream",
          "text": [
            "100%|██████████| 16/16 [00:11<00:00,  1.44it/s]\n",
            "100%|██████████| 19/19 [00:08<00:00,  2.31it/s]\n"
          ]
        },
        {
          "metadata": {
            "tags": null
          },
          "name": "stdout",
          "output_type": "stream",
          "text": [
            "Accuracy: 19.33 - Loss: 0.015418335846259732 \n",
            "\n"
          ]
        },
        {
          "metadata": {
            "tags": null
          },
          "name": "stderr",
          "output_type": "stream",
          "text": [
            "100%|██████████| 16/16 [00:11<00:00,  1.36it/s]\n",
            "100%|██████████| 19/19 [00:06<00:00,  3.05it/s]\n"
          ]
        },
        {
          "metadata": {
            "tags": null
          },
          "name": "stdout",
          "output_type": "stream",
          "text": [
            "Accuracy: 19.84 - Loss: 0.015389256916762212 \n",
            "\n"
          ]
        },
        {
          "metadata": {
            "tags": null
          },
          "name": "stderr",
          "output_type": "stream",
          "text": [
            "100%|██████████| 16/16 [00:10<00:00,  1.59it/s]\n",
            "100%|██████████| 19/19 [00:06<00:00,  2.85it/s]\n"
          ]
        },
        {
          "metadata": {
            "tags": null
          },
          "name": "stdout",
          "output_type": "stream",
          "text": [
            "Accuracy: 21.08 - Loss: 0.015445120403791044 \n",
            "\n"
          ]
        },
        {
          "metadata": {
            "tags": null
          },
          "name": "stderr",
          "output_type": "stream",
          "text": [
            "100%|██████████| 16/16 [00:09<00:00,  1.72it/s]\n",
            "100%|██████████| 19/19 [00:07<00:00,  2.62it/s]\n"
          ]
        },
        {
          "metadata": {
            "tags": null
          },
          "name": "stdout",
          "output_type": "stream",
          "text": [
            "Accuracy: 19.62 - Loss: 0.015288768622248653 \n",
            "\n"
          ]
        },
        {
          "metadata": {
            "tags": null
          },
          "name": "stderr",
          "output_type": "stream",
          "text": [
            "100%|██████████| 16/16 [00:08<00:00,  1.88it/s]\n",
            "100%|██████████| 19/19 [00:07<00:00,  2.45it/s]\n"
          ]
        },
        {
          "metadata": {
            "tags": null
          },
          "name": "stdout",
          "output_type": "stream",
          "text": [
            "Accuracy: 21.93 - Loss: 0.015287809404496854 \n",
            "\n"
          ]
        },
        {
          "metadata": {
            "tags": null
          },
          "name": "stderr",
          "output_type": "stream",
          "text": [
            "100%|██████████| 16/16 [00:08<00:00,  1.96it/s]\n",
            "100%|██████████| 19/19 [00:08<00:00,  2.37it/s]\n"
          ]
        },
        {
          "metadata": {
            "tags": null
          },
          "name": "stdout",
          "output_type": "stream",
          "text": [
            "Accuracy: 21.20 - Loss: 0.01541704498867126 \n",
            "\n"
          ]
        },
        {
          "metadata": {
            "tags": null
          },
          "name": "stderr",
          "output_type": "stream",
          "text": [
            "100%|██████████| 16/16 [00:08<00:00,  1.93it/s]\n",
            "100%|██████████| 19/19 [00:08<00:00,  2.34it/s]\n"
          ]
        },
        {
          "metadata": {
            "tags": null
          },
          "name": "stdout",
          "output_type": "stream",
          "text": [
            "Accuracy: 20.82 - Loss: 0.015383318727740656 \n",
            "\n"
          ]
        },
        {
          "metadata": {
            "tags": null
          },
          "name": "stderr",
          "output_type": "stream",
          "text": [
            "100%|██████████| 16/16 [00:09<00:00,  1.77it/s]\n",
            "100%|██████████| 19/19 [00:07<00:00,  2.58it/s]\n"
          ]
        },
        {
          "metadata": {
            "tags": null
          },
          "name": "stdout",
          "output_type": "stream",
          "text": [
            "Accuracy: 20.44 - Loss: 0.015324617001790643 \n",
            "\n"
          ]
        },
        {
          "metadata": {
            "tags": null
          },
          "name": "stderr",
          "output_type": "stream",
          "text": [
            "100%|██████████| 16/16 [00:09<00:00,  1.61it/s]\n",
            "100%|██████████| 19/19 [00:06<00:00,  2.86it/s]\n"
          ]
        },
        {
          "metadata": {
            "tags": null
          },
          "name": "stdout",
          "output_type": "stream",
          "text": [
            "Accuracy: 20.95 - Loss: 0.015266933386236328 \n",
            "\n"
          ]
        },
        {
          "metadata": {
            "tags": null
          },
          "name": "stderr",
          "output_type": "stream",
          "text": [
            "100%|██████████| 16/16 [00:10<00:00,  1.57it/s]\n",
            "100%|██████████| 19/19 [00:07<00:00,  2.55it/s]\n"
          ]
        },
        {
          "metadata": {
            "tags": null
          },
          "name": "stdout",
          "output_type": "stream",
          "text": [
            "Accuracy: 20.48 - Loss: 0.015267611058498812 \n",
            "\n"
          ]
        },
        {
          "metadata": {
            "tags": null
          },
          "name": "stderr",
          "output_type": "stream",
          "text": [
            "100%|██████████| 16/16 [00:11<00:00,  1.40it/s]\n",
            "100%|██████████| 19/19 [00:08<00:00,  2.17it/s]\n"
          ]
        },
        {
          "metadata": {
            "tags": null
          },
          "name": "stdout",
          "output_type": "stream",
          "text": [
            "Accuracy: 21.08 - Loss: 0.015295659468442507 \n",
            "\n"
          ]
        },
        {
          "metadata": {
            "tags": null
          },
          "name": "stderr",
          "output_type": "stream",
          "text": [
            "100%|██████████| 16/16 [00:09<00:00,  1.62it/s]\n",
            "100%|██████████| 19/19 [00:08<00:00,  2.33it/s]\n"
          ]
        },
        {
          "metadata": {
            "tags": null
          },
          "name": "stdout",
          "output_type": "stream",
          "text": [
            "Accuracy: 22.44 - Loss: 0.015255310938219975 \n",
            "\n"
          ]
        },
        {
          "output_type": "stream",
          "name": "stderr",
          "text": [
            "100%|██████████| 16/16 [00:08<00:00,  1.94it/s]\n",
            "100%|██████████| 19/19 [00:07<00:00,  2.50it/s]\n"
          ]
        },
        {
          "output_type": "stream",
          "name": "stdout",
          "text": [
            "Accuracy: 21.08 - Loss: 0.01531952543266804 \n",
            "\n"
          ]
        }
      ],
      "source": [
        "warnings.filterwarnings('ignore', category=UserWarning)\n",
        "\n",
        "# Parse arguments\n",
        "conf = { # Cartoon\n",
        "    'seed': 0,\n",
        "    'test_only': False,\n",
        "    'cpu': False,\n",
        "    'experiment': 'random',\n",
        "    'experiment_name': 'random/after_each_conv/cartoon/',\n",
        "    'experiment_args': {'module_placement': ['layer1.0.conv1', 'layer1.0.conv2', 'layer1.1.conv1', 'layer1.1.conv2', 'layer2.0.conv1', 'layer2.0.conv2', 'layer2.1.conv1', 'layer2.1.conv2', 'layer3.0.conv1', 'layer3.0.conv2', 'layer3.1.conv1', 'layer3.1.conv2', 'layer4.0.conv1', 'layer4.0.conv2', 'layer4.1.conv1', 'layer4.1.conv2'], 'mask_out_ratio': 0.1},\n",
        "    'dataset_args': {'text_root': 'data', 'images_root': 'data/kfold/PACS', 'source_domain': 'art_painting', 'target_domain': 'cartoon' },\n",
        "    'batch_size': 128,\n",
        "    'epochs': 30,\n",
        "    'num_workers': 5,\n",
        "    'grad_accum_steps': 1\n",
        "}\n",
        "\n",
        "args = argparse.Namespace(**conf)\n",
        "print(args)\n",
        "CONFIG.update(vars(args))\n",
        "\n",
        "# Setup output directory\n",
        "CONFIG.save_dir = os.path.join('record', CONFIG.experiment_name)\n",
        "os.makedirs(CONFIG.save_dir, exist_ok=True)\n",
        "\n",
        "# Setup logging\n",
        "logging.basicConfig(\n",
        "    filename=os.path.join(CONFIG.save_dir, 'log.txt'),\n",
        "    format='%(message)s',\n",
        "    level=logging.INFO,\n",
        "    filemode='a'\n",
        ")\n",
        "\n",
        "# Set experiment's device & deterministic behavior\n",
        "if CONFIG.cpu: CONFIG.device = 'cpu'\n",
        "else: CONFIG.device = 'cuda' if torch.cuda.is_available() else 'cpu'\n",
        "\n",
        "torch.manual_seed(CONFIG.seed)\n",
        "random.seed(CONFIG.seed)\n",
        "np.random.seed(CONFIG.seed)\n",
        "torch.backends.cudnn.benchmark = True\n",
        "torch.use_deterministic_algorithms(mode=True, warn_only=True)\n",
        "\n",
        "main()"
      ]
    },
    {
      "cell_type": "markdown",
      "metadata": {
        "id": "oAbe3UM0dReE"
      },
      "source": [
        "### ASH module after every three convolutional layers\n"
      ]
    },
    {
      "cell_type": "markdown",
      "metadata": {
        "id": "A3Ou43e5OT-f"
      },
      "source": [
        "Art Painting &rightarrow; Cartoon"
      ]
    },
    {
      "cell_type": "code",
      "execution_count": null,
      "metadata": {
        "id": "NWsWVS3vdReF"
      },
      "outputs": [],
      "source": [
        "warnings.filterwarnings('ignore', category=UserWarning)\n",
        "\n",
        "# Parse arguments\n",
        "conf = { # Cartoon\n",
        "    'seed': 0,\n",
        "    'test_only': False,\n",
        "    'cpu': False,\n",
        "    'experiment': 'random',\n",
        "    'experiment_name': 'random/every_three_conv/cartoon/',\n",
        "    'experiment_args': {'module_placement': ['layer1.0.conv1', 'layer1.1.conv2', 'layer2.1.conv1', 'layer3.0.conv2', 'layer4.0.conv1', 'layer4.1.conv2'], 'mask_out_ratio': 0.1},\n",
        "    'dataset_args': {'text_root': 'data', 'images_root': 'data/kfold/PACS', 'source_domain': 'art_painting', 'target_domain': 'cartoon' },\n",
        "    'batch_size': 128,\n",
        "    'epochs': 30,\n",
        "    'num_workers': 5,\n",
        "    'grad_accum_steps': 1\n",
        "}\n",
        "\n",
        "args = argparse.Namespace(**conf)\n",
        "print(args)\n",
        "CONFIG.update(vars(args))\n",
        "\n",
        "# Setup output directory\n",
        "CONFIG.save_dir = os.path.join('record', CONFIG.experiment_name)\n",
        "os.makedirs(CONFIG.save_dir, exist_ok=True)\n",
        "\n",
        "# Setup logging\n",
        "logging.basicConfig(\n",
        "    filename=os.path.join(CONFIG.save_dir, 'log.txt'),\n",
        "    format='%(message)s',\n",
        "    level=logging.INFO,\n",
        "    filemode='a'\n",
        ")\n",
        "\n",
        "# Set experiment's device & deterministic behavior\n",
        "if CONFIG.cpu: CONFIG.device = 'cpu'\n",
        "else: CONFIG.device = 'cuda' if torch.cuda.is_available() else 'cpu'\n",
        "\n",
        "torch.manual_seed(CONFIG.seed)\n",
        "random.seed(CONFIG.seed)\n",
        "np.random.seed(CONFIG.seed)\n",
        "torch.backends.cudnn.benchmark = True\n",
        "torch.use_deterministic_algorithms(mode=True, warn_only=True)\n",
        "\n",
        "main()"
      ]
    },
    {
      "cell_type": "markdown",
      "metadata": {
        "id": "34WzO42cvmv3"
      },
      "source": [
        "## 2 - Random Activation Maps\n",
        "\n",
        "### Before running these cells: delete the corresponding last.pth file if present."
      ]
    },
    {
      "cell_type": "markdown",
      "metadata": {
        "id": "WV2IHfN5Qv52"
      },
      "source": [
        "### mask out ratio = 0.4, module_placement: layer4.1.conv2\n"
      ]
    },
    {
      "cell_type": "markdown",
      "metadata": {
        "id": "WODF1KAeQv52"
      },
      "source": [
        "Art Painting &rightarrow; Cartoon"
      ]
    },
    {
      "cell_type": "code",
      "execution_count": 12,
      "metadata": {
        "id": "v--HTBm2Qv53",
        "colab": {
          "base_uri": "https://localhost:8080/"
        },
        "outputId": "a6ff1ffa-7957-493a-c55a-76c3b0beb15f"
      },
      "outputs": [
        {
          "output_type": "stream",
          "name": "stdout",
          "text": [
            "Namespace(seed=0, test_only=False, cpu=False, experiment='random', experiment_name='random/case1/cartoon/', experiment_args={'module_placement': ['layer4.1.conv2'], 'mask_out_ratio': 0.4}, dataset_args={'text_root': 'data', 'images_root': 'data/kfold/PACS', 'source_domain': 'art_painting', 'target_domain': 'cartoon'}, batch_size=128, epochs=30, num_workers=5, grad_accum_steps=1)\n"
          ]
        },
        {
          "output_type": "stream",
          "name": "stderr",
          "text": [
            "Downloading: \"https://download.pytorch.org/models/resnet18-f37072fd.pth\" to /root/.cache/torch/hub/checkpoints/resnet18-f37072fd.pth\n",
            "100%|██████████| 44.7M/44.7M [00:00<00:00, 148MB/s]\n"
          ]
        },
        {
          "output_type": "stream",
          "name": "stdout",
          "text": [
            "mask_out_ratio:  0.4\n",
            "random_mask sum():  tensor(15133., device='cuda:0')\n",
            "Insert activation shaping layer after  layer4.1.conv2 Conv2d(512, 512, kernel_size=(3, 3), stride=(1, 1), padding=(1, 1), bias=False)\n"
          ]
        },
        {
          "output_type": "stream",
          "name": "stderr",
          "text": [
            "100%|██████████| 16/16 [00:12<00:00,  1.29it/s]\n",
            "100%|██████████| 19/19 [00:06<00:00,  2.78it/s]\n"
          ]
        },
        {
          "output_type": "stream",
          "name": "stdout",
          "text": [
            "Accuracy: 20.39 - Loss: 0.01595527889785506 \n",
            "\n"
          ]
        },
        {
          "output_type": "stream",
          "name": "stderr",
          "text": [
            "100%|██████████| 16/16 [00:08<00:00,  1.79it/s]\n",
            "100%|██████████| 19/19 [00:06<00:00,  3.02it/s]\n"
          ]
        },
        {
          "output_type": "stream",
          "name": "stdout",
          "text": [
            "Accuracy: 28.03 - Loss: 0.014951410045395939 \n",
            "\n"
          ]
        },
        {
          "output_type": "stream",
          "name": "stderr",
          "text": [
            "100%|██████████| 16/16 [00:08<00:00,  1.79it/s]\n",
            "100%|██████████| 19/19 [00:06<00:00,  2.91it/s]\n"
          ]
        },
        {
          "output_type": "stream",
          "name": "stdout",
          "text": [
            "Accuracy: 34.94 - Loss: 0.014082278509595696 \n",
            "\n"
          ]
        },
        {
          "output_type": "stream",
          "name": "stderr",
          "text": [
            "100%|██████████| 16/16 [00:08<00:00,  1.89it/s]\n",
            "100%|██████████| 19/19 [00:06<00:00,  2.92it/s]\n"
          ]
        },
        {
          "output_type": "stream",
          "name": "stdout",
          "text": [
            "Accuracy: 38.69 - Loss: 0.013669817266610701 \n",
            "\n"
          ]
        },
        {
          "output_type": "stream",
          "name": "stderr",
          "text": [
            "100%|██████████| 16/16 [00:08<00:00,  1.94it/s]\n",
            "100%|██████████| 19/19 [00:06<00:00,  2.82it/s]\n"
          ]
        },
        {
          "output_type": "stream",
          "name": "stdout",
          "text": [
            "Accuracy: 39.12 - Loss: 0.013295402807587243 \n",
            "\n"
          ]
        },
        {
          "output_type": "stream",
          "name": "stderr",
          "text": [
            "100%|██████████| 16/16 [00:08<00:00,  2.00it/s]\n",
            "100%|██████████| 19/19 [00:06<00:00,  2.78it/s]\n"
          ]
        },
        {
          "output_type": "stream",
          "name": "stdout",
          "text": [
            "Accuracy: 41.55 - Loss: 0.012966511294296577 \n",
            "\n"
          ]
        },
        {
          "output_type": "stream",
          "name": "stderr",
          "text": [
            "100%|██████████| 16/16 [00:08<00:00,  1.98it/s]\n",
            "100%|██████████| 19/19 [00:07<00:00,  2.67it/s]\n"
          ]
        },
        {
          "output_type": "stream",
          "name": "stdout",
          "text": [
            "Accuracy: 42.32 - Loss: 0.012699280938597669 \n",
            "\n"
          ]
        },
        {
          "output_type": "stream",
          "name": "stderr",
          "text": [
            "100%|██████████| 16/16 [00:07<00:00,  2.05it/s]\n",
            "100%|██████████| 19/19 [00:07<00:00,  2.58it/s]\n"
          ]
        },
        {
          "output_type": "stream",
          "name": "stdout",
          "text": [
            "Accuracy: 42.49 - Loss: 0.01256794327355082 \n",
            "\n"
          ]
        },
        {
          "output_type": "stream",
          "name": "stderr",
          "text": [
            "100%|██████████| 16/16 [00:07<00:00,  2.06it/s]\n",
            "100%|██████████| 19/19 [00:07<00:00,  2.56it/s]\n"
          ]
        },
        {
          "output_type": "stream",
          "name": "stdout",
          "text": [
            "Accuracy: 43.05 - Loss: 0.01238828765247462 \n",
            "\n"
          ]
        },
        {
          "output_type": "stream",
          "name": "stderr",
          "text": [
            "100%|██████████| 16/16 [00:07<00:00,  2.08it/s]\n",
            "100%|██████████| 19/19 [00:07<00:00,  2.53it/s]\n"
          ]
        },
        {
          "output_type": "stream",
          "name": "stdout",
          "text": [
            "Accuracy: 42.02 - Loss: 0.012378698729817778 \n",
            "\n"
          ]
        },
        {
          "output_type": "stream",
          "name": "stderr",
          "text": [
            "100%|██████████| 16/16 [00:07<00:00,  2.09it/s]\n",
            "100%|██████████| 19/19 [00:08<00:00,  2.12it/s]\n"
          ]
        },
        {
          "output_type": "stream",
          "name": "stdout",
          "text": [
            "Accuracy: 43.00 - Loss: 0.012120289047830341 \n",
            "\n"
          ]
        },
        {
          "output_type": "stream",
          "name": "stderr",
          "text": [
            "100%|██████████| 16/16 [00:07<00:00,  2.03it/s]\n",
            "100%|██████████| 19/19 [00:07<00:00,  2.54it/s]\n"
          ]
        },
        {
          "output_type": "stream",
          "name": "stdout",
          "text": [
            "Accuracy: 42.49 - Loss: 0.012180990682527067 \n",
            "\n"
          ]
        },
        {
          "output_type": "stream",
          "name": "stderr",
          "text": [
            "100%|██████████| 16/16 [00:07<00:00,  2.06it/s]\n",
            "100%|██████████| 19/19 [00:07<00:00,  2.56it/s]\n"
          ]
        },
        {
          "output_type": "stream",
          "name": "stdout",
          "text": [
            "Accuracy: 42.96 - Loss: 0.01194214937833389 \n",
            "\n"
          ]
        },
        {
          "output_type": "stream",
          "name": "stderr",
          "text": [
            "100%|██████████| 16/16 [00:07<00:00,  2.01it/s]\n",
            "100%|██████████| 19/19 [00:07<00:00,  2.71it/s]\n"
          ]
        },
        {
          "output_type": "stream",
          "name": "stdout",
          "text": [
            "Accuracy: 41.81 - Loss: 0.012052803163642363 \n",
            "\n"
          ]
        },
        {
          "output_type": "stream",
          "name": "stderr",
          "text": [
            "100%|██████████| 16/16 [00:08<00:00,  1.89it/s]\n",
            "100%|██████████| 19/19 [00:06<00:00,  2.86it/s]\n"
          ]
        },
        {
          "output_type": "stream",
          "name": "stdout",
          "text": [
            "Accuracy: 42.15 - Loss: 0.011993511850109686 \n",
            "\n"
          ]
        },
        {
          "output_type": "stream",
          "name": "stderr",
          "text": [
            "100%|██████████| 16/16 [00:08<00:00,  1.87it/s]\n",
            "100%|██████████| 19/19 [00:06<00:00,  2.95it/s]\n"
          ]
        },
        {
          "output_type": "stream",
          "name": "stdout",
          "text": [
            "Accuracy: 43.05 - Loss: 0.011819160533846441 \n",
            "\n"
          ]
        },
        {
          "output_type": "stream",
          "name": "stderr",
          "text": [
            "100%|██████████| 16/16 [00:08<00:00,  1.78it/s]\n",
            "100%|██████████| 19/19 [00:06<00:00,  3.16it/s]\n"
          ]
        },
        {
          "output_type": "stream",
          "name": "stdout",
          "text": [
            "Accuracy: 42.49 - Loss: 0.011843185375981771 \n",
            "\n"
          ]
        },
        {
          "output_type": "stream",
          "name": "stderr",
          "text": [
            "100%|██████████| 16/16 [00:09<00:00,  1.77it/s]\n",
            "100%|██████████| 19/19 [00:05<00:00,  3.29it/s]\n"
          ]
        },
        {
          "output_type": "stream",
          "name": "stdout",
          "text": [
            "Accuracy: 42.24 - Loss: 0.01180842625606589 \n",
            "\n"
          ]
        },
        {
          "output_type": "stream",
          "name": "stderr",
          "text": [
            "100%|██████████| 16/16 [00:09<00:00,  1.68it/s]\n",
            "100%|██████████| 19/19 [00:05<00:00,  3.43it/s]\n"
          ]
        },
        {
          "output_type": "stream",
          "name": "stdout",
          "text": [
            "Accuracy: 43.56 - Loss: 0.0116716021156962 \n",
            "\n"
          ]
        },
        {
          "output_type": "stream",
          "name": "stderr",
          "text": [
            "100%|██████████| 16/16 [00:09<00:00,  1.69it/s]\n",
            "100%|██████████| 19/19 [00:05<00:00,  3.33it/s]\n"
          ]
        },
        {
          "output_type": "stream",
          "name": "stdout",
          "text": [
            "Accuracy: 43.43 - Loss: 0.011663171643893466 \n",
            "\n"
          ]
        },
        {
          "output_type": "stream",
          "name": "stderr",
          "text": [
            "100%|██████████| 16/16 [00:09<00:00,  1.69it/s]\n",
            "100%|██████████| 19/19 [00:05<00:00,  3.40it/s]\n"
          ]
        },
        {
          "output_type": "stream",
          "name": "stdout",
          "text": [
            "Accuracy: 43.47 - Loss: 0.01161328484479071 \n",
            "\n"
          ]
        },
        {
          "output_type": "stream",
          "name": "stderr",
          "text": [
            "100%|██████████| 16/16 [00:09<00:00,  1.67it/s]\n",
            "100%|██████████| 19/19 [00:05<00:00,  3.37it/s]\n"
          ]
        },
        {
          "output_type": "stream",
          "name": "stdout",
          "text": [
            "Accuracy: 44.33 - Loss: 0.011552560731209178 \n",
            "\n"
          ]
        },
        {
          "output_type": "stream",
          "name": "stderr",
          "text": [
            "100%|██████████| 16/16 [00:09<00:00,  1.69it/s]\n",
            "100%|██████████| 19/19 [00:05<00:00,  3.40it/s]\n"
          ]
        },
        {
          "output_type": "stream",
          "name": "stdout",
          "text": [
            "Accuracy: 43.52 - Loss: 0.01159720585614748 \n",
            "\n"
          ]
        },
        {
          "output_type": "stream",
          "name": "stderr",
          "text": [
            "100%|██████████| 16/16 [00:09<00:00,  1.70it/s]\n",
            "100%|██████████| 19/19 [00:05<00:00,  3.34it/s]\n"
          ]
        },
        {
          "output_type": "stream",
          "name": "stdout",
          "text": [
            "Accuracy: 43.64 - Loss: 0.011593076123922758 \n",
            "\n"
          ]
        },
        {
          "output_type": "stream",
          "name": "stderr",
          "text": [
            "100%|██████████| 16/16 [00:09<00:00,  1.68it/s]\n",
            "100%|██████████| 19/19 [00:05<00:00,  3.37it/s]\n"
          ]
        },
        {
          "output_type": "stream",
          "name": "stdout",
          "text": [
            "Accuracy: 43.94 - Loss: 0.011538300472518283 \n",
            "\n"
          ]
        },
        {
          "output_type": "stream",
          "name": "stderr",
          "text": [
            "100%|██████████| 16/16 [00:09<00:00,  1.68it/s]\n",
            "100%|██████████| 19/19 [00:05<00:00,  3.32it/s]\n"
          ]
        },
        {
          "output_type": "stream",
          "name": "stdout",
          "text": [
            "Accuracy: 43.30 - Loss: 0.011590632765773214 \n",
            "\n"
          ]
        },
        {
          "output_type": "stream",
          "name": "stderr",
          "text": [
            "100%|██████████| 16/16 [00:09<00:00,  1.68it/s]\n",
            "100%|██████████| 19/19 [00:05<00:00,  3.40it/s]\n"
          ]
        },
        {
          "output_type": "stream",
          "name": "stdout",
          "text": [
            "Accuracy: 43.81 - Loss: 0.01152540392436265 \n",
            "\n"
          ]
        },
        {
          "output_type": "stream",
          "name": "stderr",
          "text": [
            "100%|██████████| 16/16 [00:09<00:00,  1.67it/s]\n",
            "100%|██████████| 19/19 [00:07<00:00,  2.47it/s]\n"
          ]
        },
        {
          "output_type": "stream",
          "name": "stdout",
          "text": [
            "Accuracy: 43.94 - Loss: 0.0115408024690257 \n",
            "\n"
          ]
        },
        {
          "output_type": "stream",
          "name": "stderr",
          "text": [
            "100%|██████████| 16/16 [00:09<00:00,  1.75it/s]\n",
            "100%|██████████| 19/19 [00:06<00:00,  2.98it/s]\n"
          ]
        },
        {
          "output_type": "stream",
          "name": "stdout",
          "text": [
            "Accuracy: 43.94 - Loss: 0.011529821813513395 \n",
            "\n"
          ]
        },
        {
          "output_type": "stream",
          "name": "stderr",
          "text": [
            "100%|██████████| 16/16 [00:08<00:00,  1.86it/s]\n",
            "100%|██████████| 19/19 [00:06<00:00,  2.92it/s]\n"
          ]
        },
        {
          "output_type": "stream",
          "name": "stdout",
          "text": [
            "Accuracy: 44.07 - Loss: 0.011507750956068267 \n",
            "\n"
          ]
        }
      ],
      "source": [
        "warnings.filterwarnings('ignore', category=UserWarning)\n",
        "\n",
        "# Parse arguments\n",
        "conf = { # Cartoon\n",
        "    'seed': 0,\n",
        "    'test_only': False,\n",
        "    'cpu': False,\n",
        "    'experiment': 'random',\n",
        "    'experiment_name': 'random/case1/cartoon/',\n",
        "    'experiment_args': {'module_placement': ['layer4.1.conv2'], 'mask_out_ratio': 0.4},\n",
        "    'dataset_args': {'text_root': 'data', 'images_root': 'data/kfold/PACS', 'source_domain': 'art_painting', 'target_domain': 'cartoon' },\n",
        "    'batch_size': 128,\n",
        "    'epochs': 30,\n",
        "    'num_workers': 5,\n",
        "    'grad_accum_steps': 1\n",
        "}\n",
        "\n",
        "args = argparse.Namespace(**conf)\n",
        "print(args)\n",
        "CONFIG.update(vars(args))\n",
        "\n",
        "# Setup output directory\n",
        "CONFIG.save_dir = os.path.join('record', CONFIG.experiment_name)\n",
        "os.makedirs(CONFIG.save_dir, exist_ok=True)\n",
        "\n",
        "# Setup logging\n",
        "logging.basicConfig(\n",
        "    filename=os.path.join(CONFIG.save_dir, 'log.txt'),\n",
        "    format='%(message)s',\n",
        "    level=logging.INFO,\n",
        "    filemode='a'\n",
        ")\n",
        "\n",
        "# Set experiment's device & deterministic behavior\n",
        "if CONFIG.cpu: CONFIG.device = 'cpu'\n",
        "else: CONFIG.device = 'cuda' if torch.cuda.is_available() else 'cpu'\n",
        "\n",
        "torch.manual_seed(CONFIG.seed)\n",
        "random.seed(CONFIG.seed)\n",
        "np.random.seed(CONFIG.seed)\n",
        "torch.backends.cudnn.benchmark = True\n",
        "torch.use_deterministic_algorithms(mode=True, warn_only=True)\n",
        "\n",
        "main()"
      ]
    },
    {
      "cell_type": "markdown",
      "metadata": {
        "id": "GlnrMrOIQv53"
      },
      "source": [
        "Art Painting &rightarrow; Sketch"
      ]
    },
    {
      "cell_type": "code",
      "execution_count": 13,
      "metadata": {
        "id": "mQH5y12CQv54",
        "colab": {
          "base_uri": "https://localhost:8080/"
        },
        "outputId": "9020f6e4-5b28-43e4-c236-c59f2ffccf48"
      },
      "outputs": [
        {
          "output_type": "stream",
          "name": "stdout",
          "text": [
            "Namespace(seed=0, test_only=False, cpu=False, experiment='random', experiment_name='random/case1/sketch/', experiment_args={'module_placement': ['layer4.1.conv2'], 'mask_out_ratio': 0.4}, dataset_args={'text_root': 'data', 'images_root': 'data/kfold/PACS', 'source_domain': 'art_painting', 'target_domain': 'sketch'}, batch_size=128, epochs=30, num_workers=5, grad_accum_steps=1)\n",
            "mask_out_ratio:  0.4\n",
            "random_mask sum():  tensor(15133., device='cuda:0')\n",
            "Insert activation shaping layer after  layer4.1.conv2 Conv2d(512, 512, kernel_size=(3, 3), stride=(1, 1), padding=(1, 1), bias=False)\n"
          ]
        },
        {
          "output_type": "stream",
          "name": "stderr",
          "text": [
            "100%|██████████| 16/16 [00:10<00:00,  1.49it/s]\n",
            "100%|██████████| 31/31 [00:12<00:00,  2.44it/s]\n"
          ]
        },
        {
          "output_type": "stream",
          "name": "stdout",
          "text": [
            "Accuracy: 4.53 - Loss: 0.017140563282538202 \n",
            "\n"
          ]
        },
        {
          "output_type": "stream",
          "name": "stderr",
          "text": [
            "100%|██████████| 16/16 [00:09<00:00,  1.65it/s]\n",
            "100%|██████████| 31/31 [00:10<00:00,  2.95it/s]\n"
          ]
        },
        {
          "output_type": "stream",
          "name": "stdout",
          "text": [
            "Accuracy: 8.55 - Loss: 0.016083356926962448 \n",
            "\n"
          ]
        },
        {
          "output_type": "stream",
          "name": "stderr",
          "text": [
            "100%|██████████| 16/16 [00:08<00:00,  1.82it/s]\n",
            "100%|██████████| 31/31 [00:11<00:00,  2.72it/s]\n"
          ]
        },
        {
          "output_type": "stream",
          "name": "stdout",
          "text": [
            "Accuracy: 16.24 - Loss: 0.015623674285900323 \n",
            "\n"
          ]
        },
        {
          "output_type": "stream",
          "name": "stderr",
          "text": [
            "100%|██████████| 16/16 [00:09<00:00,  1.70it/s]\n",
            "100%|██████████| 31/31 [00:10<00:00,  2.96it/s]\n"
          ]
        },
        {
          "output_type": "stream",
          "name": "stdout",
          "text": [
            "Accuracy: 16.19 - Loss: 0.01546807864386485 \n",
            "\n"
          ]
        },
        {
          "output_type": "stream",
          "name": "stderr",
          "text": [
            "100%|██████████| 16/16 [00:09<00:00,  1.69it/s]\n",
            "100%|██████████| 31/31 [00:11<00:00,  2.75it/s]\n"
          ]
        },
        {
          "output_type": "stream",
          "name": "stdout",
          "text": [
            "Accuracy: 25.71 - Loss: 0.01502719056548645 \n",
            "\n"
          ]
        },
        {
          "output_type": "stream",
          "name": "stderr",
          "text": [
            "100%|██████████| 16/16 [00:07<00:00,  2.09it/s]\n",
            "100%|██████████| 31/31 [00:11<00:00,  2.72it/s]\n"
          ]
        },
        {
          "output_type": "stream",
          "name": "stdout",
          "text": [
            "Accuracy: 29.91 - Loss: 0.014994216347565995 \n",
            "\n"
          ]
        },
        {
          "output_type": "stream",
          "name": "stderr",
          "text": [
            "100%|██████████| 16/16 [00:08<00:00,  1.81it/s]\n",
            "100%|██████████| 31/31 [00:10<00:00,  3.02it/s]\n"
          ]
        },
        {
          "output_type": "stream",
          "name": "stdout",
          "text": [
            "Accuracy: 31.03 - Loss: 0.014816412521579787 \n",
            "\n"
          ]
        },
        {
          "output_type": "stream",
          "name": "stderr",
          "text": [
            "100%|██████████| 16/16 [00:09<00:00,  1.70it/s]\n",
            "100%|██████████| 31/31 [00:11<00:00,  2.71it/s]\n"
          ]
        },
        {
          "output_type": "stream",
          "name": "stdout",
          "text": [
            "Accuracy: 34.82 - Loss: 0.014706369998589154 \n",
            "\n"
          ]
        },
        {
          "output_type": "stream",
          "name": "stderr",
          "text": [
            "100%|██████████| 16/16 [00:07<00:00,  2.02it/s]\n",
            "100%|██████████| 31/31 [00:11<00:00,  2.70it/s]\n"
          ]
        },
        {
          "output_type": "stream",
          "name": "stdout",
          "text": [
            "Accuracy: 35.25 - Loss: 0.014547404153075767 \n",
            "\n"
          ]
        },
        {
          "output_type": "stream",
          "name": "stderr",
          "text": [
            "100%|██████████| 16/16 [00:09<00:00,  1.70it/s]\n",
            "100%|██████████| 31/31 [00:09<00:00,  3.17it/s]\n"
          ]
        },
        {
          "output_type": "stream",
          "name": "stdout",
          "text": [
            "Accuracy: 35.10 - Loss: 0.014462918354130544 \n",
            "\n"
          ]
        },
        {
          "output_type": "stream",
          "name": "stderr",
          "text": [
            "100%|██████████| 16/16 [00:09<00:00,  1.66it/s]\n",
            "100%|██████████| 31/31 [00:11<00:00,  2.65it/s]\n"
          ]
        },
        {
          "output_type": "stream",
          "name": "stdout",
          "text": [
            "Accuracy: 37.19 - Loss: 0.014375752485201966 \n",
            "\n"
          ]
        },
        {
          "output_type": "stream",
          "name": "stderr",
          "text": [
            "100%|██████████| 16/16 [00:07<00:00,  2.02it/s]\n",
            "100%|██████████| 31/31 [00:11<00:00,  2.70it/s]\n"
          ]
        },
        {
          "output_type": "stream",
          "name": "stdout",
          "text": [
            "Accuracy: 36.17 - Loss: 0.01428440060740544 \n",
            "\n"
          ]
        },
        {
          "output_type": "stream",
          "name": "stderr",
          "text": [
            "100%|██████████| 16/16 [00:09<00:00,  1.66it/s]\n",
            "100%|██████████| 31/31 [00:11<00:00,  2.59it/s]\n"
          ]
        },
        {
          "output_type": "stream",
          "name": "stdout",
          "text": [
            "Accuracy: 38.58 - Loss: 0.014244534156801257 \n",
            "\n"
          ]
        },
        {
          "output_type": "stream",
          "name": "stderr",
          "text": [
            "100%|██████████| 16/16 [00:09<00:00,  1.75it/s]\n",
            "100%|██████████| 31/31 [00:11<00:00,  2.72it/s]\n"
          ]
        },
        {
          "output_type": "stream",
          "name": "stdout",
          "text": [
            "Accuracy: 37.52 - Loss: 0.014160169903392797 \n",
            "\n"
          ]
        },
        {
          "output_type": "stream",
          "name": "stderr",
          "text": [
            "100%|██████████| 16/16 [00:07<00:00,  2.01it/s]\n",
            "100%|██████████| 31/31 [00:11<00:00,  2.78it/s]\n"
          ]
        },
        {
          "output_type": "stream",
          "name": "stdout",
          "text": [
            "Accuracy: 37.13 - Loss: 0.014150735833742564 \n",
            "\n"
          ]
        },
        {
          "output_type": "stream",
          "name": "stderr",
          "text": [
            "100%|██████████| 16/16 [00:09<00:00,  1.67it/s]\n",
            "100%|██████████| 31/31 [00:10<00:00,  2.82it/s]\n"
          ]
        },
        {
          "output_type": "stream",
          "name": "stdout",
          "text": [
            "Accuracy: 39.04 - Loss: 0.014058446847746226 \n",
            "\n"
          ]
        },
        {
          "output_type": "stream",
          "name": "stderr",
          "text": [
            "100%|██████████| 16/16 [00:08<00:00,  1.96it/s]\n",
            "100%|██████████| 31/31 [00:11<00:00,  2.70it/s]\n"
          ]
        },
        {
          "output_type": "stream",
          "name": "stdout",
          "text": [
            "Accuracy: 37.62 - Loss: 0.01416106162164678 \n",
            "\n"
          ]
        },
        {
          "output_type": "stream",
          "name": "stderr",
          "text": [
            "100%|██████████| 16/16 [00:08<00:00,  1.86it/s]\n",
            "100%|██████████| 31/31 [00:10<00:00,  3.00it/s]\n"
          ]
        },
        {
          "output_type": "stream",
          "name": "stdout",
          "text": [
            "Accuracy: 38.66 - Loss: 0.014024302382358737 \n",
            "\n"
          ]
        },
        {
          "output_type": "stream",
          "name": "stderr",
          "text": [
            "100%|██████████| 16/16 [00:09<00:00,  1.67it/s]\n",
            "100%|██████████| 31/31 [00:11<00:00,  2.69it/s]\n"
          ]
        },
        {
          "output_type": "stream",
          "name": "stdout",
          "text": [
            "Accuracy: 39.40 - Loss: 0.014033332250900444 \n",
            "\n"
          ]
        },
        {
          "output_type": "stream",
          "name": "stderr",
          "text": [
            "100%|██████████| 16/16 [00:07<00:00,  2.03it/s]\n",
            "100%|██████████| 31/31 [00:11<00:00,  2.69it/s]\n"
          ]
        },
        {
          "output_type": "stream",
          "name": "stdout",
          "text": [
            "Accuracy: 39.32 - Loss: 0.013977414325588864 \n",
            "\n"
          ]
        },
        {
          "output_type": "stream",
          "name": "stderr",
          "text": [
            "100%|██████████| 16/16 [00:09<00:00,  1.74it/s]\n",
            "100%|██████████| 31/31 [00:09<00:00,  3.16it/s]\n"
          ]
        },
        {
          "output_type": "stream",
          "name": "stdout",
          "text": [
            "Accuracy: 39.14 - Loss: 0.014037628821909169 \n",
            "\n"
          ]
        },
        {
          "output_type": "stream",
          "name": "stderr",
          "text": [
            "100%|██████████| 16/16 [00:09<00:00,  1.66it/s]\n",
            "100%|██████████| 31/31 [00:11<00:00,  2.66it/s]\n"
          ]
        },
        {
          "output_type": "stream",
          "name": "stdout",
          "text": [
            "Accuracy: 39.25 - Loss: 0.013987543504636808 \n",
            "\n"
          ]
        },
        {
          "output_type": "stream",
          "name": "stderr",
          "text": [
            "100%|██████████| 16/16 [00:07<00:00,  2.09it/s]\n",
            "100%|██████████| 31/31 [00:11<00:00,  2.71it/s]\n"
          ]
        },
        {
          "output_type": "stream",
          "name": "stdout",
          "text": [
            "Accuracy: 39.07 - Loss: 0.013909629053303715 \n",
            "\n"
          ]
        },
        {
          "output_type": "stream",
          "name": "stderr",
          "text": [
            "100%|██████████| 16/16 [00:09<00:00,  1.64it/s]\n",
            "100%|██████████| 31/31 [00:09<00:00,  3.21it/s]\n"
          ]
        },
        {
          "output_type": "stream",
          "name": "stdout",
          "text": [
            "Accuracy: 38.86 - Loss: 0.014007450879515203 \n",
            "\n"
          ]
        },
        {
          "output_type": "stream",
          "name": "stderr",
          "text": [
            "100%|██████████| 16/16 [00:09<00:00,  1.67it/s]\n",
            "100%|██████████| 31/31 [00:11<00:00,  2.68it/s]\n"
          ]
        },
        {
          "output_type": "stream",
          "name": "stdout",
          "text": [
            "Accuracy: 39.12 - Loss: 0.013933086188945737 \n",
            "\n"
          ]
        },
        {
          "output_type": "stream",
          "name": "stderr",
          "text": [
            "100%|██████████| 16/16 [00:07<00:00,  2.07it/s]\n",
            "100%|██████████| 31/31 [00:13<00:00,  2.25it/s]\n"
          ]
        },
        {
          "output_type": "stream",
          "name": "stdout",
          "text": [
            "Accuracy: 39.20 - Loss: 0.013926266956402164 \n",
            "\n"
          ]
        },
        {
          "output_type": "stream",
          "name": "stderr",
          "text": [
            "100%|██████████| 16/16 [00:09<00:00,  1.67it/s]\n",
            "100%|██████████| 31/31 [00:11<00:00,  2.73it/s]\n"
          ]
        },
        {
          "output_type": "stream",
          "name": "stdout",
          "text": [
            "Accuracy: 39.65 - Loss: 0.013938271747529886 \n",
            "\n"
          ]
        },
        {
          "output_type": "stream",
          "name": "stderr",
          "text": [
            "100%|██████████| 16/16 [00:07<00:00,  2.08it/s]\n",
            "100%|██████████| 31/31 [00:11<00:00,  2.66it/s]\n"
          ]
        },
        {
          "output_type": "stream",
          "name": "stdout",
          "text": [
            "Accuracy: 39.53 - Loss: 0.013866907283834417 \n",
            "\n"
          ]
        },
        {
          "output_type": "stream",
          "name": "stderr",
          "text": [
            "100%|██████████| 16/16 [00:08<00:00,  1.80it/s]\n",
            "100%|██████████| 31/31 [00:10<00:00,  3.04it/s]\n"
          ]
        },
        {
          "output_type": "stream",
          "name": "stdout",
          "text": [
            "Accuracy: 39.63 - Loss: 0.01388287950818185 \n",
            "\n"
          ]
        },
        {
          "output_type": "stream",
          "name": "stderr",
          "text": [
            "100%|██████████| 16/16 [00:09<00:00,  1.65it/s]\n",
            "100%|██████████| 31/31 [00:11<00:00,  2.69it/s]\n"
          ]
        },
        {
          "output_type": "stream",
          "name": "stdout",
          "text": [
            "Accuracy: 39.83 - Loss: 0.013908702382364174 \n",
            "\n"
          ]
        }
      ],
      "source": [
        "warnings.filterwarnings('ignore', category=UserWarning)\n",
        "\n",
        "# Parse arguments\n",
        "conf = { # Cartoon\n",
        "    'seed': 0,\n",
        "    'test_only': False,\n",
        "    'cpu': False,\n",
        "    'experiment': 'random',\n",
        "    'experiment_name': 'random/case1/sketch/',\n",
        "    'experiment_args': {'module_placement': ['layer4.1.conv2'], 'mask_out_ratio': 0.4},\n",
        "    'dataset_args': {'text_root': 'data', 'images_root': 'data/kfold/PACS', 'source_domain': 'art_painting', 'target_domain': 'sketch' },\n",
        "    'batch_size': 128,\n",
        "    'epochs': 30,\n",
        "    'num_workers': 5,\n",
        "    'grad_accum_steps': 1\n",
        "}\n",
        "\n",
        "args = argparse.Namespace(**conf)\n",
        "print(args)\n",
        "CONFIG.update(vars(args))\n",
        "\n",
        "# Setup output directory\n",
        "CONFIG.save_dir = os.path.join('record', CONFIG.experiment_name)\n",
        "os.makedirs(CONFIG.save_dir, exist_ok=True)\n",
        "\n",
        "# Setup logging\n",
        "logging.basicConfig(\n",
        "    filename=os.path.join(CONFIG.save_dir, 'log.txt'),\n",
        "    format='%(message)s',\n",
        "    level=logging.INFO,\n",
        "    filemode='a'\n",
        ")\n",
        "\n",
        "# Set experiment's device & deterministic behavior\n",
        "if CONFIG.cpu: CONFIG.device = 'cpu'\n",
        "else: CONFIG.device = 'cuda' if torch.cuda.is_available() else 'cpu'\n",
        "\n",
        "torch.manual_seed(CONFIG.seed)\n",
        "random.seed(CONFIG.seed)\n",
        "np.random.seed(CONFIG.seed)\n",
        "torch.backends.cudnn.benchmark = True\n",
        "torch.use_deterministic_algorithms(mode=True, warn_only=True)\n",
        "\n",
        "main()"
      ]
    },
    {
      "cell_type": "markdown",
      "metadata": {
        "id": "D2d_9PGbQv54"
      },
      "source": [
        "Art Painting &rightarrow; Photo"
      ]
    },
    {
      "cell_type": "code",
      "execution_count": 14,
      "metadata": {
        "id": "i6EcfFByQv55",
        "colab": {
          "base_uri": "https://localhost:8080/"
        },
        "outputId": "494a7808-64f0-4c99-8577-33107d6b764d"
      },
      "outputs": [
        {
          "output_type": "stream",
          "name": "stdout",
          "text": [
            "Namespace(seed=0, test_only=False, cpu=False, experiment='random', experiment_name='random/case1/photo/', experiment_args={'module_placement': ['layer4.1.conv2'], 'mask_out_ratio': 0.4}, dataset_args={'text_root': 'data', 'images_root': 'data/kfold/PACS', 'source_domain': 'art_painting', 'target_domain': 'photo'}, batch_size=128, epochs=30, num_workers=5, grad_accum_steps=1)\n",
            "mask_out_ratio:  0.4\n",
            "random_mask sum():  tensor(15133., device='cuda:0')\n",
            "Insert activation shaping layer after  layer4.1.conv2 Conv2d(512, 512, kernel_size=(3, 3), stride=(1, 1), padding=(1, 1), bias=False)\n"
          ]
        },
        {
          "output_type": "stream",
          "name": "stderr",
          "text": [
            "100%|██████████| 16/16 [00:11<00:00,  1.38it/s]\n",
            "100%|██████████| 14/14 [00:06<00:00,  2.29it/s]\n"
          ]
        },
        {
          "output_type": "stream",
          "name": "stdout",
          "text": [
            "Accuracy: 33.35 - Loss: 0.015262928908456585 \n",
            "\n"
          ]
        },
        {
          "output_type": "stream",
          "name": "stderr",
          "text": [
            "100%|██████████| 16/16 [00:08<00:00,  1.91it/s]\n",
            "100%|██████████| 14/14 [00:04<00:00,  3.16it/s]\n"
          ]
        },
        {
          "output_type": "stream",
          "name": "stdout",
          "text": [
            "Accuracy: 46.65 - Loss: 0.013173444470959509 \n",
            "\n"
          ]
        },
        {
          "output_type": "stream",
          "name": "stderr",
          "text": [
            "100%|██████████| 16/16 [00:09<00:00,  1.72it/s]\n",
            "100%|██████████| 14/14 [00:04<00:00,  3.36it/s]\n"
          ]
        },
        {
          "output_type": "stream",
          "name": "stdout",
          "text": [
            "Accuracy: 60.96 - Loss: 0.01138998077301208 \n",
            "\n"
          ]
        },
        {
          "output_type": "stream",
          "name": "stderr",
          "text": [
            "100%|██████████| 16/16 [00:09<00:00,  1.69it/s]\n",
            "100%|██████████| 14/14 [00:04<00:00,  3.37it/s]\n"
          ]
        },
        {
          "output_type": "stream",
          "name": "stdout",
          "text": [
            "Accuracy: 67.60 - Loss: 0.010040656677977053 \n",
            "\n"
          ]
        },
        {
          "output_type": "stream",
          "name": "stderr",
          "text": [
            "100%|██████████| 16/16 [00:09<00:00,  1.67it/s]\n",
            "100%|██████████| 14/14 [00:04<00:00,  3.40it/s]\n"
          ]
        },
        {
          "output_type": "stream",
          "name": "stdout",
          "text": [
            "Accuracy: 74.85 - Loss: 0.00913384524648061 \n",
            "\n"
          ]
        },
        {
          "output_type": "stream",
          "name": "stderr",
          "text": [
            "100%|██████████| 16/16 [00:09<00:00,  1.69it/s]\n",
            "100%|██████████| 14/14 [00:04<00:00,  3.07it/s]\n"
          ]
        },
        {
          "output_type": "stream",
          "name": "stdout",
          "text": [
            "Accuracy: 80.18 - Loss: 0.008251612664696699 \n",
            "\n"
          ]
        },
        {
          "output_type": "stream",
          "name": "stderr",
          "text": [
            "100%|██████████| 16/16 [00:09<00:00,  1.68it/s]\n",
            "100%|██████████| 14/14 [00:04<00:00,  3.37it/s]\n"
          ]
        },
        {
          "output_type": "stream",
          "name": "stdout",
          "text": [
            "Accuracy: 81.68 - Loss: 0.007565342594763476 \n",
            "\n"
          ]
        },
        {
          "output_type": "stream",
          "name": "stderr",
          "text": [
            "100%|██████████| 16/16 [00:09<00:00,  1.68it/s]\n",
            "100%|██████████| 14/14 [00:04<00:00,  3.41it/s]\n"
          ]
        },
        {
          "output_type": "stream",
          "name": "stdout",
          "text": [
            "Accuracy: 82.93 - Loss: 0.007076720099249286 \n",
            "\n"
          ]
        },
        {
          "output_type": "stream",
          "name": "stderr",
          "text": [
            "100%|██████████| 16/16 [00:09<00:00,  1.67it/s]\n",
            "100%|██████████| 14/14 [00:05<00:00,  2.40it/s]\n"
          ]
        },
        {
          "output_type": "stream",
          "name": "stdout",
          "text": [
            "Accuracy: 83.95 - Loss: 0.006591563167686234 \n",
            "\n"
          ]
        },
        {
          "output_type": "stream",
          "name": "stderr",
          "text": [
            "100%|██████████| 16/16 [00:09<00:00,  1.67it/s]\n",
            "100%|██████████| 14/14 [00:04<00:00,  3.36it/s]\n"
          ]
        },
        {
          "output_type": "stream",
          "name": "stdout",
          "text": [
            "Accuracy: 84.97 - Loss: 0.006248678954061634 \n",
            "\n"
          ]
        },
        {
          "output_type": "stream",
          "name": "stderr",
          "text": [
            "100%|██████████| 16/16 [00:09<00:00,  1.70it/s]\n",
            "100%|██████████| 14/14 [00:04<00:00,  3.38it/s]\n"
          ]
        },
        {
          "output_type": "stream",
          "name": "stdout",
          "text": [
            "Accuracy: 85.69 - Loss: 0.005849543267381406 \n",
            "\n"
          ]
        },
        {
          "output_type": "stream",
          "name": "stderr",
          "text": [
            "100%|██████████| 16/16 [00:08<00:00,  1.79it/s]\n",
            "100%|██████████| 14/14 [00:04<00:00,  3.11it/s]\n"
          ]
        },
        {
          "output_type": "stream",
          "name": "stdout",
          "text": [
            "Accuracy: 86.41 - Loss: 0.00565486596729941 \n",
            "\n"
          ]
        },
        {
          "output_type": "stream",
          "name": "stderr",
          "text": [
            "100%|██████████| 16/16 [00:08<00:00,  1.93it/s]\n",
            "100%|██████████| 14/14 [00:05<00:00,  2.75it/s]\n"
          ]
        },
        {
          "output_type": "stream",
          "name": "stdout",
          "text": [
            "Accuracy: 87.25 - Loss: 0.005303544448521323 \n",
            "\n"
          ]
        },
        {
          "output_type": "stream",
          "name": "stderr",
          "text": [
            "100%|██████████| 16/16 [00:07<00:00,  2.00it/s]\n",
            "100%|██████████| 14/14 [00:05<00:00,  2.39it/s]\n"
          ]
        },
        {
          "output_type": "stream",
          "name": "stdout",
          "text": [
            "Accuracy: 87.49 - Loss: 0.005174288028728462 \n",
            "\n"
          ]
        },
        {
          "output_type": "stream",
          "name": "stderr",
          "text": [
            "100%|██████████| 16/16 [00:07<00:00,  2.07it/s]\n",
            "100%|██████████| 14/14 [00:05<00:00,  2.37it/s]\n"
          ]
        },
        {
          "output_type": "stream",
          "name": "stdout",
          "text": [
            "Accuracy: 88.02 - Loss: 0.004949072163975881 \n",
            "\n"
          ]
        },
        {
          "output_type": "stream",
          "name": "stderr",
          "text": [
            "100%|██████████| 16/16 [00:07<00:00,  2.04it/s]\n",
            "100%|██████████| 14/14 [00:05<00:00,  2.43it/s]\n"
          ]
        },
        {
          "output_type": "stream",
          "name": "stdout",
          "text": [
            "Accuracy: 89.04 - Loss: 0.004759795615773001 \n",
            "\n"
          ]
        },
        {
          "output_type": "stream",
          "name": "stderr",
          "text": [
            "100%|██████████| 16/16 [00:07<00:00,  2.03it/s]\n",
            "100%|██████████| 14/14 [00:04<00:00,  2.83it/s]\n"
          ]
        },
        {
          "output_type": "stream",
          "name": "stdout",
          "text": [
            "Accuracy: 88.86 - Loss: 0.004545943340855444 \n",
            "\n"
          ]
        },
        {
          "output_type": "stream",
          "name": "stderr",
          "text": [
            "100%|██████████| 16/16 [00:08<00:00,  1.88it/s]\n",
            "100%|██████████| 14/14 [00:04<00:00,  3.14it/s]\n"
          ]
        },
        {
          "output_type": "stream",
          "name": "stdout",
          "text": [
            "Accuracy: 89.10 - Loss: 0.0044187487599378576 \n",
            "\n"
          ]
        },
        {
          "output_type": "stream",
          "name": "stderr",
          "text": [
            "100%|██████████| 16/16 [00:09<00:00,  1.76it/s]\n",
            "100%|██████████| 14/14 [00:04<00:00,  3.43it/s]\n"
          ]
        },
        {
          "output_type": "stream",
          "name": "stdout",
          "text": [
            "Accuracy: 89.40 - Loss: 0.004280945515918161 \n",
            "\n"
          ]
        },
        {
          "output_type": "stream",
          "name": "stderr",
          "text": [
            "100%|██████████| 16/16 [00:09<00:00,  1.69it/s]\n",
            "100%|██████████| 14/14 [00:04<00:00,  3.36it/s]\n"
          ]
        },
        {
          "output_type": "stream",
          "name": "stdout",
          "text": [
            "Accuracy: 89.94 - Loss: 0.0041680736634545695 \n",
            "\n"
          ]
        },
        {
          "output_type": "stream",
          "name": "stderr",
          "text": [
            "100%|██████████| 16/16 [00:09<00:00,  1.67it/s]\n",
            "100%|██████████| 14/14 [00:04<00:00,  3.40it/s]\n"
          ]
        },
        {
          "output_type": "stream",
          "name": "stdout",
          "text": [
            "Accuracy: 90.36 - Loss: 0.003987189074476322 \n",
            "\n"
          ]
        },
        {
          "output_type": "stream",
          "name": "stderr",
          "text": [
            "100%|██████████| 16/16 [00:09<00:00,  1.70it/s]\n",
            "100%|██████████| 14/14 [00:04<00:00,  3.37it/s]\n"
          ]
        },
        {
          "output_type": "stream",
          "name": "stdout",
          "text": [
            "Accuracy: 90.36 - Loss: 0.0038698540654724944 \n",
            "\n"
          ]
        },
        {
          "output_type": "stream",
          "name": "stderr",
          "text": [
            "100%|██████████| 16/16 [00:09<00:00,  1.66it/s]\n",
            "100%|██████████| 14/14 [00:04<00:00,  3.32it/s]\n"
          ]
        },
        {
          "output_type": "stream",
          "name": "stdout",
          "text": [
            "Accuracy: 90.42 - Loss: 0.0038174408281634667 \n",
            "\n"
          ]
        },
        {
          "output_type": "stream",
          "name": "stderr",
          "text": [
            "100%|██████████| 16/16 [00:09<00:00,  1.71it/s]\n",
            "100%|██████████| 14/14 [00:04<00:00,  3.40it/s]\n"
          ]
        },
        {
          "output_type": "stream",
          "name": "stdout",
          "text": [
            "Accuracy: 90.90 - Loss: 0.0036781041565055617 \n",
            "\n"
          ]
        },
        {
          "output_type": "stream",
          "name": "stderr",
          "text": [
            "100%|██████████| 16/16 [00:08<00:00,  1.80it/s]\n",
            "100%|██████████| 14/14 [00:04<00:00,  3.07it/s]\n"
          ]
        },
        {
          "output_type": "stream",
          "name": "stdout",
          "text": [
            "Accuracy: 90.72 - Loss: 0.003678529633733327 \n",
            "\n"
          ]
        },
        {
          "output_type": "stream",
          "name": "stderr",
          "text": [
            "100%|██████████| 16/16 [00:08<00:00,  1.98it/s]\n",
            "100%|██████████| 14/14 [00:05<00:00,  2.65it/s]\n"
          ]
        },
        {
          "output_type": "stream",
          "name": "stdout",
          "text": [
            "Accuracy: 90.78 - Loss: 0.0036706577696486147 \n",
            "\n"
          ]
        },
        {
          "output_type": "stream",
          "name": "stderr",
          "text": [
            "100%|██████████| 16/16 [00:07<00:00,  2.06it/s]\n",
            "100%|██████████| 14/14 [00:06<00:00,  2.31it/s]\n"
          ]
        },
        {
          "output_type": "stream",
          "name": "stdout",
          "text": [
            "Accuracy: 90.90 - Loss: 0.0036402612121519216 \n",
            "\n"
          ]
        },
        {
          "output_type": "stream",
          "name": "stderr",
          "text": [
            "100%|██████████| 16/16 [00:07<00:00,  2.07it/s]\n",
            "100%|██████████| 14/14 [00:06<00:00,  2.17it/s]\n"
          ]
        },
        {
          "output_type": "stream",
          "name": "stdout",
          "text": [
            "Accuracy: 90.90 - Loss: 0.003655705828509645 \n",
            "\n"
          ]
        },
        {
          "output_type": "stream",
          "name": "stderr",
          "text": [
            "100%|██████████| 16/16 [00:08<00:00,  1.80it/s]\n",
            "100%|██████████| 14/14 [00:05<00:00,  2.38it/s]\n"
          ]
        },
        {
          "output_type": "stream",
          "name": "stdout",
          "text": [
            "Accuracy: 90.90 - Loss: 0.0036681195486805394 \n",
            "\n"
          ]
        },
        {
          "output_type": "stream",
          "name": "stderr",
          "text": [
            "100%|██████████| 16/16 [00:07<00:00,  2.03it/s]\n",
            "100%|██████████| 14/14 [00:05<00:00,  2.80it/s]\n"
          ]
        },
        {
          "output_type": "stream",
          "name": "stdout",
          "text": [
            "Accuracy: 90.96 - Loss: 0.003649640458072731 \n",
            "\n"
          ]
        }
      ],
      "source": [
        "warnings.filterwarnings('ignore', category=UserWarning)\n",
        "\n",
        "# Parse arguments\n",
        "conf = { # Cartoon\n",
        "    'seed': 0,\n",
        "    'test_only': False,\n",
        "    'cpu': False,\n",
        "    'experiment': 'random',\n",
        "    'experiment_name': 'random/case1/photo/',\n",
        "    'experiment_args': {'module_placement': ['layer4.1.conv2'], 'mask_out_ratio': 0.4},\n",
        "    'dataset_args': {'text_root': 'data', 'images_root': 'data/kfold/PACS', 'source_domain': 'art_painting', 'target_domain': 'photo' },\n",
        "    'batch_size': 128,\n",
        "    'epochs': 30,\n",
        "    'num_workers': 5,\n",
        "    'grad_accum_steps': 1\n",
        "}\n",
        "\n",
        "args = argparse.Namespace(**conf)\n",
        "print(args)\n",
        "CONFIG.update(vars(args))\n",
        "\n",
        "# Setup output directory\n",
        "CONFIG.save_dir = os.path.join('record', CONFIG.experiment_name)\n",
        "os.makedirs(CONFIG.save_dir, exist_ok=True)\n",
        "\n",
        "# Setup logging\n",
        "logging.basicConfig(\n",
        "    filename=os.path.join(CONFIG.save_dir, 'log.txt'),\n",
        "    format='%(message)s',\n",
        "    level=logging.INFO,\n",
        "    filemode='a'\n",
        ")\n",
        "\n",
        "# Set experiment's device & deterministic behavior\n",
        "if CONFIG.cpu: CONFIG.device = 'cpu'\n",
        "else: CONFIG.device = 'cuda' if torch.cuda.is_available() else 'cpu'\n",
        "\n",
        "torch.manual_seed(CONFIG.seed)\n",
        "random.seed(CONFIG.seed)\n",
        "np.random.seed(CONFIG.seed)\n",
        "torch.backends.cudnn.benchmark = True\n",
        "torch.use_deterministic_algorithms(mode=True, warn_only=True)\n",
        "\n",
        "main()"
      ]
    },
    {
      "cell_type": "markdown",
      "metadata": {
        "id": "_4vh7YSWQv55"
      },
      "source": [
        "### mask out ratio = 0.55, module_placement: layer4.1.conv2"
      ]
    },
    {
      "cell_type": "markdown",
      "metadata": {
        "id": "IbwOZKZtQv55"
      },
      "source": [
        "Art Painting &rightarrow; Cartoon"
      ]
    },
    {
      "cell_type": "code",
      "execution_count": 15,
      "metadata": {
        "id": "rrkzhQX5Qv55",
        "colab": {
          "base_uri": "https://localhost:8080/"
        },
        "outputId": "e5059e16-802e-40c3-9dc0-eb8d9a1dba6d"
      },
      "outputs": [
        {
          "output_type": "stream",
          "name": "stdout",
          "text": [
            "Namespace(seed=0, test_only=False, cpu=False, experiment='random', experiment_name='random/case2/cartoon/', experiment_args={'module_placement': ['layer4.1.conv2'], 'mask_out_ratio': 0.55}, dataset_args={'text_root': 'data', 'images_root': 'data/kfold/PACS', 'source_domain': 'art_painting', 'target_domain': 'cartoon'}, batch_size=128, epochs=30, num_workers=5, grad_accum_steps=1)\n",
            "mask_out_ratio:  0.55\n",
            "random_mask sum():  tensor(11245., device='cuda:0')\n",
            "Insert activation shaping layer after  layer4.1.conv2 Conv2d(512, 512, kernel_size=(3, 3), stride=(1, 1), padding=(1, 1), bias=False)\n"
          ]
        },
        {
          "output_type": "stream",
          "name": "stderr",
          "text": [
            "100%|██████████| 16/16 [00:09<00:00,  1.65it/s]\n",
            "100%|██████████| 19/19 [00:06<00:00,  2.87it/s]\n"
          ]
        },
        {
          "output_type": "stream",
          "name": "stdout",
          "text": [
            "Accuracy: 19.88 - Loss: 0.015941636147352615 \n",
            "\n"
          ]
        },
        {
          "output_type": "stream",
          "name": "stderr",
          "text": [
            "100%|██████████| 16/16 [00:09<00:00,  1.68it/s]\n",
            "100%|██████████| 19/19 [00:05<00:00,  3.27it/s]\n"
          ]
        },
        {
          "output_type": "stream",
          "name": "stdout",
          "text": [
            "Accuracy: 27.69 - Loss: 0.015007122232238587 \n",
            "\n"
          ]
        },
        {
          "output_type": "stream",
          "name": "stderr",
          "text": [
            "100%|██████████| 16/16 [00:09<00:00,  1.66it/s]\n",
            "100%|██████████| 19/19 [00:05<00:00,  3.30it/s]\n"
          ]
        },
        {
          "output_type": "stream",
          "name": "stdout",
          "text": [
            "Accuracy: 33.49 - Loss: 0.014341161367022544 \n",
            "\n"
          ]
        },
        {
          "output_type": "stream",
          "name": "stderr",
          "text": [
            "100%|██████████| 16/16 [00:09<00:00,  1.60it/s]\n",
            "100%|██████████| 19/19 [00:05<00:00,  3.40it/s]\n"
          ]
        },
        {
          "output_type": "stream",
          "name": "stdout",
          "text": [
            "Accuracy: 37.29 - Loss: 0.013861947804180836 \n",
            "\n"
          ]
        },
        {
          "output_type": "stream",
          "name": "stderr",
          "text": [
            "100%|██████████| 16/16 [00:09<00:00,  1.68it/s]\n",
            "100%|██████████| 19/19 [00:05<00:00,  3.34it/s]\n"
          ]
        },
        {
          "output_type": "stream",
          "name": "stdout",
          "text": [
            "Accuracy: 39.59 - Loss: 0.013494891111354372 \n",
            "\n"
          ]
        },
        {
          "output_type": "stream",
          "name": "stderr",
          "text": [
            "100%|██████████| 16/16 [00:09<00:00,  1.69it/s]\n",
            "100%|██████████| 19/19 [00:05<00:00,  3.32it/s]\n"
          ]
        },
        {
          "output_type": "stream",
          "name": "stdout",
          "text": [
            "Accuracy: 41.47 - Loss: 0.01318391704925498 \n",
            "\n"
          ]
        },
        {
          "output_type": "stream",
          "name": "stderr",
          "text": [
            "100%|██████████| 16/16 [00:09<00:00,  1.71it/s]\n",
            "100%|██████████| 19/19 [00:06<00:00,  3.06it/s]\n"
          ]
        },
        {
          "output_type": "stream",
          "name": "stdout",
          "text": [
            "Accuracy: 43.17 - Loss: 0.01287936055619562 \n",
            "\n"
          ]
        },
        {
          "output_type": "stream",
          "name": "stderr",
          "text": [
            "100%|██████████| 16/16 [00:08<00:00,  1.78it/s]\n",
            "100%|██████████| 19/19 [00:06<00:00,  2.87it/s]\n"
          ]
        },
        {
          "output_type": "stream",
          "name": "stdout",
          "text": [
            "Accuracy: 42.75 - Loss: 0.012713226696330127 \n",
            "\n"
          ]
        },
        {
          "output_type": "stream",
          "name": "stderr",
          "text": [
            "100%|██████████| 16/16 [00:08<00:00,  1.89it/s]\n",
            "100%|██████████| 19/19 [00:07<00:00,  2.64it/s]\n"
          ]
        },
        {
          "output_type": "stream",
          "name": "stdout",
          "text": [
            "Accuracy: 43.26 - Loss: 0.012540137554191486 \n",
            "\n"
          ]
        },
        {
          "output_type": "stream",
          "name": "stderr",
          "text": [
            "100%|██████████| 16/16 [00:07<00:00,  2.02it/s]\n",
            "100%|██████████| 19/19 [00:07<00:00,  2.60it/s]\n"
          ]
        },
        {
          "output_type": "stream",
          "name": "stdout",
          "text": [
            "Accuracy: 42.11 - Loss: 0.012467347670333783 \n",
            "\n"
          ]
        },
        {
          "output_type": "stream",
          "name": "stderr",
          "text": [
            "100%|██████████| 16/16 [00:07<00:00,  2.06it/s]\n",
            "100%|██████████| 19/19 [00:07<00:00,  2.45it/s]\n"
          ]
        },
        {
          "output_type": "stream",
          "name": "stdout",
          "text": [
            "Accuracy: 43.43 - Loss: 0.012218539116732496 \n",
            "\n"
          ]
        },
        {
          "output_type": "stream",
          "name": "stderr",
          "text": [
            "100%|██████████| 16/16 [00:07<00:00,  2.03it/s]\n",
            "100%|██████████| 19/19 [00:07<00:00,  2.51it/s]\n"
          ]
        },
        {
          "output_type": "stream",
          "name": "stdout",
          "text": [
            "Accuracy: 42.19 - Loss: 0.012263237107735851 \n",
            "\n"
          ]
        },
        {
          "output_type": "stream",
          "name": "stderr",
          "text": [
            "100%|██████████| 16/16 [00:07<00:00,  2.09it/s]\n",
            "100%|██████████| 19/19 [00:07<00:00,  2.55it/s]\n"
          ]
        },
        {
          "output_type": "stream",
          "name": "stdout",
          "text": [
            "Accuracy: 43.39 - Loss: 0.012030147702620704 \n",
            "\n"
          ]
        },
        {
          "output_type": "stream",
          "name": "stderr",
          "text": [
            "100%|██████████| 16/16 [00:07<00:00,  2.07it/s]\n",
            "100%|██████████| 19/19 [00:07<00:00,  2.61it/s]\n"
          ]
        },
        {
          "output_type": "stream",
          "name": "stdout",
          "text": [
            "Accuracy: 42.53 - Loss: 0.012069167944351561 \n",
            "\n"
          ]
        },
        {
          "output_type": "stream",
          "name": "stderr",
          "text": [
            "100%|██████████| 16/16 [00:07<00:00,  2.02it/s]\n",
            "100%|██████████| 19/19 [00:08<00:00,  2.15it/s]\n"
          ]
        },
        {
          "output_type": "stream",
          "name": "stdout",
          "text": [
            "Accuracy: 42.19 - Loss: 0.012081863377688282 \n",
            "\n"
          ]
        },
        {
          "output_type": "stream",
          "name": "stderr",
          "text": [
            "100%|██████████| 16/16 [00:08<00:00,  1.80it/s]\n",
            "100%|██████████| 19/19 [00:06<00:00,  3.14it/s]\n"
          ]
        },
        {
          "output_type": "stream",
          "name": "stdout",
          "text": [
            "Accuracy: 43.77 - Loss: 0.011877220696149833 \n",
            "\n"
          ]
        },
        {
          "output_type": "stream",
          "name": "stderr",
          "text": [
            "100%|██████████| 16/16 [00:09<00:00,  1.72it/s]\n",
            "100%|██████████| 19/19 [00:05<00:00,  3.29it/s]\n"
          ]
        },
        {
          "output_type": "stream",
          "name": "stdout",
          "text": [
            "Accuracy: 42.83 - Loss: 0.011856836060208265 \n",
            "\n"
          ]
        },
        {
          "output_type": "stream",
          "name": "stderr",
          "text": [
            "100%|██████████| 16/16 [00:09<00:00,  1.75it/s]\n",
            "100%|██████████| 19/19 [00:05<00:00,  3.36it/s]\n"
          ]
        },
        {
          "output_type": "stream",
          "name": "stdout",
          "text": [
            "Accuracy: 42.62 - Loss: 0.011850029636975441 \n",
            "\n"
          ]
        },
        {
          "output_type": "stream",
          "name": "stderr",
          "text": [
            "100%|██████████| 16/16 [00:09<00:00,  1.72it/s]\n",
            "100%|██████████| 19/19 [00:05<00:00,  3.40it/s]\n"
          ]
        },
        {
          "output_type": "stream",
          "name": "stdout",
          "text": [
            "Accuracy: 44.07 - Loss: 0.011690371170792564 \n",
            "\n"
          ]
        },
        {
          "output_type": "stream",
          "name": "stderr",
          "text": [
            "100%|██████████| 16/16 [00:09<00:00,  1.72it/s]\n",
            "100%|██████████| 19/19 [00:05<00:00,  3.43it/s]\n"
          ]
        },
        {
          "output_type": "stream",
          "name": "stdout",
          "text": [
            "Accuracy: 43.81 - Loss: 0.011652420862949748 \n",
            "\n"
          ]
        },
        {
          "output_type": "stream",
          "name": "stderr",
          "text": [
            "100%|██████████| 16/16 [00:09<00:00,  1.66it/s]\n",
            "100%|██████████| 19/19 [00:05<00:00,  3.43it/s]\n"
          ]
        },
        {
          "output_type": "stream",
          "name": "stdout",
          "text": [
            "Accuracy: 43.30 - Loss: 0.011661180101157048 \n",
            "\n"
          ]
        },
        {
          "output_type": "stream",
          "name": "stderr",
          "text": [
            "100%|██████████| 16/16 [00:09<00:00,  1.70it/s]\n",
            "100%|██████████| 19/19 [00:05<00:00,  3.42it/s]\n"
          ]
        },
        {
          "output_type": "stream",
          "name": "stdout",
          "text": [
            "Accuracy: 44.45 - Loss: 0.01154256777348372 \n",
            "\n"
          ]
        },
        {
          "output_type": "stream",
          "name": "stderr",
          "text": [
            "100%|██████████| 16/16 [00:09<00:00,  1.66it/s]\n",
            "100%|██████████| 19/19 [00:05<00:00,  3.38it/s]\n"
          ]
        },
        {
          "output_type": "stream",
          "name": "stdout",
          "text": [
            "Accuracy: 44.03 - Loss: 0.011574046679934544 \n",
            "\n"
          ]
        },
        {
          "output_type": "stream",
          "name": "stderr",
          "text": [
            "100%|██████████| 16/16 [00:09<00:00,  1.64it/s]\n",
            "100%|██████████| 19/19 [00:05<00:00,  3.42it/s]\n"
          ]
        },
        {
          "output_type": "stream",
          "name": "stdout",
          "text": [
            "Accuracy: 43.30 - Loss: 0.01161970660955019 \n",
            "\n"
          ]
        },
        {
          "output_type": "stream",
          "name": "stderr",
          "text": [
            "100%|██████████| 16/16 [00:09<00:00,  1.65it/s]\n",
            "100%|██████████| 19/19 [00:05<00:00,  3.44it/s]\n"
          ]
        },
        {
          "output_type": "stream",
          "name": "stdout",
          "text": [
            "Accuracy: 43.52 - Loss: 0.011568388459828933 \n",
            "\n"
          ]
        },
        {
          "output_type": "stream",
          "name": "stderr",
          "text": [
            "100%|██████████| 16/16 [00:09<00:00,  1.67it/s]\n",
            "100%|██████████| 19/19 [00:05<00:00,  3.34it/s]\n"
          ]
        },
        {
          "output_type": "stream",
          "name": "stdout",
          "text": [
            "Accuracy: 43.56 - Loss: 0.011608758680649586 \n",
            "\n"
          ]
        },
        {
          "output_type": "stream",
          "name": "stderr",
          "text": [
            "100%|██████████| 16/16 [00:09<00:00,  1.65it/s]\n",
            "100%|██████████| 19/19 [00:05<00:00,  3.45it/s]\n"
          ]
        },
        {
          "output_type": "stream",
          "name": "stdout",
          "text": [
            "Accuracy: 43.69 - Loss: 0.011551830650596489 \n",
            "\n"
          ]
        },
        {
          "output_type": "stream",
          "name": "stderr",
          "text": [
            "100%|██████████| 16/16 [00:09<00:00,  1.67it/s]\n",
            "100%|██████████| 19/19 [00:05<00:00,  3.43it/s]\n"
          ]
        },
        {
          "output_type": "stream",
          "name": "stdout",
          "text": [
            "Accuracy: 43.90 - Loss: 0.01156081793251298 \n",
            "\n"
          ]
        },
        {
          "output_type": "stream",
          "name": "stderr",
          "text": [
            "100%|██████████| 16/16 [00:09<00:00,  1.65it/s]\n",
            "100%|██████████| 19/19 [00:05<00:00,  3.40it/s]\n"
          ]
        },
        {
          "output_type": "stream",
          "name": "stdout",
          "text": [
            "Accuracy: 44.11 - Loss: 0.011530942935178711 \n",
            "\n"
          ]
        },
        {
          "output_type": "stream",
          "name": "stderr",
          "text": [
            "100%|██████████| 16/16 [00:09<00:00,  1.73it/s]\n",
            "100%|██████████| 19/19 [00:05<00:00,  3.21it/s]\n"
          ]
        },
        {
          "output_type": "stream",
          "name": "stdout",
          "text": [
            "Accuracy: 44.03 - Loss: 0.011525774266532663 \n",
            "\n"
          ]
        }
      ],
      "source": [
        "warnings.filterwarnings('ignore', category=UserWarning)\n",
        "\n",
        "# Parse arguments\n",
        "conf = { # Cartoon\n",
        "    'seed': 0,\n",
        "    'test_only': False,\n",
        "    'cpu': False,\n",
        "    'experiment': 'random',\n",
        "    'experiment_name': 'random/case2/cartoon/',\n",
        "    'experiment_args': {'module_placement': ['layer4.1.conv2'], 'mask_out_ratio': 0.55},\n",
        "    'dataset_args': {'text_root': 'data', 'images_root': 'data/kfold/PACS', 'source_domain': 'art_painting', 'target_domain': 'cartoon' },\n",
        "    'batch_size': 128,\n",
        "    'epochs': 30,\n",
        "    'num_workers': 5,\n",
        "    'grad_accum_steps': 1\n",
        "}\n",
        "\n",
        "args = argparse.Namespace(**conf)\n",
        "print(args)\n",
        "CONFIG.update(vars(args))\n",
        "\n",
        "# Setup output directory\n",
        "CONFIG.save_dir = os.path.join('record', CONFIG.experiment_name)\n",
        "os.makedirs(CONFIG.save_dir, exist_ok=True)\n",
        "\n",
        "# Setup logging\n",
        "logging.basicConfig(\n",
        "    filename=os.path.join(CONFIG.save_dir, 'log.txt'),\n",
        "    format='%(message)s',\n",
        "    level=logging.INFO,\n",
        "    filemode='a'\n",
        ")\n",
        "\n",
        "# Set experiment's device & deterministic behavior\n",
        "if CONFIG.cpu: CONFIG.device = 'cpu'\n",
        "else: CONFIG.device = 'cuda' if torch.cuda.is_available() else 'cpu'\n",
        "\n",
        "torch.manual_seed(CONFIG.seed)\n",
        "random.seed(CONFIG.seed)\n",
        "np.random.seed(CONFIG.seed)\n",
        "torch.backends.cudnn.benchmark = True\n",
        "torch.use_deterministic_algorithms(mode=True, warn_only=True)\n",
        "\n",
        "main()"
      ]
    },
    {
      "cell_type": "markdown",
      "metadata": {
        "id": "X7ziQ37aQv56"
      },
      "source": [
        "Art Painting &rightarrow; Sketch"
      ]
    },
    {
      "cell_type": "code",
      "execution_count": 16,
      "metadata": {
        "id": "rTD0YKsuQv56",
        "colab": {
          "base_uri": "https://localhost:8080/"
        },
        "outputId": "a84f6cb2-5ab4-40aa-9bc5-ae87df24b45a"
      },
      "outputs": [
        {
          "output_type": "stream",
          "name": "stdout",
          "text": [
            "Namespace(seed=0, test_only=False, cpu=False, experiment='random', experiment_name='random/case2/sketch/', experiment_args={'module_placement': ['layer4.1.conv2'], 'mask_out_ratio': 0.55}, dataset_args={'text_root': 'data', 'images_root': 'data/kfold/PACS', 'source_domain': 'art_painting', 'target_domain': 'sketch'}, batch_size=128, epochs=30, num_workers=5, grad_accum_steps=1)\n",
            "mask_out_ratio:  0.55\n",
            "random_mask sum():  tensor(11245., device='cuda:0')\n",
            "Insert activation shaping layer after  layer4.1.conv2 Conv2d(512, 512, kernel_size=(3, 3), stride=(1, 1), padding=(1, 1), bias=False)\n"
          ]
        },
        {
          "output_type": "stream",
          "name": "stderr",
          "text": [
            "100%|██████████| 16/16 [00:08<00:00,  1.83it/s]\n",
            "100%|██████████| 31/31 [00:12<00:00,  2.50it/s]\n"
          ]
        },
        {
          "output_type": "stream",
          "name": "stdout",
          "text": [
            "Accuracy: 4.43 - Loss: 0.017113298943826155 \n",
            "\n"
          ]
        },
        {
          "output_type": "stream",
          "name": "stderr",
          "text": [
            "100%|██████████| 16/16 [00:09<00:00,  1.66it/s]\n",
            "100%|██████████| 31/31 [00:10<00:00,  2.82it/s]\n"
          ]
        },
        {
          "output_type": "stream",
          "name": "stdout",
          "text": [
            "Accuracy: 8.22 - Loss: 0.016079276807740857 \n",
            "\n"
          ]
        },
        {
          "output_type": "stream",
          "name": "stderr",
          "text": [
            "100%|██████████| 16/16 [00:08<00:00,  1.87it/s]\n",
            "100%|██████████| 31/31 [00:11<00:00,  2.71it/s]\n"
          ]
        },
        {
          "output_type": "stream",
          "name": "stdout",
          "text": [
            "Accuracy: 12.04 - Loss: 0.01571850829465482 \n",
            "\n"
          ]
        },
        {
          "output_type": "stream",
          "name": "stderr",
          "text": [
            "100%|██████████| 16/16 [00:08<00:00,  1.99it/s]\n",
            "100%|██████████| 31/31 [00:10<00:00,  2.84it/s]\n"
          ]
        },
        {
          "output_type": "stream",
          "name": "stdout",
          "text": [
            "Accuracy: 14.63 - Loss: 0.015522299209724828 \n",
            "\n"
          ]
        },
        {
          "output_type": "stream",
          "name": "stderr",
          "text": [
            "100%|██████████| 16/16 [00:10<00:00,  1.53it/s]\n",
            "100%|██████████| 31/31 [00:11<00:00,  2.61it/s]\n"
          ]
        },
        {
          "output_type": "stream",
          "name": "stdout",
          "text": [
            "Accuracy: 22.78 - Loss: 0.015138706016491981 \n",
            "\n"
          ]
        },
        {
          "output_type": "stream",
          "name": "stderr",
          "text": [
            "100%|██████████| 16/16 [00:07<00:00,  2.03it/s]\n",
            "100%|██████████| 31/31 [00:11<00:00,  2.74it/s]\n"
          ]
        },
        {
          "output_type": "stream",
          "name": "stdout",
          "text": [
            "Accuracy: 25.83 - Loss: 0.015087673032396044 \n",
            "\n"
          ]
        },
        {
          "output_type": "stream",
          "name": "stderr",
          "text": [
            "100%|██████████| 16/16 [00:09<00:00,  1.76it/s]\n",
            "100%|██████████| 31/31 [00:09<00:00,  3.17it/s]\n"
          ]
        },
        {
          "output_type": "stream",
          "name": "stdout",
          "text": [
            "Accuracy: 28.43 - Loss: 0.01485355873088492 \n",
            "\n"
          ]
        },
        {
          "output_type": "stream",
          "name": "stderr",
          "text": [
            "100%|██████████| 16/16 [00:09<00:00,  1.68it/s]\n",
            "100%|██████████| 31/31 [00:11<00:00,  2.73it/s]\n"
          ]
        },
        {
          "output_type": "stream",
          "name": "stdout",
          "text": [
            "Accuracy: 32.09 - Loss: 0.014757744074778024 \n",
            "\n"
          ]
        },
        {
          "output_type": "stream",
          "name": "stderr",
          "text": [
            "100%|██████████| 16/16 [00:07<00:00,  2.04it/s]\n",
            "100%|██████████| 31/31 [00:11<00:00,  2.75it/s]\n"
          ]
        },
        {
          "output_type": "stream",
          "name": "stdout",
          "text": [
            "Accuracy: 32.35 - Loss: 0.01457969891748892 \n",
            "\n"
          ]
        },
        {
          "output_type": "stream",
          "name": "stderr",
          "text": [
            "100%|██████████| 16/16 [00:09<00:00,  1.70it/s]\n",
            "100%|██████████| 31/31 [00:09<00:00,  3.19it/s]\n"
          ]
        },
        {
          "output_type": "stream",
          "name": "stdout",
          "text": [
            "Accuracy: 33.85 - Loss: 0.014457476536534038 \n",
            "\n"
          ]
        },
        {
          "output_type": "stream",
          "name": "stderr",
          "text": [
            "100%|██████████| 16/16 [00:09<00:00,  1.74it/s]\n",
            "100%|██████████| 31/31 [00:11<00:00,  2.69it/s]\n"
          ]
        },
        {
          "output_type": "stream",
          "name": "stdout",
          "text": [
            "Accuracy: 36.24 - Loss: 0.014355346973872604 \n",
            "\n"
          ]
        },
        {
          "output_type": "stream",
          "name": "stderr",
          "text": [
            "100%|██████████| 16/16 [00:07<00:00,  2.08it/s]\n",
            "100%|██████████| 31/31 [00:11<00:00,  2.74it/s]\n"
          ]
        },
        {
          "output_type": "stream",
          "name": "stdout",
          "text": [
            "Accuracy: 35.15 - Loss: 0.014268430264192127 \n",
            "\n"
          ]
        },
        {
          "output_type": "stream",
          "name": "stderr",
          "text": [
            "100%|██████████| 16/16 [00:09<00:00,  1.68it/s]\n",
            "100%|██████████| 31/31 [00:09<00:00,  3.18it/s]\n"
          ]
        },
        {
          "output_type": "stream",
          "name": "stdout",
          "text": [
            "Accuracy: 37.34 - Loss: 0.01421281058966097 \n",
            "\n"
          ]
        },
        {
          "output_type": "stream",
          "name": "stderr",
          "text": [
            "100%|██████████| 16/16 [00:09<00:00,  1.73it/s]\n",
            "100%|██████████| 31/31 [00:11<00:00,  2.73it/s]\n"
          ]
        },
        {
          "output_type": "stream",
          "name": "stdout",
          "text": [
            "Accuracy: 37.19 - Loss: 0.014119320590552497 \n",
            "\n"
          ]
        },
        {
          "output_type": "stream",
          "name": "stderr",
          "text": [
            "100%|██████████| 16/16 [00:07<00:00,  2.05it/s]\n",
            "100%|██████████| 31/31 [00:11<00:00,  2.70it/s]\n"
          ]
        },
        {
          "output_type": "stream",
          "name": "stdout",
          "text": [
            "Accuracy: 35.96 - Loss: 0.014119126166239074 \n",
            "\n"
          ]
        },
        {
          "output_type": "stream",
          "name": "stderr",
          "text": [
            "100%|██████████| 16/16 [00:09<00:00,  1.68it/s]\n",
            "100%|██████████| 31/31 [00:10<00:00,  3.03it/s]\n"
          ]
        },
        {
          "output_type": "stream",
          "name": "stdout",
          "text": [
            "Accuracy: 38.10 - Loss: 0.014009625470556356 \n",
            "\n"
          ]
        },
        {
          "output_type": "stream",
          "name": "stderr",
          "text": [
            "100%|██████████| 16/16 [00:08<00:00,  1.85it/s]\n",
            "100%|██████████| 31/31 [00:11<00:00,  2.74it/s]\n"
          ]
        },
        {
          "output_type": "stream",
          "name": "stdout",
          "text": [
            "Accuracy: 36.73 - Loss: 0.01409028831951853 \n",
            "\n"
          ]
        },
        {
          "output_type": "stream",
          "name": "stderr",
          "text": [
            "100%|██████████| 16/16 [00:07<00:00,  2.03it/s]\n",
            "100%|██████████| 31/31 [00:11<00:00,  2.77it/s]\n"
          ]
        },
        {
          "output_type": "stream",
          "name": "stdout",
          "text": [
            "Accuracy: 37.80 - Loss: 0.013978302402938101 \n",
            "\n"
          ]
        },
        {
          "output_type": "stream",
          "name": "stderr",
          "text": [
            "100%|██████████| 16/16 [00:09<00:00,  1.69it/s]\n",
            "100%|██████████| 31/31 [00:13<00:00,  2.32it/s]\n"
          ]
        },
        {
          "output_type": "stream",
          "name": "stdout",
          "text": [
            "Accuracy: 38.92 - Loss: 0.013945999446489271 \n",
            "\n"
          ]
        },
        {
          "output_type": "stream",
          "name": "stderr",
          "text": [
            "100%|██████████| 16/16 [00:07<00:00,  2.07it/s]\n",
            "100%|██████████| 31/31 [00:11<00:00,  2.73it/s]\n"
          ]
        },
        {
          "output_type": "stream",
          "name": "stdout",
          "text": [
            "Accuracy: 38.94 - Loss: 0.013922937166966928 \n",
            "\n"
          ]
        },
        {
          "output_type": "stream",
          "name": "stderr",
          "text": [
            "100%|██████████| 16/16 [00:09<00:00,  1.75it/s]\n",
            "100%|██████████| 31/31 [00:09<00:00,  3.15it/s]\n"
          ]
        },
        {
          "output_type": "stream",
          "name": "stdout",
          "text": [
            "Accuracy: 38.05 - Loss: 0.013977035246723085 \n",
            "\n"
          ]
        },
        {
          "output_type": "stream",
          "name": "stderr",
          "text": [
            "100%|██████████| 16/16 [00:09<00:00,  1.67it/s]\n",
            "100%|██████████| 31/31 [00:11<00:00,  2.72it/s]\n"
          ]
        },
        {
          "output_type": "stream",
          "name": "stdout",
          "text": [
            "Accuracy: 39.04 - Loss: 0.013899255812274315 \n",
            "\n"
          ]
        },
        {
          "output_type": "stream",
          "name": "stderr",
          "text": [
            "100%|██████████| 16/16 [00:07<00:00,  2.09it/s]\n",
            "100%|██████████| 31/31 [00:11<00:00,  2.70it/s]\n"
          ]
        },
        {
          "output_type": "stream",
          "name": "stdout",
          "text": [
            "Accuracy: 38.71 - Loss: 0.013848124159659766 \n",
            "\n"
          ]
        },
        {
          "output_type": "stream",
          "name": "stderr",
          "text": [
            "100%|██████████| 16/16 [00:09<00:00,  1.68it/s]\n",
            "100%|██████████| 31/31 [00:09<00:00,  3.22it/s]\n"
          ]
        },
        {
          "output_type": "stream",
          "name": "stdout",
          "text": [
            "Accuracy: 38.53 - Loss: 0.01389124885592093 \n",
            "\n"
          ]
        },
        {
          "output_type": "stream",
          "name": "stderr",
          "text": [
            "100%|██████████| 16/16 [00:09<00:00,  1.69it/s]\n",
            "100%|██████████| 31/31 [00:11<00:00,  2.72it/s]\n"
          ]
        },
        {
          "output_type": "stream",
          "name": "stdout",
          "text": [
            "Accuracy: 38.79 - Loss: 0.013836436855425875 \n",
            "\n"
          ]
        },
        {
          "output_type": "stream",
          "name": "stderr",
          "text": [
            "100%|██████████| 16/16 [00:07<00:00,  2.08it/s]\n",
            "100%|██████████| 31/31 [00:11<00:00,  2.74it/s]\n"
          ]
        },
        {
          "output_type": "stream",
          "name": "stdout",
          "text": [
            "Accuracy: 39.14 - Loss: 0.013842080379145295 \n",
            "\n"
          ]
        },
        {
          "output_type": "stream",
          "name": "stderr",
          "text": [
            "100%|██████████| 16/16 [00:09<00:00,  1.68it/s]\n",
            "100%|██████████| 31/31 [00:09<00:00,  3.24it/s]\n"
          ]
        },
        {
          "output_type": "stream",
          "name": "stdout",
          "text": [
            "Accuracy: 39.20 - Loss: 0.01384761000322792 \n",
            "\n"
          ]
        },
        {
          "output_type": "stream",
          "name": "stderr",
          "text": [
            "100%|██████████| 16/16 [00:09<00:00,  1.71it/s]\n",
            "100%|██████████| 31/31 [00:11<00:00,  2.71it/s]\n"
          ]
        },
        {
          "output_type": "stream",
          "name": "stdout",
          "text": [
            "Accuracy: 39.07 - Loss: 0.013798096793454609 \n",
            "\n"
          ]
        },
        {
          "output_type": "stream",
          "name": "stderr",
          "text": [
            "100%|██████████| 16/16 [00:07<00:00,  2.07it/s]\n",
            "100%|██████████| 31/31 [00:11<00:00,  2.72it/s]\n"
          ]
        },
        {
          "output_type": "stream",
          "name": "stdout",
          "text": [
            "Accuracy: 39.07 - Loss: 0.013814138741127921 \n",
            "\n"
          ]
        },
        {
          "output_type": "stream",
          "name": "stderr",
          "text": [
            "100%|██████████| 16/16 [00:09<00:00,  1.64it/s]\n",
            "100%|██████████| 31/31 [00:10<00:00,  2.98it/s]\n"
          ]
        },
        {
          "output_type": "stream",
          "name": "stdout",
          "text": [
            "Accuracy: 39.53 - Loss: 0.013823386153728186 \n",
            "\n"
          ]
        }
      ],
      "source": [
        "warnings.filterwarnings('ignore', category=UserWarning)\n",
        "\n",
        "# Parse arguments\n",
        "conf = { # Sketch\n",
        "    'seed': 0,\n",
        "    'test_only': False,\n",
        "    'cpu': False,\n",
        "    'experiment': 'random',\n",
        "    'experiment_name': 'random/case2/sketch/',\n",
        "    'experiment_args': {'module_placement': ['layer4.1.conv2'], 'mask_out_ratio': 0.55},\n",
        "    'dataset_args': {'text_root': 'data', 'images_root': 'data/kfold/PACS', 'source_domain': 'art_painting', 'target_domain': 'sketch' },\n",
        "    'batch_size': 128,\n",
        "    'epochs': 30,\n",
        "    'num_workers': 5,\n",
        "    'grad_accum_steps': 1\n",
        "}\n",
        "\n",
        "args = argparse.Namespace(**conf)\n",
        "print(args)\n",
        "CONFIG.update(vars(args))\n",
        "\n",
        "# Setup output directory\n",
        "CONFIG.save_dir = os.path.join('record', CONFIG.experiment_name)\n",
        "os.makedirs(CONFIG.save_dir, exist_ok=True)\n",
        "\n",
        "# Setup logging\n",
        "logging.basicConfig(\n",
        "    filename=os.path.join(CONFIG.save_dir, 'log.txt'),\n",
        "    format='%(message)s',\n",
        "    level=logging.INFO,\n",
        "    filemode='a'\n",
        ")\n",
        "\n",
        "# Set experiment's device & deterministic behavior\n",
        "if CONFIG.cpu: CONFIG.device = 'cpu'\n",
        "else: CONFIG.device = 'cuda' if torch.cuda.is_available() else 'cpu'\n",
        "\n",
        "torch.manual_seed(CONFIG.seed)\n",
        "random.seed(CONFIG.seed)\n",
        "np.random.seed(CONFIG.seed)\n",
        "torch.backends.cudnn.benchmark = True\n",
        "torch.use_deterministic_algorithms(mode=True, warn_only=True)\n",
        "\n",
        "main()"
      ]
    },
    {
      "cell_type": "markdown",
      "metadata": {
        "id": "6ULvvsoiQv56"
      },
      "source": [
        "Art Painting &rightarrow; Photo"
      ]
    },
    {
      "cell_type": "code",
      "execution_count": 17,
      "metadata": {
        "id": "dI6svfrJQv57",
        "colab": {
          "base_uri": "https://localhost:8080/"
        },
        "outputId": "33d19352-a710-405a-fb62-93ad11f980e0"
      },
      "outputs": [
        {
          "output_type": "stream",
          "name": "stdout",
          "text": [
            "Namespace(seed=0, test_only=False, cpu=False, experiment='random', experiment_name='random/case2/photo/', experiment_args={'module_placement': ['layer4.1.conv2'], 'mask_out_ratio': 0.55}, dataset_args={'text_root': 'data', 'images_root': 'data/kfold/PACS', 'source_domain': 'art_painting', 'target_domain': 'photo'}, batch_size=128, epochs=30, num_workers=5, grad_accum_steps=1)\n",
            "mask_out_ratio:  0.55\n",
            "random_mask sum():  tensor(11245., device='cuda:0')\n",
            "Insert activation shaping layer after  layer4.1.conv2 Conv2d(512, 512, kernel_size=(3, 3), stride=(1, 1), padding=(1, 1), bias=False)\n"
          ]
        },
        {
          "output_type": "stream",
          "name": "stderr",
          "text": [
            "100%|██████████| 16/16 [00:09<00:00,  1.65it/s]\n",
            "100%|██████████| 14/14 [00:04<00:00,  2.91it/s]\n"
          ]
        },
        {
          "output_type": "stream",
          "name": "stdout",
          "text": [
            "Accuracy: 32.34 - Loss: 0.015373348761461451 \n",
            "\n"
          ]
        },
        {
          "output_type": "stream",
          "name": "stderr",
          "text": [
            "100%|██████████| 16/16 [00:09<00:00,  1.76it/s]\n",
            "100%|██████████| 14/14 [00:04<00:00,  3.23it/s]\n"
          ]
        },
        {
          "output_type": "stream",
          "name": "stdout",
          "text": [
            "Accuracy: 45.75 - Loss: 0.013750154743651431 \n",
            "\n"
          ]
        },
        {
          "output_type": "stream",
          "name": "stderr",
          "text": [
            "100%|██████████| 16/16 [00:08<00:00,  1.85it/s]\n",
            "100%|██████████| 14/14 [00:04<00:00,  2.89it/s]\n"
          ]
        },
        {
          "output_type": "stream",
          "name": "stdout",
          "text": [
            "Accuracy: 57.19 - Loss: 0.012132782065225932 \n",
            "\n"
          ]
        },
        {
          "output_type": "stream",
          "name": "stderr",
          "text": [
            "100%|██████████| 16/16 [00:07<00:00,  2.06it/s]\n",
            "100%|██████████| 14/14 [00:05<00:00,  2.53it/s]\n"
          ]
        },
        {
          "output_type": "stream",
          "name": "stdout",
          "text": [
            "Accuracy: 63.05 - Loss: 0.010920253913559599 \n",
            "\n"
          ]
        },
        {
          "output_type": "stream",
          "name": "stderr",
          "text": [
            "100%|██████████| 16/16 [00:08<00:00,  1.98it/s]\n",
            "100%|██████████| 14/14 [00:06<00:00,  2.27it/s]\n"
          ]
        },
        {
          "output_type": "stream",
          "name": "stdout",
          "text": [
            "Accuracy: 70.72 - Loss: 0.010009679965630264 \n",
            "\n"
          ]
        },
        {
          "output_type": "stream",
          "name": "stderr",
          "text": [
            "100%|██████████| 16/16 [00:07<00:00,  2.10it/s]\n",
            "100%|██████████| 14/14 [00:05<00:00,  2.39it/s]\n"
          ]
        },
        {
          "output_type": "stream",
          "name": "stdout",
          "text": [
            "Accuracy: 76.23 - Loss: 0.009115112149072978 \n",
            "\n"
          ]
        },
        {
          "output_type": "stream",
          "name": "stderr",
          "text": [
            "100%|██████████| 16/16 [00:07<00:00,  2.08it/s]\n",
            "100%|██████████| 14/14 [00:05<00:00,  2.41it/s]\n"
          ]
        },
        {
          "output_type": "stream",
          "name": "stdout",
          "text": [
            "Accuracy: 78.98 - Loss: 0.008448612582897712 \n",
            "\n"
          ]
        },
        {
          "output_type": "stream",
          "name": "stderr",
          "text": [
            "100%|██████████| 16/16 [00:07<00:00,  2.08it/s]\n",
            "100%|██████████| 14/14 [00:04<00:00,  2.89it/s]\n"
          ]
        },
        {
          "output_type": "stream",
          "name": "stdout",
          "text": [
            "Accuracy: 81.26 - Loss: 0.00789727525796719 \n",
            "\n"
          ]
        },
        {
          "output_type": "stream",
          "name": "stderr",
          "text": [
            "100%|██████████| 16/16 [00:08<00:00,  1.91it/s]\n",
            "100%|██████████| 14/14 [00:04<00:00,  3.18it/s]\n"
          ]
        },
        {
          "output_type": "stream",
          "name": "stdout",
          "text": [
            "Accuracy: 82.69 - Loss: 0.007401606601155446 \n",
            "\n"
          ]
        },
        {
          "output_type": "stream",
          "name": "stderr",
          "text": [
            "100%|██████████| 16/16 [00:11<00:00,  1.45it/s]\n",
            "100%|██████████| 14/14 [00:04<00:00,  3.39it/s]\n"
          ]
        },
        {
          "output_type": "stream",
          "name": "stdout",
          "text": [
            "Accuracy: 83.71 - Loss: 0.007006134208804833 \n",
            "\n"
          ]
        },
        {
          "output_type": "stream",
          "name": "stderr",
          "text": [
            "100%|██████████| 16/16 [00:09<00:00,  1.74it/s]\n",
            "100%|██████████| 14/14 [00:04<00:00,  3.31it/s]\n"
          ]
        },
        {
          "output_type": "stream",
          "name": "stdout",
          "text": [
            "Accuracy: 84.55 - Loss: 0.0065914817912849834 \n",
            "\n"
          ]
        },
        {
          "output_type": "stream",
          "name": "stderr",
          "text": [
            "100%|██████████| 16/16 [00:09<00:00,  1.70it/s]\n",
            "100%|██████████| 14/14 [00:04<00:00,  3.42it/s]\n"
          ]
        },
        {
          "output_type": "stream",
          "name": "stdout",
          "text": [
            "Accuracy: 85.33 - Loss: 0.006346321070265627 \n",
            "\n"
          ]
        },
        {
          "output_type": "stream",
          "name": "stderr",
          "text": [
            "100%|██████████| 16/16 [00:09<00:00,  1.70it/s]\n",
            "100%|██████████| 14/14 [00:04<00:00,  3.41it/s]\n"
          ]
        },
        {
          "output_type": "stream",
          "name": "stdout",
          "text": [
            "Accuracy: 86.17 - Loss: 0.005974490699653854 \n",
            "\n"
          ]
        },
        {
          "output_type": "stream",
          "name": "stderr",
          "text": [
            "100%|██████████| 16/16 [00:09<00:00,  1.66it/s]\n",
            "100%|██████████| 14/14 [00:04<00:00,  3.47it/s]\n"
          ]
        },
        {
          "output_type": "stream",
          "name": "stdout",
          "text": [
            "Accuracy: 86.83 - Loss: 0.005805267259746254 \n",
            "\n"
          ]
        },
        {
          "output_type": "stream",
          "name": "stderr",
          "text": [
            "100%|██████████| 16/16 [00:09<00:00,  1.71it/s]\n",
            "100%|██████████| 14/14 [00:04<00:00,  3.44it/s]\n"
          ]
        },
        {
          "output_type": "stream",
          "name": "stdout",
          "text": [
            "Accuracy: 87.07 - Loss: 0.005558754227118577 \n",
            "\n"
          ]
        },
        {
          "output_type": "stream",
          "name": "stderr",
          "text": [
            "100%|██████████| 16/16 [00:08<00:00,  1.83it/s]\n",
            "100%|██████████| 14/14 [00:04<00:00,  3.01it/s]\n"
          ]
        },
        {
          "output_type": "stream",
          "name": "stdout",
          "text": [
            "Accuracy: 88.14 - Loss: 0.00534615316790735 \n",
            "\n"
          ]
        },
        {
          "output_type": "stream",
          "name": "stderr",
          "text": [
            "100%|██████████| 16/16 [00:07<00:00,  2.02it/s]\n",
            "100%|██████████| 14/14 [00:05<00:00,  2.57it/s]\n"
          ]
        },
        {
          "output_type": "stream",
          "name": "stdout",
          "text": [
            "Accuracy: 88.38 - Loss: 0.005110081120165522 \n",
            "\n"
          ]
        },
        {
          "output_type": "stream",
          "name": "stderr",
          "text": [
            "100%|██████████| 16/16 [00:07<00:00,  2.06it/s]\n",
            "100%|██████████| 14/14 [00:05<00:00,  2.34it/s]\n"
          ]
        },
        {
          "output_type": "stream",
          "name": "stdout",
          "text": [
            "Accuracy: 88.38 - Loss: 0.0049585339551914236 \n",
            "\n"
          ]
        },
        {
          "output_type": "stream",
          "name": "stderr",
          "text": [
            "100%|██████████| 16/16 [00:07<00:00,  2.10it/s]\n",
            "100%|██████████| 14/14 [00:05<00:00,  2.55it/s]\n"
          ]
        },
        {
          "output_type": "stream",
          "name": "stdout",
          "text": [
            "Accuracy: 88.50 - Loss: 0.00480766580133381 \n",
            "\n"
          ]
        },
        {
          "output_type": "stream",
          "name": "stderr",
          "text": [
            "100%|██████████| 16/16 [00:07<00:00,  2.03it/s]\n",
            "100%|██████████| 14/14 [00:04<00:00,  2.81it/s]\n"
          ]
        },
        {
          "output_type": "stream",
          "name": "stdout",
          "text": [
            "Accuracy: 89.10 - Loss: 0.0046455682216290225 \n",
            "\n"
          ]
        },
        {
          "output_type": "stream",
          "name": "stderr",
          "text": [
            "100%|██████████| 16/16 [00:08<00:00,  1.91it/s]\n",
            "100%|██████████| 14/14 [00:04<00:00,  3.30it/s]\n"
          ]
        },
        {
          "output_type": "stream",
          "name": "stdout",
          "text": [
            "Accuracy: 89.28 - Loss: 0.004471118489425339 \n",
            "\n"
          ]
        },
        {
          "output_type": "stream",
          "name": "stderr",
          "text": [
            "100%|██████████| 16/16 [00:09<00:00,  1.74it/s]\n",
            "100%|██████████| 14/14 [00:04<00:00,  3.41it/s]\n"
          ]
        },
        {
          "output_type": "stream",
          "name": "stdout",
          "text": [
            "Accuracy: 89.52 - Loss: 0.004326666115286822 \n",
            "\n"
          ]
        },
        {
          "output_type": "stream",
          "name": "stderr",
          "text": [
            "100%|██████████| 16/16 [00:09<00:00,  1.67it/s]\n",
            "100%|██████████| 14/14 [00:04<00:00,  3.39it/s]\n"
          ]
        },
        {
          "output_type": "stream",
          "name": "stdout",
          "text": [
            "Accuracy: 89.46 - Loss: 0.0042444055130381785 \n",
            "\n"
          ]
        },
        {
          "output_type": "stream",
          "name": "stderr",
          "text": [
            "100%|██████████| 16/16 [00:09<00:00,  1.71it/s]\n",
            "100%|██████████| 14/14 [00:04<00:00,  3.43it/s]\n"
          ]
        },
        {
          "output_type": "stream",
          "name": "stdout",
          "text": [
            "Accuracy: 90.00 - Loss: 0.004123477807301961 \n",
            "\n"
          ]
        },
        {
          "output_type": "stream",
          "name": "stderr",
          "text": [
            "100%|██████████| 16/16 [00:09<00:00,  1.69it/s]\n",
            "100%|██████████| 14/14 [00:04<00:00,  3.41it/s]\n"
          ]
        },
        {
          "output_type": "stream",
          "name": "stdout",
          "text": [
            "Accuracy: 89.94 - Loss: 0.004114072426350531 \n",
            "\n"
          ]
        },
        {
          "output_type": "stream",
          "name": "stderr",
          "text": [
            "100%|██████████| 16/16 [00:09<00:00,  1.69it/s]\n",
            "100%|██████████| 14/14 [00:04<00:00,  3.43it/s]\n"
          ]
        },
        {
          "output_type": "stream",
          "name": "stdout",
          "text": [
            "Accuracy: 90.12 - Loss: 0.004098871635819624 \n",
            "\n"
          ]
        },
        {
          "output_type": "stream",
          "name": "stderr",
          "text": [
            "100%|██████████| 16/16 [00:09<00:00,  1.73it/s]\n",
            "100%|██████████| 14/14 [00:04<00:00,  3.31it/s]\n"
          ]
        },
        {
          "output_type": "stream",
          "name": "stdout",
          "text": [
            "Accuracy: 90.06 - Loss: 0.004067649259538708 \n",
            "\n"
          ]
        },
        {
          "output_type": "stream",
          "name": "stderr",
          "text": [
            "100%|██████████| 16/16 [00:08<00:00,  1.82it/s]\n",
            "100%|██████████| 14/14 [00:04<00:00,  3.00it/s]\n"
          ]
        },
        {
          "output_type": "stream",
          "name": "stdout",
          "text": [
            "Accuracy: 90.24 - Loss: 0.00407153774878222 \n",
            "\n"
          ]
        },
        {
          "output_type": "stream",
          "name": "stderr",
          "text": [
            "100%|██████████| 16/16 [00:07<00:00,  2.01it/s]\n",
            "100%|██████████| 14/14 [00:05<00:00,  2.49it/s]\n"
          ]
        },
        {
          "output_type": "stream",
          "name": "stdout",
          "text": [
            "Accuracy: 90.06 - Loss: 0.004075139850199579 \n",
            "\n"
          ]
        },
        {
          "output_type": "stream",
          "name": "stderr",
          "text": [
            "100%|██████████| 16/16 [00:07<00:00,  2.08it/s]\n",
            "100%|██████████| 14/14 [00:07<00:00,  1.99it/s]\n"
          ]
        },
        {
          "output_type": "stream",
          "name": "stdout",
          "text": [
            "Accuracy: 89.94 - Loss: 0.0040772847965092 \n",
            "\n"
          ]
        }
      ],
      "source": [
        "warnings.filterwarnings('ignore', category=UserWarning)\n",
        "\n",
        "# Parse arguments\n",
        "conf = { # Photo\n",
        "    'seed': 0,\n",
        "    'test_only': False,\n",
        "    'cpu': False,\n",
        "    'experiment': 'random',\n",
        "    'experiment_name': 'random/case2/photo/',\n",
        "    'experiment_args': {'module_placement': ['layer4.1.conv2'], 'mask_out_ratio': 0.55},\n",
        "    'dataset_args': {'text_root': 'data', 'images_root': 'data/kfold/PACS', 'source_domain': 'art_painting', 'target_domain': 'photo' },\n",
        "    'batch_size': 128,\n",
        "    'epochs': 30,\n",
        "    'num_workers': 5,\n",
        "    'grad_accum_steps': 1\n",
        "}\n",
        "\n",
        "args = argparse.Namespace(**conf)\n",
        "print(args)\n",
        "CONFIG.update(vars(args))\n",
        "\n",
        "# Setup output directory\n",
        "CONFIG.save_dir = os.path.join('record', CONFIG.experiment_name)\n",
        "os.makedirs(CONFIG.save_dir, exist_ok=True)\n",
        "\n",
        "# Setup logging\n",
        "logging.basicConfig(\n",
        "    filename=os.path.join(CONFIG.save_dir, 'log.txt'),\n",
        "    format='%(message)s',\n",
        "    level=logging.INFO,\n",
        "    filemode='a'\n",
        ")\n",
        "\n",
        "# Set experiment's device & deterministic behavior\n",
        "if CONFIG.cpu: CONFIG.device = 'cpu'\n",
        "else: CONFIG.device = 'cuda' if torch.cuda.is_available() else 'cpu'\n",
        "\n",
        "torch.manual_seed(CONFIG.seed)\n",
        "random.seed(CONFIG.seed)\n",
        "np.random.seed(CONFIG.seed)\n",
        "torch.backends.cudnn.benchmark = True\n",
        "torch.use_deterministic_algorithms(mode=True, warn_only=True)\n",
        "\n",
        "main()"
      ]
    },
    {
      "cell_type": "markdown",
      "metadata": {
        "id": "0D9MGsK8Qv57"
      },
      "source": [
        "### mask out ratio = 0.75, module_placement: layer4.1.conv2"
      ]
    },
    {
      "cell_type": "markdown",
      "metadata": {
        "id": "x4IecZ4UQv57"
      },
      "source": [
        "Art Painting &rightarrow; Cartoon"
      ]
    },
    {
      "cell_type": "code",
      "execution_count": 18,
      "metadata": {
        "id": "HfT3QbcSQv57",
        "colab": {
          "base_uri": "https://localhost:8080/"
        },
        "outputId": "2edffa89-5bbc-48e4-e66b-9c2d2bb6baf3"
      },
      "outputs": [
        {
          "output_type": "stream",
          "name": "stdout",
          "text": [
            "Namespace(seed=0, test_only=False, cpu=False, experiment='random', experiment_name='random/case3/cartoon/', experiment_args={'module_placement': ['layer4.1.conv2'], 'mask_out_ratio': 0.75}, dataset_args={'text_root': 'data', 'images_root': 'data/kfold/PACS', 'source_domain': 'art_painting', 'target_domain': 'cartoon'}, batch_size=128, epochs=30, num_workers=5, grad_accum_steps=1)\n",
            "mask_out_ratio:  0.75\n",
            "random_mask sum():  tensor(6311., device='cuda:0')\n",
            "Insert activation shaping layer after  layer4.1.conv2 Conv2d(512, 512, kernel_size=(3, 3), stride=(1, 1), padding=(1, 1), bias=False)\n"
          ]
        },
        {
          "output_type": "stream",
          "name": "stderr",
          "text": [
            "100%|██████████| 16/16 [00:07<00:00,  2.00it/s]\n",
            "100%|██████████| 19/19 [00:08<00:00,  2.31it/s]\n"
          ]
        },
        {
          "output_type": "stream",
          "name": "stdout",
          "text": [
            "Accuracy: 18.69 - Loss: 0.01592104752316003 \n",
            "\n"
          ]
        },
        {
          "output_type": "stream",
          "name": "stderr",
          "text": [
            "100%|██████████| 16/16 [00:07<00:00,  2.01it/s]\n",
            "100%|██████████| 19/19 [00:07<00:00,  2.54it/s]\n"
          ]
        },
        {
          "output_type": "stream",
          "name": "stdout",
          "text": [
            "Accuracy: 24.02 - Loss: 0.015258692738952898 \n",
            "\n"
          ]
        },
        {
          "output_type": "stream",
          "name": "stderr",
          "text": [
            "100%|██████████| 16/16 [00:07<00:00,  2.09it/s]\n",
            "100%|██████████| 19/19 [00:07<00:00,  2.49it/s]\n"
          ]
        },
        {
          "output_type": "stream",
          "name": "stdout",
          "text": [
            "Accuracy: 28.92 - Loss: 0.014870186968875012 \n",
            "\n"
          ]
        },
        {
          "output_type": "stream",
          "name": "stderr",
          "text": [
            "100%|██████████| 16/16 [00:07<00:00,  2.02it/s]\n",
            "100%|██████████| 19/19 [00:07<00:00,  2.69it/s]\n"
          ]
        },
        {
          "output_type": "stream",
          "name": "stdout",
          "text": [
            "Accuracy: 33.58 - Loss: 0.01445417629980797 \n",
            "\n"
          ]
        },
        {
          "output_type": "stream",
          "name": "stderr",
          "text": [
            "100%|██████████| 16/16 [00:08<00:00,  1.99it/s]\n",
            "100%|██████████| 19/19 [00:07<00:00,  2.68it/s]\n"
          ]
        },
        {
          "output_type": "stream",
          "name": "stdout",
          "text": [
            "Accuracy: 36.86 - Loss: 0.014113522532043196 \n",
            "\n"
          ]
        },
        {
          "output_type": "stream",
          "name": "stderr",
          "text": [
            "100%|██████████| 16/16 [00:08<00:00,  1.88it/s]\n",
            "100%|██████████| 19/19 [00:06<00:00,  2.96it/s]\n"
          ]
        },
        {
          "output_type": "stream",
          "name": "stdout",
          "text": [
            "Accuracy: 38.78 - Loss: 0.013855198391875309 \n",
            "\n"
          ]
        },
        {
          "output_type": "stream",
          "name": "stderr",
          "text": [
            "100%|██████████| 16/16 [00:08<00:00,  1.83it/s]\n",
            "100%|██████████| 19/19 [00:06<00:00,  2.98it/s]\n"
          ]
        },
        {
          "output_type": "stream",
          "name": "stdout",
          "text": [
            "Accuracy: 41.17 - Loss: 0.01355539979381366 \n",
            "\n"
          ]
        },
        {
          "output_type": "stream",
          "name": "stderr",
          "text": [
            "100%|██████████| 16/16 [00:09<00:00,  1.75it/s]\n",
            "100%|██████████| 19/19 [00:05<00:00,  3.24it/s]\n"
          ]
        },
        {
          "output_type": "stream",
          "name": "stdout",
          "text": [
            "Accuracy: 41.85 - Loss: 0.013360490062537861 \n",
            "\n"
          ]
        },
        {
          "output_type": "stream",
          "name": "stderr",
          "text": [
            "100%|██████████| 16/16 [00:11<00:00,  1.40it/s]\n",
            "100%|██████████| 19/19 [00:05<00:00,  3.34it/s]\n"
          ]
        },
        {
          "output_type": "stream",
          "name": "stdout",
          "text": [
            "Accuracy: 41.94 - Loss: 0.013190887995547402 \n",
            "\n"
          ]
        },
        {
          "output_type": "stream",
          "name": "stderr",
          "text": [
            "100%|██████████| 16/16 [00:09<00:00,  1.71it/s]\n",
            "100%|██████████| 19/19 [00:05<00:00,  3.31it/s]\n"
          ]
        },
        {
          "output_type": "stream",
          "name": "stdout",
          "text": [
            "Accuracy: 41.51 - Loss: 0.01306992657355481 \n",
            "\n"
          ]
        },
        {
          "output_type": "stream",
          "name": "stderr",
          "text": [
            "100%|██████████| 16/16 [00:09<00:00,  1.66it/s]\n",
            "100%|██████████| 19/19 [00:05<00:00,  3.33it/s]\n"
          ]
        },
        {
          "output_type": "stream",
          "name": "stdout",
          "text": [
            "Accuracy: 43.34 - Loss: 0.012859098231833135 \n",
            "\n"
          ]
        },
        {
          "output_type": "stream",
          "name": "stderr",
          "text": [
            "100%|██████████| 16/16 [00:09<00:00,  1.67it/s]\n",
            "100%|██████████| 19/19 [00:05<00:00,  3.39it/s]\n"
          ]
        },
        {
          "output_type": "stream",
          "name": "stdout",
          "text": [
            "Accuracy: 42.70 - Loss: 0.012844288003322614 \n",
            "\n"
          ]
        },
        {
          "output_type": "stream",
          "name": "stderr",
          "text": [
            "100%|██████████| 16/16 [00:09<00:00,  1.67it/s]\n",
            "100%|██████████| 19/19 [00:05<00:00,  3.30it/s]\n"
          ]
        },
        {
          "output_type": "stream",
          "name": "stdout",
          "text": [
            "Accuracy: 43.34 - Loss: 0.012646095693721706 \n",
            "\n"
          ]
        },
        {
          "output_type": "stream",
          "name": "stderr",
          "text": [
            "100%|██████████| 16/16 [00:09<00:00,  1.66it/s]\n",
            "100%|██████████| 19/19 [00:05<00:00,  3.33it/s]\n"
          ]
        },
        {
          "output_type": "stream",
          "name": "stdout",
          "text": [
            "Accuracy: 43.60 - Loss: 0.012573474910072092 \n",
            "\n"
          ]
        },
        {
          "output_type": "stream",
          "name": "stderr",
          "text": [
            "100%|██████████| 16/16 [00:09<00:00,  1.66it/s]\n",
            "100%|██████████| 19/19 [00:05<00:00,  3.35it/s]\n"
          ]
        },
        {
          "output_type": "stream",
          "name": "stdout",
          "text": [
            "Accuracy: 42.19 - Loss: 0.01262904078073469 \n",
            "\n"
          ]
        },
        {
          "output_type": "stream",
          "name": "stderr",
          "text": [
            "100%|██████████| 16/16 [00:09<00:00,  1.69it/s]\n",
            "100%|██████████| 19/19 [00:06<00:00,  3.15it/s]\n"
          ]
        },
        {
          "output_type": "stream",
          "name": "stdout",
          "text": [
            "Accuracy: 44.07 - Loss: 0.012461012642538181 \n",
            "\n"
          ]
        },
        {
          "output_type": "stream",
          "name": "stderr",
          "text": [
            "100%|██████████| 16/16 [00:09<00:00,  1.72it/s]\n",
            "100%|██████████| 19/19 [00:06<00:00,  2.92it/s]\n"
          ]
        },
        {
          "output_type": "stream",
          "name": "stdout",
          "text": [
            "Accuracy: 42.96 - Loss: 0.0123676902808427 \n",
            "\n"
          ]
        },
        {
          "output_type": "stream",
          "name": "stderr",
          "text": [
            "100%|██████████| 16/16 [00:08<00:00,  1.86it/s]\n",
            "100%|██████████| 19/19 [00:06<00:00,  2.77it/s]\n"
          ]
        },
        {
          "output_type": "stream",
          "name": "stdout",
          "text": [
            "Accuracy: 42.32 - Loss: 0.01241025913494032 \n",
            "\n"
          ]
        },
        {
          "output_type": "stream",
          "name": "stderr",
          "text": [
            "100%|██████████| 16/16 [00:08<00:00,  1.93it/s]\n",
            "100%|██████████| 19/19 [00:07<00:00,  2.60it/s]\n"
          ]
        },
        {
          "output_type": "stream",
          "name": "stdout",
          "text": [
            "Accuracy: 43.30 - Loss: 0.012252233032480441 \n",
            "\n"
          ]
        },
        {
          "output_type": "stream",
          "name": "stderr",
          "text": [
            "100%|██████████| 16/16 [00:07<00:00,  2.07it/s]\n",
            "100%|██████████| 19/19 [00:07<00:00,  2.53it/s]\n"
          ]
        },
        {
          "output_type": "stream",
          "name": "stdout",
          "text": [
            "Accuracy: 43.56 - Loss: 0.012160269422742695 \n",
            "\n"
          ]
        },
        {
          "output_type": "stream",
          "name": "stderr",
          "text": [
            "100%|██████████| 16/16 [00:07<00:00,  2.04it/s]\n",
            "100%|██████████| 19/19 [00:07<00:00,  2.52it/s]\n"
          ]
        },
        {
          "output_type": "stream",
          "name": "stdout",
          "text": [
            "Accuracy: 42.19 - Loss: 0.012222770893939933 \n",
            "\n"
          ]
        },
        {
          "output_type": "stream",
          "name": "stderr",
          "text": [
            "100%|██████████| 16/16 [00:07<00:00,  2.07it/s]\n",
            "100%|██████████| 19/19 [00:07<00:00,  2.53it/s]\n"
          ]
        },
        {
          "output_type": "stream",
          "name": "stdout",
          "text": [
            "Accuracy: 43.47 - Loss: 0.012083700339948765 \n",
            "\n"
          ]
        },
        {
          "output_type": "stream",
          "name": "stderr",
          "text": [
            "100%|██████████| 16/16 [00:08<00:00,  1.93it/s]\n",
            "100%|██████████| 19/19 [00:07<00:00,  2.59it/s]\n"
          ]
        },
        {
          "output_type": "stream",
          "name": "stdout",
          "text": [
            "Accuracy: 43.26 - Loss: 0.012042876345712578 \n",
            "\n"
          ]
        },
        {
          "output_type": "stream",
          "name": "stderr",
          "text": [
            "100%|██████████| 16/16 [00:08<00:00,  2.00it/s]\n",
            "100%|██████████| 19/19 [00:06<00:00,  2.72it/s]\n"
          ]
        },
        {
          "output_type": "stream",
          "name": "stdout",
          "text": [
            "Accuracy: 42.83 - Loss: 0.012136550639269703 \n",
            "\n"
          ]
        },
        {
          "output_type": "stream",
          "name": "stderr",
          "text": [
            "100%|██████████| 16/16 [00:08<00:00,  1.90it/s]\n",
            "100%|██████████| 19/19 [00:06<00:00,  2.81it/s]\n"
          ]
        },
        {
          "output_type": "stream",
          "name": "stdout",
          "text": [
            "Accuracy: 42.79 - Loss: 0.01211184532772559 \n",
            "\n"
          ]
        },
        {
          "output_type": "stream",
          "name": "stderr",
          "text": [
            "100%|██████████| 16/16 [00:08<00:00,  1.90it/s]\n",
            "100%|██████████| 19/19 [00:06<00:00,  2.84it/s]\n"
          ]
        },
        {
          "output_type": "stream",
          "name": "stdout",
          "text": [
            "Accuracy: 42.66 - Loss: 0.01214602452292784 \n",
            "\n"
          ]
        },
        {
          "output_type": "stream",
          "name": "stderr",
          "text": [
            "100%|██████████| 16/16 [00:10<00:00,  1.53it/s]\n",
            "100%|██████████| 19/19 [00:06<00:00,  2.93it/s]\n"
          ]
        },
        {
          "output_type": "stream",
          "name": "stdout",
          "text": [
            "Accuracy: 42.92 - Loss: 0.012096558618057304 \n",
            "\n"
          ]
        },
        {
          "output_type": "stream",
          "name": "stderr",
          "text": [
            "100%|██████████| 16/16 [00:08<00:00,  1.79it/s]\n",
            "100%|██████████| 19/19 [00:06<00:00,  3.06it/s]\n"
          ]
        },
        {
          "output_type": "stream",
          "name": "stdout",
          "text": [
            "Accuracy: 43.13 - Loss: 0.01210388592078824 \n",
            "\n"
          ]
        },
        {
          "output_type": "stream",
          "name": "stderr",
          "text": [
            "100%|██████████| 16/16 [00:09<00:00,  1.71it/s]\n",
            "100%|██████████| 19/19 [00:05<00:00,  3.22it/s]\n"
          ]
        },
        {
          "output_type": "stream",
          "name": "stdout",
          "text": [
            "Accuracy: 43.13 - Loss: 0.012061613818484362 \n",
            "\n"
          ]
        },
        {
          "output_type": "stream",
          "name": "stderr",
          "text": [
            "100%|██████████| 16/16 [00:09<00:00,  1.69it/s]\n",
            "100%|██████████| 19/19 [00:05<00:00,  3.25it/s]\n"
          ]
        },
        {
          "output_type": "stream",
          "name": "stdout",
          "text": [
            "Accuracy: 43.00 - Loss: 0.012058371671637577 \n",
            "\n"
          ]
        }
      ],
      "source": [
        "warnings.filterwarnings('ignore', category=UserWarning)\n",
        "\n",
        "# Parse arguments\n",
        "conf = { # Photo\n",
        "    'seed': 0,\n",
        "    'test_only': False,\n",
        "    'cpu': False,\n",
        "    'experiment': 'random',\n",
        "    'experiment_name': 'random/case3/cartoon/',\n",
        "    'experiment_args': {'module_placement': ['layer4.1.conv2'], 'mask_out_ratio': 0.75},\n",
        "    'dataset_args': {'text_root': 'data', 'images_root': 'data/kfold/PACS', 'source_domain': 'art_painting', 'target_domain': 'cartoon' },\n",
        "    'batch_size': 128,\n",
        "    'epochs': 30,\n",
        "    'num_workers': 5,\n",
        "    'grad_accum_steps': 1\n",
        "}\n",
        "\n",
        "args = argparse.Namespace(**conf)\n",
        "print(args)\n",
        "CONFIG.update(vars(args))\n",
        "\n",
        "# Setup output directory\n",
        "CONFIG.save_dir = os.path.join('record', CONFIG.experiment_name)\n",
        "os.makedirs(CONFIG.save_dir, exist_ok=True)\n",
        "\n",
        "# Setup logging\n",
        "logging.basicConfig(\n",
        "    filename=os.path.join(CONFIG.save_dir, 'log.txt'),\n",
        "    format='%(message)s',\n",
        "    level=logging.INFO,\n",
        "    filemode='a'\n",
        ")\n",
        "\n",
        "# Set experiment's device & deterministic behavior\n",
        "if CONFIG.cpu: CONFIG.device = 'cpu'\n",
        "else: CONFIG.device = 'cuda' if torch.cuda.is_available() else 'cpu'\n",
        "\n",
        "torch.manual_seed(CONFIG.seed)\n",
        "random.seed(CONFIG.seed)\n",
        "np.random.seed(CONFIG.seed)\n",
        "torch.backends.cudnn.benchmark = True\n",
        "torch.use_deterministic_algorithms(mode=True, warn_only=True)\n",
        "\n",
        "main()"
      ]
    },
    {
      "cell_type": "markdown",
      "metadata": {
        "id": "SoxtIzUbQv57"
      },
      "source": [
        "Art Painting &rightarrow; Sketch"
      ]
    },
    {
      "cell_type": "code",
      "execution_count": 19,
      "metadata": {
        "id": "QO9QlL9HQv57",
        "colab": {
          "base_uri": "https://localhost:8080/"
        },
        "outputId": "6d539d8a-9089-4cec-8589-435b941131c9"
      },
      "outputs": [
        {
          "output_type": "stream",
          "name": "stdout",
          "text": [
            "Namespace(seed=0, test_only=False, cpu=False, experiment='random', experiment_name='random/case3/sketch/', experiment_args={'module_placement': ['layer4.1.conv2'], 'mask_out_ratio': 0.75}, dataset_args={'text_root': 'data', 'images_root': 'data/kfold/PACS', 'source_domain': 'art_painting', 'target_domain': 'sketch'}, batch_size=128, epochs=30, num_workers=5, grad_accum_steps=1)\n",
            "mask_out_ratio:  0.75\n",
            "random_mask sum():  tensor(6311., device='cuda:0')\n",
            "Insert activation shaping layer after  layer4.1.conv2 Conv2d(512, 512, kernel_size=(3, 3), stride=(1, 1), padding=(1, 1), bias=False)\n"
          ]
        },
        {
          "output_type": "stream",
          "name": "stderr",
          "text": [
            "100%|██████████| 16/16 [00:08<00:00,  1.97it/s]\n",
            "100%|██████████| 31/31 [00:12<00:00,  2.50it/s]\n"
          ]
        },
        {
          "output_type": "stream",
          "name": "stdout",
          "text": [
            "Accuracy: 4.25 - Loss: 0.016792403131564115 \n",
            "\n"
          ]
        },
        {
          "output_type": "stream",
          "name": "stderr",
          "text": [
            "100%|██████████| 16/16 [00:09<00:00,  1.67it/s]\n",
            "100%|██████████| 31/31 [00:12<00:00,  2.58it/s]\n"
          ]
        },
        {
          "output_type": "stream",
          "name": "stdout",
          "text": [
            "Accuracy: 6.13 - Loss: 0.01616382240854653 \n",
            "\n"
          ]
        },
        {
          "output_type": "stream",
          "name": "stderr",
          "text": [
            "100%|██████████| 16/16 [00:08<00:00,  1.94it/s]\n",
            "100%|██████████| 31/31 [00:11<00:00,  2.63it/s]\n"
          ]
        },
        {
          "output_type": "stream",
          "name": "stdout",
          "text": [
            "Accuracy: 9.67 - Loss: 0.01582134564919883 \n",
            "\n"
          ]
        },
        {
          "output_type": "stream",
          "name": "stderr",
          "text": [
            "100%|██████████| 16/16 [00:08<00:00,  1.85it/s]\n",
            "100%|██████████| 31/31 [00:12<00:00,  2.41it/s]\n"
          ]
        },
        {
          "output_type": "stream",
          "name": "stdout",
          "text": [
            "Accuracy: 13.01 - Loss: 0.015632330749319478 \n",
            "\n"
          ]
        },
        {
          "output_type": "stream",
          "name": "stderr",
          "text": [
            "100%|██████████| 16/16 [00:09<00:00,  1.74it/s]\n",
            "100%|██████████| 31/31 [00:11<00:00,  2.60it/s]\n"
          ]
        },
        {
          "output_type": "stream",
          "name": "stdout",
          "text": [
            "Accuracy: 18.68 - Loss: 0.015399772843564549 \n",
            "\n"
          ]
        },
        {
          "output_type": "stream",
          "name": "stderr",
          "text": [
            "100%|██████████| 16/16 [00:07<00:00,  2.08it/s]\n",
            "100%|██████████| 31/31 [00:11<00:00,  2.60it/s]\n"
          ]
        },
        {
          "output_type": "stream",
          "name": "stdout",
          "text": [
            "Accuracy: 20.92 - Loss: 0.015298358293913435 \n",
            "\n"
          ]
        },
        {
          "output_type": "stream",
          "name": "stderr",
          "text": [
            "100%|██████████| 16/16 [00:09<00:00,  1.63it/s]\n",
            "100%|██████████| 31/31 [00:11<00:00,  2.80it/s]\n"
          ]
        },
        {
          "output_type": "stream",
          "name": "stdout",
          "text": [
            "Accuracy: 24.03 - Loss: 0.015070536689437902 \n",
            "\n"
          ]
        },
        {
          "output_type": "stream",
          "name": "stderr",
          "text": [
            "100%|██████████| 16/16 [00:08<00:00,  1.93it/s]\n",
            "100%|██████████| 31/31 [00:11<00:00,  2.59it/s]\n"
          ]
        },
        {
          "output_type": "stream",
          "name": "stdout",
          "text": [
            "Accuracy: 26.83 - Loss: 0.014976663181696208 \n",
            "\n"
          ]
        },
        {
          "output_type": "stream",
          "name": "stderr",
          "text": [
            "100%|██████████| 16/16 [00:08<00:00,  1.79it/s]\n",
            "100%|██████████| 31/31 [00:10<00:00,  2.98it/s]\n"
          ]
        },
        {
          "output_type": "stream",
          "name": "stdout",
          "text": [
            "Accuracy: 28.02 - Loss: 0.014784561098001178 \n",
            "\n"
          ]
        },
        {
          "output_type": "stream",
          "name": "stderr",
          "text": [
            "100%|██████████| 16/16 [00:09<00:00,  1.66it/s]\n",
            "100%|██████████| 31/31 [00:11<00:00,  2.62it/s]\n"
          ]
        },
        {
          "output_type": "stream",
          "name": "stdout",
          "text": [
            "Accuracy: 29.68 - Loss: 0.014660778467999248 \n",
            "\n"
          ]
        },
        {
          "output_type": "stream",
          "name": "stderr",
          "text": [
            "100%|██████████| 16/16 [00:07<00:00,  2.09it/s]\n",
            "100%|██████████| 31/31 [00:11<00:00,  2.62it/s]\n"
          ]
        },
        {
          "output_type": "stream",
          "name": "stdout",
          "text": [
            "Accuracy: 30.26 - Loss: 0.01456377147626986 \n",
            "\n"
          ]
        },
        {
          "output_type": "stream",
          "name": "stderr",
          "text": [
            "100%|██████████| 16/16 [00:09<00:00,  1.67it/s]\n",
            "100%|██████████| 31/31 [00:10<00:00,  2.92it/s]\n"
          ]
        },
        {
          "output_type": "stream",
          "name": "stdout",
          "text": [
            "Accuracy: 31.66 - Loss: 0.014494240208113882 \n",
            "\n"
          ]
        },
        {
          "output_type": "stream",
          "name": "stderr",
          "text": [
            "100%|██████████| 16/16 [00:08<00:00,  1.80it/s]\n",
            "100%|██████████| 31/31 [00:11<00:00,  2.60it/s]\n"
          ]
        },
        {
          "output_type": "stream",
          "name": "stdout",
          "text": [
            "Accuracy: 31.84 - Loss: 0.014427894488883462 \n",
            "\n"
          ]
        },
        {
          "output_type": "stream",
          "name": "stderr",
          "text": [
            "100%|██████████| 16/16 [00:08<00:00,  1.99it/s]\n",
            "100%|██████████| 31/31 [00:11<00:00,  2.75it/s]\n"
          ]
        },
        {
          "output_type": "stream",
          "name": "stdout",
          "text": [
            "Accuracy: 32.68 - Loss: 0.014373102877454984 \n",
            "\n"
          ]
        },
        {
          "output_type": "stream",
          "name": "stderr",
          "text": [
            "100%|██████████| 16/16 [00:09<00:00,  1.69it/s]\n",
            "100%|██████████| 31/31 [00:11<00:00,  2.65it/s]\n"
          ]
        },
        {
          "output_type": "stream",
          "name": "stdout",
          "text": [
            "Accuracy: 31.89 - Loss: 0.01436404819007926 \n",
            "\n"
          ]
        },
        {
          "output_type": "stream",
          "name": "stderr",
          "text": [
            "100%|██████████| 16/16 [00:07<00:00,  2.10it/s]\n",
            "100%|██████████| 31/31 [00:11<00:00,  2.62it/s]\n"
          ]
        },
        {
          "output_type": "stream",
          "name": "stdout",
          "text": [
            "Accuracy: 33.70 - Loss: 0.01429020008321147 \n",
            "\n"
          ]
        },
        {
          "output_type": "stream",
          "name": "stderr",
          "text": [
            "100%|██████████| 16/16 [00:08<00:00,  1.78it/s]\n",
            "100%|██████████| 31/31 [00:10<00:00,  2.98it/s]\n"
          ]
        },
        {
          "output_type": "stream",
          "name": "stdout",
          "text": [
            "Accuracy: 33.93 - Loss: 0.014312910105199661 \n",
            "\n"
          ]
        },
        {
          "output_type": "stream",
          "name": "stderr",
          "text": [
            "100%|██████████| 16/16 [00:09<00:00,  1.69it/s]\n",
            "100%|██████████| 31/31 [00:13<00:00,  2.27it/s]\n"
          ]
        },
        {
          "output_type": "stream",
          "name": "stdout",
          "text": [
            "Accuracy: 34.05 - Loss: 0.014270934296431023 \n",
            "\n"
          ]
        },
        {
          "output_type": "stream",
          "name": "stderr",
          "text": [
            "100%|██████████| 16/16 [00:08<00:00,  1.95it/s]\n",
            "100%|██████████| 31/31 [00:11<00:00,  2.81it/s]\n"
          ]
        },
        {
          "output_type": "stream",
          "name": "stdout",
          "text": [
            "Accuracy: 35.20 - Loss: 0.014217689644747273 \n",
            "\n"
          ]
        },
        {
          "output_type": "stream",
          "name": "stderr",
          "text": [
            "100%|██████████| 16/16 [00:09<00:00,  1.70it/s]\n",
            "100%|██████████| 31/31 [00:11<00:00,  2.61it/s]\n"
          ]
        },
        {
          "output_type": "stream",
          "name": "stdout",
          "text": [
            "Accuracy: 35.99 - Loss: 0.014224979706956218 \n",
            "\n"
          ]
        },
        {
          "output_type": "stream",
          "name": "stderr",
          "text": [
            "100%|██████████| 16/16 [00:07<00:00,  2.09it/s]\n",
            "100%|██████████| 31/31 [00:11<00:00,  2.62it/s]\n"
          ]
        },
        {
          "output_type": "stream",
          "name": "stdout",
          "text": [
            "Accuracy: 35.38 - Loss: 0.014277994556868765 \n",
            "\n"
          ]
        },
        {
          "output_type": "stream",
          "name": "stderr",
          "text": [
            "100%|██████████| 16/16 [00:09<00:00,  1.73it/s]\n",
            "100%|██████████| 31/31 [00:10<00:00,  3.09it/s]\n"
          ]
        },
        {
          "output_type": "stream",
          "name": "stdout",
          "text": [
            "Accuracy: 36.22 - Loss: 0.014229634118219708 \n",
            "\n"
          ]
        },
        {
          "output_type": "stream",
          "name": "stderr",
          "text": [
            "100%|██████████| 16/16 [00:09<00:00,  1.71it/s]\n",
            "100%|██████████| 31/31 [00:11<00:00,  2.59it/s]\n"
          ]
        },
        {
          "output_type": "stream",
          "name": "stdout",
          "text": [
            "Accuracy: 36.40 - Loss: 0.014173929367880993 \n",
            "\n"
          ]
        },
        {
          "output_type": "stream",
          "name": "stderr",
          "text": [
            "100%|██████████| 16/16 [00:07<00:00,  2.10it/s]\n",
            "100%|██████████| 31/31 [00:11<00:00,  2.63it/s]\n"
          ]
        },
        {
          "output_type": "stream",
          "name": "stdout",
          "text": [
            "Accuracy: 35.99 - Loss: 0.01418135286924887 \n",
            "\n"
          ]
        },
        {
          "output_type": "stream",
          "name": "stderr",
          "text": [
            "100%|██████████| 16/16 [00:09<00:00,  1.69it/s]\n",
            "100%|██████████| 31/31 [00:10<00:00,  2.82it/s]\n"
          ]
        },
        {
          "output_type": "stream",
          "name": "stdout",
          "text": [
            "Accuracy: 36.57 - Loss: 0.014145242375980416 \n",
            "\n"
          ]
        },
        {
          "output_type": "stream",
          "name": "stderr",
          "text": [
            "100%|██████████| 16/16 [00:08<00:00,  1.95it/s]\n",
            "100%|██████████| 31/31 [00:11<00:00,  2.61it/s]\n"
          ]
        },
        {
          "output_type": "stream",
          "name": "stdout",
          "text": [
            "Accuracy: 36.55 - Loss: 0.014171752046161282 \n",
            "\n"
          ]
        },
        {
          "output_type": "stream",
          "name": "stderr",
          "text": [
            "100%|██████████| 16/16 [00:08<00:00,  1.99it/s]\n",
            "100%|██████████| 31/31 [00:11<00:00,  2.78it/s]\n"
          ]
        },
        {
          "output_type": "stream",
          "name": "stdout",
          "text": [
            "Accuracy: 36.91 - Loss: 0.014183647852873614 \n",
            "\n"
          ]
        },
        {
          "output_type": "stream",
          "name": "stderr",
          "text": [
            "100%|██████████| 16/16 [00:09<00:00,  1.66it/s]\n",
            "100%|██████████| 31/31 [00:11<00:00,  2.62it/s]\n"
          ]
        },
        {
          "output_type": "stream",
          "name": "stdout",
          "text": [
            "Accuracy: 36.78 - Loss: 0.014144822215572754 \n",
            "\n"
          ]
        },
        {
          "output_type": "stream",
          "name": "stderr",
          "text": [
            "100%|██████████| 16/16 [00:07<00:00,  2.09it/s]\n",
            "100%|██████████| 31/31 [00:11<00:00,  2.62it/s]\n"
          ]
        },
        {
          "output_type": "stream",
          "name": "stdout",
          "text": [
            "Accuracy: 37.47 - Loss: 0.01414790254235116 \n",
            "\n"
          ]
        },
        {
          "output_type": "stream",
          "name": "stderr",
          "text": [
            "100%|██████████| 16/16 [00:08<00:00,  1.79it/s]\n",
            "100%|██████████| 31/31 [00:10<00:00,  3.01it/s]\n"
          ]
        },
        {
          "output_type": "stream",
          "name": "stdout",
          "text": [
            "Accuracy: 37.29 - Loss: 0.014151626581088615 \n",
            "\n"
          ]
        }
      ],
      "source": [
        "warnings.filterwarnings('ignore', category=UserWarning)\n",
        "\n",
        "# Parse arguments\n",
        "conf = { # Photo\n",
        "    'seed': 0,\n",
        "    'test_only': False,\n",
        "    'cpu': False,\n",
        "    'experiment': 'random',\n",
        "    'experiment_name': 'random/case3/sketch/',\n",
        "    'experiment_args': {'module_placement': ['layer4.1.conv2'], 'mask_out_ratio': 0.75},\n",
        "    'dataset_args': {'text_root': 'data', 'images_root': 'data/kfold/PACS', 'source_domain': 'art_painting', 'target_domain': 'sketch' },\n",
        "    'batch_size': 128,\n",
        "    'epochs': 30,\n",
        "    'num_workers': 5,\n",
        "    'grad_accum_steps': 1\n",
        "}\n",
        "\n",
        "args = argparse.Namespace(**conf)\n",
        "print(args)\n",
        "CONFIG.update(vars(args))\n",
        "\n",
        "# Setup output directory\n",
        "CONFIG.save_dir = os.path.join('record', CONFIG.experiment_name)\n",
        "os.makedirs(CONFIG.save_dir, exist_ok=True)\n",
        "\n",
        "# Setup logging\n",
        "logging.basicConfig(\n",
        "    filename=os.path.join(CONFIG.save_dir, 'log.txt'),\n",
        "    format='%(message)s',\n",
        "    level=logging.INFO,\n",
        "    filemode='a'\n",
        ")\n",
        "\n",
        "# Set experiment's device & deterministic behavior\n",
        "if CONFIG.cpu: CONFIG.device = 'cpu'\n",
        "else: CONFIG.device = 'cuda' if torch.cuda.is_available() else 'cpu'\n",
        "\n",
        "torch.manual_seed(CONFIG.seed)\n",
        "random.seed(CONFIG.seed)\n",
        "np.random.seed(CONFIG.seed)\n",
        "torch.backends.cudnn.benchmark = True\n",
        "torch.use_deterministic_algorithms(mode=True, warn_only=True)\n",
        "\n",
        "main()"
      ]
    },
    {
      "cell_type": "markdown",
      "metadata": {
        "id": "CrQDvAgjQv58"
      },
      "source": [
        "Art Painting &rightarrow; Photo"
      ]
    },
    {
      "cell_type": "code",
      "execution_count": 32,
      "metadata": {
        "id": "UzNpFJtPQv58",
        "colab": {
          "base_uri": "https://localhost:8080/"
        },
        "outputId": "3591d640-7f23-448e-bf8f-9ada773b4042"
      },
      "outputs": [
        {
          "output_type": "stream",
          "name": "stdout",
          "text": [
            "Namespace(seed=0, test_only=False, cpu=False, experiment='random', experiment_name='random/case3/photo/', experiment_args={'module_placement': ['layer4.1.conv2'], 'mask_out_ratio': 0.75}, dataset_args={'text_root': 'data', 'images_root': 'data/kfold/PACS', 'source_domain': 'art_painting', 'target_domain': 'photo'}, batch_size=128, epochs=30, num_workers=5, grad_accum_steps=1)\n",
            "mask_out_ratio:  0.75\n",
            "random_mask sum():  tensor(6311., device='cuda:0')\n",
            "Insert activation shaping layer after  layer4.1.conv2 Conv2d(512, 512, kernel_size=(3, 3), stride=(1, 1), padding=(1, 1), bias=False)\n"
          ]
        },
        {
          "output_type": "stream",
          "name": "stderr",
          "text": [
            "100%|██████████| 16/16 [00:09<00:00,  1.61it/s]\n",
            "100%|██████████| 14/14 [00:05<00:00,  2.63it/s]\n"
          ]
        },
        {
          "output_type": "stream",
          "name": "stdout",
          "text": [
            "Accuracy: 25.81 - Loss: 0.01563748799398274 \n",
            "\n"
          ]
        },
        {
          "output_type": "stream",
          "name": "stderr",
          "text": [
            "100%|██████████| 16/16 [00:09<00:00,  1.66it/s]\n",
            "100%|██████████| 14/14 [00:04<00:00,  3.04it/s]\n"
          ]
        },
        {
          "output_type": "stream",
          "name": "stdout",
          "text": [
            "Accuracy: 38.32 - Loss: 0.014698316379935442 \n",
            "\n"
          ]
        },
        {
          "output_type": "stream",
          "name": "stderr",
          "text": [
            "100%|██████████| 16/16 [00:09<00:00,  1.73it/s]\n",
            "100%|██████████| 14/14 [00:04<00:00,  3.38it/s]\n"
          ]
        },
        {
          "output_type": "stream",
          "name": "stdout",
          "text": [
            "Accuracy: 47.96 - Loss: 0.013520818341991859 \n",
            "\n"
          ]
        },
        {
          "output_type": "stream",
          "name": "stderr",
          "text": [
            "100%|██████████| 16/16 [00:09<00:00,  1.70it/s]\n",
            "100%|██████████| 14/14 [00:04<00:00,  3.43it/s]\n"
          ]
        },
        {
          "output_type": "stream",
          "name": "stdout",
          "text": [
            "Accuracy: 53.83 - Loss: 0.012565283860988959 \n",
            "\n"
          ]
        },
        {
          "output_type": "stream",
          "name": "stderr",
          "text": [
            "100%|██████████| 16/16 [00:10<00:00,  1.56it/s]\n",
            "100%|██████████| 14/14 [00:04<00:00,  3.36it/s]\n"
          ]
        },
        {
          "output_type": "stream",
          "name": "stdout",
          "text": [
            "Accuracy: 59.22 - Loss: 0.011773655728665655 \n",
            "\n"
          ]
        },
        {
          "output_type": "stream",
          "name": "stderr",
          "text": [
            "100%|██████████| 16/16 [00:09<00:00,  1.70it/s]\n",
            "100%|██████████| 14/14 [00:04<00:00,  3.37it/s]\n"
          ]
        },
        {
          "output_type": "stream",
          "name": "stdout",
          "text": [
            "Accuracy: 63.95 - Loss: 0.011006769876994059 \n",
            "\n"
          ]
        },
        {
          "output_type": "stream",
          "name": "stderr",
          "text": [
            "100%|██████████| 16/16 [00:09<00:00,  1.70it/s]\n",
            "100%|██████████| 14/14 [00:04<00:00,  3.29it/s]\n"
          ]
        },
        {
          "output_type": "stream",
          "name": "stdout",
          "text": [
            "Accuracy: 68.56 - Loss: 0.010392296028708269 \n",
            "\n"
          ]
        },
        {
          "output_type": "stream",
          "name": "stderr",
          "text": [
            "100%|██████████| 16/16 [00:10<00:00,  1.54it/s]\n",
            "100%|██████████| 14/14 [00:04<00:00,  2.82it/s]\n"
          ]
        },
        {
          "output_type": "stream",
          "name": "stdout",
          "text": [
            "Accuracy: 72.28 - Loss: 0.00980700282993431 \n",
            "\n"
          ]
        },
        {
          "output_type": "stream",
          "name": "stderr",
          "text": [
            "100%|██████████| 16/16 [00:08<00:00,  1.78it/s]\n",
            "100%|██████████| 14/14 [00:04<00:00,  3.11it/s]\n"
          ]
        },
        {
          "output_type": "stream",
          "name": "stdout",
          "text": [
            "Accuracy: 74.73 - Loss: 0.00933350945661168 \n",
            "\n"
          ]
        },
        {
          "output_type": "stream",
          "name": "stderr",
          "text": [
            "100%|██████████| 16/16 [00:08<00:00,  1.85it/s]\n",
            "100%|██████████| 14/14 [00:05<00:00,  2.80it/s]\n"
          ]
        },
        {
          "output_type": "stream",
          "name": "stdout",
          "text": [
            "Accuracy: 76.77 - Loss: 0.008890906529512235 \n",
            "\n"
          ]
        },
        {
          "output_type": "stream",
          "name": "stderr",
          "text": [
            "100%|██████████| 16/16 [00:07<00:00,  2.04it/s]\n",
            "100%|██████████| 14/14 [00:05<00:00,  2.46it/s]\n"
          ]
        },
        {
          "output_type": "stream",
          "name": "stdout",
          "text": [
            "Accuracy: 78.38 - Loss: 0.008468804387989158 \n",
            "\n"
          ]
        },
        {
          "output_type": "stream",
          "name": "stderr",
          "text": [
            "100%|██████████| 16/16 [00:07<00:00,  2.06it/s]\n",
            "100%|██████████| 14/14 [00:05<00:00,  2.34it/s]\n"
          ]
        },
        {
          "output_type": "stream",
          "name": "stdout",
          "text": [
            "Accuracy: 80.18 - Loss: 0.008137900636581603 \n",
            "\n"
          ]
        },
        {
          "output_type": "stream",
          "name": "stderr",
          "text": [
            "100%|██████████| 16/16 [00:07<00:00,  2.06it/s]\n",
            "100%|██████████| 14/14 [00:05<00:00,  2.40it/s]\n"
          ]
        },
        {
          "output_type": "stream",
          "name": "stdout",
          "text": [
            "Accuracy: 81.80 - Loss: 0.007730793346188026 \n",
            "\n"
          ]
        },
        {
          "output_type": "stream",
          "name": "stderr",
          "text": [
            "100%|██████████| 16/16 [00:07<00:00,  2.02it/s]\n",
            "100%|██████████| 14/14 [00:05<00:00,  2.55it/s]\n"
          ]
        },
        {
          "output_type": "stream",
          "name": "stdout",
          "text": [
            "Accuracy: 82.51 - Loss: 0.0074835660571823575 \n",
            "\n"
          ]
        },
        {
          "output_type": "stream",
          "name": "stderr",
          "text": [
            "100%|██████████| 16/16 [00:07<00:00,  2.02it/s]\n",
            "100%|██████████| 14/14 [00:05<00:00,  2.76it/s]\n"
          ]
        },
        {
          "output_type": "stream",
          "name": "stdout",
          "text": [
            "Accuracy: 83.11 - Loss: 0.007184912880023797 \n",
            "\n"
          ]
        },
        {
          "output_type": "stream",
          "name": "stderr",
          "text": [
            "100%|██████████| 16/16 [00:08<00:00,  1.87it/s]\n",
            "100%|██████████| 14/14 [00:04<00:00,  3.05it/s]\n"
          ]
        },
        {
          "output_type": "stream",
          "name": "stdout",
          "text": [
            "Accuracy: 84.31 - Loss: 0.006928119366754315 \n",
            "\n"
          ]
        },
        {
          "output_type": "stream",
          "name": "stderr",
          "text": [
            "100%|██████████| 16/16 [00:09<00:00,  1.76it/s]\n",
            "100%|██████████| 14/14 [00:04<00:00,  3.36it/s]\n"
          ]
        },
        {
          "output_type": "stream",
          "name": "stdout",
          "text": [
            "Accuracy: 84.91 - Loss: 0.00664922402290527 \n",
            "\n"
          ]
        },
        {
          "output_type": "stream",
          "name": "stderr",
          "text": [
            "100%|██████████| 16/16 [00:09<00:00,  1.70it/s]\n",
            "100%|██████████| 14/14 [00:04<00:00,  3.31it/s]\n"
          ]
        },
        {
          "output_type": "stream",
          "name": "stdout",
          "text": [
            "Accuracy: 85.33 - Loss: 0.006437225077680485 \n",
            "\n"
          ]
        },
        {
          "output_type": "stream",
          "name": "stderr",
          "text": [
            "100%|██████████| 16/16 [00:09<00:00,  1.68it/s]\n",
            "100%|██████████| 14/14 [00:04<00:00,  3.35it/s]\n"
          ]
        },
        {
          "output_type": "stream",
          "name": "stdout",
          "text": [
            "Accuracy: 85.63 - Loss: 0.006235811631836577 \n",
            "\n"
          ]
        },
        {
          "output_type": "stream",
          "name": "stderr",
          "text": [
            "100%|██████████| 16/16 [00:09<00:00,  1.68it/s]\n",
            "100%|██████████| 14/14 [00:04<00:00,  3.38it/s]\n"
          ]
        },
        {
          "output_type": "stream",
          "name": "stdout",
          "text": [
            "Accuracy: 86.77 - Loss: 0.006003553995829142 \n",
            "\n"
          ]
        },
        {
          "output_type": "stream",
          "name": "stderr",
          "text": [
            "100%|██████████| 16/16 [00:09<00:00,  1.66it/s]\n",
            "100%|██████████| 14/14 [00:04<00:00,  3.38it/s]\n"
          ]
        },
        {
          "output_type": "stream",
          "name": "stdout",
          "text": [
            "Accuracy: 86.65 - Loss: 0.0057905335626202425 \n",
            "\n"
          ]
        },
        {
          "output_type": "stream",
          "name": "stderr",
          "text": [
            "100%|██████████| 16/16 [00:09<00:00,  1.68it/s]\n",
            "100%|██████████| 14/14 [00:04<00:00,  3.43it/s]\n"
          ]
        },
        {
          "output_type": "stream",
          "name": "stdout",
          "text": [
            "Accuracy: 86.95 - Loss: 0.005609587423815699 \n",
            "\n"
          ]
        },
        {
          "output_type": "stream",
          "name": "stderr",
          "text": [
            "100%|██████████| 16/16 [00:09<00:00,  1.69it/s]\n",
            "100%|██████████| 14/14 [00:04<00:00,  3.27it/s]\n"
          ]
        },
        {
          "output_type": "stream",
          "name": "stdout",
          "text": [
            "Accuracy: 87.01 - Loss: 0.005471849477219725 \n",
            "\n"
          ]
        },
        {
          "output_type": "stream",
          "name": "stderr",
          "text": [
            "100%|██████████| 16/16 [00:08<00:00,  1.81it/s]\n",
            "100%|██████████| 14/14 [00:04<00:00,  2.96it/s]\n"
          ]
        },
        {
          "output_type": "stream",
          "name": "stdout",
          "text": [
            "Accuracy: 87.96 - Loss: 0.005337232244228889 \n",
            "\n"
          ]
        },
        {
          "output_type": "stream",
          "name": "stderr",
          "text": [
            "100%|██████████| 16/16 [00:08<00:00,  1.98it/s]\n",
            "100%|██████████| 14/14 [00:05<00:00,  2.57it/s]\n"
          ]
        },
        {
          "output_type": "stream",
          "name": "stdout",
          "text": [
            "Accuracy: 87.90 - Loss: 0.005320116538487509 \n",
            "\n"
          ]
        },
        {
          "output_type": "stream",
          "name": "stderr",
          "text": [
            "100%|██████████| 16/16 [00:07<00:00,  2.05it/s]\n",
            "100%|██████████| 14/14 [00:05<00:00,  2.37it/s]\n"
          ]
        },
        {
          "output_type": "stream",
          "name": "stdout",
          "text": [
            "Accuracy: 88.14 - Loss: 0.005284602021028896 \n",
            "\n"
          ]
        },
        {
          "output_type": "stream",
          "name": "stderr",
          "text": [
            "100%|██████████| 16/16 [00:07<00:00,  2.10it/s]\n",
            "100%|██████████| 14/14 [00:06<00:00,  2.29it/s]\n"
          ]
        },
        {
          "output_type": "stream",
          "name": "stdout",
          "text": [
            "Accuracy: 87.90 - Loss: 0.005248554737981922 \n",
            "\n"
          ]
        },
        {
          "output_type": "stream",
          "name": "stderr",
          "text": [
            "100%|██████████| 16/16 [00:07<00:00,  2.07it/s]\n",
            "100%|██████████| 14/14 [00:05<00:00,  2.59it/s]\n"
          ]
        },
        {
          "output_type": "stream",
          "name": "stdout",
          "text": [
            "Accuracy: 88.02 - Loss: 0.005243179719605132 \n",
            "\n"
          ]
        },
        {
          "output_type": "stream",
          "name": "stderr",
          "text": [
            "100%|██████████| 16/16 [00:10<00:00,  1.53it/s]\n",
            "100%|██████████| 14/14 [00:06<00:00,  2.24it/s]\n"
          ]
        },
        {
          "output_type": "stream",
          "name": "stdout",
          "text": [
            "Accuracy: 87.90 - Loss: 0.0052470312503997436 \n",
            "\n"
          ]
        },
        {
          "output_type": "stream",
          "name": "stderr",
          "text": [
            "100%|██████████| 16/16 [00:07<00:00,  2.04it/s]\n",
            "100%|██████████| 14/14 [00:06<00:00,  2.24it/s]\n"
          ]
        },
        {
          "output_type": "stream",
          "name": "stdout",
          "text": [
            "Accuracy: 87.96 - Loss: 0.005236520238979134 \n",
            "\n"
          ]
        }
      ],
      "source": [
        "warnings.filterwarnings('ignore', category=UserWarning)\n",
        "\n",
        "# Parse arguments\n",
        "conf = { # Photo\n",
        "    'seed': 0,\n",
        "    'test_only': False,\n",
        "    'cpu': False,\n",
        "    'experiment': 'random',\n",
        "    'experiment_name': 'random/case3/photo/',\n",
        "    'experiment_args': {'module_placement': ['layer4.1.conv2'], 'mask_out_ratio': 0.75},\n",
        "    'dataset_args': {'text_root': 'data', 'images_root': 'data/kfold/PACS', 'source_domain': 'art_painting', 'target_domain': 'photo' },\n",
        "    'batch_size': 128,\n",
        "    'epochs': 30,\n",
        "    'num_workers': 5,\n",
        "    'grad_accum_steps': 1\n",
        "}\n",
        "\n",
        "args = argparse.Namespace(**conf)\n",
        "print(args)\n",
        "CONFIG.update(vars(args))\n",
        "\n",
        "# Setup output directory\n",
        "CONFIG.save_dir = os.path.join('record', CONFIG.experiment_name)\n",
        "os.makedirs(CONFIG.save_dir, exist_ok=True)\n",
        "\n",
        "# Setup logging\n",
        "logging.basicConfig(\n",
        "    filename=os.path.join(CONFIG.save_dir, 'log.txt'),\n",
        "    format='%(message)s',\n",
        "    level=logging.INFO,\n",
        "    filemode='a'\n",
        ")\n",
        "\n",
        "# Set experiment's device & deterministic behavior\n",
        "if CONFIG.cpu: CONFIG.device = 'cpu'\n",
        "else: CONFIG.device = 'cuda' if torch.cuda.is_available() else 'cpu'\n",
        "\n",
        "torch.manual_seed(CONFIG.seed)\n",
        "random.seed(CONFIG.seed)\n",
        "np.random.seed(CONFIG.seed)\n",
        "torch.backends.cudnn.benchmark = True\n",
        "torch.use_deterministic_algorithms(mode=True, warn_only=True)\n",
        "\n",
        "main()"
      ]
    },
    {
      "cell_type": "markdown",
      "metadata": {
        "id": "84SPtogfvmv3"
      },
      "source": [
        "## 3 - Adapting Activation Maps across Domains"
      ]
    },
    {
      "cell_type": "markdown",
      "metadata": {
        "id": "lMwxcUU9vmv3"
      },
      "source": [
        "## Ext. 2 - Binarization Ablation"
      ]
    }
  ],
  "metadata": {
    "accelerator": "GPU",
    "colab": {
      "gpuType": "T4",
      "provenance": []
    },
    "kernelspec": {
      "display_name": "Python 3",
      "name": "python3"
    },
    "language_info": {
      "codemirror_mode": {
        "name": "ipython",
        "version": 3
      },
      "file_extension": ".py",
      "mimetype": "text/x-python",
      "name": "python",
      "nbconvert_exporter": "python",
      "pygments_lexer": "ipython3",
      "version": "3.10.12"
    }
  },
  "nbformat": 4,
  "nbformat_minor": 0
}