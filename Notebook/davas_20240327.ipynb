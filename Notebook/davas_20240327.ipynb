{
  "cells": [
    {
      "cell_type": "markdown",
      "metadata": {
        "id": "9mvYu-uGXxxF"
      },
      "source": [
        "# Domain Adaptation Via Activation Shaping"
      ]
    },
    {
      "cell_type": "markdown",
      "metadata": {
        "id": "GbNMNXu7XxxJ"
      },
      "source": [
        "**Teacher assistant** Iurada Leonardo\n",
        "\n",
        "**Students**\n",
        "\n",
        "- Bar Giorgio\n",
        "- Distefano Giuseppe\n",
        "- Incaviglia Salvatore"
      ]
    },
    {
      "cell_type": "markdown",
      "metadata": {
        "id": "bJix4fzIXxxK"
      },
      "source": [
        "## Code"
      ]
    },
    {
      "cell_type": "markdown",
      "metadata": {
        "id": "aqt8hJw4XxxL"
      },
      "source": [
        "### Libraries"
      ]
    },
    {
      "cell_type": "code",
      "execution_count": 1,
      "metadata": {
        "colab": {
          "base_uri": "https://localhost:8080/"
        },
        "id": "JLDdLrJbXxxL",
        "outputId": "e3a40761-69f2-4994-d56d-3e2f68100c03",
        "vscode": {
          "languageId": "python"
        }
      },
      "outputs": [
        {
          "output_type": "stream",
          "name": "stdout",
          "text": [
            "Requirement already satisfied: torch in /usr/local/lib/python3.10/dist-packages (2.2.1+cu121)\n",
            "Requirement already satisfied: torchvision in /usr/local/lib/python3.10/dist-packages (0.17.1+cu121)\n",
            "Requirement already satisfied: tqdm in /usr/local/lib/python3.10/dist-packages (4.66.2)\n",
            "Collecting torchmetrics\n",
            "  Downloading torchmetrics-1.3.2-py3-none-any.whl (841 kB)\n",
            "\u001b[2K     \u001b[90m━━━━━━━━━━━━━━━━━━━━━━━━━━━━━━━━━━━━━━━━\u001b[0m \u001b[32m841.5/841.5 kB\u001b[0m \u001b[31m4.7 MB/s\u001b[0m eta \u001b[36m0:00:00\u001b[0m\n",
            "\u001b[?25hRequirement already satisfied: filelock in /usr/local/lib/python3.10/dist-packages (from torch) (3.13.1)\n",
            "Requirement already satisfied: typing-extensions>=4.8.0 in /usr/local/lib/python3.10/dist-packages (from torch) (4.10.0)\n",
            "Requirement already satisfied: sympy in /usr/local/lib/python3.10/dist-packages (from torch) (1.12)\n",
            "Requirement already satisfied: networkx in /usr/local/lib/python3.10/dist-packages (from torch) (3.2.1)\n",
            "Requirement already satisfied: jinja2 in /usr/local/lib/python3.10/dist-packages (from torch) (3.1.3)\n",
            "Requirement already satisfied: fsspec in /usr/local/lib/python3.10/dist-packages (from torch) (2023.6.0)\n",
            "Collecting nvidia-cuda-nvrtc-cu12==12.1.105 (from torch)\n",
            "  Downloading nvidia_cuda_nvrtc_cu12-12.1.105-py3-none-manylinux1_x86_64.whl (23.7 MB)\n",
            "\u001b[2K     \u001b[90m━━━━━━━━━━━━━━━━━━━━━━━━━━━━━━━━━━━━━━━━\u001b[0m \u001b[32m23.7/23.7 MB\u001b[0m \u001b[31m40.6 MB/s\u001b[0m eta \u001b[36m0:00:00\u001b[0m\n",
            "\u001b[?25hCollecting nvidia-cuda-runtime-cu12==12.1.105 (from torch)\n",
            "  Downloading nvidia_cuda_runtime_cu12-12.1.105-py3-none-manylinux1_x86_64.whl (823 kB)\n",
            "\u001b[2K     \u001b[90m━━━━━━━━━━━━━━━━━━━━━━━━━━━━━━━━━━━━━━━━\u001b[0m \u001b[32m823.6/823.6 kB\u001b[0m \u001b[31m56.9 MB/s\u001b[0m eta \u001b[36m0:00:00\u001b[0m\n",
            "\u001b[?25hCollecting nvidia-cuda-cupti-cu12==12.1.105 (from torch)\n",
            "  Downloading nvidia_cuda_cupti_cu12-12.1.105-py3-none-manylinux1_x86_64.whl (14.1 MB)\n",
            "\u001b[2K     \u001b[90m━━━━━━━━━━━━━━━━━━━━━━━━━━━━━━━━━━━━━━━━\u001b[0m \u001b[32m14.1/14.1 MB\u001b[0m \u001b[31m40.7 MB/s\u001b[0m eta \u001b[36m0:00:00\u001b[0m\n",
            "\u001b[?25hCollecting nvidia-cudnn-cu12==8.9.2.26 (from torch)\n",
            "  Downloading nvidia_cudnn_cu12-8.9.2.26-py3-none-manylinux1_x86_64.whl (731.7 MB)\n",
            "\u001b[2K     \u001b[90m━━━━━━━━━━━━━━━━━━━━━━━━━━━━━━━━━━━━━━━━\u001b[0m \u001b[32m731.7/731.7 MB\u001b[0m \u001b[31m821.5 kB/s\u001b[0m eta \u001b[36m0:00:00\u001b[0m\n",
            "\u001b[?25hCollecting nvidia-cublas-cu12==12.1.3.1 (from torch)\n",
            "  Downloading nvidia_cublas_cu12-12.1.3.1-py3-none-manylinux1_x86_64.whl (410.6 MB)\n",
            "\u001b[2K     \u001b[90m━━━━━━━━━━━━━━━━━━━━━━━━━━━━━━━━━━━━━━━━\u001b[0m \u001b[32m410.6/410.6 MB\u001b[0m \u001b[31m1.5 MB/s\u001b[0m eta \u001b[36m0:00:00\u001b[0m\n",
            "\u001b[?25hCollecting nvidia-cufft-cu12==11.0.2.54 (from torch)\n",
            "  Downloading nvidia_cufft_cu12-11.0.2.54-py3-none-manylinux1_x86_64.whl (121.6 MB)\n",
            "\u001b[2K     \u001b[90m━━━━━━━━━━━━━━━━━━━━━━━━━━━━━━━━━━━━━━━━\u001b[0m \u001b[32m121.6/121.6 MB\u001b[0m \u001b[31m1.5 MB/s\u001b[0m eta \u001b[36m0:00:00\u001b[0m\n",
            "\u001b[?25hCollecting nvidia-curand-cu12==10.3.2.106 (from torch)\n",
            "  Downloading nvidia_curand_cu12-10.3.2.106-py3-none-manylinux1_x86_64.whl (56.5 MB)\n",
            "\u001b[2K     \u001b[90m━━━━━━━━━━━━━━━━━━━━━━━━━━━━━━━━━━━━━━━━\u001b[0m \u001b[32m56.5/56.5 MB\u001b[0m \u001b[31m1.8 MB/s\u001b[0m eta \u001b[36m0:00:00\u001b[0m\n",
            "\u001b[?25hCollecting nvidia-cusolver-cu12==11.4.5.107 (from torch)\n",
            "  Downloading nvidia_cusolver_cu12-11.4.5.107-py3-none-manylinux1_x86_64.whl (124.2 MB)\n",
            "\u001b[2K     \u001b[90m━━━━━━━━━━━━━━━━━━━━━━━━━━━━━━━━━━━━━━━━\u001b[0m \u001b[32m124.2/124.2 MB\u001b[0m \u001b[31m1.0 MB/s\u001b[0m eta \u001b[36m0:00:00\u001b[0m\n",
            "\u001b[?25hCollecting nvidia-cusparse-cu12==12.1.0.106 (from torch)\n",
            "  Downloading nvidia_cusparse_cu12-12.1.0.106-py3-none-manylinux1_x86_64.whl (196.0 MB)\n",
            "\u001b[2K     \u001b[90m━━━━━━━━━━━━━━━━━━━━━━━━━━━━━━━━━━━━━━━━\u001b[0m \u001b[32m196.0/196.0 MB\u001b[0m \u001b[31m1.6 MB/s\u001b[0m eta \u001b[36m0:00:00\u001b[0m\n",
            "\u001b[?25hCollecting nvidia-nccl-cu12==2.19.3 (from torch)\n",
            "  Downloading nvidia_nccl_cu12-2.19.3-py3-none-manylinux1_x86_64.whl (166.0 MB)\n",
            "\u001b[2K     \u001b[90m━━━━━━━━━━━━━━━━━━━━━━━━━━━━━━━━━━━━━━━━\u001b[0m \u001b[32m166.0/166.0 MB\u001b[0m \u001b[31m1.9 MB/s\u001b[0m eta \u001b[36m0:00:00\u001b[0m\n",
            "\u001b[?25hCollecting nvidia-nvtx-cu12==12.1.105 (from torch)\n",
            "  Downloading nvidia_nvtx_cu12-12.1.105-py3-none-manylinux1_x86_64.whl (99 kB)\n",
            "\u001b[2K     \u001b[90m━━━━━━━━━━━━━━━━━━━━━━━━━━━━━━━━━━━━━━━━\u001b[0m \u001b[32m99.1/99.1 kB\u001b[0m \u001b[31m2.1 MB/s\u001b[0m eta \u001b[36m0:00:00\u001b[0m\n",
            "\u001b[?25hRequirement already satisfied: triton==2.2.0 in /usr/local/lib/python3.10/dist-packages (from torch) (2.2.0)\n",
            "Collecting nvidia-nvjitlink-cu12 (from nvidia-cusolver-cu12==11.4.5.107->torch)\n",
            "  Downloading nvidia_nvjitlink_cu12-12.4.99-py3-none-manylinux2014_x86_64.whl (21.1 MB)\n",
            "\u001b[2K     \u001b[90m━━━━━━━━━━━━━━━━━━━━━━━━━━━━━━━━━━━━━━━━\u001b[0m \u001b[32m21.1/21.1 MB\u001b[0m \u001b[31m1.6 MB/s\u001b[0m eta \u001b[36m0:00:00\u001b[0m\n",
            "\u001b[?25hRequirement already satisfied: numpy in /usr/local/lib/python3.10/dist-packages (from torchvision) (1.25.2)\n",
            "Requirement already satisfied: pillow!=8.3.*,>=5.3.0 in /usr/local/lib/python3.10/dist-packages (from torchvision) (9.4.0)\n",
            "Requirement already satisfied: packaging>17.1 in /usr/local/lib/python3.10/dist-packages (from torchmetrics) (24.0)\n",
            "Collecting lightning-utilities>=0.8.0 (from torchmetrics)\n",
            "  Downloading lightning_utilities-0.11.1-py3-none-any.whl (26 kB)\n",
            "Requirement already satisfied: setuptools in /usr/local/lib/python3.10/dist-packages (from lightning-utilities>=0.8.0->torchmetrics) (67.7.2)\n",
            "Requirement already satisfied: MarkupSafe>=2.0 in /usr/local/lib/python3.10/dist-packages (from jinja2->torch) (2.1.5)\n",
            "Requirement already satisfied: mpmath>=0.19 in /usr/local/lib/python3.10/dist-packages (from sympy->torch) (1.3.0)\n",
            "Installing collected packages: nvidia-nvtx-cu12, nvidia-nvjitlink-cu12, nvidia-nccl-cu12, nvidia-curand-cu12, nvidia-cufft-cu12, nvidia-cuda-runtime-cu12, nvidia-cuda-nvrtc-cu12, nvidia-cuda-cupti-cu12, nvidia-cublas-cu12, lightning-utilities, nvidia-cusparse-cu12, nvidia-cudnn-cu12, nvidia-cusolver-cu12, torchmetrics\n",
            "Successfully installed lightning-utilities-0.11.1 nvidia-cublas-cu12-12.1.3.1 nvidia-cuda-cupti-cu12-12.1.105 nvidia-cuda-nvrtc-cu12-12.1.105 nvidia-cuda-runtime-cu12-12.1.105 nvidia-cudnn-cu12-8.9.2.26 nvidia-cufft-cu12-11.0.2.54 nvidia-curand-cu12-10.3.2.106 nvidia-cusolver-cu12-11.4.5.107 nvidia-cusparse-cu12-12.1.0.106 nvidia-nccl-cu12-2.19.3 nvidia-nvjitlink-cu12-12.4.99 nvidia-nvtx-cu12-12.1.105 torchmetrics-1.3.2\n"
          ]
        }
      ],
      "source": [
        "!pip install torch torchvision tqdm torchmetrics\n",
        "\n",
        "import torch\n",
        "\n",
        "import torch.backends.mps\n",
        "from argparse import ArgumentParser\n",
        "\n",
        "import os\n",
        "import torchvision.transforms as T\n",
        "\n",
        "from torch.utils.data import Dataset, DataLoader\n",
        "from torchvision.datasets import CIFAR10\n",
        "\n",
        "import numpy as np\n",
        "import random\n",
        "from PIL import Image\n",
        "\n",
        "import torch.nn as nn\n",
        "from torchvision.models import resnet18, ResNet18_Weights\n",
        "\n",
        "import torch.nn.functional as F\n",
        "from torchmetrics import Accuracy\n",
        "from tqdm import tqdm\n",
        "\n",
        "import logging\n",
        "import warnings\n",
        "\n",
        "import argparse"
      ]
    },
    {
      "cell_type": "markdown",
      "metadata": {
        "id": "GOw5DqRaXxxM"
      },
      "source": [
        "### Setup PACS dataset and environment"
      ]
    },
    {
      "cell_type": "code",
      "execution_count": 2,
      "metadata": {
        "colab": {
          "base_uri": "https://localhost:8080/"
        },
        "id": "jMUnh8K_XxxN",
        "outputId": "99034405-7156-46c0-bbd0-92fa0cc1d6de",
        "vscode": {
          "languageId": "python"
        }
      },
      "outputs": [
        {
          "output_type": "stream",
          "name": "stdout",
          "text": [
            "Cloning into 'Homework3-PACS'...\n",
            "remote: Enumerating objects: 10032, done.\u001b[K\n",
            "remote: Total 10032 (delta 0), reused 0 (delta 0), pack-reused 10032\u001b[K\n",
            "Receiving objects: 100% (10032/10032), 174.13 MiB | 40.03 MiB/s, done.\n",
            "Resolving deltas: 100% (1/1), done.\n",
            "Updating files: 100% (9993/9993), done.\n",
            "Cloning into 'DANN_Template'...\n",
            "remote: Enumerating objects: 23, done.\u001b[K\n",
            "remote: Total 23 (delta 0), reused 0 (delta 0), pack-reused 23\u001b[K\n",
            "Receiving objects: 100% (23/23), 33.86 KiB | 1.09 MiB/s, done.\n",
            "Resolving deltas: 100% (5/5), done.\n"
          ]
        }
      ],
      "source": [
        "# Download PACS Dataset Images and Labels\n",
        "!git clone https://github.com/MachineLearning2020/Homework3-PACS/\n",
        "!git clone https://github.com/silvia1993/DANN_Template/\n",
        "\n",
        "# Setup data\n",
        "!rm -rf data || true\n",
        "!rm -rf record || true\n",
        "!mkdir data\n",
        "!mkdir data/kfold\n",
        "!cp -r Homework3-PACS/PACS/ data/kfold\n",
        "!cp DANN_Template/txt_lists/*.txt data\n",
        "!rm -rf Homework3-PACS/\n",
        "!rm -rf DANN_Template/\n",
        "!rm -rf sample_data || true"
      ]
    },
    {
      "cell_type": "markdown",
      "metadata": {
        "id": "ERngXRoaXxxO"
      },
      "source": [
        "### Globals"
      ]
    },
    {
      "cell_type": "markdown",
      "metadata": {
        "id": "dU8mOpx1XxxP"
      },
      "source": [
        "#### globals"
      ]
    },
    {
      "cell_type": "code",
      "execution_count": 3,
      "metadata": {
        "id": "3RQvEDBdXxxR",
        "vscode": {
          "languageId": "python"
        }
      },
      "outputs": [],
      "source": [
        "class dotdict(dict):\n",
        "    \"\"\"dot.notation access to dictionary attributes\"\"\"\n",
        "    __getattr__ = dict.get\n",
        "    __setattr__ = dict.__setitem__\n",
        "    __delattr__ = dict.__delitem__\n",
        "\n",
        "CONFIG = dotdict({})\n",
        "\n",
        "if torch.cuda.is_available():\n",
        "    CONFIG.device = 'cuda'\n",
        "elif torch.backends.mps.is_available() and torch.backends.mps.is_built():\n",
        "    CONFIG.device = 'mps'\n",
        "else:\n",
        "    CONFIG.device = 'cpu'\n",
        "\n",
        "CONFIG.dtype = torch.float32"
      ]
    },
    {
      "cell_type": "markdown",
      "metadata": {
        "id": "RxUjHKL_XxxR"
      },
      "source": [
        "#### parse args"
      ]
    },
    {
      "cell_type": "code",
      "execution_count": 4,
      "metadata": {
        "id": "ri1QrU7_vmvz",
        "vscode": {
          "languageId": "python"
        }
      },
      "outputs": [],
      "source": [
        "def _clear_args(parsed_args):\n",
        "    parsed_args.experiment_args = eval(parsed_args.experiment_args)\n",
        "    parsed_args.dataset_args = eval(parsed_args.dataset_args)\n",
        "    return parsed_args\n",
        "\n",
        "\n",
        "def parse_arguments():\n",
        "    parser = ArgumentParser()\n",
        "\n",
        "    parser.add_argument('--seed', type=int, default=0, help='Seed used for deterministic behavior')\n",
        "    parser.add_argument('--test_only', action='store_true', help='Whether to skip training')\n",
        "    parser.add_argument('--cpu', action='store_true', help='Whether to force the usage of CPU')\n",
        "\n",
        "    parser.add_argument('--experiment', type=str, default='baseline')\n",
        "    parser.add_argument('--experiment_name', type=str, default='baseline')\n",
        "    parser.add_argument('--experiment_args', type=str, default='{}')\n",
        "    parser.add_argument('--dataset_args', type=str, default='{}')\n",
        "\n",
        "    parser.add_argument('--batch_size', type=int, default=128)\n",
        "    parser.add_argument('--epochs', type=int, default=30)\n",
        "    parser.add_argument('--num_workers', type=int, default=5)\n",
        "    parser.add_argument('--grad_accum_steps', type=int, default=1)\n",
        "\n",
        "    return _clear_args(parser.parse_args())"
      ]
    },
    {
      "cell_type": "markdown",
      "metadata": {
        "id": "l7_xoRWhvmvz"
      },
      "source": [
        "#### Global variables"
      ]
    },
    {
      "cell_type": "code",
      "execution_count": 5,
      "metadata": {
        "id": "GA15sREQvmvz",
        "vscode": {
          "languageId": "python"
        }
      },
      "outputs": [],
      "source": [
        "DEVICE = 'cuda' if torch.cuda.is_available() else 'cpu'\n",
        "NUM_CLASSES = 7\n",
        "BATCH_SIZE = 256\n",
        "LR = 1e-3               # The initial Learning Rate\n",
        "MOMENTUM = 0.9          # Hyperparameter for SGD, keep this at 0.9 when using SGD\n",
        "WEIGHT_DECAY = 5e-5     # Regularization, you can keep this at the default\n",
        "NUM_EPOCHS = 30         # Total number of training epochs (iterations over dataset)\n",
        "STEP_SIZE = 20          # How many epochs before decreasing learning rate (if using a step-down policy)\n",
        "GAMMA = 0.1             # Multiplicative factor for learning rate step-down\n",
        "\n",
        "LOG_FREQUENCY = 10"
      ]
    },
    {
      "cell_type": "markdown",
      "metadata": {
        "id": "UjcULfoOvmv0"
      },
      "source": [
        "### Dataset"
      ]
    },
    {
      "cell_type": "markdown",
      "metadata": {
        "id": "2juNIEQ9vmv0"
      },
      "source": [
        "#### utils"
      ]
    },
    {
      "cell_type": "code",
      "execution_count": 6,
      "metadata": {
        "id": "XSPzZSuSvmv0",
        "vscode": {
          "languageId": "python"
        }
      },
      "outputs": [],
      "source": [
        "class BaseDataset(Dataset):\n",
        "    def __init__(self, examples, transform):\n",
        "        self.examples = examples\n",
        "        self.T = transform\n",
        "\n",
        "\n",
        "    def __len__(self):\n",
        "        return len(self.examples)\n",
        "\n",
        "\n",
        "    def __getitem__(self, index):\n",
        "        x, y = self.examples[index]\n",
        "        x = Image.open(x).convert('RGB')\n",
        "        x = self.T(x).to(CONFIG.dtype)\n",
        "        y = torch.tensor(y).long()\n",
        "        return x, y\n",
        "\n",
        "######################################################\n",
        "\n",
        "class DomainAdaptationDataset(Dataset):\n",
        "    def __init__(self, source_examples, target_examples, transform):\n",
        "        self.source_examples = source_examples\n",
        "        self.target_examples = target_examples\n",
        "        self.T = transform\n",
        "\n",
        "\n",
        "    def __len__(self):\n",
        "        return len(self.source_examples)\n",
        "\n",
        "\n",
        "    def __getitem__(self, index):\n",
        "        src_x, src_y = self.source_examples[index]\n",
        "        src_x = Image.open(src_x).convert('RGB')\n",
        "        src_x = self.T(src_x).to(CONFIG.dtype)\n",
        "        src_y = torch.tensor(src_y).long()\n",
        "\n",
        "        # randomly sample 'target_examples' to obtain targ_x\n",
        "        target_idx = torch.randint(len(self.target_examples), size=(1,)).item()\n",
        "        targ_x, _ = self.target_examples[target_idx]\n",
        "        targ_x = Image.open(targ_x).convert('RGB')\n",
        "        targ_x = self.T(targ_x).to(CONFIG.dtype)\n",
        "\n",
        "        return src_x, src_y, targ_x\n",
        "\n",
        "######################################################\n",
        "\n",
        "# [OPTIONAL] TODO: modify 'BaseDataset' for the Domain Generalization setting.\n",
        "# Hint: combine the examples from the 3 source domains into a single 'examples' list\n",
        "#class DomainGeneralizationDataset(Dataset):\n",
        "#    def __init__(self, examples, transform):\n",
        "#        self.examples = examples\n",
        "#        self.T = transform\n",
        "#\n",
        "#    def __len__(self):\n",
        "#        return len(self.examples)\n",
        "#\n",
        "#    def __getitem__(self, index):\n",
        "#        x1, x2, x3 = self.examples[index]\n",
        "#        x1, x2, x3 = self.T(x1), self.T(x2), self.T(x3)\n",
        "#        targ_x = self.T(targ_x)\n",
        "#        return x1, x2, x3\n",
        "\n",
        "######################################################\n",
        "\n",
        "class SeededDataLoader(DataLoader):\n",
        "    def __init__(self, dataset: Dataset, batch_size=1, shuffle=None,\n",
        "                sampler=None,\n",
        "                batch_sampler=None,\n",
        "                num_workers=0, collate_fn=None,\n",
        "                pin_memory=False, drop_last=False, timeout=0,\n",
        "                worker_init_fn=None, multiprocessing_context=None,\n",
        "                generator=None, *, prefetch_factor=None, persistent_workers=False,\n",
        "                pin_memory_device=\"\"):\n",
        "\n",
        "        if not CONFIG.use_nondeterministic:\n",
        "            def seed_worker(worker_id):\n",
        "                worker_seed = torch.initial_seed() % 2**32\n",
        "                np.random.seed(worker_seed)\n",
        "                random.seed(worker_seed)\n",
        "\n",
        "            generator = torch.Generator()\n",
        "            generator.manual_seed(CONFIG.seed)\n",
        "\n",
        "            worker_init_fn = seed_worker\n",
        "\n",
        "        super().__init__(dataset, batch_size, shuffle, sampler, batch_sampler, num_workers, collate_fn,\n",
        "                        pin_memory, drop_last, timeout, worker_init_fn, multiprocessing_context, generator,\n",
        "                        prefetch_factor=prefetch_factor, persistent_workers=persistent_workers,\n",
        "                        pin_memory_device=pin_memory_device)"
      ]
    },
    {
      "cell_type": "markdown",
      "metadata": {
        "id": "8COjLe2Fvmv0"
      },
      "source": [
        "#### PACS"
      ]
    },
    {
      "cell_type": "code",
      "execution_count": 7,
      "metadata": {
        "id": "qJ3cq4Ofvmv1",
        "vscode": {
          "languageId": "python"
        }
      },
      "outputs": [],
      "source": [
        "def get_transform(size, mean, std, preprocess):\n",
        "    transform = []\n",
        "    if preprocess:\n",
        "        transform.append(T.Resize(256))\n",
        "        transform.append(T.RandomResizedCrop(size=size, scale=(0.7, 1.0)))\n",
        "        transform.append(T.RandomHorizontalFlip())\n",
        "    else:\n",
        "        transform.append(T.Resize(size))\n",
        "    transform.append(T.ToTensor())\n",
        "    transform.append(T.Normalize(mean, std))\n",
        "    return T.Compose(transform)\n",
        "\n",
        "\n",
        "def load_data():\n",
        "    CONFIG.num_classes = 7\n",
        "    CONFIG.data_input_size = (3, 224, 224)\n",
        "\n",
        "    # Create transforms\n",
        "    mean, std = (0.485, 0.456, 0.406), (0.229, 0.224, 0.225) # ImageNet Pretrain statistics\n",
        "    train_transform = get_transform(size=224, mean=mean, std=std, preprocess=True)\n",
        "    test_transform = get_transform(size=224, mean=mean, std=std, preprocess=False)\n",
        "\n",
        "    # Load examples\n",
        "    source_examples, target_examples = [], []\n",
        "    if CONFIG.experiment in ['baseline', 'random', 'domain_adaptation','extension2_1_2','extension2_1_3','extension2_2_2','extension2_2_3']:\n",
        "        # Load source\n",
        "        f = open(os.path.join(CONFIG.dataset_args['text_root'], f\"{CONFIG.dataset_args['source_domain']}.txt\"), 'r')\n",
        "        for line in f:\n",
        "            line = line.strip().split()\n",
        "            path, label = line[0].split('/')[0:], int(line[1])\n",
        "            source_examples.append((os.path.join(CONFIG.dataset_args['images_root'], *path), label))\n",
        "        f.close()\n",
        "\n",
        "        # Load target\n",
        "        f = open(os.path.join(CONFIG.dataset_args['text_root'], f\"{CONFIG.dataset_args['target_domain']}.txt\"), 'r')\n",
        "        for line in f:\n",
        "            line = line.strip().split()\n",
        "            path, label = line[0].split('/')[0:], int(line[1])\n",
        "            target_examples.append((os.path.join(CONFIG.dataset_args['images_root'], *path), label))\n",
        "        f.close()\n",
        "\n",
        "    # create Dataset object for the baseline and the Random Maps Ablation experiments\n",
        "    if CONFIG.experiment in ['baseline', 'random','extension2_1_2','extension2_2_2']:\n",
        "        train_dataset = BaseDataset(source_examples, transform=train_transform)\n",
        "        test_dataset = BaseDataset(target_examples, transform=test_transform)\n",
        "\n",
        "    # create Dataset object for the Domain Adaptation experiments\n",
        "    if CONFIG.experiment in ['domain_adaptation','extension2_1_3','extension2_2_3']:\n",
        "        train_dataset = DomainAdaptationDataset(source_examples, target_examples, transform=train_transform)\n",
        "        test_dataset = BaseDataset(target_examples, transform=test_transform)\n",
        "\n",
        "    ######################################################\n",
        "\n",
        "    # Dataloaders\n",
        "    train_loader = SeededDataLoader(\n",
        "        train_dataset,\n",
        "        batch_size=CONFIG.batch_size,\n",
        "        shuffle=True,\n",
        "        num_workers=CONFIG.num_workers,\n",
        "        pin_memory=True,\n",
        "        persistent_workers=True\n",
        "    )\n",
        "\n",
        "    test_loader = SeededDataLoader(\n",
        "        test_dataset,\n",
        "        batch_size=CONFIG.batch_size,\n",
        "        shuffle=False,\n",
        "        num_workers=CONFIG.num_workers,\n",
        "        pin_memory=True,\n",
        "        persistent_workers=True\n",
        "    )\n",
        "\n",
        "    return {'train': train_loader, 'test': test_loader}"
      ]
    },
    {
      "cell_type": "markdown",
      "metadata": {
        "id": "pDUK98dRvmv1"
      },
      "source": [
        "### Models"
      ]
    },
    {
      "cell_type": "markdown",
      "metadata": {
        "id": "kRb0wPBTvmv1"
      },
      "source": [
        "#### Base ResNet 18"
      ]
    },
    {
      "cell_type": "code",
      "execution_count": 8,
      "metadata": {
        "id": "RT5Z64b0vmv1",
        "vscode": {
          "languageId": "python"
        }
      },
      "outputs": [],
      "source": [
        "class BaseResNet18(nn.Module):\n",
        "    def __init__(self):\n",
        "        super(BaseResNet18, self).__init__()\n",
        "        self.resnet = resnet18(weights=ResNet18_Weights)\n",
        "        self.resnet.fc = nn.Linear(self.resnet.fc.in_features, 7)\n",
        "\n",
        "\n",
        "    def forward(self, x):\n",
        "        return self.resnet(x)"
      ]
    },
    {
      "cell_type": "markdown",
      "metadata": {
        "id": "nRnqcOEM1H3G"
      },
      "source": [
        "#### ASH ResNet 18"
      ]
    },
    {
      "cell_type": "code",
      "execution_count": 9,
      "metadata": {
        "id": "2gaQKaiO1H3G",
        "vscode": {
          "languageId": "python"
        }
      },
      "outputs": [],
      "source": [
        "# 'BaseResNet18' including the Activation Shaping Module for Random Maps Ablation\n",
        "class ASHResNet18(nn.Module):\n",
        "    def __init__(self):\n",
        "        super(ASHResNet18, self).__init__()\n",
        "        self.resnet = resnet18(weights=ResNet18_Weights)\n",
        "        self.resnet.fc = nn.Linear(self.resnet.fc.in_features, 7)\n",
        "\n",
        "        self.hook_handles = {}\n",
        "\n",
        "\n",
        "    def get_random_activation_map_hook(self, mask_out_ratio):\n",
        "\n",
        "        # Activation Shaping Module as a function that shall be hooked via 'register_forward_hook'\n",
        "        # The hook captures the mask_out_ratio from the parent scope\n",
        "        def random_activation_map_hook(module, input, output):\n",
        "            # create a mask tensor with a given ratio of zeros\n",
        "            #print('mask_out_ratio: ', mask_out_ratio)\n",
        "            rand_mat = torch.rand_like(output)\n",
        "            mask = torch.where(rand_mat <= mask_out_ratio, 0.0, 1.0)\n",
        "            #print('random_mask sum(): ', mask.sum())\n",
        "\n",
        "            # binarize both activation map and mask using zero as threshold\n",
        "            A_binary = torch.where(output<=0, 0.0, 1.0)\n",
        "            M_binary = torch.where(mask<=0, 0.0, 1.0)\n",
        "\n",
        "            # return the element-wise product of activation map and mask\n",
        "            shaped_output = A_binary * M_binary\n",
        "            return shaped_output\n",
        "\n",
        "        return random_activation_map_hook\n",
        "\n",
        "    def get_random_activation_map_hook_no_binarization(self, mask_out_ratio):\n",
        "\n",
        "        # do not binarize the activation map produced by the current layer.\n",
        "\n",
        "        def random_activation_map_hook_no_binarization(module, input, output):\n",
        "            # create a mask tensor with a given ratio of zeros\n",
        "            # print('mask_out_ratio: ', mask_out_ratio)\n",
        "            rand_mat = torch.rand_like(output)\n",
        "            mask = torch.where(rand_mat <= mask_out_ratio, 0.0, 1.0)\n",
        "            # print('random_mask sum(): ', mask.sum())\n",
        "\n",
        "            # return the element-wise product of activation map and mask\n",
        "            A = output.detach()\n",
        "            shaped_output = A * mask\n",
        "            return shaped_output\n",
        "\n",
        "        return random_activation_map_hook_no_binarization\n",
        "\n",
        "    def register_random_activation_maps_hooks(self, module_placement, mask_out_ratio, binarize=True):\n",
        "        for layer_name, module in self.resnet.named_modules():\n",
        "            if ((isinstance(module, nn.ReLU) or isinstance(module, nn.Conv2d) or isinstance(module, nn.BatchNorm2d))):\n",
        "                if layer_name in module_placement:\n",
        "                    # print(f'Register a hook to perform Random Maps Ablation on layer {layer_name} Binarize: {binarize}')\n",
        "                    if binarize:\n",
        "                        hook = self.get_random_activation_map_hook(mask_out_ratio)\n",
        "                    else:\n",
        "                        hook = self.get_random_activation_map_hook_no_binarization(mask_out_ratio)\n",
        "                    self.hook_handles[layer_name] = module.register_forward_hook(hook)\n",
        "\n",
        "    def remove_random_activation_maps_hooks(self):\n",
        "        for layer_name, handle in self.hook_handles.items():\n",
        "            #print('Remove the hook used to perform Activation Shaping on layer ', layer_name)\n",
        "            handle.remove()\n",
        "\n",
        "\n",
        "    def forward(self, x):\n",
        "        return self.resnet(x)"
      ]
    },
    {
      "cell_type": "markdown",
      "metadata": {
        "id": "AvHbJLPmUS2B"
      },
      "source": [
        "#### ResNet 18 for Domain Adaptation"
      ]
    },
    {
      "cell_type": "code",
      "execution_count": 10,
      "metadata": {
        "id": "sJw5hX2lUS2C",
        "vscode": {
          "languageId": "python"
        }
      },
      "outputs": [],
      "source": [
        "# 'BaseResNet18' including the Activation Shaping Module for Domain Adaptation\n",
        "class DAResNet18(nn.Module):\n",
        "    def __init__(self, module_placement=None):\n",
        "        super(DAResNet18, self).__init__()\n",
        "        self.resnet = resnet18(weights=ResNet18_Weights)\n",
        "        self.resnet.fc = nn.Linear(self.resnet.fc.in_features, 7)\n",
        "\n",
        "        self.activation_maps = {}\n",
        "        self.activation_map_hook_handles = {}\n",
        "        self.activation_shaping_hook_handles = {}\n",
        "\n",
        "\n",
        "    def get_extract_activation_map_hook (self, layer_name):\n",
        "        def extract_activation_map_hook(module, input, output):\n",
        "            self.activation_maps[layer_name] = output.detach().clone()\n",
        "        return extract_activation_map_hook\n",
        "\n",
        "\n",
        "    def get_activation_shaping_hook (self, mask):\n",
        "        # Activation Shaping Module as a function that shall be hooked via 'register_forward_hook'\n",
        "        # The hook captures mask variable from the parent scope\n",
        "\n",
        "        def activation_shaping_hook (module, input, output):\n",
        "            # binarize both activation map and mask using zero as threshold\n",
        "            A_binary = torch.where(output <= 0, 0.0, 1.0)\n",
        "            M_binary = torch.where(mask <= 0, 0.0, 1.0)\n",
        "\n",
        "            # return the element-wise product of activation map and mask\n",
        "            shaped_output = A_binary * M_binary\n",
        "            return shaped_output\n",
        "\n",
        "        return activation_shaping_hook\n",
        "\n",
        "\n",
        "    def get_activation_shaping_hook_no_binarization (self, mask):\n",
        "\n",
        "        # Instead of binarizing the mask, keep it as it is and simply\n",
        "        # multiply it with the activation map produced by the current layer\n",
        "\n",
        "        def activation_shaping_hook_no_binarization(module, input, output):\n",
        "            # print('ASH module registered on: ', module, 'mask shape: ', mask.shape, 'mask sum(): ', mask.sum())\n",
        "\n",
        "            # return the element-wise product of activation map and mask\n",
        "            A = output.detach()\n",
        "            shaped_output = A * mask\n",
        "            return shaped_output\n",
        "\n",
        "        return activation_shaping_hook_no_binarization\n",
        "\n",
        "\n",
        "    def register_extract_activation_map_hooks (self, module_placement):\n",
        "        # Register hook(s) (1st hook) to store activation map\n",
        "        for layer_name, module in self.resnet.named_modules():\n",
        "            if ((isinstance(module, nn.ReLU) or isinstance(module, nn.Conv2d) or isinstance(module, nn.BatchNorm2d))):\n",
        "                if layer_name in module_placement:\n",
        "                    hook = self.get_extract_activation_map_hook(layer_name)\n",
        "                    self.activation_map_hook_handles[layer_name] = module.register_forward_hook(hook)\n",
        "\n",
        "\n",
        "    def remove_extract_activation_map_hooks (self):\n",
        "        # Remove hook(s) used to store activation map\n",
        "        for layer_name, handle in self.activation_map_hook_handles.items():\n",
        "            handle.remove()\n",
        "\n",
        "\n",
        "    # def register_activation_shaping_hooks (self, module_placement):\n",
        "    def register_activation_shaping_hooks(self, binarize=True):\n",
        "        # Register the Activation Shaping Module hook(s) (2nd hook)\n",
        "        for layer_name, module in self.resnet.named_modules():\n",
        "            if ((isinstance(module, nn.ReLU) or isinstance(module, nn.Conv2d) or isinstance(module, nn.BatchNorm2d))):\n",
        "                if layer_name in self.activation_maps:\n",
        "                    # print(f'Register a hook (2nd) to perform Activation Shaping on layer {layer_name} Binarize: {binarize}')\n",
        "                    if binarize:\n",
        "                        hook = self.get_activation_shaping_hook(self.activation_maps[layer_name])\n",
        "                    else:\n",
        "                        hook = self.get_activation_shaping_hook_no_binarization(self.activation_maps[layer_name])\n",
        "                    self.activation_shaping_hook_handles[layer_name] = module.register_forward_hook(hook)\n",
        "\n",
        "    def remove_activation_shaping_hooks (self):\n",
        "        # Remove hook(s) used to perform Activation Shaping\n",
        "        for layer_name, handle in self.activation_shaping_hook_handles.items():\n",
        "            handle.remove()\n",
        "\n",
        "\n",
        "    def forward(self, x):\n",
        "        return self.resnet(x)"
      ]
    },
    {
      "cell_type": "markdown",
      "metadata": {
        "id": "67LcsnNY1H3G"
      },
      "source": [
        "#### ResNet 18 for ablation studies"
      ]
    },
    {
      "cell_type": "markdown",
      "metadata": {
        "id": "tYUP-43pXxxZ"
      },
      "source": [
        "##### 1.2"
      ]
    },
    {
      "cell_type": "code",
      "execution_count": 12,
      "metadata": {
        "id": "6u-rGhPbXxxZ",
        "vscode": {
          "languageId": "python"
        }
      },
      "outputs": [],
      "source": [
        "'''\n",
        "We can use the ASHResNet18 class, calling register_random_activation_maps_hooks(module_placement, mask_out_ratio, binarize=False)\n",
        "'''\n",
        "# 'BaseResNet18' including the Activation Shaping Module\n",
        "class Abl12ResNet18(nn.Module):\n",
        "    def __init__(self):\n",
        "        super(Abl12ResNet18, self).__init__()\n",
        "        self.resnet = resnet18(weights=ResNet18_Weights)\n",
        "        self.resnet.fc = nn.Linear(self.resnet.fc.in_features, 7)\n",
        "        self.hook_handles = {}\n",
        "\n",
        "\n",
        "    def get_random_activation_map_hook(self, mask_out_ratio):\n",
        "        # Activation Shaping Module as a function that shall be hooked via 'register_forward_hook'\n",
        "        # The hook captures the mask_out_ratio from the parent scope\n",
        "        def random_activation_map_hook(module, input, output):\n",
        "            # create a mask tensor with a given ratio of zeros\n",
        "            rand_mat = torch.rand_like(output)\n",
        "            mask = torch.where(rand_mat <= mask_out_ratio, 0.0, 1.0)\n",
        "            #print('random_mask sum(): ', mask.sum())\n",
        "\n",
        "            # binarize both activation map and mask using zero as threshold\n",
        "            A_binary = torch.tensor(output)\n",
        "            M_binary = torch.tensor(mask)\n",
        "\n",
        "            # return the element-wise product of activation map and mask\n",
        "            shaped_output = A_binary * M_binary\n",
        "            return shaped_output\n",
        "\n",
        "        return random_activation_map_hook\n",
        "\n",
        "\n",
        "    def register_random_activation_maps_hooks(self, module_placement, mask_out_ratio):\n",
        "        for layer_name, module in self.resnet.named_modules():\n",
        "            if ((isinstance(module, nn.ReLU) or isinstance(module, nn.Conv2d) or isinstance(module, nn.BatchNorm2d))):\n",
        "                if layer_name in module_placement:\n",
        "                    #print('Register a hook to perform Random Maps Ablation on layer ', layer_name, module)\n",
        "                    hook = self.get_random_activation_map_hook(mask_out_ratio)\n",
        "                    self.hook_handles[layer_name] = module.register_forward_hook(hook)\n",
        "\n",
        "\n",
        "    def remove_random_activation_maps_hooks(self):\n",
        "        for layer_name, handle in self.hook_handles.items():\n",
        "            #print('Remove the hook used to perform Activation Shaping on layer ', layer_name)\n",
        "            handle.remove()\n",
        "\n",
        "\n",
        "    def forward(self, x):\n",
        "        return self.resnet(x)"
      ]
    },
    {
      "cell_type": "markdown",
      "metadata": {
        "id": "yuoGKN2BXxxa"
      },
      "source": [
        "##### 1.3"
      ]
    },
    {
      "cell_type": "code",
      "execution_count": 13,
      "metadata": {
        "id": "sdD68Po71H3G",
        "vscode": {
          "languageId": "python"
        }
      },
      "outputs": [],
      "source": [
        "'''\n",
        "We can use the DAResNet18 class, calling register_activation_shaping_hooks(binarize=False)\n",
        "'''\n",
        "# 'BaseResNet18' including the Activation Shaping Module for Domain Adaptation--->Punto3\n",
        "class Abl13ResNet18(nn.Module):\n",
        "    def __init__(self, module_placement=None):\n",
        "        super(Abl13ResNet18, self).__init__()\n",
        "        self.resnet = resnet18(weights=ResNet18_Weights)\n",
        "        self.resnet.fc = nn.Linear(self.resnet.fc.in_features, 7)\n",
        "        self.activation_maps = {}\n",
        "        self.activation_map_hook_handles = {}\n",
        "        self.activation_shaping_hook_handles = {}\n",
        "\n",
        "\n",
        "    def get_extract_activation_map_hook (self, layer_name):\n",
        "        def extract_activation_map_hook(module, input, output):\n",
        "            self.activation_maps[layer_name] = output.detach().clone()\n",
        "        return extract_activation_map_hook\n",
        "\n",
        "\n",
        "    def get_activation_shaping_hook (self, mask):\n",
        "        # Activation Shaping Module as a function that shall be hooked via 'register_forward_hook'\n",
        "        def activation_shaping_hook (module, input, output):\n",
        "            A_binary = torch.where(output <= 0, torch.tensor(0.0), torch.tensor(1.0))\n",
        "            A = torch.tensor(output)\n",
        "            M = torch.tensor(mask)\n",
        "            shaped_output = A* M\n",
        "            return shaped_output\n",
        "        return activation_shaping_hook\n",
        "\n",
        "\n",
        "    def register_extract_activation_map_hooks (self, module_placement):\n",
        "        # Register hook(s) (1st hook) to store activation map\n",
        "        for layer_name, module in self.resnet.named_modules():\n",
        "            if ((isinstance(module, nn.ReLU) or isinstance(module, nn.Conv2d) or isinstance(module, nn.BatchNorm2d))):\n",
        "                if layer_name in module_placement:\n",
        "                    hook = self.get_extract_activation_map_hook(layer_name)\n",
        "                    self.activation_map_hook_handles[layer_name] = module.register_forward_hook(hook)\n",
        "\n",
        "\n",
        "    def remove_extract_activation_map_hooks (self):\n",
        "        # Remove hook(s) used to store activation map\n",
        "        for layer_name, handle in self.activation_map_hook_handles.items():\n",
        "            handle.remove()\n",
        "\n",
        "\n",
        "    def register_activation_shaping_hooks (self, module_placement):\n",
        "        # Register the Activation Shaping Module hook(s) (2nd hook)\n",
        "        for layer_name, module in self.resnet.named_modules():\n",
        "            if ((isinstance(module, nn.ReLU) or isinstance(module, nn.Conv2d) or isinstance(module, nn.BatchNorm2d))):\n",
        "                if layer_name in module_placement: # Shouldn't it be in self.activation_maps?\n",
        "                    hook = self.get_activation_shaping_hook(self.activation_maps[layer_name])\n",
        "                    self.activation_shaping_hook_handles[layer_name] = module.register_forward_hook(hook)\n",
        "\n",
        "\n",
        "    def remove_activation_shaping_hooks (self):\n",
        "        # Remove hook(s) used to perform Activation Shaping\n",
        "        for layer_name, handle in self.activation_shaping_hook_handles.items():\n",
        "            handle.remove()\n",
        "\n",
        "\n",
        "    def forward(self, x):\n",
        "        return self.resnet(x)"
      ]
    },
    {
      "cell_type": "markdown",
      "metadata": {
        "id": "XafQTXAPXxxa"
      },
      "source": [
        "##### 2.2"
      ]
    },
    {
      "cell_type": "code",
      "execution_count": 14,
      "metadata": {
        "id": "t0_DUy7N0Pgk",
        "vscode": {
          "languageId": "python"
        }
      },
      "outputs": [],
      "source": [
        "def get_activation_shaping_hook_extension2_2_2(mask, topk):\n",
        "    def activation_shaping_hook(module, input, output):\n",
        "        M = torch.tensor(mask)\n",
        "        A = torch.tensor(output)\n",
        "        # Calcola i top-k values di A\n",
        "        topk_values,top_indices = torch.topk(A,4)\n",
        "        # Crea una maschera per gli elementi in topk\n",
        "        M_binary= torch.where(M >= topk_values.min(), torch.tensor(1.0), torch.tensor(0.0))\n",
        "        # Moltiplica A per M\n",
        "        shaped_output = A * M_binary\n",
        "\n",
        "        return shaped_output\n",
        "    return activation_shaping_hook\n",
        "\n",
        "######################################################\n",
        "\n",
        "# 'BaseResNet18' including the Activation Shaping Module\n",
        "class Abl22ResNet18(nn.Module):\n",
        "    def __init__(self):\n",
        "        super(Abl22ResNet18, self).__init__()\n",
        "        self.resnet = resnet18(weights=ResNet18_Weights)\n",
        "        self.resnet.fc = nn.Linear(self.resnet.fc.in_features, 7)\n",
        "        self.hook_handles = {}\n",
        "\n",
        "\n",
        "    def get_random_activation_map_hook(self, mask_out_ratio):\n",
        "        def activation_shaping_hook(module, input, output):\n",
        "            rand_mat = torch.rand_like(output)\n",
        "            mask = torch.where(rand_mat <= mask_out_ratio, 0.0, 1.0)\n",
        "            M = torch.tensor(mask)\n",
        "            A = torch.tensor(output)\n",
        "            # Calcola i topk values di A\n",
        "            topk_values,top_indices = torch.topk(A,4)\n",
        "            # Crea una maschera per gli elementi in topk\n",
        "            M_binary= torch.where(M >= topk_values.min(), torch.tensor(1.0), torch.tensor(0.0))\n",
        "            # Moltiplica A per M\n",
        "            shaped_output = A * M_binary\n",
        "\n",
        "            return shaped_output\n",
        "        return activation_shaping_hook\n",
        "\n",
        "\n",
        "    def register_random_activation_maps_hooks(self, module_placement, mask_out_ratio):\n",
        "        for layer_name, module in self.resnet.named_modules():\n",
        "            if ((isinstance(module, nn.ReLU) or isinstance(module, nn.Conv2d) or isinstance(module, nn.BatchNorm2d))):\n",
        "                if layer_name in module_placement:\n",
        "                    #print('Register a hook to perform Random Maps Ablation on layer ', layer_name, module)\n",
        "                    hook = self.get_random_activation_map_hook(mask_out_ratio)\n",
        "                    self.hook_handles[layer_name] = module.register_forward_hook(hook)\n",
        "\n",
        "\n",
        "    def remove_random_activation_maps_hooks(self):\n",
        "        for layer_name, handle in self.hook_handles.items():\n",
        "            #print('Remove the hook used to perform Activation Shaping on layer ', layer_name)\n",
        "            handle.remove()\n",
        "\n",
        "\n",
        "    def forward(self, x):\n",
        "        return self.resnet(x)"
      ]
    },
    {
      "cell_type": "markdown",
      "metadata": {
        "id": "5tOhMrjzXxxb"
      },
      "source": [
        "##### 2.3"
      ]
    },
    {
      "cell_type": "code",
      "execution_count": 15,
      "metadata": {
        "id": "SaSCs3gyFYrO",
        "vscode": {
          "languageId": "python"
        }
      },
      "outputs": [],
      "source": [
        "# 'BaseResNet18' including the Activation Shaping Module for Domain Adaptation--->Punto3\n",
        "class Abl23ResNet18(nn.Module):\n",
        "    def __init__(self, module_placement=None):\n",
        "        super(Abl23ResNet18, self).__init__()\n",
        "        self.resnet = resnet18(weights=ResNet18_Weights)\n",
        "        self.resnet.fc = nn.Linear(self.resnet.fc.in_features, 7)\n",
        "        self.activation_maps = {}\n",
        "        self.activation_map_hook_handles = {}\n",
        "        self.activation_shaping_hook_handles = {}\n",
        "\n",
        "\n",
        "    def get_extract_activation_map_hook (self, layer_name):\n",
        "        def extract_activation_map_hook(module, input, output):\n",
        "            self.activation_maps[layer_name] = output.detach().clone()\n",
        "        return extract_activation_map_hook\n",
        "\n",
        "\n",
        "    def get_activation_shaping_hook (self, mask):\n",
        "        # Activation Shaping Module as a function that shall be hooked via 'register_forward_hook'\n",
        "        def activation_shaping_hook (module, input, output):\n",
        "            M = torch.where(mask <= 0, torch.tensor(0.0), torch.tensor(1.0))\n",
        "            A = torch.tensor(output)\n",
        "            #topk_values, _ = torch.topk(A.view(-1), topk)\n",
        "            topk_values, _ = torch.topk(A.view(-1), 4)\n",
        "            topk_mask = torch.where(A >= topk_values.min(), torch.tensor(1.0), torch.tensor(0.0))\n",
        "            M *= topk_mask.view_as(M)\n",
        "            shaped_output = A * M\n",
        "\n",
        "            return shaped_output\n",
        "        return activation_shaping_hook\n",
        "\n",
        "\n",
        "    def register_extract_activation_map_hooks (self, module_placement):\n",
        "        # Register hook(s) (1st hook) to store activation map\n",
        "        for layer_name, module in self.resnet.named_modules():\n",
        "            if ((isinstance(module, nn.ReLU) or isinstance(module, nn.Conv2d) or isinstance(module, nn.BatchNorm2d))):\n",
        "                if layer_name in module_placement:\n",
        "                    hook = self.get_extract_activation_map_hook(layer_name)\n",
        "                    self.activation_map_hook_handles[layer_name] = module.register_forward_hook(hook)\n",
        "\n",
        "\n",
        "    def remove_extract_activation_map_hooks (self):\n",
        "        # Remove hook(s) used to store activation map\n",
        "        for layer_name, handle in self.activation_map_hook_handles.items():\n",
        "            handle.remove()\n",
        "\n",
        "\n",
        "    def register_activation_shaping_hooks (self, module_placement, target_activation_maps):\n",
        "        # Register the Activation Shaping Module hook(s) (2nd hook)\n",
        "        for layer_name, module in self.resnet.named_modules():\n",
        "            if ((isinstance(module, nn.ReLU) or isinstance(module, nn.Conv2d) or isinstance(module, nn.BatchNorm2d))):\n",
        "                if layer_name in module_placement: # Shouldn't it be in self.activation_maps?\n",
        "                    hook = self.get_activation_shaping_hook(target_activation_maps[layer_name])\n",
        "                    self.activation_shaping_hook_handles[layer_name] = module.register_forward_hook(hook)\n",
        "\n",
        "\n",
        "    def remove_activation_shaping_hooks (self):\n",
        "        # Remove hook(s) used to perform Activation Shaping\n",
        "        for layer_name, handle in self.activation_shaping_hook_handles.items():\n",
        "            handle.remove()\n",
        "\n",
        "\n",
        "    def forward(self, x):\n",
        "        return self.resnet(x)"
      ]
    },
    {
      "cell_type": "markdown",
      "metadata": {
        "id": "qSD7qmGTvmv2"
      },
      "source": [
        "### Run"
      ]
    },
    {
      "cell_type": "markdown",
      "metadata": {
        "id": "Xw07UrGmdRdk"
      },
      "source": [
        "#### Evaluate"
      ]
    },
    {
      "cell_type": "code",
      "execution_count": 16,
      "metadata": {
        "id": "LP7mr-ccdRdl",
        "vscode": {
          "languageId": "python"
        }
      },
      "outputs": [],
      "source": [
        "@torch.no_grad()\n",
        "def evaluate(model, data):\n",
        "    model.eval()\n",
        "\n",
        "    acc_meter = Accuracy(task='multiclass', num_classes=CONFIG.num_classes)\n",
        "    acc_meter = acc_meter.to(CONFIG.device)\n",
        "\n",
        "    loss = [0.0, 0]\n",
        "    for x, y in tqdm(data):\n",
        "        with torch.autocast(device_type=CONFIG.device, dtype=torch.float16, enabled=True):\n",
        "            x, y = x.to(CONFIG.device), y.to(CONFIG.device)\n",
        "            logits = model(x)\n",
        "            acc_meter.update(logits, y)\n",
        "            loss[0] += F.cross_entropy(logits, y).item()\n",
        "            loss[1] += x.size(0)\n",
        "\n",
        "    accuracy = acc_meter.compute()\n",
        "    loss = loss[0] / loss[1]\n",
        "    logging.info(f'Accuracy: {100 * accuracy:.2f} - Loss: {loss}')\n",
        "    print(f'Accuracy: {100 * accuracy:.2f} - Loss: {loss} \\n')"
      ]
    },
    {
      "cell_type": "markdown",
      "metadata": {
        "id": "i6uEldLZdRdl"
      },
      "source": [
        "#### Train"
      ]
    },
    {
      "cell_type": "code",
      "execution_count": 18,
      "metadata": {
        "id": "98_3TWLTvmv2",
        "vscode": {
          "languageId": "python"
        }
      },
      "outputs": [],
      "source": [
        "def train(model, data):\n",
        "    # Create optimizers & schedulers\n",
        "    optimizer = torch.optim.SGD(model.parameters(), weight_decay=0.0005, momentum=0.9, nesterov=True, lr=0.001)\n",
        "    scheduler = torch.optim.lr_scheduler.StepLR(optimizer, step_size=int(CONFIG.epochs * 0.8), gamma=0.1)\n",
        "    scaler = torch.cuda.amp.GradScaler(enabled=True)\n",
        "\n",
        "    # Load checkpoint (if it exists)\n",
        "    cur_epoch = 0\n",
        "    if os.path.exists(os.path.join('record', CONFIG.experiment_name, 'last.pth')):\n",
        "        checkpoint = torch.load(os.path.join('record', CONFIG.experiment_name, 'last.pth'))\n",
        "        cur_epoch = checkpoint['epoch']\n",
        "        optimizer.load_state_dict(checkpoint['optimizer'])\n",
        "        scheduler.load_state_dict(checkpoint['scheduler'])\n",
        "        model.load_state_dict(checkpoint['model'])\n",
        "\n",
        "    # Optimization loop\n",
        "    for epoch in range(cur_epoch, CONFIG.epochs):\n",
        "        model.train()\n",
        "\n",
        "        for batch_idx, batch in enumerate(tqdm(data['train'])):\n",
        "\n",
        "            # use a separate invocation of autocast for every forward pass.\n",
        "            if CONFIG.experiment in ['domain_adaptation']:\n",
        "                with torch.autocast(device_type=CONFIG.device, dtype=torch.float16, enabled=True):\n",
        "                    model.eval()\n",
        "                    # Register hook(s) to store the target domain activation maps and perform a forward pass\n",
        "                    src_x, src_y, targ_x = batch\n",
        "                    targ_x = targ_x.to(CONFIG.device)\n",
        "                    module_placement = CONFIG.experiment_args['module_placement']\n",
        "                    model.register_extract_activation_map_hooks(module_placement)\n",
        "                    with torch.no_grad():\n",
        "                        model(targ_x)\n",
        "                    model.remove_extract_activation_map_hooks()\n",
        "                    model.train()\n",
        "            elif CONFIG.experiment in ['extension2_1_3']: # We can use the DAResNet18 class also for this extension\n",
        "                with torch.autocast(device_type=CONFIG.device, dtype=torch.float16, enabled=True):\n",
        "                    model.eval()\n",
        "                    # Register hook(s) to store the target domain activation maps and perform a forward pass\n",
        "                    src_x, src_y, targ_x = batch\n",
        "                    targ_x = targ_x.to(CONFIG.device)\n",
        "                    module_placement = CONFIG.experiment_args['module_placement']\n",
        "                    model.register_extract_activation_map_hooks(module_placement)\n",
        "                    with torch.no_grad():\n",
        "                        model(targ_x)\n",
        "                    model.remove_extract_activation_map_hooks()\n",
        "                    model.train()\n",
        "            elif CONFIG.experiment in ['extension2_2_3']:\n",
        "                with torch.autocast(device_type=CONFIG.device, dtype=torch.float16, enabled=True):\n",
        "                    model.eval()\n",
        "                    # Register hook(s) to store the target domain activation maps and perform a forward pass\n",
        "                    src_x, src_y, targ_x = batch\n",
        "                    targ_x = targ_x.to(CONFIG.device)\n",
        "                    module_placement = CONFIG.experiment_args['module_placement']\n",
        "                    model.register_extract_activation_map_hooks(module_placement)\n",
        "                    with torch.no_grad():\n",
        "                        model(targ_x)\n",
        "                    model.remove_extract_activation_map_hooks()\n",
        "                    model.train()\n",
        "\n",
        "            # Compute loss\n",
        "            with torch.autocast(device_type=CONFIG.device, dtype=torch.float16, enabled=True):\n",
        "\n",
        "                if CONFIG.experiment in ['baseline']:\n",
        "                    x, y = batch\n",
        "                    x, y = x.to(CONFIG.device), y.to(CONFIG.device)\n",
        "                    loss = F.cross_entropy(model(x), y)\n",
        "                elif CONFIG.experiment in ['random']:\n",
        "                    x, y = batch\n",
        "                    x, y = x.to(CONFIG.device), y.to(CONFIG.device)\n",
        "                    # Randomly turn off some outputs of each layer\n",
        "                    module_placement = CONFIG.experiment_args['module_placement']\n",
        "                    mask_out_ratio = CONFIG.experiment_args['mask_out_ratio']\n",
        "                    if ('extension' in CONFIG.experiment_args) and (CONFIG.experiment_args['extension'] == 'no_binarization'):\n",
        "                        model.register_random_activation_maps_hooks(module_placement, mask_out_ratio, binarize=False)\n",
        "                    else:\n",
        "                        model.register_random_activation_maps_hooks(module_placement, mask_out_ratio)\n",
        "                    loss = F.cross_entropy(model(x), y)\n",
        "                    model.remove_random_activation_maps_hooks()\n",
        "                elif CONFIG.experiment in ['extension2_1_2']: # We can use the ASHResNet18 class also for this extension\n",
        "                    x, y = batch\n",
        "                    x, y = x.to(CONFIG.device), y.to(CONFIG.device)\n",
        "                    # Randomly turn off some outputs of each layer\n",
        "                    module_placement = CONFIG.experiment_args['module_placement']\n",
        "                    mask_out_ratio = CONFIG.experiment_args['mask_out_ratio']\n",
        "                    model.register_random_activation_maps_hooks(module_placement, mask_out_ratio)\n",
        "                    loss = F.cross_entropy(model(x), y)\n",
        "                    model.remove_random_activation_maps_hooks()\n",
        "                elif CONFIG.experiment in ['extension2_2_2']:\n",
        "                    x, y = batch\n",
        "                    x, y = x.to(CONFIG.device), y.to(CONFIG.device)\n",
        "                    # Randomly turn off some outputs of each layer\n",
        "                    module_placement = CONFIG.experiment_args['module_placement']\n",
        "                    mask_out_ratio = CONFIG.experiment_args['mask_out_ratio']\n",
        "                    model.register_random_activation_maps_hooks(module_placement, mask_out_ratio)\n",
        "                    loss = F.cross_entropy(model(x), y)\n",
        "                    model.remove_random_activation_maps_hooks()\n",
        "                elif CONFIG.experiment in ['domain_adaptation']:\n",
        "                    src_x, src_y, targ_x = batch\n",
        "                    src_x, src_y = src_x.to(CONFIG.device), src_y.to(CONFIG.device)\n",
        "                    # module_placement = CONFIG.experiment_args['module_placement']\n",
        "                    # model.register_activation_shaping_hooks(module_placement)\n",
        "                    # Register the Activation Shaping hook(s) and perform a forward pass (source domain images)\n",
        "                    if ('extension' in CONFIG.experiment_args) and (CONFIG.experiment_args['extension'] == 'no_binarization'):\n",
        "                        model.register_activation_shaping_hooks(binarize=False)\n",
        "                    else:\n",
        "                        model.register_activation_shaping_hooks()\n",
        "                    loss = F.cross_entropy(model(src_x), src_y)\n",
        "                    model.remove_activation_shaping_hooks()\n",
        "                elif CONFIG.experiment in ['extension2_1_3']: # We can use the DAResNet18 class also for this extension\n",
        "                    src_x, src_y, targ_x = batch\n",
        "                    src_x, src_y = src_x.to(CONFIG.device), src_y.to(CONFIG.device)\n",
        "                    module_placement = CONFIG.experiment_args['module_placement']\n",
        "                    # Register the Activation Shaping hook(s) and perform a forward pass (source domain images)\n",
        "                    model.register_activation_shaping_hooks(module_placement)\n",
        "                    loss = F.cross_entropy(model(src_x), src_y)\n",
        "                    model.remove_activation_shaping_hooks()\n",
        "                elif CONFIG.experiment in ['extension2_2_3']:\n",
        "                    src_x, src_y, targ_x = batch\n",
        "                    src_x, src_y = src_x.to(CONFIG.device), src_y.to(CONFIG.device)\n",
        "                    module_placement = CONFIG.experiment_args['module_placement']\n",
        "                    # Register the Activation Shaping hook(s) and perform a forward pass (source domain images)\n",
        "                    model.register_activation_shaping_hooks(module_placement)\n",
        "                    loss = F.cross_entropy(model(src_x), src_y)\n",
        "                    model.remove_activation_shaping_hooks()\n",
        "\n",
        "            # Optimization step\n",
        "            scaler.scale(loss / CONFIG.grad_accum_steps).backward()\n",
        "\n",
        "            if ((batch_idx + 1) % CONFIG.grad_accum_steps == 0) or (batch_idx + 1 == len(data['train'])):\n",
        "                scaler.step(optimizer)\n",
        "                optimizer.zero_grad(set_to_none=True)\n",
        "                scaler.update()\n",
        "\n",
        "        scheduler.step()\n",
        "\n",
        "        # Test current epoch\n",
        "        logging.info(f'[TEST @ Epoch={epoch}]')\n",
        "        evaluate(model, data['test'])\n",
        "\n",
        "        # Save checkpoint\n",
        "        checkpoint = {\n",
        "            'epoch': epoch + 1,\n",
        "            'optimizer': optimizer.state_dict(),\n",
        "            'scheduler': scheduler.state_dict(),\n",
        "            'model': model.state_dict()\n",
        "        }\n",
        "        torch.save(checkpoint, os.path.join('record', CONFIG.experiment_name, 'last.pth'))"
      ]
    },
    {
      "cell_type": "markdown",
      "metadata": {
        "id": "zKNcF0QVOT-N"
      },
      "source": [
        "#### Main"
      ]
    },
    {
      "cell_type": "code",
      "execution_count": 19,
      "metadata": {
        "colab": {
          "base_uri": "https://localhost:8080/",
          "height": 157
        },
        "id": "-XxGE34mXxxe",
        "outputId": "f2b44b91-17cb-42c5-f907-1ba1c2590f93",
        "vscode": {
          "languageId": "python"
        }
      },
      "outputs": [
        {
          "output_type": "execute_result",
          "data": {
            "text/plain": [
              "\"\\nlayer_output_shapes = {\\n    'layer1.0.conv1': (64, 56, 56),         'layer1.0.relu': (64, 56, 56),          'layer1.0.conv2': (64, 56, 56),\\n    'layer1.1.conv1': (64, 56, 56),         'layer1.1.bn1': (64, 56, 56),           'layer1.1.relu': (64, 56, 56),          'layer1.1.conv2': (64, 56, 56),         'layer1.1.bn2': (64, 56, 56),\\n    'layer2.0.conv1': (128, 28, 28),        'layer2.0.relu': (128, 28, 28),         'layer2.0.conv2': (128, 28, 28),\\n    'layer2.1.conv1': (128, 28, 28),        'layer2.1.relu': (128, 28, 28),         'layer2.1.conv2': (128, 28, 28),\\n    'layer3.0.conv1': (256, 14, 14),        'layer3.0.relu': (256, 14, 14),         'layer3.0.conv2': (256, 14, 14),\\n    'layer3.1.conv1': (256, 14, 14),        'layer3.1.relu': (256, 14, 14),         'layer3.1.conv2': (256, 14, 14),\\n    'layer4.0.conv1': (512, 7, 7),          'layer4.0.relu': (512, 7, 7),           'layer4.0.conv2': (512, 7, 7),\\n    'layer4.1.conv1': (512, 7, 7),          'layer4.1.relu': (512, 7, 7),           'layer4.1.conv2': (512, 7, 7)\\n}\\n\\ndef create_random_mask(layer_name = 'layer4.1.conv2', mask_out_ratio = 0.0):\\n    # create a mask tensor with a given ratio of zeros\\n    layer_output_shape = layer_output_shapes[layer_name]\\n    rand_mat = torch.rand(layer_output_shape).to(CONFIG.device)\\n    mask = torch.where(rand_mat <= mask_out_ratio, 0.0, 1.0).to(CONFIG.device)\\n    return mask\\n\""
            ],
            "application/vnd.google.colaboratory.intrinsic+json": {
              "type": "string"
            }
          },
          "metadata": {},
          "execution_count": 19
        }
      ],
      "source": [
        "'''\n",
        "layer_output_shapes = {\n",
        "    'layer1.0.conv1': (64, 56, 56),         'layer1.0.relu': (64, 56, 56),          'layer1.0.conv2': (64, 56, 56),\n",
        "    'layer1.1.conv1': (64, 56, 56),         'layer1.1.bn1': (64, 56, 56),           'layer1.1.relu': (64, 56, 56),          'layer1.1.conv2': (64, 56, 56),         'layer1.1.bn2': (64, 56, 56),\n",
        "    'layer2.0.conv1': (128, 28, 28),        'layer2.0.relu': (128, 28, 28),         'layer2.0.conv2': (128, 28, 28),\n",
        "    'layer2.1.conv1': (128, 28, 28),        'layer2.1.relu': (128, 28, 28),         'layer2.1.conv2': (128, 28, 28),\n",
        "    'layer3.0.conv1': (256, 14, 14),        'layer3.0.relu': (256, 14, 14),         'layer3.0.conv2': (256, 14, 14),\n",
        "    'layer3.1.conv1': (256, 14, 14),        'layer3.1.relu': (256, 14, 14),         'layer3.1.conv2': (256, 14, 14),\n",
        "    'layer4.0.conv1': (512, 7, 7),          'layer4.0.relu': (512, 7, 7),           'layer4.0.conv2': (512, 7, 7),\n",
        "    'layer4.1.conv1': (512, 7, 7),          'layer4.1.relu': (512, 7, 7),           'layer4.1.conv2': (512, 7, 7)\n",
        "}\n",
        "\n",
        "def create_random_mask(layer_name = 'layer4.1.conv2', mask_out_ratio = 0.0):\n",
        "    # create a mask tensor with a given ratio of zeros\n",
        "    layer_output_shape = layer_output_shapes[layer_name]\n",
        "    rand_mat = torch.rand(layer_output_shape).to(CONFIG.device)\n",
        "    mask = torch.where(rand_mat <= mask_out_ratio, 0.0, 1.0).to(CONFIG.device)\n",
        "    return mask\n",
        "'''"
      ]
    },
    {
      "cell_type": "code",
      "execution_count": 20,
      "metadata": {
        "id": "veneeQdydRdl",
        "vscode": {
          "languageId": "python"
        }
      },
      "outputs": [],
      "source": [
        "def main ():\n",
        "    # Load dataset\n",
        "    data = load_data()\n",
        "\n",
        "    # Load model\n",
        "    if CONFIG.experiment in ['baseline']:\n",
        "        model = BaseResNet18()\n",
        "\n",
        "    elif CONFIG.experiment in ['random']:\n",
        "        model = ASHResNet18()\n",
        "    elif CONFIG.experiment in ['extension2_1_2']:\n",
        "        model = Abl12ResNet18()\n",
        "    elif CONFIG.experiment in ['extension2_2_2']:\n",
        "        model = Abl22ResNet18()\n",
        "\n",
        "    elif CONFIG.experiment in ['domain_adaptation']:\n",
        "         # module_placement = CONFIG.experiment_args['module_placement']\n",
        "         # model = DAResNet18(module_placement)\n",
        "         model = DAResNet18()\n",
        "    elif CONFIG.experiment in ['extension2_1_3']:\n",
        "         module_placement = CONFIG.experiment_args['module_placement']\n",
        "         model = Abl13ResNet18(module_placement)\n",
        "    elif CONFIG.experiment in ['extension2_2_3']:\n",
        "         module_placement = CONFIG.experiment_args['module_placement']\n",
        "         model = Abl23ResNet18(module_placement)\n",
        "\n",
        "    ######################################################\n",
        "\n",
        "    model.to(CONFIG.device)\n",
        "\n",
        "    if not CONFIG.test_only:\n",
        "        train(model, data)\n",
        "    else:\n",
        "        evaluate(model, data['test'])\n"
      ]
    },
    {
      "cell_type": "markdown",
      "metadata": {
        "id": "qTIojGThXxxf"
      },
      "source": [
        "### Custom experiment"
      ]
    },
    {
      "cell_type": "markdown",
      "metadata": {
        "id": "gOvHUjGEXxxf"
      },
      "source": [
        "#### Configurations"
      ]
    },
    {
      "cell_type": "code",
      "execution_count": 21,
      "metadata": {
        "id": "xxhgSlywXxxf",
        "vscode": {
          "languageId": "python"
        }
      },
      "outputs": [],
      "source": [
        "configurations = {\n",
        "    ##### 0 - BASELINE #####\n",
        "    \"0.1\" : { # Art Painting -> Cartoon\n",
        "        'seed': 0,\n",
        "        'test_only': False,\n",
        "        'cpu': False,\n",
        "        'experiment': 'baseline',\n",
        "        'experiment_name': '0.1',\n",
        "        'experiment_args': '{}',\n",
        "        'dataset_args': { 'text_root': 'data', 'images_root': 'data/kfold/PACS', 'source_domain': 'art_painting', 'target_domain': 'cartoon' },\n",
        "        'batch_size': 128,\n",
        "        'epochs': 30,\n",
        "        'num_workers': 5,\n",
        "        'grad_accum_steps': 1\n",
        "    },\n",
        "    \"0.2\" : { # Art Painting -> Sketch\n",
        "        'seed': 0,\n",
        "        'test_only': False,\n",
        "        'cpu': False,\n",
        "        'experiment': 'baseline',\n",
        "        'experiment_name': '0.2',\n",
        "        'experiment_args': '{}',\n",
        "        'dataset_args': { 'text_root': 'data', 'images_root': 'data/kfold/PACS', 'source_domain': 'art_painting', 'target_domain': 'sketch' },\n",
        "        'batch_size': 128,\n",
        "        'epochs': 30,\n",
        "        'num_workers': 5,\n",
        "        'grad_accum_steps': 1\n",
        "    },\n",
        "    \"0.3\" : { # Art Painting -> Photo\n",
        "        'seed': 0,\n",
        "        'test_only': False,\n",
        "        'cpu': False,\n",
        "        'experiment': 'baseline',\n",
        "        'experiment_name': '0.3',\n",
        "        'experiment_args': '{}',\n",
        "        'dataset_args': { 'text_root': 'data', 'images_root': 'data/kfold/PACS', 'source_domain': 'art_painting', 'target_domain': 'photo' },\n",
        "        'batch_size': 128,\n",
        "        'epochs': 30,\n",
        "        'num_workers': 5,\n",
        "        'grad_accum_steps': 1\n",
        "    },\n",
        "\n",
        "    ##### 1 - ACTIVATION SHAPING MODULE #####\n",
        "    #### 1.1 - ONE ASH MODULE ####\n",
        "    ### 1.1.1 - ASH MODULE AFTER layer1.0.conv1 ###\n",
        "    \"1.1.1.1\" : { # Art Painting -> Cartoon\n",
        "        'seed': 0,\n",
        "        'test_only': False,\n",
        "        'cpu': False,\n",
        "        'experiment': 'random',\n",
        "        'experiment_name': '1.1.1.1',\n",
        "        'experiment_args': {'module_placement': ['layer1.0.conv1'], 'mask_out_ratio': 0.5},\n",
        "        'dataset_args': {'text_root': 'data', 'images_root': 'data/kfold/PACS', 'source_domain': 'art_painting', 'target_domain': 'cartoon' },\n",
        "        'batch_size': 128,\n",
        "        'epochs': 30,\n",
        "        'num_workers': 5,\n",
        "        'grad_accum_steps': 1\n",
        "    },\n",
        "    \"1.1.1.2\" : { # Art Painting -> Sketch\n",
        "        'seed': 0,\n",
        "        'test_only': False,\n",
        "        'cpu': False,\n",
        "        'experiment': 'random',\n",
        "        'experiment_name': '1.1.1.2',\n",
        "        'experiment_args': {'module_placement': ['layer1.0.conv1'], 'mask_out_ratio': 0.5},\n",
        "        'dataset_args': {'text_root': 'data', 'images_root': 'data/kfold/PACS', 'source_domain': 'art_painting', 'target_domain': 'sketch' },\n",
        "        'batch_size': 128,\n",
        "        'epochs': 30,\n",
        "        'num_workers': 5,\n",
        "        'grad_accum_steps': 1\n",
        "    },\n",
        "    \"1.1.1.3\" : { # Art Painting -> Photo\n",
        "        'seed': 0,\n",
        "        'test_only': False,\n",
        "        'cpu': False,\n",
        "        'experiment': 'random',\n",
        "        'experiment_name': '1.1.1.3',\n",
        "        'experiment_args': {'module_placement': ['layer1.0.conv1'], 'mask_out_ratio': 0.5},\n",
        "        'dataset_args': {'text_root': 'data', 'images_root': 'data/kfold/PACS', 'source_domain': 'art_painting', 'target_domain': 'photo' },\n",
        "        'batch_size': 128,\n",
        "        'epochs': 30,\n",
        "        'num_workers': 5,\n",
        "        'grad_accum_steps': 1\n",
        "    },\n",
        "    ### 1.1.2 - ASH MODULE AFTER layer1.0.relu ###\n",
        "    \"1.1.2.1\" : { # Art Painting -> Cartoon\n",
        "        'seed': 0,\n",
        "        'test_only': False,\n",
        "        'cpu': False,\n",
        "        'experiment': 'random',\n",
        "        'experiment_name': '1.1.2.1',\n",
        "        'experiment_args': {'module_placement': ['layer1.0.relu'], 'mask_out_ratio': 0.5},\n",
        "        'dataset_args': {'text_root': 'data', 'images_root': 'data/kfold/PACS', 'source_domain': 'art_painting', 'target_domain': 'cartoon' },\n",
        "        'batch_size': 128,\n",
        "        'epochs': 30,\n",
        "        'num_workers': 5,\n",
        "        'grad_accum_steps': 1\n",
        "    },\n",
        "    \"1.1.2.2\" : { # Art Painting -> Sketch\n",
        "        'seed': 0,\n",
        "        'test_only': False,\n",
        "        'cpu': False,\n",
        "        'experiment': 'random',\n",
        "        'experiment_name': '1.1.2.2',\n",
        "        'experiment_args': {'module_placement': ['layer1.0.relu'], 'mask_out_ratio': 0.5},\n",
        "        'dataset_args': {'text_root': 'data', 'images_root': 'data/kfold/PACS', 'source_domain': 'art_painting', 'target_domain': 'sketch' },\n",
        "        'batch_size': 128,\n",
        "        'epochs': 30,\n",
        "        'num_workers': 5,\n",
        "        'grad_accum_steps': 1\n",
        "    },\n",
        "    \"1.1.2.3\" : { # Art Painting -> Photo\n",
        "        'seed': 0,\n",
        "        'test_only': False,\n",
        "        'cpu': False,\n",
        "        'experiment': 'random',\n",
        "        'experiment_name': '1.1.2.3',\n",
        "        'experiment_args': {'module_placement': ['layer1.0.relu'], 'mask_out_ratio': 0.5},\n",
        "        'dataset_args': {'text_root': 'data', 'images_root': 'data/kfold/PACS', 'source_domain': 'art_painting', 'target_domain': 'photo' },\n",
        "        'batch_size': 128,\n",
        "        'epochs': 30,\n",
        "        'num_workers': 5,\n",
        "        'grad_accum_steps': 1\n",
        "    },\n",
        "    ### 1.1.3 - ASH MODULE AFTER layer1.0.conv2 ###\n",
        "    \"1.1.3.1\" : { # Art Painting -> Cartoon\n",
        "        'seed': 0,\n",
        "        'test_only': False,\n",
        "        'cpu': False,\n",
        "        'experiment': 'random',\n",
        "        'experiment_name': '1.1.3.1',\n",
        "        'experiment_args': {'module_placement': ['layer1.0.conv2'], 'mask_out_ratio': 0.5},\n",
        "        'dataset_args': {'text_root': 'data', 'images_root': 'data/kfold/PACS', 'source_domain': 'art_painting', 'target_domain': 'cartoon' },\n",
        "        'batch_size': 128,\n",
        "        'epochs': 30,\n",
        "        'num_workers': 5,\n",
        "        'grad_accum_steps': 1\n",
        "    },\n",
        "    \"1.1.3.2\" : { # Art Painting -> Sketch\n",
        "        'seed': 0,\n",
        "        'test_only': False,\n",
        "        'cpu': False,\n",
        "        'experiment': 'random',\n",
        "        'experiment_name': '1.1.3.2',\n",
        "        'experiment_args': {'module_placement': ['layer1.0.conv2'], 'mask_out_ratio': 0.5},\n",
        "        'dataset_args': {'text_root': 'data', 'images_root': 'data/kfold/PACS', 'source_domain': 'art_painting', 'target_domain': 'sketch' },\n",
        "        'batch_size': 128,\n",
        "        'epochs': 30,\n",
        "        'num_workers': 5,\n",
        "        'grad_accum_steps': 1\n",
        "    },\n",
        "    \"1.1.3.3\" : { # Art Painting -> Photo\n",
        "        'seed': 0,\n",
        "        'test_only': False,\n",
        "        'cpu': False,\n",
        "        'experiment': 'random',\n",
        "        'experiment_name': '1.1.1.3',\n",
        "        'experiment_args': {'module_placement': ['layer1.0.conv2'], 'mask_out_ratio': 0.5},\n",
        "        'dataset_args': {'text_root': 'data', 'images_root': 'data/kfold/PACS', 'source_domain': 'art_painting', 'target_domain': 'photo' },\n",
        "        'batch_size': 128,\n",
        "        'epochs': 30,\n",
        "        'num_workers': 5,\n",
        "        'grad_accum_steps': 1\n",
        "    },\n",
        "    ### 1.1.4 - ASH MODULE AFTER layer1.1.conv1 ###\n",
        "    \"1.1.4.1\" : { # Art Painting -> Cartoon\n",
        "        'seed': 0,\n",
        "        'test_only': False,\n",
        "        'cpu': False,\n",
        "        'experiment': 'random',\n",
        "        'experiment_name': '1.1.4.1',\n",
        "        'experiment_args': {'module_placement': ['layer1.1.conv1'], 'mask_out_ratio': 0.5},\n",
        "        'dataset_args': {'text_root': 'data', 'images_root': 'data/kfold/PACS', 'source_domain': 'art_painting', 'target_domain': 'cartoon' },\n",
        "        'batch_size': 128,\n",
        "        'epochs': 30,\n",
        "        'num_workers': 5,\n",
        "        'grad_accum_steps': 1\n",
        "    },\n",
        "    \"1.1.4.2\" : { # Art Painting -> Sketch\n",
        "        'seed': 0,\n",
        "        'test_only': False,\n",
        "        'cpu': False,\n",
        "        'experiment': 'random',\n",
        "        'experiment_name': '1.1.4.2',\n",
        "        'experiment_args': {'module_placement': ['layer1.1.conv1'], 'mask_out_ratio': 0.5},\n",
        "        'dataset_args': {'text_root': 'data', 'images_root': 'data/kfold/PACS', 'source_domain': 'art_painting', 'target_domain': 'sketch' },\n",
        "        'batch_size': 128,\n",
        "        'epochs': 30,\n",
        "        'num_workers': 5,\n",
        "        'grad_accum_steps': 1\n",
        "    },\n",
        "    \"1.1.4.3\" : { # Art Painting -> Photo\n",
        "        'seed': 0,\n",
        "        'test_only': False,\n",
        "        'cpu': False,\n",
        "        'experiment': 'random',\n",
        "        'experiment_name': '1.1.4.3',\n",
        "        'experiment_args': {'module_placement': ['layer1.1.conv1'], 'mask_out_ratio': 0.5},\n",
        "        'dataset_args': {'text_root': 'data', 'images_root': 'data/kfold/PACS', 'source_domain': 'art_painting', 'target_domain': 'photo' },\n",
        "        'batch_size': 128,\n",
        "        'epochs': 30,\n",
        "        'num_workers': 5,\n",
        "        'grad_accum_steps': 1\n",
        "    },\n",
        "    ### 1.1.5 - ASH MODULE AFTER layer1.1.bn1 ###\n",
        "    \"1.1.5.1\" : { # Art Painting -> Cartoon\n",
        "        'seed': 0,\n",
        "        'test_only': False,\n",
        "        'cpu': False,\n",
        "        'experiment': 'random',\n",
        "        'experiment_name': '1.1.5.1',\n",
        "        'experiment_args': {'module_placement': ['layer1.1.bn1'], 'mask_out_ratio': 0.5},\n",
        "        'dataset_args': {'text_root': 'data', 'images_root': 'data/kfold/PACS', 'source_domain': 'art_painting', 'target_domain': 'cartoon' },\n",
        "        'batch_size': 128,\n",
        "        'epochs': 30,\n",
        "        'num_workers': 5,\n",
        "        'grad_accum_steps': 1\n",
        "    },\n",
        "    \"1.1.5.2\" : { # Art Painting -> Sketch\n",
        "        'seed': 0,\n",
        "        'test_only': False,\n",
        "        'cpu': False,\n",
        "        'experiment': 'random',\n",
        "        'experiment_name': '1.1.5.2',\n",
        "        'experiment_args': {'module_placement': ['layer1.1.bn1'], 'mask_out_ratio': 0.5},\n",
        "        'dataset_args': {'text_root': 'data', 'images_root': 'data/kfold/PACS', 'source_domain': 'art_painting', 'target_domain': 'sketch' },\n",
        "        'batch_size': 128,\n",
        "        'epochs': 30,\n",
        "        'num_workers': 5,\n",
        "        'grad_accum_steps': 1\n",
        "    },\n",
        "    \"1.1.5.3\" : { # Art Painting -> Photo\n",
        "        'seed': 0,\n",
        "        'test_only': False,\n",
        "        'cpu': False,\n",
        "        'experiment': 'random',\n",
        "        'experiment_name': '1.1.5.3',\n",
        "        'experiment_args': {'module_placement': ['layer1.1.bn1'], 'mask_out_ratio': 0.5},\n",
        "        'dataset_args': {'text_root': 'data', 'images_root': 'data/kfold/PACS', 'source_domain': 'art_painting', 'target_domain': 'photo' },\n",
        "        'batch_size': 128,\n",
        "        'epochs': 30,\n",
        "        'num_workers': 5,\n",
        "        'grad_accum_steps': 1\n",
        "    },\n",
        "    ### 1.1.6 - ASH MODULE AFTER layer1.1.relu ###\n",
        "    \"1.1.6.1\" : { # Art Painting -> Cartoon\n",
        "        'seed': 0,\n",
        "        'test_only': False,\n",
        "        'cpu': False,\n",
        "        'experiment': 'random',\n",
        "        'experiment_name': '1.1.6.1',\n",
        "        'experiment_args': {'module_placement': ['layer1.1.relu'], 'mask_out_ratio': 0.5},\n",
        "        'dataset_args': {'text_root': 'data', 'images_root': 'data/kfold/PACS', 'source_domain': 'art_painting', 'target_domain': 'cartoon' },\n",
        "        'batch_size': 128,\n",
        "        'epochs': 30,\n",
        "        'num_workers': 5,\n",
        "        'grad_accum_steps': 1\n",
        "    },\n",
        "    \"1.1.6.2\" : { # Art Painting -> Sketch\n",
        "        'seed': 0,\n",
        "        'test_only': False,\n",
        "        'cpu': False,\n",
        "        'experiment': 'random',\n",
        "        'experiment_name': '1.1.6.2',\n",
        "        'experiment_args': {'module_placement': ['layer1.1.relu'], 'mask_out_ratio': 0.5},\n",
        "        'dataset_args': {'text_root': 'data', 'images_root': 'data/kfold/PACS', 'source_domain': 'art_painting', 'target_domain': 'sketch' },\n",
        "        'batch_size': 128,\n",
        "        'epochs': 30,\n",
        "        'num_workers': 5,\n",
        "        'grad_accum_steps': 1\n",
        "    },\n",
        "    \"1.1.6.3\" : { # Art Painting -> Photo\n",
        "        'seed': 0,\n",
        "        'test_only': False,\n",
        "        'cpu': False,\n",
        "        'experiment': 'random',\n",
        "        'experiment_name': '1.1.6.3',\n",
        "        'experiment_args': {'module_placement': ['layer1.1.relu'], 'mask_out_ratio': 0.5},\n",
        "        'dataset_args': {'text_root': 'data', 'images_root': 'data/kfold/PACS', 'source_domain': 'art_painting', 'target_domain': 'photo' },\n",
        "        'batch_size': 128,\n",
        "        'epochs': 30,\n",
        "        'num_workers': 5,\n",
        "        'grad_accum_steps': 1\n",
        "    },\n",
        "    ### 1.1.7 - ASH MODULE AFTER layer1.1.conv2 ###\n",
        "    \"1.1.7.1\" : { # Art Painting -> Cartoon\n",
        "        'seed': 0,\n",
        "        'test_only': False,\n",
        "        'cpu': False,\n",
        "        'experiment': 'random',\n",
        "        'experiment_name': '1.1.7.1',\n",
        "        'experiment_args': {'module_placement': ['layer1.1.conv2'], 'mask_out_ratio': 0.5},\n",
        "        'dataset_args': {'text_root': 'data', 'images_root': 'data/kfold/PACS', 'source_domain': 'art_painting', 'target_domain': 'cartoon' },\n",
        "        'batch_size': 128,\n",
        "        'epochs': 30,\n",
        "        'num_workers': 5,\n",
        "        'grad_accum_steps': 1\n",
        "    },\n",
        "    \"1.1.7.2\" : { # Art Painting -> Sketch\n",
        "        'seed': 0,\n",
        "        'test_only': False,\n",
        "        'cpu': False,\n",
        "        'experiment': 'random',\n",
        "        'experiment_name': '1.1.7.2',\n",
        "        'experiment_args': {'module_placement': ['layer1.1.conv2'], 'mask_out_ratio': 0.5},\n",
        "        'dataset_args': {'text_root': 'data', 'images_root': 'data/kfold/PACS', 'source_domain': 'art_painting', 'target_domain': 'sketch' },\n",
        "        'batch_size': 128,\n",
        "        'epochs': 30,\n",
        "        'num_workers': 5,\n",
        "        'grad_accum_steps': 1\n",
        "    },\n",
        "    \"1.1.7.3\" : { # Art Painting -> Photo\n",
        "        'seed': 0,\n",
        "        'test_only': False,\n",
        "        'cpu': False,\n",
        "        'experiment': 'random',\n",
        "        'experiment_name': '1.1.7.3',\n",
        "        'experiment_args': {'module_placement': ['layer1.1.conv2'], 'mask_out_ratio': 0.5},\n",
        "        'dataset_args': {'text_root': 'data', 'images_root': 'data/kfold/PACS', 'source_domain': 'art_painting', 'target_domain': 'photo' },\n",
        "        'batch_size': 128,\n",
        "        'epochs': 30,\n",
        "        'num_workers': 5,\n",
        "        'grad_accum_steps': 1\n",
        "    },\n",
        "    ### 1.1.8 - ASH MODULE AFTER layer1.1.bn2 ###\n",
        "    \"1.1.8.1\" : { # Art Painting -> Cartoon\n",
        "        'seed': 0,\n",
        "        'test_only': False,\n",
        "        'cpu': False,\n",
        "        'experiment': 'random',\n",
        "        'experiment_name': '1.1.8.1',\n",
        "        'experiment_args': {'module_placement': ['layer1.1.bn2'], 'mask_out_ratio': 0.5},\n",
        "        'dataset_args': {'text_root': 'data', 'images_root': 'data/kfold/PACS', 'source_domain': 'art_painting', 'target_domain': 'cartoon' },\n",
        "        'batch_size': 128,\n",
        "        'epochs': 30,\n",
        "        'num_workers': 5,\n",
        "        'grad_accum_steps': 1\n",
        "    },\n",
        "    \"1.1.8.2\" : { # Art Painting -> Sketch\n",
        "        'seed': 0,\n",
        "        'test_only': False,\n",
        "        'cpu': False,\n",
        "        'experiment': 'random',\n",
        "        'experiment_name': '1.1.8.2',\n",
        "        'experiment_args': {'module_placement': ['layer1.1.bn2'], 'mask_out_ratio': 0.5},\n",
        "        'dataset_args': {'text_root': 'data', 'images_root': 'data/kfold/PACS', 'source_domain': 'art_painting', 'target_domain': 'sketch' },\n",
        "        'batch_size': 128,\n",
        "        'epochs': 30,\n",
        "        'num_workers': 5,\n",
        "        'grad_accum_steps': 1\n",
        "    },\n",
        "    \"1.1.8.3\" : { # Art Painting -> Photo\n",
        "        'seed': 0,\n",
        "        'test_only': False,\n",
        "        'cpu': False,\n",
        "        'experiment': 'random',\n",
        "        'experiment_name': '1.1.8.3',\n",
        "        'experiment_args': {'module_placement': ['layer1.1.bn2'], 'mask_out_ratio': 0.5},\n",
        "        'dataset_args': {'text_root': 'data', 'images_root': 'data/kfold/PACS', 'source_domain': 'art_painting', 'target_domain': 'photo' },\n",
        "        'batch_size': 128,\n",
        "        'epochs': 30,\n",
        "        'num_workers': 5,\n",
        "        'grad_accum_steps': 1\n",
        "    },\n",
        "    ### 1.1.9 - ASH MODULE AFTER layer2.0.conv1 ###\n",
        "    \"1.1.9.1\" : { # Art Painting -> Cartoon\n",
        "        'seed': 0,\n",
        "        'test_only': False,\n",
        "        'cpu': False,\n",
        "        'experiment': 'random',\n",
        "        'experiment_name': '1.1.9.1',\n",
        "        'experiment_args': {'module_placement': ['layer2.0.conv1'], 'mask_out_ratio': 0.5},\n",
        "        'dataset_args': {'text_root': 'data', 'images_root': 'data/kfold/PACS', 'source_domain': 'art_painting', 'target_domain': 'cartoon' },\n",
        "        'batch_size': 128,\n",
        "        'epochs': 30,\n",
        "        'num_workers': 5,\n",
        "        'grad_accum_steps': 1\n",
        "    },\n",
        "    \"1.1.9.2\" : { # Art Painting -> Sketch\n",
        "        'seed': 0,\n",
        "        'test_only': False,\n",
        "        'cpu': False,\n",
        "        'experiment': 'random',\n",
        "        'experiment_name': '1.1.9.2',\n",
        "        'experiment_args': {'module_placement': ['layer2.0.conv1'], 'mask_out_ratio': 0.5},\n",
        "        'dataset_args': {'text_root': 'data', 'images_root': 'data/kfold/PACS', 'source_domain': 'art_painting', 'target_domain': 'sketch' },\n",
        "        'batch_size': 128,\n",
        "        'epochs': 30,\n",
        "        'num_workers': 5,\n",
        "        'grad_accum_steps': 1\n",
        "    },\n",
        "    \"1.1.9.3\" : { # Art Painting -> Photo\n",
        "        'seed': 0,\n",
        "        'test_only': False,\n",
        "        'cpu': False,\n",
        "        'experiment': 'random',\n",
        "        'experiment_name': '1.1.9.3',\n",
        "        'experiment_args': {'module_placement': ['layer2.0.conv1'], 'mask_out_ratio': 0.5},\n",
        "        'dataset_args': {'text_root': 'data', 'images_root': 'data/kfold/PACS', 'source_domain': 'art_painting', 'target_domain': 'photo' },\n",
        "        'batch_size': 128,\n",
        "        'epochs': 30,\n",
        "        'num_workers': 5,\n",
        "        'grad_accum_steps': 1\n",
        "    },\n",
        "    ### 1.1.10 - ASH MODULE AFTER layer2.0.relu ###\n",
        "    \"1.1.10.1\" : { # Art Painting -> Cartoon\n",
        "        'seed': 0,\n",
        "        'test_only': False,\n",
        "        'cpu': False,\n",
        "        'experiment': 'random',\n",
        "        'experiment_name': '1.1.10.1',\n",
        "        'experiment_args': {'module_placement': ['layer2.0.relu'], 'mask_out_ratio': 0.5},\n",
        "        'dataset_args': {'text_root': 'data', 'images_root': 'data/kfold/PACS', 'source_domain': 'art_painting', 'target_domain': 'cartoon' },\n",
        "        'batch_size': 128,\n",
        "        'epochs': 30,\n",
        "        'num_workers': 5,\n",
        "        'grad_accum_steps': 1\n",
        "    },\n",
        "    \"1.1.10.2\" : { # Art Painting -> Sketch\n",
        "        'seed': 0,\n",
        "        'test_only': False,\n",
        "        'cpu': False,\n",
        "        'experiment': 'random',\n",
        "        'experiment_name': '1.1.10.2',\n",
        "        'experiment_args': {'module_placement': ['layer2.0.relu'], 'mask_out_ratio': 0.5},\n",
        "        'dataset_args': {'text_root': 'data', 'images_root': 'data/kfold/PACS', 'source_domain': 'art_painting', 'target_domain': 'sketch' },\n",
        "        'batch_size': 128,\n",
        "        'epochs': 30,\n",
        "        'num_workers': 5,\n",
        "        'grad_accum_steps': 1\n",
        "    },\n",
        "    \"1.1.10.3\" : { # Art Painting -> Photo\n",
        "        'seed': 0,\n",
        "        'test_only': False,\n",
        "        'cpu': False,\n",
        "        'experiment': 'random',\n",
        "        'experiment_name': '1.1.10.3',\n",
        "        'experiment_args': {'module_placement': ['layer2.0.relu'], 'mask_out_ratio': 0.5},\n",
        "        'dataset_args': {'text_root': 'data', 'images_root': 'data/kfold/PACS', 'source_domain': 'art_painting', 'target_domain': 'photo' },\n",
        "        'batch_size': 128,\n",
        "        'epochs': 30,\n",
        "        'num_workers': 5,\n",
        "        'grad_accum_steps': 1\n",
        "    },\n",
        "    ### 1.1.11 - ASH MODULE AFTER layer2.0.conv2 ###\n",
        "    \"1.1.11.1\" : { # Art Painting -> Cartoon\n",
        "        'seed': 0,\n",
        "        'test_only': False,\n",
        "        'cpu': False,\n",
        "        'experiment': 'random',\n",
        "        'experiment_name': '1.1.11.1',\n",
        "        'experiment_args': {'module_placement': ['layer2.0.conv2'], 'mask_out_ratio': 0.5},\n",
        "        'dataset_args': {'text_root': 'data', 'images_root': 'data/kfold/PACS', 'source_domain': 'art_painting', 'target_domain': 'cartoon' },\n",
        "        'batch_size': 128,\n",
        "        'epochs': 30,\n",
        "        'num_workers': 5,\n",
        "        'grad_accum_steps': 1\n",
        "    },\n",
        "    \"1.1.11.2\" : { # Art Painting -> Sketch\n",
        "        'seed': 0,\n",
        "        'test_only': False,\n",
        "        'cpu': False,\n",
        "        'experiment': 'random',\n",
        "        'experiment_name': '1.1.11.2',\n",
        "        'experiment_args': {'module_placement': ['layer2.0.conv2'], 'mask_out_ratio': 0.5},\n",
        "        'dataset_args': {'text_root': 'data', 'images_root': 'data/kfold/PACS', 'source_domain': 'art_painting', 'target_domain': 'sketch' },\n",
        "        'batch_size': 128,\n",
        "        'epochs': 30,\n",
        "        'num_workers': 5,\n",
        "        'grad_accum_steps': 1\n",
        "    },\n",
        "    \"1.1.11.3\" : { # Art Painting -> Photo\n",
        "        'seed': 0,\n",
        "        'test_only': False,\n",
        "        'cpu': False,\n",
        "        'experiment': 'random',\n",
        "        'experiment_name': '1.1.11.3',\n",
        "        'experiment_args': {'module_placement': ['layer2.0.conv2'], 'mask_out_ratio': 0.5},\n",
        "        'dataset_args': {'text_root': 'data', 'images_root': 'data/kfold/PACS', 'source_domain': 'art_painting', 'target_domain': 'photo' },\n",
        "        'batch_size': 128,\n",
        "        'epochs': 30,\n",
        "        'num_workers': 5,\n",
        "        'grad_accum_steps': 1\n",
        "    },\n",
        "    ### 1.1.12 - ASH MODULE AFTER layer2.1.conv1 ###\n",
        "    \"1.1.12.1\" : { # Art Painting -> Cartoon\n",
        "        'seed': 0,\n",
        "        'test_only': False,\n",
        "        'cpu': False,\n",
        "        'experiment': 'random',\n",
        "        'experiment_name': '1.1.12.1',\n",
        "        'experiment_args': {'module_placement': ['layer2.1.conv1'], 'mask_out_ratio': 0.5},\n",
        "        'dataset_args': {'text_root': 'data', 'images_root': 'data/kfold/PACS', 'source_domain': 'art_painting', 'target_domain': 'cartoon' },\n",
        "        'batch_size': 128,\n",
        "        'epochs': 30,\n",
        "        'num_workers': 5,\n",
        "        'grad_accum_steps': 1\n",
        "    },\n",
        "    \"1.1.12.2\" : { # Art Painting -> Sketch\n",
        "        'seed': 0,\n",
        "        'test_only': False,\n",
        "        'cpu': False,\n",
        "        'experiment': 'random',\n",
        "        'experiment_name': '1.1.12.2',\n",
        "        'experiment_args': {'module_placement': ['layer2.1.conv1'], 'mask_out_ratio': 0.5},\n",
        "        'dataset_args': {'text_root': 'data', 'images_root': 'data/kfold/PACS', 'source_domain': 'art_painting', 'target_domain': 'sketch' },\n",
        "        'batch_size': 128,\n",
        "        'epochs': 30,\n",
        "        'num_workers': 5,\n",
        "        'grad_accum_steps': 1\n",
        "    },\n",
        "    \"1.1.12.3\" : { # Art Painting -> Photo\n",
        "        'seed': 0,\n",
        "        'test_only': False,\n",
        "        'cpu': False,\n",
        "        'experiment': 'random',\n",
        "        'experiment_name': '1.1.12.3',\n",
        "        'experiment_args': {'module_placement': ['layer2.1.conv1'], 'mask_out_ratio': 0.5},\n",
        "        'dataset_args': {'text_root': 'data', 'images_root': 'data/kfold/PACS', 'source_domain': 'art_painting', 'target_domain': 'photo' },\n",
        "        'batch_size': 128,\n",
        "        'epochs': 30,\n",
        "        'num_workers': 5,\n",
        "        'grad_accum_steps': 1\n",
        "    },\n",
        "    ### 1.1.13 - ASH MODULE AFTER layer2.1.relu ###\n",
        "    \"1.1.13.1\" : { # Art Painting -> Cartoon\n",
        "        'seed': 0,\n",
        "        'test_only': False,\n",
        "        'cpu': False,\n",
        "        'experiment': 'random',\n",
        "        'experiment_name': '1.1.13.1',\n",
        "        'experiment_args': {'module_placement': ['layer2.1.relu'], 'mask_out_ratio': 0.5},\n",
        "        'dataset_args': {'text_root': 'data', 'images_root': 'data/kfold/PACS', 'source_domain': 'art_painting', 'target_domain': 'cartoon' },\n",
        "        'batch_size': 128,\n",
        "        'epochs': 30,\n",
        "        'num_workers': 5,\n",
        "        'grad_accum_steps': 1\n",
        "    },\n",
        "    \"1.1.13.2\" : { # Art Painting -> Sketch\n",
        "        'seed': 0,\n",
        "        'test_only': False,\n",
        "        'cpu': False,\n",
        "        'experiment': 'random',\n",
        "        'experiment_name': '1.1.13.2',\n",
        "        'experiment_args': {'module_placement': ['layer2.1.relu'], 'mask_out_ratio': 0.5},\n",
        "        'dataset_args': {'text_root': 'data', 'images_root': 'data/kfold/PACS', 'source_domain': 'art_painting', 'target_domain': 'sketch' },\n",
        "        'batch_size': 128,\n",
        "        'epochs': 30,\n",
        "        'num_workers': 5,\n",
        "        'grad_accum_steps': 1\n",
        "    },\n",
        "    \"1.1.13.3\" : { # Art Painting -> Photo\n",
        "        'seed': 0,\n",
        "        'test_only': False,\n",
        "        'cpu': False,\n",
        "        'experiment': 'random',\n",
        "        'experiment_name': '1.1.13.3',\n",
        "        'experiment_args': {'module_placement': ['layer2.1.relu'], 'mask_out_ratio': 0.5},\n",
        "        'dataset_args': {'text_root': 'data', 'images_root': 'data/kfold/PACS', 'source_domain': 'art_painting', 'target_domain': 'photo' },\n",
        "        'batch_size': 128,\n",
        "        'epochs': 30,\n",
        "        'num_workers': 5,\n",
        "        'grad_accum_steps': 1\n",
        "    },\n",
        "    ### 1.1.14 - ASH MODULE AFTER layer2.1.conv2 ###\n",
        "    \"1.1.14.1\" : { # Art Painting -> Cartoon\n",
        "        'seed': 0,\n",
        "        'test_only': False,\n",
        "        'cpu': False,\n",
        "        'experiment': 'random',\n",
        "        'experiment_name': '1.1.14.1',\n",
        "        'experiment_args': {'module_placement': ['layer2.1.conv2'], 'mask_out_ratio': 0.5},\n",
        "        'dataset_args': {'text_root': 'data', 'images_root': 'data/kfold/PACS', 'source_domain': 'art_painting', 'target_domain': 'cartoon' },\n",
        "        'batch_size': 128,\n",
        "        'epochs': 30,\n",
        "        'num_workers': 5,\n",
        "        'grad_accum_steps': 1\n",
        "    },\n",
        "    \"1.1.14.2\" : { # Art Painting -> Sketch\n",
        "        'seed': 0,\n",
        "        'test_only': False,\n",
        "        'cpu': False,\n",
        "        'experiment': 'random',\n",
        "        'experiment_name': '1.1.14.2',\n",
        "        'experiment_args': {'module_placement': ['layer2.1.conv2'], 'mask_out_ratio': 0.5},\n",
        "        'dataset_args': {'text_root': 'data', 'images_root': 'data/kfold/PACS', 'source_domain': 'art_painting', 'target_domain': 'sketch' },\n",
        "        'batch_size': 128,\n",
        "        'epochs': 30,\n",
        "        'num_workers': 5,\n",
        "        'grad_accum_steps': 1\n",
        "    },\n",
        "    \"1.1.14.3\" : { # Art Painting -> Photo\n",
        "        'seed': 0,\n",
        "        'test_only': False,\n",
        "        'cpu': False,\n",
        "        'experiment': 'random',\n",
        "        'experiment_name': '1.1.14.3',\n",
        "        'experiment_args': {'module_placement': ['layer2.1.conv2'], 'mask_out_ratio': 0.5},\n",
        "        'dataset_args': {'text_root': 'data', 'images_root': 'data/kfold/PACS', 'source_domain': 'art_painting', 'target_domain': 'photo' },\n",
        "        'batch_size': 128,\n",
        "        'epochs': 30,\n",
        "        'num_workers': 5,\n",
        "        'grad_accum_steps': 1\n",
        "    },\n",
        "    ### 1.1.15 - ASH MODULE AFTER layer3.0.conv1 ###\n",
        "    \"1.1.15.1\" : { # Art Painting -> Cartoon\n",
        "        'seed': 0,\n",
        "        'test_only': False,\n",
        "        'cpu': False,\n",
        "        'experiment': 'random',\n",
        "        'experiment_name': '1.1.15.1',\n",
        "        'experiment_args': {'module_placement': ['layer3.0.conv1'], 'mask_out_ratio': 0.5},\n",
        "        'dataset_args': {'text_root': 'data', 'images_root': 'data/kfold/PACS', 'source_domain': 'art_painting', 'target_domain': 'cartoon' },\n",
        "        'batch_size': 128,\n",
        "        'epochs': 30,\n",
        "        'num_workers': 5,\n",
        "        'grad_accum_steps': 1\n",
        "    },\n",
        "    \"1.1.15.2\" : { # Art Painting -> Sketch\n",
        "        'seed': 0,\n",
        "        'test_only': False,\n",
        "        'cpu': False,\n",
        "        'experiment': 'random',\n",
        "        'experiment_name': '1.1.15.2',\n",
        "        'experiment_args': {'module_placement': ['layer3.0.conv1'], 'mask_out_ratio': 0.5},\n",
        "        'dataset_args': {'text_root': 'data', 'images_root': 'data/kfold/PACS', 'source_domain': 'art_painting', 'target_domain': 'sketch' },\n",
        "        'batch_size': 128,\n",
        "        'epochs': 30,\n",
        "        'num_workers': 5,\n",
        "        'grad_accum_steps': 1\n",
        "    },\n",
        "    \"1.1.15.3\" : { # Art Painting -> Photo\n",
        "        'seed': 0,\n",
        "        'test_only': False,\n",
        "        'cpu': False,\n",
        "        'experiment': 'random',\n",
        "        'experiment_name': '1.1.15.3',\n",
        "        'experiment_args': {'module_placement': ['layer3.0.conv1'], 'mask_out_ratio': 0.5},\n",
        "        'dataset_args': {'text_root': 'data', 'images_root': 'data/kfold/PACS', 'source_domain': 'art_painting', 'target_domain': 'photo' },\n",
        "        'batch_size': 128,\n",
        "        'epochs': 30,\n",
        "        'num_workers': 5,\n",
        "        'grad_accum_steps': 1\n",
        "    },\n",
        "    ### 1.1.16 - ASH MODULE AFTER layer3.0.relu ###\n",
        "    \"1.1.16.1\" : { # Art Painting -> Cartoon\n",
        "        'seed': 0,\n",
        "        'test_only': False,\n",
        "        'cpu': False,\n",
        "        'experiment': 'random',\n",
        "        'experiment_name': '1.1.16.1',\n",
        "        'experiment_args': {'module_placement': ['layer3.0.relu'], 'mask_out_ratio': 0.5},\n",
        "        'dataset_args': {'text_root': 'data', 'images_root': 'data/kfold/PACS', 'source_domain': 'art_painting', 'target_domain': 'cartoon' },\n",
        "        'batch_size': 128,\n",
        "        'epochs': 30,\n",
        "        'num_workers': 5,\n",
        "        'grad_accum_steps': 1\n",
        "    },\n",
        "    \"1.1.16.2\" : { # Art Painting -> Sketch\n",
        "        'seed': 0,\n",
        "        'test_only': False,\n",
        "        'cpu': False,\n",
        "        'experiment': 'random',\n",
        "        'experiment_name': '1.1.16.2',\n",
        "        'experiment_args': {'module_placement': ['layer3.0.relu'], 'mask_out_ratio': 0.5},\n",
        "        'dataset_args': {'text_root': 'data', 'images_root': 'data/kfold/PACS', 'source_domain': 'art_painting', 'target_domain': 'sketch' },\n",
        "        'batch_size': 128,\n",
        "        'epochs': 30,\n",
        "        'num_workers': 5,\n",
        "        'grad_accum_steps': 1\n",
        "    },\n",
        "    \"1.1.16.3\" : { # Art Painting -> Photo\n",
        "        'seed': 0,\n",
        "        'test_only': False,\n",
        "        'cpu': False,\n",
        "        'experiment': 'random',\n",
        "        'experiment_name': '1.1.16.3',\n",
        "        'experiment_args': {'module_placement': ['layer3.0.relu'], 'mask_out_ratio': 0.5},\n",
        "        'dataset_args': {'text_root': 'data', 'images_root': 'data/kfold/PACS', 'source_domain': 'art_painting', 'target_domain': 'photo' },\n",
        "        'batch_size': 128,\n",
        "        'epochs': 30,\n",
        "        'num_workers': 5,\n",
        "        'grad_accum_steps': 1\n",
        "    },\n",
        "    ### 1.1.17 - ASH MODULE AFTER layer3.0.conv2 ###\n",
        "    \"1.1.17.1\" : { # Art Painting -> Cartoon\n",
        "        'seed': 0,\n",
        "        'test_only': False,\n",
        "        'cpu': False,\n",
        "        'experiment': 'random',\n",
        "        'experiment_name': '1.1.17.1',\n",
        "        'experiment_args': {'module_placement': ['layer3.0.conv2'], 'mask_out_ratio': 0.5},\n",
        "        'dataset_args': {'text_root': 'data', 'images_root': 'data/kfold/PACS', 'source_domain': 'art_painting', 'target_domain': 'cartoon' },\n",
        "        'batch_size': 128,\n",
        "        'epochs': 30,\n",
        "        'num_workers': 5,\n",
        "        'grad_accum_steps': 1\n",
        "    },\n",
        "    \"1.1.17.2\" : { # Art Painting -> Sketch\n",
        "        'seed': 0,\n",
        "        'test_only': False,\n",
        "        'cpu': False,\n",
        "        'experiment': 'random',\n",
        "        'experiment_name': '1.1.17.2',\n",
        "        'experiment_args': {'module_placement': ['layer3.0.conv2'], 'mask_out_ratio': 0.5},\n",
        "        'dataset_args': {'text_root': 'data', 'images_root': 'data/kfold/PACS', 'source_domain': 'art_painting', 'target_domain': 'sketch' },\n",
        "        'batch_size': 128,\n",
        "        'epochs': 30,\n",
        "        'num_workers': 5,\n",
        "        'grad_accum_steps': 1\n",
        "    },\n",
        "    \"1.1.17.3\" : { # Art Painting -> Photo\n",
        "        'seed': 0,\n",
        "        'test_only': False,\n",
        "        'cpu': False,\n",
        "        'experiment': 'random',\n",
        "        'experiment_name': '1.1.17.3',\n",
        "        'experiment_args': {'module_placement': ['layer3.0.conv2'], 'mask_out_ratio': 0.5},\n",
        "        'dataset_args': {'text_root': 'data', 'images_root': 'data/kfold/PACS', 'source_domain': 'art_painting', 'target_domain': 'photo' },\n",
        "        'batch_size': 128,\n",
        "        'epochs': 30,\n",
        "        'num_workers': 5,\n",
        "        'grad_accum_steps': 1\n",
        "    },\n",
        "    ### 1.1.18 - ASH MODULE AFTER layer3.1.conv1 ###\n",
        "    \"1.1.18.1\" : { # Art Painting -> Cartoon\n",
        "        'seed': 0,\n",
        "        'test_only': False,\n",
        "        'cpu': False,\n",
        "        'experiment': 'random',\n",
        "        'experiment_name': '1.1.18.1',\n",
        "        'experiment_args': {'module_placement': ['layer3.1.conv1'], 'mask_out_ratio': 0.5},\n",
        "        'dataset_args': {'text_root': 'data', 'images_root': 'data/kfold/PACS', 'source_domain': 'art_painting', 'target_domain': 'cartoon' },\n",
        "        'batch_size': 128,\n",
        "        'epochs': 30,\n",
        "        'num_workers': 5,\n",
        "        'grad_accum_steps': 1\n",
        "    },\n",
        "    \"1.1.18.2\" : { # Art Painting -> Sketch\n",
        "        'seed': 0,\n",
        "        'test_only': False,\n",
        "        'cpu': False,\n",
        "        'experiment': 'random',\n",
        "        'experiment_name': '1.1.18.2',\n",
        "        'experiment_args': {'module_placement': ['layer3.1.conv1'], 'mask_out_ratio': 0.5},\n",
        "        'dataset_args': {'text_root': 'data', 'images_root': 'data/kfold/PACS', 'source_domain': 'art_painting', 'target_domain': 'sketch' },\n",
        "        'batch_size': 128,\n",
        "        'epochs': 30,\n",
        "        'num_workers': 5,\n",
        "        'grad_accum_steps': 1\n",
        "    },\n",
        "    \"1.1.18.3\" : { # Art Painting -> Photo\n",
        "        'seed': 0,\n",
        "        'test_only': False,\n",
        "        'cpu': False,\n",
        "        'experiment': 'random',\n",
        "        'experiment_name': '1.1.18.3',\n",
        "        'experiment_args': {'module_placement': ['layer3.1.conv1'], 'mask_out_ratio': 0.5},\n",
        "        'dataset_args': {'text_root': 'data', 'images_root': 'data/kfold/PACS', 'source_domain': 'art_painting', 'target_domain': 'photo' },\n",
        "        'batch_size': 128,\n",
        "        'epochs': 30,\n",
        "        'num_workers': 5,\n",
        "        'grad_accum_steps': 1\n",
        "    },\n",
        "    ### 1.1.19 - ASH MODULE AFTER layer3.1.relu ###\n",
        "    \"1.1.19.1\" : { # Art Painting -> Cartoon\n",
        "        'seed': 0,\n",
        "        'test_only': False,\n",
        "        'cpu': False,\n",
        "        'experiment': 'random',\n",
        "        'experiment_name': '1.1.19.1',\n",
        "        'experiment_args': {'module_placement': ['layer3.1.relu'], 'mask_out_ratio': 0.5},\n",
        "        'dataset_args': {'text_root': 'data', 'images_root': 'data/kfold/PACS', 'source_domain': 'art_painting', 'target_domain': 'cartoon' },\n",
        "        'batch_size': 128,\n",
        "        'epochs': 30,\n",
        "        'num_workers': 5,\n",
        "        'grad_accum_steps': 1\n",
        "    },\n",
        "    \"1.1.19.2\" : { # Art Painting -> Sketch\n",
        "        'seed': 0,\n",
        "        'test_only': False,\n",
        "        'cpu': False,\n",
        "        'experiment': 'random',\n",
        "        'experiment_name': '1.1.19.2',\n",
        "        'experiment_args': {'module_placement': ['layer3.1.relu'], 'mask_out_ratio': 0.5},\n",
        "        'dataset_args': {'text_root': 'data', 'images_root': 'data/kfold/PACS', 'source_domain': 'art_painting', 'target_domain': 'sketch' },\n",
        "        'batch_size': 128,\n",
        "        'epochs': 30,\n",
        "        'num_workers': 5,\n",
        "        'grad_accum_steps': 1\n",
        "    },\n",
        "    \"1.1.19.3\" : { # Art Painting -> Photo\n",
        "        'seed': 0,\n",
        "        'test_only': False,\n",
        "        'cpu': False,\n",
        "        'experiment': 'random',\n",
        "        'experiment_name': '1.1.19.3',\n",
        "        'experiment_args': {'module_placement': ['layer3.1.relu'], 'mask_out_ratio': 0.5},\n",
        "        'dataset_args': {'text_root': 'data', 'images_root': 'data/kfold/PACS', 'source_domain': 'art_painting', 'target_domain': 'photo' },\n",
        "        'batch_size': 128,\n",
        "        'epochs': 30,\n",
        "        'num_workers': 5,\n",
        "        'grad_accum_steps': 1\n",
        "    },\n",
        "    ### 1.1.20 - ASH MODULE AFTER layer3.1.conv2 ###\n",
        "    \"1.1.20.1\" : { # Art Painting -> Cartoon\n",
        "        'seed': 0,\n",
        "        'test_only': False,\n",
        "        'cpu': False,\n",
        "        'experiment': 'random',\n",
        "        'experiment_name': '1.1.20.1',\n",
        "        'experiment_args': {'module_placement': ['layer3.1.conv2'], 'mask_out_ratio': 0.5},\n",
        "        'dataset_args': {'text_root': 'data', 'images_root': 'data/kfold/PACS', 'source_domain': 'art_painting', 'target_domain': 'cartoon' },\n",
        "        'batch_size': 128,\n",
        "        'epochs': 30,\n",
        "        'num_workers': 5,\n",
        "        'grad_accum_steps': 1\n",
        "    },\n",
        "    \"1.1.20.2\" : { # Art Painting -> Sketch\n",
        "        'seed': 0,\n",
        "        'test_only': False,\n",
        "        'cpu': False,\n",
        "        'experiment': 'random',\n",
        "        'experiment_name': '1.1.20.2',\n",
        "        'experiment_args': {'module_placement': ['layer3.1.conv2'], 'mask_out_ratio': 0.5},\n",
        "        'dataset_args': {'text_root': 'data', 'images_root': 'data/kfold/PACS', 'source_domain': 'art_painting', 'target_domain': 'sketch' },\n",
        "        'batch_size': 128,\n",
        "        'epochs': 30,\n",
        "        'num_workers': 5,\n",
        "        'grad_accum_steps': 1\n",
        "    },\n",
        "    \"1.1.20.3\" : { # Art Painting -> Photo\n",
        "        'seed': 0,\n",
        "        'test_only': False,\n",
        "        'cpu': False,\n",
        "        'experiment': 'random',\n",
        "        'experiment_name': '1.1.20.3',\n",
        "        'experiment_args': {'module_placement': ['layer3.1.conv2'], 'mask_out_ratio': 0.5},\n",
        "        'dataset_args': {'text_root': 'data', 'images_root': 'data/kfold/PACS', 'source_domain': 'art_painting', 'target_domain': 'photo' },\n",
        "        'batch_size': 128,\n",
        "        'epochs': 30,\n",
        "        'num_workers': 5,\n",
        "        'grad_accum_steps': 1\n",
        "    },\n",
        "    ### 1.1.21 - ASH MODULE AFTER layer4.0.conv1 ###\n",
        "    \"1.1.21.1\" : { # Art Painting -> Cartoon\n",
        "        'seed': 0,\n",
        "        'test_only': False,\n",
        "        'cpu': False,\n",
        "        'experiment': 'random',\n",
        "        'experiment_name': '1.1.21.1',\n",
        "        'experiment_args': {'module_placement': ['layer4.0.conv1'], 'mask_out_ratio': 0.5},\n",
        "        'dataset_args': {'text_root': 'data', 'images_root': 'data/kfold/PACS', 'source_domain': 'art_painting', 'target_domain': 'cartoon' },\n",
        "        'batch_size': 128,\n",
        "        'epochs': 30,\n",
        "        'num_workers': 5,\n",
        "        'grad_accum_steps': 1\n",
        "    },\n",
        "    \"1.1.21.2\" : { # Art Painting -> Sketch\n",
        "        'seed': 0,\n",
        "        'test_only': False,\n",
        "        'cpu': False,\n",
        "        'experiment': 'random',\n",
        "        'experiment_name': '1.1.21.2',\n",
        "        'experiment_args': {'module_placement': ['layer4.0.conv1'], 'mask_out_ratio': 0.5},\n",
        "        'dataset_args': {'text_root': 'data', 'images_root': 'data/kfold/PACS', 'source_domain': 'art_painting', 'target_domain': 'sketch' },\n",
        "        'batch_size': 128,\n",
        "        'epochs': 30,\n",
        "        'num_workers': 5,\n",
        "        'grad_accum_steps': 1\n",
        "    },\n",
        "    \"1.1.21.3\" : { # Art Painting -> Photo\n",
        "        'seed': 0,\n",
        "        'test_only': False,\n",
        "        'cpu': False,\n",
        "        'experiment': 'random',\n",
        "        'experiment_name': '1.1.21.3',\n",
        "        'experiment_args': {'module_placement': ['layer4.0.conv1'], 'mask_out_ratio': 0.5},\n",
        "        'dataset_args': {'text_root': 'data', 'images_root': 'data/kfold/PACS', 'source_domain': 'art_painting', 'target_domain': 'photo' },\n",
        "        'batch_size': 128,\n",
        "        'epochs': 30,\n",
        "        'num_workers': 5,\n",
        "        'grad_accum_steps': 1\n",
        "    },\n",
        "    ### 1.1.22 - ASH MODULE AFTER layer4.0.relu ###\n",
        "    \"1.1.22.1\" : { # Art Painting -> Cartoon\n",
        "        'seed': 0,\n",
        "        'test_only': False,\n",
        "        'cpu': False,\n",
        "        'experiment': 'random',\n",
        "        'experiment_name': '1.1.22.1',\n",
        "        'experiment_args': {'module_placement': ['layer4.0.relu'], 'mask_out_ratio': 0.5},\n",
        "        'dataset_args': {'text_root': 'data', 'images_root': 'data/kfold/PACS', 'source_domain': 'art_painting', 'target_domain': 'cartoon' },\n",
        "        'batch_size': 128,\n",
        "        'epochs': 30,\n",
        "        'num_workers': 5,\n",
        "        'grad_accum_steps': 1\n",
        "    },\n",
        "    \"1.1.22.2\" : { # Art Painting -> Sketch\n",
        "        'seed': 0,\n",
        "        'test_only': False,\n",
        "        'cpu': False,\n",
        "        'experiment': 'random',\n",
        "        'experiment_name': '1.1.22.2',\n",
        "        'experiment_args': {'module_placement': ['layer4.0.relu'], 'mask_out_ratio': 0.5},\n",
        "        'dataset_args': {'text_root': 'data', 'images_root': 'data/kfold/PACS', 'source_domain': 'art_painting', 'target_domain': 'sketch' },\n",
        "        'batch_size': 128,\n",
        "        'epochs': 30,\n",
        "        'num_workers': 5,\n",
        "        'grad_accum_steps': 1\n",
        "    },\n",
        "    \"1.1.22.3\" : { # Art Painting -> Photo\n",
        "        'seed': 0,\n",
        "        'test_only': False,\n",
        "        'cpu': False,\n",
        "        'experiment': 'random',\n",
        "        'experiment_name': '1.1.22.3',\n",
        "        'experiment_args': {'module_placement': ['layer4.0.relu'], 'mask_out_ratio': 0.5},\n",
        "        'dataset_args': {'text_root': 'data', 'images_root': 'data/kfold/PACS', 'source_domain': 'art_painting', 'target_domain': 'photo' },\n",
        "        'batch_size': 128,\n",
        "        'epochs': 30,\n",
        "        'num_workers': 5,\n",
        "        'grad_accum_steps': 1\n",
        "    },\n",
        "    ### 1.1.23 - ASH MODULE AFTER layer4.0.conv2 ###\n",
        "    \"1.1.23.1\" : { # Art Painting -> Cartoon\n",
        "        'seed': 0,\n",
        "        'test_only': False,\n",
        "        'cpu': False,\n",
        "        'experiment': 'random',\n",
        "        'experiment_name': '1.1.23.1',\n",
        "        'experiment_args': {'module_placement': ['layer4.0.conv2'], 'mask_out_ratio': 0.5},\n",
        "        'dataset_args': {'text_root': 'data', 'images_root': 'data/kfold/PACS', 'source_domain': 'art_painting', 'target_domain': 'cartoon' },\n",
        "        'batch_size': 128,\n",
        "        'epochs': 30,\n",
        "        'num_workers': 5,\n",
        "        'grad_accum_steps': 1\n",
        "    },\n",
        "    \"1.1.23.2\" : { # Art Painting -> Sketch\n",
        "        'seed': 0,\n",
        "        'test_only': False,\n",
        "        'cpu': False,\n",
        "        'experiment': 'random',\n",
        "        'experiment_name': '1.1.23.2',\n",
        "        'experiment_args': {'module_placement': ['layer4.0.conv2'], 'mask_out_ratio': 0.5},\n",
        "        'dataset_args': {'text_root': 'data', 'images_root': 'data/kfold/PACS', 'source_domain': 'art_painting', 'target_domain': 'sketch' },\n",
        "        'batch_size': 128,\n",
        "        'epochs': 30,\n",
        "        'num_workers': 5,\n",
        "        'grad_accum_steps': 1\n",
        "    },\n",
        "    \"1.1.23.3\" : { # Art Painting -> Photo\n",
        "        'seed': 0,\n",
        "        'test_only': False,\n",
        "        'cpu': False,\n",
        "        'experiment': 'random',\n",
        "        'experiment_name': '1.1.23.3',\n",
        "        'experiment_args': {'module_placement': ['layer4.0.conv2'], 'mask_out_ratio': 0.5},\n",
        "        'dataset_args': {'text_root': 'data', 'images_root': 'data/kfold/PACS', 'source_domain': 'art_painting', 'target_domain': 'photo' },\n",
        "        'batch_size': 128,\n",
        "        'epochs': 30,\n",
        "        'num_workers': 5,\n",
        "        'grad_accum_steps': 1\n",
        "    },\n",
        "    ### 1.1.24 - ASH MODULE AFTER layer4.1.conv1 ###\n",
        "    \"1.1.24.1\" : { # Art Painting -> Cartoon\n",
        "        'seed': 0,\n",
        "        'test_only': False,\n",
        "        'cpu': False,\n",
        "        'experiment': 'random',\n",
        "        'experiment_name': '1.1.24.1',\n",
        "        'experiment_args': {'module_placement': ['layer4.1.conv1'], 'mask_out_ratio': 0.5},\n",
        "        'dataset_args': {'text_root': 'data', 'images_root': 'data/kfold/PACS', 'source_domain': 'art_painting', 'target_domain': 'cartoon' },\n",
        "        'batch_size': 128,\n",
        "        'epochs': 30,\n",
        "        'num_workers': 5,\n",
        "        'grad_accum_steps': 1\n",
        "    },\n",
        "    \"1.1.24.2\" : { # Art Painting -> Sketch\n",
        "        'seed': 0,\n",
        "        'test_only': False,\n",
        "        'cpu': False,\n",
        "        'experiment': 'random',\n",
        "        'experiment_name': '1.1.24.2',\n",
        "        'experiment_args': {'module_placement': ['layer4.1.conv1'], 'mask_out_ratio': 0.5},\n",
        "        'dataset_args': {'text_root': 'data', 'images_root': 'data/kfold/PACS', 'source_domain': 'art_painting', 'target_domain': 'sketch' },\n",
        "        'batch_size': 128,\n",
        "        'epochs': 30,\n",
        "        'num_workers': 5,\n",
        "        'grad_accum_steps': 1\n",
        "    },\n",
        "    \"1.1.24.3\" : { # Art Painting -> Photo\n",
        "        'seed': 0,\n",
        "        'test_only': False,\n",
        "        'cpu': False,\n",
        "        'experiment': 'random',\n",
        "        'experiment_name': '1.1.24.3',\n",
        "        'experiment_args': {'module_placement': ['layer4.1.conv1'], 'mask_out_ratio': 0.5},\n",
        "        'dataset_args': {'text_root': 'data', 'images_root': 'data/kfold/PACS', 'source_domain': 'art_painting', 'target_domain': 'photo' },\n",
        "        'batch_size': 128,\n",
        "        'epochs': 30,\n",
        "        'num_workers': 5,\n",
        "        'grad_accum_steps': 1\n",
        "    },\n",
        "    ### 1.1.25 - ASH MODULE AFTER layer4.1.relu ###\n",
        "    \"1.1.25.1\" : { # Art Painting -> Cartoon\n",
        "        'seed': 0,\n",
        "        'test_only': False,\n",
        "        'cpu': False,\n",
        "        'experiment': 'random',\n",
        "        'experiment_name': '1.1.25.1',\n",
        "        'experiment_args': {'module_placement': ['layer4.1.relu'], 'mask_out_ratio': 0.5},\n",
        "        'dataset_args': {'text_root': 'data', 'images_root': 'data/kfold/PACS', 'source_domain': 'art_painting', 'target_domain': 'cartoon' },\n",
        "        'batch_size': 128,\n",
        "        'epochs': 30,\n",
        "        'num_workers': 5,\n",
        "        'grad_accum_steps': 1\n",
        "    },\n",
        "    \"1.1.25.2\" : { # Art Painting -> Sketch\n",
        "        'seed': 0,\n",
        "        'test_only': False,\n",
        "        'cpu': False,\n",
        "        'experiment': 'random',\n",
        "        'experiment_name': '1.1.25.2',\n",
        "        'experiment_args': {'module_placement': ['layer4.1.relu'], 'mask_out_ratio': 0.5},\n",
        "        'dataset_args': {'text_root': 'data', 'images_root': 'data/kfold/PACS', 'source_domain': 'art_painting', 'target_domain': 'sketch' },\n",
        "        'batch_size': 128,\n",
        "        'epochs': 30,\n",
        "        'num_workers': 5,\n",
        "        'grad_accum_steps': 1\n",
        "    },\n",
        "    \"1.1.25.3\" : { # Art Painting -> Photo\n",
        "        'seed': 0,\n",
        "        'test_only': False,\n",
        "        'cpu': False,\n",
        "        'experiment': 'random',\n",
        "        'experiment_name': '1.1.25.3',\n",
        "        'experiment_args': {'module_placement': ['layer4.1.relu'], 'mask_out_ratio': 0.5},\n",
        "        'dataset_args': {'text_root': 'data', 'images_root': 'data/kfold/PACS', 'source_domain': 'art_painting', 'target_domain': 'photo' },\n",
        "        'batch_size': 128,\n",
        "        'epochs': 30,\n",
        "        'num_workers': 5,\n",
        "        'grad_accum_steps': 1\n",
        "    },\n",
        "    ### 1.1.26 - ASH MODULE AFTER layer4.1.conv2 ###\n",
        "    \"1.1.26.1\" : { # Art Painting -> Cartoon\n",
        "        'seed': 0,\n",
        "        'test_only': False,\n",
        "        'cpu': False,\n",
        "        'experiment': 'random',\n",
        "        'experiment_name': '1.1.26.1',\n",
        "        'experiment_args': {'module_placement': ['layer4.1.conv2'], 'mask_out_ratio': 0.5},\n",
        "        'dataset_args': {'text_root': 'data', 'images_root': 'data/kfold/PACS', 'source_domain': 'art_painting', 'target_domain': 'cartoon' },\n",
        "        'batch_size': 128,\n",
        "        'epochs': 30,\n",
        "        'num_workers': 5,\n",
        "        'grad_accum_steps': 1\n",
        "    },\n",
        "    \"1.1.26.2\" : { # Art Painting -> Sketch\n",
        "        'seed': 0,\n",
        "        'test_only': False,\n",
        "        'cpu': False,\n",
        "        'experiment': 'random',\n",
        "        'experiment_name': '1.1.26.2',\n",
        "        'experiment_args': {'module_placement': ['layer4.1.conv2'], 'mask_out_ratio': 0.5},\n",
        "        'dataset_args': {'text_root': 'data', 'images_root': 'data/kfold/PACS', 'source_domain': 'art_painting', 'target_domain': 'sketch' },\n",
        "        'batch_size': 128,\n",
        "        'epochs': 30,\n",
        "        'num_workers': 5,\n",
        "        'grad_accum_steps': 1\n",
        "    },\n",
        "    \"1.1.26.3\" : { # Art Painting -> Photo\n",
        "        'seed': 0,\n",
        "        'test_only': False,\n",
        "        'cpu': False,\n",
        "        'experiment': 'random',\n",
        "        'experiment_name': '1.1.26.3',\n",
        "        'experiment_args': {'module_placement': ['layer4.1.conv2'], 'mask_out_ratio': 0.5},\n",
        "        'dataset_args': {'text_root': 'data', 'images_root': 'data/kfold/PACS', 'source_domain': 'art_painting', 'target_domain': 'photo' },\n",
        "        'batch_size': 128,\n",
        "        'epochs': 30,\n",
        "        'num_workers': 5,\n",
        "        'grad_accum_steps': 1\n",
        "    },\n",
        "\n",
        "    #### 1.2 - TWO ASH MODULES ####\n",
        "    ### 1.2.1 - ASH MODULE AFTER layer1.1.bn1 AND layer1.1.conv2 ###\n",
        "    \"1.2.1.1\" : { # Art Painting -> Cartoon\n",
        "        'seed': 0,\n",
        "        'test_only': False,\n",
        "        'cpu': False,\n",
        "        'experiment': 'random',\n",
        "        'experiment_name': '1.2.1.1',\n",
        "        'experiment_args': {'module_placement': ['layer1.1.bn1', 'layer1.1.conv2'], 'mask_out_ratio': 0.5},\n",
        "        'dataset_args': {'text_root': 'data', 'images_root': 'data/kfold/PACS', 'source_domain': 'art_painting', 'target_domain': 'cartoon' },\n",
        "        'batch_size': 128,\n",
        "        'epochs': 30,\n",
        "        'num_workers': 5,\n",
        "        'grad_accum_steps': 1\n",
        "    },\n",
        "    \"1.2.1.2\" : { # Art Painting -> Sketch\n",
        "        'seed': 0,\n",
        "        'test_only': False,\n",
        "        'cpu': False,\n",
        "        'experiment': 'random',\n",
        "        'experiment_name': '1.2.1.2',\n",
        "        'experiment_args': {'module_placement': ['layer1.1.bn1', 'layer1.1.conv2'], 'mask_out_ratio': 0.5},\n",
        "        'dataset_args': {'text_root': 'data', 'images_root': 'data/kfold/PACS', 'source_domain': 'art_painting', 'target_domain': 'sketch' },\n",
        "        'batch_size': 128,\n",
        "        'epochs': 30,\n",
        "        'num_workers': 5,\n",
        "        'grad_accum_steps': 1\n",
        "    },\n",
        "    \"1.2.1.3\" : { # Art Painting -> Photo\n",
        "        'seed': 0,\n",
        "        'test_only': False,\n",
        "        'cpu': False,\n",
        "        'experiment': 'random',\n",
        "        'experiment_name': '1.2.1.3',\n",
        "        'experiment_args': {'module_placement': ['layer1.1.bn1', 'layer1.1.conv2'], 'mask_out_ratio': 0.5},\n",
        "        'dataset_args': {'text_root': 'data', 'images_root': 'data/kfold/PACS', 'source_domain': 'art_painting', 'target_domain': 'photo' },\n",
        "        'batch_size': 128,\n",
        "        'epochs': 30,\n",
        "        'num_workers': 5,\n",
        "        'grad_accum_steps': 1\n",
        "    },\n",
        "    ### 1.2.2 - ASH MODULE AFTER layer1.1.bn1 AND layer1.1.bn2 ###\n",
        "    \"1.2.2.1\" : { # Art Painting -> Cartoon\n",
        "        'seed': 0,\n",
        "        'test_only': False,\n",
        "        'cpu': False,\n",
        "        'experiment': 'random',\n",
        "        'experiment_name': '1.2.2.1',\n",
        "        'experiment_args': {'module_placement': ['layer1.1.bn1', 'layer1.1.bn2'], 'mask_out_ratio': 0.5},\n",
        "        'dataset_args': {'text_root': 'data', 'images_root': 'data/kfold/PACS', 'source_domain': 'art_painting', 'target_domain': 'cartoon' },\n",
        "        'batch_size': 128,\n",
        "        'epochs': 30,\n",
        "        'num_workers': 5,\n",
        "        'grad_accum_steps': 1\n",
        "    },\n",
        "    \"1.2.2.2\" : { # Art Painting -> Sketch\n",
        "        'seed': 0,\n",
        "        'test_only': False,\n",
        "        'cpu': False,\n",
        "        'experiment': 'random',\n",
        "        'experiment_name': '1.2.2.2',\n",
        "        'experiment_args': {'module_placement': ['layer1.1.bn1', 'layer1.1.bn2'], 'mask_out_ratio': 0.5},\n",
        "        'dataset_args': {'text_root': 'data', 'images_root': 'data/kfold/PACS', 'source_domain': 'art_painting', 'target_domain': 'sketch' },\n",
        "        'batch_size': 128,\n",
        "        'epochs': 30,\n",
        "        'num_workers': 5,\n",
        "        'grad_accum_steps': 1\n",
        "    },\n",
        "    \"1.2.2.3\" : { # Art Painting -> Photo\n",
        "        'seed': 0,\n",
        "        'test_only': False,\n",
        "        'cpu': False,\n",
        "        'experiment': 'random',\n",
        "        'experiment_name': '1.2.2.3',\n",
        "        'experiment_args': {'module_placement': ['layer1.1.bn1', 'layer1.1.bn2'], 'mask_out_ratio': 0.5},\n",
        "        'dataset_args': {'text_root': 'data', 'images_root': 'data/kfold/PACS', 'source_domain': 'art_painting', 'target_domain': 'photo' },\n",
        "        'batch_size': 128,\n",
        "        'epochs': 30,\n",
        "        'num_workers': 5,\n",
        "        'grad_accum_steps': 1\n",
        "    },\n",
        "    ### 1.2.3 - ASH MODULE AFTER layer1.1.bn1 AND layer2.1.conv2 ###\n",
        "    \"1.2.3.1\" : { # Art Painting -> Cartoon\n",
        "        'seed': 0,\n",
        "        'test_only': False,\n",
        "        'cpu': False,\n",
        "        'experiment': 'random',\n",
        "        'experiment_name': '1.2.3.1',\n",
        "        'experiment_args': {'module_placement': ['layer1.1.bn1', 'layer2.1.conv2'], 'mask_out_ratio': 0.5},\n",
        "        'dataset_args': {'text_root': 'data', 'images_root': 'data/kfold/PACS', 'source_domain': 'art_painting', 'target_domain': 'cartoon' },\n",
        "        'batch_size': 128,\n",
        "        'epochs': 30,\n",
        "        'num_workers': 5,\n",
        "        'grad_accum_steps': 1\n",
        "    },\n",
        "    \"1.2.3.2\" : { # Art Painting -> Sketch\n",
        "        'seed': 0,\n",
        "        'test_only': False,\n",
        "        'cpu': False,\n",
        "        'experiment': 'random',\n",
        "        'experiment_name': '1.2.3.2',\n",
        "        'experiment_args': {'module_placement': ['layer1.1.bn1', 'layer2.1.conv2'], 'mask_out_ratio': 0.5},\n",
        "        'dataset_args': {'text_root': 'data', 'images_root': 'data/kfold/PACS', 'source_domain': 'art_painting', 'target_domain': 'sketch' },\n",
        "        'batch_size': 128,\n",
        "        'epochs': 30,\n",
        "        'num_workers': 5,\n",
        "        'grad_accum_steps': 1\n",
        "    },\n",
        "    \"1.2.3.3\" : { # Art Painting -> Photo\n",
        "        'seed': 0,\n",
        "        'test_only': False,\n",
        "        'cpu': False,\n",
        "        'experiment': 'random',\n",
        "        'experiment_name': '1.2.3.3',\n",
        "        'experiment_args': {'module_placement': ['layer1.1.bn1', 'layer2.1.conv2'], 'mask_out_ratio': 0.5},\n",
        "        'dataset_args': {'text_root': 'data', 'images_root': 'data/kfold/PACS', 'source_domain': 'art_painting', 'target_domain': 'photo' },\n",
        "        'batch_size': 128,\n",
        "        'epochs': 30,\n",
        "        'num_workers': 5,\n",
        "        'grad_accum_steps': 1\n",
        "    },\n",
        "    ### 1.2.4 - ASH MODULE AFTER layer1.1.bn1 AND layer3.0.conv1 ###\n",
        "    \"1.2.4.1\" : { # Art Painting -> Cartoon\n",
        "        'seed': 0,\n",
        "        'test_only': False,\n",
        "        'cpu': False,\n",
        "        'experiment': 'random',\n",
        "        'experiment_name': '1.2.4.1',\n",
        "        'experiment_args': {'module_placement': ['layer1.1.bn1', 'layer3.0.conv1'], 'mask_out_ratio': 0.5},\n",
        "        'dataset_args': {'text_root': 'data', 'images_root': 'data/kfold/PACS', 'source_domain': 'art_painting', 'target_domain': 'cartoon' },\n",
        "        'batch_size': 128,\n",
        "        'epochs': 30,\n",
        "        'num_workers': 5,\n",
        "        'grad_accum_steps': 1\n",
        "    },\n",
        "    \"1.2.4.2\" : { # Art Painting -> Sketch\n",
        "        'seed': 0,\n",
        "        'test_only': False,\n",
        "        'cpu': False,\n",
        "        'experiment': 'random',\n",
        "        'experiment_name': '1.2.4.2',\n",
        "        'experiment_args': {'module_placement': ['layer1.1.bn1', 'layer3.0.conv1'], 'mask_out_ratio': 0.5},\n",
        "        'dataset_args': {'text_root': 'data', 'images_root': 'data/kfold/PACS', 'source_domain': 'art_painting', 'target_domain': 'sketch' },\n",
        "        'batch_size': 128,\n",
        "        'epochs': 30,\n",
        "        'num_workers': 5,\n",
        "        'grad_accum_steps': 1\n",
        "    },\n",
        "    \"1.2.4.3\" : { # Art Painting -> Photo\n",
        "        'seed': 0,\n",
        "        'test_only': False,\n",
        "        'cpu': False,\n",
        "        'experiment': 'random',\n",
        "        'experiment_name': '1.2.4.3',\n",
        "        'experiment_args': {'module_placement': ['layer1.1.bn1', 'layer3.0.conv1'], 'mask_out_ratio': 0.5},\n",
        "        'dataset_args': {'text_root': 'data', 'images_root': 'data/kfold/PACS', 'source_domain': 'art_painting', 'target_domain': 'photo' },\n",
        "        'batch_size': 128,\n",
        "        'epochs': 30,\n",
        "        'num_workers': 5,\n",
        "        'grad_accum_steps': 1\n",
        "    },\n",
        "    ### 1.2.5 - ASH MODULE AFTER layer1.1.bn1 AND layer3.1.conv2 ###\n",
        "    \"1.2.5.1\" : { # Art Painting -> Cartoon\n",
        "        'seed': 0,\n",
        "        'test_only': False,\n",
        "        'cpu': False,\n",
        "        'experiment': 'random',\n",
        "        'experiment_name': '1.2.5.1',\n",
        "        'experiment_args': {'module_placement': ['layer1.1.bn1', 'layer3.1.conv2'], 'mask_out_ratio': 0.5},\n",
        "        'dataset_args': {'text_root': 'data', 'images_root': 'data/kfold/PACS', 'source_domain': 'art_painting', 'target_domain': 'cartoon' },\n",
        "        'batch_size': 128,\n",
        "        'epochs': 30,\n",
        "        'num_workers': 5,\n",
        "        'grad_accum_steps': 1\n",
        "    },\n",
        "    \"1.2.5.2\" : { # Art Painting -> Sketch\n",
        "        'seed': 0,\n",
        "        'test_only': False,\n",
        "        'cpu': False,\n",
        "        'experiment': 'random',\n",
        "        'experiment_name': '1.2.5.2',\n",
        "        'experiment_args': {'module_placement': ['layer1.1.bn1', 'layer3.1.conv2'], 'mask_out_ratio': 0.5},\n",
        "        'dataset_args': {'text_root': 'data', 'images_root': 'data/kfold/PACS', 'source_domain': 'art_painting', 'target_domain': 'sketch' },\n",
        "        'batch_size': 128,\n",
        "        'epochs': 30,\n",
        "        'num_workers': 5,\n",
        "        'grad_accum_steps': 1\n",
        "    },\n",
        "    \"1.2.5.3\" : { # Art Painting -> Photo\n",
        "        'seed': 0,\n",
        "        'test_only': False,\n",
        "        'cpu': False,\n",
        "        'experiment': 'random',\n",
        "        'experiment_name': '1.2.5.3',\n",
        "        'experiment_args': {'module_placement': ['layer1.1.bn1', 'layer3.1.conv2'], 'mask_out_ratio': 0.5},\n",
        "        'dataset_args': {'text_root': 'data', 'images_root': 'data/kfold/PACS', 'source_domain': 'art_painting', 'target_domain': 'photo' },\n",
        "        'batch_size': 128,\n",
        "        'epochs': 30,\n",
        "        'num_workers': 5,\n",
        "        'grad_accum_steps': 1\n",
        "    },\n",
        "    ### 1.2.6 - ASH MODULE AFTER layer1.1.conv2 AND layer1.1.bn2 ###\n",
        "    \"1.2.6.1\" : { # Art Painting -> Cartoon\n",
        "        'seed': 0,\n",
        "        'test_only': False,\n",
        "        'cpu': False,\n",
        "        'experiment': 'random',\n",
        "        'experiment_name': '1.2.6.1',\n",
        "        'experiment_args': {'module_placement': ['layer1.1.conv2', 'layer1.1.bn2'], 'mask_out_ratio': 0.5},\n",
        "        'dataset_args': {'text_root': 'data', 'images_root': 'data/kfold/PACS', 'source_domain': 'art_painting', 'target_domain': 'cartoon' },\n",
        "        'batch_size': 128,\n",
        "        'epochs': 30,\n",
        "        'num_workers': 5,\n",
        "        'grad_accum_steps': 1\n",
        "    },\n",
        "    \"1.2.6.2\" : { # Art Painting -> Sketch\n",
        "        'seed': 0,\n",
        "        'test_only': False,\n",
        "        'cpu': False,\n",
        "        'experiment': 'random',\n",
        "        'experiment_name': '1.2.6.2',\n",
        "        'experiment_args': {'module_placement': ['layer1.1.conv2', 'layer1.1.bn2'], 'mask_out_ratio': 0.5},\n",
        "        'dataset_args': {'text_root': 'data', 'images_root': 'data/kfold/PACS', 'source_domain': 'art_painting', 'target_domain': 'sketch' },\n",
        "        'batch_size': 128,\n",
        "        'epochs': 30,\n",
        "        'num_workers': 5,\n",
        "        'grad_accum_steps': 1\n",
        "    },\n",
        "    \"1.2.6.3\" : { # Art Painting -> Photo\n",
        "        'seed': 0,\n",
        "        'test_only': False,\n",
        "        'cpu': False,\n",
        "        'experiment': 'random',\n",
        "        'experiment_name': '1.2.6.3',\n",
        "        'experiment_args': {'module_placement': ['layer1.1.conv2', 'layer1.1.bn2'], 'mask_out_ratio': 0.5},\n",
        "        'dataset_args': {'text_root': 'data', 'images_root': 'data/kfold/PACS', 'source_domain': 'art_painting', 'target_domain': 'photo' },\n",
        "        'batch_size': 128,\n",
        "        'epochs': 30,\n",
        "        'num_workers': 5,\n",
        "        'grad_accum_steps': 1\n",
        "    },\n",
        "    ### 1.2.7 - ASH MODULE AFTER layer1.1.conv2 AND layer2.1.conv2 ###\n",
        "    \"1.2.7.1\" : { # Art Painting -> Cartoon\n",
        "        'seed': 0,\n",
        "        'test_only': False,\n",
        "        'cpu': False,\n",
        "        'experiment': 'random',\n",
        "        'experiment_name': '1.2.7.1',\n",
        "        'experiment_args': {'module_placement': ['layer1.1.conv2', 'layer2.1.conv2'], 'mask_out_ratio': 0.5},\n",
        "        'dataset_args': {'text_root': 'data', 'images_root': 'data/kfold/PACS', 'source_domain': 'art_painting', 'target_domain': 'cartoon' },\n",
        "        'batch_size': 128,\n",
        "        'epochs': 30,\n",
        "        'num_workers': 5,\n",
        "        'grad_accum_steps': 1\n",
        "    },\n",
        "    \"1.2.7.2\" : { # Art Painting -> Sketch\n",
        "        'seed': 0,\n",
        "        'test_only': False,\n",
        "        'cpu': False,\n",
        "        'experiment': 'random',\n",
        "        'experiment_name': '1.2.7.2',\n",
        "        'experiment_args': {'module_placement': ['layer1.1.conv2', 'layer2.1.conv2'], 'mask_out_ratio': 0.5},\n",
        "        'dataset_args': {'text_root': 'data', 'images_root': 'data/kfold/PACS', 'source_domain': 'art_painting', 'target_domain': 'sketch' },\n",
        "        'batch_size': 128,\n",
        "        'epochs': 30,\n",
        "        'num_workers': 5,\n",
        "        'grad_accum_steps': 1\n",
        "    },\n",
        "    \"1.2.7.3\" : { # Art Painting -> Photo\n",
        "        'seed': 0,\n",
        "        'test_only': False,\n",
        "        'cpu': False,\n",
        "        'experiment': 'random',\n",
        "        'experiment_name': '1.2.7.3',\n",
        "        'experiment_args': {'module_placement': ['layer1.1.conv2', 'layer2.1.conv2'], 'mask_out_ratio': 0.5},\n",
        "        'dataset_args': {'text_root': 'data', 'images_root': 'data/kfold/PACS', 'source_domain': 'art_painting', 'target_domain': 'photo' },\n",
        "        'batch_size': 128,\n",
        "        'epochs': 30,\n",
        "        'num_workers': 5,\n",
        "        'grad_accum_steps': 1\n",
        "    },\n",
        "    ### 1.2.8 - ASH MODULE AFTER layer1.1.conv2 AND layer3.0.conv1 ###\n",
        "    \"1.2.8.1\" : { # Art Painting -> Cartoon\n",
        "        'seed': 0,\n",
        "        'test_only': False,\n",
        "        'cpu': False,\n",
        "        'experiment': 'random',\n",
        "        'experiment_name': '1.2.8.1',\n",
        "        'experiment_args': {'module_placement': ['layer1.1.conv2', 'layer3.0.conv1'], 'mask_out_ratio': 0.5},\n",
        "        'dataset_args': {'text_root': 'data', 'images_root': 'data/kfold/PACS', 'source_domain': 'art_painting', 'target_domain': 'cartoon' },\n",
        "        'batch_size': 128,\n",
        "        'epochs': 30,\n",
        "        'num_workers': 5,\n",
        "        'grad_accum_steps': 1\n",
        "    },\n",
        "    \"1.2.8.2\" : { # Art Painting -> Sketch\n",
        "        'seed': 0,\n",
        "        'test_only': False,\n",
        "        'cpu': False,\n",
        "        'experiment': 'random',\n",
        "        'experiment_name': '1.2.8.2',\n",
        "        'experiment_args': {'module_placement': ['layer1.1.conv2', 'layer3.0.conv1'], 'mask_out_ratio': 0.5},\n",
        "        'dataset_args': {'text_root': 'data', 'images_root': 'data/kfold/PACS', 'source_domain': 'art_painting', 'target_domain': 'sketch' },\n",
        "        'batch_size': 128,\n",
        "        'epochs': 30,\n",
        "        'num_workers': 5,\n",
        "        'grad_accum_steps': 1\n",
        "    },\n",
        "    \"1.2.8.3\" : { # Art Painting -> Photo\n",
        "        'seed': 0,\n",
        "        'test_only': False,\n",
        "        'cpu': False,\n",
        "        'experiment': 'random',\n",
        "        'experiment_name': '1.2.8.3',\n",
        "        'experiment_args': {'module_placement': ['layer1.1.conv2', 'layer3.0.conv1'], 'mask_out_ratio': 0.5},\n",
        "        'dataset_args': {'text_root': 'data', 'images_root': 'data/kfold/PACS', 'source_domain': 'art_painting', 'target_domain': 'photo' },\n",
        "        'batch_size': 128,\n",
        "        'epochs': 30,\n",
        "        'num_workers': 5,\n",
        "        'grad_accum_steps': 1\n",
        "    },\n",
        "    ### 1.2.9 - ASH MODULE AFTER layer1.1.conv2 AND layer3.1.conv2 ###\n",
        "    \"1.2.9.1\" : { # Art Painting -> Cartoon\n",
        "        'seed': 0,\n",
        "        'test_only': False,\n",
        "        'cpu': False,\n",
        "        'experiment': 'random',\n",
        "        'experiment_name': '1.2.9.1',\n",
        "        'experiment_args': {'module_placement': ['layer1.1.conv2', 'layer3.1.conv2'], 'mask_out_ratio': 0.5},\n",
        "        'dataset_args': {'text_root': 'data', 'images_root': 'data/kfold/PACS', 'source_domain': 'art_painting', 'target_domain': 'cartoon' },\n",
        "        'batch_size': 128,\n",
        "        'epochs': 30,\n",
        "        'num_workers': 5,\n",
        "        'grad_accum_steps': 1\n",
        "    },\n",
        "    \"1.2.9.2\" : { # Art Painting -> Sketch\n",
        "        'seed': 0,\n",
        "        'test_only': False,\n",
        "        'cpu': False,\n",
        "        'experiment': 'random',\n",
        "        'experiment_name': '1.2.9.2',\n",
        "        'experiment_args': {'module_placement': ['layer1.1.conv2', 'layer3.1.conv2'], 'mask_out_ratio': 0.5},\n",
        "        'dataset_args': {'text_root': 'data', 'images_root': 'data/kfold/PACS', 'source_domain': 'art_painting', 'target_domain': 'sketch' },\n",
        "        'batch_size': 128,\n",
        "        'epochs': 30,\n",
        "        'num_workers': 5,\n",
        "        'grad_accum_steps': 1\n",
        "    },\n",
        "    \"1.2.9.3\" : { # Art Painting -> Photo\n",
        "        'seed': 0,\n",
        "        'test_only': False,\n",
        "        'cpu': False,\n",
        "        'experiment': 'random',\n",
        "        'experiment_name': '1.2.9.3',\n",
        "        'experiment_args': {'module_placement': ['layer1.1.conv2', 'layer3.1.conv2'], 'mask_out_ratio': 0.5},\n",
        "        'dataset_args': {'text_root': 'data', 'images_root': 'data/kfold/PACS', 'source_domain': 'art_painting', 'target_domain': 'photo' },\n",
        "        'batch_size': 128,\n",
        "        'epochs': 30,\n",
        "        'num_workers': 5,\n",
        "        'grad_accum_steps': 1\n",
        "    },\n",
        "    ### 1.2.10 - ASH MODULE AFTER layer1.1.bn2 AND layer2.1.conv2 ###\n",
        "    \"1.2.10.1\" : { # Art Painting -> Cartoon\n",
        "        'seed': 0,\n",
        "        'test_only': False,\n",
        "        'cpu': False,\n",
        "        'experiment': 'random',\n",
        "        'experiment_name': '1.2.10.1',\n",
        "        'experiment_args': {'module_placement': ['layer1.1.bn2', 'layer2.1.conv2'], 'mask_out_ratio': 0.5},\n",
        "        'dataset_args': {'text_root': 'data', 'images_root': 'data/kfold/PACS', 'source_domain': 'art_painting', 'target_domain': 'cartoon' },\n",
        "        'batch_size': 128,\n",
        "        'epochs': 30,\n",
        "        'num_workers': 5,\n",
        "        'grad_accum_steps': 1\n",
        "    },\n",
        "    \"1.2.10.2\" : { # Art Painting -> Sketch\n",
        "        'seed': 0,\n",
        "        'test_only': False,\n",
        "        'cpu': False,\n",
        "        'experiment': 'random',\n",
        "        'experiment_name': '1.2.10.2',\n",
        "        'experiment_args': {'module_placement': ['layer1.1.bn2', 'layer2.1.conv2'], 'mask_out_ratio': 0.5},\n",
        "        'dataset_args': {'text_root': 'data', 'images_root': 'data/kfold/PACS', 'source_domain': 'art_painting', 'target_domain': 'sketch' },\n",
        "        'batch_size': 128,\n",
        "        'epochs': 30,\n",
        "        'num_workers': 5,\n",
        "        'grad_accum_steps': 1\n",
        "    },\n",
        "    \"1.2.10.3\" : { # Art Painting -> Photo\n",
        "        'seed': 0,\n",
        "        'test_only': False,\n",
        "        'cpu': False,\n",
        "        'experiment': 'random',\n",
        "        'experiment_name': '1.2.10.3',\n",
        "        'experiment_args': {'module_placement': ['layer1.1.bn2', 'layer2.1.conv2'], 'mask_out_ratio': 0.5},\n",
        "        'dataset_args': {'text_root': 'data', 'images_root': 'data/kfold/PACS', 'source_domain': 'art_painting', 'target_domain': 'photo' },\n",
        "        'batch_size': 128,\n",
        "        'epochs': 30,\n",
        "        'num_workers': 5,\n",
        "        'grad_accum_steps': 1\n",
        "    },\n",
        "    ### 1.2.11 - ASH MODULE AFTER layer1.1.bn2 AND layer3.0.conv1 ###\n",
        "    \"1.2.11.1\" : { # Art Painting -> Cartoon\n",
        "        'seed': 0,\n",
        "        'test_only': False,\n",
        "        'cpu': False,\n",
        "        'experiment': 'random',\n",
        "        'experiment_name': '1.2.11.1',\n",
        "        'experiment_args': {'module_placement': ['layer1.1.bn2', 'layer3.0.conv1'], 'mask_out_ratio': 0.5},\n",
        "        'dataset_args': {'text_root': 'data', 'images_root': 'data/kfold/PACS', 'source_domain': 'art_painting', 'target_domain': 'cartoon' },\n",
        "        'batch_size': 128,\n",
        "        'epochs': 30,\n",
        "        'num_workers': 5,\n",
        "        'grad_accum_steps': 1\n",
        "    },\n",
        "    \"1.2.11.2\" : { # Art Painting -> Sketch\n",
        "        'seed': 0,\n",
        "        'test_only': False,\n",
        "        'cpu': False,\n",
        "        'experiment': 'random',\n",
        "        'experiment_name': '1.2.11.2',\n",
        "        'experiment_args': {'module_placement': ['layer1.1.bn2', 'layer3.0.conv1'], 'mask_out_ratio': 0.5},\n",
        "        'dataset_args': {'text_root': 'data', 'images_root': 'data/kfold/PACS', 'source_domain': 'art_painting', 'target_domain': 'sketch' },\n",
        "        'batch_size': 128,\n",
        "        'epochs': 30,\n",
        "        'num_workers': 5,\n",
        "        'grad_accum_steps': 1\n",
        "    },\n",
        "    \"1.2.11.3\" : { # Art Painting -> Photo\n",
        "        'seed': 0,\n",
        "        'test_only': False,\n",
        "        'cpu': False,\n",
        "        'experiment': 'random',\n",
        "        'experiment_name': '1.2.11.3',\n",
        "        'experiment_args': {'module_placement': ['layer1.1.bn2', 'layer3.0.conv1'], 'mask_out_ratio': 0.5},\n",
        "        'dataset_args': {'text_root': 'data', 'images_root': 'data/kfold/PACS', 'source_domain': 'art_painting', 'target_domain': 'photo' },\n",
        "        'batch_size': 128,\n",
        "        'epochs': 30,\n",
        "        'num_workers': 5,\n",
        "        'grad_accum_steps': 1\n",
        "    },\n",
        "    ### 1.2.12 - ASH MODULE AFTER layer1.1.bn2 AND layer3.1.conv2 ###\n",
        "    \"1.2.12.1\" : { # Art Painting -> Cartoon\n",
        "        'seed': 0,\n",
        "        'test_only': False,\n",
        "        'cpu': False,\n",
        "        'experiment': 'random',\n",
        "        'experiment_name': '1.2.12.1',\n",
        "        'experiment_args': {'module_placement': ['layer1.1.bn2', 'layer3.1.conv2'], 'mask_out_ratio': 0.5},\n",
        "        'dataset_args': {'text_root': 'data', 'images_root': 'data/kfold/PACS', 'source_domain': 'art_painting', 'target_domain': 'cartoon' },\n",
        "        'batch_size': 128,\n",
        "        'epochs': 30,\n",
        "        'num_workers': 5,\n",
        "        'grad_accum_steps': 1\n",
        "    },\n",
        "    \"1.2.12.2\" : { # Art Painting -> Sketch\n",
        "        'seed': 0,\n",
        "        'test_only': False,\n",
        "        'cpu': False,\n",
        "        'experiment': 'random',\n",
        "        'experiment_name': '1.2.12.2',\n",
        "        'experiment_args': {'module_placement': ['layer1.1.bn2', 'layer3.1.conv2'], 'mask_out_ratio': 0.5},\n",
        "        'dataset_args': {'text_root': 'data', 'images_root': 'data/kfold/PACS', 'source_domain': 'art_painting', 'target_domain': 'sketch' },\n",
        "        'batch_size': 128,\n",
        "        'epochs': 30,\n",
        "        'num_workers': 5,\n",
        "        'grad_accum_steps': 1\n",
        "    },\n",
        "    \"1.2.12.3\" : { # Art Painting -> Photo\n",
        "        'seed': 0,\n",
        "        'test_only': False,\n",
        "        'cpu': False,\n",
        "        'experiment': 'random',\n",
        "        'experiment_name': '1.2.12.3',\n",
        "        'experiment_args': {'module_placement': ['layer1.1.bn2', 'layer3.1.conv2'], 'mask_out_ratio': 0.5},\n",
        "        'dataset_args': {'text_root': 'data', 'images_root': 'data/kfold/PACS', 'source_domain': 'art_painting', 'target_domain': 'photo' },\n",
        "        'batch_size': 128,\n",
        "        'epochs': 30,\n",
        "        'num_workers': 5,\n",
        "        'grad_accum_steps': 1\n",
        "    },\n",
        "    ### 1.2.13 - ASH MODULE AFTER layer2.1.conv2 AND layer3.0.conv1 ###\n",
        "    \"1.2.13.1\" : { # Art Painting -> Cartoon\n",
        "        'seed': 0,\n",
        "        'test_only': False,\n",
        "        'cpu': False,\n",
        "        'experiment': 'random',\n",
        "        'experiment_name': '1.2.13.1',\n",
        "        'experiment_args': {'module_placement': ['layer2.1.conv2', 'layer3.0.conv1'], 'mask_out_ratio': 0.5},\n",
        "        'dataset_args': {'text_root': 'data', 'images_root': 'data/kfold/PACS', 'source_domain': 'art_painting', 'target_domain': 'cartoon' },\n",
        "        'batch_size': 128,\n",
        "        'epochs': 30,\n",
        "        'num_workers': 5,\n",
        "        'grad_accum_steps': 1\n",
        "    },\n",
        "    \"1.2.13.2\" : { # Art Painting -> Sketch\n",
        "        'seed': 0,\n",
        "        'test_only': False,\n",
        "        'cpu': False,\n",
        "        'experiment': 'random',\n",
        "        'experiment_name': '1.2.13.2',\n",
        "        'experiment_args': {'module_placement': ['layer2.1.conv2', 'layer3.0.conv1'], 'mask_out_ratio': 0.5},\n",
        "        'dataset_args': {'text_root': 'data', 'images_root': 'data/kfold/PACS', 'source_domain': 'art_painting', 'target_domain': 'sketch' },\n",
        "        'batch_size': 128,\n",
        "        'epochs': 30,\n",
        "        'num_workers': 5,\n",
        "        'grad_accum_steps': 1\n",
        "    },\n",
        "    \"1.2.13.3\" : { # Art Painting -> Photo\n",
        "        'seed': 0,\n",
        "        'test_only': False,\n",
        "        'cpu': False,\n",
        "        'experiment': 'random',\n",
        "        'experiment_name': '1.2.13.3',\n",
        "        'experiment_args': {'module_placement': ['layer2.1.conv2', 'layer3.0.conv1'], 'mask_out_ratio': 0.5},\n",
        "        'dataset_args': {'text_root': 'data', 'images_root': 'data/kfold/PACS', 'source_domain': 'art_painting', 'target_domain': 'photo' },\n",
        "        'batch_size': 128,\n",
        "        'epochs': 30,\n",
        "        'num_workers': 5,\n",
        "        'grad_accum_steps': 1\n",
        "    },\n",
        "    ### 1.2.14 - ASH MODULE AFTER layer2.1.conv2 AND layer3.1.conv2 ###\n",
        "    \"1.2.14.1\" : { # Art Painting -> Cartoon\n",
        "        'seed': 0,\n",
        "        'test_only': False,\n",
        "        'cpu': False,\n",
        "        'experiment': 'random',\n",
        "        'experiment_name': '1.2.14.1',\n",
        "        'experiment_args': {'module_placement': ['layer2.1.conv2', 'layer3.1.conv2'], 'mask_out_ratio': 0.5},\n",
        "        'dataset_args': {'text_root': 'data', 'images_root': 'data/kfold/PACS', 'source_domain': 'art_painting', 'target_domain': 'cartoon' },\n",
        "        'batch_size': 128,\n",
        "        'epochs': 30,\n",
        "        'num_workers': 5,\n",
        "        'grad_accum_steps': 1\n",
        "    },\n",
        "    \"1.2.14.2\" : { # Art Painting -> Sketch\n",
        "        'seed': 0,\n",
        "        'test_only': False,\n",
        "        'cpu': False,\n",
        "        'experiment': 'random',\n",
        "        'experiment_name': '1.2.14.2',\n",
        "        'experiment_args': {'module_placement': ['layer2.1.conv2', 'layer3.1.conv2'], 'mask_out_ratio': 0.5},\n",
        "        'dataset_args': {'text_root': 'data', 'images_root': 'data/kfold/PACS', 'source_domain': 'art_painting', 'target_domain': 'sketch' },\n",
        "        'batch_size': 128,\n",
        "        'epochs': 30,\n",
        "        'num_workers': 5,\n",
        "        'grad_accum_steps': 1\n",
        "    },\n",
        "    \"1.2.14.3\" : { # Art Painting -> Photo\n",
        "        'seed': 0,\n",
        "        'test_only': False,\n",
        "        'cpu': False,\n",
        "        'experiment': 'random',\n",
        "        'experiment_name': '1.2.14.3',\n",
        "        'experiment_args': {'module_placement': ['layer2.1.conv2', 'layer3.1.conv2'], 'mask_out_ratio': 0.5},\n",
        "        'dataset_args': {'text_root': 'data', 'images_root': 'data/kfold/PACS', 'source_domain': 'art_painting', 'target_domain': 'photo' },\n",
        "        'batch_size': 128,\n",
        "        'epochs': 30,\n",
        "        'num_workers': 5,\n",
        "        'grad_accum_steps': 1\n",
        "    },\n",
        "    ### 1.2.15 - ASH MODULE AFTER layer3.0.conv1 AND layer3.1.conv2 ###\n",
        "    \"1.2.15.1\" : { # Art Painting -> Cartoon\n",
        "        'seed': 0,\n",
        "        'test_only': False,\n",
        "        'cpu': False,\n",
        "        'experiment': 'random',\n",
        "        'experiment_name': '1.2.15.1',\n",
        "        'experiment_args': {'module_placement': ['layer3.0.conv1', 'layer3.1.conv2'], 'mask_out_ratio': 0.5},\n",
        "        'dataset_args': {'text_root': 'data', 'images_root': 'data/kfold/PACS', 'source_domain': 'art_painting', 'target_domain': 'cartoon' },\n",
        "        'batch_size': 128,\n",
        "        'epochs': 30,\n",
        "        'num_workers': 5,\n",
        "        'grad_accum_steps': 1\n",
        "    },\n",
        "    \"1.2.15.2\" : { # Art Painting -> Sketch\n",
        "        'seed': 0,\n",
        "        'test_only': False,\n",
        "        'cpu': False,\n",
        "        'experiment': 'random',\n",
        "        'experiment_name': '1.2.15.2',\n",
        "        'experiment_args': {'module_placement': ['layer3.0.conv1', 'layer3.1.conv2'], 'mask_out_ratio': 0.5},\n",
        "        'dataset_args': {'text_root': 'data', 'images_root': 'data/kfold/PACS', 'source_domain': 'art_painting', 'target_domain': 'sketch' },\n",
        "        'batch_size': 128,\n",
        "        'epochs': 30,\n",
        "        'num_workers': 5,\n",
        "        'grad_accum_steps': 1\n",
        "    },\n",
        "    \"1.2.15.3\" : { # Art Painting -> Photo\n",
        "        'seed': 0,\n",
        "        'test_only': False,\n",
        "        'cpu': False,\n",
        "        'experiment': 'random',\n",
        "        'experiment_name': '1.2.15.3',\n",
        "        'experiment_args': {'module_placement': ['layer3.0.conv1', 'layer3.1.conv2'], 'mask_out_ratio': 0.5},\n",
        "        'dataset_args': {'text_root': 'data', 'images_root': 'data/kfold/PACS', 'source_domain': 'art_painting', 'target_domain': 'photo' },\n",
        "        'batch_size': 128,\n",
        "        'epochs': 30,\n",
        "        'num_workers': 5,\n",
        "        'grad_accum_steps': 1\n",
        "    },\n",
        "\n",
        "    #### 1.3 - THREE ASH MODULES ####\n",
        "    ### 1.3.1 - ASH MODULE AFTER layer1.1.bn1, layer1.1.conv2, AND layer1.1.bn2 ###\n",
        "    \"1.3.1.1\" : { # Art Painting -> Cartoon\n",
        "        'seed': 0,\n",
        "        'test_only': False,\n",
        "        'cpu': False,\n",
        "        'experiment': 'random',\n",
        "        'experiment_name': '1.3.1.1',\n",
        "        'experiment_args': {'module_placement': ['layer1.1.bn1', 'layer1.1.conv2', 'layer1.1.bn2'], 'mask_out_ratio': 0.5},\n",
        "        'dataset_args': {'text_root': 'data', 'images_root': 'data/kfold/PACS', 'source_domain': 'art_painting', 'target_domain': 'cartoon' },\n",
        "        'batch_size': 128,\n",
        "        'epochs': 30,\n",
        "        'num_workers': 5,\n",
        "        'grad_accum_steps': 1\n",
        "    },\n",
        "    \"1.3.1.2\" : { # Art Painting -> Sketch\n",
        "        'seed': 0,\n",
        "        'test_only': False,\n",
        "        'cpu': False,\n",
        "        'experiment': 'random',\n",
        "        'experiment_name': '1.3.1.2',\n",
        "        'experiment_args': {'module_placement': ['layer1.1.bn1', 'layer1.1.conv2', 'layer1.1.bn2'], 'mask_out_ratio': 0.5},\n",
        "        'dataset_args': {'text_root': 'data', 'images_root': 'data/kfold/PACS', 'source_domain': 'art_painting', 'target_domain': 'sketch' },\n",
        "        'batch_size': 128,\n",
        "        'epochs': 30,\n",
        "        'num_workers': 5,\n",
        "        'grad_accum_steps': 1\n",
        "    },\n",
        "    \"1.3.1.3\" : { # Art Painting -> Photo\n",
        "        'seed': 0,\n",
        "        'test_only': False,\n",
        "        'cpu': False,\n",
        "        'experiment': 'random',\n",
        "        'experiment_name': '1.3.1.3',\n",
        "        'experiment_args': {'module_placement': ['layer1.1.bn1', 'layer1.1.conv2', 'layer1.1.bn2'], 'mask_out_ratio': 0.5},\n",
        "        'dataset_args': {'text_root': 'data', 'images_root': 'data/kfold/PACS', 'source_domain': 'art_painting', 'target_domain': 'photo' },\n",
        "        'batch_size': 128,\n",
        "        'epochs': 30,\n",
        "        'num_workers': 5,\n",
        "        'grad_accum_steps': 1\n",
        "    },\n",
        "    ### 1.3.2 - ASH MODULE AFTER layer1.1.bn1, layer1.1.conv2, AND layer2.1.conv2 ###\n",
        "    \"1.3.2.1\" : { # Art Painting -> Cartoon\n",
        "        'seed': 0,\n",
        "        'test_only': False,\n",
        "        'cpu': False,\n",
        "        'experiment': 'random',\n",
        "        'experiment_name': '1.3.2.1',\n",
        "        'experiment_args': {'module_placement': ['layer1.1.bn1', 'layer1.1.conv2', 'layer2.1.conv2'], 'mask_out_ratio': 0.5},\n",
        "        'dataset_args': {'text_root': 'data', 'images_root': 'data/kfold/PACS', 'source_domain': 'art_painting', 'target_domain': 'cartoon' },\n",
        "        'batch_size': 128,\n",
        "        'epochs': 30,\n",
        "        'num_workers': 5,\n",
        "        'grad_accum_steps': 1\n",
        "    },\n",
        "    \"1.3.2.2\" : { # Art Painting -> Sketch\n",
        "        'seed': 0,\n",
        "        'test_only': False,\n",
        "        'cpu': False,\n",
        "        'experiment': 'random',\n",
        "        'experiment_name': '1.3.2.2',\n",
        "        'experiment_args': {'module_placement': ['layer1.1.bn1', 'layer1.1.conv2', 'layer2.1.conv2'], 'mask_out_ratio': 0.5},\n",
        "        'dataset_args': {'text_root': 'data', 'images_root': 'data/kfold/PACS', 'source_domain': 'art_painting', 'target_domain': 'sketch' },\n",
        "        'batch_size': 128,\n",
        "        'epochs': 30,\n",
        "        'num_workers': 5,\n",
        "        'grad_accum_steps': 1\n",
        "    },\n",
        "    \"1.3.2.3\" : { # Art Painting -> Photo\n",
        "        'seed': 0,\n",
        "        'test_only': False,\n",
        "        'cpu': False,\n",
        "        'experiment': 'random',\n",
        "        'experiment_name': '1.3.2.3',\n",
        "        'experiment_args': {'module_placement': ['layer1.1.bn1', 'layer1.1.conv2', 'layer2.1.conv2'], 'mask_out_ratio': 0.5},\n",
        "        'dataset_args': {'text_root': 'data', 'images_root': 'data/kfold/PACS', 'source_domain': 'art_painting', 'target_domain': 'photo' },\n",
        "        'batch_size': 128,\n",
        "        'epochs': 30,\n",
        "        'num_workers': 5,\n",
        "        'grad_accum_steps': 1\n",
        "    },\n",
        "    ### 1.3.3 - ASH MODULE AFTER layer1.1.bn1, layer1.1.conv2, AND layer3.0.conv1 ###\n",
        "    \"1.3.3.1\" : { # Art Painting -> Cartoon\n",
        "        'seed': 0,\n",
        "        'test_only': False,\n",
        "        'cpu': False,\n",
        "        'experiment': 'random',\n",
        "        'experiment_name': '1.3.3.1',\n",
        "        'experiment_args': {'module_placement': ['layer1.1.bn1', 'layer1.1.conv2', 'layer3.0.conv1'], 'mask_out_ratio': 0.5},\n",
        "        'dataset_args': {'text_root': 'data', 'images_root': 'data/kfold/PACS', 'source_domain': 'art_painting', 'target_domain': 'cartoon' },\n",
        "        'batch_size': 128,\n",
        "        'epochs': 30,\n",
        "        'num_workers': 5,\n",
        "        'grad_accum_steps': 1\n",
        "    },\n",
        "    \"1.3.3.2\" : { # Art Painting -> Sketch\n",
        "        'seed': 0,\n",
        "        'test_only': False,\n",
        "        'cpu': False,\n",
        "        'experiment': 'random',\n",
        "        'experiment_name': '1.3.3.2',\n",
        "        'experiment_args': {'module_placement': ['layer1.1.bn1', 'layer1.1.conv2', 'layer3.0.conv1'], 'mask_out_ratio': 0.5},\n",
        "        'dataset_args': {'text_root': 'data', 'images_root': 'data/kfold/PACS', 'source_domain': 'art_painting', 'target_domain': 'sketch' },\n",
        "        'batch_size': 128,\n",
        "        'epochs': 30,\n",
        "        'num_workers': 5,\n",
        "        'grad_accum_steps': 1\n",
        "    },\n",
        "    \"1.3.3.3\" : { # Art Painting -> Photo\n",
        "        'seed': 0,\n",
        "        'test_only': False,\n",
        "        'cpu': False,\n",
        "        'experiment': 'random',\n",
        "        'experiment_name': '1.3.3.3',\n",
        "        'experiment_args': {'module_placement': ['layer1.1.bn1', 'layer1.1.conv2', 'layer3.0.conv1'], 'mask_out_ratio': 0.5},\n",
        "        'dataset_args': {'text_root': 'data', 'images_root': 'data/kfold/PACS', 'source_domain': 'art_painting', 'target_domain': 'photo' },\n",
        "        'batch_size': 128,\n",
        "        'epochs': 30,\n",
        "        'num_workers': 5,\n",
        "        'grad_accum_steps': 1\n",
        "    },\n",
        "    ### 1.3.4 - ASH MODULE AFTER layer1.1.bn1, layer1.1.conv2, AND layer3.1.conv2 ###\n",
        "    \"1.3.4.1\" : { # Art Painting -> Cartoon\n",
        "        'seed': 0,\n",
        "        'test_only': False,\n",
        "        'cpu': False,\n",
        "        'experiment': 'random',\n",
        "        'experiment_name': '1.3.4.1',\n",
        "        'experiment_args': {'module_placement': ['layer1.1.bn1', 'layer1.1.conv2', 'layer3.1.conv2'], 'mask_out_ratio': 0.5},\n",
        "        'dataset_args': {'text_root': 'data', 'images_root': 'data/kfold/PACS', 'source_domain': 'art_painting', 'target_domain': 'cartoon' },\n",
        "        'batch_size': 128,\n",
        "        'epochs': 30,\n",
        "        'num_workers': 5,\n",
        "        'grad_accum_steps': 1\n",
        "    },\n",
        "    \"1.3.4.2\" : { # Art Painting -> Sketch\n",
        "        'seed': 0,\n",
        "        'test_only': False,\n",
        "        'cpu': False,\n",
        "        'experiment': 'random',\n",
        "        'experiment_name': '1.3.4.2',\n",
        "        'experiment_args': {'module_placement': ['layer1.1.bn1', 'layer1.1.conv2', 'layer3.1.conv2'], 'mask_out_ratio': 0.5},\n",
        "        'dataset_args': {'text_root': 'data', 'images_root': 'data/kfold/PACS', 'source_domain': 'art_painting', 'target_domain': 'sketch' },\n",
        "        'batch_size': 128,\n",
        "        'epochs': 30,\n",
        "        'num_workers': 5,\n",
        "        'grad_accum_steps': 1\n",
        "    },\n",
        "    \"1.3.4.3\" : { # Art Painting -> Photo\n",
        "        'seed': 0,\n",
        "        'test_only': False,\n",
        "        'cpu': False,\n",
        "        'experiment': 'random',\n",
        "        'experiment_name': '1.3.4.3',\n",
        "        'experiment_args': {'module_placement': ['layer1.1.bn1', 'layer1.1.conv2', 'layer3.1.conv2'], 'mask_out_ratio': 0.5},\n",
        "        'dataset_args': {'text_root': 'data', 'images_root': 'data/kfold/PACS', 'source_domain': 'art_painting', 'target_domain': 'photo' },\n",
        "        'batch_size': 128,\n",
        "        'epochs': 30,\n",
        "        'num_workers': 5,\n",
        "        'grad_accum_steps': 1\n",
        "    },\n",
        "    ### 1.3.5 - ASH MODULE AFTER layer1.1.bn1, layer1.1.bn2, AND layer2.1.conv2 ###\n",
        "    \"1.3.5.1\" : { # Art Painting -> Cartoon\n",
        "        'seed': 0,\n",
        "        'test_only': False,\n",
        "        'cpu': False,\n",
        "        'experiment': 'random',\n",
        "        'experiment_name': '1.3.5.1',\n",
        "        'experiment_args': {'module_placement': ['layer1.1.bn1', 'layer1.1.bn2', 'layer2.1.conv2'], 'mask_out_ratio': 0.5},\n",
        "        'dataset_args': {'text_root': 'data', 'images_root': 'data/kfold/PACS', 'source_domain': 'art_painting', 'target_domain': 'cartoon' },\n",
        "        'batch_size': 128,\n",
        "        'epochs': 30,\n",
        "        'num_workers': 5,\n",
        "        'grad_accum_steps': 1\n",
        "    },\n",
        "    \"1.3.5.2\" : { # Art Painting -> Sketch\n",
        "        'seed': 0,\n",
        "        'test_only': False,\n",
        "        'cpu': False,\n",
        "        'experiment': 'random',\n",
        "        'experiment_name': '1.3.5.2',\n",
        "        'experiment_args': {'module_placement': ['layer1.1.bn1', 'layer1.1.bn2', 'layer2.1.conv2'], 'mask_out_ratio': 0.5},\n",
        "        'dataset_args': {'text_root': 'data', 'images_root': 'data/kfold/PACS', 'source_domain': 'art_painting', 'target_domain': 'sketch' },\n",
        "        'batch_size': 128,\n",
        "        'epochs': 30,\n",
        "        'num_workers': 5,\n",
        "        'grad_accum_steps': 1\n",
        "    },\n",
        "    \"1.3.5.3\" : { # Art Painting -> Photo\n",
        "        'seed': 0,\n",
        "        'test_only': False,\n",
        "        'cpu': False,\n",
        "        'experiment': 'random',\n",
        "        'experiment_name': '1.3.5.3',\n",
        "        'experiment_args': {'module_placement': ['layer1.1.bn1', 'layer1.1.bn2', 'layer2.1.conv2'], 'mask_out_ratio': 0.5},\n",
        "        'dataset_args': {'text_root': 'data', 'images_root': 'data/kfold/PACS', 'source_domain': 'art_painting', 'target_domain': 'photo' },\n",
        "        'batch_size': 128,\n",
        "        'epochs': 30,\n",
        "        'num_workers': 5,\n",
        "        'grad_accum_steps': 1\n",
        "    },\n",
        "    ### 1.3.6 - ASH MODULE AFTER layer1.1.bn1, layer2.1.conv2, AND layer3.0.conv1 ###\n",
        "    \"1.3.6.1\" : { # Art Painting -> Cartoon\n",
        "        'seed': 0,\n",
        "        'test_only': False,\n",
        "        'cpu': False,\n",
        "        'experiment': 'random',\n",
        "        'experiment_name': '1.3.6.1',\n",
        "        'experiment_args': {'module_placement': ['layer1.1.bn1', 'layer2.1.conv2', 'layer3.0.conv1'], 'mask_out_ratio': 0.5},\n",
        "        'dataset_args': {'text_root': 'data', 'images_root': 'data/kfold/PACS', 'source_domain': 'art_painting', 'target_domain': 'cartoon' },\n",
        "        'batch_size': 128,\n",
        "        'epochs': 30,\n",
        "        'num_workers': 5,\n",
        "        'grad_accum_steps': 1\n",
        "    },\n",
        "    \"1.3.6.2\" : { # Art Painting -> Sketch\n",
        "        'seed': 0,\n",
        "        'test_only': False,\n",
        "        'cpu': False,\n",
        "        'experiment': 'random',\n",
        "        'experiment_name': '1.3.6.2',\n",
        "        'experiment_args': {'module_placement': ['layer1.1.bn1', 'layer2.1.conv2', 'layer3.0.conv1'], 'mask_out_ratio': 0.5},\n",
        "        'dataset_args': {'text_root': 'data', 'images_root': 'data/kfold/PACS', 'source_domain': 'art_painting', 'target_domain': 'sketch' },\n",
        "        'batch_size': 128,\n",
        "        'epochs': 30,\n",
        "        'num_workers': 5,\n",
        "        'grad_accum_steps': 1\n",
        "    },\n",
        "    \"1.3.6.3\" : { # Art Painting -> Photo\n",
        "        'seed': 0,\n",
        "        'test_only': False,\n",
        "        'cpu': False,\n",
        "        'experiment': 'random',\n",
        "        'experiment_name': '1.3.6.3',\n",
        "        'experiment_args': {'module_placement': ['layer1.1.bn1', 'layer2.1.conv2', 'layer3.0.conv1'], 'mask_out_ratio': 0.5},\n",
        "        'dataset_args': {'text_root': 'data', 'images_root': 'data/kfold/PACS', 'source_domain': 'art_painting', 'target_domain': 'photo' },\n",
        "        'batch_size': 128,\n",
        "        'epochs': 30,\n",
        "        'num_workers': 5,\n",
        "        'grad_accum_steps': 1\n",
        "    },\n",
        "    ### 1.3.7 - ASH MODULE AFTER layer1.1.bn1, layer2.1.conv2, AND layer3.1.conv2 ###\n",
        "    \"1.3.7.1\" : { # Art Painting -> Cartoon\n",
        "        'seed': 0,\n",
        "        'test_only': False,\n",
        "        'cpu': False,\n",
        "        'experiment': 'random',\n",
        "        'experiment_name': '1.3.7.1',\n",
        "        'experiment_args': {'module_placement': ['layer1.1.bn1', 'layer2.1.conv2', 'layer3.1.conv2'], 'mask_out_ratio': 0.5},\n",
        "        'dataset_args': {'text_root': 'data', 'images_root': 'data/kfold/PACS', 'source_domain': 'art_painting', 'target_domain': 'cartoon' },\n",
        "        'batch_size': 128,\n",
        "        'epochs': 30,\n",
        "        'num_workers': 5,\n",
        "        'grad_accum_steps': 1\n",
        "    },\n",
        "    \"1.3.7.2\" : { # Art Painting -> Sketch\n",
        "        'seed': 0,\n",
        "        'test_only': False,\n",
        "        'cpu': False,\n",
        "        'experiment': 'random',\n",
        "        'experiment_name': '1.3.7.2',\n",
        "        'experiment_args': {'module_placement': ['layer1.1.bn1', 'layer2.1.conv2', 'layer3.1.conv2'], 'mask_out_ratio': 0.5},\n",
        "        'dataset_args': {'text_root': 'data', 'images_root': 'data/kfold/PACS', 'source_domain': 'art_painting', 'target_domain': 'sketch' },\n",
        "        'batch_size': 128,\n",
        "        'epochs': 30,\n",
        "        'num_workers': 5,\n",
        "        'grad_accum_steps': 1\n",
        "    },\n",
        "    \"1.3.7.3\" : { # Art Painting -> Photo\n",
        "        'seed': 0,\n",
        "        'test_only': False,\n",
        "        'cpu': False,\n",
        "        'experiment': 'random',\n",
        "        'experiment_name': '1.3.7.3',\n",
        "        'experiment_args': {'module_placement': ['layer1.1.bn1', 'layer2.1.conv2', 'layer3.1.conv2'], 'mask_out_ratio': 0.5},\n",
        "        'dataset_args': {'text_root': 'data', 'images_root': 'data/kfold/PACS', 'source_domain': 'art_painting', 'target_domain': 'photo' },\n",
        "        'batch_size': 128,\n",
        "        'epochs': 30,\n",
        "        'num_workers': 5,\n",
        "        'grad_accum_steps': 1\n",
        "    },\n",
        "    ### 1.3.8 - ASH MODULE AFTER layer1.1.conv2, layer1.1.bn2, AND layer2.1.conv2 ###\n",
        "    \"1.3.8.1\" : { # Art Painting -> Cartoon\n",
        "        'seed': 0,\n",
        "        'test_only': False,\n",
        "        'cpu': False,\n",
        "        'experiment': 'random',\n",
        "        'experiment_name': '1.3.8.1',\n",
        "        'experiment_args': {'module_placement': ['layer1.1.conv2', 'layer1.1.bn2', 'layer2.1.conv2'], 'mask_out_ratio': 0.5},\n",
        "        'dataset_args': {'text_root': 'data', 'images_root': 'data/kfold/PACS', 'source_domain': 'art_painting', 'target_domain': 'cartoon' },\n",
        "        'batch_size': 128,\n",
        "        'epochs': 30,\n",
        "        'num_workers': 5,\n",
        "        'grad_accum_steps': 1\n",
        "    },\n",
        "    \"1.3.8.2\" : { # Art Painting -> Sketch\n",
        "        'seed': 0,\n",
        "        'test_only': False,\n",
        "        'cpu': False,\n",
        "        'experiment': 'random',\n",
        "        'experiment_name': '1.3.8.2',\n",
        "        'experiment_args': {'module_placement': ['layer1.1.conv2', 'layer1.1.bn2', 'layer2.1.conv2'], 'mask_out_ratio': 0.5},\n",
        "        'dataset_args': {'text_root': 'data', 'images_root': 'data/kfold/PACS', 'source_domain': 'art_painting', 'target_domain': 'sketch' },\n",
        "        'batch_size': 128,\n",
        "        'epochs': 30,\n",
        "        'num_workers': 5,\n",
        "        'grad_accum_steps': 1\n",
        "    },\n",
        "    \"1.3.8.3\" : { # Art Painting -> Photo\n",
        "        'seed': 0,\n",
        "        'test_only': False,\n",
        "        'cpu': False,\n",
        "        'experiment': 'random',\n",
        "        'experiment_name': '1.3.8.3',\n",
        "        'experiment_args': {'module_placement': ['layer1.1.conv2', 'layer1.1.bn2', 'layer2.1.conv2'], 'mask_out_ratio': 0.5},\n",
        "        'dataset_args': {'text_root': 'data', 'images_root': 'data/kfold/PACS', 'source_domain': 'art_painting', 'target_domain': 'photo' },\n",
        "        'batch_size': 128,\n",
        "        'epochs': 30,\n",
        "        'num_workers': 5,\n",
        "        'grad_accum_steps': 1\n",
        "    },\n",
        "    ### 1.3.9 - ASH MODULE AFTER layer1.1.conv2, layer2.1.conv2, AND layer3.0.conv1 ###\n",
        "    \"1.3.9.1\" : { # Art Painting -> Cartoon\n",
        "        'seed': 0,\n",
        "        'test_only': False,\n",
        "        'cpu': False,\n",
        "        'experiment': 'random',\n",
        "        'experiment_name': '1.3.9.1',\n",
        "        'experiment_args': {'module_placement': ['layer1.1.conv2', 'layer2.1.conv2', 'layer3.0.conv1'], 'mask_out_ratio': 0.5},\n",
        "        'dataset_args': {'text_root': 'data', 'images_root': 'data/kfold/PACS', 'source_domain': 'art_painting', 'target_domain': 'cartoon' },\n",
        "        'batch_size': 128,\n",
        "        'epochs': 30,\n",
        "        'num_workers': 5,\n",
        "        'grad_accum_steps': 1\n",
        "    },\n",
        "    \"1.3.9.2\" : { # Art Painting -> Sketch\n",
        "        'seed': 0,\n",
        "        'test_only': False,\n",
        "        'cpu': False,\n",
        "        'experiment': 'random',\n",
        "        'experiment_name': '1.3.9.2',\n",
        "        'experiment_args': {'module_placement': ['layer1.1.conv2', 'layer2.1.conv2', 'layer3.0.conv1'], 'mask_out_ratio': 0.5},\n",
        "        'dataset_args': {'text_root': 'data', 'images_root': 'data/kfold/PACS', 'source_domain': 'art_painting', 'target_domain': 'sketch' },\n",
        "        'batch_size': 128,\n",
        "        'epochs': 30,\n",
        "        'num_workers': 5,\n",
        "        'grad_accum_steps': 1\n",
        "    },\n",
        "    \"1.3.9.3\" : { # Art Painting -> Photo\n",
        "        'seed': 0,\n",
        "        'test_only': False,\n",
        "        'cpu': False,\n",
        "        'experiment': 'random',\n",
        "        'experiment_name': '1.3.9.3',\n",
        "        'experiment_args': {'module_placement': ['layer1.1.conv2', 'layer2.1.conv2', 'layer3.0.conv1'], 'mask_out_ratio': 0.5},\n",
        "        'dataset_args': {'text_root': 'data', 'images_root': 'data/kfold/PACS', 'source_domain': 'art_painting', 'target_domain': 'photo' },\n",
        "        'batch_size': 128,\n",
        "        'epochs': 30,\n",
        "        'num_workers': 5,\n",
        "        'grad_accum_steps': 1\n",
        "    },\n",
        "    ### 1.3.10 - ASH MODULE AFTER layer1.1.conv2, layer2.1.conv2, AND layer3.1.conv2 ###\n",
        "    \"1.3.10.1\" : { # Art Painting -> Cartoon\n",
        "        'seed': 0,\n",
        "        'test_only': False,\n",
        "        'cpu': False,\n",
        "        'experiment': 'random',\n",
        "        'experiment_name': '1.3.10.1',\n",
        "        'experiment_args': {'module_placement': ['layer1.1.conv2', 'layer2.1.conv2', 'layer3.1.conv2'], 'mask_out_ratio': 0.5},\n",
        "        'dataset_args': {'text_root': 'data', 'images_root': 'data/kfold/PACS', 'source_domain': 'art_painting', 'target_domain': 'cartoon' },\n",
        "        'batch_size': 128,\n",
        "        'epochs': 30,\n",
        "        'num_workers': 5,\n",
        "        'grad_accum_steps': 1\n",
        "    },\n",
        "    \"1.3.10.2\" : { # Art Painting -> Sketch\n",
        "        'seed': 0,\n",
        "        'test_only': False,\n",
        "        'cpu': False,\n",
        "        'experiment': 'random',\n",
        "        'experiment_name': '1.3.10.2',\n",
        "        'experiment_args': {'module_placement': ['layer1.1.conv2', 'layer2.1.conv2', 'layer3.1.conv2'], 'mask_out_ratio': 0.5},\n",
        "        'dataset_args': {'text_root': 'data', 'images_root': 'data/kfold/PACS', 'source_domain': 'art_painting', 'target_domain': 'sketch' },\n",
        "        'batch_size': 128,\n",
        "        'epochs': 30,\n",
        "        'num_workers': 5,\n",
        "        'grad_accum_steps': 1\n",
        "    },\n",
        "    \"1.3.10.3\" : { # Art Painting -> Photo\n",
        "        'seed': 0,\n",
        "        'test_only': False,\n",
        "        'cpu': False,\n",
        "        'experiment': 'random',\n",
        "        'experiment_name': '1.3.10.3',\n",
        "        'experiment_args': {'module_placement': ['layer1.1.conv2', 'layer2.1.conv2', 'layer3.1.conv2'], 'mask_out_ratio': 0.5},\n",
        "        'dataset_args': {'text_root': 'data', 'images_root': 'data/kfold/PACS', 'source_domain': 'art_painting', 'target_domain': 'photo' },\n",
        "        'batch_size': 128,\n",
        "        'epochs': 30,\n",
        "        'num_workers': 5,\n",
        "        'grad_accum_steps': 1\n",
        "    },\n",
        "    ### 1.3.11 - ASH MODULE AFTER layer1.1.bn2, layer2.1.conv2, AND layer3.0.conv1 ###\n",
        "    \"1.3.11.1\" : { # Art Painting -> Cartoon\n",
        "        'seed': 0,\n",
        "        'test_only': False,\n",
        "        'cpu': False,\n",
        "        'experiment': 'random',\n",
        "        'experiment_name': '1.3.11.1',\n",
        "        'experiment_args': {'module_placement': ['layer1.1.bn2', 'layer2.1.conv2', 'layer3.0.conv1'], 'mask_out_ratio': 0.5},\n",
        "        'dataset_args': {'text_root': 'data', 'images_root': 'data/kfold/PACS', 'source_domain': 'art_painting', 'target_domain': 'cartoon' },\n",
        "        'batch_size': 128,\n",
        "        'epochs': 30,\n",
        "        'num_workers': 5,\n",
        "        'grad_accum_steps': 1\n",
        "    },\n",
        "    \"1.3.11.2\" : { # Art Painting -> Sketch\n",
        "        'seed': 0,\n",
        "        'test_only': False,\n",
        "        'cpu': False,\n",
        "        'experiment': 'random',\n",
        "        'experiment_name': '1.3.11.2',\n",
        "        'experiment_args': {'module_placement': ['layer1.1.bn2', 'layer2.1.conv2', 'layer3.0.conv1'], 'mask_out_ratio': 0.5},\n",
        "        'dataset_args': {'text_root': 'data', 'images_root': 'data/kfold/PACS', 'source_domain': 'art_painting', 'target_domain': 'sketch' },\n",
        "        'batch_size': 128,\n",
        "        'epochs': 30,\n",
        "        'num_workers': 5,\n",
        "        'grad_accum_steps': 1\n",
        "    },\n",
        "    \"1.3.11.3\" : { # Art Painting -> Photo\n",
        "        'seed': 0,\n",
        "        'test_only': False,\n",
        "        'cpu': False,\n",
        "        'experiment': 'random',\n",
        "        'experiment_name': '1.3.11.3',\n",
        "        'experiment_args': {'module_placement': ['layer1.1.bn2', 'layer2.1.conv2', 'layer3.0.conv1'], 'mask_out_ratio': 0.5},\n",
        "        'dataset_args': {'text_root': 'data', 'images_root': 'data/kfold/PACS', 'source_domain': 'art_painting', 'target_domain': 'photo' },\n",
        "        'batch_size': 128,\n",
        "        'epochs': 30,\n",
        "        'num_workers': 5,\n",
        "        'grad_accum_steps': 1\n",
        "    },\n",
        "    ### 1.3.12 - ASH MODULE AFTER layer1.1.bn2, layer2.1.conv2, AND layer3.1.conv2 ###\n",
        "    \"1.3.12.1\" : { # Art Painting -> Cartoon\n",
        "        'seed': 0,\n",
        "        'test_only': False,\n",
        "        'cpu': False,\n",
        "        'experiment': 'random',\n",
        "        'experiment_name': '1.3.12.1',\n",
        "        'experiment_args': {'module_placement': ['layer1.1.bn2', 'layer2.1.conv2', 'layer3.1.conv2'], 'mask_out_ratio': 0.5},\n",
        "        'dataset_args': {'text_root': 'data', 'images_root': 'data/kfold/PACS', 'source_domain': 'art_painting', 'target_domain': 'cartoon' },\n",
        "        'batch_size': 128,\n",
        "        'epochs': 30,\n",
        "        'num_workers': 5,\n",
        "        'grad_accum_steps': 1\n",
        "    },\n",
        "    \"1.3.12.2\" : { # Art Painting -> Sketch\n",
        "        'seed': 0,\n",
        "        'test_only': False,\n",
        "        'cpu': False,\n",
        "        'experiment': 'random',\n",
        "        'experiment_name': '1.3.12.2',\n",
        "        'experiment_args': {'module_placement': ['layer1.1.bn2', 'layer2.1.conv2', 'layer3.1.conv2'], 'mask_out_ratio': 0.5},\n",
        "        'dataset_args': {'text_root': 'data', 'images_root': 'data/kfold/PACS', 'source_domain': 'art_painting', 'target_domain': 'sketch' },\n",
        "        'batch_size': 128,\n",
        "        'epochs': 30,\n",
        "        'num_workers': 5,\n",
        "        'grad_accum_steps': 1\n",
        "    },\n",
        "    \"1.3.12.3\" : { # Art Painting -> Photo\n",
        "        'seed': 0,\n",
        "        'test_only': False,\n",
        "        'cpu': False,\n",
        "        'experiment': 'random',\n",
        "        'experiment_name': '1.3.12.3',\n",
        "        'experiment_args': {'module_placement': ['layer1.1.bn2', 'layer2.1.conv2', 'layer3.1.conv2'], 'mask_out_ratio': 0.5},\n",
        "        'dataset_args': {'text_root': 'data', 'images_root': 'data/kfold/PACS', 'source_domain': 'art_painting', 'target_domain': 'photo' },\n",
        "        'batch_size': 128,\n",
        "        'epochs': 30,\n",
        "        'num_workers': 5,\n",
        "        'grad_accum_steps': 1\n",
        "    },\n",
        "\n",
        "    #### 1.4 - FOUR ASH MODULES ####\n",
        "    ### 1.4.1 - ASH MODULE AFTER layer1.1.bn1, layer1.1.conv2, layer1.1.bn2, AND layer2.1.conv2 ###\n",
        "    \"1.4.1.1\" : { # Art Painting -> Cartoon\n",
        "        'seed': 0,\n",
        "        'test_only': False,\n",
        "        'cpu': False,\n",
        "        'experiment': 'random',\n",
        "        'experiment_name': '1.4.1.1',\n",
        "        'experiment_args': {'module_placement': ['layer1.1.bn1', 'layer1.1.conv2', 'layer1.1.bn2', 'layer2.1.conv2'], 'mask_out_ratio': 0.5},\n",
        "        'dataset_args': {'text_root': 'data', 'images_root': 'data/kfold/PACS', 'source_domain': 'art_painting', 'target_domain': 'cartoon' },\n",
        "        'batch_size': 128,\n",
        "        'epochs': 30,\n",
        "        'num_workers': 5,\n",
        "        'grad_accum_steps': 1\n",
        "    },\n",
        "    \"1.4.1.2\" : { # Art Painting -> Sketch\n",
        "        'seed': 0,\n",
        "        'test_only': False,\n",
        "        'cpu': False,\n",
        "        'experiment': 'random',\n",
        "        'experiment_name': '1.4.1.2',\n",
        "        'experiment_args': {'module_placement': ['layer1.1.bn1', 'layer1.1.conv2', 'layer1.1.bn2', 'layer2.1.conv2'], 'mask_out_ratio': 0.5},\n",
        "        'dataset_args': {'text_root': 'data', 'images_root': 'data/kfold/PACS', 'source_domain': 'art_painting', 'target_domain': 'sketch' },\n",
        "        'batch_size': 128,\n",
        "        'epochs': 30,\n",
        "        'num_workers': 5,\n",
        "        'grad_accum_steps': 1\n",
        "    },\n",
        "    \"1.4.1.3\" : { # Art Painting -> Photo\n",
        "        'seed': 0,\n",
        "        'test_only': False,\n",
        "        'cpu': False,\n",
        "        'experiment': 'random',\n",
        "        'experiment_name': '1.4.1.3',\n",
        "        'experiment_args': {'module_placement': ['layer1.1.bn1', 'layer1.1.conv2', 'layer1.1.bn2', 'layer2.1.conv2'], 'mask_out_ratio': 0.5},\n",
        "        'dataset_args': {'text_root': 'data', 'images_root': 'data/kfold/PACS', 'source_domain': 'art_painting', 'target_domain': 'photo' },\n",
        "        'batch_size': 128,\n",
        "        'epochs': 30,\n",
        "        'num_workers': 5,\n",
        "        'grad_accum_steps': 1\n",
        "    },\n",
        "    ### 1.4.2 - ASH MODULE AFTER layer1.1.bn1, layer1.1.conv2, layer1.1.bn2, AND layer3.0.conv1 ###\n",
        "    \"1.4.2.1\" : { # Art Painting -> Cartoon\n",
        "        'seed': 0,\n",
        "        'test_only': False,\n",
        "        'cpu': False,\n",
        "        'experiment': 'random',\n",
        "        'experiment_name': '1.4.2.1',\n",
        "        'experiment_args': {'module_placement': ['layer1.1.bn1', 'layer1.1.conv2', 'layer1.1.bn2', 'layer3.0.conv1'], 'mask_out_ratio': 0.5},\n",
        "        'dataset_args': {'text_root': 'data', 'images_root': 'data/kfold/PACS', 'source_domain': 'art_painting', 'target_domain': 'cartoon' },\n",
        "        'batch_size': 128,\n",
        "        'epochs': 30,\n",
        "        'num_workers': 5,\n",
        "        'grad_accum_steps': 1\n",
        "    },\n",
        "    \"1.4.2.2\" : { # Art Painting -> Sketch\n",
        "        'seed': 0,\n",
        "        'test_only': False,\n",
        "        'cpu': False,\n",
        "        'experiment': 'random',\n",
        "        'experiment_name': '1.4.2.2',\n",
        "        'experiment_args': {'module_placement': ['layer1.1.bn1', 'layer1.1.conv2', 'layer1.1.bn2', 'layer3.0.conv1'], 'mask_out_ratio': 0.5},\n",
        "        'dataset_args': {'text_root': 'data', 'images_root': 'data/kfold/PACS', 'source_domain': 'art_painting', 'target_domain': 'sketch' },\n",
        "        'batch_size': 128,\n",
        "        'epochs': 30,\n",
        "        'num_workers': 5,\n",
        "        'grad_accum_steps': 1\n",
        "    },\n",
        "    \"1.4.2.3\" : { # Art Painting -> Photo\n",
        "        'seed': 0,\n",
        "        'test_only': False,\n",
        "        'cpu': False,\n",
        "        'experiment': 'random',\n",
        "        'experiment_name': '1.4.2.3',\n",
        "        'experiment_args': {'module_placement': ['layer1.1.bn1', 'layer1.1.conv2', 'layer1.1.bn2', 'layer3.0.conv1'], 'mask_out_ratio': 0.5},\n",
        "        'dataset_args': {'text_root': 'data', 'images_root': 'data/kfold/PACS', 'source_domain': 'art_painting', 'target_domain': 'photo' },\n",
        "        'batch_size': 128,\n",
        "        'epochs': 30,\n",
        "        'num_workers': 5,\n",
        "        'grad_accum_steps': 1\n",
        "    },\n",
        "    ### 1.4.3 - ASH MODULE AFTER layer1.1.bn1, layer1.1.conv2, layer1.1.bn2, AND layer3.1.conv2 ###\n",
        "    \"1.4.3.1\" : { # Art Painting -> Cartoon\n",
        "        'seed': 0,\n",
        "        'test_only': False,\n",
        "        'cpu': False,\n",
        "        'experiment': 'random',\n",
        "        'experiment_name': '1.4.3.1',\n",
        "        'experiment_args': {'module_placement': ['layer1.1.bn1', 'layer1.1.conv2', 'layer1.1.bn2', 'layer3.1.conv2'], 'mask_out_ratio': 0.5},\n",
        "        'dataset_args': {'text_root': 'data', 'images_root': 'data/kfold/PACS', 'source_domain': 'art_painting', 'target_domain': 'cartoon' },\n",
        "        'batch_size': 128,\n",
        "        'epochs': 30,\n",
        "        'num_workers': 5,\n",
        "        'grad_accum_steps': 1\n",
        "    },\n",
        "    \"1.4.3.2\" : { # Art Painting -> Sketch\n",
        "        'seed': 0,\n",
        "        'test_only': False,\n",
        "        'cpu': False,\n",
        "        'experiment': 'random',\n",
        "        'experiment_name': '1.4.3.2',\n",
        "        'experiment_args': {'module_placement': ['layer1.1.bn1', 'layer1.1.conv2', 'layer1.1.bn2', 'layer3.1.conv2'], 'mask_out_ratio': 0.5},\n",
        "        'dataset_args': {'text_root': 'data', 'images_root': 'data/kfold/PACS', 'source_domain': 'art_painting', 'target_domain': 'sketch' },\n",
        "        'batch_size': 128,\n",
        "        'epochs': 30,\n",
        "        'num_workers': 5,\n",
        "        'grad_accum_steps': 1\n",
        "    },\n",
        "    \"1.4.3.3\" : { # Art Painting -> Photo\n",
        "        'seed': 0,\n",
        "        'test_only': False,\n",
        "        'cpu': False,\n",
        "        'experiment': 'random',\n",
        "        'experiment_name': '1.4.3.3',\n",
        "        'experiment_args': {'module_placement': ['layer1.1.bn1', 'layer1.1.conv2', 'layer1.1.bn2', 'layer3.1.conv2'], 'mask_out_ratio': 0.5},\n",
        "        'dataset_args': {'text_root': 'data', 'images_root': 'data/kfold/PACS', 'source_domain': 'art_painting', 'target_domain': 'photo' },\n",
        "        'batch_size': 128,\n",
        "        'epochs': 30,\n",
        "        'num_workers': 5,\n",
        "        'grad_accum_steps': 1\n",
        "    },\n",
        "    ### 1.4.4 - ASH MODULE AFTER layer1.1.bn1, layer1.1.conv2, layer2.1.conv2, AND layer3.0.conv1 ###\n",
        "    \"1.4.4.1\" : { # Art Painting -> Cartoon\n",
        "        'seed': 0,\n",
        "        'test_only': False,\n",
        "        'cpu': False,\n",
        "        'experiment': 'random',\n",
        "        'experiment_name': '1.4.4.1',\n",
        "        'experiment_args': {'module_placement': ['layer1.1.bn1', 'layer1.1.conv2', 'layer2.1.conv2', 'layer3.0.conv1'], 'mask_out_ratio': 0.5},\n",
        "        'dataset_args': {'text_root': 'data', 'images_root': 'data/kfold/PACS', 'source_domain': 'art_painting', 'target_domain': 'cartoon' },\n",
        "        'batch_size': 128,\n",
        "        'epochs': 30,\n",
        "        'num_workers': 5,\n",
        "        'grad_accum_steps': 1\n",
        "    },\n",
        "    \"1.4.4.2\" : { # Art Painting -> Sketch\n",
        "        'seed': 0,\n",
        "        'test_only': False,\n",
        "        'cpu': False,\n",
        "        'experiment': 'random',\n",
        "        'experiment_name': '1.4.4.2',\n",
        "        'experiment_args': {'module_placement': ['layer1.1.bn1', 'layer1.1.conv2', 'layer2.1.conv2', 'layer3.0.conv1'], 'mask_out_ratio': 0.5},\n",
        "        'dataset_args': {'text_root': 'data', 'images_root': 'data/kfold/PACS', 'source_domain': 'art_painting', 'target_domain': 'sketch' },\n",
        "        'batch_size': 128,\n",
        "        'epochs': 30,\n",
        "        'num_workers': 5,\n",
        "        'grad_accum_steps': 1\n",
        "    },\n",
        "    \"1.4.4.3\" : { # Art Painting -> Photo\n",
        "        'seed': 0,\n",
        "        'test_only': False,\n",
        "        'cpu': False,\n",
        "        'experiment': 'random',\n",
        "        'experiment_name': '1.4.4.3',\n",
        "        'experiment_args': {'module_placement': ['layer1.1.bn1', 'layer1.1.conv2', 'layer2.1.conv2', 'layer3.0.conv1'], 'mask_out_ratio': 0.5},\n",
        "        'dataset_args': {'text_root': 'data', 'images_root': 'data/kfold/PACS', 'source_domain': 'art_painting', 'target_domain': 'photo' },\n",
        "        'batch_size': 128,\n",
        "        'epochs': 30,\n",
        "        'num_workers': 5,\n",
        "        'grad_accum_steps': 1\n",
        "    },\n",
        "    ### 1.4.5 - ASH MODULE AFTER layer1.1.bn1, layer1.1.conv2, layer2.1.conv2, AND layer3.1.conv2 ###\n",
        "    \"1.4.5.1\" : { # Art Painting -> Cartoon\n",
        "        'seed': 0,\n",
        "        'test_only': False,\n",
        "        'cpu': False,\n",
        "        'experiment': 'random',\n",
        "        'experiment_name': '1.4.5.1',\n",
        "        'experiment_args': {'module_placement': ['layer1.1.bn1', 'layer1.1.conv2', 'layer2.1.conv2', 'layer3.1.conv2'], 'mask_out_ratio': 0.5},\n",
        "        'dataset_args': {'text_root': 'data', 'images_root': 'data/kfold/PACS', 'source_domain': 'art_painting', 'target_domain': 'cartoon' },\n",
        "        'batch_size': 128,\n",
        "        'epochs': 30,\n",
        "        'num_workers': 5,\n",
        "        'grad_accum_steps': 1\n",
        "    },\n",
        "    \"1.4.5.2\" : { # Art Painting -> Sketch\n",
        "        'seed': 0,\n",
        "        'test_only': False,\n",
        "        'cpu': False,\n",
        "        'experiment': 'random',\n",
        "        'experiment_name': '1.4.5.2',\n",
        "        'experiment_args': {'module_placement': ['layer1.1.bn1', 'layer1.1.conv2', 'layer2.1.conv2', 'layer3.1.conv2'], 'mask_out_ratio': 0.5},\n",
        "        'dataset_args': {'text_root': 'data', 'images_root': 'data/kfold/PACS', 'source_domain': 'art_painting', 'target_domain': 'sketch' },\n",
        "        'batch_size': 128,\n",
        "        'epochs': 30,\n",
        "        'num_workers': 5,\n",
        "        'grad_accum_steps': 1\n",
        "    },\n",
        "    \"1.4.5.3\" : { # Art Painting -> Photo\n",
        "        'seed': 0,\n",
        "        'test_only': False,\n",
        "        'cpu': False,\n",
        "        'experiment': 'random',\n",
        "        'experiment_name': '1.4.5.3',\n",
        "        'experiment_args': {'module_placement': ['layer1.1.bn1', 'layer1.1.conv2', 'layer2.1.conv2', 'layer3.1.conv2'], 'mask_out_ratio': 0.5},\n",
        "        'dataset_args': {'text_root': 'data', 'images_root': 'data/kfold/PACS', 'source_domain': 'art_painting', 'target_domain': 'photo' },\n",
        "        'batch_size': 128,\n",
        "        'epochs': 30,\n",
        "        'num_workers': 5,\n",
        "        'grad_accum_steps': 1\n",
        "    },\n",
        "    ### 1.4.6 - ASH MODULE AFTER layer1.1.bn1, layer1.1.conv2, layer3.0.conv1, AND layer3.1.conv2 ###\n",
        "    \"1.4.6.1\" : { # Art Painting -> Cartoon\n",
        "        'seed': 0,\n",
        "        'test_only': False,\n",
        "        'cpu': False,\n",
        "        'experiment': 'random',\n",
        "        'experiment_name': '1.4.6.1',\n",
        "        'experiment_args': {'module_placement': ['layer1.1.bn1', 'layer1.1.conv2', 'layer3.0.conv1', 'layer3.1.conv2'], 'mask_out_ratio': 0.5},\n",
        "        'dataset_args': {'text_root': 'data', 'images_root': 'data/kfold/PACS', 'source_domain': 'art_painting', 'target_domain': 'cartoon' },\n",
        "        'batch_size': 128,\n",
        "        'epochs': 30,\n",
        "        'num_workers': 5,\n",
        "        'grad_accum_steps': 1\n",
        "    },\n",
        "    \"1.4.6.2\" : { # Art Painting -> Sketch\n",
        "        'seed': 0,\n",
        "        'test_only': False,\n",
        "        'cpu': False,\n",
        "        'experiment': 'random',\n",
        "        'experiment_name': '1.4.6.2',\n",
        "        'experiment_args': {'module_placement': ['layer1.1.bn1', 'layer1.1.conv2', 'layer3.0.conv1', 'layer3.1.conv2'], 'mask_out_ratio': 0.5},\n",
        "        'dataset_args': {'text_root': 'data', 'images_root': 'data/kfold/PACS', 'source_domain': 'art_painting', 'target_domain': 'sketch' },\n",
        "        'batch_size': 128,\n",
        "        'epochs': 30,\n",
        "        'num_workers': 5,\n",
        "        'grad_accum_steps': 1\n",
        "    },\n",
        "    \"1.4.6.3\" : { # Art Painting -> Photo\n",
        "        'seed': 0,\n",
        "        'test_only': False,\n",
        "        'cpu': False,\n",
        "        'experiment': 'random',\n",
        "        'experiment_name': '1.4.6.3',\n",
        "        'experiment_args': {'module_placement': ['layer1.1.bn1', 'layer1.1.conv2', 'layer3.0.conv1', 'layer3.1.conv2'], 'mask_out_ratio': 0.5},\n",
        "        'dataset_args': {'text_root': 'data', 'images_root': 'data/kfold/PACS', 'source_domain': 'art_painting', 'target_domain': 'photo' },\n",
        "        'batch_size': 128,\n",
        "        'epochs': 30,\n",
        "        'num_workers': 5,\n",
        "        'grad_accum_steps': 1\n",
        "    },\n",
        "    ### 1.4.7 - ASH MODULE AFTER layer1.1.bn1, layer1.1.bn2, layer2.1.conv2, AND layer3.0.conv1 ###\n",
        "    \"1.4.7.1\" : { # Art Painting -> Cartoon\n",
        "        'seed': 0,\n",
        "        'test_only': False,\n",
        "        'cpu': False,\n",
        "        'experiment': 'random',\n",
        "        'experiment_name': '1.4.7.1',\n",
        "        'experiment_args': {'module_placement': ['layer1.1.bn1', 'layer1.1.bn2', 'layer2.1.conv2', 'layer3.0.conv1'], 'mask_out_ratio': 0.5},\n",
        "        'dataset_args': {'text_root': 'data', 'images_root': 'data/kfold/PACS', 'source_domain': 'art_painting', 'target_domain': 'cartoon' },\n",
        "        'batch_size': 128,\n",
        "        'epochs': 30,\n",
        "        'num_workers': 5,\n",
        "        'grad_accum_steps': 1\n",
        "    },\n",
        "    \"1.4.7.2\" : { # Art Painting -> Sketch\n",
        "        'seed': 0,\n",
        "        'test_only': False,\n",
        "        'cpu': False,\n",
        "        'experiment': 'random',\n",
        "        'experiment_name': '1.4.7.2',\n",
        "        'experiment_args': {'module_placement': ['layer1.1.bn1', 'layer1.1.bn2', 'layer2.1.conv2', 'layer3.0.conv1'], 'mask_out_ratio': 0.5},\n",
        "        'dataset_args': {'text_root': 'data', 'images_root': 'data/kfold/PACS', 'source_domain': 'art_painting', 'target_domain': 'sketch' },\n",
        "        'batch_size': 128,\n",
        "        'epochs': 30,\n",
        "        'num_workers': 5,\n",
        "        'grad_accum_steps': 1\n",
        "    },\n",
        "    \"1.4.7.3\" : { # Art Painting -> Photo\n",
        "        'seed': 0,\n",
        "        'test_only': False,\n",
        "        'cpu': False,\n",
        "        'experiment': 'random',\n",
        "        'experiment_name': '1.4.7.3',\n",
        "        'experiment_args': {'module_placement': ['layer1.1.bn1', 'layer1.1.bn2', 'layer2.1.conv2', 'layer3.0.conv1'], 'mask_out_ratio': 0.5},\n",
        "        'dataset_args': {'text_root': 'data', 'images_root': 'data/kfold/PACS', 'source_domain': 'art_painting', 'target_domain': 'photo' },\n",
        "        'batch_size': 128,\n",
        "        'epochs': 30,\n",
        "        'num_workers': 5,\n",
        "        'grad_accum_steps': 1\n",
        "    },\n",
        "    ### 1.4.8 - ASH MODULE AFTER layer1.1.bn1, layer1.1.bn2, layer2.1.conv2, AND layer3.1.conv2 ###\n",
        "    \"1.4.8.1\" : { # Art Painting -> Cartoon\n",
        "        'seed': 0,\n",
        "        'test_only': False,\n",
        "        'cpu': False,\n",
        "        'experiment': 'random',\n",
        "        'experiment_name': '1.4.8.1',\n",
        "        'experiment_args': {'module_placement': ['layer1.1.bn1', 'layer1.1.bn2', 'layer2.1.conv2', 'layer3.1.conv2'], 'mask_out_ratio': 0.5},\n",
        "        'dataset_args': {'text_root': 'data', 'images_root': 'data/kfold/PACS', 'source_domain': 'art_painting', 'target_domain': 'cartoon' },\n",
        "        'batch_size': 128,\n",
        "        'epochs': 30,\n",
        "        'num_workers': 5,\n",
        "        'grad_accum_steps': 1\n",
        "    },\n",
        "    \"1.4.8.2\" : { # Art Painting -> Sketch\n",
        "        'seed': 0,\n",
        "        'test_only': False,\n",
        "        'cpu': False,\n",
        "        'experiment': 'random',\n",
        "        'experiment_name': '1.4.8.2',\n",
        "        'experiment_args': {'module_placement': ['layer1.1.bn1', 'layer1.1.bn2', 'layer2.1.conv2', 'layer3.1.conv2'], 'mask_out_ratio': 0.5},\n",
        "        'dataset_args': {'text_root': 'data', 'images_root': 'data/kfold/PACS', 'source_domain': 'art_painting', 'target_domain': 'sketch' },\n",
        "        'batch_size': 128,\n",
        "        'epochs': 30,\n",
        "        'num_workers': 5,\n",
        "        'grad_accum_steps': 1\n",
        "    },\n",
        "    \"1.4.8.3\" : { # Art Painting -> Photo\n",
        "        'seed': 0,\n",
        "        'test_only': False,\n",
        "        'cpu': False,\n",
        "        'experiment': 'random',\n",
        "        'experiment_name': '1.4.8.3',\n",
        "        'experiment_args': {'module_placement': ['layer1.1.bn1', 'layer1.1.bn2', 'layer2.1.conv2', 'layer3.1.conv2'], 'mask_out_ratio': 0.5},\n",
        "        'dataset_args': {'text_root': 'data', 'images_root': 'data/kfold/PACS', 'source_domain': 'art_painting', 'target_domain': 'photo' },\n",
        "        'batch_size': 128,\n",
        "        'epochs': 30,\n",
        "        'num_workers': 5,\n",
        "        'grad_accum_steps': 1\n",
        "    },\n",
        "\n",
        "    #### 1.5 - FIVE ASH MODULES ####\n",
        "    ### 1.5.1 - ASH MODULE AFTER layer1.1.bn1, layer1.1.conv2, layer1.1.bn2, layer2.1.conv2, and layer3.0.conv1 ###\n",
        "    \"1.5.1.1\" : { # Art Painting -> Cartoon\n",
        "        'seed': 0,\n",
        "        'test_only': False,\n",
        "        'cpu': False,\n",
        "        'experiment': 'random',\n",
        "        'experiment_name': '1.5.1.1',\n",
        "        'experiment_args': {'module_placement': ['layer1.1.bn1', 'layer1.1.conv2', 'layer1.1.bn2', 'layer2.1.conv2', 'layer3.0.conv1'], 'mask_out_ratio': 0.5},\n",
        "        'dataset_args': {'text_root': 'data', 'images_root': 'data/kfold/PACS', 'source_domain': 'art_painting', 'target_domain': 'cartoon' },\n",
        "        'batch_size': 128,\n",
        "        'epochs': 30,\n",
        "        'num_workers': 5,\n",
        "        'grad_accum_steps': 1\n",
        "    },\n",
        "    \"1.5.1.2\" : { # Art Painting -> Sketch\n",
        "        'seed': 0,\n",
        "        'test_only': False,\n",
        "        'cpu': False,\n",
        "        'experiment': 'random',\n",
        "        'experiment_name': '1.5.1.2',\n",
        "        'experiment_args': {'module_placement': ['layer1.1.bn1', 'layer1.1.conv2', 'layer1.1.bn2', 'layer2.1.conv2', 'layer3.0.conv1'], 'mask_out_ratio': 0.5},\n",
        "        'dataset_args': {'text_root': 'data', 'images_root': 'data/kfold/PACS', 'source_domain': 'art_painting', 'target_domain': 'sketch' },\n",
        "        'batch_size': 128,\n",
        "        'epochs': 30,\n",
        "        'num_workers': 5,\n",
        "        'grad_accum_steps': 1\n",
        "    },\n",
        "    \"1.5.1.3\" : { # Art Painting -> Photo\n",
        "        'seed': 0,\n",
        "        'test_only': False,\n",
        "        'cpu': False,\n",
        "        'experiment': 'random',\n",
        "        'experiment_name': '1.5.1.3',\n",
        "        'experiment_args': {'module_placement': ['layer1.1.bn1', 'layer1.1.conv2', 'layer1.1.bn2', 'layer2.1.conv2', 'layer3.0.conv1'], 'mask_out_ratio': 0.5},\n",
        "        'dataset_args': {'text_root': 'data', 'images_root': 'data/kfold/PACS', 'source_domain': 'art_painting', 'target_domain': 'photo' },\n",
        "        'batch_size': 128,\n",
        "        'epochs': 30,\n",
        "        'num_workers': 5,\n",
        "        'grad_accum_steps': 1\n",
        "    },\n",
        "    ### 1.5.2 - ASH MODULE AFTER layer1.1.bn1, layer1.1.conv2, layer1.1.bn2, layer2.1.conv2, and layer3.1.conv2 ###\n",
        "    \"1.5.2.1\" : { # Art Painting -> Cartoon\n",
        "        'seed': 0,\n",
        "        'test_only': False,\n",
        "        'cpu': False,\n",
        "        'experiment': 'random',\n",
        "        'experiment_name': '1.5.2.1',\n",
        "        'experiment_args': {'module_placement': ['layer1.1.bn1', 'layer1.1.conv2', 'layer1.1.bn2', 'layer2.1.conv2', 'layer3.1.conv2'], 'mask_out_ratio': 0.5},\n",
        "        'dataset_args': {'text_root': 'data', 'images_root': 'data/kfold/PACS', 'source_domain': 'art_painting', 'target_domain': 'cartoon' },\n",
        "        'batch_size': 128,\n",
        "        'epochs': 30,\n",
        "        'num_workers': 5,\n",
        "        'grad_accum_steps': 1\n",
        "    },\n",
        "    \"1.5.2.2\" : { # Art Painting -> Sketch\n",
        "        'seed': 0,\n",
        "        'test_only': False,\n",
        "        'cpu': False,\n",
        "        'experiment': 'random',\n",
        "        'experiment_name': '1.5.2.2',\n",
        "        'experiment_args': {'module_placement': ['layer1.1.bn1', 'layer1.1.conv2', 'layer1.1.bn2', 'layer2.1.conv2', 'layer3.1.conv2'], 'mask_out_ratio': 0.5},\n",
        "        'dataset_args': {'text_root': 'data', 'images_root': 'data/kfold/PACS', 'source_domain': 'art_painting', 'target_domain': 'sketch' },\n",
        "        'batch_size': 128,\n",
        "        'epochs': 30,\n",
        "        'num_workers': 5,\n",
        "        'grad_accum_steps': 1\n",
        "    },\n",
        "    \"1.5.2.3\" : { # Art Painting -> Photo\n",
        "        'seed': 0,\n",
        "        'test_only': False,\n",
        "        'cpu': False,\n",
        "        'experiment': 'random',\n",
        "        'experiment_name': '1.5.2.3',\n",
        "        'experiment_args': {'module_placement': ['layer1.1.bn1', 'layer1.1.conv2', 'layer1.1.bn2', 'layer2.1.conv2', 'layer3.1.conv2'], 'mask_out_ratio': 0.5},\n",
        "        'dataset_args': {'text_root': 'data', 'images_root': 'data/kfold/PACS', 'source_domain': 'art_painting', 'target_domain': 'photo' },\n",
        "        'batch_size': 128,\n",
        "        'epochs': 30,\n",
        "        'num_workers': 5,\n",
        "        'grad_accum_steps': 1\n",
        "    },\n",
        "    ### 1.5.3 - ASH MODULE AFTER layer1.1.bn1, layer1.1.conv2, layer1.1.bn2, layer3.0.conv1, and layer3.1.conv2 ###\n",
        "    \"1.5.3.1\" : { # Art Painting -> Cartoon\n",
        "        'seed': 0,\n",
        "        'test_only': False,\n",
        "        'cpu': False,\n",
        "        'experiment': 'random',\n",
        "        'experiment_name': '1.5.3.1',\n",
        "        'experiment_args': {'module_placement': ['layer1.1.bn1', 'layer1.1.conv2', 'layer1.1.bn2', 'layer3.0.conv1', 'layer3.1.conv2'], 'mask_out_ratio': 0.5},\n",
        "        'dataset_args': {'text_root': 'data', 'images_root': 'data/kfold/PACS', 'source_domain': 'art_painting', 'target_domain': 'cartoon' },\n",
        "        'batch_size': 128,\n",
        "        'epochs': 30,\n",
        "        'num_workers': 5,\n",
        "        'grad_accum_steps': 1\n",
        "    },\n",
        "    \"1.5.3.2\" : { # Art Painting -> Sketch\n",
        "        'seed': 0,\n",
        "        'test_only': False,\n",
        "        'cpu': False,\n",
        "        'experiment': 'random',\n",
        "        'experiment_name': '1.5.3.2',\n",
        "        'experiment_args': {'module_placement': ['layer1.1.bn1', 'layer1.1.conv2', 'layer1.1.bn2', 'layer3.0.conv1', 'layer3.1.conv2'], 'mask_out_ratio': 0.5},\n",
        "        'dataset_args': {'text_root': 'data', 'images_root': 'data/kfold/PACS', 'source_domain': 'art_painting', 'target_domain': 'sketch' },\n",
        "        'batch_size': 128,\n",
        "        'epochs': 30,\n",
        "        'num_workers': 5,\n",
        "        'grad_accum_steps': 1\n",
        "    },\n",
        "    \"1.5.3.3\" : { # Art Painting -> Photo\n",
        "        'seed': 0,\n",
        "        'test_only': False,\n",
        "        'cpu': False,\n",
        "        'experiment': 'random',\n",
        "        'experiment_name': '1.5.3.3',\n",
        "        'experiment_args': {'module_placement': ['layer1.1.bn1', 'layer1.1.conv2', 'layer1.1.bn2', 'layer3.0.conv1', 'layer3.1.conv2'], 'mask_out_ratio': 0.5},\n",
        "        'dataset_args': {'text_root': 'data', 'images_root': 'data/kfold/PACS', 'source_domain': 'art_painting', 'target_domain': 'photo' },\n",
        "        'batch_size': 128,\n",
        "        'epochs': 30,\n",
        "        'num_workers': 5,\n",
        "        'grad_accum_steps': 1\n",
        "    },\n",
        "    ### 1.5.4 - ASH MODULE AFTER layer1.1.bn1, layer1.1.bn2, layer2.1.conv2, layer3.0.conv1, and layer3.1.conv2 ###\n",
        "    \"1.5.4.1\" : { # Art Painting -> Cartoon\n",
        "        'seed': 0,\n",
        "        'test_only': False,\n",
        "        'cpu': False,\n",
        "        'experiment': 'random',\n",
        "        'experiment_name': '1.5.4.1',\n",
        "        'experiment_args': {'module_placement': ['layer1.1.bn1', 'layer1.1.bn2', 'layer2.1.conv2', 'layer3.0.conv1', 'layer3.1.conv2'], 'mask_out_ratio': 0.5},\n",
        "        'dataset_args': {'text_root': 'data', 'images_root': 'data/kfold/PACS', 'source_domain': 'art_painting', 'target_domain': 'cartoon' },\n",
        "        'batch_size': 128,\n",
        "        'epochs': 30,\n",
        "        'num_workers': 5,\n",
        "        'grad_accum_steps': 1\n",
        "    },\n",
        "    \"1.5.4.2\" : { # Art Painting -> Sketch\n",
        "        'seed': 0,\n",
        "        'test_only': False,\n",
        "        'cpu': False,\n",
        "        'experiment': 'random',\n",
        "        'experiment_name': '1.5.4.2',\n",
        "        'experiment_args': {'module_placement': ['layer1.1.bn1', 'layer1.1.bn2', 'layer2.1.conv2', 'layer3.0.conv1', 'layer3.1.conv2'], 'mask_out_ratio': 0.5},\n",
        "        'dataset_args': {'text_root': 'data', 'images_root': 'data/kfold/PACS', 'source_domain': 'art_painting', 'target_domain': 'sketch' },\n",
        "        'batch_size': 128,\n",
        "        'epochs': 30,\n",
        "        'num_workers': 5,\n",
        "        'grad_accum_steps': 1\n",
        "    },\n",
        "    \"1.5.4.3\" : { # Art Painting -> Photo\n",
        "        'seed': 0,\n",
        "        'test_only': False,\n",
        "        'cpu': False,\n",
        "        'experiment': 'random',\n",
        "        'experiment_name': '1.5.4.3',\n",
        "        'experiment_args': {'module_placement': ['layer1.1.bn1', 'layer1.1.bn2', 'layer2.1.conv2', 'layer3.0.conv1', 'layer3.1.conv2'], 'mask_out_ratio': 0.5},\n",
        "        'dataset_args': {'text_root': 'data', 'images_root': 'data/kfold/PACS', 'source_domain': 'art_painting', 'target_domain': 'photo' },\n",
        "        'batch_size': 128,\n",
        "        'epochs': 30,\n",
        "        'num_workers': 5,\n",
        "        'grad_accum_steps': 1\n",
        "    },\n",
        "\n",
        "    ##### 2 - RANDOM ACTIVATION MAPS #####\n",
        "    #### 2.1 - MASK OUT RATIO = 0.00 ####\n",
        "    ### 2.1.1 - ASH MODULE AFTER layer2.1.conv2 ###\n",
        "    \"2.1.1.1\" : { # Art Painting -> Cartoon\n",
        "        'seed': 0,\n",
        "        'test_only': False,\n",
        "        'cpu': False,\n",
        "        'experiment': 'random',\n",
        "        'experiment_name': '2.1.1.1',\n",
        "        'experiment_args': {'module_placement': ['layer2.1.conv2'], 'mask_out_ratio': 0.00},\n",
        "        'dataset_args': {'text_root': 'data', 'images_root': 'data/kfold/PACS', 'source_domain': 'art_painting', 'target_domain': 'cartoon' },\n",
        "        'batch_size': 128,\n",
        "        'epochs': 30,\n",
        "        'num_workers': 5,\n",
        "        'grad_accum_steps': 1\n",
        "    },\n",
        "    \"2.1.1.2\" : { # Art Painting -> Sketch\n",
        "        'seed': 0,\n",
        "        'test_only': False,\n",
        "        'cpu': False,\n",
        "        'experiment': 'random',\n",
        "        'experiment_name': '2.1.1.2',\n",
        "        'experiment_args': {'module_placement': ['layer2.1.conv2'], 'mask_out_ratio': 0.00},\n",
        "        'dataset_args': {'text_root': 'data', 'images_root': 'data/kfold/PACS', 'source_domain': 'art_painting', 'target_domain': 'sketch' },\n",
        "        'batch_size': 128,\n",
        "        'epochs': 30,\n",
        "        'num_workers': 5,\n",
        "        'grad_accum_steps': 1\n",
        "    },\n",
        "    \"2.1.1.3\" : { # Art Painting -> Photo\n",
        "        'seed': 0,\n",
        "        'test_only': False,\n",
        "        'cpu': False,\n",
        "        'experiment': 'random',\n",
        "        'experiment_name': '2.1.1.3',\n",
        "        'experiment_args': {'module_placement': ['layer2.1.conv2'], 'mask_out_ratio': 0.00},\n",
        "        'dataset_args': {'text_root': 'data', 'images_root': 'data/kfold/PACS', 'source_domain': 'art_painting', 'target_domain': 'photo' },\n",
        "        'batch_size': 128,\n",
        "        'epochs': 30,\n",
        "        'num_workers': 5,\n",
        "        'grad_accum_steps': 1\n",
        "    },\n",
        "    ### 2.1.2 - ASH MODULE AFTER layer1.1.bn1 AND layer2.1.conv2 ###\n",
        "    \"2.1.2.1\" : { # Art Painting -> Cartoon\n",
        "        'seed': 0,\n",
        "        'test_only': False,\n",
        "        'cpu': False,\n",
        "        'experiment': 'random',\n",
        "        'experiment_name': '2.1.2.1',\n",
        "        'experiment_args': {'module_placement': ['layer1.1.bn1', 'layer2.1.conv2'], 'mask_out_ratio': 0.00},\n",
        "        'dataset_args': {'text_root': 'data', 'images_root': 'data/kfold/PACS', 'source_domain': 'art_painting', 'target_domain': 'cartoon' },\n",
        "        'batch_size': 128,\n",
        "        'epochs': 30,\n",
        "        'num_workers': 5,\n",
        "        'grad_accum_steps': 1\n",
        "    },\n",
        "    \"2.1.2.2\" : { # Art Painting -> Sketch\n",
        "        'seed': 0,\n",
        "        'test_only': False,\n",
        "        'cpu': False,\n",
        "        'experiment': 'random',\n",
        "        'experiment_name': '2.1.2.2',\n",
        "        'experiment_args': {'module_placement': ['layer1.1.bn1', 'layer2.1.conv2'], 'mask_out_ratio': 0.00},\n",
        "        'dataset_args': {'text_root': 'data', 'images_root': 'data/kfold/PACS', 'source_domain': 'art_painting', 'target_domain': 'sketch' },\n",
        "        'batch_size': 128,\n",
        "        'epochs': 30,\n",
        "        'num_workers': 5,\n",
        "        'grad_accum_steps': 1\n",
        "    },\n",
        "    \"2.1.2.3\" : { # Art Painting -> Photo\n",
        "        'seed': 0,\n",
        "        'test_only': False,\n",
        "        'cpu': False,\n",
        "        'experiment': 'random',\n",
        "        'experiment_name': '2.1.2.3',\n",
        "        'experiment_args': {'module_placement': ['layer1.1.bn1', 'layer2.1.conv2'], 'mask_out_ratio': 0.00},\n",
        "        'dataset_args': {'text_root': 'data', 'images_root': 'data/kfold/PACS', 'source_domain': 'art_painting', 'target_domain': 'photo' },\n",
        "        'batch_size': 128,\n",
        "        'epochs': 30,\n",
        "        'num_workers': 5,\n",
        "        'grad_accum_steps': 1\n",
        "    },\n",
        "    ### 2.1.3 - ASH MODULE AFTER layer1.1.conv1 ###\n",
        "    \"2.1.3.1\" : { # Art Painting -> Cartoon\n",
        "        'seed': 0,\n",
        "        'test_only': False,\n",
        "        'cpu': False,\n",
        "        'experiment': 'random',\n",
        "        'experiment_name': '2.1.3.1',\n",
        "        'experiment_args': {'module_placement': ['layer1.1.conv1'], 'mask_out_ratio': 0.00},\n",
        "        'dataset_args': {'text_root': 'data', 'images_root': 'data/kfold/PACS', 'source_domain': 'art_painting', 'target_domain': 'cartoon' },\n",
        "        'batch_size': 128,\n",
        "        'epochs': 30,\n",
        "        'num_workers': 5,\n",
        "        'grad_accum_steps': 1\n",
        "    },\n",
        "    \"2.1.3.2\" : { # Art Painting -> Sketch\n",
        "        'seed': 0,\n",
        "        'test_only': False,\n",
        "        'cpu': False,\n",
        "        'experiment': 'random',\n",
        "        'experiment_name': '2.1.3.2',\n",
        "        'experiment_args': {'module_placement': ['layer1.1.conv1'], 'mask_out_ratio': 0.00},\n",
        "        'dataset_args': {'text_root': 'data', 'images_root': 'data/kfold/PACS', 'source_domain': 'art_painting', 'target_domain': 'sketch' },\n",
        "        'batch_size': 128,\n",
        "        'epochs': 30,\n",
        "        'num_workers': 5,\n",
        "        'grad_accum_steps': 1\n",
        "    },\n",
        "    \"2.1.3.3\" : { # Art Painting -> Photo\n",
        "        'seed': 0,\n",
        "        'test_only': False,\n",
        "        'cpu': False,\n",
        "        'experiment': 'random',\n",
        "        'experiment_name': '2.1.3.3',\n",
        "        'experiment_args': {'module_placement': ['layer1.1.conv1'], 'mask_out_ratio': 0.00},\n",
        "        'dataset_args': {'text_root': 'data', 'images_root': 'data/kfold/PACS', 'source_domain': 'art_painting', 'target_domain': 'photo' },\n",
        "        'batch_size': 128,\n",
        "        'epochs': 30,\n",
        "        'num_workers': 5,\n",
        "        'grad_accum_steps': 1\n",
        "    },\n",
        "    ### 2.1.4 - ASH MODULE AFTER layer1.1.bn2 ###\n",
        "    \"2.1.4.1\" : { # Art Painting -> Cartoon\n",
        "        'seed': 0,\n",
        "        'test_only': False,\n",
        "        'cpu': False,\n",
        "        'experiment': 'random',\n",
        "        'experiment_name': '2.1.4.1',\n",
        "        'experiment_args': {'module_placement': ['layer1.1.bn2'], 'mask_out_ratio': 0.00},\n",
        "        'dataset_args': {'text_root': 'data', 'images_root': 'data/kfold/PACS', 'source_domain': 'art_painting', 'target_domain': 'cartoon' },\n",
        "        'batch_size': 128,\n",
        "        'epochs': 30,\n",
        "        'num_workers': 5,\n",
        "        'grad_accum_steps': 1\n",
        "    },\n",
        "    \"2.1.4.2\" : { # Art Painting -> Sketch\n",
        "        'seed': 0,\n",
        "        'test_only': False,\n",
        "        'cpu': False,\n",
        "        'experiment': 'random',\n",
        "        'experiment_name': '2.1.4.2',\n",
        "        'experiment_args': {'module_placement': ['layer1.1.bn2'], 'mask_out_ratio': 0.00},\n",
        "        'dataset_args': {'text_root': 'data', 'images_root': 'data/kfold/PACS', 'source_domain': 'art_painting', 'target_domain': 'sketch' },\n",
        "        'batch_size': 128,\n",
        "        'epochs': 30,\n",
        "        'num_workers': 5,\n",
        "        'grad_accum_steps': 1\n",
        "    },\n",
        "    \"2.1.4.3\" : { # Art Painting -> Photo\n",
        "        'seed': 0,\n",
        "        'test_only': False,\n",
        "        'cpu': False,\n",
        "        'experiment': 'random',\n",
        "        'experiment_name': '2.1.4.3',\n",
        "        'experiment_args': {'module_placement': ['layer1.1.bn2'], 'mask_out_ratio': 0.00},\n",
        "        'dataset_args': {'text_root': 'data', 'images_root': 'data/kfold/PACS', 'source_domain': 'art_painting', 'target_domain': 'photo' },\n",
        "        'batch_size': 128,\n",
        "        'epochs': 30,\n",
        "        'num_workers': 5,\n",
        "        'grad_accum_steps': 1\n",
        "    },\n",
        "    ### 2.1.5 - ASH MODULE AFTER layer1.1.bn2 AND layer2.1.bn2 ###\n",
        "    \"2.1.5.1\" : { # Art Painting -> Cartoon\n",
        "        'seed': 0,\n",
        "        'test_only': False,\n",
        "        'cpu': False,\n",
        "        'experiment': 'random',\n",
        "        'experiment_name': '2.1.5.1',\n",
        "        'experiment_args': {'module_placement': ['layer1.1.bn2', 'layer2.1.bn2'], 'mask_out_ratio': 0.00},\n",
        "        'dataset_args': {'text_root': 'data', 'images_root': 'data/kfold/PACS', 'source_domain': 'art_painting', 'target_domain': 'cartoon' },\n",
        "        'batch_size': 128,\n",
        "        'epochs': 30,\n",
        "        'num_workers': 5,\n",
        "        'grad_accum_steps': 1\n",
        "    },\n",
        "    \"2.1.5.2\" : { # Art Painting -> Sketch\n",
        "        'seed': 0,\n",
        "        'test_only': False,\n",
        "        'cpu': False,\n",
        "        'experiment': 'random',\n",
        "        'experiment_name': '2.1.5.2',\n",
        "        'experiment_args': {'module_placement': ['layer1.1.bn2', 'layer2.1.bn2'], 'mask_out_ratio': 0.00},\n",
        "        'dataset_args': {'text_root': 'data', 'images_root': 'data/kfold/PACS', 'source_domain': 'art_painting', 'target_domain': 'sketch' },\n",
        "        'batch_size': 128,\n",
        "        'epochs': 30,\n",
        "        'num_workers': 5,\n",
        "        'grad_accum_steps': 1\n",
        "    },\n",
        "    \"2.1.5.3\" : { # Art Painting -> Photo\n",
        "        'seed': 0,\n",
        "        'test_only': False,\n",
        "        'cpu': False,\n",
        "        'experiment': 'random',\n",
        "        'experiment_name': '2.1.5.3',\n",
        "        'experiment_args': {'module_placement': ['layer1.1.bn2', 'layer2.1.bn2'], 'mask_out_ratio': 0.00},\n",
        "        'dataset_args': {'text_root': 'data', 'images_root': 'data/kfold/PACS', 'source_domain': 'art_painting', 'target_domain': 'photo' },\n",
        "        'batch_size': 128,\n",
        "        'epochs': 30,\n",
        "        'num_workers': 5,\n",
        "        'grad_accum_steps': 1\n",
        "    },\n",
        "\n",
        "    #### 2.2 - MASK OUT RATIO = 0.25 ####\n",
        "    ### 2.2.1 - ASH MODULE AFTER layer2.1.conv2 ###\n",
        "    \"2.2.1.1\" : { # Art Painting -> Cartoon\n",
        "        'seed': 0,\n",
        "        'test_only': False,\n",
        "        'cpu': False,\n",
        "        'experiment': 'random',\n",
        "        'experiment_name': '2.2.1.1',\n",
        "        'experiment_args': {'module_placement': ['layer2.1.conv2'], 'mask_out_ratio': 0.25},\n",
        "        'dataset_args': {'text_root': 'data', 'images_root': 'data/kfold/PACS', 'source_domain': 'art_painting', 'target_domain': 'cartoon' },\n",
        "        'batch_size': 128,\n",
        "        'epochs': 30,\n",
        "        'num_workers': 5,\n",
        "        'grad_accum_steps': 1\n",
        "    },\n",
        "    \"2.2.1.2\" : { # Art Painting -> Sketch\n",
        "        'seed': 0,\n",
        "        'test_only': False,\n",
        "        'cpu': False,\n",
        "        'experiment': 'random',\n",
        "        'experiment_name': '2.2.1.2',\n",
        "        'experiment_args': {'module_placement': ['layer2.1.conv2'], 'mask_out_ratio': 0.25},\n",
        "        'dataset_args': {'text_root': 'data', 'images_root': 'data/kfold/PACS', 'source_domain': 'art_painting', 'target_domain': 'sketch' },\n",
        "        'batch_size': 128,\n",
        "        'epochs': 30,\n",
        "        'num_workers': 5,\n",
        "        'grad_accum_steps': 1\n",
        "    },\n",
        "    \"2.2.1.3\" : { # Art Painting -> Photo\n",
        "        'seed': 0,\n",
        "        'test_only': False,\n",
        "        'cpu': False,\n",
        "        'experiment': 'random',\n",
        "        'experiment_name': '2.2.1.3',\n",
        "        'experiment_args': {'module_placement': ['layer2.1.conv2'], 'mask_out_ratio': 0.25},\n",
        "        'dataset_args': {'text_root': 'data', 'images_root': 'data/kfold/PACS', 'source_domain': 'art_painting', 'target_domain': 'photo' },\n",
        "        'batch_size': 128,\n",
        "        'epochs': 30,\n",
        "        'num_workers': 5,\n",
        "        'grad_accum_steps': 1\n",
        "    },\n",
        "    ### 2.2.2 - ASH MODULE AFTER layer1.1.bn1 AND layer2.1.conv2 ###\n",
        "    \"2.2.2.1\" : { # Art Painting -> Cartoon\n",
        "        'seed': 0,\n",
        "        'test_only': False,\n",
        "        'cpu': False,\n",
        "        'experiment': 'random',\n",
        "        'experiment_name': '2.2.2.1',\n",
        "        'experiment_args': {'module_placement': ['layer1.1.bn1', 'layer2.1.conv2'], 'mask_out_ratio': 0.25},\n",
        "        'dataset_args': {'text_root': 'data', 'images_root': 'data/kfold/PACS', 'source_domain': 'art_painting', 'target_domain': 'cartoon' },\n",
        "        'batch_size': 128,\n",
        "        'epochs': 30,\n",
        "        'num_workers': 5,\n",
        "        'grad_accum_steps': 1\n",
        "    },\n",
        "    \"2.2.2.2\" : { # Art Painting -> Sketch\n",
        "        'seed': 0,\n",
        "        'test_only': False,\n",
        "        'cpu': False,\n",
        "        'experiment': 'random',\n",
        "        'experiment_name': '2.2.2.2',\n",
        "        'experiment_args': {'module_placement': ['layer1.1.bn1', 'layer2.1.conv2'], 'mask_out_ratio': 0.25},\n",
        "        'dataset_args': {'text_root': 'data', 'images_root': 'data/kfold/PACS', 'source_domain': 'art_painting', 'target_domain': 'sketch' },\n",
        "        'batch_size': 128,\n",
        "        'epochs': 30,\n",
        "        'num_workers': 5,\n",
        "        'grad_accum_steps': 1\n",
        "    },\n",
        "    \"2.2.2.3\" : { # Art Painting -> Photo\n",
        "        'seed': 0,\n",
        "        'test_only': False,\n",
        "        'cpu': False,\n",
        "        'experiment': 'random',\n",
        "        'experiment_name': '2.2.2.3',\n",
        "        'experiment_args': {'module_placement': ['layer1.1.bn1', 'layer2.1.conv2'], 'mask_out_ratio': 0.25},\n",
        "        'dataset_args': {'text_root': 'data', 'images_root': 'data/kfold/PACS', 'source_domain': 'art_painting', 'target_domain': 'photo' },\n",
        "        'batch_size': 128,\n",
        "        'epochs': 30,\n",
        "        'num_workers': 5,\n",
        "        'grad_accum_steps': 1\n",
        "    },\n",
        "    ### 2.2.3 - ASH MODULE AFTER layer1.1.conv1 ###\n",
        "    \"2.2.3.1\" : { # Art Painting -> Cartoon\n",
        "        'seed': 0,\n",
        "        'test_only': False,\n",
        "        'cpu': False,\n",
        "        'experiment': 'random',\n",
        "        'experiment_name': '2.2.3.1',\n",
        "        'experiment_args': {'module_placement': ['layer1.1.conv1'], 'mask_out_ratio': 0.25},\n",
        "        'dataset_args': {'text_root': 'data', 'images_root': 'data/kfold/PACS', 'source_domain': 'art_painting', 'target_domain': 'cartoon' },\n",
        "        'batch_size': 128,\n",
        "        'epochs': 30,\n",
        "        'num_workers': 5,\n",
        "        'grad_accum_steps': 1\n",
        "    },\n",
        "    \"2.2.3.2\" : { # Art Painting -> Sketch\n",
        "        'seed': 0,\n",
        "        'test_only': False,\n",
        "        'cpu': False,\n",
        "        'experiment': 'random',\n",
        "        'experiment_name': '2.2.3.2',\n",
        "        'experiment_args': {'module_placement': ['layer1.1.conv1'], 'mask_out_ratio': 0.25},\n",
        "        'dataset_args': {'text_root': 'data', 'images_root': 'data/kfold/PACS', 'source_domain': 'art_painting', 'target_domain': 'sketch' },\n",
        "        'batch_size': 128,\n",
        "        'epochs': 30,\n",
        "        'num_workers': 5,\n",
        "        'grad_accum_steps': 1\n",
        "    },\n",
        "    \"2.2.3.3\" : { # Art Painting -> Photo\n",
        "        'seed': 0,\n",
        "        'test_only': False,\n",
        "        'cpu': False,\n",
        "        'experiment': 'random',\n",
        "        'experiment_name': '2.2.3.3',\n",
        "        'experiment_args': {'module_placement': ['layer1.1.conv1'], 'mask_out_ratio': 0.25},\n",
        "        'dataset_args': {'text_root': 'data', 'images_root': 'data/kfold/PACS', 'source_domain': 'art_painting', 'target_domain': 'photo' },\n",
        "        'batch_size': 128,\n",
        "        'epochs': 30,\n",
        "        'num_workers': 5,\n",
        "        'grad_accum_steps': 1\n",
        "    },\n",
        "    ### 2.2.4 - ASH MODULE AFTER layer1.1.bn2 ###\n",
        "    \"2.2.4.1\" : { # Art Painting -> Cartoon\n",
        "        'seed': 0,\n",
        "        'test_only': False,\n",
        "        'cpu': False,\n",
        "        'experiment': 'random',\n",
        "        'experiment_name': '2.1.4.1',\n",
        "        'experiment_args': {'module_placement': ['layer1.1.bn2'], 'mask_out_ratio': 0.25},\n",
        "        'dataset_args': {'text_root': 'data', 'images_root': 'data/kfold/PACS', 'source_domain': 'art_painting', 'target_domain': 'cartoon' },\n",
        "        'batch_size': 128,\n",
        "        'epochs': 30,\n",
        "        'num_workers': 5,\n",
        "        'grad_accum_steps': 1\n",
        "    },\n",
        "    \"2.2.4.2\" : { # Art Painting -> Sketch\n",
        "        'seed': 0,\n",
        "        'test_only': False,\n",
        "        'cpu': False,\n",
        "        'experiment': 'random',\n",
        "        'experiment_name': '2.2.4.2',\n",
        "        'experiment_args': {'module_placement': ['layer1.1.bn2'], 'mask_out_ratio': 0.25},\n",
        "        'dataset_args': {'text_root': 'data', 'images_root': 'data/kfold/PACS', 'source_domain': 'art_painting', 'target_domain': 'sketch' },\n",
        "        'batch_size': 128,\n",
        "        'epochs': 30,\n",
        "        'num_workers': 5,\n",
        "        'grad_accum_steps': 1\n",
        "    },\n",
        "    \"2.2.4.3\" : { # Art Painting -> Photo\n",
        "        'seed': 0,\n",
        "        'test_only': False,\n",
        "        'cpu': False,\n",
        "        'experiment': 'random',\n",
        "        'experiment_name': '2.2.4.3',\n",
        "        'experiment_args': {'module_placement': ['layer1.1.bn2'], 'mask_out_ratio': 0.25},\n",
        "        'dataset_args': {'text_root': 'data', 'images_root': 'data/kfold/PACS', 'source_domain': 'art_painting', 'target_domain': 'photo' },\n",
        "        'batch_size': 128,\n",
        "        'epochs': 30,\n",
        "        'num_workers': 5,\n",
        "        'grad_accum_steps': 1\n",
        "    },\n",
        "    ### 2.2.5 - ASH MODULE AFTER layer1.1.bn2 AND layer2.1.bn2 ###\n",
        "    \"2.2.5.1\" : { # Art Painting -> Cartoon\n",
        "        'seed': 0,\n",
        "        'test_only': False,\n",
        "        'cpu': False,\n",
        "        'experiment': 'random',\n",
        "        'experiment_name': '2.2.5.1',\n",
        "        'experiment_args': {'module_placement': ['layer1.1.bn2', 'layer2.1.bn2'], 'mask_out_ratio': 0.25},\n",
        "        'dataset_args': {'text_root': 'data', 'images_root': 'data/kfold/PACS', 'source_domain': 'art_painting', 'target_domain': 'cartoon' },\n",
        "        'batch_size': 128,\n",
        "        'epochs': 30,\n",
        "        'num_workers': 5,\n",
        "        'grad_accum_steps': 1\n",
        "    },\n",
        "    \"2.2.5.2\" : { # Art Painting -> Sketch\n",
        "        'seed': 0,\n",
        "        'test_only': False,\n",
        "        'cpu': False,\n",
        "        'experiment': 'random',\n",
        "        'experiment_name': '2.2.5.2',\n",
        "        'experiment_args': {'module_placement': ['layer1.1.bn2', 'layer2.1.bn2'], 'mask_out_ratio': 0.25},\n",
        "        'dataset_args': {'text_root': 'data', 'images_root': 'data/kfold/PACS', 'source_domain': 'art_painting', 'target_domain': 'sketch' },\n",
        "        'batch_size': 128,\n",
        "        'epochs': 30,\n",
        "        'num_workers': 5,\n",
        "        'grad_accum_steps': 1\n",
        "    },\n",
        "    \"2.2.5.3\" : { # Art Painting -> Photo\n",
        "        'seed': 0,\n",
        "        'test_only': False,\n",
        "        'cpu': False,\n",
        "        'experiment': 'random',\n",
        "        'experiment_name': '2.2.5.3',\n",
        "        'experiment_args': {'module_placement': ['layer1.1.bn2', 'layer2.1.bn2'], 'mask_out_ratio': 0.25},\n",
        "        'dataset_args': {'text_root': 'data', 'images_root': 'data/kfold/PACS', 'source_domain': 'art_painting', 'target_domain': 'photo' },\n",
        "        'batch_size': 128,\n",
        "        'epochs': 30,\n",
        "        'num_workers': 5,\n",
        "        'grad_accum_steps': 1\n",
        "    },\n",
        "    #### 2.3 - MASK OUT RATIO = 0.50 ####\n",
        "    ### 2.3.1 - ASH MODULE AFTER layer2.1.conv2 ###\n",
        "    \"2.3.1.1\" : { # Art Painting -> Cartoon\n",
        "        'seed': 0,\n",
        "        'test_only': False,\n",
        "        'cpu': False,\n",
        "        'experiment': 'random',\n",
        "        'experiment_name': '2.3.1.1',\n",
        "        'experiment_args': {'module_placement': ['layer2.1.conv2'], 'mask_out_ratio': 0.50},\n",
        "        'dataset_args': {'text_root': 'data', 'images_root': 'data/kfold/PACS', 'source_domain': 'art_painting', 'target_domain': 'cartoon' },\n",
        "        'batch_size': 128,\n",
        "        'epochs': 30,\n",
        "        'num_workers': 5,\n",
        "        'grad_accum_steps': 1\n",
        "    },\n",
        "    \"2.3.1.2\" : { # Art Painting -> Sketch\n",
        "        'seed': 0,\n",
        "        'test_only': False,\n",
        "        'cpu': False,\n",
        "        'experiment': 'random',\n",
        "        'experiment_name': '2.3.1.2',\n",
        "        'experiment_args': {'module_placement': ['layer2.1.conv2'], 'mask_out_ratio': 0.50},\n",
        "        'dataset_args': {'text_root': 'data', 'images_root': 'data/kfold/PACS', 'source_domain': 'art_painting', 'target_domain': 'sketch' },\n",
        "        'batch_size': 128,\n",
        "        'epochs': 30,\n",
        "        'num_workers': 5,\n",
        "        'grad_accum_steps': 1\n",
        "    },\n",
        "    \"2.3.1.3\" : { # Art Painting -> Photo\n",
        "        'seed': 0,\n",
        "        'test_only': False,\n",
        "        'cpu': False,\n",
        "        'experiment': 'random',\n",
        "        'experiment_name': '2.3.1.3',\n",
        "        'experiment_args': {'module_placement': ['layer2.1.conv2'], 'mask_out_ratio': 0.50},\n",
        "        'dataset_args': {'text_root': 'data', 'images_root': 'data/kfold/PACS', 'source_domain': 'art_painting', 'target_domain': 'photo' },\n",
        "        'batch_size': 128,\n",
        "        'epochs': 30,\n",
        "        'num_workers': 5,\n",
        "        'grad_accum_steps': 1\n",
        "    },\n",
        "    ### 2.3.2 - ASH MODULE AFTER layer1.1.bn1 AND layer2.1.conv2 ###\n",
        "    \"2.3.2.1\" : { # Art Painting -> Cartoon\n",
        "        'seed': 0,\n",
        "        'test_only': False,\n",
        "        'cpu': False,\n",
        "        'experiment': 'random',\n",
        "        'experiment_name': '2.3.2.1',\n",
        "        'experiment_args': {'module_placement': ['layer1.1.bn1', 'layer2.1.conv2'], 'mask_out_ratio': 0.50},\n",
        "        'dataset_args': {'text_root': 'data', 'images_root': 'data/kfold/PACS', 'source_domain': 'art_painting', 'target_domain': 'cartoon' },\n",
        "        'batch_size': 128,\n",
        "        'epochs': 30,\n",
        "        'num_workers': 5,\n",
        "        'grad_accum_steps': 1\n",
        "    },\n",
        "    \"2.3.2.2\" : { # Art Painting -> Sketch\n",
        "        'seed': 0,\n",
        "        'test_only': False,\n",
        "        'cpu': False,\n",
        "        'experiment': 'random',\n",
        "        'experiment_name': '2.3.2.2',\n",
        "        'experiment_args': {'module_placement': ['layer1.1.bn1', 'layer2.1.conv2'], 'mask_out_ratio': 0.50},\n",
        "        'dataset_args': {'text_root': 'data', 'images_root': 'data/kfold/PACS', 'source_domain': 'art_painting', 'target_domain': 'sketch' },\n",
        "        'batch_size': 128,\n",
        "        'epochs': 30,\n",
        "        'num_workers': 5,\n",
        "        'grad_accum_steps': 1\n",
        "    },\n",
        "    \"2.3.2.3\" : { # Art Painting -> Photo\n",
        "        'seed': 0,\n",
        "        'test_only': False,\n",
        "        'cpu': False,\n",
        "        'experiment': 'random',\n",
        "        'experiment_name': '2.3.2.3',\n",
        "        'experiment_args': {'module_placement': ['layer1.1.bn1', 'layer2.1.conv2'], 'mask_out_ratio': 0.50},\n",
        "        'dataset_args': {'text_root': 'data', 'images_root': 'data/kfold/PACS', 'source_domain': 'art_painting', 'target_domain': 'photo' },\n",
        "        'batch_size': 128,\n",
        "        'epochs': 30,\n",
        "        'num_workers': 5,\n",
        "        'grad_accum_steps': 1\n",
        "    },\n",
        "    ### 2.3.3 - ASH MODULE AFTER layer1.1.conv1 ###\n",
        "    \"2.3.3.1\" : { # Art Painting -> Cartoon\n",
        "        'seed': 0,\n",
        "        'test_only': False,\n",
        "        'cpu': False,\n",
        "        'experiment': 'random',\n",
        "        'experiment_name': '2.3.3.1',\n",
        "        'experiment_args': {'module_placement': ['layer1.1.conv1'], 'mask_out_ratio': 0.50},\n",
        "        'dataset_args': {'text_root': 'data', 'images_root': 'data/kfold/PACS', 'source_domain': 'art_painting', 'target_domain': 'cartoon' },\n",
        "        'batch_size': 128,\n",
        "        'epochs': 30,\n",
        "        'num_workers': 5,\n",
        "        'grad_accum_steps': 1\n",
        "    },\n",
        "    \"2.3.3.2\" : { # Art Painting -> Sketch\n",
        "        'seed': 0,\n",
        "        'test_only': False,\n",
        "        'cpu': False,\n",
        "        'experiment': 'random',\n",
        "        'experiment_name': '2.3.3.2',\n",
        "        'experiment_args': {'module_placement': ['layer1.1.conv1'], 'mask_out_ratio': 0.50},\n",
        "        'dataset_args': {'text_root': 'data', 'images_root': 'data/kfold/PACS', 'source_domain': 'art_painting', 'target_domain': 'sketch' },\n",
        "        'batch_size': 128,\n",
        "        'epochs': 30,\n",
        "        'num_workers': 5,\n",
        "        'grad_accum_steps': 1\n",
        "    },\n",
        "    \"2.3.3.3\" : { # Art Painting -> Photo\n",
        "        'seed': 0,\n",
        "        'test_only': False,\n",
        "        'cpu': False,\n",
        "        'experiment': 'random',\n",
        "        'experiment_name': '2.3.3.3',\n",
        "        'experiment_args': {'module_placement': ['layer1.1.conv1'], 'mask_out_ratio': 0.50},\n",
        "        'dataset_args': {'text_root': 'data', 'images_root': 'data/kfold/PACS', 'source_domain': 'art_painting', 'target_domain': 'photo' },\n",
        "        'batch_size': 128,\n",
        "        'epochs': 30,\n",
        "        'num_workers': 5,\n",
        "        'grad_accum_steps': 1\n",
        "    },\n",
        "    ### 2.3.4 - ASH MODULE AFTER layer1.1.bn2 ###\n",
        "    \"2.3.4.1\" : { # Art Painting -> Cartoon\n",
        "        'seed': 0,\n",
        "        'test_only': False,\n",
        "        'cpu': False,\n",
        "        'experiment': 'random',\n",
        "        'experiment_name': '2.3.4.1',\n",
        "        'experiment_args': {'module_placement': ['layer1.1.bn2'], 'mask_out_ratio': 0.50},\n",
        "        'dataset_args': {'text_root': 'data', 'images_root': 'data/kfold/PACS', 'source_domain': 'art_painting', 'target_domain': 'cartoon' },\n",
        "        'batch_size': 128,\n",
        "        'epochs': 30,\n",
        "        'num_workers': 5,\n",
        "        'grad_accum_steps': 1\n",
        "    },\n",
        "    \"2.3.4.2\" : { # Art Painting -> Sketch\n",
        "        'seed': 0,\n",
        "        'test_only': False,\n",
        "        'cpu': False,\n",
        "        'experiment': 'random',\n",
        "        'experiment_name': '2.3.4.2',\n",
        "        'experiment_args': {'module_placement': ['layer1.1.bn2'], 'mask_out_ratio': 0.50},\n",
        "        'dataset_args': {'text_root': 'data', 'images_root': 'data/kfold/PACS', 'source_domain': 'art_painting', 'target_domain': 'sketch' },\n",
        "        'batch_size': 128,\n",
        "        'epochs': 30,\n",
        "        'num_workers': 5,\n",
        "        'grad_accum_steps': 1\n",
        "    },\n",
        "    \"2.3.4.3\" : { # Art Painting -> Photo\n",
        "        'seed': 0,\n",
        "        'test_only': False,\n",
        "        'cpu': False,\n",
        "        'experiment': 'random',\n",
        "        'experiment_name': '2.3.4.3',\n",
        "        'experiment_args': {'module_placement': ['layer1.1.bn2'], 'mask_out_ratio': 0.50},\n",
        "        'dataset_args': {'text_root': 'data', 'images_root': 'data/kfold/PACS', 'source_domain': 'art_painting', 'target_domain': 'photo' },\n",
        "        'batch_size': 128,\n",
        "        'epochs': 30,\n",
        "        'num_workers': 5,\n",
        "        'grad_accum_steps': 1\n",
        "    },\n",
        "    ### 2.3.5 - ASH MODULE AFTER layer1.1.bn2 AND layer2.1.bn2 ###\n",
        "    \"2.3.5.1\" : { # Art Painting -> Cartoon\n",
        "        'seed': 0,\n",
        "        'test_only': False,\n",
        "        'cpu': False,\n",
        "        'experiment': 'random',\n",
        "        'experiment_name': '2.3.5.1',\n",
        "        'experiment_args': {'module_placement': ['layer1.1.bn2', 'layer2.1.bn2'], 'mask_out_ratio': 0.50},\n",
        "        'dataset_args': {'text_root': 'data', 'images_root': 'data/kfold/PACS', 'source_domain': 'art_painting', 'target_domain': 'cartoon' },\n",
        "        'batch_size': 128,\n",
        "        'epochs': 30,\n",
        "        'num_workers': 5,\n",
        "        'grad_accum_steps': 1\n",
        "    },\n",
        "    \"2.3.5.2\" : { # Art Painting -> Sketch\n",
        "        'seed': 0,\n",
        "        'test_only': False,\n",
        "        'cpu': False,\n",
        "        'experiment': 'random',\n",
        "        'experiment_name': '2.3.5.2',\n",
        "        'experiment_args': {'module_placement': ['layer1.1.bn2', 'layer2.1.bn2'], 'mask_out_ratio': 0.50},\n",
        "        'dataset_args': {'text_root': 'data', 'images_root': 'data/kfold/PACS', 'source_domain': 'art_painting', 'target_domain': 'sketch' },\n",
        "        'batch_size': 128,\n",
        "        'epochs': 30,\n",
        "        'num_workers': 5,\n",
        "        'grad_accum_steps': 1\n",
        "    },\n",
        "    \"2.3.5.3\" : { # Art Painting -> Photo\n",
        "        'seed': 0,\n",
        "        'test_only': False,\n",
        "        'cpu': False,\n",
        "        'experiment': 'random',\n",
        "        'experiment_name': '2.3.5.3',\n",
        "        'experiment_args': {'module_placement': ['layer1.1.bn2', 'layer2.1.bn2'], 'mask_out_ratio': 0.50},\n",
        "        'dataset_args': {'text_root': 'data', 'images_root': 'data/kfold/PACS', 'source_domain': 'art_painting', 'target_domain': 'photo' },\n",
        "        'batch_size': 128,\n",
        "        'epochs': 30,\n",
        "        'num_workers': 5,\n",
        "        'grad_accum_steps': 1\n",
        "    },\n",
        "    #### 2.4 - MASK OUT RATIO = 0.75 ####\n",
        "    ### 2.4.1 - ASH MODULE AFTER layer2.1.conv2 ###\n",
        "    \"2.4.1.1\" : { # Art Painting -> Cartoon\n",
        "        'seed': 0,\n",
        "        'test_only': False,\n",
        "        'cpu': False,\n",
        "        'experiment': 'random',\n",
        "        'experiment_name': '2.4.1.1',\n",
        "        'experiment_args': {'module_placement': ['layer2.1.conv2'], 'mask_out_ratio': 0.75},\n",
        "        'dataset_args': {'text_root': 'data', 'images_root': 'data/kfold/PACS', 'source_domain': 'art_painting', 'target_domain': 'cartoon' },\n",
        "        'batch_size': 128,\n",
        "        'epochs': 30,\n",
        "        'num_workers': 5,\n",
        "        'grad_accum_steps': 1\n",
        "    },\n",
        "    \"2.4.1.2\" : { # Art Painting -> Sketch\n",
        "        'seed': 0,\n",
        "        'test_only': False,\n",
        "        'cpu': False,\n",
        "        'experiment': 'random',\n",
        "        'experiment_name': '2.4.1.2',\n",
        "        'experiment_args': {'module_placement': ['layer2.1.conv2'], 'mask_out_ratio': 0.75},\n",
        "        'dataset_args': {'text_root': 'data', 'images_root': 'data/kfold/PACS', 'source_domain': 'art_painting', 'target_domain': 'sketch' },\n",
        "        'batch_size': 128,\n",
        "        'epochs': 30,\n",
        "        'num_workers': 5,\n",
        "        'grad_accum_steps': 1\n",
        "    },\n",
        "    \"2.4.1.3\" : { # Art Painting -> Photo\n",
        "        'seed': 0,\n",
        "        'test_only': False,\n",
        "        'cpu': False,\n",
        "        'experiment': 'random',\n",
        "        'experiment_name': '2.4.1.3',\n",
        "        'experiment_args': {'module_placement': ['layer2.1.conv2'], 'mask_out_ratio': 0.75},\n",
        "        'dataset_args': {'text_root': 'data', 'images_root': 'data/kfold/PACS', 'source_domain': 'art_painting', 'target_domain': 'photo' },\n",
        "        'batch_size': 128,\n",
        "        'epochs': 30,\n",
        "        'num_workers': 5,\n",
        "        'grad_accum_steps': 1\n",
        "    },\n",
        "    ### 2.4.2 - ASH MODULE AFTER layer1.1.bn1 AND layer2.1.conv2 ###\n",
        "    \"2.4.2.1\" : { # Art Painting -> Cartoon\n",
        "        'seed': 0,\n",
        "        'test_only': False,\n",
        "        'cpu': False,\n",
        "        'experiment': 'random',\n",
        "        'experiment_name': '2.4.2.1',\n",
        "        'experiment_args': {'module_placement': ['layer1.1.bn1', 'layer2.1.conv2'], 'mask_out_ratio': 0.75},\n",
        "        'dataset_args': {'text_root': 'data', 'images_root': 'data/kfold/PACS', 'source_domain': 'art_painting', 'target_domain': 'cartoon' },\n",
        "        'batch_size': 128,\n",
        "        'epochs': 30,\n",
        "        'num_workers': 5,\n",
        "        'grad_accum_steps': 1\n",
        "    },\n",
        "    \"2.4.2.2\" : { # Art Painting -> Sketch\n",
        "        'seed': 0,\n",
        "        'test_only': False,\n",
        "        'cpu': False,\n",
        "        'experiment': 'random',\n",
        "        'experiment_name': '2.4.2.2',\n",
        "        'experiment_args': {'module_placement': ['layer1.1.bn1', 'layer2.1.conv2'], 'mask_out_ratio': 0.75},\n",
        "        'dataset_args': {'text_root': 'data', 'images_root': 'data/kfold/PACS', 'source_domain': 'art_painting', 'target_domain': 'sketch' },\n",
        "        'batch_size': 128,\n",
        "        'epochs': 30,\n",
        "        'num_workers': 5,\n",
        "        'grad_accum_steps': 1\n",
        "    },\n",
        "    \"2.4.2.3\" : { # Art Painting -> Photo\n",
        "        'seed': 0,\n",
        "        'test_only': False,\n",
        "        'cpu': False,\n",
        "        'experiment': 'random',\n",
        "        'experiment_name': '2.4.2.3',\n",
        "        'experiment_args': {'module_placement': ['layer1.1.bn1', 'layer2.1.conv2'], 'mask_out_ratio': 0.75},\n",
        "        'dataset_args': {'text_root': 'data', 'images_root': 'data/kfold/PACS', 'source_domain': 'art_painting', 'target_domain': 'photo' },\n",
        "        'batch_size': 128,\n",
        "        'epochs': 30,\n",
        "        'num_workers': 5,\n",
        "        'grad_accum_steps': 1\n",
        "    },\n",
        "    ### 2.4.3 - ASH MODULE AFTER layer1.1.conv1 ###\n",
        "    \"2.4.3.1\" : { # Art Painting -> Cartoon\n",
        "        'seed': 0,\n",
        "        'test_only': False,\n",
        "        'cpu': False,\n",
        "        'experiment': 'random',\n",
        "        'experiment_name': '2.4.3.1',\n",
        "        'experiment_args': {'module_placement': ['layer1.1.conv1'], 'mask_out_ratio': 0.75},\n",
        "        'dataset_args': {'text_root': 'data', 'images_root': 'data/kfold/PACS', 'source_domain': 'art_painting', 'target_domain': 'cartoon' },\n",
        "        'batch_size': 128,\n",
        "        'epochs': 30,\n",
        "        'num_workers': 5,\n",
        "        'grad_accum_steps': 1\n",
        "    },\n",
        "    \"2.4.3.2\" : { # Art Painting -> Sketch\n",
        "        'seed': 0,\n",
        "        'test_only': False,\n",
        "        'cpu': False,\n",
        "        'experiment': 'random',\n",
        "        'experiment_name': '2.4.3.2',\n",
        "        'experiment_args': {'module_placement': ['layer1.1.conv1'], 'mask_out_ratio': 0.75},\n",
        "        'dataset_args': {'text_root': 'data', 'images_root': 'data/kfold/PACS', 'source_domain': 'art_painting', 'target_domain': 'sketch' },\n",
        "        'batch_size': 128,\n",
        "        'epochs': 30,\n",
        "        'num_workers': 5,\n",
        "        'grad_accum_steps': 1\n",
        "    },\n",
        "    \"2.4.3.3\" : { # Art Painting -> Photo\n",
        "        'seed': 0,\n",
        "        'test_only': False,\n",
        "        'cpu': False,\n",
        "        'experiment': 'random',\n",
        "        'experiment_name': '2.4.3.3',\n",
        "        'experiment_args': {'module_placement': ['layer1.1.conv1'], 'mask_out_ratio': 0.75},\n",
        "        'dataset_args': {'text_root': 'data', 'images_root': 'data/kfold/PACS', 'source_domain': 'art_painting', 'target_domain': 'photo' },\n",
        "        'batch_size': 128,\n",
        "        'epochs': 30,\n",
        "        'num_workers': 5,\n",
        "        'grad_accum_steps': 1\n",
        "    },\n",
        "    ### 2.4.4 - ASH MODULE AFTER layer1.1.bn2 ###\n",
        "    \"2.4.4.1\" : { # Art Painting -> Cartoon\n",
        "        'seed': 0,\n",
        "        'test_only': False,\n",
        "        'cpu': False,\n",
        "        'experiment': 'random',\n",
        "        'experiment_name': '2.4.4.1',\n",
        "        'experiment_args': {'module_placement': ['layer1.1.bn2'], 'mask_out_ratio': 0.75},\n",
        "        'dataset_args': {'text_root': 'data', 'images_root': 'data/kfold/PACS', 'source_domain': 'art_painting', 'target_domain': 'cartoon' },\n",
        "        'batch_size': 128,\n",
        "        'epochs': 30,\n",
        "        'num_workers': 5,\n",
        "        'grad_accum_steps': 1\n",
        "    },\n",
        "    \"2.4.4.2\" : { # Art Painting -> Sketch\n",
        "        'seed': 0,\n",
        "        'test_only': False,\n",
        "        'cpu': False,\n",
        "        'experiment': 'random',\n",
        "        'experiment_name': '2.4.4.2',\n",
        "        'experiment_args': {'module_placement': ['layer1.1.bn2'], 'mask_out_ratio': 0.75},\n",
        "        'dataset_args': {'text_root': 'data', 'images_root': 'data/kfold/PACS', 'source_domain': 'art_painting', 'target_domain': 'sketch' },\n",
        "        'batch_size': 128,\n",
        "        'epochs': 30,\n",
        "        'num_workers': 5,\n",
        "        'grad_accum_steps': 1\n",
        "    },\n",
        "    \"2.4.4.3\" : { # Art Painting -> Photo\n",
        "        'seed': 0,\n",
        "        'test_only': False,\n",
        "        'cpu': False,\n",
        "        'experiment': 'random',\n",
        "        'experiment_name': '2.1.4.3',\n",
        "        'experiment_args': {'module_placement': ['layer1.1.bn2'], 'mask_out_ratio': 0.75},\n",
        "        'dataset_args': {'text_root': 'data', 'images_root': 'data/kfold/PACS', 'source_domain': 'art_painting', 'target_domain': 'photo' },\n",
        "        'batch_size': 128,\n",
        "        'epochs': 30,\n",
        "        'num_workers': 5,\n",
        "        'grad_accum_steps': 1\n",
        "    },\n",
        "    ### 2.4.5 - ASH MODULE AFTER layer1.1.bn2 AND layer2.1.bn2 ###\n",
        "    \"2.4.5.1\" : { # Art Painting -> Cartoon\n",
        "        'seed': 0,\n",
        "        'test_only': False,\n",
        "        'cpu': False,\n",
        "        'experiment': 'random',\n",
        "        'experiment_name': '2.4.5.1',\n",
        "        'experiment_args': {'module_placement': ['layer1.1.bn2', 'layer2.1.bn2'], 'mask_out_ratio': 0.75},\n",
        "        'dataset_args': {'text_root': 'data', 'images_root': 'data/kfold/PACS', 'source_domain': 'art_painting', 'target_domain': 'cartoon' },\n",
        "        'batch_size': 128,\n",
        "        'epochs': 30,\n",
        "        'num_workers': 5,\n",
        "        'grad_accum_steps': 1\n",
        "    },\n",
        "    \"2.4.5.2\" : { # Art Painting -> Sketch\n",
        "        'seed': 0,\n",
        "        'test_only': False,\n",
        "        'cpu': False,\n",
        "        'experiment': 'random',\n",
        "        'experiment_name': '2.4.5.2',\n",
        "        'experiment_args': {'module_placement': ['layer1.1.bn2', 'layer2.1.bn2'], 'mask_out_ratio': 0.75},\n",
        "        'dataset_args': {'text_root': 'data', 'images_root': 'data/kfold/PACS', 'source_domain': 'art_painting', 'target_domain': 'sketch' },\n",
        "        'batch_size': 128,\n",
        "        'epochs': 30,\n",
        "        'num_workers': 5,\n",
        "        'grad_accum_steps': 1\n",
        "    },\n",
        "    \"2.4.5.3\" : { # Art Painting -> Photo\n",
        "        'seed': 0,\n",
        "        'test_only': False,\n",
        "        'cpu': False,\n",
        "        'experiment': 'random',\n",
        "        'experiment_name': '2.4.5.3',\n",
        "        'experiment_args': {'module_placement': ['layer1.1.bn2', 'layer2.1.bn2'], 'mask_out_ratio': 0.75},\n",
        "        'dataset_args': {'text_root': 'data', 'images_root': 'data/kfold/PACS', 'source_domain': 'art_painting', 'target_domain': 'photo' },\n",
        "        'batch_size': 128,\n",
        "        'epochs': 30,\n",
        "        'num_workers': 5,\n",
        "        'grad_accum_steps': 1\n",
        "    },\n",
        "    #### 2.5 - MASK OUT RATIO = 1.00 ####\n",
        "    ### 2.5.1 - ASH MODULE AFTER layer2.1.conv2 ###\n",
        "    \"2.5.1.1\" : { # Art Painting -> Cartoon\n",
        "        'seed': 0,\n",
        "        'test_only': False,\n",
        "        'cpu': False,\n",
        "        'experiment': 'random',\n",
        "        'experiment_name': '2.5.1.1',\n",
        "        'experiment_args': {'module_placement': ['layer2.1.conv2'], 'mask_out_ratio': 1.00},\n",
        "        'dataset_args': {'text_root': 'data', 'images_root': 'data/kfold/PACS', 'source_domain': 'art_painting', 'target_domain': 'cartoon' },\n",
        "        'batch_size': 128,\n",
        "        'epochs': 30,\n",
        "        'num_workers': 5,\n",
        "        'grad_accum_steps': 1\n",
        "    },\n",
        "    \"2.5.1.2\" : { # Art Painting -> Sketch\n",
        "        'seed': 0,\n",
        "        'test_only': False,\n",
        "        'cpu': False,\n",
        "        'experiment': 'random',\n",
        "        'experiment_name': '2.5.1.2',\n",
        "        'experiment_args': {'module_placement': ['layer2.1.conv2'], 'mask_out_ratio': 1.00},\n",
        "        'dataset_args': {'text_root': 'data', 'images_root': 'data/kfold/PACS', 'source_domain': 'art_painting', 'target_domain': 'sketch' },\n",
        "        'batch_size': 128,\n",
        "        'epochs': 30,\n",
        "        'num_workers': 5,\n",
        "        'grad_accum_steps': 1\n",
        "    },\n",
        "    \"2.5.1.3\" : { # Art Painting -> Photo\n",
        "        'seed': 0,\n",
        "        'test_only': False,\n",
        "        'cpu': False,\n",
        "        'experiment': 'random',\n",
        "        'experiment_name': '2.5.1.3',\n",
        "        'experiment_args': {'module_placement': ['layer2.1.conv2'], 'mask_out_ratio': 1.00},\n",
        "        'dataset_args': {'text_root': 'data', 'images_root': 'data/kfold/PACS', 'source_domain': 'art_painting', 'target_domain': 'photo' },\n",
        "        'batch_size': 128,\n",
        "        'epochs': 30,\n",
        "        'num_workers': 5,\n",
        "        'grad_accum_steps': 1\n",
        "    },\n",
        "    ### 2.5.2 - ASH MODULE AFTER layer1.1.bn1 AND layer2.1.conv2 ###\n",
        "    \"2.5.2.1\" : { # Art Painting -> Cartoon\n",
        "        'seed': 0,\n",
        "        'test_only': False,\n",
        "        'cpu': False,\n",
        "        'experiment': 'random',\n",
        "        'experiment_name': '2.5.2.1',\n",
        "        'experiment_args': {'module_placement': ['layer1.1.bn1', 'layer2.1.conv2'], 'mask_out_ratio': 1.00},\n",
        "        'dataset_args': {'text_root': 'data', 'images_root': 'data/kfold/PACS', 'source_domain': 'art_painting', 'target_domain': 'cartoon' },\n",
        "        'batch_size': 128,\n",
        "        'epochs': 30,\n",
        "        'num_workers': 5,\n",
        "        'grad_accum_steps': 1\n",
        "    },\n",
        "    \"2.5.2.2\" : { # Art Painting -> Sketch\n",
        "        'seed': 0,\n",
        "        'test_only': False,\n",
        "        'cpu': False,\n",
        "        'experiment': 'random',\n",
        "        'experiment_name': '2.5.2.2',\n",
        "        'experiment_args': {'module_placement': ['layer1.1.bn1', 'layer2.1.conv2'], 'mask_out_ratio': 1.00},\n",
        "        'dataset_args': {'text_root': 'data', 'images_root': 'data/kfold/PACS', 'source_domain': 'art_painting', 'target_domain': 'sketch' },\n",
        "        'batch_size': 128,\n",
        "        'epochs': 30,\n",
        "        'num_workers': 5,\n",
        "        'grad_accum_steps': 1\n",
        "    },\n",
        "    \"2.5.2.3\" : { # Art Painting -> Photo\n",
        "        'seed': 0,\n",
        "        'test_only': False,\n",
        "        'cpu': False,\n",
        "        'experiment': 'random',\n",
        "        'experiment_name': '2.5.2.3',\n",
        "        'experiment_args': {'module_placement': ['layer1.1.bn1', 'layer2.1.conv2'], 'mask_out_ratio': 1.00},\n",
        "        'dataset_args': {'text_root': 'data', 'images_root': 'data/kfold/PACS', 'source_domain': 'art_painting', 'target_domain': 'photo' },\n",
        "        'batch_size': 128,\n",
        "        'epochs': 30,\n",
        "        'num_workers': 5,\n",
        "        'grad_accum_steps': 1\n",
        "    },\n",
        "    ### 2.5.3 - ASH MODULE AFTER layer1.1.conv1 ###\n",
        "    \"2.5.3.1\" : { # Art Painting -> Cartoon\n",
        "        'seed': 0,\n",
        "        'test_only': False,\n",
        "        'cpu': False,\n",
        "        'experiment': 'random',\n",
        "        'experiment_name': '2.5.3.1',\n",
        "        'experiment_args': {'module_placement': ['layer1.1.conv1'], 'mask_out_ratio': 1.00},\n",
        "        'dataset_args': {'text_root': 'data', 'images_root': 'data/kfold/PACS', 'source_domain': 'art_painting', 'target_domain': 'cartoon' },\n",
        "        'batch_size': 128,\n",
        "        'epochs': 30,\n",
        "        'num_workers': 5,\n",
        "        'grad_accum_steps': 1\n",
        "    },\n",
        "    \"2.5.3.2\" : { # Art Painting -> Sketch\n",
        "        'seed': 0,\n",
        "        'test_only': False,\n",
        "        'cpu': False,\n",
        "        'experiment': 'random',\n",
        "        'experiment_name': '2.5.3.2',\n",
        "        'experiment_args': {'module_placement': ['layer1.1.conv1'], 'mask_out_ratio': 1.00},\n",
        "        'dataset_args': {'text_root': 'data', 'images_root': 'data/kfold/PACS', 'source_domain': 'art_painting', 'target_domain': 'sketch' },\n",
        "        'batch_size': 128,\n",
        "        'epochs': 30,\n",
        "        'num_workers': 5,\n",
        "        'grad_accum_steps': 1\n",
        "    },\n",
        "    \"2.5.3.3\" : { # Art Painting -> Photo\n",
        "        'seed': 0,\n",
        "        'test_only': False,\n",
        "        'cpu': False,\n",
        "        'experiment': 'random',\n",
        "        'experiment_name': '2.5.3.3',\n",
        "        'experiment_args': {'module_placement': ['layer1.1.conv1'], 'mask_out_ratio': 1.00},\n",
        "        'dataset_args': {'text_root': 'data', 'images_root': 'data/kfold/PACS', 'source_domain': 'art_painting', 'target_domain': 'photo' },\n",
        "        'batch_size': 128,\n",
        "        'epochs': 30,\n",
        "        'num_workers': 5,\n",
        "        'grad_accum_steps': 1\n",
        "    },\n",
        "    ### 2.5.4 - ASH MODULE AFTER layer1.1.bn2 ###\n",
        "    \"2.5.4.1\" : { # Art Painting -> Cartoon\n",
        "        'seed': 0,\n",
        "        'test_only': False,\n",
        "        'cpu': False,\n",
        "        'experiment': 'random',\n",
        "        'experiment_name': '2.5.4.1',\n",
        "        'experiment_args': {'module_placement': ['layer1.1.bn2'], 'mask_out_ratio': 1.00},\n",
        "        'dataset_args': {'text_root': 'data', 'images_root': 'data/kfold/PACS', 'source_domain': 'art_painting', 'target_domain': 'cartoon' },\n",
        "        'batch_size': 128,\n",
        "        'epochs': 30,\n",
        "        'num_workers': 5,\n",
        "        'grad_accum_steps': 1\n",
        "    },\n",
        "    \"2.5.4.2\" : { # Art Painting -> Sketch\n",
        "        'seed': 0,\n",
        "        'test_only': False,\n",
        "        'cpu': False,\n",
        "        'experiment': 'random',\n",
        "        'experiment_name': '2.5.4.2',\n",
        "        'experiment_args': {'module_placement': ['layer1.1.bn2'], 'mask_out_ratio': 1.00},\n",
        "        'dataset_args': {'text_root': 'data', 'images_root': 'data/kfold/PACS', 'source_domain': 'art_painting', 'target_domain': 'sketch' },\n",
        "        'batch_size': 128,\n",
        "        'epochs': 30,\n",
        "        'num_workers': 5,\n",
        "        'grad_accum_steps': 1\n",
        "    },\n",
        "    \"2.5.4.3\" : { # Art Painting -> Photo\n",
        "        'seed': 0,\n",
        "        'test_only': False,\n",
        "        'cpu': False,\n",
        "        'experiment': 'random',\n",
        "        'experiment_name': '2.5.4.3',\n",
        "        'experiment_args': {'module_placement': ['layer1.1.bn2'], 'mask_out_ratio': 1.00},\n",
        "        'dataset_args': {'text_root': 'data', 'images_root': 'data/kfold/PACS', 'source_domain': 'art_painting', 'target_domain': 'photo' },\n",
        "        'batch_size': 128,\n",
        "        'epochs': 30,\n",
        "        'num_workers': 5,\n",
        "        'grad_accum_steps': 1\n",
        "    },\n",
        "    ### 2.5.5 - ASH MODULE AFTER layer1.1.bn2 AND layer2.1.bn2 ###\n",
        "    \"2.5.5.1\" : { # Art Painting -> Cartoon\n",
        "        'seed': 0,\n",
        "        'test_only': False,\n",
        "        'cpu': False,\n",
        "        'experiment': 'random',\n",
        "        'experiment_name': '2.5.5.1',\n",
        "        'experiment_args': {'module_placement': ['layer1.1.bn2', 'layer2.1.bn2'], 'mask_out_ratio': 1.00},\n",
        "        'dataset_args': {'text_root': 'data', 'images_root': 'data/kfold/PACS', 'source_domain': 'art_painting', 'target_domain': 'cartoon' },\n",
        "        'batch_size': 128,\n",
        "        'epochs': 30,\n",
        "        'num_workers': 5,\n",
        "        'grad_accum_steps': 1\n",
        "    },\n",
        "    \"2.5.5.2\" : { # Art Painting -> Sketch\n",
        "        'seed': 0,\n",
        "        'test_only': False,\n",
        "        'cpu': False,\n",
        "        'experiment': 'random',\n",
        "        'experiment_name': '2.5.5.2',\n",
        "        'experiment_args': {'module_placement': ['layer1.1.bn2', 'layer2.1.bn2'], 'mask_out_ratio': 1.00},\n",
        "        'dataset_args': {'text_root': 'data', 'images_root': 'data/kfold/PACS', 'source_domain': 'art_painting', 'target_domain': 'sketch' },\n",
        "        'batch_size': 128,\n",
        "        'epochs': 30,\n",
        "        'num_workers': 5,\n",
        "        'grad_accum_steps': 1\n",
        "    },\n",
        "    \"2.5.5.3\" : { # Art Painting -> Photo\n",
        "        'seed': 0,\n",
        "        'test_only': False,\n",
        "        'cpu': False,\n",
        "        'experiment': 'random',\n",
        "        'experiment_name': '2.5.5.3',\n",
        "        'experiment_args': {'module_placement': ['layer1.1.bn2', 'layer2.1.bn2'], 'mask_out_ratio': 1.00},\n",
        "        'dataset_args': {'text_root': 'data', 'images_root': 'data/kfold/PACS', 'source_domain': 'art_painting', 'target_domain': 'photo' },\n",
        "        'batch_size': 128,\n",
        "        'epochs': 30,\n",
        "        'num_workers': 5,\n",
        "        'grad_accum_steps': 1\n",
        "    }\n",
        "}\n"
      ]
    },
    {
      "cell_type": "markdown",
      "metadata": {
        "id": "S7mLTDV2Xxxi"
      },
      "source": [
        "#### Experiment"
      ]
    },
    {
      "cell_type": "code",
      "execution_count": null,
      "metadata": {
        "id": "oBK7__AIXxxi",
        "vscode": {
          "languageId": "python"
        }
      },
      "outputs": [],
      "source": [
        "'''\n",
        "warnings.filterwarnings('ignore', category=UserWarning)\n",
        "\n",
        "# Parse arguments\n",
        "# conf = configurations['0.1']\n",
        "conf = configurations['1.2.1.2']\n",
        "\n",
        "#args = parse_arguments()\n",
        "args = argparse.Namespace(**conf)\n",
        "print(args)\n",
        "CONFIG.update(vars(args))\n",
        "\n",
        "# Setup output directory\n",
        "CONFIG.save_dir = os.path.join('record', CONFIG.experiment_name)\n",
        "os.makedirs(CONFIG.save_dir, exist_ok=True)\n",
        "\n",
        "# Setup logging\n",
        "logging.basicConfig(\n",
        "    filename=os.path.join(CONFIG.save_dir, 'log.txt'),\n",
        "    format='%(message)s',\n",
        "    level=logging.INFO,\n",
        "    filemode='a'\n",
        ")\n",
        "\n",
        "# Set experiment's device & deterministic behavior\n",
        "if CONFIG.cpu:\n",
        "    CONFIG.device = 'cpu'\n",
        "else:\n",
        "    CONFIG.device = 'cuda' if torch.cuda.is_available() else 'cpu'\n",
        "\n",
        "torch.manual_seed(CONFIG.seed)\n",
        "random.seed(CONFIG.seed)\n",
        "np.random.seed(CONFIG.seed)\n",
        "torch.backends.cudnn.benchmark = True\n",
        "torch.use_deterministic_algorithms(mode=True, warn_only=True)\n",
        "\n",
        "main()\n",
        "'''"
      ]
    },
    {
      "cell_type": "markdown",
      "metadata": {
        "id": "jLzHm67AXxxj"
      },
      "source": [
        "## 0 - Baseline"
      ]
    },
    {
      "cell_type": "markdown",
      "metadata": {
        "id": "ldSyHRRSXxxj"
      },
      "source": [
        "##### 0.1 - Cartoon"
      ]
    },
    {
      "cell_type": "code",
      "execution_count": null,
      "metadata": {
        "id": "W4LQ4xJ3Xxxk",
        "vscode": {
          "languageId": "python"
        }
      },
      "outputs": [],
      "source": [
        "warnings.filterwarnings('ignore', category=UserWarning)\n",
        "\n",
        "# Parse arguments\n",
        "conf = configurations['0.1']\n",
        "\n",
        "#args = parse_arguments()\n",
        "args = argparse.Namespace(**conf)\n",
        "print(args)\n",
        "CONFIG.update(vars(args))\n",
        "\n",
        "# Setup output directory\n",
        "CONFIG.save_dir = os.path.join('record', CONFIG.experiment_name)\n",
        "os.makedirs(CONFIG.save_dir, exist_ok=True)\n",
        "\n",
        "# Setup logging\n",
        "logging.basicConfig(\n",
        "    filename=os.path.join(CONFIG.save_dir, 'log.txt'),\n",
        "    format='%(message)s',\n",
        "    level=logging.INFO,\n",
        "    filemode='a'\n",
        ")\n",
        "\n",
        "# Set experiment's device & deterministic behavior\n",
        "if CONFIG.cpu:\n",
        "    CONFIG.device = 'cpu'\n",
        "else:\n",
        "    CONFIG.device = 'cuda' if torch.cuda.is_available() else 'cpu'\n",
        "\n",
        "torch.manual_seed(CONFIG.seed)\n",
        "random.seed(CONFIG.seed)\n",
        "np.random.seed(CONFIG.seed)\n",
        "torch.backends.cudnn.benchmark = True\n",
        "torch.use_deterministic_algorithms(mode=True, warn_only=True)\n",
        "\n",
        "main()"
      ]
    },
    {
      "cell_type": "markdown",
      "metadata": {
        "id": "MpqADRsiXxxl"
      },
      "source": [
        "##### 0.2 - Sketch"
      ]
    },
    {
      "cell_type": "code",
      "execution_count": null,
      "metadata": {
        "id": "5tcc3VSTXxxl",
        "vscode": {
          "languageId": "python"
        }
      },
      "outputs": [],
      "source": [
        "warnings.filterwarnings('ignore', category=UserWarning)\n",
        "\n",
        "# Parse arguments\n",
        "conf = configurations['0.2']\n",
        "\n",
        "#args = parse_arguments()\n",
        "args = argparse.Namespace(**conf)\n",
        "print(args)\n",
        "CONFIG.update(vars(args))\n",
        "\n",
        "# Setup output directory\n",
        "CONFIG.save_dir = os.path.join('record', CONFIG.experiment_name)\n",
        "os.makedirs(CONFIG.save_dir, exist_ok=True)\n",
        "\n",
        "# Setup logging\n",
        "logging.basicConfig(\n",
        "    filename=os.path.join(CONFIG.save_dir, 'log.txt'),\n",
        "    format='%(message)s',\n",
        "    level=logging.INFO,\n",
        "    filemode='a'\n",
        ")\n",
        "\n",
        "# Set experiment's device & deterministic behavior\n",
        "if CONFIG.cpu:\n",
        "    CONFIG.device = 'cpu'\n",
        "else:\n",
        "    CONFIG.device = 'cuda' if torch.cuda.is_available() else 'cpu'\n",
        "\n",
        "torch.manual_seed(CONFIG.seed)\n",
        "random.seed(CONFIG.seed)\n",
        "np.random.seed(CONFIG.seed)\n",
        "torch.backends.cudnn.benchmark = True\n",
        "torch.use_deterministic_algorithms(mode=True, warn_only=True)\n",
        "\n",
        "main()"
      ]
    },
    {
      "cell_type": "markdown",
      "metadata": {
        "id": "-DzEcM1UXxxl"
      },
      "source": [
        "##### 0.3 - Photo"
      ]
    },
    {
      "cell_type": "code",
      "execution_count": null,
      "metadata": {
        "id": "Hdbk09qgXxxm",
        "vscode": {
          "languageId": "python"
        }
      },
      "outputs": [],
      "source": [
        "warnings.filterwarnings('ignore', category=UserWarning)\n",
        "\n",
        "# Parse arguments\n",
        "conf = configurations['0.3']\n",
        "\n",
        "#args = parse_arguments()\n",
        "args = argparse.Namespace(**conf)\n",
        "print(args)\n",
        "CONFIG.update(vars(args))\n",
        "\n",
        "# Setup output directory\n",
        "CONFIG.save_dir = os.path.join('record', CONFIG.experiment_name)\n",
        "os.makedirs(CONFIG.save_dir, exist_ok=True)\n",
        "\n",
        "# Setup logging\n",
        "logging.basicConfig(\n",
        "    filename=os.path.join(CONFIG.save_dir, 'log.txt'),\n",
        "    format='%(message)s',\n",
        "    level=logging.INFO,\n",
        "    filemode='a'\n",
        ")\n",
        "\n",
        "# Set experiment's device & deterministic behavior\n",
        "if CONFIG.cpu:\n",
        "    CONFIG.device = 'cpu'\n",
        "else:\n",
        "    CONFIG.device = 'cuda' if torch.cuda.is_available() else 'cpu'\n",
        "\n",
        "torch.manual_seed(CONFIG.seed)\n",
        "random.seed(CONFIG.seed)\n",
        "np.random.seed(CONFIG.seed)\n",
        "torch.backends.cudnn.benchmark = True\n",
        "torch.use_deterministic_algorithms(mode=True, warn_only=True)\n",
        "\n",
        "main()"
      ]
    },
    {
      "cell_type": "markdown",
      "metadata": {
        "id": "BFaxV5HlXxxm"
      },
      "source": [
        "## 1 - Activation Shaping Module"
      ]
    },
    {
      "cell_type": "markdown",
      "metadata": {
        "id": "TFvmtoiGXxxn"
      },
      "source": [
        "### 1.1 - One ASH module"
      ]
    },
    {
      "cell_type": "markdown",
      "metadata": {
        "id": "DJS21zBmXxxn"
      },
      "source": [
        "#### 1.1.1 - ASH module after layer1.0.conv1"
      ]
    },
    {
      "cell_type": "markdown",
      "metadata": {
        "id": "mmcmDvkIXxxn"
      },
      "source": [
        "##### 1.1.1.1 - Cartoon"
      ]
    },
    {
      "cell_type": "code",
      "execution_count": null,
      "metadata": {
        "id": "IM2I0fK_Xxxn",
        "vscode": {
          "languageId": "python"
        }
      },
      "outputs": [],
      "source": [
        "warnings.filterwarnings('ignore', category=UserWarning)\n",
        "\n",
        "# Parse arguments\n",
        "conf = configurations['1.1.1.1']\n",
        "\n",
        "#args = parse_arguments()\n",
        "args = argparse.Namespace(**conf)\n",
        "print(args)\n",
        "CONFIG.update(vars(args))\n",
        "\n",
        "# Setup output directory\n",
        "CONFIG.save_dir = os.path.join('record', CONFIG.experiment_name)\n",
        "os.makedirs(CONFIG.save_dir, exist_ok=True)\n",
        "\n",
        "# Setup logging\n",
        "logging.basicConfig(\n",
        "    filename=os.path.join(CONFIG.save_dir, 'log.txt'),\n",
        "    format='%(message)s',\n",
        "    level=logging.INFO,\n",
        "    filemode='a'\n",
        ")\n",
        "\n",
        "# Set experiment's device & deterministic behavior\n",
        "if CONFIG.cpu:\n",
        "    CONFIG.device = 'cpu'\n",
        "else:\n",
        "    CONFIG.device = 'cuda' if torch.cuda.is_available() else 'cpu'\n",
        "\n",
        "torch.manual_seed(CONFIG.seed)\n",
        "random.seed(CONFIG.seed)\n",
        "np.random.seed(CONFIG.seed)\n",
        "torch.backends.cudnn.benchmark = True\n",
        "torch.use_deterministic_algorithms(mode=True, warn_only=True)\n",
        "\n",
        "main()"
      ]
    },
    {
      "cell_type": "markdown",
      "metadata": {
        "id": "RA8barKGXxxo"
      },
      "source": [
        "##### 1.1.1.2 - Sketch"
      ]
    },
    {
      "cell_type": "code",
      "execution_count": null,
      "metadata": {
        "id": "CQyb1EVPXxxo",
        "vscode": {
          "languageId": "python"
        }
      },
      "outputs": [],
      "source": [
        "warnings.filterwarnings('ignore', category=UserWarning)\n",
        "\n",
        "# Parse arguments\n",
        "conf = configurations['1.1.1.2']\n",
        "\n",
        "#args = parse_arguments()\n",
        "args = argparse.Namespace(**conf)\n",
        "print(args)\n",
        "CONFIG.update(vars(args))\n",
        "\n",
        "# Setup output directory\n",
        "CONFIG.save_dir = os.path.join('record', CONFIG.experiment_name)\n",
        "os.makedirs(CONFIG.save_dir, exist_ok=True)\n",
        "\n",
        "# Setup logging\n",
        "logging.basicConfig(\n",
        "    filename=os.path.join(CONFIG.save_dir, 'log.txt'),\n",
        "    format='%(message)s',\n",
        "    level=logging.INFO,\n",
        "    filemode='a'\n",
        ")\n",
        "\n",
        "# Set experiment's device & deterministic behavior\n",
        "if CONFIG.cpu:\n",
        "    CONFIG.device = 'cpu'\n",
        "else:\n",
        "    CONFIG.device = 'cuda' if torch.cuda.is_available() else 'cpu'\n",
        "\n",
        "torch.manual_seed(CONFIG.seed)\n",
        "random.seed(CONFIG.seed)\n",
        "np.random.seed(CONFIG.seed)\n",
        "torch.backends.cudnn.benchmark = True\n",
        "torch.use_deterministic_algorithms(mode=True, warn_only=True)\n",
        "\n",
        "main()"
      ]
    },
    {
      "cell_type": "markdown",
      "metadata": {
        "id": "0tDnoZZvXxxo"
      },
      "source": [
        "##### 1.1.1.3 - Photo"
      ]
    },
    {
      "cell_type": "code",
      "execution_count": null,
      "metadata": {
        "id": "r8Y7v5-dXxxo",
        "vscode": {
          "languageId": "python"
        }
      },
      "outputs": [],
      "source": [
        "warnings.filterwarnings('ignore', category=UserWarning)\n",
        "\n",
        "# Parse arguments\n",
        "conf = configurations['1.1.1.3']\n",
        "\n",
        "#args = parse_arguments()\n",
        "args = argparse.Namespace(**conf)\n",
        "print(args)\n",
        "CONFIG.update(vars(args))\n",
        "\n",
        "# Setup output directory\n",
        "CONFIG.save_dir = os.path.join('record', CONFIG.experiment_name)\n",
        "os.makedirs(CONFIG.save_dir, exist_ok=True)\n",
        "\n",
        "# Setup logging\n",
        "logging.basicConfig(\n",
        "    filename=os.path.join(CONFIG.save_dir, 'log.txt'),\n",
        "    format='%(message)s',\n",
        "    level=logging.INFO,\n",
        "    filemode='a'\n",
        ")\n",
        "\n",
        "# Set experiment's device & deterministic behavior\n",
        "if CONFIG.cpu:\n",
        "    CONFIG.device = 'cpu'\n",
        "else:\n",
        "    CONFIG.device = 'cuda' if torch.cuda.is_available() else 'cpu'\n",
        "\n",
        "torch.manual_seed(CONFIG.seed)\n",
        "random.seed(CONFIG.seed)\n",
        "np.random.seed(CONFIG.seed)\n",
        "torch.backends.cudnn.benchmark = True\n",
        "torch.use_deterministic_algorithms(mode=True, warn_only=True)\n",
        "\n",
        "main()"
      ]
    },
    {
      "cell_type": "markdown",
      "metadata": {
        "id": "ac4eY5dpXxxp"
      },
      "source": [
        "#### 1.1.2 - ASH module after layer1.0.relu"
      ]
    },
    {
      "cell_type": "markdown",
      "metadata": {
        "id": "sIhFFX4hXxxp"
      },
      "source": [
        "##### 1.1.2.1 - Cartoon"
      ]
    },
    {
      "cell_type": "code",
      "execution_count": null,
      "metadata": {
        "id": "_yHK3OiAXxxp",
        "vscode": {
          "languageId": "python"
        }
      },
      "outputs": [],
      "source": [
        "warnings.filterwarnings('ignore', category=UserWarning)\n",
        "\n",
        "# Parse arguments\n",
        "conf = configurations['1.1.2.1']\n",
        "\n",
        "#args = parse_arguments()\n",
        "args = argparse.Namespace(**conf)\n",
        "print(args)\n",
        "CONFIG.update(vars(args))\n",
        "\n",
        "# Setup output directory\n",
        "CONFIG.save_dir = os.path.join('record', CONFIG.experiment_name)\n",
        "os.makedirs(CONFIG.save_dir, exist_ok=True)\n",
        "\n",
        "# Setup logging\n",
        "logging.basicConfig(\n",
        "    filename=os.path.join(CONFIG.save_dir, 'log.txt'),\n",
        "    format='%(message)s',\n",
        "    level=logging.INFO,\n",
        "    filemode='a'\n",
        ")\n",
        "\n",
        "# Set experiment's device & deterministic behavior\n",
        "if CONFIG.cpu:\n",
        "    CONFIG.device = 'cpu'\n",
        "else:\n",
        "    CONFIG.device = 'cuda' if torch.cuda.is_available() else 'cpu'\n",
        "\n",
        "torch.manual_seed(CONFIG.seed)\n",
        "random.seed(CONFIG.seed)\n",
        "np.random.seed(CONFIG.seed)\n",
        "torch.backends.cudnn.benchmark = True\n",
        "torch.use_deterministic_algorithms(mode=True, warn_only=True)\n",
        "\n",
        "main()"
      ]
    },
    {
      "cell_type": "markdown",
      "metadata": {
        "id": "XTMvFpooXxxp"
      },
      "source": [
        "##### 1.1.2.2 - Sketch"
      ]
    },
    {
      "cell_type": "code",
      "execution_count": null,
      "metadata": {
        "id": "FV4LoLWJXxxq",
        "vscode": {
          "languageId": "python"
        }
      },
      "outputs": [],
      "source": [
        "warnings.filterwarnings('ignore', category=UserWarning)\n",
        "\n",
        "# Parse arguments\n",
        "conf = configurations['1.1.2.2']\n",
        "\n",
        "#args = parse_arguments()\n",
        "args = argparse.Namespace(**conf)\n",
        "print(args)\n",
        "CONFIG.update(vars(args))\n",
        "\n",
        "# Setup output directory\n",
        "CONFIG.save_dir = os.path.join('record', CONFIG.experiment_name)\n",
        "os.makedirs(CONFIG.save_dir, exist_ok=True)\n",
        "\n",
        "# Setup logging\n",
        "logging.basicConfig(\n",
        "    filename=os.path.join(CONFIG.save_dir, 'log.txt'),\n",
        "    format='%(message)s',\n",
        "    level=logging.INFO,\n",
        "    filemode='a'\n",
        ")\n",
        "\n",
        "# Set experiment's device & deterministic behavior\n",
        "if CONFIG.cpu:\n",
        "    CONFIG.device = 'cpu'\n",
        "else:\n",
        "    CONFIG.device = 'cuda' if torch.cuda.is_available() else 'cpu'\n",
        "\n",
        "torch.manual_seed(CONFIG.seed)\n",
        "random.seed(CONFIG.seed)\n",
        "np.random.seed(CONFIG.seed)\n",
        "torch.backends.cudnn.benchmark = True\n",
        "torch.use_deterministic_algorithms(mode=True, warn_only=True)\n",
        "\n",
        "main()"
      ]
    },
    {
      "cell_type": "markdown",
      "metadata": {
        "id": "aPX2h617Xxxq"
      },
      "source": [
        "##### 1.1.2.3 - Photo"
      ]
    },
    {
      "cell_type": "code",
      "execution_count": null,
      "metadata": {
        "id": "69TPuL3rXxxq",
        "vscode": {
          "languageId": "python"
        }
      },
      "outputs": [],
      "source": [
        "warnings.filterwarnings('ignore', category=UserWarning)\n",
        "\n",
        "# Parse arguments\n",
        "conf = configurations['1.1.2.3']\n",
        "\n",
        "#args = parse_arguments()\n",
        "args = argparse.Namespace(**conf)\n",
        "print(args)\n",
        "CONFIG.update(vars(args))\n",
        "\n",
        "# Setup output directory\n",
        "CONFIG.save_dir = os.path.join('record', CONFIG.experiment_name)\n",
        "os.makedirs(CONFIG.save_dir, exist_ok=True)\n",
        "\n",
        "# Setup logging\n",
        "logging.basicConfig(\n",
        "    filename=os.path.join(CONFIG.save_dir, 'log.txt'),\n",
        "    format='%(message)s',\n",
        "    level=logging.INFO,\n",
        "    filemode='a'\n",
        ")\n",
        "\n",
        "# Set experiment's device & deterministic behavior\n",
        "if CONFIG.cpu:\n",
        "    CONFIG.device = 'cpu'\n",
        "else:\n",
        "    CONFIG.device = 'cuda' if torch.cuda.is_available() else 'cpu'\n",
        "\n",
        "torch.manual_seed(CONFIG.seed)\n",
        "random.seed(CONFIG.seed)\n",
        "np.random.seed(CONFIG.seed)\n",
        "torch.backends.cudnn.benchmark = True\n",
        "torch.use_deterministic_algorithms(mode=True, warn_only=True)\n",
        "\n",
        "main()"
      ]
    },
    {
      "cell_type": "markdown",
      "metadata": {
        "id": "BOAwbUt6Xxxr"
      },
      "source": [
        "#### 1.1.3 - ASH module after layer1.0.conv2"
      ]
    },
    {
      "cell_type": "markdown",
      "metadata": {
        "id": "mf8vBvk-Xxxr"
      },
      "source": [
        "##### 1.1.3.1 - Cartoon"
      ]
    },
    {
      "cell_type": "code",
      "execution_count": null,
      "metadata": {
        "id": "fqzrhoKqXxxr",
        "vscode": {
          "languageId": "python"
        }
      },
      "outputs": [],
      "source": [
        "warnings.filterwarnings('ignore', category=UserWarning)\n",
        "\n",
        "# Parse arguments\n",
        "conf = configurations['1.1.3.1']\n",
        "\n",
        "#args = parse_arguments()\n",
        "args = argparse.Namespace(**conf)\n",
        "print(args)\n",
        "CONFIG.update(vars(args))\n",
        "\n",
        "# Setup output directory\n",
        "CONFIG.save_dir = os.path.join('record', CONFIG.experiment_name)\n",
        "os.makedirs(CONFIG.save_dir, exist_ok=True)\n",
        "\n",
        "# Setup logging\n",
        "logging.basicConfig(\n",
        "    filename=os.path.join(CONFIG.save_dir, 'log.txt'),\n",
        "    format='%(message)s',\n",
        "    level=logging.INFO,\n",
        "    filemode='a'\n",
        ")\n",
        "\n",
        "# Set experiment's device & deterministic behavior\n",
        "if CONFIG.cpu:\n",
        "    CONFIG.device = 'cpu'\n",
        "else:\n",
        "    CONFIG.device = 'cuda' if torch.cuda.is_available() else 'cpu'\n",
        "\n",
        "torch.manual_seed(CONFIG.seed)\n",
        "random.seed(CONFIG.seed)\n",
        "np.random.seed(CONFIG.seed)\n",
        "torch.backends.cudnn.benchmark = True\n",
        "torch.use_deterministic_algorithms(mode=True, warn_only=True)\n",
        "\n",
        "main()"
      ]
    },
    {
      "cell_type": "markdown",
      "metadata": {
        "id": "QtI88yPMXxxr"
      },
      "source": [
        "##### 1.1.3.2 - Sketch"
      ]
    },
    {
      "cell_type": "code",
      "execution_count": null,
      "metadata": {
        "id": "WCitdYpbXxxr",
        "vscode": {
          "languageId": "python"
        }
      },
      "outputs": [],
      "source": [
        "warnings.filterwarnings('ignore', category=UserWarning)\n",
        "\n",
        "# Parse arguments\n",
        "conf = configurations['1.1.3.2']\n",
        "\n",
        "#args = parse_arguments()\n",
        "args = argparse.Namespace(**conf)\n",
        "print(args)\n",
        "CONFIG.update(vars(args))\n",
        "\n",
        "# Setup output directory\n",
        "CONFIG.save_dir = os.path.join('record', CONFIG.experiment_name)\n",
        "os.makedirs(CONFIG.save_dir, exist_ok=True)\n",
        "\n",
        "# Setup logging\n",
        "logging.basicConfig(\n",
        "    filename=os.path.join(CONFIG.save_dir, 'log.txt'),\n",
        "    format='%(message)s',\n",
        "    level=logging.INFO,\n",
        "    filemode='a'\n",
        ")\n",
        "\n",
        "# Set experiment's device & deterministic behavior\n",
        "if CONFIG.cpu:\n",
        "    CONFIG.device = 'cpu'\n",
        "else:\n",
        "    CONFIG.device = 'cuda' if torch.cuda.is_available() else 'cpu'\n",
        "\n",
        "torch.manual_seed(CONFIG.seed)\n",
        "random.seed(CONFIG.seed)\n",
        "np.random.seed(CONFIG.seed)\n",
        "torch.backends.cudnn.benchmark = True\n",
        "torch.use_deterministic_algorithms(mode=True, warn_only=True)\n",
        "\n",
        "main()"
      ]
    },
    {
      "cell_type": "markdown",
      "metadata": {
        "id": "avqPWnfxXxxr"
      },
      "source": [
        "##### 1.1.3.3 - Photo"
      ]
    },
    {
      "cell_type": "code",
      "execution_count": null,
      "metadata": {
        "id": "-kzY7NB0Xxxs",
        "vscode": {
          "languageId": "python"
        }
      },
      "outputs": [],
      "source": [
        "warnings.filterwarnings('ignore', category=UserWarning)\n",
        "\n",
        "# Parse arguments\n",
        "conf = configurations['1.1.3.3']\n",
        "\n",
        "#args = parse_arguments()\n",
        "args = argparse.Namespace(**conf)\n",
        "print(args)\n",
        "CONFIG.update(vars(args))\n",
        "\n",
        "# Setup output directory\n",
        "CONFIG.save_dir = os.path.join('record', CONFIG.experiment_name)\n",
        "os.makedirs(CONFIG.save_dir, exist_ok=True)\n",
        "\n",
        "# Setup logging\n",
        "logging.basicConfig(\n",
        "    filename=os.path.join(CONFIG.save_dir, 'log.txt'),\n",
        "    format='%(message)s',\n",
        "    level=logging.INFO,\n",
        "    filemode='a'\n",
        ")\n",
        "\n",
        "# Set experiment's device & deterministic behavior\n",
        "if CONFIG.cpu:\n",
        "    CONFIG.device = 'cpu'\n",
        "else:\n",
        "    CONFIG.device = 'cuda' if torch.cuda.is_available() else 'cpu'\n",
        "\n",
        "torch.manual_seed(CONFIG.seed)\n",
        "random.seed(CONFIG.seed)\n",
        "np.random.seed(CONFIG.seed)\n",
        "torch.backends.cudnn.benchmark = True\n",
        "torch.use_deterministic_algorithms(mode=True, warn_only=True)\n",
        "\n",
        "main()"
      ]
    },
    {
      "cell_type": "markdown",
      "metadata": {
        "id": "Ctkpjqf9Xxxs"
      },
      "source": [
        "#### 1.1.4 - ASH module after layer1.1.conv1"
      ]
    },
    {
      "cell_type": "markdown",
      "metadata": {
        "id": "CipZcskxXxxs"
      },
      "source": [
        "##### 1.1.4.1 - Cartoon"
      ]
    },
    {
      "cell_type": "code",
      "execution_count": null,
      "metadata": {
        "id": "BLvw3cRFXxxs",
        "vscode": {
          "languageId": "python"
        }
      },
      "outputs": [],
      "source": [
        "warnings.filterwarnings('ignore', category=UserWarning)\n",
        "\n",
        "# Parse arguments\n",
        "conf = configurations['1.1.4.1']\n",
        "\n",
        "#args = parse_arguments()\n",
        "args = argparse.Namespace(**conf)\n",
        "print(args)\n",
        "CONFIG.update(vars(args))\n",
        "\n",
        "# Setup output directory\n",
        "CONFIG.save_dir = os.path.join('record', CONFIG.experiment_name)\n",
        "os.makedirs(CONFIG.save_dir, exist_ok=True)\n",
        "\n",
        "# Setup logging\n",
        "logging.basicConfig(\n",
        "    filename=os.path.join(CONFIG.save_dir, 'log.txt'),\n",
        "    format='%(message)s',\n",
        "    level=logging.INFO,\n",
        "    filemode='a'\n",
        ")\n",
        "\n",
        "# Set experiment's device & deterministic behavior\n",
        "if CONFIG.cpu:\n",
        "    CONFIG.device = 'cpu'\n",
        "else:\n",
        "    CONFIG.device = 'cuda' if torch.cuda.is_available() else 'cpu'\n",
        "\n",
        "torch.manual_seed(CONFIG.seed)\n",
        "random.seed(CONFIG.seed)\n",
        "np.random.seed(CONFIG.seed)\n",
        "torch.backends.cudnn.benchmark = True\n",
        "torch.use_deterministic_algorithms(mode=True, warn_only=True)\n",
        "\n",
        "main()"
      ]
    },
    {
      "cell_type": "markdown",
      "metadata": {
        "id": "IE9QjZZ7Xxxt"
      },
      "source": [
        "##### 1.1.4.2 - Sketch"
      ]
    },
    {
      "cell_type": "code",
      "execution_count": null,
      "metadata": {
        "id": "fQsbAcpdXxxt",
        "vscode": {
          "languageId": "python"
        }
      },
      "outputs": [],
      "source": [
        "warnings.filterwarnings('ignore', category=UserWarning)\n",
        "\n",
        "# Parse arguments\n",
        "conf = configurations['1.1.4.2']\n",
        "\n",
        "#args = parse_arguments()\n",
        "args = argparse.Namespace(**conf)\n",
        "print(args)\n",
        "CONFIG.update(vars(args))\n",
        "\n",
        "# Setup output directory\n",
        "CONFIG.save_dir = os.path.join('record', CONFIG.experiment_name)\n",
        "os.makedirs(CONFIG.save_dir, exist_ok=True)\n",
        "\n",
        "# Setup logging\n",
        "logging.basicConfig(\n",
        "    filename=os.path.join(CONFIG.save_dir, 'log.txt'),\n",
        "    format='%(message)s',\n",
        "    level=logging.INFO,\n",
        "    filemode='a'\n",
        ")\n",
        "\n",
        "# Set experiment's device & deterministic behavior\n",
        "if CONFIG.cpu:\n",
        "    CONFIG.device = 'cpu'\n",
        "else:\n",
        "    CONFIG.device = 'cuda' if torch.cuda.is_available() else 'cpu'\n",
        "\n",
        "torch.manual_seed(CONFIG.seed)\n",
        "random.seed(CONFIG.seed)\n",
        "np.random.seed(CONFIG.seed)\n",
        "torch.backends.cudnn.benchmark = True\n",
        "torch.use_deterministic_algorithms(mode=True, warn_only=True)\n",
        "\n",
        "main()"
      ]
    },
    {
      "cell_type": "markdown",
      "metadata": {
        "id": "UUDFSFbAXxxt"
      },
      "source": [
        "##### 1.1.4.3 - Photo"
      ]
    },
    {
      "cell_type": "code",
      "execution_count": null,
      "metadata": {
        "id": "pRmigqqhXxxu",
        "vscode": {
          "languageId": "python"
        }
      },
      "outputs": [],
      "source": [
        "warnings.filterwarnings('ignore', category=UserWarning)\n",
        "\n",
        "# Parse arguments\n",
        "conf = configurations['1.1.4.3']\n",
        "\n",
        "#args = parse_arguments()\n",
        "args = argparse.Namespace(**conf)\n",
        "print(args)\n",
        "CONFIG.update(vars(args))\n",
        "\n",
        "# Setup output directory\n",
        "CONFIG.save_dir = os.path.join('record', CONFIG.experiment_name)\n",
        "os.makedirs(CONFIG.save_dir, exist_ok=True)\n",
        "\n",
        "# Setup logging\n",
        "logging.basicConfig(\n",
        "    filename=os.path.join(CONFIG.save_dir, 'log.txt'),\n",
        "    format='%(message)s',\n",
        "    level=logging.INFO,\n",
        "    filemode='a'\n",
        ")\n",
        "\n",
        "# Set experiment's device & deterministic behavior\n",
        "if CONFIG.cpu:\n",
        "    CONFIG.device = 'cpu'\n",
        "else:\n",
        "    CONFIG.device = 'cuda' if torch.cuda.is_available() else 'cpu'\n",
        "\n",
        "torch.manual_seed(CONFIG.seed)\n",
        "random.seed(CONFIG.seed)\n",
        "np.random.seed(CONFIG.seed)\n",
        "torch.backends.cudnn.benchmark = True\n",
        "torch.use_deterministic_algorithms(mode=True, warn_only=True)\n",
        "\n",
        "main()"
      ]
    },
    {
      "cell_type": "markdown",
      "metadata": {
        "id": "ycjnl_mUXxxu"
      },
      "source": [
        "#### 1.1.5 - ASH module after layer1.1.bn1"
      ]
    },
    {
      "cell_type": "markdown",
      "metadata": {
        "id": "Y27AtU5YXxxu"
      },
      "source": [
        "##### 1.1.5.1 - Cartoon"
      ]
    },
    {
      "cell_type": "code",
      "execution_count": null,
      "metadata": {
        "id": "KwOW53WZXxxu",
        "vscode": {
          "languageId": "python"
        }
      },
      "outputs": [],
      "source": [
        "warnings.filterwarnings('ignore', category=UserWarning)\n",
        "\n",
        "# Parse arguments\n",
        "conf = configurations['1.1.5.1']\n",
        "\n",
        "#args = parse_arguments()\n",
        "args = argparse.Namespace(**conf)\n",
        "print(args)\n",
        "CONFIG.update(vars(args))\n",
        "\n",
        "# Setup output directory\n",
        "CONFIG.save_dir = os.path.join('record', CONFIG.experiment_name)\n",
        "os.makedirs(CONFIG.save_dir, exist_ok=True)\n",
        "\n",
        "# Setup logging\n",
        "logging.basicConfig(\n",
        "    filename=os.path.join(CONFIG.save_dir, 'log.txt'),\n",
        "    format='%(message)s',\n",
        "    level=logging.INFO,\n",
        "    filemode='a'\n",
        ")\n",
        "\n",
        "# Set experiment's device & deterministic behavior\n",
        "if CONFIG.cpu:\n",
        "    CONFIG.device = 'cpu'\n",
        "else:\n",
        "    CONFIG.device = 'cuda' if torch.cuda.is_available() else 'cpu'\n",
        "\n",
        "torch.manual_seed(CONFIG.seed)\n",
        "random.seed(CONFIG.seed)\n",
        "np.random.seed(CONFIG.seed)\n",
        "torch.backends.cudnn.benchmark = True\n",
        "torch.use_deterministic_algorithms(mode=True, warn_only=True)\n",
        "\n",
        "main()"
      ]
    },
    {
      "cell_type": "markdown",
      "metadata": {
        "id": "EJD_HVWfXxxv"
      },
      "source": [
        "##### 1.1.5.2 - Sketch"
      ]
    },
    {
      "cell_type": "code",
      "execution_count": null,
      "metadata": {
        "id": "M2oK8ImbXxxv",
        "vscode": {
          "languageId": "python"
        }
      },
      "outputs": [],
      "source": [
        "warnings.filterwarnings('ignore', category=UserWarning)\n",
        "\n",
        "# Parse arguments\n",
        "conf = configurations['1.1.5.2']\n",
        "\n",
        "#args = parse_arguments()\n",
        "args = argparse.Namespace(**conf)\n",
        "print(args)\n",
        "CONFIG.update(vars(args))\n",
        "\n",
        "# Setup output directory\n",
        "CONFIG.save_dir = os.path.join('record', CONFIG.experiment_name)\n",
        "os.makedirs(CONFIG.save_dir, exist_ok=True)\n",
        "\n",
        "# Setup logging\n",
        "logging.basicConfig(\n",
        "    filename=os.path.join(CONFIG.save_dir, 'log.txt'),\n",
        "    format='%(message)s',\n",
        "    level=logging.INFO,\n",
        "    filemode='a'\n",
        ")\n",
        "\n",
        "# Set experiment's device & deterministic behavior\n",
        "if CONFIG.cpu:\n",
        "    CONFIG.device = 'cpu'\n",
        "else:\n",
        "    CONFIG.device = 'cuda' if torch.cuda.is_available() else 'cpu'\n",
        "\n",
        "torch.manual_seed(CONFIG.seed)\n",
        "random.seed(CONFIG.seed)\n",
        "np.random.seed(CONFIG.seed)\n",
        "torch.backends.cudnn.benchmark = True\n",
        "torch.use_deterministic_algorithms(mode=True, warn_only=True)\n",
        "\n",
        "main()"
      ]
    },
    {
      "cell_type": "markdown",
      "metadata": {
        "id": "_w39323IXxxv"
      },
      "source": [
        "##### 1.1.5.3 - Photo"
      ]
    },
    {
      "cell_type": "code",
      "execution_count": null,
      "metadata": {
        "id": "HEA7bvBmXxxv",
        "vscode": {
          "languageId": "python"
        }
      },
      "outputs": [],
      "source": [
        "warnings.filterwarnings('ignore', category=UserWarning)\n",
        "\n",
        "# Parse arguments\n",
        "conf = configurations['1.1.5.3']\n",
        "\n",
        "#args = parse_arguments()\n",
        "args = argparse.Namespace(**conf)\n",
        "print(args)\n",
        "CONFIG.update(vars(args))\n",
        "\n",
        "# Setup output directory\n",
        "CONFIG.save_dir = os.path.join('record', CONFIG.experiment_name)\n",
        "os.makedirs(CONFIG.save_dir, exist_ok=True)\n",
        "\n",
        "# Setup logging\n",
        "logging.basicConfig(\n",
        "    filename=os.path.join(CONFIG.save_dir, 'log.txt'),\n",
        "    format='%(message)s',\n",
        "    level=logging.INFO,\n",
        "    filemode='a'\n",
        ")\n",
        "\n",
        "# Set experiment's device & deterministic behavior\n",
        "if CONFIG.cpu:\n",
        "    CONFIG.device = 'cpu'\n",
        "else:\n",
        "    CONFIG.device = 'cuda' if torch.cuda.is_available() else 'cpu'\n",
        "\n",
        "torch.manual_seed(CONFIG.seed)\n",
        "random.seed(CONFIG.seed)\n",
        "np.random.seed(CONFIG.seed)\n",
        "torch.backends.cudnn.benchmark = True\n",
        "torch.use_deterministic_algorithms(mode=True, warn_only=True)\n",
        "\n",
        "main()"
      ]
    },
    {
      "cell_type": "markdown",
      "metadata": {
        "id": "pkTvn9BaXxxw"
      },
      "source": [
        "#### 1.1.6 - ASH module after layer1.1.relu"
      ]
    },
    {
      "cell_type": "markdown",
      "metadata": {
        "id": "6Ibi8mI2Xxxw"
      },
      "source": [
        "##### 1.1.6.1 - Cartoon"
      ]
    },
    {
      "cell_type": "code",
      "execution_count": null,
      "metadata": {
        "id": "LNAUFLTwXxxw",
        "vscode": {
          "languageId": "python"
        }
      },
      "outputs": [],
      "source": [
        "warnings.filterwarnings('ignore', category=UserWarning)\n",
        "\n",
        "# Parse arguments\n",
        "conf = configurations['1.1.6.1']\n",
        "\n",
        "#args = parse_arguments()\n",
        "args = argparse.Namespace(**conf)\n",
        "print(args)\n",
        "CONFIG.update(vars(args))\n",
        "\n",
        "# Setup output directory\n",
        "CONFIG.save_dir = os.path.join('record', CONFIG.experiment_name)\n",
        "os.makedirs(CONFIG.save_dir, exist_ok=True)\n",
        "\n",
        "# Setup logging\n",
        "logging.basicConfig(\n",
        "    filename=os.path.join(CONFIG.save_dir, 'log.txt'),\n",
        "    format='%(message)s',\n",
        "    level=logging.INFO,\n",
        "    filemode='a'\n",
        ")\n",
        "\n",
        "# Set experiment's device & deterministic behavior\n",
        "if CONFIG.cpu:\n",
        "    CONFIG.device = 'cpu'\n",
        "else:\n",
        "    CONFIG.device = 'cuda' if torch.cuda.is_available() else 'cpu'\n",
        "\n",
        "torch.manual_seed(CONFIG.seed)\n",
        "random.seed(CONFIG.seed)\n",
        "np.random.seed(CONFIG.seed)\n",
        "torch.backends.cudnn.benchmark = True\n",
        "torch.use_deterministic_algorithms(mode=True, warn_only=True)\n",
        "\n",
        "main()"
      ]
    },
    {
      "cell_type": "markdown",
      "metadata": {
        "id": "SQJVD4nMXxxw"
      },
      "source": [
        "##### 1.1.6.2 - Sketch"
      ]
    },
    {
      "cell_type": "code",
      "execution_count": null,
      "metadata": {
        "id": "9UVHzHgaXxxx",
        "vscode": {
          "languageId": "python"
        }
      },
      "outputs": [],
      "source": [
        "warnings.filterwarnings('ignore', category=UserWarning)\n",
        "\n",
        "# Parse arguments\n",
        "conf = configurations['1.1.6.2']\n",
        "\n",
        "#args = parse_arguments()\n",
        "args = argparse.Namespace(**conf)\n",
        "print(args)\n",
        "CONFIG.update(vars(args))\n",
        "\n",
        "# Setup output directory\n",
        "CONFIG.save_dir = os.path.join('record', CONFIG.experiment_name)\n",
        "os.makedirs(CONFIG.save_dir, exist_ok=True)\n",
        "\n",
        "# Setup logging\n",
        "logging.basicConfig(\n",
        "    filename=os.path.join(CONFIG.save_dir, 'log.txt'),\n",
        "    format='%(message)s',\n",
        "    level=logging.INFO,\n",
        "    filemode='a'\n",
        ")\n",
        "\n",
        "# Set experiment's device & deterministic behavior\n",
        "if CONFIG.cpu:\n",
        "    CONFIG.device = 'cpu'\n",
        "else:\n",
        "    CONFIG.device = 'cuda' if torch.cuda.is_available() else 'cpu'\n",
        "\n",
        "torch.manual_seed(CONFIG.seed)\n",
        "random.seed(CONFIG.seed)\n",
        "np.random.seed(CONFIG.seed)\n",
        "torch.backends.cudnn.benchmark = True\n",
        "torch.use_deterministic_algorithms(mode=True, warn_only=True)\n",
        "\n",
        "main()"
      ]
    },
    {
      "cell_type": "markdown",
      "metadata": {
        "id": "FEzzVWSrXxxx"
      },
      "source": [
        "##### 1.1.6.3 - Photo"
      ]
    },
    {
      "cell_type": "code",
      "execution_count": null,
      "metadata": {
        "id": "wtg4t_7jXxxy",
        "vscode": {
          "languageId": "python"
        }
      },
      "outputs": [],
      "source": [
        "warnings.filterwarnings('ignore', category=UserWarning)\n",
        "\n",
        "# Parse arguments\n",
        "conf = configurations['1.1.6.3']\n",
        "\n",
        "#args = parse_arguments()\n",
        "args = argparse.Namespace(**conf)\n",
        "print(args)\n",
        "CONFIG.update(vars(args))\n",
        "\n",
        "# Setup output directory\n",
        "CONFIG.save_dir = os.path.join('record', CONFIG.experiment_name)\n",
        "os.makedirs(CONFIG.save_dir, exist_ok=True)\n",
        "\n",
        "# Setup logging\n",
        "logging.basicConfig(\n",
        "    filename=os.path.join(CONFIG.save_dir, 'log.txt'),\n",
        "    format='%(message)s',\n",
        "    level=logging.INFO,\n",
        "    filemode='a'\n",
        ")\n",
        "\n",
        "# Set experiment's device & deterministic behavior\n",
        "if CONFIG.cpu:\n",
        "    CONFIG.device = 'cpu'\n",
        "else:\n",
        "    CONFIG.device = 'cuda' if torch.cuda.is_available() else 'cpu'\n",
        "\n",
        "torch.manual_seed(CONFIG.seed)\n",
        "random.seed(CONFIG.seed)\n",
        "np.random.seed(CONFIG.seed)\n",
        "torch.backends.cudnn.benchmark = True\n",
        "torch.use_deterministic_algorithms(mode=True, warn_only=True)\n",
        "\n",
        "main()"
      ]
    },
    {
      "cell_type": "markdown",
      "metadata": {
        "id": "jW27piN-Xxxz"
      },
      "source": [
        "#### 1.1.7 - ASH module after layer1.1.conv2"
      ]
    },
    {
      "cell_type": "markdown",
      "metadata": {
        "id": "9l7pAc9HXxxz"
      },
      "source": [
        "##### 1.1.7.1 - Cartoon"
      ]
    },
    {
      "cell_type": "code",
      "execution_count": null,
      "metadata": {
        "id": "QSznLGBVXxx6",
        "vscode": {
          "languageId": "python"
        }
      },
      "outputs": [],
      "source": [
        "warnings.filterwarnings('ignore', category=UserWarning)\n",
        "\n",
        "# Parse arguments\n",
        "conf = configurations['1.1.7.1']\n",
        "\n",
        "#args = parse_arguments()\n",
        "args = argparse.Namespace(**conf)\n",
        "print(args)\n",
        "CONFIG.update(vars(args))\n",
        "\n",
        "# Setup output directory\n",
        "CONFIG.save_dir = os.path.join('record', CONFIG.experiment_name)\n",
        "os.makedirs(CONFIG.save_dir, exist_ok=True)\n",
        "\n",
        "# Setup logging\n",
        "logging.basicConfig(\n",
        "    filename=os.path.join(CONFIG.save_dir, 'log.txt'),\n",
        "    format='%(message)s',\n",
        "    level=logging.INFO,\n",
        "    filemode='a'\n",
        ")\n",
        "\n",
        "# Set experiment's device & deterministic behavior\n",
        "if CONFIG.cpu:\n",
        "    CONFIG.device = 'cpu'\n",
        "else:\n",
        "    CONFIG.device = 'cuda' if torch.cuda.is_available() else 'cpu'\n",
        "\n",
        "torch.manual_seed(CONFIG.seed)\n",
        "random.seed(CONFIG.seed)\n",
        "np.random.seed(CONFIG.seed)\n",
        "torch.backends.cudnn.benchmark = True\n",
        "torch.use_deterministic_algorithms(mode=True, warn_only=True)\n",
        "\n",
        "main()"
      ]
    },
    {
      "cell_type": "markdown",
      "metadata": {
        "id": "6fTaKtbmXxx6"
      },
      "source": [
        "##### 1.1.7.2 - Sketch"
      ]
    },
    {
      "cell_type": "code",
      "execution_count": null,
      "metadata": {
        "id": "O6dvLHdqXxx6",
        "vscode": {
          "languageId": "python"
        }
      },
      "outputs": [],
      "source": [
        "warnings.filterwarnings('ignore', category=UserWarning)\n",
        "\n",
        "# Parse arguments\n",
        "conf = configurations['1.1.7.2']\n",
        "\n",
        "#args = parse_arguments()\n",
        "args = argparse.Namespace(**conf)\n",
        "print(args)\n",
        "CONFIG.update(vars(args))\n",
        "\n",
        "# Setup output directory\n",
        "CONFIG.save_dir = os.path.join('record', CONFIG.experiment_name)\n",
        "os.makedirs(CONFIG.save_dir, exist_ok=True)\n",
        "\n",
        "# Setup logging\n",
        "logging.basicConfig(\n",
        "    filename=os.path.join(CONFIG.save_dir, 'log.txt'),\n",
        "    format='%(message)s',\n",
        "    level=logging.INFO,\n",
        "    filemode='a'\n",
        ")\n",
        "\n",
        "# Set experiment's device & deterministic behavior\n",
        "if CONFIG.cpu:\n",
        "    CONFIG.device = 'cpu'\n",
        "else:\n",
        "    CONFIG.device = 'cuda' if torch.cuda.is_available() else 'cpu'\n",
        "\n",
        "torch.manual_seed(CONFIG.seed)\n",
        "random.seed(CONFIG.seed)\n",
        "np.random.seed(CONFIG.seed)\n",
        "torch.backends.cudnn.benchmark = True\n",
        "torch.use_deterministic_algorithms(mode=True, warn_only=True)\n",
        "\n",
        "main()"
      ]
    },
    {
      "cell_type": "markdown",
      "metadata": {
        "id": "mahl1nEeXxx7"
      },
      "source": [
        "##### 1.1.7.3 - Photo"
      ]
    },
    {
      "cell_type": "code",
      "execution_count": null,
      "metadata": {
        "id": "TcRWiol6Xxx7",
        "vscode": {
          "languageId": "python"
        }
      },
      "outputs": [],
      "source": [
        "warnings.filterwarnings('ignore', category=UserWarning)\n",
        "\n",
        "# Parse arguments\n",
        "conf = configurations['1.1.7.3']\n",
        "\n",
        "#args = parse_arguments()\n",
        "args = argparse.Namespace(**conf)\n",
        "print(args)\n",
        "CONFIG.update(vars(args))\n",
        "\n",
        "# Setup output directory\n",
        "CONFIG.save_dir = os.path.join('record', CONFIG.experiment_name)\n",
        "os.makedirs(CONFIG.save_dir, exist_ok=True)\n",
        "\n",
        "# Setup logging\n",
        "logging.basicConfig(\n",
        "    filename=os.path.join(CONFIG.save_dir, 'log.txt'),\n",
        "    format='%(message)s',\n",
        "    level=logging.INFO,\n",
        "    filemode='a'\n",
        ")\n",
        "\n",
        "# Set experiment's device & deterministic behavior\n",
        "if CONFIG.cpu:\n",
        "    CONFIG.device = 'cpu'\n",
        "else:\n",
        "    CONFIG.device = 'cuda' if torch.cuda.is_available() else 'cpu'\n",
        "\n",
        "torch.manual_seed(CONFIG.seed)\n",
        "random.seed(CONFIG.seed)\n",
        "np.random.seed(CONFIG.seed)\n",
        "torch.backends.cudnn.benchmark = True\n",
        "torch.use_deterministic_algorithms(mode=True, warn_only=True)\n",
        "\n",
        "main()"
      ]
    },
    {
      "cell_type": "markdown",
      "metadata": {
        "id": "bh_7maL_Xxx7"
      },
      "source": [
        "#### 1.1.8 - ASH module after layer1.1.bn2"
      ]
    },
    {
      "cell_type": "markdown",
      "metadata": {
        "id": "avpgFjY1Xxx7"
      },
      "source": [
        "##### 1.1.8.1 - Cartoon"
      ]
    },
    {
      "cell_type": "code",
      "execution_count": null,
      "metadata": {
        "id": "WMjcCYQfXxx7",
        "vscode": {
          "languageId": "python"
        }
      },
      "outputs": [],
      "source": [
        "warnings.filterwarnings('ignore', category=UserWarning)\n",
        "\n",
        "# Parse arguments\n",
        "conf = configurations['1.1.8.1']\n",
        "\n",
        "#args = parse_arguments()\n",
        "args = argparse.Namespace(**conf)\n",
        "print(args)\n",
        "CONFIG.update(vars(args))\n",
        "\n",
        "# Setup output directory\n",
        "CONFIG.save_dir = os.path.join('record', CONFIG.experiment_name)\n",
        "os.makedirs(CONFIG.save_dir, exist_ok=True)\n",
        "\n",
        "# Setup logging\n",
        "logging.basicConfig(\n",
        "    filename=os.path.join(CONFIG.save_dir, 'log.txt'),\n",
        "    format='%(message)s',\n",
        "    level=logging.INFO,\n",
        "    filemode='a'\n",
        ")\n",
        "\n",
        "# Set experiment's device & deterministic behavior\n",
        "if CONFIG.cpu:\n",
        "    CONFIG.device = 'cpu'\n",
        "else:\n",
        "    CONFIG.device = 'cuda' if torch.cuda.is_available() else 'cpu'\n",
        "\n",
        "torch.manual_seed(CONFIG.seed)\n",
        "random.seed(CONFIG.seed)\n",
        "np.random.seed(CONFIG.seed)\n",
        "torch.backends.cudnn.benchmark = True\n",
        "torch.use_deterministic_algorithms(mode=True, warn_only=True)\n",
        "\n",
        "main()"
      ]
    },
    {
      "cell_type": "markdown",
      "metadata": {
        "id": "xzpHfqWTXxx7"
      },
      "source": [
        "##### 1.1.8.2 - Sketch"
      ]
    },
    {
      "cell_type": "code",
      "execution_count": null,
      "metadata": {
        "id": "xZ0LDCQiXxx7",
        "vscode": {
          "languageId": "python"
        }
      },
      "outputs": [],
      "source": [
        "warnings.filterwarnings('ignore', category=UserWarning)\n",
        "\n",
        "# Parse arguments\n",
        "conf = configurations['1.1.8.2']\n",
        "\n",
        "#args = parse_arguments()\n",
        "args = argparse.Namespace(**conf)\n",
        "print(args)\n",
        "CONFIG.update(vars(args))\n",
        "\n",
        "# Setup output directory\n",
        "CONFIG.save_dir = os.path.join('record', CONFIG.experiment_name)\n",
        "os.makedirs(CONFIG.save_dir, exist_ok=True)\n",
        "\n",
        "# Setup logging\n",
        "logging.basicConfig(\n",
        "    filename=os.path.join(CONFIG.save_dir, 'log.txt'),\n",
        "    format='%(message)s',\n",
        "    level=logging.INFO,\n",
        "    filemode='a'\n",
        ")\n",
        "\n",
        "# Set experiment's device & deterministic behavior\n",
        "if CONFIG.cpu:\n",
        "    CONFIG.device = 'cpu'\n",
        "else:\n",
        "    CONFIG.device = 'cuda' if torch.cuda.is_available() else 'cpu'\n",
        "\n",
        "torch.manual_seed(CONFIG.seed)\n",
        "random.seed(CONFIG.seed)\n",
        "np.random.seed(CONFIG.seed)\n",
        "torch.backends.cudnn.benchmark = True\n",
        "torch.use_deterministic_algorithms(mode=True, warn_only=True)\n",
        "\n",
        "main()"
      ]
    },
    {
      "cell_type": "markdown",
      "metadata": {
        "id": "HJLx37ZvXxx8"
      },
      "source": [
        "##### 1.1.8.3 - Photo"
      ]
    },
    {
      "cell_type": "code",
      "execution_count": null,
      "metadata": {
        "id": "YkgH9YXXXxx8",
        "vscode": {
          "languageId": "python"
        }
      },
      "outputs": [],
      "source": [
        "warnings.filterwarnings('ignore', category=UserWarning)\n",
        "\n",
        "# Parse arguments\n",
        "conf = configurations['1.1.8.3']\n",
        "\n",
        "#args = parse_arguments()\n",
        "args = argparse.Namespace(**conf)\n",
        "print(args)\n",
        "CONFIG.update(vars(args))\n",
        "\n",
        "# Setup output directory\n",
        "CONFIG.save_dir = os.path.join('record', CONFIG.experiment_name)\n",
        "os.makedirs(CONFIG.save_dir, exist_ok=True)\n",
        "\n",
        "# Setup logging\n",
        "logging.basicConfig(\n",
        "    filename=os.path.join(CONFIG.save_dir, 'log.txt'),\n",
        "    format='%(message)s',\n",
        "    level=logging.INFO,\n",
        "    filemode='a'\n",
        ")\n",
        "\n",
        "# Set experiment's device & deterministic behavior\n",
        "if CONFIG.cpu:\n",
        "    CONFIG.device = 'cpu'\n",
        "else:\n",
        "    CONFIG.device = 'cuda' if torch.cuda.is_available() else 'cpu'\n",
        "\n",
        "torch.manual_seed(CONFIG.seed)\n",
        "random.seed(CONFIG.seed)\n",
        "np.random.seed(CONFIG.seed)\n",
        "torch.backends.cudnn.benchmark = True\n",
        "torch.use_deterministic_algorithms(mode=True, warn_only=True)\n",
        "\n",
        "main()"
      ]
    },
    {
      "cell_type": "markdown",
      "metadata": {
        "id": "p6XaMwcMXxx8"
      },
      "source": [
        "#### 1.1.9 - ASH module after layer2.0.conv1"
      ]
    },
    {
      "cell_type": "markdown",
      "metadata": {
        "id": "364UFSozXxx8"
      },
      "source": [
        "##### 1.1.9.1 - Cartoon"
      ]
    },
    {
      "cell_type": "code",
      "execution_count": null,
      "metadata": {
        "id": "PDv0wYGDXxx8",
        "vscode": {
          "languageId": "python"
        }
      },
      "outputs": [],
      "source": [
        "warnings.filterwarnings('ignore', category=UserWarning)\n",
        "\n",
        "# Parse arguments\n",
        "conf = configurations['1.1.9.1']\n",
        "\n",
        "#args = parse_arguments()\n",
        "args = argparse.Namespace(**conf)\n",
        "print(args)\n",
        "CONFIG.update(vars(args))\n",
        "\n",
        "# Setup output directory\n",
        "CONFIG.save_dir = os.path.join('record', CONFIG.experiment_name)\n",
        "os.makedirs(CONFIG.save_dir, exist_ok=True)\n",
        "\n",
        "# Setup logging\n",
        "logging.basicConfig(\n",
        "    filename=os.path.join(CONFIG.save_dir, 'log.txt'),\n",
        "    format='%(message)s',\n",
        "    level=logging.INFO,\n",
        "    filemode='a'\n",
        ")\n",
        "\n",
        "# Set experiment's device & deterministic behavior\n",
        "if CONFIG.cpu:\n",
        "    CONFIG.device = 'cpu'\n",
        "else:\n",
        "    CONFIG.device = 'cuda' if torch.cuda.is_available() else 'cpu'\n",
        "\n",
        "torch.manual_seed(CONFIG.seed)\n",
        "random.seed(CONFIG.seed)\n",
        "np.random.seed(CONFIG.seed)\n",
        "torch.backends.cudnn.benchmark = True\n",
        "torch.use_deterministic_algorithms(mode=True, warn_only=True)\n",
        "\n",
        "main()"
      ]
    },
    {
      "cell_type": "markdown",
      "metadata": {
        "id": "oUIueylOXxx9"
      },
      "source": [
        "##### 1.1.9.2 - Sketch"
      ]
    },
    {
      "cell_type": "code",
      "execution_count": null,
      "metadata": {
        "id": "iC36vRejXxx9",
        "vscode": {
          "languageId": "python"
        }
      },
      "outputs": [],
      "source": [
        "warnings.filterwarnings('ignore', category=UserWarning)\n",
        "\n",
        "# Parse arguments\n",
        "conf = configurations['1.1.9.2']\n",
        "\n",
        "#args = parse_arguments()\n",
        "args = argparse.Namespace(**conf)\n",
        "print(args)\n",
        "CONFIG.update(vars(args))\n",
        "\n",
        "# Setup output directory\n",
        "CONFIG.save_dir = os.path.join('record', CONFIG.experiment_name)\n",
        "os.makedirs(CONFIG.save_dir, exist_ok=True)\n",
        "\n",
        "# Setup logging\n",
        "logging.basicConfig(\n",
        "    filename=os.path.join(CONFIG.save_dir, 'log.txt'),\n",
        "    format='%(message)s',\n",
        "    level=logging.INFO,\n",
        "    filemode='a'\n",
        ")\n",
        "\n",
        "# Set experiment's device & deterministic behavior\n",
        "if CONFIG.cpu:\n",
        "    CONFIG.device = 'cpu'\n",
        "else:\n",
        "    CONFIG.device = 'cuda' if torch.cuda.is_available() else 'cpu'\n",
        "\n",
        "torch.manual_seed(CONFIG.seed)\n",
        "random.seed(CONFIG.seed)\n",
        "np.random.seed(CONFIG.seed)\n",
        "torch.backends.cudnn.benchmark = True\n",
        "torch.use_deterministic_algorithms(mode=True, warn_only=True)\n",
        "\n",
        "main()"
      ]
    },
    {
      "cell_type": "markdown",
      "metadata": {
        "id": "I6DwExmkXxx9"
      },
      "source": [
        "##### 1.1.9.3 - Photo"
      ]
    },
    {
      "cell_type": "code",
      "execution_count": null,
      "metadata": {
        "id": "Pc4nEsc1Xxx9",
        "vscode": {
          "languageId": "python"
        }
      },
      "outputs": [],
      "source": [
        "warnings.filterwarnings('ignore', category=UserWarning)\n",
        "\n",
        "# Parse arguments\n",
        "conf = configurations['1.1.9.3']\n",
        "\n",
        "#args = parse_arguments()\n",
        "args = argparse.Namespace(**conf)\n",
        "print(args)\n",
        "CONFIG.update(vars(args))\n",
        "\n",
        "# Setup output directory\n",
        "CONFIG.save_dir = os.path.join('record', CONFIG.experiment_name)\n",
        "os.makedirs(CONFIG.save_dir, exist_ok=True)\n",
        "\n",
        "# Setup logging\n",
        "logging.basicConfig(\n",
        "    filename=os.path.join(CONFIG.save_dir, 'log.txt'),\n",
        "    format='%(message)s',\n",
        "    level=logging.INFO,\n",
        "    filemode='a'\n",
        ")\n",
        "\n",
        "# Set experiment's device & deterministic behavior\n",
        "if CONFIG.cpu:\n",
        "    CONFIG.device = 'cpu'\n",
        "else:\n",
        "    CONFIG.device = 'cuda' if torch.cuda.is_available() else 'cpu'\n",
        "\n",
        "torch.manual_seed(CONFIG.seed)\n",
        "random.seed(CONFIG.seed)\n",
        "np.random.seed(CONFIG.seed)\n",
        "torch.backends.cudnn.benchmark = True\n",
        "torch.use_deterministic_algorithms(mode=True, warn_only=True)\n",
        "\n",
        "main()"
      ]
    },
    {
      "cell_type": "markdown",
      "metadata": {
        "id": "DNmU7vLRXxx9"
      },
      "source": [
        "#### 1.1.10 - ASH module after layer2.0.relu"
      ]
    },
    {
      "cell_type": "markdown",
      "metadata": {
        "id": "Q81JgoJrXxx9"
      },
      "source": [
        "##### 1.1.10.1 - Cartoon"
      ]
    },
    {
      "cell_type": "code",
      "execution_count": null,
      "metadata": {
        "id": "ueCghjPsXxx-",
        "vscode": {
          "languageId": "python"
        }
      },
      "outputs": [],
      "source": [
        "warnings.filterwarnings('ignore', category=UserWarning)\n",
        "\n",
        "# Parse arguments\n",
        "conf = configurations['1.1.10.1']\n",
        "\n",
        "#args = parse_arguments()\n",
        "args = argparse.Namespace(**conf)\n",
        "print(args)\n",
        "CONFIG.update(vars(args))\n",
        "\n",
        "# Setup output directory\n",
        "CONFIG.save_dir = os.path.join('record', CONFIG.experiment_name)\n",
        "os.makedirs(CONFIG.save_dir, exist_ok=True)\n",
        "\n",
        "# Setup logging\n",
        "logging.basicConfig(\n",
        "    filename=os.path.join(CONFIG.save_dir, 'log.txt'),\n",
        "    format='%(message)s',\n",
        "    level=logging.INFO,\n",
        "    filemode='a'\n",
        ")\n",
        "\n",
        "# Set experiment's device & deterministic behavior\n",
        "if CONFIG.cpu:\n",
        "    CONFIG.device = 'cpu'\n",
        "else:\n",
        "    CONFIG.device = 'cuda' if torch.cuda.is_available() else 'cpu'\n",
        "\n",
        "torch.manual_seed(CONFIG.seed)\n",
        "random.seed(CONFIG.seed)\n",
        "np.random.seed(CONFIG.seed)\n",
        "torch.backends.cudnn.benchmark = True\n",
        "torch.use_deterministic_algorithms(mode=True, warn_only=True)\n",
        "\n",
        "main()"
      ]
    },
    {
      "cell_type": "markdown",
      "metadata": {
        "id": "fCbOW9JvXxx-"
      },
      "source": [
        "##### 1.1.10.2 - Sketch"
      ]
    },
    {
      "cell_type": "code",
      "execution_count": null,
      "metadata": {
        "id": "KICyH7BFXxx-",
        "vscode": {
          "languageId": "python"
        }
      },
      "outputs": [],
      "source": [
        "warnings.filterwarnings('ignore', category=UserWarning)\n",
        "\n",
        "# Parse arguments\n",
        "conf = configurations['1.1.10.2']\n",
        "\n",
        "#args = parse_arguments()\n",
        "args = argparse.Namespace(**conf)\n",
        "print(args)\n",
        "CONFIG.update(vars(args))\n",
        "\n",
        "# Setup output directory\n",
        "CONFIG.save_dir = os.path.join('record', CONFIG.experiment_name)\n",
        "os.makedirs(CONFIG.save_dir, exist_ok=True)\n",
        "\n",
        "# Setup logging\n",
        "logging.basicConfig(\n",
        "    filename=os.path.join(CONFIG.save_dir, 'log.txt'),\n",
        "    format='%(message)s',\n",
        "    level=logging.INFO,\n",
        "    filemode='a'\n",
        ")\n",
        "\n",
        "# Set experiment's device & deterministic behavior\n",
        "if CONFIG.cpu:\n",
        "    CONFIG.device = 'cpu'\n",
        "else:\n",
        "    CONFIG.device = 'cuda' if torch.cuda.is_available() else 'cpu'\n",
        "\n",
        "torch.manual_seed(CONFIG.seed)\n",
        "random.seed(CONFIG.seed)\n",
        "np.random.seed(CONFIG.seed)\n",
        "torch.backends.cudnn.benchmark = True\n",
        "torch.use_deterministic_algorithms(mode=True, warn_only=True)\n",
        "\n",
        "main()"
      ]
    },
    {
      "cell_type": "markdown",
      "metadata": {
        "id": "kWCo_ohHXxx-"
      },
      "source": [
        "##### 1.1.10.3 - Photo"
      ]
    },
    {
      "cell_type": "code",
      "execution_count": null,
      "metadata": {
        "id": "Z8RnUR4KXxx-",
        "vscode": {
          "languageId": "python"
        }
      },
      "outputs": [],
      "source": [
        "warnings.filterwarnings('ignore', category=UserWarning)\n",
        "\n",
        "# Parse arguments\n",
        "conf = configurations['1.1.10.3']\n",
        "\n",
        "#args = parse_arguments()\n",
        "args = argparse.Namespace(**conf)\n",
        "print(args)\n",
        "CONFIG.update(vars(args))\n",
        "\n",
        "# Setup output directory\n",
        "CONFIG.save_dir = os.path.join('record', CONFIG.experiment_name)\n",
        "os.makedirs(CONFIG.save_dir, exist_ok=True)\n",
        "\n",
        "# Setup logging\n",
        "logging.basicConfig(\n",
        "    filename=os.path.join(CONFIG.save_dir, 'log.txt'),\n",
        "    format='%(message)s',\n",
        "    level=logging.INFO,\n",
        "    filemode='a'\n",
        ")\n",
        "\n",
        "# Set experiment's device & deterministic behavior\n",
        "if CONFIG.cpu:\n",
        "    CONFIG.device = 'cpu'\n",
        "else:\n",
        "    CONFIG.device = 'cuda' if torch.cuda.is_available() else 'cpu'\n",
        "\n",
        "torch.manual_seed(CONFIG.seed)\n",
        "random.seed(CONFIG.seed)\n",
        "np.random.seed(CONFIG.seed)\n",
        "torch.backends.cudnn.benchmark = True\n",
        "torch.use_deterministic_algorithms(mode=True, warn_only=True)\n",
        "\n",
        "main()"
      ]
    },
    {
      "cell_type": "markdown",
      "metadata": {
        "id": "nsTBtwp2Xxx-"
      },
      "source": [
        "#### 1.1.11 - ASH module after layer2.0.conv2"
      ]
    },
    {
      "cell_type": "markdown",
      "metadata": {
        "id": "1keI5nDgXxx-"
      },
      "source": [
        "##### 1.1.11.1 - Cartoon"
      ]
    },
    {
      "cell_type": "code",
      "execution_count": null,
      "metadata": {
        "id": "LBFeMwr5Xxx_",
        "vscode": {
          "languageId": "python"
        }
      },
      "outputs": [],
      "source": [
        "warnings.filterwarnings('ignore', category=UserWarning)\n",
        "\n",
        "# Parse arguments\n",
        "conf = configurations['1.1.11.1']\n",
        "\n",
        "#args = parse_arguments()\n",
        "args = argparse.Namespace(**conf)\n",
        "print(args)\n",
        "CONFIG.update(vars(args))\n",
        "\n",
        "# Setup output directory\n",
        "CONFIG.save_dir = os.path.join('record', CONFIG.experiment_name)\n",
        "os.makedirs(CONFIG.save_dir, exist_ok=True)\n",
        "\n",
        "# Setup logging\n",
        "logging.basicConfig(\n",
        "    filename=os.path.join(CONFIG.save_dir, 'log.txt'),\n",
        "    format='%(message)s',\n",
        "    level=logging.INFO,\n",
        "    filemode='a'\n",
        ")\n",
        "\n",
        "# Set experiment's device & deterministic behavior\n",
        "if CONFIG.cpu:\n",
        "    CONFIG.device = 'cpu'\n",
        "else:\n",
        "    CONFIG.device = 'cuda' if torch.cuda.is_available() else 'cpu'\n",
        "\n",
        "torch.manual_seed(CONFIG.seed)\n",
        "random.seed(CONFIG.seed)\n",
        "np.random.seed(CONFIG.seed)\n",
        "torch.backends.cudnn.benchmark = True\n",
        "torch.use_deterministic_algorithms(mode=True, warn_only=True)\n",
        "\n",
        "main()"
      ]
    },
    {
      "cell_type": "markdown",
      "metadata": {
        "id": "FJ2c1DecXxx_"
      },
      "source": [
        "##### 1.1.11.2 - Sketch"
      ]
    },
    {
      "cell_type": "code",
      "execution_count": null,
      "metadata": {
        "id": "Vbyb5P_nXxx_",
        "vscode": {
          "languageId": "python"
        }
      },
      "outputs": [],
      "source": [
        "warnings.filterwarnings('ignore', category=UserWarning)\n",
        "\n",
        "# Parse arguments\n",
        "conf = configurations['1.1.11.2']\n",
        "\n",
        "#args = parse_arguments()\n",
        "args = argparse.Namespace(**conf)\n",
        "print(args)\n",
        "CONFIG.update(vars(args))\n",
        "\n",
        "# Setup output directory\n",
        "CONFIG.save_dir = os.path.join('record', CONFIG.experiment_name)\n",
        "os.makedirs(CONFIG.save_dir, exist_ok=True)\n",
        "\n",
        "# Setup logging\n",
        "logging.basicConfig(\n",
        "    filename=os.path.join(CONFIG.save_dir, 'log.txt'),\n",
        "    format='%(message)s',\n",
        "    level=logging.INFO,\n",
        "    filemode='a'\n",
        ")\n",
        "\n",
        "# Set experiment's device & deterministic behavior\n",
        "if CONFIG.cpu:\n",
        "    CONFIG.device = 'cpu'\n",
        "else:\n",
        "    CONFIG.device = 'cuda' if torch.cuda.is_available() else 'cpu'\n",
        "\n",
        "torch.manual_seed(CONFIG.seed)\n",
        "random.seed(CONFIG.seed)\n",
        "np.random.seed(CONFIG.seed)\n",
        "torch.backends.cudnn.benchmark = True\n",
        "torch.use_deterministic_algorithms(mode=True, warn_only=True)\n",
        "\n",
        "main()"
      ]
    },
    {
      "cell_type": "markdown",
      "metadata": {
        "id": "Z9pN8VgAXxx_"
      },
      "source": [
        "##### 1.1.11.3 - Photo"
      ]
    },
    {
      "cell_type": "code",
      "execution_count": null,
      "metadata": {
        "id": "Bm9dEScNXxx_",
        "vscode": {
          "languageId": "python"
        }
      },
      "outputs": [],
      "source": [
        "warnings.filterwarnings('ignore', category=UserWarning)\n",
        "\n",
        "# Parse arguments\n",
        "conf = configurations['1.1.11.3']\n",
        "\n",
        "#args = parse_arguments()\n",
        "args = argparse.Namespace(**conf)\n",
        "print(args)\n",
        "CONFIG.update(vars(args))\n",
        "\n",
        "# Setup output directory\n",
        "CONFIG.save_dir = os.path.join('record', CONFIG.experiment_name)\n",
        "os.makedirs(CONFIG.save_dir, exist_ok=True)\n",
        "\n",
        "# Setup logging\n",
        "logging.basicConfig(\n",
        "    filename=os.path.join(CONFIG.save_dir, 'log.txt'),\n",
        "    format='%(message)s',\n",
        "    level=logging.INFO,\n",
        "    filemode='a'\n",
        ")\n",
        "\n",
        "# Set experiment's device & deterministic behavior\n",
        "if CONFIG.cpu:\n",
        "    CONFIG.device = 'cpu'\n",
        "else:\n",
        "    CONFIG.device = 'cuda' if torch.cuda.is_available() else 'cpu'\n",
        "\n",
        "torch.manual_seed(CONFIG.seed)\n",
        "random.seed(CONFIG.seed)\n",
        "np.random.seed(CONFIG.seed)\n",
        "torch.backends.cudnn.benchmark = True\n",
        "torch.use_deterministic_algorithms(mode=True, warn_only=True)\n",
        "\n",
        "main()"
      ]
    },
    {
      "cell_type": "markdown",
      "metadata": {
        "id": "bSl1Dpb-Xxx_"
      },
      "source": [
        "#### 1.1.12 - ASH module after layer2.1.conv2"
      ]
    },
    {
      "cell_type": "markdown",
      "metadata": {
        "id": "v10a8IgVXxx_"
      },
      "source": [
        "##### 1.1.12.1 - Cartoon"
      ]
    },
    {
      "cell_type": "code",
      "execution_count": null,
      "metadata": {
        "id": "wn63YJY6XxyA",
        "vscode": {
          "languageId": "python"
        }
      },
      "outputs": [],
      "source": [
        "warnings.filterwarnings('ignore', category=UserWarning)\n",
        "\n",
        "# Parse arguments\n",
        "conf = configurations['1.1.12.1']\n",
        "\n",
        "#args = parse_arguments()\n",
        "args = argparse.Namespace(**conf)\n",
        "print(args)\n",
        "CONFIG.update(vars(args))\n",
        "\n",
        "# Setup output directory\n",
        "CONFIG.save_dir = os.path.join('record', CONFIG.experiment_name)\n",
        "os.makedirs(CONFIG.save_dir, exist_ok=True)\n",
        "\n",
        "# Setup logging\n",
        "logging.basicConfig(\n",
        "    filename=os.path.join(CONFIG.save_dir, 'log.txt'),\n",
        "    format='%(message)s',\n",
        "    level=logging.INFO,\n",
        "    filemode='a'\n",
        ")\n",
        "\n",
        "# Set experiment's device & deterministic behavior\n",
        "if CONFIG.cpu:\n",
        "    CONFIG.device = 'cpu'\n",
        "else:\n",
        "    CONFIG.device = 'cuda' if torch.cuda.is_available() else 'cpu'\n",
        "\n",
        "torch.manual_seed(CONFIG.seed)\n",
        "random.seed(CONFIG.seed)\n",
        "np.random.seed(CONFIG.seed)\n",
        "torch.backends.cudnn.benchmark = True\n",
        "torch.use_deterministic_algorithms(mode=True, warn_only=True)\n",
        "\n",
        "main()"
      ]
    },
    {
      "cell_type": "markdown",
      "metadata": {
        "id": "V8soSDKtXxyA"
      },
      "source": [
        "##### 1.1.12.2 - Sketch"
      ]
    },
    {
      "cell_type": "code",
      "execution_count": null,
      "metadata": {
        "id": "0GR8gjTfXxyA",
        "vscode": {
          "languageId": "python"
        }
      },
      "outputs": [],
      "source": [
        "warnings.filterwarnings('ignore', category=UserWarning)\n",
        "\n",
        "# Parse arguments\n",
        "conf = configurations['1.1.12.2']\n",
        "\n",
        "#args = parse_arguments()\n",
        "args = argparse.Namespace(**conf)\n",
        "print(args)\n",
        "CONFIG.update(vars(args))\n",
        "\n",
        "# Setup output directory\n",
        "CONFIG.save_dir = os.path.join('record', CONFIG.experiment_name)\n",
        "os.makedirs(CONFIG.save_dir, exist_ok=True)\n",
        "\n",
        "# Setup logging\n",
        "logging.basicConfig(\n",
        "    filename=os.path.join(CONFIG.save_dir, 'log.txt'),\n",
        "    format='%(message)s',\n",
        "    level=logging.INFO,\n",
        "    filemode='a'\n",
        ")\n",
        "\n",
        "# Set experiment's device & deterministic behavior\n",
        "if CONFIG.cpu:\n",
        "    CONFIG.device = 'cpu'\n",
        "else:\n",
        "    CONFIG.device = 'cuda' if torch.cuda.is_available() else 'cpu'\n",
        "\n",
        "torch.manual_seed(CONFIG.seed)\n",
        "random.seed(CONFIG.seed)\n",
        "np.random.seed(CONFIG.seed)\n",
        "torch.backends.cudnn.benchmark = True\n",
        "torch.use_deterministic_algorithms(mode=True, warn_only=True)\n",
        "\n",
        "main()"
      ]
    },
    {
      "cell_type": "markdown",
      "metadata": {
        "id": "uNnZ0OSwXxyA"
      },
      "source": [
        "##### 1.1.12.3 - Photo"
      ]
    },
    {
      "cell_type": "code",
      "execution_count": null,
      "metadata": {
        "id": "s-dHvemGXxyA",
        "vscode": {
          "languageId": "python"
        }
      },
      "outputs": [],
      "source": [
        "warnings.filterwarnings('ignore', category=UserWarning)\n",
        "\n",
        "# Parse arguments\n",
        "conf = configurations['1.1.12.3']\n",
        "\n",
        "#args = parse_arguments()\n",
        "args = argparse.Namespace(**conf)\n",
        "print(args)\n",
        "CONFIG.update(vars(args))\n",
        "\n",
        "# Setup output directory\n",
        "CONFIG.save_dir = os.path.join('record', CONFIG.experiment_name)\n",
        "os.makedirs(CONFIG.save_dir, exist_ok=True)\n",
        "\n",
        "# Setup logging\n",
        "logging.basicConfig(\n",
        "    filename=os.path.join(CONFIG.save_dir, 'log.txt'),\n",
        "    format='%(message)s',\n",
        "    level=logging.INFO,\n",
        "    filemode='a'\n",
        ")\n",
        "\n",
        "# Set experiment's device & deterministic behavior\n",
        "if CONFIG.cpu:\n",
        "    CONFIG.device = 'cpu'\n",
        "else:\n",
        "    CONFIG.device = 'cuda' if torch.cuda.is_available() else 'cpu'\n",
        "\n",
        "torch.manual_seed(CONFIG.seed)\n",
        "random.seed(CONFIG.seed)\n",
        "np.random.seed(CONFIG.seed)\n",
        "torch.backends.cudnn.benchmark = True\n",
        "torch.use_deterministic_algorithms(mode=True, warn_only=True)\n",
        "\n",
        "main()"
      ]
    },
    {
      "cell_type": "markdown",
      "metadata": {
        "id": "h1P4n6ooXxyB"
      },
      "source": [
        "#### 1.1.13 - ASH module after layer2.1.relu"
      ]
    },
    {
      "cell_type": "markdown",
      "metadata": {
        "id": "5t-h1ZwlXxyB"
      },
      "source": [
        "##### 1.1.13.1 - Cartoon"
      ]
    },
    {
      "cell_type": "code",
      "execution_count": null,
      "metadata": {
        "id": "uZIlTeJsXxyB",
        "vscode": {
          "languageId": "python"
        }
      },
      "outputs": [],
      "source": [
        "warnings.filterwarnings('ignore', category=UserWarning)\n",
        "\n",
        "# Parse arguments\n",
        "conf = configurations['1.1.13.1']\n",
        "\n",
        "#args = parse_arguments()\n",
        "args = argparse.Namespace(**conf)\n",
        "print(args)\n",
        "CONFIG.update(vars(args))\n",
        "\n",
        "# Setup output directory\n",
        "CONFIG.save_dir = os.path.join('record', CONFIG.experiment_name)\n",
        "os.makedirs(CONFIG.save_dir, exist_ok=True)\n",
        "\n",
        "# Setup logging\n",
        "logging.basicConfig(\n",
        "    filename=os.path.join(CONFIG.save_dir, 'log.txt'),\n",
        "    format='%(message)s',\n",
        "    level=logging.INFO,\n",
        "    filemode='a'\n",
        ")\n",
        "\n",
        "# Set experiment's device & deterministic behavior\n",
        "if CONFIG.cpu:\n",
        "    CONFIG.device = 'cpu'\n",
        "else:\n",
        "    CONFIG.device = 'cuda' if torch.cuda.is_available() else 'cpu'\n",
        "\n",
        "torch.manual_seed(CONFIG.seed)\n",
        "random.seed(CONFIG.seed)\n",
        "np.random.seed(CONFIG.seed)\n",
        "torch.backends.cudnn.benchmark = True\n",
        "torch.use_deterministic_algorithms(mode=True, warn_only=True)\n",
        "\n",
        "main()"
      ]
    },
    {
      "cell_type": "markdown",
      "metadata": {
        "id": "q56bm2qqXxyC"
      },
      "source": [
        "##### 1.1.13.2 - Sketch"
      ]
    },
    {
      "cell_type": "code",
      "execution_count": null,
      "metadata": {
        "id": "tHx-wjWeXxyC",
        "vscode": {
          "languageId": "python"
        }
      },
      "outputs": [],
      "source": [
        "warnings.filterwarnings('ignore', category=UserWarning)\n",
        "\n",
        "# Parse arguments\n",
        "conf = configurations['1.1.13.2']\n",
        "\n",
        "#args = parse_arguments()\n",
        "args = argparse.Namespace(**conf)\n",
        "print(args)\n",
        "CONFIG.update(vars(args))\n",
        "\n",
        "# Setup output directory\n",
        "CONFIG.save_dir = os.path.join('record', CONFIG.experiment_name)\n",
        "os.makedirs(CONFIG.save_dir, exist_ok=True)\n",
        "\n",
        "# Setup logging\n",
        "logging.basicConfig(\n",
        "    filename=os.path.join(CONFIG.save_dir, 'log.txt'),\n",
        "    format='%(message)s',\n",
        "    level=logging.INFO,\n",
        "    filemode='a'\n",
        ")\n",
        "\n",
        "# Set experiment's device & deterministic behavior\n",
        "if CONFIG.cpu:\n",
        "    CONFIG.device = 'cpu'\n",
        "else:\n",
        "    CONFIG.device = 'cuda' if torch.cuda.is_available() else 'cpu'\n",
        "\n",
        "torch.manual_seed(CONFIG.seed)\n",
        "random.seed(CONFIG.seed)\n",
        "np.random.seed(CONFIG.seed)\n",
        "torch.backends.cudnn.benchmark = True\n",
        "torch.use_deterministic_algorithms(mode=True, warn_only=True)\n",
        "\n",
        "main()"
      ]
    },
    {
      "cell_type": "markdown",
      "metadata": {
        "id": "pvev3tFgXxyC"
      },
      "source": [
        "##### 1.1.13.3 - Photo"
      ]
    },
    {
      "cell_type": "code",
      "execution_count": null,
      "metadata": {
        "id": "YUFz_NH9XxyC",
        "vscode": {
          "languageId": "python"
        }
      },
      "outputs": [],
      "source": [
        "warnings.filterwarnings('ignore', category=UserWarning)\n",
        "\n",
        "# Parse arguments\n",
        "conf = configurations['1.1.13.3']\n",
        "\n",
        "#args = parse_arguments()\n",
        "args = argparse.Namespace(**conf)\n",
        "print(args)\n",
        "CONFIG.update(vars(args))\n",
        "\n",
        "# Setup output directory\n",
        "CONFIG.save_dir = os.path.join('record', CONFIG.experiment_name)\n",
        "os.makedirs(CONFIG.save_dir, exist_ok=True)\n",
        "\n",
        "# Setup logging\n",
        "logging.basicConfig(\n",
        "    filename=os.path.join(CONFIG.save_dir, 'log.txt'),\n",
        "    format='%(message)s',\n",
        "    level=logging.INFO,\n",
        "    filemode='a'\n",
        ")\n",
        "\n",
        "# Set experiment's device & deterministic behavior\n",
        "if CONFIG.cpu:\n",
        "    CONFIG.device = 'cpu'\n",
        "else:\n",
        "    CONFIG.device = 'cuda' if torch.cuda.is_available() else 'cpu'\n",
        "\n",
        "torch.manual_seed(CONFIG.seed)\n",
        "random.seed(CONFIG.seed)\n",
        "np.random.seed(CONFIG.seed)\n",
        "torch.backends.cudnn.benchmark = True\n",
        "torch.use_deterministic_algorithms(mode=True, warn_only=True)\n",
        "\n",
        "main()"
      ]
    },
    {
      "cell_type": "markdown",
      "metadata": {
        "id": "ufA1LMtYXxyC"
      },
      "source": [
        "#### 1.1.14 - ASH module after layer2.1.conv2"
      ]
    },
    {
      "cell_type": "markdown",
      "metadata": {
        "id": "J3GJlYubXxyC"
      },
      "source": [
        "##### 1.1.14.1 - Cartoon"
      ]
    },
    {
      "cell_type": "code",
      "execution_count": null,
      "metadata": {
        "id": "j3aBNb0zXxyC",
        "vscode": {
          "languageId": "python"
        }
      },
      "outputs": [],
      "source": [
        "warnings.filterwarnings('ignore', category=UserWarning)\n",
        "\n",
        "# Parse arguments\n",
        "conf = configurations['1.1.14.1']\n",
        "\n",
        "#args = parse_arguments()\n",
        "args = argparse.Namespace(**conf)\n",
        "print(args)\n",
        "CONFIG.update(vars(args))\n",
        "\n",
        "# Setup output directory\n",
        "CONFIG.save_dir = os.path.join('record', CONFIG.experiment_name)\n",
        "os.makedirs(CONFIG.save_dir, exist_ok=True)\n",
        "\n",
        "# Setup logging\n",
        "logging.basicConfig(\n",
        "    filename=os.path.join(CONFIG.save_dir, 'log.txt'),\n",
        "    format='%(message)s',\n",
        "    level=logging.INFO,\n",
        "    filemode='a'\n",
        ")\n",
        "\n",
        "# Set experiment's device & deterministic behavior\n",
        "if CONFIG.cpu:\n",
        "    CONFIG.device = 'cpu'\n",
        "else:\n",
        "    CONFIG.device = 'cuda' if torch.cuda.is_available() else 'cpu'\n",
        "\n",
        "torch.manual_seed(CONFIG.seed)\n",
        "random.seed(CONFIG.seed)\n",
        "np.random.seed(CONFIG.seed)\n",
        "torch.backends.cudnn.benchmark = True\n",
        "torch.use_deterministic_algorithms(mode=True, warn_only=True)\n",
        "\n",
        "main()"
      ]
    },
    {
      "cell_type": "markdown",
      "metadata": {
        "id": "EsN_yO6ZXxyC"
      },
      "source": [
        "##### 1.1.14.2 - Sketch"
      ]
    },
    {
      "cell_type": "code",
      "execution_count": null,
      "metadata": {
        "id": "tjg-54S6XxyC",
        "vscode": {
          "languageId": "python"
        }
      },
      "outputs": [],
      "source": [
        "warnings.filterwarnings('ignore', category=UserWarning)\n",
        "\n",
        "# Parse arguments\n",
        "conf = configurations['1.1.14.2']\n",
        "\n",
        "#args = parse_arguments()\n",
        "args = argparse.Namespace(**conf)\n",
        "print(args)\n",
        "CONFIG.update(vars(args))\n",
        "\n",
        "# Setup output directory\n",
        "CONFIG.save_dir = os.path.join('record', CONFIG.experiment_name)\n",
        "os.makedirs(CONFIG.save_dir, exist_ok=True)\n",
        "\n",
        "# Setup logging\n",
        "logging.basicConfig(\n",
        "    filename=os.path.join(CONFIG.save_dir, 'log.txt'),\n",
        "    format='%(message)s',\n",
        "    level=logging.INFO,\n",
        "    filemode='a'\n",
        ")\n",
        "\n",
        "# Set experiment's device & deterministic behavior\n",
        "if CONFIG.cpu:\n",
        "    CONFIG.device = 'cpu'\n",
        "else:\n",
        "    CONFIG.device = 'cuda' if torch.cuda.is_available() else 'cpu'\n",
        "\n",
        "torch.manual_seed(CONFIG.seed)\n",
        "random.seed(CONFIG.seed)\n",
        "np.random.seed(CONFIG.seed)\n",
        "torch.backends.cudnn.benchmark = True\n",
        "torch.use_deterministic_algorithms(mode=True, warn_only=True)\n",
        "\n",
        "main()"
      ]
    },
    {
      "cell_type": "markdown",
      "metadata": {
        "id": "rCMSez08XxyC"
      },
      "source": [
        "##### 1.1.14.3 - Photo"
      ]
    },
    {
      "cell_type": "code",
      "execution_count": null,
      "metadata": {
        "id": "xlNnAiRiXxyC",
        "vscode": {
          "languageId": "python"
        }
      },
      "outputs": [],
      "source": [
        "warnings.filterwarnings('ignore', category=UserWarning)\n",
        "\n",
        "# Parse arguments\n",
        "conf = configurations['1.1.14.3']\n",
        "\n",
        "#args = parse_arguments()\n",
        "args = argparse.Namespace(**conf)\n",
        "print(args)\n",
        "CONFIG.update(vars(args))\n",
        "\n",
        "# Setup output directory\n",
        "CONFIG.save_dir = os.path.join('record', CONFIG.experiment_name)\n",
        "os.makedirs(CONFIG.save_dir, exist_ok=True)\n",
        "\n",
        "# Setup logging\n",
        "logging.basicConfig(\n",
        "    filename=os.path.join(CONFIG.save_dir, 'log.txt'),\n",
        "    format='%(message)s',\n",
        "    level=logging.INFO,\n",
        "    filemode='a'\n",
        ")\n",
        "\n",
        "# Set experiment's device & deterministic behavior\n",
        "if CONFIG.cpu:\n",
        "    CONFIG.device = 'cpu'\n",
        "else:\n",
        "    CONFIG.device = 'cuda' if torch.cuda.is_available() else 'cpu'\n",
        "\n",
        "torch.manual_seed(CONFIG.seed)\n",
        "random.seed(CONFIG.seed)\n",
        "np.random.seed(CONFIG.seed)\n",
        "torch.backends.cudnn.benchmark = True\n",
        "torch.use_deterministic_algorithms(mode=True, warn_only=True)\n",
        "\n",
        "main()"
      ]
    },
    {
      "cell_type": "markdown",
      "metadata": {
        "id": "tNdeyK-RXxyC"
      },
      "source": [
        "#### 1.1.15 - ASH module after layer3.0.conv1"
      ]
    },
    {
      "cell_type": "markdown",
      "metadata": {
        "id": "XkF3KefdXxyD"
      },
      "source": [
        "##### 1.1.15.1 - Cartoon"
      ]
    },
    {
      "cell_type": "code",
      "execution_count": null,
      "metadata": {
        "id": "PhM4vzDLXxyE",
        "vscode": {
          "languageId": "python"
        }
      },
      "outputs": [],
      "source": [
        "warnings.filterwarnings('ignore', category=UserWarning)\n",
        "\n",
        "# Parse arguments\n",
        "conf = configurations['1.1.15.1']\n",
        "\n",
        "#args = parse_arguments()\n",
        "args = argparse.Namespace(**conf)\n",
        "print(args)\n",
        "CONFIG.update(vars(args))\n",
        "\n",
        "# Setup output directory\n",
        "CONFIG.save_dir = os.path.join('record', CONFIG.experiment_name)\n",
        "os.makedirs(CONFIG.save_dir, exist_ok=True)\n",
        "\n",
        "# Setup logging\n",
        "logging.basicConfig(\n",
        "    filename=os.path.join(CONFIG.save_dir, 'log.txt'),\n",
        "    format='%(message)s',\n",
        "    level=logging.INFO,\n",
        "    filemode='a'\n",
        ")\n",
        "\n",
        "# Set experiment's device & deterministic behavior\n",
        "if CONFIG.cpu:\n",
        "    CONFIG.device = 'cpu'\n",
        "else:\n",
        "    CONFIG.device = 'cuda' if torch.cuda.is_available() else 'cpu'\n",
        "\n",
        "torch.manual_seed(CONFIG.seed)\n",
        "random.seed(CONFIG.seed)\n",
        "np.random.seed(CONFIG.seed)\n",
        "torch.backends.cudnn.benchmark = True\n",
        "torch.use_deterministic_algorithms(mode=True, warn_only=True)\n",
        "\n",
        "main()"
      ]
    },
    {
      "cell_type": "markdown",
      "metadata": {
        "id": "GJnIAoRdXxyE"
      },
      "source": [
        "##### 1.1.15.2 - Sketch"
      ]
    },
    {
      "cell_type": "code",
      "execution_count": null,
      "metadata": {
        "id": "qUPb9CIOXxyE",
        "vscode": {
          "languageId": "python"
        }
      },
      "outputs": [],
      "source": [
        "warnings.filterwarnings('ignore', category=UserWarning)\n",
        "\n",
        "# Parse arguments\n",
        "conf = configurations['1.1.15.2']\n",
        "\n",
        "#args = parse_arguments()\n",
        "args = argparse.Namespace(**conf)\n",
        "print(args)\n",
        "CONFIG.update(vars(args))\n",
        "\n",
        "# Setup output directory\n",
        "CONFIG.save_dir = os.path.join('record', CONFIG.experiment_name)\n",
        "os.makedirs(CONFIG.save_dir, exist_ok=True)\n",
        "\n",
        "# Setup logging\n",
        "logging.basicConfig(\n",
        "    filename=os.path.join(CONFIG.save_dir, 'log.txt'),\n",
        "    format='%(message)s',\n",
        "    level=logging.INFO,\n",
        "    filemode='a'\n",
        ")\n",
        "\n",
        "# Set experiment's device & deterministic behavior\n",
        "if CONFIG.cpu:\n",
        "    CONFIG.device = 'cpu'\n",
        "else:\n",
        "    CONFIG.device = 'cuda' if torch.cuda.is_available() else 'cpu'\n",
        "\n",
        "torch.manual_seed(CONFIG.seed)\n",
        "random.seed(CONFIG.seed)\n",
        "np.random.seed(CONFIG.seed)\n",
        "torch.backends.cudnn.benchmark = True\n",
        "torch.use_deterministic_algorithms(mode=True, warn_only=True)\n",
        "\n",
        "main()"
      ]
    },
    {
      "cell_type": "markdown",
      "metadata": {
        "id": "uofshYpEXxyE"
      },
      "source": [
        "##### 1.1.15.3 - Photo"
      ]
    },
    {
      "cell_type": "code",
      "execution_count": null,
      "metadata": {
        "id": "fPmpULTqXxyE",
        "vscode": {
          "languageId": "python"
        }
      },
      "outputs": [],
      "source": [
        "warnings.filterwarnings('ignore', category=UserWarning)\n",
        "\n",
        "# Parse arguments\n",
        "conf = configurations['1.1.15.3']\n",
        "\n",
        "#args = parse_arguments()\n",
        "args = argparse.Namespace(**conf)\n",
        "print(args)\n",
        "CONFIG.update(vars(args))\n",
        "\n",
        "# Setup output directory\n",
        "CONFIG.save_dir = os.path.join('record', CONFIG.experiment_name)\n",
        "os.makedirs(CONFIG.save_dir, exist_ok=True)\n",
        "\n",
        "# Setup logging\n",
        "logging.basicConfig(\n",
        "    filename=os.path.join(CONFIG.save_dir, 'log.txt'),\n",
        "    format='%(message)s',\n",
        "    level=logging.INFO,\n",
        "    filemode='a'\n",
        ")\n",
        "\n",
        "# Set experiment's device & deterministic behavior\n",
        "if CONFIG.cpu:\n",
        "    CONFIG.device = 'cpu'\n",
        "else:\n",
        "    CONFIG.device = 'cuda' if torch.cuda.is_available() else 'cpu'\n",
        "\n",
        "torch.manual_seed(CONFIG.seed)\n",
        "random.seed(CONFIG.seed)\n",
        "np.random.seed(CONFIG.seed)\n",
        "torch.backends.cudnn.benchmark = True\n",
        "torch.use_deterministic_algorithms(mode=True, warn_only=True)\n",
        "\n",
        "main()"
      ]
    },
    {
      "cell_type": "markdown",
      "metadata": {
        "id": "0FMQXcKXXxyE"
      },
      "source": [
        "#### 1.1.16 - ASH module after layer3.0.relu"
      ]
    },
    {
      "cell_type": "markdown",
      "metadata": {
        "id": "3jWes4uxXxyE"
      },
      "source": [
        "##### 1.1.16.1 - Cartoon"
      ]
    },
    {
      "cell_type": "code",
      "execution_count": null,
      "metadata": {
        "id": "OYzojC2IXxyE",
        "vscode": {
          "languageId": "python"
        }
      },
      "outputs": [],
      "source": [
        "warnings.filterwarnings('ignore', category=UserWarning)\n",
        "\n",
        "# Parse arguments\n",
        "conf = configurations['1.1.16.1']\n",
        "\n",
        "#args = parse_arguments()\n",
        "args = argparse.Namespace(**conf)\n",
        "print(args)\n",
        "CONFIG.update(vars(args))\n",
        "\n",
        "# Setup output directory\n",
        "CONFIG.save_dir = os.path.join('record', CONFIG.experiment_name)\n",
        "os.makedirs(CONFIG.save_dir, exist_ok=True)\n",
        "\n",
        "# Setup logging\n",
        "logging.basicConfig(\n",
        "    filename=os.path.join(CONFIG.save_dir, 'log.txt'),\n",
        "    format='%(message)s',\n",
        "    level=logging.INFO,\n",
        "    filemode='a'\n",
        ")\n",
        "\n",
        "# Set experiment's device & deterministic behavior\n",
        "if CONFIG.cpu:\n",
        "    CONFIG.device = 'cpu'\n",
        "else:\n",
        "    CONFIG.device = 'cuda' if torch.cuda.is_available() else 'cpu'\n",
        "\n",
        "torch.manual_seed(CONFIG.seed)\n",
        "random.seed(CONFIG.seed)\n",
        "np.random.seed(CONFIG.seed)\n",
        "torch.backends.cudnn.benchmark = True\n",
        "torch.use_deterministic_algorithms(mode=True, warn_only=True)\n",
        "\n",
        "main()"
      ]
    },
    {
      "cell_type": "markdown",
      "metadata": {
        "id": "XRTT4VTpXxyF"
      },
      "source": [
        "##### 1.1.16.2 - Sketch"
      ]
    },
    {
      "cell_type": "code",
      "execution_count": null,
      "metadata": {
        "id": "gOfAANgNXxyF",
        "vscode": {
          "languageId": "python"
        }
      },
      "outputs": [],
      "source": [
        "warnings.filterwarnings('ignore', category=UserWarning)\n",
        "\n",
        "# Parse arguments\n",
        "conf = configurations['1.1.16.2']\n",
        "\n",
        "#args = parse_arguments()\n",
        "args = argparse.Namespace(**conf)\n",
        "print(args)\n",
        "CONFIG.update(vars(args))\n",
        "\n",
        "# Setup output directory\n",
        "CONFIG.save_dir = os.path.join('record', CONFIG.experiment_name)\n",
        "os.makedirs(CONFIG.save_dir, exist_ok=True)\n",
        "\n",
        "# Setup logging\n",
        "logging.basicConfig(\n",
        "    filename=os.path.join(CONFIG.save_dir, 'log.txt'),\n",
        "    format='%(message)s',\n",
        "    level=logging.INFO,\n",
        "    filemode='a'\n",
        ")\n",
        "\n",
        "# Set experiment's device & deterministic behavior\n",
        "if CONFIG.cpu:\n",
        "    CONFIG.device = 'cpu'\n",
        "else:\n",
        "    CONFIG.device = 'cuda' if torch.cuda.is_available() else 'cpu'\n",
        "\n",
        "torch.manual_seed(CONFIG.seed)\n",
        "random.seed(CONFIG.seed)\n",
        "np.random.seed(CONFIG.seed)\n",
        "torch.backends.cudnn.benchmark = True\n",
        "torch.use_deterministic_algorithms(mode=True, warn_only=True)\n",
        "\n",
        "main()"
      ]
    },
    {
      "cell_type": "markdown",
      "metadata": {
        "id": "BcXwuNi0XxyF"
      },
      "source": [
        "##### 1.1.16.3 - Photo"
      ]
    },
    {
      "cell_type": "code",
      "execution_count": null,
      "metadata": {
        "id": "zmo11O1HXxyF",
        "vscode": {
          "languageId": "python"
        }
      },
      "outputs": [],
      "source": [
        "warnings.filterwarnings('ignore', category=UserWarning)\n",
        "\n",
        "# Parse arguments\n",
        "conf = configurations['1.1.16.3']\n",
        "\n",
        "#args = parse_arguments()\n",
        "args = argparse.Namespace(**conf)\n",
        "print(args)\n",
        "CONFIG.update(vars(args))\n",
        "\n",
        "# Setup output directory\n",
        "CONFIG.save_dir = os.path.join('record', CONFIG.experiment_name)\n",
        "os.makedirs(CONFIG.save_dir, exist_ok=True)\n",
        "\n",
        "# Setup logging\n",
        "logging.basicConfig(\n",
        "    filename=os.path.join(CONFIG.save_dir, 'log.txt'),\n",
        "    format='%(message)s',\n",
        "    level=logging.INFO,\n",
        "    filemode='a'\n",
        ")\n",
        "\n",
        "# Set experiment's device & deterministic behavior\n",
        "if CONFIG.cpu:\n",
        "    CONFIG.device = 'cpu'\n",
        "else:\n",
        "    CONFIG.device = 'cuda' if torch.cuda.is_available() else 'cpu'\n",
        "\n",
        "torch.manual_seed(CONFIG.seed)\n",
        "random.seed(CONFIG.seed)\n",
        "np.random.seed(CONFIG.seed)\n",
        "torch.backends.cudnn.benchmark = True\n",
        "torch.use_deterministic_algorithms(mode=True, warn_only=True)\n",
        "\n",
        "main()"
      ]
    },
    {
      "cell_type": "markdown",
      "metadata": {
        "id": "OIB3wdsZYJek"
      },
      "source": [
        "#### 1.1.17 - ASH module after layer3.0.conv2"
      ]
    },
    {
      "cell_type": "markdown",
      "metadata": {
        "id": "TWkgaAyYYJek"
      },
      "source": [
        "##### 1.1.17.1 - Cartoon"
      ]
    },
    {
      "cell_type": "code",
      "execution_count": null,
      "metadata": {
        "vscode": {
          "languageId": "python"
        },
        "id": "CSsZOI_EYJek"
      },
      "outputs": [],
      "source": [
        "warnings.filterwarnings('ignore', category=UserWarning)\n",
        "\n",
        "# Parse arguments\n",
        "conf = configurations['1.1.17.1']\n",
        "\n",
        "#args = parse_arguments()\n",
        "args = argparse.Namespace(**conf)\n",
        "print(args)\n",
        "CONFIG.update(vars(args))\n",
        "\n",
        "# Setup output directory\n",
        "CONFIG.save_dir = os.path.join('record', CONFIG.experiment_name)\n",
        "os.makedirs(CONFIG.save_dir, exist_ok=True)\n",
        "\n",
        "# Setup logging\n",
        "logging.basicConfig(\n",
        "    filename=os.path.join(CONFIG.save_dir, 'log.txt'),\n",
        "    format='%(message)s',\n",
        "    level=logging.INFO,\n",
        "    filemode='a'\n",
        ")\n",
        "\n",
        "# Set experiment's device & deterministic behavior\n",
        "if CONFIG.cpu:\n",
        "    CONFIG.device = 'cpu'\n",
        "else:\n",
        "    CONFIG.device = 'cuda' if torch.cuda.is_available() else 'cpu'\n",
        "\n",
        "torch.manual_seed(CONFIG.seed)\n",
        "random.seed(CONFIG.seed)\n",
        "np.random.seed(CONFIG.seed)\n",
        "torch.backends.cudnn.benchmark = True\n",
        "torch.use_deterministic_algorithms(mode=True, warn_only=True)\n",
        "\n",
        "main()"
      ]
    },
    {
      "cell_type": "markdown",
      "metadata": {
        "id": "sgJHyXa-YJel"
      },
      "source": [
        "##### 1.1.17.2 - Sketch"
      ]
    },
    {
      "cell_type": "code",
      "execution_count": null,
      "metadata": {
        "vscode": {
          "languageId": "python"
        },
        "id": "PNCauhn8YJel"
      },
      "outputs": [],
      "source": [
        "warnings.filterwarnings('ignore', category=UserWarning)\n",
        "\n",
        "# Parse arguments\n",
        "conf = configurations['1.1.17.2']\n",
        "\n",
        "#args = parse_arguments()\n",
        "args = argparse.Namespace(**conf)\n",
        "print(args)\n",
        "CONFIG.update(vars(args))\n",
        "\n",
        "# Setup output directory\n",
        "CONFIG.save_dir = os.path.join('record', CONFIG.experiment_name)\n",
        "os.makedirs(CONFIG.save_dir, exist_ok=True)\n",
        "\n",
        "# Setup logging\n",
        "logging.basicConfig(\n",
        "    filename=os.path.join(CONFIG.save_dir, 'log.txt'),\n",
        "    format='%(message)s',\n",
        "    level=logging.INFO,\n",
        "    filemode='a'\n",
        ")\n",
        "\n",
        "# Set experiment's device & deterministic behavior\n",
        "if CONFIG.cpu:\n",
        "    CONFIG.device = 'cpu'\n",
        "else:\n",
        "    CONFIG.device = 'cuda' if torch.cuda.is_available() else 'cpu'\n",
        "\n",
        "torch.manual_seed(CONFIG.seed)\n",
        "random.seed(CONFIG.seed)\n",
        "np.random.seed(CONFIG.seed)\n",
        "torch.backends.cudnn.benchmark = True\n",
        "torch.use_deterministic_algorithms(mode=True, warn_only=True)\n",
        "\n",
        "main()"
      ]
    },
    {
      "cell_type": "markdown",
      "metadata": {
        "id": "OupDJLSDYJel"
      },
      "source": [
        "##### 1.1.17.3 - Photo"
      ]
    },
    {
      "cell_type": "code",
      "execution_count": null,
      "metadata": {
        "vscode": {
          "languageId": "python"
        },
        "id": "DH75lF3HYJel"
      },
      "outputs": [],
      "source": [
        "warnings.filterwarnings('ignore', category=UserWarning)\n",
        "\n",
        "# Parse arguments\n",
        "conf = configurations['1.1.17.3']\n",
        "\n",
        "#args = parse_arguments()\n",
        "args = argparse.Namespace(**conf)\n",
        "print(args)\n",
        "CONFIG.update(vars(args))\n",
        "\n",
        "# Setup output directory\n",
        "CONFIG.save_dir = os.path.join('record', CONFIG.experiment_name)\n",
        "os.makedirs(CONFIG.save_dir, exist_ok=True)\n",
        "\n",
        "# Setup logging\n",
        "logging.basicConfig(\n",
        "    filename=os.path.join(CONFIG.save_dir, 'log.txt'),\n",
        "    format='%(message)s',\n",
        "    level=logging.INFO,\n",
        "    filemode='a'\n",
        ")\n",
        "\n",
        "# Set experiment's device & deterministic behavior\n",
        "if CONFIG.cpu:\n",
        "    CONFIG.device = 'cpu'\n",
        "else:\n",
        "    CONFIG.device = 'cuda' if torch.cuda.is_available() else 'cpu'\n",
        "\n",
        "torch.manual_seed(CONFIG.seed)\n",
        "random.seed(CONFIG.seed)\n",
        "np.random.seed(CONFIG.seed)\n",
        "torch.backends.cudnn.benchmark = True\n",
        "torch.use_deterministic_algorithms(mode=True, warn_only=True)\n",
        "\n",
        "main()"
      ]
    },
    {
      "cell_type": "markdown",
      "metadata": {
        "id": "ffOfg0z8YJel"
      },
      "source": [
        "#### 1.1.18 - ASH module after layer3.1.conv1"
      ]
    },
    {
      "cell_type": "markdown",
      "metadata": {
        "id": "_0V4DMW_YJel"
      },
      "source": [
        "##### 1.1.18.1 - Cartoon"
      ]
    },
    {
      "cell_type": "code",
      "execution_count": null,
      "metadata": {
        "vscode": {
          "languageId": "python"
        },
        "id": "lmxnICmdYJel"
      },
      "outputs": [],
      "source": [
        "warnings.filterwarnings('ignore', category=UserWarning)\n",
        "\n",
        "# Parse arguments\n",
        "conf = configurations['1.1.18.1']\n",
        "\n",
        "#args = parse_arguments()\n",
        "args = argparse.Namespace(**conf)\n",
        "print(args)\n",
        "CONFIG.update(vars(args))\n",
        "\n",
        "# Setup output directory\n",
        "CONFIG.save_dir = os.path.join('record', CONFIG.experiment_name)\n",
        "os.makedirs(CONFIG.save_dir, exist_ok=True)\n",
        "\n",
        "# Setup logging\n",
        "logging.basicConfig(\n",
        "    filename=os.path.join(CONFIG.save_dir, 'log.txt'),\n",
        "    format='%(message)s',\n",
        "    level=logging.INFO,\n",
        "    filemode='a'\n",
        ")\n",
        "\n",
        "# Set experiment's device & deterministic behavior\n",
        "if CONFIG.cpu:\n",
        "    CONFIG.device = 'cpu'\n",
        "else:\n",
        "    CONFIG.device = 'cuda' if torch.cuda.is_available() else 'cpu'\n",
        "\n",
        "torch.manual_seed(CONFIG.seed)\n",
        "random.seed(CONFIG.seed)\n",
        "np.random.seed(CONFIG.seed)\n",
        "torch.backends.cudnn.benchmark = True\n",
        "torch.use_deterministic_algorithms(mode=True, warn_only=True)\n",
        "\n",
        "main()"
      ]
    },
    {
      "cell_type": "markdown",
      "metadata": {
        "id": "BNqnztJuYJem"
      },
      "source": [
        "##### 1.1.18.2 - Sketch"
      ]
    },
    {
      "cell_type": "code",
      "execution_count": null,
      "metadata": {
        "vscode": {
          "languageId": "python"
        },
        "id": "IjNdc5SoYJem"
      },
      "outputs": [],
      "source": [
        "warnings.filterwarnings('ignore', category=UserWarning)\n",
        "\n",
        "# Parse arguments\n",
        "conf = configurations['1.1.18.2']\n",
        "\n",
        "#args = parse_arguments()\n",
        "args = argparse.Namespace(**conf)\n",
        "print(args)\n",
        "CONFIG.update(vars(args))\n",
        "\n",
        "# Setup output directory\n",
        "CONFIG.save_dir = os.path.join('record', CONFIG.experiment_name)\n",
        "os.makedirs(CONFIG.save_dir, exist_ok=True)\n",
        "\n",
        "# Setup logging\n",
        "logging.basicConfig(\n",
        "    filename=os.path.join(CONFIG.save_dir, 'log.txt'),\n",
        "    format='%(message)s',\n",
        "    level=logging.INFO,\n",
        "    filemode='a'\n",
        ")\n",
        "\n",
        "# Set experiment's device & deterministic behavior\n",
        "if CONFIG.cpu:\n",
        "    CONFIG.device = 'cpu'\n",
        "else:\n",
        "    CONFIG.device = 'cuda' if torch.cuda.is_available() else 'cpu'\n",
        "\n",
        "torch.manual_seed(CONFIG.seed)\n",
        "random.seed(CONFIG.seed)\n",
        "np.random.seed(CONFIG.seed)\n",
        "torch.backends.cudnn.benchmark = True\n",
        "torch.use_deterministic_algorithms(mode=True, warn_only=True)\n",
        "\n",
        "main()"
      ]
    },
    {
      "cell_type": "markdown",
      "metadata": {
        "id": "rSSCZRRPYJem"
      },
      "source": [
        "##### 1.1.18.3 - Photo"
      ]
    },
    {
      "cell_type": "code",
      "execution_count": null,
      "metadata": {
        "vscode": {
          "languageId": "python"
        },
        "id": "vm9O2HbbYJen"
      },
      "outputs": [],
      "source": [
        "warnings.filterwarnings('ignore', category=UserWarning)\n",
        "\n",
        "# Parse arguments\n",
        "conf = configurations['1.1.18.3']\n",
        "\n",
        "#args = parse_arguments()\n",
        "args = argparse.Namespace(**conf)\n",
        "print(args)\n",
        "CONFIG.update(vars(args))\n",
        "\n",
        "# Setup output directory\n",
        "CONFIG.save_dir = os.path.join('record', CONFIG.experiment_name)\n",
        "os.makedirs(CONFIG.save_dir, exist_ok=True)\n",
        "\n",
        "# Setup logging\n",
        "logging.basicConfig(\n",
        "    filename=os.path.join(CONFIG.save_dir, 'log.txt'),\n",
        "    format='%(message)s',\n",
        "    level=logging.INFO,\n",
        "    filemode='a'\n",
        ")\n",
        "\n",
        "# Set experiment's device & deterministic behavior\n",
        "if CONFIG.cpu:\n",
        "    CONFIG.device = 'cpu'\n",
        "else:\n",
        "    CONFIG.device = 'cuda' if torch.cuda.is_available() else 'cpu'\n",
        "\n",
        "torch.manual_seed(CONFIG.seed)\n",
        "random.seed(CONFIG.seed)\n",
        "np.random.seed(CONFIG.seed)\n",
        "torch.backends.cudnn.benchmark = True\n",
        "torch.use_deterministic_algorithms(mode=True, warn_only=True)\n",
        "\n",
        "main()"
      ]
    },
    {
      "cell_type": "markdown",
      "metadata": {
        "id": "tTWNpdHlYJen"
      },
      "source": [
        "#### 1.1.19 - ASH module after layer3.1.relu"
      ]
    },
    {
      "cell_type": "markdown",
      "metadata": {
        "id": "lMQzTYwdYJen"
      },
      "source": [
        "##### 1.1.19.1 - Cartoon"
      ]
    },
    {
      "cell_type": "code",
      "execution_count": null,
      "metadata": {
        "vscode": {
          "languageId": "python"
        },
        "id": "8BlwEhzJYJen"
      },
      "outputs": [],
      "source": [
        "warnings.filterwarnings('ignore', category=UserWarning)\n",
        "\n",
        "# Parse arguments\n",
        "conf = configurations['1.1.19.1']\n",
        "\n",
        "#args = parse_arguments()\n",
        "args = argparse.Namespace(**conf)\n",
        "print(args)\n",
        "CONFIG.update(vars(args))\n",
        "\n",
        "# Setup output directory\n",
        "CONFIG.save_dir = os.path.join('record', CONFIG.experiment_name)\n",
        "os.makedirs(CONFIG.save_dir, exist_ok=True)\n",
        "\n",
        "# Setup logging\n",
        "logging.basicConfig(\n",
        "    filename=os.path.join(CONFIG.save_dir, 'log.txt'),\n",
        "    format='%(message)s',\n",
        "    level=logging.INFO,\n",
        "    filemode='a'\n",
        ")\n",
        "\n",
        "# Set experiment's device & deterministic behavior\n",
        "if CONFIG.cpu:\n",
        "    CONFIG.device = 'cpu'\n",
        "else:\n",
        "    CONFIG.device = 'cuda' if torch.cuda.is_available() else 'cpu'\n",
        "\n",
        "torch.manual_seed(CONFIG.seed)\n",
        "random.seed(CONFIG.seed)\n",
        "np.random.seed(CONFIG.seed)\n",
        "torch.backends.cudnn.benchmark = True\n",
        "torch.use_deterministic_algorithms(mode=True, warn_only=True)\n",
        "\n",
        "main()"
      ]
    },
    {
      "cell_type": "markdown",
      "metadata": {
        "id": "jRObn71lYJen"
      },
      "source": [
        "##### 1.1.19.2 - Sketch"
      ]
    },
    {
      "cell_type": "code",
      "execution_count": null,
      "metadata": {
        "vscode": {
          "languageId": "python"
        },
        "id": "H4bLnr3gYJen"
      },
      "outputs": [],
      "source": [
        "warnings.filterwarnings('ignore', category=UserWarning)\n",
        "\n",
        "# Parse arguments\n",
        "conf = configurations['1.1.19.2']\n",
        "\n",
        "#args = parse_arguments()\n",
        "args = argparse.Namespace(**conf)\n",
        "print(args)\n",
        "CONFIG.update(vars(args))\n",
        "\n",
        "# Setup output directory\n",
        "CONFIG.save_dir = os.path.join('record', CONFIG.experiment_name)\n",
        "os.makedirs(CONFIG.save_dir, exist_ok=True)\n",
        "\n",
        "# Setup logging\n",
        "logging.basicConfig(\n",
        "    filename=os.path.join(CONFIG.save_dir, 'log.txt'),\n",
        "    format='%(message)s',\n",
        "    level=logging.INFO,\n",
        "    filemode='a'\n",
        ")\n",
        "\n",
        "# Set experiment's device & deterministic behavior\n",
        "if CONFIG.cpu:\n",
        "    CONFIG.device = 'cpu'\n",
        "else:\n",
        "    CONFIG.device = 'cuda' if torch.cuda.is_available() else 'cpu'\n",
        "\n",
        "torch.manual_seed(CONFIG.seed)\n",
        "random.seed(CONFIG.seed)\n",
        "np.random.seed(CONFIG.seed)\n",
        "torch.backends.cudnn.benchmark = True\n",
        "torch.use_deterministic_algorithms(mode=True, warn_only=True)\n",
        "\n",
        "main()"
      ]
    },
    {
      "cell_type": "markdown",
      "metadata": {
        "id": "8HX4AIFvYJeo"
      },
      "source": [
        "##### 1.1.19.3 - Photo"
      ]
    },
    {
      "cell_type": "code",
      "execution_count": null,
      "metadata": {
        "vscode": {
          "languageId": "python"
        },
        "id": "7amOj96mYJeo"
      },
      "outputs": [],
      "source": [
        "warnings.filterwarnings('ignore', category=UserWarning)\n",
        "\n",
        "# Parse arguments\n",
        "conf = configurations['1.1.19.3']\n",
        "\n",
        "#args = parse_arguments()\n",
        "args = argparse.Namespace(**conf)\n",
        "print(args)\n",
        "CONFIG.update(vars(args))\n",
        "\n",
        "# Setup output directory\n",
        "CONFIG.save_dir = os.path.join('record', CONFIG.experiment_name)\n",
        "os.makedirs(CONFIG.save_dir, exist_ok=True)\n",
        "\n",
        "# Setup logging\n",
        "logging.basicConfig(\n",
        "    filename=os.path.join(CONFIG.save_dir, 'log.txt'),\n",
        "    format='%(message)s',\n",
        "    level=logging.INFO,\n",
        "    filemode='a'\n",
        ")\n",
        "\n",
        "# Set experiment's device & deterministic behavior\n",
        "if CONFIG.cpu:\n",
        "    CONFIG.device = 'cpu'\n",
        "else:\n",
        "    CONFIG.device = 'cuda' if torch.cuda.is_available() else 'cpu'\n",
        "\n",
        "torch.manual_seed(CONFIG.seed)\n",
        "random.seed(CONFIG.seed)\n",
        "np.random.seed(CONFIG.seed)\n",
        "torch.backends.cudnn.benchmark = True\n",
        "torch.use_deterministic_algorithms(mode=True, warn_only=True)\n",
        "\n",
        "main()"
      ]
    },
    {
      "cell_type": "markdown",
      "metadata": {
        "id": "ZazpOiZdYJeo"
      },
      "source": [
        "#### 1.1.20 - ASH module after layer3.1.conv2"
      ]
    },
    {
      "cell_type": "markdown",
      "metadata": {
        "id": "CZ462BOsYJeo"
      },
      "source": [
        "##### 1.1.20.1 - Cartoon"
      ]
    },
    {
      "cell_type": "code",
      "execution_count": null,
      "metadata": {
        "vscode": {
          "languageId": "python"
        },
        "id": "F31G4gL6YJeo"
      },
      "outputs": [],
      "source": [
        "warnings.filterwarnings('ignore', category=UserWarning)\n",
        "\n",
        "# Parse arguments\n",
        "conf = configurations['1.1.20.1']\n",
        "\n",
        "#args = parse_arguments()\n",
        "args = argparse.Namespace(**conf)\n",
        "print(args)\n",
        "CONFIG.update(vars(args))\n",
        "\n",
        "# Setup output directory\n",
        "CONFIG.save_dir = os.path.join('record', CONFIG.experiment_name)\n",
        "os.makedirs(CONFIG.save_dir, exist_ok=True)\n",
        "\n",
        "# Setup logging\n",
        "logging.basicConfig(\n",
        "    filename=os.path.join(CONFIG.save_dir, 'log.txt'),\n",
        "    format='%(message)s',\n",
        "    level=logging.INFO,\n",
        "    filemode='a'\n",
        ")\n",
        "\n",
        "# Set experiment's device & deterministic behavior\n",
        "if CONFIG.cpu:\n",
        "    CONFIG.device = 'cpu'\n",
        "else:\n",
        "    CONFIG.device = 'cuda' if torch.cuda.is_available() else 'cpu'\n",
        "\n",
        "torch.manual_seed(CONFIG.seed)\n",
        "random.seed(CONFIG.seed)\n",
        "np.random.seed(CONFIG.seed)\n",
        "torch.backends.cudnn.benchmark = True\n",
        "torch.use_deterministic_algorithms(mode=True, warn_only=True)\n",
        "\n",
        "main()"
      ]
    },
    {
      "cell_type": "markdown",
      "metadata": {
        "id": "lcKmT7p1YJeo"
      },
      "source": [
        "##### 1.1.20.2 - Sketch"
      ]
    },
    {
      "cell_type": "code",
      "execution_count": null,
      "metadata": {
        "vscode": {
          "languageId": "python"
        },
        "id": "ElbQ_LlDYJeo"
      },
      "outputs": [],
      "source": [
        "warnings.filterwarnings('ignore', category=UserWarning)\n",
        "\n",
        "# Parse arguments\n",
        "conf = configurations['1.1.20.2']\n",
        "\n",
        "#args = parse_arguments()\n",
        "args = argparse.Namespace(**conf)\n",
        "print(args)\n",
        "CONFIG.update(vars(args))\n",
        "\n",
        "# Setup output directory\n",
        "CONFIG.save_dir = os.path.join('record', CONFIG.experiment_name)\n",
        "os.makedirs(CONFIG.save_dir, exist_ok=True)\n",
        "\n",
        "# Setup logging\n",
        "logging.basicConfig(\n",
        "    filename=os.path.join(CONFIG.save_dir, 'log.txt'),\n",
        "    format='%(message)s',\n",
        "    level=logging.INFO,\n",
        "    filemode='a'\n",
        ")\n",
        "\n",
        "# Set experiment's device & deterministic behavior\n",
        "if CONFIG.cpu:\n",
        "    CONFIG.device = 'cpu'\n",
        "else:\n",
        "    CONFIG.device = 'cuda' if torch.cuda.is_available() else 'cpu'\n",
        "\n",
        "torch.manual_seed(CONFIG.seed)\n",
        "random.seed(CONFIG.seed)\n",
        "np.random.seed(CONFIG.seed)\n",
        "torch.backends.cudnn.benchmark = True\n",
        "torch.use_deterministic_algorithms(mode=True, warn_only=True)\n",
        "\n",
        "main()"
      ]
    },
    {
      "cell_type": "markdown",
      "metadata": {
        "id": "Vx3ejHVqYJeo"
      },
      "source": [
        "##### 1.1.20.3 - Photo"
      ]
    },
    {
      "cell_type": "code",
      "execution_count": null,
      "metadata": {
        "vscode": {
          "languageId": "python"
        },
        "id": "ZLNojJH3YJeo"
      },
      "outputs": [],
      "source": [
        "warnings.filterwarnings('ignore', category=UserWarning)\n",
        "\n",
        "# Parse arguments\n",
        "conf = configurations['1.1.20.3']\n",
        "\n",
        "#args = parse_arguments()\n",
        "args = argparse.Namespace(**conf)\n",
        "print(args)\n",
        "CONFIG.update(vars(args))\n",
        "\n",
        "# Setup output directory\n",
        "CONFIG.save_dir = os.path.join('record', CONFIG.experiment_name)\n",
        "os.makedirs(CONFIG.save_dir, exist_ok=True)\n",
        "\n",
        "# Setup logging\n",
        "logging.basicConfig(\n",
        "    filename=os.path.join(CONFIG.save_dir, 'log.txt'),\n",
        "    format='%(message)s',\n",
        "    level=logging.INFO,\n",
        "    filemode='a'\n",
        ")\n",
        "\n",
        "# Set experiment's device & deterministic behavior\n",
        "if CONFIG.cpu:\n",
        "    CONFIG.device = 'cpu'\n",
        "else:\n",
        "    CONFIG.device = 'cuda' if torch.cuda.is_available() else 'cpu'\n",
        "\n",
        "torch.manual_seed(CONFIG.seed)\n",
        "random.seed(CONFIG.seed)\n",
        "np.random.seed(CONFIG.seed)\n",
        "torch.backends.cudnn.benchmark = True\n",
        "torch.use_deterministic_algorithms(mode=True, warn_only=True)\n",
        "\n",
        "main()"
      ]
    },
    {
      "cell_type": "markdown",
      "metadata": {
        "id": "3toL7ARiYJeo"
      },
      "source": [
        "#### 1.1.21 - ASH module after layer4.0.conv1"
      ]
    },
    {
      "cell_type": "markdown",
      "metadata": {
        "id": "__gSKegeYJeo"
      },
      "source": [
        "##### 1.1.21.1 - Cartoon"
      ]
    },
    {
      "cell_type": "code",
      "execution_count": null,
      "metadata": {
        "vscode": {
          "languageId": "python"
        },
        "id": "fkee5IrpYJeo"
      },
      "outputs": [],
      "source": [
        "warnings.filterwarnings('ignore', category=UserWarning)\n",
        "\n",
        "# Parse arguments\n",
        "conf = configurations['1.1.21.1']\n",
        "\n",
        "#args = parse_arguments()\n",
        "args = argparse.Namespace(**conf)\n",
        "print(args)\n",
        "CONFIG.update(vars(args))\n",
        "\n",
        "# Setup output directory\n",
        "CONFIG.save_dir = os.path.join('record', CONFIG.experiment_name)\n",
        "os.makedirs(CONFIG.save_dir, exist_ok=True)\n",
        "\n",
        "# Setup logging\n",
        "logging.basicConfig(\n",
        "    filename=os.path.join(CONFIG.save_dir, 'log.txt'),\n",
        "    format='%(message)s',\n",
        "    level=logging.INFO,\n",
        "    filemode='a'\n",
        ")\n",
        "\n",
        "# Set experiment's device & deterministic behavior\n",
        "if CONFIG.cpu:\n",
        "    CONFIG.device = 'cpu'\n",
        "else:\n",
        "    CONFIG.device = 'cuda' if torch.cuda.is_available() else 'cpu'\n",
        "\n",
        "torch.manual_seed(CONFIG.seed)\n",
        "random.seed(CONFIG.seed)\n",
        "np.random.seed(CONFIG.seed)\n",
        "torch.backends.cudnn.benchmark = True\n",
        "torch.use_deterministic_algorithms(mode=True, warn_only=True)\n",
        "\n",
        "main()"
      ]
    },
    {
      "cell_type": "markdown",
      "metadata": {
        "id": "LFPqv-SPYJep"
      },
      "source": [
        "##### 1.1.21.2 - Sketch"
      ]
    },
    {
      "cell_type": "code",
      "execution_count": null,
      "metadata": {
        "vscode": {
          "languageId": "python"
        },
        "id": "sWW6B4-fYJeq"
      },
      "outputs": [],
      "source": [
        "warnings.filterwarnings('ignore', category=UserWarning)\n",
        "\n",
        "# Parse arguments\n",
        "conf = configurations['1.1.21.2']\n",
        "\n",
        "#args = parse_arguments()\n",
        "args = argparse.Namespace(**conf)\n",
        "print(args)\n",
        "CONFIG.update(vars(args))\n",
        "\n",
        "# Setup output directory\n",
        "CONFIG.save_dir = os.path.join('record', CONFIG.experiment_name)\n",
        "os.makedirs(CONFIG.save_dir, exist_ok=True)\n",
        "\n",
        "# Setup logging\n",
        "logging.basicConfig(\n",
        "    filename=os.path.join(CONFIG.save_dir, 'log.txt'),\n",
        "    format='%(message)s',\n",
        "    level=logging.INFO,\n",
        "    filemode='a'\n",
        ")\n",
        "\n",
        "# Set experiment's device & deterministic behavior\n",
        "if CONFIG.cpu:\n",
        "    CONFIG.device = 'cpu'\n",
        "else:\n",
        "    CONFIG.device = 'cuda' if torch.cuda.is_available() else 'cpu'\n",
        "\n",
        "torch.manual_seed(CONFIG.seed)\n",
        "random.seed(CONFIG.seed)\n",
        "np.random.seed(CONFIG.seed)\n",
        "torch.backends.cudnn.benchmark = True\n",
        "torch.use_deterministic_algorithms(mode=True, warn_only=True)\n",
        "\n",
        "main()"
      ]
    },
    {
      "cell_type": "markdown",
      "metadata": {
        "id": "Y507nMqtYJeq"
      },
      "source": [
        "##### 1.1.21.3 - Photo"
      ]
    },
    {
      "cell_type": "code",
      "execution_count": null,
      "metadata": {
        "vscode": {
          "languageId": "python"
        },
        "id": "GDwi8F2BYJeq"
      },
      "outputs": [],
      "source": [
        "warnings.filterwarnings('ignore', category=UserWarning)\n",
        "\n",
        "# Parse arguments\n",
        "conf = configurations['1.1.21.3']\n",
        "\n",
        "#args = parse_arguments()\n",
        "args = argparse.Namespace(**conf)\n",
        "print(args)\n",
        "CONFIG.update(vars(args))\n",
        "\n",
        "# Setup output directory\n",
        "CONFIG.save_dir = os.path.join('record', CONFIG.experiment_name)\n",
        "os.makedirs(CONFIG.save_dir, exist_ok=True)\n",
        "\n",
        "# Setup logging\n",
        "logging.basicConfig(\n",
        "    filename=os.path.join(CONFIG.save_dir, 'log.txt'),\n",
        "    format='%(message)s',\n",
        "    level=logging.INFO,\n",
        "    filemode='a'\n",
        ")\n",
        "\n",
        "# Set experiment's device & deterministic behavior\n",
        "if CONFIG.cpu:\n",
        "    CONFIG.device = 'cpu'\n",
        "else:\n",
        "    CONFIG.device = 'cuda' if torch.cuda.is_available() else 'cpu'\n",
        "\n",
        "torch.manual_seed(CONFIG.seed)\n",
        "random.seed(CONFIG.seed)\n",
        "np.random.seed(CONFIG.seed)\n",
        "torch.backends.cudnn.benchmark = True\n",
        "torch.use_deterministic_algorithms(mode=True, warn_only=True)\n",
        "\n",
        "main()"
      ]
    },
    {
      "cell_type": "markdown",
      "metadata": {
        "id": "BWgDXAJNYJeq"
      },
      "source": [
        "#### 1.1.22 - ASH module after layer4.0.relu"
      ]
    },
    {
      "cell_type": "markdown",
      "metadata": {
        "id": "EbV_M7N-YJeq"
      },
      "source": [
        "##### 1.1.22.1 - Cartoon"
      ]
    },
    {
      "cell_type": "code",
      "execution_count": null,
      "metadata": {
        "vscode": {
          "languageId": "python"
        },
        "id": "GkmyRuzcYJeq"
      },
      "outputs": [],
      "source": [
        "warnings.filterwarnings('ignore', category=UserWarning)\n",
        "\n",
        "# Parse arguments\n",
        "conf = configurations['1.1.22.1']\n",
        "\n",
        "#args = parse_arguments()\n",
        "args = argparse.Namespace(**conf)\n",
        "print(args)\n",
        "CONFIG.update(vars(args))\n",
        "\n",
        "# Setup output directory\n",
        "CONFIG.save_dir = os.path.join('record', CONFIG.experiment_name)\n",
        "os.makedirs(CONFIG.save_dir, exist_ok=True)\n",
        "\n",
        "# Setup logging\n",
        "logging.basicConfig(\n",
        "    filename=os.path.join(CONFIG.save_dir, 'log.txt'),\n",
        "    format='%(message)s',\n",
        "    level=logging.INFO,\n",
        "    filemode='a'\n",
        ")\n",
        "\n",
        "# Set experiment's device & deterministic behavior\n",
        "if CONFIG.cpu:\n",
        "    CONFIG.device = 'cpu'\n",
        "else:\n",
        "    CONFIG.device = 'cuda' if torch.cuda.is_available() else 'cpu'\n",
        "\n",
        "torch.manual_seed(CONFIG.seed)\n",
        "random.seed(CONFIG.seed)\n",
        "np.random.seed(CONFIG.seed)\n",
        "torch.backends.cudnn.benchmark = True\n",
        "torch.use_deterministic_algorithms(mode=True, warn_only=True)\n",
        "\n",
        "main()"
      ]
    },
    {
      "cell_type": "markdown",
      "metadata": {
        "id": "8npQ-1A3YJer"
      },
      "source": [
        "##### 1.1.22.2 - Sketch"
      ]
    },
    {
      "cell_type": "code",
      "execution_count": null,
      "metadata": {
        "vscode": {
          "languageId": "python"
        },
        "id": "7BD45OXpYJer"
      },
      "outputs": [],
      "source": [
        "warnings.filterwarnings('ignore', category=UserWarning)\n",
        "\n",
        "# Parse arguments\n",
        "conf = configurations['1.1.22.2']\n",
        "\n",
        "#args = parse_arguments()\n",
        "args = argparse.Namespace(**conf)\n",
        "print(args)\n",
        "CONFIG.update(vars(args))\n",
        "\n",
        "# Setup output directory\n",
        "CONFIG.save_dir = os.path.join('record', CONFIG.experiment_name)\n",
        "os.makedirs(CONFIG.save_dir, exist_ok=True)\n",
        "\n",
        "# Setup logging\n",
        "logging.basicConfig(\n",
        "    filename=os.path.join(CONFIG.save_dir, 'log.txt'),\n",
        "    format='%(message)s',\n",
        "    level=logging.INFO,\n",
        "    filemode='a'\n",
        ")\n",
        "\n",
        "# Set experiment's device & deterministic behavior\n",
        "if CONFIG.cpu:\n",
        "    CONFIG.device = 'cpu'\n",
        "else:\n",
        "    CONFIG.device = 'cuda' if torch.cuda.is_available() else 'cpu'\n",
        "\n",
        "torch.manual_seed(CONFIG.seed)\n",
        "random.seed(CONFIG.seed)\n",
        "np.random.seed(CONFIG.seed)\n",
        "torch.backends.cudnn.benchmark = True\n",
        "torch.use_deterministic_algorithms(mode=True, warn_only=True)\n",
        "\n",
        "main()"
      ]
    },
    {
      "cell_type": "markdown",
      "metadata": {
        "id": "wC1wUMrPYJer"
      },
      "source": [
        "##### 1.1.22.3 - Photo"
      ]
    },
    {
      "cell_type": "code",
      "execution_count": null,
      "metadata": {
        "vscode": {
          "languageId": "python"
        },
        "id": "KHP3vH1gYJer"
      },
      "outputs": [],
      "source": [
        "warnings.filterwarnings('ignore', category=UserWarning)\n",
        "\n",
        "# Parse arguments\n",
        "conf = configurations['1.1.22.3']\n",
        "\n",
        "#args = parse_arguments()\n",
        "args = argparse.Namespace(**conf)\n",
        "print(args)\n",
        "CONFIG.update(vars(args))\n",
        "\n",
        "# Setup output directory\n",
        "CONFIG.save_dir = os.path.join('record', CONFIG.experiment_name)\n",
        "os.makedirs(CONFIG.save_dir, exist_ok=True)\n",
        "\n",
        "# Setup logging\n",
        "logging.basicConfig(\n",
        "    filename=os.path.join(CONFIG.save_dir, 'log.txt'),\n",
        "    format='%(message)s',\n",
        "    level=logging.INFO,\n",
        "    filemode='a'\n",
        ")\n",
        "\n",
        "# Set experiment's device & deterministic behavior\n",
        "if CONFIG.cpu:\n",
        "    CONFIG.device = 'cpu'\n",
        "else:\n",
        "    CONFIG.device = 'cuda' if torch.cuda.is_available() else 'cpu'\n",
        "\n",
        "torch.manual_seed(CONFIG.seed)\n",
        "random.seed(CONFIG.seed)\n",
        "np.random.seed(CONFIG.seed)\n",
        "torch.backends.cudnn.benchmark = True\n",
        "torch.use_deterministic_algorithms(mode=True, warn_only=True)\n",
        "\n",
        "main()"
      ]
    },
    {
      "cell_type": "markdown",
      "metadata": {
        "id": "fFuQaML4YJer"
      },
      "source": [
        "#### 1.1.23 - ASH module after layer4.0.conv2"
      ]
    },
    {
      "cell_type": "markdown",
      "metadata": {
        "id": "93ON4RJdYJer"
      },
      "source": [
        "##### 1.1.23.1 - Cartoon"
      ]
    },
    {
      "cell_type": "code",
      "execution_count": null,
      "metadata": {
        "vscode": {
          "languageId": "python"
        },
        "id": "e2AZu1vVYJer"
      },
      "outputs": [],
      "source": [
        "warnings.filterwarnings('ignore', category=UserWarning)\n",
        "\n",
        "# Parse arguments\n",
        "conf = configurations['1.1.23.1']\n",
        "\n",
        "#args = parse_arguments()\n",
        "args = argparse.Namespace(**conf)\n",
        "print(args)\n",
        "CONFIG.update(vars(args))\n",
        "\n",
        "# Setup output directory\n",
        "CONFIG.save_dir = os.path.join('record', CONFIG.experiment_name)\n",
        "os.makedirs(CONFIG.save_dir, exist_ok=True)\n",
        "\n",
        "# Setup logging\n",
        "logging.basicConfig(\n",
        "    filename=os.path.join(CONFIG.save_dir, 'log.txt'),\n",
        "    format='%(message)s',\n",
        "    level=logging.INFO,\n",
        "    filemode='a'\n",
        ")\n",
        "\n",
        "# Set experiment's device & deterministic behavior\n",
        "if CONFIG.cpu:\n",
        "    CONFIG.device = 'cpu'\n",
        "else:\n",
        "    CONFIG.device = 'cuda' if torch.cuda.is_available() else 'cpu'\n",
        "\n",
        "torch.manual_seed(CONFIG.seed)\n",
        "random.seed(CONFIG.seed)\n",
        "np.random.seed(CONFIG.seed)\n",
        "torch.backends.cudnn.benchmark = True\n",
        "torch.use_deterministic_algorithms(mode=True, warn_only=True)\n",
        "\n",
        "main()"
      ]
    },
    {
      "cell_type": "markdown",
      "metadata": {
        "id": "LbNCy7MeYJer"
      },
      "source": [
        "##### 1.1.23.2 - Sketch"
      ]
    },
    {
      "cell_type": "code",
      "execution_count": null,
      "metadata": {
        "vscode": {
          "languageId": "python"
        },
        "id": "ujQtvvhJYJer"
      },
      "outputs": [],
      "source": [
        "warnings.filterwarnings('ignore', category=UserWarning)\n",
        "\n",
        "# Parse arguments\n",
        "conf = configurations['1.1.23.2']\n",
        "\n",
        "#args = parse_arguments()\n",
        "args = argparse.Namespace(**conf)\n",
        "print(args)\n",
        "CONFIG.update(vars(args))\n",
        "\n",
        "# Setup output directory\n",
        "CONFIG.save_dir = os.path.join('record', CONFIG.experiment_name)\n",
        "os.makedirs(CONFIG.save_dir, exist_ok=True)\n",
        "\n",
        "# Setup logging\n",
        "logging.basicConfig(\n",
        "    filename=os.path.join(CONFIG.save_dir, 'log.txt'),\n",
        "    format='%(message)s',\n",
        "    level=logging.INFO,\n",
        "    filemode='a'\n",
        ")\n",
        "\n",
        "# Set experiment's device & deterministic behavior\n",
        "if CONFIG.cpu:\n",
        "    CONFIG.device = 'cpu'\n",
        "else:\n",
        "    CONFIG.device = 'cuda' if torch.cuda.is_available() else 'cpu'\n",
        "\n",
        "torch.manual_seed(CONFIG.seed)\n",
        "random.seed(CONFIG.seed)\n",
        "np.random.seed(CONFIG.seed)\n",
        "torch.backends.cudnn.benchmark = True\n",
        "torch.use_deterministic_algorithms(mode=True, warn_only=True)\n",
        "\n",
        "main()"
      ]
    },
    {
      "cell_type": "markdown",
      "metadata": {
        "id": "t1oJubPhYJer"
      },
      "source": [
        "##### 1.1.23.3 - Photo"
      ]
    },
    {
      "cell_type": "code",
      "execution_count": null,
      "metadata": {
        "vscode": {
          "languageId": "python"
        },
        "id": "BBBev_BeYJes"
      },
      "outputs": [],
      "source": [
        "warnings.filterwarnings('ignore', category=UserWarning)\n",
        "\n",
        "# Parse arguments\n",
        "conf = configurations['1.1.23.3']\n",
        "\n",
        "#args = parse_arguments()\n",
        "args = argparse.Namespace(**conf)\n",
        "print(args)\n",
        "CONFIG.update(vars(args))\n",
        "\n",
        "# Setup output directory\n",
        "CONFIG.save_dir = os.path.join('record', CONFIG.experiment_name)\n",
        "os.makedirs(CONFIG.save_dir, exist_ok=True)\n",
        "\n",
        "# Setup logging\n",
        "logging.basicConfig(\n",
        "    filename=os.path.join(CONFIG.save_dir, 'log.txt'),\n",
        "    format='%(message)s',\n",
        "    level=logging.INFO,\n",
        "    filemode='a'\n",
        ")\n",
        "\n",
        "# Set experiment's device & deterministic behavior\n",
        "if CONFIG.cpu:\n",
        "    CONFIG.device = 'cpu'\n",
        "else:\n",
        "    CONFIG.device = 'cuda' if torch.cuda.is_available() else 'cpu'\n",
        "\n",
        "torch.manual_seed(CONFIG.seed)\n",
        "random.seed(CONFIG.seed)\n",
        "np.random.seed(CONFIG.seed)\n",
        "torch.backends.cudnn.benchmark = True\n",
        "torch.use_deterministic_algorithms(mode=True, warn_only=True)\n",
        "\n",
        "main()"
      ]
    },
    {
      "cell_type": "markdown",
      "metadata": {
        "id": "_UBj174_YJes"
      },
      "source": [
        "#### 1.1.24 - ASH module after layer4.1.conv1"
      ]
    },
    {
      "cell_type": "markdown",
      "metadata": {
        "id": "WIXdRq8xYJes"
      },
      "source": [
        "##### 1.1.24.1 - Cartoon"
      ]
    },
    {
      "cell_type": "code",
      "execution_count": null,
      "metadata": {
        "vscode": {
          "languageId": "python"
        },
        "id": "s5m32deWYJes"
      },
      "outputs": [],
      "source": [
        "warnings.filterwarnings('ignore', category=UserWarning)\n",
        "\n",
        "# Parse arguments\n",
        "conf = configurations['1.1.24.1']\n",
        "\n",
        "#args = parse_arguments()\n",
        "args = argparse.Namespace(**conf)\n",
        "print(args)\n",
        "CONFIG.update(vars(args))\n",
        "\n",
        "# Setup output directory\n",
        "CONFIG.save_dir = os.path.join('record', CONFIG.experiment_name)\n",
        "os.makedirs(CONFIG.save_dir, exist_ok=True)\n",
        "\n",
        "# Setup logging\n",
        "logging.basicConfig(\n",
        "    filename=os.path.join(CONFIG.save_dir, 'log.txt'),\n",
        "    format='%(message)s',\n",
        "    level=logging.INFO,\n",
        "    filemode='a'\n",
        ")\n",
        "\n",
        "# Set experiment's device & deterministic behavior\n",
        "if CONFIG.cpu:\n",
        "    CONFIG.device = 'cpu'\n",
        "else:\n",
        "    CONFIG.device = 'cuda' if torch.cuda.is_available() else 'cpu'\n",
        "\n",
        "torch.manual_seed(CONFIG.seed)\n",
        "random.seed(CONFIG.seed)\n",
        "np.random.seed(CONFIG.seed)\n",
        "torch.backends.cudnn.benchmark = True\n",
        "torch.use_deterministic_algorithms(mode=True, warn_only=True)\n",
        "\n",
        "main()"
      ]
    },
    {
      "cell_type": "markdown",
      "metadata": {
        "id": "S3P7iRAiYJes"
      },
      "source": [
        "##### 1.1.24.2 - Sketch"
      ]
    },
    {
      "cell_type": "code",
      "execution_count": null,
      "metadata": {
        "vscode": {
          "languageId": "python"
        },
        "id": "Z0SG-NgrYJes"
      },
      "outputs": [],
      "source": [
        "warnings.filterwarnings('ignore', category=UserWarning)\n",
        "\n",
        "# Parse arguments\n",
        "conf = configurations['1.1.24.2']\n",
        "\n",
        "#args = parse_arguments()\n",
        "args = argparse.Namespace(**conf)\n",
        "print(args)\n",
        "CONFIG.update(vars(args))\n",
        "\n",
        "# Setup output directory\n",
        "CONFIG.save_dir = os.path.join('record', CONFIG.experiment_name)\n",
        "os.makedirs(CONFIG.save_dir, exist_ok=True)\n",
        "\n",
        "# Setup logging\n",
        "logging.basicConfig(\n",
        "    filename=os.path.join(CONFIG.save_dir, 'log.txt'),\n",
        "    format='%(message)s',\n",
        "    level=logging.INFO,\n",
        "    filemode='a'\n",
        ")\n",
        "\n",
        "# Set experiment's device & deterministic behavior\n",
        "if CONFIG.cpu:\n",
        "    CONFIG.device = 'cpu'\n",
        "else:\n",
        "    CONFIG.device = 'cuda' if torch.cuda.is_available() else 'cpu'\n",
        "\n",
        "torch.manual_seed(CONFIG.seed)\n",
        "random.seed(CONFIG.seed)\n",
        "np.random.seed(CONFIG.seed)\n",
        "torch.backends.cudnn.benchmark = True\n",
        "torch.use_deterministic_algorithms(mode=True, warn_only=True)\n",
        "\n",
        "main()"
      ]
    },
    {
      "cell_type": "markdown",
      "metadata": {
        "id": "YtNZvbG9YJes"
      },
      "source": [
        "##### 1.1.24.3 - Photo"
      ]
    },
    {
      "cell_type": "code",
      "execution_count": null,
      "metadata": {
        "vscode": {
          "languageId": "python"
        },
        "id": "6A9fvl7sYJet"
      },
      "outputs": [],
      "source": [
        "warnings.filterwarnings('ignore', category=UserWarning)\n",
        "\n",
        "# Parse arguments\n",
        "conf = configurations['1.1.24.3']\n",
        "\n",
        "#args = parse_arguments()\n",
        "args = argparse.Namespace(**conf)\n",
        "print(args)\n",
        "CONFIG.update(vars(args))\n",
        "\n",
        "# Setup output directory\n",
        "CONFIG.save_dir = os.path.join('record', CONFIG.experiment_name)\n",
        "os.makedirs(CONFIG.save_dir, exist_ok=True)\n",
        "\n",
        "# Setup logging\n",
        "logging.basicConfig(\n",
        "    filename=os.path.join(CONFIG.save_dir, 'log.txt'),\n",
        "    format='%(message)s',\n",
        "    level=logging.INFO,\n",
        "    filemode='a'\n",
        ")\n",
        "\n",
        "# Set experiment's device & deterministic behavior\n",
        "if CONFIG.cpu:\n",
        "    CONFIG.device = 'cpu'\n",
        "else:\n",
        "    CONFIG.device = 'cuda' if torch.cuda.is_available() else 'cpu'\n",
        "\n",
        "torch.manual_seed(CONFIG.seed)\n",
        "random.seed(CONFIG.seed)\n",
        "np.random.seed(CONFIG.seed)\n",
        "torch.backends.cudnn.benchmark = True\n",
        "torch.use_deterministic_algorithms(mode=True, warn_only=True)\n",
        "\n",
        "main()"
      ]
    },
    {
      "cell_type": "markdown",
      "metadata": {
        "id": "BKWvuZAKYJet"
      },
      "source": [
        "#### 1.1.25 - ASH module after layer4.1.relu"
      ]
    },
    {
      "cell_type": "markdown",
      "metadata": {
        "id": "jUMBMEaWYJet"
      },
      "source": [
        "##### 1.1.25.1 - Cartoon"
      ]
    },
    {
      "cell_type": "code",
      "execution_count": null,
      "metadata": {
        "vscode": {
          "languageId": "python"
        },
        "id": "eEmCzV9bYJet"
      },
      "outputs": [],
      "source": [
        "warnings.filterwarnings('ignore', category=UserWarning)\n",
        "\n",
        "# Parse arguments\n",
        "conf = configurations['1.1.25.1']\n",
        "\n",
        "#args = parse_arguments()\n",
        "args = argparse.Namespace(**conf)\n",
        "print(args)\n",
        "CONFIG.update(vars(args))\n",
        "\n",
        "# Setup output directory\n",
        "CONFIG.save_dir = os.path.join('record', CONFIG.experiment_name)\n",
        "os.makedirs(CONFIG.save_dir, exist_ok=True)\n",
        "\n",
        "# Setup logging\n",
        "logging.basicConfig(\n",
        "    filename=os.path.join(CONFIG.save_dir, 'log.txt'),\n",
        "    format='%(message)s',\n",
        "    level=logging.INFO,\n",
        "    filemode='a'\n",
        ")\n",
        "\n",
        "# Set experiment's device & deterministic behavior\n",
        "if CONFIG.cpu:\n",
        "    CONFIG.device = 'cpu'\n",
        "else:\n",
        "    CONFIG.device = 'cuda' if torch.cuda.is_available() else 'cpu'\n",
        "\n",
        "torch.manual_seed(CONFIG.seed)\n",
        "random.seed(CONFIG.seed)\n",
        "np.random.seed(CONFIG.seed)\n",
        "torch.backends.cudnn.benchmark = True\n",
        "torch.use_deterministic_algorithms(mode=True, warn_only=True)\n",
        "\n",
        "main()"
      ]
    },
    {
      "cell_type": "markdown",
      "metadata": {
        "id": "nKe82UScYJet"
      },
      "source": [
        "##### 1.1.25.2 - Sketch"
      ]
    },
    {
      "cell_type": "code",
      "execution_count": null,
      "metadata": {
        "vscode": {
          "languageId": "python"
        },
        "id": "i_pSuIibYJet"
      },
      "outputs": [],
      "source": [
        "warnings.filterwarnings('ignore', category=UserWarning)\n",
        "\n",
        "# Parse arguments\n",
        "conf = configurations['1.1.25.2']\n",
        "\n",
        "#args = parse_arguments()\n",
        "args = argparse.Namespace(**conf)\n",
        "print(args)\n",
        "CONFIG.update(vars(args))\n",
        "\n",
        "# Setup output directory\n",
        "CONFIG.save_dir = os.path.join('record', CONFIG.experiment_name)\n",
        "os.makedirs(CONFIG.save_dir, exist_ok=True)\n",
        "\n",
        "# Setup logging\n",
        "logging.basicConfig(\n",
        "    filename=os.path.join(CONFIG.save_dir, 'log.txt'),\n",
        "    format='%(message)s',\n",
        "    level=logging.INFO,\n",
        "    filemode='a'\n",
        ")\n",
        "\n",
        "# Set experiment's device & deterministic behavior\n",
        "if CONFIG.cpu:\n",
        "    CONFIG.device = 'cpu'\n",
        "else:\n",
        "    CONFIG.device = 'cuda' if torch.cuda.is_available() else 'cpu'\n",
        "\n",
        "torch.manual_seed(CONFIG.seed)\n",
        "random.seed(CONFIG.seed)\n",
        "np.random.seed(CONFIG.seed)\n",
        "torch.backends.cudnn.benchmark = True\n",
        "torch.use_deterministic_algorithms(mode=True, warn_only=True)\n",
        "\n",
        "main()"
      ]
    },
    {
      "cell_type": "markdown",
      "metadata": {
        "id": "zKY67Qj8YJeu"
      },
      "source": [
        "##### 1.1.25.3 - Photo"
      ]
    },
    {
      "cell_type": "code",
      "execution_count": null,
      "metadata": {
        "vscode": {
          "languageId": "python"
        },
        "id": "QodUZaYUYJeu"
      },
      "outputs": [],
      "source": [
        "warnings.filterwarnings('ignore', category=UserWarning)\n",
        "\n",
        "# Parse arguments\n",
        "conf = configurations['1.1.25.3']\n",
        "\n",
        "#args = parse_arguments()\n",
        "args = argparse.Namespace(**conf)\n",
        "print(args)\n",
        "CONFIG.update(vars(args))\n",
        "\n",
        "# Setup output directory\n",
        "CONFIG.save_dir = os.path.join('record', CONFIG.experiment_name)\n",
        "os.makedirs(CONFIG.save_dir, exist_ok=True)\n",
        "\n",
        "# Setup logging\n",
        "logging.basicConfig(\n",
        "    filename=os.path.join(CONFIG.save_dir, 'log.txt'),\n",
        "    format='%(message)s',\n",
        "    level=logging.INFO,\n",
        "    filemode='a'\n",
        ")\n",
        "\n",
        "# Set experiment's device & deterministic behavior\n",
        "if CONFIG.cpu:\n",
        "    CONFIG.device = 'cpu'\n",
        "else:\n",
        "    CONFIG.device = 'cuda' if torch.cuda.is_available() else 'cpu'\n",
        "\n",
        "torch.manual_seed(CONFIG.seed)\n",
        "random.seed(CONFIG.seed)\n",
        "np.random.seed(CONFIG.seed)\n",
        "torch.backends.cudnn.benchmark = True\n",
        "torch.use_deterministic_algorithms(mode=True, warn_only=True)\n",
        "\n",
        "main()"
      ]
    },
    {
      "cell_type": "markdown",
      "metadata": {
        "id": "qtA3x_exYJeu"
      },
      "source": [
        "#### 1.1.26 - ASH module after layer4.1.conv2"
      ]
    },
    {
      "cell_type": "markdown",
      "metadata": {
        "id": "7HUF4xwzYJeu"
      },
      "source": [
        "##### 1.1.26.1 - Cartoon"
      ]
    },
    {
      "cell_type": "code",
      "execution_count": null,
      "metadata": {
        "vscode": {
          "languageId": "python"
        },
        "id": "EqCWnNsEYJeu"
      },
      "outputs": [],
      "source": [
        "warnings.filterwarnings('ignore', category=UserWarning)\n",
        "\n",
        "# Parse arguments\n",
        "conf = configurations['1.1.26.1']\n",
        "\n",
        "#args = parse_arguments()\n",
        "args = argparse.Namespace(**conf)\n",
        "print(args)\n",
        "CONFIG.update(vars(args))\n",
        "\n",
        "# Setup output directory\n",
        "CONFIG.save_dir = os.path.join('record', CONFIG.experiment_name)\n",
        "os.makedirs(CONFIG.save_dir, exist_ok=True)\n",
        "\n",
        "# Setup logging\n",
        "logging.basicConfig(\n",
        "    filename=os.path.join(CONFIG.save_dir, 'log.txt'),\n",
        "    format='%(message)s',\n",
        "    level=logging.INFO,\n",
        "    filemode='a'\n",
        ")\n",
        "\n",
        "# Set experiment's device & deterministic behavior\n",
        "if CONFIG.cpu:\n",
        "    CONFIG.device = 'cpu'\n",
        "else:\n",
        "    CONFIG.device = 'cuda' if torch.cuda.is_available() else 'cpu'\n",
        "\n",
        "torch.manual_seed(CONFIG.seed)\n",
        "random.seed(CONFIG.seed)\n",
        "np.random.seed(CONFIG.seed)\n",
        "torch.backends.cudnn.benchmark = True\n",
        "torch.use_deterministic_algorithms(mode=True, warn_only=True)\n",
        "\n",
        "main()"
      ]
    },
    {
      "cell_type": "markdown",
      "metadata": {
        "id": "79oBsHmDYJeu"
      },
      "source": [
        "##### 1.1.26.2 - Sketch"
      ]
    },
    {
      "cell_type": "code",
      "execution_count": null,
      "metadata": {
        "vscode": {
          "languageId": "python"
        },
        "id": "RLjnNyHPYJev"
      },
      "outputs": [],
      "source": [
        "warnings.filterwarnings('ignore', category=UserWarning)\n",
        "\n",
        "# Parse arguments\n",
        "conf = configurations['1.1.26.2']\n",
        "\n",
        "#args = parse_arguments()\n",
        "args = argparse.Namespace(**conf)\n",
        "print(args)\n",
        "CONFIG.update(vars(args))\n",
        "\n",
        "# Setup output directory\n",
        "CONFIG.save_dir = os.path.join('record', CONFIG.experiment_name)\n",
        "os.makedirs(CONFIG.save_dir, exist_ok=True)\n",
        "\n",
        "# Setup logging\n",
        "logging.basicConfig(\n",
        "    filename=os.path.join(CONFIG.save_dir, 'log.txt'),\n",
        "    format='%(message)s',\n",
        "    level=logging.INFO,\n",
        "    filemode='a'\n",
        ")\n",
        "\n",
        "# Set experiment's device & deterministic behavior\n",
        "if CONFIG.cpu:\n",
        "    CONFIG.device = 'cpu'\n",
        "else:\n",
        "    CONFIG.device = 'cuda' if torch.cuda.is_available() else 'cpu'\n",
        "\n",
        "torch.manual_seed(CONFIG.seed)\n",
        "random.seed(CONFIG.seed)\n",
        "np.random.seed(CONFIG.seed)\n",
        "torch.backends.cudnn.benchmark = True\n",
        "torch.use_deterministic_algorithms(mode=True, warn_only=True)\n",
        "\n",
        "main()"
      ]
    },
    {
      "cell_type": "markdown",
      "metadata": {
        "id": "d3ugM0KMYJev"
      },
      "source": [
        "##### 1.1.26.3 - Photo"
      ]
    },
    {
      "cell_type": "code",
      "execution_count": null,
      "metadata": {
        "vscode": {
          "languageId": "python"
        },
        "id": "H7dHk9zAYJev"
      },
      "outputs": [],
      "source": [
        "warnings.filterwarnings('ignore', category=UserWarning)\n",
        "\n",
        "# Parse arguments\n",
        "conf = configurations['1.1.26.3']\n",
        "\n",
        "#args = parse_arguments()\n",
        "args = argparse.Namespace(**conf)\n",
        "print(args)\n",
        "CONFIG.update(vars(args))\n",
        "\n",
        "# Setup output directory\n",
        "CONFIG.save_dir = os.path.join('record', CONFIG.experiment_name)\n",
        "os.makedirs(CONFIG.save_dir, exist_ok=True)\n",
        "\n",
        "# Setup logging\n",
        "logging.basicConfig(\n",
        "    filename=os.path.join(CONFIG.save_dir, 'log.txt'),\n",
        "    format='%(message)s',\n",
        "    level=logging.INFO,\n",
        "    filemode='a'\n",
        ")\n",
        "\n",
        "# Set experiment's device & deterministic behavior\n",
        "if CONFIG.cpu:\n",
        "    CONFIG.device = 'cpu'\n",
        "else:\n",
        "    CONFIG.device = 'cuda' if torch.cuda.is_available() else 'cpu'\n",
        "\n",
        "torch.manual_seed(CONFIG.seed)\n",
        "random.seed(CONFIG.seed)\n",
        "np.random.seed(CONFIG.seed)\n",
        "torch.backends.cudnn.benchmark = True\n",
        "torch.use_deterministic_algorithms(mode=True, warn_only=True)\n",
        "\n",
        "main()"
      ]
    },
    {
      "cell_type": "markdown",
      "metadata": {
        "id": "zfwaIvvnYJev"
      },
      "source": [
        "### 1.2 - Two ASH modules"
      ]
    },
    {
      "cell_type": "markdown",
      "metadata": {
        "id": "gZ4tzt2-YJev"
      },
      "source": [
        "#### 1.2.1 - ASH module after layer1.1.bn1 and layer1.1.conv2"
      ]
    },
    {
      "cell_type": "markdown",
      "metadata": {
        "id": "TZ10GCtCYJev"
      },
      "source": [
        "##### 1.2.1.1 - Cartoon"
      ]
    },
    {
      "cell_type": "code",
      "execution_count": null,
      "metadata": {
        "vscode": {
          "languageId": "python"
        },
        "id": "aeYL64CGYJev"
      },
      "outputs": [],
      "source": [
        "warnings.filterwarnings('ignore', category=UserWarning)\n",
        "\n",
        "# Parse arguments\n",
        "conf = configurations['1.2.1.1']\n",
        "\n",
        "#args = parse_arguments()\n",
        "args = argparse.Namespace(**conf)\n",
        "print(args)\n",
        "CONFIG.update(vars(args))\n",
        "\n",
        "# Setup output directory\n",
        "CONFIG.save_dir = os.path.join('record', CONFIG.experiment_name)\n",
        "os.makedirs(CONFIG.save_dir, exist_ok=True)\n",
        "\n",
        "# Setup logging\n",
        "logging.basicConfig(\n",
        "    filename=os.path.join(CONFIG.save_dir, 'log.txt'),\n",
        "    format='%(message)s',\n",
        "    level=logging.INFO,\n",
        "    filemode='a'\n",
        ")\n",
        "\n",
        "# Set experiment's device & deterministic behavior\n",
        "if CONFIG.cpu:\n",
        "    CONFIG.device = 'cpu'\n",
        "else:\n",
        "    CONFIG.device = 'cuda' if torch.cuda.is_available() else 'cpu'\n",
        "\n",
        "torch.manual_seed(CONFIG.seed)\n",
        "random.seed(CONFIG.seed)\n",
        "np.random.seed(CONFIG.seed)\n",
        "torch.backends.cudnn.benchmark = True\n",
        "torch.use_deterministic_algorithms(mode=True, warn_only=True)\n",
        "\n",
        "main()"
      ]
    },
    {
      "cell_type": "markdown",
      "metadata": {
        "id": "jDbxbK1OYJew"
      },
      "source": [
        "##### 1.2.1.2 - Sketch"
      ]
    },
    {
      "cell_type": "code",
      "execution_count": null,
      "metadata": {
        "vscode": {
          "languageId": "python"
        },
        "id": "FZlDS5YhYJew"
      },
      "outputs": [],
      "source": [
        "warnings.filterwarnings('ignore', category=UserWarning)\n",
        "\n",
        "# Parse arguments\n",
        "conf = configurations['1.2.1.2']\n",
        "\n",
        "#args = parse_arguments()\n",
        "args = argparse.Namespace(**conf)\n",
        "print(args)\n",
        "CONFIG.update(vars(args))\n",
        "\n",
        "# Setup output directory\n",
        "CONFIG.save_dir = os.path.join('record', CONFIG.experiment_name)\n",
        "os.makedirs(CONFIG.save_dir, exist_ok=True)\n",
        "\n",
        "# Setup logging\n",
        "logging.basicConfig(\n",
        "    filename=os.path.join(CONFIG.save_dir, 'log.txt'),\n",
        "    format='%(message)s',\n",
        "    level=logging.INFO,\n",
        "    filemode='a'\n",
        ")\n",
        "\n",
        "# Set experiment's device & deterministic behavior\n",
        "if CONFIG.cpu:\n",
        "    CONFIG.device = 'cpu'\n",
        "else:\n",
        "    CONFIG.device = 'cuda' if torch.cuda.is_available() else 'cpu'\n",
        "\n",
        "torch.manual_seed(CONFIG.seed)\n",
        "random.seed(CONFIG.seed)\n",
        "np.random.seed(CONFIG.seed)\n",
        "torch.backends.cudnn.benchmark = True\n",
        "torch.use_deterministic_algorithms(mode=True, warn_only=True)\n",
        "\n",
        "main()"
      ]
    },
    {
      "cell_type": "markdown",
      "metadata": {
        "id": "ZnPPpcK4YJew"
      },
      "source": [
        "##### 1.2.1.3 - Photo"
      ]
    },
    {
      "cell_type": "code",
      "execution_count": null,
      "metadata": {
        "vscode": {
          "languageId": "python"
        },
        "id": "Gv8VcoOHYJew"
      },
      "outputs": [],
      "source": [
        "warnings.filterwarnings('ignore', category=UserWarning)\n",
        "\n",
        "# Parse arguments\n",
        "conf = configurations['1.2.1.3']\n",
        "\n",
        "#args = parse_arguments()\n",
        "args = argparse.Namespace(**conf)\n",
        "print(args)\n",
        "CONFIG.update(vars(args))\n",
        "\n",
        "# Setup output directory\n",
        "CONFIG.save_dir = os.path.join('record', CONFIG.experiment_name)\n",
        "os.makedirs(CONFIG.save_dir, exist_ok=True)\n",
        "\n",
        "# Setup logging\n",
        "logging.basicConfig(\n",
        "    filename=os.path.join(CONFIG.save_dir, 'log.txt'),\n",
        "    format='%(message)s',\n",
        "    level=logging.INFO,\n",
        "    filemode='a'\n",
        ")\n",
        "\n",
        "# Set experiment's device & deterministic behavior\n",
        "if CONFIG.cpu:\n",
        "    CONFIG.device = 'cpu'\n",
        "else:\n",
        "    CONFIG.device = 'cuda' if torch.cuda.is_available() else 'cpu'\n",
        "\n",
        "torch.manual_seed(CONFIG.seed)\n",
        "random.seed(CONFIG.seed)\n",
        "np.random.seed(CONFIG.seed)\n",
        "torch.backends.cudnn.benchmark = True\n",
        "torch.use_deterministic_algorithms(mode=True, warn_only=True)\n",
        "\n",
        "main()"
      ]
    },
    {
      "cell_type": "markdown",
      "metadata": {
        "id": "3etmg76UYJew"
      },
      "source": [
        "#### 1.2.2 - ASH module after layer1.1.bn1 and layer1.1.bn2"
      ]
    },
    {
      "cell_type": "markdown",
      "metadata": {
        "id": "c0B4rtDfYJew"
      },
      "source": [
        "##### 1.2.2.1 - Cartoon"
      ]
    },
    {
      "cell_type": "code",
      "execution_count": null,
      "metadata": {
        "vscode": {
          "languageId": "python"
        },
        "id": "01qhi7pGYJew"
      },
      "outputs": [],
      "source": [
        "warnings.filterwarnings('ignore', category=UserWarning)\n",
        "\n",
        "# Parse arguments\n",
        "conf = configurations['1.2.2.1']\n",
        "\n",
        "#args = parse_arguments()\n",
        "args = argparse.Namespace(**conf)\n",
        "print(args)\n",
        "CONFIG.update(vars(args))\n",
        "\n",
        "# Setup output directory\n",
        "CONFIG.save_dir = os.path.join('record', CONFIG.experiment_name)\n",
        "os.makedirs(CONFIG.save_dir, exist_ok=True)\n",
        "\n",
        "# Setup logging\n",
        "logging.basicConfig(\n",
        "    filename=os.path.join(CONFIG.save_dir, 'log.txt'),\n",
        "    format='%(message)s',\n",
        "    level=logging.INFO,\n",
        "    filemode='a'\n",
        ")\n",
        "\n",
        "# Set experiment's device & deterministic behavior\n",
        "if CONFIG.cpu:\n",
        "    CONFIG.device = 'cpu'\n",
        "else:\n",
        "    CONFIG.device = 'cuda' if torch.cuda.is_available() else 'cpu'\n",
        "\n",
        "torch.manual_seed(CONFIG.seed)\n",
        "random.seed(CONFIG.seed)\n",
        "np.random.seed(CONFIG.seed)\n",
        "torch.backends.cudnn.benchmark = True\n",
        "torch.use_deterministic_algorithms(mode=True, warn_only=True)\n",
        "\n",
        "main()"
      ]
    },
    {
      "cell_type": "markdown",
      "metadata": {
        "id": "lT1A2rILYJex"
      },
      "source": [
        "##### 1.2.2.2 - Sketch"
      ]
    },
    {
      "cell_type": "code",
      "execution_count": null,
      "metadata": {
        "vscode": {
          "languageId": "python"
        },
        "id": "3V-_cdE6YJex"
      },
      "outputs": [],
      "source": [
        "warnings.filterwarnings('ignore', category=UserWarning)\n",
        "\n",
        "# Parse arguments\n",
        "conf = configurations['1.2.2.2']\n",
        "\n",
        "#args = parse_arguments()\n",
        "args = argparse.Namespace(**conf)\n",
        "print(args)\n",
        "CONFIG.update(vars(args))\n",
        "\n",
        "# Setup output directory\n",
        "CONFIG.save_dir = os.path.join('record', CONFIG.experiment_name)\n",
        "os.makedirs(CONFIG.save_dir, exist_ok=True)\n",
        "\n",
        "# Setup logging\n",
        "logging.basicConfig(\n",
        "    filename=os.path.join(CONFIG.save_dir, 'log.txt'),\n",
        "    format='%(message)s',\n",
        "    level=logging.INFO,\n",
        "    filemode='a'\n",
        ")\n",
        "\n",
        "# Set experiment's device & deterministic behavior\n",
        "if CONFIG.cpu:\n",
        "    CONFIG.device = 'cpu'\n",
        "else:\n",
        "    CONFIG.device = 'cuda' if torch.cuda.is_available() else 'cpu'\n",
        "\n",
        "torch.manual_seed(CONFIG.seed)\n",
        "random.seed(CONFIG.seed)\n",
        "np.random.seed(CONFIG.seed)\n",
        "torch.backends.cudnn.benchmark = True\n",
        "torch.use_deterministic_algorithms(mode=True, warn_only=True)\n",
        "\n",
        "main()"
      ]
    },
    {
      "cell_type": "markdown",
      "metadata": {
        "id": "FeM4dojOYJex"
      },
      "source": [
        "##### 1.2.2.3 - Photo"
      ]
    },
    {
      "cell_type": "code",
      "execution_count": null,
      "metadata": {
        "vscode": {
          "languageId": "python"
        },
        "id": "9HpB-Cc_YJex"
      },
      "outputs": [],
      "source": [
        "warnings.filterwarnings('ignore', category=UserWarning)\n",
        "\n",
        "# Parse arguments\n",
        "conf = configurations['1.2.2.3']\n",
        "\n",
        "#args = parse_arguments()\n",
        "args = argparse.Namespace(**conf)\n",
        "print(args)\n",
        "CONFIG.update(vars(args))\n",
        "\n",
        "# Setup output directory\n",
        "CONFIG.save_dir = os.path.join('record', CONFIG.experiment_name)\n",
        "os.makedirs(CONFIG.save_dir, exist_ok=True)\n",
        "\n",
        "# Setup logging\n",
        "logging.basicConfig(\n",
        "    filename=os.path.join(CONFIG.save_dir, 'log.txt'),\n",
        "    format='%(message)s',\n",
        "    level=logging.INFO,\n",
        "    filemode='a'\n",
        ")\n",
        "\n",
        "# Set experiment's device & deterministic behavior\n",
        "if CONFIG.cpu:\n",
        "    CONFIG.device = 'cpu'\n",
        "else:\n",
        "    CONFIG.device = 'cuda' if torch.cuda.is_available() else 'cpu'\n",
        "\n",
        "torch.manual_seed(CONFIG.seed)\n",
        "random.seed(CONFIG.seed)\n",
        "np.random.seed(CONFIG.seed)\n",
        "torch.backends.cudnn.benchmark = True\n",
        "torch.use_deterministic_algorithms(mode=True, warn_only=True)\n",
        "\n",
        "main()"
      ]
    },
    {
      "cell_type": "markdown",
      "metadata": {
        "id": "0eofv87PYJey"
      },
      "source": [
        "#### 1.2.3 - ASH module after layer1.1.bn1 and layer2.1.conv2"
      ]
    },
    {
      "cell_type": "markdown",
      "metadata": {
        "id": "X5mEReMNYJey"
      },
      "source": [
        "##### 1.2.3.1 - Cartoon"
      ]
    },
    {
      "cell_type": "code",
      "execution_count": null,
      "metadata": {
        "vscode": {
          "languageId": "python"
        },
        "id": "pTx_AFYfYJey"
      },
      "outputs": [],
      "source": [
        "warnings.filterwarnings('ignore', category=UserWarning)\n",
        "\n",
        "# Parse arguments\n",
        "conf = configurations['1.2.3.1']\n",
        "\n",
        "#args = parse_arguments()\n",
        "args = argparse.Namespace(**conf)\n",
        "print(args)\n",
        "CONFIG.update(vars(args))\n",
        "\n",
        "# Setup output directory\n",
        "CONFIG.save_dir = os.path.join('record', CONFIG.experiment_name)\n",
        "os.makedirs(CONFIG.save_dir, exist_ok=True)\n",
        "\n",
        "# Setup logging\n",
        "logging.basicConfig(\n",
        "    filename=os.path.join(CONFIG.save_dir, 'log.txt'),\n",
        "    format='%(message)s',\n",
        "    level=logging.INFO,\n",
        "    filemode='a'\n",
        ")\n",
        "\n",
        "# Set experiment's device & deterministic behavior\n",
        "if CONFIG.cpu:\n",
        "    CONFIG.device = 'cpu'\n",
        "else:\n",
        "    CONFIG.device = 'cuda' if torch.cuda.is_available() else 'cpu'\n",
        "\n",
        "torch.manual_seed(CONFIG.seed)\n",
        "random.seed(CONFIG.seed)\n",
        "np.random.seed(CONFIG.seed)\n",
        "torch.backends.cudnn.benchmark = True\n",
        "torch.use_deterministic_algorithms(mode=True, warn_only=True)\n",
        "\n",
        "main()"
      ]
    },
    {
      "cell_type": "markdown",
      "metadata": {
        "id": "GJVVESxiYJey"
      },
      "source": [
        "##### 1.2.3.2 - Sketch"
      ]
    },
    {
      "cell_type": "code",
      "execution_count": null,
      "metadata": {
        "vscode": {
          "languageId": "python"
        },
        "id": "op4neW-zYJey"
      },
      "outputs": [],
      "source": [
        "warnings.filterwarnings('ignore', category=UserWarning)\n",
        "\n",
        "# Parse arguments\n",
        "conf = configurations['1.2.3.2']\n",
        "\n",
        "#args = parse_arguments()\n",
        "args = argparse.Namespace(**conf)\n",
        "print(args)\n",
        "CONFIG.update(vars(args))\n",
        "\n",
        "# Setup output directory\n",
        "CONFIG.save_dir = os.path.join('record', CONFIG.experiment_name)\n",
        "os.makedirs(CONFIG.save_dir, exist_ok=True)\n",
        "\n",
        "# Setup logging\n",
        "logging.basicConfig(\n",
        "    filename=os.path.join(CONFIG.save_dir, 'log.txt'),\n",
        "    format='%(message)s',\n",
        "    level=logging.INFO,\n",
        "    filemode='a'\n",
        ")\n",
        "\n",
        "# Set experiment's device & deterministic behavior\n",
        "if CONFIG.cpu:\n",
        "    CONFIG.device = 'cpu'\n",
        "else:\n",
        "    CONFIG.device = 'cuda' if torch.cuda.is_available() else 'cpu'\n",
        "\n",
        "torch.manual_seed(CONFIG.seed)\n",
        "random.seed(CONFIG.seed)\n",
        "np.random.seed(CONFIG.seed)\n",
        "torch.backends.cudnn.benchmark = True\n",
        "torch.use_deterministic_algorithms(mode=True, warn_only=True)\n",
        "\n",
        "main()"
      ]
    },
    {
      "cell_type": "markdown",
      "metadata": {
        "id": "Pix58bNrYJez"
      },
      "source": [
        "##### 1.2.3.3 - Photo"
      ]
    },
    {
      "cell_type": "code",
      "execution_count": null,
      "metadata": {
        "vscode": {
          "languageId": "python"
        },
        "id": "XRyFupDCYJez"
      },
      "outputs": [],
      "source": [
        "warnings.filterwarnings('ignore', category=UserWarning)\n",
        "\n",
        "# Parse arguments\n",
        "conf = configurations['1.2.3.3']\n",
        "\n",
        "#args = parse_arguments()\n",
        "args = argparse.Namespace(**conf)\n",
        "print(args)\n",
        "CONFIG.update(vars(args))\n",
        "\n",
        "# Setup output directory\n",
        "CONFIG.save_dir = os.path.join('record', CONFIG.experiment_name)\n",
        "os.makedirs(CONFIG.save_dir, exist_ok=True)\n",
        "\n",
        "# Setup logging\n",
        "logging.basicConfig(\n",
        "    filename=os.path.join(CONFIG.save_dir, 'log.txt'),\n",
        "    format='%(message)s',\n",
        "    level=logging.INFO,\n",
        "    filemode='a'\n",
        ")\n",
        "\n",
        "# Set experiment's device & deterministic behavior\n",
        "if CONFIG.cpu:\n",
        "    CONFIG.device = 'cpu'\n",
        "else:\n",
        "    CONFIG.device = 'cuda' if torch.cuda.is_available() else 'cpu'\n",
        "\n",
        "torch.manual_seed(CONFIG.seed)\n",
        "random.seed(CONFIG.seed)\n",
        "np.random.seed(CONFIG.seed)\n",
        "torch.backends.cudnn.benchmark = True\n",
        "torch.use_deterministic_algorithms(mode=True, warn_only=True)\n",
        "\n",
        "main()"
      ]
    },
    {
      "cell_type": "markdown",
      "metadata": {
        "id": "Wp7cQ0N0YJez"
      },
      "source": [
        "#### 1.2.4 - ASH module after layer1.1.bn1 and layer3.0.conv1"
      ]
    },
    {
      "cell_type": "markdown",
      "metadata": {
        "id": "18dhD07SYJez"
      },
      "source": [
        "##### 1.2.4.1 - Cartoon"
      ]
    },
    {
      "cell_type": "code",
      "execution_count": null,
      "metadata": {
        "vscode": {
          "languageId": "python"
        },
        "id": "OeOZILLbYJez"
      },
      "outputs": [],
      "source": [
        "warnings.filterwarnings('ignore', category=UserWarning)\n",
        "\n",
        "# Parse arguments\n",
        "conf = configurations['1.2.4.1']\n",
        "\n",
        "#args = parse_arguments()\n",
        "args = argparse.Namespace(**conf)\n",
        "print(args)\n",
        "CONFIG.update(vars(args))\n",
        "\n",
        "# Setup output directory\n",
        "CONFIG.save_dir = os.path.join('record', CONFIG.experiment_name)\n",
        "os.makedirs(CONFIG.save_dir, exist_ok=True)\n",
        "\n",
        "# Setup logging\n",
        "logging.basicConfig(\n",
        "    filename=os.path.join(CONFIG.save_dir, 'log.txt'),\n",
        "    format='%(message)s',\n",
        "    level=logging.INFO,\n",
        "    filemode='a'\n",
        ")\n",
        "\n",
        "# Set experiment's device & deterministic behavior\n",
        "if CONFIG.cpu:\n",
        "    CONFIG.device = 'cpu'\n",
        "else:\n",
        "    CONFIG.device = 'cuda' if torch.cuda.is_available() else 'cpu'\n",
        "\n",
        "torch.manual_seed(CONFIG.seed)\n",
        "random.seed(CONFIG.seed)\n",
        "np.random.seed(CONFIG.seed)\n",
        "torch.backends.cudnn.benchmark = True\n",
        "torch.use_deterministic_algorithms(mode=True, warn_only=True)\n",
        "\n",
        "main()"
      ]
    },
    {
      "cell_type": "markdown",
      "metadata": {
        "id": "0F1ABiEcYJez"
      },
      "source": [
        "##### 1.2.4.2 - Sketch"
      ]
    },
    {
      "cell_type": "code",
      "execution_count": null,
      "metadata": {
        "vscode": {
          "languageId": "python"
        },
        "id": "aZpUG8BcYJez"
      },
      "outputs": [],
      "source": [
        "warnings.filterwarnings('ignore', category=UserWarning)\n",
        "\n",
        "# Parse arguments\n",
        "conf = configurations['1.2.4.2']\n",
        "\n",
        "#args = parse_arguments()\n",
        "args = argparse.Namespace(**conf)\n",
        "print(args)\n",
        "CONFIG.update(vars(args))\n",
        "\n",
        "# Setup output directory\n",
        "CONFIG.save_dir = os.path.join('record', CONFIG.experiment_name)\n",
        "os.makedirs(CONFIG.save_dir, exist_ok=True)\n",
        "\n",
        "# Setup logging\n",
        "logging.basicConfig(\n",
        "    filename=os.path.join(CONFIG.save_dir, 'log.txt'),\n",
        "    format='%(message)s',\n",
        "    level=logging.INFO,\n",
        "    filemode='a'\n",
        ")\n",
        "\n",
        "# Set experiment's device & deterministic behavior\n",
        "if CONFIG.cpu:\n",
        "    CONFIG.device = 'cpu'\n",
        "else:\n",
        "    CONFIG.device = 'cuda' if torch.cuda.is_available() else 'cpu'\n",
        "\n",
        "torch.manual_seed(CONFIG.seed)\n",
        "random.seed(CONFIG.seed)\n",
        "np.random.seed(CONFIG.seed)\n",
        "torch.backends.cudnn.benchmark = True\n",
        "torch.use_deterministic_algorithms(mode=True, warn_only=True)\n",
        "\n",
        "main()"
      ]
    },
    {
      "cell_type": "markdown",
      "metadata": {
        "id": "fBrZJtShYJez"
      },
      "source": [
        "##### 1.2.4.3 - Photo"
      ]
    },
    {
      "cell_type": "code",
      "execution_count": null,
      "metadata": {
        "vscode": {
          "languageId": "python"
        },
        "id": "3EVAZ36RYJe0"
      },
      "outputs": [],
      "source": [
        "warnings.filterwarnings('ignore', category=UserWarning)\n",
        "\n",
        "# Parse arguments\n",
        "conf = configurations['1.2.4.3']\n",
        "\n",
        "#args = parse_arguments()\n",
        "args = argparse.Namespace(**conf)\n",
        "print(args)\n",
        "CONFIG.update(vars(args))\n",
        "\n",
        "# Setup output directory\n",
        "CONFIG.save_dir = os.path.join('record', CONFIG.experiment_name)\n",
        "os.makedirs(CONFIG.save_dir, exist_ok=True)\n",
        "\n",
        "# Setup logging\n",
        "logging.basicConfig(\n",
        "    filename=os.path.join(CONFIG.save_dir, 'log.txt'),\n",
        "    format='%(message)s',\n",
        "    level=logging.INFO,\n",
        "    filemode='a'\n",
        ")\n",
        "\n",
        "# Set experiment's device & deterministic behavior\n",
        "if CONFIG.cpu:\n",
        "    CONFIG.device = 'cpu'\n",
        "else:\n",
        "    CONFIG.device = 'cuda' if torch.cuda.is_available() else 'cpu'\n",
        "\n",
        "torch.manual_seed(CONFIG.seed)\n",
        "random.seed(CONFIG.seed)\n",
        "np.random.seed(CONFIG.seed)\n",
        "torch.backends.cudnn.benchmark = True\n",
        "torch.use_deterministic_algorithms(mode=True, warn_only=True)\n",
        "\n",
        "main()"
      ]
    },
    {
      "cell_type": "markdown",
      "metadata": {
        "id": "qC84ub1SYJe0"
      },
      "source": [
        "#### 1.2.5 - ASH module after layer1.1.bn1 and layer3.1.conv2"
      ]
    },
    {
      "cell_type": "markdown",
      "metadata": {
        "id": "N7FSd9BDYJe0"
      },
      "source": [
        "##### 1.2.5.1 - Cartoon"
      ]
    },
    {
      "cell_type": "code",
      "execution_count": null,
      "metadata": {
        "vscode": {
          "languageId": "python"
        },
        "id": "X9rsSU2DYJe0"
      },
      "outputs": [],
      "source": [
        "warnings.filterwarnings('ignore', category=UserWarning)\n",
        "\n",
        "# Parse arguments\n",
        "conf = configurations['1.2.5.1']\n",
        "\n",
        "#args = parse_arguments()\n",
        "args = argparse.Namespace(**conf)\n",
        "print(args)\n",
        "CONFIG.update(vars(args))\n",
        "\n",
        "# Setup output directory\n",
        "CONFIG.save_dir = os.path.join('record', CONFIG.experiment_name)\n",
        "os.makedirs(CONFIG.save_dir, exist_ok=True)\n",
        "\n",
        "# Setup logging\n",
        "logging.basicConfig(\n",
        "    filename=os.path.join(CONFIG.save_dir, 'log.txt'),\n",
        "    format='%(message)s',\n",
        "    level=logging.INFO,\n",
        "    filemode='a'\n",
        ")\n",
        "\n",
        "# Set experiment's device & deterministic behavior\n",
        "if CONFIG.cpu:\n",
        "    CONFIG.device = 'cpu'\n",
        "else:\n",
        "    CONFIG.device = 'cuda' if torch.cuda.is_available() else 'cpu'\n",
        "\n",
        "torch.manual_seed(CONFIG.seed)\n",
        "random.seed(CONFIG.seed)\n",
        "np.random.seed(CONFIG.seed)\n",
        "torch.backends.cudnn.benchmark = True\n",
        "torch.use_deterministic_algorithms(mode=True, warn_only=True)\n",
        "\n",
        "main()"
      ]
    },
    {
      "cell_type": "markdown",
      "metadata": {
        "id": "6MnR0CjiYJe0"
      },
      "source": [
        "##### 1.2.5.2 - Sketch"
      ]
    },
    {
      "cell_type": "code",
      "execution_count": null,
      "metadata": {
        "vscode": {
          "languageId": "python"
        },
        "id": "VDaLzx26YJe0"
      },
      "outputs": [],
      "source": [
        "warnings.filterwarnings('ignore', category=UserWarning)\n",
        "\n",
        "# Parse arguments\n",
        "conf = configurations['1.2.5.2']\n",
        "\n",
        "#args = parse_arguments()\n",
        "args = argparse.Namespace(**conf)\n",
        "print(args)\n",
        "CONFIG.update(vars(args))\n",
        "\n",
        "# Setup output directory\n",
        "CONFIG.save_dir = os.path.join('record', CONFIG.experiment_name)\n",
        "os.makedirs(CONFIG.save_dir, exist_ok=True)\n",
        "\n",
        "# Setup logging\n",
        "logging.basicConfig(\n",
        "    filename=os.path.join(CONFIG.save_dir, 'log.txt'),\n",
        "    format='%(message)s',\n",
        "    level=logging.INFO,\n",
        "    filemode='a'\n",
        ")\n",
        "\n",
        "# Set experiment's device & deterministic behavior\n",
        "if CONFIG.cpu:\n",
        "    CONFIG.device = 'cpu'\n",
        "else:\n",
        "    CONFIG.device = 'cuda' if torch.cuda.is_available() else 'cpu'\n",
        "\n",
        "torch.manual_seed(CONFIG.seed)\n",
        "random.seed(CONFIG.seed)\n",
        "np.random.seed(CONFIG.seed)\n",
        "torch.backends.cudnn.benchmark = True\n",
        "torch.use_deterministic_algorithms(mode=True, warn_only=True)\n",
        "\n",
        "main()"
      ]
    },
    {
      "cell_type": "markdown",
      "metadata": {
        "id": "-Qim1s4dYJe-"
      },
      "source": [
        "##### 1.2.5.3 - Photo"
      ]
    },
    {
      "cell_type": "code",
      "execution_count": null,
      "metadata": {
        "vscode": {
          "languageId": "python"
        },
        "id": "3rseKRgGYJe_"
      },
      "outputs": [],
      "source": [
        "warnings.filterwarnings('ignore', category=UserWarning)\n",
        "\n",
        "# Parse arguments\n",
        "conf = configurations['1.2.5.3']\n",
        "\n",
        "#args = parse_arguments()\n",
        "args = argparse.Namespace(**conf)\n",
        "print(args)\n",
        "CONFIG.update(vars(args))\n",
        "\n",
        "# Setup output directory\n",
        "CONFIG.save_dir = os.path.join('record', CONFIG.experiment_name)\n",
        "os.makedirs(CONFIG.save_dir, exist_ok=True)\n",
        "\n",
        "# Setup logging\n",
        "logging.basicConfig(\n",
        "    filename=os.path.join(CONFIG.save_dir, 'log.txt'),\n",
        "    format='%(message)s',\n",
        "    level=logging.INFO,\n",
        "    filemode='a'\n",
        ")\n",
        "\n",
        "# Set experiment's device & deterministic behavior\n",
        "if CONFIG.cpu:\n",
        "    CONFIG.device = 'cpu'\n",
        "else:\n",
        "    CONFIG.device = 'cuda' if torch.cuda.is_available() else 'cpu'\n",
        "\n",
        "torch.manual_seed(CONFIG.seed)\n",
        "random.seed(CONFIG.seed)\n",
        "np.random.seed(CONFIG.seed)\n",
        "torch.backends.cudnn.benchmark = True\n",
        "torch.use_deterministic_algorithms(mode=True, warn_only=True)\n",
        "\n",
        "main()"
      ]
    },
    {
      "cell_type": "markdown",
      "metadata": {
        "id": "4dr-nJXmYJe_"
      },
      "source": [
        "#### 1.2.6 - ASH module after layer1.1.conv2 and layer1.1.bn2"
      ]
    },
    {
      "cell_type": "markdown",
      "metadata": {
        "id": "dzNrRAb7YJe_"
      },
      "source": [
        "##### 1.2.6.1 - Cartoon"
      ]
    },
    {
      "cell_type": "code",
      "execution_count": null,
      "metadata": {
        "vscode": {
          "languageId": "python"
        },
        "id": "QwIIn8vrYJfA"
      },
      "outputs": [],
      "source": [
        "warnings.filterwarnings('ignore', category=UserWarning)\n",
        "\n",
        "# Parse arguments\n",
        "conf = configurations['1.2.6.1']\n",
        "\n",
        "#args = parse_arguments()\n",
        "args = argparse.Namespace(**conf)\n",
        "print(args)\n",
        "CONFIG.update(vars(args))\n",
        "\n",
        "# Setup output directory\n",
        "CONFIG.save_dir = os.path.join('record', CONFIG.experiment_name)\n",
        "os.makedirs(CONFIG.save_dir, exist_ok=True)\n",
        "\n",
        "# Setup logging\n",
        "logging.basicConfig(\n",
        "    filename=os.path.join(CONFIG.save_dir, 'log.txt'),\n",
        "    format='%(message)s',\n",
        "    level=logging.INFO,\n",
        "    filemode='a'\n",
        ")\n",
        "\n",
        "# Set experiment's device & deterministic behavior\n",
        "if CONFIG.cpu:\n",
        "    CONFIG.device = 'cpu'\n",
        "else:\n",
        "    CONFIG.device = 'cuda' if torch.cuda.is_available() else 'cpu'\n",
        "\n",
        "torch.manual_seed(CONFIG.seed)\n",
        "random.seed(CONFIG.seed)\n",
        "np.random.seed(CONFIG.seed)\n",
        "torch.backends.cudnn.benchmark = True\n",
        "torch.use_deterministic_algorithms(mode=True, warn_only=True)\n",
        "\n",
        "main()"
      ]
    },
    {
      "cell_type": "markdown",
      "metadata": {
        "id": "t9Em5DZaYJfA"
      },
      "source": [
        "##### 1.2.6.2 - Sketch"
      ]
    },
    {
      "cell_type": "code",
      "execution_count": null,
      "metadata": {
        "vscode": {
          "languageId": "python"
        },
        "id": "pab1AxAwYJfA"
      },
      "outputs": [],
      "source": [
        "warnings.filterwarnings('ignore', category=UserWarning)\n",
        "\n",
        "# Parse arguments\n",
        "conf = configurations['1.2.6.2']\n",
        "\n",
        "#args = parse_arguments()\n",
        "args = argparse.Namespace(**conf)\n",
        "print(args)\n",
        "CONFIG.update(vars(args))\n",
        "\n",
        "# Setup output directory\n",
        "CONFIG.save_dir = os.path.join('record', CONFIG.experiment_name)\n",
        "os.makedirs(CONFIG.save_dir, exist_ok=True)\n",
        "\n",
        "# Setup logging\n",
        "logging.basicConfig(\n",
        "    filename=os.path.join(CONFIG.save_dir, 'log.txt'),\n",
        "    format='%(message)s',\n",
        "    level=logging.INFO,\n",
        "    filemode='a'\n",
        ")\n",
        "\n",
        "# Set experiment's device & deterministic behavior\n",
        "if CONFIG.cpu:\n",
        "    CONFIG.device = 'cpu'\n",
        "else:\n",
        "    CONFIG.device = 'cuda' if torch.cuda.is_available() else 'cpu'\n",
        "\n",
        "torch.manual_seed(CONFIG.seed)\n",
        "random.seed(CONFIG.seed)\n",
        "np.random.seed(CONFIG.seed)\n",
        "torch.backends.cudnn.benchmark = True\n",
        "torch.use_deterministic_algorithms(mode=True, warn_only=True)\n",
        "\n",
        "main()"
      ]
    },
    {
      "cell_type": "markdown",
      "metadata": {
        "id": "His5kVm0YJfA"
      },
      "source": [
        "##### 1.2.6.3 - Photo"
      ]
    },
    {
      "cell_type": "code",
      "execution_count": null,
      "metadata": {
        "vscode": {
          "languageId": "python"
        },
        "id": "brtEi6KpYJfA"
      },
      "outputs": [],
      "source": [
        "warnings.filterwarnings('ignore', category=UserWarning)\n",
        "\n",
        "# Parse arguments\n",
        "conf = configurations['1.2.6.3']\n",
        "\n",
        "#args = parse_arguments()\n",
        "args = argparse.Namespace(**conf)\n",
        "print(args)\n",
        "CONFIG.update(vars(args))\n",
        "\n",
        "# Setup output directory\n",
        "CONFIG.save_dir = os.path.join('record', CONFIG.experiment_name)\n",
        "os.makedirs(CONFIG.save_dir, exist_ok=True)\n",
        "\n",
        "# Setup logging\n",
        "logging.basicConfig(\n",
        "    filename=os.path.join(CONFIG.save_dir, 'log.txt'),\n",
        "    format='%(message)s',\n",
        "    level=logging.INFO,\n",
        "    filemode='a'\n",
        ")\n",
        "\n",
        "# Set experiment's device & deterministic behavior\n",
        "if CONFIG.cpu:\n",
        "    CONFIG.device = 'cpu'\n",
        "else:\n",
        "    CONFIG.device = 'cuda' if torch.cuda.is_available() else 'cpu'\n",
        "\n",
        "torch.manual_seed(CONFIG.seed)\n",
        "random.seed(CONFIG.seed)\n",
        "np.random.seed(CONFIG.seed)\n",
        "torch.backends.cudnn.benchmark = True\n",
        "torch.use_deterministic_algorithms(mode=True, warn_only=True)\n",
        "\n",
        "main()"
      ]
    },
    {
      "cell_type": "markdown",
      "metadata": {
        "id": "SlToPUPFYJfA"
      },
      "source": [
        "#### 1.2.7 - ASH module after layer1.1.conv2 and layer2.1.conv2"
      ]
    },
    {
      "cell_type": "markdown",
      "metadata": {
        "id": "A7fNsCupYJfA"
      },
      "source": [
        "##### 1.2.7.1 - Cartoon"
      ]
    },
    {
      "cell_type": "code",
      "execution_count": null,
      "metadata": {
        "vscode": {
          "languageId": "python"
        },
        "id": "GFdcd9JFYJfA"
      },
      "outputs": [],
      "source": [
        "warnings.filterwarnings('ignore', category=UserWarning)\n",
        "\n",
        "# Parse arguments\n",
        "conf = configurations['1.2.7.1']\n",
        "\n",
        "#args = parse_arguments()\n",
        "args = argparse.Namespace(**conf)\n",
        "print(args)\n",
        "CONFIG.update(vars(args))\n",
        "\n",
        "# Setup output directory\n",
        "CONFIG.save_dir = os.path.join('record', CONFIG.experiment_name)\n",
        "os.makedirs(CONFIG.save_dir, exist_ok=True)\n",
        "\n",
        "# Setup logging\n",
        "logging.basicConfig(\n",
        "    filename=os.path.join(CONFIG.save_dir, 'log.txt'),\n",
        "    format='%(message)s',\n",
        "    level=logging.INFO,\n",
        "    filemode='a'\n",
        ")\n",
        "\n",
        "# Set experiment's device & deterministic behavior\n",
        "if CONFIG.cpu:\n",
        "    CONFIG.device = 'cpu'\n",
        "else:\n",
        "    CONFIG.device = 'cuda' if torch.cuda.is_available() else 'cpu'\n",
        "\n",
        "torch.manual_seed(CONFIG.seed)\n",
        "random.seed(CONFIG.seed)\n",
        "np.random.seed(CONFIG.seed)\n",
        "torch.backends.cudnn.benchmark = True\n",
        "torch.use_deterministic_algorithms(mode=True, warn_only=True)\n",
        "\n",
        "main()"
      ]
    },
    {
      "cell_type": "markdown",
      "metadata": {
        "id": "04xd2DC_YJfB"
      },
      "source": [
        "##### 1.2.7.2 - Sketch"
      ]
    },
    {
      "cell_type": "code",
      "execution_count": null,
      "metadata": {
        "vscode": {
          "languageId": "python"
        },
        "id": "rp9Pinu8YJfB"
      },
      "outputs": [],
      "source": [
        "warnings.filterwarnings('ignore', category=UserWarning)\n",
        "\n",
        "# Parse arguments\n",
        "conf = configurations['1.2.7.2']\n",
        "\n",
        "#args = parse_arguments()\n",
        "args = argparse.Namespace(**conf)\n",
        "print(args)\n",
        "CONFIG.update(vars(args))\n",
        "\n",
        "# Setup output directory\n",
        "CONFIG.save_dir = os.path.join('record', CONFIG.experiment_name)\n",
        "os.makedirs(CONFIG.save_dir, exist_ok=True)\n",
        "\n",
        "# Setup logging\n",
        "logging.basicConfig(\n",
        "    filename=os.path.join(CONFIG.save_dir, 'log.txt'),\n",
        "    format='%(message)s',\n",
        "    level=logging.INFO,\n",
        "    filemode='a'\n",
        ")\n",
        "\n",
        "# Set experiment's device & deterministic behavior\n",
        "if CONFIG.cpu:\n",
        "    CONFIG.device = 'cpu'\n",
        "else:\n",
        "    CONFIG.device = 'cuda' if torch.cuda.is_available() else 'cpu'\n",
        "\n",
        "torch.manual_seed(CONFIG.seed)\n",
        "random.seed(CONFIG.seed)\n",
        "np.random.seed(CONFIG.seed)\n",
        "torch.backends.cudnn.benchmark = True\n",
        "torch.use_deterministic_algorithms(mode=True, warn_only=True)\n",
        "\n",
        "main()"
      ]
    },
    {
      "cell_type": "markdown",
      "metadata": {
        "id": "6E8RKJxsYJfB"
      },
      "source": [
        "##### 1.2.7.3 - Photo"
      ]
    },
    {
      "cell_type": "code",
      "execution_count": null,
      "metadata": {
        "vscode": {
          "languageId": "python"
        },
        "id": "WW_QjH4OYJfB"
      },
      "outputs": [],
      "source": [
        "warnings.filterwarnings('ignore', category=UserWarning)\n",
        "\n",
        "# Parse arguments\n",
        "conf = configurations['1.2.7.3']\n",
        "\n",
        "#args = parse_arguments()\n",
        "args = argparse.Namespace(**conf)\n",
        "print(args)\n",
        "CONFIG.update(vars(args))\n",
        "\n",
        "# Setup output directory\n",
        "CONFIG.save_dir = os.path.join('record', CONFIG.experiment_name)\n",
        "os.makedirs(CONFIG.save_dir, exist_ok=True)\n",
        "\n",
        "# Setup logging\n",
        "logging.basicConfig(\n",
        "    filename=os.path.join(CONFIG.save_dir, 'log.txt'),\n",
        "    format='%(message)s',\n",
        "    level=logging.INFO,\n",
        "    filemode='a'\n",
        ")\n",
        "\n",
        "# Set experiment's device & deterministic behavior\n",
        "if CONFIG.cpu:\n",
        "    CONFIG.device = 'cpu'\n",
        "else:\n",
        "    CONFIG.device = 'cuda' if torch.cuda.is_available() else 'cpu'\n",
        "\n",
        "torch.manual_seed(CONFIG.seed)\n",
        "random.seed(CONFIG.seed)\n",
        "np.random.seed(CONFIG.seed)\n",
        "torch.backends.cudnn.benchmark = True\n",
        "torch.use_deterministic_algorithms(mode=True, warn_only=True)\n",
        "\n",
        "main()"
      ]
    },
    {
      "cell_type": "markdown",
      "metadata": {
        "id": "mO0KfIMcYJfB"
      },
      "source": [
        "#### 1.2.8 - ASH module after layer1.1.conv2 and layer3.0.conv1"
      ]
    },
    {
      "cell_type": "markdown",
      "metadata": {
        "id": "K1HPdiTDYJfB"
      },
      "source": [
        "##### 1.2.8.1 - Cartoon"
      ]
    },
    {
      "cell_type": "code",
      "execution_count": null,
      "metadata": {
        "vscode": {
          "languageId": "python"
        },
        "id": "MdxzgbwEYJfB"
      },
      "outputs": [],
      "source": [
        "warnings.filterwarnings('ignore', category=UserWarning)\n",
        "\n",
        "# Parse arguments\n",
        "conf = configurations['1.2.8.1']\n",
        "\n",
        "#args = parse_arguments()\n",
        "args = argparse.Namespace(**conf)\n",
        "print(args)\n",
        "CONFIG.update(vars(args))\n",
        "\n",
        "# Setup output directory\n",
        "CONFIG.save_dir = os.path.join('record', CONFIG.experiment_name)\n",
        "os.makedirs(CONFIG.save_dir, exist_ok=True)\n",
        "\n",
        "# Setup logging\n",
        "logging.basicConfig(\n",
        "    filename=os.path.join(CONFIG.save_dir, 'log.txt'),\n",
        "    format='%(message)s',\n",
        "    level=logging.INFO,\n",
        "    filemode='a'\n",
        ")\n",
        "\n",
        "# Set experiment's device & deterministic behavior\n",
        "if CONFIG.cpu:\n",
        "    CONFIG.device = 'cpu'\n",
        "else:\n",
        "    CONFIG.device = 'cuda' if torch.cuda.is_available() else 'cpu'\n",
        "\n",
        "torch.manual_seed(CONFIG.seed)\n",
        "random.seed(CONFIG.seed)\n",
        "np.random.seed(CONFIG.seed)\n",
        "torch.backends.cudnn.benchmark = True\n",
        "torch.use_deterministic_algorithms(mode=True, warn_only=True)\n",
        "\n",
        "main()"
      ]
    },
    {
      "cell_type": "markdown",
      "metadata": {
        "id": "p13qh8MLYJfB"
      },
      "source": [
        "##### 1.2.8.2 - Sketch"
      ]
    },
    {
      "cell_type": "code",
      "execution_count": null,
      "metadata": {
        "vscode": {
          "languageId": "python"
        },
        "id": "UyVRdeIDYJfB"
      },
      "outputs": [],
      "source": [
        "warnings.filterwarnings('ignore', category=UserWarning)\n",
        "\n",
        "# Parse arguments\n",
        "conf = configurations['1.2.8.2']\n",
        "\n",
        "#args = parse_arguments()\n",
        "args = argparse.Namespace(**conf)\n",
        "print(args)\n",
        "CONFIG.update(vars(args))\n",
        "\n",
        "# Setup output directory\n",
        "CONFIG.save_dir = os.path.join('record', CONFIG.experiment_name)\n",
        "os.makedirs(CONFIG.save_dir, exist_ok=True)\n",
        "\n",
        "# Setup logging\n",
        "logging.basicConfig(\n",
        "    filename=os.path.join(CONFIG.save_dir, 'log.txt'),\n",
        "    format='%(message)s',\n",
        "    level=logging.INFO,\n",
        "    filemode='a'\n",
        ")\n",
        "\n",
        "# Set experiment's device & deterministic behavior\n",
        "if CONFIG.cpu:\n",
        "    CONFIG.device = 'cpu'\n",
        "else:\n",
        "    CONFIG.device = 'cuda' if torch.cuda.is_available() else 'cpu'\n",
        "\n",
        "torch.manual_seed(CONFIG.seed)\n",
        "random.seed(CONFIG.seed)\n",
        "np.random.seed(CONFIG.seed)\n",
        "torch.backends.cudnn.benchmark = True\n",
        "torch.use_deterministic_algorithms(mode=True, warn_only=True)\n",
        "\n",
        "main()"
      ]
    },
    {
      "cell_type": "markdown",
      "metadata": {
        "id": "bZSyKzi4YJfC"
      },
      "source": [
        "##### 1.2.8.3 - Photo"
      ]
    },
    {
      "cell_type": "code",
      "execution_count": null,
      "metadata": {
        "vscode": {
          "languageId": "python"
        },
        "id": "VTKBfiZyYJfC"
      },
      "outputs": [],
      "source": [
        "warnings.filterwarnings('ignore', category=UserWarning)\n",
        "\n",
        "# Parse arguments\n",
        "conf = configurations['1.2.8.3']\n",
        "\n",
        "#args = parse_arguments()\n",
        "args = argparse.Namespace(**conf)\n",
        "print(args)\n",
        "CONFIG.update(vars(args))\n",
        "\n",
        "# Setup output directory\n",
        "CONFIG.save_dir = os.path.join('record', CONFIG.experiment_name)\n",
        "os.makedirs(CONFIG.save_dir, exist_ok=True)\n",
        "\n",
        "# Setup logging\n",
        "logging.basicConfig(\n",
        "    filename=os.path.join(CONFIG.save_dir, 'log.txt'),\n",
        "    format='%(message)s',\n",
        "    level=logging.INFO,\n",
        "    filemode='a'\n",
        ")\n",
        "\n",
        "# Set experiment's device & deterministic behavior\n",
        "if CONFIG.cpu:\n",
        "    CONFIG.device = 'cpu'\n",
        "else:\n",
        "    CONFIG.device = 'cuda' if torch.cuda.is_available() else 'cpu'\n",
        "\n",
        "torch.manual_seed(CONFIG.seed)\n",
        "random.seed(CONFIG.seed)\n",
        "np.random.seed(CONFIG.seed)\n",
        "torch.backends.cudnn.benchmark = True\n",
        "torch.use_deterministic_algorithms(mode=True, warn_only=True)\n",
        "\n",
        "main()"
      ]
    },
    {
      "cell_type": "markdown",
      "metadata": {
        "id": "R0lm-wCVYJfC"
      },
      "source": [
        "#### 1.2.9 - ASH module after layer1.1.conv2 and layer3.1.conv2"
      ]
    },
    {
      "cell_type": "markdown",
      "metadata": {
        "id": "xHYlxEAKYJfC"
      },
      "source": [
        "##### 1.2.9.1 - Cartoon"
      ]
    },
    {
      "cell_type": "code",
      "execution_count": null,
      "metadata": {
        "vscode": {
          "languageId": "python"
        },
        "id": "ixt7zcXkYJfC"
      },
      "outputs": [],
      "source": [
        "warnings.filterwarnings('ignore', category=UserWarning)\n",
        "\n",
        "# Parse arguments\n",
        "conf = configurations['1.2.9.1']\n",
        "\n",
        "#args = parse_arguments()\n",
        "args = argparse.Namespace(**conf)\n",
        "print(args)\n",
        "CONFIG.update(vars(args))\n",
        "\n",
        "# Setup output directory\n",
        "CONFIG.save_dir = os.path.join('record', CONFIG.experiment_name)\n",
        "os.makedirs(CONFIG.save_dir, exist_ok=True)\n",
        "\n",
        "# Setup logging\n",
        "logging.basicConfig(\n",
        "    filename=os.path.join(CONFIG.save_dir, 'log.txt'),\n",
        "    format='%(message)s',\n",
        "    level=logging.INFO,\n",
        "    filemode='a'\n",
        ")\n",
        "\n",
        "# Set experiment's device & deterministic behavior\n",
        "if CONFIG.cpu:\n",
        "    CONFIG.device = 'cpu'\n",
        "else:\n",
        "    CONFIG.device = 'cuda' if torch.cuda.is_available() else 'cpu'\n",
        "\n",
        "torch.manual_seed(CONFIG.seed)\n",
        "random.seed(CONFIG.seed)\n",
        "np.random.seed(CONFIG.seed)\n",
        "torch.backends.cudnn.benchmark = True\n",
        "torch.use_deterministic_algorithms(mode=True, warn_only=True)\n",
        "\n",
        "main()"
      ]
    },
    {
      "cell_type": "markdown",
      "metadata": {
        "id": "Ru-IEIlhYJfC"
      },
      "source": [
        "##### 1.2.9.2 - Sketch"
      ]
    },
    {
      "cell_type": "code",
      "execution_count": null,
      "metadata": {
        "vscode": {
          "languageId": "python"
        },
        "id": "FFUTlOnfYJfD"
      },
      "outputs": [],
      "source": [
        "warnings.filterwarnings('ignore', category=UserWarning)\n",
        "\n",
        "# Parse arguments\n",
        "conf = configurations['1.2.9.2']\n",
        "\n",
        "#args = parse_arguments()\n",
        "args = argparse.Namespace(**conf)\n",
        "print(args)\n",
        "CONFIG.update(vars(args))\n",
        "\n",
        "# Setup output directory\n",
        "CONFIG.save_dir = os.path.join('record', CONFIG.experiment_name)\n",
        "os.makedirs(CONFIG.save_dir, exist_ok=True)\n",
        "\n",
        "# Setup logging\n",
        "logging.basicConfig(\n",
        "    filename=os.path.join(CONFIG.save_dir, 'log.txt'),\n",
        "    format='%(message)s',\n",
        "    level=logging.INFO,\n",
        "    filemode='a'\n",
        ")\n",
        "\n",
        "# Set experiment's device & deterministic behavior\n",
        "if CONFIG.cpu:\n",
        "    CONFIG.device = 'cpu'\n",
        "else:\n",
        "    CONFIG.device = 'cuda' if torch.cuda.is_available() else 'cpu'\n",
        "\n",
        "torch.manual_seed(CONFIG.seed)\n",
        "random.seed(CONFIG.seed)\n",
        "np.random.seed(CONFIG.seed)\n",
        "torch.backends.cudnn.benchmark = True\n",
        "torch.use_deterministic_algorithms(mode=True, warn_only=True)\n",
        "\n",
        "main()"
      ]
    },
    {
      "cell_type": "markdown",
      "metadata": {
        "id": "tEFD4NPlYJfD"
      },
      "source": [
        "##### 1.2.9.3 - Photo"
      ]
    },
    {
      "cell_type": "code",
      "execution_count": null,
      "metadata": {
        "vscode": {
          "languageId": "python"
        },
        "id": "fusVesmjYJfD"
      },
      "outputs": [],
      "source": [
        "warnings.filterwarnings('ignore', category=UserWarning)\n",
        "\n",
        "# Parse arguments\n",
        "conf = configurations['1.2.9.3']\n",
        "\n",
        "#args = parse_arguments()\n",
        "args = argparse.Namespace(**conf)\n",
        "print(args)\n",
        "CONFIG.update(vars(args))\n",
        "\n",
        "# Setup output directory\n",
        "CONFIG.save_dir = os.path.join('record', CONFIG.experiment_name)\n",
        "os.makedirs(CONFIG.save_dir, exist_ok=True)\n",
        "\n",
        "# Setup logging\n",
        "logging.basicConfig(\n",
        "    filename=os.path.join(CONFIG.save_dir, 'log.txt'),\n",
        "    format='%(message)s',\n",
        "    level=logging.INFO,\n",
        "    filemode='a'\n",
        ")\n",
        "\n",
        "# Set experiment's device & deterministic behavior\n",
        "if CONFIG.cpu:\n",
        "    CONFIG.device = 'cpu'\n",
        "else:\n",
        "    CONFIG.device = 'cuda' if torch.cuda.is_available() else 'cpu'\n",
        "\n",
        "torch.manual_seed(CONFIG.seed)\n",
        "random.seed(CONFIG.seed)\n",
        "np.random.seed(CONFIG.seed)\n",
        "torch.backends.cudnn.benchmark = True\n",
        "torch.use_deterministic_algorithms(mode=True, warn_only=True)\n",
        "\n",
        "main()"
      ]
    },
    {
      "cell_type": "markdown",
      "metadata": {
        "id": "4xkDfVbdYJfD"
      },
      "source": [
        "#### 1.2.10 - ASH module after layer1.1.bn2 and layer2.1.bn2"
      ]
    },
    {
      "cell_type": "markdown",
      "metadata": {
        "id": "baDi70QMYJfD"
      },
      "source": [
        "##### 1.2.10.1 - Cartoon"
      ]
    },
    {
      "cell_type": "code",
      "execution_count": null,
      "metadata": {
        "vscode": {
          "languageId": "python"
        },
        "id": "Q-zOchVhYJfD"
      },
      "outputs": [],
      "source": [
        "warnings.filterwarnings('ignore', category=UserWarning)\n",
        "\n",
        "# Parse arguments\n",
        "conf = configurations['1.2.10.1']\n",
        "\n",
        "#args = parse_arguments()\n",
        "args = argparse.Namespace(**conf)\n",
        "print(args)\n",
        "CONFIG.update(vars(args))\n",
        "\n",
        "# Setup output directory\n",
        "CONFIG.save_dir = os.path.join('record', CONFIG.experiment_name)\n",
        "os.makedirs(CONFIG.save_dir, exist_ok=True)\n",
        "\n",
        "# Setup logging\n",
        "logging.basicConfig(\n",
        "    filename=os.path.join(CONFIG.save_dir, 'log.txt'),\n",
        "    format='%(message)s',\n",
        "    level=logging.INFO,\n",
        "    filemode='a'\n",
        ")\n",
        "\n",
        "# Set experiment's device & deterministic behavior\n",
        "if CONFIG.cpu:\n",
        "    CONFIG.device = 'cpu'\n",
        "else:\n",
        "    CONFIG.device = 'cuda' if torch.cuda.is_available() else 'cpu'\n",
        "\n",
        "torch.manual_seed(CONFIG.seed)\n",
        "random.seed(CONFIG.seed)\n",
        "np.random.seed(CONFIG.seed)\n",
        "torch.backends.cudnn.benchmark = True\n",
        "torch.use_deterministic_algorithms(mode=True, warn_only=True)\n",
        "\n",
        "main()"
      ]
    },
    {
      "cell_type": "markdown",
      "metadata": {
        "id": "TAadCPDcYJfD"
      },
      "source": [
        "##### 1.2.10.2 - Sketch"
      ]
    },
    {
      "cell_type": "code",
      "execution_count": null,
      "metadata": {
        "vscode": {
          "languageId": "python"
        },
        "id": "zt7uIx3QYJfE"
      },
      "outputs": [],
      "source": [
        "warnings.filterwarnings('ignore', category=UserWarning)\n",
        "\n",
        "# Parse arguments\n",
        "conf = configurations['1.2.10.2']\n",
        "\n",
        "#args = parse_arguments()\n",
        "args = argparse.Namespace(**conf)\n",
        "print(args)\n",
        "CONFIG.update(vars(args))\n",
        "\n",
        "# Setup output directory\n",
        "CONFIG.save_dir = os.path.join('record', CONFIG.experiment_name)\n",
        "os.makedirs(CONFIG.save_dir, exist_ok=True)\n",
        "\n",
        "# Setup logging\n",
        "logging.basicConfig(\n",
        "    filename=os.path.join(CONFIG.save_dir, 'log.txt'),\n",
        "    format='%(message)s',\n",
        "    level=logging.INFO,\n",
        "    filemode='a'\n",
        ")\n",
        "\n",
        "# Set experiment's device & deterministic behavior\n",
        "if CONFIG.cpu:\n",
        "    CONFIG.device = 'cpu'\n",
        "else:\n",
        "    CONFIG.device = 'cuda' if torch.cuda.is_available() else 'cpu'\n",
        "\n",
        "torch.manual_seed(CONFIG.seed)\n",
        "random.seed(CONFIG.seed)\n",
        "np.random.seed(CONFIG.seed)\n",
        "torch.backends.cudnn.benchmark = True\n",
        "torch.use_deterministic_algorithms(mode=True, warn_only=True)\n",
        "\n",
        "main()"
      ]
    },
    {
      "cell_type": "markdown",
      "metadata": {
        "id": "9_QmdWTzYJfE"
      },
      "source": [
        "##### 1.2.10.3 - Photo"
      ]
    },
    {
      "cell_type": "code",
      "execution_count": null,
      "metadata": {
        "vscode": {
          "languageId": "python"
        },
        "id": "OjuujDCFYJfE"
      },
      "outputs": [],
      "source": [
        "warnings.filterwarnings('ignore', category=UserWarning)\n",
        "\n",
        "# Parse arguments\n",
        "conf = configurations['1.2.10.3']\n",
        "\n",
        "#args = parse_arguments()\n",
        "args = argparse.Namespace(**conf)\n",
        "print(args)\n",
        "CONFIG.update(vars(args))\n",
        "\n",
        "# Setup output directory\n",
        "CONFIG.save_dir = os.path.join('record', CONFIG.experiment_name)\n",
        "os.makedirs(CONFIG.save_dir, exist_ok=True)\n",
        "\n",
        "# Setup logging\n",
        "logging.basicConfig(\n",
        "    filename=os.path.join(CONFIG.save_dir, 'log.txt'),\n",
        "    format='%(message)s',\n",
        "    level=logging.INFO,\n",
        "    filemode='a'\n",
        ")\n",
        "\n",
        "# Set experiment's device & deterministic behavior\n",
        "if CONFIG.cpu:\n",
        "    CONFIG.device = 'cpu'\n",
        "else:\n",
        "    CONFIG.device = 'cuda' if torch.cuda.is_available() else 'cpu'\n",
        "\n",
        "torch.manual_seed(CONFIG.seed)\n",
        "random.seed(CONFIG.seed)\n",
        "np.random.seed(CONFIG.seed)\n",
        "torch.backends.cudnn.benchmark = True\n",
        "torch.use_deterministic_algorithms(mode=True, warn_only=True)\n",
        "\n",
        "main()"
      ]
    },
    {
      "cell_type": "markdown",
      "metadata": {
        "id": "SrQIM8CYYJfE"
      },
      "source": [
        "#### 1.2.11 - ASH module after layer1.1.bn2 and layer3.0.conv1"
      ]
    },
    {
      "cell_type": "markdown",
      "metadata": {
        "id": "SWglo9HaYJfE"
      },
      "source": [
        "##### 1.2.11.1 - Cartoon"
      ]
    },
    {
      "cell_type": "code",
      "execution_count": null,
      "metadata": {
        "vscode": {
          "languageId": "python"
        },
        "id": "qI7DYluNYJfE"
      },
      "outputs": [],
      "source": [
        "warnings.filterwarnings('ignore', category=UserWarning)\n",
        "\n",
        "# Parse arguments\n",
        "conf = configurations['1.2.11.1']\n",
        "\n",
        "#args = parse_arguments()\n",
        "args = argparse.Namespace(**conf)\n",
        "print(args)\n",
        "CONFIG.update(vars(args))\n",
        "\n",
        "# Setup output directory\n",
        "CONFIG.save_dir = os.path.join('record', CONFIG.experiment_name)\n",
        "os.makedirs(CONFIG.save_dir, exist_ok=True)\n",
        "\n",
        "# Setup logging\n",
        "logging.basicConfig(\n",
        "    filename=os.path.join(CONFIG.save_dir, 'log.txt'),\n",
        "    format='%(message)s',\n",
        "    level=logging.INFO,\n",
        "    filemode='a'\n",
        ")\n",
        "\n",
        "# Set experiment's device & deterministic behavior\n",
        "if CONFIG.cpu:\n",
        "    CONFIG.device = 'cpu'\n",
        "else:\n",
        "    CONFIG.device = 'cuda' if torch.cuda.is_available() else 'cpu'\n",
        "\n",
        "torch.manual_seed(CONFIG.seed)\n",
        "random.seed(CONFIG.seed)\n",
        "np.random.seed(CONFIG.seed)\n",
        "torch.backends.cudnn.benchmark = True\n",
        "torch.use_deterministic_algorithms(mode=True, warn_only=True)\n",
        "\n",
        "main()"
      ]
    },
    {
      "cell_type": "markdown",
      "metadata": {
        "id": "omg2zSyvYJfE"
      },
      "source": [
        "##### 1.2.11.2 - Sketch"
      ]
    },
    {
      "cell_type": "code",
      "execution_count": null,
      "metadata": {
        "vscode": {
          "languageId": "python"
        },
        "id": "ANBmuQ02YJfF"
      },
      "outputs": [],
      "source": [
        "warnings.filterwarnings('ignore', category=UserWarning)\n",
        "\n",
        "# Parse arguments\n",
        "conf = configurations['1.2.11.2']\n",
        "\n",
        "#args = parse_arguments()\n",
        "args = argparse.Namespace(**conf)\n",
        "print(args)\n",
        "CONFIG.update(vars(args))\n",
        "\n",
        "# Setup output directory\n",
        "CONFIG.save_dir = os.path.join('record', CONFIG.experiment_name)\n",
        "os.makedirs(CONFIG.save_dir, exist_ok=True)\n",
        "\n",
        "# Setup logging\n",
        "logging.basicConfig(\n",
        "    filename=os.path.join(CONFIG.save_dir, 'log.txt'),\n",
        "    format='%(message)s',\n",
        "    level=logging.INFO,\n",
        "    filemode='a'\n",
        ")\n",
        "\n",
        "# Set experiment's device & deterministic behavior\n",
        "if CONFIG.cpu:\n",
        "    CONFIG.device = 'cpu'\n",
        "else:\n",
        "    CONFIG.device = 'cuda' if torch.cuda.is_available() else 'cpu'\n",
        "\n",
        "torch.manual_seed(CONFIG.seed)\n",
        "random.seed(CONFIG.seed)\n",
        "np.random.seed(CONFIG.seed)\n",
        "torch.backends.cudnn.benchmark = True\n",
        "torch.use_deterministic_algorithms(mode=True, warn_only=True)\n",
        "\n",
        "main()"
      ]
    },
    {
      "cell_type": "markdown",
      "metadata": {
        "id": "VjgmHZrLYJfF"
      },
      "source": [
        "##### 1.2.11.3 - Photo"
      ]
    },
    {
      "cell_type": "code",
      "execution_count": null,
      "metadata": {
        "vscode": {
          "languageId": "python"
        },
        "id": "xgv30LAmYJfF"
      },
      "outputs": [],
      "source": [
        "warnings.filterwarnings('ignore', category=UserWarning)\n",
        "\n",
        "# Parse arguments\n",
        "conf = configurations['1.2.11.3']\n",
        "\n",
        "#args = parse_arguments()\n",
        "args = argparse.Namespace(**conf)\n",
        "print(args)\n",
        "CONFIG.update(vars(args))\n",
        "\n",
        "# Setup output directory\n",
        "CONFIG.save_dir = os.path.join('record', CONFIG.experiment_name)\n",
        "os.makedirs(CONFIG.save_dir, exist_ok=True)\n",
        "\n",
        "# Setup logging\n",
        "logging.basicConfig(\n",
        "    filename=os.path.join(CONFIG.save_dir, 'log.txt'),\n",
        "    format='%(message)s',\n",
        "    level=logging.INFO,\n",
        "    filemode='a'\n",
        ")\n",
        "\n",
        "# Set experiment's device & deterministic behavior\n",
        "if CONFIG.cpu:\n",
        "    CONFIG.device = 'cpu'\n",
        "else:\n",
        "    CONFIG.device = 'cuda' if torch.cuda.is_available() else 'cpu'\n",
        "\n",
        "torch.manual_seed(CONFIG.seed)\n",
        "random.seed(CONFIG.seed)\n",
        "np.random.seed(CONFIG.seed)\n",
        "torch.backends.cudnn.benchmark = True\n",
        "torch.use_deterministic_algorithms(mode=True, warn_only=True)\n",
        "\n",
        "main()"
      ]
    },
    {
      "cell_type": "markdown",
      "metadata": {
        "id": "JU59NbJ7YJfF"
      },
      "source": [
        "#### 1.2.12 - ASH module after layer1.1.bn2 and layer3.1.conv2"
      ]
    },
    {
      "cell_type": "markdown",
      "metadata": {
        "id": "K0EC0RmNYJfF"
      },
      "source": [
        "##### 1.2.12.1 - Cartoon"
      ]
    },
    {
      "cell_type": "code",
      "execution_count": null,
      "metadata": {
        "vscode": {
          "languageId": "python"
        },
        "id": "T4ILkwayYJfF"
      },
      "outputs": [],
      "source": [
        "warnings.filterwarnings('ignore', category=UserWarning)\n",
        "\n",
        "# Parse arguments\n",
        "conf = configurations['1.2.12.1']\n",
        "\n",
        "#args = parse_arguments()\n",
        "args = argparse.Namespace(**conf)\n",
        "print(args)\n",
        "CONFIG.update(vars(args))\n",
        "\n",
        "# Setup output directory\n",
        "CONFIG.save_dir = os.path.join('record', CONFIG.experiment_name)\n",
        "os.makedirs(CONFIG.save_dir, exist_ok=True)\n",
        "\n",
        "# Setup logging\n",
        "logging.basicConfig(\n",
        "    filename=os.path.join(CONFIG.save_dir, 'log.txt'),\n",
        "    format='%(message)s',\n",
        "    level=logging.INFO,\n",
        "    filemode='a'\n",
        ")\n",
        "\n",
        "# Set experiment's device & deterministic behavior\n",
        "if CONFIG.cpu:\n",
        "    CONFIG.device = 'cpu'\n",
        "else:\n",
        "    CONFIG.device = 'cuda' if torch.cuda.is_available() else 'cpu'\n",
        "\n",
        "torch.manual_seed(CONFIG.seed)\n",
        "random.seed(CONFIG.seed)\n",
        "np.random.seed(CONFIG.seed)\n",
        "torch.backends.cudnn.benchmark = True\n",
        "torch.use_deterministic_algorithms(mode=True, warn_only=True)\n",
        "\n",
        "main()"
      ]
    },
    {
      "cell_type": "markdown",
      "metadata": {
        "id": "kFcY6ShVYJfG"
      },
      "source": [
        "##### 1.2.12.2 - Sketch"
      ]
    },
    {
      "cell_type": "code",
      "execution_count": null,
      "metadata": {
        "vscode": {
          "languageId": "python"
        },
        "id": "ZymRr-yqYJfG"
      },
      "outputs": [],
      "source": [
        "warnings.filterwarnings('ignore', category=UserWarning)\n",
        "\n",
        "# Parse arguments\n",
        "conf = configurations['1.2.12.2']\n",
        "\n",
        "#args = parse_arguments()\n",
        "args = argparse.Namespace(**conf)\n",
        "print(args)\n",
        "CONFIG.update(vars(args))\n",
        "\n",
        "# Setup output directory\n",
        "CONFIG.save_dir = os.path.join('record', CONFIG.experiment_name)\n",
        "os.makedirs(CONFIG.save_dir, exist_ok=True)\n",
        "\n",
        "# Setup logging\n",
        "logging.basicConfig(\n",
        "    filename=os.path.join(CONFIG.save_dir, 'log.txt'),\n",
        "    format='%(message)s',\n",
        "    level=logging.INFO,\n",
        "    filemode='a'\n",
        ")\n",
        "\n",
        "# Set experiment's device & deterministic behavior\n",
        "if CONFIG.cpu:\n",
        "    CONFIG.device = 'cpu'\n",
        "else:\n",
        "    CONFIG.device = 'cuda' if torch.cuda.is_available() else 'cpu'\n",
        "\n",
        "torch.manual_seed(CONFIG.seed)\n",
        "random.seed(CONFIG.seed)\n",
        "np.random.seed(CONFIG.seed)\n",
        "torch.backends.cudnn.benchmark = True\n",
        "torch.use_deterministic_algorithms(mode=True, warn_only=True)\n",
        "\n",
        "main()"
      ]
    },
    {
      "cell_type": "markdown",
      "metadata": {
        "id": "oC7wcWpfYJfG"
      },
      "source": [
        "##### 1.2.12.3 - Photo"
      ]
    },
    {
      "cell_type": "code",
      "execution_count": null,
      "metadata": {
        "vscode": {
          "languageId": "python"
        },
        "id": "psbdnivKYJfG"
      },
      "outputs": [],
      "source": [
        "warnings.filterwarnings('ignore', category=UserWarning)\n",
        "\n",
        "# Parse arguments\n",
        "conf = configurations['1.2.12.3']\n",
        "\n",
        "#args = parse_arguments()\n",
        "args = argparse.Namespace(**conf)\n",
        "print(args)\n",
        "CONFIG.update(vars(args))\n",
        "\n",
        "# Setup output directory\n",
        "CONFIG.save_dir = os.path.join('record', CONFIG.experiment_name)\n",
        "os.makedirs(CONFIG.save_dir, exist_ok=True)\n",
        "\n",
        "# Setup logging\n",
        "logging.basicConfig(\n",
        "    filename=os.path.join(CONFIG.save_dir, 'log.txt'),\n",
        "    format='%(message)s',\n",
        "    level=logging.INFO,\n",
        "    filemode='a'\n",
        ")\n",
        "\n",
        "# Set experiment's device & deterministic behavior\n",
        "if CONFIG.cpu:\n",
        "    CONFIG.device = 'cpu'\n",
        "else:\n",
        "    CONFIG.device = 'cuda' if torch.cuda.is_available() else 'cpu'\n",
        "\n",
        "torch.manual_seed(CONFIG.seed)\n",
        "random.seed(CONFIG.seed)\n",
        "np.random.seed(CONFIG.seed)\n",
        "torch.backends.cudnn.benchmark = True\n",
        "torch.use_deterministic_algorithms(mode=True, warn_only=True)\n",
        "\n",
        "main()"
      ]
    },
    {
      "cell_type": "markdown",
      "metadata": {
        "id": "s7maiU9sYJfG"
      },
      "source": [
        "#### 1.2.13 - ASH module after layer2.1.conv2 and layer3.0.conv1"
      ]
    },
    {
      "cell_type": "markdown",
      "metadata": {
        "id": "y207C7U8YJfG"
      },
      "source": [
        "##### 1.2.13.1 - Cartoon"
      ]
    },
    {
      "cell_type": "code",
      "execution_count": null,
      "metadata": {
        "vscode": {
          "languageId": "python"
        },
        "id": "BimUdZLhYJfH"
      },
      "outputs": [],
      "source": [
        "warnings.filterwarnings('ignore', category=UserWarning)\n",
        "\n",
        "# Parse arguments\n",
        "conf = configurations['1.2.13.1']\n",
        "\n",
        "#args = parse_arguments()\n",
        "args = argparse.Namespace(**conf)\n",
        "print(args)\n",
        "CONFIG.update(vars(args))\n",
        "\n",
        "# Setup output directory\n",
        "CONFIG.save_dir = os.path.join('record', CONFIG.experiment_name)\n",
        "os.makedirs(CONFIG.save_dir, exist_ok=True)\n",
        "\n",
        "# Setup logging\n",
        "logging.basicConfig(\n",
        "    filename=os.path.join(CONFIG.save_dir, 'log.txt'),\n",
        "    format='%(message)s',\n",
        "    level=logging.INFO,\n",
        "    filemode='a'\n",
        ")\n",
        "\n",
        "# Set experiment's device & deterministic behavior\n",
        "if CONFIG.cpu:\n",
        "    CONFIG.device = 'cpu'\n",
        "else:\n",
        "    CONFIG.device = 'cuda' if torch.cuda.is_available() else 'cpu'\n",
        "\n",
        "torch.manual_seed(CONFIG.seed)\n",
        "random.seed(CONFIG.seed)\n",
        "np.random.seed(CONFIG.seed)\n",
        "torch.backends.cudnn.benchmark = True\n",
        "torch.use_deterministic_algorithms(mode=True, warn_only=True)\n",
        "\n",
        "main()"
      ]
    },
    {
      "cell_type": "markdown",
      "metadata": {
        "id": "4HyhfwnlYJfH"
      },
      "source": [
        "##### 1.2.13.2 - Sketch"
      ]
    },
    {
      "cell_type": "code",
      "execution_count": null,
      "metadata": {
        "vscode": {
          "languageId": "python"
        },
        "id": "li0xTfVSYJfH"
      },
      "outputs": [],
      "source": [
        "warnings.filterwarnings('ignore', category=UserWarning)\n",
        "\n",
        "# Parse arguments\n",
        "conf = configurations['1.2.13.2']\n",
        "\n",
        "#args = parse_arguments()\n",
        "args = argparse.Namespace(**conf)\n",
        "print(args)\n",
        "CONFIG.update(vars(args))\n",
        "\n",
        "# Setup output directory\n",
        "CONFIG.save_dir = os.path.join('record', CONFIG.experiment_name)\n",
        "os.makedirs(CONFIG.save_dir, exist_ok=True)\n",
        "\n",
        "# Setup logging\n",
        "logging.basicConfig(\n",
        "    filename=os.path.join(CONFIG.save_dir, 'log.txt'),\n",
        "    format='%(message)s',\n",
        "    level=logging.INFO,\n",
        "    filemode='a'\n",
        ")\n",
        "\n",
        "# Set experiment's device & deterministic behavior\n",
        "if CONFIG.cpu:\n",
        "    CONFIG.device = 'cpu'\n",
        "else:\n",
        "    CONFIG.device = 'cuda' if torch.cuda.is_available() else 'cpu'\n",
        "\n",
        "torch.manual_seed(CONFIG.seed)\n",
        "random.seed(CONFIG.seed)\n",
        "np.random.seed(CONFIG.seed)\n",
        "torch.backends.cudnn.benchmark = True\n",
        "torch.use_deterministic_algorithms(mode=True, warn_only=True)\n",
        "\n",
        "main()"
      ]
    },
    {
      "cell_type": "markdown",
      "metadata": {
        "id": "aAf_iJioYJfI"
      },
      "source": [
        "##### 1.2.13.3 - Photo"
      ]
    },
    {
      "cell_type": "code",
      "execution_count": null,
      "metadata": {
        "vscode": {
          "languageId": "python"
        },
        "id": "IfsffBFCYJfI"
      },
      "outputs": [],
      "source": [
        "warnings.filterwarnings('ignore', category=UserWarning)\n",
        "\n",
        "# Parse arguments\n",
        "conf = configurations['1.2.13.3']\n",
        "\n",
        "#args = parse_arguments()\n",
        "args = argparse.Namespace(**conf)\n",
        "print(args)\n",
        "CONFIG.update(vars(args))\n",
        "\n",
        "# Setup output directory\n",
        "CONFIG.save_dir = os.path.join('record', CONFIG.experiment_name)\n",
        "os.makedirs(CONFIG.save_dir, exist_ok=True)\n",
        "\n",
        "# Setup logging\n",
        "logging.basicConfig(\n",
        "    filename=os.path.join(CONFIG.save_dir, 'log.txt'),\n",
        "    format='%(message)s',\n",
        "    level=logging.INFO,\n",
        "    filemode='a'\n",
        ")\n",
        "\n",
        "# Set experiment's device & deterministic behavior\n",
        "if CONFIG.cpu:\n",
        "    CONFIG.device = 'cpu'\n",
        "else:\n",
        "    CONFIG.device = 'cuda' if torch.cuda.is_available() else 'cpu'\n",
        "\n",
        "torch.manual_seed(CONFIG.seed)\n",
        "random.seed(CONFIG.seed)\n",
        "np.random.seed(CONFIG.seed)\n",
        "torch.backends.cudnn.benchmark = True\n",
        "torch.use_deterministic_algorithms(mode=True, warn_only=True)\n",
        "\n",
        "main()"
      ]
    },
    {
      "cell_type": "markdown",
      "metadata": {
        "id": "KytMgrC6YJfI"
      },
      "source": [
        "#### 1.2.14 - ASH module after layer2.1.conv2 and layer3.1.conv2"
      ]
    },
    {
      "cell_type": "markdown",
      "metadata": {
        "id": "gQmFbIILYJfI"
      },
      "source": [
        "##### 1.2.14.1 - Cartoon"
      ]
    },
    {
      "cell_type": "code",
      "execution_count": null,
      "metadata": {
        "vscode": {
          "languageId": "python"
        },
        "id": "glrGwkjUYJfI"
      },
      "outputs": [],
      "source": [
        "warnings.filterwarnings('ignore', category=UserWarning)\n",
        "\n",
        "# Parse arguments\n",
        "conf = configurations['1.2.14.1']\n",
        "\n",
        "#args = parse_arguments()\n",
        "args = argparse.Namespace(**conf)\n",
        "print(args)\n",
        "CONFIG.update(vars(args))\n",
        "\n",
        "# Setup output directory\n",
        "CONFIG.save_dir = os.path.join('record', CONFIG.experiment_name)\n",
        "os.makedirs(CONFIG.save_dir, exist_ok=True)\n",
        "\n",
        "# Setup logging\n",
        "logging.basicConfig(\n",
        "    filename=os.path.join(CONFIG.save_dir, 'log.txt'),\n",
        "    format='%(message)s',\n",
        "    level=logging.INFO,\n",
        "    filemode='a'\n",
        ")\n",
        "\n",
        "# Set experiment's device & deterministic behavior\n",
        "if CONFIG.cpu:\n",
        "    CONFIG.device = 'cpu'\n",
        "else:\n",
        "    CONFIG.device = 'cuda' if torch.cuda.is_available() else 'cpu'\n",
        "\n",
        "torch.manual_seed(CONFIG.seed)\n",
        "random.seed(CONFIG.seed)\n",
        "np.random.seed(CONFIG.seed)\n",
        "torch.backends.cudnn.benchmark = True\n",
        "torch.use_deterministic_algorithms(mode=True, warn_only=True)\n",
        "\n",
        "main()"
      ]
    },
    {
      "cell_type": "markdown",
      "metadata": {
        "id": "f711S9pCYJfI"
      },
      "source": [
        "##### 1.2.14.2 - Sketch"
      ]
    },
    {
      "cell_type": "code",
      "execution_count": null,
      "metadata": {
        "vscode": {
          "languageId": "python"
        },
        "id": "ehPpSpekYJfI"
      },
      "outputs": [],
      "source": [
        "warnings.filterwarnings('ignore', category=UserWarning)\n",
        "\n",
        "# Parse arguments\n",
        "conf = configurations['1.2.14.2']\n",
        "\n",
        "#args = parse_arguments()\n",
        "args = argparse.Namespace(**conf)\n",
        "print(args)\n",
        "CONFIG.update(vars(args))\n",
        "\n",
        "# Setup output directory\n",
        "CONFIG.save_dir = os.path.join('record', CONFIG.experiment_name)\n",
        "os.makedirs(CONFIG.save_dir, exist_ok=True)\n",
        "\n",
        "# Setup logging\n",
        "logging.basicConfig(\n",
        "    filename=os.path.join(CONFIG.save_dir, 'log.txt'),\n",
        "    format='%(message)s',\n",
        "    level=logging.INFO,\n",
        "    filemode='a'\n",
        ")\n",
        "\n",
        "# Set experiment's device & deterministic behavior\n",
        "if CONFIG.cpu:\n",
        "    CONFIG.device = 'cpu'\n",
        "else:\n",
        "    CONFIG.device = 'cuda' if torch.cuda.is_available() else 'cpu'\n",
        "\n",
        "torch.manual_seed(CONFIG.seed)\n",
        "random.seed(CONFIG.seed)\n",
        "np.random.seed(CONFIG.seed)\n",
        "torch.backends.cudnn.benchmark = True\n",
        "torch.use_deterministic_algorithms(mode=True, warn_only=True)\n",
        "\n",
        "main()"
      ]
    },
    {
      "cell_type": "markdown",
      "metadata": {
        "id": "IU3gZeVaYJfJ"
      },
      "source": [
        "##### 1.2.14.3 - Photo"
      ]
    },
    {
      "cell_type": "code",
      "execution_count": null,
      "metadata": {
        "vscode": {
          "languageId": "python"
        },
        "id": "uOi4o5U6YJfJ"
      },
      "outputs": [],
      "source": [
        "warnings.filterwarnings('ignore', category=UserWarning)\n",
        "\n",
        "# Parse arguments\n",
        "conf = configurations['1.2.14.3']\n",
        "\n",
        "#args = parse_arguments()\n",
        "args = argparse.Namespace(**conf)\n",
        "print(args)\n",
        "CONFIG.update(vars(args))\n",
        "\n",
        "# Setup output directory\n",
        "CONFIG.save_dir = os.path.join('record', CONFIG.experiment_name)\n",
        "os.makedirs(CONFIG.save_dir, exist_ok=True)\n",
        "\n",
        "# Setup logging\n",
        "logging.basicConfig(\n",
        "    filename=os.path.join(CONFIG.save_dir, 'log.txt'),\n",
        "    format='%(message)s',\n",
        "    level=logging.INFO,\n",
        "    filemode='a'\n",
        ")\n",
        "\n",
        "# Set experiment's device & deterministic behavior\n",
        "if CONFIG.cpu:\n",
        "    CONFIG.device = 'cpu'\n",
        "else:\n",
        "    CONFIG.device = 'cuda' if torch.cuda.is_available() else 'cpu'\n",
        "\n",
        "torch.manual_seed(CONFIG.seed)\n",
        "random.seed(CONFIG.seed)\n",
        "np.random.seed(CONFIG.seed)\n",
        "torch.backends.cudnn.benchmark = True\n",
        "torch.use_deterministic_algorithms(mode=True, warn_only=True)\n",
        "\n",
        "main()"
      ]
    },
    {
      "cell_type": "markdown",
      "metadata": {
        "id": "9CWFzq5vYJfJ"
      },
      "source": [
        "#### 1.2.15 - ASH module after layer3.0.conv1 and layer3.1.conv2"
      ]
    },
    {
      "cell_type": "markdown",
      "metadata": {
        "id": "LRFu8C5cYJfJ"
      },
      "source": [
        "##### 1.2.15.1 - Cartoon"
      ]
    },
    {
      "cell_type": "code",
      "execution_count": null,
      "metadata": {
        "vscode": {
          "languageId": "python"
        },
        "id": "NQrvsF7UYJfJ"
      },
      "outputs": [],
      "source": [
        "warnings.filterwarnings('ignore', category=UserWarning)\n",
        "\n",
        "# Parse arguments\n",
        "conf = configurations['1.2.15.1']\n",
        "\n",
        "#args = parse_arguments()\n",
        "args = argparse.Namespace(**conf)\n",
        "print(args)\n",
        "CONFIG.update(vars(args))\n",
        "\n",
        "# Setup output directory\n",
        "CONFIG.save_dir = os.path.join('record', CONFIG.experiment_name)\n",
        "os.makedirs(CONFIG.save_dir, exist_ok=True)\n",
        "\n",
        "# Setup logging\n",
        "logging.basicConfig(\n",
        "    filename=os.path.join(CONFIG.save_dir, 'log.txt'),\n",
        "    format='%(message)s',\n",
        "    level=logging.INFO,\n",
        "    filemode='a'\n",
        ")\n",
        "\n",
        "# Set experiment's device & deterministic behavior\n",
        "if CONFIG.cpu:\n",
        "    CONFIG.device = 'cpu'\n",
        "else:\n",
        "    CONFIG.device = 'cuda' if torch.cuda.is_available() else 'cpu'\n",
        "\n",
        "torch.manual_seed(CONFIG.seed)\n",
        "random.seed(CONFIG.seed)\n",
        "np.random.seed(CONFIG.seed)\n",
        "torch.backends.cudnn.benchmark = True\n",
        "torch.use_deterministic_algorithms(mode=True, warn_only=True)\n",
        "\n",
        "main()"
      ]
    },
    {
      "cell_type": "markdown",
      "metadata": {
        "id": "OQ3lxsv3YJfJ"
      },
      "source": [
        "##### 1.2.15.2 - Sketch"
      ]
    },
    {
      "cell_type": "code",
      "execution_count": null,
      "metadata": {
        "vscode": {
          "languageId": "python"
        },
        "id": "5sWOHd8aYJfK"
      },
      "outputs": [],
      "source": [
        "warnings.filterwarnings('ignore', category=UserWarning)\n",
        "\n",
        "# Parse arguments\n",
        "conf = configurations['1.2.15.2']\n",
        "\n",
        "#args = parse_arguments()\n",
        "args = argparse.Namespace(**conf)\n",
        "print(args)\n",
        "CONFIG.update(vars(args))\n",
        "\n",
        "# Setup output directory\n",
        "CONFIG.save_dir = os.path.join('record', CONFIG.experiment_name)\n",
        "os.makedirs(CONFIG.save_dir, exist_ok=True)\n",
        "\n",
        "# Setup logging\n",
        "logging.basicConfig(\n",
        "    filename=os.path.join(CONFIG.save_dir, 'log.txt'),\n",
        "    format='%(message)s',\n",
        "    level=logging.INFO,\n",
        "    filemode='a'\n",
        ")\n",
        "\n",
        "# Set experiment's device & deterministic behavior\n",
        "if CONFIG.cpu:\n",
        "    CONFIG.device = 'cpu'\n",
        "else:\n",
        "    CONFIG.device = 'cuda' if torch.cuda.is_available() else 'cpu'\n",
        "\n",
        "torch.manual_seed(CONFIG.seed)\n",
        "random.seed(CONFIG.seed)\n",
        "np.random.seed(CONFIG.seed)\n",
        "torch.backends.cudnn.benchmark = True\n",
        "torch.use_deterministic_algorithms(mode=True, warn_only=True)\n",
        "\n",
        "main()"
      ]
    },
    {
      "cell_type": "markdown",
      "metadata": {
        "id": "kC87Gj-LYJfK"
      },
      "source": [
        "##### 1.2.15.3 - Photo"
      ]
    },
    {
      "cell_type": "code",
      "execution_count": null,
      "metadata": {
        "vscode": {
          "languageId": "python"
        },
        "id": "oTni1yZpYJfK"
      },
      "outputs": [],
      "source": [
        "warnings.filterwarnings('ignore', category=UserWarning)\n",
        "\n",
        "# Parse arguments\n",
        "conf = configurations['1.2.15.3']\n",
        "\n",
        "#args = parse_arguments()\n",
        "args = argparse.Namespace(**conf)\n",
        "print(args)\n",
        "CONFIG.update(vars(args))\n",
        "\n",
        "# Setup output directory\n",
        "CONFIG.save_dir = os.path.join('record', CONFIG.experiment_name)\n",
        "os.makedirs(CONFIG.save_dir, exist_ok=True)\n",
        "\n",
        "# Setup logging\n",
        "logging.basicConfig(\n",
        "    filename=os.path.join(CONFIG.save_dir, 'log.txt'),\n",
        "    format='%(message)s',\n",
        "    level=logging.INFO,\n",
        "    filemode='a'\n",
        ")\n",
        "\n",
        "# Set experiment's device & deterministic behavior\n",
        "if CONFIG.cpu:\n",
        "    CONFIG.device = 'cpu'\n",
        "else:\n",
        "    CONFIG.device = 'cuda' if torch.cuda.is_available() else 'cpu'\n",
        "\n",
        "torch.manual_seed(CONFIG.seed)\n",
        "random.seed(CONFIG.seed)\n",
        "np.random.seed(CONFIG.seed)\n",
        "torch.backends.cudnn.benchmark = True\n",
        "torch.use_deterministic_algorithms(mode=True, warn_only=True)\n",
        "\n",
        "main()"
      ]
    },
    {
      "cell_type": "markdown",
      "metadata": {
        "id": "LmHoE0FgYJfK"
      },
      "source": [
        "### 1.3 - Three ASH modules"
      ]
    },
    {
      "cell_type": "markdown",
      "metadata": {
        "id": "NJGMPOEJYJfK"
      },
      "source": [
        "#### 1.3.1 - ASH module after layer1.1.bn1, layer1.1.conv2, and layer1.1.bn2"
      ]
    },
    {
      "cell_type": "markdown",
      "metadata": {
        "id": "Q9AIrUtxYJfK"
      },
      "source": [
        "##### 1.3.1.1 - Cartoon"
      ]
    },
    {
      "cell_type": "code",
      "execution_count": null,
      "metadata": {
        "vscode": {
          "languageId": "python"
        },
        "id": "jKloIPiYYJfK"
      },
      "outputs": [],
      "source": [
        "warnings.filterwarnings('ignore', category=UserWarning)\n",
        "\n",
        "# Parse arguments\n",
        "conf = configurations['1.3.1.1']\n",
        "\n",
        "#args = parse_arguments()\n",
        "args = argparse.Namespace(**conf)\n",
        "print(args)\n",
        "CONFIG.update(vars(args))\n",
        "\n",
        "# Setup output directory\n",
        "CONFIG.save_dir = os.path.join('record', CONFIG.experiment_name)\n",
        "os.makedirs(CONFIG.save_dir, exist_ok=True)\n",
        "\n",
        "# Setup logging\n",
        "logging.basicConfig(\n",
        "    filename=os.path.join(CONFIG.save_dir, 'log.txt'),\n",
        "    format='%(message)s',\n",
        "    level=logging.INFO,\n",
        "    filemode='a'\n",
        ")\n",
        "\n",
        "# Set experiment's device & deterministic behavior\n",
        "if CONFIG.cpu:\n",
        "    CONFIG.device = 'cpu'\n",
        "else:\n",
        "    CONFIG.device = 'cuda' if torch.cuda.is_available() else 'cpu'\n",
        "\n",
        "torch.manual_seed(CONFIG.seed)\n",
        "random.seed(CONFIG.seed)\n",
        "np.random.seed(CONFIG.seed)\n",
        "torch.backends.cudnn.benchmark = True\n",
        "torch.use_deterministic_algorithms(mode=True, warn_only=True)\n",
        "\n",
        "main()"
      ]
    },
    {
      "cell_type": "markdown",
      "metadata": {
        "id": "r4bmmM9wYJfL"
      },
      "source": [
        "##### 1.3.1.2 - Sketch"
      ]
    },
    {
      "cell_type": "code",
      "execution_count": null,
      "metadata": {
        "vscode": {
          "languageId": "python"
        },
        "id": "SUfZMwOYYJfL"
      },
      "outputs": [],
      "source": [
        "warnings.filterwarnings('ignore', category=UserWarning)\n",
        "\n",
        "# Parse arguments\n",
        "conf = configurations['1.3.1.2']\n",
        "\n",
        "#args = parse_arguments()\n",
        "args = argparse.Namespace(**conf)\n",
        "print(args)\n",
        "CONFIG.update(vars(args))\n",
        "\n",
        "# Setup output directory\n",
        "CONFIG.save_dir = os.path.join('record', CONFIG.experiment_name)\n",
        "os.makedirs(CONFIG.save_dir, exist_ok=True)\n",
        "\n",
        "# Setup logging\n",
        "logging.basicConfig(\n",
        "    filename=os.path.join(CONFIG.save_dir, 'log.txt'),\n",
        "    format='%(message)s',\n",
        "    level=logging.INFO,\n",
        "    filemode='a'\n",
        ")\n",
        "\n",
        "# Set experiment's device & deterministic behavior\n",
        "if CONFIG.cpu:\n",
        "    CONFIG.device = 'cpu'\n",
        "else:\n",
        "    CONFIG.device = 'cuda' if torch.cuda.is_available() else 'cpu'\n",
        "\n",
        "torch.manual_seed(CONFIG.seed)\n",
        "random.seed(CONFIG.seed)\n",
        "np.random.seed(CONFIG.seed)\n",
        "torch.backends.cudnn.benchmark = True\n",
        "torch.use_deterministic_algorithms(mode=True, warn_only=True)\n",
        "\n",
        "main()"
      ]
    },
    {
      "cell_type": "markdown",
      "metadata": {
        "id": "tLjP0KLrYJfL"
      },
      "source": [
        "##### 1.3.1.3 - Photo"
      ]
    },
    {
      "cell_type": "code",
      "execution_count": null,
      "metadata": {
        "vscode": {
          "languageId": "python"
        },
        "id": "-edULl_xYJfL"
      },
      "outputs": [],
      "source": [
        "warnings.filterwarnings('ignore', category=UserWarning)\n",
        "\n",
        "# Parse arguments\n",
        "conf = configurations['1.3.1.3']\n",
        "\n",
        "#args = parse_arguments()\n",
        "args = argparse.Namespace(**conf)\n",
        "print(args)\n",
        "CONFIG.update(vars(args))\n",
        "\n",
        "# Setup output directory\n",
        "CONFIG.save_dir = os.path.join('record', CONFIG.experiment_name)\n",
        "os.makedirs(CONFIG.save_dir, exist_ok=True)\n",
        "\n",
        "# Setup logging\n",
        "logging.basicConfig(\n",
        "    filename=os.path.join(CONFIG.save_dir, 'log.txt'),\n",
        "    format='%(message)s',\n",
        "    level=logging.INFO,\n",
        "    filemode='a'\n",
        ")\n",
        "\n",
        "# Set experiment's device & deterministic behavior\n",
        "if CONFIG.cpu:\n",
        "    CONFIG.device = 'cpu'\n",
        "else:\n",
        "    CONFIG.device = 'cuda' if torch.cuda.is_available() else 'cpu'\n",
        "\n",
        "torch.manual_seed(CONFIG.seed)\n",
        "random.seed(CONFIG.seed)\n",
        "np.random.seed(CONFIG.seed)\n",
        "torch.backends.cudnn.benchmark = True\n",
        "torch.use_deterministic_algorithms(mode=True, warn_only=True)\n",
        "\n",
        "main()"
      ]
    },
    {
      "cell_type": "markdown",
      "metadata": {
        "id": "Uw79IOM2YJfL"
      },
      "source": [
        "#### 1.3.2 - ASH module after layer1.1.bn1, layer1.1.conv2, and layer2.1.conv2"
      ]
    },
    {
      "cell_type": "markdown",
      "metadata": {
        "id": "x1Zax3nUYJfL"
      },
      "source": [
        "##### 1.3.2.1 - Cartoon"
      ]
    },
    {
      "cell_type": "code",
      "execution_count": null,
      "metadata": {
        "vscode": {
          "languageId": "python"
        },
        "id": "ZMYcjqrHYJfL"
      },
      "outputs": [],
      "source": [
        "warnings.filterwarnings('ignore', category=UserWarning)\n",
        "\n",
        "# Parse arguments\n",
        "conf = configurations['1.3.2.1']\n",
        "\n",
        "#args = parse_arguments()\n",
        "args = argparse.Namespace(**conf)\n",
        "print(args)\n",
        "CONFIG.update(vars(args))\n",
        "\n",
        "# Setup output directory\n",
        "CONFIG.save_dir = os.path.join('record', CONFIG.experiment_name)\n",
        "os.makedirs(CONFIG.save_dir, exist_ok=True)\n",
        "\n",
        "# Setup logging\n",
        "logging.basicConfig(\n",
        "    filename=os.path.join(CONFIG.save_dir, 'log.txt'),\n",
        "    format='%(message)s',\n",
        "    level=logging.INFO,\n",
        "    filemode='a'\n",
        ")\n",
        "\n",
        "# Set experiment's device & deterministic behavior\n",
        "if CONFIG.cpu:\n",
        "    CONFIG.device = 'cpu'\n",
        "else:\n",
        "    CONFIG.device = 'cuda' if torch.cuda.is_available() else 'cpu'\n",
        "\n",
        "torch.manual_seed(CONFIG.seed)\n",
        "random.seed(CONFIG.seed)\n",
        "np.random.seed(CONFIG.seed)\n",
        "torch.backends.cudnn.benchmark = True\n",
        "torch.use_deterministic_algorithms(mode=True, warn_only=True)\n",
        "\n",
        "main()"
      ]
    },
    {
      "cell_type": "markdown",
      "metadata": {
        "id": "G2Mc7cm1YJfL"
      },
      "source": [
        "##### 1.3.2.2 - Sketch"
      ]
    },
    {
      "cell_type": "code",
      "execution_count": null,
      "metadata": {
        "vscode": {
          "languageId": "python"
        },
        "id": "q3MvxdvhYJfL"
      },
      "outputs": [],
      "source": [
        "warnings.filterwarnings('ignore', category=UserWarning)\n",
        "\n",
        "# Parse arguments\n",
        "conf = configurations['1.3.2.2']\n",
        "\n",
        "#args = parse_arguments()\n",
        "args = argparse.Namespace(**conf)\n",
        "print(args)\n",
        "CONFIG.update(vars(args))\n",
        "\n",
        "# Setup output directory\n",
        "CONFIG.save_dir = os.path.join('record', CONFIG.experiment_name)\n",
        "os.makedirs(CONFIG.save_dir, exist_ok=True)\n",
        "\n",
        "# Setup logging\n",
        "logging.basicConfig(\n",
        "    filename=os.path.join(CONFIG.save_dir, 'log.txt'),\n",
        "    format='%(message)s',\n",
        "    level=logging.INFO,\n",
        "    filemode='a'\n",
        ")\n",
        "\n",
        "# Set experiment's device & deterministic behavior\n",
        "if CONFIG.cpu:\n",
        "    CONFIG.device = 'cpu'\n",
        "else:\n",
        "    CONFIG.device = 'cuda' if torch.cuda.is_available() else 'cpu'\n",
        "\n",
        "torch.manual_seed(CONFIG.seed)\n",
        "random.seed(CONFIG.seed)\n",
        "np.random.seed(CONFIG.seed)\n",
        "torch.backends.cudnn.benchmark = True\n",
        "torch.use_deterministic_algorithms(mode=True, warn_only=True)\n",
        "\n",
        "main()"
      ]
    },
    {
      "cell_type": "markdown",
      "metadata": {
        "id": "WeIaR0A6YJfL"
      },
      "source": [
        "##### 1.3.2.3 - Photo"
      ]
    },
    {
      "cell_type": "code",
      "execution_count": null,
      "metadata": {
        "vscode": {
          "languageId": "python"
        },
        "id": "Sn-XX-lbYJfL"
      },
      "outputs": [],
      "source": [
        "warnings.filterwarnings('ignore', category=UserWarning)\n",
        "\n",
        "# Parse arguments\n",
        "conf = configurations['1.3.2.3']\n",
        "\n",
        "#args = parse_arguments()\n",
        "args = argparse.Namespace(**conf)\n",
        "print(args)\n",
        "CONFIG.update(vars(args))\n",
        "\n",
        "# Setup output directory\n",
        "CONFIG.save_dir = os.path.join('record', CONFIG.experiment_name)\n",
        "os.makedirs(CONFIG.save_dir, exist_ok=True)\n",
        "\n",
        "# Setup logging\n",
        "logging.basicConfig(\n",
        "    filename=os.path.join(CONFIG.save_dir, 'log.txt'),\n",
        "    format='%(message)s',\n",
        "    level=logging.INFO,\n",
        "    filemode='a'\n",
        ")\n",
        "\n",
        "# Set experiment's device & deterministic behavior\n",
        "if CONFIG.cpu:\n",
        "    CONFIG.device = 'cpu'\n",
        "else:\n",
        "    CONFIG.device = 'cuda' if torch.cuda.is_available() else 'cpu'\n",
        "\n",
        "torch.manual_seed(CONFIG.seed)\n",
        "random.seed(CONFIG.seed)\n",
        "np.random.seed(CONFIG.seed)\n",
        "torch.backends.cudnn.benchmark = True\n",
        "torch.use_deterministic_algorithms(mode=True, warn_only=True)\n",
        "\n",
        "main()"
      ]
    },
    {
      "cell_type": "markdown",
      "metadata": {
        "id": "RdnETP1lYJfM"
      },
      "source": [
        "#### 1.3.3 - ASH module after layer1.1.bn1, layer1.1.conv2, and layer3.0.conv1"
      ]
    },
    {
      "cell_type": "markdown",
      "metadata": {
        "id": "zh1Lai5MYJfM"
      },
      "source": [
        "##### 1.3.3.1 - Cartoon"
      ]
    },
    {
      "cell_type": "code",
      "execution_count": null,
      "metadata": {
        "vscode": {
          "languageId": "python"
        },
        "id": "AuU37ViqYJfM"
      },
      "outputs": [],
      "source": [
        "warnings.filterwarnings('ignore', category=UserWarning)\n",
        "\n",
        "# Parse arguments\n",
        "conf = configurations['1.3.3.1']\n",
        "\n",
        "#args = parse_arguments()\n",
        "args = argparse.Namespace(**conf)\n",
        "print(args)\n",
        "CONFIG.update(vars(args))\n",
        "\n",
        "# Setup output directory\n",
        "CONFIG.save_dir = os.path.join('record', CONFIG.experiment_name)\n",
        "os.makedirs(CONFIG.save_dir, exist_ok=True)\n",
        "\n",
        "# Setup logging\n",
        "logging.basicConfig(\n",
        "    filename=os.path.join(CONFIG.save_dir, 'log.txt'),\n",
        "    format='%(message)s',\n",
        "    level=logging.INFO,\n",
        "    filemode='a'\n",
        ")\n",
        "\n",
        "# Set experiment's device & deterministic behavior\n",
        "if CONFIG.cpu:\n",
        "    CONFIG.device = 'cpu'\n",
        "else:\n",
        "    CONFIG.device = 'cuda' if torch.cuda.is_available() else 'cpu'\n",
        "\n",
        "torch.manual_seed(CONFIG.seed)\n",
        "random.seed(CONFIG.seed)\n",
        "np.random.seed(CONFIG.seed)\n",
        "torch.backends.cudnn.benchmark = True\n",
        "torch.use_deterministic_algorithms(mode=True, warn_only=True)\n",
        "\n",
        "main()"
      ]
    },
    {
      "cell_type": "markdown",
      "metadata": {
        "id": "V58Xcs1lYJfM"
      },
      "source": [
        "##### 1.3.3.2 - Sketch"
      ]
    },
    {
      "cell_type": "code",
      "execution_count": null,
      "metadata": {
        "vscode": {
          "languageId": "python"
        },
        "id": "D2akIM5uYJfM"
      },
      "outputs": [],
      "source": [
        "warnings.filterwarnings('ignore', category=UserWarning)\n",
        "\n",
        "# Parse arguments\n",
        "conf = configurations['1.3.3.2']\n",
        "\n",
        "#args = parse_arguments()\n",
        "args = argparse.Namespace(**conf)\n",
        "print(args)\n",
        "CONFIG.update(vars(args))\n",
        "\n",
        "# Setup output directory\n",
        "CONFIG.save_dir = os.path.join('record', CONFIG.experiment_name)\n",
        "os.makedirs(CONFIG.save_dir, exist_ok=True)\n",
        "\n",
        "# Setup logging\n",
        "logging.basicConfig(\n",
        "    filename=os.path.join(CONFIG.save_dir, 'log.txt'),\n",
        "    format='%(message)s',\n",
        "    level=logging.INFO,\n",
        "    filemode='a'\n",
        ")\n",
        "\n",
        "# Set experiment's device & deterministic behavior\n",
        "if CONFIG.cpu:\n",
        "    CONFIG.device = 'cpu'\n",
        "else:\n",
        "    CONFIG.device = 'cuda' if torch.cuda.is_available() else 'cpu'\n",
        "\n",
        "torch.manual_seed(CONFIG.seed)\n",
        "random.seed(CONFIG.seed)\n",
        "np.random.seed(CONFIG.seed)\n",
        "torch.backends.cudnn.benchmark = True\n",
        "torch.use_deterministic_algorithms(mode=True, warn_only=True)\n",
        "\n",
        "main()"
      ]
    },
    {
      "cell_type": "markdown",
      "metadata": {
        "id": "CE4rzLBqYJfM"
      },
      "source": [
        "##### 1.3.3.3 - Photo"
      ]
    },
    {
      "cell_type": "code",
      "execution_count": null,
      "metadata": {
        "vscode": {
          "languageId": "python"
        },
        "id": "4KlvgI2mYJfM"
      },
      "outputs": [],
      "source": [
        "warnings.filterwarnings('ignore', category=UserWarning)\n",
        "\n",
        "# Parse arguments\n",
        "conf = configurations['1.3.3.3']\n",
        "\n",
        "#args = parse_arguments()\n",
        "args = argparse.Namespace(**conf)\n",
        "print(args)\n",
        "CONFIG.update(vars(args))\n",
        "\n",
        "# Setup output directory\n",
        "CONFIG.save_dir = os.path.join('record', CONFIG.experiment_name)\n",
        "os.makedirs(CONFIG.save_dir, exist_ok=True)\n",
        "\n",
        "# Setup logging\n",
        "logging.basicConfig(\n",
        "    filename=os.path.join(CONFIG.save_dir, 'log.txt'),\n",
        "    format='%(message)s',\n",
        "    level=logging.INFO,\n",
        "    filemode='a'\n",
        ")\n",
        "\n",
        "# Set experiment's device & deterministic behavior\n",
        "if CONFIG.cpu:\n",
        "    CONFIG.device = 'cpu'\n",
        "else:\n",
        "    CONFIG.device = 'cuda' if torch.cuda.is_available() else 'cpu'\n",
        "\n",
        "torch.manual_seed(CONFIG.seed)\n",
        "random.seed(CONFIG.seed)\n",
        "np.random.seed(CONFIG.seed)\n",
        "torch.backends.cudnn.benchmark = True\n",
        "torch.use_deterministic_algorithms(mode=True, warn_only=True)\n",
        "\n",
        "main()"
      ]
    },
    {
      "cell_type": "markdown",
      "metadata": {
        "id": "6ZoLc89lYJfM"
      },
      "source": [
        "#### 1.3.4 - ASH module after layer1.1.bn1, layer1.1.conv2, and layer3.1.conv2"
      ]
    },
    {
      "cell_type": "markdown",
      "metadata": {
        "id": "4sCkSlfdYJfN"
      },
      "source": [
        "##### 1.3.4.1 - Cartoon"
      ]
    },
    {
      "cell_type": "code",
      "execution_count": null,
      "metadata": {
        "vscode": {
          "languageId": "python"
        },
        "id": "_lJGAMVNYJfN"
      },
      "outputs": [],
      "source": [
        "warnings.filterwarnings('ignore', category=UserWarning)\n",
        "\n",
        "# Parse arguments\n",
        "conf = configurations['1.3.4.1']\n",
        "\n",
        "#args = parse_arguments()\n",
        "args = argparse.Namespace(**conf)\n",
        "print(args)\n",
        "CONFIG.update(vars(args))\n",
        "\n",
        "# Setup output directory\n",
        "CONFIG.save_dir = os.path.join('record', CONFIG.experiment_name)\n",
        "os.makedirs(CONFIG.save_dir, exist_ok=True)\n",
        "\n",
        "# Setup logging\n",
        "logging.basicConfig(\n",
        "    filename=os.path.join(CONFIG.save_dir, 'log.txt'),\n",
        "    format='%(message)s',\n",
        "    level=logging.INFO,\n",
        "    filemode='a'\n",
        ")\n",
        "\n",
        "# Set experiment's device & deterministic behavior\n",
        "if CONFIG.cpu:\n",
        "    CONFIG.device = 'cpu'\n",
        "else:\n",
        "    CONFIG.device = 'cuda' if torch.cuda.is_available() else 'cpu'\n",
        "\n",
        "torch.manual_seed(CONFIG.seed)\n",
        "random.seed(CONFIG.seed)\n",
        "np.random.seed(CONFIG.seed)\n",
        "torch.backends.cudnn.benchmark = True\n",
        "torch.use_deterministic_algorithms(mode=True, warn_only=True)\n",
        "\n",
        "main()"
      ]
    },
    {
      "cell_type": "markdown",
      "metadata": {
        "id": "CTq-vH6MYJfN"
      },
      "source": [
        "##### 1.3.4.2 - Sketch"
      ]
    },
    {
      "cell_type": "code",
      "execution_count": null,
      "metadata": {
        "vscode": {
          "languageId": "python"
        },
        "id": "cf6n12KXYJfN"
      },
      "outputs": [],
      "source": [
        "warnings.filterwarnings('ignore', category=UserWarning)\n",
        "\n",
        "# Parse arguments\n",
        "conf = configurations['1.3.4.2']\n",
        "\n",
        "#args = parse_arguments()\n",
        "args = argparse.Namespace(**conf)\n",
        "print(args)\n",
        "CONFIG.update(vars(args))\n",
        "\n",
        "# Setup output directory\n",
        "CONFIG.save_dir = os.path.join('record', CONFIG.experiment_name)\n",
        "os.makedirs(CONFIG.save_dir, exist_ok=True)\n",
        "\n",
        "# Setup logging\n",
        "logging.basicConfig(\n",
        "    filename=os.path.join(CONFIG.save_dir, 'log.txt'),\n",
        "    format='%(message)s',\n",
        "    level=logging.INFO,\n",
        "    filemode='a'\n",
        ")\n",
        "\n",
        "# Set experiment's device & deterministic behavior\n",
        "if CONFIG.cpu:\n",
        "    CONFIG.device = 'cpu'\n",
        "else:\n",
        "    CONFIG.device = 'cuda' if torch.cuda.is_available() else 'cpu'\n",
        "\n",
        "torch.manual_seed(CONFIG.seed)\n",
        "random.seed(CONFIG.seed)\n",
        "np.random.seed(CONFIG.seed)\n",
        "torch.backends.cudnn.benchmark = True\n",
        "torch.use_deterministic_algorithms(mode=True, warn_only=True)\n",
        "\n",
        "main()"
      ]
    },
    {
      "cell_type": "markdown",
      "metadata": {
        "id": "6Z_AHWw1YJfN"
      },
      "source": [
        "##### 1.3.4.3 - Photo"
      ]
    },
    {
      "cell_type": "code",
      "execution_count": null,
      "metadata": {
        "vscode": {
          "languageId": "python"
        },
        "id": "bijH74zuYJfO"
      },
      "outputs": [],
      "source": [
        "warnings.filterwarnings('ignore', category=UserWarning)\n",
        "\n",
        "# Parse arguments\n",
        "conf = configurations['1.3.4.3']\n",
        "\n",
        "#args = parse_arguments()\n",
        "args = argparse.Namespace(**conf)\n",
        "print(args)\n",
        "CONFIG.update(vars(args))\n",
        "\n",
        "# Setup output directory\n",
        "CONFIG.save_dir = os.path.join('record', CONFIG.experiment_name)\n",
        "os.makedirs(CONFIG.save_dir, exist_ok=True)\n",
        "\n",
        "# Setup logging\n",
        "logging.basicConfig(\n",
        "    filename=os.path.join(CONFIG.save_dir, 'log.txt'),\n",
        "    format='%(message)s',\n",
        "    level=logging.INFO,\n",
        "    filemode='a'\n",
        ")\n",
        "\n",
        "# Set experiment's device & deterministic behavior\n",
        "if CONFIG.cpu:\n",
        "    CONFIG.device = 'cpu'\n",
        "else:\n",
        "    CONFIG.device = 'cuda' if torch.cuda.is_available() else 'cpu'\n",
        "\n",
        "torch.manual_seed(CONFIG.seed)\n",
        "random.seed(CONFIG.seed)\n",
        "np.random.seed(CONFIG.seed)\n",
        "torch.backends.cudnn.benchmark = True\n",
        "torch.use_deterministic_algorithms(mode=True, warn_only=True)\n",
        "\n",
        "main()"
      ]
    },
    {
      "cell_type": "markdown",
      "metadata": {
        "id": "yhuoGR3oYJfO"
      },
      "source": [
        "#### 1.3.5 - ASH module after layer1.1.bn1, layer1.1.bn2, and layer2.1.conv2"
      ]
    },
    {
      "cell_type": "markdown",
      "metadata": {
        "id": "E7qbWzYrYJfO"
      },
      "source": [
        "##### 1.3.5.1 - Cartoon"
      ]
    },
    {
      "cell_type": "code",
      "execution_count": null,
      "metadata": {
        "vscode": {
          "languageId": "python"
        },
        "id": "mHXiGEdPYJfO"
      },
      "outputs": [],
      "source": [
        "warnings.filterwarnings('ignore', category=UserWarning)\n",
        "\n",
        "# Parse arguments\n",
        "conf = configurations['1.3.5.1']\n",
        "\n",
        "#args = parse_arguments()\n",
        "args = argparse.Namespace(**conf)\n",
        "print(args)\n",
        "CONFIG.update(vars(args))\n",
        "\n",
        "# Setup output directory\n",
        "CONFIG.save_dir = os.path.join('record', CONFIG.experiment_name)\n",
        "os.makedirs(CONFIG.save_dir, exist_ok=True)\n",
        "\n",
        "# Setup logging\n",
        "logging.basicConfig(\n",
        "    filename=os.path.join(CONFIG.save_dir, 'log.txt'),\n",
        "    format='%(message)s',\n",
        "    level=logging.INFO,\n",
        "    filemode='a'\n",
        ")\n",
        "\n",
        "# Set experiment's device & deterministic behavior\n",
        "if CONFIG.cpu:\n",
        "    CONFIG.device = 'cpu'\n",
        "else:\n",
        "    CONFIG.device = 'cuda' if torch.cuda.is_available() else 'cpu'\n",
        "\n",
        "torch.manual_seed(CONFIG.seed)\n",
        "random.seed(CONFIG.seed)\n",
        "np.random.seed(CONFIG.seed)\n",
        "torch.backends.cudnn.benchmark = True\n",
        "torch.use_deterministic_algorithms(mode=True, warn_only=True)\n",
        "\n",
        "main()"
      ]
    },
    {
      "cell_type": "markdown",
      "metadata": {
        "id": "uJGnMGDhYJfO"
      },
      "source": [
        "##### 1.3.5.2 - Sketch"
      ]
    },
    {
      "cell_type": "code",
      "execution_count": null,
      "metadata": {
        "vscode": {
          "languageId": "python"
        },
        "id": "YQSbQldPYJfO"
      },
      "outputs": [],
      "source": [
        "warnings.filterwarnings('ignore', category=UserWarning)\n",
        "\n",
        "# Parse arguments\n",
        "conf = configurations['1.3.5.2']\n",
        "\n",
        "#args = parse_arguments()\n",
        "args = argparse.Namespace(**conf)\n",
        "print(args)\n",
        "CONFIG.update(vars(args))\n",
        "\n",
        "# Setup output directory\n",
        "CONFIG.save_dir = os.path.join('record', CONFIG.experiment_name)\n",
        "os.makedirs(CONFIG.save_dir, exist_ok=True)\n",
        "\n",
        "# Setup logging\n",
        "logging.basicConfig(\n",
        "    filename=os.path.join(CONFIG.save_dir, 'log.txt'),\n",
        "    format='%(message)s',\n",
        "    level=logging.INFO,\n",
        "    filemode='a'\n",
        ")\n",
        "\n",
        "# Set experiment's device & deterministic behavior\n",
        "if CONFIG.cpu:\n",
        "    CONFIG.device = 'cpu'\n",
        "else:\n",
        "    CONFIG.device = 'cuda' if torch.cuda.is_available() else 'cpu'\n",
        "\n",
        "torch.manual_seed(CONFIG.seed)\n",
        "random.seed(CONFIG.seed)\n",
        "np.random.seed(CONFIG.seed)\n",
        "torch.backends.cudnn.benchmark = True\n",
        "torch.use_deterministic_algorithms(mode=True, warn_only=True)\n",
        "\n",
        "main()"
      ]
    },
    {
      "cell_type": "markdown",
      "metadata": {
        "id": "eyUkJPJTYJfP"
      },
      "source": [
        "##### 1.3.5.3 - Photo"
      ]
    },
    {
      "cell_type": "code",
      "execution_count": null,
      "metadata": {
        "vscode": {
          "languageId": "python"
        },
        "id": "5GKUY0j9YJfP"
      },
      "outputs": [],
      "source": [
        "warnings.filterwarnings('ignore', category=UserWarning)\n",
        "\n",
        "# Parse arguments\n",
        "conf = configurations['1.3.5.3']\n",
        "\n",
        "#args = parse_arguments()\n",
        "args = argparse.Namespace(**conf)\n",
        "print(args)\n",
        "CONFIG.update(vars(args))\n",
        "\n",
        "# Setup output directory\n",
        "CONFIG.save_dir = os.path.join('record', CONFIG.experiment_name)\n",
        "os.makedirs(CONFIG.save_dir, exist_ok=True)\n",
        "\n",
        "# Setup logging\n",
        "logging.basicConfig(\n",
        "    filename=os.path.join(CONFIG.save_dir, 'log.txt'),\n",
        "    format='%(message)s',\n",
        "    level=logging.INFO,\n",
        "    filemode='a'\n",
        ")\n",
        "\n",
        "# Set experiment's device & deterministic behavior\n",
        "if CONFIG.cpu:\n",
        "    CONFIG.device = 'cpu'\n",
        "else:\n",
        "    CONFIG.device = 'cuda' if torch.cuda.is_available() else 'cpu'\n",
        "\n",
        "torch.manual_seed(CONFIG.seed)\n",
        "random.seed(CONFIG.seed)\n",
        "np.random.seed(CONFIG.seed)\n",
        "torch.backends.cudnn.benchmark = True\n",
        "torch.use_deterministic_algorithms(mode=True, warn_only=True)\n",
        "\n",
        "main()"
      ]
    },
    {
      "cell_type": "markdown",
      "metadata": {
        "id": "ReGHIYCuYJfP"
      },
      "source": [
        "#### 1.3.6 - ASH module after layer1.1.bn1, layer2.1.conv2, and layer3.0.conv1"
      ]
    },
    {
      "cell_type": "markdown",
      "metadata": {
        "id": "fUvuwzJrYJfP"
      },
      "source": [
        "##### 1.3.6.1 - Cartoon"
      ]
    },
    {
      "cell_type": "code",
      "execution_count": null,
      "metadata": {
        "vscode": {
          "languageId": "python"
        },
        "id": "r70jI3buYJfP"
      },
      "outputs": [],
      "source": [
        "warnings.filterwarnings('ignore', category=UserWarning)\n",
        "\n",
        "# Parse arguments\n",
        "conf = configurations['1.3.6.1']\n",
        "\n",
        "#args = parse_arguments()\n",
        "args = argparse.Namespace(**conf)\n",
        "print(args)\n",
        "CONFIG.update(vars(args))\n",
        "\n",
        "# Setup output directory\n",
        "CONFIG.save_dir = os.path.join('record', CONFIG.experiment_name)\n",
        "os.makedirs(CONFIG.save_dir, exist_ok=True)\n",
        "\n",
        "# Setup logging\n",
        "logging.basicConfig(\n",
        "    filename=os.path.join(CONFIG.save_dir, 'log.txt'),\n",
        "    format='%(message)s',\n",
        "    level=logging.INFO,\n",
        "    filemode='a'\n",
        ")\n",
        "\n",
        "# Set experiment's device & deterministic behavior\n",
        "if CONFIG.cpu:\n",
        "    CONFIG.device = 'cpu'\n",
        "else:\n",
        "    CONFIG.device = 'cuda' if torch.cuda.is_available() else 'cpu'\n",
        "\n",
        "torch.manual_seed(CONFIG.seed)\n",
        "random.seed(CONFIG.seed)\n",
        "np.random.seed(CONFIG.seed)\n",
        "torch.backends.cudnn.benchmark = True\n",
        "torch.use_deterministic_algorithms(mode=True, warn_only=True)\n",
        "\n",
        "main()"
      ]
    },
    {
      "cell_type": "markdown",
      "metadata": {
        "id": "adCrvnEXYJfP"
      },
      "source": [
        "##### 1.3.6.2 - Sketch"
      ]
    },
    {
      "cell_type": "code",
      "execution_count": null,
      "metadata": {
        "vscode": {
          "languageId": "python"
        },
        "id": "ZKKUg1WjYJfP"
      },
      "outputs": [],
      "source": [
        "warnings.filterwarnings('ignore', category=UserWarning)\n",
        "\n",
        "# Parse arguments\n",
        "conf = configurations['1.3.6.2']\n",
        "\n",
        "#args = parse_arguments()\n",
        "args = argparse.Namespace(**conf)\n",
        "print(args)\n",
        "CONFIG.update(vars(args))\n",
        "\n",
        "# Setup output directory\n",
        "CONFIG.save_dir = os.path.join('record', CONFIG.experiment_name)\n",
        "os.makedirs(CONFIG.save_dir, exist_ok=True)\n",
        "\n",
        "# Setup logging\n",
        "logging.basicConfig(\n",
        "    filename=os.path.join(CONFIG.save_dir, 'log.txt'),\n",
        "    format='%(message)s',\n",
        "    level=logging.INFO,\n",
        "    filemode='a'\n",
        ")\n",
        "\n",
        "# Set experiment's device & deterministic behavior\n",
        "if CONFIG.cpu:\n",
        "    CONFIG.device = 'cpu'\n",
        "else:\n",
        "    CONFIG.device = 'cuda' if torch.cuda.is_available() else 'cpu'\n",
        "\n",
        "torch.manual_seed(CONFIG.seed)\n",
        "random.seed(CONFIG.seed)\n",
        "np.random.seed(CONFIG.seed)\n",
        "torch.backends.cudnn.benchmark = True\n",
        "torch.use_deterministic_algorithms(mode=True, warn_only=True)\n",
        "\n",
        "main()"
      ]
    },
    {
      "cell_type": "markdown",
      "metadata": {
        "id": "0JJ5S_vxYJfP"
      },
      "source": [
        "##### 1.3.6.3 - Photo"
      ]
    },
    {
      "cell_type": "code",
      "execution_count": null,
      "metadata": {
        "vscode": {
          "languageId": "python"
        },
        "id": "DzenGTujYJfQ"
      },
      "outputs": [],
      "source": [
        "warnings.filterwarnings('ignore', category=UserWarning)\n",
        "\n",
        "# Parse arguments\n",
        "conf = configurations['1.3.6.3']\n",
        "\n",
        "#args = parse_arguments()\n",
        "args = argparse.Namespace(**conf)\n",
        "print(args)\n",
        "CONFIG.update(vars(args))\n",
        "\n",
        "# Setup output directory\n",
        "CONFIG.save_dir = os.path.join('record', CONFIG.experiment_name)\n",
        "os.makedirs(CONFIG.save_dir, exist_ok=True)\n",
        "\n",
        "# Setup logging\n",
        "logging.basicConfig(\n",
        "    filename=os.path.join(CONFIG.save_dir, 'log.txt'),\n",
        "    format='%(message)s',\n",
        "    level=logging.INFO,\n",
        "    filemode='a'\n",
        ")\n",
        "\n",
        "# Set experiment's device & deterministic behavior\n",
        "if CONFIG.cpu:\n",
        "    CONFIG.device = 'cpu'\n",
        "else:\n",
        "    CONFIG.device = 'cuda' if torch.cuda.is_available() else 'cpu'\n",
        "\n",
        "torch.manual_seed(CONFIG.seed)\n",
        "random.seed(CONFIG.seed)\n",
        "np.random.seed(CONFIG.seed)\n",
        "torch.backends.cudnn.benchmark = True\n",
        "torch.use_deterministic_algorithms(mode=True, warn_only=True)\n",
        "\n",
        "main()"
      ]
    },
    {
      "cell_type": "markdown",
      "metadata": {
        "id": "R8PoD7RRYJfQ"
      },
      "source": [
        "#### 1.3.7 - ASH module after layer1.1.bn1, layer2.1.conv2, and layer3.1.conv2"
      ]
    },
    {
      "cell_type": "markdown",
      "metadata": {
        "id": "3jakDBUgYJfQ"
      },
      "source": [
        "##### 1.3.7.1 - Cartoon"
      ]
    },
    {
      "cell_type": "code",
      "execution_count": null,
      "metadata": {
        "vscode": {
          "languageId": "python"
        },
        "id": "k8BtoGg6YJfQ"
      },
      "outputs": [],
      "source": [
        "warnings.filterwarnings('ignore', category=UserWarning)\n",
        "\n",
        "# Parse arguments\n",
        "conf = configurations['1.3.7.1']\n",
        "\n",
        "#args = parse_arguments()\n",
        "args = argparse.Namespace(**conf)\n",
        "print(args)\n",
        "CONFIG.update(vars(args))\n",
        "\n",
        "# Setup output directory\n",
        "CONFIG.save_dir = os.path.join('record', CONFIG.experiment_name)\n",
        "os.makedirs(CONFIG.save_dir, exist_ok=True)\n",
        "\n",
        "# Setup logging\n",
        "logging.basicConfig(\n",
        "    filename=os.path.join(CONFIG.save_dir, 'log.txt'),\n",
        "    format='%(message)s',\n",
        "    level=logging.INFO,\n",
        "    filemode='a'\n",
        ")\n",
        "\n",
        "# Set experiment's device & deterministic behavior\n",
        "if CONFIG.cpu:\n",
        "    CONFIG.device = 'cpu'\n",
        "else:\n",
        "    CONFIG.device = 'cuda' if torch.cuda.is_available() else 'cpu'\n",
        "\n",
        "torch.manual_seed(CONFIG.seed)\n",
        "random.seed(CONFIG.seed)\n",
        "np.random.seed(CONFIG.seed)\n",
        "torch.backends.cudnn.benchmark = True\n",
        "torch.use_deterministic_algorithms(mode=True, warn_only=True)\n",
        "\n",
        "main()"
      ]
    },
    {
      "cell_type": "markdown",
      "metadata": {
        "id": "yILy0DQ9YJfQ"
      },
      "source": [
        "##### 1.3.7.2 - Sketch"
      ]
    },
    {
      "cell_type": "code",
      "execution_count": null,
      "metadata": {
        "vscode": {
          "languageId": "python"
        },
        "id": "KAFey67WYJfQ"
      },
      "outputs": [],
      "source": [
        "warnings.filterwarnings('ignore', category=UserWarning)\n",
        "\n",
        "# Parse arguments\n",
        "conf = configurations['1.3.7.2']\n",
        "\n",
        "#args = parse_arguments()\n",
        "args = argparse.Namespace(**conf)\n",
        "print(args)\n",
        "CONFIG.update(vars(args))\n",
        "\n",
        "# Setup output directory\n",
        "CONFIG.save_dir = os.path.join('record', CONFIG.experiment_name)\n",
        "os.makedirs(CONFIG.save_dir, exist_ok=True)\n",
        "\n",
        "# Setup logging\n",
        "logging.basicConfig(\n",
        "    filename=os.path.join(CONFIG.save_dir, 'log.txt'),\n",
        "    format='%(message)s',\n",
        "    level=logging.INFO,\n",
        "    filemode='a'\n",
        ")\n",
        "\n",
        "# Set experiment's device & deterministic behavior\n",
        "if CONFIG.cpu:\n",
        "    CONFIG.device = 'cpu'\n",
        "else:\n",
        "    CONFIG.device = 'cuda' if torch.cuda.is_available() else 'cpu'\n",
        "\n",
        "torch.manual_seed(CONFIG.seed)\n",
        "random.seed(CONFIG.seed)\n",
        "np.random.seed(CONFIG.seed)\n",
        "torch.backends.cudnn.benchmark = True\n",
        "torch.use_deterministic_algorithms(mode=True, warn_only=True)\n",
        "\n",
        "main()"
      ]
    },
    {
      "cell_type": "markdown",
      "metadata": {
        "id": "kUiEhGscYJfQ"
      },
      "source": [
        "##### 1.3.7.3 - Photo"
      ]
    },
    {
      "cell_type": "code",
      "execution_count": null,
      "metadata": {
        "vscode": {
          "languageId": "python"
        },
        "id": "jyH8Xt2iYJfQ"
      },
      "outputs": [],
      "source": [
        "warnings.filterwarnings('ignore', category=UserWarning)\n",
        "\n",
        "# Parse arguments\n",
        "conf = configurations['1.3.7.3']\n",
        "\n",
        "#args = parse_arguments()\n",
        "args = argparse.Namespace(**conf)\n",
        "print(args)\n",
        "CONFIG.update(vars(args))\n",
        "\n",
        "# Setup output directory\n",
        "CONFIG.save_dir = os.path.join('record', CONFIG.experiment_name)\n",
        "os.makedirs(CONFIG.save_dir, exist_ok=True)\n",
        "\n",
        "# Setup logging\n",
        "logging.basicConfig(\n",
        "    filename=os.path.join(CONFIG.save_dir, 'log.txt'),\n",
        "    format='%(message)s',\n",
        "    level=logging.INFO,\n",
        "    filemode='a'\n",
        ")\n",
        "\n",
        "# Set experiment's device & deterministic behavior\n",
        "if CONFIG.cpu:\n",
        "    CONFIG.device = 'cpu'\n",
        "else:\n",
        "    CONFIG.device = 'cuda' if torch.cuda.is_available() else 'cpu'\n",
        "\n",
        "torch.manual_seed(CONFIG.seed)\n",
        "random.seed(CONFIG.seed)\n",
        "np.random.seed(CONFIG.seed)\n",
        "torch.backends.cudnn.benchmark = True\n",
        "torch.use_deterministic_algorithms(mode=True, warn_only=True)\n",
        "\n",
        "main()"
      ]
    },
    {
      "cell_type": "markdown",
      "metadata": {
        "id": "SNI1rXtzYJfR"
      },
      "source": [
        "#### 1.3.8 - ASH module after layer1.1.conv2, layer1.1.bn2, and layer2.1.conv2"
      ]
    },
    {
      "cell_type": "markdown",
      "metadata": {
        "id": "S22cQTT8YJfR"
      },
      "source": [
        "##### 1.3.8.1 - Cartoon"
      ]
    },
    {
      "cell_type": "code",
      "execution_count": null,
      "metadata": {
        "vscode": {
          "languageId": "python"
        },
        "id": "AEwUotrZYJfR"
      },
      "outputs": [],
      "source": [
        "warnings.filterwarnings('ignore', category=UserWarning)\n",
        "\n",
        "# Parse arguments\n",
        "conf = configurations['1.3.8.1']\n",
        "\n",
        "#args = parse_arguments()\n",
        "args = argparse.Namespace(**conf)\n",
        "print(args)\n",
        "CONFIG.update(vars(args))\n",
        "\n",
        "# Setup output directory\n",
        "CONFIG.save_dir = os.path.join('record', CONFIG.experiment_name)\n",
        "os.makedirs(CONFIG.save_dir, exist_ok=True)\n",
        "\n",
        "# Setup logging\n",
        "logging.basicConfig(\n",
        "    filename=os.path.join(CONFIG.save_dir, 'log.txt'),\n",
        "    format='%(message)s',\n",
        "    level=logging.INFO,\n",
        "    filemode='a'\n",
        ")\n",
        "\n",
        "# Set experiment's device & deterministic behavior\n",
        "if CONFIG.cpu:\n",
        "    CONFIG.device = 'cpu'\n",
        "else:\n",
        "    CONFIG.device = 'cuda' if torch.cuda.is_available() else 'cpu'\n",
        "\n",
        "torch.manual_seed(CONFIG.seed)\n",
        "random.seed(CONFIG.seed)\n",
        "np.random.seed(CONFIG.seed)\n",
        "torch.backends.cudnn.benchmark = True\n",
        "torch.use_deterministic_algorithms(mode=True, warn_only=True)\n",
        "\n",
        "main()"
      ]
    },
    {
      "cell_type": "markdown",
      "metadata": {
        "id": "ZvL5zOKWYJfR"
      },
      "source": [
        "##### 1.3.8.2 - Sketch"
      ]
    },
    {
      "cell_type": "code",
      "execution_count": null,
      "metadata": {
        "vscode": {
          "languageId": "python"
        },
        "id": "_x3LS8bBYJfR"
      },
      "outputs": [],
      "source": [
        "warnings.filterwarnings('ignore', category=UserWarning)\n",
        "\n",
        "# Parse arguments\n",
        "conf = configurations['1.3.8.2']\n",
        "\n",
        "#args = parse_arguments()\n",
        "args = argparse.Namespace(**conf)\n",
        "print(args)\n",
        "CONFIG.update(vars(args))\n",
        "\n",
        "# Setup output directory\n",
        "CONFIG.save_dir = os.path.join('record', CONFIG.experiment_name)\n",
        "os.makedirs(CONFIG.save_dir, exist_ok=True)\n",
        "\n",
        "# Setup logging\n",
        "logging.basicConfig(\n",
        "    filename=os.path.join(CONFIG.save_dir, 'log.txt'),\n",
        "    format='%(message)s',\n",
        "    level=logging.INFO,\n",
        "    filemode='a'\n",
        ")\n",
        "\n",
        "# Set experiment's device & deterministic behavior\n",
        "if CONFIG.cpu:\n",
        "    CONFIG.device = 'cpu'\n",
        "else:\n",
        "    CONFIG.device = 'cuda' if torch.cuda.is_available() else 'cpu'\n",
        "\n",
        "torch.manual_seed(CONFIG.seed)\n",
        "random.seed(CONFIG.seed)\n",
        "np.random.seed(CONFIG.seed)\n",
        "torch.backends.cudnn.benchmark = True\n",
        "torch.use_deterministic_algorithms(mode=True, warn_only=True)\n",
        "\n",
        "main()"
      ]
    },
    {
      "cell_type": "markdown",
      "metadata": {
        "id": "p3PsnG5fYJfR"
      },
      "source": [
        "##### 1.3.8.3 - Photo"
      ]
    },
    {
      "cell_type": "code",
      "execution_count": null,
      "metadata": {
        "vscode": {
          "languageId": "python"
        },
        "id": "maAT25B2YJfS"
      },
      "outputs": [],
      "source": [
        "warnings.filterwarnings('ignore', category=UserWarning)\n",
        "\n",
        "# Parse arguments\n",
        "conf = configurations['1.3.8.3']\n",
        "\n",
        "#args = parse_arguments()\n",
        "args = argparse.Namespace(**conf)\n",
        "print(args)\n",
        "CONFIG.update(vars(args))\n",
        "\n",
        "# Setup output directory\n",
        "CONFIG.save_dir = os.path.join('record', CONFIG.experiment_name)\n",
        "os.makedirs(CONFIG.save_dir, exist_ok=True)\n",
        "\n",
        "# Setup logging\n",
        "logging.basicConfig(\n",
        "    filename=os.path.join(CONFIG.save_dir, 'log.txt'),\n",
        "    format='%(message)s',\n",
        "    level=logging.INFO,\n",
        "    filemode='a'\n",
        ")\n",
        "\n",
        "# Set experiment's device & deterministic behavior\n",
        "if CONFIG.cpu:\n",
        "    CONFIG.device = 'cpu'\n",
        "else:\n",
        "    CONFIG.device = 'cuda' if torch.cuda.is_available() else 'cpu'\n",
        "\n",
        "torch.manual_seed(CONFIG.seed)\n",
        "random.seed(CONFIG.seed)\n",
        "np.random.seed(CONFIG.seed)\n",
        "torch.backends.cudnn.benchmark = True\n",
        "torch.use_deterministic_algorithms(mode=True, warn_only=True)\n",
        "\n",
        "main()"
      ]
    },
    {
      "cell_type": "markdown",
      "metadata": {
        "id": "oFAkWdtTYJfS"
      },
      "source": [
        "#### 1.3.9 - ASH module after layer1.1.conv2, layer2.1.conv2, and layer3.0.conv1"
      ]
    },
    {
      "cell_type": "markdown",
      "metadata": {
        "id": "-HpzSRTQYJfS"
      },
      "source": [
        "##### 1.3.9.1 - Cartoon"
      ]
    },
    {
      "cell_type": "code",
      "execution_count": null,
      "metadata": {
        "vscode": {
          "languageId": "python"
        },
        "id": "0lTcJI7uYJfS"
      },
      "outputs": [],
      "source": [
        "warnings.filterwarnings('ignore', category=UserWarning)\n",
        "\n",
        "# Parse arguments\n",
        "conf = configurations['1.3.9.1']\n",
        "\n",
        "#args = parse_arguments()\n",
        "args = argparse.Namespace(**conf)\n",
        "print(args)\n",
        "CONFIG.update(vars(args))\n",
        "\n",
        "# Setup output directory\n",
        "CONFIG.save_dir = os.path.join('record', CONFIG.experiment_name)\n",
        "os.makedirs(CONFIG.save_dir, exist_ok=True)\n",
        "\n",
        "# Setup logging\n",
        "logging.basicConfig(\n",
        "    filename=os.path.join(CONFIG.save_dir, 'log.txt'),\n",
        "    format='%(message)s',\n",
        "    level=logging.INFO,\n",
        "    filemode='a'\n",
        ")\n",
        "\n",
        "# Set experiment's device & deterministic behavior\n",
        "if CONFIG.cpu:\n",
        "    CONFIG.device = 'cpu'\n",
        "else:\n",
        "    CONFIG.device = 'cuda' if torch.cuda.is_available() else 'cpu'\n",
        "\n",
        "torch.manual_seed(CONFIG.seed)\n",
        "random.seed(CONFIG.seed)\n",
        "np.random.seed(CONFIG.seed)\n",
        "torch.backends.cudnn.benchmark = True\n",
        "torch.use_deterministic_algorithms(mode=True, warn_only=True)\n",
        "\n",
        "main()"
      ]
    },
    {
      "cell_type": "markdown",
      "metadata": {
        "id": "CkGa2SVcYJfS"
      },
      "source": [
        "##### 1.3.9.2 - Sketch"
      ]
    },
    {
      "cell_type": "code",
      "execution_count": null,
      "metadata": {
        "vscode": {
          "languageId": "python"
        },
        "id": "KkbKWmfOYJfS"
      },
      "outputs": [],
      "source": [
        "warnings.filterwarnings('ignore', category=UserWarning)\n",
        "\n",
        "# Parse arguments\n",
        "conf = configurations['1.3.9.2']\n",
        "\n",
        "#args = parse_arguments()\n",
        "args = argparse.Namespace(**conf)\n",
        "print(args)\n",
        "CONFIG.update(vars(args))\n",
        "\n",
        "# Setup output directory\n",
        "CONFIG.save_dir = os.path.join('record', CONFIG.experiment_name)\n",
        "os.makedirs(CONFIG.save_dir, exist_ok=True)\n",
        "\n",
        "# Setup logging\n",
        "logging.basicConfig(\n",
        "    filename=os.path.join(CONFIG.save_dir, 'log.txt'),\n",
        "    format='%(message)s',\n",
        "    level=logging.INFO,\n",
        "    filemode='a'\n",
        ")\n",
        "\n",
        "# Set experiment's device & deterministic behavior\n",
        "if CONFIG.cpu:\n",
        "    CONFIG.device = 'cpu'\n",
        "else:\n",
        "    CONFIG.device = 'cuda' if torch.cuda.is_available() else 'cpu'\n",
        "\n",
        "torch.manual_seed(CONFIG.seed)\n",
        "random.seed(CONFIG.seed)\n",
        "np.random.seed(CONFIG.seed)\n",
        "torch.backends.cudnn.benchmark = True\n",
        "torch.use_deterministic_algorithms(mode=True, warn_only=True)\n",
        "\n",
        "main()"
      ]
    },
    {
      "cell_type": "markdown",
      "metadata": {
        "id": "UY56QSAIYJfT"
      },
      "source": [
        "##### 1.3.9.3 - Photo"
      ]
    },
    {
      "cell_type": "code",
      "execution_count": null,
      "metadata": {
        "vscode": {
          "languageId": "python"
        },
        "id": "PPbIBdwNYJfT"
      },
      "outputs": [],
      "source": [
        "warnings.filterwarnings('ignore', category=UserWarning)\n",
        "\n",
        "# Parse arguments\n",
        "conf = configurations['1.3.9.3']\n",
        "\n",
        "#args = parse_arguments()\n",
        "args = argparse.Namespace(**conf)\n",
        "print(args)\n",
        "CONFIG.update(vars(args))\n",
        "\n",
        "# Setup output directory\n",
        "CONFIG.save_dir = os.path.join('record', CONFIG.experiment_name)\n",
        "os.makedirs(CONFIG.save_dir, exist_ok=True)\n",
        "\n",
        "# Setup logging\n",
        "logging.basicConfig(\n",
        "    filename=os.path.join(CONFIG.save_dir, 'log.txt'),\n",
        "    format='%(message)s',\n",
        "    level=logging.INFO,\n",
        "    filemode='a'\n",
        ")\n",
        "\n",
        "# Set experiment's device & deterministic behavior\n",
        "if CONFIG.cpu:\n",
        "    CONFIG.device = 'cpu'\n",
        "else:\n",
        "    CONFIG.device = 'cuda' if torch.cuda.is_available() else 'cpu'\n",
        "\n",
        "torch.manual_seed(CONFIG.seed)\n",
        "random.seed(CONFIG.seed)\n",
        "np.random.seed(CONFIG.seed)\n",
        "torch.backends.cudnn.benchmark = True\n",
        "torch.use_deterministic_algorithms(mode=True, warn_only=True)\n",
        "\n",
        "main()"
      ]
    },
    {
      "cell_type": "markdown",
      "metadata": {
        "id": "4YEDnM6YYJfT"
      },
      "source": [
        "#### 1.3.10 - ASH module after layer1.1.conv2, layer2.1.conv2, and layer3.1.conv2"
      ]
    },
    {
      "cell_type": "markdown",
      "metadata": {
        "id": "3fhah7W3YJfT"
      },
      "source": [
        "##### 1.3.10.1 - Cartoon"
      ]
    },
    {
      "cell_type": "code",
      "execution_count": null,
      "metadata": {
        "vscode": {
          "languageId": "python"
        },
        "id": "b58Kt3iDYJfT"
      },
      "outputs": [],
      "source": [
        "warnings.filterwarnings('ignore', category=UserWarning)\n",
        "\n",
        "# Parse arguments\n",
        "conf = configurations['1.3.10.1']\n",
        "\n",
        "#args = parse_arguments()\n",
        "args = argparse.Namespace(**conf)\n",
        "print(args)\n",
        "CONFIG.update(vars(args))\n",
        "\n",
        "# Setup output directory\n",
        "CONFIG.save_dir = os.path.join('record', CONFIG.experiment_name)\n",
        "os.makedirs(CONFIG.save_dir, exist_ok=True)\n",
        "\n",
        "# Setup logging\n",
        "logging.basicConfig(\n",
        "    filename=os.path.join(CONFIG.save_dir, 'log.txt'),\n",
        "    format='%(message)s',\n",
        "    level=logging.INFO,\n",
        "    filemode='a'\n",
        ")\n",
        "\n",
        "# Set experiment's device & deterministic behavior\n",
        "if CONFIG.cpu:\n",
        "    CONFIG.device = 'cpu'\n",
        "else:\n",
        "    CONFIG.device = 'cuda' if torch.cuda.is_available() else 'cpu'\n",
        "\n",
        "torch.manual_seed(CONFIG.seed)\n",
        "random.seed(CONFIG.seed)\n",
        "np.random.seed(CONFIG.seed)\n",
        "torch.backends.cudnn.benchmark = True\n",
        "torch.use_deterministic_algorithms(mode=True, warn_only=True)\n",
        "\n",
        "main()"
      ]
    },
    {
      "cell_type": "markdown",
      "metadata": {
        "id": "REFJ7nBOYJfT"
      },
      "source": [
        "##### 1.3.10.2 - Sketch"
      ]
    },
    {
      "cell_type": "code",
      "execution_count": null,
      "metadata": {
        "vscode": {
          "languageId": "python"
        },
        "id": "n04L0VDFYJfT"
      },
      "outputs": [],
      "source": [
        "warnings.filterwarnings('ignore', category=UserWarning)\n",
        "\n",
        "# Parse arguments\n",
        "conf = configurations['1.3.10.2']\n",
        "\n",
        "#args = parse_arguments()\n",
        "args = argparse.Namespace(**conf)\n",
        "print(args)\n",
        "CONFIG.update(vars(args))\n",
        "\n",
        "# Setup output directory\n",
        "CONFIG.save_dir = os.path.join('record', CONFIG.experiment_name)\n",
        "os.makedirs(CONFIG.save_dir, exist_ok=True)\n",
        "\n",
        "# Setup logging\n",
        "logging.basicConfig(\n",
        "    filename=os.path.join(CONFIG.save_dir, 'log.txt'),\n",
        "    format='%(message)s',\n",
        "    level=logging.INFO,\n",
        "    filemode='a'\n",
        ")\n",
        "\n",
        "# Set experiment's device & deterministic behavior\n",
        "if CONFIG.cpu:\n",
        "    CONFIG.device = 'cpu'\n",
        "else:\n",
        "    CONFIG.device = 'cuda' if torch.cuda.is_available() else 'cpu'\n",
        "\n",
        "torch.manual_seed(CONFIG.seed)\n",
        "random.seed(CONFIG.seed)\n",
        "np.random.seed(CONFIG.seed)\n",
        "torch.backends.cudnn.benchmark = True\n",
        "torch.use_deterministic_algorithms(mode=True, warn_only=True)\n",
        "\n",
        "main()"
      ]
    },
    {
      "cell_type": "markdown",
      "metadata": {
        "id": "Ms7MFfCHYJfT"
      },
      "source": [
        "##### 1.3.10.3 - Photo"
      ]
    },
    {
      "cell_type": "code",
      "execution_count": null,
      "metadata": {
        "vscode": {
          "languageId": "python"
        },
        "id": "cjii_MivYJfT"
      },
      "outputs": [],
      "source": [
        "warnings.filterwarnings('ignore', category=UserWarning)\n",
        "\n",
        "# Parse arguments\n",
        "conf = configurations['1.3.10.3']\n",
        "\n",
        "#args = parse_arguments()\n",
        "args = argparse.Namespace(**conf)\n",
        "print(args)\n",
        "CONFIG.update(vars(args))\n",
        "\n",
        "# Setup output directory\n",
        "CONFIG.save_dir = os.path.join('record', CONFIG.experiment_name)\n",
        "os.makedirs(CONFIG.save_dir, exist_ok=True)\n",
        "\n",
        "# Setup logging\n",
        "logging.basicConfig(\n",
        "    filename=os.path.join(CONFIG.save_dir, 'log.txt'),\n",
        "    format='%(message)s',\n",
        "    level=logging.INFO,\n",
        "    filemode='a'\n",
        ")\n",
        "\n",
        "# Set experiment's device & deterministic behavior\n",
        "if CONFIG.cpu:\n",
        "    CONFIG.device = 'cpu'\n",
        "else:\n",
        "    CONFIG.device = 'cuda' if torch.cuda.is_available() else 'cpu'\n",
        "\n",
        "torch.manual_seed(CONFIG.seed)\n",
        "random.seed(CONFIG.seed)\n",
        "np.random.seed(CONFIG.seed)\n",
        "torch.backends.cudnn.benchmark = True\n",
        "torch.use_deterministic_algorithms(mode=True, warn_only=True)\n",
        "\n",
        "main()"
      ]
    },
    {
      "cell_type": "markdown",
      "metadata": {
        "id": "rR-4-Q78YJfU"
      },
      "source": [
        "#### 1.3.11 - ASH module after layer1.1.bn2, layer2.1.conv2, and layer3.0.conv1\\"
      ]
    },
    {
      "cell_type": "markdown",
      "metadata": {
        "id": "2TuWRBtNYJfU"
      },
      "source": [
        "##### 1.3.11.1 - Cartoon"
      ]
    },
    {
      "cell_type": "code",
      "execution_count": null,
      "metadata": {
        "vscode": {
          "languageId": "python"
        },
        "id": "dopJVbBzYJfU"
      },
      "outputs": [],
      "source": [
        "warnings.filterwarnings('ignore', category=UserWarning)\n",
        "\n",
        "# Parse arguments\n",
        "conf = configurations['1.3.11.1']\n",
        "\n",
        "#args = parse_arguments()\n",
        "args = argparse.Namespace(**conf)\n",
        "print(args)\n",
        "CONFIG.update(vars(args))\n",
        "\n",
        "# Setup output directory\n",
        "CONFIG.save_dir = os.path.join('record', CONFIG.experiment_name)\n",
        "os.makedirs(CONFIG.save_dir, exist_ok=True)\n",
        "\n",
        "# Setup logging\n",
        "logging.basicConfig(\n",
        "    filename=os.path.join(CONFIG.save_dir, 'log.txt'),\n",
        "    format='%(message)s',\n",
        "    level=logging.INFO,\n",
        "    filemode='a'\n",
        ")\n",
        "\n",
        "# Set experiment's device & deterministic behavior\n",
        "if CONFIG.cpu:\n",
        "    CONFIG.device = 'cpu'\n",
        "else:\n",
        "    CONFIG.device = 'cuda' if torch.cuda.is_available() else 'cpu'\n",
        "\n",
        "torch.manual_seed(CONFIG.seed)\n",
        "random.seed(CONFIG.seed)\n",
        "np.random.seed(CONFIG.seed)\n",
        "torch.backends.cudnn.benchmark = True\n",
        "torch.use_deterministic_algorithms(mode=True, warn_only=True)\n",
        "\n",
        "main()"
      ]
    },
    {
      "cell_type": "markdown",
      "metadata": {
        "id": "e6TauJYCYJfU"
      },
      "source": [
        "##### 1.3.11.2 - Sketch"
      ]
    },
    {
      "cell_type": "code",
      "execution_count": null,
      "metadata": {
        "vscode": {
          "languageId": "python"
        },
        "id": "62nQCt8PYJfU"
      },
      "outputs": [],
      "source": [
        "warnings.filterwarnings('ignore', category=UserWarning)\n",
        "\n",
        "# Parse arguments\n",
        "conf = configurations['1.3.11.2']\n",
        "\n",
        "#args = parse_arguments()\n",
        "args = argparse.Namespace(**conf)\n",
        "print(args)\n",
        "CONFIG.update(vars(args))\n",
        "\n",
        "# Setup output directory\n",
        "CONFIG.save_dir = os.path.join('record', CONFIG.experiment_name)\n",
        "os.makedirs(CONFIG.save_dir, exist_ok=True)\n",
        "\n",
        "# Setup logging\n",
        "logging.basicConfig(\n",
        "    filename=os.path.join(CONFIG.save_dir, 'log.txt'),\n",
        "    format='%(message)s',\n",
        "    level=logging.INFO,\n",
        "    filemode='a'\n",
        ")\n",
        "\n",
        "# Set experiment's device & deterministic behavior\n",
        "if CONFIG.cpu:\n",
        "    CONFIG.device = 'cpu'\n",
        "else:\n",
        "    CONFIG.device = 'cuda' if torch.cuda.is_available() else 'cpu'\n",
        "\n",
        "torch.manual_seed(CONFIG.seed)\n",
        "random.seed(CONFIG.seed)\n",
        "np.random.seed(CONFIG.seed)\n",
        "torch.backends.cudnn.benchmark = True\n",
        "torch.use_deterministic_algorithms(mode=True, warn_only=True)\n",
        "\n",
        "main()"
      ]
    },
    {
      "cell_type": "markdown",
      "metadata": {
        "id": "8EUgQ__1YJfU"
      },
      "source": [
        "##### 1.3.11.3 - Photo"
      ]
    },
    {
      "cell_type": "code",
      "execution_count": null,
      "metadata": {
        "vscode": {
          "languageId": "python"
        },
        "id": "GlNk1uFNYJfU"
      },
      "outputs": [],
      "source": [
        "warnings.filterwarnings('ignore', category=UserWarning)\n",
        "\n",
        "# Parse arguments\n",
        "conf = configurations['1.3.11.3']\n",
        "\n",
        "#args = parse_arguments()\n",
        "args = argparse.Namespace(**conf)\n",
        "print(args)\n",
        "CONFIG.update(vars(args))\n",
        "\n",
        "# Setup output directory\n",
        "CONFIG.save_dir = os.path.join('record', CONFIG.experiment_name)\n",
        "os.makedirs(CONFIG.save_dir, exist_ok=True)\n",
        "\n",
        "# Setup logging\n",
        "logging.basicConfig(\n",
        "    filename=os.path.join(CONFIG.save_dir, 'log.txt'),\n",
        "    format='%(message)s',\n",
        "    level=logging.INFO,\n",
        "    filemode='a'\n",
        ")\n",
        "\n",
        "# Set experiment's device & deterministic behavior\n",
        "if CONFIG.cpu:\n",
        "    CONFIG.device = 'cpu'\n",
        "else:\n",
        "    CONFIG.device = 'cuda' if torch.cuda.is_available() else 'cpu'\n",
        "\n",
        "torch.manual_seed(CONFIG.seed)\n",
        "random.seed(CONFIG.seed)\n",
        "np.random.seed(CONFIG.seed)\n",
        "torch.backends.cudnn.benchmark = True\n",
        "torch.use_deterministic_algorithms(mode=True, warn_only=True)\n",
        "\n",
        "main()"
      ]
    },
    {
      "cell_type": "markdown",
      "metadata": {
        "id": "JG_W-2ssYJfU"
      },
      "source": [
        "#### 1.3.12 - ASH module after layer1.1.bn2, layer2.1.conv2, and layer3.1.conv2"
      ]
    },
    {
      "cell_type": "markdown",
      "metadata": {
        "id": "q3WN85KuYJfV"
      },
      "source": [
        "##### 1.3.12.1 - Cartoon"
      ]
    },
    {
      "cell_type": "code",
      "execution_count": null,
      "metadata": {
        "vscode": {
          "languageId": "python"
        },
        "id": "CZbvmULyYJfV"
      },
      "outputs": [],
      "source": [
        "warnings.filterwarnings('ignore', category=UserWarning)\n",
        "\n",
        "# Parse arguments\n",
        "conf = configurations['1.3.12.1']\n",
        "\n",
        "#args = parse_arguments()\n",
        "args = argparse.Namespace(**conf)\n",
        "print(args)\n",
        "CONFIG.update(vars(args))\n",
        "\n",
        "# Setup output directory\n",
        "CONFIG.save_dir = os.path.join('record', CONFIG.experiment_name)\n",
        "os.makedirs(CONFIG.save_dir, exist_ok=True)\n",
        "\n",
        "# Setup logging\n",
        "logging.basicConfig(\n",
        "    filename=os.path.join(CONFIG.save_dir, 'log.txt'),\n",
        "    format='%(message)s',\n",
        "    level=logging.INFO,\n",
        "    filemode='a'\n",
        ")\n",
        "\n",
        "# Set experiment's device & deterministic behavior\n",
        "if CONFIG.cpu:\n",
        "    CONFIG.device = 'cpu'\n",
        "else:\n",
        "    CONFIG.device = 'cuda' if torch.cuda.is_available() else 'cpu'\n",
        "\n",
        "torch.manual_seed(CONFIG.seed)\n",
        "random.seed(CONFIG.seed)\n",
        "np.random.seed(CONFIG.seed)\n",
        "torch.backends.cudnn.benchmark = True\n",
        "torch.use_deterministic_algorithms(mode=True, warn_only=True)\n",
        "\n",
        "main()"
      ]
    },
    {
      "cell_type": "markdown",
      "metadata": {
        "id": "Ke1id3WwYJfV"
      },
      "source": [
        "##### 1.3.12.2 - Sketch"
      ]
    },
    {
      "cell_type": "code",
      "execution_count": null,
      "metadata": {
        "vscode": {
          "languageId": "python"
        },
        "id": "JD5zsQL_YJfV"
      },
      "outputs": [],
      "source": [
        "warnings.filterwarnings('ignore', category=UserWarning)\n",
        "\n",
        "# Parse arguments\n",
        "conf = configurations['1.3.12.2']\n",
        "\n",
        "#args = parse_arguments()\n",
        "args = argparse.Namespace(**conf)\n",
        "print(args)\n",
        "CONFIG.update(vars(args))\n",
        "\n",
        "# Setup output directory\n",
        "CONFIG.save_dir = os.path.join('record', CONFIG.experiment_name)\n",
        "os.makedirs(CONFIG.save_dir, exist_ok=True)\n",
        "\n",
        "# Setup logging\n",
        "logging.basicConfig(\n",
        "    filename=os.path.join(CONFIG.save_dir, 'log.txt'),\n",
        "    format='%(message)s',\n",
        "    level=logging.INFO,\n",
        "    filemode='a'\n",
        ")\n",
        "\n",
        "# Set experiment's device & deterministic behavior\n",
        "if CONFIG.cpu:\n",
        "    CONFIG.device = 'cpu'\n",
        "else:\n",
        "    CONFIG.device = 'cuda' if torch.cuda.is_available() else 'cpu'\n",
        "\n",
        "torch.manual_seed(CONFIG.seed)\n",
        "random.seed(CONFIG.seed)\n",
        "np.random.seed(CONFIG.seed)\n",
        "torch.backends.cudnn.benchmark = True\n",
        "torch.use_deterministic_algorithms(mode=True, warn_only=True)\n",
        "\n",
        "main()"
      ]
    },
    {
      "cell_type": "markdown",
      "metadata": {
        "id": "3QPy5h_9YJfV"
      },
      "source": [
        "##### 1.3.12.3 - Photo"
      ]
    },
    {
      "cell_type": "code",
      "execution_count": null,
      "metadata": {
        "vscode": {
          "languageId": "python"
        },
        "id": "s6Vj4tuXYJfV"
      },
      "outputs": [],
      "source": [
        "warnings.filterwarnings('ignore', category=UserWarning)\n",
        "\n",
        "# Parse arguments\n",
        "conf = configurations['1.3.12.3']\n",
        "\n",
        "#args = parse_arguments()\n",
        "args = argparse.Namespace(**conf)\n",
        "print(args)\n",
        "CONFIG.update(vars(args))\n",
        "\n",
        "# Setup output directory\n",
        "CONFIG.save_dir = os.path.join('record', CONFIG.experiment_name)\n",
        "os.makedirs(CONFIG.save_dir, exist_ok=True)\n",
        "\n",
        "# Setup logging\n",
        "logging.basicConfig(\n",
        "    filename=os.path.join(CONFIG.save_dir, 'log.txt'),\n",
        "    format='%(message)s',\n",
        "    level=logging.INFO,\n",
        "    filemode='a'\n",
        ")\n",
        "\n",
        "# Set experiment's device & deterministic behavior\n",
        "if CONFIG.cpu:\n",
        "    CONFIG.device = 'cpu'\n",
        "else:\n",
        "    CONFIG.device = 'cuda' if torch.cuda.is_available() else 'cpu'\n",
        "\n",
        "torch.manual_seed(CONFIG.seed)\n",
        "random.seed(CONFIG.seed)\n",
        "np.random.seed(CONFIG.seed)\n",
        "torch.backends.cudnn.benchmark = True\n",
        "torch.use_deterministic_algorithms(mode=True, warn_only=True)\n",
        "\n",
        "main()"
      ]
    },
    {
      "cell_type": "markdown",
      "metadata": {
        "id": "vzqHamgkYJfW"
      },
      "source": [
        "### 1.4 - Four ASH modules"
      ]
    },
    {
      "cell_type": "markdown",
      "metadata": {
        "id": "jT9n8d1PYJfW"
      },
      "source": [
        "#### 1.4.1 - ASH module after layer1.1.bn1, layer1.1.conv2, layer1.1.bn2, and layer2.1.conv2"
      ]
    },
    {
      "cell_type": "markdown",
      "metadata": {
        "id": "rDpKKST0YJfW"
      },
      "source": [
        "##### 1.4.1.1 - Cartoon"
      ]
    },
    {
      "cell_type": "code",
      "execution_count": null,
      "metadata": {
        "vscode": {
          "languageId": "python"
        },
        "id": "QoFP3a9MYJfX"
      },
      "outputs": [],
      "source": [
        "warnings.filterwarnings('ignore', category=UserWarning)\n",
        "\n",
        "# Parse arguments\n",
        "conf = configurations['1.4.1.1']\n",
        "\n",
        "#args = parse_arguments()\n",
        "args = argparse.Namespace(**conf)\n",
        "print(args)\n",
        "CONFIG.update(vars(args))\n",
        "\n",
        "# Setup output directory\n",
        "CONFIG.save_dir = os.path.join('record', CONFIG.experiment_name)\n",
        "os.makedirs(CONFIG.save_dir, exist_ok=True)\n",
        "\n",
        "# Setup logging\n",
        "logging.basicConfig(\n",
        "    filename=os.path.join(CONFIG.save_dir, 'log.txt'),\n",
        "    format='%(message)s',\n",
        "    level=logging.INFO,\n",
        "    filemode='a'\n",
        ")\n",
        "\n",
        "# Set experiment's device & deterministic behavior\n",
        "if CONFIG.cpu:\n",
        "    CONFIG.device = 'cpu'\n",
        "else:\n",
        "    CONFIG.device = 'cuda' if torch.cuda.is_available() else 'cpu'\n",
        "\n",
        "torch.manual_seed(CONFIG.seed)\n",
        "random.seed(CONFIG.seed)\n",
        "np.random.seed(CONFIG.seed)\n",
        "torch.backends.cudnn.benchmark = True\n",
        "torch.use_deterministic_algorithms(mode=True, warn_only=True)\n",
        "\n",
        "main()"
      ]
    },
    {
      "cell_type": "markdown",
      "metadata": {
        "id": "N-m0NAgiYJfX"
      },
      "source": [
        "##### 1.4.1.2 - Sketch"
      ]
    },
    {
      "cell_type": "code",
      "execution_count": null,
      "metadata": {
        "vscode": {
          "languageId": "python"
        },
        "id": "80PiSvgmYJfX"
      },
      "outputs": [],
      "source": [
        "warnings.filterwarnings('ignore', category=UserWarning)\n",
        "\n",
        "# Parse arguments\n",
        "conf = configurations['1.4.1.2']\n",
        "\n",
        "#args = parse_arguments()\n",
        "args = argparse.Namespace(**conf)\n",
        "print(args)\n",
        "CONFIG.update(vars(args))\n",
        "\n",
        "# Setup output directory\n",
        "CONFIG.save_dir = os.path.join('record', CONFIG.experiment_name)\n",
        "os.makedirs(CONFIG.save_dir, exist_ok=True)\n",
        "\n",
        "# Setup logging\n",
        "logging.basicConfig(\n",
        "    filename=os.path.join(CONFIG.save_dir, 'log.txt'),\n",
        "    format='%(message)s',\n",
        "    level=logging.INFO,\n",
        "    filemode='a'\n",
        ")\n",
        "\n",
        "# Set experiment's device & deterministic behavior\n",
        "if CONFIG.cpu:\n",
        "    CONFIG.device = 'cpu'\n",
        "else:\n",
        "    CONFIG.device = 'cuda' if torch.cuda.is_available() else 'cpu'\n",
        "\n",
        "torch.manual_seed(CONFIG.seed)\n",
        "random.seed(CONFIG.seed)\n",
        "np.random.seed(CONFIG.seed)\n",
        "torch.backends.cudnn.benchmark = True\n",
        "torch.use_deterministic_algorithms(mode=True, warn_only=True)\n",
        "\n",
        "main()"
      ]
    },
    {
      "cell_type": "markdown",
      "metadata": {
        "id": "jeQbsvKwYJfX"
      },
      "source": [
        "##### 1.4.1.3 - Photo"
      ]
    },
    {
      "cell_type": "code",
      "execution_count": null,
      "metadata": {
        "vscode": {
          "languageId": "python"
        },
        "id": "vvO09ioNYJfX"
      },
      "outputs": [],
      "source": [
        "warnings.filterwarnings('ignore', category=UserWarning)\n",
        "\n",
        "# Parse arguments\n",
        "conf = configurations['1.4.1.3']\n",
        "\n",
        "#args = parse_arguments()\n",
        "args = argparse.Namespace(**conf)\n",
        "print(args)\n",
        "CONFIG.update(vars(args))\n",
        "\n",
        "# Setup output directory\n",
        "CONFIG.save_dir = os.path.join('record', CONFIG.experiment_name)\n",
        "os.makedirs(CONFIG.save_dir, exist_ok=True)\n",
        "\n",
        "# Setup logging\n",
        "logging.basicConfig(\n",
        "    filename=os.path.join(CONFIG.save_dir, 'log.txt'),\n",
        "    format='%(message)s',\n",
        "    level=logging.INFO,\n",
        "    filemode='a'\n",
        ")\n",
        "\n",
        "# Set experiment's device & deterministic behavior\n",
        "if CONFIG.cpu:\n",
        "    CONFIG.device = 'cpu'\n",
        "else:\n",
        "    CONFIG.device = 'cuda' if torch.cuda.is_available() else 'cpu'\n",
        "\n",
        "torch.manual_seed(CONFIG.seed)\n",
        "random.seed(CONFIG.seed)\n",
        "np.random.seed(CONFIG.seed)\n",
        "torch.backends.cudnn.benchmark = True\n",
        "torch.use_deterministic_algorithms(mode=True, warn_only=True)\n",
        "\n",
        "main()"
      ]
    },
    {
      "cell_type": "markdown",
      "metadata": {
        "id": "1oxA33fxYJfX"
      },
      "source": [
        "#### 1.4.2 - ASH module after layer1.1.bn1, layer1.1.conv2, layer1.1.bn2, and layer3.0.conv1"
      ]
    },
    {
      "cell_type": "markdown",
      "metadata": {
        "id": "Xw7Teq5jYJfX"
      },
      "source": [
        "##### 1.4.2.1 - Cartoon"
      ]
    },
    {
      "cell_type": "code",
      "execution_count": null,
      "metadata": {
        "vscode": {
          "languageId": "python"
        },
        "id": "OJMCOYaOYJfX"
      },
      "outputs": [],
      "source": [
        "warnings.filterwarnings('ignore', category=UserWarning)\n",
        "\n",
        "# Parse arguments\n",
        "conf = configurations['1.4.2.1']\n",
        "\n",
        "#args = parse_arguments()\n",
        "args = argparse.Namespace(**conf)\n",
        "print(args)\n",
        "CONFIG.update(vars(args))\n",
        "\n",
        "# Setup output directory\n",
        "CONFIG.save_dir = os.path.join('record', CONFIG.experiment_name)\n",
        "os.makedirs(CONFIG.save_dir, exist_ok=True)\n",
        "\n",
        "# Setup logging\n",
        "logging.basicConfig(\n",
        "    filename=os.path.join(CONFIG.save_dir, 'log.txt'),\n",
        "    format='%(message)s',\n",
        "    level=logging.INFO,\n",
        "    filemode='a'\n",
        ")\n",
        "\n",
        "# Set experiment's device & deterministic behavior\n",
        "if CONFIG.cpu:\n",
        "    CONFIG.device = 'cpu'\n",
        "else:\n",
        "    CONFIG.device = 'cuda' if torch.cuda.is_available() else 'cpu'\n",
        "\n",
        "torch.manual_seed(CONFIG.seed)\n",
        "random.seed(CONFIG.seed)\n",
        "np.random.seed(CONFIG.seed)\n",
        "torch.backends.cudnn.benchmark = True\n",
        "torch.use_deterministic_algorithms(mode=True, warn_only=True)\n",
        "\n",
        "main()"
      ]
    },
    {
      "cell_type": "markdown",
      "metadata": {
        "id": "saSvsKlrYJfY"
      },
      "source": [
        "##### 1.4.2.2 - Sketch"
      ]
    },
    {
      "cell_type": "code",
      "execution_count": null,
      "metadata": {
        "vscode": {
          "languageId": "python"
        },
        "id": "EkUU4AjvYJfY"
      },
      "outputs": [],
      "source": [
        "warnings.filterwarnings('ignore', category=UserWarning)\n",
        "\n",
        "# Parse arguments\n",
        "conf = configurations['1.4.2.2']\n",
        "\n",
        "#args = parse_arguments()\n",
        "args = argparse.Namespace(**conf)\n",
        "print(args)\n",
        "CONFIG.update(vars(args))\n",
        "\n",
        "# Setup output directory\n",
        "CONFIG.save_dir = os.path.join('record', CONFIG.experiment_name)\n",
        "os.makedirs(CONFIG.save_dir, exist_ok=True)\n",
        "\n",
        "# Setup logging\n",
        "logging.basicConfig(\n",
        "    filename=os.path.join(CONFIG.save_dir, 'log.txt'),\n",
        "    format='%(message)s',\n",
        "    level=logging.INFO,\n",
        "    filemode='a'\n",
        ")\n",
        "\n",
        "# Set experiment's device & deterministic behavior\n",
        "if CONFIG.cpu:\n",
        "    CONFIG.device = 'cpu'\n",
        "else:\n",
        "    CONFIG.device = 'cuda' if torch.cuda.is_available() else 'cpu'\n",
        "\n",
        "torch.manual_seed(CONFIG.seed)\n",
        "random.seed(CONFIG.seed)\n",
        "np.random.seed(CONFIG.seed)\n",
        "torch.backends.cudnn.benchmark = True\n",
        "torch.use_deterministic_algorithms(mode=True, warn_only=True)\n",
        "\n",
        "main()"
      ]
    },
    {
      "cell_type": "markdown",
      "metadata": {
        "id": "stKvKoF4YJfY"
      },
      "source": [
        "##### 1.4.2.3 - Photo"
      ]
    },
    {
      "cell_type": "code",
      "execution_count": null,
      "metadata": {
        "vscode": {
          "languageId": "python"
        },
        "id": "h0IaX0KmYJfY"
      },
      "outputs": [],
      "source": [
        "warnings.filterwarnings('ignore', category=UserWarning)\n",
        "\n",
        "# Parse arguments\n",
        "conf = configurations['1.4.2.3']\n",
        "\n",
        "#args = parse_arguments()\n",
        "args = argparse.Namespace(**conf)\n",
        "print(args)\n",
        "CONFIG.update(vars(args))\n",
        "\n",
        "# Setup output directory\n",
        "CONFIG.save_dir = os.path.join('record', CONFIG.experiment_name)\n",
        "os.makedirs(CONFIG.save_dir, exist_ok=True)\n",
        "\n",
        "# Setup logging\n",
        "logging.basicConfig(\n",
        "    filename=os.path.join(CONFIG.save_dir, 'log.txt'),\n",
        "    format='%(message)s',\n",
        "    level=logging.INFO,\n",
        "    filemode='a'\n",
        ")\n",
        "\n",
        "# Set experiment's device & deterministic behavior\n",
        "if CONFIG.cpu:\n",
        "    CONFIG.device = 'cpu'\n",
        "else:\n",
        "    CONFIG.device = 'cuda' if torch.cuda.is_available() else 'cpu'\n",
        "\n",
        "torch.manual_seed(CONFIG.seed)\n",
        "random.seed(CONFIG.seed)\n",
        "np.random.seed(CONFIG.seed)\n",
        "torch.backends.cudnn.benchmark = True\n",
        "torch.use_deterministic_algorithms(mode=True, warn_only=True)\n",
        "\n",
        "main()"
      ]
    },
    {
      "cell_type": "markdown",
      "metadata": {
        "id": "Zkm38AZvYJfY"
      },
      "source": [
        "#### 1.4.3 - ASH module after layer1.1.bn1, layer1.1.conv2, layer1.1.bn2, and layer3.1.conv2"
      ]
    },
    {
      "cell_type": "markdown",
      "metadata": {
        "id": "q1YZysPYYJfY"
      },
      "source": [
        "##### 1.4.3.1 - Cartoon"
      ]
    },
    {
      "cell_type": "code",
      "execution_count": null,
      "metadata": {
        "vscode": {
          "languageId": "python"
        },
        "id": "Hw8Mfw1IYJfY"
      },
      "outputs": [],
      "source": [
        "warnings.filterwarnings('ignore', category=UserWarning)\n",
        "\n",
        "# Parse arguments\n",
        "conf = configurations['1.4.3.1']\n",
        "\n",
        "#args = parse_arguments()\n",
        "args = argparse.Namespace(**conf)\n",
        "print(args)\n",
        "CONFIG.update(vars(args))\n",
        "\n",
        "# Setup output directory\n",
        "CONFIG.save_dir = os.path.join('record', CONFIG.experiment_name)\n",
        "os.makedirs(CONFIG.save_dir, exist_ok=True)\n",
        "\n",
        "# Setup logging\n",
        "logging.basicConfig(\n",
        "    filename=os.path.join(CONFIG.save_dir, 'log.txt'),\n",
        "    format='%(message)s',\n",
        "    level=logging.INFO,\n",
        "    filemode='a'\n",
        ")\n",
        "\n",
        "# Set experiment's device & deterministic behavior\n",
        "if CONFIG.cpu:\n",
        "    CONFIG.device = 'cpu'\n",
        "else:\n",
        "    CONFIG.device = 'cuda' if torch.cuda.is_available() else 'cpu'\n",
        "\n",
        "torch.manual_seed(CONFIG.seed)\n",
        "random.seed(CONFIG.seed)\n",
        "np.random.seed(CONFIG.seed)\n",
        "torch.backends.cudnn.benchmark = True\n",
        "torch.use_deterministic_algorithms(mode=True, warn_only=True)\n",
        "\n",
        "main()"
      ]
    },
    {
      "cell_type": "markdown",
      "metadata": {
        "id": "KauunrgrYJfY"
      },
      "source": [
        "##### 1.4.3.2 - Sketch"
      ]
    },
    {
      "cell_type": "code",
      "execution_count": null,
      "metadata": {
        "vscode": {
          "languageId": "python"
        },
        "id": "vCqDMrLLYJfY"
      },
      "outputs": [],
      "source": [
        "warnings.filterwarnings('ignore', category=UserWarning)\n",
        "\n",
        "# Parse arguments\n",
        "conf = configurations['1.4.3.2']\n",
        "\n",
        "#args = parse_arguments()\n",
        "args = argparse.Namespace(**conf)\n",
        "print(args)\n",
        "CONFIG.update(vars(args))\n",
        "\n",
        "# Setup output directory\n",
        "CONFIG.save_dir = os.path.join('record', CONFIG.experiment_name)\n",
        "os.makedirs(CONFIG.save_dir, exist_ok=True)\n",
        "\n",
        "# Setup logging\n",
        "logging.basicConfig(\n",
        "    filename=os.path.join(CONFIG.save_dir, 'log.txt'),\n",
        "    format='%(message)s',\n",
        "    level=logging.INFO,\n",
        "    filemode='a'\n",
        ")\n",
        "\n",
        "# Set experiment's device & deterministic behavior\n",
        "if CONFIG.cpu:\n",
        "    CONFIG.device = 'cpu'\n",
        "else:\n",
        "    CONFIG.device = 'cuda' if torch.cuda.is_available() else 'cpu'\n",
        "\n",
        "torch.manual_seed(CONFIG.seed)\n",
        "random.seed(CONFIG.seed)\n",
        "np.random.seed(CONFIG.seed)\n",
        "torch.backends.cudnn.benchmark = True\n",
        "torch.use_deterministic_algorithms(mode=True, warn_only=True)\n",
        "\n",
        "main()"
      ]
    },
    {
      "cell_type": "markdown",
      "metadata": {
        "id": "AxjT25E8YJfY"
      },
      "source": [
        "##### 1.4.3.3 - Photo"
      ]
    },
    {
      "cell_type": "code",
      "execution_count": null,
      "metadata": {
        "vscode": {
          "languageId": "python"
        },
        "id": "uXWe6q3JYJfZ"
      },
      "outputs": [],
      "source": [
        "warnings.filterwarnings('ignore', category=UserWarning)\n",
        "\n",
        "# Parse arguments\n",
        "conf = configurations['1.4.3.3']\n",
        "\n",
        "#args = parse_arguments()\n",
        "args = argparse.Namespace(**conf)\n",
        "print(args)\n",
        "CONFIG.update(vars(args))\n",
        "\n",
        "# Setup output directory\n",
        "CONFIG.save_dir = os.path.join('record', CONFIG.experiment_name)\n",
        "os.makedirs(CONFIG.save_dir, exist_ok=True)\n",
        "\n",
        "# Setup logging\n",
        "logging.basicConfig(\n",
        "    filename=os.path.join(CONFIG.save_dir, 'log.txt'),\n",
        "    format='%(message)s',\n",
        "    level=logging.INFO,\n",
        "    filemode='a'\n",
        ")\n",
        "\n",
        "# Set experiment's device & deterministic behavior\n",
        "if CONFIG.cpu:\n",
        "    CONFIG.device = 'cpu'\n",
        "else:\n",
        "    CONFIG.device = 'cuda' if torch.cuda.is_available() else 'cpu'\n",
        "\n",
        "torch.manual_seed(CONFIG.seed)\n",
        "random.seed(CONFIG.seed)\n",
        "np.random.seed(CONFIG.seed)\n",
        "torch.backends.cudnn.benchmark = True\n",
        "torch.use_deterministic_algorithms(mode=True, warn_only=True)\n",
        "\n",
        "main()"
      ]
    },
    {
      "cell_type": "markdown",
      "metadata": {
        "id": "U3NS_hYNYJfZ"
      },
      "source": [
        "#### 1.4.4 - ASH module after layer1.1.bn1, layer1.1.conv2, layer2.1.conv2, and layer3.0.conv1"
      ]
    },
    {
      "cell_type": "markdown",
      "metadata": {
        "id": "IrDS801KYJfZ"
      },
      "source": [
        "##### 1.4.4.1 - Cartoon"
      ]
    },
    {
      "cell_type": "code",
      "execution_count": null,
      "metadata": {
        "vscode": {
          "languageId": "python"
        },
        "id": "ayJF5C-oYJfZ"
      },
      "outputs": [],
      "source": [
        "warnings.filterwarnings('ignore', category=UserWarning)\n",
        "\n",
        "# Parse arguments\n",
        "conf = configurations['1.4.4.1']\n",
        "\n",
        "#args = parse_arguments()\n",
        "args = argparse.Namespace(**conf)\n",
        "print(args)\n",
        "CONFIG.update(vars(args))\n",
        "\n",
        "# Setup output directory\n",
        "CONFIG.save_dir = os.path.join('record', CONFIG.experiment_name)\n",
        "os.makedirs(CONFIG.save_dir, exist_ok=True)\n",
        "\n",
        "# Setup logging\n",
        "logging.basicConfig(\n",
        "    filename=os.path.join(CONFIG.save_dir, 'log.txt'),\n",
        "    format='%(message)s',\n",
        "    level=logging.INFO,\n",
        "    filemode='a'\n",
        ")\n",
        "\n",
        "# Set experiment's device & deterministic behavior\n",
        "if CONFIG.cpu:\n",
        "    CONFIG.device = 'cpu'\n",
        "else:\n",
        "    CONFIG.device = 'cuda' if torch.cuda.is_available() else 'cpu'\n",
        "\n",
        "torch.manual_seed(CONFIG.seed)\n",
        "random.seed(CONFIG.seed)\n",
        "np.random.seed(CONFIG.seed)\n",
        "torch.backends.cudnn.benchmark = True\n",
        "torch.use_deterministic_algorithms(mode=True, warn_only=True)\n",
        "\n",
        "main()"
      ]
    },
    {
      "cell_type": "markdown",
      "metadata": {
        "id": "z3m-1hajYJfZ"
      },
      "source": [
        "##### 1.4.4.2 - Sketch"
      ]
    },
    {
      "cell_type": "code",
      "execution_count": null,
      "metadata": {
        "vscode": {
          "languageId": "python"
        },
        "id": "BNJyoHxXYJfZ"
      },
      "outputs": [],
      "source": [
        "warnings.filterwarnings('ignore', category=UserWarning)\n",
        "\n",
        "# Parse arguments\n",
        "conf = configurations['1.4.4.2']\n",
        "\n",
        "#args = parse_arguments()\n",
        "args = argparse.Namespace(**conf)\n",
        "print(args)\n",
        "CONFIG.update(vars(args))\n",
        "\n",
        "# Setup output directory\n",
        "CONFIG.save_dir = os.path.join('record', CONFIG.experiment_name)\n",
        "os.makedirs(CONFIG.save_dir, exist_ok=True)\n",
        "\n",
        "# Setup logging\n",
        "logging.basicConfig(\n",
        "    filename=os.path.join(CONFIG.save_dir, 'log.txt'),\n",
        "    format='%(message)s',\n",
        "    level=logging.INFO,\n",
        "    filemode='a'\n",
        ")\n",
        "\n",
        "# Set experiment's device & deterministic behavior\n",
        "if CONFIG.cpu:\n",
        "    CONFIG.device = 'cpu'\n",
        "else:\n",
        "    CONFIG.device = 'cuda' if torch.cuda.is_available() else 'cpu'\n",
        "\n",
        "torch.manual_seed(CONFIG.seed)\n",
        "random.seed(CONFIG.seed)\n",
        "np.random.seed(CONFIG.seed)\n",
        "torch.backends.cudnn.benchmark = True\n",
        "torch.use_deterministic_algorithms(mode=True, warn_only=True)\n",
        "\n",
        "main()"
      ]
    },
    {
      "cell_type": "markdown",
      "metadata": {
        "id": "vNYW9yxcYJfZ"
      },
      "source": [
        "##### 1.4.4.3 - Photo"
      ]
    },
    {
      "cell_type": "code",
      "execution_count": null,
      "metadata": {
        "vscode": {
          "languageId": "python"
        },
        "id": "TvZf8f4LYJfZ"
      },
      "outputs": [],
      "source": [
        "warnings.filterwarnings('ignore', category=UserWarning)\n",
        "\n",
        "# Parse arguments\n",
        "conf = configurations['1.4.4.3']\n",
        "\n",
        "#args = parse_arguments()\n",
        "args = argparse.Namespace(**conf)\n",
        "print(args)\n",
        "CONFIG.update(vars(args))\n",
        "\n",
        "# Setup output directory\n",
        "CONFIG.save_dir = os.path.join('record', CONFIG.experiment_name)\n",
        "os.makedirs(CONFIG.save_dir, exist_ok=True)\n",
        "\n",
        "# Setup logging\n",
        "logging.basicConfig(\n",
        "    filename=os.path.join(CONFIG.save_dir, 'log.txt'),\n",
        "    format='%(message)s',\n",
        "    level=logging.INFO,\n",
        "    filemode='a'\n",
        ")\n",
        "\n",
        "# Set experiment's device & deterministic behavior\n",
        "if CONFIG.cpu:\n",
        "    CONFIG.device = 'cpu'\n",
        "else:\n",
        "    CONFIG.device = 'cuda' if torch.cuda.is_available() else 'cpu'\n",
        "\n",
        "torch.manual_seed(CONFIG.seed)\n",
        "random.seed(CONFIG.seed)\n",
        "np.random.seed(CONFIG.seed)\n",
        "torch.backends.cudnn.benchmark = True\n",
        "torch.use_deterministic_algorithms(mode=True, warn_only=True)\n",
        "\n",
        "main()"
      ]
    },
    {
      "cell_type": "markdown",
      "metadata": {
        "id": "374HfME7YJfa"
      },
      "source": [
        "#### 1.4.5 - ASH module after layer1.1.bn1, layer1.1.conv2, layer2.1.conv2, and layer3.1.conv2"
      ]
    },
    {
      "cell_type": "markdown",
      "metadata": {
        "id": "j_zxmkqDYJfa"
      },
      "source": [
        "##### 1.4.5.1 - Cartoon"
      ]
    },
    {
      "cell_type": "code",
      "execution_count": null,
      "metadata": {
        "vscode": {
          "languageId": "python"
        },
        "id": "ry-G8IYaYJfa"
      },
      "outputs": [],
      "source": [
        "warnings.filterwarnings('ignore', category=UserWarning)\n",
        "\n",
        "# Parse arguments\n",
        "conf = configurations['1.4.5.1']\n",
        "\n",
        "#args = parse_arguments()\n",
        "args = argparse.Namespace(**conf)\n",
        "print(args)\n",
        "CONFIG.update(vars(args))\n",
        "\n",
        "# Setup output directory\n",
        "CONFIG.save_dir = os.path.join('record', CONFIG.experiment_name)\n",
        "os.makedirs(CONFIG.save_dir, exist_ok=True)\n",
        "\n",
        "# Setup logging\n",
        "logging.basicConfig(\n",
        "    filename=os.path.join(CONFIG.save_dir, 'log.txt'),\n",
        "    format='%(message)s',\n",
        "    level=logging.INFO,\n",
        "    filemode='a'\n",
        ")\n",
        "\n",
        "# Set experiment's device & deterministic behavior\n",
        "if CONFIG.cpu:\n",
        "    CONFIG.device = 'cpu'\n",
        "else:\n",
        "    CONFIG.device = 'cuda' if torch.cuda.is_available() else 'cpu'\n",
        "\n",
        "torch.manual_seed(CONFIG.seed)\n",
        "random.seed(CONFIG.seed)\n",
        "np.random.seed(CONFIG.seed)\n",
        "torch.backends.cudnn.benchmark = True\n",
        "torch.use_deterministic_algorithms(mode=True, warn_only=True)\n",
        "\n",
        "main()"
      ]
    },
    {
      "cell_type": "markdown",
      "metadata": {
        "id": "gyz0ksqbYJfa"
      },
      "source": [
        "##### 1.4.5.2 - Sketch"
      ]
    },
    {
      "cell_type": "code",
      "execution_count": null,
      "metadata": {
        "vscode": {
          "languageId": "python"
        },
        "id": "4lBzaL9VYJfa"
      },
      "outputs": [],
      "source": [
        "warnings.filterwarnings('ignore', category=UserWarning)\n",
        "\n",
        "# Parse arguments\n",
        "conf = configurations['1.4.5.2']\n",
        "\n",
        "#args = parse_arguments()\n",
        "args = argparse.Namespace(**conf)\n",
        "print(args)\n",
        "CONFIG.update(vars(args))\n",
        "\n",
        "# Setup output directory\n",
        "CONFIG.save_dir = os.path.join('record', CONFIG.experiment_name)\n",
        "os.makedirs(CONFIG.save_dir, exist_ok=True)\n",
        "\n",
        "# Setup logging\n",
        "logging.basicConfig(\n",
        "    filename=os.path.join(CONFIG.save_dir, 'log.txt'),\n",
        "    format='%(message)s',\n",
        "    level=logging.INFO,\n",
        "    filemode='a'\n",
        ")\n",
        "\n",
        "# Set experiment's device & deterministic behavior\n",
        "if CONFIG.cpu:\n",
        "    CONFIG.device = 'cpu'\n",
        "else:\n",
        "    CONFIG.device = 'cuda' if torch.cuda.is_available() else 'cpu'\n",
        "\n",
        "torch.manual_seed(CONFIG.seed)\n",
        "random.seed(CONFIG.seed)\n",
        "np.random.seed(CONFIG.seed)\n",
        "torch.backends.cudnn.benchmark = True\n",
        "torch.use_deterministic_algorithms(mode=True, warn_only=True)\n",
        "\n",
        "main()"
      ]
    },
    {
      "cell_type": "markdown",
      "metadata": {
        "id": "1LCArS9WYJfa"
      },
      "source": [
        "##### 1.4.5.3 - Photo"
      ]
    },
    {
      "cell_type": "code",
      "execution_count": null,
      "metadata": {
        "vscode": {
          "languageId": "python"
        },
        "id": "nfh64W9lYJfb"
      },
      "outputs": [],
      "source": [
        "warnings.filterwarnings('ignore', category=UserWarning)\n",
        "\n",
        "# Parse arguments\n",
        "conf = configurations['1.4.5.3']\n",
        "\n",
        "#args = parse_arguments()\n",
        "args = argparse.Namespace(**conf)\n",
        "print(args)\n",
        "CONFIG.update(vars(args))\n",
        "\n",
        "# Setup output directory\n",
        "CONFIG.save_dir = os.path.join('record', CONFIG.experiment_name)\n",
        "os.makedirs(CONFIG.save_dir, exist_ok=True)\n",
        "\n",
        "# Setup logging\n",
        "logging.basicConfig(\n",
        "    filename=os.path.join(CONFIG.save_dir, 'log.txt'),\n",
        "    format='%(message)s',\n",
        "    level=logging.INFO,\n",
        "    filemode='a'\n",
        ")\n",
        "\n",
        "# Set experiment's device & deterministic behavior\n",
        "if CONFIG.cpu:\n",
        "    CONFIG.device = 'cpu'\n",
        "else:\n",
        "    CONFIG.device = 'cuda' if torch.cuda.is_available() else 'cpu'\n",
        "\n",
        "torch.manual_seed(CONFIG.seed)\n",
        "random.seed(CONFIG.seed)\n",
        "np.random.seed(CONFIG.seed)\n",
        "torch.backends.cudnn.benchmark = True\n",
        "torch.use_deterministic_algorithms(mode=True, warn_only=True)\n",
        "\n",
        "main()"
      ]
    },
    {
      "cell_type": "markdown",
      "metadata": {
        "id": "uQl_Fe4JYJfb"
      },
      "source": [
        "#### 1.4.6 - ASH module after layer1.1.bn1, layer1.1.conv2, layer3.0.conv1, and layer3.1.conv2"
      ]
    },
    {
      "cell_type": "markdown",
      "metadata": {
        "id": "nc_it5srYJfb"
      },
      "source": [
        "##### 1.4.6.1 - Cartoon"
      ]
    },
    {
      "cell_type": "code",
      "execution_count": null,
      "metadata": {
        "vscode": {
          "languageId": "python"
        },
        "id": "MuNp_Z8IYJfb"
      },
      "outputs": [],
      "source": [
        "warnings.filterwarnings('ignore', category=UserWarning)\n",
        "\n",
        "# Parse arguments\n",
        "conf = configurations['1.4.6.1']\n",
        "\n",
        "#args = parse_arguments()\n",
        "args = argparse.Namespace(**conf)\n",
        "print(args)\n",
        "CONFIG.update(vars(args))\n",
        "\n",
        "# Setup output directory\n",
        "CONFIG.save_dir = os.path.join('record', CONFIG.experiment_name)\n",
        "os.makedirs(CONFIG.save_dir, exist_ok=True)\n",
        "\n",
        "# Setup logging\n",
        "logging.basicConfig(\n",
        "    filename=os.path.join(CONFIG.save_dir, 'log.txt'),\n",
        "    format='%(message)s',\n",
        "    level=logging.INFO,\n",
        "    filemode='a'\n",
        ")\n",
        "\n",
        "# Set experiment's device & deterministic behavior\n",
        "if CONFIG.cpu:\n",
        "    CONFIG.device = 'cpu'\n",
        "else:\n",
        "    CONFIG.device = 'cuda' if torch.cuda.is_available() else 'cpu'\n",
        "\n",
        "torch.manual_seed(CONFIG.seed)\n",
        "random.seed(CONFIG.seed)\n",
        "np.random.seed(CONFIG.seed)\n",
        "torch.backends.cudnn.benchmark = True\n",
        "torch.use_deterministic_algorithms(mode=True, warn_only=True)\n",
        "\n",
        "main()"
      ]
    },
    {
      "cell_type": "markdown",
      "metadata": {
        "id": "RvjSrEX4YJfb"
      },
      "source": [
        "##### 1.4.6.2 - Sketch"
      ]
    },
    {
      "cell_type": "code",
      "execution_count": null,
      "metadata": {
        "vscode": {
          "languageId": "python"
        },
        "id": "qwtHsE5nYJfb"
      },
      "outputs": [],
      "source": [
        "warnings.filterwarnings('ignore', category=UserWarning)\n",
        "\n",
        "# Parse arguments\n",
        "conf = configurations['1.4.6.2']\n",
        "\n",
        "#args = parse_arguments()\n",
        "args = argparse.Namespace(**conf)\n",
        "print(args)\n",
        "CONFIG.update(vars(args))\n",
        "\n",
        "# Setup output directory\n",
        "CONFIG.save_dir = os.path.join('record', CONFIG.experiment_name)\n",
        "os.makedirs(CONFIG.save_dir, exist_ok=True)\n",
        "\n",
        "# Setup logging\n",
        "logging.basicConfig(\n",
        "    filename=os.path.join(CONFIG.save_dir, 'log.txt'),\n",
        "    format='%(message)s',\n",
        "    level=logging.INFO,\n",
        "    filemode='a'\n",
        ")\n",
        "\n",
        "# Set experiment's device & deterministic behavior\n",
        "if CONFIG.cpu:\n",
        "    CONFIG.device = 'cpu'\n",
        "else:\n",
        "    CONFIG.device = 'cuda' if torch.cuda.is_available() else 'cpu'\n",
        "\n",
        "torch.manual_seed(CONFIG.seed)\n",
        "random.seed(CONFIG.seed)\n",
        "np.random.seed(CONFIG.seed)\n",
        "torch.backends.cudnn.benchmark = True\n",
        "torch.use_deterministic_algorithms(mode=True, warn_only=True)\n",
        "\n",
        "main()"
      ]
    },
    {
      "cell_type": "markdown",
      "metadata": {
        "id": "hWLkOh_NYJfb"
      },
      "source": [
        "##### 1.4.6.3 - Photo"
      ]
    },
    {
      "cell_type": "code",
      "execution_count": null,
      "metadata": {
        "vscode": {
          "languageId": "python"
        },
        "id": "dVw6QS5SYJfb"
      },
      "outputs": [],
      "source": [
        "warnings.filterwarnings('ignore', category=UserWarning)\n",
        "\n",
        "# Parse arguments\n",
        "conf = configurations['1.4.6.3']\n",
        "\n",
        "#args = parse_arguments()\n",
        "args = argparse.Namespace(**conf)\n",
        "print(args)\n",
        "CONFIG.update(vars(args))\n",
        "\n",
        "# Setup output directory\n",
        "CONFIG.save_dir = os.path.join('record', CONFIG.experiment_name)\n",
        "os.makedirs(CONFIG.save_dir, exist_ok=True)\n",
        "\n",
        "# Setup logging\n",
        "logging.basicConfig(\n",
        "    filename=os.path.join(CONFIG.save_dir, 'log.txt'),\n",
        "    format='%(message)s',\n",
        "    level=logging.INFO,\n",
        "    filemode='a'\n",
        ")\n",
        "\n",
        "# Set experiment's device & deterministic behavior\n",
        "if CONFIG.cpu:\n",
        "    CONFIG.device = 'cpu'\n",
        "else:\n",
        "    CONFIG.device = 'cuda' if torch.cuda.is_available() else 'cpu'\n",
        "\n",
        "torch.manual_seed(CONFIG.seed)\n",
        "random.seed(CONFIG.seed)\n",
        "np.random.seed(CONFIG.seed)\n",
        "torch.backends.cudnn.benchmark = True\n",
        "torch.use_deterministic_algorithms(mode=True, warn_only=True)\n",
        "\n",
        "main()"
      ]
    },
    {
      "cell_type": "markdown",
      "metadata": {
        "id": "OJBsUv4fYJfc"
      },
      "source": [
        "#### 1.4.7 - ASH module after layer1.1.bn1, layer1.1.bn2, layer2.1.conv2, and layer3.0.conv1"
      ]
    },
    {
      "cell_type": "markdown",
      "metadata": {
        "id": "abKg7O61YJfc"
      },
      "source": [
        "##### 1.4.7.1 - Cartoon"
      ]
    },
    {
      "cell_type": "code",
      "execution_count": null,
      "metadata": {
        "vscode": {
          "languageId": "python"
        },
        "id": "Z_4oo9QGYJfc"
      },
      "outputs": [],
      "source": [
        "warnings.filterwarnings('ignore', category=UserWarning)\n",
        "\n",
        "# Parse arguments\n",
        "conf = configurations['1.4.7.1']\n",
        "\n",
        "#args = parse_arguments()\n",
        "args = argparse.Namespace(**conf)\n",
        "print(args)\n",
        "CONFIG.update(vars(args))\n",
        "\n",
        "# Setup output directory\n",
        "CONFIG.save_dir = os.path.join('record', CONFIG.experiment_name)\n",
        "os.makedirs(CONFIG.save_dir, exist_ok=True)\n",
        "\n",
        "# Setup logging\n",
        "logging.basicConfig(\n",
        "    filename=os.path.join(CONFIG.save_dir, 'log.txt'),\n",
        "    format='%(message)s',\n",
        "    level=logging.INFO,\n",
        "    filemode='a'\n",
        ")\n",
        "\n",
        "# Set experiment's device & deterministic behavior\n",
        "if CONFIG.cpu:\n",
        "    CONFIG.device = 'cpu'\n",
        "else:\n",
        "    CONFIG.device = 'cuda' if torch.cuda.is_available() else 'cpu'\n",
        "\n",
        "torch.manual_seed(CONFIG.seed)\n",
        "random.seed(CONFIG.seed)\n",
        "np.random.seed(CONFIG.seed)\n",
        "torch.backends.cudnn.benchmark = True\n",
        "torch.use_deterministic_algorithms(mode=True, warn_only=True)\n",
        "\n",
        "main()"
      ]
    },
    {
      "cell_type": "markdown",
      "metadata": {
        "id": "RVQocaWSYJfc"
      },
      "source": [
        "##### 1.4.7.2 - Sketch"
      ]
    },
    {
      "cell_type": "code",
      "execution_count": null,
      "metadata": {
        "vscode": {
          "languageId": "python"
        },
        "id": "A-LovCX9YJfc"
      },
      "outputs": [],
      "source": [
        "warnings.filterwarnings('ignore', category=UserWarning)\n",
        "\n",
        "# Parse arguments\n",
        "conf = configurations['1.4.7.2']\n",
        "\n",
        "#args = parse_arguments()\n",
        "args = argparse.Namespace(**conf)\n",
        "print(args)\n",
        "CONFIG.update(vars(args))\n",
        "\n",
        "# Setup output directory\n",
        "CONFIG.save_dir = os.path.join('record', CONFIG.experiment_name)\n",
        "os.makedirs(CONFIG.save_dir, exist_ok=True)\n",
        "\n",
        "# Setup logging\n",
        "logging.basicConfig(\n",
        "    filename=os.path.join(CONFIG.save_dir, 'log.txt'),\n",
        "    format='%(message)s',\n",
        "    level=logging.INFO,\n",
        "    filemode='a'\n",
        ")\n",
        "\n",
        "# Set experiment's device & deterministic behavior\n",
        "if CONFIG.cpu:\n",
        "    CONFIG.device = 'cpu'\n",
        "else:\n",
        "    CONFIG.device = 'cuda' if torch.cuda.is_available() else 'cpu'\n",
        "\n",
        "torch.manual_seed(CONFIG.seed)\n",
        "random.seed(CONFIG.seed)\n",
        "np.random.seed(CONFIG.seed)\n",
        "torch.backends.cudnn.benchmark = True\n",
        "torch.use_deterministic_algorithms(mode=True, warn_only=True)\n",
        "\n",
        "main()"
      ]
    },
    {
      "cell_type": "markdown",
      "metadata": {
        "id": "wxL2Ih8ZYJfc"
      },
      "source": [
        "##### 1.4.7.3 - Photo"
      ]
    },
    {
      "cell_type": "code",
      "execution_count": null,
      "metadata": {
        "vscode": {
          "languageId": "python"
        },
        "id": "vSky2IUwYJfc"
      },
      "outputs": [],
      "source": [
        "warnings.filterwarnings('ignore', category=UserWarning)\n",
        "\n",
        "# Parse arguments\n",
        "conf = configurations['1.4.7.3']\n",
        "\n",
        "#args = parse_arguments()\n",
        "args = argparse.Namespace(**conf)\n",
        "print(args)\n",
        "CONFIG.update(vars(args))\n",
        "\n",
        "# Setup output directory\n",
        "CONFIG.save_dir = os.path.join('record', CONFIG.experiment_name)\n",
        "os.makedirs(CONFIG.save_dir, exist_ok=True)\n",
        "\n",
        "# Setup logging\n",
        "logging.basicConfig(\n",
        "    filename=os.path.join(CONFIG.save_dir, 'log.txt'),\n",
        "    format='%(message)s',\n",
        "    level=logging.INFO,\n",
        "    filemode='a'\n",
        ")\n",
        "\n",
        "# Set experiment's device & deterministic behavior\n",
        "if CONFIG.cpu:\n",
        "    CONFIG.device = 'cpu'\n",
        "else:\n",
        "    CONFIG.device = 'cuda' if torch.cuda.is_available() else 'cpu'\n",
        "\n",
        "torch.manual_seed(CONFIG.seed)\n",
        "random.seed(CONFIG.seed)\n",
        "np.random.seed(CONFIG.seed)\n",
        "torch.backends.cudnn.benchmark = True\n",
        "torch.use_deterministic_algorithms(mode=True, warn_only=True)\n",
        "\n",
        "main()"
      ]
    },
    {
      "cell_type": "markdown",
      "metadata": {
        "id": "h8HEuCYxYJfd"
      },
      "source": [
        "#### 1.4.8 - ASH module after layer1.1.bn1, layer1.1.bn2, layer2.1.conv2, and layer3.1.conv2"
      ]
    },
    {
      "cell_type": "markdown",
      "metadata": {
        "id": "7gRDPcxFYJfd"
      },
      "source": [
        "##### 1.4.8.1 - Cartoon"
      ]
    },
    {
      "cell_type": "code",
      "execution_count": null,
      "metadata": {
        "vscode": {
          "languageId": "python"
        },
        "id": "sR6y0_DDYJfh"
      },
      "outputs": [],
      "source": [
        "warnings.filterwarnings('ignore', category=UserWarning)\n",
        "\n",
        "# Parse arguments\n",
        "conf = configurations['1.4.8.1']\n",
        "\n",
        "#args = parse_arguments()\n",
        "args = argparse.Namespace(**conf)\n",
        "print(args)\n",
        "CONFIG.update(vars(args))\n",
        "\n",
        "# Setup output directory\n",
        "CONFIG.save_dir = os.path.join('record', CONFIG.experiment_name)\n",
        "os.makedirs(CONFIG.save_dir, exist_ok=True)\n",
        "\n",
        "# Setup logging\n",
        "logging.basicConfig(\n",
        "    filename=os.path.join(CONFIG.save_dir, 'log.txt'),\n",
        "    format='%(message)s',\n",
        "    level=logging.INFO,\n",
        "    filemode='a'\n",
        ")\n",
        "\n",
        "# Set experiment's device & deterministic behavior\n",
        "if CONFIG.cpu:\n",
        "    CONFIG.device = 'cpu'\n",
        "else:\n",
        "    CONFIG.device = 'cuda' if torch.cuda.is_available() else 'cpu'\n",
        "\n",
        "torch.manual_seed(CONFIG.seed)\n",
        "random.seed(CONFIG.seed)\n",
        "np.random.seed(CONFIG.seed)\n",
        "torch.backends.cudnn.benchmark = True\n",
        "torch.use_deterministic_algorithms(mode=True, warn_only=True)\n",
        "\n",
        "main()"
      ]
    },
    {
      "cell_type": "markdown",
      "metadata": {
        "id": "bG9s1hhvYJfh"
      },
      "source": [
        "##### 1.4.8.2 - Sketch"
      ]
    },
    {
      "cell_type": "code",
      "execution_count": null,
      "metadata": {
        "vscode": {
          "languageId": "python"
        },
        "id": "hc7PzqKSYJfh"
      },
      "outputs": [],
      "source": [
        "warnings.filterwarnings('ignore', category=UserWarning)\n",
        "\n",
        "# Parse arguments\n",
        "conf = configurations['1.4.8.2']\n",
        "\n",
        "#args = parse_arguments()\n",
        "args = argparse.Namespace(**conf)\n",
        "print(args)\n",
        "CONFIG.update(vars(args))\n",
        "\n",
        "# Setup output directory\n",
        "CONFIG.save_dir = os.path.join('record', CONFIG.experiment_name)\n",
        "os.makedirs(CONFIG.save_dir, exist_ok=True)\n",
        "\n",
        "# Setup logging\n",
        "logging.basicConfig(\n",
        "    filename=os.path.join(CONFIG.save_dir, 'log.txt'),\n",
        "    format='%(message)s',\n",
        "    level=logging.INFO,\n",
        "    filemode='a'\n",
        ")\n",
        "\n",
        "# Set experiment's device & deterministic behavior\n",
        "if CONFIG.cpu:\n",
        "    CONFIG.device = 'cpu'\n",
        "else:\n",
        "    CONFIG.device = 'cuda' if torch.cuda.is_available() else 'cpu'\n",
        "\n",
        "torch.manual_seed(CONFIG.seed)\n",
        "random.seed(CONFIG.seed)\n",
        "np.random.seed(CONFIG.seed)\n",
        "torch.backends.cudnn.benchmark = True\n",
        "torch.use_deterministic_algorithms(mode=True, warn_only=True)\n",
        "\n",
        "main()"
      ]
    },
    {
      "cell_type": "markdown",
      "metadata": {
        "id": "mFMmxBteYJfh"
      },
      "source": [
        "##### 1.4.8.3 - Photo"
      ]
    },
    {
      "cell_type": "code",
      "execution_count": null,
      "metadata": {
        "vscode": {
          "languageId": "python"
        },
        "id": "XEDMpp3DYJfi"
      },
      "outputs": [],
      "source": [
        "warnings.filterwarnings('ignore', category=UserWarning)\n",
        "\n",
        "# Parse arguments\n",
        "conf = configurations['1.4.8.3']\n",
        "\n",
        "#args = parse_arguments()\n",
        "args = argparse.Namespace(**conf)\n",
        "print(args)\n",
        "CONFIG.update(vars(args))\n",
        "\n",
        "# Setup output directory\n",
        "CONFIG.save_dir = os.path.join('record', CONFIG.experiment_name)\n",
        "os.makedirs(CONFIG.save_dir, exist_ok=True)\n",
        "\n",
        "# Setup logging\n",
        "logging.basicConfig(\n",
        "    filename=os.path.join(CONFIG.save_dir, 'log.txt'),\n",
        "    format='%(message)s',\n",
        "    level=logging.INFO,\n",
        "    filemode='a'\n",
        ")\n",
        "\n",
        "# Set experiment's device & deterministic behavior\n",
        "if CONFIG.cpu:\n",
        "    CONFIG.device = 'cpu'\n",
        "else:\n",
        "    CONFIG.device = 'cuda' if torch.cuda.is_available() else 'cpu'\n",
        "\n",
        "torch.manual_seed(CONFIG.seed)\n",
        "random.seed(CONFIG.seed)\n",
        "np.random.seed(CONFIG.seed)\n",
        "torch.backends.cudnn.benchmark = True\n",
        "torch.use_deterministic_algorithms(mode=True, warn_only=True)\n",
        "\n",
        "main()"
      ]
    },
    {
      "cell_type": "markdown",
      "metadata": {
        "id": "0W9HfCCdYJfi"
      },
      "source": [
        "### 1.5 - Five ASH modules"
      ]
    },
    {
      "cell_type": "markdown",
      "metadata": {
        "id": "Yz3he9AvYJfi"
      },
      "source": [
        "#### 1.5.1 - ASH module after layer1.1.bn1, layer1.1.conv2, layer1.1.bn2, layer2.1.conv2, and layer3.0.conv1"
      ]
    },
    {
      "cell_type": "markdown",
      "metadata": {
        "id": "tgZmofuFYJfi"
      },
      "source": [
        "##### 1.5.1.1 - Cartoon"
      ]
    },
    {
      "cell_type": "code",
      "execution_count": null,
      "metadata": {
        "vscode": {
          "languageId": "python"
        },
        "id": "zf97l0L3YJfi"
      },
      "outputs": [],
      "source": [
        "warnings.filterwarnings('ignore', category=UserWarning)\n",
        "\n",
        "# Parse arguments\n",
        "conf = configurations['1.5.1.1']\n",
        "\n",
        "#args = parse_arguments()\n",
        "args = argparse.Namespace(**conf)\n",
        "print(args)\n",
        "CONFIG.update(vars(args))\n",
        "\n",
        "# Setup output directory\n",
        "CONFIG.save_dir = os.path.join('record', CONFIG.experiment_name)\n",
        "os.makedirs(CONFIG.save_dir, exist_ok=True)\n",
        "\n",
        "# Setup logging\n",
        "logging.basicConfig(\n",
        "    filename=os.path.join(CONFIG.save_dir, 'log.txt'),\n",
        "    format='%(message)s',\n",
        "    level=logging.INFO,\n",
        "    filemode='a'\n",
        ")\n",
        "\n",
        "# Set experiment's device & deterministic behavior\n",
        "if CONFIG.cpu:\n",
        "    CONFIG.device = 'cpu'\n",
        "else:\n",
        "    CONFIG.device = 'cuda' if torch.cuda.is_available() else 'cpu'\n",
        "\n",
        "torch.manual_seed(CONFIG.seed)\n",
        "random.seed(CONFIG.seed)\n",
        "np.random.seed(CONFIG.seed)\n",
        "torch.backends.cudnn.benchmark = True\n",
        "torch.use_deterministic_algorithms(mode=True, warn_only=True)\n",
        "\n",
        "main()"
      ]
    },
    {
      "cell_type": "markdown",
      "metadata": {
        "id": "cjObn0Z5YJfj"
      },
      "source": [
        "##### 1.5.1.2 - Sketch"
      ]
    },
    {
      "cell_type": "code",
      "execution_count": null,
      "metadata": {
        "vscode": {
          "languageId": "python"
        },
        "id": "pUPdDSJIYJfj"
      },
      "outputs": [],
      "source": [
        "warnings.filterwarnings('ignore', category=UserWarning)\n",
        "\n",
        "# Parse arguments\n",
        "conf = configurations['1.5.1.2']\n",
        "\n",
        "#args = parse_arguments()\n",
        "args = argparse.Namespace(**conf)\n",
        "print(args)\n",
        "CONFIG.update(vars(args))\n",
        "\n",
        "# Setup output directory\n",
        "CONFIG.save_dir = os.path.join('record', CONFIG.experiment_name)\n",
        "os.makedirs(CONFIG.save_dir, exist_ok=True)\n",
        "\n",
        "# Setup logging\n",
        "logging.basicConfig(\n",
        "    filename=os.path.join(CONFIG.save_dir, 'log.txt'),\n",
        "    format='%(message)s',\n",
        "    level=logging.INFO,\n",
        "    filemode='a'\n",
        ")\n",
        "\n",
        "# Set experiment's device & deterministic behavior\n",
        "if CONFIG.cpu:\n",
        "    CONFIG.device = 'cpu'\n",
        "else:\n",
        "    CONFIG.device = 'cuda' if torch.cuda.is_available() else 'cpu'\n",
        "\n",
        "torch.manual_seed(CONFIG.seed)\n",
        "random.seed(CONFIG.seed)\n",
        "np.random.seed(CONFIG.seed)\n",
        "torch.backends.cudnn.benchmark = True\n",
        "torch.use_deterministic_algorithms(mode=True, warn_only=True)\n",
        "\n",
        "main()"
      ]
    },
    {
      "cell_type": "markdown",
      "metadata": {
        "id": "MbvnIwZFYJfj"
      },
      "source": [
        "##### 1.5.1.3 - Photo"
      ]
    },
    {
      "cell_type": "code",
      "execution_count": null,
      "metadata": {
        "vscode": {
          "languageId": "python"
        },
        "id": "7ZJK0U74YJfj"
      },
      "outputs": [],
      "source": [
        "warnings.filterwarnings('ignore', category=UserWarning)\n",
        "\n",
        "# Parse arguments\n",
        "conf = configurations['1.5.1.3']\n",
        "\n",
        "#args = parse_arguments()\n",
        "args = argparse.Namespace(**conf)\n",
        "print(args)\n",
        "CONFIG.update(vars(args))\n",
        "\n",
        "# Setup output directory\n",
        "CONFIG.save_dir = os.path.join('record', CONFIG.experiment_name)\n",
        "os.makedirs(CONFIG.save_dir, exist_ok=True)\n",
        "\n",
        "# Setup logging\n",
        "logging.basicConfig(\n",
        "    filename=os.path.join(CONFIG.save_dir, 'log.txt'),\n",
        "    format='%(message)s',\n",
        "    level=logging.INFO,\n",
        "    filemode='a'\n",
        ")\n",
        "\n",
        "# Set experiment's device & deterministic behavior\n",
        "if CONFIG.cpu:\n",
        "    CONFIG.device = 'cpu'\n",
        "else:\n",
        "    CONFIG.device = 'cuda' if torch.cuda.is_available() else 'cpu'\n",
        "\n",
        "torch.manual_seed(CONFIG.seed)\n",
        "random.seed(CONFIG.seed)\n",
        "np.random.seed(CONFIG.seed)\n",
        "torch.backends.cudnn.benchmark = True\n",
        "torch.use_deterministic_algorithms(mode=True, warn_only=True)\n",
        "\n",
        "main()"
      ]
    },
    {
      "cell_type": "markdown",
      "metadata": {
        "id": "kXoZmcQXYJfj"
      },
      "source": [
        "#### 1.5.2 - ASH module after layer1.1.bn1, layer1.1.conv2, layer1.1.bn2, layer2.1.conv2, and layer3.1.conv2"
      ]
    },
    {
      "cell_type": "markdown",
      "metadata": {
        "id": "QyDzpdgQYJfj"
      },
      "source": [
        "##### 1.5.2.1 - Cartoon"
      ]
    },
    {
      "cell_type": "code",
      "execution_count": null,
      "metadata": {
        "vscode": {
          "languageId": "python"
        },
        "id": "SYEJQo4PYJfj"
      },
      "outputs": [],
      "source": [
        "warnings.filterwarnings('ignore', category=UserWarning)\n",
        "\n",
        "# Parse arguments\n",
        "conf = configurations['1.5.2.1']\n",
        "\n",
        "#args = parse_arguments()\n",
        "args = argparse.Namespace(**conf)\n",
        "print(args)\n",
        "CONFIG.update(vars(args))\n",
        "\n",
        "# Setup output directory\n",
        "CONFIG.save_dir = os.path.join('record', CONFIG.experiment_name)\n",
        "os.makedirs(CONFIG.save_dir, exist_ok=True)\n",
        "\n",
        "# Setup logging\n",
        "logging.basicConfig(\n",
        "    filename=os.path.join(CONFIG.save_dir, 'log.txt'),\n",
        "    format='%(message)s',\n",
        "    level=logging.INFO,\n",
        "    filemode='a'\n",
        ")\n",
        "\n",
        "# Set experiment's device & deterministic behavior\n",
        "if CONFIG.cpu:\n",
        "    CONFIG.device = 'cpu'\n",
        "else:\n",
        "    CONFIG.device = 'cuda' if torch.cuda.is_available() else 'cpu'\n",
        "\n",
        "torch.manual_seed(CONFIG.seed)\n",
        "random.seed(CONFIG.seed)\n",
        "np.random.seed(CONFIG.seed)\n",
        "torch.backends.cudnn.benchmark = True\n",
        "torch.use_deterministic_algorithms(mode=True, warn_only=True)\n",
        "\n",
        "main()"
      ]
    },
    {
      "cell_type": "markdown",
      "metadata": {
        "id": "V94Fkl1VYJfk"
      },
      "source": [
        "##### 1.5.2.2 - Sketch"
      ]
    },
    {
      "cell_type": "code",
      "execution_count": null,
      "metadata": {
        "vscode": {
          "languageId": "python"
        },
        "id": "t90BzmGXYJfk"
      },
      "outputs": [],
      "source": [
        "warnings.filterwarnings('ignore', category=UserWarning)\n",
        "\n",
        "# Parse arguments\n",
        "conf = configurations['1.5.2.2']\n",
        "\n",
        "#args = parse_arguments()\n",
        "args = argparse.Namespace(**conf)\n",
        "print(args)\n",
        "CONFIG.update(vars(args))\n",
        "\n",
        "# Setup output directory\n",
        "CONFIG.save_dir = os.path.join('record', CONFIG.experiment_name)\n",
        "os.makedirs(CONFIG.save_dir, exist_ok=True)\n",
        "\n",
        "# Setup logging\n",
        "logging.basicConfig(\n",
        "    filename=os.path.join(CONFIG.save_dir, 'log.txt'),\n",
        "    format='%(message)s',\n",
        "    level=logging.INFO,\n",
        "    filemode='a'\n",
        ")\n",
        "\n",
        "# Set experiment's device & deterministic behavior\n",
        "if CONFIG.cpu:\n",
        "    CONFIG.device = 'cpu'\n",
        "else:\n",
        "    CONFIG.device = 'cuda' if torch.cuda.is_available() else 'cpu'\n",
        "\n",
        "torch.manual_seed(CONFIG.seed)\n",
        "random.seed(CONFIG.seed)\n",
        "np.random.seed(CONFIG.seed)\n",
        "torch.backends.cudnn.benchmark = True\n",
        "torch.use_deterministic_algorithms(mode=True, warn_only=True)\n",
        "\n",
        "main()"
      ]
    },
    {
      "cell_type": "markdown",
      "metadata": {
        "id": "NTTfU9hwYJfk"
      },
      "source": [
        "##### 1.5.2.3 - Photo"
      ]
    },
    {
      "cell_type": "code",
      "execution_count": null,
      "metadata": {
        "vscode": {
          "languageId": "python"
        },
        "id": "VRRnErwVYJfl"
      },
      "outputs": [],
      "source": [
        "warnings.filterwarnings('ignore', category=UserWarning)\n",
        "\n",
        "# Parse arguments\n",
        "conf = configurations['1.5.2.3']\n",
        "\n",
        "#args = parse_arguments()\n",
        "args = argparse.Namespace(**conf)\n",
        "print(args)\n",
        "CONFIG.update(vars(args))\n",
        "\n",
        "# Setup output directory\n",
        "CONFIG.save_dir = os.path.join('record', CONFIG.experiment_name)\n",
        "os.makedirs(CONFIG.save_dir, exist_ok=True)\n",
        "\n",
        "# Setup logging\n",
        "logging.basicConfig(\n",
        "    filename=os.path.join(CONFIG.save_dir, 'log.txt'),\n",
        "    format='%(message)s',\n",
        "    level=logging.INFO,\n",
        "    filemode='a'\n",
        ")\n",
        "\n",
        "# Set experiment's device & deterministic behavior\n",
        "if CONFIG.cpu:\n",
        "    CONFIG.device = 'cpu'\n",
        "else:\n",
        "    CONFIG.device = 'cuda' if torch.cuda.is_available() else 'cpu'\n",
        "\n",
        "torch.manual_seed(CONFIG.seed)\n",
        "random.seed(CONFIG.seed)\n",
        "np.random.seed(CONFIG.seed)\n",
        "torch.backends.cudnn.benchmark = True\n",
        "torch.use_deterministic_algorithms(mode=True, warn_only=True)\n",
        "\n",
        "main()"
      ]
    },
    {
      "cell_type": "markdown",
      "metadata": {
        "id": "IVzJsc3NYJfl"
      },
      "source": [
        "#### 1.5.3 - ASH module after layer1.1.bn1, layer1.1.conv2, layer1.1.bn2, layer3.0.conv1, and layer3.1.conv2"
      ]
    },
    {
      "cell_type": "markdown",
      "metadata": {
        "id": "Yus3mmN3YJfl"
      },
      "source": [
        "##### 1.5.3.1 - Cartoon"
      ]
    },
    {
      "cell_type": "code",
      "execution_count": null,
      "metadata": {
        "vscode": {
          "languageId": "python"
        },
        "id": "QrTsyMCGYJfl"
      },
      "outputs": [],
      "source": [
        "warnings.filterwarnings('ignore', category=UserWarning)\n",
        "\n",
        "# Parse arguments\n",
        "conf = configurations['1.5.3.1']\n",
        "\n",
        "#args = parse_arguments()\n",
        "args = argparse.Namespace(**conf)\n",
        "print(args)\n",
        "CONFIG.update(vars(args))\n",
        "\n",
        "# Setup output directory\n",
        "CONFIG.save_dir = os.path.join('record', CONFIG.experiment_name)\n",
        "os.makedirs(CONFIG.save_dir, exist_ok=True)\n",
        "\n",
        "# Setup logging\n",
        "logging.basicConfig(\n",
        "    filename=os.path.join(CONFIG.save_dir, 'log.txt'),\n",
        "    format='%(message)s',\n",
        "    level=logging.INFO,\n",
        "    filemode='a'\n",
        ")\n",
        "\n",
        "# Set experiment's device & deterministic behavior\n",
        "if CONFIG.cpu:\n",
        "    CONFIG.device = 'cpu'\n",
        "else:\n",
        "    CONFIG.device = 'cuda' if torch.cuda.is_available() else 'cpu'\n",
        "\n",
        "torch.manual_seed(CONFIG.seed)\n",
        "random.seed(CONFIG.seed)\n",
        "np.random.seed(CONFIG.seed)\n",
        "torch.backends.cudnn.benchmark = True\n",
        "torch.use_deterministic_algorithms(mode=True, warn_only=True)\n",
        "\n",
        "main()"
      ]
    },
    {
      "cell_type": "markdown",
      "metadata": {
        "id": "Yk98Fr5gYJfl"
      },
      "source": [
        "##### 1.5.3.2 - Sketch"
      ]
    },
    {
      "cell_type": "code",
      "execution_count": null,
      "metadata": {
        "vscode": {
          "languageId": "python"
        },
        "id": "dnD7OHoVYJfl"
      },
      "outputs": [],
      "source": [
        "warnings.filterwarnings('ignore', category=UserWarning)\n",
        "\n",
        "# Parse arguments\n",
        "conf = configurations['1.5.3.2']\n",
        "\n",
        "#args = parse_arguments()\n",
        "args = argparse.Namespace(**conf)\n",
        "print(args)\n",
        "CONFIG.update(vars(args))\n",
        "\n",
        "# Setup output directory\n",
        "CONFIG.save_dir = os.path.join('record', CONFIG.experiment_name)\n",
        "os.makedirs(CONFIG.save_dir, exist_ok=True)\n",
        "\n",
        "# Setup logging\n",
        "logging.basicConfig(\n",
        "    filename=os.path.join(CONFIG.save_dir, 'log.txt'),\n",
        "    format='%(message)s',\n",
        "    level=logging.INFO,\n",
        "    filemode='a'\n",
        ")\n",
        "\n",
        "# Set experiment's device & deterministic behavior\n",
        "if CONFIG.cpu:\n",
        "    CONFIG.device = 'cpu'\n",
        "else:\n",
        "    CONFIG.device = 'cuda' if torch.cuda.is_available() else 'cpu'\n",
        "\n",
        "torch.manual_seed(CONFIG.seed)\n",
        "random.seed(CONFIG.seed)\n",
        "np.random.seed(CONFIG.seed)\n",
        "torch.backends.cudnn.benchmark = True\n",
        "torch.use_deterministic_algorithms(mode=True, warn_only=True)\n",
        "\n",
        "main()"
      ]
    },
    {
      "cell_type": "markdown",
      "metadata": {
        "id": "bMfix8QAYJfl"
      },
      "source": [
        "##### 1.5.3.3 - Photo"
      ]
    },
    {
      "cell_type": "code",
      "execution_count": null,
      "metadata": {
        "vscode": {
          "languageId": "python"
        },
        "id": "wqTQM3i5YJfm"
      },
      "outputs": [],
      "source": [
        "warnings.filterwarnings('ignore', category=UserWarning)\n",
        "\n",
        "# Parse arguments\n",
        "conf = configurations['1.5.3.3']\n",
        "\n",
        "#args = parse_arguments()\n",
        "args = argparse.Namespace(**conf)\n",
        "print(args)\n",
        "CONFIG.update(vars(args))\n",
        "\n",
        "# Setup output directory\n",
        "CONFIG.save_dir = os.path.join('record', CONFIG.experiment_name)\n",
        "os.makedirs(CONFIG.save_dir, exist_ok=True)\n",
        "\n",
        "# Setup logging\n",
        "logging.basicConfig(\n",
        "    filename=os.path.join(CONFIG.save_dir, 'log.txt'),\n",
        "    format='%(message)s',\n",
        "    level=logging.INFO,\n",
        "    filemode='a'\n",
        ")\n",
        "\n",
        "# Set experiment's device & deterministic behavior\n",
        "if CONFIG.cpu:\n",
        "    CONFIG.device = 'cpu'\n",
        "else:\n",
        "    CONFIG.device = 'cuda' if torch.cuda.is_available() else 'cpu'\n",
        "\n",
        "torch.manual_seed(CONFIG.seed)\n",
        "random.seed(CONFIG.seed)\n",
        "np.random.seed(CONFIG.seed)\n",
        "torch.backends.cudnn.benchmark = True\n",
        "torch.use_deterministic_algorithms(mode=True, warn_only=True)\n",
        "\n",
        "main()"
      ]
    },
    {
      "cell_type": "markdown",
      "metadata": {
        "id": "OcoNeGfRYJfm"
      },
      "source": [
        "#### 1.5.4 - ASH module after layer1.1.bn1, layer1.1.bn2, layer2.1.conv2, layer3.0.conv1, and layer3.1.conv2"
      ]
    },
    {
      "cell_type": "markdown",
      "metadata": {
        "id": "QruzwZiPYJfm"
      },
      "source": [
        "##### 1.5.4.1 - Cartoon"
      ]
    },
    {
      "cell_type": "code",
      "execution_count": null,
      "metadata": {
        "vscode": {
          "languageId": "python"
        },
        "id": "JY6t9_jYYJfm"
      },
      "outputs": [],
      "source": [
        "warnings.filterwarnings('ignore', category=UserWarning)\n",
        "\n",
        "# Parse arguments\n",
        "conf = configurations['1.5.4.1']\n",
        "\n",
        "#args = parse_arguments()\n",
        "args = argparse.Namespace(**conf)\n",
        "print(args)\n",
        "CONFIG.update(vars(args))\n",
        "\n",
        "# Setup output directory\n",
        "CONFIG.save_dir = os.path.join('record', CONFIG.experiment_name)\n",
        "os.makedirs(CONFIG.save_dir, exist_ok=True)\n",
        "\n",
        "# Setup logging\n",
        "logging.basicConfig(\n",
        "    filename=os.path.join(CONFIG.save_dir, 'log.txt'),\n",
        "    format='%(message)s',\n",
        "    level=logging.INFO,\n",
        "    filemode='a'\n",
        ")\n",
        "\n",
        "# Set experiment's device & deterministic behavior\n",
        "if CONFIG.cpu:\n",
        "    CONFIG.device = 'cpu'\n",
        "else:\n",
        "    CONFIG.device = 'cuda' if torch.cuda.is_available() else 'cpu'\n",
        "\n",
        "torch.manual_seed(CONFIG.seed)\n",
        "random.seed(CONFIG.seed)\n",
        "np.random.seed(CONFIG.seed)\n",
        "torch.backends.cudnn.benchmark = True\n",
        "torch.use_deterministic_algorithms(mode=True, warn_only=True)\n",
        "\n",
        "main()"
      ]
    },
    {
      "cell_type": "markdown",
      "metadata": {
        "id": "UjAPd2H5YJfm"
      },
      "source": [
        "##### 1.5.4.2 - Sketch"
      ]
    },
    {
      "cell_type": "code",
      "execution_count": null,
      "metadata": {
        "vscode": {
          "languageId": "python"
        },
        "id": "s93M85xNYJfm"
      },
      "outputs": [],
      "source": [
        "warnings.filterwarnings('ignore', category=UserWarning)\n",
        "\n",
        "# Parse arguments\n",
        "conf = configurations['1.5.4.2']\n",
        "\n",
        "#args = parse_arguments()\n",
        "args = argparse.Namespace(**conf)\n",
        "print(args)\n",
        "CONFIG.update(vars(args))\n",
        "\n",
        "# Setup output directory\n",
        "CONFIG.save_dir = os.path.join('record', CONFIG.experiment_name)\n",
        "os.makedirs(CONFIG.save_dir, exist_ok=True)\n",
        "\n",
        "# Setup logging\n",
        "logging.basicConfig(\n",
        "    filename=os.path.join(CONFIG.save_dir, 'log.txt'),\n",
        "    format='%(message)s',\n",
        "    level=logging.INFO,\n",
        "    filemode='a'\n",
        ")\n",
        "\n",
        "# Set experiment's device & deterministic behavior\n",
        "if CONFIG.cpu:\n",
        "    CONFIG.device = 'cpu'\n",
        "else:\n",
        "    CONFIG.device = 'cuda' if torch.cuda.is_available() else 'cpu'\n",
        "\n",
        "torch.manual_seed(CONFIG.seed)\n",
        "random.seed(CONFIG.seed)\n",
        "np.random.seed(CONFIG.seed)\n",
        "torch.backends.cudnn.benchmark = True\n",
        "torch.use_deterministic_algorithms(mode=True, warn_only=True)\n",
        "\n",
        "main()"
      ]
    },
    {
      "cell_type": "markdown",
      "metadata": {
        "id": "HrFdDlbtYJfn"
      },
      "source": [
        "##### 1.5.4.3 - Photo"
      ]
    },
    {
      "cell_type": "code",
      "execution_count": null,
      "metadata": {
        "vscode": {
          "languageId": "python"
        },
        "id": "_ZuwNTlHYJfn"
      },
      "outputs": [],
      "source": [
        "warnings.filterwarnings('ignore', category=UserWarning)\n",
        "\n",
        "# Parse arguments\n",
        "conf = configurations['1.5.4.3']\n",
        "\n",
        "#args = parse_arguments()\n",
        "args = argparse.Namespace(**conf)\n",
        "print(args)\n",
        "CONFIG.update(vars(args))\n",
        "\n",
        "# Setup output directory\n",
        "CONFIG.save_dir = os.path.join('record', CONFIG.experiment_name)\n",
        "os.makedirs(CONFIG.save_dir, exist_ok=True)\n",
        "\n",
        "# Setup logging\n",
        "logging.basicConfig(\n",
        "    filename=os.path.join(CONFIG.save_dir, 'log.txt'),\n",
        "    format='%(message)s',\n",
        "    level=logging.INFO,\n",
        "    filemode='a'\n",
        ")\n",
        "\n",
        "# Set experiment's device & deterministic behavior\n",
        "if CONFIG.cpu:\n",
        "    CONFIG.device = 'cpu'\n",
        "else:\n",
        "    CONFIG.device = 'cuda' if torch.cuda.is_available() else 'cpu'\n",
        "\n",
        "torch.manual_seed(CONFIG.seed)\n",
        "random.seed(CONFIG.seed)\n",
        "np.random.seed(CONFIG.seed)\n",
        "torch.backends.cudnn.benchmark = True\n",
        "torch.use_deterministic_algorithms(mode=True, warn_only=True)\n",
        "\n",
        "main()"
      ]
    },
    {
      "cell_type": "markdown",
      "metadata": {
        "id": "9OTHA9vSYJfn"
      },
      "source": [
        "## 2 - Random Activation Maps"
      ]
    },
    {
      "cell_type": "markdown",
      "metadata": {
        "id": "4_IFlcbwYJfn"
      },
      "source": [
        "### 2.1 - Mask Out Ratio = 0.00"
      ]
    },
    {
      "cell_type": "markdown",
      "metadata": {
        "id": "oQ4FzJnDYJfn"
      },
      "source": [
        "#### 2.1.1 - ASH module after layer2.1.conv2"
      ]
    },
    {
      "cell_type": "markdown",
      "metadata": {
        "id": "mfmrgTzhYJfn"
      },
      "source": [
        "##### 2.1.1.1 - Cartoon"
      ]
    },
    {
      "cell_type": "code",
      "execution_count": null,
      "metadata": {
        "vscode": {
          "languageId": "python"
        },
        "id": "k4KmGUPKYJfn"
      },
      "outputs": [],
      "source": [
        "warnings.filterwarnings('ignore', category=UserWarning)\n",
        "\n",
        "# Parse arguments\n",
        "conf = configurations['2.1.1.1']\n",
        "\n",
        "#args = parse_arguments()\n",
        "args = argparse.Namespace(**conf)\n",
        "print(args)\n",
        "CONFIG.update(vars(args))\n",
        "\n",
        "# Setup output directory\n",
        "CONFIG.save_dir = os.path.join('record', CONFIG.experiment_name)\n",
        "os.makedirs(CONFIG.save_dir, exist_ok=True)\n",
        "\n",
        "# Setup logging\n",
        "logging.basicConfig(\n",
        "    filename=os.path.join(CONFIG.save_dir, 'log.txt'),\n",
        "    format='%(message)s',\n",
        "    level=logging.INFO,\n",
        "    filemode='a'\n",
        ")\n",
        "\n",
        "# Set experiment's device & deterministic behavior\n",
        "if CONFIG.cpu:\n",
        "    CONFIG.device = 'cpu'\n",
        "else:\n",
        "    CONFIG.device = 'cuda' if torch.cuda.is_available() else 'cpu'\n",
        "\n",
        "torch.manual_seed(CONFIG.seed)\n",
        "random.seed(CONFIG.seed)\n",
        "np.random.seed(CONFIG.seed)\n",
        "torch.backends.cudnn.benchmark = True\n",
        "torch.use_deterministic_algorithms(mode=True, warn_only=True)\n",
        "\n",
        "main()"
      ]
    },
    {
      "cell_type": "markdown",
      "metadata": {
        "id": "7sdHWf3-YJfn"
      },
      "source": [
        "##### 2.1.1.2 - Sketch"
      ]
    },
    {
      "cell_type": "code",
      "execution_count": null,
      "metadata": {
        "vscode": {
          "languageId": "python"
        },
        "id": "oQV_6H48YJfo"
      },
      "outputs": [],
      "source": [
        "warnings.filterwarnings('ignore', category=UserWarning)\n",
        "\n",
        "# Parse arguments\n",
        "conf = configurations['2.1.1.2']\n",
        "\n",
        "#args = parse_arguments()\n",
        "args = argparse.Namespace(**conf)\n",
        "print(args)\n",
        "CONFIG.update(vars(args))\n",
        "\n",
        "# Setup output directory\n",
        "CONFIG.save_dir = os.path.join('record', CONFIG.experiment_name)\n",
        "os.makedirs(CONFIG.save_dir, exist_ok=True)\n",
        "\n",
        "# Setup logging\n",
        "logging.basicConfig(\n",
        "    filename=os.path.join(CONFIG.save_dir, 'log.txt'),\n",
        "    format='%(message)s',\n",
        "    level=logging.INFO,\n",
        "    filemode='a'\n",
        ")\n",
        "\n",
        "# Set experiment's device & deterministic behavior\n",
        "if CONFIG.cpu:\n",
        "    CONFIG.device = 'cpu'\n",
        "else:\n",
        "    CONFIG.device = 'cuda' if torch.cuda.is_available() else 'cpu'\n",
        "\n",
        "torch.manual_seed(CONFIG.seed)\n",
        "random.seed(CONFIG.seed)\n",
        "np.random.seed(CONFIG.seed)\n",
        "torch.backends.cudnn.benchmark = True\n",
        "torch.use_deterministic_algorithms(mode=True, warn_only=True)\n",
        "\n",
        "main()"
      ]
    },
    {
      "cell_type": "markdown",
      "metadata": {
        "id": "UjQccX-tYJfo"
      },
      "source": [
        "##### 2.1.1.3 - Photo"
      ]
    },
    {
      "cell_type": "code",
      "execution_count": null,
      "metadata": {
        "vscode": {
          "languageId": "python"
        },
        "id": "gOAJF5ySYJfo"
      },
      "outputs": [],
      "source": [
        "warnings.filterwarnings('ignore', category=UserWarning)\n",
        "\n",
        "# Parse arguments\n",
        "conf = configurations['2.1.1.3']\n",
        "\n",
        "#args = parse_arguments()\n",
        "args = argparse.Namespace(**conf)\n",
        "print(args)\n",
        "CONFIG.update(vars(args))\n",
        "\n",
        "# Setup output directory\n",
        "CONFIG.save_dir = os.path.join('record', CONFIG.experiment_name)\n",
        "os.makedirs(CONFIG.save_dir, exist_ok=True)\n",
        "\n",
        "# Setup logging\n",
        "logging.basicConfig(\n",
        "    filename=os.path.join(CONFIG.save_dir, 'log.txt'),\n",
        "    format='%(message)s',\n",
        "    level=logging.INFO,\n",
        "    filemode='a'\n",
        ")\n",
        "\n",
        "# Set experiment's device & deterministic behavior\n",
        "if CONFIG.cpu:\n",
        "    CONFIG.device = 'cpu'\n",
        "else:\n",
        "    CONFIG.device = 'cuda' if torch.cuda.is_available() else 'cpu'\n",
        "\n",
        "torch.manual_seed(CONFIG.seed)\n",
        "random.seed(CONFIG.seed)\n",
        "np.random.seed(CONFIG.seed)\n",
        "torch.backends.cudnn.benchmark = True\n",
        "torch.use_deterministic_algorithms(mode=True, warn_only=True)\n",
        "\n",
        "main()"
      ]
    },
    {
      "cell_type": "markdown",
      "metadata": {
        "id": "sTcekcOmYJfp"
      },
      "source": [
        "#### 2.1.2 - ASH module after layer1.1.bn1 and layer2.1.conv2"
      ]
    },
    {
      "cell_type": "markdown",
      "metadata": {
        "id": "8O53EnXoYJfp"
      },
      "source": [
        "##### 2.1.2.1 - Cartoon"
      ]
    },
    {
      "cell_type": "code",
      "execution_count": null,
      "metadata": {
        "vscode": {
          "languageId": "python"
        },
        "id": "RcPHpHLKYJfp"
      },
      "outputs": [],
      "source": [
        "warnings.filterwarnings('ignore', category=UserWarning)\n",
        "\n",
        "# Parse arguments\n",
        "conf = configurations['2.1.2.1']\n",
        "\n",
        "#args = parse_arguments()\n",
        "args = argparse.Namespace(**conf)\n",
        "print(args)\n",
        "CONFIG.update(vars(args))\n",
        "\n",
        "# Setup output directory\n",
        "CONFIG.save_dir = os.path.join('record', CONFIG.experiment_name)\n",
        "os.makedirs(CONFIG.save_dir, exist_ok=True)\n",
        "\n",
        "# Setup logging\n",
        "logging.basicConfig(\n",
        "    filename=os.path.join(CONFIG.save_dir, 'log.txt'),\n",
        "    format='%(message)s',\n",
        "    level=logging.INFO,\n",
        "    filemode='a'\n",
        ")\n",
        "\n",
        "# Set experiment's device & deterministic behavior\n",
        "if CONFIG.cpu:\n",
        "    CONFIG.device = 'cpu'\n",
        "else:\n",
        "    CONFIG.device = 'cuda' if torch.cuda.is_available() else 'cpu'\n",
        "\n",
        "torch.manual_seed(CONFIG.seed)\n",
        "random.seed(CONFIG.seed)\n",
        "np.random.seed(CONFIG.seed)\n",
        "torch.backends.cudnn.benchmark = True\n",
        "torch.use_deterministic_algorithms(mode=True, warn_only=True)\n",
        "\n",
        "main()"
      ]
    },
    {
      "cell_type": "markdown",
      "metadata": {
        "id": "TCkwDgrlYJfp"
      },
      "source": [
        "##### 2.1.2.2 - Sketch"
      ]
    },
    {
      "cell_type": "code",
      "execution_count": null,
      "metadata": {
        "vscode": {
          "languageId": "python"
        },
        "id": "JtZiUmFzYJfp"
      },
      "outputs": [],
      "source": [
        "warnings.filterwarnings('ignore', category=UserWarning)\n",
        "\n",
        "# Parse arguments\n",
        "conf = configurations['2.1.2.2']\n",
        "\n",
        "#args = parse_arguments()\n",
        "args = argparse.Namespace(**conf)\n",
        "print(args)\n",
        "CONFIG.update(vars(args))\n",
        "\n",
        "# Setup output directory\n",
        "CONFIG.save_dir = os.path.join('record', CONFIG.experiment_name)\n",
        "os.makedirs(CONFIG.save_dir, exist_ok=True)\n",
        "\n",
        "# Setup logging\n",
        "logging.basicConfig(\n",
        "    filename=os.path.join(CONFIG.save_dir, 'log.txt'),\n",
        "    format='%(message)s',\n",
        "    level=logging.INFO,\n",
        "    filemode='a'\n",
        ")\n",
        "\n",
        "# Set experiment's device & deterministic behavior\n",
        "if CONFIG.cpu:\n",
        "    CONFIG.device = 'cpu'\n",
        "else:\n",
        "    CONFIG.device = 'cuda' if torch.cuda.is_available() else 'cpu'\n",
        "\n",
        "torch.manual_seed(CONFIG.seed)\n",
        "random.seed(CONFIG.seed)\n",
        "np.random.seed(CONFIG.seed)\n",
        "torch.backends.cudnn.benchmark = True\n",
        "torch.use_deterministic_algorithms(mode=True, warn_only=True)\n",
        "\n",
        "main()"
      ]
    },
    {
      "cell_type": "markdown",
      "metadata": {
        "id": "5nuaahpBYJfp"
      },
      "source": [
        "##### 2.1.2.3 - Photo"
      ]
    },
    {
      "cell_type": "code",
      "execution_count": null,
      "metadata": {
        "vscode": {
          "languageId": "python"
        },
        "id": "IFZYxOB4YJfp"
      },
      "outputs": [],
      "source": [
        "warnings.filterwarnings('ignore', category=UserWarning)\n",
        "\n",
        "# Parse arguments\n",
        "conf = configurations['2.1.2.3']\n",
        "\n",
        "#args = parse_arguments()\n",
        "args = argparse.Namespace(**conf)\n",
        "print(args)\n",
        "CONFIG.update(vars(args))\n",
        "\n",
        "# Setup output directory\n",
        "CONFIG.save_dir = os.path.join('record', CONFIG.experiment_name)\n",
        "os.makedirs(CONFIG.save_dir, exist_ok=True)\n",
        "\n",
        "# Setup logging\n",
        "logging.basicConfig(\n",
        "    filename=os.path.join(CONFIG.save_dir, 'log.txt'),\n",
        "    format='%(message)s',\n",
        "    level=logging.INFO,\n",
        "    filemode='a'\n",
        ")\n",
        "\n",
        "# Set experiment's device & deterministic behavior\n",
        "if CONFIG.cpu:\n",
        "    CONFIG.device = 'cpu'\n",
        "else:\n",
        "    CONFIG.device = 'cuda' if torch.cuda.is_available() else 'cpu'\n",
        "\n",
        "torch.manual_seed(CONFIG.seed)\n",
        "random.seed(CONFIG.seed)\n",
        "np.random.seed(CONFIG.seed)\n",
        "torch.backends.cudnn.benchmark = True\n",
        "torch.use_deterministic_algorithms(mode=True, warn_only=True)\n",
        "\n",
        "main()"
      ]
    },
    {
      "cell_type": "markdown",
      "metadata": {
        "id": "EcQE1SBCYJfp"
      },
      "source": [
        "#### 2.1.3 - ASH module after layer1.1.conv1"
      ]
    },
    {
      "cell_type": "markdown",
      "metadata": {
        "id": "SW2eEN0HYJfq"
      },
      "source": [
        "##### 2.1.3.1 - Cartoon"
      ]
    },
    {
      "cell_type": "code",
      "execution_count": null,
      "metadata": {
        "vscode": {
          "languageId": "python"
        },
        "id": "7nC5o3C4YJfq"
      },
      "outputs": [],
      "source": [
        "warnings.filterwarnings('ignore', category=UserWarning)\n",
        "\n",
        "# Parse arguments\n",
        "conf = configurations['2.1.3.1']\n",
        "\n",
        "#args = parse_arguments()\n",
        "args = argparse.Namespace(**conf)\n",
        "print(args)\n",
        "CONFIG.update(vars(args))\n",
        "\n",
        "# Setup output directory\n",
        "CONFIG.save_dir = os.path.join('record', CONFIG.experiment_name)\n",
        "os.makedirs(CONFIG.save_dir, exist_ok=True)\n",
        "\n",
        "# Setup logging\n",
        "logging.basicConfig(\n",
        "    filename=os.path.join(CONFIG.save_dir, 'log.txt'),\n",
        "    format='%(message)s',\n",
        "    level=logging.INFO,\n",
        "    filemode='a'\n",
        ")\n",
        "\n",
        "# Set experiment's device & deterministic behavior\n",
        "if CONFIG.cpu:\n",
        "    CONFIG.device = 'cpu'\n",
        "else:\n",
        "    CONFIG.device = 'cuda' if torch.cuda.is_available() else 'cpu'\n",
        "\n",
        "torch.manual_seed(CONFIG.seed)\n",
        "random.seed(CONFIG.seed)\n",
        "np.random.seed(CONFIG.seed)\n",
        "torch.backends.cudnn.benchmark = True\n",
        "torch.use_deterministic_algorithms(mode=True, warn_only=True)\n",
        "\n",
        "main()"
      ]
    },
    {
      "cell_type": "markdown",
      "metadata": {
        "id": "yhX7ajzMYJfq"
      },
      "source": [
        "##### 2.1.3.2 - Sketch"
      ]
    },
    {
      "cell_type": "code",
      "execution_count": null,
      "metadata": {
        "vscode": {
          "languageId": "python"
        },
        "id": "o_fwpM1KYJfq"
      },
      "outputs": [],
      "source": [
        "warnings.filterwarnings('ignore', category=UserWarning)\n",
        "\n",
        "# Parse arguments\n",
        "conf = configurations['2.1.3.2']\n",
        "\n",
        "#args = parse_arguments()\n",
        "args = argparse.Namespace(**conf)\n",
        "print(args)\n",
        "CONFIG.update(vars(args))\n",
        "\n",
        "# Setup output directory\n",
        "CONFIG.save_dir = os.path.join('record', CONFIG.experiment_name)\n",
        "os.makedirs(CONFIG.save_dir, exist_ok=True)\n",
        "\n",
        "# Setup logging\n",
        "logging.basicConfig(\n",
        "    filename=os.path.join(CONFIG.save_dir, 'log.txt'),\n",
        "    format='%(message)s',\n",
        "    level=logging.INFO,\n",
        "    filemode='a'\n",
        ")\n",
        "\n",
        "# Set experiment's device & deterministic behavior\n",
        "if CONFIG.cpu:\n",
        "    CONFIG.device = 'cpu'\n",
        "else:\n",
        "    CONFIG.device = 'cuda' if torch.cuda.is_available() else 'cpu'\n",
        "\n",
        "torch.manual_seed(CONFIG.seed)\n",
        "random.seed(CONFIG.seed)\n",
        "np.random.seed(CONFIG.seed)\n",
        "torch.backends.cudnn.benchmark = True\n",
        "torch.use_deterministic_algorithms(mode=True, warn_only=True)\n",
        "\n",
        "main()"
      ]
    },
    {
      "cell_type": "markdown",
      "metadata": {
        "id": "KRCFgHSRYJfq"
      },
      "source": [
        "##### 2.1.3.3 - Photo"
      ]
    },
    {
      "cell_type": "code",
      "execution_count": null,
      "metadata": {
        "vscode": {
          "languageId": "python"
        },
        "id": "mFrbGzkvYJfq"
      },
      "outputs": [],
      "source": [
        "warnings.filterwarnings('ignore', category=UserWarning)\n",
        "\n",
        "# Parse arguments\n",
        "conf = configurations['2.1.3.3']\n",
        "\n",
        "#args = parse_arguments()\n",
        "args = argparse.Namespace(**conf)\n",
        "print(args)\n",
        "CONFIG.update(vars(args))\n",
        "\n",
        "# Setup output directory\n",
        "CONFIG.save_dir = os.path.join('record', CONFIG.experiment_name)\n",
        "os.makedirs(CONFIG.save_dir, exist_ok=True)\n",
        "\n",
        "# Setup logging\n",
        "logging.basicConfig(\n",
        "    filename=os.path.join(CONFIG.save_dir, 'log.txt'),\n",
        "    format='%(message)s',\n",
        "    level=logging.INFO,\n",
        "    filemode='a'\n",
        ")\n",
        "\n",
        "# Set experiment's device & deterministic behavior\n",
        "if CONFIG.cpu:\n",
        "    CONFIG.device = 'cpu'\n",
        "else:\n",
        "    CONFIG.device = 'cuda' if torch.cuda.is_available() else 'cpu'\n",
        "\n",
        "torch.manual_seed(CONFIG.seed)\n",
        "random.seed(CONFIG.seed)\n",
        "np.random.seed(CONFIG.seed)\n",
        "torch.backends.cudnn.benchmark = True\n",
        "torch.use_deterministic_algorithms(mode=True, warn_only=True)\n",
        "\n",
        "main()"
      ]
    },
    {
      "cell_type": "markdown",
      "metadata": {
        "id": "N3WUa5tiYJfq"
      },
      "source": [
        "#### 2.1.4 - ASH module after layer1.1.bn2"
      ]
    },
    {
      "cell_type": "markdown",
      "metadata": {
        "id": "kMpHJQvLYJfq"
      },
      "source": [
        "##### 2.1.4.1 - Cartoon"
      ]
    },
    {
      "cell_type": "code",
      "execution_count": null,
      "metadata": {
        "vscode": {
          "languageId": "python"
        },
        "id": "CHjn-mY0YJfq"
      },
      "outputs": [],
      "source": [
        "warnings.filterwarnings('ignore', category=UserWarning)\n",
        "\n",
        "# Parse arguments\n",
        "conf = configurations['2.1.4.1']\n",
        "\n",
        "#args = parse_arguments()\n",
        "args = argparse.Namespace(**conf)\n",
        "print(args)\n",
        "CONFIG.update(vars(args))\n",
        "\n",
        "# Setup output directory\n",
        "CONFIG.save_dir = os.path.join('record', CONFIG.experiment_name)\n",
        "os.makedirs(CONFIG.save_dir, exist_ok=True)\n",
        "\n",
        "# Setup logging\n",
        "logging.basicConfig(\n",
        "    filename=os.path.join(CONFIG.save_dir, 'log.txt'),\n",
        "    format='%(message)s',\n",
        "    level=logging.INFO,\n",
        "    filemode='a'\n",
        ")\n",
        "\n",
        "# Set experiment's device & deterministic behavior\n",
        "if CONFIG.cpu:\n",
        "    CONFIG.device = 'cpu'\n",
        "else:\n",
        "    CONFIG.device = 'cuda' if torch.cuda.is_available() else 'cpu'\n",
        "\n",
        "torch.manual_seed(CONFIG.seed)\n",
        "random.seed(CONFIG.seed)\n",
        "np.random.seed(CONFIG.seed)\n",
        "torch.backends.cudnn.benchmark = True\n",
        "torch.use_deterministic_algorithms(mode=True, warn_only=True)\n",
        "\n",
        "main()"
      ]
    },
    {
      "cell_type": "markdown",
      "metadata": {
        "id": "5AZIp9MpYJfq"
      },
      "source": [
        "##### 2.1.4.2 - Sketch"
      ]
    },
    {
      "cell_type": "code",
      "execution_count": null,
      "metadata": {
        "vscode": {
          "languageId": "python"
        },
        "id": "sEd4puNbYJfq"
      },
      "outputs": [],
      "source": [
        "warnings.filterwarnings('ignore', category=UserWarning)\n",
        "\n",
        "# Parse arguments\n",
        "conf = configurations['2.1.4.2']\n",
        "\n",
        "#args = parse_arguments()\n",
        "args = argparse.Namespace(**conf)\n",
        "print(args)\n",
        "CONFIG.update(vars(args))\n",
        "\n",
        "# Setup output directory\n",
        "CONFIG.save_dir = os.path.join('record', CONFIG.experiment_name)\n",
        "os.makedirs(CONFIG.save_dir, exist_ok=True)\n",
        "\n",
        "# Setup logging\n",
        "logging.basicConfig(\n",
        "    filename=os.path.join(CONFIG.save_dir, 'log.txt'),\n",
        "    format='%(message)s',\n",
        "    level=logging.INFO,\n",
        "    filemode='a'\n",
        ")\n",
        "\n",
        "# Set experiment's device & deterministic behavior\n",
        "if CONFIG.cpu:\n",
        "    CONFIG.device = 'cpu'\n",
        "else:\n",
        "    CONFIG.device = 'cuda' if torch.cuda.is_available() else 'cpu'\n",
        "\n",
        "torch.manual_seed(CONFIG.seed)\n",
        "random.seed(CONFIG.seed)\n",
        "np.random.seed(CONFIG.seed)\n",
        "torch.backends.cudnn.benchmark = True\n",
        "torch.use_deterministic_algorithms(mode=True, warn_only=True)\n",
        "\n",
        "main()"
      ]
    },
    {
      "cell_type": "markdown",
      "metadata": {
        "id": "fNW_G2k9YJfq"
      },
      "source": [
        "##### 2.1.4.3 - Photo"
      ]
    },
    {
      "cell_type": "code",
      "execution_count": null,
      "metadata": {
        "vscode": {
          "languageId": "python"
        },
        "id": "htIaSpW3YJfq"
      },
      "outputs": [],
      "source": [
        "warnings.filterwarnings('ignore', category=UserWarning)\n",
        "\n",
        "# Parse arguments\n",
        "conf = configurations['2.1.4.3']\n",
        "\n",
        "#args = parse_arguments()\n",
        "args = argparse.Namespace(**conf)\n",
        "print(args)\n",
        "CONFIG.update(vars(args))\n",
        "\n",
        "# Setup output directory\n",
        "CONFIG.save_dir = os.path.join('record', CONFIG.experiment_name)\n",
        "os.makedirs(CONFIG.save_dir, exist_ok=True)\n",
        "\n",
        "# Setup logging\n",
        "logging.basicConfig(\n",
        "    filename=os.path.join(CONFIG.save_dir, 'log.txt'),\n",
        "    format='%(message)s',\n",
        "    level=logging.INFO,\n",
        "    filemode='a'\n",
        ")\n",
        "\n",
        "# Set experiment's device & deterministic behavior\n",
        "if CONFIG.cpu:\n",
        "    CONFIG.device = 'cpu'\n",
        "else:\n",
        "    CONFIG.device = 'cuda' if torch.cuda.is_available() else 'cpu'\n",
        "\n",
        "torch.manual_seed(CONFIG.seed)\n",
        "random.seed(CONFIG.seed)\n",
        "np.random.seed(CONFIG.seed)\n",
        "torch.backends.cudnn.benchmark = True\n",
        "torch.use_deterministic_algorithms(mode=True, warn_only=True)\n",
        "\n",
        "main()"
      ]
    },
    {
      "cell_type": "markdown",
      "metadata": {
        "id": "0h1piuPJYJfr"
      },
      "source": [
        "#### 2.1.5 - ASH module after layer1.1.bn2 and layer2.1.bn2"
      ]
    },
    {
      "cell_type": "markdown",
      "metadata": {
        "id": "qNwYM13KYJfr"
      },
      "source": [
        "##### 2.1.5.1 - Cartoon"
      ]
    },
    {
      "cell_type": "code",
      "execution_count": null,
      "metadata": {
        "vscode": {
          "languageId": "python"
        },
        "id": "brPrJsWQYJfr"
      },
      "outputs": [],
      "source": [
        "warnings.filterwarnings('ignore', category=UserWarning)\n",
        "\n",
        "# Parse arguments\n",
        "conf = configurations['2.1.5.1']\n",
        "\n",
        "#args = parse_arguments()\n",
        "args = argparse.Namespace(**conf)\n",
        "print(args)\n",
        "CONFIG.update(vars(args))\n",
        "\n",
        "# Setup output directory\n",
        "CONFIG.save_dir = os.path.join('record', CONFIG.experiment_name)\n",
        "os.makedirs(CONFIG.save_dir, exist_ok=True)\n",
        "\n",
        "# Setup logging\n",
        "logging.basicConfig(\n",
        "    filename=os.path.join(CONFIG.save_dir, 'log.txt'),\n",
        "    format='%(message)s',\n",
        "    level=logging.INFO,\n",
        "    filemode='a'\n",
        ")\n",
        "\n",
        "# Set experiment's device & deterministic behavior\n",
        "if CONFIG.cpu:\n",
        "    CONFIG.device = 'cpu'\n",
        "else:\n",
        "    CONFIG.device = 'cuda' if torch.cuda.is_available() else 'cpu'\n",
        "\n",
        "torch.manual_seed(CONFIG.seed)\n",
        "random.seed(CONFIG.seed)\n",
        "np.random.seed(CONFIG.seed)\n",
        "torch.backends.cudnn.benchmark = True\n",
        "torch.use_deterministic_algorithms(mode=True, warn_only=True)\n",
        "\n",
        "main()"
      ]
    },
    {
      "cell_type": "markdown",
      "metadata": {
        "id": "7lQvsUpmYJfr"
      },
      "source": [
        "##### 2.1.5.2 - Sketch"
      ]
    },
    {
      "cell_type": "code",
      "execution_count": null,
      "metadata": {
        "vscode": {
          "languageId": "python"
        },
        "id": "Hd_mj4v0YJfs"
      },
      "outputs": [],
      "source": [
        "warnings.filterwarnings('ignore', category=UserWarning)\n",
        "\n",
        "# Parse arguments\n",
        "conf = configurations['2.1.5.2']\n",
        "\n",
        "#args = parse_arguments()\n",
        "args = argparse.Namespace(**conf)\n",
        "print(args)\n",
        "CONFIG.update(vars(args))\n",
        "\n",
        "# Setup output directory\n",
        "CONFIG.save_dir = os.path.join('record', CONFIG.experiment_name)\n",
        "os.makedirs(CONFIG.save_dir, exist_ok=True)\n",
        "\n",
        "# Setup logging\n",
        "logging.basicConfig(\n",
        "    filename=os.path.join(CONFIG.save_dir, 'log.txt'),\n",
        "    format='%(message)s',\n",
        "    level=logging.INFO,\n",
        "    filemode='a'\n",
        ")\n",
        "\n",
        "# Set experiment's device & deterministic behavior\n",
        "if CONFIG.cpu:\n",
        "    CONFIG.device = 'cpu'\n",
        "else:\n",
        "    CONFIG.device = 'cuda' if torch.cuda.is_available() else 'cpu'\n",
        "\n",
        "torch.manual_seed(CONFIG.seed)\n",
        "random.seed(CONFIG.seed)\n",
        "np.random.seed(CONFIG.seed)\n",
        "torch.backends.cudnn.benchmark = True\n",
        "torch.use_deterministic_algorithms(mode=True, warn_only=True)\n",
        "\n",
        "main()"
      ]
    },
    {
      "cell_type": "markdown",
      "metadata": {
        "id": "L3f2K7A8YJfs"
      },
      "source": [
        "##### 2.1.5.3 - Photo"
      ]
    },
    {
      "cell_type": "code",
      "execution_count": null,
      "metadata": {
        "vscode": {
          "languageId": "python"
        },
        "id": "hAQg0Y1wYJfs"
      },
      "outputs": [],
      "source": [
        "warnings.filterwarnings('ignore', category=UserWarning)\n",
        "\n",
        "# Parse arguments\n",
        "conf = configurations['2.1.5.3']\n",
        "\n",
        "#args = parse_arguments()\n",
        "args = argparse.Namespace(**conf)\n",
        "print(args)\n",
        "CONFIG.update(vars(args))\n",
        "\n",
        "# Setup output directory\n",
        "CONFIG.save_dir = os.path.join('record', CONFIG.experiment_name)\n",
        "os.makedirs(CONFIG.save_dir, exist_ok=True)\n",
        "\n",
        "# Setup logging\n",
        "logging.basicConfig(\n",
        "    filename=os.path.join(CONFIG.save_dir, 'log.txt'),\n",
        "    format='%(message)s',\n",
        "    level=logging.INFO,\n",
        "    filemode='a'\n",
        ")\n",
        "\n",
        "# Set experiment's device & deterministic behavior\n",
        "if CONFIG.cpu:\n",
        "    CONFIG.device = 'cpu'\n",
        "else:\n",
        "    CONFIG.device = 'cuda' if torch.cuda.is_available() else 'cpu'\n",
        "\n",
        "torch.manual_seed(CONFIG.seed)\n",
        "random.seed(CONFIG.seed)\n",
        "np.random.seed(CONFIG.seed)\n",
        "torch.backends.cudnn.benchmark = True\n",
        "torch.use_deterministic_algorithms(mode=True, warn_only=True)\n",
        "\n",
        "main()"
      ]
    },
    {
      "cell_type": "markdown",
      "metadata": {
        "id": "-L4aVFTTYJfs"
      },
      "source": [
        "### 2.2 - Mask Out Ratio = 0.25"
      ]
    },
    {
      "cell_type": "markdown",
      "metadata": {
        "id": "Ugx5grVpYJfs"
      },
      "source": [
        "#### 2.2.1 - ASH module after layer2.1.conv2"
      ]
    },
    {
      "cell_type": "markdown",
      "metadata": {
        "id": "fxqE2oMqYJfs"
      },
      "source": [
        "##### 2.2.1.1 - Cartoon"
      ]
    },
    {
      "cell_type": "code",
      "execution_count": null,
      "metadata": {
        "vscode": {
          "languageId": "python"
        },
        "id": "K8uTLnJXYJfs"
      },
      "outputs": [],
      "source": [
        "warnings.filterwarnings('ignore', category=UserWarning)\n",
        "\n",
        "# Parse arguments\n",
        "conf = configurations['2.2.1.1']\n",
        "\n",
        "#args = parse_arguments()\n",
        "args = argparse.Namespace(**conf)\n",
        "print(args)\n",
        "CONFIG.update(vars(args))\n",
        "\n",
        "# Setup output directory\n",
        "CONFIG.save_dir = os.path.join('record', CONFIG.experiment_name)\n",
        "os.makedirs(CONFIG.save_dir, exist_ok=True)\n",
        "\n",
        "# Setup logging\n",
        "logging.basicConfig(\n",
        "    filename=os.path.join(CONFIG.save_dir, 'log.txt'),\n",
        "    format='%(message)s',\n",
        "    level=logging.INFO,\n",
        "    filemode='a'\n",
        ")\n",
        "\n",
        "# Set experiment's device & deterministic behavior\n",
        "if CONFIG.cpu:\n",
        "    CONFIG.device = 'cpu'\n",
        "else:\n",
        "    CONFIG.device = 'cuda' if torch.cuda.is_available() else 'cpu'\n",
        "\n",
        "torch.manual_seed(CONFIG.seed)\n",
        "random.seed(CONFIG.seed)\n",
        "np.random.seed(CONFIG.seed)\n",
        "torch.backends.cudnn.benchmark = True\n",
        "torch.use_deterministic_algorithms(mode=True, warn_only=True)\n",
        "\n",
        "main()"
      ]
    },
    {
      "cell_type": "markdown",
      "metadata": {
        "id": "fLZL39E8YJfs"
      },
      "source": [
        "##### 2.2.1.2 - Sketch"
      ]
    },
    {
      "cell_type": "code",
      "execution_count": null,
      "metadata": {
        "vscode": {
          "languageId": "python"
        },
        "id": "VThXhC_6YJfs"
      },
      "outputs": [],
      "source": [
        "warnings.filterwarnings('ignore', category=UserWarning)\n",
        "\n",
        "# Parse arguments\n",
        "conf = configurations['2.2.1.2']\n",
        "\n",
        "#args = parse_arguments()\n",
        "args = argparse.Namespace(**conf)\n",
        "print(args)\n",
        "CONFIG.update(vars(args))\n",
        "\n",
        "# Setup output directory\n",
        "CONFIG.save_dir = os.path.join('record', CONFIG.experiment_name)\n",
        "os.makedirs(CONFIG.save_dir, exist_ok=True)\n",
        "\n",
        "# Setup logging\n",
        "logging.basicConfig(\n",
        "    filename=os.path.join(CONFIG.save_dir, 'log.txt'),\n",
        "    format='%(message)s',\n",
        "    level=logging.INFO,\n",
        "    filemode='a'\n",
        ")\n",
        "\n",
        "# Set experiment's device & deterministic behavior\n",
        "if CONFIG.cpu:\n",
        "    CONFIG.device = 'cpu'\n",
        "else:\n",
        "    CONFIG.device = 'cuda' if torch.cuda.is_available() else 'cpu'\n",
        "\n",
        "torch.manual_seed(CONFIG.seed)\n",
        "random.seed(CONFIG.seed)\n",
        "np.random.seed(CONFIG.seed)\n",
        "torch.backends.cudnn.benchmark = True\n",
        "torch.use_deterministic_algorithms(mode=True, warn_only=True)\n",
        "\n",
        "main()"
      ]
    },
    {
      "cell_type": "markdown",
      "metadata": {
        "id": "6IeImTA0YJft"
      },
      "source": [
        "##### 2.2.1.3 - Photo"
      ]
    },
    {
      "cell_type": "code",
      "execution_count": null,
      "metadata": {
        "vscode": {
          "languageId": "python"
        },
        "id": "J7LXv5zuYJft"
      },
      "outputs": [],
      "source": [
        "warnings.filterwarnings('ignore', category=UserWarning)\n",
        "\n",
        "# Parse arguments\n",
        "conf = configurations['2.2.1.3']\n",
        "\n",
        "#args = parse_arguments()\n",
        "args = argparse.Namespace(**conf)\n",
        "print(args)\n",
        "CONFIG.update(vars(args))\n",
        "\n",
        "# Setup output directory\n",
        "CONFIG.save_dir = os.path.join('record', CONFIG.experiment_name)\n",
        "os.makedirs(CONFIG.save_dir, exist_ok=True)\n",
        "\n",
        "# Setup logging\n",
        "logging.basicConfig(\n",
        "    filename=os.path.join(CONFIG.save_dir, 'log.txt'),\n",
        "    format='%(message)s',\n",
        "    level=logging.INFO,\n",
        "    filemode='a'\n",
        ")\n",
        "\n",
        "# Set experiment's device & deterministic behavior\n",
        "if CONFIG.cpu:\n",
        "    CONFIG.device = 'cpu'\n",
        "else:\n",
        "    CONFIG.device = 'cuda' if torch.cuda.is_available() else 'cpu'\n",
        "\n",
        "torch.manual_seed(CONFIG.seed)\n",
        "random.seed(CONFIG.seed)\n",
        "np.random.seed(CONFIG.seed)\n",
        "torch.backends.cudnn.benchmark = True\n",
        "torch.use_deterministic_algorithms(mode=True, warn_only=True)\n",
        "\n",
        "main()"
      ]
    },
    {
      "cell_type": "markdown",
      "metadata": {
        "id": "g6Fc3LjjYJft"
      },
      "source": [
        "#### 2.2.2 - ASH module after layer1.1.bn1 and layer2.1.conv2"
      ]
    },
    {
      "cell_type": "markdown",
      "metadata": {
        "id": "kA6ZBObpYJft"
      },
      "source": [
        "##### 2.2.2.1 - Cartoon"
      ]
    },
    {
      "cell_type": "code",
      "execution_count": null,
      "metadata": {
        "vscode": {
          "languageId": "python"
        },
        "id": "tKegZOsmYJft"
      },
      "outputs": [],
      "source": [
        "warnings.filterwarnings('ignore', category=UserWarning)\n",
        "\n",
        "# Parse arguments\n",
        "conf = configurations['2.2.2.1']\n",
        "\n",
        "#args = parse_arguments()\n",
        "args = argparse.Namespace(**conf)\n",
        "print(args)\n",
        "CONFIG.update(vars(args))\n",
        "\n",
        "# Setup output directory\n",
        "CONFIG.save_dir = os.path.join('record', CONFIG.experiment_name)\n",
        "os.makedirs(CONFIG.save_dir, exist_ok=True)\n",
        "\n",
        "# Setup logging\n",
        "logging.basicConfig(\n",
        "    filename=os.path.join(CONFIG.save_dir, 'log.txt'),\n",
        "    format='%(message)s',\n",
        "    level=logging.INFO,\n",
        "    filemode='a'\n",
        ")\n",
        "\n",
        "# Set experiment's device & deterministic behavior\n",
        "if CONFIG.cpu:\n",
        "    CONFIG.device = 'cpu'\n",
        "else:\n",
        "    CONFIG.device = 'cuda' if torch.cuda.is_available() else 'cpu'\n",
        "\n",
        "torch.manual_seed(CONFIG.seed)\n",
        "random.seed(CONFIG.seed)\n",
        "np.random.seed(CONFIG.seed)\n",
        "torch.backends.cudnn.benchmark = True\n",
        "torch.use_deterministic_algorithms(mode=True, warn_only=True)\n",
        "\n",
        "main()"
      ]
    },
    {
      "cell_type": "markdown",
      "metadata": {
        "id": "-wDosi34YJft"
      },
      "source": [
        "##### 2.2.2.2 - Sketch"
      ]
    },
    {
      "cell_type": "code",
      "execution_count": null,
      "metadata": {
        "vscode": {
          "languageId": "python"
        },
        "id": "7MKCGNBcYJft"
      },
      "outputs": [],
      "source": [
        "warnings.filterwarnings('ignore', category=UserWarning)\n",
        "\n",
        "# Parse arguments\n",
        "conf = configurations['2.2.2.2']\n",
        "\n",
        "#args = parse_arguments()\n",
        "args = argparse.Namespace(**conf)\n",
        "print(args)\n",
        "CONFIG.update(vars(args))\n",
        "\n",
        "# Setup output directory\n",
        "CONFIG.save_dir = os.path.join('record', CONFIG.experiment_name)\n",
        "os.makedirs(CONFIG.save_dir, exist_ok=True)\n",
        "\n",
        "# Setup logging\n",
        "logging.basicConfig(\n",
        "    filename=os.path.join(CONFIG.save_dir, 'log.txt'),\n",
        "    format='%(message)s',\n",
        "    level=logging.INFO,\n",
        "    filemode='a'\n",
        ")\n",
        "\n",
        "# Set experiment's device & deterministic behavior\n",
        "if CONFIG.cpu:\n",
        "    CONFIG.device = 'cpu'\n",
        "else:\n",
        "    CONFIG.device = 'cuda' if torch.cuda.is_available() else 'cpu'\n",
        "\n",
        "torch.manual_seed(CONFIG.seed)\n",
        "random.seed(CONFIG.seed)\n",
        "np.random.seed(CONFIG.seed)\n",
        "torch.backends.cudnn.benchmark = True\n",
        "torch.use_deterministic_algorithms(mode=True, warn_only=True)\n",
        "\n",
        "main()"
      ]
    },
    {
      "cell_type": "markdown",
      "metadata": {
        "id": "JanjGfDMYJfu"
      },
      "source": [
        "##### 2.2.2.3 - Photo"
      ]
    },
    {
      "cell_type": "code",
      "execution_count": null,
      "metadata": {
        "vscode": {
          "languageId": "python"
        },
        "id": "LDu1pu6TYJfu"
      },
      "outputs": [],
      "source": [
        "warnings.filterwarnings('ignore', category=UserWarning)\n",
        "\n",
        "# Parse arguments\n",
        "conf = configurations['2.2.2.3']\n",
        "\n",
        "#args = parse_arguments()\n",
        "args = argparse.Namespace(**conf)\n",
        "print(args)\n",
        "CONFIG.update(vars(args))\n",
        "\n",
        "# Setup output directory\n",
        "CONFIG.save_dir = os.path.join('record', CONFIG.experiment_name)\n",
        "os.makedirs(CONFIG.save_dir, exist_ok=True)\n",
        "\n",
        "# Setup logging\n",
        "logging.basicConfig(\n",
        "    filename=os.path.join(CONFIG.save_dir, 'log.txt'),\n",
        "    format='%(message)s',\n",
        "    level=logging.INFO,\n",
        "    filemode='a'\n",
        ")\n",
        "\n",
        "# Set experiment's device & deterministic behavior\n",
        "if CONFIG.cpu:\n",
        "    CONFIG.device = 'cpu'\n",
        "else:\n",
        "    CONFIG.device = 'cuda' if torch.cuda.is_available() else 'cpu'\n",
        "\n",
        "torch.manual_seed(CONFIG.seed)\n",
        "random.seed(CONFIG.seed)\n",
        "np.random.seed(CONFIG.seed)\n",
        "torch.backends.cudnn.benchmark = True\n",
        "torch.use_deterministic_algorithms(mode=True, warn_only=True)\n",
        "\n",
        "main()"
      ]
    },
    {
      "cell_type": "markdown",
      "metadata": {
        "id": "-uBAe9LjYJfu"
      },
      "source": [
        "#### 2.2.3 - ASH module after layer1.1.conv1"
      ]
    },
    {
      "cell_type": "markdown",
      "metadata": {
        "id": "l0827SYYYJfu"
      },
      "source": [
        "##### 2.2.3.1 - Cartoon"
      ]
    },
    {
      "cell_type": "code",
      "execution_count": null,
      "metadata": {
        "vscode": {
          "languageId": "python"
        },
        "id": "fvhNhOAzYJfu"
      },
      "outputs": [],
      "source": [
        "warnings.filterwarnings('ignore', category=UserWarning)\n",
        "\n",
        "# Parse arguments\n",
        "conf = configurations['2.2.3.1']\n",
        "\n",
        "#args = parse_arguments()\n",
        "args = argparse.Namespace(**conf)\n",
        "print(args)\n",
        "CONFIG.update(vars(args))\n",
        "\n",
        "# Setup output directory\n",
        "CONFIG.save_dir = os.path.join('record', CONFIG.experiment_name)\n",
        "os.makedirs(CONFIG.save_dir, exist_ok=True)\n",
        "\n",
        "# Setup logging\n",
        "logging.basicConfig(\n",
        "    filename=os.path.join(CONFIG.save_dir, 'log.txt'),\n",
        "    format='%(message)s',\n",
        "    level=logging.INFO,\n",
        "    filemode='a'\n",
        ")\n",
        "\n",
        "# Set experiment's device & deterministic behavior\n",
        "if CONFIG.cpu:\n",
        "    CONFIG.device = 'cpu'\n",
        "else:\n",
        "    CONFIG.device = 'cuda' if torch.cuda.is_available() else 'cpu'\n",
        "\n",
        "torch.manual_seed(CONFIG.seed)\n",
        "random.seed(CONFIG.seed)\n",
        "np.random.seed(CONFIG.seed)\n",
        "torch.backends.cudnn.benchmark = True\n",
        "torch.use_deterministic_algorithms(mode=True, warn_only=True)\n",
        "\n",
        "main()"
      ]
    },
    {
      "cell_type": "markdown",
      "metadata": {
        "id": "xWezkWV9YJfu"
      },
      "source": [
        "##### 2.2.3.2 - Sketch"
      ]
    },
    {
      "cell_type": "code",
      "execution_count": null,
      "metadata": {
        "vscode": {
          "languageId": "python"
        },
        "id": "ValKnDcvYJfu"
      },
      "outputs": [],
      "source": [
        "warnings.filterwarnings('ignore', category=UserWarning)\n",
        "\n",
        "# Parse arguments\n",
        "conf = configurations['2.2.3.2']\n",
        "\n",
        "#args = parse_arguments()\n",
        "args = argparse.Namespace(**conf)\n",
        "print(args)\n",
        "CONFIG.update(vars(args))\n",
        "\n",
        "# Setup output directory\n",
        "CONFIG.save_dir = os.path.join('record', CONFIG.experiment_name)\n",
        "os.makedirs(CONFIG.save_dir, exist_ok=True)\n",
        "\n",
        "# Setup logging\n",
        "logging.basicConfig(\n",
        "    filename=os.path.join(CONFIG.save_dir, 'log.txt'),\n",
        "    format='%(message)s',\n",
        "    level=logging.INFO,\n",
        "    filemode='a'\n",
        ")\n",
        "\n",
        "# Set experiment's device & deterministic behavior\n",
        "if CONFIG.cpu:\n",
        "    CONFIG.device = 'cpu'\n",
        "else:\n",
        "    CONFIG.device = 'cuda' if torch.cuda.is_available() else 'cpu'\n",
        "\n",
        "torch.manual_seed(CONFIG.seed)\n",
        "random.seed(CONFIG.seed)\n",
        "np.random.seed(CONFIG.seed)\n",
        "torch.backends.cudnn.benchmark = True\n",
        "torch.use_deterministic_algorithms(mode=True, warn_only=True)\n",
        "\n",
        "main()"
      ]
    },
    {
      "cell_type": "markdown",
      "metadata": {
        "id": "1yoGmSdVYJfv"
      },
      "source": [
        "##### 2.2.3.3 - Photo"
      ]
    },
    {
      "cell_type": "code",
      "execution_count": null,
      "metadata": {
        "vscode": {
          "languageId": "python"
        },
        "id": "C_g2M0z0YJfv"
      },
      "outputs": [],
      "source": [
        "warnings.filterwarnings('ignore', category=UserWarning)\n",
        "\n",
        "# Parse arguments\n",
        "conf = configurations['2.2.3.3']\n",
        "\n",
        "#args = parse_arguments()\n",
        "args = argparse.Namespace(**conf)\n",
        "print(args)\n",
        "CONFIG.update(vars(args))\n",
        "\n",
        "# Setup output directory\n",
        "CONFIG.save_dir = os.path.join('record', CONFIG.experiment_name)\n",
        "os.makedirs(CONFIG.save_dir, exist_ok=True)\n",
        "\n",
        "# Setup logging\n",
        "logging.basicConfig(\n",
        "    filename=os.path.join(CONFIG.save_dir, 'log.txt'),\n",
        "    format='%(message)s',\n",
        "    level=logging.INFO,\n",
        "    filemode='a'\n",
        ")\n",
        "\n",
        "# Set experiment's device & deterministic behavior\n",
        "if CONFIG.cpu:\n",
        "    CONFIG.device = 'cpu'\n",
        "else:\n",
        "    CONFIG.device = 'cuda' if torch.cuda.is_available() else 'cpu'\n",
        "\n",
        "torch.manual_seed(CONFIG.seed)\n",
        "random.seed(CONFIG.seed)\n",
        "np.random.seed(CONFIG.seed)\n",
        "torch.backends.cudnn.benchmark = True\n",
        "torch.use_deterministic_algorithms(mode=True, warn_only=True)\n",
        "\n",
        "main()"
      ]
    },
    {
      "cell_type": "markdown",
      "metadata": {
        "id": "Q5ehOEX6YJfv"
      },
      "source": [
        "#### 2.2.4 - ASH module after layer1.1.bn2"
      ]
    },
    {
      "cell_type": "markdown",
      "metadata": {
        "id": "hk1qPAyWYJfv"
      },
      "source": [
        "##### 2.2.4.1 - Cartoon"
      ]
    },
    {
      "cell_type": "code",
      "execution_count": null,
      "metadata": {
        "vscode": {
          "languageId": "python"
        },
        "id": "ck28nMx5YJfv"
      },
      "outputs": [],
      "source": [
        "warnings.filterwarnings('ignore', category=UserWarning)\n",
        "\n",
        "# Parse arguments\n",
        "conf = configurations['2.2.4.1']\n",
        "\n",
        "#args = parse_arguments()\n",
        "args = argparse.Namespace(**conf)\n",
        "print(args)\n",
        "CONFIG.update(vars(args))\n",
        "\n",
        "# Setup output directory\n",
        "CONFIG.save_dir = os.path.join('record', CONFIG.experiment_name)\n",
        "os.makedirs(CONFIG.save_dir, exist_ok=True)\n",
        "\n",
        "# Setup logging\n",
        "logging.basicConfig(\n",
        "    filename=os.path.join(CONFIG.save_dir, 'log.txt'),\n",
        "    format='%(message)s',\n",
        "    level=logging.INFO,\n",
        "    filemode='a'\n",
        ")\n",
        "\n",
        "# Set experiment's device & deterministic behavior\n",
        "if CONFIG.cpu:\n",
        "    CONFIG.device = 'cpu'\n",
        "else:\n",
        "    CONFIG.device = 'cuda' if torch.cuda.is_available() else 'cpu'\n",
        "\n",
        "torch.manual_seed(CONFIG.seed)\n",
        "random.seed(CONFIG.seed)\n",
        "np.random.seed(CONFIG.seed)\n",
        "torch.backends.cudnn.benchmark = True\n",
        "torch.use_deterministic_algorithms(mode=True, warn_only=True)\n",
        "\n",
        "main()"
      ]
    },
    {
      "cell_type": "markdown",
      "metadata": {
        "id": "cDLKvzT-YJfv"
      },
      "source": [
        "##### 2.2.4.2 - Sketch"
      ]
    },
    {
      "cell_type": "code",
      "execution_count": null,
      "metadata": {
        "vscode": {
          "languageId": "python"
        },
        "id": "6Ude4IJsYJfv"
      },
      "outputs": [],
      "source": [
        "warnings.filterwarnings('ignore', category=UserWarning)\n",
        "\n",
        "# Parse arguments\n",
        "conf = configurations['2.2.4.2']\n",
        "\n",
        "#args = parse_arguments()\n",
        "args = argparse.Namespace(**conf)\n",
        "print(args)\n",
        "CONFIG.update(vars(args))\n",
        "\n",
        "# Setup output directory\n",
        "CONFIG.save_dir = os.path.join('record', CONFIG.experiment_name)\n",
        "os.makedirs(CONFIG.save_dir, exist_ok=True)\n",
        "\n",
        "# Setup logging\n",
        "logging.basicConfig(\n",
        "    filename=os.path.join(CONFIG.save_dir, 'log.txt'),\n",
        "    format='%(message)s',\n",
        "    level=logging.INFO,\n",
        "    filemode='a'\n",
        ")\n",
        "\n",
        "# Set experiment's device & deterministic behavior\n",
        "if CONFIG.cpu:\n",
        "    CONFIG.device = 'cpu'\n",
        "else:\n",
        "    CONFIG.device = 'cuda' if torch.cuda.is_available() else 'cpu'\n",
        "\n",
        "torch.manual_seed(CONFIG.seed)\n",
        "random.seed(CONFIG.seed)\n",
        "np.random.seed(CONFIG.seed)\n",
        "torch.backends.cudnn.benchmark = True\n",
        "torch.use_deterministic_algorithms(mode=True, warn_only=True)\n",
        "\n",
        "main()"
      ]
    },
    {
      "cell_type": "markdown",
      "metadata": {
        "id": "2NzKNTFoYJfv"
      },
      "source": [
        "##### 2.2.4.3 - Photo"
      ]
    },
    {
      "cell_type": "code",
      "execution_count": null,
      "metadata": {
        "vscode": {
          "languageId": "python"
        },
        "id": "m5XmsMVjYJfw"
      },
      "outputs": [],
      "source": [
        "warnings.filterwarnings('ignore', category=UserWarning)\n",
        "\n",
        "# Parse arguments\n",
        "conf = configurations['2.2.4.3']\n",
        "\n",
        "#args = parse_arguments()\n",
        "args = argparse.Namespace(**conf)\n",
        "print(args)\n",
        "CONFIG.update(vars(args))\n",
        "\n",
        "# Setup output directory\n",
        "CONFIG.save_dir = os.path.join('record', CONFIG.experiment_name)\n",
        "os.makedirs(CONFIG.save_dir, exist_ok=True)\n",
        "\n",
        "# Setup logging\n",
        "logging.basicConfig(\n",
        "    filename=os.path.join(CONFIG.save_dir, 'log.txt'),\n",
        "    format='%(message)s',\n",
        "    level=logging.INFO,\n",
        "    filemode='a'\n",
        ")\n",
        "\n",
        "# Set experiment's device & deterministic behavior\n",
        "if CONFIG.cpu:\n",
        "    CONFIG.device = 'cpu'\n",
        "else:\n",
        "    CONFIG.device = 'cuda' if torch.cuda.is_available() else 'cpu'\n",
        "\n",
        "torch.manual_seed(CONFIG.seed)\n",
        "random.seed(CONFIG.seed)\n",
        "np.random.seed(CONFIG.seed)\n",
        "torch.backends.cudnn.benchmark = True\n",
        "torch.use_deterministic_algorithms(mode=True, warn_only=True)\n",
        "\n",
        "main()"
      ]
    },
    {
      "cell_type": "markdown",
      "metadata": {
        "id": "-KrXz0drYJfw"
      },
      "source": [
        "#### 2.2.5 - ASH module after layer1.1.bn2 and layer2.1.bn2"
      ]
    },
    {
      "cell_type": "markdown",
      "metadata": {
        "id": "DEC3JsV5YJfw"
      },
      "source": [
        "##### 2.2.5.1 - Cartoon"
      ]
    },
    {
      "cell_type": "code",
      "execution_count": null,
      "metadata": {
        "vscode": {
          "languageId": "python"
        },
        "id": "-OwmN82aYJfw"
      },
      "outputs": [],
      "source": [
        "warnings.filterwarnings('ignore', category=UserWarning)\n",
        "\n",
        "# Parse arguments\n",
        "conf = configurations['2.2.5.1']\n",
        "\n",
        "#args = parse_arguments()\n",
        "args = argparse.Namespace(**conf)\n",
        "print(args)\n",
        "CONFIG.update(vars(args))\n",
        "\n",
        "# Setup output directory\n",
        "CONFIG.save_dir = os.path.join('record', CONFIG.experiment_name)\n",
        "os.makedirs(CONFIG.save_dir, exist_ok=True)\n",
        "\n",
        "# Setup logging\n",
        "logging.basicConfig(\n",
        "    filename=os.path.join(CONFIG.save_dir, 'log.txt'),\n",
        "    format='%(message)s',\n",
        "    level=logging.INFO,\n",
        "    filemode='a'\n",
        ")\n",
        "\n",
        "# Set experiment's device & deterministic behavior\n",
        "if CONFIG.cpu:\n",
        "    CONFIG.device = 'cpu'\n",
        "else:\n",
        "    CONFIG.device = 'cuda' if torch.cuda.is_available() else 'cpu'\n",
        "\n",
        "torch.manual_seed(CONFIG.seed)\n",
        "random.seed(CONFIG.seed)\n",
        "np.random.seed(CONFIG.seed)\n",
        "torch.backends.cudnn.benchmark = True\n",
        "torch.use_deterministic_algorithms(mode=True, warn_only=True)\n",
        "\n",
        "main()"
      ]
    },
    {
      "cell_type": "markdown",
      "metadata": {
        "id": "FWa_TneyYJfw"
      },
      "source": [
        "##### 2.2.5.2 - Sketch"
      ]
    },
    {
      "cell_type": "code",
      "execution_count": null,
      "metadata": {
        "vscode": {
          "languageId": "python"
        },
        "id": "zWNjHPktYJfw"
      },
      "outputs": [],
      "source": [
        "warnings.filterwarnings('ignore', category=UserWarning)\n",
        "\n",
        "# Parse arguments\n",
        "conf = configurations['2.2.5.2']\n",
        "\n",
        "#args = parse_arguments()\n",
        "args = argparse.Namespace(**conf)\n",
        "print(args)\n",
        "CONFIG.update(vars(args))\n",
        "\n",
        "# Setup output directory\n",
        "CONFIG.save_dir = os.path.join('record', CONFIG.experiment_name)\n",
        "os.makedirs(CONFIG.save_dir, exist_ok=True)\n",
        "\n",
        "# Setup logging\n",
        "logging.basicConfig(\n",
        "    filename=os.path.join(CONFIG.save_dir, 'log.txt'),\n",
        "    format='%(message)s',\n",
        "    level=logging.INFO,\n",
        "    filemode='a'\n",
        ")\n",
        "\n",
        "# Set experiment's device & deterministic behavior\n",
        "if CONFIG.cpu:\n",
        "    CONFIG.device = 'cpu'\n",
        "else:\n",
        "    CONFIG.device = 'cuda' if torch.cuda.is_available() else 'cpu'\n",
        "\n",
        "torch.manual_seed(CONFIG.seed)\n",
        "random.seed(CONFIG.seed)\n",
        "np.random.seed(CONFIG.seed)\n",
        "torch.backends.cudnn.benchmark = True\n",
        "torch.use_deterministic_algorithms(mode=True, warn_only=True)\n",
        "\n",
        "main()"
      ]
    },
    {
      "cell_type": "markdown",
      "metadata": {
        "id": "h2YufqCKYJfw"
      },
      "source": [
        "##### 2.2.5.3 - Photo"
      ]
    },
    {
      "cell_type": "code",
      "execution_count": null,
      "metadata": {
        "vscode": {
          "languageId": "python"
        },
        "id": "-bCMenSLYJfw"
      },
      "outputs": [],
      "source": [
        "warnings.filterwarnings('ignore', category=UserWarning)\n",
        "\n",
        "# Parse arguments\n",
        "conf = configurations['2.2.5.3']\n",
        "\n",
        "#args = parse_arguments()\n",
        "args = argparse.Namespace(**conf)\n",
        "print(args)\n",
        "CONFIG.update(vars(args))\n",
        "\n",
        "# Setup output directory\n",
        "CONFIG.save_dir = os.path.join('record', CONFIG.experiment_name)\n",
        "os.makedirs(CONFIG.save_dir, exist_ok=True)\n",
        "\n",
        "# Setup logging\n",
        "logging.basicConfig(\n",
        "    filename=os.path.join(CONFIG.save_dir, 'log.txt'),\n",
        "    format='%(message)s',\n",
        "    level=logging.INFO,\n",
        "    filemode='a'\n",
        ")\n",
        "\n",
        "# Set experiment's device & deterministic behavior\n",
        "if CONFIG.cpu:\n",
        "    CONFIG.device = 'cpu'\n",
        "else:\n",
        "    CONFIG.device = 'cuda' if torch.cuda.is_available() else 'cpu'\n",
        "\n",
        "torch.manual_seed(CONFIG.seed)\n",
        "random.seed(CONFIG.seed)\n",
        "np.random.seed(CONFIG.seed)\n",
        "torch.backends.cudnn.benchmark = True\n",
        "torch.use_deterministic_algorithms(mode=True, warn_only=True)\n",
        "\n",
        "main()"
      ]
    },
    {
      "cell_type": "markdown",
      "metadata": {
        "id": "PAATX71pYJfx"
      },
      "source": [
        "### 2.3 - Mask Out Ratio = 0.50"
      ]
    },
    {
      "cell_type": "markdown",
      "metadata": {
        "id": "oR8C5FJEYJfx"
      },
      "source": [
        "#### 2.3.1 - ASH module after layer2.1.conv2"
      ]
    },
    {
      "cell_type": "markdown",
      "metadata": {
        "id": "-OW0ppGyYJfx"
      },
      "source": [
        "##### 2.3.1.1 - Cartoon"
      ]
    },
    {
      "cell_type": "code",
      "execution_count": null,
      "metadata": {
        "vscode": {
          "languageId": "python"
        },
        "id": "0dzArEL5YJfx"
      },
      "outputs": [],
      "source": [
        "warnings.filterwarnings('ignore', category=UserWarning)\n",
        "\n",
        "# Parse arguments\n",
        "conf = configurations['2.3.1.1']\n",
        "\n",
        "#args = parse_arguments()\n",
        "args = argparse.Namespace(**conf)\n",
        "print(args)\n",
        "CONFIG.update(vars(args))\n",
        "\n",
        "# Setup output directory\n",
        "CONFIG.save_dir = os.path.join('record', CONFIG.experiment_name)\n",
        "os.makedirs(CONFIG.save_dir, exist_ok=True)\n",
        "\n",
        "# Setup logging\n",
        "logging.basicConfig(\n",
        "    filename=os.path.join(CONFIG.save_dir, 'log.txt'),\n",
        "    format='%(message)s',\n",
        "    level=logging.INFO,\n",
        "    filemode='a'\n",
        ")\n",
        "\n",
        "# Set experiment's device & deterministic behavior\n",
        "if CONFIG.cpu:\n",
        "    CONFIG.device = 'cpu'\n",
        "else:\n",
        "    CONFIG.device = 'cuda' if torch.cuda.is_available() else 'cpu'\n",
        "\n",
        "torch.manual_seed(CONFIG.seed)\n",
        "random.seed(CONFIG.seed)\n",
        "np.random.seed(CONFIG.seed)\n",
        "torch.backends.cudnn.benchmark = True\n",
        "torch.use_deterministic_algorithms(mode=True, warn_only=True)\n",
        "\n",
        "main()"
      ]
    },
    {
      "cell_type": "markdown",
      "metadata": {
        "id": "5GfmV52qYJfx"
      },
      "source": [
        "##### 2.3.1.2 - Sketch"
      ]
    },
    {
      "cell_type": "code",
      "execution_count": null,
      "metadata": {
        "vscode": {
          "languageId": "python"
        },
        "id": "Wl6nhai1YJfx"
      },
      "outputs": [],
      "source": [
        "warnings.filterwarnings('ignore', category=UserWarning)\n",
        "\n",
        "# Parse arguments\n",
        "conf = configurations['2.3.1.2']\n",
        "\n",
        "#args = parse_arguments()\n",
        "args = argparse.Namespace(**conf)\n",
        "print(args)\n",
        "CONFIG.update(vars(args))\n",
        "\n",
        "# Setup output directory\n",
        "CONFIG.save_dir = os.path.join('record', CONFIG.experiment_name)\n",
        "os.makedirs(CONFIG.save_dir, exist_ok=True)\n",
        "\n",
        "# Setup logging\n",
        "logging.basicConfig(\n",
        "    filename=os.path.join(CONFIG.save_dir, 'log.txt'),\n",
        "    format='%(message)s',\n",
        "    level=logging.INFO,\n",
        "    filemode='a'\n",
        ")\n",
        "\n",
        "# Set experiment's device & deterministic behavior\n",
        "if CONFIG.cpu:\n",
        "    CONFIG.device = 'cpu'\n",
        "else:\n",
        "    CONFIG.device = 'cuda' if torch.cuda.is_available() else 'cpu'\n",
        "\n",
        "torch.manual_seed(CONFIG.seed)\n",
        "random.seed(CONFIG.seed)\n",
        "np.random.seed(CONFIG.seed)\n",
        "torch.backends.cudnn.benchmark = True\n",
        "torch.use_deterministic_algorithms(mode=True, warn_only=True)\n",
        "\n",
        "main()"
      ]
    },
    {
      "cell_type": "markdown",
      "metadata": {
        "id": "w2ov_dO-YJfx"
      },
      "source": [
        "##### 2.3.1.3 - Photo"
      ]
    },
    {
      "cell_type": "code",
      "execution_count": null,
      "metadata": {
        "vscode": {
          "languageId": "python"
        },
        "id": "H2jIwe0uYJfx"
      },
      "outputs": [],
      "source": [
        "warnings.filterwarnings('ignore', category=UserWarning)\n",
        "\n",
        "# Parse arguments\n",
        "conf = configurations['2.3.1.3']\n",
        "\n",
        "#args = parse_arguments()\n",
        "args = argparse.Namespace(**conf)\n",
        "print(args)\n",
        "CONFIG.update(vars(args))\n",
        "\n",
        "# Setup output directory\n",
        "CONFIG.save_dir = os.path.join('record', CONFIG.experiment_name)\n",
        "os.makedirs(CONFIG.save_dir, exist_ok=True)\n",
        "\n",
        "# Setup logging\n",
        "logging.basicConfig(\n",
        "    filename=os.path.join(CONFIG.save_dir, 'log.txt'),\n",
        "    format='%(message)s',\n",
        "    level=logging.INFO,\n",
        "    filemode='a'\n",
        ")\n",
        "\n",
        "# Set experiment's device & deterministic behavior\n",
        "if CONFIG.cpu:\n",
        "    CONFIG.device = 'cpu'\n",
        "else:\n",
        "    CONFIG.device = 'cuda' if torch.cuda.is_available() else 'cpu'\n",
        "\n",
        "torch.manual_seed(CONFIG.seed)\n",
        "random.seed(CONFIG.seed)\n",
        "np.random.seed(CONFIG.seed)\n",
        "torch.backends.cudnn.benchmark = True\n",
        "torch.use_deterministic_algorithms(mode=True, warn_only=True)\n",
        "\n",
        "main()"
      ]
    },
    {
      "cell_type": "markdown",
      "metadata": {
        "id": "zKHNRC9jYJfx"
      },
      "source": [
        "#### 2.3.2 - ASH module after layer1.1.bn1 and layer2.1.conv2"
      ]
    },
    {
      "cell_type": "markdown",
      "metadata": {
        "id": "biIksL2CYJfy"
      },
      "source": [
        "##### 2.3.2.1 - Cartoon"
      ]
    },
    {
      "cell_type": "code",
      "execution_count": null,
      "metadata": {
        "vscode": {
          "languageId": "python"
        },
        "id": "jY-yDjgqYJfy"
      },
      "outputs": [],
      "source": [
        "warnings.filterwarnings('ignore', category=UserWarning)\n",
        "\n",
        "# Parse arguments\n",
        "conf = configurations['2.3.2.1']\n",
        "\n",
        "#args = parse_arguments()\n",
        "args = argparse.Namespace(**conf)\n",
        "print(args)\n",
        "CONFIG.update(vars(args))\n",
        "\n",
        "# Setup output directory\n",
        "CONFIG.save_dir = os.path.join('record', CONFIG.experiment_name)\n",
        "os.makedirs(CONFIG.save_dir, exist_ok=True)\n",
        "\n",
        "# Setup logging\n",
        "logging.basicConfig(\n",
        "    filename=os.path.join(CONFIG.save_dir, 'log.txt'),\n",
        "    format='%(message)s',\n",
        "    level=logging.INFO,\n",
        "    filemode='a'\n",
        ")\n",
        "\n",
        "# Set experiment's device & deterministic behavior\n",
        "if CONFIG.cpu:\n",
        "    CONFIG.device = 'cpu'\n",
        "else:\n",
        "    CONFIG.device = 'cuda' if torch.cuda.is_available() else 'cpu'\n",
        "\n",
        "torch.manual_seed(CONFIG.seed)\n",
        "random.seed(CONFIG.seed)\n",
        "np.random.seed(CONFIG.seed)\n",
        "torch.backends.cudnn.benchmark = True\n",
        "torch.use_deterministic_algorithms(mode=True, warn_only=True)\n",
        "\n",
        "main()"
      ]
    },
    {
      "cell_type": "markdown",
      "metadata": {
        "id": "Wny7J3BVYJfy"
      },
      "source": [
        "##### 2.3.2.2 - Sketch"
      ]
    },
    {
      "cell_type": "code",
      "execution_count": null,
      "metadata": {
        "vscode": {
          "languageId": "python"
        },
        "id": "HwMBq647YJfy"
      },
      "outputs": [],
      "source": [
        "warnings.filterwarnings('ignore', category=UserWarning)\n",
        "\n",
        "# Parse arguments\n",
        "conf = configurations['2.3.2.2']\n",
        "\n",
        "#args = parse_arguments()\n",
        "args = argparse.Namespace(**conf)\n",
        "print(args)\n",
        "CONFIG.update(vars(args))\n",
        "\n",
        "# Setup output directory\n",
        "CONFIG.save_dir = os.path.join('record', CONFIG.experiment_name)\n",
        "os.makedirs(CONFIG.save_dir, exist_ok=True)\n",
        "\n",
        "# Setup logging\n",
        "logging.basicConfig(\n",
        "    filename=os.path.join(CONFIG.save_dir, 'log.txt'),\n",
        "    format='%(message)s',\n",
        "    level=logging.INFO,\n",
        "    filemode='a'\n",
        ")\n",
        "\n",
        "# Set experiment's device & deterministic behavior\n",
        "if CONFIG.cpu:\n",
        "    CONFIG.device = 'cpu'\n",
        "else:\n",
        "    CONFIG.device = 'cuda' if torch.cuda.is_available() else 'cpu'\n",
        "\n",
        "torch.manual_seed(CONFIG.seed)\n",
        "random.seed(CONFIG.seed)\n",
        "np.random.seed(CONFIG.seed)\n",
        "torch.backends.cudnn.benchmark = True\n",
        "torch.use_deterministic_algorithms(mode=True, warn_only=True)\n",
        "\n",
        "main()"
      ]
    },
    {
      "cell_type": "markdown",
      "metadata": {
        "id": "3jvHVAUJYJfy"
      },
      "source": [
        "##### 2.3.2.3 - Photo"
      ]
    },
    {
      "cell_type": "code",
      "execution_count": null,
      "metadata": {
        "vscode": {
          "languageId": "python"
        },
        "id": "qMwyxEttYJfz"
      },
      "outputs": [],
      "source": [
        "warnings.filterwarnings('ignore', category=UserWarning)\n",
        "\n",
        "# Parse arguments\n",
        "conf = configurations['2.3.2.3']\n",
        "\n",
        "#args = parse_arguments()\n",
        "args = argparse.Namespace(**conf)\n",
        "print(args)\n",
        "CONFIG.update(vars(args))\n",
        "\n",
        "# Setup output directory\n",
        "CONFIG.save_dir = os.path.join('record', CONFIG.experiment_name)\n",
        "os.makedirs(CONFIG.save_dir, exist_ok=True)\n",
        "\n",
        "# Setup logging\n",
        "logging.basicConfig(\n",
        "    filename=os.path.join(CONFIG.save_dir, 'log.txt'),\n",
        "    format='%(message)s',\n",
        "    level=logging.INFO,\n",
        "    filemode='a'\n",
        ")\n",
        "\n",
        "# Set experiment's device & deterministic behavior\n",
        "if CONFIG.cpu:\n",
        "    CONFIG.device = 'cpu'\n",
        "else:\n",
        "    CONFIG.device = 'cuda' if torch.cuda.is_available() else 'cpu'\n",
        "\n",
        "torch.manual_seed(CONFIG.seed)\n",
        "random.seed(CONFIG.seed)\n",
        "np.random.seed(CONFIG.seed)\n",
        "torch.backends.cudnn.benchmark = True\n",
        "torch.use_deterministic_algorithms(mode=True, warn_only=True)\n",
        "\n",
        "main()"
      ]
    },
    {
      "cell_type": "markdown",
      "metadata": {
        "id": "kbG7a8UiYJfz"
      },
      "source": [
        "#### 2.3.3 - ASH module after layer1.1.conv1"
      ]
    },
    {
      "cell_type": "markdown",
      "metadata": {
        "id": "Wi68WhWTYJfz"
      },
      "source": [
        "##### 2.3.3.1 - Cartoon"
      ]
    },
    {
      "cell_type": "code",
      "execution_count": null,
      "metadata": {
        "vscode": {
          "languageId": "python"
        },
        "id": "i-wJD_jAYJfz"
      },
      "outputs": [],
      "source": [
        "warnings.filterwarnings('ignore', category=UserWarning)\n",
        "\n",
        "# Parse arguments\n",
        "conf = configurations['2.3.3.1']\n",
        "\n",
        "#args = parse_arguments()\n",
        "args = argparse.Namespace(**conf)\n",
        "print(args)\n",
        "CONFIG.update(vars(args))\n",
        "\n",
        "# Setup output directory\n",
        "CONFIG.save_dir = os.path.join('record', CONFIG.experiment_name)\n",
        "os.makedirs(CONFIG.save_dir, exist_ok=True)\n",
        "\n",
        "# Setup logging\n",
        "logging.basicConfig(\n",
        "    filename=os.path.join(CONFIG.save_dir, 'log.txt'),\n",
        "    format='%(message)s',\n",
        "    level=logging.INFO,\n",
        "    filemode='a'\n",
        ")\n",
        "\n",
        "# Set experiment's device & deterministic behavior\n",
        "if CONFIG.cpu:\n",
        "    CONFIG.device = 'cpu'\n",
        "else:\n",
        "    CONFIG.device = 'cuda' if torch.cuda.is_available() else 'cpu'\n",
        "\n",
        "torch.manual_seed(CONFIG.seed)\n",
        "random.seed(CONFIG.seed)\n",
        "np.random.seed(CONFIG.seed)\n",
        "torch.backends.cudnn.benchmark = True\n",
        "torch.use_deterministic_algorithms(mode=True, warn_only=True)\n",
        "\n",
        "main()"
      ]
    },
    {
      "cell_type": "markdown",
      "metadata": {
        "id": "6QtHBdt7YJfz"
      },
      "source": [
        "##### 2.3.3.2 - Sketch"
      ]
    },
    {
      "cell_type": "code",
      "execution_count": null,
      "metadata": {
        "vscode": {
          "languageId": "python"
        },
        "id": "GlBFOIfqYJfz"
      },
      "outputs": [],
      "source": [
        "warnings.filterwarnings('ignore', category=UserWarning)\n",
        "\n",
        "# Parse arguments\n",
        "conf = configurations['2.3.3.2']\n",
        "\n",
        "#args = parse_arguments()\n",
        "args = argparse.Namespace(**conf)\n",
        "print(args)\n",
        "CONFIG.update(vars(args))\n",
        "\n",
        "# Setup output directory\n",
        "CONFIG.save_dir = os.path.join('record', CONFIG.experiment_name)\n",
        "os.makedirs(CONFIG.save_dir, exist_ok=True)\n",
        "\n",
        "# Setup logging\n",
        "logging.basicConfig(\n",
        "    filename=os.path.join(CONFIG.save_dir, 'log.txt'),\n",
        "    format='%(message)s',\n",
        "    level=logging.INFO,\n",
        "    filemode='a'\n",
        ")\n",
        "\n",
        "# Set experiment's device & deterministic behavior\n",
        "if CONFIG.cpu:\n",
        "    CONFIG.device = 'cpu'\n",
        "else:\n",
        "    CONFIG.device = 'cuda' if torch.cuda.is_available() else 'cpu'\n",
        "\n",
        "torch.manual_seed(CONFIG.seed)\n",
        "random.seed(CONFIG.seed)\n",
        "np.random.seed(CONFIG.seed)\n",
        "torch.backends.cudnn.benchmark = True\n",
        "torch.use_deterministic_algorithms(mode=True, warn_only=True)\n",
        "\n",
        "main()"
      ]
    },
    {
      "cell_type": "markdown",
      "metadata": {
        "id": "3eu2sWrSYJfz"
      },
      "source": [
        "##### 2.3.3.3 - Photo"
      ]
    },
    {
      "cell_type": "code",
      "execution_count": null,
      "metadata": {
        "vscode": {
          "languageId": "python"
        },
        "id": "qOxRJ4IrYJfz"
      },
      "outputs": [],
      "source": [
        "warnings.filterwarnings('ignore', category=UserWarning)\n",
        "\n",
        "# Parse arguments\n",
        "conf = configurations['2.3.3.3']\n",
        "\n",
        "#args = parse_arguments()\n",
        "args = argparse.Namespace(**conf)\n",
        "print(args)\n",
        "CONFIG.update(vars(args))\n",
        "\n",
        "# Setup output directory\n",
        "CONFIG.save_dir = os.path.join('record', CONFIG.experiment_name)\n",
        "os.makedirs(CONFIG.save_dir, exist_ok=True)\n",
        "\n",
        "# Setup logging\n",
        "logging.basicConfig(\n",
        "    filename=os.path.join(CONFIG.save_dir, 'log.txt'),\n",
        "    format='%(message)s',\n",
        "    level=logging.INFO,\n",
        "    filemode='a'\n",
        ")\n",
        "\n",
        "# Set experiment's device & deterministic behavior\n",
        "if CONFIG.cpu:\n",
        "    CONFIG.device = 'cpu'\n",
        "else:\n",
        "    CONFIG.device = 'cuda' if torch.cuda.is_available() else 'cpu'\n",
        "\n",
        "torch.manual_seed(CONFIG.seed)\n",
        "random.seed(CONFIG.seed)\n",
        "np.random.seed(CONFIG.seed)\n",
        "torch.backends.cudnn.benchmark = True\n",
        "torch.use_deterministic_algorithms(mode=True, warn_only=True)\n",
        "\n",
        "main()"
      ]
    },
    {
      "cell_type": "markdown",
      "metadata": {
        "id": "5giD72RRYJf0"
      },
      "source": [
        "#### 2.3.4 - ASH module after layer1.1.bn2"
      ]
    },
    {
      "cell_type": "markdown",
      "metadata": {
        "id": "CYq_fvvRYJf0"
      },
      "source": [
        "##### 2.3.4.1 - Cartoon"
      ]
    },
    {
      "cell_type": "code",
      "execution_count": null,
      "metadata": {
        "vscode": {
          "languageId": "python"
        },
        "id": "9G5wWPS9YJf0"
      },
      "outputs": [],
      "source": [
        "warnings.filterwarnings('ignore', category=UserWarning)\n",
        "\n",
        "# Parse arguments\n",
        "conf = configurations['2.3.4.1']\n",
        "\n",
        "#args = parse_arguments()\n",
        "args = argparse.Namespace(**conf)\n",
        "print(args)\n",
        "CONFIG.update(vars(args))\n",
        "\n",
        "# Setup output directory\n",
        "CONFIG.save_dir = os.path.join('record', CONFIG.experiment_name)\n",
        "os.makedirs(CONFIG.save_dir, exist_ok=True)\n",
        "\n",
        "# Setup logging\n",
        "logging.basicConfig(\n",
        "    filename=os.path.join(CONFIG.save_dir, 'log.txt'),\n",
        "    format='%(message)s',\n",
        "    level=logging.INFO,\n",
        "    filemode='a'\n",
        ")\n",
        "\n",
        "# Set experiment's device & deterministic behavior\n",
        "if CONFIG.cpu:\n",
        "    CONFIG.device = 'cpu'\n",
        "else:\n",
        "    CONFIG.device = 'cuda' if torch.cuda.is_available() else 'cpu'\n",
        "\n",
        "torch.manual_seed(CONFIG.seed)\n",
        "random.seed(CONFIG.seed)\n",
        "np.random.seed(CONFIG.seed)\n",
        "torch.backends.cudnn.benchmark = True\n",
        "torch.use_deterministic_algorithms(mode=True, warn_only=True)\n",
        "\n",
        "main()"
      ]
    },
    {
      "cell_type": "markdown",
      "metadata": {
        "id": "xaEVulVZYJf0"
      },
      "source": [
        "##### 2.3.4.2 - Sketch"
      ]
    },
    {
      "cell_type": "code",
      "execution_count": null,
      "metadata": {
        "vscode": {
          "languageId": "python"
        },
        "id": "QITQ4IP1YJf0"
      },
      "outputs": [],
      "source": [
        "warnings.filterwarnings('ignore', category=UserWarning)\n",
        "\n",
        "# Parse arguments\n",
        "conf = configurations['2.3.4.2']\n",
        "\n",
        "#args = parse_arguments()\n",
        "args = argparse.Namespace(**conf)\n",
        "print(args)\n",
        "CONFIG.update(vars(args))\n",
        "\n",
        "# Setup output directory\n",
        "CONFIG.save_dir = os.path.join('record', CONFIG.experiment_name)\n",
        "os.makedirs(CONFIG.save_dir, exist_ok=True)\n",
        "\n",
        "# Setup logging\n",
        "logging.basicConfig(\n",
        "    filename=os.path.join(CONFIG.save_dir, 'log.txt'),\n",
        "    format='%(message)s',\n",
        "    level=logging.INFO,\n",
        "    filemode='a'\n",
        ")\n",
        "\n",
        "# Set experiment's device & deterministic behavior\n",
        "if CONFIG.cpu:\n",
        "    CONFIG.device = 'cpu'\n",
        "else:\n",
        "    CONFIG.device = 'cuda' if torch.cuda.is_available() else 'cpu'\n",
        "\n",
        "torch.manual_seed(CONFIG.seed)\n",
        "random.seed(CONFIG.seed)\n",
        "np.random.seed(CONFIG.seed)\n",
        "torch.backends.cudnn.benchmark = True\n",
        "torch.use_deterministic_algorithms(mode=True, warn_only=True)\n",
        "\n",
        "main()"
      ]
    },
    {
      "cell_type": "markdown",
      "metadata": {
        "id": "jfZBijfOYJf0"
      },
      "source": [
        "##### 2.3.4.3 - Photo"
      ]
    },
    {
      "cell_type": "code",
      "execution_count": null,
      "metadata": {
        "vscode": {
          "languageId": "python"
        },
        "id": "QL-qvPWyYJf0"
      },
      "outputs": [],
      "source": [
        "warnings.filterwarnings('ignore', category=UserWarning)\n",
        "\n",
        "# Parse arguments\n",
        "conf = configurations['2.3.4.3']\n",
        "\n",
        "#args = parse_arguments()\n",
        "args = argparse.Namespace(**conf)\n",
        "print(args)\n",
        "CONFIG.update(vars(args))\n",
        "\n",
        "# Setup output directory\n",
        "CONFIG.save_dir = os.path.join('record', CONFIG.experiment_name)\n",
        "os.makedirs(CONFIG.save_dir, exist_ok=True)\n",
        "\n",
        "# Setup logging\n",
        "logging.basicConfig(\n",
        "    filename=os.path.join(CONFIG.save_dir, 'log.txt'),\n",
        "    format='%(message)s',\n",
        "    level=logging.INFO,\n",
        "    filemode='a'\n",
        ")\n",
        "\n",
        "# Set experiment's device & deterministic behavior\n",
        "if CONFIG.cpu:\n",
        "    CONFIG.device = 'cpu'\n",
        "else:\n",
        "    CONFIG.device = 'cuda' if torch.cuda.is_available() else 'cpu'\n",
        "\n",
        "torch.manual_seed(CONFIG.seed)\n",
        "random.seed(CONFIG.seed)\n",
        "np.random.seed(CONFIG.seed)\n",
        "torch.backends.cudnn.benchmark = True\n",
        "torch.use_deterministic_algorithms(mode=True, warn_only=True)\n",
        "\n",
        "main()"
      ]
    },
    {
      "cell_type": "markdown",
      "metadata": {
        "id": "HwC-U_KlYJf1"
      },
      "source": [
        "#### 2.3.5 - ASH module after layer1.1.bn2 and layer2.1.bn2"
      ]
    },
    {
      "cell_type": "markdown",
      "metadata": {
        "id": "an6SJQtZYJf1"
      },
      "source": [
        "##### 2.3.5.1 - Cartoon"
      ]
    },
    {
      "cell_type": "code",
      "execution_count": null,
      "metadata": {
        "vscode": {
          "languageId": "python"
        },
        "id": "rvTMW3MCYJf1"
      },
      "outputs": [],
      "source": [
        "warnings.filterwarnings('ignore', category=UserWarning)\n",
        "\n",
        "# Parse arguments\n",
        "conf = configurations['2.3.5.1']\n",
        "\n",
        "#args = parse_arguments()\n",
        "args = argparse.Namespace(**conf)\n",
        "print(args)\n",
        "CONFIG.update(vars(args))\n",
        "\n",
        "# Setup output directory\n",
        "CONFIG.save_dir = os.path.join('record', CONFIG.experiment_name)\n",
        "os.makedirs(CONFIG.save_dir, exist_ok=True)\n",
        "\n",
        "# Setup logging\n",
        "logging.basicConfig(\n",
        "    filename=os.path.join(CONFIG.save_dir, 'log.txt'),\n",
        "    format='%(message)s',\n",
        "    level=logging.INFO,\n",
        "    filemode='a'\n",
        ")\n",
        "\n",
        "# Set experiment's device & deterministic behavior\n",
        "if CONFIG.cpu:\n",
        "    CONFIG.device = 'cpu'\n",
        "else:\n",
        "    CONFIG.device = 'cuda' if torch.cuda.is_available() else 'cpu'\n",
        "\n",
        "torch.manual_seed(CONFIG.seed)\n",
        "random.seed(CONFIG.seed)\n",
        "np.random.seed(CONFIG.seed)\n",
        "torch.backends.cudnn.benchmark = True\n",
        "torch.use_deterministic_algorithms(mode=True, warn_only=True)\n",
        "\n",
        "main()"
      ]
    },
    {
      "cell_type": "markdown",
      "metadata": {
        "id": "mYhwCibiYJf1"
      },
      "source": [
        "##### 2.3.5.2 - Sketch"
      ]
    },
    {
      "cell_type": "code",
      "execution_count": null,
      "metadata": {
        "vscode": {
          "languageId": "python"
        },
        "id": "YG7TiI_rYJf1"
      },
      "outputs": [],
      "source": [
        "warnings.filterwarnings('ignore', category=UserWarning)\n",
        "\n",
        "# Parse arguments\n",
        "conf = configurations['2.3.5.2']\n",
        "\n",
        "#args = parse_arguments()\n",
        "args = argparse.Namespace(**conf)\n",
        "print(args)\n",
        "CONFIG.update(vars(args))\n",
        "\n",
        "# Setup output directory\n",
        "CONFIG.save_dir = os.path.join('record', CONFIG.experiment_name)\n",
        "os.makedirs(CONFIG.save_dir, exist_ok=True)\n",
        "\n",
        "# Setup logging\n",
        "logging.basicConfig(\n",
        "    filename=os.path.join(CONFIG.save_dir, 'log.txt'),\n",
        "    format='%(message)s',\n",
        "    level=logging.INFO,\n",
        "    filemode='a'\n",
        ")\n",
        "\n",
        "# Set experiment's device & deterministic behavior\n",
        "if CONFIG.cpu:\n",
        "    CONFIG.device = 'cpu'\n",
        "else:\n",
        "    CONFIG.device = 'cuda' if torch.cuda.is_available() else 'cpu'\n",
        "\n",
        "torch.manual_seed(CONFIG.seed)\n",
        "random.seed(CONFIG.seed)\n",
        "np.random.seed(CONFIG.seed)\n",
        "torch.backends.cudnn.benchmark = True\n",
        "torch.use_deterministic_algorithms(mode=True, warn_only=True)\n",
        "\n",
        "main()"
      ]
    },
    {
      "cell_type": "markdown",
      "metadata": {
        "id": "AJLPFnimYJf1"
      },
      "source": [
        "##### 2.3.5.3 - Photo"
      ]
    },
    {
      "cell_type": "code",
      "execution_count": null,
      "metadata": {
        "vscode": {
          "languageId": "python"
        },
        "id": "JWkvAkomYJf1"
      },
      "outputs": [],
      "source": [
        "warnings.filterwarnings('ignore', category=UserWarning)\n",
        "\n",
        "# Parse arguments\n",
        "conf = configurations['2.3.5.3']\n",
        "\n",
        "#args = parse_arguments()\n",
        "args = argparse.Namespace(**conf)\n",
        "print(args)\n",
        "CONFIG.update(vars(args))\n",
        "\n",
        "# Setup output directory\n",
        "CONFIG.save_dir = os.path.join('record', CONFIG.experiment_name)\n",
        "os.makedirs(CONFIG.save_dir, exist_ok=True)\n",
        "\n",
        "# Setup logging\n",
        "logging.basicConfig(\n",
        "    filename=os.path.join(CONFIG.save_dir, 'log.txt'),\n",
        "    format='%(message)s',\n",
        "    level=logging.INFO,\n",
        "    filemode='a'\n",
        ")\n",
        "\n",
        "# Set experiment's device & deterministic behavior\n",
        "if CONFIG.cpu:\n",
        "    CONFIG.device = 'cpu'\n",
        "else:\n",
        "    CONFIG.device = 'cuda' if torch.cuda.is_available() else 'cpu'\n",
        "\n",
        "torch.manual_seed(CONFIG.seed)\n",
        "random.seed(CONFIG.seed)\n",
        "np.random.seed(CONFIG.seed)\n",
        "torch.backends.cudnn.benchmark = True\n",
        "torch.use_deterministic_algorithms(mode=True, warn_only=True)\n",
        "\n",
        "main()"
      ]
    },
    {
      "cell_type": "markdown",
      "metadata": {
        "id": "sizGXvMGYJf1"
      },
      "source": [
        "### 2.4 - Mask Out Ratio = 0.75"
      ]
    },
    {
      "cell_type": "markdown",
      "metadata": {
        "id": "N7QoJyOBYJf2"
      },
      "source": [
        "#### 2.4.1 - ASH module after layer2.1.conv2"
      ]
    },
    {
      "cell_type": "markdown",
      "metadata": {
        "id": "V6Ggo35ZYJf2"
      },
      "source": [
        "##### 2.4.1.1 - Cartoon"
      ]
    },
    {
      "cell_type": "code",
      "execution_count": null,
      "metadata": {
        "vscode": {
          "languageId": "python"
        },
        "id": "jiNAAa-hYJf2"
      },
      "outputs": [],
      "source": [
        "warnings.filterwarnings('ignore', category=UserWarning)\n",
        "\n",
        "# Parse arguments\n",
        "conf = configurations['2.4.1.1']\n",
        "\n",
        "#args = parse_arguments()\n",
        "args = argparse.Namespace(**conf)\n",
        "print(args)\n",
        "CONFIG.update(vars(args))\n",
        "\n",
        "# Setup output directory\n",
        "CONFIG.save_dir = os.path.join('record', CONFIG.experiment_name)\n",
        "os.makedirs(CONFIG.save_dir, exist_ok=True)\n",
        "\n",
        "# Setup logging\n",
        "logging.basicConfig(\n",
        "    filename=os.path.join(CONFIG.save_dir, 'log.txt'),\n",
        "    format='%(message)s',\n",
        "    level=logging.INFO,\n",
        "    filemode='a'\n",
        ")\n",
        "\n",
        "# Set experiment's device & deterministic behavior\n",
        "if CONFIG.cpu:\n",
        "    CONFIG.device = 'cpu'\n",
        "else:\n",
        "    CONFIG.device = 'cuda' if torch.cuda.is_available() else 'cpu'\n",
        "\n",
        "torch.manual_seed(CONFIG.seed)\n",
        "random.seed(CONFIG.seed)\n",
        "np.random.seed(CONFIG.seed)\n",
        "torch.backends.cudnn.benchmark = True\n",
        "torch.use_deterministic_algorithms(mode=True, warn_only=True)\n",
        "\n",
        "main()"
      ]
    },
    {
      "cell_type": "markdown",
      "metadata": {
        "id": "Qv7bPaD6YJf3"
      },
      "source": [
        "##### 2.4.1.2 - Sketch"
      ]
    },
    {
      "cell_type": "code",
      "execution_count": null,
      "metadata": {
        "vscode": {
          "languageId": "python"
        },
        "id": "KgqkiSLYYJf3"
      },
      "outputs": [],
      "source": [
        "warnings.filterwarnings('ignore', category=UserWarning)\n",
        "\n",
        "# Parse arguments\n",
        "conf = configurations['2.4.1.2']\n",
        "\n",
        "#args = parse_arguments()\n",
        "args = argparse.Namespace(**conf)\n",
        "print(args)\n",
        "CONFIG.update(vars(args))\n",
        "\n",
        "# Setup output directory\n",
        "CONFIG.save_dir = os.path.join('record', CONFIG.experiment_name)\n",
        "os.makedirs(CONFIG.save_dir, exist_ok=True)\n",
        "\n",
        "# Setup logging\n",
        "logging.basicConfig(\n",
        "    filename=os.path.join(CONFIG.save_dir, 'log.txt'),\n",
        "    format='%(message)s',\n",
        "    level=logging.INFO,\n",
        "    filemode='a'\n",
        ")\n",
        "\n",
        "# Set experiment's device & deterministic behavior\n",
        "if CONFIG.cpu:\n",
        "    CONFIG.device = 'cpu'\n",
        "else:\n",
        "    CONFIG.device = 'cuda' if torch.cuda.is_available() else 'cpu'\n",
        "\n",
        "torch.manual_seed(CONFIG.seed)\n",
        "random.seed(CONFIG.seed)\n",
        "np.random.seed(CONFIG.seed)\n",
        "torch.backends.cudnn.benchmark = True\n",
        "torch.use_deterministic_algorithms(mode=True, warn_only=True)\n",
        "\n",
        "main()"
      ]
    },
    {
      "cell_type": "markdown",
      "metadata": {
        "id": "T4kV3LDnYJf3"
      },
      "source": [
        "##### 2.4.1.3 - Photo"
      ]
    },
    {
      "cell_type": "code",
      "execution_count": null,
      "metadata": {
        "vscode": {
          "languageId": "python"
        },
        "id": "KYX9A2YhYJf3"
      },
      "outputs": [],
      "source": [
        "warnings.filterwarnings('ignore', category=UserWarning)\n",
        "\n",
        "# Parse arguments\n",
        "conf = configurations['2.4.1.3']\n",
        "\n",
        "#args = parse_arguments()\n",
        "args = argparse.Namespace(**conf)\n",
        "print(args)\n",
        "CONFIG.update(vars(args))\n",
        "\n",
        "# Setup output directory\n",
        "CONFIG.save_dir = os.path.join('record', CONFIG.experiment_name)\n",
        "os.makedirs(CONFIG.save_dir, exist_ok=True)\n",
        "\n",
        "# Setup logging\n",
        "logging.basicConfig(\n",
        "    filename=os.path.join(CONFIG.save_dir, 'log.txt'),\n",
        "    format='%(message)s',\n",
        "    level=logging.INFO,\n",
        "    filemode='a'\n",
        ")\n",
        "\n",
        "# Set experiment's device & deterministic behavior\n",
        "if CONFIG.cpu:\n",
        "    CONFIG.device = 'cpu'\n",
        "else:\n",
        "    CONFIG.device = 'cuda' if torch.cuda.is_available() else 'cpu'\n",
        "\n",
        "torch.manual_seed(CONFIG.seed)\n",
        "random.seed(CONFIG.seed)\n",
        "np.random.seed(CONFIG.seed)\n",
        "torch.backends.cudnn.benchmark = True\n",
        "torch.use_deterministic_algorithms(mode=True, warn_only=True)\n",
        "\n",
        "main()"
      ]
    },
    {
      "cell_type": "markdown",
      "metadata": {
        "id": "Ur_99rrEYJf3"
      },
      "source": [
        "#### 2.4.2 - ASH module after layer1.1.bn1 and layer2.1.conv2"
      ]
    },
    {
      "cell_type": "markdown",
      "metadata": {
        "id": "WycAu-jzYJf3"
      },
      "source": [
        "##### 2.4.2.1 - Cartoon"
      ]
    },
    {
      "cell_type": "code",
      "execution_count": null,
      "metadata": {
        "vscode": {
          "languageId": "python"
        },
        "id": "vxEnvs0tYJf4"
      },
      "outputs": [],
      "source": [
        "warnings.filterwarnings('ignore', category=UserWarning)\n",
        "\n",
        "# Parse arguments\n",
        "conf = configurations['2.4.2.1']\n",
        "\n",
        "#args = parse_arguments()\n",
        "args = argparse.Namespace(**conf)\n",
        "print(args)\n",
        "CONFIG.update(vars(args))\n",
        "\n",
        "# Setup output directory\n",
        "CONFIG.save_dir = os.path.join('record', CONFIG.experiment_name)\n",
        "os.makedirs(CONFIG.save_dir, exist_ok=True)\n",
        "\n",
        "# Setup logging\n",
        "logging.basicConfig(\n",
        "    filename=os.path.join(CONFIG.save_dir, 'log.txt'),\n",
        "    format='%(message)s',\n",
        "    level=logging.INFO,\n",
        "    filemode='a'\n",
        ")\n",
        "\n",
        "# Set experiment's device & deterministic behavior\n",
        "if CONFIG.cpu:\n",
        "    CONFIG.device = 'cpu'\n",
        "else:\n",
        "    CONFIG.device = 'cuda' if torch.cuda.is_available() else 'cpu'\n",
        "\n",
        "torch.manual_seed(CONFIG.seed)\n",
        "random.seed(CONFIG.seed)\n",
        "np.random.seed(CONFIG.seed)\n",
        "torch.backends.cudnn.benchmark = True\n",
        "torch.use_deterministic_algorithms(mode=True, warn_only=True)\n",
        "\n",
        "main()"
      ]
    },
    {
      "cell_type": "markdown",
      "metadata": {
        "id": "8sdKRo6oYJf4"
      },
      "source": [
        "##### 2.4.2.2 - Sketch"
      ]
    },
    {
      "cell_type": "code",
      "execution_count": null,
      "metadata": {
        "vscode": {
          "languageId": "python"
        },
        "id": "O3o1tIVlYJf4"
      },
      "outputs": [],
      "source": [
        "warnings.filterwarnings('ignore', category=UserWarning)\n",
        "\n",
        "# Parse arguments\n",
        "conf = configurations['2.4.2.2']\n",
        "\n",
        "#args = parse_arguments()\n",
        "args = argparse.Namespace(**conf)\n",
        "print(args)\n",
        "CONFIG.update(vars(args))\n",
        "\n",
        "# Setup output directory\n",
        "CONFIG.save_dir = os.path.join('record', CONFIG.experiment_name)\n",
        "os.makedirs(CONFIG.save_dir, exist_ok=True)\n",
        "\n",
        "# Setup logging\n",
        "logging.basicConfig(\n",
        "    filename=os.path.join(CONFIG.save_dir, 'log.txt'),\n",
        "    format='%(message)s',\n",
        "    level=logging.INFO,\n",
        "    filemode='a'\n",
        ")\n",
        "\n",
        "# Set experiment's device & deterministic behavior\n",
        "if CONFIG.cpu:\n",
        "    CONFIG.device = 'cpu'\n",
        "else:\n",
        "    CONFIG.device = 'cuda' if torch.cuda.is_available() else 'cpu'\n",
        "\n",
        "torch.manual_seed(CONFIG.seed)\n",
        "random.seed(CONFIG.seed)\n",
        "np.random.seed(CONFIG.seed)\n",
        "torch.backends.cudnn.benchmark = True\n",
        "torch.use_deterministic_algorithms(mode=True, warn_only=True)\n",
        "\n",
        "main()"
      ]
    },
    {
      "cell_type": "markdown",
      "metadata": {
        "id": "zRSm1eCoYJf4"
      },
      "source": [
        "##### 2.4.2.3 - Photo"
      ]
    },
    {
      "cell_type": "code",
      "execution_count": null,
      "metadata": {
        "vscode": {
          "languageId": "python"
        },
        "id": "0Pgvbz9PYJf4"
      },
      "outputs": [],
      "source": [
        "warnings.filterwarnings('ignore', category=UserWarning)\n",
        "\n",
        "# Parse arguments\n",
        "conf = configurations['2.4.2.3']\n",
        "\n",
        "#args = parse_arguments()\n",
        "args = argparse.Namespace(**conf)\n",
        "print(args)\n",
        "CONFIG.update(vars(args))\n",
        "\n",
        "# Setup output directory\n",
        "CONFIG.save_dir = os.path.join('record', CONFIG.experiment_name)\n",
        "os.makedirs(CONFIG.save_dir, exist_ok=True)\n",
        "\n",
        "# Setup logging\n",
        "logging.basicConfig(\n",
        "    filename=os.path.join(CONFIG.save_dir, 'log.txt'),\n",
        "    format='%(message)s',\n",
        "    level=logging.INFO,\n",
        "    filemode='a'\n",
        ")\n",
        "\n",
        "# Set experiment's device & deterministic behavior\n",
        "if CONFIG.cpu:\n",
        "    CONFIG.device = 'cpu'\n",
        "else:\n",
        "    CONFIG.device = 'cuda' if torch.cuda.is_available() else 'cpu'\n",
        "\n",
        "torch.manual_seed(CONFIG.seed)\n",
        "random.seed(CONFIG.seed)\n",
        "np.random.seed(CONFIG.seed)\n",
        "torch.backends.cudnn.benchmark = True\n",
        "torch.use_deterministic_algorithms(mode=True, warn_only=True)\n",
        "\n",
        "main()"
      ]
    },
    {
      "cell_type": "markdown",
      "metadata": {
        "id": "yxji2OuLYJf4"
      },
      "source": [
        "#### 2.4.3 - ASH module after layer1.1.conv1"
      ]
    },
    {
      "cell_type": "markdown",
      "metadata": {
        "id": "yH8F_sPBYJf4"
      },
      "source": [
        "##### 2.4.3.1 - Cartoon"
      ]
    },
    {
      "cell_type": "code",
      "execution_count": null,
      "metadata": {
        "vscode": {
          "languageId": "python"
        },
        "id": "mvEhH7oxYJf4"
      },
      "outputs": [],
      "source": [
        "warnings.filterwarnings('ignore', category=UserWarning)\n",
        "\n",
        "# Parse arguments\n",
        "conf = configurations['2.4.3.1']\n",
        "\n",
        "#args = parse_arguments()\n",
        "args = argparse.Namespace(**conf)\n",
        "print(args)\n",
        "CONFIG.update(vars(args))\n",
        "\n",
        "# Setup output directory\n",
        "CONFIG.save_dir = os.path.join('record', CONFIG.experiment_name)\n",
        "os.makedirs(CONFIG.save_dir, exist_ok=True)\n",
        "\n",
        "# Setup logging\n",
        "logging.basicConfig(\n",
        "    filename=os.path.join(CONFIG.save_dir, 'log.txt'),\n",
        "    format='%(message)s',\n",
        "    level=logging.INFO,\n",
        "    filemode='a'\n",
        ")\n",
        "\n",
        "# Set experiment's device & deterministic behavior\n",
        "if CONFIG.cpu:\n",
        "    CONFIG.device = 'cpu'\n",
        "else:\n",
        "    CONFIG.device = 'cuda' if torch.cuda.is_available() else 'cpu'\n",
        "\n",
        "torch.manual_seed(CONFIG.seed)\n",
        "random.seed(CONFIG.seed)\n",
        "np.random.seed(CONFIG.seed)\n",
        "torch.backends.cudnn.benchmark = True\n",
        "torch.use_deterministic_algorithms(mode=True, warn_only=True)\n",
        "\n",
        "main()"
      ]
    },
    {
      "cell_type": "markdown",
      "metadata": {
        "id": "zFZ9hAjjYJf5"
      },
      "source": [
        "##### 2.4.3.2 - Sketch"
      ]
    },
    {
      "cell_type": "code",
      "execution_count": null,
      "metadata": {
        "vscode": {
          "languageId": "python"
        },
        "id": "Kp8dK2UHYJf5"
      },
      "outputs": [],
      "source": [
        "warnings.filterwarnings('ignore', category=UserWarning)\n",
        "\n",
        "# Parse arguments\n",
        "conf = configurations['2.4.3.2']\n",
        "\n",
        "#args = parse_arguments()\n",
        "args = argparse.Namespace(**conf)\n",
        "print(args)\n",
        "CONFIG.update(vars(args))\n",
        "\n",
        "# Setup output directory\n",
        "CONFIG.save_dir = os.path.join('record', CONFIG.experiment_name)\n",
        "os.makedirs(CONFIG.save_dir, exist_ok=True)\n",
        "\n",
        "# Setup logging\n",
        "logging.basicConfig(\n",
        "    filename=os.path.join(CONFIG.save_dir, 'log.txt'),\n",
        "    format='%(message)s',\n",
        "    level=logging.INFO,\n",
        "    filemode='a'\n",
        ")\n",
        "\n",
        "# Set experiment's device & deterministic behavior\n",
        "if CONFIG.cpu:\n",
        "    CONFIG.device = 'cpu'\n",
        "else:\n",
        "    CONFIG.device = 'cuda' if torch.cuda.is_available() else 'cpu'\n",
        "\n",
        "torch.manual_seed(CONFIG.seed)\n",
        "random.seed(CONFIG.seed)\n",
        "np.random.seed(CONFIG.seed)\n",
        "torch.backends.cudnn.benchmark = True\n",
        "torch.use_deterministic_algorithms(mode=True, warn_only=True)\n",
        "\n",
        "main()"
      ]
    },
    {
      "cell_type": "markdown",
      "metadata": {
        "id": "urxQdAoPYJf5"
      },
      "source": [
        "##### 2.4.3.3 - Photo"
      ]
    },
    {
      "cell_type": "code",
      "execution_count": null,
      "metadata": {
        "vscode": {
          "languageId": "python"
        },
        "id": "1a4kFLKRYJf5"
      },
      "outputs": [],
      "source": [
        "warnings.filterwarnings('ignore', category=UserWarning)\n",
        "\n",
        "# Parse arguments\n",
        "conf = configurations['2.4.3.3']\n",
        "\n",
        "#args = parse_arguments()\n",
        "args = argparse.Namespace(**conf)\n",
        "print(args)\n",
        "CONFIG.update(vars(args))\n",
        "\n",
        "# Setup output directory\n",
        "CONFIG.save_dir = os.path.join('record', CONFIG.experiment_name)\n",
        "os.makedirs(CONFIG.save_dir, exist_ok=True)\n",
        "\n",
        "# Setup logging\n",
        "logging.basicConfig(\n",
        "    filename=os.path.join(CONFIG.save_dir, 'log.txt'),\n",
        "    format='%(message)s',\n",
        "    level=logging.INFO,\n",
        "    filemode='a'\n",
        ")\n",
        "\n",
        "# Set experiment's device & deterministic behavior\n",
        "if CONFIG.cpu:\n",
        "    CONFIG.device = 'cpu'\n",
        "else:\n",
        "    CONFIG.device = 'cuda' if torch.cuda.is_available() else 'cpu'\n",
        "\n",
        "torch.manual_seed(CONFIG.seed)\n",
        "random.seed(CONFIG.seed)\n",
        "np.random.seed(CONFIG.seed)\n",
        "torch.backends.cudnn.benchmark = True\n",
        "torch.use_deterministic_algorithms(mode=True, warn_only=True)\n",
        "\n",
        "main()"
      ]
    },
    {
      "cell_type": "markdown",
      "metadata": {
        "id": "XSpFoukBYJf5"
      },
      "source": [
        "#### 2.4.4 - ASH module after layer1.1.bn2"
      ]
    },
    {
      "cell_type": "markdown",
      "metadata": {
        "id": "btCax5GxYJf5"
      },
      "source": [
        "##### 2.4.4.1 - Cartoon"
      ]
    },
    {
      "cell_type": "code",
      "execution_count": null,
      "metadata": {
        "vscode": {
          "languageId": "python"
        },
        "id": "GtikHSRPYJf5"
      },
      "outputs": [],
      "source": [
        "warnings.filterwarnings('ignore', category=UserWarning)\n",
        "\n",
        "# Parse arguments\n",
        "conf = configurations['2.4.4.1']\n",
        "\n",
        "#args = parse_arguments()\n",
        "args = argparse.Namespace(**conf)\n",
        "print(args)\n",
        "CONFIG.update(vars(args))\n",
        "\n",
        "# Setup output directory\n",
        "CONFIG.save_dir = os.path.join('record', CONFIG.experiment_name)\n",
        "os.makedirs(CONFIG.save_dir, exist_ok=True)\n",
        "\n",
        "# Setup logging\n",
        "logging.basicConfig(\n",
        "    filename=os.path.join(CONFIG.save_dir, 'log.txt'),\n",
        "    format='%(message)s',\n",
        "    level=logging.INFO,\n",
        "    filemode='a'\n",
        ")\n",
        "\n",
        "# Set experiment's device & deterministic behavior\n",
        "if CONFIG.cpu:\n",
        "    CONFIG.device = 'cpu'\n",
        "else:\n",
        "    CONFIG.device = 'cuda' if torch.cuda.is_available() else 'cpu'\n",
        "\n",
        "torch.manual_seed(CONFIG.seed)\n",
        "random.seed(CONFIG.seed)\n",
        "np.random.seed(CONFIG.seed)\n",
        "torch.backends.cudnn.benchmark = True\n",
        "torch.use_deterministic_algorithms(mode=True, warn_only=True)\n",
        "\n",
        "main()"
      ]
    },
    {
      "cell_type": "markdown",
      "metadata": {
        "id": "FY08Nbb1YJf5"
      },
      "source": [
        "##### 2.4.4.2 - Sketch"
      ]
    },
    {
      "cell_type": "code",
      "execution_count": null,
      "metadata": {
        "vscode": {
          "languageId": "python"
        },
        "id": "L3RsinSAYJf6"
      },
      "outputs": [],
      "source": [
        "warnings.filterwarnings('ignore', category=UserWarning)\n",
        "\n",
        "# Parse arguments\n",
        "conf = configurations['2.4.4.2']\n",
        "\n",
        "#args = parse_arguments()\n",
        "args = argparse.Namespace(**conf)\n",
        "print(args)\n",
        "CONFIG.update(vars(args))\n",
        "\n",
        "# Setup output directory\n",
        "CONFIG.save_dir = os.path.join('record', CONFIG.experiment_name)\n",
        "os.makedirs(CONFIG.save_dir, exist_ok=True)\n",
        "\n",
        "# Setup logging\n",
        "logging.basicConfig(\n",
        "    filename=os.path.join(CONFIG.save_dir, 'log.txt'),\n",
        "    format='%(message)s',\n",
        "    level=logging.INFO,\n",
        "    filemode='a'\n",
        ")\n",
        "\n",
        "# Set experiment's device & deterministic behavior\n",
        "if CONFIG.cpu:\n",
        "    CONFIG.device = 'cpu'\n",
        "else:\n",
        "    CONFIG.device = 'cuda' if torch.cuda.is_available() else 'cpu'\n",
        "\n",
        "torch.manual_seed(CONFIG.seed)\n",
        "random.seed(CONFIG.seed)\n",
        "np.random.seed(CONFIG.seed)\n",
        "torch.backends.cudnn.benchmark = True\n",
        "torch.use_deterministic_algorithms(mode=True, warn_only=True)\n",
        "\n",
        "main()"
      ]
    },
    {
      "cell_type": "markdown",
      "metadata": {
        "id": "KytpeSkIYJf6"
      },
      "source": [
        "##### 2.4.4.3 - Photo"
      ]
    },
    {
      "cell_type": "code",
      "execution_count": null,
      "metadata": {
        "vscode": {
          "languageId": "python"
        },
        "id": "r5OJnqDQYJf6"
      },
      "outputs": [],
      "source": [
        "warnings.filterwarnings('ignore', category=UserWarning)\n",
        "\n",
        "# Parse arguments\n",
        "conf = configurations['2.4.4.3']\n",
        "\n",
        "#args = parse_arguments()\n",
        "args = argparse.Namespace(**conf)\n",
        "print(args)\n",
        "CONFIG.update(vars(args))\n",
        "\n",
        "# Setup output directory\n",
        "CONFIG.save_dir = os.path.join('record', CONFIG.experiment_name)\n",
        "os.makedirs(CONFIG.save_dir, exist_ok=True)\n",
        "\n",
        "# Setup logging\n",
        "logging.basicConfig(\n",
        "    filename=os.path.join(CONFIG.save_dir, 'log.txt'),\n",
        "    format='%(message)s',\n",
        "    level=logging.INFO,\n",
        "    filemode='a'\n",
        ")\n",
        "\n",
        "# Set experiment's device & deterministic behavior\n",
        "if CONFIG.cpu:\n",
        "    CONFIG.device = 'cpu'\n",
        "else:\n",
        "    CONFIG.device = 'cuda' if torch.cuda.is_available() else 'cpu'\n",
        "\n",
        "torch.manual_seed(CONFIG.seed)\n",
        "random.seed(CONFIG.seed)\n",
        "np.random.seed(CONFIG.seed)\n",
        "torch.backends.cudnn.benchmark = True\n",
        "torch.use_deterministic_algorithms(mode=True, warn_only=True)\n",
        "\n",
        "main()"
      ]
    },
    {
      "cell_type": "markdown",
      "metadata": {
        "id": "LOlR0MZqYJf6"
      },
      "source": [
        "#### 2.4.5 - ASH module after layer1.1.bn2 and layer2.1.bn2"
      ]
    },
    {
      "cell_type": "markdown",
      "metadata": {
        "id": "dni02SQHYJf6"
      },
      "source": [
        "##### 2.4.5.1 - Cartoon"
      ]
    },
    {
      "cell_type": "code",
      "execution_count": null,
      "metadata": {
        "vscode": {
          "languageId": "python"
        },
        "id": "ijNC4-gYYJf7"
      },
      "outputs": [],
      "source": [
        "warnings.filterwarnings('ignore', category=UserWarning)\n",
        "\n",
        "# Parse arguments\n",
        "conf = configurations['2.4.5.1']\n",
        "\n",
        "#args = parse_arguments()\n",
        "args = argparse.Namespace(**conf)\n",
        "print(args)\n",
        "CONFIG.update(vars(args))\n",
        "\n",
        "# Setup output directory\n",
        "CONFIG.save_dir = os.path.join('record', CONFIG.experiment_name)\n",
        "os.makedirs(CONFIG.save_dir, exist_ok=True)\n",
        "\n",
        "# Setup logging\n",
        "logging.basicConfig(\n",
        "    filename=os.path.join(CONFIG.save_dir, 'log.txt'),\n",
        "    format='%(message)s',\n",
        "    level=logging.INFO,\n",
        "    filemode='a'\n",
        ")\n",
        "\n",
        "# Set experiment's device & deterministic behavior\n",
        "if CONFIG.cpu:\n",
        "    CONFIG.device = 'cpu'\n",
        "else:\n",
        "    CONFIG.device = 'cuda' if torch.cuda.is_available() else 'cpu'\n",
        "\n",
        "torch.manual_seed(CONFIG.seed)\n",
        "random.seed(CONFIG.seed)\n",
        "np.random.seed(CONFIG.seed)\n",
        "torch.backends.cudnn.benchmark = True\n",
        "torch.use_deterministic_algorithms(mode=True, warn_only=True)\n",
        "\n",
        "main()"
      ]
    },
    {
      "cell_type": "markdown",
      "metadata": {
        "id": "f4cf5h0VYJf7"
      },
      "source": [
        "##### 2.4.5.2 - Sketch"
      ]
    },
    {
      "cell_type": "code",
      "execution_count": null,
      "metadata": {
        "vscode": {
          "languageId": "python"
        },
        "id": "Z7K6w7PkYJf7"
      },
      "outputs": [],
      "source": [
        "warnings.filterwarnings('ignore', category=UserWarning)\n",
        "\n",
        "# Parse arguments\n",
        "conf = configurations['2.4.5.2']\n",
        "\n",
        "#args = parse_arguments()\n",
        "args = argparse.Namespace(**conf)\n",
        "print(args)\n",
        "CONFIG.update(vars(args))\n",
        "\n",
        "# Setup output directory\n",
        "CONFIG.save_dir = os.path.join('record', CONFIG.experiment_name)\n",
        "os.makedirs(CONFIG.save_dir, exist_ok=True)\n",
        "\n",
        "# Setup logging\n",
        "logging.basicConfig(\n",
        "    filename=os.path.join(CONFIG.save_dir, 'log.txt'),\n",
        "    format='%(message)s',\n",
        "    level=logging.INFO,\n",
        "    filemode='a'\n",
        ")\n",
        "\n",
        "# Set experiment's device & deterministic behavior\n",
        "if CONFIG.cpu:\n",
        "    CONFIG.device = 'cpu'\n",
        "else:\n",
        "    CONFIG.device = 'cuda' if torch.cuda.is_available() else 'cpu'\n",
        "\n",
        "torch.manual_seed(CONFIG.seed)\n",
        "random.seed(CONFIG.seed)\n",
        "np.random.seed(CONFIG.seed)\n",
        "torch.backends.cudnn.benchmark = True\n",
        "torch.use_deterministic_algorithms(mode=True, warn_only=True)\n",
        "\n",
        "main()"
      ]
    },
    {
      "cell_type": "markdown",
      "metadata": {
        "id": "ux5w3A9HYJf7"
      },
      "source": [
        "##### 2.4.5.3 - Photo"
      ]
    },
    {
      "cell_type": "code",
      "execution_count": null,
      "metadata": {
        "vscode": {
          "languageId": "python"
        },
        "id": "Bi1z60lMYJf7"
      },
      "outputs": [],
      "source": [
        "warnings.filterwarnings('ignore', category=UserWarning)\n",
        "\n",
        "# Parse arguments\n",
        "conf = configurations['2.4.5.3']\n",
        "\n",
        "#args = parse_arguments()\n",
        "args = argparse.Namespace(**conf)\n",
        "print(args)\n",
        "CONFIG.update(vars(args))\n",
        "\n",
        "# Setup output directory\n",
        "CONFIG.save_dir = os.path.join('record', CONFIG.experiment_name)\n",
        "os.makedirs(CONFIG.save_dir, exist_ok=True)\n",
        "\n",
        "# Setup logging\n",
        "logging.basicConfig(\n",
        "    filename=os.path.join(CONFIG.save_dir, 'log.txt'),\n",
        "    format='%(message)s',\n",
        "    level=logging.INFO,\n",
        "    filemode='a'\n",
        ")\n",
        "\n",
        "# Set experiment's device & deterministic behavior\n",
        "if CONFIG.cpu:\n",
        "    CONFIG.device = 'cpu'\n",
        "else:\n",
        "    CONFIG.device = 'cuda' if torch.cuda.is_available() else 'cpu'\n",
        "\n",
        "torch.manual_seed(CONFIG.seed)\n",
        "random.seed(CONFIG.seed)\n",
        "np.random.seed(CONFIG.seed)\n",
        "torch.backends.cudnn.benchmark = True\n",
        "torch.use_deterministic_algorithms(mode=True, warn_only=True)\n",
        "\n",
        "main()"
      ]
    },
    {
      "cell_type": "markdown",
      "metadata": {
        "id": "rele2MbEYJf7"
      },
      "source": [
        "### 2.5 - Mask Out Ratio = 1.00"
      ]
    },
    {
      "cell_type": "markdown",
      "metadata": {
        "id": "H_J5fz9pYJf7"
      },
      "source": [
        "#### 2.5.1 - ASH module after layer2.1.conv2"
      ]
    },
    {
      "cell_type": "markdown",
      "metadata": {
        "id": "IMTyCDIwYJf7"
      },
      "source": [
        "##### 2.5.1.1 - Cartoon"
      ]
    },
    {
      "cell_type": "code",
      "execution_count": null,
      "metadata": {
        "vscode": {
          "languageId": "python"
        },
        "id": "Y2QaF4bMYJf8"
      },
      "outputs": [],
      "source": [
        "warnings.filterwarnings('ignore', category=UserWarning)\n",
        "\n",
        "# Parse arguments\n",
        "conf = configurations['2.5.1.1']\n",
        "\n",
        "#args = parse_arguments()\n",
        "args = argparse.Namespace(**conf)\n",
        "print(args)\n",
        "CONFIG.update(vars(args))\n",
        "\n",
        "# Setup output directory\n",
        "CONFIG.save_dir = os.path.join('record', CONFIG.experiment_name)\n",
        "os.makedirs(CONFIG.save_dir, exist_ok=True)\n",
        "\n",
        "# Setup logging\n",
        "logging.basicConfig(\n",
        "    filename=os.path.join(CONFIG.save_dir, 'log.txt'),\n",
        "    format='%(message)s',\n",
        "    level=logging.INFO,\n",
        "    filemode='a'\n",
        ")\n",
        "\n",
        "# Set experiment's device & deterministic behavior\n",
        "if CONFIG.cpu:\n",
        "    CONFIG.device = 'cpu'\n",
        "else:\n",
        "    CONFIG.device = 'cuda' if torch.cuda.is_available() else 'cpu'\n",
        "\n",
        "torch.manual_seed(CONFIG.seed)\n",
        "random.seed(CONFIG.seed)\n",
        "np.random.seed(CONFIG.seed)\n",
        "torch.backends.cudnn.benchmark = True\n",
        "torch.use_deterministic_algorithms(mode=True, warn_only=True)\n",
        "\n",
        "main()"
      ]
    },
    {
      "cell_type": "markdown",
      "metadata": {
        "id": "xwpJLtu_YJf8"
      },
      "source": [
        "##### 2.5.1.2 - Sketch"
      ]
    },
    {
      "cell_type": "code",
      "execution_count": null,
      "metadata": {
        "vscode": {
          "languageId": "python"
        },
        "id": "QsHOZ_MKYJf8"
      },
      "outputs": [],
      "source": [
        "warnings.filterwarnings('ignore', category=UserWarning)\n",
        "\n",
        "# Parse arguments\n",
        "conf = configurations['2.5.1.2']\n",
        "\n",
        "#args = parse_arguments()\n",
        "args = argparse.Namespace(**conf)\n",
        "print(args)\n",
        "CONFIG.update(vars(args))\n",
        "\n",
        "# Setup output directory\n",
        "CONFIG.save_dir = os.path.join('record', CONFIG.experiment_name)\n",
        "os.makedirs(CONFIG.save_dir, exist_ok=True)\n",
        "\n",
        "# Setup logging\n",
        "logging.basicConfig(\n",
        "    filename=os.path.join(CONFIG.save_dir, 'log.txt'),\n",
        "    format='%(message)s',\n",
        "    level=logging.INFO,\n",
        "    filemode='a'\n",
        ")\n",
        "\n",
        "# Set experiment's device & deterministic behavior\n",
        "if CONFIG.cpu:\n",
        "    CONFIG.device = 'cpu'\n",
        "else:\n",
        "    CONFIG.device = 'cuda' if torch.cuda.is_available() else 'cpu'\n",
        "\n",
        "torch.manual_seed(CONFIG.seed)\n",
        "random.seed(CONFIG.seed)\n",
        "np.random.seed(CONFIG.seed)\n",
        "torch.backends.cudnn.benchmark = True\n",
        "torch.use_deterministic_algorithms(mode=True, warn_only=True)\n",
        "\n",
        "main()"
      ]
    },
    {
      "cell_type": "markdown",
      "metadata": {
        "id": "1VSKBl2KYJf8"
      },
      "source": [
        "##### 2.5.1.3 - Photo"
      ]
    },
    {
      "cell_type": "code",
      "execution_count": null,
      "metadata": {
        "vscode": {
          "languageId": "python"
        },
        "id": "jTPMRx08YJf8"
      },
      "outputs": [],
      "source": [
        "warnings.filterwarnings('ignore', category=UserWarning)\n",
        "\n",
        "# Parse arguments\n",
        "conf = configurations['2.5.1.3']\n",
        "\n",
        "#args = parse_arguments()\n",
        "args = argparse.Namespace(**conf)\n",
        "print(args)\n",
        "CONFIG.update(vars(args))\n",
        "\n",
        "# Setup output directory\n",
        "CONFIG.save_dir = os.path.join('record', CONFIG.experiment_name)\n",
        "os.makedirs(CONFIG.save_dir, exist_ok=True)\n",
        "\n",
        "# Setup logging\n",
        "logging.basicConfig(\n",
        "    filename=os.path.join(CONFIG.save_dir, 'log.txt'),\n",
        "    format='%(message)s',\n",
        "    level=logging.INFO,\n",
        "    filemode='a'\n",
        ")\n",
        "\n",
        "# Set experiment's device & deterministic behavior\n",
        "if CONFIG.cpu:\n",
        "    CONFIG.device = 'cpu'\n",
        "else:\n",
        "    CONFIG.device = 'cuda' if torch.cuda.is_available() else 'cpu'\n",
        "\n",
        "torch.manual_seed(CONFIG.seed)\n",
        "random.seed(CONFIG.seed)\n",
        "np.random.seed(CONFIG.seed)\n",
        "torch.backends.cudnn.benchmark = True\n",
        "torch.use_deterministic_algorithms(mode=True, warn_only=True)\n",
        "\n",
        "main()"
      ]
    },
    {
      "cell_type": "markdown",
      "metadata": {
        "id": "eZwzDGXQYJf8"
      },
      "source": [
        "#### 2.5.2 - ASH module after layer1.1.bn1 and layer2.1.conv2"
      ]
    },
    {
      "cell_type": "markdown",
      "metadata": {
        "id": "r87RTJQrYJf8"
      },
      "source": [
        "##### 2.5.2.1 - Cartoon"
      ]
    },
    {
      "cell_type": "code",
      "execution_count": null,
      "metadata": {
        "vscode": {
          "languageId": "python"
        },
        "id": "s9-Fq0B5YJf8"
      },
      "outputs": [],
      "source": [
        "warnings.filterwarnings('ignore', category=UserWarning)\n",
        "\n",
        "# Parse arguments\n",
        "conf = configurations['2.5.2.1']\n",
        "\n",
        "#args = parse_arguments()\n",
        "args = argparse.Namespace(**conf)\n",
        "print(args)\n",
        "CONFIG.update(vars(args))\n",
        "\n",
        "# Setup output directory\n",
        "CONFIG.save_dir = os.path.join('record', CONFIG.experiment_name)\n",
        "os.makedirs(CONFIG.save_dir, exist_ok=True)\n",
        "\n",
        "# Setup logging\n",
        "logging.basicConfig(\n",
        "    filename=os.path.join(CONFIG.save_dir, 'log.txt'),\n",
        "    format='%(message)s',\n",
        "    level=logging.INFO,\n",
        "    filemode='a'\n",
        ")\n",
        "\n",
        "# Set experiment's device & deterministic behavior\n",
        "if CONFIG.cpu:\n",
        "    CONFIG.device = 'cpu'\n",
        "else:\n",
        "    CONFIG.device = 'cuda' if torch.cuda.is_available() else 'cpu'\n",
        "\n",
        "torch.manual_seed(CONFIG.seed)\n",
        "random.seed(CONFIG.seed)\n",
        "np.random.seed(CONFIG.seed)\n",
        "torch.backends.cudnn.benchmark = True\n",
        "torch.use_deterministic_algorithms(mode=True, warn_only=True)\n",
        "\n",
        "main()"
      ]
    },
    {
      "cell_type": "markdown",
      "metadata": {
        "id": "yd41qebrYJf9"
      },
      "source": [
        "##### 2.5.2.2 - Sketch"
      ]
    },
    {
      "cell_type": "code",
      "execution_count": null,
      "metadata": {
        "vscode": {
          "languageId": "python"
        },
        "id": "7Vq0b5jaYJf9"
      },
      "outputs": [],
      "source": [
        "warnings.filterwarnings('ignore', category=UserWarning)\n",
        "\n",
        "# Parse arguments\n",
        "conf = configurations['2.5.2.2']\n",
        "\n",
        "#args = parse_arguments()\n",
        "args = argparse.Namespace(**conf)\n",
        "print(args)\n",
        "CONFIG.update(vars(args))\n",
        "\n",
        "# Setup output directory\n",
        "CONFIG.save_dir = os.path.join('record', CONFIG.experiment_name)\n",
        "os.makedirs(CONFIG.save_dir, exist_ok=True)\n",
        "\n",
        "# Setup logging\n",
        "logging.basicConfig(\n",
        "    filename=os.path.join(CONFIG.save_dir, 'log.txt'),\n",
        "    format='%(message)s',\n",
        "    level=logging.INFO,\n",
        "    filemode='a'\n",
        ")\n",
        "\n",
        "# Set experiment's device & deterministic behavior\n",
        "if CONFIG.cpu:\n",
        "    CONFIG.device = 'cpu'\n",
        "else:\n",
        "    CONFIG.device = 'cuda' if torch.cuda.is_available() else 'cpu'\n",
        "\n",
        "torch.manual_seed(CONFIG.seed)\n",
        "random.seed(CONFIG.seed)\n",
        "np.random.seed(CONFIG.seed)\n",
        "torch.backends.cudnn.benchmark = True\n",
        "torch.use_deterministic_algorithms(mode=True, warn_only=True)\n",
        "\n",
        "main()"
      ]
    },
    {
      "cell_type": "markdown",
      "metadata": {
        "id": "B3MLvj2OYJf9"
      },
      "source": [
        "##### 2.5.2.3 - Photo"
      ]
    },
    {
      "cell_type": "code",
      "execution_count": null,
      "metadata": {
        "vscode": {
          "languageId": "python"
        },
        "id": "MmB3-GB1YJf9"
      },
      "outputs": [],
      "source": [
        "warnings.filterwarnings('ignore', category=UserWarning)\n",
        "\n",
        "# Parse arguments\n",
        "conf = configurations['2.5.2.3']\n",
        "\n",
        "#args = parse_arguments()\n",
        "args = argparse.Namespace(**conf)\n",
        "print(args)\n",
        "CONFIG.update(vars(args))\n",
        "\n",
        "# Setup output directory\n",
        "CONFIG.save_dir = os.path.join('record', CONFIG.experiment_name)\n",
        "os.makedirs(CONFIG.save_dir, exist_ok=True)\n",
        "\n",
        "# Setup logging\n",
        "logging.basicConfig(\n",
        "    filename=os.path.join(CONFIG.save_dir, 'log.txt'),\n",
        "    format='%(message)s',\n",
        "    level=logging.INFO,\n",
        "    filemode='a'\n",
        ")\n",
        "\n",
        "# Set experiment's device & deterministic behavior\n",
        "if CONFIG.cpu:\n",
        "    CONFIG.device = 'cpu'\n",
        "else:\n",
        "    CONFIG.device = 'cuda' if torch.cuda.is_available() else 'cpu'\n",
        "\n",
        "torch.manual_seed(CONFIG.seed)\n",
        "random.seed(CONFIG.seed)\n",
        "np.random.seed(CONFIG.seed)\n",
        "torch.backends.cudnn.benchmark = True\n",
        "torch.use_deterministic_algorithms(mode=True, warn_only=True)\n",
        "\n",
        "main()"
      ]
    },
    {
      "cell_type": "markdown",
      "metadata": {
        "id": "0t4OSoV9YJf9"
      },
      "source": [
        "#### 2.5.3 - ASH module after layer1.1.conv1"
      ]
    },
    {
      "cell_type": "markdown",
      "metadata": {
        "id": "hBSkUEVWYJf9"
      },
      "source": [
        "##### 2.5.3.1 - Cartoon"
      ]
    },
    {
      "cell_type": "code",
      "execution_count": null,
      "metadata": {
        "vscode": {
          "languageId": "python"
        },
        "id": "PV0FzHBNYJf9"
      },
      "outputs": [],
      "source": [
        "warnings.filterwarnings('ignore', category=UserWarning)\n",
        "\n",
        "# Parse arguments\n",
        "conf = configurations['2.5.3.1']\n",
        "\n",
        "#args = parse_arguments()\n",
        "args = argparse.Namespace(**conf)\n",
        "print(args)\n",
        "CONFIG.update(vars(args))\n",
        "\n",
        "# Setup output directory\n",
        "CONFIG.save_dir = os.path.join('record', CONFIG.experiment_name)\n",
        "os.makedirs(CONFIG.save_dir, exist_ok=True)\n",
        "\n",
        "# Setup logging\n",
        "logging.basicConfig(\n",
        "    filename=os.path.join(CONFIG.save_dir, 'log.txt'),\n",
        "    format='%(message)s',\n",
        "    level=logging.INFO,\n",
        "    filemode='a'\n",
        ")\n",
        "\n",
        "# Set experiment's device & deterministic behavior\n",
        "if CONFIG.cpu:\n",
        "    CONFIG.device = 'cpu'\n",
        "else:\n",
        "    CONFIG.device = 'cuda' if torch.cuda.is_available() else 'cpu'\n",
        "\n",
        "torch.manual_seed(CONFIG.seed)\n",
        "random.seed(CONFIG.seed)\n",
        "np.random.seed(CONFIG.seed)\n",
        "torch.backends.cudnn.benchmark = True\n",
        "torch.use_deterministic_algorithms(mode=True, warn_only=True)\n",
        "\n",
        "main()"
      ]
    },
    {
      "cell_type": "markdown",
      "metadata": {
        "id": "qNommVpVYJf-"
      },
      "source": [
        "##### 2.5.3.2 - Sketch"
      ]
    },
    {
      "cell_type": "code",
      "execution_count": null,
      "metadata": {
        "vscode": {
          "languageId": "python"
        },
        "id": "g7rOTG5wYJf-"
      },
      "outputs": [],
      "source": [
        "warnings.filterwarnings('ignore', category=UserWarning)\n",
        "\n",
        "# Parse arguments\n",
        "conf = configurations['2.5.3.2']\n",
        "\n",
        "#args = parse_arguments()\n",
        "args = argparse.Namespace(**conf)\n",
        "print(args)\n",
        "CONFIG.update(vars(args))\n",
        "\n",
        "# Setup output directory\n",
        "CONFIG.save_dir = os.path.join('record', CONFIG.experiment_name)\n",
        "os.makedirs(CONFIG.save_dir, exist_ok=True)\n",
        "\n",
        "# Setup logging\n",
        "logging.basicConfig(\n",
        "    filename=os.path.join(CONFIG.save_dir, 'log.txt'),\n",
        "    format='%(message)s',\n",
        "    level=logging.INFO,\n",
        "    filemode='a'\n",
        ")\n",
        "\n",
        "# Set experiment's device & deterministic behavior\n",
        "if CONFIG.cpu:\n",
        "    CONFIG.device = 'cpu'\n",
        "else:\n",
        "    CONFIG.device = 'cuda' if torch.cuda.is_available() else 'cpu'\n",
        "\n",
        "torch.manual_seed(CONFIG.seed)\n",
        "random.seed(CONFIG.seed)\n",
        "np.random.seed(CONFIG.seed)\n",
        "torch.backends.cudnn.benchmark = True\n",
        "torch.use_deterministic_algorithms(mode=True, warn_only=True)\n",
        "\n",
        "main()"
      ]
    },
    {
      "cell_type": "markdown",
      "metadata": {
        "id": "UWa9R5VeYJf-"
      },
      "source": [
        "##### 2.5.3.3 - Photo"
      ]
    },
    {
      "cell_type": "code",
      "execution_count": null,
      "metadata": {
        "vscode": {
          "languageId": "python"
        },
        "id": "zHpus4BHYJf-"
      },
      "outputs": [],
      "source": [
        "warnings.filterwarnings('ignore', category=UserWarning)\n",
        "\n",
        "# Parse arguments\n",
        "conf = configurations['2.5.3.3']\n",
        "\n",
        "#args = parse_arguments()\n",
        "args = argparse.Namespace(**conf)\n",
        "print(args)\n",
        "CONFIG.update(vars(args))\n",
        "\n",
        "# Setup output directory\n",
        "CONFIG.save_dir = os.path.join('record', CONFIG.experiment_name)\n",
        "os.makedirs(CONFIG.save_dir, exist_ok=True)\n",
        "\n",
        "# Setup logging\n",
        "logging.basicConfig(\n",
        "    filename=os.path.join(CONFIG.save_dir, 'log.txt'),\n",
        "    format='%(message)s',\n",
        "    level=logging.INFO,\n",
        "    filemode='a'\n",
        ")\n",
        "\n",
        "# Set experiment's device & deterministic behavior\n",
        "if CONFIG.cpu:\n",
        "    CONFIG.device = 'cpu'\n",
        "else:\n",
        "    CONFIG.device = 'cuda' if torch.cuda.is_available() else 'cpu'\n",
        "\n",
        "torch.manual_seed(CONFIG.seed)\n",
        "random.seed(CONFIG.seed)\n",
        "np.random.seed(CONFIG.seed)\n",
        "torch.backends.cudnn.benchmark = True\n",
        "torch.use_deterministic_algorithms(mode=True, warn_only=True)\n",
        "\n",
        "main()"
      ]
    },
    {
      "cell_type": "markdown",
      "metadata": {
        "id": "Bxjy52NIYJf-"
      },
      "source": [
        "#### 2.5.4 - ASH module after layer1.1.bn2"
      ]
    },
    {
      "cell_type": "markdown",
      "metadata": {
        "id": "0QiGK5OhYJf-"
      },
      "source": [
        "##### 2.5.4.1 - Cartoon"
      ]
    },
    {
      "cell_type": "code",
      "execution_count": null,
      "metadata": {
        "vscode": {
          "languageId": "python"
        },
        "id": "3AD2hQR0YJf_"
      },
      "outputs": [],
      "source": [
        "warnings.filterwarnings('ignore', category=UserWarning)\n",
        "\n",
        "# Parse arguments\n",
        "conf = configurations['2.5.4.1']\n",
        "\n",
        "#args = parse_arguments()\n",
        "args = argparse.Namespace(**conf)\n",
        "print(args)\n",
        "CONFIG.update(vars(args))\n",
        "\n",
        "# Setup output directory\n",
        "CONFIG.save_dir = os.path.join('record', CONFIG.experiment_name)\n",
        "os.makedirs(CONFIG.save_dir, exist_ok=True)\n",
        "\n",
        "# Setup logging\n",
        "logging.basicConfig(\n",
        "    filename=os.path.join(CONFIG.save_dir, 'log.txt'),\n",
        "    format='%(message)s',\n",
        "    level=logging.INFO,\n",
        "    filemode='a'\n",
        ")\n",
        "\n",
        "# Set experiment's device & deterministic behavior\n",
        "if CONFIG.cpu:\n",
        "    CONFIG.device = 'cpu'\n",
        "else:\n",
        "    CONFIG.device = 'cuda' if torch.cuda.is_available() else 'cpu'\n",
        "\n",
        "torch.manual_seed(CONFIG.seed)\n",
        "random.seed(CONFIG.seed)\n",
        "np.random.seed(CONFIG.seed)\n",
        "torch.backends.cudnn.benchmark = True\n",
        "torch.use_deterministic_algorithms(mode=True, warn_only=True)\n",
        "\n",
        "main()"
      ]
    },
    {
      "cell_type": "markdown",
      "metadata": {
        "id": "wIr5XlJfYJf_"
      },
      "source": [
        "##### 2.5.4.2 - Sketch"
      ]
    },
    {
      "cell_type": "code",
      "execution_count": null,
      "metadata": {
        "vscode": {
          "languageId": "python"
        },
        "id": "LjHi9CWvYJf_"
      },
      "outputs": [],
      "source": [
        "warnings.filterwarnings('ignore', category=UserWarning)\n",
        "\n",
        "# Parse arguments\n",
        "conf = configurations['2.5.4.2']\n",
        "\n",
        "#args = parse_arguments()\n",
        "args = argparse.Namespace(**conf)\n",
        "print(args)\n",
        "CONFIG.update(vars(args))\n",
        "\n",
        "# Setup output directory\n",
        "CONFIG.save_dir = os.path.join('record', CONFIG.experiment_name)\n",
        "os.makedirs(CONFIG.save_dir, exist_ok=True)\n",
        "\n",
        "# Setup logging\n",
        "logging.basicConfig(\n",
        "    filename=os.path.join(CONFIG.save_dir, 'log.txt'),\n",
        "    format='%(message)s',\n",
        "    level=logging.INFO,\n",
        "    filemode='a'\n",
        ")\n",
        "\n",
        "# Set experiment's device & deterministic behavior\n",
        "if CONFIG.cpu:\n",
        "    CONFIG.device = 'cpu'\n",
        "else:\n",
        "    CONFIG.device = 'cuda' if torch.cuda.is_available() else 'cpu'\n",
        "\n",
        "torch.manual_seed(CONFIG.seed)\n",
        "random.seed(CONFIG.seed)\n",
        "np.random.seed(CONFIG.seed)\n",
        "torch.backends.cudnn.benchmark = True\n",
        "torch.use_deterministic_algorithms(mode=True, warn_only=True)\n",
        "\n",
        "main()"
      ]
    },
    {
      "cell_type": "markdown",
      "metadata": {
        "id": "hGLBEqfBYJf_"
      },
      "source": [
        "##### 2.5.4.3 - Photo"
      ]
    },
    {
      "cell_type": "code",
      "execution_count": null,
      "metadata": {
        "vscode": {
          "languageId": "python"
        },
        "id": "KjEc0TA8YJf_"
      },
      "outputs": [],
      "source": [
        "warnings.filterwarnings('ignore', category=UserWarning)\n",
        "\n",
        "# Parse arguments\n",
        "conf = configurations['2.5.4.3']\n",
        "\n",
        "#args = parse_arguments()\n",
        "args = argparse.Namespace(**conf)\n",
        "print(args)\n",
        "CONFIG.update(vars(args))\n",
        "\n",
        "# Setup output directory\n",
        "CONFIG.save_dir = os.path.join('record', CONFIG.experiment_name)\n",
        "os.makedirs(CONFIG.save_dir, exist_ok=True)\n",
        "\n",
        "# Setup logging\n",
        "logging.basicConfig(\n",
        "    filename=os.path.join(CONFIG.save_dir, 'log.txt'),\n",
        "    format='%(message)s',\n",
        "    level=logging.INFO,\n",
        "    filemode='a'\n",
        ")\n",
        "\n",
        "# Set experiment's device & deterministic behavior\n",
        "if CONFIG.cpu:\n",
        "    CONFIG.device = 'cpu'\n",
        "else:\n",
        "    CONFIG.device = 'cuda' if torch.cuda.is_available() else 'cpu'\n",
        "\n",
        "torch.manual_seed(CONFIG.seed)\n",
        "random.seed(CONFIG.seed)\n",
        "np.random.seed(CONFIG.seed)\n",
        "torch.backends.cudnn.benchmark = True\n",
        "torch.use_deterministic_algorithms(mode=True, warn_only=True)\n",
        "\n",
        "main()"
      ]
    },
    {
      "cell_type": "markdown",
      "metadata": {
        "id": "TUsbGgajYJf_"
      },
      "source": [
        "#### 2.5.5 - ASH module after layer1.1.bn2 and layer2.1.bn2"
      ]
    },
    {
      "cell_type": "markdown",
      "metadata": {
        "id": "S5jG3J0ZYJf_"
      },
      "source": [
        "##### 2.5.5.1 - Cartoon"
      ]
    },
    {
      "cell_type": "code",
      "execution_count": null,
      "metadata": {
        "vscode": {
          "languageId": "python"
        },
        "id": "SeyDw7gyYJgA"
      },
      "outputs": [],
      "source": [
        "warnings.filterwarnings('ignore', category=UserWarning)\n",
        "\n",
        "# Parse arguments\n",
        "conf = configurations['2.5.5.1']\n",
        "\n",
        "#args = parse_arguments()\n",
        "args = argparse.Namespace(**conf)\n",
        "print(args)\n",
        "CONFIG.update(vars(args))\n",
        "\n",
        "# Setup output directory\n",
        "CONFIG.save_dir = os.path.join('record', CONFIG.experiment_name)\n",
        "os.makedirs(CONFIG.save_dir, exist_ok=True)\n",
        "\n",
        "# Setup logging\n",
        "logging.basicConfig(\n",
        "    filename=os.path.join(CONFIG.save_dir, 'log.txt'),\n",
        "    format='%(message)s',\n",
        "    level=logging.INFO,\n",
        "    filemode='a'\n",
        ")\n",
        "\n",
        "# Set experiment's device & deterministic behavior\n",
        "if CONFIG.cpu:\n",
        "    CONFIG.device = 'cpu'\n",
        "else:\n",
        "    CONFIG.device = 'cuda' if torch.cuda.is_available() else 'cpu'\n",
        "\n",
        "torch.manual_seed(CONFIG.seed)\n",
        "random.seed(CONFIG.seed)\n",
        "np.random.seed(CONFIG.seed)\n",
        "torch.backends.cudnn.benchmark = True\n",
        "torch.use_deterministic_algorithms(mode=True, warn_only=True)\n",
        "\n",
        "main()"
      ]
    },
    {
      "cell_type": "markdown",
      "metadata": {
        "id": "tcxdkuH7YJgA"
      },
      "source": [
        "##### 2.5.5.2 - Sketch"
      ]
    },
    {
      "cell_type": "code",
      "execution_count": null,
      "metadata": {
        "vscode": {
          "languageId": "python"
        },
        "id": "t2f-p0hdYJgE"
      },
      "outputs": [],
      "source": [
        "warnings.filterwarnings('ignore', category=UserWarning)\n",
        "\n",
        "# Parse arguments\n",
        "conf = configurations['2.5.5.2']\n",
        "\n",
        "#args = parse_arguments()\n",
        "args = argparse.Namespace(**conf)\n",
        "print(args)\n",
        "CONFIG.update(vars(args))\n",
        "\n",
        "# Setup output directory\n",
        "CONFIG.save_dir = os.path.join('record', CONFIG.experiment_name)\n",
        "os.makedirs(CONFIG.save_dir, exist_ok=True)\n",
        "\n",
        "# Setup logging\n",
        "logging.basicConfig(\n",
        "    filename=os.path.join(CONFIG.save_dir, 'log.txt'),\n",
        "    format='%(message)s',\n",
        "    level=logging.INFO,\n",
        "    filemode='a'\n",
        ")\n",
        "\n",
        "# Set experiment's device & deterministic behavior\n",
        "if CONFIG.cpu:\n",
        "    CONFIG.device = 'cpu'\n",
        "else:\n",
        "    CONFIG.device = 'cuda' if torch.cuda.is_available() else 'cpu'\n",
        "\n",
        "torch.manual_seed(CONFIG.seed)\n",
        "random.seed(CONFIG.seed)\n",
        "np.random.seed(CONFIG.seed)\n",
        "torch.backends.cudnn.benchmark = True\n",
        "torch.use_deterministic_algorithms(mode=True, warn_only=True)\n",
        "\n",
        "main()"
      ]
    },
    {
      "cell_type": "markdown",
      "metadata": {
        "id": "193XyyRFYJgE"
      },
      "source": [
        "##### 2.5.5.3 - Photo"
      ]
    },
    {
      "cell_type": "code",
      "execution_count": null,
      "metadata": {
        "vscode": {
          "languageId": "python"
        },
        "id": "7I8nd31UYJgE"
      },
      "outputs": [],
      "source": [
        "warnings.filterwarnings('ignore', category=UserWarning)\n",
        "\n",
        "# Parse arguments\n",
        "conf = configurations['2.5.5.3']\n",
        "\n",
        "#args = parse_arguments()\n",
        "args = argparse.Namespace(**conf)\n",
        "print(args)\n",
        "CONFIG.update(vars(args))\n",
        "\n",
        "# Setup output directory\n",
        "CONFIG.save_dir = os.path.join('record', CONFIG.experiment_name)\n",
        "os.makedirs(CONFIG.save_dir, exist_ok=True)\n",
        "\n",
        "# Setup logging\n",
        "logging.basicConfig(\n",
        "    filename=os.path.join(CONFIG.save_dir, 'log.txt'),\n",
        "    format='%(message)s',\n",
        "    level=logging.INFO,\n",
        "    filemode='a'\n",
        ")\n",
        "\n",
        "# Set experiment's device & deterministic behavior\n",
        "if CONFIG.cpu:\n",
        "    CONFIG.device = 'cpu'\n",
        "else:\n",
        "    CONFIG.device = 'cuda' if torch.cuda.is_available() else 'cpu'\n",
        "\n",
        "torch.manual_seed(CONFIG.seed)\n",
        "random.seed(CONFIG.seed)\n",
        "np.random.seed(CONFIG.seed)\n",
        "torch.backends.cudnn.benchmark = True\n",
        "torch.use_deterministic_algorithms(mode=True, warn_only=True)\n",
        "\n",
        "main()"
      ]
    },
    {
      "cell_type": "markdown",
      "metadata": {
        "id": "IJqL57qdYJgF"
      },
      "source": [
        "## 3 - Adapting Activation Maps across Domains"
      ]
    },
    {
      "cell_type": "markdown",
      "metadata": {
        "id": "oTBXUDS9YJgF"
      },
      "source": [
        "### 3.1 - ASH module after layer2.1.conv2"
      ]
    },
    {
      "cell_type": "markdown",
      "metadata": {
        "id": "5PN2VjNaYJgF"
      },
      "source": [
        "#### 3.1.1 - Cartoon"
      ]
    },
    {
      "cell_type": "code",
      "execution_count": null,
      "metadata": {
        "vscode": {
          "languageId": "python"
        },
        "id": "1tRCoW1nYJgF"
      },
      "outputs": [],
      "source": [
        "warnings.filterwarnings('ignore', category=UserWarning)\n",
        "\n",
        "# Parse arguments\n",
        "conf = configurations['3.1.1']\n",
        "\n",
        "#args = parse_arguments()\n",
        "args = argparse.Namespace(**conf)\n",
        "print(args)\n",
        "CONFIG.update(vars(args))\n",
        "\n",
        "# Setup output directory\n",
        "CONFIG.save_dir = os.path.join('record', CONFIG.experiment_name)\n",
        "os.makedirs(CONFIG.save_dir, exist_ok=True)\n",
        "\n",
        "# Setup logging\n",
        "logging.basicConfig(\n",
        "    filename=os.path.join(CONFIG.save_dir, 'log.txt'),\n",
        "    format='%(message)s',\n",
        "    level=logging.INFO,\n",
        "    filemode='a'\n",
        ")\n",
        "\n",
        "# Set experiment's device & deterministic behavior\n",
        "if CONFIG.cpu:\n",
        "    CONFIG.device = 'cpu'\n",
        "else:\n",
        "    CONFIG.device = 'cuda' if torch.cuda.is_available() else 'cpu'\n",
        "\n",
        "torch.manual_seed(CONFIG.seed)\n",
        "random.seed(CONFIG.seed)\n",
        "np.random.seed(CONFIG.seed)\n",
        "torch.backends.cudnn.benchmark = True\n",
        "torch.use_deterministic_algorithms(mode=True, warn_only=True)\n",
        "\n",
        "main()"
      ]
    },
    {
      "cell_type": "markdown",
      "metadata": {
        "id": "HJTkUPrMYJgF"
      },
      "source": [
        "#### 3.1.2 - Sketch"
      ]
    },
    {
      "cell_type": "code",
      "execution_count": null,
      "metadata": {
        "vscode": {
          "languageId": "python"
        },
        "id": "0Uz4cJgIYJgF"
      },
      "outputs": [],
      "source": [
        "warnings.filterwarnings('ignore', category=UserWarning)\n",
        "\n",
        "# Parse arguments\n",
        "conf = configurations['3.1.2']\n",
        "\n",
        "#args = parse_arguments()\n",
        "args = argparse.Namespace(**conf)\n",
        "print(args)\n",
        "CONFIG.update(vars(args))\n",
        "\n",
        "# Setup output directory\n",
        "CONFIG.save_dir = os.path.join('record', CONFIG.experiment_name)\n",
        "os.makedirs(CONFIG.save_dir, exist_ok=True)\n",
        "\n",
        "# Setup logging\n",
        "logging.basicConfig(\n",
        "    filename=os.path.join(CONFIG.save_dir, 'log.txt'),\n",
        "    format='%(message)s',\n",
        "    level=logging.INFO,\n",
        "    filemode='a'\n",
        ")\n",
        "\n",
        "# Set experiment's device & deterministic behavior\n",
        "if CONFIG.cpu:\n",
        "    CONFIG.device = 'cpu'\n",
        "else:\n",
        "    CONFIG.device = 'cuda' if torch.cuda.is_available() else 'cpu'\n",
        "\n",
        "torch.manual_seed(CONFIG.seed)\n",
        "random.seed(CONFIG.seed)\n",
        "np.random.seed(CONFIG.seed)\n",
        "torch.backends.cudnn.benchmark = True\n",
        "torch.use_deterministic_algorithms(mode=True, warn_only=True)\n",
        "\n",
        "main()"
      ]
    },
    {
      "cell_type": "markdown",
      "metadata": {
        "id": "exTsCqV4YJgF"
      },
      "source": [
        "#### 3.1.3 - Photo"
      ]
    },
    {
      "cell_type": "code",
      "execution_count": null,
      "metadata": {
        "vscode": {
          "languageId": "python"
        },
        "id": "o9anpgeUYJgG"
      },
      "outputs": [],
      "source": [
        "warnings.filterwarnings('ignore', category=UserWarning)\n",
        "\n",
        "# Parse arguments\n",
        "conf = configurations['3.1.3']\n",
        "\n",
        "#args = parse_arguments()\n",
        "args = argparse.Namespace(**conf)\n",
        "print(args)\n",
        "CONFIG.update(vars(args))\n",
        "\n",
        "# Setup output directory\n",
        "CONFIG.save_dir = os.path.join('record', CONFIG.experiment_name)\n",
        "os.makedirs(CONFIG.save_dir, exist_ok=True)\n",
        "\n",
        "# Setup logging\n",
        "logging.basicConfig(\n",
        "    filename=os.path.join(CONFIG.save_dir, 'log.txt'),\n",
        "    format='%(message)s',\n",
        "    level=logging.INFO,\n",
        "    filemode='a'\n",
        ")\n",
        "\n",
        "# Set experiment's device & deterministic behavior\n",
        "if CONFIG.cpu:\n",
        "    CONFIG.device = 'cpu'\n",
        "else:\n",
        "    CONFIG.device = 'cuda' if torch.cuda.is_available() else 'cpu'\n",
        "\n",
        "torch.manual_seed(CONFIG.seed)\n",
        "random.seed(CONFIG.seed)\n",
        "np.random.seed(CONFIG.seed)\n",
        "torch.backends.cudnn.benchmark = True\n",
        "torch.use_deterministic_algorithms(mode=True, warn_only=True)\n",
        "\n",
        "main()"
      ]
    },
    {
      "cell_type": "markdown",
      "metadata": {
        "id": "UkRboxxwYJgG"
      },
      "source": [
        "### 3.2 - ASH module after layer1.1.bn1 and layer2.1.conv2"
      ]
    },
    {
      "cell_type": "markdown",
      "metadata": {
        "id": "Xd6QHyJNYJgG"
      },
      "source": [
        "#### 3.2.1 - Cartoon"
      ]
    },
    {
      "cell_type": "code",
      "execution_count": null,
      "metadata": {
        "vscode": {
          "languageId": "python"
        },
        "id": "vU1kYPahYJgG"
      },
      "outputs": [],
      "source": [
        "warnings.filterwarnings('ignore', category=UserWarning)\n",
        "\n",
        "# Parse arguments\n",
        "conf = configurations['3.2.1']\n",
        "\n",
        "#args = parse_arguments()\n",
        "args = argparse.Namespace(**conf)\n",
        "print(args)\n",
        "CONFIG.update(vars(args))\n",
        "\n",
        "# Setup output directory\n",
        "CONFIG.save_dir = os.path.join('record', CONFIG.experiment_name)\n",
        "os.makedirs(CONFIG.save_dir, exist_ok=True)\n",
        "\n",
        "# Setup logging\n",
        "logging.basicConfig(\n",
        "    filename=os.path.join(CONFIG.save_dir, 'log.txt'),\n",
        "    format='%(message)s',\n",
        "    level=logging.INFO,\n",
        "    filemode='a'\n",
        ")\n",
        "\n",
        "# Set experiment's device & deterministic behavior\n",
        "if CONFIG.cpu:\n",
        "    CONFIG.device = 'cpu'\n",
        "else:\n",
        "    CONFIG.device = 'cuda' if torch.cuda.is_available() else 'cpu'\n",
        "\n",
        "torch.manual_seed(CONFIG.seed)\n",
        "random.seed(CONFIG.seed)\n",
        "np.random.seed(CONFIG.seed)\n",
        "torch.backends.cudnn.benchmark = True\n",
        "torch.use_deterministic_algorithms(mode=True, warn_only=True)\n",
        "\n",
        "main()"
      ]
    },
    {
      "cell_type": "markdown",
      "metadata": {
        "id": "7lbozsAXYJgG"
      },
      "source": [
        "#### 3.2.2 - Sketch"
      ]
    },
    {
      "cell_type": "code",
      "execution_count": null,
      "metadata": {
        "vscode": {
          "languageId": "python"
        },
        "id": "hddMtr-LYJgG"
      },
      "outputs": [],
      "source": [
        "warnings.filterwarnings('ignore', category=UserWarning)\n",
        "\n",
        "# Parse arguments\n",
        "conf = configurations['3.2.2']\n",
        "\n",
        "#args = parse_arguments()\n",
        "args = argparse.Namespace(**conf)\n",
        "print(args)\n",
        "CONFIG.update(vars(args))\n",
        "\n",
        "# Setup output directory\n",
        "CONFIG.save_dir = os.path.join('record', CONFIG.experiment_name)\n",
        "os.makedirs(CONFIG.save_dir, exist_ok=True)\n",
        "\n",
        "# Setup logging\n",
        "logging.basicConfig(\n",
        "    filename=os.path.join(CONFIG.save_dir, 'log.txt'),\n",
        "    format='%(message)s',\n",
        "    level=logging.INFO,\n",
        "    filemode='a'\n",
        ")\n",
        "\n",
        "# Set experiment's device & deterministic behavior\n",
        "if CONFIG.cpu:\n",
        "    CONFIG.device = 'cpu'\n",
        "else:\n",
        "    CONFIG.device = 'cuda' if torch.cuda.is_available() else 'cpu'\n",
        "\n",
        "torch.manual_seed(CONFIG.seed)\n",
        "random.seed(CONFIG.seed)\n",
        "np.random.seed(CONFIG.seed)\n",
        "torch.backends.cudnn.benchmark = True\n",
        "torch.use_deterministic_algorithms(mode=True, warn_only=True)\n",
        "\n",
        "main()"
      ]
    },
    {
      "cell_type": "markdown",
      "metadata": {
        "id": "RYt2dL7rYJgG"
      },
      "source": [
        "#### 3.2.3 - Photo"
      ]
    },
    {
      "cell_type": "code",
      "execution_count": null,
      "metadata": {
        "vscode": {
          "languageId": "python"
        },
        "id": "CaZmOBZqYJgG"
      },
      "outputs": [],
      "source": [
        "warnings.filterwarnings('ignore', category=UserWarning)\n",
        "\n",
        "# Parse arguments\n",
        "conf = configurations['3.2.3']\n",
        "\n",
        "#args = parse_arguments()\n",
        "args = argparse.Namespace(**conf)\n",
        "print(args)\n",
        "CONFIG.update(vars(args))\n",
        "\n",
        "# Setup output directory\n",
        "CONFIG.save_dir = os.path.join('record', CONFIG.experiment_name)\n",
        "os.makedirs(CONFIG.save_dir, exist_ok=True)\n",
        "\n",
        "# Setup logging\n",
        "logging.basicConfig(\n",
        "    filename=os.path.join(CONFIG.save_dir, 'log.txt'),\n",
        "    format='%(message)s',\n",
        "    level=logging.INFO,\n",
        "    filemode='a'\n",
        ")\n",
        "\n",
        "# Set experiment's device & deterministic behavior\n",
        "if CONFIG.cpu:\n",
        "    CONFIG.device = 'cpu'\n",
        "else:\n",
        "    CONFIG.device = 'cuda' if torch.cuda.is_available() else 'cpu'\n",
        "\n",
        "torch.manual_seed(CONFIG.seed)\n",
        "random.seed(CONFIG.seed)\n",
        "np.random.seed(CONFIG.seed)\n",
        "torch.backends.cudnn.benchmark = True\n",
        "torch.use_deterministic_algorithms(mode=True, warn_only=True)\n",
        "\n",
        "main()"
      ]
    },
    {
      "cell_type": "markdown",
      "metadata": {
        "id": "_eWvXR21YJgH"
      },
      "source": [
        "### 3.3 - ASH module after layer1.1.conv1"
      ]
    },
    {
      "cell_type": "markdown",
      "metadata": {
        "id": "VmPjM6k3YJgH"
      },
      "source": [
        "#### 3.3.1 - Cartoon"
      ]
    },
    {
      "cell_type": "code",
      "execution_count": null,
      "metadata": {
        "vscode": {
          "languageId": "python"
        },
        "id": "OHeleT_OYJgH"
      },
      "outputs": [],
      "source": [
        "warnings.filterwarnings('ignore', category=UserWarning)\n",
        "\n",
        "# Parse arguments\n",
        "conf = configurations['3.3.1']\n",
        "\n",
        "#args = parse_arguments()\n",
        "args = argparse.Namespace(**conf)\n",
        "print(args)\n",
        "CONFIG.update(vars(args))\n",
        "\n",
        "# Setup output directory\n",
        "CONFIG.save_dir = os.path.join('record', CONFIG.experiment_name)\n",
        "os.makedirs(CONFIG.save_dir, exist_ok=True)\n",
        "\n",
        "# Setup logging\n",
        "logging.basicConfig(\n",
        "    filename=os.path.join(CONFIG.save_dir, 'log.txt'),\n",
        "    format='%(message)s',\n",
        "    level=logging.INFO,\n",
        "    filemode='a'\n",
        ")\n",
        "\n",
        "# Set experiment's device & deterministic behavior\n",
        "if CONFIG.cpu:\n",
        "    CONFIG.device = 'cpu'\n",
        "else:\n",
        "    CONFIG.device = 'cuda' if torch.cuda.is_available() else 'cpu'\n",
        "\n",
        "torch.manual_seed(CONFIG.seed)\n",
        "random.seed(CONFIG.seed)\n",
        "np.random.seed(CONFIG.seed)\n",
        "torch.backends.cudnn.benchmark = True\n",
        "torch.use_deterministic_algorithms(mode=True, warn_only=True)\n",
        "\n",
        "main()"
      ]
    },
    {
      "cell_type": "markdown",
      "metadata": {
        "id": "fYDDKmVSYJgH"
      },
      "source": [
        "#### 3.3.2 - Sketch"
      ]
    },
    {
      "cell_type": "code",
      "execution_count": null,
      "metadata": {
        "vscode": {
          "languageId": "python"
        },
        "id": "v9uDU6sxYJgI"
      },
      "outputs": [],
      "source": [
        "warnings.filterwarnings('ignore', category=UserWarning)\n",
        "\n",
        "# Parse arguments\n",
        "conf = configurations['3.3.2']\n",
        "\n",
        "#args = parse_arguments()\n",
        "args = argparse.Namespace(**conf)\n",
        "print(args)\n",
        "CONFIG.update(vars(args))\n",
        "\n",
        "# Setup output directory\n",
        "CONFIG.save_dir = os.path.join('record', CONFIG.experiment_name)\n",
        "os.makedirs(CONFIG.save_dir, exist_ok=True)\n",
        "\n",
        "# Setup logging\n",
        "logging.basicConfig(\n",
        "    filename=os.path.join(CONFIG.save_dir, 'log.txt'),\n",
        "    format='%(message)s',\n",
        "    level=logging.INFO,\n",
        "    filemode='a'\n",
        ")\n",
        "\n",
        "# Set experiment's device & deterministic behavior\n",
        "if CONFIG.cpu:\n",
        "    CONFIG.device = 'cpu'\n",
        "else:\n",
        "    CONFIG.device = 'cuda' if torch.cuda.is_available() else 'cpu'\n",
        "\n",
        "torch.manual_seed(CONFIG.seed)\n",
        "random.seed(CONFIG.seed)\n",
        "np.random.seed(CONFIG.seed)\n",
        "torch.backends.cudnn.benchmark = True\n",
        "torch.use_deterministic_algorithms(mode=True, warn_only=True)\n",
        "\n",
        "main()"
      ]
    },
    {
      "cell_type": "markdown",
      "metadata": {
        "id": "p-L6DEkJYJgI"
      },
      "source": [
        "#### 3.3.3 - Photo"
      ]
    },
    {
      "cell_type": "code",
      "execution_count": null,
      "metadata": {
        "vscode": {
          "languageId": "python"
        },
        "id": "8v_2YUeNYJgI"
      },
      "outputs": [],
      "source": [
        "warnings.filterwarnings('ignore', category=UserWarning)\n",
        "\n",
        "# Parse arguments\n",
        "conf = configurations['3.3.3']\n",
        "\n",
        "#args = parse_arguments()\n",
        "args = argparse.Namespace(**conf)\n",
        "print(args)\n",
        "CONFIG.update(vars(args))\n",
        "\n",
        "# Setup output directory\n",
        "CONFIG.save_dir = os.path.join('record', CONFIG.experiment_name)\n",
        "os.makedirs(CONFIG.save_dir, exist_ok=True)\n",
        "\n",
        "# Setup logging\n",
        "logging.basicConfig(\n",
        "    filename=os.path.join(CONFIG.save_dir, 'log.txt'),\n",
        "    format='%(message)s',\n",
        "    level=logging.INFO,\n",
        "    filemode='a'\n",
        ")\n",
        "\n",
        "# Set experiment's device & deterministic behavior\n",
        "if CONFIG.cpu:\n",
        "    CONFIG.device = 'cpu'\n",
        "else:\n",
        "    CONFIG.device = 'cuda' if torch.cuda.is_available() else 'cpu'\n",
        "\n",
        "torch.manual_seed(CONFIG.seed)\n",
        "random.seed(CONFIG.seed)\n",
        "np.random.seed(CONFIG.seed)\n",
        "torch.backends.cudnn.benchmark = True\n",
        "torch.use_deterministic_algorithms(mode=True, warn_only=True)\n",
        "\n",
        "main()"
      ]
    },
    {
      "cell_type": "markdown",
      "metadata": {
        "id": "zmwmjVHxYJgI"
      },
      "source": [
        "### 3.4 - ASH module after layer1.1.bn2"
      ]
    },
    {
      "cell_type": "markdown",
      "metadata": {
        "id": "ehW-BW6OYJgI"
      },
      "source": [
        "#### 3.4.1 - Cartoon"
      ]
    },
    {
      "cell_type": "code",
      "execution_count": null,
      "metadata": {
        "vscode": {
          "languageId": "python"
        },
        "id": "2OFmmlnXYJgI"
      },
      "outputs": [],
      "source": [
        "warnings.filterwarnings('ignore', category=UserWarning)\n",
        "\n",
        "# Parse arguments\n",
        "conf = configurations['3.4.1']\n",
        "\n",
        "#args = parse_arguments()\n",
        "args = argparse.Namespace(**conf)\n",
        "print(args)\n",
        "CONFIG.update(vars(args))\n",
        "\n",
        "# Setup output directory\n",
        "CONFIG.save_dir = os.path.join('record', CONFIG.experiment_name)\n",
        "os.makedirs(CONFIG.save_dir, exist_ok=True)\n",
        "\n",
        "# Setup logging\n",
        "logging.basicConfig(\n",
        "    filename=os.path.join(CONFIG.save_dir, 'log.txt'),\n",
        "    format='%(message)s',\n",
        "    level=logging.INFO,\n",
        "    filemode='a'\n",
        ")\n",
        "\n",
        "# Set experiment's device & deterministic behavior\n",
        "if CONFIG.cpu:\n",
        "    CONFIG.device = 'cpu'\n",
        "else:\n",
        "    CONFIG.device = 'cuda' if torch.cuda.is_available() else 'cpu'\n",
        "\n",
        "torch.manual_seed(CONFIG.seed)\n",
        "random.seed(CONFIG.seed)\n",
        "np.random.seed(CONFIG.seed)\n",
        "torch.backends.cudnn.benchmark = True\n",
        "torch.use_deterministic_algorithms(mode=True, warn_only=True)\n",
        "\n",
        "main()"
      ]
    },
    {
      "cell_type": "markdown",
      "metadata": {
        "id": "S-WbXtBmYJgI"
      },
      "source": [
        "#### 3.4.2 - Sketch"
      ]
    },
    {
      "cell_type": "code",
      "execution_count": null,
      "metadata": {
        "vscode": {
          "languageId": "python"
        },
        "id": "qE1_PLJVYJgJ"
      },
      "outputs": [],
      "source": [
        "warnings.filterwarnings('ignore', category=UserWarning)\n",
        "\n",
        "# Parse arguments\n",
        "conf = configurations['3.4.2']\n",
        "\n",
        "#args = parse_arguments()\n",
        "args = argparse.Namespace(**conf)\n",
        "print(args)\n",
        "CONFIG.update(vars(args))\n",
        "\n",
        "# Setup output directory\n",
        "CONFIG.save_dir = os.path.join('record', CONFIG.experiment_name)\n",
        "os.makedirs(CONFIG.save_dir, exist_ok=True)\n",
        "\n",
        "# Setup logging\n",
        "logging.basicConfig(\n",
        "    filename=os.path.join(CONFIG.save_dir, 'log.txt'),\n",
        "    format='%(message)s',\n",
        "    level=logging.INFO,\n",
        "    filemode='a'\n",
        ")\n",
        "\n",
        "# Set experiment's device & deterministic behavior\n",
        "if CONFIG.cpu:\n",
        "    CONFIG.device = 'cpu'\n",
        "else:\n",
        "    CONFIG.device = 'cuda' if torch.cuda.is_available() else 'cpu'\n",
        "\n",
        "torch.manual_seed(CONFIG.seed)\n",
        "random.seed(CONFIG.seed)\n",
        "np.random.seed(CONFIG.seed)\n",
        "torch.backends.cudnn.benchmark = True\n",
        "torch.use_deterministic_algorithms(mode=True, warn_only=True)\n",
        "\n",
        "main()"
      ]
    },
    {
      "cell_type": "markdown",
      "metadata": {
        "id": "VyxRJvI1YJgJ"
      },
      "source": [
        "#### 3.4.3 - Photo"
      ]
    },
    {
      "cell_type": "code",
      "execution_count": null,
      "metadata": {
        "vscode": {
          "languageId": "python"
        },
        "id": "Eag-_QKGYJgJ"
      },
      "outputs": [],
      "source": [
        "warnings.filterwarnings('ignore', category=UserWarning)\n",
        "\n",
        "# Parse arguments\n",
        "conf = configurations['3.4.3']\n",
        "\n",
        "#args = parse_arguments()\n",
        "args = argparse.Namespace(**conf)\n",
        "print(args)\n",
        "CONFIG.update(vars(args))\n",
        "\n",
        "# Setup output directory\n",
        "CONFIG.save_dir = os.path.join('record', CONFIG.experiment_name)\n",
        "os.makedirs(CONFIG.save_dir, exist_ok=True)\n",
        "\n",
        "# Setup logging\n",
        "logging.basicConfig(\n",
        "    filename=os.path.join(CONFIG.save_dir, 'log.txt'),\n",
        "    format='%(message)s',\n",
        "    level=logging.INFO,\n",
        "    filemode='a'\n",
        ")\n",
        "\n",
        "# Set experiment's device & deterministic behavior\n",
        "if CONFIG.cpu:\n",
        "    CONFIG.device = 'cpu'\n",
        "else:\n",
        "    CONFIG.device = 'cuda' if torch.cuda.is_available() else 'cpu'\n",
        "\n",
        "torch.manual_seed(CONFIG.seed)\n",
        "random.seed(CONFIG.seed)\n",
        "np.random.seed(CONFIG.seed)\n",
        "torch.backends.cudnn.benchmark = True\n",
        "torch.use_deterministic_algorithms(mode=True, warn_only=True)\n",
        "\n",
        "main()"
      ]
    },
    {
      "cell_type": "markdown",
      "metadata": {
        "id": "y2FzJYEvYJgK"
      },
      "source": [
        "### 3.5 - ASH module after layer1.1.bn2 and layer2.1.bn2"
      ]
    },
    {
      "cell_type": "markdown",
      "metadata": {
        "id": "-XvgsOR8YJgK"
      },
      "source": [
        "#### 3.5.1 - Cartoon"
      ]
    },
    {
      "cell_type": "code",
      "execution_count": null,
      "metadata": {
        "vscode": {
          "languageId": "python"
        },
        "id": "F8_9VTvAYJgK"
      },
      "outputs": [],
      "source": [
        "warnings.filterwarnings('ignore', category=UserWarning)\n",
        "\n",
        "# Parse arguments\n",
        "conf = configurations['3.5.1']\n",
        "\n",
        "#args = parse_arguments()\n",
        "args = argparse.Namespace(**conf)\n",
        "print(args)\n",
        "CONFIG.update(vars(args))\n",
        "\n",
        "# Setup output directory\n",
        "CONFIG.save_dir = os.path.join('record', CONFIG.experiment_name)\n",
        "os.makedirs(CONFIG.save_dir, exist_ok=True)\n",
        "\n",
        "# Setup logging\n",
        "logging.basicConfig(\n",
        "    filename=os.path.join(CONFIG.save_dir, 'log.txt'),\n",
        "    format='%(message)s',\n",
        "    level=logging.INFO,\n",
        "    filemode='a'\n",
        ")\n",
        "\n",
        "# Set experiment's device & deterministic behavior\n",
        "if CONFIG.cpu:\n",
        "    CONFIG.device = 'cpu'\n",
        "else:\n",
        "    CONFIG.device = 'cuda' if torch.cuda.is_available() else 'cpu'\n",
        "\n",
        "torch.manual_seed(CONFIG.seed)\n",
        "random.seed(CONFIG.seed)\n",
        "np.random.seed(CONFIG.seed)\n",
        "torch.backends.cudnn.benchmark = True\n",
        "torch.use_deterministic_algorithms(mode=True, warn_only=True)\n",
        "\n",
        "main()"
      ]
    },
    {
      "cell_type": "markdown",
      "metadata": {
        "id": "_dCYeyBIYJgK"
      },
      "source": [
        "#### 3.5.2 - Sketch"
      ]
    },
    {
      "cell_type": "code",
      "execution_count": null,
      "metadata": {
        "vscode": {
          "languageId": "python"
        },
        "id": "niA9tHmyYJgK"
      },
      "outputs": [],
      "source": [
        "warnings.filterwarnings('ignore', category=UserWarning)\n",
        "\n",
        "# Parse arguments\n",
        "conf = configurations['3.5.2']\n",
        "\n",
        "#args = parse_arguments()\n",
        "args = argparse.Namespace(**conf)\n",
        "print(args)\n",
        "CONFIG.update(vars(args))\n",
        "\n",
        "# Setup output directory\n",
        "CONFIG.save_dir = os.path.join('record', CONFIG.experiment_name)\n",
        "os.makedirs(CONFIG.save_dir, exist_ok=True)\n",
        "\n",
        "# Setup logging\n",
        "logging.basicConfig(\n",
        "    filename=os.path.join(CONFIG.save_dir, 'log.txt'),\n",
        "    format='%(message)s',\n",
        "    level=logging.INFO,\n",
        "    filemode='a'\n",
        ")\n",
        "\n",
        "# Set experiment's device & deterministic behavior\n",
        "if CONFIG.cpu:\n",
        "    CONFIG.device = 'cpu'\n",
        "else:\n",
        "    CONFIG.device = 'cuda' if torch.cuda.is_available() else 'cpu'\n",
        "\n",
        "torch.manual_seed(CONFIG.seed)\n",
        "random.seed(CONFIG.seed)\n",
        "np.random.seed(CONFIG.seed)\n",
        "torch.backends.cudnn.benchmark = True\n",
        "torch.use_deterministic_algorithms(mode=True, warn_only=True)\n",
        "\n",
        "main()"
      ]
    },
    {
      "cell_type": "markdown",
      "metadata": {
        "id": "SSMKdow1YJgK"
      },
      "source": [
        "#### 3.5.3 - Photo"
      ]
    },
    {
      "cell_type": "code",
      "execution_count": null,
      "metadata": {
        "vscode": {
          "languageId": "python"
        },
        "id": "RfuqJvzFYJgK"
      },
      "outputs": [],
      "source": [
        "warnings.filterwarnings('ignore', category=UserWarning)\n",
        "\n",
        "# Parse arguments\n",
        "conf = configurations['3.5.3']\n",
        "\n",
        "#args = parse_arguments()\n",
        "args = argparse.Namespace(**conf)\n",
        "print(args)\n",
        "CONFIG.update(vars(args))\n",
        "\n",
        "# Setup output directory\n",
        "CONFIG.save_dir = os.path.join('record', CONFIG.experiment_name)\n",
        "os.makedirs(CONFIG.save_dir, exist_ok=True)\n",
        "\n",
        "# Setup logging\n",
        "logging.basicConfig(\n",
        "    filename=os.path.join(CONFIG.save_dir, 'log.txt'),\n",
        "    format='%(message)s',\n",
        "    level=logging.INFO,\n",
        "    filemode='a'\n",
        ")\n",
        "\n",
        "# Set experiment's device & deterministic behavior\n",
        "if CONFIG.cpu:\n",
        "    CONFIG.device = 'cpu'\n",
        "else:\n",
        "    CONFIG.device = 'cuda' if torch.cuda.is_available() else 'cpu'\n",
        "\n",
        "torch.manual_seed(CONFIG.seed)\n",
        "random.seed(CONFIG.seed)\n",
        "np.random.seed(CONFIG.seed)\n",
        "torch.backends.cudnn.benchmark = True\n",
        "torch.use_deterministic_algorithms(mode=True, warn_only=True)\n",
        "\n",
        "main()"
      ]
    }
  ],
  "metadata": {
    "accelerator": "GPU",
    "colab": {
      "gpuType": "T4",
      "provenance": []
    },
    "kernelspec": {
      "display_name": "Mojo",
      "language": "mojo",
      "name": "mojo-jupyter-kernel"
    },
    "language_info": {
      "codemirror_mode": {
        "name": "ipython",
        "version": 3
      },
      "file_extension": ".py",
      "mimetype": "text/x-python",
      "name": "mojo",
      "nbconvert_exporter": "python",
      "pygments_lexer": "ipython3",
      "version": "3.10.12"
    }
  },
  "nbformat": 4,
  "nbformat_minor": 0
}