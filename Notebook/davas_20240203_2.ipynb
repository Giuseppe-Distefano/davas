{
  "cells": [
    {
      "cell_type": "markdown",
      "metadata": {
        "id": "0j4ramm0vmvh"
      },
      "source": [
        "# Domain Adaptation Via Activation Shaping"
      ]
    },
    {
      "cell_type": "markdown",
      "metadata": {
        "id": "L-LqKzY-vmvp"
      },
      "source": [
        "**Teacher assistant** Iurada Leonardo\n",
        "\n",
        "**Students**\n",
        "\n",
        "- Bar Giorgio\n",
        "- Distefano Giuseppe\n",
        "- Incaviglia Salvatore"
      ]
    },
    {
      "cell_type": "markdown",
      "metadata": {
        "id": "r1K5BCgevmvr"
      },
      "source": [
        "## Code"
      ]
    },
    {
      "cell_type": "markdown",
      "metadata": {
        "id": "3GNDC97Lvmvs"
      },
      "source": [
        "### Libraries"
      ]
    },
    {
      "cell_type": "code",
      "execution_count": 14,
      "metadata": {
        "colab": {
          "base_uri": "https://localhost:8080/"
        },
        "id": "7yj0xpGOvmvs",
        "outputId": "9bfa38f5-d16d-4ac1-ba8e-088e64240463"
      },
      "outputs": [
        {
          "output_type": "stream",
          "name": "stdout",
          "text": [
            "Requirement already satisfied: torch in /usr/local/lib/python3.10/dist-packages (2.1.0+cu121)\n",
            "Requirement already satisfied: torchvision in /usr/local/lib/python3.10/dist-packages (0.16.0+cu121)\n",
            "Requirement already satisfied: tqdm in /usr/local/lib/python3.10/dist-packages (4.66.1)\n",
            "Requirement already satisfied: torchmetrics in /usr/local/lib/python3.10/dist-packages (1.3.0.post0)\n",
            "Requirement already satisfied: filelock in /usr/local/lib/python3.10/dist-packages (from torch) (3.13.1)\n",
            "Requirement already satisfied: typing-extensions in /usr/local/lib/python3.10/dist-packages (from torch) (4.5.0)\n",
            "Requirement already satisfied: sympy in /usr/local/lib/python3.10/dist-packages (from torch) (1.12)\n",
            "Requirement already satisfied: networkx in /usr/local/lib/python3.10/dist-packages (from torch) (3.2.1)\n",
            "Requirement already satisfied: jinja2 in /usr/local/lib/python3.10/dist-packages (from torch) (3.1.3)\n",
            "Requirement already satisfied: fsspec in /usr/local/lib/python3.10/dist-packages (from torch) (2023.6.0)\n",
            "Requirement already satisfied: triton==2.1.0 in /usr/local/lib/python3.10/dist-packages (from torch) (2.1.0)\n",
            "Requirement already satisfied: numpy in /usr/local/lib/python3.10/dist-packages (from torchvision) (1.23.5)\n",
            "Requirement already satisfied: requests in /usr/local/lib/python3.10/dist-packages (from torchvision) (2.31.0)\n",
            "Requirement already satisfied: pillow!=8.3.*,>=5.3.0 in /usr/local/lib/python3.10/dist-packages (from torchvision) (9.4.0)\n",
            "Requirement already satisfied: packaging>17.1 in /usr/local/lib/python3.10/dist-packages (from torchmetrics) (23.2)\n",
            "Requirement already satisfied: lightning-utilities>=0.8.0 in /usr/local/lib/python3.10/dist-packages (from torchmetrics) (0.10.1)\n",
            "Requirement already satisfied: setuptools in /usr/local/lib/python3.10/dist-packages (from lightning-utilities>=0.8.0->torchmetrics) (67.7.2)\n",
            "Requirement already satisfied: MarkupSafe>=2.0 in /usr/local/lib/python3.10/dist-packages (from jinja2->torch) (2.1.4)\n",
            "Requirement already satisfied: charset-normalizer<4,>=2 in /usr/local/lib/python3.10/dist-packages (from requests->torchvision) (3.3.2)\n",
            "Requirement already satisfied: idna<4,>=2.5 in /usr/local/lib/python3.10/dist-packages (from requests->torchvision) (3.6)\n",
            "Requirement already satisfied: urllib3<3,>=1.21.1 in /usr/local/lib/python3.10/dist-packages (from requests->torchvision) (2.0.7)\n",
            "Requirement already satisfied: certifi>=2017.4.17 in /usr/local/lib/python3.10/dist-packages (from requests->torchvision) (2023.11.17)\n",
            "Requirement already satisfied: mpmath>=0.19 in /usr/local/lib/python3.10/dist-packages (from sympy->torch) (1.3.0)\n"
          ]
        }
      ],
      "source": [
        "!pip install torch torchvision tqdm torchmetrics\n",
        "\n",
        "import torch\n",
        "\n",
        "import torch.backends.mps\n",
        "from argparse import ArgumentParser\n",
        "\n",
        "import os\n",
        "import torchvision.transforms as T\n",
        "\n",
        "from torch.utils.data import Dataset, DataLoader\n",
        "from torchvision.datasets import CIFAR10\n",
        "\n",
        "import numpy as np\n",
        "import random\n",
        "from PIL import Image\n",
        "\n",
        "import torch.nn as nn\n",
        "from torchvision.models import resnet18, ResNet18_Weights\n",
        "\n",
        "import torch.nn.functional as F\n",
        "from torchmetrics import Accuracy\n",
        "from tqdm import tqdm\n",
        "\n",
        "import logging\n",
        "import warnings\n",
        "\n",
        "import argparse"
      ]
    },
    {
      "cell_type": "markdown",
      "metadata": {
        "id": "4QL6QFg7vmvv"
      },
      "source": [
        "### Setup PACS dataset and environment"
      ]
    },
    {
      "cell_type": "code",
      "execution_count": 15,
      "metadata": {
        "colab": {
          "base_uri": "https://localhost:8080/"
        },
        "id": "DU25YTvRvmvw",
        "outputId": "06e91174-15fe-49dd-8eb7-d8b20fe00c8e"
      },
      "outputs": [
        {
          "output_type": "stream",
          "name": "stdout",
          "text": [
            "Cloning into 'Homework3-PACS'...\n",
            "remote: Enumerating objects: 10032, done.\u001b[K\n",
            "remote: Total 10032 (delta 0), reused 0 (delta 0), pack-reused 10032\u001b[K\n",
            "Receiving objects: 100% (10032/10032), 174.13 MiB | 14.38 MiB/s, done.\n",
            "Resolving deltas: 100% (1/1), done.\n",
            "Updating files: 100% (9993/9993), done.\n",
            "Cloning into 'DANN_Template'...\n",
            "remote: Enumerating objects: 23, done.\u001b[K\n",
            "remote: Total 23 (delta 0), reused 0 (delta 0), pack-reused 23\u001b[K\n",
            "Receiving objects: 100% (23/23), 33.86 KiB | 134.00 KiB/s, done.\n",
            "Resolving deltas: 100% (5/5), done.\n"
          ]
        }
      ],
      "source": [
        "# Download PACS Dataset Images and Labels\n",
        "!git clone https://github.com/MachineLearning2020/Homework3-PACS/\n",
        "!git clone https://github.com/silvia1993/DANN_Template/\n",
        "\n",
        "# Setup data\n",
        "!rm -rf data || true\n",
        "!rm -rf record || true\n",
        "!mkdir data\n",
        "!mkdir data/kfold\n",
        "!cp -r Homework3-PACS/PACS/ data/kfold\n",
        "!cp DANN_Template/txt_lists/*.txt data\n",
        "!rm -rf Homework3-PACS/\n",
        "!rm -rf DANN_Template/\n",
        "!rm -rf sample_data || true"
      ]
    },
    {
      "cell_type": "markdown",
      "metadata": {
        "id": "bCGGDU0Yvmvx"
      },
      "source": [
        "### Globals"
      ]
    },
    {
      "cell_type": "markdown",
      "metadata": {
        "id": "ks2GUIKUvmvx"
      },
      "source": [
        "#### globals"
      ]
    },
    {
      "cell_type": "code",
      "execution_count": 16,
      "metadata": {
        "id": "CKy4Lcn5vmvy"
      },
      "outputs": [],
      "source": [
        "class dotdict(dict):\n",
        "    \"\"\"dot.notation access to dictionary attributes\"\"\"\n",
        "    __getattr__ = dict.get\n",
        "    __setattr__ = dict.__setitem__\n",
        "    __delattr__ = dict.__delitem__\n",
        "\n",
        "CONFIG = dotdict({})\n",
        "\n",
        "if torch.cuda.is_available():\n",
        "    CONFIG.device = 'cuda'\n",
        "elif torch.backends.mps.is_available() and torch.backends.mps.is_built():\n",
        "    CONFIG.device = 'mps'\n",
        "else:\n",
        "    CONFIG.device = 'cpu'\n",
        "\n",
        "CONFIG.dtype = torch.float32"
      ]
    },
    {
      "cell_type": "markdown",
      "metadata": {
        "id": "3X-3ocOEvmvy"
      },
      "source": [
        "#### parse args"
      ]
    },
    {
      "cell_type": "code",
      "execution_count": 17,
      "metadata": {
        "id": "ri1QrU7_vmvz"
      },
      "outputs": [],
      "source": [
        "def _clear_args(parsed_args):\n",
        "    parsed_args.experiment_args = eval(parsed_args.experiment_args)\n",
        "    parsed_args.dataset_args = eval(parsed_args.dataset_args)\n",
        "    return parsed_args\n",
        "\n",
        "\n",
        "def parse_arguments():\n",
        "    parser = ArgumentParser()\n",
        "\n",
        "    parser.add_argument('--seed', type=int, default=0, help='Seed used for deterministic behavior')\n",
        "    parser.add_argument('--test_only', action='store_true', help='Whether to skip training')\n",
        "    parser.add_argument('--cpu', action='store_true', help='Whether to force the usage of CPU')\n",
        "\n",
        "    parser.add_argument('--experiment', type=str, default='baseline')\n",
        "    parser.add_argument('--experiment_name', type=str, default='baseline')\n",
        "    parser.add_argument('--experiment_args', type=str, default='{}')\n",
        "    parser.add_argument('--dataset_args', type=str, default='{}')\n",
        "\n",
        "    parser.add_argument('--batch_size', type=int, default=128)\n",
        "    parser.add_argument('--epochs', type=int, default=30)\n",
        "    parser.add_argument('--num_workers', type=int, default=5)\n",
        "    parser.add_argument('--grad_accum_steps', type=int, default=1)\n",
        "\n",
        "    return _clear_args(parser.parse_args())"
      ]
    },
    {
      "cell_type": "markdown",
      "metadata": {
        "id": "l7_xoRWhvmvz"
      },
      "source": [
        "#### Global variables"
      ]
    },
    {
      "cell_type": "code",
      "execution_count": 18,
      "metadata": {
        "id": "GA15sREQvmvz"
      },
      "outputs": [],
      "source": [
        "DEVICE = 'cuda' if torch.cuda.is_available() else 'cpu'\n",
        "NUM_CLASSES = 7\n",
        "BATCH_SIZE = 256\n",
        "LR = 1e-3               # The initial Learning Rate\n",
        "MOMENTUM = 0.9          # Hyperparameter for SGD, keep this at 0.9 when using SGD\n",
        "WEIGHT_DECAY = 5e-5     # Regularization, you can keep this at the default\n",
        "NUM_EPOCHS = 30         # Total number of training epochs (iterations over dataset)\n",
        "STEP_SIZE = 20          # How many epochs before decreasing learning rate (if using a step-down policy)\n",
        "GAMMA = 0.1             # Multiplicative factor for learning rate step-down\n",
        "\n",
        "LOG_FREQUENCY = 10"
      ]
    },
    {
      "cell_type": "markdown",
      "metadata": {
        "id": "UjcULfoOvmv0"
      },
      "source": [
        "### Dataset"
      ]
    },
    {
      "cell_type": "markdown",
      "metadata": {
        "id": "2juNIEQ9vmv0"
      },
      "source": [
        "#### utils"
      ]
    },
    {
      "cell_type": "code",
      "execution_count": 19,
      "metadata": {
        "id": "XSPzZSuSvmv0"
      },
      "outputs": [],
      "source": [
        "class BaseDataset(Dataset):\n",
        "    def __init__(self, examples, transform):\n",
        "        self.examples = examples\n",
        "        self.T = transform\n",
        "\n",
        "\n",
        "    def __len__(self):\n",
        "        return len(self.examples)\n",
        "\n",
        "\n",
        "    def __getitem__(self, index):\n",
        "        x, y = self.examples[index]\n",
        "        x = Image.open(x).convert('RGB')\n",
        "        x = self.T(x).to(CONFIG.dtype)\n",
        "        y = torch.tensor(y).long()\n",
        "        return x, y\n",
        "\n",
        "######################################################\n",
        "\n",
        "class DomainAdaptationDataset(Dataset):\n",
        "    def __init__(self, source_examples, target_examples, transform):\n",
        "        self.source_examples = source_examples\n",
        "        self.target_examples = target_examples\n",
        "        self.T = transform\n",
        "\n",
        "\n",
        "    def __len__(self):\n",
        "        return len(self.source_examples)\n",
        "\n",
        "\n",
        "    def __getitem__(self, index):\n",
        "        src_x, src_y = self.source_examples[index]\n",
        "        src_x = Image.open(src_x).convert('RGB')\n",
        "        src_x = self.T(src_x).to(CONFIG.dtype)\n",
        "        src_y = torch.tensor(src_y).long()\n",
        "\n",
        "        # randomly sample 'target_examples' to obtain targ_x\n",
        "        target_idx = torch.randint(len(self.target_examples), size=(1,)).item()\n",
        "        targ_x, _ = self.target_examples[target_idx]\n",
        "        targ_x = Image.open(targ_x).convert('RGB')\n",
        "        targ_x = self.T(targ_x).to(CONFIG.dtype)\n",
        "\n",
        "        return src_x, src_y, targ_x\n",
        "\n",
        "######################################################\n",
        "\n",
        "# [OPTIONAL] TODO: modify 'BaseDataset' for the Domain Generalization setting.\n",
        "# Hint: combine the examples from the 3 source domains into a single 'examples' list\n",
        "#class DomainGeneralizationDataset(Dataset):\n",
        "#    def __init__(self, examples, transform):\n",
        "#        self.examples = examples\n",
        "#        self.T = transform\n",
        "#\n",
        "#    def __len__(self):\n",
        "#        return len(self.examples)\n",
        "#\n",
        "#    def __getitem__(self, index):\n",
        "#        x1, x2, x3 = self.examples[index]\n",
        "#        x1, x2, x3 = self.T(x1), self.T(x2), self.T(x3)\n",
        "#        targ_x = self.T(targ_x)\n",
        "#        return x1, x2, x3\n",
        "\n",
        "######################################################\n",
        "\n",
        "class SeededDataLoader(DataLoader):\n",
        "    def __init__(self, dataset: Dataset, batch_size=1, shuffle=None,\n",
        "                 sampler=None,\n",
        "                 batch_sampler=None,\n",
        "                 num_workers=0, collate_fn=None,\n",
        "                 pin_memory=False, drop_last=False, timeout=0,\n",
        "                 worker_init_fn=None, multiprocessing_context=None,\n",
        "                 generator=None, *, prefetch_factor=None, persistent_workers=False,\n",
        "                 pin_memory_device=\"\"):\n",
        "\n",
        "        if not CONFIG.use_nondeterministic:\n",
        "            def seed_worker(worker_id):\n",
        "                worker_seed = torch.initial_seed() % 2**32\n",
        "                np.random.seed(worker_seed)\n",
        "                random.seed(worker_seed)\n",
        "\n",
        "            generator = torch.Generator()\n",
        "            generator.manual_seed(CONFIG.seed)\n",
        "\n",
        "            worker_init_fn = seed_worker\n",
        "\n",
        "        super().__init__(dataset, batch_size, shuffle, sampler, batch_sampler, num_workers, collate_fn,\n",
        "                         pin_memory, drop_last, timeout, worker_init_fn, multiprocessing_context, generator,\n",
        "                         prefetch_factor=prefetch_factor, persistent_workers=persistent_workers,\n",
        "                         pin_memory_device=pin_memory_device)"
      ]
    },
    {
      "cell_type": "markdown",
      "metadata": {
        "id": "8COjLe2Fvmv0"
      },
      "source": [
        "#### PACS"
      ]
    },
    {
      "cell_type": "code",
      "execution_count": 20,
      "metadata": {
        "id": "qJ3cq4Ofvmv1"
      },
      "outputs": [],
      "source": [
        "def get_transform(size, mean, std, preprocess):\n",
        "    transform = []\n",
        "    if preprocess:\n",
        "        transform.append(T.Resize(256))\n",
        "        transform.append(T.RandomResizedCrop(size=size, scale=(0.7, 1.0)))\n",
        "        transform.append(T.RandomHorizontalFlip())\n",
        "    else:\n",
        "        transform.append(T.Resize(size))\n",
        "    transform.append(T.ToTensor())\n",
        "    transform.append(T.Normalize(mean, std))\n",
        "    return T.Compose(transform)\n",
        "\n",
        "\n",
        "def load_data():\n",
        "    CONFIG.num_classes = 7\n",
        "    CONFIG.data_input_size = (3, 224, 224)\n",
        "\n",
        "    # Create transforms\n",
        "    mean, std = (0.485, 0.456, 0.406), (0.229, 0.224, 0.225) # ImageNet Pretrain statistics\n",
        "    train_transform = get_transform(size=224, mean=mean, std=std, preprocess=True)\n",
        "    test_transform = get_transform(size=224, mean=mean, std=std, preprocess=False)\n",
        "\n",
        "    # Load examples\n",
        "    source_examples, target_examples = [], []\n",
        "    if CONFIG.experiment in ['baseline', 'random', 'domain_adaptation']:\n",
        "        # Load source\n",
        "        f = open(os.path.join(CONFIG.dataset_args['text_root'], f\"{CONFIG.dataset_args['source_domain']}.txt\"), 'r')\n",
        "        for line in f:\n",
        "            line = line.strip().split()\n",
        "            path, label = line[0].split('/')[0:], int(line[1])\n",
        "            source_examples.append((os.path.join(CONFIG.dataset_args['images_root'], *path), label))\n",
        "        f.close()\n",
        "\n",
        "        # Load target\n",
        "        f = open(os.path.join(CONFIG.dataset_args['text_root'], f\"{CONFIG.dataset_args['target_domain']}.txt\"), 'r')\n",
        "        for line in f:\n",
        "            line = line.strip().split()\n",
        "            path, label = line[0].split('/')[0:], int(line[1])\n",
        "            target_examples.append((os.path.join(CONFIG.dataset_args['images_root'], *path), label))\n",
        "        f.close()\n",
        "\n",
        "    # create Dataset object for the baseline and the Random Maps Ablation experiments\n",
        "    if CONFIG.experiment in ['baseline', 'random']:\n",
        "        train_dataset = BaseDataset(source_examples, transform=train_transform)\n",
        "        test_dataset = BaseDataset(target_examples, transform=test_transform)\n",
        "\n",
        "    # create Dataset object for the Domain Adaptation experiments\n",
        "    if CONFIG.experiment in ['domain_adaptation']:\n",
        "        train_dataset = DomainAdaptationDataset(source_examples, target_examples, transform=train_transform)\n",
        "        test_dataset = BaseDataset(target_examples, transform=test_transform)\n",
        "\n",
        "    ######################################################\n",
        "\n",
        "    # Dataloaders\n",
        "    train_loader = SeededDataLoader(\n",
        "        train_dataset,\n",
        "        batch_size=CONFIG.batch_size,\n",
        "        shuffle=True,\n",
        "        num_workers=CONFIG.num_workers,\n",
        "        pin_memory=True,\n",
        "        persistent_workers=True\n",
        "    )\n",
        "\n",
        "    test_loader = SeededDataLoader(\n",
        "        test_dataset,\n",
        "        batch_size=CONFIG.batch_size,\n",
        "        shuffle=False,\n",
        "        num_workers=CONFIG.num_workers,\n",
        "        pin_memory=True,\n",
        "        persistent_workers=True\n",
        "    )\n",
        "\n",
        "    return {'train': train_loader, 'test': test_loader}"
      ]
    },
    {
      "cell_type": "markdown",
      "metadata": {
        "id": "pDUK98dRvmv1"
      },
      "source": [
        "### Models"
      ]
    },
    {
      "cell_type": "markdown",
      "metadata": {
        "id": "kRb0wPBTvmv1"
      },
      "source": [
        "#### Base ResNet 18"
      ]
    },
    {
      "cell_type": "code",
      "execution_count": 21,
      "metadata": {
        "id": "RT5Z64b0vmv1"
      },
      "outputs": [],
      "source": [
        "class BaseResNet18(nn.Module):\n",
        "    def __init__(self):\n",
        "        super(BaseResNet18, self).__init__()\n",
        "        self.resnet = resnet18(weights=ResNet18_Weights)\n",
        "        self.resnet.fc = nn.Linear(self.resnet.fc.in_features, 7)\n",
        "\n",
        "\n",
        "    def forward(self, x):\n",
        "        return self.resnet(x)"
      ]
    },
    {
      "cell_type": "markdown",
      "metadata": {
        "id": "nRnqcOEM1H3G"
      },
      "source": [
        "#### ASH ResNet 18"
      ]
    },
    {
      "cell_type": "code",
      "execution_count": 22,
      "metadata": {
        "id": "2gaQKaiO1H3G"
      },
      "outputs": [],
      "source": [
        "def get_activation_shaping_hook (mask):\n",
        "\n",
        "    # Activation Shaping Module as a function that shall be hooked via 'register_forward_hook'\n",
        "    # The hook captures mask variable from the parent scope, to update it,\n",
        "    # remove() the hook and register a new one with the updated mask.\n",
        "\n",
        "    def activation_shaping_hook(module, input, output):\n",
        "\n",
        "        # print('ASH module registered on: ', module, 'mask shape: ', mask.shape, 'mask sum(): ', mask.sum())\n",
        "\n",
        "        # binarize both activation map and mask using zero as threshold\n",
        "        A_binary = torch.where(output<=0, torch.tensor(0.0), torch.tensor(1.0))\n",
        "        M_binary = torch.where(mask<=0, torch.tensor(0.0), torch.tensor(1.0))\n",
        "\n",
        "        # return the element-wise product of activation map and mask\n",
        "        shaped_output = A_binary * M_binary\n",
        "        return shaped_output\n",
        "\n",
        "    return activation_shaping_hook\n",
        "\n",
        "######################################################\n",
        "\n",
        "# 'BaseResNet18' including the Activation Shaping Module\n",
        "class ASHResNet18(nn.Module):\n",
        "    def __init__(self):\n",
        "        super(ASHResNet18, self).__init__()\n",
        "        self.resnet = resnet18(weights=ResNet18_Weights)\n",
        "        self.resnet.fc = nn.Linear(self.resnet.fc.in_features, 7)\n",
        "\n",
        "        self.hook_handles = {}\n",
        "\n",
        "\n",
        "    def register_activation_shaping_hook(self, layer_name, mask):\n",
        "        hook = get_activation_shaping_hook(mask)\n",
        "\n",
        "        for name, module in self.resnet.named_modules():\n",
        "            if ((isinstance(module, nn.ReLU) or isinstance(module, nn.Conv2d) or isinstance(module, nn.BatchNorm2d)) and name == layer_name):\n",
        "                if not name in self.hook_handles:\n",
        "                    print('Insert activation shaping layer after ', name, module)\n",
        "                    self.hook_handles[name] = module.register_forward_hook(hook)\n",
        "\n",
        "\n",
        "    def remove_activation_shaping_hook(self, name):\n",
        "        if name in self.hook_handles and self.hook_handles[name] is not None:\n",
        "            handle = self.hook_handles[name]\n",
        "            handle.remove()\n",
        "\n",
        "\n",
        "    def forward(self, x):\n",
        "        return self.resnet(x)"
      ]
    },
    {
      "cell_type": "markdown",
      "metadata": {
        "id": "67LcsnNY1H3G"
      },
      "source": [
        "#### ASH ResNet 18 for Domain Adaptation"
      ]
    },
    {
      "cell_type": "code",
      "execution_count": 23,
      "metadata": {
        "id": "sdD68Po71H3G"
      },
      "outputs": [],
      "source": [
        "# 'BaseResNet18' including the Activation Shaping Module for Domain Adaptation\n",
        "class ASHResNet18DomainAdaptation(nn.Module):\n",
        "    def __init__(self, module_placement=None):\n",
        "        super(ASHResNet18DomainAdaptation, self).__init__()\n",
        "        self.resnet = resnet18(weights=ResNet18_Weights)\n",
        "        self.resnet.fc = nn.Linear(self.resnet.fc.in_features, 7)\n",
        "\n",
        "        self.module_placement = module_placement\n",
        "        if module_placement==[]: self.module_placement = None\n",
        "        self.activation_maps = {}\n",
        "        self.activation_map_hook_handles = {}\n",
        "\n",
        "\n",
        "    def get_extract_activation_map_hook1 (self, layer_name):\n",
        "        def extract_activation_map_hook(module, input, output):\n",
        "            self.activation_maps[layer_name] = output.clone().detach()\n",
        "        return extract_activation_map_hook\n",
        "\n",
        "\n",
        "    def get_extract_activation_map_hook2 (self, layer_name):\n",
        "        def extract_activation_map_hook(module, input, output):\n",
        "            A = torch.where(output<=0, torch.tensor(0.0), torch.tensor(1.0))\n",
        "            M = self.activation_maps[layer_name]\n",
        "            A = torch.where(M<=0, torch.tensor(0.0), torch.tensor(1.0))\n",
        "            shaped_output = A * M\n",
        "            return shaped_output\n",
        "        return extract_activation_map_hook\n",
        "\n",
        "\n",
        "    def forward(self, x, targ_x=None):\n",
        "        if targ_x is not None: # First step for point 3\n",
        "            if self.module_placement is not None:\n",
        "                # Register a hook and perform a forward pass to store the target domain activation maps\n",
        "                for layer_name, module in self.resnet.named_modules():\n",
        "                    if (isinstance(module, nn.Conv2d) and layer_name in self.module_placement):\n",
        "                        #print('Register a hook to store activation map of layer ', layer_name, module)\n",
        "                        hook = self.get_extract_activation_map_hook1(layer_name)\n",
        "                        self.activation_map_hook_handles[layer_name] = module.register_forward_hook(hook)\n",
        "                _ = self.resnet(targ_x)\n",
        "        else: # Second step for point 3\n",
        "            if self.module_placement is not None:\n",
        "                # Register a hook and perform a forward pass to compute source labels\n",
        "                for layer_name, module in self.resnet.named_modules():\n",
        "                    if (isinstance(module, nn.Conv2d) and layer_name in self.module_placement):\n",
        "                        #print('Register a hook to store activation map of layer ', layer_name, module)\n",
        "                        hook = self.get_extract_activation_map_hook2(layer_name)\n",
        "                        self.activation_map_hook_handles[layer_name] = module.register_forward_hook(hook)\n",
        "        output = self.resnet(x)\n",
        "\n",
        "        return output"
      ]
    },
    {
      "cell_type": "markdown",
      "metadata": {
        "id": "qSD7qmGTvmv2"
      },
      "source": [
        "### Run"
      ]
    },
    {
      "cell_type": "markdown",
      "metadata": {
        "id": "Xw07UrGmdRdk"
      },
      "source": [
        "#### Evaluate"
      ]
    },
    {
      "cell_type": "code",
      "execution_count": 24,
      "metadata": {
        "id": "LP7mr-ccdRdl"
      },
      "outputs": [],
      "source": [
        "@torch.no_grad()\n",
        "def evaluate(model, data):\n",
        "    model.eval()\n",
        "\n",
        "    acc_meter = Accuracy(task='multiclass', num_classes=CONFIG.num_classes)\n",
        "    acc_meter = acc_meter.to(CONFIG.device)\n",
        "\n",
        "    loss = [0.0, 0]\n",
        "    for x, y in tqdm(data):\n",
        "        with torch.autocast(device_type=CONFIG.device, dtype=torch.float16, enabled=True):\n",
        "            x, y = x.to(CONFIG.device), y.to(CONFIG.device)\n",
        "            logits = model(x)\n",
        "            acc_meter.update(logits, y)\n",
        "            loss[0] += F.cross_entropy(logits, y).item()\n",
        "            loss[1] += x.size(0)\n",
        "\n",
        "    accuracy = acc_meter.compute()\n",
        "    loss = loss[0] / loss[1]\n",
        "    logging.info(f'Accuracy: {100 * accuracy:.2f} - Loss: {loss}')\n",
        "    print(f'Accuracy: {100 * accuracy:.2f} - Loss: {loss} \\n')"
      ]
    },
    {
      "cell_type": "markdown",
      "metadata": {
        "id": "i6uEldLZdRdl"
      },
      "source": [
        "#### Train"
      ]
    },
    {
      "cell_type": "code",
      "execution_count": 25,
      "metadata": {
        "id": "98_3TWLTvmv2"
      },
      "outputs": [],
      "source": [
        "def train(model, data):\n",
        "    # Create optimizers & schedulers\n",
        "    optimizer = torch.optim.SGD(model.parameters(), weight_decay=0.0005, momentum=0.9, nesterov=True, lr=0.001)\n",
        "    scheduler = torch.optim.lr_scheduler.StepLR(optimizer, step_size=int(CONFIG.epochs * 0.8), gamma=0.1)\n",
        "    scaler = torch.cuda.amp.GradScaler(enabled=True)\n",
        "\n",
        "    # Load checkpoint (if it exists)\n",
        "    cur_epoch = 0\n",
        "    if os.path.exists(os.path.join('record', CONFIG.experiment_name, 'last.pth')):\n",
        "        checkpoint = torch.load(os.path.join('record', CONFIG.experiment_name, 'last.pth'))\n",
        "        cur_epoch = checkpoint['epoch']\n",
        "        optimizer.load_state_dict(checkpoint['optimizer'])\n",
        "        scheduler.load_state_dict(checkpoint['scheduler'])\n",
        "        model.load_state_dict(checkpoint['model'])\n",
        "\n",
        "    # Optimization loop\n",
        "    for epoch in range(cur_epoch, CONFIG.epochs):\n",
        "        model.train()\n",
        "\n",
        "        for batch_idx, batch in enumerate(tqdm(data['train'])):\n",
        "\n",
        "            # Compute loss\n",
        "            with torch.autocast(device_type=CONFIG.device, dtype=torch.float16, enabled=True):\n",
        "\n",
        "                if CONFIG.experiment in ['baseline']:\n",
        "                    x, y = batch\n",
        "                    x, y = x.to(CONFIG.device), y.to(CONFIG.device)\n",
        "                    loss = F.cross_entropy(model(x), y)\n",
        "\n",
        "                ######################################################\n",
        "\n",
        "                elif CONFIG.experiment in ['random']:\n",
        "                    x, y = batch\n",
        "                    x, y = x.to(CONFIG.device), y.to(CONFIG.device)\n",
        "                    loss = F.cross_entropy(model(x), y)\n",
        "\n",
        "                elif CONFIG.experiment in ['domain_adaptation']:\n",
        "                    src_x, src_y, targ_x = batch\n",
        "                    x, y = src_x.to(CONFIG.device), src_y.to(CONFIG.device)\n",
        "                    targ_x = targ_x.to(CONFIG.device)\n",
        "                    loss = F.cross_entropy(model(x, targ_x=targ_x), y)\n",
        "\n",
        "                ######################################################\n",
        "\n",
        "            # Optimization step\n",
        "            scaler.scale(loss / CONFIG.grad_accum_steps).backward()\n",
        "\n",
        "            if ((batch_idx + 1) % CONFIG.grad_accum_steps == 0) or (batch_idx + 1 == len(data['train'])):\n",
        "                scaler.step(optimizer)\n",
        "                optimizer.zero_grad(set_to_none=True)\n",
        "                scaler.update()\n",
        "\n",
        "        scheduler.step()\n",
        "\n",
        "        # Test current epoch\n",
        "        logging.info(f'[TEST @ Epoch={epoch}]')\n",
        "        evaluate(model, data['test'])\n",
        "\n",
        "        # Save checkpoint\n",
        "        checkpoint = {\n",
        "            'epoch': epoch + 1,\n",
        "            'optimizer': optimizer.state_dict(),\n",
        "            'scheduler': scheduler.state_dict(),\n",
        "            'model': model.state_dict()\n",
        "        }\n",
        "        torch.save(checkpoint, os.path.join('record', CONFIG.experiment_name, 'last.pth'))"
      ]
    },
    {
      "cell_type": "markdown",
      "metadata": {
        "id": "zKNcF0QVOT-N"
      },
      "source": [
        "#### Main"
      ]
    },
    {
      "cell_type": "code",
      "execution_count": 26,
      "metadata": {
        "id": "veneeQdydRdl"
      },
      "outputs": [],
      "source": [
        "layer_output_shapes = {\n",
        "    'layer1.0.conv1': (64, 56, 56),         'layer1.0.relu': (64, 56, 56),          'layer1.0.conv2': (64, 56, 56),\n",
        "    'layer1.1.conv1': (64, 56, 56),         'layer1.1.bn1': (64, 56, 56),           'layer1.1.relu': (64, 56, 56),          'layer1.1.conv2': (64, 56, 56),         'layer1.1.bn2': (64, 56, 56),\n",
        "    'layer2.0.conv1': (128, 28, 28),        'layer2.0.relu': (128, 28, 28),         'layer2.0.conv2': (128, 28, 28),\n",
        "    'layer2.1.conv1': (128, 28, 28),        'layer2.1.relu': (128, 28, 28),         'layer2.1.conv2': (128, 28, 28),\n",
        "    'layer3.0.conv1': (256, 14, 14),        'layer3.0.relu': (256, 14, 14),         'layer3.0.conv2': (256, 14, 14),\n",
        "    'layer3.1.conv1': (256, 14, 14),        'layer3.1.relu': (256, 14, 14),         'layer3.1.conv2': (256, 14, 14),\n",
        "    'layer4.0.conv1': (512, 7, 7),          'layer4.0.relu': (512, 7, 7),           'layer4.0.conv2': (512, 7, 7),\n",
        "    'layer4.1.conv1': (512, 7, 7),          'layer4.1.relu': (512, 7, 7),           'layer4.1.conv2': (512, 7, 7)\n",
        "}\n",
        "\n",
        "\n",
        "def create_random_mask(layer_name = 'layer4.1.conv2', mask_out_ratio = 0.0):\n",
        "    # create a mask tensor with a given ratio of zeros\n",
        "    print('mask_out_ratio: ',mask_out_ratio)\n",
        "    layer_output_shape = layer_output_shapes[layer_name]\n",
        "\n",
        "    rand_mat = torch.rand(layer_output_shape).to(CONFIG.device)\n",
        "    mask = torch.where(rand_mat <= mask_out_ratio, 0.0, 1.0).to(CONFIG.device)\n",
        "    return mask\n",
        "\n",
        "\n",
        "def main ():\n",
        "    # Load dataset\n",
        "    data = load_data()\n",
        "\n",
        "    # Load model\n",
        "    if CONFIG.experiment in ['baseline']:\n",
        "        model = BaseResNet18()\n",
        "\n",
        "    ######################################################\n",
        "\n",
        "    elif CONFIG.experiment in ['random']:\n",
        "        model = ASHResNet18()\n",
        "        module_placement = CONFIG.experiment_args['module_placement']\n",
        "        mask_out_ratio = CONFIG.experiment_args['mask_out_ratio']\n",
        "\n",
        "        for layer_name in module_placement:\n",
        "            random_mask = create_random_mask(layer_name = layer_name, mask_out_ratio = mask_out_ratio)\n",
        "            print('layer_name', layer_name, 'random_mask sum(): ', random_mask.sum())\n",
        "            model.register_activation_shaping_hook(layer_name, random_mask)\n",
        "\n",
        "    elif CONFIG.experiment in ['domain_adaptation']:\n",
        "        module_placement = CONFIG.experiment_args['module_placement']\n",
        "        model = ASHResNet18DomainAdaptation(module_placement)\n",
        "\n",
        "    ######################################################\n",
        "\n",
        "    model.to(CONFIG.device)\n",
        "\n",
        "    if not CONFIG.test_only:\n",
        "        train(model, data)\n",
        "    else:\n",
        "        evaluate(model, data['test'])\n"
      ]
    },
    {
      "cell_type": "markdown",
      "metadata": {
        "id": "S8QfEHXgrl_A"
      },
      "source": [
        "## 0 - Reproduce the Baseline"
      ]
    },
    {
      "cell_type": "markdown",
      "metadata": {
        "id": "0XMhO3LgdRdl"
      },
      "source": [
        "### 0.1 - Baseline"
      ]
    },
    {
      "cell_type": "markdown",
      "metadata": {
        "id": "DFjB655wdRdm"
      },
      "source": [
        "#### 0.1.1 - Art painting &rightarrow; Cartoon"
      ]
    },
    {
      "cell_type": "code",
      "execution_count": null,
      "metadata": {
        "id": "6lI_Y0btdRdm"
      },
      "outputs": [],
      "source": [
        "warnings.filterwarnings('ignore', category=UserWarning)\n",
        "\n",
        "# Parse arguments\n",
        "conf = { # Art Painting -> Cartoon\n",
        "    'seed': 0,\n",
        "    'test_only': False,\n",
        "    'cpu': False,\n",
        "    'experiment': 'baseline',\n",
        "    'experiment_name': '0_1_1',\n",
        "    'experiment_args': '{}',\n",
        "    'dataset_args': { 'text_root': 'data', 'images_root': 'data/kfold/PACS', 'source_domain': 'art_painting', 'target_domain': 'cartoon' },\n",
        "    'batch_size': 128,\n",
        "    'epochs': 30,\n",
        "    'num_workers': 5,\n",
        "    'grad_accum_steps': 1\n",
        "}\n",
        "\n",
        "#args = parse_arguments()\n",
        "args = argparse.Namespace(**conf)\n",
        "print(args)\n",
        "CONFIG.update(vars(args))\n",
        "\n",
        "# Setup output directory\n",
        "CONFIG.save_dir = os.path.join('record', CONFIG.experiment_name)\n",
        "os.makedirs(CONFIG.save_dir, exist_ok=True)\n",
        "\n",
        "# Setup logging\n",
        "logging.basicConfig(\n",
        "    filename=os.path.join(CONFIG.save_dir, 'log.txt'),\n",
        "    format='%(message)s',\n",
        "    level=logging.INFO,\n",
        "    filemode='a'\n",
        ")\n",
        "\n",
        "# Set experiment's device & deterministic behavior\n",
        "if CONFIG.cpu:\n",
        "    CONFIG.device = 'cpu'\n",
        "else:\n",
        "    CONFIG.device = 'cuda' if torch.cuda.is_available() else 'cpu'\n",
        "\n",
        "torch.manual_seed(CONFIG.seed)\n",
        "random.seed(CONFIG.seed)\n",
        "np.random.seed(CONFIG.seed)\n",
        "torch.backends.cudnn.benchmark = True\n",
        "torch.use_deterministic_algorithms(mode=True, warn_only=True)\n",
        "\n",
        "main()"
      ]
    },
    {
      "cell_type": "markdown",
      "metadata": {
        "id": "5AXg2S2XdRd9"
      },
      "source": [
        "#### 0.1.2 - Art painting &rightarrow; Sketch"
      ]
    },
    {
      "cell_type": "code",
      "execution_count": null,
      "metadata": {
        "id": "IBYGqertdRd_"
      },
      "outputs": [],
      "source": [
        "warnings.filterwarnings('ignore', category=UserWarning)\n",
        "\n",
        "# Parse arguments\n",
        "conf = { # Art Painting -> Sketch\n",
        "    'seed': 0,\n",
        "    'test_only': False,\n",
        "    'cpu': False,\n",
        "    'experiment': 'baseline',\n",
        "    'experiment_name': '0_1_2',\n",
        "    'experiment_args': '{}',\n",
        "    'dataset_args': { 'text_root': 'data', 'images_root': 'data/kfold/PACS', 'source_domain': 'art_painting', 'target_domain': 'sketch' },\n",
        "    'batch_size': 128,\n",
        "    'epochs': 30,\n",
        "    'num_workers': 5,\n",
        "    'grad_accum_steps': 1\n",
        "}\n",
        "\n",
        "#args = parse_arguments()\n",
        "args = argparse.Namespace(**conf)\n",
        "print(args)\n",
        "CONFIG.update(vars(args))\n",
        "\n",
        "# Setup output directory\n",
        "CONFIG.save_dir = os.path.join('record', CONFIG.experiment_name)\n",
        "os.makedirs(CONFIG.save_dir, exist_ok=True)\n",
        "\n",
        "# Setup logging\n",
        "logging.basicConfig(\n",
        "    filename=os.path.join(CONFIG.save_dir, 'log.txt'),\n",
        "    format='%(message)s',\n",
        "    level=logging.INFO,\n",
        "    filemode='a'\n",
        ")\n",
        "\n",
        "# Set experiment's device & deterministic behavior\n",
        "if CONFIG.cpu:\n",
        "    CONFIG.device = 'cpu'\n",
        "else:\n",
        "    CONFIG.device = 'cuda' if torch.cuda.is_available() else 'cpu'\n",
        "\n",
        "torch.manual_seed(CONFIG.seed)\n",
        "random.seed(CONFIG.seed)\n",
        "np.random.seed(CONFIG.seed)\n",
        "torch.backends.cudnn.benchmark = True\n",
        "torch.use_deterministic_algorithms(mode=True, warn_only=True)\n",
        "\n",
        "main()"
      ]
    },
    {
      "cell_type": "markdown",
      "metadata": {
        "id": "pTblrtLQdReB"
      },
      "source": [
        "#### 0.1.3 - Art painting &rightarrow; Photo"
      ]
    },
    {
      "cell_type": "code",
      "execution_count": null,
      "metadata": {
        "id": "n2KdYH7CdReB"
      },
      "outputs": [],
      "source": [
        "warnings.filterwarnings('ignore', category=UserWarning)\n",
        "\n",
        "# Parse arguments\n",
        "conf = { # Art Painting -> Photo\n",
        "    'seed': 0,\n",
        "    'test_only': False,\n",
        "    'cpu': False,\n",
        "    'experiment': 'baseline',\n",
        "    'experiment_name': '0_1_3',\n",
        "    'experiment_args': '{}',\n",
        "    'dataset_args': { 'text_root': 'data', 'images_root': 'data/kfold/PACS', 'source_domain': 'art_painting', 'target_domain': 'photo' },\n",
        "    'batch_size': 128,\n",
        "    'epochs': 30,\n",
        "    'num_workers': 5,\n",
        "    'grad_accum_steps': 1\n",
        "}\n",
        "\n",
        "#args = parse_arguments()\n",
        "args = argparse.Namespace(**conf)\n",
        "print(args)\n",
        "CONFIG.update(vars(args))\n",
        "\n",
        "# Setup output directory\n",
        "CONFIG.save_dir = os.path.join('record', CONFIG.experiment_name)\n",
        "os.makedirs(CONFIG.save_dir, exist_ok=True)\n",
        "\n",
        "# Setup logging\n",
        "logging.basicConfig(\n",
        "    filename=os.path.join(CONFIG.save_dir, 'log.txt'),\n",
        "    format='%(message)s',\n",
        "    level=logging.INFO,\n",
        "    filemode='a'\n",
        ")\n",
        "\n",
        "# Set experiment's device & deterministic behavior\n",
        "if CONFIG.cpu:\n",
        "    CONFIG.device = 'cpu'\n",
        "else:\n",
        "    CONFIG.device = 'cuda' if torch.cuda.is_available() else 'cpu'\n",
        "\n",
        "torch.manual_seed(CONFIG.seed)\n",
        "random.seed(CONFIG.seed)\n",
        "np.random.seed(CONFIG.seed)\n",
        "torch.backends.cudnn.benchmark = True\n",
        "torch.use_deterministic_algorithms(mode=True, warn_only=True)\n",
        "\n",
        "main()"
      ]
    },
    {
      "cell_type": "markdown",
      "metadata": {
        "id": "jLG77qbMvmv2"
      },
      "source": [
        "## 1 - Activation Shaping module"
      ]
    },
    {
      "cell_type": "markdown",
      "metadata": {
        "id": "QJt-AUA9rl_E"
      },
      "source": [
        "### 1.1 - ASH module after last convolutional layer"
      ]
    },
    {
      "cell_type": "markdown",
      "metadata": {
        "id": "WUGHvxxCrl_E"
      },
      "source": [
        "#### 1.1.1 - Art Painting &rightarrow; Cartoon"
      ]
    },
    {
      "cell_type": "code",
      "execution_count": null,
      "metadata": {
        "id": "CA2cTh4krl_E"
      },
      "outputs": [],
      "source": [
        "warnings.filterwarnings('ignore', category=UserWarning)\n",
        "\n",
        "# Parse arguments\n",
        "conf = { # Art Painting -> Cartoon\n",
        "    'seed': 0,\n",
        "    'test_only': False,\n",
        "    'cpu': False,\n",
        "    'experiment': 'random',\n",
        "    'experiment_name': '1_1_1',\n",
        "    'experiment_args': {'module_placement': ['layer4.1.conv2'], 'mask_out_ratio': 0.1},\n",
        "    'dataset_args': {'text_root': 'data', 'images_root': 'data/kfold/PACS', 'source_domain': 'art_painting', 'target_domain': 'cartoon' },\n",
        "    'batch_size': 128,\n",
        "    'epochs': 30,\n",
        "    'num_workers': 5,\n",
        "    'grad_accum_steps': 1\n",
        "}\n",
        "\n",
        "#args = parse_arguments()\n",
        "args = argparse.Namespace(**conf)\n",
        "print(args)\n",
        "CONFIG.update(vars(args))\n",
        "\n",
        "# Setup output directory\n",
        "CONFIG.save_dir = os.path.join('record', CONFIG.experiment_name)\n",
        "os.makedirs(CONFIG.save_dir, exist_ok=True)\n",
        "\n",
        "# Setup logging\n",
        "logging.basicConfig(\n",
        "    filename=os.path.join(CONFIG.save_dir, 'log.txt'),\n",
        "    format='%(message)s',\n",
        "    level=logging.INFO,\n",
        "    filemode='a'\n",
        ")\n",
        "\n",
        "# Set experiment's device & deterministic behavior\n",
        "if CONFIG.cpu:\n",
        "    CONFIG.device = 'cpu'\n",
        "else:\n",
        "    CONFIG.device = 'cuda' if torch.cuda.is_available() else 'cpu'\n",
        "\n",
        "torch.manual_seed(CONFIG.seed)\n",
        "random.seed(CONFIG.seed)\n",
        "np.random.seed(CONFIG.seed)\n",
        "torch.backends.cudnn.benchmark = True\n",
        "torch.use_deterministic_algorithms(mode=True, warn_only=True)\n",
        "\n",
        "main()"
      ]
    },
    {
      "cell_type": "markdown",
      "metadata": {
        "id": "rRi8PrKErl_F"
      },
      "source": [
        "#### 1.1.2 - Art Painting &rightarrow; Sketch"
      ]
    },
    {
      "cell_type": "code",
      "execution_count": null,
      "metadata": {
        "id": "N4t35fVfrl_F"
      },
      "outputs": [],
      "source": [
        "warnings.filterwarnings('ignore', category=UserWarning)\n",
        "\n",
        "# Parse arguments\n",
        "conf = { # Art Painting -> Sketch\n",
        "    'seed': 0,\n",
        "    'test_only': False,\n",
        "    'cpu': False,\n",
        "    'experiment': 'random',\n",
        "    'experiment_name': '1_1_2',\n",
        "    'experiment_args': {'module_placement': ['layer4.1.conv2'], 'mask_out_ratio': 0.1},\n",
        "    'dataset_args': {'text_root': 'data', 'images_root': 'data/kfold/PACS', 'source_domain': 'art_painting', 'target_domain': 'sketch' },\n",
        "    'batch_size': 128,\n",
        "    'epochs': 30,\n",
        "    'num_workers': 5,\n",
        "    'grad_accum_steps': 1\n",
        "}\n",
        "\n",
        "#args = parse_arguments()\n",
        "args = argparse.Namespace(**conf)\n",
        "print(args)\n",
        "CONFIG.update(vars(args))\n",
        "\n",
        "# Setup output directory\n",
        "CONFIG.save_dir = os.path.join('record', CONFIG.experiment_name)\n",
        "os.makedirs(CONFIG.save_dir, exist_ok=True)\n",
        "\n",
        "# Setup logging\n",
        "logging.basicConfig(\n",
        "    filename=os.path.join(CONFIG.save_dir, 'log.txt'),\n",
        "    format='%(message)s',\n",
        "    level=logging.INFO,\n",
        "    filemode='a'\n",
        ")\n",
        "\n",
        "# Set experiment's device & deterministic behavior\n",
        "if CONFIG.cpu:\n",
        "    CONFIG.device = 'cpu'\n",
        "else:\n",
        "    CONFIG.device = 'cuda' if torch.cuda.is_available() else 'cpu'\n",
        "\n",
        "torch.manual_seed(CONFIG.seed)\n",
        "random.seed(CONFIG.seed)\n",
        "np.random.seed(CONFIG.seed)\n",
        "torch.backends.cudnn.benchmark = True\n",
        "torch.use_deterministic_algorithms(mode=True, warn_only=True)\n",
        "\n",
        "main()"
      ]
    },
    {
      "cell_type": "markdown",
      "metadata": {
        "id": "ATLNzyzprl_F"
      },
      "source": [
        "#### 1.1.3 - Art Painting &rightarrow; Photo"
      ]
    },
    {
      "cell_type": "code",
      "execution_count": null,
      "metadata": {
        "id": "NONJIipxrl_F"
      },
      "outputs": [],
      "source": [
        "warnings.filterwarnings('ignore', category=UserWarning)\n",
        "\n",
        "# Parse arguments\n",
        "conf = { # Art Painting -> Photo\n",
        "    'seed': 0,\n",
        "    'test_only': False,\n",
        "    'cpu': False,\n",
        "    'experiment': 'random',\n",
        "    'experiment_name': '1_1_3',\n",
        "    'experiment_args': {'module_placement': ['layer4.1.conv2'], 'mask_out_ratio': 0.1},\n",
        "    'dataset_args': {'text_root': 'data', 'images_root': 'data/kfold/PACS', 'source_domain': 'art_painting', 'target_domain': 'photo' },\n",
        "    'batch_size': 128,\n",
        "    'epochs': 30,\n",
        "    'num_workers': 5,\n",
        "    'grad_accum_steps': 1\n",
        "}\n",
        "\n",
        "#args = parse_arguments()\n",
        "args = argparse.Namespace(**conf)\n",
        "print(args)\n",
        "CONFIG.update(vars(args))\n",
        "\n",
        "# Setup output directory\n",
        "CONFIG.save_dir = os.path.join('record', CONFIG.experiment_name)\n",
        "os.makedirs(CONFIG.save_dir, exist_ok=True)\n",
        "\n",
        "# Setup logging\n",
        "logging.basicConfig(\n",
        "    filename=os.path.join(CONFIG.save_dir, 'log.txt'),\n",
        "    format='%(message)s',\n",
        "    level=logging.INFO,\n",
        "    filemode='a'\n",
        ")\n",
        "\n",
        "# Set experiment's device & deterministic behavior\n",
        "if CONFIG.cpu:\n",
        "    CONFIG.device = 'cpu'\n",
        "else:\n",
        "    CONFIG.device = 'cuda' if torch.cuda.is_available() else 'cpu'\n",
        "\n",
        "torch.manual_seed(CONFIG.seed)\n",
        "random.seed(CONFIG.seed)\n",
        "np.random.seed(CONFIG.seed)\n",
        "torch.backends.cudnn.benchmark = True\n",
        "torch.use_deterministic_algorithms(mode=True, warn_only=True)\n",
        "\n",
        "main()"
      ]
    },
    {
      "cell_type": "markdown",
      "metadata": {
        "id": "NvLtyTRjrl_G"
      },
      "source": [
        "### 1.2 - ASH module after all convolutional layers"
      ]
    },
    {
      "cell_type": "markdown",
      "metadata": {
        "id": "onwMRuLorl_G"
      },
      "source": [
        "#### 1.2.1 - Art Painting &rightarrow; Cartoon"
      ]
    },
    {
      "cell_type": "code",
      "execution_count": null,
      "metadata": {
        "id": "7jvHRlRlrl_G"
      },
      "outputs": [],
      "source": [
        "warnings.filterwarnings('ignore', category=UserWarning)\n",
        "\n",
        "# Parse arguments\n",
        "conf = { # Art Painting -> Cartoon\n",
        "    'seed': 0,\n",
        "    'test_only': False,\n",
        "    'cpu': False,\n",
        "    'experiment': 'random',\n",
        "    'experiment_name': '1_2_1',\n",
        "    'experiment_args': {'module_placement': ['layer1.0.conv1', 'layer1.0.conv2', 'layer1.1.conv1', 'layer1.1.conv2', 'layer2.0.conv1', 'layer2.0.conv2', 'layer2.1.conv1', 'layer2.1.conv2', 'layer3.0.conv1', 'layer3.0.conv2', 'layer3.1.conv1', 'layer3.1.conv2', 'layer4.0.conv1', 'layer4.0.conv2', 'layer4.1.conv1', 'layer4.1.conv2'], 'mask_out_ratio': 0.1},\n",
        "    'dataset_args': {'text_root': 'data', 'images_root': 'data/kfold/PACS', 'source_domain': 'art_painting', 'target_domain': 'cartoon' },\n",
        "    'batch_size': 128,\n",
        "    'epochs': 30,\n",
        "    'num_workers': 5,\n",
        "    'grad_accum_steps': 1\n",
        "}\n",
        "\n",
        "#args = parse_arguments()\n",
        "args = argparse.Namespace(**conf)\n",
        "print(args)\n",
        "CONFIG.update(vars(args))\n",
        "\n",
        "# Setup output directory\n",
        "CONFIG.save_dir = os.path.join('record', CONFIG.experiment_name)\n",
        "os.makedirs(CONFIG.save_dir, exist_ok=True)\n",
        "\n",
        "# Setup logging\n",
        "logging.basicConfig(\n",
        "    filename=os.path.join(CONFIG.save_dir, 'log.txt'),\n",
        "    format='%(message)s',\n",
        "    level=logging.INFO,\n",
        "    filemode='a'\n",
        ")\n",
        "\n",
        "# Set experiment's device & deterministic behavior\n",
        "if CONFIG.cpu:\n",
        "    CONFIG.device = 'cpu'\n",
        "else:\n",
        "    CONFIG.device = 'cuda' if torch.cuda.is_available() else 'cpu'\n",
        "\n",
        "torch.manual_seed(CONFIG.seed)\n",
        "random.seed(CONFIG.seed)\n",
        "np.random.seed(CONFIG.seed)\n",
        "torch.backends.cudnn.benchmark = True\n",
        "torch.use_deterministic_algorithms(mode=True, warn_only=True)\n",
        "\n",
        "main()"
      ]
    },
    {
      "cell_type": "markdown",
      "metadata": {
        "id": "kdb7jtRjrl_G"
      },
      "source": [
        "#### 1.2.2 - Art Painting &rightarrow; Sketch"
      ]
    },
    {
      "cell_type": "code",
      "execution_count": null,
      "metadata": {
        "id": "WnN95cRzrl_H"
      },
      "outputs": [],
      "source": [
        "warnings.filterwarnings('ignore', category=UserWarning)\n",
        "\n",
        "# Parse arguments\n",
        "conf = { # Art Painting -> Sketch\n",
        "    'seed': 0,\n",
        "    'test_only': False,\n",
        "    'cpu': False,\n",
        "    'experiment': 'random',\n",
        "    'experiment_name': '1_2_2',\n",
        "    'experiment_args': {'module_placement': ['layer1.0.conv1', 'layer1.0.conv2', 'layer1.1.conv1', 'layer1.1.conv2', 'layer2.0.conv1', 'layer2.0.conv2', 'layer2.1.conv1', 'layer2.1.conv2', 'layer3.0.conv1', 'layer3.0.conv2', 'layer3.1.conv1', 'layer3.1.conv2', 'layer4.0.conv1', 'layer4.0.conv2', 'layer4.1.conv1', 'layer4.1.conv2'], 'mask_out_ratio': 0.1},\n",
        "    'dataset_args': {'text_root': 'data', 'images_root': 'data/kfold/PACS', 'source_domain': 'art_painting', 'target_domain': 'sketch' },\n",
        "    'batch_size': 128,\n",
        "    'epochs': 30,\n",
        "    'num_workers': 5,\n",
        "    'grad_accum_steps': 1\n",
        "}\n",
        "\n",
        "#args = parse_arguments()\n",
        "args = argparse.Namespace(**conf)\n",
        "print(args)\n",
        "CONFIG.update(vars(args))\n",
        "\n",
        "# Setup output directory\n",
        "CONFIG.save_dir = os.path.join('record', CONFIG.experiment_name)\n",
        "os.makedirs(CONFIG.save_dir, exist_ok=True)\n",
        "\n",
        "# Setup logging\n",
        "logging.basicConfig(\n",
        "    filename=os.path.join(CONFIG.save_dir, 'log.txt'),\n",
        "    format='%(message)s',\n",
        "    level=logging.INFO,\n",
        "    filemode='a'\n",
        ")\n",
        "\n",
        "# Set experiment's device & deterministic behavior\n",
        "if CONFIG.cpu:\n",
        "    CONFIG.device = 'cpu'\n",
        "else:\n",
        "    CONFIG.device = 'cuda' if torch.cuda.is_available() else 'cpu'\n",
        "\n",
        "torch.manual_seed(CONFIG.seed)\n",
        "random.seed(CONFIG.seed)\n",
        "np.random.seed(CONFIG.seed)\n",
        "torch.backends.cudnn.benchmark = True\n",
        "torch.use_deterministic_algorithms(mode=True, warn_only=True)\n",
        "\n",
        "main()"
      ]
    },
    {
      "cell_type": "markdown",
      "metadata": {
        "id": "T4AoDSi4rl_H"
      },
      "source": [
        "#### 1.2.3 - Art Painting &rightarrow; Photo"
      ]
    },
    {
      "cell_type": "code",
      "execution_count": null,
      "metadata": {
        "id": "GKUNITPrrl_H"
      },
      "outputs": [],
      "source": [
        "warnings.filterwarnings('ignore', category=UserWarning)\n",
        "\n",
        "# Parse arguments\n",
        "conf = { # Art Painting -> Photo\n",
        "    'seed': 0,\n",
        "    'test_only': False,\n",
        "    'cpu': False,\n",
        "    'experiment': 'random',\n",
        "    'experiment_name': '1_2_3',\n",
        "    'experiment_args': {'module_placement': ['layer1.0.conv1', 'layer1.0.conv2', 'layer1.1.conv1', 'layer1.1.conv2', 'layer2.0.conv1', 'layer2.0.conv2', 'layer2.1.conv1', 'layer2.1.conv2', 'layer3.0.conv1', 'layer3.0.conv2', 'layer3.1.conv1', 'layer3.1.conv2', 'layer4.0.conv1', 'layer4.0.conv2', 'layer4.1.conv1', 'layer4.1.conv2'], 'mask_out_ratio': 0.1},\n",
        "    'dataset_args': {'text_root': 'data', 'images_root': 'data/kfold/PACS', 'source_domain': 'art_painting', 'target_domain': 'photo' },\n",
        "    'batch_size': 128,\n",
        "    'epochs': 30,\n",
        "    'num_workers': 5,\n",
        "    'grad_accum_steps': 1\n",
        "}\n",
        "\n",
        "#args = parse_arguments()\n",
        "args = argparse.Namespace(**conf)\n",
        "print(args)\n",
        "CONFIG.update(vars(args))\n",
        "\n",
        "# Setup output directory\n",
        "CONFIG.save_dir = os.path.join('record', CONFIG.experiment_name)\n",
        "os.makedirs(CONFIG.save_dir, exist_ok=True)\n",
        "\n",
        "# Setup logging\n",
        "logging.basicConfig(\n",
        "    filename=os.path.join(CONFIG.save_dir, 'log.txt'),\n",
        "    format='%(message)s',\n",
        "    level=logging.INFO,\n",
        "    filemode='a'\n",
        ")\n",
        "\n",
        "# Set experiment's device & deterministic behavior\n",
        "if CONFIG.cpu:\n",
        "    CONFIG.device = 'cpu'\n",
        "else:\n",
        "    CONFIG.device = 'cuda' if torch.cuda.is_available() else 'cpu'\n",
        "\n",
        "torch.manual_seed(CONFIG.seed)\n",
        "random.seed(CONFIG.seed)\n",
        "np.random.seed(CONFIG.seed)\n",
        "torch.backends.cudnn.benchmark = True\n",
        "torch.use_deterministic_algorithms(mode=True, warn_only=True)\n",
        "\n",
        "main()"
      ]
    },
    {
      "cell_type": "markdown",
      "metadata": {
        "id": "I4GtAZHErl_I"
      },
      "source": [
        "### 1.3 - ASH module after every three convolutional layers"
      ]
    },
    {
      "cell_type": "markdown",
      "metadata": {
        "id": "9lVizGQbrl_I"
      },
      "source": [
        "#### 1.3.1 - Art Painting &rightarrow; Cartoon"
      ]
    },
    {
      "cell_type": "code",
      "execution_count": null,
      "metadata": {
        "id": "mTDNbo9wrl_J"
      },
      "outputs": [],
      "source": [
        "warnings.filterwarnings('ignore', category=UserWarning)\n",
        "\n",
        "# Parse arguments\n",
        "conf = { # Art Painting -> Cartoon\n",
        "    'seed': 0,\n",
        "    'test_only': False,\n",
        "    'cpu': False,\n",
        "    'experiment': 'random',\n",
        "    'experiment_name': '1_3_1',\n",
        "    'experiment_args': {'module_placement': ['layer1.0.conv1', 'layer1.1.conv2', 'layer2.1.conv1', 'layer3.0.conv2', 'layer4.0.conv1', 'layer4.1.conv2'], 'mask_out_ratio': 0.1},\n",
        "    'dataset_args': {'text_root': 'data', 'images_root': 'data/kfold/PACS', 'source_domain': 'art_painting', 'target_domain': 'cartoon' },\n",
        "    'batch_size': 128,\n",
        "    'epochs': 30,\n",
        "    'num_workers': 5,\n",
        "    'grad_accum_steps': 1\n",
        "}\n",
        "\n",
        "#args = parse_arguments()\n",
        "args = argparse.Namespace(**conf)\n",
        "print(args)\n",
        "CONFIG.update(vars(args))\n",
        "\n",
        "# Setup output directory\n",
        "CONFIG.save_dir = os.path.join('record', CONFIG.experiment_name)\n",
        "os.makedirs(CONFIG.save_dir, exist_ok=True)\n",
        "\n",
        "# Setup logging\n",
        "logging.basicConfig(\n",
        "    filename=os.path.join(CONFIG.save_dir, 'log.txt'),\n",
        "    format='%(message)s',\n",
        "    level=logging.INFO,\n",
        "    filemode='a'\n",
        ")\n",
        "\n",
        "# Set experiment's device & deterministic behavior\n",
        "if CONFIG.cpu:\n",
        "    CONFIG.device = 'cpu'\n",
        "else:\n",
        "    CONFIG.device = 'cuda' if torch.cuda.is_available() else 'cpu'\n",
        "\n",
        "torch.manual_seed(CONFIG.seed)\n",
        "random.seed(CONFIG.seed)\n",
        "np.random.seed(CONFIG.seed)\n",
        "torch.backends.cudnn.benchmark = True\n",
        "torch.use_deterministic_algorithms(mode=True, warn_only=True)\n",
        "\n",
        "main()"
      ]
    },
    {
      "cell_type": "markdown",
      "metadata": {
        "id": "iCRi4y8Rrl_J"
      },
      "source": [
        "#### 1.3.2 - Art Painting &rightarrow; Sketch"
      ]
    },
    {
      "cell_type": "code",
      "execution_count": null,
      "metadata": {
        "id": "l98ow9LPrl_K"
      },
      "outputs": [],
      "source": [
        "warnings.filterwarnings('ignore', category=UserWarning)\n",
        "\n",
        "# Parse arguments\n",
        "conf = { # Art Painting -> Sketch\n",
        "    'seed': 0,\n",
        "    'test_only': False,\n",
        "    'cpu': False,\n",
        "    'experiment': 'random',\n",
        "    'experiment_name': '1_3_2',\n",
        "    'experiment_args': {'module_placement': ['layer1.0.conv1', 'layer1.1.conv2', 'layer2.1.conv1', 'layer3.0.conv2', 'layer4.0.conv1', 'layer4.1.conv2'], 'mask_out_ratio': 0.1},\n",
        "    'dataset_args': {'text_root': 'data', 'images_root': 'data/kfold/PACS', 'source_domain': 'art_painting', 'target_domain': 'sketch' },\n",
        "    'batch_size': 128,\n",
        "    'epochs': 30,\n",
        "    'num_workers': 5,\n",
        "    'grad_accum_steps': 1\n",
        "}\n",
        "\n",
        "#args = parse_arguments()\n",
        "args = argparse.Namespace(**conf)\n",
        "print(args)\n",
        "CONFIG.update(vars(args))\n",
        "\n",
        "# Setup output directory\n",
        "CONFIG.save_dir = os.path.join('record', CONFIG.experiment_name)\n",
        "os.makedirs(CONFIG.save_dir, exist_ok=True)\n",
        "\n",
        "# Setup logging\n",
        "logging.basicConfig(\n",
        "    filename=os.path.join(CONFIG.save_dir, 'log.txt'),\n",
        "    format='%(message)s',\n",
        "    level=logging.INFO,\n",
        "    filemode='a'\n",
        ")\n",
        "\n",
        "# Set experiment's device & deterministic behavior\n",
        "if CONFIG.cpu:\n",
        "    CONFIG.device = 'cpu'\n",
        "else:\n",
        "    CONFIG.device = 'cuda' if torch.cuda.is_available() else 'cpu'\n",
        "\n",
        "torch.manual_seed(CONFIG.seed)\n",
        "random.seed(CONFIG.seed)\n",
        "np.random.seed(CONFIG.seed)\n",
        "torch.backends.cudnn.benchmark = True\n",
        "torch.use_deterministic_algorithms(mode=True, warn_only=True)\n",
        "\n",
        "main()"
      ]
    },
    {
      "cell_type": "markdown",
      "metadata": {
        "id": "hipg_3w9rl_K"
      },
      "source": [
        "#### 1.3.3 - Art Painting &rightarrow; Photo"
      ]
    },
    {
      "cell_type": "code",
      "execution_count": null,
      "metadata": {
        "id": "CGHkq6ryrl_K"
      },
      "outputs": [],
      "source": [
        "warnings.filterwarnings('ignore', category=UserWarning)\n",
        "\n",
        "# Parse arguments\n",
        "conf = { # Art Painting -> Photo\n",
        "    'seed': 0,\n",
        "    'test_only': False,\n",
        "    'cpu': False,\n",
        "    'experiment': 'random',\n",
        "    'experiment_name': '1_3_3',\n",
        "    'experiment_args': {'module_placement': ['layer1.0.conv1', 'layer1.1.conv2', 'layer2.1.conv1', 'layer3.0.conv2', 'layer4.0.conv1', 'layer4.1.conv2'], 'mask_out_ratio': 0.1},\n",
        "    'dataset_args': {'text_root': 'data', 'images_root': 'data/kfold/PACS', 'source_domain': 'art_painting', 'target_domain': 'photo' },\n",
        "    'batch_size': 128,\n",
        "    'epochs': 30,\n",
        "    'num_workers': 5,\n",
        "    'grad_accum_steps': 1\n",
        "}\n",
        "\n",
        "#args = parse_arguments()\n",
        "args = argparse.Namespace(**conf)\n",
        "print(args)\n",
        "CONFIG.update(vars(args))\n",
        "\n",
        "# Setup output directory\n",
        "CONFIG.save_dir = os.path.join('record', CONFIG.experiment_name)\n",
        "os.makedirs(CONFIG.save_dir, exist_ok=True)\n",
        "\n",
        "# Setup logging\n",
        "logging.basicConfig(\n",
        "    filename=os.path.join(CONFIG.save_dir, 'log.txt'),\n",
        "    format='%(message)s',\n",
        "    level=logging.INFO,\n",
        "    filemode='a'\n",
        ")\n",
        "\n",
        "# Set experiment's device & deterministic behavior\n",
        "if CONFIG.cpu:\n",
        "    CONFIG.device = 'cpu'\n",
        "else:\n",
        "    CONFIG.device = 'cuda' if torch.cuda.is_available() else 'cpu'\n",
        "\n",
        "torch.manual_seed(CONFIG.seed)\n",
        "random.seed(CONFIG.seed)\n",
        "np.random.seed(CONFIG.seed)\n",
        "torch.backends.cudnn.benchmark = True\n",
        "torch.use_deterministic_algorithms(mode=True, warn_only=True)\n",
        "\n",
        "main()"
      ]
    },
    {
      "cell_type": "markdown",
      "metadata": {
        "id": "34WzO42cvmv3"
      },
      "source": [
        "## 2 - Random Activation Maps"
      ]
    },
    {
      "cell_type": "markdown",
      "metadata": {
        "id": "2e4NXBO8rl_L"
      },
      "source": [
        "### 2.1 - ASH module after last convolutional layer"
      ]
    },
    {
      "cell_type": "markdown",
      "metadata": {
        "id": "s4S2D6c0rl_L"
      },
      "source": [
        "#### 2.1.1 - Art Painting &rightarrow; Cartoon, mor = 0.4"
      ]
    },
    {
      "cell_type": "code",
      "execution_count": 27,
      "metadata": {
        "colab": {
          "base_uri": "https://localhost:8080/"
        },
        "id": "9vDWPP66rl_L",
        "outputId": "3d69efe5-38b0-439f-b48f-a3969d479d13"
      },
      "outputs": [
        {
          "output_type": "stream",
          "name": "stdout",
          "text": [
            "Namespace(seed=0, test_only=False, cpu=False, experiment='random', experiment_name='2_1_1', experiment_args={'module_placement': ['layer4.1.conv2'], 'mask_out_ratio': 0.4}, dataset_args={'text_root': 'data', 'images_root': 'data/kfold/PACS', 'source_domain': 'art_painting', 'target_domain': 'cartoon'}, batch_size=128, epochs=30, num_workers=5, grad_accum_steps=1)\n"
          ]
        },
        {
          "output_type": "stream",
          "name": "stderr",
          "text": [
            "Downloading: \"https://download.pytorch.org/models/resnet18-f37072fd.pth\" to /root/.cache/torch/hub/checkpoints/resnet18-f37072fd.pth\n",
            "100%|██████████| 44.7M/44.7M [00:00<00:00, 168MB/s]\n"
          ]
        },
        {
          "output_type": "stream",
          "name": "stdout",
          "text": [
            "mask_out_ratio:  0.4\n",
            "layer_name layer4.1.conv2 random_mask sum():  tensor(15133., device='cuda:0')\n",
            "Insert activation shaping layer after  layer4.1.conv2 Conv2d(512, 512, kernel_size=(3, 3), stride=(1, 1), padding=(1, 1), bias=False)\n"
          ]
        },
        {
          "output_type": "stream",
          "name": "stderr",
          "text": [
            "100%|██████████| 16/16 [00:17<00:00,  1.07s/it]\n",
            "100%|██████████| 19/19 [00:09<00:00,  1.97it/s]\n"
          ]
        },
        {
          "output_type": "stream",
          "name": "stdout",
          "text": [
            "Accuracy: 20.52 - Loss: 0.015954931949999553 \n",
            "\n"
          ]
        },
        {
          "output_type": "stream",
          "name": "stderr",
          "text": [
            "100%|██████████| 16/16 [00:11<00:00,  1.43it/s]\n",
            "100%|██████████| 19/19 [00:07<00:00,  2.71it/s]\n"
          ]
        },
        {
          "output_type": "stream",
          "name": "stdout",
          "text": [
            "Accuracy: 27.99 - Loss: 0.014951956862068827 \n",
            "\n"
          ]
        },
        {
          "output_type": "stream",
          "name": "stderr",
          "text": [
            "100%|██████████| 16/16 [00:08<00:00,  1.96it/s]\n",
            "100%|██████████| 19/19 [00:06<00:00,  2.80it/s]\n"
          ]
        },
        {
          "output_type": "stream",
          "name": "stdout",
          "text": [
            "Accuracy: 34.98 - Loss: 0.014081085755556517 \n",
            "\n"
          ]
        },
        {
          "output_type": "stream",
          "name": "stderr",
          "text": [
            "100%|██████████| 16/16 [00:09<00:00,  1.73it/s]\n",
            "100%|██████████| 19/19 [00:05<00:00,  3.26it/s]\n"
          ]
        },
        {
          "output_type": "stream",
          "name": "stdout",
          "text": [
            "Accuracy: 38.61 - Loss: 0.013670090929233174 \n",
            "\n"
          ]
        },
        {
          "output_type": "stream",
          "name": "stderr",
          "text": [
            "100%|██████████| 16/16 [00:09<00:00,  1.71it/s]\n",
            "100%|██████████| 19/19 [00:05<00:00,  3.22it/s]\n"
          ]
        },
        {
          "output_type": "stream",
          "name": "stdout",
          "text": [
            "Accuracy: 38.99 - Loss: 0.0132958997841988 \n",
            "\n"
          ]
        },
        {
          "output_type": "stream",
          "name": "stderr",
          "text": [
            "100%|██████████| 16/16 [00:09<00:00,  1.68it/s]\n",
            "100%|██████████| 19/19 [00:06<00:00,  2.77it/s]\n"
          ]
        },
        {
          "output_type": "stream",
          "name": "stdout",
          "text": [
            "Accuracy: 41.55 - Loss: 0.01296744793144916 \n",
            "\n"
          ]
        },
        {
          "output_type": "stream",
          "name": "stderr",
          "text": [
            "100%|██████████| 16/16 [00:08<00:00,  1.94it/s]\n",
            "100%|██████████| 19/19 [00:07<00:00,  2.66it/s]\n"
          ]
        },
        {
          "output_type": "stream",
          "name": "stdout",
          "text": [
            "Accuracy: 42.32 - Loss: 0.01270017602541341 \n",
            "\n"
          ]
        },
        {
          "output_type": "stream",
          "name": "stderr",
          "text": [
            "100%|██████████| 16/16 [00:08<00:00,  1.84it/s]\n",
            "100%|██████████| 19/19 [00:06<00:00,  3.03it/s]\n"
          ]
        },
        {
          "output_type": "stream",
          "name": "stdout",
          "text": [
            "Accuracy: 42.36 - Loss: 0.01256768980123891 \n",
            "\n"
          ]
        },
        {
          "output_type": "stream",
          "name": "stderr",
          "text": [
            "100%|██████████| 16/16 [00:09<00:00,  1.70it/s]\n",
            "100%|██████████| 19/19 [00:05<00:00,  3.22it/s]\n"
          ]
        },
        {
          "output_type": "stream",
          "name": "stdout",
          "text": [
            "Accuracy: 43.13 - Loss: 0.012388433002367768 \n",
            "\n"
          ]
        },
        {
          "output_type": "stream",
          "name": "stderr",
          "text": [
            "100%|██████████| 16/16 [00:09<00:00,  1.71it/s]\n",
            "100%|██████████| 19/19 [00:05<00:00,  3.21it/s]\n"
          ]
        },
        {
          "output_type": "stream",
          "name": "stdout",
          "text": [
            "Accuracy: 42.02 - Loss: 0.012375061117341494 \n",
            "\n"
          ]
        },
        {
          "output_type": "stream",
          "name": "stderr",
          "text": [
            "100%|██████████| 16/16 [00:09<00:00,  1.69it/s]\n",
            "100%|██████████| 19/19 [00:06<00:00,  2.74it/s]\n"
          ]
        },
        {
          "output_type": "stream",
          "name": "stdout",
          "text": [
            "Accuracy: 42.88 - Loss: 0.01211920080534834 \n",
            "\n"
          ]
        },
        {
          "output_type": "stream",
          "name": "stderr",
          "text": [
            "100%|██████████| 16/16 [00:08<00:00,  1.92it/s]\n",
            "100%|██████████| 19/19 [00:06<00:00,  2.74it/s]\n"
          ]
        },
        {
          "output_type": "stream",
          "name": "stdout",
          "text": [
            "Accuracy: 42.58 - Loss: 0.01217741811641654 \n",
            "\n"
          ]
        },
        {
          "output_type": "stream",
          "name": "stderr",
          "text": [
            "100%|██████████| 16/16 [00:08<00:00,  1.85it/s]\n",
            "100%|██████████| 19/19 [00:06<00:00,  2.99it/s]\n"
          ]
        },
        {
          "output_type": "stream",
          "name": "stdout",
          "text": [
            "Accuracy: 43.00 - Loss: 0.011945484543009423 \n",
            "\n"
          ]
        },
        {
          "output_type": "stream",
          "name": "stderr",
          "text": [
            "100%|██████████| 16/16 [00:09<00:00,  1.63it/s]\n",
            "100%|██████████| 19/19 [00:06<00:00,  3.12it/s]\n"
          ]
        },
        {
          "output_type": "stream",
          "name": "stdout",
          "text": [
            "Accuracy: 41.89 - Loss: 0.012052808707077756 \n",
            "\n"
          ]
        },
        {
          "output_type": "stream",
          "name": "stderr",
          "text": [
            "100%|██████████| 16/16 [00:09<00:00,  1.70it/s]\n",
            "100%|██████████| 19/19 [00:06<00:00,  2.86it/s]\n"
          ]
        },
        {
          "output_type": "stream",
          "name": "stdout",
          "text": [
            "Accuracy: 42.32 - Loss: 0.01199316876740179 \n",
            "\n"
          ]
        },
        {
          "output_type": "stream",
          "name": "stderr",
          "text": [
            "100%|██████████| 16/16 [00:09<00:00,  1.66it/s]\n",
            "100%|██████████| 19/19 [00:06<00:00,  2.73it/s]\n"
          ]
        },
        {
          "output_type": "stream",
          "name": "stdout",
          "text": [
            "Accuracy: 43.09 - Loss: 0.011816873688746638 \n",
            "\n"
          ]
        },
        {
          "output_type": "stream",
          "name": "stderr",
          "text": [
            "100%|██████████| 16/16 [00:10<00:00,  1.60it/s]\n",
            "100%|██████████| 19/19 [00:05<00:00,  3.28it/s]\n"
          ]
        },
        {
          "output_type": "stream",
          "name": "stdout",
          "text": [
            "Accuracy: 42.41 - Loss: 0.011840483078370729 \n",
            "\n"
          ]
        },
        {
          "output_type": "stream",
          "name": "stderr",
          "text": [
            "100%|██████████| 16/16 [00:09<00:00,  1.68it/s]\n",
            "100%|██████████| 19/19 [00:05<00:00,  3.25it/s]\n"
          ]
        },
        {
          "output_type": "stream",
          "name": "stdout",
          "text": [
            "Accuracy: 42.32 - Loss: 0.011807807985019358 \n",
            "\n"
          ]
        },
        {
          "output_type": "stream",
          "name": "stderr",
          "text": [
            "100%|██████████| 16/16 [00:09<00:00,  1.71it/s]\n",
            "100%|██████████| 19/19 [00:06<00:00,  2.98it/s]\n"
          ]
        },
        {
          "output_type": "stream",
          "name": "stdout",
          "text": [
            "Accuracy: 43.47 - Loss: 0.011672901339294967 \n",
            "\n"
          ]
        },
        {
          "output_type": "stream",
          "name": "stderr",
          "text": [
            "100%|██████████| 16/16 [00:08<00:00,  1.87it/s]\n",
            "100%|██████████| 19/19 [00:06<00:00,  2.73it/s]\n"
          ]
        },
        {
          "output_type": "stream",
          "name": "stdout",
          "text": [
            "Accuracy: 43.56 - Loss: 0.01166175911044098 \n",
            "\n"
          ]
        },
        {
          "output_type": "stream",
          "name": "stderr",
          "text": [
            "100%|██████████| 16/16 [00:08<00:00,  1.82it/s]\n",
            "100%|██████████| 19/19 [00:06<00:00,  2.85it/s]\n"
          ]
        },
        {
          "output_type": "stream",
          "name": "stdout",
          "text": [
            "Accuracy: 43.39 - Loss: 0.011613902607265187 \n",
            "\n"
          ]
        },
        {
          "output_type": "stream",
          "name": "stderr",
          "text": [
            "100%|██████████| 16/16 [00:09<00:00,  1.69it/s]\n",
            "100%|██████████| 19/19 [00:05<00:00,  3.21it/s]\n"
          ]
        },
        {
          "output_type": "stream",
          "name": "stdout",
          "text": [
            "Accuracy: 44.28 - Loss: 0.011550913008610136 \n",
            "\n"
          ]
        },
        {
          "output_type": "stream",
          "name": "stderr",
          "text": [
            "100%|██████████| 16/16 [00:09<00:00,  1.71it/s]\n",
            "100%|██████████| 19/19 [00:05<00:00,  3.23it/s]\n"
          ]
        },
        {
          "output_type": "stream",
          "name": "stdout",
          "text": [
            "Accuracy: 43.69 - Loss: 0.01159944975233729 \n",
            "\n"
          ]
        },
        {
          "output_type": "stream",
          "name": "stderr",
          "text": [
            "100%|██████████| 16/16 [00:09<00:00,  1.70it/s]\n",
            "100%|██████████| 19/19 [00:06<00:00,  2.74it/s]\n"
          ]
        },
        {
          "output_type": "stream",
          "name": "stdout",
          "text": [
            "Accuracy: 43.39 - Loss: 0.011594817449208412 \n",
            "\n"
          ]
        },
        {
          "output_type": "stream",
          "name": "stderr",
          "text": [
            "100%|██████████| 16/16 [00:08<00:00,  1.94it/s]\n",
            "100%|██████████| 19/19 [00:06<00:00,  2.73it/s]\n"
          ]
        },
        {
          "output_type": "stream",
          "name": "stdout",
          "text": [
            "Accuracy: 43.64 - Loss: 0.011541858544325259 \n",
            "\n"
          ]
        },
        {
          "output_type": "stream",
          "name": "stderr",
          "text": [
            "100%|██████████| 16/16 [00:08<00:00,  1.79it/s]\n",
            "100%|██████████| 19/19 [00:06<00:00,  3.16it/s]\n"
          ]
        },
        {
          "output_type": "stream",
          "name": "stdout",
          "text": [
            "Accuracy: 43.17 - Loss: 0.011591747682859466 \n",
            "\n"
          ]
        },
        {
          "output_type": "stream",
          "name": "stderr",
          "text": [
            "100%|██████████| 16/16 [00:09<00:00,  1.72it/s]\n",
            "100%|██████████| 19/19 [00:05<00:00,  3.27it/s]\n"
          ]
        },
        {
          "output_type": "stream",
          "name": "stdout",
          "text": [
            "Accuracy: 44.03 - Loss: 0.01152850990104187 \n",
            "\n"
          ]
        },
        {
          "output_type": "stream",
          "name": "stderr",
          "text": [
            "100%|██████████| 16/16 [00:09<00:00,  1.70it/s]\n",
            "100%|██████████| 19/19 [00:05<00:00,  3.21it/s]\n"
          ]
        },
        {
          "output_type": "stream",
          "name": "stdout",
          "text": [
            "Accuracy: 43.98 - Loss: 0.01154217708843153 \n",
            "\n"
          ]
        },
        {
          "output_type": "stream",
          "name": "stderr",
          "text": [
            "100%|██████████| 16/16 [00:09<00:00,  1.77it/s]\n",
            "100%|██████████| 19/19 [00:07<00:00,  2.71it/s]\n"
          ]
        },
        {
          "output_type": "stream",
          "name": "stdout",
          "text": [
            "Accuracy: 44.03 - Loss: 0.011528866969481263 \n",
            "\n"
          ]
        },
        {
          "output_type": "stream",
          "name": "stderr",
          "text": [
            "100%|██████████| 16/16 [00:08<00:00,  1.94it/s]\n",
            "100%|██████████| 19/19 [00:06<00:00,  2.78it/s]\n"
          ]
        },
        {
          "output_type": "stream",
          "name": "stdout",
          "text": [
            "Accuracy: 44.07 - Loss: 0.01150921927987512 \n",
            "\n"
          ]
        }
      ],
      "source": [
        "warnings.filterwarnings('ignore', category=UserWarning)\n",
        "\n",
        "# Parse arguments\n",
        "conf = { # Art Painting -> Cartoon\n",
        "    'seed': 0,\n",
        "    'test_only': False,\n",
        "    'cpu': False,\n",
        "    'experiment': 'random',\n",
        "    'experiment_name': '2_1_1',\n",
        "    'experiment_args': {'module_placement': ['layer4.1.conv2'], 'mask_out_ratio': 0.4},\n",
        "    'dataset_args': {'text_root': 'data', 'images_root': 'data/kfold/PACS', 'source_domain': 'art_painting', 'target_domain': 'cartoon' },\n",
        "    'batch_size': 128,\n",
        "    'epochs': 30,\n",
        "    'num_workers': 5,\n",
        "    'grad_accum_steps': 1\n",
        "}\n",
        "\n",
        "#args = parse_arguments()\n",
        "args = argparse.Namespace(**conf)\n",
        "print(args)\n",
        "CONFIG.update(vars(args))\n",
        "\n",
        "# Setup output directory\n",
        "CONFIG.save_dir = os.path.join('record', CONFIG.experiment_name)\n",
        "os.makedirs(CONFIG.save_dir, exist_ok=True)\n",
        "\n",
        "# Setup logging\n",
        "logging.basicConfig(\n",
        "    filename=os.path.join(CONFIG.save_dir, 'log.txt'),\n",
        "    format='%(message)s',\n",
        "    level=logging.INFO,\n",
        "    filemode='a'\n",
        ")\n",
        "\n",
        "# Set experiment's device & deterministic behavior\n",
        "if CONFIG.cpu:\n",
        "    CONFIG.device = 'cpu'\n",
        "else:\n",
        "    CONFIG.device = 'cuda' if torch.cuda.is_available() else 'cpu'\n",
        "\n",
        "torch.manual_seed(CONFIG.seed)\n",
        "random.seed(CONFIG.seed)\n",
        "np.random.seed(CONFIG.seed)\n",
        "torch.backends.cudnn.benchmark = True\n",
        "torch.use_deterministic_algorithms(mode=True, warn_only=True)\n",
        "\n",
        "main()"
      ]
    },
    {
      "cell_type": "markdown",
      "metadata": {
        "id": "SRSOaO8drl_L"
      },
      "source": [
        "#### 2.1.2 - Art Painting &rightarrow; Sketch, mor = 0.4"
      ]
    },
    {
      "cell_type": "code",
      "execution_count": 28,
      "metadata": {
        "colab": {
          "base_uri": "https://localhost:8080/"
        },
        "id": "akkbq_v2rl_M",
        "outputId": "a2fa53c1-3bfd-4c0a-ce6f-b93f78ba94df"
      },
      "outputs": [
        {
          "output_type": "stream",
          "name": "stdout",
          "text": [
            "Namespace(seed=0, test_only=False, cpu=False, experiment='random', experiment_name='2_1_2', experiment_args={'module_placement': ['layer4.1.conv2'], 'mask_out_ratio': 0.4}, dataset_args={'text_root': 'data', 'images_root': 'data/kfold/PACS', 'source_domain': 'art_painting', 'target_domain': 'sketch'}, batch_size=128, epochs=30, num_workers=5, grad_accum_steps=1)\n",
            "mask_out_ratio:  0.4\n",
            "layer_name layer4.1.conv2 random_mask sum():  tensor(15133., device='cuda:0')\n",
            "Insert activation shaping layer after  layer4.1.conv2 Conv2d(512, 512, kernel_size=(3, 3), stride=(1, 1), padding=(1, 1), bias=False)\n"
          ]
        },
        {
          "output_type": "stream",
          "name": "stderr",
          "text": [
            "100%|██████████| 16/16 [00:10<00:00,  1.58it/s]\n",
            "100%|██████████| 31/31 [00:12<00:00,  2.46it/s]\n"
          ]
        },
        {
          "output_type": "stream",
          "name": "stdout",
          "text": [
            "Accuracy: 4.48 - Loss: 0.017139679119161564 \n",
            "\n"
          ]
        },
        {
          "output_type": "stream",
          "name": "stderr",
          "text": [
            "100%|██████████| 16/16 [00:08<00:00,  1.89it/s]\n",
            "100%|██████████| 31/31 [00:11<00:00,  2.76it/s]\n"
          ]
        },
        {
          "output_type": "stream",
          "name": "stdout",
          "text": [
            "Accuracy: 8.73 - Loss: 0.01608262298124745 \n",
            "\n"
          ]
        },
        {
          "output_type": "stream",
          "name": "stderr",
          "text": [
            "100%|██████████| 16/16 [00:09<00:00,  1.66it/s]\n",
            "100%|██████████| 31/31 [00:11<00:00,  2.77it/s]\n"
          ]
        },
        {
          "output_type": "stream",
          "name": "stdout",
          "text": [
            "Accuracy: 16.16 - Loss: 0.015623326427792739 \n",
            "\n"
          ]
        },
        {
          "output_type": "stream",
          "name": "stderr",
          "text": [
            "100%|██████████| 16/16 [00:09<00:00,  1.67it/s]\n",
            "100%|██████████| 31/31 [00:10<00:00,  2.85it/s]\n"
          ]
        },
        {
          "output_type": "stream",
          "name": "stdout",
          "text": [
            "Accuracy: 16.11 - Loss: 0.015468406568018952 \n",
            "\n"
          ]
        },
        {
          "output_type": "stream",
          "name": "stderr",
          "text": [
            "100%|██████████| 16/16 [00:08<00:00,  1.82it/s]\n",
            "100%|██████████| 31/31 [00:11<00:00,  2.68it/s]\n"
          ]
        },
        {
          "output_type": "stream",
          "name": "stdout",
          "text": [
            "Accuracy: 25.66 - Loss: 0.015028787709034925 \n",
            "\n"
          ]
        },
        {
          "output_type": "stream",
          "name": "stderr",
          "text": [
            "100%|██████████| 16/16 [00:09<00:00,  1.68it/s]\n",
            "100%|██████████| 31/31 [00:11<00:00,  2.72it/s]\n"
          ]
        },
        {
          "output_type": "stream",
          "name": "stdout",
          "text": [
            "Accuracy: 30.24 - Loss: 0.014993906627935621 \n",
            "\n"
          ]
        },
        {
          "output_type": "stream",
          "name": "stderr",
          "text": [
            "100%|██████████| 16/16 [00:08<00:00,  1.90it/s]\n",
            "100%|██████████| 31/31 [00:11<00:00,  2.73it/s]\n"
          ]
        },
        {
          "output_type": "stream",
          "name": "stdout",
          "text": [
            "Accuracy: 31.08 - Loss: 0.014818315804535635 \n",
            "\n"
          ]
        },
        {
          "output_type": "stream",
          "name": "stderr",
          "text": [
            "100%|██████████| 16/16 [00:09<00:00,  1.68it/s]\n",
            "100%|██████████| 31/31 [00:11<00:00,  2.73it/s]\n"
          ]
        },
        {
          "output_type": "stream",
          "name": "stdout",
          "text": [
            "Accuracy: 34.77 - Loss: 0.014703742964451597 \n",
            "\n"
          ]
        },
        {
          "output_type": "stream",
          "name": "stderr",
          "text": [
            "100%|██████████| 16/16 [00:09<00:00,  1.69it/s]\n",
            "100%|██████████| 31/31 [00:10<00:00,  2.96it/s]\n"
          ]
        },
        {
          "output_type": "stream",
          "name": "stdout",
          "text": [
            "Accuracy: 35.12 - Loss: 0.01454813233402492 \n",
            "\n"
          ]
        },
        {
          "output_type": "stream",
          "name": "stderr",
          "text": [
            "100%|██████████| 16/16 [00:09<00:00,  1.76it/s]\n",
            "100%|██████████| 31/31 [00:11<00:00,  2.76it/s]\n"
          ]
        },
        {
          "output_type": "stream",
          "name": "stdout",
          "text": [
            "Accuracy: 35.12 - Loss: 0.014461752172340477 \n",
            "\n"
          ]
        },
        {
          "output_type": "stream",
          "name": "stderr",
          "text": [
            "100%|██████████| 16/16 [00:09<00:00,  1.68it/s]\n",
            "100%|██████████| 31/31 [00:11<00:00,  2.77it/s]\n"
          ]
        },
        {
          "output_type": "stream",
          "name": "stdout",
          "text": [
            "Accuracy: 37.24 - Loss: 0.014372679865005272 \n",
            "\n"
          ]
        },
        {
          "output_type": "stream",
          "name": "stderr",
          "text": [
            "100%|██████████| 16/16 [00:08<00:00,  1.92it/s]\n",
            "100%|██████████| 31/31 [00:11<00:00,  2.76it/s]\n"
          ]
        },
        {
          "output_type": "stream",
          "name": "stdout",
          "text": [
            "Accuracy: 36.17 - Loss: 0.014281286905666865 \n",
            "\n"
          ]
        },
        {
          "output_type": "stream",
          "name": "stderr",
          "text": [
            "100%|██████████| 16/16 [00:09<00:00,  1.68it/s]\n",
            "100%|██████████| 31/31 [00:11<00:00,  2.81it/s]\n"
          ]
        },
        {
          "output_type": "stream",
          "name": "stdout",
          "text": [
            "Accuracy: 38.56 - Loss: 0.014245900952442816 \n",
            "\n"
          ]
        },
        {
          "output_type": "stream",
          "name": "stderr",
          "text": [
            "100%|██████████| 16/16 [00:09<00:00,  1.74it/s]\n",
            "100%|██████████| 31/31 [00:10<00:00,  2.97it/s]\n"
          ]
        },
        {
          "output_type": "stream",
          "name": "stdout",
          "text": [
            "Accuracy: 37.49 - Loss: 0.014165196233076065 \n",
            "\n"
          ]
        },
        {
          "output_type": "stream",
          "name": "stderr",
          "text": [
            "100%|██████████| 16/16 [00:09<00:00,  1.66it/s]\n",
            "100%|██████████| 31/31 [00:11<00:00,  2.73it/s]\n"
          ]
        },
        {
          "output_type": "stream",
          "name": "stdout",
          "text": [
            "Accuracy: 37.24 - Loss: 0.014148537273411838 \n",
            "\n"
          ]
        },
        {
          "output_type": "stream",
          "name": "stderr",
          "text": [
            "100%|██████████| 16/16 [00:09<00:00,  1.63it/s]\n",
            "100%|██████████| 31/31 [00:11<00:00,  2.75it/s]\n"
          ]
        },
        {
          "output_type": "stream",
          "name": "stdout",
          "text": [
            "Accuracy: 39.04 - Loss: 0.014051461225855773 \n",
            "\n"
          ]
        },
        {
          "output_type": "stream",
          "name": "stderr",
          "text": [
            "100%|██████████| 16/16 [00:09<00:00,  1.67it/s]\n",
            "100%|██████████| 31/31 [00:11<00:00,  2.76it/s]\n"
          ]
        },
        {
          "output_type": "stream",
          "name": "stdout",
          "text": [
            "Accuracy: 37.74 - Loss: 0.01416056767223627 \n",
            "\n"
          ]
        },
        {
          "output_type": "stream",
          "name": "stderr",
          "text": [
            "100%|██████████| 16/16 [00:09<00:00,  1.67it/s]\n",
            "100%|██████████| 31/31 [00:11<00:00,  2.76it/s]\n"
          ]
        },
        {
          "output_type": "stream",
          "name": "stdout",
          "text": [
            "Accuracy: 38.71 - Loss: 0.014021846652789466 \n",
            "\n"
          ]
        },
        {
          "output_type": "stream",
          "name": "stderr",
          "text": [
            "100%|██████████| 16/16 [00:09<00:00,  1.70it/s]\n",
            "100%|██████████| 31/31 [00:10<00:00,  3.03it/s]\n"
          ]
        },
        {
          "output_type": "stream",
          "name": "stdout",
          "text": [
            "Accuracy: 39.45 - Loss: 0.014029140234539666 \n",
            "\n"
          ]
        },
        {
          "output_type": "stream",
          "name": "stderr",
          "text": [
            "100%|██████████| 16/16 [00:09<00:00,  1.73it/s]\n",
            "100%|██████████| 31/31 [00:11<00:00,  2.74it/s]\n"
          ]
        },
        {
          "output_type": "stream",
          "name": "stdout",
          "text": [
            "Accuracy: 39.35 - Loss: 0.013975687929921916 \n",
            "\n"
          ]
        },
        {
          "output_type": "stream",
          "name": "stderr",
          "text": [
            "100%|██████████| 16/16 [00:09<00:00,  1.70it/s]\n",
            "100%|██████████| 31/31 [00:11<00:00,  2.74it/s]\n"
          ]
        },
        {
          "output_type": "stream",
          "name": "stdout",
          "text": [
            "Accuracy: 39.02 - Loss: 0.014037919305426135 \n",
            "\n"
          ]
        },
        {
          "output_type": "stream",
          "name": "stderr",
          "text": [
            "100%|██████████| 16/16 [00:08<00:00,  1.92it/s]\n",
            "100%|██████████| 31/31 [00:11<00:00,  2.76it/s]\n"
          ]
        },
        {
          "output_type": "stream",
          "name": "stdout",
          "text": [
            "Accuracy: 39.40 - Loss: 0.013985963716067622 \n",
            "\n"
          ]
        },
        {
          "output_type": "stream",
          "name": "stderr",
          "text": [
            "100%|██████████| 16/16 [00:09<00:00,  1.69it/s]\n",
            "100%|██████████| 31/31 [00:11<00:00,  2.77it/s]\n"
          ]
        },
        {
          "output_type": "stream",
          "name": "stdout",
          "text": [
            "Accuracy: 39.12 - Loss: 0.01390811686419931 \n",
            "\n"
          ]
        },
        {
          "output_type": "stream",
          "name": "stderr",
          "text": [
            "100%|██████████| 16/16 [00:09<00:00,  1.74it/s]\n",
            "100%|██████████| 31/31 [00:10<00:00,  3.05it/s]\n"
          ]
        },
        {
          "output_type": "stream",
          "name": "stdout",
          "text": [
            "Accuracy: 38.79 - Loss: 0.014005011169926815 \n",
            "\n"
          ]
        },
        {
          "output_type": "stream",
          "name": "stderr",
          "text": [
            "100%|██████████| 16/16 [00:09<00:00,  1.71it/s]\n",
            "100%|██████████| 31/31 [00:11<00:00,  2.77it/s]\n"
          ]
        },
        {
          "output_type": "stream",
          "name": "stdout",
          "text": [
            "Accuracy: 39.22 - Loss: 0.013931957690519787 \n",
            "\n"
          ]
        },
        {
          "output_type": "stream",
          "name": "stderr",
          "text": [
            "100%|██████████| 16/16 [00:09<00:00,  1.68it/s]\n",
            "100%|██████████| 31/31 [00:11<00:00,  2.75it/s]\n"
          ]
        },
        {
          "output_type": "stream",
          "name": "stdout",
          "text": [
            "Accuracy: 39.32 - Loss: 0.013924629338129267 \n",
            "\n"
          ]
        },
        {
          "output_type": "stream",
          "name": "stderr",
          "text": [
            "100%|██████████| 16/16 [00:08<00:00,  1.92it/s]\n",
            "100%|██████████| 31/31 [00:11<00:00,  2.75it/s]\n"
          ]
        },
        {
          "output_type": "stream",
          "name": "stdout",
          "text": [
            "Accuracy: 39.48 - Loss: 0.013937943641330547 \n",
            "\n"
          ]
        },
        {
          "output_type": "stream",
          "name": "stderr",
          "text": [
            "100%|██████████| 16/16 [00:09<00:00,  1.69it/s]\n",
            "100%|██████████| 31/31 [00:11<00:00,  2.78it/s]\n"
          ]
        },
        {
          "output_type": "stream",
          "name": "stdout",
          "text": [
            "Accuracy: 39.35 - Loss: 0.013865727448651553 \n",
            "\n"
          ]
        },
        {
          "output_type": "stream",
          "name": "stderr",
          "text": [
            "100%|██████████| 16/16 [00:08<00:00,  1.91it/s]\n",
            "100%|██████████| 31/31 [00:11<00:00,  2.81it/s]\n"
          ]
        },
        {
          "output_type": "stream",
          "name": "stdout",
          "text": [
            "Accuracy: 39.63 - Loss: 0.013886036051232932 \n",
            "\n"
          ]
        },
        {
          "output_type": "stream",
          "name": "stderr",
          "text": [
            "100%|██████████| 16/16 [00:09<00:00,  1.69it/s]\n",
            "100%|██████████| 31/31 [00:11<00:00,  2.75it/s]\n"
          ]
        },
        {
          "output_type": "stream",
          "name": "stdout",
          "text": [
            "Accuracy: 39.76 - Loss: 0.013907540569659801 \n",
            "\n"
          ]
        }
      ],
      "source": [
        "warnings.filterwarnings('ignore', category=UserWarning)\n",
        "\n",
        "# Parse arguments\n",
        "conf = { # Art Painting -> Sketch\n",
        "    'seed': 0,\n",
        "    'test_only': False,\n",
        "    'cpu': False,\n",
        "    'experiment': 'random',\n",
        "    'experiment_name': '2_1_2',\n",
        "    'experiment_args': {'module_placement': ['layer4.1.conv2'], 'mask_out_ratio': 0.4},\n",
        "    'dataset_args': {'text_root': 'data', 'images_root': 'data/kfold/PACS', 'source_domain': 'art_painting', 'target_domain': 'sketch' },\n",
        "    'batch_size': 128,\n",
        "    'epochs': 30,\n",
        "    'num_workers': 5,\n",
        "    'grad_accum_steps': 1\n",
        "}\n",
        "\n",
        "#args = parse_arguments()\n",
        "args = argparse.Namespace(**conf)\n",
        "print(args)\n",
        "CONFIG.update(vars(args))\n",
        "\n",
        "# Setup output directory\n",
        "CONFIG.save_dir = os.path.join('record', CONFIG.experiment_name)\n",
        "os.makedirs(CONFIG.save_dir, exist_ok=True)\n",
        "\n",
        "# Setup logging\n",
        "logging.basicConfig(\n",
        "    filename=os.path.join(CONFIG.save_dir, 'log.txt'),\n",
        "    format='%(message)s',\n",
        "    level=logging.INFO,\n",
        "    filemode='a'\n",
        ")\n",
        "\n",
        "# Set experiment's device & deterministic behavior\n",
        "if CONFIG.cpu:\n",
        "    CONFIG.device = 'cpu'\n",
        "else:\n",
        "    CONFIG.device = 'cuda' if torch.cuda.is_available() else 'cpu'\n",
        "\n",
        "torch.manual_seed(CONFIG.seed)\n",
        "random.seed(CONFIG.seed)\n",
        "np.random.seed(CONFIG.seed)\n",
        "torch.backends.cudnn.benchmark = True\n",
        "torch.use_deterministic_algorithms(mode=True, warn_only=True)\n",
        "\n",
        "main()"
      ]
    },
    {
      "cell_type": "markdown",
      "metadata": {
        "id": "Yaz0-ESWrl_M"
      },
      "source": [
        "#### 2.1.3 - Art Painting &rightarrow; Photo, mor = 0.4"
      ]
    },
    {
      "cell_type": "code",
      "execution_count": 29,
      "metadata": {
        "colab": {
          "base_uri": "https://localhost:8080/"
        },
        "id": "fHAPUfXXrl_M",
        "outputId": "39179447-41e2-4149-f1f2-2a3288db7995"
      },
      "outputs": [
        {
          "output_type": "stream",
          "name": "stdout",
          "text": [
            "Namespace(seed=0, test_only=False, cpu=False, experiment='random', experiment_name='2_1_3', experiment_args={'module_placement': ['layer4.1.conv2'], 'mask_out_ratio': 0.4}, dataset_args={'text_root': 'data', 'images_root': 'data/kfold/PACS', 'source_domain': 'art_painting', 'target_domain': 'photo'}, batch_size=128, epochs=30, num_workers=5, grad_accum_steps=1)\n",
            "mask_out_ratio:  0.4\n",
            "layer_name layer4.1.conv2 random_mask sum():  tensor(15133., device='cuda:0')\n",
            "Insert activation shaping layer after  layer4.1.conv2 Conv2d(512, 512, kernel_size=(3, 3), stride=(1, 1), padding=(1, 1), bias=False)\n"
          ]
        },
        {
          "output_type": "stream",
          "name": "stderr",
          "text": [
            "100%|██████████| 16/16 [00:10<00:00,  1.56it/s]\n",
            "100%|██████████| 14/14 [00:05<00:00,  2.68it/s]\n"
          ]
        },
        {
          "output_type": "stream",
          "name": "stdout",
          "text": [
            "Accuracy: 33.35 - Loss: 0.015261613894365506 \n",
            "\n"
          ]
        },
        {
          "output_type": "stream",
          "name": "stderr",
          "text": [
            "100%|██████████| 16/16 [00:09<00:00,  1.69it/s]\n",
            "100%|██████████| 14/14 [00:04<00:00,  3.10it/s]\n"
          ]
        },
        {
          "output_type": "stream",
          "name": "stdout",
          "text": [
            "Accuracy: 46.65 - Loss: 0.013172659045921829 \n",
            "\n"
          ]
        },
        {
          "output_type": "stream",
          "name": "stderr",
          "text": [
            "100%|██████████| 16/16 [00:09<00:00,  1.65it/s]\n",
            "100%|██████████| 14/14 [00:04<00:00,  3.23it/s]\n"
          ]
        },
        {
          "output_type": "stream",
          "name": "stdout",
          "text": [
            "Accuracy: 61.02 - Loss: 0.011388243957907853 \n",
            "\n"
          ]
        },
        {
          "output_type": "stream",
          "name": "stderr",
          "text": [
            "100%|██████████| 16/16 [00:09<00:00,  1.67it/s]\n",
            "100%|██████████| 14/14 [00:04<00:00,  3.00it/s]\n"
          ]
        },
        {
          "output_type": "stream",
          "name": "stdout",
          "text": [
            "Accuracy: 67.43 - Loss: 0.010042067773327857 \n",
            "\n"
          ]
        },
        {
          "output_type": "stream",
          "name": "stderr",
          "text": [
            "100%|██████████| 16/16 [00:08<00:00,  1.80it/s]\n",
            "100%|██████████| 14/14 [00:05<00:00,  2.64it/s]\n"
          ]
        },
        {
          "output_type": "stream",
          "name": "stdout",
          "text": [
            "Accuracy: 75.03 - Loss: 0.009131650367896715 \n",
            "\n"
          ]
        },
        {
          "output_type": "stream",
          "name": "stderr",
          "text": [
            "100%|██████████| 16/16 [00:08<00:00,  1.93it/s]\n",
            "100%|██████████| 14/14 [00:05<00:00,  2.55it/s]\n"
          ]
        },
        {
          "output_type": "stream",
          "name": "stdout",
          "text": [
            "Accuracy: 80.12 - Loss: 0.008250464472228181 \n",
            "\n"
          ]
        },
        {
          "output_type": "stream",
          "name": "stderr",
          "text": [
            "100%|██████████| 16/16 [00:08<00:00,  1.94it/s]\n",
            "100%|██████████| 14/14 [00:05<00:00,  2.60it/s]\n"
          ]
        },
        {
          "output_type": "stream",
          "name": "stdout",
          "text": [
            "Accuracy: 81.74 - Loss: 0.007565039182137586 \n",
            "\n"
          ]
        },
        {
          "output_type": "stream",
          "name": "stderr",
          "text": [
            "100%|██████████| 16/16 [00:08<00:00,  1.88it/s]\n",
            "100%|██████████| 14/14 [00:05<00:00,  2.66it/s]\n"
          ]
        },
        {
          "output_type": "stream",
          "name": "stdout",
          "text": [
            "Accuracy: 82.93 - Loss: 0.007076124766629613 \n",
            "\n"
          ]
        },
        {
          "output_type": "stream",
          "name": "stderr",
          "text": [
            "100%|██████████| 16/16 [00:09<00:00,  1.73it/s]\n",
            "100%|██████████| 14/14 [00:04<00:00,  3.12it/s]\n"
          ]
        },
        {
          "output_type": "stream",
          "name": "stdout",
          "text": [
            "Accuracy: 83.83 - Loss: 0.0065893813878476265 \n",
            "\n"
          ]
        },
        {
          "output_type": "stream",
          "name": "stderr",
          "text": [
            "100%|██████████| 16/16 [00:09<00:00,  1.68it/s]\n",
            "100%|██████████| 14/14 [00:04<00:00,  3.23it/s]\n"
          ]
        },
        {
          "output_type": "stream",
          "name": "stdout",
          "text": [
            "Accuracy: 85.09 - Loss: 0.006244889811841314 \n",
            "\n"
          ]
        },
        {
          "output_type": "stream",
          "name": "stderr",
          "text": [
            "100%|██████████| 16/16 [00:09<00:00,  1.69it/s]\n",
            "100%|██████████| 14/14 [00:04<00:00,  3.19it/s]\n"
          ]
        },
        {
          "output_type": "stream",
          "name": "stdout",
          "text": [
            "Accuracy: 85.63 - Loss: 0.005848979485962919 \n",
            "\n"
          ]
        },
        {
          "output_type": "stream",
          "name": "stderr",
          "text": [
            "100%|██████████| 16/16 [00:09<00:00,  1.66it/s]\n",
            "100%|██████████| 14/14 [00:04<00:00,  3.20it/s]\n"
          ]
        },
        {
          "output_type": "stream",
          "name": "stdout",
          "text": [
            "Accuracy: 86.47 - Loss: 0.005652686043413813 \n",
            "\n"
          ]
        },
        {
          "output_type": "stream",
          "name": "stderr",
          "text": [
            "100%|██████████| 16/16 [00:09<00:00,  1.68it/s]\n",
            "100%|██████████| 14/14 [00:04<00:00,  3.20it/s]\n"
          ]
        },
        {
          "output_type": "stream",
          "name": "stdout",
          "text": [
            "Accuracy: 87.19 - Loss: 0.0053024523986313875 \n",
            "\n"
          ]
        },
        {
          "output_type": "stream",
          "name": "stderr",
          "text": [
            "100%|██████████| 16/16 [00:09<00:00,  1.67it/s]\n",
            "100%|██████████| 14/14 [00:04<00:00,  3.24it/s]\n"
          ]
        },
        {
          "output_type": "stream",
          "name": "stdout",
          "text": [
            "Accuracy: 87.54 - Loss: 0.00517220579221577 \n",
            "\n"
          ]
        },
        {
          "output_type": "stream",
          "name": "stderr",
          "text": [
            "100%|██████████| 16/16 [00:09<00:00,  1.71it/s]\n",
            "100%|██████████| 14/14 [00:04<00:00,  2.86it/s]\n"
          ]
        },
        {
          "output_type": "stream",
          "name": "stdout",
          "text": [
            "Accuracy: 87.96 - Loss: 0.004946026794924708 \n",
            "\n"
          ]
        },
        {
          "output_type": "stream",
          "name": "stderr",
          "text": [
            "100%|██████████| 16/16 [00:08<00:00,  1.84it/s]\n",
            "100%|██████████| 14/14 [00:05<00:00,  2.56it/s]\n"
          ]
        },
        {
          "output_type": "stream",
          "name": "stdout",
          "text": [
            "Accuracy: 89.04 - Loss: 0.004757328197627724 \n",
            "\n"
          ]
        },
        {
          "output_type": "stream",
          "name": "stderr",
          "text": [
            "100%|██████████| 16/16 [00:08<00:00,  1.91it/s]\n",
            "100%|██████████| 14/14 [00:05<00:00,  2.58it/s]\n"
          ]
        },
        {
          "output_type": "stream",
          "name": "stdout",
          "text": [
            "Accuracy: 88.86 - Loss: 0.004545229352162983 \n",
            "\n"
          ]
        },
        {
          "output_type": "stream",
          "name": "stderr",
          "text": [
            "100%|██████████| 16/16 [00:08<00:00,  1.90it/s]\n",
            "100%|██████████| 14/14 [00:05<00:00,  2.58it/s]\n"
          ]
        },
        {
          "output_type": "stream",
          "name": "stdout",
          "text": [
            "Accuracy: 89.16 - Loss: 0.004415963063696901 \n",
            "\n"
          ]
        },
        {
          "output_type": "stream",
          "name": "stderr",
          "text": [
            "100%|██████████| 16/16 [00:08<00:00,  1.81it/s]\n",
            "100%|██████████| 14/14 [00:04<00:00,  2.92it/s]\n"
          ]
        },
        {
          "output_type": "stream",
          "name": "stdout",
          "text": [
            "Accuracy: 89.46 - Loss: 0.0042757412273726775 \n",
            "\n"
          ]
        },
        {
          "output_type": "stream",
          "name": "stderr",
          "text": [
            "100%|██████████| 16/16 [00:09<00:00,  1.67it/s]\n",
            "100%|██████████| 14/14 [00:04<00:00,  3.23it/s]\n"
          ]
        },
        {
          "output_type": "stream",
          "name": "stdout",
          "text": [
            "Accuracy: 89.88 - Loss: 0.004167057868249402 \n",
            "\n"
          ]
        },
        {
          "output_type": "stream",
          "name": "stderr",
          "text": [
            "100%|██████████| 16/16 [00:10<00:00,  1.57it/s]\n",
            "100%|██████████| 14/14 [00:04<00:00,  3.02it/s]\n"
          ]
        },
        {
          "output_type": "stream",
          "name": "stdout",
          "text": [
            "Accuracy: 90.36 - Loss: 0.003983659480146305 \n",
            "\n"
          ]
        },
        {
          "output_type": "stream",
          "name": "stderr",
          "text": [
            "100%|██████████| 16/16 [00:09<00:00,  1.68it/s]\n",
            "100%|██████████| 14/14 [00:04<00:00,  3.22it/s]\n"
          ]
        },
        {
          "output_type": "stream",
          "name": "stdout",
          "text": [
            "Accuracy: 90.24 - Loss: 0.0038687436880465755 \n",
            "\n"
          ]
        },
        {
          "output_type": "stream",
          "name": "stderr",
          "text": [
            "100%|██████████| 16/16 [00:09<00:00,  1.69it/s]\n",
            "100%|██████████| 14/14 [00:04<00:00,  3.23it/s]\n"
          ]
        },
        {
          "output_type": "stream",
          "name": "stdout",
          "text": [
            "Accuracy: 90.42 - Loss: 0.003816060784334194 \n",
            "\n"
          ]
        },
        {
          "output_type": "stream",
          "name": "stderr",
          "text": [
            "100%|██████████| 16/16 [00:09<00:00,  1.70it/s]\n",
            "100%|██████████| 14/14 [00:04<00:00,  3.23it/s]\n"
          ]
        },
        {
          "output_type": "stream",
          "name": "stdout",
          "text": [
            "Accuracy: 90.90 - Loss: 0.0036782176908618674 \n",
            "\n"
          ]
        },
        {
          "output_type": "stream",
          "name": "stderr",
          "text": [
            "100%|██████████| 16/16 [00:09<00:00,  1.71it/s]\n",
            "100%|██████████| 14/14 [00:04<00:00,  2.94it/s]\n"
          ]
        },
        {
          "output_type": "stream",
          "name": "stdout",
          "text": [
            "Accuracy: 90.66 - Loss: 0.003679423257262407 \n",
            "\n"
          ]
        },
        {
          "output_type": "stream",
          "name": "stderr",
          "text": [
            "100%|██████████| 16/16 [00:08<00:00,  1.81it/s]\n",
            "100%|██████████| 14/14 [00:05<00:00,  2.66it/s]\n"
          ]
        },
        {
          "output_type": "stream",
          "name": "stdout",
          "text": [
            "Accuracy: 90.84 - Loss: 0.003669650665300335 \n",
            "\n"
          ]
        },
        {
          "output_type": "stream",
          "name": "stderr",
          "text": [
            "100%|██████████| 16/16 [00:08<00:00,  1.95it/s]\n",
            "100%|██████████| 14/14 [00:05<00:00,  2.57it/s]\n"
          ]
        },
        {
          "output_type": "stream",
          "name": "stdout",
          "text": [
            "Accuracy: 90.96 - Loss: 0.0036424700371519535 \n",
            "\n"
          ]
        },
        {
          "output_type": "stream",
          "name": "stderr",
          "text": [
            "100%|██████████| 16/16 [00:08<00:00,  1.91it/s]\n",
            "100%|██████████| 14/14 [00:05<00:00,  2.56it/s]\n"
          ]
        },
        {
          "output_type": "stream",
          "name": "stdout",
          "text": [
            "Accuracy: 90.84 - Loss: 0.0036550888847448155 \n",
            "\n"
          ]
        },
        {
          "output_type": "stream",
          "name": "stderr",
          "text": [
            "100%|██████████| 16/16 [00:08<00:00,  1.91it/s]\n",
            "100%|██████████| 14/14 [00:05<00:00,  2.63it/s]\n"
          ]
        },
        {
          "output_type": "stream",
          "name": "stdout",
          "text": [
            "Accuracy: 90.90 - Loss: 0.0036663611045854535 \n",
            "\n"
          ]
        },
        {
          "output_type": "stream",
          "name": "stderr",
          "text": [
            "100%|██████████| 16/16 [00:09<00:00,  1.77it/s]\n",
            "100%|██████████| 14/14 [00:04<00:00,  3.03it/s]\n"
          ]
        },
        {
          "output_type": "stream",
          "name": "stdout",
          "text": [
            "Accuracy: 91.02 - Loss: 0.0036494685058108345 \n",
            "\n"
          ]
        }
      ],
      "source": [
        "warnings.filterwarnings('ignore', category=UserWarning)\n",
        "\n",
        "# Parse arguments\n",
        "conf = { # Art Painting -> Photo\n",
        "    'seed': 0,\n",
        "    'test_only': False,\n",
        "    'cpu': False,\n",
        "    'experiment': 'random',\n",
        "    'experiment_name': '2_1_3',\n",
        "    'experiment_args': {'module_placement': ['layer4.1.conv2'], 'mask_out_ratio': 0.4},\n",
        "    'dataset_args': {'text_root': 'data', 'images_root': 'data/kfold/PACS', 'source_domain': 'art_painting', 'target_domain': 'photo' },\n",
        "    'batch_size': 128,\n",
        "    'epochs': 30,\n",
        "    'num_workers': 5,\n",
        "    'grad_accum_steps': 1\n",
        "}\n",
        "\n",
        "#args = parse_arguments()\n",
        "args = argparse.Namespace(**conf)\n",
        "print(args)\n",
        "CONFIG.update(vars(args))\n",
        "\n",
        "# Setup output directory\n",
        "CONFIG.save_dir = os.path.join('record', CONFIG.experiment_name)\n",
        "os.makedirs(CONFIG.save_dir, exist_ok=True)\n",
        "\n",
        "# Setup logging\n",
        "logging.basicConfig(\n",
        "    filename=os.path.join(CONFIG.save_dir, 'log.txt'),\n",
        "    format='%(message)s',\n",
        "    level=logging.INFO,\n",
        "    filemode='a'\n",
        ")\n",
        "\n",
        "# Set experiment's device & deterministic behavior\n",
        "if CONFIG.cpu:\n",
        "    CONFIG.device = 'cpu'\n",
        "else:\n",
        "    CONFIG.device = 'cuda' if torch.cuda.is_available() else 'cpu'\n",
        "\n",
        "torch.manual_seed(CONFIG.seed)\n",
        "random.seed(CONFIG.seed)\n",
        "np.random.seed(CONFIG.seed)\n",
        "torch.backends.cudnn.benchmark = True\n",
        "torch.use_deterministic_algorithms(mode=True, warn_only=True)\n",
        "\n",
        "main()"
      ]
    },
    {
      "cell_type": "markdown",
      "metadata": {
        "id": "UTkmdxWorl_N"
      },
      "source": [
        "#### 2.1.4 - Art Painting &rightarrow; Cartoon, mor = 0.55"
      ]
    },
    {
      "cell_type": "code",
      "execution_count": 30,
      "metadata": {
        "colab": {
          "base_uri": "https://localhost:8080/"
        },
        "id": "DnC_Uv-crl_N",
        "outputId": "714f10bc-289b-4de1-87ae-eeba3109d28c"
      },
      "outputs": [
        {
          "output_type": "stream",
          "name": "stdout",
          "text": [
            "Namespace(seed=0, test_only=False, cpu=False, experiment='random', experiment_name='2_1_4', experiment_args={'module_placement': ['layer4.1.conv2'], 'mask_out_ratio': 0.55}, dataset_args={'text_root': 'data', 'images_root': 'data/kfold/PACS', 'source_domain': 'art_painting', 'target_domain': 'cartoon'}, batch_size=128, epochs=30, num_workers=5, grad_accum_steps=1)\n",
            "mask_out_ratio:  0.55\n",
            "layer_name layer4.1.conv2 random_mask sum():  tensor(11245., device='cuda:0')\n",
            "Insert activation shaping layer after  layer4.1.conv2 Conv2d(512, 512, kernel_size=(3, 3), stride=(1, 1), padding=(1, 1), bias=False)\n"
          ]
        },
        {
          "output_type": "stream",
          "name": "stderr",
          "text": [
            "100%|██████████| 16/16 [00:10<00:00,  1.57it/s]\n",
            "100%|██████████| 19/19 [00:06<00:00,  2.96it/s]\n"
          ]
        },
        {
          "output_type": "stream",
          "name": "stdout",
          "text": [
            "Accuracy: 19.84 - Loss: 0.015943300042542987 \n",
            "\n"
          ]
        },
        {
          "output_type": "stream",
          "name": "stderr",
          "text": [
            "100%|██████████| 16/16 [00:09<00:00,  1.63it/s]\n",
            "100%|██████████| 19/19 [00:06<00:00,  2.78it/s]\n"
          ]
        },
        {
          "output_type": "stream",
          "name": "stdout",
          "text": [
            "Accuracy: 27.73 - Loss: 0.015007186973461113 \n",
            "\n"
          ]
        },
        {
          "output_type": "stream",
          "name": "stderr",
          "text": [
            "100%|██████████| 16/16 [00:08<00:00,  1.93it/s]\n",
            "100%|██████████| 19/19 [00:06<00:00,  2.72it/s]\n"
          ]
        },
        {
          "output_type": "stream",
          "name": "stdout",
          "text": [
            "Accuracy: 33.58 - Loss: 0.014341120020114522 \n",
            "\n"
          ]
        },
        {
          "output_type": "stream",
          "name": "stderr",
          "text": [
            "100%|██████████| 16/16 [00:08<00:00,  1.79it/s]\n",
            "100%|██████████| 19/19 [00:06<00:00,  3.04it/s]\n"
          ]
        },
        {
          "output_type": "stream",
          "name": "stdout",
          "text": [
            "Accuracy: 37.54 - Loss: 0.013861010760170607 \n",
            "\n"
          ]
        },
        {
          "output_type": "stream",
          "name": "stderr",
          "text": [
            "100%|██████████| 16/16 [00:09<00:00,  1.68it/s]\n",
            "100%|██████████| 19/19 [00:05<00:00,  3.24it/s]\n"
          ]
        },
        {
          "output_type": "stream",
          "name": "stdout",
          "text": [
            "Accuracy: 39.68 - Loss: 0.013495207799172645 \n",
            "\n"
          ]
        },
        {
          "output_type": "stream",
          "name": "stderr",
          "text": [
            "100%|██████████| 16/16 [00:09<00:00,  1.71it/s]\n",
            "100%|██████████| 19/19 [00:05<00:00,  3.21it/s]\n"
          ]
        },
        {
          "output_type": "stream",
          "name": "stdout",
          "text": [
            "Accuracy: 41.47 - Loss: 0.013183251328435773 \n",
            "\n"
          ]
        },
        {
          "output_type": "stream",
          "name": "stderr",
          "text": [
            "100%|██████████| 16/16 [00:09<00:00,  1.75it/s]\n",
            "100%|██████████| 19/19 [00:06<00:00,  2.73it/s]\n"
          ]
        },
        {
          "output_type": "stream",
          "name": "stdout",
          "text": [
            "Accuracy: 43.13 - Loss: 0.0128783936590058 \n",
            "\n"
          ]
        },
        {
          "output_type": "stream",
          "name": "stderr",
          "text": [
            "100%|██████████| 16/16 [00:08<00:00,  1.94it/s]\n",
            "100%|██████████| 19/19 [00:06<00:00,  2.76it/s]\n"
          ]
        },
        {
          "output_type": "stream",
          "name": "stdout",
          "text": [
            "Accuracy: 42.79 - Loss: 0.012713345498762033 \n",
            "\n"
          ]
        },
        {
          "output_type": "stream",
          "name": "stderr",
          "text": [
            "100%|██████████| 16/16 [00:09<00:00,  1.74it/s]\n",
            "100%|██████████| 19/19 [00:05<00:00,  3.30it/s]\n"
          ]
        },
        {
          "output_type": "stream",
          "name": "stdout",
          "text": [
            "Accuracy: 43.26 - Loss: 0.012538913268684934 \n",
            "\n"
          ]
        },
        {
          "output_type": "stream",
          "name": "stderr",
          "text": [
            "100%|██████████| 16/16 [00:09<00:00,  1.73it/s]\n",
            "100%|██████████| 19/19 [00:05<00:00,  3.27it/s]\n"
          ]
        },
        {
          "output_type": "stream",
          "name": "stdout",
          "text": [
            "Accuracy: 42.11 - Loss: 0.012464605805816912 \n",
            "\n"
          ]
        },
        {
          "output_type": "stream",
          "name": "stderr",
          "text": [
            "100%|██████████| 16/16 [00:09<00:00,  1.73it/s]\n",
            "100%|██████████| 19/19 [00:05<00:00,  3.20it/s]\n"
          ]
        },
        {
          "output_type": "stream",
          "name": "stdout",
          "text": [
            "Accuracy: 43.52 - Loss: 0.012216189259555152 \n",
            "\n"
          ]
        },
        {
          "output_type": "stream",
          "name": "stderr",
          "text": [
            "100%|██████████| 16/16 [00:09<00:00,  1.76it/s]\n",
            "100%|██████████| 19/19 [00:06<00:00,  2.80it/s]\n"
          ]
        },
        {
          "output_type": "stream",
          "name": "stdout",
          "text": [
            "Accuracy: 42.45 - Loss: 0.012264787337072066 \n",
            "\n"
          ]
        },
        {
          "output_type": "stream",
          "name": "stderr",
          "text": [
            "100%|██████████| 16/16 [00:08<00:00,  1.97it/s]\n",
            "100%|██████████| 19/19 [00:06<00:00,  2.80it/s]\n"
          ]
        },
        {
          "output_type": "stream",
          "name": "stdout",
          "text": [
            "Accuracy: 43.39 - Loss: 0.012031110378662474 \n",
            "\n"
          ]
        },
        {
          "output_type": "stream",
          "name": "stderr",
          "text": [
            "100%|██████████| 16/16 [00:08<00:00,  1.82it/s]\n",
            "100%|██████████| 19/19 [00:06<00:00,  3.13it/s]\n"
          ]
        },
        {
          "output_type": "stream",
          "name": "stdout",
          "text": [
            "Accuracy: 42.62 - Loss: 0.012067781576931273 \n",
            "\n"
          ]
        },
        {
          "output_type": "stream",
          "name": "stderr",
          "text": [
            "100%|██████████| 16/16 [00:09<00:00,  1.70it/s]\n",
            "100%|██████████| 19/19 [00:05<00:00,  3.27it/s]\n"
          ]
        },
        {
          "output_type": "stream",
          "name": "stdout",
          "text": [
            "Accuracy: 42.28 - Loss: 0.012080774321490994 \n",
            "\n"
          ]
        },
        {
          "output_type": "stream",
          "name": "stderr",
          "text": [
            "100%|██████████| 16/16 [00:09<00:00,  1.71it/s]\n",
            "100%|██████████| 19/19 [00:05<00:00,  3.30it/s]\n"
          ]
        },
        {
          "output_type": "stream",
          "name": "stdout",
          "text": [
            "Accuracy: 43.69 - Loss: 0.011876482300384053 \n",
            "\n"
          ]
        },
        {
          "output_type": "stream",
          "name": "stderr",
          "text": [
            "100%|██████████| 16/16 [00:09<00:00,  1.76it/s]\n",
            "100%|██████████| 19/19 [00:06<00:00,  2.78it/s]\n"
          ]
        },
        {
          "output_type": "stream",
          "name": "stdout",
          "text": [
            "Accuracy: 42.96 - Loss: 0.011855629625580823 \n",
            "\n"
          ]
        },
        {
          "output_type": "stream",
          "name": "stderr",
          "text": [
            "100%|██████████| 16/16 [00:08<00:00,  1.94it/s]\n",
            "100%|██████████| 19/19 [00:06<00:00,  2.78it/s]\n"
          ]
        },
        {
          "output_type": "stream",
          "name": "stdout",
          "text": [
            "Accuracy: 42.70 - Loss: 0.011850546397039915 \n",
            "\n"
          ]
        },
        {
          "output_type": "stream",
          "name": "stderr",
          "text": [
            "100%|██████████| 16/16 [00:08<00:00,  1.84it/s]\n",
            "100%|██████████| 19/19 [00:06<00:00,  3.08it/s]\n"
          ]
        },
        {
          "output_type": "stream",
          "name": "stdout",
          "text": [
            "Accuracy: 44.03 - Loss: 0.011688144540624 \n",
            "\n"
          ]
        },
        {
          "output_type": "stream",
          "name": "stderr",
          "text": [
            "100%|██████████| 16/16 [00:09<00:00,  1.71it/s]\n",
            "100%|██████████| 19/19 [00:05<00:00,  3.31it/s]\n"
          ]
        },
        {
          "output_type": "stream",
          "name": "stdout",
          "text": [
            "Accuracy: 43.69 - Loss: 0.01165128832384181 \n",
            "\n"
          ]
        },
        {
          "output_type": "stream",
          "name": "stderr",
          "text": [
            "100%|██████████| 16/16 [00:09<00:00,  1.76it/s]\n",
            "100%|██████████| 19/19 [00:05<00:00,  3.24it/s]\n"
          ]
        },
        {
          "output_type": "stream",
          "name": "stdout",
          "text": [
            "Accuracy: 43.09 - Loss: 0.011665615205471833 \n",
            "\n"
          ]
        },
        {
          "output_type": "stream",
          "name": "stderr",
          "text": [
            "100%|██████████| 16/16 [00:09<00:00,  1.72it/s]\n",
            "100%|██████████| 19/19 [00:06<00:00,  2.79it/s]\n"
          ]
        },
        {
          "output_type": "stream",
          "name": "stdout",
          "text": [
            "Accuracy: 44.62 - Loss: 0.01154147317385104 \n",
            "\n"
          ]
        },
        {
          "output_type": "stream",
          "name": "stderr",
          "text": [
            "100%|██████████| 16/16 [00:08<00:00,  1.93it/s]\n",
            "100%|██████████| 19/19 [00:06<00:00,  2.74it/s]\n"
          ]
        },
        {
          "output_type": "stream",
          "name": "stdout",
          "text": [
            "Accuracy: 44.03 - Loss: 0.011573805743923773 \n",
            "\n"
          ]
        },
        {
          "output_type": "stream",
          "name": "stderr",
          "text": [
            "100%|██████████| 16/16 [00:08<00:00,  1.86it/s]\n",
            "100%|██████████| 19/19 [00:06<00:00,  3.03it/s]\n"
          ]
        },
        {
          "output_type": "stream",
          "name": "stdout",
          "text": [
            "Accuracy: 43.47 - Loss: 0.011619530211333122 \n",
            "\n"
          ]
        },
        {
          "output_type": "stream",
          "name": "stderr",
          "text": [
            "100%|██████████| 16/16 [00:09<00:00,  1.71it/s]\n",
            "100%|██████████| 19/19 [00:05<00:00,  3.32it/s]\n"
          ]
        },
        {
          "output_type": "stream",
          "name": "stdout",
          "text": [
            "Accuracy: 43.90 - Loss: 0.011568777797165178 \n",
            "\n"
          ]
        },
        {
          "output_type": "stream",
          "name": "stderr",
          "text": [
            "100%|██████████| 16/16 [00:09<00:00,  1.70it/s]\n",
            "100%|██████████| 19/19 [00:05<00:00,  3.26it/s]\n"
          ]
        },
        {
          "output_type": "stream",
          "name": "stdout",
          "text": [
            "Accuracy: 43.52 - Loss: 0.011607906771601263 \n",
            "\n"
          ]
        },
        {
          "output_type": "stream",
          "name": "stderr",
          "text": [
            "100%|██████████| 16/16 [00:09<00:00,  1.72it/s]\n",
            "100%|██████████| 19/19 [00:06<00:00,  2.82it/s]\n"
          ]
        },
        {
          "output_type": "stream",
          "name": "stdout",
          "text": [
            "Accuracy: 43.56 - Loss: 0.011553543775561727 \n",
            "\n"
          ]
        },
        {
          "output_type": "stream",
          "name": "stderr",
          "text": [
            "100%|██████████| 16/16 [00:08<00:00,  1.90it/s]\n",
            "100%|██████████| 19/19 [00:06<00:00,  2.79it/s]\n"
          ]
        },
        {
          "output_type": "stream",
          "name": "stdout",
          "text": [
            "Accuracy: 43.77 - Loss: 0.011559459333126862 \n",
            "\n"
          ]
        },
        {
          "output_type": "stream",
          "name": "stderr",
          "text": [
            "100%|██████████| 16/16 [00:10<00:00,  1.57it/s]\n",
            "100%|██████████| 19/19 [00:05<00:00,  3.18it/s]\n"
          ]
        },
        {
          "output_type": "stream",
          "name": "stdout",
          "text": [
            "Accuracy: 43.86 - Loss: 0.011530975610933206 \n",
            "\n"
          ]
        },
        {
          "output_type": "stream",
          "name": "stderr",
          "text": [
            "100%|██████████| 16/16 [00:09<00:00,  1.72it/s]\n",
            "100%|██████████| 19/19 [00:05<00:00,  3.30it/s]\n"
          ]
        },
        {
          "output_type": "stream",
          "name": "stdout",
          "text": [
            "Accuracy: 43.98 - Loss: 0.011526407133597157 \n",
            "\n"
          ]
        }
      ],
      "source": [
        "warnings.filterwarnings('ignore', category=UserWarning)\n",
        "\n",
        "# Parse arguments\n",
        "conf = { # Art Painting -> Cartoon\n",
        "    'seed': 0,\n",
        "    'test_only': False,\n",
        "    'cpu': False,\n",
        "    'experiment': 'random',\n",
        "    'experiment_name': '2_1_4',\n",
        "    'experiment_args': {'module_placement': ['layer4.1.conv2'], 'mask_out_ratio': 0.55},\n",
        "    'dataset_args': {'text_root': 'data', 'images_root': 'data/kfold/PACS', 'source_domain': 'art_painting', 'target_domain': 'cartoon' },\n",
        "    'batch_size': 128,\n",
        "    'epochs': 30,\n",
        "    'num_workers': 5,\n",
        "    'grad_accum_steps': 1\n",
        "}\n",
        "\n",
        "#args = parse_arguments()\n",
        "args = argparse.Namespace(**conf)\n",
        "print(args)\n",
        "CONFIG.update(vars(args))\n",
        "\n",
        "# Setup output directory\n",
        "CONFIG.save_dir = os.path.join('record', CONFIG.experiment_name)\n",
        "os.makedirs(CONFIG.save_dir, exist_ok=True)\n",
        "\n",
        "# Setup logging\n",
        "logging.basicConfig(\n",
        "    filename=os.path.join(CONFIG.save_dir, 'log.txt'),\n",
        "    format='%(message)s',\n",
        "    level=logging.INFO,\n",
        "    filemode='a'\n",
        ")\n",
        "\n",
        "# Set experiment's device & deterministic behavior\n",
        "if CONFIG.cpu:\n",
        "    CONFIG.device = 'cpu'\n",
        "else:\n",
        "    CONFIG.device = 'cuda' if torch.cuda.is_available() else 'cpu'\n",
        "\n",
        "torch.manual_seed(CONFIG.seed)\n",
        "random.seed(CONFIG.seed)\n",
        "np.random.seed(CONFIG.seed)\n",
        "torch.backends.cudnn.benchmark = True\n",
        "torch.use_deterministic_algorithms(mode=True, warn_only=True)\n",
        "\n",
        "main()"
      ]
    },
    {
      "cell_type": "markdown",
      "metadata": {
        "id": "8Ixvs0sirl_N"
      },
      "source": [
        "#### 2.1.5 - Art Painting &rightarrow; Sketch, mor = 0.55"
      ]
    },
    {
      "cell_type": "code",
      "execution_count": 31,
      "metadata": {
        "colab": {
          "base_uri": "https://localhost:8080/"
        },
        "id": "-Wiqq60zrl_N",
        "outputId": "aa4290ce-52f2-4c3b-fc95-4b2fc25c69e9"
      },
      "outputs": [
        {
          "output_type": "stream",
          "name": "stdout",
          "text": [
            "Namespace(seed=0, test_only=False, cpu=False, experiment='random', experiment_name='2_1_5', experiment_args={'module_placement': ['layer4.1.conv2'], 'mask_out_ratio': 0.55}, dataset_args={'text_root': 'data', 'images_root': 'data/kfold/PACS', 'source_domain': 'art_painting', 'target_domain': 'sketch'}, batch_size=128, epochs=30, num_workers=5, grad_accum_steps=1)\n",
            "mask_out_ratio:  0.55\n",
            "layer_name layer4.1.conv2 random_mask sum():  tensor(11245., device='cuda:0')\n",
            "Insert activation shaping layer after  layer4.1.conv2 Conv2d(512, 512, kernel_size=(3, 3), stride=(1, 1), padding=(1, 1), bias=False)\n"
          ]
        },
        {
          "output_type": "stream",
          "name": "stderr",
          "text": [
            "100%|██████████| 16/16 [00:09<00:00,  1.64it/s]\n",
            "100%|██████████| 31/31 [00:11<00:00,  2.62it/s]\n"
          ]
        },
        {
          "output_type": "stream",
          "name": "stdout",
          "text": [
            "Accuracy: 4.43 - Loss: 0.017112643520290172 \n",
            "\n"
          ]
        },
        {
          "output_type": "stream",
          "name": "stderr",
          "text": [
            "100%|██████████| 16/16 [00:09<00:00,  1.73it/s]\n",
            "100%|██████████| 31/31 [00:10<00:00,  2.95it/s]\n"
          ]
        },
        {
          "output_type": "stream",
          "name": "stdout",
          "text": [
            "Accuracy: 8.22 - Loss: 0.016078815323064332 \n",
            "\n"
          ]
        },
        {
          "output_type": "stream",
          "name": "stderr",
          "text": [
            "100%|██████████| 16/16 [00:08<00:00,  1.90it/s]\n",
            "100%|██████████| 31/31 [00:10<00:00,  2.82it/s]\n"
          ]
        },
        {
          "output_type": "stream",
          "name": "stdout",
          "text": [
            "Accuracy: 12.12 - Loss: 0.01571675847583401 \n",
            "\n"
          ]
        },
        {
          "output_type": "stream",
          "name": "stderr",
          "text": [
            "100%|██████████| 16/16 [00:09<00:00,  1.70it/s]\n",
            "100%|██████████| 31/31 [00:11<00:00,  2.82it/s]\n"
          ]
        },
        {
          "output_type": "stream",
          "name": "stdout",
          "text": [
            "Accuracy: 14.66 - Loss: 0.015520109357224617 \n",
            "\n"
          ]
        },
        {
          "output_type": "stream",
          "name": "stderr",
          "text": [
            "100%|██████████| 16/16 [00:08<00:00,  1.96it/s]\n",
            "100%|██████████| 31/31 [00:10<00:00,  2.82it/s]\n"
          ]
        },
        {
          "output_type": "stream",
          "name": "stdout",
          "text": [
            "Accuracy: 22.73 - Loss: 0.015139480618976643 \n",
            "\n"
          ]
        },
        {
          "output_type": "stream",
          "name": "stderr",
          "text": [
            "100%|██████████| 16/16 [00:09<00:00,  1.73it/s]\n",
            "100%|██████████| 31/31 [00:10<00:00,  2.82it/s]\n"
          ]
        },
        {
          "output_type": "stream",
          "name": "stdout",
          "text": [
            "Accuracy: 25.71 - Loss: 0.015086985326171316 \n",
            "\n"
          ]
        },
        {
          "output_type": "stream",
          "name": "stderr",
          "text": [
            "100%|██████████| 16/16 [00:08<00:00,  1.92it/s]\n",
            "100%|██████████| 31/31 [00:10<00:00,  2.83it/s]\n"
          ]
        },
        {
          "output_type": "stream",
          "name": "stdout",
          "text": [
            "Accuracy: 28.48 - Loss: 0.01485264365015882 \n",
            "\n"
          ]
        },
        {
          "output_type": "stream",
          "name": "stderr",
          "text": [
            "100%|██████████| 16/16 [00:09<00:00,  1.74it/s]\n",
            "100%|██████████| 31/31 [00:10<00:00,  2.82it/s]\n"
          ]
        },
        {
          "output_type": "stream",
          "name": "stdout",
          "text": [
            "Accuracy: 32.40 - Loss: 0.014758580511961618 \n",
            "\n"
          ]
        },
        {
          "output_type": "stream",
          "name": "stderr",
          "text": [
            "100%|██████████| 16/16 [00:08<00:00,  1.78it/s]\n",
            "100%|██████████| 31/31 [00:10<00:00,  3.07it/s]\n"
          ]
        },
        {
          "output_type": "stream",
          "name": "stdout",
          "text": [
            "Accuracy: 32.45 - Loss: 0.01457489686753799 \n",
            "\n"
          ]
        },
        {
          "output_type": "stream",
          "name": "stderr",
          "text": [
            "100%|██████████| 16/16 [00:09<00:00,  1.69it/s]\n",
            "100%|██████████| 31/31 [00:11<00:00,  2.79it/s]\n"
          ]
        },
        {
          "output_type": "stream",
          "name": "stdout",
          "text": [
            "Accuracy: 33.75 - Loss: 0.01446008360637724 \n",
            "\n"
          ]
        },
        {
          "output_type": "stream",
          "name": "stderr",
          "text": [
            "100%|██████████| 16/16 [00:09<00:00,  1.74it/s]\n",
            "100%|██████████| 31/31 [00:10<00:00,  3.03it/s]\n"
          ]
        },
        {
          "output_type": "stream",
          "name": "stdout",
          "text": [
            "Accuracy: 36.17 - Loss: 0.014352961271037943 \n",
            "\n"
          ]
        },
        {
          "output_type": "stream",
          "name": "stderr",
          "text": [
            "100%|██████████| 16/16 [00:08<00:00,  1.83it/s]\n",
            "100%|██████████| 31/31 [00:11<00:00,  2.80it/s]\n"
          ]
        },
        {
          "output_type": "stream",
          "name": "stdout",
          "text": [
            "Accuracy: 34.97 - Loss: 0.014269450991837601 \n",
            "\n"
          ]
        },
        {
          "output_type": "stream",
          "name": "stderr",
          "text": [
            "100%|██████████| 16/16 [00:09<00:00,  1.72it/s]\n",
            "100%|██████████| 31/31 [00:11<00:00,  2.80it/s]\n"
          ]
        },
        {
          "output_type": "stream",
          "name": "stdout",
          "text": [
            "Accuracy: 37.39 - Loss: 0.014209284919550414 \n",
            "\n"
          ]
        },
        {
          "output_type": "stream",
          "name": "stderr",
          "text": [
            "100%|██████████| 16/16 [00:08<00:00,  1.97it/s]\n",
            "100%|██████████| 31/31 [00:10<00:00,  2.83it/s]\n"
          ]
        },
        {
          "output_type": "stream",
          "name": "stdout",
          "text": [
            "Accuracy: 37.24 - Loss: 0.01412088624027492 \n",
            "\n"
          ]
        },
        {
          "output_type": "stream",
          "name": "stderr",
          "text": [
            "100%|██████████| 16/16 [00:09<00:00,  1.73it/s]\n",
            "100%|██████████| 31/31 [00:11<00:00,  2.82it/s]\n"
          ]
        },
        {
          "output_type": "stream",
          "name": "stdout",
          "text": [
            "Accuracy: 35.86 - Loss: 0.014114688449489703 \n",
            "\n"
          ]
        },
        {
          "output_type": "stream",
          "name": "stderr",
          "text": [
            "100%|██████████| 16/16 [00:08<00:00,  1.94it/s]\n",
            "100%|██████████| 31/31 [00:11<00:00,  2.80it/s]\n"
          ]
        },
        {
          "output_type": "stream",
          "name": "stdout",
          "text": [
            "Accuracy: 38.02 - Loss: 0.014009111617533236 \n",
            "\n"
          ]
        },
        {
          "output_type": "stream",
          "name": "stderr",
          "text": [
            "100%|██████████| 16/16 [00:09<00:00,  1.74it/s]\n",
            "100%|██████████| 31/31 [00:10<00:00,  2.84it/s]\n"
          ]
        },
        {
          "output_type": "stream",
          "name": "stdout",
          "text": [
            "Accuracy: 36.83 - Loss: 0.014091764706392937 \n",
            "\n"
          ]
        },
        {
          "output_type": "stream",
          "name": "stderr",
          "text": [
            "100%|██████████| 16/16 [00:09<00:00,  1.73it/s]\n",
            "100%|██████████| 31/31 [00:10<00:00,  3.07it/s]\n"
          ]
        },
        {
          "output_type": "stream",
          "name": "stdout",
          "text": [
            "Accuracy: 37.82 - Loss: 0.013979392065046762 \n",
            "\n"
          ]
        },
        {
          "output_type": "stream",
          "name": "stderr",
          "text": [
            "100%|██████████| 16/16 [00:09<00:00,  1.74it/s]\n",
            "100%|██████████| 31/31 [00:11<00:00,  2.78it/s]\n"
          ]
        },
        {
          "output_type": "stream",
          "name": "stdout",
          "text": [
            "Accuracy: 38.81 - Loss: 0.013944914881647254 \n",
            "\n"
          ]
        },
        {
          "output_type": "stream",
          "name": "stderr",
          "text": [
            "100%|██████████| 16/16 [00:09<00:00,  1.72it/s]\n",
            "100%|██████████| 31/31 [00:10<00:00,  2.90it/s]\n"
          ]
        },
        {
          "output_type": "stream",
          "name": "stdout",
          "text": [
            "Accuracy: 38.76 - Loss: 0.013922832430273742 \n",
            "\n"
          ]
        },
        {
          "output_type": "stream",
          "name": "stderr",
          "text": [
            "100%|██████████| 16/16 [00:08<00:00,  1.97it/s]\n",
            "100%|██████████| 31/31 [00:10<00:00,  2.83it/s]\n"
          ]
        },
        {
          "output_type": "stream",
          "name": "stdout",
          "text": [
            "Accuracy: 38.05 - Loss: 0.013976034483371967 \n",
            "\n"
          ]
        },
        {
          "output_type": "stream",
          "name": "stderr",
          "text": [
            "100%|██████████| 16/16 [00:09<00:00,  1.73it/s]\n",
            "100%|██████████| 31/31 [00:11<00:00,  2.80it/s]\n"
          ]
        },
        {
          "output_type": "stream",
          "name": "stdout",
          "text": [
            "Accuracy: 38.94 - Loss: 0.013899219221181619 \n",
            "\n"
          ]
        },
        {
          "output_type": "stream",
          "name": "stderr",
          "text": [
            "100%|██████████| 16/16 [00:08<00:00,  1.97it/s]\n",
            "100%|██████████| 31/31 [00:10<00:00,  2.85it/s]\n"
          ]
        },
        {
          "output_type": "stream",
          "name": "stdout",
          "text": [
            "Accuracy: 38.81 - Loss: 0.013845815037188259 \n",
            "\n"
          ]
        },
        {
          "output_type": "stream",
          "name": "stderr",
          "text": [
            "100%|██████████| 16/16 [00:10<00:00,  1.52it/s]\n",
            "100%|██████████| 31/31 [00:13<00:00,  2.32it/s]\n"
          ]
        },
        {
          "output_type": "stream",
          "name": "stdout",
          "text": [
            "Accuracy: 38.43 - Loss: 0.013894323964069198 \n",
            "\n"
          ]
        },
        {
          "output_type": "stream",
          "name": "stderr",
          "text": [
            "100%|██████████| 16/16 [00:09<00:00,  1.71it/s]\n",
            "100%|██████████| 31/31 [00:11<00:00,  2.77it/s]\n"
          ]
        },
        {
          "output_type": "stream",
          "name": "stdout",
          "text": [
            "Accuracy: 38.79 - Loss: 0.013836446139732976 \n",
            "\n"
          ]
        },
        {
          "output_type": "stream",
          "name": "stderr",
          "text": [
            "100%|██████████| 16/16 [00:08<00:00,  1.95it/s]\n",
            "100%|██████████| 31/31 [00:10<00:00,  2.82it/s]\n"
          ]
        },
        {
          "output_type": "stream",
          "name": "stdout",
          "text": [
            "Accuracy: 39.25 - Loss: 0.013839782786205483 \n",
            "\n"
          ]
        },
        {
          "output_type": "stream",
          "name": "stderr",
          "text": [
            "100%|██████████| 16/16 [00:09<00:00,  1.72it/s]\n",
            "100%|██████████| 31/31 [00:10<00:00,  2.83it/s]\n"
          ]
        },
        {
          "output_type": "stream",
          "name": "stdout",
          "text": [
            "Accuracy: 39.09 - Loss: 0.013849767117926291 \n",
            "\n"
          ]
        },
        {
          "output_type": "stream",
          "name": "stderr",
          "text": [
            "100%|██████████| 16/16 [00:08<00:00,  1.79it/s]\n",
            "100%|██████████| 31/31 [00:11<00:00,  2.67it/s]\n"
          ]
        },
        {
          "output_type": "stream",
          "name": "stdout",
          "text": [
            "Accuracy: 38.94 - Loss: 0.01379878358945315 \n",
            "\n"
          ]
        },
        {
          "output_type": "stream",
          "name": "stderr",
          "text": [
            "100%|██████████| 16/16 [00:09<00:00,  1.73it/s]\n",
            "100%|██████████| 31/31 [00:11<00:00,  2.76it/s]\n"
          ]
        },
        {
          "output_type": "stream",
          "name": "stdout",
          "text": [
            "Accuracy: 38.92 - Loss: 0.013812739784161109 \n",
            "\n"
          ]
        },
        {
          "output_type": "stream",
          "name": "stderr",
          "text": [
            "100%|██████████| 16/16 [00:09<00:00,  1.70it/s]\n",
            "100%|██████████| 31/31 [00:09<00:00,  3.12it/s]\n"
          ]
        },
        {
          "output_type": "stream",
          "name": "stdout",
          "text": [
            "Accuracy: 39.48 - Loss: 0.013824526970548525 \n",
            "\n"
          ]
        }
      ],
      "source": [
        "warnings.filterwarnings('ignore', category=UserWarning)\n",
        "\n",
        "# Parse arguments\n",
        "conf = { # Art Painting -> Sketch\n",
        "    'seed': 0,\n",
        "    'test_only': False,\n",
        "    'cpu': False,\n",
        "    'experiment': 'random',\n",
        "    'experiment_name': '2_1_5',\n",
        "    'experiment_args': {'module_placement': ['layer4.1.conv2'], 'mask_out_ratio': 0.55},\n",
        "    'dataset_args': {'text_root': 'data', 'images_root': 'data/kfold/PACS', 'source_domain': 'art_painting', 'target_domain': 'sketch' },\n",
        "    'batch_size': 128,\n",
        "    'epochs': 30,\n",
        "    'num_workers': 5,\n",
        "    'grad_accum_steps': 1\n",
        "}\n",
        "\n",
        "#args = parse_arguments()\n",
        "args = argparse.Namespace(**conf)\n",
        "print(args)\n",
        "CONFIG.update(vars(args))\n",
        "\n",
        "# Setup output directory\n",
        "CONFIG.save_dir = os.path.join('record', CONFIG.experiment_name)\n",
        "os.makedirs(CONFIG.save_dir, exist_ok=True)\n",
        "\n",
        "# Setup logging\n",
        "logging.basicConfig(\n",
        "    filename=os.path.join(CONFIG.save_dir, 'log.txt'),\n",
        "    format='%(message)s',\n",
        "    level=logging.INFO,\n",
        "    filemode='a'\n",
        ")\n",
        "\n",
        "# Set experiment's device & deterministic behavior\n",
        "if CONFIG.cpu:\n",
        "    CONFIG.device = 'cpu'\n",
        "else:\n",
        "    CONFIG.device = 'cuda' if torch.cuda.is_available() else 'cpu'\n",
        "\n",
        "torch.manual_seed(CONFIG.seed)\n",
        "random.seed(CONFIG.seed)\n",
        "np.random.seed(CONFIG.seed)\n",
        "torch.backends.cudnn.benchmark = True\n",
        "torch.use_deterministic_algorithms(mode=True, warn_only=True)\n",
        "\n",
        "main()"
      ]
    },
    {
      "cell_type": "markdown",
      "metadata": {
        "id": "67OTleNorl_O"
      },
      "source": [
        "#### 2.1.6 - Art Painting &rightarrow; Photo, mor = 0.55"
      ]
    },
    {
      "cell_type": "code",
      "execution_count": 32,
      "metadata": {
        "colab": {
          "base_uri": "https://localhost:8080/"
        },
        "id": "bOCsbrnerl_O",
        "outputId": "451f79b1-393e-49a0-ec0c-1dc74443b25a"
      },
      "outputs": [
        {
          "output_type": "stream",
          "name": "stdout",
          "text": [
            "Namespace(seed=0, test_only=False, cpu=False, experiment='random', experiment_name='2_1_6', experiment_args={'module_placement': ['layer4.1.conv2'], 'mask_out_ratio': 0.55}, dataset_args={'text_root': 'data', 'images_root': 'data/kfold/PACS', 'source_domain': 'art_painting', 'target_domain': 'photo'}, batch_size=128, epochs=30, num_workers=5, grad_accum_steps=1)\n",
            "mask_out_ratio:  0.55\n",
            "layer_name layer4.1.conv2 random_mask sum():  tensor(11245., device='cuda:0')\n",
            "Insert activation shaping layer after  layer4.1.conv2 Conv2d(512, 512, kernel_size=(3, 3), stride=(1, 1), padding=(1, 1), bias=False)\n"
          ]
        },
        {
          "output_type": "stream",
          "name": "stderr",
          "text": [
            "100%|██████████| 16/16 [00:09<00:00,  1.69it/s]\n",
            "100%|██████████| 14/14 [00:05<00:00,  2.38it/s]\n"
          ]
        },
        {
          "output_type": "stream",
          "name": "stdout",
          "text": [
            "Accuracy: 32.22 - Loss: 0.015372995487944095 \n",
            "\n"
          ]
        },
        {
          "output_type": "stream",
          "name": "stderr",
          "text": [
            "100%|██████████| 16/16 [00:08<00:00,  1.84it/s]\n",
            "100%|██████████| 14/14 [00:05<00:00,  2.53it/s]\n"
          ]
        },
        {
          "output_type": "stream",
          "name": "stdout",
          "text": [
            "Accuracy: 45.75 - Loss: 0.013748469681083085 \n",
            "\n"
          ]
        },
        {
          "output_type": "stream",
          "name": "stderr",
          "text": [
            "100%|██████████| 16/16 [00:08<00:00,  1.84it/s]\n",
            "100%|██████████| 14/14 [00:05<00:00,  2.73it/s]\n"
          ]
        },
        {
          "output_type": "stream",
          "name": "stdout",
          "text": [
            "Accuracy: 57.43 - Loss: 0.012130690120651336 \n",
            "\n"
          ]
        },
        {
          "output_type": "stream",
          "name": "stderr",
          "text": [
            "100%|██████████| 16/16 [00:09<00:00,  1.68it/s]\n",
            "100%|██████████| 14/14 [00:04<00:00,  3.26it/s]\n"
          ]
        },
        {
          "output_type": "stream",
          "name": "stdout",
          "text": [
            "Accuracy: 62.93 - Loss: 0.01092012221227863 \n",
            "\n"
          ]
        },
        {
          "output_type": "stream",
          "name": "stderr",
          "text": [
            "100%|██████████| 16/16 [00:09<00:00,  1.66it/s]\n",
            "100%|██████████| 14/14 [00:04<00:00,  3.25it/s]\n"
          ]
        },
        {
          "output_type": "stream",
          "name": "stdout",
          "text": [
            "Accuracy: 70.66 - Loss: 0.010008961925963442 \n",
            "\n"
          ]
        },
        {
          "output_type": "stream",
          "name": "stderr",
          "text": [
            "100%|██████████| 16/16 [00:09<00:00,  1.67it/s]\n",
            "100%|██████████| 14/14 [00:04<00:00,  3.26it/s]\n"
          ]
        },
        {
          "output_type": "stream",
          "name": "stdout",
          "text": [
            "Accuracy: 76.35 - Loss: 0.00911161553360031 \n",
            "\n"
          ]
        },
        {
          "output_type": "stream",
          "name": "stderr",
          "text": [
            "100%|██████████| 16/16 [00:09<00:00,  1.69it/s]\n",
            "100%|██████████| 14/14 [00:04<00:00,  3.25it/s]\n"
          ]
        },
        {
          "output_type": "stream",
          "name": "stdout",
          "text": [
            "Accuracy: 79.16 - Loss: 0.008448748388690148 \n",
            "\n"
          ]
        },
        {
          "output_type": "stream",
          "name": "stderr",
          "text": [
            "100%|██████████| 16/16 [00:09<00:00,  1.66it/s]\n",
            "100%|██████████| 14/14 [00:04<00:00,  3.25it/s]\n"
          ]
        },
        {
          "output_type": "stream",
          "name": "stdout",
          "text": [
            "Accuracy: 81.38 - Loss: 0.007894543687740486 \n",
            "\n"
          ]
        },
        {
          "output_type": "stream",
          "name": "stderr",
          "text": [
            "100%|██████████| 16/16 [00:09<00:00,  1.68it/s]\n",
            "100%|██████████| 14/14 [00:04<00:00,  3.22it/s]\n"
          ]
        },
        {
          "output_type": "stream",
          "name": "stdout",
          "text": [
            "Accuracy: 82.63 - Loss: 0.007402665065434164 \n",
            "\n"
          ]
        },
        {
          "output_type": "stream",
          "name": "stderr",
          "text": [
            "100%|██████████| 16/16 [00:09<00:00,  1.72it/s]\n",
            "100%|██████████| 14/14 [00:04<00:00,  2.90it/s]\n"
          ]
        },
        {
          "output_type": "stream",
          "name": "stdout",
          "text": [
            "Accuracy: 83.47 - Loss: 0.007005824264652001 \n",
            "\n"
          ]
        },
        {
          "output_type": "stream",
          "name": "stderr",
          "text": [
            "100%|██████████| 16/16 [00:08<00:00,  1.84it/s]\n",
            "100%|██████████| 14/14 [00:05<00:00,  2.65it/s]\n"
          ]
        },
        {
          "output_type": "stream",
          "name": "stdout",
          "text": [
            "Accuracy: 84.43 - Loss: 0.006592028476520927 \n",
            "\n"
          ]
        },
        {
          "output_type": "stream",
          "name": "stderr",
          "text": [
            "100%|██████████| 16/16 [00:08<00:00,  1.90it/s]\n",
            "100%|██████████| 14/14 [00:05<00:00,  2.59it/s]\n"
          ]
        },
        {
          "output_type": "stream",
          "name": "stdout",
          "text": [
            "Accuracy: 85.39 - Loss: 0.00634654200005674 \n",
            "\n"
          ]
        },
        {
          "output_type": "stream",
          "name": "stderr",
          "text": [
            "100%|██████████| 16/16 [00:08<00:00,  1.89it/s]\n",
            "100%|██████████| 14/14 [00:05<00:00,  2.74it/s]\n"
          ]
        },
        {
          "output_type": "stream",
          "name": "stdout",
          "text": [
            "Accuracy: 86.35 - Loss: 0.005973341472134619 \n",
            "\n"
          ]
        },
        {
          "output_type": "stream",
          "name": "stderr",
          "text": [
            "100%|██████████| 16/16 [00:08<00:00,  1.80it/s]\n",
            "100%|██████████| 14/14 [00:04<00:00,  3.03it/s]\n"
          ]
        },
        {
          "output_type": "stream",
          "name": "stdout",
          "text": [
            "Accuracy: 86.71 - Loss: 0.005803567742159266 \n",
            "\n"
          ]
        },
        {
          "output_type": "stream",
          "name": "stderr",
          "text": [
            "100%|██████████| 16/16 [00:09<00:00,  1.68it/s]\n",
            "100%|██████████| 14/14 [00:04<00:00,  3.30it/s]\n"
          ]
        },
        {
          "output_type": "stream",
          "name": "stdout",
          "text": [
            "Accuracy: 87.13 - Loss: 0.005557437821062739 \n",
            "\n"
          ]
        },
        {
          "output_type": "stream",
          "name": "stderr",
          "text": [
            "100%|██████████| 16/16 [00:09<00:00,  1.67it/s]\n",
            "100%|██████████| 14/14 [00:04<00:00,  3.23it/s]\n"
          ]
        },
        {
          "output_type": "stream",
          "name": "stdout",
          "text": [
            "Accuracy: 88.02 - Loss: 0.005347293686723995 \n",
            "\n"
          ]
        },
        {
          "output_type": "stream",
          "name": "stderr",
          "text": [
            "100%|██████████| 16/16 [00:09<00:00,  1.69it/s]\n",
            "100%|██████████| 14/14 [00:04<00:00,  3.23it/s]\n"
          ]
        },
        {
          "output_type": "stream",
          "name": "stdout",
          "text": [
            "Accuracy: 88.32 - Loss: 0.005108512054660363 \n",
            "\n"
          ]
        },
        {
          "output_type": "stream",
          "name": "stderr",
          "text": [
            "100%|██████████| 16/16 [00:09<00:00,  1.66it/s]\n",
            "100%|██████████| 14/14 [00:04<00:00,  3.27it/s]\n"
          ]
        },
        {
          "output_type": "stream",
          "name": "stdout",
          "text": [
            "Accuracy: 88.38 - Loss: 0.004958833084848827 \n",
            "\n"
          ]
        },
        {
          "output_type": "stream",
          "name": "stderr",
          "text": [
            "100%|██████████| 16/16 [00:09<00:00,  1.68it/s]\n",
            "100%|██████████| 14/14 [00:04<00:00,  3.20it/s]\n"
          ]
        },
        {
          "output_type": "stream",
          "name": "stdout",
          "text": [
            "Accuracy: 88.44 - Loss: 0.004808008081898718 \n",
            "\n"
          ]
        },
        {
          "output_type": "stream",
          "name": "stderr",
          "text": [
            "100%|██████████| 16/16 [00:09<00:00,  1.68it/s]\n",
            "100%|██████████| 14/14 [00:04<00:00,  3.18it/s]\n"
          ]
        },
        {
          "output_type": "stream",
          "name": "stdout",
          "text": [
            "Accuracy: 89.22 - Loss: 0.004642160674055179 \n",
            "\n"
          ]
        },
        {
          "output_type": "stream",
          "name": "stderr",
          "text": [
            "100%|██████████| 16/16 [00:09<00:00,  1.70it/s]\n",
            "100%|██████████| 14/14 [00:04<00:00,  2.84it/s]\n"
          ]
        },
        {
          "output_type": "stream",
          "name": "stdout",
          "text": [
            "Accuracy: 89.22 - Loss: 0.004472464376580929 \n",
            "\n"
          ]
        },
        {
          "output_type": "stream",
          "name": "stderr",
          "text": [
            "100%|██████████| 16/16 [00:08<00:00,  1.85it/s]\n",
            "100%|██████████| 14/14 [00:05<00:00,  2.64it/s]\n"
          ]
        },
        {
          "output_type": "stream",
          "name": "stdout",
          "text": [
            "Accuracy: 89.46 - Loss: 0.004326507145773151 \n",
            "\n"
          ]
        },
        {
          "output_type": "stream",
          "name": "stderr",
          "text": [
            "100%|██████████| 16/16 [00:08<00:00,  1.88it/s]\n",
            "100%|██████████| 14/14 [00:05<00:00,  2.59it/s]\n"
          ]
        },
        {
          "output_type": "stream",
          "name": "stdout",
          "text": [
            "Accuracy: 89.40 - Loss: 0.004244828527559063 \n",
            "\n"
          ]
        },
        {
          "output_type": "stream",
          "name": "stderr",
          "text": [
            "100%|██████████| 16/16 [00:08<00:00,  1.84it/s]\n",
            "100%|██████████| 14/14 [00:05<00:00,  2.72it/s]\n"
          ]
        },
        {
          "output_type": "stream",
          "name": "stdout",
          "text": [
            "Accuracy: 90.00 - Loss: 0.004120695894349835 \n",
            "\n"
          ]
        },
        {
          "output_type": "stream",
          "name": "stderr",
          "text": [
            "100%|██████████| 16/16 [00:09<00:00,  1.73it/s]\n",
            "100%|██████████| 14/14 [00:04<00:00,  3.15it/s]\n"
          ]
        },
        {
          "output_type": "stream",
          "name": "stdout",
          "text": [
            "Accuracy: 89.94 - Loss: 0.004112549206453883 \n",
            "\n"
          ]
        },
        {
          "output_type": "stream",
          "name": "stderr",
          "text": [
            "100%|██████████| 16/16 [00:09<00:00,  1.66it/s]\n",
            "100%|██████████| 14/14 [00:04<00:00,  3.27it/s]\n"
          ]
        },
        {
          "output_type": "stream",
          "name": "stdout",
          "text": [
            "Accuracy: 90.12 - Loss: 0.004097395385810715 \n",
            "\n"
          ]
        },
        {
          "output_type": "stream",
          "name": "stderr",
          "text": [
            "100%|██████████| 16/16 [00:09<00:00,  1.67it/s]\n",
            "100%|██████████| 14/14 [00:04<00:00,  3.27it/s]\n"
          ]
        },
        {
          "output_type": "stream",
          "name": "stdout",
          "text": [
            "Accuracy: 90.06 - Loss: 0.004069214202686698 \n",
            "\n"
          ]
        },
        {
          "output_type": "stream",
          "name": "stderr",
          "text": [
            "100%|██████████| 16/16 [00:09<00:00,  1.66it/s]\n",
            "100%|██████████| 14/14 [00:04<00:00,  3.26it/s]\n"
          ]
        },
        {
          "output_type": "stream",
          "name": "stdout",
          "text": [
            "Accuracy: 90.24 - Loss: 0.004071440275557741 \n",
            "\n"
          ]
        },
        {
          "output_type": "stream",
          "name": "stderr",
          "text": [
            "100%|██████████| 16/16 [00:09<00:00,  1.69it/s]\n",
            "100%|██████████| 14/14 [00:04<00:00,  3.24it/s]\n"
          ]
        },
        {
          "output_type": "stream",
          "name": "stdout",
          "text": [
            "Accuracy: 89.94 - Loss: 0.00407567798734425 \n",
            "\n"
          ]
        },
        {
          "output_type": "stream",
          "name": "stderr",
          "text": [
            "100%|██████████| 16/16 [00:09<00:00,  1.65it/s]\n",
            "100%|██████████| 14/14 [00:04<00:00,  3.27it/s]\n"
          ]
        },
        {
          "output_type": "stream",
          "name": "stdout",
          "text": [
            "Accuracy: 89.94 - Loss: 0.004074947794754348 \n",
            "\n"
          ]
        }
      ],
      "source": [
        "warnings.filterwarnings('ignore', category=UserWarning)\n",
        "\n",
        "# Parse arguments\n",
        "conf = { # Art Painting -> Photo\n",
        "    'seed': 0,\n",
        "    'test_only': False,\n",
        "    'cpu': False,\n",
        "    'experiment': 'random',\n",
        "    'experiment_name': '2_1_6',\n",
        "    'experiment_args': {'module_placement': ['layer4.1.conv2'], 'mask_out_ratio': 0.55},\n",
        "    'dataset_args': {'text_root': 'data', 'images_root': 'data/kfold/PACS', 'source_domain': 'art_painting', 'target_domain': 'photo' },\n",
        "    'batch_size': 128,\n",
        "    'epochs': 30,\n",
        "    'num_workers': 5,\n",
        "    'grad_accum_steps': 1\n",
        "}\n",
        "\n",
        "#args = parse_arguments()\n",
        "args = argparse.Namespace(**conf)\n",
        "print(args)\n",
        "CONFIG.update(vars(args))\n",
        "\n",
        "# Setup output directory\n",
        "CONFIG.save_dir = os.path.join('record', CONFIG.experiment_name)\n",
        "os.makedirs(CONFIG.save_dir, exist_ok=True)\n",
        "\n",
        "# Setup logging\n",
        "logging.basicConfig(\n",
        "    filename=os.path.join(CONFIG.save_dir, 'log.txt'),\n",
        "    format='%(message)s',\n",
        "    level=logging.INFO,\n",
        "    filemode='a'\n",
        ")\n",
        "\n",
        "# Set experiment's device & deterministic behavior\n",
        "if CONFIG.cpu:\n",
        "    CONFIG.device = 'cpu'\n",
        "else:\n",
        "    CONFIG.device = 'cuda' if torch.cuda.is_available() else 'cpu'\n",
        "\n",
        "torch.manual_seed(CONFIG.seed)\n",
        "random.seed(CONFIG.seed)\n",
        "np.random.seed(CONFIG.seed)\n",
        "torch.backends.cudnn.benchmark = True\n",
        "torch.use_deterministic_algorithms(mode=True, warn_only=True)\n",
        "\n",
        "main()"
      ]
    },
    {
      "cell_type": "markdown",
      "metadata": {
        "id": "iPLgmMofrl_O"
      },
      "source": [
        "#### 2.1.7 - Art Painting &rightarrow; Cartoon, mor = 0.75"
      ]
    },
    {
      "cell_type": "code",
      "execution_count": 33,
      "metadata": {
        "colab": {
          "base_uri": "https://localhost:8080/"
        },
        "id": "gPoUSRm2rl_P",
        "outputId": "eafbff8c-f599-47ff-fe5d-f58602ef6d8b"
      },
      "outputs": [
        {
          "output_type": "stream",
          "name": "stdout",
          "text": [
            "Namespace(seed=0, test_only=False, cpu=False, experiment='random', experiment_name='2_1_7', experiment_args={'module_placement': ['layer4.1.conv2'], 'mask_out_ratio': 0.75}, dataset_args={'text_root': 'data', 'images_root': 'data/kfold/PACS', 'source_domain': 'art_painting', 'target_domain': 'cartoon'}, batch_size=128, epochs=30, num_workers=5, grad_accum_steps=1)\n",
            "mask_out_ratio:  0.75\n",
            "layer_name layer4.1.conv2 random_mask sum():  tensor(6311., device='cuda:0')\n",
            "Insert activation shaping layer after  layer4.1.conv2 Conv2d(512, 512, kernel_size=(3, 3), stride=(1, 1), padding=(1, 1), bias=False)\n"
          ]
        },
        {
          "output_type": "stream",
          "name": "stderr",
          "text": [
            "100%|██████████| 16/16 [00:09<00:00,  1.70it/s]\n",
            "100%|██████████| 19/19 [00:07<00:00,  2.52it/s]\n"
          ]
        },
        {
          "output_type": "stream",
          "name": "stdout",
          "text": [
            "Accuracy: 18.69 - Loss: 0.015923208445819164 \n",
            "\n"
          ]
        },
        {
          "output_type": "stream",
          "name": "stderr",
          "text": [
            "100%|██████████| 16/16 [00:08<00:00,  1.78it/s]\n",
            "100%|██████████| 19/19 [00:06<00:00,  3.01it/s]\n"
          ]
        },
        {
          "output_type": "stream",
          "name": "stdout",
          "text": [
            "Accuracy: 23.85 - Loss: 0.015261020269817053 \n",
            "\n"
          ]
        },
        {
          "output_type": "stream",
          "name": "stderr",
          "text": [
            "100%|██████████| 16/16 [00:09<00:00,  1.70it/s]\n",
            "100%|██████████| 19/19 [00:05<00:00,  3.23it/s]\n"
          ]
        },
        {
          "output_type": "stream",
          "name": "stdout",
          "text": [
            "Accuracy: 29.10 - Loss: 0.014868040031947374 \n",
            "\n"
          ]
        },
        {
          "output_type": "stream",
          "name": "stderr",
          "text": [
            "100%|██████████| 16/16 [00:09<00:00,  1.69it/s]\n",
            "100%|██████████| 19/19 [00:05<00:00,  3.23it/s]\n"
          ]
        },
        {
          "output_type": "stream",
          "name": "stdout",
          "text": [
            "Accuracy: 33.58 - Loss: 0.014454298051957791 \n",
            "\n"
          ]
        },
        {
          "output_type": "stream",
          "name": "stderr",
          "text": [
            "100%|██████████| 16/16 [00:09<00:00,  1.72it/s]\n",
            "100%|██████████| 19/19 [00:06<00:00,  2.77it/s]\n"
          ]
        },
        {
          "output_type": "stream",
          "name": "stdout",
          "text": [
            "Accuracy: 36.99 - Loss: 0.01411379416037745 \n",
            "\n"
          ]
        },
        {
          "output_type": "stream",
          "name": "stderr",
          "text": [
            "100%|██████████| 16/16 [00:08<00:00,  1.89it/s]\n",
            "100%|██████████| 19/19 [00:06<00:00,  2.74it/s]\n"
          ]
        },
        {
          "output_type": "stream",
          "name": "stdout",
          "text": [
            "Accuracy: 38.61 - Loss: 0.013855600519798722 \n",
            "\n"
          ]
        },
        {
          "output_type": "stream",
          "name": "stderr",
          "text": [
            "100%|██████████| 16/16 [00:11<00:00,  1.43it/s]\n",
            "100%|██████████| 19/19 [00:05<00:00,  3.24it/s]\n"
          ]
        },
        {
          "output_type": "stream",
          "name": "stdout",
          "text": [
            "Accuracy: 41.21 - Loss: 0.013554894171477178 \n",
            "\n"
          ]
        },
        {
          "output_type": "stream",
          "name": "stderr",
          "text": [
            "100%|██████████| 16/16 [00:09<00:00,  1.68it/s]\n",
            "100%|██████████| 19/19 [00:05<00:00,  3.24it/s]\n"
          ]
        },
        {
          "output_type": "stream",
          "name": "stdout",
          "text": [
            "Accuracy: 41.85 - Loss: 0.013360568433491444 \n",
            "\n"
          ]
        },
        {
          "output_type": "stream",
          "name": "stderr",
          "text": [
            "100%|██████████| 16/16 [00:09<00:00,  1.68it/s]\n",
            "100%|██████████| 19/19 [00:06<00:00,  2.81it/s]\n"
          ]
        },
        {
          "output_type": "stream",
          "name": "stdout",
          "text": [
            "Accuracy: 42.06 - Loss: 0.013189180566589173 \n",
            "\n"
          ]
        },
        {
          "output_type": "stream",
          "name": "stderr",
          "text": [
            "100%|██████████| 16/16 [00:08<00:00,  1.92it/s]\n",
            "100%|██████████| 19/19 [00:06<00:00,  2.83it/s]\n"
          ]
        },
        {
          "output_type": "stream",
          "name": "stdout",
          "text": [
            "Accuracy: 41.60 - Loss: 0.013069210198958986 \n",
            "\n"
          ]
        },
        {
          "output_type": "stream",
          "name": "stderr",
          "text": [
            "100%|██████████| 16/16 [00:09<00:00,  1.75it/s]\n",
            "100%|██████████| 19/19 [00:05<00:00,  3.21it/s]\n"
          ]
        },
        {
          "output_type": "stream",
          "name": "stdout",
          "text": [
            "Accuracy: 43.43 - Loss: 0.01285750863901991 \n",
            "\n"
          ]
        },
        {
          "output_type": "stream",
          "name": "stderr",
          "text": [
            "100%|██████████| 16/16 [00:09<00:00,  1.68it/s]\n",
            "100%|██████████| 19/19 [00:05<00:00,  3.28it/s]\n"
          ]
        },
        {
          "output_type": "stream",
          "name": "stdout",
          "text": [
            "Accuracy: 42.66 - Loss: 0.012842485420533008 \n",
            "\n"
          ]
        },
        {
          "output_type": "stream",
          "name": "stderr",
          "text": [
            "100%|██████████| 16/16 [00:09<00:00,  1.69it/s]\n",
            "100%|██████████| 19/19 [00:05<00:00,  3.24it/s]\n"
          ]
        },
        {
          "output_type": "stream",
          "name": "stdout",
          "text": [
            "Accuracy: 43.43 - Loss: 0.012641900635416597 \n",
            "\n"
          ]
        },
        {
          "output_type": "stream",
          "name": "stderr",
          "text": [
            "100%|██████████| 16/16 [00:09<00:00,  1.74it/s]\n",
            "100%|██████████| 19/19 [00:06<00:00,  2.78it/s]\n"
          ]
        },
        {
          "output_type": "stream",
          "name": "stdout",
          "text": [
            "Accuracy: 43.52 - Loss: 0.012572336471528323 \n",
            "\n"
          ]
        },
        {
          "output_type": "stream",
          "name": "stderr",
          "text": [
            "100%|██████████| 16/16 [00:08<00:00,  1.89it/s]\n",
            "100%|██████████| 19/19 [00:06<00:00,  2.77it/s]\n"
          ]
        },
        {
          "output_type": "stream",
          "name": "stdout",
          "text": [
            "Accuracy: 41.98 - Loss: 0.0126306367815558 \n",
            "\n"
          ]
        },
        {
          "output_type": "stream",
          "name": "stderr",
          "text": [
            "100%|██████████| 16/16 [00:09<00:00,  1.67it/s]\n",
            "100%|██████████| 19/19 [00:05<00:00,  3.31it/s]\n"
          ]
        },
        {
          "output_type": "stream",
          "name": "stdout",
          "text": [
            "Accuracy: 43.86 - Loss: 0.012461370575550067 \n",
            "\n"
          ]
        },
        {
          "output_type": "stream",
          "name": "stderr",
          "text": [
            "100%|██████████| 16/16 [00:09<00:00,  1.68it/s]\n",
            "100%|██████████| 19/19 [00:05<00:00,  3.26it/s]\n"
          ]
        },
        {
          "output_type": "stream",
          "name": "stdout",
          "text": [
            "Accuracy: 42.96 - Loss: 0.012367176165352909 \n",
            "\n"
          ]
        },
        {
          "output_type": "stream",
          "name": "stderr",
          "text": [
            "100%|██████████| 16/16 [00:09<00:00,  1.69it/s]\n",
            "100%|██████████| 19/19 [00:06<00:00,  2.87it/s]\n"
          ]
        },
        {
          "output_type": "stream",
          "name": "stdout",
          "text": [
            "Accuracy: 42.15 - Loss: 0.012411073714799848 \n",
            "\n"
          ]
        },
        {
          "output_type": "stream",
          "name": "stderr",
          "text": [
            "100%|██████████| 16/16 [00:08<00:00,  1.89it/s]\n",
            "100%|██████████| 19/19 [00:06<00:00,  2.76it/s]\n"
          ]
        },
        {
          "output_type": "stream",
          "name": "stdout",
          "text": [
            "Accuracy: 43.17 - Loss: 0.012253058495781934 \n",
            "\n"
          ]
        },
        {
          "output_type": "stream",
          "name": "stderr",
          "text": [
            "100%|██████████| 16/16 [00:08<00:00,  1.84it/s]\n",
            "100%|██████████| 19/19 [00:06<00:00,  2.92it/s]\n"
          ]
        },
        {
          "output_type": "stream",
          "name": "stdout",
          "text": [
            "Accuracy: 43.69 - Loss: 0.012161360564085405 \n",
            "\n"
          ]
        },
        {
          "output_type": "stream",
          "name": "stderr",
          "text": [
            "100%|██████████| 16/16 [00:09<00:00,  1.67it/s]\n",
            "100%|██████████| 19/19 [00:05<00:00,  3.35it/s]\n"
          ]
        },
        {
          "output_type": "stream",
          "name": "stdout",
          "text": [
            "Accuracy: 42.06 - Loss: 0.012225155791731824 \n",
            "\n"
          ]
        },
        {
          "output_type": "stream",
          "name": "stderr",
          "text": [
            "100%|██████████| 16/16 [00:09<00:00,  1.65it/s]\n",
            "100%|██████████| 19/19 [00:05<00:00,  3.26it/s]\n"
          ]
        },
        {
          "output_type": "stream",
          "name": "stdout",
          "text": [
            "Accuracy: 43.52 - Loss: 0.012083600558111692 \n",
            "\n"
          ]
        },
        {
          "output_type": "stream",
          "name": "stderr",
          "text": [
            "100%|██████████| 16/16 [00:09<00:00,  1.64it/s]\n",
            "100%|██████████| 19/19 [00:06<00:00,  2.75it/s]\n"
          ]
        },
        {
          "output_type": "stream",
          "name": "stdout",
          "text": [
            "Accuracy: 43.22 - Loss: 0.012043325618265432 \n",
            "\n"
          ]
        },
        {
          "output_type": "stream",
          "name": "stderr",
          "text": [
            "100%|██████████| 16/16 [00:08<00:00,  1.87it/s]\n",
            "100%|██████████| 19/19 [00:06<00:00,  2.79it/s]\n"
          ]
        },
        {
          "output_type": "stream",
          "name": "stdout",
          "text": [
            "Accuracy: 42.88 - Loss: 0.012133551895008152 \n",
            "\n"
          ]
        },
        {
          "output_type": "stream",
          "name": "stderr",
          "text": [
            "100%|██████████| 16/16 [00:09<00:00,  1.69it/s]\n",
            "100%|██████████| 19/19 [00:05<00:00,  3.28it/s]\n"
          ]
        },
        {
          "output_type": "stream",
          "name": "stdout",
          "text": [
            "Accuracy: 42.79 - Loss: 0.012112570246331928 \n",
            "\n"
          ]
        },
        {
          "output_type": "stream",
          "name": "stderr",
          "text": [
            "100%|██████████| 16/16 [00:09<00:00,  1.67it/s]\n",
            "100%|██████████| 19/19 [00:05<00:00,  3.21it/s]\n"
          ]
        },
        {
          "output_type": "stream",
          "name": "stdout",
          "text": [
            "Accuracy: 42.75 - Loss: 0.012147164385473362 \n",
            "\n"
          ]
        },
        {
          "output_type": "stream",
          "name": "stderr",
          "text": [
            "100%|██████████| 16/16 [00:09<00:00,  1.68it/s]\n",
            "100%|██████████| 19/19 [00:06<00:00,  2.93it/s]\n"
          ]
        },
        {
          "output_type": "stream",
          "name": "stdout",
          "text": [
            "Accuracy: 42.62 - Loss: 0.012097232832029818 \n",
            "\n"
          ]
        },
        {
          "output_type": "stream",
          "name": "stderr",
          "text": [
            "100%|██████████| 16/16 [00:08<00:00,  1.86it/s]\n",
            "100%|██████████| 19/19 [00:06<00:00,  2.77it/s]\n"
          ]
        },
        {
          "output_type": "stream",
          "name": "stdout",
          "text": [
            "Accuracy: 43.09 - Loss: 0.012103324202954159 \n",
            "\n"
          ]
        },
        {
          "output_type": "stream",
          "name": "stderr",
          "text": [
            "100%|██████████| 16/16 [00:08<00:00,  1.89it/s]\n",
            "100%|██████████| 19/19 [00:06<00:00,  2.88it/s]\n"
          ]
        },
        {
          "output_type": "stream",
          "name": "stdout",
          "text": [
            "Accuracy: 42.96 - Loss: 0.012063210989021198 \n",
            "\n"
          ]
        },
        {
          "output_type": "stream",
          "name": "stderr",
          "text": [
            "100%|██████████| 16/16 [00:09<00:00,  1.66it/s]\n",
            "100%|██████████| 19/19 [00:05<00:00,  3.21it/s]\n"
          ]
        },
        {
          "output_type": "stream",
          "name": "stdout",
          "text": [
            "Accuracy: 42.96 - Loss: 0.012056715710171254 \n",
            "\n"
          ]
        }
      ],
      "source": [
        "warnings.filterwarnings('ignore', category=UserWarning)\n",
        "\n",
        "# Parse arguments\n",
        "conf = { # Art Painting -> Cartoon\n",
        "    'seed': 0,\n",
        "    'test_only': False,\n",
        "    'cpu': False,\n",
        "    'experiment': 'random',\n",
        "    'experiment_name': '2_1_7',\n",
        "    'experiment_args': {'module_placement': ['layer4.1.conv2'], 'mask_out_ratio': 0.75},\n",
        "    'dataset_args': {'text_root': 'data', 'images_root': 'data/kfold/PACS', 'source_domain': 'art_painting', 'target_domain': 'cartoon' },\n",
        "    'batch_size': 128,\n",
        "    'epochs': 30,\n",
        "    'num_workers': 5,\n",
        "    'grad_accum_steps': 1\n",
        "}\n",
        "\n",
        "#args = parse_arguments()\n",
        "args = argparse.Namespace(**conf)\n",
        "print(args)\n",
        "CONFIG.update(vars(args))\n",
        "\n",
        "# Setup output directory\n",
        "CONFIG.save_dir = os.path.join('record', CONFIG.experiment_name)\n",
        "os.makedirs(CONFIG.save_dir, exist_ok=True)\n",
        "\n",
        "# Setup logging\n",
        "logging.basicConfig(\n",
        "    filename=os.path.join(CONFIG.save_dir, 'log.txt'),\n",
        "    format='%(message)s',\n",
        "    level=logging.INFO,\n",
        "    filemode='a'\n",
        ")\n",
        "\n",
        "# Set experiment's device & deterministic behavior\n",
        "if CONFIG.cpu:\n",
        "    CONFIG.device = 'cpu'\n",
        "else:\n",
        "    CONFIG.device = 'cuda' if torch.cuda.is_available() else 'cpu'\n",
        "\n",
        "torch.manual_seed(CONFIG.seed)\n",
        "random.seed(CONFIG.seed)\n",
        "np.random.seed(CONFIG.seed)\n",
        "torch.backends.cudnn.benchmark = True\n",
        "torch.use_deterministic_algorithms(mode=True, warn_only=True)\n",
        "\n",
        "main()"
      ]
    },
    {
      "cell_type": "markdown",
      "metadata": {
        "id": "HUiRkgCwrl_P"
      },
      "source": [
        "#### 2.1.8 - Art Painting &rightarrow; Sketch, mor = 0.75"
      ]
    },
    {
      "cell_type": "code",
      "execution_count": 34,
      "metadata": {
        "colab": {
          "base_uri": "https://localhost:8080/"
        },
        "id": "-g4B1efCrl_P",
        "outputId": "785eff61-a46e-49a6-b361-977cee99b945"
      },
      "outputs": [
        {
          "output_type": "stream",
          "name": "stdout",
          "text": [
            "Namespace(seed=0, test_only=False, cpu=False, experiment='random', experiment_name='2_1_8', experiment_args={'module_placement': ['layer4.1.conv2'], 'mask_out_ratio': 0.75}, dataset_args={'text_root': 'data', 'images_root': 'data/kfold/PACS', 'source_domain': 'art_painting', 'target_domain': 'sketch'}, batch_size=128, epochs=30, num_workers=5, grad_accum_steps=1)\n",
            "mask_out_ratio:  0.75\n",
            "layer_name layer4.1.conv2 random_mask sum():  tensor(6311., device='cuda:0')\n",
            "Insert activation shaping layer after  layer4.1.conv2 Conv2d(512, 512, kernel_size=(3, 3), stride=(1, 1), padding=(1, 1), bias=False)\n"
          ]
        },
        {
          "output_type": "stream",
          "name": "stderr",
          "text": [
            "100%|██████████| 16/16 [00:09<00:00,  1.62it/s]\n",
            "100%|██████████| 31/31 [00:11<00:00,  2.59it/s]\n"
          ]
        },
        {
          "output_type": "stream",
          "name": "stdout",
          "text": [
            "Accuracy: 4.20 - Loss: 0.016791799621261632 \n",
            "\n"
          ]
        },
        {
          "output_type": "stream",
          "name": "stderr",
          "text": [
            "100%|██████████| 16/16 [00:09<00:00,  1.61it/s]\n",
            "100%|██████████| 31/31 [00:10<00:00,  2.89it/s]\n"
          ]
        },
        {
          "output_type": "stream",
          "name": "stdout",
          "text": [
            "Accuracy: 6.06 - Loss: 0.016164259832910862 \n",
            "\n"
          ]
        },
        {
          "output_type": "stream",
          "name": "stderr",
          "text": [
            "100%|██████████| 16/16 [00:08<00:00,  1.89it/s]\n",
            "100%|██████████| 31/31 [00:11<00:00,  2.81it/s]\n"
          ]
        },
        {
          "output_type": "stream",
          "name": "stdout",
          "text": [
            "Accuracy: 9.57 - Loss: 0.01582088210134295 \n",
            "\n"
          ]
        },
        {
          "output_type": "stream",
          "name": "stderr",
          "text": [
            "100%|██████████| 16/16 [00:09<00:00,  1.67it/s]\n",
            "100%|██████████| 31/31 [00:11<00:00,  2.78it/s]\n"
          ]
        },
        {
          "output_type": "stream",
          "name": "stdout",
          "text": [
            "Accuracy: 13.01 - Loss: 0.015633361519793876 \n",
            "\n"
          ]
        },
        {
          "output_type": "stream",
          "name": "stderr",
          "text": [
            "100%|██████████| 16/16 [00:08<00:00,  1.87it/s]\n",
            "100%|██████████| 31/31 [00:11<00:00,  2.69it/s]\n"
          ]
        },
        {
          "output_type": "stream",
          "name": "stdout",
          "text": [
            "Accuracy: 18.76 - Loss: 0.015399827942589702 \n",
            "\n"
          ]
        },
        {
          "output_type": "stream",
          "name": "stderr",
          "text": [
            "100%|██████████| 16/16 [00:09<00:00,  1.67it/s]\n",
            "100%|██████████| 31/31 [00:11<00:00,  2.78it/s]\n"
          ]
        },
        {
          "output_type": "stream",
          "name": "stdout",
          "text": [
            "Accuracy: 21.00 - Loss: 0.015299664043718757 \n",
            "\n"
          ]
        },
        {
          "output_type": "stream",
          "name": "stderr",
          "text": [
            "100%|██████████| 16/16 [00:09<00:00,  1.66it/s]\n",
            "100%|██████████| 31/31 [00:10<00:00,  2.90it/s]\n"
          ]
        },
        {
          "output_type": "stream",
          "name": "stdout",
          "text": [
            "Accuracy: 24.00 - Loss: 0.015069516689973377 \n",
            "\n"
          ]
        },
        {
          "output_type": "stream",
          "name": "stderr",
          "text": [
            "100%|██████████| 16/16 [00:08<00:00,  1.85it/s]\n",
            "100%|██████████| 31/31 [00:11<00:00,  2.80it/s]\n"
          ]
        },
        {
          "output_type": "stream",
          "name": "stdout",
          "text": [
            "Accuracy: 26.93 - Loss: 0.014976634297185225 \n",
            "\n"
          ]
        },
        {
          "output_type": "stream",
          "name": "stderr",
          "text": [
            "100%|██████████| 16/16 [00:09<00:00,  1.65it/s]\n",
            "100%|██████████| 31/31 [00:11<00:00,  2.77it/s]\n"
          ]
        },
        {
          "output_type": "stream",
          "name": "stdout",
          "text": [
            "Accuracy: 27.87 - Loss: 0.014783833705914722 \n",
            "\n"
          ]
        },
        {
          "output_type": "stream",
          "name": "stderr",
          "text": [
            "100%|██████████| 16/16 [00:08<00:00,  1.85it/s]\n",
            "100%|██████████| 31/31 [00:11<00:00,  2.59it/s]\n"
          ]
        },
        {
          "output_type": "stream",
          "name": "stdout",
          "text": [
            "Accuracy: 29.65 - Loss: 0.0146615030687254 \n",
            "\n"
          ]
        },
        {
          "output_type": "stream",
          "name": "stderr",
          "text": [
            "100%|██████████| 16/16 [00:09<00:00,  1.61it/s]\n",
            "100%|██████████| 31/31 [00:11<00:00,  2.78it/s]\n"
          ]
        },
        {
          "output_type": "stream",
          "name": "stdout",
          "text": [
            "Accuracy: 29.98 - Loss: 0.014559450086427117 \n",
            "\n"
          ]
        },
        {
          "output_type": "stream",
          "name": "stderr",
          "text": [
            "100%|██████████| 16/16 [00:09<00:00,  1.68it/s]\n",
            "100%|██████████| 31/31 [00:11<00:00,  2.79it/s]\n"
          ]
        },
        {
          "output_type": "stream",
          "name": "stdout",
          "text": [
            "Accuracy: 31.43 - Loss: 0.014491221898079647 \n",
            "\n"
          ]
        },
        {
          "output_type": "stream",
          "name": "stderr",
          "text": [
            "100%|██████████| 16/16 [00:08<00:00,  1.89it/s]\n",
            "100%|██████████| 31/31 [00:11<00:00,  2.77it/s]\n"
          ]
        },
        {
          "output_type": "stream",
          "name": "stdout",
          "text": [
            "Accuracy: 31.84 - Loss: 0.014426580850451192 \n",
            "\n"
          ]
        },
        {
          "output_type": "stream",
          "name": "stderr",
          "text": [
            "100%|██████████| 16/16 [00:09<00:00,  1.66it/s]\n",
            "100%|██████████| 31/31 [00:11<00:00,  2.81it/s]\n"
          ]
        },
        {
          "output_type": "stream",
          "name": "stdout",
          "text": [
            "Accuracy: 32.63 - Loss: 0.014368187898775189 \n",
            "\n"
          ]
        },
        {
          "output_type": "stream",
          "name": "stderr",
          "text": [
            "100%|██████████| 16/16 [00:08<00:00,  1.83it/s]\n",
            "100%|██████████| 31/31 [00:11<00:00,  2.80it/s]\n"
          ]
        },
        {
          "output_type": "stream",
          "name": "stdout",
          "text": [
            "Accuracy: 31.71 - Loss: 0.014363065570570125 \n",
            "\n"
          ]
        },
        {
          "output_type": "stream",
          "name": "stderr",
          "text": [
            "100%|██████████| 16/16 [00:09<00:00,  1.65it/s]\n",
            "100%|██████████| 31/31 [00:11<00:00,  2.76it/s]\n"
          ]
        },
        {
          "output_type": "stream",
          "name": "stdout",
          "text": [
            "Accuracy: 33.83 - Loss: 0.014290126233526877 \n",
            "\n"
          ]
        },
        {
          "output_type": "stream",
          "name": "stderr",
          "text": [
            "100%|██████████| 16/16 [00:09<00:00,  1.64it/s]\n",
            "100%|██████████| 31/31 [00:10<00:00,  2.84it/s]\n"
          ]
        },
        {
          "output_type": "stream",
          "name": "stdout",
          "text": [
            "Accuracy: 33.90 - Loss: 0.01431441137158983 \n",
            "\n"
          ]
        },
        {
          "output_type": "stream",
          "name": "stderr",
          "text": [
            "100%|██████████| 16/16 [00:08<00:00,  1.87it/s]\n",
            "100%|██████████| 31/31 [00:11<00:00,  2.76it/s]\n"
          ]
        },
        {
          "output_type": "stream",
          "name": "stdout",
          "text": [
            "Accuracy: 34.05 - Loss: 0.014272592728542716 \n",
            "\n"
          ]
        },
        {
          "output_type": "stream",
          "name": "stderr",
          "text": [
            "100%|██████████| 16/16 [00:09<00:00,  1.66it/s]\n",
            "100%|██████████| 31/31 [00:11<00:00,  2.78it/s]\n"
          ]
        },
        {
          "output_type": "stream",
          "name": "stdout",
          "text": [
            "Accuracy: 35.00 - Loss: 0.014215462988768258 \n",
            "\n"
          ]
        },
        {
          "output_type": "stream",
          "name": "stderr",
          "text": [
            "100%|██████████| 16/16 [00:08<00:00,  1.82it/s]\n",
            "100%|██████████| 31/31 [00:10<00:00,  2.86it/s]\n"
          ]
        },
        {
          "output_type": "stream",
          "name": "stdout",
          "text": [
            "Accuracy: 35.84 - Loss: 0.014223904123012575 \n",
            "\n"
          ]
        },
        {
          "output_type": "stream",
          "name": "stderr",
          "text": [
            "100%|██████████| 16/16 [00:09<00:00,  1.66it/s]\n",
            "100%|██████████| 31/31 [00:11<00:00,  2.75it/s]\n"
          ]
        },
        {
          "output_type": "stream",
          "name": "stdout",
          "text": [
            "Accuracy: 35.05 - Loss: 0.014280696047508373 \n",
            "\n"
          ]
        },
        {
          "output_type": "stream",
          "name": "stderr",
          "text": [
            "100%|██████████| 16/16 [00:09<00:00,  1.66it/s]\n",
            "100%|██████████| 31/31 [00:10<00:00,  2.92it/s]\n"
          ]
        },
        {
          "output_type": "stream",
          "name": "stdout",
          "text": [
            "Accuracy: 36.14 - Loss: 0.01423098695705974 \n",
            "\n"
          ]
        },
        {
          "output_type": "stream",
          "name": "stderr",
          "text": [
            "100%|██████████| 16/16 [00:08<00:00,  1.82it/s]\n",
            "100%|██████████| 31/31 [00:11<00:00,  2.76it/s]\n"
          ]
        },
        {
          "output_type": "stream",
          "name": "stdout",
          "text": [
            "Accuracy: 36.47 - Loss: 0.014176683530275923 \n",
            "\n"
          ]
        },
        {
          "output_type": "stream",
          "name": "stderr",
          "text": [
            "100%|██████████| 16/16 [00:09<00:00,  1.64it/s]\n",
            "100%|██████████| 31/31 [00:11<00:00,  2.76it/s]\n"
          ]
        },
        {
          "output_type": "stream",
          "name": "stdout",
          "text": [
            "Accuracy: 35.99 - Loss: 0.014181438612555632 \n",
            "\n"
          ]
        },
        {
          "output_type": "stream",
          "name": "stderr",
          "text": [
            "100%|██████████| 16/16 [00:08<00:00,  1.86it/s]\n",
            "100%|██████████| 31/31 [00:11<00:00,  2.80it/s]\n"
          ]
        },
        {
          "output_type": "stream",
          "name": "stdout",
          "text": [
            "Accuracy: 36.55 - Loss: 0.01414653647489055 \n",
            "\n"
          ]
        },
        {
          "output_type": "stream",
          "name": "stderr",
          "text": [
            "100%|██████████| 16/16 [00:09<00:00,  1.64it/s]\n",
            "100%|██████████| 31/31 [00:11<00:00,  2.74it/s]\n"
          ]
        },
        {
          "output_type": "stream",
          "name": "stdout",
          "text": [
            "Accuracy: 36.73 - Loss: 0.01417504657950223 \n",
            "\n"
          ]
        },
        {
          "output_type": "stream",
          "name": "stderr",
          "text": [
            "100%|██████████| 16/16 [00:09<00:00,  1.64it/s]\n",
            "100%|██████████| 31/31 [00:10<00:00,  2.84it/s]\n"
          ]
        },
        {
          "output_type": "stream",
          "name": "stdout",
          "text": [
            "Accuracy: 36.83 - Loss: 0.01418328673580458 \n",
            "\n"
          ]
        },
        {
          "output_type": "stream",
          "name": "stderr",
          "text": [
            "100%|██████████| 16/16 [00:08<00:00,  1.81it/s]\n",
            "100%|██████████| 31/31 [00:11<00:00,  2.76it/s]\n"
          ]
        },
        {
          "output_type": "stream",
          "name": "stdout",
          "text": [
            "Accuracy: 36.88 - Loss: 0.014146202907334093 \n",
            "\n"
          ]
        },
        {
          "output_type": "stream",
          "name": "stderr",
          "text": [
            "100%|██████████| 16/16 [00:09<00:00,  1.65it/s]\n",
            "100%|██████████| 31/31 [00:11<00:00,  2.79it/s]\n"
          ]
        },
        {
          "output_type": "stream",
          "name": "stdout",
          "text": [
            "Accuracy: 37.24 - Loss: 0.014150016390964802 \n",
            "\n"
          ]
        },
        {
          "output_type": "stream",
          "name": "stderr",
          "text": [
            "100%|██████████| 16/16 [00:08<00:00,  1.85it/s]\n",
            "100%|██████████| 31/31 [00:11<00:00,  2.80it/s]\n"
          ]
        },
        {
          "output_type": "stream",
          "name": "stdout",
          "text": [
            "Accuracy: 37.24 - Loss: 0.014148375131787159 \n",
            "\n"
          ]
        }
      ],
      "source": [
        "warnings.filterwarnings('ignore', category=UserWarning)\n",
        "\n",
        "# Parse arguments\n",
        "conf = { # Art Painting -> Sketch\n",
        "    'seed': 0,\n",
        "    'test_only': False,\n",
        "    'cpu': False,\n",
        "    'experiment': 'random',\n",
        "    'experiment_name': '2_1_8',\n",
        "    'experiment_args': {'module_placement': ['layer4.1.conv2'], 'mask_out_ratio': 0.75},\n",
        "    'dataset_args': {'text_root': 'data', 'images_root': 'data/kfold/PACS', 'source_domain': 'art_painting', 'target_domain': 'sketch' },\n",
        "    'batch_size': 128,\n",
        "    'epochs': 30,\n",
        "    'num_workers': 5,\n",
        "    'grad_accum_steps': 1\n",
        "}\n",
        "\n",
        "#args = parse_arguments()\n",
        "args = argparse.Namespace(**conf)\n",
        "print(args)\n",
        "CONFIG.update(vars(args))\n",
        "\n",
        "# Setup output directory\n",
        "CONFIG.save_dir = os.path.join('record', CONFIG.experiment_name)\n",
        "os.makedirs(CONFIG.save_dir, exist_ok=True)\n",
        "\n",
        "# Setup logging\n",
        "logging.basicConfig(\n",
        "    filename=os.path.join(CONFIG.save_dir, 'log.txt'),\n",
        "    format='%(message)s',\n",
        "    level=logging.INFO,\n",
        "    filemode='a'\n",
        ")\n",
        "\n",
        "# Set experiment's device & deterministic behavior\n",
        "if CONFIG.cpu:\n",
        "    CONFIG.device = 'cpu'\n",
        "else:\n",
        "    CONFIG.device = 'cuda' if torch.cuda.is_available() else 'cpu'\n",
        "\n",
        "torch.manual_seed(CONFIG.seed)\n",
        "random.seed(CONFIG.seed)\n",
        "np.random.seed(CONFIG.seed)\n",
        "torch.backends.cudnn.benchmark = True\n",
        "torch.use_deterministic_algorithms(mode=True, warn_only=True)\n",
        "\n",
        "main()"
      ]
    },
    {
      "cell_type": "markdown",
      "metadata": {
        "id": "VxpZNpkorl_Q"
      },
      "source": [
        "#### 2.1.9 - Art Painting &rightarrow; Photo, mor = 0.75"
      ]
    },
    {
      "cell_type": "code",
      "execution_count": 35,
      "metadata": {
        "colab": {
          "base_uri": "https://localhost:8080/"
        },
        "id": "Cs90vU9mrl_Q",
        "outputId": "d0d97ae2-b5f3-477b-fd0a-e7ccb45f9975"
      },
      "outputs": [
        {
          "output_type": "stream",
          "name": "stdout",
          "text": [
            "Namespace(seed=0, test_only=False, cpu=False, experiment='random', experiment_name='2_1_9', experiment_args={'module_placement': ['layer4.1.conv2'], 'mask_out_ratio': 0.75}, dataset_args={'text_root': 'data', 'images_root': 'data/kfold/PACS', 'source_domain': 'art_painting', 'target_domain': 'photo'}, batch_size=128, epochs=30, num_workers=5, grad_accum_steps=1)\n",
            "mask_out_ratio:  0.75\n",
            "layer_name layer4.1.conv2 random_mask sum():  tensor(6311., device='cuda:0')\n",
            "Insert activation shaping layer after  layer4.1.conv2 Conv2d(512, 512, kernel_size=(3, 3), stride=(1, 1), padding=(1, 1), bias=False)\n"
          ]
        },
        {
          "output_type": "stream",
          "name": "stderr",
          "text": [
            "100%|██████████| 16/16 [00:09<00:00,  1.61it/s]\n",
            "100%|██████████| 14/14 [00:06<00:00,  2.33it/s]\n"
          ]
        },
        {
          "output_type": "stream",
          "name": "stdout",
          "text": [
            "Accuracy: 25.75 - Loss: 0.015637363145451347 \n",
            "\n"
          ]
        },
        {
          "output_type": "stream",
          "name": "stderr",
          "text": [
            "100%|██████████| 16/16 [00:08<00:00,  1.84it/s]\n",
            "100%|██████████| 14/14 [00:05<00:00,  2.56it/s]\n"
          ]
        },
        {
          "output_type": "stream",
          "name": "stdout",
          "text": [
            "Accuracy: 38.50 - Loss: 0.014696306240058944 \n",
            "\n"
          ]
        },
        {
          "output_type": "stream",
          "name": "stderr",
          "text": [
            "100%|██████████| 16/16 [00:08<00:00,  1.87it/s]\n",
            "100%|██████████| 14/14 [00:05<00:00,  2.68it/s]\n"
          ]
        },
        {
          "output_type": "stream",
          "name": "stdout",
          "text": [
            "Accuracy: 47.96 - Loss: 0.013521336081499111 \n",
            "\n"
          ]
        },
        {
          "output_type": "stream",
          "name": "stderr",
          "text": [
            "100%|██████████| 16/16 [00:09<00:00,  1.75it/s]\n",
            "100%|██████████| 14/14 [00:04<00:00,  3.10it/s]\n"
          ]
        },
        {
          "output_type": "stream",
          "name": "stdout",
          "text": [
            "Accuracy: 54.13 - Loss: 0.012566116826976845 \n",
            "\n"
          ]
        },
        {
          "output_type": "stream",
          "name": "stderr",
          "text": [
            "100%|██████████| 16/16 [00:09<00:00,  1.67it/s]\n",
            "100%|██████████| 14/14 [00:04<00:00,  3.29it/s]\n"
          ]
        },
        {
          "output_type": "stream",
          "name": "stdout",
          "text": [
            "Accuracy: 59.16 - Loss: 0.011774866809388121 \n",
            "\n"
          ]
        },
        {
          "output_type": "stream",
          "name": "stderr",
          "text": [
            "100%|██████████| 16/16 [00:09<00:00,  1.68it/s]\n",
            "100%|██████████| 14/14 [00:04<00:00,  3.28it/s]\n"
          ]
        },
        {
          "output_type": "stream",
          "name": "stdout",
          "text": [
            "Accuracy: 64.01 - Loss: 0.011007531317408214 \n",
            "\n"
          ]
        },
        {
          "output_type": "stream",
          "name": "stderr",
          "text": [
            "100%|██████████| 16/16 [00:09<00:00,  1.68it/s]\n",
            "100%|██████████| 14/14 [00:04<00:00,  3.25it/s]\n"
          ]
        },
        {
          "output_type": "stream",
          "name": "stdout",
          "text": [
            "Accuracy: 68.62 - Loss: 0.010392074456471882 \n",
            "\n"
          ]
        },
        {
          "output_type": "stream",
          "name": "stderr",
          "text": [
            "100%|██████████| 16/16 [00:09<00:00,  1.66it/s]\n",
            "100%|██████████| 14/14 [00:04<00:00,  3.27it/s]\n"
          ]
        },
        {
          "output_type": "stream",
          "name": "stdout",
          "text": [
            "Accuracy: 72.16 - Loss: 0.009808884694904624 \n",
            "\n"
          ]
        },
        {
          "output_type": "stream",
          "name": "stderr",
          "text": [
            "100%|██████████| 16/16 [00:09<00:00,  1.66it/s]\n",
            "100%|██████████| 14/14 [00:04<00:00,  3.26it/s]\n"
          ]
        },
        {
          "output_type": "stream",
          "name": "stdout",
          "text": [
            "Accuracy: 74.85 - Loss: 0.009333645012564288 \n",
            "\n"
          ]
        },
        {
          "output_type": "stream",
          "name": "stderr",
          "text": [
            "100%|██████████| 16/16 [00:09<00:00,  1.69it/s]\n",
            "100%|██████████| 14/14 [00:04<00:00,  2.95it/s]\n"
          ]
        },
        {
          "output_type": "stream",
          "name": "stdout",
          "text": [
            "Accuracy: 76.77 - Loss: 0.00889206235994122 \n",
            "\n"
          ]
        },
        {
          "output_type": "stream",
          "name": "stderr",
          "text": [
            "100%|██████████| 16/16 [00:08<00:00,  1.79it/s]\n",
            "100%|██████████| 14/14 [00:05<00:00,  2.64it/s]\n"
          ]
        },
        {
          "output_type": "stream",
          "name": "stdout",
          "text": [
            "Accuracy: 78.62 - Loss: 0.008470701850103048 \n",
            "\n"
          ]
        },
        {
          "output_type": "stream",
          "name": "stderr",
          "text": [
            "100%|██████████| 16/16 [00:08<00:00,  1.90it/s]\n",
            "100%|██████████| 14/14 [00:05<00:00,  2.42it/s]\n"
          ]
        },
        {
          "output_type": "stream",
          "name": "stdout",
          "text": [
            "Accuracy: 79.94 - Loss: 0.008138930547737075 \n",
            "\n"
          ]
        },
        {
          "output_type": "stream",
          "name": "stderr",
          "text": [
            "100%|██████████| 16/16 [00:10<00:00,  1.54it/s]\n",
            "100%|██████████| 14/14 [00:04<00:00,  3.15it/s]\n"
          ]
        },
        {
          "output_type": "stream",
          "name": "stdout",
          "text": [
            "Accuracy: 81.62 - Loss: 0.007728516591523222 \n",
            "\n"
          ]
        },
        {
          "output_type": "stream",
          "name": "stderr",
          "text": [
            "100%|██████████| 16/16 [00:09<00:00,  1.67it/s]\n",
            "100%|██████████| 14/14 [00:04<00:00,  3.24it/s]\n"
          ]
        },
        {
          "output_type": "stream",
          "name": "stdout",
          "text": [
            "Accuracy: 82.34 - Loss: 0.0074875291593060524 \n",
            "\n"
          ]
        },
        {
          "output_type": "stream",
          "name": "stderr",
          "text": [
            "100%|██████████| 16/16 [00:09<00:00,  1.70it/s]\n",
            "100%|██████████| 14/14 [00:04<00:00,  3.23it/s]\n"
          ]
        },
        {
          "output_type": "stream",
          "name": "stdout",
          "text": [
            "Accuracy: 83.23 - Loss: 0.007185478588778102 \n",
            "\n"
          ]
        },
        {
          "output_type": "stream",
          "name": "stderr",
          "text": [
            "100%|██████████| 16/16 [00:09<00:00,  1.67it/s]\n",
            "100%|██████████| 14/14 [00:04<00:00,  3.27it/s]\n"
          ]
        },
        {
          "output_type": "stream",
          "name": "stdout",
          "text": [
            "Accuracy: 84.25 - Loss: 0.006929243253376669 \n",
            "\n"
          ]
        },
        {
          "output_type": "stream",
          "name": "stderr",
          "text": [
            "100%|██████████| 16/16 [00:09<00:00,  1.67it/s]\n",
            "100%|██████████| 14/14 [00:04<00:00,  3.25it/s]\n"
          ]
        },
        {
          "output_type": "stream",
          "name": "stdout",
          "text": [
            "Accuracy: 84.85 - Loss: 0.006652220994412542 \n",
            "\n"
          ]
        },
        {
          "output_type": "stream",
          "name": "stderr",
          "text": [
            "100%|██████████| 16/16 [00:09<00:00,  1.66it/s]\n",
            "100%|██████████| 14/14 [00:04<00:00,  3.29it/s]\n"
          ]
        },
        {
          "output_type": "stream",
          "name": "stdout",
          "text": [
            "Accuracy: 85.39 - Loss: 0.006439507792809766 \n",
            "\n"
          ]
        },
        {
          "output_type": "stream",
          "name": "stderr",
          "text": [
            "100%|██████████| 16/16 [00:09<00:00,  1.66it/s]\n",
            "100%|██████████| 14/14 [00:04<00:00,  2.94it/s]\n"
          ]
        },
        {
          "output_type": "stream",
          "name": "stdout",
          "text": [
            "Accuracy: 85.57 - Loss: 0.006231929977496941 \n",
            "\n"
          ]
        },
        {
          "output_type": "stream",
          "name": "stderr",
          "text": [
            "100%|██████████| 16/16 [00:08<00:00,  1.81it/s]\n",
            "100%|██████████| 14/14 [00:05<00:00,  2.63it/s]\n"
          ]
        },
        {
          "output_type": "stream",
          "name": "stdout",
          "text": [
            "Accuracy: 86.89 - Loss: 0.006006176064828199 \n",
            "\n"
          ]
        },
        {
          "output_type": "stream",
          "name": "stderr",
          "text": [
            "100%|██████████| 16/16 [00:08<00:00,  1.86it/s]\n",
            "100%|██████████| 14/14 [00:05<00:00,  2.64it/s]\n"
          ]
        },
        {
          "output_type": "stream",
          "name": "stdout",
          "text": [
            "Accuracy: 86.71 - Loss: 0.0057908300511137455 \n",
            "\n"
          ]
        },
        {
          "output_type": "stream",
          "name": "stderr",
          "text": [
            "100%|██████████| 16/16 [00:08<00:00,  1.87it/s]\n",
            "100%|██████████| 14/14 [00:05<00:00,  2.69it/s]\n"
          ]
        },
        {
          "output_type": "stream",
          "name": "stdout",
          "text": [
            "Accuracy: 86.95 - Loss: 0.005611433418924937 \n",
            "\n"
          ]
        },
        {
          "output_type": "stream",
          "name": "stderr",
          "text": [
            "100%|██████████| 16/16 [00:09<00:00,  1.76it/s]\n",
            "100%|██████████| 14/14 [00:04<00:00,  3.10it/s]\n"
          ]
        },
        {
          "output_type": "stream",
          "name": "stdout",
          "text": [
            "Accuracy: 87.01 - Loss: 0.005468962256779928 \n",
            "\n"
          ]
        },
        {
          "output_type": "stream",
          "name": "stderr",
          "text": [
            "100%|██████████| 16/16 [00:09<00:00,  1.70it/s]\n",
            "100%|██████████| 14/14 [00:04<00:00,  3.25it/s]\n"
          ]
        },
        {
          "output_type": "stream",
          "name": "stdout",
          "text": [
            "Accuracy: 87.90 - Loss: 0.005334588260707741 \n",
            "\n"
          ]
        },
        {
          "output_type": "stream",
          "name": "stderr",
          "text": [
            "100%|██████████| 16/16 [00:09<00:00,  1.67it/s]\n",
            "100%|██████████| 14/14 [00:04<00:00,  3.26it/s]\n"
          ]
        },
        {
          "output_type": "stream",
          "name": "stdout",
          "text": [
            "Accuracy: 87.84 - Loss: 0.0053208190167021606 \n",
            "\n"
          ]
        },
        {
          "output_type": "stream",
          "name": "stderr",
          "text": [
            "100%|██████████| 16/16 [00:09<00:00,  1.67it/s]\n",
            "100%|██████████| 14/14 [00:04<00:00,  3.21it/s]\n"
          ]
        },
        {
          "output_type": "stream",
          "name": "stdout",
          "text": [
            "Accuracy: 88.20 - Loss: 0.005285689823641748 \n",
            "\n"
          ]
        },
        {
          "output_type": "stream",
          "name": "stderr",
          "text": [
            "100%|██████████| 16/16 [00:09<00:00,  1.68it/s]\n",
            "100%|██████████| 14/14 [00:04<00:00,  3.25it/s]\n"
          ]
        },
        {
          "output_type": "stream",
          "name": "stdout",
          "text": [
            "Accuracy: 87.96 - Loss: 0.005247251966042433 \n",
            "\n"
          ]
        },
        {
          "output_type": "stream",
          "name": "stderr",
          "text": [
            "100%|██████████| 16/16 [00:09<00:00,  1.67it/s]\n",
            "100%|██████████| 14/14 [00:04<00:00,  3.29it/s]\n"
          ]
        },
        {
          "output_type": "stream",
          "name": "stdout",
          "text": [
            "Accuracy: 88.02 - Loss: 0.005244445372484401 \n",
            "\n"
          ]
        },
        {
          "output_type": "stream",
          "name": "stderr",
          "text": [
            "100%|██████████| 16/16 [00:09<00:00,  1.67it/s]\n",
            "100%|██████████| 14/14 [00:04<00:00,  3.13it/s]\n"
          ]
        },
        {
          "output_type": "stream",
          "name": "stdout",
          "text": [
            "Accuracy: 87.96 - Loss: 0.005245140212738585 \n",
            "\n"
          ]
        },
        {
          "output_type": "stream",
          "name": "stderr",
          "text": [
            "100%|██████████| 16/16 [00:09<00:00,  1.72it/s]\n",
            "100%|██████████| 14/14 [00:05<00:00,  2.74it/s]\n"
          ]
        },
        {
          "output_type": "stream",
          "name": "stdout",
          "text": [
            "Accuracy: 87.90 - Loss: 0.0052378538126003245 \n",
            "\n"
          ]
        }
      ],
      "source": [
        "warnings.filterwarnings('ignore', category=UserWarning)\n",
        "\n",
        "# Parse arguments\n",
        "conf = { # Art Painting -> Photo\n",
        "    'seed': 0,\n",
        "    'test_only': False,\n",
        "    'cpu': False,\n",
        "    'experiment': 'random',\n",
        "    'experiment_name': '2_1_9',\n",
        "    'experiment_args': {'module_placement': ['layer4.1.conv2'], 'mask_out_ratio': 0.75},\n",
        "    'dataset_args': {'text_root': 'data', 'images_root': 'data/kfold/PACS', 'source_domain': 'art_painting', 'target_domain': 'photo' },\n",
        "    'batch_size': 128,\n",
        "    'epochs': 30,\n",
        "    'num_workers': 5,\n",
        "    'grad_accum_steps': 1\n",
        "}\n",
        "\n",
        "#args = parse_arguments()\n",
        "args = argparse.Namespace(**conf)\n",
        "print(args)\n",
        "CONFIG.update(vars(args))\n",
        "\n",
        "# Setup output directory\n",
        "CONFIG.save_dir = os.path.join('record', CONFIG.experiment_name)\n",
        "os.makedirs(CONFIG.save_dir, exist_ok=True)\n",
        "\n",
        "# Setup logging\n",
        "logging.basicConfig(\n",
        "    filename=os.path.join(CONFIG.save_dir, 'log.txt'),\n",
        "    format='%(message)s',\n",
        "    level=logging.INFO,\n",
        "    filemode='a'\n",
        ")\n",
        "\n",
        "# Set experiment's device & deterministic behavior\n",
        "if CONFIG.cpu:\n",
        "    CONFIG.device = 'cpu'\n",
        "else:\n",
        "    CONFIG.device = 'cuda' if torch.cuda.is_available() else 'cpu'\n",
        "\n",
        "torch.manual_seed(CONFIG.seed)\n",
        "random.seed(CONFIG.seed)\n",
        "np.random.seed(CONFIG.seed)\n",
        "torch.backends.cudnn.benchmark = True\n",
        "torch.use_deterministic_algorithms(mode=True, warn_only=True)\n",
        "\n",
        "main()"
      ]
    },
    {
      "cell_type": "markdown",
      "metadata": {
        "id": "tonxAHmrrl_Q"
      },
      "source": [
        "### 2.2 - ASH module after every convolutional layer"
      ]
    },
    {
      "cell_type": "markdown",
      "metadata": {
        "id": "H3c-0UWHrl_Q"
      },
      "source": [
        "#### 2.2.1 - Art Painting &rightarrow; Cartoon, mor = 0.4"
      ]
    },
    {
      "cell_type": "code",
      "execution_count": 36,
      "metadata": {
        "colab": {
          "base_uri": "https://localhost:8080/"
        },
        "id": "Vd2jdcSnrl_Q",
        "outputId": "df118e86-8c62-4e96-dd14-3e6c980e92ed"
      },
      "outputs": [
        {
          "output_type": "stream",
          "name": "stdout",
          "text": [
            "Namespace(seed=0, test_only=False, cpu=False, experiment='random', experiment_name='2_2_1', experiment_args={'module_placement': ['layer1.0.conv1', 'layer1.0.conv2', 'layer1.1.conv1', 'layer1.1.conv2', 'layer2.0.conv1', 'layer2.0.conv2', 'layer2.1.conv1', 'layer2.1.conv2', 'layer3.0.conv1', 'layer3.0.conv2', 'layer3.1.conv1', 'layer3.1.conv2', 'layer4.0.conv1', 'layer4.0.conv2', 'layer4.1.conv1', 'layer4.1.conv2'], 'mask_out_ratio': 0.4}, dataset_args={'text_root': 'data', 'images_root': 'data/kfold/PACS', 'source_domain': 'art_painting', 'target_domain': 'cartoon'}, batch_size=128, epochs=30, num_workers=5, grad_accum_steps=1)\n",
            "mask_out_ratio:  0.4\n",
            "layer_name layer1.0.conv1 random_mask sum():  tensor(120682., device='cuda:0')\n",
            "Insert activation shaping layer after  layer1.0.conv1 Conv2d(64, 64, kernel_size=(3, 3), stride=(1, 1), padding=(1, 1), bias=False)\n",
            "mask_out_ratio:  0.4\n",
            "layer_name layer1.0.conv2 random_mask sum():  tensor(120163., device='cuda:0')\n",
            "Insert activation shaping layer after  layer1.0.conv2 Conv2d(64, 64, kernel_size=(3, 3), stride=(1, 1), padding=(1, 1), bias=False)\n",
            "mask_out_ratio:  0.4\n",
            "layer_name layer1.1.conv1 random_mask sum():  tensor(120504., device='cuda:0')\n",
            "Insert activation shaping layer after  layer1.1.conv1 Conv2d(64, 64, kernel_size=(3, 3), stride=(1, 1), padding=(1, 1), bias=False)\n",
            "mask_out_ratio:  0.4\n",
            "layer_name layer1.1.conv2 random_mask sum():  tensor(120167., device='cuda:0')\n",
            "Insert activation shaping layer after  layer1.1.conv2 Conv2d(64, 64, kernel_size=(3, 3), stride=(1, 1), padding=(1, 1), bias=False)\n",
            "mask_out_ratio:  0.4\n",
            "layer_name layer2.0.conv1 random_mask sum():  tensor(60253., device='cuda:0')\n",
            "Insert activation shaping layer after  layer2.0.conv1 Conv2d(64, 128, kernel_size=(3, 3), stride=(2, 2), padding=(1, 1), bias=False)\n",
            "mask_out_ratio:  0.4\n",
            "layer_name layer2.0.conv2 random_mask sum():  tensor(59880., device='cuda:0')\n",
            "Insert activation shaping layer after  layer2.0.conv2 Conv2d(128, 128, kernel_size=(3, 3), stride=(1, 1), padding=(1, 1), bias=False)\n",
            "mask_out_ratio:  0.4\n",
            "layer_name layer2.1.conv1 random_mask sum():  tensor(60357., device='cuda:0')\n",
            "Insert activation shaping layer after  layer2.1.conv1 Conv2d(128, 128, kernel_size=(3, 3), stride=(1, 1), padding=(1, 1), bias=False)\n",
            "mask_out_ratio:  0.4\n",
            "layer_name layer2.1.conv2 random_mask sum():  tensor(60260., device='cuda:0')\n",
            "Insert activation shaping layer after  layer2.1.conv2 Conv2d(128, 128, kernel_size=(3, 3), stride=(1, 1), padding=(1, 1), bias=False)\n",
            "mask_out_ratio:  0.4\n",
            "layer_name layer3.0.conv1 random_mask sum():  tensor(30067., device='cuda:0')\n",
            "Insert activation shaping layer after  layer3.0.conv1 Conv2d(128, 256, kernel_size=(3, 3), stride=(2, 2), padding=(1, 1), bias=False)\n",
            "mask_out_ratio:  0.4\n",
            "layer_name layer3.0.conv2 random_mask sum():  tensor(30219., device='cuda:0')\n",
            "Insert activation shaping layer after  layer3.0.conv2 Conv2d(256, 256, kernel_size=(3, 3), stride=(1, 1), padding=(1, 1), bias=False)\n",
            "mask_out_ratio:  0.4\n",
            "layer_name layer3.1.conv1 random_mask sum():  tensor(30070., device='cuda:0')\n",
            "Insert activation shaping layer after  layer3.1.conv1 Conv2d(256, 256, kernel_size=(3, 3), stride=(1, 1), padding=(1, 1), bias=False)\n",
            "mask_out_ratio:  0.4\n",
            "layer_name layer3.1.conv2 random_mask sum():  tensor(30148., device='cuda:0')\n",
            "Insert activation shaping layer after  layer3.1.conv2 Conv2d(256, 256, kernel_size=(3, 3), stride=(1, 1), padding=(1, 1), bias=False)\n",
            "mask_out_ratio:  0.4\n",
            "layer_name layer4.0.conv1 random_mask sum():  tensor(15126., device='cuda:0')\n",
            "Insert activation shaping layer after  layer4.0.conv1 Conv2d(256, 512, kernel_size=(3, 3), stride=(2, 2), padding=(1, 1), bias=False)\n",
            "mask_out_ratio:  0.4\n",
            "layer_name layer4.0.conv2 random_mask sum():  tensor(15056., device='cuda:0')\n",
            "Insert activation shaping layer after  layer4.0.conv2 Conv2d(512, 512, kernel_size=(3, 3), stride=(1, 1), padding=(1, 1), bias=False)\n",
            "mask_out_ratio:  0.4\n",
            "layer_name layer4.1.conv1 random_mask sum():  tensor(15106., device='cuda:0')\n",
            "Insert activation shaping layer after  layer4.1.conv1 Conv2d(512, 512, kernel_size=(3, 3), stride=(1, 1), padding=(1, 1), bias=False)\n",
            "mask_out_ratio:  0.4\n",
            "layer_name layer4.1.conv2 random_mask sum():  tensor(15025., device='cuda:0')\n",
            "Insert activation shaping layer after  layer4.1.conv2 Conv2d(512, 512, kernel_size=(3, 3), stride=(1, 1), padding=(1, 1), bias=False)\n"
          ]
        },
        {
          "output_type": "stream",
          "name": "stderr",
          "text": [
            "100%|██████████| 16/16 [00:08<00:00,  1.80it/s]\n",
            "100%|██████████| 19/19 [00:08<00:00,  2.31it/s]\n"
          ]
        },
        {
          "output_type": "stream",
          "name": "stdout",
          "text": [
            "Accuracy: 14.12 - Loss: 0.015764463629332013 \n",
            "\n"
          ]
        },
        {
          "output_type": "stream",
          "name": "stderr",
          "text": [
            "100%|██████████| 16/16 [00:09<00:00,  1.66it/s]\n",
            "100%|██████████| 19/19 [00:06<00:00,  2.98it/s]\n"
          ]
        },
        {
          "output_type": "stream",
          "name": "stdout",
          "text": [
            "Accuracy: 16.04 - Loss: 0.015931428241648365 \n",
            "\n"
          ]
        },
        {
          "output_type": "stream",
          "name": "stderr",
          "text": [
            "100%|██████████| 16/16 [00:09<00:00,  1.65it/s]\n",
            "100%|██████████| 19/19 [00:07<00:00,  2.66it/s]\n"
          ]
        },
        {
          "output_type": "stream",
          "name": "stdout",
          "text": [
            "Accuracy: 16.94 - Loss: 0.015638848773041683 \n",
            "\n"
          ]
        },
        {
          "output_type": "stream",
          "name": "stderr",
          "text": [
            "100%|██████████| 16/16 [00:08<00:00,  1.86it/s]\n",
            "100%|██████████| 19/19 [00:07<00:00,  2.58it/s]\n"
          ]
        },
        {
          "output_type": "stream",
          "name": "stdout",
          "text": [
            "Accuracy: 17.36 - Loss: 0.015773200998940973 \n",
            "\n"
          ]
        },
        {
          "output_type": "stream",
          "name": "stderr",
          "text": [
            "100%|██████████| 16/16 [00:09<00:00,  1.75it/s]\n",
            "100%|██████████| 19/19 [00:06<00:00,  2.90it/s]\n"
          ]
        },
        {
          "output_type": "stream",
          "name": "stdout",
          "text": [
            "Accuracy: 17.28 - Loss: 0.015754581870886245 \n",
            "\n"
          ]
        },
        {
          "output_type": "stream",
          "name": "stderr",
          "text": [
            "100%|██████████| 16/16 [00:09<00:00,  1.69it/s]\n",
            "100%|██████████| 19/19 [00:06<00:00,  3.08it/s]\n"
          ]
        },
        {
          "output_type": "stream",
          "name": "stdout",
          "text": [
            "Accuracy: 16.94 - Loss: 0.015643405578649086 \n",
            "\n"
          ]
        },
        {
          "output_type": "stream",
          "name": "stderr",
          "text": [
            "100%|██████████| 16/16 [00:09<00:00,  1.64it/s]\n",
            "100%|██████████| 19/19 [00:07<00:00,  2.67it/s]\n"
          ]
        },
        {
          "output_type": "stream",
          "name": "stdout",
          "text": [
            "Accuracy: 16.25 - Loss: 0.01572057055531915 \n",
            "\n"
          ]
        },
        {
          "output_type": "stream",
          "name": "stderr",
          "text": [
            "100%|██████████| 16/16 [00:08<00:00,  1.90it/s]\n",
            "100%|██████████| 19/19 [00:07<00:00,  2.57it/s]\n"
          ]
        },
        {
          "output_type": "stream",
          "name": "stdout",
          "text": [
            "Accuracy: 16.77 - Loss: 0.015704106145344496 \n",
            "\n"
          ]
        },
        {
          "output_type": "stream",
          "name": "stderr",
          "text": [
            "100%|██████████| 16/16 [00:09<00:00,  1.68it/s]\n",
            "100%|██████████| 19/19 [00:06<00:00,  3.05it/s]\n"
          ]
        },
        {
          "output_type": "stream",
          "name": "stdout",
          "text": [
            "Accuracy: 16.47 - Loss: 0.01563199403546369 \n",
            "\n"
          ]
        },
        {
          "output_type": "stream",
          "name": "stderr",
          "text": [
            "100%|██████████| 16/16 [00:09<00:00,  1.67it/s]\n",
            "100%|██████████| 19/19 [00:06<00:00,  3.06it/s]\n"
          ]
        },
        {
          "output_type": "stream",
          "name": "stdout",
          "text": [
            "Accuracy: 17.49 - Loss: 0.015645599355062934 \n",
            "\n"
          ]
        },
        {
          "output_type": "stream",
          "name": "stderr",
          "text": [
            "100%|██████████| 16/16 [00:09<00:00,  1.63it/s]\n",
            "100%|██████████| 19/19 [00:07<00:00,  2.61it/s]\n"
          ]
        },
        {
          "output_type": "stream",
          "name": "stdout",
          "text": [
            "Accuracy: 16.60 - Loss: 0.01578181727754378 \n",
            "\n"
          ]
        },
        {
          "output_type": "stream",
          "name": "stderr",
          "text": [
            "100%|██████████| 16/16 [00:08<00:00,  1.87it/s]\n",
            "100%|██████████| 19/19 [00:07<00:00,  2.59it/s]\n"
          ]
        },
        {
          "output_type": "stream",
          "name": "stdout",
          "text": [
            "Accuracy: 17.92 - Loss: 0.01567434176243206 \n",
            "\n"
          ]
        },
        {
          "output_type": "stream",
          "name": "stderr",
          "text": [
            "100%|██████████| 16/16 [00:09<00:00,  1.63it/s]\n",
            "100%|██████████| 19/19 [00:06<00:00,  3.03it/s]\n"
          ]
        },
        {
          "output_type": "stream",
          "name": "stdout",
          "text": [
            "Accuracy: 16.51 - Loss: 0.015673524792283875 \n",
            "\n"
          ]
        },
        {
          "output_type": "stream",
          "name": "stderr",
          "text": [
            "100%|██████████| 16/16 [00:09<00:00,  1.63it/s]\n",
            "100%|██████████| 19/19 [00:06<00:00,  2.98it/s]\n"
          ]
        },
        {
          "output_type": "stream",
          "name": "stdout",
          "text": [
            "Accuracy: 16.81 - Loss: 0.01576867150365289 \n",
            "\n"
          ]
        },
        {
          "output_type": "stream",
          "name": "stderr",
          "text": [
            "100%|██████████| 16/16 [00:09<00:00,  1.69it/s]\n",
            "100%|██████████| 19/19 [00:07<00:00,  2.61it/s]\n"
          ]
        },
        {
          "output_type": "stream",
          "name": "stdout",
          "text": [
            "Accuracy: 16.64 - Loss: 0.01565357183230208 \n",
            "\n"
          ]
        },
        {
          "output_type": "stream",
          "name": "stderr",
          "text": [
            "100%|██████████| 16/16 [00:08<00:00,  1.86it/s]\n",
            "100%|██████████| 19/19 [00:07<00:00,  2.66it/s]\n"
          ]
        },
        {
          "output_type": "stream",
          "name": "stdout",
          "text": [
            "Accuracy: 17.06 - Loss: 0.015709522895438678 \n",
            "\n"
          ]
        },
        {
          "output_type": "stream",
          "name": "stderr",
          "text": [
            "100%|██████████| 16/16 [00:09<00:00,  1.65it/s]\n",
            "100%|██████████| 19/19 [00:06<00:00,  3.04it/s]\n"
          ]
        },
        {
          "output_type": "stream",
          "name": "stdout",
          "text": [
            "Accuracy: 15.96 - Loss: 0.01569119543345715 \n",
            "\n"
          ]
        },
        {
          "output_type": "stream",
          "name": "stderr",
          "text": [
            "100%|██████████| 16/16 [00:09<00:00,  1.66it/s]\n",
            "100%|██████████| 19/19 [00:07<00:00,  2.70it/s]\n"
          ]
        },
        {
          "output_type": "stream",
          "name": "stdout",
          "text": [
            "Accuracy: 16.72 - Loss: 0.01565777711290548 \n",
            "\n"
          ]
        },
        {
          "output_type": "stream",
          "name": "stderr",
          "text": [
            "100%|██████████| 16/16 [00:08<00:00,  1.84it/s]\n",
            "100%|██████████| 19/19 [00:07<00:00,  2.58it/s]\n"
          ]
        },
        {
          "output_type": "stream",
          "name": "stdout",
          "text": [
            "Accuracy: 16.81 - Loss: 0.015652731416982188 \n",
            "\n"
          ]
        },
        {
          "output_type": "stream",
          "name": "stderr",
          "text": [
            "100%|██████████| 16/16 [00:09<00:00,  1.69it/s]\n",
            "100%|██████████| 19/19 [00:06<00:00,  2.98it/s]\n"
          ]
        },
        {
          "output_type": "stream",
          "name": "stdout",
          "text": [
            "Accuracy: 16.94 - Loss: 0.015708444214111304 \n",
            "\n"
          ]
        },
        {
          "output_type": "stream",
          "name": "stderr",
          "text": [
            "100%|██████████| 16/16 [00:11<00:00,  1.39it/s]\n",
            "100%|██████████| 19/19 [00:06<00:00,  3.03it/s]\n"
          ]
        },
        {
          "output_type": "stream",
          "name": "stdout",
          "text": [
            "Accuracy: 16.38 - Loss: 0.01553330730659563 \n",
            "\n"
          ]
        },
        {
          "output_type": "stream",
          "name": "stderr",
          "text": [
            "100%|██████████| 16/16 [00:09<00:00,  1.61it/s]\n",
            "100%|██████████| 19/19 [00:07<00:00,  2.57it/s]\n"
          ]
        },
        {
          "output_type": "stream",
          "name": "stdout",
          "text": [
            "Accuracy: 16.17 - Loss: 0.01572983389014677 \n",
            "\n"
          ]
        },
        {
          "output_type": "stream",
          "name": "stderr",
          "text": [
            "100%|██████████| 16/16 [00:08<00:00,  1.85it/s]\n",
            "100%|██████████| 19/19 [00:07<00:00,  2.68it/s]\n"
          ]
        },
        {
          "output_type": "stream",
          "name": "stdout",
          "text": [
            "Accuracy: 17.06 - Loss: 0.015685869819475114 \n",
            "\n"
          ]
        },
        {
          "output_type": "stream",
          "name": "stderr",
          "text": [
            "100%|██████████| 16/16 [00:09<00:00,  1.64it/s]\n",
            "100%|██████████| 19/19 [00:06<00:00,  3.10it/s]\n"
          ]
        },
        {
          "output_type": "stream",
          "name": "stdout",
          "text": [
            "Accuracy: 17.45 - Loss: 0.015751337435465217 \n",
            "\n"
          ]
        },
        {
          "output_type": "stream",
          "name": "stderr",
          "text": [
            "100%|██████████| 16/16 [00:09<00:00,  1.65it/s]\n",
            "100%|██████████| 19/19 [00:06<00:00,  2.87it/s]\n"
          ]
        },
        {
          "output_type": "stream",
          "name": "stdout",
          "text": [
            "Accuracy: 17.70 - Loss: 0.015639172987726362 \n",
            "\n"
          ]
        },
        {
          "output_type": "stream",
          "name": "stderr",
          "text": [
            "100%|██████████| 16/16 [00:09<00:00,  1.76it/s]\n",
            "100%|██████████| 19/19 [00:07<00:00,  2.64it/s]\n"
          ]
        },
        {
          "output_type": "stream",
          "name": "stdout",
          "text": [
            "Accuracy: 18.22 - Loss: 0.01561998425897071 \n",
            "\n"
          ]
        },
        {
          "output_type": "stream",
          "name": "stderr",
          "text": [
            "100%|██████████| 16/16 [00:08<00:00,  1.84it/s]\n",
            "100%|██████████| 19/19 [00:07<00:00,  2.69it/s]\n"
          ]
        },
        {
          "output_type": "stream",
          "name": "stdout",
          "text": [
            "Accuracy: 16.89 - Loss: 0.015588673817012904 \n",
            "\n"
          ]
        },
        {
          "output_type": "stream",
          "name": "stderr",
          "text": [
            "100%|██████████| 16/16 [00:09<00:00,  1.66it/s]\n",
            "100%|██████████| 19/19 [00:06<00:00,  3.04it/s]\n"
          ]
        },
        {
          "output_type": "stream",
          "name": "stdout",
          "text": [
            "Accuracy: 17.02 - Loss: 0.015621497108260926 \n",
            "\n"
          ]
        },
        {
          "output_type": "stream",
          "name": "stderr",
          "text": [
            "100%|██████████| 16/16 [00:09<00:00,  1.64it/s]\n",
            "100%|██████████| 19/19 [00:06<00:00,  2.79it/s]\n"
          ]
        },
        {
          "output_type": "stream",
          "name": "stdout",
          "text": [
            "Accuracy: 16.51 - Loss: 0.015558242797851562 \n",
            "\n"
          ]
        },
        {
          "output_type": "stream",
          "name": "stderr",
          "text": [
            "100%|██████████| 16/16 [00:08<00:00,  1.83it/s]\n",
            "100%|██████████| 19/19 [00:07<00:00,  2.59it/s]\n"
          ]
        },
        {
          "output_type": "stream",
          "name": "stdout",
          "text": [
            "Accuracy: 16.13 - Loss: 0.015599847094190813 \n",
            "\n"
          ]
        }
      ],
      "source": [
        "warnings.filterwarnings('ignore', category=UserWarning)\n",
        "\n",
        "# Parse arguments\n",
        "conf = { # Art Painting -> Cartoon\n",
        "    'seed': 0,\n",
        "    'test_only': False,\n",
        "    'cpu': False,\n",
        "    'experiment': 'random',\n",
        "    'experiment_name': '2_2_1',\n",
        "    'experiment_args': {'module_placement': ['layer1.0.conv1', 'layer1.0.conv2', 'layer1.1.conv1', 'layer1.1.conv2', 'layer2.0.conv1', 'layer2.0.conv2', 'layer2.1.conv1', 'layer2.1.conv2', 'layer3.0.conv1', 'layer3.0.conv2', 'layer3.1.conv1', 'layer3.1.conv2', 'layer4.0.conv1', 'layer4.0.conv2', 'layer4.1.conv1', 'layer4.1.conv2'], 'mask_out_ratio': 0.4},\n",
        "    'dataset_args': {'text_root': 'data', 'images_root': 'data/kfold/PACS', 'source_domain': 'art_painting', 'target_domain': 'cartoon' },\n",
        "    'batch_size': 128,\n",
        "    'epochs': 30,\n",
        "    'num_workers': 5,\n",
        "    'grad_accum_steps': 1\n",
        "}\n",
        "\n",
        "#args = parse_arguments()\n",
        "args = argparse.Namespace(**conf)\n",
        "print(args)\n",
        "CONFIG.update(vars(args))\n",
        "\n",
        "# Setup output directory\n",
        "CONFIG.save_dir = os.path.join('record', CONFIG.experiment_name)\n",
        "os.makedirs(CONFIG.save_dir, exist_ok=True)\n",
        "\n",
        "# Setup logging\n",
        "logging.basicConfig(\n",
        "    filename=os.path.join(CONFIG.save_dir, 'log.txt'),\n",
        "    format='%(message)s',\n",
        "    level=logging.INFO,\n",
        "    filemode='a'\n",
        ")\n",
        "\n",
        "# Set experiment's device & deterministic behavior\n",
        "if CONFIG.cpu:\n",
        "    CONFIG.device = 'cpu'\n",
        "else:\n",
        "    CONFIG.device = 'cuda' if torch.cuda.is_available() else 'cpu'\n",
        "\n",
        "torch.manual_seed(CONFIG.seed)\n",
        "random.seed(CONFIG.seed)\n",
        "np.random.seed(CONFIG.seed)\n",
        "torch.backends.cudnn.benchmark = True\n",
        "torch.use_deterministic_algorithms(mode=True, warn_only=True)\n",
        "\n",
        "main()"
      ]
    },
    {
      "cell_type": "markdown",
      "metadata": {
        "id": "sUDwCbIArl_R"
      },
      "source": [
        "#### 2.2.2 - Art Painting &rightarrow; Sketch, mor = 0.4"
      ]
    },
    {
      "cell_type": "code",
      "execution_count": 37,
      "metadata": {
        "colab": {
          "base_uri": "https://localhost:8080/"
        },
        "id": "rbvCgdJ9rl_R",
        "outputId": "b8abac71-91ba-47ac-e94b-4dfab4cefb2c"
      },
      "outputs": [
        {
          "output_type": "stream",
          "name": "stdout",
          "text": [
            "Namespace(seed=0, test_only=False, cpu=False, experiment='random', experiment_name='2_2_2', experiment_args={'module_placement': ['layer1.0.conv1', 'layer1.0.conv2', 'layer1.1.conv1', 'layer1.1.conv2', 'layer2.0.conv1', 'layer2.0.conv2', 'layer2.1.conv1', 'layer2.1.conv2', 'layer3.0.conv1', 'layer3.0.conv2', 'layer3.1.conv1', 'layer3.1.conv2', 'layer4.0.conv1', 'layer4.0.conv2', 'layer4.1.conv1', 'layer4.1.conv2'], 'mask_out_ratio': 0.4}, dataset_args={'text_root': 'data', 'images_root': 'data/kfold/PACS', 'source_domain': 'art_painting', 'target_domain': 'sketch'}, batch_size=128, epochs=30, num_workers=5, grad_accum_steps=1)\n",
            "mask_out_ratio:  0.4\n",
            "layer_name layer1.0.conv1 random_mask sum():  tensor(120682., device='cuda:0')\n",
            "Insert activation shaping layer after  layer1.0.conv1 Conv2d(64, 64, kernel_size=(3, 3), stride=(1, 1), padding=(1, 1), bias=False)\n",
            "mask_out_ratio:  0.4\n",
            "layer_name layer1.0.conv2 random_mask sum():  tensor(120163., device='cuda:0')\n",
            "Insert activation shaping layer after  layer1.0.conv2 Conv2d(64, 64, kernel_size=(3, 3), stride=(1, 1), padding=(1, 1), bias=False)\n",
            "mask_out_ratio:  0.4\n",
            "layer_name layer1.1.conv1 random_mask sum():  tensor(120504., device='cuda:0')\n",
            "Insert activation shaping layer after  layer1.1.conv1 Conv2d(64, 64, kernel_size=(3, 3), stride=(1, 1), padding=(1, 1), bias=False)\n",
            "mask_out_ratio:  0.4\n",
            "layer_name layer1.1.conv2 random_mask sum():  tensor(120167., device='cuda:0')\n",
            "Insert activation shaping layer after  layer1.1.conv2 Conv2d(64, 64, kernel_size=(3, 3), stride=(1, 1), padding=(1, 1), bias=False)\n",
            "mask_out_ratio:  0.4\n",
            "layer_name layer2.0.conv1 random_mask sum():  tensor(60253., device='cuda:0')\n",
            "Insert activation shaping layer after  layer2.0.conv1 Conv2d(64, 128, kernel_size=(3, 3), stride=(2, 2), padding=(1, 1), bias=False)\n",
            "mask_out_ratio:  0.4\n",
            "layer_name layer2.0.conv2 random_mask sum():  tensor(59880., device='cuda:0')\n",
            "Insert activation shaping layer after  layer2.0.conv2 Conv2d(128, 128, kernel_size=(3, 3), stride=(1, 1), padding=(1, 1), bias=False)\n",
            "mask_out_ratio:  0.4\n",
            "layer_name layer2.1.conv1 random_mask sum():  tensor(60357., device='cuda:0')\n",
            "Insert activation shaping layer after  layer2.1.conv1 Conv2d(128, 128, kernel_size=(3, 3), stride=(1, 1), padding=(1, 1), bias=False)\n",
            "mask_out_ratio:  0.4\n",
            "layer_name layer2.1.conv2 random_mask sum():  tensor(60260., device='cuda:0')\n",
            "Insert activation shaping layer after  layer2.1.conv2 Conv2d(128, 128, kernel_size=(3, 3), stride=(1, 1), padding=(1, 1), bias=False)\n",
            "mask_out_ratio:  0.4\n",
            "layer_name layer3.0.conv1 random_mask sum():  tensor(30067., device='cuda:0')\n",
            "Insert activation shaping layer after  layer3.0.conv1 Conv2d(128, 256, kernel_size=(3, 3), stride=(2, 2), padding=(1, 1), bias=False)\n",
            "mask_out_ratio:  0.4\n",
            "layer_name layer3.0.conv2 random_mask sum():  tensor(30219., device='cuda:0')\n",
            "Insert activation shaping layer after  layer3.0.conv2 Conv2d(256, 256, kernel_size=(3, 3), stride=(1, 1), padding=(1, 1), bias=False)\n",
            "mask_out_ratio:  0.4\n",
            "layer_name layer3.1.conv1 random_mask sum():  tensor(30070., device='cuda:0')\n",
            "Insert activation shaping layer after  layer3.1.conv1 Conv2d(256, 256, kernel_size=(3, 3), stride=(1, 1), padding=(1, 1), bias=False)\n",
            "mask_out_ratio:  0.4\n",
            "layer_name layer3.1.conv2 random_mask sum():  tensor(30148., device='cuda:0')\n",
            "Insert activation shaping layer after  layer3.1.conv2 Conv2d(256, 256, kernel_size=(3, 3), stride=(1, 1), padding=(1, 1), bias=False)\n",
            "mask_out_ratio:  0.4\n",
            "layer_name layer4.0.conv1 random_mask sum():  tensor(15126., device='cuda:0')\n",
            "Insert activation shaping layer after  layer4.0.conv1 Conv2d(256, 512, kernel_size=(3, 3), stride=(2, 2), padding=(1, 1), bias=False)\n",
            "mask_out_ratio:  0.4\n",
            "layer_name layer4.0.conv2 random_mask sum():  tensor(15056., device='cuda:0')\n",
            "Insert activation shaping layer after  layer4.0.conv2 Conv2d(512, 512, kernel_size=(3, 3), stride=(1, 1), padding=(1, 1), bias=False)\n",
            "mask_out_ratio:  0.4\n",
            "layer_name layer4.1.conv1 random_mask sum():  tensor(15106., device='cuda:0')\n",
            "Insert activation shaping layer after  layer4.1.conv1 Conv2d(512, 512, kernel_size=(3, 3), stride=(1, 1), padding=(1, 1), bias=False)\n",
            "mask_out_ratio:  0.4\n",
            "layer_name layer4.1.conv2 random_mask sum():  tensor(15025., device='cuda:0')\n",
            "Insert activation shaping layer after  layer4.1.conv2 Conv2d(512, 512, kernel_size=(3, 3), stride=(1, 1), padding=(1, 1), bias=False)\n"
          ]
        },
        {
          "output_type": "stream",
          "name": "stderr",
          "text": [
            "100%|██████████| 16/16 [00:10<00:00,  1.58it/s]\n",
            "100%|██████████| 31/31 [00:11<00:00,  2.64it/s]\n"
          ]
        },
        {
          "output_type": "stream",
          "name": "stdout",
          "text": [
            "Accuracy: 8.98 - Loss: 0.016631291882929288 \n",
            "\n"
          ]
        },
        {
          "output_type": "stream",
          "name": "stderr",
          "text": [
            "100%|██████████| 16/16 [00:08<00:00,  1.83it/s]\n",
            "100%|██████████| 31/31 [00:11<00:00,  2.60it/s]\n"
          ]
        },
        {
          "output_type": "stream",
          "name": "stdout",
          "text": [
            "Accuracy: 9.72 - Loss: 0.016537994487681867 \n",
            "\n"
          ]
        },
        {
          "output_type": "stream",
          "name": "stderr",
          "text": [
            "100%|██████████| 16/16 [00:09<00:00,  1.64it/s]\n",
            "100%|██████████| 31/31 [00:11<00:00,  2.62it/s]\n"
          ]
        },
        {
          "output_type": "stream",
          "name": "stdout",
          "text": [
            "Accuracy: 9.37 - Loss: 0.01609272370055663 \n",
            "\n"
          ]
        },
        {
          "output_type": "stream",
          "name": "stderr",
          "text": [
            "100%|██████████| 16/16 [00:09<00:00,  1.64it/s]\n",
            "100%|██████████| 31/31 [00:10<00:00,  2.83it/s]\n"
          ]
        },
        {
          "output_type": "stream",
          "name": "stdout",
          "text": [
            "Accuracy: 5.47 - Loss: 0.016624356171774726 \n",
            "\n"
          ]
        },
        {
          "output_type": "stream",
          "name": "stderr",
          "text": [
            "100%|██████████| 16/16 [00:09<00:00,  1.75it/s]\n",
            "100%|██████████| 31/31 [00:11<00:00,  2.62it/s]\n"
          ]
        },
        {
          "output_type": "stream",
          "name": "stdout",
          "text": [
            "Accuracy: 8.12 - Loss: 0.016379603298300852 \n",
            "\n"
          ]
        },
        {
          "output_type": "stream",
          "name": "stderr",
          "text": [
            "100%|██████████| 16/16 [00:09<00:00,  1.64it/s]\n",
            "100%|██████████| 31/31 [00:11<00:00,  2.64it/s]\n"
          ]
        },
        {
          "output_type": "stream",
          "name": "stdout",
          "text": [
            "Accuracy: 9.44 - Loss: 0.016092947221767146 \n",
            "\n"
          ]
        },
        {
          "output_type": "stream",
          "name": "stderr",
          "text": [
            "100%|██████████| 16/16 [00:09<00:00,  1.69it/s]\n",
            "100%|██████████| 31/31 [00:11<00:00,  2.82it/s]\n"
          ]
        },
        {
          "output_type": "stream",
          "name": "stdout",
          "text": [
            "Accuracy: 6.06 - Loss: 0.016430740988749103 \n",
            "\n"
          ]
        },
        {
          "output_type": "stream",
          "name": "stderr",
          "text": [
            "100%|██████████| 16/16 [00:09<00:00,  1.64it/s]\n",
            "100%|██████████| 31/31 [00:11<00:00,  2.62it/s]\n"
          ]
        },
        {
          "output_type": "stream",
          "name": "stdout",
          "text": [
            "Accuracy: 9.98 - Loss: 0.01620079798078258 \n",
            "\n"
          ]
        },
        {
          "output_type": "stream",
          "name": "stderr",
          "text": [
            "100%|██████████| 16/16 [00:09<00:00,  1.63it/s]\n",
            "100%|██████████| 31/31 [00:11<00:00,  2.64it/s]\n"
          ]
        },
        {
          "output_type": "stream",
          "name": "stdout",
          "text": [
            "Accuracy: 7.56 - Loss: 0.016302139135862193 \n",
            "\n"
          ]
        },
        {
          "output_type": "stream",
          "name": "stderr",
          "text": [
            "100%|██████████| 16/16 [00:08<00:00,  1.82it/s]\n",
            "100%|██████████| 31/31 [00:11<00:00,  2.69it/s]\n"
          ]
        },
        {
          "output_type": "stream",
          "name": "stdout",
          "text": [
            "Accuracy: 7.92 - Loss: 0.016191200252464025 \n",
            "\n"
          ]
        },
        {
          "output_type": "stream",
          "name": "stderr",
          "text": [
            "100%|██████████| 16/16 [00:09<00:00,  1.62it/s]\n",
            "100%|██████████| 31/31 [00:11<00:00,  2.62it/s]\n"
          ]
        },
        {
          "output_type": "stream",
          "name": "stdout",
          "text": [
            "Accuracy: 5.85 - Loss: 0.01651645683702181 \n",
            "\n"
          ]
        },
        {
          "output_type": "stream",
          "name": "stderr",
          "text": [
            "100%|██████████| 16/16 [00:09<00:00,  1.64it/s]\n",
            "100%|██████████| 31/31 [00:11<00:00,  2.61it/s]\n"
          ]
        },
        {
          "output_type": "stream",
          "name": "stdout",
          "text": [
            "Accuracy: 7.51 - Loss: 0.016435324978846633 \n",
            "\n"
          ]
        },
        {
          "output_type": "stream",
          "name": "stderr",
          "text": [
            "100%|██████████| 16/16 [00:08<00:00,  1.84it/s]\n",
            "100%|██████████| 31/31 [00:11<00:00,  2.64it/s]\n"
          ]
        },
        {
          "output_type": "stream",
          "name": "stdout",
          "text": [
            "Accuracy: 9.32 - Loss: 0.016315248365103667 \n",
            "\n"
          ]
        },
        {
          "output_type": "stream",
          "name": "stderr",
          "text": [
            "100%|██████████| 16/16 [00:09<00:00,  1.62it/s]\n",
            "100%|██████████| 31/31 [00:11<00:00,  2.63it/s]\n"
          ]
        },
        {
          "output_type": "stream",
          "name": "stdout",
          "text": [
            "Accuracy: 9.60 - Loss: 0.016280428087113618 \n",
            "\n"
          ]
        },
        {
          "output_type": "stream",
          "name": "stderr",
          "text": [
            "100%|██████████| 16/16 [00:09<00:00,  1.64it/s]\n",
            "100%|██████████| 31/31 [00:11<00:00,  2.59it/s]\n"
          ]
        },
        {
          "output_type": "stream",
          "name": "stdout",
          "text": [
            "Accuracy: 9.60 - Loss: 0.01637523676123926 \n",
            "\n"
          ]
        },
        {
          "output_type": "stream",
          "name": "stderr",
          "text": [
            "100%|██████████| 16/16 [00:08<00:00,  1.85it/s]\n",
            "100%|██████████| 31/31 [00:11<00:00,  2.64it/s]\n"
          ]
        },
        {
          "output_type": "stream",
          "name": "stdout",
          "text": [
            "Accuracy: 12.12 - Loss: 0.016099251053903085 \n",
            "\n"
          ]
        },
        {
          "output_type": "stream",
          "name": "stderr",
          "text": [
            "100%|██████████| 16/16 [00:09<00:00,  1.62it/s]\n",
            "100%|██████████| 31/31 [00:11<00:00,  2.63it/s]\n"
          ]
        },
        {
          "output_type": "stream",
          "name": "stdout",
          "text": [
            "Accuracy: 9.80 - Loss: 0.01618303449198198 \n",
            "\n"
          ]
        },
        {
          "output_type": "stream",
          "name": "stderr",
          "text": [
            "100%|██████████| 16/16 [00:09<00:00,  1.66it/s]\n",
            "100%|██████████| 31/31 [00:11<00:00,  2.65it/s]\n"
          ]
        },
        {
          "output_type": "stream",
          "name": "stdout",
          "text": [
            "Accuracy: 8.25 - Loss: 0.0164079301743812 \n",
            "\n"
          ]
        },
        {
          "output_type": "stream",
          "name": "stderr",
          "text": [
            "100%|██████████| 16/16 [00:08<00:00,  1.86it/s]\n",
            "100%|██████████| 31/31 [00:11<00:00,  2.62it/s]\n"
          ]
        },
        {
          "output_type": "stream",
          "name": "stdout",
          "text": [
            "Accuracy: 7.99 - Loss: 0.016184039745782284 \n",
            "\n"
          ]
        },
        {
          "output_type": "stream",
          "name": "stderr",
          "text": [
            "100%|██████████| 16/16 [00:09<00:00,  1.64it/s]\n",
            "100%|██████████| 31/31 [00:13<00:00,  2.30it/s]\n"
          ]
        },
        {
          "output_type": "stream",
          "name": "stdout",
          "text": [
            "Accuracy: 8.63 - Loss: 0.016340390602484645 \n",
            "\n"
          ]
        },
        {
          "output_type": "stream",
          "name": "stderr",
          "text": [
            "100%|██████████| 16/16 [00:09<00:00,  1.63it/s]\n",
            "100%|██████████| 31/31 [00:11<00:00,  2.64it/s]\n"
          ]
        },
        {
          "output_type": "stream",
          "name": "stdout",
          "text": [
            "Accuracy: 11.76 - Loss: 0.01609714121028466 \n",
            "\n"
          ]
        },
        {
          "output_type": "stream",
          "name": "stderr",
          "text": [
            "100%|██████████| 16/16 [00:08<00:00,  1.87it/s]\n",
            "100%|██████████| 31/31 [00:11<00:00,  2.62it/s]\n"
          ]
        },
        {
          "output_type": "stream",
          "name": "stdout",
          "text": [
            "Accuracy: 7.48 - Loss: 0.016101696588939066 \n",
            "\n"
          ]
        },
        {
          "output_type": "stream",
          "name": "stderr",
          "text": [
            "100%|██████████| 16/16 [00:09<00:00,  1.64it/s]\n",
            "100%|██████████| 31/31 [00:12<00:00,  2.57it/s]\n"
          ]
        },
        {
          "output_type": "stream",
          "name": "stdout",
          "text": [
            "Accuracy: 12.93 - Loss: 0.015965234417137403 \n",
            "\n"
          ]
        },
        {
          "output_type": "stream",
          "name": "stderr",
          "text": [
            "100%|██████████| 16/16 [00:09<00:00,  1.62it/s]\n",
            "100%|██████████| 31/31 [00:11<00:00,  2.60it/s]\n"
          ]
        },
        {
          "output_type": "stream",
          "name": "stdout",
          "text": [
            "Accuracy: 6.54 - Loss: 0.016613323957327213 \n",
            "\n"
          ]
        },
        {
          "output_type": "stream",
          "name": "stderr",
          "text": [
            "100%|██████████| 16/16 [00:08<00:00,  1.85it/s]\n",
            "100%|██████████| 31/31 [00:11<00:00,  2.63it/s]\n"
          ]
        },
        {
          "output_type": "stream",
          "name": "stdout",
          "text": [
            "Accuracy: 8.53 - Loss: 0.016300666359551658 \n",
            "\n"
          ]
        },
        {
          "output_type": "stream",
          "name": "stderr",
          "text": [
            "100%|██████████| 16/16 [00:09<00:00,  1.66it/s]\n",
            "100%|██████████| 31/31 [00:11<00:00,  2.66it/s]\n"
          ]
        },
        {
          "output_type": "stream",
          "name": "stdout",
          "text": [
            "Accuracy: 10.56 - Loss: 0.016146376952775474 \n",
            "\n"
          ]
        },
        {
          "output_type": "stream",
          "name": "stderr",
          "text": [
            "100%|██████████| 16/16 [00:09<00:00,  1.63it/s]\n",
            "100%|██████████| 31/31 [00:11<00:00,  2.65it/s]\n"
          ]
        },
        {
          "output_type": "stream",
          "name": "stdout",
          "text": [
            "Accuracy: 9.11 - Loss: 0.016113018740767832 \n",
            "\n"
          ]
        },
        {
          "output_type": "stream",
          "name": "stderr",
          "text": [
            "100%|██████████| 16/16 [00:08<00:00,  1.85it/s]\n",
            "100%|██████████| 31/31 [00:11<00:00,  2.62it/s]\n"
          ]
        },
        {
          "output_type": "stream",
          "name": "stdout",
          "text": [
            "Accuracy: 10.61 - Loss: 0.01609549955667567 \n",
            "\n"
          ]
        },
        {
          "output_type": "stream",
          "name": "stderr",
          "text": [
            "100%|██████████| 16/16 [00:09<00:00,  1.65it/s]\n",
            "100%|██████████| 31/31 [00:11<00:00,  2.64it/s]\n"
          ]
        },
        {
          "output_type": "stream",
          "name": "stdout",
          "text": [
            "Accuracy: 10.23 - Loss: 0.01615286198060426 \n",
            "\n"
          ]
        },
        {
          "output_type": "stream",
          "name": "stderr",
          "text": [
            "100%|██████████| 16/16 [00:09<00:00,  1.66it/s]\n",
            "100%|██████████| 31/31 [00:11<00:00,  2.78it/s]\n"
          ]
        },
        {
          "output_type": "stream",
          "name": "stdout",
          "text": [
            "Accuracy: 10.13 - Loss: 0.01613783593637763 \n",
            "\n"
          ]
        }
      ],
      "source": [
        "warnings.filterwarnings('ignore', category=UserWarning)\n",
        "\n",
        "# Parse arguments\n",
        "conf = { # Art Painting -> Sketch\n",
        "    'seed': 0,\n",
        "    'test_only': False,\n",
        "    'cpu': False,\n",
        "    'experiment': 'random',\n",
        "    'experiment_name': '2_2_2',\n",
        "    'experiment_args': {'module_placement': ['layer1.0.conv1', 'layer1.0.conv2', 'layer1.1.conv1', 'layer1.1.conv2', 'layer2.0.conv1', 'layer2.0.conv2', 'layer2.1.conv1', 'layer2.1.conv2', 'layer3.0.conv1', 'layer3.0.conv2', 'layer3.1.conv1', 'layer3.1.conv2', 'layer4.0.conv1', 'layer4.0.conv2', 'layer4.1.conv1', 'layer4.1.conv2'], 'mask_out_ratio': 0.4},\n",
        "    'dataset_args': {'text_root': 'data', 'images_root': 'data/kfold/PACS', 'source_domain': 'art_painting', 'target_domain': 'sketch' },\n",
        "    'batch_size': 128,\n",
        "    'epochs': 30,\n",
        "    'num_workers': 5,\n",
        "    'grad_accum_steps': 1\n",
        "}\n",
        "\n",
        "#args = parse_arguments()\n",
        "args = argparse.Namespace(**conf)\n",
        "print(args)\n",
        "CONFIG.update(vars(args))\n",
        "\n",
        "# Setup output directory\n",
        "CONFIG.save_dir = os.path.join('record', CONFIG.experiment_name)\n",
        "os.makedirs(CONFIG.save_dir, exist_ok=True)\n",
        "\n",
        "# Setup logging\n",
        "logging.basicConfig(\n",
        "    filename=os.path.join(CONFIG.save_dir, 'log.txt'),\n",
        "    format='%(message)s',\n",
        "    level=logging.INFO,\n",
        "    filemode='a'\n",
        ")\n",
        "\n",
        "# Set experiment's device & deterministic behavior\n",
        "if CONFIG.cpu:\n",
        "    CONFIG.device = 'cpu'\n",
        "else:\n",
        "    CONFIG.device = 'cuda' if torch.cuda.is_available() else 'cpu'\n",
        "\n",
        "torch.manual_seed(CONFIG.seed)\n",
        "random.seed(CONFIG.seed)\n",
        "np.random.seed(CONFIG.seed)\n",
        "torch.backends.cudnn.benchmark = True\n",
        "torch.use_deterministic_algorithms(mode=True, warn_only=True)\n",
        "\n",
        "main()"
      ]
    },
    {
      "cell_type": "markdown",
      "metadata": {
        "id": "GZlWFi3Hrl_R"
      },
      "source": [
        "#### 2.2.3 - Art Painting &rightarrow; Photo, mor = 0.4"
      ]
    },
    {
      "cell_type": "code",
      "execution_count": 38,
      "metadata": {
        "colab": {
          "base_uri": "https://localhost:8080/"
        },
        "id": "_O7pV3K_rl_R",
        "outputId": "c3afe9a6-291f-4c1d-cc12-bb73c5768293"
      },
      "outputs": [
        {
          "output_type": "stream",
          "name": "stdout",
          "text": [
            "Namespace(seed=0, test_only=False, cpu=False, experiment='random', experiment_name='2_2_3', experiment_args={'module_placement': ['layer1.0.conv1', 'layer1.0.conv2', 'layer1.1.conv1', 'layer1.1.conv2', 'layer2.0.conv1', 'layer2.0.conv2', 'layer2.1.conv1', 'layer2.1.conv2', 'layer3.0.conv1', 'layer3.0.conv2', 'layer3.1.conv1', 'layer3.1.conv2', 'layer4.0.conv1', 'layer4.0.conv2', 'layer4.1.conv1', 'layer4.1.conv2'], 'mask_out_ratio': 0.4}, dataset_args={'text_root': 'data', 'images_root': 'data/kfold/PACS', 'source_domain': 'art_painting', 'target_domain': 'photo'}, batch_size=128, epochs=30, num_workers=5, grad_accum_steps=1)\n",
            "mask_out_ratio:  0.4\n",
            "layer_name layer1.0.conv1 random_mask sum():  tensor(120682., device='cuda:0')\n",
            "Insert activation shaping layer after  layer1.0.conv1 Conv2d(64, 64, kernel_size=(3, 3), stride=(1, 1), padding=(1, 1), bias=False)\n",
            "mask_out_ratio:  0.4\n",
            "layer_name layer1.0.conv2 random_mask sum():  tensor(120163., device='cuda:0')\n",
            "Insert activation shaping layer after  layer1.0.conv2 Conv2d(64, 64, kernel_size=(3, 3), stride=(1, 1), padding=(1, 1), bias=False)\n",
            "mask_out_ratio:  0.4\n",
            "layer_name layer1.1.conv1 random_mask sum():  tensor(120504., device='cuda:0')\n",
            "Insert activation shaping layer after  layer1.1.conv1 Conv2d(64, 64, kernel_size=(3, 3), stride=(1, 1), padding=(1, 1), bias=False)\n",
            "mask_out_ratio:  0.4\n",
            "layer_name layer1.1.conv2 random_mask sum():  tensor(120167., device='cuda:0')\n",
            "Insert activation shaping layer after  layer1.1.conv2 Conv2d(64, 64, kernel_size=(3, 3), stride=(1, 1), padding=(1, 1), bias=False)\n",
            "mask_out_ratio:  0.4\n",
            "layer_name layer2.0.conv1 random_mask sum():  tensor(60253., device='cuda:0')\n",
            "Insert activation shaping layer after  layer2.0.conv1 Conv2d(64, 128, kernel_size=(3, 3), stride=(2, 2), padding=(1, 1), bias=False)\n",
            "mask_out_ratio:  0.4\n",
            "layer_name layer2.0.conv2 random_mask sum():  tensor(59880., device='cuda:0')\n",
            "Insert activation shaping layer after  layer2.0.conv2 Conv2d(128, 128, kernel_size=(3, 3), stride=(1, 1), padding=(1, 1), bias=False)\n",
            "mask_out_ratio:  0.4\n",
            "layer_name layer2.1.conv1 random_mask sum():  tensor(60357., device='cuda:0')\n",
            "Insert activation shaping layer after  layer2.1.conv1 Conv2d(128, 128, kernel_size=(3, 3), stride=(1, 1), padding=(1, 1), bias=False)\n",
            "mask_out_ratio:  0.4\n",
            "layer_name layer2.1.conv2 random_mask sum():  tensor(60260., device='cuda:0')\n",
            "Insert activation shaping layer after  layer2.1.conv2 Conv2d(128, 128, kernel_size=(3, 3), stride=(1, 1), padding=(1, 1), bias=False)\n",
            "mask_out_ratio:  0.4\n",
            "layer_name layer3.0.conv1 random_mask sum():  tensor(30067., device='cuda:0')\n",
            "Insert activation shaping layer after  layer3.0.conv1 Conv2d(128, 256, kernel_size=(3, 3), stride=(2, 2), padding=(1, 1), bias=False)\n",
            "mask_out_ratio:  0.4\n",
            "layer_name layer3.0.conv2 random_mask sum():  tensor(30219., device='cuda:0')\n",
            "Insert activation shaping layer after  layer3.0.conv2 Conv2d(256, 256, kernel_size=(3, 3), stride=(1, 1), padding=(1, 1), bias=False)\n",
            "mask_out_ratio:  0.4\n",
            "layer_name layer3.1.conv1 random_mask sum():  tensor(30070., device='cuda:0')\n",
            "Insert activation shaping layer after  layer3.1.conv1 Conv2d(256, 256, kernel_size=(3, 3), stride=(1, 1), padding=(1, 1), bias=False)\n",
            "mask_out_ratio:  0.4\n",
            "layer_name layer3.1.conv2 random_mask sum():  tensor(30148., device='cuda:0')\n",
            "Insert activation shaping layer after  layer3.1.conv2 Conv2d(256, 256, kernel_size=(3, 3), stride=(1, 1), padding=(1, 1), bias=False)\n",
            "mask_out_ratio:  0.4\n",
            "layer_name layer4.0.conv1 random_mask sum():  tensor(15126., device='cuda:0')\n",
            "Insert activation shaping layer after  layer4.0.conv1 Conv2d(256, 512, kernel_size=(3, 3), stride=(2, 2), padding=(1, 1), bias=False)\n",
            "mask_out_ratio:  0.4\n",
            "layer_name layer4.0.conv2 random_mask sum():  tensor(15056., device='cuda:0')\n",
            "Insert activation shaping layer after  layer4.0.conv2 Conv2d(512, 512, kernel_size=(3, 3), stride=(1, 1), padding=(1, 1), bias=False)\n",
            "mask_out_ratio:  0.4\n",
            "layer_name layer4.1.conv1 random_mask sum():  tensor(15106., device='cuda:0')\n",
            "Insert activation shaping layer after  layer4.1.conv1 Conv2d(512, 512, kernel_size=(3, 3), stride=(1, 1), padding=(1, 1), bias=False)\n",
            "mask_out_ratio:  0.4\n",
            "layer_name layer4.1.conv2 random_mask sum():  tensor(15025., device='cuda:0')\n",
            "Insert activation shaping layer after  layer4.1.conv2 Conv2d(512, 512, kernel_size=(3, 3), stride=(1, 1), padding=(1, 1), bias=False)\n"
          ]
        },
        {
          "output_type": "stream",
          "name": "stderr",
          "text": [
            "100%|██████████| 16/16 [00:09<00:00,  1.75it/s]\n",
            "100%|██████████| 14/14 [00:06<00:00,  2.19it/s]\n"
          ]
        },
        {
          "output_type": "stream",
          "name": "stdout",
          "text": [
            "Accuracy: 17.49 - Loss: 0.016186080293027226 \n",
            "\n"
          ]
        },
        {
          "output_type": "stream",
          "name": "stderr",
          "text": [
            "100%|██████████| 16/16 [00:09<00:00,  1.75it/s]\n",
            "100%|██████████| 14/14 [00:05<00:00,  2.75it/s]\n"
          ]
        },
        {
          "output_type": "stream",
          "name": "stdout",
          "text": [
            "Accuracy: 16.59 - Loss: 0.016169295625058477 \n",
            "\n"
          ]
        },
        {
          "output_type": "stream",
          "name": "stderr",
          "text": [
            "100%|██████████| 16/16 [00:09<00:00,  1.63it/s]\n",
            "100%|██████████| 14/14 [00:04<00:00,  2.99it/s]\n"
          ]
        },
        {
          "output_type": "stream",
          "name": "stdout",
          "text": [
            "Accuracy: 20.30 - Loss: 0.015994615968829857 \n",
            "\n"
          ]
        },
        {
          "output_type": "stream",
          "name": "stderr",
          "text": [
            "100%|██████████| 16/16 [00:09<00:00,  1.62it/s]\n",
            "100%|██████████| 14/14 [00:04<00:00,  3.04it/s]\n"
          ]
        },
        {
          "output_type": "stream",
          "name": "stdout",
          "text": [
            "Accuracy: 24.67 - Loss: 0.015936652414813013 \n",
            "\n"
          ]
        },
        {
          "output_type": "stream",
          "name": "stderr",
          "text": [
            "100%|██████████| 16/16 [00:09<00:00,  1.63it/s]\n",
            "100%|██████████| 14/14 [00:04<00:00,  3.02it/s]\n"
          ]
        },
        {
          "output_type": "stream",
          "name": "stdout",
          "text": [
            "Accuracy: 21.26 - Loss: 0.016013716866156297 \n",
            "\n"
          ]
        },
        {
          "output_type": "stream",
          "name": "stderr",
          "text": [
            "100%|██████████| 16/16 [00:09<00:00,  1.65it/s]\n",
            "100%|██████████| 14/14 [00:04<00:00,  2.98it/s]\n"
          ]
        },
        {
          "output_type": "stream",
          "name": "stdout",
          "text": [
            "Accuracy: 21.62 - Loss: 0.016052075560221413 \n",
            "\n"
          ]
        },
        {
          "output_type": "stream",
          "name": "stderr",
          "text": [
            "100%|██████████| 16/16 [00:09<00:00,  1.64it/s]\n",
            "100%|██████████| 14/14 [00:05<00:00,  2.49it/s]\n"
          ]
        },
        {
          "output_type": "stream",
          "name": "stdout",
          "text": [
            "Accuracy: 23.17 - Loss: 0.016016354460916118 \n",
            "\n"
          ]
        },
        {
          "output_type": "stream",
          "name": "stderr",
          "text": [
            "100%|██████████| 16/16 [00:08<00:00,  1.85it/s]\n",
            "100%|██████████| 14/14 [00:05<00:00,  2.46it/s]\n"
          ]
        },
        {
          "output_type": "stream",
          "name": "stdout",
          "text": [
            "Accuracy: 19.58 - Loss: 0.01611588679387898 \n",
            "\n"
          ]
        },
        {
          "output_type": "stream",
          "name": "stderr",
          "text": [
            "100%|██████████| 16/16 [00:08<00:00,  1.82it/s]\n",
            "100%|██████████| 14/14 [00:05<00:00,  2.51it/s]\n"
          ]
        },
        {
          "output_type": "stream",
          "name": "stdout",
          "text": [
            "Accuracy: 21.14 - Loss: 0.01598445719587589 \n",
            "\n"
          ]
        },
        {
          "output_type": "stream",
          "name": "stderr",
          "text": [
            "100%|██████████| 16/16 [00:09<00:00,  1.64it/s]\n",
            "100%|██████████| 14/14 [00:04<00:00,  2.99it/s]\n"
          ]
        },
        {
          "output_type": "stream",
          "name": "stdout",
          "text": [
            "Accuracy: 21.86 - Loss: 0.016073661721395162 \n",
            "\n"
          ]
        },
        {
          "output_type": "stream",
          "name": "stderr",
          "text": [
            "100%|██████████| 16/16 [00:09<00:00,  1.64it/s]\n",
            "100%|██████████| 14/14 [00:04<00:00,  3.04it/s]\n"
          ]
        },
        {
          "output_type": "stream",
          "name": "stdout",
          "text": [
            "Accuracy: 23.89 - Loss: 0.01584447529501544 \n",
            "\n"
          ]
        },
        {
          "output_type": "stream",
          "name": "stderr",
          "text": [
            "100%|██████████| 16/16 [00:09<00:00,  1.63it/s]\n",
            "100%|██████████| 14/14 [00:04<00:00,  3.04it/s]\n"
          ]
        },
        {
          "output_type": "stream",
          "name": "stdout",
          "text": [
            "Accuracy: 22.16 - Loss: 0.016019358963309648 \n",
            "\n"
          ]
        },
        {
          "output_type": "stream",
          "name": "stderr",
          "text": [
            "100%|██████████| 16/16 [00:09<00:00,  1.64it/s]\n",
            "100%|██████████| 14/14 [00:04<00:00,  2.98it/s]\n"
          ]
        },
        {
          "output_type": "stream",
          "name": "stdout",
          "text": [
            "Accuracy: 20.60 - Loss: 0.016079727118600628 \n",
            "\n"
          ]
        },
        {
          "output_type": "stream",
          "name": "stderr",
          "text": [
            "100%|██████████| 16/16 [00:09<00:00,  1.64it/s]\n",
            "100%|██████████| 14/14 [00:05<00:00,  2.56it/s]\n"
          ]
        },
        {
          "output_type": "stream",
          "name": "stdout",
          "text": [
            "Accuracy: 20.84 - Loss: 0.015920865178822043 \n",
            "\n"
          ]
        },
        {
          "output_type": "stream",
          "name": "stderr",
          "text": [
            "100%|██████████| 16/16 [00:08<00:00,  1.85it/s]\n",
            "100%|██████████| 14/14 [00:05<00:00,  2.44it/s]\n"
          ]
        },
        {
          "output_type": "stream",
          "name": "stdout",
          "text": [
            "Accuracy: 19.28 - Loss: 0.016139705452376498 \n",
            "\n"
          ]
        },
        {
          "output_type": "stream",
          "name": "stderr",
          "text": [
            "100%|██████████| 16/16 [00:08<00:00,  1.78it/s]\n",
            "100%|██████████| 14/14 [00:05<00:00,  2.51it/s]\n"
          ]
        },
        {
          "output_type": "stream",
          "name": "stdout",
          "text": [
            "Accuracy: 19.82 - Loss: 0.01606492674993184 \n",
            "\n"
          ]
        },
        {
          "output_type": "stream",
          "name": "stderr",
          "text": [
            "100%|██████████| 16/16 [00:09<00:00,  1.63it/s]\n",
            "100%|██████████| 14/14 [00:04<00:00,  2.99it/s]\n"
          ]
        },
        {
          "output_type": "stream",
          "name": "stdout",
          "text": [
            "Accuracy: 21.26 - Loss: 0.016025996993401806 \n",
            "\n"
          ]
        },
        {
          "output_type": "stream",
          "name": "stderr",
          "text": [
            "100%|██████████| 16/16 [00:09<00:00,  1.64it/s]\n",
            "100%|██████████| 14/14 [00:04<00:00,  2.96it/s]\n"
          ]
        },
        {
          "output_type": "stream",
          "name": "stdout",
          "text": [
            "Accuracy: 22.28 - Loss: 0.015970993827203076 \n",
            "\n"
          ]
        },
        {
          "output_type": "stream",
          "name": "stderr",
          "text": [
            "100%|██████████| 16/16 [00:09<00:00,  1.65it/s]\n",
            "100%|██████████| 14/14 [00:04<00:00,  2.97it/s]\n"
          ]
        },
        {
          "output_type": "stream",
          "name": "stdout",
          "text": [
            "Accuracy: 23.17 - Loss: 0.015918597703922295 \n",
            "\n"
          ]
        },
        {
          "output_type": "stream",
          "name": "stderr",
          "text": [
            "100%|██████████| 16/16 [00:10<00:00,  1.59it/s]\n",
            "100%|██████████| 14/14 [00:05<00:00,  2.62it/s]\n"
          ]
        },
        {
          "output_type": "stream",
          "name": "stdout",
          "text": [
            "Accuracy: 22.46 - Loss: 0.01589088518462495 \n",
            "\n"
          ]
        },
        {
          "output_type": "stream",
          "name": "stderr",
          "text": [
            "100%|██████████| 16/16 [00:09<00:00,  1.65it/s]\n",
            "100%|██████████| 14/14 [00:06<00:00,  2.29it/s]\n"
          ]
        },
        {
          "output_type": "stream",
          "name": "stdout",
          "text": [
            "Accuracy: 20.24 - Loss: 0.016045717707651105 \n",
            "\n"
          ]
        },
        {
          "output_type": "stream",
          "name": "stderr",
          "text": [
            "100%|██████████| 16/16 [00:08<00:00,  1.81it/s]\n",
            "100%|██████████| 14/14 [00:06<00:00,  2.29it/s]\n"
          ]
        },
        {
          "output_type": "stream",
          "name": "stdout",
          "text": [
            "Accuracy: 24.01 - Loss: 0.015857439198179873 \n",
            "\n"
          ]
        },
        {
          "output_type": "stream",
          "name": "stderr",
          "text": [
            "100%|██████████| 16/16 [00:09<00:00,  1.60it/s]\n",
            "100%|██████████| 14/14 [00:04<00:00,  2.85it/s]\n"
          ]
        },
        {
          "output_type": "stream",
          "name": "stdout",
          "text": [
            "Accuracy: 19.40 - Loss: 0.016029275677161302 \n",
            "\n"
          ]
        },
        {
          "output_type": "stream",
          "name": "stderr",
          "text": [
            "100%|██████████| 16/16 [00:10<00:00,  1.57it/s]\n",
            "100%|██████████| 14/14 [00:04<00:00,  2.80it/s]\n"
          ]
        },
        {
          "output_type": "stream",
          "name": "stdout",
          "text": [
            "Accuracy: 24.37 - Loss: 0.015801408048161488 \n",
            "\n"
          ]
        },
        {
          "output_type": "stream",
          "name": "stderr",
          "text": [
            "100%|██████████| 16/16 [00:11<00:00,  1.35it/s]\n",
            "100%|██████████| 14/14 [00:05<00:00,  2.62it/s]\n"
          ]
        },
        {
          "output_type": "stream",
          "name": "stdout",
          "text": [
            "Accuracy: 24.31 - Loss: 0.015788446429246913 \n",
            "\n"
          ]
        },
        {
          "output_type": "stream",
          "name": "stderr",
          "text": [
            "100%|██████████| 16/16 [00:09<00:00,  1.70it/s]\n",
            "100%|██████████| 14/14 [00:05<00:00,  2.45it/s]\n"
          ]
        },
        {
          "output_type": "stream",
          "name": "stdout",
          "text": [
            "Accuracy: 21.68 - Loss: 0.01594895231509637 \n",
            "\n"
          ]
        },
        {
          "output_type": "stream",
          "name": "stderr",
          "text": [
            "100%|██████████| 16/16 [00:08<00:00,  1.83it/s]\n",
            "100%|██████████| 14/14 [00:06<00:00,  2.31it/s]\n"
          ]
        },
        {
          "output_type": "stream",
          "name": "stdout",
          "text": [
            "Accuracy: 22.69 - Loss: 0.015882300973652366 \n",
            "\n"
          ]
        },
        {
          "output_type": "stream",
          "name": "stderr",
          "text": [
            "100%|██████████| 16/16 [00:10<00:00,  1.55it/s]\n",
            "100%|██████████| 14/14 [00:04<00:00,  2.99it/s]\n"
          ]
        },
        {
          "output_type": "stream",
          "name": "stdout",
          "text": [
            "Accuracy: 20.84 - Loss: 0.015975114613949896 \n",
            "\n"
          ]
        },
        {
          "output_type": "stream",
          "name": "stderr",
          "text": [
            "100%|██████████| 16/16 [00:10<00:00,  1.54it/s]\n",
            "100%|██████████| 14/14 [00:04<00:00,  2.89it/s]\n"
          ]
        },
        {
          "output_type": "stream",
          "name": "stdout",
          "text": [
            "Accuracy: 21.08 - Loss: 0.01604951869941757 \n",
            "\n"
          ]
        },
        {
          "output_type": "stream",
          "name": "stderr",
          "text": [
            "100%|██████████| 16/16 [00:09<00:00,  1.61it/s]\n",
            "100%|██████████| 14/14 [00:04<00:00,  2.98it/s]\n"
          ]
        },
        {
          "output_type": "stream",
          "name": "stdout",
          "text": [
            "Accuracy: 21.98 - Loss: 0.015918040346956538 \n",
            "\n"
          ]
        }
      ],
      "source": [
        "warnings.filterwarnings('ignore', category=UserWarning)\n",
        "\n",
        "# Parse arguments\n",
        "conf = { # Art Painting -> Photo\n",
        "    'seed': 0,\n",
        "    'test_only': False,\n",
        "    'cpu': False,\n",
        "    'experiment': 'random',\n",
        "    'experiment_name': '2_2_3',\n",
        "    'experiment_args': {'module_placement': ['layer1.0.conv1', 'layer1.0.conv2', 'layer1.1.conv1', 'layer1.1.conv2', 'layer2.0.conv1', 'layer2.0.conv2', 'layer2.1.conv1', 'layer2.1.conv2', 'layer3.0.conv1', 'layer3.0.conv2', 'layer3.1.conv1', 'layer3.1.conv2', 'layer4.0.conv1', 'layer4.0.conv2', 'layer4.1.conv1', 'layer4.1.conv2'], 'mask_out_ratio': 0.4},\n",
        "    'dataset_args': {'text_root': 'data', 'images_root': 'data/kfold/PACS', 'source_domain': 'art_painting', 'target_domain': 'photo' },\n",
        "    'batch_size': 128,\n",
        "    'epochs': 30,\n",
        "    'num_workers': 5,\n",
        "    'grad_accum_steps': 1\n",
        "}\n",
        "\n",
        "#args = parse_arguments()\n",
        "args = argparse.Namespace(**conf)\n",
        "print(args)\n",
        "CONFIG.update(vars(args))\n",
        "\n",
        "# Setup output directory\n",
        "CONFIG.save_dir = os.path.join('record', CONFIG.experiment_name)\n",
        "os.makedirs(CONFIG.save_dir, exist_ok=True)\n",
        "\n",
        "# Setup logging\n",
        "logging.basicConfig(\n",
        "    filename=os.path.join(CONFIG.save_dir, 'log.txt'),\n",
        "    format='%(message)s',\n",
        "    level=logging.INFO,\n",
        "    filemode='a'\n",
        ")\n",
        "\n",
        "# Set experiment's device & deterministic behavior\n",
        "if CONFIG.cpu:\n",
        "    CONFIG.device = 'cpu'\n",
        "else:\n",
        "    CONFIG.device = 'cuda' if torch.cuda.is_available() else 'cpu'\n",
        "\n",
        "torch.manual_seed(CONFIG.seed)\n",
        "random.seed(CONFIG.seed)\n",
        "np.random.seed(CONFIG.seed)\n",
        "torch.backends.cudnn.benchmark = True\n",
        "torch.use_deterministic_algorithms(mode=True, warn_only=True)\n",
        "\n",
        "main()"
      ]
    },
    {
      "cell_type": "markdown",
      "metadata": {
        "id": "QB2_f-Pkrl_R"
      },
      "source": [
        "#### 2.2.4 - Art Painting &rightarrow; Cartoon, mor = 0.55"
      ]
    },
    {
      "cell_type": "code",
      "execution_count": 39,
      "metadata": {
        "colab": {
          "base_uri": "https://localhost:8080/"
        },
        "id": "nTveZNhBrl_S",
        "outputId": "cec3f58d-04bb-428a-b84a-61ee17d5bc65"
      },
      "outputs": [
        {
          "output_type": "stream",
          "name": "stdout",
          "text": [
            "Namespace(seed=0, test_only=False, cpu=False, experiment='random', experiment_name='2_2_4', experiment_args={'module_placement': ['layer1.0.conv1', 'layer1.0.conv2', 'layer1.1.conv1', 'layer1.1.conv2', 'layer2.0.conv1', 'layer2.0.conv2', 'layer2.1.conv1', 'layer2.1.conv2', 'layer3.0.conv1', 'layer3.0.conv2', 'layer3.1.conv1', 'layer3.1.conv2', 'layer4.0.conv1', 'layer4.0.conv2', 'layer4.1.conv1', 'layer4.1.conv2'], 'mask_out_ratio': 0.55}, dataset_args={'text_root': 'data', 'images_root': 'data/kfold/PACS', 'source_domain': 'art_painting', 'target_domain': 'cartoon'}, batch_size=128, epochs=30, num_workers=5, grad_accum_steps=1)\n",
            "mask_out_ratio:  0.55\n",
            "layer_name layer1.0.conv1 random_mask sum():  tensor(90359., device='cuda:0')\n",
            "Insert activation shaping layer after  layer1.0.conv1 Conv2d(64, 64, kernel_size=(3, 3), stride=(1, 1), padding=(1, 1), bias=False)\n",
            "mask_out_ratio:  0.55\n",
            "layer_name layer1.0.conv2 random_mask sum():  tensor(89968., device='cuda:0')\n",
            "Insert activation shaping layer after  layer1.0.conv2 Conv2d(64, 64, kernel_size=(3, 3), stride=(1, 1), padding=(1, 1), bias=False)\n",
            "mask_out_ratio:  0.55\n",
            "layer_name layer1.1.conv1 random_mask sum():  tensor(90140., device='cuda:0')\n",
            "Insert activation shaping layer after  layer1.1.conv1 Conv2d(64, 64, kernel_size=(3, 3), stride=(1, 1), padding=(1, 1), bias=False)\n",
            "mask_out_ratio:  0.55\n",
            "layer_name layer1.1.conv2 random_mask sum():  tensor(90255., device='cuda:0')\n",
            "Insert activation shaping layer after  layer1.1.conv2 Conv2d(64, 64, kernel_size=(3, 3), stride=(1, 1), padding=(1, 1), bias=False)\n",
            "mask_out_ratio:  0.55\n",
            "layer_name layer2.0.conv1 random_mask sum():  tensor(45140., device='cuda:0')\n",
            "Insert activation shaping layer after  layer2.0.conv1 Conv2d(64, 128, kernel_size=(3, 3), stride=(2, 2), padding=(1, 1), bias=False)\n",
            "mask_out_ratio:  0.55\n",
            "layer_name layer2.0.conv2 random_mask sum():  tensor(45026., device='cuda:0')\n",
            "Insert activation shaping layer after  layer2.0.conv2 Conv2d(128, 128, kernel_size=(3, 3), stride=(1, 1), padding=(1, 1), bias=False)\n",
            "mask_out_ratio:  0.55\n",
            "layer_name layer2.1.conv1 random_mask sum():  tensor(45329., device='cuda:0')\n",
            "Insert activation shaping layer after  layer2.1.conv1 Conv2d(128, 128, kernel_size=(3, 3), stride=(1, 1), padding=(1, 1), bias=False)\n",
            "mask_out_ratio:  0.55\n",
            "layer_name layer2.1.conv2 random_mask sum():  tensor(45295., device='cuda:0')\n",
            "Insert activation shaping layer after  layer2.1.conv2 Conv2d(128, 128, kernel_size=(3, 3), stride=(1, 1), padding=(1, 1), bias=False)\n",
            "mask_out_ratio:  0.55\n",
            "layer_name layer3.0.conv1 random_mask sum():  tensor(22551., device='cuda:0')\n",
            "Insert activation shaping layer after  layer3.0.conv1 Conv2d(128, 256, kernel_size=(3, 3), stride=(2, 2), padding=(1, 1), bias=False)\n",
            "mask_out_ratio:  0.55\n",
            "layer_name layer3.0.conv2 random_mask sum():  tensor(22665., device='cuda:0')\n",
            "Insert activation shaping layer after  layer3.0.conv2 Conv2d(256, 256, kernel_size=(3, 3), stride=(1, 1), padding=(1, 1), bias=False)\n",
            "mask_out_ratio:  0.55\n",
            "layer_name layer3.1.conv1 random_mask sum():  tensor(22632., device='cuda:0')\n",
            "Insert activation shaping layer after  layer3.1.conv1 Conv2d(256, 256, kernel_size=(3, 3), stride=(1, 1), padding=(1, 1), bias=False)\n",
            "mask_out_ratio:  0.55\n",
            "layer_name layer3.1.conv2 random_mask sum():  tensor(22568., device='cuda:0')\n",
            "Insert activation shaping layer after  layer3.1.conv2 Conv2d(256, 256, kernel_size=(3, 3), stride=(1, 1), padding=(1, 1), bias=False)\n",
            "mask_out_ratio:  0.55\n",
            "layer_name layer4.0.conv1 random_mask sum():  tensor(11341., device='cuda:0')\n",
            "Insert activation shaping layer after  layer4.0.conv1 Conv2d(256, 512, kernel_size=(3, 3), stride=(2, 2), padding=(1, 1), bias=False)\n",
            "mask_out_ratio:  0.55\n",
            "layer_name layer4.0.conv2 random_mask sum():  tensor(11277., device='cuda:0')\n",
            "Insert activation shaping layer after  layer4.0.conv2 Conv2d(512, 512, kernel_size=(3, 3), stride=(1, 1), padding=(1, 1), bias=False)\n",
            "mask_out_ratio:  0.55\n",
            "layer_name layer4.1.conv1 random_mask sum():  tensor(11321., device='cuda:0')\n",
            "Insert activation shaping layer after  layer4.1.conv1 Conv2d(512, 512, kernel_size=(3, 3), stride=(1, 1), padding=(1, 1), bias=False)\n",
            "mask_out_ratio:  0.55\n",
            "layer_name layer4.1.conv2 random_mask sum():  tensor(11271., device='cuda:0')\n",
            "Insert activation shaping layer after  layer4.1.conv2 Conv2d(512, 512, kernel_size=(3, 3), stride=(1, 1), padding=(1, 1), bias=False)\n"
          ]
        },
        {
          "output_type": "stream",
          "name": "stderr",
          "text": [
            "100%|██████████| 16/16 [00:10<00:00,  1.55it/s]\n",
            "100%|██████████| 19/19 [00:08<00:00,  2.25it/s]\n"
          ]
        },
        {
          "output_type": "stream",
          "name": "stdout",
          "text": [
            "Accuracy: 15.87 - Loss: 0.015745090695778258 \n",
            "\n"
          ]
        },
        {
          "output_type": "stream",
          "name": "stderr",
          "text": [
            "100%|██████████| 16/16 [00:09<00:00,  1.64it/s]\n",
            "100%|██████████| 19/19 [00:07<00:00,  2.59it/s]\n"
          ]
        },
        {
          "output_type": "stream",
          "name": "stdout",
          "text": [
            "Accuracy: 16.38 - Loss: 0.015815596836825686 \n",
            "\n"
          ]
        },
        {
          "output_type": "stream",
          "name": "stderr",
          "text": [
            "100%|██████████| 16/16 [00:10<00:00,  1.52it/s]\n",
            "100%|██████████| 19/19 [00:06<00:00,  2.81it/s]\n"
          ]
        },
        {
          "output_type": "stream",
          "name": "stdout",
          "text": [
            "Accuracy: 17.11 - Loss: 0.015587300265608388 \n",
            "\n"
          ]
        },
        {
          "output_type": "stream",
          "name": "stderr",
          "text": [
            "100%|██████████| 16/16 [00:10<00:00,  1.56it/s]\n",
            "100%|██████████| 19/19 [00:07<00:00,  2.47it/s]\n"
          ]
        },
        {
          "output_type": "stream",
          "name": "stdout",
          "text": [
            "Accuracy: 17.06 - Loss: 0.015729427998790155 \n",
            "\n"
          ]
        },
        {
          "output_type": "stream",
          "name": "stderr",
          "text": [
            "100%|██████████| 16/16 [00:09<00:00,  1.73it/s]\n",
            "100%|██████████| 19/19 [00:07<00:00,  2.64it/s]\n"
          ]
        },
        {
          "output_type": "stream",
          "name": "stdout",
          "text": [
            "Accuracy: 17.88 - Loss: 0.015715998085692472 \n",
            "\n"
          ]
        },
        {
          "output_type": "stream",
          "name": "stderr",
          "text": [
            "100%|██████████| 16/16 [00:10<00:00,  1.57it/s]\n",
            "100%|██████████| 19/19 [00:06<00:00,  2.94it/s]\n"
          ]
        },
        {
          "output_type": "stream",
          "name": "stdout",
          "text": [
            "Accuracy: 17.62 - Loss: 0.01563668495152184 \n",
            "\n"
          ]
        },
        {
          "output_type": "stream",
          "name": "stderr",
          "text": [
            "100%|██████████| 16/16 [00:10<00:00,  1.55it/s]\n",
            "100%|██████████| 19/19 [00:07<00:00,  2.58it/s]\n"
          ]
        },
        {
          "output_type": "stream",
          "name": "stdout",
          "text": [
            "Accuracy: 17.58 - Loss: 0.015641966930021605 \n",
            "\n"
          ]
        },
        {
          "output_type": "stream",
          "name": "stderr",
          "text": [
            "100%|██████████| 16/16 [00:08<00:00,  1.80it/s]\n",
            "100%|██████████| 19/19 [00:07<00:00,  2.43it/s]\n"
          ]
        },
        {
          "output_type": "stream",
          "name": "stdout",
          "text": [
            "Accuracy: 16.47 - Loss: 0.015642390723114536 \n",
            "\n"
          ]
        },
        {
          "output_type": "stream",
          "name": "stderr",
          "text": [
            "100%|██████████| 16/16 [00:10<00:00,  1.58it/s]\n",
            "100%|██████████| 19/19 [00:06<00:00,  2.89it/s]\n"
          ]
        },
        {
          "output_type": "stream",
          "name": "stdout",
          "text": [
            "Accuracy: 16.04 - Loss: 0.015657857162146845 \n",
            "\n"
          ]
        },
        {
          "output_type": "stream",
          "name": "stderr",
          "text": [
            "100%|██████████| 16/16 [00:10<00:00,  1.60it/s]\n",
            "100%|██████████| 19/19 [00:06<00:00,  2.80it/s]\n"
          ]
        },
        {
          "output_type": "stream",
          "name": "stdout",
          "text": [
            "Accuracy: 16.30 - Loss: 0.015672232612408063 \n",
            "\n"
          ]
        },
        {
          "output_type": "stream",
          "name": "stderr",
          "text": [
            "100%|██████████| 16/16 [00:09<00:00,  1.61it/s]\n",
            "100%|██████████| 19/19 [00:07<00:00,  2.51it/s]\n"
          ]
        },
        {
          "output_type": "stream",
          "name": "stdout",
          "text": [
            "Accuracy: 17.11 - Loss: 0.01573964531307741 \n",
            "\n"
          ]
        },
        {
          "output_type": "stream",
          "name": "stderr",
          "text": [
            "100%|██████████| 16/16 [00:09<00:00,  1.67it/s]\n",
            "100%|██████████| 19/19 [00:06<00:00,  2.87it/s]\n"
          ]
        },
        {
          "output_type": "stream",
          "name": "stdout",
          "text": [
            "Accuracy: 16.64 - Loss: 0.015633405984058314 \n",
            "\n"
          ]
        },
        {
          "output_type": "stream",
          "name": "stderr",
          "text": [
            "100%|██████████| 16/16 [00:10<00:00,  1.59it/s]\n",
            "100%|██████████| 19/19 [00:06<00:00,  2.86it/s]\n"
          ]
        },
        {
          "output_type": "stream",
          "name": "stdout",
          "text": [
            "Accuracy: 17.66 - Loss: 0.01557834939745099 \n",
            "\n"
          ]
        },
        {
          "output_type": "stream",
          "name": "stderr",
          "text": [
            "100%|██████████| 16/16 [00:10<00:00,  1.56it/s]\n",
            "100%|██████████| 19/19 [00:07<00:00,  2.44it/s]\n"
          ]
        },
        {
          "output_type": "stream",
          "name": "stdout",
          "text": [
            "Accuracy: 16.42 - Loss: 0.015756996316714497 \n",
            "\n"
          ]
        },
        {
          "output_type": "stream",
          "name": "stderr",
          "text": [
            "100%|██████████| 16/16 [00:08<00:00,  1.80it/s]\n",
            "100%|██████████| 19/19 [00:07<00:00,  2.43it/s]\n"
          ]
        },
        {
          "output_type": "stream",
          "name": "stdout",
          "text": [
            "Accuracy: 16.94 - Loss: 0.015650328007167518 \n",
            "\n"
          ]
        },
        {
          "output_type": "stream",
          "name": "stderr",
          "text": [
            "100%|██████████| 16/16 [00:10<00:00,  1.55it/s]\n",
            "100%|██████████| 19/19 [00:06<00:00,  2.87it/s]\n"
          ]
        },
        {
          "output_type": "stream",
          "name": "stdout",
          "text": [
            "Accuracy: 16.17 - Loss: 0.015673673854753017 \n",
            "\n"
          ]
        },
        {
          "output_type": "stream",
          "name": "stderr",
          "text": [
            "100%|██████████| 16/16 [00:10<00:00,  1.54it/s]\n",
            "100%|██████████| 19/19 [00:08<00:00,  2.35it/s]\n"
          ]
        },
        {
          "output_type": "stream",
          "name": "stdout",
          "text": [
            "Accuracy: 17.11 - Loss: 0.01567546143466702 \n",
            "\n"
          ]
        },
        {
          "output_type": "stream",
          "name": "stderr",
          "text": [
            "100%|██████████| 16/16 [00:09<00:00,  1.71it/s]\n",
            "100%|██████████| 19/19 [00:07<00:00,  2.48it/s]\n"
          ]
        },
        {
          "output_type": "stream",
          "name": "stdout",
          "text": [
            "Accuracy: 16.85 - Loss: 0.015684236540322416 \n",
            "\n"
          ]
        },
        {
          "output_type": "stream",
          "name": "stderr",
          "text": [
            "100%|██████████| 16/16 [00:10<00:00,  1.56it/s]\n",
            "100%|██████████| 19/19 [00:06<00:00,  2.96it/s]\n"
          ]
        },
        {
          "output_type": "stream",
          "name": "stdout",
          "text": [
            "Accuracy: 17.88 - Loss: 0.01558176959537402 \n",
            "\n"
          ]
        },
        {
          "output_type": "stream",
          "name": "stderr",
          "text": [
            "100%|██████████| 16/16 [00:10<00:00,  1.55it/s]\n",
            "100%|██████████| 19/19 [00:07<00:00,  2.54it/s]\n"
          ]
        },
        {
          "output_type": "stream",
          "name": "stdout",
          "text": [
            "Accuracy: 17.83 - Loss: 0.015701060917597175 \n",
            "\n"
          ]
        },
        {
          "output_type": "stream",
          "name": "stderr",
          "text": [
            "100%|██████████| 16/16 [00:09<00:00,  1.77it/s]\n",
            "100%|██████████| 19/19 [00:07<00:00,  2.53it/s]\n"
          ]
        },
        {
          "output_type": "stream",
          "name": "stdout",
          "text": [
            "Accuracy: 16.64 - Loss: 0.015628687096537176 \n",
            "\n"
          ]
        },
        {
          "output_type": "stream",
          "name": "stderr",
          "text": [
            "100%|██████████| 16/16 [00:10<00:00,  1.59it/s]\n",
            "100%|██████████| 19/19 [00:06<00:00,  2.80it/s]\n"
          ]
        },
        {
          "output_type": "stream",
          "name": "stdout",
          "text": [
            "Accuracy: 17.79 - Loss: 0.015686849532680708 \n",
            "\n"
          ]
        },
        {
          "output_type": "stream",
          "name": "stderr",
          "text": [
            "100%|██████████| 16/16 [00:10<00:00,  1.54it/s]\n",
            "100%|██████████| 19/19 [00:06<00:00,  2.74it/s]\n"
          ]
        },
        {
          "output_type": "stream",
          "name": "stdout",
          "text": [
            "Accuracy: 17.58 - Loss: 0.01569298169108381 \n",
            "\n"
          ]
        },
        {
          "output_type": "stream",
          "name": "stderr",
          "text": [
            "100%|██████████| 16/16 [00:09<00:00,  1.69it/s]\n",
            "100%|██████████| 19/19 [00:07<00:00,  2.55it/s]\n"
          ]
        },
        {
          "output_type": "stream",
          "name": "stdout",
          "text": [
            "Accuracy: 17.02 - Loss: 0.015785560978150613 \n",
            "\n"
          ]
        },
        {
          "output_type": "stream",
          "name": "stderr",
          "text": [
            "100%|██████████| 16/16 [00:09<00:00,  1.65it/s]\n",
            "100%|██████████| 19/19 [00:06<00:00,  2.75it/s]\n"
          ]
        },
        {
          "output_type": "stream",
          "name": "stdout",
          "text": [
            "Accuracy: 17.11 - Loss: 0.015705225156435788 \n",
            "\n"
          ]
        },
        {
          "output_type": "stream",
          "name": "stderr",
          "text": [
            "100%|██████████| 16/16 [00:09<00:00,  1.60it/s]\n",
            "100%|██████████| 19/19 [00:06<00:00,  2.99it/s]\n"
          ]
        },
        {
          "output_type": "stream",
          "name": "stdout",
          "text": [
            "Accuracy: 17.11 - Loss: 0.015674869660224525 \n",
            "\n"
          ]
        },
        {
          "output_type": "stream",
          "name": "stderr",
          "text": [
            "100%|██████████| 16/16 [00:09<00:00,  1.60it/s]\n",
            "100%|██████████| 19/19 [00:07<00:00,  2.59it/s]\n"
          ]
        },
        {
          "output_type": "stream",
          "name": "stdout",
          "text": [
            "Accuracy: 17.58 - Loss: 0.01563190549306902 \n",
            "\n"
          ]
        },
        {
          "output_type": "stream",
          "name": "stderr",
          "text": [
            "100%|██████████| 16/16 [00:08<00:00,  1.82it/s]\n",
            "100%|██████████| 19/19 [00:07<00:00,  2.57it/s]\n"
          ]
        },
        {
          "output_type": "stream",
          "name": "stdout",
          "text": [
            "Accuracy: 17.66 - Loss: 0.015675219252654717 \n",
            "\n"
          ]
        },
        {
          "output_type": "stream",
          "name": "stderr",
          "text": [
            "100%|██████████| 16/16 [00:09<00:00,  1.64it/s]\n",
            "100%|██████████| 19/19 [00:06<00:00,  2.94it/s]\n"
          ]
        },
        {
          "output_type": "stream",
          "name": "stdout",
          "text": [
            "Accuracy: 16.38 - Loss: 0.01562894031456306 \n",
            "\n"
          ]
        },
        {
          "output_type": "stream",
          "name": "stderr",
          "text": [
            "100%|██████████| 16/16 [00:11<00:00,  1.36it/s]\n",
            "100%|██████████| 19/19 [00:07<00:00,  2.55it/s]\n"
          ]
        },
        {
          "output_type": "stream",
          "name": "stdout",
          "text": [
            "Accuracy: 16.81 - Loss: 0.01563341773207277 \n",
            "\n"
          ]
        }
      ],
      "source": [
        "warnings.filterwarnings('ignore', category=UserWarning)\n",
        "\n",
        "# Parse arguments\n",
        "conf = { # Art Painting -> Cartoon\n",
        "    'seed': 0,\n",
        "    'test_only': False,\n",
        "    'cpu': False,\n",
        "    'experiment': 'random',\n",
        "    'experiment_name': '2_2_4',\n",
        "    'experiment_args': {'module_placement': ['layer1.0.conv1', 'layer1.0.conv2', 'layer1.1.conv1', 'layer1.1.conv2', 'layer2.0.conv1', 'layer2.0.conv2', 'layer2.1.conv1', 'layer2.1.conv2', 'layer3.0.conv1', 'layer3.0.conv2', 'layer3.1.conv1', 'layer3.1.conv2', 'layer4.0.conv1', 'layer4.0.conv2', 'layer4.1.conv1', 'layer4.1.conv2'], 'mask_out_ratio': 0.55},\n",
        "    'dataset_args': {'text_root': 'data', 'images_root': 'data/kfold/PACS', 'source_domain': 'art_painting', 'target_domain': 'cartoon' },\n",
        "    'batch_size': 128,\n",
        "    'epochs': 30,\n",
        "    'num_workers': 5,\n",
        "    'grad_accum_steps': 1\n",
        "}\n",
        "\n",
        "#args = parse_arguments()\n",
        "args = argparse.Namespace(**conf)\n",
        "print(args)\n",
        "CONFIG.update(vars(args))\n",
        "\n",
        "# Setup output directory\n",
        "CONFIG.save_dir = os.path.join('record', CONFIG.experiment_name)\n",
        "os.makedirs(CONFIG.save_dir, exist_ok=True)\n",
        "\n",
        "# Setup logging\n",
        "logging.basicConfig(\n",
        "    filename=os.path.join(CONFIG.save_dir, 'log.txt'),\n",
        "    format='%(message)s',\n",
        "    level=logging.INFO,\n",
        "    filemode='a'\n",
        ")\n",
        "\n",
        "# Set experiment's device & deterministic behavior\n",
        "if CONFIG.cpu:\n",
        "    CONFIG.device = 'cpu'\n",
        "else:\n",
        "    CONFIG.device = 'cuda' if torch.cuda.is_available() else 'cpu'\n",
        "\n",
        "torch.manual_seed(CONFIG.seed)\n",
        "random.seed(CONFIG.seed)\n",
        "np.random.seed(CONFIG.seed)\n",
        "torch.backends.cudnn.benchmark = True\n",
        "torch.use_deterministic_algorithms(mode=True, warn_only=True)\n",
        "\n",
        "main()"
      ]
    },
    {
      "cell_type": "markdown",
      "metadata": {
        "id": "UaLWSYSqrl_S"
      },
      "source": [
        "#### 2.2.5 - Art Painting &rightarrow; Sketch, mor = 0.55"
      ]
    },
    {
      "cell_type": "code",
      "execution_count": 40,
      "metadata": {
        "colab": {
          "base_uri": "https://localhost:8080/"
        },
        "id": "S1OPF6R0rl_S",
        "outputId": "3d69bef9-9ebf-429f-ad42-f569af867163"
      },
      "outputs": [
        {
          "output_type": "stream",
          "name": "stdout",
          "text": [
            "Namespace(seed=0, test_only=False, cpu=False, experiment='random', experiment_name='2_2_5', experiment_args={'module_placement': ['layer1.0.conv1', 'layer1.0.conv2', 'layer1.1.conv1', 'layer1.1.conv2', 'layer2.0.conv1', 'layer2.0.conv2', 'layer2.1.conv1', 'layer2.1.conv2', 'layer3.0.conv1', 'layer3.0.conv2', 'layer3.1.conv1', 'layer3.1.conv2', 'layer4.0.conv1', 'layer4.0.conv2', 'layer4.1.conv1', 'layer4.1.conv2'], 'mask_out_ratio': 0.55}, dataset_args={'text_root': 'data', 'images_root': 'data/kfold/PACS', 'source_domain': 'art_painting', 'target_domain': 'sketch'}, batch_size=128, epochs=30, num_workers=5, grad_accum_steps=1)\n",
            "mask_out_ratio:  0.55\n",
            "layer_name layer1.0.conv1 random_mask sum():  tensor(90359., device='cuda:0')\n",
            "Insert activation shaping layer after  layer1.0.conv1 Conv2d(64, 64, kernel_size=(3, 3), stride=(1, 1), padding=(1, 1), bias=False)\n",
            "mask_out_ratio:  0.55\n",
            "layer_name layer1.0.conv2 random_mask sum():  tensor(89968., device='cuda:0')\n",
            "Insert activation shaping layer after  layer1.0.conv2 Conv2d(64, 64, kernel_size=(3, 3), stride=(1, 1), padding=(1, 1), bias=False)\n",
            "mask_out_ratio:  0.55\n",
            "layer_name layer1.1.conv1 random_mask sum():  tensor(90140., device='cuda:0')\n",
            "Insert activation shaping layer after  layer1.1.conv1 Conv2d(64, 64, kernel_size=(3, 3), stride=(1, 1), padding=(1, 1), bias=False)\n",
            "mask_out_ratio:  0.55\n",
            "layer_name layer1.1.conv2 random_mask sum():  tensor(90255., device='cuda:0')\n",
            "Insert activation shaping layer after  layer1.1.conv2 Conv2d(64, 64, kernel_size=(3, 3), stride=(1, 1), padding=(1, 1), bias=False)\n",
            "mask_out_ratio:  0.55\n",
            "layer_name layer2.0.conv1 random_mask sum():  tensor(45140., device='cuda:0')\n",
            "Insert activation shaping layer after  layer2.0.conv1 Conv2d(64, 128, kernel_size=(3, 3), stride=(2, 2), padding=(1, 1), bias=False)\n",
            "mask_out_ratio:  0.55\n",
            "layer_name layer2.0.conv2 random_mask sum():  tensor(45026., device='cuda:0')\n",
            "Insert activation shaping layer after  layer2.0.conv2 Conv2d(128, 128, kernel_size=(3, 3), stride=(1, 1), padding=(1, 1), bias=False)\n",
            "mask_out_ratio:  0.55\n",
            "layer_name layer2.1.conv1 random_mask sum():  tensor(45329., device='cuda:0')\n",
            "Insert activation shaping layer after  layer2.1.conv1 Conv2d(128, 128, kernel_size=(3, 3), stride=(1, 1), padding=(1, 1), bias=False)\n",
            "mask_out_ratio:  0.55\n",
            "layer_name layer2.1.conv2 random_mask sum():  tensor(45295., device='cuda:0')\n",
            "Insert activation shaping layer after  layer2.1.conv2 Conv2d(128, 128, kernel_size=(3, 3), stride=(1, 1), padding=(1, 1), bias=False)\n",
            "mask_out_ratio:  0.55\n",
            "layer_name layer3.0.conv1 random_mask sum():  tensor(22551., device='cuda:0')\n",
            "Insert activation shaping layer after  layer3.0.conv1 Conv2d(128, 256, kernel_size=(3, 3), stride=(2, 2), padding=(1, 1), bias=False)\n",
            "mask_out_ratio:  0.55\n",
            "layer_name layer3.0.conv2 random_mask sum():  tensor(22665., device='cuda:0')\n",
            "Insert activation shaping layer after  layer3.0.conv2 Conv2d(256, 256, kernel_size=(3, 3), stride=(1, 1), padding=(1, 1), bias=False)\n",
            "mask_out_ratio:  0.55\n",
            "layer_name layer3.1.conv1 random_mask sum():  tensor(22632., device='cuda:0')\n",
            "Insert activation shaping layer after  layer3.1.conv1 Conv2d(256, 256, kernel_size=(3, 3), stride=(1, 1), padding=(1, 1), bias=False)\n",
            "mask_out_ratio:  0.55\n",
            "layer_name layer3.1.conv2 random_mask sum():  tensor(22568., device='cuda:0')\n",
            "Insert activation shaping layer after  layer3.1.conv2 Conv2d(256, 256, kernel_size=(3, 3), stride=(1, 1), padding=(1, 1), bias=False)\n",
            "mask_out_ratio:  0.55\n",
            "layer_name layer4.0.conv1 random_mask sum():  tensor(11341., device='cuda:0')\n",
            "Insert activation shaping layer after  layer4.0.conv1 Conv2d(256, 512, kernel_size=(3, 3), stride=(2, 2), padding=(1, 1), bias=False)\n",
            "mask_out_ratio:  0.55\n",
            "layer_name layer4.0.conv2 random_mask sum():  tensor(11277., device='cuda:0')\n",
            "Insert activation shaping layer after  layer4.0.conv2 Conv2d(512, 512, kernel_size=(3, 3), stride=(1, 1), padding=(1, 1), bias=False)\n",
            "mask_out_ratio:  0.55\n",
            "layer_name layer4.1.conv1 random_mask sum():  tensor(11321., device='cuda:0')\n",
            "Insert activation shaping layer after  layer4.1.conv1 Conv2d(512, 512, kernel_size=(3, 3), stride=(1, 1), padding=(1, 1), bias=False)\n",
            "mask_out_ratio:  0.55\n",
            "layer_name layer4.1.conv2 random_mask sum():  tensor(11271., device='cuda:0')\n",
            "Insert activation shaping layer after  layer4.1.conv2 Conv2d(512, 512, kernel_size=(3, 3), stride=(1, 1), padding=(1, 1), bias=False)\n"
          ]
        },
        {
          "output_type": "stream",
          "name": "stderr",
          "text": [
            "100%|██████████| 16/16 [00:09<00:00,  1.62it/s]\n",
            "100%|██████████| 31/31 [00:11<00:00,  2.63it/s]\n"
          ]
        },
        {
          "output_type": "stream",
          "name": "stdout",
          "text": [
            "Accuracy: 7.99 - Loss: 0.016820591562241506 \n",
            "\n"
          ]
        },
        {
          "output_type": "stream",
          "name": "stderr",
          "text": [
            "100%|██████████| 16/16 [00:09<00:00,  1.70it/s]\n",
            "100%|██████████| 31/31 [00:11<00:00,  2.58it/s]\n"
          ]
        },
        {
          "output_type": "stream",
          "name": "stdout",
          "text": [
            "Accuracy: 9.44 - Loss: 0.016443704945891223 \n",
            "\n"
          ]
        },
        {
          "output_type": "stream",
          "name": "stderr",
          "text": [
            "100%|██████████| 16/16 [00:09<00:00,  1.60it/s]\n",
            "100%|██████████| 31/31 [00:11<00:00,  2.60it/s]\n"
          ]
        },
        {
          "output_type": "stream",
          "name": "stdout",
          "text": [
            "Accuracy: 7.92 - Loss: 0.016172919755189526 \n",
            "\n"
          ]
        },
        {
          "output_type": "stream",
          "name": "stderr",
          "text": [
            "100%|██████████| 16/16 [00:10<00:00,  1.60it/s]\n",
            "100%|██████████| 31/31 [00:11<00:00,  2.66it/s]\n"
          ]
        },
        {
          "output_type": "stream",
          "name": "stdout",
          "text": [
            "Accuracy: 5.24 - Loss: 0.016562685343896988 \n",
            "\n"
          ]
        },
        {
          "output_type": "stream",
          "name": "stderr",
          "text": [
            "100%|██████████| 16/16 [00:09<00:00,  1.74it/s]\n",
            "100%|██████████| 31/31 [00:12<00:00,  2.56it/s]\n"
          ]
        },
        {
          "output_type": "stream",
          "name": "stdout",
          "text": [
            "Accuracy: 8.32 - Loss: 0.016277571251204857 \n",
            "\n"
          ]
        },
        {
          "output_type": "stream",
          "name": "stderr",
          "text": [
            "100%|██████████| 16/16 [00:09<00:00,  1.61it/s]\n",
            "100%|██████████| 31/31 [00:12<00:00,  2.58it/s]\n"
          ]
        },
        {
          "output_type": "stream",
          "name": "stdout",
          "text": [
            "Accuracy: 7.36 - Loss: 0.016266935076171066 \n",
            "\n"
          ]
        },
        {
          "output_type": "stream",
          "name": "stderr",
          "text": [
            "100%|██████████| 16/16 [00:09<00:00,  1.60it/s]\n",
            "100%|██████████| 31/31 [00:11<00:00,  2.62it/s]\n"
          ]
        },
        {
          "output_type": "stream",
          "name": "stdout",
          "text": [
            "Accuracy: 5.42 - Loss: 0.016434116198471044 \n",
            "\n"
          ]
        },
        {
          "output_type": "stream",
          "name": "stderr",
          "text": [
            "100%|██████████| 16/16 [00:08<00:00,  1.81it/s]\n",
            "100%|██████████| 31/31 [00:12<00:00,  2.58it/s]\n"
          ]
        },
        {
          "output_type": "stream",
          "name": "stdout",
          "text": [
            "Accuracy: 10.64 - Loss: 0.01616018390072973 \n",
            "\n"
          ]
        },
        {
          "output_type": "stream",
          "name": "stderr",
          "text": [
            "100%|██████████| 16/16 [00:10<00:00,  1.60it/s]\n",
            "100%|██████████| 31/31 [00:12<00:00,  2.56it/s]\n"
          ]
        },
        {
          "output_type": "stream",
          "name": "stdout",
          "text": [
            "Accuracy: 6.80 - Loss: 0.016388802438572363 \n",
            "\n"
          ]
        },
        {
          "output_type": "stream",
          "name": "stderr",
          "text": [
            "100%|██████████| 16/16 [00:10<00:00,  1.59it/s]\n",
            "100%|██████████| 31/31 [00:11<00:00,  2.64it/s]\n"
          ]
        },
        {
          "output_type": "stream",
          "name": "stdout",
          "text": [
            "Accuracy: 7.10 - Loss: 0.01623564250113006 \n",
            "\n"
          ]
        },
        {
          "output_type": "stream",
          "name": "stderr",
          "text": [
            "100%|██████████| 16/16 [00:08<00:00,  1.79it/s]\n",
            "100%|██████████| 31/31 [00:11<00:00,  2.60it/s]\n"
          ]
        },
        {
          "output_type": "stream",
          "name": "stdout",
          "text": [
            "Accuracy: 4.94 - Loss: 0.01659276658992908 \n",
            "\n"
          ]
        },
        {
          "output_type": "stream",
          "name": "stderr",
          "text": [
            "100%|██████████| 16/16 [00:09<00:00,  1.60it/s]\n",
            "100%|██████████| 31/31 [00:11<00:00,  2.61it/s]\n"
          ]
        },
        {
          "output_type": "stream",
          "name": "stdout",
          "text": [
            "Accuracy: 7.46 - Loss: 0.016338190100338053 \n",
            "\n"
          ]
        },
        {
          "output_type": "stream",
          "name": "stderr",
          "text": [
            "100%|██████████| 16/16 [00:09<00:00,  1.61it/s]\n",
            "100%|██████████| 31/31 [00:11<00:00,  2.59it/s]\n"
          ]
        },
        {
          "output_type": "stream",
          "name": "stdout",
          "text": [
            "Accuracy: 8.65 - Loss: 0.016286648694235243 \n",
            "\n"
          ]
        },
        {
          "output_type": "stream",
          "name": "stderr",
          "text": [
            "100%|██████████| 16/16 [00:08<00:00,  1.79it/s]\n",
            "100%|██████████| 31/31 [00:11<00:00,  2.60it/s]\n"
          ]
        },
        {
          "output_type": "stream",
          "name": "stdout",
          "text": [
            "Accuracy: 7.53 - Loss: 0.016366414697335917 \n",
            "\n"
          ]
        },
        {
          "output_type": "stream",
          "name": "stderr",
          "text": [
            "100%|██████████| 16/16 [00:09<00:00,  1.61it/s]\n",
            "100%|██████████| 31/31 [00:11<00:00,  2.60it/s]\n"
          ]
        },
        {
          "output_type": "stream",
          "name": "stdout",
          "text": [
            "Accuracy: 8.25 - Loss: 0.01638039522542393 \n",
            "\n"
          ]
        },
        {
          "output_type": "stream",
          "name": "stderr",
          "text": [
            "100%|██████████| 16/16 [00:09<00:00,  1.62it/s]\n",
            "100%|██████████| 31/31 [00:12<00:00,  2.57it/s]\n"
          ]
        },
        {
          "output_type": "stream",
          "name": "stdout",
          "text": [
            "Accuracy: 10.26 - Loss: 0.016189322273796162 \n",
            "\n"
          ]
        },
        {
          "output_type": "stream",
          "name": "stderr",
          "text": [
            "100%|██████████| 16/16 [00:11<00:00,  1.45it/s]\n",
            "100%|██████████| 31/31 [00:11<00:00,  2.78it/s]\n"
          ]
        },
        {
          "output_type": "stream",
          "name": "stdout",
          "text": [
            "Accuracy: 9.01 - Loss: 0.01617839400717914 \n",
            "\n"
          ]
        },
        {
          "output_type": "stream",
          "name": "stderr",
          "text": [
            "100%|██████████| 16/16 [00:09<00:00,  1.73it/s]\n",
            "100%|██████████| 31/31 [00:11<00:00,  2.59it/s]\n"
          ]
        },
        {
          "output_type": "stream",
          "name": "stdout",
          "text": [
            "Accuracy: 7.20 - Loss: 0.01647391617222274 \n",
            "\n"
          ]
        },
        {
          "output_type": "stream",
          "name": "stderr",
          "text": [
            "100%|██████████| 16/16 [00:10<00:00,  1.58it/s]\n",
            "100%|██████████| 31/31 [00:12<00:00,  2.57it/s]\n"
          ]
        },
        {
          "output_type": "stream",
          "name": "stdout",
          "text": [
            "Accuracy: 7.51 - Loss: 0.016200396844102214 \n",
            "\n"
          ]
        },
        {
          "output_type": "stream",
          "name": "stderr",
          "text": [
            "100%|██████████| 16/16 [00:10<00:00,  1.59it/s]\n",
            "100%|██████████| 31/31 [00:11<00:00,  2.68it/s]\n"
          ]
        },
        {
          "output_type": "stream",
          "name": "stdout",
          "text": [
            "Accuracy: 8.68 - Loss: 0.016291454627817902 \n",
            "\n"
          ]
        },
        {
          "output_type": "stream",
          "name": "stderr",
          "text": [
            "100%|██████████| 16/16 [00:08<00:00,  1.78it/s]\n",
            "100%|██████████| 31/31 [00:11<00:00,  2.59it/s]\n"
          ]
        },
        {
          "output_type": "stream",
          "name": "stdout",
          "text": [
            "Accuracy: 9.62 - Loss: 0.01609630677559868 \n",
            "\n"
          ]
        },
        {
          "output_type": "stream",
          "name": "stderr",
          "text": [
            "100%|██████████| 16/16 [00:10<00:00,  1.58it/s]\n",
            "100%|██████████| 31/31 [00:12<00:00,  2.58it/s]\n"
          ]
        },
        {
          "output_type": "stream",
          "name": "stdout",
          "text": [
            "Accuracy: 5.57 - Loss: 0.01631818860807198 \n",
            "\n"
          ]
        },
        {
          "output_type": "stream",
          "name": "stderr",
          "text": [
            "100%|██████████| 16/16 [00:10<00:00,  1.58it/s]\n",
            "100%|██████████| 31/31 [00:12<00:00,  2.55it/s]\n"
          ]
        },
        {
          "output_type": "stream",
          "name": "stdout",
          "text": [
            "Accuracy: 9.62 - Loss: 0.016142121311604262 \n",
            "\n"
          ]
        },
        {
          "output_type": "stream",
          "name": "stderr",
          "text": [
            "100%|██████████| 16/16 [00:08<00:00,  1.79it/s]\n",
            "100%|██████████| 31/31 [00:12<00:00,  2.58it/s]\n"
          ]
        },
        {
          "output_type": "stream",
          "name": "stdout",
          "text": [
            "Accuracy: 5.19 - Loss: 0.016558439563509466 \n",
            "\n"
          ]
        },
        {
          "output_type": "stream",
          "name": "stderr",
          "text": [
            "100%|██████████| 16/16 [00:10<00:00,  1.60it/s]\n",
            "100%|██████████| 31/31 [00:11<00:00,  2.63it/s]\n"
          ]
        },
        {
          "output_type": "stream",
          "name": "stdout",
          "text": [
            "Accuracy: 6.31 - Loss: 0.0164248051003786 \n",
            "\n"
          ]
        },
        {
          "output_type": "stream",
          "name": "stderr",
          "text": [
            "100%|██████████| 16/16 [00:09<00:00,  1.63it/s]\n",
            "100%|██████████| 31/31 [00:11<00:00,  2.59it/s]\n"
          ]
        },
        {
          "output_type": "stream",
          "name": "stdout",
          "text": [
            "Accuracy: 8.60 - Loss: 0.01631375152848094 \n",
            "\n"
          ]
        },
        {
          "output_type": "stream",
          "name": "stderr",
          "text": [
            "100%|██████████| 16/16 [00:08<00:00,  1.78it/s]\n",
            "100%|██████████| 31/31 [00:12<00:00,  2.40it/s]\n"
          ]
        },
        {
          "output_type": "stream",
          "name": "stdout",
          "text": [
            "Accuracy: 6.87 - Loss: 0.016247247672621062 \n",
            "\n"
          ]
        },
        {
          "output_type": "stream",
          "name": "stderr",
          "text": [
            "100%|██████████| 16/16 [00:10<00:00,  1.55it/s]\n",
            "100%|██████████| 31/31 [00:11<00:00,  2.65it/s]\n"
          ]
        },
        {
          "output_type": "stream",
          "name": "stdout",
          "text": [
            "Accuracy: 7.76 - Loss: 0.016265509267531755 \n",
            "\n"
          ]
        },
        {
          "output_type": "stream",
          "name": "stderr",
          "text": [
            "100%|██████████| 16/16 [00:09<00:00,  1.65it/s]\n",
            "100%|██████████| 31/31 [00:11<00:00,  2.62it/s]\n"
          ]
        },
        {
          "output_type": "stream",
          "name": "stdout",
          "text": [
            "Accuracy: 7.74 - Loss: 0.016258066803118327 \n",
            "\n"
          ]
        },
        {
          "output_type": "stream",
          "name": "stderr",
          "text": [
            "100%|██████████| 16/16 [00:08<00:00,  1.82it/s]\n",
            "100%|██████████| 31/31 [00:11<00:00,  2.69it/s]\n"
          ]
        },
        {
          "output_type": "stream",
          "name": "stdout",
          "text": [
            "Accuracy: 7.56 - Loss: 0.01622133753808833 \n",
            "\n"
          ]
        }
      ],
      "source": [
        "warnings.filterwarnings('ignore', category=UserWarning)\n",
        "\n",
        "# Parse arguments\n",
        "conf = { # Art Painting -> Sketch\n",
        "    'seed': 0,\n",
        "    'test_only': False,\n",
        "    'cpu': False,\n",
        "    'experiment': 'random',\n",
        "    'experiment_name': '2_2_5',\n",
        "    'experiment_args': {'module_placement': ['layer1.0.conv1', 'layer1.0.conv2', 'layer1.1.conv1', 'layer1.1.conv2', 'layer2.0.conv1', 'layer2.0.conv2', 'layer2.1.conv1', 'layer2.1.conv2', 'layer3.0.conv1', 'layer3.0.conv2', 'layer3.1.conv1', 'layer3.1.conv2', 'layer4.0.conv1', 'layer4.0.conv2', 'layer4.1.conv1', 'layer4.1.conv2'], 'mask_out_ratio': 0.55},\n",
        "    'dataset_args': {'text_root': 'data', 'images_root': 'data/kfold/PACS', 'source_domain': 'art_painting', 'target_domain': 'sketch' },\n",
        "    'batch_size': 128,\n",
        "    'epochs': 30,\n",
        "    'num_workers': 5,\n",
        "    'grad_accum_steps': 1\n",
        "}\n",
        "\n",
        "#args = parse_arguments()\n",
        "args = argparse.Namespace(**conf)\n",
        "print(args)\n",
        "CONFIG.update(vars(args))\n",
        "\n",
        "# Setup output directory\n",
        "CONFIG.save_dir = os.path.join('record', CONFIG.experiment_name)\n",
        "os.makedirs(CONFIG.save_dir, exist_ok=True)\n",
        "\n",
        "# Setup logging\n",
        "logging.basicConfig(\n",
        "    filename=os.path.join(CONFIG.save_dir, 'log.txt'),\n",
        "    format='%(message)s',\n",
        "    level=logging.INFO,\n",
        "    filemode='a'\n",
        ")\n",
        "\n",
        "# Set experiment's device & deterministic behavior\n",
        "if CONFIG.cpu:\n",
        "    CONFIG.device = 'cpu'\n",
        "else:\n",
        "    CONFIG.device = 'cuda' if torch.cuda.is_available() else 'cpu'\n",
        "\n",
        "torch.manual_seed(CONFIG.seed)\n",
        "random.seed(CONFIG.seed)\n",
        "np.random.seed(CONFIG.seed)\n",
        "torch.backends.cudnn.benchmark = True\n",
        "torch.use_deterministic_algorithms(mode=True, warn_only=True)\n",
        "\n",
        "main()"
      ]
    },
    {
      "cell_type": "markdown",
      "metadata": {
        "id": "LYIOlejBrl_S"
      },
      "source": [
        "#### 2.2.6 - Art Painting &rightarrow; Photo, mor = 0.55"
      ]
    },
    {
      "cell_type": "code",
      "execution_count": 41,
      "metadata": {
        "colab": {
          "base_uri": "https://localhost:8080/"
        },
        "id": "nHIzPDeorl_S",
        "outputId": "39bd1b70-6e63-4a38-a099-b63e33891e41"
      },
      "outputs": [
        {
          "output_type": "stream",
          "name": "stdout",
          "text": [
            "Namespace(seed=0, test_only=False, cpu=False, experiment='random', experiment_name='2_2_6', experiment_args={'module_placement': ['layer1.0.conv1', 'layer1.0.conv2', 'layer1.1.conv1', 'layer1.1.conv2', 'layer2.0.conv1', 'layer2.0.conv2', 'layer2.1.conv1', 'layer2.1.conv2', 'layer3.0.conv1', 'layer3.0.conv2', 'layer3.1.conv1', 'layer3.1.conv2', 'layer4.0.conv1', 'layer4.0.conv2', 'layer4.1.conv1', 'layer4.1.conv2'], 'mask_out_ratio': 0.55}, dataset_args={'text_root': 'data', 'images_root': 'data/kfold/PACS', 'source_domain': 'art_painting', 'target_domain': 'photo'}, batch_size=128, epochs=30, num_workers=5, grad_accum_steps=1)\n",
            "mask_out_ratio:  0.55\n",
            "layer_name layer1.0.conv1 random_mask sum():  tensor(90359., device='cuda:0')\n",
            "Insert activation shaping layer after  layer1.0.conv1 Conv2d(64, 64, kernel_size=(3, 3), stride=(1, 1), padding=(1, 1), bias=False)\n",
            "mask_out_ratio:  0.55\n",
            "layer_name layer1.0.conv2 random_mask sum():  tensor(89968., device='cuda:0')\n",
            "Insert activation shaping layer after  layer1.0.conv2 Conv2d(64, 64, kernel_size=(3, 3), stride=(1, 1), padding=(1, 1), bias=False)\n",
            "mask_out_ratio:  0.55\n",
            "layer_name layer1.1.conv1 random_mask sum():  tensor(90140., device='cuda:0')\n",
            "Insert activation shaping layer after  layer1.1.conv1 Conv2d(64, 64, kernel_size=(3, 3), stride=(1, 1), padding=(1, 1), bias=False)\n",
            "mask_out_ratio:  0.55\n",
            "layer_name layer1.1.conv2 random_mask sum():  tensor(90255., device='cuda:0')\n",
            "Insert activation shaping layer after  layer1.1.conv2 Conv2d(64, 64, kernel_size=(3, 3), stride=(1, 1), padding=(1, 1), bias=False)\n",
            "mask_out_ratio:  0.55\n",
            "layer_name layer2.0.conv1 random_mask sum():  tensor(45140., device='cuda:0')\n",
            "Insert activation shaping layer after  layer2.0.conv1 Conv2d(64, 128, kernel_size=(3, 3), stride=(2, 2), padding=(1, 1), bias=False)\n",
            "mask_out_ratio:  0.55\n",
            "layer_name layer2.0.conv2 random_mask sum():  tensor(45026., device='cuda:0')\n",
            "Insert activation shaping layer after  layer2.0.conv2 Conv2d(128, 128, kernel_size=(3, 3), stride=(1, 1), padding=(1, 1), bias=False)\n",
            "mask_out_ratio:  0.55\n",
            "layer_name layer2.1.conv1 random_mask sum():  tensor(45329., device='cuda:0')\n",
            "Insert activation shaping layer after  layer2.1.conv1 Conv2d(128, 128, kernel_size=(3, 3), stride=(1, 1), padding=(1, 1), bias=False)\n",
            "mask_out_ratio:  0.55\n",
            "layer_name layer2.1.conv2 random_mask sum():  tensor(45295., device='cuda:0')\n",
            "Insert activation shaping layer after  layer2.1.conv2 Conv2d(128, 128, kernel_size=(3, 3), stride=(1, 1), padding=(1, 1), bias=False)\n",
            "mask_out_ratio:  0.55\n",
            "layer_name layer3.0.conv1 random_mask sum():  tensor(22551., device='cuda:0')\n",
            "Insert activation shaping layer after  layer3.0.conv1 Conv2d(128, 256, kernel_size=(3, 3), stride=(2, 2), padding=(1, 1), bias=False)\n",
            "mask_out_ratio:  0.55\n",
            "layer_name layer3.0.conv2 random_mask sum():  tensor(22665., device='cuda:0')\n",
            "Insert activation shaping layer after  layer3.0.conv2 Conv2d(256, 256, kernel_size=(3, 3), stride=(1, 1), padding=(1, 1), bias=False)\n",
            "mask_out_ratio:  0.55\n",
            "layer_name layer3.1.conv1 random_mask sum():  tensor(22632., device='cuda:0')\n",
            "Insert activation shaping layer after  layer3.1.conv1 Conv2d(256, 256, kernel_size=(3, 3), stride=(1, 1), padding=(1, 1), bias=False)\n",
            "mask_out_ratio:  0.55\n",
            "layer_name layer3.1.conv2 random_mask sum():  tensor(22568., device='cuda:0')\n",
            "Insert activation shaping layer after  layer3.1.conv2 Conv2d(256, 256, kernel_size=(3, 3), stride=(1, 1), padding=(1, 1), bias=False)\n",
            "mask_out_ratio:  0.55\n",
            "layer_name layer4.0.conv1 random_mask sum():  tensor(11341., device='cuda:0')\n",
            "Insert activation shaping layer after  layer4.0.conv1 Conv2d(256, 512, kernel_size=(3, 3), stride=(2, 2), padding=(1, 1), bias=False)\n",
            "mask_out_ratio:  0.55\n",
            "layer_name layer4.0.conv2 random_mask sum():  tensor(11277., device='cuda:0')\n",
            "Insert activation shaping layer after  layer4.0.conv2 Conv2d(512, 512, kernel_size=(3, 3), stride=(1, 1), padding=(1, 1), bias=False)\n",
            "mask_out_ratio:  0.55\n",
            "layer_name layer4.1.conv1 random_mask sum():  tensor(11321., device='cuda:0')\n",
            "Insert activation shaping layer after  layer4.1.conv1 Conv2d(512, 512, kernel_size=(3, 3), stride=(1, 1), padding=(1, 1), bias=False)\n",
            "mask_out_ratio:  0.55\n",
            "layer_name layer4.1.conv2 random_mask sum():  tensor(11271., device='cuda:0')\n",
            "Insert activation shaping layer after  layer4.1.conv2 Conv2d(512, 512, kernel_size=(3, 3), stride=(1, 1), padding=(1, 1), bias=False)\n"
          ]
        },
        {
          "output_type": "stream",
          "name": "stderr",
          "text": [
            "100%|██████████| 16/16 [00:10<00:00,  1.59it/s]\n",
            "100%|██████████| 14/14 [00:06<00:00,  2.27it/s]\n"
          ]
        },
        {
          "output_type": "stream",
          "name": "stdout",
          "text": [
            "Accuracy: 16.95 - Loss: 0.016187813253459818 \n",
            "\n"
          ]
        },
        {
          "output_type": "stream",
          "name": "stderr",
          "text": [
            "100%|██████████| 16/16 [00:08<00:00,  1.84it/s]\n",
            "100%|██████████| 14/14 [00:05<00:00,  2.35it/s]\n"
          ]
        },
        {
          "output_type": "stream",
          "name": "stdout",
          "text": [
            "Accuracy: 18.80 - Loss: 0.01611877108762364 \n",
            "\n"
          ]
        },
        {
          "output_type": "stream",
          "name": "stderr",
          "text": [
            "100%|██████████| 16/16 [00:09<00:00,  1.78it/s]\n",
            "100%|██████████| 14/14 [00:05<00:00,  2.59it/s]\n"
          ]
        },
        {
          "output_type": "stream",
          "name": "stdout",
          "text": [
            "Accuracy: 20.48 - Loss: 0.016024134615938105 \n",
            "\n"
          ]
        },
        {
          "output_type": "stream",
          "name": "stderr",
          "text": [
            "100%|██████████| 16/16 [00:09<00:00,  1.65it/s]\n",
            "100%|██████████| 14/14 [00:04<00:00,  2.89it/s]\n"
          ]
        },
        {
          "output_type": "stream",
          "name": "stdout",
          "text": [
            "Accuracy: 24.19 - Loss: 0.01588266188513019 \n",
            "\n"
          ]
        },
        {
          "output_type": "stream",
          "name": "stderr",
          "text": [
            "100%|██████████| 16/16 [00:09<00:00,  1.64it/s]\n",
            "100%|██████████| 14/14 [00:04<00:00,  2.85it/s]\n"
          ]
        },
        {
          "output_type": "stream",
          "name": "stdout",
          "text": [
            "Accuracy: 21.68 - Loss: 0.01606022419329889 \n",
            "\n"
          ]
        },
        {
          "output_type": "stream",
          "name": "stderr",
          "text": [
            "100%|██████████| 16/16 [00:09<00:00,  1.66it/s]\n",
            "100%|██████████| 14/14 [00:04<00:00,  2.91it/s]\n"
          ]
        },
        {
          "output_type": "stream",
          "name": "stdout",
          "text": [
            "Accuracy: 21.38 - Loss: 0.016095596587586546 \n",
            "\n"
          ]
        },
        {
          "output_type": "stream",
          "name": "stderr",
          "text": [
            "100%|██████████| 16/16 [00:09<00:00,  1.66it/s]\n",
            "100%|██████████| 14/14 [00:05<00:00,  2.72it/s]\n"
          ]
        },
        {
          "output_type": "stream",
          "name": "stdout",
          "text": [
            "Accuracy: 23.11 - Loss: 0.01588161412827269 \n",
            "\n"
          ]
        },
        {
          "output_type": "stream",
          "name": "stderr",
          "text": [
            "100%|██████████| 16/16 [00:09<00:00,  1.75it/s]\n",
            "100%|██████████| 14/14 [00:05<00:00,  2.40it/s]\n"
          ]
        },
        {
          "output_type": "stream",
          "name": "stdout",
          "text": [
            "Accuracy: 17.31 - Loss: 0.016091509279376734 \n",
            "\n"
          ]
        },
        {
          "output_type": "stream",
          "name": "stderr",
          "text": [
            "100%|██████████| 16/16 [00:08<00:00,  1.87it/s]\n",
            "100%|██████████| 14/14 [00:05<00:00,  2.40it/s]\n"
          ]
        },
        {
          "output_type": "stream",
          "name": "stdout",
          "text": [
            "Accuracy: 22.16 - Loss: 0.01590768812659258 \n",
            "\n"
          ]
        },
        {
          "output_type": "stream",
          "name": "stderr",
          "text": [
            "100%|██████████| 16/16 [00:08<00:00,  1.83it/s]\n",
            "100%|██████████| 14/14 [00:05<00:00,  2.51it/s]\n"
          ]
        },
        {
          "output_type": "stream",
          "name": "stdout",
          "text": [
            "Accuracy: 21.80 - Loss: 0.016067782062256408 \n",
            "\n"
          ]
        },
        {
          "output_type": "stream",
          "name": "stderr",
          "text": [
            "100%|██████████| 16/16 [00:09<00:00,  1.68it/s]\n",
            "100%|██████████| 14/14 [00:04<00:00,  2.89it/s]\n"
          ]
        },
        {
          "output_type": "stream",
          "name": "stdout",
          "text": [
            "Accuracy: 24.61 - Loss: 0.01585700818878448 \n",
            "\n"
          ]
        },
        {
          "output_type": "stream",
          "name": "stderr",
          "text": [
            "100%|██████████| 16/16 [00:09<00:00,  1.67it/s]\n",
            "100%|██████████| 14/14 [00:04<00:00,  2.87it/s]\n"
          ]
        },
        {
          "output_type": "stream",
          "name": "stdout",
          "text": [
            "Accuracy: 22.57 - Loss: 0.015962318246236104 \n",
            "\n"
          ]
        },
        {
          "output_type": "stream",
          "name": "stderr",
          "text": [
            "100%|██████████| 16/16 [00:09<00:00,  1.65it/s]\n",
            "100%|██████████| 14/14 [00:04<00:00,  2.86it/s]\n"
          ]
        },
        {
          "output_type": "stream",
          "name": "stdout",
          "text": [
            "Accuracy: 20.36 - Loss: 0.01604466238421594 \n",
            "\n"
          ]
        },
        {
          "output_type": "stream",
          "name": "stderr",
          "text": [
            "100%|██████████| 16/16 [00:09<00:00,  1.65it/s]\n",
            "100%|██████████| 14/14 [00:04<00:00,  2.85it/s]\n"
          ]
        },
        {
          "output_type": "stream",
          "name": "stdout",
          "text": [
            "Accuracy: 21.26 - Loss: 0.015997766734597213 \n",
            "\n"
          ]
        },
        {
          "output_type": "stream",
          "name": "stderr",
          "text": [
            "100%|██████████| 16/16 [00:09<00:00,  1.68it/s]\n",
            "100%|██████████| 14/14 [00:05<00:00,  2.41it/s]\n"
          ]
        },
        {
          "output_type": "stream",
          "name": "stdout",
          "text": [
            "Accuracy: 19.46 - Loss: 0.016073833753962718 \n",
            "\n"
          ]
        },
        {
          "output_type": "stream",
          "name": "stderr",
          "text": [
            "100%|██████████| 16/16 [00:08<00:00,  1.84it/s]\n",
            "100%|██████████| 14/14 [00:05<00:00,  2.36it/s]\n"
          ]
        },
        {
          "output_type": "stream",
          "name": "stdout",
          "text": [
            "Accuracy: 17.84 - Loss: 0.01607797281470841 \n",
            "\n"
          ]
        },
        {
          "output_type": "stream",
          "name": "stderr",
          "text": [
            "100%|██████████| 16/16 [00:08<00:00,  1.81it/s]\n",
            "100%|██████████| 14/14 [00:05<00:00,  2.54it/s]\n"
          ]
        },
        {
          "output_type": "stream",
          "name": "stdout",
          "text": [
            "Accuracy: 22.99 - Loss: 0.015961433456329527 \n",
            "\n"
          ]
        },
        {
          "output_type": "stream",
          "name": "stderr",
          "text": [
            "100%|██████████| 16/16 [00:09<00:00,  1.66it/s]\n",
            "100%|██████████| 14/14 [00:04<00:00,  2.84it/s]\n"
          ]
        },
        {
          "output_type": "stream",
          "name": "stdout",
          "text": [
            "Accuracy: 21.92 - Loss: 0.015966499922518244 \n",
            "\n"
          ]
        },
        {
          "output_type": "stream",
          "name": "stderr",
          "text": [
            "100%|██████████| 16/16 [00:09<00:00,  1.66it/s]\n",
            "100%|██████████| 14/14 [00:04<00:00,  2.88it/s]\n"
          ]
        },
        {
          "output_type": "stream",
          "name": "stdout",
          "text": [
            "Accuracy: 23.23 - Loss: 0.015896504439279705 \n",
            "\n"
          ]
        },
        {
          "output_type": "stream",
          "name": "stderr",
          "text": [
            "100%|██████████| 16/16 [00:09<00:00,  1.67it/s]\n",
            "100%|██████████| 14/14 [00:04<00:00,  2.88it/s]\n"
          ]
        },
        {
          "output_type": "stream",
          "name": "stdout",
          "text": [
            "Accuracy: 20.48 - Loss: 0.01609529656564404 \n",
            "\n"
          ]
        },
        {
          "output_type": "stream",
          "name": "stderr",
          "text": [
            "100%|██████████| 16/16 [00:09<00:00,  1.68it/s]\n",
            "100%|██████████| 14/14 [00:04<00:00,  2.88it/s]\n"
          ]
        },
        {
          "output_type": "stream",
          "name": "stdout",
          "text": [
            "Accuracy: 20.36 - Loss: 0.016063888130073777 \n",
            "\n"
          ]
        },
        {
          "output_type": "stream",
          "name": "stderr",
          "text": [
            "100%|██████████| 16/16 [00:09<00:00,  1.71it/s]\n",
            "100%|██████████| 14/14 [00:05<00:00,  2.38it/s]\n"
          ]
        },
        {
          "output_type": "stream",
          "name": "stdout",
          "text": [
            "Accuracy: 24.01 - Loss: 0.01589554348391687 \n",
            "\n"
          ]
        },
        {
          "output_type": "stream",
          "name": "stderr",
          "text": [
            "100%|██████████| 16/16 [00:08<00:00,  1.87it/s]\n",
            "100%|██████████| 14/14 [00:05<00:00,  2.36it/s]\n"
          ]
        },
        {
          "output_type": "stream",
          "name": "stdout",
          "text": [
            "Accuracy: 20.48 - Loss: 0.016040725836496867 \n",
            "\n"
          ]
        },
        {
          "output_type": "stream",
          "name": "stderr",
          "text": [
            "100%|██████████| 16/16 [00:08<00:00,  1.84it/s]\n",
            "100%|██████████| 14/14 [00:05<00:00,  2.49it/s]\n"
          ]
        },
        {
          "output_type": "stream",
          "name": "stdout",
          "text": [
            "Accuracy: 24.55 - Loss: 0.015830682994362837 \n",
            "\n"
          ]
        },
        {
          "output_type": "stream",
          "name": "stderr",
          "text": [
            "100%|██████████| 16/16 [00:09<00:00,  1.68it/s]\n",
            "100%|██████████| 14/14 [00:04<00:00,  2.91it/s]\n"
          ]
        },
        {
          "output_type": "stream",
          "name": "stdout",
          "text": [
            "Accuracy: 22.99 - Loss: 0.015951364482948167 \n",
            "\n"
          ]
        },
        {
          "output_type": "stream",
          "name": "stderr",
          "text": [
            "100%|██████████| 16/16 [00:09<00:00,  1.67it/s]\n",
            "100%|██████████| 14/14 [00:04<00:00,  2.87it/s]\n"
          ]
        },
        {
          "output_type": "stream",
          "name": "stdout",
          "text": [
            "Accuracy: 22.34 - Loss: 0.015988501817166448 \n",
            "\n"
          ]
        },
        {
          "output_type": "stream",
          "name": "stderr",
          "text": [
            "100%|██████████| 16/16 [00:09<00:00,  1.64it/s]\n",
            "100%|██████████| 14/14 [00:04<00:00,  2.81it/s]\n"
          ]
        },
        {
          "output_type": "stream",
          "name": "stdout",
          "text": [
            "Accuracy: 23.65 - Loss: 0.015913931695287098 \n",
            "\n"
          ]
        },
        {
          "output_type": "stream",
          "name": "stderr",
          "text": [
            "100%|██████████| 16/16 [00:09<00:00,  1.65it/s]\n",
            "100%|██████████| 14/14 [00:04<00:00,  2.81it/s]\n"
          ]
        },
        {
          "output_type": "stream",
          "name": "stdout",
          "text": [
            "Accuracy: 22.10 - Loss: 0.01595067463949055 \n",
            "\n"
          ]
        },
        {
          "output_type": "stream",
          "name": "stderr",
          "text": [
            "100%|██████████| 16/16 [00:09<00:00,  1.68it/s]\n",
            "100%|██████████| 14/14 [00:05<00:00,  2.35it/s]\n"
          ]
        },
        {
          "output_type": "stream",
          "name": "stdout",
          "text": [
            "Accuracy: 19.94 - Loss: 0.016045661386615503 \n",
            "\n"
          ]
        },
        {
          "output_type": "stream",
          "name": "stderr",
          "text": [
            "100%|██████████| 16/16 [00:08<00:00,  1.85it/s]\n",
            "100%|██████████| 14/14 [00:05<00:00,  2.37it/s]\n"
          ]
        },
        {
          "output_type": "stream",
          "name": "stdout",
          "text": [
            "Accuracy: 23.89 - Loss: 0.01588546994203579 \n",
            "\n"
          ]
        }
      ],
      "source": [
        "warnings.filterwarnings('ignore', category=UserWarning)\n",
        "\n",
        "# Parse arguments\n",
        "conf = { # Art Painting -> Photo\n",
        "    'seed': 0,\n",
        "    'test_only': False,\n",
        "    'cpu': False,\n",
        "    'experiment': 'random',\n",
        "    'experiment_name': '2_2_6',\n",
        "    'experiment_args': {'module_placement': ['layer1.0.conv1', 'layer1.0.conv2', 'layer1.1.conv1', 'layer1.1.conv2', 'layer2.0.conv1', 'layer2.0.conv2', 'layer2.1.conv1', 'layer2.1.conv2', 'layer3.0.conv1', 'layer3.0.conv2', 'layer3.1.conv1', 'layer3.1.conv2', 'layer4.0.conv1', 'layer4.0.conv2', 'layer4.1.conv1', 'layer4.1.conv2'], 'mask_out_ratio': 0.55},\n",
        "    'dataset_args': {'text_root': 'data', 'images_root': 'data/kfold/PACS', 'source_domain': 'art_painting', 'target_domain': 'photo' },\n",
        "    'batch_size': 128,\n",
        "    'epochs': 30,\n",
        "    'num_workers': 5,\n",
        "    'grad_accum_steps': 1\n",
        "}\n",
        "\n",
        "#args = parse_arguments()\n",
        "args = argparse.Namespace(**conf)\n",
        "print(args)\n",
        "CONFIG.update(vars(args))\n",
        "\n",
        "# Setup output directory\n",
        "CONFIG.save_dir = os.path.join('record', CONFIG.experiment_name)\n",
        "os.makedirs(CONFIG.save_dir, exist_ok=True)\n",
        "\n",
        "# Setup logging\n",
        "logging.basicConfig(\n",
        "    filename=os.path.join(CONFIG.save_dir, 'log.txt'),\n",
        "    format='%(message)s',\n",
        "    level=logging.INFO,\n",
        "    filemode='a'\n",
        ")\n",
        "\n",
        "# Set experiment's device & deterministic behavior\n",
        "if CONFIG.cpu:\n",
        "    CONFIG.device = 'cpu'\n",
        "else:\n",
        "    CONFIG.device = 'cuda' if torch.cuda.is_available() else 'cpu'\n",
        "\n",
        "torch.manual_seed(CONFIG.seed)\n",
        "random.seed(CONFIG.seed)\n",
        "np.random.seed(CONFIG.seed)\n",
        "torch.backends.cudnn.benchmark = True\n",
        "torch.use_deterministic_algorithms(mode=True, warn_only=True)\n",
        "\n",
        "main()"
      ]
    },
    {
      "cell_type": "markdown",
      "metadata": {
        "id": "YxBt-6nvrl_T"
      },
      "source": [
        "#### 2.2.7 - Art Painting &rightarrow; Cartoon, mor = 0.75"
      ]
    },
    {
      "cell_type": "code",
      "execution_count": 42,
      "metadata": {
        "colab": {
          "base_uri": "https://localhost:8080/"
        },
        "id": "OYuzsAXDrl_T",
        "outputId": "081f0be8-b3ad-4373-93ab-9249348a4bbc"
      },
      "outputs": [
        {
          "output_type": "stream",
          "name": "stdout",
          "text": [
            "Namespace(seed=0, test_only=False, cpu=False, experiment='random', experiment_name='2_2_7', experiment_args={'module_placement': ['layer1.0.conv1', 'layer1.0.conv2', 'layer1.1.conv1', 'layer1.1.conv2', 'layer2.0.conv1', 'layer2.0.conv2', 'layer2.1.conv1', 'layer2.1.conv2', 'layer3.0.conv1', 'layer3.0.conv2', 'layer3.1.conv1', 'layer3.1.conv2', 'layer4.0.conv1', 'layer4.0.conv2', 'layer4.1.conv1', 'layer4.1.conv2'], 'mask_out_ratio': 0.75}, dataset_args={'text_root': 'data', 'images_root': 'data/kfold/PACS', 'source_domain': 'art_painting', 'target_domain': 'cartoon'}, batch_size=128, epochs=30, num_workers=5, grad_accum_steps=1)\n",
            "mask_out_ratio:  0.75\n",
            "layer_name layer1.0.conv1 random_mask sum():  tensor(50272., device='cuda:0')\n",
            "Insert activation shaping layer after  layer1.0.conv1 Conv2d(64, 64, kernel_size=(3, 3), stride=(1, 1), padding=(1, 1), bias=False)\n",
            "mask_out_ratio:  0.75\n",
            "layer_name layer1.0.conv2 random_mask sum():  tensor(50075., device='cuda:0')\n",
            "Insert activation shaping layer after  layer1.0.conv2 Conv2d(64, 64, kernel_size=(3, 3), stride=(1, 1), padding=(1, 1), bias=False)\n",
            "mask_out_ratio:  0.75\n",
            "layer_name layer1.1.conv1 random_mask sum():  tensor(50282., device='cuda:0')\n",
            "Insert activation shaping layer after  layer1.1.conv1 Conv2d(64, 64, kernel_size=(3, 3), stride=(1, 1), padding=(1, 1), bias=False)\n",
            "mask_out_ratio:  0.75\n",
            "layer_name layer1.1.conv2 random_mask sum():  tensor(50193., device='cuda:0')\n",
            "Insert activation shaping layer after  layer1.1.conv2 Conv2d(64, 64, kernel_size=(3, 3), stride=(1, 1), padding=(1, 1), bias=False)\n",
            "mask_out_ratio:  0.75\n",
            "layer_name layer2.0.conv1 random_mask sum():  tensor(24925., device='cuda:0')\n",
            "Insert activation shaping layer after  layer2.0.conv1 Conv2d(64, 128, kernel_size=(3, 3), stride=(2, 2), padding=(1, 1), bias=False)\n",
            "mask_out_ratio:  0.75\n",
            "layer_name layer2.0.conv2 random_mask sum():  tensor(24921., device='cuda:0')\n",
            "Insert activation shaping layer after  layer2.0.conv2 Conv2d(128, 128, kernel_size=(3, 3), stride=(1, 1), padding=(1, 1), bias=False)\n",
            "mask_out_ratio:  0.75\n",
            "layer_name layer2.1.conv1 random_mask sum():  tensor(25286., device='cuda:0')\n",
            "Insert activation shaping layer after  layer2.1.conv1 Conv2d(128, 128, kernel_size=(3, 3), stride=(1, 1), padding=(1, 1), bias=False)\n",
            "mask_out_ratio:  0.75\n",
            "layer_name layer2.1.conv2 random_mask sum():  tensor(25218., device='cuda:0')\n",
            "Insert activation shaping layer after  layer2.1.conv2 Conv2d(128, 128, kernel_size=(3, 3), stride=(1, 1), padding=(1, 1), bias=False)\n",
            "mask_out_ratio:  0.75\n",
            "layer_name layer3.0.conv1 random_mask sum():  tensor(12459., device='cuda:0')\n",
            "Insert activation shaping layer after  layer3.0.conv1 Conv2d(128, 256, kernel_size=(3, 3), stride=(2, 2), padding=(1, 1), bias=False)\n",
            "mask_out_ratio:  0.75\n",
            "layer_name layer3.0.conv2 random_mask sum():  tensor(12583., device='cuda:0')\n",
            "Insert activation shaping layer after  layer3.0.conv2 Conv2d(256, 256, kernel_size=(3, 3), stride=(1, 1), padding=(1, 1), bias=False)\n",
            "mask_out_ratio:  0.75\n",
            "layer_name layer3.1.conv1 random_mask sum():  tensor(12617., device='cuda:0')\n",
            "Insert activation shaping layer after  layer3.1.conv1 Conv2d(256, 256, kernel_size=(3, 3), stride=(1, 1), padding=(1, 1), bias=False)\n",
            "mask_out_ratio:  0.75\n",
            "layer_name layer3.1.conv2 random_mask sum():  tensor(12535., device='cuda:0')\n",
            "Insert activation shaping layer after  layer3.1.conv2 Conv2d(256, 256, kernel_size=(3, 3), stride=(1, 1), padding=(1, 1), bias=False)\n",
            "mask_out_ratio:  0.75\n",
            "layer_name layer4.0.conv1 random_mask sum():  tensor(6358., device='cuda:0')\n",
            "Insert activation shaping layer after  layer4.0.conv1 Conv2d(256, 512, kernel_size=(3, 3), stride=(2, 2), padding=(1, 1), bias=False)\n",
            "mask_out_ratio:  0.75\n",
            "layer_name layer4.0.conv2 random_mask sum():  tensor(6331., device='cuda:0')\n",
            "Insert activation shaping layer after  layer4.0.conv2 Conv2d(512, 512, kernel_size=(3, 3), stride=(1, 1), padding=(1, 1), bias=False)\n",
            "mask_out_ratio:  0.75\n",
            "layer_name layer4.1.conv1 random_mask sum():  tensor(6368., device='cuda:0')\n",
            "Insert activation shaping layer after  layer4.1.conv1 Conv2d(512, 512, kernel_size=(3, 3), stride=(1, 1), padding=(1, 1), bias=False)\n",
            "mask_out_ratio:  0.75\n",
            "layer_name layer4.1.conv2 random_mask sum():  tensor(6197., device='cuda:0')\n",
            "Insert activation shaping layer after  layer4.1.conv2 Conv2d(512, 512, kernel_size=(3, 3), stride=(1, 1), padding=(1, 1), bias=False)\n"
          ]
        },
        {
          "output_type": "stream",
          "name": "stderr",
          "text": [
            "100%|██████████| 16/16 [00:10<00:00,  1.55it/s]\n",
            "100%|██████████| 19/19 [00:06<00:00,  2.76it/s]\n"
          ]
        },
        {
          "output_type": "stream",
          "name": "stdout",
          "text": [
            "Accuracy: 16.94 - Loss: 0.015713018616311785 \n",
            "\n"
          ]
        },
        {
          "output_type": "stream",
          "name": "stderr",
          "text": [
            "100%|██████████| 16/16 [00:09<00:00,  1.64it/s]\n",
            "100%|██████████| 19/19 [00:06<00:00,  2.72it/s]\n"
          ]
        },
        {
          "output_type": "stream",
          "name": "stdout",
          "text": [
            "Accuracy: 16.08 - Loss: 0.015664543308088804 \n",
            "\n"
          ]
        },
        {
          "output_type": "stream",
          "name": "stderr",
          "text": [
            "100%|██████████| 16/16 [00:09<00:00,  1.74it/s]\n",
            "100%|██████████| 19/19 [00:07<00:00,  2.58it/s]\n"
          ]
        },
        {
          "output_type": "stream",
          "name": "stdout",
          "text": [
            "Accuracy: 17.58 - Loss: 0.01564158936612842 \n",
            "\n"
          ]
        },
        {
          "output_type": "stream",
          "name": "stderr",
          "text": [
            "100%|██████████| 16/16 [00:09<00:00,  1.76it/s]\n",
            "100%|██████████| 19/19 [00:06<00:00,  2.78it/s]\n"
          ]
        },
        {
          "output_type": "stream",
          "name": "stdout",
          "text": [
            "Accuracy: 16.42 - Loss: 0.01568224517558622 \n",
            "\n"
          ]
        },
        {
          "output_type": "stream",
          "name": "stderr",
          "text": [
            "100%|██████████| 16/16 [00:09<00:00,  1.66it/s]\n",
            "100%|██████████| 19/19 [00:06<00:00,  3.03it/s]\n"
          ]
        },
        {
          "output_type": "stream",
          "name": "stdout",
          "text": [
            "Accuracy: 16.60 - Loss: 0.015712107916333977 \n",
            "\n"
          ]
        },
        {
          "output_type": "stream",
          "name": "stderr",
          "text": [
            "100%|██████████| 16/16 [00:09<00:00,  1.63it/s]\n",
            "100%|██████████| 19/19 [00:08<00:00,  2.14it/s]\n"
          ]
        },
        {
          "output_type": "stream",
          "name": "stdout",
          "text": [
            "Accuracy: 16.94 - Loss: 0.015640987216816015 \n",
            "\n"
          ]
        },
        {
          "output_type": "stream",
          "name": "stderr",
          "text": [
            "100%|██████████| 16/16 [00:08<00:00,  1.83it/s]\n",
            "100%|██████████| 19/19 [00:07<00:00,  2.57it/s]\n"
          ]
        },
        {
          "output_type": "stream",
          "name": "stdout",
          "text": [
            "Accuracy: 16.77 - Loss: 0.015639286246722877 \n",
            "\n"
          ]
        },
        {
          "output_type": "stream",
          "name": "stderr",
          "text": [
            "100%|██████████| 16/16 [00:09<00:00,  1.67it/s]\n",
            "100%|██████████| 19/19 [00:06<00:00,  3.05it/s]\n"
          ]
        },
        {
          "output_type": "stream",
          "name": "stdout",
          "text": [
            "Accuracy: 18.00 - Loss: 0.015624809895766065 \n",
            "\n"
          ]
        },
        {
          "output_type": "stream",
          "name": "stderr",
          "text": [
            "100%|██████████| 16/16 [00:09<00:00,  1.65it/s]\n",
            "100%|██████████| 19/19 [00:06<00:00,  3.06it/s]\n"
          ]
        },
        {
          "output_type": "stream",
          "name": "stdout",
          "text": [
            "Accuracy: 17.19 - Loss: 0.015639805041075566 \n",
            "\n"
          ]
        },
        {
          "output_type": "stream",
          "name": "stderr",
          "text": [
            "100%|██████████| 16/16 [00:09<00:00,  1.64it/s]\n",
            "100%|██████████| 19/19 [00:07<00:00,  2.56it/s]\n"
          ]
        },
        {
          "output_type": "stream",
          "name": "stdout",
          "text": [
            "Accuracy: 17.66 - Loss: 0.015648071116961718 \n",
            "\n"
          ]
        },
        {
          "output_type": "stream",
          "name": "stderr",
          "text": [
            "100%|██████████| 16/16 [00:08<00:00,  1.84it/s]\n",
            "100%|██████████| 19/19 [00:07<00:00,  2.60it/s]\n"
          ]
        },
        {
          "output_type": "stream",
          "name": "stdout",
          "text": [
            "Accuracy: 17.62 - Loss: 0.015630964227910743 \n",
            "\n"
          ]
        },
        {
          "output_type": "stream",
          "name": "stderr",
          "text": [
            "100%|██████████| 16/16 [00:09<00:00,  1.66it/s]\n",
            "100%|██████████| 19/19 [00:06<00:00,  3.04it/s]\n"
          ]
        },
        {
          "output_type": "stream",
          "name": "stdout",
          "text": [
            "Accuracy: 17.92 - Loss: 0.01567816296941998 \n",
            "\n"
          ]
        },
        {
          "output_type": "stream",
          "name": "stderr",
          "text": [
            "100%|██████████| 16/16 [00:09<00:00,  1.65it/s]\n",
            "100%|██████████| 19/19 [00:06<00:00,  2.94it/s]\n"
          ]
        },
        {
          "output_type": "stream",
          "name": "stdout",
          "text": [
            "Accuracy: 17.62 - Loss: 0.015592974098876068 \n",
            "\n"
          ]
        },
        {
          "output_type": "stream",
          "name": "stderr",
          "text": [
            "100%|██████████| 16/16 [00:09<00:00,  1.70it/s]\n",
            "100%|██████████| 19/19 [00:07<00:00,  2.56it/s]\n"
          ]
        },
        {
          "output_type": "stream",
          "name": "stdout",
          "text": [
            "Accuracy: 17.24 - Loss: 0.01570474603070334 \n",
            "\n"
          ]
        },
        {
          "output_type": "stream",
          "name": "stderr",
          "text": [
            "100%|██████████| 16/16 [00:09<00:00,  1.76it/s]\n",
            "100%|██████████| 19/19 [00:06<00:00,  2.81it/s]\n"
          ]
        },
        {
          "output_type": "stream",
          "name": "stdout",
          "text": [
            "Accuracy: 17.11 - Loss: 0.01565681494543577 \n",
            "\n"
          ]
        },
        {
          "output_type": "stream",
          "name": "stderr",
          "text": [
            "100%|██████████| 16/16 [00:09<00:00,  1.65it/s]\n",
            "100%|██████████| 19/19 [00:06<00:00,  3.06it/s]\n"
          ]
        },
        {
          "output_type": "stream",
          "name": "stdout",
          "text": [
            "Accuracy: 17.36 - Loss: 0.01565374367879926 \n",
            "\n"
          ]
        },
        {
          "output_type": "stream",
          "name": "stderr",
          "text": [
            "100%|██████████| 16/16 [00:09<00:00,  1.64it/s]\n",
            "100%|██████████| 19/19 [00:07<00:00,  2.65it/s]\n"
          ]
        },
        {
          "output_type": "stream",
          "name": "stdout",
          "text": [
            "Accuracy: 17.15 - Loss: 0.015678403829144944 \n",
            "\n"
          ]
        },
        {
          "output_type": "stream",
          "name": "stderr",
          "text": [
            "100%|██████████| 16/16 [00:08<00:00,  1.85it/s]\n",
            "100%|██████████| 19/19 [00:07<00:00,  2.59it/s]\n"
          ]
        },
        {
          "output_type": "stream",
          "name": "stdout",
          "text": [
            "Accuracy: 17.75 - Loss: 0.015618731798572346 \n",
            "\n"
          ]
        },
        {
          "output_type": "stream",
          "name": "stderr",
          "text": [
            "100%|██████████| 16/16 [00:09<00:00,  1.63it/s]\n",
            "100%|██████████| 19/19 [00:06<00:00,  3.02it/s]\n"
          ]
        },
        {
          "output_type": "stream",
          "name": "stdout",
          "text": [
            "Accuracy: 17.19 - Loss: 0.01563794326049883 \n",
            "\n"
          ]
        },
        {
          "output_type": "stream",
          "name": "stderr",
          "text": [
            "100%|██████████| 16/16 [00:09<00:00,  1.61it/s]\n",
            "100%|██████████| 19/19 [00:06<00:00,  2.99it/s]\n"
          ]
        },
        {
          "output_type": "stream",
          "name": "stdout",
          "text": [
            "Accuracy: 16.77 - Loss: 0.01557375353350981 \n",
            "\n"
          ]
        },
        {
          "output_type": "stream",
          "name": "stderr",
          "text": [
            "100%|██████████| 16/16 [00:09<00:00,  1.61it/s]\n",
            "100%|██████████| 19/19 [00:07<00:00,  2.55it/s]\n"
          ]
        },
        {
          "output_type": "stream",
          "name": "stdout",
          "text": [
            "Accuracy: 17.19 - Loss: 0.01564085575093995 \n",
            "\n"
          ]
        },
        {
          "output_type": "stream",
          "name": "stderr",
          "text": [
            "100%|██████████| 16/16 [00:09<00:00,  1.76it/s]\n",
            "100%|██████████| 19/19 [00:07<00:00,  2.60it/s]\n"
          ]
        },
        {
          "output_type": "stream",
          "name": "stdout",
          "text": [
            "Accuracy: 17.15 - Loss: 0.015651711984299148 \n",
            "\n"
          ]
        },
        {
          "output_type": "stream",
          "name": "stderr",
          "text": [
            "100%|██████████| 16/16 [00:09<00:00,  1.60it/s]\n",
            "100%|██████████| 19/19 [00:06<00:00,  2.86it/s]\n"
          ]
        },
        {
          "output_type": "stream",
          "name": "stdout",
          "text": [
            "Accuracy: 17.45 - Loss: 0.015670641595593084 \n",
            "\n"
          ]
        },
        {
          "output_type": "stream",
          "name": "stderr",
          "text": [
            "100%|██████████| 16/16 [00:09<00:00,  1.64it/s]\n",
            "100%|██████████| 19/19 [00:07<00:00,  2.62it/s]\n"
          ]
        },
        {
          "output_type": "stream",
          "name": "stdout",
          "text": [
            "Accuracy: 17.15 - Loss: 0.015722162182420594 \n",
            "\n"
          ]
        },
        {
          "output_type": "stream",
          "name": "stderr",
          "text": [
            "100%|██████████| 16/16 [00:08<00:00,  1.87it/s]\n",
            "100%|██████████| 19/19 [00:07<00:00,  2.61it/s]\n"
          ]
        },
        {
          "output_type": "stream",
          "name": "stdout",
          "text": [
            "Accuracy: 17.28 - Loss: 0.015681472502063972 \n",
            "\n"
          ]
        },
        {
          "output_type": "stream",
          "name": "stderr",
          "text": [
            "100%|██████████| 16/16 [00:09<00:00,  1.63it/s]\n",
            "100%|██████████| 19/19 [00:06<00:00,  3.02it/s]\n"
          ]
        },
        {
          "output_type": "stream",
          "name": "stdout",
          "text": [
            "Accuracy: 17.49 - Loss: 0.015649323577360083 \n",
            "\n"
          ]
        },
        {
          "output_type": "stream",
          "name": "stderr",
          "text": [
            "100%|██████████| 16/16 [00:09<00:00,  1.62it/s]\n",
            "100%|██████████| 19/19 [00:06<00:00,  3.07it/s]\n"
          ]
        },
        {
          "output_type": "stream",
          "name": "stdout",
          "text": [
            "Accuracy: 16.81 - Loss: 0.015657143076125264 \n",
            "\n"
          ]
        },
        {
          "output_type": "stream",
          "name": "stderr",
          "text": [
            "100%|██████████| 16/16 [00:09<00:00,  1.68it/s]\n",
            "100%|██████████| 19/19 [00:07<00:00,  2.60it/s]\n"
          ]
        },
        {
          "output_type": "stream",
          "name": "stdout",
          "text": [
            "Accuracy: 17.15 - Loss: 0.015665447498344316 \n",
            "\n"
          ]
        },
        {
          "output_type": "stream",
          "name": "stderr",
          "text": [
            "100%|██████████| 16/16 [00:08<00:00,  1.81it/s]\n",
            "100%|██████████| 19/19 [00:07<00:00,  2.65it/s]\n"
          ]
        },
        {
          "output_type": "stream",
          "name": "stdout",
          "text": [
            "Accuracy: 16.77 - Loss: 0.015646755491914195 \n",
            "\n"
          ]
        },
        {
          "output_type": "stream",
          "name": "stderr",
          "text": [
            "100%|██████████| 16/16 [00:09<00:00,  1.63it/s]\n",
            "100%|██████████| 19/19 [00:06<00:00,  3.05it/s]\n"
          ]
        },
        {
          "output_type": "stream",
          "name": "stdout",
          "text": [
            "Accuracy: 17.11 - Loss: 0.015667082099784357 \n",
            "\n"
          ]
        }
      ],
      "source": [
        "warnings.filterwarnings('ignore', category=UserWarning)\n",
        "\n",
        "# Parse arguments\n",
        "conf = { # Art Painting -> Cartoon\n",
        "    'seed': 0,\n",
        "    'test_only': False,\n",
        "    'cpu': False,\n",
        "    'experiment': 'random',\n",
        "    'experiment_name': '2_2_7',\n",
        "    'experiment_args': {'module_placement': ['layer1.0.conv1', 'layer1.0.conv2', 'layer1.1.conv1', 'layer1.1.conv2', 'layer2.0.conv1', 'layer2.0.conv2', 'layer2.1.conv1', 'layer2.1.conv2', 'layer3.0.conv1', 'layer3.0.conv2', 'layer3.1.conv1', 'layer3.1.conv2', 'layer4.0.conv1', 'layer4.0.conv2', 'layer4.1.conv1', 'layer4.1.conv2'], 'mask_out_ratio': 0.75},\n",
        "    'dataset_args': {'text_root': 'data', 'images_root': 'data/kfold/PACS', 'source_domain': 'art_painting', 'target_domain': 'cartoon' },\n",
        "    'batch_size': 128,\n",
        "    'epochs': 30,\n",
        "    'num_workers': 5,\n",
        "    'grad_accum_steps': 1\n",
        "}\n",
        "\n",
        "#args = parse_arguments()\n",
        "args = argparse.Namespace(**conf)\n",
        "print(args)\n",
        "CONFIG.update(vars(args))\n",
        "\n",
        "# Setup output directory\n",
        "CONFIG.save_dir = os.path.join('record', CONFIG.experiment_name)\n",
        "os.makedirs(CONFIG.save_dir, exist_ok=True)\n",
        "\n",
        "# Setup logging\n",
        "logging.basicConfig(\n",
        "    filename=os.path.join(CONFIG.save_dir, 'log.txt'),\n",
        "    format='%(message)s',\n",
        "    level=logging.INFO,\n",
        "    filemode='a'\n",
        ")\n",
        "\n",
        "# Set experiment's device & deterministic behavior\n",
        "if CONFIG.cpu:\n",
        "    CONFIG.device = 'cpu'\n",
        "else:\n",
        "    CONFIG.device = 'cuda' if torch.cuda.is_available() else 'cpu'\n",
        "\n",
        "torch.manual_seed(CONFIG.seed)\n",
        "random.seed(CONFIG.seed)\n",
        "np.random.seed(CONFIG.seed)\n",
        "torch.backends.cudnn.benchmark = True\n",
        "torch.use_deterministic_algorithms(mode=True, warn_only=True)\n",
        "\n",
        "main()"
      ]
    },
    {
      "cell_type": "markdown",
      "metadata": {
        "id": "_WxnmfaWrl_T"
      },
      "source": [
        "#### 2.2.8 - Art Painting &rightarrow; Sketch, mor = 0.75"
      ]
    },
    {
      "cell_type": "code",
      "execution_count": 43,
      "metadata": {
        "colab": {
          "base_uri": "https://localhost:8080/"
        },
        "id": "TvhtDf6Trl_T",
        "outputId": "8eac8632-2e43-41fd-c0f1-82b8ab68f6c6"
      },
      "outputs": [
        {
          "output_type": "stream",
          "name": "stdout",
          "text": [
            "Namespace(seed=0, test_only=False, cpu=False, experiment='random', experiment_name='2_2_8', experiment_args={'module_placement': ['layer1.0.conv1', 'layer1.0.conv2', 'layer1.1.conv1', 'layer1.1.conv2', 'layer2.0.conv1', 'layer2.0.conv2', 'layer2.1.conv1', 'layer2.1.conv2', 'layer3.0.conv1', 'layer3.0.conv2', 'layer3.1.conv1', 'layer3.1.conv2', 'layer4.0.conv1', 'layer4.0.conv2', 'layer4.1.conv1', 'layer4.1.conv2'], 'mask_out_ratio': 0.75}, dataset_args={'text_root': 'data', 'images_root': 'data/kfold/PACS', 'source_domain': 'art_painting', 'target_domain': 'sketch'}, batch_size=128, epochs=30, num_workers=5, grad_accum_steps=1)\n",
            "mask_out_ratio:  0.75\n",
            "layer_name layer1.0.conv1 random_mask sum():  tensor(50272., device='cuda:0')\n",
            "Insert activation shaping layer after  layer1.0.conv1 Conv2d(64, 64, kernel_size=(3, 3), stride=(1, 1), padding=(1, 1), bias=False)\n",
            "mask_out_ratio:  0.75\n",
            "layer_name layer1.0.conv2 random_mask sum():  tensor(50075., device='cuda:0')\n",
            "Insert activation shaping layer after  layer1.0.conv2 Conv2d(64, 64, kernel_size=(3, 3), stride=(1, 1), padding=(1, 1), bias=False)\n",
            "mask_out_ratio:  0.75\n",
            "layer_name layer1.1.conv1 random_mask sum():  tensor(50282., device='cuda:0')\n",
            "Insert activation shaping layer after  layer1.1.conv1 Conv2d(64, 64, kernel_size=(3, 3), stride=(1, 1), padding=(1, 1), bias=False)\n",
            "mask_out_ratio:  0.75\n",
            "layer_name layer1.1.conv2 random_mask sum():  tensor(50193., device='cuda:0')\n",
            "Insert activation shaping layer after  layer1.1.conv2 Conv2d(64, 64, kernel_size=(3, 3), stride=(1, 1), padding=(1, 1), bias=False)\n",
            "mask_out_ratio:  0.75\n",
            "layer_name layer2.0.conv1 random_mask sum():  tensor(24925., device='cuda:0')\n",
            "Insert activation shaping layer after  layer2.0.conv1 Conv2d(64, 128, kernel_size=(3, 3), stride=(2, 2), padding=(1, 1), bias=False)\n",
            "mask_out_ratio:  0.75\n",
            "layer_name layer2.0.conv2 random_mask sum():  tensor(24921., device='cuda:0')\n",
            "Insert activation shaping layer after  layer2.0.conv2 Conv2d(128, 128, kernel_size=(3, 3), stride=(1, 1), padding=(1, 1), bias=False)\n",
            "mask_out_ratio:  0.75\n",
            "layer_name layer2.1.conv1 random_mask sum():  tensor(25286., device='cuda:0')\n",
            "Insert activation shaping layer after  layer2.1.conv1 Conv2d(128, 128, kernel_size=(3, 3), stride=(1, 1), padding=(1, 1), bias=False)\n",
            "mask_out_ratio:  0.75\n",
            "layer_name layer2.1.conv2 random_mask sum():  tensor(25218., device='cuda:0')\n",
            "Insert activation shaping layer after  layer2.1.conv2 Conv2d(128, 128, kernel_size=(3, 3), stride=(1, 1), padding=(1, 1), bias=False)\n",
            "mask_out_ratio:  0.75\n",
            "layer_name layer3.0.conv1 random_mask sum():  tensor(12459., device='cuda:0')\n",
            "Insert activation shaping layer after  layer3.0.conv1 Conv2d(128, 256, kernel_size=(3, 3), stride=(2, 2), padding=(1, 1), bias=False)\n",
            "mask_out_ratio:  0.75\n",
            "layer_name layer3.0.conv2 random_mask sum():  tensor(12583., device='cuda:0')\n",
            "Insert activation shaping layer after  layer3.0.conv2 Conv2d(256, 256, kernel_size=(3, 3), stride=(1, 1), padding=(1, 1), bias=False)\n",
            "mask_out_ratio:  0.75\n",
            "layer_name layer3.1.conv1 random_mask sum():  tensor(12617., device='cuda:0')\n",
            "Insert activation shaping layer after  layer3.1.conv1 Conv2d(256, 256, kernel_size=(3, 3), stride=(1, 1), padding=(1, 1), bias=False)\n",
            "mask_out_ratio:  0.75\n",
            "layer_name layer3.1.conv2 random_mask sum():  tensor(12535., device='cuda:0')\n",
            "Insert activation shaping layer after  layer3.1.conv2 Conv2d(256, 256, kernel_size=(3, 3), stride=(1, 1), padding=(1, 1), bias=False)\n",
            "mask_out_ratio:  0.75\n",
            "layer_name layer4.0.conv1 random_mask sum():  tensor(6358., device='cuda:0')\n",
            "Insert activation shaping layer after  layer4.0.conv1 Conv2d(256, 512, kernel_size=(3, 3), stride=(2, 2), padding=(1, 1), bias=False)\n",
            "mask_out_ratio:  0.75\n",
            "layer_name layer4.0.conv2 random_mask sum():  tensor(6331., device='cuda:0')\n",
            "Insert activation shaping layer after  layer4.0.conv2 Conv2d(512, 512, kernel_size=(3, 3), stride=(1, 1), padding=(1, 1), bias=False)\n",
            "mask_out_ratio:  0.75\n",
            "layer_name layer4.1.conv1 random_mask sum():  tensor(6368., device='cuda:0')\n",
            "Insert activation shaping layer after  layer4.1.conv1 Conv2d(512, 512, kernel_size=(3, 3), stride=(1, 1), padding=(1, 1), bias=False)\n",
            "mask_out_ratio:  0.75\n",
            "layer_name layer4.1.conv2 random_mask sum():  tensor(6197., device='cuda:0')\n",
            "Insert activation shaping layer after  layer4.1.conv2 Conv2d(512, 512, kernel_size=(3, 3), stride=(1, 1), padding=(1, 1), bias=False)\n"
          ]
        },
        {
          "output_type": "stream",
          "name": "stderr",
          "text": [
            "100%|██████████| 16/16 [00:10<00:00,  1.58it/s]\n",
            "100%|██████████| 31/31 [00:12<00:00,  2.44it/s]\n"
          ]
        },
        {
          "output_type": "stream",
          "name": "stdout",
          "text": [
            "Accuracy: 6.16 - Loss: 0.016787453958720583 \n",
            "\n"
          ]
        },
        {
          "output_type": "stream",
          "name": "stderr",
          "text": [
            "100%|██████████| 16/16 [00:09<00:00,  1.62it/s]\n",
            "100%|██████████| 31/31 [00:11<00:00,  2.61it/s]\n"
          ]
        },
        {
          "output_type": "stream",
          "name": "stdout",
          "text": [
            "Accuracy: 9.62 - Loss: 0.01620989590390216 \n",
            "\n"
          ]
        },
        {
          "output_type": "stream",
          "name": "stderr",
          "text": [
            "100%|██████████| 16/16 [00:08<00:00,  1.85it/s]\n",
            "100%|██████████| 31/31 [00:11<00:00,  2.61it/s]\n"
          ]
        },
        {
          "output_type": "stream",
          "name": "stdout",
          "text": [
            "Accuracy: 7.28 - Loss: 0.016162848830617516 \n",
            "\n"
          ]
        },
        {
          "output_type": "stream",
          "name": "stderr",
          "text": [
            "100%|██████████| 16/16 [00:09<00:00,  1.64it/s]\n",
            "100%|██████████| 31/31 [00:11<00:00,  2.62it/s]\n"
          ]
        },
        {
          "output_type": "stream",
          "name": "stdout",
          "text": [
            "Accuracy: 6.11 - Loss: 0.016331984542289377 \n",
            "\n"
          ]
        },
        {
          "output_type": "stream",
          "name": "stderr",
          "text": [
            "100%|██████████| 16/16 [00:09<00:00,  1.67it/s]\n",
            "100%|██████████| 31/31 [00:11<00:00,  2.59it/s]\n"
          ]
        },
        {
          "output_type": "stream",
          "name": "stdout",
          "text": [
            "Accuracy: 8.32 - Loss: 0.016142514923748155 \n",
            "\n"
          ]
        },
        {
          "output_type": "stream",
          "name": "stderr",
          "text": [
            "100%|██████████| 16/16 [00:08<00:00,  1.81it/s]\n",
            "100%|██████████| 31/31 [00:12<00:00,  2.57it/s]\n"
          ]
        },
        {
          "output_type": "stream",
          "name": "stdout",
          "text": [
            "Accuracy: 6.44 - Loss: 0.0162535285670571 \n",
            "\n"
          ]
        },
        {
          "output_type": "stream",
          "name": "stderr",
          "text": [
            "100%|██████████| 16/16 [00:09<00:00,  1.63it/s]\n",
            "100%|██████████| 31/31 [00:11<00:00,  2.60it/s]\n"
          ]
        },
        {
          "output_type": "stream",
          "name": "stdout",
          "text": [
            "Accuracy: 6.64 - Loss: 0.016193090124754058 \n",
            "\n"
          ]
        },
        {
          "output_type": "stream",
          "name": "stderr",
          "text": [
            "100%|██████████| 16/16 [00:09<00:00,  1.63it/s]\n",
            "100%|██████████| 31/31 [00:11<00:00,  2.62it/s]\n"
          ]
        },
        {
          "output_type": "stream",
          "name": "stdout",
          "text": [
            "Accuracy: 8.91 - Loss: 0.01617891404974033 \n",
            "\n"
          ]
        },
        {
          "output_type": "stream",
          "name": "stderr",
          "text": [
            "100%|██████████| 16/16 [00:08<00:00,  1.87it/s]\n",
            "100%|██████████| 31/31 [00:11<00:00,  2.59it/s]\n"
          ]
        },
        {
          "output_type": "stream",
          "name": "stdout",
          "text": [
            "Accuracy: 6.67 - Loss: 0.01626333704307869 \n",
            "\n"
          ]
        },
        {
          "output_type": "stream",
          "name": "stderr",
          "text": [
            "100%|██████████| 16/16 [00:09<00:00,  1.64it/s]\n",
            "100%|██████████| 31/31 [00:11<00:00,  2.61it/s]\n"
          ]
        },
        {
          "output_type": "stream",
          "name": "stdout",
          "text": [
            "Accuracy: 7.76 - Loss: 0.016089406745310623 \n",
            "\n"
          ]
        },
        {
          "output_type": "stream",
          "name": "stderr",
          "text": [
            "100%|██████████| 16/16 [00:09<00:00,  1.63it/s]\n",
            "100%|██████████| 31/31 [00:11<00:00,  2.68it/s]\n"
          ]
        },
        {
          "output_type": "stream",
          "name": "stdout",
          "text": [
            "Accuracy: 5.42 - Loss: 0.01637111807876824 \n",
            "\n"
          ]
        },
        {
          "output_type": "stream",
          "name": "stderr",
          "text": [
            "100%|██████████| 16/16 [00:08<00:00,  1.81it/s]\n",
            "100%|██████████| 31/31 [00:12<00:00,  2.54it/s]\n"
          ]
        },
        {
          "output_type": "stream",
          "name": "stdout",
          "text": [
            "Accuracy: 8.81 - Loss: 0.01617130279905106 \n",
            "\n"
          ]
        },
        {
          "output_type": "stream",
          "name": "stderr",
          "text": [
            "100%|██████████| 16/16 [00:09<00:00,  1.64it/s]\n",
            "100%|██████████| 31/31 [00:12<00:00,  2.57it/s]\n"
          ]
        },
        {
          "output_type": "stream",
          "name": "stdout",
          "text": [
            "Accuracy: 7.10 - Loss: 0.016222657972876125 \n",
            "\n"
          ]
        },
        {
          "output_type": "stream",
          "name": "stderr",
          "text": [
            "100%|██████████| 16/16 [00:09<00:00,  1.64it/s]\n",
            "100%|██████████| 31/31 [00:13<00:00,  2.23it/s]\n"
          ]
        },
        {
          "output_type": "stream",
          "name": "stdout",
          "text": [
            "Accuracy: 7.15 - Loss: 0.016283769679148404 \n",
            "\n"
          ]
        },
        {
          "output_type": "stream",
          "name": "stderr",
          "text": [
            "100%|██████████| 16/16 [00:08<00:00,  1.88it/s]\n",
            "100%|██████████| 31/31 [00:11<00:00,  2.63it/s]\n"
          ]
        },
        {
          "output_type": "stream",
          "name": "stdout",
          "text": [
            "Accuracy: 9.93 - Loss: 0.016169962976445493 \n",
            "\n"
          ]
        },
        {
          "output_type": "stream",
          "name": "stderr",
          "text": [
            "100%|██████████| 16/16 [00:09<00:00,  1.65it/s]\n",
            "100%|██████████| 31/31 [00:11<00:00,  2.62it/s]\n"
          ]
        },
        {
          "output_type": "stream",
          "name": "stdout",
          "text": [
            "Accuracy: 10.79 - Loss: 0.01611185398499879 \n",
            "\n"
          ]
        },
        {
          "output_type": "stream",
          "name": "stderr",
          "text": [
            "100%|██████████| 16/16 [00:09<00:00,  1.67it/s]\n",
            "100%|██████████| 31/31 [00:11<00:00,  2.63it/s]\n"
          ]
        },
        {
          "output_type": "stream",
          "name": "stdout",
          "text": [
            "Accuracy: 6.97 - Loss: 0.016139765312484153 \n",
            "\n"
          ]
        },
        {
          "output_type": "stream",
          "name": "stderr",
          "text": [
            "100%|██████████| 16/16 [00:08<00:00,  1.87it/s]\n",
            "100%|██████████| 31/31 [00:11<00:00,  2.67it/s]\n"
          ]
        },
        {
          "output_type": "stream",
          "name": "stdout",
          "text": [
            "Accuracy: 6.82 - Loss: 0.016180069612224887 \n",
            "\n"
          ]
        },
        {
          "output_type": "stream",
          "name": "stderr",
          "text": [
            "100%|██████████| 16/16 [00:09<00:00,  1.68it/s]\n",
            "100%|██████████| 31/31 [00:11<00:00,  2.63it/s]\n"
          ]
        },
        {
          "output_type": "stream",
          "name": "stdout",
          "text": [
            "Accuracy: 6.97 - Loss: 0.01625478313180987 \n",
            "\n"
          ]
        },
        {
          "output_type": "stream",
          "name": "stderr",
          "text": [
            "100%|██████████| 16/16 [00:09<00:00,  1.63it/s]\n",
            "100%|██████████| 31/31 [00:11<00:00,  2.69it/s]\n"
          ]
        },
        {
          "output_type": "stream",
          "name": "stdout",
          "text": [
            "Accuracy: 9.04 - Loss: 0.016089641310598868 \n",
            "\n"
          ]
        },
        {
          "output_type": "stream",
          "name": "stderr",
          "text": [
            "100%|██████████| 16/16 [00:08<00:00,  1.82it/s]\n",
            "100%|██████████| 31/31 [00:11<00:00,  2.62it/s]\n"
          ]
        },
        {
          "output_type": "stream",
          "name": "stdout",
          "text": [
            "Accuracy: 6.67 - Loss: 0.01610096446367644 \n",
            "\n"
          ]
        },
        {
          "output_type": "stream",
          "name": "stderr",
          "text": [
            "100%|██████████| 16/16 [00:09<00:00,  1.64it/s]\n",
            "100%|██████████| 31/31 [00:11<00:00,  2.61it/s]\n"
          ]
        },
        {
          "output_type": "stream",
          "name": "stdout",
          "text": [
            "Accuracy: 5.96 - Loss: 0.016216194881498433 \n",
            "\n"
          ]
        },
        {
          "output_type": "stream",
          "name": "stderr",
          "text": [
            "100%|██████████| 16/16 [00:09<00:00,  1.69it/s]\n",
            "100%|██████████| 31/31 [00:11<00:00,  2.81it/s]\n"
          ]
        },
        {
          "output_type": "stream",
          "name": "stdout",
          "text": [
            "Accuracy: 9.26 - Loss: 0.016032944353035188 \n",
            "\n"
          ]
        },
        {
          "output_type": "stream",
          "name": "stderr",
          "text": [
            "100%|██████████| 16/16 [00:08<00:00,  1.79it/s]\n",
            "100%|██████████| 31/31 [00:11<00:00,  2.65it/s]\n"
          ]
        },
        {
          "output_type": "stream",
          "name": "stdout",
          "text": [
            "Accuracy: 5.60 - Loss: 0.01637621464757223 \n",
            "\n"
          ]
        },
        {
          "output_type": "stream",
          "name": "stderr",
          "text": [
            "100%|██████████| 16/16 [00:09<00:00,  1.67it/s]\n",
            "100%|██████████| 31/31 [00:11<00:00,  2.64it/s]\n"
          ]
        },
        {
          "output_type": "stream",
          "name": "stdout",
          "text": [
            "Accuracy: 6.49 - Loss: 0.016282822770846653 \n",
            "\n"
          ]
        },
        {
          "output_type": "stream",
          "name": "stderr",
          "text": [
            "100%|██████████| 16/16 [00:08<00:00,  1.84it/s]\n",
            "100%|██████████| 31/31 [00:11<00:00,  2.71it/s]\n"
          ]
        },
        {
          "output_type": "stream",
          "name": "stdout",
          "text": [
            "Accuracy: 7.36 - Loss: 0.016191820996382302 \n",
            "\n"
          ]
        },
        {
          "output_type": "stream",
          "name": "stderr",
          "text": [
            "100%|██████████| 16/16 [00:09<00:00,  1.68it/s]\n",
            "100%|██████████| 31/31 [00:11<00:00,  2.60it/s]\n"
          ]
        },
        {
          "output_type": "stream",
          "name": "stdout",
          "text": [
            "Accuracy: 6.87 - Loss: 0.016191693352330092 \n",
            "\n"
          ]
        },
        {
          "output_type": "stream",
          "name": "stderr",
          "text": [
            "100%|██████████| 16/16 [00:09<00:00,  1.64it/s]\n",
            "100%|██████████| 31/31 [00:11<00:00,  2.62it/s]\n"
          ]
        },
        {
          "output_type": "stream",
          "name": "stdout",
          "text": [
            "Accuracy: 7.69 - Loss: 0.016178932011537073 \n",
            "\n"
          ]
        },
        {
          "output_type": "stream",
          "name": "stderr",
          "text": [
            "100%|██████████| 16/16 [00:08<00:00,  1.87it/s]\n",
            "100%|██████████| 31/31 [00:11<00:00,  2.65it/s]\n"
          ]
        },
        {
          "output_type": "stream",
          "name": "stdout",
          "text": [
            "Accuracy: 7.81 - Loss: 0.016166341762926233 \n",
            "\n"
          ]
        },
        {
          "output_type": "stream",
          "name": "stderr",
          "text": [
            "100%|██████████| 16/16 [00:09<00:00,  1.64it/s]\n",
            "100%|██████████| 31/31 [00:11<00:00,  2.64it/s]\n"
          ]
        },
        {
          "output_type": "stream",
          "name": "stdout",
          "text": [
            "Accuracy: 6.77 - Loss: 0.01623164663851246 \n",
            "\n"
          ]
        }
      ],
      "source": [
        "warnings.filterwarnings('ignore', category=UserWarning)\n",
        "\n",
        "# Parse arguments\n",
        "conf = { # Art Painting -> Sketch\n",
        "    'seed': 0,\n",
        "    'test_only': False,\n",
        "    'cpu': False,\n",
        "    'experiment': 'random',\n",
        "    'experiment_name': '2_2_8',\n",
        "    'experiment_args': {'module_placement': ['layer1.0.conv1', 'layer1.0.conv2', 'layer1.1.conv1', 'layer1.1.conv2', 'layer2.0.conv1', 'layer2.0.conv2', 'layer2.1.conv1', 'layer2.1.conv2', 'layer3.0.conv1', 'layer3.0.conv2', 'layer3.1.conv1', 'layer3.1.conv2', 'layer4.0.conv1', 'layer4.0.conv2', 'layer4.1.conv1', 'layer4.1.conv2'], 'mask_out_ratio': 0.75},\n",
        "    'dataset_args': {'text_root': 'data', 'images_root': 'data/kfold/PACS', 'source_domain': 'art_painting', 'target_domain': 'sketch' },\n",
        "    'batch_size': 128,\n",
        "    'epochs': 30,\n",
        "    'num_workers': 5,\n",
        "    'grad_accum_steps': 1\n",
        "}\n",
        "\n",
        "#args = parse_arguments()\n",
        "args = argparse.Namespace(**conf)\n",
        "print(args)\n",
        "CONFIG.update(vars(args))\n",
        "\n",
        "# Setup output directory\n",
        "CONFIG.save_dir = os.path.join('record', CONFIG.experiment_name)\n",
        "os.makedirs(CONFIG.save_dir, exist_ok=True)\n",
        "\n",
        "# Setup logging\n",
        "logging.basicConfig(\n",
        "    filename=os.path.join(CONFIG.save_dir, 'log.txt'),\n",
        "    format='%(message)s',\n",
        "    level=logging.INFO,\n",
        "    filemode='a'\n",
        ")\n",
        "\n",
        "# Set experiment's device & deterministic behavior\n",
        "if CONFIG.cpu:\n",
        "    CONFIG.device = 'cpu'\n",
        "else:\n",
        "    CONFIG.device = 'cuda' if torch.cuda.is_available() else 'cpu'\n",
        "\n",
        "torch.manual_seed(CONFIG.seed)\n",
        "random.seed(CONFIG.seed)\n",
        "np.random.seed(CONFIG.seed)\n",
        "torch.backends.cudnn.benchmark = True\n",
        "torch.use_deterministic_algorithms(mode=True, warn_only=True)\n",
        "\n",
        "main()"
      ]
    },
    {
      "cell_type": "markdown",
      "metadata": {
        "id": "68TkLxpHrl_U"
      },
      "source": [
        "#### 2.2.9 - Art Painting &rightarrow; Photo, mor = 0.75"
      ]
    },
    {
      "cell_type": "code",
      "execution_count": 44,
      "metadata": {
        "colab": {
          "base_uri": "https://localhost:8080/"
        },
        "id": "EZ5lQpvSrl_U",
        "outputId": "7bace6c6-996c-4dfa-df42-57d0f1709688"
      },
      "outputs": [
        {
          "output_type": "stream",
          "name": "stdout",
          "text": [
            "Namespace(seed=0, test_only=False, cpu=False, experiment='random', experiment_name='2_2_9', experiment_args={'module_placement': ['layer1.0.conv1', 'layer1.0.conv2', 'layer1.1.conv1', 'layer1.1.conv2', 'layer2.0.conv1', 'layer2.0.conv2', 'layer2.1.conv1', 'layer2.1.conv2', 'layer3.0.conv1', 'layer3.0.conv2', 'layer3.1.conv1', 'layer3.1.conv2', 'layer4.0.conv1', 'layer4.0.conv2', 'layer4.1.conv1', 'layer4.1.conv2'], 'mask_out_ratio': 0.75}, dataset_args={'text_root': 'data', 'images_root': 'data/kfold/PACS', 'source_domain': 'art_painting', 'target_domain': 'photo'}, batch_size=128, epochs=30, num_workers=5, grad_accum_steps=1)\n",
            "mask_out_ratio:  0.75\n",
            "layer_name layer1.0.conv1 random_mask sum():  tensor(50272., device='cuda:0')\n",
            "Insert activation shaping layer after  layer1.0.conv1 Conv2d(64, 64, kernel_size=(3, 3), stride=(1, 1), padding=(1, 1), bias=False)\n",
            "mask_out_ratio:  0.75\n",
            "layer_name layer1.0.conv2 random_mask sum():  tensor(50075., device='cuda:0')\n",
            "Insert activation shaping layer after  layer1.0.conv2 Conv2d(64, 64, kernel_size=(3, 3), stride=(1, 1), padding=(1, 1), bias=False)\n",
            "mask_out_ratio:  0.75\n",
            "layer_name layer1.1.conv1 random_mask sum():  tensor(50282., device='cuda:0')\n",
            "Insert activation shaping layer after  layer1.1.conv1 Conv2d(64, 64, kernel_size=(3, 3), stride=(1, 1), padding=(1, 1), bias=False)\n",
            "mask_out_ratio:  0.75\n",
            "layer_name layer1.1.conv2 random_mask sum():  tensor(50193., device='cuda:0')\n",
            "Insert activation shaping layer after  layer1.1.conv2 Conv2d(64, 64, kernel_size=(3, 3), stride=(1, 1), padding=(1, 1), bias=False)\n",
            "mask_out_ratio:  0.75\n",
            "layer_name layer2.0.conv1 random_mask sum():  tensor(24925., device='cuda:0')\n",
            "Insert activation shaping layer after  layer2.0.conv1 Conv2d(64, 128, kernel_size=(3, 3), stride=(2, 2), padding=(1, 1), bias=False)\n",
            "mask_out_ratio:  0.75\n",
            "layer_name layer2.0.conv2 random_mask sum():  tensor(24921., device='cuda:0')\n",
            "Insert activation shaping layer after  layer2.0.conv2 Conv2d(128, 128, kernel_size=(3, 3), stride=(1, 1), padding=(1, 1), bias=False)\n",
            "mask_out_ratio:  0.75\n",
            "layer_name layer2.1.conv1 random_mask sum():  tensor(25286., device='cuda:0')\n",
            "Insert activation shaping layer after  layer2.1.conv1 Conv2d(128, 128, kernel_size=(3, 3), stride=(1, 1), padding=(1, 1), bias=False)\n",
            "mask_out_ratio:  0.75\n",
            "layer_name layer2.1.conv2 random_mask sum():  tensor(25218., device='cuda:0')\n",
            "Insert activation shaping layer after  layer2.1.conv2 Conv2d(128, 128, kernel_size=(3, 3), stride=(1, 1), padding=(1, 1), bias=False)\n",
            "mask_out_ratio:  0.75\n",
            "layer_name layer3.0.conv1 random_mask sum():  tensor(12459., device='cuda:0')\n",
            "Insert activation shaping layer after  layer3.0.conv1 Conv2d(128, 256, kernel_size=(3, 3), stride=(2, 2), padding=(1, 1), bias=False)\n",
            "mask_out_ratio:  0.75\n",
            "layer_name layer3.0.conv2 random_mask sum():  tensor(12583., device='cuda:0')\n",
            "Insert activation shaping layer after  layer3.0.conv2 Conv2d(256, 256, kernel_size=(3, 3), stride=(1, 1), padding=(1, 1), bias=False)\n",
            "mask_out_ratio:  0.75\n",
            "layer_name layer3.1.conv1 random_mask sum():  tensor(12617., device='cuda:0')\n",
            "Insert activation shaping layer after  layer3.1.conv1 Conv2d(256, 256, kernel_size=(3, 3), stride=(1, 1), padding=(1, 1), bias=False)\n",
            "mask_out_ratio:  0.75\n",
            "layer_name layer3.1.conv2 random_mask sum():  tensor(12535., device='cuda:0')\n",
            "Insert activation shaping layer after  layer3.1.conv2 Conv2d(256, 256, kernel_size=(3, 3), stride=(1, 1), padding=(1, 1), bias=False)\n",
            "mask_out_ratio:  0.75\n",
            "layer_name layer4.0.conv1 random_mask sum():  tensor(6358., device='cuda:0')\n",
            "Insert activation shaping layer after  layer4.0.conv1 Conv2d(256, 512, kernel_size=(3, 3), stride=(2, 2), padding=(1, 1), bias=False)\n",
            "mask_out_ratio:  0.75\n",
            "layer_name layer4.0.conv2 random_mask sum():  tensor(6331., device='cuda:0')\n",
            "Insert activation shaping layer after  layer4.0.conv2 Conv2d(512, 512, kernel_size=(3, 3), stride=(1, 1), padding=(1, 1), bias=False)\n",
            "mask_out_ratio:  0.75\n",
            "layer_name layer4.1.conv1 random_mask sum():  tensor(6368., device='cuda:0')\n",
            "Insert activation shaping layer after  layer4.1.conv1 Conv2d(512, 512, kernel_size=(3, 3), stride=(1, 1), padding=(1, 1), bias=False)\n",
            "mask_out_ratio:  0.75\n",
            "layer_name layer4.1.conv2 random_mask sum():  tensor(6197., device='cuda:0')\n",
            "Insert activation shaping layer after  layer4.1.conv2 Conv2d(512, 512, kernel_size=(3, 3), stride=(1, 1), padding=(1, 1), bias=False)\n"
          ]
        },
        {
          "output_type": "stream",
          "name": "stderr",
          "text": [
            "100%|██████████| 16/16 [00:10<00:00,  1.59it/s]\n",
            "100%|██████████| 14/14 [00:05<00:00,  2.61it/s]\n"
          ]
        },
        {
          "output_type": "stream",
          "name": "stdout",
          "text": [
            "Accuracy: 22.16 - Loss: 0.01602901834213805 \n",
            "\n"
          ]
        },
        {
          "output_type": "stream",
          "name": "stderr",
          "text": [
            "100%|██████████| 16/16 [00:09<00:00,  1.65it/s]\n",
            "100%|██████████| 14/14 [00:04<00:00,  3.11it/s]\n"
          ]
        },
        {
          "output_type": "stream",
          "name": "stdout",
          "text": [
            "Accuracy: 20.12 - Loss: 0.016019508224761416 \n",
            "\n"
          ]
        },
        {
          "output_type": "stream",
          "name": "stderr",
          "text": [
            "100%|██████████| 16/16 [00:09<00:00,  1.63it/s]\n",
            "100%|██████████| 14/14 [00:05<00:00,  2.63it/s]\n"
          ]
        },
        {
          "output_type": "stream",
          "name": "stdout",
          "text": [
            "Accuracy: 21.86 - Loss: 0.015908059674108813 \n",
            "\n"
          ]
        },
        {
          "output_type": "stream",
          "name": "stderr",
          "text": [
            "100%|██████████| 16/16 [00:08<00:00,  1.84it/s]\n",
            "100%|██████████| 14/14 [00:05<00:00,  2.48it/s]\n"
          ]
        },
        {
          "output_type": "stream",
          "name": "stdout",
          "text": [
            "Accuracy: 23.71 - Loss: 0.015927175775973385 \n",
            "\n"
          ]
        },
        {
          "output_type": "stream",
          "name": "stderr",
          "text": [
            "100%|██████████| 16/16 [00:08<00:00,  1.86it/s]\n",
            "100%|██████████| 14/14 [00:05<00:00,  2.50it/s]\n"
          ]
        },
        {
          "output_type": "stream",
          "name": "stdout",
          "text": [
            "Accuracy: 21.44 - Loss: 0.015948994930632815 \n",
            "\n"
          ]
        },
        {
          "output_type": "stream",
          "name": "stderr",
          "text": [
            "100%|██████████| 16/16 [00:09<00:00,  1.68it/s]\n",
            "100%|██████████| 14/14 [00:04<00:00,  3.00it/s]\n"
          ]
        },
        {
          "output_type": "stream",
          "name": "stdout",
          "text": [
            "Accuracy: 23.23 - Loss: 0.01599022414156063 \n",
            "\n"
          ]
        },
        {
          "output_type": "stream",
          "name": "stderr",
          "text": [
            "100%|██████████| 16/16 [00:09<00:00,  1.62it/s]\n",
            "100%|██████████| 14/14 [00:04<00:00,  3.10it/s]\n"
          ]
        },
        {
          "output_type": "stream",
          "name": "stdout",
          "text": [
            "Accuracy: 24.13 - Loss: 0.015969576021868312 \n",
            "\n"
          ]
        },
        {
          "output_type": "stream",
          "name": "stderr",
          "text": [
            "100%|██████████| 16/16 [00:09<00:00,  1.62it/s]\n",
            "100%|██████████| 14/14 [00:04<00:00,  3.07it/s]\n"
          ]
        },
        {
          "output_type": "stream",
          "name": "stdout",
          "text": [
            "Accuracy: 22.28 - Loss: 0.015966560812053568 \n",
            "\n"
          ]
        },
        {
          "output_type": "stream",
          "name": "stderr",
          "text": [
            "100%|██████████| 16/16 [00:09<00:00,  1.61it/s]\n",
            "100%|██████████| 14/14 [00:04<00:00,  3.01it/s]\n"
          ]
        },
        {
          "output_type": "stream",
          "name": "stdout",
          "text": [
            "Accuracy: 23.47 - Loss: 0.01594610307031049 \n",
            "\n"
          ]
        },
        {
          "output_type": "stream",
          "name": "stderr",
          "text": [
            "100%|██████████| 16/16 [00:10<00:00,  1.58it/s]\n",
            "100%|██████████| 14/14 [00:05<00:00,  2.71it/s]\n"
          ]
        },
        {
          "output_type": "stream",
          "name": "stdout",
          "text": [
            "Accuracy: 22.34 - Loss: 0.01589368410453111 \n",
            "\n"
          ]
        },
        {
          "output_type": "stream",
          "name": "stderr",
          "text": [
            "100%|██████████| 16/16 [00:09<00:00,  1.74it/s]\n",
            "100%|██████████| 14/14 [00:05<00:00,  2.46it/s]\n"
          ]
        },
        {
          "output_type": "stream",
          "name": "stdout",
          "text": [
            "Accuracy: 24.73 - Loss: 0.015866836602102495 \n",
            "\n"
          ]
        },
        {
          "output_type": "stream",
          "name": "stderr",
          "text": [
            "100%|██████████| 16/16 [00:08<00:00,  1.81it/s]\n",
            "100%|██████████| 14/14 [00:05<00:00,  2.44it/s]\n"
          ]
        },
        {
          "output_type": "stream",
          "name": "stdout",
          "text": [
            "Accuracy: 21.14 - Loss: 0.0160341563339005 \n",
            "\n"
          ]
        },
        {
          "output_type": "stream",
          "name": "stderr",
          "text": [
            "100%|██████████| 16/16 [00:09<00:00,  1.64it/s]\n",
            "100%|██████████| 14/14 [00:04<00:00,  3.01it/s]\n"
          ]
        },
        {
          "output_type": "stream",
          "name": "stdout",
          "text": [
            "Accuracy: 23.89 - Loss: 0.01587623550506409 \n",
            "\n"
          ]
        },
        {
          "output_type": "stream",
          "name": "stderr",
          "text": [
            "100%|██████████| 16/16 [00:09<00:00,  1.63it/s]\n",
            "100%|██████████| 14/14 [00:04<00:00,  3.04it/s]\n"
          ]
        },
        {
          "output_type": "stream",
          "name": "stdout",
          "text": [
            "Accuracy: 21.26 - Loss: 0.015962373068232737 \n",
            "\n"
          ]
        },
        {
          "output_type": "stream",
          "name": "stderr",
          "text": [
            "100%|██████████| 16/16 [00:09<00:00,  1.61it/s]\n",
            "100%|██████████| 14/14 [00:04<00:00,  3.02it/s]\n"
          ]
        },
        {
          "output_type": "stream",
          "name": "stdout",
          "text": [
            "Accuracy: 20.90 - Loss: 0.01596447757618156 \n",
            "\n"
          ]
        },
        {
          "output_type": "stream",
          "name": "stderr",
          "text": [
            "100%|██████████| 16/16 [00:09<00:00,  1.62it/s]\n",
            "100%|██████████| 14/14 [00:04<00:00,  3.03it/s]\n"
          ]
        },
        {
          "output_type": "stream",
          "name": "stdout",
          "text": [
            "Accuracy: 20.60 - Loss: 0.016030708687034195 \n",
            "\n"
          ]
        },
        {
          "output_type": "stream",
          "name": "stderr",
          "text": [
            "100%|██████████| 16/16 [00:09<00:00,  1.62it/s]\n",
            "100%|██████████| 14/14 [00:05<00:00,  2.63it/s]\n"
          ]
        },
        {
          "output_type": "stream",
          "name": "stdout",
          "text": [
            "Accuracy: 23.29 - Loss: 0.01588811510337327 \n",
            "\n"
          ]
        },
        {
          "output_type": "stream",
          "name": "stderr",
          "text": [
            "100%|██████████| 16/16 [00:08<00:00,  1.82it/s]\n",
            "100%|██████████| 14/14 [00:05<00:00,  2.44it/s]\n"
          ]
        },
        {
          "output_type": "stream",
          "name": "stdout",
          "text": [
            "Accuracy: 22.63 - Loss: 0.015949587336557353 \n",
            "\n"
          ]
        },
        {
          "output_type": "stream",
          "name": "stderr",
          "text": [
            "100%|██████████| 16/16 [00:12<00:00,  1.31it/s]\n",
            "100%|██████████| 14/14 [00:04<00:00,  2.99it/s]\n"
          ]
        },
        {
          "output_type": "stream",
          "name": "stdout",
          "text": [
            "Accuracy: 22.81 - Loss: 0.015912890077351097 \n",
            "\n"
          ]
        },
        {
          "output_type": "stream",
          "name": "stderr",
          "text": [
            "100%|██████████| 16/16 [00:09<00:00,  1.63it/s]\n",
            "100%|██████████| 14/14 [00:04<00:00,  2.97it/s]\n"
          ]
        },
        {
          "output_type": "stream",
          "name": "stdout",
          "text": [
            "Accuracy: 21.08 - Loss: 0.016032762941486107 \n",
            "\n"
          ]
        },
        {
          "output_type": "stream",
          "name": "stderr",
          "text": [
            "100%|██████████| 16/16 [00:09<00:00,  1.62it/s]\n",
            "100%|██████████| 14/14 [00:04<00:00,  3.02it/s]\n"
          ]
        },
        {
          "output_type": "stream",
          "name": "stdout",
          "text": [
            "Accuracy: 23.65 - Loss: 0.015907968304114426 \n",
            "\n"
          ]
        },
        {
          "output_type": "stream",
          "name": "stderr",
          "text": [
            "100%|██████████| 16/16 [00:09<00:00,  1.61it/s]\n",
            "100%|██████████| 14/14 [00:04<00:00,  2.93it/s]\n"
          ]
        },
        {
          "output_type": "stream",
          "name": "stdout",
          "text": [
            "Accuracy: 24.31 - Loss: 0.01591883069740798 \n",
            "\n"
          ]
        },
        {
          "output_type": "stream",
          "name": "stderr",
          "text": [
            "100%|██████████| 16/16 [00:09<00:00,  1.69it/s]\n",
            "100%|██████████| 14/14 [00:05<00:00,  2.38it/s]\n"
          ]
        },
        {
          "output_type": "stream",
          "name": "stdout",
          "text": [
            "Accuracy: 20.78 - Loss: 0.01594882896560395 \n",
            "\n"
          ]
        },
        {
          "output_type": "stream",
          "name": "stderr",
          "text": [
            "100%|██████████| 16/16 [00:08<00:00,  1.80it/s]\n",
            "100%|██████████| 14/14 [00:05<00:00,  2.50it/s]\n"
          ]
        },
        {
          "output_type": "stream",
          "name": "stdout",
          "text": [
            "Accuracy: 24.25 - Loss: 0.015877066972013004 \n",
            "\n"
          ]
        },
        {
          "output_type": "stream",
          "name": "stderr",
          "text": [
            "100%|██████████| 16/16 [00:09<00:00,  1.65it/s]\n",
            "100%|██████████| 14/14 [00:04<00:00,  2.92it/s]\n"
          ]
        },
        {
          "output_type": "stream",
          "name": "stdout",
          "text": [
            "Accuracy: 23.95 - Loss: 0.015832400750257297 \n",
            "\n"
          ]
        },
        {
          "output_type": "stream",
          "name": "stderr",
          "text": [
            "100%|██████████| 16/16 [00:09<00:00,  1.61it/s]\n",
            "100%|██████████| 14/14 [00:04<00:00,  3.01it/s]\n"
          ]
        },
        {
          "output_type": "stream",
          "name": "stdout",
          "text": [
            "Accuracy: 23.29 - Loss: 0.01589745468722132 \n",
            "\n"
          ]
        },
        {
          "output_type": "stream",
          "name": "stderr",
          "text": [
            "100%|██████████| 16/16 [00:09<00:00,  1.62it/s]\n",
            "100%|██████████| 14/14 [00:04<00:00,  3.01it/s]\n"
          ]
        },
        {
          "output_type": "stream",
          "name": "stdout",
          "text": [
            "Accuracy: 22.69 - Loss: 0.01594112497603822 \n",
            "\n"
          ]
        },
        {
          "output_type": "stream",
          "name": "stderr",
          "text": [
            "100%|██████████| 16/16 [00:09<00:00,  1.63it/s]\n",
            "100%|██████████| 14/14 [00:04<00:00,  3.06it/s]\n"
          ]
        },
        {
          "output_type": "stream",
          "name": "stdout",
          "text": [
            "Accuracy: 22.87 - Loss: 0.015915474349153257 \n",
            "\n"
          ]
        },
        {
          "output_type": "stream",
          "name": "stderr",
          "text": [
            "100%|██████████| 16/16 [00:09<00:00,  1.63it/s]\n",
            "100%|██████████| 14/14 [00:05<00:00,  2.71it/s]\n"
          ]
        },
        {
          "output_type": "stream",
          "name": "stdout",
          "text": [
            "Accuracy: 21.86 - Loss: 0.015943392450937968 \n",
            "\n"
          ]
        },
        {
          "output_type": "stream",
          "name": "stderr",
          "text": [
            "100%|██████████| 16/16 [00:09<00:00,  1.72it/s]\n",
            "100%|██████████| 14/14 [00:05<00:00,  2.38it/s]\n"
          ]
        },
        {
          "output_type": "stream",
          "name": "stdout",
          "text": [
            "Accuracy: 22.34 - Loss: 0.015912052542863493 \n",
            "\n"
          ]
        }
      ],
      "source": [
        "warnings.filterwarnings('ignore', category=UserWarning)\n",
        "\n",
        "# Parse arguments\n",
        "conf = { # Art Painting -> Photo\n",
        "    'seed': 0,\n",
        "    'test_only': False,\n",
        "    'cpu': False,\n",
        "    'experiment': 'random',\n",
        "    'experiment_name': '2_2_9',\n",
        "    'experiment_args': {'module_placement': ['layer1.0.conv1', 'layer1.0.conv2', 'layer1.1.conv1', 'layer1.1.conv2', 'layer2.0.conv1', 'layer2.0.conv2', 'layer2.1.conv1', 'layer2.1.conv2', 'layer3.0.conv1', 'layer3.0.conv2', 'layer3.1.conv1', 'layer3.1.conv2', 'layer4.0.conv1', 'layer4.0.conv2', 'layer4.1.conv1', 'layer4.1.conv2'], 'mask_out_ratio': 0.75},\n",
        "    'dataset_args': {'text_root': 'data', 'images_root': 'data/kfold/PACS', 'source_domain': 'art_painting', 'target_domain': 'photo' },\n",
        "    'batch_size': 128,\n",
        "    'epochs': 30,\n",
        "    'num_workers': 5,\n",
        "    'grad_accum_steps': 1\n",
        "}\n",
        "\n",
        "#args = parse_arguments()\n",
        "args = argparse.Namespace(**conf)\n",
        "print(args)\n",
        "CONFIG.update(vars(args))\n",
        "\n",
        "# Setup output directory\n",
        "CONFIG.save_dir = os.path.join('record', CONFIG.experiment_name)\n",
        "os.makedirs(CONFIG.save_dir, exist_ok=True)\n",
        "\n",
        "# Setup logging\n",
        "logging.basicConfig(\n",
        "    filename=os.path.join(CONFIG.save_dir, 'log.txt'),\n",
        "    format='%(message)s',\n",
        "    level=logging.INFO,\n",
        "    filemode='a'\n",
        ")\n",
        "\n",
        "# Set experiment's device & deterministic behavior\n",
        "if CONFIG.cpu:\n",
        "    CONFIG.device = 'cpu'\n",
        "else:\n",
        "    CONFIG.device = 'cuda' if torch.cuda.is_available() else 'cpu'\n",
        "\n",
        "torch.manual_seed(CONFIG.seed)\n",
        "random.seed(CONFIG.seed)\n",
        "np.random.seed(CONFIG.seed)\n",
        "torch.backends.cudnn.benchmark = True\n",
        "torch.use_deterministic_algorithms(mode=True, warn_only=True)\n",
        "\n",
        "main()"
      ]
    },
    {
      "cell_type": "markdown",
      "metadata": {
        "id": "xqtg6L0nrl_U"
      },
      "source": [
        "### 2.3 - ASH module after every three convolutional layers"
      ]
    },
    {
      "cell_type": "markdown",
      "metadata": {
        "id": "wc_0mCrhrl_U"
      },
      "source": [
        "#### 2.3.1 - Art Painting &rightarrow; Cartoon, mor = 0.4"
      ]
    },
    {
      "cell_type": "code",
      "execution_count": 45,
      "metadata": {
        "colab": {
          "base_uri": "https://localhost:8080/"
        },
        "id": "j0qeO77frl_V",
        "outputId": "afac7e5c-2725-477e-ceef-c4172fa79c60"
      },
      "outputs": [
        {
          "output_type": "stream",
          "name": "stdout",
          "text": [
            "Namespace(seed=0, test_only=False, cpu=False, experiment='random', experiment_name='2_3_1', experiment_args={'module_placement': ['layer1.0.conv1', 'layer1.1.conv2', 'layer2.1.conv1', 'layer3.0.conv2', 'layer4.0.conv1', 'layer4.1.conv2'], 'mask_out_ratio': 0.4}, dataset_args={'text_root': 'data', 'images_root': 'data/kfold/PACS', 'source_domain': 'art_painting', 'target_domain': 'cartoon'}, batch_size=128, epochs=30, num_workers=5, grad_accum_steps=1)\n",
            "mask_out_ratio:  0.4\n",
            "layer_name layer1.0.conv1 random_mask sum():  tensor(120682., device='cuda:0')\n",
            "Insert activation shaping layer after  layer1.0.conv1 Conv2d(64, 64, kernel_size=(3, 3), stride=(1, 1), padding=(1, 1), bias=False)\n",
            "mask_out_ratio:  0.4\n",
            "layer_name layer1.1.conv2 random_mask sum():  tensor(120163., device='cuda:0')\n",
            "Insert activation shaping layer after  layer1.1.conv2 Conv2d(64, 64, kernel_size=(3, 3), stride=(1, 1), padding=(1, 1), bias=False)\n",
            "mask_out_ratio:  0.4\n",
            "layer_name layer2.1.conv1 random_mask sum():  tensor(60275., device='cuda:0')\n",
            "Insert activation shaping layer after  layer2.1.conv1 Conv2d(128, 128, kernel_size=(3, 3), stride=(1, 1), padding=(1, 1), bias=False)\n",
            "mask_out_ratio:  0.4\n",
            "layer_name layer3.0.conv2 random_mask sum():  tensor(30148., device='cuda:0')\n",
            "Insert activation shaping layer after  layer3.0.conv2 Conv2d(256, 256, kernel_size=(3, 3), stride=(1, 1), padding=(1, 1), bias=False)\n",
            "mask_out_ratio:  0.4\n",
            "layer_name layer4.0.conv1 random_mask sum():  tensor(15252., device='cuda:0')\n",
            "Insert activation shaping layer after  layer4.0.conv1 Conv2d(256, 512, kernel_size=(3, 3), stride=(2, 2), padding=(1, 1), bias=False)\n",
            "mask_out_ratio:  0.4\n",
            "layer_name layer4.1.conv2 random_mask sum():  tensor(14829., device='cuda:0')\n",
            "Insert activation shaping layer after  layer4.1.conv2 Conv2d(512, 512, kernel_size=(3, 3), stride=(1, 1), padding=(1, 1), bias=False)\n"
          ]
        },
        {
          "output_type": "stream",
          "name": "stderr",
          "text": [
            "100%|██████████| 16/16 [00:09<00:00,  1.68it/s]\n",
            "100%|██████████| 19/19 [00:07<00:00,  2.67it/s]\n"
          ]
        },
        {
          "output_type": "stream",
          "name": "stdout",
          "text": [
            "Accuracy: 13.74 - Loss: 0.016161604851179154 \n",
            "\n"
          ]
        },
        {
          "output_type": "stream",
          "name": "stderr",
          "text": [
            "100%|██████████| 16/16 [00:09<00:00,  1.64it/s]\n",
            "100%|██████████| 19/19 [00:06<00:00,  3.05it/s]\n"
          ]
        },
        {
          "output_type": "stream",
          "name": "stdout",
          "text": [
            "Accuracy: 16.85 - Loss: 0.015927375939518925 \n",
            "\n"
          ]
        },
        {
          "output_type": "stream",
          "name": "stderr",
          "text": [
            "100%|██████████| 16/16 [00:09<00:00,  1.67it/s]\n",
            "100%|██████████| 19/19 [00:06<00:00,  2.89it/s]\n"
          ]
        },
        {
          "output_type": "stream",
          "name": "stdout",
          "text": [
            "Accuracy: 21.46 - Loss: 0.015383644569855907 \n",
            "\n"
          ]
        },
        {
          "output_type": "stream",
          "name": "stderr",
          "text": [
            "100%|██████████| 16/16 [00:09<00:00,  1.77it/s]\n",
            "100%|██████████| 19/19 [00:07<00:00,  2.63it/s]\n"
          ]
        },
        {
          "output_type": "stream",
          "name": "stdout",
          "text": [
            "Accuracy: 21.84 - Loss: 0.015218655658256478 \n",
            "\n"
          ]
        },
        {
          "output_type": "stream",
          "name": "stderr",
          "text": [
            "100%|██████████| 16/16 [00:09<00:00,  1.73it/s]\n",
            "100%|██████████| 19/19 [00:06<00:00,  3.03it/s]\n"
          ]
        },
        {
          "output_type": "stream",
          "name": "stdout",
          "text": [
            "Accuracy: 22.78 - Loss: 0.015281276898172528 \n",
            "\n"
          ]
        },
        {
          "output_type": "stream",
          "name": "stderr",
          "text": [
            "100%|██████████| 16/16 [00:09<00:00,  1.64it/s]\n",
            "100%|██████████| 19/19 [00:06<00:00,  3.16it/s]\n"
          ]
        },
        {
          "output_type": "stream",
          "name": "stdout",
          "text": [
            "Accuracy: 22.95 - Loss: 0.015319769191253715 \n",
            "\n"
          ]
        },
        {
          "output_type": "stream",
          "name": "stderr",
          "text": [
            "100%|██████████| 16/16 [00:09<00:00,  1.66it/s]\n",
            "100%|██████████| 19/19 [00:06<00:00,  2.91it/s]\n"
          ]
        },
        {
          "output_type": "stream",
          "name": "stdout",
          "text": [
            "Accuracy: 23.81 - Loss: 0.015234957274316521 \n",
            "\n"
          ]
        },
        {
          "output_type": "stream",
          "name": "stderr",
          "text": [
            "100%|██████████| 16/16 [00:08<00:00,  1.80it/s]\n",
            "100%|██████████| 19/19 [00:07<00:00,  2.71it/s]\n"
          ]
        },
        {
          "output_type": "stream",
          "name": "stdout",
          "text": [
            "Accuracy: 24.19 - Loss: 0.015351091076082743 \n",
            "\n"
          ]
        },
        {
          "output_type": "stream",
          "name": "stderr",
          "text": [
            "100%|██████████| 16/16 [00:08<00:00,  1.84it/s]\n",
            "100%|██████████| 19/19 [00:06<00:00,  2.83it/s]\n"
          ]
        },
        {
          "output_type": "stream",
          "name": "stdout",
          "text": [
            "Accuracy: 25.26 - Loss: 0.01523749006486183 \n",
            "\n"
          ]
        },
        {
          "output_type": "stream",
          "name": "stderr",
          "text": [
            "100%|██████████| 16/16 [00:09<00:00,  1.65it/s]\n",
            "100%|██████████| 19/19 [00:06<00:00,  3.15it/s]\n"
          ]
        },
        {
          "output_type": "stream",
          "name": "stdout",
          "text": [
            "Accuracy: 24.91 - Loss: 0.015239576278286175 \n",
            "\n"
          ]
        },
        {
          "output_type": "stream",
          "name": "stderr",
          "text": [
            "100%|██████████| 16/16 [00:09<00:00,  1.64it/s]\n",
            "100%|██████████| 19/19 [00:06<00:00,  2.94it/s]\n"
          ]
        },
        {
          "output_type": "stream",
          "name": "stdout",
          "text": [
            "Accuracy: 26.02 - Loss: 0.015114625871384917 \n",
            "\n"
          ]
        },
        {
          "output_type": "stream",
          "name": "stderr",
          "text": [
            "100%|██████████| 16/16 [00:08<00:00,  1.81it/s]\n",
            "100%|██████████| 19/19 [00:06<00:00,  2.76it/s]\n"
          ]
        },
        {
          "output_type": "stream",
          "name": "stdout",
          "text": [
            "Accuracy: 26.92 - Loss: 0.015235705434665745 \n",
            "\n"
          ]
        },
        {
          "output_type": "stream",
          "name": "stderr",
          "text": [
            "100%|██████████| 16/16 [00:08<00:00,  1.91it/s]\n",
            "100%|██████████| 19/19 [00:07<00:00,  2.69it/s]\n"
          ]
        },
        {
          "output_type": "stream",
          "name": "stdout",
          "text": [
            "Accuracy: 27.39 - Loss: 0.015095005670098315 \n",
            "\n"
          ]
        },
        {
          "output_type": "stream",
          "name": "stderr",
          "text": [
            "100%|██████████| 16/16 [00:09<00:00,  1.65it/s]\n",
            "100%|██████████| 19/19 [00:06<00:00,  3.10it/s]\n"
          ]
        },
        {
          "output_type": "stream",
          "name": "stdout",
          "text": [
            "Accuracy: 27.13 - Loss: 0.015199729606966923 \n",
            "\n"
          ]
        },
        {
          "output_type": "stream",
          "name": "stderr",
          "text": [
            "100%|██████████| 16/16 [00:09<00:00,  1.65it/s]\n",
            "100%|██████████| 19/19 [00:06<00:00,  3.05it/s]\n"
          ]
        },
        {
          "output_type": "stream",
          "name": "stdout",
          "text": [
            "Accuracy: 26.24 - Loss: 0.015274463660074176 \n",
            "\n"
          ]
        },
        {
          "output_type": "stream",
          "name": "stderr",
          "text": [
            "100%|██████████| 16/16 [00:09<00:00,  1.71it/s]\n",
            "100%|██████████| 19/19 [00:07<00:00,  2.69it/s]\n"
          ]
        },
        {
          "output_type": "stream",
          "name": "stdout",
          "text": [
            "Accuracy: 26.32 - Loss: 0.015331277769987087 \n",
            "\n"
          ]
        },
        {
          "output_type": "stream",
          "name": "stderr",
          "text": [
            "100%|██████████| 16/16 [00:08<00:00,  1.79it/s]\n",
            "100%|██████████| 19/19 [00:07<00:00,  2.70it/s]\n"
          ]
        },
        {
          "output_type": "stream",
          "name": "stdout",
          "text": [
            "Accuracy: 26.02 - Loss: 0.015272200870432545 \n",
            "\n"
          ]
        },
        {
          "output_type": "stream",
          "name": "stderr",
          "text": [
            "100%|██████████| 16/16 [00:09<00:00,  1.61it/s]\n",
            "100%|██████████| 19/19 [00:06<00:00,  3.05it/s]\n"
          ]
        },
        {
          "output_type": "stream",
          "name": "stdout",
          "text": [
            "Accuracy: 28.33 - Loss: 0.015214739551723207 \n",
            "\n"
          ]
        },
        {
          "output_type": "stream",
          "name": "stderr",
          "text": [
            "100%|██████████| 16/16 [00:09<00:00,  1.64it/s]\n",
            "100%|██████████| 19/19 [00:06<00:00,  2.91it/s]\n"
          ]
        },
        {
          "output_type": "stream",
          "name": "stdout",
          "text": [
            "Accuracy: 27.82 - Loss: 0.015202412833125924 \n",
            "\n"
          ]
        },
        {
          "output_type": "stream",
          "name": "stderr",
          "text": [
            "100%|██████████| 16/16 [00:08<00:00,  1.80it/s]\n",
            "100%|██████████| 19/19 [00:07<00:00,  2.69it/s]\n"
          ]
        },
        {
          "output_type": "stream",
          "name": "stdout",
          "text": [
            "Accuracy: 27.22 - Loss: 0.015371227122004122 \n",
            "\n"
          ]
        },
        {
          "output_type": "stream",
          "name": "stderr",
          "text": [
            "100%|██████████| 16/16 [00:09<00:00,  1.78it/s]\n",
            "100%|██████████| 19/19 [00:06<00:00,  2.86it/s]\n"
          ]
        },
        {
          "output_type": "stream",
          "name": "stdout",
          "text": [
            "Accuracy: 27.47 - Loss: 0.015127644807405439 \n",
            "\n"
          ]
        },
        {
          "output_type": "stream",
          "name": "stderr",
          "text": [
            "100%|██████████| 16/16 [00:09<00:00,  1.66it/s]\n",
            "100%|██████████| 19/19 [00:06<00:00,  3.13it/s]\n"
          ]
        },
        {
          "output_type": "stream",
          "name": "stdout",
          "text": [
            "Accuracy: 26.79 - Loss: 0.015233405366692527 \n",
            "\n"
          ]
        },
        {
          "output_type": "stream",
          "name": "stderr",
          "text": [
            "100%|██████████| 16/16 [00:09<00:00,  1.64it/s]\n",
            "100%|██████████| 19/19 [00:06<00:00,  2.89it/s]\n"
          ]
        },
        {
          "output_type": "stream",
          "name": "stdout",
          "text": [
            "Accuracy: 27.09 - Loss: 0.015413395984180959 \n",
            "\n"
          ]
        },
        {
          "output_type": "stream",
          "name": "stderr",
          "text": [
            "100%|██████████| 16/16 [00:08<00:00,  1.79it/s]\n",
            "100%|██████████| 19/19 [00:07<00:00,  2.59it/s]\n"
          ]
        },
        {
          "output_type": "stream",
          "name": "stdout",
          "text": [
            "Accuracy: 26.15 - Loss: 0.015278065113077392 \n",
            "\n"
          ]
        },
        {
          "output_type": "stream",
          "name": "stderr",
          "text": [
            "100%|██████████| 16/16 [00:09<00:00,  1.75it/s]\n",
            "100%|██████████| 19/19 [00:06<00:00,  2.90it/s]\n"
          ]
        },
        {
          "output_type": "stream",
          "name": "stdout",
          "text": [
            "Accuracy: 26.58 - Loss: 0.01522958822828104 \n",
            "\n"
          ]
        },
        {
          "output_type": "stream",
          "name": "stderr",
          "text": [
            "100%|██████████| 16/16 [00:09<00:00,  1.66it/s]\n",
            "100%|██████████| 19/19 [00:05<00:00,  3.17it/s]\n"
          ]
        },
        {
          "output_type": "stream",
          "name": "stdout",
          "text": [
            "Accuracy: 26.54 - Loss: 0.015372408789172514 \n",
            "\n"
          ]
        },
        {
          "output_type": "stream",
          "name": "stderr",
          "text": [
            "100%|██████████| 16/16 [00:09<00:00,  1.67it/s]\n",
            "100%|██████████| 19/19 [00:06<00:00,  3.10it/s]\n"
          ]
        },
        {
          "output_type": "stream",
          "name": "stdout",
          "text": [
            "Accuracy: 27.35 - Loss: 0.015257733673772714 \n",
            "\n"
          ]
        },
        {
          "output_type": "stream",
          "name": "stderr",
          "text": [
            "100%|██████████| 16/16 [00:09<00:00,  1.74it/s]\n",
            "100%|██████████| 19/19 [00:08<00:00,  2.20it/s]\n"
          ]
        },
        {
          "output_type": "stream",
          "name": "stdout",
          "text": [
            "Accuracy: 27.52 - Loss: 0.015319688124868244 \n",
            "\n"
          ]
        },
        {
          "output_type": "stream",
          "name": "stderr",
          "text": [
            "100%|██████████| 16/16 [00:09<00:00,  1.76it/s]\n",
            "100%|██████████| 19/19 [00:06<00:00,  2.74it/s]\n"
          ]
        },
        {
          "output_type": "stream",
          "name": "stdout",
          "text": [
            "Accuracy: 27.73 - Loss: 0.015235957838976343 \n",
            "\n"
          ]
        },
        {
          "output_type": "stream",
          "name": "stderr",
          "text": [
            "100%|██████████| 16/16 [00:09<00:00,  1.66it/s]\n",
            "100%|██████████| 19/19 [00:05<00:00,  3.19it/s]\n"
          ]
        },
        {
          "output_type": "stream",
          "name": "stdout",
          "text": [
            "Accuracy: 27.65 - Loss: 0.01523727605774134 \n",
            "\n"
          ]
        }
      ],
      "source": [
        "warnings.filterwarnings('ignore', category=UserWarning)\n",
        "\n",
        "# Parse arguments\n",
        "conf = { # Art Painting -> Cartoon\n",
        "    'seed': 0,\n",
        "    'test_only': False,\n",
        "    'cpu': False,\n",
        "    'experiment': 'random',\n",
        "    'experiment_name': '2_3_1',\n",
        "    'experiment_args': {'module_placement': ['layer1.0.conv1', 'layer1.1.conv2', 'layer2.1.conv1', 'layer3.0.conv2', 'layer4.0.conv1', 'layer4.1.conv2'], 'mask_out_ratio': 0.4},\n",
        "    'dataset_args': {'text_root': 'data', 'images_root': 'data/kfold/PACS', 'source_domain': 'art_painting', 'target_domain': 'cartoon' },\n",
        "    'batch_size': 128,\n",
        "    'epochs': 30,\n",
        "    'num_workers': 5,\n",
        "    'grad_accum_steps': 1\n",
        "}\n",
        "\n",
        "#args = parse_arguments()\n",
        "args = argparse.Namespace(**conf)\n",
        "print(args)\n",
        "CONFIG.update(vars(args))\n",
        "\n",
        "# Setup output directory\n",
        "CONFIG.save_dir = os.path.join('record', CONFIG.experiment_name)\n",
        "os.makedirs(CONFIG.save_dir, exist_ok=True)\n",
        "\n",
        "# Setup logging\n",
        "logging.basicConfig(\n",
        "    filename=os.path.join(CONFIG.save_dir, 'log.txt'),\n",
        "    format='%(message)s',\n",
        "    level=logging.INFO,\n",
        "    filemode='a'\n",
        ")\n",
        "\n",
        "# Set experiment's device & deterministic behavior\n",
        "if CONFIG.cpu:\n",
        "    CONFIG.device = 'cpu'\n",
        "else:\n",
        "    CONFIG.device = 'cuda' if torch.cuda.is_available() else 'cpu'\n",
        "\n",
        "torch.manual_seed(CONFIG.seed)\n",
        "random.seed(CONFIG.seed)\n",
        "np.random.seed(CONFIG.seed)\n",
        "torch.backends.cudnn.benchmark = True\n",
        "torch.use_deterministic_algorithms(mode=True, warn_only=True)\n",
        "\n",
        "main()"
      ]
    },
    {
      "cell_type": "markdown",
      "metadata": {
        "id": "7eRR_XWorl_V"
      },
      "source": [
        "#### 2.3.2 - Art Painting &rightarrow; Sketch, mor = 0.4"
      ]
    },
    {
      "cell_type": "code",
      "execution_count": 46,
      "metadata": {
        "colab": {
          "base_uri": "https://localhost:8080/"
        },
        "id": "aoZxM8m_rl_V",
        "outputId": "25f02802-5b9b-4776-d1e6-9c8fd488b7ea"
      },
      "outputs": [
        {
          "output_type": "stream",
          "name": "stdout",
          "text": [
            "Namespace(seed=0, test_only=False, cpu=False, experiment='random', experiment_name='2_3_2', experiment_args={'module_placement': ['layer1.0.conv1', 'layer1.1.conv2', 'layer2.1.conv1', 'layer3.0.conv2', 'layer4.0.conv1', 'layer4.1.conv2'], 'mask_out_ratio': 0.4}, dataset_args={'text_root': 'data', 'images_root': 'data/kfold/PACS', 'source_domain': 'art_painting', 'target_domain': 'sketch'}, batch_size=128, epochs=30, num_workers=5, grad_accum_steps=1)\n",
            "mask_out_ratio:  0.4\n",
            "layer_name layer1.0.conv1 random_mask sum():  tensor(120682., device='cuda:0')\n",
            "Insert activation shaping layer after  layer1.0.conv1 Conv2d(64, 64, kernel_size=(3, 3), stride=(1, 1), padding=(1, 1), bias=False)\n",
            "mask_out_ratio:  0.4\n",
            "layer_name layer1.1.conv2 random_mask sum():  tensor(120163., device='cuda:0')\n",
            "Insert activation shaping layer after  layer1.1.conv2 Conv2d(64, 64, kernel_size=(3, 3), stride=(1, 1), padding=(1, 1), bias=False)\n",
            "mask_out_ratio:  0.4\n",
            "layer_name layer2.1.conv1 random_mask sum():  tensor(60275., device='cuda:0')\n",
            "Insert activation shaping layer after  layer2.1.conv1 Conv2d(128, 128, kernel_size=(3, 3), stride=(1, 1), padding=(1, 1), bias=False)\n",
            "mask_out_ratio:  0.4\n",
            "layer_name layer3.0.conv2 random_mask sum():  tensor(30148., device='cuda:0')\n",
            "Insert activation shaping layer after  layer3.0.conv2 Conv2d(256, 256, kernel_size=(3, 3), stride=(1, 1), padding=(1, 1), bias=False)\n",
            "mask_out_ratio:  0.4\n",
            "layer_name layer4.0.conv1 random_mask sum():  tensor(15252., device='cuda:0')\n",
            "Insert activation shaping layer after  layer4.0.conv1 Conv2d(256, 512, kernel_size=(3, 3), stride=(2, 2), padding=(1, 1), bias=False)\n",
            "mask_out_ratio:  0.4\n",
            "layer_name layer4.1.conv2 random_mask sum():  tensor(14829., device='cuda:0')\n",
            "Insert activation shaping layer after  layer4.1.conv2 Conv2d(512, 512, kernel_size=(3, 3), stride=(1, 1), padding=(1, 1), bias=False)\n"
          ]
        },
        {
          "output_type": "stream",
          "name": "stderr",
          "text": [
            "100%|██████████| 16/16 [00:10<00:00,  1.59it/s]\n",
            "100%|██████████| 31/31 [00:12<00:00,  2.58it/s]\n"
          ]
        },
        {
          "output_type": "stream",
          "name": "stdout",
          "text": [
            "Accuracy: 15.96 - Loss: 0.017005215439974852 \n",
            "\n"
          ]
        },
        {
          "output_type": "stream",
          "name": "stderr",
          "text": [
            "100%|██████████| 16/16 [00:10<00:00,  1.56it/s]\n",
            "100%|██████████| 31/31 [00:11<00:00,  2.61it/s]\n"
          ]
        },
        {
          "output_type": "stream",
          "name": "stdout",
          "text": [
            "Accuracy: 11.61 - Loss: 0.016233431774109307 \n",
            "\n"
          ]
        },
        {
          "output_type": "stream",
          "name": "stderr",
          "text": [
            "100%|██████████| 16/16 [00:08<00:00,  1.87it/s]\n",
            "100%|██████████| 31/31 [00:11<00:00,  2.62it/s]\n"
          ]
        },
        {
          "output_type": "stream",
          "name": "stdout",
          "text": [
            "Accuracy: 12.78 - Loss: 0.015852769236128942 \n",
            "\n"
          ]
        },
        {
          "output_type": "stream",
          "name": "stderr",
          "text": [
            "100%|██████████| 16/16 [00:09<00:00,  1.67it/s]\n",
            "100%|██████████| 31/31 [00:11<00:00,  2.61it/s]\n"
          ]
        },
        {
          "output_type": "stream",
          "name": "stdout",
          "text": [
            "Accuracy: 13.44 - Loss: 0.01600060811264881 \n",
            "\n"
          ]
        },
        {
          "output_type": "stream",
          "name": "stderr",
          "text": [
            "100%|██████████| 16/16 [00:09<00:00,  1.69it/s]\n",
            "100%|██████████| 31/31 [00:11<00:00,  2.66it/s]\n"
          ]
        },
        {
          "output_type": "stream",
          "name": "stdout",
          "text": [
            "Accuracy: 16.16 - Loss: 0.015649510631430205 \n",
            "\n"
          ]
        },
        {
          "output_type": "stream",
          "name": "stderr",
          "text": [
            "100%|██████████| 16/16 [00:08<00:00,  1.93it/s]\n",
            "100%|██████████| 31/31 [00:11<00:00,  2.62it/s]\n"
          ]
        },
        {
          "output_type": "stream",
          "name": "stdout",
          "text": [
            "Accuracy: 16.16 - Loss: 0.015646797550577157 \n",
            "\n"
          ]
        },
        {
          "output_type": "stream",
          "name": "stderr",
          "text": [
            "100%|██████████| 16/16 [00:09<00:00,  1.66it/s]\n",
            "100%|██████████| 31/31 [00:11<00:00,  2.61it/s]\n"
          ]
        },
        {
          "output_type": "stream",
          "name": "stdout",
          "text": [
            "Accuracy: 16.19 - Loss: 0.015663942753070183 \n",
            "\n"
          ]
        },
        {
          "output_type": "stream",
          "name": "stderr",
          "text": [
            "100%|██████████| 16/16 [00:09<00:00,  1.65it/s]\n",
            "100%|██████████| 31/31 [00:11<00:00,  2.71it/s]\n"
          ]
        },
        {
          "output_type": "stream",
          "name": "stdout",
          "text": [
            "Accuracy: 15.98 - Loss: 0.015570136359339301 \n",
            "\n"
          ]
        },
        {
          "output_type": "stream",
          "name": "stderr",
          "text": [
            "100%|██████████| 16/16 [00:08<00:00,  1.85it/s]\n",
            "100%|██████████| 31/31 [00:11<00:00,  2.64it/s]\n"
          ]
        },
        {
          "output_type": "stream",
          "name": "stdout",
          "text": [
            "Accuracy: 18.05 - Loss: 0.015486574804063789 \n",
            "\n"
          ]
        },
        {
          "output_type": "stream",
          "name": "stderr",
          "text": [
            "100%|██████████| 16/16 [00:09<00:00,  1.65it/s]\n",
            "100%|██████████| 31/31 [00:11<00:00,  2.61it/s]\n"
          ]
        },
        {
          "output_type": "stream",
          "name": "stdout",
          "text": [
            "Accuracy: 18.66 - Loss: 0.015360161316974317 \n",
            "\n"
          ]
        },
        {
          "output_type": "stream",
          "name": "stderr",
          "text": [
            "100%|██████████| 16/16 [00:09<00:00,  1.72it/s]\n",
            "100%|██████████| 31/31 [00:10<00:00,  2.86it/s]\n"
          ]
        },
        {
          "output_type": "stream",
          "name": "stdout",
          "text": [
            "Accuracy: 17.82 - Loss: 0.015564419653434492 \n",
            "\n"
          ]
        },
        {
          "output_type": "stream",
          "name": "stderr",
          "text": [
            "100%|██████████| 16/16 [00:09<00:00,  1.76it/s]\n",
            "100%|██████████| 31/31 [00:11<00:00,  2.66it/s]\n"
          ]
        },
        {
          "output_type": "stream",
          "name": "stdout",
          "text": [
            "Accuracy: 18.76 - Loss: 0.015618394427883257 \n",
            "\n"
          ]
        },
        {
          "output_type": "stream",
          "name": "stderr",
          "text": [
            "100%|██████████| 16/16 [00:09<00:00,  1.67it/s]\n",
            "100%|██████████| 31/31 [00:11<00:00,  2.66it/s]\n"
          ]
        },
        {
          "output_type": "stream",
          "name": "stdout",
          "text": [
            "Accuracy: 19.42 - Loss: 0.015493667771962497 \n",
            "\n"
          ]
        },
        {
          "output_type": "stream",
          "name": "stderr",
          "text": [
            "100%|██████████| 16/16 [00:08<00:00,  1.84it/s]\n",
            "100%|██████████| 31/31 [00:11<00:00,  2.68it/s]\n"
          ]
        },
        {
          "output_type": "stream",
          "name": "stdout",
          "text": [
            "Accuracy: 19.93 - Loss: 0.015422090861475113 \n",
            "\n"
          ]
        },
        {
          "output_type": "stream",
          "name": "stderr",
          "text": [
            "100%|██████████| 16/16 [00:09<00:00,  1.65it/s]\n",
            "100%|██████████| 31/31 [00:11<00:00,  2.63it/s]\n"
          ]
        },
        {
          "output_type": "stream",
          "name": "stdout",
          "text": [
            "Accuracy: 19.57 - Loss: 0.015736167319830092 \n",
            "\n"
          ]
        },
        {
          "output_type": "stream",
          "name": "stderr",
          "text": [
            "100%|██████████| 16/16 [00:09<00:00,  1.66it/s]\n",
            "100%|██████████| 31/31 [00:11<00:00,  2.63it/s]\n"
          ]
        },
        {
          "output_type": "stream",
          "name": "stdout",
          "text": [
            "Accuracy: 19.93 - Loss: 0.015472261497282017 \n",
            "\n"
          ]
        },
        {
          "output_type": "stream",
          "name": "stderr",
          "text": [
            "100%|██████████| 16/16 [00:08<00:00,  1.91it/s]\n",
            "100%|██████████| 31/31 [00:11<00:00,  2.66it/s]\n"
          ]
        },
        {
          "output_type": "stream",
          "name": "stdout",
          "text": [
            "Accuracy: 19.73 - Loss: 0.015481803580439707 \n",
            "\n"
          ]
        },
        {
          "output_type": "stream",
          "name": "stderr",
          "text": [
            "100%|██████████| 16/16 [00:09<00:00,  1.66it/s]\n",
            "100%|██████████| 31/31 [00:11<00:00,  2.63it/s]\n"
          ]
        },
        {
          "output_type": "stream",
          "name": "stdout",
          "text": [
            "Accuracy: 20.26 - Loss: 0.015508924315800404 \n",
            "\n"
          ]
        },
        {
          "output_type": "stream",
          "name": "stderr",
          "text": [
            "100%|██████████| 16/16 [00:09<00:00,  1.67it/s]\n",
            "100%|██████████| 31/31 [00:11<00:00,  2.64it/s]\n"
          ]
        },
        {
          "output_type": "stream",
          "name": "stdout",
          "text": [
            "Accuracy: 19.45 - Loss: 0.015477943857318726 \n",
            "\n"
          ]
        },
        {
          "output_type": "stream",
          "name": "stderr",
          "text": [
            "100%|██████████| 16/16 [00:08<00:00,  1.88it/s]\n",
            "100%|██████████| 31/31 [00:11<00:00,  2.63it/s]\n"
          ]
        },
        {
          "output_type": "stream",
          "name": "stdout",
          "text": [
            "Accuracy: 20.23 - Loss: 0.015487464216411432 \n",
            "\n"
          ]
        },
        {
          "output_type": "stream",
          "name": "stderr",
          "text": [
            "100%|██████████| 16/16 [00:09<00:00,  1.69it/s]\n",
            "100%|██████████| 31/31 [00:11<00:00,  2.61it/s]\n"
          ]
        },
        {
          "output_type": "stream",
          "name": "stdout",
          "text": [
            "Accuracy: 20.67 - Loss: 0.015357660197459216 \n",
            "\n"
          ]
        },
        {
          "output_type": "stream",
          "name": "stderr",
          "text": [
            "100%|██████████| 16/16 [00:09<00:00,  1.68it/s]\n",
            "100%|██████████| 31/31 [00:11<00:00,  2.77it/s]\n"
          ]
        },
        {
          "output_type": "stream",
          "name": "stdout",
          "text": [
            "Accuracy: 21.40 - Loss: 0.015480695349716843 \n",
            "\n"
          ]
        },
        {
          "output_type": "stream",
          "name": "stderr",
          "text": [
            "100%|██████████| 16/16 [00:08<00:00,  1.82it/s]\n",
            "100%|██████████| 31/31 [00:11<00:00,  2.66it/s]\n"
          ]
        },
        {
          "output_type": "stream",
          "name": "stdout",
          "text": [
            "Accuracy: 21.05 - Loss: 0.015477784992508318 \n",
            "\n"
          ]
        },
        {
          "output_type": "stream",
          "name": "stderr",
          "text": [
            "100%|██████████| 16/16 [00:09<00:00,  1.70it/s]\n",
            "100%|██████████| 31/31 [00:11<00:00,  2.61it/s]\n"
          ]
        },
        {
          "output_type": "stream",
          "name": "stdout",
          "text": [
            "Accuracy: 20.44 - Loss: 0.015600879248786318 \n",
            "\n"
          ]
        },
        {
          "output_type": "stream",
          "name": "stderr",
          "text": [
            "100%|██████████| 16/16 [00:09<00:00,  1.75it/s]\n",
            "100%|██████████| 31/31 [00:11<00:00,  2.73it/s]\n"
          ]
        },
        {
          "output_type": "stream",
          "name": "stdout",
          "text": [
            "Accuracy: 22.12 - Loss: 0.015463662165726496 \n",
            "\n"
          ]
        },
        {
          "output_type": "stream",
          "name": "stderr",
          "text": [
            "100%|██████████| 16/16 [00:09<00:00,  1.67it/s]\n",
            "100%|██████████| 31/31 [00:11<00:00,  2.61it/s]\n"
          ]
        },
        {
          "output_type": "stream",
          "name": "stdout",
          "text": [
            "Accuracy: 21.23 - Loss: 0.0154740826171541 \n",
            "\n"
          ]
        },
        {
          "output_type": "stream",
          "name": "stderr",
          "text": [
            "100%|██████████| 16/16 [00:09<00:00,  1.68it/s]\n",
            "100%|██████████| 31/31 [00:11<00:00,  2.63it/s]\n"
          ]
        },
        {
          "output_type": "stream",
          "name": "stdout",
          "text": [
            "Accuracy: 21.30 - Loss: 0.015453588753202909 \n",
            "\n"
          ]
        },
        {
          "output_type": "stream",
          "name": "stderr",
          "text": [
            "100%|██████████| 16/16 [00:08<00:00,  1.92it/s]\n",
            "100%|██████████| 31/31 [00:11<00:00,  2.64it/s]\n"
          ]
        },
        {
          "output_type": "stream",
          "name": "stdout",
          "text": [
            "Accuracy: 21.28 - Loss: 0.01546287761143553 \n",
            "\n"
          ]
        },
        {
          "output_type": "stream",
          "name": "stderr",
          "text": [
            "100%|██████████| 16/16 [00:11<00:00,  1.34it/s]\n",
            "100%|██████████| 31/31 [00:11<00:00,  2.65it/s]\n"
          ]
        },
        {
          "output_type": "stream",
          "name": "stdout",
          "text": [
            "Accuracy: 21.12 - Loss: 0.015413549663032032 \n",
            "\n"
          ]
        },
        {
          "output_type": "stream",
          "name": "stderr",
          "text": [
            "100%|██████████| 16/16 [00:09<00:00,  1.66it/s]\n",
            "100%|██████████| 31/31 [00:11<00:00,  2.62it/s]\n"
          ]
        },
        {
          "output_type": "stream",
          "name": "stdout",
          "text": [
            "Accuracy: 22.02 - Loss: 0.01535483321696937 \n",
            "\n"
          ]
        }
      ],
      "source": [
        "warnings.filterwarnings('ignore', category=UserWarning)\n",
        "\n",
        "# Parse arguments\n",
        "conf = { # Art Painting -> Sketch\n",
        "    'seed': 0,\n",
        "    'test_only': False,\n",
        "    'cpu': False,\n",
        "    'experiment': 'random',\n",
        "    'experiment_name': '2_3_2',\n",
        "    'experiment_args': {'module_placement': ['layer1.0.conv1', 'layer1.1.conv2', 'layer2.1.conv1', 'layer3.0.conv2', 'layer4.0.conv1', 'layer4.1.conv2'], 'mask_out_ratio': 0.4},\n",
        "    'dataset_args': {'text_root': 'data', 'images_root': 'data/kfold/PACS', 'source_domain': 'art_painting', 'target_domain': 'sketch' },\n",
        "    'batch_size': 128,\n",
        "    'epochs': 30,\n",
        "    'num_workers': 5,\n",
        "    'grad_accum_steps': 1\n",
        "}\n",
        "\n",
        "#args = parse_arguments()\n",
        "args = argparse.Namespace(**conf)\n",
        "print(args)\n",
        "CONFIG.update(vars(args))\n",
        "\n",
        "# Setup output directory\n",
        "CONFIG.save_dir = os.path.join('record', CONFIG.experiment_name)\n",
        "os.makedirs(CONFIG.save_dir, exist_ok=True)\n",
        "\n",
        "# Setup logging\n",
        "logging.basicConfig(\n",
        "    filename=os.path.join(CONFIG.save_dir, 'log.txt'),\n",
        "    format='%(message)s',\n",
        "    level=logging.INFO,\n",
        "    filemode='a'\n",
        ")\n",
        "\n",
        "# Set experiment's device & deterministic behavior\n",
        "if CONFIG.cpu:\n",
        "    CONFIG.device = 'cpu'\n",
        "else:\n",
        "    CONFIG.device = 'cuda' if torch.cuda.is_available() else 'cpu'\n",
        "\n",
        "torch.manual_seed(CONFIG.seed)\n",
        "random.seed(CONFIG.seed)\n",
        "np.random.seed(CONFIG.seed)\n",
        "torch.backends.cudnn.benchmark = True\n",
        "torch.use_deterministic_algorithms(mode=True, warn_only=True)\n",
        "\n",
        "main()"
      ]
    },
    {
      "cell_type": "markdown",
      "metadata": {
        "id": "q9kOG8Fkrl_V"
      },
      "source": [
        "#### 2.3.3 - Art Painting &rightarrow; Photo, mor = 0.4"
      ]
    },
    {
      "cell_type": "code",
      "execution_count": 47,
      "metadata": {
        "colab": {
          "base_uri": "https://localhost:8080/"
        },
        "id": "oqovp8VHrl_W",
        "outputId": "de105222-c777-4134-d9d9-cc10b1fb5509"
      },
      "outputs": [
        {
          "output_type": "stream",
          "name": "stdout",
          "text": [
            "Namespace(seed=0, test_only=False, cpu=False, experiment='random', experiment_name='2_3_3', experiment_args={'module_placement': ['layer1.0.conv1', 'layer1.1.conv2', 'layer2.1.conv1', 'layer3.0.conv2', 'layer4.0.conv1', 'layer4.1.conv2'], 'mask_out_ratio': 0.4}, dataset_args={'text_root': 'data', 'images_root': 'data/kfold/PACS', 'source_domain': 'art_painting', 'target_domain': 'photo'}, batch_size=128, epochs=30, num_workers=5, grad_accum_steps=1)\n",
            "mask_out_ratio:  0.4\n",
            "layer_name layer1.0.conv1 random_mask sum():  tensor(120682., device='cuda:0')\n",
            "Insert activation shaping layer after  layer1.0.conv1 Conv2d(64, 64, kernel_size=(3, 3), stride=(1, 1), padding=(1, 1), bias=False)\n",
            "mask_out_ratio:  0.4\n",
            "layer_name layer1.1.conv2 random_mask sum():  tensor(120163., device='cuda:0')\n",
            "Insert activation shaping layer after  layer1.1.conv2 Conv2d(64, 64, kernel_size=(3, 3), stride=(1, 1), padding=(1, 1), bias=False)\n",
            "mask_out_ratio:  0.4\n",
            "layer_name layer2.1.conv1 random_mask sum():  tensor(60275., device='cuda:0')\n",
            "Insert activation shaping layer after  layer2.1.conv1 Conv2d(128, 128, kernel_size=(3, 3), stride=(1, 1), padding=(1, 1), bias=False)\n",
            "mask_out_ratio:  0.4\n",
            "layer_name layer3.0.conv2 random_mask sum():  tensor(30148., device='cuda:0')\n",
            "Insert activation shaping layer after  layer3.0.conv2 Conv2d(256, 256, kernel_size=(3, 3), stride=(1, 1), padding=(1, 1), bias=False)\n",
            "mask_out_ratio:  0.4\n",
            "layer_name layer4.0.conv1 random_mask sum():  tensor(15252., device='cuda:0')\n",
            "Insert activation shaping layer after  layer4.0.conv1 Conv2d(256, 512, kernel_size=(3, 3), stride=(2, 2), padding=(1, 1), bias=False)\n",
            "mask_out_ratio:  0.4\n",
            "layer_name layer4.1.conv2 random_mask sum():  tensor(14829., device='cuda:0')\n",
            "Insert activation shaping layer after  layer4.1.conv2 Conv2d(512, 512, kernel_size=(3, 3), stride=(1, 1), padding=(1, 1), bias=False)\n"
          ]
        },
        {
          "output_type": "stream",
          "name": "stderr",
          "text": [
            "100%|██████████| 16/16 [00:09<00:00,  1.63it/s]\n",
            "100%|██████████| 14/14 [00:04<00:00,  2.82it/s]\n"
          ]
        },
        {
          "output_type": "stream",
          "name": "stdout",
          "text": [
            "Accuracy: 17.66 - Loss: 0.016571415755563153 \n",
            "\n"
          ]
        },
        {
          "output_type": "stream",
          "name": "stderr",
          "text": [
            "100%|██████████| 16/16 [00:09<00:00,  1.63it/s]\n",
            "100%|██████████| 14/14 [00:04<00:00,  2.90it/s]\n"
          ]
        },
        {
          "output_type": "stream",
          "name": "stdout",
          "text": [
            "Accuracy: 26.29 - Loss: 0.015550247923342768 \n",
            "\n"
          ]
        },
        {
          "output_type": "stream",
          "name": "stderr",
          "text": [
            "100%|██████████| 16/16 [00:09<00:00,  1.67it/s]\n",
            "100%|██████████| 14/14 [00:04<00:00,  2.90it/s]\n"
          ]
        },
        {
          "output_type": "stream",
          "name": "stdout",
          "text": [
            "Accuracy: 31.14 - Loss: 0.015019191025259965 \n",
            "\n"
          ]
        },
        {
          "output_type": "stream",
          "name": "stderr",
          "text": [
            "100%|██████████| 16/16 [00:09<00:00,  1.67it/s]\n",
            "100%|██████████| 14/14 [00:04<00:00,  3.09it/s]\n"
          ]
        },
        {
          "output_type": "stream",
          "name": "stdout",
          "text": [
            "Accuracy: 36.77 - Loss: 0.014669302623428984 \n",
            "\n"
          ]
        },
        {
          "output_type": "stream",
          "name": "stderr",
          "text": [
            "100%|██████████| 16/16 [00:09<00:00,  1.65it/s]\n",
            "100%|██████████| 14/14 [00:04<00:00,  2.86it/s]\n"
          ]
        },
        {
          "output_type": "stream",
          "name": "stdout",
          "text": [
            "Accuracy: 39.76 - Loss: 0.014345092188098473 \n",
            "\n"
          ]
        },
        {
          "output_type": "stream",
          "name": "stderr",
          "text": [
            "100%|██████████| 16/16 [00:09<00:00,  1.75it/s]\n",
            "100%|██████████| 14/14 [00:05<00:00,  2.52it/s]\n"
          ]
        },
        {
          "output_type": "stream",
          "name": "stdout",
          "text": [
            "Accuracy: 43.23 - Loss: 0.013955945811585753 \n",
            "\n"
          ]
        },
        {
          "output_type": "stream",
          "name": "stderr",
          "text": [
            "100%|██████████| 16/16 [00:08<00:00,  1.89it/s]\n",
            "100%|██████████| 14/14 [00:05<00:00,  2.56it/s]\n"
          ]
        },
        {
          "output_type": "stream",
          "name": "stdout",
          "text": [
            "Accuracy: 42.69 - Loss: 0.013749395944401176 \n",
            "\n"
          ]
        },
        {
          "output_type": "stream",
          "name": "stderr",
          "text": [
            "100%|██████████| 16/16 [00:08<00:00,  1.85it/s]\n",
            "100%|██████████| 14/14 [00:05<00:00,  2.58it/s]\n"
          ]
        },
        {
          "output_type": "stream",
          "name": "stdout",
          "text": [
            "Accuracy: 45.15 - Loss: 0.013502281226083905 \n",
            "\n"
          ]
        },
        {
          "output_type": "stream",
          "name": "stderr",
          "text": [
            "100%|██████████| 16/16 [00:09<00:00,  1.62it/s]\n",
            "100%|██████████| 14/14 [00:04<00:00,  3.03it/s]\n"
          ]
        },
        {
          "output_type": "stream",
          "name": "stdout",
          "text": [
            "Accuracy: 45.63 - Loss: 0.013245968261878648 \n",
            "\n"
          ]
        },
        {
          "output_type": "stream",
          "name": "stderr",
          "text": [
            "100%|██████████| 16/16 [00:09<00:00,  1.62it/s]\n",
            "100%|██████████| 14/14 [00:04<00:00,  3.08it/s]\n"
          ]
        },
        {
          "output_type": "stream",
          "name": "stdout",
          "text": [
            "Accuracy: 46.89 - Loss: 0.01300598611374815 \n",
            "\n"
          ]
        },
        {
          "output_type": "stream",
          "name": "stderr",
          "text": [
            "100%|██████████| 16/16 [00:09<00:00,  1.67it/s]\n",
            "100%|██████████| 14/14 [00:04<00:00,  3.14it/s]\n"
          ]
        },
        {
          "output_type": "stream",
          "name": "stdout",
          "text": [
            "Accuracy: 46.41 - Loss: 0.012766418699732798 \n",
            "\n"
          ]
        },
        {
          "output_type": "stream",
          "name": "stderr",
          "text": [
            "100%|██████████| 16/16 [00:09<00:00,  1.64it/s]\n",
            "100%|██████████| 14/14 [00:04<00:00,  3.14it/s]\n"
          ]
        },
        {
          "output_type": "stream",
          "name": "stdout",
          "text": [
            "Accuracy: 47.90 - Loss: 0.012701783994000829 \n",
            "\n"
          ]
        },
        {
          "output_type": "stream",
          "name": "stderr",
          "text": [
            "100%|██████████| 16/16 [00:09<00:00,  1.64it/s]\n",
            "100%|██████████| 14/14 [00:04<00:00,  2.94it/s]\n"
          ]
        },
        {
          "output_type": "stream",
          "name": "stdout",
          "text": [
            "Accuracy: 49.04 - Loss: 0.012450603096784946 \n",
            "\n"
          ]
        },
        {
          "output_type": "stream",
          "name": "stderr",
          "text": [
            "100%|██████████| 16/16 [00:08<00:00,  1.78it/s]\n",
            "100%|██████████| 14/14 [00:05<00:00,  2.56it/s]\n"
          ]
        },
        {
          "output_type": "stream",
          "name": "stdout",
          "text": [
            "Accuracy: 49.22 - Loss: 0.012379550148627001 \n",
            "\n"
          ]
        },
        {
          "output_type": "stream",
          "name": "stderr",
          "text": [
            "100%|██████████| 16/16 [00:08<00:00,  1.90it/s]\n",
            "100%|██████████| 14/14 [00:05<00:00,  2.57it/s]\n"
          ]
        },
        {
          "output_type": "stream",
          "name": "stdout",
          "text": [
            "Accuracy: 49.22 - Loss: 0.01224311104791607 \n",
            "\n"
          ]
        },
        {
          "output_type": "stream",
          "name": "stderr",
          "text": [
            "100%|██████████| 16/16 [00:08<00:00,  1.91it/s]\n",
            "100%|██████████| 14/14 [00:05<00:00,  2.55it/s]\n"
          ]
        },
        {
          "output_type": "stream",
          "name": "stdout",
          "text": [
            "Accuracy: 50.24 - Loss: 0.012156707226873158 \n",
            "\n"
          ]
        },
        {
          "output_type": "stream",
          "name": "stderr",
          "text": [
            "100%|██████████| 16/16 [00:08<00:00,  1.88it/s]\n",
            "100%|██████████| 14/14 [00:05<00:00,  2.79it/s]\n"
          ]
        },
        {
          "output_type": "stream",
          "name": "stdout",
          "text": [
            "Accuracy: 50.78 - Loss: 0.012003180438173031 \n",
            "\n"
          ]
        },
        {
          "output_type": "stream",
          "name": "stderr",
          "text": [
            "100%|██████████| 16/16 [00:09<00:00,  1.72it/s]\n",
            "100%|██████████| 14/14 [00:04<00:00,  3.10it/s]\n"
          ]
        },
        {
          "output_type": "stream",
          "name": "stdout",
          "text": [
            "Accuracy: 50.72 - Loss: 0.01191789325839745 \n",
            "\n"
          ]
        },
        {
          "output_type": "stream",
          "name": "stderr",
          "text": [
            "100%|██████████| 16/16 [00:09<00:00,  1.69it/s]\n",
            "100%|██████████| 14/14 [00:04<00:00,  3.21it/s]\n"
          ]
        },
        {
          "output_type": "stream",
          "name": "stdout",
          "text": [
            "Accuracy: 52.04 - Loss: 0.01163837131625878 \n",
            "\n"
          ]
        },
        {
          "output_type": "stream",
          "name": "stderr",
          "text": [
            "100%|██████████| 16/16 [00:09<00:00,  1.69it/s]\n",
            "100%|██████████| 14/14 [00:04<00:00,  3.21it/s]\n"
          ]
        },
        {
          "output_type": "stream",
          "name": "stdout",
          "text": [
            "Accuracy: 50.78 - Loss: 0.011825722348904182 \n",
            "\n"
          ]
        },
        {
          "output_type": "stream",
          "name": "stderr",
          "text": [
            "100%|██████████| 16/16 [00:09<00:00,  1.68it/s]\n",
            "100%|██████████| 14/14 [00:04<00:00,  3.21it/s]\n"
          ]
        },
        {
          "output_type": "stream",
          "name": "stdout",
          "text": [
            "Accuracy: 52.04 - Loss: 0.011572519533648462 \n",
            "\n"
          ]
        },
        {
          "output_type": "stream",
          "name": "stderr",
          "text": [
            "100%|██████████| 16/16 [00:09<00:00,  1.70it/s]\n",
            "100%|██████████| 14/14 [00:04<00:00,  3.23it/s]\n"
          ]
        },
        {
          "output_type": "stream",
          "name": "stdout",
          "text": [
            "Accuracy: 51.92 - Loss: 0.011361408804705044 \n",
            "\n"
          ]
        },
        {
          "output_type": "stream",
          "name": "stderr",
          "text": [
            "100%|██████████| 16/16 [00:09<00:00,  1.68it/s]\n",
            "100%|██████████| 14/14 [00:04<00:00,  3.18it/s]\n"
          ]
        },
        {
          "output_type": "stream",
          "name": "stdout",
          "text": [
            "Accuracy: 53.17 - Loss: 0.01134912503693632 \n",
            "\n"
          ]
        },
        {
          "output_type": "stream",
          "name": "stderr",
          "text": [
            "100%|██████████| 16/16 [00:09<00:00,  1.67it/s]\n",
            "100%|██████████| 14/14 [00:04<00:00,  2.91it/s]\n"
          ]
        },
        {
          "output_type": "stream",
          "name": "stdout",
          "text": [
            "Accuracy: 51.68 - Loss: 0.01131542664088175 \n",
            "\n"
          ]
        },
        {
          "output_type": "stream",
          "name": "stderr",
          "text": [
            "100%|██████████| 16/16 [00:08<00:00,  1.80it/s]\n",
            "100%|██████████| 14/14 [00:05<00:00,  2.56it/s]\n"
          ]
        },
        {
          "output_type": "stream",
          "name": "stdout",
          "text": [
            "Accuracy: 52.16 - Loss: 0.011268272692571857 \n",
            "\n"
          ]
        },
        {
          "output_type": "stream",
          "name": "stderr",
          "text": [
            "100%|██████████| 16/16 [00:08<00:00,  1.89it/s]\n",
            "100%|██████████| 14/14 [00:05<00:00,  2.57it/s]\n"
          ]
        },
        {
          "output_type": "stream",
          "name": "stdout",
          "text": [
            "Accuracy: 52.81 - Loss: 0.011332028319021898 \n",
            "\n"
          ]
        },
        {
          "output_type": "stream",
          "name": "stderr",
          "text": [
            "100%|██████████| 16/16 [00:08<00:00,  1.90it/s]\n",
            "100%|██████████| 14/14 [00:05<00:00,  2.59it/s]\n"
          ]
        },
        {
          "output_type": "stream",
          "name": "stdout",
          "text": [
            "Accuracy: 53.23 - Loss: 0.01133190675409968 \n",
            "\n"
          ]
        },
        {
          "output_type": "stream",
          "name": "stderr",
          "text": [
            "100%|██████████| 16/16 [00:09<00:00,  1.77it/s]\n",
            "100%|██████████| 14/14 [00:04<00:00,  3.00it/s]\n"
          ]
        },
        {
          "output_type": "stream",
          "name": "stdout",
          "text": [
            "Accuracy: 53.11 - Loss: 0.011222360555283323 \n",
            "\n"
          ]
        },
        {
          "output_type": "stream",
          "name": "stderr",
          "text": [
            "100%|██████████| 16/16 [00:09<00:00,  1.65it/s]\n",
            "100%|██████████| 14/14 [00:04<00:00,  3.18it/s]\n"
          ]
        },
        {
          "output_type": "stream",
          "name": "stdout",
          "text": [
            "Accuracy: 54.31 - Loss: 0.011225646769929074 \n",
            "\n"
          ]
        },
        {
          "output_type": "stream",
          "name": "stderr",
          "text": [
            "100%|██████████| 16/16 [00:09<00:00,  1.65it/s]\n",
            "100%|██████████| 14/14 [00:04<00:00,  3.13it/s]\n"
          ]
        },
        {
          "output_type": "stream",
          "name": "stdout",
          "text": [
            "Accuracy: 53.47 - Loss: 0.011263078629613637 \n",
            "\n"
          ]
        }
      ],
      "source": [
        "warnings.filterwarnings('ignore', category=UserWarning)\n",
        "\n",
        "# Parse arguments\n",
        "conf = { # Art Painting -> Photo\n",
        "    'seed': 0,\n",
        "    'test_only': False,\n",
        "    'cpu': False,\n",
        "    'experiment': 'random',\n",
        "    'experiment_name': '2_3_3',\n",
        "    'experiment_args': {'module_placement': ['layer1.0.conv1', 'layer1.1.conv2', 'layer2.1.conv1', 'layer3.0.conv2', 'layer4.0.conv1', 'layer4.1.conv2'], 'mask_out_ratio': 0.4},\n",
        "    'dataset_args': {'text_root': 'data', 'images_root': 'data/kfold/PACS', 'source_domain': 'art_painting', 'target_domain': 'photo' },\n",
        "    'batch_size': 128,\n",
        "    'epochs': 30,\n",
        "    'num_workers': 5,\n",
        "    'grad_accum_steps': 1\n",
        "}\n",
        "\n",
        "#args = parse_arguments()\n",
        "args = argparse.Namespace(**conf)\n",
        "print(args)\n",
        "CONFIG.update(vars(args))\n",
        "\n",
        "# Setup output directory\n",
        "CONFIG.save_dir = os.path.join('record', CONFIG.experiment_name)\n",
        "os.makedirs(CONFIG.save_dir, exist_ok=True)\n",
        "\n",
        "# Setup logging\n",
        "logging.basicConfig(\n",
        "    filename=os.path.join(CONFIG.save_dir, 'log.txt'),\n",
        "    format='%(message)s',\n",
        "    level=logging.INFO,\n",
        "    filemode='a'\n",
        ")\n",
        "\n",
        "# Set experiment's device & deterministic behavior\n",
        "if CONFIG.cpu:\n",
        "    CONFIG.device = 'cpu'\n",
        "else:\n",
        "    CONFIG.device = 'cuda' if torch.cuda.is_available() else 'cpu'\n",
        "\n",
        "torch.manual_seed(CONFIG.seed)\n",
        "random.seed(CONFIG.seed)\n",
        "np.random.seed(CONFIG.seed)\n",
        "torch.backends.cudnn.benchmark = True\n",
        "torch.use_deterministic_algorithms(mode=True, warn_only=True)\n",
        "\n",
        "main()"
      ]
    },
    {
      "cell_type": "markdown",
      "metadata": {
        "id": "tfkzXCehrl_W"
      },
      "source": [
        "#### 2.3.4 - Art Painting &rightarrow; Cartoon, mor = 0.55"
      ]
    },
    {
      "cell_type": "code",
      "execution_count": 48,
      "metadata": {
        "colab": {
          "base_uri": "https://localhost:8080/"
        },
        "id": "CWTbP51Rrl_W",
        "outputId": "768755cd-e584-43bf-8e9a-5636875b764d"
      },
      "outputs": [
        {
          "output_type": "stream",
          "name": "stdout",
          "text": [
            "Namespace(seed=0, test_only=False, cpu=False, experiment='random', experiment_name='2_3_4', experiment_args={'module_placement': ['layer1.0.conv1', 'layer1.1.conv2', 'layer2.1.conv1', 'layer3.0.conv2', 'layer4.0.conv1', 'layer4.1.conv2'], 'mask_out_ratio': 0.55}, dataset_args={'text_root': 'data', 'images_root': 'data/kfold/PACS', 'source_domain': 'art_painting', 'target_domain': 'cartoon'}, batch_size=128, epochs=30, num_workers=5, grad_accum_steps=1)\n",
            "mask_out_ratio:  0.55\n",
            "layer_name layer1.0.conv1 random_mask sum():  tensor(90359., device='cuda:0')\n",
            "Insert activation shaping layer after  layer1.0.conv1 Conv2d(64, 64, kernel_size=(3, 3), stride=(1, 1), padding=(1, 1), bias=False)\n",
            "mask_out_ratio:  0.55\n",
            "layer_name layer1.1.conv2 random_mask sum():  tensor(89968., device='cuda:0')\n",
            "Insert activation shaping layer after  layer1.1.conv2 Conv2d(64, 64, kernel_size=(3, 3), stride=(1, 1), padding=(1, 1), bias=False)\n",
            "mask_out_ratio:  0.55\n",
            "layer_name layer2.1.conv1 random_mask sum():  tensor(44856., device='cuda:0')\n",
            "Insert activation shaping layer after  layer2.1.conv1 Conv2d(128, 128, kernel_size=(3, 3), stride=(1, 1), padding=(1, 1), bias=False)\n",
            "mask_out_ratio:  0.55\n",
            "layer_name layer3.0.conv2 random_mask sum():  tensor(22787., device='cuda:0')\n",
            "Insert activation shaping layer after  layer3.0.conv2 Conv2d(256, 256, kernel_size=(3, 3), stride=(1, 1), padding=(1, 1), bias=False)\n",
            "mask_out_ratio:  0.55\n",
            "layer_name layer4.0.conv1 random_mask sum():  tensor(11407., device='cuda:0')\n",
            "Insert activation shaping layer after  layer4.0.conv1 Conv2d(256, 512, kernel_size=(3, 3), stride=(2, 2), padding=(1, 1), bias=False)\n",
            "mask_out_ratio:  0.55\n",
            "layer_name layer4.1.conv2 random_mask sum():  tensor(11090., device='cuda:0')\n",
            "Insert activation shaping layer after  layer4.1.conv2 Conv2d(512, 512, kernel_size=(3, 3), stride=(1, 1), padding=(1, 1), bias=False)\n"
          ]
        },
        {
          "output_type": "stream",
          "name": "stderr",
          "text": [
            "100%|██████████| 16/16 [00:10<00:00,  1.60it/s]\n",
            "100%|██████████| 19/19 [00:06<00:00,  2.72it/s]\n"
          ]
        },
        {
          "output_type": "stream",
          "name": "stdout",
          "text": [
            "Accuracy: 14.59 - Loss: 0.015986201401049772 \n",
            "\n"
          ]
        },
        {
          "output_type": "stream",
          "name": "stderr",
          "text": [
            "100%|██████████| 16/16 [00:09<00:00,  1.64it/s]\n",
            "100%|██████████| 19/19 [00:07<00:00,  2.49it/s]\n"
          ]
        },
        {
          "output_type": "stream",
          "name": "stdout",
          "text": [
            "Accuracy: 15.27 - Loss: 0.015854306900460566 \n",
            "\n"
          ]
        },
        {
          "output_type": "stream",
          "name": "stderr",
          "text": [
            "100%|██████████| 16/16 [00:08<00:00,  1.80it/s]\n",
            "100%|██████████| 19/19 [00:07<00:00,  2.67it/s]\n"
          ]
        },
        {
          "output_type": "stream",
          "name": "stdout",
          "text": [
            "Accuracy: 17.06 - Loss: 0.01564911068909811 \n",
            "\n"
          ]
        },
        {
          "output_type": "stream",
          "name": "stderr",
          "text": [
            "100%|██████████| 16/16 [00:09<00:00,  1.69it/s]\n",
            "100%|██████████| 19/19 [00:06<00:00,  3.02it/s]\n"
          ]
        },
        {
          "output_type": "stream",
          "name": "stdout",
          "text": [
            "Accuracy: 18.26 - Loss: 0.015506140913165876 \n",
            "\n"
          ]
        },
        {
          "output_type": "stream",
          "name": "stderr",
          "text": [
            "100%|██████████| 16/16 [00:09<00:00,  1.65it/s]\n",
            "100%|██████████| 19/19 [00:07<00:00,  2.69it/s]\n"
          ]
        },
        {
          "output_type": "stream",
          "name": "stdout",
          "text": [
            "Accuracy: 19.75 - Loss: 0.015531011307198847 \n",
            "\n"
          ]
        },
        {
          "output_type": "stream",
          "name": "stderr",
          "text": [
            "100%|██████████| 16/16 [00:08<00:00,  1.92it/s]\n",
            "100%|██████████| 19/19 [00:07<00:00,  2.55it/s]\n"
          ]
        },
        {
          "output_type": "stream",
          "name": "stdout",
          "text": [
            "Accuracy: 20.61 - Loss: 0.015570405908818944 \n",
            "\n"
          ]
        },
        {
          "output_type": "stream",
          "name": "stderr",
          "text": [
            "100%|██████████| 16/16 [00:09<00:00,  1.72it/s]\n",
            "100%|██████████| 19/19 [00:06<00:00,  2.87it/s]\n"
          ]
        },
        {
          "output_type": "stream",
          "name": "stdout",
          "text": [
            "Accuracy: 20.39 - Loss: 0.015538242998383557 \n",
            "\n"
          ]
        },
        {
          "output_type": "stream",
          "name": "stderr",
          "text": [
            "100%|██████████| 16/16 [00:09<00:00,  1.67it/s]\n",
            "100%|██████████| 19/19 [00:06<00:00,  2.97it/s]\n"
          ]
        },
        {
          "output_type": "stream",
          "name": "stdout",
          "text": [
            "Accuracy: 20.95 - Loss: 0.015544493603218131 \n",
            "\n"
          ]
        },
        {
          "output_type": "stream",
          "name": "stderr",
          "text": [
            "100%|██████████| 16/16 [00:09<00:00,  1.62it/s]\n",
            "100%|██████████| 19/19 [00:07<00:00,  2.55it/s]\n"
          ]
        },
        {
          "output_type": "stream",
          "name": "stdout",
          "text": [
            "Accuracy: 21.93 - Loss: 0.015504514143735475 \n",
            "\n"
          ]
        },
        {
          "output_type": "stream",
          "name": "stderr",
          "text": [
            "100%|██████████| 16/16 [00:08<00:00,  1.90it/s]\n",
            "100%|██████████| 19/19 [00:07<00:00,  2.53it/s]\n"
          ]
        },
        {
          "output_type": "stream",
          "name": "stdout",
          "text": [
            "Accuracy: 23.42 - Loss: 0.015448550722297954 \n",
            "\n"
          ]
        },
        {
          "output_type": "stream",
          "name": "stderr",
          "text": [
            "100%|██████████| 16/16 [00:10<00:00,  1.58it/s]\n",
            "100%|██████████| 19/19 [00:07<00:00,  2.47it/s]\n"
          ]
        },
        {
          "output_type": "stream",
          "name": "stdout",
          "text": [
            "Accuracy: 23.46 - Loss: 0.015362244824093763 \n",
            "\n"
          ]
        },
        {
          "output_type": "stream",
          "name": "stderr",
          "text": [
            "100%|██████████| 16/16 [00:09<00:00,  1.65it/s]\n",
            "100%|██████████| 19/19 [00:06<00:00,  3.01it/s]\n"
          ]
        },
        {
          "output_type": "stream",
          "name": "stdout",
          "text": [
            "Accuracy: 23.25 - Loss: 0.015456849651938819 \n",
            "\n"
          ]
        },
        {
          "output_type": "stream",
          "name": "stderr",
          "text": [
            "100%|██████████| 16/16 [00:09<00:00,  1.70it/s]\n",
            "100%|██████████| 19/19 [00:07<00:00,  2.61it/s]\n"
          ]
        },
        {
          "output_type": "stream",
          "name": "stdout",
          "text": [
            "Accuracy: 23.72 - Loss: 0.015384139613893658 \n",
            "\n"
          ]
        },
        {
          "output_type": "stream",
          "name": "stderr",
          "text": [
            "100%|██████████| 16/16 [00:08<00:00,  1.91it/s]\n",
            "100%|██████████| 19/19 [00:07<00:00,  2.58it/s]\n"
          ]
        },
        {
          "output_type": "stream",
          "name": "stdout",
          "text": [
            "Accuracy: 25.00 - Loss: 0.015410210390546623 \n",
            "\n"
          ]
        },
        {
          "output_type": "stream",
          "name": "stderr",
          "text": [
            "100%|██████████| 16/16 [00:09<00:00,  1.68it/s]\n",
            "100%|██████████| 19/19 [00:06<00:00,  3.05it/s]\n"
          ]
        },
        {
          "output_type": "stream",
          "name": "stdout",
          "text": [
            "Accuracy: 23.46 - Loss: 0.015456175895681153 \n",
            "\n"
          ]
        },
        {
          "output_type": "stream",
          "name": "stderr",
          "text": [
            "100%|██████████| 16/16 [00:09<00:00,  1.71it/s]\n",
            "100%|██████████| 19/19 [00:06<00:00,  3.04it/s]\n"
          ]
        },
        {
          "output_type": "stream",
          "name": "stdout",
          "text": [
            "Accuracy: 23.59 - Loss: 0.015426391322458157 \n",
            "\n"
          ]
        },
        {
          "output_type": "stream",
          "name": "stderr",
          "text": [
            "100%|██████████| 16/16 [00:09<00:00,  1.70it/s]\n",
            "100%|██████████| 19/19 [00:07<00:00,  2.64it/s]\n"
          ]
        },
        {
          "output_type": "stream",
          "name": "stdout",
          "text": [
            "Accuracy: 23.59 - Loss: 0.015410372828460797 \n",
            "\n"
          ]
        },
        {
          "output_type": "stream",
          "name": "stderr",
          "text": [
            "100%|██████████| 16/16 [00:08<00:00,  1.92it/s]\n",
            "100%|██████████| 19/19 [00:07<00:00,  2.58it/s]\n"
          ]
        },
        {
          "output_type": "stream",
          "name": "stdout",
          "text": [
            "Accuracy: 23.93 - Loss: 0.015366541901952984 \n",
            "\n"
          ]
        },
        {
          "output_type": "stream",
          "name": "stderr",
          "text": [
            "100%|██████████| 16/16 [00:09<00:00,  1.69it/s]\n",
            "100%|██████████| 19/19 [00:06<00:00,  3.01it/s]\n"
          ]
        },
        {
          "output_type": "stream",
          "name": "stdout",
          "text": [
            "Accuracy: 24.79 - Loss: 0.015371789399267463 \n",
            "\n"
          ]
        },
        {
          "output_type": "stream",
          "name": "stderr",
          "text": [
            "100%|██████████| 16/16 [00:09<00:00,  1.67it/s]\n",
            "100%|██████████| 19/19 [00:06<00:00,  3.11it/s]\n"
          ]
        },
        {
          "output_type": "stream",
          "name": "stdout",
          "text": [
            "Accuracy: 24.53 - Loss: 0.015480274226478342 \n",
            "\n"
          ]
        },
        {
          "output_type": "stream",
          "name": "stderr",
          "text": [
            "100%|██████████| 16/16 [00:09<00:00,  1.71it/s]\n",
            "100%|██████████| 19/19 [00:07<00:00,  2.64it/s]\n"
          ]
        },
        {
          "output_type": "stream",
          "name": "stdout",
          "text": [
            "Accuracy: 24.32 - Loss: 0.01539653214171478 \n",
            "\n"
          ]
        },
        {
          "output_type": "stream",
          "name": "stderr",
          "text": [
            "100%|██████████| 16/16 [00:08<00:00,  1.95it/s]\n",
            "100%|██████████| 19/19 [00:07<00:00,  2.62it/s]\n"
          ]
        },
        {
          "output_type": "stream",
          "name": "stdout",
          "text": [
            "Accuracy: 23.46 - Loss: 0.015462920425694957 \n",
            "\n"
          ]
        },
        {
          "output_type": "stream",
          "name": "stderr",
          "text": [
            "100%|██████████| 16/16 [00:09<00:00,  1.72it/s]\n",
            "100%|██████████| 19/19 [00:06<00:00,  3.07it/s]\n"
          ]
        },
        {
          "output_type": "stream",
          "name": "stdout",
          "text": [
            "Accuracy: 24.02 - Loss: 0.015525695000085408 \n",
            "\n"
          ]
        },
        {
          "output_type": "stream",
          "name": "stderr",
          "text": [
            "100%|██████████| 16/16 [00:09<00:00,  1.63it/s]\n",
            "100%|██████████| 19/19 [00:06<00:00,  3.01it/s]\n"
          ]
        },
        {
          "output_type": "stream",
          "name": "stdout",
          "text": [
            "Accuracy: 23.89 - Loss: 0.015494109318931762 \n",
            "\n"
          ]
        },
        {
          "output_type": "stream",
          "name": "stderr",
          "text": [
            "100%|██████████| 16/16 [00:09<00:00,  1.66it/s]\n",
            "100%|██████████| 19/19 [00:07<00:00,  2.58it/s]\n"
          ]
        },
        {
          "output_type": "stream",
          "name": "stdout",
          "text": [
            "Accuracy: 23.93 - Loss: 0.015493072035369612 \n",
            "\n"
          ]
        },
        {
          "output_type": "stream",
          "name": "stderr",
          "text": [
            "100%|██████████| 16/16 [00:08<00:00,  1.89it/s]\n",
            "100%|██████████| 19/19 [00:07<00:00,  2.60it/s]\n"
          ]
        },
        {
          "output_type": "stream",
          "name": "stdout",
          "text": [
            "Accuracy: 25.17 - Loss: 0.01546442661269126 \n",
            "\n"
          ]
        },
        {
          "output_type": "stream",
          "name": "stderr",
          "text": [
            "100%|██████████| 16/16 [00:09<00:00,  1.70it/s]\n",
            "100%|██████████| 19/19 [00:06<00:00,  3.06it/s]\n"
          ]
        },
        {
          "output_type": "stream",
          "name": "stdout",
          "text": [
            "Accuracy: 24.74 - Loss: 0.015382876880339794 \n",
            "\n"
          ]
        },
        {
          "output_type": "stream",
          "name": "stderr",
          "text": [
            "100%|██████████| 16/16 [00:09<00:00,  1.67it/s]\n",
            "100%|██████████| 19/19 [00:06<00:00,  3.05it/s]\n"
          ]
        },
        {
          "output_type": "stream",
          "name": "stdout",
          "text": [
            "Accuracy: 24.10 - Loss: 0.015498726644613638 \n",
            "\n"
          ]
        },
        {
          "output_type": "stream",
          "name": "stderr",
          "text": [
            "100%|██████████| 16/16 [00:09<00:00,  1.72it/s]\n",
            "100%|██████████| 19/19 [00:07<00:00,  2.62it/s]\n"
          ]
        },
        {
          "output_type": "stream",
          "name": "stdout",
          "text": [
            "Accuracy: 23.59 - Loss: 0.015498207189117276 \n",
            "\n"
          ]
        },
        {
          "output_type": "stream",
          "name": "stderr",
          "text": [
            "100%|██████████| 16/16 [00:08<00:00,  1.91it/s]\n",
            "100%|██████████| 19/19 [00:07<00:00,  2.62it/s]\n"
          ]
        },
        {
          "output_type": "stream",
          "name": "stdout",
          "text": [
            "Accuracy: 25.21 - Loss: 0.015311018802200161 \n",
            "\n"
          ]
        }
      ],
      "source": [
        "warnings.filterwarnings('ignore', category=UserWarning)\n",
        "\n",
        "# Parse arguments\n",
        "conf = { # Art Painting -> Cartoon\n",
        "    'seed': 0,\n",
        "    'test_only': False,\n",
        "    'cpu': False,\n",
        "    'experiment': 'random',\n",
        "    'experiment_name': '2_3_4',\n",
        "    'experiment_args': {'module_placement': ['layer1.0.conv1', 'layer1.1.conv2', 'layer2.1.conv1', 'layer3.0.conv2', 'layer4.0.conv1', 'layer4.1.conv2'], 'mask_out_ratio': 0.55},\n",
        "    'dataset_args': {'text_root': 'data', 'images_root': 'data/kfold/PACS', 'source_domain': 'art_painting', 'target_domain': 'cartoon' },\n",
        "    'batch_size': 128,\n",
        "    'epochs': 30,\n",
        "    'num_workers': 5,\n",
        "    'grad_accum_steps': 1\n",
        "}\n",
        "\n",
        "#args = parse_arguments()\n",
        "args = argparse.Namespace(**conf)\n",
        "print(args)\n",
        "CONFIG.update(vars(args))\n",
        "\n",
        "# Setup output directory\n",
        "CONFIG.save_dir = os.path.join('record', CONFIG.experiment_name)\n",
        "os.makedirs(CONFIG.save_dir, exist_ok=True)\n",
        "\n",
        "# Setup logging\n",
        "logging.basicConfig(\n",
        "    filename=os.path.join(CONFIG.save_dir, 'log.txt'),\n",
        "    format='%(message)s',\n",
        "    level=logging.INFO,\n",
        "    filemode='a'\n",
        ")\n",
        "\n",
        "# Set experiment's device & deterministic behavior\n",
        "if CONFIG.cpu:\n",
        "    CONFIG.device = 'cpu'\n",
        "else:\n",
        "    CONFIG.device = 'cuda' if torch.cuda.is_available() else 'cpu'\n",
        "\n",
        "torch.manual_seed(CONFIG.seed)\n",
        "random.seed(CONFIG.seed)\n",
        "np.random.seed(CONFIG.seed)\n",
        "torch.backends.cudnn.benchmark = True\n",
        "torch.use_deterministic_algorithms(mode=True, warn_only=True)\n",
        "\n",
        "main()"
      ]
    },
    {
      "cell_type": "markdown",
      "metadata": {
        "id": "GH85A-Zhrl_W"
      },
      "source": [
        "#### 2.3.5 - Art Painting &rightarrow; Sketch, mor = 0.55"
      ]
    },
    {
      "cell_type": "code",
      "execution_count": 49,
      "metadata": {
        "colab": {
          "base_uri": "https://localhost:8080/"
        },
        "id": "_KWfFlFcrl_X",
        "outputId": "6dec73ea-e3a5-4f4d-ceeb-bfcfb018b69e"
      },
      "outputs": [
        {
          "output_type": "stream",
          "name": "stdout",
          "text": [
            "Namespace(seed=0, test_only=False, cpu=False, experiment='random', experiment_name='2_3_5', experiment_args={'module_placement': ['layer1.0.conv1', 'layer1.1.conv2', 'layer2.1.conv1', 'layer3.0.conv2', 'layer4.0.conv1', 'layer4.1.conv2'], 'mask_out_ratio': 0.55}, dataset_args={'text_root': 'data', 'images_root': 'data/kfold/PACS', 'source_domain': 'art_painting', 'target_domain': 'sketch'}, batch_size=128, epochs=30, num_workers=5, grad_accum_steps=1)\n",
            "mask_out_ratio:  0.55\n",
            "layer_name layer1.0.conv1 random_mask sum():  tensor(90359., device='cuda:0')\n",
            "Insert activation shaping layer after  layer1.0.conv1 Conv2d(64, 64, kernel_size=(3, 3), stride=(1, 1), padding=(1, 1), bias=False)\n",
            "mask_out_ratio:  0.55\n",
            "layer_name layer1.1.conv2 random_mask sum():  tensor(89968., device='cuda:0')\n",
            "Insert activation shaping layer after  layer1.1.conv2 Conv2d(64, 64, kernel_size=(3, 3), stride=(1, 1), padding=(1, 1), bias=False)\n",
            "mask_out_ratio:  0.55\n",
            "layer_name layer2.1.conv1 random_mask sum():  tensor(44856., device='cuda:0')\n",
            "Insert activation shaping layer after  layer2.1.conv1 Conv2d(128, 128, kernel_size=(3, 3), stride=(1, 1), padding=(1, 1), bias=False)\n",
            "mask_out_ratio:  0.55\n",
            "layer_name layer3.0.conv2 random_mask sum():  tensor(22787., device='cuda:0')\n",
            "Insert activation shaping layer after  layer3.0.conv2 Conv2d(256, 256, kernel_size=(3, 3), stride=(1, 1), padding=(1, 1), bias=False)\n",
            "mask_out_ratio:  0.55\n",
            "layer_name layer4.0.conv1 random_mask sum():  tensor(11407., device='cuda:0')\n",
            "Insert activation shaping layer after  layer4.0.conv1 Conv2d(256, 512, kernel_size=(3, 3), stride=(2, 2), padding=(1, 1), bias=False)\n",
            "mask_out_ratio:  0.55\n",
            "layer_name layer4.1.conv2 random_mask sum():  tensor(11090., device='cuda:0')\n",
            "Insert activation shaping layer after  layer4.1.conv2 Conv2d(512, 512, kernel_size=(3, 3), stride=(1, 1), padding=(1, 1), bias=False)\n"
          ]
        },
        {
          "output_type": "stream",
          "name": "stderr",
          "text": [
            "100%|██████████| 16/16 [00:09<00:00,  1.61it/s]\n",
            "100%|██████████| 31/31 [00:12<00:00,  2.55it/s]\n"
          ]
        },
        {
          "output_type": "stream",
          "name": "stdout",
          "text": [
            "Accuracy: 11.05 - Loss: 0.016893397338762328 \n",
            "\n"
          ]
        },
        {
          "output_type": "stream",
          "name": "stderr",
          "text": [
            "100%|██████████| 16/16 [00:08<00:00,  1.94it/s]\n",
            "100%|██████████| 31/31 [00:11<00:00,  2.73it/s]\n"
          ]
        },
        {
          "output_type": "stream",
          "name": "stdout",
          "text": [
            "Accuracy: 9.85 - Loss: 0.016459752263899036 \n",
            "\n"
          ]
        },
        {
          "output_type": "stream",
          "name": "stderr",
          "text": [
            "100%|██████████| 16/16 [00:09<00:00,  1.70it/s]\n",
            "100%|██████████| 31/31 [00:11<00:00,  2.74it/s]\n"
          ]
        },
        {
          "output_type": "stream",
          "name": "stdout",
          "text": [
            "Accuracy: 10.38 - Loss: 0.016278696503157407 \n",
            "\n"
          ]
        },
        {
          "output_type": "stream",
          "name": "stderr",
          "text": [
            "100%|██████████| 16/16 [00:09<00:00,  1.72it/s]\n",
            "100%|██████████| 31/31 [00:10<00:00,  2.98it/s]\n"
          ]
        },
        {
          "output_type": "stream",
          "name": "stdout",
          "text": [
            "Accuracy: 11.99 - Loss: 0.016372422432893406 \n",
            "\n"
          ]
        },
        {
          "output_type": "stream",
          "name": "stderr",
          "text": [
            "100%|██████████| 16/16 [00:09<00:00,  1.70it/s]\n",
            "100%|██████████| 31/31 [00:11<00:00,  2.71it/s]\n"
          ]
        },
        {
          "output_type": "stream",
          "name": "stdout",
          "text": [
            "Accuracy: 15.73 - Loss: 0.016064555749968432 \n",
            "\n"
          ]
        },
        {
          "output_type": "stream",
          "name": "stderr",
          "text": [
            "100%|██████████| 16/16 [00:09<00:00,  1.68it/s]\n",
            "100%|██████████| 31/31 [00:11<00:00,  2.71it/s]\n"
          ]
        },
        {
          "output_type": "stream",
          "name": "stdout",
          "text": [
            "Accuracy: 16.11 - Loss: 0.016021020420333695 \n",
            "\n"
          ]
        },
        {
          "output_type": "stream",
          "name": "stderr",
          "text": [
            "100%|██████████| 16/16 [00:08<00:00,  1.87it/s]\n",
            "100%|██████████| 31/31 [00:11<00:00,  2.65it/s]\n"
          ]
        },
        {
          "output_type": "stream",
          "name": "stdout",
          "text": [
            "Accuracy: 17.36 - Loss: 0.015907123938987928 \n",
            "\n"
          ]
        },
        {
          "output_type": "stream",
          "name": "stderr",
          "text": [
            "100%|██████████| 16/16 [00:09<00:00,  1.65it/s]\n",
            "100%|██████████| 31/31 [00:11<00:00,  2.66it/s]\n"
          ]
        },
        {
          "output_type": "stream",
          "name": "stdout",
          "text": [
            "Accuracy: 17.36 - Loss: 0.01579888348180121 \n",
            "\n"
          ]
        },
        {
          "output_type": "stream",
          "name": "stderr",
          "text": [
            "100%|██████████| 16/16 [00:09<00:00,  1.66it/s]\n",
            "100%|██████████| 31/31 [00:11<00:00,  2.76it/s]\n"
          ]
        },
        {
          "output_type": "stream",
          "name": "stdout",
          "text": [
            "Accuracy: 18.15 - Loss: 0.01579862297506665 \n",
            "\n"
          ]
        },
        {
          "output_type": "stream",
          "name": "stderr",
          "text": [
            "100%|██████████| 16/16 [00:08<00:00,  1.88it/s]\n",
            "100%|██████████| 31/31 [00:11<00:00,  2.72it/s]\n"
          ]
        },
        {
          "output_type": "stream",
          "name": "stdout",
          "text": [
            "Accuracy: 20.39 - Loss: 0.015652328813066916 \n",
            "\n"
          ]
        },
        {
          "output_type": "stream",
          "name": "stderr",
          "text": [
            "100%|██████████| 16/16 [00:09<00:00,  1.67it/s]\n",
            "100%|██████████| 31/31 [00:11<00:00,  2.74it/s]\n"
          ]
        },
        {
          "output_type": "stream",
          "name": "stdout",
          "text": [
            "Accuracy: 19.34 - Loss: 0.015729256761259146 \n",
            "\n"
          ]
        },
        {
          "output_type": "stream",
          "name": "stderr",
          "text": [
            "100%|██████████| 16/16 [00:08<00:00,  1.93it/s]\n",
            "100%|██████████| 31/31 [00:11<00:00,  2.80it/s]\n"
          ]
        },
        {
          "output_type": "stream",
          "name": "stdout",
          "text": [
            "Accuracy: 20.64 - Loss: 0.01564937167023241 \n",
            "\n"
          ]
        },
        {
          "output_type": "stream",
          "name": "stderr",
          "text": [
            "100%|██████████| 16/16 [00:09<00:00,  1.68it/s]\n",
            "100%|██████████| 31/31 [00:11<00:00,  2.77it/s]\n"
          ]
        },
        {
          "output_type": "stream",
          "name": "stdout",
          "text": [
            "Accuracy: 20.67 - Loss: 0.015568160622379014 \n",
            "\n"
          ]
        },
        {
          "output_type": "stream",
          "name": "stderr",
          "text": [
            "100%|██████████| 16/16 [00:09<00:00,  1.75it/s]\n",
            "100%|██████████| 31/31 [00:10<00:00,  3.01it/s]\n"
          ]
        },
        {
          "output_type": "stream",
          "name": "stdout",
          "text": [
            "Accuracy: 21.63 - Loss: 0.015594091813477526 \n",
            "\n"
          ]
        },
        {
          "output_type": "stream",
          "name": "stderr",
          "text": [
            "100%|██████████| 16/16 [00:09<00:00,  1.75it/s]\n",
            "100%|██████████| 31/31 [00:11<00:00,  2.74it/s]\n"
          ]
        },
        {
          "output_type": "stream",
          "name": "stdout",
          "text": [
            "Accuracy: 22.07 - Loss: 0.015445381668451998 \n",
            "\n"
          ]
        },
        {
          "output_type": "stream",
          "name": "stderr",
          "text": [
            "100%|██████████| 16/16 [00:09<00:00,  1.71it/s]\n",
            "100%|██████████| 31/31 [00:11<00:00,  2.77it/s]\n"
          ]
        },
        {
          "output_type": "stream",
          "name": "stdout",
          "text": [
            "Accuracy: 22.09 - Loss: 0.01550976469729747 \n",
            "\n"
          ]
        },
        {
          "output_type": "stream",
          "name": "stderr",
          "text": [
            "100%|██████████| 16/16 [00:08<00:00,  1.94it/s]\n",
            "100%|██████████| 31/31 [00:13<00:00,  2.28it/s]\n"
          ]
        },
        {
          "output_type": "stream",
          "name": "stdout",
          "text": [
            "Accuracy: 21.53 - Loss: 0.015542832911242114 \n",
            "\n"
          ]
        },
        {
          "output_type": "stream",
          "name": "stderr",
          "text": [
            "100%|██████████| 16/16 [00:09<00:00,  1.74it/s]\n",
            "100%|██████████| 31/31 [00:11<00:00,  2.76it/s]\n"
          ]
        },
        {
          "output_type": "stream",
          "name": "stdout",
          "text": [
            "Accuracy: 21.89 - Loss: 0.015500003917128052 \n",
            "\n"
          ]
        },
        {
          "output_type": "stream",
          "name": "stderr",
          "text": [
            "100%|██████████| 16/16 [00:08<00:00,  1.80it/s]\n",
            "100%|██████████| 31/31 [00:10<00:00,  2.91it/s]\n"
          ]
        },
        {
          "output_type": "stream",
          "name": "stdout",
          "text": [
            "Accuracy: 21.61 - Loss: 0.015477943735955233 \n",
            "\n"
          ]
        },
        {
          "output_type": "stream",
          "name": "stderr",
          "text": [
            "100%|██████████| 16/16 [00:09<00:00,  1.70it/s]\n",
            "100%|██████████| 31/31 [00:11<00:00,  2.74it/s]\n"
          ]
        },
        {
          "output_type": "stream",
          "name": "stdout",
          "text": [
            "Accuracy: 21.38 - Loss: 0.015540336039449217 \n",
            "\n"
          ]
        },
        {
          "output_type": "stream",
          "name": "stderr",
          "text": [
            "100%|██████████| 16/16 [00:09<00:00,  1.69it/s]\n",
            "100%|██████████| 31/31 [00:11<00:00,  2.73it/s]\n"
          ]
        },
        {
          "output_type": "stream",
          "name": "stdout",
          "text": [
            "Accuracy: 22.55 - Loss: 0.015330026579983334 \n",
            "\n"
          ]
        },
        {
          "output_type": "stream",
          "name": "stderr",
          "text": [
            "100%|██████████| 16/16 [00:08<00:00,  1.91it/s]\n",
            "100%|██████████| 31/31 [00:11<00:00,  2.75it/s]\n"
          ]
        },
        {
          "output_type": "stream",
          "name": "stdout",
          "text": [
            "Accuracy: 21.79 - Loss: 0.01545146883641469 \n",
            "\n"
          ]
        },
        {
          "output_type": "stream",
          "name": "stderr",
          "text": [
            "100%|██████████| 16/16 [00:09<00:00,  1.68it/s]\n",
            "100%|██████████| 31/31 [00:11<00:00,  2.72it/s]\n"
          ]
        },
        {
          "output_type": "stream",
          "name": "stdout",
          "text": [
            "Accuracy: 23.19 - Loss: 0.015472375154191831 \n",
            "\n"
          ]
        },
        {
          "output_type": "stream",
          "name": "stderr",
          "text": [
            "100%|██████████| 16/16 [00:08<00:00,  1.83it/s]\n",
            "100%|██████████| 31/31 [00:10<00:00,  2.84it/s]\n"
          ]
        },
        {
          "output_type": "stream",
          "name": "stdout",
          "text": [
            "Accuracy: 21.71 - Loss: 0.015411161411564052 \n",
            "\n"
          ]
        },
        {
          "output_type": "stream",
          "name": "stderr",
          "text": [
            "100%|██████████| 16/16 [00:09<00:00,  1.68it/s]\n",
            "100%|██████████| 31/31 [00:11<00:00,  2.76it/s]\n"
          ]
        },
        {
          "output_type": "stream",
          "name": "stdout",
          "text": [
            "Accuracy: 22.07 - Loss: 0.015424261265475806 \n",
            "\n"
          ]
        },
        {
          "output_type": "stream",
          "name": "stderr",
          "text": [
            "100%|██████████| 16/16 [00:09<00:00,  1.69it/s]\n",
            "100%|██████████| 31/31 [00:11<00:00,  2.80it/s]\n"
          ]
        },
        {
          "output_type": "stream",
          "name": "stdout",
          "text": [
            "Accuracy: 22.09 - Loss: 0.01540070097086599 \n",
            "\n"
          ]
        },
        {
          "output_type": "stream",
          "name": "stderr",
          "text": [
            "100%|██████████| 16/16 [00:08<00:00,  1.94it/s]\n",
            "100%|██████████| 31/31 [00:11<00:00,  2.78it/s]\n"
          ]
        },
        {
          "output_type": "stream",
          "name": "stdout",
          "text": [
            "Accuracy: 22.60 - Loss: 0.015393822877029027 \n",
            "\n"
          ]
        },
        {
          "output_type": "stream",
          "name": "stderr",
          "text": [
            "100%|██████████| 16/16 [00:09<00:00,  1.71it/s]\n",
            "100%|██████████| 31/31 [00:11<00:00,  2.75it/s]\n"
          ]
        },
        {
          "output_type": "stream",
          "name": "stdout",
          "text": [
            "Accuracy: 22.30 - Loss: 0.015370139398475311 \n",
            "\n"
          ]
        },
        {
          "output_type": "stream",
          "name": "stderr",
          "text": [
            "100%|██████████| 16/16 [00:08<00:00,  1.96it/s]\n",
            "100%|██████████| 31/31 [00:11<00:00,  2.76it/s]\n"
          ]
        },
        {
          "output_type": "stream",
          "name": "stdout",
          "text": [
            "Accuracy: 22.42 - Loss: 0.01540936559597995 \n",
            "\n"
          ]
        },
        {
          "output_type": "stream",
          "name": "stderr",
          "text": [
            "100%|██████████| 16/16 [00:09<00:00,  1.71it/s]\n",
            "100%|██████████| 31/31 [00:11<00:00,  2.74it/s]\n"
          ]
        },
        {
          "output_type": "stream",
          "name": "stdout",
          "text": [
            "Accuracy: 22.91 - Loss: 0.01531008765059714 \n",
            "\n"
          ]
        }
      ],
      "source": [
        "warnings.filterwarnings('ignore', category=UserWarning)\n",
        "\n",
        "# Parse arguments\n",
        "conf = { # Art Painting -> Sketch\n",
        "    'seed': 0,\n",
        "    'test_only': False,\n",
        "    'cpu': False,\n",
        "    'experiment': 'random',\n",
        "    'experiment_name': '2_3_5',\n",
        "    'experiment_args': {'module_placement': ['layer1.0.conv1', 'layer1.1.conv2', 'layer2.1.conv1', 'layer3.0.conv2', 'layer4.0.conv1', 'layer4.1.conv2'], 'mask_out_ratio': 0.55},\n",
        "    'dataset_args': {'text_root': 'data', 'images_root': 'data/kfold/PACS', 'source_domain': 'art_painting', 'target_domain': 'sketch' },\n",
        "    'batch_size': 128,\n",
        "    'epochs': 30,\n",
        "    'num_workers': 5,\n",
        "    'grad_accum_steps': 1\n",
        "}\n",
        "\n",
        "#args = parse_arguments()\n",
        "args = argparse.Namespace(**conf)\n",
        "print(args)\n",
        "CONFIG.update(vars(args))\n",
        "\n",
        "# Setup output directory\n",
        "CONFIG.save_dir = os.path.join('record', CONFIG.experiment_name)\n",
        "os.makedirs(CONFIG.save_dir, exist_ok=True)\n",
        "\n",
        "# Setup logging\n",
        "logging.basicConfig(\n",
        "    filename=os.path.join(CONFIG.save_dir, 'log.txt'),\n",
        "    format='%(message)s',\n",
        "    level=logging.INFO,\n",
        "    filemode='a'\n",
        ")\n",
        "\n",
        "# Set experiment's device & deterministic behavior\n",
        "if CONFIG.cpu:\n",
        "    CONFIG.device = 'cpu'\n",
        "else:\n",
        "    CONFIG.device = 'cuda' if torch.cuda.is_available() else 'cpu'\n",
        "\n",
        "torch.manual_seed(CONFIG.seed)\n",
        "random.seed(CONFIG.seed)\n",
        "np.random.seed(CONFIG.seed)\n",
        "torch.backends.cudnn.benchmark = True\n",
        "torch.use_deterministic_algorithms(mode=True, warn_only=True)\n",
        "\n",
        "main()"
      ]
    },
    {
      "cell_type": "markdown",
      "metadata": {
        "id": "FoKJpxCDrl_X"
      },
      "source": [
        "#### 2.3.6 - Art Painting &rightarrow; Photo, mor = 0.55"
      ]
    },
    {
      "cell_type": "code",
      "execution_count": 50,
      "metadata": {
        "colab": {
          "base_uri": "https://localhost:8080/"
        },
        "id": "gJvwGLtnrl_X",
        "outputId": "ac3c07eb-7ccb-40f8-9393-8056c24e20dd"
      },
      "outputs": [
        {
          "output_type": "stream",
          "name": "stdout",
          "text": [
            "Namespace(seed=0, test_only=False, cpu=False, experiment='random', experiment_name='2_3_6', experiment_args={'module_placement': ['layer1.0.conv1', 'layer1.1.conv2', 'layer2.1.conv1', 'layer3.0.conv2', 'layer4.0.conv1', 'layer4.1.conv2'], 'mask_out_ratio': 0.55}, dataset_args={'text_root': 'data', 'images_root': 'data/kfold/PACS', 'source_domain': 'art_painting', 'target_domain': 'photo'}, batch_size=128, epochs=30, num_workers=5, grad_accum_steps=1)\n",
            "mask_out_ratio:  0.55\n",
            "layer_name layer1.0.conv1 random_mask sum():  tensor(90359., device='cuda:0')\n",
            "Insert activation shaping layer after  layer1.0.conv1 Conv2d(64, 64, kernel_size=(3, 3), stride=(1, 1), padding=(1, 1), bias=False)\n",
            "mask_out_ratio:  0.55\n",
            "layer_name layer1.1.conv2 random_mask sum():  tensor(89968., device='cuda:0')\n",
            "Insert activation shaping layer after  layer1.1.conv2 Conv2d(64, 64, kernel_size=(3, 3), stride=(1, 1), padding=(1, 1), bias=False)\n",
            "mask_out_ratio:  0.55\n",
            "layer_name layer2.1.conv1 random_mask sum():  tensor(44856., device='cuda:0')\n",
            "Insert activation shaping layer after  layer2.1.conv1 Conv2d(128, 128, kernel_size=(3, 3), stride=(1, 1), padding=(1, 1), bias=False)\n",
            "mask_out_ratio:  0.55\n",
            "layer_name layer3.0.conv2 random_mask sum():  tensor(22787., device='cuda:0')\n",
            "Insert activation shaping layer after  layer3.0.conv2 Conv2d(256, 256, kernel_size=(3, 3), stride=(1, 1), padding=(1, 1), bias=False)\n",
            "mask_out_ratio:  0.55\n",
            "layer_name layer4.0.conv1 random_mask sum():  tensor(11407., device='cuda:0')\n",
            "Insert activation shaping layer after  layer4.0.conv1 Conv2d(256, 512, kernel_size=(3, 3), stride=(2, 2), padding=(1, 1), bias=False)\n",
            "mask_out_ratio:  0.55\n",
            "layer_name layer4.1.conv2 random_mask sum():  tensor(11090., device='cuda:0')\n",
            "Insert activation shaping layer after  layer4.1.conv2 Conv2d(512, 512, kernel_size=(3, 3), stride=(1, 1), padding=(1, 1), bias=False)\n"
          ]
        },
        {
          "output_type": "stream",
          "name": "stderr",
          "text": [
            "100%|██████████| 16/16 [00:10<00:00,  1.59it/s]\n",
            "100%|██████████| 14/14 [00:04<00:00,  2.91it/s]\n"
          ]
        },
        {
          "output_type": "stream",
          "name": "stdout",
          "text": [
            "Accuracy: 18.20 - Loss: 0.016167819999649138 \n",
            "\n"
          ]
        },
        {
          "output_type": "stream",
          "name": "stderr",
          "text": [
            "100%|██████████| 16/16 [00:09<00:00,  1.68it/s]\n",
            "100%|██████████| 14/14 [00:04<00:00,  2.98it/s]\n"
          ]
        },
        {
          "output_type": "stream",
          "name": "stdout",
          "text": [
            "Accuracy: 24.13 - Loss: 0.015771405211465802 \n",
            "\n"
          ]
        },
        {
          "output_type": "stream",
          "name": "stderr",
          "text": [
            "100%|██████████| 16/16 [00:09<00:00,  1.67it/s]\n",
            "100%|██████████| 14/14 [00:04<00:00,  3.01it/s]\n"
          ]
        },
        {
          "output_type": "stream",
          "name": "stdout",
          "text": [
            "Accuracy: 25.21 - Loss: 0.015496376959863537 \n",
            "\n"
          ]
        },
        {
          "output_type": "stream",
          "name": "stderr",
          "text": [
            "100%|██████████| 16/16 [00:09<00:00,  1.69it/s]\n",
            "100%|██████████| 14/14 [00:04<00:00,  2.96it/s]\n"
          ]
        },
        {
          "output_type": "stream",
          "name": "stdout",
          "text": [
            "Accuracy: 26.41 - Loss: 0.01530337305126076 \n",
            "\n"
          ]
        },
        {
          "output_type": "stream",
          "name": "stderr",
          "text": [
            "100%|██████████| 16/16 [00:08<00:00,  1.79it/s]\n",
            "100%|██████████| 14/14 [00:05<00:00,  2.69it/s]\n"
          ]
        },
        {
          "output_type": "stream",
          "name": "stdout",
          "text": [
            "Accuracy: 28.86 - Loss: 0.015184502187603248 \n",
            "\n"
          ]
        },
        {
          "output_type": "stream",
          "name": "stderr",
          "text": [
            "100%|██████████| 16/16 [00:08<00:00,  1.86it/s]\n",
            "100%|██████████| 14/14 [00:05<00:00,  2.50it/s]\n"
          ]
        },
        {
          "output_type": "stream",
          "name": "stdout",
          "text": [
            "Accuracy: 32.46 - Loss: 0.014962366526712201 \n",
            "\n"
          ]
        },
        {
          "output_type": "stream",
          "name": "stderr",
          "text": [
            "100%|██████████| 16/16 [00:08<00:00,  1.91it/s]\n",
            "100%|██████████| 14/14 [00:05<00:00,  2.51it/s]\n"
          ]
        },
        {
          "output_type": "stream",
          "name": "stdout",
          "text": [
            "Accuracy: 31.80 - Loss: 0.014818299673274606 \n",
            "\n"
          ]
        },
        {
          "output_type": "stream",
          "name": "stderr",
          "text": [
            "100%|██████████| 16/16 [00:08<00:00,  1.91it/s]\n",
            "100%|██████████| 14/14 [00:05<00:00,  2.60it/s]\n"
          ]
        },
        {
          "output_type": "stream",
          "name": "stdout",
          "text": [
            "Accuracy: 34.73 - Loss: 0.014739933128128508 \n",
            "\n"
          ]
        },
        {
          "output_type": "stream",
          "name": "stderr",
          "text": [
            "100%|██████████| 16/16 [00:09<00:00,  1.74it/s]\n",
            "100%|██████████| 14/14 [00:04<00:00,  3.03it/s]\n"
          ]
        },
        {
          "output_type": "stream",
          "name": "stdout",
          "text": [
            "Accuracy: 36.59 - Loss: 0.014557326411058802 \n",
            "\n"
          ]
        },
        {
          "output_type": "stream",
          "name": "stderr",
          "text": [
            "100%|██████████| 16/16 [00:09<00:00,  1.68it/s]\n",
            "100%|██████████| 14/14 [00:04<00:00,  3.11it/s]\n"
          ]
        },
        {
          "output_type": "stream",
          "name": "stdout",
          "text": [
            "Accuracy: 35.81 - Loss: 0.014547356374249486 \n",
            "\n"
          ]
        },
        {
          "output_type": "stream",
          "name": "stderr",
          "text": [
            "100%|██████████| 16/16 [00:09<00:00,  1.72it/s]\n",
            "100%|██████████| 14/14 [00:04<00:00,  3.07it/s]\n"
          ]
        },
        {
          "output_type": "stream",
          "name": "stdout",
          "text": [
            "Accuracy: 37.19 - Loss: 0.014325707258578546 \n",
            "\n"
          ]
        },
        {
          "output_type": "stream",
          "name": "stderr",
          "text": [
            "100%|██████████| 16/16 [00:09<00:00,  1.72it/s]\n",
            "100%|██████████| 14/14 [00:04<00:00,  3.06it/s]\n"
          ]
        },
        {
          "output_type": "stream",
          "name": "stdout",
          "text": [
            "Accuracy: 37.84 - Loss: 0.014296313531384497 \n",
            "\n"
          ]
        },
        {
          "output_type": "stream",
          "name": "stderr",
          "text": [
            "100%|██████████| 16/16 [00:09<00:00,  1.72it/s]\n",
            "100%|██████████| 14/14 [00:04<00:00,  3.10it/s]\n"
          ]
        },
        {
          "output_type": "stream",
          "name": "stdout",
          "text": [
            "Accuracy: 39.10 - Loss: 0.014086090233511553 \n",
            "\n"
          ]
        },
        {
          "output_type": "stream",
          "name": "stderr",
          "text": [
            "100%|██████████| 16/16 [00:09<00:00,  1.71it/s]\n",
            "100%|██████████| 14/14 [00:04<00:00,  3.11it/s]\n"
          ]
        },
        {
          "output_type": "stream",
          "name": "stdout",
          "text": [
            "Accuracy: 39.70 - Loss: 0.013888600415098453 \n",
            "\n"
          ]
        },
        {
          "output_type": "stream",
          "name": "stderr",
          "text": [
            "100%|██████████| 16/16 [00:09<00:00,  1.72it/s]\n",
            "100%|██████████| 14/14 [00:05<00:00,  2.72it/s]\n"
          ]
        },
        {
          "output_type": "stream",
          "name": "stdout",
          "text": [
            "Accuracy: 39.52 - Loss: 0.013925011786158214 \n",
            "\n"
          ]
        },
        {
          "output_type": "stream",
          "name": "stderr",
          "text": [
            "100%|██████████| 16/16 [00:08<00:00,  1.89it/s]\n",
            "100%|██████████| 14/14 [00:05<00:00,  2.53it/s]\n"
          ]
        },
        {
          "output_type": "stream",
          "name": "stdout",
          "text": [
            "Accuracy: 41.14 - Loss: 0.01383362537372612 \n",
            "\n"
          ]
        },
        {
          "output_type": "stream",
          "name": "stderr",
          "text": [
            "100%|██████████| 16/16 [00:08<00:00,  1.95it/s]\n",
            "100%|██████████| 14/14 [00:05<00:00,  2.52it/s]\n"
          ]
        },
        {
          "output_type": "stream",
          "name": "stdout",
          "text": [
            "Accuracy: 41.02 - Loss: 0.013624490520911303 \n",
            "\n"
          ]
        },
        {
          "output_type": "stream",
          "name": "stderr",
          "text": [
            "100%|██████████| 16/16 [00:08<00:00,  1.95it/s]\n",
            "100%|██████████| 14/14 [00:05<00:00,  2.53it/s]\n"
          ]
        },
        {
          "output_type": "stream",
          "name": "stdout",
          "text": [
            "Accuracy: 41.92 - Loss: 0.013670373890928166 \n",
            "\n"
          ]
        },
        {
          "output_type": "stream",
          "name": "stderr",
          "text": [
            "100%|██████████| 16/16 [00:08<00:00,  1.85it/s]\n",
            "100%|██████████| 14/14 [00:04<00:00,  2.85it/s]\n"
          ]
        },
        {
          "output_type": "stream",
          "name": "stdout",
          "text": [
            "Accuracy: 41.62 - Loss: 0.013493065420025123 \n",
            "\n"
          ]
        },
        {
          "output_type": "stream",
          "name": "stderr",
          "text": [
            "100%|██████████| 16/16 [00:09<00:00,  1.71it/s]\n",
            "100%|██████████| 14/14 [00:04<00:00,  3.10it/s]\n"
          ]
        },
        {
          "output_type": "stream",
          "name": "stdout",
          "text": [
            "Accuracy: 41.56 - Loss: 0.013417549690086685 \n",
            "\n"
          ]
        },
        {
          "output_type": "stream",
          "name": "stderr",
          "text": [
            "100%|██████████| 16/16 [00:09<00:00,  1.71it/s]\n",
            "100%|██████████| 14/14 [00:04<00:00,  3.13it/s]\n"
          ]
        },
        {
          "output_type": "stream",
          "name": "stdout",
          "text": [
            "Accuracy: 42.63 - Loss: 0.013333470021893164 \n",
            "\n"
          ]
        },
        {
          "output_type": "stream",
          "name": "stderr",
          "text": [
            "100%|██████████| 16/16 [00:09<00:00,  1.72it/s]\n",
            "100%|██████████| 14/14 [00:04<00:00,  3.07it/s]\n"
          ]
        },
        {
          "output_type": "stream",
          "name": "stdout",
          "text": [
            "Accuracy: 43.23 - Loss: 0.013366672164665725 \n",
            "\n"
          ]
        },
        {
          "output_type": "stream",
          "name": "stderr",
          "text": [
            "100%|██████████| 16/16 [00:09<00:00,  1.70it/s]\n",
            "100%|██████████| 14/14 [00:04<00:00,  3.12it/s]\n"
          ]
        },
        {
          "output_type": "stream",
          "name": "stdout",
          "text": [
            "Accuracy: 41.98 - Loss: 0.013374523702495826 \n",
            "\n"
          ]
        },
        {
          "output_type": "stream",
          "name": "stderr",
          "text": [
            "100%|██████████| 16/16 [00:09<00:00,  1.68it/s]\n",
            "100%|██████████| 14/14 [00:04<00:00,  3.14it/s]\n"
          ]
        },
        {
          "output_type": "stream",
          "name": "stdout",
          "text": [
            "Accuracy: 43.53 - Loss: 0.013250777535809728 \n",
            "\n"
          ]
        },
        {
          "output_type": "stream",
          "name": "stderr",
          "text": [
            "100%|██████████| 16/16 [00:09<00:00,  1.71it/s]\n",
            "100%|██████████| 14/14 [00:04<00:00,  2.99it/s]\n"
          ]
        },
        {
          "output_type": "stream",
          "name": "stdout",
          "text": [
            "Accuracy: 42.75 - Loss: 0.013166089364868438 \n",
            "\n"
          ]
        },
        {
          "output_type": "stream",
          "name": "stderr",
          "text": [
            "100%|██████████| 16/16 [00:08<00:00,  1.78it/s]\n",
            "100%|██████████| 14/14 [00:05<00:00,  2.60it/s]\n"
          ]
        },
        {
          "output_type": "stream",
          "name": "stdout",
          "text": [
            "Accuracy: 42.63 - Loss: 0.013053421595853246 \n",
            "\n"
          ]
        },
        {
          "output_type": "stream",
          "name": "stderr",
          "text": [
            "100%|██████████| 16/16 [00:08<00:00,  1.94it/s]\n",
            "100%|██████████| 14/14 [00:05<00:00,  2.50it/s]\n"
          ]
        },
        {
          "output_type": "stream",
          "name": "stdout",
          "text": [
            "Accuracy: 42.46 - Loss: 0.01319610665658277 \n",
            "\n"
          ]
        },
        {
          "output_type": "stream",
          "name": "stderr",
          "text": [
            "100%|██████████| 16/16 [00:12<00:00,  1.32it/s]\n",
            "100%|██████████| 14/14 [00:04<00:00,  3.09it/s]\n"
          ]
        },
        {
          "output_type": "stream",
          "name": "stdout",
          "text": [
            "Accuracy: 43.71 - Loss: 0.01317874771392274 \n",
            "\n"
          ]
        },
        {
          "output_type": "stream",
          "name": "stderr",
          "text": [
            "100%|██████████| 16/16 [00:09<00:00,  1.71it/s]\n",
            "100%|██████████| 14/14 [00:04<00:00,  3.07it/s]\n"
          ]
        },
        {
          "output_type": "stream",
          "name": "stdout",
          "text": [
            "Accuracy: 42.75 - Loss: 0.013136836868560244 \n",
            "\n"
          ]
        },
        {
          "output_type": "stream",
          "name": "stderr",
          "text": [
            "100%|██████████| 16/16 [00:09<00:00,  1.70it/s]\n",
            "100%|██████████| 14/14 [00:04<00:00,  3.06it/s]\n"
          ]
        },
        {
          "output_type": "stream",
          "name": "stdout",
          "text": [
            "Accuracy: 42.63 - Loss: 0.013169480155328078 \n",
            "\n"
          ]
        }
      ],
      "source": [
        "warnings.filterwarnings('ignore', category=UserWarning)\n",
        "\n",
        "# Parse arguments\n",
        "conf = { # Art Painting -> Photo\n",
        "    'seed': 0,\n",
        "    'test_only': False,\n",
        "    'cpu': False,\n",
        "    'experiment': 'random',\n",
        "    'experiment_name': '2_3_6',\n",
        "    'experiment_args': {'module_placement': ['layer1.0.conv1', 'layer1.1.conv2', 'layer2.1.conv1', 'layer3.0.conv2', 'layer4.0.conv1', 'layer4.1.conv2'], 'mask_out_ratio': 0.55},\n",
        "    'dataset_args': {'text_root': 'data', 'images_root': 'data/kfold/PACS', 'source_domain': 'art_painting', 'target_domain': 'photo' },\n",
        "    'batch_size': 128,\n",
        "    'epochs': 30,\n",
        "    'num_workers': 5,\n",
        "    'grad_accum_steps': 1\n",
        "}\n",
        "\n",
        "#args = parse_arguments()\n",
        "args = argparse.Namespace(**conf)\n",
        "print(args)\n",
        "CONFIG.update(vars(args))\n",
        "\n",
        "# Setup output directory\n",
        "CONFIG.save_dir = os.path.join('record', CONFIG.experiment_name)\n",
        "os.makedirs(CONFIG.save_dir, exist_ok=True)\n",
        "\n",
        "# Setup logging\n",
        "logging.basicConfig(\n",
        "    filename=os.path.join(CONFIG.save_dir, 'log.txt'),\n",
        "    format='%(message)s',\n",
        "    level=logging.INFO,\n",
        "    filemode='a'\n",
        ")\n",
        "\n",
        "# Set experiment's device & deterministic behavior\n",
        "if CONFIG.cpu:\n",
        "    CONFIG.device = 'cpu'\n",
        "else:\n",
        "    CONFIG.device = 'cuda' if torch.cuda.is_available() else 'cpu'\n",
        "\n",
        "torch.manual_seed(CONFIG.seed)\n",
        "random.seed(CONFIG.seed)\n",
        "np.random.seed(CONFIG.seed)\n",
        "torch.backends.cudnn.benchmark = True\n",
        "torch.use_deterministic_algorithms(mode=True, warn_only=True)\n",
        "\n",
        "main()"
      ]
    },
    {
      "cell_type": "markdown",
      "metadata": {
        "id": "S_dOkkJ7rl_X"
      },
      "source": [
        "#### 2.3.7 - Art Painting &rightarrow; Cartoon, mor = 0.75"
      ]
    },
    {
      "cell_type": "code",
      "execution_count": 51,
      "metadata": {
        "colab": {
          "base_uri": "https://localhost:8080/"
        },
        "id": "d_BLppjArl_Y",
        "outputId": "a0cd414b-fbb9-4dff-fbf4-ca7f862e2d66"
      },
      "outputs": [
        {
          "output_type": "stream",
          "name": "stdout",
          "text": [
            "Namespace(seed=0, test_only=False, cpu=False, experiment='random', experiment_name='2_3_7', experiment_args={'module_placement': ['layer1.0.conv1', 'layer1.1.conv2', 'layer2.1.conv1', 'layer3.0.conv2', 'layer4.0.conv1', 'layer4.1.conv2'], 'mask_out_ratio': 0.75}, dataset_args={'text_root': 'data', 'images_root': 'data/kfold/PACS', 'source_domain': 'art_painting', 'target_domain': 'cartoon'}, batch_size=128, epochs=30, num_workers=5, grad_accum_steps=1)\n",
            "mask_out_ratio:  0.75\n",
            "layer_name layer1.0.conv1 random_mask sum():  tensor(50272., device='cuda:0')\n",
            "Insert activation shaping layer after  layer1.0.conv1 Conv2d(64, 64, kernel_size=(3, 3), stride=(1, 1), padding=(1, 1), bias=False)\n",
            "mask_out_ratio:  0.75\n",
            "layer_name layer1.1.conv2 random_mask sum():  tensor(50075., device='cuda:0')\n",
            "Insert activation shaping layer after  layer1.1.conv2 Conv2d(64, 64, kernel_size=(3, 3), stride=(1, 1), padding=(1, 1), bias=False)\n",
            "mask_out_ratio:  0.75\n",
            "layer_name layer2.1.conv1 random_mask sum():  tensor(25010., device='cuda:0')\n",
            "Insert activation shaping layer after  layer2.1.conv1 Conv2d(128, 128, kernel_size=(3, 3), stride=(1, 1), padding=(1, 1), bias=False)\n",
            "mask_out_ratio:  0.75\n",
            "layer_name layer3.0.conv2 random_mask sum():  tensor(12762., device='cuda:0')\n",
            "Insert activation shaping layer after  layer3.0.conv2 Conv2d(256, 256, kernel_size=(3, 3), stride=(1, 1), padding=(1, 1), bias=False)\n",
            "mask_out_ratio:  0.75\n",
            "layer_name layer4.0.conv1 random_mask sum():  tensor(6299., device='cuda:0')\n",
            "Insert activation shaping layer after  layer4.0.conv1 Conv2d(256, 512, kernel_size=(3, 3), stride=(2, 2), padding=(1, 1), bias=False)\n",
            "mask_out_ratio:  0.75\n",
            "layer_name layer4.1.conv2 random_mask sum():  tensor(6211., device='cuda:0')\n",
            "Insert activation shaping layer after  layer4.1.conv2 Conv2d(512, 512, kernel_size=(3, 3), stride=(1, 1), padding=(1, 1), bias=False)\n"
          ]
        },
        {
          "output_type": "stream",
          "name": "stderr",
          "text": [
            "100%|██████████| 16/16 [00:09<00:00,  1.60it/s]\n",
            "100%|██████████| 19/19 [00:07<00:00,  2.52it/s]\n"
          ]
        },
        {
          "output_type": "stream",
          "name": "stdout",
          "text": [
            "Accuracy: 15.44 - Loss: 0.01596848224210251 \n",
            "\n"
          ]
        },
        {
          "output_type": "stream",
          "name": "stderr",
          "text": [
            "100%|██████████| 16/16 [00:08<00:00,  1.89it/s]\n",
            "100%|██████████| 19/19 [00:07<00:00,  2.57it/s]\n"
          ]
        },
        {
          "output_type": "stream",
          "name": "stdout",
          "text": [
            "Accuracy: 13.91 - Loss: 0.015865939163917566 \n",
            "\n"
          ]
        },
        {
          "output_type": "stream",
          "name": "stderr",
          "text": [
            "100%|██████████| 16/16 [00:08<00:00,  1.86it/s]\n",
            "100%|██████████| 19/19 [00:06<00:00,  2.99it/s]\n"
          ]
        },
        {
          "output_type": "stream",
          "name": "stdout",
          "text": [
            "Accuracy: 14.25 - Loss: 0.015765422541940577 \n",
            "\n"
          ]
        },
        {
          "output_type": "stream",
          "name": "stderr",
          "text": [
            "100%|██████████| 16/16 [00:09<00:00,  1.71it/s]\n",
            "100%|██████████| 19/19 [00:05<00:00,  3.19it/s]\n"
          ]
        },
        {
          "output_type": "stream",
          "name": "stdout",
          "text": [
            "Accuracy: 16.30 - Loss: 0.015665882988594497 \n",
            "\n"
          ]
        },
        {
          "output_type": "stream",
          "name": "stderr",
          "text": [
            "100%|██████████| 16/16 [00:09<00:00,  1.73it/s]\n",
            "100%|██████████| 19/19 [00:06<00:00,  3.16it/s]\n"
          ]
        },
        {
          "output_type": "stream",
          "name": "stdout",
          "text": [
            "Accuracy: 15.06 - Loss: 0.01575904952381251 \n",
            "\n"
          ]
        },
        {
          "output_type": "stream",
          "name": "stderr",
          "text": [
            "100%|██████████| 16/16 [00:09<00:00,  1.75it/s]\n",
            "100%|██████████| 19/19 [00:06<00:00,  2.72it/s]\n"
          ]
        },
        {
          "output_type": "stream",
          "name": "stdout",
          "text": [
            "Accuracy: 15.66 - Loss: 0.015714345938516557 \n",
            "\n"
          ]
        },
        {
          "output_type": "stream",
          "name": "stderr",
          "text": [
            "100%|██████████| 16/16 [00:08<00:00,  1.97it/s]\n",
            "100%|██████████| 19/19 [00:06<00:00,  2.73it/s]\n"
          ]
        },
        {
          "output_type": "stream",
          "name": "stdout",
          "text": [
            "Accuracy: 14.59 - Loss: 0.015686637305562405 \n",
            "\n"
          ]
        },
        {
          "output_type": "stream",
          "name": "stderr",
          "text": [
            "100%|██████████| 16/16 [00:09<00:00,  1.77it/s]\n",
            "100%|██████████| 19/19 [00:06<00:00,  3.16it/s]\n"
          ]
        },
        {
          "output_type": "stream",
          "name": "stdout",
          "text": [
            "Accuracy: 14.51 - Loss: 0.015694190515999906 \n",
            "\n"
          ]
        },
        {
          "output_type": "stream",
          "name": "stderr",
          "text": [
            "100%|██████████| 16/16 [00:09<00:00,  1.72it/s]\n",
            "100%|██████████| 19/19 [00:05<00:00,  3.23it/s]\n"
          ]
        },
        {
          "output_type": "stream",
          "name": "stdout",
          "text": [
            "Accuracy: 15.61 - Loss: 0.015697103006441032 \n",
            "\n"
          ]
        },
        {
          "output_type": "stream",
          "name": "stderr",
          "text": [
            "100%|██████████| 16/16 [00:09<00:00,  1.70it/s]\n",
            "100%|██████████| 19/19 [00:06<00:00,  3.10it/s]\n"
          ]
        },
        {
          "output_type": "stream",
          "name": "stdout",
          "text": [
            "Accuracy: 15.23 - Loss: 0.015660124528936965 \n",
            "\n"
          ]
        },
        {
          "output_type": "stream",
          "name": "stderr",
          "text": [
            "100%|██████████| 16/16 [00:08<00:00,  1.81it/s]\n",
            "100%|██████████| 19/19 [00:06<00:00,  2.71it/s]\n"
          ]
        },
        {
          "output_type": "stream",
          "name": "stdout",
          "text": [
            "Accuracy: 16.34 - Loss: 0.015620533008217405 \n",
            "\n"
          ]
        },
        {
          "output_type": "stream",
          "name": "stderr",
          "text": [
            "100%|██████████| 16/16 [00:08<00:00,  1.95it/s]\n",
            "100%|██████████| 19/19 [00:06<00:00,  2.73it/s]\n"
          ]
        },
        {
          "output_type": "stream",
          "name": "stdout",
          "text": [
            "Accuracy: 15.74 - Loss: 0.015674999244383984 \n",
            "\n"
          ]
        },
        {
          "output_type": "stream",
          "name": "stderr",
          "text": [
            "100%|██████████| 16/16 [00:09<00:00,  1.74it/s]\n",
            "100%|██████████| 19/19 [00:05<00:00,  3.20it/s]\n"
          ]
        },
        {
          "output_type": "stream",
          "name": "stdout",
          "text": [
            "Accuracy: 17.06 - Loss: 0.015583247302335276 \n",
            "\n"
          ]
        },
        {
          "output_type": "stream",
          "name": "stderr",
          "text": [
            "100%|██████████| 16/16 [00:09<00:00,  1.70it/s]\n",
            "100%|██████████| 19/19 [00:06<00:00,  3.15it/s]\n"
          ]
        },
        {
          "output_type": "stream",
          "name": "stdout",
          "text": [
            "Accuracy: 17.79 - Loss: 0.01558676580723642 \n",
            "\n"
          ]
        },
        {
          "output_type": "stream",
          "name": "stderr",
          "text": [
            "100%|██████████| 16/16 [00:09<00:00,  1.72it/s]\n",
            "100%|██████████| 19/19 [00:06<00:00,  2.80it/s]\n"
          ]
        },
        {
          "output_type": "stream",
          "name": "stdout",
          "text": [
            "Accuracy: 18.60 - Loss: 0.015591471014169295 \n",
            "\n"
          ]
        },
        {
          "output_type": "stream",
          "name": "stderr",
          "text": [
            "100%|██████████| 16/16 [00:08<00:00,  1.94it/s]\n",
            "100%|██████████| 19/19 [00:06<00:00,  2.72it/s]\n"
          ]
        },
        {
          "output_type": "stream",
          "name": "stdout",
          "text": [
            "Accuracy: 18.86 - Loss: 0.015640779566846202 \n",
            "\n"
          ]
        },
        {
          "output_type": "stream",
          "name": "stderr",
          "text": [
            "100%|██████████| 16/16 [00:08<00:00,  1.83it/s]\n",
            "100%|██████████| 19/19 [00:06<00:00,  2.91it/s]\n"
          ]
        },
        {
          "output_type": "stream",
          "name": "stdout",
          "text": [
            "Accuracy: 19.24 - Loss: 0.015523319460019317 \n",
            "\n"
          ]
        },
        {
          "output_type": "stream",
          "name": "stderr",
          "text": [
            "100%|██████████| 16/16 [00:09<00:00,  1.70it/s]\n",
            "100%|██████████| 19/19 [00:05<00:00,  3.17it/s]\n"
          ]
        },
        {
          "output_type": "stream",
          "name": "stdout",
          "text": [
            "Accuracy: 20.09 - Loss: 0.015551262442976135 \n",
            "\n"
          ]
        },
        {
          "output_type": "stream",
          "name": "stderr",
          "text": [
            "100%|██████████| 16/16 [00:09<00:00,  1.69it/s]\n",
            "100%|██████████| 19/19 [00:06<00:00,  3.15it/s]\n"
          ]
        },
        {
          "output_type": "stream",
          "name": "stdout",
          "text": [
            "Accuracy: 19.07 - Loss: 0.015543511296295063 \n",
            "\n"
          ]
        },
        {
          "output_type": "stream",
          "name": "stderr",
          "text": [
            "100%|██████████| 16/16 [00:09<00:00,  1.74it/s]\n",
            "100%|██████████| 19/19 [00:06<00:00,  2.73it/s]\n"
          ]
        },
        {
          "output_type": "stream",
          "name": "stdout",
          "text": [
            "Accuracy: 20.39 - Loss: 0.015520228613358715 \n",
            "\n"
          ]
        },
        {
          "output_type": "stream",
          "name": "stderr",
          "text": [
            "100%|██████████| 16/16 [00:08<00:00,  1.94it/s]\n",
            "100%|██████████| 19/19 [00:06<00:00,  2.73it/s]\n"
          ]
        },
        {
          "output_type": "stream",
          "name": "stdout",
          "text": [
            "Accuracy: 20.90 - Loss: 0.015502088611036437 \n",
            "\n"
          ]
        },
        {
          "output_type": "stream",
          "name": "stderr",
          "text": [
            "100%|██████████| 16/16 [00:09<00:00,  1.70it/s]\n",
            "100%|██████████| 19/19 [00:05<00:00,  3.24it/s]\n"
          ]
        },
        {
          "output_type": "stream",
          "name": "stdout",
          "text": [
            "Accuracy: 19.20 - Loss: 0.015564735584698439 \n",
            "\n"
          ]
        },
        {
          "output_type": "stream",
          "name": "stderr",
          "text": [
            "100%|██████████| 16/16 [00:09<00:00,  1.69it/s]\n",
            "100%|██████████| 19/19 [00:05<00:00,  3.23it/s]\n"
          ]
        },
        {
          "output_type": "stream",
          "name": "stdout",
          "text": [
            "Accuracy: 21.50 - Loss: 0.015499494842701805 \n",
            "\n"
          ]
        },
        {
          "output_type": "stream",
          "name": "stderr",
          "text": [
            "100%|██████████| 16/16 [00:09<00:00,  1.67it/s]\n",
            "100%|██████████| 19/19 [00:06<00:00,  2.79it/s]\n"
          ]
        },
        {
          "output_type": "stream",
          "name": "stdout",
          "text": [
            "Accuracy: 21.42 - Loss: 0.015605967860579897 \n",
            "\n"
          ]
        },
        {
          "output_type": "stream",
          "name": "stderr",
          "text": [
            "100%|██████████| 16/16 [00:08<00:00,  1.93it/s]\n",
            "100%|██████████| 19/19 [00:06<00:00,  2.72it/s]\n"
          ]
        },
        {
          "output_type": "stream",
          "name": "stdout",
          "text": [
            "Accuracy: 20.52 - Loss: 0.01556256199859515 \n",
            "\n"
          ]
        },
        {
          "output_type": "stream",
          "name": "stderr",
          "text": [
            "100%|██████████| 16/16 [00:08<00:00,  1.80it/s]\n",
            "100%|██████████| 19/19 [00:06<00:00,  3.02it/s]\n"
          ]
        },
        {
          "output_type": "stream",
          "name": "stdout",
          "text": [
            "Accuracy: 20.39 - Loss: 0.015558120435415275 \n",
            "\n"
          ]
        },
        {
          "output_type": "stream",
          "name": "stderr",
          "text": [
            "100%|██████████| 16/16 [00:09<00:00,  1.69it/s]\n",
            "100%|██████████| 19/19 [00:05<00:00,  3.21it/s]\n"
          ]
        },
        {
          "output_type": "stream",
          "name": "stdout",
          "text": [
            "Accuracy: 20.52 - Loss: 0.01554862697173304 \n",
            "\n"
          ]
        },
        {
          "output_type": "stream",
          "name": "stderr",
          "text": [
            "100%|██████████| 16/16 [00:09<00:00,  1.69it/s]\n",
            "100%|██████████| 19/19 [00:06<00:00,  3.00it/s]\n"
          ]
        },
        {
          "output_type": "stream",
          "name": "stdout",
          "text": [
            "Accuracy: 19.88 - Loss: 0.015564382127120633 \n",
            "\n"
          ]
        },
        {
          "output_type": "stream",
          "name": "stderr",
          "text": [
            "100%|██████████| 16/16 [00:08<00:00,  1.79it/s]\n",
            "100%|██████████| 19/19 [00:07<00:00,  2.70it/s]\n"
          ]
        },
        {
          "output_type": "stream",
          "name": "stdout",
          "text": [
            "Accuracy: 21.12 - Loss: 0.015558954951299336 \n",
            "\n"
          ]
        },
        {
          "output_type": "stream",
          "name": "stderr",
          "text": [
            "100%|██████████| 16/16 [00:08<00:00,  1.93it/s]\n",
            "100%|██████████| 19/19 [00:06<00:00,  2.72it/s]\n"
          ]
        },
        {
          "output_type": "stream",
          "name": "stdout",
          "text": [
            "Accuracy: 19.75 - Loss: 0.015576767840076226 \n",
            "\n"
          ]
        }
      ],
      "source": [
        "warnings.filterwarnings('ignore', category=UserWarning)\n",
        "\n",
        "# Parse arguments\n",
        "conf = { # Art Painting -> Cartoon\n",
        "    'seed': 0,\n",
        "    'test_only': False,\n",
        "    'cpu': False,\n",
        "    'experiment': 'random',\n",
        "    'experiment_name': '2_3_7',\n",
        "    'experiment_args': {'module_placement': ['layer1.0.conv1', 'layer1.1.conv2', 'layer2.1.conv1', 'layer3.0.conv2', 'layer4.0.conv1', 'layer4.1.conv2'], 'mask_out_ratio': 0.75},\n",
        "    'dataset_args': {'text_root': 'data', 'images_root': 'data/kfold/PACS', 'source_domain': 'art_painting', 'target_domain': 'cartoon' },\n",
        "    'batch_size': 128,\n",
        "    'epochs': 30,\n",
        "    'num_workers': 5,\n",
        "    'grad_accum_steps': 1\n",
        "}\n",
        "\n",
        "#args = parse_arguments()\n",
        "args = argparse.Namespace(**conf)\n",
        "print(args)\n",
        "CONFIG.update(vars(args))\n",
        "\n",
        "# Setup output directory\n",
        "CONFIG.save_dir = os.path.join('record', CONFIG.experiment_name)\n",
        "os.makedirs(CONFIG.save_dir, exist_ok=True)\n",
        "\n",
        "# Setup logging\n",
        "logging.basicConfig(\n",
        "    filename=os.path.join(CONFIG.save_dir, 'log.txt'),\n",
        "    format='%(message)s',\n",
        "    level=logging.INFO,\n",
        "    filemode='a'\n",
        ")\n",
        "\n",
        "# Set experiment's device & deterministic behavior\n",
        "if CONFIG.cpu:\n",
        "    CONFIG.device = 'cpu'\n",
        "else:\n",
        "    CONFIG.device = 'cuda' if torch.cuda.is_available() else 'cpu'\n",
        "\n",
        "torch.manual_seed(CONFIG.seed)\n",
        "random.seed(CONFIG.seed)\n",
        "np.random.seed(CONFIG.seed)\n",
        "torch.backends.cudnn.benchmark = True\n",
        "torch.use_deterministic_algorithms(mode=True, warn_only=True)\n",
        "\n",
        "main()"
      ]
    },
    {
      "cell_type": "markdown",
      "metadata": {
        "id": "9tJig9D3rl_Y"
      },
      "source": [
        "#### 2.3.8 - Art Painting &rightarrow; Sketch, mor = 0.75"
      ]
    },
    {
      "cell_type": "code",
      "execution_count": 52,
      "metadata": {
        "colab": {
          "base_uri": "https://localhost:8080/"
        },
        "id": "M8V88wftrl_Y",
        "outputId": "f9c6e789-515c-4ddb-b705-0d598cd51611"
      },
      "outputs": [
        {
          "output_type": "stream",
          "name": "stdout",
          "text": [
            "Namespace(seed=0, test_only=False, cpu=False, experiment='random', experiment_name='2_3_8', experiment_args={'module_placement': ['layer1.0.conv1', 'layer1.1.conv2', 'layer2.1.conv1', 'layer3.0.conv2', 'layer4.0.conv1', 'layer4.1.conv2'], 'mask_out_ratio': 0.75}, dataset_args={'text_root': 'data', 'images_root': 'data/kfold/PACS', 'source_domain': 'art_painting', 'target_domain': 'sketch'}, batch_size=128, epochs=30, num_workers=5, grad_accum_steps=1)\n",
            "mask_out_ratio:  0.75\n",
            "layer_name layer1.0.conv1 random_mask sum():  tensor(50272., device='cuda:0')\n",
            "Insert activation shaping layer after  layer1.0.conv1 Conv2d(64, 64, kernel_size=(3, 3), stride=(1, 1), padding=(1, 1), bias=False)\n",
            "mask_out_ratio:  0.75\n",
            "layer_name layer1.1.conv2 random_mask sum():  tensor(50075., device='cuda:0')\n",
            "Insert activation shaping layer after  layer1.1.conv2 Conv2d(64, 64, kernel_size=(3, 3), stride=(1, 1), padding=(1, 1), bias=False)\n",
            "mask_out_ratio:  0.75\n",
            "layer_name layer2.1.conv1 random_mask sum():  tensor(25010., device='cuda:0')\n",
            "Insert activation shaping layer after  layer2.1.conv1 Conv2d(128, 128, kernel_size=(3, 3), stride=(1, 1), padding=(1, 1), bias=False)\n",
            "mask_out_ratio:  0.75\n",
            "layer_name layer3.0.conv2 random_mask sum():  tensor(12762., device='cuda:0')\n",
            "Insert activation shaping layer after  layer3.0.conv2 Conv2d(256, 256, kernel_size=(3, 3), stride=(1, 1), padding=(1, 1), bias=False)\n",
            "mask_out_ratio:  0.75\n",
            "layer_name layer4.0.conv1 random_mask sum():  tensor(6299., device='cuda:0')\n",
            "Insert activation shaping layer after  layer4.0.conv1 Conv2d(256, 512, kernel_size=(3, 3), stride=(2, 2), padding=(1, 1), bias=False)\n",
            "mask_out_ratio:  0.75\n",
            "layer_name layer4.1.conv2 random_mask sum():  tensor(6211., device='cuda:0')\n",
            "Insert activation shaping layer after  layer4.1.conv2 Conv2d(512, 512, kernel_size=(3, 3), stride=(1, 1), padding=(1, 1), bias=False)\n"
          ]
        },
        {
          "output_type": "stream",
          "name": "stderr",
          "text": [
            "100%|██████████| 16/16 [00:09<00:00,  1.62it/s]\n",
            "100%|██████████| 31/31 [00:12<00:00,  2.51it/s]\n"
          ]
        },
        {
          "output_type": "stream",
          "name": "stdout",
          "text": [
            "Accuracy: 7.56 - Loss: 0.016210886563742605 \n",
            "\n"
          ]
        },
        {
          "output_type": "stream",
          "name": "stderr",
          "text": [
            "100%|██████████| 16/16 [00:08<00:00,  1.95it/s]\n",
            "100%|██████████| 31/31 [00:11<00:00,  2.72it/s]\n"
          ]
        },
        {
          "output_type": "stream",
          "name": "stdout",
          "text": [
            "Accuracy: 4.76 - Loss: 0.016640564387431427 \n",
            "\n"
          ]
        },
        {
          "output_type": "stream",
          "name": "stderr",
          "text": [
            "100%|██████████| 16/16 [00:09<00:00,  1.73it/s]\n",
            "100%|██████████| 31/31 [00:11<00:00,  2.79it/s]\n"
          ]
        },
        {
          "output_type": "stream",
          "name": "stdout",
          "text": [
            "Accuracy: 5.78 - Loss: 0.01653984403695184 \n",
            "\n"
          ]
        },
        {
          "output_type": "stream",
          "name": "stderr",
          "text": [
            "100%|██████████| 16/16 [00:08<00:00,  1.79it/s]\n",
            "100%|██████████| 31/31 [00:10<00:00,  2.96it/s]\n"
          ]
        },
        {
          "output_type": "stream",
          "name": "stdout",
          "text": [
            "Accuracy: 8.02 - Loss: 0.016334529838115393 \n",
            "\n"
          ]
        },
        {
          "output_type": "stream",
          "name": "stderr",
          "text": [
            "100%|██████████| 16/16 [00:08<00:00,  1.78it/s]\n",
            "100%|██████████| 31/31 [00:11<00:00,  2.74it/s]\n"
          ]
        },
        {
          "output_type": "stream",
          "name": "stdout",
          "text": [
            "Accuracy: 8.78 - Loss: 0.016258872869088167 \n",
            "\n"
          ]
        },
        {
          "output_type": "stream",
          "name": "stderr",
          "text": [
            "100%|██████████| 16/16 [00:09<00:00,  1.72it/s]\n",
            "100%|██████████| 31/31 [00:11<00:00,  2.76it/s]\n"
          ]
        },
        {
          "output_type": "stream",
          "name": "stdout",
          "text": [
            "Accuracy: 7.10 - Loss: 0.016345269869957057 \n",
            "\n"
          ]
        },
        {
          "output_type": "stream",
          "name": "stderr",
          "text": [
            "100%|██████████| 16/16 [00:08<00:00,  1.98it/s]\n",
            "100%|██████████| 31/31 [00:11<00:00,  2.77it/s]\n"
          ]
        },
        {
          "output_type": "stream",
          "name": "stdout",
          "text": [
            "Accuracy: 9.77 - Loss: 0.016294301178170757 \n",
            "\n"
          ]
        },
        {
          "output_type": "stream",
          "name": "stderr",
          "text": [
            "100%|██████████| 16/16 [00:09<00:00,  1.72it/s]\n",
            "100%|██████████| 31/31 [00:13<00:00,  2.25it/s]\n"
          ]
        },
        {
          "output_type": "stream",
          "name": "stdout",
          "text": [
            "Accuracy: 9.19 - Loss: 0.016228435512231063 \n",
            "\n"
          ]
        },
        {
          "output_type": "stream",
          "name": "stderr",
          "text": [
            "100%|██████████| 16/16 [00:09<00:00,  1.74it/s]\n",
            "100%|██████████| 31/31 [00:10<00:00,  2.93it/s]\n"
          ]
        },
        {
          "output_type": "stream",
          "name": "stdout",
          "text": [
            "Accuracy: 12.37 - Loss: 0.016073224653145472 \n",
            "\n"
          ]
        },
        {
          "output_type": "stream",
          "name": "stderr",
          "text": [
            "100%|██████████| 16/16 [00:08<00:00,  1.85it/s]\n",
            "100%|██████████| 31/31 [00:11<00:00,  2.78it/s]\n"
          ]
        },
        {
          "output_type": "stream",
          "name": "stdout",
          "text": [
            "Accuracy: 11.35 - Loss: 0.016088847745068656 \n",
            "\n"
          ]
        },
        {
          "output_type": "stream",
          "name": "stderr",
          "text": [
            "100%|██████████| 16/16 [00:09<00:00,  1.73it/s]\n",
            "100%|██████████| 31/31 [00:11<00:00,  2.77it/s]\n"
          ]
        },
        {
          "output_type": "stream",
          "name": "stdout",
          "text": [
            "Accuracy: 13.06 - Loss: 0.016064814678977603 \n",
            "\n"
          ]
        },
        {
          "output_type": "stream",
          "name": "stderr",
          "text": [
            "100%|██████████| 16/16 [00:08<00:00,  1.96it/s]\n",
            "100%|██████████| 31/31 [00:11<00:00,  2.74it/s]\n"
          ]
        },
        {
          "output_type": "stream",
          "name": "stdout",
          "text": [
            "Accuracy: 14.35 - Loss: 0.015942247261616315 \n",
            "\n"
          ]
        },
        {
          "output_type": "stream",
          "name": "stderr",
          "text": [
            "100%|██████████| 16/16 [00:09<00:00,  1.72it/s]\n",
            "100%|██████████| 31/31 [00:11<00:00,  2.78it/s]\n"
          ]
        },
        {
          "output_type": "stream",
          "name": "stdout",
          "text": [
            "Accuracy: 14.84 - Loss: 0.01601003408128598 \n",
            "\n"
          ]
        },
        {
          "output_type": "stream",
          "name": "stderr",
          "text": [
            "100%|██████████| 16/16 [00:09<00:00,  1.70it/s]\n",
            "100%|██████████| 31/31 [00:10<00:00,  2.99it/s]\n"
          ]
        },
        {
          "output_type": "stream",
          "name": "stdout",
          "text": [
            "Accuracy: 14.10 - Loss: 0.015895010770262275 \n",
            "\n"
          ]
        },
        {
          "output_type": "stream",
          "name": "stderr",
          "text": [
            "100%|██████████| 16/16 [00:09<00:00,  1.70it/s]\n",
            "100%|██████████| 31/31 [00:11<00:00,  2.75it/s]\n"
          ]
        },
        {
          "output_type": "stream",
          "name": "stdout",
          "text": [
            "Accuracy: 16.39 - Loss: 0.01586981844010017 \n",
            "\n"
          ]
        },
        {
          "output_type": "stream",
          "name": "stderr",
          "text": [
            "100%|██████████| 16/16 [00:09<00:00,  1.70it/s]\n",
            "100%|██████████| 31/31 [00:11<00:00,  2.78it/s]\n"
          ]
        },
        {
          "output_type": "stream",
          "name": "stdout",
          "text": [
            "Accuracy: 17.15 - Loss: 0.01581868369271659 \n",
            "\n"
          ]
        },
        {
          "output_type": "stream",
          "name": "stderr",
          "text": [
            "100%|██████████| 16/16 [00:08<00:00,  1.98it/s]\n",
            "100%|██████████| 31/31 [00:11<00:00,  2.76it/s]\n"
          ]
        },
        {
          "output_type": "stream",
          "name": "stdout",
          "text": [
            "Accuracy: 15.73 - Loss: 0.01583072125198702 \n",
            "\n"
          ]
        },
        {
          "output_type": "stream",
          "name": "stderr",
          "text": [
            "100%|██████████| 16/16 [00:09<00:00,  1.72it/s]\n",
            "100%|██████████| 31/31 [00:11<00:00,  2.76it/s]\n"
          ]
        },
        {
          "output_type": "stream",
          "name": "stdout",
          "text": [
            "Accuracy: 17.66 - Loss: 0.01569965505272294 \n",
            "\n"
          ]
        },
        {
          "output_type": "stream",
          "name": "stderr",
          "text": [
            "100%|██████████| 16/16 [00:08<00:00,  1.92it/s]\n",
            "100%|██████████| 31/31 [00:11<00:00,  2.76it/s]\n"
          ]
        },
        {
          "output_type": "stream",
          "name": "stdout",
          "text": [
            "Accuracy: 18.91 - Loss: 0.015713875152343224 \n",
            "\n"
          ]
        },
        {
          "output_type": "stream",
          "name": "stderr",
          "text": [
            "100%|██████████| 16/16 [00:09<00:00,  1.72it/s]\n",
            "100%|██████████| 31/31 [00:11<00:00,  2.75it/s]\n"
          ]
        },
        {
          "output_type": "stream",
          "name": "stdout",
          "text": [
            "Accuracy: 17.94 - Loss: 0.01563003573535386 \n",
            "\n"
          ]
        },
        {
          "output_type": "stream",
          "name": "stderr",
          "text": [
            "100%|██████████| 16/16 [00:09<00:00,  1.77it/s]\n",
            "100%|██████████| 31/31 [00:10<00:00,  3.03it/s]\n"
          ]
        },
        {
          "output_type": "stream",
          "name": "stdout",
          "text": [
            "Accuracy: 17.87 - Loss: 0.015615670909769938 \n",
            "\n"
          ]
        },
        {
          "output_type": "stream",
          "name": "stderr",
          "text": [
            "100%|██████████| 16/16 [00:09<00:00,  1.74it/s]\n",
            "100%|██████████| 31/31 [00:11<00:00,  2.77it/s]\n"
          ]
        },
        {
          "output_type": "stream",
          "name": "stdout",
          "text": [
            "Accuracy: 19.24 - Loss: 0.015542542791815621 \n",
            "\n"
          ]
        },
        {
          "output_type": "stream",
          "name": "stderr",
          "text": [
            "100%|██████████| 16/16 [00:09<00:00,  1.72it/s]\n",
            "100%|██████████| 31/31 [00:11<00:00,  2.70it/s]\n"
          ]
        },
        {
          "output_type": "stream",
          "name": "stdout",
          "text": [
            "Accuracy: 19.09 - Loss: 0.015535661178437405 \n",
            "\n"
          ]
        },
        {
          "output_type": "stream",
          "name": "stderr",
          "text": [
            "100%|██████████| 16/16 [00:08<00:00,  1.96it/s]\n",
            "100%|██████████| 31/31 [00:11<00:00,  2.78it/s]\n"
          ]
        },
        {
          "output_type": "stream",
          "name": "stdout",
          "text": [
            "Accuracy: 20.08 - Loss: 0.015437750028696155 \n",
            "\n"
          ]
        },
        {
          "output_type": "stream",
          "name": "stderr",
          "text": [
            "100%|██████████| 16/16 [00:09<00:00,  1.72it/s]\n",
            "100%|██████████| 31/31 [00:11<00:00,  2.73it/s]\n"
          ]
        },
        {
          "output_type": "stream",
          "name": "stdout",
          "text": [
            "Accuracy: 19.83 - Loss: 0.015413359061668592 \n",
            "\n"
          ]
        },
        {
          "output_type": "stream",
          "name": "stderr",
          "text": [
            "100%|██████████| 16/16 [00:08<00:00,  1.89it/s]\n",
            "100%|██████████| 31/31 [00:11<00:00,  2.80it/s]\n"
          ]
        },
        {
          "output_type": "stream",
          "name": "stdout",
          "text": [
            "Accuracy: 19.83 - Loss: 0.015462966328147835 \n",
            "\n"
          ]
        },
        {
          "output_type": "stream",
          "name": "stderr",
          "text": [
            "100%|██████████| 16/16 [00:09<00:00,  1.69it/s]\n",
            "100%|██████████| 31/31 [00:11<00:00,  2.77it/s]\n"
          ]
        },
        {
          "output_type": "stream",
          "name": "stdout",
          "text": [
            "Accuracy: 19.50 - Loss: 0.015491568183559108 \n",
            "\n"
          ]
        },
        {
          "output_type": "stream",
          "name": "stderr",
          "text": [
            "100%|██████████| 16/16 [00:09<00:00,  1.69it/s]\n",
            "100%|██████████| 31/31 [00:10<00:00,  2.89it/s]\n"
          ]
        },
        {
          "output_type": "stream",
          "name": "stdout",
          "text": [
            "Accuracy: 19.93 - Loss: 0.015391514240011485 \n",
            "\n"
          ]
        },
        {
          "output_type": "stream",
          "name": "stderr",
          "text": [
            "100%|██████████| 16/16 [00:08<00:00,  1.93it/s]\n",
            "100%|██████████| 31/31 [00:11<00:00,  2.78it/s]\n"
          ]
        },
        {
          "output_type": "stream",
          "name": "stdout",
          "text": [
            "Accuracy: 19.85 - Loss: 0.01543839999087502 \n",
            "\n"
          ]
        },
        {
          "output_type": "stream",
          "name": "stderr",
          "text": [
            "100%|██████████| 16/16 [00:09<00:00,  1.70it/s]\n",
            "100%|██████████| 31/31 [00:11<00:00,  2.76it/s]\n"
          ]
        },
        {
          "output_type": "stream",
          "name": "stdout",
          "text": [
            "Accuracy: 20.11 - Loss: 0.015415044254430167 \n",
            "\n"
          ]
        }
      ],
      "source": [
        "warnings.filterwarnings('ignore', category=UserWarning)\n",
        "\n",
        "# Parse arguments\n",
        "conf = { # Art Painting -> Sketch\n",
        "    'seed': 0,\n",
        "    'test_only': False,\n",
        "    'cpu': False,\n",
        "    'experiment': 'random',\n",
        "    'experiment_name': '2_3_8',\n",
        "    'experiment_args': {'module_placement': ['layer1.0.conv1', 'layer1.1.conv2', 'layer2.1.conv1', 'layer3.0.conv2', 'layer4.0.conv1', 'layer4.1.conv2'], 'mask_out_ratio': 0.75},\n",
        "    'dataset_args': {'text_root': 'data', 'images_root': 'data/kfold/PACS', 'source_domain': 'art_painting', 'target_domain': 'sketch' },\n",
        "    'batch_size': 128,\n",
        "    'epochs': 30,\n",
        "    'num_workers': 5,\n",
        "    'grad_accum_steps': 1\n",
        "}\n",
        "\n",
        "#args = parse_arguments()\n",
        "args = argparse.Namespace(**conf)\n",
        "print(args)\n",
        "CONFIG.update(vars(args))\n",
        "\n",
        "# Setup output directory\n",
        "CONFIG.save_dir = os.path.join('record', CONFIG.experiment_name)\n",
        "os.makedirs(CONFIG.save_dir, exist_ok=True)\n",
        "\n",
        "# Setup logging\n",
        "logging.basicConfig(\n",
        "    filename=os.path.join(CONFIG.save_dir, 'log.txt'),\n",
        "    format='%(message)s',\n",
        "    level=logging.INFO,\n",
        "    filemode='a'\n",
        ")\n",
        "\n",
        "# Set experiment's device & deterministic behavior\n",
        "if CONFIG.cpu:\n",
        "    CONFIG.device = 'cpu'\n",
        "else:\n",
        "    CONFIG.device = 'cuda' if torch.cuda.is_available() else 'cpu'\n",
        "\n",
        "torch.manual_seed(CONFIG.seed)\n",
        "random.seed(CONFIG.seed)\n",
        "np.random.seed(CONFIG.seed)\n",
        "torch.backends.cudnn.benchmark = True\n",
        "torch.use_deterministic_algorithms(mode=True, warn_only=True)\n",
        "\n",
        "main()"
      ]
    },
    {
      "cell_type": "markdown",
      "metadata": {
        "id": "mnuriihMrl_Z"
      },
      "source": [
        "#### 2.3.9 - Art Painting &rightarrow; Photo, mor = 0.75"
      ]
    },
    {
      "cell_type": "code",
      "execution_count": 53,
      "metadata": {
        "colab": {
          "base_uri": "https://localhost:8080/"
        },
        "id": "bw7kH6y3rl_Z",
        "outputId": "770a5f38-3f60-414b-d069-8d1ee7bf821b"
      },
      "outputs": [
        {
          "output_type": "stream",
          "name": "stdout",
          "text": [
            "Namespace(seed=0, test_only=False, cpu=False, experiment='random', experiment_name='2_3_9', experiment_args={'module_placement': ['layer1.0.conv1', 'layer1.1.conv2', 'layer2.1.conv1', 'layer3.0.conv2', 'layer4.0.conv1', 'layer4.1.conv2'], 'mask_out_ratio': 0.75}, dataset_args={'text_root': 'data', 'images_root': 'data/kfold/PACS', 'source_domain': 'art_painting', 'target_domain': 'photo'}, batch_size=128, epochs=30, num_workers=5, grad_accum_steps=1)\n",
            "mask_out_ratio:  0.75\n",
            "layer_name layer1.0.conv1 random_mask sum():  tensor(50272., device='cuda:0')\n",
            "Insert activation shaping layer after  layer1.0.conv1 Conv2d(64, 64, kernel_size=(3, 3), stride=(1, 1), padding=(1, 1), bias=False)\n",
            "mask_out_ratio:  0.75\n",
            "layer_name layer1.1.conv2 random_mask sum():  tensor(50075., device='cuda:0')\n",
            "Insert activation shaping layer after  layer1.1.conv2 Conv2d(64, 64, kernel_size=(3, 3), stride=(1, 1), padding=(1, 1), bias=False)\n",
            "mask_out_ratio:  0.75\n",
            "layer_name layer2.1.conv1 random_mask sum():  tensor(25010., device='cuda:0')\n",
            "Insert activation shaping layer after  layer2.1.conv1 Conv2d(128, 128, kernel_size=(3, 3), stride=(1, 1), padding=(1, 1), bias=False)\n",
            "mask_out_ratio:  0.75\n",
            "layer_name layer3.0.conv2 random_mask sum():  tensor(12762., device='cuda:0')\n",
            "Insert activation shaping layer after  layer3.0.conv2 Conv2d(256, 256, kernel_size=(3, 3), stride=(1, 1), padding=(1, 1), bias=False)\n",
            "mask_out_ratio:  0.75\n",
            "layer_name layer4.0.conv1 random_mask sum():  tensor(6299., device='cuda:0')\n",
            "Insert activation shaping layer after  layer4.0.conv1 Conv2d(256, 512, kernel_size=(3, 3), stride=(2, 2), padding=(1, 1), bias=False)\n",
            "mask_out_ratio:  0.75\n",
            "layer_name layer4.1.conv2 random_mask sum():  tensor(6211., device='cuda:0')\n",
            "Insert activation shaping layer after  layer4.1.conv2 Conv2d(512, 512, kernel_size=(3, 3), stride=(1, 1), padding=(1, 1), bias=False)\n"
          ]
        },
        {
          "output_type": "stream",
          "name": "stderr",
          "text": [
            "100%|██████████| 16/16 [00:09<00:00,  1.69it/s]\n",
            "100%|██████████| 14/14 [00:05<00:00,  2.64it/s]\n"
          ]
        },
        {
          "output_type": "stream",
          "name": "stdout",
          "text": [
            "Accuracy: 24.43 - Loss: 0.015940914039840243 \n",
            "\n"
          ]
        },
        {
          "output_type": "stream",
          "name": "stderr",
          "text": [
            "100%|██████████| 16/16 [00:09<00:00,  1.73it/s]\n",
            "100%|██████████| 14/14 [00:04<00:00,  3.12it/s]\n"
          ]
        },
        {
          "output_type": "stream",
          "name": "stdout",
          "text": [
            "Accuracy: 25.21 - Loss: 0.015811149588602032 \n",
            "\n"
          ]
        },
        {
          "output_type": "stream",
          "name": "stderr",
          "text": [
            "100%|██████████| 16/16 [00:09<00:00,  1.68it/s]\n",
            "100%|██████████| 14/14 [00:04<00:00,  3.12it/s]\n"
          ]
        },
        {
          "output_type": "stream",
          "name": "stdout",
          "text": [
            "Accuracy: 21.38 - Loss: 0.01582960482842908 \n",
            "\n"
          ]
        },
        {
          "output_type": "stream",
          "name": "stderr",
          "text": [
            "100%|██████████| 16/16 [00:09<00:00,  1.73it/s]\n",
            "100%|██████████| 14/14 [00:04<00:00,  3.16it/s]\n"
          ]
        },
        {
          "output_type": "stream",
          "name": "stdout",
          "text": [
            "Accuracy: 21.32 - Loss: 0.01573678968909258 \n",
            "\n"
          ]
        },
        {
          "output_type": "stream",
          "name": "stderr",
          "text": [
            "100%|██████████| 16/16 [00:09<00:00,  1.73it/s]\n",
            "100%|██████████| 14/14 [00:04<00:00,  3.11it/s]\n"
          ]
        },
        {
          "output_type": "stream",
          "name": "stdout",
          "text": [
            "Accuracy: 21.08 - Loss: 0.015843179340134125 \n",
            "\n"
          ]
        },
        {
          "output_type": "stream",
          "name": "stderr",
          "text": [
            "100%|██████████| 16/16 [00:09<00:00,  1.72it/s]\n",
            "100%|██████████| 14/14 [00:04<00:00,  3.18it/s]\n"
          ]
        },
        {
          "output_type": "stream",
          "name": "stdout",
          "text": [
            "Accuracy: 22.99 - Loss: 0.01570049445786162 \n",
            "\n"
          ]
        },
        {
          "output_type": "stream",
          "name": "stderr",
          "text": [
            "100%|██████████| 16/16 [00:09<00:00,  1.73it/s]\n",
            "100%|██████████| 14/14 [00:04<00:00,  3.13it/s]\n"
          ]
        },
        {
          "output_type": "stream",
          "name": "stdout",
          "text": [
            "Accuracy: 22.10 - Loss: 0.015698938098496307 \n",
            "\n"
          ]
        },
        {
          "output_type": "stream",
          "name": "stderr",
          "text": [
            "100%|██████████| 16/16 [00:09<00:00,  1.73it/s]\n",
            "100%|██████████| 14/14 [00:04<00:00,  3.13it/s]\n"
          ]
        },
        {
          "output_type": "stream",
          "name": "stdout",
          "text": [
            "Accuracy: 24.49 - Loss: 0.01560283670882265 \n",
            "\n"
          ]
        },
        {
          "output_type": "stream",
          "name": "stderr",
          "text": [
            "100%|██████████| 16/16 [00:08<00:00,  1.78it/s]\n",
            "100%|██████████| 14/14 [00:04<00:00,  2.81it/s]\n"
          ]
        },
        {
          "output_type": "stream",
          "name": "stdout",
          "text": [
            "Accuracy: 23.23 - Loss: 0.015590073034434975 \n",
            "\n"
          ]
        },
        {
          "output_type": "stream",
          "name": "stderr",
          "text": [
            "100%|██████████| 16/16 [00:08<00:00,  1.84it/s]\n",
            "100%|██████████| 14/14 [00:05<00:00,  2.59it/s]\n"
          ]
        },
        {
          "output_type": "stream",
          "name": "stdout",
          "text": [
            "Accuracy: 25.39 - Loss: 0.015532145243204997 \n",
            "\n"
          ]
        },
        {
          "output_type": "stream",
          "name": "stderr",
          "text": [
            "100%|██████████| 16/16 [00:08<00:00,  1.96it/s]\n",
            "100%|██████████| 14/14 [00:05<00:00,  2.57it/s]\n"
          ]
        },
        {
          "output_type": "stream",
          "name": "stdout",
          "text": [
            "Accuracy: 25.27 - Loss: 0.015593511615684646 \n",
            "\n"
          ]
        },
        {
          "output_type": "stream",
          "name": "stderr",
          "text": [
            "100%|██████████| 16/16 [00:08<00:00,  1.92it/s]\n",
            "100%|██████████| 14/14 [00:05<00:00,  2.54it/s]\n"
          ]
        },
        {
          "output_type": "stream",
          "name": "stdout",
          "text": [
            "Accuracy: 25.27 - Loss: 0.015507377907187639 \n",
            "\n"
          ]
        },
        {
          "output_type": "stream",
          "name": "stderr",
          "text": [
            "100%|██████████| 16/16 [00:08<00:00,  1.90it/s]\n",
            "100%|██████████| 14/14 [00:05<00:00,  2.67it/s]\n"
          ]
        },
        {
          "output_type": "stream",
          "name": "stdout",
          "text": [
            "Accuracy: 26.47 - Loss: 0.015345918703935818 \n",
            "\n"
          ]
        },
        {
          "output_type": "stream",
          "name": "stderr",
          "text": [
            "100%|██████████| 16/16 [00:09<00:00,  1.77it/s]\n",
            "100%|██████████| 14/14 [00:04<00:00,  3.05it/s]\n"
          ]
        },
        {
          "output_type": "stream",
          "name": "stdout",
          "text": [
            "Accuracy: 26.41 - Loss: 0.01544873129107995 \n",
            "\n"
          ]
        },
        {
          "output_type": "stream",
          "name": "stderr",
          "text": [
            "100%|██████████| 16/16 [00:09<00:00,  1.74it/s]\n",
            "100%|██████████| 14/14 [00:04<00:00,  3.12it/s]\n"
          ]
        },
        {
          "output_type": "stream",
          "name": "stdout",
          "text": [
            "Accuracy: 26.41 - Loss: 0.01537104316814217 \n",
            "\n"
          ]
        },
        {
          "output_type": "stream",
          "name": "stderr",
          "text": [
            "100%|██████████| 16/16 [00:10<00:00,  1.55it/s]\n",
            "100%|██████████| 14/14 [00:06<00:00,  2.30it/s]\n"
          ]
        },
        {
          "output_type": "stream",
          "name": "stdout",
          "text": [
            "Accuracy: 25.57 - Loss: 0.015501802053280219 \n",
            "\n"
          ]
        },
        {
          "output_type": "stream",
          "name": "stderr",
          "text": [
            "100%|██████████| 16/16 [00:09<00:00,  1.75it/s]\n",
            "100%|██████████| 14/14 [00:04<00:00,  3.19it/s]\n"
          ]
        },
        {
          "output_type": "stream",
          "name": "stdout",
          "text": [
            "Accuracy: 28.14 - Loss: 0.015321264081372472 \n",
            "\n"
          ]
        },
        {
          "output_type": "stream",
          "name": "stderr",
          "text": [
            "100%|██████████| 16/16 [00:09<00:00,  1.72it/s]\n",
            "100%|██████████| 14/14 [00:04<00:00,  3.10it/s]\n"
          ]
        },
        {
          "output_type": "stream",
          "name": "stdout",
          "text": [
            "Accuracy: 28.74 - Loss: 0.015347580924005566 \n",
            "\n"
          ]
        },
        {
          "output_type": "stream",
          "name": "stderr",
          "text": [
            "100%|██████████| 16/16 [00:09<00:00,  1.73it/s]\n",
            "100%|██████████| 14/14 [00:04<00:00,  2.92it/s]\n"
          ]
        },
        {
          "output_type": "stream",
          "name": "stdout",
          "text": [
            "Accuracy: 28.98 - Loss: 0.015350982885874675 \n",
            "\n"
          ]
        },
        {
          "output_type": "stream",
          "name": "stderr",
          "text": [
            "100%|██████████| 16/16 [00:08<00:00,  1.82it/s]\n",
            "100%|██████████| 14/14 [00:05<00:00,  2.58it/s]\n"
          ]
        },
        {
          "output_type": "stream",
          "name": "stdout",
          "text": [
            "Accuracy: 28.86 - Loss: 0.015315401125810818 \n",
            "\n"
          ]
        },
        {
          "output_type": "stream",
          "name": "stderr",
          "text": [
            "100%|██████████| 16/16 [00:08<00:00,  1.99it/s]\n",
            "100%|██████████| 14/14 [00:05<00:00,  2.58it/s]\n"
          ]
        },
        {
          "output_type": "stream",
          "name": "stdout",
          "text": [
            "Accuracy: 30.60 - Loss: 0.015147509546337014 \n",
            "\n"
          ]
        },
        {
          "output_type": "stream",
          "name": "stderr",
          "text": [
            "100%|██████████| 16/16 [00:08<00:00,  1.96it/s]\n",
            "100%|██████████| 14/14 [00:05<00:00,  2.51it/s]\n"
          ]
        },
        {
          "output_type": "stream",
          "name": "stdout",
          "text": [
            "Accuracy: 29.16 - Loss: 0.015287693960224082 \n",
            "\n"
          ]
        },
        {
          "output_type": "stream",
          "name": "stderr",
          "text": [
            "100%|██████████| 16/16 [00:08<00:00,  1.92it/s]\n",
            "100%|██████████| 14/14 [00:05<00:00,  2.70it/s]\n"
          ]
        },
        {
          "output_type": "stream",
          "name": "stdout",
          "text": [
            "Accuracy: 29.94 - Loss: 0.015176095434291634 \n",
            "\n"
          ]
        },
        {
          "output_type": "stream",
          "name": "stderr",
          "text": [
            "100%|██████████| 16/16 [00:08<00:00,  1.82it/s]\n",
            "100%|██████████| 14/14 [00:04<00:00,  3.00it/s]\n"
          ]
        },
        {
          "output_type": "stream",
          "name": "stdout",
          "text": [
            "Accuracy: 29.94 - Loss: 0.015136227636280175 \n",
            "\n"
          ]
        },
        {
          "output_type": "stream",
          "name": "stderr",
          "text": [
            "100%|██████████| 16/16 [00:09<00:00,  1.73it/s]\n",
            "100%|██████████| 14/14 [00:04<00:00,  3.13it/s]\n"
          ]
        },
        {
          "output_type": "stream",
          "name": "stdout",
          "text": [
            "Accuracy: 31.38 - Loss: 0.015128763492949709 \n",
            "\n"
          ]
        },
        {
          "output_type": "stream",
          "name": "stderr",
          "text": [
            "100%|██████████| 16/16 [00:09<00:00,  1.71it/s]\n",
            "100%|██████████| 14/14 [00:04<00:00,  3.19it/s]\n"
          ]
        },
        {
          "output_type": "stream",
          "name": "stdout",
          "text": [
            "Accuracy: 30.36 - Loss: 0.015207471890363864 \n",
            "\n"
          ]
        },
        {
          "output_type": "stream",
          "name": "stderr",
          "text": [
            "100%|██████████| 16/16 [00:09<00:00,  1.70it/s]\n",
            "100%|██████████| 14/14 [00:04<00:00,  3.09it/s]\n"
          ]
        },
        {
          "output_type": "stream",
          "name": "stdout",
          "text": [
            "Accuracy: 29.28 - Loss: 0.015134319502436473 \n",
            "\n"
          ]
        },
        {
          "output_type": "stream",
          "name": "stderr",
          "text": [
            "100%|██████████| 16/16 [00:09<00:00,  1.72it/s]\n",
            "100%|██████████| 14/14 [00:04<00:00,  3.10it/s]\n"
          ]
        },
        {
          "output_type": "stream",
          "name": "stdout",
          "text": [
            "Accuracy: 30.18 - Loss: 0.015199310265615315 \n",
            "\n"
          ]
        },
        {
          "output_type": "stream",
          "name": "stderr",
          "text": [
            "100%|██████████| 16/16 [00:09<00:00,  1.75it/s]\n",
            "100%|██████████| 14/14 [00:04<00:00,  3.13it/s]\n"
          ]
        },
        {
          "output_type": "stream",
          "name": "stdout",
          "text": [
            "Accuracy: 29.88 - Loss: 0.01528033717663702 \n",
            "\n"
          ]
        },
        {
          "output_type": "stream",
          "name": "stderr",
          "text": [
            "100%|██████████| 16/16 [00:09<00:00,  1.70it/s]\n",
            "100%|██████████| 14/14 [00:04<00:00,  3.16it/s]\n"
          ]
        },
        {
          "output_type": "stream",
          "name": "stdout",
          "text": [
            "Accuracy: 30.12 - Loss: 0.01508927944891467 \n",
            "\n"
          ]
        }
      ],
      "source": [
        "warnings.filterwarnings('ignore', category=UserWarning)\n",
        "\n",
        "# Parse arguments\n",
        "conf = { # Art Painting -> Photo\n",
        "    'seed': 0,\n",
        "    'test_only': False,\n",
        "    'cpu': False,\n",
        "    'experiment': 'random',\n",
        "    'experiment_name': '2_3_9',\n",
        "    'experiment_args': {'module_placement': ['layer1.0.conv1', 'layer1.1.conv2', 'layer2.1.conv1', 'layer3.0.conv2', 'layer4.0.conv1', 'layer4.1.conv2'], 'mask_out_ratio': 0.75},\n",
        "    'dataset_args': {'text_root': 'data', 'images_root': 'data/kfold/PACS', 'source_domain': 'art_painting', 'target_domain': 'photo' },\n",
        "    'batch_size': 128,\n",
        "    'epochs': 30,\n",
        "    'num_workers': 5,\n",
        "    'grad_accum_steps': 1\n",
        "}\n",
        "\n",
        "#args = parse_arguments()\n",
        "args = argparse.Namespace(**conf)\n",
        "print(args)\n",
        "CONFIG.update(vars(args))\n",
        "\n",
        "# Setup output directory\n",
        "CONFIG.save_dir = os.path.join('record', CONFIG.experiment_name)\n",
        "os.makedirs(CONFIG.save_dir, exist_ok=True)\n",
        "\n",
        "# Setup logging\n",
        "logging.basicConfig(\n",
        "    filename=os.path.join(CONFIG.save_dir, 'log.txt'),\n",
        "    format='%(message)s',\n",
        "    level=logging.INFO,\n",
        "    filemode='a'\n",
        ")\n",
        "\n",
        "# Set experiment's device & deterministic behavior\n",
        "if CONFIG.cpu:\n",
        "    CONFIG.device = 'cpu'\n",
        "else:\n",
        "    CONFIG.device = 'cuda' if torch.cuda.is_available() else 'cpu'\n",
        "\n",
        "torch.manual_seed(CONFIG.seed)\n",
        "random.seed(CONFIG.seed)\n",
        "np.random.seed(CONFIG.seed)\n",
        "torch.backends.cudnn.benchmark = True\n",
        "torch.use_deterministic_algorithms(mode=True, warn_only=True)\n",
        "\n",
        "main()"
      ]
    },
    {
      "cell_type": "markdown",
      "metadata": {
        "id": "84SPtogfvmv3"
      },
      "source": [
        "## 3 - Adapting Activation Maps across Domains"
      ]
    },
    {
      "cell_type": "markdown",
      "metadata": {
        "id": "L9DlpZBVRg5F"
      },
      "source": [
        "### 3.1 - module placement: layer2.1.conv2"
      ]
    },
    {
      "cell_type": "markdown",
      "metadata": {
        "id": "ThxkXWWkSGRp"
      },
      "source": [
        "#### 3.1.1 - Art Painting &rightarrow; Cartoon"
      ]
    },
    {
      "cell_type": "code",
      "execution_count": null,
      "metadata": {
        "id": "jpOjb6fTVKn7"
      },
      "outputs": [],
      "source": [
        "warnings.filterwarnings('ignore', category=UserWarning)\n",
        "\n",
        "# Parse arguments\n",
        "conf = { # Art Painting -> Cartoon\n",
        "    'seed': 0,\n",
        "    'test_only': False,\n",
        "    'cpu': False,\n",
        "    'experiment': 'domain_adaptation',\n",
        "    'experiment_name': '3_1_1',\n",
        "    'experiment_args': {'module_placement': ['layer2.1.conv2']},\n",
        "    'dataset_args': {'text_root': 'data', 'images_root': 'data/kfold/PACS', 'source_domain': 'art_painting', 'target_domain': 'cartoon' },\n",
        "    'batch_size': 128,\n",
        "    'epochs': 30,\n",
        "    'num_workers': 5,\n",
        "    'grad_accum_steps': 1\n",
        "}\n",
        "\n",
        "args = argparse.Namespace(**conf)\n",
        "print(args)\n",
        "CONFIG.update(vars(args))\n",
        "\n",
        "# Setup output directory\n",
        "CONFIG.save_dir = os.path.join('record', CONFIG.experiment_name)\n",
        "os.makedirs(CONFIG.save_dir, exist_ok=True)\n",
        "\n",
        "# Setup logging\n",
        "logging.basicConfig(\n",
        "    filename=os.path.join(CONFIG.save_dir, 'log.txt'),\n",
        "    format='%(message)s',\n",
        "    level=logging.INFO,\n",
        "    filemode='a'\n",
        ")\n",
        "\n",
        "# Set experiment's device & deterministic behavior\n",
        "if CONFIG.cpu: CONFIG.device = 'cpu'\n",
        "else: CONFIG.device = 'cuda' if torch.cuda.is_available() else 'cpu'\n",
        "\n",
        "torch.manual_seed(CONFIG.seed)\n",
        "random.seed(CONFIG.seed)\n",
        "np.random.seed(CONFIG.seed)\n",
        "torch.backends.cudnn.benchmark = True\n",
        "torch.use_deterministic_algorithms(mode=True, warn_only=True)\n",
        "\n",
        "main()"
      ]
    },
    {
      "cell_type": "markdown",
      "metadata": {
        "id": "dcfJPnnq1H3b"
      },
      "source": [
        "#### 3.1.2 - Art Painting &rightarrow; Sketch"
      ]
    },
    {
      "cell_type": "code",
      "execution_count": null,
      "metadata": {
        "id": "eRL1kR1H1H3b"
      },
      "outputs": [],
      "source": [
        "warnings.filterwarnings('ignore', category=UserWarning)\n",
        "\n",
        "# Parse arguments\n",
        "conf = { # Art Painting -> Sketch\n",
        "    'seed': 0,\n",
        "    'test_only': False,\n",
        "    'cpu': False,\n",
        "    'experiment': 'domain_adaptation',\n",
        "    'experiment_name': '3_1_2',\n",
        "    'experiment_args': {'module_placement': ['layer2.1.conv2']},\n",
        "    'dataset_args': {'text_root': 'data', 'images_root': 'data/kfold/PACS', 'source_domain': 'art_painting', 'target_domain': 'sketch' },\n",
        "    'batch_size': 128,\n",
        "    'epochs': 30,\n",
        "    'num_workers': 5,\n",
        "    'grad_accum_steps': 1\n",
        "}\n",
        "\n",
        "args = argparse.Namespace(**conf)\n",
        "print(args)\n",
        "CONFIG.update(vars(args))\n",
        "\n",
        "# Setup output directory\n",
        "CONFIG.save_dir = os.path.join('record', CONFIG.experiment_name)\n",
        "os.makedirs(CONFIG.save_dir, exist_ok=True)\n",
        "\n",
        "# Setup logging\n",
        "logging.basicConfig(\n",
        "    filename=os.path.join(CONFIG.save_dir, 'log.txt'),\n",
        "    format='%(message)s',\n",
        "    level=logging.INFO,\n",
        "    filemode='a'\n",
        ")\n",
        "\n",
        "# Set experiment's device & deterministic behavior\n",
        "if CONFIG.cpu: CONFIG.device = 'cpu'\n",
        "else: CONFIG.device = 'cuda' if torch.cuda.is_available() else 'cpu'\n",
        "\n",
        "torch.manual_seed(CONFIG.seed)\n",
        "random.seed(CONFIG.seed)\n",
        "np.random.seed(CONFIG.seed)\n",
        "torch.backends.cudnn.benchmark = True\n",
        "torch.use_deterministic_algorithms(mode=True, warn_only=True)\n",
        "\n",
        "main()"
      ]
    },
    {
      "cell_type": "markdown",
      "metadata": {
        "id": "Ca8O9JQ11H3b"
      },
      "source": [
        "#### 3.1.3 - Art Painting &rightarrow; Photo"
      ]
    },
    {
      "cell_type": "code",
      "execution_count": null,
      "metadata": {
        "id": "7QkNbDJB1H3b"
      },
      "outputs": [],
      "source": [
        "warnings.filterwarnings('ignore', category=UserWarning)\n",
        "\n",
        "# Parse arguments\n",
        "conf = { # Art Painting -> Photo\n",
        "    'seed': 0,\n",
        "    'test_only': False,\n",
        "    'cpu': False,\n",
        "    'experiment': 'domain_adaptation',\n",
        "    'experiment_name': '3_1_3',\n",
        "    'experiment_args': {'module_placement': ['layer2.1.conv2']},\n",
        "    'dataset_args': {'text_root': 'data', 'images_root': 'data/kfold/PACS', 'source_domain': 'art_painting', 'target_domain': 'photo' },\n",
        "    'batch_size': 128,\n",
        "    'epochs': 30,\n",
        "    'num_workers': 5,\n",
        "    'grad_accum_steps': 1\n",
        "}\n",
        "\n",
        "args = argparse.Namespace(**conf)\n",
        "print(args)\n",
        "CONFIG.update(vars(args))\n",
        "\n",
        "# Setup output directory\n",
        "CONFIG.save_dir = os.path.join('record', CONFIG.experiment_name)\n",
        "os.makedirs(CONFIG.save_dir, exist_ok=True)\n",
        "\n",
        "# Setup logging\n",
        "logging.basicConfig(\n",
        "    filename=os.path.join(CONFIG.save_dir, 'log.txt'),\n",
        "    format='%(message)s',\n",
        "    level=logging.INFO,\n",
        "    filemode='a'\n",
        ")\n",
        "\n",
        "# Set experiment's device & deterministic behavior\n",
        "if CONFIG.cpu: CONFIG.device = 'cpu'\n",
        "else: CONFIG.device = 'cuda' if torch.cuda.is_available() else 'cpu'\n",
        "\n",
        "torch.manual_seed(CONFIG.seed)\n",
        "random.seed(CONFIG.seed)\n",
        "np.random.seed(CONFIG.seed)\n",
        "torch.backends.cudnn.benchmark = True\n",
        "torch.use_deterministic_algorithms(mode=True, warn_only=True)\n",
        "\n",
        "main()"
      ]
    },
    {
      "cell_type": "markdown",
      "metadata": {
        "id": "lMwxcUU9vmv3"
      },
      "source": [
        "## Ext. 2 - Binarization Ablation"
      ]
    }
  ],
  "metadata": {
    "accelerator": "GPU",
    "colab": {
      "collapsed_sections": [
        "r1K5BCgevmvr",
        "3GNDC97Lvmvs",
        "4QL6QFg7vmvv",
        "bCGGDU0Yvmvx",
        "UjcULfoOvmv0",
        "pDUK98dRvmv1",
        "qSD7qmGTvmv2",
        "0XMhO3LgdRdl",
        "DFjB655wdRdm",
        "5AXg2S2XdRd9",
        "pTblrtLQdReB",
        "jLG77qbMvmv2",
        "ASds1POidReC",
        "vWdOhcHSdReC",
        "wLZCIj8RdReC",
        "e0rHeyv8dReD",
        "NpJ6Y5M-dReD",
        "i4BhP1jEOT-c",
        "oAbe3UM0dReE",
        "A3Ou43e5OT-f",
        "34WzO42cvmv3",
        "WV2IHfN5Qv52",
        "WODF1KAeQv52",
        "GlnrMrOIQv53",
        "D2d_9PGbQv54",
        "_4vh7YSWQv55",
        "IbwOZKZtQv55",
        "X7ziQ37aQv56",
        "6ULvvsoiQv56",
        "0D9MGsK8Qv57",
        "x4IecZ4UQv57",
        "SoxtIzUbQv57",
        "CrQDvAgjQv58",
        "ThxkXWWkSGRp"
      ],
      "gpuType": "T4",
      "provenance": []
    },
    "kernelspec": {
      "display_name": "Python 3",
      "name": "python3"
    },
    "language_info": {
      "codemirror_mode": {
        "name": "ipython",
        "version": 3
      },
      "file_extension": ".py",
      "mimetype": "text/x-python",
      "name": "python",
      "nbconvert_exporter": "python",
      "pygments_lexer": "ipython3",
      "version": "3.10.12"
    }
  },
  "nbformat": 4,
  "nbformat_minor": 0
}