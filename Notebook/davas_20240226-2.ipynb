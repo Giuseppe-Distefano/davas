{
  "cells": [
    {
      "cell_type": "markdown",
      "metadata": {
        "id": "9mvYu-uGXxxF"
      },
      "source": [
        "# Domain Adaptation Via Activation Shaping"
      ]
    },
    {
      "cell_type": "markdown",
      "metadata": {
        "id": "GbNMNXu7XxxJ"
      },
      "source": [
        "**Teacher assistant** Iurada Leonardo\n",
        "\n",
        "**Students**\n",
        "\n",
        "- Bar Giorgio\n",
        "- Distefano Giuseppe\n",
        "- Incaviglia Salvatore"
      ]
    },
    {
      "cell_type": "markdown",
      "metadata": {
        "id": "bJix4fzIXxxK"
      },
      "source": [
        "## Code"
      ]
    },
    {
      "cell_type": "markdown",
      "metadata": {
        "id": "aqt8hJw4XxxL"
      },
      "source": [
        "### Libraries"
      ]
    },
    {
      "cell_type": "code",
      "execution_count": 1,
      "metadata": {
        "vscode": {
          "languageId": "python"
        },
        "colab": {
          "base_uri": "https://localhost:8080/"
        },
        "id": "JLDdLrJbXxxL",
        "outputId": "31859b8b-5c96-4003-dc2e-7f844f62b103"
      },
      "outputs": [
        {
          "output_type": "stream",
          "name": "stdout",
          "text": [
            "Requirement already satisfied: torch in /usr/local/lib/python3.10/dist-packages (2.1.0+cu121)\n",
            "Requirement already satisfied: torchvision in /usr/local/lib/python3.10/dist-packages (0.16.0+cu121)\n",
            "Requirement already satisfied: tqdm in /usr/local/lib/python3.10/dist-packages (4.66.2)\n",
            "Collecting torchmetrics\n",
            "  Downloading torchmetrics-1.3.1-py3-none-any.whl (840 kB)\n",
            "\u001b[2K     \u001b[90m━━━━━━━━━━━━━━━━━━━━━━━━━━━━━━━━━━━━━━━━\u001b[0m \u001b[32m840.4/840.4 kB\u001b[0m \u001b[31m9.5 MB/s\u001b[0m eta \u001b[36m0:00:00\u001b[0m\n",
            "\u001b[?25hRequirement already satisfied: filelock in /usr/local/lib/python3.10/dist-packages (from torch) (3.13.1)\n",
            "Requirement already satisfied: typing-extensions in /usr/local/lib/python3.10/dist-packages (from torch) (4.9.0)\n",
            "Requirement already satisfied: sympy in /usr/local/lib/python3.10/dist-packages (from torch) (1.12)\n",
            "Requirement already satisfied: networkx in /usr/local/lib/python3.10/dist-packages (from torch) (3.2.1)\n",
            "Requirement already satisfied: jinja2 in /usr/local/lib/python3.10/dist-packages (from torch) (3.1.3)\n",
            "Requirement already satisfied: fsspec in /usr/local/lib/python3.10/dist-packages (from torch) (2023.6.0)\n",
            "Requirement already satisfied: triton==2.1.0 in /usr/local/lib/python3.10/dist-packages (from torch) (2.1.0)\n",
            "Requirement already satisfied: numpy in /usr/local/lib/python3.10/dist-packages (from torchvision) (1.25.2)\n",
            "Requirement already satisfied: requests in /usr/local/lib/python3.10/dist-packages (from torchvision) (2.31.0)\n",
            "Requirement already satisfied: pillow!=8.3.*,>=5.3.0 in /usr/local/lib/python3.10/dist-packages (from torchvision) (9.4.0)\n",
            "Requirement already satisfied: packaging>17.1 in /usr/local/lib/python3.10/dist-packages (from torchmetrics) (23.2)\n",
            "Collecting lightning-utilities>=0.8.0 (from torchmetrics)\n",
            "  Downloading lightning_utilities-0.10.1-py3-none-any.whl (24 kB)\n",
            "Requirement already satisfied: setuptools in /usr/local/lib/python3.10/dist-packages (from lightning-utilities>=0.8.0->torchmetrics) (67.7.2)\n",
            "Requirement already satisfied: MarkupSafe>=2.0 in /usr/local/lib/python3.10/dist-packages (from jinja2->torch) (2.1.5)\n",
            "Requirement already satisfied: charset-normalizer<4,>=2 in /usr/local/lib/python3.10/dist-packages (from requests->torchvision) (3.3.2)\n",
            "Requirement already satisfied: idna<4,>=2.5 in /usr/local/lib/python3.10/dist-packages (from requests->torchvision) (3.6)\n",
            "Requirement already satisfied: urllib3<3,>=1.21.1 in /usr/local/lib/python3.10/dist-packages (from requests->torchvision) (2.0.7)\n",
            "Requirement already satisfied: certifi>=2017.4.17 in /usr/local/lib/python3.10/dist-packages (from requests->torchvision) (2024.2.2)\n",
            "Requirement already satisfied: mpmath>=0.19 in /usr/local/lib/python3.10/dist-packages (from sympy->torch) (1.3.0)\n",
            "Installing collected packages: lightning-utilities, torchmetrics\n",
            "Successfully installed lightning-utilities-0.10.1 torchmetrics-1.3.1\n"
          ]
        }
      ],
      "source": [
        "!pip install torch torchvision tqdm torchmetrics\n",
        "\n",
        "import torch\n",
        "\n",
        "import torch.backends.mps\n",
        "from argparse import ArgumentParser\n",
        "\n",
        "import os\n",
        "import torchvision.transforms as T\n",
        "\n",
        "from torch.utils.data import Dataset, DataLoader\n",
        "from torchvision.datasets import CIFAR10\n",
        "\n",
        "import numpy as np\n",
        "import random\n",
        "from PIL import Image\n",
        "\n",
        "import torch.nn as nn\n",
        "from torchvision.models import resnet18, ResNet18_Weights\n",
        "\n",
        "import torch.nn.functional as F\n",
        "from torchmetrics import Accuracy\n",
        "from tqdm import tqdm\n",
        "\n",
        "import logging\n",
        "import warnings\n",
        "\n",
        "import argparse"
      ]
    },
    {
      "cell_type": "markdown",
      "metadata": {
        "id": "GOw5DqRaXxxM"
      },
      "source": [
        "### Setup PACS dataset and environment"
      ]
    },
    {
      "cell_type": "code",
      "execution_count": 2,
      "metadata": {
        "vscode": {
          "languageId": "python"
        },
        "colab": {
          "base_uri": "https://localhost:8080/"
        },
        "id": "jMUnh8K_XxxN",
        "outputId": "1c92c1a1-89cf-48c3-c0a0-559d91a449d9"
      },
      "outputs": [
        {
          "output_type": "stream",
          "name": "stdout",
          "text": [
            "Cloning into 'Homework3-PACS'...\n",
            "remote: Enumerating objects: 10032, done.\u001b[K\n",
            "remote: Total 10032 (delta 0), reused 0 (delta 0), pack-reused 10032\u001b[K\n",
            "Receiving objects: 100% (10032/10032), 174.13 MiB | 19.25 MiB/s, done.\n",
            "Resolving deltas: 100% (1/1), done.\n",
            "Updating files: 100% (9993/9993), done.\n",
            "Cloning into 'DANN_Template'...\n",
            "remote: Enumerating objects: 23, done.\u001b[K\n",
            "remote: Total 23 (delta 0), reused 0 (delta 0), pack-reused 23\u001b[K\n",
            "Receiving objects: 100% (23/23), 33.86 KiB | 3.76 MiB/s, done.\n",
            "Resolving deltas: 100% (5/5), done.\n"
          ]
        }
      ],
      "source": [
        "# Download PACS Dataset Images and Labels\n",
        "!git clone https://github.com/MachineLearning2020/Homework3-PACS/\n",
        "!git clone https://github.com/silvia1993/DANN_Template/\n",
        "\n",
        "# Setup data\n",
        "!rm -rf data || true\n",
        "!rm -rf record || true\n",
        "!mkdir data\n",
        "!mkdir data/kfold\n",
        "!cp -r Homework3-PACS/PACS/ data/kfold\n",
        "!cp DANN_Template/txt_lists/*.txt data\n",
        "!rm -rf Homework3-PACS/\n",
        "!rm -rf DANN_Template/\n",
        "!rm -rf sample_data || true"
      ]
    },
    {
      "cell_type": "markdown",
      "metadata": {
        "id": "ERngXRoaXxxO"
      },
      "source": [
        "### Globals"
      ]
    },
    {
      "cell_type": "markdown",
      "metadata": {
        "id": "dU8mOpx1XxxP"
      },
      "source": [
        "#### globals"
      ]
    },
    {
      "cell_type": "code",
      "execution_count": 3,
      "metadata": {
        "vscode": {
          "languageId": "python"
        },
        "id": "3RQvEDBdXxxR"
      },
      "outputs": [],
      "source": [
        "class dotdict(dict):\n",
        "    \"\"\"dot.notation access to dictionary attributes\"\"\"\n",
        "    __getattr__ = dict.get\n",
        "    __setattr__ = dict.__setitem__\n",
        "    __delattr__ = dict.__delitem__\n",
        "\n",
        "CONFIG = dotdict({})\n",
        "\n",
        "if torch.cuda.is_available():\n",
        "    CONFIG.device = 'cuda'\n",
        "elif torch.backends.mps.is_available() and torch.backends.mps.is_built():\n",
        "    CONFIG.device = 'mps'\n",
        "else:\n",
        "    CONFIG.device = 'cpu'\n",
        "\n",
        "CONFIG.dtype = torch.float32"
      ]
    },
    {
      "cell_type": "markdown",
      "metadata": {
        "id": "RxUjHKL_XxxR"
      },
      "source": [
        "#### parse args"
      ]
    },
    {
      "cell_type": "code",
      "execution_count": 4,
      "metadata": {
        "id": "ri1QrU7_vmvz",
        "vscode": {
          "languageId": "python"
        }
      },
      "outputs": [],
      "source": [
        "def _clear_args(parsed_args):\n",
        "    parsed_args.experiment_args = eval(parsed_args.experiment_args)\n",
        "    parsed_args.dataset_args = eval(parsed_args.dataset_args)\n",
        "    return parsed_args\n",
        "\n",
        "\n",
        "def parse_arguments():\n",
        "    parser = ArgumentParser()\n",
        "\n",
        "    parser.add_argument('--seed', type=int, default=0, help='Seed used for deterministic behavior')\n",
        "    parser.add_argument('--test_only', action='store_true', help='Whether to skip training')\n",
        "    parser.add_argument('--cpu', action='store_true', help='Whether to force the usage of CPU')\n",
        "\n",
        "    parser.add_argument('--experiment', type=str, default='baseline')\n",
        "    parser.add_argument('--experiment_name', type=str, default='baseline')\n",
        "    parser.add_argument('--experiment_args', type=str, default='{}')\n",
        "    parser.add_argument('--dataset_args', type=str, default='{}')\n",
        "\n",
        "    parser.add_argument('--batch_size', type=int, default=128)\n",
        "    parser.add_argument('--epochs', type=int, default=30)\n",
        "    parser.add_argument('--num_workers', type=int, default=5)\n",
        "    parser.add_argument('--grad_accum_steps', type=int, default=1)\n",
        "\n",
        "    return _clear_args(parser.parse_args())"
      ]
    },
    {
      "cell_type": "markdown",
      "metadata": {
        "id": "l7_xoRWhvmvz"
      },
      "source": [
        "#### Global variables"
      ]
    },
    {
      "cell_type": "code",
      "execution_count": 5,
      "metadata": {
        "id": "GA15sREQvmvz",
        "vscode": {
          "languageId": "python"
        }
      },
      "outputs": [],
      "source": [
        "DEVICE = 'cuda' if torch.cuda.is_available() else 'cpu'\n",
        "NUM_CLASSES = 7\n",
        "BATCH_SIZE = 256\n",
        "LR = 1e-3               # The initial Learning Rate\n",
        "MOMENTUM = 0.9          # Hyperparameter for SGD, keep this at 0.9 when using SGD\n",
        "WEIGHT_DECAY = 5e-5     # Regularization, you can keep this at the default\n",
        "NUM_EPOCHS = 30         # Total number of training epochs (iterations over dataset)\n",
        "STEP_SIZE = 20          # How many epochs before decreasing learning rate (if using a step-down policy)\n",
        "GAMMA = 0.1             # Multiplicative factor for learning rate step-down\n",
        "\n",
        "LOG_FREQUENCY = 10"
      ]
    },
    {
      "cell_type": "markdown",
      "metadata": {
        "id": "UjcULfoOvmv0"
      },
      "source": [
        "### Dataset"
      ]
    },
    {
      "cell_type": "markdown",
      "metadata": {
        "id": "2juNIEQ9vmv0"
      },
      "source": [
        "#### utils"
      ]
    },
    {
      "cell_type": "code",
      "execution_count": 6,
      "metadata": {
        "id": "XSPzZSuSvmv0",
        "vscode": {
          "languageId": "python"
        }
      },
      "outputs": [],
      "source": [
        "class BaseDataset(Dataset):\n",
        "    def __init__(self, examples, transform):\n",
        "        self.examples = examples\n",
        "        self.T = transform\n",
        "\n",
        "\n",
        "    def __len__(self):\n",
        "        return len(self.examples)\n",
        "\n",
        "\n",
        "    def __getitem__(self, index):\n",
        "        x, y = self.examples[index]\n",
        "        x = Image.open(x).convert('RGB')\n",
        "        x = self.T(x).to(CONFIG.dtype)\n",
        "        y = torch.tensor(y).long()\n",
        "        return x, y\n",
        "\n",
        "######################################################\n",
        "\n",
        "class DomainAdaptationDataset(Dataset):\n",
        "    def __init__(self, source_examples, target_examples, transform):\n",
        "        self.source_examples = source_examples\n",
        "        self.target_examples = target_examples\n",
        "        self.T = transform\n",
        "\n",
        "\n",
        "    def __len__(self):\n",
        "        return len(self.source_examples)\n",
        "\n",
        "\n",
        "    def __getitem__(self, index):\n",
        "        src_x, src_y = self.source_examples[index]\n",
        "        src_x = Image.open(src_x).convert('RGB')\n",
        "        src_x = self.T(src_x).to(CONFIG.dtype)\n",
        "        src_y = torch.tensor(src_y).long()\n",
        "\n",
        "        # randomly sample 'target_examples' to obtain targ_x\n",
        "        target_idx = torch.randint(len(self.target_examples), size=(1,)).item()\n",
        "        targ_x, _ = self.target_examples[target_idx]\n",
        "        targ_x = Image.open(targ_x).convert('RGB')\n",
        "        targ_x = self.T(targ_x).to(CONFIG.dtype)\n",
        "\n",
        "        return src_x, src_y, targ_x\n",
        "\n",
        "######################################################\n",
        "\n",
        "# [OPTIONAL] TODO: modify 'BaseDataset' for the Domain Generalization setting.\n",
        "# Hint: combine the examples from the 3 source domains into a single 'examples' list\n",
        "#class DomainGeneralizationDataset(Dataset):\n",
        "#    def __init__(self, examples, transform):\n",
        "#        self.examples = examples\n",
        "#        self.T = transform\n",
        "#\n",
        "#    def __len__(self):\n",
        "#        return len(self.examples)\n",
        "#\n",
        "#    def __getitem__(self, index):\n",
        "#        x1, x2, x3 = self.examples[index]\n",
        "#        x1, x2, x3 = self.T(x1), self.T(x2), self.T(x3)\n",
        "#        targ_x = self.T(targ_x)\n",
        "#        return x1, x2, x3\n",
        "\n",
        "######################################################\n",
        "\n",
        "class SeededDataLoader(DataLoader):\n",
        "    def __init__(self, dataset: Dataset, batch_size=1, shuffle=None,\n",
        "                 sampler=None,\n",
        "                 batch_sampler=None,\n",
        "                 num_workers=0, collate_fn=None,\n",
        "                 pin_memory=False, drop_last=False, timeout=0,\n",
        "                 worker_init_fn=None, multiprocessing_context=None,\n",
        "                 generator=None, *, prefetch_factor=None, persistent_workers=False,\n",
        "                 pin_memory_device=\"\"):\n",
        "\n",
        "        if not CONFIG.use_nondeterministic:\n",
        "            def seed_worker(worker_id):\n",
        "                worker_seed = torch.initial_seed() % 2**32\n",
        "                np.random.seed(worker_seed)\n",
        "                random.seed(worker_seed)\n",
        "\n",
        "            generator = torch.Generator()\n",
        "            generator.manual_seed(CONFIG.seed)\n",
        "\n",
        "            worker_init_fn = seed_worker\n",
        "\n",
        "        super().__init__(dataset, batch_size, shuffle, sampler, batch_sampler, num_workers, collate_fn,\n",
        "                         pin_memory, drop_last, timeout, worker_init_fn, multiprocessing_context, generator,\n",
        "                         prefetch_factor=prefetch_factor, persistent_workers=persistent_workers,\n",
        "                         pin_memory_device=pin_memory_device)"
      ]
    },
    {
      "cell_type": "markdown",
      "metadata": {
        "id": "8COjLe2Fvmv0"
      },
      "source": [
        "#### PACS"
      ]
    },
    {
      "cell_type": "code",
      "execution_count": 7,
      "metadata": {
        "id": "qJ3cq4Ofvmv1",
        "vscode": {
          "languageId": "python"
        }
      },
      "outputs": [],
      "source": [
        "def get_transform(size, mean, std, preprocess):\n",
        "    transform = []\n",
        "    if preprocess:\n",
        "        transform.append(T.Resize(256))\n",
        "        transform.append(T.RandomResizedCrop(size=size, scale=(0.7, 1.0)))\n",
        "        transform.append(T.RandomHorizontalFlip())\n",
        "    else:\n",
        "        transform.append(T.Resize(size))\n",
        "    transform.append(T.ToTensor())\n",
        "    transform.append(T.Normalize(mean, std))\n",
        "    return T.Compose(transform)\n",
        "\n",
        "\n",
        "def load_data():\n",
        "    CONFIG.num_classes = 7\n",
        "    CONFIG.data_input_size = (3, 224, 224)\n",
        "\n",
        "    # Create transforms\n",
        "    mean, std = (0.485, 0.456, 0.406), (0.229, 0.224, 0.225) # ImageNet Pretrain statistics\n",
        "    train_transform = get_transform(size=224, mean=mean, std=std, preprocess=True)\n",
        "    test_transform = get_transform(size=224, mean=mean, std=std, preprocess=False)\n",
        "\n",
        "    # Load examples\n",
        "    source_examples, target_examples = [], []\n",
        "    if CONFIG.experiment in ['baseline', 'random', 'domain_adaptation','extension2_1_2','extension2_1_3','extension2_2_2','extension2_2_3']:\n",
        "        # Load source\n",
        "        f = open(os.path.join(CONFIG.dataset_args['text_root'], f\"{CONFIG.dataset_args['source_domain']}.txt\"), 'r')\n",
        "        for line in f:\n",
        "            line = line.strip().split()\n",
        "            path, label = line[0].split('/')[0:], int(line[1])\n",
        "            source_examples.append((os.path.join(CONFIG.dataset_args['images_root'], *path), label))\n",
        "        f.close()\n",
        "\n",
        "        # Load target\n",
        "        f = open(os.path.join(CONFIG.dataset_args['text_root'], f\"{CONFIG.dataset_args['target_domain']}.txt\"), 'r')\n",
        "        for line in f:\n",
        "            line = line.strip().split()\n",
        "            path, label = line[0].split('/')[0:], int(line[1])\n",
        "            target_examples.append((os.path.join(CONFIG.dataset_args['images_root'], *path), label))\n",
        "        f.close()\n",
        "\n",
        "    # create Dataset object for the baseline and the Random Maps Ablation experiments\n",
        "    if CONFIG.experiment in ['baseline', 'random','extension2_1_2','extension2_2_2']:\n",
        "        train_dataset = BaseDataset(source_examples, transform=train_transform)\n",
        "        test_dataset = BaseDataset(target_examples, transform=test_transform)\n",
        "\n",
        "    # create Dataset object for the Domain Adaptation experiments\n",
        "    if CONFIG.experiment in ['domain_adaptation','extension2_1_3','extension2_2_3']:\n",
        "        train_dataset = DomainAdaptationDataset(source_examples, target_examples, transform=train_transform)\n",
        "        test_dataset = BaseDataset(target_examples, transform=test_transform)\n",
        "\n",
        "    ######################################################\n",
        "\n",
        "    # Dataloaders\n",
        "    train_loader = SeededDataLoader(\n",
        "        train_dataset,\n",
        "        batch_size=CONFIG.batch_size,\n",
        "        shuffle=True,\n",
        "        num_workers=CONFIG.num_workers,\n",
        "        pin_memory=True,\n",
        "        persistent_workers=True\n",
        "    )\n",
        "\n",
        "    test_loader = SeededDataLoader(\n",
        "        test_dataset,\n",
        "        batch_size=CONFIG.batch_size,\n",
        "        shuffle=False,\n",
        "        num_workers=CONFIG.num_workers,\n",
        "        pin_memory=True,\n",
        "        persistent_workers=True\n",
        "    )\n",
        "\n",
        "    return {'train': train_loader, 'test': test_loader}"
      ]
    },
    {
      "cell_type": "markdown",
      "metadata": {
        "id": "pDUK98dRvmv1"
      },
      "source": [
        "### Models"
      ]
    },
    {
      "cell_type": "markdown",
      "metadata": {
        "id": "kRb0wPBTvmv1"
      },
      "source": [
        "#### Base ResNet 18"
      ]
    },
    {
      "cell_type": "code",
      "execution_count": 8,
      "metadata": {
        "id": "RT5Z64b0vmv1",
        "vscode": {
          "languageId": "python"
        }
      },
      "outputs": [],
      "source": [
        "class BaseResNet18(nn.Module):\n",
        "    def __init__(self):\n",
        "        super(BaseResNet18, self).__init__()\n",
        "        self.resnet = resnet18(weights=ResNet18_Weights)\n",
        "        self.resnet.fc = nn.Linear(self.resnet.fc.in_features, 7)\n",
        "\n",
        "\n",
        "    def forward(self, x):\n",
        "        return self.resnet(x)"
      ]
    },
    {
      "cell_type": "markdown",
      "metadata": {
        "id": "nRnqcOEM1H3G"
      },
      "source": [
        "#### ASH ResNet 18"
      ]
    },
    {
      "cell_type": "code",
      "execution_count": 9,
      "metadata": {
        "id": "2gaQKaiO1H3G",
        "vscode": {
          "languageId": "python"
        }
      },
      "outputs": [],
      "source": [
        "# 'BaseResNet18' including the Activation Shaping Module\n",
        "class ASHResNet18(nn.Module):\n",
        "    def __init__(self):\n",
        "        super(ASHResNet18, self).__init__()\n",
        "        self.resnet = resnet18(weights=ResNet18_Weights)\n",
        "        self.resnet.fc = nn.Linear(self.resnet.fc.in_features, 7)\n",
        "\n",
        "        self.hook_handles = {}\n",
        "\n",
        "    def get_random_activation_map_hook(self, mask_out_ratio):\n",
        "\n",
        "        # Activation Shaping Module as a function that shall be hooked via 'register_forward_hook'\n",
        "        # The hook captures the mask_out_ratio from the parent scope\n",
        "        def random_activation_map_hook(module, input, output):\n",
        "            # create a mask tensor with a given ratio of zeros\n",
        "            print('mask_out_ratio: ', mask_out_ratio)\n",
        "            rand_mat = torch.rand_like(output)\n",
        "            mask = torch.where(rand_mat <= mask_out_ratio, 0.0, 1.0)\n",
        "            print('random_mask sum(): ', mask.sum())\n",
        "\n",
        "            # binarize both activation map and mask using zero as threshold\n",
        "            A_binary = torch.where(output<=0, 0.0, 1.0)\n",
        "            M_binary = torch.where(mask<=0, 0.0, 1.0)\n",
        "\n",
        "            # return the element-wise product of activation map and mask\n",
        "            shaped_output = A_binary * M_binary\n",
        "            return shaped_output\n",
        "\n",
        "        return random_activation_map_hook\n",
        "\n",
        "\n",
        "    def register_random_activation_maps_hooks(self, module_placement, mask_out_ratio):\n",
        "        for layer_name, module in self.resnet.named_modules():\n",
        "            # if (isinstance(module, nn.Conv2d) and layer_name in module_placement):\n",
        "            if ((isinstance(module, nn.ReLU) or isinstance(module, nn.Conv2d)) and layer_name in module_placement):\n",
        "                print('Register a hook to perform Random Maps Ablation on layer ', layer_name, module)\n",
        "                hook = self.get_random_activation_map_hook(mask_out_ratio)\n",
        "                self.hook_handles[layer_name] = module.register_forward_hook(hook)\n",
        "\n",
        "\n",
        "    def remove_random_activation_maps_hooks(self):\n",
        "        for layer_name, handle in self.hook_handles.items():\n",
        "            print('Remove the hook used to perform Activation Shaping on layer ', layer_name)\n",
        "            handle.remove()\n",
        "\n",
        "\n",
        "    def forward(self, x):\n",
        "        return self.resnet(x)"
      ]
    },
    {
      "cell_type": "markdown",
      "metadata": {
        "id": "AvHbJLPmUS2B"
      },
      "source": [
        "#### ResNet 18 for Domain Adaptation"
      ]
    },
    {
      "cell_type": "code",
      "execution_count": 10,
      "metadata": {
        "id": "sJw5hX2lUS2C",
        "vscode": {
          "languageId": "python"
        }
      },
      "outputs": [],
      "source": [
        "# 'BaseResNet18' including the Activation Shaping Module for Domain Adaptation\n",
        "class DAResNet18(nn.Module):\n",
        "    def __init__(self, module_placement=None):\n",
        "        super(DAResNet18, self).__init__()\n",
        "        self.resnet = resnet18(weights=ResNet18_Weights)\n",
        "        self.resnet.fc = nn.Linear(self.resnet.fc.in_features, 7)\n",
        "\n",
        "        self.activation_maps = {}\n",
        "        self.activation_map_hook_handles = {}\n",
        "        self.activation_shaping_hook_handles = {}\n",
        "\n",
        "    def get_extract_activation_map_hook (self, layer_name):\n",
        "        def extract_activation_map_hook(module, input, output):\n",
        "            self.activation_maps[layer_name] = output.detach().clone()\n",
        "        return extract_activation_map_hook\n",
        "\n",
        "    def get_activation_shaping_hook (self, mask):\n",
        "        # Activation Shaping Module as a function that shall be hooked via 'register_forward_hook'\n",
        "        # The hook captures mask variable from the parent scope\n",
        "\n",
        "        def activation_shaping_hook (module, input, output):\n",
        "\n",
        "            # binarize both activation map and mask using zero as threshold\n",
        "            A_binary = torch.where(output <= 0, 0.0, 1.0)\n",
        "            M_binary = torch.where(mask <= 0, 0.0, 1.0)\n",
        "\n",
        "            # return the element-wise product of activation map and mask\n",
        "            shaped_output = A_binary * M_binary\n",
        "            return shaped_output\n",
        "\n",
        "        return activation_shaping_hook\n",
        "\n",
        "\n",
        "    def register_extract_activation_map_hooks (self, module_placement):\n",
        "        # Register hook(s) (1st hook) to store activation map\n",
        "        for layer_name, module in self.resnet.named_modules():\n",
        "            if (isinstance(module, nn.Conv2d) and layer_name in module_placement):\n",
        "                hook = self.get_extract_activation_map_hook(layer_name)\n",
        "                self.activation_map_hook_handles[layer_name] = module.register_forward_hook(hook)\n",
        "\n",
        "\n",
        "    def remove_extract_activation_map_hooks (self):\n",
        "        # Remove hook(s) used to store activation map\n",
        "        for layer_name, handle in self.activation_map_hook_handles.items():\n",
        "            handle.remove()\n",
        "\n",
        "\n",
        "    def register_activation_shaping_hooks (self, module_placement):\n",
        "        # Register the Activation Shaping Module hook(s) (2nd hook)\n",
        "        for layer_name, module in self.resnet.named_modules():\n",
        "            if (isinstance(module, nn.Conv2d) and layer_name in self.activation_maps):\n",
        "                hook = self.get_activation_shaping_hook(self.activation_maps[layer_name])\n",
        "                self.activation_shaping_hook_handles[layer_name] = module.register_forward_hook(hook)\n",
        "\n",
        "\n",
        "    def remove_activation_shaping_hooks (self):\n",
        "        # Remove hook(s) used to perform Activation Shaping\n",
        "        for layer_name, handle in self.activation_shaping_hook_handles.items():\n",
        "            handle.remove()\n",
        "\n",
        "\n",
        "    def forward(self, x):\n",
        "        return self.resnet(x)"
      ]
    },
    {
      "cell_type": "markdown",
      "metadata": {
        "id": "67LcsnNY1H3G"
      },
      "source": [
        "#### ResNet 18 for ablation studies"
      ]
    },
    {
      "cell_type": "markdown",
      "metadata": {
        "id": "tYUP-43pXxxZ"
      },
      "source": [
        "##### 1.2"
      ]
    },
    {
      "cell_type": "code",
      "execution_count": 11,
      "metadata": {
        "vscode": {
          "languageId": "python"
        },
        "id": "6u-rGhPbXxxZ"
      },
      "outputs": [],
      "source": [
        "# 'BaseResNet18' including the Activation Shaping Module\n",
        "class Abl12ResNet18(nn.Module):\n",
        "    def __init__(self):\n",
        "        super(Abl12ResNet18, self).__init__()\n",
        "        self.resnet = resnet18(weights=ResNet18_Weights)\n",
        "        self.resnet.fc = nn.Linear(self.resnet.fc.in_features, 7)\n",
        "        self.hook_handles = {}\n",
        "\n",
        "\n",
        "    def get_random_activation_map_hook(self, mask_out_ratio):\n",
        "        # Activation Shaping Module as a function that shall be hooked via 'register_forward_hook'\n",
        "        # The hook captures the mask_out_ratio from the parent scope\n",
        "        def random_activation_map_hook(module, input, output):\n",
        "            # create a mask tensor with a given ratio of zeros\n",
        "            rand_mat = torch.rand_like(output)\n",
        "            mask = torch.where(rand_mat <= mask_out_ratio, 0.0, 1.0)\n",
        "            print('random_mask sum(): ', mask.sum())\n",
        "\n",
        "            # binarize both activation map and mask using zero as threshold\n",
        "            A_binary = torch.tensor(output)\n",
        "            M_binary = torch.tensor(mask)\n",
        "\n",
        "            # return the element-wise product of activation map and mask\n",
        "            shaped_output = A_binary * M_binary\n",
        "            return shaped_output\n",
        "\n",
        "        return random_activation_map_hook\n",
        "\n",
        "\n",
        "    def register_random_activation_maps_hooks(self, module_placement, mask_out_ratio):\n",
        "        for layer_name, module in self.resnet.named_modules():\n",
        "            if (isinstance(module, nn.Conv2d) and layer_name in module_placement):\n",
        "                print('Register a hook to perform Random Maps Ablation on layer ', layer_name, module)\n",
        "                hook = self.get_random_activation_map_hook(mask_out_ratio)\n",
        "                self.hook_handles[layer_name] = module.register_forward_hook(hook)\n",
        "\n",
        "\n",
        "    def remove_random_activation_maps_hooks(self):\n",
        "        for layer_name, handle in self.hook_handles.items():\n",
        "            print('Remove the hook used to perform Activation Shaping on layer ', layer_name)\n",
        "            handle.remove()\n",
        "\n",
        "\n",
        "    def forward(self, x):\n",
        "        return self.resnet(x)"
      ]
    },
    {
      "cell_type": "markdown",
      "metadata": {
        "id": "yuoGKN2BXxxa"
      },
      "source": [
        "##### 1.3"
      ]
    },
    {
      "cell_type": "code",
      "execution_count": 12,
      "metadata": {
        "id": "sdD68Po71H3G",
        "vscode": {
          "languageId": "python"
        }
      },
      "outputs": [],
      "source": [
        "# 'BaseResNet18' including the Activation Shaping Module for Domain Adaptation--->Punto3\n",
        "class Abl13ResNet18(nn.Module):\n",
        "    def __init__(self, module_placement=None):\n",
        "        super(Abl13ResNet18, self).__init__()\n",
        "        self.resnet = resnet18(weights=ResNet18_Weights)\n",
        "        self.resnet.fc = nn.Linear(self.resnet.fc.in_features, 7)\n",
        "        self.activation_maps = {}\n",
        "        self.activation_map_hook_handles = {}\n",
        "        self.activation_shaping_hook_handles = {}\n",
        "\n",
        "\n",
        "    def get_extract_activation_map_hook (self, layer_name):\n",
        "        def extract_activation_map_hook(module, input, output):\n",
        "            self.activation_maps[layer_name] = output.detach().clone()\n",
        "        return extract_activation_map_hook\n",
        "\n",
        "\n",
        "    def get_activation_shaping_hook (self, mask):\n",
        "        # Activation Shaping Module as a function that shall be hooked via 'register_forward_hook'\n",
        "        def activation_shaping_hook (module, input, output):\n",
        "            A_binary = torch.where(output <= 0, torch.tensor(0.0), torch.tensor(1.0))\n",
        "            A = torch.tensor(output)\n",
        "            M = torch.tensor(mask)\n",
        "            shaped_output = A* M\n",
        "            return shaped_output\n",
        "        return activation_shaping_hook\n",
        "\n",
        "\n",
        "    def register_extract_activation_map_hooks (self, module_placement):\n",
        "        # Register hook(s) (1st hook) to store activation map\n",
        "        for layer_name, module in self.resnet.named_modules():\n",
        "            if (isinstance(module, nn.Conv2d) and layer_name in module_placement):\n",
        "                hook = self.get_extract_activation_map_hook(layer_name)\n",
        "                self.activation_map_hook_handles[layer_name] = module.register_forward_hook(hook)\n",
        "\n",
        "\n",
        "    def remove_extract_activation_map_hooks (self):\n",
        "        # Remove hook(s) used to store activation map\n",
        "        for layer_name, handle in self.activation_map_hook_handles.items():\n",
        "            handle.remove()\n",
        "\n",
        "\n",
        "    def register_activation_shaping_hooks (self, module_placement):\n",
        "        # Register the Activation Shaping Module hook(s) (2nd hook)\n",
        "        for layer_name, module in self.resnet.named_modules():\n",
        "            if (isinstance(module, nn.Conv2d) and layer_name in module_placement):\n",
        "                hook = self.get_activation_shaping_hook(self.activation_maps[layer_name])\n",
        "                self.activation_shaping_hook_handles[layer_name] = module.register_forward_hook(hook)\n",
        "\n",
        "\n",
        "    def remove_activation_shaping_hooks (self):\n",
        "        # Remove hook(s) used to perform Activation Shaping\n",
        "        for layer_name, handle in self.activation_shaping_hook_handles.items():\n",
        "            handle.remove()\n",
        "\n",
        "\n",
        "    def forward(self, x):\n",
        "        return self.resnet(x)"
      ]
    },
    {
      "cell_type": "markdown",
      "metadata": {
        "id": "XafQTXAPXxxa"
      },
      "source": [
        "##### 2.2"
      ]
    },
    {
      "cell_type": "code",
      "execution_count": 13,
      "metadata": {
        "id": "t0_DUy7N0Pgk",
        "vscode": {
          "languageId": "python"
        }
      },
      "outputs": [],
      "source": [
        "def get_activation_shaping_hook_extension2_2_2(mask, topk):\n",
        "    def activation_shaping_hook(module, input, output):\n",
        "        M = torch.tensor(mask)\n",
        "        A = torch.tensor(output)\n",
        "        # Calcola i top-k values di A\n",
        "        topk_values,top_indices = torch.topk(A,4)\n",
        "        # Crea una maschera per gli elementi in topk\n",
        "        M_binary= torch.where(M >= topk_values.min(), torch.tensor(1.0), torch.tensor(0.0))\n",
        "        # Moltiplica A per M\n",
        "        shaped_output = A * M_binary\n",
        "\n",
        "        return shaped_output\n",
        "    return activation_shaping_hook\n",
        "\n",
        "######################################################\n",
        "\n",
        "# 'BaseResNet18' including the Activation Shaping Module\n",
        "class Abl22ResNet18(nn.Module):\n",
        "    def __init__(self):\n",
        "        super(Abl22ResNet18, self).__init__()\n",
        "        self.resnet = resnet18(weights=ResNet18_Weights)\n",
        "        self.resnet.fc = nn.Linear(self.resnet.fc.in_features, 7)\n",
        "        self.hook_handles = {}\n",
        "\n",
        "\n",
        "    def get_random_activation_map_hook(self, mask_out_ratio):\n",
        "        def activation_shaping_hook(module, input, output):\n",
        "            rand_mat = torch.rand_like(output)\n",
        "            mask = torch.where(rand_mat <= mask_out_ratio, 0.0, 1.0)\n",
        "            M = torch.tensor(mask)\n",
        "            A = torch.tensor(output)\n",
        "            # Calcola i topk values di A\n",
        "            topk_values,top_indices = torch.topk(A,4)\n",
        "            # Crea una maschera per gli elementi in topk\n",
        "            M_binary= torch.where(M >= topk_values.min(), torch.tensor(1.0), torch.tensor(0.0))\n",
        "            # Moltiplica A per M\n",
        "            shaped_output = A * M_binary\n",
        "\n",
        "            return shaped_output\n",
        "        return activation_shaping_hook\n",
        "\n",
        "\n",
        "    def register_random_activation_maps_hooks(self, module_placement, mask_out_ratio):\n",
        "        for layer_name, module in self.resnet.named_modules():\n",
        "            if (isinstance(module, nn.Conv2d) and layer_name in module_placement):\n",
        "                print('Register a hook to perform Random Maps Ablation on layer ', layer_name, module)\n",
        "                hook = self.get_random_activation_map_hook(mask_out_ratio)\n",
        "                self.hook_handles[layer_name] = module.register_forward_hook(hook)\n",
        "\n",
        "\n",
        "    def remove_random_activation_maps_hooks(self):\n",
        "        for layer_name, handle in self.hook_handles.items():\n",
        "            print('Remove the hook used to perform Activation Shaping on layer ', layer_name)\n",
        "            handle.remove()\n",
        "\n",
        "\n",
        "    def forward(self, x):\n",
        "        return self.resnet(x)"
      ]
    },
    {
      "cell_type": "markdown",
      "metadata": {
        "id": "5tOhMrjzXxxb"
      },
      "source": [
        "##### 2.3"
      ]
    },
    {
      "cell_type": "code",
      "execution_count": 14,
      "metadata": {
        "id": "SaSCs3gyFYrO",
        "vscode": {
          "languageId": "python"
        }
      },
      "outputs": [],
      "source": [
        "# 'BaseResNet18' including the Activation Shaping Module for Domain Adaptation--->Punto3\n",
        "class Abl23ResNet18(nn.Module):\n",
        "    def __init__(self, module_placement=None):\n",
        "        super(Abl23ResNet18, self).__init__()\n",
        "        self.resnet = resnet18(weights=ResNet18_Weights)\n",
        "        self.resnet.fc = nn.Linear(self.resnet.fc.in_features, 7)\n",
        "        self.activation_maps = {}\n",
        "        self.activation_map_hook_handles = {}\n",
        "        self.activation_shaping_hook_handles = {}\n",
        "\n",
        "\n",
        "    def get_extract_activation_map_hook (self, layer_name):\n",
        "        def extract_activation_map_hook(module, input, output):\n",
        "            self.activation_maps[layer_name] = output.detach().clone()\n",
        "        return extract_activation_map_hook\n",
        "\n",
        "\n",
        "    def get_activation_shaping_hook (self, mask):\n",
        "        # Activation Shaping Module as a function that shall be hooked via 'register_forward_hook'\n",
        "        def activation_shaping_hook (module, input, output):\n",
        "            M = torch.where(mask <= 0, torch.tensor(0.0), torch.tensor(1.0))\n",
        "            A = torch.tensor(output)\n",
        "            #topk_values, _ = torch.topk(A.view(-1), topk)\n",
        "            topk_values, _ = torch.topk(A.view(-1), 4)\n",
        "            topk_mask = torch.where(A >= topk_values.min(), torch.tensor(1.0), torch.tensor(0.0))\n",
        "            M *= topk_mask.view_as(M)\n",
        "            shaped_output = A * M\n",
        "\n",
        "            return shaped_output\n",
        "        return activation_shaping_hook\n",
        "\n",
        "\n",
        "    def register_extract_activation_map_hooks (self, module_placement):\n",
        "        # Register hook(s) (1st hook) to store activation map\n",
        "        for layer_name, module in self.resnet.named_modules():\n",
        "            if (isinstance(module, nn.Conv2d) and layer_name in module_placement):\n",
        "                hook = self.get_extract_activation_map_hook(layer_name)\n",
        "                self.activation_map_hook_handles[layer_name] = module.register_forward_hook(hook)\n",
        "\n",
        "\n",
        "    def remove_extract_activation_map_hooks (self):\n",
        "        # Remove hook(s) used to store activation map\n",
        "        for layer_name, handle in self.activation_map_hook_handles.items():\n",
        "            handle.remove()\n",
        "\n",
        "\n",
        "    def register_activation_shaping_hooks (self, module_placement, target_activation_maps):\n",
        "        # Register the Activation Shaping Module hook(s) (2nd hook)\n",
        "        for layer_name, module in self.resnet.named_modules():\n",
        "            if (isinstance(module, nn.Conv2d) and layer_name in module_placement):\n",
        "                hook = self.get_activation_shaping_hook(target_activation_maps[layer_name])\n",
        "                self.activation_shaping_hook_handles[layer_name] = module.register_forward_hook(hook)\n",
        "\n",
        "\n",
        "    def remove_activation_shaping_hooks (self):\n",
        "        # Remove hook(s) used to perform Activation Shaping\n",
        "        for layer_name, handle in self.activation_shaping_hook_handles.items():\n",
        "            handle.remove()\n",
        "\n",
        "\n",
        "    def forward(self, x):\n",
        "        return self.resnet(x)"
      ]
    },
    {
      "cell_type": "markdown",
      "metadata": {
        "id": "qSD7qmGTvmv2"
      },
      "source": [
        "### Run"
      ]
    },
    {
      "cell_type": "markdown",
      "metadata": {
        "id": "Xw07UrGmdRdk"
      },
      "source": [
        "#### Evaluate"
      ]
    },
    {
      "cell_type": "code",
      "execution_count": 15,
      "metadata": {
        "id": "LP7mr-ccdRdl",
        "vscode": {
          "languageId": "python"
        }
      },
      "outputs": [],
      "source": [
        "@torch.no_grad()\n",
        "def evaluate(model, data):\n",
        "    model.eval()\n",
        "\n",
        "    acc_meter = Accuracy(task='multiclass', num_classes=CONFIG.num_classes)\n",
        "    acc_meter = acc_meter.to(CONFIG.device)\n",
        "\n",
        "    loss = [0.0, 0]\n",
        "    for x, y in tqdm(data):\n",
        "        with torch.autocast(device_type=CONFIG.device, dtype=torch.float16, enabled=True):\n",
        "            x, y = x.to(CONFIG.device), y.to(CONFIG.device)\n",
        "            logits = model(x)\n",
        "            acc_meter.update(logits, y)\n",
        "            loss[0] += F.cross_entropy(logits, y).item()\n",
        "            loss[1] += x.size(0)\n",
        "\n",
        "    accuracy = acc_meter.compute()\n",
        "    loss = loss[0] / loss[1]\n",
        "    logging.info(f'Accuracy: {100 * accuracy:.2f} - Loss: {loss}')\n",
        "    print(f'Accuracy: {100 * accuracy:.2f} - Loss: {loss} \\n')"
      ]
    },
    {
      "cell_type": "markdown",
      "metadata": {
        "id": "i6uEldLZdRdl"
      },
      "source": [
        "#### Train"
      ]
    },
    {
      "cell_type": "code",
      "execution_count": 16,
      "metadata": {
        "id": "98_3TWLTvmv2",
        "vscode": {
          "languageId": "python"
        }
      },
      "outputs": [],
      "source": [
        "def train(model, data):\n",
        "    # Create optimizers & schedulers\n",
        "    optimizer = torch.optim.SGD(model.parameters(), weight_decay=0.0005, momentum=0.9, nesterov=True, lr=0.001)\n",
        "    scheduler = torch.optim.lr_scheduler.StepLR(optimizer, step_size=int(CONFIG.epochs * 0.8), gamma=0.1)\n",
        "    scaler = torch.cuda.amp.GradScaler(enabled=True)\n",
        "\n",
        "    # Load checkpoint (if it exists)\n",
        "    cur_epoch = 0\n",
        "    if os.path.exists(os.path.join('record', CONFIG.experiment_name, 'last.pth')):\n",
        "        checkpoint = torch.load(os.path.join('record', CONFIG.experiment_name, 'last.pth'))\n",
        "        cur_epoch = checkpoint['epoch']\n",
        "        optimizer.load_state_dict(checkpoint['optimizer'])\n",
        "        scheduler.load_state_dict(checkpoint['scheduler'])\n",
        "        model.load_state_dict(checkpoint['model'])\n",
        "\n",
        "    # Optimization loop\n",
        "    for epoch in range(cur_epoch, CONFIG.epochs):\n",
        "        model.train()\n",
        "\n",
        "        for batch_idx, batch in enumerate(tqdm(data['train'])):\n",
        "\n",
        "            # use a separate invocation of autocast for every forward pass.\n",
        "            if CONFIG.experiment in ['domain_adaptation']:\n",
        "                with torch.autocast(device_type=CONFIG.device, dtype=torch.float16, enabled=True):\n",
        "                    model.eval()\n",
        "                    # Register hook(s) to store the target domain activation maps and perform a forward pass\n",
        "                    src_x, src_y, targ_x = batch\n",
        "                    targ_x = targ_x.to(CONFIG.device)\n",
        "                    module_placement = CONFIG.experiment_args['module_placement']\n",
        "                    model.register_extract_activation_map_hooks(module_placement)\n",
        "                    with torch.no_grad():\n",
        "                        model(targ_x)\n",
        "                    model.remove_extract_activation_map_hooks()\n",
        "                    model.train()\n",
        "            elif CONFIG.experiment in ['extension2_1_3']:\n",
        "                with torch.autocast(device_type=CONFIG.device, dtype=torch.float16, enabled=True):\n",
        "                    model.eval()\n",
        "                    # Register hook(s) to store the target domain activation maps and perform a forward pass\n",
        "                    src_x, src_y, targ_x = batch\n",
        "                    targ_x = targ_x.to(CONFIG.device)\n",
        "                    module_placement = CONFIG.experiment_args['module_placement']\n",
        "                    model.register_extract_activation_map_hooks(module_placement)\n",
        "                    with torch.no_grad():\n",
        "                        model(targ_x)\n",
        "                    model.remove_extract_activation_map_hooks()\n",
        "                    model.train()\n",
        "            elif CONFIG.experiment in ['extension2_2_3']:\n",
        "                with torch.autocast(device_type=CONFIG.device, dtype=torch.float16, enabled=True):\n",
        "                    model.eval()\n",
        "                    # Register hook(s) to store the target domain activation maps and perform a forward pass\n",
        "                    src_x, src_y, targ_x = batch\n",
        "                    targ_x = targ_x.to(CONFIG.device)\n",
        "                    module_placement = CONFIG.experiment_args['module_placement']\n",
        "                    model.register_extract_activation_map_hooks(module_placement)\n",
        "                    with torch.no_grad():\n",
        "                        model(targ_x)\n",
        "                    model.remove_extract_activation_map_hooks()\n",
        "                    model.train()\n",
        "\n",
        "            # Compute loss\n",
        "            with torch.autocast(device_type=CONFIG.device, dtype=torch.float16, enabled=True):\n",
        "\n",
        "                if CONFIG.experiment in ['baseline']:\n",
        "                    x, y = batch\n",
        "                    x, y = x.to(CONFIG.device), y.to(CONFIG.device)\n",
        "                    loss = F.cross_entropy(model(x), y)\n",
        "                elif CONFIG.experiment in ['random']:\n",
        "                    x, y = batch\n",
        "                    x, y = x.to(CONFIG.device), y.to(CONFIG.device)\n",
        "                    # Randomly turn off some outputs of each layer\n",
        "                    module_placement = CONFIG.experiment_args['module_placement']\n",
        "                    mask_out_ratio = CONFIG.experiment_args['mask_out_ratio']\n",
        "                    model.register_random_activation_maps_hooks(module_placement, mask_out_ratio)\n",
        "                    loss = F.cross_entropy(model(x), y)\n",
        "                    model.remove_random_activation_maps_hooks()\n",
        "                elif CONFIG.experiment in ['extension2_1_2']:\n",
        "                    x, y = batch\n",
        "                    x, y = x.to(CONFIG.device), y.to(CONFIG.device)\n",
        "                    # Randomly turn off some outputs of each layer\n",
        "                    module_placement = CONFIG.experiment_args['module_placement']\n",
        "                    mask_out_ratio = CONFIG.experiment_args['mask_out_ratio']\n",
        "                    model.register_random_activation_maps_hooks(module_placement, mask_out_ratio)\n",
        "                    loss = F.cross_entropy(model(x), y)\n",
        "                    model.remove_random_activation_maps_hooks()\n",
        "                elif CONFIG.experiment in ['extension2_2_2']:\n",
        "                    x, y = batch\n",
        "                    x, y = x.to(CONFIG.device), y.to(CONFIG.device)\n",
        "                    # Randomly turn off some outputs of each layer\n",
        "                    module_placement = CONFIG.experiment_args['module_placement']\n",
        "                    mask_out_ratio = CONFIG.experiment_args['mask_out_ratio']\n",
        "                    model.register_random_activation_maps_hooks(module_placement, mask_out_ratio)\n",
        "                    loss = F.cross_entropy(model(x), y)\n",
        "                    model.remove_random_activation_maps_hooks()\n",
        "                elif CONFIG.experiment in ['domain_adaptation']:\n",
        "                    src_x, src_y, targ_x = batch\n",
        "                    src_x, src_y = src_x.to(CONFIG.device), src_y.to(CONFIG.device)\n",
        "                    module_placement = CONFIG.experiment_args['module_placement']\n",
        "                    # Register the Activation Shaping hook(s) and perform a forward pass (source domain images)\n",
        "                    model.register_activation_shaping_hooks(module_placement)\n",
        "                    loss = F.cross_entropy(model(src_x), src_y)\n",
        "                    model.remove_activation_shaping_hooks()\n",
        "                elif CONFIG.experiment in ['extension2_1_3']:\n",
        "                    src_x, src_y, targ_x = batch\n",
        "                    src_x, src_y = src_x.to(CONFIG.device), src_y.to(CONFIG.device)\n",
        "                    module_placement = CONFIG.experiment_args['module_placement']\n",
        "                    # Register the Activation Shaping hook(s) and perform a forward pass (source domain images)\n",
        "                    model.register_activation_shaping_hooks(module_placement)\n",
        "                    loss = F.cross_entropy(model(src_x), src_y)\n",
        "                    model.remove_activation_shaping_hooks()\n",
        "                elif CONFIG.experiment in ['extension2_2_3']:\n",
        "                    src_x, src_y, targ_x = batch\n",
        "                    src_x, src_y = src_x.to(CONFIG.device), src_y.to(CONFIG.device)\n",
        "                    module_placement = CONFIG.experiment_args['module_placement']\n",
        "                    # Register the Activation Shaping hook(s) and perform a forward pass (source domain images)\n",
        "                    model.register_activation_shaping_hooks(module_placement)\n",
        "                    loss = F.cross_entropy(model(src_x), src_y)\n",
        "                    model.remove_activation_shaping_hooks()\n",
        "\n",
        "            # Optimization step\n",
        "            scaler.scale(loss / CONFIG.grad_accum_steps).backward()\n",
        "\n",
        "            if ((batch_idx + 1) % CONFIG.grad_accum_steps == 0) or (batch_idx + 1 == len(data['train'])):\n",
        "                scaler.step(optimizer)\n",
        "                optimizer.zero_grad(set_to_none=True)\n",
        "                scaler.update()\n",
        "\n",
        "        scheduler.step()\n",
        "\n",
        "        # Test current epoch\n",
        "        logging.info(f'[TEST @ Epoch={epoch}]')\n",
        "        evaluate(model, data['test'])\n",
        "\n",
        "        # Save checkpoint\n",
        "        checkpoint = {\n",
        "            'epoch': epoch + 1,\n",
        "            'optimizer': optimizer.state_dict(),\n",
        "            'scheduler': scheduler.state_dict(),\n",
        "            'model': model.state_dict()\n",
        "        }\n",
        "        torch.save(checkpoint, os.path.join('record', CONFIG.experiment_name, 'last.pth'))"
      ]
    },
    {
      "cell_type": "markdown",
      "metadata": {
        "id": "zKNcF0QVOT-N"
      },
      "source": [
        "#### Main"
      ]
    },
    {
      "cell_type": "code",
      "execution_count": 18,
      "metadata": {
        "vscode": {
          "languageId": "python"
        },
        "id": "-XxGE34mXxxe",
        "colab": {
          "base_uri": "https://localhost:8080/",
          "height": 174
        },
        "outputId": "2c32164a-3ffe-4ec2-ddd8-f3745571b13b"
      },
      "outputs": [
        {
          "output_type": "execute_result",
          "data": {
            "text/plain": [
              "\"\\nlayer_output_shapes = {\\n    'layer1.0.conv1': (64, 56, 56),         'layer1.0.relu': (64, 56, 56),          'layer1.0.conv2': (64, 56, 56),\\n    'layer1.1.conv1': (64, 56, 56),         'layer1.1.bn1': (64, 56, 56),           'layer1.1.relu': (64, 56, 56),          'layer1.1.conv2': (64, 56, 56),         'layer1.1.bn2': (64, 56, 56),\\n    'layer2.0.conv1': (128, 28, 28),        'layer2.0.relu': (128, 28, 28),         'layer2.0.conv2': (128, 28, 28),\\n    'layer2.1.conv1': (128, 28, 28),        'layer2.1.relu': (128, 28, 28),         'layer2.1.conv2': (128, 28, 28),\\n    'layer3.0.conv1': (256, 14, 14),        'layer3.0.relu': (256, 14, 14),         'layer3.0.conv2': (256, 14, 14),\\n    'layer3.1.conv1': (256, 14, 14),        'layer3.1.relu': (256, 14, 14),         'layer3.1.conv2': (256, 14, 14),\\n    'layer4.0.conv1': (512, 7, 7),          'layer4.0.relu': (512, 7, 7),           'layer4.0.conv2': (512, 7, 7),\\n    'layer4.1.conv1': (512, 7, 7),          'layer4.1.relu': (512, 7, 7),           'layer4.1.conv2': (512, 7, 7)\\n}\\n\\ndef create_random_mask(layer_name = 'layer4.1.conv2', mask_out_ratio = 0.0):\\n    # create a mask tensor with a given ratio of zeros\\n    layer_output_shape = layer_output_shapes[layer_name]\\n    rand_mat = torch.rand(layer_output_shape).to(CONFIG.device)\\n    mask = torch.where(rand_mat <= mask_out_ratio, 0.0, 1.0).to(CONFIG.device)\\n    return mask\\n\""
            ],
            "application/vnd.google.colaboratory.intrinsic+json": {
              "type": "string"
            }
          },
          "metadata": {},
          "execution_count": 18
        }
      ],
      "source": [
        "'''\n",
        "layer_output_shapes = {\n",
        "    'layer1.0.conv1': (64, 56, 56),         'layer1.0.relu': (64, 56, 56),          'layer1.0.conv2': (64, 56, 56),\n",
        "    'layer1.1.conv1': (64, 56, 56),         'layer1.1.bn1': (64, 56, 56),           'layer1.1.relu': (64, 56, 56),          'layer1.1.conv2': (64, 56, 56),         'layer1.1.bn2': (64, 56, 56),\n",
        "    'layer2.0.conv1': (128, 28, 28),        'layer2.0.relu': (128, 28, 28),         'layer2.0.conv2': (128, 28, 28),\n",
        "    'layer2.1.conv1': (128, 28, 28),        'layer2.1.relu': (128, 28, 28),         'layer2.1.conv2': (128, 28, 28),\n",
        "    'layer3.0.conv1': (256, 14, 14),        'layer3.0.relu': (256, 14, 14),         'layer3.0.conv2': (256, 14, 14),\n",
        "    'layer3.1.conv1': (256, 14, 14),        'layer3.1.relu': (256, 14, 14),         'layer3.1.conv2': (256, 14, 14),\n",
        "    'layer4.0.conv1': (512, 7, 7),          'layer4.0.relu': (512, 7, 7),           'layer4.0.conv2': (512, 7, 7),\n",
        "    'layer4.1.conv1': (512, 7, 7),          'layer4.1.relu': (512, 7, 7),           'layer4.1.conv2': (512, 7, 7)\n",
        "}\n",
        "\n",
        "def create_random_mask(layer_name = 'layer4.1.conv2', mask_out_ratio = 0.0):\n",
        "    # create a mask tensor with a given ratio of zeros\n",
        "    layer_output_shape = layer_output_shapes[layer_name]\n",
        "    rand_mat = torch.rand(layer_output_shape).to(CONFIG.device)\n",
        "    mask = torch.where(rand_mat <= mask_out_ratio, 0.0, 1.0).to(CONFIG.device)\n",
        "    return mask\n",
        "'''"
      ]
    },
    {
      "cell_type": "code",
      "execution_count": 19,
      "metadata": {
        "id": "veneeQdydRdl",
        "vscode": {
          "languageId": "python"
        }
      },
      "outputs": [],
      "source": [
        "def main ():\n",
        "    # Load dataset\n",
        "    data = load_data()\n",
        "\n",
        "    # Load model\n",
        "    if CONFIG.experiment in ['baseline']:\n",
        "        model = BaseResNet18()\n",
        "\n",
        "    elif CONFIG.experiment in ['random']:\n",
        "        model = ASHResNet18()\n",
        "    elif CONFIG.experiment in ['extension2_1_2']:\n",
        "        model = Abl12ResNet18()\n",
        "    elif CONFIG.experiment in ['extension2_2_2']:\n",
        "        model = Abl22ResNet18()\n",
        "\n",
        "    elif CONFIG.experiment in ['domain_adaptation']:\n",
        "         module_placement = CONFIG.experiment_args['module_placement']\n",
        "         model= DAResNet18(module_placement)\n",
        "    elif CONFIG.experiment in ['extension2_1_3']:\n",
        "         module_placement = CONFIG.experiment_args['module_placement']\n",
        "         model= Abl13ResNet18(module_placement)\n",
        "    elif CONFIG.experiment in ['extension2_2_3']:\n",
        "         module_placement = CONFIG.experiment_args['module_placement']\n",
        "         model= Abl23ResNet18(module_placement)\n",
        "\n",
        "    ######################################################\n",
        "\n",
        "    model.to(CONFIG.device)\n",
        "\n",
        "    if not CONFIG.test_only:\n",
        "        train(model, data)\n",
        "    else:\n",
        "        evaluate(model, data['test'])\n"
      ]
    },
    {
      "cell_type": "markdown",
      "metadata": {
        "id": "qTIojGThXxxf"
      },
      "source": [
        "### Custom experiment"
      ]
    },
    {
      "cell_type": "markdown",
      "metadata": {
        "id": "gOvHUjGEXxxf"
      },
      "source": [
        "#### Configurations"
      ]
    },
    {
      "cell_type": "code",
      "execution_count": 20,
      "metadata": {
        "vscode": {
          "languageId": "python"
        },
        "id": "xxhgSlywXxxf"
      },
      "outputs": [],
      "source": [
        "configurations = {\n",
        "    ##### 0 - BASELINE #####\n",
        "    \"0.1\" : { # Art Painting -> Cartoon\n",
        "        'seed': 0,\n",
        "        'test_only': False,\n",
        "        'cpu': False,\n",
        "        'experiment': 'baseline',\n",
        "        'experiment_name': '0.1',\n",
        "        'experiment_args': '{}',\n",
        "        'dataset_args': { 'text_root': 'data', 'images_root': 'data/kfold/PACS', 'source_domain': 'art_painting', 'target_domain': 'cartoon' },\n",
        "        'batch_size': 128,\n",
        "        'epochs': 30,\n",
        "        'num_workers': 5,\n",
        "        'grad_accum_steps': 1\n",
        "    },\n",
        "    \"0.2\" : { # Art Painting -> Sketch\n",
        "        'seed': 0,\n",
        "        'test_only': False,\n",
        "        'cpu': False,\n",
        "        'experiment': 'baseline',\n",
        "        'experiment_name': '0.2',\n",
        "        'experiment_args': '{}',\n",
        "        'dataset_args': { 'text_root': 'data', 'images_root': 'data/kfold/PACS', 'source_domain': 'art_painting', 'target_domain': 'sketch' },\n",
        "        'batch_size': 128,\n",
        "        'epochs': 30,\n",
        "        'num_workers': 5,\n",
        "        'grad_accum_steps': 1\n",
        "    },\n",
        "    \"0.3\" : { # Art Painting -> Photo\n",
        "        'seed': 0,\n",
        "        'test_only': False,\n",
        "        'cpu': False,\n",
        "        'experiment': 'baseline',\n",
        "        'experiment_name': '0.3',\n",
        "        'experiment_args': '{}',\n",
        "        'dataset_args': { 'text_root': 'data', 'images_root': 'data/kfold/PACS', 'source_domain': 'art_painting', 'target_domain': 'photo' },\n",
        "        'batch_size': 128,\n",
        "        'epochs': 30,\n",
        "        'num_workers': 5,\n",
        "        'grad_accum_steps': 1\n",
        "    },\n",
        "\n",
        "    ##### 1 - ACTIVATION SHAPING MODULE #####\n",
        "    #### 1.1 - ONE ASH MODULE ####\n",
        "    ### 1.1.1 - ASH MODULE AFTER layer1.0.conv1 ###\n",
        "    \"1.1.1.1\" : { # Art Painting -> Cartoon\n",
        "        'seed': 0,\n",
        "        'test_only': False,\n",
        "        'cpu': False,\n",
        "        'experiment': 'random',\n",
        "        'experiment_name': '1.1.1.1',\n",
        "        'experiment_args': {'module_placement': ['layer1.0.conv1'], 'mask_out_ratio': 0.5},\n",
        "        'dataset_args': {'text_root': 'data', 'images_root': 'data/kfold/PACS', 'source_domain': 'art_painting', 'target_domain': 'cartoon' },\n",
        "        'batch_size': 128,\n",
        "        'epochs': 30,\n",
        "        'num_workers': 5,\n",
        "        'grad_accum_steps': 1\n",
        "    },\n",
        "    \"1.1.1.2\" : { # Art Painting -> Sketch\n",
        "        'seed': 0,\n",
        "        'test_only': False,\n",
        "        'cpu': False,\n",
        "        'experiment': 'random',\n",
        "        'experiment_name': '1.1.1.2',\n",
        "        'experiment_args': {'module_placement': ['layer1.0.conv1'], 'mask_out_ratio': 0.5},\n",
        "        'dataset_args': {'text_root': 'data', 'images_root': 'data/kfold/PACS', 'source_domain': 'art_painting', 'target_domain': 'sketch' },\n",
        "        'batch_size': 128,\n",
        "        'epochs': 30,\n",
        "        'num_workers': 5,\n",
        "        'grad_accum_steps': 1\n",
        "    },\n",
        "    \"1.1.1.3\" : { # Art Painting -> Photo\n",
        "        'seed': 0,\n",
        "        'test_only': False,\n",
        "        'cpu': False,\n",
        "        'experiment': 'random',\n",
        "        'experiment_name': '1.1.1.3',\n",
        "        'experiment_args': {'module_placement': ['layer1.0.conv1'], 'mask_out_ratio': 0.5},\n",
        "        'dataset_args': {'text_root': 'data', 'images_root': 'data/kfold/PACS', 'source_domain': 'art_painting', 'target_domain': 'photo' },\n",
        "        'batch_size': 128,\n",
        "        'epochs': 30,\n",
        "        'num_workers': 5,\n",
        "        'grad_accum_steps': 1\n",
        "    },\n",
        "    ### 1.1.2 - ASH MODULE AFTER layer1.0.conv2 ###\n",
        "    \"1.1.2.2\" : { # Art Painting -> Cartoon\n",
        "        'seed': 0,\n",
        "        'test_only': False,\n",
        "        'cpu': False,\n",
        "        'experiment': 'random',\n",
        "        'experiment_name': '1.1.2.2',\n",
        "        'experiment_args': {'module_placement': ['layer1.0.conv2'], 'mask_out_ratio': 0.5},\n",
        "        'dataset_args': {'text_root': 'data', 'images_root': 'data/kfold/PACS', 'source_domain': 'art_painting', 'target_domain': 'cartoon' },\n",
        "        'batch_size': 128,\n",
        "        'epochs': 30,\n",
        "        'num_workers': 5,\n",
        "        'grad_accum_steps': 1\n",
        "    },\n",
        "    \"1.1.2.2\" : { # Art Painting -> Sketch\n",
        "        'seed': 0,\n",
        "        'test_only': False,\n",
        "        'cpu': False,\n",
        "        'experiment': 'random',\n",
        "        'experiment_name': '1.1.2.2',\n",
        "        'experiment_args': {'module_placement': ['layer1.0.conv2'], 'mask_out_ratio': 0.5},\n",
        "        'dataset_args': {'text_root': 'data', 'images_root': 'data/kfold/PACS', 'source_domain': 'art_painting', 'target_domain': 'sketch' },\n",
        "        'batch_size': 128,\n",
        "        'epochs': 30,\n",
        "        'num_workers': 5,\n",
        "        'grad_accum_steps': 1\n",
        "    },\n",
        "    \"1.1.2.3\" : { # Art Painting -> Photo\n",
        "        'seed': 0,\n",
        "        'test_only': False,\n",
        "        'cpu': False,\n",
        "        'experiment': 'random',\n",
        "        'experiment_name': '1.1.2.3',\n",
        "        'experiment_args': {'module_placement': ['layer1.0.conv2'], 'mask_out_ratio': 0.5},\n",
        "        'dataset_args': {'text_root': 'data', 'images_root': 'data/kfold/PACS', 'source_domain': 'art_painting', 'target_domain': 'photo' },\n",
        "        'batch_size': 128,\n",
        "        'epochs': 30,\n",
        "        'num_workers': 5,\n",
        "        'grad_accum_steps': 1\n",
        "    },\n",
        "    ### 1.1.3 - ASH MODULE AFTER layer1.1.conv1 ###\n",
        "    \"1.1.3.1\" : { # Art Painting -> Cartoon\n",
        "        'seed': 0,\n",
        "        'test_only': False,\n",
        "        'cpu': False,\n",
        "        'experiment': 'random',\n",
        "        'experiment_name': '1.1.3.1',\n",
        "        'experiment_args': {'module_placement': ['layer1.1.conv1'], 'mask_out_ratio': 0.5},\n",
        "        'dataset_args': {'text_root': 'data', 'images_root': 'data/kfold/PACS', 'source_domain': 'art_painting', 'target_domain': 'cartoon' },\n",
        "        'batch_size': 128,\n",
        "        'epochs': 30,\n",
        "        'num_workers': 5,\n",
        "        'grad_accum_steps': 1\n",
        "    },\n",
        "    \"1.1.3.2\" : { # Art Painting -> Sketch\n",
        "        'seed': 0,\n",
        "        'test_only': False,\n",
        "        'cpu': False,\n",
        "        'experiment': 'random',\n",
        "        'experiment_name': '1.1.3.2',\n",
        "        'experiment_args': {'module_placement': ['layer1.1.conv1'], 'mask_out_ratio': 0.5},\n",
        "        'dataset_args': {'text_root': 'data', 'images_root': 'data/kfold/PACS', 'source_domain': 'art_painting', 'target_domain': 'sketch' },\n",
        "        'batch_size': 128,\n",
        "        'epochs': 30,\n",
        "        'num_workers': 5,\n",
        "        'grad_accum_steps': 1\n",
        "    },\n",
        "    \"1.1.3.3\" : { # Art Painting -> Photo\n",
        "        'seed': 0,\n",
        "        'test_only': False,\n",
        "        'cpu': False,\n",
        "        'experiment': 'random',\n",
        "        'experiment_name': '1.1.3.3',\n",
        "        'experiment_args': {'module_placement': ['layer1.1.conv1'], 'mask_out_ratio': 0.5},\n",
        "        'dataset_args': {'text_root': 'data', 'images_root': 'data/kfold/PACS', 'source_domain': 'art_painting', 'target_domain': 'photo' },\n",
        "        'batch_size': 128,\n",
        "        'epochs': 30,\n",
        "        'num_workers': 5,\n",
        "        'grad_accum_steps': 1\n",
        "    },\n",
        "    ### 1.1.4 - ASH MODULE AFTER layer1.1.conv2 ###\n",
        "    \"1.1.4.1\" : { # Art Painting -> Cartoon\n",
        "        'seed': 0,\n",
        "        'test_only': False,\n",
        "        'cpu': False,\n",
        "        'experiment': 'random',\n",
        "        'experiment_name': '1.1.4.1',\n",
        "        'experiment_args': {'module_placement': ['layer1.1.conv2'], 'mask_out_ratio': 0.5},\n",
        "        'dataset_args': {'text_root': 'data', 'images_root': 'data/kfold/PACS', 'source_domain': 'art_painting', 'target_domain': 'cartoon' },\n",
        "        'batch_size': 128,\n",
        "        'epochs': 30,\n",
        "        'num_workers': 5,\n",
        "        'grad_accum_steps': 1\n",
        "    },\n",
        "    \"1.1.4.2\" : { # Art Painting -> Sketch\n",
        "        'seed': 0,\n",
        "        'test_only': False,\n",
        "        'cpu': False,\n",
        "        'experiment': 'random',\n",
        "        'experiment_name': '1.1.4.2',\n",
        "        'experiment_args': {'module_placement': ['layer1.1.conv2'], 'mask_out_ratio': 0.5},\n",
        "        'dataset_args': {'text_root': 'data', 'images_root': 'data/kfold/PACS', 'source_domain': 'art_painting', 'target_domain': 'sketch' },\n",
        "        'batch_size': 128,\n",
        "        'epochs': 30,\n",
        "        'num_workers': 5,\n",
        "        'grad_accum_steps': 1\n",
        "    },\n",
        "    \"1.1.4.3\" : { # Art Painting -> Photo\n",
        "        'seed': 0,\n",
        "        'test_only': False,\n",
        "        'cpu': False,\n",
        "        'experiment': 'random',\n",
        "        'experiment_name': '1.1.4.3',\n",
        "        'experiment_args': {'module_placement': ['layer1.1.conv2'], 'mask_out_ratio': 0.5},\n",
        "        'dataset_args': {'text_root': 'data', 'images_root': 'data/kfold/PACS', 'source_domain': 'art_painting', 'target_domain': 'photo' },\n",
        "        'batch_size': 128,\n",
        "        'epochs': 30,\n",
        "        'num_workers': 5,\n",
        "        'grad_accum_steps': 1\n",
        "    },\n",
        "    ### 1.1.5 - ASH MODULE AFTER layer2.0.conv1 ###\n",
        "    \"1.1.5.1\" : { # Art Painting -> Cartoon\n",
        "        'seed': 0,\n",
        "        'test_only': False,\n",
        "        'cpu': False,\n",
        "        'experiment': 'random',\n",
        "        'experiment_name': '1.1.5.1',\n",
        "        'experiment_args': {'module_placement': ['layer2.0.conv1'], 'mask_out_ratio': 0.5},\n",
        "        'dataset_args': {'text_root': 'data', 'images_root': 'data/kfold/PACS', 'source_domain': 'art_painting', 'target_domain': 'cartoon' },\n",
        "        'batch_size': 128,\n",
        "        'epochs': 30,\n",
        "        'num_workers': 5,\n",
        "        'grad_accum_steps': 1\n",
        "    },\n",
        "    \"1.1.5.2\" : { # Art Painting -> Sketch\n",
        "        'seed': 0,\n",
        "        'test_only': False,\n",
        "        'cpu': False,\n",
        "        'experiment': 'random',\n",
        "        'experiment_name': '1.1.5.2',\n",
        "        'experiment_args': {'module_placement': ['layer2.0.conv1'], 'mask_out_ratio': 0.5},\n",
        "        'dataset_args': {'text_root': 'data', 'images_root': 'data/kfold/PACS', 'source_domain': 'art_painting', 'target_domain': 'sketch' },\n",
        "        'batch_size': 128,\n",
        "        'epochs': 30,\n",
        "        'num_workers': 5,\n",
        "        'grad_accum_steps': 1\n",
        "    },\n",
        "    \"1.1.5.3\" : { # Art Painting -> Photo\n",
        "        'seed': 0,\n",
        "        'test_only': False,\n",
        "        'cpu': False,\n",
        "        'experiment': 'random',\n",
        "        'experiment_name': '1.1.5.3',\n",
        "        'experiment_args': {'module_placement': ['layer2.0.conv1'], 'mask_out_ratio': 0.5},\n",
        "        'dataset_args': {'text_root': 'data', 'images_root': 'data/kfold/PACS', 'source_domain': 'art_painting', 'target_domain': 'photo' },\n",
        "        'batch_size': 128,\n",
        "        'epochs': 30,\n",
        "        'num_workers': 5,\n",
        "        'grad_accum_steps': 1\n",
        "    },\n",
        "    ### 1.1.6 - ASH MODULE AFTER layer2.0.conv2 ###\n",
        "    \"1.1.6.1\" : { # Art Painting -> Cartoon\n",
        "        'seed': 0,\n",
        "        'test_only': False,\n",
        "        'cpu': False,\n",
        "        'experiment': 'random',\n",
        "        'experiment_name': '1.1.6.1',\n",
        "        'experiment_args': {'module_placement': ['layer2.0.conv2'], 'mask_out_ratio': 0.5},\n",
        "        'dataset_args': {'text_root': 'data', 'images_root': 'data/kfold/PACS', 'source_domain': 'art_painting', 'target_domain': 'cartoon' },\n",
        "        'batch_size': 128,\n",
        "        'epochs': 30,\n",
        "        'num_workers': 5,\n",
        "        'grad_accum_steps': 1\n",
        "    },\n",
        "    \"1.1.6.2\" : { # Art Painting -> Sketch\n",
        "        'seed': 0,\n",
        "        'test_only': False,\n",
        "        'cpu': False,\n",
        "        'experiment': 'random',\n",
        "        'experiment_name': '1.1.6.2',\n",
        "        'experiment_args': {'module_placement': ['layer2.0.conv2'], 'mask_out_ratio': 0.5},\n",
        "        'dataset_args': {'text_root': 'data', 'images_root': 'data/kfold/PACS', 'source_domain': 'art_painting', 'target_domain': 'sketch' },\n",
        "        'batch_size': 128,\n",
        "        'epochs': 30,\n",
        "        'num_workers': 5,\n",
        "        'grad_accum_steps': 1\n",
        "    },\n",
        "    \"1.1.6.3\" : { # Art Painting -> Photo\n",
        "        'seed': 0,\n",
        "        'test_only': False,\n",
        "        'cpu': False,\n",
        "        'experiment': 'random',\n",
        "        'experiment_name': '1.1.6.3',\n",
        "        'experiment_args': {'module_placement': ['layer2.0.conv2'], 'mask_out_ratio': 0.5},\n",
        "        'dataset_args': {'text_root': 'data', 'images_root': 'data/kfold/PACS', 'source_domain': 'art_painting', 'target_domain': 'photo' },\n",
        "        'batch_size': 128,\n",
        "        'epochs': 30,\n",
        "        'num_workers': 5,\n",
        "        'grad_accum_steps': 1\n",
        "    },\n",
        "    ### 1.1.7 - ASH MODULE AFTER layer2.1.conv1 ###\n",
        "    \"1.1.7.1\" : { # Art Painting -> Cartoon\n",
        "        'seed': 0,\n",
        "        'test_only': False,\n",
        "        'cpu': False,\n",
        "        'experiment': 'random',\n",
        "        'experiment_name': '1.1.7.1',\n",
        "        'experiment_args': {'module_placement': ['layer2.1.conv1'], 'mask_out_ratio': 0.5},\n",
        "        'dataset_args': {'text_root': 'data', 'images_root': 'data/kfold/PACS', 'source_domain': 'art_painting', 'target_domain': 'cartoon' },\n",
        "        'batch_size': 128,\n",
        "        'epochs': 30,\n",
        "        'num_workers': 5,\n",
        "        'grad_accum_steps': 1\n",
        "    },\n",
        "    \"1.1.7.2\" : { # Art Painting -> Sketch\n",
        "        'seed': 0,\n",
        "        'test_only': False,\n",
        "        'cpu': False,\n",
        "        'experiment': 'random',\n",
        "        'experiment_name': '1.1.7.2',\n",
        "        'experiment_args': {'module_placement': ['layer2.1.conv1'], 'mask_out_ratio': 0.5},\n",
        "        'dataset_args': {'text_root': 'data', 'images_root': 'data/kfold/PACS', 'source_domain': 'art_painting', 'target_domain': 'sketch' },\n",
        "        'batch_size': 128,\n",
        "        'epochs': 30,\n",
        "        'num_workers': 5,\n",
        "        'grad_accum_steps': 1\n",
        "    },\n",
        "    \"1.1.7.3\" : { # Art Painting -> Photo\n",
        "        'seed': 0,\n",
        "        'test_only': False,\n",
        "        'cpu': False,\n",
        "        'experiment': 'random',\n",
        "        'experiment_name': '1.1.7.3',\n",
        "        'experiment_args': {'module_placement': ['layer2.1.conv1'], 'mask_out_ratio': 0.5},\n",
        "        'dataset_args': {'text_root': 'data', 'images_root': 'data/kfold/PACS', 'source_domain': 'art_painting', 'target_domain': 'photo' },\n",
        "        'batch_size': 128,\n",
        "        'epochs': 30,\n",
        "        'num_workers': 5,\n",
        "        'grad_accum_steps': 1\n",
        "    },\n",
        "    ### 1.1.8 - ASH MODULE AFTER layer2.1.conv2 ###\n",
        "    \"1.1.8.1\" : { # Art Painting -> Cartoon\n",
        "        'seed': 0,\n",
        "        'test_only': False,\n",
        "        'cpu': False,\n",
        "        'experiment': 'random',\n",
        "        'experiment_name': '1.1.8.1',\n",
        "        'experiment_args': {'module_placement': ['layer2.1.conv2'], 'mask_out_ratio': 0.5},\n",
        "        'dataset_args': {'text_root': 'data', 'images_root': 'data/kfold/PACS', 'source_domain': 'art_painting', 'target_domain': 'cartoon' },\n",
        "        'batch_size': 128,\n",
        "        'epochs': 30,\n",
        "        'num_workers': 5,\n",
        "        'grad_accum_steps': 1\n",
        "    },\n",
        "    \"1.1.8.2\" : { # Art Painting -> Sketch\n",
        "        'seed': 0,\n",
        "        'test_only': False,\n",
        "        'cpu': False,\n",
        "        'experiment': 'random',\n",
        "        'experiment_name': '1.1.8.2',\n",
        "        'experiment_args': {'module_placement': ['layer2.1.conv2'], 'mask_out_ratio': 0.5},\n",
        "        'dataset_args': {'text_root': 'data', 'images_root': 'data/kfold/PACS', 'source_domain': 'art_painting', 'target_domain': 'sketch' },\n",
        "        'batch_size': 128,\n",
        "        'epochs': 30,\n",
        "        'num_workers': 5,\n",
        "        'grad_accum_steps': 1\n",
        "    },\n",
        "    \"1.1.8.3\" : { # Art Painting -> Photo\n",
        "        'seed': 0,\n",
        "        'test_only': False,\n",
        "        'cpu': False,\n",
        "        'experiment': 'random',\n",
        "        'experiment_name': '1.1.8.3',\n",
        "        'experiment_args': {'module_placement': ['layer2.1.conv2'], 'mask_out_ratio': 0.5},\n",
        "        'dataset_args': {'text_root': 'data', 'images_root': 'data/kfold/PACS', 'source_domain': 'art_painting', 'target_domain': 'photo' },\n",
        "        'batch_size': 128,\n",
        "        'epochs': 30,\n",
        "        'num_workers': 5,\n",
        "        'grad_accum_steps': 1\n",
        "    },\n",
        "    ### 1.1.9 - ASH MODULE AFTER layer3.0.conv1 ###\n",
        "    \"1.1.9.1\" : { # Art Painting -> Cartoon\n",
        "        'seed': 0,\n",
        "        'test_only': False,\n",
        "        'cpu': False,\n",
        "        'experiment': 'random',\n",
        "        'experiment_name': '1.1.9.1',\n",
        "        'experiment_args': {'module_placement': ['layer3.0.conv1'], 'mask_out_ratio': 0.5},\n",
        "        'dataset_args': {'text_root': 'data', 'images_root': 'data/kfold/PACS', 'source_domain': 'art_painting', 'target_domain': 'cartoon' },\n",
        "        'batch_size': 128,\n",
        "        'epochs': 30,\n",
        "        'num_workers': 5,\n",
        "        'grad_accum_steps': 1\n",
        "    },\n",
        "    \"1.1.9.2\" : { # Art Painting -> Sketch\n",
        "        'seed': 0,\n",
        "        'test_only': False,\n",
        "        'cpu': False,\n",
        "        'experiment': 'random',\n",
        "        'experiment_name': '1.1.9.2',\n",
        "        'experiment_args': {'module_placement': ['layer3.0.conv1'], 'mask_out_ratio': 0.5},\n",
        "        'dataset_args': {'text_root': 'data', 'images_root': 'data/kfold/PACS', 'source_domain': 'art_painting', 'target_domain': 'sketch' },\n",
        "        'batch_size': 128,\n",
        "        'epochs': 30,\n",
        "        'num_workers': 5,\n",
        "        'grad_accum_steps': 1\n",
        "    },\n",
        "    \"1.1.9.3\" : { # Art Painting -> Photo\n",
        "        'seed': 0,\n",
        "        'test_only': False,\n",
        "        'cpu': False,\n",
        "        'experiment': 'random',\n",
        "        'experiment_name': '1.1.9.3',\n",
        "        'experiment_args': {'module_placement': ['layer3.0.conv1'], 'mask_out_ratio': 0.5},\n",
        "        'dataset_args': {'text_root': 'data', 'images_root': 'data/kfold/PACS', 'source_domain': 'art_painting', 'target_domain': 'photo' },\n",
        "        'batch_size': 128,\n",
        "        'epochs': 30,\n",
        "        'num_workers': 5,\n",
        "        'grad_accum_steps': 1\n",
        "    },\n",
        "    ### 1.1.10 - ASH MODULE AFTER layer3.0.conv2 ###\n",
        "    \"1.1.10.1\" : { # Art Painting -> Cartoon\n",
        "        'seed': 0,\n",
        "        'test_only': False,\n",
        "        'cpu': False,\n",
        "        'experiment': 'random',\n",
        "        'experiment_name': '1.1.10.1',\n",
        "        'experiment_args': {'module_placement': ['layer3.0.conv2'], 'mask_out_ratio': 0.5},\n",
        "        'dataset_args': {'text_root': 'data', 'images_root': 'data/kfold/PACS', 'source_domain': 'art_painting', 'target_domain': 'cartoon' },\n",
        "        'batch_size': 128,\n",
        "        'epochs': 30,\n",
        "        'num_workers': 5,\n",
        "        'grad_accum_steps': 1\n",
        "    },\n",
        "    \"1.1.10.2\" : { # Art Painting -> Sketch\n",
        "        'seed': 0,\n",
        "        'test_only': False,\n",
        "        'cpu': False,\n",
        "        'experiment': 'random',\n",
        "        'experiment_name': '1.1.10.2',\n",
        "        'experiment_args': {'module_placement': ['layer3.0.conv2'], 'mask_out_ratio': 0.5},\n",
        "        'dataset_args': {'text_root': 'data', 'images_root': 'data/kfold/PACS', 'source_domain': 'art_painting', 'target_domain': 'sketch' },\n",
        "        'batch_size': 128,\n",
        "        'epochs': 30,\n",
        "        'num_workers': 5,\n",
        "        'grad_accum_steps': 1\n",
        "    },\n",
        "    \"1.1.10.3\" : { # Art Painting -> Photo\n",
        "        'seed': 0,\n",
        "        'test_only': False,\n",
        "        'cpu': False,\n",
        "        'experiment': 'random',\n",
        "        'experiment_name': '1.1.10.3',\n",
        "        'experiment_args': {'module_placement': ['layer3.0.conv2'], 'mask_out_ratio': 0.5},\n",
        "        'dataset_args': {'text_root': 'data', 'images_root': 'data/kfold/PACS', 'source_domain': 'art_painting', 'target_domain': 'photo' },\n",
        "        'batch_size': 128,\n",
        "        'epochs': 30,\n",
        "        'num_workers': 5,\n",
        "        'grad_accum_steps': 1\n",
        "    },\n",
        "    ### 1.1.11 - ASH MODULE AFTER layer3.1.conv1 ###\n",
        "    \"1.1.11.1\" : { # Art Painting -> Cartoon\n",
        "        'seed': 0,\n",
        "        'test_only': False,\n",
        "        'cpu': False,\n",
        "        'experiment': 'random',\n",
        "        'experiment_name': '1.1.11.1',\n",
        "        'experiment_args': {'module_placement': ['layer3.1.conv1'], 'mask_out_ratio': 0.5},\n",
        "        'dataset_args': {'text_root': 'data', 'images_root': 'data/kfold/PACS', 'source_domain': 'art_painting', 'target_domain': 'cartoon' },\n",
        "        'batch_size': 128,\n",
        "        'epochs': 30,\n",
        "        'num_workers': 5,\n",
        "        'grad_accum_steps': 1\n",
        "    },\n",
        "    \"1.1.11.2\" : { # Art Painting -> Sketch\n",
        "        'seed': 0,\n",
        "        'test_only': False,\n",
        "        'cpu': False,\n",
        "        'experiment': 'random',\n",
        "        'experiment_name': '1.1.11.2',\n",
        "        'experiment_args': {'module_placement': ['layer3.1.conv1'], 'mask_out_ratio': 0.5},\n",
        "        'dataset_args': {'text_root': 'data', 'images_root': 'data/kfold/PACS', 'source_domain': 'art_painting', 'target_domain': 'sketch' },\n",
        "        'batch_size': 128,\n",
        "        'epochs': 30,\n",
        "        'num_workers': 5,\n",
        "        'grad_accum_steps': 1\n",
        "    },\n",
        "    \"1.1.11.3\" : { # Art Painting -> Photo\n",
        "        'seed': 0,\n",
        "        'test_only': False,\n",
        "        'cpu': False,\n",
        "        'experiment': 'random',\n",
        "        'experiment_name': '1.1.11.3',\n",
        "        'experiment_args': {'module_placement': ['layer3.1.conv1'], 'mask_out_ratio': 0.5},\n",
        "        'dataset_args': {'text_root': 'data', 'images_root': 'data/kfold/PACS', 'source_domain': 'art_painting', 'target_domain': 'photo' },\n",
        "        'batch_size': 128,\n",
        "        'epochs': 30,\n",
        "        'num_workers': 5,\n",
        "        'grad_accum_steps': 1\n",
        "    },\n",
        "    ### 1.1.12 - ASH MODULE AFTER layer3.1.conv2 ###\n",
        "    \"1.1.12.1\" : { # Art Painting -> Cartoon\n",
        "        'seed': 0,\n",
        "        'test_only': False,\n",
        "        'cpu': False,\n",
        "        'experiment': 'random',\n",
        "        'experiment_name': '1.1.12.1',\n",
        "        'experiment_args': {'module_placement': ['layer3.1.conv2'], 'mask_out_ratio': 0.5},\n",
        "        'dataset_args': {'text_root': 'data', 'images_root': 'data/kfold/PACS', 'source_domain': 'art_painting', 'target_domain': 'cartoon' },\n",
        "        'batch_size': 128,\n",
        "        'epochs': 30,\n",
        "        'num_workers': 5,\n",
        "        'grad_accum_steps': 1\n",
        "    },\n",
        "    \"1.1.12.2\" : { # Art Painting -> Sketch\n",
        "        'seed': 0,\n",
        "        'test_only': False,\n",
        "        'cpu': False,\n",
        "        'experiment': 'random',\n",
        "        'experiment_name': '1.1.12.2',\n",
        "        'experiment_args': {'module_placement': ['layer3.1.conv2'], 'mask_out_ratio': 0.5},\n",
        "        'dataset_args': {'text_root': 'data', 'images_root': 'data/kfold/PACS', 'source_domain': 'art_painting', 'target_domain': 'sketch' },\n",
        "        'batch_size': 128,\n",
        "        'epochs': 30,\n",
        "        'num_workers': 5,\n",
        "        'grad_accum_steps': 1\n",
        "    },\n",
        "    \"1.1.12.3\" : { # Art Painting -> Photo\n",
        "        'seed': 0,\n",
        "        'test_only': False,\n",
        "        'cpu': False,\n",
        "        'experiment': 'random',\n",
        "        'experiment_name': '1.1.12.3',\n",
        "        'experiment_args': {'module_placement': ['layer3.1.conv2'], 'mask_out_ratio': 0.5},\n",
        "        'dataset_args': {'text_root': 'data', 'images_root': 'data/kfold/PACS', 'source_domain': 'art_painting', 'target_domain': 'photo' },\n",
        "        'batch_size': 128,\n",
        "        'epochs': 30,\n",
        "        'num_workers': 5,\n",
        "        'grad_accum_steps': 1\n",
        "    },\n",
        "    ### 1.1.13 - ASH MODULE AFTER layer4.0.conv1 ###\n",
        "    \"1.1.13.1\" : { # Art Painting -> Cartoon\n",
        "        'seed': 0,\n",
        "        'test_only': False,\n",
        "        'cpu': False,\n",
        "        'experiment': 'random',\n",
        "        'experiment_name': '1.1.13.1',\n",
        "        'experiment_args': {'module_placement': ['layer4.0.conv1'], 'mask_out_ratio': 0.5},\n",
        "        'dataset_args': {'text_root': 'data', 'images_root': 'data/kfold/PACS', 'source_domain': 'art_painting', 'target_domain': 'cartoon' },\n",
        "        'batch_size': 128,\n",
        "        'epochs': 30,\n",
        "        'num_workers': 5,\n",
        "        'grad_accum_steps': 1\n",
        "    },\n",
        "    \"1.1.13.2\" : { # Art Painting -> Sketch\n",
        "        'seed': 0,\n",
        "        'test_only': False,\n",
        "        'cpu': False,\n",
        "        'experiment': 'random',\n",
        "        'experiment_name': '1.1.13.2',\n",
        "        'experiment_args': {'module_placement': ['layer4.0.conv1'], 'mask_out_ratio': 0.5},\n",
        "        'dataset_args': {'text_root': 'data', 'images_root': 'data/kfold/PACS', 'source_domain': 'art_painting', 'target_domain': 'sketch' },\n",
        "        'batch_size': 128,\n",
        "        'epochs': 30,\n",
        "        'num_workers': 5,\n",
        "        'grad_accum_steps': 1\n",
        "    },\n",
        "    \"1.1.13.3\" : { # Art Painting -> Photo\n",
        "        'seed': 0,\n",
        "        'test_only': False,\n",
        "        'cpu': False,\n",
        "        'experiment': 'random',\n",
        "        'experiment_name': '1.1.13.3',\n",
        "        'experiment_args': {'module_placement': ['layer4.0.conv1'], 'mask_out_ratio': 0.5},\n",
        "        'dataset_args': {'text_root': 'data', 'images_root': 'data/kfold/PACS', 'source_domain': 'art_painting', 'target_domain': 'photo' },\n",
        "        'batch_size': 128,\n",
        "        'epochs': 30,\n",
        "        'num_workers': 5,\n",
        "        'grad_accum_steps': 1\n",
        "    },\n",
        "    ### 1.1.14 - ASH MODULE AFTER layer4.0.conv2 ###\n",
        "    \"1.1.14.1\" : { # Art Painting -> Cartoon\n",
        "        'seed': 0,\n",
        "        'test_only': False,\n",
        "        'cpu': False,\n",
        "        'experiment': 'random',\n",
        "        'experiment_name': '1.1.14.1',\n",
        "        'experiment_args': {'module_placement': ['layer4.0.conv2'], 'mask_out_ratio': 0.5},\n",
        "        'dataset_args': {'text_root': 'data', 'images_root': 'data/kfold/PACS', 'source_domain': 'art_painting', 'target_domain': 'cartoon' },\n",
        "        'batch_size': 128,\n",
        "        'epochs': 30,\n",
        "        'num_workers': 5,\n",
        "        'grad_accum_steps': 1\n",
        "    },\n",
        "    \"1.1.14.2\" : { # Art Painting -> Sketch\n",
        "        'seed': 0,\n",
        "        'test_only': False,\n",
        "        'cpu': False,\n",
        "        'experiment': 'random',\n",
        "        'experiment_name': '1.1.14.2',\n",
        "        'experiment_args': {'module_placement': ['layer4.0.conv2'], 'mask_out_ratio': 0.5},\n",
        "        'dataset_args': {'text_root': 'data', 'images_root': 'data/kfold/PACS', 'source_domain': 'art_painting', 'target_domain': 'sketch' },\n",
        "        'batch_size': 128,\n",
        "        'epochs': 30,\n",
        "        'num_workers': 5,\n",
        "        'grad_accum_steps': 1\n",
        "    },\n",
        "    \"1.1.14.3\" : { # Art Painting -> Photo\n",
        "        'seed': 0,\n",
        "        'test_only': False,\n",
        "        'cpu': False,\n",
        "        'experiment': 'random',\n",
        "        'experiment_name': '1.1.14.3',\n",
        "        'experiment_args': {'module_placement': ['layer4.0.conv2'], 'mask_out_ratio': 0.5},\n",
        "        'dataset_args': {'text_root': 'data', 'images_root': 'data/kfold/PACS', 'source_domain': 'art_painting', 'target_domain': 'photo' },\n",
        "        'batch_size': 128,\n",
        "        'epochs': 30,\n",
        "        'num_workers': 5,\n",
        "        'grad_accum_steps': 1\n",
        "    },\n",
        "    ### 1.1.15 - ASH MODULE AFTER layer4.1.conv1 ###\n",
        "    \"1.1.15.1\" : { # Art Painting -> Cartoon\n",
        "        'seed': 0,\n",
        "        'test_only': False,\n",
        "        'cpu': False,\n",
        "        'experiment': 'random',\n",
        "        'experiment_name': '1.1.15.1',\n",
        "        'experiment_args': {'module_placement': ['layer4.1.conv1'], 'mask_out_ratio': 0.5},\n",
        "        'dataset_args': {'text_root': 'data', 'images_root': 'data/kfold/PACS', 'source_domain': 'art_painting', 'target_domain': 'cartoon' },\n",
        "        'batch_size': 128,\n",
        "        'epochs': 30,\n",
        "        'num_workers': 5,\n",
        "        'grad_accum_steps': 1\n",
        "    },\n",
        "    \"1.1.15.2\" : { # Art Painting -> Sketch\n",
        "        'seed': 0,\n",
        "        'test_only': False,\n",
        "        'cpu': False,\n",
        "        'experiment': 'random',\n",
        "        'experiment_name': '1.1.15.2',\n",
        "        'experiment_args': {'module_placement': ['layer4.1.conv1'], 'mask_out_ratio': 0.5},\n",
        "        'dataset_args': {'text_root': 'data', 'images_root': 'data/kfold/PACS', 'source_domain': 'art_painting', 'target_domain': 'sketch' },\n",
        "        'batch_size': 128,\n",
        "        'epochs': 30,\n",
        "        'num_workers': 5,\n",
        "        'grad_accum_steps': 1\n",
        "    },\n",
        "    \"1.1.15.3\" : { # Art Painting -> Photo\n",
        "        'seed': 0,\n",
        "        'test_only': False,\n",
        "        'cpu': False,\n",
        "        'experiment': 'random',\n",
        "        'experiment_name': '1.1.15.3',\n",
        "        'experiment_args': {'module_placement': ['layer4.1.conv1'], 'mask_out_ratio': 0.5},\n",
        "        'dataset_args': {'text_root': 'data', 'images_root': 'data/kfold/PACS', 'source_domain': 'art_painting', 'target_domain': 'photo' },\n",
        "        'batch_size': 128,\n",
        "        'epochs': 30,\n",
        "        'num_workers': 5,\n",
        "        'grad_accum_steps': 1\n",
        "    },\n",
        "    ### 1.1.16 - ASH MODULE AFTER layer4.1.conv2 ###\n",
        "    \"1.1.16.1\" : { # Art Painting -> Cartoon\n",
        "        'seed': 0,\n",
        "        'test_only': False,\n",
        "        'cpu': False,\n",
        "        'experiment': 'random',\n",
        "        'experiment_name': '1.1.16.1',\n",
        "        'experiment_args': {'module_placement': ['layer4.1.conv2'], 'mask_out_ratio': 0.5},\n",
        "        'dataset_args': {'text_root': 'data', 'images_root': 'data/kfold/PACS', 'source_domain': 'art_painting', 'target_domain': 'cartoon' },\n",
        "        'batch_size': 128,\n",
        "        'epochs': 30,\n",
        "        'num_workers': 5,\n",
        "        'grad_accum_steps': 1\n",
        "    },\n",
        "    \"1.1.16.2\" : { # Art Painting -> Sketch\n",
        "        'seed': 0,\n",
        "        'test_only': False,\n",
        "        'cpu': False,\n",
        "        'experiment': 'random',\n",
        "        'experiment_name': '1.1.16.2',\n",
        "        'experiment_args': {'module_placement': ['layer4.1.conv2'], 'mask_out_ratio': 0.5},\n",
        "        'dataset_args': {'text_root': 'data', 'images_root': 'data/kfold/PACS', 'source_domain': 'art_painting', 'target_domain': 'sketch' },\n",
        "        'batch_size': 128,\n",
        "        'epochs': 30,\n",
        "        'num_workers': 5,\n",
        "        'grad_accum_steps': 1\n",
        "    },\n",
        "    \"1.1.16.3\" : { # Art Painting -> Photo\n",
        "        'seed': 0,\n",
        "        'test_only': False,\n",
        "        'cpu': False,\n",
        "        'experiment': 'random',\n",
        "        'experiment_name': '1.1.16.3',\n",
        "        'experiment_args': {'module_placement': ['layer4.1.conv2'], 'mask_out_ratio': 0.5},\n",
        "        'dataset_args': {'text_root': 'data', 'images_root': 'data/kfold/PACS', 'source_domain': 'art_painting', 'target_domain': 'photo' },\n",
        "        'batch_size': 128,\n",
        "        'epochs': 30,\n",
        "        'num_workers': 5,\n",
        "        'grad_accum_steps': 1\n",
        "    },\n",
        "\n",
        "    #### 1.2 - TWO ASH MODULES ####\n",
        "    ### 1.2.1 - ASH MODULE AFTER layer1.1.conv2 AND layer2.1.conv2 ###\n",
        "    \"1.2.1.1\" : { # Art Painting -> Cartoon\n",
        "        'seed': 0,\n",
        "        'test_only': False,\n",
        "        'cpu': False,\n",
        "        'experiment': 'random',\n",
        "        'experiment_name': '1.2.1.1',\n",
        "        'experiment_args': {'module_placement': ['layer1.1.conv2', 'layer2.1.conv2'], 'mask_out_ratio': 0.5},\n",
        "        'dataset_args': {'text_root': 'data', 'images_root': 'data/kfold/PACS', 'source_domain': 'art_painting', 'target_domain': 'cartoon' },\n",
        "        'batch_size': 128,\n",
        "        'epochs': 30,\n",
        "        'num_workers': 5,\n",
        "        'grad_accum_steps': 1\n",
        "    },\n",
        "    \"1.2.1.2\" : { # Art Painting -> Sketch\n",
        "        'seed': 0,\n",
        "        'test_only': False,\n",
        "        'cpu': False,\n",
        "        'experiment': 'random',\n",
        "        'experiment_name': '1.2.1.2',\n",
        "        'experiment_args': {'module_placement': ['layer1.1.conv2', 'layer2.1.conv2'], 'mask_out_ratio': 0.5},\n",
        "        'dataset_args': {'text_root': 'data', 'images_root': 'data/kfold/PACS', 'source_domain': 'art_painting', 'target_domain': 'sketch' },\n",
        "        'batch_size': 128,\n",
        "        'epochs': 30,\n",
        "        'num_workers': 5,\n",
        "        'grad_accum_steps': 1\n",
        "    },\n",
        "    \"1.2.1.3\" : { # Art Painting -> Photo\n",
        "        'seed': 0,\n",
        "        'test_only': False,\n",
        "        'cpu': False,\n",
        "        'experiment': 'random',\n",
        "        'experiment_name': '1.2.1.3',\n",
        "        'experiment_args': {'module_placement': ['layer1.1.conv2', 'layer2.1.conv2'], 'mask_out_ratio': 0.5},\n",
        "        'dataset_args': {'text_root': 'data', 'images_root': 'data/kfold/PACS', 'source_domain': 'art_painting', 'target_domain': 'photo' },\n",
        "        'batch_size': 128,\n",
        "        'epochs': 30,\n",
        "        'num_workers': 5,\n",
        "        'grad_accum_steps': 1\n",
        "    },\n",
        "    ### 1.2.2 - ASH MODULE AFTER layer1.1.conv2 AND layer3.0.conv1 ###\n",
        "    \"1.2.2.1\" : { # Art Painting -> Cartoon\n",
        "        'seed': 0,\n",
        "        'test_only': False,\n",
        "        'cpu': False,\n",
        "        'experiment': 'random',\n",
        "        'experiment_name': '1.2.2.1',\n",
        "        'experiment_args': {'module_placement': ['layer1.1.conv2', 'layer3.0.conv1'], 'mask_out_ratio': 0.5},\n",
        "        'dataset_args': {'text_root': 'data', 'images_root': 'data/kfold/PACS', 'source_domain': 'art_painting', 'target_domain': 'cartoon' },\n",
        "        'batch_size': 128,\n",
        "        'epochs': 30,\n",
        "        'num_workers': 5,\n",
        "        'grad_accum_steps': 1\n",
        "    },\n",
        "    \"1.2.2.2\" : { # Art Painting -> Sketch\n",
        "        'seed': 0,\n",
        "        'test_only': False,\n",
        "        'cpu': False,\n",
        "        'experiment': 'random',\n",
        "        'experiment_name': '1.2.2.2',\n",
        "        'experiment_args': {'module_placement': ['layer1.1.conv2', 'layer3.0.conv1'], 'mask_out_ratio': 0.5},\n",
        "        'dataset_args': {'text_root': 'data', 'images_root': 'data/kfold/PACS', 'source_domain': 'art_painting', 'target_domain': 'sketch' },\n",
        "        'batch_size': 128,\n",
        "        'epochs': 30,\n",
        "        'num_workers': 5,\n",
        "        'grad_accum_steps': 1\n",
        "    },\n",
        "    \"1.2.2.3\" : { # Art Painting -> Photo\n",
        "        'seed': 0,\n",
        "        'test_only': False,\n",
        "        'cpu': False,\n",
        "        'experiment': 'random',\n",
        "        'experiment_name': '1.2.2.3',\n",
        "        'experiment_args': {'module_placement': ['layer1.1.conv2', 'layer3.0.conv1'], 'mask_out_ratio': 0.5},\n",
        "        'dataset_args': {'text_root': 'data', 'images_root': 'data/kfold/PACS', 'source_domain': 'art_painting', 'target_domain': 'photo' },\n",
        "        'batch_size': 128,\n",
        "        'epochs': 30,\n",
        "        'num_workers': 5,\n",
        "        'grad_accum_steps': 1\n",
        "    },\n",
        "    ### 1.2.3 - ASH MODULE AFTER layer1.1.conv2 AND layer3.1.conv2 ###\n",
        "    \"1.2.3.1\" : { # Art Painting -> Cartoon\n",
        "        'seed': 0,\n",
        "        'test_only': False,\n",
        "        'cpu': False,\n",
        "        'experiment': 'random',\n",
        "        'experiment_name': '1.2.3.1',\n",
        "        'experiment_args': {'module_placement': ['layer1.1.conv2', 'layer3.1.conv2'], 'mask_out_ratio': 0.5},\n",
        "        'dataset_args': {'text_root': 'data', 'images_root': 'data/kfold/PACS', 'source_domain': 'art_painting', 'target_domain': 'cartoon' },\n",
        "        'batch_size': 128,\n",
        "        'epochs': 30,\n",
        "        'num_workers': 5,\n",
        "        'grad_accum_steps': 1\n",
        "    },\n",
        "    \"1.2.3.2\" : { # Art Painting -> Sketch\n",
        "        'seed': 0,\n",
        "        'test_only': False,\n",
        "        'cpu': False,\n",
        "        'experiment': 'random',\n",
        "        'experiment_name': '1.2.3.2',\n",
        "        'experiment_args': {'module_placement': ['layer1.1.conv2', 'layer3.1.conv2'], 'mask_out_ratio': 0.5},\n",
        "        'dataset_args': {'text_root': 'data', 'images_root': 'data/kfold/PACS', 'source_domain': 'art_painting', 'target_domain': 'sketch' },\n",
        "        'batch_size': 128,\n",
        "        'epochs': 30,\n",
        "        'num_workers': 5,\n",
        "        'grad_accum_steps': 1\n",
        "    },\n",
        "    \"1.2.3.3\" : { # Art Painting -> Photo\n",
        "        'seed': 0,\n",
        "        'test_only': False,\n",
        "        'cpu': False,\n",
        "        'experiment': 'random',\n",
        "        'experiment_name': '1.2.3.3',\n",
        "        'experiment_args': {'module_placement': ['layer1.1.conv2', 'layer3.1.conv2'], 'mask_out_ratio': 0.5},\n",
        "        'dataset_args': {'text_root': 'data', 'images_root': 'data/kfold/PACS', 'source_domain': 'art_painting', 'target_domain': 'photo' },\n",
        "        'batch_size': 128,\n",
        "        'epochs': 30,\n",
        "        'num_workers': 5,\n",
        "        'grad_accum_steps': 1\n",
        "    },\n",
        "    ### 1.2.4 - ASH MODULE AFTER layer2.1.conv2 AND layer3.0.conv1 ###\n",
        "    \"1.2.4.1\" : { # Art Painting -> Cartoon\n",
        "        'seed': 0,\n",
        "        'test_only': False,\n",
        "        'cpu': False,\n",
        "        'experiment': 'random',\n",
        "        'experiment_name': '1.2.4.1',\n",
        "        'experiment_args': {'module_placement': ['layer2.1.conv2', 'layer3.0.conv1'], 'mask_out_ratio': 0.5},\n",
        "        'dataset_args': {'text_root': 'data', 'images_root': 'data/kfold/PACS', 'source_domain': 'art_painting', 'target_domain': 'cartoon' },\n",
        "        'batch_size': 128,\n",
        "        'epochs': 30,\n",
        "        'num_workers': 5,\n",
        "        'grad_accum_steps': 1\n",
        "    },\n",
        "    \"1.2.4.2\" : { # Art Painting -> Sketch\n",
        "        'seed': 0,\n",
        "        'test_only': False,\n",
        "        'cpu': False,\n",
        "        'experiment': 'random',\n",
        "        'experiment_name': '1.2.4.2',\n",
        "        'experiment_args': {'module_placement': ['layer2.1.conv2', 'layer3.0.conv1'], 'mask_out_ratio': 0.5},\n",
        "        'dataset_args': {'text_root': 'data', 'images_root': 'data/kfold/PACS', 'source_domain': 'art_painting', 'target_domain': 'sketch' },\n",
        "        'batch_size': 128,\n",
        "        'epochs': 30,\n",
        "        'num_workers': 5,\n",
        "        'grad_accum_steps': 1\n",
        "    },\n",
        "    \"1.2.4.3\" : { # Art Painting -> Photo\n",
        "        'seed': 0,\n",
        "        'test_only': False,\n",
        "        'cpu': False,\n",
        "        'experiment': 'random',\n",
        "        'experiment_name': '1.2.4.3',\n",
        "        'experiment_args': {'module_placement': ['layer2.1.conv2', 'layer3.0.conv1'], 'mask_out_ratio': 0.5},\n",
        "        'dataset_args': {'text_root': 'data', 'images_root': 'data/kfold/PACS', 'source_domain': 'art_painting', 'target_domain': 'photo' },\n",
        "        'batch_size': 128,\n",
        "        'epochs': 30,\n",
        "        'num_workers': 5,\n",
        "        'grad_accum_steps': 1\n",
        "    },\n",
        "    ### 1.2.5 - ASH MODULE AFTER layer2.1.conv2 AND layer3.1.conv2 ###\n",
        "    \"1.2.5.1\" : { # Art Painting -> Cartoon\n",
        "        'seed': 0,\n",
        "        'test_only': False,\n",
        "        'cpu': False,\n",
        "        'experiment': 'random',\n",
        "        'experiment_name': '1.2.5.1',\n",
        "        'experiment_args': {'module_placement': ['layer2.1.conv2', 'layer3.1.conv2'], 'mask_out_ratio': 0.5},\n",
        "        'dataset_args': {'text_root': 'data', 'images_root': 'data/kfold/PACS', 'source_domain': 'art_painting', 'target_domain': 'cartoon' },\n",
        "        'batch_size': 128,\n",
        "        'epochs': 30,\n",
        "        'num_workers': 5,\n",
        "        'grad_accum_steps': 1\n",
        "    },\n",
        "    \"1.2.5.2\" : { # Art Painting -> Sketch\n",
        "        'seed': 0,\n",
        "        'test_only': False,\n",
        "        'cpu': False,\n",
        "        'experiment': 'random',\n",
        "        'experiment_name': '1.2.5.2',\n",
        "        'experiment_args': {'module_placement': ['layer2.1.conv2', 'layer3.1.conv2'], 'mask_out_ratio': 0.5},\n",
        "        'dataset_args': {'text_root': 'data', 'images_root': 'data/kfold/PACS', 'source_domain': 'art_painting', 'target_domain': 'sketch' },\n",
        "        'batch_size': 128,\n",
        "        'epochs': 30,\n",
        "        'num_workers': 5,\n",
        "        'grad_accum_steps': 1\n",
        "    },\n",
        "    \"1.2.5.3\" : { # Art Painting -> Photo\n",
        "        'seed': 0,\n",
        "        'test_only': False,\n",
        "        'cpu': False,\n",
        "        'experiment': 'random',\n",
        "        'experiment_name': '1.2.5.3',\n",
        "        'experiment_args': {'module_placement': ['layer2.1.conv2', 'layer3.1.conv2'], 'mask_out_ratio': 0.5},\n",
        "        'dataset_args': {'text_root': 'data', 'images_root': 'data/kfold/PACS', 'source_domain': 'art_painting', 'target_domain': 'photo' },\n",
        "        'batch_size': 128,\n",
        "        'epochs': 30,\n",
        "        'num_workers': 5,\n",
        "        'grad_accum_steps': 1\n",
        "    },\n",
        "    ### 1.2.6 - ASH MODULE AFTER layer3.0.conv1 AND layer3.1.conv2 ###\n",
        "    \"1.2.6.1\" : { # Art Painting -> Cartoon\n",
        "        'seed': 0,\n",
        "        'test_only': False,\n",
        "        'cpu': False,\n",
        "        'experiment': 'random',\n",
        "        'experiment_name': '1.2.6.1',\n",
        "        'experiment_args': {'module_placement': ['layer3.0.conv1', 'layer3.1.conv2'], 'mask_out_ratio': 0.5},\n",
        "        'dataset_args': {'text_root': 'data', 'images_root': 'data/kfold/PACS', 'source_domain': 'art_painting', 'target_domain': 'cartoon' },\n",
        "        'batch_size': 128,\n",
        "        'epochs': 30,\n",
        "        'num_workers': 5,\n",
        "        'grad_accum_steps': 1\n",
        "    },\n",
        "    \"1.2.6.2\" : { # Art Painting -> Sketch\n",
        "        'seed': 0,\n",
        "        'test_only': False,\n",
        "        'cpu': False,\n",
        "        'experiment': 'random',\n",
        "        'experiment_name': '1.2.6.2',\n",
        "        'experiment_args': {'module_placement': ['layer3.0.conv1', 'layer3.1.conv2'], 'mask_out_ratio': 0.5},\n",
        "        'dataset_args': {'text_root': 'data', 'images_root': 'data/kfold/PACS', 'source_domain': 'art_painting', 'target_domain': 'sketch' },\n",
        "        'batch_size': 128,\n",
        "        'epochs': 30,\n",
        "        'num_workers': 5,\n",
        "        'grad_accum_steps': 1\n",
        "    },\n",
        "    \"1.2.6.3\" : { # Art Painting -> Photo\n",
        "        'seed': 0,\n",
        "        'test_only': False,\n",
        "        'cpu': False,\n",
        "        'experiment': 'random',\n",
        "        'experiment_name': '1.2.6.3',\n",
        "        'experiment_args': {'module_placement': ['layer3.0.conv1', 'layer3.1.conv2'], 'mask_out_ratio': 0.5},\n",
        "        'dataset_args': {'text_root': 'data', 'images_root': 'data/kfold/PACS', 'source_domain': 'art_painting', 'target_domain': 'photo' },\n",
        "        'batch_size': 128,\n",
        "        'epochs': 30,\n",
        "        'num_workers': 5,\n",
        "        'grad_accum_steps': 1\n",
        "    },\n",
        "}\n"
      ]
    },
    {
      "cell_type": "markdown",
      "metadata": {
        "id": "S7mLTDV2Xxxi"
      },
      "source": [
        "#### Experiment"
      ]
    },
    {
      "cell_type": "code",
      "execution_count": 21,
      "metadata": {
        "vscode": {
          "languageId": "python"
        },
        "colab": {
          "base_uri": "https://localhost:8080/"
        },
        "id": "oBK7__AIXxxi",
        "outputId": "2e0e0d39-2a66-409a-e2d9-1a1a3553fd9e"
      },
      "outputs": [
        {
          "output_type": "stream",
          "name": "stdout",
          "text": [
            "Namespace(seed=0, test_only=False, cpu=False, experiment='random', experiment_name='1.2.1.2', experiment_args={'module_placement': ['layer1.1.conv2', 'layer2.1.conv2'], 'mask_out_ratio': 0.5}, dataset_args={'text_root': 'data', 'images_root': 'data/kfold/PACS', 'source_domain': 'art_painting', 'target_domain': 'sketch'}, batch_size=128, epochs=30, num_workers=5, grad_accum_steps=1)\n"
          ]
        },
        {
          "output_type": "stream",
          "name": "stderr",
          "text": [
            "Downloading: \"https://download.pytorch.org/models/resnet18-f37072fd.pth\" to /root/.cache/torch/hub/checkpoints/resnet18-f37072fd.pth\n",
            "100%|██████████| 44.7M/44.7M [00:00<00:00, 98.2MB/s]\n",
            "  0%|          | 0/16 [00:00<?, ?it/s]"
          ]
        },
        {
          "output_type": "stream",
          "name": "stdout",
          "text": [
            "Register a hook to perform Random Maps Ablation on layer  layer1.1.conv2 Conv2d(64, 64, kernel_size=(3, 3), stride=(1, 1), padding=(1, 1), bias=False)\n",
            "Register a hook to perform Random Maps Ablation on layer  layer2.1.conv2 Conv2d(128, 128, kernel_size=(3, 3), stride=(1, 1), padding=(1, 1), bias=False)\n",
            "mask_out_ratio:  0.5\n",
            "random_mask sum():  tensor(12829481., device='cuda:0')\n",
            "mask_out_ratio:  0.5\n",
            "random_mask sum():  tensor(6414735., device='cuda:0')\n",
            "Remove the hook used to perform Activation Shaping on layer  layer1.1.conv2\n",
            "Remove the hook used to perform Activation Shaping on layer  layer2.1.conv2\n"
          ]
        },
        {
          "output_type": "stream",
          "name": "stderr",
          "text": [
            " 12%|█▎        | 2/16 [00:08<00:52,  3.74s/it]"
          ]
        },
        {
          "output_type": "stream",
          "name": "stdout",
          "text": [
            "Register a hook to perform Random Maps Ablation on layer  layer1.1.conv2 Conv2d(64, 64, kernel_size=(3, 3), stride=(1, 1), padding=(1, 1), bias=False)\n",
            "Register a hook to perform Random Maps Ablation on layer  layer2.1.conv2 Conv2d(128, 128, kernel_size=(3, 3), stride=(1, 1), padding=(1, 1), bias=False)\n",
            "mask_out_ratio:  0.5\n",
            "random_mask sum():  tensor(12833696., device='cuda:0')\n",
            "mask_out_ratio:  0.5\n",
            "random_mask sum():  tensor(6416454., device='cuda:0')\n",
            "Remove the hook used to perform Activation Shaping on layer  layer1.1.conv2\n",
            "Remove the hook used to perform Activation Shaping on layer  layer2.1.conv2\n"
          ]
        },
        {
          "output_type": "stream",
          "name": "stderr",
          "text": [
            "\r 19%|█▉        | 3/16 [00:09<00:27,  2.11s/it]"
          ]
        },
        {
          "output_type": "stream",
          "name": "stdout",
          "text": [
            "Register a hook to perform Random Maps Ablation on layer  layer1.1.conv2 Conv2d(64, 64, kernel_size=(3, 3), stride=(1, 1), padding=(1, 1), bias=False)\n",
            "Register a hook to perform Random Maps Ablation on layer  layer2.1.conv2 Conv2d(128, 128, kernel_size=(3, 3), stride=(1, 1), padding=(1, 1), bias=False)\n",
            "mask_out_ratio:  0.5\n",
            "random_mask sum():  tensor(12831636., device='cuda:0')\n",
            "mask_out_ratio:  0.5\n",
            "random_mask sum():  tensor(6417266., device='cuda:0')\n",
            "Remove the hook used to perform Activation Shaping on layer  layer1.1.conv2\n",
            "Remove the hook used to perform Activation Shaping on layer  layer2.1.conv2\n",
            "Register a hook to perform Random Maps Ablation on layer  layer1.1.conv2 Conv2d(64, 64, kernel_size=(3, 3), stride=(1, 1), padding=(1, 1), bias=False)\n",
            "Register a hook to perform Random Maps Ablation on layer  layer2.1.conv2 Conv2d(128, 128, kernel_size=(3, 3), stride=(1, 1), padding=(1, 1), bias=False)\n",
            "mask_out_ratio:  0.5\n",
            "random_mask sum():  "
          ]
        },
        {
          "output_type": "stream",
          "name": "stderr",
          "text": [
            "\r 25%|██▌       | 4/16 [00:09<00:16,  1.35s/it]"
          ]
        },
        {
          "output_type": "stream",
          "name": "stdout",
          "text": [
            "tensor(12837658., device='cuda:0')\n",
            "mask_out_ratio:  0.5\n",
            "random_mask sum():  tensor(6420043., device='cuda:0')\n",
            "Remove the hook used to perform Activation Shaping on layer  layer1.1.conv2\n",
            "Remove the hook used to perform Activation Shaping on layer  layer2.1.conv2\n",
            "Register a hook to perform Random Maps Ablation on layer  layer1.1.conv2 Conv2d(64, 64, kernel_size=(3, 3), stride=(1, 1), padding=(1, 1), bias=False)\n",
            "Register a hook to perform Random Maps Ablation on layer  layer2.1.conv2 Conv2d(128, 128, kernel_size=(3, 3), stride=(1, 1), padding=(1, 1), bias=False)\n",
            "mask_out_ratio:  0.5\n",
            "random_mask sum():  tensor(12833277., device='cuda:0')\n",
            "mask_out_ratio:  0.5\n",
            "random_mask sum():  "
          ]
        },
        {
          "output_type": "stream",
          "name": "stderr",
          "text": [
            "\r 31%|███▏      | 5/16 [00:09<00:10,  1.08it/s]"
          ]
        },
        {
          "output_type": "stream",
          "name": "stdout",
          "text": [
            "tensor(6414470., device='cuda:0')\n",
            "Remove the hook used to perform Activation Shaping on layer  layer1.1.conv2\n",
            "Remove the hook used to perform Activation Shaping on layer  layer2.1.conv2\n",
            "Register a hook to perform Random Maps Ablation on layer  layer1.1.conv2 Conv2d(64, 64, kernel_size=(3, 3), stride=(1, 1), padding=(1, 1), bias=False)\n",
            "Register a hook to perform Random Maps Ablation on layer  layer2.1.conv2 Conv2d(128, 128, kernel_size=(3, 3), stride=(1, 1), padding=(1, 1), bias=False)\n",
            "mask_out_ratio:  0.5\n",
            "random_mask sum():  tensor(12832713., device='cuda:0')\n",
            "mask_out_ratio:  0.5\n",
            "random_mask sum():  tensor(6414695., device='cuda:0')\n",
            "Remove the hook used to perform Activation Shaping on layer  layer1.1.conv2\n",
            "Remove the hook used to perform Activation Shaping on layer  layer2.1.conv2\n"
          ]
        },
        {
          "output_type": "stream",
          "name": "stderr",
          "text": [
            " 44%|████▍     | 7/16 [00:09<00:04,  1.93it/s]"
          ]
        },
        {
          "output_type": "stream",
          "name": "stdout",
          "text": [
            "Register a hook to perform Random Maps Ablation on layer  layer1.1.conv2 Conv2d(64, 64, kernel_size=(3, 3), stride=(1, 1), padding=(1, 1), bias=False)\n",
            "Register a hook to perform Random Maps Ablation on layer  layer2.1.conv2 Conv2d(128, 128, kernel_size=(3, 3), stride=(1, 1), padding=(1, 1), bias=False)\n",
            "mask_out_ratio:  0.5\n",
            "random_mask sum():  tensor(12832173., device='cuda:0')\n",
            "mask_out_ratio:  0.5\n",
            "random_mask sum():  tensor(6418327., device='cuda:0')\n",
            "Remove the hook used to perform Activation Shaping on layer  layer1.1.conv2\n",
            "Remove the hook used to perform Activation Shaping on layer  layer2.1.conv2\n",
            "Register a hook to perform Random Maps Ablation on layer  layer1.1.conv2 Conv2d(64, 64, kernel_size=(3, 3), stride=(1, 1), padding=(1, 1), bias=False)\n",
            "Register a hook to perform Random Maps Ablation on layer  layer2.1.conv2 Conv2d(128, 128, kernel_size=(3, 3), stride=(1, 1), padding=(1, 1), bias=False)\n",
            "mask_out_ratio:  0.5\n",
            "random_mask sum():  "
          ]
        },
        {
          "output_type": "stream",
          "name": "stderr",
          "text": [
            "\r 50%|█████     | 8/16 [00:10<00:03,  2.43it/s]"
          ]
        },
        {
          "output_type": "stream",
          "name": "stdout",
          "text": [
            "tensor(12830749., device='cuda:0')\n",
            "mask_out_ratio:  0.5\n",
            "random_mask sum():  tensor(6416749., device='cuda:0')\n",
            "Remove the hook used to perform Activation Shaping on layer  layer1.1.conv2\n",
            "Remove the hook used to perform Activation Shaping on layer  layer2.1.conv2\n",
            "Register a hook to perform Random Maps Ablation on layer  layer1.1.conv2 Conv2d(64, 64, kernel_size=(3, 3), stride=(1, 1), padding=(1, 1), bias=False)\n",
            "Register a hook to perform Random Maps Ablation on layer  layer2.1.conv2 Conv2d(128, 128, kernel_size=(3, 3), stride=(1, 1), padding=(1, 1), bias=False)\n",
            "mask_out_ratio:  0.5\n",
            "random_mask sum():  tensor(12833525., device='cuda:0')\n",
            "mask_out_ratio:  0.5\n",
            "random_mask sum():  "
          ]
        },
        {
          "output_type": "stream",
          "name": "stderr",
          "text": [
            "\r 56%|█████▋    | 9/16 [00:10<00:02,  2.94it/s]"
          ]
        },
        {
          "output_type": "stream",
          "name": "stdout",
          "text": [
            "tensor(6419865., device='cuda:0')\n",
            "Remove the hook used to perform Activation Shaping on layer  layer1.1.conv2\n",
            "Remove the hook used to perform Activation Shaping on layer  layer2.1.conv2\n",
            "Register a hook to perform Random Maps Ablation on layer  layer1.1.conv2 Conv2d(64, 64, kernel_size=(3, 3), stride=(1, 1), padding=(1, 1), bias=False)\n",
            "Register a hook to perform Random Maps Ablation on layer  layer2.1.conv2 Conv2d(128, 128, kernel_size=(3, 3), stride=(1, 1), padding=(1, 1), bias=False)\n",
            "mask_out_ratio:  0.5\n",
            "random_mask sum():  tensor(12837148., device='cuda:0')\n",
            "mask_out_ratio:  0.5\n",
            "random_mask sum():  tensor(6414218., device='cuda:0')\n"
          ]
        },
        {
          "output_type": "stream",
          "name": "stderr",
          "text": [
            "\r 62%|██████▎   | 10/16 [00:10<00:01,  3.39it/s]"
          ]
        },
        {
          "output_type": "stream",
          "name": "stdout",
          "text": [
            "Remove the hook used to perform Activation Shaping on layer  layer1.1.conv2\n",
            "Remove the hook used to perform Activation Shaping on layer  layer2.1.conv2\n",
            "Register a hook to perform Random Maps Ablation on layer  layer1.1.conv2 Conv2d(64, 64, kernel_size=(3, 3), stride=(1, 1), padding=(1, 1), bias=False)\n",
            "Register a hook to perform Random Maps Ablation on layer  layer2.1.conv2 Conv2d(128, 128, kernel_size=(3, 3), stride=(1, 1), padding=(1, 1), bias=False)\n",
            "mask_out_ratio:  0.5\n",
            "random_mask sum():  tensor(12837228., device='cuda:0')\n",
            "mask_out_ratio:  0.5\n",
            "random_mask sum():  tensor(6414524., device='cuda:0')\n",
            "Remove the hook used to perform Activation Shaping on layer  layer1.1.conv2\n",
            "Remove the hook used to perform Activation Shaping on layer  layer2.1.conv2\n"
          ]
        },
        {
          "output_type": "stream",
          "name": "stderr",
          "text": [
            "\r 69%|██████▉   | 11/16 [00:10<00:01,  3.78it/s]"
          ]
        },
        {
          "output_type": "stream",
          "name": "stdout",
          "text": [
            "Register a hook to perform Random Maps Ablation on layer  layer1.1.conv2 Conv2d(64, 64, kernel_size=(3, 3), stride=(1, 1), padding=(1, 1), bias=False)\n",
            "Register a hook to perform Random Maps Ablation on layer  layer2.1.conv2 Conv2d(128, 128, kernel_size=(3, 3), stride=(1, 1), padding=(1, 1), bias=False)\n",
            "mask_out_ratio:  0.5\n",
            "random_mask sum():  tensor(12834753., device='cuda:0')\n",
            "mask_out_ratio:  0.5\n",
            "random_mask sum():  tensor(6420083., device='cuda:0')\n",
            "Remove the hook used to perform Activation Shaping on layer  layer1.1.conv2\n",
            "Remove the hook used to perform Activation Shaping on layer  layer2.1.conv2\n"
          ]
        },
        {
          "output_type": "stream",
          "name": "stderr",
          "text": [
            " 81%|████████▏ | 13/16 [00:11<00:01,  2.13it/s]"
          ]
        },
        {
          "output_type": "stream",
          "name": "stdout",
          "text": [
            "Register a hook to perform Random Maps Ablation on layer  layer1.1.conv2 Conv2d(64, 64, kernel_size=(3, 3), stride=(1, 1), padding=(1, 1), bias=False)\n",
            "Register a hook to perform Random Maps Ablation on layer  layer2.1.conv2 Conv2d(128, 128, kernel_size=(3, 3), stride=(1, 1), padding=(1, 1), bias=False)\n",
            "mask_out_ratio:  0.5\n",
            "random_mask sum():  tensor(12833666., device='cuda:0')\n",
            "mask_out_ratio:  0.5\n",
            "random_mask sum():  tensor(6414073., device='cuda:0')\n",
            "Remove the hook used to perform Activation Shaping on layer  layer1.1.conv2\n",
            "Remove the hook used to perform Activation Shaping on layer  layer2.1.conv2\n"
          ]
        },
        {
          "output_type": "stream",
          "name": "stderr",
          "text": [
            "\r 88%|████████▊ | 14/16 [00:12<00:00,  2.38it/s]"
          ]
        },
        {
          "output_type": "stream",
          "name": "stdout",
          "text": [
            "Register a hook to perform Random Maps Ablation on layer  layer1.1.conv2 Conv2d(64, 64, kernel_size=(3, 3), stride=(1, 1), padding=(1, 1), bias=False)\n",
            "Register a hook to perform Random Maps Ablation on layer  layer2.1.conv2 Conv2d(128, 128, kernel_size=(3, 3), stride=(1, 1), padding=(1, 1), bias=False)\n",
            "mask_out_ratio:  0.5\n",
            "random_mask sum():  tensor(12835263., device='cuda:0')\n",
            "mask_out_ratio:  0.5\n",
            "random_mask sum():  tensor(6414145., device='cuda:0')\n",
            "Remove the hook used to perform Activation Shaping on layer  layer1.1.conv2\n",
            "Remove the hook used to perform Activation Shaping on layer  layer2.1.conv2\n"
          ]
        },
        {
          "output_type": "stream",
          "name": "stderr",
          "text": [
            "\r 94%|█████████▍| 15/16 [00:12<00:00,  2.70it/s]"
          ]
        },
        {
          "output_type": "stream",
          "name": "stdout",
          "text": [
            "Register a hook to perform Random Maps Ablation on layer  layer1.1.conv2 Conv2d(64, 64, kernel_size=(3, 3), stride=(1, 1), padding=(1, 1), bias=False)\n",
            "Register a hook to perform Random Maps Ablation on layer  layer2.1.conv2 Conv2d(128, 128, kernel_size=(3, 3), stride=(1, 1), padding=(1, 1), bias=False)\n",
            "mask_out_ratio:  0.5\n",
            "random_mask sum():  tensor(12835880., device='cuda:0')\n",
            "mask_out_ratio:  0.5\n",
            "random_mask sum():  tensor(6417046., device='cuda:0')\n",
            "Remove the hook used to perform Activation Shaping on layer  layer1.1.conv2\n",
            "Remove the hook used to perform Activation Shaping on layer  layer2.1.conv2\n",
            "Register a hook to perform Random Maps Ablation on layer  layer1.1.conv2 Conv2d(64, 64, kernel_size=(3, 3), stride=(1, 1), padding=(1, 1), bias=False)\n",
            "Register a hook to perform Random Maps Ablation on layer  layer2.1.conv2 Conv2d(128, 128, kernel_size=(3, 3), stride=(1, 1), padding=(1, 1), bias=False)\n",
            "mask_out_ratio:  0.5\n",
            "random_mask sum():  "
          ]
        },
        {
          "output_type": "stream",
          "name": "stderr",
          "text": [
            "100%|██████████| 16/16 [00:12<00:00,  1.27it/s]\n"
          ]
        },
        {
          "output_type": "stream",
          "name": "stdout",
          "text": [
            "tensor(12832081., device='cuda:0')\n",
            "mask_out_ratio:  0.5\n",
            "random_mask sum():  tensor(6417132., device='cuda:0')\n",
            "Remove the hook used to perform Activation Shaping on layer  layer1.1.conv2\n",
            "Remove the hook used to perform Activation Shaping on layer  layer2.1.conv2\n"
          ]
        },
        {
          "output_type": "stream",
          "name": "stderr",
          "text": [
            "100%|██████████| 31/31 [00:11<00:00,  2.81it/s]\n"
          ]
        },
        {
          "output_type": "stream",
          "name": "stdout",
          "text": [
            "Accuracy: 4.50 - Loss: 0.017686557317696385 \n",
            "\n"
          ]
        },
        {
          "output_type": "stream",
          "name": "stderr",
          "text": [
            "\r  0%|          | 0/16 [00:00<?, ?it/s]"
          ]
        },
        {
          "output_type": "stream",
          "name": "stdout",
          "text": [
            "Register a hook to perform Random Maps Ablation on layer  layer1.1.conv2 Conv2d(64, 64, kernel_size=(3, 3), stride=(1, 1), padding=(1, 1), bias=False)\n",
            "Register a hook to perform Random Maps Ablation on layer  layer2.1.conv2 Conv2d(128, 128, kernel_size=(3, 3), stride=(1, 1), padding=(1, 1), bias=False)\n",
            "mask_out_ratio:  0.5\n",
            "random_mask sum():  tensor(12831649., device='cuda:0')\n",
            "mask_out_ratio:  0.5\n",
            "random_mask sum():  tensor(6415592., device='cuda:0')\n",
            "Remove the hook used to perform Activation Shaping on layer  layer1.1.conv2\n",
            "Remove the hook used to perform Activation Shaping on layer  layer2.1.conv2\n"
          ]
        },
        {
          "output_type": "stream",
          "name": "stderr",
          "text": [
            "\r  6%|▋         | 1/16 [00:02<00:43,  2.90s/it]"
          ]
        },
        {
          "output_type": "stream",
          "name": "stdout",
          "text": [
            "Register a hook to perform Random Maps Ablation on layer  layer1.1.conv2 Conv2d(64, 64, kernel_size=(3, 3), stride=(1, 1), padding=(1, 1), bias=False)\n",
            "Register a hook to perform Random Maps Ablation on layer  layer2.1.conv2 Conv2d(128, 128, kernel_size=(3, 3), stride=(1, 1), padding=(1, 1), bias=False)\n",
            "mask_out_ratio:  0.5\n",
            "random_mask sum():  tensor(12830925., device='cuda:0')\n",
            "mask_out_ratio:  0.5\n",
            "random_mask sum():  tensor(6414678., device='cuda:0')\n",
            "Remove the hook used to perform Activation Shaping on layer  layer1.1.conv2\n",
            "Remove the hook used to perform Activation Shaping on layer  layer2.1.conv2\n"
          ]
        },
        {
          "output_type": "stream",
          "name": "stderr",
          "text": [
            " 19%|█▉        | 3/16 [00:03<00:12,  1.04it/s]"
          ]
        },
        {
          "output_type": "stream",
          "name": "stdout",
          "text": [
            "Register a hook to perform Random Maps Ablation on layer  layer1.1.conv2 Conv2d(64, 64, kernel_size=(3, 3), stride=(1, 1), padding=(1, 1), bias=False)\n",
            "Register a hook to perform Random Maps Ablation on layer  layer2.1.conv2 Conv2d(128, 128, kernel_size=(3, 3), stride=(1, 1), padding=(1, 1), bias=False)\n",
            "mask_out_ratio:  0.5\n",
            "random_mask sum():  tensor(12834558., device='cuda:0')\n",
            "mask_out_ratio:  0.5\n",
            "random_mask sum():  tensor(6415572., device='cuda:0')\n",
            "Remove the hook used to perform Activation Shaping on layer  layer1.1.conv2\n",
            "Remove the hook used to perform Activation Shaping on layer  layer2.1.conv2\n",
            "Register a hook to perform Random Maps Ablation on layer  "
          ]
        },
        {
          "output_type": "stream",
          "name": "stderr",
          "text": [
            "\r 25%|██▌       | 4/16 [00:03<00:07,  1.51it/s]"
          ]
        },
        {
          "output_type": "stream",
          "name": "stdout",
          "text": [
            "layer1.1.conv2 Conv2d(64, 64, kernel_size=(3, 3), stride=(1, 1), padding=(1, 1), bias=False)\n",
            "Register a hook to perform Random Maps Ablation on layer  layer2.1.conv2 Conv2d(128, 128, kernel_size=(3, 3), stride=(1, 1), padding=(1, 1), bias=False)\n",
            "mask_out_ratio:  0.5\n",
            "random_mask sum():  tensor(12832382., device='cuda:0')\n",
            "mask_out_ratio:  0.5\n",
            "random_mask sum():  tensor(6420164., device='cuda:0')\n",
            "Remove the hook used to perform Activation Shaping on layer  layer1.1.conv2\n",
            "Remove the hook used to perform Activation Shaping on layer  layer2.1.conv2\n"
          ]
        },
        {
          "output_type": "stream",
          "name": "stderr",
          "text": [
            "\r 31%|███▏      | 5/16 [00:04<00:05,  2.00it/s]"
          ]
        },
        {
          "output_type": "stream",
          "name": "stdout",
          "text": [
            "Register a hook to perform Random Maps Ablation on layer  layer1.1.conv2 Conv2d(64, 64, kernel_size=(3, 3), stride=(1, 1), padding=(1, 1), bias=False)\n",
            "Register a hook to perform Random Maps Ablation on layer  layer2.1.conv2 Conv2d(128, 128, kernel_size=(3, 3), stride=(1, 1), padding=(1, 1), bias=False)\n",
            "mask_out_ratio:  0.5\n",
            "random_mask sum():  tensor(12831662., device='cuda:0')\n",
            "mask_out_ratio:  0.5\n",
            "random_mask sum():  tensor(6416759., device='cuda:0')\n",
            "Remove the hook used to perform Activation Shaping on layer  layer1.1.conv2\n",
            "Remove the hook used to perform Activation Shaping on layer  layer2.1.conv2\n"
          ]
        },
        {
          "output_type": "stream",
          "name": "stderr",
          "text": [
            "\r 38%|███▊      | 6/16 [00:05<00:07,  1.43it/s]"
          ]
        },
        {
          "output_type": "stream",
          "name": "stdout",
          "text": [
            "Register a hook to perform Random Maps Ablation on layer  layer1.1.conv2 Conv2d(64, 64, kernel_size=(3, 3), stride=(1, 1), padding=(1, 1), bias=False)\n",
            "Register a hook to perform Random Maps Ablation on layer  layer2.1.conv2 Conv2d(128, 128, kernel_size=(3, 3), stride=(1, 1), padding=(1, 1), bias=False)\n",
            "mask_out_ratio:  0.5\n",
            "random_mask sum():  tensor(12832732., device='cuda:0')\n",
            "mask_out_ratio:  0.5\n",
            "random_mask sum():  tensor(6415727., device='cuda:0')\n",
            "Remove the hook used to perform Activation Shaping on layer  layer1.1.conv2\n",
            "Remove the hook used to perform Activation Shaping on layer  layer2.1.conv2\n",
            "Register a hook to perform Random Maps Ablation on layer  layer1.1.conv2 Conv2d(64, 64, kernel_size=(3, 3), stride=(1, 1), padding=(1, 1), bias=False)\n",
            "Register a hook to perform Random Maps Ablation on layer  layer2.1.conv2 Conv2d(128, 128, kernel_size=(3, 3), stride=(1, 1), padding=(1, 1), bias=False)\n",
            "mask_out_ratio:  0.5\n",
            "random_mask sum():  tensor(12833274., device='cuda:0')\n",
            "mask_out_ratio:  0.5\n",
            "random_mask sum():  tensor(6413856., device='cuda:0')\n",
            "Remove the hook used to perform Activation Shaping on layer  layer1.1.conv2\n",
            "Remove the hook used to perform Activation Shaping on layer  layer2.1.conv2\n"
          ]
        },
        {
          "output_type": "stream",
          "name": "stderr",
          "text": [
            " 50%|█████     | 8/16 [00:05<00:03,  2.14it/s]"
          ]
        },
        {
          "output_type": "stream",
          "name": "stdout",
          "text": [
            "Register a hook to perform Random Maps Ablation on layer  layer1.1.conv2 Conv2d(64, 64, kernel_size=(3, 3), stride=(1, 1), padding=(1, 1), bias=False)\n",
            "Register a hook to perform Random Maps Ablation on layer  layer2.1.conv2 Conv2d(128, 128, kernel_size=(3, 3), stride=(1, 1), padding=(1, 1), bias=False)\n",
            "mask_out_ratio:  0.5\n",
            "random_mask sum():  tensor(12832536., device='cuda:0')\n",
            "mask_out_ratio:  0.5\n",
            "random_mask sum():  tensor(6416856., device='cuda:0')\n",
            "Remove the hook used to perform Activation Shaping on layer  layer1.1.conv2\n",
            "Remove the hook used to perform Activation Shaping on layer  layer2.1.conv2\n",
            "Register a hook to perform Random Maps Ablation on layer  layer1.1.conv2 Conv2d(64, 64, kernel_size=(3, 3), stride=(1, 1), padding=(1, 1), bias=False)\n",
            "Register a hook to perform Random Maps Ablation on layer  layer2.1.conv2 "
          ]
        },
        {
          "output_type": "stream",
          "name": "stderr",
          "text": [
            "\r 56%|█████▋    | 9/16 [00:05<00:02,  2.58it/s]"
          ]
        },
        {
          "output_type": "stream",
          "name": "stdout",
          "text": [
            "Conv2d(128, 128, kernel_size=(3, 3), stride=(1, 1), padding=(1, 1), bias=False)\n",
            "mask_out_ratio:  0.5\n",
            "random_mask sum():  tensor(12834960., device='cuda:0')\n",
            "mask_out_ratio:  0.5\n",
            "random_mask sum():  tensor(6416240., device='cuda:0')\n",
            "Remove the hook used to perform Activation Shaping on layer  layer1.1.conv2\n",
            "Remove the hook used to perform Activation Shaping on layer  layer2.1.conv2\n",
            "Register a hook to perform Random Maps Ablation on layer "
          ]
        },
        {
          "output_type": "stream",
          "name": "stderr",
          "text": [
            "\r 62%|██████▎   | 10/16 [00:06<00:02,  2.99it/s]"
          ]
        },
        {
          "output_type": "stream",
          "name": "stdout",
          "text": [
            " layer1.1.conv2 Conv2d(64, 64, kernel_size=(3, 3), stride=(1, 1), padding=(1, 1), bias=False)\n",
            "Register a hook to perform Random Maps Ablation on layer  layer2.1.conv2 Conv2d(128, 128, kernel_size=(3, 3), stride=(1, 1), padding=(1, 1), bias=False)\n",
            "mask_out_ratio:  0.5\n",
            "random_mask sum():  tensor(12830899., device='cuda:0')\n",
            "mask_out_ratio:  0.5\n",
            "random_mask sum():  tensor(6416395., device='cuda:0')\n",
            "Remove the hook used to perform Activation Shaping on layer  layer1.1.conv2\n",
            "Remove the hook used to perform Activation Shaping on layer  layer2.1.conv2\n"
          ]
        },
        {
          "output_type": "stream",
          "name": "stderr",
          "text": [
            "\r 69%|██████▉   | 11/16 [00:07<00:02,  1.77it/s]"
          ]
        },
        {
          "output_type": "stream",
          "name": "stdout",
          "text": [
            "Register a hook to perform Random Maps Ablation on layer  layer1.1.conv2 Conv2d(64, 64, kernel_size=(3, 3), stride=(1, 1), padding=(1, 1), bias=False)\n",
            "Register a hook to perform Random Maps Ablation on layer  layer2.1.conv2 Conv2d(128, 128, kernel_size=(3, 3), stride=(1, 1), padding=(1, 1), bias=False)\n",
            "mask_out_ratio:  0.5\n",
            "random_mask sum():  tensor(12833429., device='cuda:0')\n",
            "mask_out_ratio:  0.5\n",
            "random_mask sum():  tensor(6416853., device='cuda:0')\n",
            "Remove the hook used to perform Activation Shaping on layer  layer1.1.conv2\n",
            "Remove the hook used to perform Activation Shaping on layer  layer2.1.conv2\n"
          ]
        },
        {
          "output_type": "stream",
          "name": "stderr",
          "text": [
            "\r 75%|███████▌  | 12/16 [00:08<00:02,  1.61it/s]"
          ]
        },
        {
          "output_type": "stream",
          "name": "stdout",
          "text": [
            "Register a hook to perform Random Maps Ablation on layer  layer1.1.conv2 Conv2d(64, 64, kernel_size=(3, 3), stride=(1, 1), padding=(1, 1), bias=False)\n",
            "Register a hook to perform Random Maps Ablation on layer  layer2.1.conv2 Conv2d(128, 128, kernel_size=(3, 3), stride=(1, 1), padding=(1, 1), bias=False)\n",
            "mask_out_ratio:  0.5\n",
            "random_mask sum():  tensor(12836504., device='cuda:0')\n",
            "mask_out_ratio:  0.5\n",
            "random_mask sum():  tensor(6418350., device='cuda:0')\n",
            "Remove the hook used to perform Activation Shaping on layer  layer1.1.conv2\n",
            "Remove the hook used to perform Activation Shaping on layer  layer2.1.conv2\n",
            "Register a hook to perform Random Maps Ablation on layer  layer1.1.conv2 Conv2d(64, 64, kernel_size=(3, 3), stride=(1, 1), padding=(1, 1), bias=False)\n",
            "Register a hook to perform Random Maps Ablation on layer  layer2.1.conv2 Conv2d(128, 128, kernel_size=(3, 3), stride=(1, 1), padding=(1, 1), bias=False)\n",
            "mask_out_ratio:  0.5\n",
            "random_mask sum():  "
          ]
        },
        {
          "output_type": "stream",
          "name": "stderr",
          "text": [
            "\r 81%|████████▏ | 13/16 [00:08<00:01,  2.06it/s]"
          ]
        },
        {
          "output_type": "stream",
          "name": "stdout",
          "text": [
            "tensor(12833537., device='cuda:0')\n",
            "mask_out_ratio:  0.5\n",
            "random_mask sum():  tensor(6415918., device='cuda:0')\n",
            "Remove the hook used to perform Activation Shaping on layer  layer1.1.conv2\n",
            "Remove the hook used to perform Activation Shaping on layer  layer2.1.conv2\n",
            "Register a hook to perform Random Maps Ablation on layer  layer1.1.conv2 Conv2d(64, 64, kernel_size=(3, 3), stride=(1, 1), padding=(1, 1), bias=False)\n",
            "Register a hook to perform Random Maps Ablation on layer  layer2.1.conv2 Conv2d(128, 128, kernel_size=(3, 3), stride=(1, 1), padding=(1, 1), bias=False)\n",
            "mask_out_ratio:  0.5\n",
            "random_mask sum():  tensor(12832937., device='cuda:0')\n",
            "mask_out_ratio:  0.5\n",
            "random_mask sum():  tensor(6416043., device='cuda:0')\n",
            "Remove the hook used to perform Activation Shaping on layer  layer1.1.conv2\n",
            "Remove the hook used to perform Activation Shaping on layer  layer2.1.conv2\n"
          ]
        },
        {
          "output_type": "stream",
          "name": "stderr",
          "text": [
            " 94%|█████████▍| 15/16 [00:08<00:00,  3.09it/s]"
          ]
        },
        {
          "output_type": "stream",
          "name": "stdout",
          "text": [
            "Register a hook to perform Random Maps Ablation on layer  layer1.1.conv2 Conv2d(64, 64, kernel_size=(3, 3), stride=(1, 1), padding=(1, 1), bias=False)\n",
            "Register a hook to perform Random Maps Ablation on layer  layer2.1.conv2 Conv2d(128, 128, kernel_size=(3, 3), stride=(1, 1), padding=(1, 1), bias=False)\n",
            "mask_out_ratio:  0.5\n",
            "random_mask sum():  tensor(12832558., device='cuda:0')\n",
            "mask_out_ratio:  0.5\n",
            "random_mask sum():  tensor(6415880., device='cuda:0')\n",
            "Remove the hook used to perform Activation Shaping on layer  layer1.1.conv2\n",
            "Remove the hook used to perform Activation Shaping on layer  layer2.1.conv2\n",
            "Register a hook to perform Random Maps Ablation on layer  layer1.1.conv2 Conv2d(64, 64, kernel_size=(3, 3), stride=(1, 1), padding=(1, 1), bias=False)\n",
            "Register a hook to perform Random Maps Ablation on layer  layer2.1.conv2 Conv2d(128, 128, kernel_size=(3, 3), stride=(1, 1), padding=(1, 1), bias=False)\n",
            "mask_out_ratio:  0.5\n",
            "random_mask sum():  tensor(12835416., device='cuda:0')\n"
          ]
        },
        {
          "output_type": "stream",
          "name": "stderr",
          "text": [
            "100%|██████████| 16/16 [00:08<00:00,  1.84it/s]\n"
          ]
        },
        {
          "output_type": "stream",
          "name": "stdout",
          "text": [
            "mask_out_ratio:  0.5\n",
            "random_mask sum():  tensor(6415449., device='cuda:0')\n",
            "Remove the hook used to perform Activation Shaping on layer  layer1.1.conv2\n",
            "Remove the hook used to perform Activation Shaping on layer  layer2.1.conv2\n"
          ]
        },
        {
          "output_type": "stream",
          "name": "stderr",
          "text": [
            "100%|██████████| 31/31 [00:10<00:00,  2.88it/s]\n"
          ]
        },
        {
          "output_type": "stream",
          "name": "stdout",
          "text": [
            "Accuracy: 7.10 - Loss: 0.01616802328444219 \n",
            "\n"
          ]
        },
        {
          "output_type": "stream",
          "name": "stderr",
          "text": [
            "\r  0%|          | 0/16 [00:00<?, ?it/s]"
          ]
        },
        {
          "output_type": "stream",
          "name": "stdout",
          "text": [
            "Register a hook to perform Random Maps Ablation on layer  layer1.1.conv2 Conv2d(64, 64, kernel_size=(3, 3), stride=(1, 1), padding=(1, 1), bias=False)\n",
            "Register a hook to perform Random Maps Ablation on layer  layer2.1.conv2 Conv2d(128, 128, kernel_size=(3, 3), stride=(1, 1), padding=(1, 1), bias=False)\n",
            "mask_out_ratio:  0.5\n",
            "random_mask sum():  tensor(12829943., device='cuda:0')\n",
            "mask_out_ratio:  0.5\n",
            "random_mask sum():  tensor(6416319., device='cuda:0')\n",
            "Remove the hook used to perform Activation Shaping on layer  layer1.1.conv2\n",
            "Remove the hook used to perform Activation Shaping on layer  layer2.1.conv2\n"
          ]
        },
        {
          "output_type": "stream",
          "name": "stderr",
          "text": [
            " 12%|█▎        | 2/16 [00:02<00:17,  1.27s/it]"
          ]
        },
        {
          "output_type": "stream",
          "name": "stdout",
          "text": [
            "Register a hook to perform Random Maps Ablation on layer  layer1.1.conv2 Conv2d(64, 64, kernel_size=(3, 3), stride=(1, 1), padding=(1, 1), bias=False)\n",
            "Register a hook to perform Random Maps Ablation on layer  layer2.1.conv2 Conv2d(128, 128, kernel_size=(3, 3), stride=(1, 1), padding=(1, 1), bias=False)\n",
            "mask_out_ratio:  0.5\n",
            "random_mask sum():  tensor(12833680., device='cuda:0')\n",
            "mask_out_ratio:  0.5\n",
            "random_mask sum():  tensor(6417971., device='cuda:0')\n",
            "Remove the hook used to perform Activation Shaping on layer  layer1.1.conv2\n",
            "Remove the hook used to perform Activation Shaping on layer  layer2.1.conv2\n",
            "Register a hook to perform Random Maps Ablation on layer  layer1.1.conv2 Conv2d(64, 64, kernel_size=(3, 3), stride=(1, 1), padding=(1, 1), bias=False)\n",
            "Register a hook to perform Random Maps Ablation on layer  layer2.1.conv2 Conv2d(128, 128, kernel_size=(3, 3), stride=(1, 1), padding=(1, 1), bias=False)\n"
          ]
        },
        {
          "output_type": "stream",
          "name": "stderr",
          "text": [
            "\r 19%|█▉        | 3/16 [00:03<00:10,  1.30it/s]"
          ]
        },
        {
          "output_type": "stream",
          "name": "stdout",
          "text": [
            "mask_out_ratio:  0.5\n",
            "random_mask sum():  tensor(12832391., device='cuda:0')\n",
            "mask_out_ratio:  0.5\n",
            "random_mask sum():  tensor(6417140., device='cuda:0')\n",
            "Remove the hook used to perform Activation Shaping on layer  layer1.1.conv2\n",
            "Remove the hook used to perform Activation Shaping on layer  layer2.1.conv2\n",
            "Register a hook to perform Random Maps Ablation on layer  layer1.1.conv2 Conv2d(64, 64, kernel_size=(3, 3), stride=(1, 1), padding=(1, 1), bias=False)\n",
            "Register a hook to perform Random Maps Ablation on layer  layer2.1.conv2 Conv2d(128, 128, kernel_size=(3, 3), stride=(1, 1), padding=(1, 1), bias=False)\n",
            "mask_out_ratio:  0.5\n",
            "random_mask sum():  "
          ]
        },
        {
          "output_type": "stream",
          "name": "stderr",
          "text": [
            "\r 25%|██▌       | 4/16 [00:03<00:06,  1.83it/s]"
          ]
        },
        {
          "output_type": "stream",
          "name": "stdout",
          "text": [
            "tensor(12830942., device='cuda:0')\n",
            "mask_out_ratio:  0.5\n",
            "random_mask sum():  tensor(6419074., device='cuda:0')\n",
            "Remove the hook used to perform Activation Shaping on layer  layer1.1.conv2\n",
            "Remove the hook used to perform Activation Shaping on layer  layer2.1.conv2\n",
            "Register a hook to perform Random Maps Ablation on layer  layer1.1.conv2 Conv2d(64, 64, kernel_size=(3, 3), stride=(1, 1), padding=(1, 1), bias=False)\n",
            "Register a hook to perform Random Maps Ablation on layer  layer2.1.conv2 Conv2d(128, 128, kernel_size=(3, 3), stride=(1, 1), padding=(1, 1), bias=False)\n",
            "mask_out_ratio:  0.5\n",
            "random_mask sum():  "
          ]
        },
        {
          "output_type": "stream",
          "name": "stderr",
          "text": [
            "\r 31%|███▏      | 5/16 [00:03<00:04,  2.36it/s]"
          ]
        },
        {
          "output_type": "stream",
          "name": "stdout",
          "text": [
            "tensor(12831467., device='cuda:0')\n",
            "mask_out_ratio:  0.5\n",
            "random_mask sum():  tensor(6418542., device='cuda:0')\n",
            "Remove the hook used to perform Activation Shaping on layer  layer1.1.conv2\n",
            "Remove the hook used to perform Activation Shaping on layer  layer2.1.conv2\n",
            "Register a hook to perform Random Maps Ablation on layer  layer1.1.conv2 Conv2d(64, 64, kernel_size=(3, 3), stride=(1, 1), padding=(1, 1), bias=False)\n",
            "Register a hook to perform Random Maps Ablation on layer  layer2.1.conv2 Conv2d(128, 128, kernel_size=(3, 3), stride=(1, 1), padding=(1, 1), bias=False)\n",
            "mask_out_ratio:  0.5\n",
            "random_mask sum():  tensor(12829374., device='cuda:0')\n",
            "mask_out_ratio:  0.5\n",
            "random_mask sum():  tensor(6413242., device='cuda:0')\n",
            "Remove the hook used to perform Activation Shaping on layer  layer1.1.conv2\n",
            "Remove the hook used to perform Activation Shaping on layer  layer2.1.conv2\n"
          ]
        },
        {
          "output_type": "stream",
          "name": "stderr",
          "text": [
            " 44%|████▍     | 7/16 [00:05<00:06,  1.42it/s]"
          ]
        },
        {
          "output_type": "stream",
          "name": "stdout",
          "text": [
            "Register a hook to perform Random Maps Ablation on layer  layer1.1.conv2 Conv2d(64, 64, kernel_size=(3, 3), stride=(1, 1), padding=(1, 1), bias=False)\n",
            "Register a hook to perform Random Maps Ablation on layer  layer2.1.conv2 Conv2d(128, 128, kernel_size=(3, 3), stride=(1, 1), padding=(1, 1), bias=False)\n",
            "mask_out_ratio:  0.5\n",
            "random_mask sum():  tensor(12834363., device='cuda:0')\n",
            "mask_out_ratio:  0.5\n",
            "random_mask sum():  tensor(6416700., device='cuda:0')\n",
            "Remove the hook used to perform Activation Shaping on layer  layer1.1.conv2\n",
            "Remove the hook used to perform Activation Shaping on layer  layer2.1.conv2\n",
            "Register a hook to perform Random Maps Ablation on layer  layer1.1.conv2 Conv2d(64, 64, kernel_size=(3, 3), stride=(1, 1), padding=(1, 1), bias=False)\n",
            "Register a hook to perform Random Maps Ablation on layer  layer2.1.conv2 Conv2d(128, 128, kernel_size=(3, 3), stride=(1, 1), padding=(1, 1), bias=False)\n",
            "mask_out_ratio:  0.5\n",
            "random_mask sum():  tensor(12832060., device='cuda:0')\n",
            "mask_out_ratio:  0.5\n",
            "random_mask sum():  tensor(6414429., device='cuda:0')\n",
            "Remove the hook used to perform Activation Shaping on layer  layer1.1.conv2\n",
            "Remove the hook used to perform Activation Shaping on layer  layer2.1.conv2\n"
          ]
        },
        {
          "output_type": "stream",
          "name": "stderr",
          "text": [
            " 56%|█████▋    | 9/16 [00:05<00:03,  2.23it/s]"
          ]
        },
        {
          "output_type": "stream",
          "name": "stdout",
          "text": [
            "Register a hook to perform Random Maps Ablation on layer  layer1.1.conv2 Conv2d(64, 64, kernel_size=(3, 3), stride=(1, 1), padding=(1, 1), bias=False)\n",
            "Register a hook to perform Random Maps Ablation on layer  layer2.1.conv2 Conv2d(128, 128, kernel_size=(3, 3), stride=(1, 1), padding=(1, 1), bias=False)\n",
            "mask_out_ratio:  0.5\n",
            "random_mask sum():  tensor(12828369., device='cuda:0')\n",
            "mask_out_ratio:  0.5\n",
            "random_mask sum():  tensor(6414681., device='cuda:0')\n",
            "Remove the hook used to perform Activation Shaping on layer  layer1.1.conv2\n",
            "Remove the hook used to perform Activation Shaping on layer  layer2.1.conv2\n",
            "Register a hook to perform Random Maps Ablation on layer  layer1.1.conv2 Conv2d(64, 64, kernel_size=(3, 3), stride=(1, 1), padding=(1, 1), bias=False)\n",
            "Register a hook to perform Random Maps Ablation on layer  layer2.1.conv2 Conv2d(128, 128, kernel_size=(3, 3), stride=(1, 1), padding=(1, 1), bias=False)\n",
            "mask_out_ratio:  0.5\n",
            "random_mask sum():  tensor(12831102., device='cuda:0')\n",
            "mask_out_ratio:  0.5\n",
            "random_mask sum():  tensor(6417366., device='cuda:0')\n",
            "Remove the hook used to perform Activation Shaping on layer  layer1.1.conv2\n",
            "Remove the hook used to perform Activation Shaping on layer  layer2.1.conv2\n"
          ]
        },
        {
          "output_type": "stream",
          "name": "stderr",
          "text": [
            " 69%|██████▉   | 11/16 [00:07<00:04,  1.17it/s]"
          ]
        },
        {
          "output_type": "stream",
          "name": "stdout",
          "text": [
            "Register a hook to perform Random Maps Ablation on layer  layer1.1.conv2 Conv2d(64, 64, kernel_size=(3, 3), stride=(1, 1), padding=(1, 1), bias=False)\n",
            "Register a hook to perform Random Maps Ablation on layer  layer2.1.conv2 Conv2d(128, 128, kernel_size=(3, 3), stride=(1, 1), padding=(1, 1), bias=False)\n",
            "mask_out_ratio:  0.5\n",
            "random_mask sum():  tensor(12829942., device='cuda:0')\n",
            "mask_out_ratio:  0.5\n",
            "random_mask sum():  tensor(6411771., device='cuda:0')\n",
            "Remove the hook used to perform Activation Shaping on layer  layer1.1.conv2\n",
            "Remove the hook used to perform Activation Shaping on layer  layer2.1.conv2\n"
          ]
        },
        {
          "output_type": "stream",
          "name": "stderr",
          "text": [
            "\r 75%|███████▌  | 12/16 [00:08<00:02,  1.41it/s]"
          ]
        },
        {
          "output_type": "stream",
          "name": "stdout",
          "text": [
            "Register a hook to perform Random Maps Ablation on layer  layer1.1.conv2 Conv2d(64, 64, kernel_size=(3, 3), stride=(1, 1), padding=(1, 1), bias=False)\n",
            "Register a hook to perform Random Maps Ablation on layer  layer2.1.conv2 Conv2d(128, 128, kernel_size=(3, 3), stride=(1, 1), padding=(1, 1), bias=False)\n",
            "mask_out_ratio:  0.5\n",
            "random_mask sum():  tensor(12831029., device='cuda:0')\n",
            "mask_out_ratio:  0.5\n",
            "random_mask sum():  tensor(6417488., device='cuda:0')\n",
            "Remove the hook used to perform Activation Shaping on layer  layer1.1.conv2\n",
            "Remove the hook used to perform Activation Shaping on layer  layer2.1.conv2\n",
            "Register a hook to perform Random Maps Ablation on layer  layer1.1.conv2 Conv2d(64, 64, kernel_size=(3, 3), stride=(1, 1), padding=(1, 1), bias=False)\n",
            "Register a hook to perform Random Maps Ablation on layer  layer2.1.conv2 Conv2d(128, 128, kernel_size=(3, 3), stride=(1, 1), padding=(1, 1), bias=False)\n",
            "mask_out_ratio:  0.5\n",
            "random_mask sum():  tensor(12831249., device='cuda:0')"
          ]
        },
        {
          "output_type": "stream",
          "name": "stderr",
          "text": [
            "\r 81%|████████▏ | 13/16 [00:08<00:01,  1.82it/s]"
          ]
        },
        {
          "output_type": "stream",
          "name": "stdout",
          "text": [
            "\n",
            "mask_out_ratio:  0.5\n",
            "random_mask sum():  tensor(6417183., device='cuda:0')\n",
            "Remove the hook used to perform Activation Shaping on layer  layer1.1.conv2\n",
            "Remove the hook used to perform Activation Shaping on layer  layer2.1.conv2\n",
            "Register a hook to perform Random Maps Ablation on layer  layer1.1.conv2 Conv2d(64, 64, kernel_size=(3, 3), stride=(1, 1), padding=(1, 1), bias=False)\n",
            "Register a hook to perform Random Maps Ablation on layer  layer2.1.conv2 Conv2d(128, 128, kernel_size=(3, 3), stride=(1, 1), padding=(1, 1), bias=False)\n",
            "mask_out_ratio:  0.5\n",
            "random_mask sum():  tensor(12833297., device='cuda:0')\n",
            "mask_out_ratio:  0.5\n",
            "random_mask sum():  tensor(6415554., device='cuda:0')\n"
          ]
        },
        {
          "output_type": "stream",
          "name": "stderr",
          "text": [
            "\r 88%|████████▊ | 14/16 [00:08<00:00,  2.29it/s]"
          ]
        },
        {
          "output_type": "stream",
          "name": "stdout",
          "text": [
            "Remove the hook used to perform Activation Shaping on layer  layer1.1.conv2\n",
            "Remove the hook used to perform Activation Shaping on layer  layer2.1.conv2\n",
            "Register a hook to perform Random Maps Ablation on layer  layer1.1.conv2 Conv2d(64, 64, kernel_size=(3, 3), stride=(1, 1), padding=(1, 1), bias=False)\n",
            "Register a hook to perform Random Maps Ablation on layer  layer2.1.conv2 Conv2d(128, 128, kernel_size=(3, 3), stride=(1, 1), padding=(1, 1), bias=False)\n",
            "mask_out_ratio:  0.5\n",
            "random_mask sum():  tensor(12831041., device='cuda:0')\n",
            "mask_out_ratio:  0.5\n",
            "random_mask sum():  tensor(6415999., device='cuda:0')\n",
            "Remove the hook used to perform Activation Shaping on layer  layer1.1.conv2\n",
            "Remove the hook used to perform Activation Shaping on layer  layer2.1.conv2\n"
          ]
        },
        {
          "output_type": "stream",
          "name": "stderr",
          "text": [
            "100%|██████████| 16/16 [00:09<00:00,  1.78it/s]\n"
          ]
        },
        {
          "output_type": "stream",
          "name": "stdout",
          "text": [
            "Register a hook to perform Random Maps Ablation on layer  layer1.1.conv2 Conv2d(64, 64, kernel_size=(3, 3), stride=(1, 1), padding=(1, 1), bias=False)\n",
            "Register a hook to perform Random Maps Ablation on layer  layer2.1.conv2 Conv2d(128, 128, kernel_size=(3, 3), stride=(1, 1), padding=(1, 1), bias=False)\n",
            "mask_out_ratio:  0.5\n",
            "random_mask sum():  tensor(12830984., device='cuda:0')\n",
            "mask_out_ratio:  0.5\n",
            "random_mask sum():  tensor(6416653., device='cuda:0')\n",
            "Remove the hook used to perform Activation Shaping on layer  layer1.1.conv2\n",
            "Remove the hook used to perform Activation Shaping on layer  layer2.1.conv2\n"
          ]
        },
        {
          "output_type": "stream",
          "name": "stderr",
          "text": [
            "100%|██████████| 31/31 [00:10<00:00,  3.02it/s]\n"
          ]
        },
        {
          "output_type": "stream",
          "name": "stdout",
          "text": [
            "Accuracy: 29.88 - Loss: 0.014632669409045314 \n",
            "\n"
          ]
        },
        {
          "output_type": "stream",
          "name": "stderr",
          "text": [
            "\r  0%|          | 0/16 [00:00<?, ?it/s]"
          ]
        },
        {
          "output_type": "stream",
          "name": "stdout",
          "text": [
            "Register a hook to perform Random Maps Ablation on layer  layer1.1.conv2 Conv2d(64, 64, kernel_size=(3, 3), stride=(1, 1), padding=(1, 1), bias=False)\n",
            "Register a hook to perform Random Maps Ablation on layer  layer2.1.conv2 Conv2d(128, 128, kernel_size=(3, 3), stride=(1, 1), padding=(1, 1), bias=False)\n",
            "mask_out_ratio:  0.5\n",
            "random_mask sum():  tensor(12835151., device='cuda:0')\n",
            "mask_out_ratio:  0.5\n",
            "random_mask sum():  tensor(6415946., device='cuda:0')\n",
            "Remove the hook used to perform Activation Shaping on layer  layer1.1.conv2\n",
            "Remove the hook used to perform Activation Shaping on layer  layer2.1.conv2\n"
          ]
        },
        {
          "output_type": "stream",
          "name": "stderr",
          "text": [
            " 12%|█▎        | 2/16 [00:03<00:18,  1.32s/it]"
          ]
        },
        {
          "output_type": "stream",
          "name": "stdout",
          "text": [
            "Register a hook to perform Random Maps Ablation on layer  layer1.1.conv2 Conv2d(64, 64, kernel_size=(3, 3), stride=(1, 1), padding=(1, 1), bias=False)\n",
            "Register a hook to perform Random Maps Ablation on layer  layer2.1.conv2 Conv2d(128, 128, kernel_size=(3, 3), stride=(1, 1), padding=(1, 1), bias=False)\n",
            "mask_out_ratio:  0.5\n",
            "random_mask sum():  tensor(12834541., device='cuda:0')\n",
            "mask_out_ratio:  0.5\n",
            "random_mask sum():  tensor(6417688., device='cuda:0')\n",
            "Remove the hook used to perform Activation Shaping on layer  layer1.1.conv2\n",
            "Remove the hook used to perform Activation Shaping on layer  layer2.1.conv2\n"
          ]
        },
        {
          "output_type": "stream",
          "name": "stderr",
          "text": [
            "\r 19%|█▉        | 3/16 [00:03<00:10,  1.24it/s]"
          ]
        },
        {
          "output_type": "stream",
          "name": "stdout",
          "text": [
            "Register a hook to perform Random Maps Ablation on layer  layer1.1.conv2 Conv2d(64, 64, kernel_size=(3, 3), stride=(1, 1), padding=(1, 1), bias=False)\n",
            "Register a hook to perform Random Maps Ablation on layer  layer2.1.conv2 Conv2d(128, 128, kernel_size=(3, 3), stride=(1, 1), padding=(1, 1), bias=False)\n",
            "mask_out_ratio:  0.5\n",
            "random_mask sum():  tensor(12831241., device='cuda:0')\n",
            "mask_out_ratio:  0.5\n",
            "random_mask sum():  tensor(6413192., device='cuda:0')\n",
            "Remove the hook used to perform Activation Shaping on layer  layer1.1.conv2\n",
            "Remove the hook used to perform Activation Shaping on layer  layer2.1.conv2\n",
            "Register a hook to perform Random Maps Ablation on layer "
          ]
        },
        {
          "output_type": "stream",
          "name": "stderr",
          "text": [
            "\r 25%|██▌       | 4/16 [00:03<00:06,  1.75it/s]"
          ]
        },
        {
          "output_type": "stream",
          "name": "stdout",
          "text": [
            " layer1.1.conv2 Conv2d(64, 64, kernel_size=(3, 3), stride=(1, 1), padding=(1, 1), bias=False)\n",
            "Register a hook to perform Random Maps Ablation on layer  layer2.1.conv2 Conv2d(128, 128, kernel_size=(3, 3), stride=(1, 1), padding=(1, 1), bias=False)\n",
            "mask_out_ratio:  0.5\n",
            "random_mask sum():  tensor(12833682., device='cuda:0')\n",
            "mask_out_ratio:  0.5\n",
            "random_mask sum():  tensor(6417885., device='cuda:0')\n",
            "Remove the hook used to perform Activation Shaping on layer  layer1.1.conv2\n",
            "Remove the hook used to perform Activation Shaping on layer  layer2.1.conv2\n"
          ]
        },
        {
          "output_type": "stream",
          "name": "stderr",
          "text": [
            "\r 31%|███▏      | 5/16 [00:03<00:04,  2.30it/s]"
          ]
        },
        {
          "output_type": "stream",
          "name": "stdout",
          "text": [
            "Register a hook to perform Random Maps Ablation on layer  layer1.1.conv2 Conv2d(64, 64, kernel_size=(3, 3), stride=(1, 1), padding=(1, 1), bias=False)\n",
            "Register a hook to perform Random Maps Ablation on layer  layer2.1.conv2 Conv2d(128, 128, kernel_size=(3, 3), stride=(1, 1), padding=(1, 1), bias=False)\n",
            "mask_out_ratio:  0.5\n",
            "random_mask sum():  tensor(12833729., device='cuda:0')\n",
            "mask_out_ratio:  0.5\n",
            "random_mask sum():  tensor(6417608., device='cuda:0')\n",
            "Remove the hook used to perform Activation Shaping on layer  layer1.1.conv2\n",
            "Remove the hook used to perform Activation Shaping on layer  layer2.1.conv2\n",
            "Register a hook to perform Random Maps Ablation on layer  layer1.1.conv2 Conv2d(64, 64, kernel_size=(3, 3), stride=(1, 1), padding=(1, 1), bias=False)\n",
            "Register a hook to perform Random Maps Ablation on layer  layer2.1.conv2 Conv2d(128, 128, kernel_size=(3, 3), stride=(1, 1), padding=(1, 1), bias=False)\n",
            "mask_out_ratio:  0.5\n",
            "random_mask sum():  tensor(12831635., device='cuda:0')\n",
            "mask_out_ratio:  0.5\n",
            "random_mask sum():  tensor(6415819., device='cuda:0')\n",
            "Remove the hook used to perform Activation Shaping on layer  layer1.1.conv2\n",
            "Remove the hook used to perform Activation Shaping on layer  layer2.1.conv2\n"
          ]
        },
        {
          "output_type": "stream",
          "name": "stderr",
          "text": [
            " 44%|████▍     | 7/16 [00:05<00:05,  1.59it/s]"
          ]
        },
        {
          "output_type": "stream",
          "name": "stdout",
          "text": [
            "Register a hook to perform Random Maps Ablation on layer  layer1.1.conv2 Conv2d(64, 64, kernel_size=(3, 3), stride=(1, 1), padding=(1, 1), bias=False)\n",
            "Register a hook to perform Random Maps Ablation on layer  layer2.1.conv2 Conv2d(128, 128, kernel_size=(3, 3), stride=(1, 1), padding=(1, 1), bias=False)\n",
            "mask_out_ratio:  0.5\n",
            "random_mask sum():  tensor(12834660., device='cuda:0')\n",
            "mask_out_ratio:  0.5\n",
            "random_mask sum():  tensor(6416900., device='cuda:0')\n",
            "Remove the hook used to perform Activation Shaping on layer  layer1.1.conv2\n",
            "Remove the hook used to perform Activation Shaping on layer  layer2.1.conv2\n"
          ]
        },
        {
          "output_type": "stream",
          "name": "stderr",
          "text": [
            "\r 50%|█████     | 8/16 [00:05<00:03,  2.02it/s]"
          ]
        },
        {
          "output_type": "stream",
          "name": "stdout",
          "text": [
            "Register a hook to perform Random Maps Ablation on layer  layer1.1.conv2 Conv2d(64, 64, kernel_size=(3, 3), stride=(1, 1), padding=(1, 1), bias=False)\n",
            "Register a hook to perform Random Maps Ablation on layer  layer2.1.conv2 Conv2d(128, 128, kernel_size=(3, 3), stride=(1, 1), padding=(1, 1), bias=False)\n",
            "mask_out_ratio:  0.5\n",
            "random_mask sum():  tensor(12830847., device='cuda:0')\n",
            "mask_out_ratio:  0.5\n",
            "random_mask sum():  tensor(6416544., device='cuda:0')\n",
            "Remove the hook used to perform Activation Shaping on layer  layer1.1.conv2\n",
            "Remove the hook used to perform Activation Shaping on layer  layer2.1.conv2\n",
            "Register a hook to perform Random Maps Ablation on layer  layer1.1.conv2 Conv2d(64, 64, kernel_size=(3, 3), stride=(1, 1), padding=(1, 1), bias=False)\n",
            "Register a hook to perform Random Maps Ablation on layer  layer2.1.conv2 Conv2d(128, 128, kernel_size=(3, 3), stride=(1, 1), padding=(1, 1), bias=False)\n",
            "mask_out_ratio:  0.5\n"
          ]
        },
        {
          "output_type": "stream",
          "name": "stderr",
          "text": [
            "\r 56%|█████▋    | 9/16 [00:05<00:02,  2.53it/s]"
          ]
        },
        {
          "output_type": "stream",
          "name": "stdout",
          "text": [
            "random_mask sum():  tensor(12836153., device='cuda:0')\n",
            "mask_out_ratio:  0.5\n",
            "random_mask sum():  tensor(6420886., device='cuda:0')\n",
            "Remove the hook used to perform Activation Shaping on layer  layer1.1.conv2\n",
            "Remove the hook used to perform Activation Shaping on layer  layer2.1.conv2\n",
            "Register a hook to perform Random Maps Ablation on layer  layer1.1.conv2 Conv2d(64, 64, kernel_size=(3, 3), stride=(1, 1), padding=(1, 1), bias=False)\n",
            "Register a hook to perform Random Maps Ablation on layer  layer2.1.conv2 Conv2d(128, 128, kernel_size=(3, 3), stride=(1, 1), padding=(1, 1), bias=False)\n",
            "mask_out_ratio:  0.5\n",
            "random_mask sum():  "
          ]
        },
        {
          "output_type": "stream",
          "name": "stderr",
          "text": [
            "\r 62%|██████▎   | 10/16 [00:06<00:02,  2.99it/s]"
          ]
        },
        {
          "output_type": "stream",
          "name": "stdout",
          "text": [
            "tensor(12833977., device='cuda:0')\n",
            "mask_out_ratio:  0.5\n",
            "random_mask sum():  tensor(6419427., device='cuda:0')\n",
            "Remove the hook used to perform Activation Shaping on layer  layer1.1.conv2\n",
            "Remove the hook used to perform Activation Shaping on layer  layer2.1.conv2\n"
          ]
        },
        {
          "output_type": "stream",
          "name": "stderr",
          "text": [
            "\r 69%|██████▉   | 11/16 [00:07<00:03,  1.62it/s]"
          ]
        },
        {
          "output_type": "stream",
          "name": "stdout",
          "text": [
            "Register a hook to perform Random Maps Ablation on layer  layer1.1.conv2 Conv2d(64, 64, kernel_size=(3, 3), stride=(1, 1), padding=(1, 1), bias=False)\n",
            "Register a hook to perform Random Maps Ablation on layer  layer2.1.conv2 Conv2d(128, 128, kernel_size=(3, 3), stride=(1, 1), padding=(1, 1), bias=False)\n",
            "mask_out_ratio:  0.5\n",
            "random_mask sum():  tensor(12836266., device='cuda:0')\n",
            "mask_out_ratio:  0.5\n",
            "random_mask sum():  tensor(6415829., device='cuda:0')\n",
            "Remove the hook used to perform Activation Shaping on layer  layer1.1.conv2\n",
            "Remove the hook used to perform Activation Shaping on layer  layer2.1.conv2\n",
            "Register a hook to perform Random Maps Ablation on layer  layer1.1.conv2 Conv2d(64, 64, kernel_size=(3, 3), stride=(1, 1), padding=(1, 1), bias=False)\n",
            "Register a hook to perform Random Maps Ablation on layer  layer2.1.conv2 Conv2d(128, 128, kernel_size=(3, 3), stride=(1, 1), padding=(1, 1), bias=False)\n",
            "mask_out_ratio:  0.5\n",
            "random_mask sum():  "
          ]
        },
        {
          "output_type": "stream",
          "name": "stderr",
          "text": [
            "\r 75%|███████▌  | 12/16 [00:07<00:01,  2.07it/s]"
          ]
        },
        {
          "output_type": "stream",
          "name": "stdout",
          "text": [
            "tensor(12832746., device='cuda:0')\n",
            "mask_out_ratio:  0.5\n",
            "random_mask sum():  tensor(6414543., device='cuda:0')\n",
            "Remove the hook used to perform Activation Shaping on layer  layer1.1.conv2\n",
            "Remove the hook used to perform Activation Shaping on layer  layer2.1.conv2\n",
            "Register a hook to perform Random Maps Ablation on layer  layer1.1.conv2 Conv2d(64, 64, kernel_size=(3, 3), stride=(1, 1), padding=(1, 1), bias=False)\n",
            "Register a hook to perform Random Maps Ablation on layer  layer2.1.conv2 Conv2d(128, 128, kernel_size=(3, 3), stride=(1, 1), padding=(1, 1), bias=False)\n",
            "mask_out_ratio:  0.5\n",
            "random_mask sum():  tensor(12828731., device='cuda:0')\n",
            "mask_out_ratio:  0.5\n",
            "random_mask sum():  tensor(6418417., device='cuda:0')\n",
            "Remove the hook used to perform Activation Shaping on layer  layer1.1.conv2\n",
            "Remove the hook used to perform Activation Shaping on layer  layer2.1.conv2\n"
          ]
        },
        {
          "output_type": "stream",
          "name": "stderr",
          "text": [
            " 88%|████████▊ | 14/16 [00:07<00:00,  3.10it/s]"
          ]
        },
        {
          "output_type": "stream",
          "name": "stdout",
          "text": [
            "Register a hook to perform Random Maps Ablation on layer  layer1.1.conv2 Conv2d(64, 64, kernel_size=(3, 3), stride=(1, 1), padding=(1, 1), bias=False)\n",
            "Register a hook to perform Random Maps Ablation on layer  layer2.1.conv2 Conv2d(128, 128, kernel_size=(3, 3), stride=(1, 1), padding=(1, 1), bias=False)\n",
            "mask_out_ratio:  0.5\n",
            "random_mask sum():  tensor(12829201., device='cuda:0')\n",
            "mask_out_ratio:  0.5\n",
            "random_mask sum():  tensor(6416917., device='cuda:0')\n",
            "Remove the hook used to perform Activation Shaping on layer  layer1.1.conv2\n",
            "Remove the hook used to perform Activation Shaping on layer  layer2.1.conv2\n",
            "Register a hook to perform Random Maps Ablation on layer  layer1.1.conv2 Conv2d(64, 64, kernel_size=(3, 3), stride=(1, 1), padding=(1, 1), bias=False)\n",
            "Register a hook to perform Random Maps Ablation on layer  layer2.1.conv2 Conv2d(128, 128, kernel_size=(3, 3), stride=(1, 1), padding=(1, 1), bias=False)\n",
            "mask_out_ratio:  0.5\n",
            "random_mask sum():  "
          ]
        },
        {
          "output_type": "stream",
          "name": "stderr",
          "text": [
            "\r 94%|█████████▍| 15/16 [00:08<00:00,  3.62it/s]"
          ]
        },
        {
          "output_type": "stream",
          "name": "stdout",
          "text": [
            "tensor(12833308., device='cuda:0')\n",
            "mask_out_ratio:  0.5\n",
            "random_mask sum():  tensor(6415548., device='cuda:0')\n",
            "Remove the hook used to perform Activation Shaping on layer  layer1.1.conv2\n",
            "Remove the hook used to perform Activation Shaping on layer  layer2.1.conv2\n",
            "Register a hook to perform Random Maps Ablation on layer  layer1.1.conv2 Conv2d(64, 64, kernel_size=(3, 3), stride=(1, 1), padding=(1, 1), bias=False)\n",
            "Register a hook to perform Random Maps Ablation on layer  layer2.1.conv2 Conv2d(128, 128, kernel_size=(3, 3), stride=(1, 1), padding=(1, 1), bias=False)\n",
            "mask_out_ratio:  0.5\n",
            "random_mask sum():  tensor(12833287., device='cuda:0')\n",
            "mask_out_ratio:  0.5\n",
            "random_mask sum():  tensor(6418063., device='cuda:0')\n",
            "Remove the hook used to perform Activation Shaping on layer  layer1.1.conv2\n",
            "Remove the hook used to perform Activation Shaping on layer  layer2.1.conv2\n"
          ]
        },
        {
          "output_type": "stream",
          "name": "stderr",
          "text": [
            "100%|██████████| 16/16 [00:08<00:00,  1.94it/s]\n",
            "100%|██████████| 31/31 [00:10<00:00,  2.88it/s]\n"
          ]
        },
        {
          "output_type": "stream",
          "name": "stdout",
          "text": [
            "Accuracy: 31.03 - Loss: 0.014596679004951724 \n",
            "\n"
          ]
        },
        {
          "output_type": "stream",
          "name": "stderr",
          "text": [
            "\r  0%|          | 0/16 [00:00<?, ?it/s]"
          ]
        },
        {
          "output_type": "stream",
          "name": "stdout",
          "text": [
            "Register a hook to perform Random Maps Ablation on layer  layer1.1.conv2 Conv2d(64, 64, kernel_size=(3, 3), stride=(1, 1), padding=(1, 1), bias=False)\n",
            "Register a hook to perform Random Maps Ablation on layer  layer2.1.conv2 Conv2d(128, 128, kernel_size=(3, 3), stride=(1, 1), padding=(1, 1), bias=False)\n",
            "mask_out_ratio:  0.5\n",
            "random_mask sum():  tensor(12832544., device='cuda:0')\n",
            "mask_out_ratio:  0.5\n",
            "random_mask sum():  tensor(6416449., device='cuda:0')\n",
            "Remove the hook used to perform Activation Shaping on layer  layer1.1.conv2\n",
            "Remove the hook used to perform Activation Shaping on layer  layer2.1.conv2\n"
          ]
        },
        {
          "output_type": "stream",
          "name": "stderr",
          "text": [
            " 12%|█▎        | 2/16 [00:02<00:17,  1.26s/it]"
          ]
        },
        {
          "output_type": "stream",
          "name": "stdout",
          "text": [
            "Register a hook to perform Random Maps Ablation on layer  layer1.1.conv2 Conv2d(64, 64, kernel_size=(3, 3), stride=(1, 1), padding=(1, 1), bias=False)\n",
            "Register a hook to perform Random Maps Ablation on layer  layer2.1.conv2 Conv2d(128, 128, kernel_size=(3, 3), stride=(1, 1), padding=(1, 1), bias=False)\n",
            "mask_out_ratio:  0.5\n",
            "random_mask sum():  tensor(12827587., device='cuda:0')\n",
            "mask_out_ratio:  0.5\n",
            "random_mask sum():  tensor(6420114., device='cuda:0')\n",
            "Remove the hook used to perform Activation Shaping on layer  layer1.1.conv2\n",
            "Remove the hook used to perform Activation Shaping on layer  layer2.1.conv2\n",
            "Register a hook to perform Random Maps Ablation on layer  layer1.1.conv2 Conv2d(64, 64, kernel_size=(3, 3), stride=(1, 1), padding=(1, 1), bias=False)\n",
            "Register a hook to perform Random Maps Ablation on layer  layer2.1.conv2 Conv2d(128, 128, kernel_size=(3, 3), stride=(1, 1), padding=(1, 1), bias=False)\n",
            "mask_out_ratio:  0.5\n",
            "random_mask sum():  "
          ]
        },
        {
          "output_type": "stream",
          "name": "stderr",
          "text": [
            "\r 19%|█▉        | 3/16 [00:03<00:10,  1.28it/s]"
          ]
        },
        {
          "output_type": "stream",
          "name": "stdout",
          "text": [
            "tensor(12834285., device='cuda:0')\n",
            "mask_out_ratio:  0.5\n",
            "random_mask sum():  tensor(6414947., device='cuda:0')\n",
            "Remove the hook used to perform Activation Shaping on layer  layer1.1.conv2\n",
            "Remove the hook used to perform Activation Shaping on layer  layer2.1.conv2\n",
            "Register a hook to perform Random Maps Ablation on layer  layer1.1.conv2 Conv2d(64, 64, kernel_size=(3, 3), stride=(1, 1), padding=(1, 1), bias=False)\n",
            "Register a hook to perform Random Maps Ablation on layer  layer2.1.conv2 Conv2d(128, 128, kernel_size=(3, 3), stride=(1, 1), padding=(1, 1), bias=False)"
          ]
        },
        {
          "output_type": "stream",
          "name": "stderr",
          "text": [
            "\r 25%|██▌       | 4/16 [00:03<00:06,  1.82it/s]"
          ]
        },
        {
          "output_type": "stream",
          "name": "stdout",
          "text": [
            "\n",
            "mask_out_ratio:  0.5\n",
            "random_mask sum():  tensor(12835782., device='cuda:0')\n",
            "mask_out_ratio:  0.5\n",
            "random_mask sum():  tensor(6415360., device='cuda:0')\n",
            "Remove the hook used to perform Activation Shaping on layer  layer1.1.conv2\n",
            "Remove the hook used to perform Activation Shaping on layer  layer2.1.conv2\n",
            "Register a hook to perform Random Maps Ablation on layer  layer1.1.conv2 Conv2d(64, 64, kernel_size=(3, 3), stride=(1, 1), padding=(1, 1), bias=False)\n",
            "Register a hook to perform Random Maps Ablation on layer  layer2.1.conv2 Conv2d(128, 128, kernel_size=(3, 3), stride=(1, 1), padding=(1, 1), bias=False)\n",
            "mask_out_ratio:  0.5\n",
            "random_mask sum():  "
          ]
        },
        {
          "output_type": "stream",
          "name": "stderr",
          "text": [
            "\r 31%|███▏      | 5/16 [00:03<00:04,  2.38it/s]"
          ]
        },
        {
          "output_type": "stream",
          "name": "stdout",
          "text": [
            "tensor(12831971., device='cuda:0')\n",
            "mask_out_ratio:  0.5\n",
            "random_mask sum():  tensor(6416821., device='cuda:0')\n",
            "Remove the hook used to perform Activation Shaping on layer  layer1.1.conv2\n",
            "Remove the hook used to perform Activation Shaping on layer  layer2.1.conv2\n",
            "Register a hook to perform Random Maps Ablation on layer  layer1.1.conv2 Conv2d(64, 64, kernel_size=(3, 3), stride=(1, 1), padding=(1, 1), bias=False)\n",
            "Register a hook to perform Random Maps Ablation on layer  layer2.1.conv2 Conv2d(128, 128, kernel_size=(3, 3), stride=(1, 1), padding=(1, 1), bias=False)\n",
            "mask_out_ratio:  0.5\n",
            "random_mask sum():  tensor(12837262., device='cuda:0')\n",
            "mask_out_ratio:  0.5\n",
            "random_mask sum():  tensor(6417600., device='cuda:0')\n",
            "Remove the hook used to perform Activation Shaping on layer  layer1.1.conv2\n",
            "Remove the hook used to perform Activation Shaping on layer  layer2.1.conv2\n"
          ]
        },
        {
          "output_type": "stream",
          "name": "stderr",
          "text": [
            "\r 38%|███▊      | 6/16 [00:04<00:07,  1.35it/s]"
          ]
        },
        {
          "output_type": "stream",
          "name": "stdout",
          "text": [
            "Register a hook to perform Random Maps Ablation on layer  layer1.1.conv2 Conv2d(64, 64, kernel_size=(3, 3), stride=(1, 1), padding=(1, 1), bias=False)\n",
            "Register a hook to perform Random Maps Ablation on layer  layer2.1.conv2 Conv2d(128, 128, kernel_size=(3, 3), stride=(1, 1), padding=(1, 1), bias=False)\n",
            "mask_out_ratio:  0.5\n",
            "random_mask sum():  tensor(12829531., device='cuda:0')\n",
            "mask_out_ratio:  0.5\n",
            "random_mask sum():  tensor(6415996., device='cuda:0')\n",
            "Remove the hook used to perform Activation Shaping on layer  layer1.1.conv2\n",
            "Remove the hook used to perform Activation Shaping on layer  layer2.1.conv2\n"
          ]
        },
        {
          "output_type": "stream",
          "name": "stderr",
          "text": [
            " 50%|█████     | 8/16 [00:06<00:05,  1.51it/s]"
          ]
        },
        {
          "output_type": "stream",
          "name": "stdout",
          "text": [
            "Register a hook to perform Random Maps Ablation on layer  layer1.1.conv2 Conv2d(64, 64, kernel_size=(3, 3), stride=(1, 1), padding=(1, 1), bias=False)\n",
            "Register a hook to perform Random Maps Ablation on layer  layer2.1.conv2 Conv2d(128, 128, kernel_size=(3, 3), stride=(1, 1), padding=(1, 1), bias=False)\n",
            "mask_out_ratio:  0.5\n",
            "random_mask sum():  tensor(12834217., device='cuda:0')\n",
            "mask_out_ratio:  0.5\n",
            "random_mask sum():  tensor(6412693., device='cuda:0')\n",
            "Remove the hook used to perform Activation Shaping on layer  layer1.1.conv2\n",
            "Remove the hook used to perform Activation Shaping on layer  layer2.1.conv2\n",
            "Register a hook to perform Random Maps Ablation on layer  layer1.1.conv2 Conv2d(64, 64, kernel_size=(3, 3), stride=(1, 1), padding=(1, 1), bias=False)\n",
            "Register a hook to perform Random Maps Ablation on layer  layer2.1.conv2 Conv2d(128, 128, kernel_size=(3, 3), stride=(1, 1), padding=(1, 1), bias=False)\n",
            "mask_out_ratio:  0.5\n",
            "random_mask sum():  tensor(12830573., device='cuda:0')\n",
            "mask_out_ratio:  0.5\n",
            "random_mask sum():  tensor(6417434., device='cuda:0')\n",
            "Remove the hook used to perform Activation Shaping on layer  layer1.1.conv2\n",
            "Remove the hook used to perform Activation Shaping on layer  layer2.1.conv2\n"
          ]
        },
        {
          "output_type": "stream",
          "name": "stderr",
          "text": [
            " 62%|██████▎   | 10/16 [00:06<00:02,  2.32it/s]"
          ]
        },
        {
          "output_type": "stream",
          "name": "stdout",
          "text": [
            "Register a hook to perform Random Maps Ablation on layer  layer1.1.conv2 Conv2d(64, 64, kernel_size=(3, 3), stride=(1, 1), padding=(1, 1), bias=False)\n",
            "Register a hook to perform Random Maps Ablation on layer  layer2.1.conv2 Conv2d(128, 128, kernel_size=(3, 3), stride=(1, 1), padding=(1, 1), bias=False)\n",
            "mask_out_ratio:  0.5\n",
            "random_mask sum():  tensor(12831688., device='cuda:0')\n",
            "mask_out_ratio:  0.5\n",
            "random_mask sum():  tensor(6416602., device='cuda:0')\n",
            "Remove the hook used to perform Activation Shaping on layer  layer1.1.conv2\n",
            "Remove the hook used to perform Activation Shaping on layer  layer2.1.conv2\n"
          ]
        },
        {
          "output_type": "stream",
          "name": "stderr",
          "text": [
            "\r 69%|██████▉   | 11/16 [00:07<00:03,  1.41it/s]"
          ]
        },
        {
          "output_type": "stream",
          "name": "stdout",
          "text": [
            "Register a hook to perform Random Maps Ablation on layer  layer1.1.conv2 Conv2d(64, 64, kernel_size=(3, 3), stride=(1, 1), padding=(1, 1), bias=False)\n",
            "Register a hook to perform Random Maps Ablation on layer  layer2.1.conv2 Conv2d(128, 128, kernel_size=(3, 3), stride=(1, 1), padding=(1, 1), bias=False)\n",
            "mask_out_ratio:  0.5\n",
            "random_mask sum():  tensor(12836114., device='cuda:0')\n",
            "mask_out_ratio:  0.5\n",
            "random_mask sum():  tensor(6416787., device='cuda:0')\n",
            "Remove the hook used to perform Activation Shaping on layer  layer1.1.conv2\n",
            "Remove the hook used to perform Activation Shaping on layer  layer2.1.conv2\n"
          ]
        },
        {
          "output_type": "stream",
          "name": "stderr",
          "text": [
            "\r 75%|███████▌  | 12/16 [00:08<00:02,  1.71it/s]"
          ]
        },
        {
          "output_type": "stream",
          "name": "stdout",
          "text": [
            "Register a hook to perform Random Maps Ablation on layer  layer1.1.conv2 Conv2d(64, 64, kernel_size=(3, 3), stride=(1, 1), padding=(1, 1), bias=False)\n",
            "Register a hook to perform Random Maps Ablation on layer  layer2.1.conv2 Conv2d(128, 128, kernel_size=(3, 3), stride=(1, 1), padding=(1, 1), bias=False)\n",
            "mask_out_ratio:  0.5\n",
            "random_mask sum():  tensor(12835527., device='cuda:0')\n",
            "mask_out_ratio:  0.5\n",
            "random_mask sum():  tensor(6415635., device='cuda:0')\n",
            "Remove the hook used to perform Activation Shaping on layer  layer1.1.conv2\n",
            "Remove the hook used to perform Activation Shaping on layer  layer2.1.conv2\n",
            "Register a hook to perform Random Maps Ablation on layer  layer1.1.conv2 Conv2d(64, 64, kernel_size=(3, 3), stride=(1, 1), padding=(1, 1), bias=False)\n",
            "Register a hook to perform Random Maps Ablation on layer  layer2.1.conv2 Conv2d(128, 128, kernel_size=(3, 3), stride=(1, 1), padding=(1, 1), bias=False)\n",
            "mask_out_ratio:  0.5\n",
            "random_mask sum():  "
          ]
        },
        {
          "output_type": "stream",
          "name": "stderr",
          "text": [
            "\r 81%|████████▏ | 13/16 [00:08<00:01,  2.17it/s]"
          ]
        },
        {
          "output_type": "stream",
          "name": "stdout",
          "text": [
            "tensor(12829520., device='cuda:0')\n",
            "mask_out_ratio:  0.5\n",
            "random_mask sum():  tensor(6412790., device='cuda:0')\n",
            "Remove the hook used to perform Activation Shaping on layer  layer1.1.conv2\n",
            "Remove the hook used to perform Activation Shaping on layer  layer2.1.conv2\n",
            "Register a hook to perform Random Maps Ablation on layer  layer1.1.conv2 Conv2d(64, 64, kernel_size=(3, 3), stride=(1, 1), padding=(1, 1), bias=False)\n",
            "Register a hook to perform Random Maps Ablation on layer  layer2.1.conv2 Conv2d(128, 128, kernel_size=(3, 3), stride=(1, 1), padding=(1, 1), bias=False)\n",
            "mask_out_ratio:  0.5\n",
            "random_mask sum():  tensor(12831245., device='cuda:0')\n",
            "mask_out_ratio:  0.5\n",
            "random_mask sum():  tensor(6415683., device='cuda:0')\n",
            "Remove the hook used to perform Activation Shaping on layer  layer1.1.conv2\n"
          ]
        },
        {
          "output_type": "stream",
          "name": "stderr",
          "text": [
            "\r 88%|████████▊ | 14/16 [00:08<00:00,  2.67it/s]"
          ]
        },
        {
          "output_type": "stream",
          "name": "stdout",
          "text": [
            "Remove the hook used to perform Activation Shaping on layer  layer2.1.conv2\n",
            "Register a hook to perform Random Maps Ablation on layer  layer1.1.conv2 Conv2d(64, 64, kernel_size=(3, 3), stride=(1, 1), padding=(1, 1), bias=False)\n",
            "Register a hook to perform Random Maps Ablation on layer  layer2.1.conv2 Conv2d(128, 128, kernel_size=(3, 3), stride=(1, 1), padding=(1, 1), bias=False)\n",
            "mask_out_ratio:  0.5\n",
            "random_mask sum():  tensor(12832359., device='cuda:0')\n",
            "mask_out_ratio:  0.5\n",
            "random_mask sum():  tensor(6418124., device='cuda:0')\n",
            "Remove the hook used to perform Activation Shaping on layer  layer1.1.conv2\n",
            "Remove the hook used to perform Activation Shaping on layer  layer2.1.conv2\n"
          ]
        },
        {
          "output_type": "stream",
          "name": "stderr",
          "text": [
            "100%|██████████| 16/16 [00:08<00:00,  1.79it/s]\n"
          ]
        },
        {
          "output_type": "stream",
          "name": "stdout",
          "text": [
            "Register a hook to perform Random Maps Ablation on layer  layer1.1.conv2 Conv2d(64, 64, kernel_size=(3, 3), stride=(1, 1), padding=(1, 1), bias=False)\n",
            "Register a hook to perform Random Maps Ablation on layer  layer2.1.conv2 Conv2d(128, 128, kernel_size=(3, 3), stride=(1, 1), padding=(1, 1), bias=False)\n",
            "mask_out_ratio:  0.5\n",
            "random_mask sum():  tensor(12836212., device='cuda:0')\n",
            "mask_out_ratio:  0.5\n",
            "random_mask sum():  tensor(6419013., device='cuda:0')\n",
            "Remove the hook used to perform Activation Shaping on layer  layer1.1.conv2\n",
            "Remove the hook used to perform Activation Shaping on layer  layer2.1.conv2\n"
          ]
        },
        {
          "output_type": "stream",
          "name": "stderr",
          "text": [
            "100%|██████████| 31/31 [00:10<00:00,  2.89it/s]\n"
          ]
        },
        {
          "output_type": "stream",
          "name": "stdout",
          "text": [
            "Accuracy: 32.27 - Loss: 0.014197330494271675 \n",
            "\n"
          ]
        },
        {
          "output_type": "stream",
          "name": "stderr",
          "text": [
            "\r  0%|          | 0/16 [00:00<?, ?it/s]"
          ]
        },
        {
          "output_type": "stream",
          "name": "stdout",
          "text": [
            "Register a hook to perform Random Maps Ablation on layer  layer1.1.conv2 Conv2d(64, 64, kernel_size=(3, 3), stride=(1, 1), padding=(1, 1), bias=False)\n",
            "Register a hook to perform Random Maps Ablation on layer  layer2.1.conv2 Conv2d(128, 128, kernel_size=(3, 3), stride=(1, 1), padding=(1, 1), bias=False)\n",
            "mask_out_ratio:  0.5\n",
            "random_mask sum():  tensor(12831729., device='cuda:0')\n",
            "mask_out_ratio:  0.5\n",
            "random_mask sum():  tensor(6417672., device='cuda:0')\n",
            "Remove the hook used to perform Activation Shaping on layer  layer1.1.conv2\n",
            "Remove the hook used to perform Activation Shaping on layer  layer2.1.conv2\n"
          ]
        },
        {
          "output_type": "stream",
          "name": "stderr",
          "text": [
            "\r  6%|▋         | 1/16 [00:02<00:34,  2.30s/it]"
          ]
        },
        {
          "output_type": "stream",
          "name": "stdout",
          "text": [
            "Register a hook to perform Random Maps Ablation on layer  layer1.1.conv2 Conv2d(64, 64, kernel_size=(3, 3), stride=(1, 1), padding=(1, 1), bias=False)\n",
            "Register a hook to perform Random Maps Ablation on layer  layer2.1.conv2 Conv2d(128, 128, kernel_size=(3, 3), stride=(1, 1), padding=(1, 1), bias=False)\n",
            "mask_out_ratio:  0.5\n",
            "random_mask sum():  tensor(12829041., device='cuda:0')\n",
            "mask_out_ratio:  0.5\n",
            "random_mask sum():  tensor(6415904., device='cuda:0')\n",
            "Remove the hook used to perform Activation Shaping on layer  layer1.1.conv2\n",
            "Remove the hook used to perform Activation Shaping on layer  layer2.1.conv2\n"
          ]
        },
        {
          "output_type": "stream",
          "name": "stderr",
          "text": [
            " 19%|█▉        | 3/16 [00:02<00:08,  1.45it/s]"
          ]
        },
        {
          "output_type": "stream",
          "name": "stdout",
          "text": [
            "Register a hook to perform Random Maps Ablation on layer  layer1.1.conv2 Conv2d(64, 64, kernel_size=(3, 3), stride=(1, 1), padding=(1, 1), bias=False)\n",
            "Register a hook to perform Random Maps Ablation on layer  layer2.1.conv2 Conv2d(128, 128, kernel_size=(3, 3), stride=(1, 1), padding=(1, 1), bias=False)\n",
            "mask_out_ratio:  0.5\n",
            "random_mask sum():  tensor(12831084., device='cuda:0')\n",
            "mask_out_ratio:  0.5\n",
            "random_mask sum():  tensor(6419104., device='cuda:0')\n",
            "Remove the hook used to perform Activation Shaping on layer  layer1.1.conv2\n",
            "Remove the hook used to perform Activation Shaping on layer  layer2.1.conv2\n"
          ]
        },
        {
          "output_type": "stream",
          "name": "stderr",
          "text": [
            "\r 25%|██▌       | 4/16 [00:02<00:06,  1.98it/s]"
          ]
        },
        {
          "output_type": "stream",
          "name": "stdout",
          "text": [
            "Register a hook to perform Random Maps Ablation on layer  layer1.1.conv2 Conv2d(64, 64, kernel_size=(3, 3), stride=(1, 1), padding=(1, 1), bias=False)\n",
            "Register a hook to perform Random Maps Ablation on layer  layer2.1.conv2 Conv2d(128, 128, kernel_size=(3, 3), stride=(1, 1), padding=(1, 1), bias=False)\n",
            "mask_out_ratio:  0.5\n",
            "random_mask sum():  tensor(12831000., device='cuda:0')\n",
            "mask_out_ratio:  0.5\n",
            "random_mask sum():  tensor(6415112., device='cuda:0')\n",
            "Remove the hook used to perform Activation Shaping on layer  layer1.1.conv2\n",
            "Remove the hook used to perform Activation Shaping on layer  layer2.1.conv2\n",
            "Register a hook to perform Random Maps Ablation on layer  layer1.1.conv2 Conv2d(64, 64, kernel_size=(3, 3), stride=(1, 1), padding=(1, 1), bias=False)\n",
            "Register a hook to perform Random Maps Ablation on layer  layer2.1.conv2 Conv2d(128, 128, kernel_size=(3, 3), stride=(1, 1), padding=(1, 1), bias=False)\n"
          ]
        },
        {
          "output_type": "stream",
          "name": "stderr",
          "text": [
            "\r 31%|███▏      | 5/16 [00:03<00:04,  2.52it/s]"
          ]
        },
        {
          "output_type": "stream",
          "name": "stdout",
          "text": [
            "mask_out_ratio:  0.5\n",
            "random_mask sum():  tensor(12832802., device='cuda:0')\n",
            "mask_out_ratio:  0.5\n",
            "random_mask sum():  tensor(6415076., device='cuda:0')\n",
            "Remove the hook used to perform Activation Shaping on layer  layer1.1.conv2\n",
            "Remove the hook used to perform Activation Shaping on layer  layer2.1.conv2\n",
            "Register a hook to perform Random Maps Ablation on layer  layer1.1.conv2 Conv2d(64, 64, kernel_size=(3, 3), stride=(1, 1), padding=(1, 1), bias=False)\n",
            "Register a hook to perform Random Maps Ablation on layer  layer2.1.conv2 Conv2d(128, 128, kernel_size=(3, 3), stride=(1, 1), padding=(1, 1), bias=False)\n",
            "mask_out_ratio:  0.5\n",
            "random_mask sum():  tensor(12829187., device='cuda:0')\n",
            "mask_out_ratio:  0.5\n",
            "random_mask sum():  tensor(6416551., device='cuda:0')\n",
            "Remove the hook used to perform Activation Shaping on layer  layer1.1.conv2\n",
            "Remove the hook used to perform Activation Shaping on layer  layer2.1.conv2\n"
          ]
        },
        {
          "output_type": "stream",
          "name": "stderr",
          "text": [
            " 44%|████▍     | 7/16 [00:05<00:05,  1.52it/s]"
          ]
        },
        {
          "output_type": "stream",
          "name": "stdout",
          "text": [
            "Register a hook to perform Random Maps Ablation on layer  layer1.1.conv2 Conv2d(64, 64, kernel_size=(3, 3), stride=(1, 1), padding=(1, 1), bias=False)\n",
            "Register a hook to perform Random Maps Ablation on layer  layer2.1.conv2 Conv2d(128, 128, kernel_size=(3, 3), stride=(1, 1), padding=(1, 1), bias=False)\n",
            "mask_out_ratio:  0.5\n",
            "random_mask sum():  tensor(12831802., device='cuda:0')\n",
            "mask_out_ratio:  0.5\n",
            "random_mask sum():  tensor(6414620., device='cuda:0')\n",
            "Remove the hook used to perform Activation Shaping on layer  layer1.1.conv2\n",
            "Remove the hook used to perform Activation Shaping on layer  layer2.1.conv2\n",
            "Register a hook to perform Random Maps Ablation on layer  layer1.1.conv2 Conv2d(64, 64, kernel_size=(3, 3), stride=(1, 1), padding=(1, 1), bias=False)\n",
            "Register a hook to perform Random Maps Ablation on layer  layer2.1.conv2 Conv2d(128, 128, kernel_size=(3, 3), stride=(1, 1), padding=(1, 1), bias=False)\n"
          ]
        },
        {
          "output_type": "stream",
          "name": "stderr",
          "text": [
            "\r 50%|█████     | 8/16 [00:05<00:04,  1.97it/s]"
          ]
        },
        {
          "output_type": "stream",
          "name": "stdout",
          "text": [
            "mask_out_ratio:  0.5\n",
            "random_mask sum():  tensor(12831607., device='cuda:0')\n",
            "mask_out_ratio:  0.5\n",
            "random_mask sum():  tensor(6415958., device='cuda:0')\n",
            "Remove the hook used to perform Activation Shaping on layer  layer1.1.conv2\n",
            "Remove the hook used to perform Activation Shaping on layer  layer2.1.conv2\n",
            "Register a hook to perform Random Maps Ablation on layer  layer1.1.conv2 Conv2d(64, 64, kernel_size=(3, 3), stride=(1, 1), padding=(1, 1), bias=False)\n",
            "Register a hook to perform Random Maps Ablation on layer  layer2.1.conv2 Conv2d(128, 128, kernel_size=(3, 3), stride=(1, 1), padding=(1, 1), bias=False)\n",
            "mask_out_ratio:  0.5\n",
            "random_mask sum():  "
          ]
        },
        {
          "output_type": "stream",
          "name": "stderr",
          "text": [
            "\r 56%|█████▋    | 9/16 [00:05<00:02,  2.43it/s]"
          ]
        },
        {
          "output_type": "stream",
          "name": "stdout",
          "text": [
            "tensor(12833636., device='cuda:0')\n",
            "mask_out_ratio:  0.5\n",
            "random_mask sum():  tensor(6416494., device='cuda:0')\n",
            "Remove the hook used to perform Activation Shaping on layer  layer1.1.conv2\n",
            "Remove the hook used to perform Activation Shaping on layer  layer2.1.conv2\n",
            "Register a hook to perform Random Maps Ablation on layer  layer1.1.conv2 Conv2d(64, 64, kernel_size=(3, 3), stride=(1, 1), padding=(1, 1), bias=False)\n",
            "Register a hook to perform Random Maps Ablation on layer  layer2.1.conv2 Conv2d(128, 128, kernel_size=(3, 3), stride=(1, 1), padding=(1, 1), bias=False)\n",
            "mask_out_ratio:  0.5\n",
            "random_mask sum():  "
          ]
        },
        {
          "output_type": "stream",
          "name": "stderr",
          "text": [
            "\r 62%|██████▎   | 10/16 [00:05<00:02,  2.87it/s]"
          ]
        },
        {
          "output_type": "stream",
          "name": "stdout",
          "text": [
            "tensor(12834395., device='cuda:0')\n",
            "mask_out_ratio:  0.5\n",
            "random_mask sum():  tensor(6416043., device='cuda:0')\n",
            "Remove the hook used to perform Activation Shaping on layer  layer1.1.conv2\n",
            "Remove the hook used to perform Activation Shaping on layer  layer2.1.conv2\n"
          ]
        },
        {
          "output_type": "stream",
          "name": "stderr",
          "text": [
            "\r 69%|██████▉   | 11/16 [00:07<00:03,  1.48it/s]"
          ]
        },
        {
          "output_type": "stream",
          "name": "stdout",
          "text": [
            "Register a hook to perform Random Maps Ablation on layer  layer1.1.conv2 Conv2d(64, 64, kernel_size=(3, 3), stride=(1, 1), padding=(1, 1), bias=False)\n",
            "Register a hook to perform Random Maps Ablation on layer  layer2.1.conv2 Conv2d(128, 128, kernel_size=(3, 3), stride=(1, 1), padding=(1, 1), bias=False)\n",
            "mask_out_ratio:  0.5\n",
            "random_mask sum():  tensor(12833910., device='cuda:0')\n",
            "mask_out_ratio:  0.5\n",
            "random_mask sum():  tensor(6418933., device='cuda:0')\n",
            "Remove the hook used to perform Activation Shaping on layer  layer1.1.conv2\n",
            "Remove the hook used to perform Activation Shaping on layer  layer2.1.conv2\n",
            "Register a hook to perform Random Maps Ablation on layer  layer1.1.conv2 Conv2d(64, 64, kernel_size=(3, 3), stride=(1, 1), padding=(1, 1), bias=False)\n",
            "Register a hook to perform Random Maps Ablation on layer  layer2.1.conv2 Conv2d(128, 128, kernel_size=(3, 3), stride=(1, 1), padding=(1, 1), bias=False)\n",
            "mask_out_ratio:  0.5\n",
            "random_mask sum():  "
          ]
        },
        {
          "output_type": "stream",
          "name": "stderr",
          "text": [
            "\r 75%|███████▌  | 12/16 [00:07<00:02,  1.91it/s]"
          ]
        },
        {
          "output_type": "stream",
          "name": "stdout",
          "text": [
            "tensor(12834690., device='cuda:0')\n",
            "mask_out_ratio:  0.5\n",
            "random_mask sum():  tensor(6417204., device='cuda:0')\n",
            "Remove the hook used to perform Activation Shaping on layer  layer1.1.conv2\n",
            "Remove the hook used to perform Activation Shaping on layer  layer2.1.conv2\n",
            "Register a hook to perform Random Maps Ablation on layer  layer1.1.conv2 Conv2d(64, 64, kernel_size=(3, 3), stride=(1, 1), padding=(1, 1), bias=False)\n",
            "Register a hook to perform Random Maps Ablation on layer  layer2.1.conv2 Conv2d(128, 128, kernel_size=(3, 3), stride=(1, 1), padding=(1, 1), bias=False)\n",
            "mask_out_ratio:  0.5\n",
            "random_mask sum():  tensor(12828830., device='cuda:0')\n",
            "mask_out_ratio:  0.5\n",
            "random_mask sum():  tensor(6416663., device='cuda:0')\n",
            "Remove the hook used to perform Activation Shaping on layer  layer1.1.conv2\n",
            "Remove the hook used to perform Activation Shaping on layer  layer2.1.conv2\n"
          ]
        },
        {
          "output_type": "stream",
          "name": "stderr",
          "text": [
            " 88%|████████▊ | 14/16 [00:07<00:00,  2.91it/s]"
          ]
        },
        {
          "output_type": "stream",
          "name": "stdout",
          "text": [
            "Register a hook to perform Random Maps Ablation on layer  layer1.1.conv2 Conv2d(64, 64, kernel_size=(3, 3), stride=(1, 1), padding=(1, 1), bias=False)\n",
            "Register a hook to perform Random Maps Ablation on layer  layer2.1.conv2 Conv2d(128, 128, kernel_size=(3, 3), stride=(1, 1), padding=(1, 1), bias=False)\n",
            "mask_out_ratio:  0.5\n",
            "random_mask sum():  tensor(12832150., device='cuda:0')\n",
            "mask_out_ratio:  0.5\n",
            "random_mask sum():  tensor(6413967., device='cuda:0')\n",
            "Remove the hook used to perform Activation Shaping on layer  layer1.1.conv2\n",
            "Remove the hook used to perform Activation Shaping on layer  layer2.1.conv2\n",
            "Register a hook to perform Random Maps Ablation on layer  layer1.1.conv2 Conv2d(64, 64, kernel_size=(3, 3), stride=(1, 1), padding=(1, 1), bias=False)\n",
            "Register a hook to perform Random Maps Ablation on layer  layer2.1.conv2 Conv2d(128, 128, kernel_size=(3, 3), stride=(1, 1), padding=(1, 1), bias=False)\n",
            "mask_out_ratio:  0.5\n",
            "random_mask sum():  "
          ]
        },
        {
          "output_type": "stream",
          "name": "stderr",
          "text": [
            "\r 94%|█████████▍| 15/16 [00:07<00:00,  3.42it/s]"
          ]
        },
        {
          "output_type": "stream",
          "name": "stdout",
          "text": [
            "tensor(12834025., device='cuda:0')\n",
            "mask_out_ratio:  0.5\n",
            "random_mask sum():  tensor(6419241., device='cuda:0')\n",
            "Remove the hook used to perform Activation Shaping on layer  layer1.1.conv2\n",
            "Remove the hook used to perform Activation Shaping on layer  layer2.1.conv2\n",
            "Register a hook to perform Random Maps Ablation on layer  layer1.1.conv2 Conv2d(64, 64, kernel_size=(3, 3), stride=(1, 1), padding=(1, 1), bias=False)\n",
            "Register a hook to perform Random Maps Ablation on layer  layer2.1.conv2 Conv2d(128, 128, kernel_size=(3, 3), stride=(1, 1), padding=(1, 1), bias=False)\n",
            "mask_out_ratio:  0.5\n",
            "random_mask sum():  tensor(12833621., device='cuda:0')\n",
            "mask_out_ratio:  0.5\n",
            "random_mask sum():  tensor(6412322., device='cuda:0')\n",
            "Remove the hook used to perform Activation Shaping on layer  layer1.1.conv2\n",
            "Remove the hook used to perform Activation Shaping on layer  layer2.1.conv2\n"
          ]
        },
        {
          "output_type": "stream",
          "name": "stderr",
          "text": [
            "100%|██████████| 16/16 [00:08<00:00,  1.99it/s]\n",
            "100%|██████████| 31/31 [00:10<00:00,  2.86it/s]\n"
          ]
        },
        {
          "output_type": "stream",
          "name": "stdout",
          "text": [
            "Accuracy: 33.70 - Loss: 0.01373303619223595 \n",
            "\n"
          ]
        },
        {
          "output_type": "stream",
          "name": "stderr",
          "text": [
            "\r  0%|          | 0/16 [00:00<?, ?it/s]"
          ]
        },
        {
          "output_type": "stream",
          "name": "stdout",
          "text": [
            "Register a hook to perform Random Maps Ablation on layer  layer1.1.conv2 Conv2d(64, 64, kernel_size=(3, 3), stride=(1, 1), padding=(1, 1), bias=False)\n",
            "Register a hook to perform Random Maps Ablation on layer  layer2.1.conv2 Conv2d(128, 128, kernel_size=(3, 3), stride=(1, 1), padding=(1, 1), bias=False)\n",
            "mask_out_ratio:  0.5\n",
            "random_mask sum():  tensor(12829770., device='cuda:0')\n",
            "mask_out_ratio:  0.5\n",
            "random_mask sum():  tensor(6418407., device='cuda:0')\n",
            "Remove the hook used to perform Activation Shaping on layer  layer1.1.conv2\n",
            "Remove the hook used to perform Activation Shaping on layer  layer2.1.conv2\n"
          ]
        },
        {
          "output_type": "stream",
          "name": "stderr",
          "text": [
            " 12%|█▎        | 2/16 [00:02<00:16,  1.15s/it]"
          ]
        },
        {
          "output_type": "stream",
          "name": "stdout",
          "text": [
            "Register a hook to perform Random Maps Ablation on layer  layer1.1.conv2 Conv2d(64, 64, kernel_size=(3, 3), stride=(1, 1), padding=(1, 1), bias=False)\n",
            "Register a hook to perform Random Maps Ablation on layer  layer2.1.conv2 Conv2d(128, 128, kernel_size=(3, 3), stride=(1, 1), padding=(1, 1), bias=False)\n",
            "mask_out_ratio:  0.5\n",
            "random_mask sum():  tensor(12829726., device='cuda:0')\n",
            "mask_out_ratio:  0.5\n",
            "random_mask sum():  tensor(6416545., device='cuda:0')\n",
            "Remove the hook used to perform Activation Shaping on layer  layer1.1.conv2\n",
            "Remove the hook used to perform Activation Shaping on layer  layer2.1.conv2\n"
          ]
        },
        {
          "output_type": "stream",
          "name": "stderr",
          "text": [
            "\r 19%|█▉        | 3/16 [00:02<00:09,  1.39it/s]"
          ]
        },
        {
          "output_type": "stream",
          "name": "stdout",
          "text": [
            "Register a hook to perform Random Maps Ablation on layer  layer1.1.conv2 Conv2d(64, 64, kernel_size=(3, 3), stride=(1, 1), padding=(1, 1), bias=False)\n",
            "Register a hook to perform Random Maps Ablation on layer  layer2.1.conv2 Conv2d(128, 128, kernel_size=(3, 3), stride=(1, 1), padding=(1, 1), bias=False)\n",
            "mask_out_ratio:  0.5\n",
            "random_mask sum():  tensor(12833945., device='cuda:0')\n",
            "mask_out_ratio:  0.5\n",
            "random_mask sum():  tensor(6417872., device='cuda:0')\n",
            "Remove the hook used to perform Activation Shaping on layer  layer1.1.conv2\n",
            "Remove the hook used to perform Activation Shaping on layer  layer2.1.conv2\n",
            "Register a hook to perform Random Maps Ablation on layer  layer1.1.conv2 Conv2d(64, 64, kernel_size=(3, 3), stride=(1, 1), padding=(1, 1), bias=False)\n",
            "Register a hook to perform Random Maps Ablation on layer  layer2.1.conv2 Conv2d(128, 128, kernel_size=(3, 3), stride=(1, 1), padding=(1, 1), bias=False)\n",
            "mask_out_ratio:  0.5\n",
            "random_mask sum():  tensor(12831229., device='cuda:0')\n",
            "mask_out_ratio:  0.5\n",
            "random_mask sum():  tensor(6417142., device='cuda:0')\n",
            "Remove the hook used to perform Activation Shaping on layer  layer1.1.conv2\n",
            "Remove the hook used to perform Activation Shaping on layer  layer2.1.conv2\n"
          ]
        },
        {
          "output_type": "stream",
          "name": "stderr",
          "text": [
            "\r 25%|██▌       | 4/16 [00:03<00:06,  1.89it/s]"
          ]
        },
        {
          "output_type": "stream",
          "name": "stdout",
          "text": [
            "Register a hook to perform Random Maps Ablation on layer  layer1.1.conv2 Conv2d(64, 64, kernel_size=(3, 3), stride=(1, 1), padding=(1, 1), bias=False)\n",
            "Register a hook to perform Random Maps Ablation on layer  layer2.1.conv2 Conv2d(128, 128, kernel_size=(3, 3), stride=(1, 1), padding=(1, 1), bias=False)\n",
            "mask_out_ratio:  0.5\n",
            "random_mask sum():  tensor(12834969., device='cuda:0')\n",
            "mask_out_ratio:  0.5\n",
            "random_mask sum():  tensor(6414579., device='cuda:0')\n",
            "Remove the hook used to perform Activation Shaping on layer  layer1.1.conv2\n",
            "Remove the hook used to perform Activation Shaping on layer  layer2.1.conv2\n"
          ]
        },
        {
          "output_type": "stream",
          "name": "stderr",
          "text": [
            "\r 31%|███▏      | 5/16 [00:03<00:04,  2.35it/s]"
          ]
        },
        {
          "output_type": "stream",
          "name": "stdout",
          "text": [
            "Register a hook to perform Random Maps Ablation on layer  layer1.1.conv2 Conv2d(64, 64, kernel_size=(3, 3), stride=(1, 1), padding=(1, 1), bias=False)\n",
            "Register a hook to perform Random Maps Ablation on layer  layer2.1.conv2 Conv2d(128, 128, kernel_size=(3, 3), stride=(1, 1), padding=(1, 1), bias=False)\n",
            "mask_out_ratio:  0.5\n",
            "random_mask sum():  tensor(12833217., device='cuda:0')\n",
            "mask_out_ratio:  0.5\n",
            "random_mask sum():  tensor(6414552., device='cuda:0')\n",
            "Remove the hook used to perform Activation Shaping on layer  layer1.1.conv2\n",
            "Remove the hook used to perform Activation Shaping on layer  layer2.1.conv2\n"
          ]
        },
        {
          "output_type": "stream",
          "name": "stderr",
          "text": [
            " 44%|████▍     | 7/16 [00:06<00:08,  1.10it/s]"
          ]
        },
        {
          "output_type": "stream",
          "name": "stdout",
          "text": [
            "Register a hook to perform Random Maps Ablation on layer  layer1.1.conv2 Conv2d(64, 64, kernel_size=(3, 3), stride=(1, 1), padding=(1, 1), bias=False)\n",
            "Register a hook to perform Random Maps Ablation on layer  layer2.1.conv2 Conv2d(128, 128, kernel_size=(3, 3), stride=(1, 1), padding=(1, 1), bias=False)\n",
            "mask_out_ratio:  0.5\n",
            "random_mask sum():  tensor(12830425., device='cuda:0')\n",
            "mask_out_ratio:  0.5\n",
            "random_mask sum():  tensor(6414892., device='cuda:0')\n",
            "Remove the hook used to perform Activation Shaping on layer  layer1.1.conv2\n",
            "Remove the hook used to perform Activation Shaping on layer  layer2.1.conv2\n",
            "Register a hook to perform Random Maps Ablation on layer  layer1.1.conv2 Conv2d(64, 64, kernel_size=(3, 3), stride=(1, 1), padding=(1, 1), bias=False)\n",
            "Register a hook to perform Random Maps Ablation on layer  layer2.1.conv2 Conv2d(128, 128, kernel_size=(3, 3), stride=(1, 1), padding=(1, 1), bias=False)\n"
          ]
        },
        {
          "output_type": "stream",
          "name": "stderr",
          "text": [
            "\r 50%|█████     | 8/16 [00:06<00:05,  1.47it/s]"
          ]
        },
        {
          "output_type": "stream",
          "name": "stdout",
          "text": [
            "mask_out_ratio:  0.5\n",
            "random_mask sum():  tensor(12835372., device='cuda:0')\n",
            "mask_out_ratio:  0.5\n",
            "random_mask sum():  tensor(6418923., device='cuda:0')\n",
            "Remove the hook used to perform Activation Shaping on layer  layer1.1.conv2\n",
            "Remove the hook used to perform Activation Shaping on layer  layer2.1.conv2\n",
            "Register a hook to perform Random Maps Ablation on layer  layer1.1.conv2 Conv2d(64, 64, kernel_size=(3, 3), stride=(1, 1), padding=(1, 1), bias=False)\n",
            "Register a hook to perform Random Maps Ablation on layer  layer2.1.conv2 Conv2d(128, 128, kernel_size=(3, 3), stride=(1, 1), padding=(1, 1), bias=False)\n",
            "mask_out_ratio:  0.5\n",
            "random_mask sum():  "
          ]
        },
        {
          "output_type": "stream",
          "name": "stderr",
          "text": [
            "\r 56%|█████▋    | 9/16 [00:06<00:03,  1.88it/s]"
          ]
        },
        {
          "output_type": "stream",
          "name": "stdout",
          "text": [
            "tensor(12835465., device='cuda:0')\n",
            "mask_out_ratio:  0.5\n",
            "random_mask sum():  tensor(6415056., device='cuda:0')\n",
            "Remove the hook used to perform Activation Shaping on layer  layer1.1.conv2\n",
            "Remove the hook used to perform Activation Shaping on layer  layer2.1.conv2\n",
            "Register a hook to perform Random Maps Ablation on layer  layer1.1.conv2 Conv2d(64, 64, kernel_size=(3, 3), stride=(1, 1), padding=(1, 1), bias=False)\n",
            "Register a hook to perform Random Maps Ablation on layer  layer2.1.conv2 Conv2d(128, 128, kernel_size=(3, 3), stride=(1, 1), padding=(1, 1), bias=False)\n",
            "mask_out_ratio:  0.5\n",
            "random_mask sum():  tensor(12835534., device='cuda:0')\n"
          ]
        },
        {
          "output_type": "stream",
          "name": "stderr",
          "text": [
            "\r 62%|██████▎   | 10/16 [00:07<00:02,  2.36it/s]"
          ]
        },
        {
          "output_type": "stream",
          "name": "stdout",
          "text": [
            "mask_out_ratio:  0.5\n",
            "random_mask sum():  tensor(6414446., device='cuda:0')\n",
            "Remove the hook used to perform Activation Shaping on layer  layer1.1.conv2\n",
            "Remove the hook used to perform Activation Shaping on layer  layer2.1.conv2\n"
          ]
        },
        {
          "output_type": "stream",
          "name": "stderr",
          "text": [
            "\r 69%|██████▉   | 11/16 [00:08<00:03,  1.49it/s]"
          ]
        },
        {
          "output_type": "stream",
          "name": "stdout",
          "text": [
            "Register a hook to perform Random Maps Ablation on layer  layer1.1.conv2 Conv2d(64, 64, kernel_size=(3, 3), stride=(1, 1), padding=(1, 1), bias=False)\n",
            "Register a hook to perform Random Maps Ablation on layer  layer2.1.conv2 Conv2d(128, 128, kernel_size=(3, 3), stride=(1, 1), padding=(1, 1), bias=False)\n",
            "mask_out_ratio:  0.5\n",
            "random_mask sum():  tensor(12837576., device='cuda:0')\n",
            "mask_out_ratio:  0.5\n",
            "random_mask sum():  tensor(6416152., device='cuda:0')\n",
            "Remove the hook used to perform Activation Shaping on layer  layer1.1.conv2\n",
            "Remove the hook used to perform Activation Shaping on layer  layer2.1.conv2\n",
            "Register a hook to perform Random Maps Ablation on layer  layer1.1.conv2 Conv2d(64, 64, kernel_size=(3, 3), stride=(1, 1), padding=(1, 1), bias=False)\n",
            "Register a hook to perform Random Maps Ablation on layer  layer2.1.conv2 Conv2d(128, 128, kernel_size=(3, 3), stride=(1, 1), padding=(1, 1), bias=False)\n",
            "mask_out_ratio:  0.5\n",
            "random_mask sum():  "
          ]
        },
        {
          "output_type": "stream",
          "name": "stderr",
          "text": [
            "\r 75%|███████▌  | 12/16 [00:08<00:02,  1.92it/s]"
          ]
        },
        {
          "output_type": "stream",
          "name": "stdout",
          "text": [
            "tensor(12833073., device='cuda:0')\n",
            "mask_out_ratio:  0.5\n",
            "random_mask sum():  tensor(6414819., device='cuda:0')\n",
            "Remove the hook used to perform Activation Shaping on layer  layer1.1.conv2\n",
            "Remove the hook used to perform Activation Shaping on layer  layer2.1.conv2\n",
            "Register a hook to perform Random Maps Ablation on layer  layer1.1.conv2 Conv2d(64, 64, kernel_size=(3, 3), stride=(1, 1), padding=(1, 1), bias=False)\n",
            "Register a hook to perform Random Maps Ablation on layer  layer2.1.conv2 Conv2d(128, 128, kernel_size=(3, 3), stride=(1, 1), padding=(1, 1), bias=False)\n",
            "mask_out_ratio:  0.5\n",
            "random_mask sum():  tensor(12829639., device='cuda:0')\n",
            "mask_out_ratio:  0.5\n",
            "random_mask sum():  tensor(6417763., device='cuda:0')\n"
          ]
        },
        {
          "output_type": "stream",
          "name": "stderr",
          "text": [
            "\r 81%|████████▏ | 13/16 [00:08<00:01,  2.39it/s]"
          ]
        },
        {
          "output_type": "stream",
          "name": "stdout",
          "text": [
            "Remove the hook used to perform Activation Shaping on layer  layer1.1.conv2\n",
            "Remove the hook used to perform Activation Shaping on layer  layer2.1.conv2\n",
            "Register a hook to perform Random Maps Ablation on layer  layer1.1.conv2 Conv2d(64, 64, kernel_size=(3, 3), stride=(1, 1), padding=(1, 1), bias=False)\n",
            "Register a hook to perform Random Maps Ablation on layer  layer2.1.conv2 Conv2d(128, 128, kernel_size=(3, 3), stride=(1, 1), padding=(1, 1), bias=False)\n",
            "mask_out_ratio:  0.5\n",
            "random_mask sum():  tensor(12834832., device='cuda:0')\n",
            "mask_out_ratio:  0.5\n",
            "random_mask sum():  tensor(6415096., device='cuda:0')\n",
            "Remove the hook used to perform Activation Shaping on layer  layer1.1.conv2\n",
            "Remove the hook used to perform Activation Shaping on layer  layer2.1.conv2\n"
          ]
        },
        {
          "output_type": "stream",
          "name": "stderr",
          "text": [
            " 94%|█████████▍| 15/16 [00:08<00:00,  3.42it/s]"
          ]
        },
        {
          "output_type": "stream",
          "name": "stdout",
          "text": [
            "Register a hook to perform Random Maps Ablation on layer  layer1.1.conv2 Conv2d(64, 64, kernel_size=(3, 3), stride=(1, 1), padding=(1, 1), bias=False)\n",
            "Register a hook to perform Random Maps Ablation on layer  layer2.1.conv2 Conv2d(128, 128, kernel_size=(3, 3), stride=(1, 1), padding=(1, 1), bias=False)\n",
            "mask_out_ratio:  0.5\n",
            "random_mask sum():  tensor(12831864., device='cuda:0')\n",
            "mask_out_ratio:  0.5\n",
            "random_mask sum():  tensor(6418384., device='cuda:0')\n",
            "Remove the hook used to perform Activation Shaping on layer  layer1.1.conv2\n",
            "Remove the hook used to perform Activation Shaping on layer  layer2.1.conv2\n",
            "Register a hook to perform Random Maps Ablation on layer  layer1.1.conv2 Conv2d(64, 64, kernel_size=(3, 3), stride=(1, 1), padding=(1, 1), bias=False)\n",
            "Register a hook to perform Random Maps Ablation on layer  layer2.1.conv2 Conv2d(128, 128, kernel_size=(3, 3), stride=(1, 1), padding=(1, 1), bias=False)\n",
            "mask_out_ratio:  0.5\n",
            "random_mask sum():  "
          ]
        },
        {
          "output_type": "stream",
          "name": "stderr",
          "text": [
            "100%|██████████| 16/16 [00:09<00:00,  1.75it/s]\n"
          ]
        },
        {
          "output_type": "stream",
          "name": "stdout",
          "text": [
            "tensor(12827607., device='cuda:0')\n",
            "mask_out_ratio:  0.5\n",
            "random_mask sum():  tensor(6413548., device='cuda:0')\n",
            "Remove the hook used to perform Activation Shaping on layer  layer1.1.conv2\n",
            "Remove the hook used to perform Activation Shaping on layer  layer2.1.conv2\n"
          ]
        },
        {
          "output_type": "stream",
          "name": "stderr",
          "text": [
            "100%|██████████| 31/31 [00:10<00:00,  2.89it/s]\n"
          ]
        },
        {
          "output_type": "stream",
          "name": "stdout",
          "text": [
            "Accuracy: 37.49 - Loss: 0.013165552763576028 \n",
            "\n"
          ]
        },
        {
          "output_type": "stream",
          "name": "stderr",
          "text": [
            "\r  0%|          | 0/16 [00:00<?, ?it/s]"
          ]
        },
        {
          "output_type": "stream",
          "name": "stdout",
          "text": [
            "Register a hook to perform Random Maps Ablation on layer  layer1.1.conv2 Conv2d(64, 64, kernel_size=(3, 3), stride=(1, 1), padding=(1, 1), bias=False)\n",
            "Register a hook to perform Random Maps Ablation on layer  layer2.1.conv2 Conv2d(128, 128, kernel_size=(3, 3), stride=(1, 1), padding=(1, 1), bias=False)\n",
            "mask_out_ratio:  0.5\n",
            "random_mask sum():  tensor(12830681., device='cuda:0')\n",
            "mask_out_ratio:  0.5\n",
            "random_mask sum():  tensor(6419049., device='cuda:0')\n",
            "Remove the hook used to perform Activation Shaping on layer  layer1.1.conv2\n",
            "Remove the hook used to perform Activation Shaping on layer  layer2.1.conv2\n"
          ]
        },
        {
          "output_type": "stream",
          "name": "stderr",
          "text": [
            "\r  6%|▋         | 1/16 [00:02<00:40,  2.72s/it]"
          ]
        },
        {
          "output_type": "stream",
          "name": "stdout",
          "text": [
            "Register a hook to perform Random Maps Ablation on layer  layer1.1.conv2 Conv2d(64, 64, kernel_size=(3, 3), stride=(1, 1), padding=(1, 1), bias=False)\n",
            "Register a hook to perform Random Maps Ablation on layer  layer2.1.conv2 Conv2d(128, 128, kernel_size=(3, 3), stride=(1, 1), padding=(1, 1), bias=False)\n",
            "mask_out_ratio:  0.5\n",
            "random_mask sum():  tensor(12831059., device='cuda:0')\n",
            "mask_out_ratio:  0.5\n",
            "random_mask sum():  tensor(6417743., device='cuda:0')\n",
            "Remove the hook used to perform Activation Shaping on layer  layer1.1.conv2\n",
            "Remove the hook used to perform Activation Shaping on layer  layer2.1.conv2\n"
          ]
        },
        {
          "output_type": "stream",
          "name": "stderr",
          "text": [
            " 19%|█▉        | 3/16 [00:03<00:10,  1.29it/s]"
          ]
        },
        {
          "output_type": "stream",
          "name": "stdout",
          "text": [
            "Register a hook to perform Random Maps Ablation on layer  layer1.1.conv2 Conv2d(64, 64, kernel_size=(3, 3), stride=(1, 1), padding=(1, 1), bias=False)\n",
            "Register a hook to perform Random Maps Ablation on layer  layer2.1.conv2 Conv2d(128, 128, kernel_size=(3, 3), stride=(1, 1), padding=(1, 1), bias=False)\n",
            "mask_out_ratio:  0.5\n",
            "random_mask sum():  tensor(12837768., device='cuda:0')\n",
            "mask_out_ratio:  0.5\n",
            "random_mask sum():  tensor(6413542., device='cuda:0')\n",
            "Remove the hook used to perform Activation Shaping on layer  layer1.1.conv2\n",
            "Remove the hook used to perform Activation Shaping on layer  layer2.1.conv2\n"
          ]
        },
        {
          "output_type": "stream",
          "name": "stderr",
          "text": [
            "\r 25%|██▌       | 4/16 [00:03<00:06,  1.79it/s]"
          ]
        },
        {
          "output_type": "stream",
          "name": "stdout",
          "text": [
            "Register a hook to perform Random Maps Ablation on layer  layer1.1.conv2 Conv2d(64, 64, kernel_size=(3, 3), stride=(1, 1), padding=(1, 1), bias=False)\n",
            "Register a hook to perform Random Maps Ablation on layer  layer2.1.conv2 Conv2d(128, 128, kernel_size=(3, 3), stride=(1, 1), padding=(1, 1), bias=False)\n",
            "mask_out_ratio:  0.5\n",
            "random_mask sum():  tensor(12833939., device='cuda:0')\n",
            "mask_out_ratio:  0.5\n",
            "random_mask sum():  tensor(6415522., device='cuda:0')\n",
            "Remove the hook used to perform Activation Shaping on layer  layer1.1.conv2\n",
            "Remove the hook used to perform Activation Shaping on layer  layer2.1.conv2\n",
            "Register a hook to perform Random Maps Ablation on layer  "
          ]
        },
        {
          "output_type": "stream",
          "name": "stderr",
          "text": [
            "\r 31%|███▏      | 5/16 [00:03<00:04,  2.36it/s]"
          ]
        },
        {
          "output_type": "stream",
          "name": "stdout",
          "text": [
            "layer1.1.conv2 Conv2d(64, 64, kernel_size=(3, 3), stride=(1, 1), padding=(1, 1), bias=False)\n",
            "Register a hook to perform Random Maps Ablation on layer  layer2.1.conv2 Conv2d(128, 128, kernel_size=(3, 3), stride=(1, 1), padding=(1, 1), bias=False)\n",
            "mask_out_ratio:  0.5\n",
            "random_mask sum():  tensor(12832628., device='cuda:0')\n",
            "mask_out_ratio:  0.5\n",
            "random_mask sum():  tensor(6412240., device='cuda:0')\n",
            "Remove the hook used to perform Activation Shaping on layer  layer1.1.conv2\n",
            "Remove the hook used to perform Activation Shaping on layer  layer2.1.conv2\n",
            "Register a hook to perform Random Maps Ablation on layer  layer1.1.conv2 Conv2d(64, 64, kernel_size=(3, 3), stride=(1, 1), padding=(1, 1), bias=False)\n",
            "Register a hook to perform Random Maps Ablation on layer  layer2.1.conv2 Conv2d(128, 128, kernel_size=(3, 3), stride=(1, 1), padding=(1, 1), bias=False)\n",
            "mask_out_ratio:  0.5\n",
            "random_mask sum():  tensor(12836704., device='cuda:0')\n",
            "mask_out_ratio:  0.5\n",
            "random_mask sum():  tensor(6415312., device='cuda:0')\n",
            "Remove the hook used to perform Activation Shaping on layer  layer1.1.conv2\n",
            "Remove the hook used to perform Activation Shaping on layer  layer2.1.conv2\n"
          ]
        },
        {
          "output_type": "stream",
          "name": "stderr",
          "text": [
            " 44%|████▍     | 7/16 [00:05<00:05,  1.67it/s]"
          ]
        },
        {
          "output_type": "stream",
          "name": "stdout",
          "text": [
            "Register a hook to perform Random Maps Ablation on layer  layer1.1.conv2 Conv2d(64, 64, kernel_size=(3, 3), stride=(1, 1), padding=(1, 1), bias=False)\n",
            "Register a hook to perform Random Maps Ablation on layer  layer2.1.conv2 Conv2d(128, 128, kernel_size=(3, 3), stride=(1, 1), padding=(1, 1), bias=False)\n",
            "mask_out_ratio:  0.5\n",
            "random_mask sum():  tensor(12837710., device='cuda:0')\n",
            "mask_out_ratio:  0.5\n",
            "random_mask sum():  tensor(6416975., device='cuda:0')\n",
            "Remove the hook used to perform Activation Shaping on layer  layer1.1.conv2\n",
            "Remove the hook used to perform Activation Shaping on layer  layer2.1.conv2\n"
          ]
        },
        {
          "output_type": "stream",
          "name": "stderr",
          "text": [
            "\r 50%|█████     | 8/16 [00:05<00:03,  2.08it/s]"
          ]
        },
        {
          "output_type": "stream",
          "name": "stdout",
          "text": [
            "Register a hook to perform Random Maps Ablation on layer  layer1.1.conv2 Conv2d(64, 64, kernel_size=(3, 3), stride=(1, 1), padding=(1, 1), bias=False)\n",
            "Register a hook to perform Random Maps Ablation on layer  layer2.1.conv2 Conv2d(128, 128, kernel_size=(3, 3), stride=(1, 1), padding=(1, 1), bias=False)\n",
            "mask_out_ratio:  0.5\n",
            "random_mask sum():  tensor(12829612., device='cuda:0')\n",
            "mask_out_ratio:  0.5\n",
            "random_mask sum():  tensor(6414865., device='cuda:0')\n",
            "Remove the hook used to perform Activation Shaping on layer  layer1.1.conv2\n",
            "Remove the hook used to perform Activation Shaping on layer  layer2.1.conv2\n"
          ]
        },
        {
          "output_type": "stream",
          "name": "stderr",
          "text": [
            "\r 56%|█████▋    | 9/16 [00:05<00:02,  2.51it/s]"
          ]
        },
        {
          "output_type": "stream",
          "name": "stdout",
          "text": [
            "Register a hook to perform Random Maps Ablation on layer  layer1.1.conv2 Conv2d(64, 64, kernel_size=(3, 3), stride=(1, 1), padding=(1, 1), bias=False)\n",
            "Register a hook to perform Random Maps Ablation on layer  layer2.1.conv2 Conv2d(128, 128, kernel_size=(3, 3), stride=(1, 1), padding=(1, 1), bias=False)\n",
            "mask_out_ratio:  0.5\n",
            "random_mask sum():  tensor(12831795., device='cuda:0')\n",
            "mask_out_ratio:  0.5\n",
            "random_mask sum():  tensor(6415049., device='cuda:0')\n",
            "Remove the hook used to perform Activation Shaping on layer  layer1.1.conv2\n",
            "Remove the hook used to perform Activation Shaping on layer  layer2.1.conv2\n"
          ]
        },
        {
          "output_type": "stream",
          "name": "stderr",
          "text": [
            "\r 62%|██████▎   | 10/16 [00:05<00:02,  2.92it/s]"
          ]
        },
        {
          "output_type": "stream",
          "name": "stdout",
          "text": [
            "Register a hook to perform Random Maps Ablation on layer  layer1.1.conv2 Conv2d(64, 64, kernel_size=(3, 3), stride=(1, 1), padding=(1, 1), bias=False)\n",
            "Register a hook to perform Random Maps Ablation on layer  layer2.1.conv2 Conv2d(128, 128, kernel_size=(3, 3), stride=(1, 1), padding=(1, 1), bias=False)\n",
            "mask_out_ratio:  0.5\n",
            "random_mask sum():  tensor(12832549., device='cuda:0')\n",
            "mask_out_ratio:  0.5\n",
            "random_mask sum():  tensor(6414082., device='cuda:0')\n",
            "Remove the hook used to perform Activation Shaping on layer  layer1.1.conv2\n",
            "Remove the hook used to perform Activation Shaping on layer  layer2.1.conv2\n"
          ]
        },
        {
          "output_type": "stream",
          "name": "stderr",
          "text": [
            "\r 69%|██████▉   | 11/16 [00:07<00:03,  1.49it/s]"
          ]
        },
        {
          "output_type": "stream",
          "name": "stdout",
          "text": [
            "Register a hook to perform Random Maps Ablation on layer  layer1.1.conv2 Conv2d(64, 64, kernel_size=(3, 3), stride=(1, 1), padding=(1, 1), bias=False)\n",
            "Register a hook to perform Random Maps Ablation on layer  layer2.1.conv2 Conv2d(128, 128, kernel_size=(3, 3), stride=(1, 1), padding=(1, 1), bias=False)\n",
            "mask_out_ratio:  0.5\n",
            "random_mask sum():  tensor(12835861., device='cuda:0')\n",
            "mask_out_ratio:  0.5\n",
            "random_mask sum():  tensor(6411813., device='cuda:0')\n",
            "Remove the hook used to perform Activation Shaping on layer  layer1.1.conv2\n",
            "Remove the hook used to perform Activation Shaping on layer  layer2.1.conv2\n",
            "Register a hook to perform Random Maps Ablation on layer  layer1.1.conv2 Conv2d(64, 64, kernel_size=(3, 3), stride=(1, 1), padding=(1, 1), bias=False)\n",
            "Register a hook to perform Random Maps Ablation on layer  layer2.1.conv2 Conv2d(128, 128, kernel_size=(3, 3), stride=(1, 1), padding=(1, 1), bias=False)\n",
            "mask_out_ratio:  0.5\n",
            "random_mask sum():  "
          ]
        },
        {
          "output_type": "stream",
          "name": "stderr",
          "text": [
            "\r 75%|███████▌  | 12/16 [00:07<00:02,  1.93it/s]"
          ]
        },
        {
          "output_type": "stream",
          "name": "stdout",
          "text": [
            "tensor(12827329., device='cuda:0')\n",
            "mask_out_ratio:  0.5\n",
            "random_mask sum():  tensor(6417517., device='cuda:0')\n",
            "Remove the hook used to perform Activation Shaping on layer  layer1.1.conv2\n",
            "Remove the hook used to perform Activation Shaping on layer  layer2.1.conv2\n",
            "Register a hook to perform Random Maps Ablation on layer  layer1.1.conv2 Conv2d(64, 64, kernel_size=(3, 3), stride=(1, 1), padding=(1, 1), bias=False)\n",
            "Register a hook to perform Random Maps Ablation on layer  layer2.1.conv2 Conv2d(128, 128, kernel_size=(3, 3), stride=(1, 1), padding=(1, 1), bias=False)\n",
            "mask_out_ratio:  0.5\n",
            "random_mask sum():  tensor(12836983., device='cuda:0')\n",
            "mask_out_ratio:  0.5\n",
            "random_mask sum():  tensor(6417994., device='cuda:0')\n"
          ]
        },
        {
          "output_type": "stream",
          "name": "stderr",
          "text": [
            "\r 81%|████████▏ | 13/16 [00:07<00:01,  2.40it/s]"
          ]
        },
        {
          "output_type": "stream",
          "name": "stdout",
          "text": [
            "Remove the hook used to perform Activation Shaping on layer  layer1.1.conv2\n",
            "Remove the hook used to perform Activation Shaping on layer  layer2.1.conv2\n",
            "Register a hook to perform Random Maps Ablation on layer  layer1.1.conv2 Conv2d(64, 64, kernel_size=(3, 3), stride=(1, 1), padding=(1, 1), bias=False)\n",
            "Register a hook to perform Random Maps Ablation on layer  layer2.1.conv2 Conv2d(128, 128, kernel_size=(3, 3), stride=(1, 1), padding=(1, 1), bias=False)\n",
            "mask_out_ratio:  0.5\n",
            "random_mask sum():  tensor(12836588., device='cuda:0')\n",
            "mask_out_ratio:  0.5\n",
            "random_mask sum():  tensor(6416622., device='cuda:0')\n",
            "Remove the hook used to perform Activation Shaping on layer  layer1.1.conv2\n",
            "Remove the hook used to perform Activation Shaping on layer  layer2.1.conv2\n"
          ]
        },
        {
          "output_type": "stream",
          "name": "stderr",
          "text": [
            " 94%|█████████▍| 15/16 [00:08<00:00,  3.39it/s]"
          ]
        },
        {
          "output_type": "stream",
          "name": "stdout",
          "text": [
            "Register a hook to perform Random Maps Ablation on layer  layer1.1.conv2 Conv2d(64, 64, kernel_size=(3, 3), stride=(1, 1), padding=(1, 1), bias=False)\n",
            "Register a hook to perform Random Maps Ablation on layer  layer2.1.conv2 Conv2d(128, 128, kernel_size=(3, 3), stride=(1, 1), padding=(1, 1), bias=False)\n",
            "mask_out_ratio:  0.5\n",
            "random_mask sum():  tensor(12832788., device='cuda:0')\n",
            "mask_out_ratio:  0.5\n",
            "random_mask sum():  tensor(6415452., device='cuda:0')\n",
            "Remove the hook used to perform Activation Shaping on layer  layer1.1.conv2\n",
            "Remove the hook used to perform Activation Shaping on layer  layer2.1.conv2\n",
            "Register a hook to perform Random Maps Ablation on layer  layer1.1.conv2 Conv2d(64, 64, kernel_size=(3, 3), stride=(1, 1), padding=(1, 1), bias=False)\n",
            "Register a hook to perform Random Maps Ablation on layer  layer2.1.conv2 Conv2d(128, 128, kernel_size=(3, 3), stride=(1, 1), padding=(1, 1), bias=False)\n",
            "mask_out_ratio:  0.5\n",
            "random_mask sum():  "
          ]
        },
        {
          "output_type": "stream",
          "name": "stderr",
          "text": [
            "100%|██████████| 16/16 [00:08<00:00,  1.95it/s]\n"
          ]
        },
        {
          "output_type": "stream",
          "name": "stdout",
          "text": [
            "tensor(12831703., device='cuda:0')\n",
            "mask_out_ratio:  0.5\n",
            "random_mask sum():  tensor(6416489., device='cuda:0')\n",
            "Remove the hook used to perform Activation Shaping on layer  layer1.1.conv2\n",
            "Remove the hook used to perform Activation Shaping on layer  layer2.1.conv2\n"
          ]
        },
        {
          "output_type": "stream",
          "name": "stderr",
          "text": [
            "100%|██████████| 31/31 [00:10<00:00,  2.87it/s]\n"
          ]
        },
        {
          "output_type": "stream",
          "name": "stdout",
          "text": [
            "Accuracy: 35.25 - Loss: 0.013622504513692723 \n",
            "\n"
          ]
        },
        {
          "output_type": "stream",
          "name": "stderr",
          "text": [
            "\r  0%|          | 0/16 [00:00<?, ?it/s]"
          ]
        },
        {
          "output_type": "stream",
          "name": "stdout",
          "text": [
            "Register a hook to perform Random Maps Ablation on layer  layer1.1.conv2 Conv2d(64, 64, kernel_size=(3, 3), stride=(1, 1), padding=(1, 1), bias=False)\n",
            "Register a hook to perform Random Maps Ablation on layer  layer2.1.conv2 Conv2d(128, 128, kernel_size=(3, 3), stride=(1, 1), padding=(1, 1), bias=False)\n",
            "mask_out_ratio:  0.5\n",
            "random_mask sum():  tensor(12833646., device='cuda:0')\n",
            "mask_out_ratio:  0.5\n",
            "random_mask sum():  tensor(6414309., device='cuda:0')\n",
            "Remove the hook used to perform Activation Shaping on layer  layer1.1.conv2\n",
            "Remove the hook used to perform Activation Shaping on layer  layer2.1.conv2\n"
          ]
        },
        {
          "output_type": "stream",
          "name": "stderr",
          "text": [
            "\r  6%|▋         | 1/16 [00:02<00:41,  2.79s/it]"
          ]
        },
        {
          "output_type": "stream",
          "name": "stdout",
          "text": [
            "Register a hook to perform Random Maps Ablation on layer  layer1.1.conv2 Conv2d(64, 64, kernel_size=(3, 3), stride=(1, 1), padding=(1, 1), bias=False)\n",
            "Register a hook to perform Random Maps Ablation on layer  layer2.1.conv2 Conv2d(128, 128, kernel_size=(3, 3), stride=(1, 1), padding=(1, 1), bias=False)\n",
            "mask_out_ratio:  0.5\n",
            "random_mask sum():  tensor(12827634., device='cuda:0')\n",
            "mask_out_ratio:  0.5\n",
            "random_mask sum():  tensor(6415905., device='cuda:0')\n",
            "Remove the hook used to perform Activation Shaping on layer  layer1.1.conv2\n",
            "Remove the hook used to perform Activation Shaping on layer  layer2.1.conv2\n"
          ]
        },
        {
          "output_type": "stream",
          "name": "stderr",
          "text": [
            "\r 12%|█▎        | 2/16 [00:03<00:22,  1.58s/it]"
          ]
        },
        {
          "output_type": "stream",
          "name": "stdout",
          "text": [
            "Register a hook to perform Random Maps Ablation on layer  layer1.1.conv2 Conv2d(64, 64, kernel_size=(3, 3), stride=(1, 1), padding=(1, 1), bias=False)\n",
            "Register a hook to perform Random Maps Ablation on layer  layer2.1.conv2 Conv2d(128, 128, kernel_size=(3, 3), stride=(1, 1), padding=(1, 1), bias=False)\n",
            "mask_out_ratio:  0.5\n",
            "random_mask sum():  tensor(12832525., device='cuda:0')\n",
            "mask_out_ratio:  0.5\n",
            "random_mask sum():  tensor(6414478., device='cuda:0')\n",
            "Remove the hook used to perform Activation Shaping on layer  layer1.1.conv2\n",
            "Remove the hook used to perform Activation Shaping on layer  layer2.1.conv2\n"
          ]
        },
        {
          "output_type": "stream",
          "name": "stderr",
          "text": [
            "\r 19%|█▉        | 3/16 [00:03<00:12,  1.04it/s]"
          ]
        },
        {
          "output_type": "stream",
          "name": "stdout",
          "text": [
            "Register a hook to perform Random Maps Ablation on layer  layer1.1.conv2 Conv2d(64, 64, kernel_size=(3, 3), stride=(1, 1), padding=(1, 1), bias=False)\n",
            "Register a hook to perform Random Maps Ablation on layer  layer2.1.conv2 Conv2d(128, 128, kernel_size=(3, 3), stride=(1, 1), padding=(1, 1), bias=False)\n",
            "mask_out_ratio:  0.5\n",
            "random_mask sum():  tensor(12833156., device='cuda:0')\n",
            "mask_out_ratio:  0.5\n",
            "random_mask sum():  tensor(6415201., device='cuda:0')\n",
            "Remove the hook used to perform Activation Shaping on layer  layer1.1.conv2\n",
            "Remove the hook used to perform Activation Shaping on layer  layer2.1.conv2\n"
          ]
        },
        {
          "output_type": "stream",
          "name": "stderr",
          "text": [
            " 31%|███▏      | 5/16 [00:04<00:05,  1.96it/s]"
          ]
        },
        {
          "output_type": "stream",
          "name": "stdout",
          "text": [
            "Register a hook to perform Random Maps Ablation on layer  layer1.1.conv2 Conv2d(64, 64, kernel_size=(3, 3), stride=(1, 1), padding=(1, 1), bias=False)\n",
            "Register a hook to perform Random Maps Ablation on layer  layer2.1.conv2 Conv2d(128, 128, kernel_size=(3, 3), stride=(1, 1), padding=(1, 1), bias=False)\n",
            "mask_out_ratio:  0.5\n",
            "random_mask sum():  tensor(12836350., device='cuda:0')\n",
            "mask_out_ratio:  0.5\n",
            "random_mask sum():  tensor(6415386., device='cuda:0')\n",
            "Remove the hook used to perform Activation Shaping on layer  layer1.1.conv2\n",
            "Remove the hook used to perform Activation Shaping on layer  layer2.1.conv2\n"
          ]
        },
        {
          "output_type": "stream",
          "name": "stderr",
          "text": [
            "\r 38%|███▊      | 6/16 [00:05<00:09,  1.09it/s]"
          ]
        },
        {
          "output_type": "stream",
          "name": "stdout",
          "text": [
            "Register a hook to perform Random Maps Ablation on layer  layer1.1.conv2 Conv2d(64, 64, kernel_size=(3, 3), stride=(1, 1), padding=(1, 1), bias=False)\n",
            "Register a hook to perform Random Maps Ablation on layer  layer2.1.conv2 Conv2d(128, 128, kernel_size=(3, 3), stride=(1, 1), padding=(1, 1), bias=False)\n",
            "mask_out_ratio:  0.5\n",
            "random_mask sum():  tensor(12832804., device='cuda:0')\n",
            "mask_out_ratio:  0.5\n",
            "random_mask sum():  tensor(6413591., device='cuda:0')\n",
            "Remove the hook used to perform Activation Shaping on layer  layer1.1.conv2\n",
            "Remove the hook used to perform Activation Shaping on layer  layer2.1.conv2\n"
          ]
        },
        {
          "output_type": "stream",
          "name": "stderr",
          "text": [
            "\r 44%|████▍     | 7/16 [00:06<00:06,  1.37it/s]"
          ]
        },
        {
          "output_type": "stream",
          "name": "stdout",
          "text": [
            "Register a hook to perform Random Maps Ablation on layer  layer1.1.conv2 Conv2d(64, 64, kernel_size=(3, 3), stride=(1, 1), padding=(1, 1), bias=False)\n",
            "Register a hook to perform Random Maps Ablation on layer  layer2.1.conv2 Conv2d(128, 128, kernel_size=(3, 3), stride=(1, 1), padding=(1, 1), bias=False)\n",
            "mask_out_ratio:  0.5\n",
            "random_mask sum():  tensor(12827293., device='cuda:0')\n",
            "mask_out_ratio:  0.5\n",
            "random_mask sum():  tensor(6417660., device='cuda:0')\n",
            "Remove the hook used to perform Activation Shaping on layer  layer1.1.conv2\n",
            "Remove the hook used to perform Activation Shaping on layer  layer2.1.conv2\n"
          ]
        },
        {
          "output_type": "stream",
          "name": "stderr",
          "text": [
            "\r 50%|█████     | 8/16 [00:06<00:04,  1.77it/s]"
          ]
        },
        {
          "output_type": "stream",
          "name": "stdout",
          "text": [
            "Register a hook to perform Random Maps Ablation on layer  layer1.1.conv2 Conv2d(64, 64, kernel_size=(3, 3), stride=(1, 1), padding=(1, 1), bias=False)\n",
            "Register a hook to perform Random Maps Ablation on layer  layer2.1.conv2 Conv2d(128, 128, kernel_size=(3, 3), stride=(1, 1), padding=(1, 1), bias=False)\n",
            "mask_out_ratio:  0.5\n",
            "random_mask sum():  tensor(12832488., device='cuda:0')\n",
            "mask_out_ratio:  0.5\n",
            "random_mask sum():  tensor(6416755., device='cuda:0')\n",
            "Remove the hook used to perform Activation Shaping on layer  layer1.1.conv2\n",
            "Remove the hook used to perform Activation Shaping on layer  layer2.1.conv2\n"
          ]
        },
        {
          "output_type": "stream",
          "name": "stderr",
          "text": [
            "\r 56%|█████▋    | 9/16 [00:06<00:03,  2.23it/s]"
          ]
        },
        {
          "output_type": "stream",
          "name": "stdout",
          "text": [
            "Register a hook to perform Random Maps Ablation on layer  layer1.1.conv2 Conv2d(64, 64, kernel_size=(3, 3), stride=(1, 1), padding=(1, 1), bias=False)\n",
            "Register a hook to perform Random Maps Ablation on layer  layer2.1.conv2 Conv2d(128, 128, kernel_size=(3, 3), stride=(1, 1), padding=(1, 1), bias=False)\n",
            "mask_out_ratio:  0.5\n",
            "random_mask sum():  tensor(12835310., device='cuda:0')\n",
            "mask_out_ratio:  0.5\n",
            "random_mask sum():  tensor(6416010., device='cuda:0')\n",
            "Remove the hook used to perform Activation Shaping on layer  layer1.1.conv2\n",
            "Remove the hook used to perform Activation Shaping on layer  layer2.1.conv2\n",
            "Register a hook to perform Random Maps Ablation on layer  layer1.1.conv2 Conv2d(64, 64, kernel_size=(3, 3), stride=(1, 1), padding=(1, 1), bias=False)\n",
            "Register a hook to perform Random Maps Ablation on layer  layer2.1.conv2 Conv2d(128, 128, kernel_size=(3, 3), stride=(1, 1), padding=(1, 1), bias=False)\n",
            "mask_out_ratio:  0.5\n",
            "random_mask sum():  "
          ]
        },
        {
          "output_type": "stream",
          "name": "stderr",
          "text": [
            "\r 62%|██████▎   | 10/16 [00:06<00:02,  2.70it/s]"
          ]
        },
        {
          "output_type": "stream",
          "name": "stdout",
          "text": [
            "tensor(12835714., device='cuda:0')\n",
            "mask_out_ratio:  0.5\n",
            "random_mask sum():  tensor(6413982., device='cuda:0')\n",
            "Remove the hook used to perform Activation Shaping on layer  layer1.1.conv2\n",
            "Remove the hook used to perform Activation Shaping on layer  layer2.1.conv2\n"
          ]
        },
        {
          "output_type": "stream",
          "name": "stderr",
          "text": [
            "\r 69%|██████▉   | 11/16 [00:08<00:03,  1.48it/s]"
          ]
        },
        {
          "output_type": "stream",
          "name": "stdout",
          "text": [
            "Register a hook to perform Random Maps Ablation on layer  layer1.1.conv2 Conv2d(64, 64, kernel_size=(3, 3), stride=(1, 1), padding=(1, 1), bias=False)\n",
            "Register a hook to perform Random Maps Ablation on layer  layer2.1.conv2 Conv2d(128, 128, kernel_size=(3, 3), stride=(1, 1), padding=(1, 1), bias=False)\n",
            "mask_out_ratio:  0.5\n",
            "random_mask sum():  tensor(12832325., device='cuda:0')\n",
            "mask_out_ratio:  0.5\n",
            "random_mask sum():  tensor(6419081., device='cuda:0')\n",
            "Remove the hook used to perform Activation Shaping on layer  layer1.1.conv2\n",
            "Remove the hook used to perform Activation Shaping on layer  layer2.1.conv2\n",
            "Register a hook to perform Random Maps Ablation on layer  layer1.1.conv2 Conv2d(64, 64, kernel_size=(3, 3), stride=(1, 1), padding=(1, 1), bias=False)\n",
            "Register a hook to perform Random Maps Ablation on layer  layer2.1.conv2 Conv2d(128, 128, kernel_size=(3, 3), stride=(1, 1), padding=(1, 1), bias=False)\n",
            "mask_out_ratio:  0.5\n",
            "random_mask sum():  "
          ]
        },
        {
          "output_type": "stream",
          "name": "stderr",
          "text": [
            "\r 75%|███████▌  | 12/16 [00:08<00:02,  1.91it/s]"
          ]
        },
        {
          "output_type": "stream",
          "name": "stdout",
          "text": [
            "tensor(12829089., device='cuda:0')\n",
            "mask_out_ratio:  0.5\n",
            "random_mask sum():  tensor(6413868., device='cuda:0')\n",
            "Remove the hook used to perform Activation Shaping on layer  layer1.1.conv2\n",
            "Remove the hook used to perform Activation Shaping on layer  layer2.1.conv2\n",
            "Register a hook to perform Random Maps Ablation on layer  layer1.1.conv2 Conv2d(64, 64, kernel_size=(3, 3), stride=(1, 1), padding=(1, 1), bias=False)\n",
            "Register a hook to perform Random Maps Ablation on layer  layer2.1.conv2 Conv2d(128, 128, kernel_size=(3, 3), stride=(1, 1), padding=(1, 1), bias=False)\n",
            "mask_out_ratio:  0.5\n",
            "random_mask sum():  tensor(12830930., device='cuda:0')\n",
            "mask_out_ratio:  0.5\n",
            "random_mask sum():  tensor(6419510., device='cuda:0')"
          ]
        },
        {
          "output_type": "stream",
          "name": "stderr",
          "text": [
            "\r 81%|████████▏ | 13/16 [00:08<00:01,  2.37it/s]"
          ]
        },
        {
          "output_type": "stream",
          "name": "stdout",
          "text": [
            "\n",
            "Remove the hook used to perform Activation Shaping on layer  layer1.1.conv2\n",
            "Remove the hook used to perform Activation Shaping on layer  layer2.1.conv2\n",
            "Register a hook to perform Random Maps Ablation on layer  layer1.1.conv2 Conv2d(64, 64, kernel_size=(3, 3), stride=(1, 1), padding=(1, 1), bias=False)\n",
            "Register a hook to perform Random Maps Ablation on layer  layer2.1.conv2 Conv2d(128, 128, kernel_size=(3, 3), stride=(1, 1), padding=(1, 1), bias=False)\n",
            "mask_out_ratio:  0.5\n",
            "random_mask sum():  tensor(12831043., device='cuda:0')\n",
            "mask_out_ratio:  0.5\n",
            "random_mask sum():  tensor(6415484., device='cuda:0')\n",
            "Remove the hook used to perform Activation Shaping on layer  layer1.1.conv2\n",
            "Remove the hook used to perform Activation Shaping on layer  layer2.1.conv2\n"
          ]
        },
        {
          "output_type": "stream",
          "name": "stderr",
          "text": [
            " 94%|█████████▍| 15/16 [00:08<00:00,  3.34it/s]"
          ]
        },
        {
          "output_type": "stream",
          "name": "stdout",
          "text": [
            "Register a hook to perform Random Maps Ablation on layer  layer1.1.conv2 Conv2d(64, 64, kernel_size=(3, 3), stride=(1, 1), padding=(1, 1), bias=False)\n",
            "Register a hook to perform Random Maps Ablation on layer  layer2.1.conv2 Conv2d(128, 128, kernel_size=(3, 3), stride=(1, 1), padding=(1, 1), bias=False)\n",
            "mask_out_ratio:  0.5\n",
            "random_mask sum():  tensor(12833339., device='cuda:0')\n",
            "mask_out_ratio:  0.5\n",
            "random_mask sum():  tensor(6416659., device='cuda:0')\n",
            "Remove the hook used to perform Activation Shaping on layer  layer1.1.conv2\n",
            "Remove the hook used to perform Activation Shaping on layer  layer2.1.conv2\n",
            "Register a hook to perform Random Maps Ablation on layer  layer1.1.conv2 Conv2d(64, 64, kernel_size=(3, 3), stride=(1, 1), padding=(1, 1), bias=False)\n",
            "Register a hook to perform Random Maps Ablation on layer  layer2.1.conv2 Conv2d(128, 128, kernel_size=(3, 3), stride=(1, 1), padding=(1, 1), bias=False)\n",
            "mask_out_ratio:  0.5\n",
            "random_mask sum():  "
          ]
        },
        {
          "output_type": "stream",
          "name": "stderr",
          "text": [
            "100%|██████████| 16/16 [00:09<00:00,  1.75it/s]\n"
          ]
        },
        {
          "output_type": "stream",
          "name": "stdout",
          "text": [
            "tensor(12830502., device='cuda:0')\n",
            "mask_out_ratio:  0.5\n",
            "random_mask sum():  tensor(6417375., device='cuda:0')\n",
            "Remove the hook used to perform Activation Shaping on layer  layer1.1.conv2\n",
            "Remove the hook used to perform Activation Shaping on layer  layer2.1.conv2\n"
          ]
        },
        {
          "output_type": "stream",
          "name": "stderr",
          "text": [
            "100%|██████████| 31/31 [00:10<00:00,  2.88it/s]\n"
          ]
        },
        {
          "output_type": "stream",
          "name": "stdout",
          "text": [
            "Accuracy: 37.44 - Loss: 0.013146217981650648 \n",
            "\n"
          ]
        },
        {
          "output_type": "stream",
          "name": "stderr",
          "text": [
            "\r  0%|          | 0/16 [00:00<?, ?it/s]"
          ]
        },
        {
          "output_type": "stream",
          "name": "stdout",
          "text": [
            "Register a hook to perform Random Maps Ablation on layer  layer1.1.conv2 Conv2d(64, 64, kernel_size=(3, 3), stride=(1, 1), padding=(1, 1), bias=False)\n",
            "Register a hook to perform Random Maps Ablation on layer  layer2.1.conv2 Conv2d(128, 128, kernel_size=(3, 3), stride=(1, 1), padding=(1, 1), bias=False)\n",
            "mask_out_ratio:  0.5\n",
            "random_mask sum():  tensor(12831068., device='cuda:0')\n",
            "mask_out_ratio:  0.5\n",
            "random_mask sum():  tensor(6419993., device='cuda:0')\n",
            "Remove the hook used to perform Activation Shaping on layer  layer1.1.conv2\n",
            "Remove the hook used to perform Activation Shaping on layer  layer2.1.conv2\n"
          ]
        },
        {
          "output_type": "stream",
          "name": "stderr",
          "text": [
            " 12%|█▎        | 2/16 [00:02<00:16,  1.21s/it]"
          ]
        },
        {
          "output_type": "stream",
          "name": "stdout",
          "text": [
            "Register a hook to perform Random Maps Ablation on layer  layer1.1.conv2 Conv2d(64, 64, kernel_size=(3, 3), stride=(1, 1), padding=(1, 1), bias=False)\n",
            "Register a hook to perform Random Maps Ablation on layer  layer2.1.conv2 Conv2d(128, 128, kernel_size=(3, 3), stride=(1, 1), padding=(1, 1), bias=False)\n",
            "mask_out_ratio:  0.5\n",
            "random_mask sum():  tensor(12833194., device='cuda:0')\n",
            "mask_out_ratio:  0.5\n",
            "random_mask sum():  tensor(6418312., device='cuda:0')\n",
            "Remove the hook used to perform Activation Shaping on layer  layer1.1.conv2\n",
            "Remove the hook used to perform Activation Shaping on layer  layer2.1.conv2\n",
            "Register a hook to perform Random Maps Ablation on layer  layer1.1.conv2 Conv2d(64, 64, kernel_size=(3, 3), stride=(1, 1), padding=(1, 1), bias=False)\n",
            "Register a hook to perform Random Maps Ablation on layer  layer2.1.conv2 Conv2d(128, 128, kernel_size=(3, 3), stride=(1, 1), padding=(1, 1), bias=False)\n"
          ]
        },
        {
          "output_type": "stream",
          "name": "stderr",
          "text": [
            "\r 19%|█▉        | 3/16 [00:03<00:09,  1.33it/s]"
          ]
        },
        {
          "output_type": "stream",
          "name": "stdout",
          "text": [
            "mask_out_ratio:  0.5\n",
            "random_mask sum():  tensor(12835552., device='cuda:0')\n",
            "mask_out_ratio:  0.5\n",
            "random_mask sum():  tensor(6418511., device='cuda:0')\n",
            "Remove the hook used to perform Activation Shaping on layer  layer1.1.conv2\n",
            "Remove the hook used to perform Activation Shaping on layer  layer2.1.conv2\n",
            "Register a hook to perform Random Maps Ablation on layer  layer1.1.conv2 Conv2d(64, 64, kernel_size=(3, 3), stride=(1, 1), padding=(1, 1), bias=False)\n",
            "Register a hook to perform Random Maps Ablation on layer  layer2.1.conv2 Conv2d(128, 128, kernel_size=(3, 3), stride=(1, 1), padding=(1, 1), bias=False)\n"
          ]
        },
        {
          "output_type": "stream",
          "name": "stderr",
          "text": [
            "\r 25%|██▌       | 4/16 [00:03<00:06,  1.88it/s]"
          ]
        },
        {
          "output_type": "stream",
          "name": "stdout",
          "text": [
            "mask_out_ratio:  0.5\n",
            "random_mask sum():  tensor(12831542., device='cuda:0')\n",
            "mask_out_ratio:  0.5\n",
            "random_mask sum():  tensor(6417069., device='cuda:0')\n",
            "Remove the hook used to perform Activation Shaping on layer  layer1.1.conv2\n",
            "Remove the hook used to perform Activation Shaping on layer  layer2.1.conv2\n",
            "Register a hook to perform Random Maps Ablation on layer  layer1.1.conv2 Conv2d(64, 64, kernel_size=(3, 3), stride=(1, 1), padding=(1, 1), bias=False)\n",
            "Register a hook to perform Random Maps Ablation on layer  layer2.1.conv2 Conv2d(128, 128, kernel_size=(3, 3), stride=(1, 1), padding=(1, 1), bias=False)\n"
          ]
        },
        {
          "output_type": "stream",
          "name": "stderr",
          "text": [
            "\r 31%|███▏      | 5/16 [00:03<00:04,  2.37it/s]"
          ]
        },
        {
          "output_type": "stream",
          "name": "stdout",
          "text": [
            "mask_out_ratio:  0.5\n",
            "random_mask sum():  tensor(12831613., device='cuda:0')\n",
            "mask_out_ratio:  0.5\n",
            "random_mask sum():  tensor(6418208., device='cuda:0')\n",
            "Remove the hook used to perform Activation Shaping on layer  layer1.1.conv2\n",
            "Remove the hook used to perform Activation Shaping on layer  layer2.1.conv2\n"
          ]
        },
        {
          "output_type": "stream",
          "name": "stderr",
          "text": [
            "\r 38%|███▊      | 6/16 [00:04<00:07,  1.40it/s]"
          ]
        },
        {
          "output_type": "stream",
          "name": "stdout",
          "text": [
            "Register a hook to perform Random Maps Ablation on layer  layer1.1.conv2 Conv2d(64, 64, kernel_size=(3, 3), stride=(1, 1), padding=(1, 1), bias=False)\n",
            "Register a hook to perform Random Maps Ablation on layer  layer2.1.conv2 Conv2d(128, 128, kernel_size=(3, 3), stride=(1, 1), padding=(1, 1), bias=False)\n",
            "mask_out_ratio:  0.5\n",
            "random_mask sum():  tensor(12831149., device='cuda:0')\n",
            "mask_out_ratio:  0.5\n",
            "random_mask sum():  tensor(6417324., device='cuda:0')\n",
            "Remove the hook used to perform Activation Shaping on layer  layer1.1.conv2\n",
            "Remove the hook used to perform Activation Shaping on layer  layer2.1.conv2\n"
          ]
        },
        {
          "output_type": "stream",
          "name": "stderr",
          "text": [
            "\r 44%|████▍     | 7/16 [00:05<00:05,  1.57it/s]"
          ]
        },
        {
          "output_type": "stream",
          "name": "stdout",
          "text": [
            "Register a hook to perform Random Maps Ablation on layer  layer1.1.conv2 Conv2d(64, 64, kernel_size=(3, 3), stride=(1, 1), padding=(1, 1), bias=False)\n",
            "Register a hook to perform Random Maps Ablation on layer  layer2.1.conv2 Conv2d(128, 128, kernel_size=(3, 3), stride=(1, 1), padding=(1, 1), bias=False)\n",
            "mask_out_ratio:  0.5\n",
            "random_mask sum():  tensor(12833959., device='cuda:0')\n",
            "mask_out_ratio:  0.5\n",
            "random_mask sum():  tensor(6416069., device='cuda:0')\n",
            "Remove the hook used to perform Activation Shaping on layer  layer1.1.conv2\n",
            "Remove the hook used to perform Activation Shaping on layer  layer2.1.conv2\n",
            "Register a hook to perform Random Maps Ablation on layer "
          ]
        },
        {
          "output_type": "stream",
          "name": "stderr",
          "text": [
            "\r 50%|█████     | 8/16 [00:05<00:04,  1.99it/s]"
          ]
        },
        {
          "output_type": "stream",
          "name": "stdout",
          "text": [
            " layer1.1.conv2 Conv2d(64, 64, kernel_size=(3, 3), stride=(1, 1), padding=(1, 1), bias=False)\n",
            "Register a hook to perform Random Maps Ablation on layer  layer2.1.conv2 Conv2d(128, 128, kernel_size=(3, 3), stride=(1, 1), padding=(1, 1), bias=False)\n",
            "mask_out_ratio:  0.5\n",
            "random_mask sum():  tensor(12835574., device='cuda:0')\n",
            "mask_out_ratio:  0.5\n",
            "random_mask sum():  tensor(6415553., device='cuda:0')\n",
            "Remove the hook used to perform Activation Shaping on layer  layer1.1.conv2\n",
            "Remove the hook used to perform Activation Shaping on layer  layer2.1.conv2\n"
          ]
        },
        {
          "output_type": "stream",
          "name": "stderr",
          "text": [
            "\r 56%|█████▋    | 9/16 [00:05<00:02,  2.45it/s]"
          ]
        },
        {
          "output_type": "stream",
          "name": "stdout",
          "text": [
            "Register a hook to perform Random Maps Ablation on layer  layer1.1.conv2 Conv2d(64, 64, kernel_size=(3, 3), stride=(1, 1), padding=(1, 1), bias=False)\n",
            "Register a hook to perform Random Maps Ablation on layer  layer2.1.conv2 Conv2d(128, 128, kernel_size=(3, 3), stride=(1, 1), padding=(1, 1), bias=False)\n",
            "mask_out_ratio:  0.5\n",
            "random_mask sum():  tensor(12835692., device='cuda:0')\n",
            "mask_out_ratio:  0.5\n",
            "random_mask sum():  tensor(6417947., device='cuda:0')\n",
            "Remove the hook used to perform Activation Shaping on layer  layer1.1.conv2\n",
            "Remove the hook used to perform Activation Shaping on layer  layer2.1.conv2\n",
            "Register a hook to perform Random Maps Ablation on layer "
          ]
        },
        {
          "output_type": "stream",
          "name": "stderr",
          "text": [
            "\r 62%|██████▎   | 10/16 [00:05<00:02,  2.89it/s]"
          ]
        },
        {
          "output_type": "stream",
          "name": "stdout",
          "text": [
            " layer1.1.conv2 Conv2d(64, 64, kernel_size=(3, 3), stride=(1, 1), padding=(1, 1), bias=False)\n",
            "Register a hook to perform Random Maps Ablation on layer  layer2.1.conv2 Conv2d(128, 128, kernel_size=(3, 3), stride=(1, 1), padding=(1, 1), bias=False)\n",
            "mask_out_ratio:  0.5\n",
            "random_mask sum():  tensor(12832745., device='cuda:0')\n",
            "mask_out_ratio:  0.5\n",
            "random_mask sum():  tensor(6416930., device='cuda:0')\n",
            "Remove the hook used to perform Activation Shaping on layer  layer1.1.conv2\n",
            "Remove the hook used to perform Activation Shaping on layer  layer2.1.conv2\n"
          ]
        },
        {
          "output_type": "stream",
          "name": "stderr",
          "text": [
            "\r 69%|██████▉   | 11/16 [00:07<00:02,  1.68it/s]"
          ]
        },
        {
          "output_type": "stream",
          "name": "stdout",
          "text": [
            "Register a hook to perform Random Maps Ablation on layer  layer1.1.conv2 Conv2d(64, 64, kernel_size=(3, 3), stride=(1, 1), padding=(1, 1), bias=False)\n",
            "Register a hook to perform Random Maps Ablation on layer  layer2.1.conv2 Conv2d(128, 128, kernel_size=(3, 3), stride=(1, 1), padding=(1, 1), bias=False)\n",
            "mask_out_ratio:  0.5\n",
            "random_mask sum():  tensor(12830519., device='cuda:0')\n",
            "mask_out_ratio:  0.5\n",
            "random_mask sum():  tensor(6415620., device='cuda:0')\n",
            "Remove the hook used to perform Activation Shaping on layer  layer1.1.conv2\n",
            "Remove the hook used to perform Activation Shaping on layer  layer2.1.conv2\n"
          ]
        },
        {
          "output_type": "stream",
          "name": "stderr",
          "text": [
            "\r 75%|███████▌  | 12/16 [00:07<00:02,  1.83it/s]"
          ]
        },
        {
          "output_type": "stream",
          "name": "stdout",
          "text": [
            "Register a hook to perform Random Maps Ablation on layer  layer1.1.conv2 Conv2d(64, 64, kernel_size=(3, 3), stride=(1, 1), padding=(1, 1), bias=False)\n",
            "Register a hook to perform Random Maps Ablation on layer  layer2.1.conv2 Conv2d(128, 128, kernel_size=(3, 3), stride=(1, 1), padding=(1, 1), bias=False)\n",
            "mask_out_ratio:  0.5\n",
            "random_mask sum():  tensor(12833903., device='cuda:0')\n",
            "mask_out_ratio:  0.5\n",
            "random_mask sum():  tensor(6416604., device='cuda:0')\n",
            "Remove the hook used to perform Activation Shaping on layer  layer1.1.conv2\n",
            "Remove the hook used to perform Activation Shaping on layer  layer2.1.conv2\n",
            "Register a hook to perform Random Maps Ablation on layer  layer1.1.conv2 Conv2d(64, 64, kernel_size=(3, 3), stride=(1, 1), padding=(1, 1), bias=False)\n",
            "Register a hook to perform Random Maps Ablation on layer  layer2.1.conv2 Conv2d(128, 128, kernel_size=(3, 3), stride=(1, 1), padding=(1, 1), bias=False)\n",
            "mask_out_ratio:  0.5\n",
            "random_mask sum():  "
          ]
        },
        {
          "output_type": "stream",
          "name": "stderr",
          "text": [
            "\r 81%|████████▏ | 13/16 [00:07<00:01,  2.29it/s]"
          ]
        },
        {
          "output_type": "stream",
          "name": "stdout",
          "text": [
            "tensor(12830685., device='cuda:0')\n",
            "mask_out_ratio:  0.5\n",
            "random_mask sum():  tensor(6416652., device='cuda:0')\n",
            "Remove the hook used to perform Activation Shaping on layer  layer1.1.conv2\n",
            "Remove the hook used to perform Activation Shaping on layer  layer2.1.conv2\n",
            "Register a hook to perform Random Maps Ablation on layer  layer1.1.conv2 Conv2d(64, 64, kernel_size=(3, 3), stride=(1, 1), padding=(1, 1), bias=False)\n",
            "Register a hook to perform Random Maps Ablation on layer  layer2.1.conv2 Conv2d(128, 128, kernel_size=(3, 3), stride=(1, 1), padding=(1, 1), bias=False)\n",
            "mask_out_ratio:  0.5\n",
            "random_mask sum():  tensor(12832166., device='cuda:0')\n",
            "mask_out_ratio:  0.5\n",
            "random_mask sum():  "
          ]
        },
        {
          "output_type": "stream",
          "name": "stderr",
          "text": [
            "\r 88%|████████▊ | 14/16 [00:07<00:00,  2.77it/s]"
          ]
        },
        {
          "output_type": "stream",
          "name": "stdout",
          "text": [
            "tensor(6413674., device='cuda:0')\n",
            "Remove the hook used to perform Activation Shaping on layer  layer1.1.conv2\n",
            "Remove the hook used to perform Activation Shaping on layer  layer2.1.conv2\n",
            "Register a hook to perform Random Maps Ablation on layer  layer1.1.conv2 Conv2d(64, 64, kernel_size=(3, 3), stride=(1, 1), padding=(1, 1), bias=False)\n",
            "Register a hook to perform Random Maps Ablation on layer  layer2.1.conv2 Conv2d(128, 128, kernel_size=(3, 3), stride=(1, 1), padding=(1, 1), bias=False)\n",
            "mask_out_ratio:  0.5\n",
            "random_mask sum():  tensor(12828718., device='cuda:0')\n",
            "mask_out_ratio:  0.5\n",
            "random_mask sum():  tensor(6418826., device='cuda:0')\n",
            "Remove the hook used to perform Activation Shaping on layer  layer1.1.conv2\n",
            "Remove the hook used to perform Activation Shaping on layer  layer2.1.conv2\n"
          ]
        },
        {
          "output_type": "stream",
          "name": "stderr",
          "text": [
            "100%|██████████| 16/16 [00:08<00:00,  1.93it/s]\n"
          ]
        },
        {
          "output_type": "stream",
          "name": "stdout",
          "text": [
            "Register a hook to perform Random Maps Ablation on layer  layer1.1.conv2 Conv2d(64, 64, kernel_size=(3, 3), stride=(1, 1), padding=(1, 1), bias=False)\n",
            "Register a hook to perform Random Maps Ablation on layer  layer2.1.conv2 Conv2d(128, 128, kernel_size=(3, 3), stride=(1, 1), padding=(1, 1), bias=False)\n",
            "mask_out_ratio:  0.5\n",
            "random_mask sum():  tensor(12835997., device='cuda:0')\n",
            "mask_out_ratio:  0.5\n",
            "random_mask sum():  tensor(6416465., device='cuda:0')\n",
            "Remove the hook used to perform Activation Shaping on layer  layer1.1.conv2\n",
            "Remove the hook used to perform Activation Shaping on layer  layer2.1.conv2\n"
          ]
        },
        {
          "output_type": "stream",
          "name": "stderr",
          "text": [
            "100%|██████████| 31/31 [00:10<00:00,  2.99it/s]\n"
          ]
        },
        {
          "output_type": "stream",
          "name": "stdout",
          "text": [
            "Accuracy: 40.19 - Loss: 0.012653995179195505 \n",
            "\n"
          ]
        },
        {
          "output_type": "stream",
          "name": "stderr",
          "text": [
            "\r  0%|          | 0/16 [00:00<?, ?it/s]"
          ]
        },
        {
          "output_type": "stream",
          "name": "stdout",
          "text": [
            "Register a hook to perform Random Maps Ablation on layer  layer1.1.conv2 Conv2d(64, 64, kernel_size=(3, 3), stride=(1, 1), padding=(1, 1), bias=False)\n",
            "Register a hook to perform Random Maps Ablation on layer  layer2.1.conv2 Conv2d(128, 128, kernel_size=(3, 3), stride=(1, 1), padding=(1, 1), bias=False)\n",
            "mask_out_ratio:  0.5\n",
            "random_mask sum():  tensor(12831913., device='cuda:0')\n",
            "mask_out_ratio:  0.5\n",
            "random_mask sum():  tensor(6416820., device='cuda:0')\n",
            "Remove the hook used to perform Activation Shaping on layer  layer1.1.conv2\n",
            "Remove the hook used to perform Activation Shaping on layer  layer2.1.conv2\n"
          ]
        },
        {
          "output_type": "stream",
          "name": "stderr",
          "text": [
            "\r  6%|▋         | 1/16 [00:03<00:49,  3.30s/it]"
          ]
        },
        {
          "output_type": "stream",
          "name": "stdout",
          "text": [
            "Register a hook to perform Random Maps Ablation on layer  layer1.1.conv2 Conv2d(64, 64, kernel_size=(3, 3), stride=(1, 1), padding=(1, 1), bias=False)\n",
            "Register a hook to perform Random Maps Ablation on layer  layer2.1.conv2 Conv2d(128, 128, kernel_size=(3, 3), stride=(1, 1), padding=(1, 1), bias=False)\n",
            "mask_out_ratio:  0.5\n",
            "random_mask sum():  tensor(12831034., device='cuda:0')\n",
            "mask_out_ratio:  0.5\n",
            "random_mask sum():  tensor(6421694., device='cuda:0')\n",
            "Remove the hook used to perform Activation Shaping on layer  layer1.1.conv2\n",
            "Remove the hook used to perform Activation Shaping on layer  layer2.1.conv2\n"
          ]
        },
        {
          "output_type": "stream",
          "name": "stderr",
          "text": [
            " 19%|█▉        | 3/16 [00:03<00:12,  1.08it/s]"
          ]
        },
        {
          "output_type": "stream",
          "name": "stdout",
          "text": [
            "Register a hook to perform Random Maps Ablation on layer  layer1.1.conv2 Conv2d(64, 64, kernel_size=(3, 3), stride=(1, 1), padding=(1, 1), bias=False)\n",
            "Register a hook to perform Random Maps Ablation on layer  layer2.1.conv2 Conv2d(128, 128, kernel_size=(3, 3), stride=(1, 1), padding=(1, 1), bias=False)\n",
            "mask_out_ratio:  0.5\n",
            "random_mask sum():  tensor(12832484., device='cuda:0')\n",
            "mask_out_ratio:  0.5\n",
            "random_mask sum():  tensor(6417793., device='cuda:0')\n",
            "Remove the hook used to perform Activation Shaping on layer  layer1.1.conv2\n",
            "Remove the hook used to perform Activation Shaping on layer  layer2.1.conv2\n",
            "Register a hook to perform Random Maps Ablation on layer  layer1.1.conv2 Conv2d(64, 64, kernel_size=(3, 3), stride=(1, 1), padding=(1, 1), bias=False)\n",
            "Register a hook to perform Random Maps Ablation on layer  layer2.1.conv2 Conv2d(128, 128, kernel_size=(3, 3), stride=(1, 1), padding=(1, 1), bias=False)\n",
            "mask_out_ratio:  0.5\n",
            "random_mask sum():  "
          ]
        },
        {
          "output_type": "stream",
          "name": "stderr",
          "text": [
            "\r 25%|██▌       | 4/16 [00:04<00:07,  1.55it/s]"
          ]
        },
        {
          "output_type": "stream",
          "name": "stdout",
          "text": [
            "tensor(12832167., device='cuda:0')\n",
            "mask_out_ratio:  0.5\n",
            "random_mask sum():  tensor(6413979., device='cuda:0')\n",
            "Remove the hook used to perform Activation Shaping on layer  layer1.1.conv2\n",
            "Remove the hook used to perform Activation Shaping on layer  layer2.1.conv2\n",
            "Register a hook to perform Random Maps Ablation on layer  layer1.1.conv2 Conv2d(64, 64, kernel_size=(3, 3), stride=(1, 1), padding=(1, 1), bias=False)\n",
            "Register a hook to perform Random Maps Ablation on layer  layer2.1.conv2 Conv2d(128, 128, kernel_size=(3, 3), stride=(1, 1), padding=(1, 1), bias=False)\n",
            "mask_out_ratio:  0.5\n",
            "random_mask sum():  "
          ]
        },
        {
          "output_type": "stream",
          "name": "stderr",
          "text": [
            "\r 31%|███▏      | 5/16 [00:04<00:05,  2.01it/s]"
          ]
        },
        {
          "output_type": "stream",
          "name": "stdout",
          "text": [
            "tensor(12833249., device='cuda:0')\n",
            "mask_out_ratio:  0.5\n",
            "random_mask sum():  tensor(6418833., device='cuda:0')\n",
            "Remove the hook used to perform Activation Shaping on layer  layer1.1.conv2\n",
            "Remove the hook used to perform Activation Shaping on layer  layer2.1.conv2\n"
          ]
        },
        {
          "output_type": "stream",
          "name": "stderr",
          "text": [
            "\r 38%|███▊      | 6/16 [00:05<00:08,  1.19it/s]"
          ]
        },
        {
          "output_type": "stream",
          "name": "stdout",
          "text": [
            "Register a hook to perform Random Maps Ablation on layer  layer1.1.conv2 Conv2d(64, 64, kernel_size=(3, 3), stride=(1, 1), padding=(1, 1), bias=False)\n",
            "Register a hook to perform Random Maps Ablation on layer  layer2.1.conv2 Conv2d(128, 128, kernel_size=(3, 3), stride=(1, 1), padding=(1, 1), bias=False)\n",
            "mask_out_ratio:  0.5\n",
            "random_mask sum():  tensor(12830366., device='cuda:0')\n",
            "mask_out_ratio:  0.5\n",
            "random_mask sum():  tensor(6417879., device='cuda:0')\n",
            "Remove the hook used to perform Activation Shaping on layer  layer1.1.conv2\n",
            "Remove the hook used to perform Activation Shaping on layer  layer2.1.conv2\n"
          ]
        },
        {
          "output_type": "stream",
          "name": "stderr",
          "text": [
            "\r 44%|████▍     | 7/16 [00:06<00:06,  1.47it/s]"
          ]
        },
        {
          "output_type": "stream",
          "name": "stdout",
          "text": [
            "Register a hook to perform Random Maps Ablation on layer  layer1.1.conv2 Conv2d(64, 64, kernel_size=(3, 3), stride=(1, 1), padding=(1, 1), bias=False)\n",
            "Register a hook to perform Random Maps Ablation on layer  layer2.1.conv2 Conv2d(128, 128, kernel_size=(3, 3), stride=(1, 1), padding=(1, 1), bias=False)\n",
            "mask_out_ratio:  0.5\n",
            "random_mask sum():  tensor(12833463., device='cuda:0')\n",
            "mask_out_ratio:  0.5\n",
            "random_mask sum():  tensor(6417653., device='cuda:0')\n",
            "Remove the hook used to perform Activation Shaping on layer  layer1.1.conv2\n",
            "Remove the hook used to perform Activation Shaping on layer  layer2.1.conv2\n",
            "Register a hook to perform Random Maps Ablation on layer  layer1.1.conv2 Conv2d(64, 64, kernel_size=(3, 3), stride=(1, 1), padding=(1, 1), bias=False)\n",
            "Register a hook to perform Random Maps Ablation on layer  layer2.1.conv2 Conv2d(128, 128, kernel_size=(3, 3), stride=(1, 1), padding=(1, 1), bias=False)\n",
            "mask_out_ratio:  0.5\n",
            "random_mask sum():  tensor(12828540., device='cuda:0')\n",
            "mask_out_ratio:  0.5\n",
            "random_mask sum():  tensor(6418086., device='cuda:0')\n",
            "Remove the hook used to perform Activation Shaping on layer  layer1.1.conv2\n",
            "Remove the hook used to perform Activation Shaping on layer  layer2.1.conv2\n"
          ]
        },
        {
          "output_type": "stream",
          "name": "stderr",
          "text": [
            " 56%|█████▋    | 9/16 [00:06<00:03,  2.30it/s]"
          ]
        },
        {
          "output_type": "stream",
          "name": "stdout",
          "text": [
            "Register a hook to perform Random Maps Ablation on layer  layer1.1.conv2 Conv2d(64, 64, kernel_size=(3, 3), stride=(1, 1), padding=(1, 1), bias=False)\n",
            "Register a hook to perform Random Maps Ablation on layer  layer2.1.conv2 Conv2d(128, 128, kernel_size=(3, 3), stride=(1, 1), padding=(1, 1), bias=False)\n",
            "mask_out_ratio:  0.5\n",
            "random_mask sum():  tensor(12832940., device='cuda:0')\n",
            "mask_out_ratio:  0.5\n",
            "random_mask sum():  tensor(6415085., device='cuda:0')\n",
            "Remove the hook used to perform Activation Shaping on layer  layer1.1.conv2\n",
            "Remove the hook used to perform Activation Shaping on layer  layer2.1.conv2\n"
          ]
        },
        {
          "output_type": "stream",
          "name": "stderr",
          "text": [
            "\r 62%|██████▎   | 10/16 [00:06<00:02,  2.75it/s]"
          ]
        },
        {
          "output_type": "stream",
          "name": "stdout",
          "text": [
            "Register a hook to perform Random Maps Ablation on layer  layer1.1.conv2 Conv2d(64, 64, kernel_size=(3, 3), stride=(1, 1), padding=(1, 1), bias=False)\n",
            "Register a hook to perform Random Maps Ablation on layer  layer2.1.conv2 Conv2d(128, 128, kernel_size=(3, 3), stride=(1, 1), padding=(1, 1), bias=False)\n",
            "mask_out_ratio:  0.5\n",
            "random_mask sum():  tensor(12831870., device='cuda:0')\n",
            "mask_out_ratio:  0.5\n",
            "random_mask sum():  tensor(6417649., device='cuda:0')\n",
            "Remove the hook used to perform Activation Shaping on layer  layer1.1.conv2\n",
            "Remove the hook used to perform Activation Shaping on layer  layer2.1.conv2\n"
          ]
        },
        {
          "output_type": "stream",
          "name": "stderr",
          "text": [
            "\r 69%|██████▉   | 11/16 [00:08<00:03,  1.41it/s]"
          ]
        },
        {
          "output_type": "stream",
          "name": "stdout",
          "text": [
            "Register a hook to perform Random Maps Ablation on layer  layer1.1.conv2 Conv2d(64, 64, kernel_size=(3, 3), stride=(1, 1), padding=(1, 1), bias=False)\n",
            "Register a hook to perform Random Maps Ablation on layer  layer2.1.conv2 Conv2d(128, 128, kernel_size=(3, 3), stride=(1, 1), padding=(1, 1), bias=False)\n",
            "mask_out_ratio:  0.5\n",
            "random_mask sum():  tensor(12832939., device='cuda:0')\n",
            "mask_out_ratio:  0.5\n",
            "random_mask sum():  tensor(6414003., device='cuda:0')\n",
            "Remove the hook used to perform Activation Shaping on layer  layer1.1.conv2\n",
            "Remove the hook used to perform Activation Shaping on layer  layer2.1.conv2\n",
            "Register a hook to perform Random Maps Ablation on layer  layer1.1.conv2 Conv2d(64, 64, kernel_size=(3, 3), stride=(1, 1), padding=(1, 1), bias=False)\n",
            "Register a hook to perform Random Maps Ablation on layer  layer2.1.conv2 Conv2d(128, 128, kernel_size=(3, 3), stride=(1, 1), padding=(1, 1), bias=False)\n",
            "mask_out_ratio:  0.5\n",
            "random_mask sum():  "
          ]
        },
        {
          "output_type": "stream",
          "name": "stderr",
          "text": [
            "\r 75%|███████▌  | 12/16 [00:08<00:02,  1.83it/s]"
          ]
        },
        {
          "output_type": "stream",
          "name": "stdout",
          "text": [
            "tensor(12834839., device='cuda:0')\n",
            "mask_out_ratio:  0.5\n",
            "random_mask sum():  tensor(6415480., device='cuda:0')\n",
            "Remove the hook used to perform Activation Shaping on layer  layer1.1.conv2\n",
            "Remove the hook used to perform Activation Shaping on layer  layer2.1.conv2\n",
            "Register a hook to perform Random Maps Ablation on layer  layer1.1.conv2 Conv2d(64, 64, kernel_size=(3, 3), stride=(1, 1), padding=(1, 1), bias=False)\n",
            "Register a hook to perform Random Maps Ablation on layer  layer2.1.conv2 Conv2d(128, 128, kernel_size=(3, 3), stride=(1, 1), padding=(1, 1), bias=False)\n",
            "mask_out_ratio:  0.5\n",
            "random_mask sum():  tensor(12831170., device='cuda:0')\n",
            "mask_out_ratio:  0.5\n",
            "random_mask sum():  "
          ]
        },
        {
          "output_type": "stream",
          "name": "stderr",
          "text": [
            "\r 81%|████████▏ | 13/16 [00:08<00:01,  2.29it/s]"
          ]
        },
        {
          "output_type": "stream",
          "name": "stdout",
          "text": [
            "tensor(6414617., device='cuda:0')\n",
            "Remove the hook used to perform Activation Shaping on layer  layer1.1.conv2\n",
            "Remove the hook used to perform Activation Shaping on layer  layer2.1.conv2\n",
            "Register a hook to perform Random Maps Ablation on layer  layer1.1.conv2 Conv2d(64, 64, kernel_size=(3, 3), stride=(1, 1), padding=(1, 1), bias=False)\n",
            "Register a hook to perform Random Maps Ablation on layer  layer2.1.conv2 Conv2d(128, 128, kernel_size=(3, 3), stride=(1, 1), padding=(1, 1), bias=False)\n",
            "mask_out_ratio:  0.5\n",
            "random_mask sum():  tensor(12831277., device='cuda:0')\n",
            "mask_out_ratio:  0.5\n",
            "random_mask sum():  tensor(6415193., device='cuda:0')\n",
            "Remove the hook used to perform Activation Shaping on layer  layer1.1.conv2\n",
            "Remove the hook used to perform Activation Shaping on layer  layer2.1.conv2\n"
          ]
        },
        {
          "output_type": "stream",
          "name": "stderr",
          "text": [
            " 94%|█████████▍| 15/16 [00:08<00:00,  3.26it/s]"
          ]
        },
        {
          "output_type": "stream",
          "name": "stdout",
          "text": [
            "Register a hook to perform Random Maps Ablation on layer  layer1.1.conv2 Conv2d(64, 64, kernel_size=(3, 3), stride=(1, 1), padding=(1, 1), bias=False)\n",
            "Register a hook to perform Random Maps Ablation on layer  layer2.1.conv2 Conv2d(128, 128, kernel_size=(3, 3), stride=(1, 1), padding=(1, 1), bias=False)\n",
            "mask_out_ratio:  0.5\n",
            "random_mask sum():  tensor(12834533., device='cuda:0')\n",
            "mask_out_ratio:  0.5\n",
            "random_mask sum():  tensor(6416998., device='cuda:0')\n",
            "Remove the hook used to perform Activation Shaping on layer  layer1.1.conv2\n",
            "Remove the hook used to perform Activation Shaping on layer  layer2.1.conv2\n",
            "Register a hook to perform Random Maps Ablation on layer  layer1.1.conv2 Conv2d(64, 64, kernel_size=(3, 3), stride=(1, 1), padding=(1, 1), bias=False)\n",
            "Register a hook to perform Random Maps Ablation on layer  layer2.1.conv2 Conv2d(128, 128, kernel_size=(3, 3), stride=(1, 1), padding=(1, 1), bias=False)\n",
            "mask_out_ratio:  0.5\n",
            "random_mask sum():  "
          ]
        },
        {
          "output_type": "stream",
          "name": "stderr",
          "text": [
            "100%|██████████| 16/16 [00:09<00:00,  1.75it/s]\n"
          ]
        },
        {
          "output_type": "stream",
          "name": "stdout",
          "text": [
            "tensor(12833810., device='cuda:0')\n",
            "mask_out_ratio:  0.5\n",
            "random_mask sum():  tensor(6415226., device='cuda:0')\n",
            "Remove the hook used to perform Activation Shaping on layer  layer1.1.conv2\n",
            "Remove the hook used to perform Activation Shaping on layer  layer2.1.conv2\n"
          ]
        },
        {
          "output_type": "stream",
          "name": "stderr",
          "text": [
            "100%|██████████| 31/31 [00:10<00:00,  2.85it/s]\n"
          ]
        },
        {
          "output_type": "stream",
          "name": "stdout",
          "text": [
            "Accuracy: 40.19 - Loss: 0.012795775681241047 \n",
            "\n"
          ]
        },
        {
          "output_type": "stream",
          "name": "stderr",
          "text": [
            "\r  0%|          | 0/16 [00:00<?, ?it/s]"
          ]
        },
        {
          "output_type": "stream",
          "name": "stdout",
          "text": [
            "Register a hook to perform Random Maps Ablation on layer  layer1.1.conv2 Conv2d(64, 64, kernel_size=(3, 3), stride=(1, 1), padding=(1, 1), bias=False)\n",
            "Register a hook to perform Random Maps Ablation on layer  layer2.1.conv2 Conv2d(128, 128, kernel_size=(3, 3), stride=(1, 1), padding=(1, 1), bias=False)\n",
            "mask_out_ratio:  0.5\n",
            "random_mask sum():  tensor(12831168., device='cuda:0')\n",
            "mask_out_ratio:  0.5\n",
            "random_mask sum():  tensor(6415235., device='cuda:0')\n",
            "Remove the hook used to perform Activation Shaping on layer  layer1.1.conv2\n",
            "Remove the hook used to perform Activation Shaping on layer  layer2.1.conv2\n"
          ]
        },
        {
          "output_type": "stream",
          "name": "stderr",
          "text": [
            " 12%|█▎        | 2/16 [00:02<00:16,  1.16s/it]"
          ]
        },
        {
          "output_type": "stream",
          "name": "stdout",
          "text": [
            "Register a hook to perform Random Maps Ablation on layer  layer1.1.conv2 Conv2d(64, 64, kernel_size=(3, 3), stride=(1, 1), padding=(1, 1), bias=False)\n",
            "Register a hook to perform Random Maps Ablation on layer  layer2.1.conv2 Conv2d(128, 128, kernel_size=(3, 3), stride=(1, 1), padding=(1, 1), bias=False)\n",
            "mask_out_ratio:  0.5\n",
            "random_mask sum():  tensor(12830876., device='cuda:0')\n",
            "mask_out_ratio:  0.5\n",
            "random_mask sum():  tensor(6413644., device='cuda:0')\n",
            "Remove the hook used to perform Activation Shaping on layer  layer1.1.conv2\n",
            "Remove the hook used to perform Activation Shaping on layer  layer2.1.conv2\n"
          ]
        },
        {
          "output_type": "stream",
          "name": "stderr",
          "text": [
            "\r 19%|█▉        | 3/16 [00:02<00:09,  1.38it/s]"
          ]
        },
        {
          "output_type": "stream",
          "name": "stdout",
          "text": [
            "Register a hook to perform Random Maps Ablation on layer  layer1.1.conv2 Conv2d(64, 64, kernel_size=(3, 3), stride=(1, 1), padding=(1, 1), bias=False)\n",
            "Register a hook to perform Random Maps Ablation on layer  layer2.1.conv2 Conv2d(128, 128, kernel_size=(3, 3), stride=(1, 1), padding=(1, 1), bias=False)\n",
            "mask_out_ratio:  0.5\n",
            "random_mask sum():  tensor(12834645., device='cuda:0')\n",
            "mask_out_ratio:  0.5\n",
            "random_mask sum():  tensor(6419746., device='cuda:0')\n",
            "Remove the hook used to perform Activation Shaping on layer  layer1.1.conv2\n",
            "Remove the hook used to perform Activation Shaping on layer  layer2.1.conv2\n"
          ]
        },
        {
          "output_type": "stream",
          "name": "stderr",
          "text": [
            "\r 25%|██▌       | 4/16 [00:03<00:06,  1.92it/s]"
          ]
        },
        {
          "output_type": "stream",
          "name": "stdout",
          "text": [
            "Register a hook to perform Random Maps Ablation on layer  layer1.1.conv2 Conv2d(64, 64, kernel_size=(3, 3), stride=(1, 1), padding=(1, 1), bias=False)\n",
            "Register a hook to perform Random Maps Ablation on layer  layer2.1.conv2 Conv2d(128, 128, kernel_size=(3, 3), stride=(1, 1), padding=(1, 1), bias=False)\n",
            "mask_out_ratio:  0.5\n",
            "random_mask sum():  tensor(12831904., device='cuda:0')\n",
            "mask_out_ratio:  0.5\n",
            "random_mask sum():  tensor(6416626., device='cuda:0')\n",
            "Remove the hook used to perform Activation Shaping on layer  layer1.1.conv2\n",
            "Remove the hook used to perform Activation Shaping on layer  layer2.1.conv2\n"
          ]
        },
        {
          "output_type": "stream",
          "name": "stderr",
          "text": [
            "\r 31%|███▏      | 5/16 [00:03<00:04,  2.46it/s]"
          ]
        },
        {
          "output_type": "stream",
          "name": "stdout",
          "text": [
            "Register a hook to perform Random Maps Ablation on layer  layer1.1.conv2 Conv2d(64, 64, kernel_size=(3, 3), stride=(1, 1), padding=(1, 1), bias=False)\n",
            "Register a hook to perform Random Maps Ablation on layer  layer2.1.conv2 Conv2d(128, 128, kernel_size=(3, 3), stride=(1, 1), padding=(1, 1), bias=False)\n",
            "mask_out_ratio:  0.5\n",
            "random_mask sum():  tensor(12831381., device='cuda:0')\n",
            "mask_out_ratio:  0.5\n",
            "random_mask sum():  tensor(6414676., device='cuda:0')\n",
            "Remove the hook used to perform Activation Shaping on layer  layer1.1.conv2\n",
            "Remove the hook used to perform Activation Shaping on layer  layer2.1.conv2\n"
          ]
        },
        {
          "output_type": "stream",
          "name": "stderr",
          "text": [
            "\r 38%|███▊      | 6/16 [00:04<00:08,  1.24it/s]"
          ]
        },
        {
          "output_type": "stream",
          "name": "stdout",
          "text": [
            "Register a hook to perform Random Maps Ablation on layer  layer1.1.conv2 Conv2d(64, 64, kernel_size=(3, 3), stride=(1, 1), padding=(1, 1), bias=False)\n",
            "Register a hook to perform Random Maps Ablation on layer  layer2.1.conv2 Conv2d(128, 128, kernel_size=(3, 3), stride=(1, 1), padding=(1, 1), bias=False)\n",
            "mask_out_ratio:  0.5\n",
            "random_mask sum():  tensor(12834339., device='cuda:0')\n",
            "mask_out_ratio:  0.5\n",
            "random_mask sum():  tensor(6415844., device='cuda:0')\n",
            "Remove the hook used to perform Activation Shaping on layer  layer1.1.conv2\n",
            "Remove the hook used to perform Activation Shaping on layer  layer2.1.conv2\n",
            "Register a hook to perform Random Maps Ablation on layer  layer1.1.conv2 Conv2d(64, 64, kernel_size=(3, 3), stride=(1, 1), padding=(1, 1), bias=False)\n",
            "Register a hook to perform Random Maps Ablation on layer  layer2.1.conv2 Conv2d(128, 128, kernel_size=(3, 3), stride=(1, 1), padding=(1, 1), bias=False)\n",
            "mask_out_ratio:  0.5\n",
            "random_mask sum():  tensor(12832267., device='cuda:0')\n",
            "mask_out_ratio:  0.5\n",
            "random_mask sum():  tensor(6417929., device='cuda:0')\n",
            "Remove the hook used to perform Activation Shaping on layer  layer1.1.conv2\n",
            "Remove the hook used to perform Activation Shaping on layer  layer2.1.conv2\n"
          ]
        },
        {
          "output_type": "stream",
          "name": "stderr",
          "text": [
            " 50%|█████     | 8/16 [00:05<00:03,  2.02it/s]"
          ]
        },
        {
          "output_type": "stream",
          "name": "stdout",
          "text": [
            "Register a hook to perform Random Maps Ablation on layer  layer1.1.conv2 Conv2d(64, 64, kernel_size=(3, 3), stride=(1, 1), padding=(1, 1), bias=False)\n",
            "Register a hook to perform Random Maps Ablation on layer  layer2.1.conv2 Conv2d(128, 128, kernel_size=(3, 3), stride=(1, 1), padding=(1, 1), bias=False)\n",
            "mask_out_ratio:  0.5\n",
            "random_mask sum():  tensor(12831502., device='cuda:0')\n",
            "mask_out_ratio:  0.5\n",
            "random_mask sum():  tensor(6414475., device='cuda:0')\n",
            "Remove the hook used to perform Activation Shaping on layer  layer1.1.conv2\n",
            "Remove the hook used to perform Activation Shaping on layer  layer2.1.conv2\n"
          ]
        },
        {
          "output_type": "stream",
          "name": "stderr",
          "text": [
            "\r 56%|█████▋    | 9/16 [00:05<00:02,  2.46it/s]"
          ]
        },
        {
          "output_type": "stream",
          "name": "stdout",
          "text": [
            "Register a hook to perform Random Maps Ablation on layer  layer1.1.conv2 Conv2d(64, 64, kernel_size=(3, 3), stride=(1, 1), padding=(1, 1), bias=False)\n",
            "Register a hook to perform Random Maps Ablation on layer  layer2.1.conv2 Conv2d(128, 128, kernel_size=(3, 3), stride=(1, 1), padding=(1, 1), bias=False)\n",
            "mask_out_ratio:  0.5\n",
            "random_mask sum():  tensor(12832117., device='cuda:0')\n",
            "mask_out_ratio:  0.5\n",
            "random_mask sum():  tensor(6417645., device='cuda:0')\n",
            "Remove the hook used to perform Activation Shaping on layer  layer1.1.conv2\n",
            "Remove the hook used to perform Activation Shaping on layer  layer2.1.conv2\n"
          ]
        },
        {
          "output_type": "stream",
          "name": "stderr",
          "text": [
            "\r 62%|██████▎   | 10/16 [00:05<00:02,  2.91it/s]"
          ]
        },
        {
          "output_type": "stream",
          "name": "stdout",
          "text": [
            "Register a hook to perform Random Maps Ablation on layer  layer1.1.conv2 Conv2d(64, 64, kernel_size=(3, 3), stride=(1, 1), padding=(1, 1), bias=False)\n",
            "Register a hook to perform Random Maps Ablation on layer  layer2.1.conv2 Conv2d(128, 128, kernel_size=(3, 3), stride=(1, 1), padding=(1, 1), bias=False)\n",
            "mask_out_ratio:  0.5\n",
            "random_mask sum():  tensor(12834878., device='cuda:0')\n",
            "mask_out_ratio:  0.5\n",
            "random_mask sum():  tensor(6417399., device='cuda:0')\n",
            "Remove the hook used to perform Activation Shaping on layer  layer1.1.conv2\n",
            "Remove the hook used to perform Activation Shaping on layer  layer2.1.conv2\n",
            "Register a hook to perform Random Maps Ablation on layer  layer1.1.conv2 Conv2d(64, 64, kernel_size=(3, 3), stride=(1, 1), padding=(1, 1), bias=False)\n",
            "Register a hook to perform Random Maps Ablation on layer  layer2.1.conv2 Conv2d(128, 128, kernel_size=(3, 3), stride=(1, 1), padding=(1, 1), bias=False)\n",
            "mask_out_ratio:  0.5\n",
            "random_mask sum():  tensor(12829668., device='cuda:0')\n",
            "mask_out_ratio:  0.5\n",
            "random_mask sum():  tensor(6417395., device='cuda:0')\n",
            "Remove the hook used to perform Activation Shaping on layer  layer1.1.conv2\n",
            "Remove the hook used to perform Activation Shaping on layer  layer2.1.conv2\n"
          ]
        },
        {
          "output_type": "stream",
          "name": "stderr",
          "text": [
            " 75%|███████▌  | 12/16 [00:07<00:02,  1.58it/s]"
          ]
        },
        {
          "output_type": "stream",
          "name": "stdout",
          "text": [
            "Register a hook to perform Random Maps Ablation on layer  layer1.1.conv2 Conv2d(64, 64, kernel_size=(3, 3), stride=(1, 1), padding=(1, 1), bias=False)\n",
            "Register a hook to perform Random Maps Ablation on layer  layer2.1.conv2 Conv2d(128, 128, kernel_size=(3, 3), stride=(1, 1), padding=(1, 1), bias=False)\n",
            "mask_out_ratio:  0.5\n",
            "random_mask sum():  tensor(12833600., device='cuda:0')\n",
            "mask_out_ratio:  0.5\n",
            "random_mask sum():  tensor(6416473., device='cuda:0')\n",
            "Remove the hook used to perform Activation Shaping on layer  layer1.1.conv2\n",
            "Remove the hook used to perform Activation Shaping on layer  layer2.1.conv2\n",
            "Register a hook to perform Random Maps Ablation on layer  layer1.1.conv2 Conv2d(64, 64, kernel_size=(3, 3), stride=(1, 1), padding=(1, 1), bias=False)\n",
            "Register a hook to perform Random Maps Ablation on layer  "
          ]
        },
        {
          "output_type": "stream",
          "name": "stderr",
          "text": [
            "\r 81%|████████▏ | 13/16 [00:08<00:01,  2.00it/s]"
          ]
        },
        {
          "output_type": "stream",
          "name": "stdout",
          "text": [
            "layer2.1.conv2 Conv2d(128, 128, kernel_size=(3, 3), stride=(1, 1), padding=(1, 1), bias=False)\n",
            "mask_out_ratio:  0.5\n",
            "random_mask sum():  tensor(12834210., device='cuda:0')\n",
            "mask_out_ratio:  0.5\n",
            "random_mask sum():  tensor(6414631., device='cuda:0')\n",
            "Remove the hook used to perform Activation Shaping on layer  layer1.1.conv2\n",
            "Remove the hook used to perform Activation Shaping on layer  layer2.1.conv2\n",
            "Register a hook to perform Random Maps Ablation on layer  layer1.1.conv2 Conv2d(64, 64, kernel_size=(3, 3), stride=(1, 1), padding=(1, 1), bias=False)\n",
            "Register a hook to perform Random Maps Ablation on layer  layer2.1.conv2 Conv2d(128, 128, kernel_size=(3, 3), stride=(1, 1), padding=(1, 1), bias=False)\n",
            "mask_out_ratio:  0.5\n",
            "random_mask sum():  "
          ]
        },
        {
          "output_type": "stream",
          "name": "stderr",
          "text": [
            "\r 88%|████████▊ | 14/16 [00:08<00:00,  2.47it/s]"
          ]
        },
        {
          "output_type": "stream",
          "name": "stdout",
          "text": [
            "tensor(12830313., device='cuda:0')\n",
            "mask_out_ratio:  0.5\n",
            "random_mask sum():  tensor(6415431., device='cuda:0')\n",
            "Remove the hook used to perform Activation Shaping on layer  layer1.1.conv2\n",
            "Remove the hook used to perform Activation Shaping on layer  layer2.1.conv2\n",
            "Register a hook to perform Random Maps Ablation on layer  layer1.1.conv2 Conv2d(64, 64, kernel_size=(3, 3), stride=(1, 1), padding=(1, 1), bias=False)\n",
            "Register a hook to perform Random Maps Ablation on layer  layer2.1.conv2 Conv2d(128, 128, kernel_size=(3, 3), stride=(1, 1), padding=(1, 1), bias=False)\n",
            "mask_out_ratio:  0.5\n",
            "random_mask sum():  tensor(12831145., device='cuda:0')\n",
            "mask_out_ratio:  0.5\n",
            "random_mask sum():  "
          ]
        },
        {
          "output_type": "stream",
          "name": "stderr",
          "text": [
            "\r 94%|█████████▍| 15/16 [00:08<00:00,  2.94it/s]"
          ]
        },
        {
          "output_type": "stream",
          "name": "stdout",
          "text": [
            "tensor(6415890., device='cuda:0')\n",
            "Remove the hook used to perform Activation Shaping on layer  layer1.1.conv2\n",
            "Remove the hook used to perform Activation Shaping on layer  layer2.1.conv2\n"
          ]
        },
        {
          "output_type": "stream",
          "name": "stderr",
          "text": [
            "100%|██████████| 16/16 [00:08<00:00,  1.79it/s]\n"
          ]
        },
        {
          "output_type": "stream",
          "name": "stdout",
          "text": [
            "Register a hook to perform Random Maps Ablation on layer  layer1.1.conv2 Conv2d(64, 64, kernel_size=(3, 3), stride=(1, 1), padding=(1, 1), bias=False)\n",
            "Register a hook to perform Random Maps Ablation on layer  layer2.1.conv2 Conv2d(128, 128, kernel_size=(3, 3), stride=(1, 1), padding=(1, 1), bias=False)\n",
            "mask_out_ratio:  0.5\n",
            "random_mask sum():  tensor(12832541., device='cuda:0')\n",
            "mask_out_ratio:  0.5\n",
            "random_mask sum():  tensor(6416167., device='cuda:0')\n",
            "Remove the hook used to perform Activation Shaping on layer  layer1.1.conv2\n",
            "Remove the hook used to perform Activation Shaping on layer  layer2.1.conv2\n"
          ]
        },
        {
          "output_type": "stream",
          "name": "stderr",
          "text": [
            "100%|██████████| 31/31 [00:09<00:00,  3.16it/s]\n"
          ]
        },
        {
          "output_type": "stream",
          "name": "stdout",
          "text": [
            "Accuracy: 44.24 - Loss: 0.011852204253516388 \n",
            "\n"
          ]
        },
        {
          "output_type": "stream",
          "name": "stderr",
          "text": [
            "\r  0%|          | 0/16 [00:00<?, ?it/s]"
          ]
        },
        {
          "output_type": "stream",
          "name": "stdout",
          "text": [
            "Register a hook to perform Random Maps Ablation on layer  layer1.1.conv2 Conv2d(64, 64, kernel_size=(3, 3), stride=(1, 1), padding=(1, 1), bias=False)\n",
            "Register a hook to perform Random Maps Ablation on layer  layer2.1.conv2 Conv2d(128, 128, kernel_size=(3, 3), stride=(1, 1), padding=(1, 1), bias=False)\n",
            "mask_out_ratio:  0.5\n",
            "random_mask sum():  tensor(12828263., device='cuda:0')\n",
            "mask_out_ratio:  0.5\n",
            "random_mask sum():  tensor(6416419., device='cuda:0')\n",
            "Remove the hook used to perform Activation Shaping on layer  layer1.1.conv2\n",
            "Remove the hook used to perform Activation Shaping on layer  layer2.1.conv2\n"
          ]
        },
        {
          "output_type": "stream",
          "name": "stderr",
          "text": [
            " 12%|█▎        | 2/16 [00:03<00:22,  1.61s/it]"
          ]
        },
        {
          "output_type": "stream",
          "name": "stdout",
          "text": [
            "Register a hook to perform Random Maps Ablation on layer  layer1.1.conv2 Conv2d(64, 64, kernel_size=(3, 3), stride=(1, 1), padding=(1, 1), bias=False)\n",
            "Register a hook to perform Random Maps Ablation on layer  layer2.1.conv2 Conv2d(128, 128, kernel_size=(3, 3), stride=(1, 1), padding=(1, 1), bias=False)\n",
            "mask_out_ratio:  0.5\n",
            "random_mask sum():  tensor(12829722., device='cuda:0')\n",
            "mask_out_ratio:  0.5\n",
            "random_mask sum():  tensor(6417381., device='cuda:0')\n",
            "Remove the hook used to perform Activation Shaping on layer  layer1.1.conv2\n",
            "Remove the hook used to perform Activation Shaping on layer  layer2.1.conv2\n",
            "Register a hook to perform Random Maps Ablation on layer  layer1.1.conv2 Conv2d(64, 64, kernel_size=(3, 3), stride=(1, 1), padding=(1, 1), bias=False)\n",
            "Register a hook to perform Random Maps Ablation on layer  layer2.1.conv2 Conv2d(128, 128, kernel_size=(3, 3), stride=(1, 1), padding=(1, 1), bias=False)\n",
            "mask_out_ratio:  0.5\n",
            "random_mask sum():  "
          ]
        },
        {
          "output_type": "stream",
          "name": "stderr",
          "text": [
            "\r 19%|█▉        | 3/16 [00:04<00:12,  1.03it/s]"
          ]
        },
        {
          "output_type": "stream",
          "name": "stdout",
          "text": [
            "tensor(12835549., device='cuda:0')\n",
            "mask_out_ratio:  0.5\n",
            "random_mask sum():  tensor(6417490., device='cuda:0')\n",
            "Remove the hook used to perform Activation Shaping on layer  layer1.1.conv2\n",
            "Remove the hook used to perform Activation Shaping on layer  layer2.1.conv2\n",
            "Register a hook to perform Random Maps Ablation on layer  layer1.1.conv2 Conv2d(64, 64, kernel_size=(3, 3), stride=(1, 1), padding=(1, 1), bias=False)\n",
            "Register a hook to perform Random Maps Ablation on layer  layer2.1.conv2 Conv2d(128, 128, kernel_size=(3, 3), stride=(1, 1), padding=(1, 1), bias=False)\n",
            "mask_out_ratio:  0.5\n",
            "random_mask sum():  tensor(12837098., device='cuda:0')\n",
            "mask_out_ratio:  "
          ]
        },
        {
          "output_type": "stream",
          "name": "stderr",
          "text": [
            "\r 25%|██▌       | 4/16 [00:04<00:07,  1.51it/s]"
          ]
        },
        {
          "output_type": "stream",
          "name": "stdout",
          "text": [
            "0.5\n",
            "random_mask sum():  tensor(6417931., device='cuda:0')\n",
            "Remove the hook used to perform Activation Shaping on layer  layer1.1.conv2\n",
            "Remove the hook used to perform Activation Shaping on layer  layer2.1.conv2\n",
            "Register a hook to perform Random Maps Ablation on layer  layer1.1.conv2 Conv2d(64, 64, kernel_size=(3, 3), stride=(1, 1), padding=(1, 1), bias=False)\n",
            "Register a hook to perform Random Maps Ablation on layer  layer2.1.conv2 Conv2d(128, 128, kernel_size=(3, 3), stride=(1, 1), padding=(1, 1), bias=False)\n",
            "mask_out_ratio:  0.5\n",
            "random_mask sum():  tensor(12832850., device='cuda:0')\n",
            "mask_out_ratio:  0.5\n",
            "random_mask sum():  "
          ]
        },
        {
          "output_type": "stream",
          "name": "stderr",
          "text": [
            "\r 31%|███▏      | 5/16 [00:04<00:05,  2.01it/s]"
          ]
        },
        {
          "output_type": "stream",
          "name": "stdout",
          "text": [
            "tensor(6415879., device='cuda:0')\n",
            "Remove the hook used to perform Activation Shaping on layer  layer1.1.conv2\n",
            "Remove the hook used to perform Activation Shaping on layer  layer2.1.conv2\n"
          ]
        },
        {
          "output_type": "stream",
          "name": "stderr",
          "text": [
            "\r 38%|███▊      | 6/16 [00:05<00:07,  1.28it/s]"
          ]
        },
        {
          "output_type": "stream",
          "name": "stdout",
          "text": [
            "Register a hook to perform Random Maps Ablation on layer  layer1.1.conv2 Conv2d(64, 64, kernel_size=(3, 3), stride=(1, 1), padding=(1, 1), bias=False)\n",
            "Register a hook to perform Random Maps Ablation on layer  layer2.1.conv2 Conv2d(128, 128, kernel_size=(3, 3), stride=(1, 1), padding=(1, 1), bias=False)\n",
            "mask_out_ratio:  0.5\n",
            "random_mask sum():  tensor(12828379., device='cuda:0')\n",
            "mask_out_ratio:  0.5\n",
            "random_mask sum():  tensor(6416157., device='cuda:0')\n",
            "Remove the hook used to perform Activation Shaping on layer  layer1.1.conv2\n",
            "Remove the hook used to perform Activation Shaping on layer  layer2.1.conv2\n"
          ]
        },
        {
          "output_type": "stream",
          "name": "stderr",
          "text": [
            "\r 44%|████▍     | 7/16 [00:06<00:06,  1.35it/s]"
          ]
        },
        {
          "output_type": "stream",
          "name": "stdout",
          "text": [
            "Register a hook to perform Random Maps Ablation on layer  layer1.1.conv2 Conv2d(64, 64, kernel_size=(3, 3), stride=(1, 1), padding=(1, 1), bias=False)\n",
            "Register a hook to perform Random Maps Ablation on layer  layer2.1.conv2 Conv2d(128, 128, kernel_size=(3, 3), stride=(1, 1), padding=(1, 1), bias=False)\n",
            "mask_out_ratio:  0.5\n",
            "random_mask sum():  tensor(12832178., device='cuda:0')\n",
            "mask_out_ratio:  0.5\n",
            "random_mask sum():  tensor(6416476., device='cuda:0')\n",
            "Remove the hook used to perform Activation Shaping on layer  layer1.1.conv2\n",
            "Remove the hook used to perform Activation Shaping on layer  layer2.1.conv2\n",
            "Register a hook to perform Random Maps Ablation on layer  layer1.1.conv2 Conv2d(64, 64, kernel_size=(3, 3), stride=(1, 1), padding=(1, 1), bias=False)\n",
            "Register a hook to perform Random Maps Ablation on layer  layer2.1.conv2 Conv2d(128, 128, kernel_size=(3, 3), stride=(1, 1), padding=(1, 1), bias=False)\n",
            "mask_out_ratio:  0.5\n",
            "random_mask sum():  tensor(12832413., device='cuda:0')\n",
            "mask_out_ratio:  0.5\n",
            "random_mask sum():  tensor(6415074., device='cuda:0')\n",
            "Remove the hook used to perform Activation Shaping on layer  layer1.1.conv2\n",
            "Remove the hook used to perform Activation Shaping on layer  layer2.1.conv2\n"
          ]
        },
        {
          "output_type": "stream",
          "name": "stderr",
          "text": [
            "\r 50%|█████     | 8/16 [00:06<00:04,  1.73it/s]"
          ]
        },
        {
          "output_type": "stream",
          "name": "stdout",
          "text": [
            "Register a hook to perform Random Maps Ablation on layer  layer1.1.conv2 Conv2d(64, 64, kernel_size=(3, 3), stride=(1, 1), padding=(1, 1), bias=False)\n",
            "Register a hook to perform Random Maps Ablation on layer  layer2.1.conv2 Conv2d(128, 128, kernel_size=(3, 3), stride=(1, 1), padding=(1, 1), bias=False)\n",
            "mask_out_ratio:  0.5\n",
            "random_mask sum():  tensor(12836733., device='cuda:0')\n",
            "mask_out_ratio:  0.5\n",
            "random_mask sum():  tensor(6413139., device='cuda:0')\n",
            "Remove the hook used to perform Activation Shaping on layer  layer1.1.conv2\n",
            "Remove the hook used to perform Activation Shaping on layer  layer2.1.conv2\n"
          ]
        },
        {
          "output_type": "stream",
          "name": "stderr",
          "text": [
            " 62%|██████▎   | 10/16 [00:07<00:02,  2.53it/s]"
          ]
        },
        {
          "output_type": "stream",
          "name": "stdout",
          "text": [
            "Register a hook to perform Random Maps Ablation on layer  layer1.1.conv2 Conv2d(64, 64, kernel_size=(3, 3), stride=(1, 1), padding=(1, 1), bias=False)\n",
            "Register a hook to perform Random Maps Ablation on layer  layer2.1.conv2 Conv2d(128, 128, kernel_size=(3, 3), stride=(1, 1), padding=(1, 1), bias=False)\n",
            "mask_out_ratio:  0.5\n",
            "random_mask sum():  tensor(12832245., device='cuda:0')\n",
            "mask_out_ratio:  0.5\n",
            "random_mask sum():  tensor(6419765., device='cuda:0')\n",
            "Remove the hook used to perform Activation Shaping on layer  layer1.1.conv2\n",
            "Remove the hook used to perform Activation Shaping on layer  layer2.1.conv2\n"
          ]
        },
        {
          "output_type": "stream",
          "name": "stderr",
          "text": [
            "\r 69%|██████▉   | 11/16 [00:08<00:02,  1.78it/s]"
          ]
        },
        {
          "output_type": "stream",
          "name": "stdout",
          "text": [
            "Register a hook to perform Random Maps Ablation on layer  layer1.1.conv2 Conv2d(64, 64, kernel_size=(3, 3), stride=(1, 1), padding=(1, 1), bias=False)\n",
            "Register a hook to perform Random Maps Ablation on layer  layer2.1.conv2 Conv2d(128, 128, kernel_size=(3, 3), stride=(1, 1), padding=(1, 1), bias=False)\n",
            "mask_out_ratio:  0.5\n",
            "random_mask sum():  tensor(12831577., device='cuda:0')\n",
            "mask_out_ratio:  0.5\n",
            "random_mask sum():  tensor(6415496., device='cuda:0')\n",
            "Remove the hook used to perform Activation Shaping on layer  layer1.1.conv2\n",
            "Remove the hook used to perform Activation Shaping on layer  layer2.1.conv2\n",
            "Register a hook to perform Random Maps Ablation on layer  layer1.1.conv2 Conv2d(64, 64, kernel_size=(3, 3), stride=(1, 1), padding=(1, 1), bias=False)\n",
            "Register a hook to perform Random Maps Ablation on layer  layer2.1.conv2 Conv2d(128, 128, kernel_size=(3, 3), stride=(1, 1), padding=(1, 1), bias=False)\n",
            "mask_out_ratio:  0.5\n"
          ]
        },
        {
          "output_type": "stream",
          "name": "stderr",
          "text": [
            "\r 75%|███████▌  | 12/16 [00:08<00:01,  2.22it/s]"
          ]
        },
        {
          "output_type": "stream",
          "name": "stdout",
          "text": [
            "random_mask sum():  tensor(12831184., device='cuda:0')\n",
            "mask_out_ratio:  0.5\n",
            "random_mask sum():  tensor(6418006., device='cuda:0')\n",
            "Remove the hook used to perform Activation Shaping on layer  layer1.1.conv2\n",
            "Remove the hook used to perform Activation Shaping on layer  layer2.1.conv2\n",
            "Register a hook to perform Random Maps Ablation on layer  layer1.1.conv2 Conv2d(64, 64, kernel_size=(3, 3), stride=(1, 1), padding=(1, 1), bias=False)\n",
            "Register a hook to perform Random Maps Ablation on layer  layer2.1.conv2 Conv2d(128, 128, kernel_size=(3, 3), stride=(1, 1), padding=(1, 1), bias=False)\n",
            "mask_out_ratio:  0.5\n",
            "random_mask sum():  "
          ]
        },
        {
          "output_type": "stream",
          "name": "stderr",
          "text": [
            "\r 81%|████████▏ | 13/16 [00:08<00:01,  2.70it/s]"
          ]
        },
        {
          "output_type": "stream",
          "name": "stdout",
          "text": [
            "tensor(12826418., device='cuda:0')\n",
            "mask_out_ratio:  0.5\n",
            "random_mask sum():  tensor(6414457., device='cuda:0')\n",
            "Remove the hook used to perform Activation Shaping on layer  layer1.1.conv2\n",
            "Remove the hook used to perform Activation Shaping on layer  layer2.1.conv2\n",
            "Register a hook to perform Random Maps Ablation on layer  layer1.1.conv2 Conv2d(64, 64, kernel_size=(3, 3), stride=(1, 1), padding=(1, 1), bias=False)\n",
            "Register a hook to perform Random Maps Ablation on layer  layer2.1.conv2 Conv2d(128, 128, kernel_size=(3, 3), stride=(1, 1), padding=(1, 1), bias=False)\n",
            "mask_out_ratio:  0.5\n",
            "random_mask sum():  tensor(12832550., device='cuda:0')\n",
            "mask_out_ratio:  0.5\n",
            "random_mask sum():  "
          ]
        },
        {
          "output_type": "stream",
          "name": "stderr",
          "text": [
            "\r 88%|████████▊ | 14/16 [00:08<00:00,  3.20it/s]"
          ]
        },
        {
          "output_type": "stream",
          "name": "stdout",
          "text": [
            "tensor(6417022., device='cuda:0')\n",
            "Remove the hook used to perform Activation Shaping on layer  layer1.1.conv2\n",
            "Remove the hook used to perform Activation Shaping on layer  layer2.1.conv2\n",
            "Register a hook to perform Random Maps Ablation on layer  layer1.1.conv2 Conv2d(64, 64, kernel_size=(3, 3), stride=(1, 1), padding=(1, 1), bias=False)\n",
            "Register a hook to perform Random Maps Ablation on layer  layer2.1.conv2 Conv2d(128, 128, kernel_size=(3, 3), stride=(1, 1), padding=(1, 1), bias=False)\n",
            "mask_out_ratio:  0.5\n",
            "random_mask sum():  tensor(12829123., device='cuda:0')\n",
            "mask_out_ratio:  0.5\n",
            "random_mask sum():  tensor(6415911., device='cuda:0')\n",
            "Remove the hook used to perform Activation Shaping on layer  layer1.1.conv2\n",
            "Remove the hook used to perform Activation Shaping on layer  layer2.1.conv2\n"
          ]
        },
        {
          "output_type": "stream",
          "name": "stderr",
          "text": [
            "100%|██████████| 16/16 [00:08<00:00,  1.78it/s]\n"
          ]
        },
        {
          "output_type": "stream",
          "name": "stdout",
          "text": [
            "Register a hook to perform Random Maps Ablation on layer  layer1.1.conv2 Conv2d(64, 64, kernel_size=(3, 3), stride=(1, 1), padding=(1, 1), bias=False)\n",
            "Register a hook to perform Random Maps Ablation on layer  layer2.1.conv2 Conv2d(128, 128, kernel_size=(3, 3), stride=(1, 1), padding=(1, 1), bias=False)\n",
            "mask_out_ratio:  0.5\n",
            "random_mask sum():  tensor(12836680., device='cuda:0')\n",
            "mask_out_ratio:  0.5\n",
            "random_mask sum():  tensor(6418454., device='cuda:0')\n",
            "Remove the hook used to perform Activation Shaping on layer  layer1.1.conv2\n",
            "Remove the hook used to perform Activation Shaping on layer  layer2.1.conv2\n"
          ]
        },
        {
          "output_type": "stream",
          "name": "stderr",
          "text": [
            "100%|██████████| 31/31 [00:10<00:00,  2.83it/s]\n"
          ]
        },
        {
          "output_type": "stream",
          "name": "stdout",
          "text": [
            "Accuracy: 41.49 - Loss: 0.012506845283217029 \n",
            "\n"
          ]
        },
        {
          "output_type": "stream",
          "name": "stderr",
          "text": [
            "\r  0%|          | 0/16 [00:00<?, ?it/s]"
          ]
        },
        {
          "output_type": "stream",
          "name": "stdout",
          "text": [
            "Register a hook to perform Random Maps Ablation on layer  layer1.1.conv2 Conv2d(64, 64, kernel_size=(3, 3), stride=(1, 1), padding=(1, 1), bias=False)\n",
            "Register a hook to perform Random Maps Ablation on layer  layer2.1.conv2 Conv2d(128, 128, kernel_size=(3, 3), stride=(1, 1), padding=(1, 1), bias=False)\n",
            "mask_out_ratio:  0.5\n",
            "random_mask sum():  tensor(12830810., device='cuda:0')\n",
            "mask_out_ratio:  0.5\n",
            "random_mask sum():  tensor(6415211., device='cuda:0')\n",
            "Remove the hook used to perform Activation Shaping on layer  layer1.1.conv2\n",
            "Remove the hook used to perform Activation Shaping on layer  layer2.1.conv2\n"
          ]
        },
        {
          "output_type": "stream",
          "name": "stderr",
          "text": [
            " 12%|█▎        | 2/16 [00:02<00:17,  1.29s/it]"
          ]
        },
        {
          "output_type": "stream",
          "name": "stdout",
          "text": [
            "Register a hook to perform Random Maps Ablation on layer  layer1.1.conv2 Conv2d(64, 64, kernel_size=(3, 3), stride=(1, 1), padding=(1, 1), bias=False)\n",
            "Register a hook to perform Random Maps Ablation on layer  layer2.1.conv2 Conv2d(128, 128, kernel_size=(3, 3), stride=(1, 1), padding=(1, 1), bias=False)\n",
            "mask_out_ratio:  0.5\n",
            "random_mask sum():  tensor(12831987., device='cuda:0')\n",
            "mask_out_ratio:  0.5\n",
            "random_mask sum():  tensor(6415063., device='cuda:0')\n",
            "Remove the hook used to perform Activation Shaping on layer  layer1.1.conv2\n",
            "Remove the hook used to perform Activation Shaping on layer  layer2.1.conv2\n"
          ]
        },
        {
          "output_type": "stream",
          "name": "stderr",
          "text": [
            "\r 19%|█▉        | 3/16 [00:03<00:10,  1.25it/s]"
          ]
        },
        {
          "output_type": "stream",
          "name": "stdout",
          "text": [
            "Register a hook to perform Random Maps Ablation on layer  layer1.1.conv2 Conv2d(64, 64, kernel_size=(3, 3), stride=(1, 1), padding=(1, 1), bias=False)\n",
            "Register a hook to perform Random Maps Ablation on layer  layer2.1.conv2 Conv2d(128, 128, kernel_size=(3, 3), stride=(1, 1), padding=(1, 1), bias=False)\n",
            "mask_out_ratio:  0.5\n",
            "random_mask sum():  tensor(12831091., device='cuda:0')\n",
            "mask_out_ratio:  0.5\n",
            "random_mask sum():  tensor(6415142., device='cuda:0')\n",
            "Remove the hook used to perform Activation Shaping on layer  layer1.1.conv2\n",
            "Remove the hook used to perform Activation Shaping on layer  layer2.1.conv2\n"
          ]
        },
        {
          "output_type": "stream",
          "name": "stderr",
          "text": [
            "\r 25%|██▌       | 4/16 [00:03<00:06,  1.78it/s]"
          ]
        },
        {
          "output_type": "stream",
          "name": "stdout",
          "text": [
            "Register a hook to perform Random Maps Ablation on layer  layer1.1.conv2 Conv2d(64, 64, kernel_size=(3, 3), stride=(1, 1), padding=(1, 1), bias=False)\n",
            "Register a hook to perform Random Maps Ablation on layer  layer2.1.conv2 Conv2d(128, 128, kernel_size=(3, 3), stride=(1, 1), padding=(1, 1), bias=False)\n",
            "mask_out_ratio:  0.5\n",
            "random_mask sum():  tensor(12831214., device='cuda:0')\n",
            "mask_out_ratio:  0.5\n",
            "random_mask sum():  tensor(6416063., device='cuda:0')\n",
            "Remove the hook used to perform Activation Shaping on layer  layer1.1.conv2\n",
            "Remove the hook used to perform Activation Shaping on layer  layer2.1.conv2\n"
          ]
        },
        {
          "output_type": "stream",
          "name": "stderr",
          "text": [
            "\r 31%|███▏      | 5/16 [00:03<00:04,  2.31it/s]"
          ]
        },
        {
          "output_type": "stream",
          "name": "stdout",
          "text": [
            "Register a hook to perform Random Maps Ablation on layer  layer1.1.conv2 Conv2d(64, 64, kernel_size=(3, 3), stride=(1, 1), padding=(1, 1), bias=False)\n",
            "Register a hook to perform Random Maps Ablation on layer  layer2.1.conv2 Conv2d(128, 128, kernel_size=(3, 3), stride=(1, 1), padding=(1, 1), bias=False)\n",
            "mask_out_ratio:  0.5\n",
            "random_mask sum():  tensor(12837911., device='cuda:0')\n",
            "mask_out_ratio:  0.5\n",
            "random_mask sum():  tensor(6413560., device='cuda:0')\n",
            "Remove the hook used to perform Activation Shaping on layer  layer1.1.conv2\n",
            "Remove the hook used to perform Activation Shaping on layer  layer2.1.conv2\n"
          ]
        },
        {
          "output_type": "stream",
          "name": "stderr",
          "text": [
            "\r 38%|███▊      | 6/16 [00:04<00:06,  1.61it/s]"
          ]
        },
        {
          "output_type": "stream",
          "name": "stdout",
          "text": [
            "Register a hook to perform Random Maps Ablation on layer  layer1.1.conv2 Conv2d(64, 64, kernel_size=(3, 3), stride=(1, 1), padding=(1, 1), bias=False)\n",
            "Register a hook to perform Random Maps Ablation on layer  layer2.1.conv2 Conv2d(128, 128, kernel_size=(3, 3), stride=(1, 1), padding=(1, 1), bias=False)\n",
            "mask_out_ratio:  0.5\n",
            "random_mask sum():  tensor(12833945., device='cuda:0')\n",
            "mask_out_ratio:  0.5\n",
            "random_mask sum():  tensor(6417033., device='cuda:0')\n",
            "Remove the hook used to perform Activation Shaping on layer  layer1.1.conv2\n",
            "Remove the hook used to perform Activation Shaping on layer  layer2.1.conv2\n"
          ]
        },
        {
          "output_type": "stream",
          "name": "stderr",
          "text": [
            "\r 44%|████▍     | 7/16 [00:05<00:05,  1.52it/s]"
          ]
        },
        {
          "output_type": "stream",
          "name": "stdout",
          "text": [
            "Register a hook to perform Random Maps Ablation on layer  layer1.1.conv2 Conv2d(64, 64, kernel_size=(3, 3), stride=(1, 1), padding=(1, 1), bias=False)\n",
            "Register a hook to perform Random Maps Ablation on layer  layer2.1.conv2 Conv2d(128, 128, kernel_size=(3, 3), stride=(1, 1), padding=(1, 1), bias=False)\n",
            "mask_out_ratio:  0.5\n",
            "random_mask sum():  tensor(12836168., device='cuda:0')\n",
            "mask_out_ratio:  0.5\n",
            "random_mask sum():  tensor(6415997., device='cuda:0')\n",
            "Remove the hook used to perform Activation Shaping on layer  layer1.1.conv2\n",
            "Remove the hook used to perform Activation Shaping on layer  layer2.1.conv2\n",
            "Register a hook to perform Random Maps Ablation on layer  layer1.1.conv2 Conv2d(64, 64, kernel_size=(3, 3), stride=(1, 1), padding=(1, 1), bias=False)\n",
            "Register a hook to perform Random Maps Ablation on layer  layer2.1.conv2 Conv2d(128, 128, kernel_size=(3, 3), stride=(1, 1), padding=(1, 1), bias=False)\n",
            "mask_out_ratio:  0.5\n",
            "random_mask sum():  tensor(12829915., device='cuda:0')\n",
            "mask_out_ratio:  0.5\n",
            "random_mask sum():  tensor(6414745., device='cuda:0')\n",
            "Remove the hook used to perform Activation Shaping on layer  layer1.1.conv2\n",
            "Remove the hook used to perform Activation Shaping on layer  layer2.1.conv2\n"
          ]
        },
        {
          "output_type": "stream",
          "name": "stderr",
          "text": [
            " 56%|█████▋    | 9/16 [00:05<00:02,  2.38it/s]"
          ]
        },
        {
          "output_type": "stream",
          "name": "stdout",
          "text": [
            "Register a hook to perform Random Maps Ablation on layer  layer1.1.conv2 Conv2d(64, 64, kernel_size=(3, 3), stride=(1, 1), padding=(1, 1), bias=False)\n",
            "Register a hook to perform Random Maps Ablation on layer  layer2.1.conv2 Conv2d(128, 128, kernel_size=(3, 3), stride=(1, 1), padding=(1, 1), bias=False)\n",
            "mask_out_ratio:  0.5\n",
            "random_mask sum():  tensor(12830017., device='cuda:0')\n",
            "mask_out_ratio:  0.5\n",
            "random_mask sum():  tensor(6415032., device='cuda:0')\n",
            "Remove the hook used to perform Activation Shaping on layer  layer1.1.conv2\n",
            "Remove the hook used to perform Activation Shaping on layer  layer2.1.conv2\n"
          ]
        },
        {
          "output_type": "stream",
          "name": "stderr",
          "text": [
            "\r 62%|██████▎   | 10/16 [00:05<00:02,  2.77it/s]"
          ]
        },
        {
          "output_type": "stream",
          "name": "stdout",
          "text": [
            "Register a hook to perform Random Maps Ablation on layer  layer1.1.conv2 Conv2d(64, 64, kernel_size=(3, 3), stride=(1, 1), padding=(1, 1), bias=False)\n",
            "Register a hook to perform Random Maps Ablation on layer  layer2.1.conv2 Conv2d(128, 128, kernel_size=(3, 3), stride=(1, 1), padding=(1, 1), bias=False)\n",
            "mask_out_ratio:  0.5\n",
            "random_mask sum():  tensor(12831109., device='cuda:0')\n",
            "mask_out_ratio:  0.5\n",
            "random_mask sum():  tensor(6418703., device='cuda:0')\n",
            "Remove the hook used to perform Activation Shaping on layer  layer1.1.conv2\n",
            "Remove the hook used to perform Activation Shaping on layer  layer2.1.conv2\n"
          ]
        },
        {
          "output_type": "stream",
          "name": "stderr",
          "text": [
            "\r 69%|██████▉   | 11/16 [00:07<00:03,  1.28it/s]"
          ]
        },
        {
          "output_type": "stream",
          "name": "stdout",
          "text": [
            "Register a hook to perform Random Maps Ablation on layer  layer1.1.conv2 Conv2d(64, 64, kernel_size=(3, 3), stride=(1, 1), padding=(1, 1), bias=False)\n",
            "Register a hook to perform Random Maps Ablation on layer  layer2.1.conv2 Conv2d(128, 128, kernel_size=(3, 3), stride=(1, 1), padding=(1, 1), bias=False)\n",
            "mask_out_ratio:  0.5\n",
            "random_mask sum():  tensor(12826495., device='cuda:0')\n",
            "mask_out_ratio:  0.5\n",
            "random_mask sum():  tensor(6413537., device='cuda:0')\n",
            "Remove the hook used to perform Activation Shaping on layer  layer1.1.conv2\n",
            "Remove the hook used to perform Activation Shaping on layer  layer2.1.conv2\n"
          ]
        },
        {
          "output_type": "stream",
          "name": "stderr",
          "text": [
            "\r 75%|███████▌  | 12/16 [00:08<00:03,  1.30it/s]"
          ]
        },
        {
          "output_type": "stream",
          "name": "stdout",
          "text": [
            "Register a hook to perform Random Maps Ablation on layer  layer1.1.conv2 Conv2d(64, 64, kernel_size=(3, 3), stride=(1, 1), padding=(1, 1), bias=False)\n",
            "Register a hook to perform Random Maps Ablation on layer  layer2.1.conv2 Conv2d(128, 128, kernel_size=(3, 3), stride=(1, 1), padding=(1, 1), bias=False)\n",
            "mask_out_ratio:  0.5\n",
            "random_mask sum():  tensor(12835481., device='cuda:0')\n",
            "mask_out_ratio:  0.5\n",
            "random_mask sum():  tensor(6417123., device='cuda:0')\n",
            "Remove the hook used to perform Activation Shaping on layer  layer1.1.conv2\n",
            "Remove the hook used to perform Activation Shaping on layer  layer2.1.conv2\n",
            "Register a hook to perform Random Maps Ablation on layer  layer1.1.conv2 Conv2d(64, 64, kernel_size=(3, 3), stride=(1, 1), padding=(1, 1), bias=False)\n",
            "Register a hook to perform Random Maps Ablation on layer  layer2.1.conv2 Conv2d(128, 128, kernel_size=(3, 3), stride=(1, 1), padding=(1, 1), bias=False)\n",
            "mask_out_ratio:  0.5\n",
            "random_mask sum():  "
          ]
        },
        {
          "output_type": "stream",
          "name": "stderr",
          "text": [
            "\r 81%|████████▏ | 13/16 [00:08<00:01,  1.70it/s]"
          ]
        },
        {
          "output_type": "stream",
          "name": "stdout",
          "text": [
            "tensor(12832359., device='cuda:0')\n",
            "mask_out_ratio:  0.5\n",
            "random_mask sum():  tensor(6418173., device='cuda:0')\n",
            "Remove the hook used to perform Activation Shaping on layer  layer1.1.conv2\n",
            "Remove the hook used to perform Activation Shaping on layer  layer2.1.conv2\n",
            "Register a hook to perform Random Maps Ablation on layer  layer1.1.conv2 Conv2d(64, 64, kernel_size=(3, 3), stride=(1, 1), padding=(1, 1), bias=False)\n",
            "Register a hook to perform Random Maps Ablation on layer  layer2.1.conv2 Conv2d(128, 128, kernel_size=(3, 3), stride=(1, 1), padding=(1, 1), bias=False)\n",
            "mask_out_ratio:  0.5\n",
            "random_mask sum():  tensor(12835616., device='cuda:0')\n",
            "mask_out_ratio:  0.5\n",
            "random_mask sum():  "
          ]
        },
        {
          "output_type": "stream",
          "name": "stderr",
          "text": [
            "\r 88%|████████▊ | 14/16 [00:08<00:00,  2.14it/s]"
          ]
        },
        {
          "output_type": "stream",
          "name": "stdout",
          "text": [
            "tensor(6419853., device='cuda:0')\n",
            "Remove the hook used to perform Activation Shaping on layer  layer1.1.conv2\n",
            "Remove the hook used to perform Activation Shaping on layer  layer2.1.conv2\n",
            "Register a hook to perform Random Maps Ablation on layer  layer1.1.conv2 Conv2d(64, 64, kernel_size=(3, 3), stride=(1, 1), padding=(1, 1), bias=False)\n",
            "Register a hook to perform Random Maps Ablation on layer  layer2.1.conv2 Conv2d(128, 128, kernel_size=(3, 3), stride=(1, 1), padding=(1, 1), bias=False)\n",
            "mask_out_ratio:  0.5\n",
            "random_mask sum():  tensor(12832082., device='cuda:0')\n",
            "mask_out_ratio:  0.5\n",
            "random_mask sum():  tensor(6416621., device='cuda:0')\n",
            "Remove the hook used to perform Activation Shaping on layer  layer1.1.conv2\n",
            "Remove the hook used to perform Activation Shaping on layer  layer2.1.conv2\n"
          ]
        },
        {
          "output_type": "stream",
          "name": "stderr",
          "text": [
            "100%|██████████| 16/16 [00:09<00:00,  1.75it/s]\n"
          ]
        },
        {
          "output_type": "stream",
          "name": "stdout",
          "text": [
            "Register a hook to perform Random Maps Ablation on layer  layer1.1.conv2 Conv2d(64, 64, kernel_size=(3, 3), stride=(1, 1), padding=(1, 1), bias=False)\n",
            "Register a hook to perform Random Maps Ablation on layer  layer2.1.conv2 Conv2d(128, 128, kernel_size=(3, 3), stride=(1, 1), padding=(1, 1), bias=False)\n",
            "mask_out_ratio:  0.5\n",
            "random_mask sum():  tensor(12830452., device='cuda:0')\n",
            "mask_out_ratio:  0.5\n",
            "random_mask sum():  tensor(6417774., device='cuda:0')\n",
            "Remove the hook used to perform Activation Shaping on layer  layer1.1.conv2\n",
            "Remove the hook used to perform Activation Shaping on layer  layer2.1.conv2\n"
          ]
        },
        {
          "output_type": "stream",
          "name": "stderr",
          "text": [
            "100%|██████████| 31/31 [00:10<00:00,  3.03it/s]\n"
          ]
        },
        {
          "output_type": "stream",
          "name": "stdout",
          "text": [
            "Accuracy: 42.84 - Loss: 0.012371388820328766 \n",
            "\n"
          ]
        },
        {
          "output_type": "stream",
          "name": "stderr",
          "text": [
            "\r  0%|          | 0/16 [00:00<?, ?it/s]"
          ]
        },
        {
          "output_type": "stream",
          "name": "stdout",
          "text": [
            "Register a hook to perform Random Maps Ablation on layer  layer1.1.conv2 Conv2d(64, 64, kernel_size=(3, 3), stride=(1, 1), padding=(1, 1), bias=False)\n",
            "Register a hook to perform Random Maps Ablation on layer  layer2.1.conv2 Conv2d(128, 128, kernel_size=(3, 3), stride=(1, 1), padding=(1, 1), bias=False)\n",
            "mask_out_ratio:  0.5\n",
            "random_mask sum():  tensor(12836319., device='cuda:0')\n",
            "mask_out_ratio:  0.5\n",
            "random_mask sum():  tensor(6413629., device='cuda:0')\n",
            "Remove the hook used to perform Activation Shaping on layer  layer1.1.conv2\n",
            "Remove the hook used to perform Activation Shaping on layer  layer2.1.conv2\n"
          ]
        },
        {
          "output_type": "stream",
          "name": "stderr",
          "text": [
            "\r  6%|▋         | 1/16 [00:03<00:46,  3.12s/it]"
          ]
        },
        {
          "output_type": "stream",
          "name": "stdout",
          "text": [
            "Register a hook to perform Random Maps Ablation on layer  layer1.1.conv2 Conv2d(64, 64, kernel_size=(3, 3), stride=(1, 1), padding=(1, 1), bias=False)\n",
            "Register a hook to perform Random Maps Ablation on layer  layer2.1.conv2 Conv2d(128, 128, kernel_size=(3, 3), stride=(1, 1), padding=(1, 1), bias=False)\n",
            "mask_out_ratio:  0.5\n",
            "random_mask sum():  tensor(12836763., device='cuda:0')\n",
            "mask_out_ratio:  0.5\n",
            "random_mask sum():  tensor(6413828., device='cuda:0')\n",
            "Remove the hook used to perform Activation Shaping on layer  layer1.1.conv2\n",
            "Remove the hook used to perform Activation Shaping on layer  layer2.1.conv2\n"
          ]
        },
        {
          "output_type": "stream",
          "name": "stderr",
          "text": [
            " 19%|█▉        | 3/16 [00:03<00:11,  1.17it/s]"
          ]
        },
        {
          "output_type": "stream",
          "name": "stdout",
          "text": [
            "Register a hook to perform Random Maps Ablation on layer  layer1.1.conv2 Conv2d(64, 64, kernel_size=(3, 3), stride=(1, 1), padding=(1, 1), bias=False)\n",
            "Register a hook to perform Random Maps Ablation on layer  layer2.1.conv2 Conv2d(128, 128, kernel_size=(3, 3), stride=(1, 1), padding=(1, 1), bias=False)\n",
            "mask_out_ratio:  0.5\n",
            "random_mask sum():  tensor(12832473., device='cuda:0')\n",
            "mask_out_ratio:  0.5\n",
            "random_mask sum():  tensor(6416995., device='cuda:0')\n",
            "Remove the hook used to perform Activation Shaping on layer  layer1.1.conv2\n",
            "Remove the hook used to perform Activation Shaping on layer  layer2.1.conv2\n",
            "Register a hook to perform Random Maps Ablation on layer "
          ]
        },
        {
          "output_type": "stream",
          "name": "stderr",
          "text": [
            "\r 25%|██▌       | 4/16 [00:03<00:07,  1.67it/s]"
          ]
        },
        {
          "output_type": "stream",
          "name": "stdout",
          "text": [
            " layer1.1.conv2 Conv2d(64, 64, kernel_size=(3, 3), stride=(1, 1), padding=(1, 1), bias=False)\n",
            "Register a hook to perform Random Maps Ablation on layer  layer2.1.conv2 Conv2d(128, 128, kernel_size=(3, 3), stride=(1, 1), padding=(1, 1), bias=False)\n",
            "mask_out_ratio:  0.5\n",
            "random_mask sum():  tensor(12832009., device='cuda:0')\n",
            "mask_out_ratio:  0.5\n",
            "random_mask sum():  tensor(6416888., device='cuda:0')\n",
            "Remove the hook used to perform Activation Shaping on layer  layer1.1.conv2\n",
            "Remove the hook used to perform Activation Shaping on layer  layer2.1.conv2\n",
            "Register a hook to perform Random Maps Ablation on layer  layer1.1.conv2 Conv2d(64, 64, kernel_size=(3, 3), stride=(1, 1), padding=(1, 1), bias=False)\n",
            "Register a hook to perform Random Maps Ablation on layer  layer2.1.conv2 Conv2d(128, 128, kernel_size=(3, 3), stride=(1, 1), padding=(1, 1), bias=False)\n",
            "mask_out_ratio:  0.5\n",
            "random_mask sum():  tensor(12829305., device='cuda:0')\n",
            "mask_out_ratio:  0.5\n",
            "random_mask sum():  tensor(6416154., device='cuda:0')\n",
            "Remove the hook used to perform Activation Shaping on layer  layer1.1.conv2\n",
            "Remove the hook used to perform Activation Shaping on layer  layer2.1.conv2\n"
          ]
        },
        {
          "output_type": "stream",
          "name": "stderr",
          "text": [
            "\r 31%|███▏      | 5/16 [00:03<00:05,  2.15it/s]"
          ]
        },
        {
          "output_type": "stream",
          "name": "stdout",
          "text": [
            "Register a hook to perform Random Maps Ablation on layer  layer1.1.conv2 Conv2d(64, 64, kernel_size=(3, 3), stride=(1, 1), padding=(1, 1), bias=False)\n",
            "Register a hook to perform Random Maps Ablation on layer  layer2.1.conv2 Conv2d(128, 128, kernel_size=(3, 3), stride=(1, 1), padding=(1, 1), bias=False)\n",
            "mask_out_ratio:  0.5\n",
            "random_mask sum():  tensor(12832427., device='cuda:0')\n",
            "mask_out_ratio:  0.5\n",
            "random_mask sum():  tensor(6412101., device='cuda:0')\n",
            "Remove the hook used to perform Activation Shaping on layer  layer1.1.conv2\n",
            "Remove the hook used to perform Activation Shaping on layer  layer2.1.conv2\n"
          ]
        },
        {
          "output_type": "stream",
          "name": "stderr",
          "text": [
            " 44%|████▍     | 7/16 [00:05<00:04,  1.97it/s]"
          ]
        },
        {
          "output_type": "stream",
          "name": "stdout",
          "text": [
            "Register a hook to perform Random Maps Ablation on layer  layer1.1.conv2 Conv2d(64, 64, kernel_size=(3, 3), stride=(1, 1), padding=(1, 1), bias=False)\n",
            "Register a hook to perform Random Maps Ablation on layer  layer2.1.conv2 Conv2d(128, 128, kernel_size=(3, 3), stride=(1, 1), padding=(1, 1), bias=False)\n",
            "mask_out_ratio:  0.5\n",
            "random_mask sum():  tensor(12830697., device='cuda:0')\n",
            "mask_out_ratio:  0.5\n",
            "random_mask sum():  tensor(6417955., device='cuda:0')\n",
            "Remove the hook used to perform Activation Shaping on layer  layer1.1.conv2\n",
            "Remove the hook used to perform Activation Shaping on layer  layer2.1.conv2\n"
          ]
        },
        {
          "output_type": "stream",
          "name": "stderr",
          "text": [
            "\r 50%|█████     | 8/16 [00:05<00:03,  2.20it/s]"
          ]
        },
        {
          "output_type": "stream",
          "name": "stdout",
          "text": [
            "Register a hook to perform Random Maps Ablation on layer  layer1.1.conv2 Conv2d(64, 64, kernel_size=(3, 3), stride=(1, 1), padding=(1, 1), bias=False)\n",
            "Register a hook to perform Random Maps Ablation on layer  layer2.1.conv2 Conv2d(128, 128, kernel_size=(3, 3), stride=(1, 1), padding=(1, 1), bias=False)\n",
            "mask_out_ratio:  0.5\n",
            "random_mask sum():  tensor(12830166., device='cuda:0')\n",
            "mask_out_ratio:  0.5\n",
            "random_mask sum():  tensor(6416269., device='cuda:0')\n",
            "Remove the hook used to perform Activation Shaping on layer  layer1.1.conv2\n",
            "Remove the hook used to perform Activation Shaping on layer  layer2.1.conv2\n",
            "Register a hook to perform Random Maps Ablation on layer  layer1.1.conv2 Conv2d(64, 64, kernel_size=(3, 3), stride=(1, 1), padding=(1, 1), bias=False)\n",
            "Register a hook to perform Random Maps Ablation on layer  layer2.1.conv2 Conv2d(128, 128, kernel_size=(3, 3), stride=(1, 1), padding=(1, 1), bias=False)\n",
            "mask_out_ratio: "
          ]
        },
        {
          "output_type": "stream",
          "name": "stderr",
          "text": [
            "\r 56%|█████▋    | 9/16 [00:05<00:02,  2.67it/s]"
          ]
        },
        {
          "output_type": "stream",
          "name": "stdout",
          "text": [
            " 0.5\n",
            "random_mask sum():  tensor(12830769., device='cuda:0')\n",
            "mask_out_ratio:  0.5\n",
            "random_mask sum():  tensor(6415687., device='cuda:0')\n",
            "Remove the hook used to perform Activation Shaping on layer  layer1.1.conv2\n",
            "Remove the hook used to perform Activation Shaping on layer  layer2.1.conv2\n",
            "Register a hook to perform Random Maps Ablation on layer  layer1.1.conv2 Conv2d(64, 64, kernel_size=(3, 3), stride=(1, 1), padding=(1, 1), bias=False)\n",
            "Register a hook to perform Random Maps Ablation on layer  layer2.1.conv2 Conv2d(128, 128, kernel_size=(3, 3), stride=(1, 1), padding=(1, 1), bias=False)\n",
            "mask_out_ratio:  0.5\n",
            "random_mask sum():  "
          ]
        },
        {
          "output_type": "stream",
          "name": "stderr",
          "text": [
            "\r 62%|██████▎   | 10/16 [00:05<00:01,  3.13it/s]"
          ]
        },
        {
          "output_type": "stream",
          "name": "stdout",
          "text": [
            "tensor(12833133., device='cuda:0')\n",
            "mask_out_ratio:  0.5\n",
            "random_mask sum():  tensor(6417419., device='cuda:0')\n",
            "Remove the hook used to perform Activation Shaping on layer  layer1.1.conv2\n",
            "Remove the hook used to perform Activation Shaping on layer  layer2.1.conv2\n"
          ]
        },
        {
          "output_type": "stream",
          "name": "stderr",
          "text": [
            "\r 69%|██████▉   | 11/16 [00:07<00:03,  1.49it/s]"
          ]
        },
        {
          "output_type": "stream",
          "name": "stdout",
          "text": [
            "Register a hook to perform Random Maps Ablation on layer  layer1.1.conv2 Conv2d(64, 64, kernel_size=(3, 3), stride=(1, 1), padding=(1, 1), bias=False)\n",
            "Register a hook to perform Random Maps Ablation on layer  layer2.1.conv2 Conv2d(128, 128, kernel_size=(3, 3), stride=(1, 1), padding=(1, 1), bias=False)\n",
            "mask_out_ratio:  0.5\n",
            "random_mask sum():  tensor(12832994., device='cuda:0')\n",
            "mask_out_ratio:  0.5\n",
            "random_mask sum():  tensor(6416844., device='cuda:0')\n",
            "Remove the hook used to perform Activation Shaping on layer  layer1.1.conv2\n",
            "Remove the hook used to perform Activation Shaping on layer  layer2.1.conv2\n",
            "Register a hook to perform Random Maps Ablation on layer  layer1.1.conv2 Conv2d(64, 64, kernel_size=(3, 3), stride=(1, 1), padding=(1, 1), bias=False)\n",
            "Register a hook to perform Random Maps Ablation on layer  layer2.1.conv2 Conv2d(128, 128, kernel_size=(3, 3), stride=(1, 1), padding=(1, 1), bias=False)\n"
          ]
        },
        {
          "output_type": "stream",
          "name": "stderr",
          "text": [
            "\r 75%|███████▌  | 12/16 [00:07<00:02,  1.91it/s]"
          ]
        },
        {
          "output_type": "stream",
          "name": "stdout",
          "text": [
            "mask_out_ratio:  0.5\n",
            "random_mask sum():  tensor(12834626., device='cuda:0')\n",
            "mask_out_ratio:  0.5\n",
            "random_mask sum():  tensor(6416653., device='cuda:0')\n",
            "Remove the hook used to perform Activation Shaping on layer  layer1.1.conv2\n",
            "Remove the hook used to perform Activation Shaping on layer  layer2.1.conv2\n",
            "Register a hook to perform Random Maps Ablation on layer  layer1.1.conv2 Conv2d(64, 64, kernel_size=(3, 3), stride=(1, 1), padding=(1, 1), bias=False)\n",
            "Register a hook to perform Random Maps Ablation on layer  layer2.1.conv2 Conv2d(128, 128, kernel_size=(3, 3), stride=(1, 1), padding=(1, 1), bias=False)\n",
            "mask_out_ratio:  0.5\n",
            "random_mask sum():  "
          ]
        },
        {
          "output_type": "stream",
          "name": "stderr",
          "text": [
            "\r 81%|████████▏ | 13/16 [00:07<00:01,  2.35it/s]"
          ]
        },
        {
          "output_type": "stream",
          "name": "stdout",
          "text": [
            "tensor(12831901., device='cuda:0')\n",
            "mask_out_ratio:  0.5\n",
            "random_mask sum():  tensor(6415537., device='cuda:0')\n",
            "Remove the hook used to perform Activation Shaping on layer  layer1.1.conv2\n",
            "Remove the hook used to perform Activation Shaping on layer  layer2.1.conv2\n",
            "Register a hook to perform Random Maps Ablation on layer  layer1.1.conv2 Conv2d(64, 64, kernel_size=(3, 3), stride=(1, 1), padding=(1, 1), bias=False)\n",
            "Register a hook to perform Random Maps Ablation on layer  layer2.1.conv2 Conv2d(128, 128, kernel_size=(3, 3), stride=(1, 1), padding=(1, 1), bias=False)\n",
            "mask_out_ratio:  0.5\n",
            "random_mask sum():  tensor(12833264., device='cuda:0')\n",
            "mask_out_ratio:  0.5\n",
            "random_mask sum():  tensor(6413382., device='cuda:0')\n"
          ]
        },
        {
          "output_type": "stream",
          "name": "stderr",
          "text": [
            "\r 88%|████████▊ | 14/16 [00:07<00:00,  2.84it/s]"
          ]
        },
        {
          "output_type": "stream",
          "name": "stdout",
          "text": [
            "Remove the hook used to perform Activation Shaping on layer  layer1.1.conv2\n",
            "Remove the hook used to perform Activation Shaping on layer  layer2.1.conv2\n",
            "Register a hook to perform Random Maps Ablation on layer  layer1.1.conv2 Conv2d(64, 64, kernel_size=(3, 3), stride=(1, 1), padding=(1, 1), bias=False)\n",
            "Register a hook to perform Random Maps Ablation on layer  layer2.1.conv2 Conv2d(128, 128, kernel_size=(3, 3), stride=(1, 1), padding=(1, 1), bias=False)\n",
            "mask_out_ratio:  0.5\n",
            "random_mask sum():  tensor(12831400., device='cuda:0')\n",
            "mask_out_ratio:  0.5\n",
            "random_mask sum():  tensor(6416187., device='cuda:0')\n",
            "Remove the hook used to perform Activation Shaping on layer  layer1.1.conv2\n",
            "Remove the hook used to perform Activation Shaping on layer  layer2.1.conv2\n"
          ]
        },
        {
          "output_type": "stream",
          "name": "stderr",
          "text": [
            "100%|██████████| 16/16 [00:08<00:00,  1.91it/s]\n"
          ]
        },
        {
          "output_type": "stream",
          "name": "stdout",
          "text": [
            "Register a hook to perform Random Maps Ablation on layer  layer1.1.conv2 Conv2d(64, 64, kernel_size=(3, 3), stride=(1, 1), padding=(1, 1), bias=False)\n",
            "Register a hook to perform Random Maps Ablation on layer  layer2.1.conv2 Conv2d(128, 128, kernel_size=(3, 3), stride=(1, 1), padding=(1, 1), bias=False)\n",
            "mask_out_ratio:  0.5\n",
            "random_mask sum():  tensor(12833799., device='cuda:0')\n",
            "mask_out_ratio:  0.5\n",
            "random_mask sum():  tensor(6417128., device='cuda:0')\n",
            "Remove the hook used to perform Activation Shaping on layer  layer1.1.conv2\n",
            "Remove the hook used to perform Activation Shaping on layer  layer2.1.conv2\n"
          ]
        },
        {
          "output_type": "stream",
          "name": "stderr",
          "text": [
            "100%|██████████| 31/31 [00:10<00:00,  2.83it/s]\n"
          ]
        },
        {
          "output_type": "stream",
          "name": "stdout",
          "text": [
            "Accuracy: 41.54 - Loss: 0.012651104073270825 \n",
            "\n"
          ]
        },
        {
          "output_type": "stream",
          "name": "stderr",
          "text": [
            "\r  0%|          | 0/16 [00:00<?, ?it/s]"
          ]
        },
        {
          "output_type": "stream",
          "name": "stdout",
          "text": [
            "Register a hook to perform Random Maps Ablation on layer  layer1.1.conv2 Conv2d(64, 64, kernel_size=(3, 3), stride=(1, 1), padding=(1, 1), bias=False)\n",
            "Register a hook to perform Random Maps Ablation on layer  layer2.1.conv2 Conv2d(128, 128, kernel_size=(3, 3), stride=(1, 1), padding=(1, 1), bias=False)\n",
            "mask_out_ratio:  0.5\n",
            "random_mask sum():  tensor(12827617., device='cuda:0')\n",
            "mask_out_ratio:  0.5\n",
            "random_mask sum():  tensor(6417622., device='cuda:0')\n",
            "Remove the hook used to perform Activation Shaping on layer  layer1.1.conv2\n",
            "Remove the hook used to perform Activation Shaping on layer  layer2.1.conv2\n"
          ]
        },
        {
          "output_type": "stream",
          "name": "stderr",
          "text": [
            " 12%|█▎        | 2/16 [00:02<00:16,  1.20s/it]"
          ]
        },
        {
          "output_type": "stream",
          "name": "stdout",
          "text": [
            "Register a hook to perform Random Maps Ablation on layer  layer1.1.conv2 Conv2d(64, 64, kernel_size=(3, 3), stride=(1, 1), padding=(1, 1), bias=False)\n",
            "Register a hook to perform Random Maps Ablation on layer  layer2.1.conv2 Conv2d(128, 128, kernel_size=(3, 3), stride=(1, 1), padding=(1, 1), bias=False)\n",
            "mask_out_ratio:  0.5\n",
            "random_mask sum():  tensor(12836887., device='cuda:0')\n",
            "mask_out_ratio:  0.5\n",
            "random_mask sum():  tensor(6415876., device='cuda:0')\n",
            "Remove the hook used to perform Activation Shaping on layer  layer1.1.conv2\n",
            "Remove the hook used to perform Activation Shaping on layer  layer2.1.conv2\n"
          ]
        },
        {
          "output_type": "stream",
          "name": "stderr",
          "text": [
            "\r 19%|█▉        | 3/16 [00:03<00:09,  1.35it/s]"
          ]
        },
        {
          "output_type": "stream",
          "name": "stdout",
          "text": [
            "Register a hook to perform Random Maps Ablation on layer  layer1.1.conv2 Conv2d(64, 64, kernel_size=(3, 3), stride=(1, 1), padding=(1, 1), bias=False)\n",
            "Register a hook to perform Random Maps Ablation on layer  layer2.1.conv2 Conv2d(128, 128, kernel_size=(3, 3), stride=(1, 1), padding=(1, 1), bias=False)\n",
            "mask_out_ratio:  0.5\n",
            "random_mask sum():  tensor(12827821., device='cuda:0')\n",
            "mask_out_ratio:  0.5\n",
            "random_mask sum():  tensor(6413433., device='cuda:0')\n",
            "Remove the hook used to perform Activation Shaping on layer  layer1.1.conv2\n",
            "Remove the hook used to perform Activation Shaping on layer  layer2.1.conv2\n",
            "Register a hook to perform Random Maps Ablation on layer "
          ]
        },
        {
          "output_type": "stream",
          "name": "stderr",
          "text": [
            "\r 25%|██▌       | 4/16 [00:03<00:06,  1.89it/s]"
          ]
        },
        {
          "output_type": "stream",
          "name": "stdout",
          "text": [
            " layer1.1.conv2 Conv2d(64, 64, kernel_size=(3, 3), stride=(1, 1), padding=(1, 1), bias=False)\n",
            "Register a hook to perform Random Maps Ablation on layer  layer2.1.conv2 Conv2d(128, 128, kernel_size=(3, 3), stride=(1, 1), padding=(1, 1), bias=False)\n",
            "mask_out_ratio:  0.5\n",
            "random_mask sum():  tensor(12834323., device='cuda:0')\n",
            "mask_out_ratio:  0.5\n",
            "random_mask sum():  tensor(6412005., device='cuda:0')\n",
            "Remove the hook used to perform Activation Shaping on layer  layer1.1.conv2\n",
            "Remove the hook used to perform Activation Shaping on layer  layer2.1.conv2\n",
            "Register a hook to perform Random Maps Ablation on layer  layer1.1.conv2 Conv2d(64, 64, kernel_size=(3, 3), stride=(1, 1), padding=(1, 1), bias=False)\n",
            "Register a hook to perform Random Maps Ablation on layer  layer2.1.conv2 Conv2d(128, 128, kernel_size=(3, 3), stride=(1, 1), padding=(1, 1), bias=False)\n"
          ]
        },
        {
          "output_type": "stream",
          "name": "stderr",
          "text": [
            "\r 31%|███▏      | 5/16 [00:03<00:04,  2.43it/s]"
          ]
        },
        {
          "output_type": "stream",
          "name": "stdout",
          "text": [
            "mask_out_ratio:  0.5\n",
            "random_mask sum():  tensor(12830362., device='cuda:0')\n",
            "mask_out_ratio:  0.5\n",
            "random_mask sum():  tensor(6415750., device='cuda:0')\n",
            "Remove the hook used to perform Activation Shaping on layer  layer1.1.conv2\n",
            "Remove the hook used to perform Activation Shaping on layer  layer2.1.conv2\n",
            "Register a hook to perform Random Maps Ablation on layer  layer1.1.conv2 Conv2d(64, 64, kernel_size=(3, 3), stride=(1, 1), padding=(1, 1), bias=False)\n",
            "Register a hook to perform Random Maps Ablation on layer  layer2.1.conv2 Conv2d(128, 128, kernel_size=(3, 3), stride=(1, 1), padding=(1, 1), bias=False)\n",
            "mask_out_ratio:  0.5\n",
            "random_mask sum():  tensor(12835397., device='cuda:0')\n",
            "mask_out_ratio:  0.5\n",
            "random_mask sum():  tensor(6416571., device='cuda:0')\n",
            "Remove the hook used to perform Activation Shaping on layer  layer1.1.conv2\n",
            "Remove the hook used to perform Activation Shaping on layer  layer2.1.conv2\n"
          ]
        },
        {
          "output_type": "stream",
          "name": "stderr",
          "text": [
            "\r 38%|███▊      | 6/16 [00:05<00:10,  1.06s/it]"
          ]
        },
        {
          "output_type": "stream",
          "name": "stdout",
          "text": [
            "Register a hook to perform Random Maps Ablation on layer  layer1.1.conv2 Conv2d(64, 64, kernel_size=(3, 3), stride=(1, 1), padding=(1, 1), bias=False)\n",
            "Register a hook to perform Random Maps Ablation on layer  layer2.1.conv2 Conv2d(128, 128, kernel_size=(3, 3), stride=(1, 1), padding=(1, 1), bias=False)\n",
            "mask_out_ratio:  0.5\n",
            "random_mask sum():  tensor(12827487., device='cuda:0')\n",
            "mask_out_ratio:  0.5\n",
            "random_mask sum():  tensor(6414597., device='cuda:0')\n",
            "Remove the hook used to perform Activation Shaping on layer  layer1.1.conv2\n",
            "Remove the hook used to perform Activation Shaping on layer  layer2.1.conv2\n"
          ]
        },
        {
          "output_type": "stream",
          "name": "stderr",
          "text": [
            "\r 44%|████▍     | 7/16 [00:05<00:07,  1.26it/s]"
          ]
        },
        {
          "output_type": "stream",
          "name": "stdout",
          "text": [
            "Register a hook to perform Random Maps Ablation on layer  layer1.1.conv2 Conv2d(64, 64, kernel_size=(3, 3), stride=(1, 1), padding=(1, 1), bias=False)\n",
            "Register a hook to perform Random Maps Ablation on layer  layer2.1.conv2 Conv2d(128, 128, kernel_size=(3, 3), stride=(1, 1), padding=(1, 1), bias=False)\n",
            "mask_out_ratio:  0.5\n",
            "random_mask sum():  tensor(12835468., device='cuda:0')\n",
            "mask_out_ratio:  0.5\n",
            "random_mask sum():  tensor(6415103., device='cuda:0')\n",
            "Remove the hook used to perform Activation Shaping on layer  layer1.1.conv2\n",
            "Remove the hook used to perform Activation Shaping on layer  layer2.1.conv2\n"
          ]
        },
        {
          "output_type": "stream",
          "name": "stderr",
          "text": [
            " 56%|█████▋    | 9/16 [00:06<00:03,  2.05it/s]"
          ]
        },
        {
          "output_type": "stream",
          "name": "stdout",
          "text": [
            "Register a hook to perform Random Maps Ablation on layer  layer1.1.conv2 Conv2d(64, 64, kernel_size=(3, 3), stride=(1, 1), padding=(1, 1), bias=False)\n",
            "Register a hook to perform Random Maps Ablation on layer  layer2.1.conv2 Conv2d(128, 128, kernel_size=(3, 3), stride=(1, 1), padding=(1, 1), bias=False)\n",
            "mask_out_ratio:  0.5\n",
            "random_mask sum():  tensor(12833950., device='cuda:0')\n",
            "mask_out_ratio:  0.5\n",
            "random_mask sum():  tensor(6414077., device='cuda:0')\n",
            "Remove the hook used to perform Activation Shaping on layer  layer1.1.conv2\n",
            "Remove the hook used to perform Activation Shaping on layer  layer2.1.conv2\n",
            "Register a hook to perform Random Maps Ablation on layer  layer1.1.conv2 Conv2d(64, 64, kernel_size=(3, 3), stride=(1, 1), padding=(1, 1), bias=False)\n",
            "Register a hook to perform Random Maps Ablation on layer  layer2.1.conv2 Conv2d(128, 128, kernel_size=(3, 3), stride=(1, 1), padding=(1, 1), bias=False)\n",
            "mask_out_ratio:  0.5\n",
            "random_mask sum():  tensor(12829189., device='cuda:0')\n",
            "mask_out_ratio:  0.5\n",
            "random_mask sum():  tensor(6416093., device='cuda:0')\n",
            "Remove the hook used to perform Activation Shaping on layer  layer1.1.conv2\n",
            "Remove the hook used to perform Activation Shaping on layer  layer2.1.conv2\n"
          ]
        },
        {
          "output_type": "stream",
          "name": "stderr",
          "text": [
            " 69%|██████▉   | 11/16 [00:08<00:03,  1.35it/s]"
          ]
        },
        {
          "output_type": "stream",
          "name": "stdout",
          "text": [
            "Register a hook to perform Random Maps Ablation on layer  layer1.1.conv2 Conv2d(64, 64, kernel_size=(3, 3), stride=(1, 1), padding=(1, 1), bias=False)\n",
            "Register a hook to perform Random Maps Ablation on layer  layer2.1.conv2 Conv2d(128, 128, kernel_size=(3, 3), stride=(1, 1), padding=(1, 1), bias=False)\n",
            "mask_out_ratio:  0.5\n",
            "random_mask sum():  tensor(12831563., device='cuda:0')\n",
            "mask_out_ratio:  0.5\n",
            "random_mask sum():  tensor(6414142., device='cuda:0')\n",
            "Remove the hook used to perform Activation Shaping on layer  layer1.1.conv2\n",
            "Remove the hook used to perform Activation Shaping on layer  layer2.1.conv2\n"
          ]
        },
        {
          "output_type": "stream",
          "name": "stderr",
          "text": [
            "\r 75%|███████▌  | 12/16 [00:08<00:02,  1.69it/s]"
          ]
        },
        {
          "output_type": "stream",
          "name": "stdout",
          "text": [
            "Register a hook to perform Random Maps Ablation on layer  layer1.1.conv2 Conv2d(64, 64, kernel_size=(3, 3), stride=(1, 1), padding=(1, 1), bias=False)\n",
            "Register a hook to perform Random Maps Ablation on layer  layer2.1.conv2 Conv2d(128, 128, kernel_size=(3, 3), stride=(1, 1), padding=(1, 1), bias=False)\n",
            "mask_out_ratio:  0.5\n",
            "random_mask sum():  tensor(12834295., device='cuda:0')\n",
            "mask_out_ratio:  0.5\n",
            "random_mask sum():  tensor(6416098., device='cuda:0')\n",
            "Remove the hook used to perform Activation Shaping on layer  layer1.1.conv2\n",
            "Remove the hook used to perform Activation Shaping on layer  layer2.1.conv2\n",
            "Register a hook to perform Random Maps Ablation on layer  layer1.1.conv2 Conv2d(64, 64, kernel_size=(3, 3), stride=(1, 1), padding=(1, 1), bias=False)\n",
            "Register a hook to perform Random Maps Ablation on layer  layer2.1.conv2 Conv2d(128, 128, kernel_size=(3, 3), stride=(1, 1), padding=(1, 1), bias=False)\n",
            "mask_out_ratio:  0.5\n",
            "random_mask sum():  "
          ]
        },
        {
          "output_type": "stream",
          "name": "stderr",
          "text": [
            "\r 81%|████████▏ | 13/16 [00:08<00:01,  2.13it/s]"
          ]
        },
        {
          "output_type": "stream",
          "name": "stdout",
          "text": [
            "tensor(12835535., device='cuda:0')\n",
            "mask_out_ratio:  0.5\n",
            "random_mask sum():  tensor(6417669., device='cuda:0')\n",
            "Remove the hook used to perform Activation Shaping on layer  layer1.1.conv2\n",
            "Remove the hook used to perform Activation Shaping on layer  layer2.1.conv2\n",
            "Register a hook to perform Random Maps Ablation on layer  layer1.1.conv2 Conv2d(64, 64, kernel_size=(3, 3), stride=(1, 1), padding=(1, 1), bias=False)\n",
            "Register a hook to perform Random Maps Ablation on layer  layer2.1.conv2 Conv2d(128, 128, kernel_size=(3, 3), stride=(1, 1), padding=(1, 1), bias=False)\n",
            "mask_out_ratio:  0.5\n",
            "random_mask sum():  tensor(12832207., device='cuda:0')\n",
            "mask_out_ratio:  0.5\n",
            "random_mask sum():  tensor(6417144., device='cuda:0')"
          ]
        },
        {
          "output_type": "stream",
          "name": "stderr",
          "text": [
            "\r 88%|████████▊ | 14/16 [00:08<00:00,  2.61it/s]"
          ]
        },
        {
          "output_type": "stream",
          "name": "stdout",
          "text": [
            "\n",
            "Remove the hook used to perform Activation Shaping on layer  layer1.1.conv2\n",
            "Remove the hook used to perform Activation Shaping on layer  layer2.1.conv2\n",
            "Register a hook to perform Random Maps Ablation on layer  layer1.1.conv2 Conv2d(64, 64, kernel_size=(3, 3), stride=(1, 1), padding=(1, 1), bias=False)\n",
            "Register a hook to perform Random Maps Ablation on layer  layer2.1.conv2 Conv2d(128, 128, kernel_size=(3, 3), stride=(1, 1), padding=(1, 1), bias=False)\n",
            "mask_out_ratio:  0.5\n",
            "random_mask sum():  tensor(12831950., device='cuda:0')\n",
            "mask_out_ratio:  0.5\n",
            "random_mask sum():  tensor(6417053., device='cuda:0')\n",
            "Remove the hook used to perform Activation Shaping on layer  layer1.1.conv2\n",
            "Remove the hook used to perform Activation Shaping on layer  layer2.1.conv2\n"
          ]
        },
        {
          "output_type": "stream",
          "name": "stderr",
          "text": [
            "100%|██████████| 16/16 [00:09<00:00,  1.75it/s]\n"
          ]
        },
        {
          "output_type": "stream",
          "name": "stdout",
          "text": [
            "Register a hook to perform Random Maps Ablation on layer  layer1.1.conv2 Conv2d(64, 64, kernel_size=(3, 3), stride=(1, 1), padding=(1, 1), bias=False)\n",
            "Register a hook to perform Random Maps Ablation on layer  layer2.1.conv2 Conv2d(128, 128, kernel_size=(3, 3), stride=(1, 1), padding=(1, 1), bias=False)\n",
            "mask_out_ratio:  0.5\n",
            "random_mask sum():  tensor(12826800., device='cuda:0')\n",
            "mask_out_ratio:  0.5\n",
            "random_mask sum():  tensor(6415467., device='cuda:0')\n",
            "Remove the hook used to perform Activation Shaping on layer  layer1.1.conv2\n",
            "Remove the hook used to perform Activation Shaping on layer  layer2.1.conv2\n"
          ]
        },
        {
          "output_type": "stream",
          "name": "stderr",
          "text": [
            "100%|██████████| 31/31 [00:10<00:00,  2.86it/s]\n"
          ]
        },
        {
          "output_type": "stream",
          "name": "stdout",
          "text": [
            "Accuracy: 43.24 - Loss: 0.012456328397368802 \n",
            "\n"
          ]
        },
        {
          "output_type": "stream",
          "name": "stderr",
          "text": [
            "\r  0%|          | 0/16 [00:00<?, ?it/s]"
          ]
        },
        {
          "output_type": "stream",
          "name": "stdout",
          "text": [
            "Register a hook to perform Random Maps Ablation on layer  layer1.1.conv2 Conv2d(64, 64, kernel_size=(3, 3), stride=(1, 1), padding=(1, 1), bias=False)\n",
            "Register a hook to perform Random Maps Ablation on layer  layer2.1.conv2 Conv2d(128, 128, kernel_size=(3, 3), stride=(1, 1), padding=(1, 1), bias=False)\n",
            "mask_out_ratio:  0.5\n",
            "random_mask sum():  tensor(12828770., device='cuda:0')\n",
            "mask_out_ratio:  0.5\n",
            "random_mask sum():  tensor(6416431., device='cuda:0')\n",
            "Remove the hook used to perform Activation Shaping on layer  layer1.1.conv2\n",
            "Remove the hook used to perform Activation Shaping on layer  layer2.1.conv2\n"
          ]
        },
        {
          "output_type": "stream",
          "name": "stderr",
          "text": [
            " 12%|█▎        | 2/16 [00:02<00:17,  1.25s/it]"
          ]
        },
        {
          "output_type": "stream",
          "name": "stdout",
          "text": [
            "Register a hook to perform Random Maps Ablation on layer  layer1.1.conv2 Conv2d(64, 64, kernel_size=(3, 3), stride=(1, 1), padding=(1, 1), bias=False)\n",
            "Register a hook to perform Random Maps Ablation on layer  layer2.1.conv2 Conv2d(128, 128, kernel_size=(3, 3), stride=(1, 1), padding=(1, 1), bias=False)\n",
            "mask_out_ratio:  0.5\n",
            "random_mask sum():  tensor(12839096., device='cuda:0')\n",
            "mask_out_ratio:  0.5\n",
            "random_mask sum():  tensor(6415945., device='cuda:0')\n",
            "Remove the hook used to perform Activation Shaping on layer  layer1.1.conv2\n",
            "Remove the hook used to perform Activation Shaping on layer  layer2.1.conv2\n"
          ]
        },
        {
          "output_type": "stream",
          "name": "stderr",
          "text": [
            "\r 19%|█▉        | 3/16 [00:03<00:09,  1.30it/s]"
          ]
        },
        {
          "output_type": "stream",
          "name": "stdout",
          "text": [
            "Register a hook to perform Random Maps Ablation on layer  layer1.1.conv2 Conv2d(64, 64, kernel_size=(3, 3), stride=(1, 1), padding=(1, 1), bias=False)\n",
            "Register a hook to perform Random Maps Ablation on layer  layer2.1.conv2 Conv2d(128, 128, kernel_size=(3, 3), stride=(1, 1), padding=(1, 1), bias=False)\n",
            "mask_out_ratio:  0.5\n",
            "random_mask sum():  tensor(12831028., device='cuda:0')\n",
            "mask_out_ratio:  0.5\n",
            "random_mask sum():  tensor(6417622., device='cuda:0')\n",
            "Remove the hook used to perform Activation Shaping on layer  layer1.1.conv2\n",
            "Remove the hook used to perform Activation Shaping on layer  layer2.1.conv2\n"
          ]
        },
        {
          "output_type": "stream",
          "name": "stderr",
          "text": [
            "\r 25%|██▌       | 4/16 [00:03<00:06,  1.81it/s]"
          ]
        },
        {
          "output_type": "stream",
          "name": "stdout",
          "text": [
            "Register a hook to perform Random Maps Ablation on layer  layer1.1.conv2 Conv2d(64, 64, kernel_size=(3, 3), stride=(1, 1), padding=(1, 1), bias=False)\n",
            "Register a hook to perform Random Maps Ablation on layer  layer2.1.conv2 Conv2d(128, 128, kernel_size=(3, 3), stride=(1, 1), padding=(1, 1), bias=False)\n",
            "mask_out_ratio:  0.5\n",
            "random_mask sum():  tensor(12833496., device='cuda:0')\n",
            "mask_out_ratio:  0.5\n",
            "random_mask sum():  tensor(6417917., device='cuda:0')\n",
            "Remove the hook used to perform Activation Shaping on layer  layer1.1.conv2\n",
            "Remove the hook used to perform Activation Shaping on layer  layer2.1.conv2\n"
          ]
        },
        {
          "output_type": "stream",
          "name": "stderr",
          "text": [
            "\r 31%|███▏      | 5/16 [00:03<00:04,  2.35it/s]"
          ]
        },
        {
          "output_type": "stream",
          "name": "stdout",
          "text": [
            "Register a hook to perform Random Maps Ablation on layer  layer1.1.conv2 Conv2d(64, 64, kernel_size=(3, 3), stride=(1, 1), padding=(1, 1), bias=False)\n",
            "Register a hook to perform Random Maps Ablation on layer  layer2.1.conv2 Conv2d(128, 128, kernel_size=(3, 3), stride=(1, 1), padding=(1, 1), bias=False)\n",
            "mask_out_ratio:  0.5\n",
            "random_mask sum():  tensor(12833723., device='cuda:0')\n",
            "mask_out_ratio:  0.5\n",
            "random_mask sum():  tensor(6415292., device='cuda:0')\n",
            "Remove the hook used to perform Activation Shaping on layer  layer1.1.conv2\n",
            "Remove the hook used to perform Activation Shaping on layer  layer2.1.conv2\n"
          ]
        },
        {
          "output_type": "stream",
          "name": "stderr",
          "text": [
            "\r 38%|███▊      | 6/16 [00:05<00:08,  1.16it/s]"
          ]
        },
        {
          "output_type": "stream",
          "name": "stdout",
          "text": [
            "Register a hook to perform Random Maps Ablation on layer  layer1.1.conv2 Conv2d(64, 64, kernel_size=(3, 3), stride=(1, 1), padding=(1, 1), bias=False)\n",
            "Register a hook to perform Random Maps Ablation on layer  layer2.1.conv2 Conv2d(128, 128, kernel_size=(3, 3), stride=(1, 1), padding=(1, 1), bias=False)\n",
            "mask_out_ratio:  0.5\n",
            "random_mask sum():  tensor(12829964., device='cuda:0')\n",
            "mask_out_ratio:  0.5\n",
            "random_mask sum():  tensor(6413011., device='cuda:0')\n",
            "Remove the hook used to perform Activation Shaping on layer  layer1.1.conv2\n",
            "Remove the hook used to perform Activation Shaping on layer  layer2.1.conv2\n",
            "Register a hook to perform Random Maps Ablation on layer  layer1.1.conv2 "
          ]
        },
        {
          "output_type": "stream",
          "name": "stderr",
          "text": [
            "\r 44%|████▍     | 7/16 [00:05<00:05,  1.54it/s]"
          ]
        },
        {
          "output_type": "stream",
          "name": "stdout",
          "text": [
            "Conv2d(64, 64, kernel_size=(3, 3), stride=(1, 1), padding=(1, 1), bias=False)\n",
            "Register a hook to perform Random Maps Ablation on layer  layer2.1.conv2 Conv2d(128, 128, kernel_size=(3, 3), stride=(1, 1), padding=(1, 1), bias=False)\n",
            "mask_out_ratio:  0.5\n",
            "random_mask sum():  tensor(12833692., device='cuda:0')\n",
            "mask_out_ratio:  0.5\n",
            "random_mask sum():  tensor(6413198., device='cuda:0')\n",
            "Remove the hook used to perform Activation Shaping on layer  layer1.1.conv2\n",
            "Remove the hook used to perform Activation Shaping on layer  layer2.1.conv2\n"
          ]
        },
        {
          "output_type": "stream",
          "name": "stderr",
          "text": [
            "\r 50%|█████     | 8/16 [00:05<00:04,  1.98it/s]"
          ]
        },
        {
          "output_type": "stream",
          "name": "stdout",
          "text": [
            "Register a hook to perform Random Maps Ablation on layer  layer1.1.conv2 Conv2d(64, 64, kernel_size=(3, 3), stride=(1, 1), padding=(1, 1), bias=False)\n",
            "Register a hook to perform Random Maps Ablation on layer  layer2.1.conv2 Conv2d(128, 128, kernel_size=(3, 3), stride=(1, 1), padding=(1, 1), bias=False)\n",
            "mask_out_ratio:  0.5\n",
            "random_mask sum():  tensor(12833834., device='cuda:0')\n",
            "mask_out_ratio:  0.5\n",
            "random_mask sum():  tensor(6419169., device='cuda:0')\n",
            "Remove the hook used to perform Activation Shaping on layer  layer1.1.conv2\n",
            "Remove the hook used to perform Activation Shaping on layer  layer2.1.conv2\n",
            "Register a hook to perform Random Maps Ablation on layer  layer1.1.conv2 Conv2d(64, 64, kernel_size=(3, 3), stride=(1, 1), padding=(1, 1), bias=False)\n",
            "Register a hook to perform Random Maps Ablation on layer  layer2.1.conv2 Conv2d(128, 128, kernel_size=(3, 3), stride=(1, 1), padding=(1, 1), bias=False)\n",
            "mask_out_ratio:  0.5\n",
            "random_mask sum():  tensor(12836661., device='cuda:0')\n",
            "mask_out_ratio:  0.5\n",
            "random_mask sum():  tensor(6417936., device='cuda:0')\n",
            "Remove the hook used to perform Activation Shaping on layer  layer1.1.conv2\n",
            "Remove the hook used to perform Activation Shaping on layer  layer2.1.conv2\n"
          ]
        },
        {
          "output_type": "stream",
          "name": "stderr",
          "text": [
            "\r 56%|█████▋    | 9/16 [00:05<00:02,  2.36it/s]"
          ]
        },
        {
          "output_type": "stream",
          "name": "stdout",
          "text": [
            "Register a hook to perform Random Maps Ablation on layer  layer1.1.conv2 Conv2d(64, 64, kernel_size=(3, 3), stride=(1, 1), padding=(1, 1), bias=False)\n",
            "Register a hook to perform Random Maps Ablation on layer  layer2.1.conv2 Conv2d(128, 128, kernel_size=(3, 3), stride=(1, 1), padding=(1, 1), bias=False)\n",
            "mask_out_ratio:  0.5\n",
            "random_mask sum():  tensor(12830539., device='cuda:0')\n",
            "mask_out_ratio:  0.5\n",
            "random_mask sum():  tensor(6415227., device='cuda:0')\n",
            "Remove the hook used to perform Activation Shaping on layer  layer1.1.conv2\n",
            "Remove the hook used to perform Activation Shaping on layer  layer2.1.conv2\n"
          ]
        },
        {
          "output_type": "stream",
          "name": "stderr",
          "text": [
            "\r 62%|██████▎   | 10/16 [00:06<00:02,  2.73it/s]"
          ]
        },
        {
          "output_type": "stream",
          "name": "stdout",
          "text": [
            "Register a hook to perform Random Maps Ablation on layer  layer1.1.conv2 Conv2d(64, 64, kernel_size=(3, 3), stride=(1, 1), padding=(1, 1), bias=False)\n",
            "Register a hook to perform Random Maps Ablation on layer  layer2.1.conv2 Conv2d(128, 128, kernel_size=(3, 3), stride=(1, 1), padding=(1, 1), bias=False)\n",
            "mask_out_ratio:  0.5\n",
            "random_mask sum():  tensor(12830785., device='cuda:0')\n",
            "mask_out_ratio:  0.5\n",
            "random_mask sum():  tensor(6416782., device='cuda:0')\n",
            "Remove the hook used to perform Activation Shaping on layer  layer1.1.conv2\n",
            "Remove the hook used to perform Activation Shaping on layer  layer2.1.conv2\n"
          ]
        },
        {
          "output_type": "stream",
          "name": "stderr",
          "text": [
            " 75%|███████▌  | 12/16 [00:08<00:02,  1.44it/s]"
          ]
        },
        {
          "output_type": "stream",
          "name": "stdout",
          "text": [
            "Register a hook to perform Random Maps Ablation on layer  layer1.1.conv2 Conv2d(64, 64, kernel_size=(3, 3), stride=(1, 1), padding=(1, 1), bias=False)\n",
            "Register a hook to perform Random Maps Ablation on layer  layer2.1.conv2 Conv2d(128, 128, kernel_size=(3, 3), stride=(1, 1), padding=(1, 1), bias=False)\n",
            "mask_out_ratio:  0.5\n",
            "random_mask sum():  tensor(12832506., device='cuda:0')\n",
            "mask_out_ratio:  0.5\n",
            "random_mask sum():  tensor(6414004., device='cuda:0')\n",
            "Remove the hook used to perform Activation Shaping on layer  layer1.1.conv2\n",
            "Remove the hook used to perform Activation Shaping on layer  layer2.1.conv2\n",
            "Register a hook to perform Random Maps Ablation on layer  layer1.1.conv2 Conv2d(64, 64, kernel_size=(3, 3), stride=(1, 1), padding=(1, 1), bias=False)\n",
            "Register a hook to perform Random Maps Ablation on layer  layer2.1.conv2 Conv2d(128, 128, kernel_size=(3, 3), stride=(1, 1), padding=(1, 1), bias=False)\n",
            "mask_out_ratio:  0.5\n",
            "random_mask sum():  "
          ]
        },
        {
          "output_type": "stream",
          "name": "stderr",
          "text": [
            "\r 81%|████████▏ | 13/16 [00:08<00:01,  1.85it/s]"
          ]
        },
        {
          "output_type": "stream",
          "name": "stdout",
          "text": [
            "tensor(12829610., device='cuda:0')\n",
            "mask_out_ratio:  0.5\n",
            "random_mask sum():  tensor(6414771., device='cuda:0')\n",
            "Remove the hook used to perform Activation Shaping on layer  layer1.1.conv2\n",
            "Remove the hook used to perform Activation Shaping on layer  layer2.1.conv2\n",
            "Register a hook to perform Random Maps Ablation on layer  layer1.1.conv2 Conv2d(64, 64, kernel_size=(3, 3), stride=(1, 1), padding=(1, 1), bias=False)\n",
            "Register a hook to perform Random Maps Ablation on layer  layer2.1.conv2 Conv2d(128, 128, kernel_size=(3, 3), stride=(1, 1), padding=(1, 1), bias=False)\n",
            "mask_out_ratio:  0.5\n",
            "random_mask sum():  tensor(12833734., device='cuda:0')\n",
            "mask_out_ratio:  0.5\n",
            "random_mask sum():  "
          ]
        },
        {
          "output_type": "stream",
          "name": "stderr",
          "text": [
            "\r 88%|████████▊ | 14/16 [00:08<00:00,  2.31it/s]"
          ]
        },
        {
          "output_type": "stream",
          "name": "stdout",
          "text": [
            "tensor(6413226., device='cuda:0')\n",
            "Remove the hook used to perform Activation Shaping on layer  layer1.1.conv2\n",
            "Remove the hook used to perform Activation Shaping on layer  layer2.1.conv2\n",
            "Register a hook to perform Random Maps Ablation on layer  layer1.1.conv2 Conv2d(64, 64, kernel_size=(3, 3), stride=(1, 1), padding=(1, 1), bias=False)\n",
            "Register a hook to perform Random Maps Ablation on layer  layer2.1.conv2 Conv2d(128, 128, kernel_size=(3, 3), stride=(1, 1), padding=(1, 1), bias=False)\n",
            "mask_out_ratio:  0.5\n",
            "random_mask sum():  tensor(12830832., device='cuda:0')\n",
            "mask_out_ratio:  0.5\n",
            "random_mask sum():  tensor(6413655., device='cuda:0')\n",
            "Remove the hook used to perform Activation Shaping on layer  layer1.1.conv2\n",
            "Remove the hook used to perform Activation Shaping on layer  layer2.1.conv2\n"
          ]
        },
        {
          "output_type": "stream",
          "name": "stderr",
          "text": [
            "100%|██████████| 16/16 [00:09<00:00,  1.73it/s]\n"
          ]
        },
        {
          "output_type": "stream",
          "name": "stdout",
          "text": [
            "Register a hook to perform Random Maps Ablation on layer  layer1.1.conv2 Conv2d(64, 64, kernel_size=(3, 3), stride=(1, 1), padding=(1, 1), bias=False)\n",
            "Register a hook to perform Random Maps Ablation on layer  layer2.1.conv2 Conv2d(128, 128, kernel_size=(3, 3), stride=(1, 1), padding=(1, 1), bias=False)\n",
            "mask_out_ratio:  0.5\n",
            "random_mask sum():  tensor(12828207., device='cuda:0')\n",
            "mask_out_ratio:  0.5\n",
            "random_mask sum():  tensor(6413938., device='cuda:0')\n",
            "Remove the hook used to perform Activation Shaping on layer  layer1.1.conv2\n",
            "Remove the hook used to perform Activation Shaping on layer  layer2.1.conv2\n"
          ]
        },
        {
          "output_type": "stream",
          "name": "stderr",
          "text": [
            "100%|██████████| 31/31 [00:10<00:00,  2.87it/s]\n"
          ]
        },
        {
          "output_type": "stream",
          "name": "stdout",
          "text": [
            "Accuracy: 45.10 - Loss: 0.012134172558996872 \n",
            "\n"
          ]
        },
        {
          "output_type": "stream",
          "name": "stderr",
          "text": [
            "\r  0%|          | 0/16 [00:00<?, ?it/s]"
          ]
        },
        {
          "output_type": "stream",
          "name": "stdout",
          "text": [
            "Register a hook to perform Random Maps Ablation on layer  layer1.1.conv2 Conv2d(64, 64, kernel_size=(3, 3), stride=(1, 1), padding=(1, 1), bias=False)\n",
            "Register a hook to perform Random Maps Ablation on layer  layer2.1.conv2 Conv2d(128, 128, kernel_size=(3, 3), stride=(1, 1), padding=(1, 1), bias=False)\n",
            "mask_out_ratio:  0.5\n",
            "random_mask sum():  tensor(12833591., device='cuda:0')\n",
            "mask_out_ratio:  0.5\n",
            "random_mask sum():  tensor(6419815., device='cuda:0')\n",
            "Remove the hook used to perform Activation Shaping on layer  layer1.1.conv2\n",
            "Remove the hook used to perform Activation Shaping on layer  layer2.1.conv2\n"
          ]
        },
        {
          "output_type": "stream",
          "name": "stderr",
          "text": [
            "\r  6%|▋         | 1/16 [00:02<00:41,  2.74s/it]"
          ]
        },
        {
          "output_type": "stream",
          "name": "stdout",
          "text": [
            "Register a hook to perform Random Maps Ablation on layer  layer1.1.conv2 Conv2d(64, 64, kernel_size=(3, 3), stride=(1, 1), padding=(1, 1), bias=False)\n",
            "Register a hook to perform Random Maps Ablation on layer  layer2.1.conv2 Conv2d(128, 128, kernel_size=(3, 3), stride=(1, 1), padding=(1, 1), bias=False)\n",
            "mask_out_ratio:  0.5\n",
            "random_mask sum():  tensor(12830911., device='cuda:0')\n",
            "mask_out_ratio:  0.5\n",
            "random_mask sum():  tensor(6417361., device='cuda:0')\n",
            "Remove the hook used to perform Activation Shaping on layer  layer1.1.conv2\n",
            "Remove the hook used to perform Activation Shaping on layer  layer2.1.conv2\n"
          ]
        },
        {
          "output_type": "stream",
          "name": "stderr",
          "text": [
            "\r 12%|█▎        | 2/16 [00:03<00:18,  1.29s/it]"
          ]
        },
        {
          "output_type": "stream",
          "name": "stdout",
          "text": [
            "Register a hook to perform Random Maps Ablation on layer  layer1.1.conv2 Conv2d(64, 64, kernel_size=(3, 3), stride=(1, 1), padding=(1, 1), bias=False)\n",
            "Register a hook to perform Random Maps Ablation on layer  layer2.1.conv2 Conv2d(128, 128, kernel_size=(3, 3), stride=(1, 1), padding=(1, 1), bias=False)\n",
            "mask_out_ratio:  0.5\n",
            "random_mask sum():  tensor(12833063., device='cuda:0')\n",
            "mask_out_ratio:  0.5\n",
            "random_mask sum():  tensor(6416654., device='cuda:0')\n",
            "Remove the hook used to perform Activation Shaping on layer  layer1.1.conv2\n",
            "Remove the hook used to perform Activation Shaping on layer  layer2.1.conv2\n"
          ]
        },
        {
          "output_type": "stream",
          "name": "stderr",
          "text": [
            "\r 19%|█▉        | 3/16 [00:03<00:10,  1.20it/s]"
          ]
        },
        {
          "output_type": "stream",
          "name": "stdout",
          "text": [
            "Register a hook to perform Random Maps Ablation on layer  layer1.1.conv2 Conv2d(64, 64, kernel_size=(3, 3), stride=(1, 1), padding=(1, 1), bias=False)\n",
            "Register a hook to perform Random Maps Ablation on layer  layer2.1.conv2 Conv2d(128, 128, kernel_size=(3, 3), stride=(1, 1), padding=(1, 1), bias=False)\n",
            "mask_out_ratio:  0.5\n",
            "random_mask sum():  tensor(12831364., device='cuda:0')\n",
            "mask_out_ratio:  0.5\n",
            "random_mask sum():  tensor(6417298., device='cuda:0')\n",
            "Remove the hook used to perform Activation Shaping on layer  layer1.1.conv2\n",
            "Remove the hook used to perform Activation Shaping on layer  layer2.1.conv2\n"
          ]
        },
        {
          "output_type": "stream",
          "name": "stderr",
          "text": [
            "\r 25%|██▌       | 4/16 [00:03<00:07,  1.65it/s]"
          ]
        },
        {
          "output_type": "stream",
          "name": "stdout",
          "text": [
            "Register a hook to perform Random Maps Ablation on layer  layer1.1.conv2 Conv2d(64, 64, kernel_size=(3, 3), stride=(1, 1), padding=(1, 1), bias=False)\n",
            "Register a hook to perform Random Maps Ablation on layer  layer2.1.conv2 Conv2d(128, 128, kernel_size=(3, 3), stride=(1, 1), padding=(1, 1), bias=False)\n",
            "mask_out_ratio:  0.5\n",
            "random_mask sum():  tensor(12838039., device='cuda:0')\n",
            "mask_out_ratio:  0.5\n",
            "random_mask sum():  tensor(6413799., device='cuda:0')\n",
            "Remove the hook used to perform Activation Shaping on layer  layer1.1.conv2\n",
            "Remove the hook used to perform Activation Shaping on layer  layer2.1.conv2\n"
          ]
        },
        {
          "output_type": "stream",
          "name": "stderr",
          "text": [
            "\r 31%|███▏      | 5/16 [00:03<00:05,  2.11it/s]"
          ]
        },
        {
          "output_type": "stream",
          "name": "stdout",
          "text": [
            "Register a hook to perform Random Maps Ablation on layer  layer1.1.conv2 Conv2d(64, 64, kernel_size=(3, 3), stride=(1, 1), padding=(1, 1), bias=False)\n",
            "Register a hook to perform Random Maps Ablation on layer  layer2.1.conv2 Conv2d(128, 128, kernel_size=(3, 3), stride=(1, 1), padding=(1, 1), bias=False)\n",
            "mask_out_ratio:  0.5\n",
            "random_mask sum():  tensor(12833368., device='cuda:0')\n",
            "mask_out_ratio:  0.5\n",
            "random_mask sum():  tensor(6417425., device='cuda:0')\n",
            "Remove the hook used to perform Activation Shaping on layer  layer1.1.conv2\n",
            "Remove the hook used to perform Activation Shaping on layer  layer2.1.conv2\n"
          ]
        },
        {
          "output_type": "stream",
          "name": "stderr",
          "text": [
            " 44%|████▍     | 7/16 [00:06<00:07,  1.18it/s]"
          ]
        },
        {
          "output_type": "stream",
          "name": "stdout",
          "text": [
            "Register a hook to perform Random Maps Ablation on layer  layer1.1.conv2 Conv2d(64, 64, kernel_size=(3, 3), stride=(1, 1), padding=(1, 1), bias=False)\n",
            "Register a hook to perform Random Maps Ablation on layer  layer2.1.conv2 Conv2d(128, 128, kernel_size=(3, 3), stride=(1, 1), padding=(1, 1), bias=False)\n",
            "mask_out_ratio:  0.5\n",
            "random_mask sum():  tensor(12828091., device='cuda:0')\n",
            "mask_out_ratio:  0.5\n",
            "random_mask sum():  tensor(6418985., device='cuda:0')\n",
            "Remove the hook used to perform Activation Shaping on layer  layer1.1.conv2\n",
            "Remove the hook used to perform Activation Shaping on layer  layer2.1.conv2\n"
          ]
        },
        {
          "output_type": "stream",
          "name": "stderr",
          "text": [
            "\r 50%|█████     | 8/16 [00:06<00:05,  1.55it/s]"
          ]
        },
        {
          "output_type": "stream",
          "name": "stdout",
          "text": [
            "Register a hook to perform Random Maps Ablation on layer  layer1.1.conv2 Conv2d(64, 64, kernel_size=(3, 3), stride=(1, 1), padding=(1, 1), bias=False)\n",
            "Register a hook to perform Random Maps Ablation on layer  layer2.1.conv2 Conv2d(128, 128, kernel_size=(3, 3), stride=(1, 1), padding=(1, 1), bias=False)\n",
            "mask_out_ratio:  0.5\n",
            "random_mask sum():  tensor(12832731., device='cuda:0')\n",
            "mask_out_ratio:  0.5\n",
            "random_mask sum():  tensor(6416869., device='cuda:0')\n",
            "Remove the hook used to perform Activation Shaping on layer  layer1.1.conv2\n",
            "Remove the hook used to perform Activation Shaping on layer  layer2.1.conv2\n",
            "Register a hook to perform Random Maps Ablation on layer  layer1.1.conv2 Conv2d(64, 64, kernel_size=(3, 3), stride=(1, 1), padding=(1, 1), bias=False)"
          ]
        },
        {
          "output_type": "stream",
          "name": "stderr",
          "text": [
            "\r 56%|█████▋    | 9/16 [00:06<00:03,  1.98it/s]"
          ]
        },
        {
          "output_type": "stream",
          "name": "stdout",
          "text": [
            "\n",
            "Register a hook to perform Random Maps Ablation on layer  layer2.1.conv2 Conv2d(128, 128, kernel_size=(3, 3), stride=(1, 1), padding=(1, 1), bias=False)\n",
            "mask_out_ratio:  0.5\n",
            "random_mask sum():  tensor(12833277., device='cuda:0')\n",
            "mask_out_ratio:  0.5\n",
            "random_mask sum():  tensor(6417451., device='cuda:0')\n",
            "Remove the hook used to perform Activation Shaping on layer  layer1.1.conv2\n",
            "Remove the hook used to perform Activation Shaping on layer  layer2.1.conv2\n",
            "Register a hook to perform Random Maps Ablation on layer "
          ]
        },
        {
          "output_type": "stream",
          "name": "stderr",
          "text": [
            "\r 62%|██████▎   | 10/16 [00:07<00:02,  2.41it/s]"
          ]
        },
        {
          "output_type": "stream",
          "name": "stdout",
          "text": [
            " layer1.1.conv2 Conv2d(64, 64, kernel_size=(3, 3), stride=(1, 1), padding=(1, 1), bias=False)\n",
            "Register a hook to perform Random Maps Ablation on layer  layer2.1.conv2 Conv2d(128, 128, kernel_size=(3, 3), stride=(1, 1), padding=(1, 1), bias=False)\n",
            "mask_out_ratio:  0.5\n",
            "random_mask sum():  tensor(12832441., device='cuda:0')\n",
            "mask_out_ratio:  0.5\n",
            "random_mask sum():  tensor(6416699., device='cuda:0')\n",
            "Remove the hook used to perform Activation Shaping on layer  layer1.1.conv2\n",
            "Remove the hook used to perform Activation Shaping on layer  layer2.1.conv2\n"
          ]
        },
        {
          "output_type": "stream",
          "name": "stderr",
          "text": [
            "\r 69%|██████▉   | 11/16 [00:08<00:03,  1.50it/s]"
          ]
        },
        {
          "output_type": "stream",
          "name": "stdout",
          "text": [
            "Register a hook to perform Random Maps Ablation on layer  layer1.1.conv2 Conv2d(64, 64, kernel_size=(3, 3), stride=(1, 1), padding=(1, 1), bias=False)\n",
            "Register a hook to perform Random Maps Ablation on layer  layer2.1.conv2 Conv2d(128, 128, kernel_size=(3, 3), stride=(1, 1), padding=(1, 1), bias=False)\n",
            "mask_out_ratio:  0.5\n",
            "random_mask sum():  tensor(12831332., device='cuda:0')\n",
            "mask_out_ratio:  0.5\n",
            "random_mask sum():  tensor(6416341., device='cuda:0')\n",
            "Remove the hook used to perform Activation Shaping on layer  layer1.1.conv2\n",
            "Remove the hook used to perform Activation Shaping on layer  layer2.1.conv2\n",
            "Register a hook to perform Random Maps Ablation on layer  layer1.1.conv2 Conv2d(64, 64, kernel_size=(3, 3), stride=(1, 1), padding=(1, 1), bias=False)\n",
            "Register a hook to perform Random Maps Ablation on layer  layer2.1.conv2 Conv2d(128, 128, kernel_size=(3, 3), stride=(1, 1), padding=(1, 1), bias=False)\n",
            "mask_out_ratio:  0.5\n",
            "random_mask sum():  "
          ]
        },
        {
          "output_type": "stream",
          "name": "stderr",
          "text": [
            "\r 75%|███████▌  | 12/16 [00:08<00:02,  1.92it/s]"
          ]
        },
        {
          "output_type": "stream",
          "name": "stdout",
          "text": [
            "tensor(12837678., device='cuda:0')\n",
            "mask_out_ratio:  0.5\n",
            "random_mask sum():  tensor(6415183., device='cuda:0')\n",
            "Remove the hook used to perform Activation Shaping on layer  layer1.1.conv2\n",
            "Remove the hook used to perform Activation Shaping on layer  layer2.1.conv2\n",
            "Register a hook to perform Random Maps Ablation on layer  layer1.1.conv2 Conv2d(64, 64, kernel_size=(3, 3), stride=(1, 1), padding=(1, 1), bias=False)\n",
            "Register a hook to perform Random Maps Ablation on layer  layer2.1.conv2 Conv2d(128, 128, kernel_size=(3, 3), stride=(1, 1), padding=(1, 1), bias=False)\n",
            "mask_out_ratio:  0.5\n",
            "random_mask sum():  tensor(12831699., device='cuda:0')\n",
            "mask_out_ratio:  0.5\n",
            "random_mask sum():  "
          ]
        },
        {
          "output_type": "stream",
          "name": "stderr",
          "text": [
            "\r 81%|████████▏ | 13/16 [00:08<00:01,  2.40it/s]"
          ]
        },
        {
          "output_type": "stream",
          "name": "stdout",
          "text": [
            "tensor(6415247., device='cuda:0')\n",
            "Remove the hook used to perform Activation Shaping on layer  layer1.1.conv2\n",
            "Remove the hook used to perform Activation Shaping on layer  layer2.1.conv2\n",
            "Register a hook to perform Random Maps Ablation on layer  layer1.1.conv2 Conv2d(64, 64, kernel_size=(3, 3), stride=(1, 1), padding=(1, 1), bias=False)\n",
            "Register a hook to perform Random Maps Ablation on layer  layer2.1.conv2 Conv2d(128, 128, kernel_size=(3, 3), stride=(1, 1), padding=(1, 1), bias=False)\n",
            "mask_out_ratio:  0.5\n",
            "random_mask sum():  tensor(12832908., device='cuda:0')\n",
            "mask_out_ratio:  0.5\n",
            "random_mask sum():  tensor(6416668., device='cuda:0')\n",
            "Remove the hook used to perform Activation Shaping on layer  layer1.1.conv2\n",
            "Remove the hook used to perform Activation Shaping on layer  layer2.1.conv2\n"
          ]
        },
        {
          "output_type": "stream",
          "name": "stderr",
          "text": [
            " 94%|█████████▍| 15/16 [00:09<00:00,  3.32it/s]"
          ]
        },
        {
          "output_type": "stream",
          "name": "stdout",
          "text": [
            "Register a hook to perform Random Maps Ablation on layer  layer1.1.conv2 Conv2d(64, 64, kernel_size=(3, 3), stride=(1, 1), padding=(1, 1), bias=False)\n",
            "Register a hook to perform Random Maps Ablation on layer  layer2.1.conv2 Conv2d(128, 128, kernel_size=(3, 3), stride=(1, 1), padding=(1, 1), bias=False)\n",
            "mask_out_ratio:  0.5\n",
            "random_mask sum():  tensor(12834475., device='cuda:0')\n",
            "mask_out_ratio:  0.5\n",
            "random_mask sum():  tensor(6417029., device='cuda:0')\n",
            "Remove the hook used to perform Activation Shaping on layer  layer1.1.conv2\n",
            "Remove the hook used to perform Activation Shaping on layer  layer2.1.conv2\n",
            "Register a hook to perform Random Maps Ablation on layer  layer1.1.conv2 Conv2d(64, 64, kernel_size=(3, 3), stride=(1, 1), padding=(1, 1), bias=False)\n",
            "Register a hook to perform Random Maps Ablation on layer  layer2.1.conv2 Conv2d(128, 128, kernel_size=(3, 3), stride=(1, 1), padding=(1, 1), bias=False)\n",
            "mask_out_ratio:  0.5\n",
            "random_mask sum():  "
          ]
        },
        {
          "output_type": "stream",
          "name": "stderr",
          "text": [
            "100%|██████████| 16/16 [00:09<00:00,  1.73it/s]\n"
          ]
        },
        {
          "output_type": "stream",
          "name": "stdout",
          "text": [
            "tensor(12830753., device='cuda:0')\n",
            "mask_out_ratio:  0.5\n",
            "random_mask sum():  tensor(6417015., device='cuda:0')\n",
            "Remove the hook used to perform Activation Shaping on layer  layer1.1.conv2\n",
            "Remove the hook used to perform Activation Shaping on layer  layer2.1.conv2\n"
          ]
        },
        {
          "output_type": "stream",
          "name": "stderr",
          "text": [
            "100%|██████████| 31/31 [00:10<00:00,  2.84it/s]\n"
          ]
        },
        {
          "output_type": "stream",
          "name": "stdout",
          "text": [
            "Accuracy: 43.14 - Loss: 0.01274278026465758 \n",
            "\n"
          ]
        },
        {
          "output_type": "stream",
          "name": "stderr",
          "text": [
            "\r  0%|          | 0/16 [00:00<?, ?it/s]"
          ]
        },
        {
          "output_type": "stream",
          "name": "stdout",
          "text": [
            "Register a hook to perform Random Maps Ablation on layer  layer1.1.conv2 Conv2d(64, 64, kernel_size=(3, 3), stride=(1, 1), padding=(1, 1), bias=False)\n",
            "Register a hook to perform Random Maps Ablation on layer  layer2.1.conv2 Conv2d(128, 128, kernel_size=(3, 3), stride=(1, 1), padding=(1, 1), bias=False)\n",
            "mask_out_ratio:  0.5\n",
            "random_mask sum():  tensor(12830315., device='cuda:0')\n",
            "mask_out_ratio:  0.5\n",
            "random_mask sum():  tensor(6416521., device='cuda:0')\n",
            "Remove the hook used to perform Activation Shaping on layer  layer1.1.conv2\n",
            "Remove the hook used to perform Activation Shaping on layer  layer2.1.conv2\n"
          ]
        },
        {
          "output_type": "stream",
          "name": "stderr",
          "text": [
            " 12%|█▎        | 2/16 [00:02<00:15,  1.13s/it]"
          ]
        },
        {
          "output_type": "stream",
          "name": "stdout",
          "text": [
            "Register a hook to perform Random Maps Ablation on layer  layer1.1.conv2 Conv2d(64, 64, kernel_size=(3, 3), stride=(1, 1), padding=(1, 1), bias=False)\n",
            "Register a hook to perform Random Maps Ablation on layer  layer2.1.conv2 Conv2d(128, 128, kernel_size=(3, 3), stride=(1, 1), padding=(1, 1), bias=False)\n",
            "mask_out_ratio:  0.5\n",
            "random_mask sum():  tensor(12834281., device='cuda:0')\n",
            "mask_out_ratio:  0.5\n",
            "random_mask sum():  tensor(6416893., device='cuda:0')\n",
            "Remove the hook used to perform Activation Shaping on layer  layer1.1.conv2\n",
            "Remove the hook used to perform Activation Shaping on layer  layer2.1.conv2\n",
            "Register a hook to perform Random Maps Ablation on layer  layer1.1.conv2 Conv2d(64, 64, kernel_size=(3, 3), stride=(1, 1), padding=(1, 1), bias=False)\n",
            "Register a hook to perform Random Maps Ablation on layer  layer2.1.conv2 Conv2d(128, 128, kernel_size=(3, 3), stride=(1, 1), padding=(1, 1), bias=False)\n",
            "mask_out_ratio:  0.5\n",
            "random_mask sum():  tensor(12831330., device='cuda:0')\n",
            "mask_out_ratio:  0.5\n",
            "random_mask sum():  tensor(6416758., device='cuda:0')\n",
            "Remove the hook used to perform Activation Shaping on layer  layer1.1.conv2\n",
            "Remove the hook used to perform Activation Shaping on layer  layer2.1.conv2\n"
          ]
        },
        {
          "output_type": "stream",
          "name": "stderr",
          "text": [
            " 25%|██▌       | 4/16 [00:03<00:06,  1.91it/s]"
          ]
        },
        {
          "output_type": "stream",
          "name": "stdout",
          "text": [
            "Register a hook to perform Random Maps Ablation on layer  layer1.1.conv2 Conv2d(64, 64, kernel_size=(3, 3), stride=(1, 1), padding=(1, 1), bias=False)\n",
            "Register a hook to perform Random Maps Ablation on layer  layer2.1.conv2 Conv2d(128, 128, kernel_size=(3, 3), stride=(1, 1), padding=(1, 1), bias=False)\n",
            "mask_out_ratio:  0.5\n",
            "random_mask sum():  tensor(12830301., device='cuda:0')\n",
            "mask_out_ratio:  0.5\n",
            "random_mask sum():  tensor(6418770., device='cuda:0')\n",
            "Remove the hook used to perform Activation Shaping on layer  layer1.1.conv2\n",
            "Remove the hook used to perform Activation Shaping on layer  layer2.1.conv2\n",
            "Register a hook to perform Random Maps Ablation on layer  layer1.1.conv2 Conv2d(64, 64, kernel_size=(3, 3), stride=(1, 1), padding=(1, 1), bias=False)\n",
            "Register a hook to perform Random Maps Ablation on layer  layer2.1.conv2 Conv2d(128, 128, kernel_size=(3, 3), stride=(1, 1), padding=(1, 1), bias=False)\n"
          ]
        },
        {
          "output_type": "stream",
          "name": "stderr",
          "text": [
            "\r 31%|███▏      | 5/16 [00:03<00:04,  2.43it/s]"
          ]
        },
        {
          "output_type": "stream",
          "name": "stdout",
          "text": [
            "mask_out_ratio:  0.5\n",
            "random_mask sum():  tensor(12830314., device='cuda:0')\n",
            "mask_out_ratio:  0.5\n",
            "random_mask sum():  tensor(6416726., device='cuda:0')\n",
            "Remove the hook used to perform Activation Shaping on layer  layer1.1.conv2\n",
            "Remove the hook used to perform Activation Shaping on layer  layer2.1.conv2\n",
            "Register a hook to perform Random Maps Ablation on layer  layer1.1.conv2 Conv2d(64, 64, kernel_size=(3, 3), stride=(1, 1), padding=(1, 1), bias=False)\n",
            "Register a hook to perform Random Maps Ablation on layer  layer2.1.conv2 Conv2d(128, 128, kernel_size=(3, 3), stride=(1, 1), padding=(1, 1), bias=False)\n",
            "mask_out_ratio:  0.5\n",
            "random_mask sum():  tensor(12833401., device='cuda:0')\n",
            "mask_out_ratio:  0.5\n",
            "random_mask sum():  tensor(6413884., device='cuda:0')\n",
            "Remove the hook used to perform Activation Shaping on layer  layer1.1.conv2\n",
            "Remove the hook used to perform Activation Shaping on layer  layer2.1.conv2\n"
          ]
        },
        {
          "output_type": "stream",
          "name": "stderr",
          "text": [
            " 44%|████▍     | 7/16 [00:06<00:09,  1.01s/it]"
          ]
        },
        {
          "output_type": "stream",
          "name": "stdout",
          "text": [
            "Register a hook to perform Random Maps Ablation on layer  layer1.1.conv2 Conv2d(64, 64, kernel_size=(3, 3), stride=(1, 1), padding=(1, 1), bias=False)\n",
            "Register a hook to perform Random Maps Ablation on layer  layer2.1.conv2 Conv2d(128, 128, kernel_size=(3, 3), stride=(1, 1), padding=(1, 1), bias=False)\n",
            "mask_out_ratio:  0.5\n",
            "random_mask sum():  tensor(12829819., device='cuda:0')\n",
            "mask_out_ratio:  0.5\n",
            "random_mask sum():  tensor(6417294., device='cuda:0')\n",
            "Remove the hook used to perform Activation Shaping on layer  layer1.1.conv2\n",
            "Remove the hook used to perform Activation Shaping on layer  layer2.1.conv2\n",
            "Register a hook to perform Random Maps Ablation on layer  layer1.1.conv2 "
          ]
        },
        {
          "output_type": "stream",
          "name": "stderr",
          "text": [
            "\r 50%|█████     | 8/16 [00:06<00:06,  1.32it/s]"
          ]
        },
        {
          "output_type": "stream",
          "name": "stdout",
          "text": [
            "Conv2d(64, 64, kernel_size=(3, 3), stride=(1, 1), padding=(1, 1), bias=False)\n",
            "Register a hook to perform Random Maps Ablation on layer  layer2.1.conv2 Conv2d(128, 128, kernel_size=(3, 3), stride=(1, 1), padding=(1, 1), bias=False)\n",
            "mask_out_ratio:  0.5\n",
            "random_mask sum():  tensor(12828570., device='cuda:0')\n",
            "mask_out_ratio:  0.5\n",
            "random_mask sum():  tensor(6418570., device='cuda:0')\n",
            "Remove the hook used to perform Activation Shaping on layer  layer1.1.conv2\n",
            "Remove the hook used to perform Activation Shaping on layer  layer2.1.conv2\n",
            "Register a hook to perform Random Maps Ablation on layer  layer1.1.conv2 Conv2d(64, 64, kernel_size=(3, 3), stride=(1, 1), padding=(1, 1), bias=False)\n",
            "Register a hook to perform Random Maps Ablation on layer "
          ]
        },
        {
          "output_type": "stream",
          "name": "stderr",
          "text": [
            "\r 56%|█████▋    | 9/16 [00:06<00:04,  1.72it/s]"
          ]
        },
        {
          "output_type": "stream",
          "name": "stdout",
          "text": [
            " layer2.1.conv2 Conv2d(128, 128, kernel_size=(3, 3), stride=(1, 1), padding=(1, 1), bias=False)\n",
            "mask_out_ratio:  0.5\n",
            "random_mask sum():  tensor(12831863., device='cuda:0')\n",
            "mask_out_ratio:  0.5\n",
            "random_mask sum():  tensor(6418426., device='cuda:0')\n",
            "Remove the hook used to perform Activation Shaping on layer  layer1.1.conv2\n",
            "Remove the hook used to perform Activation Shaping on layer  layer2.1.conv2\n",
            "Register a hook to perform Random Maps Ablation on layer  layer1.1.conv2 Conv2d(64, 64, kernel_size=(3, 3), stride=(1, 1), padding=(1, 1), bias=False)\n",
            "Register a hook to perform Random Maps Ablation on layer  layer2.1.conv2 Conv2d(128, 128, kernel_size=(3, 3), stride=(1, 1), padding=(1, 1), bias=False)\n",
            "mask_out_ratio:  0.5\n",
            "random_mask sum():  tensor(12831008., device='cuda:0')\n",
            "mask_out_ratio:  0.5\n",
            "random_mask sum():  tensor(6413697., device='cuda:0')\n",
            "Remove the hook used to perform Activation Shaping on layer  layer1.1.conv2\n",
            "Remove the hook used to perform Activation Shaping on layer  layer2.1.conv2\n"
          ]
        },
        {
          "output_type": "stream",
          "name": "stderr",
          "text": [
            " 69%|██████▉   | 11/16 [00:08<00:04,  1.12it/s]"
          ]
        },
        {
          "output_type": "stream",
          "name": "stdout",
          "text": [
            "Register a hook to perform Random Maps Ablation on layer  layer1.1.conv2 Conv2d(64, 64, kernel_size=(3, 3), stride=(1, 1), padding=(1, 1), bias=False)\n",
            "Register a hook to perform Random Maps Ablation on layer  layer2.1.conv2 Conv2d(128, 128, kernel_size=(3, 3), stride=(1, 1), padding=(1, 1), bias=False)\n",
            "mask_out_ratio:  0.5\n",
            "random_mask sum():  tensor(12830397., device='cuda:0')\n",
            "mask_out_ratio:  0.5\n",
            "random_mask sum():  tensor(6418816., device='cuda:0')\n",
            "Remove the hook used to perform Activation Shaping on layer  layer1.1.conv2\n",
            "Remove the hook used to perform Activation Shaping on layer  layer2.1.conv2\n"
          ]
        },
        {
          "output_type": "stream",
          "name": "stderr",
          "text": [
            "\r 75%|███████▌  | 12/16 [00:09<00:03,  1.20it/s]"
          ]
        },
        {
          "output_type": "stream",
          "name": "stdout",
          "text": [
            "Register a hook to perform Random Maps Ablation on layer  layer1.1.conv2 Conv2d(64, 64, kernel_size=(3, 3), stride=(1, 1), padding=(1, 1), bias=False)\n",
            "Register a hook to perform Random Maps Ablation on layer  layer2.1.conv2 Conv2d(128, 128, kernel_size=(3, 3), stride=(1, 1), padding=(1, 1), bias=False)\n",
            "mask_out_ratio:  0.5\n",
            "random_mask sum():  tensor(12832205., device='cuda:0')\n",
            "mask_out_ratio:  0.5\n",
            "random_mask sum():  tensor(6415932., device='cuda:0')\n",
            "Remove the hook used to perform Activation Shaping on layer  layer1.1.conv2\n",
            "Remove the hook used to perform Activation Shaping on layer  layer2.1.conv2\n",
            "Register a hook to perform Random Maps Ablation on layer  layer1.1.conv2 Conv2d(64, 64, kernel_size=(3, 3), stride=(1, 1), padding=(1, 1), bias=False)\n",
            "Register a hook to perform Random Maps Ablation on layer  layer2.1.conv2 Conv2d(128, 128, kernel_size=(3, 3), stride=(1, 1), padding=(1, 1), bias=False)\n",
            "mask_out_ratio:  0.5\n",
            "random_mask sum(): "
          ]
        },
        {
          "output_type": "stream",
          "name": "stderr",
          "text": [
            "\r 81%|████████▏ | 13/16 [00:09<00:01,  1.56it/s]"
          ]
        },
        {
          "output_type": "stream",
          "name": "stdout",
          "text": [
            " tensor(12830755., device='cuda:0')\n",
            "mask_out_ratio:  0.5\n",
            "random_mask sum():  tensor(6418526., device='cuda:0')\n",
            "Remove the hook used to perform Activation Shaping on layer  layer1.1.conv2\n",
            "Remove the hook used to perform Activation Shaping on layer  layer2.1.conv2\n",
            "Register a hook to perform Random Maps Ablation on layer  layer1.1.conv2 Conv2d(64, 64, kernel_size=(3, 3), stride=(1, 1), padding=(1, 1), bias=False)\n",
            "Register a hook to perform Random Maps Ablation on layer  layer2.1.conv2 Conv2d(128, 128, kernel_size=(3, 3), stride=(1, 1), padding=(1, 1), bias=False)\n",
            "mask_out_ratio:  0.5\n",
            "random_mask sum():  "
          ]
        },
        {
          "output_type": "stream",
          "name": "stderr",
          "text": [
            "\r 88%|████████▊ | 14/16 [00:10<00:01,  1.98it/s]"
          ]
        },
        {
          "output_type": "stream",
          "name": "stdout",
          "text": [
            "tensor(12832124., device='cuda:0')\n",
            "mask_out_ratio:  0.5\n",
            "random_mask sum():  tensor(6416877., device='cuda:0')\n",
            "Remove the hook used to perform Activation Shaping on layer  layer1.1.conv2\n",
            "Remove the hook used to perform Activation Shaping on layer  layer2.1.conv2\n",
            "Register a hook to perform Random Maps Ablation on layer  layer1.1.conv2 Conv2d(64, 64, kernel_size=(3, 3), stride=(1, 1), padding=(1, 1), bias=False)\n",
            "Register a hook to perform Random Maps Ablation on layer  layer2.1.conv2 Conv2d(128, 128, kernel_size=(3, 3), stride=(1, 1), padding=(1, 1), bias=False)\n",
            "mask_out_ratio:  0.5\n",
            "random_mask sum():  tensor(12835675., device='cuda:0')\n",
            "mask_out_ratio:  0.5\n",
            "random_mask sum():  "
          ]
        },
        {
          "output_type": "stream",
          "name": "stderr",
          "text": [
            "\r 94%|█████████▍| 15/16 [00:10<00:00,  2.43it/s]"
          ]
        },
        {
          "output_type": "stream",
          "name": "stdout",
          "text": [
            "tensor(6417679., device='cuda:0')\n",
            "Remove the hook used to perform Activation Shaping on layer  layer1.1.conv2\n",
            "Remove the hook used to perform Activation Shaping on layer  layer2.1.conv2\n",
            "Register a hook to perform Random Maps Ablation on layer  layer1.1.conv2 Conv2d(64, 64, kernel_size=(3, 3), stride=(1, 1), padding=(1, 1), bias=False)\n",
            "Register a hook to perform Random Maps Ablation on layer  layer2.1.conv2 Conv2d(128, 128, kernel_size=(3, 3), stride=(1, 1), padding=(1, 1), bias=False)\n",
            "mask_out_ratio:  0.5\n",
            "random_mask sum():  tensor(12826460., device='cuda:0')\n",
            "mask_out_ratio:  0.5\n",
            "random_mask sum():  tensor(6418719., device='cuda:0')\n",
            "Remove the hook used to perform Activation Shaping on layer  layer1.1.conv2\n",
            "Remove the hook used to perform Activation Shaping on layer  layer2.1.conv2\n"
          ]
        },
        {
          "output_type": "stream",
          "name": "stderr",
          "text": [
            "100%|██████████| 16/16 [00:10<00:00,  1.53it/s]\n",
            "100%|██████████| 31/31 [00:11<00:00,  2.61it/s]\n"
          ]
        },
        {
          "output_type": "stream",
          "name": "stdout",
          "text": [
            "Accuracy: 40.26 - Loss: 0.01375453763106422 \n",
            "\n"
          ]
        },
        {
          "output_type": "stream",
          "name": "stderr",
          "text": [
            "\r  0%|          | 0/16 [00:00<?, ?it/s]"
          ]
        },
        {
          "output_type": "stream",
          "name": "stdout",
          "text": [
            "Register a hook to perform Random Maps Ablation on layer  layer1.1.conv2 Conv2d(64, 64, kernel_size=(3, 3), stride=(1, 1), padding=(1, 1), bias=False)\n",
            "Register a hook to perform Random Maps Ablation on layer  layer2.1.conv2 Conv2d(128, 128, kernel_size=(3, 3), stride=(1, 1), padding=(1, 1), bias=False)\n",
            "mask_out_ratio:  0.5\n",
            "random_mask sum():  tensor(12834518., device='cuda:0')\n",
            "mask_out_ratio:  0.5\n",
            "random_mask sum():  tensor(6415571., device='cuda:0')\n",
            "Remove the hook used to perform Activation Shaping on layer  layer1.1.conv2\n",
            "Remove the hook used to perform Activation Shaping on layer  layer2.1.conv2\n"
          ]
        },
        {
          "output_type": "stream",
          "name": "stderr",
          "text": [
            " 12%|█▎        | 2/16 [00:03<00:18,  1.30s/it]"
          ]
        },
        {
          "output_type": "stream",
          "name": "stdout",
          "text": [
            "Register a hook to perform Random Maps Ablation on layer  layer1.1.conv2 Conv2d(64, 64, kernel_size=(3, 3), stride=(1, 1), padding=(1, 1), bias=False)\n",
            "Register a hook to perform Random Maps Ablation on layer  layer2.1.conv2 Conv2d(128, 128, kernel_size=(3, 3), stride=(1, 1), padding=(1, 1), bias=False)\n",
            "mask_out_ratio:  0.5\n",
            "random_mask sum():  tensor(12834418., device='cuda:0')\n",
            "mask_out_ratio:  0.5\n",
            "random_mask sum():  tensor(6417753., device='cuda:0')\n",
            "Remove the hook used to perform Activation Shaping on layer  layer1.1.conv2\n",
            "Remove the hook used to perform Activation Shaping on layer  layer2.1.conv2\n",
            "Register a hook to perform Random Maps Ablation on layer  layer1.1.conv2 Conv2d(64, 64, kernel_size=(3, 3), stride=(1, 1), padding=(1, 1), bias=False)\n",
            "Register a hook to perform Random Maps Ablation on layer  "
          ]
        },
        {
          "output_type": "stream",
          "name": "stderr",
          "text": [
            "\r 19%|█▉        | 3/16 [00:03<00:10,  1.24it/s]"
          ]
        },
        {
          "output_type": "stream",
          "name": "stdout",
          "text": [
            "layer2.1.conv2 Conv2d(128, 128, kernel_size=(3, 3), stride=(1, 1), padding=(1, 1), bias=False)\n",
            "mask_out_ratio:  0.5\n",
            "random_mask sum():  tensor(12835882., device='cuda:0')\n",
            "mask_out_ratio:  0.5\n",
            "random_mask sum():  tensor(6415201., device='cuda:0')\n",
            "Remove the hook used to perform Activation Shaping on layer  layer1.1.conv2\n",
            "Remove the hook used to perform Activation Shaping on layer  layer2.1.conv2\n",
            "Register a hook to perform Random Maps Ablation on layer  layer1.1.conv2 Conv2d(64, 64, kernel_size=(3, 3), stride=(1, 1), padding=(1, 1), bias=False)\n",
            "Register a hook to perform Random Maps Ablation on layer  layer2.1.conv2 Conv2d(128, 128, kernel_size=(3, 3), stride=(1, 1), padding=(1, 1), bias=False)\n",
            "mask_out_ratio: "
          ]
        },
        {
          "output_type": "stream",
          "name": "stderr",
          "text": [
            "\r 25%|██▌       | 4/16 [00:03<00:06,  1.78it/s]"
          ]
        },
        {
          "output_type": "stream",
          "name": "stdout",
          "text": [
            " 0.5\n",
            "random_mask sum():  tensor(12832867., device='cuda:0')\n",
            "mask_out_ratio:  0.5\n",
            "random_mask sum():  tensor(6416433., device='cuda:0')\n",
            "Remove the hook used to perform Activation Shaping on layer  layer1.1.conv2\n",
            "Remove the hook used to perform Activation Shaping on layer  layer2.1.conv2\n",
            "Register a hook to perform Random Maps Ablation on layer  layer1.1.conv2 Conv2d(64, 64, kernel_size=(3, 3), stride=(1, 1), padding=(1, 1), bias=False)\n",
            "Register a hook to perform Random Maps Ablation on layer  layer2.1.conv2 Conv2d(128, 128, kernel_size=(3, 3), stride=(1, 1), padding=(1, 1), bias=False)\n",
            "mask_out_ratio:  0.5\n",
            "random_mask sum():  "
          ]
        },
        {
          "output_type": "stream",
          "name": "stderr",
          "text": [
            "\r 31%|███▏      | 5/16 [00:03<00:04,  2.30it/s]"
          ]
        },
        {
          "output_type": "stream",
          "name": "stdout",
          "text": [
            "tensor(12833451., device='cuda:0')\n",
            "mask_out_ratio:  0.5\n",
            "random_mask sum():  tensor(6413685., device='cuda:0')\n",
            "Remove the hook used to perform Activation Shaping on layer  layer1.1.conv2\n",
            "Remove the hook used to perform Activation Shaping on layer  layer2.1.conv2\n"
          ]
        },
        {
          "output_type": "stream",
          "name": "stderr",
          "text": [
            "\r 38%|███▊      | 6/16 [00:05<00:08,  1.18it/s]"
          ]
        },
        {
          "output_type": "stream",
          "name": "stdout",
          "text": [
            "Register a hook to perform Random Maps Ablation on layer  layer1.1.conv2 Conv2d(64, 64, kernel_size=(3, 3), stride=(1, 1), padding=(1, 1), bias=False)\n",
            "Register a hook to perform Random Maps Ablation on layer  layer2.1.conv2 Conv2d(128, 128, kernel_size=(3, 3), stride=(1, 1), padding=(1, 1), bias=False)\n",
            "mask_out_ratio:  0.5\n",
            "random_mask sum():  tensor(12833678., device='cuda:0')\n",
            "mask_out_ratio:  0.5\n",
            "random_mask sum():  tensor(6416986., device='cuda:0')\n",
            "Remove the hook used to perform Activation Shaping on layer  layer1.1.conv2\n",
            "Remove the hook used to perform Activation Shaping on layer  layer2.1.conv2\n",
            "Register a hook to perform Random Maps Ablation on layer  layer1.1.conv2 Conv2d(64, 64, kernel_size=(3, 3), stride=(1, 1), padding=(1, 1), bias=False)\n",
            "Register a hook to perform Random Maps Ablation on layer  layer2.1.conv2 Conv2d(128, 128, kernel_size=(3, 3), stride=(1, 1), padding=(1, 1), bias=False)\n"
          ]
        },
        {
          "output_type": "stream",
          "name": "stderr",
          "text": [
            "\r 44%|████▍     | 7/16 [00:05<00:05,  1.58it/s]"
          ]
        },
        {
          "output_type": "stream",
          "name": "stdout",
          "text": [
            "mask_out_ratio:  0.5\n",
            "random_mask sum():  tensor(12833424., device='cuda:0')\n",
            "mask_out_ratio:  0.5\n",
            "random_mask sum():  tensor(6419164., device='cuda:0')\n",
            "Remove the hook used to perform Activation Shaping on layer  layer1.1.conv2\n",
            "Remove the hook used to perform Activation Shaping on layer  layer2.1.conv2\n",
            "Register a hook to perform Random Maps Ablation on layer  layer1.1.conv2 Conv2d(64, 64, kernel_size=(3, 3), stride=(1, 1), padding=(1, 1), bias=False)\n",
            "Register a hook to perform Random Maps Ablation on layer  layer2.1.conv2 Conv2d(128, 128, kernel_size=(3, 3), stride=(1, 1), padding=(1, 1), bias=False)\n",
            "mask_out_ratio:  0.5\n",
            "random_mask sum():  "
          ]
        },
        {
          "output_type": "stream",
          "name": "stderr",
          "text": [
            "\r 50%|█████     | 8/16 [00:05<00:03,  2.01it/s]"
          ]
        },
        {
          "output_type": "stream",
          "name": "stdout",
          "text": [
            "tensor(12830089., device='cuda:0')\n",
            "mask_out_ratio:  0.5\n",
            "random_mask sum():  tensor(6417948., device='cuda:0')\n",
            "Remove the hook used to perform Activation Shaping on layer  layer1.1.conv2\n",
            "Remove the hook used to perform Activation Shaping on layer  layer2.1.conv2\n",
            "Register a hook to perform Random Maps Ablation on layer  layer1.1.conv2 Conv2d(64, 64, kernel_size=(3, 3), stride=(1, 1), padding=(1, 1), bias=False)\n",
            "Register a hook to perform Random Maps Ablation on layer  layer2.1.conv2 Conv2d(128, 128, kernel_size=(3, 3), stride=(1, 1), padding=(1, 1), bias=False)\n",
            "mask_out_ratio:  0.5\n",
            "random_mask sum():  "
          ]
        },
        {
          "output_type": "stream",
          "name": "stderr",
          "text": [
            "\r 56%|█████▋    | 9/16 [00:05<00:02,  2.44it/s]"
          ]
        },
        {
          "output_type": "stream",
          "name": "stdout",
          "text": [
            "tensor(12831307., device='cuda:0')\n",
            "mask_out_ratio:  0.5\n",
            "random_mask sum():  tensor(6413841., device='cuda:0')\n",
            "Remove the hook used to perform Activation Shaping on layer  layer1.1.conv2\n",
            "Remove the hook used to perform Activation Shaping on layer  layer2.1.conv2\n",
            "Register a hook to perform Random Maps Ablation on layer  layer1.1.conv2 Conv2d(64, 64, kernel_size=(3, 3), stride=(1, 1), padding=(1, 1), bias=False)\n",
            "Register a hook to perform Random Maps Ablation on layer  layer2.1.conv2 Conv2d(128, 128, kernel_size=(3, 3), stride=(1, 1), padding=(1, 1), bias=False)\n",
            "mask_out_ratio:  0.5\n",
            "random_mask sum():  "
          ]
        },
        {
          "output_type": "stream",
          "name": "stderr",
          "text": [
            "\r 62%|██████▎   | 10/16 [00:06<00:02,  2.85it/s]"
          ]
        },
        {
          "output_type": "stream",
          "name": "stdout",
          "text": [
            "tensor(12830258., device='cuda:0')\n",
            "mask_out_ratio:  0.5\n",
            "random_mask sum():  tensor(6418512., device='cuda:0')\n",
            "Remove the hook used to perform Activation Shaping on layer  layer1.1.conv2\n",
            "Remove the hook used to perform Activation Shaping on layer  layer2.1.conv2\n"
          ]
        },
        {
          "output_type": "stream",
          "name": "stderr",
          "text": [
            "\r 69%|██████▉   | 11/16 [00:07<00:03,  1.55it/s]"
          ]
        },
        {
          "output_type": "stream",
          "name": "stdout",
          "text": [
            "Register a hook to perform Random Maps Ablation on layer  layer1.1.conv2 Conv2d(64, 64, kernel_size=(3, 3), stride=(1, 1), padding=(1, 1), bias=False)\n",
            "Register a hook to perform Random Maps Ablation on layer  layer2.1.conv2 Conv2d(128, 128, kernel_size=(3, 3), stride=(1, 1), padding=(1, 1), bias=False)\n",
            "mask_out_ratio:  0.5\n",
            "random_mask sum():  tensor(12834434., device='cuda:0')\n",
            "mask_out_ratio:  0.5\n",
            "random_mask sum():  tensor(6414530., device='cuda:0')\n",
            "Remove the hook used to perform Activation Shaping on layer  layer1.1.conv2\n",
            "Remove the hook used to perform Activation Shaping on layer  layer2.1.conv2\n",
            "Register a hook to perform Random Maps Ablation on layer  layer1.1.conv2 Conv2d(64, 64, kernel_size=(3, 3), stride=(1, 1), padding=(1, 1), bias=False)\n",
            "Register a hook to perform Random Maps Ablation on layer  layer2.1.conv2 Conv2d(128, 128, kernel_size=(3, 3), stride=(1, 1), padding=(1, 1), bias=False)\n",
            "mask_out_ratio:  0.5\n",
            "random_mask sum():  "
          ]
        },
        {
          "output_type": "stream",
          "name": "stderr",
          "text": [
            "\r 75%|███████▌  | 12/16 [00:07<00:02,  1.99it/s]"
          ]
        },
        {
          "output_type": "stream",
          "name": "stdout",
          "text": [
            "tensor(12833059., device='cuda:0')\n",
            "mask_out_ratio:  0.5\n",
            "random_mask sum():  tensor(6416093., device='cuda:0')\n",
            "Remove the hook used to perform Activation Shaping on layer  layer1.1.conv2\n",
            "Remove the hook used to perform Activation Shaping on layer  layer2.1.conv2\n",
            "Register a hook to perform Random Maps Ablation on layer  layer1.1.conv2 Conv2d(64, 64, kernel_size=(3, 3), stride=(1, 1), padding=(1, 1), bias=False)\n",
            "Register a hook to perform Random Maps Ablation on layer  layer2.1.conv2 Conv2d(128, 128, kernel_size=(3, 3), stride=(1, 1), padding=(1, 1), bias=False)\n",
            "mask_out_ratio:  0.5\n",
            "random_mask sum():  tensor(12831986., device='cuda:0')\n",
            "mask_out_ratio:  0.5\n",
            "random_mask sum():  tensor(6416455., device='cuda:0')\n"
          ]
        },
        {
          "output_type": "stream",
          "name": "stderr",
          "text": [
            "\r 81%|████████▏ | 13/16 [00:07<00:01,  2.46it/s]"
          ]
        },
        {
          "output_type": "stream",
          "name": "stdout",
          "text": [
            "Remove the hook used to perform Activation Shaping on layer  layer1.1.conv2\n",
            "Remove the hook used to perform Activation Shaping on layer  layer2.1.conv2\n",
            "Register a hook to perform Random Maps Ablation on layer  layer1.1.conv2 Conv2d(64, 64, kernel_size=(3, 3), stride=(1, 1), padding=(1, 1), bias=False)\n",
            "Register a hook to perform Random Maps Ablation on layer  layer2.1.conv2 Conv2d(128, 128, kernel_size=(3, 3), stride=(1, 1), padding=(1, 1), bias=False)\n",
            "mask_out_ratio:  0.5\n",
            "random_mask sum():  tensor(12829051., device='cuda:0')\n",
            "mask_out_ratio:  0.5\n",
            "random_mask sum():  tensor(6419848., device='cuda:0')\n",
            "Remove the hook used to perform Activation Shaping on layer  layer1.1.conv2\n",
            "Remove the hook used to perform Activation Shaping on layer  layer2.1.conv2\n"
          ]
        },
        {
          "output_type": "stream",
          "name": "stderr",
          "text": [
            " 94%|█████████▍| 15/16 [00:08<00:00,  3.38it/s]"
          ]
        },
        {
          "output_type": "stream",
          "name": "stdout",
          "text": [
            "Register a hook to perform Random Maps Ablation on layer  layer1.1.conv2 Conv2d(64, 64, kernel_size=(3, 3), stride=(1, 1), padding=(1, 1), bias=False)\n",
            "Register a hook to perform Random Maps Ablation on layer  layer2.1.conv2 Conv2d(128, 128, kernel_size=(3, 3), stride=(1, 1), padding=(1, 1), bias=False)\n",
            "mask_out_ratio:  0.5\n",
            "random_mask sum():  tensor(12830625., device='cuda:0')\n",
            "mask_out_ratio:  0.5\n",
            "random_mask sum():  tensor(6416057., device='cuda:0')\n",
            "Remove the hook used to perform Activation Shaping on layer  layer1.1.conv2\n",
            "Remove the hook used to perform Activation Shaping on layer  layer2.1.conv2\n"
          ]
        },
        {
          "output_type": "stream",
          "name": "stderr",
          "text": [
            "100%|██████████| 16/16 [00:08<00:00,  1.89it/s]\n"
          ]
        },
        {
          "output_type": "stream",
          "name": "stdout",
          "text": [
            "Register a hook to perform Random Maps Ablation on layer  layer1.1.conv2 Conv2d(64, 64, kernel_size=(3, 3), stride=(1, 1), padding=(1, 1), bias=False)\n",
            "Register a hook to perform Random Maps Ablation on layer  layer2.1.conv2 Conv2d(128, 128, kernel_size=(3, 3), stride=(1, 1), padding=(1, 1), bias=False)\n",
            "mask_out_ratio:  0.5\n",
            "random_mask sum():  tensor(12832942., device='cuda:0')\n",
            "mask_out_ratio:  0.5\n",
            "random_mask sum():  tensor(6419107., device='cuda:0')\n",
            "Remove the hook used to perform Activation Shaping on layer  layer1.1.conv2\n",
            "Remove the hook used to perform Activation Shaping on layer  layer2.1.conv2\n"
          ]
        },
        {
          "output_type": "stream",
          "name": "stderr",
          "text": [
            "100%|██████████| 31/31 [00:11<00:00,  2.74it/s]\n"
          ]
        },
        {
          "output_type": "stream",
          "name": "stdout",
          "text": [
            "Accuracy: 45.97 - Loss: 0.012137533902939902 \n",
            "\n"
          ]
        },
        {
          "output_type": "stream",
          "name": "stderr",
          "text": [
            "\r  0%|          | 0/16 [00:00<?, ?it/s]"
          ]
        },
        {
          "output_type": "stream",
          "name": "stdout",
          "text": [
            "Register a hook to perform Random Maps Ablation on layer  layer1.1.conv2 Conv2d(64, 64, kernel_size=(3, 3), stride=(1, 1), padding=(1, 1), bias=False)\n",
            "Register a hook to perform Random Maps Ablation on layer  layer2.1.conv2 Conv2d(128, 128, kernel_size=(3, 3), stride=(1, 1), padding=(1, 1), bias=False)\n",
            "mask_out_ratio:  0.5\n",
            "random_mask sum():  tensor(12834029., device='cuda:0')\n",
            "mask_out_ratio:  0.5\n",
            "random_mask sum():  tensor(6418389., device='cuda:0')\n",
            "Remove the hook used to perform Activation Shaping on layer  layer1.1.conv2\n",
            "Remove the hook used to perform Activation Shaping on layer  layer2.1.conv2\n"
          ]
        },
        {
          "output_type": "stream",
          "name": "stderr",
          "text": [
            "\r  6%|▋         | 1/16 [00:02<00:40,  2.72s/it]"
          ]
        },
        {
          "output_type": "stream",
          "name": "stdout",
          "text": [
            "Register a hook to perform Random Maps Ablation on layer  layer1.1.conv2 Conv2d(64, 64, kernel_size=(3, 3), stride=(1, 1), padding=(1, 1), bias=False)\n",
            "Register a hook to perform Random Maps Ablation on layer  layer2.1.conv2 Conv2d(128, 128, kernel_size=(3, 3), stride=(1, 1), padding=(1, 1), bias=False)\n",
            "mask_out_ratio:  0.5\n",
            "random_mask sum():  tensor(12833341., device='cuda:0')\n",
            "mask_out_ratio:  0.5\n",
            "random_mask sum():  tensor(6414755., device='cuda:0')\n",
            "Remove the hook used to perform Activation Shaping on layer  layer1.1.conv2\n",
            "Remove the hook used to perform Activation Shaping on layer  layer2.1.conv2\n"
          ]
        },
        {
          "output_type": "stream",
          "name": "stderr",
          "text": [
            "\r 12%|█▎        | 2/16 [00:03<00:18,  1.31s/it]"
          ]
        },
        {
          "output_type": "stream",
          "name": "stdout",
          "text": [
            "Register a hook to perform Random Maps Ablation on layer  layer1.1.conv2 Conv2d(64, 64, kernel_size=(3, 3), stride=(1, 1), padding=(1, 1), bias=False)\n",
            "Register a hook to perform Random Maps Ablation on layer  layer2.1.conv2 Conv2d(128, 128, kernel_size=(3, 3), stride=(1, 1), padding=(1, 1), bias=False)\n",
            "mask_out_ratio:  0.5\n",
            "random_mask sum():  tensor(12832640., device='cuda:0')\n",
            "mask_out_ratio:  0.5\n",
            "random_mask sum():  tensor(6418114., device='cuda:0')\n",
            "Remove the hook used to perform Activation Shaping on layer  layer1.1.conv2\n",
            "Remove the hook used to perform Activation Shaping on layer  layer2.1.conv2\n"
          ]
        },
        {
          "output_type": "stream",
          "name": "stderr",
          "text": [
            "\r 19%|█▉        | 3/16 [00:03<00:10,  1.22it/s]"
          ]
        },
        {
          "output_type": "stream",
          "name": "stdout",
          "text": [
            "Register a hook to perform Random Maps Ablation on layer  layer1.1.conv2 Conv2d(64, 64, kernel_size=(3, 3), stride=(1, 1), padding=(1, 1), bias=False)\n",
            "Register a hook to perform Random Maps Ablation on layer  layer2.1.conv2 Conv2d(128, 128, kernel_size=(3, 3), stride=(1, 1), padding=(1, 1), bias=False)\n",
            "mask_out_ratio:  0.5\n",
            "random_mask sum():  tensor(12833402., device='cuda:0')\n",
            "mask_out_ratio:  0.5\n",
            "random_mask sum():  tensor(6418401., device='cuda:0')\n",
            "Remove the hook used to perform Activation Shaping on layer  layer1.1.conv2\n",
            "Remove the hook used to perform Activation Shaping on layer  layer2.1.conv2\n"
          ]
        },
        {
          "output_type": "stream",
          "name": "stderr",
          "text": [
            "\r 25%|██▌       | 4/16 [00:03<00:07,  1.69it/s]"
          ]
        },
        {
          "output_type": "stream",
          "name": "stdout",
          "text": [
            "Register a hook to perform Random Maps Ablation on layer  layer1.1.conv2 Conv2d(64, 64, kernel_size=(3, 3), stride=(1, 1), padding=(1, 1), bias=False)\n",
            "Register a hook to perform Random Maps Ablation on layer  layer2.1.conv2 Conv2d(128, 128, kernel_size=(3, 3), stride=(1, 1), padding=(1, 1), bias=False)\n",
            "mask_out_ratio:  0.5\n",
            "random_mask sum():  tensor(12836133., device='cuda:0')\n",
            "mask_out_ratio:  0.5\n",
            "random_mask sum():  tensor(6414857., device='cuda:0')\n",
            "Remove the hook used to perform Activation Shaping on layer  layer1.1.conv2\n",
            "Remove the hook used to perform Activation Shaping on layer  layer2.1.conv2\n"
          ]
        },
        {
          "output_type": "stream",
          "name": "stderr",
          "text": [
            "\r 31%|███▏      | 5/16 [00:03<00:05,  2.15it/s]"
          ]
        },
        {
          "output_type": "stream",
          "name": "stdout",
          "text": [
            "Register a hook to perform Random Maps Ablation on layer  layer1.1.conv2 Conv2d(64, 64, kernel_size=(3, 3), stride=(1, 1), padding=(1, 1), bias=False)\n",
            "Register a hook to perform Random Maps Ablation on layer  layer2.1.conv2 Conv2d(128, 128, kernel_size=(3, 3), stride=(1, 1), padding=(1, 1), bias=False)\n",
            "mask_out_ratio:  0.5\n",
            "random_mask sum():  tensor(12831526., device='cuda:0')\n",
            "mask_out_ratio:  0.5\n",
            "random_mask sum():  tensor(6414388., device='cuda:0')\n",
            "Remove the hook used to perform Activation Shaping on layer  layer1.1.conv2\n",
            "Remove the hook used to perform Activation Shaping on layer  layer2.1.conv2\n"
          ]
        },
        {
          "output_type": "stream",
          "name": "stderr",
          "text": [
            " 44%|████▍     | 7/16 [00:06<00:08,  1.07it/s]"
          ]
        },
        {
          "output_type": "stream",
          "name": "stdout",
          "text": [
            "Register a hook to perform Random Maps Ablation on layer  layer1.1.conv2 Conv2d(64, 64, kernel_size=(3, 3), stride=(1, 1), padding=(1, 1), bias=False)\n",
            "Register a hook to perform Random Maps Ablation on layer  layer2.1.conv2 Conv2d(128, 128, kernel_size=(3, 3), stride=(1, 1), padding=(1, 1), bias=False)\n",
            "mask_out_ratio:  0.5\n",
            "random_mask sum():  tensor(12833040., device='cuda:0')\n",
            "mask_out_ratio:  0.5\n",
            "random_mask sum():  tensor(6412829., device='cuda:0')\n",
            "Remove the hook used to perform Activation Shaping on layer  layer1.1.conv2\n",
            "Remove the hook used to perform Activation Shaping on layer  layer2.1.conv2\n"
          ]
        },
        {
          "output_type": "stream",
          "name": "stderr",
          "text": [
            "\r 50%|█████     | 8/16 [00:06<00:05,  1.42it/s]"
          ]
        },
        {
          "output_type": "stream",
          "name": "stdout",
          "text": [
            "Register a hook to perform Random Maps Ablation on layer  layer1.1.conv2 Conv2d(64, 64, kernel_size=(3, 3), stride=(1, 1), padding=(1, 1), bias=False)\n",
            "Register a hook to perform Random Maps Ablation on layer  layer2.1.conv2 Conv2d(128, 128, kernel_size=(3, 3), stride=(1, 1), padding=(1, 1), bias=False)\n",
            "mask_out_ratio:  0.5\n",
            "random_mask sum():  tensor(12828214., device='cuda:0')\n",
            "mask_out_ratio:  0.5\n",
            "random_mask sum():  tensor(6415208., device='cuda:0')\n",
            "Remove the hook used to perform Activation Shaping on layer  layer1.1.conv2\n",
            "Remove the hook used to perform Activation Shaping on layer  layer2.1.conv2\n",
            "Register a hook to perform Random Maps Ablation on layer  layer1.1.conv2 Conv2d(64, 64, kernel_size=(3, 3), stride=(1, 1), padding=(1, 1), bias=False)\n",
            "Register a hook to perform Random Maps Ablation on layer  layer2.1.conv2 Conv2d(128, 128, kernel_size=(3, 3), stride=(1, 1), padding=(1, 1), bias=False)\n",
            "mask_out_ratio:  0.5\n",
            "random_mask sum():  tensor(12836897., device='cuda:0')\n",
            "mask_out_ratio:  0.5\n",
            "random_mask sum():  tensor(6417305., device='cuda:0')\n",
            "Remove the hook used to perform Activation Shaping on layer  layer1.1.conv2\n",
            "Remove the hook used to perform Activation Shaping on layer  layer2.1.conv2\n"
          ]
        },
        {
          "output_type": "stream",
          "name": "stderr",
          "text": [
            " 62%|██████▎   | 10/16 [00:07<00:02,  2.23it/s]"
          ]
        },
        {
          "output_type": "stream",
          "name": "stdout",
          "text": [
            "Register a hook to perform Random Maps Ablation on layer  layer1.1.conv2 Conv2d(64, 64, kernel_size=(3, 3), stride=(1, 1), padding=(1, 1), bias=False)\n",
            "Register a hook to perform Random Maps Ablation on layer  layer2.1.conv2 Conv2d(128, 128, kernel_size=(3, 3), stride=(1, 1), padding=(1, 1), bias=False)\n",
            "mask_out_ratio:  0.5\n",
            "random_mask sum():  tensor(12830948., device='cuda:0')\n",
            "mask_out_ratio:  0.5\n",
            "random_mask sum():  tensor(6415882., device='cuda:0')\n",
            "Remove the hook used to perform Activation Shaping on layer  layer1.1.conv2\n",
            "Remove the hook used to perform Activation Shaping on layer  layer2.1.conv2\n"
          ]
        },
        {
          "output_type": "stream",
          "name": "stderr",
          "text": [
            "\r 69%|██████▉   | 11/16 [00:08<00:03,  1.40it/s]"
          ]
        },
        {
          "output_type": "stream",
          "name": "stdout",
          "text": [
            "Register a hook to perform Random Maps Ablation on layer  layer1.1.conv2 Conv2d(64, 64, kernel_size=(3, 3), stride=(1, 1), padding=(1, 1), bias=False)\n",
            "Register a hook to perform Random Maps Ablation on layer  layer2.1.conv2 Conv2d(128, 128, kernel_size=(3, 3), stride=(1, 1), padding=(1, 1), bias=False)\n",
            "mask_out_ratio:  0.5\n",
            "random_mask sum():  tensor(12833507., device='cuda:0')\n",
            "mask_out_ratio:  0.5\n",
            "random_mask sum():  tensor(6416770., device='cuda:0')\n",
            "Remove the hook used to perform Activation Shaping on layer  layer1.1.conv2\n",
            "Remove the hook used to perform Activation Shaping on layer  layer2.1.conv2\n",
            "Register a hook to perform Random Maps Ablation on layer  layer1.1.conv2 Conv2d(64, 64, kernel_size=(3, 3), stride=(1, 1), padding=(1, 1), bias=False)\n",
            "Register a hook to perform Random Maps Ablation on layer  layer2.1.conv2 Conv2d(128, 128, kernel_size=(3, 3), stride=(1, 1), padding=(1, 1), bias=False)\n",
            "mask_out_ratio:  0.5\n",
            "random_mask sum():  "
          ]
        },
        {
          "output_type": "stream",
          "name": "stderr",
          "text": [
            "\r 75%|███████▌  | 12/16 [00:08<00:02,  1.81it/s]"
          ]
        },
        {
          "output_type": "stream",
          "name": "stdout",
          "text": [
            "tensor(12834630., device='cuda:0')\n",
            "mask_out_ratio:  0.5\n",
            "random_mask sum():  tensor(6416368., device='cuda:0')\n",
            "Remove the hook used to perform Activation Shaping on layer  layer1.1.conv2\n",
            "Remove the hook used to perform Activation Shaping on layer  layer2.1.conv2\n",
            "Register a hook to perform Random Maps Ablation on layer  layer1.1.conv2 Conv2d(64, 64, kernel_size=(3, 3), stride=(1, 1), padding=(1, 1), bias=False)\n",
            "Register a hook to perform Random Maps Ablation on layer  layer2.1.conv2 Conv2d(128, 128, kernel_size=(3, 3), stride=(1, 1), padding=(1, 1), bias=False)\n",
            "mask_out_ratio:  0.5\n",
            "random_mask sum():  tensor(12835388., device='cuda:0')\n",
            "mask_out_ratio:  0.5\n",
            "random_mask sum():  tensor(6414526., device='cuda:0')\n"
          ]
        },
        {
          "output_type": "stream",
          "name": "stderr",
          "text": [
            "\r 81%|████████▏ | 13/16 [00:09<00:01,  2.27it/s]"
          ]
        },
        {
          "output_type": "stream",
          "name": "stdout",
          "text": [
            "Remove the hook used to perform Activation Shaping on layer  layer1.1.conv2\n",
            "Remove the hook used to perform Activation Shaping on layer  layer2.1.conv2\n",
            "Register a hook to perform Random Maps Ablation on layer  layer1.1.conv2 Conv2d(64, 64, kernel_size=(3, 3), stride=(1, 1), padding=(1, 1), bias=False)\n",
            "Register a hook to perform Random Maps Ablation on layer  layer2.1.conv2 Conv2d(128, 128, kernel_size=(3, 3), stride=(1, 1), padding=(1, 1), bias=False)\n",
            "mask_out_ratio:  0.5\n",
            "random_mask sum():  tensor(12832731., device='cuda:0')\n",
            "mask_out_ratio:  0.5\n",
            "random_mask sum():  tensor(6420808., device='cuda:0')\n",
            "Remove the hook used to perform Activation Shaping on layer  layer1.1.conv2\n",
            "Remove the hook used to perform Activation Shaping on layer  layer2.1.conv2\n"
          ]
        },
        {
          "output_type": "stream",
          "name": "stderr",
          "text": [
            " 94%|█████████▍| 15/16 [00:09<00:00,  3.20it/s]"
          ]
        },
        {
          "output_type": "stream",
          "name": "stdout",
          "text": [
            "Register a hook to perform Random Maps Ablation on layer  layer1.1.conv2 Conv2d(64, 64, kernel_size=(3, 3), stride=(1, 1), padding=(1, 1), bias=False)\n",
            "Register a hook to perform Random Maps Ablation on layer  layer2.1.conv2 Conv2d(128, 128, kernel_size=(3, 3), stride=(1, 1), padding=(1, 1), bias=False)\n",
            "mask_out_ratio:  0.5\n",
            "random_mask sum():  tensor(12831506., device='cuda:0')\n",
            "mask_out_ratio:  0.5\n",
            "random_mask sum():  tensor(6420881., device='cuda:0')\n",
            "Remove the hook used to perform Activation Shaping on layer  layer1.1.conv2\n",
            "Remove the hook used to perform Activation Shaping on layer  layer2.1.conv2\n",
            "Register a hook to perform Random Maps Ablation on layer  layer1.1.conv2 Conv2d(64, 64, kernel_size=(3, 3), stride=(1, 1), padding=(1, 1), bias=False)\n",
            "Register a hook to perform Random Maps Ablation on layer  layer2.1.conv2 Conv2d(128, 128, kernel_size=(3, 3), stride=(1, 1), padding=(1, 1), bias=False)\n",
            "mask_out_ratio:  0.5\n",
            "random_mask sum():  "
          ]
        },
        {
          "output_type": "stream",
          "name": "stderr",
          "text": [
            "100%|██████████| 16/16 [00:09<00:00,  1.66it/s]\n"
          ]
        },
        {
          "output_type": "stream",
          "name": "stdout",
          "text": [
            "tensor(12826866., device='cuda:0')\n",
            "mask_out_ratio:  0.5\n",
            "random_mask sum():  tensor(6416126., device='cuda:0')\n",
            "Remove the hook used to perform Activation Shaping on layer  layer1.1.conv2\n",
            "Remove the hook used to perform Activation Shaping on layer  layer2.1.conv2\n"
          ]
        },
        {
          "output_type": "stream",
          "name": "stderr",
          "text": [
            "100%|██████████| 31/31 [00:11<00:00,  2.80it/s]\n"
          ]
        },
        {
          "output_type": "stream",
          "name": "stdout",
          "text": [
            "Accuracy: 45.99 - Loss: 0.012511710518035733 \n",
            "\n"
          ]
        },
        {
          "output_type": "stream",
          "name": "stderr",
          "text": [
            "\r  0%|          | 0/16 [00:00<?, ?it/s]"
          ]
        },
        {
          "output_type": "stream",
          "name": "stdout",
          "text": [
            "Register a hook to perform Random Maps Ablation on layer  layer1.1.conv2 Conv2d(64, 64, kernel_size=(3, 3), stride=(1, 1), padding=(1, 1), bias=False)\n",
            "Register a hook to perform Random Maps Ablation on layer  layer2.1.conv2 Conv2d(128, 128, kernel_size=(3, 3), stride=(1, 1), padding=(1, 1), bias=False)\n",
            "mask_out_ratio:  0.5\n",
            "random_mask sum():  tensor(12831798., device='cuda:0')\n",
            "mask_out_ratio:  0.5\n",
            "random_mask sum():  tensor(6414983., device='cuda:0')\n",
            "Remove the hook used to perform Activation Shaping on layer  layer1.1.conv2\n",
            "Remove the hook used to perform Activation Shaping on layer  layer2.1.conv2\n"
          ]
        },
        {
          "output_type": "stream",
          "name": "stderr",
          "text": [
            " 12%|█▎        | 2/16 [00:02<00:16,  1.19s/it]"
          ]
        },
        {
          "output_type": "stream",
          "name": "stdout",
          "text": [
            "Register a hook to perform Random Maps Ablation on layer  layer1.1.conv2 Conv2d(64, 64, kernel_size=(3, 3), stride=(1, 1), padding=(1, 1), bias=False)\n",
            "Register a hook to perform Random Maps Ablation on layer  layer2.1.conv2 Conv2d(128, 128, kernel_size=(3, 3), stride=(1, 1), padding=(1, 1), bias=False)\n",
            "mask_out_ratio:  0.5\n",
            "random_mask sum():  tensor(12831049., device='cuda:0')\n",
            "mask_out_ratio:  0.5\n",
            "random_mask sum():  tensor(6415373., device='cuda:0')\n",
            "Remove the hook used to perform Activation Shaping on layer  layer1.1.conv2\n",
            "Remove the hook used to perform Activation Shaping on layer  layer2.1.conv2\n"
          ]
        },
        {
          "output_type": "stream",
          "name": "stderr",
          "text": [
            "\r 19%|█▉        | 3/16 [00:02<00:09,  1.35it/s]"
          ]
        },
        {
          "output_type": "stream",
          "name": "stdout",
          "text": [
            "Register a hook to perform Random Maps Ablation on layer  layer1.1.conv2 Conv2d(64, 64, kernel_size=(3, 3), stride=(1, 1), padding=(1, 1), bias=False)\n",
            "Register a hook to perform Random Maps Ablation on layer  layer2.1.conv2 Conv2d(128, 128, kernel_size=(3, 3), stride=(1, 1), padding=(1, 1), bias=False)\n",
            "mask_out_ratio:  0.5\n",
            "random_mask sum():  tensor(12828861., device='cuda:0')\n",
            "mask_out_ratio:  0.5\n",
            "random_mask sum():  tensor(6415944., device='cuda:0')\n",
            "Remove the hook used to perform Activation Shaping on layer  layer1.1.conv2\n",
            "Remove the hook used to perform Activation Shaping on layer  layer2.1.conv2\n"
          ]
        },
        {
          "output_type": "stream",
          "name": "stderr",
          "text": [
            "\r 25%|██▌       | 4/16 [00:03<00:06,  1.89it/s]"
          ]
        },
        {
          "output_type": "stream",
          "name": "stdout",
          "text": [
            "Register a hook to perform Random Maps Ablation on layer  layer1.1.conv2 Conv2d(64, 64, kernel_size=(3, 3), stride=(1, 1), padding=(1, 1), bias=False)\n",
            "Register a hook to perform Random Maps Ablation on layer  layer2.1.conv2 Conv2d(128, 128, kernel_size=(3, 3), stride=(1, 1), padding=(1, 1), bias=False)\n",
            "mask_out_ratio:  0.5\n",
            "random_mask sum():  tensor(12832167., device='cuda:0')\n",
            "mask_out_ratio:  0.5\n",
            "random_mask sum():  tensor(6414969., device='cuda:0')\n",
            "Remove the hook used to perform Activation Shaping on layer  layer1.1.conv2\n",
            "Remove the hook used to perform Activation Shaping on layer  layer2.1.conv2\n"
          ]
        },
        {
          "output_type": "stream",
          "name": "stderr",
          "text": [
            "\r 31%|███▏      | 5/16 [00:03<00:04,  2.41it/s]"
          ]
        },
        {
          "output_type": "stream",
          "name": "stdout",
          "text": [
            "Register a hook to perform Random Maps Ablation on layer  layer1.1.conv2 Conv2d(64, 64, kernel_size=(3, 3), stride=(1, 1), padding=(1, 1), bias=False)\n",
            "Register a hook to perform Random Maps Ablation on layer  layer2.1.conv2 Conv2d(128, 128, kernel_size=(3, 3), stride=(1, 1), padding=(1, 1), bias=False)\n",
            "mask_out_ratio:  0.5\n",
            "random_mask sum():  tensor(12830486., device='cuda:0')\n",
            "mask_out_ratio:  0.5\n",
            "random_mask sum():  tensor(6415220., device='cuda:0')\n",
            "Remove the hook used to perform Activation Shaping on layer  layer1.1.conv2\n",
            "Remove the hook used to perform Activation Shaping on layer  layer2.1.conv2\n",
            "Register a hook to perform Random Maps Ablation on layer  layer1.1.conv2 Conv2d(64, 64, kernel_size=(3, 3), stride=(1, 1), padding=(1, 1), bias=False)\n",
            "Register a hook to perform Random Maps Ablation on layer  layer2.1.conv2 Conv2d(128, 128, kernel_size=(3, 3), stride=(1, 1), padding=(1, 1), bias=False)\n",
            "mask_out_ratio:  0.5\n",
            "random_mask sum():  tensor(12831293., device='cuda:0')\n",
            "mask_out_ratio:  0.5\n",
            "random_mask sum():  tensor(6414600., device='cuda:0')\n",
            "Remove the hook used to perform Activation Shaping on layer  layer1.1.conv2\n",
            "Remove the hook used to perform Activation Shaping on layer  layer2.1.conv2\n"
          ]
        },
        {
          "output_type": "stream",
          "name": "stderr",
          "text": [
            "\r 38%|███▊      | 6/16 [00:05<00:08,  1.20it/s]"
          ]
        },
        {
          "output_type": "stream",
          "name": "stdout",
          "text": [
            "Register a hook to perform Random Maps Ablation on layer  layer1.1.conv2 Conv2d(64, 64, kernel_size=(3, 3), stride=(1, 1), padding=(1, 1), bias=False)\n",
            "Register a hook to perform Random Maps Ablation on layer  layer2.1.conv2 Conv2d(128, 128, kernel_size=(3, 3), stride=(1, 1), padding=(1, 1), bias=False)\n",
            "mask_out_ratio:  0.5\n",
            "random_mask sum():  tensor(12833540., device='cuda:0')\n",
            "mask_out_ratio:  0.5\n",
            "random_mask sum():  tensor(6414172., device='cuda:0')\n",
            "Remove the hook used to perform Activation Shaping on layer  layer1.1.conv2\n",
            "Remove the hook used to perform Activation Shaping on layer  layer2.1.conv2\n"
          ]
        },
        {
          "output_type": "stream",
          "name": "stderr",
          "text": [
            "\r 44%|████▍     | 7/16 [00:05<00:05,  1.55it/s]"
          ]
        },
        {
          "output_type": "stream",
          "name": "stdout",
          "text": [
            "Register a hook to perform Random Maps Ablation on layer  layer1.1.conv2 Conv2d(64, 64, kernel_size=(3, 3), stride=(1, 1), padding=(1, 1), bias=False)\n",
            "Register a hook to perform Random Maps Ablation on layer  layer2.1.conv2 Conv2d(128, 128, kernel_size=(3, 3), stride=(1, 1), padding=(1, 1), bias=False)\n",
            "mask_out_ratio:  0.5\n",
            "random_mask sum():  tensor(12831934., device='cuda:0')\n",
            "mask_out_ratio:  0.5\n",
            "random_mask sum():  tensor(6416376., device='cuda:0')\n",
            "Remove the hook used to perform Activation Shaping on layer  layer1.1.conv2\n",
            "Remove the hook used to perform Activation Shaping on layer  layer2.1.conv2\n"
          ]
        },
        {
          "output_type": "stream",
          "name": "stderr",
          "text": [
            "\r 50%|█████     | 8/16 [00:05<00:04,  1.94it/s]"
          ]
        },
        {
          "output_type": "stream",
          "name": "stdout",
          "text": [
            "Register a hook to perform Random Maps Ablation on layer  layer1.1.conv2 Conv2d(64, 64, kernel_size=(3, 3), stride=(1, 1), padding=(1, 1), bias=False)\n",
            "Register a hook to perform Random Maps Ablation on layer  layer2.1.conv2 Conv2d(128, 128, kernel_size=(3, 3), stride=(1, 1), padding=(1, 1), bias=False)\n",
            "mask_out_ratio:  0.5\n",
            "random_mask sum():  tensor(12831927., device='cuda:0')\n",
            "mask_out_ratio:  0.5\n",
            "random_mask sum():  tensor(6414434., device='cuda:0')\n",
            "Remove the hook used to perform Activation Shaping on layer  layer1.1.conv2\n",
            "Remove the hook used to perform Activation Shaping on layer  layer2.1.conv2\n"
          ]
        },
        {
          "output_type": "stream",
          "name": "stderr",
          "text": [
            " 62%|██████▎   | 10/16 [00:06<00:02,  2.72it/s]"
          ]
        },
        {
          "output_type": "stream",
          "name": "stdout",
          "text": [
            "Register a hook to perform Random Maps Ablation on layer  layer1.1.conv2 Conv2d(64, 64, kernel_size=(3, 3), stride=(1, 1), padding=(1, 1), bias=False)\n",
            "Register a hook to perform Random Maps Ablation on layer  layer2.1.conv2 Conv2d(128, 128, kernel_size=(3, 3), stride=(1, 1), padding=(1, 1), bias=False)\n",
            "mask_out_ratio:  0.5\n",
            "random_mask sum():  tensor(12834218., device='cuda:0')\n",
            "mask_out_ratio:  0.5\n",
            "random_mask sum():  tensor(6412173., device='cuda:0')\n",
            "Remove the hook used to perform Activation Shaping on layer  layer1.1.conv2\n",
            "Remove the hook used to perform Activation Shaping on layer  layer2.1.conv2\n"
          ]
        },
        {
          "output_type": "stream",
          "name": "stderr",
          "text": [
            "\r 69%|██████▉   | 11/16 [00:07<00:04,  1.22it/s]"
          ]
        },
        {
          "output_type": "stream",
          "name": "stdout",
          "text": [
            "Register a hook to perform Random Maps Ablation on layer  layer1.1.conv2 Conv2d(64, 64, kernel_size=(3, 3), stride=(1, 1), padding=(1, 1), bias=False)\n",
            "Register a hook to perform Random Maps Ablation on layer  layer2.1.conv2 Conv2d(128, 128, kernel_size=(3, 3), stride=(1, 1), padding=(1, 1), bias=False)\n",
            "mask_out_ratio:  0.5\n",
            "random_mask sum():  tensor(12831526., device='cuda:0')\n",
            "mask_out_ratio:  0.5\n",
            "random_mask sum():  tensor(6414841., device='cuda:0')\n",
            "Remove the hook used to perform Activation Shaping on layer  layer1.1.conv2\n",
            "Remove the hook used to perform Activation Shaping on layer  layer2.1.conv2\n",
            "Register a hook to perform Random Maps Ablation on layer  layer1.1.conv2 Conv2d(64, 64, kernel_size=(3, 3), stride=(1, 1), padding=(1, 1), bias=False)\n",
            "Register a hook to perform Random Maps Ablation on layer  layer2.1.conv2 Conv2d(128, 128, kernel_size=(3, 3), stride=(1, 1), padding=(1, 1), bias=False)\n",
            "mask_out_ratio:  0.5\n",
            "random_mask sum():  "
          ]
        },
        {
          "output_type": "stream",
          "name": "stderr",
          "text": [
            "\r 75%|███████▌  | 12/16 [00:08<00:02,  1.59it/s]"
          ]
        },
        {
          "output_type": "stream",
          "name": "stdout",
          "text": [
            "tensor(12834312., device='cuda:0')\n",
            "mask_out_ratio:  0.5\n",
            "random_mask sum():  tensor(6416299., device='cuda:0')\n",
            "Remove the hook used to perform Activation Shaping on layer  layer1.1.conv2\n",
            "Remove the hook used to perform Activation Shaping on layer  layer2.1.conv2\n",
            "Register a hook to perform Random Maps Ablation on layer  layer1.1.conv2 Conv2d(64, 64, kernel_size=(3, 3), stride=(1, 1), padding=(1, 1), bias=False)\n",
            "Register a hook to perform Random Maps Ablation on layer  layer2.1.conv2 Conv2d(128, 128, kernel_size=(3, 3), stride=(1, 1), padding=(1, 1), bias=False)\n",
            "mask_out_ratio:  0.5\n",
            "random_mask sum():  tensor(12830270., device='cuda:0')\n",
            "mask_out_ratio:  0.5\n",
            "random_mask sum():  "
          ]
        },
        {
          "output_type": "stream",
          "name": "stderr",
          "text": [
            "\r 81%|████████▏ | 13/16 [00:08<00:01,  2.02it/s]"
          ]
        },
        {
          "output_type": "stream",
          "name": "stdout",
          "text": [
            "tensor(6415576., device='cuda:0')\n",
            "Remove the hook used to perform Activation Shaping on layer  layer1.1.conv2\n",
            "Remove the hook used to perform Activation Shaping on layer  layer2.1.conv2\n",
            "Register a hook to perform Random Maps Ablation on layer  layer1.1.conv2 Conv2d(64, 64, kernel_size=(3, 3), stride=(1, 1), padding=(1, 1), bias=False)\n",
            "Register a hook to perform Random Maps Ablation on layer  layer2.1.conv2 Conv2d(128, 128, kernel_size=(3, 3), stride=(1, 1), padding=(1, 1), bias=False)\n",
            "mask_out_ratio:  0.5\n",
            "random_mask sum():  tensor(12833551., device='cuda:0')\n",
            "mask_out_ratio:  0.5\n",
            "random_mask sum():  tensor(6415910., device='cuda:0')\n",
            "Remove the hook used to perform Activation Shaping on layer  layer1.1.conv2\n",
            "Remove the hook used to perform Activation Shaping on layer  layer2.1.conv2\n"
          ]
        },
        {
          "output_type": "stream",
          "name": "stderr",
          "text": [
            " 94%|█████████▍| 15/16 [00:08<00:00,  2.93it/s]"
          ]
        },
        {
          "output_type": "stream",
          "name": "stdout",
          "text": [
            "Register a hook to perform Random Maps Ablation on layer  layer1.1.conv2 Conv2d(64, 64, kernel_size=(3, 3), stride=(1, 1), padding=(1, 1), bias=False)\n",
            "Register a hook to perform Random Maps Ablation on layer  layer2.1.conv2 Conv2d(128, 128, kernel_size=(3, 3), stride=(1, 1), padding=(1, 1), bias=False)\n",
            "mask_out_ratio:  0.5\n",
            "random_mask sum():  tensor(12833058., device='cuda:0')\n",
            "mask_out_ratio:  0.5\n",
            "random_mask sum():  tensor(6415582., device='cuda:0')\n",
            "Remove the hook used to perform Activation Shaping on layer  layer1.1.conv2\n",
            "Remove the hook used to perform Activation Shaping on layer  layer2.1.conv2\n"
          ]
        },
        {
          "output_type": "stream",
          "name": "stderr",
          "text": [
            "100%|██████████| 16/16 [00:08<00:00,  1.80it/s]\n"
          ]
        },
        {
          "output_type": "stream",
          "name": "stdout",
          "text": [
            "Register a hook to perform Random Maps Ablation on layer  layer1.1.conv2 Conv2d(64, 64, kernel_size=(3, 3), stride=(1, 1), padding=(1, 1), bias=False)\n",
            "Register a hook to perform Random Maps Ablation on layer  layer2.1.conv2 Conv2d(128, 128, kernel_size=(3, 3), stride=(1, 1), padding=(1, 1), bias=False)\n",
            "mask_out_ratio:  0.5\n",
            "random_mask sum():  tensor(12832778., device='cuda:0')\n",
            "mask_out_ratio:  0.5\n",
            "random_mask sum():  tensor(6415711., device='cuda:0')\n",
            "Remove the hook used to perform Activation Shaping on layer  layer1.1.conv2\n",
            "Remove the hook used to perform Activation Shaping on layer  layer2.1.conv2\n"
          ]
        },
        {
          "output_type": "stream",
          "name": "stderr",
          "text": [
            "100%|██████████| 31/31 [00:10<00:00,  2.85it/s]\n"
          ]
        },
        {
          "output_type": "stream",
          "name": "stdout",
          "text": [
            "Accuracy: 44.44 - Loss: 0.012464328102253569 \n",
            "\n"
          ]
        },
        {
          "output_type": "stream",
          "name": "stderr",
          "text": [
            "\r  0%|          | 0/16 [00:00<?, ?it/s]"
          ]
        },
        {
          "output_type": "stream",
          "name": "stdout",
          "text": [
            "Register a hook to perform Random Maps Ablation on layer  layer1.1.conv2 Conv2d(64, 64, kernel_size=(3, 3), stride=(1, 1), padding=(1, 1), bias=False)\n",
            "Register a hook to perform Random Maps Ablation on layer  layer2.1.conv2 Conv2d(128, 128, kernel_size=(3, 3), stride=(1, 1), padding=(1, 1), bias=False)\n",
            "mask_out_ratio:  0.5\n",
            "random_mask sum():  tensor(12831434., device='cuda:0')\n",
            "mask_out_ratio:  0.5\n",
            "random_mask sum():  tensor(6413830., device='cuda:0')\n",
            "Remove the hook used to perform Activation Shaping on layer  layer1.1.conv2\n",
            "Remove the hook used to perform Activation Shaping on layer  layer2.1.conv2\n"
          ]
        },
        {
          "output_type": "stream",
          "name": "stderr",
          "text": [
            "\r  6%|▋         | 1/16 [00:02<00:42,  2.84s/it]"
          ]
        },
        {
          "output_type": "stream",
          "name": "stdout",
          "text": [
            "Register a hook to perform Random Maps Ablation on layer  layer1.1.conv2 Conv2d(64, 64, kernel_size=(3, 3), stride=(1, 1), padding=(1, 1), bias=False)\n",
            "Register a hook to perform Random Maps Ablation on layer  layer2.1.conv2 Conv2d(128, 128, kernel_size=(3, 3), stride=(1, 1), padding=(1, 1), bias=False)\n",
            "mask_out_ratio:  0.5\n",
            "random_mask sum():  tensor(12831900., device='cuda:0')\n",
            "mask_out_ratio:  0.5\n",
            "random_mask sum():  tensor(6419476., device='cuda:0')\n",
            "Remove the hook used to perform Activation Shaping on layer  layer1.1.conv2\n",
            "Remove the hook used to perform Activation Shaping on layer  layer2.1.conv2\n"
          ]
        },
        {
          "output_type": "stream",
          "name": "stderr",
          "text": [
            "\r 12%|█▎        | 2/16 [00:03<00:23,  1.71s/it]"
          ]
        },
        {
          "output_type": "stream",
          "name": "stdout",
          "text": [
            "Register a hook to perform Random Maps Ablation on layer  layer1.1.conv2 Conv2d(64, 64, kernel_size=(3, 3), stride=(1, 1), padding=(1, 1), bias=False)\n",
            "Register a hook to perform Random Maps Ablation on layer  layer2.1.conv2 Conv2d(128, 128, kernel_size=(3, 3), stride=(1, 1), padding=(1, 1), bias=False)\n",
            "mask_out_ratio:  0.5\n",
            "random_mask sum():  tensor(12832220., device='cuda:0')\n",
            "mask_out_ratio:  0.5\n",
            "random_mask sum():  tensor(6414748., device='cuda:0')\n",
            "Remove the hook used to perform Activation Shaping on layer  layer1.1.conv2\n",
            "Remove the hook used to perform Activation Shaping on layer  layer2.1.conv2\n"
          ]
        },
        {
          "output_type": "stream",
          "name": "stderr",
          "text": [
            " 25%|██▌       | 4/16 [00:04<00:08,  1.40it/s]"
          ]
        },
        {
          "output_type": "stream",
          "name": "stdout",
          "text": [
            "Register a hook to perform Random Maps Ablation on layer  layer1.1.conv2 Conv2d(64, 64, kernel_size=(3, 3), stride=(1, 1), padding=(1, 1), bias=False)\n",
            "Register a hook to perform Random Maps Ablation on layer  layer2.1.conv2 Conv2d(128, 128, kernel_size=(3, 3), stride=(1, 1), padding=(1, 1), bias=False)\n",
            "mask_out_ratio:  0.5\n",
            "random_mask sum():  tensor(12830731., device='cuda:0')\n",
            "mask_out_ratio:  0.5\n",
            "random_mask sum():  tensor(6414968., device='cuda:0')\n",
            "Remove the hook used to perform Activation Shaping on layer  layer1.1.conv2\n",
            "Remove the hook used to perform Activation Shaping on layer  layer2.1.conv2\n",
            "Register a hook to perform Random Maps Ablation on layer  layer1.1.conv2 Conv2d(64, 64, kernel_size=(3, 3), stride=(1, 1), padding=(1, 1), bias=False)"
          ]
        },
        {
          "output_type": "stream",
          "name": "stderr",
          "text": [
            "\r 31%|███▏      | 5/16 [00:04<00:05,  1.86it/s]"
          ]
        },
        {
          "output_type": "stream",
          "name": "stdout",
          "text": [
            "\n",
            "Register a hook to perform Random Maps Ablation on layer  layer2.1.conv2 Conv2d(128, 128, kernel_size=(3, 3), stride=(1, 1), padding=(1, 1), bias=False)\n",
            "mask_out_ratio:  0.5\n",
            "random_mask sum():  tensor(12833276., device='cuda:0')\n",
            "mask_out_ratio:  0.5\n",
            "random_mask sum():  tensor(6415805., device='cuda:0')\n",
            "Remove the hook used to perform Activation Shaping on layer  layer1.1.conv2\n",
            "Remove the hook used to perform Activation Shaping on layer  layer2.1.conv2\n"
          ]
        },
        {
          "output_type": "stream",
          "name": "stderr",
          "text": [
            "\r 38%|███▊      | 6/16 [00:05<00:08,  1.24it/s]"
          ]
        },
        {
          "output_type": "stream",
          "name": "stdout",
          "text": [
            "Register a hook to perform Random Maps Ablation on layer  layer1.1.conv2 Conv2d(64, 64, kernel_size=(3, 3), stride=(1, 1), padding=(1, 1), bias=False)\n",
            "Register a hook to perform Random Maps Ablation on layer  layer2.1.conv2 Conv2d(128, 128, kernel_size=(3, 3), stride=(1, 1), padding=(1, 1), bias=False)\n",
            "mask_out_ratio:  0.5\n",
            "random_mask sum():  tensor(12830360., device='cuda:0')\n",
            "mask_out_ratio:  0.5\n",
            "random_mask sum():  tensor(6416487., device='cuda:0')\n",
            "Remove the hook used to perform Activation Shaping on layer  layer1.1.conv2\n",
            "Remove the hook used to perform Activation Shaping on layer  layer2.1.conv2\n"
          ]
        },
        {
          "output_type": "stream",
          "name": "stderr",
          "text": [
            "\r 44%|████▍     | 7/16 [00:06<00:06,  1.33it/s]"
          ]
        },
        {
          "output_type": "stream",
          "name": "stdout",
          "text": [
            "Register a hook to perform Random Maps Ablation on layer  layer1.1.conv2 Conv2d(64, 64, kernel_size=(3, 3), stride=(1, 1), padding=(1, 1), bias=False)\n",
            "Register a hook to perform Random Maps Ablation on layer  layer2.1.conv2 Conv2d(128, 128, kernel_size=(3, 3), stride=(1, 1), padding=(1, 1), bias=False)\n",
            "mask_out_ratio:  0.5\n",
            "random_mask sum():  tensor(12830521., device='cuda:0')\n",
            "mask_out_ratio:  0.5\n",
            "random_mask sum():  tensor(6420451., device='cuda:0')\n",
            "Remove the hook used to perform Activation Shaping on layer  layer1.1.conv2\n",
            "Remove the hook used to perform Activation Shaping on layer  layer2.1.conv2\n"
          ]
        },
        {
          "output_type": "stream",
          "name": "stderr",
          "text": [
            "\r 50%|█████     | 8/16 [00:06<00:04,  1.71it/s]"
          ]
        },
        {
          "output_type": "stream",
          "name": "stdout",
          "text": [
            "Register a hook to perform Random Maps Ablation on layer  layer1.1.conv2 Conv2d(64, 64, kernel_size=(3, 3), stride=(1, 1), padding=(1, 1), bias=False)\n",
            "Register a hook to perform Random Maps Ablation on layer  layer2.1.conv2 Conv2d(128, 128, kernel_size=(3, 3), stride=(1, 1), padding=(1, 1), bias=False)\n",
            "mask_out_ratio:  0.5\n",
            "random_mask sum():  tensor(12833303., device='cuda:0')\n",
            "mask_out_ratio:  0.5\n",
            "random_mask sum():  tensor(6419200., device='cuda:0')\n",
            "Remove the hook used to perform Activation Shaping on layer  layer1.1.conv2\n",
            "Remove the hook used to perform Activation Shaping on layer  layer2.1.conv2\n"
          ]
        },
        {
          "output_type": "stream",
          "name": "stderr",
          "text": [
            "\r 56%|█████▋    | 9/16 [00:06<00:03,  2.16it/s]"
          ]
        },
        {
          "output_type": "stream",
          "name": "stdout",
          "text": [
            "Register a hook to perform Random Maps Ablation on layer  layer1.1.conv2 Conv2d(64, 64, kernel_size=(3, 3), stride=(1, 1), padding=(1, 1), bias=False)\n",
            "Register a hook to perform Random Maps Ablation on layer  layer2.1.conv2 Conv2d(128, 128, kernel_size=(3, 3), stride=(1, 1), padding=(1, 1), bias=False)\n",
            "mask_out_ratio:  0.5\n",
            "random_mask sum():  tensor(12831114., device='cuda:0')\n",
            "mask_out_ratio:  0.5\n",
            "random_mask sum():  tensor(6419973., device='cuda:0')\n",
            "Remove the hook used to perform Activation Shaping on layer  layer1.1.conv2\n",
            "Remove the hook used to perform Activation Shaping on layer  layer2.1.conv2\n",
            "Register a hook to perform Random Maps Ablation on layer  layer1.1.conv2 Conv2d(64, 64, kernel_size=(3, 3), stride=(1, 1), padding=(1, 1), bias=False)\n",
            "Register a hook to perform Random Maps Ablation on layer  layer2.1.conv2 Conv2d(128, 128, kernel_size=(3, 3), stride=(1, 1), padding=(1, 1), bias=False)\n"
          ]
        },
        {
          "output_type": "stream",
          "name": "stderr",
          "text": [
            "\r 62%|██████▎   | 10/16 [00:07<00:02,  2.56it/s]"
          ]
        },
        {
          "output_type": "stream",
          "name": "stdout",
          "text": [
            "mask_out_ratio:  0.5\n",
            "random_mask sum():  tensor(12830280., device='cuda:0')\n",
            "mask_out_ratio:  0.5\n",
            "random_mask sum():  tensor(6415795., device='cuda:0')\n",
            "Remove the hook used to perform Activation Shaping on layer  layer1.1.conv2\n",
            "Remove the hook used to perform Activation Shaping on layer  layer2.1.conv2\n"
          ]
        },
        {
          "output_type": "stream",
          "name": "stderr",
          "text": [
            "\r 69%|██████▉   | 11/16 [00:08<00:02,  1.75it/s]"
          ]
        },
        {
          "output_type": "stream",
          "name": "stdout",
          "text": [
            "Register a hook to perform Random Maps Ablation on layer  layer1.1.conv2 Conv2d(64, 64, kernel_size=(3, 3), stride=(1, 1), padding=(1, 1), bias=False)\n",
            "Register a hook to perform Random Maps Ablation on layer  layer2.1.conv2 Conv2d(128, 128, kernel_size=(3, 3), stride=(1, 1), padding=(1, 1), bias=False)\n",
            "mask_out_ratio:  0.5\n",
            "random_mask sum():  tensor(12828859., device='cuda:0')\n",
            "mask_out_ratio:  0.5\n",
            "random_mask sum():  tensor(6415947., device='cuda:0')\n",
            "Remove the hook used to perform Activation Shaping on layer  layer1.1.conv2\n",
            "Remove the hook used to perform Activation Shaping on layer  layer2.1.conv2\n"
          ]
        },
        {
          "output_type": "stream",
          "name": "stderr",
          "text": [
            "\r 75%|███████▌  | 12/16 [00:08<00:02,  1.72it/s]"
          ]
        },
        {
          "output_type": "stream",
          "name": "stdout",
          "text": [
            "Register a hook to perform Random Maps Ablation on layer  layer1.1.conv2 Conv2d(64, 64, kernel_size=(3, 3), stride=(1, 1), padding=(1, 1), bias=False)\n",
            "Register a hook to perform Random Maps Ablation on layer  layer2.1.conv2 Conv2d(128, 128, kernel_size=(3, 3), stride=(1, 1), padding=(1, 1), bias=False)\n",
            "mask_out_ratio:  0.5\n",
            "random_mask sum():  tensor(12830415., device='cuda:0')\n",
            "mask_out_ratio:  0.5\n",
            "random_mask sum():  tensor(6417421., device='cuda:0')\n",
            "Remove the hook used to perform Activation Shaping on layer  layer1.1.conv2\n",
            "Remove the hook used to perform Activation Shaping on layer  layer2.1.conv2\n",
            "Register a hook to perform Random Maps Ablation on layer  layer1.1.conv2 Conv2d(64, 64, kernel_size=(3, 3), stride=(1, 1), padding=(1, 1), bias=False)\n",
            "Register a hook to perform Random Maps Ablation on layer  layer2.1.conv2 Conv2d(128, 128, kernel_size=(3, 3), stride=(1, 1), padding=(1, 1), bias=False)\n",
            "mask_out_ratio:  0.5\n",
            "random_mask sum(): "
          ]
        },
        {
          "output_type": "stream",
          "name": "stderr",
          "text": [
            "\r 81%|████████▏ | 13/16 [00:08<00:01,  2.18it/s]"
          ]
        },
        {
          "output_type": "stream",
          "name": "stdout",
          "text": [
            " tensor(12836689., device='cuda:0')\n",
            "mask_out_ratio:  0.5\n",
            "random_mask sum():  tensor(6415222., device='cuda:0')\n",
            "Remove the hook used to perform Activation Shaping on layer  layer1.1.conv2\n",
            "Remove the hook used to perform Activation Shaping on layer  layer2.1.conv2\n",
            "Register a hook to perform Random Maps Ablation on layer  layer1.1.conv2 Conv2d(64, 64, kernel_size=(3, 3), stride=(1, 1), padding=(1, 1), bias=False)\n",
            "Register a hook to perform Random Maps Ablation on layer  layer2.1.conv2 Conv2d(128, 128, kernel_size=(3, 3), stride=(1, 1), padding=(1, 1), bias=False)\n",
            "mask_out_ratio:  0.5\n",
            "random_mask sum():  "
          ]
        },
        {
          "output_type": "stream",
          "name": "stderr",
          "text": [
            "\r 88%|████████▊ | 14/16 [00:09<00:00,  2.65it/s]"
          ]
        },
        {
          "output_type": "stream",
          "name": "stdout",
          "text": [
            "tensor(12829340., device='cuda:0')\n",
            "mask_out_ratio:  0.5\n",
            "random_mask sum():  tensor(6414459., device='cuda:0')\n",
            "Remove the hook used to perform Activation Shaping on layer  layer1.1.conv2\n",
            "Remove the hook used to perform Activation Shaping on layer  layer2.1.conv2\n",
            "Register a hook to perform Random Maps Ablation on layer  layer1.1.conv2 Conv2d(64, 64, kernel_size=(3, 3), stride=(1, 1), padding=(1, 1), bias=False)\n",
            "Register a hook to perform Random Maps Ablation on layer  layer2.1.conv2 Conv2d(128, 128, kernel_size=(3, 3), stride=(1, 1), padding=(1, 1), bias=False)\n",
            "mask_out_ratio:  0.5\n",
            "random_mask sum():  tensor(12839082., device='cuda:0')\n",
            "mask_out_ratio:  0.5\n",
            "random_mask sum():  tensor(6415541., device='cuda:0')\n"
          ]
        },
        {
          "output_type": "stream",
          "name": "stderr",
          "text": [
            "\r 94%|█████████▍| 15/16 [00:09<00:00,  3.15it/s]"
          ]
        },
        {
          "output_type": "stream",
          "name": "stdout",
          "text": [
            "Remove the hook used to perform Activation Shaping on layer  layer1.1.conv2\n",
            "Remove the hook used to perform Activation Shaping on layer  layer2.1.conv2\n",
            "Register a hook to perform Random Maps Ablation on layer  layer1.1.conv2 Conv2d(64, 64, kernel_size=(3, 3), stride=(1, 1), padding=(1, 1), bias=False)\n",
            "Register a hook to perform Random Maps Ablation on layer  layer2.1.conv2 Conv2d(128, 128, kernel_size=(3, 3), stride=(1, 1), padding=(1, 1), bias=False)\n",
            "mask_out_ratio:  0.5\n",
            "random_mask sum():  tensor(12832264., device='cuda:0')\n",
            "mask_out_ratio:  0.5\n",
            "random_mask sum():  tensor(6415724., device='cuda:0')\n",
            "Remove the hook used to perform Activation Shaping on layer  layer1.1.conv2\n",
            "Remove the hook used to perform Activation Shaping on layer  layer2.1.conv2\n"
          ]
        },
        {
          "output_type": "stream",
          "name": "stderr",
          "text": [
            "100%|██████████| 16/16 [00:09<00:00,  1.70it/s]\n",
            "100%|██████████| 31/31 [00:11<00:00,  2.73it/s]\n"
          ]
        },
        {
          "output_type": "stream",
          "name": "stdout",
          "text": [
            "Accuracy: 43.88 - Loss: 0.012942896920265087 \n",
            "\n"
          ]
        },
        {
          "output_type": "stream",
          "name": "stderr",
          "text": [
            "\r  0%|          | 0/16 [00:00<?, ?it/s]"
          ]
        },
        {
          "output_type": "stream",
          "name": "stdout",
          "text": [
            "Register a hook to perform Random Maps Ablation on layer  layer1.1.conv2 Conv2d(64, 64, kernel_size=(3, 3), stride=(1, 1), padding=(1, 1), bias=False)\n",
            "Register a hook to perform Random Maps Ablation on layer  layer2.1.conv2 Conv2d(128, 128, kernel_size=(3, 3), stride=(1, 1), padding=(1, 1), bias=False)\n",
            "mask_out_ratio:  0.5\n",
            "random_mask sum():  tensor(12829339., device='cuda:0')\n",
            "mask_out_ratio:  0.5\n",
            "random_mask sum():  tensor(6413870., device='cuda:0')\n",
            "Remove the hook used to perform Activation Shaping on layer  layer1.1.conv2\n",
            "Remove the hook used to perform Activation Shaping on layer  layer2.1.conv2\n"
          ]
        },
        {
          "output_type": "stream",
          "name": "stderr",
          "text": [
            " 12%|█▎        | 2/16 [00:02<00:19,  1.36s/it]"
          ]
        },
        {
          "output_type": "stream",
          "name": "stdout",
          "text": [
            "Register a hook to perform Random Maps Ablation on layer  layer1.1.conv2 Conv2d(64, 64, kernel_size=(3, 3), stride=(1, 1), padding=(1, 1), bias=False)\n",
            "Register a hook to perform Random Maps Ablation on layer  layer2.1.conv2 Conv2d(128, 128, kernel_size=(3, 3), stride=(1, 1), padding=(1, 1), bias=False)\n",
            "mask_out_ratio:  0.5\n",
            "random_mask sum():  tensor(12832475., device='cuda:0')\n",
            "mask_out_ratio:  0.5\n",
            "random_mask sum():  tensor(6416985., device='cuda:0')\n",
            "Remove the hook used to perform Activation Shaping on layer  layer1.1.conv2\n",
            "Remove the hook used to perform Activation Shaping on layer  layer2.1.conv2\n"
          ]
        },
        {
          "output_type": "stream",
          "name": "stderr",
          "text": [
            "\r 19%|█▉        | 3/16 [00:03<00:10,  1.20it/s]"
          ]
        },
        {
          "output_type": "stream",
          "name": "stdout",
          "text": [
            "Register a hook to perform Random Maps Ablation on layer  layer1.1.conv2 Conv2d(64, 64, kernel_size=(3, 3), stride=(1, 1), padding=(1, 1), bias=False)\n",
            "Register a hook to perform Random Maps Ablation on layer  layer2.1.conv2 Conv2d(128, 128, kernel_size=(3, 3), stride=(1, 1), padding=(1, 1), bias=False)\n",
            "mask_out_ratio:  0.5\n",
            "random_mask sum():  tensor(12830031., device='cuda:0')\n",
            "mask_out_ratio:  0.5\n",
            "random_mask sum():  tensor(6415919., device='cuda:0')\n",
            "Remove the hook used to perform Activation Shaping on layer  layer1.1.conv2\n",
            "Remove the hook used to perform Activation Shaping on layer  layer2.1.conv2\n"
          ]
        },
        {
          "output_type": "stream",
          "name": "stderr",
          "text": [
            "\r 25%|██▌       | 4/16 [00:03<00:07,  1.70it/s]"
          ]
        },
        {
          "output_type": "stream",
          "name": "stdout",
          "text": [
            "Register a hook to perform Random Maps Ablation on layer  layer1.1.conv2 Conv2d(64, 64, kernel_size=(3, 3), stride=(1, 1), padding=(1, 1), bias=False)\n",
            "Register a hook to perform Random Maps Ablation on layer  layer2.1.conv2 Conv2d(128, 128, kernel_size=(3, 3), stride=(1, 1), padding=(1, 1), bias=False)\n",
            "mask_out_ratio:  0.5\n",
            "random_mask sum():  tensor(12834287., device='cuda:0')\n",
            "mask_out_ratio:  0.5\n",
            "random_mask sum():  tensor(6416871., device='cuda:0')\n",
            "Remove the hook used to perform Activation Shaping on layer  layer1.1.conv2\n",
            "Remove the hook used to perform Activation Shaping on layer  layer2.1.conv2\n"
          ]
        },
        {
          "output_type": "stream",
          "name": "stderr",
          "text": [
            "\r 31%|███▏      | 5/16 [00:03<00:04,  2.21it/s]"
          ]
        },
        {
          "output_type": "stream",
          "name": "stdout",
          "text": [
            "Register a hook to perform Random Maps Ablation on layer  layer1.1.conv2 Conv2d(64, 64, kernel_size=(3, 3), stride=(1, 1), padding=(1, 1), bias=False)\n",
            "Register a hook to perform Random Maps Ablation on layer  layer2.1.conv2 Conv2d(128, 128, kernel_size=(3, 3), stride=(1, 1), padding=(1, 1), bias=False)\n",
            "mask_out_ratio:  0.5\n",
            "random_mask sum():  tensor(12832733., device='cuda:0')\n",
            "mask_out_ratio:  0.5\n",
            "random_mask sum():  tensor(6415082., device='cuda:0')\n",
            "Remove the hook used to perform Activation Shaping on layer  layer1.1.conv2\n",
            "Remove the hook used to perform Activation Shaping on layer  layer2.1.conv2\n",
            "Register a hook to perform Random Maps Ablation on layer  layer1.1.conv2 Conv2d(64, 64, kernel_size=(3, 3), stride=(1, 1), padding=(1, 1), bias=False)\n",
            "Register a hook to perform Random Maps Ablation on layer  layer2.1.conv2 Conv2d(128, 128, kernel_size=(3, 3), stride=(1, 1), padding=(1, 1), bias=False)\n",
            "mask_out_ratio:  0.5\n",
            "random_mask sum():  tensor(12833084., device='cuda:0')\n",
            "mask_out_ratio:  0.5\n",
            "random_mask sum():  tensor(6415512., device='cuda:0')\n",
            "Remove the hook used to perform Activation Shaping on layer  layer1.1.conv2\n",
            "Remove the hook used to perform Activation Shaping on layer  layer2.1.conv2\n"
          ]
        },
        {
          "output_type": "stream",
          "name": "stderr",
          "text": [
            "\r 38%|███▊      | 6/16 [00:04<00:06,  1.46it/s]"
          ]
        },
        {
          "output_type": "stream",
          "name": "stdout",
          "text": [
            "Register a hook to perform Random Maps Ablation on layer  layer1.1.conv2 Conv2d(64, 64, kernel_size=(3, 3), stride=(1, 1), padding=(1, 1), bias=False)\n",
            "Register a hook to perform Random Maps Ablation on layer  layer2.1.conv2 Conv2d(128, 128, kernel_size=(3, 3), stride=(1, 1), padding=(1, 1), bias=False)\n",
            "mask_out_ratio:  0.5\n",
            "random_mask sum():  tensor(12832867., device='cuda:0')\n",
            "mask_out_ratio:  0.5\n",
            "random_mask sum():  tensor(6421486., device='cuda:0')\n",
            "Remove the hook used to perform Activation Shaping on layer  layer1.1.conv2\n",
            "Remove the hook used to perform Activation Shaping on layer  layer2.1.conv2\n"
          ]
        },
        {
          "output_type": "stream",
          "name": "stderr",
          "text": [
            "\r 44%|████▍     | 7/16 [00:05<00:05,  1.73it/s]"
          ]
        },
        {
          "output_type": "stream",
          "name": "stdout",
          "text": [
            "Register a hook to perform Random Maps Ablation on layer  layer1.1.conv2 Conv2d(64, 64, kernel_size=(3, 3), stride=(1, 1), padding=(1, 1), bias=False)\n",
            "Register a hook to perform Random Maps Ablation on layer  layer2.1.conv2 Conv2d(128, 128, kernel_size=(3, 3), stride=(1, 1), padding=(1, 1), bias=False)\n",
            "mask_out_ratio:  0.5\n",
            "random_mask sum():  tensor(12833435., device='cuda:0')\n",
            "mask_out_ratio:  0.5\n",
            "random_mask sum():  tensor(6411082., device='cuda:0')\n",
            "Remove the hook used to perform Activation Shaping on layer  layer1.1.conv2\n",
            "Remove the hook used to perform Activation Shaping on layer  layer2.1.conv2\n"
          ]
        },
        {
          "output_type": "stream",
          "name": "stderr",
          "text": [
            "\r 50%|█████     | 8/16 [00:05<00:04,  1.82it/s]"
          ]
        },
        {
          "output_type": "stream",
          "name": "stdout",
          "text": [
            "Register a hook to perform Random Maps Ablation on layer  layer1.1.conv2 Conv2d(64, 64, kernel_size=(3, 3), stride=(1, 1), padding=(1, 1), bias=False)\n",
            "Register a hook to perform Random Maps Ablation on layer  layer2.1.conv2 Conv2d(128, 128, kernel_size=(3, 3), stride=(1, 1), padding=(1, 1), bias=False)\n",
            "mask_out_ratio:  0.5\n",
            "random_mask sum():  tensor(12829905., device='cuda:0')\n",
            "mask_out_ratio:  0.5\n",
            "random_mask sum():  tensor(6415095., device='cuda:0')\n",
            "Remove the hook used to perform Activation Shaping on layer  layer1.1.conv2\n",
            "Remove the hook used to perform Activation Shaping on layer  layer2.1.conv2\n"
          ]
        },
        {
          "output_type": "stream",
          "name": "stderr",
          "text": [
            "\r 56%|█████▋    | 9/16 [00:05<00:03,  2.21it/s]"
          ]
        },
        {
          "output_type": "stream",
          "name": "stdout",
          "text": [
            "Register a hook to perform Random Maps Ablation on layer  layer1.1.conv2 Conv2d(64, 64, kernel_size=(3, 3), stride=(1, 1), padding=(1, 1), bias=False)\n",
            "Register a hook to perform Random Maps Ablation on layer  layer2.1.conv2 Conv2d(128, 128, kernel_size=(3, 3), stride=(1, 1), padding=(1, 1), bias=False)\n",
            "mask_out_ratio:  0.5\n",
            "random_mask sum():  tensor(12827331., device='cuda:0')\n",
            "mask_out_ratio:  0.5\n",
            "random_mask sum():  tensor(6418903., device='cuda:0')\n",
            "Remove the hook used to perform Activation Shaping on layer  layer1.1.conv2\n",
            "Remove the hook used to perform Activation Shaping on layer  layer2.1.conv2\n"
          ]
        },
        {
          "output_type": "stream",
          "name": "stderr",
          "text": [
            "\r 62%|██████▎   | 10/16 [00:06<00:02,  2.60it/s]"
          ]
        },
        {
          "output_type": "stream",
          "name": "stdout",
          "text": [
            "Register a hook to perform Random Maps Ablation on layer  layer1.1.conv2 Conv2d(64, 64, kernel_size=(3, 3), stride=(1, 1), padding=(1, 1), bias=False)\n",
            "Register a hook to perform Random Maps Ablation on layer  layer2.1.conv2 Conv2d(128, 128, kernel_size=(3, 3), stride=(1, 1), padding=(1, 1), bias=False)\n",
            "mask_out_ratio:  0.5\n",
            "random_mask sum():  tensor(12836701., device='cuda:0')\n",
            "mask_out_ratio:  0.5\n",
            "random_mask sum():  tensor(6417655., device='cuda:0')\n",
            "Remove the hook used to perform Activation Shaping on layer  layer1.1.conv2\n",
            "Remove the hook used to perform Activation Shaping on layer  layer2.1.conv2\n"
          ]
        },
        {
          "output_type": "stream",
          "name": "stderr",
          "text": [
            " 75%|███████▌  | 12/16 [00:08<00:02,  1.36it/s]"
          ]
        },
        {
          "output_type": "stream",
          "name": "stdout",
          "text": [
            "Register a hook to perform Random Maps Ablation on layer  layer1.1.conv2 Conv2d(64, 64, kernel_size=(3, 3), stride=(1, 1), padding=(1, 1), bias=False)\n",
            "Register a hook to perform Random Maps Ablation on layer  layer2.1.conv2 Conv2d(128, 128, kernel_size=(3, 3), stride=(1, 1), padding=(1, 1), bias=False)\n",
            "mask_out_ratio:  0.5\n",
            "random_mask sum():  tensor(12832654., device='cuda:0')\n",
            "mask_out_ratio:  0.5\n",
            "random_mask sum():  tensor(6418171., device='cuda:0')\n",
            "Remove the hook used to perform Activation Shaping on layer  layer1.1.conv2\n",
            "Remove the hook used to perform Activation Shaping on layer  layer2.1.conv2\n"
          ]
        },
        {
          "output_type": "stream",
          "name": "stderr",
          "text": [
            "\r 81%|████████▏ | 13/16 [00:08<00:01,  1.66it/s]"
          ]
        },
        {
          "output_type": "stream",
          "name": "stdout",
          "text": [
            "Register a hook to perform Random Maps Ablation on layer  layer1.1.conv2 Conv2d(64, 64, kernel_size=(3, 3), stride=(1, 1), padding=(1, 1), bias=False)\n",
            "Register a hook to perform Random Maps Ablation on layer  layer2.1.conv2 Conv2d(128, 128, kernel_size=(3, 3), stride=(1, 1), padding=(1, 1), bias=False)\n",
            "mask_out_ratio:  0.5\n",
            "random_mask sum():  tensor(12834061., device='cuda:0')\n",
            "mask_out_ratio:  0.5\n",
            "random_mask sum():  tensor(6417802., device='cuda:0')\n",
            "Remove the hook used to perform Activation Shaping on layer  layer1.1.conv2\n",
            "Remove the hook used to perform Activation Shaping on layer  layer2.1.conv2\n",
            "Register a hook to perform Random Maps Ablation on layer  layer1.1.conv2 Conv2d(64, 64, kernel_size=(3, 3), stride=(1, 1), padding=(1, 1), bias=False)\n",
            "Register a hook to perform Random Maps Ablation on layer  layer2.1.conv2 Conv2d(128, 128, kernel_size=(3, 3), stride=(1, 1), padding=(1, 1), bias=False)\n",
            "mask_out_ratio:  0.5\n",
            "random_mask sum():  "
          ]
        },
        {
          "output_type": "stream",
          "name": "stderr",
          "text": [
            "\r 88%|████████▊ | 14/16 [00:08<00:00,  2.09it/s]"
          ]
        },
        {
          "output_type": "stream",
          "name": "stdout",
          "text": [
            "tensor(12830094., device='cuda:0')\n",
            "mask_out_ratio:  0.5\n",
            "random_mask sum():  tensor(6417154., device='cuda:0')\n",
            "Remove the hook used to perform Activation Shaping on layer  layer1.1.conv2\n",
            "Remove the hook used to perform Activation Shaping on layer  layer2.1.conv2\n",
            "Register a hook to perform Random Maps Ablation on layer  layer1.1.conv2 Conv2d(64, 64, kernel_size=(3, 3), stride=(1, 1), padding=(1, 1), bias=False)\n",
            "Register a hook to perform Random Maps Ablation on layer  layer2.1.conv2 Conv2d(128, 128, kernel_size=(3, 3), stride=(1, 1), padding=(1, 1), bias=False)\n",
            "mask_out_ratio:  0.5\n",
            "random_mask sum():  tensor(12835337., device='cuda:0')\n",
            "mask_out_ratio:  0.5\n",
            "random_mask sum():  "
          ]
        },
        {
          "output_type": "stream",
          "name": "stderr",
          "text": [
            "\r 94%|█████████▍| 15/16 [00:09<00:00,  2.56it/s]"
          ]
        },
        {
          "output_type": "stream",
          "name": "stdout",
          "text": [
            "tensor(6412578., device='cuda:0')\n",
            "Remove the hook used to perform Activation Shaping on layer  layer1.1.conv2\n",
            "Remove the hook used to perform Activation Shaping on layer  layer2.1.conv2\n",
            "Register a hook to perform Random Maps Ablation on layer  layer1.1.conv2 Conv2d(64, 64, kernel_size=(3, 3), stride=(1, 1), padding=(1, 1), bias=False)\n",
            "Register a hook to perform Random Maps Ablation on layer  layer2.1.conv2 Conv2d(128, 128, kernel_size=(3, 3), stride=(1, 1), padding=(1, 1), bias=False)\n",
            "mask_out_ratio:  0.5\n",
            "random_mask sum():  "
          ]
        },
        {
          "output_type": "stream",
          "name": "stderr",
          "text": [
            "100%|██████████| 16/16 [00:09<00:00,  1.70it/s]\n"
          ]
        },
        {
          "output_type": "stream",
          "name": "stdout",
          "text": [
            "tensor(12829182., device='cuda:0')\n",
            "mask_out_ratio:  0.5\n",
            "random_mask sum():  tensor(6417705., device='cuda:0')\n",
            "Remove the hook used to perform Activation Shaping on layer  layer1.1.conv2\n",
            "Remove the hook used to perform Activation Shaping on layer  layer2.1.conv2\n"
          ]
        },
        {
          "output_type": "stream",
          "name": "stderr",
          "text": [
            "100%|██████████| 31/31 [00:10<00:00,  2.88it/s]\n"
          ]
        },
        {
          "output_type": "stream",
          "name": "stdout",
          "text": [
            "Accuracy: 44.74 - Loss: 0.01256444726350745 \n",
            "\n"
          ]
        },
        {
          "output_type": "stream",
          "name": "stderr",
          "text": [
            "\r  0%|          | 0/16 [00:00<?, ?it/s]"
          ]
        },
        {
          "output_type": "stream",
          "name": "stdout",
          "text": [
            "Register a hook to perform Random Maps Ablation on layer  layer1.1.conv2 Conv2d(64, 64, kernel_size=(3, 3), stride=(1, 1), padding=(1, 1), bias=False)\n",
            "Register a hook to perform Random Maps Ablation on layer  layer2.1.conv2 Conv2d(128, 128, kernel_size=(3, 3), stride=(1, 1), padding=(1, 1), bias=False)\n",
            "mask_out_ratio:  0.5\n",
            "random_mask sum():  tensor(12832846., device='cuda:0')\n",
            "mask_out_ratio:  0.5\n",
            "random_mask sum():  tensor(6418452., device='cuda:0')\n",
            "Remove the hook used to perform Activation Shaping on layer  layer1.1.conv2\n",
            "Remove the hook used to perform Activation Shaping on layer  layer2.1.conv2\n"
          ]
        },
        {
          "output_type": "stream",
          "name": "stderr",
          "text": [
            "\r  6%|▋         | 1/16 [00:02<00:42,  2.84s/it]"
          ]
        },
        {
          "output_type": "stream",
          "name": "stdout",
          "text": [
            "Register a hook to perform Random Maps Ablation on layer  layer1.1.conv2 Conv2d(64, 64, kernel_size=(3, 3), stride=(1, 1), padding=(1, 1), bias=False)\n",
            "Register a hook to perform Random Maps Ablation on layer  layer2.1.conv2 Conv2d(128, 128, kernel_size=(3, 3), stride=(1, 1), padding=(1, 1), bias=False)\n",
            "mask_out_ratio:  0.5\n",
            "random_mask sum():  tensor(12832055., device='cuda:0')\n",
            "mask_out_ratio:  0.5\n",
            "random_mask sum():  tensor(6415110., device='cuda:0')\n",
            "Remove the hook used to perform Activation Shaping on layer  layer1.1.conv2\n",
            "Remove the hook used to perform Activation Shaping on layer  layer2.1.conv2\n"
          ]
        },
        {
          "output_type": "stream",
          "name": "stderr",
          "text": [
            " 19%|█▉        | 3/16 [00:03<00:10,  1.25it/s]"
          ]
        },
        {
          "output_type": "stream",
          "name": "stdout",
          "text": [
            "Register a hook to perform Random Maps Ablation on layer  layer1.1.conv2 Conv2d(64, 64, kernel_size=(3, 3), stride=(1, 1), padding=(1, 1), bias=False)\n",
            "Register a hook to perform Random Maps Ablation on layer  layer2.1.conv2 Conv2d(128, 128, kernel_size=(3, 3), stride=(1, 1), padding=(1, 1), bias=False)\n",
            "mask_out_ratio:  0.5\n",
            "random_mask sum():  tensor(12832158., device='cuda:0')\n",
            "mask_out_ratio:  0.5\n",
            "random_mask sum():  tensor(6415884., device='cuda:0')\n",
            "Remove the hook used to perform Activation Shaping on layer  layer1.1.conv2\n",
            "Remove the hook used to perform Activation Shaping on layer  layer2.1.conv2\n",
            "Register a hook to perform Random Maps Ablation on layer  layer1.1.conv2 Conv2d(64, 64, kernel_size=(3, 3), stride=(1, 1), padding=(1, 1), bias=False)\n",
            "Register a hook to perform Random Maps Ablation on layer  layer2.1.conv2 Conv2d(128, 128, kernel_size=(3, 3), stride=(1, 1), padding=(1, 1), bias=False)\n"
          ]
        },
        {
          "output_type": "stream",
          "name": "stderr",
          "text": [
            "\r 25%|██▌       | 4/16 [00:03<00:06,  1.77it/s]"
          ]
        },
        {
          "output_type": "stream",
          "name": "stdout",
          "text": [
            "mask_out_ratio:  0.5\n",
            "random_mask sum():  tensor(12834066., device='cuda:0')\n",
            "mask_out_ratio:  0.5\n",
            "random_mask sum():  tensor(6416308., device='cuda:0')\n",
            "Remove the hook used to perform Activation Shaping on layer  layer1.1.conv2\n",
            "Remove the hook used to perform Activation Shaping on layer  layer2.1.conv2\n",
            "Register a hook to perform Random Maps Ablation on layer  layer1.1.conv2 Conv2d(64, 64, kernel_size=(3, 3), stride=(1, 1), padding=(1, 1), bias=False)\n",
            "Register a hook to perform Random Maps Ablation on layer  layer2.1.conv2 Conv2d(128, 128, kernel_size=(3, 3), stride=(1, 1), padding=(1, 1), bias=False)\n",
            "mask_out_ratio: "
          ]
        },
        {
          "output_type": "stream",
          "name": "stderr",
          "text": [
            "\r 31%|███▏      | 5/16 [00:03<00:04,  2.30it/s]"
          ]
        },
        {
          "output_type": "stream",
          "name": "stdout",
          "text": [
            " 0.5\n",
            "random_mask sum():  tensor(12832949., device='cuda:0')\n",
            "mask_out_ratio:  0.5\n",
            "random_mask sum():  tensor(6415760., device='cuda:0')\n",
            "Remove the hook used to perform Activation Shaping on layer  layer1.1.conv2\n",
            "Remove the hook used to perform Activation Shaping on layer  layer2.1.conv2\n"
          ]
        },
        {
          "output_type": "stream",
          "name": "stderr",
          "text": [
            "\r 38%|███▊      | 6/16 [00:05<00:09,  1.09it/s]"
          ]
        },
        {
          "output_type": "stream",
          "name": "stdout",
          "text": [
            "Register a hook to perform Random Maps Ablation on layer  layer1.1.conv2 Conv2d(64, 64, kernel_size=(3, 3), stride=(1, 1), padding=(1, 1), bias=False)\n",
            "Register a hook to perform Random Maps Ablation on layer  layer2.1.conv2 Conv2d(128, 128, kernel_size=(3, 3), stride=(1, 1), padding=(1, 1), bias=False)\n",
            "mask_out_ratio:  0.5\n",
            "random_mask sum():  tensor(12831316., device='cuda:0')\n",
            "mask_out_ratio:  0.5\n",
            "random_mask sum():  tensor(6417302., device='cuda:0')\n",
            "Remove the hook used to perform Activation Shaping on layer  layer1.1.conv2\n",
            "Remove the hook used to perform Activation Shaping on layer  layer2.1.conv2\n"
          ]
        },
        {
          "output_type": "stream",
          "name": "stderr",
          "text": [
            "\r 44%|████▍     | 7/16 [00:05<00:06,  1.46it/s]"
          ]
        },
        {
          "output_type": "stream",
          "name": "stdout",
          "text": [
            "Register a hook to perform Random Maps Ablation on layer  layer1.1.conv2 Conv2d(64, 64, kernel_size=(3, 3), stride=(1, 1), padding=(1, 1), bias=False)\n",
            "Register a hook to perform Random Maps Ablation on layer  layer2.1.conv2 Conv2d(128, 128, kernel_size=(3, 3), stride=(1, 1), padding=(1, 1), bias=False)\n",
            "mask_out_ratio:  0.5\n",
            "random_mask sum():  tensor(12833483., device='cuda:0')\n",
            "mask_out_ratio:  0.5\n",
            "random_mask sum():  tensor(6415585., device='cuda:0')\n",
            "Remove the hook used to perform Activation Shaping on layer  layer1.1.conv2\n",
            "Remove the hook used to perform Activation Shaping on layer  layer2.1.conv2\n"
          ]
        },
        {
          "output_type": "stream",
          "name": "stderr",
          "text": [
            "\r 50%|█████     | 8/16 [00:05<00:04,  1.87it/s]"
          ]
        },
        {
          "output_type": "stream",
          "name": "stdout",
          "text": [
            "Register a hook to perform Random Maps Ablation on layer  layer1.1.conv2 Conv2d(64, 64, kernel_size=(3, 3), stride=(1, 1), padding=(1, 1), bias=False)\n",
            "Register a hook to perform Random Maps Ablation on layer  layer2.1.conv2 Conv2d(128, 128, kernel_size=(3, 3), stride=(1, 1), padding=(1, 1), bias=False)\n",
            "mask_out_ratio:  0.5\n",
            "random_mask sum():  tensor(12832307., device='cuda:0')\n",
            "mask_out_ratio:  0.5\n",
            "random_mask sum():  tensor(6416085., device='cuda:0')\n",
            "Remove the hook used to perform Activation Shaping on layer  layer1.1.conv2\n",
            "Remove the hook used to perform Activation Shaping on layer  layer2.1.conv2\n",
            "Register a hook to perform Random Maps Ablation on layer  layer1.1.conv2 Conv2d(64, 64, kernel_size=(3, 3), stride=(1, 1), padding=(1, 1), bias=False)\n"
          ]
        },
        {
          "output_type": "stream",
          "name": "stderr",
          "text": [
            "\r 56%|█████▋    | 9/16 [00:06<00:03,  2.30it/s]"
          ]
        },
        {
          "output_type": "stream",
          "name": "stdout",
          "text": [
            "Register a hook to perform Random Maps Ablation on layer  layer2.1.conv2 Conv2d(128, 128, kernel_size=(3, 3), stride=(1, 1), padding=(1, 1), bias=False)\n",
            "mask_out_ratio:  0.5\n",
            "random_mask sum():  tensor(12830109., device='cuda:0')\n",
            "mask_out_ratio:  0.5\n",
            "random_mask sum():  tensor(6414563., device='cuda:0')\n",
            "Remove the hook used to perform Activation Shaping on layer  layer1.1.conv2\n",
            "Remove the hook used to perform Activation Shaping on layer  layer2.1.conv2\n"
          ]
        },
        {
          "output_type": "stream",
          "name": "stderr",
          "text": [
            "\r 62%|██████▎   | 10/16 [00:06<00:02,  2.76it/s]"
          ]
        },
        {
          "output_type": "stream",
          "name": "stdout",
          "text": [
            "Register a hook to perform Random Maps Ablation on layer  layer1.1.conv2 Conv2d(64, 64, kernel_size=(3, 3), stride=(1, 1), padding=(1, 1), bias=False)\n",
            "Register a hook to perform Random Maps Ablation on layer  layer2.1.conv2 Conv2d(128, 128, kernel_size=(3, 3), stride=(1, 1), padding=(1, 1), bias=False)\n",
            "mask_out_ratio:  0.5\n",
            "random_mask sum():  tensor(12826127., device='cuda:0')\n",
            "mask_out_ratio:  0.5\n",
            "random_mask sum():  tensor(6413490., device='cuda:0')\n",
            "Remove the hook used to perform Activation Shaping on layer  layer1.1.conv2\n",
            "Remove the hook used to perform Activation Shaping on layer  layer2.1.conv2\n"
          ]
        },
        {
          "output_type": "stream",
          "name": "stderr",
          "text": [
            "\r 69%|██████▉   | 11/16 [00:07<00:03,  1.66it/s]"
          ]
        },
        {
          "output_type": "stream",
          "name": "stdout",
          "text": [
            "Register a hook to perform Random Maps Ablation on layer  layer1.1.conv2 Conv2d(64, 64, kernel_size=(3, 3), stride=(1, 1), padding=(1, 1), bias=False)\n",
            "Register a hook to perform Random Maps Ablation on layer  layer2.1.conv2 Conv2d(128, 128, kernel_size=(3, 3), stride=(1, 1), padding=(1, 1), bias=False)\n",
            "mask_out_ratio:  0.5\n",
            "random_mask sum():  tensor(12830009., device='cuda:0')\n",
            "mask_out_ratio:  0.5\n",
            "random_mask sum():  tensor(6415391., device='cuda:0')\n",
            "Remove the hook used to perform Activation Shaping on layer  layer1.1.conv2\n",
            "Remove the hook used to perform Activation Shaping on layer  layer2.1.conv2\n"
          ]
        },
        {
          "output_type": "stream",
          "name": "stderr",
          "text": [
            "\r 75%|███████▌  | 12/16 [00:07<00:01,  2.07it/s]"
          ]
        },
        {
          "output_type": "stream",
          "name": "stdout",
          "text": [
            "Register a hook to perform Random Maps Ablation on layer  layer1.1.conv2 Conv2d(64, 64, kernel_size=(3, 3), stride=(1, 1), padding=(1, 1), bias=False)\n",
            "Register a hook to perform Random Maps Ablation on layer  layer2.1.conv2 Conv2d(128, 128, kernel_size=(3, 3), stride=(1, 1), padding=(1, 1), bias=False)\n",
            "mask_out_ratio:  0.5\n",
            "random_mask sum():  tensor(12830425., device='cuda:0')\n",
            "mask_out_ratio:  0.5\n",
            "random_mask sum():  tensor(6415553., device='cuda:0')\n",
            "Remove the hook used to perform Activation Shaping on layer  layer1.1.conv2\n",
            "Remove the hook used to perform Activation Shaping on layer  layer2.1.conv2\n",
            "Register a hook to perform Random Maps Ablation on layer  layer1.1.conv2 Conv2d(64, 64, kernel_size=(3, 3), stride=(1, 1), padding=(1, 1), bias=False)\n",
            "Register a hook to perform Random Maps Ablation on layer  layer2.1.conv2 Conv2d(128, 128, kernel_size=(3, 3), stride=(1, 1), padding=(1, 1), bias=False)\n",
            "mask_out_ratio:  0.5\n",
            "random_mask sum():  "
          ]
        },
        {
          "output_type": "stream",
          "name": "stderr",
          "text": [
            "\r 81%|████████▏ | 13/16 [00:07<00:01,  2.56it/s]"
          ]
        },
        {
          "output_type": "stream",
          "name": "stdout",
          "text": [
            "tensor(12829941., device='cuda:0')\n",
            "mask_out_ratio:  0.5\n",
            "random_mask sum():  tensor(6415731., device='cuda:0')\n",
            "Remove the hook used to perform Activation Shaping on layer  layer1.1.conv2\n",
            "Remove the hook used to perform Activation Shaping on layer  layer2.1.conv2\n",
            "Register a hook to perform Random Maps Ablation on layer  layer1.1.conv2 Conv2d(64, 64, kernel_size=(3, 3), stride=(1, 1), padding=(1, 1), bias=False)\n",
            "Register a hook to perform Random Maps Ablation on layer  layer2.1.conv2 Conv2d(128, 128, kernel_size=(3, 3), stride=(1, 1), padding=(1, 1), bias=False)\n",
            "mask_out_ratio:  0.5\n",
            "random_mask sum():  tensor(12830378., device='cuda:0')\n",
            "mask_out_ratio:  0.5\n",
            "random_mask sum():  tensor(6417282., device='cuda:0')\n"
          ]
        },
        {
          "output_type": "stream",
          "name": "stderr",
          "text": [
            "\r 88%|████████▊ | 14/16 [00:08<00:00,  3.06it/s]"
          ]
        },
        {
          "output_type": "stream",
          "name": "stdout",
          "text": [
            "Remove the hook used to perform Activation Shaping on layer  layer1.1.conv2\n",
            "Remove the hook used to perform Activation Shaping on layer  layer2.1.conv2\n",
            "Register a hook to perform Random Maps Ablation on layer  layer1.1.conv2 Conv2d(64, 64, kernel_size=(3, 3), stride=(1, 1), padding=(1, 1), bias=False)\n",
            "Register a hook to perform Random Maps Ablation on layer  layer2.1.conv2 Conv2d(128, 128, kernel_size=(3, 3), stride=(1, 1), padding=(1, 1), bias=False)\n",
            "mask_out_ratio:  0.5\n",
            "random_mask sum():  tensor(12833920., device='cuda:0')\n",
            "mask_out_ratio:  0.5\n",
            "random_mask sum():  tensor(6415736., device='cuda:0')\n",
            "Remove the hook used to perform Activation Shaping on layer  layer1.1.conv2\n",
            "Remove the hook used to perform Activation Shaping on layer  layer2.1.conv2\n"
          ]
        },
        {
          "output_type": "stream",
          "name": "stderr",
          "text": [
            "100%|██████████| 16/16 [00:08<00:00,  1.88it/s]\n"
          ]
        },
        {
          "output_type": "stream",
          "name": "stdout",
          "text": [
            "Register a hook to perform Random Maps Ablation on layer  layer1.1.conv2 Conv2d(64, 64, kernel_size=(3, 3), stride=(1, 1), padding=(1, 1), bias=False)\n",
            "Register a hook to perform Random Maps Ablation on layer  layer2.1.conv2 Conv2d(128, 128, kernel_size=(3, 3), stride=(1, 1), padding=(1, 1), bias=False)\n",
            "mask_out_ratio:  0.5\n",
            "random_mask sum():  tensor(12833555., device='cuda:0')\n",
            "mask_out_ratio:  0.5\n",
            "random_mask sum():  tensor(6417727., device='cuda:0')\n",
            "Remove the hook used to perform Activation Shaping on layer  layer1.1.conv2\n",
            "Remove the hook used to perform Activation Shaping on layer  layer2.1.conv2\n"
          ]
        },
        {
          "output_type": "stream",
          "name": "stderr",
          "text": [
            "100%|██████████| 31/31 [00:11<00:00,  2.76it/s]\n"
          ]
        },
        {
          "output_type": "stream",
          "name": "stdout",
          "text": [
            "Accuracy: 44.13 - Loss: 0.012859587376279727 \n",
            "\n"
          ]
        },
        {
          "output_type": "stream",
          "name": "stderr",
          "text": [
            "\r  0%|          | 0/16 [00:00<?, ?it/s]"
          ]
        },
        {
          "output_type": "stream",
          "name": "stdout",
          "text": [
            "Register a hook to perform Random Maps Ablation on layer  layer1.1.conv2 Conv2d(64, 64, kernel_size=(3, 3), stride=(1, 1), padding=(1, 1), bias=False)\n",
            "Register a hook to perform Random Maps Ablation on layer  layer2.1.conv2 Conv2d(128, 128, kernel_size=(3, 3), stride=(1, 1), padding=(1, 1), bias=False)\n",
            "mask_out_ratio:  0.5\n",
            "random_mask sum():  tensor(12832433., device='cuda:0')\n",
            "mask_out_ratio:  0.5\n",
            "random_mask sum():  tensor(6417332., device='cuda:0')\n",
            "Remove the hook used to perform Activation Shaping on layer  layer1.1.conv2\n",
            "Remove the hook used to perform Activation Shaping on layer  layer2.1.conv2\n"
          ]
        },
        {
          "output_type": "stream",
          "name": "stderr",
          "text": [
            "\r  6%|▋         | 1/16 [00:02<00:35,  2.39s/it]"
          ]
        },
        {
          "output_type": "stream",
          "name": "stdout",
          "text": [
            "Register a hook to perform Random Maps Ablation on layer  layer1.1.conv2 Conv2d(64, 64, kernel_size=(3, 3), stride=(1, 1), padding=(1, 1), bias=False)\n",
            "Register a hook to perform Random Maps Ablation on layer  layer2.1.conv2 Conv2d(128, 128, kernel_size=(3, 3), stride=(1, 1), padding=(1, 1), bias=False)\n",
            "mask_out_ratio:  0.5\n",
            "random_mask sum():  tensor(12833364., device='cuda:0')\n",
            "mask_out_ratio:  0.5\n",
            "random_mask sum():  tensor(6417244., device='cuda:0')\n",
            "Remove the hook used to perform Activation Shaping on layer  layer1.1.conv2\n",
            "Remove the hook used to perform Activation Shaping on layer  layer2.1.conv2\n"
          ]
        },
        {
          "output_type": "stream",
          "name": "stderr",
          "text": [
            " 19%|█▉        | 3/16 [00:02<00:09,  1.38it/s]"
          ]
        },
        {
          "output_type": "stream",
          "name": "stdout",
          "text": [
            "Register a hook to perform Random Maps Ablation on layer  layer1.1.conv2 Conv2d(64, 64, kernel_size=(3, 3), stride=(1, 1), padding=(1, 1), bias=False)\n",
            "Register a hook to perform Random Maps Ablation on layer  layer2.1.conv2 Conv2d(128, 128, kernel_size=(3, 3), stride=(1, 1), padding=(1, 1), bias=False)\n",
            "mask_out_ratio:  0.5\n",
            "random_mask sum():  tensor(12832206., device='cuda:0')\n",
            "mask_out_ratio:  0.5\n",
            "random_mask sum():  tensor(6415447., device='cuda:0')\n",
            "Remove the hook used to perform Activation Shaping on layer  layer1.1.conv2\n",
            "Remove the hook used to perform Activation Shaping on layer  layer2.1.conv2\n"
          ]
        },
        {
          "output_type": "stream",
          "name": "stderr",
          "text": [
            "\r 25%|██▌       | 4/16 [00:03<00:06,  1.92it/s]"
          ]
        },
        {
          "output_type": "stream",
          "name": "stdout",
          "text": [
            "Register a hook to perform Random Maps Ablation on layer  layer1.1.conv2 Conv2d(64, 64, kernel_size=(3, 3), stride=(1, 1), padding=(1, 1), bias=False)\n",
            "Register a hook to perform Random Maps Ablation on layer  layer2.1.conv2 Conv2d(128, 128, kernel_size=(3, 3), stride=(1, 1), padding=(1, 1), bias=False)\n",
            "mask_out_ratio:  0.5\n",
            "random_mask sum():  tensor(12834605., device='cuda:0')\n",
            "mask_out_ratio:  0.5\n",
            "random_mask sum():  tensor(6412607., device='cuda:0')\n",
            "Remove the hook used to perform Activation Shaping on layer  layer1.1.conv2\n",
            "Remove the hook used to perform Activation Shaping on layer  layer2.1.conv2\n"
          ]
        },
        {
          "output_type": "stream",
          "name": "stderr",
          "text": [
            "\r 31%|███▏      | 5/16 [00:03<00:04,  2.43it/s]"
          ]
        },
        {
          "output_type": "stream",
          "name": "stdout",
          "text": [
            "Register a hook to perform Random Maps Ablation on layer  layer1.1.conv2 Conv2d(64, 64, kernel_size=(3, 3), stride=(1, 1), padding=(1, 1), bias=False)\n",
            "Register a hook to perform Random Maps Ablation on layer  layer2.1.conv2 Conv2d(128, 128, kernel_size=(3, 3), stride=(1, 1), padding=(1, 1), bias=False)\n",
            "mask_out_ratio:  0.5\n",
            "random_mask sum():  tensor(12833995., device='cuda:0')\n",
            "mask_out_ratio:  0.5\n",
            "random_mask sum():  tensor(6420247., device='cuda:0')\n",
            "Remove the hook used to perform Activation Shaping on layer  layer1.1.conv2\n",
            "Remove the hook used to perform Activation Shaping on layer  layer2.1.conv2\n",
            "Register a hook to perform Random Maps Ablation on layer  layer1.1.conv2 Conv2d(64, 64, kernel_size=(3, 3), stride=(1, 1), padding=(1, 1), bias=False)\n",
            "Register a hook to perform Random Maps Ablation on layer  layer2.1.conv2 Conv2d(128, 128, kernel_size=(3, 3), stride=(1, 1), padding=(1, 1), bias=False)\n",
            "mask_out_ratio:  0.5\n",
            "random_mask sum():  tensor(12831348., device='cuda:0')\n",
            "mask_out_ratio:  0.5\n",
            "random_mask sum():  tensor(6416469., device='cuda:0')\n",
            "Remove the hook used to perform Activation Shaping on layer  layer1.1.conv2\n",
            "Remove the hook used to perform Activation Shaping on layer  layer2.1.conv2\n"
          ]
        },
        {
          "output_type": "stream",
          "name": "stderr",
          "text": [
            "\r 38%|███▊      | 6/16 [00:05<00:09,  1.09it/s]"
          ]
        },
        {
          "output_type": "stream",
          "name": "stdout",
          "text": [
            "Register a hook to perform Random Maps Ablation on layer  layer1.1.conv2 Conv2d(64, 64, kernel_size=(3, 3), stride=(1, 1), padding=(1, 1), bias=False)\n",
            "Register a hook to perform Random Maps Ablation on layer  layer2.1.conv2 Conv2d(128, 128, kernel_size=(3, 3), stride=(1, 1), padding=(1, 1), bias=False)\n",
            "mask_out_ratio:  0.5\n",
            "random_mask sum():  tensor(12829139., device='cuda:0')\n",
            "mask_out_ratio:  0.5\n",
            "random_mask sum():  tensor(6416579., device='cuda:0')\n",
            "Remove the hook used to perform Activation Shaping on layer  layer1.1.conv2\n",
            "Remove the hook used to perform Activation Shaping on layer  layer2.1.conv2\n"
          ]
        },
        {
          "output_type": "stream",
          "name": "stderr",
          "text": [
            " 50%|█████     | 8/16 [00:06<00:05,  1.52it/s]"
          ]
        },
        {
          "output_type": "stream",
          "name": "stdout",
          "text": [
            "Register a hook to perform Random Maps Ablation on layer  layer1.1.conv2 Conv2d(64, 64, kernel_size=(3, 3), stride=(1, 1), padding=(1, 1), bias=False)\n",
            "Register a hook to perform Random Maps Ablation on layer  layer2.1.conv2 Conv2d(128, 128, kernel_size=(3, 3), stride=(1, 1), padding=(1, 1), bias=False)\n",
            "mask_out_ratio:  0.5\n",
            "random_mask sum():  tensor(12829935., device='cuda:0')\n",
            "mask_out_ratio:  0.5\n",
            "random_mask sum():  tensor(6416336., device='cuda:0')\n",
            "Remove the hook used to perform Activation Shaping on layer  layer1.1.conv2\n",
            "Remove the hook used to perform Activation Shaping on layer  layer2.1.conv2\n"
          ]
        },
        {
          "output_type": "stream",
          "name": "stderr",
          "text": [
            "\r 56%|█████▋    | 9/16 [00:06<00:04,  1.58it/s]"
          ]
        },
        {
          "output_type": "stream",
          "name": "stdout",
          "text": [
            "Register a hook to perform Random Maps Ablation on layer  layer1.1.conv2 Conv2d(64, 64, kernel_size=(3, 3), stride=(1, 1), padding=(1, 1), bias=False)\n",
            "Register a hook to perform Random Maps Ablation on layer  layer2.1.conv2 Conv2d(128, 128, kernel_size=(3, 3), stride=(1, 1), padding=(1, 1), bias=False)\n",
            "mask_out_ratio:  0.5\n",
            "random_mask sum():  tensor(12832773., device='cuda:0')\n",
            "mask_out_ratio:  0.5\n",
            "random_mask sum():  tensor(6416675., device='cuda:0')\n",
            "Remove the hook used to perform Activation Shaping on layer  layer1.1.conv2\n",
            "Remove the hook used to perform Activation Shaping on layer  layer2.1.conv2\n",
            "Register a hook to perform Random Maps Ablation on layer  layer1.1.conv2 Conv2d(64, 64, kernel_size=(3, 3), stride=(1, 1), padding=(1, 1), bias=False)\n",
            "Register a hook to perform Random Maps Ablation on layer  layer2.1.conv2 Conv2d(128, 128, kernel_size=(3, 3), stride=(1, 1), padding=(1, 1), bias=False)\n"
          ]
        },
        {
          "output_type": "stream",
          "name": "stderr",
          "text": [
            "\r 62%|██████▎   | 10/16 [00:06<00:02,  2.02it/s]"
          ]
        },
        {
          "output_type": "stream",
          "name": "stdout",
          "text": [
            "mask_out_ratio:  0.5\n",
            "random_mask sum():  tensor(12833456., device='cuda:0')\n",
            "mask_out_ratio:  0.5\n",
            "random_mask sum():  tensor(6414528., device='cuda:0')\n",
            "Remove the hook used to perform Activation Shaping on layer  layer1.1.conv2\n",
            "Remove the hook used to perform Activation Shaping on layer  layer2.1.conv2\n"
          ]
        },
        {
          "output_type": "stream",
          "name": "stderr",
          "text": [
            "\r 69%|██████▉   | 11/16 [00:08<00:03,  1.31it/s]"
          ]
        },
        {
          "output_type": "stream",
          "name": "stdout",
          "text": [
            "Register a hook to perform Random Maps Ablation on layer  layer1.1.conv2 Conv2d(64, 64, kernel_size=(3, 3), stride=(1, 1), padding=(1, 1), bias=False)\n",
            "Register a hook to perform Random Maps Ablation on layer  layer2.1.conv2 Conv2d(128, 128, kernel_size=(3, 3), stride=(1, 1), padding=(1, 1), bias=False)\n",
            "mask_out_ratio:  0.5\n",
            "random_mask sum():  tensor(12831069., device='cuda:0')\n",
            "mask_out_ratio:  0.5\n",
            "random_mask sum():  tensor(6416835., device='cuda:0')\n",
            "Remove the hook used to perform Activation Shaping on layer  layer1.1.conv2\n",
            "Remove the hook used to perform Activation Shaping on layer  layer2.1.conv2\n"
          ]
        },
        {
          "output_type": "stream",
          "name": "stderr",
          "text": [
            "\r 75%|███████▌  | 12/16 [00:08<00:02,  1.68it/s]"
          ]
        },
        {
          "output_type": "stream",
          "name": "stdout",
          "text": [
            "Register a hook to perform Random Maps Ablation on layer  layer1.1.conv2 Conv2d(64, 64, kernel_size=(3, 3), stride=(1, 1), padding=(1, 1), bias=False)\n",
            "Register a hook to perform Random Maps Ablation on layer  layer2.1.conv2 Conv2d(128, 128, kernel_size=(3, 3), stride=(1, 1), padding=(1, 1), bias=False)\n",
            "mask_out_ratio:  0.5\n",
            "random_mask sum():  tensor(12832781., device='cuda:0')\n",
            "mask_out_ratio:  0.5\n",
            "random_mask sum():  tensor(6419333., device='cuda:0')\n",
            "Remove the hook used to perform Activation Shaping on layer  layer1.1.conv2\n",
            "Remove the hook used to perform Activation Shaping on layer  layer2.1.conv2\n"
          ]
        },
        {
          "output_type": "stream",
          "name": "stderr",
          "text": [
            "\r 81%|████████▏ | 13/16 [00:08<00:01,  2.05it/s]"
          ]
        },
        {
          "output_type": "stream",
          "name": "stdout",
          "text": [
            "Register a hook to perform Random Maps Ablation on layer  layer1.1.conv2 Conv2d(64, 64, kernel_size=(3, 3), stride=(1, 1), padding=(1, 1), bias=False)\n",
            "Register a hook to perform Random Maps Ablation on layer  layer2.1.conv2 Conv2d(128, 128, kernel_size=(3, 3), stride=(1, 1), padding=(1, 1), bias=False)\n",
            "mask_out_ratio:  0.5\n",
            "random_mask sum():  tensor(12836382., device='cuda:0')\n",
            "mask_out_ratio:  0.5\n",
            "random_mask sum():  tensor(6416565., device='cuda:0')\n",
            "Remove the hook used to perform Activation Shaping on layer  layer1.1.conv2\n",
            "Remove the hook used to perform Activation Shaping on layer  layer2.1.conv2\n",
            "Register a hook to perform Random Maps Ablation on layer  layer1.1.conv2 Conv2d(64, 64, kernel_size=(3, 3), stride=(1, 1), padding=(1, 1), bias=False)\n",
            "Register a hook to perform Random Maps Ablation on layer  layer2.1.conv2 Conv2d(128, 128, kernel_size=(3, 3), stride=(1, 1), padding=(1, 1), bias=False)\n"
          ]
        },
        {
          "output_type": "stream",
          "name": "stderr",
          "text": [
            "\r 88%|████████▊ | 14/16 [00:08<00:00,  2.53it/s]"
          ]
        },
        {
          "output_type": "stream",
          "name": "stdout",
          "text": [
            "mask_out_ratio:  0.5\n",
            "random_mask sum():  tensor(12832612., device='cuda:0')\n",
            "mask_out_ratio:  0.5\n",
            "random_mask sum():  tensor(6415287., device='cuda:0')\n",
            "Remove the hook used to perform Activation Shaping on layer  layer1.1.conv2\n",
            "Remove the hook used to perform Activation Shaping on layer  layer2.1.conv2\n",
            "Register a hook to perform Random Maps Ablation on layer  layer1.1.conv2 Conv2d(64, 64, kernel_size=(3, 3), stride=(1, 1), padding=(1, 1), bias=False)\n",
            "Register a hook to perform Random Maps Ablation on layer  layer2.1.conv2 Conv2d(128, 128, kernel_size=(3, 3), stride=(1, 1), padding=(1, 1), bias=False)\n",
            "mask_out_ratio:  0.5\n",
            "random_mask sum():  "
          ]
        },
        {
          "output_type": "stream",
          "name": "stderr",
          "text": [
            "\r 94%|█████████▍| 15/16 [00:08<00:00,  3.02it/s]"
          ]
        },
        {
          "output_type": "stream",
          "name": "stdout",
          "text": [
            "tensor(12835432., device='cuda:0')\n",
            "mask_out_ratio:  0.5\n",
            "random_mask sum():  tensor(6415267., device='cuda:0')\n",
            "Remove the hook used to perform Activation Shaping on layer  layer1.1.conv2\n",
            "Remove the hook used to perform Activation Shaping on layer  layer2.1.conv2\n"
          ]
        },
        {
          "output_type": "stream",
          "name": "stderr",
          "text": [
            "100%|██████████| 16/16 [00:09<00:00,  1.71it/s]\n"
          ]
        },
        {
          "output_type": "stream",
          "name": "stdout",
          "text": [
            "Register a hook to perform Random Maps Ablation on layer  layer1.1.conv2 Conv2d(64, 64, kernel_size=(3, 3), stride=(1, 1), padding=(1, 1), bias=False)\n",
            "Register a hook to perform Random Maps Ablation on layer  layer2.1.conv2 Conv2d(128, 128, kernel_size=(3, 3), stride=(1, 1), padding=(1, 1), bias=False)\n",
            "mask_out_ratio:  0.5\n",
            "random_mask sum():  tensor(12828887., device='cuda:0')\n",
            "mask_out_ratio:  0.5\n",
            "random_mask sum():  tensor(6417421., device='cuda:0')\n",
            "Remove the hook used to perform Activation Shaping on layer  layer1.1.conv2\n",
            "Remove the hook used to perform Activation Shaping on layer  layer2.1.conv2\n"
          ]
        },
        {
          "output_type": "stream",
          "name": "stderr",
          "text": [
            "100%|██████████| 31/31 [00:11<00:00,  2.66it/s]\n"
          ]
        },
        {
          "output_type": "stream",
          "name": "stdout",
          "text": [
            "Accuracy: 43.65 - Loss: 0.013139951666004028 \n",
            "\n"
          ]
        },
        {
          "output_type": "stream",
          "name": "stderr",
          "text": [
            "\r  0%|          | 0/16 [00:00<?, ?it/s]"
          ]
        },
        {
          "output_type": "stream",
          "name": "stdout",
          "text": [
            "Register a hook to perform Random Maps Ablation on layer  layer1.1.conv2 Conv2d(64, 64, kernel_size=(3, 3), stride=(1, 1), padding=(1, 1), bias=False)\n",
            "Register a hook to perform Random Maps Ablation on layer  layer2.1.conv2 Conv2d(128, 128, kernel_size=(3, 3), stride=(1, 1), padding=(1, 1), bias=False)\n",
            "mask_out_ratio:  0.5\n",
            "random_mask sum():  tensor(12837889., device='cuda:0')\n",
            "mask_out_ratio:  0.5\n",
            "random_mask sum():  tensor(6416256., device='cuda:0')\n",
            "Remove the hook used to perform Activation Shaping on layer  layer1.1.conv2\n",
            "Remove the hook used to perform Activation Shaping on layer  layer2.1.conv2\n"
          ]
        },
        {
          "output_type": "stream",
          "name": "stderr",
          "text": [
            " 12%|█▎        | 2/16 [00:02<00:15,  1.13s/it]"
          ]
        },
        {
          "output_type": "stream",
          "name": "stdout",
          "text": [
            "Register a hook to perform Random Maps Ablation on layer  layer1.1.conv2 Conv2d(64, 64, kernel_size=(3, 3), stride=(1, 1), padding=(1, 1), bias=False)\n",
            "Register a hook to perform Random Maps Ablation on layer  layer2.1.conv2 Conv2d(128, 128, kernel_size=(3, 3), stride=(1, 1), padding=(1, 1), bias=False)\n",
            "mask_out_ratio:  0.5\n",
            "random_mask sum():  tensor(12829220., device='cuda:0')\n",
            "mask_out_ratio:  0.5\n",
            "random_mask sum():  tensor(6417014., device='cuda:0')\n",
            "Remove the hook used to perform Activation Shaping on layer  layer1.1.conv2\n",
            "Remove the hook used to perform Activation Shaping on layer  layer2.1.conv2\n",
            "Register a hook to perform Random Maps Ablation on layer  layer1.1.conv2 Conv2d(64, 64, kernel_size=(3, 3), stride=(1, 1), padding=(1, 1), bias=False)\n",
            "Register a hook to perform Random Maps Ablation on layer  layer2.1.conv2 Conv2d(128, 128, kernel_size=(3, 3), stride=(1, 1), padding=(1, 1), bias=False)\n",
            "mask_out_ratio:  0.5\n"
          ]
        },
        {
          "output_type": "stream",
          "name": "stderr",
          "text": [
            "\r 19%|█▉        | 3/16 [00:02<00:09,  1.43it/s]"
          ]
        },
        {
          "output_type": "stream",
          "name": "stdout",
          "text": [
            "random_mask sum():  tensor(12829168., device='cuda:0')\n",
            "mask_out_ratio:  0.5\n",
            "random_mask sum():  tensor(6415468., device='cuda:0')\n",
            "Remove the hook used to perform Activation Shaping on layer  layer1.1.conv2\n",
            "Remove the hook used to perform Activation Shaping on layer  layer2.1.conv2\n",
            "Register a hook to perform Random Maps Ablation on layer  layer1.1.conv2 Conv2d(64, 64, kernel_size=(3, 3), stride=(1, 1), padding=(1, 1), bias=False)\n",
            "Register a hook to perform Random Maps Ablation on layer  layer2.1.conv2 Conv2d(128, 128, kernel_size=(3, 3), stride=(1, 1), padding=(1, 1), bias=False)\n",
            "mask_out_ratio:  0.5\n",
            "random_mask sum():  "
          ]
        },
        {
          "output_type": "stream",
          "name": "stderr",
          "text": [
            "\r 25%|██▌       | 4/16 [00:03<00:06,  1.96it/s]"
          ]
        },
        {
          "output_type": "stream",
          "name": "stdout",
          "text": [
            "tensor(12831496., device='cuda:0')\n",
            "mask_out_ratio:  0.5\n",
            "random_mask sum():  tensor(6414520., device='cuda:0')\n",
            "Remove the hook used to perform Activation Shaping on layer  layer1.1.conv2\n",
            "Remove the hook used to perform Activation Shaping on layer  layer2.1.conv2\n",
            "Register a hook to perform Random Maps Ablation on layer  layer1.1.conv2 Conv2d(64, 64, kernel_size=(3, 3), stride=(1, 1), padding=(1, 1), bias=False)\n",
            "Register a hook to perform Random Maps Ablation on layer  layer2.1.conv2 Conv2d(128, 128, kernel_size=(3, 3), stride=(1, 1), padding=(1, 1), bias=False)\n",
            "mask_out_ratio:  0.5\n",
            "random_mask sum():  "
          ]
        },
        {
          "output_type": "stream",
          "name": "stderr",
          "text": [
            "\r 31%|███▏      | 5/16 [00:03<00:04,  2.49it/s]"
          ]
        },
        {
          "output_type": "stream",
          "name": "stdout",
          "text": [
            "tensor(12833720., device='cuda:0')\n",
            "mask_out_ratio:  0.5\n",
            "random_mask sum():  tensor(6416471., device='cuda:0')\n",
            "Remove the hook used to perform Activation Shaping on layer  layer1.1.conv2\n",
            "Remove the hook used to perform Activation Shaping on layer  layer2.1.conv2\n"
          ]
        },
        {
          "output_type": "stream",
          "name": "stderr",
          "text": [
            "\r 38%|███▊      | 6/16 [00:04<00:08,  1.18it/s]"
          ]
        },
        {
          "output_type": "stream",
          "name": "stdout",
          "text": [
            "Register a hook to perform Random Maps Ablation on layer  layer1.1.conv2 Conv2d(64, 64, kernel_size=(3, 3), stride=(1, 1), padding=(1, 1), bias=False)\n",
            "Register a hook to perform Random Maps Ablation on layer  layer2.1.conv2 Conv2d(128, 128, kernel_size=(3, 3), stride=(1, 1), padding=(1, 1), bias=False)\n",
            "mask_out_ratio:  0.5\n",
            "random_mask sum():  tensor(12832527., device='cuda:0')\n",
            "mask_out_ratio:  0.5\n",
            "random_mask sum():  tensor(6417217., device='cuda:0')\n",
            "Remove the hook used to perform Activation Shaping on layer  layer1.1.conv2\n",
            "Remove the hook used to perform Activation Shaping on layer  layer2.1.conv2\n"
          ]
        },
        {
          "output_type": "stream",
          "name": "stderr",
          "text": [
            "\r 44%|████▍     | 7/16 [00:05<00:05,  1.57it/s]"
          ]
        },
        {
          "output_type": "stream",
          "name": "stdout",
          "text": [
            "Register a hook to perform Random Maps Ablation on layer  layer1.1.conv2 Conv2d(64, 64, kernel_size=(3, 3), stride=(1, 1), padding=(1, 1), bias=False)\n",
            "Register a hook to perform Random Maps Ablation on layer  layer2.1.conv2 Conv2d(128, 128, kernel_size=(3, 3), stride=(1, 1), padding=(1, 1), bias=False)\n",
            "mask_out_ratio:  0.5\n",
            "random_mask sum():  tensor(12832560., device='cuda:0')\n",
            "mask_out_ratio:  0.5\n",
            "random_mask sum():  tensor(6414653., device='cuda:0')\n",
            "Remove the hook used to perform Activation Shaping on layer  layer1.1.conv2\n",
            "Remove the hook used to perform Activation Shaping on layer  layer2.1.conv2\n",
            "Register a hook to perform Random Maps Ablation on layer  layer1.1.conv2 "
          ]
        },
        {
          "output_type": "stream",
          "name": "stderr",
          "text": [
            "\r 50%|█████     | 8/16 [00:05<00:04,  1.98it/s]"
          ]
        },
        {
          "output_type": "stream",
          "name": "stdout",
          "text": [
            "Conv2d(64, 64, kernel_size=(3, 3), stride=(1, 1), padding=(1, 1), bias=False)\n",
            "Register a hook to perform Random Maps Ablation on layer  layer2.1.conv2 Conv2d(128, 128, kernel_size=(3, 3), stride=(1, 1), padding=(1, 1), bias=False)\n",
            "mask_out_ratio:  0.5\n",
            "random_mask sum():  tensor(12835280., device='cuda:0')\n",
            "mask_out_ratio:  0.5\n",
            "random_mask sum():  tensor(6416216., device='cuda:0')\n",
            "Remove the hook used to perform Activation Shaping on layer  layer1.1.conv2\n",
            "Remove the hook used to perform Activation Shaping on layer  layer2.1.conv2\n",
            "Register a hook to perform Random Maps Ablation on layer  layer1.1.conv2 Conv2d(64, 64, kernel_size=(3, 3), stride=(1, 1), padding=(1, 1), bias=False)\n",
            "Register a hook to perform Random Maps Ablation on layer  layer2.1.conv2 Conv2d(128, 128, kernel_size=(3, 3), stride=(1, 1), padding=(1, 1), bias=False)\n",
            "mask_out_ratio:  0.5\n",
            "random_mask sum():  tensor(12830005., device='cuda:0')\n",
            "mask_out_ratio:  0.5\n",
            "random_mask sum():  tensor(6416658., device='cuda:0')\n",
            "Remove the hook used to perform Activation Shaping on layer  layer1.1.conv2\n",
            "Remove the hook used to perform Activation Shaping on layer  layer2.1.conv2\n"
          ]
        },
        {
          "output_type": "stream",
          "name": "stderr",
          "text": [
            " 62%|██████▎   | 10/16 [00:05<00:02,  2.86it/s]"
          ]
        },
        {
          "output_type": "stream",
          "name": "stdout",
          "text": [
            "Register a hook to perform Random Maps Ablation on layer  layer1.1.conv2 Conv2d(64, 64, kernel_size=(3, 3), stride=(1, 1), padding=(1, 1), bias=False)\n",
            "Register a hook to perform Random Maps Ablation on layer  layer2.1.conv2 Conv2d(128, 128, kernel_size=(3, 3), stride=(1, 1), padding=(1, 1), bias=False)\n",
            "mask_out_ratio:  0.5\n",
            "random_mask sum():  tensor(12832616., device='cuda:0')\n",
            "mask_out_ratio:  0.5\n",
            "random_mask sum():  tensor(6417630., device='cuda:0')\n",
            "Remove the hook used to perform Activation Shaping on layer  layer1.1.conv2\n",
            "Remove the hook used to perform Activation Shaping on layer  layer2.1.conv2\n"
          ]
        },
        {
          "output_type": "stream",
          "name": "stderr",
          "text": [
            "\r 69%|██████▉   | 11/16 [00:07<00:03,  1.59it/s]"
          ]
        },
        {
          "output_type": "stream",
          "name": "stdout",
          "text": [
            "Register a hook to perform Random Maps Ablation on layer  layer1.1.conv2 Conv2d(64, 64, kernel_size=(3, 3), stride=(1, 1), padding=(1, 1), bias=False)\n",
            "Register a hook to perform Random Maps Ablation on layer  layer2.1.conv2 Conv2d(128, 128, kernel_size=(3, 3), stride=(1, 1), padding=(1, 1), bias=False)\n",
            "mask_out_ratio:  0.5\n",
            "random_mask sum():  tensor(12833834., device='cuda:0')\n",
            "mask_out_ratio:  0.5\n",
            "random_mask sum():  tensor(6415790., device='cuda:0')\n",
            "Remove the hook used to perform Activation Shaping on layer  layer1.1.conv2\n",
            "Remove the hook used to perform Activation Shaping on layer  layer2.1.conv2\n",
            "Register a hook to perform Random Maps Ablation on layer  layer1.1.conv2 Conv2d(64, 64, kernel_size=(3, 3), stride=(1, 1), padding=(1, 1), bias=False)\n",
            "Register a hook to perform Random Maps Ablation on layer  layer2.1.conv2 Conv2d(128, 128, kernel_size=(3, 3), stride=(1, 1), padding=(1, 1), bias=False)\n",
            "mask_out_ratio:  0.5\n",
            "random_mask sum():  "
          ]
        },
        {
          "output_type": "stream",
          "name": "stderr",
          "text": [
            "\r 75%|███████▌  | 12/16 [00:07<00:01,  2.02it/s]"
          ]
        },
        {
          "output_type": "stream",
          "name": "stdout",
          "text": [
            "tensor(12834268., device='cuda:0')\n",
            "mask_out_ratio:  0.5\n",
            "random_mask sum():  tensor(6416140., device='cuda:0')\n",
            "Remove the hook used to perform Activation Shaping on layer  layer1.1.conv2\n",
            "Remove the hook used to perform Activation Shaping on layer  layer2.1.conv2\n",
            "Register a hook to perform Random Maps Ablation on layer  layer1.1.conv2 Conv2d(64, 64, kernel_size=(3, 3), stride=(1, 1), padding=(1, 1), bias=False)\n",
            "Register a hook to perform Random Maps Ablation on layer  layer2.1.conv2 Conv2d(128, 128, kernel_size=(3, 3), stride=(1, 1), padding=(1, 1), bias=False)\n",
            "mask_out_ratio:  0.5\n",
            "random_mask sum():  "
          ]
        },
        {
          "output_type": "stream",
          "name": "stderr",
          "text": [
            "\r 81%|████████▏ | 13/16 [00:07<00:01,  2.47it/s]"
          ]
        },
        {
          "output_type": "stream",
          "name": "stdout",
          "text": [
            "tensor(12834224., device='cuda:0')\n",
            "mask_out_ratio:  0.5\n",
            "random_mask sum():  tensor(6416065., device='cuda:0')\n",
            "Remove the hook used to perform Activation Shaping on layer  layer1.1.conv2\n",
            "Remove the hook used to perform Activation Shaping on layer  layer2.1.conv2\n",
            "Register a hook to perform Random Maps Ablation on layer  layer1.1.conv2 Conv2d(64, 64, kernel_size=(3, 3), stride=(1, 1), padding=(1, 1), bias=False)\n",
            "Register a hook to perform Random Maps Ablation on layer  layer2.1.conv2 Conv2d(128, 128, kernel_size=(3, 3), stride=(1, 1), padding=(1, 1), bias=False)\n",
            "mask_out_ratio:  0.5\n",
            "random_mask sum():  tensor(12833013., device='cuda:0')\n",
            "mask_out_ratio:  0.5\n",
            "random_mask sum():  "
          ]
        },
        {
          "output_type": "stream",
          "name": "stderr",
          "text": [
            "\r 88%|████████▊ | 14/16 [00:07<00:00,  2.96it/s]"
          ]
        },
        {
          "output_type": "stream",
          "name": "stdout",
          "text": [
            "tensor(6415532., device='cuda:0')\n",
            "Remove the hook used to perform Activation Shaping on layer  layer1.1.conv2\n",
            "Remove the hook used to perform Activation Shaping on layer  layer2.1.conv2\n",
            "Register a hook to perform Random Maps Ablation on layer  layer1.1.conv2 Conv2d(64, 64, kernel_size=(3, 3), stride=(1, 1), padding=(1, 1), bias=False)\n",
            "Register a hook to perform Random Maps Ablation on layer  layer2.1.conv2 Conv2d(128, 128, kernel_size=(3, 3), stride=(1, 1), padding=(1, 1), bias=False)\n",
            "mask_out_ratio:  0.5\n",
            "random_mask sum():  tensor(12832953., device='cuda:0')\n",
            "mask_out_ratio:  0.5\n",
            "random_mask sum():  tensor(6415068., device='cuda:0')\n",
            "Remove the hook used to perform Activation Shaping on layer  layer1.1.conv2\n",
            "Remove the hook used to perform Activation Shaping on layer  layer2.1.conv2\n"
          ]
        },
        {
          "output_type": "stream",
          "name": "stderr",
          "text": [
            "100%|██████████| 16/16 [00:08<00:00,  1.97it/s]\n"
          ]
        },
        {
          "output_type": "stream",
          "name": "stdout",
          "text": [
            "Register a hook to perform Random Maps Ablation on layer  layer1.1.conv2 Conv2d(64, 64, kernel_size=(3, 3), stride=(1, 1), padding=(1, 1), bias=False)\n",
            "Register a hook to perform Random Maps Ablation on layer  layer2.1.conv2 Conv2d(128, 128, kernel_size=(3, 3), stride=(1, 1), padding=(1, 1), bias=False)\n",
            "mask_out_ratio:  0.5\n",
            "random_mask sum():  tensor(12834679., device='cuda:0')\n",
            "mask_out_ratio:  0.5\n",
            "random_mask sum():  tensor(6415347., device='cuda:0')\n",
            "Remove the hook used to perform Activation Shaping on layer  layer1.1.conv2\n",
            "Remove the hook used to perform Activation Shaping on layer  layer2.1.conv2\n"
          ]
        },
        {
          "output_type": "stream",
          "name": "stderr",
          "text": [
            "100%|██████████| 31/31 [00:11<00:00,  2.69it/s]\n"
          ]
        },
        {
          "output_type": "stream",
          "name": "stdout",
          "text": [
            "Accuracy: 43.75 - Loss: 0.013154064161718635 \n",
            "\n"
          ]
        },
        {
          "output_type": "stream",
          "name": "stderr",
          "text": [
            "\r  0%|          | 0/16 [00:00<?, ?it/s]"
          ]
        },
        {
          "output_type": "stream",
          "name": "stdout",
          "text": [
            "Register a hook to perform Random Maps Ablation on layer  layer1.1.conv2 Conv2d(64, 64, kernel_size=(3, 3), stride=(1, 1), padding=(1, 1), bias=False)\n",
            "Register a hook to perform Random Maps Ablation on layer  layer2.1.conv2 Conv2d(128, 128, kernel_size=(3, 3), stride=(1, 1), padding=(1, 1), bias=False)\n",
            "mask_out_ratio:  0.5\n",
            "random_mask sum():  tensor(12830405., device='cuda:0')\n",
            "mask_out_ratio:  0.5\n",
            "random_mask sum():  tensor(6417559., device='cuda:0')\n",
            "Remove the hook used to perform Activation Shaping on layer  layer1.1.conv2\n",
            "Remove the hook used to perform Activation Shaping on layer  layer2.1.conv2\n"
          ]
        },
        {
          "output_type": "stream",
          "name": "stderr",
          "text": [
            "\r  6%|▋         | 1/16 [00:03<00:59,  3.96s/it]"
          ]
        },
        {
          "output_type": "stream",
          "name": "stdout",
          "text": [
            "Register a hook to perform Random Maps Ablation on layer  layer1.1.conv2 Conv2d(64, 64, kernel_size=(3, 3), stride=(1, 1), padding=(1, 1), bias=False)\n",
            "Register a hook to perform Random Maps Ablation on layer  layer2.1.conv2 Conv2d(128, 128, kernel_size=(3, 3), stride=(1, 1), padding=(1, 1), bias=False)\n",
            "mask_out_ratio:  0.5\n",
            "random_mask sum():  tensor(12831487., device='cuda:0')\n",
            "mask_out_ratio:  0.5\n",
            "random_mask sum():  tensor(6414740., device='cuda:0')\n",
            "Remove the hook used to perform Activation Shaping on layer  layer1.1.conv2\n",
            "Remove the hook used to perform Activation Shaping on layer  layer2.1.conv2\n"
          ]
        },
        {
          "output_type": "stream",
          "name": "stderr",
          "text": [
            " 19%|█▉        | 3/16 [00:04<00:13,  1.05s/it]"
          ]
        },
        {
          "output_type": "stream",
          "name": "stdout",
          "text": [
            "Register a hook to perform Random Maps Ablation on layer  layer1.1.conv2 Conv2d(64, 64, kernel_size=(3, 3), stride=(1, 1), padding=(1, 1), bias=False)\n",
            "Register a hook to perform Random Maps Ablation on layer  layer2.1.conv2 Conv2d(128, 128, kernel_size=(3, 3), stride=(1, 1), padding=(1, 1), bias=False)\n",
            "mask_out_ratio:  0.5\n",
            "random_mask sum():  tensor(12837112., device='cuda:0')\n",
            "mask_out_ratio:  0.5\n",
            "random_mask sum():  tensor(6420324., device='cuda:0')\n",
            "Remove the hook used to perform Activation Shaping on layer  layer1.1.conv2\n",
            "Remove the hook used to perform Activation Shaping on layer  layer2.1.conv2\n"
          ]
        },
        {
          "output_type": "stream",
          "name": "stderr",
          "text": [
            "\r 25%|██▌       | 4/16 [00:04<00:08,  1.38it/s]"
          ]
        },
        {
          "output_type": "stream",
          "name": "stdout",
          "text": [
            "Register a hook to perform Random Maps Ablation on layer  layer1.1.conv2 Conv2d(64, 64, kernel_size=(3, 3), stride=(1, 1), padding=(1, 1), bias=False)\n",
            "Register a hook to perform Random Maps Ablation on layer  layer2.1.conv2 Conv2d(128, 128, kernel_size=(3, 3), stride=(1, 1), padding=(1, 1), bias=False)\n",
            "mask_out_ratio:  0.5\n",
            "random_mask sum():  tensor(12833085., device='cuda:0')\n",
            "mask_out_ratio:  0.5\n",
            "random_mask sum():  tensor(6417048., device='cuda:0')\n",
            "Remove the hook used to perform Activation Shaping on layer  layer1.1.conv2\n",
            "Remove the hook used to perform Activation Shaping on layer  layer2.1.conv2\n"
          ]
        },
        {
          "output_type": "stream",
          "name": "stderr",
          "text": [
            "\r 31%|███▏      | 5/16 [00:04<00:05,  1.87it/s]"
          ]
        },
        {
          "output_type": "stream",
          "name": "stdout",
          "text": [
            "Register a hook to perform Random Maps Ablation on layer  layer1.1.conv2 Conv2d(64, 64, kernel_size=(3, 3), stride=(1, 1), padding=(1, 1), bias=False)\n",
            "Register a hook to perform Random Maps Ablation on layer  layer2.1.conv2 Conv2d(128, 128, kernel_size=(3, 3), stride=(1, 1), padding=(1, 1), bias=False)\n",
            "mask_out_ratio:  0.5\n",
            "random_mask sum():  tensor(12828876., device='cuda:0')\n",
            "mask_out_ratio:  0.5\n",
            "random_mask sum():  tensor(6417407., device='cuda:0')\n",
            "Remove the hook used to perform Activation Shaping on layer  layer1.1.conv2\n",
            "Remove the hook used to perform Activation Shaping on layer  layer2.1.conv2\n"
          ]
        },
        {
          "output_type": "stream",
          "name": "stderr",
          "text": [
            "\r 38%|███▊      | 6/16 [00:06<00:09,  1.07it/s]"
          ]
        },
        {
          "output_type": "stream",
          "name": "stdout",
          "text": [
            "Register a hook to perform Random Maps Ablation on layer  layer1.1.conv2 Conv2d(64, 64, kernel_size=(3, 3), stride=(1, 1), padding=(1, 1), bias=False)\n",
            "Register a hook to perform Random Maps Ablation on layer  layer2.1.conv2 Conv2d(128, 128, kernel_size=(3, 3), stride=(1, 1), padding=(1, 1), bias=False)\n",
            "mask_out_ratio:  0.5\n",
            "random_mask sum():  tensor(12834605., device='cuda:0')\n",
            "mask_out_ratio:  0.5\n",
            "random_mask sum():  tensor(6415144., device='cuda:0')\n",
            "Remove the hook used to perform Activation Shaping on layer  layer1.1.conv2\n",
            "Remove the hook used to perform Activation Shaping on layer  layer2.1.conv2\n"
          ]
        },
        {
          "output_type": "stream",
          "name": "stderr",
          "text": [
            "\r 44%|████▍     | 7/16 [00:06<00:06,  1.43it/s]"
          ]
        },
        {
          "output_type": "stream",
          "name": "stdout",
          "text": [
            "Register a hook to perform Random Maps Ablation on layer  layer1.1.conv2 Conv2d(64, 64, kernel_size=(3, 3), stride=(1, 1), padding=(1, 1), bias=False)\n",
            "Register a hook to perform Random Maps Ablation on layer  layer2.1.conv2 Conv2d(128, 128, kernel_size=(3, 3), stride=(1, 1), padding=(1, 1), bias=False)\n",
            "mask_out_ratio:  0.5\n",
            "random_mask sum():  tensor(12835406., device='cuda:0')\n",
            "mask_out_ratio:  0.5\n",
            "random_mask sum():  tensor(6416206., device='cuda:0')\n",
            "Remove the hook used to perform Activation Shaping on layer  layer1.1.conv2\n",
            "Remove the hook used to perform Activation Shaping on layer  layer2.1.conv2\n"
          ]
        },
        {
          "output_type": "stream",
          "name": "stderr",
          "text": [
            "\r 50%|█████     | 8/16 [00:06<00:04,  1.85it/s]"
          ]
        },
        {
          "output_type": "stream",
          "name": "stdout",
          "text": [
            "Register a hook to perform Random Maps Ablation on layer  layer1.1.conv2 Conv2d(64, 64, kernel_size=(3, 3), stride=(1, 1), padding=(1, 1), bias=False)\n",
            "Register a hook to perform Random Maps Ablation on layer  layer2.1.conv2 Conv2d(128, 128, kernel_size=(3, 3), stride=(1, 1), padding=(1, 1), bias=False)\n",
            "mask_out_ratio:  0.5\n",
            "random_mask sum():  tensor(12827010., device='cuda:0')\n",
            "mask_out_ratio:  0.5\n",
            "random_mask sum():  tensor(6419192., device='cuda:0')\n",
            "Remove the hook used to perform Activation Shaping on layer  layer1.1.conv2\n",
            "Remove the hook used to perform Activation Shaping on layer  layer2.1.conv2\n",
            "Register a hook to perform Random Maps Ablation on layer  layer1.1.conv2 Conv2d(64, 64, kernel_size=(3, 3), stride=(1, 1), padding=(1, 1), bias=False)\n",
            "Register a hook to perform Random Maps Ablation on layer  layer2.1.conv2 Conv2d(128, 128, kernel_size=(3, 3), stride=(1, 1), padding=(1, 1), bias=False)\n",
            "mask_out_ratio:  0.5\n",
            "random_mask sum():  tensor(12827364., device='cuda:0')\n",
            "mask_out_ratio:  0.5\n",
            "random_mask sum():  tensor(6418988., device='cuda:0')\n",
            "Remove the hook used to perform Activation Shaping on layer  layer1.1.conv2\n",
            "Remove the hook used to perform Activation Shaping on layer  layer2.1.conv2\n"
          ]
        },
        {
          "output_type": "stream",
          "name": "stderr",
          "text": [
            "\r 56%|█████▋    | 9/16 [00:07<00:03,  2.26it/s]"
          ]
        },
        {
          "output_type": "stream",
          "name": "stdout",
          "text": [
            "Register a hook to perform Random Maps Ablation on layer  layer1.1.conv2 Conv2d(64, 64, kernel_size=(3, 3), stride=(1, 1), padding=(1, 1), bias=False)\n",
            "Register a hook to perform Random Maps Ablation on layer  layer2.1.conv2 Conv2d(128, 128, kernel_size=(3, 3), stride=(1, 1), padding=(1, 1), bias=False)\n",
            "mask_out_ratio:  0.5\n",
            "random_mask sum():  tensor(12834689., device='cuda:0')\n",
            "mask_out_ratio:  0.5\n",
            "random_mask sum():  tensor(6415932., device='cuda:0')\n",
            "Remove the hook used to perform Activation Shaping on layer  layer1.1.conv2\n",
            "Remove the hook used to perform Activation Shaping on layer  layer2.1.conv2\n"
          ]
        },
        {
          "output_type": "stream",
          "name": "stderr",
          "text": [
            " 69%|██████▉   | 11/16 [00:08<00:03,  1.47it/s]"
          ]
        },
        {
          "output_type": "stream",
          "name": "stdout",
          "text": [
            "Register a hook to perform Random Maps Ablation on layer  layer1.1.conv2 Conv2d(64, 64, kernel_size=(3, 3), stride=(1, 1), padding=(1, 1), bias=False)\n",
            "Register a hook to perform Random Maps Ablation on layer  layer2.1.conv2 Conv2d(128, 128, kernel_size=(3, 3), stride=(1, 1), padding=(1, 1), bias=False)\n",
            "mask_out_ratio:  0.5\n",
            "random_mask sum():  tensor(12828216., device='cuda:0')\n",
            "mask_out_ratio:  0.5\n",
            "random_mask sum():  tensor(6417921., device='cuda:0')\n",
            "Remove the hook used to perform Activation Shaping on layer  layer1.1.conv2\n",
            "Remove the hook used to perform Activation Shaping on layer  layer2.1.conv2\n",
            "Register a hook to perform Random Maps Ablation on layer  layer1.1.conv2 Conv2d(64, 64, kernel_size=(3, 3), stride=(1, 1), padding=(1, 1), bias=False)\n",
            "Register a hook to perform Random Maps Ablation on layer  layer2.1.conv2 Conv2d(128, 128, kernel_size=(3, 3), stride=(1, 1), padding=(1, 1), bias=False)\n",
            "mask_out_ratio:  0.5\n",
            "random_mask sum():  "
          ]
        },
        {
          "output_type": "stream",
          "name": "stderr",
          "text": [
            "\r 75%|███████▌  | 12/16 [00:08<00:02,  1.88it/s]"
          ]
        },
        {
          "output_type": "stream",
          "name": "stdout",
          "text": [
            "tensor(12835030., device='cuda:0')\n",
            "mask_out_ratio:  0.5\n",
            "random_mask sum():  tensor(6411950., device='cuda:0')\n",
            "Remove the hook used to perform Activation Shaping on layer  layer1.1.conv2\n",
            "Remove the hook used to perform Activation Shaping on layer  layer2.1.conv2\n",
            "Register a hook to perform Random Maps Ablation on layer  layer1.1.conv2 Conv2d(64, 64, kernel_size=(3, 3), stride=(1, 1), padding=(1, 1), bias=False)\n",
            "Register a hook to perform Random Maps Ablation on layer  layer2.1.conv2 Conv2d(128, 128, kernel_size=(3, 3), stride=(1, 1), padding=(1, 1), bias=False)\n",
            "mask_out_ratio:  0.5\n",
            "random_mask sum():  tensor(12834385., device='cuda:0')\n",
            "mask_out_ratio:  0.5\n",
            "random_mask sum():  "
          ]
        },
        {
          "output_type": "stream",
          "name": "stderr",
          "text": [
            "\r 81%|████████▏ | 13/16 [00:09<00:01,  2.35it/s]"
          ]
        },
        {
          "output_type": "stream",
          "name": "stdout",
          "text": [
            "tensor(6418046., device='cuda:0')\n",
            "Remove the hook used to perform Activation Shaping on layer  layer1.1.conv2\n",
            "Remove the hook used to perform Activation Shaping on layer  layer2.1.conv2\n",
            "Register a hook to perform Random Maps Ablation on layer  layer1.1.conv2 Conv2d(64, 64, kernel_size=(3, 3), stride=(1, 1), padding=(1, 1), bias=False)\n",
            "Register a hook to perform Random Maps Ablation on layer  layer2.1.conv2 Conv2d(128, 128, kernel_size=(3, 3), stride=(1, 1), padding=(1, 1), bias=False)\n",
            "mask_out_ratio:  0.5\n",
            "random_mask sum():  tensor(12833324., device='cuda:0')\n",
            "mask_out_ratio:  0.5\n",
            "random_mask sum():  tensor(6417691., device='cuda:0')\n",
            "Remove the hook used to perform Activation Shaping on layer  layer1.1.conv2\n",
            "Remove the hook used to perform Activation Shaping on layer  layer2.1.conv2\n"
          ]
        },
        {
          "output_type": "stream",
          "name": "stderr",
          "text": [
            " 94%|█████████▍| 15/16 [00:09<00:00,  3.28it/s]"
          ]
        },
        {
          "output_type": "stream",
          "name": "stdout",
          "text": [
            "Register a hook to perform Random Maps Ablation on layer  layer1.1.conv2 Conv2d(64, 64, kernel_size=(3, 3), stride=(1, 1), padding=(1, 1), bias=False)\n",
            "Register a hook to perform Random Maps Ablation on layer  layer2.1.conv2 Conv2d(128, 128, kernel_size=(3, 3), stride=(1, 1), padding=(1, 1), bias=False)\n",
            "mask_out_ratio:  0.5\n",
            "random_mask sum():  tensor(12833823., device='cuda:0')\n",
            "mask_out_ratio:  0.5\n",
            "random_mask sum():  tensor(6415970., device='cuda:0')\n",
            "Remove the hook used to perform Activation Shaping on layer  layer1.1.conv2\n",
            "Remove the hook used to perform Activation Shaping on layer  layer2.1.conv2\n",
            "Register a hook to perform Random Maps Ablation on layer  layer1.1.conv2 Conv2d(64, 64, kernel_size=(3, 3), stride=(1, 1), padding=(1, 1), bias=False)\n",
            "Register a hook to perform Random Maps Ablation on layer  layer2.1.conv2 Conv2d(128, 128, kernel_size=(3, 3), stride=(1, 1), padding=(1, 1), bias=False)\n",
            "mask_out_ratio:  0.5\n",
            "random_mask sum():  "
          ]
        },
        {
          "output_type": "stream",
          "name": "stderr",
          "text": [
            "100%|██████████| 16/16 [00:09<00:00,  1.65it/s]\n"
          ]
        },
        {
          "output_type": "stream",
          "name": "stdout",
          "text": [
            "tensor(12831796., device='cuda:0')\n",
            "mask_out_ratio:  0.5\n",
            "random_mask sum():  tensor(6414132., device='cuda:0')\n",
            "Remove the hook used to perform Activation Shaping on layer  layer1.1.conv2\n",
            "Remove the hook used to perform Activation Shaping on layer  layer2.1.conv2\n"
          ]
        },
        {
          "output_type": "stream",
          "name": "stderr",
          "text": [
            "100%|██████████| 31/31 [00:11<00:00,  2.71it/s]\n"
          ]
        },
        {
          "output_type": "stream",
          "name": "stdout",
          "text": [
            "Accuracy: 43.78 - Loss: 0.01306039366475739 \n",
            "\n"
          ]
        },
        {
          "output_type": "stream",
          "name": "stderr",
          "text": [
            "\r  0%|          | 0/16 [00:00<?, ?it/s]"
          ]
        },
        {
          "output_type": "stream",
          "name": "stdout",
          "text": [
            "Register a hook to perform Random Maps Ablation on layer  layer1.1.conv2 Conv2d(64, 64, kernel_size=(3, 3), stride=(1, 1), padding=(1, 1), bias=False)\n",
            "Register a hook to perform Random Maps Ablation on layer  layer2.1.conv2 Conv2d(128, 128, kernel_size=(3, 3), stride=(1, 1), padding=(1, 1), bias=False)\n",
            "mask_out_ratio:  0.5\n",
            "random_mask sum():  tensor(12836012., device='cuda:0')\n",
            "mask_out_ratio:  0.5\n",
            "random_mask sum():  tensor(6413682., device='cuda:0')\n",
            "Remove the hook used to perform Activation Shaping on layer  layer1.1.conv2\n",
            "Remove the hook used to perform Activation Shaping on layer  layer2.1.conv2\n"
          ]
        },
        {
          "output_type": "stream",
          "name": "stderr",
          "text": [
            "\r  6%|▋         | 1/16 [00:02<00:34,  2.31s/it]"
          ]
        },
        {
          "output_type": "stream",
          "name": "stdout",
          "text": [
            "Register a hook to perform Random Maps Ablation on layer  layer1.1.conv2 Conv2d(64, 64, kernel_size=(3, 3), stride=(1, 1), padding=(1, 1), bias=False)\n",
            "Register a hook to perform Random Maps Ablation on layer  layer2.1.conv2 Conv2d(128, 128, kernel_size=(3, 3), stride=(1, 1), padding=(1, 1), bias=False)\n",
            "mask_out_ratio:  0.5\n",
            "random_mask sum():  tensor(12832555., device='cuda:0')\n",
            "mask_out_ratio:  0.5\n",
            "random_mask sum():  tensor(6414277., device='cuda:0')\n",
            "Remove the hook used to perform Activation Shaping on layer  layer1.1.conv2\n",
            "Remove the hook used to perform Activation Shaping on layer  layer2.1.conv2\n"
          ]
        },
        {
          "output_type": "stream",
          "name": "stderr",
          "text": [
            " 19%|█▉        | 3/16 [00:03<00:10,  1.26it/s]"
          ]
        },
        {
          "output_type": "stream",
          "name": "stdout",
          "text": [
            "Register a hook to perform Random Maps Ablation on layer  layer1.1.conv2 Conv2d(64, 64, kernel_size=(3, 3), stride=(1, 1), padding=(1, 1), bias=False)\n",
            "Register a hook to perform Random Maps Ablation on layer  layer2.1.conv2 Conv2d(128, 128, kernel_size=(3, 3), stride=(1, 1), padding=(1, 1), bias=False)\n",
            "mask_out_ratio:  0.5\n",
            "random_mask sum():  tensor(12835684., device='cuda:0')\n",
            "mask_out_ratio:  0.5\n",
            "random_mask sum():  tensor(6417795., device='cuda:0')\n",
            "Remove the hook used to perform Activation Shaping on layer  layer1.1.conv2\n",
            "Remove the hook used to perform Activation Shaping on layer  layer2.1.conv2\n"
          ]
        },
        {
          "output_type": "stream",
          "name": "stderr",
          "text": [
            "\r 25%|██▌       | 4/16 [00:03<00:06,  1.75it/s]"
          ]
        },
        {
          "output_type": "stream",
          "name": "stdout",
          "text": [
            "Register a hook to perform Random Maps Ablation on layer  layer1.1.conv2 Conv2d(64, 64, kernel_size=(3, 3), stride=(1, 1), padding=(1, 1), bias=False)\n",
            "Register a hook to perform Random Maps Ablation on layer  layer2.1.conv2 Conv2d(128, 128, kernel_size=(3, 3), stride=(1, 1), padding=(1, 1), bias=False)\n",
            "mask_out_ratio:  0.5\n",
            "random_mask sum():  tensor(12835249., device='cuda:0')\n",
            "mask_out_ratio:  0.5\n",
            "random_mask sum():  tensor(6416141., device='cuda:0')\n",
            "Remove the hook used to perform Activation Shaping on layer  layer1.1.conv2\n",
            "Remove the hook used to perform Activation Shaping on layer  layer2.1.conv2\n"
          ]
        },
        {
          "output_type": "stream",
          "name": "stderr",
          "text": [
            "\r 31%|███▏      | 5/16 [00:03<00:04,  2.23it/s]"
          ]
        },
        {
          "output_type": "stream",
          "name": "stdout",
          "text": [
            "Register a hook to perform Random Maps Ablation on layer  layer1.1.conv2 Conv2d(64, 64, kernel_size=(3, 3), stride=(1, 1), padding=(1, 1), bias=False)\n",
            "Register a hook to perform Random Maps Ablation on layer  layer2.1.conv2 Conv2d(128, 128, kernel_size=(3, 3), stride=(1, 1), padding=(1, 1), bias=False)\n",
            "mask_out_ratio:  0.5\n",
            "random_mask sum():  tensor(12831512., device='cuda:0')\n",
            "mask_out_ratio:  0.5\n",
            "random_mask sum():  tensor(6419333., device='cuda:0')\n",
            "Remove the hook used to perform Activation Shaping on layer  layer1.1.conv2\n",
            "Remove the hook used to perform Activation Shaping on layer  layer2.1.conv2\n"
          ]
        },
        {
          "output_type": "stream",
          "name": "stderr",
          "text": [
            "\r 38%|███▊      | 6/16 [00:04<00:07,  1.35it/s]"
          ]
        },
        {
          "output_type": "stream",
          "name": "stdout",
          "text": [
            "Register a hook to perform Random Maps Ablation on layer  layer1.1.conv2 Conv2d(64, 64, kernel_size=(3, 3), stride=(1, 1), padding=(1, 1), bias=False)\n",
            "Register a hook to perform Random Maps Ablation on layer  layer2.1.conv2 Conv2d(128, 128, kernel_size=(3, 3), stride=(1, 1), padding=(1, 1), bias=False)\n",
            "mask_out_ratio:  0.5\n",
            "random_mask sum():  tensor(12828924., device='cuda:0')\n",
            "mask_out_ratio:  0.5\n",
            "random_mask sum():  tensor(6416060., device='cuda:0')\n",
            "Remove the hook used to perform Activation Shaping on layer  layer1.1.conv2\n",
            "Remove the hook used to perform Activation Shaping on layer  layer2.1.conv2\n",
            "Register a hook to perform Random Maps Ablation on layer  layer1.1.conv2 Conv2d(64, 64, kernel_size=(3, 3), stride=(1, 1), padding=(1, 1), bias=False)\n",
            "Register a hook to perform Random Maps Ablation on layer  layer2.1.conv2 Conv2d(128, 128, kernel_size=(3, 3), stride=(1, 1), padding=(1, 1), bias=False)\n",
            "mask_out_ratio:  0.5\n",
            "random_mask sum():  tensor(12829498., device='cuda:0')\n",
            "mask_out_ratio:  0.5\n",
            "random_mask sum():  tensor(6416293., device='cuda:0')\n",
            "Remove the hook used to perform Activation Shaping on layer  layer1.1.conv2\n",
            "Remove the hook used to perform Activation Shaping on layer  layer2.1.conv2\n"
          ]
        },
        {
          "output_type": "stream",
          "name": "stderr",
          "text": [
            "\r 44%|████▍     | 7/16 [00:05<00:06,  1.37it/s]"
          ]
        },
        {
          "output_type": "stream",
          "name": "stdout",
          "text": [
            "Register a hook to perform Random Maps Ablation on layer  layer1.1.conv2 Conv2d(64, 64, kernel_size=(3, 3), stride=(1, 1), padding=(1, 1), bias=False)\n",
            "Register a hook to perform Random Maps Ablation on layer  layer2.1.conv2 Conv2d(128, 128, kernel_size=(3, 3), stride=(1, 1), padding=(1, 1), bias=False)\n",
            "mask_out_ratio:  0.5\n",
            "random_mask sum():  tensor(12828739., device='cuda:0')\n",
            "mask_out_ratio:  0.5\n",
            "random_mask sum():  tensor(6414467., device='cuda:0')\n",
            "Remove the hook used to perform Activation Shaping on layer  layer1.1.conv2\n",
            "Remove the hook used to perform Activation Shaping on layer  layer2.1.conv2\n"
          ]
        },
        {
          "output_type": "stream",
          "name": "stderr",
          "text": [
            "\r 50%|█████     | 8/16 [00:05<00:04,  1.73it/s]"
          ]
        },
        {
          "output_type": "stream",
          "name": "stdout",
          "text": [
            "Register a hook to perform Random Maps Ablation on layer  layer1.1.conv2 Conv2d(64, 64, kernel_size=(3, 3), stride=(1, 1), padding=(1, 1), bias=False)\n",
            "Register a hook to perform Random Maps Ablation on layer  layer2.1.conv2 Conv2d(128, 128, kernel_size=(3, 3), stride=(1, 1), padding=(1, 1), bias=False)\n",
            "mask_out_ratio:  0.5\n",
            "random_mask sum():  tensor(12832832., device='cuda:0')\n",
            "mask_out_ratio:  0.5\n",
            "random_mask sum():  tensor(6416961., device='cuda:0')\n",
            "Remove the hook used to perform Activation Shaping on layer  layer1.1.conv2\n",
            "Remove the hook used to perform Activation Shaping on layer  layer2.1.conv2\n"
          ]
        },
        {
          "output_type": "stream",
          "name": "stderr",
          "text": [
            " 62%|██████▎   | 10/16 [00:06<00:02,  2.59it/s]"
          ]
        },
        {
          "output_type": "stream",
          "name": "stdout",
          "text": [
            "Register a hook to perform Random Maps Ablation on layer  layer1.1.conv2 Conv2d(64, 64, kernel_size=(3, 3), stride=(1, 1), padding=(1, 1), bias=False)\n",
            "Register a hook to perform Random Maps Ablation on layer  layer2.1.conv2 Conv2d(128, 128, kernel_size=(3, 3), stride=(1, 1), padding=(1, 1), bias=False)\n",
            "mask_out_ratio:  0.5\n",
            "random_mask sum():  tensor(12834203., device='cuda:0')\n",
            "mask_out_ratio:  0.5\n",
            "random_mask sum():  tensor(6415995., device='cuda:0')\n",
            "Remove the hook used to perform Activation Shaping on layer  layer1.1.conv2\n",
            "Remove the hook used to perform Activation Shaping on layer  layer2.1.conv2\n",
            "Register a hook to perform Random Maps Ablation on layer  layer1.1.conv2 Conv2d(64, 64, kernel_size=(3, 3), stride=(1, 1), padding=(1, 1), bias=False)\n",
            "Register a hook to perform Random Maps Ablation on layer  layer2.1.conv2 Conv2d(128, 128, kernel_size=(3, 3), stride=(1, 1), padding=(1, 1), bias=False)\n",
            "mask_out_ratio:  0.5\n",
            "random_mask sum():  tensor(12835361., device='cuda:0')\n",
            "mask_out_ratio:  0.5\n",
            "random_mask sum():  tensor(6414092., device='cuda:0')\n",
            "Remove the hook used to perform Activation Shaping on layer  layer1.1.conv2\n",
            "Remove the hook used to perform Activation Shaping on layer  layer2.1.conv2\n"
          ]
        },
        {
          "output_type": "stream",
          "name": "stderr",
          "text": [
            " 75%|███████▌  | 12/16 [00:08<00:03,  1.20it/s]"
          ]
        },
        {
          "output_type": "stream",
          "name": "stdout",
          "text": [
            "Register a hook to perform Random Maps Ablation on layer  layer1.1.conv2 Conv2d(64, 64, kernel_size=(3, 3), stride=(1, 1), padding=(1, 1), bias=False)\n",
            "Register a hook to perform Random Maps Ablation on layer  layer2.1.conv2 Conv2d(128, 128, kernel_size=(3, 3), stride=(1, 1), padding=(1, 1), bias=False)\n",
            "mask_out_ratio:  0.5\n",
            "random_mask sum():  tensor(12829569., device='cuda:0')\n",
            "mask_out_ratio:  0.5\n",
            "random_mask sum():  tensor(6416689., device='cuda:0')\n",
            "Remove the hook used to perform Activation Shaping on layer  layer1.1.conv2\n",
            "Remove the hook used to perform Activation Shaping on layer  layer2.1.conv2\n",
            "Register a hook to perform Random Maps Ablation on layer  layer1.1.conv2 Conv2d(64, 64, kernel_size=(3, 3), stride=(1, 1), padding=(1, 1), bias=False)\n",
            "Register a hook to perform Random Maps Ablation on layer  layer2.1.conv2 Conv2d(128, 128, kernel_size=(3, 3), stride=(1, 1), padding=(1, 1), bias=False)\n",
            "mask_out_ratio:  0.5\n",
            "random_mask sum():  "
          ]
        },
        {
          "output_type": "stream",
          "name": "stderr",
          "text": [
            "\r 81%|████████▏ | 13/16 [00:09<00:01,  1.57it/s]"
          ]
        },
        {
          "output_type": "stream",
          "name": "stdout",
          "text": [
            "tensor(12831938., device='cuda:0')\n",
            "mask_out_ratio:  0.5\n",
            "random_mask sum():  tensor(6416456., device='cuda:0')\n",
            "Remove the hook used to perform Activation Shaping on layer  layer1.1.conv2\n",
            "Remove the hook used to perform Activation Shaping on layer  layer2.1.conv2\n",
            "Register a hook to perform Random Maps Ablation on layer  layer1.1.conv2 Conv2d(64, 64, kernel_size=(3, 3), stride=(1, 1), padding=(1, 1), bias=False)\n",
            "Register a hook to perform Random Maps Ablation on layer  layer2.1.conv2 Conv2d(128, 128, kernel_size=(3, 3), stride=(1, 1), padding=(1, 1), bias=False)\n",
            "mask_out_ratio:  0.5\n",
            "random_mask sum():  tensor(12834717., device='cuda:0')\n",
            "mask_out_ratio:  0.5\n",
            "random_mask sum():  tensor(6416717., device='cuda:0')\n"
          ]
        },
        {
          "output_type": "stream",
          "name": "stderr",
          "text": [
            "\r 88%|████████▊ | 14/16 [00:09<00:00,  2.01it/s]"
          ]
        },
        {
          "output_type": "stream",
          "name": "stdout",
          "text": [
            "Remove the hook used to perform Activation Shaping on layer  layer1.1.conv2\n",
            "Remove the hook used to perform Activation Shaping on layer  layer2.1.conv2\n",
            "Register a hook to perform Random Maps Ablation on layer  layer1.1.conv2 Conv2d(64, 64, kernel_size=(3, 3), stride=(1, 1), padding=(1, 1), bias=False)\n",
            "Register a hook to perform Random Maps Ablation on layer  layer2.1.conv2 Conv2d(128, 128, kernel_size=(3, 3), stride=(1, 1), padding=(1, 1), bias=False)\n",
            "mask_out_ratio:  0.5\n",
            "random_mask sum():  tensor(12833949., device='cuda:0')\n",
            "mask_out_ratio:  0.5\n",
            "random_mask sum():  tensor(6418864., device='cuda:0')\n",
            "Remove the hook used to perform Activation Shaping on layer  layer1.1.conv2\n",
            "Remove the hook used to perform Activation Shaping on layer  layer2.1.conv2\n"
          ]
        },
        {
          "output_type": "stream",
          "name": "stderr",
          "text": [
            "100%|██████████| 16/16 [00:09<00:00,  1.66it/s]\n"
          ]
        },
        {
          "output_type": "stream",
          "name": "stdout",
          "text": [
            "Register a hook to perform Random Maps Ablation on layer  layer1.1.conv2 Conv2d(64, 64, kernel_size=(3, 3), stride=(1, 1), padding=(1, 1), bias=False)\n",
            "Register a hook to perform Random Maps Ablation on layer  layer2.1.conv2 Conv2d(128, 128, kernel_size=(3, 3), stride=(1, 1), padding=(1, 1), bias=False)\n",
            "mask_out_ratio:  0.5\n",
            "random_mask sum():  tensor(12828246., device='cuda:0')\n",
            "mask_out_ratio:  0.5\n",
            "random_mask sum():  tensor(6416165., device='cuda:0')\n",
            "Remove the hook used to perform Activation Shaping on layer  layer1.1.conv2\n",
            "Remove the hook used to perform Activation Shaping on layer  layer2.1.conv2\n"
          ]
        },
        {
          "output_type": "stream",
          "name": "stderr",
          "text": [
            "100%|██████████| 31/31 [00:11<00:00,  2.81it/s]\n"
          ]
        },
        {
          "output_type": "stream",
          "name": "stdout",
          "text": [
            "Accuracy: 44.36 - Loss: 0.012875400493089769 \n",
            "\n"
          ]
        },
        {
          "output_type": "stream",
          "name": "stderr",
          "text": [
            "\r  0%|          | 0/16 [00:00<?, ?it/s]"
          ]
        },
        {
          "output_type": "stream",
          "name": "stdout",
          "text": [
            "Register a hook to perform Random Maps Ablation on layer  layer1.1.conv2 Conv2d(64, 64, kernel_size=(3, 3), stride=(1, 1), padding=(1, 1), bias=False)\n",
            "Register a hook to perform Random Maps Ablation on layer  layer2.1.conv2 Conv2d(128, 128, kernel_size=(3, 3), stride=(1, 1), padding=(1, 1), bias=False)\n",
            "mask_out_ratio:  0.5\n",
            "random_mask sum():  tensor(12829319., device='cuda:0')\n",
            "mask_out_ratio:  0.5\n",
            "random_mask sum():  tensor(6413469., device='cuda:0')\n",
            "Remove the hook used to perform Activation Shaping on layer  layer1.1.conv2\n",
            "Remove the hook used to perform Activation Shaping on layer  layer2.1.conv2\n"
          ]
        },
        {
          "output_type": "stream",
          "name": "stderr",
          "text": [
            " 12%|█▎        | 2/16 [00:03<00:18,  1.30s/it]"
          ]
        },
        {
          "output_type": "stream",
          "name": "stdout",
          "text": [
            "Register a hook to perform Random Maps Ablation on layer  layer1.1.conv2 Conv2d(64, 64, kernel_size=(3, 3), stride=(1, 1), padding=(1, 1), bias=False)\n",
            "Register a hook to perform Random Maps Ablation on layer  layer2.1.conv2 Conv2d(128, 128, kernel_size=(3, 3), stride=(1, 1), padding=(1, 1), bias=False)\n",
            "mask_out_ratio:  0.5\n",
            "random_mask sum():  tensor(12834499., device='cuda:0')\n",
            "mask_out_ratio:  0.5\n",
            "random_mask sum():  tensor(6416608., device='cuda:0')\n",
            "Remove the hook used to perform Activation Shaping on layer  layer1.1.conv2\n",
            "Remove the hook used to perform Activation Shaping on layer  layer2.1.conv2\n",
            "Register a hook to perform Random Maps Ablation on layer  layer1.1.conv2 Conv2d(64, 64, kernel_size=(3, 3), stride=(1, 1), padding=(1, 1), bias=False)\n",
            "Register a hook to perform Random Maps Ablation on layer  layer2.1.conv2 Conv2d(128, 128, kernel_size=(3, 3), stride=(1, 1), padding=(1, 1), bias=False)\n",
            "mask_out_ratio: "
          ]
        },
        {
          "output_type": "stream",
          "name": "stderr",
          "text": [
            "\r 19%|█▉        | 3/16 [00:03<00:10,  1.26it/s]"
          ]
        },
        {
          "output_type": "stream",
          "name": "stdout",
          "text": [
            " 0.5\n",
            "random_mask sum():  tensor(12832773., device='cuda:0')\n",
            "mask_out_ratio:  0.5\n",
            "random_mask sum():  tensor(6415270., device='cuda:0')\n",
            "Remove the hook used to perform Activation Shaping on layer  layer1.1.conv2\n",
            "Remove the hook used to perform Activation Shaping on layer  layer2.1.conv2\n",
            "Register a hook to perform Random Maps Ablation on layer  layer1.1.conv2 Conv2d(64, 64, kernel_size=(3, 3), stride=(1, 1), padding=(1, 1), bias=False)\n",
            "Register a hook to perform Random Maps Ablation on layer  layer2.1.conv2 Conv2d(128, 128, kernel_size=(3, 3), stride=(1, 1), padding=(1, 1), bias=False)\n"
          ]
        },
        {
          "output_type": "stream",
          "name": "stderr",
          "text": [
            "\r 25%|██▌       | 4/16 [00:03<00:06,  1.78it/s]"
          ]
        },
        {
          "output_type": "stream",
          "name": "stdout",
          "text": [
            "mask_out_ratio:  0.5\n",
            "random_mask sum():  tensor(12830611., device='cuda:0')\n",
            "mask_out_ratio:  0.5\n",
            "random_mask sum():  tensor(6414354., device='cuda:0')\n",
            "Remove the hook used to perform Activation Shaping on layer  layer1.1.conv2\n",
            "Remove the hook used to perform Activation Shaping on layer  layer2.1.conv2\n",
            "Register a hook to perform Random Maps Ablation on layer  layer1.1.conv2 Conv2d(64, 64, kernel_size=(3, 3), stride=(1, 1), padding=(1, 1), bias=False)\n",
            "Register a hook to perform Random Maps Ablation on layer  layer2.1.conv2 Conv2d(128, 128, kernel_size=(3, 3), stride=(1, 1), padding=(1, 1), bias=False)\n",
            "mask_out_ratio:  0.5\n",
            "random_mask sum():  "
          ]
        },
        {
          "output_type": "stream",
          "name": "stderr",
          "text": [
            "\r 31%|███▏      | 5/16 [00:03<00:04,  2.32it/s]"
          ]
        },
        {
          "output_type": "stream",
          "name": "stdout",
          "text": [
            "tensor(12835881., device='cuda:0')\n",
            "mask_out_ratio:  0.5\n",
            "random_mask sum():  tensor(6417995., device='cuda:0')\n",
            "Remove the hook used to perform Activation Shaping on layer  layer1.1.conv2\n",
            "Remove the hook used to perform Activation Shaping on layer  layer2.1.conv2\n"
          ]
        },
        {
          "output_type": "stream",
          "name": "stderr",
          "text": [
            "\r 38%|███▊      | 6/16 [00:05<00:08,  1.20it/s]"
          ]
        },
        {
          "output_type": "stream",
          "name": "stdout",
          "text": [
            "Register a hook to perform Random Maps Ablation on layer  layer1.1.conv2 Conv2d(64, 64, kernel_size=(3, 3), stride=(1, 1), padding=(1, 1), bias=False)\n",
            "Register a hook to perform Random Maps Ablation on layer  layer2.1.conv2 Conv2d(128, 128, kernel_size=(3, 3), stride=(1, 1), padding=(1, 1), bias=False)\n",
            "mask_out_ratio:  0.5\n",
            "random_mask sum():  tensor(12834808., device='cuda:0')\n",
            "mask_out_ratio:  0.5\n",
            "random_mask sum():  tensor(6417043., device='cuda:0')\n",
            "Remove the hook used to perform Activation Shaping on layer  layer1.1.conv2\n",
            "Remove the hook used to perform Activation Shaping on layer  layer2.1.conv2\n",
            "Register a hook to perform Random Maps Ablation on layer  layer1.1.conv2 Conv2d(64, 64, kernel_size=(3, 3), stride=(1, 1), padding=(1, 1), bias=False)\n",
            "Register a hook to perform Random Maps Ablation on layer  layer2.1.conv2 Conv2d(128, 128, kernel_size=(3, 3), stride=(1, 1), padding=(1, 1), bias=False)\n",
            "mask_out_ratio:  0.5\n",
            "random_mask sum():  tensor(12836788., device='cuda:0')\n",
            "mask_out_ratio:  0.5\n",
            "random_mask sum():  tensor(6415391., device='cuda:0')\n",
            "Remove the hook used to perform Activation Shaping on layer  layer1.1.conv2\n",
            "Remove the hook used to perform Activation Shaping on layer  layer2.1.conv2\n"
          ]
        },
        {
          "output_type": "stream",
          "name": "stderr",
          "text": [
            " 50%|█████     | 8/16 [00:05<00:03,  2.03it/s]"
          ]
        },
        {
          "output_type": "stream",
          "name": "stdout",
          "text": [
            "Register a hook to perform Random Maps Ablation on layer  layer1.1.conv2 Conv2d(64, 64, kernel_size=(3, 3), stride=(1, 1), padding=(1, 1), bias=False)\n",
            "Register a hook to perform Random Maps Ablation on layer  layer2.1.conv2 Conv2d(128, 128, kernel_size=(3, 3), stride=(1, 1), padding=(1, 1), bias=False)\n",
            "mask_out_ratio:  0.5\n",
            "random_mask sum():  tensor(12831514., device='cuda:0')\n",
            "mask_out_ratio:  0.5\n",
            "random_mask sum():  tensor(6419311., device='cuda:0')\n",
            "Remove the hook used to perform Activation Shaping on layer  layer1.1.conv2\n",
            "Remove the hook used to perform Activation Shaping on layer  layer2.1.conv2\n"
          ]
        },
        {
          "output_type": "stream",
          "name": "stderr",
          "text": [
            "\r 56%|█████▋    | 9/16 [00:05<00:02,  2.44it/s]"
          ]
        },
        {
          "output_type": "stream",
          "name": "stdout",
          "text": [
            "Register a hook to perform Random Maps Ablation on layer  layer1.1.conv2 Conv2d(64, 64, kernel_size=(3, 3), stride=(1, 1), padding=(1, 1), bias=False)\n",
            "Register a hook to perform Random Maps Ablation on layer  layer2.1.conv2 Conv2d(128, 128, kernel_size=(3, 3), stride=(1, 1), padding=(1, 1), bias=False)\n",
            "mask_out_ratio:  0.5\n",
            "random_mask sum():  tensor(12833417., device='cuda:0')\n",
            "mask_out_ratio:  0.5\n",
            "random_mask sum():  tensor(6416282., device='cuda:0')\n",
            "Remove the hook used to perform Activation Shaping on layer  layer1.1.conv2\n",
            "Remove the hook used to perform Activation Shaping on layer  layer2.1.conv2\n"
          ]
        },
        {
          "output_type": "stream",
          "name": "stderr",
          "text": [
            "\r 62%|██████▎   | 10/16 [00:06<00:02,  2.92it/s]"
          ]
        },
        {
          "output_type": "stream",
          "name": "stdout",
          "text": [
            "Register a hook to perform Random Maps Ablation on layer  layer1.1.conv2 Conv2d(64, 64, kernel_size=(3, 3), stride=(1, 1), padding=(1, 1), bias=False)\n",
            "Register a hook to perform Random Maps Ablation on layer  layer2.1.conv2 Conv2d(128, 128, kernel_size=(3, 3), stride=(1, 1), padding=(1, 1), bias=False)\n",
            "mask_out_ratio:  0.5\n",
            "random_mask sum():  tensor(12834097., device='cuda:0')\n",
            "mask_out_ratio:  0.5\n",
            "random_mask sum():  tensor(6416812., device='cuda:0')\n",
            "Remove the hook used to perform Activation Shaping on layer  layer1.1.conv2\n",
            "Remove the hook used to perform Activation Shaping on layer  layer2.1.conv2\n"
          ]
        },
        {
          "output_type": "stream",
          "name": "stderr",
          "text": [
            "\r 69%|██████▉   | 11/16 [00:07<00:03,  1.61it/s]"
          ]
        },
        {
          "output_type": "stream",
          "name": "stdout",
          "text": [
            "Register a hook to perform Random Maps Ablation on layer  layer1.1.conv2 Conv2d(64, 64, kernel_size=(3, 3), stride=(1, 1), padding=(1, 1), bias=False)\n",
            "Register a hook to perform Random Maps Ablation on layer  layer2.1.conv2 Conv2d(128, 128, kernel_size=(3, 3), stride=(1, 1), padding=(1, 1), bias=False)\n",
            "mask_out_ratio:  0.5\n",
            "random_mask sum():  tensor(12830861., device='cuda:0')\n",
            "mask_out_ratio:  0.5\n",
            "random_mask sum():  tensor(6415257., device='cuda:0')\n",
            "Remove the hook used to perform Activation Shaping on layer  layer1.1.conv2\n",
            "Remove the hook used to perform Activation Shaping on layer  layer2.1.conv2\n",
            "Register a hook to perform Random Maps Ablation on layer  layer1.1.conv2 Conv2d(64, 64, kernel_size=(3, 3), stride=(1, 1), padding=(1, 1), bias=False)\n",
            "Register a hook to perform Random Maps Ablation on layer  layer2.1.conv2 Conv2d(128, 128, kernel_size=(3, 3), stride=(1, 1), padding=(1, 1), bias=False)\n",
            "mask_out_ratio:  0.5\n",
            "random_mask sum():  "
          ]
        },
        {
          "output_type": "stream",
          "name": "stderr",
          "text": [
            "\r 75%|███████▌  | 12/16 [00:07<00:01,  2.06it/s]"
          ]
        },
        {
          "output_type": "stream",
          "name": "stdout",
          "text": [
            "tensor(12834421., device='cuda:0')\n",
            "mask_out_ratio:  0.5\n",
            "random_mask sum():  tensor(6418880., device='cuda:0')\n",
            "Remove the hook used to perform Activation Shaping on layer  layer1.1.conv2\n",
            "Remove the hook used to perform Activation Shaping on layer  layer2.1.conv2\n",
            "Register a hook to perform Random Maps Ablation on layer  layer1.1.conv2 Conv2d(64, 64, kernel_size=(3, 3), stride=(1, 1), padding=(1, 1), bias=False)\n",
            "Register a hook to perform Random Maps Ablation on layer  layer2.1.conv2 Conv2d(128, 128, kernel_size=(3, 3), stride=(1, 1), padding=(1, 1), bias=False)\n",
            "mask_out_ratio:  0.5\n",
            "random_mask sum():  tensor(12837161., device='cuda:0')\n",
            "mask_out_ratio:  0.5\n",
            "random_mask sum():  "
          ]
        },
        {
          "output_type": "stream",
          "name": "stderr",
          "text": [
            "\r 81%|████████▏ | 13/16 [00:07<00:01,  2.54it/s]"
          ]
        },
        {
          "output_type": "stream",
          "name": "stdout",
          "text": [
            "tensor(6414953., device='cuda:0')\n",
            "Remove the hook used to perform Activation Shaping on layer  layer1.1.conv2\n",
            "Remove the hook used to perform Activation Shaping on layer  layer2.1.conv2\n",
            "Register a hook to perform Random Maps Ablation on layer  layer1.1.conv2 Conv2d(64, 64, kernel_size=(3, 3), stride=(1, 1), padding=(1, 1), bias=False)\n",
            "Register a hook to perform Random Maps Ablation on layer  layer2.1.conv2 Conv2d(128, 128, kernel_size=(3, 3), stride=(1, 1), padding=(1, 1), bias=False)\n",
            "mask_out_ratio:  0.5\n",
            "random_mask sum():  tensor(12838947., device='cuda:0')\n",
            "mask_out_ratio:  0.5\n",
            "random_mask sum():  tensor(6414012., device='cuda:0')\n",
            "Remove the hook used to perform Activation Shaping on layer  layer1.1.conv2\n",
            "Remove the hook used to perform Activation Shaping on layer  layer2.1.conv2\n"
          ]
        },
        {
          "output_type": "stream",
          "name": "stderr",
          "text": [
            " 94%|█████████▍| 15/16 [00:08<00:00,  3.50it/s]"
          ]
        },
        {
          "output_type": "stream",
          "name": "stdout",
          "text": [
            "Register a hook to perform Random Maps Ablation on layer  layer1.1.conv2 Conv2d(64, 64, kernel_size=(3, 3), stride=(1, 1), padding=(1, 1), bias=False)\n",
            "Register a hook to perform Random Maps Ablation on layer  layer2.1.conv2 Conv2d(128, 128, kernel_size=(3, 3), stride=(1, 1), padding=(1, 1), bias=False)\n",
            "mask_out_ratio:  0.5\n",
            "random_mask sum():  tensor(12836514., device='cuda:0')\n",
            "mask_out_ratio:  0.5\n",
            "random_mask sum():  tensor(6415147., device='cuda:0')\n",
            "Remove the hook used to perform Activation Shaping on layer  layer1.1.conv2\n",
            "Remove the hook used to perform Activation Shaping on layer  layer2.1.conv2\n",
            "Register a hook to perform Random Maps Ablation on layer  layer1.1.conv2 Conv2d(64, 64, kernel_size=(3, 3), stride=(1, 1), padding=(1, 1), bias=False)\n",
            "Register a hook to perform Random Maps Ablation on layer  layer2.1.conv2 Conv2d(128, 128, kernel_size=(3, 3), stride=(1, 1), padding=(1, 1), bias=False)\n",
            "mask_out_ratio:  0.5\n",
            "random_mask sum():  "
          ]
        },
        {
          "output_type": "stream",
          "name": "stderr",
          "text": [
            "100%|██████████| 16/16 [00:08<00:00,  1.93it/s]\n"
          ]
        },
        {
          "output_type": "stream",
          "name": "stdout",
          "text": [
            "tensor(12830853., device='cuda:0')\n",
            "mask_out_ratio:  0.5\n",
            "random_mask sum():  tensor(6412195., device='cuda:0')\n",
            "Remove the hook used to perform Activation Shaping on layer  layer1.1.conv2\n",
            "Remove the hook used to perform Activation Shaping on layer  layer2.1.conv2\n"
          ]
        },
        {
          "output_type": "stream",
          "name": "stderr",
          "text": [
            "100%|██████████| 31/31 [00:11<00:00,  2.72it/s]\n"
          ]
        },
        {
          "output_type": "stream",
          "name": "stdout",
          "text": [
            "Accuracy: 44.95 - Loss: 0.012841930960419525 \n",
            "\n"
          ]
        }
      ],
      "source": [
        "warnings.filterwarnings('ignore', category=UserWarning)\n",
        "\n",
        "# Parse arguments\n",
        "# conf = configurations['0.1']\n",
        "conf = configurations['1.2.1.2']\n",
        "\n",
        "#args = parse_arguments()\n",
        "args = argparse.Namespace(**conf)\n",
        "print(args)\n",
        "CONFIG.update(vars(args))\n",
        "\n",
        "# Setup output directory\n",
        "CONFIG.save_dir = os.path.join('record', CONFIG.experiment_name)\n",
        "os.makedirs(CONFIG.save_dir, exist_ok=True)\n",
        "\n",
        "# Setup logging\n",
        "logging.basicConfig(\n",
        "    filename=os.path.join(CONFIG.save_dir, 'log.txt'),\n",
        "    format='%(message)s',\n",
        "    level=logging.INFO,\n",
        "    filemode='a'\n",
        ")\n",
        "\n",
        "# Set experiment's device & deterministic behavior\n",
        "if CONFIG.cpu:\n",
        "    CONFIG.device = 'cpu'\n",
        "else:\n",
        "    CONFIG.device = 'cuda' if torch.cuda.is_available() else 'cpu'\n",
        "\n",
        "torch.manual_seed(CONFIG.seed)\n",
        "random.seed(CONFIG.seed)\n",
        "np.random.seed(CONFIG.seed)\n",
        "torch.backends.cudnn.benchmark = True\n",
        "torch.use_deterministic_algorithms(mode=True, warn_only=True)\n",
        "\n",
        "main()"
      ]
    },
    {
      "cell_type": "markdown",
      "metadata": {
        "id": "jLzHm67AXxxj"
      },
      "source": [
        "## 0 - Baseline"
      ]
    },
    {
      "cell_type": "markdown",
      "metadata": {
        "id": "ldSyHRRSXxxj"
      },
      "source": [
        "##### 0.1 - Cartoon"
      ]
    },
    {
      "cell_type": "code",
      "execution_count": null,
      "metadata": {
        "vscode": {
          "languageId": "python"
        },
        "id": "W4LQ4xJ3Xxxk"
      },
      "outputs": [],
      "source": [
        "warnings.filterwarnings('ignore', category=UserWarning)\n",
        "\n",
        "# Parse arguments\n",
        "conf = configurations['0.1']\n",
        "\n",
        "#args = parse_arguments()\n",
        "args = argparse.Namespace(**conf)\n",
        "print(args)\n",
        "CONFIG.update(vars(args))\n",
        "\n",
        "# Setup output directory\n",
        "CONFIG.save_dir = os.path.join('record', CONFIG.experiment_name)\n",
        "os.makedirs(CONFIG.save_dir, exist_ok=True)\n",
        "\n",
        "# Setup logging\n",
        "logging.basicConfig(\n",
        "    filename=os.path.join(CONFIG.save_dir, 'log.txt'),\n",
        "    format='%(message)s',\n",
        "    level=logging.INFO,\n",
        "    filemode='a'\n",
        ")\n",
        "\n",
        "# Set experiment's device & deterministic behavior\n",
        "if CONFIG.cpu:\n",
        "    CONFIG.device = 'cpu'\n",
        "else:\n",
        "    CONFIG.device = 'cuda' if torch.cuda.is_available() else 'cpu'\n",
        "\n",
        "torch.manual_seed(CONFIG.seed)\n",
        "random.seed(CONFIG.seed)\n",
        "np.random.seed(CONFIG.seed)\n",
        "torch.backends.cudnn.benchmark = True\n",
        "torch.use_deterministic_algorithms(mode=True, warn_only=True)\n",
        "\n",
        "main()"
      ]
    },
    {
      "cell_type": "markdown",
      "metadata": {
        "id": "MpqADRsiXxxl"
      },
      "source": [
        "##### 0.2 - Sketch"
      ]
    },
    {
      "cell_type": "code",
      "execution_count": null,
      "metadata": {
        "vscode": {
          "languageId": "python"
        },
        "id": "5tcc3VSTXxxl"
      },
      "outputs": [],
      "source": [
        "warnings.filterwarnings('ignore', category=UserWarning)\n",
        "\n",
        "# Parse arguments\n",
        "conf = configurations['0.2']\n",
        "\n",
        "#args = parse_arguments()\n",
        "args = argparse.Namespace(**conf)\n",
        "print(args)\n",
        "CONFIG.update(vars(args))\n",
        "\n",
        "# Setup output directory\n",
        "CONFIG.save_dir = os.path.join('record', CONFIG.experiment_name)\n",
        "os.makedirs(CONFIG.save_dir, exist_ok=True)\n",
        "\n",
        "# Setup logging\n",
        "logging.basicConfig(\n",
        "    filename=os.path.join(CONFIG.save_dir, 'log.txt'),\n",
        "    format='%(message)s',\n",
        "    level=logging.INFO,\n",
        "    filemode='a'\n",
        ")\n",
        "\n",
        "# Set experiment's device & deterministic behavior\n",
        "if CONFIG.cpu:\n",
        "    CONFIG.device = 'cpu'\n",
        "else:\n",
        "    CONFIG.device = 'cuda' if torch.cuda.is_available() else 'cpu'\n",
        "\n",
        "torch.manual_seed(CONFIG.seed)\n",
        "random.seed(CONFIG.seed)\n",
        "np.random.seed(CONFIG.seed)\n",
        "torch.backends.cudnn.benchmark = True\n",
        "torch.use_deterministic_algorithms(mode=True, warn_only=True)\n",
        "\n",
        "main()"
      ]
    },
    {
      "cell_type": "markdown",
      "metadata": {
        "id": "-DzEcM1UXxxl"
      },
      "source": [
        "##### 0.3 - Photo"
      ]
    },
    {
      "cell_type": "code",
      "execution_count": null,
      "metadata": {
        "vscode": {
          "languageId": "python"
        },
        "id": "Hdbk09qgXxxm"
      },
      "outputs": [],
      "source": [
        "warnings.filterwarnings('ignore', category=UserWarning)\n",
        "\n",
        "# Parse arguments\n",
        "conf = configurations['0.3']\n",
        "\n",
        "#args = parse_arguments()\n",
        "args = argparse.Namespace(**conf)\n",
        "print(args)\n",
        "CONFIG.update(vars(args))\n",
        "\n",
        "# Setup output directory\n",
        "CONFIG.save_dir = os.path.join('record', CONFIG.experiment_name)\n",
        "os.makedirs(CONFIG.save_dir, exist_ok=True)\n",
        "\n",
        "# Setup logging\n",
        "logging.basicConfig(\n",
        "    filename=os.path.join(CONFIG.save_dir, 'log.txt'),\n",
        "    format='%(message)s',\n",
        "    level=logging.INFO,\n",
        "    filemode='a'\n",
        ")\n",
        "\n",
        "# Set experiment's device & deterministic behavior\n",
        "if CONFIG.cpu:\n",
        "    CONFIG.device = 'cpu'\n",
        "else:\n",
        "    CONFIG.device = 'cuda' if torch.cuda.is_available() else 'cpu'\n",
        "\n",
        "torch.manual_seed(CONFIG.seed)\n",
        "random.seed(CONFIG.seed)\n",
        "np.random.seed(CONFIG.seed)\n",
        "torch.backends.cudnn.benchmark = True\n",
        "torch.use_deterministic_algorithms(mode=True, warn_only=True)\n",
        "\n",
        "main()"
      ]
    },
    {
      "cell_type": "markdown",
      "metadata": {
        "id": "BFaxV5HlXxxm"
      },
      "source": [
        "## 1 - Activation Shaping module"
      ]
    },
    {
      "cell_type": "markdown",
      "metadata": {
        "id": "TFvmtoiGXxxn"
      },
      "source": [
        "### 1.1 - One ASH module"
      ]
    },
    {
      "cell_type": "markdown",
      "metadata": {
        "id": "DJS21zBmXxxn"
      },
      "source": [
        "#### 1.1.1 - ASH module after layer1.0.conv1"
      ]
    },
    {
      "cell_type": "markdown",
      "metadata": {
        "id": "mmcmDvkIXxxn"
      },
      "source": [
        "##### 1.1.1.1 - Cartoon"
      ]
    },
    {
      "cell_type": "code",
      "execution_count": null,
      "metadata": {
        "vscode": {
          "languageId": "python"
        },
        "id": "IM2I0fK_Xxxn"
      },
      "outputs": [],
      "source": [
        "warnings.filterwarnings('ignore', category=UserWarning)\n",
        "\n",
        "# Parse arguments\n",
        "conf = configurations['1.1.1.1']\n",
        "\n",
        "#args = parse_arguments()\n",
        "args = argparse.Namespace(**conf)\n",
        "print(args)\n",
        "CONFIG.update(vars(args))\n",
        "\n",
        "# Setup output directory\n",
        "CONFIG.save_dir = os.path.join('record', CONFIG.experiment_name)\n",
        "os.makedirs(CONFIG.save_dir, exist_ok=True)\n",
        "\n",
        "# Setup logging\n",
        "logging.basicConfig(\n",
        "    filename=os.path.join(CONFIG.save_dir, 'log.txt'),\n",
        "    format='%(message)s',\n",
        "    level=logging.INFO,\n",
        "    filemode='a'\n",
        ")\n",
        "\n",
        "# Set experiment's device & deterministic behavior\n",
        "if CONFIG.cpu:\n",
        "    CONFIG.device = 'cpu'\n",
        "else:\n",
        "    CONFIG.device = 'cuda' if torch.cuda.is_available() else 'cpu'\n",
        "\n",
        "torch.manual_seed(CONFIG.seed)\n",
        "random.seed(CONFIG.seed)\n",
        "np.random.seed(CONFIG.seed)\n",
        "torch.backends.cudnn.benchmark = True\n",
        "torch.use_deterministic_algorithms(mode=True, warn_only=True)\n",
        "\n",
        "main()"
      ]
    },
    {
      "cell_type": "markdown",
      "metadata": {
        "id": "RA8barKGXxxo"
      },
      "source": [
        "##### 1.1.1.2 - Sketch"
      ]
    },
    {
      "cell_type": "code",
      "execution_count": null,
      "metadata": {
        "vscode": {
          "languageId": "python"
        },
        "id": "CQyb1EVPXxxo"
      },
      "outputs": [],
      "source": [
        "warnings.filterwarnings('ignore', category=UserWarning)\n",
        "\n",
        "# Parse arguments\n",
        "conf = configurations['1.1.1.2']\n",
        "\n",
        "#args = parse_arguments()\n",
        "args = argparse.Namespace(**conf)\n",
        "print(args)\n",
        "CONFIG.update(vars(args))\n",
        "\n",
        "# Setup output directory\n",
        "CONFIG.save_dir = os.path.join('record', CONFIG.experiment_name)\n",
        "os.makedirs(CONFIG.save_dir, exist_ok=True)\n",
        "\n",
        "# Setup logging\n",
        "logging.basicConfig(\n",
        "    filename=os.path.join(CONFIG.save_dir, 'log.txt'),\n",
        "    format='%(message)s',\n",
        "    level=logging.INFO,\n",
        "    filemode='a'\n",
        ")\n",
        "\n",
        "# Set experiment's device & deterministic behavior\n",
        "if CONFIG.cpu:\n",
        "    CONFIG.device = 'cpu'\n",
        "else:\n",
        "    CONFIG.device = 'cuda' if torch.cuda.is_available() else 'cpu'\n",
        "\n",
        "torch.manual_seed(CONFIG.seed)\n",
        "random.seed(CONFIG.seed)\n",
        "np.random.seed(CONFIG.seed)\n",
        "torch.backends.cudnn.benchmark = True\n",
        "torch.use_deterministic_algorithms(mode=True, warn_only=True)\n",
        "\n",
        "main()"
      ]
    },
    {
      "cell_type": "markdown",
      "metadata": {
        "id": "0tDnoZZvXxxo"
      },
      "source": [
        "##### 1.1.1.3 - Photo"
      ]
    },
    {
      "cell_type": "code",
      "execution_count": null,
      "metadata": {
        "vscode": {
          "languageId": "python"
        },
        "id": "r8Y7v5-dXxxo"
      },
      "outputs": [],
      "source": [
        "warnings.filterwarnings('ignore', category=UserWarning)\n",
        "\n",
        "# Parse arguments\n",
        "conf = configurations['1.1.1.3']\n",
        "\n",
        "#args = parse_arguments()\n",
        "args = argparse.Namespace(**conf)\n",
        "print(args)\n",
        "CONFIG.update(vars(args))\n",
        "\n",
        "# Setup output directory\n",
        "CONFIG.save_dir = os.path.join('record', CONFIG.experiment_name)\n",
        "os.makedirs(CONFIG.save_dir, exist_ok=True)\n",
        "\n",
        "# Setup logging\n",
        "logging.basicConfig(\n",
        "    filename=os.path.join(CONFIG.save_dir, 'log.txt'),\n",
        "    format='%(message)s',\n",
        "    level=logging.INFO,\n",
        "    filemode='a'\n",
        ")\n",
        "\n",
        "# Set experiment's device & deterministic behavior\n",
        "if CONFIG.cpu:\n",
        "    CONFIG.device = 'cpu'\n",
        "else:\n",
        "    CONFIG.device = 'cuda' if torch.cuda.is_available() else 'cpu'\n",
        "\n",
        "torch.manual_seed(CONFIG.seed)\n",
        "random.seed(CONFIG.seed)\n",
        "np.random.seed(CONFIG.seed)\n",
        "torch.backends.cudnn.benchmark = True\n",
        "torch.use_deterministic_algorithms(mode=True, warn_only=True)\n",
        "\n",
        "main()"
      ]
    },
    {
      "cell_type": "markdown",
      "metadata": {
        "id": "ac4eY5dpXxxp"
      },
      "source": [
        "#### 1.1.2 - ASH module after layer1.0.conv2"
      ]
    },
    {
      "cell_type": "markdown",
      "metadata": {
        "id": "sIhFFX4hXxxp"
      },
      "source": [
        "##### 1.1.2.1 - Cartoon"
      ]
    },
    {
      "cell_type": "code",
      "execution_count": null,
      "metadata": {
        "vscode": {
          "languageId": "python"
        },
        "id": "_yHK3OiAXxxp"
      },
      "outputs": [],
      "source": [
        "warnings.filterwarnings('ignore', category=UserWarning)\n",
        "\n",
        "# Parse arguments\n",
        "conf = configurations['1.1.2.1']\n",
        "\n",
        "#args = parse_arguments()\n",
        "args = argparse.Namespace(**conf)\n",
        "print(args)\n",
        "CONFIG.update(vars(args))\n",
        "\n",
        "# Setup output directory\n",
        "CONFIG.save_dir = os.path.join('record', CONFIG.experiment_name)\n",
        "os.makedirs(CONFIG.save_dir, exist_ok=True)\n",
        "\n",
        "# Setup logging\n",
        "logging.basicConfig(\n",
        "    filename=os.path.join(CONFIG.save_dir, 'log.txt'),\n",
        "    format='%(message)s',\n",
        "    level=logging.INFO,\n",
        "    filemode='a'\n",
        ")\n",
        "\n",
        "# Set experiment's device & deterministic behavior\n",
        "if CONFIG.cpu:\n",
        "    CONFIG.device = 'cpu'\n",
        "else:\n",
        "    CONFIG.device = 'cuda' if torch.cuda.is_available() else 'cpu'\n",
        "\n",
        "torch.manual_seed(CONFIG.seed)\n",
        "random.seed(CONFIG.seed)\n",
        "np.random.seed(CONFIG.seed)\n",
        "torch.backends.cudnn.benchmark = True\n",
        "torch.use_deterministic_algorithms(mode=True, warn_only=True)\n",
        "\n",
        "main()"
      ]
    },
    {
      "cell_type": "markdown",
      "metadata": {
        "id": "XTMvFpooXxxp"
      },
      "source": [
        "##### 1.1.2.2 - Sketch"
      ]
    },
    {
      "cell_type": "code",
      "execution_count": null,
      "metadata": {
        "vscode": {
          "languageId": "python"
        },
        "id": "FV4LoLWJXxxq"
      },
      "outputs": [],
      "source": [
        "warnings.filterwarnings('ignore', category=UserWarning)\n",
        "\n",
        "# Parse arguments\n",
        "conf = configurations['1.1.2.2']\n",
        "\n",
        "#args = parse_arguments()\n",
        "args = argparse.Namespace(**conf)\n",
        "print(args)\n",
        "CONFIG.update(vars(args))\n",
        "\n",
        "# Setup output directory\n",
        "CONFIG.save_dir = os.path.join('record', CONFIG.experiment_name)\n",
        "os.makedirs(CONFIG.save_dir, exist_ok=True)\n",
        "\n",
        "# Setup logging\n",
        "logging.basicConfig(\n",
        "    filename=os.path.join(CONFIG.save_dir, 'log.txt'),\n",
        "    format='%(message)s',\n",
        "    level=logging.INFO,\n",
        "    filemode='a'\n",
        ")\n",
        "\n",
        "# Set experiment's device & deterministic behavior\n",
        "if CONFIG.cpu:\n",
        "    CONFIG.device = 'cpu'\n",
        "else:\n",
        "    CONFIG.device = 'cuda' if torch.cuda.is_available() else 'cpu'\n",
        "\n",
        "torch.manual_seed(CONFIG.seed)\n",
        "random.seed(CONFIG.seed)\n",
        "np.random.seed(CONFIG.seed)\n",
        "torch.backends.cudnn.benchmark = True\n",
        "torch.use_deterministic_algorithms(mode=True, warn_only=True)\n",
        "\n",
        "main()"
      ]
    },
    {
      "cell_type": "markdown",
      "metadata": {
        "id": "aPX2h617Xxxq"
      },
      "source": [
        "##### 1.1.2.3 - Photo"
      ]
    },
    {
      "cell_type": "code",
      "execution_count": null,
      "metadata": {
        "vscode": {
          "languageId": "python"
        },
        "id": "69TPuL3rXxxq"
      },
      "outputs": [],
      "source": [
        "warnings.filterwarnings('ignore', category=UserWarning)\n",
        "\n",
        "# Parse arguments\n",
        "conf = configurations['1.1.2.3']\n",
        "\n",
        "#args = parse_arguments()\n",
        "args = argparse.Namespace(**conf)\n",
        "print(args)\n",
        "CONFIG.update(vars(args))\n",
        "\n",
        "# Setup output directory\n",
        "CONFIG.save_dir = os.path.join('record', CONFIG.experiment_name)\n",
        "os.makedirs(CONFIG.save_dir, exist_ok=True)\n",
        "\n",
        "# Setup logging\n",
        "logging.basicConfig(\n",
        "    filename=os.path.join(CONFIG.save_dir, 'log.txt'),\n",
        "    format='%(message)s',\n",
        "    level=logging.INFO,\n",
        "    filemode='a'\n",
        ")\n",
        "\n",
        "# Set experiment's device & deterministic behavior\n",
        "if CONFIG.cpu:\n",
        "    CONFIG.device = 'cpu'\n",
        "else:\n",
        "    CONFIG.device = 'cuda' if torch.cuda.is_available() else 'cpu'\n",
        "\n",
        "torch.manual_seed(CONFIG.seed)\n",
        "random.seed(CONFIG.seed)\n",
        "np.random.seed(CONFIG.seed)\n",
        "torch.backends.cudnn.benchmark = True\n",
        "torch.use_deterministic_algorithms(mode=True, warn_only=True)\n",
        "\n",
        "main()"
      ]
    },
    {
      "cell_type": "markdown",
      "metadata": {
        "id": "BOAwbUt6Xxxr"
      },
      "source": [
        "#### 1.1.3 - ASH module after layer1.1.conv1"
      ]
    },
    {
      "cell_type": "markdown",
      "metadata": {
        "id": "mf8vBvk-Xxxr"
      },
      "source": [
        "##### 1.1.3.1 - Cartoon"
      ]
    },
    {
      "cell_type": "code",
      "execution_count": null,
      "metadata": {
        "vscode": {
          "languageId": "python"
        },
        "id": "fqzrhoKqXxxr"
      },
      "outputs": [],
      "source": [
        "warnings.filterwarnings('ignore', category=UserWarning)\n",
        "\n",
        "# Parse arguments\n",
        "conf = configurations['1.1.3.1']\n",
        "\n",
        "#args = parse_arguments()\n",
        "args = argparse.Namespace(**conf)\n",
        "print(args)\n",
        "CONFIG.update(vars(args))\n",
        "\n",
        "# Setup output directory\n",
        "CONFIG.save_dir = os.path.join('record', CONFIG.experiment_name)\n",
        "os.makedirs(CONFIG.save_dir, exist_ok=True)\n",
        "\n",
        "# Setup logging\n",
        "logging.basicConfig(\n",
        "    filename=os.path.join(CONFIG.save_dir, 'log.txt'),\n",
        "    format='%(message)s',\n",
        "    level=logging.INFO,\n",
        "    filemode='a'\n",
        ")\n",
        "\n",
        "# Set experiment's device & deterministic behavior\n",
        "if CONFIG.cpu:\n",
        "    CONFIG.device = 'cpu'\n",
        "else:\n",
        "    CONFIG.device = 'cuda' if torch.cuda.is_available() else 'cpu'\n",
        "\n",
        "torch.manual_seed(CONFIG.seed)\n",
        "random.seed(CONFIG.seed)\n",
        "np.random.seed(CONFIG.seed)\n",
        "torch.backends.cudnn.benchmark = True\n",
        "torch.use_deterministic_algorithms(mode=True, warn_only=True)\n",
        "\n",
        "main()"
      ]
    },
    {
      "cell_type": "markdown",
      "metadata": {
        "id": "QtI88yPMXxxr"
      },
      "source": [
        "##### 1.1.3.2 - Sketch"
      ]
    },
    {
      "cell_type": "code",
      "execution_count": null,
      "metadata": {
        "vscode": {
          "languageId": "python"
        },
        "id": "WCitdYpbXxxr"
      },
      "outputs": [],
      "source": [
        "warnings.filterwarnings('ignore', category=UserWarning)\n",
        "\n",
        "# Parse arguments\n",
        "conf = configurations['1.1.3.2']\n",
        "\n",
        "#args = parse_arguments()\n",
        "args = argparse.Namespace(**conf)\n",
        "print(args)\n",
        "CONFIG.update(vars(args))\n",
        "\n",
        "# Setup output directory\n",
        "CONFIG.save_dir = os.path.join('record', CONFIG.experiment_name)\n",
        "os.makedirs(CONFIG.save_dir, exist_ok=True)\n",
        "\n",
        "# Setup logging\n",
        "logging.basicConfig(\n",
        "    filename=os.path.join(CONFIG.save_dir, 'log.txt'),\n",
        "    format='%(message)s',\n",
        "    level=logging.INFO,\n",
        "    filemode='a'\n",
        ")\n",
        "\n",
        "# Set experiment's device & deterministic behavior\n",
        "if CONFIG.cpu:\n",
        "    CONFIG.device = 'cpu'\n",
        "else:\n",
        "    CONFIG.device = 'cuda' if torch.cuda.is_available() else 'cpu'\n",
        "\n",
        "torch.manual_seed(CONFIG.seed)\n",
        "random.seed(CONFIG.seed)\n",
        "np.random.seed(CONFIG.seed)\n",
        "torch.backends.cudnn.benchmark = True\n",
        "torch.use_deterministic_algorithms(mode=True, warn_only=True)\n",
        "\n",
        "main()"
      ]
    },
    {
      "cell_type": "markdown",
      "metadata": {
        "id": "avqPWnfxXxxr"
      },
      "source": [
        "##### 1.1.3.3 - Photo"
      ]
    },
    {
      "cell_type": "code",
      "execution_count": null,
      "metadata": {
        "vscode": {
          "languageId": "python"
        },
        "id": "-kzY7NB0Xxxs"
      },
      "outputs": [],
      "source": [
        "warnings.filterwarnings('ignore', category=UserWarning)\n",
        "\n",
        "# Parse arguments\n",
        "conf = configurations['1.1.3.3']\n",
        "\n",
        "#args = parse_arguments()\n",
        "args = argparse.Namespace(**conf)\n",
        "print(args)\n",
        "CONFIG.update(vars(args))\n",
        "\n",
        "# Setup output directory\n",
        "CONFIG.save_dir = os.path.join('record', CONFIG.experiment_name)\n",
        "os.makedirs(CONFIG.save_dir, exist_ok=True)\n",
        "\n",
        "# Setup logging\n",
        "logging.basicConfig(\n",
        "    filename=os.path.join(CONFIG.save_dir, 'log.txt'),\n",
        "    format='%(message)s',\n",
        "    level=logging.INFO,\n",
        "    filemode='a'\n",
        ")\n",
        "\n",
        "# Set experiment's device & deterministic behavior\n",
        "if CONFIG.cpu:\n",
        "    CONFIG.device = 'cpu'\n",
        "else:\n",
        "    CONFIG.device = 'cuda' if torch.cuda.is_available() else 'cpu'\n",
        "\n",
        "torch.manual_seed(CONFIG.seed)\n",
        "random.seed(CONFIG.seed)\n",
        "np.random.seed(CONFIG.seed)\n",
        "torch.backends.cudnn.benchmark = True\n",
        "torch.use_deterministic_algorithms(mode=True, warn_only=True)\n",
        "\n",
        "main()"
      ]
    },
    {
      "cell_type": "markdown",
      "metadata": {
        "id": "Ctkpjqf9Xxxs"
      },
      "source": [
        "#### 1.1.4 - ASH module after layer1.1.conv2"
      ]
    },
    {
      "cell_type": "markdown",
      "metadata": {
        "id": "CipZcskxXxxs"
      },
      "source": [
        "##### 1.1.4.1 - Cartoon"
      ]
    },
    {
      "cell_type": "code",
      "execution_count": null,
      "metadata": {
        "vscode": {
          "languageId": "python"
        },
        "id": "BLvw3cRFXxxs"
      },
      "outputs": [],
      "source": [
        "warnings.filterwarnings('ignore', category=UserWarning)\n",
        "\n",
        "# Parse arguments\n",
        "conf = configurations['1.1.4.1']\n",
        "\n",
        "#args = parse_arguments()\n",
        "args = argparse.Namespace(**conf)\n",
        "print(args)\n",
        "CONFIG.update(vars(args))\n",
        "\n",
        "# Setup output directory\n",
        "CONFIG.save_dir = os.path.join('record', CONFIG.experiment_name)\n",
        "os.makedirs(CONFIG.save_dir, exist_ok=True)\n",
        "\n",
        "# Setup logging\n",
        "logging.basicConfig(\n",
        "    filename=os.path.join(CONFIG.save_dir, 'log.txt'),\n",
        "    format='%(message)s',\n",
        "    level=logging.INFO,\n",
        "    filemode='a'\n",
        ")\n",
        "\n",
        "# Set experiment's device & deterministic behavior\n",
        "if CONFIG.cpu:\n",
        "    CONFIG.device = 'cpu'\n",
        "else:\n",
        "    CONFIG.device = 'cuda' if torch.cuda.is_available() else 'cpu'\n",
        "\n",
        "torch.manual_seed(CONFIG.seed)\n",
        "random.seed(CONFIG.seed)\n",
        "np.random.seed(CONFIG.seed)\n",
        "torch.backends.cudnn.benchmark = True\n",
        "torch.use_deterministic_algorithms(mode=True, warn_only=True)\n",
        "\n",
        "main()"
      ]
    },
    {
      "cell_type": "markdown",
      "metadata": {
        "id": "IE9QjZZ7Xxxt"
      },
      "source": [
        "##### 1.1.4.2 - Sketch"
      ]
    },
    {
      "cell_type": "code",
      "execution_count": null,
      "metadata": {
        "vscode": {
          "languageId": "python"
        },
        "id": "fQsbAcpdXxxt"
      },
      "outputs": [],
      "source": [
        "warnings.filterwarnings('ignore', category=UserWarning)\n",
        "\n",
        "# Parse arguments\n",
        "conf = configurations['1.1.4.2']\n",
        "\n",
        "#args = parse_arguments()\n",
        "args = argparse.Namespace(**conf)\n",
        "print(args)\n",
        "CONFIG.update(vars(args))\n",
        "\n",
        "# Setup output directory\n",
        "CONFIG.save_dir = os.path.join('record', CONFIG.experiment_name)\n",
        "os.makedirs(CONFIG.save_dir, exist_ok=True)\n",
        "\n",
        "# Setup logging\n",
        "logging.basicConfig(\n",
        "    filename=os.path.join(CONFIG.save_dir, 'log.txt'),\n",
        "    format='%(message)s',\n",
        "    level=logging.INFO,\n",
        "    filemode='a'\n",
        ")\n",
        "\n",
        "# Set experiment's device & deterministic behavior\n",
        "if CONFIG.cpu:\n",
        "    CONFIG.device = 'cpu'\n",
        "else:\n",
        "    CONFIG.device = 'cuda' if torch.cuda.is_available() else 'cpu'\n",
        "\n",
        "torch.manual_seed(CONFIG.seed)\n",
        "random.seed(CONFIG.seed)\n",
        "np.random.seed(CONFIG.seed)\n",
        "torch.backends.cudnn.benchmark = True\n",
        "torch.use_deterministic_algorithms(mode=True, warn_only=True)\n",
        "\n",
        "main()"
      ]
    },
    {
      "cell_type": "markdown",
      "metadata": {
        "id": "UUDFSFbAXxxt"
      },
      "source": [
        "##### 1.1.4.3 - Photo"
      ]
    },
    {
      "cell_type": "code",
      "execution_count": null,
      "metadata": {
        "vscode": {
          "languageId": "python"
        },
        "id": "pRmigqqhXxxu"
      },
      "outputs": [],
      "source": [
        "warnings.filterwarnings('ignore', category=UserWarning)\n",
        "\n",
        "# Parse arguments\n",
        "conf = configurations['1.1.4.3']\n",
        "\n",
        "#args = parse_arguments()\n",
        "args = argparse.Namespace(**conf)\n",
        "print(args)\n",
        "CONFIG.update(vars(args))\n",
        "\n",
        "# Setup output directory\n",
        "CONFIG.save_dir = os.path.join('record', CONFIG.experiment_name)\n",
        "os.makedirs(CONFIG.save_dir, exist_ok=True)\n",
        "\n",
        "# Setup logging\n",
        "logging.basicConfig(\n",
        "    filename=os.path.join(CONFIG.save_dir, 'log.txt'),\n",
        "    format='%(message)s',\n",
        "    level=logging.INFO,\n",
        "    filemode='a'\n",
        ")\n",
        "\n",
        "# Set experiment's device & deterministic behavior\n",
        "if CONFIG.cpu:\n",
        "    CONFIG.device = 'cpu'\n",
        "else:\n",
        "    CONFIG.device = 'cuda' if torch.cuda.is_available() else 'cpu'\n",
        "\n",
        "torch.manual_seed(CONFIG.seed)\n",
        "random.seed(CONFIG.seed)\n",
        "np.random.seed(CONFIG.seed)\n",
        "torch.backends.cudnn.benchmark = True\n",
        "torch.use_deterministic_algorithms(mode=True, warn_only=True)\n",
        "\n",
        "main()"
      ]
    },
    {
      "cell_type": "markdown",
      "metadata": {
        "id": "ycjnl_mUXxxu"
      },
      "source": [
        "#### 1.1.5 - ASH module after layer2.0.conv1"
      ]
    },
    {
      "cell_type": "markdown",
      "metadata": {
        "id": "Y27AtU5YXxxu"
      },
      "source": [
        "##### 1.1.5.1 - Cartoon"
      ]
    },
    {
      "cell_type": "code",
      "execution_count": null,
      "metadata": {
        "vscode": {
          "languageId": "python"
        },
        "id": "KwOW53WZXxxu"
      },
      "outputs": [],
      "source": [
        "warnings.filterwarnings('ignore', category=UserWarning)\n",
        "\n",
        "# Parse arguments\n",
        "conf = configurations['1.1.5.1']\n",
        "\n",
        "#args = parse_arguments()\n",
        "args = argparse.Namespace(**conf)\n",
        "print(args)\n",
        "CONFIG.update(vars(args))\n",
        "\n",
        "# Setup output directory\n",
        "CONFIG.save_dir = os.path.join('record', CONFIG.experiment_name)\n",
        "os.makedirs(CONFIG.save_dir, exist_ok=True)\n",
        "\n",
        "# Setup logging\n",
        "logging.basicConfig(\n",
        "    filename=os.path.join(CONFIG.save_dir, 'log.txt'),\n",
        "    format='%(message)s',\n",
        "    level=logging.INFO,\n",
        "    filemode='a'\n",
        ")\n",
        "\n",
        "# Set experiment's device & deterministic behavior\n",
        "if CONFIG.cpu:\n",
        "    CONFIG.device = 'cpu'\n",
        "else:\n",
        "    CONFIG.device = 'cuda' if torch.cuda.is_available() else 'cpu'\n",
        "\n",
        "torch.manual_seed(CONFIG.seed)\n",
        "random.seed(CONFIG.seed)\n",
        "np.random.seed(CONFIG.seed)\n",
        "torch.backends.cudnn.benchmark = True\n",
        "torch.use_deterministic_algorithms(mode=True, warn_only=True)\n",
        "\n",
        "main()"
      ]
    },
    {
      "cell_type": "markdown",
      "metadata": {
        "id": "EJD_HVWfXxxv"
      },
      "source": [
        "##### 1.1.5.2 - Sketch"
      ]
    },
    {
      "cell_type": "code",
      "execution_count": null,
      "metadata": {
        "vscode": {
          "languageId": "python"
        },
        "id": "M2oK8ImbXxxv"
      },
      "outputs": [],
      "source": [
        "warnings.filterwarnings('ignore', category=UserWarning)\n",
        "\n",
        "# Parse arguments\n",
        "conf = configurations['1.1.5.2']\n",
        "\n",
        "#args = parse_arguments()\n",
        "args = argparse.Namespace(**conf)\n",
        "print(args)\n",
        "CONFIG.update(vars(args))\n",
        "\n",
        "# Setup output directory\n",
        "CONFIG.save_dir = os.path.join('record', CONFIG.experiment_name)\n",
        "os.makedirs(CONFIG.save_dir, exist_ok=True)\n",
        "\n",
        "# Setup logging\n",
        "logging.basicConfig(\n",
        "    filename=os.path.join(CONFIG.save_dir, 'log.txt'),\n",
        "    format='%(message)s',\n",
        "    level=logging.INFO,\n",
        "    filemode='a'\n",
        ")\n",
        "\n",
        "# Set experiment's device & deterministic behavior\n",
        "if CONFIG.cpu:\n",
        "    CONFIG.device = 'cpu'\n",
        "else:\n",
        "    CONFIG.device = 'cuda' if torch.cuda.is_available() else 'cpu'\n",
        "\n",
        "torch.manual_seed(CONFIG.seed)\n",
        "random.seed(CONFIG.seed)\n",
        "np.random.seed(CONFIG.seed)\n",
        "torch.backends.cudnn.benchmark = True\n",
        "torch.use_deterministic_algorithms(mode=True, warn_only=True)\n",
        "\n",
        "main()"
      ]
    },
    {
      "cell_type": "markdown",
      "metadata": {
        "id": "_w39323IXxxv"
      },
      "source": [
        "##### 1.1.5.3 - Photo"
      ]
    },
    {
      "cell_type": "code",
      "execution_count": null,
      "metadata": {
        "vscode": {
          "languageId": "python"
        },
        "id": "HEA7bvBmXxxv"
      },
      "outputs": [],
      "source": [
        "warnings.filterwarnings('ignore', category=UserWarning)\n",
        "\n",
        "# Parse arguments\n",
        "conf = configurations['1.1.5.3']\n",
        "\n",
        "#args = parse_arguments()\n",
        "args = argparse.Namespace(**conf)\n",
        "print(args)\n",
        "CONFIG.update(vars(args))\n",
        "\n",
        "# Setup output directory\n",
        "CONFIG.save_dir = os.path.join('record', CONFIG.experiment_name)\n",
        "os.makedirs(CONFIG.save_dir, exist_ok=True)\n",
        "\n",
        "# Setup logging\n",
        "logging.basicConfig(\n",
        "    filename=os.path.join(CONFIG.save_dir, 'log.txt'),\n",
        "    format='%(message)s',\n",
        "    level=logging.INFO,\n",
        "    filemode='a'\n",
        ")\n",
        "\n",
        "# Set experiment's device & deterministic behavior\n",
        "if CONFIG.cpu:\n",
        "    CONFIG.device = 'cpu'\n",
        "else:\n",
        "    CONFIG.device = 'cuda' if torch.cuda.is_available() else 'cpu'\n",
        "\n",
        "torch.manual_seed(CONFIG.seed)\n",
        "random.seed(CONFIG.seed)\n",
        "np.random.seed(CONFIG.seed)\n",
        "torch.backends.cudnn.benchmark = True\n",
        "torch.use_deterministic_algorithms(mode=True, warn_only=True)\n",
        "\n",
        "main()"
      ]
    },
    {
      "cell_type": "markdown",
      "metadata": {
        "id": "pkTvn9BaXxxw"
      },
      "source": [
        "#### 1.1.6 - ASH module after layer2.0.conv2"
      ]
    },
    {
      "cell_type": "markdown",
      "metadata": {
        "id": "6Ibi8mI2Xxxw"
      },
      "source": [
        "##### 1.1.6.1 - Cartoon"
      ]
    },
    {
      "cell_type": "code",
      "execution_count": null,
      "metadata": {
        "vscode": {
          "languageId": "python"
        },
        "id": "LNAUFLTwXxxw"
      },
      "outputs": [],
      "source": [
        "warnings.filterwarnings('ignore', category=UserWarning)\n",
        "\n",
        "# Parse arguments\n",
        "conf = configurations['1.1.6.1']\n",
        "\n",
        "#args = parse_arguments()\n",
        "args = argparse.Namespace(**conf)\n",
        "print(args)\n",
        "CONFIG.update(vars(args))\n",
        "\n",
        "# Setup output directory\n",
        "CONFIG.save_dir = os.path.join('record', CONFIG.experiment_name)\n",
        "os.makedirs(CONFIG.save_dir, exist_ok=True)\n",
        "\n",
        "# Setup logging\n",
        "logging.basicConfig(\n",
        "    filename=os.path.join(CONFIG.save_dir, 'log.txt'),\n",
        "    format='%(message)s',\n",
        "    level=logging.INFO,\n",
        "    filemode='a'\n",
        ")\n",
        "\n",
        "# Set experiment's device & deterministic behavior\n",
        "if CONFIG.cpu:\n",
        "    CONFIG.device = 'cpu'\n",
        "else:\n",
        "    CONFIG.device = 'cuda' if torch.cuda.is_available() else 'cpu'\n",
        "\n",
        "torch.manual_seed(CONFIG.seed)\n",
        "random.seed(CONFIG.seed)\n",
        "np.random.seed(CONFIG.seed)\n",
        "torch.backends.cudnn.benchmark = True\n",
        "torch.use_deterministic_algorithms(mode=True, warn_only=True)\n",
        "\n",
        "main()"
      ]
    },
    {
      "cell_type": "markdown",
      "metadata": {
        "id": "SQJVD4nMXxxw"
      },
      "source": [
        "##### 1.1.6.2 - Sketch"
      ]
    },
    {
      "cell_type": "code",
      "execution_count": null,
      "metadata": {
        "vscode": {
          "languageId": "python"
        },
        "id": "9UVHzHgaXxxx"
      },
      "outputs": [],
      "source": [
        "warnings.filterwarnings('ignore', category=UserWarning)\n",
        "\n",
        "# Parse arguments\n",
        "conf = configurations['1.1.6.2']\n",
        "\n",
        "#args = parse_arguments()\n",
        "args = argparse.Namespace(**conf)\n",
        "print(args)\n",
        "CONFIG.update(vars(args))\n",
        "\n",
        "# Setup output directory\n",
        "CONFIG.save_dir = os.path.join('record', CONFIG.experiment_name)\n",
        "os.makedirs(CONFIG.save_dir, exist_ok=True)\n",
        "\n",
        "# Setup logging\n",
        "logging.basicConfig(\n",
        "    filename=os.path.join(CONFIG.save_dir, 'log.txt'),\n",
        "    format='%(message)s',\n",
        "    level=logging.INFO,\n",
        "    filemode='a'\n",
        ")\n",
        "\n",
        "# Set experiment's device & deterministic behavior\n",
        "if CONFIG.cpu:\n",
        "    CONFIG.device = 'cpu'\n",
        "else:\n",
        "    CONFIG.device = 'cuda' if torch.cuda.is_available() else 'cpu'\n",
        "\n",
        "torch.manual_seed(CONFIG.seed)\n",
        "random.seed(CONFIG.seed)\n",
        "np.random.seed(CONFIG.seed)\n",
        "torch.backends.cudnn.benchmark = True\n",
        "torch.use_deterministic_algorithms(mode=True, warn_only=True)\n",
        "\n",
        "main()"
      ]
    },
    {
      "cell_type": "markdown",
      "metadata": {
        "id": "FEzzVWSrXxxx"
      },
      "source": [
        "##### 1.1.6.3 - Photo"
      ]
    },
    {
      "cell_type": "code",
      "execution_count": null,
      "metadata": {
        "vscode": {
          "languageId": "python"
        },
        "id": "wtg4t_7jXxxy"
      },
      "outputs": [],
      "source": [
        "warnings.filterwarnings('ignore', category=UserWarning)\n",
        "\n",
        "# Parse arguments\n",
        "conf = configurations['1.1.6.3']\n",
        "\n",
        "#args = parse_arguments()\n",
        "args = argparse.Namespace(**conf)\n",
        "print(args)\n",
        "CONFIG.update(vars(args))\n",
        "\n",
        "# Setup output directory\n",
        "CONFIG.save_dir = os.path.join('record', CONFIG.experiment_name)\n",
        "os.makedirs(CONFIG.save_dir, exist_ok=True)\n",
        "\n",
        "# Setup logging\n",
        "logging.basicConfig(\n",
        "    filename=os.path.join(CONFIG.save_dir, 'log.txt'),\n",
        "    format='%(message)s',\n",
        "    level=logging.INFO,\n",
        "    filemode='a'\n",
        ")\n",
        "\n",
        "# Set experiment's device & deterministic behavior\n",
        "if CONFIG.cpu:\n",
        "    CONFIG.device = 'cpu'\n",
        "else:\n",
        "    CONFIG.device = 'cuda' if torch.cuda.is_available() else 'cpu'\n",
        "\n",
        "torch.manual_seed(CONFIG.seed)\n",
        "random.seed(CONFIG.seed)\n",
        "np.random.seed(CONFIG.seed)\n",
        "torch.backends.cudnn.benchmark = True\n",
        "torch.use_deterministic_algorithms(mode=True, warn_only=True)\n",
        "\n",
        "main()"
      ]
    },
    {
      "cell_type": "markdown",
      "metadata": {
        "id": "jW27piN-Xxxz"
      },
      "source": [
        "#### 1.1.7 - ASH module after layer2.1.conv1"
      ]
    },
    {
      "cell_type": "markdown",
      "metadata": {
        "id": "9l7pAc9HXxxz"
      },
      "source": [
        "##### 1.1.7.1 - Cartoon"
      ]
    },
    {
      "cell_type": "code",
      "execution_count": null,
      "metadata": {
        "vscode": {
          "languageId": "python"
        },
        "id": "QSznLGBVXxx6"
      },
      "outputs": [],
      "source": [
        "warnings.filterwarnings('ignore', category=UserWarning)\n",
        "\n",
        "# Parse arguments\n",
        "conf = configurations['1.1.7.1']\n",
        "\n",
        "#args = parse_arguments()\n",
        "args = argparse.Namespace(**conf)\n",
        "print(args)\n",
        "CONFIG.update(vars(args))\n",
        "\n",
        "# Setup output directory\n",
        "CONFIG.save_dir = os.path.join('record', CONFIG.experiment_name)\n",
        "os.makedirs(CONFIG.save_dir, exist_ok=True)\n",
        "\n",
        "# Setup logging\n",
        "logging.basicConfig(\n",
        "    filename=os.path.join(CONFIG.save_dir, 'log.txt'),\n",
        "    format='%(message)s',\n",
        "    level=logging.INFO,\n",
        "    filemode='a'\n",
        ")\n",
        "\n",
        "# Set experiment's device & deterministic behavior\n",
        "if CONFIG.cpu:\n",
        "    CONFIG.device = 'cpu'\n",
        "else:\n",
        "    CONFIG.device = 'cuda' if torch.cuda.is_available() else 'cpu'\n",
        "\n",
        "torch.manual_seed(CONFIG.seed)\n",
        "random.seed(CONFIG.seed)\n",
        "np.random.seed(CONFIG.seed)\n",
        "torch.backends.cudnn.benchmark = True\n",
        "torch.use_deterministic_algorithms(mode=True, warn_only=True)\n",
        "\n",
        "main()"
      ]
    },
    {
      "cell_type": "markdown",
      "metadata": {
        "id": "6fTaKtbmXxx6"
      },
      "source": [
        "##### 1.1.7.2 - Sketch"
      ]
    },
    {
      "cell_type": "code",
      "execution_count": null,
      "metadata": {
        "vscode": {
          "languageId": "python"
        },
        "id": "O6dvLHdqXxx6"
      },
      "outputs": [],
      "source": [
        "warnings.filterwarnings('ignore', category=UserWarning)\n",
        "\n",
        "# Parse arguments\n",
        "conf = configurations['1.1.7.2']\n",
        "\n",
        "#args = parse_arguments()\n",
        "args = argparse.Namespace(**conf)\n",
        "print(args)\n",
        "CONFIG.update(vars(args))\n",
        "\n",
        "# Setup output directory\n",
        "CONFIG.save_dir = os.path.join('record', CONFIG.experiment_name)\n",
        "os.makedirs(CONFIG.save_dir, exist_ok=True)\n",
        "\n",
        "# Setup logging\n",
        "logging.basicConfig(\n",
        "    filename=os.path.join(CONFIG.save_dir, 'log.txt'),\n",
        "    format='%(message)s',\n",
        "    level=logging.INFO,\n",
        "    filemode='a'\n",
        ")\n",
        "\n",
        "# Set experiment's device & deterministic behavior\n",
        "if CONFIG.cpu:\n",
        "    CONFIG.device = 'cpu'\n",
        "else:\n",
        "    CONFIG.device = 'cuda' if torch.cuda.is_available() else 'cpu'\n",
        "\n",
        "torch.manual_seed(CONFIG.seed)\n",
        "random.seed(CONFIG.seed)\n",
        "np.random.seed(CONFIG.seed)\n",
        "torch.backends.cudnn.benchmark = True\n",
        "torch.use_deterministic_algorithms(mode=True, warn_only=True)\n",
        "\n",
        "main()"
      ]
    },
    {
      "cell_type": "markdown",
      "metadata": {
        "id": "mahl1nEeXxx7"
      },
      "source": [
        "##### 1.1.7.3 - Photo"
      ]
    },
    {
      "cell_type": "code",
      "execution_count": null,
      "metadata": {
        "vscode": {
          "languageId": "python"
        },
        "id": "TcRWiol6Xxx7"
      },
      "outputs": [],
      "source": [
        "warnings.filterwarnings('ignore', category=UserWarning)\n",
        "\n",
        "# Parse arguments\n",
        "conf = configurations['1.1.7.3']\n",
        "\n",
        "#args = parse_arguments()\n",
        "args = argparse.Namespace(**conf)\n",
        "print(args)\n",
        "CONFIG.update(vars(args))\n",
        "\n",
        "# Setup output directory\n",
        "CONFIG.save_dir = os.path.join('record', CONFIG.experiment_name)\n",
        "os.makedirs(CONFIG.save_dir, exist_ok=True)\n",
        "\n",
        "# Setup logging\n",
        "logging.basicConfig(\n",
        "    filename=os.path.join(CONFIG.save_dir, 'log.txt'),\n",
        "    format='%(message)s',\n",
        "    level=logging.INFO,\n",
        "    filemode='a'\n",
        ")\n",
        "\n",
        "# Set experiment's device & deterministic behavior\n",
        "if CONFIG.cpu:\n",
        "    CONFIG.device = 'cpu'\n",
        "else:\n",
        "    CONFIG.device = 'cuda' if torch.cuda.is_available() else 'cpu'\n",
        "\n",
        "torch.manual_seed(CONFIG.seed)\n",
        "random.seed(CONFIG.seed)\n",
        "np.random.seed(CONFIG.seed)\n",
        "torch.backends.cudnn.benchmark = True\n",
        "torch.use_deterministic_algorithms(mode=True, warn_only=True)\n",
        "\n",
        "main()"
      ]
    },
    {
      "cell_type": "markdown",
      "metadata": {
        "id": "bh_7maL_Xxx7"
      },
      "source": [
        "#### 1.1.8 - ASH module after layer2.1.conv2"
      ]
    },
    {
      "cell_type": "markdown",
      "metadata": {
        "id": "avpgFjY1Xxx7"
      },
      "source": [
        "##### 1.1.8.1 - Cartoon"
      ]
    },
    {
      "cell_type": "code",
      "execution_count": null,
      "metadata": {
        "vscode": {
          "languageId": "python"
        },
        "id": "WMjcCYQfXxx7"
      },
      "outputs": [],
      "source": [
        "warnings.filterwarnings('ignore', category=UserWarning)\n",
        "\n",
        "# Parse arguments\n",
        "conf = configurations['1.1.8.1']\n",
        "\n",
        "#args = parse_arguments()\n",
        "args = argparse.Namespace(**conf)\n",
        "print(args)\n",
        "CONFIG.update(vars(args))\n",
        "\n",
        "# Setup output directory\n",
        "CONFIG.save_dir = os.path.join('record', CONFIG.experiment_name)\n",
        "os.makedirs(CONFIG.save_dir, exist_ok=True)\n",
        "\n",
        "# Setup logging\n",
        "logging.basicConfig(\n",
        "    filename=os.path.join(CONFIG.save_dir, 'log.txt'),\n",
        "    format='%(message)s',\n",
        "    level=logging.INFO,\n",
        "    filemode='a'\n",
        ")\n",
        "\n",
        "# Set experiment's device & deterministic behavior\n",
        "if CONFIG.cpu:\n",
        "    CONFIG.device = 'cpu'\n",
        "else:\n",
        "    CONFIG.device = 'cuda' if torch.cuda.is_available() else 'cpu'\n",
        "\n",
        "torch.manual_seed(CONFIG.seed)\n",
        "random.seed(CONFIG.seed)\n",
        "np.random.seed(CONFIG.seed)\n",
        "torch.backends.cudnn.benchmark = True\n",
        "torch.use_deterministic_algorithms(mode=True, warn_only=True)\n",
        "\n",
        "main()"
      ]
    },
    {
      "cell_type": "markdown",
      "metadata": {
        "id": "xzpHfqWTXxx7"
      },
      "source": [
        "##### 1.1.8.2 - Sketch"
      ]
    },
    {
      "cell_type": "code",
      "execution_count": null,
      "metadata": {
        "vscode": {
          "languageId": "python"
        },
        "id": "xZ0LDCQiXxx7"
      },
      "outputs": [],
      "source": [
        "warnings.filterwarnings('ignore', category=UserWarning)\n",
        "\n",
        "# Parse arguments\n",
        "conf = configurations['1.1.8.2']\n",
        "\n",
        "#args = parse_arguments()\n",
        "args = argparse.Namespace(**conf)\n",
        "print(args)\n",
        "CONFIG.update(vars(args))\n",
        "\n",
        "# Setup output directory\n",
        "CONFIG.save_dir = os.path.join('record', CONFIG.experiment_name)\n",
        "os.makedirs(CONFIG.save_dir, exist_ok=True)\n",
        "\n",
        "# Setup logging\n",
        "logging.basicConfig(\n",
        "    filename=os.path.join(CONFIG.save_dir, 'log.txt'),\n",
        "    format='%(message)s',\n",
        "    level=logging.INFO,\n",
        "    filemode='a'\n",
        ")\n",
        "\n",
        "# Set experiment's device & deterministic behavior\n",
        "if CONFIG.cpu:\n",
        "    CONFIG.device = 'cpu'\n",
        "else:\n",
        "    CONFIG.device = 'cuda' if torch.cuda.is_available() else 'cpu'\n",
        "\n",
        "torch.manual_seed(CONFIG.seed)\n",
        "random.seed(CONFIG.seed)\n",
        "np.random.seed(CONFIG.seed)\n",
        "torch.backends.cudnn.benchmark = True\n",
        "torch.use_deterministic_algorithms(mode=True, warn_only=True)\n",
        "\n",
        "main()"
      ]
    },
    {
      "cell_type": "markdown",
      "metadata": {
        "id": "HJLx37ZvXxx8"
      },
      "source": [
        "##### 1.1.8.3 - Photo"
      ]
    },
    {
      "cell_type": "code",
      "execution_count": null,
      "metadata": {
        "vscode": {
          "languageId": "python"
        },
        "id": "YkgH9YXXXxx8"
      },
      "outputs": [],
      "source": [
        "warnings.filterwarnings('ignore', category=UserWarning)\n",
        "\n",
        "# Parse arguments\n",
        "conf = configurations['1.1.8.3']\n",
        "\n",
        "#args = parse_arguments()\n",
        "args = argparse.Namespace(**conf)\n",
        "print(args)\n",
        "CONFIG.update(vars(args))\n",
        "\n",
        "# Setup output directory\n",
        "CONFIG.save_dir = os.path.join('record', CONFIG.experiment_name)\n",
        "os.makedirs(CONFIG.save_dir, exist_ok=True)\n",
        "\n",
        "# Setup logging\n",
        "logging.basicConfig(\n",
        "    filename=os.path.join(CONFIG.save_dir, 'log.txt'),\n",
        "    format='%(message)s',\n",
        "    level=logging.INFO,\n",
        "    filemode='a'\n",
        ")\n",
        "\n",
        "# Set experiment's device & deterministic behavior\n",
        "if CONFIG.cpu:\n",
        "    CONFIG.device = 'cpu'\n",
        "else:\n",
        "    CONFIG.device = 'cuda' if torch.cuda.is_available() else 'cpu'\n",
        "\n",
        "torch.manual_seed(CONFIG.seed)\n",
        "random.seed(CONFIG.seed)\n",
        "np.random.seed(CONFIG.seed)\n",
        "torch.backends.cudnn.benchmark = True\n",
        "torch.use_deterministic_algorithms(mode=True, warn_only=True)\n",
        "\n",
        "main()"
      ]
    },
    {
      "cell_type": "markdown",
      "metadata": {
        "id": "p6XaMwcMXxx8"
      },
      "source": [
        "#### 1.1.9 - ASH module after layer3.0.conv1"
      ]
    },
    {
      "cell_type": "markdown",
      "metadata": {
        "id": "364UFSozXxx8"
      },
      "source": [
        "##### 1.1.9.1 - Cartoon"
      ]
    },
    {
      "cell_type": "code",
      "execution_count": null,
      "metadata": {
        "vscode": {
          "languageId": "python"
        },
        "id": "PDv0wYGDXxx8"
      },
      "outputs": [],
      "source": [
        "warnings.filterwarnings('ignore', category=UserWarning)\n",
        "\n",
        "# Parse arguments\n",
        "conf = configurations['1.1.9.1']\n",
        "\n",
        "#args = parse_arguments()\n",
        "args = argparse.Namespace(**conf)\n",
        "print(args)\n",
        "CONFIG.update(vars(args))\n",
        "\n",
        "# Setup output directory\n",
        "CONFIG.save_dir = os.path.join('record', CONFIG.experiment_name)\n",
        "os.makedirs(CONFIG.save_dir, exist_ok=True)\n",
        "\n",
        "# Setup logging\n",
        "logging.basicConfig(\n",
        "    filename=os.path.join(CONFIG.save_dir, 'log.txt'),\n",
        "    format='%(message)s',\n",
        "    level=logging.INFO,\n",
        "    filemode='a'\n",
        ")\n",
        "\n",
        "# Set experiment's device & deterministic behavior\n",
        "if CONFIG.cpu:\n",
        "    CONFIG.device = 'cpu'\n",
        "else:\n",
        "    CONFIG.device = 'cuda' if torch.cuda.is_available() else 'cpu'\n",
        "\n",
        "torch.manual_seed(CONFIG.seed)\n",
        "random.seed(CONFIG.seed)\n",
        "np.random.seed(CONFIG.seed)\n",
        "torch.backends.cudnn.benchmark = True\n",
        "torch.use_deterministic_algorithms(mode=True, warn_only=True)\n",
        "\n",
        "main()"
      ]
    },
    {
      "cell_type": "markdown",
      "metadata": {
        "id": "oUIueylOXxx9"
      },
      "source": [
        "##### 1.1.9.2 - Sketch"
      ]
    },
    {
      "cell_type": "code",
      "execution_count": null,
      "metadata": {
        "vscode": {
          "languageId": "python"
        },
        "id": "iC36vRejXxx9"
      },
      "outputs": [],
      "source": [
        "warnings.filterwarnings('ignore', category=UserWarning)\n",
        "\n",
        "# Parse arguments\n",
        "conf = configurations['1.1.9.2']\n",
        "\n",
        "#args = parse_arguments()\n",
        "args = argparse.Namespace(**conf)\n",
        "print(args)\n",
        "CONFIG.update(vars(args))\n",
        "\n",
        "# Setup output directory\n",
        "CONFIG.save_dir = os.path.join('record', CONFIG.experiment_name)\n",
        "os.makedirs(CONFIG.save_dir, exist_ok=True)\n",
        "\n",
        "# Setup logging\n",
        "logging.basicConfig(\n",
        "    filename=os.path.join(CONFIG.save_dir, 'log.txt'),\n",
        "    format='%(message)s',\n",
        "    level=logging.INFO,\n",
        "    filemode='a'\n",
        ")\n",
        "\n",
        "# Set experiment's device & deterministic behavior\n",
        "if CONFIG.cpu:\n",
        "    CONFIG.device = 'cpu'\n",
        "else:\n",
        "    CONFIG.device = 'cuda' if torch.cuda.is_available() else 'cpu'\n",
        "\n",
        "torch.manual_seed(CONFIG.seed)\n",
        "random.seed(CONFIG.seed)\n",
        "np.random.seed(CONFIG.seed)\n",
        "torch.backends.cudnn.benchmark = True\n",
        "torch.use_deterministic_algorithms(mode=True, warn_only=True)\n",
        "\n",
        "main()"
      ]
    },
    {
      "cell_type": "markdown",
      "metadata": {
        "id": "I6DwExmkXxx9"
      },
      "source": [
        "##### 1.1.9.3 - Photo"
      ]
    },
    {
      "cell_type": "code",
      "execution_count": null,
      "metadata": {
        "vscode": {
          "languageId": "python"
        },
        "id": "Pc4nEsc1Xxx9"
      },
      "outputs": [],
      "source": [
        "warnings.filterwarnings('ignore', category=UserWarning)\n",
        "\n",
        "# Parse arguments\n",
        "conf = configurations['1.1.9.3']\n",
        "\n",
        "#args = parse_arguments()\n",
        "args = argparse.Namespace(**conf)\n",
        "print(args)\n",
        "CONFIG.update(vars(args))\n",
        "\n",
        "# Setup output directory\n",
        "CONFIG.save_dir = os.path.join('record', CONFIG.experiment_name)\n",
        "os.makedirs(CONFIG.save_dir, exist_ok=True)\n",
        "\n",
        "# Setup logging\n",
        "logging.basicConfig(\n",
        "    filename=os.path.join(CONFIG.save_dir, 'log.txt'),\n",
        "    format='%(message)s',\n",
        "    level=logging.INFO,\n",
        "    filemode='a'\n",
        ")\n",
        "\n",
        "# Set experiment's device & deterministic behavior\n",
        "if CONFIG.cpu:\n",
        "    CONFIG.device = 'cpu'\n",
        "else:\n",
        "    CONFIG.device = 'cuda' if torch.cuda.is_available() else 'cpu'\n",
        "\n",
        "torch.manual_seed(CONFIG.seed)\n",
        "random.seed(CONFIG.seed)\n",
        "np.random.seed(CONFIG.seed)\n",
        "torch.backends.cudnn.benchmark = True\n",
        "torch.use_deterministic_algorithms(mode=True, warn_only=True)\n",
        "\n",
        "main()"
      ]
    },
    {
      "cell_type": "markdown",
      "metadata": {
        "id": "DNmU7vLRXxx9"
      },
      "source": [
        "#### 1.1.10 - ASH module after layer3.0.conv2"
      ]
    },
    {
      "cell_type": "markdown",
      "metadata": {
        "id": "Q81JgoJrXxx9"
      },
      "source": [
        "##### 1.1.10.1 - Cartoon"
      ]
    },
    {
      "cell_type": "code",
      "execution_count": null,
      "metadata": {
        "vscode": {
          "languageId": "python"
        },
        "id": "ueCghjPsXxx-"
      },
      "outputs": [],
      "source": [
        "warnings.filterwarnings('ignore', category=UserWarning)\n",
        "\n",
        "# Parse arguments\n",
        "conf = configurations['1.1.10.1']\n",
        "\n",
        "#args = parse_arguments()\n",
        "args = argparse.Namespace(**conf)\n",
        "print(args)\n",
        "CONFIG.update(vars(args))\n",
        "\n",
        "# Setup output directory\n",
        "CONFIG.save_dir = os.path.join('record', CONFIG.experiment_name)\n",
        "os.makedirs(CONFIG.save_dir, exist_ok=True)\n",
        "\n",
        "# Setup logging\n",
        "logging.basicConfig(\n",
        "    filename=os.path.join(CONFIG.save_dir, 'log.txt'),\n",
        "    format='%(message)s',\n",
        "    level=logging.INFO,\n",
        "    filemode='a'\n",
        ")\n",
        "\n",
        "# Set experiment's device & deterministic behavior\n",
        "if CONFIG.cpu:\n",
        "    CONFIG.device = 'cpu'\n",
        "else:\n",
        "    CONFIG.device = 'cuda' if torch.cuda.is_available() else 'cpu'\n",
        "\n",
        "torch.manual_seed(CONFIG.seed)\n",
        "random.seed(CONFIG.seed)\n",
        "np.random.seed(CONFIG.seed)\n",
        "torch.backends.cudnn.benchmark = True\n",
        "torch.use_deterministic_algorithms(mode=True, warn_only=True)\n",
        "\n",
        "main()"
      ]
    },
    {
      "cell_type": "markdown",
      "metadata": {
        "id": "fCbOW9JvXxx-"
      },
      "source": [
        "##### 1.1.10.2 - Sketch"
      ]
    },
    {
      "cell_type": "code",
      "execution_count": null,
      "metadata": {
        "vscode": {
          "languageId": "python"
        },
        "id": "KICyH7BFXxx-"
      },
      "outputs": [],
      "source": [
        "warnings.filterwarnings('ignore', category=UserWarning)\n",
        "\n",
        "# Parse arguments\n",
        "conf = configurations['1.1.10.2']\n",
        "\n",
        "#args = parse_arguments()\n",
        "args = argparse.Namespace(**conf)\n",
        "print(args)\n",
        "CONFIG.update(vars(args))\n",
        "\n",
        "# Setup output directory\n",
        "CONFIG.save_dir = os.path.join('record', CONFIG.experiment_name)\n",
        "os.makedirs(CONFIG.save_dir, exist_ok=True)\n",
        "\n",
        "# Setup logging\n",
        "logging.basicConfig(\n",
        "    filename=os.path.join(CONFIG.save_dir, 'log.txt'),\n",
        "    format='%(message)s',\n",
        "    level=logging.INFO,\n",
        "    filemode='a'\n",
        ")\n",
        "\n",
        "# Set experiment's device & deterministic behavior\n",
        "if CONFIG.cpu:\n",
        "    CONFIG.device = 'cpu'\n",
        "else:\n",
        "    CONFIG.device = 'cuda' if torch.cuda.is_available() else 'cpu'\n",
        "\n",
        "torch.manual_seed(CONFIG.seed)\n",
        "random.seed(CONFIG.seed)\n",
        "np.random.seed(CONFIG.seed)\n",
        "torch.backends.cudnn.benchmark = True\n",
        "torch.use_deterministic_algorithms(mode=True, warn_only=True)\n",
        "\n",
        "main()"
      ]
    },
    {
      "cell_type": "markdown",
      "metadata": {
        "id": "kWCo_ohHXxx-"
      },
      "source": [
        "##### 1.1.10.3 - Photo"
      ]
    },
    {
      "cell_type": "code",
      "execution_count": null,
      "metadata": {
        "vscode": {
          "languageId": "python"
        },
        "id": "Z8RnUR4KXxx-"
      },
      "outputs": [],
      "source": [
        "warnings.filterwarnings('ignore', category=UserWarning)\n",
        "\n",
        "# Parse arguments\n",
        "conf = configurations['1.1.10.3']\n",
        "\n",
        "#args = parse_arguments()\n",
        "args = argparse.Namespace(**conf)\n",
        "print(args)\n",
        "CONFIG.update(vars(args))\n",
        "\n",
        "# Setup output directory\n",
        "CONFIG.save_dir = os.path.join('record', CONFIG.experiment_name)\n",
        "os.makedirs(CONFIG.save_dir, exist_ok=True)\n",
        "\n",
        "# Setup logging\n",
        "logging.basicConfig(\n",
        "    filename=os.path.join(CONFIG.save_dir, 'log.txt'),\n",
        "    format='%(message)s',\n",
        "    level=logging.INFO,\n",
        "    filemode='a'\n",
        ")\n",
        "\n",
        "# Set experiment's device & deterministic behavior\n",
        "if CONFIG.cpu:\n",
        "    CONFIG.device = 'cpu'\n",
        "else:\n",
        "    CONFIG.device = 'cuda' if torch.cuda.is_available() else 'cpu'\n",
        "\n",
        "torch.manual_seed(CONFIG.seed)\n",
        "random.seed(CONFIG.seed)\n",
        "np.random.seed(CONFIG.seed)\n",
        "torch.backends.cudnn.benchmark = True\n",
        "torch.use_deterministic_algorithms(mode=True, warn_only=True)\n",
        "\n",
        "main()"
      ]
    },
    {
      "cell_type": "markdown",
      "metadata": {
        "id": "nsTBtwp2Xxx-"
      },
      "source": [
        "#### 1.1.11 - ASH module after layer3.1.conv1"
      ]
    },
    {
      "cell_type": "markdown",
      "metadata": {
        "id": "1keI5nDgXxx-"
      },
      "source": [
        "##### 1.1.11.1 - Cartoon"
      ]
    },
    {
      "cell_type": "code",
      "execution_count": null,
      "metadata": {
        "vscode": {
          "languageId": "python"
        },
        "id": "LBFeMwr5Xxx_"
      },
      "outputs": [],
      "source": [
        "warnings.filterwarnings('ignore', category=UserWarning)\n",
        "\n",
        "# Parse arguments\n",
        "conf = configurations['1.1.11.1']\n",
        "\n",
        "#args = parse_arguments()\n",
        "args = argparse.Namespace(**conf)\n",
        "print(args)\n",
        "CONFIG.update(vars(args))\n",
        "\n",
        "# Setup output directory\n",
        "CONFIG.save_dir = os.path.join('record', CONFIG.experiment_name)\n",
        "os.makedirs(CONFIG.save_dir, exist_ok=True)\n",
        "\n",
        "# Setup logging\n",
        "logging.basicConfig(\n",
        "    filename=os.path.join(CONFIG.save_dir, 'log.txt'),\n",
        "    format='%(message)s',\n",
        "    level=logging.INFO,\n",
        "    filemode='a'\n",
        ")\n",
        "\n",
        "# Set experiment's device & deterministic behavior\n",
        "if CONFIG.cpu:\n",
        "    CONFIG.device = 'cpu'\n",
        "else:\n",
        "    CONFIG.device = 'cuda' if torch.cuda.is_available() else 'cpu'\n",
        "\n",
        "torch.manual_seed(CONFIG.seed)\n",
        "random.seed(CONFIG.seed)\n",
        "np.random.seed(CONFIG.seed)\n",
        "torch.backends.cudnn.benchmark = True\n",
        "torch.use_deterministic_algorithms(mode=True, warn_only=True)\n",
        "\n",
        "main()"
      ]
    },
    {
      "cell_type": "markdown",
      "metadata": {
        "id": "FJ2c1DecXxx_"
      },
      "source": [
        "##### 1.1.11.2 - Sketch"
      ]
    },
    {
      "cell_type": "code",
      "execution_count": null,
      "metadata": {
        "vscode": {
          "languageId": "python"
        },
        "id": "Vbyb5P_nXxx_"
      },
      "outputs": [],
      "source": [
        "warnings.filterwarnings('ignore', category=UserWarning)\n",
        "\n",
        "# Parse arguments\n",
        "conf = configurations['1.1.11.2']\n",
        "\n",
        "#args = parse_arguments()\n",
        "args = argparse.Namespace(**conf)\n",
        "print(args)\n",
        "CONFIG.update(vars(args))\n",
        "\n",
        "# Setup output directory\n",
        "CONFIG.save_dir = os.path.join('record', CONFIG.experiment_name)\n",
        "os.makedirs(CONFIG.save_dir, exist_ok=True)\n",
        "\n",
        "# Setup logging\n",
        "logging.basicConfig(\n",
        "    filename=os.path.join(CONFIG.save_dir, 'log.txt'),\n",
        "    format='%(message)s',\n",
        "    level=logging.INFO,\n",
        "    filemode='a'\n",
        ")\n",
        "\n",
        "# Set experiment's device & deterministic behavior\n",
        "if CONFIG.cpu:\n",
        "    CONFIG.device = 'cpu'\n",
        "else:\n",
        "    CONFIG.device = 'cuda' if torch.cuda.is_available() else 'cpu'\n",
        "\n",
        "torch.manual_seed(CONFIG.seed)\n",
        "random.seed(CONFIG.seed)\n",
        "np.random.seed(CONFIG.seed)\n",
        "torch.backends.cudnn.benchmark = True\n",
        "torch.use_deterministic_algorithms(mode=True, warn_only=True)\n",
        "\n",
        "main()"
      ]
    },
    {
      "cell_type": "markdown",
      "metadata": {
        "id": "Z9pN8VgAXxx_"
      },
      "source": [
        "##### 1.1.11.3 - Photo"
      ]
    },
    {
      "cell_type": "code",
      "execution_count": null,
      "metadata": {
        "vscode": {
          "languageId": "python"
        },
        "id": "Bm9dEScNXxx_"
      },
      "outputs": [],
      "source": [
        "warnings.filterwarnings('ignore', category=UserWarning)\n",
        "\n",
        "# Parse arguments\n",
        "conf = configurations['1.1.11.3']\n",
        "\n",
        "#args = parse_arguments()\n",
        "args = argparse.Namespace(**conf)\n",
        "print(args)\n",
        "CONFIG.update(vars(args))\n",
        "\n",
        "# Setup output directory\n",
        "CONFIG.save_dir = os.path.join('record', CONFIG.experiment_name)\n",
        "os.makedirs(CONFIG.save_dir, exist_ok=True)\n",
        "\n",
        "# Setup logging\n",
        "logging.basicConfig(\n",
        "    filename=os.path.join(CONFIG.save_dir, 'log.txt'),\n",
        "    format='%(message)s',\n",
        "    level=logging.INFO,\n",
        "    filemode='a'\n",
        ")\n",
        "\n",
        "# Set experiment's device & deterministic behavior\n",
        "if CONFIG.cpu:\n",
        "    CONFIG.device = 'cpu'\n",
        "else:\n",
        "    CONFIG.device = 'cuda' if torch.cuda.is_available() else 'cpu'\n",
        "\n",
        "torch.manual_seed(CONFIG.seed)\n",
        "random.seed(CONFIG.seed)\n",
        "np.random.seed(CONFIG.seed)\n",
        "torch.backends.cudnn.benchmark = True\n",
        "torch.use_deterministic_algorithms(mode=True, warn_only=True)\n",
        "\n",
        "main()"
      ]
    },
    {
      "cell_type": "markdown",
      "metadata": {
        "id": "bSl1Dpb-Xxx_"
      },
      "source": [
        "#### 1.1.12 - ASH module after layer3.1.conv2"
      ]
    },
    {
      "cell_type": "markdown",
      "metadata": {
        "id": "v10a8IgVXxx_"
      },
      "source": [
        "##### 1.1.12.1 - Cartoon"
      ]
    },
    {
      "cell_type": "code",
      "execution_count": null,
      "metadata": {
        "vscode": {
          "languageId": "python"
        },
        "id": "wn63YJY6XxyA"
      },
      "outputs": [],
      "source": [
        "warnings.filterwarnings('ignore', category=UserWarning)\n",
        "\n",
        "# Parse arguments\n",
        "conf = configurations['1.1.12.1']\n",
        "\n",
        "#args = parse_arguments()\n",
        "args = argparse.Namespace(**conf)\n",
        "print(args)\n",
        "CONFIG.update(vars(args))\n",
        "\n",
        "# Setup output directory\n",
        "CONFIG.save_dir = os.path.join('record', CONFIG.experiment_name)\n",
        "os.makedirs(CONFIG.save_dir, exist_ok=True)\n",
        "\n",
        "# Setup logging\n",
        "logging.basicConfig(\n",
        "    filename=os.path.join(CONFIG.save_dir, 'log.txt'),\n",
        "    format='%(message)s',\n",
        "    level=logging.INFO,\n",
        "    filemode='a'\n",
        ")\n",
        "\n",
        "# Set experiment's device & deterministic behavior\n",
        "if CONFIG.cpu:\n",
        "    CONFIG.device = 'cpu'\n",
        "else:\n",
        "    CONFIG.device = 'cuda' if torch.cuda.is_available() else 'cpu'\n",
        "\n",
        "torch.manual_seed(CONFIG.seed)\n",
        "random.seed(CONFIG.seed)\n",
        "np.random.seed(CONFIG.seed)\n",
        "torch.backends.cudnn.benchmark = True\n",
        "torch.use_deterministic_algorithms(mode=True, warn_only=True)\n",
        "\n",
        "main()"
      ]
    },
    {
      "cell_type": "markdown",
      "metadata": {
        "id": "V8soSDKtXxyA"
      },
      "source": [
        "##### 1.1.12.2 - Sketch"
      ]
    },
    {
      "cell_type": "code",
      "execution_count": null,
      "metadata": {
        "vscode": {
          "languageId": "python"
        },
        "id": "0GR8gjTfXxyA"
      },
      "outputs": [],
      "source": [
        "warnings.filterwarnings('ignore', category=UserWarning)\n",
        "\n",
        "# Parse arguments\n",
        "conf = configurations['1.1.12.2']\n",
        "\n",
        "#args = parse_arguments()\n",
        "args = argparse.Namespace(**conf)\n",
        "print(args)\n",
        "CONFIG.update(vars(args))\n",
        "\n",
        "# Setup output directory\n",
        "CONFIG.save_dir = os.path.join('record', CONFIG.experiment_name)\n",
        "os.makedirs(CONFIG.save_dir, exist_ok=True)\n",
        "\n",
        "# Setup logging\n",
        "logging.basicConfig(\n",
        "    filename=os.path.join(CONFIG.save_dir, 'log.txt'),\n",
        "    format='%(message)s',\n",
        "    level=logging.INFO,\n",
        "    filemode='a'\n",
        ")\n",
        "\n",
        "# Set experiment's device & deterministic behavior\n",
        "if CONFIG.cpu:\n",
        "    CONFIG.device = 'cpu'\n",
        "else:\n",
        "    CONFIG.device = 'cuda' if torch.cuda.is_available() else 'cpu'\n",
        "\n",
        "torch.manual_seed(CONFIG.seed)\n",
        "random.seed(CONFIG.seed)\n",
        "np.random.seed(CONFIG.seed)\n",
        "torch.backends.cudnn.benchmark = True\n",
        "torch.use_deterministic_algorithms(mode=True, warn_only=True)\n",
        "\n",
        "main()"
      ]
    },
    {
      "cell_type": "markdown",
      "metadata": {
        "id": "uNnZ0OSwXxyA"
      },
      "source": [
        "##### 1.1.12.3 - Photo"
      ]
    },
    {
      "cell_type": "code",
      "execution_count": null,
      "metadata": {
        "vscode": {
          "languageId": "python"
        },
        "id": "s-dHvemGXxyA"
      },
      "outputs": [],
      "source": [
        "warnings.filterwarnings('ignore', category=UserWarning)\n",
        "\n",
        "# Parse arguments\n",
        "conf = configurations['1.1.12.3']\n",
        "\n",
        "#args = parse_arguments()\n",
        "args = argparse.Namespace(**conf)\n",
        "print(args)\n",
        "CONFIG.update(vars(args))\n",
        "\n",
        "# Setup output directory\n",
        "CONFIG.save_dir = os.path.join('record', CONFIG.experiment_name)\n",
        "os.makedirs(CONFIG.save_dir, exist_ok=True)\n",
        "\n",
        "# Setup logging\n",
        "logging.basicConfig(\n",
        "    filename=os.path.join(CONFIG.save_dir, 'log.txt'),\n",
        "    format='%(message)s',\n",
        "    level=logging.INFO,\n",
        "    filemode='a'\n",
        ")\n",
        "\n",
        "# Set experiment's device & deterministic behavior\n",
        "if CONFIG.cpu:\n",
        "    CONFIG.device = 'cpu'\n",
        "else:\n",
        "    CONFIG.device = 'cuda' if torch.cuda.is_available() else 'cpu'\n",
        "\n",
        "torch.manual_seed(CONFIG.seed)\n",
        "random.seed(CONFIG.seed)\n",
        "np.random.seed(CONFIG.seed)\n",
        "torch.backends.cudnn.benchmark = True\n",
        "torch.use_deterministic_algorithms(mode=True, warn_only=True)\n",
        "\n",
        "main()"
      ]
    },
    {
      "cell_type": "markdown",
      "metadata": {
        "id": "h1P4n6ooXxyB"
      },
      "source": [
        "#### 1.1.13 - ASH module after layer4.0.conv1"
      ]
    },
    {
      "cell_type": "markdown",
      "metadata": {
        "id": "5t-h1ZwlXxyB"
      },
      "source": [
        "##### 1.1.13.1 - Cartoon"
      ]
    },
    {
      "cell_type": "code",
      "execution_count": null,
      "metadata": {
        "vscode": {
          "languageId": "python"
        },
        "id": "uZIlTeJsXxyB"
      },
      "outputs": [],
      "source": [
        "warnings.filterwarnings('ignore', category=UserWarning)\n",
        "\n",
        "# Parse arguments\n",
        "conf = configurations['1.1.13.1']\n",
        "\n",
        "#args = parse_arguments()\n",
        "args = argparse.Namespace(**conf)\n",
        "print(args)\n",
        "CONFIG.update(vars(args))\n",
        "\n",
        "# Setup output directory\n",
        "CONFIG.save_dir = os.path.join('record', CONFIG.experiment_name)\n",
        "os.makedirs(CONFIG.save_dir, exist_ok=True)\n",
        "\n",
        "# Setup logging\n",
        "logging.basicConfig(\n",
        "    filename=os.path.join(CONFIG.save_dir, 'log.txt'),\n",
        "    format='%(message)s',\n",
        "    level=logging.INFO,\n",
        "    filemode='a'\n",
        ")\n",
        "\n",
        "# Set experiment's device & deterministic behavior\n",
        "if CONFIG.cpu:\n",
        "    CONFIG.device = 'cpu'\n",
        "else:\n",
        "    CONFIG.device = 'cuda' if torch.cuda.is_available() else 'cpu'\n",
        "\n",
        "torch.manual_seed(CONFIG.seed)\n",
        "random.seed(CONFIG.seed)\n",
        "np.random.seed(CONFIG.seed)\n",
        "torch.backends.cudnn.benchmark = True\n",
        "torch.use_deterministic_algorithms(mode=True, warn_only=True)\n",
        "\n",
        "main()"
      ]
    },
    {
      "cell_type": "markdown",
      "metadata": {
        "id": "q56bm2qqXxyC"
      },
      "source": [
        "##### 1.1.13.2 - Sketch"
      ]
    },
    {
      "cell_type": "code",
      "execution_count": null,
      "metadata": {
        "vscode": {
          "languageId": "python"
        },
        "id": "tHx-wjWeXxyC"
      },
      "outputs": [],
      "source": [
        "warnings.filterwarnings('ignore', category=UserWarning)\n",
        "\n",
        "# Parse arguments\n",
        "conf = configurations['1.1.13.2']\n",
        "\n",
        "#args = parse_arguments()\n",
        "args = argparse.Namespace(**conf)\n",
        "print(args)\n",
        "CONFIG.update(vars(args))\n",
        "\n",
        "# Setup output directory\n",
        "CONFIG.save_dir = os.path.join('record', CONFIG.experiment_name)\n",
        "os.makedirs(CONFIG.save_dir, exist_ok=True)\n",
        "\n",
        "# Setup logging\n",
        "logging.basicConfig(\n",
        "    filename=os.path.join(CONFIG.save_dir, 'log.txt'),\n",
        "    format='%(message)s',\n",
        "    level=logging.INFO,\n",
        "    filemode='a'\n",
        ")\n",
        "\n",
        "# Set experiment's device & deterministic behavior\n",
        "if CONFIG.cpu:\n",
        "    CONFIG.device = 'cpu'\n",
        "else:\n",
        "    CONFIG.device = 'cuda' if torch.cuda.is_available() else 'cpu'\n",
        "\n",
        "torch.manual_seed(CONFIG.seed)\n",
        "random.seed(CONFIG.seed)\n",
        "np.random.seed(CONFIG.seed)\n",
        "torch.backends.cudnn.benchmark = True\n",
        "torch.use_deterministic_algorithms(mode=True, warn_only=True)\n",
        "\n",
        "main()"
      ]
    },
    {
      "cell_type": "markdown",
      "metadata": {
        "id": "pvev3tFgXxyC"
      },
      "source": [
        "##### 1.1.13.3 - Photo"
      ]
    },
    {
      "cell_type": "code",
      "execution_count": null,
      "metadata": {
        "vscode": {
          "languageId": "python"
        },
        "id": "YUFz_NH9XxyC"
      },
      "outputs": [],
      "source": [
        "warnings.filterwarnings('ignore', category=UserWarning)\n",
        "\n",
        "# Parse arguments\n",
        "conf = configurations['1.1.13.3']\n",
        "\n",
        "#args = parse_arguments()\n",
        "args = argparse.Namespace(**conf)\n",
        "print(args)\n",
        "CONFIG.update(vars(args))\n",
        "\n",
        "# Setup output directory\n",
        "CONFIG.save_dir = os.path.join('record', CONFIG.experiment_name)\n",
        "os.makedirs(CONFIG.save_dir, exist_ok=True)\n",
        "\n",
        "# Setup logging\n",
        "logging.basicConfig(\n",
        "    filename=os.path.join(CONFIG.save_dir, 'log.txt'),\n",
        "    format='%(message)s',\n",
        "    level=logging.INFO,\n",
        "    filemode='a'\n",
        ")\n",
        "\n",
        "# Set experiment's device & deterministic behavior\n",
        "if CONFIG.cpu:\n",
        "    CONFIG.device = 'cpu'\n",
        "else:\n",
        "    CONFIG.device = 'cuda' if torch.cuda.is_available() else 'cpu'\n",
        "\n",
        "torch.manual_seed(CONFIG.seed)\n",
        "random.seed(CONFIG.seed)\n",
        "np.random.seed(CONFIG.seed)\n",
        "torch.backends.cudnn.benchmark = True\n",
        "torch.use_deterministic_algorithms(mode=True, warn_only=True)\n",
        "\n",
        "main()"
      ]
    },
    {
      "cell_type": "markdown",
      "metadata": {
        "id": "ufA1LMtYXxyC"
      },
      "source": [
        "#### 1.1.14 - ASH module after layer4.0.conv2"
      ]
    },
    {
      "cell_type": "markdown",
      "metadata": {
        "id": "J3GJlYubXxyC"
      },
      "source": [
        "##### 1.1.14.1 - Cartoon"
      ]
    },
    {
      "cell_type": "code",
      "execution_count": null,
      "metadata": {
        "vscode": {
          "languageId": "python"
        },
        "id": "j3aBNb0zXxyC"
      },
      "outputs": [],
      "source": [
        "warnings.filterwarnings('ignore', category=UserWarning)\n",
        "\n",
        "# Parse arguments\n",
        "conf = configurations['1.1.14.1']\n",
        "\n",
        "#args = parse_arguments()\n",
        "args = argparse.Namespace(**conf)\n",
        "print(args)\n",
        "CONFIG.update(vars(args))\n",
        "\n",
        "# Setup output directory\n",
        "CONFIG.save_dir = os.path.join('record', CONFIG.experiment_name)\n",
        "os.makedirs(CONFIG.save_dir, exist_ok=True)\n",
        "\n",
        "# Setup logging\n",
        "logging.basicConfig(\n",
        "    filename=os.path.join(CONFIG.save_dir, 'log.txt'),\n",
        "    format='%(message)s',\n",
        "    level=logging.INFO,\n",
        "    filemode='a'\n",
        ")\n",
        "\n",
        "# Set experiment's device & deterministic behavior\n",
        "if CONFIG.cpu:\n",
        "    CONFIG.device = 'cpu'\n",
        "else:\n",
        "    CONFIG.device = 'cuda' if torch.cuda.is_available() else 'cpu'\n",
        "\n",
        "torch.manual_seed(CONFIG.seed)\n",
        "random.seed(CONFIG.seed)\n",
        "np.random.seed(CONFIG.seed)\n",
        "torch.backends.cudnn.benchmark = True\n",
        "torch.use_deterministic_algorithms(mode=True, warn_only=True)\n",
        "\n",
        "main()"
      ]
    },
    {
      "cell_type": "markdown",
      "metadata": {
        "id": "EsN_yO6ZXxyC"
      },
      "source": [
        "##### 1.1.14.2 - Sketch"
      ]
    },
    {
      "cell_type": "code",
      "execution_count": null,
      "metadata": {
        "vscode": {
          "languageId": "python"
        },
        "id": "tjg-54S6XxyC"
      },
      "outputs": [],
      "source": [
        "warnings.filterwarnings('ignore', category=UserWarning)\n",
        "\n",
        "# Parse arguments\n",
        "conf = configurations['1.1.14.2']\n",
        "\n",
        "#args = parse_arguments()\n",
        "args = argparse.Namespace(**conf)\n",
        "print(args)\n",
        "CONFIG.update(vars(args))\n",
        "\n",
        "# Setup output directory\n",
        "CONFIG.save_dir = os.path.join('record', CONFIG.experiment_name)\n",
        "os.makedirs(CONFIG.save_dir, exist_ok=True)\n",
        "\n",
        "# Setup logging\n",
        "logging.basicConfig(\n",
        "    filename=os.path.join(CONFIG.save_dir, 'log.txt'),\n",
        "    format='%(message)s',\n",
        "    level=logging.INFO,\n",
        "    filemode='a'\n",
        ")\n",
        "\n",
        "# Set experiment's device & deterministic behavior\n",
        "if CONFIG.cpu:\n",
        "    CONFIG.device = 'cpu'\n",
        "else:\n",
        "    CONFIG.device = 'cuda' if torch.cuda.is_available() else 'cpu'\n",
        "\n",
        "torch.manual_seed(CONFIG.seed)\n",
        "random.seed(CONFIG.seed)\n",
        "np.random.seed(CONFIG.seed)\n",
        "torch.backends.cudnn.benchmark = True\n",
        "torch.use_deterministic_algorithms(mode=True, warn_only=True)\n",
        "\n",
        "main()"
      ]
    },
    {
      "cell_type": "markdown",
      "metadata": {
        "id": "rCMSez08XxyC"
      },
      "source": [
        "##### 1.1.14.3 - Photo"
      ]
    },
    {
      "cell_type": "code",
      "execution_count": null,
      "metadata": {
        "vscode": {
          "languageId": "python"
        },
        "id": "xlNnAiRiXxyC"
      },
      "outputs": [],
      "source": [
        "warnings.filterwarnings('ignore', category=UserWarning)\n",
        "\n",
        "# Parse arguments\n",
        "conf = configurations['1.1.14.3']\n",
        "\n",
        "#args = parse_arguments()\n",
        "args = argparse.Namespace(**conf)\n",
        "print(args)\n",
        "CONFIG.update(vars(args))\n",
        "\n",
        "# Setup output directory\n",
        "CONFIG.save_dir = os.path.join('record', CONFIG.experiment_name)\n",
        "os.makedirs(CONFIG.save_dir, exist_ok=True)\n",
        "\n",
        "# Setup logging\n",
        "logging.basicConfig(\n",
        "    filename=os.path.join(CONFIG.save_dir, 'log.txt'),\n",
        "    format='%(message)s',\n",
        "    level=logging.INFO,\n",
        "    filemode='a'\n",
        ")\n",
        "\n",
        "# Set experiment's device & deterministic behavior\n",
        "if CONFIG.cpu:\n",
        "    CONFIG.device = 'cpu'\n",
        "else:\n",
        "    CONFIG.device = 'cuda' if torch.cuda.is_available() else 'cpu'\n",
        "\n",
        "torch.manual_seed(CONFIG.seed)\n",
        "random.seed(CONFIG.seed)\n",
        "np.random.seed(CONFIG.seed)\n",
        "torch.backends.cudnn.benchmark = True\n",
        "torch.use_deterministic_algorithms(mode=True, warn_only=True)\n",
        "\n",
        "main()"
      ]
    },
    {
      "cell_type": "markdown",
      "metadata": {
        "id": "tNdeyK-RXxyC"
      },
      "source": [
        "#### 1.1.15 - ASH module after layer4.1.conv1"
      ]
    },
    {
      "cell_type": "markdown",
      "metadata": {
        "id": "XkF3KefdXxyD"
      },
      "source": [
        "##### 1.1.15.1 - Cartoon"
      ]
    },
    {
      "cell_type": "code",
      "execution_count": null,
      "metadata": {
        "vscode": {
          "languageId": "python"
        },
        "id": "PhM4vzDLXxyE"
      },
      "outputs": [],
      "source": [
        "warnings.filterwarnings('ignore', category=UserWarning)\n",
        "\n",
        "# Parse arguments\n",
        "conf = configurations['1.1.15.1']\n",
        "\n",
        "#args = parse_arguments()\n",
        "args = argparse.Namespace(**conf)\n",
        "print(args)\n",
        "CONFIG.update(vars(args))\n",
        "\n",
        "# Setup output directory\n",
        "CONFIG.save_dir = os.path.join('record', CONFIG.experiment_name)\n",
        "os.makedirs(CONFIG.save_dir, exist_ok=True)\n",
        "\n",
        "# Setup logging\n",
        "logging.basicConfig(\n",
        "    filename=os.path.join(CONFIG.save_dir, 'log.txt'),\n",
        "    format='%(message)s',\n",
        "    level=logging.INFO,\n",
        "    filemode='a'\n",
        ")\n",
        "\n",
        "# Set experiment's device & deterministic behavior\n",
        "if CONFIG.cpu:\n",
        "    CONFIG.device = 'cpu'\n",
        "else:\n",
        "    CONFIG.device = 'cuda' if torch.cuda.is_available() else 'cpu'\n",
        "\n",
        "torch.manual_seed(CONFIG.seed)\n",
        "random.seed(CONFIG.seed)\n",
        "np.random.seed(CONFIG.seed)\n",
        "torch.backends.cudnn.benchmark = True\n",
        "torch.use_deterministic_algorithms(mode=True, warn_only=True)\n",
        "\n",
        "main()"
      ]
    },
    {
      "cell_type": "markdown",
      "metadata": {
        "id": "GJnIAoRdXxyE"
      },
      "source": [
        "##### 1.1.15.2 - Sketch"
      ]
    },
    {
      "cell_type": "code",
      "execution_count": null,
      "metadata": {
        "vscode": {
          "languageId": "python"
        },
        "id": "qUPb9CIOXxyE"
      },
      "outputs": [],
      "source": [
        "warnings.filterwarnings('ignore', category=UserWarning)\n",
        "\n",
        "# Parse arguments\n",
        "conf = configurations['1.1.15.2']\n",
        "\n",
        "#args = parse_arguments()\n",
        "args = argparse.Namespace(**conf)\n",
        "print(args)\n",
        "CONFIG.update(vars(args))\n",
        "\n",
        "# Setup output directory\n",
        "CONFIG.save_dir = os.path.join('record', CONFIG.experiment_name)\n",
        "os.makedirs(CONFIG.save_dir, exist_ok=True)\n",
        "\n",
        "# Setup logging\n",
        "logging.basicConfig(\n",
        "    filename=os.path.join(CONFIG.save_dir, 'log.txt'),\n",
        "    format='%(message)s',\n",
        "    level=logging.INFO,\n",
        "    filemode='a'\n",
        ")\n",
        "\n",
        "# Set experiment's device & deterministic behavior\n",
        "if CONFIG.cpu:\n",
        "    CONFIG.device = 'cpu'\n",
        "else:\n",
        "    CONFIG.device = 'cuda' if torch.cuda.is_available() else 'cpu'\n",
        "\n",
        "torch.manual_seed(CONFIG.seed)\n",
        "random.seed(CONFIG.seed)\n",
        "np.random.seed(CONFIG.seed)\n",
        "torch.backends.cudnn.benchmark = True\n",
        "torch.use_deterministic_algorithms(mode=True, warn_only=True)\n",
        "\n",
        "main()"
      ]
    },
    {
      "cell_type": "markdown",
      "metadata": {
        "id": "uofshYpEXxyE"
      },
      "source": [
        "##### 1.1.15.3 - Photo"
      ]
    },
    {
      "cell_type": "code",
      "execution_count": null,
      "metadata": {
        "vscode": {
          "languageId": "python"
        },
        "id": "fPmpULTqXxyE"
      },
      "outputs": [],
      "source": [
        "warnings.filterwarnings('ignore', category=UserWarning)\n",
        "\n",
        "# Parse arguments\n",
        "conf = configurations['1.1.15.3']\n",
        "\n",
        "#args = parse_arguments()\n",
        "args = argparse.Namespace(**conf)\n",
        "print(args)\n",
        "CONFIG.update(vars(args))\n",
        "\n",
        "# Setup output directory\n",
        "CONFIG.save_dir = os.path.join('record', CONFIG.experiment_name)\n",
        "os.makedirs(CONFIG.save_dir, exist_ok=True)\n",
        "\n",
        "# Setup logging\n",
        "logging.basicConfig(\n",
        "    filename=os.path.join(CONFIG.save_dir, 'log.txt'),\n",
        "    format='%(message)s',\n",
        "    level=logging.INFO,\n",
        "    filemode='a'\n",
        ")\n",
        "\n",
        "# Set experiment's device & deterministic behavior\n",
        "if CONFIG.cpu:\n",
        "    CONFIG.device = 'cpu'\n",
        "else:\n",
        "    CONFIG.device = 'cuda' if torch.cuda.is_available() else 'cpu'\n",
        "\n",
        "torch.manual_seed(CONFIG.seed)\n",
        "random.seed(CONFIG.seed)\n",
        "np.random.seed(CONFIG.seed)\n",
        "torch.backends.cudnn.benchmark = True\n",
        "torch.use_deterministic_algorithms(mode=True, warn_only=True)\n",
        "\n",
        "main()"
      ]
    },
    {
      "cell_type": "markdown",
      "metadata": {
        "id": "0FMQXcKXXxyE"
      },
      "source": [
        "#### 1.1.16 - ASH module after layer4.1.conv2"
      ]
    },
    {
      "cell_type": "markdown",
      "metadata": {
        "id": "3jWes4uxXxyE"
      },
      "source": [
        "##### 1.1.16.1 - Cartoon"
      ]
    },
    {
      "cell_type": "code",
      "execution_count": null,
      "metadata": {
        "vscode": {
          "languageId": "python"
        },
        "id": "OYzojC2IXxyE"
      },
      "outputs": [],
      "source": [
        "warnings.filterwarnings('ignore', category=UserWarning)\n",
        "\n",
        "# Parse arguments\n",
        "conf = configurations['1.1.16.1']\n",
        "\n",
        "#args = parse_arguments()\n",
        "args = argparse.Namespace(**conf)\n",
        "print(args)\n",
        "CONFIG.update(vars(args))\n",
        "\n",
        "# Setup output directory\n",
        "CONFIG.save_dir = os.path.join('record', CONFIG.experiment_name)\n",
        "os.makedirs(CONFIG.save_dir, exist_ok=True)\n",
        "\n",
        "# Setup logging\n",
        "logging.basicConfig(\n",
        "    filename=os.path.join(CONFIG.save_dir, 'log.txt'),\n",
        "    format='%(message)s',\n",
        "    level=logging.INFO,\n",
        "    filemode='a'\n",
        ")\n",
        "\n",
        "# Set experiment's device & deterministic behavior\n",
        "if CONFIG.cpu:\n",
        "    CONFIG.device = 'cpu'\n",
        "else:\n",
        "    CONFIG.device = 'cuda' if torch.cuda.is_available() else 'cpu'\n",
        "\n",
        "torch.manual_seed(CONFIG.seed)\n",
        "random.seed(CONFIG.seed)\n",
        "np.random.seed(CONFIG.seed)\n",
        "torch.backends.cudnn.benchmark = True\n",
        "torch.use_deterministic_algorithms(mode=True, warn_only=True)\n",
        "\n",
        "main()"
      ]
    },
    {
      "cell_type": "markdown",
      "metadata": {
        "id": "XRTT4VTpXxyF"
      },
      "source": [
        "##### 1.1.16.2 - Sketch"
      ]
    },
    {
      "cell_type": "code",
      "execution_count": null,
      "metadata": {
        "vscode": {
          "languageId": "python"
        },
        "id": "gOfAANgNXxyF"
      },
      "outputs": [],
      "source": [
        "warnings.filterwarnings('ignore', category=UserWarning)\n",
        "\n",
        "# Parse arguments\n",
        "conf = configurations['1.1.16.2']\n",
        "\n",
        "#args = parse_arguments()\n",
        "args = argparse.Namespace(**conf)\n",
        "print(args)\n",
        "CONFIG.update(vars(args))\n",
        "\n",
        "# Setup output directory\n",
        "CONFIG.save_dir = os.path.join('record', CONFIG.experiment_name)\n",
        "os.makedirs(CONFIG.save_dir, exist_ok=True)\n",
        "\n",
        "# Setup logging\n",
        "logging.basicConfig(\n",
        "    filename=os.path.join(CONFIG.save_dir, 'log.txt'),\n",
        "    format='%(message)s',\n",
        "    level=logging.INFO,\n",
        "    filemode='a'\n",
        ")\n",
        "\n",
        "# Set experiment's device & deterministic behavior\n",
        "if CONFIG.cpu:\n",
        "    CONFIG.device = 'cpu'\n",
        "else:\n",
        "    CONFIG.device = 'cuda' if torch.cuda.is_available() else 'cpu'\n",
        "\n",
        "torch.manual_seed(CONFIG.seed)\n",
        "random.seed(CONFIG.seed)\n",
        "np.random.seed(CONFIG.seed)\n",
        "torch.backends.cudnn.benchmark = True\n",
        "torch.use_deterministic_algorithms(mode=True, warn_only=True)\n",
        "\n",
        "main()"
      ]
    },
    {
      "cell_type": "markdown",
      "metadata": {
        "id": "BcXwuNi0XxyF"
      },
      "source": [
        "##### 1.1.16.3 - Photo"
      ]
    },
    {
      "cell_type": "code",
      "execution_count": null,
      "metadata": {
        "vscode": {
          "languageId": "python"
        },
        "id": "zmo11O1HXxyF"
      },
      "outputs": [],
      "source": [
        "warnings.filterwarnings('ignore', category=UserWarning)\n",
        "\n",
        "# Parse arguments\n",
        "conf = configurations['1.1.16.3']\n",
        "\n",
        "#args = parse_arguments()\n",
        "args = argparse.Namespace(**conf)\n",
        "print(args)\n",
        "CONFIG.update(vars(args))\n",
        "\n",
        "# Setup output directory\n",
        "CONFIG.save_dir = os.path.join('record', CONFIG.experiment_name)\n",
        "os.makedirs(CONFIG.save_dir, exist_ok=True)\n",
        "\n",
        "# Setup logging\n",
        "logging.basicConfig(\n",
        "    filename=os.path.join(CONFIG.save_dir, 'log.txt'),\n",
        "    format='%(message)s',\n",
        "    level=logging.INFO,\n",
        "    filemode='a'\n",
        ")\n",
        "\n",
        "# Set experiment's device & deterministic behavior\n",
        "if CONFIG.cpu:\n",
        "    CONFIG.device = 'cpu'\n",
        "else:\n",
        "    CONFIG.device = 'cuda' if torch.cuda.is_available() else 'cpu'\n",
        "\n",
        "torch.manual_seed(CONFIG.seed)\n",
        "random.seed(CONFIG.seed)\n",
        "np.random.seed(CONFIG.seed)\n",
        "torch.backends.cudnn.benchmark = True\n",
        "torch.use_deterministic_algorithms(mode=True, warn_only=True)\n",
        "\n",
        "main()"
      ]
    },
    {
      "cell_type": "markdown",
      "metadata": {
        "id": "PsvCRRHRXxyG"
      },
      "source": [
        "### 1.2 - Two ASH modules"
      ]
    },
    {
      "cell_type": "markdown",
      "metadata": {
        "id": "3WKhRTFrXxyG"
      },
      "source": [
        "#### 1.2.1 - ASH module after layer1.1.conv2 and layer2.1.conv2"
      ]
    },
    {
      "cell_type": "markdown",
      "metadata": {
        "id": "cCnBz-1cXxyG"
      },
      "source": [
        "##### 1.2.1.1 - Cartoon"
      ]
    },
    {
      "cell_type": "code",
      "execution_count": null,
      "metadata": {
        "vscode": {
          "languageId": "python"
        },
        "id": "dmI4K9dAXxyG"
      },
      "outputs": [],
      "source": [
        "warnings.filterwarnings('ignore', category=UserWarning)\n",
        "\n",
        "# Parse arguments\n",
        "conf = configurations['1.2.1.1']\n",
        "\n",
        "#args = parse_arguments()\n",
        "args = argparse.Namespace(**conf)\n",
        "print(args)\n",
        "CONFIG.update(vars(args))\n",
        "\n",
        "# Setup output directory\n",
        "CONFIG.save_dir = os.path.join('record', CONFIG.experiment_name)\n",
        "os.makedirs(CONFIG.save_dir, exist_ok=True)\n",
        "\n",
        "# Setup logging\n",
        "logging.basicConfig(\n",
        "    filename=os.path.join(CONFIG.save_dir, 'log.txt'),\n",
        "    format='%(message)s',\n",
        "    level=logging.INFO,\n",
        "    filemode='a'\n",
        ")\n",
        "\n",
        "# Set experiment's device & deterministic behavior\n",
        "if CONFIG.cpu:\n",
        "    CONFIG.device = 'cpu'\n",
        "else:\n",
        "    CONFIG.device = 'cuda' if torch.cuda.is_available() else 'cpu'\n",
        "\n",
        "torch.manual_seed(CONFIG.seed)\n",
        "random.seed(CONFIG.seed)\n",
        "np.random.seed(CONFIG.seed)\n",
        "torch.backends.cudnn.benchmark = True\n",
        "torch.use_deterministic_algorithms(mode=True, warn_only=True)\n",
        "\n",
        "main()"
      ]
    },
    {
      "cell_type": "markdown",
      "metadata": {
        "id": "in3TCSleXxyG"
      },
      "source": [
        "##### 1.2.1.2 - Sketch"
      ]
    },
    {
      "cell_type": "code",
      "execution_count": null,
      "metadata": {
        "vscode": {
          "languageId": "python"
        },
        "id": "PkMdpbWNXxyG"
      },
      "outputs": [],
      "source": [
        "warnings.filterwarnings('ignore', category=UserWarning)\n",
        "\n",
        "# Parse arguments\n",
        "conf = configurations['1.2.1.2']\n",
        "\n",
        "#args = parse_arguments()\n",
        "args = argparse.Namespace(**conf)\n",
        "print(args)\n",
        "CONFIG.update(vars(args))\n",
        "\n",
        "# Setup output directory\n",
        "CONFIG.save_dir = os.path.join('record', CONFIG.experiment_name)\n",
        "os.makedirs(CONFIG.save_dir, exist_ok=True)\n",
        "\n",
        "# Setup logging\n",
        "logging.basicConfig(\n",
        "    filename=os.path.join(CONFIG.save_dir, 'log.txt'),\n",
        "    format='%(message)s',\n",
        "    level=logging.INFO,\n",
        "    filemode='a'\n",
        ")\n",
        "\n",
        "# Set experiment's device & deterministic behavior\n",
        "if CONFIG.cpu:\n",
        "    CONFIG.device = 'cpu'\n",
        "else:\n",
        "    CONFIG.device = 'cuda' if torch.cuda.is_available() else 'cpu'\n",
        "\n",
        "torch.manual_seed(CONFIG.seed)\n",
        "random.seed(CONFIG.seed)\n",
        "np.random.seed(CONFIG.seed)\n",
        "torch.backends.cudnn.benchmark = True\n",
        "torch.use_deterministic_algorithms(mode=True, warn_only=True)\n",
        "\n",
        "main()"
      ]
    },
    {
      "cell_type": "markdown",
      "metadata": {
        "id": "0YDVr5GWXxyG"
      },
      "source": [
        "##### 1.2.1.3 - Photo"
      ]
    },
    {
      "cell_type": "code",
      "execution_count": null,
      "metadata": {
        "vscode": {
          "languageId": "python"
        },
        "id": "vdBAJ-bzXxyG"
      },
      "outputs": [],
      "source": [
        "warnings.filterwarnings('ignore', category=UserWarning)\n",
        "\n",
        "# Parse arguments\n",
        "conf = configurations['1.2.1.3']\n",
        "\n",
        "#args = parse_arguments()\n",
        "args = argparse.Namespace(**conf)\n",
        "print(args)\n",
        "CONFIG.update(vars(args))\n",
        "\n",
        "# Setup output directory\n",
        "CONFIG.save_dir = os.path.join('record', CONFIG.experiment_name)\n",
        "os.makedirs(CONFIG.save_dir, exist_ok=True)\n",
        "\n",
        "# Setup logging\n",
        "logging.basicConfig(\n",
        "    filename=os.path.join(CONFIG.save_dir, 'log.txt'),\n",
        "    format='%(message)s',\n",
        "    level=logging.INFO,\n",
        "    filemode='a'\n",
        ")\n",
        "\n",
        "# Set experiment's device & deterministic behavior\n",
        "if CONFIG.cpu:\n",
        "    CONFIG.device = 'cpu'\n",
        "else:\n",
        "    CONFIG.device = 'cuda' if torch.cuda.is_available() else 'cpu'\n",
        "\n",
        "torch.manual_seed(CONFIG.seed)\n",
        "random.seed(CONFIG.seed)\n",
        "np.random.seed(CONFIG.seed)\n",
        "torch.backends.cudnn.benchmark = True\n",
        "torch.use_deterministic_algorithms(mode=True, warn_only=True)\n",
        "\n",
        "main()"
      ]
    },
    {
      "cell_type": "markdown",
      "metadata": {
        "id": "a7tr3jpvXxyG"
      },
      "source": [
        "#### 1.2.2 - ASH module after layer1.1.conv2 and layer3.0.conv1"
      ]
    },
    {
      "cell_type": "markdown",
      "metadata": {
        "id": "SB4fTxrwXxyG"
      },
      "source": [
        "##### 1.2.2.1 - Cartoon"
      ]
    },
    {
      "cell_type": "code",
      "execution_count": null,
      "metadata": {
        "vscode": {
          "languageId": "python"
        },
        "id": "Iq4OBpJzXxyG"
      },
      "outputs": [],
      "source": [
        "warnings.filterwarnings('ignore', category=UserWarning)\n",
        "\n",
        "# Parse arguments\n",
        "conf = configurations['1.2.2.1']\n",
        "\n",
        "#args = parse_arguments()\n",
        "args = argparse.Namespace(**conf)\n",
        "print(args)\n",
        "CONFIG.update(vars(args))\n",
        "\n",
        "# Setup output directory\n",
        "CONFIG.save_dir = os.path.join('record', CONFIG.experiment_name)\n",
        "os.makedirs(CONFIG.save_dir, exist_ok=True)\n",
        "\n",
        "# Setup logging\n",
        "logging.basicConfig(\n",
        "    filename=os.path.join(CONFIG.save_dir, 'log.txt'),\n",
        "    format='%(message)s',\n",
        "    level=logging.INFO,\n",
        "    filemode='a'\n",
        ")\n",
        "\n",
        "# Set experiment's device & deterministic behavior\n",
        "if CONFIG.cpu:\n",
        "    CONFIG.device = 'cpu'\n",
        "else:\n",
        "    CONFIG.device = 'cuda' if torch.cuda.is_available() else 'cpu'\n",
        "\n",
        "torch.manual_seed(CONFIG.seed)\n",
        "random.seed(CONFIG.seed)\n",
        "np.random.seed(CONFIG.seed)\n",
        "torch.backends.cudnn.benchmark = True\n",
        "torch.use_deterministic_algorithms(mode=True, warn_only=True)\n",
        "\n",
        "main()"
      ]
    },
    {
      "cell_type": "markdown",
      "metadata": {
        "id": "xeDCTUmEXxyH"
      },
      "source": [
        "##### 1.2.2.2 - Sketch"
      ]
    },
    {
      "cell_type": "code",
      "execution_count": null,
      "metadata": {
        "vscode": {
          "languageId": "python"
        },
        "id": "CfPeAaKSXxyH"
      },
      "outputs": [],
      "source": [
        "warnings.filterwarnings('ignore', category=UserWarning)\n",
        "\n",
        "# Parse arguments\n",
        "conf = configurations['1.2.2.2']\n",
        "\n",
        "#args = parse_arguments()\n",
        "args = argparse.Namespace(**conf)\n",
        "print(args)\n",
        "CONFIG.update(vars(args))\n",
        "\n",
        "# Setup output directory\n",
        "CONFIG.save_dir = os.path.join('record', CONFIG.experiment_name)\n",
        "os.makedirs(CONFIG.save_dir, exist_ok=True)\n",
        "\n",
        "# Setup logging\n",
        "logging.basicConfig(\n",
        "    filename=os.path.join(CONFIG.save_dir, 'log.txt'),\n",
        "    format='%(message)s',\n",
        "    level=logging.INFO,\n",
        "    filemode='a'\n",
        ")\n",
        "\n",
        "# Set experiment's device & deterministic behavior\n",
        "if CONFIG.cpu:\n",
        "    CONFIG.device = 'cpu'\n",
        "else:\n",
        "    CONFIG.device = 'cuda' if torch.cuda.is_available() else 'cpu'\n",
        "\n",
        "torch.manual_seed(CONFIG.seed)\n",
        "random.seed(CONFIG.seed)\n",
        "np.random.seed(CONFIG.seed)\n",
        "torch.backends.cudnn.benchmark = True\n",
        "torch.use_deterministic_algorithms(mode=True, warn_only=True)\n",
        "\n",
        "main()"
      ]
    },
    {
      "cell_type": "markdown",
      "metadata": {
        "id": "zydqTokqXxyH"
      },
      "source": [
        "##### 1.2.2.3 - Photo"
      ]
    },
    {
      "cell_type": "code",
      "execution_count": null,
      "metadata": {
        "vscode": {
          "languageId": "python"
        },
        "id": "Paoib5A6XxyH"
      },
      "outputs": [],
      "source": [
        "warnings.filterwarnings('ignore', category=UserWarning)\n",
        "\n",
        "# Parse arguments\n",
        "conf = configurations['1.2.2.3']\n",
        "\n",
        "#args = parse_arguments()\n",
        "args = argparse.Namespace(**conf)\n",
        "print(args)\n",
        "CONFIG.update(vars(args))\n",
        "\n",
        "# Setup output directory\n",
        "CONFIG.save_dir = os.path.join('record', CONFIG.experiment_name)\n",
        "os.makedirs(CONFIG.save_dir, exist_ok=True)\n",
        "\n",
        "# Setup logging\n",
        "logging.basicConfig(\n",
        "    filename=os.path.join(CONFIG.save_dir, 'log.txt'),\n",
        "    format='%(message)s',\n",
        "    level=logging.INFO,\n",
        "    filemode='a'\n",
        ")\n",
        "\n",
        "# Set experiment's device & deterministic behavior\n",
        "if CONFIG.cpu:\n",
        "    CONFIG.device = 'cpu'\n",
        "else:\n",
        "    CONFIG.device = 'cuda' if torch.cuda.is_available() else 'cpu'\n",
        "\n",
        "torch.manual_seed(CONFIG.seed)\n",
        "random.seed(CONFIG.seed)\n",
        "np.random.seed(CONFIG.seed)\n",
        "torch.backends.cudnn.benchmark = True\n",
        "torch.use_deterministic_algorithms(mode=True, warn_only=True)\n",
        "\n",
        "main()"
      ]
    },
    {
      "cell_type": "markdown",
      "metadata": {
        "id": "SQ4icnwJXxyH"
      },
      "source": []
    },
    {
      "cell_type": "markdown",
      "metadata": {
        "id": "gFvBJ9nbXxyI"
      },
      "source": [
        "#### 1.2.3 - ASH module after layer1.1.conv2 and layer3.1.conv2"
      ]
    },
    {
      "cell_type": "markdown",
      "metadata": {
        "id": "NUFLrd1sXxyJ"
      },
      "source": [
        "##### 1.2.3.1 - Cartoon"
      ]
    },
    {
      "cell_type": "code",
      "execution_count": null,
      "metadata": {
        "vscode": {
          "languageId": "python"
        },
        "id": "HWYz3cO5XxyJ"
      },
      "outputs": [],
      "source": [
        "warnings.filterwarnings('ignore', category=UserWarning)\n",
        "\n",
        "# Parse arguments\n",
        "conf = configurations['1.2.3.1']\n",
        "\n",
        "#args = parse_arguments()\n",
        "args = argparse.Namespace(**conf)\n",
        "print(args)\n",
        "CONFIG.update(vars(args))\n",
        "\n",
        "# Setup output directory\n",
        "CONFIG.save_dir = os.path.join('record', CONFIG.experiment_name)\n",
        "os.makedirs(CONFIG.save_dir, exist_ok=True)\n",
        "\n",
        "# Setup logging\n",
        "logging.basicConfig(\n",
        "    filename=os.path.join(CONFIG.save_dir, 'log.txt'),\n",
        "    format='%(message)s',\n",
        "    level=logging.INFO,\n",
        "    filemode='a'\n",
        ")\n",
        "\n",
        "# Set experiment's device & deterministic behavior\n",
        "if CONFIG.cpu:\n",
        "    CONFIG.device = 'cpu'\n",
        "else:\n",
        "    CONFIG.device = 'cuda' if torch.cuda.is_available() else 'cpu'\n",
        "\n",
        "torch.manual_seed(CONFIG.seed)\n",
        "random.seed(CONFIG.seed)\n",
        "np.random.seed(CONFIG.seed)\n",
        "torch.backends.cudnn.benchmark = True\n",
        "torch.use_deterministic_algorithms(mode=True, warn_only=True)\n",
        "\n",
        "main()"
      ]
    },
    {
      "cell_type": "markdown",
      "metadata": {
        "id": "ZhahSD7FXxyJ"
      },
      "source": [
        "##### 1.2.3.2 - Sketch"
      ]
    },
    {
      "cell_type": "code",
      "execution_count": null,
      "metadata": {
        "vscode": {
          "languageId": "python"
        },
        "id": "ksKr3CFKXxyJ"
      },
      "outputs": [],
      "source": [
        "warnings.filterwarnings('ignore', category=UserWarning)\n",
        "\n",
        "# Parse arguments\n",
        "conf = configurations['1.2.3.2']\n",
        "\n",
        "#args = parse_arguments()\n",
        "args = argparse.Namespace(**conf)\n",
        "print(args)\n",
        "CONFIG.update(vars(args))\n",
        "\n",
        "# Setup output directory\n",
        "CONFIG.save_dir = os.path.join('record', CONFIG.experiment_name)\n",
        "os.makedirs(CONFIG.save_dir, exist_ok=True)\n",
        "\n",
        "# Setup logging\n",
        "logging.basicConfig(\n",
        "    filename=os.path.join(CONFIG.save_dir, 'log.txt'),\n",
        "    format='%(message)s',\n",
        "    level=logging.INFO,\n",
        "    filemode='a'\n",
        ")\n",
        "\n",
        "# Set experiment's device & deterministic behavior\n",
        "if CONFIG.cpu:\n",
        "    CONFIG.device = 'cpu'\n",
        "else:\n",
        "    CONFIG.device = 'cuda' if torch.cuda.is_available() else 'cpu'\n",
        "\n",
        "torch.manual_seed(CONFIG.seed)\n",
        "random.seed(CONFIG.seed)\n",
        "np.random.seed(CONFIG.seed)\n",
        "torch.backends.cudnn.benchmark = True\n",
        "torch.use_deterministic_algorithms(mode=True, warn_only=True)\n",
        "\n",
        "main()"
      ]
    },
    {
      "cell_type": "markdown",
      "metadata": {
        "id": "ajudjB5WXxyJ"
      },
      "source": [
        "##### 1.2.3.3 - Photo"
      ]
    },
    {
      "cell_type": "code",
      "execution_count": null,
      "metadata": {
        "vscode": {
          "languageId": "python"
        },
        "id": "SfRzgHwQXxyJ"
      },
      "outputs": [],
      "source": [
        "warnings.filterwarnings('ignore', category=UserWarning)\n",
        "\n",
        "# Parse arguments\n",
        "conf = configurations['1.2.3.3']\n",
        "\n",
        "#args = parse_arguments()\n",
        "args = argparse.Namespace(**conf)\n",
        "print(args)\n",
        "CONFIG.update(vars(args))\n",
        "\n",
        "# Setup output directory\n",
        "CONFIG.save_dir = os.path.join('record', CONFIG.experiment_name)\n",
        "os.makedirs(CONFIG.save_dir, exist_ok=True)\n",
        "\n",
        "# Setup logging\n",
        "logging.basicConfig(\n",
        "    filename=os.path.join(CONFIG.save_dir, 'log.txt'),\n",
        "    format='%(message)s',\n",
        "    level=logging.INFO,\n",
        "    filemode='a'\n",
        ")\n",
        "\n",
        "# Set experiment's device & deterministic behavior\n",
        "if CONFIG.cpu:\n",
        "    CONFIG.device = 'cpu'\n",
        "else:\n",
        "    CONFIG.device = 'cuda' if torch.cuda.is_available() else 'cpu'\n",
        "\n",
        "torch.manual_seed(CONFIG.seed)\n",
        "random.seed(CONFIG.seed)\n",
        "np.random.seed(CONFIG.seed)\n",
        "torch.backends.cudnn.benchmark = True\n",
        "torch.use_deterministic_algorithms(mode=True, warn_only=True)\n",
        "\n",
        "main()"
      ]
    },
    {
      "cell_type": "markdown",
      "metadata": {
        "id": "bnvR6I3jXxyK"
      },
      "source": [
        "#### 1.2.4 - ASH module after layer2.1.conv2 and layer3.0.conv1"
      ]
    },
    {
      "cell_type": "markdown",
      "metadata": {
        "id": "vYLSfZIKXxyK"
      },
      "source": [
        "##### 1.2.4.1 - Cartoon"
      ]
    },
    {
      "cell_type": "code",
      "execution_count": null,
      "metadata": {
        "vscode": {
          "languageId": "python"
        },
        "id": "PMOjc-CtXxyK"
      },
      "outputs": [],
      "source": [
        "warnings.filterwarnings('ignore', category=UserWarning)\n",
        "\n",
        "# Parse arguments\n",
        "conf = configurations['1.2.4.1']\n",
        "\n",
        "#args = parse_arguments()\n",
        "args = argparse.Namespace(**conf)\n",
        "print(args)\n",
        "CONFIG.update(vars(args))\n",
        "\n",
        "# Setup output directory\n",
        "CONFIG.save_dir = os.path.join('record', CONFIG.experiment_name)\n",
        "os.makedirs(CONFIG.save_dir, exist_ok=True)\n",
        "\n",
        "# Setup logging\n",
        "logging.basicConfig(\n",
        "    filename=os.path.join(CONFIG.save_dir, 'log.txt'),\n",
        "    format='%(message)s',\n",
        "    level=logging.INFO,\n",
        "    filemode='a'\n",
        ")\n",
        "\n",
        "# Set experiment's device & deterministic behavior\n",
        "if CONFIG.cpu:\n",
        "    CONFIG.device = 'cpu'\n",
        "else:\n",
        "    CONFIG.device = 'cuda' if torch.cuda.is_available() else 'cpu'\n",
        "\n",
        "torch.manual_seed(CONFIG.seed)\n",
        "random.seed(CONFIG.seed)\n",
        "np.random.seed(CONFIG.seed)\n",
        "torch.backends.cudnn.benchmark = True\n",
        "torch.use_deterministic_algorithms(mode=True, warn_only=True)\n",
        "\n",
        "main()"
      ]
    },
    {
      "cell_type": "markdown",
      "metadata": {
        "id": "VEVvZoryXxyK"
      },
      "source": [
        "##### 1.2.4.2 - Sketch"
      ]
    },
    {
      "cell_type": "code",
      "execution_count": null,
      "metadata": {
        "vscode": {
          "languageId": "python"
        },
        "id": "XL42mh1fXxyK"
      },
      "outputs": [],
      "source": [
        "warnings.filterwarnings('ignore', category=UserWarning)\n",
        "\n",
        "# Parse arguments\n",
        "conf = configurations['1.2.4.2']\n",
        "\n",
        "#args = parse_arguments()\n",
        "args = argparse.Namespace(**conf)\n",
        "print(args)\n",
        "CONFIG.update(vars(args))\n",
        "\n",
        "# Setup output directory\n",
        "CONFIG.save_dir = os.path.join('record', CONFIG.experiment_name)\n",
        "os.makedirs(CONFIG.save_dir, exist_ok=True)\n",
        "\n",
        "# Setup logging\n",
        "logging.basicConfig(\n",
        "    filename=os.path.join(CONFIG.save_dir, 'log.txt'),\n",
        "    format='%(message)s',\n",
        "    level=logging.INFO,\n",
        "    filemode='a'\n",
        ")\n",
        "\n",
        "# Set experiment's device & deterministic behavior\n",
        "if CONFIG.cpu:\n",
        "    CONFIG.device = 'cpu'\n",
        "else:\n",
        "    CONFIG.device = 'cuda' if torch.cuda.is_available() else 'cpu'\n",
        "\n",
        "torch.manual_seed(CONFIG.seed)\n",
        "random.seed(CONFIG.seed)\n",
        "np.random.seed(CONFIG.seed)\n",
        "torch.backends.cudnn.benchmark = True\n",
        "torch.use_deterministic_algorithms(mode=True, warn_only=True)\n",
        "\n",
        "main()"
      ]
    },
    {
      "cell_type": "markdown",
      "metadata": {
        "id": "D3Tt-CDKXxyK"
      },
      "source": [
        "##### 1.2.4.3 - Photo"
      ]
    },
    {
      "cell_type": "code",
      "execution_count": null,
      "metadata": {
        "vscode": {
          "languageId": "python"
        },
        "id": "_0MRq71VXxyL"
      },
      "outputs": [],
      "source": [
        "warnings.filterwarnings('ignore', category=UserWarning)\n",
        "\n",
        "# Parse arguments\n",
        "conf = configurations['1.2.4.3']\n",
        "\n",
        "#args = parse_arguments()\n",
        "args = argparse.Namespace(**conf)\n",
        "print(args)\n",
        "CONFIG.update(vars(args))\n",
        "\n",
        "# Setup output directory\n",
        "CONFIG.save_dir = os.path.join('record', CONFIG.experiment_name)\n",
        "os.makedirs(CONFIG.save_dir, exist_ok=True)\n",
        "\n",
        "# Setup logging\n",
        "logging.basicConfig(\n",
        "    filename=os.path.join(CONFIG.save_dir, 'log.txt'),\n",
        "    format='%(message)s',\n",
        "    level=logging.INFO,\n",
        "    filemode='a'\n",
        ")\n",
        "\n",
        "# Set experiment's device & deterministic behavior\n",
        "if CONFIG.cpu:\n",
        "    CONFIG.device = 'cpu'\n",
        "else:\n",
        "    CONFIG.device = 'cuda' if torch.cuda.is_available() else 'cpu'\n",
        "\n",
        "torch.manual_seed(CONFIG.seed)\n",
        "random.seed(CONFIG.seed)\n",
        "np.random.seed(CONFIG.seed)\n",
        "torch.backends.cudnn.benchmark = True\n",
        "torch.use_deterministic_algorithms(mode=True, warn_only=True)\n",
        "\n",
        "main()"
      ]
    },
    {
      "cell_type": "markdown",
      "metadata": {
        "id": "iaBo48WuXxyL"
      },
      "source": [
        "#### 1.2.5 - ASH module after layer2.1.conv2 and layer3.1.conv2"
      ]
    },
    {
      "cell_type": "markdown",
      "metadata": {
        "id": "NUUNslJSXxyL"
      },
      "source": [
        "##### 1.2.5.1 - Cartoon"
      ]
    },
    {
      "cell_type": "code",
      "execution_count": null,
      "metadata": {
        "vscode": {
          "languageId": "python"
        },
        "id": "0bL-VYa6XxyL"
      },
      "outputs": [],
      "source": [
        "warnings.filterwarnings('ignore', category=UserWarning)\n",
        "\n",
        "# Parse arguments\n",
        "conf = configurations['1.2.5.1']\n",
        "\n",
        "#args = parse_arguments()\n",
        "args = argparse.Namespace(**conf)\n",
        "print(args)\n",
        "CONFIG.update(vars(args))\n",
        "\n",
        "# Setup output directory\n",
        "CONFIG.save_dir = os.path.join('record', CONFIG.experiment_name)\n",
        "os.makedirs(CONFIG.save_dir, exist_ok=True)\n",
        "\n",
        "# Setup logging\n",
        "logging.basicConfig(\n",
        "    filename=os.path.join(CONFIG.save_dir, 'log.txt'),\n",
        "    format='%(message)s',\n",
        "    level=logging.INFO,\n",
        "    filemode='a'\n",
        ")\n",
        "\n",
        "# Set experiment's device & deterministic behavior\n",
        "if CONFIG.cpu:\n",
        "    CONFIG.device = 'cpu'\n",
        "else:\n",
        "    CONFIG.device = 'cuda' if torch.cuda.is_available() else 'cpu'\n",
        "\n",
        "torch.manual_seed(CONFIG.seed)\n",
        "random.seed(CONFIG.seed)\n",
        "np.random.seed(CONFIG.seed)\n",
        "torch.backends.cudnn.benchmark = True\n",
        "torch.use_deterministic_algorithms(mode=True, warn_only=True)\n",
        "\n",
        "main()"
      ]
    },
    {
      "cell_type": "markdown",
      "metadata": {
        "id": "S4fz0qmPXxyL"
      },
      "source": [
        "##### 1.2.5.2 - Sketch"
      ]
    },
    {
      "cell_type": "code",
      "execution_count": null,
      "metadata": {
        "vscode": {
          "languageId": "python"
        },
        "id": "crD-q-hYXxyL"
      },
      "outputs": [],
      "source": [
        "warnings.filterwarnings('ignore', category=UserWarning)\n",
        "\n",
        "# Parse arguments\n",
        "conf = configurations['1.2.5.2']\n",
        "\n",
        "#args = parse_arguments()\n",
        "args = argparse.Namespace(**conf)\n",
        "print(args)\n",
        "CONFIG.update(vars(args))\n",
        "\n",
        "# Setup output directory\n",
        "CONFIG.save_dir = os.path.join('record', CONFIG.experiment_name)\n",
        "os.makedirs(CONFIG.save_dir, exist_ok=True)\n",
        "\n",
        "# Setup logging\n",
        "logging.basicConfig(\n",
        "    filename=os.path.join(CONFIG.save_dir, 'log.txt'),\n",
        "    format='%(message)s',\n",
        "    level=logging.INFO,\n",
        "    filemode='a'\n",
        ")\n",
        "\n",
        "# Set experiment's device & deterministic behavior\n",
        "if CONFIG.cpu:\n",
        "    CONFIG.device = 'cpu'\n",
        "else:\n",
        "    CONFIG.device = 'cuda' if torch.cuda.is_available() else 'cpu'\n",
        "\n",
        "torch.manual_seed(CONFIG.seed)\n",
        "random.seed(CONFIG.seed)\n",
        "np.random.seed(CONFIG.seed)\n",
        "torch.backends.cudnn.benchmark = True\n",
        "torch.use_deterministic_algorithms(mode=True, warn_only=True)\n",
        "\n",
        "main()"
      ]
    },
    {
      "cell_type": "markdown",
      "metadata": {
        "id": "Ix4BUVIIXxyL"
      },
      "source": [
        "##### 1.2.5.3 - Photo"
      ]
    },
    {
      "cell_type": "code",
      "execution_count": null,
      "metadata": {
        "vscode": {
          "languageId": "python"
        },
        "id": "M6qjAe2IXxyL"
      },
      "outputs": [],
      "source": [
        "warnings.filterwarnings('ignore', category=UserWarning)\n",
        "\n",
        "# Parse arguments\n",
        "conf = configurations['1.2.5.3']\n",
        "\n",
        "#args = parse_arguments()\n",
        "args = argparse.Namespace(**conf)\n",
        "print(args)\n",
        "CONFIG.update(vars(args))\n",
        "\n",
        "# Setup output directory\n",
        "CONFIG.save_dir = os.path.join('record', CONFIG.experiment_name)\n",
        "os.makedirs(CONFIG.save_dir, exist_ok=True)\n",
        "\n",
        "# Setup logging\n",
        "logging.basicConfig(\n",
        "    filename=os.path.join(CONFIG.save_dir, 'log.txt'),\n",
        "    format='%(message)s',\n",
        "    level=logging.INFO,\n",
        "    filemode='a'\n",
        ")\n",
        "\n",
        "# Set experiment's device & deterministic behavior\n",
        "if CONFIG.cpu:\n",
        "    CONFIG.device = 'cpu'\n",
        "else:\n",
        "    CONFIG.device = 'cuda' if torch.cuda.is_available() else 'cpu'\n",
        "\n",
        "torch.manual_seed(CONFIG.seed)\n",
        "random.seed(CONFIG.seed)\n",
        "np.random.seed(CONFIG.seed)\n",
        "torch.backends.cudnn.benchmark = True\n",
        "torch.use_deterministic_algorithms(mode=True, warn_only=True)\n",
        "\n",
        "main()"
      ]
    },
    {
      "cell_type": "markdown",
      "metadata": {
        "id": "U0h5_eljXxyM"
      },
      "source": [
        "#### 1.2.6 - ASH module after layer3.0.conv1 and layer3.1.conv2"
      ]
    },
    {
      "cell_type": "markdown",
      "metadata": {
        "id": "6j633iEBXxyM"
      },
      "source": [
        "##### 1.2.6.1 - Cartoon"
      ]
    },
    {
      "cell_type": "code",
      "execution_count": null,
      "metadata": {
        "vscode": {
          "languageId": "python"
        },
        "id": "SX52Af9ZXxyM"
      },
      "outputs": [],
      "source": [
        "warnings.filterwarnings('ignore', category=UserWarning)\n",
        "\n",
        "# Parse arguments\n",
        "conf = configurations['1.2.6.1']\n",
        "\n",
        "#args = parse_arguments()\n",
        "args = argparse.Namespace(**conf)\n",
        "print(args)\n",
        "CONFIG.update(vars(args))\n",
        "\n",
        "# Setup output directory\n",
        "CONFIG.save_dir = os.path.join('record', CONFIG.experiment_name)\n",
        "os.makedirs(CONFIG.save_dir, exist_ok=True)\n",
        "\n",
        "# Setup logging\n",
        "logging.basicConfig(\n",
        "    filename=os.path.join(CONFIG.save_dir, 'log.txt'),\n",
        "    format='%(message)s',\n",
        "    level=logging.INFO,\n",
        "    filemode='a'\n",
        ")\n",
        "\n",
        "# Set experiment's device & deterministic behavior\n",
        "if CONFIG.cpu:\n",
        "    CONFIG.device = 'cpu'\n",
        "else:\n",
        "    CONFIG.device = 'cuda' if torch.cuda.is_available() else 'cpu'\n",
        "\n",
        "torch.manual_seed(CONFIG.seed)\n",
        "random.seed(CONFIG.seed)\n",
        "np.random.seed(CONFIG.seed)\n",
        "torch.backends.cudnn.benchmark = True\n",
        "torch.use_deterministic_algorithms(mode=True, warn_only=True)\n",
        "\n",
        "main()"
      ]
    },
    {
      "cell_type": "markdown",
      "metadata": {
        "id": "xw7ZY0uaXxyM"
      },
      "source": [
        "##### 1.2.6.2 - Sketch"
      ]
    },
    {
      "cell_type": "code",
      "execution_count": null,
      "metadata": {
        "vscode": {
          "languageId": "python"
        },
        "id": "OLnkS-GuXxyM"
      },
      "outputs": [],
      "source": [
        "warnings.filterwarnings('ignore', category=UserWarning)\n",
        "\n",
        "# Parse arguments\n",
        "conf = configurations['1.2.6.2']\n",
        "\n",
        "#args = parse_arguments()\n",
        "args = argparse.Namespace(**conf)\n",
        "print(args)\n",
        "CONFIG.update(vars(args))\n",
        "\n",
        "# Setup output directory\n",
        "CONFIG.save_dir = os.path.join('record', CONFIG.experiment_name)\n",
        "os.makedirs(CONFIG.save_dir, exist_ok=True)\n",
        "\n",
        "# Setup logging\n",
        "logging.basicConfig(\n",
        "    filename=os.path.join(CONFIG.save_dir, 'log.txt'),\n",
        "    format='%(message)s',\n",
        "    level=logging.INFO,\n",
        "    filemode='a'\n",
        ")\n",
        "\n",
        "# Set experiment's device & deterministic behavior\n",
        "if CONFIG.cpu:\n",
        "    CONFIG.device = 'cpu'\n",
        "else:\n",
        "    CONFIG.device = 'cuda' if torch.cuda.is_available() else 'cpu'\n",
        "\n",
        "torch.manual_seed(CONFIG.seed)\n",
        "random.seed(CONFIG.seed)\n",
        "np.random.seed(CONFIG.seed)\n",
        "torch.backends.cudnn.benchmark = True\n",
        "torch.use_deterministic_algorithms(mode=True, warn_only=True)\n",
        "\n",
        "main()"
      ]
    },
    {
      "cell_type": "markdown",
      "metadata": {
        "id": "mvMtlLaWXxyM"
      },
      "source": [
        "##### 1.2.6.3 - Photo"
      ]
    },
    {
      "cell_type": "code",
      "execution_count": null,
      "metadata": {
        "vscode": {
          "languageId": "python"
        },
        "id": "1c5_cSySXxyN"
      },
      "outputs": [],
      "source": [
        "warnings.filterwarnings('ignore', category=UserWarning)\n",
        "\n",
        "# Parse arguments\n",
        "conf = configurations['1.2.6.3']\n",
        "\n",
        "#args = parse_arguments()\n",
        "args = argparse.Namespace(**conf)\n",
        "print(args)\n",
        "CONFIG.update(vars(args))\n",
        "\n",
        "# Setup output directory\n",
        "CONFIG.save_dir = os.path.join('record', CONFIG.experiment_name)\n",
        "os.makedirs(CONFIG.save_dir, exist_ok=True)\n",
        "\n",
        "# Setup logging\n",
        "logging.basicConfig(\n",
        "    filename=os.path.join(CONFIG.save_dir, 'log.txt'),\n",
        "    format='%(message)s',\n",
        "    level=logging.INFO,\n",
        "    filemode='a'\n",
        ")\n",
        "\n",
        "# Set experiment's device & deterministic behavior\n",
        "if CONFIG.cpu:\n",
        "    CONFIG.device = 'cpu'\n",
        "else:\n",
        "    CONFIG.device = 'cuda' if torch.cuda.is_available() else 'cpu'\n",
        "\n",
        "torch.manual_seed(CONFIG.seed)\n",
        "random.seed(CONFIG.seed)\n",
        "np.random.seed(CONFIG.seed)\n",
        "torch.backends.cudnn.benchmark = True\n",
        "torch.use_deterministic_algorithms(mode=True, warn_only=True)\n",
        "\n",
        "main()"
      ]
    }
  ],
  "metadata": {
    "accelerator": "GPU",
    "colab": {
      "gpuType": "T4",
      "provenance": []
    },
    "kernelspec": {
      "display_name": "Mojo",
      "language": "mojo",
      "name": "mojo-jupyter-kernel"
    },
    "language_info": {
      "codemirror_mode": {
        "name": "ipython",
        "version": 3
      },
      "file_extension": ".py",
      "mimetype": "text/x-python",
      "name": "mojo",
      "nbconvert_exporter": "python",
      "pygments_lexer": "ipython3",
      "version": "3.10.12"
    }
  },
  "nbformat": 4,
  "nbformat_minor": 0
}