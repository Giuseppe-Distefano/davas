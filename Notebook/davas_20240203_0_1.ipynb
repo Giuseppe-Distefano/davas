{
  "cells": [
    {
      "cell_type": "markdown",
      "metadata": {
        "id": "0j4ramm0vmvh"
      },
      "source": [
        "# Domain Adaptation Via Activation Shaping"
      ]
    },
    {
      "cell_type": "markdown",
      "metadata": {
        "id": "L-LqKzY-vmvp"
      },
      "source": [
        "**Teacher assistant** Iurada Leonardo\n",
        "\n",
        "**Students**\n",
        "\n",
        "- Bar Giorgio\n",
        "- Distefano Giuseppe\n",
        "- Incaviglia Salvatore"
      ]
    },
    {
      "cell_type": "markdown",
      "metadata": {
        "id": "r1K5BCgevmvr"
      },
      "source": [
        "## Code"
      ]
    },
    {
      "cell_type": "markdown",
      "metadata": {
        "id": "3GNDC97Lvmvs"
      },
      "source": [
        "### Libraries"
      ]
    },
    {
      "cell_type": "code",
      "execution_count": 1,
      "metadata": {
        "colab": {
          "base_uri": "https://localhost:8080/"
        },
        "id": "7yj0xpGOvmvs",
        "outputId": "fe8ad556-eb47-4bd7-d31a-c698072625be"
      },
      "outputs": [
        {
          "output_type": "stream",
          "name": "stdout",
          "text": [
            "Requirement already satisfied: torch in /usr/local/lib/python3.10/dist-packages (2.1.0+cu121)\n",
            "Requirement already satisfied: torchvision in /usr/local/lib/python3.10/dist-packages (0.16.0+cu121)\n",
            "Requirement already satisfied: tqdm in /usr/local/lib/python3.10/dist-packages (4.66.1)\n",
            "Collecting torchmetrics\n",
            "  Downloading torchmetrics-1.3.0.post0-py3-none-any.whl (840 kB)\n",
            "\u001b[2K     \u001b[90m━━━━━━━━━━━━━━━━━━━━━━━━━━━━━━━━━━━━━━━━\u001b[0m \u001b[32m840.2/840.2 kB\u001b[0m \u001b[31m10.4 MB/s\u001b[0m eta \u001b[36m0:00:00\u001b[0m\n",
            "\u001b[?25hRequirement already satisfied: filelock in /usr/local/lib/python3.10/dist-packages (from torch) (3.13.1)\n",
            "Requirement already satisfied: typing-extensions in /usr/local/lib/python3.10/dist-packages (from torch) (4.5.0)\n",
            "Requirement already satisfied: sympy in /usr/local/lib/python3.10/dist-packages (from torch) (1.12)\n",
            "Requirement already satisfied: networkx in /usr/local/lib/python3.10/dist-packages (from torch) (3.2.1)\n",
            "Requirement already satisfied: jinja2 in /usr/local/lib/python3.10/dist-packages (from torch) (3.1.3)\n",
            "Requirement already satisfied: fsspec in /usr/local/lib/python3.10/dist-packages (from torch) (2023.6.0)\n",
            "Requirement already satisfied: triton==2.1.0 in /usr/local/lib/python3.10/dist-packages (from torch) (2.1.0)\n",
            "Requirement already satisfied: numpy in /usr/local/lib/python3.10/dist-packages (from torchvision) (1.23.5)\n",
            "Requirement already satisfied: requests in /usr/local/lib/python3.10/dist-packages (from torchvision) (2.31.0)\n",
            "Requirement already satisfied: pillow!=8.3.*,>=5.3.0 in /usr/local/lib/python3.10/dist-packages (from torchvision) (9.4.0)\n",
            "Requirement already satisfied: packaging>17.1 in /usr/local/lib/python3.10/dist-packages (from torchmetrics) (23.2)\n",
            "Collecting lightning-utilities>=0.8.0 (from torchmetrics)\n",
            "  Downloading lightning_utilities-0.10.1-py3-none-any.whl (24 kB)\n",
            "Requirement already satisfied: setuptools in /usr/local/lib/python3.10/dist-packages (from lightning-utilities>=0.8.0->torchmetrics) (67.7.2)\n",
            "Requirement already satisfied: MarkupSafe>=2.0 in /usr/local/lib/python3.10/dist-packages (from jinja2->torch) (2.1.4)\n",
            "Requirement already satisfied: charset-normalizer<4,>=2 in /usr/local/lib/python3.10/dist-packages (from requests->torchvision) (3.3.2)\n",
            "Requirement already satisfied: idna<4,>=2.5 in /usr/local/lib/python3.10/dist-packages (from requests->torchvision) (3.6)\n",
            "Requirement already satisfied: urllib3<3,>=1.21.1 in /usr/local/lib/python3.10/dist-packages (from requests->torchvision) (2.0.7)\n",
            "Requirement already satisfied: certifi>=2017.4.17 in /usr/local/lib/python3.10/dist-packages (from requests->torchvision) (2023.11.17)\n",
            "Requirement already satisfied: mpmath>=0.19 in /usr/local/lib/python3.10/dist-packages (from sympy->torch) (1.3.0)\n",
            "Installing collected packages: lightning-utilities, torchmetrics\n",
            "Successfully installed lightning-utilities-0.10.1 torchmetrics-1.3.0.post0\n"
          ]
        }
      ],
      "source": [
        "!pip install torch torchvision tqdm torchmetrics\n",
        "\n",
        "import torch\n",
        "\n",
        "import torch.backends.mps\n",
        "from argparse import ArgumentParser\n",
        "\n",
        "import os\n",
        "import torchvision.transforms as T\n",
        "\n",
        "from torch.utils.data import Dataset, DataLoader\n",
        "from torchvision.datasets import CIFAR10\n",
        "\n",
        "import numpy as np\n",
        "import random\n",
        "from PIL import Image\n",
        "\n",
        "import torch.nn as nn\n",
        "from torchvision.models import resnet18, ResNet18_Weights\n",
        "\n",
        "import torch.nn.functional as F\n",
        "from torchmetrics import Accuracy\n",
        "from tqdm import tqdm\n",
        "\n",
        "import logging\n",
        "import warnings\n",
        "\n",
        "import argparse"
      ]
    },
    {
      "cell_type": "markdown",
      "metadata": {
        "id": "4QL6QFg7vmvv"
      },
      "source": [
        "### Setup PACS dataset and environment"
      ]
    },
    {
      "cell_type": "code",
      "execution_count": 2,
      "metadata": {
        "colab": {
          "base_uri": "https://localhost:8080/"
        },
        "id": "DU25YTvRvmvw",
        "outputId": "1aa7f9e8-35b1-49a7-b46d-3f9425ae4abb"
      },
      "outputs": [
        {
          "output_type": "stream",
          "name": "stdout",
          "text": [
            "Cloning into 'Homework3-PACS'...\n",
            "remote: Enumerating objects: 10032, done.\u001b[K\n",
            "remote: Total 10032 (delta 0), reused 0 (delta 0), pack-reused 10032\u001b[K\n",
            "Receiving objects: 100% (10032/10032), 174.13 MiB | 34.88 MiB/s, done.\n",
            "Resolving deltas: 100% (1/1), done.\n",
            "Updating files: 100% (9993/9993), done.\n",
            "Cloning into 'DANN_Template'...\n",
            "remote: Enumerating objects: 23, done.\u001b[K\n",
            "remote: Total 23 (delta 0), reused 0 (delta 0), pack-reused 23\u001b[K\n",
            "Receiving objects: 100% (23/23), 33.86 KiB | 8.47 MiB/s, done.\n",
            "Resolving deltas: 100% (5/5), done.\n"
          ]
        }
      ],
      "source": [
        "# Download PACS Dataset Images and Labels\n",
        "!git clone https://github.com/MachineLearning2020/Homework3-PACS/\n",
        "!git clone https://github.com/silvia1993/DANN_Template/\n",
        "\n",
        "# Setup data\n",
        "!rm -rf data || true\n",
        "!rm -rf record || true\n",
        "!mkdir data\n",
        "!mkdir data/kfold\n",
        "!cp -r Homework3-PACS/PACS/ data/kfold\n",
        "!cp DANN_Template/txt_lists/*.txt data\n",
        "!rm -rf Homework3-PACS/\n",
        "!rm -rf DANN_Template/\n",
        "!rm -rf sample_data || true"
      ]
    },
    {
      "cell_type": "markdown",
      "metadata": {
        "id": "bCGGDU0Yvmvx"
      },
      "source": [
        "### Globals"
      ]
    },
    {
      "cell_type": "markdown",
      "metadata": {
        "id": "ks2GUIKUvmvx"
      },
      "source": [
        "#### globals"
      ]
    },
    {
      "cell_type": "code",
      "execution_count": 3,
      "metadata": {
        "id": "CKy4Lcn5vmvy"
      },
      "outputs": [],
      "source": [
        "class dotdict(dict):\n",
        "    \"\"\"dot.notation access to dictionary attributes\"\"\"\n",
        "    __getattr__ = dict.get\n",
        "    __setattr__ = dict.__setitem__\n",
        "    __delattr__ = dict.__delitem__\n",
        "\n",
        "CONFIG = dotdict({})\n",
        "\n",
        "if torch.cuda.is_available():\n",
        "    CONFIG.device = 'cuda'\n",
        "elif torch.backends.mps.is_available() and torch.backends.mps.is_built():\n",
        "    CONFIG.device = 'mps'\n",
        "else:\n",
        "    CONFIG.device = 'cpu'\n",
        "\n",
        "CONFIG.dtype = torch.float32"
      ]
    },
    {
      "cell_type": "markdown",
      "metadata": {
        "id": "3X-3ocOEvmvy"
      },
      "source": [
        "#### parse args"
      ]
    },
    {
      "cell_type": "code",
      "execution_count": 4,
      "metadata": {
        "id": "ri1QrU7_vmvz"
      },
      "outputs": [],
      "source": [
        "def _clear_args(parsed_args):\n",
        "    parsed_args.experiment_args = eval(parsed_args.experiment_args)\n",
        "    parsed_args.dataset_args = eval(parsed_args.dataset_args)\n",
        "    return parsed_args\n",
        "\n",
        "\n",
        "def parse_arguments():\n",
        "    parser = ArgumentParser()\n",
        "\n",
        "    parser.add_argument('--seed', type=int, default=0, help='Seed used for deterministic behavior')\n",
        "    parser.add_argument('--test_only', action='store_true', help='Whether to skip training')\n",
        "    parser.add_argument('--cpu', action='store_true', help='Whether to force the usage of CPU')\n",
        "\n",
        "    parser.add_argument('--experiment', type=str, default='baseline')\n",
        "    parser.add_argument('--experiment_name', type=str, default='baseline')\n",
        "    parser.add_argument('--experiment_args', type=str, default='{}')\n",
        "    parser.add_argument('--dataset_args', type=str, default='{}')\n",
        "\n",
        "    parser.add_argument('--batch_size', type=int, default=128)\n",
        "    parser.add_argument('--epochs', type=int, default=30)\n",
        "    parser.add_argument('--num_workers', type=int, default=5)\n",
        "    parser.add_argument('--grad_accum_steps', type=int, default=1)\n",
        "\n",
        "    return _clear_args(parser.parse_args())"
      ]
    },
    {
      "cell_type": "markdown",
      "metadata": {
        "id": "l7_xoRWhvmvz"
      },
      "source": [
        "#### Global variables"
      ]
    },
    {
      "cell_type": "code",
      "execution_count": 5,
      "metadata": {
        "id": "GA15sREQvmvz"
      },
      "outputs": [],
      "source": [
        "DEVICE = 'cuda' if torch.cuda.is_available() else 'cpu'\n",
        "NUM_CLASSES = 7\n",
        "BATCH_SIZE = 256\n",
        "LR = 1e-3               # The initial Learning Rate\n",
        "MOMENTUM = 0.9          # Hyperparameter for SGD, keep this at 0.9 when using SGD\n",
        "WEIGHT_DECAY = 5e-5     # Regularization, you can keep this at the default\n",
        "NUM_EPOCHS = 30         # Total number of training epochs (iterations over dataset)\n",
        "STEP_SIZE = 20          # How many epochs before decreasing learning rate (if using a step-down policy)\n",
        "GAMMA = 0.1             # Multiplicative factor for learning rate step-down\n",
        "\n",
        "LOG_FREQUENCY = 10"
      ]
    },
    {
      "cell_type": "markdown",
      "metadata": {
        "id": "UjcULfoOvmv0"
      },
      "source": [
        "### Dataset"
      ]
    },
    {
      "cell_type": "markdown",
      "metadata": {
        "id": "2juNIEQ9vmv0"
      },
      "source": [
        "#### utils"
      ]
    },
    {
      "cell_type": "code",
      "execution_count": 6,
      "metadata": {
        "id": "XSPzZSuSvmv0"
      },
      "outputs": [],
      "source": [
        "class BaseDataset(Dataset):\n",
        "    def __init__(self, examples, transform):\n",
        "        self.examples = examples\n",
        "        self.T = transform\n",
        "\n",
        "\n",
        "    def __len__(self):\n",
        "        return len(self.examples)\n",
        "\n",
        "\n",
        "    def __getitem__(self, index):\n",
        "        x, y = self.examples[index]\n",
        "        x = Image.open(x).convert('RGB')\n",
        "        x = self.T(x).to(CONFIG.dtype)\n",
        "        y = torch.tensor(y).long()\n",
        "        return x, y\n",
        "\n",
        "######################################################\n",
        "\n",
        "class DomainAdaptationDataset(Dataset):\n",
        "    def __init__(self, source_examples, target_examples, transform):\n",
        "        self.source_examples = source_examples\n",
        "        self.target_examples = target_examples\n",
        "        self.T = transform\n",
        "\n",
        "\n",
        "    def __len__(self):\n",
        "        return len(self.source_examples)\n",
        "\n",
        "\n",
        "    def __getitem__(self, index):\n",
        "        src_x, src_y = self.source_examples[index]\n",
        "        src_x = Image.open(src_x).convert('RGB')\n",
        "        src_x = self.T(src_x).to(CONFIG.dtype)\n",
        "        src_y = torch.tensor(src_y).long()\n",
        "\n",
        "        # randomly sample 'target_examples' to obtain targ_x\n",
        "        target_idx = torch.randint(len(self.target_examples), size=(1,)).item()\n",
        "        targ_x, _ = self.target_examples[target_idx]\n",
        "        targ_x = Image.open(targ_x).convert('RGB')\n",
        "        targ_x = self.T(targ_x).to(CONFIG.dtype)\n",
        "\n",
        "        return src_x, src_y, targ_x\n",
        "\n",
        "######################################################\n",
        "\n",
        "# [OPTIONAL] TODO: modify 'BaseDataset' for the Domain Generalization setting.\n",
        "# Hint: combine the examples from the 3 source domains into a single 'examples' list\n",
        "#class DomainGeneralizationDataset(Dataset):\n",
        "#    def __init__(self, examples, transform):\n",
        "#        self.examples = examples\n",
        "#        self.T = transform\n",
        "#\n",
        "#    def __len__(self):\n",
        "#        return len(self.examples)\n",
        "#\n",
        "#    def __getitem__(self, index):\n",
        "#        x1, x2, x3 = self.examples[index]\n",
        "#        x1, x2, x3 = self.T(x1), self.T(x2), self.T(x3)\n",
        "#        targ_x = self.T(targ_x)\n",
        "#        return x1, x2, x3\n",
        "\n",
        "######################################################\n",
        "\n",
        "class SeededDataLoader(DataLoader):\n",
        "    def __init__(self, dataset: Dataset, batch_size=1, shuffle=None,\n",
        "                 sampler=None,\n",
        "                 batch_sampler=None,\n",
        "                 num_workers=0, collate_fn=None,\n",
        "                 pin_memory=False, drop_last=False, timeout=0,\n",
        "                 worker_init_fn=None, multiprocessing_context=None,\n",
        "                 generator=None, *, prefetch_factor=None, persistent_workers=False,\n",
        "                 pin_memory_device=\"\"):\n",
        "\n",
        "        if not CONFIG.use_nondeterministic:\n",
        "            def seed_worker(worker_id):\n",
        "                worker_seed = torch.initial_seed() % 2**32\n",
        "                np.random.seed(worker_seed)\n",
        "                random.seed(worker_seed)\n",
        "\n",
        "            generator = torch.Generator()\n",
        "            generator.manual_seed(CONFIG.seed)\n",
        "\n",
        "            worker_init_fn = seed_worker\n",
        "\n",
        "        super().__init__(dataset, batch_size, shuffle, sampler, batch_sampler, num_workers, collate_fn,\n",
        "                         pin_memory, drop_last, timeout, worker_init_fn, multiprocessing_context, generator,\n",
        "                         prefetch_factor=prefetch_factor, persistent_workers=persistent_workers,\n",
        "                         pin_memory_device=pin_memory_device)"
      ]
    },
    {
      "cell_type": "markdown",
      "metadata": {
        "id": "8COjLe2Fvmv0"
      },
      "source": [
        "#### PACS"
      ]
    },
    {
      "cell_type": "code",
      "execution_count": 7,
      "metadata": {
        "id": "qJ3cq4Ofvmv1"
      },
      "outputs": [],
      "source": [
        "def get_transform(size, mean, std, preprocess):\n",
        "    transform = []\n",
        "    if preprocess:\n",
        "        transform.append(T.Resize(256))\n",
        "        transform.append(T.RandomResizedCrop(size=size, scale=(0.7, 1.0)))\n",
        "        transform.append(T.RandomHorizontalFlip())\n",
        "    else:\n",
        "        transform.append(T.Resize(size))\n",
        "    transform.append(T.ToTensor())\n",
        "    transform.append(T.Normalize(mean, std))\n",
        "    return T.Compose(transform)\n",
        "\n",
        "\n",
        "def load_data():\n",
        "    CONFIG.num_classes = 7\n",
        "    CONFIG.data_input_size = (3, 224, 224)\n",
        "\n",
        "    # Create transforms\n",
        "    mean, std = (0.485, 0.456, 0.406), (0.229, 0.224, 0.225) # ImageNet Pretrain statistics\n",
        "    train_transform = get_transform(size=224, mean=mean, std=std, preprocess=True)\n",
        "    test_transform = get_transform(size=224, mean=mean, std=std, preprocess=False)\n",
        "\n",
        "    # Load examples\n",
        "    source_examples, target_examples = [], []\n",
        "    if CONFIG.experiment in ['baseline', 'random', 'domain_adaptation']:\n",
        "        # Load source\n",
        "        f = open(os.path.join(CONFIG.dataset_args['text_root'], f\"{CONFIG.dataset_args['source_domain']}.txt\"), 'r')\n",
        "        for line in f:\n",
        "            line = line.strip().split()\n",
        "            path, label = line[0].split('/')[0:], int(line[1])\n",
        "            source_examples.append((os.path.join(CONFIG.dataset_args['images_root'], *path), label))\n",
        "        f.close()\n",
        "\n",
        "        # Load target\n",
        "        f = open(os.path.join(CONFIG.dataset_args['text_root'], f\"{CONFIG.dataset_args['target_domain']}.txt\"), 'r')\n",
        "        for line in f:\n",
        "            line = line.strip().split()\n",
        "            path, label = line[0].split('/')[0:], int(line[1])\n",
        "            target_examples.append((os.path.join(CONFIG.dataset_args['images_root'], *path), label))\n",
        "        f.close()\n",
        "\n",
        "    # create Dataset object for the baseline and the Random Maps Ablation experiments\n",
        "    if CONFIG.experiment in ['baseline', 'random']:\n",
        "        train_dataset = BaseDataset(source_examples, transform=train_transform)\n",
        "        test_dataset = BaseDataset(target_examples, transform=test_transform)\n",
        "\n",
        "    # create Dataset object for the Domain Adaptation experiments\n",
        "    if CONFIG.experiment in ['domain_adaptation']:\n",
        "        train_dataset = DomainAdaptationDataset(source_examples, target_examples, transform=train_transform)\n",
        "        test_dataset = BaseDataset(target_examples, transform=test_transform)\n",
        "\n",
        "    ######################################################\n",
        "\n",
        "    # Dataloaders\n",
        "    train_loader = SeededDataLoader(\n",
        "        train_dataset,\n",
        "        batch_size=CONFIG.batch_size,\n",
        "        shuffle=True,\n",
        "        num_workers=CONFIG.num_workers,\n",
        "        pin_memory=True,\n",
        "        persistent_workers=True\n",
        "    )\n",
        "\n",
        "    test_loader = SeededDataLoader(\n",
        "        test_dataset,\n",
        "        batch_size=CONFIG.batch_size,\n",
        "        shuffle=False,\n",
        "        num_workers=CONFIG.num_workers,\n",
        "        pin_memory=True,\n",
        "        persistent_workers=True\n",
        "    )\n",
        "\n",
        "    return {'train': train_loader, 'test': test_loader}"
      ]
    },
    {
      "cell_type": "markdown",
      "metadata": {
        "id": "pDUK98dRvmv1"
      },
      "source": [
        "### Models"
      ]
    },
    {
      "cell_type": "markdown",
      "metadata": {
        "id": "kRb0wPBTvmv1"
      },
      "source": [
        "#### Base ResNet 18"
      ]
    },
    {
      "cell_type": "code",
      "execution_count": 8,
      "metadata": {
        "id": "RT5Z64b0vmv1"
      },
      "outputs": [],
      "source": [
        "class BaseResNet18(nn.Module):\n",
        "    def __init__(self):\n",
        "        super(BaseResNet18, self).__init__()\n",
        "        self.resnet = resnet18(weights=ResNet18_Weights)\n",
        "        self.resnet.fc = nn.Linear(self.resnet.fc.in_features, 7)\n",
        "\n",
        "\n",
        "    def forward(self, x):\n",
        "        return self.resnet(x)"
      ]
    },
    {
      "cell_type": "markdown",
      "metadata": {
        "id": "nRnqcOEM1H3G"
      },
      "source": [
        "#### ASH ResNet 18"
      ]
    },
    {
      "cell_type": "code",
      "execution_count": 9,
      "metadata": {
        "id": "2gaQKaiO1H3G"
      },
      "outputs": [],
      "source": [
        "def get_activation_shaping_hook (mask):\n",
        "\n",
        "    # Activation Shaping Module as a function that shall be hooked via 'register_forward_hook'\n",
        "    # The hook captures mask variable from the parent scope, to update it,\n",
        "    # remove() the hook and register a new one with the updated mask.\n",
        "\n",
        "    def activation_shaping_hook(module, input, output):\n",
        "\n",
        "        # print('ASH module registered on: ', module, 'mask shape: ', mask.shape, 'mask sum(): ', mask.sum())\n",
        "\n",
        "        # binarize both activation map and mask using zero as threshold\n",
        "        A_binary = torch.where(output<=0, torch.tensor(0.0), torch.tensor(1.0))\n",
        "        M_binary = torch.where(mask<=0, torch.tensor(0.0), torch.tensor(1.0))\n",
        "\n",
        "        # return the element-wise product of activation map and mask\n",
        "        shaped_output = A_binary * M_binary\n",
        "        return shaped_output\n",
        "\n",
        "    return activation_shaping_hook\n",
        "\n",
        "######################################################\n",
        "\n",
        "# 'BaseResNet18' including the Activation Shaping Module\n",
        "class ASHResNet18(nn.Module):\n",
        "    def __init__(self):\n",
        "        super(ASHResNet18, self).__init__()\n",
        "        self.resnet = resnet18(weights=ResNet18_Weights)\n",
        "        self.resnet.fc = nn.Linear(self.resnet.fc.in_features, 7)\n",
        "\n",
        "        self.hook_handles = {}\n",
        "\n",
        "\n",
        "    def register_activation_shaping_hook(self, layer_name, mask):\n",
        "        hook = get_activation_shaping_hook(mask)\n",
        "\n",
        "        for name, module in self.resnet.named_modules():\n",
        "            if ((isinstance(module, nn.ReLU) or isinstance(module, nn.Conv2d) or isinstance(module, nn.BatchNorm2d)) and name == layer_name):\n",
        "                if not name in self.hook_handles:\n",
        "                    print('Insert activation shaping layer after ', name, module)\n",
        "                    self.hook_handles[name] = module.register_forward_hook(hook)\n",
        "\n",
        "\n",
        "    def remove_activation_shaping_hook(self, name):\n",
        "        if name in self.hook_handles and self.hook_handles[name] is not None:\n",
        "            handle = self.hook_handles[name]\n",
        "            handle.remove()\n",
        "\n",
        "\n",
        "    def forward(self, x):\n",
        "        return self.resnet(x)"
      ]
    },
    {
      "cell_type": "markdown",
      "metadata": {
        "id": "67LcsnNY1H3G"
      },
      "source": [
        "#### ASH ResNet 18 for Domain Adaptation"
      ]
    },
    {
      "cell_type": "code",
      "execution_count": 10,
      "metadata": {
        "id": "sdD68Po71H3G"
      },
      "outputs": [],
      "source": [
        "# 'BaseResNet18' including the Activation Shaping Module for Domain Adaptation\n",
        "class ASHResNet18DomainAdaptation(nn.Module):\n",
        "    def __init__(self, module_placement=None):\n",
        "        super(ASHResNet18DomainAdaptation, self).__init__()\n",
        "        self.resnet = resnet18(weights=ResNet18_Weights)\n",
        "        self.resnet.fc = nn.Linear(self.resnet.fc.in_features, 7)\n",
        "\n",
        "        self.module_placement = module_placement\n",
        "        if module_placement==[]: self.module_placement = None\n",
        "        self.activation_maps = {}\n",
        "        self.activation_map_hook_handles = {}\n",
        "\n",
        "\n",
        "    def get_extract_activation_map_hook1 (self, layer_name):\n",
        "        def extract_activation_map_hook(module, input, output):\n",
        "            self.activation_maps[layer_name] = output.clone().detach()\n",
        "        return extract_activation_map_hook\n",
        "\n",
        "\n",
        "    def get_extract_activation_map_hook2 (self, layer_name):\n",
        "        def extract_activation_map_hook(module, input, output):\n",
        "            A = torch.where(output<=0, torch.tensor(0.0), torch.tensor(1.0))\n",
        "            M = self.activation_maps[layer_name]\n",
        "            A = torch.where(M<=0, torch.tensor(0.0), torch.tensor(1.0))\n",
        "            shaped_output = A * M\n",
        "            return shaped_output\n",
        "        return extract_activation_map_hook\n",
        "\n",
        "\n",
        "    def forward(self, x, targ_x=None):\n",
        "        if targ_x is not None: # First step for point 3\n",
        "            if self.module_placement is not None:\n",
        "                # Register a hook and perform a forward pass to store the target domain activation maps\n",
        "                for layer_name, module in self.resnet.named_modules():\n",
        "                    if (isinstance(module, nn.Conv2d) and layer_name in self.module_placement):\n",
        "                        #print('Register a hook to store activation map of layer ', layer_name, module)\n",
        "                        hook = self.get_extract_activation_map_hook1(layer_name)\n",
        "                        self.activation_map_hook_handles[layer_name] = module.register_forward_hook(hook)\n",
        "                _ = self.resnet(targ_x)\n",
        "        else: # Second step for point 3\n",
        "            if self.module_placement is not None:\n",
        "                # Register a hook and perform a forward pass to compute source labels\n",
        "                for layer_name, module in self.resnet.named_modules():\n",
        "                    if (isinstance(module, nn.Conv2d) and layer_name in self.module_placement):\n",
        "                        #print('Register a hook to store activation map of layer ', layer_name, module)\n",
        "                        hook = self.get_extract_activation_map_hook2(layer_name)\n",
        "                        self.activation_map_hook_handles[layer_name] = module.register_forward_hook(hook)\n",
        "        output = self.resnet(x)\n",
        "\n",
        "        return output"
      ]
    },
    {
      "cell_type": "markdown",
      "metadata": {
        "id": "qSD7qmGTvmv2"
      },
      "source": [
        "### Run"
      ]
    },
    {
      "cell_type": "markdown",
      "metadata": {
        "id": "Xw07UrGmdRdk"
      },
      "source": [
        "#### Evaluate"
      ]
    },
    {
      "cell_type": "code",
      "execution_count": 11,
      "metadata": {
        "id": "LP7mr-ccdRdl"
      },
      "outputs": [],
      "source": [
        "@torch.no_grad()\n",
        "def evaluate(model, data):\n",
        "    model.eval()\n",
        "\n",
        "    acc_meter = Accuracy(task='multiclass', num_classes=CONFIG.num_classes)\n",
        "    acc_meter = acc_meter.to(CONFIG.device)\n",
        "\n",
        "    loss = [0.0, 0]\n",
        "    for x, y in tqdm(data):\n",
        "        with torch.autocast(device_type=CONFIG.device, dtype=torch.float16, enabled=True):\n",
        "            x, y = x.to(CONFIG.device), y.to(CONFIG.device)\n",
        "            logits = model(x)\n",
        "            acc_meter.update(logits, y)\n",
        "            loss[0] += F.cross_entropy(logits, y).item()\n",
        "            loss[1] += x.size(0)\n",
        "\n",
        "    accuracy = acc_meter.compute()\n",
        "    loss = loss[0] / loss[1]\n",
        "    logging.info(f'Accuracy: {100 * accuracy:.2f} - Loss: {loss}')\n",
        "    print(f'Accuracy: {100 * accuracy:.2f} - Loss: {loss} \\n')"
      ]
    },
    {
      "cell_type": "markdown",
      "metadata": {
        "id": "i6uEldLZdRdl"
      },
      "source": [
        "#### Train"
      ]
    },
    {
      "cell_type": "code",
      "execution_count": 12,
      "metadata": {
        "id": "98_3TWLTvmv2"
      },
      "outputs": [],
      "source": [
        "def train(model, data):\n",
        "    # Create optimizers & schedulers\n",
        "    optimizer = torch.optim.SGD(model.parameters(), weight_decay=0.0005, momentum=0.9, nesterov=True, lr=0.001)\n",
        "    scheduler = torch.optim.lr_scheduler.StepLR(optimizer, step_size=int(CONFIG.epochs * 0.8), gamma=0.1)\n",
        "    scaler = torch.cuda.amp.GradScaler(enabled=True)\n",
        "\n",
        "    # Load checkpoint (if it exists)\n",
        "    cur_epoch = 0\n",
        "    if os.path.exists(os.path.join('record', CONFIG.experiment_name, 'last.pth')):\n",
        "        checkpoint = torch.load(os.path.join('record', CONFIG.experiment_name, 'last.pth'))\n",
        "        cur_epoch = checkpoint['epoch']\n",
        "        optimizer.load_state_dict(checkpoint['optimizer'])\n",
        "        scheduler.load_state_dict(checkpoint['scheduler'])\n",
        "        model.load_state_dict(checkpoint['model'])\n",
        "\n",
        "    # Optimization loop\n",
        "    for epoch in range(cur_epoch, CONFIG.epochs):\n",
        "        model.train()\n",
        "\n",
        "        for batch_idx, batch in enumerate(tqdm(data['train'])):\n",
        "\n",
        "            # Compute loss\n",
        "            with torch.autocast(device_type=CONFIG.device, dtype=torch.float16, enabled=True):\n",
        "\n",
        "                if CONFIG.experiment in ['baseline']:\n",
        "                    x, y = batch\n",
        "                    x, y = x.to(CONFIG.device), y.to(CONFIG.device)\n",
        "                    loss = F.cross_entropy(model(x), y)\n",
        "\n",
        "                ######################################################\n",
        "\n",
        "                elif CONFIG.experiment in ['random']:\n",
        "                    x, y = batch\n",
        "                    x, y = x.to(CONFIG.device), y.to(CONFIG.device)\n",
        "                    loss = F.cross_entropy(model(x), y)\n",
        "\n",
        "                elif CONFIG.experiment in ['domain_adaptation']:\n",
        "                    src_x, src_y, targ_x = batch\n",
        "                    x, y = src_x.to(CONFIG.device), src_y.to(CONFIG.device)\n",
        "                    targ_x = targ_x.to(CONFIG.device)\n",
        "                    loss = F.cross_entropy(model(x, targ_x=targ_x), y)\n",
        "\n",
        "                ######################################################\n",
        "\n",
        "            # Optimization step\n",
        "            scaler.scale(loss / CONFIG.grad_accum_steps).backward()\n",
        "\n",
        "            if ((batch_idx + 1) % CONFIG.grad_accum_steps == 0) or (batch_idx + 1 == len(data['train'])):\n",
        "                scaler.step(optimizer)\n",
        "                optimizer.zero_grad(set_to_none=True)\n",
        "                scaler.update()\n",
        "\n",
        "        scheduler.step()\n",
        "\n",
        "        # Test current epoch\n",
        "        logging.info(f'[TEST @ Epoch={epoch}]')\n",
        "        evaluate(model, data['test'])\n",
        "\n",
        "        # Save checkpoint\n",
        "        checkpoint = {\n",
        "            'epoch': epoch + 1,\n",
        "            'optimizer': optimizer.state_dict(),\n",
        "            'scheduler': scheduler.state_dict(),\n",
        "            'model': model.state_dict()\n",
        "        }\n",
        "        torch.save(checkpoint, os.path.join('record', CONFIG.experiment_name, 'last.pth'))"
      ]
    },
    {
      "cell_type": "markdown",
      "metadata": {
        "id": "zKNcF0QVOT-N"
      },
      "source": [
        "#### Main"
      ]
    },
    {
      "cell_type": "code",
      "execution_count": 13,
      "metadata": {
        "id": "veneeQdydRdl"
      },
      "outputs": [],
      "source": [
        "layer_output_shapes = {\n",
        "    'layer1.0.conv1': (64, 56, 56),         'layer1.0.relu': (64, 56, 56),          'layer1.0.conv2': (64, 56, 56),\n",
        "    'layer1.1.conv1': (64, 56, 56),         'layer1.1.bn1': (64, 56, 56),           'layer1.1.relu': (64, 56, 56),          'layer1.1.conv2': (64, 56, 56),         'layer1.1.bn2': (64, 56, 56),\n",
        "    'layer2.0.conv1': (128, 28, 28),        'layer2.0.relu': (128, 28, 28),         'layer2.0.conv2': (128, 28, 28),\n",
        "    'layer2.1.conv1': (128, 28, 28),        'layer2.1.relu': (128, 28, 28),         'layer2.1.conv2': (128, 28, 28),\n",
        "    'layer3.0.conv1': (256, 14, 14),        'layer3.0.relu': (256, 14, 14),         'layer3.0.conv2': (256, 14, 14),\n",
        "    'layer3.1.conv1': (256, 14, 14),        'layer3.1.relu': (256, 14, 14),         'layer3.1.conv2': (256, 14, 14),\n",
        "    'layer4.0.conv1': (512, 7, 7),          'layer4.0.relu': (512, 7, 7),           'layer4.0.conv2': (512, 7, 7),\n",
        "    'layer4.1.conv1': (512, 7, 7),          'layer4.1.relu': (512, 7, 7),           'layer4.1.conv2': (512, 7, 7)\n",
        "}\n",
        "\n",
        "\n",
        "def create_random_mask(layer_name = 'layer4.1.conv2', mask_out_ratio = 0.0):\n",
        "    # create a mask tensor with a given ratio of zeros\n",
        "    print('mask_out_ratio: ',mask_out_ratio)\n",
        "    layer_output_shape = layer_output_shapes[layer_name]\n",
        "\n",
        "    rand_mat = torch.rand(layer_output_shape).to(CONFIG.device)\n",
        "    mask = torch.where(rand_mat <= mask_out_ratio, 0.0, 1.0).to(CONFIG.device)\n",
        "    return mask\n",
        "\n",
        "\n",
        "def main ():\n",
        "    # Load dataset\n",
        "    data = load_data()\n",
        "\n",
        "    # Load model\n",
        "    if CONFIG.experiment in ['baseline']:\n",
        "        model = BaseResNet18()\n",
        "\n",
        "    ######################################################\n",
        "\n",
        "    elif CONFIG.experiment in ['random']:\n",
        "        model = ASHResNet18()\n",
        "        module_placement = CONFIG.experiment_args['module_placement']\n",
        "        mask_out_ratio = CONFIG.experiment_args['mask_out_ratio']\n",
        "\n",
        "        for layer_name in module_placement:\n",
        "            random_mask = create_random_mask(layer_name = layer_name, mask_out_ratio = mask_out_ratio)\n",
        "            print('layer_name', layer_name, 'random_mask sum(): ', random_mask.sum())\n",
        "            model.register_activation_shaping_hook(layer_name, random_mask)\n",
        "\n",
        "    elif CONFIG.experiment in ['domain_adaptation']:\n",
        "        module_placement = CONFIG.experiment_args['module_placement']\n",
        "        model = ASHResNet18DomainAdaptation(module_placement)\n",
        "\n",
        "    ######################################################\n",
        "\n",
        "    model.to(CONFIG.device)\n",
        "\n",
        "    if not CONFIG.test_only:\n",
        "        train(model, data)\n",
        "    else:\n",
        "        evaluate(model, data['test'])\n"
      ]
    },
    {
      "cell_type": "markdown",
      "metadata": {
        "id": "jgyCphk-sEWl"
      },
      "source": [
        "## 0 - Reproduce the Baseline"
      ]
    },
    {
      "cell_type": "markdown",
      "metadata": {
        "id": "0XMhO3LgdRdl"
      },
      "source": [
        "### 0.1 - Baseline"
      ]
    },
    {
      "cell_type": "markdown",
      "metadata": {
        "id": "DFjB655wdRdm"
      },
      "source": [
        "#### 0.1.1 - Art painting &rightarrow; Cartoon"
      ]
    },
    {
      "cell_type": "code",
      "execution_count": 14,
      "metadata": {
        "colab": {
          "base_uri": "https://localhost:8080/"
        },
        "id": "6lI_Y0btdRdm",
        "outputId": "1c9dc0b2-fa06-4556-ab9e-410eafadc1d1"
      },
      "outputs": [
        {
          "output_type": "stream",
          "name": "stdout",
          "text": [
            "Namespace(seed=0, test_only=False, cpu=False, experiment='baseline', experiment_name='0_1_1', experiment_args='{}', dataset_args={'text_root': 'data', 'images_root': 'data/kfold/PACS', 'source_domain': 'art_painting', 'target_domain': 'cartoon'}, batch_size=128, epochs=30, num_workers=5, grad_accum_steps=1)\n"
          ]
        },
        {
          "output_type": "stream",
          "name": "stderr",
          "text": [
            "Downloading: \"https://download.pytorch.org/models/resnet18-f37072fd.pth\" to /root/.cache/torch/hub/checkpoints/resnet18-f37072fd.pth\n",
            "100%|██████████| 44.7M/44.7M [00:00<00:00, 92.5MB/s]\n",
            "100%|██████████| 16/16 [00:15<00:00,  1.00it/s]\n",
            "100%|██████████| 19/19 [00:09<00:00,  1.97it/s]\n"
          ]
        },
        {
          "output_type": "stream",
          "name": "stdout",
          "text": [
            "Accuracy: 30.89 - Loss: 0.014743562139341856 \n",
            "\n"
          ]
        },
        {
          "output_type": "stream",
          "name": "stderr",
          "text": [
            "100%|██████████| 16/16 [00:08<00:00,  1.89it/s]\n",
            "100%|██████████| 19/19 [00:06<00:00,  2.80it/s]\n"
          ]
        },
        {
          "output_type": "stream",
          "name": "stdout",
          "text": [
            "Accuracy: 41.98 - Loss: 0.013025202340233449 \n",
            "\n"
          ]
        },
        {
          "output_type": "stream",
          "name": "stderr",
          "text": [
            "100%|██████████| 16/16 [00:07<00:00,  2.04it/s]\n",
            "100%|██████████| 19/19 [00:06<00:00,  3.04it/s]\n"
          ]
        },
        {
          "output_type": "stream",
          "name": "stdout",
          "text": [
            "Accuracy: 44.54 - Loss: 0.011930452805940609 \n",
            "\n"
          ]
        },
        {
          "output_type": "stream",
          "name": "stderr",
          "text": [
            "100%|██████████| 16/16 [00:08<00:00,  1.85it/s]\n",
            "100%|██████████| 19/19 [00:05<00:00,  3.38it/s]\n"
          ]
        },
        {
          "output_type": "stream",
          "name": "stdout",
          "text": [
            "Accuracy: 44.58 - Loss: 0.011764559704085666 \n",
            "\n"
          ]
        },
        {
          "output_type": "stream",
          "name": "stderr",
          "text": [
            "100%|██████████| 16/16 [00:08<00:00,  1.84it/s]\n",
            "100%|██████████| 19/19 [00:05<00:00,  3.38it/s]\n"
          ]
        },
        {
          "output_type": "stream",
          "name": "stdout",
          "text": [
            "Accuracy: 46.20 - Loss: 0.01147708680747719 \n",
            "\n"
          ]
        },
        {
          "output_type": "stream",
          "name": "stderr",
          "text": [
            "100%|██████████| 16/16 [00:08<00:00,  1.84it/s]\n",
            "100%|██████████| 19/19 [00:05<00:00,  3.39it/s]\n"
          ]
        },
        {
          "output_type": "stream",
          "name": "stdout",
          "text": [
            "Accuracy: 48.04 - Loss: 0.011018689302250794 \n",
            "\n"
          ]
        },
        {
          "output_type": "stream",
          "name": "stderr",
          "text": [
            "100%|██████████| 16/16 [00:08<00:00,  1.89it/s]\n",
            "100%|██████████| 19/19 [00:06<00:00,  2.76it/s]\n"
          ]
        },
        {
          "output_type": "stream",
          "name": "stdout",
          "text": [
            "Accuracy: 49.40 - Loss: 0.010745607685208727 \n",
            "\n"
          ]
        },
        {
          "output_type": "stream",
          "name": "stderr",
          "text": [
            "100%|██████████| 16/16 [00:07<00:00,  2.07it/s]\n",
            "100%|██████████| 19/19 [00:06<00:00,  2.89it/s]\n"
          ]
        },
        {
          "output_type": "stream",
          "name": "stdout",
          "text": [
            "Accuracy: 50.17 - Loss: 0.010685917129899048 \n",
            "\n"
          ]
        },
        {
          "output_type": "stream",
          "name": "stderr",
          "text": [
            "100%|██████████| 16/16 [00:07<00:00,  2.08it/s]\n",
            "100%|██████████| 19/19 [00:06<00:00,  2.90it/s]\n"
          ]
        },
        {
          "output_type": "stream",
          "name": "stdout",
          "text": [
            "Accuracy: 49.62 - Loss: 0.010831765442730623 \n",
            "\n"
          ]
        },
        {
          "output_type": "stream",
          "name": "stderr",
          "text": [
            "100%|██████████| 16/16 [00:08<00:00,  1.88it/s]\n",
            "100%|██████████| 19/19 [00:05<00:00,  3.42it/s]\n"
          ]
        },
        {
          "output_type": "stream",
          "name": "stdout",
          "text": [
            "Accuracy: 50.73 - Loss: 0.01064595121750449 \n",
            "\n"
          ]
        },
        {
          "output_type": "stream",
          "name": "stderr",
          "text": [
            "100%|██████████| 16/16 [00:08<00:00,  1.86it/s]\n",
            "100%|██████████| 19/19 [00:05<00:00,  3.42it/s]\n"
          ]
        },
        {
          "output_type": "stream",
          "name": "stdout",
          "text": [
            "Accuracy: 51.96 - Loss: 0.010405664665961429 \n",
            "\n"
          ]
        },
        {
          "output_type": "stream",
          "name": "stderr",
          "text": [
            "100%|██████████| 16/16 [00:08<00:00,  1.85it/s]\n",
            "100%|██████████| 19/19 [00:05<00:00,  3.37it/s]\n"
          ]
        },
        {
          "output_type": "stream",
          "name": "stdout",
          "text": [
            "Accuracy: 51.88 - Loss: 0.010562422040074352 \n",
            "\n"
          ]
        },
        {
          "output_type": "stream",
          "name": "stderr",
          "text": [
            "100%|██████████| 16/16 [00:08<00:00,  1.86it/s]\n",
            "100%|██████████| 19/19 [00:06<00:00,  3.09it/s]\n"
          ]
        },
        {
          "output_type": "stream",
          "name": "stdout",
          "text": [
            "Accuracy: 52.82 - Loss: 0.010394363641840605 \n",
            "\n"
          ]
        },
        {
          "output_type": "stream",
          "name": "stderr",
          "text": [
            "100%|██████████| 16/16 [00:07<00:00,  2.03it/s]\n",
            "100%|██████████| 19/19 [00:06<00:00,  2.86it/s]\n"
          ]
        },
        {
          "output_type": "stream",
          "name": "stdout",
          "text": [
            "Accuracy: 53.75 - Loss: 0.0102560336641179 \n",
            "\n"
          ]
        },
        {
          "output_type": "stream",
          "name": "stderr",
          "text": [
            "100%|██████████| 16/16 [00:07<00:00,  2.11it/s]\n",
            "100%|██████████| 19/19 [00:07<00:00,  2.52it/s]\n"
          ]
        },
        {
          "output_type": "stream",
          "name": "stdout",
          "text": [
            "Accuracy: 51.96 - Loss: 0.010734129048655058 \n",
            "\n"
          ]
        },
        {
          "output_type": "stream",
          "name": "stderr",
          "text": [
            "100%|██████████| 16/16 [00:07<00:00,  2.07it/s]\n",
            "100%|██████████| 19/19 [00:06<00:00,  2.99it/s]\n"
          ]
        },
        {
          "output_type": "stream",
          "name": "stdout",
          "text": [
            "Accuracy: 54.05 - Loss: 0.010272794495314461 \n",
            "\n"
          ]
        },
        {
          "output_type": "stream",
          "name": "stderr",
          "text": [
            "100%|██████████| 16/16 [00:08<00:00,  1.87it/s]\n",
            "100%|██████████| 19/19 [00:05<00:00,  3.36it/s]\n"
          ]
        },
        {
          "output_type": "stream",
          "name": "stdout",
          "text": [
            "Accuracy: 54.27 - Loss: 0.010212960751542866 \n",
            "\n"
          ]
        },
        {
          "output_type": "stream",
          "name": "stderr",
          "text": [
            "100%|██████████| 16/16 [00:08<00:00,  1.87it/s]\n",
            "100%|██████████| 19/19 [00:05<00:00,  3.35it/s]\n"
          ]
        },
        {
          "output_type": "stream",
          "name": "stdout",
          "text": [
            "Accuracy: 53.67 - Loss: 0.010505339477223952 \n",
            "\n"
          ]
        },
        {
          "output_type": "stream",
          "name": "stderr",
          "text": [
            "100%|██████████| 16/16 [00:08<00:00,  1.86it/s]\n",
            "100%|██████████| 19/19 [00:05<00:00,  3.39it/s]\n"
          ]
        },
        {
          "output_type": "stream",
          "name": "stdout",
          "text": [
            "Accuracy: 53.58 - Loss: 0.0105905677207806 \n",
            "\n"
          ]
        },
        {
          "output_type": "stream",
          "name": "stderr",
          "text": [
            "100%|██████████| 16/16 [00:08<00:00,  1.86it/s]\n",
            "100%|██████████| 19/19 [00:06<00:00,  3.03it/s]\n"
          ]
        },
        {
          "output_type": "stream",
          "name": "stdout",
          "text": [
            "Accuracy: 55.20 - Loss: 0.010126428773989043 \n",
            "\n"
          ]
        },
        {
          "output_type": "stream",
          "name": "stderr",
          "text": [
            "100%|██████████| 16/16 [00:07<00:00,  2.06it/s]\n",
            "100%|██████████| 19/19 [00:06<00:00,  2.89it/s]\n"
          ]
        },
        {
          "output_type": "stream",
          "name": "stdout",
          "text": [
            "Accuracy: 54.35 - Loss: 0.010456711892992156 \n",
            "\n"
          ]
        },
        {
          "output_type": "stream",
          "name": "stderr",
          "text": [
            "100%|██████████| 16/16 [00:07<00:00,  2.03it/s]\n",
            "100%|██████████| 19/19 [00:06<00:00,  2.88it/s]\n"
          ]
        },
        {
          "output_type": "stream",
          "name": "stdout",
          "text": [
            "Accuracy: 54.65 - Loss: 0.010435009635857754 \n",
            "\n"
          ]
        },
        {
          "output_type": "stream",
          "name": "stderr",
          "text": [
            "100%|██████████| 16/16 [00:08<00:00,  2.00it/s]\n",
            "100%|██████████| 19/19 [00:06<00:00,  3.16it/s]\n"
          ]
        },
        {
          "output_type": "stream",
          "name": "stdout",
          "text": [
            "Accuracy: 55.12 - Loss: 0.010410779130362204 \n",
            "\n"
          ]
        },
        {
          "output_type": "stream",
          "name": "stderr",
          "text": [
            "100%|██████████| 16/16 [00:08<00:00,  1.84it/s]\n",
            "100%|██████████| 19/19 [00:05<00:00,  3.39it/s]\n"
          ]
        },
        {
          "output_type": "stream",
          "name": "stdout",
          "text": [
            "Accuracy: 54.01 - Loss: 0.010811038057831571 \n",
            "\n"
          ]
        },
        {
          "output_type": "stream",
          "name": "stderr",
          "text": [
            "100%|██████████| 16/16 [00:08<00:00,  1.82it/s]\n",
            "100%|██████████| 19/19 [00:05<00:00,  3.42it/s]\n"
          ]
        },
        {
          "output_type": "stream",
          "name": "stdout",
          "text": [
            "Accuracy: 54.31 - Loss: 0.010692644288998618 \n",
            "\n"
          ]
        },
        {
          "output_type": "stream",
          "name": "stderr",
          "text": [
            "100%|██████████| 16/16 [00:08<00:00,  1.84it/s]\n",
            "100%|██████████| 19/19 [00:05<00:00,  3.44it/s]\n"
          ]
        },
        {
          "output_type": "stream",
          "name": "stdout",
          "text": [
            "Accuracy: 54.31 - Loss: 0.010804149497033386 \n",
            "\n"
          ]
        },
        {
          "output_type": "stream",
          "name": "stderr",
          "text": [
            "100%|██████████| 16/16 [00:08<00:00,  1.81it/s]\n",
            "100%|██████████| 19/19 [00:06<00:00,  2.98it/s]\n"
          ]
        },
        {
          "output_type": "stream",
          "name": "stdout",
          "text": [
            "Accuracy: 54.56 - Loss: 0.010671405811434923 \n",
            "\n"
          ]
        },
        {
          "output_type": "stream",
          "name": "stderr",
          "text": [
            "100%|██████████| 16/16 [00:07<00:00,  2.08it/s]\n",
            "100%|██████████| 19/19 [00:06<00:00,  2.90it/s]\n"
          ]
        },
        {
          "output_type": "stream",
          "name": "stdout",
          "text": [
            "Accuracy: 54.39 - Loss: 0.010741157272875106 \n",
            "\n"
          ]
        },
        {
          "output_type": "stream",
          "name": "stderr",
          "text": [
            "100%|██████████| 16/16 [00:07<00:00,  2.07it/s]\n",
            "100%|██████████| 19/19 [00:06<00:00,  2.90it/s]\n"
          ]
        },
        {
          "output_type": "stream",
          "name": "stdout",
          "text": [
            "Accuracy: 54.39 - Loss: 0.010649757284938069 \n",
            "\n"
          ]
        },
        {
          "output_type": "stream",
          "name": "stderr",
          "text": [
            "100%|██████████| 16/16 [00:08<00:00,  1.93it/s]\n",
            "100%|██████████| 19/19 [00:05<00:00,  3.31it/s]\n"
          ]
        },
        {
          "output_type": "stream",
          "name": "stdout",
          "text": [
            "Accuracy: 54.61 - Loss: 0.01065421475688752 \n",
            "\n"
          ]
        }
      ],
      "source": [
        "warnings.filterwarnings('ignore', category=UserWarning)\n",
        "\n",
        "# Parse arguments\n",
        "conf = { # Art Painting -> Cartoon\n",
        "    'seed': 0,\n",
        "    'test_only': False,\n",
        "    'cpu': False,\n",
        "    'experiment': 'baseline',\n",
        "    'experiment_name': '0_1_1',\n",
        "    'experiment_args': '{}',\n",
        "    'dataset_args': { 'text_root': 'data', 'images_root': 'data/kfold/PACS', 'source_domain': 'art_painting', 'target_domain': 'cartoon' },\n",
        "    'batch_size': 128,\n",
        "    'epochs': 30,\n",
        "    'num_workers': 5,\n",
        "    'grad_accum_steps': 1\n",
        "}\n",
        "\n",
        "#args = parse_arguments()\n",
        "args = argparse.Namespace(**conf)\n",
        "print(args)\n",
        "CONFIG.update(vars(args))\n",
        "\n",
        "# Setup output directory\n",
        "CONFIG.save_dir = os.path.join('record', CONFIG.experiment_name)\n",
        "os.makedirs(CONFIG.save_dir, exist_ok=True)\n",
        "\n",
        "# Setup logging\n",
        "logging.basicConfig(\n",
        "    filename=os.path.join(CONFIG.save_dir, 'log.txt'),\n",
        "    format='%(message)s',\n",
        "    level=logging.INFO,\n",
        "    filemode='a'\n",
        ")\n",
        "\n",
        "# Set experiment's device & deterministic behavior\n",
        "if CONFIG.cpu:\n",
        "    CONFIG.device = 'cpu'\n",
        "else:\n",
        "    CONFIG.device = 'cuda' if torch.cuda.is_available() else 'cpu'\n",
        "\n",
        "torch.manual_seed(CONFIG.seed)\n",
        "random.seed(CONFIG.seed)\n",
        "np.random.seed(CONFIG.seed)\n",
        "torch.backends.cudnn.benchmark = True\n",
        "torch.use_deterministic_algorithms(mode=True, warn_only=True)\n",
        "\n",
        "main()"
      ]
    },
    {
      "cell_type": "markdown",
      "metadata": {
        "id": "5AXg2S2XdRd9"
      },
      "source": [
        "#### 0.1.2 - Art painting &rightarrow; Sketch"
      ]
    },
    {
      "cell_type": "code",
      "execution_count": 15,
      "metadata": {
        "colab": {
          "base_uri": "https://localhost:8080/"
        },
        "id": "IBYGqertdRd_",
        "outputId": "63710951-6967-4878-f381-a52e2e753a74"
      },
      "outputs": [
        {
          "output_type": "stream",
          "name": "stdout",
          "text": [
            "Namespace(seed=0, test_only=False, cpu=False, experiment='baseline', experiment_name='0_1_2', experiment_args='{}', dataset_args={'text_root': 'data', 'images_root': 'data/kfold/PACS', 'source_domain': 'art_painting', 'target_domain': 'sketch'}, batch_size=128, epochs=30, num_workers=5, grad_accum_steps=1)\n"
          ]
        },
        {
          "output_type": "stream",
          "name": "stderr",
          "text": [
            "100%|██████████| 16/16 [00:09<00:00,  1.70it/s]\n",
            "100%|██████████| 31/31 [00:12<00:00,  2.51it/s]\n"
          ]
        },
        {
          "output_type": "stream",
          "name": "stdout",
          "text": [
            "Accuracy: 10.56 - Loss: 0.016417324103056612 \n",
            "\n"
          ]
        },
        {
          "output_type": "stream",
          "name": "stderr",
          "text": [
            "100%|██████████| 16/16 [00:07<00:00,  2.02it/s]\n",
            "100%|██████████| 31/31 [00:10<00:00,  2.85it/s]\n"
          ]
        },
        {
          "output_type": "stream",
          "name": "stdout",
          "text": [
            "Accuracy: 24.08 - Loss: 0.01549151532975855 \n",
            "\n"
          ]
        },
        {
          "output_type": "stream",
          "name": "stderr",
          "text": [
            "100%|██████████| 16/16 [00:08<00:00,  1.82it/s]\n",
            "100%|██████████| 31/31 [00:10<00:00,  2.91it/s]\n"
          ]
        },
        {
          "output_type": "stream",
          "name": "stdout",
          "text": [
            "Accuracy: 28.35 - Loss: 0.015138263221793152 \n",
            "\n"
          ]
        },
        {
          "output_type": "stream",
          "name": "stderr",
          "text": [
            "100%|██████████| 16/16 [00:07<00:00,  2.03it/s]\n",
            "100%|██████████| 31/31 [00:10<00:00,  2.93it/s]\n"
          ]
        },
        {
          "output_type": "stream",
          "name": "stdout",
          "text": [
            "Accuracy: 28.71 - Loss: 0.015070708843550629 \n",
            "\n"
          ]
        },
        {
          "output_type": "stream",
          "name": "stderr",
          "text": [
            "100%|██████████| 16/16 [00:08<00:00,  1.82it/s]\n",
            "100%|██████████| 31/31 [00:11<00:00,  2.77it/s]\n"
          ]
        },
        {
          "output_type": "stream",
          "name": "stdout",
          "text": [
            "Accuracy: 31.31 - Loss: 0.014624897533775013 \n",
            "\n"
          ]
        },
        {
          "output_type": "stream",
          "name": "stderr",
          "text": [
            "100%|██████████| 16/16 [00:08<00:00,  1.90it/s]\n",
            "100%|██████████| 31/31 [00:10<00:00,  3.09it/s]\n"
          ]
        },
        {
          "output_type": "stream",
          "name": "stdout",
          "text": [
            "Accuracy: 32.35 - Loss: 0.014530224179942422 \n",
            "\n"
          ]
        },
        {
          "output_type": "stream",
          "name": "stderr",
          "text": [
            "100%|██████████| 16/16 [00:08<00:00,  1.82it/s]\n",
            "100%|██████████| 31/31 [00:10<00:00,  2.89it/s]\n"
          ]
        },
        {
          "output_type": "stream",
          "name": "stdout",
          "text": [
            "Accuracy: 32.12 - Loss: 0.014463272553480561 \n",
            "\n"
          ]
        },
        {
          "output_type": "stream",
          "name": "stderr",
          "text": [
            "100%|██████████| 16/16 [00:08<00:00,  1.88it/s]\n",
            "100%|██████████| 31/31 [00:09<00:00,  3.18it/s]\n"
          ]
        },
        {
          "output_type": "stream",
          "name": "stdout",
          "text": [
            "Accuracy: 33.52 - Loss: 0.01454913564600936 \n",
            "\n"
          ]
        },
        {
          "output_type": "stream",
          "name": "stderr",
          "text": [
            "100%|██████████| 16/16 [00:08<00:00,  1.79it/s]\n",
            "100%|██████████| 31/31 [00:10<00:00,  2.89it/s]\n"
          ]
        },
        {
          "output_type": "stream",
          "name": "stdout",
          "text": [
            "Accuracy: 33.27 - Loss: 0.014584830530001086 \n",
            "\n"
          ]
        },
        {
          "output_type": "stream",
          "name": "stderr",
          "text": [
            "100%|██████████| 16/16 [00:08<00:00,  1.82it/s]\n",
            "100%|██████████| 31/31 [00:11<00:00,  2.74it/s]\n"
          ]
        },
        {
          "output_type": "stream",
          "name": "stdout",
          "text": [
            "Accuracy: 35.30 - Loss: 0.014320221223974385 \n",
            "\n"
          ]
        },
        {
          "output_type": "stream",
          "name": "stderr",
          "text": [
            "100%|██████████| 16/16 [00:08<00:00,  1.97it/s]\n",
            "100%|██████████| 31/31 [00:10<00:00,  2.88it/s]\n"
          ]
        },
        {
          "output_type": "stream",
          "name": "stdout",
          "text": [
            "Accuracy: 35.56 - Loss: 0.014340560713564357 \n",
            "\n"
          ]
        },
        {
          "output_type": "stream",
          "name": "stderr",
          "text": [
            "100%|██████████| 16/16 [00:08<00:00,  1.80it/s]\n",
            "100%|██████████| 31/31 [00:10<00:00,  2.90it/s]\n"
          ]
        },
        {
          "output_type": "stream",
          "name": "stdout",
          "text": [
            "Accuracy: 35.84 - Loss: 0.014348467727082473 \n",
            "\n"
          ]
        },
        {
          "output_type": "stream",
          "name": "stderr",
          "text": [
            "100%|██████████| 16/16 [00:08<00:00,  2.00it/s]\n",
            "100%|██████████| 31/31 [00:10<00:00,  2.84it/s]\n"
          ]
        },
        {
          "output_type": "stream",
          "name": "stdout",
          "text": [
            "Accuracy: 36.60 - Loss: 0.014625031852819258 \n",
            "\n"
          ]
        },
        {
          "output_type": "stream",
          "name": "stderr",
          "text": [
            "100%|██████████| 16/16 [00:09<00:00,  1.77it/s]\n",
            "100%|██████████| 31/31 [00:10<00:00,  2.90it/s]\n"
          ]
        },
        {
          "output_type": "stream",
          "name": "stdout",
          "text": [
            "Accuracy: 36.24 - Loss: 0.014664488125162958 \n",
            "\n"
          ]
        },
        {
          "output_type": "stream",
          "name": "stderr",
          "text": [
            "100%|██████████| 16/16 [00:07<00:00,  2.06it/s]\n",
            "100%|██████████| 31/31 [00:10<00:00,  2.86it/s]\n"
          ]
        },
        {
          "output_type": "stream",
          "name": "stdout",
          "text": [
            "Accuracy: 37.03 - Loss: 0.014792600655622474 \n",
            "\n"
          ]
        },
        {
          "output_type": "stream",
          "name": "stderr",
          "text": [
            "100%|██████████| 16/16 [00:08<00:00,  1.81it/s]\n",
            "100%|██████████| 31/31 [00:11<00:00,  2.79it/s]\n"
          ]
        },
        {
          "output_type": "stream",
          "name": "stdout",
          "text": [
            "Accuracy: 37.69 - Loss: 0.014520746282901313 \n",
            "\n"
          ]
        },
        {
          "output_type": "stream",
          "name": "stderr",
          "text": [
            "100%|██████████| 16/16 [00:07<00:00,  2.03it/s]\n",
            "100%|██████████| 31/31 [00:10<00:00,  2.88it/s]\n"
          ]
        },
        {
          "output_type": "stream",
          "name": "stdout",
          "text": [
            "Accuracy: 38.43 - Loss: 0.01458828367025502 \n",
            "\n"
          ]
        },
        {
          "output_type": "stream",
          "name": "stderr",
          "text": [
            "100%|██████████| 16/16 [00:08<00:00,  1.84it/s]\n",
            "100%|██████████| 31/31 [00:11<00:00,  2.63it/s]\n"
          ]
        },
        {
          "output_type": "stream",
          "name": "stdout",
          "text": [
            "Accuracy: 38.94 - Loss: 0.014890541873168751 \n",
            "\n"
          ]
        },
        {
          "output_type": "stream",
          "name": "stderr",
          "text": [
            "100%|██████████| 16/16 [00:07<00:00,  2.03it/s]\n",
            "100%|██████████| 31/31 [00:10<00:00,  2.93it/s]\n"
          ]
        },
        {
          "output_type": "stream",
          "name": "stdout",
          "text": [
            "Accuracy: 38.23 - Loss: 0.015025729470411977 \n",
            "\n"
          ]
        },
        {
          "output_type": "stream",
          "name": "stderr",
          "text": [
            "100%|██████████| 16/16 [00:08<00:00,  1.83it/s]\n",
            "100%|██████████| 31/31 [00:10<00:00,  2.90it/s]\n"
          ]
        },
        {
          "output_type": "stream",
          "name": "stdout",
          "text": [
            "Accuracy: 39.76 - Loss: 0.014592568211107649 \n",
            "\n"
          ]
        },
        {
          "output_type": "stream",
          "name": "stderr",
          "text": [
            "100%|██████████| 16/16 [00:08<00:00,  1.98it/s]\n",
            "100%|██████████| 31/31 [00:10<00:00,  3.06it/s]\n"
          ]
        },
        {
          "output_type": "stream",
          "name": "stdout",
          "text": [
            "Accuracy: 39.98 - Loss: 0.014909181181605944 \n",
            "\n"
          ]
        },
        {
          "output_type": "stream",
          "name": "stderr",
          "text": [
            "100%|██████████| 16/16 [00:08<00:00,  1.81it/s]\n",
            "100%|██████████| 31/31 [00:10<00:00,  2.88it/s]\n"
          ]
        },
        {
          "output_type": "stream",
          "name": "stdout",
          "text": [
            "Accuracy: 40.32 - Loss: 0.014890072856370533 \n",
            "\n"
          ]
        },
        {
          "output_type": "stream",
          "name": "stderr",
          "text": [
            "100%|██████████| 16/16 [00:07<00:00,  2.03it/s]\n",
            "100%|██████████| 31/31 [00:10<00:00,  2.98it/s]\n"
          ]
        },
        {
          "output_type": "stream",
          "name": "stdout",
          "text": [
            "Accuracy: 40.19 - Loss: 0.015088909908419925 \n",
            "\n"
          ]
        },
        {
          "output_type": "stream",
          "name": "stderr",
          "text": [
            "100%|██████████| 16/16 [00:08<00:00,  1.82it/s]\n",
            "100%|██████████| 31/31 [00:10<00:00,  2.89it/s]\n"
          ]
        },
        {
          "output_type": "stream",
          "name": "stdout",
          "text": [
            "Accuracy: 39.42 - Loss: 0.015365004448467128 \n",
            "\n"
          ]
        },
        {
          "output_type": "stream",
          "name": "stderr",
          "text": [
            "100%|██████████| 16/16 [00:07<00:00,  2.05it/s]\n",
            "100%|██████████| 31/31 [00:10<00:00,  2.97it/s]\n"
          ]
        },
        {
          "output_type": "stream",
          "name": "stdout",
          "text": [
            "Accuracy: 40.04 - Loss: 0.015197059934635021 \n",
            "\n"
          ]
        },
        {
          "output_type": "stream",
          "name": "stderr",
          "text": [
            "100%|██████████| 16/16 [00:08<00:00,  1.81it/s]\n",
            "100%|██████████| 31/31 [00:10<00:00,  2.87it/s]\n"
          ]
        },
        {
          "output_type": "stream",
          "name": "stdout",
          "text": [
            "Accuracy: 39.50 - Loss: 0.015385008792775252 \n",
            "\n"
          ]
        },
        {
          "output_type": "stream",
          "name": "stderr",
          "text": [
            "100%|██████████| 16/16 [00:08<00:00,  1.90it/s]\n",
            "100%|██████████| 31/31 [00:10<00:00,  3.05it/s]\n"
          ]
        },
        {
          "output_type": "stream",
          "name": "stdout",
          "text": [
            "Accuracy: 39.98 - Loss: 0.015366134638396738 \n",
            "\n"
          ]
        },
        {
          "output_type": "stream",
          "name": "stderr",
          "text": [
            "100%|██████████| 16/16 [00:08<00:00,  1.81it/s]\n",
            "100%|██████████| 31/31 [00:10<00:00,  2.90it/s]\n"
          ]
        },
        {
          "output_type": "stream",
          "name": "stdout",
          "text": [
            "Accuracy: 39.88 - Loss: 0.015360646528213435 \n",
            "\n"
          ]
        },
        {
          "output_type": "stream",
          "name": "stderr",
          "text": [
            "100%|██████████| 16/16 [00:08<00:00,  1.95it/s]\n",
            "100%|██████████| 31/31 [00:10<00:00,  3.05it/s]\n"
          ]
        },
        {
          "output_type": "stream",
          "name": "stdout",
          "text": [
            "Accuracy: 40.09 - Loss: 0.015157393278678764 \n",
            "\n"
          ]
        },
        {
          "output_type": "stream",
          "name": "stderr",
          "text": [
            "100%|██████████| 16/16 [00:08<00:00,  1.80it/s]\n",
            "100%|██████████| 31/31 [00:10<00:00,  2.87it/s]\n"
          ]
        },
        {
          "output_type": "stream",
          "name": "stdout",
          "text": [
            "Accuracy: 40.37 - Loss: 0.015194548453711832 \n",
            "\n"
          ]
        }
      ],
      "source": [
        "warnings.filterwarnings('ignore', category=UserWarning)\n",
        "\n",
        "# Parse arguments\n",
        "conf = { # Art Painting -> Sketch\n",
        "    'seed': 0,\n",
        "    'test_only': False,\n",
        "    'cpu': False,\n",
        "    'experiment': 'baseline',\n",
        "    'experiment_name': '0_1_2',\n",
        "    'experiment_args': '{}',\n",
        "    'dataset_args': { 'text_root': 'data', 'images_root': 'data/kfold/PACS', 'source_domain': 'art_painting', 'target_domain': 'sketch' },\n",
        "    'batch_size': 128,\n",
        "    'epochs': 30,\n",
        "    'num_workers': 5,\n",
        "    'grad_accum_steps': 1\n",
        "}\n",
        "\n",
        "#args = parse_arguments()\n",
        "args = argparse.Namespace(**conf)\n",
        "print(args)\n",
        "CONFIG.update(vars(args))\n",
        "\n",
        "# Setup output directory\n",
        "CONFIG.save_dir = os.path.join('record', CONFIG.experiment_name)\n",
        "os.makedirs(CONFIG.save_dir, exist_ok=True)\n",
        "\n",
        "# Setup logging\n",
        "logging.basicConfig(\n",
        "    filename=os.path.join(CONFIG.save_dir, 'log.txt'),\n",
        "    format='%(message)s',\n",
        "    level=logging.INFO,\n",
        "    filemode='a'\n",
        ")\n",
        "\n",
        "# Set experiment's device & deterministic behavior\n",
        "if CONFIG.cpu:\n",
        "    CONFIG.device = 'cpu'\n",
        "else:\n",
        "    CONFIG.device = 'cuda' if torch.cuda.is_available() else 'cpu'\n",
        "\n",
        "torch.manual_seed(CONFIG.seed)\n",
        "random.seed(CONFIG.seed)\n",
        "np.random.seed(CONFIG.seed)\n",
        "torch.backends.cudnn.benchmark = True\n",
        "torch.use_deterministic_algorithms(mode=True, warn_only=True)\n",
        "\n",
        "main()"
      ]
    },
    {
      "cell_type": "markdown",
      "metadata": {
        "id": "pTblrtLQdReB"
      },
      "source": [
        "#### 0.1.3 - Art painting &rightarrow; Photo"
      ]
    },
    {
      "cell_type": "code",
      "execution_count": 16,
      "metadata": {
        "colab": {
          "base_uri": "https://localhost:8080/"
        },
        "id": "n2KdYH7CdReB",
        "outputId": "3d6a69a1-147d-4c7d-a8d7-1dcf2312e33e"
      },
      "outputs": [
        {
          "output_type": "stream",
          "name": "stdout",
          "text": [
            "Namespace(seed=0, test_only=False, cpu=False, experiment='baseline', experiment_name='0_1_3', experiment_args='{}', dataset_args={'text_root': 'data', 'images_root': 'data/kfold/PACS', 'source_domain': 'art_painting', 'target_domain': 'photo'}, batch_size=128, epochs=30, num_workers=5, grad_accum_steps=1)\n"
          ]
        },
        {
          "output_type": "stream",
          "name": "stderr",
          "text": [
            "100%|██████████| 16/16 [00:09<00:00,  1.71it/s]\n",
            "100%|██████████| 14/14 [00:05<00:00,  2.78it/s]\n"
          ]
        },
        {
          "output_type": "stream",
          "name": "stdout",
          "text": [
            "Accuracy: 60.84 - Loss: 0.011620395126456986 \n",
            "\n"
          ]
        },
        {
          "output_type": "stream",
          "name": "stderr",
          "text": [
            "100%|██████████| 16/16 [00:08<00:00,  1.78it/s]\n",
            "100%|██████████| 14/14 [00:04<00:00,  3.30it/s]\n"
          ]
        },
        {
          "output_type": "stream",
          "name": "stdout",
          "text": [
            "Accuracy: 79.64 - Loss: 0.0066013281930706455 \n",
            "\n"
          ]
        },
        {
          "output_type": "stream",
          "name": "stderr",
          "text": [
            "100%|██████████| 16/16 [00:08<00:00,  1.83it/s]\n",
            "100%|██████████| 14/14 [00:04<00:00,  3.37it/s]\n"
          ]
        },
        {
          "output_type": "stream",
          "name": "stdout",
          "text": [
            "Accuracy: 87.78 - Loss: 0.004116029207577962 \n",
            "\n"
          ]
        },
        {
          "output_type": "stream",
          "name": "stderr",
          "text": [
            "100%|██████████| 16/16 [00:08<00:00,  1.85it/s]\n",
            "100%|██████████| 14/14 [00:04<00:00,  3.30it/s]\n"
          ]
        },
        {
          "output_type": "stream",
          "name": "stdout",
          "text": [
            "Accuracy: 89.52 - Loss: 0.0031059691381311702 \n",
            "\n"
          ]
        },
        {
          "output_type": "stream",
          "name": "stderr",
          "text": [
            "100%|██████████| 16/16 [00:08<00:00,  1.82it/s]\n",
            "100%|██████████| 14/14 [00:04<00:00,  3.34it/s]\n"
          ]
        },
        {
          "output_type": "stream",
          "name": "stdout",
          "text": [
            "Accuracy: 91.08 - Loss: 0.00250259592772244 \n",
            "\n"
          ]
        },
        {
          "output_type": "stream",
          "name": "stderr",
          "text": [
            "100%|██████████| 16/16 [00:08<00:00,  1.81it/s]\n",
            "100%|██████████| 14/14 [00:04<00:00,  3.31it/s]\n"
          ]
        },
        {
          "output_type": "stream",
          "name": "stdout",
          "text": [
            "Accuracy: 92.22 - Loss: 0.002190134785846322 \n",
            "\n"
          ]
        },
        {
          "output_type": "stream",
          "name": "stderr",
          "text": [
            "100%|██████████| 16/16 [00:08<00:00,  1.82it/s]\n",
            "100%|██████████| 14/14 [00:04<00:00,  3.31it/s]\n"
          ]
        },
        {
          "output_type": "stream",
          "name": "stdout",
          "text": [
            "Accuracy: 92.69 - Loss: 0.0019683563334499292 \n",
            "\n"
          ]
        },
        {
          "output_type": "stream",
          "name": "stderr",
          "text": [
            "100%|██████████| 16/16 [00:08<00:00,  1.82it/s]\n",
            "100%|██████████| 14/14 [00:04<00:00,  3.25it/s]\n"
          ]
        },
        {
          "output_type": "stream",
          "name": "stdout",
          "text": [
            "Accuracy: 93.23 - Loss: 0.0018039628528727742 \n",
            "\n"
          ]
        },
        {
          "output_type": "stream",
          "name": "stderr",
          "text": [
            "100%|██████████| 16/16 [00:08<00:00,  1.84it/s]\n",
            "100%|██████████| 14/14 [00:04<00:00,  3.34it/s]\n"
          ]
        },
        {
          "output_type": "stream",
          "name": "stdout",
          "text": [
            "Accuracy: 93.47 - Loss: 0.0017236616217090699 \n",
            "\n"
          ]
        },
        {
          "output_type": "stream",
          "name": "stderr",
          "text": [
            "100%|██████████| 16/16 [00:08<00:00,  1.81it/s]\n",
            "100%|██████████| 14/14 [00:04<00:00,  3.34it/s]\n"
          ]
        },
        {
          "output_type": "stream",
          "name": "stdout",
          "text": [
            "Accuracy: 94.13 - Loss: 0.0015788354849565528 \n",
            "\n"
          ]
        },
        {
          "output_type": "stream",
          "name": "stderr",
          "text": [
            "100%|██████████| 16/16 [00:08<00:00,  1.81it/s]\n",
            "100%|██████████| 14/14 [00:04<00:00,  3.37it/s]\n"
          ]
        },
        {
          "output_type": "stream",
          "name": "stdout",
          "text": [
            "Accuracy: 94.25 - Loss: 0.0015152095789145567 \n",
            "\n"
          ]
        },
        {
          "output_type": "stream",
          "name": "stderr",
          "text": [
            "100%|██████████| 16/16 [00:08<00:00,  1.85it/s]\n",
            "100%|██████████| 14/14 [00:04<00:00,  3.26it/s]\n"
          ]
        },
        {
          "output_type": "stream",
          "name": "stdout",
          "text": [
            "Accuracy: 94.37 - Loss: 0.001462970794496422 \n",
            "\n"
          ]
        },
        {
          "output_type": "stream",
          "name": "stderr",
          "text": [
            "100%|██████████| 16/16 [00:08<00:00,  1.89it/s]\n",
            "100%|██████████| 14/14 [00:04<00:00,  3.19it/s]\n"
          ]
        },
        {
          "output_type": "stream",
          "name": "stdout",
          "text": [
            "Accuracy: 94.91 - Loss: 0.0013116887475023726 \n",
            "\n"
          ]
        },
        {
          "output_type": "stream",
          "name": "stderr",
          "text": [
            "100%|██████████| 16/16 [00:08<00:00,  1.89it/s]\n",
            "100%|██████████| 14/14 [00:04<00:00,  2.97it/s]\n"
          ]
        },
        {
          "output_type": "stream",
          "name": "stdout",
          "text": [
            "Accuracy: 94.85 - Loss: 0.0013402119791971708 \n",
            "\n"
          ]
        },
        {
          "output_type": "stream",
          "name": "stderr",
          "text": [
            "100%|██████████| 16/16 [00:08<00:00,  1.97it/s]\n",
            "100%|██████████| 14/14 [00:04<00:00,  2.85it/s]\n"
          ]
        },
        {
          "output_type": "stream",
          "name": "stdout",
          "text": [
            "Accuracy: 94.85 - Loss: 0.0013186051281626353 \n",
            "\n"
          ]
        },
        {
          "output_type": "stream",
          "name": "stderr",
          "text": [
            "100%|██████████| 16/16 [00:07<00:00,  2.06it/s]\n",
            "100%|██████████| 14/14 [00:05<00:00,  2.74it/s]\n"
          ]
        },
        {
          "output_type": "stream",
          "name": "stdout",
          "text": [
            "Accuracy: 95.21 - Loss: 0.0012482955549916108 \n",
            "\n"
          ]
        },
        {
          "output_type": "stream",
          "name": "stderr",
          "text": [
            "100%|██████████| 16/16 [00:07<00:00,  2.08it/s]\n",
            "100%|██████████| 14/14 [00:05<00:00,  2.65it/s]\n"
          ]
        },
        {
          "output_type": "stream",
          "name": "stdout",
          "text": [
            "Accuracy: 95.63 - Loss: 0.0011855413668794546 \n",
            "\n"
          ]
        },
        {
          "output_type": "stream",
          "name": "stderr",
          "text": [
            "100%|██████████| 16/16 [00:07<00:00,  2.04it/s]\n",
            "100%|██████████| 14/14 [00:05<00:00,  2.71it/s]\n"
          ]
        },
        {
          "output_type": "stream",
          "name": "stdout",
          "text": [
            "Accuracy: 95.75 - Loss: 0.0011490095925411421 \n",
            "\n"
          ]
        },
        {
          "output_type": "stream",
          "name": "stderr",
          "text": [
            "100%|██████████| 16/16 [00:07<00:00,  2.04it/s]\n",
            "100%|██████████| 14/14 [00:05<00:00,  2.70it/s]\n"
          ]
        },
        {
          "output_type": "stream",
          "name": "stdout",
          "text": [
            "Accuracy: 95.45 - Loss: 0.0011838661964068155 \n",
            "\n"
          ]
        },
        {
          "output_type": "stream",
          "name": "stderr",
          "text": [
            "100%|██████████| 16/16 [00:07<00:00,  2.06it/s]\n",
            "100%|██████████| 14/14 [00:05<00:00,  2.68it/s]\n"
          ]
        },
        {
          "output_type": "stream",
          "name": "stdout",
          "text": [
            "Accuracy: 95.51 - Loss: 0.0011261857137039393 \n",
            "\n"
          ]
        },
        {
          "output_type": "stream",
          "name": "stderr",
          "text": [
            "100%|██████████| 16/16 [00:07<00:00,  2.05it/s]\n",
            "100%|██████████| 14/14 [00:05<00:00,  2.79it/s]\n"
          ]
        },
        {
          "output_type": "stream",
          "name": "stdout",
          "text": [
            "Accuracy: 95.57 - Loss: 0.00110232856648857 \n",
            "\n"
          ]
        },
        {
          "output_type": "stream",
          "name": "stderr",
          "text": [
            "100%|██████████| 16/16 [00:07<00:00,  2.04it/s]\n",
            "100%|██████████| 14/14 [00:04<00:00,  2.80it/s]\n"
          ]
        },
        {
          "output_type": "stream",
          "name": "stdout",
          "text": [
            "Accuracy: 95.81 - Loss: 0.0010900355953567043 \n",
            "\n"
          ]
        },
        {
          "output_type": "stream",
          "name": "stderr",
          "text": [
            "100%|██████████| 16/16 [00:08<00:00,  1.99it/s]\n",
            "100%|██████████| 14/14 [00:04<00:00,  2.98it/s]\n"
          ]
        },
        {
          "output_type": "stream",
          "name": "stdout",
          "text": [
            "Accuracy: 95.87 - Loss: 0.0010612901963828923 \n",
            "\n"
          ]
        },
        {
          "output_type": "stream",
          "name": "stderr",
          "text": [
            "100%|██████████| 16/16 [00:08<00:00,  1.97it/s]\n",
            "100%|██████████| 14/14 [00:04<00:00,  3.11it/s]\n"
          ]
        },
        {
          "output_type": "stream",
          "name": "stdout",
          "text": [
            "Accuracy: 95.69 - Loss: 0.0010841238931446019 \n",
            "\n"
          ]
        },
        {
          "output_type": "stream",
          "name": "stderr",
          "text": [
            "100%|██████████| 16/16 [00:08<00:00,  1.92it/s]\n",
            "100%|██████████| 14/14 [00:04<00:00,  3.23it/s]\n"
          ]
        },
        {
          "output_type": "stream",
          "name": "stdout",
          "text": [
            "Accuracy: 95.63 - Loss: 0.001091772922967187 \n",
            "\n"
          ]
        },
        {
          "output_type": "stream",
          "name": "stderr",
          "text": [
            "100%|██████████| 16/16 [00:10<00:00,  1.60it/s]\n",
            "100%|██████████| 14/14 [00:04<00:00,  3.39it/s]\n"
          ]
        },
        {
          "output_type": "stream",
          "name": "stdout",
          "text": [
            "Accuracy: 95.75 - Loss: 0.001077134125380816 \n",
            "\n"
          ]
        },
        {
          "output_type": "stream",
          "name": "stderr",
          "text": [
            "100%|██████████| 16/16 [00:08<00:00,  1.80it/s]\n",
            "100%|██████████| 14/14 [00:04<00:00,  3.35it/s]\n"
          ]
        },
        {
          "output_type": "stream",
          "name": "stdout",
          "text": [
            "Accuracy: 95.75 - Loss: 0.0010765354968830497 \n",
            "\n"
          ]
        },
        {
          "output_type": "stream",
          "name": "stderr",
          "text": [
            "100%|██████████| 16/16 [00:08<00:00,  1.83it/s]\n",
            "100%|██████████| 14/14 [00:04<00:00,  3.35it/s]\n"
          ]
        },
        {
          "output_type": "stream",
          "name": "stdout",
          "text": [
            "Accuracy: 95.87 - Loss: 0.0010738102981296485 \n",
            "\n"
          ]
        },
        {
          "output_type": "stream",
          "name": "stderr",
          "text": [
            "100%|██████████| 16/16 [00:08<00:00,  1.81it/s]\n",
            "100%|██████████| 14/14 [00:04<00:00,  3.22it/s]\n"
          ]
        },
        {
          "output_type": "stream",
          "name": "stdout",
          "text": [
            "Accuracy: 95.81 - Loss: 0.001084593999127071 \n",
            "\n"
          ]
        },
        {
          "output_type": "stream",
          "name": "stderr",
          "text": [
            "100%|██████████| 16/16 [00:08<00:00,  1.84it/s]\n",
            "100%|██████████| 14/14 [00:04<00:00,  3.31it/s]\n"
          ]
        },
        {
          "output_type": "stream",
          "name": "stdout",
          "text": [
            "Accuracy: 95.93 - Loss: 0.0010711053720937518 \n",
            "\n"
          ]
        }
      ],
      "source": [
        "warnings.filterwarnings('ignore', category=UserWarning)\n",
        "\n",
        "# Parse arguments\n",
        "conf = { # Art Painting -> Photo\n",
        "    'seed': 0,\n",
        "    'test_only': False,\n",
        "    'cpu': False,\n",
        "    'experiment': 'baseline',\n",
        "    'experiment_name': '0_1_3',\n",
        "    'experiment_args': '{}',\n",
        "    'dataset_args': { 'text_root': 'data', 'images_root': 'data/kfold/PACS', 'source_domain': 'art_painting', 'target_domain': 'photo' },\n",
        "    'batch_size': 128,\n",
        "    'epochs': 30,\n",
        "    'num_workers': 5,\n",
        "    'grad_accum_steps': 1\n",
        "}\n",
        "\n",
        "#args = parse_arguments()\n",
        "args = argparse.Namespace(**conf)\n",
        "print(args)\n",
        "CONFIG.update(vars(args))\n",
        "\n",
        "# Setup output directory\n",
        "CONFIG.save_dir = os.path.join('record', CONFIG.experiment_name)\n",
        "os.makedirs(CONFIG.save_dir, exist_ok=True)\n",
        "\n",
        "# Setup logging\n",
        "logging.basicConfig(\n",
        "    filename=os.path.join(CONFIG.save_dir, 'log.txt'),\n",
        "    format='%(message)s',\n",
        "    level=logging.INFO,\n",
        "    filemode='a'\n",
        ")\n",
        "\n",
        "# Set experiment's device & deterministic behavior\n",
        "if CONFIG.cpu:\n",
        "    CONFIG.device = 'cpu'\n",
        "else:\n",
        "    CONFIG.device = 'cuda' if torch.cuda.is_available() else 'cpu'\n",
        "\n",
        "torch.manual_seed(CONFIG.seed)\n",
        "random.seed(CONFIG.seed)\n",
        "np.random.seed(CONFIG.seed)\n",
        "torch.backends.cudnn.benchmark = True\n",
        "torch.use_deterministic_algorithms(mode=True, warn_only=True)\n",
        "\n",
        "main()"
      ]
    },
    {
      "cell_type": "markdown",
      "metadata": {
        "id": "jLG77qbMvmv2"
      },
      "source": [
        "## 1 - Activation Shaping module"
      ]
    },
    {
      "cell_type": "markdown",
      "metadata": {
        "id": "xslNzkz0sEWp"
      },
      "source": [
        "### 1.1 - ASH module after last convolutional layer"
      ]
    },
    {
      "cell_type": "markdown",
      "metadata": {
        "id": "oTxLZQSgsEWp"
      },
      "source": [
        "#### 1.1.1 - Art Painting &rightarrow; Cartoon"
      ]
    },
    {
      "cell_type": "code",
      "execution_count": 17,
      "metadata": {
        "colab": {
          "base_uri": "https://localhost:8080/"
        },
        "id": "LNHA_jM-sEWq",
        "outputId": "ca6af817-2b19-46fd-ce16-447c5d3e3f15"
      },
      "outputs": [
        {
          "output_type": "stream",
          "name": "stdout",
          "text": [
            "Namespace(seed=0, test_only=False, cpu=False, experiment='random', experiment_name='1_1_1', experiment_args={'module_placement': ['layer4.1.conv2'], 'mask_out_ratio': 0.1}, dataset_args={'text_root': 'data', 'images_root': 'data/kfold/PACS', 'source_domain': 'art_painting', 'target_domain': 'cartoon'}, batch_size=128, epochs=30, num_workers=5, grad_accum_steps=1)\n",
            "mask_out_ratio:  0.1\n",
            "layer_name layer4.1.conv2 random_mask sum():  tensor(22611., device='cuda:0')\n",
            "Insert activation shaping layer after  layer4.1.conv2 Conv2d(512, 512, kernel_size=(3, 3), stride=(1, 1), padding=(1, 1), bias=False)\n"
          ]
        },
        {
          "output_type": "stream",
          "name": "stderr",
          "text": [
            "100%|██████████| 16/16 [00:09<00:00,  1.74it/s]\n",
            "100%|██████████| 19/19 [00:06<00:00,  2.73it/s]\n"
          ]
        },
        {
          "output_type": "stream",
          "name": "stdout",
          "text": [
            "Accuracy: 19.97 - Loss: 0.015888305094868656 \n",
            "\n"
          ]
        },
        {
          "output_type": "stream",
          "name": "stderr",
          "text": [
            "100%|██████████| 16/16 [00:08<00:00,  1.99it/s]\n",
            "100%|██████████| 19/19 [00:06<00:00,  2.77it/s]\n"
          ]
        },
        {
          "output_type": "stream",
          "name": "stdout",
          "text": [
            "Accuracy: 27.82 - Loss: 0.014835419355805823 \n",
            "\n"
          ]
        },
        {
          "output_type": "stream",
          "name": "stderr",
          "text": [
            "100%|██████████| 16/16 [00:07<00:00,  2.10it/s]\n",
            "100%|██████████| 19/19 [00:06<00:00,  2.83it/s]\n"
          ]
        },
        {
          "output_type": "stream",
          "name": "stdout",
          "text": [
            "Accuracy: 36.65 - Loss: 0.013721911014143518 \n",
            "\n"
          ]
        },
        {
          "output_type": "stream",
          "name": "stderr",
          "text": [
            "100%|██████████| 16/16 [00:08<00:00,  1.95it/s]\n",
            "100%|██████████| 19/19 [00:06<00:00,  3.16it/s]\n"
          ]
        },
        {
          "output_type": "stream",
          "name": "stdout",
          "text": [
            "Accuracy: 38.23 - Loss: 0.013403762831215972 \n",
            "\n"
          ]
        },
        {
          "output_type": "stream",
          "name": "stderr",
          "text": [
            "100%|██████████| 16/16 [00:08<00:00,  1.83it/s]\n",
            "100%|██████████| 19/19 [00:05<00:00,  3.39it/s]\n"
          ]
        },
        {
          "output_type": "stream",
          "name": "stdout",
          "text": [
            "Accuracy: 38.35 - Loss: 0.01307643059984409 \n",
            "\n"
          ]
        },
        {
          "output_type": "stream",
          "name": "stderr",
          "text": [
            "100%|██████████| 16/16 [00:08<00:00,  1.82it/s]\n",
            "100%|██████████| 19/19 [00:05<00:00,  3.35it/s]\n"
          ]
        },
        {
          "output_type": "stream",
          "name": "stdout",
          "text": [
            "Accuracy: 40.78 - Loss: 0.01270210625978867 \n",
            "\n"
          ]
        },
        {
          "output_type": "stream",
          "name": "stderr",
          "text": [
            "100%|██████████| 16/16 [00:08<00:00,  1.84it/s]\n",
            "100%|██████████| 19/19 [00:05<00:00,  3.28it/s]\n"
          ]
        },
        {
          "output_type": "stream",
          "name": "stdout",
          "text": [
            "Accuracy: 40.91 - Loss: 0.012505655758616868 \n",
            "\n"
          ]
        },
        {
          "output_type": "stream",
          "name": "stderr",
          "text": [
            "100%|██████████| 16/16 [00:08<00:00,  1.90it/s]\n",
            "100%|██████████| 19/19 [00:06<00:00,  2.85it/s]\n"
          ]
        },
        {
          "output_type": "stream",
          "name": "stdout",
          "text": [
            "Accuracy: 40.61 - Loss: 0.012449973984383073 \n",
            "\n"
          ]
        },
        {
          "output_type": "stream",
          "name": "stderr",
          "text": [
            "100%|██████████| 16/16 [00:07<00:00,  2.02it/s]\n",
            "100%|██████████| 19/19 [00:06<00:00,  2.81it/s]\n"
          ]
        },
        {
          "output_type": "stream",
          "name": "stdout",
          "text": [
            "Accuracy: 41.25 - Loss: 0.012237868058803546 \n",
            "\n"
          ]
        },
        {
          "output_type": "stream",
          "name": "stderr",
          "text": [
            "100%|██████████| 16/16 [00:07<00:00,  2.02it/s]\n",
            "100%|██████████| 19/19 [00:06<00:00,  2.98it/s]\n"
          ]
        },
        {
          "output_type": "stream",
          "name": "stdout",
          "text": [
            "Accuracy: 40.57 - Loss: 0.01230942033256687 \n",
            "\n"
          ]
        },
        {
          "output_type": "stream",
          "name": "stderr",
          "text": [
            "100%|██████████| 16/16 [00:08<00:00,  1.81it/s]\n",
            "100%|██████████| 19/19 [00:05<00:00,  3.36it/s]\n"
          ]
        },
        {
          "output_type": "stream",
          "name": "stdout",
          "text": [
            "Accuracy: 41.21 - Loss: 0.012048846727345177 \n",
            "\n"
          ]
        },
        {
          "output_type": "stream",
          "name": "stderr",
          "text": [
            "100%|██████████| 16/16 [00:08<00:00,  1.83it/s]\n",
            "100%|██████████| 19/19 [00:05<00:00,  3.33it/s]\n"
          ]
        },
        {
          "output_type": "stream",
          "name": "stdout",
          "text": [
            "Accuracy: 42.02 - Loss: 0.012067531105194483 \n",
            "\n"
          ]
        },
        {
          "output_type": "stream",
          "name": "stderr",
          "text": [
            "100%|██████████| 16/16 [00:08<00:00,  1.82it/s]\n",
            "100%|██████████| 19/19 [00:05<00:00,  3.34it/s]\n"
          ]
        },
        {
          "output_type": "stream",
          "name": "stdout",
          "text": [
            "Accuracy: 41.81 - Loss: 0.011919296387926303 \n",
            "\n"
          ]
        },
        {
          "output_type": "stream",
          "name": "stderr",
          "text": [
            "100%|██████████| 16/16 [00:08<00:00,  1.87it/s]\n",
            "100%|██████████| 19/19 [00:06<00:00,  2.84it/s]\n"
          ]
        },
        {
          "output_type": "stream",
          "name": "stdout",
          "text": [
            "Accuracy: 40.66 - Loss: 0.01204622740326481 \n",
            "\n"
          ]
        },
        {
          "output_type": "stream",
          "name": "stderr",
          "text": [
            "100%|██████████| 16/16 [00:07<00:00,  2.05it/s]\n",
            "100%|██████████| 19/19 [00:06<00:00,  2.87it/s]\n"
          ]
        },
        {
          "output_type": "stream",
          "name": "stdout",
          "text": [
            "Accuracy: 42.15 - Loss: 0.011917216938510283 \n",
            "\n"
          ]
        },
        {
          "output_type": "stream",
          "name": "stderr",
          "text": [
            "100%|██████████| 16/16 [00:07<00:00,  2.05it/s]\n",
            "100%|██████████| 19/19 [00:06<00:00,  2.92it/s]\n"
          ]
        },
        {
          "output_type": "stream",
          "name": "stdout",
          "text": [
            "Accuracy: 42.32 - Loss: 0.011809672003313136 \n",
            "\n"
          ]
        },
        {
          "output_type": "stream",
          "name": "stderr",
          "text": [
            "100%|██████████| 16/16 [00:08<00:00,  1.85it/s]\n",
            "100%|██████████| 19/19 [00:05<00:00,  3.35it/s]\n"
          ]
        },
        {
          "output_type": "stream",
          "name": "stdout",
          "text": [
            "Accuracy: 42.02 - Loss: 0.011858620105546488 \n",
            "\n"
          ]
        },
        {
          "output_type": "stream",
          "name": "stderr",
          "text": [
            "100%|██████████| 16/16 [00:08<00:00,  1.81it/s]\n",
            "100%|██████████| 19/19 [00:05<00:00,  3.41it/s]\n"
          ]
        },
        {
          "output_type": "stream",
          "name": "stdout",
          "text": [
            "Accuracy: 41.72 - Loss: 0.01179919731342345 \n",
            "\n"
          ]
        },
        {
          "output_type": "stream",
          "name": "stderr",
          "text": [
            "100%|██████████| 16/16 [00:08<00:00,  1.83it/s]\n",
            "100%|██████████| 19/19 [00:05<00:00,  3.36it/s]\n"
          ]
        },
        {
          "output_type": "stream",
          "name": "stdout",
          "text": [
            "Accuracy: 42.32 - Loss: 0.011665020735597447 \n",
            "\n"
          ]
        },
        {
          "output_type": "stream",
          "name": "stderr",
          "text": [
            "100%|██████████| 16/16 [00:08<00:00,  1.81it/s]\n",
            "100%|██████████| 19/19 [00:06<00:00,  2.95it/s]\n"
          ]
        },
        {
          "output_type": "stream",
          "name": "stdout",
          "text": [
            "Accuracy: 42.58 - Loss: 0.011726576822202767 \n",
            "\n"
          ]
        },
        {
          "output_type": "stream",
          "name": "stderr",
          "text": [
            "100%|██████████| 16/16 [00:07<00:00,  2.05it/s]\n",
            "100%|██████████| 19/19 [00:06<00:00,  2.80it/s]\n"
          ]
        },
        {
          "output_type": "stream",
          "name": "stdout",
          "text": [
            "Accuracy: 42.62 - Loss: 0.011634418327653774 \n",
            "\n"
          ]
        },
        {
          "output_type": "stream",
          "name": "stderr",
          "text": [
            "100%|██████████| 16/16 [00:07<00:00,  2.05it/s]\n",
            "100%|██████████| 19/19 [00:06<00:00,  2.83it/s]\n"
          ]
        },
        {
          "output_type": "stream",
          "name": "stdout",
          "text": [
            "Accuracy: 43.34 - Loss: 0.0115853999153339 \n",
            "\n"
          ]
        },
        {
          "output_type": "stream",
          "name": "stderr",
          "text": [
            "100%|██████████| 16/16 [00:08<00:00,  1.89it/s]\n",
            "100%|██████████| 19/19 [00:05<00:00,  3.33it/s]\n"
          ]
        },
        {
          "output_type": "stream",
          "name": "stdout",
          "text": [
            "Accuracy: 43.05 - Loss: 0.011656063421289262 \n",
            "\n"
          ]
        },
        {
          "output_type": "stream",
          "name": "stderr",
          "text": [
            "100%|██████████| 16/16 [00:08<00:00,  1.81it/s]\n",
            "100%|██████████| 19/19 [00:05<00:00,  3.37it/s]\n"
          ]
        },
        {
          "output_type": "stream",
          "name": "stdout",
          "text": [
            "Accuracy: 42.83 - Loss: 0.011622950015112809 \n",
            "\n"
          ]
        },
        {
          "output_type": "stream",
          "name": "stderr",
          "text": [
            "100%|██████████| 16/16 [00:08<00:00,  1.80it/s]\n",
            "100%|██████████| 19/19 [00:05<00:00,  3.38it/s]\n"
          ]
        },
        {
          "output_type": "stream",
          "name": "stdout",
          "text": [
            "Accuracy: 43.13 - Loss: 0.0115661677290962 \n",
            "\n"
          ]
        },
        {
          "output_type": "stream",
          "name": "stderr",
          "text": [
            "100%|██████████| 16/16 [00:08<00:00,  1.83it/s]\n",
            "100%|██████████| 19/19 [00:06<00:00,  3.04it/s]\n"
          ]
        },
        {
          "output_type": "stream",
          "name": "stdout",
          "text": [
            "Accuracy: 42.88 - Loss: 0.011626311816249691 \n",
            "\n"
          ]
        },
        {
          "output_type": "stream",
          "name": "stderr",
          "text": [
            "100%|██████████| 16/16 [00:08<00:00,  1.99it/s]\n",
            "100%|██████████| 19/19 [00:06<00:00,  2.85it/s]\n"
          ]
        },
        {
          "output_type": "stream",
          "name": "stdout",
          "text": [
            "Accuracy: 43.30 - Loss: 0.011565568936359353 \n",
            "\n"
          ]
        },
        {
          "output_type": "stream",
          "name": "stderr",
          "text": [
            "100%|██████████| 16/16 [00:07<00:00,  2.03it/s]\n",
            "100%|██████████| 19/19 [00:06<00:00,  2.85it/s]\n"
          ]
        },
        {
          "output_type": "stream",
          "name": "stdout",
          "text": [
            "Accuracy: 43.60 - Loss: 0.011582614720477993 \n",
            "\n"
          ]
        },
        {
          "output_type": "stream",
          "name": "stderr",
          "text": [
            "100%|██████████| 16/16 [00:08<00:00,  1.98it/s]\n",
            "100%|██████████| 19/19 [00:06<00:00,  3.11it/s]\n"
          ]
        },
        {
          "output_type": "stream",
          "name": "stdout",
          "text": [
            "Accuracy: 43.30 - Loss: 0.011567086133940635 \n",
            "\n"
          ]
        },
        {
          "output_type": "stream",
          "name": "stderr",
          "text": [
            "100%|██████████| 16/16 [00:08<00:00,  1.83it/s]\n",
            "100%|██████████| 19/19 [00:05<00:00,  3.38it/s]\n"
          ]
        },
        {
          "output_type": "stream",
          "name": "stdout",
          "text": [
            "Accuracy: 43.26 - Loss: 0.011544538922480755 \n",
            "\n"
          ]
        }
      ],
      "source": [
        "warnings.filterwarnings('ignore', category=UserWarning)\n",
        "\n",
        "# Parse arguments\n",
        "conf = { # Art Painting -> Cartoon\n",
        "    'seed': 0,\n",
        "    'test_only': False,\n",
        "    'cpu': False,\n",
        "    'experiment': 'random',\n",
        "    'experiment_name': '1_1_1',\n",
        "    'experiment_args': {'module_placement': ['layer4.1.conv2'], 'mask_out_ratio': 0.1},\n",
        "    'dataset_args': {'text_root': 'data', 'images_root': 'data/kfold/PACS', 'source_domain': 'art_painting', 'target_domain': 'cartoon' },\n",
        "    'batch_size': 128,\n",
        "    'epochs': 30,\n",
        "    'num_workers': 5,\n",
        "    'grad_accum_steps': 1\n",
        "}\n",
        "\n",
        "#args = parse_arguments()\n",
        "args = argparse.Namespace(**conf)\n",
        "print(args)\n",
        "CONFIG.update(vars(args))\n",
        "\n",
        "# Setup output directory\n",
        "CONFIG.save_dir = os.path.join('record', CONFIG.experiment_name)\n",
        "os.makedirs(CONFIG.save_dir, exist_ok=True)\n",
        "\n",
        "# Setup logging\n",
        "logging.basicConfig(\n",
        "    filename=os.path.join(CONFIG.save_dir, 'log.txt'),\n",
        "    format='%(message)s',\n",
        "    level=logging.INFO,\n",
        "    filemode='a'\n",
        ")\n",
        "\n",
        "# Set experiment's device & deterministic behavior\n",
        "if CONFIG.cpu:\n",
        "    CONFIG.device = 'cpu'\n",
        "else:\n",
        "    CONFIG.device = 'cuda' if torch.cuda.is_available() else 'cpu'\n",
        "\n",
        "torch.manual_seed(CONFIG.seed)\n",
        "random.seed(CONFIG.seed)\n",
        "np.random.seed(CONFIG.seed)\n",
        "torch.backends.cudnn.benchmark = True\n",
        "torch.use_deterministic_algorithms(mode=True, warn_only=True)\n",
        "\n",
        "main()"
      ]
    },
    {
      "cell_type": "markdown",
      "metadata": {
        "id": "qp3DjIlvsEWq"
      },
      "source": [
        "#### 1.1.2 - Art Painting &rightarrow; Sketch"
      ]
    },
    {
      "cell_type": "code",
      "execution_count": 18,
      "metadata": {
        "colab": {
          "base_uri": "https://localhost:8080/"
        },
        "id": "Vu2uytHasEWq",
        "outputId": "58f7c5e6-2a68-4f34-d994-e47ec488ab1c"
      },
      "outputs": [
        {
          "output_type": "stream",
          "name": "stdout",
          "text": [
            "Namespace(seed=0, test_only=False, cpu=False, experiment='random', experiment_name='1_1_2', experiment_args={'module_placement': ['layer4.1.conv2'], 'mask_out_ratio': 0.1}, dataset_args={'text_root': 'data', 'images_root': 'data/kfold/PACS', 'source_domain': 'art_painting', 'target_domain': 'sketch'}, batch_size=128, epochs=30, num_workers=5, grad_accum_steps=1)\n",
            "mask_out_ratio:  0.1\n",
            "layer_name layer4.1.conv2 random_mask sum():  tensor(22611., device='cuda:0')\n",
            "Insert activation shaping layer after  layer4.1.conv2 Conv2d(512, 512, kernel_size=(3, 3), stride=(1, 1), padding=(1, 1), bias=False)\n"
          ]
        },
        {
          "output_type": "stream",
          "name": "stderr",
          "text": [
            "100%|██████████| 16/16 [00:09<00:00,  1.74it/s]\n",
            "100%|██████████| 31/31 [00:11<00:00,  2.71it/s]\n"
          ]
        },
        {
          "output_type": "stream",
          "name": "stdout",
          "text": [
            "Accuracy: 6.39 - Loss: 0.017047369683416906 \n",
            "\n"
          ]
        },
        {
          "output_type": "stream",
          "name": "stderr",
          "text": [
            "100%|██████████| 16/16 [00:07<00:00,  2.04it/s]\n",
            "100%|██████████| 31/31 [00:10<00:00,  2.93it/s]\n"
          ]
        },
        {
          "output_type": "stream",
          "name": "stdout",
          "text": [
            "Accuracy: 10.23 - Loss: 0.016052489579254873 \n",
            "\n"
          ]
        },
        {
          "output_type": "stream",
          "name": "stderr",
          "text": [
            "100%|██████████| 16/16 [00:08<00:00,  1.83it/s]\n",
            "100%|██████████| 31/31 [00:10<00:00,  2.89it/s]\n"
          ]
        },
        {
          "output_type": "stream",
          "name": "stdout",
          "text": [
            "Accuracy: 20.01 - Loss: 0.015470501119837441 \n",
            "\n"
          ]
        },
        {
          "output_type": "stream",
          "name": "stderr",
          "text": [
            "100%|██████████| 16/16 [00:09<00:00,  1.67it/s]\n",
            "100%|██████████| 31/31 [00:09<00:00,  3.16it/s]\n"
          ]
        },
        {
          "output_type": "stream",
          "name": "stdout",
          "text": [
            "Accuracy: 20.23 - Loss: 0.015464810689128547 \n",
            "\n"
          ]
        },
        {
          "output_type": "stream",
          "name": "stderr",
          "text": [
            "100%|██████████| 16/16 [00:08<00:00,  1.81it/s]\n",
            "100%|██████████| 31/31 [00:10<00:00,  2.90it/s]\n"
          ]
        },
        {
          "output_type": "stream",
          "name": "stdout",
          "text": [
            "Accuracy: 27.69 - Loss: 0.015018289949063218 \n",
            "\n"
          ]
        },
        {
          "output_type": "stream",
          "name": "stderr",
          "text": [
            "100%|██████████| 16/16 [00:08<00:00,  1.90it/s]\n",
            "100%|██████████| 31/31 [00:09<00:00,  3.13it/s]\n"
          ]
        },
        {
          "output_type": "stream",
          "name": "stdout",
          "text": [
            "Accuracy: 32.25 - Loss: 0.014961091638916046 \n",
            "\n"
          ]
        },
        {
          "output_type": "stream",
          "name": "stderr",
          "text": [
            "100%|██████████| 16/16 [00:08<00:00,  1.85it/s]\n",
            "100%|██████████| 31/31 [00:10<00:00,  2.86it/s]\n"
          ]
        },
        {
          "output_type": "stream",
          "name": "stdout",
          "text": [
            "Accuracy: 32.76 - Loss: 0.014922180136944933 \n",
            "\n"
          ]
        },
        {
          "output_type": "stream",
          "name": "stderr",
          "text": [
            "100%|██████████| 16/16 [00:08<00:00,  1.87it/s]\n",
            "100%|██████████| 31/31 [00:12<00:00,  2.53it/s]\n"
          ]
        },
        {
          "output_type": "stream",
          "name": "stdout",
          "text": [
            "Accuracy: 34.31 - Loss: 0.01478194953770879 \n",
            "\n"
          ]
        },
        {
          "output_type": "stream",
          "name": "stderr",
          "text": [
            "100%|██████████| 16/16 [00:09<00:00,  1.72it/s]\n",
            "100%|██████████| 31/31 [00:10<00:00,  2.86it/s]\n"
          ]
        },
        {
          "output_type": "stream",
          "name": "stdout",
          "text": [
            "Accuracy: 35.58 - Loss: 0.014618467695994 \n",
            "\n"
          ]
        },
        {
          "output_type": "stream",
          "name": "stderr",
          "text": [
            "100%|██████████| 16/16 [00:08<00:00,  1.82it/s]\n",
            "100%|██████████| 31/31 [00:10<00:00,  2.86it/s]\n"
          ]
        },
        {
          "output_type": "stream",
          "name": "stdout",
          "text": [
            "Accuracy: 34.82 - Loss: 0.014606896597303243 \n",
            "\n"
          ]
        },
        {
          "output_type": "stream",
          "name": "stderr",
          "text": [
            "100%|██████████| 16/16 [00:07<00:00,  2.03it/s]\n",
            "100%|██████████| 31/31 [00:10<00:00,  2.89it/s]\n"
          ]
        },
        {
          "output_type": "stream",
          "name": "stdout",
          "text": [
            "Accuracy: 35.68 - Loss: 0.014520054647533545 \n",
            "\n"
          ]
        },
        {
          "output_type": "stream",
          "name": "stderr",
          "text": [
            "100%|██████████| 16/16 [00:08<00:00,  1.81it/s]\n",
            "100%|██████████| 31/31 [00:10<00:00,  2.86it/s]\n"
          ]
        },
        {
          "output_type": "stream",
          "name": "stdout",
          "text": [
            "Accuracy: 35.84 - Loss: 0.014432166847875629 \n",
            "\n"
          ]
        },
        {
          "output_type": "stream",
          "name": "stderr",
          "text": [
            "100%|██████████| 16/16 [00:07<00:00,  2.05it/s]\n",
            "100%|██████████| 31/31 [00:10<00:00,  2.91it/s]\n"
          ]
        },
        {
          "output_type": "stream",
          "name": "stdout",
          "text": [
            "Accuracy: 37.39 - Loss: 0.014384743699471621 \n",
            "\n"
          ]
        },
        {
          "output_type": "stream",
          "name": "stderr",
          "text": [
            "100%|██████████| 16/16 [00:08<00:00,  1.80it/s]\n",
            "100%|██████████| 31/31 [00:11<00:00,  2.75it/s]\n"
          ]
        },
        {
          "output_type": "stream",
          "name": "stdout",
          "text": [
            "Accuracy: 37.06 - Loss: 0.014357250135464959 \n",
            "\n"
          ]
        },
        {
          "output_type": "stream",
          "name": "stderr",
          "text": [
            "100%|██████████| 16/16 [00:08<00:00,  1.95it/s]\n",
            "100%|██████████| 31/31 [00:10<00:00,  3.00it/s]\n"
          ]
        },
        {
          "output_type": "stream",
          "name": "stdout",
          "text": [
            "Accuracy: 36.85 - Loss: 0.01431531674323661 \n",
            "\n"
          ]
        },
        {
          "output_type": "stream",
          "name": "stderr",
          "text": [
            "100%|██████████| 16/16 [00:08<00:00,  1.84it/s]\n",
            "100%|██████████| 31/31 [00:10<00:00,  2.87it/s]\n"
          ]
        },
        {
          "output_type": "stream",
          "name": "stdout",
          "text": [
            "Accuracy: 37.59 - Loss: 0.01426775857794828 \n",
            "\n"
          ]
        },
        {
          "output_type": "stream",
          "name": "stderr",
          "text": [
            "100%|██████████| 16/16 [00:07<00:00,  2.00it/s]\n",
            "100%|██████████| 31/31 [00:10<00:00,  2.97it/s]\n"
          ]
        },
        {
          "output_type": "stream",
          "name": "stdout",
          "text": [
            "Accuracy: 36.78 - Loss: 0.014387590340847094 \n",
            "\n"
          ]
        },
        {
          "output_type": "stream",
          "name": "stderr",
          "text": [
            "100%|██████████| 16/16 [00:08<00:00,  1.81it/s]\n",
            "100%|██████████| 31/31 [00:10<00:00,  2.87it/s]\n"
          ]
        },
        {
          "output_type": "stream",
          "name": "stdout",
          "text": [
            "Accuracy: 37.54 - Loss: 0.014212284660970445 \n",
            "\n"
          ]
        },
        {
          "output_type": "stream",
          "name": "stderr",
          "text": [
            "100%|██████████| 16/16 [00:07<00:00,  2.06it/s]\n",
            "100%|██████████| 31/31 [00:10<00:00,  2.93it/s]\n"
          ]
        },
        {
          "output_type": "stream",
          "name": "stdout",
          "text": [
            "Accuracy: 37.92 - Loss: 0.014255934375695946 \n",
            "\n"
          ]
        },
        {
          "output_type": "stream",
          "name": "stderr",
          "text": [
            "100%|██████████| 16/16 [00:08<00:00,  1.85it/s]\n",
            "100%|██████████| 31/31 [00:10<00:00,  2.86it/s]\n"
          ]
        },
        {
          "output_type": "stream",
          "name": "stdout",
          "text": [
            "Accuracy: 37.87 - Loss: 0.014185246998919697 \n",
            "\n"
          ]
        },
        {
          "output_type": "stream",
          "name": "stderr",
          "text": [
            "100%|██████████| 16/16 [00:07<00:00,  2.04it/s]\n",
            "100%|██████████| 31/31 [00:10<00:00,  2.95it/s]\n"
          ]
        },
        {
          "output_type": "stream",
          "name": "stdout",
          "text": [
            "Accuracy: 37.82 - Loss: 0.014274641040870936 \n",
            "\n"
          ]
        },
        {
          "output_type": "stream",
          "name": "stderr",
          "text": [
            "100%|██████████| 16/16 [00:08<00:00,  1.83it/s]\n",
            "100%|██████████| 31/31 [00:10<00:00,  2.89it/s]\n"
          ]
        },
        {
          "output_type": "stream",
          "name": "stdout",
          "text": [
            "Accuracy: 38.13 - Loss: 0.014236345883391534 \n",
            "\n"
          ]
        },
        {
          "output_type": "stream",
          "name": "stderr",
          "text": [
            "100%|██████████| 16/16 [00:07<00:00,  2.04it/s]\n",
            "100%|██████████| 31/31 [00:10<00:00,  2.91it/s]\n"
          ]
        },
        {
          "output_type": "stream",
          "name": "stdout",
          "text": [
            "Accuracy: 37.87 - Loss: 0.014125977499426155 \n",
            "\n"
          ]
        },
        {
          "output_type": "stream",
          "name": "stderr",
          "text": [
            "100%|██████████| 16/16 [00:08<00:00,  1.82it/s]\n",
            "100%|██████████| 31/31 [00:10<00:00,  2.87it/s]\n"
          ]
        },
        {
          "output_type": "stream",
          "name": "stdout",
          "text": [
            "Accuracy: 37.92 - Loss: 0.014298994021125652 \n",
            "\n"
          ]
        },
        {
          "output_type": "stream",
          "name": "stderr",
          "text": [
            "100%|██████████| 16/16 [00:08<00:00,  2.00it/s]\n",
            "100%|██████████| 31/31 [00:10<00:00,  2.99it/s]\n"
          ]
        },
        {
          "output_type": "stream",
          "name": "stdout",
          "text": [
            "Accuracy: 38.08 - Loss: 0.014196755413367082 \n",
            "\n"
          ]
        },
        {
          "output_type": "stream",
          "name": "stderr",
          "text": [
            "100%|██████████| 16/16 [00:08<00:00,  1.82it/s]\n",
            "100%|██████████| 31/31 [00:10<00:00,  2.88it/s]\n"
          ]
        },
        {
          "output_type": "stream",
          "name": "stdout",
          "text": [
            "Accuracy: 38.02 - Loss: 0.014185564364450037 \n",
            "\n"
          ]
        },
        {
          "output_type": "stream",
          "name": "stderr",
          "text": [
            "100%|██████████| 16/16 [00:07<00:00,  2.04it/s]\n",
            "100%|██████████| 31/31 [00:10<00:00,  2.96it/s]\n"
          ]
        },
        {
          "output_type": "stream",
          "name": "stdout",
          "text": [
            "Accuracy: 38.08 - Loss: 0.014188420714904832 \n",
            "\n"
          ]
        },
        {
          "output_type": "stream",
          "name": "stderr",
          "text": [
            "100%|██████████| 16/16 [00:08<00:00,  1.80it/s]\n",
            "100%|██████████| 31/31 [00:10<00:00,  2.85it/s]\n"
          ]
        },
        {
          "output_type": "stream",
          "name": "stdout",
          "text": [
            "Accuracy: 38.23 - Loss: 0.014108155331377402 \n",
            "\n"
          ]
        },
        {
          "output_type": "stream",
          "name": "stderr",
          "text": [
            "100%|██████████| 16/16 [00:08<00:00,  1.97it/s]\n",
            "100%|██████████| 31/31 [00:10<00:00,  3.01it/s]\n"
          ]
        },
        {
          "output_type": "stream",
          "name": "stdout",
          "text": [
            "Accuracy: 38.20 - Loss: 0.014115967802735618 \n",
            "\n"
          ]
        },
        {
          "output_type": "stream",
          "name": "stderr",
          "text": [
            "100%|██████████| 16/16 [00:08<00:00,  1.82it/s]\n",
            "100%|██████████| 31/31 [00:10<00:00,  2.88it/s]\n"
          ]
        },
        {
          "output_type": "stream",
          "name": "stdout",
          "text": [
            "Accuracy: 38.08 - Loss: 0.014157110390453188 \n",
            "\n"
          ]
        }
      ],
      "source": [
        "warnings.filterwarnings('ignore', category=UserWarning)\n",
        "\n",
        "# Parse arguments\n",
        "conf = { # Art Painting -> Sketch\n",
        "    'seed': 0,\n",
        "    'test_only': False,\n",
        "    'cpu': False,\n",
        "    'experiment': 'random',\n",
        "    'experiment_name': '1_1_2',\n",
        "    'experiment_args': {'module_placement': ['layer4.1.conv2'], 'mask_out_ratio': 0.1},\n",
        "    'dataset_args': {'text_root': 'data', 'images_root': 'data/kfold/PACS', 'source_domain': 'art_painting', 'target_domain': 'sketch' },\n",
        "    'batch_size': 128,\n",
        "    'epochs': 30,\n",
        "    'num_workers': 5,\n",
        "    'grad_accum_steps': 1\n",
        "}\n",
        "\n",
        "#args = parse_arguments()\n",
        "args = argparse.Namespace(**conf)\n",
        "print(args)\n",
        "CONFIG.update(vars(args))\n",
        "\n",
        "# Setup output directory\n",
        "CONFIG.save_dir = os.path.join('record', CONFIG.experiment_name)\n",
        "os.makedirs(CONFIG.save_dir, exist_ok=True)\n",
        "\n",
        "# Setup logging\n",
        "logging.basicConfig(\n",
        "    filename=os.path.join(CONFIG.save_dir, 'log.txt'),\n",
        "    format='%(message)s',\n",
        "    level=logging.INFO,\n",
        "    filemode='a'\n",
        ")\n",
        "\n",
        "# Set experiment's device & deterministic behavior\n",
        "if CONFIG.cpu:\n",
        "    CONFIG.device = 'cpu'\n",
        "else:\n",
        "    CONFIG.device = 'cuda' if torch.cuda.is_available() else 'cpu'\n",
        "\n",
        "torch.manual_seed(CONFIG.seed)\n",
        "random.seed(CONFIG.seed)\n",
        "np.random.seed(CONFIG.seed)\n",
        "torch.backends.cudnn.benchmark = True\n",
        "torch.use_deterministic_algorithms(mode=True, warn_only=True)\n",
        "\n",
        "main()"
      ]
    },
    {
      "cell_type": "markdown",
      "metadata": {
        "id": "Y8emd-_OsEWq"
      },
      "source": [
        "#### 1.1.3 - Art Painting &rightarrow; Photo"
      ]
    },
    {
      "cell_type": "code",
      "execution_count": 19,
      "metadata": {
        "colab": {
          "base_uri": "https://localhost:8080/"
        },
        "id": "7mpcTXy7sEWr",
        "outputId": "f2939717-46ba-4320-9f83-b835b7900efe"
      },
      "outputs": [
        {
          "output_type": "stream",
          "name": "stdout",
          "text": [
            "Namespace(seed=0, test_only=False, cpu=False, experiment='random', experiment_name='1_1_3', experiment_args={'module_placement': ['layer4.1.conv2'], 'mask_out_ratio': 0.1}, dataset_args={'text_root': 'data', 'images_root': 'data/kfold/PACS', 'source_domain': 'art_painting', 'target_domain': 'photo'}, batch_size=128, epochs=30, num_workers=5, grad_accum_steps=1)\n",
            "mask_out_ratio:  0.1\n",
            "layer_name layer4.1.conv2 random_mask sum():  tensor(22611., device='cuda:0')\n",
            "Insert activation shaping layer after  layer4.1.conv2 Conv2d(512, 512, kernel_size=(3, 3), stride=(1, 1), padding=(1, 1), bias=False)\n"
          ]
        },
        {
          "output_type": "stream",
          "name": "stderr",
          "text": [
            "100%|██████████| 16/16 [00:09<00:00,  1.76it/s]\n",
            "100%|██████████| 14/14 [00:04<00:00,  2.89it/s]\n"
          ]
        },
        {
          "output_type": "stream",
          "name": "stdout",
          "text": [
            "Accuracy: 33.35 - Loss: 0.014961894043905292 \n",
            "\n"
          ]
        },
        {
          "output_type": "stream",
          "name": "stderr",
          "text": [
            "100%|██████████| 16/16 [00:08<00:00,  1.82it/s]\n",
            "100%|██████████| 14/14 [00:04<00:00,  3.30it/s]\n"
          ]
        },
        {
          "output_type": "stream",
          "name": "stdout",
          "text": [
            "Accuracy: 47.66 - Loss: 0.012348066903873831 \n",
            "\n"
          ]
        },
        {
          "output_type": "stream",
          "name": "stderr",
          "text": [
            "100%|██████████| 16/16 [00:08<00:00,  1.82it/s]\n",
            "100%|██████████| 14/14 [00:04<00:00,  3.29it/s]\n"
          ]
        },
        {
          "output_type": "stream",
          "name": "stdout",
          "text": [
            "Accuracy: 66.71 - Loss: 0.010217138750110558 \n",
            "\n"
          ]
        },
        {
          "output_type": "stream",
          "name": "stderr",
          "text": [
            "100%|██████████| 16/16 [00:08<00:00,  1.82it/s]\n",
            "100%|██████████| 14/14 [00:04<00:00,  3.37it/s]\n"
          ]
        },
        {
          "output_type": "stream",
          "name": "stdout",
          "text": [
            "Accuracy: 73.59 - Loss: 0.008735272877230615 \n",
            "\n"
          ]
        },
        {
          "output_type": "stream",
          "name": "stderr",
          "text": [
            "100%|██████████| 16/16 [00:09<00:00,  1.67it/s]\n",
            "100%|██████████| 14/14 [00:04<00:00,  3.13it/s]\n"
          ]
        },
        {
          "output_type": "stream",
          "name": "stdout",
          "text": [
            "Accuracy: 78.74 - Loss: 0.007847277953953086 \n",
            "\n"
          ]
        },
        {
          "output_type": "stream",
          "name": "stderr",
          "text": [
            "100%|██████████| 16/16 [00:08<00:00,  1.82it/s]\n",
            "100%|██████████| 14/14 [00:04<00:00,  3.36it/s]\n"
          ]
        },
        {
          "output_type": "stream",
          "name": "stdout",
          "text": [
            "Accuracy: 82.34 - Loss: 0.007062771184715682 \n",
            "\n"
          ]
        },
        {
          "output_type": "stream",
          "name": "stderr",
          "text": [
            "100%|██████████| 16/16 [00:08<00:00,  1.84it/s]\n",
            "100%|██████████| 14/14 [00:04<00:00,  3.34it/s]\n"
          ]
        },
        {
          "output_type": "stream",
          "name": "stdout",
          "text": [
            "Accuracy: 84.37 - Loss: 0.006347404804058418 \n",
            "\n"
          ]
        },
        {
          "output_type": "stream",
          "name": "stderr",
          "text": [
            "100%|██████████| 16/16 [00:08<00:00,  1.79it/s]\n",
            "100%|██████████| 14/14 [00:04<00:00,  3.35it/s]\n"
          ]
        },
        {
          "output_type": "stream",
          "name": "stdout",
          "text": [
            "Accuracy: 85.15 - Loss: 0.00596396055764067 \n",
            "\n"
          ]
        },
        {
          "output_type": "stream",
          "name": "stderr",
          "text": [
            "100%|██████████| 16/16 [00:08<00:00,  1.84it/s]\n",
            "100%|██████████| 14/14 [00:04<00:00,  3.39it/s]\n"
          ]
        },
        {
          "output_type": "stream",
          "name": "stdout",
          "text": [
            "Accuracy: 86.17 - Loss: 0.005519594332415187 \n",
            "\n"
          ]
        },
        {
          "output_type": "stream",
          "name": "stderr",
          "text": [
            "100%|██████████| 16/16 [00:08<00:00,  1.80it/s]\n",
            "100%|██████████| 14/14 [00:04<00:00,  3.33it/s]\n"
          ]
        },
        {
          "output_type": "stream",
          "name": "stdout",
          "text": [
            "Accuracy: 86.89 - Loss: 0.005247864644684477 \n",
            "\n"
          ]
        },
        {
          "output_type": "stream",
          "name": "stderr",
          "text": [
            "100%|██████████| 16/16 [00:08<00:00,  1.81it/s]\n",
            "100%|██████████| 14/14 [00:04<00:00,  3.23it/s]\n"
          ]
        },
        {
          "output_type": "stream",
          "name": "stdout",
          "text": [
            "Accuracy: 86.89 - Loss: 0.0048917527862651616 \n",
            "\n"
          ]
        },
        {
          "output_type": "stream",
          "name": "stderr",
          "text": [
            "100%|██████████| 16/16 [00:08<00:00,  1.89it/s]\n",
            "100%|██████████| 14/14 [00:04<00:00,  3.02it/s]\n"
          ]
        },
        {
          "output_type": "stream",
          "name": "stdout",
          "text": [
            "Accuracy: 87.54 - Loss: 0.004747631735430506 \n",
            "\n"
          ]
        },
        {
          "output_type": "stream",
          "name": "stderr",
          "text": [
            "100%|██████████| 16/16 [00:08<00:00,  1.95it/s]\n",
            "100%|██████████| 14/14 [00:04<00:00,  2.91it/s]\n"
          ]
        },
        {
          "output_type": "stream",
          "name": "stdout",
          "text": [
            "Accuracy: 88.20 - Loss: 0.0044615496596890295 \n",
            "\n"
          ]
        },
        {
          "output_type": "stream",
          "name": "stderr",
          "text": [
            "100%|██████████| 16/16 [00:07<00:00,  2.00it/s]\n",
            "100%|██████████| 14/14 [00:05<00:00,  2.74it/s]\n"
          ]
        },
        {
          "output_type": "stream",
          "name": "stdout",
          "text": [
            "Accuracy: 88.38 - Loss: 0.004337481511924081 \n",
            "\n"
          ]
        },
        {
          "output_type": "stream",
          "name": "stderr",
          "text": [
            "100%|██████████| 16/16 [00:07<00:00,  2.03it/s]\n",
            "100%|██████████| 14/14 [00:05<00:00,  2.72it/s]\n"
          ]
        },
        {
          "output_type": "stream",
          "name": "stdout",
          "text": [
            "Accuracy: 89.04 - Loss: 0.00415410367314687 \n",
            "\n"
          ]
        },
        {
          "output_type": "stream",
          "name": "stderr",
          "text": [
            "100%|██████████| 16/16 [00:07<00:00,  2.04it/s]\n",
            "100%|██████████| 14/14 [00:05<00:00,  2.69it/s]\n"
          ]
        },
        {
          "output_type": "stream",
          "name": "stdout",
          "text": [
            "Accuracy: 90.06 - Loss: 0.00397744867616071 \n",
            "\n"
          ]
        },
        {
          "output_type": "stream",
          "name": "stderr",
          "text": [
            "100%|██████████| 16/16 [00:07<00:00,  2.05it/s]\n",
            "100%|██████████| 14/14 [00:05<00:00,  2.73it/s]\n"
          ]
        },
        {
          "output_type": "stream",
          "name": "stdout",
          "text": [
            "Accuracy: 89.94 - Loss: 0.0038191401762162854 \n",
            "\n"
          ]
        },
        {
          "output_type": "stream",
          "name": "stderr",
          "text": [
            "100%|██████████| 16/16 [00:07<00:00,  2.07it/s]\n",
            "100%|██████████| 14/14 [00:05<00:00,  2.66it/s]\n"
          ]
        },
        {
          "output_type": "stream",
          "name": "stdout",
          "text": [
            "Accuracy: 90.42 - Loss: 0.003706014540024146 \n",
            "\n"
          ]
        },
        {
          "output_type": "stream",
          "name": "stderr",
          "text": [
            "100%|██████████| 16/16 [00:07<00:00,  2.06it/s]\n",
            "100%|██████████| 14/14 [00:05<00:00,  2.64it/s]\n"
          ]
        },
        {
          "output_type": "stream",
          "name": "stdout",
          "text": [
            "Accuracy: 90.60 - Loss: 0.003577124849407973 \n",
            "\n"
          ]
        },
        {
          "output_type": "stream",
          "name": "stderr",
          "text": [
            "100%|██████████| 16/16 [00:07<00:00,  2.06it/s]\n",
            "100%|██████████| 14/14 [00:05<00:00,  2.65it/s]\n"
          ]
        },
        {
          "output_type": "stream",
          "name": "stdout",
          "text": [
            "Accuracy: 90.84 - Loss: 0.003528785598492194 \n",
            "\n"
          ]
        },
        {
          "output_type": "stream",
          "name": "stderr",
          "text": [
            "100%|██████████| 16/16 [00:07<00:00,  2.05it/s]\n",
            "100%|██████████| 14/14 [00:05<00:00,  2.73it/s]\n"
          ]
        },
        {
          "output_type": "stream",
          "name": "stdout",
          "text": [
            "Accuracy: 90.90 - Loss: 0.0033490410821880407 \n",
            "\n"
          ]
        },
        {
          "output_type": "stream",
          "name": "stderr",
          "text": [
            "100%|██████████| 16/16 [00:07<00:00,  2.02it/s]\n",
            "100%|██████████| 14/14 [00:04<00:00,  2.86it/s]\n"
          ]
        },
        {
          "output_type": "stream",
          "name": "stdout",
          "text": [
            "Accuracy: 91.26 - Loss: 0.0032436946730413836 \n",
            "\n"
          ]
        },
        {
          "output_type": "stream",
          "name": "stderr",
          "text": [
            "100%|██████████| 16/16 [00:08<00:00,  1.99it/s]\n",
            "100%|██████████| 14/14 [00:04<00:00,  2.90it/s]\n"
          ]
        },
        {
          "output_type": "stream",
          "name": "stdout",
          "text": [
            "Accuracy: 91.08 - Loss: 0.003240084054762732 \n",
            "\n"
          ]
        },
        {
          "output_type": "stream",
          "name": "stderr",
          "text": [
            "100%|██████████| 16/16 [00:08<00:00,  1.94it/s]\n",
            "100%|██████████| 14/14 [00:04<00:00,  3.15it/s]\n"
          ]
        },
        {
          "output_type": "stream",
          "name": "stdout",
          "text": [
            "Accuracy: 91.50 - Loss: 0.003083570016001513 \n",
            "\n"
          ]
        },
        {
          "output_type": "stream",
          "name": "stderr",
          "text": [
            "100%|██████████| 16/16 [00:08<00:00,  1.90it/s]\n",
            "100%|██████████| 14/14 [00:04<00:00,  3.22it/s]\n"
          ]
        },
        {
          "output_type": "stream",
          "name": "stdout",
          "text": [
            "Accuracy: 91.20 - Loss: 0.0030905965693339616 \n",
            "\n"
          ]
        },
        {
          "output_type": "stream",
          "name": "stderr",
          "text": [
            "100%|██████████| 16/16 [00:08<00:00,  1.87it/s]\n",
            "100%|██████████| 14/14 [00:04<00:00,  3.27it/s]\n"
          ]
        },
        {
          "output_type": "stream",
          "name": "stdout",
          "text": [
            "Accuracy: 91.44 - Loss: 0.003089995423476853 \n",
            "\n"
          ]
        },
        {
          "output_type": "stream",
          "name": "stderr",
          "text": [
            "100%|██████████| 16/16 [00:08<00:00,  1.85it/s]\n",
            "100%|██████████| 14/14 [00:04<00:00,  3.31it/s]\n"
          ]
        },
        {
          "output_type": "stream",
          "name": "stdout",
          "text": [
            "Accuracy: 91.44 - Loss: 0.003068837188853475 \n",
            "\n"
          ]
        },
        {
          "output_type": "stream",
          "name": "stderr",
          "text": [
            "100%|██████████| 16/16 [00:08<00:00,  1.83it/s]\n",
            "100%|██████████| 14/14 [00:04<00:00,  3.35it/s]\n"
          ]
        },
        {
          "output_type": "stream",
          "name": "stdout",
          "text": [
            "Accuracy: 91.38 - Loss: 0.0030863082783664773 \n",
            "\n"
          ]
        },
        {
          "output_type": "stream",
          "name": "stderr",
          "text": [
            "100%|██████████| 16/16 [00:08<00:00,  1.84it/s]\n",
            "100%|██████████| 14/14 [00:04<00:00,  3.35it/s]\n"
          ]
        },
        {
          "output_type": "stream",
          "name": "stdout",
          "text": [
            "Accuracy: 91.32 - Loss: 0.003098668809422476 \n",
            "\n"
          ]
        },
        {
          "output_type": "stream",
          "name": "stderr",
          "text": [
            "100%|██████████| 16/16 [00:08<00:00,  1.81it/s]\n",
            "100%|██████████| 14/14 [00:04<00:00,  3.36it/s]\n"
          ]
        },
        {
          "output_type": "stream",
          "name": "stdout",
          "text": [
            "Accuracy: 91.56 - Loss: 0.0030862670681790676 \n",
            "\n"
          ]
        }
      ],
      "source": [
        "warnings.filterwarnings('ignore', category=UserWarning)\n",
        "\n",
        "# Parse arguments\n",
        "conf = { # Art Painting -> Photo\n",
        "    'seed': 0,\n",
        "    'test_only': False,\n",
        "    'cpu': False,\n",
        "    'experiment': 'random',\n",
        "    'experiment_name': '1_1_3',\n",
        "    'experiment_args': {'module_placement': ['layer4.1.conv2'], 'mask_out_ratio': 0.1},\n",
        "    'dataset_args': {'text_root': 'data', 'images_root': 'data/kfold/PACS', 'source_domain': 'art_painting', 'target_domain': 'photo' },\n",
        "    'batch_size': 128,\n",
        "    'epochs': 30,\n",
        "    'num_workers': 5,\n",
        "    'grad_accum_steps': 1\n",
        "}\n",
        "\n",
        "#args = parse_arguments()\n",
        "args = argparse.Namespace(**conf)\n",
        "print(args)\n",
        "CONFIG.update(vars(args))\n",
        "\n",
        "# Setup output directory\n",
        "CONFIG.save_dir = os.path.join('record', CONFIG.experiment_name)\n",
        "os.makedirs(CONFIG.save_dir, exist_ok=True)\n",
        "\n",
        "# Setup logging\n",
        "logging.basicConfig(\n",
        "    filename=os.path.join(CONFIG.save_dir, 'log.txt'),\n",
        "    format='%(message)s',\n",
        "    level=logging.INFO,\n",
        "    filemode='a'\n",
        ")\n",
        "\n",
        "# Set experiment's device & deterministic behavior\n",
        "if CONFIG.cpu:\n",
        "    CONFIG.device = 'cpu'\n",
        "else:\n",
        "    CONFIG.device = 'cuda' if torch.cuda.is_available() else 'cpu'\n",
        "\n",
        "torch.manual_seed(CONFIG.seed)\n",
        "random.seed(CONFIG.seed)\n",
        "np.random.seed(CONFIG.seed)\n",
        "torch.backends.cudnn.benchmark = True\n",
        "torch.use_deterministic_algorithms(mode=True, warn_only=True)\n",
        "\n",
        "main()"
      ]
    },
    {
      "cell_type": "markdown",
      "metadata": {
        "id": "om8G37-OsEWr"
      },
      "source": [
        "### 1.2 - ASH module after all convolutional layers"
      ]
    },
    {
      "cell_type": "markdown",
      "metadata": {
        "id": "VKB_OUvWsEWr"
      },
      "source": [
        "#### 1.2.1 - Art Painting &rightarrow; Cartoon"
      ]
    },
    {
      "cell_type": "code",
      "execution_count": 20,
      "metadata": {
        "colab": {
          "base_uri": "https://localhost:8080/"
        },
        "id": "kPB20eCNsEWr",
        "outputId": "2aef9ce1-975b-4302-d4cd-c8bc95efe293"
      },
      "outputs": [
        {
          "output_type": "stream",
          "name": "stdout",
          "text": [
            "Namespace(seed=0, test_only=False, cpu=False, experiment='random', experiment_name='1_2_1', experiment_args={'module_placement': ['layer1.0.conv1', 'layer1.0.conv2', 'layer1.1.conv1', 'layer1.1.conv2', 'layer2.0.conv1', 'layer2.0.conv2', 'layer2.1.conv1', 'layer2.1.conv2', 'layer3.0.conv1', 'layer3.0.conv2', 'layer3.1.conv1', 'layer3.1.conv2', 'layer4.0.conv1', 'layer4.0.conv2', 'layer4.1.conv1', 'layer4.1.conv2'], 'mask_out_ratio': 0.1}, dataset_args={'text_root': 'data', 'images_root': 'data/kfold/PACS', 'source_domain': 'art_painting', 'target_domain': 'cartoon'}, batch_size=128, epochs=30, num_workers=5, grad_accum_steps=1)\n",
            "mask_out_ratio:  0.1\n",
            "layer_name layer1.0.conv1 random_mask sum():  tensor(180587., device='cuda:0')\n",
            "Insert activation shaping layer after  layer1.0.conv1 Conv2d(64, 64, kernel_size=(3, 3), stride=(1, 1), padding=(1, 1), bias=False)\n",
            "mask_out_ratio:  0.1\n",
            "layer_name layer1.0.conv2 random_mask sum():  tensor(180685., device='cuda:0')\n",
            "Insert activation shaping layer after  layer1.0.conv2 Conv2d(64, 64, kernel_size=(3, 3), stride=(1, 1), padding=(1, 1), bias=False)\n",
            "mask_out_ratio:  0.1\n",
            "layer_name layer1.1.conv1 random_mask sum():  tensor(180446., device='cuda:0')\n",
            "Insert activation shaping layer after  layer1.1.conv1 Conv2d(64, 64, kernel_size=(3, 3), stride=(1, 1), padding=(1, 1), bias=False)\n",
            "mask_out_ratio:  0.1\n",
            "layer_name layer1.1.conv2 random_mask sum():  tensor(180816., device='cuda:0')\n",
            "Insert activation shaping layer after  layer1.1.conv2 Conv2d(64, 64, kernel_size=(3, 3), stride=(1, 1), padding=(1, 1), bias=False)\n",
            "mask_out_ratio:  0.1\n",
            "layer_name layer2.0.conv1 random_mask sum():  tensor(90393., device='cuda:0')\n",
            "Insert activation shaping layer after  layer2.0.conv1 Conv2d(64, 128, kernel_size=(3, 3), stride=(2, 2), padding=(1, 1), bias=False)\n",
            "mask_out_ratio:  0.1\n",
            "layer_name layer2.0.conv2 random_mask sum():  tensor(90221., device='cuda:0')\n",
            "Insert activation shaping layer after  layer2.0.conv2 Conv2d(128, 128, kernel_size=(3, 3), stride=(1, 1), padding=(1, 1), bias=False)\n",
            "mask_out_ratio:  0.1\n",
            "layer_name layer2.1.conv1 random_mask sum():  tensor(90262., device='cuda:0')\n",
            "Insert activation shaping layer after  layer2.1.conv1 Conv2d(128, 128, kernel_size=(3, 3), stride=(1, 1), padding=(1, 1), bias=False)\n",
            "mask_out_ratio:  0.1\n",
            "layer_name layer2.1.conv2 random_mask sum():  tensor(90445., device='cuda:0')\n",
            "Insert activation shaping layer after  layer2.1.conv2 Conv2d(128, 128, kernel_size=(3, 3), stride=(1, 1), padding=(1, 1), bias=False)\n",
            "mask_out_ratio:  0.1\n",
            "layer_name layer3.0.conv1 random_mask sum():  tensor(45245., device='cuda:0')\n",
            "Insert activation shaping layer after  layer3.0.conv1 Conv2d(128, 256, kernel_size=(3, 3), stride=(2, 2), padding=(1, 1), bias=False)\n",
            "mask_out_ratio:  0.1\n",
            "layer_name layer3.0.conv2 random_mask sum():  tensor(45219., device='cuda:0')\n",
            "Insert activation shaping layer after  layer3.0.conv2 Conv2d(256, 256, kernel_size=(3, 3), stride=(1, 1), padding=(1, 1), bias=False)\n",
            "mask_out_ratio:  0.1\n",
            "layer_name layer3.1.conv1 random_mask sum():  tensor(45129., device='cuda:0')\n",
            "Insert activation shaping layer after  layer3.1.conv1 Conv2d(256, 256, kernel_size=(3, 3), stride=(1, 1), padding=(1, 1), bias=False)\n",
            "mask_out_ratio:  0.1\n",
            "layer_name layer3.1.conv2 random_mask sum():  tensor(45198., device='cuda:0')\n",
            "Insert activation shaping layer after  layer3.1.conv2 Conv2d(256, 256, kernel_size=(3, 3), stride=(1, 1), padding=(1, 1), bias=False)\n",
            "mask_out_ratio:  0.1\n",
            "layer_name layer4.0.conv1 random_mask sum():  tensor(22658., device='cuda:0')\n",
            "Insert activation shaping layer after  layer4.0.conv1 Conv2d(256, 512, kernel_size=(3, 3), stride=(2, 2), padding=(1, 1), bias=False)\n",
            "mask_out_ratio:  0.1\n",
            "layer_name layer4.0.conv2 random_mask sum():  tensor(22523., device='cuda:0')\n",
            "Insert activation shaping layer after  layer4.0.conv2 Conv2d(512, 512, kernel_size=(3, 3), stride=(1, 1), padding=(1, 1), bias=False)\n",
            "mask_out_ratio:  0.1\n",
            "layer_name layer4.1.conv1 random_mask sum():  tensor(22586., device='cuda:0')\n",
            "Insert activation shaping layer after  layer4.1.conv1 Conv2d(512, 512, kernel_size=(3, 3), stride=(1, 1), padding=(1, 1), bias=False)\n",
            "mask_out_ratio:  0.1\n",
            "layer_name layer4.1.conv2 random_mask sum():  tensor(22609., device='cuda:0')\n",
            "Insert activation shaping layer after  layer4.1.conv2 Conv2d(512, 512, kernel_size=(3, 3), stride=(1, 1), padding=(1, 1), bias=False)\n"
          ]
        },
        {
          "output_type": "stream",
          "name": "stderr",
          "text": [
            "100%|██████████| 16/16 [00:09<00:00,  1.65it/s]\n",
            "100%|██████████| 19/19 [00:06<00:00,  2.86it/s]\n"
          ]
        },
        {
          "output_type": "stream",
          "name": "stdout",
          "text": [
            "Accuracy: 15.10 - Loss: 0.015846378719847357 \n",
            "\n"
          ]
        },
        {
          "output_type": "stream",
          "name": "stderr",
          "text": [
            "100%|██████████| 16/16 [00:08<00:00,  1.81it/s]\n",
            "100%|██████████| 19/19 [00:06<00:00,  2.72it/s]\n"
          ]
        },
        {
          "output_type": "stream",
          "name": "stdout",
          "text": [
            "Accuracy: 16.25 - Loss: 0.01595945066356008 \n",
            "\n"
          ]
        },
        {
          "output_type": "stream",
          "name": "stderr",
          "text": [
            "100%|██████████| 16/16 [00:07<00:00,  2.03it/s]\n",
            "100%|██████████| 19/19 [00:07<00:00,  2.68it/s]\n"
          ]
        },
        {
          "output_type": "stream",
          "name": "stdout",
          "text": [
            "Accuracy: 17.11 - Loss: 0.015594582000283252 \n",
            "\n"
          ]
        },
        {
          "output_type": "stream",
          "name": "stderr",
          "text": [
            "100%|██████████| 16/16 [00:07<00:00,  2.05it/s]\n",
            "100%|██████████| 19/19 [00:06<00:00,  2.76it/s]\n"
          ]
        },
        {
          "output_type": "stream",
          "name": "stdout",
          "text": [
            "Accuracy: 18.09 - Loss: 0.01568885289971739 \n",
            "\n"
          ]
        },
        {
          "output_type": "stream",
          "name": "stderr",
          "text": [
            "100%|██████████| 16/16 [00:08<00:00,  1.81it/s]\n",
            "100%|██████████| 19/19 [00:05<00:00,  3.18it/s]\n"
          ]
        },
        {
          "output_type": "stream",
          "name": "stdout",
          "text": [
            "Accuracy: 17.83 - Loss: 0.01570077871096419 \n",
            "\n"
          ]
        },
        {
          "output_type": "stream",
          "name": "stderr",
          "text": [
            "100%|██████████| 16/16 [00:08<00:00,  1.79it/s]\n",
            "100%|██████████| 19/19 [00:06<00:00,  3.15it/s]\n"
          ]
        },
        {
          "output_type": "stream",
          "name": "stdout",
          "text": [
            "Accuracy: 19.28 - Loss: 0.015489644666580617 \n",
            "\n"
          ]
        },
        {
          "output_type": "stream",
          "name": "stderr",
          "text": [
            "100%|██████████| 16/16 [00:08<00:00,  1.79it/s]\n",
            "100%|██████████| 19/19 [00:06<00:00,  2.88it/s]\n"
          ]
        },
        {
          "output_type": "stream",
          "name": "stdout",
          "text": [
            "Accuracy: 17.75 - Loss: 0.01560203954831732 \n",
            "\n"
          ]
        },
        {
          "output_type": "stream",
          "name": "stderr",
          "text": [
            "100%|██████████| 16/16 [00:07<00:00,  2.02it/s]\n",
            "100%|██████████| 19/19 [00:07<00:00,  2.67it/s]\n"
          ]
        },
        {
          "output_type": "stream",
          "name": "stdout",
          "text": [
            "Accuracy: 18.60 - Loss: 0.015484914692188692 \n",
            "\n"
          ]
        },
        {
          "output_type": "stream",
          "name": "stderr",
          "text": [
            "100%|██████████| 16/16 [00:07<00:00,  2.05it/s]\n",
            "100%|██████████| 19/19 [00:07<00:00,  2.70it/s]\n"
          ]
        },
        {
          "output_type": "stream",
          "name": "stdout",
          "text": [
            "Accuracy: 18.34 - Loss: 0.015415306892818151 \n",
            "\n"
          ]
        },
        {
          "output_type": "stream",
          "name": "stderr",
          "text": [
            "100%|██████████| 16/16 [00:08<00:00,  1.85it/s]\n",
            "100%|██████████| 19/19 [00:06<00:00,  3.08it/s]\n"
          ]
        },
        {
          "output_type": "stream",
          "name": "stdout",
          "text": [
            "Accuracy: 18.43 - Loss: 0.015509774660494547 \n",
            "\n"
          ]
        },
        {
          "output_type": "stream",
          "name": "stderr",
          "text": [
            "100%|██████████| 16/16 [00:08<00:00,  1.80it/s]\n",
            "100%|██████████| 19/19 [00:06<00:00,  3.12it/s]\n"
          ]
        },
        {
          "output_type": "stream",
          "name": "stdout",
          "text": [
            "Accuracy: 18.13 - Loss: 0.015583811664744042 \n",
            "\n"
          ]
        },
        {
          "output_type": "stream",
          "name": "stderr",
          "text": [
            "100%|██████████| 16/16 [00:08<00:00,  1.82it/s]\n",
            "100%|██████████| 19/19 [00:06<00:00,  3.02it/s]\n"
          ]
        },
        {
          "output_type": "stream",
          "name": "stdout",
          "text": [
            "Accuracy: 19.28 - Loss: 0.015508123123605097 \n",
            "\n"
          ]
        },
        {
          "output_type": "stream",
          "name": "stderr",
          "text": [
            "100%|██████████| 16/16 [00:08<00:00,  1.90it/s]\n",
            "100%|██████████| 19/19 [00:07<00:00,  2.70it/s]\n"
          ]
        },
        {
          "output_type": "stream",
          "name": "stdout",
          "text": [
            "Accuracy: 18.47 - Loss: 0.01548726663451146 \n",
            "\n"
          ]
        },
        {
          "output_type": "stream",
          "name": "stderr",
          "text": [
            "100%|██████████| 16/16 [00:07<00:00,  2.05it/s]\n",
            "100%|██████████| 19/19 [00:07<00:00,  2.67it/s]\n"
          ]
        },
        {
          "output_type": "stream",
          "name": "stdout",
          "text": [
            "Accuracy: 18.60 - Loss: 0.015628112969544968 \n",
            "\n"
          ]
        },
        {
          "output_type": "stream",
          "name": "stderr",
          "text": [
            "100%|██████████| 16/16 [00:08<00:00,  1.86it/s]\n",
            "100%|██████████| 19/19 [00:06<00:00,  3.09it/s]\n"
          ]
        },
        {
          "output_type": "stream",
          "name": "stdout",
          "text": [
            "Accuracy: 20.05 - Loss: 0.015341040064857274 \n",
            "\n"
          ]
        },
        {
          "output_type": "stream",
          "name": "stderr",
          "text": [
            "100%|██████████| 16/16 [00:08<00:00,  1.82it/s]\n",
            "100%|██████████| 19/19 [00:06<00:00,  2.99it/s]\n"
          ]
        },
        {
          "output_type": "stream",
          "name": "stdout",
          "text": [
            "Accuracy: 20.56 - Loss: 0.01542537351720569 \n",
            "\n"
          ]
        },
        {
          "output_type": "stream",
          "name": "stderr",
          "text": [
            "100%|██████████| 16/16 [00:09<00:00,  1.64it/s]\n",
            "100%|██████████| 19/19 [00:06<00:00,  2.89it/s]\n"
          ]
        },
        {
          "output_type": "stream",
          "name": "stdout",
          "text": [
            "Accuracy: 20.61 - Loss: 0.015508203223703665 \n",
            "\n"
          ]
        },
        {
          "output_type": "stream",
          "name": "stderr",
          "text": [
            "100%|██████████| 16/16 [00:08<00:00,  1.99it/s]\n",
            "100%|██████████| 19/19 [00:07<00:00,  2.70it/s]\n"
          ]
        },
        {
          "output_type": "stream",
          "name": "stdout",
          "text": [
            "Accuracy: 19.97 - Loss: 0.015374363333291974 \n",
            "\n"
          ]
        },
        {
          "output_type": "stream",
          "name": "stderr",
          "text": [
            "100%|██████████| 16/16 [00:07<00:00,  2.03it/s]\n",
            "100%|██████████| 19/19 [00:07<00:00,  2.66it/s]\n"
          ]
        },
        {
          "output_type": "stream",
          "name": "stdout",
          "text": [
            "Accuracy: 21.37 - Loss: 0.015336139515398306 \n",
            "\n"
          ]
        },
        {
          "output_type": "stream",
          "name": "stderr",
          "text": [
            "100%|██████████| 16/16 [00:08<00:00,  1.82it/s]\n",
            "100%|██████████| 19/19 [00:05<00:00,  3.17it/s]\n"
          ]
        },
        {
          "output_type": "stream",
          "name": "stdout",
          "text": [
            "Accuracy: 20.26 - Loss: 0.01538529442845758 \n",
            "\n"
          ]
        },
        {
          "output_type": "stream",
          "name": "stderr",
          "text": [
            "100%|██████████| 16/16 [00:08<00:00,  1.81it/s]\n",
            "100%|██████████| 19/19 [00:06<00:00,  3.15it/s]\n"
          ]
        },
        {
          "output_type": "stream",
          "name": "stdout",
          "text": [
            "Accuracy: 20.18 - Loss: 0.01528664090934467 \n",
            "\n"
          ]
        },
        {
          "output_type": "stream",
          "name": "stderr",
          "text": [
            "100%|██████████| 16/16 [00:08<00:00,  1.81it/s]\n",
            "100%|██████████| 19/19 [00:06<00:00,  2.96it/s]\n"
          ]
        },
        {
          "output_type": "stream",
          "name": "stdout",
          "text": [
            "Accuracy: 21.12 - Loss: 0.015382413876341471 \n",
            "\n"
          ]
        },
        {
          "output_type": "stream",
          "name": "stderr",
          "text": [
            "100%|██████████| 16/16 [00:08<00:00,  1.95it/s]\n",
            "100%|██████████| 19/19 [00:07<00:00,  2.71it/s]\n"
          ]
        },
        {
          "output_type": "stream",
          "name": "stdout",
          "text": [
            "Accuracy: 22.65 - Loss: 0.015398931025238167 \n",
            "\n"
          ]
        },
        {
          "output_type": "stream",
          "name": "stderr",
          "text": [
            "100%|██████████| 16/16 [00:07<00:00,  2.06it/s]\n",
            "100%|██████████| 19/19 [00:07<00:00,  2.69it/s]\n"
          ]
        },
        {
          "output_type": "stream",
          "name": "stdout",
          "text": [
            "Accuracy: 20.26 - Loss: 0.015329425397993354 \n",
            "\n"
          ]
        },
        {
          "output_type": "stream",
          "name": "stderr",
          "text": [
            "100%|██████████| 16/16 [00:08<00:00,  1.88it/s]\n",
            "100%|██████████| 19/19 [00:06<00:00,  3.02it/s]\n"
          ]
        },
        {
          "output_type": "stream",
          "name": "stdout",
          "text": [
            "Accuracy: 19.97 - Loss: 0.015327766079951472 \n",
            "\n"
          ]
        },
        {
          "output_type": "stream",
          "name": "stderr",
          "text": [
            "100%|██████████| 16/16 [00:08<00:00,  1.82it/s]\n",
            "100%|██████████| 19/19 [00:06<00:00,  3.15it/s]\n"
          ]
        },
        {
          "output_type": "stream",
          "name": "stdout",
          "text": [
            "Accuracy: 20.90 - Loss: 0.015283142594754086 \n",
            "\n"
          ]
        },
        {
          "output_type": "stream",
          "name": "stderr",
          "text": [
            "100%|██████████| 16/16 [00:08<00:00,  1.81it/s]\n",
            "100%|██████████| 19/19 [00:06<00:00,  3.10it/s]\n"
          ]
        },
        {
          "output_type": "stream",
          "name": "stdout",
          "text": [
            "Accuracy: 21.33 - Loss: 0.015299973481751139 \n",
            "\n"
          ]
        },
        {
          "output_type": "stream",
          "name": "stderr",
          "text": [
            "100%|██████████| 16/16 [00:08<00:00,  1.89it/s]\n",
            "100%|██████████| 19/19 [00:07<00:00,  2.70it/s]\n"
          ]
        },
        {
          "output_type": "stream",
          "name": "stdout",
          "text": [
            "Accuracy: 21.67 - Loss: 0.015260613717316768 \n",
            "\n"
          ]
        },
        {
          "output_type": "stream",
          "name": "stderr",
          "text": [
            "100%|██████████| 16/16 [00:07<00:00,  2.04it/s]\n",
            "100%|██████████| 19/19 [00:07<00:00,  2.69it/s]\n"
          ]
        },
        {
          "output_type": "stream",
          "name": "stdout",
          "text": [
            "Accuracy: 22.18 - Loss: 0.015294040836164976 \n",
            "\n"
          ]
        },
        {
          "output_type": "stream",
          "name": "stderr",
          "text": [
            "100%|██████████| 16/16 [00:07<00:00,  2.01it/s]\n",
            "100%|██████████| 19/19 [00:06<00:00,  2.77it/s]\n"
          ]
        },
        {
          "output_type": "stream",
          "name": "stdout",
          "text": [
            "Accuracy: 20.31 - Loss: 0.0153128067381146 \n",
            "\n"
          ]
        }
      ],
      "source": [
        "warnings.filterwarnings('ignore', category=UserWarning)\n",
        "\n",
        "# Parse arguments\n",
        "conf = { # Art Painting -> Cartoon\n",
        "    'seed': 0,\n",
        "    'test_only': False,\n",
        "    'cpu': False,\n",
        "    'experiment': 'random',\n",
        "    'experiment_name': '1_2_1',\n",
        "    'experiment_args': {'module_placement': ['layer1.0.conv1', 'layer1.0.conv2', 'layer1.1.conv1', 'layer1.1.conv2', 'layer2.0.conv1', 'layer2.0.conv2', 'layer2.1.conv1', 'layer2.1.conv2', 'layer3.0.conv1', 'layer3.0.conv2', 'layer3.1.conv1', 'layer3.1.conv2', 'layer4.0.conv1', 'layer4.0.conv2', 'layer4.1.conv1', 'layer4.1.conv2'], 'mask_out_ratio': 0.1},\n",
        "    'dataset_args': {'text_root': 'data', 'images_root': 'data/kfold/PACS', 'source_domain': 'art_painting', 'target_domain': 'cartoon' },\n",
        "    'batch_size': 128,\n",
        "    'epochs': 30,\n",
        "    'num_workers': 5,\n",
        "    'grad_accum_steps': 1\n",
        "}\n",
        "\n",
        "#args = parse_arguments()\n",
        "args = argparse.Namespace(**conf)\n",
        "print(args)\n",
        "CONFIG.update(vars(args))\n",
        "\n",
        "# Setup output directory\n",
        "CONFIG.save_dir = os.path.join('record', CONFIG.experiment_name)\n",
        "os.makedirs(CONFIG.save_dir, exist_ok=True)\n",
        "\n",
        "# Setup logging\n",
        "logging.basicConfig(\n",
        "    filename=os.path.join(CONFIG.save_dir, 'log.txt'),\n",
        "    format='%(message)s',\n",
        "    level=logging.INFO,\n",
        "    filemode='a'\n",
        ")\n",
        "\n",
        "# Set experiment's device & deterministic behavior\n",
        "if CONFIG.cpu:\n",
        "    CONFIG.device = 'cpu'\n",
        "else:\n",
        "    CONFIG.device = 'cuda' if torch.cuda.is_available() else 'cpu'\n",
        "\n",
        "torch.manual_seed(CONFIG.seed)\n",
        "random.seed(CONFIG.seed)\n",
        "np.random.seed(CONFIG.seed)\n",
        "torch.backends.cudnn.benchmark = True\n",
        "torch.use_deterministic_algorithms(mode=True, warn_only=True)\n",
        "\n",
        "main()"
      ]
    },
    {
      "cell_type": "markdown",
      "metadata": {
        "id": "-1jkGSNHsEWs"
      },
      "source": [
        "#### 1.2.2 - Art Painting &rightarrow; Sketch"
      ]
    },
    {
      "cell_type": "code",
      "execution_count": 21,
      "metadata": {
        "colab": {
          "base_uri": "https://localhost:8080/"
        },
        "id": "GnVjqo0MsEWs",
        "outputId": "c3493030-e305-455b-c483-7c6381b58888"
      },
      "outputs": [
        {
          "output_type": "stream",
          "name": "stdout",
          "text": [
            "Namespace(seed=0, test_only=False, cpu=False, experiment='random', experiment_name='1_2_2', experiment_args={'module_placement': ['layer1.0.conv1', 'layer1.0.conv2', 'layer1.1.conv1', 'layer1.1.conv2', 'layer2.0.conv1', 'layer2.0.conv2', 'layer2.1.conv1', 'layer2.1.conv2', 'layer3.0.conv1', 'layer3.0.conv2', 'layer3.1.conv1', 'layer3.1.conv2', 'layer4.0.conv1', 'layer4.0.conv2', 'layer4.1.conv1', 'layer4.1.conv2'], 'mask_out_ratio': 0.1}, dataset_args={'text_root': 'data', 'images_root': 'data/kfold/PACS', 'source_domain': 'art_painting', 'target_domain': 'sketch'}, batch_size=128, epochs=30, num_workers=5, grad_accum_steps=1)\n",
            "mask_out_ratio:  0.1\n",
            "layer_name layer1.0.conv1 random_mask sum():  tensor(180587., device='cuda:0')\n",
            "Insert activation shaping layer after  layer1.0.conv1 Conv2d(64, 64, kernel_size=(3, 3), stride=(1, 1), padding=(1, 1), bias=False)\n",
            "mask_out_ratio:  0.1\n",
            "layer_name layer1.0.conv2 random_mask sum():  tensor(180685., device='cuda:0')\n",
            "Insert activation shaping layer after  layer1.0.conv2 Conv2d(64, 64, kernel_size=(3, 3), stride=(1, 1), padding=(1, 1), bias=False)\n",
            "mask_out_ratio:  0.1\n",
            "layer_name layer1.1.conv1 random_mask sum():  tensor(180446., device='cuda:0')\n",
            "Insert activation shaping layer after  layer1.1.conv1 Conv2d(64, 64, kernel_size=(3, 3), stride=(1, 1), padding=(1, 1), bias=False)\n",
            "mask_out_ratio:  0.1\n",
            "layer_name layer1.1.conv2 random_mask sum():  tensor(180816., device='cuda:0')\n",
            "Insert activation shaping layer after  layer1.1.conv2 Conv2d(64, 64, kernel_size=(3, 3), stride=(1, 1), padding=(1, 1), bias=False)\n",
            "mask_out_ratio:  0.1\n",
            "layer_name layer2.0.conv1 random_mask sum():  tensor(90393., device='cuda:0')\n",
            "Insert activation shaping layer after  layer2.0.conv1 Conv2d(64, 128, kernel_size=(3, 3), stride=(2, 2), padding=(1, 1), bias=False)\n",
            "mask_out_ratio:  0.1\n",
            "layer_name layer2.0.conv2 random_mask sum():  tensor(90221., device='cuda:0')\n",
            "Insert activation shaping layer after  layer2.0.conv2 Conv2d(128, 128, kernel_size=(3, 3), stride=(1, 1), padding=(1, 1), bias=False)\n",
            "mask_out_ratio:  0.1\n",
            "layer_name layer2.1.conv1 random_mask sum():  tensor(90262., device='cuda:0')\n",
            "Insert activation shaping layer after  layer2.1.conv1 Conv2d(128, 128, kernel_size=(3, 3), stride=(1, 1), padding=(1, 1), bias=False)\n",
            "mask_out_ratio:  0.1\n",
            "layer_name layer2.1.conv2 random_mask sum():  tensor(90445., device='cuda:0')\n",
            "Insert activation shaping layer after  layer2.1.conv2 Conv2d(128, 128, kernel_size=(3, 3), stride=(1, 1), padding=(1, 1), bias=False)\n",
            "mask_out_ratio:  0.1\n",
            "layer_name layer3.0.conv1 random_mask sum():  tensor(45245., device='cuda:0')\n",
            "Insert activation shaping layer after  layer3.0.conv1 Conv2d(128, 256, kernel_size=(3, 3), stride=(2, 2), padding=(1, 1), bias=False)\n",
            "mask_out_ratio:  0.1\n",
            "layer_name layer3.0.conv2 random_mask sum():  tensor(45219., device='cuda:0')\n",
            "Insert activation shaping layer after  layer3.0.conv2 Conv2d(256, 256, kernel_size=(3, 3), stride=(1, 1), padding=(1, 1), bias=False)\n",
            "mask_out_ratio:  0.1\n",
            "layer_name layer3.1.conv1 random_mask sum():  tensor(45129., device='cuda:0')\n",
            "Insert activation shaping layer after  layer3.1.conv1 Conv2d(256, 256, kernel_size=(3, 3), stride=(1, 1), padding=(1, 1), bias=False)\n",
            "mask_out_ratio:  0.1\n",
            "layer_name layer3.1.conv2 random_mask sum():  tensor(45198., device='cuda:0')\n",
            "Insert activation shaping layer after  layer3.1.conv2 Conv2d(256, 256, kernel_size=(3, 3), stride=(1, 1), padding=(1, 1), bias=False)\n",
            "mask_out_ratio:  0.1\n",
            "layer_name layer4.0.conv1 random_mask sum():  tensor(22658., device='cuda:0')\n",
            "Insert activation shaping layer after  layer4.0.conv1 Conv2d(256, 512, kernel_size=(3, 3), stride=(2, 2), padding=(1, 1), bias=False)\n",
            "mask_out_ratio:  0.1\n",
            "layer_name layer4.0.conv2 random_mask sum():  tensor(22523., device='cuda:0')\n",
            "Insert activation shaping layer after  layer4.0.conv2 Conv2d(512, 512, kernel_size=(3, 3), stride=(1, 1), padding=(1, 1), bias=False)\n",
            "mask_out_ratio:  0.1\n",
            "layer_name layer4.1.conv1 random_mask sum():  tensor(22586., device='cuda:0')\n",
            "Insert activation shaping layer after  layer4.1.conv1 Conv2d(512, 512, kernel_size=(3, 3), stride=(1, 1), padding=(1, 1), bias=False)\n",
            "mask_out_ratio:  0.1\n",
            "layer_name layer4.1.conv2 random_mask sum():  tensor(22609., device='cuda:0')\n",
            "Insert activation shaping layer after  layer4.1.conv2 Conv2d(512, 512, kernel_size=(3, 3), stride=(1, 1), padding=(1, 1), bias=False)\n"
          ]
        },
        {
          "output_type": "stream",
          "name": "stderr",
          "text": [
            "100%|██████████| 16/16 [00:09<00:00,  1.74it/s]\n",
            "100%|██████████| 31/31 [00:11<00:00,  2.60it/s]\n"
          ]
        },
        {
          "output_type": "stream",
          "name": "stdout",
          "text": [
            "Accuracy: 12.09 - Loss: 0.016710730811420303 \n",
            "\n"
          ]
        },
        {
          "output_type": "stream",
          "name": "stderr",
          "text": [
            "100%|██████████| 16/16 [00:07<00:00,  2.02it/s]\n",
            "100%|██████████| 31/31 [00:11<00:00,  2.69it/s]\n"
          ]
        },
        {
          "output_type": "stream",
          "name": "stdout",
          "text": [
            "Accuracy: 15.81 - Loss: 0.01636714569998625 \n",
            "\n"
          ]
        },
        {
          "output_type": "stream",
          "name": "stderr",
          "text": [
            "100%|██████████| 16/16 [00:08<00:00,  1.80it/s]\n",
            "100%|██████████| 31/31 [00:11<00:00,  2.72it/s]\n"
          ]
        },
        {
          "output_type": "stream",
          "name": "stdout",
          "text": [
            "Accuracy: 11.96 - Loss: 0.016038491089370117 \n",
            "\n"
          ]
        },
        {
          "output_type": "stream",
          "name": "stderr",
          "text": [
            "100%|██████████| 16/16 [00:07<00:00,  2.01it/s]\n",
            "100%|██████████| 31/31 [00:11<00:00,  2.78it/s]\n"
          ]
        },
        {
          "output_type": "stream",
          "name": "stdout",
          "text": [
            "Accuracy: 5.93 - Loss: 0.016442571501902994 \n",
            "\n"
          ]
        },
        {
          "output_type": "stream",
          "name": "stderr",
          "text": [
            "100%|██████████| 16/16 [00:08<00:00,  1.81it/s]\n",
            "100%|██████████| 31/31 [00:11<00:00,  2.70it/s]\n"
          ]
        },
        {
          "output_type": "stream",
          "name": "stdout",
          "text": [
            "Accuracy: 8.70 - Loss: 0.01631211145259734 \n",
            "\n"
          ]
        },
        {
          "output_type": "stream",
          "name": "stderr",
          "text": [
            "100%|██████████| 16/16 [00:08<00:00,  1.85it/s]\n",
            "100%|██████████| 31/31 [00:10<00:00,  2.95it/s]\n"
          ]
        },
        {
          "output_type": "stream",
          "name": "stdout",
          "text": [
            "Accuracy: 12.57 - Loss: 0.016003663499229704 \n",
            "\n"
          ]
        },
        {
          "output_type": "stream",
          "name": "stderr",
          "text": [
            "100%|██████████| 16/16 [00:08<00:00,  1.87it/s]\n",
            "100%|██████████| 31/31 [00:11<00:00,  2.72it/s]\n"
          ]
        },
        {
          "output_type": "stream",
          "name": "stdout",
          "text": [
            "Accuracy: 7.58 - Loss: 0.01630593629610329 \n",
            "\n"
          ]
        },
        {
          "output_type": "stream",
          "name": "stderr",
          "text": [
            "100%|██████████| 16/16 [00:08<00:00,  1.81it/s]\n",
            "100%|██████████| 31/31 [00:11<00:00,  2.73it/s]\n"
          ]
        },
        {
          "output_type": "stream",
          "name": "stdout",
          "text": [
            "Accuracy: 13.16 - Loss: 0.01598511545613814 \n",
            "\n"
          ]
        },
        {
          "output_type": "stream",
          "name": "stderr",
          "text": [
            "100%|██████████| 16/16 [00:07<00:00,  2.03it/s]\n",
            "100%|██████████| 31/31 [00:11<00:00,  2.72it/s]\n"
          ]
        },
        {
          "output_type": "stream",
          "name": "stdout",
          "text": [
            "Accuracy: 10.94 - Loss: 0.015982777813246123 \n",
            "\n"
          ]
        },
        {
          "output_type": "stream",
          "name": "stderr",
          "text": [
            "100%|██████████| 16/16 [00:08<00:00,  1.80it/s]\n",
            "100%|██████████| 31/31 [00:11<00:00,  2.71it/s]\n"
          ]
        },
        {
          "output_type": "stream",
          "name": "stdout",
          "text": [
            "Accuracy: 12.06 - Loss: 0.01584971169534607 \n",
            "\n"
          ]
        },
        {
          "output_type": "stream",
          "name": "stderr",
          "text": [
            "100%|██████████| 16/16 [00:07<00:00,  2.03it/s]\n",
            "100%|██████████| 31/31 [00:11<00:00,  2.70it/s]\n"
          ]
        },
        {
          "output_type": "stream",
          "name": "stdout",
          "text": [
            "Accuracy: 9.44 - Loss: 0.016129856559877694 \n",
            "\n"
          ]
        },
        {
          "output_type": "stream",
          "name": "stderr",
          "text": [
            "100%|██████████| 16/16 [00:08<00:00,  1.80it/s]\n",
            "100%|██████████| 31/31 [00:11<00:00,  2.72it/s]\n"
          ]
        },
        {
          "output_type": "stream",
          "name": "stdout",
          "text": [
            "Accuracy: 9.90 - Loss: 0.016213453856701462 \n",
            "\n"
          ]
        },
        {
          "output_type": "stream",
          "name": "stderr",
          "text": [
            "100%|██████████| 16/16 [00:08<00:00,  1.88it/s]\n",
            "100%|██████████| 31/31 [00:10<00:00,  2.89it/s]\n"
          ]
        },
        {
          "output_type": "stream",
          "name": "stdout",
          "text": [
            "Accuracy: 13.90 - Loss: 0.015983789226243623 \n",
            "\n"
          ]
        },
        {
          "output_type": "stream",
          "name": "stderr",
          "text": [
            "100%|██████████| 16/16 [00:08<00:00,  1.80it/s]\n",
            "100%|██████████| 31/31 [00:11<00:00,  2.72it/s]\n"
          ]
        },
        {
          "output_type": "stream",
          "name": "stdout",
          "text": [
            "Accuracy: 14.41 - Loss: 0.015977779154438924 \n",
            "\n"
          ]
        },
        {
          "output_type": "stream",
          "name": "stderr",
          "text": [
            "100%|██████████| 16/16 [00:08<00:00,  1.83it/s]\n",
            "100%|██████████| 31/31 [00:10<00:00,  2.84it/s]\n"
          ]
        },
        {
          "output_type": "stream",
          "name": "stdout",
          "text": [
            "Accuracy: 16.14 - Loss: 0.016014276615200107 \n",
            "\n"
          ]
        },
        {
          "output_type": "stream",
          "name": "stderr",
          "text": [
            "100%|██████████| 16/16 [00:08<00:00,  1.97it/s]\n",
            "100%|██████████| 31/31 [00:11<00:00,  2.71it/s]\n"
          ]
        },
        {
          "output_type": "stream",
          "name": "stdout",
          "text": [
            "Accuracy: 15.60 - Loss: 0.015779449606585 \n",
            "\n"
          ]
        },
        {
          "output_type": "stream",
          "name": "stderr",
          "text": [
            "100%|██████████| 16/16 [00:08<00:00,  1.81it/s]\n",
            "100%|██████████| 31/31 [00:11<00:00,  2.70it/s]\n"
          ]
        },
        {
          "output_type": "stream",
          "name": "stdout",
          "text": [
            "Accuracy: 15.93 - Loss: 0.015927836075178628 \n",
            "\n"
          ]
        },
        {
          "output_type": "stream",
          "name": "stderr",
          "text": [
            "100%|██████████| 16/16 [00:07<00:00,  2.06it/s]\n",
            "100%|██████████| 31/31 [00:11<00:00,  2.71it/s]\n"
          ]
        },
        {
          "output_type": "stream",
          "name": "stdout",
          "text": [
            "Accuracy: 13.31 - Loss: 0.016094955089711815 \n",
            "\n"
          ]
        },
        {
          "output_type": "stream",
          "name": "stderr",
          "text": [
            "100%|██████████| 16/16 [00:10<00:00,  1.55it/s]\n",
            "100%|██████████| 31/31 [00:11<00:00,  2.74it/s]\n"
          ]
        },
        {
          "output_type": "stream",
          "name": "stdout",
          "text": [
            "Accuracy: 13.69 - Loss: 0.015658259270421176 \n",
            "\n"
          ]
        },
        {
          "output_type": "stream",
          "name": "stderr",
          "text": [
            "100%|██████████| 16/16 [00:08<00:00,  1.91it/s]\n",
            "100%|██████████| 31/31 [00:10<00:00,  2.88it/s]\n"
          ]
        },
        {
          "output_type": "stream",
          "name": "stdout",
          "text": [
            "Accuracy: 13.87 - Loss: 0.015779125657085245 \n",
            "\n"
          ]
        },
        {
          "output_type": "stream",
          "name": "stderr",
          "text": [
            "100%|██████████| 16/16 [00:08<00:00,  1.80it/s]\n",
            "100%|██████████| 31/31 [00:11<00:00,  2.70it/s]\n"
          ]
        },
        {
          "output_type": "stream",
          "name": "stdout",
          "text": [
            "Accuracy: 17.36 - Loss: 0.015716574215713 \n",
            "\n"
          ]
        },
        {
          "output_type": "stream",
          "name": "stderr",
          "text": [
            "100%|██████████| 16/16 [00:08<00:00,  1.81it/s]\n",
            "100%|██████████| 31/31 [00:11<00:00,  2.75it/s]\n"
          ]
        },
        {
          "output_type": "stream",
          "name": "stdout",
          "text": [
            "Accuracy: 16.11 - Loss: 0.015587008463635522 \n",
            "\n"
          ]
        },
        {
          "output_type": "stream",
          "name": "stderr",
          "text": [
            "100%|██████████| 16/16 [00:07<00:00,  2.04it/s]\n",
            "100%|██████████| 31/31 [00:11<00:00,  2.71it/s]\n"
          ]
        },
        {
          "output_type": "stream",
          "name": "stdout",
          "text": [
            "Accuracy: 18.58 - Loss: 0.015579341537444518 \n",
            "\n"
          ]
        },
        {
          "output_type": "stream",
          "name": "stderr",
          "text": [
            "100%|██████████| 16/16 [00:08<00:00,  1.82it/s]\n",
            "100%|██████████| 31/31 [00:11<00:00,  2.71it/s]\n"
          ]
        },
        {
          "output_type": "stream",
          "name": "stdout",
          "text": [
            "Accuracy: 12.83 - Loss: 0.01592680542606772 \n",
            "\n"
          ]
        },
        {
          "output_type": "stream",
          "name": "stderr",
          "text": [
            "100%|██████████| 16/16 [00:07<00:00,  2.06it/s]\n",
            "100%|██████████| 31/31 [00:11<00:00,  2.72it/s]\n"
          ]
        },
        {
          "output_type": "stream",
          "name": "stdout",
          "text": [
            "Accuracy: 16.14 - Loss: 0.015808878948622363 \n",
            "\n"
          ]
        },
        {
          "output_type": "stream",
          "name": "stderr",
          "text": [
            "100%|██████████| 16/16 [00:08<00:00,  1.80it/s]\n",
            "100%|██████████| 31/31 [00:11<00:00,  2.70it/s]\n"
          ]
        },
        {
          "output_type": "stream",
          "name": "stdout",
          "text": [
            "Accuracy: 17.13 - Loss: 0.015683320619035053 \n",
            "\n"
          ]
        },
        {
          "output_type": "stream",
          "name": "stderr",
          "text": [
            "100%|██████████| 16/16 [00:08<00:00,  1.94it/s]\n",
            "100%|██████████| 31/31 [00:11<00:00,  2.81it/s]\n"
          ]
        },
        {
          "output_type": "stream",
          "name": "stdout",
          "text": [
            "Accuracy: 16.90 - Loss: 0.015631099000903117 \n",
            "\n"
          ]
        },
        {
          "output_type": "stream",
          "name": "stderr",
          "text": [
            "100%|██████████| 16/16 [00:08<00:00,  1.81it/s]\n",
            "100%|██████████| 31/31 [00:11<00:00,  2.70it/s]\n"
          ]
        },
        {
          "output_type": "stream",
          "name": "stdout",
          "text": [
            "Accuracy: 16.75 - Loss: 0.015605378405803274 \n",
            "\n"
          ]
        },
        {
          "output_type": "stream",
          "name": "stderr",
          "text": [
            "100%|██████████| 16/16 [00:08<00:00,  1.82it/s]\n",
            "100%|██████████| 31/31 [00:10<00:00,  2.86it/s]\n"
          ]
        },
        {
          "output_type": "stream",
          "name": "stdout",
          "text": [
            "Accuracy: 19.09 - Loss: 0.015553225873838887 \n",
            "\n"
          ]
        },
        {
          "output_type": "stream",
          "name": "stderr",
          "text": [
            "100%|██████████| 16/16 [00:08<00:00,  1.95it/s]\n",
            "100%|██████████| 31/31 [00:11<00:00,  2.73it/s]\n"
          ]
        },
        {
          "output_type": "stream",
          "name": "stdout",
          "text": [
            "Accuracy: 16.44 - Loss: 0.015723180637374184 \n",
            "\n"
          ]
        }
      ],
      "source": [
        "warnings.filterwarnings('ignore', category=UserWarning)\n",
        "\n",
        "# Parse arguments\n",
        "conf = { # Art Painting -> Sketch\n",
        "    'seed': 0,\n",
        "    'test_only': False,\n",
        "    'cpu': False,\n",
        "    'experiment': 'random',\n",
        "    'experiment_name': '1_2_2',\n",
        "    'experiment_args': {'module_placement': ['layer1.0.conv1', 'layer1.0.conv2', 'layer1.1.conv1', 'layer1.1.conv2', 'layer2.0.conv1', 'layer2.0.conv2', 'layer2.1.conv1', 'layer2.1.conv2', 'layer3.0.conv1', 'layer3.0.conv2', 'layer3.1.conv1', 'layer3.1.conv2', 'layer4.0.conv1', 'layer4.0.conv2', 'layer4.1.conv1', 'layer4.1.conv2'], 'mask_out_ratio': 0.1},\n",
        "    'dataset_args': {'text_root': 'data', 'images_root': 'data/kfold/PACS', 'source_domain': 'art_painting', 'target_domain': 'sketch' },\n",
        "    'batch_size': 128,\n",
        "    'epochs': 30,\n",
        "    'num_workers': 5,\n",
        "    'grad_accum_steps': 1\n",
        "}\n",
        "\n",
        "#args = parse_arguments()\n",
        "args = argparse.Namespace(**conf)\n",
        "print(args)\n",
        "CONFIG.update(vars(args))\n",
        "\n",
        "# Setup output directory\n",
        "CONFIG.save_dir = os.path.join('record', CONFIG.experiment_name)\n",
        "os.makedirs(CONFIG.save_dir, exist_ok=True)\n",
        "\n",
        "# Setup logging\n",
        "logging.basicConfig(\n",
        "    filename=os.path.join(CONFIG.save_dir, 'log.txt'),\n",
        "    format='%(message)s',\n",
        "    level=logging.INFO,\n",
        "    filemode='a'\n",
        ")\n",
        "\n",
        "# Set experiment's device & deterministic behavior\n",
        "if CONFIG.cpu:\n",
        "    CONFIG.device = 'cpu'\n",
        "else:\n",
        "    CONFIG.device = 'cuda' if torch.cuda.is_available() else 'cpu'\n",
        "\n",
        "torch.manual_seed(CONFIG.seed)\n",
        "random.seed(CONFIG.seed)\n",
        "np.random.seed(CONFIG.seed)\n",
        "torch.backends.cudnn.benchmark = True\n",
        "torch.use_deterministic_algorithms(mode=True, warn_only=True)\n",
        "\n",
        "main()"
      ]
    },
    {
      "cell_type": "markdown",
      "metadata": {
        "id": "Nqqie6oksEWt"
      },
      "source": [
        "#### 1.2.3 - Art Painting &rightarrow; Photo"
      ]
    },
    {
      "cell_type": "code",
      "execution_count": 22,
      "metadata": {
        "colab": {
          "base_uri": "https://localhost:8080/"
        },
        "id": "Q10L6kwnsEWu",
        "outputId": "80681ab1-7f90-4e4d-b91e-9d3ce6e8f208"
      },
      "outputs": [
        {
          "output_type": "stream",
          "name": "stdout",
          "text": [
            "Namespace(seed=0, test_only=False, cpu=False, experiment='random', experiment_name='1_2_3', experiment_args={'module_placement': ['layer1.0.conv1', 'layer1.0.conv2', 'layer1.1.conv1', 'layer1.1.conv2', 'layer2.0.conv1', 'layer2.0.conv2', 'layer2.1.conv1', 'layer2.1.conv2', 'layer3.0.conv1', 'layer3.0.conv2', 'layer3.1.conv1', 'layer3.1.conv2', 'layer4.0.conv1', 'layer4.0.conv2', 'layer4.1.conv1', 'layer4.1.conv2'], 'mask_out_ratio': 0.1}, dataset_args={'text_root': 'data', 'images_root': 'data/kfold/PACS', 'source_domain': 'art_painting', 'target_domain': 'photo'}, batch_size=128, epochs=30, num_workers=5, grad_accum_steps=1)\n",
            "mask_out_ratio:  0.1\n",
            "layer_name layer1.0.conv1 random_mask sum():  tensor(180587., device='cuda:0')\n",
            "Insert activation shaping layer after  layer1.0.conv1 Conv2d(64, 64, kernel_size=(3, 3), stride=(1, 1), padding=(1, 1), bias=False)\n",
            "mask_out_ratio:  0.1\n",
            "layer_name layer1.0.conv2 random_mask sum():  tensor(180685., device='cuda:0')\n",
            "Insert activation shaping layer after  layer1.0.conv2 Conv2d(64, 64, kernel_size=(3, 3), stride=(1, 1), padding=(1, 1), bias=False)\n",
            "mask_out_ratio:  0.1\n",
            "layer_name layer1.1.conv1 random_mask sum():  tensor(180446., device='cuda:0')\n",
            "Insert activation shaping layer after  layer1.1.conv1 Conv2d(64, 64, kernel_size=(3, 3), stride=(1, 1), padding=(1, 1), bias=False)\n",
            "mask_out_ratio:  0.1\n",
            "layer_name layer1.1.conv2 random_mask sum():  tensor(180816., device='cuda:0')\n",
            "Insert activation shaping layer after  layer1.1.conv2 Conv2d(64, 64, kernel_size=(3, 3), stride=(1, 1), padding=(1, 1), bias=False)\n",
            "mask_out_ratio:  0.1\n",
            "layer_name layer2.0.conv1 random_mask sum():  tensor(90393., device='cuda:0')\n",
            "Insert activation shaping layer after  layer2.0.conv1 Conv2d(64, 128, kernel_size=(3, 3), stride=(2, 2), padding=(1, 1), bias=False)\n",
            "mask_out_ratio:  0.1\n",
            "layer_name layer2.0.conv2 random_mask sum():  tensor(90221., device='cuda:0')\n",
            "Insert activation shaping layer after  layer2.0.conv2 Conv2d(128, 128, kernel_size=(3, 3), stride=(1, 1), padding=(1, 1), bias=False)\n",
            "mask_out_ratio:  0.1\n",
            "layer_name layer2.1.conv1 random_mask sum():  tensor(90262., device='cuda:0')\n",
            "Insert activation shaping layer after  layer2.1.conv1 Conv2d(128, 128, kernel_size=(3, 3), stride=(1, 1), padding=(1, 1), bias=False)\n",
            "mask_out_ratio:  0.1\n",
            "layer_name layer2.1.conv2 random_mask sum():  tensor(90445., device='cuda:0')\n",
            "Insert activation shaping layer after  layer2.1.conv2 Conv2d(128, 128, kernel_size=(3, 3), stride=(1, 1), padding=(1, 1), bias=False)\n",
            "mask_out_ratio:  0.1\n",
            "layer_name layer3.0.conv1 random_mask sum():  tensor(45245., device='cuda:0')\n",
            "Insert activation shaping layer after  layer3.0.conv1 Conv2d(128, 256, kernel_size=(3, 3), stride=(2, 2), padding=(1, 1), bias=False)\n",
            "mask_out_ratio:  0.1\n",
            "layer_name layer3.0.conv2 random_mask sum():  tensor(45219., device='cuda:0')\n",
            "Insert activation shaping layer after  layer3.0.conv2 Conv2d(256, 256, kernel_size=(3, 3), stride=(1, 1), padding=(1, 1), bias=False)\n",
            "mask_out_ratio:  0.1\n",
            "layer_name layer3.1.conv1 random_mask sum():  tensor(45129., device='cuda:0')\n",
            "Insert activation shaping layer after  layer3.1.conv1 Conv2d(256, 256, kernel_size=(3, 3), stride=(1, 1), padding=(1, 1), bias=False)\n",
            "mask_out_ratio:  0.1\n",
            "layer_name layer3.1.conv2 random_mask sum():  tensor(45198., device='cuda:0')\n",
            "Insert activation shaping layer after  layer3.1.conv2 Conv2d(256, 256, kernel_size=(3, 3), stride=(1, 1), padding=(1, 1), bias=False)\n",
            "mask_out_ratio:  0.1\n",
            "layer_name layer4.0.conv1 random_mask sum():  tensor(22658., device='cuda:0')\n",
            "Insert activation shaping layer after  layer4.0.conv1 Conv2d(256, 512, kernel_size=(3, 3), stride=(2, 2), padding=(1, 1), bias=False)\n",
            "mask_out_ratio:  0.1\n",
            "layer_name layer4.0.conv2 random_mask sum():  tensor(22523., device='cuda:0')\n",
            "Insert activation shaping layer after  layer4.0.conv2 Conv2d(512, 512, kernel_size=(3, 3), stride=(1, 1), padding=(1, 1), bias=False)\n",
            "mask_out_ratio:  0.1\n",
            "layer_name layer4.1.conv1 random_mask sum():  tensor(22586., device='cuda:0')\n",
            "Insert activation shaping layer after  layer4.1.conv1 Conv2d(512, 512, kernel_size=(3, 3), stride=(1, 1), padding=(1, 1), bias=False)\n",
            "mask_out_ratio:  0.1\n",
            "layer_name layer4.1.conv2 random_mask sum():  tensor(22609., device='cuda:0')\n",
            "Insert activation shaping layer after  layer4.1.conv2 Conv2d(512, 512, kernel_size=(3, 3), stride=(1, 1), padding=(1, 1), bias=False)\n"
          ]
        },
        {
          "output_type": "stream",
          "name": "stderr",
          "text": [
            "100%|██████████| 16/16 [00:09<00:00,  1.71it/s]\n",
            "100%|██████████| 14/14 [00:05<00:00,  2.78it/s]\n"
          ]
        },
        {
          "output_type": "stream",
          "name": "stdout",
          "text": [
            "Accuracy: 14.19 - Loss: 0.01644154472979243 \n",
            "\n"
          ]
        },
        {
          "output_type": "stream",
          "name": "stderr",
          "text": [
            "100%|██████████| 16/16 [00:08<00:00,  1.80it/s]\n",
            "100%|██████████| 14/14 [00:04<00:00,  3.08it/s]\n"
          ]
        },
        {
          "output_type": "stream",
          "name": "stdout",
          "text": [
            "Accuracy: 15.03 - Loss: 0.016415861338198542 \n",
            "\n"
          ]
        },
        {
          "output_type": "stream",
          "name": "stderr",
          "text": [
            "100%|██████████| 16/16 [00:08<00:00,  1.78it/s]\n",
            "100%|██████████| 14/14 [00:04<00:00,  3.13it/s]\n"
          ]
        },
        {
          "output_type": "stream",
          "name": "stdout",
          "text": [
            "Accuracy: 15.99 - Loss: 0.016141973712487136 \n",
            "\n"
          ]
        },
        {
          "output_type": "stream",
          "name": "stderr",
          "text": [
            "100%|██████████| 16/16 [00:08<00:00,  1.79it/s]\n",
            "100%|██████████| 14/14 [00:04<00:00,  3.09it/s]\n"
          ]
        },
        {
          "output_type": "stream",
          "name": "stdout",
          "text": [
            "Accuracy: 24.43 - Loss: 0.015836938055689462 \n",
            "\n"
          ]
        },
        {
          "output_type": "stream",
          "name": "stderr",
          "text": [
            "100%|██████████| 16/16 [00:08<00:00,  1.85it/s]\n",
            "100%|██████████| 14/14 [00:04<00:00,  2.92it/s]\n"
          ]
        },
        {
          "output_type": "stream",
          "name": "stdout",
          "text": [
            "Accuracy: 22.87 - Loss: 0.015900961724583974 \n",
            "\n"
          ]
        },
        {
          "output_type": "stream",
          "name": "stderr",
          "text": [
            "100%|██████████| 16/16 [00:08<00:00,  1.91it/s]\n",
            "100%|██████████| 14/14 [00:05<00:00,  2.64it/s]\n"
          ]
        },
        {
          "output_type": "stream",
          "name": "stdout",
          "text": [
            "Accuracy: 20.00 - Loss: 0.01601078695879725 \n",
            "\n"
          ]
        },
        {
          "output_type": "stream",
          "name": "stderr",
          "text": [
            "100%|██████████| 16/16 [00:07<00:00,  2.05it/s]\n",
            "100%|██████████| 14/14 [00:05<00:00,  2.58it/s]\n"
          ]
        },
        {
          "output_type": "stream",
          "name": "stdout",
          "text": [
            "Accuracy: 24.07 - Loss: 0.015703130482199665 \n",
            "\n"
          ]
        },
        {
          "output_type": "stream",
          "name": "stderr",
          "text": [
            "100%|██████████| 16/16 [00:07<00:00,  2.04it/s]\n",
            "100%|██████████| 14/14 [00:05<00:00,  2.54it/s]\n"
          ]
        },
        {
          "output_type": "stream",
          "name": "stdout",
          "text": [
            "Accuracy: 21.56 - Loss: 0.01594405181393652 \n",
            "\n"
          ]
        },
        {
          "output_type": "stream",
          "name": "stderr",
          "text": [
            "100%|██████████| 16/16 [00:07<00:00,  2.05it/s]\n",
            "100%|██████████| 14/14 [00:05<00:00,  2.54it/s]\n"
          ]
        },
        {
          "output_type": "stream",
          "name": "stdout",
          "text": [
            "Accuracy: 24.19 - Loss: 0.015925394061082853 \n",
            "\n"
          ]
        },
        {
          "output_type": "stream",
          "name": "stderr",
          "text": [
            "100%|██████████| 16/16 [00:07<00:00,  2.05it/s]\n",
            "100%|██████████| 14/14 [00:05<00:00,  2.53it/s]\n"
          ]
        },
        {
          "output_type": "stream",
          "name": "stdout",
          "text": [
            "Accuracy: 22.10 - Loss: 0.015907788633586405 \n",
            "\n"
          ]
        },
        {
          "output_type": "stream",
          "name": "stderr",
          "text": [
            "100%|██████████| 16/16 [00:07<00:00,  2.05it/s]\n",
            "100%|██████████| 14/14 [00:05<00:00,  2.53it/s]\n"
          ]
        },
        {
          "output_type": "stream",
          "name": "stdout",
          "text": [
            "Accuracy: 23.41 - Loss: 0.015709010141338416 \n",
            "\n"
          ]
        },
        {
          "output_type": "stream",
          "name": "stderr",
          "text": [
            "100%|██████████| 16/16 [00:08<00:00,  1.98it/s]\n",
            "100%|██████████| 14/14 [00:05<00:00,  2.71it/s]\n"
          ]
        },
        {
          "output_type": "stream",
          "name": "stdout",
          "text": [
            "Accuracy: 24.79 - Loss: 0.015856096773090477 \n",
            "\n"
          ]
        },
        {
          "output_type": "stream",
          "name": "stderr",
          "text": [
            "100%|██████████| 16/16 [00:08<00:00,  1.88it/s]\n",
            "100%|██████████| 14/14 [00:04<00:00,  3.00it/s]\n"
          ]
        },
        {
          "output_type": "stream",
          "name": "stdout",
          "text": [
            "Accuracy: 24.49 - Loss: 0.01576757523827924 \n",
            "\n"
          ]
        },
        {
          "output_type": "stream",
          "name": "stderr",
          "text": [
            "100%|██████████| 16/16 [00:08<00:00,  1.81it/s]\n",
            "100%|██████████| 14/14 [00:04<00:00,  3.12it/s]\n"
          ]
        },
        {
          "output_type": "stream",
          "name": "stdout",
          "text": [
            "Accuracy: 21.50 - Loss: 0.01579443045005113 \n",
            "\n"
          ]
        },
        {
          "output_type": "stream",
          "name": "stderr",
          "text": [
            "100%|██████████| 16/16 [00:08<00:00,  1.79it/s]\n",
            "100%|██████████| 14/14 [00:04<00:00,  3.10it/s]\n"
          ]
        },
        {
          "output_type": "stream",
          "name": "stdout",
          "text": [
            "Accuracy: 23.29 - Loss: 0.015875614974313154 \n",
            "\n"
          ]
        },
        {
          "output_type": "stream",
          "name": "stderr",
          "text": [
            "100%|██████████| 16/16 [00:08<00:00,  1.80it/s]\n",
            "100%|██████████| 14/14 [00:04<00:00,  3.13it/s]\n"
          ]
        },
        {
          "output_type": "stream",
          "name": "stdout",
          "text": [
            "Accuracy: 25.21 - Loss: 0.015811202911559692 \n",
            "\n"
          ]
        },
        {
          "output_type": "stream",
          "name": "stderr",
          "text": [
            "100%|██████████| 16/16 [00:08<00:00,  1.79it/s]\n",
            "100%|██████████| 14/14 [00:04<00:00,  3.12it/s]\n"
          ]
        },
        {
          "output_type": "stream",
          "name": "stdout",
          "text": [
            "Accuracy: 22.63 - Loss: 0.015795022070764782 \n",
            "\n"
          ]
        },
        {
          "output_type": "stream",
          "name": "stderr",
          "text": [
            "100%|██████████| 16/16 [00:08<00:00,  1.81it/s]\n",
            "100%|██████████| 14/14 [00:04<00:00,  3.09it/s]\n"
          ]
        },
        {
          "output_type": "stream",
          "name": "stdout",
          "text": [
            "Accuracy: 25.75 - Loss: 0.015757876313375142 \n",
            "\n"
          ]
        },
        {
          "output_type": "stream",
          "name": "stderr",
          "text": [
            "100%|██████████| 16/16 [00:08<00:00,  1.80it/s]\n",
            "100%|██████████| 14/14 [00:04<00:00,  3.13it/s]\n"
          ]
        },
        {
          "output_type": "stream",
          "name": "stdout",
          "text": [
            "Accuracy: 27.37 - Loss: 0.015521158786590942 \n",
            "\n"
          ]
        },
        {
          "output_type": "stream",
          "name": "stderr",
          "text": [
            "100%|██████████| 16/16 [00:08<00:00,  1.81it/s]\n",
            "100%|██████████| 14/14 [00:04<00:00,  3.16it/s]\n"
          ]
        },
        {
          "output_type": "stream",
          "name": "stdout",
          "text": [
            "Accuracy: 26.35 - Loss: 0.015519586437476609 \n",
            "\n"
          ]
        },
        {
          "output_type": "stream",
          "name": "stderr",
          "text": [
            "100%|██████████| 16/16 [00:08<00:00,  1.79it/s]\n",
            "100%|██████████| 14/14 [00:04<00:00,  3.15it/s]\n"
          ]
        },
        {
          "output_type": "stream",
          "name": "stdout",
          "text": [
            "Accuracy: 23.41 - Loss: 0.01575835143734595 \n",
            "\n"
          ]
        },
        {
          "output_type": "stream",
          "name": "stderr",
          "text": [
            "100%|██████████| 16/16 [00:08<00:00,  1.81it/s]\n",
            "100%|██████████| 14/14 [00:04<00:00,  2.85it/s]\n"
          ]
        },
        {
          "output_type": "stream",
          "name": "stdout",
          "text": [
            "Accuracy: 26.59 - Loss: 0.015577773919362508 \n",
            "\n"
          ]
        },
        {
          "output_type": "stream",
          "name": "stderr",
          "text": [
            "100%|██████████| 16/16 [00:08<00:00,  1.96it/s]\n",
            "100%|██████████| 14/14 [00:05<00:00,  2.68it/s]\n"
          ]
        },
        {
          "output_type": "stream",
          "name": "stdout",
          "text": [
            "Accuracy: 24.61 - Loss: 0.015739532287963136 \n",
            "\n"
          ]
        },
        {
          "output_type": "stream",
          "name": "stderr",
          "text": [
            "100%|██████████| 16/16 [00:07<00:00,  2.01it/s]\n",
            "100%|██████████| 14/14 [00:05<00:00,  2.58it/s]\n"
          ]
        },
        {
          "output_type": "stream",
          "name": "stdout",
          "text": [
            "Accuracy: 27.25 - Loss: 0.015352186685550712 \n",
            "\n"
          ]
        },
        {
          "output_type": "stream",
          "name": "stderr",
          "text": [
            "100%|██████████| 16/16 [00:07<00:00,  2.04it/s]\n",
            "100%|██████████| 14/14 [00:05<00:00,  2.53it/s]\n"
          ]
        },
        {
          "output_type": "stream",
          "name": "stdout",
          "text": [
            "Accuracy: 26.23 - Loss: 0.015499589328994295 \n",
            "\n"
          ]
        },
        {
          "output_type": "stream",
          "name": "stderr",
          "text": [
            "100%|██████████| 16/16 [00:07<00:00,  2.03it/s]\n",
            "100%|██████████| 14/14 [00:06<00:00,  2.00it/s]\n"
          ]
        },
        {
          "output_type": "stream",
          "name": "stdout",
          "text": [
            "Accuracy: 26.83 - Loss: 0.015613089921231756 \n",
            "\n"
          ]
        },
        {
          "output_type": "stream",
          "name": "stderr",
          "text": [
            "100%|██████████| 16/16 [00:08<00:00,  1.99it/s]\n",
            "100%|██████████| 14/14 [00:05<00:00,  2.63it/s]\n"
          ]
        },
        {
          "output_type": "stream",
          "name": "stdout",
          "text": [
            "Accuracy: 25.57 - Loss: 0.015613844508896331 \n",
            "\n"
          ]
        },
        {
          "output_type": "stream",
          "name": "stderr",
          "text": [
            "100%|██████████| 16/16 [00:08<00:00,  1.89it/s]\n",
            "100%|██████████| 14/14 [00:04<00:00,  2.92it/s]\n"
          ]
        },
        {
          "output_type": "stream",
          "name": "stdout",
          "text": [
            "Accuracy: 25.57 - Loss: 0.015519935142494248 \n",
            "\n"
          ]
        },
        {
          "output_type": "stream",
          "name": "stderr",
          "text": [
            "100%|██████████| 16/16 [00:08<00:00,  1.84it/s]\n",
            "100%|██████████| 14/14 [00:04<00:00,  3.14it/s]\n"
          ]
        },
        {
          "output_type": "stream",
          "name": "stdout",
          "text": [
            "Accuracy: 27.90 - Loss: 0.015364291710767917 \n",
            "\n"
          ]
        },
        {
          "output_type": "stream",
          "name": "stderr",
          "text": [
            "100%|██████████| 16/16 [00:08<00:00,  1.83it/s]\n",
            "100%|██████████| 14/14 [00:04<00:00,  3.07it/s]\n"
          ]
        },
        {
          "output_type": "stream",
          "name": "stdout",
          "text": [
            "Accuracy: 28.14 - Loss: 0.015488921168321622 \n",
            "\n"
          ]
        }
      ],
      "source": [
        "warnings.filterwarnings('ignore', category=UserWarning)\n",
        "\n",
        "# Parse arguments\n",
        "conf = { # Art Painting -> Photo\n",
        "    'seed': 0,\n",
        "    'test_only': False,\n",
        "    'cpu': False,\n",
        "    'experiment': 'random',\n",
        "    'experiment_name': '1_2_3',\n",
        "    'experiment_args': {'module_placement': ['layer1.0.conv1', 'layer1.0.conv2', 'layer1.1.conv1', 'layer1.1.conv2', 'layer2.0.conv1', 'layer2.0.conv2', 'layer2.1.conv1', 'layer2.1.conv2', 'layer3.0.conv1', 'layer3.0.conv2', 'layer3.1.conv1', 'layer3.1.conv2', 'layer4.0.conv1', 'layer4.0.conv2', 'layer4.1.conv1', 'layer4.1.conv2'], 'mask_out_ratio': 0.1},\n",
        "    'dataset_args': {'text_root': 'data', 'images_root': 'data/kfold/PACS', 'source_domain': 'art_painting', 'target_domain': 'photo' },\n",
        "    'batch_size': 128,\n",
        "    'epochs': 30,\n",
        "    'num_workers': 5,\n",
        "    'grad_accum_steps': 1\n",
        "}\n",
        "\n",
        "#args = parse_arguments()\n",
        "args = argparse.Namespace(**conf)\n",
        "print(args)\n",
        "CONFIG.update(vars(args))\n",
        "\n",
        "# Setup output directory\n",
        "CONFIG.save_dir = os.path.join('record', CONFIG.experiment_name)\n",
        "os.makedirs(CONFIG.save_dir, exist_ok=True)\n",
        "\n",
        "# Setup logging\n",
        "logging.basicConfig(\n",
        "    filename=os.path.join(CONFIG.save_dir, 'log.txt'),\n",
        "    format='%(message)s',\n",
        "    level=logging.INFO,\n",
        "    filemode='a'\n",
        ")\n",
        "\n",
        "# Set experiment's device & deterministic behavior\n",
        "if CONFIG.cpu:\n",
        "    CONFIG.device = 'cpu'\n",
        "else:\n",
        "    CONFIG.device = 'cuda' if torch.cuda.is_available() else 'cpu'\n",
        "\n",
        "torch.manual_seed(CONFIG.seed)\n",
        "random.seed(CONFIG.seed)\n",
        "np.random.seed(CONFIG.seed)\n",
        "torch.backends.cudnn.benchmark = True\n",
        "torch.use_deterministic_algorithms(mode=True, warn_only=True)\n",
        "\n",
        "main()"
      ]
    },
    {
      "cell_type": "markdown",
      "metadata": {
        "id": "rVLjOKVTsEWu"
      },
      "source": [
        "### 1.3 - ASH module after every three convolutional layers"
      ]
    },
    {
      "cell_type": "markdown",
      "metadata": {
        "id": "KWbinIe5sEWv"
      },
      "source": [
        "#### 1.3.1 - Art Painting &rightarrow; Cartoon"
      ]
    },
    {
      "cell_type": "code",
      "execution_count": 23,
      "metadata": {
        "colab": {
          "base_uri": "https://localhost:8080/"
        },
        "id": "QzcAU8oHsEWv",
        "outputId": "4f357136-786c-43a5-acf3-b82c089b315f"
      },
      "outputs": [
        {
          "output_type": "stream",
          "name": "stdout",
          "text": [
            "Namespace(seed=0, test_only=False, cpu=False, experiment='random', experiment_name='1_3_1', experiment_args={'module_placement': ['layer1.0.conv1', 'layer1.1.conv2', 'layer2.1.conv1', 'layer3.0.conv2', 'layer4.0.conv1', 'layer4.1.conv2'], 'mask_out_ratio': 0.1}, dataset_args={'text_root': 'data', 'images_root': 'data/kfold/PACS', 'source_domain': 'art_painting', 'target_domain': 'cartoon'}, batch_size=128, epochs=30, num_workers=5, grad_accum_steps=1)\n",
            "mask_out_ratio:  0.1\n",
            "layer_name layer1.0.conv1 random_mask sum():  tensor(180587., device='cuda:0')\n",
            "Insert activation shaping layer after  layer1.0.conv1 Conv2d(64, 64, kernel_size=(3, 3), stride=(1, 1), padding=(1, 1), bias=False)\n",
            "mask_out_ratio:  0.1\n",
            "layer_name layer1.1.conv2 random_mask sum():  tensor(180685., device='cuda:0')\n",
            "Insert activation shaping layer after  layer1.1.conv2 Conv2d(64, 64, kernel_size=(3, 3), stride=(1, 1), padding=(1, 1), bias=False)\n",
            "mask_out_ratio:  0.1\n",
            "layer_name layer2.1.conv1 random_mask sum():  tensor(90235., device='cuda:0')\n",
            "Insert activation shaping layer after  layer2.1.conv1 Conv2d(128, 128, kernel_size=(3, 3), stride=(1, 1), padding=(1, 1), bias=False)\n",
            "mask_out_ratio:  0.1\n",
            "layer_name layer3.0.conv2 random_mask sum():  tensor(45126., device='cuda:0')\n",
            "Insert activation shaping layer after  layer3.0.conv2 Conv2d(256, 256, kernel_size=(3, 3), stride=(1, 1), padding=(1, 1), bias=False)\n",
            "mask_out_ratio:  0.1\n",
            "layer_name layer4.0.conv1 random_mask sum():  tensor(22587., device='cuda:0')\n",
            "Insert activation shaping layer after  layer4.0.conv1 Conv2d(256, 512, kernel_size=(3, 3), stride=(2, 2), padding=(1, 1), bias=False)\n",
            "mask_out_ratio:  0.1\n",
            "layer_name layer4.1.conv2 random_mask sum():  tensor(22498., device='cuda:0')\n",
            "Insert activation shaping layer after  layer4.1.conv2 Conv2d(512, 512, kernel_size=(3, 3), stride=(1, 1), padding=(1, 1), bias=False)\n"
          ]
        },
        {
          "output_type": "stream",
          "name": "stderr",
          "text": [
            "100%|██████████| 16/16 [00:09<00:00,  1.74it/s]\n",
            "100%|██████████| 19/19 [00:06<00:00,  2.86it/s]\n"
          ]
        },
        {
          "output_type": "stream",
          "name": "stdout",
          "text": [
            "Accuracy: 11.95 - Loss: 0.016639337401341252 \n",
            "\n"
          ]
        },
        {
          "output_type": "stream",
          "name": "stderr",
          "text": [
            "100%|██████████| 16/16 [00:08<00:00,  1.79it/s]\n",
            "100%|██████████| 19/19 [00:06<00:00,  2.93it/s]\n"
          ]
        },
        {
          "output_type": "stream",
          "name": "stdout",
          "text": [
            "Accuracy: 21.72 - Loss: 0.015651013002867586 \n",
            "\n"
          ]
        },
        {
          "output_type": "stream",
          "name": "stderr",
          "text": [
            "100%|██████████| 16/16 [00:08<00:00,  2.00it/s]\n",
            "100%|██████████| 19/19 [00:06<00:00,  2.76it/s]\n"
          ]
        },
        {
          "output_type": "stream",
          "name": "stdout",
          "text": [
            "Accuracy: 26.11 - Loss: 0.014875607940117247 \n",
            "\n"
          ]
        },
        {
          "output_type": "stream",
          "name": "stderr",
          "text": [
            "100%|██████████| 16/16 [00:07<00:00,  2.08it/s]\n",
            "100%|██████████| 19/19 [00:06<00:00,  2.78it/s]\n"
          ]
        },
        {
          "output_type": "stream",
          "name": "stdout",
          "text": [
            "Accuracy: 27.99 - Loss: 0.014614450087319462 \n",
            "\n"
          ]
        },
        {
          "output_type": "stream",
          "name": "stderr",
          "text": [
            "100%|██████████| 16/16 [00:08<00:00,  1.91it/s]\n",
            "100%|██████████| 19/19 [00:06<00:00,  3.15it/s]\n"
          ]
        },
        {
          "output_type": "stream",
          "name": "stdout",
          "text": [
            "Accuracy: 26.54 - Loss: 0.014905731171471266 \n",
            "\n"
          ]
        },
        {
          "output_type": "stream",
          "name": "stderr",
          "text": [
            "100%|██████████| 16/16 [00:08<00:00,  1.85it/s]\n",
            "100%|██████████| 19/19 [00:05<00:00,  3.24it/s]\n"
          ]
        },
        {
          "output_type": "stream",
          "name": "stdout",
          "text": [
            "Accuracy: 27.73 - Loss: 0.014905188982804074 \n",
            "\n"
          ]
        },
        {
          "output_type": "stream",
          "name": "stderr",
          "text": [
            "100%|██████████| 16/16 [00:08<00:00,  1.83it/s]\n",
            "100%|██████████| 19/19 [00:05<00:00,  3.31it/s]\n"
          ]
        },
        {
          "output_type": "stream",
          "name": "stdout",
          "text": [
            "Accuracy: 26.58 - Loss: 0.014989774076605006 \n",
            "\n"
          ]
        },
        {
          "output_type": "stream",
          "name": "stderr",
          "text": [
            "100%|██████████| 16/16 [00:08<00:00,  1.83it/s]\n",
            "100%|██████████| 19/19 [00:06<00:00,  2.95it/s]\n"
          ]
        },
        {
          "output_type": "stream",
          "name": "stdout",
          "text": [
            "Accuracy: 27.43 - Loss: 0.015061188476484383 \n",
            "\n"
          ]
        },
        {
          "output_type": "stream",
          "name": "stderr",
          "text": [
            "100%|██████████| 16/16 [00:07<00:00,  2.02it/s]\n",
            "100%|██████████| 19/19 [00:06<00:00,  2.78it/s]\n"
          ]
        },
        {
          "output_type": "stream",
          "name": "stdout",
          "text": [
            "Accuracy: 28.54 - Loss: 0.014878498104245182 \n",
            "\n"
          ]
        },
        {
          "output_type": "stream",
          "name": "stderr",
          "text": [
            "100%|██████████| 16/16 [00:07<00:00,  2.08it/s]\n",
            "100%|██████████| 19/19 [00:06<00:00,  2.77it/s]\n"
          ]
        },
        {
          "output_type": "stream",
          "name": "stdout",
          "text": [
            "Accuracy: 27.60 - Loss: 0.015137093160746448 \n",
            "\n"
          ]
        },
        {
          "output_type": "stream",
          "name": "stderr",
          "text": [
            "100%|██████████| 16/16 [00:08<00:00,  1.91it/s]\n",
            "100%|██████████| 19/19 [00:06<00:00,  3.13it/s]\n"
          ]
        },
        {
          "output_type": "stream",
          "name": "stdout",
          "text": [
            "Accuracy: 28.84 - Loss: 0.014930871718979532 \n",
            "\n"
          ]
        },
        {
          "output_type": "stream",
          "name": "stderr",
          "text": [
            "100%|██████████| 16/16 [00:08<00:00,  1.82it/s]\n",
            "100%|██████████| 19/19 [00:05<00:00,  3.27it/s]\n"
          ]
        },
        {
          "output_type": "stream",
          "name": "stdout",
          "text": [
            "Accuracy: 28.88 - Loss: 0.015070707368769337 \n",
            "\n"
          ]
        },
        {
          "output_type": "stream",
          "name": "stderr",
          "text": [
            "100%|██████████| 16/16 [00:08<00:00,  1.81it/s]\n",
            "100%|██████████| 19/19 [00:05<00:00,  3.26it/s]\n"
          ]
        },
        {
          "output_type": "stream",
          "name": "stdout",
          "text": [
            "Accuracy: 29.05 - Loss: 0.015136095494947335 \n",
            "\n"
          ]
        },
        {
          "output_type": "stream",
          "name": "stderr",
          "text": [
            "100%|██████████| 16/16 [00:08<00:00,  1.81it/s]\n",
            "100%|██████████| 19/19 [00:06<00:00,  2.90it/s]\n"
          ]
        },
        {
          "output_type": "stream",
          "name": "stdout",
          "text": [
            "Accuracy: 29.69 - Loss: 0.015196352637668518 \n",
            "\n"
          ]
        },
        {
          "output_type": "stream",
          "name": "stderr",
          "text": [
            "100%|██████████| 16/16 [00:07<00:00,  2.06it/s]\n",
            "100%|██████████| 19/19 [00:06<00:00,  2.80it/s]\n"
          ]
        },
        {
          "output_type": "stream",
          "name": "stdout",
          "text": [
            "Accuracy: 28.71 - Loss: 0.015286511935471675 \n",
            "\n"
          ]
        },
        {
          "output_type": "stream",
          "name": "stderr",
          "text": [
            "100%|██████████| 16/16 [00:07<00:00,  2.07it/s]\n",
            "100%|██████████| 19/19 [00:06<00:00,  2.76it/s]\n"
          ]
        },
        {
          "output_type": "stream",
          "name": "stdout",
          "text": [
            "Accuracy: 28.92 - Loss: 0.015287848971402685 \n",
            "\n"
          ]
        },
        {
          "output_type": "stream",
          "name": "stderr",
          "text": [
            "100%|██████████| 16/16 [00:08<00:00,  1.86it/s]\n",
            "100%|██████████| 19/19 [00:05<00:00,  3.27it/s]\n"
          ]
        },
        {
          "output_type": "stream",
          "name": "stdout",
          "text": [
            "Accuracy: 28.84 - Loss: 0.015329694788610569 \n",
            "\n"
          ]
        },
        {
          "output_type": "stream",
          "name": "stderr",
          "text": [
            "100%|██████████| 16/16 [00:08<00:00,  1.82it/s]\n",
            "100%|██████████| 19/19 [00:05<00:00,  3.24it/s]\n"
          ]
        },
        {
          "output_type": "stream",
          "name": "stdout",
          "text": [
            "Accuracy: 31.10 - Loss: 0.015034173840955662 \n",
            "\n"
          ]
        },
        {
          "output_type": "stream",
          "name": "stderr",
          "text": [
            "100%|██████████| 16/16 [00:08<00:00,  1.82it/s]\n",
            "100%|██████████| 19/19 [00:05<00:00,  3.26it/s]\n"
          ]
        },
        {
          "output_type": "stream",
          "name": "stdout",
          "text": [
            "Accuracy: 30.72 - Loss: 0.015112234819871166 \n",
            "\n"
          ]
        },
        {
          "output_type": "stream",
          "name": "stderr",
          "text": [
            "100%|██████████| 16/16 [00:08<00:00,  1.83it/s]\n",
            "100%|██████████| 19/19 [00:06<00:00,  2.85it/s]\n"
          ]
        },
        {
          "output_type": "stream",
          "name": "stdout",
          "text": [
            "Accuracy: 29.35 - Loss: 0.01547192698249231 \n",
            "\n"
          ]
        },
        {
          "output_type": "stream",
          "name": "stderr",
          "text": [
            "100%|██████████| 16/16 [00:07<00:00,  2.07it/s]\n",
            "100%|██████████| 19/19 [00:06<00:00,  2.79it/s]\n"
          ]
        },
        {
          "output_type": "stream",
          "name": "stdout",
          "text": [
            "Accuracy: 30.84 - Loss: 0.015026683184880853 \n",
            "\n"
          ]
        },
        {
          "output_type": "stream",
          "name": "stderr",
          "text": [
            "100%|██████████| 16/16 [00:07<00:00,  2.05it/s]\n",
            "100%|██████████| 19/19 [00:06<00:00,  2.78it/s]\n"
          ]
        },
        {
          "output_type": "stream",
          "name": "stdout",
          "text": [
            "Accuracy: 29.99 - Loss: 0.015242361879999727 \n",
            "\n"
          ]
        },
        {
          "output_type": "stream",
          "name": "stderr",
          "text": [
            "100%|██████████| 16/16 [00:08<00:00,  1.83it/s]\n",
            "100%|██████████| 19/19 [00:05<00:00,  3.30it/s]\n"
          ]
        },
        {
          "output_type": "stream",
          "name": "stdout",
          "text": [
            "Accuracy: 31.23 - Loss: 0.015442668679631203 \n",
            "\n"
          ]
        },
        {
          "output_type": "stream",
          "name": "stderr",
          "text": [
            "100%|██████████| 16/16 [00:08<00:00,  1.85it/s]\n",
            "100%|██████████| 19/19 [00:05<00:00,  3.24it/s]\n"
          ]
        },
        {
          "output_type": "stream",
          "name": "stdout",
          "text": [
            "Accuracy: 31.31 - Loss: 0.01516007344673925 \n",
            "\n"
          ]
        },
        {
          "output_type": "stream",
          "name": "stderr",
          "text": [
            "100%|██████████| 16/16 [00:08<00:00,  1.82it/s]\n",
            "100%|██████████| 19/19 [00:05<00:00,  3.22it/s]\n"
          ]
        },
        {
          "output_type": "stream",
          "name": "stdout",
          "text": [
            "Accuracy: 31.66 - Loss: 0.01515457557940239 \n",
            "\n"
          ]
        },
        {
          "output_type": "stream",
          "name": "stderr",
          "text": [
            "100%|██████████| 16/16 [00:08<00:00,  1.89it/s]\n",
            "100%|██████████| 19/19 [00:06<00:00,  2.77it/s]\n"
          ]
        },
        {
          "output_type": "stream",
          "name": "stdout",
          "text": [
            "Accuracy: 31.44 - Loss: 0.015261291643865279 \n",
            "\n"
          ]
        },
        {
          "output_type": "stream",
          "name": "stderr",
          "text": [
            "100%|██████████| 16/16 [00:07<00:00,  2.06it/s]\n",
            "100%|██████████| 19/19 [00:06<00:00,  2.80it/s]\n"
          ]
        },
        {
          "output_type": "stream",
          "name": "stdout",
          "text": [
            "Accuracy: 29.86 - Loss: 0.015250779968072937 \n",
            "\n"
          ]
        },
        {
          "output_type": "stream",
          "name": "stderr",
          "text": [
            "100%|██████████| 16/16 [00:07<00:00,  2.02it/s]\n",
            "100%|██████████| 19/19 [00:06<00:00,  2.86it/s]\n"
          ]
        },
        {
          "output_type": "stream",
          "name": "stdout",
          "text": [
            "Accuracy: 30.63 - Loss: 0.015301098900850315 \n",
            "\n"
          ]
        },
        {
          "output_type": "stream",
          "name": "stderr",
          "text": [
            "100%|██████████| 16/16 [00:08<00:00,  1.81it/s]\n",
            "100%|██████████| 19/19 [00:05<00:00,  3.28it/s]\n"
          ]
        },
        {
          "output_type": "stream",
          "name": "stdout",
          "text": [
            "Accuracy: 31.10 - Loss: 0.015274142852822262 \n",
            "\n"
          ]
        },
        {
          "output_type": "stream",
          "name": "stderr",
          "text": [
            "100%|██████████| 16/16 [00:08<00:00,  1.81it/s]\n",
            "100%|██████████| 19/19 [00:05<00:00,  3.28it/s]\n"
          ]
        },
        {
          "output_type": "stream",
          "name": "stdout",
          "text": [
            "Accuracy: 31.48 - Loss: 0.015209068312173004 \n",
            "\n"
          ]
        }
      ],
      "source": [
        "warnings.filterwarnings('ignore', category=UserWarning)\n",
        "\n",
        "# Parse arguments\n",
        "conf = { # Art Painting -> Cartoon\n",
        "    'seed': 0,\n",
        "    'test_only': False,\n",
        "    'cpu': False,\n",
        "    'experiment': 'random',\n",
        "    'experiment_name': '1_3_1',\n",
        "    'experiment_args': {'module_placement': ['layer1.0.conv1', 'layer1.1.conv2', 'layer2.1.conv1', 'layer3.0.conv2', 'layer4.0.conv1', 'layer4.1.conv2'], 'mask_out_ratio': 0.1},\n",
        "    'dataset_args': {'text_root': 'data', 'images_root': 'data/kfold/PACS', 'source_domain': 'art_painting', 'target_domain': 'cartoon' },\n",
        "    'batch_size': 128,\n",
        "    'epochs': 30,\n",
        "    'num_workers': 5,\n",
        "    'grad_accum_steps': 1\n",
        "}\n",
        "\n",
        "#args = parse_arguments()\n",
        "args = argparse.Namespace(**conf)\n",
        "print(args)\n",
        "CONFIG.update(vars(args))\n",
        "\n",
        "# Setup output directory\n",
        "CONFIG.save_dir = os.path.join('record', CONFIG.experiment_name)\n",
        "os.makedirs(CONFIG.save_dir, exist_ok=True)\n",
        "\n",
        "# Setup logging\n",
        "logging.basicConfig(\n",
        "    filename=os.path.join(CONFIG.save_dir, 'log.txt'),\n",
        "    format='%(message)s',\n",
        "    level=logging.INFO,\n",
        "    filemode='a'\n",
        ")\n",
        "\n",
        "# Set experiment's device & deterministic behavior\n",
        "if CONFIG.cpu:\n",
        "    CONFIG.device = 'cpu'\n",
        "else:\n",
        "    CONFIG.device = 'cuda' if torch.cuda.is_available() else 'cpu'\n",
        "\n",
        "torch.manual_seed(CONFIG.seed)\n",
        "random.seed(CONFIG.seed)\n",
        "np.random.seed(CONFIG.seed)\n",
        "torch.backends.cudnn.benchmark = True\n",
        "torch.use_deterministic_algorithms(mode=True, warn_only=True)\n",
        "\n",
        "main()"
      ]
    },
    {
      "cell_type": "markdown",
      "metadata": {
        "id": "AxISz6ktsEWv"
      },
      "source": [
        "#### 1.3.2 - Art Painting &rightarrow; Sketch"
      ]
    },
    {
      "cell_type": "code",
      "execution_count": 24,
      "metadata": {
        "colab": {
          "base_uri": "https://localhost:8080/"
        },
        "id": "QKSj0X7tsEWv",
        "outputId": "fe2fbeb4-1f0e-4571-ab43-881de2e7a055"
      },
      "outputs": [
        {
          "output_type": "stream",
          "name": "stdout",
          "text": [
            "Namespace(seed=0, test_only=False, cpu=False, experiment='random', experiment_name='1_3_2', experiment_args={'module_placement': ['layer1.0.conv1', 'layer1.1.conv2', 'layer2.1.conv1', 'layer3.0.conv2', 'layer4.0.conv1', 'layer4.1.conv2'], 'mask_out_ratio': 0.1}, dataset_args={'text_root': 'data', 'images_root': 'data/kfold/PACS', 'source_domain': 'art_painting', 'target_domain': 'sketch'}, batch_size=128, epochs=30, num_workers=5, grad_accum_steps=1)\n",
            "mask_out_ratio:  0.1\n",
            "layer_name layer1.0.conv1 random_mask sum():  tensor(180587., device='cuda:0')\n",
            "Insert activation shaping layer after  layer1.0.conv1 Conv2d(64, 64, kernel_size=(3, 3), stride=(1, 1), padding=(1, 1), bias=False)\n",
            "mask_out_ratio:  0.1\n",
            "layer_name layer1.1.conv2 random_mask sum():  tensor(180685., device='cuda:0')\n",
            "Insert activation shaping layer after  layer1.1.conv2 Conv2d(64, 64, kernel_size=(3, 3), stride=(1, 1), padding=(1, 1), bias=False)\n",
            "mask_out_ratio:  0.1\n",
            "layer_name layer2.1.conv1 random_mask sum():  tensor(90235., device='cuda:0')\n",
            "Insert activation shaping layer after  layer2.1.conv1 Conv2d(128, 128, kernel_size=(3, 3), stride=(1, 1), padding=(1, 1), bias=False)\n",
            "mask_out_ratio:  0.1\n",
            "layer_name layer3.0.conv2 random_mask sum():  tensor(45126., device='cuda:0')\n",
            "Insert activation shaping layer after  layer3.0.conv2 Conv2d(256, 256, kernel_size=(3, 3), stride=(1, 1), padding=(1, 1), bias=False)\n",
            "mask_out_ratio:  0.1\n",
            "layer_name layer4.0.conv1 random_mask sum():  tensor(22587., device='cuda:0')\n",
            "Insert activation shaping layer after  layer4.0.conv1 Conv2d(256, 512, kernel_size=(3, 3), stride=(2, 2), padding=(1, 1), bias=False)\n",
            "mask_out_ratio:  0.1\n",
            "layer_name layer4.1.conv2 random_mask sum():  tensor(22498., device='cuda:0')\n",
            "Insert activation shaping layer after  layer4.1.conv2 Conv2d(512, 512, kernel_size=(3, 3), stride=(1, 1), padding=(1, 1), bias=False)\n"
          ]
        },
        {
          "output_type": "stream",
          "name": "stderr",
          "text": [
            "100%|██████████| 16/16 [00:09<00:00,  1.73it/s]\n",
            "100%|██████████| 31/31 [00:11<00:00,  2.64it/s]\n"
          ]
        },
        {
          "output_type": "stream",
          "name": "stdout",
          "text": [
            "Accuracy: 16.80 - Loss: 0.01707930205644436 \n",
            "\n"
          ]
        },
        {
          "output_type": "stream",
          "name": "stderr",
          "text": [
            "100%|██████████| 16/16 [00:08<00:00,  1.81it/s]\n",
            "100%|██████████| 31/31 [00:10<00:00,  2.90it/s]\n"
          ]
        },
        {
          "output_type": "stream",
          "name": "stdout",
          "text": [
            "Accuracy: 17.49 - Loss: 0.015850286503182806 \n",
            "\n"
          ]
        },
        {
          "output_type": "stream",
          "name": "stderr",
          "text": [
            "100%|██████████| 16/16 [00:07<00:00,  2.00it/s]\n",
            "100%|██████████| 31/31 [00:10<00:00,  2.82it/s]\n"
          ]
        },
        {
          "output_type": "stream",
          "name": "stdout",
          "text": [
            "Accuracy: 20.46 - Loss: 0.015104137567746848 \n",
            "\n"
          ]
        },
        {
          "output_type": "stream",
          "name": "stderr",
          "text": [
            "100%|██████████| 16/16 [00:08<00:00,  1.81it/s]\n",
            "100%|██████████| 31/31 [00:11<00:00,  2.67it/s]\n"
          ]
        },
        {
          "output_type": "stream",
          "name": "stdout",
          "text": [
            "Accuracy: 18.94 - Loss: 0.015200715903624169 \n",
            "\n"
          ]
        },
        {
          "output_type": "stream",
          "name": "stderr",
          "text": [
            "100%|██████████| 16/16 [00:08<00:00,  1.87it/s]\n",
            "100%|██████████| 31/31 [00:11<00:00,  2.81it/s]\n"
          ]
        },
        {
          "output_type": "stream",
          "name": "stdout",
          "text": [
            "Accuracy: 18.43 - Loss: 0.014929522628182217 \n",
            "\n"
          ]
        },
        {
          "output_type": "stream",
          "name": "stderr",
          "text": [
            "100%|██████████| 16/16 [00:08<00:00,  1.85it/s]\n",
            "100%|██████████| 31/31 [00:10<00:00,  2.82it/s]\n"
          ]
        },
        {
          "output_type": "stream",
          "name": "stdout",
          "text": [
            "Accuracy: 18.63 - Loss: 0.014745111288263404 \n",
            "\n"
          ]
        },
        {
          "output_type": "stream",
          "name": "stderr",
          "text": [
            "100%|██████████| 16/16 [00:07<00:00,  2.05it/s]\n",
            "100%|██████████| 31/31 [00:11<00:00,  2.80it/s]\n"
          ]
        },
        {
          "output_type": "stream",
          "name": "stdout",
          "text": [
            "Accuracy: 21.02 - Loss: 0.014856446757211003 \n",
            "\n"
          ]
        },
        {
          "output_type": "stream",
          "name": "stderr",
          "text": [
            "100%|██████████| 16/16 [00:08<00:00,  1.82it/s]\n",
            "100%|██████████| 31/31 [00:11<00:00,  2.81it/s]\n"
          ]
        },
        {
          "output_type": "stream",
          "name": "stdout",
          "text": [
            "Accuracy: 20.92 - Loss: 0.014797774548141001 \n",
            "\n"
          ]
        },
        {
          "output_type": "stream",
          "name": "stderr",
          "text": [
            "100%|██████████| 16/16 [00:07<00:00,  2.08it/s]\n",
            "100%|██████████| 31/31 [00:11<00:00,  2.81it/s]\n"
          ]
        },
        {
          "output_type": "stream",
          "name": "stdout",
          "text": [
            "Accuracy: 21.12 - Loss: 0.014710402482640321 \n",
            "\n"
          ]
        },
        {
          "output_type": "stream",
          "name": "stderr",
          "text": [
            "100%|██████████| 16/16 [00:08<00:00,  1.82it/s]\n",
            "100%|██████████| 31/31 [00:11<00:00,  2.82it/s]\n"
          ]
        },
        {
          "output_type": "stream",
          "name": "stdout",
          "text": [
            "Accuracy: 22.17 - Loss: 0.014700475555851005 \n",
            "\n"
          ]
        },
        {
          "output_type": "stream",
          "name": "stderr",
          "text": [
            "100%|██████████| 16/16 [00:07<00:00,  2.04it/s]\n",
            "100%|██████████| 31/31 [00:10<00:00,  2.82it/s]\n"
          ]
        },
        {
          "output_type": "stream",
          "name": "stdout",
          "text": [
            "Accuracy: 22.65 - Loss: 0.014656991562973181 \n",
            "\n"
          ]
        },
        {
          "output_type": "stream",
          "name": "stderr",
          "text": [
            "100%|██████████| 16/16 [00:08<00:00,  1.81it/s]\n",
            "100%|██████████| 31/31 [00:11<00:00,  2.81it/s]\n"
          ]
        },
        {
          "output_type": "stream",
          "name": "stdout",
          "text": [
            "Accuracy: 21.10 - Loss: 0.014854868121594988 \n",
            "\n"
          ]
        },
        {
          "output_type": "stream",
          "name": "stderr",
          "text": [
            "100%|██████████| 16/16 [00:07<00:00,  2.07it/s]\n",
            "100%|██████████| 31/31 [00:11<00:00,  2.78it/s]\n"
          ]
        },
        {
          "output_type": "stream",
          "name": "stdout",
          "text": [
            "Accuracy: 22.65 - Loss: 0.01472507344763162 \n",
            "\n"
          ]
        },
        {
          "output_type": "stream",
          "name": "stderr",
          "text": [
            "100%|██████████| 16/16 [00:08<00:00,  1.80it/s]\n",
            "100%|██████████| 31/31 [00:11<00:00,  2.80it/s]\n"
          ]
        },
        {
          "output_type": "stream",
          "name": "stdout",
          "text": [
            "Accuracy: 24.18 - Loss: 0.014629989217698468 \n",
            "\n"
          ]
        },
        {
          "output_type": "stream",
          "name": "stderr",
          "text": [
            "100%|██████████| 16/16 [00:08<00:00,  1.97it/s]\n",
            "100%|██████████| 31/31 [00:10<00:00,  2.93it/s]\n"
          ]
        },
        {
          "output_type": "stream",
          "name": "stdout",
          "text": [
            "Accuracy: 22.50 - Loss: 0.014715781858720437 \n",
            "\n"
          ]
        },
        {
          "output_type": "stream",
          "name": "stderr",
          "text": [
            "100%|██████████| 16/16 [00:08<00:00,  1.80it/s]\n",
            "100%|██████████| 31/31 [00:11<00:00,  2.81it/s]\n"
          ]
        },
        {
          "output_type": "stream",
          "name": "stdout",
          "text": [
            "Accuracy: 23.72 - Loss: 0.014673606771098715 \n",
            "\n"
          ]
        },
        {
          "output_type": "stream",
          "name": "stderr",
          "text": [
            "100%|██████████| 16/16 [00:08<00:00,  1.84it/s]\n",
            "100%|██████████| 31/31 [00:09<00:00,  3.11it/s]\n"
          ]
        },
        {
          "output_type": "stream",
          "name": "stdout",
          "text": [
            "Accuracy: 23.03 - Loss: 0.014779923252854283 \n",
            "\n"
          ]
        },
        {
          "output_type": "stream",
          "name": "stderr",
          "text": [
            "100%|██████████| 16/16 [00:08<00:00,  1.84it/s]\n",
            "100%|██████████| 31/31 [00:11<00:00,  2.78it/s]\n"
          ]
        },
        {
          "output_type": "stream",
          "name": "stdout",
          "text": [
            "Accuracy: 21.53 - Loss: 0.014735754527157273 \n",
            "\n"
          ]
        },
        {
          "output_type": "stream",
          "name": "stderr",
          "text": [
            "100%|██████████| 16/16 [00:08<00:00,  1.84it/s]\n",
            "100%|██████████| 31/31 [00:10<00:00,  3.04it/s]\n"
          ]
        },
        {
          "output_type": "stream",
          "name": "stdout",
          "text": [
            "Accuracy: 23.21 - Loss: 0.014685731833446538 \n",
            "\n"
          ]
        },
        {
          "output_type": "stream",
          "name": "stderr",
          "text": [
            "100%|██████████| 16/16 [00:08<00:00,  1.90it/s]\n",
            "100%|██████████| 31/31 [00:11<00:00,  2.81it/s]\n"
          ]
        },
        {
          "output_type": "stream",
          "name": "stdout",
          "text": [
            "Accuracy: 23.87 - Loss: 0.014734494592070003 \n",
            "\n"
          ]
        },
        {
          "output_type": "stream",
          "name": "stderr",
          "text": [
            "100%|██████████| 16/16 [00:08<00:00,  1.82it/s]\n",
            "100%|██████████| 31/31 [00:10<00:00,  2.91it/s]\n"
          ]
        },
        {
          "output_type": "stream",
          "name": "stdout",
          "text": [
            "Accuracy: 23.95 - Loss: 0.014530798593347811 \n",
            "\n"
          ]
        },
        {
          "output_type": "stream",
          "name": "stderr",
          "text": [
            "100%|██████████| 16/16 [00:08<00:00,  1.99it/s]\n",
            "100%|██████████| 31/31 [00:11<00:00,  2.82it/s]\n"
          ]
        },
        {
          "output_type": "stream",
          "name": "stdout",
          "text": [
            "Accuracy: 23.67 - Loss: 0.014600898631506824 \n",
            "\n"
          ]
        },
        {
          "output_type": "stream",
          "name": "stderr",
          "text": [
            "100%|██████████| 16/16 [00:08<00:00,  1.80it/s]\n",
            "100%|██████████| 31/31 [00:11<00:00,  2.79it/s]\n"
          ]
        },
        {
          "output_type": "stream",
          "name": "stdout",
          "text": [
            "Accuracy: 24.26 - Loss: 0.014645511790309798 \n",
            "\n"
          ]
        },
        {
          "output_type": "stream",
          "name": "stderr",
          "text": [
            "100%|██████████| 16/16 [00:07<00:00,  2.07it/s]\n",
            "100%|██████████| 31/31 [00:11<00:00,  2.77it/s]\n"
          ]
        },
        {
          "output_type": "stream",
          "name": "stdout",
          "text": [
            "Accuracy: 23.92 - Loss: 0.01469801903741904 \n",
            "\n"
          ]
        },
        {
          "output_type": "stream",
          "name": "stderr",
          "text": [
            "100%|██████████| 16/16 [00:08<00:00,  1.81it/s]\n",
            "100%|██████████| 31/31 [00:11<00:00,  2.81it/s]\n"
          ]
        },
        {
          "output_type": "stream",
          "name": "stdout",
          "text": [
            "Accuracy: 25.17 - Loss: 0.014606250822164837 \n",
            "\n"
          ]
        },
        {
          "output_type": "stream",
          "name": "stderr",
          "text": [
            "100%|██████████| 16/16 [00:07<00:00,  2.05it/s]\n",
            "100%|██████████| 31/31 [00:10<00:00,  2.82it/s]\n"
          ]
        },
        {
          "output_type": "stream",
          "name": "stdout",
          "text": [
            "Accuracy: 24.03 - Loss: 0.014613930764590307 \n",
            "\n"
          ]
        },
        {
          "output_type": "stream",
          "name": "stderr",
          "text": [
            "100%|██████████| 16/16 [00:08<00:00,  1.81it/s]\n",
            "100%|██████████| 31/31 [00:11<00:00,  2.80it/s]\n"
          ]
        },
        {
          "output_type": "stream",
          "name": "stdout",
          "text": [
            "Accuracy: 23.47 - Loss: 0.014679407703266643 \n",
            "\n"
          ]
        },
        {
          "output_type": "stream",
          "name": "stderr",
          "text": [
            "100%|██████████| 16/16 [00:07<00:00,  2.07it/s]\n",
            "100%|██████████| 31/31 [00:11<00:00,  2.82it/s]\n"
          ]
        },
        {
          "output_type": "stream",
          "name": "stdout",
          "text": [
            "Accuracy: 24.61 - Loss: 0.014571800945550923 \n",
            "\n"
          ]
        },
        {
          "output_type": "stream",
          "name": "stderr",
          "text": [
            "100%|██████████| 16/16 [00:08<00:00,  1.81it/s]\n",
            "100%|██████████| 31/31 [00:11<00:00,  2.81it/s]\n"
          ]
        },
        {
          "output_type": "stream",
          "name": "stdout",
          "text": [
            "Accuracy: 23.19 - Loss: 0.01471752136164447 \n",
            "\n"
          ]
        },
        {
          "output_type": "stream",
          "name": "stderr",
          "text": [
            "100%|██████████| 16/16 [00:07<00:00,  2.05it/s]\n",
            "100%|██████████| 31/31 [00:10<00:00,  2.85it/s]\n"
          ]
        },
        {
          "output_type": "stream",
          "name": "stdout",
          "text": [
            "Accuracy: 23.11 - Loss: 0.014602089328722178 \n",
            "\n"
          ]
        }
      ],
      "source": [
        "warnings.filterwarnings('ignore', category=UserWarning)\n",
        "\n",
        "# Parse arguments\n",
        "conf = { # Art Painting -> Sketch\n",
        "    'seed': 0,\n",
        "    'test_only': False,\n",
        "    'cpu': False,\n",
        "    'experiment': 'random',\n",
        "    'experiment_name': '1_3_2',\n",
        "    'experiment_args': {'module_placement': ['layer1.0.conv1', 'layer1.1.conv2', 'layer2.1.conv1', 'layer3.0.conv2', 'layer4.0.conv1', 'layer4.1.conv2'], 'mask_out_ratio': 0.1},\n",
        "    'dataset_args': {'text_root': 'data', 'images_root': 'data/kfold/PACS', 'source_domain': 'art_painting', 'target_domain': 'sketch' },\n",
        "    'batch_size': 128,\n",
        "    'epochs': 30,\n",
        "    'num_workers': 5,\n",
        "    'grad_accum_steps': 1\n",
        "}\n",
        "\n",
        "#args = parse_arguments()\n",
        "args = argparse.Namespace(**conf)\n",
        "print(args)\n",
        "CONFIG.update(vars(args))\n",
        "\n",
        "# Setup output directory\n",
        "CONFIG.save_dir = os.path.join('record', CONFIG.experiment_name)\n",
        "os.makedirs(CONFIG.save_dir, exist_ok=True)\n",
        "\n",
        "# Setup logging\n",
        "logging.basicConfig(\n",
        "    filename=os.path.join(CONFIG.save_dir, 'log.txt'),\n",
        "    format='%(message)s',\n",
        "    level=logging.INFO,\n",
        "    filemode='a'\n",
        ")\n",
        "\n",
        "# Set experiment's device & deterministic behavior\n",
        "if CONFIG.cpu:\n",
        "    CONFIG.device = 'cpu'\n",
        "else:\n",
        "    CONFIG.device = 'cuda' if torch.cuda.is_available() else 'cpu'\n",
        "\n",
        "torch.manual_seed(CONFIG.seed)\n",
        "random.seed(CONFIG.seed)\n",
        "np.random.seed(CONFIG.seed)\n",
        "torch.backends.cudnn.benchmark = True\n",
        "torch.use_deterministic_algorithms(mode=True, warn_only=True)\n",
        "\n",
        "main()"
      ]
    },
    {
      "cell_type": "markdown",
      "metadata": {
        "id": "XErVzWO-sEWw"
      },
      "source": [
        "#### 1.3.3 - Art Painting &rightarrow; Photo"
      ]
    },
    {
      "cell_type": "code",
      "execution_count": 25,
      "metadata": {
        "colab": {
          "base_uri": "https://localhost:8080/"
        },
        "id": "x9axeiS9sEWw",
        "outputId": "ce89c865-fb21-4f57-da03-0948f3870df9"
      },
      "outputs": [
        {
          "output_type": "stream",
          "name": "stdout",
          "text": [
            "Namespace(seed=0, test_only=False, cpu=False, experiment='random', experiment_name='1_3_3', experiment_args={'module_placement': ['layer1.0.conv1', 'layer1.1.conv2', 'layer2.1.conv1', 'layer3.0.conv2', 'layer4.0.conv1', 'layer4.1.conv2'], 'mask_out_ratio': 0.1}, dataset_args={'text_root': 'data', 'images_root': 'data/kfold/PACS', 'source_domain': 'art_painting', 'target_domain': 'photo'}, batch_size=128, epochs=30, num_workers=5, grad_accum_steps=1)\n",
            "mask_out_ratio:  0.1\n",
            "layer_name layer1.0.conv1 random_mask sum():  tensor(180587., device='cuda:0')\n",
            "Insert activation shaping layer after  layer1.0.conv1 Conv2d(64, 64, kernel_size=(3, 3), stride=(1, 1), padding=(1, 1), bias=False)\n",
            "mask_out_ratio:  0.1\n",
            "layer_name layer1.1.conv2 random_mask sum():  tensor(180685., device='cuda:0')\n",
            "Insert activation shaping layer after  layer1.1.conv2 Conv2d(64, 64, kernel_size=(3, 3), stride=(1, 1), padding=(1, 1), bias=False)\n",
            "mask_out_ratio:  0.1\n",
            "layer_name layer2.1.conv1 random_mask sum():  tensor(90235., device='cuda:0')\n",
            "Insert activation shaping layer after  layer2.1.conv1 Conv2d(128, 128, kernel_size=(3, 3), stride=(1, 1), padding=(1, 1), bias=False)\n",
            "mask_out_ratio:  0.1\n",
            "layer_name layer3.0.conv2 random_mask sum():  tensor(45126., device='cuda:0')\n",
            "Insert activation shaping layer after  layer3.0.conv2 Conv2d(256, 256, kernel_size=(3, 3), stride=(1, 1), padding=(1, 1), bias=False)\n",
            "mask_out_ratio:  0.1\n",
            "layer_name layer4.0.conv1 random_mask sum():  tensor(22587., device='cuda:0')\n",
            "Insert activation shaping layer after  layer4.0.conv1 Conv2d(256, 512, kernel_size=(3, 3), stride=(2, 2), padding=(1, 1), bias=False)\n",
            "mask_out_ratio:  0.1\n",
            "layer_name layer4.1.conv2 random_mask sum():  tensor(22498., device='cuda:0')\n",
            "Insert activation shaping layer after  layer4.1.conv2 Conv2d(512, 512, kernel_size=(3, 3), stride=(1, 1), padding=(1, 1), bias=False)\n"
          ]
        },
        {
          "output_type": "stream",
          "name": "stderr",
          "text": [
            "100%|██████████| 16/16 [00:09<00:00,  1.72it/s]\n",
            "100%|██████████| 14/14 [00:05<00:00,  2.63it/s]\n"
          ]
        },
        {
          "output_type": "stream",
          "name": "stdout",
          "text": [
            "Accuracy: 14.07 - Loss: 0.017098118016819753 \n",
            "\n"
          ]
        },
        {
          "output_type": "stream",
          "name": "stderr",
          "text": [
            "100%|██████████| 16/16 [00:08<00:00,  1.92it/s]\n",
            "100%|██████████| 14/14 [00:04<00:00,  2.81it/s]\n"
          ]
        },
        {
          "output_type": "stream",
          "name": "stdout",
          "text": [
            "Accuracy: 34.31 - Loss: 0.014474241390913547 \n",
            "\n"
          ]
        },
        {
          "output_type": "stream",
          "name": "stderr",
          "text": [
            "100%|██████████| 16/16 [00:08<00:00,  1.97it/s]\n",
            "100%|██████████| 14/14 [00:05<00:00,  2.67it/s]\n"
          ]
        },
        {
          "output_type": "stream",
          "name": "stdout",
          "text": [
            "Accuracy: 48.92 - Loss: 0.013241599990936097 \n",
            "\n"
          ]
        },
        {
          "output_type": "stream",
          "name": "stderr",
          "text": [
            "100%|██████████| 16/16 [00:07<00:00,  2.08it/s]\n",
            "100%|██████████| 14/14 [00:05<00:00,  2.63it/s]\n"
          ]
        },
        {
          "output_type": "stream",
          "name": "stdout",
          "text": [
            "Accuracy: 49.16 - Loss: 0.012501781714890532 \n",
            "\n"
          ]
        },
        {
          "output_type": "stream",
          "name": "stderr",
          "text": [
            "100%|██████████| 16/16 [00:07<00:00,  2.07it/s]\n",
            "100%|██████████| 14/14 [00:05<00:00,  2.61it/s]\n"
          ]
        },
        {
          "output_type": "stream",
          "name": "stdout",
          "text": [
            "Accuracy: 52.63 - Loss: 0.011905828171861386 \n",
            "\n"
          ]
        },
        {
          "output_type": "stream",
          "name": "stderr",
          "text": [
            "100%|██████████| 16/16 [00:08<00:00,  1.85it/s]\n",
            "100%|██████████| 14/14 [00:05<00:00,  2.46it/s]\n"
          ]
        },
        {
          "output_type": "stream",
          "name": "stdout",
          "text": [
            "Accuracy: 55.69 - Loss: 0.01138301249035818 \n",
            "\n"
          ]
        },
        {
          "output_type": "stream",
          "name": "stderr",
          "text": [
            "100%|██████████| 16/16 [00:07<00:00,  2.07it/s]\n",
            "100%|██████████| 14/14 [00:05<00:00,  2.65it/s]\n"
          ]
        },
        {
          "output_type": "stream",
          "name": "stdout",
          "text": [
            "Accuracy: 54.07 - Loss: 0.011087373345198031 \n",
            "\n"
          ]
        },
        {
          "output_type": "stream",
          "name": "stderr",
          "text": [
            "100%|██████████| 16/16 [00:07<00:00,  2.06it/s]\n",
            "100%|██████████| 14/14 [00:05<00:00,  2.73it/s]\n"
          ]
        },
        {
          "output_type": "stream",
          "name": "stdout",
          "text": [
            "Accuracy: 57.66 - Loss: 0.01059352423616512 \n",
            "\n"
          ]
        },
        {
          "output_type": "stream",
          "name": "stderr",
          "text": [
            "100%|██████████| 16/16 [00:07<00:00,  2.03it/s]\n",
            "100%|██████████| 14/14 [00:04<00:00,  2.82it/s]\n"
          ]
        },
        {
          "output_type": "stream",
          "name": "stdout",
          "text": [
            "Accuracy: 57.72 - Loss: 0.010282923504264055 \n",
            "\n"
          ]
        },
        {
          "output_type": "stream",
          "name": "stderr",
          "text": [
            "100%|██████████| 16/16 [00:08<00:00,  1.94it/s]\n",
            "100%|██████████| 14/14 [00:04<00:00,  3.05it/s]\n"
          ]
        },
        {
          "output_type": "stream",
          "name": "stdout",
          "text": [
            "Accuracy: 58.56 - Loss: 0.009928337257065458 \n",
            "\n"
          ]
        },
        {
          "output_type": "stream",
          "name": "stderr",
          "text": [
            "100%|██████████| 16/16 [00:08<00:00,  1.91it/s]\n",
            "100%|██████████| 14/14 [00:04<00:00,  3.14it/s]\n"
          ]
        },
        {
          "output_type": "stream",
          "name": "stdout",
          "text": [
            "Accuracy: 58.68 - Loss: 0.009833029894057863 \n",
            "\n"
          ]
        },
        {
          "output_type": "stream",
          "name": "stderr",
          "text": [
            "100%|██████████| 16/16 [00:08<00:00,  1.86it/s]\n",
            "100%|██████████| 14/14 [00:04<00:00,  3.33it/s]\n"
          ]
        },
        {
          "output_type": "stream",
          "name": "stdout",
          "text": [
            "Accuracy: 58.50 - Loss: 0.009609400583598429 \n",
            "\n"
          ]
        },
        {
          "output_type": "stream",
          "name": "stderr",
          "text": [
            "100%|██████████| 16/16 [00:08<00:00,  1.85it/s]\n",
            "100%|██████████| 14/14 [00:04<00:00,  3.29it/s]\n"
          ]
        },
        {
          "output_type": "stream",
          "name": "stdout",
          "text": [
            "Accuracy: 62.81 - Loss: 0.009314243201010241 \n",
            "\n"
          ]
        },
        {
          "output_type": "stream",
          "name": "stderr",
          "text": [
            "100%|██████████| 16/16 [00:08<00:00,  1.82it/s]\n",
            "100%|██████████| 14/14 [00:04<00:00,  3.26it/s]\n"
          ]
        },
        {
          "output_type": "stream",
          "name": "stdout",
          "text": [
            "Accuracy: 61.74 - Loss: 0.009214825972825467 \n",
            "\n"
          ]
        },
        {
          "output_type": "stream",
          "name": "stderr",
          "text": [
            "100%|██████████| 16/16 [00:08<00:00,  1.83it/s]\n",
            "100%|██████████| 14/14 [00:04<00:00,  3.24it/s]\n"
          ]
        },
        {
          "output_type": "stream",
          "name": "stdout",
          "text": [
            "Accuracy: 62.46 - Loss: 0.009031930583679747 \n",
            "\n"
          ]
        },
        {
          "output_type": "stream",
          "name": "stderr",
          "text": [
            "100%|██████████| 16/16 [00:08<00:00,  1.83it/s]\n",
            "100%|██████████| 14/14 [00:04<00:00,  3.29it/s]\n"
          ]
        },
        {
          "output_type": "stream",
          "name": "stdout",
          "text": [
            "Accuracy: 65.15 - Loss: 0.008817203565985856 \n",
            "\n"
          ]
        },
        {
          "output_type": "stream",
          "name": "stderr",
          "text": [
            "100%|██████████| 16/16 [00:08<00:00,  1.82it/s]\n",
            "100%|██████████| 14/14 [00:04<00:00,  3.27it/s]\n"
          ]
        },
        {
          "output_type": "stream",
          "name": "stdout",
          "text": [
            "Accuracy: 63.47 - Loss: 0.008704980565402321 \n",
            "\n"
          ]
        },
        {
          "output_type": "stream",
          "name": "stderr",
          "text": [
            "100%|██████████| 16/16 [00:08<00:00,  1.82it/s]\n",
            "100%|██████████| 14/14 [00:04<00:00,  3.27it/s]\n"
          ]
        },
        {
          "output_type": "stream",
          "name": "stdout",
          "text": [
            "Accuracy: 62.81 - Loss: 0.008758040691564183 \n",
            "\n"
          ]
        },
        {
          "output_type": "stream",
          "name": "stderr",
          "text": [
            "100%|██████████| 16/16 [00:08<00:00,  1.82it/s]\n",
            "100%|██████████| 14/14 [00:04<00:00,  3.27it/s]\n"
          ]
        },
        {
          "output_type": "stream",
          "name": "stdout",
          "text": [
            "Accuracy: 65.27 - Loss: 0.008471138284591858 \n",
            "\n"
          ]
        },
        {
          "output_type": "stream",
          "name": "stderr",
          "text": [
            "100%|██████████| 16/16 [00:08<00:00,  1.84it/s]\n",
            "100%|██████████| 14/14 [00:04<00:00,  3.29it/s]\n"
          ]
        },
        {
          "output_type": "stream",
          "name": "stdout",
          "text": [
            "Accuracy: 65.33 - Loss: 0.008494554718811356 \n",
            "\n"
          ]
        },
        {
          "output_type": "stream",
          "name": "stderr",
          "text": [
            "100%|██████████| 16/16 [00:08<00:00,  1.80it/s]\n",
            "100%|██████████| 14/14 [00:04<00:00,  3.21it/s]\n"
          ]
        },
        {
          "output_type": "stream",
          "name": "stdout",
          "text": [
            "Accuracy: 66.23 - Loss: 0.008401373599817652 \n",
            "\n"
          ]
        },
        {
          "output_type": "stream",
          "name": "stderr",
          "text": [
            "100%|██████████| 16/16 [00:08<00:00,  1.82it/s]\n",
            "100%|██████████| 14/14 [00:04<00:00,  3.30it/s]\n"
          ]
        },
        {
          "output_type": "stream",
          "name": "stdout",
          "text": [
            "Accuracy: 65.63 - Loss: 0.00821773201048731 \n",
            "\n"
          ]
        },
        {
          "output_type": "stream",
          "name": "stderr",
          "text": [
            "100%|██████████| 16/16 [00:08<00:00,  1.82it/s]\n",
            "100%|██████████| 14/14 [00:04<00:00,  3.26it/s]\n"
          ]
        },
        {
          "output_type": "stream",
          "name": "stdout",
          "text": [
            "Accuracy: 66.35 - Loss: 0.008058995508148285 \n",
            "\n"
          ]
        },
        {
          "output_type": "stream",
          "name": "stderr",
          "text": [
            "100%|██████████| 16/16 [00:08<00:00,  1.82it/s]\n",
            "100%|██████████| 14/14 [00:04<00:00,  3.24it/s]\n"
          ]
        },
        {
          "output_type": "stream",
          "name": "stdout",
          "text": [
            "Accuracy: 64.31 - Loss: 0.008180683315871004 \n",
            "\n"
          ]
        },
        {
          "output_type": "stream",
          "name": "stderr",
          "text": [
            "100%|██████████| 16/16 [00:08<00:00,  1.82it/s]\n",
            "100%|██████████| 14/14 [00:04<00:00,  3.19it/s]\n"
          ]
        },
        {
          "output_type": "stream",
          "name": "stdout",
          "text": [
            "Accuracy: 66.05 - Loss: 0.008139842552339245 \n",
            "\n"
          ]
        },
        {
          "output_type": "stream",
          "name": "stderr",
          "text": [
            "100%|██████████| 16/16 [00:08<00:00,  1.86it/s]\n",
            "100%|██████████| 14/14 [00:04<00:00,  3.02it/s]\n"
          ]
        },
        {
          "output_type": "stream",
          "name": "stdout",
          "text": [
            "Accuracy: 66.83 - Loss: 0.008008975807778136 \n",
            "\n"
          ]
        },
        {
          "output_type": "stream",
          "name": "stderr",
          "text": [
            "100%|██████████| 16/16 [00:08<00:00,  1.94it/s]\n",
            "100%|██████████| 14/14 [00:04<00:00,  2.92it/s]\n"
          ]
        },
        {
          "output_type": "stream",
          "name": "stdout",
          "text": [
            "Accuracy: 66.35 - Loss: 0.007955402796139974 \n",
            "\n"
          ]
        },
        {
          "output_type": "stream",
          "name": "stderr",
          "text": [
            "100%|██████████| 16/16 [00:08<00:00,  1.97it/s]\n",
            "100%|██████████| 14/14 [00:05<00:00,  2.72it/s]\n"
          ]
        },
        {
          "output_type": "stream",
          "name": "stdout",
          "text": [
            "Accuracy: 65.93 - Loss: 0.0080231504525967 \n",
            "\n"
          ]
        },
        {
          "output_type": "stream",
          "name": "stderr",
          "text": [
            "100%|██████████| 16/16 [00:07<00:00,  2.03it/s]\n",
            "100%|██████████| 14/14 [00:05<00:00,  2.65it/s]\n"
          ]
        },
        {
          "output_type": "stream",
          "name": "stdout",
          "text": [
            "Accuracy: 66.41 - Loss: 0.008023632643465511 \n",
            "\n"
          ]
        },
        {
          "output_type": "stream",
          "name": "stderr",
          "text": [
            "100%|██████████| 16/16 [00:07<00:00,  2.06it/s]\n",
            "100%|██████████| 14/14 [00:05<00:00,  2.62it/s]\n"
          ]
        },
        {
          "output_type": "stream",
          "name": "stdout",
          "text": [
            "Accuracy: 66.41 - Loss: 0.007960782490090695 \n",
            "\n"
          ]
        }
      ],
      "source": [
        "warnings.filterwarnings('ignore', category=UserWarning)\n",
        "\n",
        "# Parse arguments\n",
        "conf = { # Art Painting -> Photo\n",
        "    'seed': 0,\n",
        "    'test_only': False,\n",
        "    'cpu': False,\n",
        "    'experiment': 'random',\n",
        "    'experiment_name': '1_3_3',\n",
        "    'experiment_args': {'module_placement': ['layer1.0.conv1', 'layer1.1.conv2', 'layer2.1.conv1', 'layer3.0.conv2', 'layer4.0.conv1', 'layer4.1.conv2'], 'mask_out_ratio': 0.1},\n",
        "    'dataset_args': {'text_root': 'data', 'images_root': 'data/kfold/PACS', 'source_domain': 'art_painting', 'target_domain': 'photo' },\n",
        "    'batch_size': 128,\n",
        "    'epochs': 30,\n",
        "    'num_workers': 5,\n",
        "    'grad_accum_steps': 1\n",
        "}\n",
        "\n",
        "#args = parse_arguments()\n",
        "args = argparse.Namespace(**conf)\n",
        "print(args)\n",
        "CONFIG.update(vars(args))\n",
        "\n",
        "# Setup output directory\n",
        "CONFIG.save_dir = os.path.join('record', CONFIG.experiment_name)\n",
        "os.makedirs(CONFIG.save_dir, exist_ok=True)\n",
        "\n",
        "# Setup logging\n",
        "logging.basicConfig(\n",
        "    filename=os.path.join(CONFIG.save_dir, 'log.txt'),\n",
        "    format='%(message)s',\n",
        "    level=logging.INFO,\n",
        "    filemode='a'\n",
        ")\n",
        "\n",
        "# Set experiment's device & deterministic behavior\n",
        "if CONFIG.cpu:\n",
        "    CONFIG.device = 'cpu'\n",
        "else:\n",
        "    CONFIG.device = 'cuda' if torch.cuda.is_available() else 'cpu'\n",
        "\n",
        "torch.manual_seed(CONFIG.seed)\n",
        "random.seed(CONFIG.seed)\n",
        "np.random.seed(CONFIG.seed)\n",
        "torch.backends.cudnn.benchmark = True\n",
        "torch.use_deterministic_algorithms(mode=True, warn_only=True)\n",
        "\n",
        "main()"
      ]
    },
    {
      "cell_type": "markdown",
      "metadata": {
        "id": "34WzO42cvmv3"
      },
      "source": [
        "## 2 - Random Activation Maps"
      ]
    },
    {
      "cell_type": "markdown",
      "metadata": {
        "id": "cW9o5ZrKsEWw"
      },
      "source": [
        "### 2.1 - ASH module after last convolutional layer"
      ]
    },
    {
      "cell_type": "markdown",
      "metadata": {
        "id": "tghdhpgDsEWx"
      },
      "source": [
        "#### 2.1.1 - Art Painting &rightarrow; Cartoon, mor = 0.4"
      ]
    },
    {
      "cell_type": "code",
      "execution_count": null,
      "metadata": {
        "id": "mN_GBtDUsEWx"
      },
      "outputs": [],
      "source": [
        "warnings.filterwarnings('ignore', category=UserWarning)\n",
        "\n",
        "# Parse arguments\n",
        "conf = { # Art Painting -> Cartoon\n",
        "    'seed': 0,\n",
        "    'test_only': False,\n",
        "    'cpu': False,\n",
        "    'experiment': 'random',\n",
        "    'experiment_name': '2_1_1',\n",
        "    'experiment_args': {'module_placement': ['layer4.1.conv2'], 'mask_out_ratio': 0.4},\n",
        "    'dataset_args': {'text_root': 'data', 'images_root': 'data/kfold/PACS', 'source_domain': 'art_painting', 'target_domain': 'cartoon' },\n",
        "    'batch_size': 128,\n",
        "    'epochs': 30,\n",
        "    'num_workers': 5,\n",
        "    'grad_accum_steps': 1\n",
        "}\n",
        "\n",
        "#args = parse_arguments()\n",
        "args = argparse.Namespace(**conf)\n",
        "print(args)\n",
        "CONFIG.update(vars(args))\n",
        "\n",
        "# Setup output directory\n",
        "CONFIG.save_dir = os.path.join('record', CONFIG.experiment_name)\n",
        "os.makedirs(CONFIG.save_dir, exist_ok=True)\n",
        "\n",
        "# Setup logging\n",
        "logging.basicConfig(\n",
        "    filename=os.path.join(CONFIG.save_dir, 'log.txt'),\n",
        "    format='%(message)s',\n",
        "    level=logging.INFO,\n",
        "    filemode='a'\n",
        ")\n",
        "\n",
        "# Set experiment's device & deterministic behavior\n",
        "if CONFIG.cpu:\n",
        "    CONFIG.device = 'cpu'\n",
        "else:\n",
        "    CONFIG.device = 'cuda' if torch.cuda.is_available() else 'cpu'\n",
        "\n",
        "torch.manual_seed(CONFIG.seed)\n",
        "random.seed(CONFIG.seed)\n",
        "np.random.seed(CONFIG.seed)\n",
        "torch.backends.cudnn.benchmark = True\n",
        "torch.use_deterministic_algorithms(mode=True, warn_only=True)\n",
        "\n",
        "main()"
      ]
    },
    {
      "cell_type": "markdown",
      "metadata": {
        "id": "qF8PdqYwsEWx"
      },
      "source": [
        "#### 2.1.2 - Art Painting &rightarrow; Sketch, mor = 0.4"
      ]
    },
    {
      "cell_type": "code",
      "execution_count": null,
      "metadata": {
        "id": "RHjSq6cusEWx"
      },
      "outputs": [],
      "source": [
        "warnings.filterwarnings('ignore', category=UserWarning)\n",
        "\n",
        "# Parse arguments\n",
        "conf = { # Art Painting -> Sketch\n",
        "    'seed': 0,\n",
        "    'test_only': False,\n",
        "    'cpu': False,\n",
        "    'experiment': 'random',\n",
        "    'experiment_name': '2_1_2',\n",
        "    'experiment_args': {'module_placement': ['layer4.1.conv2'], 'mask_out_ratio': 0.4},\n",
        "    'dataset_args': {'text_root': 'data', 'images_root': 'data/kfold/PACS', 'source_domain': 'art_painting', 'target_domain': 'sketch' },\n",
        "    'batch_size': 128,\n",
        "    'epochs': 30,\n",
        "    'num_workers': 5,\n",
        "    'grad_accum_steps': 1\n",
        "}\n",
        "\n",
        "#args = parse_arguments()\n",
        "args = argparse.Namespace(**conf)\n",
        "print(args)\n",
        "CONFIG.update(vars(args))\n",
        "\n",
        "# Setup output directory\n",
        "CONFIG.save_dir = os.path.join('record', CONFIG.experiment_name)\n",
        "os.makedirs(CONFIG.save_dir, exist_ok=True)\n",
        "\n",
        "# Setup logging\n",
        "logging.basicConfig(\n",
        "    filename=os.path.join(CONFIG.save_dir, 'log.txt'),\n",
        "    format='%(message)s',\n",
        "    level=logging.INFO,\n",
        "    filemode='a'\n",
        ")\n",
        "\n",
        "# Set experiment's device & deterministic behavior\n",
        "if CONFIG.cpu:\n",
        "    CONFIG.device = 'cpu'\n",
        "else:\n",
        "    CONFIG.device = 'cuda' if torch.cuda.is_available() else 'cpu'\n",
        "\n",
        "torch.manual_seed(CONFIG.seed)\n",
        "random.seed(CONFIG.seed)\n",
        "np.random.seed(CONFIG.seed)\n",
        "torch.backends.cudnn.benchmark = True\n",
        "torch.use_deterministic_algorithms(mode=True, warn_only=True)\n",
        "\n",
        "main()"
      ]
    },
    {
      "cell_type": "markdown",
      "metadata": {
        "id": "knY8-51BsEWy"
      },
      "source": [
        "#### 2.1.3 - Art Painting &rightarrow; Photo, mor = 0.4"
      ]
    },
    {
      "cell_type": "code",
      "execution_count": null,
      "metadata": {
        "id": "bBCDyzWmsEWy"
      },
      "outputs": [],
      "source": [
        "warnings.filterwarnings('ignore', category=UserWarning)\n",
        "\n",
        "# Parse arguments\n",
        "conf = { # Art Painting -> Photo\n",
        "    'seed': 0,\n",
        "    'test_only': False,\n",
        "    'cpu': False,\n",
        "    'experiment': 'random',\n",
        "    'experiment_name': '2_1_3',\n",
        "    'experiment_args': {'module_placement': ['layer4.1.conv2'], 'mask_out_ratio': 0.4},\n",
        "    'dataset_args': {'text_root': 'data', 'images_root': 'data/kfold/PACS', 'source_domain': 'art_painting', 'target_domain': 'photo' },\n",
        "    'batch_size': 128,\n",
        "    'epochs': 30,\n",
        "    'num_workers': 5,\n",
        "    'grad_accum_steps': 1\n",
        "}\n",
        "\n",
        "#args = parse_arguments()\n",
        "args = argparse.Namespace(**conf)\n",
        "print(args)\n",
        "CONFIG.update(vars(args))\n",
        "\n",
        "# Setup output directory\n",
        "CONFIG.save_dir = os.path.join('record', CONFIG.experiment_name)\n",
        "os.makedirs(CONFIG.save_dir, exist_ok=True)\n",
        "\n",
        "# Setup logging\n",
        "logging.basicConfig(\n",
        "    filename=os.path.join(CONFIG.save_dir, 'log.txt'),\n",
        "    format='%(message)s',\n",
        "    level=logging.INFO,\n",
        "    filemode='a'\n",
        ")\n",
        "\n",
        "# Set experiment's device & deterministic behavior\n",
        "if CONFIG.cpu:\n",
        "    CONFIG.device = 'cpu'\n",
        "else:\n",
        "    CONFIG.device = 'cuda' if torch.cuda.is_available() else 'cpu'\n",
        "\n",
        "torch.manual_seed(CONFIG.seed)\n",
        "random.seed(CONFIG.seed)\n",
        "np.random.seed(CONFIG.seed)\n",
        "torch.backends.cudnn.benchmark = True\n",
        "torch.use_deterministic_algorithms(mode=True, warn_only=True)\n",
        "\n",
        "main()"
      ]
    },
    {
      "cell_type": "markdown",
      "metadata": {
        "id": "0dkyq2A6sEWy"
      },
      "source": [
        "#### 2.1.4 - Art Painting &rightarrow; Cartoon, mor = 0.55"
      ]
    },
    {
      "cell_type": "code",
      "execution_count": null,
      "metadata": {
        "id": "9M22YZuLsEWz"
      },
      "outputs": [],
      "source": [
        "warnings.filterwarnings('ignore', category=UserWarning)\n",
        "\n",
        "# Parse arguments\n",
        "conf = { # Art Painting -> Cartoon\n",
        "    'seed': 0,\n",
        "    'test_only': False,\n",
        "    'cpu': False,\n",
        "    'experiment': 'random',\n",
        "    'experiment_name': '2_1_4',\n",
        "    'experiment_args': {'module_placement': ['layer4.1.conv2'], 'mask_out_ratio': 0.55},\n",
        "    'dataset_args': {'text_root': 'data', 'images_root': 'data/kfold/PACS', 'source_domain': 'art_painting', 'target_domain': 'cartoon' },\n",
        "    'batch_size': 128,\n",
        "    'epochs': 30,\n",
        "    'num_workers': 5,\n",
        "    'grad_accum_steps': 1\n",
        "}\n",
        "\n",
        "#args = parse_arguments()\n",
        "args = argparse.Namespace(**conf)\n",
        "print(args)\n",
        "CONFIG.update(vars(args))\n",
        "\n",
        "# Setup output directory\n",
        "CONFIG.save_dir = os.path.join('record', CONFIG.experiment_name)\n",
        "os.makedirs(CONFIG.save_dir, exist_ok=True)\n",
        "\n",
        "# Setup logging\n",
        "logging.basicConfig(\n",
        "    filename=os.path.join(CONFIG.save_dir, 'log.txt'),\n",
        "    format='%(message)s',\n",
        "    level=logging.INFO,\n",
        "    filemode='a'\n",
        ")\n",
        "\n",
        "# Set experiment's device & deterministic behavior\n",
        "if CONFIG.cpu:\n",
        "    CONFIG.device = 'cpu'\n",
        "else:\n",
        "    CONFIG.device = 'cuda' if torch.cuda.is_available() else 'cpu'\n",
        "\n",
        "torch.manual_seed(CONFIG.seed)\n",
        "random.seed(CONFIG.seed)\n",
        "np.random.seed(CONFIG.seed)\n",
        "torch.backends.cudnn.benchmark = True\n",
        "torch.use_deterministic_algorithms(mode=True, warn_only=True)\n",
        "\n",
        "main()"
      ]
    },
    {
      "cell_type": "markdown",
      "metadata": {
        "id": "axsxww0csEWz"
      },
      "source": [
        "#### 2.1.5 - Art Painting &rightarrow; Sketch, mor = 0.55"
      ]
    },
    {
      "cell_type": "code",
      "execution_count": null,
      "metadata": {
        "id": "7Fte4-19sEWz"
      },
      "outputs": [],
      "source": [
        "warnings.filterwarnings('ignore', category=UserWarning)\n",
        "\n",
        "# Parse arguments\n",
        "conf = { # Art Painting -> Sketch\n",
        "    'seed': 0,\n",
        "    'test_only': False,\n",
        "    'cpu': False,\n",
        "    'experiment': 'random',\n",
        "    'experiment_name': '2_1_5',\n",
        "    'experiment_args': {'module_placement': ['layer4.1.conv2'], 'mask_out_ratio': 0.55},\n",
        "    'dataset_args': {'text_root': 'data', 'images_root': 'data/kfold/PACS', 'source_domain': 'art_painting', 'target_domain': 'sketch' },\n",
        "    'batch_size': 128,\n",
        "    'epochs': 30,\n",
        "    'num_workers': 5,\n",
        "    'grad_accum_steps': 1\n",
        "}\n",
        "\n",
        "#args = parse_arguments()\n",
        "args = argparse.Namespace(**conf)\n",
        "print(args)\n",
        "CONFIG.update(vars(args))\n",
        "\n",
        "# Setup output directory\n",
        "CONFIG.save_dir = os.path.join('record', CONFIG.experiment_name)\n",
        "os.makedirs(CONFIG.save_dir, exist_ok=True)\n",
        "\n",
        "# Setup logging\n",
        "logging.basicConfig(\n",
        "    filename=os.path.join(CONFIG.save_dir, 'log.txt'),\n",
        "    format='%(message)s',\n",
        "    level=logging.INFO,\n",
        "    filemode='a'\n",
        ")\n",
        "\n",
        "# Set experiment's device & deterministic behavior\n",
        "if CONFIG.cpu:\n",
        "    CONFIG.device = 'cpu'\n",
        "else:\n",
        "    CONFIG.device = 'cuda' if torch.cuda.is_available() else 'cpu'\n",
        "\n",
        "torch.manual_seed(CONFIG.seed)\n",
        "random.seed(CONFIG.seed)\n",
        "np.random.seed(CONFIG.seed)\n",
        "torch.backends.cudnn.benchmark = True\n",
        "torch.use_deterministic_algorithms(mode=True, warn_only=True)\n",
        "\n",
        "main()"
      ]
    },
    {
      "cell_type": "markdown",
      "metadata": {
        "id": "ekTWncxdsEWz"
      },
      "source": [
        "#### 2.1.6 - Art Painting &rightarrow; Photo, mor = 0.55"
      ]
    },
    {
      "cell_type": "code",
      "execution_count": null,
      "metadata": {
        "id": "iNHeM-VesEWz"
      },
      "outputs": [],
      "source": [
        "warnings.filterwarnings('ignore', category=UserWarning)\n",
        "\n",
        "# Parse arguments\n",
        "conf = { # Art Painting -> Photo\n",
        "    'seed': 0,\n",
        "    'test_only': False,\n",
        "    'cpu': False,\n",
        "    'experiment': 'random',\n",
        "    'experiment_name': '2_1_6',\n",
        "    'experiment_args': {'module_placement': ['layer4.1.conv2'], 'mask_out_ratio': 0.55},\n",
        "    'dataset_args': {'text_root': 'data', 'images_root': 'data/kfold/PACS', 'source_domain': 'art_painting', 'target_domain': 'photo' },\n",
        "    'batch_size': 128,\n",
        "    'epochs': 30,\n",
        "    'num_workers': 5,\n",
        "    'grad_accum_steps': 1\n",
        "}\n",
        "\n",
        "#args = parse_arguments()\n",
        "args = argparse.Namespace(**conf)\n",
        "print(args)\n",
        "CONFIG.update(vars(args))\n",
        "\n",
        "# Setup output directory\n",
        "CONFIG.save_dir = os.path.join('record', CONFIG.experiment_name)\n",
        "os.makedirs(CONFIG.save_dir, exist_ok=True)\n",
        "\n",
        "# Setup logging\n",
        "logging.basicConfig(\n",
        "    filename=os.path.join(CONFIG.save_dir, 'log.txt'),\n",
        "    format='%(message)s',\n",
        "    level=logging.INFO,\n",
        "    filemode='a'\n",
        ")\n",
        "\n",
        "# Set experiment's device & deterministic behavior\n",
        "if CONFIG.cpu:\n",
        "    CONFIG.device = 'cpu'\n",
        "else:\n",
        "    CONFIG.device = 'cuda' if torch.cuda.is_available() else 'cpu'\n",
        "\n",
        "torch.manual_seed(CONFIG.seed)\n",
        "random.seed(CONFIG.seed)\n",
        "np.random.seed(CONFIG.seed)\n",
        "torch.backends.cudnn.benchmark = True\n",
        "torch.use_deterministic_algorithms(mode=True, warn_only=True)\n",
        "\n",
        "main()"
      ]
    },
    {
      "cell_type": "markdown",
      "metadata": {
        "id": "-YOZ9n9isEW0"
      },
      "source": [
        "#### 2.1.7 - Art Painting &rightarrow; Cartoon, mor = 0.75"
      ]
    },
    {
      "cell_type": "code",
      "execution_count": null,
      "metadata": {
        "id": "ZNZajM9PsEW0"
      },
      "outputs": [],
      "source": [
        "warnings.filterwarnings('ignore', category=UserWarning)\n",
        "\n",
        "# Parse arguments\n",
        "conf = { # Art Painting -> Cartoon\n",
        "    'seed': 0,\n",
        "    'test_only': False,\n",
        "    'cpu': False,\n",
        "    'experiment': 'random',\n",
        "    'experiment_name': '2_1_7',\n",
        "    'experiment_args': {'module_placement': ['layer4.1.conv2'], 'mask_out_ratio': 0.75},\n",
        "    'dataset_args': {'text_root': 'data', 'images_root': 'data/kfold/PACS', 'source_domain': 'art_painting', 'target_domain': 'cartoon' },\n",
        "    'batch_size': 128,\n",
        "    'epochs': 30,\n",
        "    'num_workers': 5,\n",
        "    'grad_accum_steps': 1\n",
        "}\n",
        "\n",
        "#args = parse_arguments()\n",
        "args = argparse.Namespace(**conf)\n",
        "print(args)\n",
        "CONFIG.update(vars(args))\n",
        "\n",
        "# Setup output directory\n",
        "CONFIG.save_dir = os.path.join('record', CONFIG.experiment_name)\n",
        "os.makedirs(CONFIG.save_dir, exist_ok=True)\n",
        "\n",
        "# Setup logging\n",
        "logging.basicConfig(\n",
        "    filename=os.path.join(CONFIG.save_dir, 'log.txt'),\n",
        "    format='%(message)s',\n",
        "    level=logging.INFO,\n",
        "    filemode='a'\n",
        ")\n",
        "\n",
        "# Set experiment's device & deterministic behavior\n",
        "if CONFIG.cpu:\n",
        "    CONFIG.device = 'cpu'\n",
        "else:\n",
        "    CONFIG.device = 'cuda' if torch.cuda.is_available() else 'cpu'\n",
        "\n",
        "torch.manual_seed(CONFIG.seed)\n",
        "random.seed(CONFIG.seed)\n",
        "np.random.seed(CONFIG.seed)\n",
        "torch.backends.cudnn.benchmark = True\n",
        "torch.use_deterministic_algorithms(mode=True, warn_only=True)\n",
        "\n",
        "main()"
      ]
    },
    {
      "cell_type": "markdown",
      "metadata": {
        "id": "MkiJVEHjsEW0"
      },
      "source": [
        "#### 2.1.8 - Art Painting &rightarrow; Sketch, mor = 0.75"
      ]
    },
    {
      "cell_type": "code",
      "execution_count": null,
      "metadata": {
        "id": "s0f66nlMsEW1"
      },
      "outputs": [],
      "source": [
        "warnings.filterwarnings('ignore', category=UserWarning)\n",
        "\n",
        "# Parse arguments\n",
        "conf = { # Art Painting -> Sketch\n",
        "    'seed': 0,\n",
        "    'test_only': False,\n",
        "    'cpu': False,\n",
        "    'experiment': 'random',\n",
        "    'experiment_name': '2_1_8',\n",
        "    'experiment_args': {'module_placement': ['layer4.1.conv2'], 'mask_out_ratio': 0.75},\n",
        "    'dataset_args': {'text_root': 'data', 'images_root': 'data/kfold/PACS', 'source_domain': 'art_painting', 'target_domain': 'sketch' },\n",
        "    'batch_size': 128,\n",
        "    'epochs': 30,\n",
        "    'num_workers': 5,\n",
        "    'grad_accum_steps': 1\n",
        "}\n",
        "\n",
        "#args = parse_arguments()\n",
        "args = argparse.Namespace(**conf)\n",
        "print(args)\n",
        "CONFIG.update(vars(args))\n",
        "\n",
        "# Setup output directory\n",
        "CONFIG.save_dir = os.path.join('record', CONFIG.experiment_name)\n",
        "os.makedirs(CONFIG.save_dir, exist_ok=True)\n",
        "\n",
        "# Setup logging\n",
        "logging.basicConfig(\n",
        "    filename=os.path.join(CONFIG.save_dir, 'log.txt'),\n",
        "    format='%(message)s',\n",
        "    level=logging.INFO,\n",
        "    filemode='a'\n",
        ")\n",
        "\n",
        "# Set experiment's device & deterministic behavior\n",
        "if CONFIG.cpu:\n",
        "    CONFIG.device = 'cpu'\n",
        "else:\n",
        "    CONFIG.device = 'cuda' if torch.cuda.is_available() else 'cpu'\n",
        "\n",
        "torch.manual_seed(CONFIG.seed)\n",
        "random.seed(CONFIG.seed)\n",
        "np.random.seed(CONFIG.seed)\n",
        "torch.backends.cudnn.benchmark = True\n",
        "torch.use_deterministic_algorithms(mode=True, warn_only=True)\n",
        "\n",
        "main()"
      ]
    },
    {
      "cell_type": "markdown",
      "metadata": {
        "id": "XmX2JPB-sEW1"
      },
      "source": [
        "#### 2.1.9 - Art Painting &rightarrow; Photo, mor = 0.75"
      ]
    },
    {
      "cell_type": "code",
      "execution_count": null,
      "metadata": {
        "id": "cKa-Mv55sEW1"
      },
      "outputs": [],
      "source": [
        "warnings.filterwarnings('ignore', category=UserWarning)\n",
        "\n",
        "# Parse arguments\n",
        "conf = { # Art Painting -> Photo\n",
        "    'seed': 0,\n",
        "    'test_only': False,\n",
        "    'cpu': False,\n",
        "    'experiment': 'random',\n",
        "    'experiment_name': '2_1_9',\n",
        "    'experiment_args': {'module_placement': ['layer4.1.conv2'], 'mask_out_ratio': 0.75},\n",
        "    'dataset_args': {'text_root': 'data', 'images_root': 'data/kfold/PACS', 'source_domain': 'art_painting', 'target_domain': 'photo' },\n",
        "    'batch_size': 128,\n",
        "    'epochs': 30,\n",
        "    'num_workers': 5,\n",
        "    'grad_accum_steps': 1\n",
        "}\n",
        "\n",
        "#args = parse_arguments()\n",
        "args = argparse.Namespace(**conf)\n",
        "print(args)\n",
        "CONFIG.update(vars(args))\n",
        "\n",
        "# Setup output directory\n",
        "CONFIG.save_dir = os.path.join('record', CONFIG.experiment_name)\n",
        "os.makedirs(CONFIG.save_dir, exist_ok=True)\n",
        "\n",
        "# Setup logging\n",
        "logging.basicConfig(\n",
        "    filename=os.path.join(CONFIG.save_dir, 'log.txt'),\n",
        "    format='%(message)s',\n",
        "    level=logging.INFO,\n",
        "    filemode='a'\n",
        ")\n",
        "\n",
        "# Set experiment's device & deterministic behavior\n",
        "if CONFIG.cpu:\n",
        "    CONFIG.device = 'cpu'\n",
        "else:\n",
        "    CONFIG.device = 'cuda' if torch.cuda.is_available() else 'cpu'\n",
        "\n",
        "torch.manual_seed(CONFIG.seed)\n",
        "random.seed(CONFIG.seed)\n",
        "np.random.seed(CONFIG.seed)\n",
        "torch.backends.cudnn.benchmark = True\n",
        "torch.use_deterministic_algorithms(mode=True, warn_only=True)\n",
        "\n",
        "main()"
      ]
    },
    {
      "cell_type": "markdown",
      "metadata": {
        "id": "mPrNxGszsEW1"
      },
      "source": [
        "### 2.2 - ASH module after every convolutional layer"
      ]
    },
    {
      "cell_type": "markdown",
      "metadata": {
        "id": "HldzZUmtsEW2"
      },
      "source": [
        "#### 2.2.1 - Art Painting &rightarrow; Cartoon, mor = 0.4"
      ]
    },
    {
      "cell_type": "code",
      "execution_count": null,
      "metadata": {
        "id": "7gRvpsTNsEW3"
      },
      "outputs": [],
      "source": [
        "warnings.filterwarnings('ignore', category=UserWarning)\n",
        "\n",
        "# Parse arguments\n",
        "conf = { # Art Painting -> Cartoon\n",
        "    'seed': 0,\n",
        "    'test_only': False,\n",
        "    'cpu': False,\n",
        "    'experiment': 'random',\n",
        "    'experiment_name': '2_2_1',\n",
        "    'experiment_args': {'module_placement': ['layer1.0.conv1', 'layer1.0.conv2', 'layer1.1.conv1', 'layer1.1.conv2', 'layer2.0.conv1', 'layer2.0.conv2', 'layer2.1.conv1', 'layer2.1.conv2', 'layer3.0.conv1', 'layer3.0.conv2', 'layer3.1.conv1', 'layer3.1.conv2', 'layer4.0.conv1', 'layer4.0.conv2', 'layer4.1.conv1', 'layer4.1.conv2'], 'mask_out_ratio': 0.4},\n",
        "    'dataset_args': {'text_root': 'data', 'images_root': 'data/kfold/PACS', 'source_domain': 'art_painting', 'target_domain': 'cartoon' },\n",
        "    'batch_size': 128,\n",
        "    'epochs': 30,\n",
        "    'num_workers': 5,\n",
        "    'grad_accum_steps': 1\n",
        "}\n",
        "\n",
        "#args = parse_arguments()\n",
        "args = argparse.Namespace(**conf)\n",
        "print(args)\n",
        "CONFIG.update(vars(args))\n",
        "\n",
        "# Setup output directory\n",
        "CONFIG.save_dir = os.path.join('record', CONFIG.experiment_name)\n",
        "os.makedirs(CONFIG.save_dir, exist_ok=True)\n",
        "\n",
        "# Setup logging\n",
        "logging.basicConfig(\n",
        "    filename=os.path.join(CONFIG.save_dir, 'log.txt'),\n",
        "    format='%(message)s',\n",
        "    level=logging.INFO,\n",
        "    filemode='a'\n",
        ")\n",
        "\n",
        "# Set experiment's device & deterministic behavior\n",
        "if CONFIG.cpu:\n",
        "    CONFIG.device = 'cpu'\n",
        "else:\n",
        "    CONFIG.device = 'cuda' if torch.cuda.is_available() else 'cpu'\n",
        "\n",
        "torch.manual_seed(CONFIG.seed)\n",
        "random.seed(CONFIG.seed)\n",
        "np.random.seed(CONFIG.seed)\n",
        "torch.backends.cudnn.benchmark = True\n",
        "torch.use_deterministic_algorithms(mode=True, warn_only=True)\n",
        "\n",
        "main()"
      ]
    },
    {
      "cell_type": "markdown",
      "metadata": {
        "id": "0RH2McD3sEW5"
      },
      "source": [
        "#### 2.2.2 - Art Painting &rightarrow; Sketch, mor = 0.4"
      ]
    },
    {
      "cell_type": "code",
      "execution_count": null,
      "metadata": {
        "id": "hfP3lynOsEW6"
      },
      "outputs": [],
      "source": [
        "warnings.filterwarnings('ignore', category=UserWarning)\n",
        "\n",
        "# Parse arguments\n",
        "conf = { # Art Painting -> Sketch\n",
        "    'seed': 0,\n",
        "    'test_only': False,\n",
        "    'cpu': False,\n",
        "    'experiment': 'random',\n",
        "    'experiment_name': '2_2_2',\n",
        "    'experiment_args': {'module_placement': ['layer1.0.conv1', 'layer1.0.conv2', 'layer1.1.conv1', 'layer1.1.conv2', 'layer2.0.conv1', 'layer2.0.conv2', 'layer2.1.conv1', 'layer2.1.conv2', 'layer3.0.conv1', 'layer3.0.conv2', 'layer3.1.conv1', 'layer3.1.conv2', 'layer4.0.conv1', 'layer4.0.conv2', 'layer4.1.conv1', 'layer4.1.conv2'], 'mask_out_ratio': 0.4},\n",
        "    'dataset_args': {'text_root': 'data', 'images_root': 'data/kfold/PACS', 'source_domain': 'art_painting', 'target_domain': 'sketch' },\n",
        "    'batch_size': 128,\n",
        "    'epochs': 30,\n",
        "    'num_workers': 5,\n",
        "    'grad_accum_steps': 1\n",
        "}\n",
        "\n",
        "#args = parse_arguments()\n",
        "args = argparse.Namespace(**conf)\n",
        "print(args)\n",
        "CONFIG.update(vars(args))\n",
        "\n",
        "# Setup output directory\n",
        "CONFIG.save_dir = os.path.join('record', CONFIG.experiment_name)\n",
        "os.makedirs(CONFIG.save_dir, exist_ok=True)\n",
        "\n",
        "# Setup logging\n",
        "logging.basicConfig(\n",
        "    filename=os.path.join(CONFIG.save_dir, 'log.txt'),\n",
        "    format='%(message)s',\n",
        "    level=logging.INFO,\n",
        "    filemode='a'\n",
        ")\n",
        "\n",
        "# Set experiment's device & deterministic behavior\n",
        "if CONFIG.cpu:\n",
        "    CONFIG.device = 'cpu'\n",
        "else:\n",
        "    CONFIG.device = 'cuda' if torch.cuda.is_available() else 'cpu'\n",
        "\n",
        "torch.manual_seed(CONFIG.seed)\n",
        "random.seed(CONFIG.seed)\n",
        "np.random.seed(CONFIG.seed)\n",
        "torch.backends.cudnn.benchmark = True\n",
        "torch.use_deterministic_algorithms(mode=True, warn_only=True)\n",
        "\n",
        "main()"
      ]
    },
    {
      "cell_type": "markdown",
      "metadata": {
        "id": "-vZ8vS-jsEW7"
      },
      "source": [
        "#### 2.2.3 - Art Painting &rightarrow; Photo, mor = 0.4"
      ]
    },
    {
      "cell_type": "code",
      "execution_count": null,
      "metadata": {
        "id": "sA3o7KHysEW7"
      },
      "outputs": [],
      "source": [
        "warnings.filterwarnings('ignore', category=UserWarning)\n",
        "\n",
        "# Parse arguments\n",
        "conf = { # Art Painting -> Photo\n",
        "    'seed': 0,\n",
        "    'test_only': False,\n",
        "    'cpu': False,\n",
        "    'experiment': 'random',\n",
        "    'experiment_name': '2_2_3',\n",
        "    'experiment_args': {'module_placement': ['layer1.0.conv1', 'layer1.0.conv2', 'layer1.1.conv1', 'layer1.1.conv2', 'layer2.0.conv1', 'layer2.0.conv2', 'layer2.1.conv1', 'layer2.1.conv2', 'layer3.0.conv1', 'layer3.0.conv2', 'layer3.1.conv1', 'layer3.1.conv2', 'layer4.0.conv1', 'layer4.0.conv2', 'layer4.1.conv1', 'layer4.1.conv2'], 'mask_out_ratio': 0.4},\n",
        "    'dataset_args': {'text_root': 'data', 'images_root': 'data/kfold/PACS', 'source_domain': 'art_painting', 'target_domain': 'photo' },\n",
        "    'batch_size': 128,\n",
        "    'epochs': 30,\n",
        "    'num_workers': 5,\n",
        "    'grad_accum_steps': 1\n",
        "}\n",
        "\n",
        "#args = parse_arguments()\n",
        "args = argparse.Namespace(**conf)\n",
        "print(args)\n",
        "CONFIG.update(vars(args))\n",
        "\n",
        "# Setup output directory\n",
        "CONFIG.save_dir = os.path.join('record', CONFIG.experiment_name)\n",
        "os.makedirs(CONFIG.save_dir, exist_ok=True)\n",
        "\n",
        "# Setup logging\n",
        "logging.basicConfig(\n",
        "    filename=os.path.join(CONFIG.save_dir, 'log.txt'),\n",
        "    format='%(message)s',\n",
        "    level=logging.INFO,\n",
        "    filemode='a'\n",
        ")\n",
        "\n",
        "# Set experiment's device & deterministic behavior\n",
        "if CONFIG.cpu:\n",
        "    CONFIG.device = 'cpu'\n",
        "else:\n",
        "    CONFIG.device = 'cuda' if torch.cuda.is_available() else 'cpu'\n",
        "\n",
        "torch.manual_seed(CONFIG.seed)\n",
        "random.seed(CONFIG.seed)\n",
        "np.random.seed(CONFIG.seed)\n",
        "torch.backends.cudnn.benchmark = True\n",
        "torch.use_deterministic_algorithms(mode=True, warn_only=True)\n",
        "\n",
        "main()"
      ]
    },
    {
      "cell_type": "markdown",
      "metadata": {
        "id": "9OvGtDuxsEW8"
      },
      "source": [
        "#### 2.2.4 - Art Painting &rightarrow; Cartoon, mor = 0.55"
      ]
    },
    {
      "cell_type": "code",
      "execution_count": null,
      "metadata": {
        "id": "_QQpDMk9sEW9"
      },
      "outputs": [],
      "source": [
        "warnings.filterwarnings('ignore', category=UserWarning)\n",
        "\n",
        "# Parse arguments\n",
        "conf = { # Art Painting -> Cartoon\n",
        "    'seed': 0,\n",
        "    'test_only': False,\n",
        "    'cpu': False,\n",
        "    'experiment': 'random',\n",
        "    'experiment_name': '2_2_4',\n",
        "    'experiment_args': {'module_placement': ['layer1.0.conv1', 'layer1.0.conv2', 'layer1.1.conv1', 'layer1.1.conv2', 'layer2.0.conv1', 'layer2.0.conv2', 'layer2.1.conv1', 'layer2.1.conv2', 'layer3.0.conv1', 'layer3.0.conv2', 'layer3.1.conv1', 'layer3.1.conv2', 'layer4.0.conv1', 'layer4.0.conv2', 'layer4.1.conv1', 'layer4.1.conv2'], 'mask_out_ratio': 0.55},\n",
        "    'dataset_args': {'text_root': 'data', 'images_root': 'data/kfold/PACS', 'source_domain': 'art_painting', 'target_domain': 'cartoon' },\n",
        "    'batch_size': 128,\n",
        "    'epochs': 30,\n",
        "    'num_workers': 5,\n",
        "    'grad_accum_steps': 1\n",
        "}\n",
        "\n",
        "#args = parse_arguments()\n",
        "args = argparse.Namespace(**conf)\n",
        "print(args)\n",
        "CONFIG.update(vars(args))\n",
        "\n",
        "# Setup output directory\n",
        "CONFIG.save_dir = os.path.join('record', CONFIG.experiment_name)\n",
        "os.makedirs(CONFIG.save_dir, exist_ok=True)\n",
        "\n",
        "# Setup logging\n",
        "logging.basicConfig(\n",
        "    filename=os.path.join(CONFIG.save_dir, 'log.txt'),\n",
        "    format='%(message)s',\n",
        "    level=logging.INFO,\n",
        "    filemode='a'\n",
        ")\n",
        "\n",
        "# Set experiment's device & deterministic behavior\n",
        "if CONFIG.cpu:\n",
        "    CONFIG.device = 'cpu'\n",
        "else:\n",
        "    CONFIG.device = 'cuda' if torch.cuda.is_available() else 'cpu'\n",
        "\n",
        "torch.manual_seed(CONFIG.seed)\n",
        "random.seed(CONFIG.seed)\n",
        "np.random.seed(CONFIG.seed)\n",
        "torch.backends.cudnn.benchmark = True\n",
        "torch.use_deterministic_algorithms(mode=True, warn_only=True)\n",
        "\n",
        "main()"
      ]
    },
    {
      "cell_type": "markdown",
      "metadata": {
        "id": "EmV1OHRlsEW9"
      },
      "source": [
        "#### 2.2.5 - Art Painting &rightarrow; Sketch, mor = 0.55"
      ]
    },
    {
      "cell_type": "code",
      "execution_count": null,
      "metadata": {
        "id": "q7Y4WVEgsEW9"
      },
      "outputs": [],
      "source": [
        "warnings.filterwarnings('ignore', category=UserWarning)\n",
        "\n",
        "# Parse arguments\n",
        "conf = { # Art Painting -> Sketch\n",
        "    'seed': 0,\n",
        "    'test_only': False,\n",
        "    'cpu': False,\n",
        "    'experiment': 'random',\n",
        "    'experiment_name': '2_2_5',\n",
        "    'experiment_args': {'module_placement': ['layer1.0.conv1', 'layer1.0.conv2', 'layer1.1.conv1', 'layer1.1.conv2', 'layer2.0.conv1', 'layer2.0.conv2', 'layer2.1.conv1', 'layer2.1.conv2', 'layer3.0.conv1', 'layer3.0.conv2', 'layer3.1.conv1', 'layer3.1.conv2', 'layer4.0.conv1', 'layer4.0.conv2', 'layer4.1.conv1', 'layer4.1.conv2'], 'mask_out_ratio': 0.55},\n",
        "    'dataset_args': {'text_root': 'data', 'images_root': 'data/kfold/PACS', 'source_domain': 'art_painting', 'target_domain': 'sketch' },\n",
        "    'batch_size': 128,\n",
        "    'epochs': 30,\n",
        "    'num_workers': 5,\n",
        "    'grad_accum_steps': 1\n",
        "}\n",
        "\n",
        "#args = parse_arguments()\n",
        "args = argparse.Namespace(**conf)\n",
        "print(args)\n",
        "CONFIG.update(vars(args))\n",
        "\n",
        "# Setup output directory\n",
        "CONFIG.save_dir = os.path.join('record', CONFIG.experiment_name)\n",
        "os.makedirs(CONFIG.save_dir, exist_ok=True)\n",
        "\n",
        "# Setup logging\n",
        "logging.basicConfig(\n",
        "    filename=os.path.join(CONFIG.save_dir, 'log.txt'),\n",
        "    format='%(message)s',\n",
        "    level=logging.INFO,\n",
        "    filemode='a'\n",
        ")\n",
        "\n",
        "# Set experiment's device & deterministic behavior\n",
        "if CONFIG.cpu:\n",
        "    CONFIG.device = 'cpu'\n",
        "else:\n",
        "    CONFIG.device = 'cuda' if torch.cuda.is_available() else 'cpu'\n",
        "\n",
        "torch.manual_seed(CONFIG.seed)\n",
        "random.seed(CONFIG.seed)\n",
        "np.random.seed(CONFIG.seed)\n",
        "torch.backends.cudnn.benchmark = True\n",
        "torch.use_deterministic_algorithms(mode=True, warn_only=True)\n",
        "\n",
        "main()"
      ]
    },
    {
      "cell_type": "markdown",
      "metadata": {
        "id": "ZNMhViXwsEW9"
      },
      "source": [
        "#### 2.2.6 - Art Painting &rightarrow; Photo, mor = 0.55"
      ]
    },
    {
      "cell_type": "code",
      "execution_count": null,
      "metadata": {
        "id": "24Zrs5rusEW-"
      },
      "outputs": [],
      "source": [
        "warnings.filterwarnings('ignore', category=UserWarning)\n",
        "\n",
        "# Parse arguments\n",
        "conf = { # Art Painting -> Photo\n",
        "    'seed': 0,\n",
        "    'test_only': False,\n",
        "    'cpu': False,\n",
        "    'experiment': 'random',\n",
        "    'experiment_name': '2_2_6',\n",
        "    'experiment_args': {'module_placement': ['layer1.0.conv1', 'layer1.0.conv2', 'layer1.1.conv1', 'layer1.1.conv2', 'layer2.0.conv1', 'layer2.0.conv2', 'layer2.1.conv1', 'layer2.1.conv2', 'layer3.0.conv1', 'layer3.0.conv2', 'layer3.1.conv1', 'layer3.1.conv2', 'layer4.0.conv1', 'layer4.0.conv2', 'layer4.1.conv1', 'layer4.1.conv2'], 'mask_out_ratio': 0.55},\n",
        "    'dataset_args': {'text_root': 'data', 'images_root': 'data/kfold/PACS', 'source_domain': 'art_painting', 'target_domain': 'photo' },\n",
        "    'batch_size': 128,\n",
        "    'epochs': 30,\n",
        "    'num_workers': 5,\n",
        "    'grad_accum_steps': 1\n",
        "}\n",
        "\n",
        "#args = parse_arguments()\n",
        "args = argparse.Namespace(**conf)\n",
        "print(args)\n",
        "CONFIG.update(vars(args))\n",
        "\n",
        "# Setup output directory\n",
        "CONFIG.save_dir = os.path.join('record', CONFIG.experiment_name)\n",
        "os.makedirs(CONFIG.save_dir, exist_ok=True)\n",
        "\n",
        "# Setup logging\n",
        "logging.basicConfig(\n",
        "    filename=os.path.join(CONFIG.save_dir, 'log.txt'),\n",
        "    format='%(message)s',\n",
        "    level=logging.INFO,\n",
        "    filemode='a'\n",
        ")\n",
        "\n",
        "# Set experiment's device & deterministic behavior\n",
        "if CONFIG.cpu:\n",
        "    CONFIG.device = 'cpu'\n",
        "else:\n",
        "    CONFIG.device = 'cuda' if torch.cuda.is_available() else 'cpu'\n",
        "\n",
        "torch.manual_seed(CONFIG.seed)\n",
        "random.seed(CONFIG.seed)\n",
        "np.random.seed(CONFIG.seed)\n",
        "torch.backends.cudnn.benchmark = True\n",
        "torch.use_deterministic_algorithms(mode=True, warn_only=True)\n",
        "\n",
        "main()"
      ]
    },
    {
      "cell_type": "markdown",
      "metadata": {
        "id": "fZxL0GhlsEW-"
      },
      "source": [
        "#### 2.2.7 - Art Painting &rightarrow; Cartoon, mor = 0.75"
      ]
    },
    {
      "cell_type": "code",
      "execution_count": null,
      "metadata": {
        "id": "8riwYck5sEW-"
      },
      "outputs": [],
      "source": [
        "warnings.filterwarnings('ignore', category=UserWarning)\n",
        "\n",
        "# Parse arguments\n",
        "conf = { # Art Painting -> Cartoon\n",
        "    'seed': 0,\n",
        "    'test_only': False,\n",
        "    'cpu': False,\n",
        "    'experiment': 'random',\n",
        "    'experiment_name': '2_2_7',\n",
        "    'experiment_args': {'module_placement': ['layer1.0.conv1', 'layer1.0.conv2', 'layer1.1.conv1', 'layer1.1.conv2', 'layer2.0.conv1', 'layer2.0.conv2', 'layer2.1.conv1', 'layer2.1.conv2', 'layer3.0.conv1', 'layer3.0.conv2', 'layer3.1.conv1', 'layer3.1.conv2', 'layer4.0.conv1', 'layer4.0.conv2', 'layer4.1.conv1', 'layer4.1.conv2'], 'mask_out_ratio': 0.75},\n",
        "    'dataset_args': {'text_root': 'data', 'images_root': 'data/kfold/PACS', 'source_domain': 'art_painting', 'target_domain': 'cartoon' },\n",
        "    'batch_size': 128,\n",
        "    'epochs': 30,\n",
        "    'num_workers': 5,\n",
        "    'grad_accum_steps': 1\n",
        "}\n",
        "\n",
        "#args = parse_arguments()\n",
        "args = argparse.Namespace(**conf)\n",
        "print(args)\n",
        "CONFIG.update(vars(args))\n",
        "\n",
        "# Setup output directory\n",
        "CONFIG.save_dir = os.path.join('record', CONFIG.experiment_name)\n",
        "os.makedirs(CONFIG.save_dir, exist_ok=True)\n",
        "\n",
        "# Setup logging\n",
        "logging.basicConfig(\n",
        "    filename=os.path.join(CONFIG.save_dir, 'log.txt'),\n",
        "    format='%(message)s',\n",
        "    level=logging.INFO,\n",
        "    filemode='a'\n",
        ")\n",
        "\n",
        "# Set experiment's device & deterministic behavior\n",
        "if CONFIG.cpu:\n",
        "    CONFIG.device = 'cpu'\n",
        "else:\n",
        "    CONFIG.device = 'cuda' if torch.cuda.is_available() else 'cpu'\n",
        "\n",
        "torch.manual_seed(CONFIG.seed)\n",
        "random.seed(CONFIG.seed)\n",
        "np.random.seed(CONFIG.seed)\n",
        "torch.backends.cudnn.benchmark = True\n",
        "torch.use_deterministic_algorithms(mode=True, warn_only=True)\n",
        "\n",
        "main()"
      ]
    },
    {
      "cell_type": "markdown",
      "metadata": {
        "id": "EebV1zbZsEW_"
      },
      "source": [
        "#### 2.2.8 - Art Painting &rightarrow; Sketch, mor = 0.75"
      ]
    },
    {
      "cell_type": "code",
      "execution_count": null,
      "metadata": {
        "id": "cyJ3fx3bsEW_"
      },
      "outputs": [],
      "source": [
        "warnings.filterwarnings('ignore', category=UserWarning)\n",
        "\n",
        "# Parse arguments\n",
        "conf = { # Art Painting -> Sketch\n",
        "    'seed': 0,\n",
        "    'test_only': False,\n",
        "    'cpu': False,\n",
        "    'experiment': 'random',\n",
        "    'experiment_name': '2_2_8',\n",
        "    'experiment_args': {'module_placement': ['layer1.0.conv1', 'layer1.0.conv2', 'layer1.1.conv1', 'layer1.1.conv2', 'layer2.0.conv1', 'layer2.0.conv2', 'layer2.1.conv1', 'layer2.1.conv2', 'layer3.0.conv1', 'layer3.0.conv2', 'layer3.1.conv1', 'layer3.1.conv2', 'layer4.0.conv1', 'layer4.0.conv2', 'layer4.1.conv1', 'layer4.1.conv2'], 'mask_out_ratio': 0.75},\n",
        "    'dataset_args': {'text_root': 'data', 'images_root': 'data/kfold/PACS', 'source_domain': 'art_painting', 'target_domain': 'sketch' },\n",
        "    'batch_size': 128,\n",
        "    'epochs': 30,\n",
        "    'num_workers': 5,\n",
        "    'grad_accum_steps': 1\n",
        "}\n",
        "\n",
        "#args = parse_arguments()\n",
        "args = argparse.Namespace(**conf)\n",
        "print(args)\n",
        "CONFIG.update(vars(args))\n",
        "\n",
        "# Setup output directory\n",
        "CONFIG.save_dir = os.path.join('record', CONFIG.experiment_name)\n",
        "os.makedirs(CONFIG.save_dir, exist_ok=True)\n",
        "\n",
        "# Setup logging\n",
        "logging.basicConfig(\n",
        "    filename=os.path.join(CONFIG.save_dir, 'log.txt'),\n",
        "    format='%(message)s',\n",
        "    level=logging.INFO,\n",
        "    filemode='a'\n",
        ")\n",
        "\n",
        "# Set experiment's device & deterministic behavior\n",
        "if CONFIG.cpu:\n",
        "    CONFIG.device = 'cpu'\n",
        "else:\n",
        "    CONFIG.device = 'cuda' if torch.cuda.is_available() else 'cpu'\n",
        "\n",
        "torch.manual_seed(CONFIG.seed)\n",
        "random.seed(CONFIG.seed)\n",
        "np.random.seed(CONFIG.seed)\n",
        "torch.backends.cudnn.benchmark = True\n",
        "torch.use_deterministic_algorithms(mode=True, warn_only=True)\n",
        "\n",
        "main()"
      ]
    },
    {
      "cell_type": "markdown",
      "metadata": {
        "id": "HMNqecXHsEXA"
      },
      "source": [
        "#### 2.2.9 - Art Painting &rightarrow; Photo, mor = 0.75"
      ]
    },
    {
      "cell_type": "code",
      "execution_count": null,
      "metadata": {
        "id": "Y5n2vYc4sEXA"
      },
      "outputs": [],
      "source": [
        "warnings.filterwarnings('ignore', category=UserWarning)\n",
        "\n",
        "# Parse arguments\n",
        "conf = { # Art Painting -> Photo\n",
        "    'seed': 0,\n",
        "    'test_only': False,\n",
        "    'cpu': False,\n",
        "    'experiment': 'random',\n",
        "    'experiment_name': '2_2_9',\n",
        "    'experiment_args': {'module_placement': ['layer1.0.conv1', 'layer1.0.conv2', 'layer1.1.conv1', 'layer1.1.conv2', 'layer2.0.conv1', 'layer2.0.conv2', 'layer2.1.conv1', 'layer2.1.conv2', 'layer3.0.conv1', 'layer3.0.conv2', 'layer3.1.conv1', 'layer3.1.conv2', 'layer4.0.conv1', 'layer4.0.conv2', 'layer4.1.conv1', 'layer4.1.conv2'], 'mask_out_ratio': 0.75},\n",
        "    'dataset_args': {'text_root': 'data', 'images_root': 'data/kfold/PACS', 'source_domain': 'art_painting', 'target_domain': 'photo' },\n",
        "    'batch_size': 128,\n",
        "    'epochs': 30,\n",
        "    'num_workers': 5,\n",
        "    'grad_accum_steps': 1\n",
        "}\n",
        "\n",
        "#args = parse_arguments()\n",
        "args = argparse.Namespace(**conf)\n",
        "print(args)\n",
        "CONFIG.update(vars(args))\n",
        "\n",
        "# Setup output directory\n",
        "CONFIG.save_dir = os.path.join('record', CONFIG.experiment_name)\n",
        "os.makedirs(CONFIG.save_dir, exist_ok=True)\n",
        "\n",
        "# Setup logging\n",
        "logging.basicConfig(\n",
        "    filename=os.path.join(CONFIG.save_dir, 'log.txt'),\n",
        "    format='%(message)s',\n",
        "    level=logging.INFO,\n",
        "    filemode='a'\n",
        ")\n",
        "\n",
        "# Set experiment's device & deterministic behavior\n",
        "if CONFIG.cpu:\n",
        "    CONFIG.device = 'cpu'\n",
        "else:\n",
        "    CONFIG.device = 'cuda' if torch.cuda.is_available() else 'cpu'\n",
        "\n",
        "torch.manual_seed(CONFIG.seed)\n",
        "random.seed(CONFIG.seed)\n",
        "np.random.seed(CONFIG.seed)\n",
        "torch.backends.cudnn.benchmark = True\n",
        "torch.use_deterministic_algorithms(mode=True, warn_only=True)\n",
        "\n",
        "main()"
      ]
    },
    {
      "cell_type": "markdown",
      "metadata": {
        "id": "LcDWAI6rsEXB"
      },
      "source": [
        "### 2.3 - ASH module after every three convolutional layers"
      ]
    },
    {
      "cell_type": "markdown",
      "metadata": {
        "id": "jeOHKMsSsEXC"
      },
      "source": [
        "#### 2.3.1 - Art Painting &rightarrow; Cartoon, mor = 0.4"
      ]
    },
    {
      "cell_type": "code",
      "execution_count": null,
      "metadata": {
        "id": "eQSHsBlWsEXC"
      },
      "outputs": [],
      "source": [
        "warnings.filterwarnings('ignore', category=UserWarning)\n",
        "\n",
        "# Parse arguments\n",
        "conf = { # Art Painting -> Cartoon\n",
        "    'seed': 0,\n",
        "    'test_only': False,\n",
        "    'cpu': False,\n",
        "    'experiment': 'random',\n",
        "    'experiment_name': '2_3_1',\n",
        "    'experiment_args': {'module_placement': ['layer1.0.conv1', 'layer1.1.conv2', 'layer2.1.conv1', 'layer3.0.conv2', 'layer4.0.conv1', 'layer4.1.conv2'], 'mask_out_ratio': 0.4},\n",
        "    'dataset_args': {'text_root': 'data', 'images_root': 'data/kfold/PACS', 'source_domain': 'art_painting', 'target_domain': 'cartoon' },\n",
        "    'batch_size': 128,\n",
        "    'epochs': 30,\n",
        "    'num_workers': 5,\n",
        "    'grad_accum_steps': 1\n",
        "}\n",
        "\n",
        "#args = parse_arguments()\n",
        "args = argparse.Namespace(**conf)\n",
        "print(args)\n",
        "CONFIG.update(vars(args))\n",
        "\n",
        "# Setup output directory\n",
        "CONFIG.save_dir = os.path.join('record', CONFIG.experiment_name)\n",
        "os.makedirs(CONFIG.save_dir, exist_ok=True)\n",
        "\n",
        "# Setup logging\n",
        "logging.basicConfig(\n",
        "    filename=os.path.join(CONFIG.save_dir, 'log.txt'),\n",
        "    format='%(message)s',\n",
        "    level=logging.INFO,\n",
        "    filemode='a'\n",
        ")\n",
        "\n",
        "# Set experiment's device & deterministic behavior\n",
        "if CONFIG.cpu:\n",
        "    CONFIG.device = 'cpu'\n",
        "else:\n",
        "    CONFIG.device = 'cuda' if torch.cuda.is_available() else 'cpu'\n",
        "\n",
        "torch.manual_seed(CONFIG.seed)\n",
        "random.seed(CONFIG.seed)\n",
        "np.random.seed(CONFIG.seed)\n",
        "torch.backends.cudnn.benchmark = True\n",
        "torch.use_deterministic_algorithms(mode=True, warn_only=True)\n",
        "\n",
        "main()"
      ]
    },
    {
      "cell_type": "markdown",
      "metadata": {
        "id": "AwLViFhHsEXD"
      },
      "source": [
        "#### 2.3.2 - Art Painting &rightarrow; Sketch, mor = 0.4"
      ]
    },
    {
      "cell_type": "code",
      "execution_count": null,
      "metadata": {
        "id": "lbewhpCbsEXD"
      },
      "outputs": [],
      "source": [
        "warnings.filterwarnings('ignore', category=UserWarning)\n",
        "\n",
        "# Parse arguments\n",
        "conf = { # Art Painting -> Sketch\n",
        "    'seed': 0,\n",
        "    'test_only': False,\n",
        "    'cpu': False,\n",
        "    'experiment': 'random',\n",
        "    'experiment_name': '2_3_2',\n",
        "    'experiment_args': {'module_placement': ['layer1.0.conv1', 'layer1.1.conv2', 'layer2.1.conv1', 'layer3.0.conv2', 'layer4.0.conv1', 'layer4.1.conv2'], 'mask_out_ratio': 0.4},\n",
        "    'dataset_args': {'text_root': 'data', 'images_root': 'data/kfold/PACS', 'source_domain': 'art_painting', 'target_domain': 'sketch' },\n",
        "    'batch_size': 128,\n",
        "    'epochs': 30,\n",
        "    'num_workers': 5,\n",
        "    'grad_accum_steps': 1\n",
        "}\n",
        "\n",
        "#args = parse_arguments()\n",
        "args = argparse.Namespace(**conf)\n",
        "print(args)\n",
        "CONFIG.update(vars(args))\n",
        "\n",
        "# Setup output directory\n",
        "CONFIG.save_dir = os.path.join('record', CONFIG.experiment_name)\n",
        "os.makedirs(CONFIG.save_dir, exist_ok=True)\n",
        "\n",
        "# Setup logging\n",
        "logging.basicConfig(\n",
        "    filename=os.path.join(CONFIG.save_dir, 'log.txt'),\n",
        "    format='%(message)s',\n",
        "    level=logging.INFO,\n",
        "    filemode='a'\n",
        ")\n",
        "\n",
        "# Set experiment's device & deterministic behavior\n",
        "if CONFIG.cpu:\n",
        "    CONFIG.device = 'cpu'\n",
        "else:\n",
        "    CONFIG.device = 'cuda' if torch.cuda.is_available() else 'cpu'\n",
        "\n",
        "torch.manual_seed(CONFIG.seed)\n",
        "random.seed(CONFIG.seed)\n",
        "np.random.seed(CONFIG.seed)\n",
        "torch.backends.cudnn.benchmark = True\n",
        "torch.use_deterministic_algorithms(mode=True, warn_only=True)\n",
        "\n",
        "main()"
      ]
    },
    {
      "cell_type": "markdown",
      "metadata": {
        "id": "qUhAevVOsEXD"
      },
      "source": [
        "#### 2.3.3 - Art Painting &rightarrow; Photo, mor = 0.4"
      ]
    },
    {
      "cell_type": "code",
      "execution_count": null,
      "metadata": {
        "id": "zSikgcRtsEXD"
      },
      "outputs": [],
      "source": [
        "warnings.filterwarnings('ignore', category=UserWarning)\n",
        "\n",
        "# Parse arguments\n",
        "conf = { # Art Painting -> Photo\n",
        "    'seed': 0,\n",
        "    'test_only': False,\n",
        "    'cpu': False,\n",
        "    'experiment': 'random',\n",
        "    'experiment_name': '2_3_3',\n",
        "    'experiment_args': {'module_placement': ['layer1.0.conv1', 'layer1.1.conv2', 'layer2.1.conv1', 'layer3.0.conv2', 'layer4.0.conv1', 'layer4.1.conv2'], 'mask_out_ratio': 0.4},\n",
        "    'dataset_args': {'text_root': 'data', 'images_root': 'data/kfold/PACS', 'source_domain': 'art_painting', 'target_domain': 'photo' },\n",
        "    'batch_size': 128,\n",
        "    'epochs': 30,\n",
        "    'num_workers': 5,\n",
        "    'grad_accum_steps': 1\n",
        "}\n",
        "\n",
        "#args = parse_arguments()\n",
        "args = argparse.Namespace(**conf)\n",
        "print(args)\n",
        "CONFIG.update(vars(args))\n",
        "\n",
        "# Setup output directory\n",
        "CONFIG.save_dir = os.path.join('record', CONFIG.experiment_name)\n",
        "os.makedirs(CONFIG.save_dir, exist_ok=True)\n",
        "\n",
        "# Setup logging\n",
        "logging.basicConfig(\n",
        "    filename=os.path.join(CONFIG.save_dir, 'log.txt'),\n",
        "    format='%(message)s',\n",
        "    level=logging.INFO,\n",
        "    filemode='a'\n",
        ")\n",
        "\n",
        "# Set experiment's device & deterministic behavior\n",
        "if CONFIG.cpu:\n",
        "    CONFIG.device = 'cpu'\n",
        "else:\n",
        "    CONFIG.device = 'cuda' if torch.cuda.is_available() else 'cpu'\n",
        "\n",
        "torch.manual_seed(CONFIG.seed)\n",
        "random.seed(CONFIG.seed)\n",
        "np.random.seed(CONFIG.seed)\n",
        "torch.backends.cudnn.benchmark = True\n",
        "torch.use_deterministic_algorithms(mode=True, warn_only=True)\n",
        "\n",
        "main()"
      ]
    },
    {
      "cell_type": "markdown",
      "metadata": {
        "id": "b_qWdCbEsEXE"
      },
      "source": [
        "#### 2.3.4 - Art Painting &rightarrow; Cartoon, mor = 0.55"
      ]
    },
    {
      "cell_type": "code",
      "execution_count": null,
      "metadata": {
        "id": "eg7klfr1sEXE"
      },
      "outputs": [],
      "source": [
        "warnings.filterwarnings('ignore', category=UserWarning)\n",
        "\n",
        "# Parse arguments\n",
        "conf = { # Art Painting -> Cartoon\n",
        "    'seed': 0,\n",
        "    'test_only': False,\n",
        "    'cpu': False,\n",
        "    'experiment': 'random',\n",
        "    'experiment_name': '2_3_4',\n",
        "    'experiment_args': {'module_placement': ['layer1.0.conv1', 'layer1.1.conv2', 'layer2.1.conv1', 'layer3.0.conv2', 'layer4.0.conv1', 'layer4.1.conv2'], 'mask_out_ratio': 0.55},\n",
        "    'dataset_args': {'text_root': 'data', 'images_root': 'data/kfold/PACS', 'source_domain': 'art_painting', 'target_domain': 'cartoon' },\n",
        "    'batch_size': 128,\n",
        "    'epochs': 30,\n",
        "    'num_workers': 5,\n",
        "    'grad_accum_steps': 1\n",
        "}\n",
        "\n",
        "#args = parse_arguments()\n",
        "args = argparse.Namespace(**conf)\n",
        "print(args)\n",
        "CONFIG.update(vars(args))\n",
        "\n",
        "# Setup output directory\n",
        "CONFIG.save_dir = os.path.join('record', CONFIG.experiment_name)\n",
        "os.makedirs(CONFIG.save_dir, exist_ok=True)\n",
        "\n",
        "# Setup logging\n",
        "logging.basicConfig(\n",
        "    filename=os.path.join(CONFIG.save_dir, 'log.txt'),\n",
        "    format='%(message)s',\n",
        "    level=logging.INFO,\n",
        "    filemode='a'\n",
        ")\n",
        "\n",
        "# Set experiment's device & deterministic behavior\n",
        "if CONFIG.cpu:\n",
        "    CONFIG.device = 'cpu'\n",
        "else:\n",
        "    CONFIG.device = 'cuda' if torch.cuda.is_available() else 'cpu'\n",
        "\n",
        "torch.manual_seed(CONFIG.seed)\n",
        "random.seed(CONFIG.seed)\n",
        "np.random.seed(CONFIG.seed)\n",
        "torch.backends.cudnn.benchmark = True\n",
        "torch.use_deterministic_algorithms(mode=True, warn_only=True)\n",
        "\n",
        "main()"
      ]
    },
    {
      "cell_type": "markdown",
      "metadata": {
        "id": "tEQy3d0OsEXF"
      },
      "source": [
        "#### 2.3.5 - Art Painting &rightarrow; Sketch, mor = 0.55"
      ]
    },
    {
      "cell_type": "code",
      "execution_count": null,
      "metadata": {
        "id": "INdZfYZ4sEXF"
      },
      "outputs": [],
      "source": [
        "warnings.filterwarnings('ignore', category=UserWarning)\n",
        "\n",
        "# Parse arguments\n",
        "conf = { # Art Painting -> Sketch\n",
        "    'seed': 0,\n",
        "    'test_only': False,\n",
        "    'cpu': False,\n",
        "    'experiment': 'random',\n",
        "    'experiment_name': '2_3_5',\n",
        "    'experiment_args': {'module_placement': ['layer1.0.conv1', 'layer1.1.conv2', 'layer2.1.conv1', 'layer3.0.conv2', 'layer4.0.conv1', 'layer4.1.conv2'], 'mask_out_ratio': 0.55},\n",
        "    'dataset_args': {'text_root': 'data', 'images_root': 'data/kfold/PACS', 'source_domain': 'art_painting', 'target_domain': 'sketch' },\n",
        "    'batch_size': 128,\n",
        "    'epochs': 30,\n",
        "    'num_workers': 5,\n",
        "    'grad_accum_steps': 1\n",
        "}\n",
        "\n",
        "#args = parse_arguments()\n",
        "args = argparse.Namespace(**conf)\n",
        "print(args)\n",
        "CONFIG.update(vars(args))\n",
        "\n",
        "# Setup output directory\n",
        "CONFIG.save_dir = os.path.join('record', CONFIG.experiment_name)\n",
        "os.makedirs(CONFIG.save_dir, exist_ok=True)\n",
        "\n",
        "# Setup logging\n",
        "logging.basicConfig(\n",
        "    filename=os.path.join(CONFIG.save_dir, 'log.txt'),\n",
        "    format='%(message)s',\n",
        "    level=logging.INFO,\n",
        "    filemode='a'\n",
        ")\n",
        "\n",
        "# Set experiment's device & deterministic behavior\n",
        "if CONFIG.cpu:\n",
        "    CONFIG.device = 'cpu'\n",
        "else:\n",
        "    CONFIG.device = 'cuda' if torch.cuda.is_available() else 'cpu'\n",
        "\n",
        "torch.manual_seed(CONFIG.seed)\n",
        "random.seed(CONFIG.seed)\n",
        "np.random.seed(CONFIG.seed)\n",
        "torch.backends.cudnn.benchmark = True\n",
        "torch.use_deterministic_algorithms(mode=True, warn_only=True)\n",
        "\n",
        "main()"
      ]
    },
    {
      "cell_type": "markdown",
      "metadata": {
        "id": "5RxZz2lssEXF"
      },
      "source": [
        "#### 2.3.6 - Art Painting &rightarrow; Photo, mor = 0.55"
      ]
    },
    {
      "cell_type": "code",
      "execution_count": null,
      "metadata": {
        "id": "EfInWs6usEXF"
      },
      "outputs": [],
      "source": [
        "warnings.filterwarnings('ignore', category=UserWarning)\n",
        "\n",
        "# Parse arguments\n",
        "conf = { # Art Painting -> Photo\n",
        "    'seed': 0,\n",
        "    'test_only': False,\n",
        "    'cpu': False,\n",
        "    'experiment': 'random',\n",
        "    'experiment_name': '2_3_6',\n",
        "    'experiment_args': {'module_placement': ['layer1.0.conv1', 'layer1.1.conv2', 'layer2.1.conv1', 'layer3.0.conv2', 'layer4.0.conv1', 'layer4.1.conv2'], 'mask_out_ratio': 0.55},\n",
        "    'dataset_args': {'text_root': 'data', 'images_root': 'data/kfold/PACS', 'source_domain': 'art_painting', 'target_domain': 'photo' },\n",
        "    'batch_size': 128,\n",
        "    'epochs': 30,\n",
        "    'num_workers': 5,\n",
        "    'grad_accum_steps': 1\n",
        "}\n",
        "\n",
        "#args = parse_arguments()\n",
        "args = argparse.Namespace(**conf)\n",
        "print(args)\n",
        "CONFIG.update(vars(args))\n",
        "\n",
        "# Setup output directory\n",
        "CONFIG.save_dir = os.path.join('record', CONFIG.experiment_name)\n",
        "os.makedirs(CONFIG.save_dir, exist_ok=True)\n",
        "\n",
        "# Setup logging\n",
        "logging.basicConfig(\n",
        "    filename=os.path.join(CONFIG.save_dir, 'log.txt'),\n",
        "    format='%(message)s',\n",
        "    level=logging.INFO,\n",
        "    filemode='a'\n",
        ")\n",
        "\n",
        "# Set experiment's device & deterministic behavior\n",
        "if CONFIG.cpu:\n",
        "    CONFIG.device = 'cpu'\n",
        "else:\n",
        "    CONFIG.device = 'cuda' if torch.cuda.is_available() else 'cpu'\n",
        "\n",
        "torch.manual_seed(CONFIG.seed)\n",
        "random.seed(CONFIG.seed)\n",
        "np.random.seed(CONFIG.seed)\n",
        "torch.backends.cudnn.benchmark = True\n",
        "torch.use_deterministic_algorithms(mode=True, warn_only=True)\n",
        "\n",
        "main()"
      ]
    },
    {
      "cell_type": "markdown",
      "metadata": {
        "id": "k1wtnbmCsEXG"
      },
      "source": [
        "#### 2.3.7 - Art Painting &rightarrow; Cartoon, mor = 0.75"
      ]
    },
    {
      "cell_type": "code",
      "execution_count": null,
      "metadata": {
        "id": "hq4bzQXJsEXG"
      },
      "outputs": [],
      "source": [
        "warnings.filterwarnings('ignore', category=UserWarning)\n",
        "\n",
        "# Parse arguments\n",
        "conf = { # Art Painting -> Cartoon\n",
        "    'seed': 0,\n",
        "    'test_only': False,\n",
        "    'cpu': False,\n",
        "    'experiment': 'random',\n",
        "    'experiment_name': '2_3_7',\n",
        "    'experiment_args': {'module_placement': ['layer1.0.conv1', 'layer1.1.conv2', 'layer2.1.conv1', 'layer3.0.conv2', 'layer4.0.conv1', 'layer4.1.conv2'], 'mask_out_ratio': 0.75},\n",
        "    'dataset_args': {'text_root': 'data', 'images_root': 'data/kfold/PACS', 'source_domain': 'art_painting', 'target_domain': 'cartoon' },\n",
        "    'batch_size': 128,\n",
        "    'epochs': 30,\n",
        "    'num_workers': 5,\n",
        "    'grad_accum_steps': 1\n",
        "}\n",
        "\n",
        "#args = parse_arguments()\n",
        "args = argparse.Namespace(**conf)\n",
        "print(args)\n",
        "CONFIG.update(vars(args))\n",
        "\n",
        "# Setup output directory\n",
        "CONFIG.save_dir = os.path.join('record', CONFIG.experiment_name)\n",
        "os.makedirs(CONFIG.save_dir, exist_ok=True)\n",
        "\n",
        "# Setup logging\n",
        "logging.basicConfig(\n",
        "    filename=os.path.join(CONFIG.save_dir, 'log.txt'),\n",
        "    format='%(message)s',\n",
        "    level=logging.INFO,\n",
        "    filemode='a'\n",
        ")\n",
        "\n",
        "# Set experiment's device & deterministic behavior\n",
        "if CONFIG.cpu:\n",
        "    CONFIG.device = 'cpu'\n",
        "else:\n",
        "    CONFIG.device = 'cuda' if torch.cuda.is_available() else 'cpu'\n",
        "\n",
        "torch.manual_seed(CONFIG.seed)\n",
        "random.seed(CONFIG.seed)\n",
        "np.random.seed(CONFIG.seed)\n",
        "torch.backends.cudnn.benchmark = True\n",
        "torch.use_deterministic_algorithms(mode=True, warn_only=True)\n",
        "\n",
        "main()"
      ]
    },
    {
      "cell_type": "markdown",
      "metadata": {
        "id": "-ETILmdJsEXH"
      },
      "source": [
        "#### 2.3.8 - Art Painting &rightarrow; Sketch, mor = 0.75"
      ]
    },
    {
      "cell_type": "code",
      "execution_count": null,
      "metadata": {
        "id": "eF24kZiIsEXH"
      },
      "outputs": [],
      "source": [
        "warnings.filterwarnings('ignore', category=UserWarning)\n",
        "\n",
        "# Parse arguments\n",
        "conf = { # Art Painting -> Sketch\n",
        "    'seed': 0,\n",
        "    'test_only': False,\n",
        "    'cpu': False,\n",
        "    'experiment': 'random',\n",
        "    'experiment_name': '2_3_8',\n",
        "    'experiment_args': {'module_placement': ['layer1.0.conv1', 'layer1.1.conv2', 'layer2.1.conv1', 'layer3.0.conv2', 'layer4.0.conv1', 'layer4.1.conv2'], 'mask_out_ratio': 0.75},\n",
        "    'dataset_args': {'text_root': 'data', 'images_root': 'data/kfold/PACS', 'source_domain': 'art_painting', 'target_domain': 'sketch' },\n",
        "    'batch_size': 128,\n",
        "    'epochs': 30,\n",
        "    'num_workers': 5,\n",
        "    'grad_accum_steps': 1\n",
        "}\n",
        "\n",
        "#args = parse_arguments()\n",
        "args = argparse.Namespace(**conf)\n",
        "print(args)\n",
        "CONFIG.update(vars(args))\n",
        "\n",
        "# Setup output directory\n",
        "CONFIG.save_dir = os.path.join('record', CONFIG.experiment_name)\n",
        "os.makedirs(CONFIG.save_dir, exist_ok=True)\n",
        "\n",
        "# Setup logging\n",
        "logging.basicConfig(\n",
        "    filename=os.path.join(CONFIG.save_dir, 'log.txt'),\n",
        "    format='%(message)s',\n",
        "    level=logging.INFO,\n",
        "    filemode='a'\n",
        ")\n",
        "\n",
        "# Set experiment's device & deterministic behavior\n",
        "if CONFIG.cpu:\n",
        "    CONFIG.device = 'cpu'\n",
        "else:\n",
        "    CONFIG.device = 'cuda' if torch.cuda.is_available() else 'cpu'\n",
        "\n",
        "torch.manual_seed(CONFIG.seed)\n",
        "random.seed(CONFIG.seed)\n",
        "np.random.seed(CONFIG.seed)\n",
        "torch.backends.cudnn.benchmark = True\n",
        "torch.use_deterministic_algorithms(mode=True, warn_only=True)\n",
        "\n",
        "main()"
      ]
    },
    {
      "cell_type": "markdown",
      "metadata": {
        "id": "5ldbTDUnsEXH"
      },
      "source": [
        "#### 2.3.9 - Art Painting &rightarrow; Photo, mor = 0.75"
      ]
    },
    {
      "cell_type": "code",
      "execution_count": null,
      "metadata": {
        "id": "OK6LEPiPsEXI"
      },
      "outputs": [],
      "source": [
        "warnings.filterwarnings('ignore', category=UserWarning)\n",
        "\n",
        "# Parse arguments\n",
        "conf = { # Art Painting -> Photo\n",
        "    'seed': 0,\n",
        "    'test_only': False,\n",
        "    'cpu': False,\n",
        "    'experiment': 'random',\n",
        "    'experiment_name': '2_3_9',\n",
        "    'experiment_args': {'module_placement': ['layer1.0.conv1', 'layer1.1.conv2', 'layer2.1.conv1', 'layer3.0.conv2', 'layer4.0.conv1', 'layer4.1.conv2'], 'mask_out_ratio': 0.75},\n",
        "    'dataset_args': {'text_root': 'data', 'images_root': 'data/kfold/PACS', 'source_domain': 'art_painting', 'target_domain': 'photo' },\n",
        "    'batch_size': 128,\n",
        "    'epochs': 30,\n",
        "    'num_workers': 5,\n",
        "    'grad_accum_steps': 1\n",
        "}\n",
        "\n",
        "#args = parse_arguments()\n",
        "args = argparse.Namespace(**conf)\n",
        "print(args)\n",
        "CONFIG.update(vars(args))\n",
        "\n",
        "# Setup output directory\n",
        "CONFIG.save_dir = os.path.join('record', CONFIG.experiment_name)\n",
        "os.makedirs(CONFIG.save_dir, exist_ok=True)\n",
        "\n",
        "# Setup logging\n",
        "logging.basicConfig(\n",
        "    filename=os.path.join(CONFIG.save_dir, 'log.txt'),\n",
        "    format='%(message)s',\n",
        "    level=logging.INFO,\n",
        "    filemode='a'\n",
        ")\n",
        "\n",
        "# Set experiment's device & deterministic behavior\n",
        "if CONFIG.cpu:\n",
        "    CONFIG.device = 'cpu'\n",
        "else:\n",
        "    CONFIG.device = 'cuda' if torch.cuda.is_available() else 'cpu'\n",
        "\n",
        "torch.manual_seed(CONFIG.seed)\n",
        "random.seed(CONFIG.seed)\n",
        "np.random.seed(CONFIG.seed)\n",
        "torch.backends.cudnn.benchmark = True\n",
        "torch.use_deterministic_algorithms(mode=True, warn_only=True)\n",
        "\n",
        "main()"
      ]
    },
    {
      "cell_type": "markdown",
      "metadata": {
        "id": "84SPtogfvmv3"
      },
      "source": [
        "## 3 - Adapting Activation Maps across Domains"
      ]
    },
    {
      "cell_type": "markdown",
      "metadata": {
        "id": "L9DlpZBVRg5F"
      },
      "source": [
        "### 3.1 - module placement: layer2.1.conv2"
      ]
    },
    {
      "cell_type": "markdown",
      "metadata": {
        "id": "ThxkXWWkSGRp"
      },
      "source": [
        "#### 3.1.1 - Art Painting &rightarrow; Cartoon"
      ]
    },
    {
      "cell_type": "code",
      "execution_count": null,
      "metadata": {
        "id": "jpOjb6fTVKn7"
      },
      "outputs": [],
      "source": [
        "warnings.filterwarnings('ignore', category=UserWarning)\n",
        "\n",
        "# Parse arguments\n",
        "conf = { # Art Painting -> Cartoon\n",
        "    'seed': 0,\n",
        "    'test_only': False,\n",
        "    'cpu': False,\n",
        "    'experiment': 'domain_adaptation',\n",
        "    'experiment_name': '3_1_1',\n",
        "    'experiment_args': {'module_placement': ['layer2.1.conv2']},\n",
        "    'dataset_args': {'text_root': 'data', 'images_root': 'data/kfold/PACS', 'source_domain': 'art_painting', 'target_domain': 'cartoon' },\n",
        "    'batch_size': 128,\n",
        "    'epochs': 30,\n",
        "    'num_workers': 5,\n",
        "    'grad_accum_steps': 1\n",
        "}\n",
        "\n",
        "args = argparse.Namespace(**conf)\n",
        "print(args)\n",
        "CONFIG.update(vars(args))\n",
        "\n",
        "# Setup output directory\n",
        "CONFIG.save_dir = os.path.join('record', CONFIG.experiment_name)\n",
        "os.makedirs(CONFIG.save_dir, exist_ok=True)\n",
        "\n",
        "# Setup logging\n",
        "logging.basicConfig(\n",
        "    filename=os.path.join(CONFIG.save_dir, 'log.txt'),\n",
        "    format='%(message)s',\n",
        "    level=logging.INFO,\n",
        "    filemode='a'\n",
        ")\n",
        "\n",
        "# Set experiment's device & deterministic behavior\n",
        "if CONFIG.cpu: CONFIG.device = 'cpu'\n",
        "else: CONFIG.device = 'cuda' if torch.cuda.is_available() else 'cpu'\n",
        "\n",
        "torch.manual_seed(CONFIG.seed)\n",
        "random.seed(CONFIG.seed)\n",
        "np.random.seed(CONFIG.seed)\n",
        "torch.backends.cudnn.benchmark = True\n",
        "torch.use_deterministic_algorithms(mode=True, warn_only=True)\n",
        "\n",
        "main()"
      ]
    },
    {
      "cell_type": "markdown",
      "metadata": {
        "id": "dcfJPnnq1H3b"
      },
      "source": [
        "#### 3.1.2 - Art Painting &rightarrow; Sketch"
      ]
    },
    {
      "cell_type": "code",
      "execution_count": null,
      "metadata": {
        "id": "eRL1kR1H1H3b"
      },
      "outputs": [],
      "source": [
        "warnings.filterwarnings('ignore', category=UserWarning)\n",
        "\n",
        "# Parse arguments\n",
        "conf = { # Art Painting -> Sketch\n",
        "    'seed': 0,\n",
        "    'test_only': False,\n",
        "    'cpu': False,\n",
        "    'experiment': 'domain_adaptation',\n",
        "    'experiment_name': '3_1_2',\n",
        "    'experiment_args': {'module_placement': ['layer2.1.conv2']},\n",
        "    'dataset_args': {'text_root': 'data', 'images_root': 'data/kfold/PACS', 'source_domain': 'art_painting', 'target_domain': 'sketch' },\n",
        "    'batch_size': 128,\n",
        "    'epochs': 30,\n",
        "    'num_workers': 5,\n",
        "    'grad_accum_steps': 1\n",
        "}\n",
        "\n",
        "args = argparse.Namespace(**conf)\n",
        "print(args)\n",
        "CONFIG.update(vars(args))\n",
        "\n",
        "# Setup output directory\n",
        "CONFIG.save_dir = os.path.join('record', CONFIG.experiment_name)\n",
        "os.makedirs(CONFIG.save_dir, exist_ok=True)\n",
        "\n",
        "# Setup logging\n",
        "logging.basicConfig(\n",
        "    filename=os.path.join(CONFIG.save_dir, 'log.txt'),\n",
        "    format='%(message)s',\n",
        "    level=logging.INFO,\n",
        "    filemode='a'\n",
        ")\n",
        "\n",
        "# Set experiment's device & deterministic behavior\n",
        "if CONFIG.cpu: CONFIG.device = 'cpu'\n",
        "else: CONFIG.device = 'cuda' if torch.cuda.is_available() else 'cpu'\n",
        "\n",
        "torch.manual_seed(CONFIG.seed)\n",
        "random.seed(CONFIG.seed)\n",
        "np.random.seed(CONFIG.seed)\n",
        "torch.backends.cudnn.benchmark = True\n",
        "torch.use_deterministic_algorithms(mode=True, warn_only=True)\n",
        "\n",
        "main()"
      ]
    },
    {
      "cell_type": "markdown",
      "metadata": {
        "id": "Ca8O9JQ11H3b"
      },
      "source": [
        "#### 3.1.3 - Art Painting &rightarrow; Photo"
      ]
    },
    {
      "cell_type": "code",
      "execution_count": null,
      "metadata": {
        "id": "7QkNbDJB1H3b"
      },
      "outputs": [],
      "source": [
        "warnings.filterwarnings('ignore', category=UserWarning)\n",
        "\n",
        "# Parse arguments\n",
        "conf = { # Art Painting -> Photo\n",
        "    'seed': 0,\n",
        "    'test_only': False,\n",
        "    'cpu': False,\n",
        "    'experiment': 'domain_adaptation',\n",
        "    'experiment_name': '3_1_3',\n",
        "    'experiment_args': {'module_placement': ['layer2.1.conv2']},\n",
        "    'dataset_args': {'text_root': 'data', 'images_root': 'data/kfold/PACS', 'source_domain': 'art_painting', 'target_domain': 'photo' },\n",
        "    'batch_size': 128,\n",
        "    'epochs': 30,\n",
        "    'num_workers': 5,\n",
        "    'grad_accum_steps': 1\n",
        "}\n",
        "\n",
        "args = argparse.Namespace(**conf)\n",
        "print(args)\n",
        "CONFIG.update(vars(args))\n",
        "\n",
        "# Setup output directory\n",
        "CONFIG.save_dir = os.path.join('record', CONFIG.experiment_name)\n",
        "os.makedirs(CONFIG.save_dir, exist_ok=True)\n",
        "\n",
        "# Setup logging\n",
        "logging.basicConfig(\n",
        "    filename=os.path.join(CONFIG.save_dir, 'log.txt'),\n",
        "    format='%(message)s',\n",
        "    level=logging.INFO,\n",
        "    filemode='a'\n",
        ")\n",
        "\n",
        "# Set experiment's device & deterministic behavior\n",
        "if CONFIG.cpu: CONFIG.device = 'cpu'\n",
        "else: CONFIG.device = 'cuda' if torch.cuda.is_available() else 'cpu'\n",
        "\n",
        "torch.manual_seed(CONFIG.seed)\n",
        "random.seed(CONFIG.seed)\n",
        "np.random.seed(CONFIG.seed)\n",
        "torch.backends.cudnn.benchmark = True\n",
        "torch.use_deterministic_algorithms(mode=True, warn_only=True)\n",
        "\n",
        "main()"
      ]
    },
    {
      "cell_type": "markdown",
      "metadata": {
        "id": "lMwxcUU9vmv3"
      },
      "source": [
        "## Ext. 2 - Binarization Ablation"
      ]
    }
  ],
  "metadata": {
    "accelerator": "GPU",
    "colab": {
      "collapsed_sections": [
        "r1K5BCgevmvr",
        "3GNDC97Lvmvs",
        "4QL6QFg7vmvv",
        "bCGGDU0Yvmvx",
        "UjcULfoOvmv0",
        "pDUK98dRvmv1",
        "qSD7qmGTvmv2",
        "34WzO42cvmv3",
        "84SPtogfvmv3",
        "L9DlpZBVRg5F",
        "ThxkXWWkSGRp"
      ],
      "gpuType": "T4",
      "provenance": []
    },
    "kernelspec": {
      "display_name": "Python 3",
      "name": "python3"
    },
    "language_info": {
      "codemirror_mode": {
        "name": "ipython",
        "version": 3
      },
      "file_extension": ".py",
      "mimetype": "text/x-python",
      "name": "python",
      "nbconvert_exporter": "python",
      "pygments_lexer": "ipython3",
      "version": "3.10.12"
    }
  },
  "nbformat": 4,
  "nbformat_minor": 0
}