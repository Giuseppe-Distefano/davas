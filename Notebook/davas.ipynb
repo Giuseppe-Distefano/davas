{
  "cells": [
    {
      "cell_type": "markdown",
      "metadata": {
        "id": "0j4ramm0vmvh"
      },
      "source": [
        "# Domain Adaptation Via Activation Shaping"
      ]
    },
    {
      "cell_type": "markdown",
      "metadata": {
        "id": "L-LqKzY-vmvp"
      },
      "source": [
        "**Teacher assistant** Iurada Leonardo\n",
        "\n",
        "**Students**\n",
        "\n",
        "- Bar Giorgio\n",
        "- Distefano Giuseppe\n",
        "- Incaviglia Salvatore"
      ]
    },
    {
      "cell_type": "markdown",
      "metadata": {
        "id": "r1K5BCgevmvr"
      },
      "source": [
        "## 0 - Reproduce the Baseline"
      ]
    },
    {
      "cell_type": "markdown",
      "metadata": {
        "id": "3GNDC97Lvmvs"
      },
      "source": [
        "### Libraries"
      ]
    },
    {
      "cell_type": "code",
      "execution_count": null,
      "metadata": {
        "colab": {
          "base_uri": "https://localhost:8080/"
        },
        "id": "7yj0xpGOvmvs",
        "outputId": "36aef328-1737-46e2-b167-bc272cbe1ac6"
      },
      "outputs": [],
      "source": [
        "!pip install torch torchvision tqdm torchmetrics\n",
        "\n",
        "import torch\n",
        "\n",
        "import torch.backends.mps\n",
        "from argparse import ArgumentParser\n",
        "\n",
        "import os\n",
        "import torchvision.transforms as T\n",
        "\n",
        "from torch.utils.data import Dataset, DataLoader\n",
        "from torchvision.datasets import CIFAR10\n",
        "\n",
        "import numpy as np\n",
        "import random\n",
        "from PIL import Image\n",
        "\n",
        "import torch.nn as nn\n",
        "from torchvision.models import resnet18, ResNet18_Weights\n",
        "\n",
        "import torch.nn.functional as F\n",
        "from torchmetrics import Accuracy\n",
        "from tqdm import tqdm\n",
        "\n",
        "import logging\n",
        "import warnings\n",
        "\n",
        "import argparse"
      ]
    },
    {
      "cell_type": "markdown",
      "metadata": {
        "id": "4QL6QFg7vmvv"
      },
      "source": [
        "### Setup PACS dataset and environment"
      ]
    },
    {
      "cell_type": "code",
      "execution_count": null,
      "metadata": {
        "colab": {
          "base_uri": "https://localhost:8080/"
        },
        "id": "DU25YTvRvmvw",
        "outputId": "19dbe3fd-78ea-4124-d6f3-6adf8bec44c7"
      },
      "outputs": [],
      "source": [
        "# Download PACS Dataset Images and Labels\n",
        "!git clone https://github.com/MachineLearning2020/Homework3-PACS/\n",
        "!git clone https://github.com/silvia1993/DANN_Template/\n",
        "\n",
        "# Setup data\n",
        "!rm -rf data || true\n",
        "!rm -rf record || true\n",
        "!mkdir data\n",
        "!mkdir data/kfold\n",
        "!cp -r Homework3-PACS/PACS/ data/kfold\n",
        "!cp DANN_Template/txt_lists/*.txt data\n",
        "!rm -rf Homework3-PACS/\n",
        "!rm -rf DANN_Template/"
      ]
    },
    {
      "cell_type": "markdown",
      "metadata": {
        "id": "bCGGDU0Yvmvx"
      },
      "source": [
        "### Globals"
      ]
    },
    {
      "cell_type": "markdown",
      "metadata": {
        "id": "ks2GUIKUvmvx"
      },
      "source": [
        "#### globals"
      ]
    },
    {
      "cell_type": "code",
      "execution_count": null,
      "metadata": {
        "id": "CKy4Lcn5vmvy"
      },
      "outputs": [],
      "source": [
        "class dotdict(dict):\n",
        "    \"\"\"dot.notation access to dictionary attributes\"\"\"\n",
        "    __getattr__ = dict.get\n",
        "    __setattr__ = dict.__setitem__\n",
        "    __delattr__ = dict.__delitem__\n",
        "\n",
        "CONFIG = dotdict({})\n",
        "\n",
        "if torch.cuda.is_available():\n",
        "    CONFIG.device = 'cuda'\n",
        "elif torch.backends.mps.is_available() and torch.backends.mps.is_built():\n",
        "    CONFIG.device = 'mps'\n",
        "else:\n",
        "    CONFIG.device = 'cpu'\n",
        "\n",
        "CONFIG.dtype = torch.float32"
      ]
    },
    {
      "cell_type": "markdown",
      "metadata": {
        "id": "3X-3ocOEvmvy"
      },
      "source": [
        "#### parse args"
      ]
    },
    {
      "cell_type": "code",
      "execution_count": null,
      "metadata": {
        "id": "ri1QrU7_vmvz"
      },
      "outputs": [],
      "source": [
        "def _clear_args(parsed_args):\n",
        "    parsed_args.experiment_args = eval(parsed_args.experiment_args)\n",
        "    parsed_args.dataset_args = eval(parsed_args.dataset_args)\n",
        "    return parsed_args\n",
        "\n",
        "\n",
        "def parse_arguments():\n",
        "    parser = ArgumentParser()\n",
        "\n",
        "    parser.add_argument('--seed', type=int, default=0, help='Seed used for deterministic behavior')\n",
        "    parser.add_argument('--test_only', action='store_true', help='Whether to skip training')\n",
        "    parser.add_argument('--cpu', action='store_true', help='Whether to force the usage of CPU')\n",
        "\n",
        "    parser.add_argument('--experiment', type=str, default='baseline')\n",
        "    parser.add_argument('--experiment_name', type=str, default='baseline')\n",
        "    parser.add_argument('--experiment_args', type=str, default='{}')\n",
        "    parser.add_argument('--dataset_args', type=str, default='{}')\n",
        "\n",
        "    parser.add_argument('--batch_size', type=int, default=128)\n",
        "    parser.add_argument('--epochs', type=int, default=30)\n",
        "    parser.add_argument('--num_workers', type=int, default=5)\n",
        "    parser.add_argument('--grad_accum_steps', type=int, default=1)\n",
        "\n",
        "    return _clear_args(parser.parse_args())"
      ]
    },
    {
      "cell_type": "markdown",
      "metadata": {
        "id": "l7_xoRWhvmvz"
      },
      "source": [
        "#### Global variables"
      ]
    },
    {
      "cell_type": "code",
      "execution_count": null,
      "metadata": {
        "id": "GA15sREQvmvz"
      },
      "outputs": [],
      "source": [
        "DEVICE = 'cuda' if torch.cuda.is_available() else 'cpu'\n",
        "NUM_CLASSES = 7\n",
        "BATCH_SIZE = 256\n",
        "LR = 1e-3               # The initial Learning Rate\n",
        "MOMENTUM = 0.9          # Hyperparameter for SGD, keep this at 0.9 when using SGD\n",
        "WEIGHT_DECAY = 5e-5     # Regularization, you can keep this at the default\n",
        "NUM_EPOCHS = 30         # Total number of training epochs (iterations over dataset)\n",
        "STEP_SIZE = 20          # How many epochs before decreasing learning rate (if using a step-down policy)\n",
        "GAMMA = 0.1             # Multiplicative factor for learning rate step-down\n",
        "\n",
        "LOG_FREQUENCY = 10"
      ]
    },
    {
      "cell_type": "markdown",
      "metadata": {
        "id": "UjcULfoOvmv0"
      },
      "source": [
        "### Dataset"
      ]
    },
    {
      "cell_type": "markdown",
      "metadata": {
        "id": "2juNIEQ9vmv0"
      },
      "source": [
        "#### utils"
      ]
    },
    {
      "cell_type": "code",
      "execution_count": null,
      "metadata": {
        "id": "XSPzZSuSvmv0"
      },
      "outputs": [],
      "source": [
        "class BaseDataset(Dataset):\n",
        "    def __init__(self, examples, transform):\n",
        "        self.examples = examples\n",
        "        self.T = transform\n",
        "\n",
        "\n",
        "    def __len__(self):\n",
        "        return len(self.examples)\n",
        "\n",
        "\n",
        "    def __getitem__(self, index):\n",
        "        x, y = self.examples[index]\n",
        "        x = Image.open(x).convert('RGB')\n",
        "        x = self.T(x).to(CONFIG.dtype)\n",
        "        y = torch.tensor(y).long()\n",
        "        return x, y\n",
        "\n",
        "######################################################\n",
        "# TODO: modify 'BaseDataset' for the Domain Adaptation setting.\n",
        "# Hint: randomly sample 'target_examples' to obtain targ_x\n",
        "#class DomainAdaptationDataset(Dataset):\n",
        "#    def __init__(self, source_examples, target_examples, transform):\n",
        "#        self.source_examples = source_examples\n",
        "#        self.target_examples = target_examples\n",
        "#        self.T = transform\n",
        "#\n",
        "#    def __len__(self):\n",
        "#        return len(self.source_examples)\n",
        "#\n",
        "#    def __getitem__(self, index):\n",
        "#        src_x, src_y = ...\n",
        "#        targ_x = ...\n",
        "#\n",
        "#        src_x = self.T(src_x)\n",
        "#        targ_x = self.T(targ_x)\n",
        "#        return src_x, src_y, targ_x\n",
        "\n",
        "# [OPTIONAL] TODO: modify 'BaseDataset' for the Domain Generalization setting.\n",
        "# Hint: combine the examples from the 3 source domains into a single 'examples' list\n",
        "#class DomainGeneralizationDataset(Dataset):\n",
        "#    def __init__(self, examples, transform):\n",
        "#        self.examples = examples\n",
        "#        self.T = transform\n",
        "#\n",
        "#    def __len__(self):\n",
        "#        return len(self.examples)\n",
        "#\n",
        "#    def __getitem__(self, index):\n",
        "#        x1, x2, x3 = self.examples[index]\n",
        "#        x1, x2, x3 = self.T(x1), self.T(x2), self.T(x3)\n",
        "#        targ_x = self.T(targ_x)\n",
        "#        return x1, x2, x3\n",
        "\n",
        "######################################################\n",
        "\n",
        "class SeededDataLoader(DataLoader):\n",
        "    def __init__(self, dataset: Dataset, batch_size=1, shuffle=None,\n",
        "                 sampler=None,\n",
        "                 batch_sampler=None,\n",
        "                 num_workers=0, collate_fn=None,\n",
        "                 pin_memory=False, drop_last=False, timeout=0,\n",
        "                 worker_init_fn=None, multiprocessing_context=None,\n",
        "                 generator=None, *, prefetch_factor=None, persistent_workers=False,\n",
        "                 pin_memory_device=\"\"):\n",
        "\n",
        "        if not CONFIG.use_nondeterministic:\n",
        "            def seed_worker(worker_id):\n",
        "                worker_seed = torch.initial_seed() % 2**32\n",
        "                np.random.seed(worker_seed)\n",
        "                random.seed(worker_seed)\n",
        "\n",
        "            generator = torch.Generator()\n",
        "            generator.manual_seed(CONFIG.seed)\n",
        "\n",
        "            worker_init_fn = seed_worker\n",
        "\n",
        "        super().__init__(dataset, batch_size, shuffle, sampler, batch_sampler, num_workers, collate_fn,\n",
        "                         pin_memory, drop_last, timeout, worker_init_fn, multiprocessing_context, generator,\n",
        "                         prefetch_factor=prefetch_factor, persistent_workers=persistent_workers,\n",
        "                         pin_memory_device=pin_memory_device)\n",
        "\n"
      ]
    },
    {
      "cell_type": "markdown",
      "metadata": {
        "id": "8COjLe2Fvmv0"
      },
      "source": [
        "#### PACS"
      ]
    },
    {
      "cell_type": "code",
      "execution_count": null,
      "metadata": {
        "id": "qJ3cq4Ofvmv1"
      },
      "outputs": [],
      "source": [
        "def get_transform(size, mean, std, preprocess):\n",
        "    transform = []\n",
        "    if preprocess:\n",
        "        transform.append(T.Resize(256))\n",
        "        transform.append(T.RandomResizedCrop(size=size, scale=(0.7, 1.0)))\n",
        "        transform.append(T.RandomHorizontalFlip())\n",
        "    else:\n",
        "        transform.append(T.Resize(size))\n",
        "    transform.append(T.ToTensor())\n",
        "    transform.append(T.Normalize(mean, std))\n",
        "    return T.Compose(transform)\n",
        "\n",
        "\n",
        "def load_data():\n",
        "    CONFIG.num_classes = 7\n",
        "    CONFIG.data_input_size = (3, 224, 224)\n",
        "\n",
        "    # Create transforms\n",
        "    mean, std = (0.485, 0.456, 0.406), (0.229, 0.224, 0.225) # ImageNet Pretrain statistics\n",
        "    train_transform = get_transform(size=224, mean=mean, std=std, preprocess=True)\n",
        "    test_transform = get_transform(size=224, mean=mean, std=std, preprocess=False)\n",
        "\n",
        "    # Load examples & create Dataset\n",
        "    #if CONFIG.experiment in ['baseline']:\n",
        "    if CONFIG.experiment in ['baseline', 'activation_shaping_last', 'activation_shaping_one', 'activation_shaping_three']:\n",
        "        source_examples, target_examples = [], []\n",
        "\n",
        "        # Load source\n",
        "        f = open(os.path.join(CONFIG.dataset_args['text_root'], f\"{CONFIG.dataset_args['source_domain']}.txt\"), 'r')\n",
        "        for line in f:\n",
        "            line = line.strip().split()\n",
        "            path, label = line[0].split('/')[0:], int(line[1])\n",
        "            source_examples.append((os.path.join(CONFIG.dataset_args['images_root'], *path), label))\n",
        "        f.close()\n",
        "\n",
        "        # Load target\n",
        "        f = open(os.path.join(CONFIG.dataset_args['text_root'], f\"{CONFIG.dataset_args['target_domain']}.txt\"), 'r')\n",
        "        for line in f:\n",
        "            line = line.strip().split()\n",
        "            path, label = line[0].split('/')[0:], int(line[1])\n",
        "            target_examples.append((os.path.join(CONFIG.dataset_args['images_root'], *path), label))\n",
        "        f.close()\n",
        "\n",
        "        train_dataset = BaseDataset(source_examples, transform=train_transform)\n",
        "        test_dataset = BaseDataset(target_examples, transform=test_transform)\n",
        "\n",
        "    ######################################################\n",
        "    #elif... TODO: Add here how to create the Dataset object for the other experiments\n",
        "\n",
        "\n",
        "    ######################################################\n",
        "\n",
        "    # Dataloaders\n",
        "    train_loader = SeededDataLoader(\n",
        "        train_dataset,\n",
        "        batch_size=CONFIG.batch_size,\n",
        "        shuffle=True,\n",
        "        num_workers=CONFIG.num_workers,\n",
        "        pin_memory=True,\n",
        "        persistent_workers=True\n",
        "    )\n",
        "\n",
        "    test_loader = SeededDataLoader(\n",
        "        test_dataset,\n",
        "        batch_size=CONFIG.batch_size,\n",
        "        shuffle=False,\n",
        "        num_workers=CONFIG.num_workers,\n",
        "        pin_memory=True,\n",
        "        persistent_workers=True\n",
        "    )\n",
        "\n",
        "    return {'train': train_loader, 'test': test_loader}"
      ]
    },
    {
      "cell_type": "markdown",
      "metadata": {
        "id": "pDUK98dRvmv1"
      },
      "source": [
        "### Models"
      ]
    },
    {
      "cell_type": "markdown",
      "metadata": {
        "id": "kRb0wPBTvmv1"
      },
      "source": [
        "#### ResNet"
      ]
    },
    {
      "cell_type": "code",
      "execution_count": null,
      "metadata": {
        "id": "RT5Z64b0vmv1"
      },
      "outputs": [],
      "source": [
        "class BaseResNet18(nn.Module):\n",
        "    def __init__(self):\n",
        "        super(BaseResNet18, self).__init__()\n",
        "        self.resnet = resnet18(weights=ResNet18_Weights)\n",
        "        self.resnet.fc = nn.Linear(self.resnet.fc.in_features, 7)\n",
        "\n",
        "\n",
        "    def forward(self, x):\n",
        "        return self.resnet(x)\n",
        "    \n",
        "######################################################\n",
        "\n",
        "def get_activation_shaping_hook (mask):\n",
        "    \n",
        "    # Activation Shaping Module as a function that shall be hooked via 'register_forward_hook'\n",
        "    def activation_shaping_hook(module, input, output):\n",
        "        A_binary = torch.where(output<=0, torch.tensor(0.0), torch.tensor(1.0))\n",
        "        M_binary = torch.where(mask<=0, torch.tensor(0.0), torch.tensor(1.0))\n",
        "        \n",
        "        shaped_output = A_binary * M_binary\n",
        "\n",
        "        return shaped_output\n",
        "    \n",
        "    return activation_shaping_hook\n",
        "\n",
        "######################################################\n",
        "\n",
        "# 'BaseResNet18' including the Activation Shaping Module\n",
        "class ASHResNet18(nn.Module):\n",
        "    def __init__(self):\n",
        "        super(ASHResNet18, self).__init__()\n",
        "        self.resnet = resnet18(pretrained=False)\n",
        "        self.resnet.fc = nn.Linear(self.resnet.fc.in_features, 7)\n",
        "\n",
        "\n",
        "    def activation_shaping_hook (self, module, input, output):\n",
        "        shaped_output = output * self.mask\n",
        "        return shaped_output\n",
        "\n",
        "\n",
        "    def define_network (self, net_name='ash_last', mask=None, mask_out_ratio=0.1):\n",
        "        if mask is None:\n",
        "            # Create a mask tensor with a given ratio of zeros\n",
        "            rand_mat = torch.rand(512, 7, 7).to(CONFIG.device)\n",
        "            self.mask_out_ratio = mask_out_ratio\n",
        "            mask = torch.where(rand_mat <= self.mask_out_ratio, 0.0, 1.0).to(CONFIG.device)\n",
        "        self.mask = mask\n",
        "\n",
        "        if net_name=='ash_last': # ASH module after last convolutional layer\n",
        "            hook = get_activation_shaping_hook(mask)\n",
        "            #self.hook_handle = self.resnet.layer4[1].relu.register_forward_hook(hook)\n",
        "            self.hook_handle = self.resnet.layer4[0].conv2.register_forward_hook(self.activation_shaping_hook)\n",
        "        \n",
        "        elif net_name=='ash_one': # ASH module after each convolutional layer\n",
        "            self.hook_handles = []\n",
        "            layers = [self.resnet.layer1, self.resnet.layer2, self.resnet.layer3, self.resnet.layer4]\n",
        "            for layer in layers:\n",
        "                for module in layer.children():\n",
        "                    if isinstance(module, nn.Conv2d):\n",
        "                        hook = get_activation_shaping_hook(mask)\n",
        "                        hook_handle = module.register_forward_hook(hook)\n",
        "                        self.hook_handles.append(hook_handle)\n",
        "        \n",
        "        elif net_name=='ash_three': # ASH module after every three convolutional layers\n",
        "            self.hook_handles = []\n",
        "            layers = [self.resnet.layer1, self.resnet.layer2, self.resnet.layer3, self.resnet.layer4]\n",
        "            for i, layer in enumerate(layers):\n",
        "                for module in layer.children():\n",
        "                    if isinstance(module, nn.Conv2d):\n",
        "                        if (i%3 == 0):\n",
        "                            hook = get_activation_shaping_hook(mask)\n",
        "                            hook_handle = module.register_forward_hook(hook)\n",
        "                            self.hook_handles.append(hook_handle)\n",
        "\n",
        "    \n",
        "    def register_activation_shaping_hook(self, layer_name = 'layer4.1.relu', mask_out_ratio = 0.0):\n",
        "        self.layer_name = layer_name\n",
        "        self.mask_out_ratio = mask_out_ratio\n",
        "\n",
        "        # create a mask tensor with a given ratio of zeros\n",
        "        print('self.mask_out_ratio: ', self.mask_out_ratio)\n",
        "        rand_mat = torch.rand(512, 7, 7).to(CONFIG.device)\n",
        "        mask = torch.where(rand_mat <= self.mask_out_ratio, 0.0, 1.0).to(CONFIG.device)\n",
        "\n",
        "        hook = get_activation_shaping_hook(mask)\n",
        "        # penultimate_layer = self.resnet.layer4[1].bn2\n",
        "        # self.hook_handle = penultimate_layer.register_forward_hook(hook)\n",
        "\n",
        "        for name, module in self.resnet.named_modules():\n",
        "          if (isinstance(module, nn.ReLU) and name == self.layer_name):\n",
        "            print('Insert activation shaping layer after ', name, module)\n",
        "            self.hook_handle = module.register_forward_hook(hook)\n",
        "\n",
        "    \n",
        "    def remove_activation_shaping_hook (self):\n",
        "        if self.hook_handle is not None:\n",
        "            self.hook_handle.remove()\n",
        "\n",
        "    \n",
        "    def remove_activation_shaping_hooks (self):\n",
        "        if self.hook_handles is not None:\n",
        "            for hook_handle in self.hook_handles:\n",
        "                hook_handle.remove()\n",
        "\n",
        "\n",
        "    def forward(self, x):\n",
        "        return self.resnet(x)\n",
        "\n",
        "######################################################"
      ]
    },
    {
      "cell_type": "markdown",
      "metadata": {
        "id": "qSD7qmGTvmv2"
      },
      "source": [
        "### Run"
      ]
    },
    {
      "cell_type": "markdown",
      "metadata": {
        "id": "Xw07UrGmdRdk"
      },
      "source": [
        "Evaluate"
      ]
    },
    {
      "cell_type": "code",
      "execution_count": null,
      "metadata": {
        "id": "LP7mr-ccdRdl"
      },
      "outputs": [],
      "source": [
        "@torch.no_grad()\n",
        "def evaluate(model, data):\n",
        "    model.eval()\n",
        "\n",
        "    acc_meter = Accuracy(task='multiclass', num_classes=CONFIG.num_classes)\n",
        "    acc_meter = acc_meter.to(CONFIG.device)\n",
        "\n",
        "    loss = [0.0, 0]\n",
        "    for x, y in tqdm(data):\n",
        "        with torch.autocast(device_type=CONFIG.device, dtype=torch.float16, enabled=True):\n",
        "            x, y = x.to(CONFIG.device), y.to(CONFIG.device)\n",
        "            logits = model(x)\n",
        "            acc_meter.update(logits, y)\n",
        "            loss[0] += F.cross_entropy(logits, y).item()\n",
        "            loss[1] += x.size(0)\n",
        "\n",
        "    accuracy = acc_meter.compute()\n",
        "    loss = loss[0] / loss[1]\n",
        "    logging.info(f'Accuracy: {100 * accuracy:.2f} - Loss: {loss}')\n",
        "    print(f'Accuracy: {100 * accuracy:.2f} - Loss: {loss} \\n')"
      ]
    },
    {
      "cell_type": "markdown",
      "metadata": {
        "id": "i6uEldLZdRdl"
      },
      "source": [
        "Train"
      ]
    },
    {
      "cell_type": "code",
      "execution_count": null,
      "metadata": {
        "id": "98_3TWLTvmv2"
      },
      "outputs": [],
      "source": [
        "def train(model, data):\n",
        "    # Create optimizers & schedulers\n",
        "    optimizer = torch.optim.SGD(model.parameters(), weight_decay=0.0005, momentum=0.9, nesterov=True, lr=0.001)\n",
        "    scheduler = torch.optim.lr_scheduler.StepLR(optimizer, step_size=int(CONFIG.epochs * 0.8), gamma=0.1)\n",
        "    scaler = torch.cuda.amp.GradScaler(enabled=True)\n",
        "\n",
        "    # Load checkpoint (if it exists)\n",
        "    cur_epoch = 0\n",
        "    if os.path.exists(os.path.join('record', CONFIG.experiment_name, 'last.pth')):\n",
        "        checkpoint = torch.load(os.path.join('record', CONFIG.experiment_name, 'last.pth'))\n",
        "        cur_epoch = checkpoint['epoch']\n",
        "        optimizer.load_state_dict(checkpoint['optimizer'])\n",
        "        scheduler.load_state_dict(checkpoint['scheduler'])\n",
        "        model.load_state_dict(checkpoint['model'])\n",
        "\n",
        "    # Optimization loop\n",
        "    for epoch in range(cur_epoch, CONFIG.epochs):\n",
        "        model.train()\n",
        "\n",
        "        for batch_idx, batch in enumerate(tqdm(data['train'])):\n",
        "\n",
        "            # Compute loss\n",
        "            with torch.autocast(device_type=CONFIG.device, dtype=torch.float16, enabled=True):\n",
        "\n",
        "                #if CONFIG.experiment in ['baseline']:\n",
        "                if CONFIG.experiment in ['baseline']:\n",
        "                    x, y = batch\n",
        "                    x, y = x.to(CONFIG.device), y.to(CONFIG.device)\n",
        "                    loss = F.cross_entropy(model(x), y)\n",
        "                ######################################################\n",
        "\n",
        "                elif CONFIG.experiment in ['activation_shaping_last', 'activation_shaping_one', 'activation_shaping_three']:\n",
        "                    x, y = batch\n",
        "                    x, y = x.to(CONFIG.device), y.to(CONFIG.device)\n",
        "                    loss = F.cross_entropy(model(x), y)\n",
        "                elif CONFIG.expriment in ['random']:\n",
        "                    x, y = batch\n",
        "                    x, y = x.to(CONFIG.device), y.to(CONFIG.device)\n",
        "                    loss = F.cross_entropy(model(x), y)\n",
        "\n",
        "                ######################################################\n",
        "\n",
        "            # Optimization step\n",
        "            scaler.scale(loss / CONFIG.grad_accum_steps).backward()\n",
        "\n",
        "            if ((batch_idx + 1) % CONFIG.grad_accum_steps == 0) or (batch_idx + 1 == len(data['train'])):\n",
        "                scaler.step(optimizer)\n",
        "                optimizer.zero_grad(set_to_none=True)\n",
        "                scaler.update()\n",
        "\n",
        "        scheduler.step()\n",
        "\n",
        "        # Test current epoch\n",
        "        logging.info(f'[TEST @ Epoch={epoch}]')\n",
        "        evaluate(model, data['test'])\n",
        "\n",
        "        # Save checkpoint\n",
        "        checkpoint = {\n",
        "            'epoch': epoch + 1,\n",
        "            'optimizer': optimizer.state_dict(),\n",
        "            'scheduler': scheduler.state_dict(),\n",
        "            'model': model.state_dict()\n",
        "        }\n",
        "        torch.save(checkpoint, os.path.join('record', CONFIG.experiment_name, 'last.pth'))"
      ]
    },
    {
      "cell_type": "markdown",
      "metadata": {
        "id": "zKNcF0QVOT-N"
      },
      "source": [
        "Main"
      ]
    },
    {
      "cell_type": "code",
      "execution_count": null,
      "metadata": {
        "id": "veneeQdydRdl"
      },
      "outputs": [],
      "source": [
        "def main (mask_out_ratio=0.1):\n",
        "    # Load dataset\n",
        "    data = load_data()\n",
        "\n",
        "    # Load model\n",
        "    if CONFIG.experiment in ['baseline']:\n",
        "        model = BaseResNet18()\n",
        "    ######################################################\n",
        "\n",
        "    elif CONFIG.experiment in ['activation_shaping_last']:\n",
        "        model = ASHResNet18()\n",
        "        model.define_network('ash_last', mask_out_ratio=0.1)\n",
        "    elif CONFIG.experiment in ['activation_shaping_one']:\n",
        "        model = ASHResNet18()\n",
        "        model.define_network('ash_one', mask_out_ratio=0.1)\n",
        "    elif CONFIG.experiment in ['activation_shaping_three']:\n",
        "        model = ASHResNet18()\n",
        "        model.define_network('ash_three', mask_out_ratio=0.1)\n",
        "\n",
        "    elif CONFIG.experiment in ['random']:\n",
        "        model = ASHResNet18()\n",
        "        model.define_network('ash_last', mask_out_ratio=mask_out_ratio)\n",
        "\n",
        "    ######################################################\n",
        "\n",
        "    model.to(CONFIG.device)\n",
        "\n",
        "    if not CONFIG.test_only:\n",
        "        train(model, data)\n",
        "    else:\n",
        "        evaluate(model, data['test'])\n",
        "\n",
        "    if CONFIG.experiment in ['activation_shaping_last']:\n",
        "        model.remove_activation_shaping_hook()\n",
        "    elif CONFIG.experiment in ['activation_shaping_one', 'activation_shaping_three']:\n",
        "        model.remove_activation_shaping_hooks()"
      ]
    },
    {
      "cell_type": "markdown",
      "metadata": {
        "id": "0XMhO3LgdRdl"
      },
      "source": [
        "### Baseline"
      ]
    },
    {
      "cell_type": "markdown",
      "metadata": {
        "id": "DFjB655wdRdm"
      },
      "source": [
        "Art painting &rightarrow; Cartoon"
      ]
    },
    {
      "cell_type": "code",
      "execution_count": null,
      "metadata": {
        "colab": {
          "base_uri": "https://localhost:8080/"
        },
        "id": "6lI_Y0btdRdm",
        "outputId": "d37bfc1c-c08a-48d6-a1b3-c4b51c17be24"
      },
      "outputs": [],
      "source": [
        "warnings.filterwarnings('ignore', category=UserWarning)\n",
        "\n",
        "# Parse arguments\n",
        "conf = { # Cartoon\n",
        "    'seed': 0,\n",
        "    'test_only': False,\n",
        "    'cpu': False,\n",
        "    'experiment': 'baseline',\n",
        "    'experiment_name': 'baseline/cartoon/',\n",
        "    'experiment_args': '{}',\n",
        "    'dataset_args': { 'text_root': 'data', 'images_root': 'data/kfold/PACS', 'source_domain': 'art_painting', 'target_domain': 'cartoon' },\n",
        "    'batch_size': 128,\n",
        "    'epochs': 30,\n",
        "    'num_workers': 5,\n",
        "    'grad_accum_steps': 1\n",
        "}\n",
        "\n",
        "#args = parse_arguments()\n",
        "args = argparse.Namespace(**conf)\n",
        "print(args)\n",
        "CONFIG.update(vars(args))\n",
        "\n",
        "# Setup output directory\n",
        "CONFIG.save_dir = os.path.join('record', CONFIG.experiment_name)\n",
        "os.makedirs(CONFIG.save_dir, exist_ok=True)\n",
        "\n",
        "# Setup logging\n",
        "logging.basicConfig(\n",
        "    filename=os.path.join(CONFIG.save_dir, 'log.txt'),\n",
        "    format='%(message)s',\n",
        "    level=logging.INFO,\n",
        "    filemode='a'\n",
        ")\n",
        "\n",
        "# Set experiment's device & deterministic behavior\n",
        "if CONFIG.cpu:\n",
        "    CONFIG.device = 'cpu'\n",
        "else:\n",
        "    CONFIG.device = 'cuda' if torch.cuda.is_available() else 'cpu'\n",
        "\n",
        "torch.manual_seed(CONFIG.seed)\n",
        "random.seed(CONFIG.seed)\n",
        "np.random.seed(CONFIG.seed)\n",
        "torch.backends.cudnn.benchmark = True\n",
        "torch.use_deterministic_algorithms(mode=True, warn_only=True)\n",
        "\n",
        "main()"
      ]
    },
    {
      "cell_type": "markdown",
      "metadata": {
        "id": "5AXg2S2XdRd9"
      },
      "source": [
        "Art painting &rightarrow; Sketch"
      ]
    },
    {
      "cell_type": "code",
      "execution_count": null,
      "metadata": {
        "colab": {
          "base_uri": "https://localhost:8080/"
        },
        "id": "IBYGqertdRd_",
        "outputId": "b8aee08d-c63c-4f3e-a7fe-2957b719f3be"
      },
      "outputs": [],
      "source": [
        "warnings.filterwarnings('ignore', category=UserWarning)\n",
        "\n",
        "# Parse arguments\n",
        "conf = { # Sketch\n",
        "    'seed': 0,\n",
        "    'test_only': False,\n",
        "    'cpu': False,\n",
        "    'experiment': 'baseline',\n",
        "    'experiment_name': 'baseline/sketch/',\n",
        "    'experiment_args': '{}',\n",
        "    'dataset_args': { 'text_root': 'data', 'images_root': 'data/kfold/PACS', 'source_domain': 'art_painting', 'target_domain': 'sketch' },\n",
        "    'batch_size': 128,\n",
        "    'epochs': 30,\n",
        "    'num_workers': 5,\n",
        "    'grad_accum_steps': 1\n",
        "}\n",
        "\n",
        "#args = parse_arguments()\n",
        "args = argparse.Namespace(**conf)\n",
        "print(args)\n",
        "CONFIG.update(vars(args))\n",
        "\n",
        "# Setup output directory\n",
        "CONFIG.save_dir = os.path.join('record', CONFIG.experiment_name)\n",
        "os.makedirs(CONFIG.save_dir, exist_ok=True)\n",
        "\n",
        "# Setup logging\n",
        "logging.basicConfig(\n",
        "    filename=os.path.join(CONFIG.save_dir, 'log.txt'),\n",
        "    format='%(message)s',\n",
        "    level=logging.INFO,\n",
        "    filemode='a'\n",
        ")\n",
        "\n",
        "# Set experiment's device & deterministic behavior\n",
        "if CONFIG.cpu:\n",
        "    CONFIG.device = 'cpu'\n",
        "else:\n",
        "    CONFIG.device = 'cuda' if torch.cuda.is_available() else 'cpu'\n",
        "\n",
        "torch.manual_seed(CONFIG.seed)\n",
        "random.seed(CONFIG.seed)\n",
        "np.random.seed(CONFIG.seed)\n",
        "torch.backends.cudnn.benchmark = True\n",
        "torch.use_deterministic_algorithms(mode=True, warn_only=True)\n",
        "\n",
        "main()"
      ]
    },
    {
      "cell_type": "markdown",
      "metadata": {
        "id": "pTblrtLQdReB"
      },
      "source": [
        "Art painting &rightarrow; Photo"
      ]
    },
    {
      "cell_type": "code",
      "execution_count": null,
      "metadata": {
        "colab": {
          "base_uri": "https://localhost:8080/"
        },
        "id": "n2KdYH7CdReB",
        "outputId": "16f85b52-39bb-45d8-b551-c970b90cec93"
      },
      "outputs": [],
      "source": [
        "warnings.filterwarnings('ignore', category=UserWarning)\n",
        "\n",
        "# Parse arguments\n",
        "conf = { # Photo\n",
        "    'seed': 0,\n",
        "    'test_only': False,\n",
        "    'cpu': False,\n",
        "    'experiment': 'baseline',\n",
        "    'experiment_name': 'baseline/photo/',\n",
        "    'experiment_args': '{}',\n",
        "    'dataset_args': { 'text_root': 'data', 'images_root': 'data/kfold/PACS', 'source_domain': 'art_painting', 'target_domain': 'photo' },\n",
        "    'batch_size': 128,\n",
        "    'epochs': 30,\n",
        "    'num_workers': 5,\n",
        "    'grad_accum_steps': 1\n",
        "}\n",
        "\n",
        "#args = parse_arguments()\n",
        "args = argparse.Namespace(**conf)\n",
        "print(args)\n",
        "CONFIG.update(vars(args))\n",
        "\n",
        "# Setup output directory\n",
        "CONFIG.save_dir = os.path.join('record', CONFIG.experiment_name)\n",
        "os.makedirs(CONFIG.save_dir, exist_ok=True)\n",
        "\n",
        "# Setup logging\n",
        "logging.basicConfig(\n",
        "    filename=os.path.join(CONFIG.save_dir, 'log.txt'),\n",
        "    format='%(message)s',\n",
        "    level=logging.INFO,\n",
        "    filemode='a'\n",
        ")\n",
        "\n",
        "# Set experiment's device & deterministic behavior\n",
        "if CONFIG.cpu:\n",
        "    CONFIG.device = 'cpu'\n",
        "else:\n",
        "    CONFIG.device = 'cuda' if torch.cuda.is_available() else 'cpu'\n",
        "\n",
        "torch.manual_seed(CONFIG.seed)\n",
        "random.seed(CONFIG.seed)\n",
        "np.random.seed(CONFIG.seed)\n",
        "torch.backends.cudnn.benchmark = True\n",
        "torch.use_deterministic_algorithms(mode=True, warn_only=True)\n",
        "\n",
        "main()"
      ]
    },
    {
      "cell_type": "markdown",
      "metadata": {
        "id": "jLG77qbMvmv2"
      },
      "source": [
        "## 1 - Activation Shaping module"
      ]
    },
    {
      "cell_type": "markdown",
      "metadata": {
        "id": "ASds1POidReC"
      },
      "source": [
        "### Hook after last layer"
      ]
    },
    {
      "cell_type": "markdown",
      "metadata": {
        "id": "vWdOhcHSdReC"
      },
      "source": [
        "Art painting &rightarrow; Cartoon"
      ]
    },
    {
      "cell_type": "code",
      "execution_count": null,
      "metadata": {
        "colab": {
          "base_uri": "https://localhost:8080/"
        },
        "id": "MIpaGpTBdReC",
        "outputId": "1a0fd82e-04ee-4dea-a567-40b5a82f156e"
      },
      "outputs": [],
      "source": [
        "warnings.filterwarnings('ignore', category=UserWarning)\n",
        "\n",
        "# Parse arguments\n",
        "conf = { # Cartoon\n",
        "    'seed': 0,\n",
        "    'test_only': False,\n",
        "    'cpu': False,\n",
        "    'experiment': 'activation_shaping_last',\n",
        "    'experiment_name': 'ash_last/cartoon/',\n",
        "    'experiment_args': '{}',\n",
        "    'dataset_args': {'text_root': 'data', 'images_root': 'data/kfold/PACS', 'source_domain': 'art_painting', 'target_domain': 'cartoon' },\n",
        "    'batch_size': 128,\n",
        "    'epochs': 30,\n",
        "    'num_workers': 5,\n",
        "    'grad_accum_steps': 1\n",
        "}\n",
        "\n",
        "args = argparse.Namespace(**conf)\n",
        "print(args)\n",
        "CONFIG.update(vars(args))\n",
        "\n",
        "# Setup output directory\n",
        "CONFIG.save_dir = os.path.join('record', CONFIG.experiment_name)\n",
        "os.makedirs(CONFIG.save_dir, exist_ok=True)\n",
        "\n",
        "# Setup logging\n",
        "logging.basicConfig(\n",
        "    filename=os.path.join(CONFIG.save_dir, 'log.txt'),\n",
        "    format='%(message)s',\n",
        "    level=logging.INFO,\n",
        "    filemode='a'\n",
        ")\n",
        "\n",
        "# Set experiment's device & deterministic behavior\n",
        "if CONFIG.cpu: CONFIG.device = 'cpu'\n",
        "else: CONFIG.device = 'cuda' if torch.cuda.is_available() else 'cpu'\n",
        "\n",
        "torch.manual_seed(CONFIG.seed)\n",
        "random.seed(CONFIG.seed)\n",
        "np.random.seed(CONFIG.seed)\n",
        "torch.backends.cudnn.benchmark = True\n",
        "torch.use_deterministic_algorithms(mode=True, warn_only=True)\n",
        "\n",
        "main()"
      ]
    },
    {
      "cell_type": "markdown",
      "metadata": {
        "id": "wLZCIj8RdReC"
      },
      "source": [
        "Art painting &rightarrow; Sketch"
      ]
    },
    {
      "cell_type": "code",
      "execution_count": null,
      "metadata": {
        "colab": {
          "base_uri": "https://localhost:8080/"
        },
        "id": "4OrWYB2LdReD",
        "outputId": "f2e8094b-2159-4b9d-ded9-683a5a3d4e43"
      },
      "outputs": [],
      "source": [
        "warnings.filterwarnings('ignore', category=UserWarning)\n",
        "\n",
        "# Parse arguments\n",
        "conf = { # Sketch\n",
        "    'seed': 0,\n",
        "    'test_only': False,\n",
        "    'cpu': False,\n",
        "    'experiment': 'activation_shaping_last',\n",
        "    'experiment_name': 'ash_last/sketch/',\n",
        "    'experiment_args': '{}',\n",
        "    'dataset_args': {'text_root': 'data', 'images_root': 'data/kfold/PACS', 'source_domain': 'art_painting', 'target_domain': 'sketch' },\n",
        "    'batch_size': 128,\n",
        "    'epochs': 30,\n",
        "    'num_workers': 5,\n",
        "    'grad_accum_steps': 1\n",
        "}\n",
        "\n",
        "args = argparse.Namespace(**conf)\n",
        "print(args)\n",
        "CONFIG.update(vars(args))\n",
        "\n",
        "# Setup output directory\n",
        "CONFIG.save_dir = os.path.join('record', CONFIG.experiment_name)\n",
        "os.makedirs(CONFIG.save_dir, exist_ok=True)\n",
        "\n",
        "# Setup logging\n",
        "logging.basicConfig(\n",
        "    filename=os.path.join(CONFIG.save_dir, 'log.txt'),\n",
        "    format='%(message)s',\n",
        "    level=logging.INFO,\n",
        "    filemode='a'\n",
        ")\n",
        "\n",
        "# Set experiment's device & deterministic behavior\n",
        "if CONFIG.cpu: CONFIG.device = 'cpu'\n",
        "else: CONFIG.device = 'cuda' if torch.cuda.is_available() else 'cpu'\n",
        "\n",
        "torch.manual_seed(CONFIG.seed)\n",
        "random.seed(CONFIG.seed)\n",
        "np.random.seed(CONFIG.seed)\n",
        "torch.backends.cudnn.benchmark = True\n",
        "torch.use_deterministic_algorithms(mode=True, warn_only=True)\n",
        "\n",
        "main()"
      ]
    },
    {
      "cell_type": "markdown",
      "metadata": {
        "id": "e0rHeyv8dReD"
      },
      "source": [
        "Art painting &rightarrow; Photo"
      ]
    },
    {
      "cell_type": "code",
      "execution_count": null,
      "metadata": {
        "colab": {
          "base_uri": "https://localhost:8080/"
        },
        "id": "uzCytAG3dReD",
        "outputId": "85a9d4d5-2cf2-43ec-e656-f002fec128a5"
      },
      "outputs": [],
      "source": [
        "warnings.filterwarnings('ignore', category=UserWarning)\n",
        "\n",
        "# Parse arguments\n",
        "conf = { # Photo\n",
        "    'seed': 0,\n",
        "    'test_only': False,\n",
        "    'cpu': False,\n",
        "    'experiment': 'activation_shaping_last',\n",
        "    'experiment_name': 'ash_last/photo/',\n",
        "    'experiment_args': '{}',\n",
        "    'dataset_args': {'text_root': 'data', 'images_root': 'data/kfold/PACS', 'source_domain': 'art_painting', 'target_domain': 'photo' },\n",
        "    'batch_size': 128,\n",
        "    'epochs': 30,\n",
        "    'num_workers': 5,\n",
        "    'grad_accum_steps': 1\n",
        "}\n",
        "\n",
        "args = argparse.Namespace(**conf)\n",
        "print(args)\n",
        "CONFIG.update(vars(args))\n",
        "\n",
        "# Setup output directory\n",
        "CONFIG.save_dir = os.path.join('record', CONFIG.experiment_name)\n",
        "os.makedirs(CONFIG.save_dir, exist_ok=True)\n",
        "\n",
        "# Setup logging\n",
        "logging.basicConfig(\n",
        "    filename=os.path.join(CONFIG.save_dir, 'log.txt'),\n",
        "    format='%(message)s',\n",
        "    level=logging.INFO,\n",
        "    filemode='a'\n",
        ")\n",
        "\n",
        "# Set experiment's device & deterministic behavior\n",
        "if CONFIG.cpu: CONFIG.device = 'cpu'\n",
        "else: CONFIG.device = 'cuda' if torch.cuda.is_available() else 'cpu'\n",
        "\n",
        "torch.manual_seed(CONFIG.seed)\n",
        "random.seed(CONFIG.seed)\n",
        "np.random.seed(CONFIG.seed)\n",
        "torch.backends.cudnn.benchmark = True\n",
        "torch.use_deterministic_algorithms(mode=True, warn_only=True)\n",
        "\n",
        "main()"
      ]
    },
    {
      "cell_type": "markdown",
      "metadata": {
        "id": "NpJ6Y5M-dReD"
      },
      "source": [
        "### Hook after every convolutional layer"
      ]
    },
    {
      "cell_type": "markdown",
      "metadata": {
        "id": "i4BhP1jEOT-c"
      },
      "source": [
        "Art Painting &rightarrow; Cartoon"
      ]
    },
    {
      "cell_type": "code",
      "execution_count": null,
      "metadata": {
        "colab": {
          "base_uri": "https://localhost:8080/"
        },
        "id": "JYwC6ft6dReE",
        "outputId": "4329343f-9827-4442-8604-394596dc03b1"
      },
      "outputs": [],
      "source": [
        "warnings.filterwarnings('ignore', category=UserWarning)\n",
        "\n",
        "# Parse arguments\n",
        "conf = { # Cartoon\n",
        "    'seed': 0,\n",
        "    'test_only': False,\n",
        "    'cpu': False,\n",
        "    'experiment': 'activation_shaping_one',\n",
        "    'experiment_name': 'ash_one/cartoon/',\n",
        "    'experiment_args': '{}',\n",
        "    'dataset_args': {'text_root': 'data', 'images_root': 'data/kfold/PACS', 'source_domain': 'art_painting', 'target_domain': 'cartoon' },\n",
        "    'batch_size': 128,\n",
        "    'epochs': 30,\n",
        "    'num_workers': 5,\n",
        "    'grad_accum_steps': 1\n",
        "}\n",
        "\n",
        "args = argparse.Namespace(**conf)\n",
        "print(args)\n",
        "CONFIG.update(vars(args))\n",
        "\n",
        "# Setup output directory\n",
        "CONFIG.save_dir = os.path.join('record', CONFIG.experiment_name)\n",
        "os.makedirs(CONFIG.save_dir, exist_ok=True)\n",
        "\n",
        "# Setup logging\n",
        "logging.basicConfig(\n",
        "    filename=os.path.join(CONFIG.save_dir, 'log.txt'),\n",
        "    format='%(message)s',\n",
        "    level=logging.INFO,\n",
        "    filemode='a'\n",
        ")\n",
        "\n",
        "# Set experiment's device & deterministic behavior\n",
        "if CONFIG.cpu: CONFIG.device = 'cpu'\n",
        "else: CONFIG.device = 'cuda' if torch.cuda.is_available() else 'cpu'\n",
        "\n",
        "torch.manual_seed(CONFIG.seed)\n",
        "random.seed(CONFIG.seed)\n",
        "np.random.seed(CONFIG.seed)\n",
        "torch.backends.cudnn.benchmark = True\n",
        "torch.use_deterministic_algorithms(mode=True, warn_only=True)\n",
        "\n",
        "main()"
      ]
    },
    {
      "cell_type": "markdown",
      "metadata": {
        "id": "oAbe3UM0dReE"
      },
      "source": [
        "### Hook after every three convolutional layers"
      ]
    },
    {
      "cell_type": "markdown",
      "metadata": {
        "id": "A3Ou43e5OT-f"
      },
      "source": [
        "Art Painting &rightarrow; Cartoon"
      ]
    },
    {
      "cell_type": "code",
      "execution_count": null,
      "metadata": {
        "colab": {
          "base_uri": "https://localhost:8080/"
        },
        "id": "NWsWVS3vdReF",
        "outputId": "35ba649f-ff15-4229-ae9f-5f26e4bbe61f"
      },
      "outputs": [],
      "source": [
        "warnings.filterwarnings('ignore', category=UserWarning)\n",
        "\n",
        "# Parse arguments\n",
        "conf = { # Cartoon\n",
        "    'seed': 0,\n",
        "    'test_only': False,\n",
        "    'cpu': False,\n",
        "    'experiment': 'activation_shaping_three',\n",
        "    'experiment_name': 'ash_three/cartoon/',\n",
        "    'experiment_args': '{}',\n",
        "    'dataset_args': {'text_root': 'data', 'images_root': 'data/kfold/PACS', 'source_domain': 'art_painting', 'target_domain': 'cartoon' },\n",
        "    'batch_size': 128,\n",
        "    'epochs': 30,\n",
        "    'num_workers': 5,\n",
        "    'grad_accum_steps': 1\n",
        "}\n",
        "\n",
        "args = argparse.Namespace(**conf)\n",
        "print(args)\n",
        "CONFIG.update(vars(args))\n",
        "\n",
        "# Setup output directory\n",
        "CONFIG.save_dir = os.path.join('record', CONFIG.experiment_name)\n",
        "os.makedirs(CONFIG.save_dir, exist_ok=True)\n",
        "\n",
        "# Setup logging\n",
        "logging.basicConfig(\n",
        "    filename=os.path.join(CONFIG.save_dir, 'log.txt'),\n",
        "    format='%(message)s',\n",
        "    level=logging.INFO,\n",
        "    filemode='a'\n",
        ")\n",
        "\n",
        "# Set experiment's device & deterministic behavior\n",
        "if CONFIG.cpu: CONFIG.device = 'cpu'\n",
        "else: CONFIG.device = 'cuda' if torch.cuda.is_available() else 'cpu'\n",
        "\n",
        "torch.manual_seed(CONFIG.seed)\n",
        "random.seed(CONFIG.seed)\n",
        "np.random.seed(CONFIG.seed)\n",
        "torch.backends.cudnn.benchmark = True\n",
        "torch.use_deterministic_algorithms(mode=True, warn_only=True)\n",
        "\n",
        "main()"
      ]
    },
    {
      "cell_type": "markdown",
      "metadata": {
        "id": "34WzO42cvmv3"
      },
      "source": [
        "## 2 - Random Activation Maps"
      ]
    },
    {
      "cell_type": "markdown",
      "metadata": {},
      "source": [
        "### mask out ratio = 0.4"
      ]
    },
    {
      "cell_type": "markdown",
      "metadata": {},
      "source": [
        "Art Painting &rightarrow; Cartoon"
      ]
    },
    {
      "cell_type": "code",
      "execution_count": null,
      "metadata": {},
      "outputs": [],
      "source": [
        "warnings.filterwarnings('ignore', category=UserWarning)\n",
        "\n",
        "# Parse arguments\n",
        "conf = { # Cartoon\n",
        "    'seed': 0,\n",
        "    'test_only': False,\n",
        "    'cpu': False,\n",
        "    'experiment': 'random',\n",
        "    'experiment_name': 'random/case1/cartoon/',\n",
        "    'experiment_args': '{}',\n",
        "    'dataset_args': {'text_root': 'data', 'images_root': 'data/kfold/PACS', 'source_domain': 'art_painting', 'target_domain': 'cartoon' },\n",
        "    'batch_size': 128,\n",
        "    'epochs': 30,\n",
        "    'num_workers': 5,\n",
        "    'grad_accum_steps': 1\n",
        "}\n",
        "\n",
        "args = argparse.Namespace(**conf)\n",
        "print(args)\n",
        "CONFIG.update(vars(args))\n",
        "\n",
        "# Setup output directory\n",
        "CONFIG.save_dir = os.path.join('record', CONFIG.experiment_name)\n",
        "os.makedirs(CONFIG.save_dir, exist_ok=True)\n",
        "\n",
        "# Setup logging\n",
        "logging.basicConfig(\n",
        "    filename=os.path.join(CONFIG.save_dir, 'log.txt'),\n",
        "    format='%(message)s',\n",
        "    level=logging.INFO,\n",
        "    filemode='a'\n",
        ")\n",
        "\n",
        "# Set experiment's device & deterministic behavior\n",
        "if CONFIG.cpu: CONFIG.device = 'cpu'\n",
        "else: CONFIG.device = 'cuda' if torch.cuda.is_available() else 'cpu'\n",
        "\n",
        "torch.manual_seed(CONFIG.seed)\n",
        "random.seed(CONFIG.seed)\n",
        "np.random.seed(CONFIG.seed)\n",
        "torch.backends.cudnn.benchmark = True\n",
        "torch.use_deterministic_algorithms(mode=True, warn_only=True)\n",
        "\n",
        "main(0.4)"
      ]
    },
    {
      "cell_type": "markdown",
      "metadata": {},
      "source": [
        "Art Painting &rightarrow; Sketch"
      ]
    },
    {
      "cell_type": "code",
      "execution_count": null,
      "metadata": {},
      "outputs": [],
      "source": [
        "warnings.filterwarnings('ignore', category=UserWarning)\n",
        "\n",
        "# Parse arguments\n",
        "conf = { # Cartoon\n",
        "    'seed': 0,\n",
        "    'test_only': False,\n",
        "    'cpu': False,\n",
        "    'experiment': 'random',\n",
        "    'experiment_name': 'random/case1/sketch/',\n",
        "    'experiment_args': '{}',\n",
        "    'dataset_args': {'text_root': 'data', 'images_root': 'data/kfold/PACS', 'source_domain': 'art_painting', 'target_domain': 'sketch' },\n",
        "    'batch_size': 128,\n",
        "    'epochs': 30,\n",
        "    'num_workers': 5,\n",
        "    'grad_accum_steps': 1\n",
        "}\n",
        "\n",
        "args = argparse.Namespace(**conf)\n",
        "print(args)\n",
        "CONFIG.update(vars(args))\n",
        "\n",
        "# Setup output directory\n",
        "CONFIG.save_dir = os.path.join('record', CONFIG.experiment_name)\n",
        "os.makedirs(CONFIG.save_dir, exist_ok=True)\n",
        "\n",
        "# Setup logging\n",
        "logging.basicConfig(\n",
        "    filename=os.path.join(CONFIG.save_dir, 'log.txt'),\n",
        "    format='%(message)s',\n",
        "    level=logging.INFO,\n",
        "    filemode='a'\n",
        ")\n",
        "\n",
        "# Set experiment's device & deterministic behavior\n",
        "if CONFIG.cpu: CONFIG.device = 'cpu'\n",
        "else: CONFIG.device = 'cuda' if torch.cuda.is_available() else 'cpu'\n",
        "\n",
        "torch.manual_seed(CONFIG.seed)\n",
        "random.seed(CONFIG.seed)\n",
        "np.random.seed(CONFIG.seed)\n",
        "torch.backends.cudnn.benchmark = True\n",
        "torch.use_deterministic_algorithms(mode=True, warn_only=True)\n",
        "\n",
        "main(0.4)"
      ]
    },
    {
      "cell_type": "markdown",
      "metadata": {},
      "source": [
        "Art Painting &rightarrow; Photo"
      ]
    },
    {
      "cell_type": "code",
      "execution_count": null,
      "metadata": {},
      "outputs": [],
      "source": [
        "warnings.filterwarnings('ignore', category=UserWarning)\n",
        "\n",
        "# Parse arguments\n",
        "conf = { # Cartoon\n",
        "    'seed': 0,\n",
        "    'test_only': False,\n",
        "    'cpu': False,\n",
        "    'experiment': 'random',\n",
        "    'experiment_name': 'random/case1/photo/',\n",
        "    'experiment_args': '{}',\n",
        "    'dataset_args': {'text_root': 'data', 'images_root': 'data/kfold/PACS', 'source_domain': 'art_painting', 'target_domain': 'photo' },\n",
        "    'batch_size': 128,\n",
        "    'epochs': 30,\n",
        "    'num_workers': 5,\n",
        "    'grad_accum_steps': 1\n",
        "}\n",
        "\n",
        "args = argparse.Namespace(**conf)\n",
        "print(args)\n",
        "CONFIG.update(vars(args))\n",
        "\n",
        "# Setup output directory\n",
        "CONFIG.save_dir = os.path.join('record', CONFIG.experiment_name)\n",
        "os.makedirs(CONFIG.save_dir, exist_ok=True)\n",
        "\n",
        "# Setup logging\n",
        "logging.basicConfig(\n",
        "    filename=os.path.join(CONFIG.save_dir, 'log.txt'),\n",
        "    format='%(message)s',\n",
        "    level=logging.INFO,\n",
        "    filemode='a'\n",
        ")\n",
        "\n",
        "# Set experiment's device & deterministic behavior\n",
        "if CONFIG.cpu: CONFIG.device = 'cpu'\n",
        "else: CONFIG.device = 'cuda' if torch.cuda.is_available() else 'cpu'\n",
        "\n",
        "torch.manual_seed(CONFIG.seed)\n",
        "random.seed(CONFIG.seed)\n",
        "np.random.seed(CONFIG.seed)\n",
        "torch.backends.cudnn.benchmark = True\n",
        "torch.use_deterministic_algorithms(mode=True, warn_only=True)\n",
        "\n",
        "main(0.4)"
      ]
    },
    {
      "cell_type": "markdown",
      "metadata": {},
      "source": [
        "### mask out ratio = 0.55"
      ]
    },
    {
      "cell_type": "markdown",
      "metadata": {},
      "source": [
        "Art Painting &rightarrow; Cartoon"
      ]
    },
    {
      "cell_type": "code",
      "execution_count": null,
      "metadata": {},
      "outputs": [],
      "source": [
        "warnings.filterwarnings('ignore', category=UserWarning)\n",
        "\n",
        "# Parse arguments\n",
        "conf = { # Cartoon\n",
        "    'seed': 0,\n",
        "    'test_only': False,\n",
        "    'cpu': False,\n",
        "    'experiment': 'random',\n",
        "    'experiment_name': 'random/case2/cartoon/',\n",
        "    'experiment_args': '{}',\n",
        "    'dataset_args': {'text_root': 'data', 'images_root': 'data/kfold/PACS', 'source_domain': 'art_painting', 'target_domain': 'cartoon' },\n",
        "    'batch_size': 128,\n",
        "    'epochs': 30,\n",
        "    'num_workers': 5,\n",
        "    'grad_accum_steps': 1\n",
        "}\n",
        "\n",
        "args = argparse.Namespace(**conf)\n",
        "print(args)\n",
        "CONFIG.update(vars(args))\n",
        "\n",
        "# Setup output directory\n",
        "CONFIG.save_dir = os.path.join('record', CONFIG.experiment_name)\n",
        "os.makedirs(CONFIG.save_dir, exist_ok=True)\n",
        "\n",
        "# Setup logging\n",
        "logging.basicConfig(\n",
        "    filename=os.path.join(CONFIG.save_dir, 'log.txt'),\n",
        "    format='%(message)s',\n",
        "    level=logging.INFO,\n",
        "    filemode='a'\n",
        ")\n",
        "\n",
        "# Set experiment's device & deterministic behavior\n",
        "if CONFIG.cpu: CONFIG.device = 'cpu'\n",
        "else: CONFIG.device = 'cuda' if torch.cuda.is_available() else 'cpu'\n",
        "\n",
        "torch.manual_seed(CONFIG.seed)\n",
        "random.seed(CONFIG.seed)\n",
        "np.random.seed(CONFIG.seed)\n",
        "torch.backends.cudnn.benchmark = True\n",
        "torch.use_deterministic_algorithms(mode=True, warn_only=True)\n",
        "\n",
        "main(0.55)"
      ]
    },
    {
      "cell_type": "markdown",
      "metadata": {},
      "source": [
        "Art Painting &rightarrow; Sketch"
      ]
    },
    {
      "cell_type": "code",
      "execution_count": null,
      "metadata": {},
      "outputs": [],
      "source": [
        "warnings.filterwarnings('ignore', category=UserWarning)\n",
        "\n",
        "# Parse arguments\n",
        "conf = { # Sketch\n",
        "    'seed': 0,\n",
        "    'test_only': False,\n",
        "    'cpu': False,\n",
        "    'experiment': 'random',\n",
        "    'experiment_name': 'random/case2/sketch/',\n",
        "    'experiment_args': '{}',\n",
        "    'dataset_args': {'text_root': 'data', 'images_root': 'data/kfold/PACS', 'source_domain': 'art_painting', 'target_domain': 'sketch' },\n",
        "    'batch_size': 128,\n",
        "    'epochs': 30,\n",
        "    'num_workers': 5,\n",
        "    'grad_accum_steps': 1\n",
        "}\n",
        "\n",
        "args = argparse.Namespace(**conf)\n",
        "print(args)\n",
        "CONFIG.update(vars(args))\n",
        "\n",
        "# Setup output directory\n",
        "CONFIG.save_dir = os.path.join('record', CONFIG.experiment_name)\n",
        "os.makedirs(CONFIG.save_dir, exist_ok=True)\n",
        "\n",
        "# Setup logging\n",
        "logging.basicConfig(\n",
        "    filename=os.path.join(CONFIG.save_dir, 'log.txt'),\n",
        "    format='%(message)s',\n",
        "    level=logging.INFO,\n",
        "    filemode='a'\n",
        ")\n",
        "\n",
        "# Set experiment's device & deterministic behavior\n",
        "if CONFIG.cpu: CONFIG.device = 'cpu'\n",
        "else: CONFIG.device = 'cuda' if torch.cuda.is_available() else 'cpu'\n",
        "\n",
        "torch.manual_seed(CONFIG.seed)\n",
        "random.seed(CONFIG.seed)\n",
        "np.random.seed(CONFIG.seed)\n",
        "torch.backends.cudnn.benchmark = True\n",
        "torch.use_deterministic_algorithms(mode=True, warn_only=True)\n",
        "\n",
        "main(0.55)"
      ]
    },
    {
      "cell_type": "markdown",
      "metadata": {},
      "source": [
        "Art Painting &rightarrow; Photo"
      ]
    },
    {
      "cell_type": "code",
      "execution_count": null,
      "metadata": {},
      "outputs": [],
      "source": [
        "warnings.filterwarnings('ignore', category=UserWarning)\n",
        "\n",
        "# Parse arguments\n",
        "conf = { # Photo\n",
        "    'seed': 0,\n",
        "    'test_only': False,\n",
        "    'cpu': False,\n",
        "    'experiment': 'random',\n",
        "    'experiment_name': 'random/case2/photo/',\n",
        "    'experiment_args': '{}',\n",
        "    'dataset_args': {'text_root': 'data', 'images_root': 'data/kfold/PACS', 'source_domain': 'art_painting', 'target_domain': 'photo' },\n",
        "    'batch_size': 128,\n",
        "    'epochs': 30,\n",
        "    'num_workers': 5,\n",
        "    'grad_accum_steps': 1\n",
        "}\n",
        "\n",
        "args = argparse.Namespace(**conf)\n",
        "print(args)\n",
        "CONFIG.update(vars(args))\n",
        "\n",
        "# Setup output directory\n",
        "CONFIG.save_dir = os.path.join('record', CONFIG.experiment_name)\n",
        "os.makedirs(CONFIG.save_dir, exist_ok=True)\n",
        "\n",
        "# Setup logging\n",
        "logging.basicConfig(\n",
        "    filename=os.path.join(CONFIG.save_dir, 'log.txt'),\n",
        "    format='%(message)s',\n",
        "    level=logging.INFO,\n",
        "    filemode='a'\n",
        ")\n",
        "\n",
        "# Set experiment's device & deterministic behavior\n",
        "if CONFIG.cpu: CONFIG.device = 'cpu'\n",
        "else: CONFIG.device = 'cuda' if torch.cuda.is_available() else 'cpu'\n",
        "\n",
        "torch.manual_seed(CONFIG.seed)\n",
        "random.seed(CONFIG.seed)\n",
        "np.random.seed(CONFIG.seed)\n",
        "torch.backends.cudnn.benchmark = True\n",
        "torch.use_deterministic_algorithms(mode=True, warn_only=True)\n",
        "\n",
        "main(0.55)"
      ]
    },
    {
      "cell_type": "markdown",
      "metadata": {},
      "source": [
        "### mask out ratio = 0.75"
      ]
    },
    {
      "cell_type": "markdown",
      "metadata": {},
      "source": [
        "Art Painting &rightarrow; Cartoon"
      ]
    },
    {
      "cell_type": "code",
      "execution_count": null,
      "metadata": {},
      "outputs": [],
      "source": [
        "warnings.filterwarnings('ignore', category=UserWarning)\n",
        "\n",
        "# Parse arguments\n",
        "conf = { # Photo\n",
        "    'seed': 0,\n",
        "    'test_only': False,\n",
        "    'cpu': False,\n",
        "    'experiment': 'random',\n",
        "    'experiment_name': 'random/case3/cartoon/',\n",
        "    'experiment_args': '{}',\n",
        "    'dataset_args': {'text_root': 'data', 'images_root': 'data/kfold/PACS', 'source_domain': 'art_painting', 'target_domain': 'cartoon' },\n",
        "    'batch_size': 128,\n",
        "    'epochs': 30,\n",
        "    'num_workers': 5,\n",
        "    'grad_accum_steps': 1\n",
        "}\n",
        "\n",
        "args = argparse.Namespace(**conf)\n",
        "print(args)\n",
        "CONFIG.update(vars(args))\n",
        "\n",
        "# Setup output directory\n",
        "CONFIG.save_dir = os.path.join('record', CONFIG.experiment_name)\n",
        "os.makedirs(CONFIG.save_dir, exist_ok=True)\n",
        "\n",
        "# Setup logging\n",
        "logging.basicConfig(\n",
        "    filename=os.path.join(CONFIG.save_dir, 'log.txt'),\n",
        "    format='%(message)s',\n",
        "    level=logging.INFO,\n",
        "    filemode='a'\n",
        ")\n",
        "\n",
        "# Set experiment's device & deterministic behavior\n",
        "if CONFIG.cpu: CONFIG.device = 'cpu'\n",
        "else: CONFIG.device = 'cuda' if torch.cuda.is_available() else 'cpu'\n",
        "\n",
        "torch.manual_seed(CONFIG.seed)\n",
        "random.seed(CONFIG.seed)\n",
        "np.random.seed(CONFIG.seed)\n",
        "torch.backends.cudnn.benchmark = True\n",
        "torch.use_deterministic_algorithms(mode=True, warn_only=True)\n",
        "\n",
        "main(0.75)"
      ]
    },
    {
      "cell_type": "markdown",
      "metadata": {},
      "source": [
        "Art Painting &rightarrow; Sketch"
      ]
    },
    {
      "cell_type": "code",
      "execution_count": null,
      "metadata": {},
      "outputs": [],
      "source": [
        "warnings.filterwarnings('ignore', category=UserWarning)\n",
        "\n",
        "# Parse arguments\n",
        "conf = { # Photo\n",
        "    'seed': 0,\n",
        "    'test_only': False,\n",
        "    'cpu': False,\n",
        "    'experiment': 'random',\n",
        "    'experiment_name': 'random/case3/sketch/',\n",
        "    'experiment_args': '{}',\n",
        "    'dataset_args': {'text_root': 'data', 'images_root': 'data/kfold/PACS', 'source_domain': 'art_painting', 'target_domain': 'sketch' },\n",
        "    'batch_size': 128,\n",
        "    'epochs': 30,\n",
        "    'num_workers': 5,\n",
        "    'grad_accum_steps': 1\n",
        "}\n",
        "\n",
        "args = argparse.Namespace(**conf)\n",
        "print(args)\n",
        "CONFIG.update(vars(args))\n",
        "\n",
        "# Setup output directory\n",
        "CONFIG.save_dir = os.path.join('record', CONFIG.experiment_name)\n",
        "os.makedirs(CONFIG.save_dir, exist_ok=True)\n",
        "\n",
        "# Setup logging\n",
        "logging.basicConfig(\n",
        "    filename=os.path.join(CONFIG.save_dir, 'log.txt'),\n",
        "    format='%(message)s',\n",
        "    level=logging.INFO,\n",
        "    filemode='a'\n",
        ")\n",
        "\n",
        "# Set experiment's device & deterministic behavior\n",
        "if CONFIG.cpu: CONFIG.device = 'cpu'\n",
        "else: CONFIG.device = 'cuda' if torch.cuda.is_available() else 'cpu'\n",
        "\n",
        "torch.manual_seed(CONFIG.seed)\n",
        "random.seed(CONFIG.seed)\n",
        "np.random.seed(CONFIG.seed)\n",
        "torch.backends.cudnn.benchmark = True\n",
        "torch.use_deterministic_algorithms(mode=True, warn_only=True)\n",
        "\n",
        "main(0.75)"
      ]
    },
    {
      "cell_type": "markdown",
      "metadata": {},
      "source": [
        "Art Painting &rightarrow; Photo"
      ]
    },
    {
      "cell_type": "code",
      "execution_count": null,
      "metadata": {},
      "outputs": [],
      "source": [
        "warnings.filterwarnings('ignore', category=UserWarning)\n",
        "\n",
        "# Parse arguments\n",
        "conf = { # Photo\n",
        "    'seed': 0,\n",
        "    'test_only': False,\n",
        "    'cpu': False,\n",
        "    'experiment': 'random',\n",
        "    'experiment_name': 'random/case3/photo/',\n",
        "    'experiment_args': '{}',\n",
        "    'dataset_args': {'text_root': 'data', 'images_root': 'data/kfold/PACS', 'source_domain': 'art_painting', 'target_domain': 'photo' },\n",
        "    'batch_size': 128,\n",
        "    'epochs': 30,\n",
        "    'num_workers': 5,\n",
        "    'grad_accum_steps': 1\n",
        "}\n",
        "\n",
        "args = argparse.Namespace(**conf)\n",
        "print(args)\n",
        "CONFIG.update(vars(args))\n",
        "\n",
        "# Setup output directory\n",
        "CONFIG.save_dir = os.path.join('record', CONFIG.experiment_name)\n",
        "os.makedirs(CONFIG.save_dir, exist_ok=True)\n",
        "\n",
        "# Setup logging\n",
        "logging.basicConfig(\n",
        "    filename=os.path.join(CONFIG.save_dir, 'log.txt'),\n",
        "    format='%(message)s',\n",
        "    level=logging.INFO,\n",
        "    filemode='a'\n",
        ")\n",
        "\n",
        "# Set experiment's device & deterministic behavior\n",
        "if CONFIG.cpu: CONFIG.device = 'cpu'\n",
        "else: CONFIG.device = 'cuda' if torch.cuda.is_available() else 'cpu'\n",
        "\n",
        "torch.manual_seed(CONFIG.seed)\n",
        "random.seed(CONFIG.seed)\n",
        "np.random.seed(CONFIG.seed)\n",
        "torch.backends.cudnn.benchmark = True\n",
        "torch.use_deterministic_algorithms(mode=True, warn_only=True)\n",
        "\n",
        "main(0.75)"
      ]
    },
    {
      "cell_type": "markdown",
      "metadata": {
        "id": "84SPtogfvmv3"
      },
      "source": [
        "## 3 - Adapting Activation Maps across Domains"
      ]
    },
    {
      "cell_type": "markdown",
      "metadata": {
        "id": "lMwxcUU9vmv3"
      },
      "source": [
        "## Ext. 2 - Binarization Ablation"
      ]
    }
  ],
  "metadata": {
    "accelerator": "GPU",
    "colab": {
      "gpuType": "T4",
      "provenance": []
    },
    "kernelspec": {
      "display_name": "Python 3",
      "name": "python3"
    },
    "language_info": {
      "codemirror_mode": {
        "name": "ipython",
        "version": 3
      },
      "file_extension": ".py",
      "mimetype": "text/x-python",
      "name": "python",
      "nbconvert_exporter": "python",
      "pygments_lexer": "ipython3",
      "version": "3.10.12"
    }
  },
  "nbformat": 4,
  "nbformat_minor": 0
}
