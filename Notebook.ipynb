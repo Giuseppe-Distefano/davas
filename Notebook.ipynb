{
  "cells": [
    {
      "cell_type": "markdown",
      "source": [
        "# Activation Shaping for Domain Adaptation"
      ],
      "metadata": {
        "id": "BJzrlKGF4-bq"
      }
    },
    {
      "cell_type": "markdown",
      "source": [
        "Bar Giorgio\n",
        "\n",
        "Distefano Giuseppe\n",
        "\n",
        "Incaviglia Salvatore"
      ],
      "metadata": {
        "id": "HX5xiEb45DfP"
      }
    },
    {
      "cell_type": "markdown",
      "source": [
        "## Setup"
      ],
      "metadata": {
        "id": "2PeA3dwRKuYf"
      }
    },
    {
      "cell_type": "code",
      "execution_count": null,
      "metadata": {
        "id": "1wndDK4Xo9jQ"
      },
      "outputs": [],
      "source": [
        "import sys, os"
      ]
    },
    {
      "cell_type": "markdown",
      "metadata": {
        "id": "UONW8ndf7gtG"
      },
      "source": [
        "### Check cuda version"
      ]
    },
    {
      "cell_type": "code",
      "source": [
        "!nvidia-smi"
      ],
      "metadata": {
        "id": "FhCzOJuxAVkA"
      },
      "execution_count": null,
      "outputs": []
    },
    {
      "cell_type": "code",
      "execution_count": null,
      "metadata": {
        "id": "pHdx5fXa6-Jz"
      },
      "outputs": [],
      "source": [
        "!nvcc --version"
      ]
    },
    {
      "cell_type": "markdown",
      "source": [
        "### Clone the project"
      ],
      "metadata": {
        "id": "kIdV3VdgLu_6"
      }
    },
    {
      "cell_type": "code",
      "execution_count": null,
      "metadata": {
        "id": "zFbYtcNO8eR1"
      },
      "outputs": [],
      "source": [
        "!pwd\n",
        "!git clone https://github.com/Giuseppe-Distefano/davas.git"
      ]
    },
    {
      "cell_type": "markdown",
      "source": [
        "### Set up the environment"
      ],
      "metadata": {
        "id": "cOAMnfLvLjVQ"
      }
    },
    {
      "cell_type": "code",
      "execution_count": null,
      "metadata": {
        "id": "en8k8fBvoxqu"
      },
      "outputs": [],
      "source": [
        "os.chdir('/content/davas/Code')\n",
        "\n",
        "!pwd\n",
        "# !pip3 install torch torchvision torchaudio --index-url https://download.pytorch.org/whl/cu118\n",
        "# !pip3 install torch torchvision torchaudio torchmetrics --index-url https://download.pytorch.org/whl/cu118\n",
        "!pip3 install lightning\n",
        "\n",
        "!pip install -r requirements.txt"
      ]
    },
    {
      "cell_type": "markdown",
      "source": [
        "### Download PACS Dataset Images and Labels"
      ],
      "metadata": {
        "id": "mMFs3O78NSj1"
      }
    },
    {
      "cell_type": "code",
      "source": [
        "# !git clone https://github.com/MachineLearning2020/Homework3-PACS/\n",
        "# !git clone https://github.com/silvia1993/DANN_Template/\n",
        "\n",
        "os.chdir('/content/davas/Code')\n",
        "\n",
        "!rm -rf data || true\n",
        "!rm -rf record || true\n",
        "\n",
        "!git clone https://github.com/GiorgioBar/PACS.git\n",
        "!mv PACS data\n",
        "\n",
        "!rm -rf sample_data || true"
      ],
      "metadata": {
        "id": "Tz12YArdC4qO"
      },
      "execution_count": null,
      "outputs": []
    },
    {
      "cell_type": "markdown",
      "source": [
        "## Run sections of the project"
      ],
      "metadata": {
        "id": "4F7240Dp5UaW"
      }
    },
    {
      "cell_type": "markdown",
      "source": [
        "### Baseline"
      ],
      "metadata": {
        "id": "F7lqqbKE5aY8"
      }
    },
    {
      "cell_type": "code",
      "source": [
        "os.chdir('/content/davas/Code')\n",
        "!chmod a+x ./launch_scripts/*.sh\n",
        "!rm -rf record || true\n",
        "\n",
        "# Arguments:\n",
        "#  - Target domain\n",
        "!./launch_scripts/baseline.sh cartoon"
      ],
      "metadata": {
        "id": "q90yy0bM5b5y"
      },
      "execution_count": null,
      "outputs": []
    },
    {
      "cell_type": "markdown",
      "source": [
        "### Finding the best configurations"
      ],
      "metadata": {
        "id": "3cPuhv0t5caN"
      }
    },
    {
      "cell_type": "code",
      "source": [
        "os.chdir('/content/davas/Code')\n",
        "!chmod a+x ./launch_scripts/*.sh\n",
        "!rm -rf record || true\n",
        "\n",
        "# Arguments:\n",
        "#  - Target domain\n",
        "#  - Module placement\n",
        "#  - Mask out ratio\n",
        "!./launch_scripts/random.sh cartoon \"'layer1.1.bn2', 'layer2.1.conv2'\" 0.5"
      ],
      "metadata": {
        "id": "RAFqSvWQ5gDz"
      },
      "execution_count": null,
      "outputs": []
    },
    {
      "cell_type": "markdown",
      "source": [
        "### Applying random activation maps"
      ],
      "metadata": {
        "id": "rT7MQQbE5rMP"
      }
    },
    {
      "cell_type": "code",
      "source": [
        "os.chdir('/content/davas/Code')\n",
        "!chmod a+x ./launch_scripts/*.sh\n",
        "!rm -rf record || true\n",
        "\n",
        "# Arguments:\n",
        "#  - Target domain\n",
        "#  - Module placement\n",
        "#  - Mask out ratio\n",
        "!./launch_scripts/random.sh cartoon \"'layer1.1.bn2', 'layer2.1.conv2'\" 0.25"
      ],
      "metadata": {
        "id": "Tq-6Uwpd5ucd"
      },
      "execution_count": null,
      "outputs": []
    },
    {
      "cell_type": "markdown",
      "source": [
        "### Domain Adaptation"
      ],
      "metadata": {
        "id": "CF7ZKhEQ5zib"
      }
    },
    {
      "cell_type": "code",
      "source": [
        "os.chdir('/content/davas/Code')\n",
        "!chmod a+x ./launch_scripts/*.sh\n",
        "!rm -rf record || true\n",
        "\n",
        "# Arguments:\n",
        "#  - Target domain\n",
        "#  - Module placement\n",
        "!./launch_scripts/domain_adaptation.sh cartoon \"'layer1.1.bn2', 'layer2.1.conv2'\""
      ],
      "metadata": {
        "id": "jSHqbnuF51nb"
      },
      "execution_count": null,
      "outputs": []
    },
    {
      "cell_type": "markdown",
      "source": [
        "### Ablation studies, first variation"
      ],
      "metadata": {
        "id": "QCOTo9dc52U9"
      }
    },
    {
      "cell_type": "code",
      "source": [
        "os.chdir('/content/davas/Code')\n",
        "!chmod a+x ./launch_scripts/*.sh\n",
        "!rm -rf record || true\n",
        "\n",
        "# Arguments:\n",
        "#  - Target domain\n",
        "#  - Module placement\n",
        "#  - Mask out ratio\n",
        "!./launch_scripts/random_no_binarization.sh cartoon \"'layer1.1.bn2', 'layer2.1.conv2'\" 0.25\n",
        "\n",
        "# Arguments:\n",
        "#  - Target domain\n",
        "#  - Module placement\n",
        "!./launch_scripts/domain_adaptation_no_binarization.sh cartoon \"'layer1.1.bn2', 'layer2.1.conv2'\""
      ],
      "metadata": {
        "id": "xbiGpVlx55KF"
      },
      "execution_count": null,
      "outputs": []
    },
    {
      "cell_type": "markdown",
      "source": [
        "### Ablation studies, second variation"
      ],
      "metadata": {
        "id": "gH_cTA8f5549"
      }
    },
    {
      "cell_type": "code",
      "source": [
        "os.chdir('/content/davas/Code')\n",
        "!chmod a+x ./launch_scripts/*.sh\n",
        "!rm -rf record || true\n",
        "\n",
        "# Arguments:\n",
        "#  - Target domain\n",
        "#  - Module placement\n",
        "#  - Mask out ratio\n",
        "#  - K values\n",
        "!./launch_scripts/random_top_k.sh sketch \"'layer2.1.bn2'\" 0.5 \"1.0, 1.0, 1.0, 0.5\"\n",
        "\n",
        "# Arguments:\n",
        "#  - Target domain\n",
        "#  - Module placement\n",
        "#  - K values\n",
        "!./launch_scripts/domain_adaptation_top_k.sh sketch \"'layer2.1.bn2'\" \"1.0, 1.0, 1.0, 0.5\""
      ],
      "metadata": {
        "id": "mIhotoBO586L"
      },
      "execution_count": null,
      "outputs": []
    }
  ],
  "metadata": {
    "accelerator": "GPU",
    "colab": {
      "provenance": [],
      "gpuType": "T4"
    },
    "kernelspec": {
      "display_name": "Python 3",
      "name": "python3"
    },
    "language_info": {
      "name": "python"
    }
  },
  "nbformat": 4,
  "nbformat_minor": 0
}